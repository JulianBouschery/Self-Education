{
 "cells": [
  {
   "cell_type": "markdown",
   "id": "ad9f6c11-c22d-4d8b-b794-2563daac6c66",
   "metadata": {},
   "source": [
    "# Git-Anleitung"
   ]
  },
  {
   "cell_type": "markdown",
   "id": "90ff08c7-6cfe-4198-8632-2178e700618b",
   "metadata": {},
   "source": [
    "Auf den Folgenden Seiten erkläre ich die Nutzung von Git (und GitHub).\n",
    "Klick bitte immer auf die blau hinterlegten Links um weiter zu kommen."
   ]
  },
  {
   "cell_type": "markdown",
   "id": "b3fa74a4-1639-4a74-a800-f7b0c8e87daa",
   "metadata": {},
   "source": [
    "## Welches Betriebssystem nutzt du?"
   ]
  },
  {
   "cell_type": "markdown",
   "id": "9b2c1bf2-e016-4a4b-92f3-3a9b5c9af4bf",
   "metadata": {},
   "source": [
    "[Windows](Anleitung_Windows.ipynb)"
   ]
  },
  {
   "cell_type": "markdown",
   "id": "e7668ef0-24df-4698-809b-28a38b3e3be0",
   "metadata": {},
   "source": [
    "[Linux](Anleitung_Linux.ipynb)"
   ]
  },
  {
   "cell_type": "markdown",
   "id": "fa3150d4-65d8-4f62-b7c6-a3cc18d4f04d",
   "metadata": {},
   "source": [
    "[IOS](Anleitung_IOS.ipynb)"
   ]
  },
  {
   "cell_type": "code",
   "execution_count": null,
   "id": "b254b962-8924-48a7-b2ae-7437de96329d",
   "metadata": {},
   "outputs": [],
   "source": []
  }
 ],
 "metadata": {
  "kernelspec": {
   "display_name": "Python 3 (ipykernel)",
   "language": "python",
   "name": "python3"
  },
  "language_info": {
   "codemirror_mode": {
    "name": "ipython",
    "version": 3
   },
   "file_extension": ".py",
   "mimetype": "text/x-python",
   "name": "python",
   "nbconvert_exporter": "python",
   "pygments_lexer": "ipython3",
   "version": "3.12.6"
  }
 },
 "nbformat": 4,
 "nbformat_minor": 5
}
