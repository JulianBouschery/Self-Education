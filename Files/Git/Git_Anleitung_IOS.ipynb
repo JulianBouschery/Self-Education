{
 "cells": [
  {
   "cell_type": "markdown",
   "id": "b6cab617-3a43-47dd-8536-e597d4f0e036",
   "metadata": {},
   "source": [
    "# Anleitung-IOS"
   ]
  },
  {
   "cell_type": "markdown",
   "id": "c53b3e09-6039-4fb5-8075-4c50beb4455f",
   "metadata": {},
   "source": [
    "Noch in Arbeit"
   ]
  },
  {
   "cell_type": "code",
   "execution_count": null,
   "id": "d4d0d5a6-2662-40d0-a384-fc31e952aafd",
   "metadata": {},
   "outputs": [],
   "source": []
  }
 ],
 "metadata": {
  "kernelspec": {
   "display_name": "Python 3 (ipykernel)",
   "language": "python",
   "name": "python3"
  },
  "language_info": {
   "codemirror_mode": {
    "name": "ipython",
    "version": 3
   },
   "file_extension": ".py",
   "mimetype": "text/x-python",
   "name": "python",
   "nbconvert_exporter": "python",
   "pygments_lexer": "ipython3",
   "version": "3.12.6"
  }
 },
 "nbformat": 4,
 "nbformat_minor": 5
}
