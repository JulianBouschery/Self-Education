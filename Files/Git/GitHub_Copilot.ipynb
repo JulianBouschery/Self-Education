{
 "cells": [
  {
   "cell_type": "markdown",
   "id": "8c535f6a-83f4-43eb-ba48-ec9338ebf91c",
   "metadata": {},
   "source": [
    "# GitHub Copilot"
   ]
  },
  {
   "cell_type": "markdown",
   "id": "2348c170-ba0f-4539-872d-738968e2476d",
   "metadata": {},
   "source": [
    "https://www.youtube.com/watch?v=q0PorpN6SQM"
   ]
  },
  {
   "cell_type": "code",
   "execution_count": null,
   "id": "4c090d43-fd35-4235-8378-8ca2b409e82a",
   "metadata": {},
   "outputs": [],
   "source": []
  }
 ],
 "metadata": {
  "kernelspec": {
   "display_name": "Python 3 (ipykernel)",
   "language": "python",
   "name": "python3"
  },
  "language_info": {
   "codemirror_mode": {
    "name": "ipython",
    "version": 3
   },
   "file_extension": ".py",
   "mimetype": "text/x-python",
   "name": "python",
   "nbconvert_exporter": "python",
   "pygments_lexer": "ipython3",
   "version": "3.12.6"
  }
 },
 "nbformat": 4,
 "nbformat_minor": 5
}
