{
 "cells": [
  {
   "cell_type": "markdown",
   "id": "741fd62f-29e8-44a4-a71d-8d1504052116",
   "metadata": {},
   "source": [
    "# Anleitung Git unter Windows"
   ]
  },
  {
   "cell_type": "markdown",
   "id": "c741295a-fba3-49c1-afab-0682c0acf433",
   "metadata": {},
   "source": [
    "1. [Erstellung eines GitHub-Accounts](GitHub_Account.ipynb)"
   ]
  },
  {
   "cell_type": "markdown",
   "id": "e3057912-039b-4cce-b6f0-10b89634ab9f",
   "metadata": {},
   "source": [
    "2. Installation von Jupyter Notebook / Lab / VSCode / VSCodium (Link in anderen Ordner hinbekommen)"
   ]
  },
  {
   "cell_type": "markdown",
   "id": "0f5cc31c-3aa0-425d-8618-6121aa5ff78b",
   "metadata": {},
   "source": [
    "3. [Installation von Git-Bash]()"
   ]
  },
  {
   "cell_type": "markdown",
   "id": "204e6741-885f-45f3-b580-2b75f736fd40",
   "metadata": {},
   "source": [
    "4. [Login bei GitHub]()"
   ]
  },
  {
   "cell_type": "markdown",
   "id": "5794054a-727e-48d1-a4bb-867da0441aec",
   "metadata": {},
   "source": [
    "5. [Nutzung von Git und GitHub](Git_main.ipynb)"
   ]
  },
  {
   "cell_type": "code",
   "execution_count": null,
   "id": "b2168b5d-beaf-401f-838f-70feef66da60",
   "metadata": {},
   "outputs": [],
   "source": []
  }
 ],
 "metadata": {
  "kernelspec": {
   "display_name": "Python 3 (ipykernel)",
   "language": "python",
   "name": "python3"
  },
  "language_info": {
   "codemirror_mode": {
    "name": "ipython",
    "version": 3
   },
   "file_extension": ".py",
   "mimetype": "text/x-python",
   "name": "python",
   "nbconvert_exporter": "python",
   "pygments_lexer": "ipython3",
   "version": "3.12.6"
  }
 },
 "nbformat": 4,
 "nbformat_minor": 5
}
