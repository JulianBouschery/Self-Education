{
 "cells": [
  {
   "cell_type": "markdown",
   "id": "a4d59797-f905-4a03-82d1-775f4f7ee3c8",
   "metadata": {},
   "source": [
    "# Neuronales Netzwerk"
   ]
  },
  {
   "cell_type": "markdown",
   "id": "f9a91872-6eee-44a9-836d-4674f638c399",
   "metadata": {},
   "source": [
    "https://docs.ultralytics.com/de/datasets/classify/mnist/#sample-images-and-annotation"
   ]
  },
  {
   "cell_type": "code",
   "execution_count": null,
   "id": "3895b922-2a8b-4f7b-b76e-26f7525d3489",
   "metadata": {},
   "outputs": [],
   "source": []
  }
 ],
 "metadata": {
  "kernelspec": {
   "display_name": "Python 3 (ipykernel)",
   "language": "python",
   "name": "python3"
  },
  "language_info": {
   "codemirror_mode": {
    "name": "ipython",
    "version": 3
   },
   "file_extension": ".py",
   "mimetype": "text/x-python",
   "name": "python",
   "nbconvert_exporter": "python",
   "pygments_lexer": "ipython3",
   "version": "3.12.6"
  }
 },
 "nbformat": 4,
 "nbformat_minor": 5
}
