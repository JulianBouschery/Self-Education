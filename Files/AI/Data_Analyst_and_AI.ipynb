{
 "cells": [
  {
   "cell_type": "markdown",
   "id": "82e72cc8-064f-4845-973d-996bf5181d46",
   "metadata": {},
   "source": [
    "# Was bedeutet die Entwicklung von KI für den Job als Data-Analyst oder vergleichbare Berufe?"
   ]
  },
  {
   "cell_type": "markdown",
   "id": "a6ac0ef1-f25f-491d-960f-f8e7f76b6ec4",
   "metadata": {},
   "source": [
    "https://www.youtube.com/watch?v=_gF2Mj1354M"
   ]
  },
  {
   "cell_type": "code",
   "execution_count": null,
   "id": "8b28280a-68e2-493f-9a96-d3482b224b56",
   "metadata": {},
   "outputs": [],
   "source": []
  }
 ],
 "metadata": {
  "kernelspec": {
   "display_name": "Python 3 (ipykernel)",
   "language": "python",
   "name": "python3"
  },
  "language_info": {
   "codemirror_mode": {
    "name": "ipython",
    "version": 3
   },
   "file_extension": ".py",
   "mimetype": "text/x-python",
   "name": "python",
   "nbconvert_exporter": "python",
   "pygments_lexer": "ipython3",
   "version": "3.12.6"
  }
 },
 "nbformat": 4,
 "nbformat_minor": 5
}
