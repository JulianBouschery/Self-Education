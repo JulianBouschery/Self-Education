{
 "cells": [
  {
   "cell_type": "markdown",
   "id": "3e592c1e-94b9-4ef4-804c-883276d25771",
   "metadata": {},
   "source": [
    "# PDF in Jupyter Lab / Markdown"
   ]
  },
  {
   "cell_type": "markdown",
   "id": "707e071b-16f6-414b-bc41-3c7e3d7085e9",
   "metadata": {},
   "source": [
    "![PDF](ISLP_python_2024.pdf)"
   ]
  },
  {
   "cell_type": "markdown",
   "id": "d501ff2d-63f9-4180-8c32-1cadc8ca6a23",
   "metadata": {},
   "source": [
    "<iframe src=\"ISLP_python_2024.pdf\" width=\"600\" height=\"500\"></iframe>\n",
    "Test"
   ]
  },
  {
   "cell_type": "markdown",
   "id": "9f04e000-a282-43e1-96b2-610e42975fde",
   "metadata": {},
   "source": [
    "<embed src=\"ISLP_python_2024.pdf\" width=\"600\" height=\"500\" />"
   ]
  }
 ],
 "metadata": {
  "kernelspec": {
   "display_name": "Python 3 (ipykernel)",
   "language": "python",
   "name": "python3"
  },
  "language_info": {
   "codemirror_mode": {
    "name": "ipython",
    "version": 3
   },
   "file_extension": ".py",
   "mimetype": "text/x-python",
   "name": "python",
   "nbconvert_exporter": "python",
   "pygments_lexer": "ipython3",
   "version": "3.12.6"
  }
 },
 "nbformat": 4,
 "nbformat_minor": 5
}
