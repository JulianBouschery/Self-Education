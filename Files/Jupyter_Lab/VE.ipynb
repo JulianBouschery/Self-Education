{
 "cells": [
  {
   "cell_type": "markdown",
   "id": "1be75bd3-daaa-4c88-b169-f62c242bd4b1",
   "metadata": {},
   "source": [
    "# Virtual Environment"
   ]
  },
  {
   "cell_type": "markdown",
   "id": "b4da49d7-de79-4660-a43b-0e9dd0e4e243",
   "metadata": {},
   "source": [
    "## Wie setzt man ein Virtual Environment auf?"
   ]
  },
  {
   "cell_type": "markdown",
   "id": "02e618af-f4bc-430c-8716-d324c764f490",
   "metadata": {},
   "source": [
    "Um eine **virtuelle Umgebung (Virtual Environment, VE)** für Python-Projekte einzurichten, kannst du das Python-Modul **`venv`** oder **`virtualenv`** verwenden. Eine virtuelle Umgebung isoliert Abhängigkeiten eines Projekts, sodass verschiedene Projekte unterschiedliche Versionen derselben Bibliothek verwenden können, ohne Konflikte zu verursachen.\n",
    "\n",
    "Hier ist die Schritt-für-Schritt-Anleitung zur Einrichtung einer virtuellen Umgebung:"
   ]
  },
  {
   "cell_type": "markdown",
   "id": "b735cbd6-9198-434b-9ce8-48a8d71cd04c",
   "metadata": {},
   "source": [
    "### 1. **`venv` verwenden (Standard in Python 3)**"
   ]
  },
  {
   "cell_type": "markdown",
   "id": "03305b97-bb43-4625-8f9e-5fe88269c277",
   "metadata": {},
   "source": [
    "#### a) **Navigiere zu deinem Projektverzeichnis**"
   ]
  },
  {
   "cell_type": "markdown",
   "id": "7ae6ed64-0274-4ae6-b925-ba3b673a0dca",
   "metadata": {},
   "source": [
    "Wechsle in das Verzeichnis, in dem du deine virtuelle Umgebung erstellen möchtest:\n",
    "\n",
    "```bash\n",
    "cd /pfad/zu/deinem/projekt\n",
    "```"
   ]
  },
  {
   "cell_type": "markdown",
   "id": "bde22db3-14d7-413d-b022-f371b3d6a758",
   "metadata": {},
   "source": [
    "#### b) **Erstelle die virtuelle Umgebung**"
   ]
  },
  {
   "cell_type": "markdown",
   "id": "040c8a90-898f-40da-a057-c2652fc39a35",
   "metadata": {},
   "source": [
    "Verwende den folgenden Befehl, um eine virtuelle Umgebung zu erstellen:\n",
    "\n",
    "```bash\n",
    "python -m venv venv_name\n",
    "```\n",
    "\n",
    "- `venv_name`: Der Name der virtuellen Umgebung (oft wird einfach `venv` verwendet).\n",
    "\n",
    "Beispiel:\n",
    "\n",
    "```bash\n",
    "python -m venv venv\n",
    "```"
   ]
  },
  {
   "cell_type": "markdown",
   "id": "3fe10fc9-1f6c-4b1d-9011-992a6b098de2",
   "metadata": {},
   "source": [
    "#### c) **Aktiviere die virtuelle Umgebung**"
   ]
  },
  {
   "cell_type": "markdown",
   "id": "e34c4254-9a17-48ad-8c2d-b5844c718120",
   "metadata": {},
   "source": [
    "- **Windows**:\n",
    "\n",
    "  ```bash\n",
    "  venv\\Scripts\\activate\n",
    "  ```\n",
    "\n",
    "- **Linux/macOS**:\n",
    "\n",
    "  ```bash\n",
    "  source venv/bin/activate\n",
    "  ```"
   ]
  },
  {
   "cell_type": "markdown",
   "id": "7baa7ecc-39c2-4595-b440-2a396db475a8",
   "metadata": {},
   "source": [
    "## .bat Datei zum einfachen Starten des VE's samt Jupyter Lab Server"
   ]
  },
  {
   "cell_type": "markdown",
   "id": "3c73325e-d3ab-481a-b626-2fcdf6ebbccb",
   "metadata": {},
   "source": [
    "Man erstellt eine .bat Datei und schreibt:\n",
    "```python\n",
    "@echo off # Funktion\n",
    "REM In das Projektverzeichnis wechseln # REM ist ein Kommentar\n",
    "cd /d C:\\Users\\user_name\\Desktop\\Projects\\Project_name # Pfad zum VE\n",
    "\n",
    "REM Virtual Environment aktivieren\n",
    "call Project_name_VE\\Scripts\\activate.bat # VE muss bereits existieren\n",
    "\n",
    "REM JupyterLab starten\n",
    "jupyter lab\n",
    "```"
   ]
  },
  {
   "cell_type": "code",
   "execution_count": null,
   "id": "2aaebf60-4585-4de3-9bb8-246377624c67",
   "metadata": {},
   "outputs": [],
   "source": []
  },
  {
   "cell_type": "markdown",
   "id": "254437b6-96f2-4e77-8c3f-6851f8efbf00",
   "metadata": {},
   "source": [
    "## Virtuelle Environment erstellen"
   ]
  },
  {
   "cell_type": "markdown",
   "id": "18a64ae0-2f97-4b05-8018-37f7fb1d3132",
   "metadata": {},
   "source": [
    "`python -m venv Name_für_VE_ausdenken`"
   ]
  },
  {
   "cell_type": "markdown",
   "id": "3daa79d4-fe94-488d-9da9-7c5dab3f7073",
   "metadata": {},
   "source": [
    "Ordner_in_dem_VE_ist: `Name_VE\\Scripts\\activate`"
   ]
  },
  {
   "cell_type": "markdown",
   "id": "b1f85d61-0128-4b6b-bbc1-51780c75d422",
   "metadata": {},
   "source": [
    "Sieht dann etwa so aus: `(Kurs_VE) C:\\Users\\jbous\\Desktop\\Data-Analyst>`"
   ]
  },
  {
   "cell_type": "markdown",
   "id": "58e029a4-5553-42d2-939d-2c45ccb5caff",
   "metadata": {},
   "source": [
    "## Programme in VE installieren"
   ]
  },
  {
   "cell_type": "markdown",
   "id": "ef6ef382-ed13-4dc8-9e05-f29955c9db18",
   "metadata": {},
   "source": [
    "NumPy MUSS VOR SciPy installiert werden, da es auf NumPy"
   ]
  },
  {
   "cell_type": "markdown",
   "id": "36e622bb-4142-411f-b63d-5ae7334291d4",
   "metadata": {},
   "source": [
    "`pip install -r requirements.txt`"
   ]
  },
  {
   "cell_type": "markdown",
   "id": "160ffa04-c6ff-4e2e-a661-369dd187d37c",
   "metadata": {},
   "source": [
    "Oder einzeln installieren:\n",
    "\n",
    "`pip install Modul_name`"
   ]
  },
  {
   "cell_type": "markdown",
   "id": "9ff547b9-1cf8-4b44-9ce1-69eb63b78bd1",
   "metadata": {},
   "source": [
    "Mit `pip list` kann man Prüfen welche Module im entsprechenden Bereich (VE) installiert sind."
   ]
  },
  {
   "cell_type": "markdown",
   "id": "2be2c32e-c8b0-4c92-a185-53bd2fa03e32",
   "metadata": {},
   "source": [
    "## Prüfen wo Python Module liegen"
   ]
  },
  {
   "cell_type": "code",
   "execution_count": null,
   "id": "2abacdfb-7f54-4ed9-9819-eceb411aca4d",
   "metadata": {},
   "outputs": [],
   "source": [
    "import sys\n",
    "sys.path"
   ]
  },
  {
   "cell_type": "code",
   "execution_count": null,
   "id": "28a6babb-5470-4ded-a3b5-4364f059a25f",
   "metadata": {},
   "outputs": [],
   "source": [
    "import os\n",
    "\n",
    "os.getcwd()"
   ]
  },
  {
   "cell_type": "code",
   "execution_count": null,
   "id": "bd9037a2-9263-432f-bc26-2b86e56a981f",
   "metadata": {},
   "outputs": [],
   "source": []
  },
  {
   "cell_type": "markdown",
   "id": "c12ca8dc-91e8-4d70-a82c-7efb427d9b45",
   "metadata": {},
   "source": [
    "Daniel Barty für Verknüpfung fragen"
   ]
  }
 ],
 "metadata": {
  "kernelspec": {
   "display_name": "Python 3 (ipykernel)",
   "language": "python",
   "name": "python3"
  },
  "language_info": {
   "codemirror_mode": {
    "name": "ipython",
    "version": 3
   },
   "file_extension": ".py",
   "mimetype": "text/x-python",
   "name": "python",
   "nbconvert_exporter": "python",
   "pygments_lexer": "ipython3",
   "version": "3.12.6"
  }
 },
 "nbformat": 4,
 "nbformat_minor": 5
}
