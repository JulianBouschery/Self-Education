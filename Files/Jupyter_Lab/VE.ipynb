{
 "cells": [
  {
   "cell_type": "markdown",
   "id": "1be75bd3-daaa-4c88-b169-f62c242bd4b1",
   "metadata": {},
   "source": [
    "# Virtual Environment"
   ]
  },
  {
   "cell_type": "markdown",
   "id": "b4da49d7-de79-4660-a43b-0e9dd0e4e243",
   "metadata": {},
   "source": [
    "## Wie setzt man ein Virtual Environment auf?"
   ]
  },
  {
   "cell_type": "markdown",
   "id": "02e618af-f4bc-430c-8716-d324c764f490",
   "metadata": {},
   "source": [
    "Um eine **virtuelle Umgebung (Virtual Environment, VE)** für Python-Projekte einzurichten, kannst du das Python-Modul **`venv`** oder **`virtualenv`** verwenden. Eine virtuelle Umgebung isoliert Abhängigkeiten eines Projekts, sodass verschiedene Projekte unterschiedliche Versionen derselben Bibliothek verwenden können, ohne Konflikte zu verursachen.\n",
    "\n",
    "Hier ist die Schritt-für-Schritt-Anleitung zur Einrichtung einer virtuellen Umgebung:"
   ]
  },
  {
   "cell_type": "markdown",
   "id": "b735cbd6-9198-434b-9ce8-48a8d71cd04c",
   "metadata": {},
   "source": [
    "### 1. **`venv` verwenden (Standard in Python 3)**"
   ]
  },
  {
   "cell_type": "markdown",
   "id": "03305b97-bb43-4625-8f9e-5fe88269c277",
   "metadata": {},
   "source": [
    "#### a) **Navigiere zu deinem Projektverzeichnis**"
   ]
  },
  {
   "cell_type": "markdown",
   "id": "7ae6ed64-0274-4ae6-b925-ba3b673a0dca",
   "metadata": {},
   "source": [
    "Wechsle in das Verzeichnis, in dem du deine virtuelle Umgebung erstellen möchtest:\n",
    "\n",
    "```bash\n",
    "cd /pfad/zu/deinem/projekt\n",
    "```"
   ]
  },
  {
   "cell_type": "markdown",
   "id": "bde22db3-14d7-413d-b022-f371b3d6a758",
   "metadata": {},
   "source": [
    "#### b) **Erstelle die virtuelle Umgebung**"
   ]
  },
  {
   "cell_type": "markdown",
   "id": "040c8a90-898f-40da-a057-c2652fc39a35",
   "metadata": {},
   "source": [
    "Verwende den folgenden Befehl, um eine virtuelle Umgebung zu erstellen:\n",
    "\n",
    "```bash\n",
    "python -m venv venv_name\n",
    "```\n",
    "\n",
    "- `venv_name`: Der Name der virtuellen Umgebung (oft wird einfach `venv` verwendet).\n",
    "\n",
    "Beispiel:\n",
    "\n",
    "```bash\n",
    "python -m venv venv\n",
    "```"
   ]
  },
  {
   "cell_type": "markdown",
   "id": "3fe10fc9-1f6c-4b1d-9011-992a6b098de2",
   "metadata": {},
   "source": [
    "#### c) **Aktiviere die virtuelle Umgebung**"
   ]
  },
  {
   "cell_type": "markdown",
   "id": "e34c4254-9a17-48ad-8c2d-b5844c718120",
   "metadata": {},
   "source": [
    "- **Windows**:\n",
    "\n",
    "  ```bash\n",
    "  venv\\Scripts\\activate\n",
    "  ```\n",
    "\n",
    "- **Linux/macOS**:\n",
    "\n",
    "  ```bash\n",
    "  source venv/bin/activate\n",
    "  ```"
   ]
  },
  {
   "cell_type": "markdown",
   "id": "7baa7ecc-39c2-4595-b440-2a396db475a8",
   "metadata": {},
   "source": [
    "## .bat Datei zum einfachen Starten des VE's samt Jupyter Lab Server"
   ]
  },
  {
   "cell_type": "markdown",
   "id": "3c73325e-d3ab-481a-b626-2fcdf6ebbccb",
   "metadata": {},
   "source": [
    "Man erstellt eine .bat Datei und schreibt:\n",
    "```python\n",
    "@echo off # Funktion\n",
    "REM In das Projektverzeichnis wechseln # REM ist ein Kommentar\n",
    "cd /d C:\\Users\\user_name\\Desktop\\Projects\\Project_name # Pfad zum VE\n",
    "\n",
    "REM Virtual Environment aktivieren\n",
    "call Project_name_VE\\Scripts\\activate.bat # VE muss bereits existieren\n",
    "\n",
    "REM JupyterLab starten\n",
    "jupyter lab\n",
    "```"
   ]
  },
  {
   "cell_type": "code",
   "execution_count": null,
   "id": "2aaebf60-4585-4de3-9bb8-246377624c67",
   "metadata": {},
   "outputs": [],
   "source": []
  },
  {
   "cell_type": "markdown",
   "id": "254437b6-96f2-4e77-8c3f-6851f8efbf00",
   "metadata": {},
   "source": [
    "## Virtuelle Environment erstellen"
   ]
  },
  {
   "cell_type": "markdown",
   "id": "18a64ae0-2f97-4b05-8018-37f7fb1d3132",
   "metadata": {},
   "source": [
    "`python -m venv Name_für_VE_ausdenken`"
   ]
  },
  {
   "cell_type": "markdown",
   "id": "3daa79d4-fe94-488d-9da9-7c5dab3f7073",
   "metadata": {},
   "source": [
    "Ordner_in_dem_VE_ist: `Name_VE\\Scripts\\activate`"
   ]
  },
  {
   "cell_type": "markdown",
   "id": "b1f85d61-0128-4b6b-bbc1-51780c75d422",
   "metadata": {},
   "source": [
    "Sieht dann etwa so aus: `(Kurs_VE) C:\\Users\\jbous\\Desktop\\Data-Analyst>`"
   ]
  },
  {
   "cell_type": "markdown",
   "id": "58e029a4-5553-42d2-939d-2c45ccb5caff",
   "metadata": {},
   "source": [
    "## Programme in VE installieren"
   ]
  },
  {
   "cell_type": "markdown",
   "id": "ef6ef382-ed13-4dc8-9e05-f29955c9db18",
   "metadata": {},
   "source": [
    "NumPy MUSS VOR SciPy installiert werden, da es auf NumPy"
   ]
  },
  {
   "cell_type": "markdown",
   "id": "36e622bb-4142-411f-b63d-5ae7334291d4",
   "metadata": {},
   "source": [
    "`pip install -r requirements.txt`"
   ]
  },
  {
   "cell_type": "markdown",
   "id": "160ffa04-c6ff-4e2e-a661-369dd187d37c",
   "metadata": {},
   "source": [
    "Oder einzeln installieren:\n",
    "\n",
    "`pip install Modul_name`"
   ]
  },
  {
   "cell_type": "markdown",
   "id": "9ff547b9-1cf8-4b44-9ce1-69eb63b78bd1",
   "metadata": {},
   "source": [
    "Mit `pip list` kann man Prüfen welche Module im entsprechenden Bereich (VE) installiert sind."
   ]
  },
  {
   "cell_type": "markdown",
   "id": "2be2c32e-c8b0-4c92-a185-53bd2fa03e32",
   "metadata": {},
   "source": [
    "## Prüfen wo Python Module liegen"
   ]
  },
  {
   "cell_type": "code",
   "execution_count": null,
   "id": "2abacdfb-7f54-4ed9-9819-eceb411aca4d",
   "metadata": {},
   "outputs": [],
   "source": [
    "import sys\n",
    "sys.path"
   ]
  },
  {
   "cell_type": "code",
   "execution_count": null,
   "id": "28a6babb-5470-4ded-a3b5-4364f059a25f",
   "metadata": {},
   "outputs": [],
   "source": [
    "import os\n",
    "\n",
    "os.getcwd()"
   ]
  },
  {
   "cell_type": "code",
   "execution_count": null,
   "id": "bd9037a2-9263-432f-bc26-2b86e56a981f",
   "metadata": {},
   "outputs": [],
   "source": []
  },
  {
   "cell_type": "markdown",
   "id": "c12ca8dc-91e8-4d70-a82c-7efb427d9b45",
   "metadata": {},
   "source": [
    "Daniel Barty für Verknüpfung fragen"
   ]
  },
  {
   "cell_type": "code",
   "execution_count": 1,
   "id": "4dea7cb2-59c0-4f15-bb3a-8284eeec6d7c",
   "metadata": {},
   "outputs": [
    {
     "name": "stdout",
     "output_type": "stream",
     "text": [
      "Package                   Version\n",
      "------------------------- --------------\n",
      "absl-py                   2.1.0\n",
      "anyio                     4.4.0\n",
      "argon2-cffi               23.1.0\n",
      "argon2-cffi-bindings      21.2.0\n",
      "arrow                     1.3.0\n",
      "asttokens                 2.4.1\n",
      "astunparse                1.6.3\n",
      "async-lru                 2.0.4\n",
      "attrs                     24.2.0\n",
      "babel                     2.16.0\n",
      "beautifulsoup4            4.12.3\n",
      "bleach                    6.1.0\n",
      "blinker                   1.8.2\n",
      "certifi                   2024.8.30\n",
      "cffi                      1.17.1\n",
      "charset-normalizer        3.3.2\n",
      "click                     8.1.7\n",
      "colorama                  0.4.6\n",
      "comm                      0.2.2\n",
      "contourpy                 1.3.0\n",
      "cycler                    0.12.1\n",
      "debugpy                   1.8.5\n",
      "decorator                 5.1.1\n",
      "defusedxml                0.7.1\n",
      "et-xmlfile                1.1.0\n",
      "executing                 2.1.0\n",
      "fastjsonschema            2.20.0\n",
      "Flask                     3.0.3\n",
      "flatbuffers               24.3.25\n",
      "fonttools                 4.53.1\n",
      "fqdn                      1.5.1\n",
      "frozendict                2.4.5\n",
      "gast                      0.6.0\n",
      "google-pasta              0.2.0\n",
      "grpcio                    1.66.2\n",
      "h11                       0.14.0\n",
      "h5py                      3.12.1\n",
      "html5lib                  1.1\n",
      "httpcore                  1.0.5\n",
      "httpx                     0.27.2\n",
      "idna                      3.8\n",
      "ipykernel                 6.29.5\n",
      "ipython                   8.27.0\n",
      "ipywidgets                8.1.5\n",
      "isoduration               20.11.0\n",
      "itsdangerous              2.2.0\n",
      "jedi                      0.19.1\n",
      "Jinja2                    3.1.4\n",
      "joblib                    1.4.2\n",
      "json5                     0.9.25\n",
      "jsonpointer               3.0.0\n",
      "jsonschema                4.23.0\n",
      "jsonschema-specifications 2023.12.1\n",
      "jupyter_client            8.6.2\n",
      "jupyter_core              5.7.2\n",
      "jupyter-events            0.10.0\n",
      "jupyter-lsp               2.2.5\n",
      "jupyter_server            2.14.2\n",
      "jupyter_server_terminals  0.5.3\n",
      "jupyterlab                4.2.5\n",
      "jupyterlab_pygments       0.3.0\n",
      "jupyterlab_server         2.27.3\n",
      "jupyterlab_widgets        3.0.13\n",
      "keras                     3.6.0\n",
      "kiwisolver                1.4.7\n",
      "libclang                  18.1.1\n",
      "lxml                      5.3.0\n",
      "Markdown                  3.7\n",
      "markdown-it-py            3.0.0\n",
      "MarkupSafe                2.1.5\n",
      "matplotlib                3.9.2\n",
      "matplotlib-inline         0.1.7\n",
      "matplotlip                0.2\n",
      "mdurl                     0.1.2\n",
      "mistune                   3.0.2\n",
      "ml-dtypes                 0.4.1\n",
      "multitasking              0.0.11\n",
      "namex                     0.0.8\n",
      "nbclient                  0.10.0\n",
      "nbconvert                 7.16.4\n",
      "nbformat                  5.10.4\n",
      "nest-asyncio              1.6.0\n",
      "notebook_shim             0.2.4\n",
      "numpy                     1.26.4\n",
      "openpyxl                  3.1.5\n",
      "opt_einsum                3.4.0\n",
      "optree                    0.13.0\n",
      "overrides                 7.7.0\n",
      "packaging                 24.1\n",
      "pandas                    2.2.2\n",
      "pandocfilters             1.5.1\n",
      "parso                     0.8.4\n",
      "patsy                     0.5.6\n",
      "peewee                    3.17.6\n",
      "pillow                    10.4.0\n",
      "pip                       24.2\n",
      "platformdirs              4.3.2\n",
      "prometheus_client         0.20.0\n",
      "prompt_toolkit            3.0.47\n",
      "protobuf                  4.25.5\n",
      "psutil                    6.0.0\n",
      "pure_eval                 0.2.3\n",
      "pycparser                 2.22\n",
      "Pygments                  2.18.0\n",
      "pyparsing                 3.1.4\n",
      "python-dateutil           2.9.0.post0\n",
      "python-json-logger        2.0.7\n",
      "pytz                      2024.2\n",
      "pywin32                   306\n",
      "pywinpty                  2.0.13\n",
      "PyYAML                    6.0.2\n",
      "pyzmq                     26.2.0\n",
      "referencing               0.35.1\n",
      "requests                  2.32.3\n",
      "rfc3339-validator         0.1.4\n",
      "rfc3986-validator         0.1.1\n",
      "rich                      13.9.2\n",
      "rpds-py                   0.20.0\n",
      "scikit-learn              1.5.2\n",
      "scipy                     1.14.1\n",
      "seaborn                   0.13.2\n",
      "Send2Trash                1.8.3\n",
      "setuptools                74.1.2\n",
      "six                       1.16.0\n",
      "sniffio                   1.3.1\n",
      "soupsieve                 2.6\n",
      "stack-data                0.6.3\n",
      "statsmodels               0.14.3\n",
      "tensorboard               2.17.1\n",
      "tensorboard-data-server   0.7.2\n",
      "tensorflow                2.17.0\n",
      "tensorflow-intel          2.17.0\n",
      "termcolor                 2.5.0\n",
      "terminado                 0.18.1\n",
      "threadpoolctl             3.5.0\n",
      "tinycss2                  1.3.0\n",
      "tornado                   6.4.1\n",
      "traitlets                 5.14.3\n",
      "types-python-dateutil     2.9.0.20240906\n",
      "typing_extensions         4.12.2\n",
      "tzdata                    2024.1\n",
      "uri-template              1.3.0\n",
      "urllib3                   2.2.2\n",
      "wcwidth                   0.2.13\n",
      "webcolors                 24.8.0\n",
      "webencodings              0.5.1\n",
      "websocket-client          1.8.0\n",
      "Werkzeug                  3.0.4\n",
      "wheel                     0.44.0\n",
      "widgetsnbextension        4.0.13\n",
      "wrapt                     1.16.0\n",
      "xlrd                      2.0.1\n",
      "yfinance                  0.2.44\n",
      "Note: you may need to restart the kernel to use updated packages.\n"
     ]
    }
   ],
   "source": [
    "pip list"
   ]
  },
  {
   "cell_type": "code",
   "execution_count": null,
   "id": "0f32ed6a-b21c-4e16-a427-b86fe93c2202",
   "metadata": {},
   "outputs": [],
   "source": []
  }
 ],
 "metadata": {
  "kernelspec": {
   "display_name": "Python 3 (ipykernel)",
   "language": "python",
   "name": "python3"
  },
  "language_info": {
   "codemirror_mode": {
    "name": "ipython",
    "version": 3
   },
   "file_extension": ".py",
   "mimetype": "text/x-python",
   "name": "python",
   "nbconvert_exporter": "python",
   "pygments_lexer": "ipython3",
   "version": "3.12.6"
  }
 },
 "nbformat": 4,
 "nbformat_minor": 5
}
