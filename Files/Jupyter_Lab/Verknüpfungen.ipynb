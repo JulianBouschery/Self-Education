{
 "cells": [
  {
   "cell_type": "markdown",
   "id": "42dcb427-f6bf-4a8d-8151-338d8b0f8a9d",
   "metadata": {},
   "source": [
    "# Verknüpfungen innerhalb von Jupyter Lab"
   ]
  },
  {
   "cell_type": "markdown",
   "id": "1c1e6838-873c-419a-8e0f-05cc1ef61765",
   "metadata": {},
   "source": [
    "Um die Ordner Struktur und ihre Verküpfungen untereinander so zu erstellen, wie ich es getan habe, ist es wichtig einige Punkte zu wissen. "
   ]
  },
  {
   "cell_type": "markdown",
   "id": "ad169ec1-89e8-4deb-8dcc-0cdf9f0996e1",
   "metadata": {},
   "source": [
    "### Generelle Syntax:"
   ]
  },
  {
   "cell_type": "markdown",
   "id": "5866dd89-c389-4b46-bb52-7dccabe376cc",
   "metadata": {},
   "source": [
    "Um eine Verküpfung (Hyperlink) zu einer Website, oder einer Datei zu erstellen, muss man zuerst Eckige Klammern [] mit der Beziechung des Links gefolgt von runden Klammern () mit dem eigentlichen Link in einem Markdown-Format schreiben.\n",
    "\n",
    "Link: [Google](https://www.google.de/?hl=de)\n",
    "```python\n",
    "[Google](https://www.google.de/?hl=de)\n",
    "```"
   ]
  },
  {
   "cell_type": "markdown",
   "id": "4a3f4318-a4ef-49be-aaa0-16b74d516287",
   "metadata": {},
   "source": [
    "Klickt man auf einen solchen Link und schließt das Fenster wieder müsste man im letzten Fenster landen, dass man vor dem Schließen des Fensters offen hatte, also meistens das wo der Link stand.  "
   ]
  },
  {
   "cell_type": "markdown",
   "id": "adfe74c9-7650-4b22-b29f-b9df85f87eb1",
   "metadata": {},
   "source": [
    "### Absoluter vs. relativer Pfad"
   ]
  },
  {
   "cell_type": "markdown",
   "id": "e9a3540e-b821-4f2e-8805-b05f769862b8",
   "metadata": {},
   "source": [
    "Für Dateien kann man sowohl den relativen, als auch den Absoluten Pfad verwenden. \n",
    "Allerdings würde diese Sammlung von Dateien nur auf meinem eigenen Computer funktionieren, wenn ich Absoluten Pfad verwenden würde. Außerdem dürfte ich die den Ordner mit allen Dateien nie verschieben was viel zu unpraktisch ist. \n",
    "\n",
    "Absoluter Pfad:\n",
    "```markdown\n",
    "[Datei2](C:/Users/DeinName/Ordner/datei2.txt)\n",
    "```\n",
    "Relativer Pfad:\n",
    "```markdown\n",
    "[Datei1](./unterordner/datei1.txt)\n",
    "```\n",
    "\n",
    "Stattdessen verwende ich in dieser Ordnerstruktur `relative Pfade`.\n",
    "Wenn diese komplexer werden müssen allerdings ein paar Dinge beachtet werden, welche im folgenden erklärt werden."
   ]
  },
  {
   "cell_type": "markdown",
   "id": "a244d90e-c31f-459b-b4ad-837e294bec5e",
   "metadata": {},
   "source": [
    "Wenn man Ordner in Jupyterlab umbenennen will und dieser Ordner enthält bereits andere Dateien, dann müssen diese Dateien, oder meist Jupyter Lab (inklusive Server) geschlossen werden, bevor man den Ordner manuell über den Windows-Explorer umbenennen kann. Schlägt das Umbennenen einer Datei fehl kann es außerdem sein, dass eine Kopie des Ordners unter dem neuen Namen erstellt wurde, wobei man darauf achten muss auf welchem Stand dieser Ordner ist. Generell empfehle ich einen der beiden Ordner zu löschen um keine Dopplung zu haben, was zu Problemen führen kann."
   ]
  },
  {
   "cell_type": "markdown",
   "id": "b34a9765-7876-46f2-bf2f-d2cdcca57d7d",
   "metadata": {},
   "source": [
    "## Variationen des relativen Pfads"
   ]
  },
  {
   "cell_type": "markdown",
   "id": "6710d004-b0f9-4a72-afc4-bbcc0a54166b",
   "metadata": {},
   "source": [
    "### Option 1"
   ]
  },
  {
   "cell_type": "markdown",
   "id": "15a1872f-688d-4406-8464-f7730cfca4ae",
   "metadata": {},
   "source": [
    "Link zu einer Datei im selben Order:\n",
    "[Inhaltsverzeichnis](_Inhaltsverzeichnis_Jupyter_Lab_.ipynb)\n",
    "\n",
    "Syntax:\n",
    "```python\n",
    "[Inhaltsverzeichnis](_Inhaltsverzeichnis_Jupyter_Lab_.ipynb)\n",
    "```"
   ]
  },
  {
   "cell_type": "markdown",
   "id": "71b6ede9-1a9f-4e8f-89c4-9fb1c886d957",
   "metadata": {},
   "source": [
    "### Option 2"
   ]
  },
  {
   "cell_type": "markdown",
   "id": "3c5a7f93-0928-48b8-b6eb-1bff804da816",
   "metadata": {},
   "source": [
    "Link zu einer Beispiel-Datei in einem Unterordner: [Beispiel-Datei](Beispiel_Ordner/Beispiel1.ipynb)\n",
    "\n",
    "Syntax:\n",
    "```python\n",
    "[Beispiel-Datei](Beispiel_Ordner/Beispiel.ipynb)\n",
    "\n",
    "[Beispiel-Datei](Ordnername/Dateiname.ipynb)\n",
    "```\n"
   ]
  },
  {
   "cell_type": "markdown",
   "id": "e2ec575a-7ff6-4b1c-b770-cb094823a901",
   "metadata": {},
   "source": [
    "### Option 3"
   ]
  },
  {
   "cell_type": "markdown",
   "id": "f500e9ba-ec46-4ee1-9400-0f5720579f8f",
   "metadata": {},
   "source": [
    "Link zu einer Datei in einem übergeordnetem Verzeichnis:\n",
    "[Haupt-Inhaltsverzeichnis](../_Inhaltsverzeichnis_.ipynb)\n",
    "\n",
    "Syntax:\n",
    "```python\n",
    "[Haupt-Inhaltsverzeichnis](../_Inhaltsverzeichnis_.ipynb)\n",
    "\n",
    "[Haupt-Inhaltsverzeichnis](../Dateiname.ipynb)\n",
    "```\n",
    "Der `..` sorgt dafür das man EINEN Ordner zurück geht. Weiter als funktioniert mit dieser Syntax nicht."
   ]
  },
  {
   "cell_type": "markdown",
   "id": "3049f467-7380-4a88-b66a-6c00d409a023",
   "metadata": {},
   "source": [
    "### Option 4"
   ]
  },
  {
   "cell_type": "markdown",
   "id": "256146e4-ae1f-4b87-aa2d-068a039c94b8",
   "metadata": {},
   "source": [
    "[Link zu Beispiel1](./Beispiel_Ordner/Beispiel1.ipynb)\n",
    "\n",
    "[Link zu Beispiel 2](./Beispiel_Ordner/Beispiel_Ordner_1/Beispiel_Ordner_2/Beispiel2.ipynb)"
   ]
  },
  {
   "cell_type": "markdown",
   "id": "a456cdb3-505f-4d4e-8ee7-dd86d41fee74",
   "metadata": {
    "jp-MarkdownHeadingCollapsed": true
   },
   "source": [
    "# Alternativ Empfehlung von Chat GPT"
   ]
  },
  {
   "cell_type": "markdown",
   "id": "3cb7c3e0-1a5d-4bc0-a6f6-bb642a78a1df",
   "metadata": {},
   "source": [
    "In JupyterLab kannst du in Markdown-Zellen tatsächlich Links erstellen, die auf lokale Dateien oder Verzeichnisse verweisen. Diese Links funktionieren im Prinzip genauso wie reguläre Hyperlinks, allerdings wirst du nicht direkt in den JupyterLab-Dateibrowser navigieren, sondern den Dateipfad öffnen (zum Beispiel um eine Datei herunterzuladen).\n",
    "\n",
    "Hier ist ein Überblick, was möglich ist und was nicht:\n",
    "\n",
    "### 1. **Markdown-Link zu einer lokalen Datei oder einem Ordner**\n",
    "\n",
    "Du kannst einen Markdown-Link zu einer Datei oder einem Ordner erstellen, indem du den absoluten oder relativen Pfad angibst. Wenn du darauf klickst, öffnet JupyterLab die Datei entweder im Editor (wenn es sich um eine Textdatei handelt) oder bietet dir an, sie herunterzuladen (wenn es sich um eine andere Dateityp handelt).\n",
    "\n",
    "Beispiel in einer Markdown-Zelle:\n",
    "\n",
    "```markdown\n",
    "[Öffne die Datei](./unterordner/meine_datei.txt)\n",
    "```\n",
    "\n",
    "Oder ein absoluter Pfad:\n",
    "\n",
    "```markdown\n",
    "[Öffne die Datei](C:/Users/DeinName/Ordner/meine_datei.txt)\n",
    "```\n",
    "\n",
    "Wenn du auf diesen Link klickst, wird die Datei direkt im JupyterLab geöffnet (falls der Dateityp unterstützt wird) oder als Download angeboten.\n",
    "\n",
    "### 2. **Navigieren zu einem Ordner**\n",
    "\n",
    "Leider kannst du **nicht direkt** in einen Ordner innerhalb des JupyterLab-Filebrowsers navigieren, indem du einen Link in einer Markdown-Zelle verwendest. Der Markdown-Link funktioniert wie ein Standard-Hyperlink und verweist auf eine Datei, die geöffnet oder heruntergeladen werden kann.\n",
    "\n",
    "### 3. **Verlinkung in ein anderes Notebook**\n",
    "\n",
    "Du kannst einen Link zu einem anderen Notebook oder einer anderen Datei innerhalb deines Projekts erstellen. Wenn sich die Datei in einem anderen Ordner befindet, kannst du den relativen Pfad nutzen:\n",
    "\n",
    "```markdown\n",
    "[Öffne ein anderes Notebook](../anderer_ordner/notebook.ipynb)\n",
    "```\n",
    "\n",
    "Wenn du auf diesen Link klickst, wird das Notebook in JupyterLab im aktuellen Fenster geöffnet.\n",
    "\n",
    "### 4. **Alternative: JupyterLab Dateibrowser verwenden**\n",
    "\n",
    "Wenn du zwischen Verzeichnissen navigieren möchtest, kannst du den **Dateibrowser** von JupyterLab verwenden (normalerweise auf der linken Seite des Bildschirms sichtbar). Hier kannst du einfach durch deine Verzeichnisse navigieren und auf Dateien klicken, um sie zu öffnen.\n",
    "\n",
    "### 5. **IPython Magics für Dateinavigation**\n",
    "\n",
    "Falls du in einer Codezelle programmatisch das Verzeichnis wechseln möchtest, kannst du IPython-Magic-Befehle verwenden:\n",
    "\n",
    "```python\n",
    "%cd ../anderer_ordner\n",
    "```\n",
    "\n",
    "Dieser Befehl ändert das Arbeitsverzeichnis in ein anderes Verzeichnis, sodass du danach auf Dateien aus diesem Verzeichnis zugreifen kannst.\n",
    "\n",
    "### Zusammenfassung:\n",
    "- Du kannst **Markdown-Links** verwenden, um lokale Dateien zu öffnen oder herunterzuladen, aber du kannst nicht direkt in ein anderes Verzeichnis im JupyterLab-Dateibrowser navigieren.\n",
    "- **Relative** und **absolute Pfade** funktionieren für Dateien.\n",
    "- Zum Navigieren durch Verzeichnisse solltest du den **Dateibrowser** in JupyterLab oder den **`%cd`**-Befehl verwenden."
   ]
  },
  {
   "cell_type": "code",
   "execution_count": null,
   "id": "d728e5cf-6ff3-45c4-8c04-e6b16aabd284",
   "metadata": {},
   "outputs": [],
   "source": []
  }
 ],
 "metadata": {
  "kernelspec": {
   "display_name": "Python 3 (ipykernel)",
   "language": "python",
   "name": "python3"
  },
  "language_info": {
   "codemirror_mode": {
    "name": "ipython",
    "version": 3
   },
   "file_extension": ".py",
   "mimetype": "text/x-python",
   "name": "python",
   "nbconvert_exporter": "python",
   "pygments_lexer": "ipython3",
   "version": "3.12.6"
  }
 },
 "nbformat": 4,
 "nbformat_minor": 5
}
