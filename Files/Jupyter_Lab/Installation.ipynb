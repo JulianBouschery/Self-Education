{
 "cells": [
  {
   "cell_type": "markdown",
   "id": "89b30a3b-c1e7-4502-8f97-5b3c4a21b155",
   "metadata": {},
   "source": [
    "Siehe auch:"
   ]
  },
  {
   "cell_type": "markdown",
   "id": "81bb88d6-f5e5-4143-a2dc-e3dba0edaa9f",
   "metadata": {},
   "source": [
    "[requirements](requirements.txt.)"
   ]
  },
  {
   "cell_type": "markdown",
   "id": "8285c1fa-a42a-4bc1-a927-6a17688c9956",
   "metadata": {},
   "source": [
    "[Images](Images.ipynb)"
   ]
  },
  {
   "cell_type": "markdown",
   "id": "67c121c3-f9e1-4355-9414-e9fe08068fc4",
   "metadata": {},
   "source": [
    "# Installation"
   ]
  },
  {
   "cell_type": "markdown",
   "id": "2e4311cc-2c54-4c29-af89-e110b1eaab08",
   "metadata": {},
   "source": [
    "## Virtuelle Environment erstellen"
   ]
  },
  {
   "cell_type": "markdown",
   "id": "3440df23-ef49-40f7-a3b5-84162c0ff352",
   "metadata": {},
   "source": [
    "`python -m venv Name_für_VE_ausdenken`"
   ]
  },
  {
   "cell_type": "markdown",
   "id": "4446d52b-edcf-4ab4-b0c0-8ce13df9b9c6",
   "metadata": {},
   "source": [
    "Ordner_in_dem_VE_ist: `Name_VE\\Scripts\\activate`"
   ]
  },
  {
   "cell_type": "markdown",
   "id": "f2b0eddf-76db-48e1-9105-d503d37cb53a",
   "metadata": {},
   "source": [
    "Sieht dann etwa so aus: `(Kurs_VE) C:\\Users\\jbous\\Desktop\\Data-Analyst>`"
   ]
  },
  {
   "cell_type": "markdown",
   "id": "ded7dac0-52c5-481d-aea5-19a829fcb8de",
   "metadata": {},
   "source": [
    "## Programme in VE installieren"
   ]
  },
  {
   "cell_type": "markdown",
   "id": "ece7d3e8-d48f-4bd8-a3f6-6a1b2cbfd385",
   "metadata": {},
   "source": [
    "NumPy MUSS VOR SciPy installiert werden, da es auf NumPy"
   ]
  },
  {
   "cell_type": "markdown",
   "id": "09167a84-e7db-428c-b1cf-71b1025dfdf5",
   "metadata": {},
   "source": [
    "`pip install -r requirements.txt`"
   ]
  },
  {
   "cell_type": "markdown",
   "id": "f0f50e99-4023-405b-af80-28f8748532d5",
   "metadata": {},
   "source": [
    "Oder einzeln installieren:\n",
    "\n",
    "`pip install Modul_name`"
   ]
  },
  {
   "cell_type": "markdown",
   "id": "494ede66-0e46-4713-b148-e6f651c5f5d8",
   "metadata": {},
   "source": [
    "Mit `pip list` kann man Prüfen welche Module im entsprechenden Bereich (VE) installiert sind."
   ]
  },
  {
   "cell_type": "markdown",
   "id": "aa3f9e99-8d33-4c3d-98bb-865d3480d081",
   "metadata": {},
   "source": [
    "## Prüfen wo Python Module liegen"
   ]
  },
  {
   "cell_type": "code",
   "execution_count": 1,
   "id": "a42ff84a-1682-4bf8-a26e-04b19a86b377",
   "metadata": {},
   "outputs": [
    {
     "data": {
      "text/plain": [
       "['C:\\\\Users\\\\jbous\\\\AppData\\\\Local\\\\Programs\\\\Python\\\\Python312\\\\python312.zip',\n",
       " 'C:\\\\Users\\\\jbous\\\\AppData\\\\Local\\\\Programs\\\\Python\\\\Python312\\\\DLLs',\n",
       " 'C:\\\\Users\\\\jbous\\\\AppData\\\\Local\\\\Programs\\\\Python\\\\Python312\\\\Lib',\n",
       " 'C:\\\\Users\\\\jbous\\\\AppData\\\\Local\\\\Programs\\\\Python\\\\Python312',\n",
       " 'C:\\\\Users\\\\jbous\\\\Desktop\\\\Data-Analyst\\\\Kurs_VE',\n",
       " '',\n",
       " 'C:\\\\Users\\\\jbous\\\\Desktop\\\\Data-Analyst\\\\Kurs_VE\\\\Lib\\\\site-packages',\n",
       " 'C:\\\\Users\\\\jbous\\\\Desktop\\\\Data-Analyst\\\\Kurs_VE\\\\Lib\\\\site-packages\\\\win32',\n",
       " 'C:\\\\Users\\\\jbous\\\\Desktop\\\\Data-Analyst\\\\Kurs_VE\\\\Lib\\\\site-packages\\\\win32\\\\lib',\n",
       " 'C:\\\\Users\\\\jbous\\\\Desktop\\\\Data-Analyst\\\\Kurs_VE\\\\Lib\\\\site-packages\\\\Pythonwin']"
      ]
     },
     "execution_count": 1,
     "metadata": {},
     "output_type": "execute_result"
    }
   ],
   "source": [
    "import sys\n",
    "sys.path"
   ]
  },
  {
   "cell_type": "code",
   "execution_count": 1,
   "id": "8d9c4f5c-dd2a-481d-bd77-b6d6c7cbbe5f",
   "metadata": {},
   "outputs": [
    {
     "data": {
      "text/plain": [
       "'C:\\\\Users\\\\jbous\\\\Desktop\\\\Data-Analyst\\\\Work_Ordner'"
      ]
     },
     "execution_count": 1,
     "metadata": {},
     "output_type": "execute_result"
    }
   ],
   "source": [
    "import os\n",
    "\n",
    "os.getcwd()"
   ]
  },
  {
   "cell_type": "code",
   "execution_count": null,
   "id": "b5e0e7c1-9d38-4e29-abfb-fff93b658975",
   "metadata": {},
   "outputs": [],
   "source": []
  },
  {
   "cell_type": "markdown",
   "id": "a6f39e35-48a4-4dc7-88ff-9c1cd03a81ac",
   "metadata": {},
   "source": [
    "Daniel Barty für Verknüpfung fragen"
   ]
  },
  {
   "cell_type": "code",
   "execution_count": null,
   "id": "fc02c9fc-918a-4a1a-b07c-564ac6b5eb26",
   "metadata": {},
   "outputs": [],
   "source": []
  }
 ],
 "metadata": {
  "kernelspec": {
   "display_name": "Python 3 (ipykernel)",
   "language": "python",
   "name": "python3"
  },
  "language_info": {
   "codemirror_mode": {
    "name": "ipython",
    "version": 3
   },
   "file_extension": ".py",
   "mimetype": "text/x-python",
   "name": "python",
   "nbconvert_exporter": "python",
   "pygments_lexer": "ipython3",
   "version": "3.12.6"
  }
 },
 "nbformat": 4,
 "nbformat_minor": 5
}
