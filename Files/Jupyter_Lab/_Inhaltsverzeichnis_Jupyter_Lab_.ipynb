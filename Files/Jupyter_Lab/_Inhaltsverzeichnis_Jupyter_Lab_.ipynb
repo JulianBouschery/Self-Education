{
 "cells": [
  {
   "cell_type": "markdown",
   "id": "07bb11c1-4629-4048-9784-5877f7df9820",
   "metadata": {},
   "source": [
    "# Inhaltsverzeichnis Jupyter Lab"
   ]
  },
  {
   "cell_type": "code",
   "execution_count": null,
   "id": "bf38b057-b71d-4721-89c3-7f0d71b40677",
   "metadata": {},
   "outputs": [],
   "source": []
  }
 ],
 "metadata": {
  "kernelspec": {
   "display_name": "Python 3 (ipykernel)",
   "language": "python",
   "name": "python3"
  },
  "language_info": {
   "codemirror_mode": {
    "name": "ipython",
    "version": 3
   },
   "file_extension": ".py",
   "mimetype": "text/x-python",
   "name": "python",
   "nbconvert_exporter": "python",
   "pygments_lexer": "ipython3",
   "version": "3.12.6"
  }
 },
 "nbformat": 4,
 "nbformat_minor": 5
}
