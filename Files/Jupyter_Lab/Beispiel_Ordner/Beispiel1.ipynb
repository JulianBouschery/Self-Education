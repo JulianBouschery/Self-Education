{
 "cells": [
  {
   "cell_type": "markdown",
   "id": "c4cf9538-fd42-4078-9740-f4dc7c8158dd",
   "metadata": {},
   "source": [
    "### Option 3"
   ]
  },
  {
   "cell_type": "markdown",
   "id": "89b0332f-e4b5-4876-bde1-1b3d0ba89292",
   "metadata": {},
   "source": [
    "Link zu einer Datei in einem übergeordnetem Verzeichnis:\n",
    "[Link zurück zu Verknüpfungen.ipynb](../Verknüpfungen.ipynb)\n",
    "\n",
    "Syntax:\n",
    "```python\n",
    "[Link zurück zu Verknüpfungen.ipynb](../Verknüpfungen.ipynb)\n",
    "\n",
    "[Link zurück zu Verknüpfungen.ipynb](../Dateiname.ipynb)\n",
    "```\n",
    "Der `..` sorgt dafür das man EINEN Ordner zurück geht."
   ]
  },
  {
   "cell_type": "markdown",
   "id": "b36f3c55-a72e-4332-9ed3-b3e3f1d29245",
   "metadata": {},
   "source": [
    "#### Besonderheit"
   ]
  },
  {
   "cell_type": "markdown",
   "id": "b806ed3c-6716-4d02-abca-30c814f736b7",
   "metadata": {},
   "source": [
    "Link zu einer Datei in einem WEIT übergeordnetem Verzeichnis:\n",
    "[Haupt-Inhaltsverzeichnis](../_Inhaltsverzeichnis_.ipynb)\n",
    "\n",
    "Funktioniert nicht! Mit `..` kommt man immer nur einen Ordner weit zurück.\n",
    "\n",
    "Syntax:\n",
    "```python\n",
    "\"Error\"\n",
    "[Haupt-Inhaltsverzeichnis](../_Inhaltsverzeichnis_.ipynb)\n",
    "\"Error\"\n",
    "```\n"
   ]
  },
  {
   "cell_type": "markdown",
   "id": "8c523f33-0d8c-4430-936a-f72ed6456352",
   "metadata": {},
   "source": [
    "### Option 4"
   ]
  },
  {
   "cell_type": "markdown",
   "id": "751e2781-cb34-4159-ab5e-f7cf39c4b226",
   "metadata": {},
   "source": [
    "Die Verwendung mehrere `../`\n",
    "\n",
    "Link zu einer Datei in einem WEIT übergeordnetem Verzeichnis:\n",
    "[Haupt-Inhaltsverzeichnis](../../_Inhaltsverzeichnis_.ipynb)\n",
    "\n",
    "Syntax:\n",
    "```python\n",
    "[Haupt-Inhaltsverzeichnis](../../_Inhaltsverzeichnis_.ipynb)\n",
    "```\n",
    "`../` geht eine Verzeichnisebene nach oben.\n",
    "\n",
    "`../../` geht zwei Ebenen nach oben.\n",
    "\n",
    "...\n",
    "\n",
    "Danach gibt man die Pfade zu den Zielordnern und der Datei an. Z.B.: Ordner1/Ordner2/Dateiname.txt."
   ]
  },
  {
   "cell_type": "code",
   "execution_count": null,
   "id": "b69d72f7-4f2b-443a-9ab0-9b2ac85d0551",
   "metadata": {},
   "outputs": [],
   "source": []
  }
 ],
 "metadata": {
  "kernelspec": {
   "display_name": "Python 3 (ipykernel)",
   "language": "python",
   "name": "python3"
  },
  "language_info": {
   "codemirror_mode": {
    "name": "ipython",
    "version": 3
   },
   "file_extension": ".py",
   "mimetype": "text/x-python",
   "name": "python",
   "nbconvert_exporter": "python",
   "pygments_lexer": "ipython3",
   "version": "3.12.6"
  }
 },
 "nbformat": 4,
 "nbformat_minor": 5
}
