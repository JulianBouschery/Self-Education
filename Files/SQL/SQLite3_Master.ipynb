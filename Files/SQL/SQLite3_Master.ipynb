{
 "cells": [
  {
   "cell_type": "markdown",
   "id": "7f29f6f1-61c7-4a9b-89b5-cc07d61b9078",
   "metadata": {},
   "source": [
    "# SQLite3 Master"
   ]
  },
  {
   "cell_type": "code",
   "execution_count": null,
   "id": "40c119c0-2bea-4370-99b5-461495b645f7",
   "metadata": {},
   "outputs": [],
   "source": []
  }
 ],
 "metadata": {
  "kernelspec": {
   "display_name": "Python 3 (ipykernel)",
   "language": "python",
   "name": "python3"
  },
  "language_info": {
   "codemirror_mode": {
    "name": "ipython",
    "version": 3
   },
   "file_extension": ".py",
   "mimetype": "text/x-python",
   "name": "python",
   "nbconvert_exporter": "python",
   "pygments_lexer": "ipython3",
   "version": "3.12.6"
  }
 },
 "nbformat": 4,
 "nbformat_minor": 5
}
