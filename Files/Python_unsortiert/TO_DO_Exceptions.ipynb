{
 "cells": [
  {
   "cell_type": "markdown",
   "id": "5fcd531c-6594-49d6-a0ae-3744ef1224d8",
   "metadata": {},
   "source": [
    "# Weitere Fehler, die ich noch sortieren muss:"
   ]
  },
  {
   "cell_type": "code",
   "execution_count": null,
   "id": "90ad803f-067c-4585-91ad-fd1ca2bcbdf1",
   "metadata": {},
   "outputs": [],
   "source": []
  },
  {
   "cell_type": "markdown",
   "id": "4a5b39fd-534d-43c8-824c-b6aa7f445aa3",
   "metadata": {},
   "source": [
    "## TypeError"
   ]
  },
  {
   "cell_type": "markdown",
   "id": "e0ac16c9-9f23-4963-9536-bd0c83555618",
   "metadata": {},
   "source": [
    "### 1."
   ]
  },
  {
   "cell_type": "code",
   "execution_count": 9,
   "id": "905b960c-da60-410d-bff6-84df963744fb",
   "metadata": {},
   "outputs": [
    {
     "ename": "TypeError",
     "evalue": "f() takes 0 positional arguments but 1 was given",
     "output_type": "error",
     "traceback": [
      "\u001b[1;31m---------------------------------------------------------------------------\u001b[0m",
      "\u001b[1;31mTypeError\u001b[0m                                 Traceback (most recent call last)",
      "Cell \u001b[1;32mIn[9], line 5\u001b[0m\n\u001b[0;32m      3\u001b[0m   y\u001b[38;5;241m=\u001b[39m\u001b[38;5;241m3\u001b[39m\n\u001b[0;32m      4\u001b[0m   \u001b[38;5;28;01mreturn\u001b[39;00m x\u001b[38;5;241m+\u001b[39my\n\u001b[1;32m----> 5\u001b[0m x \u001b[38;5;241m=\u001b[39m \u001b[43mf\u001b[49m\u001b[43m(\u001b[49m\u001b[38;5;241;43m5\u001b[39;49m\u001b[43m)\u001b[49m\n\u001b[0;32m      6\u001b[0m \u001b[38;5;28mprint\u001b[39m(x)\n",
      "\u001b[1;31mTypeError\u001b[0m: f() takes 0 positional arguments but 1 was given"
     ]
    }
   ],
   "source": [
    "def f():\n",
    "  x=2\n",
    "  y=3\n",
    "  return x+y\n",
    "x = f(5)\n",
    "print(x)"
   ]
  },
  {
   "cell_type": "markdown",
   "id": "95415f1b-5806-44b2-8a97-2c9ab0d3ba5b",
   "metadata": {},
   "source": [
    "Offenbar gibt es einen Fehler, wenn man einer Funktion ein Argument zu weißt, obwohl diese keins fordert."
   ]
  },
  {
   "cell_type": "markdown",
   "id": "31d64eb9-1976-41b2-baf8-bd368c77d785",
   "metadata": {},
   "source": [
    "# Weitere Fehler"
   ]
  },
  {
   "cell_type": "code",
   "execution_count": 5,
   "id": "5f1bcd9a-c0c4-41e4-b301-c578b5550831",
   "metadata": {},
   "outputs": [
    {
     "name": "stdin",
     "output_type": "stream",
     "text": [
      "Enter value:  111111111\n"
     ]
    },
    {
     "name": "stdout",
     "output_type": "stream",
     "text": [
      "1.8000000018e-08\n",
      "more general\n"
     ]
    }
   ],
   "source": [
    "try:\n",
    "    value = float(input(\"Enter value: \"))\n",
    "    print(2. / value)\n",
    "    print(2. ** value)\n",
    "except ZeroDivisionError:\n",
    "    print(\"more specialized\")\n",
    "except ArithmeticError:\n",
    "    print(\"more general\")\n",
    "except:\n",
    "    print(\"other\")\n",
    "else:\n",
    "    print(\"success\")\n",
    "\n"
   ]
  },
  {
   "cell_type": "code",
   "execution_count": 10,
   "id": "9638a143-0aa9-4aa5-8dbc-7d56ff8bf062",
   "metadata": {},
   "outputs": [
    {
     "name": "stdin",
     "output_type": "stream",
     "text": [
      "Enter value:  0\n"
     ]
    },
    {
     "name": "stdout",
     "output_type": "stream",
     "text": [
      "Invalid value\n"
     ]
    }
   ],
   "source": [
    "# Example\n",
    "try:\n",
    "    value = float(input(\"Enter value: \"))\n",
    "    assert value != 0  # can be shortened to assert value\n",
    "    print(\"Reciprocal of the value is\", 1 / value)\n",
    "except AssertionError:\n",
    "    print(\"Invalid value\")"
   ]
  },
  {
   "cell_type": "code",
   "execution_count": 8,
   "id": "3a49fdcf-6fe1-48a9-9695-ce02983d0ad2",
   "metadata": {},
   "outputs": [
    {
     "name": "stdin",
     "output_type": "stream",
     "text": [
      "Enter value:  !\n"
     ]
    },
    {
     "ename": "ValueError",
     "evalue": "could not convert string to float: '!'",
     "output_type": "error",
     "traceback": [
      "\u001b[1;31m---------------------------------------------------------------------------\u001b[0m",
      "\u001b[1;31mValueError\u001b[0m                                Traceback (most recent call last)",
      "Cell \u001b[1;32mIn[8], line 3\u001b[0m\n\u001b[0;32m      1\u001b[0m \u001b[38;5;66;03m# Example\u001b[39;00m\n\u001b[0;32m      2\u001b[0m \u001b[38;5;28;01mtry\u001b[39;00m:\n\u001b[1;32m----> 3\u001b[0m     value \u001b[38;5;241m=\u001b[39m \u001b[38;5;28;43mfloat\u001b[39;49m\u001b[43m(\u001b[49m\u001b[38;5;28;43minput\u001b[39;49m\u001b[43m(\u001b[49m\u001b[38;5;124;43m\"\u001b[39;49m\u001b[38;5;124;43mEnter value: \u001b[39;49m\u001b[38;5;124;43m\"\u001b[39;49m\u001b[43m)\u001b[49m\u001b[43m)\u001b[49m\n\u001b[0;32m      4\u001b[0m     \u001b[38;5;28;01massert\u001b[39;00m value \u001b[38;5;241m!=\u001b[39m \u001b[38;5;241m0\u001b[39m  \u001b[38;5;66;03m# can be shortened to assert value\u001b[39;00m\n\u001b[0;32m      5\u001b[0m     \u001b[38;5;28mprint\u001b[39m(\u001b[38;5;124m\"\u001b[39m\u001b[38;5;124mReciprocal of the value is\u001b[39m\u001b[38;5;124m\"\u001b[39m, \u001b[38;5;241m1\u001b[39m \u001b[38;5;241m/\u001b[39m value)\n",
      "\u001b[1;31mValueError\u001b[0m: could not convert string to float: '!'"
     ]
    }
   ],
   "source": [
    "# Example\n",
    "try:\n",
    "    value = float(input(\"Enter value: \"))\n",
    "    assert value != 0  # can be shortened to assert value\n",
    "    print(\"Reciprocal of the value is\", 1 / value)\n",
    "except AssertionError:\n",
    "    print(\"Invalid value\")\n",
    "\n"
   ]
  },
  {
   "cell_type": "code",
   "execution_count": 9,
   "id": "9d265528-046c-4d49-b1dc-d4a4ad8c3770",
   "metadata": {},
   "outputs": [
    {
     "name": "stdin",
     "output_type": "stream",
     "text": [
      "Enter value:  !\n"
     ]
    },
    {
     "name": "stdout",
     "output_type": "stream",
     "text": [
      "An Error is occured. Please try again.\n"
     ]
    }
   ],
   "source": [
    "# Example\n",
    "try:\n",
    "    value = float(input(\"Enter value: \"))\n",
    "    assert value != 0  # can be shortened to assert value\n",
    "    print(\"Reciprocal of the value is\", 1 / value)\n",
    "except AssertionError:\n",
    "    print(\"Invalid value\")\n",
    "except:\n",
    "    print(\"An Error is occured. Please try again.\")"
   ]
  },
  {
   "cell_type": "code",
   "execution_count": 11,
   "id": "7605ad06-dcb1-42d1-8f40-2f0aae9e90e1",
   "metadata": {},
   "outputs": [
    {
     "name": "stdin",
     "output_type": "stream",
     "text": [
      "Enter value:  0\n"
     ]
    },
    {
     "name": "stdout",
     "output_type": "stream",
     "text": [
      "Invalid input\n"
     ]
    }
   ],
   "source": [
    "# Example\n",
    "try:\n",
    "    value = float(input(\"Enter value: \"))\n",
    "    if value == 0:\n",
    "        raise ZeroDivisionError\n",
    "    print(\"Reciprocal of the value is\", 1 / value)\n",
    "except ZeroDivisionError:\n",
    "    print(\"Invalid input\")\n",
    "\n"
   ]
  }
 ],
 "metadata": {
  "kernelspec": {
   "display_name": "Python 3 (ipykernel)",
   "language": "python",
   "name": "python3"
  },
  "language_info": {
   "codemirror_mode": {
    "name": "ipython",
    "version": 3
   },
   "file_extension": ".py",
   "mimetype": "text/x-python",
   "name": "python",
   "nbconvert_exporter": "python",
   "pygments_lexer": "ipython3",
   "version": "3.12.4"
  }
 },
 "nbformat": 4,
 "nbformat_minor": 5
}
