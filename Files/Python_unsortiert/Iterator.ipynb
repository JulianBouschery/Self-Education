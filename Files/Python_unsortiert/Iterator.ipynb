{
 "cells": [
  {
   "cell_type": "markdown",
   "id": "85b91e4f-6b57-437a-a731-978bdcc18c02",
   "metadata": {},
   "source": [
    "# Iterator"
   ]
  },
  {
   "cell_type": "markdown",
   "id": "8971f966-0497-4638-8df4-0646d10d3ce4",
   "metadata": {},
   "source": [
    "Code von Philip einfügen"
   ]
  },
  {
   "cell_type": "markdown",
   "id": "a59d9567-c6c0-42a2-84c1-f407d6b7d895",
   "metadata": {},
   "source": [
    "`__iter__` und `__next__`"
   ]
  },
  {
   "cell_type": "code",
   "execution_count": null,
   "id": "15d336a5-6073-4885-aa18-b5902bb25fb6",
   "metadata": {},
   "outputs": [],
   "source": []
  }
 ],
 "metadata": {
  "kernelspec": {
   "display_name": "Python 3 (ipykernel)",
   "language": "python",
   "name": "python3"
  },
  "language_info": {
   "codemirror_mode": {
    "name": "ipython",
    "version": 3
   },
   "file_extension": ".py",
   "mimetype": "text/x-python",
   "name": "python",
   "nbconvert_exporter": "python",
   "pygments_lexer": "ipython3",
   "version": "3.12.4"
  }
 },
 "nbformat": 4,
 "nbformat_minor": 5
}
