{
 "cells": [
  {
   "cell_type": "markdown",
   "id": "a09e47df-f6a7-4471-9425-a63bc427fac5",
   "metadata": {},
   "source": [
    "[Zurück zum Inhaltsverzeichnis](_Inhaltsverzeichnis_.ipynb)"
   ]
  },
  {
   "cell_type": "markdown",
   "id": "ff163def-f7e5-48d2-bfd8-6db7f1a22786",
   "metadata": {},
   "source": [
    "# upper, lower, capitalize und title"
   ]
  },
  {
   "cell_type": "markdown",
   "id": "ed2003d3-28e4-46a9-90d7-65a3d599d904",
   "metadata": {},
   "source": [
    "## Überblick"
   ]
  },
  {
   "cell_type": "markdown",
   "id": "f31d3261-a1fa-43b7-bcfb-0bcd2f0db1af",
   "metadata": {},
   "source": [
    "\n",
    "Name der Funktion: \n",
    "\n",
    "Instanz der Klasse: \n",
    "\n",
    "Syntax:\n",
    "\n",
    "`abc` `(` `def` `)` \n",
    "\n",
    "```python\n",
    "Parameter: \n",
    "    \n",
    "```\n",
    "Funktion: \n",
    "\n",
    "\n",
    "\n",
    "Default return: \n",
    "```python\n",
    "abc\n",
    "```\n",
    "Error:\n"
   ]
  },
  {
   "cell_type": "markdown",
   "id": "3ba5396d-87d9-466a-8a6a-fb24d089a569",
   "metadata": {},
   "source": [
    "#### Instanz"
   ]
  },
  {
   "cell_type": "code",
   "execution_count": 6,
   "id": "ac568b15-9bf4-49be-b9ed-046bcd8bb1a5",
   "metadata": {},
   "outputs": [
    {
     "name": "stdout",
     "output_type": "stream",
     "text": [
      "<class 'dict'>\n"
     ]
    }
   ],
   "source": [
    "print(type(dict()))"
   ]
  },
  {
   "cell_type": "markdown",
   "id": "f8aff486-218a-42f9-8579-64c69ac43cc5",
   "metadata": {},
   "source": [
    "#### Parameter"
   ]
  },
  {
   "cell_type": "code",
   "execution_count": 1,
   "id": "a7f7aaee-4503-47f8-afe6-aa3047ac6ca6",
   "metadata": {},
   "outputs": [
    {
     "data": {
      "text/plain": [
       "\u001b[1;31mInit signature:\u001b[0m \u001b[0mdict\u001b[0m\u001b[1;33m(\u001b[0m\u001b[0mself\u001b[0m\u001b[1;33m,\u001b[0m \u001b[1;33m/\u001b[0m\u001b[1;33m,\u001b[0m \u001b[1;33m*\u001b[0m\u001b[0margs\u001b[0m\u001b[1;33m,\u001b[0m \u001b[1;33m**\u001b[0m\u001b[0mkwargs\u001b[0m\u001b[1;33m)\u001b[0m\u001b[1;33m\u001b[0m\u001b[1;33m\u001b[0m\u001b[0m\n",
       "\u001b[1;31mDocstring:\u001b[0m     \n",
       "dict() -> new empty dictionary\n",
       "dict(mapping) -> new dictionary initialized from a mapping object's\n",
       "    (key, value) pairs\n",
       "dict(iterable) -> new dictionary initialized as if via:\n",
       "    d = {}\n",
       "    for k, v in iterable:\n",
       "        d[k] = v\n",
       "dict(**kwargs) -> new dictionary initialized with the name=value pairs\n",
       "    in the keyword argument list.  For example:  dict(one=1, two=2)\n",
       "\u001b[1;31mType:\u001b[0m           type\n",
       "\u001b[1;31mSubclasses:\u001b[0m     OrderedDict, defaultdict, Counter, _EnumDict, _Quoter, Bunch, ObjectDict, StgDict, ConvertingDict, Config, ..."
      ]
     },
     "metadata": {},
     "output_type": "display_data"
    }
   ],
   "source": [
    "dict?"
   ]
  },
  {
   "cell_type": "markdown",
   "id": "daf106d7-2703-4ba7-ac30-33dd90d4a7d6",
   "metadata": {},
   "source": [
    "#### return"
   ]
  },
  {
   "cell_type": "code",
   "execution_count": 35,
   "id": "87c20454-7103-46f3-816a-005538ec3a3f",
   "metadata": {},
   "outputs": [
    {
     "data": {
      "text/plain": [
       "{}"
      ]
     },
     "execution_count": 35,
     "metadata": {},
     "output_type": "execute_result"
    }
   ],
   "source": [
    "# Default return: Ohne Argument => leeres dict\n",
    "dict1 = dict()\n",
    "dict1"
   ]
  },
  {
   "cell_type": "code",
   "execution_count": 37,
   "id": "0e2de6f1-0c34-4cb5-8523-75bdd9b369f0",
   "metadata": {},
   "outputs": [
    {
     "data": {
      "text/plain": [
       "{'key1': 'value1', 'key2': 'value2'}"
      ]
     },
     "execution_count": 37,
     "metadata": {},
     "output_type": "execute_result"
    }
   ],
   "source": [
    "# return: Mit Argumenten --> befülltes Dictionary\n",
    "dict2 = dict([(\"key1\",\"value1\"),(\"key2\",\"value2\")])\n",
    "dict2"
   ]
  },
  {
   "cell_type": "markdown",
   "id": "2b5b4a04-02fc-49e4-a0c9-7a63b341a8d5",
   "metadata": {},
   "source": [
    "### Error:"
   ]
  },
  {
   "cell_type": "code",
   "execution_count": null,
   "id": "939192a9-0f79-4b5a-948e-e3fc97252d79",
   "metadata": {},
   "outputs": [],
   "source": []
  },
  {
   "cell_type": "code",
   "execution_count": null,
   "id": "23e5f445-3de5-4b2b-8226-7c21109b9bae",
   "metadata": {},
   "outputs": [],
   "source": []
  },
  {
   "cell_type": "markdown",
   "id": "08c5d362-fbad-40f5-9766-964b063bb533",
   "metadata": {},
   "source": [
    "## Detailierte Erklärung"
   ]
  },
  {
   "cell_type": "code",
   "execution_count": null,
   "id": "037f9c95-2e79-4ef2-a910-7841dfe84fe2",
   "metadata": {},
   "outputs": [],
   "source": []
  },
  {
   "cell_type": "code",
   "execution_count": null,
   "id": "d703a25f-b3c9-421f-863c-ed6d2e7fc2fb",
   "metadata": {},
   "outputs": [],
   "source": []
  },
  {
   "cell_type": "code",
   "execution_count": null,
   "id": "9917fffd-e503-42c6-844a-1c9ba2b3e7aa",
   "metadata": {},
   "outputs": [],
   "source": []
  },
  {
   "cell_type": "markdown",
   "id": "aba39c42-8ce1-45ef-89e5-9ae0e01d1ab3",
   "metadata": {},
   "source": [
    "Siehe auch: [is...](is_.ipynb)"
   ]
  },
  {
   "cell_type": "code",
   "execution_count": 191,
   "id": "3660cc39-ef2d-4f5b-b697-4c46fe012c7f",
   "metadata": {
    "tags": []
   },
   "outputs": [],
   "source": [
    "upper_vs_title = \"HALLLO\", \"HALLO!\", \"HALLo\",\"D A B\", \"Du Da Im Radio\", \"Du DA\", \"Du da\", \" Duda\", \"lower\" , \"lo12er\""
   ]
  },
  {
   "cell_type": "code",
   "execution_count": 192,
   "id": "7cdc0c74-247f-4249-bbe5-fd701f426ade",
   "metadata": {
    "tags": []
   },
   "outputs": [
    {
     "name": "stdout",
     "output_type": "stream",
     "text": [
      "HALLLO True False False\n",
      "HALLO! True False False\n",
      "HALLo False False False\n",
      "D A B True False True\n",
      "Du Da Im Radio False False True\n",
      "Du DA False False False\n",
      "Du da False False False\n",
      " Duda False False True\n",
      "lower False True False\n",
      "lo12er False True False\n"
     ]
    }
   ],
   "source": [
    "for elem in upper_vs_title: \n",
    "    print(elem, elem.isupper(), elem.islower(), elem.istitle())"
   ]
  },
  {
   "cell_type": "markdown",
   "id": "75811077-302b-4226-b9b3-823e539b8b28",
   "metadata": {},
   "source": [
    "## str.upper(), str.lower(), str.capitalize(), str.title()"
   ]
  },
  {
   "cell_type": "markdown",
   "id": "79284eb3-7520-4e1e-b79b-622b7bfe05a6",
   "metadata": {},
   "source": [
    "Alles in einem Beispiel"
   ]
  },
  {
   "cell_type": "code",
   "execution_count": 35,
   "id": "c58b8505-2519-41fb-9e5c-5e6494861795",
   "metadata": {
    "tags": []
   },
   "outputs": [],
   "source": [
    "my_list = [\"1234\", \"1213$!?\", \"hAlO\", \" huHu\", \"Hallo 123! dU\" ]"
   ]
  },
  {
   "cell_type": "code",
   "execution_count": 36,
   "id": "0dcc13dc-e93c-48ed-9922-deb78eaf4db3",
   "metadata": {
    "tags": []
   },
   "outputs": [
    {
     "name": "stdout",
     "output_type": "stream",
     "text": [
      "\n",
      "******************** Element ist \"1234\" ********************\n",
      "\n",
      ".upper       -->  aus  \"1234\"  wird  -->  \"1234\"\n",
      ".lower       -->  aus  \"1234\"  wird  -->  \"1234\"\n",
      ".capitalize  -->  aus  \"1234\"  wird  -->  \"1234\"\n",
      ".title       -->  aus  \"1234\"  wird  -->  \"1234\"\n",
      "\n",
      "*********************** Next Element ***********************\n",
      "\n",
      "\n",
      "****************** Element ist \"1213$!?\" *******************\n",
      "\n",
      ".upper       -->  aus  \"1213$!?\"  wird  -->  \"1213$!?\"\n",
      ".lower       -->  aus  \"1213$!?\"  wird  -->  \"1213$!?\"\n",
      ".capitalize  -->  aus  \"1213$!?\"  wird  -->  \"1213$!?\"\n",
      ".title       -->  aus  \"1213$!?\"  wird  -->  \"1213$!?\"\n",
      "\n",
      "*********************** Next Element ***********************\n",
      "\n",
      "\n",
      "******************** Element ist \"hAlO\" ********************\n",
      "\n",
      ".upper       -->  aus  \"hAlO\"  wird  -->  \"HALO\"\n",
      ".lower       -->  aus  \"hAlO\"  wird  -->  \"halo\"\n",
      ".capitalize  -->  aus  \"hAlO\"  wird  -->  \"Halo\"\n",
      ".title       -->  aus  \"hAlO\"  wird  -->  \"Halo\"\n",
      "\n",
      "*********************** Next Element ***********************\n",
      "\n",
      "\n",
      "******************* Element ist \" huHu\" ********************\n",
      "\n",
      ".upper       -->  aus  \" huHu\"  wird  -->  \" HUHU\"\n",
      ".lower       -->  aus  \" huHu\"  wird  -->  \" huhu\"\n",
      ".capitalize  -->  aus  \" huHu\"  wird  -->  \" huhu\"\n",
      ".title       -->  aus  \" huHu\"  wird  -->  \" Huhu\"\n",
      "\n",
      "*********************** Next Element ***********************\n",
      "\n",
      "\n",
      "*************** Element ist \"Hallo 123! dU\" ****************\n",
      "\n",
      ".upper       -->  aus  \"Hallo 123! dU\"  wird  -->  \"HALLO 123! DU\"\n",
      ".lower       -->  aus  \"Hallo 123! dU\"  wird  -->  \"hallo 123! du\"\n",
      ".capitalize  -->  aus  \"Hallo 123! dU\"  wird  -->  \"Hallo 123! du\"\n",
      ".title       -->  aus  \"Hallo 123! dU\"  wird  -->  \"Hallo 123! Du\"\n",
      "\n",
      "*********************** Next Element ***********************\n",
      "\n"
     ]
    }
   ],
   "source": [
    "for elem in my_list: \n",
    "    print()\n",
    "    print(f' Element ist \"{elem}\" '.center(60, \"*\"), end=\"\\n\\n\")\n",
    "    print(f'.upper       -->  aus  \"{elem}\"  wird  -->  \"{elem.upper()}\"')\n",
    "    print(f'.lower       -->  aus  \"{elem}\"  wird  -->  \"{elem.lower()}\"')\n",
    "    print(f'.capitalize  -->  aus  \"{elem}\"  wird  -->  \"{elem.capitalize()}\"')\n",
    "    print(f'.title       -->  aus  \"{elem}\"  wird  -->  \"{elem.title()}\"')\n",
    "    print()\n",
    "    print(\" Next Element \".center(60, \"*\"), end=\"\\n\\n\")"
   ]
  },
  {
   "cell_type": "code",
   "execution_count": null,
   "id": "ca4fe594-d419-4522-9d81-f82a4e2bfe3e",
   "metadata": {},
   "outputs": [],
   "source": []
  },
  {
   "cell_type": "code",
   "execution_count": 43,
   "id": "2da29798-4274-4170-8c34-259ed4052201",
   "metadata": {
    "tags": []
   },
   "outputs": [
    {
     "name": "stdout",
     "output_type": "stream",
     "text": [
      "****************** Element ist \"Test abc\" ******************\n",
      "\n",
      ".capitalize  -->  aus  \"Test abc\"  wird  -->  \"Test abc\"\n",
      ".title       -->  aus  \"Test abc\"  wird  -->  \"Test Abc\"\n",
      "\n",
      "************************Next Element************************\n",
      "\n",
      "***************** Element ist \"1 test abc\" *****************\n",
      "\n",
      ".capitalize  -->  aus  \"1 test abc\"  wird  -->  \"1 test abc\"\n",
      ".title       -->  aus  \"1 test abc\"  wird  -->  \"1 Test Abc\"\n",
      "\n",
      "************************Next Element************************\n",
      "\n",
      "**************** Element ist \"a\tb\n",
      "c test z\" ****************\n",
      "\n",
      ".capitalize  -->  aus  \"a\tb\n",
      "c test z\"  wird  -->  \"A\tb\n",
      "c test z\"\n",
      ".title       -->  aus  \"a\tb\n",
      "c test z\"  wird  -->  \"A\tB\n",
      "C Test Z\"\n",
      "\n",
      "************************Next Element************************\n",
      "\n"
     ]
    }
   ],
   "source": [
    "my_list = [\"Test abc\", \"1 test abc\", \"a\\tb\\nc test\\u0020z\"]\n",
    "for elem in my_list: \n",
    "    print(f' Element ist \"{elem}\" '.center(60, \"*\"), end=\"\\n\\n\")\n",
    "\n",
    "    print(f'.capitalize  -->  aus  \"{elem}\"  wird  -->  \"{elem.capitalize()}\"')\n",
    "    print(f'.title       -->  aus  \"{elem}\"  wird  -->  \"{elem.title()}\"')\n",
    "    print()\n",
    "    print(\"Next Element\".center(60, \"*\"), end=\"\\n\\n\")"
   ]
  },
  {
   "cell_type": "code",
   "execution_count": null,
   "id": "8857b40a-6c13-4a4c-86bd-54616342fd86",
   "metadata": {},
   "outputs": [],
   "source": []
  }
 ],
 "metadata": {
  "kernelspec": {
   "display_name": "Python 3 (ipykernel)",
   "language": "python",
   "name": "python3"
  },
  "language_info": {
   "codemirror_mode": {
    "name": "ipython",
    "version": 3
   },
   "file_extension": ".py",
   "mimetype": "text/x-python",
   "name": "python",
   "nbconvert_exporter": "python",
   "pygments_lexer": "ipython3",
   "version": "3.12.4"
  }
 },
 "nbformat": 4,
 "nbformat_minor": 5
}
