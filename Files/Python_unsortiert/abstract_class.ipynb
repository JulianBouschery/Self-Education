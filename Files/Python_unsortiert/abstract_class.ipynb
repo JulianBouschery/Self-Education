{
 "cells": [
  {
   "cell_type": "markdown",
   "id": "2b5995ef-ab6c-45a6-bde2-18454d243d24",
   "metadata": {},
   "source": [
    "# Abstrakte Klassen"
   ]
  },
  {
   "cell_type": "markdown",
   "id": "e08b9647-c36d-4088-a342-49c966d959ce",
   "metadata": {},
   "source": [
    "Siehe auch: [Abstrakte Methoden](abstract_method.ipynb)"
   ]
  },
  {
   "cell_type": "markdown",
   "id": "45bbbdc8-7f3e-4b9e-81f4-b459d23739ca",
   "metadata": {},
   "source": [
    "Siehe auch: [import abc](import_abc.ipynb)"
   ]
  },
  {
   "cell_type": "code",
   "execution_count": null,
   "id": "084fc95c-cf22-48d0-aa4d-9e8d8820b3a0",
   "metadata": {},
   "outputs": [],
   "source": []
  }
 ],
 "metadata": {
  "kernelspec": {
   "display_name": "Python 3 (ipykernel)",
   "language": "python",
   "name": "python3"
  },
  "language_info": {
   "codemirror_mode": {
    "name": "ipython",
    "version": 3
   },
   "file_extension": ".py",
   "mimetype": "text/x-python",
   "name": "python",
   "nbconvert_exporter": "python",
   "pygments_lexer": "ipython3",
   "version": "3.12.4"
  }
 },
 "nbformat": 4,
 "nbformat_minor": 5
}
