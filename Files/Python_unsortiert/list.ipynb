{
 "cells": [
  {
   "cell_type": "markdown",
   "id": "8b037992-950b-42df-acce-add911896a82",
   "metadata": {},
   "source": [
    "[Zurück zum Inhaltsverzeichnis](_Inhaltsverzeichnis_.ipynb)"
   ]
  },
  {
   "cell_type": "markdown",
   "id": "7e9de378-83aa-4360-a82e-a70914af5c06",
   "metadata": {},
   "source": [
    "# list Funktion"
   ]
  },
  {
   "cell_type": "markdown",
   "id": "c2859b8a-8ff5-4193-845b-19af36c04577",
   "metadata": {},
   "source": [
    "## list() nachgebaut"
   ]
  },
  {
   "cell_type": "code",
   "execution_count": 18,
   "id": "00b08dce-df83-465f-bcbc-940e8a54c3fc",
   "metadata": {},
   "outputs": [],
   "source": [
    "def list_(iterable = []):\n",
    "\n",
    "    liste = []\n",
    "    \n",
    "    for i in iterable:\n",
    "        liste.append(i)\n",
    "    return liste"
   ]
  },
  {
   "cell_type": "markdown",
   "id": "69591695-58f3-4706-81f0-150b9f5a6dda",
   "metadata": {},
   "source": [
    "Alternativ als List Comprehension"
   ]
  },
  {
   "cell_type": "code",
   "execution_count": 21,
   "id": "2847a52e-d1d8-4bb0-b709-8dbf28d46c09",
   "metadata": {},
   "outputs": [],
   "source": [
    "def list_(iterable = []):\n",
    "\n",
    "    liste = [i for i in iterable]\n",
    "\n",
    "    return liste"
   ]
  },
  {
   "cell_type": "code",
   "execution_count": 22,
   "id": "006e6eb8-7456-41f4-b7f6-4bafaf10a42d",
   "metadata": {},
   "outputs": [
    {
     "data": {
      "text/plain": [
       "[]"
      ]
     },
     "execution_count": 22,
     "metadata": {},
     "output_type": "execute_result"
    }
   ],
   "source": [
    "list_()"
   ]
  },
  {
   "cell_type": "code",
   "execution_count": 23,
   "id": "ae216522-c433-49a9-9b6a-aca2a28369ca",
   "metadata": {},
   "outputs": [
    {
     "data": {
      "text/plain": [
       "['H', 'a', 'l', 'l', 'o']"
      ]
     },
     "execution_count": 23,
     "metadata": {},
     "output_type": "execute_result"
    }
   ],
   "source": [
    "list_(\"Hallo\")"
   ]
  },
  {
   "cell_type": "markdown",
   "id": "2305951f-c5d4-4f9e-8dc9-960ef7f3dd79",
   "metadata": {},
   "source": [
    "Unter der Haube eine `__init__()`?"
   ]
  },
  {
   "cell_type": "code",
   "execution_count": null,
   "id": "dfb494c4-b7e7-4932-8526-502fc55b6ffb",
   "metadata": {},
   "outputs": [],
   "source": []
  }
 ],
 "metadata": {
  "kernelspec": {
   "display_name": "Python 3 (ipykernel)",
   "language": "python",
   "name": "python3"
  },
  "language_info": {
   "codemirror_mode": {
    "name": "ipython",
    "version": 3
   },
   "file_extension": ".py",
   "mimetype": "text/x-python",
   "name": "python",
   "nbconvert_exporter": "python",
   "pygments_lexer": "ipython3",
   "version": "3.12.3"
  }
 },
 "nbformat": 4,
 "nbformat_minor": 5
}
