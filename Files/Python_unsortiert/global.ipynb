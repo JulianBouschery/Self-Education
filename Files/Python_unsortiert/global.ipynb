{
 "cells": [
  {
   "cell_type": "markdown",
   "id": "62f4eff3-85c7-4286-a5d9-ac704aae2427",
   "metadata": {},
   "source": [
    "# global"
   ]
  },
  {
   "cell_type": "markdown",
   "id": "60dab44b-5b61-4802-b3a2-a7599a457073",
   "metadata": {},
   "source": [
    "Zurück zu [Keywords](keywords.ipynb)"
   ]
  },
  {
   "cell_type": "code",
   "execution_count": null,
   "id": "f772ccb2-124a-4c74-a88f-a6ac24fe1aec",
   "metadata": {},
   "outputs": [],
   "source": []
  }
 ],
 "metadata": {
  "kernelspec": {
   "display_name": "Python 3 (ipykernel)",
   "language": "python",
   "name": "python3"
  },
  "language_info": {
   "codemirror_mode": {
    "name": "ipython",
    "version": 3
   },
   "file_extension": ".py",
   "mimetype": "text/x-python",
   "name": "python",
   "nbconvert_exporter": "python",
   "pygments_lexer": "ipython3",
   "version": "3.12.4"
  }
 },
 "nbformat": 4,
 "nbformat_minor": 5
}
