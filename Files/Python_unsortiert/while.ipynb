{
 "cells": [
  {
   "cell_type": "markdown",
   "id": "a1b39d45-19e9-464d-9812-a36e637ecd6b",
   "metadata": {},
   "source": [
    "[Zurück zum Inhaltsverzeichnis](_Inhaltsverzeichnis_.ipynb)"
   ]
  },
  {
   "cell_type": "markdown",
   "id": "28f57608-ccbd-49d0-8e22-5bf81b39c5ba",
   "metadata": {},
   "source": [
    "# while Schleifen"
   ]
  },
  {
   "cell_type": "markdown",
   "id": "b175432f-6636-4f51-8795-b3c1142e5ec5",
   "metadata": {},
   "source": [
    "### Generelles zur while Schleife"
   ]
  },
  {
   "cell_type": "markdown",
   "id": "a63b5673-499b-433f-9f6e-a520157ecc28",
   "metadata": {},
   "source": [
    "So lange die Bedingung zu `True` evaluiert führe ... aus."
   ]
  },
  {
   "cell_type": "code",
   "execution_count": 62,
   "id": "8a0d5bb1-ed70-4457-bb8b-3458a001b167",
   "metadata": {},
   "outputs": [
    {
     "name": "stdout",
     "output_type": "stream",
     "text": [
      "3\n",
      "2\n",
      "1\n"
     ]
    }
   ],
   "source": [
    "counter = 3\n",
    "\n",
    "while counter >0:\n",
    "    print(counter)\n",
    "    counter -= 1 # Schreibweise kurz"
   ]
  },
  {
   "cell_type": "code",
   "execution_count": 63,
   "id": "4c717d61-54f6-48da-8736-957685bb9ce4",
   "metadata": {},
   "outputs": [
    {
     "name": "stdout",
     "output_type": "stream",
     "text": [
      "3\n",
      "2\n",
      "1\n"
     ]
    }
   ],
   "source": [
    "counter = 3\n",
    "\n",
    "while counter >0:\n",
    "    print(counter)\n",
    "    counter = counter -1 # Schreibweise ausführlich"
   ]
  },
  {
   "cell_type": "code",
   "execution_count": 43,
   "id": "06df12f6-312d-400b-a26c-5cac3287f25e",
   "metadata": {},
   "outputs": [
    {
     "name": "stdout",
     "output_type": "stream",
     "text": [
      "42\n"
     ]
    }
   ],
   "source": [
    "while True:\n",
    "    print(42) # Das wäre eine endlos Schleife\n",
    "    break # Doch durch das \"break\" bricht er den Code ab. Dies kann mit einer Bedingung verknüpft werden"
   ]
  },
  {
   "cell_type": "code",
   "execution_count": 44,
   "id": "476a4553-e9b5-4f82-86a2-44bc2718661b",
   "metadata": {},
   "outputs": [
    {
     "name": "stdout",
     "output_type": "stream",
     "text": [
      "42\n",
      "42\n",
      "42\n"
     ]
    }
   ],
   "source": [
    "counter = 3\n",
    "\n",
    "while True:\n",
    "    print(42)\n",
    "    counter -= 1\n",
    "    if counter == 0:\n",
    "        break  "
   ]
  },
  {
   "cell_type": "markdown",
   "id": "48b9fbc1-e8a9-4dd9-aa4e-4e5fde3271bb",
   "metadata": {},
   "source": [
    "### whlie/else Kombination:"
   ]
  },
  {
   "cell_type": "markdown",
   "id": "d94f67b0-5d8c-47e1-8292-6e9ab7a6fd60",
   "metadata": {},
   "source": [
    "Die while/else Kombination sagt in etwa: Für bitte diesen Code aus und wenn du damit fertig bist, mach das hier (else) auch noch."
   ]
  },
  {
   "cell_type": "code",
   "execution_count": 95,
   "id": "1d205b92-3eca-4acd-b01c-b859bb5c9497",
   "metadata": {},
   "outputs": [
    {
     "name": "stdout",
     "output_type": "stream",
     "text": [
      "Sie haben 1000€ verdient!\n",
      "Sie haben 1000€ verdient!\n",
      "Sie haben 1000€ verdient!\n",
      "Sie haben 1000€ verdient!\n",
      "Sie haben 1000€ verdient!\n",
      "Jetzt hab ich richtig knete...\n"
     ]
    }
   ],
   "source": [
    "counter = 5\n",
    "\n",
    "while counter > 0:\n",
    "    print(\"Sie haben 1000€ verdient!\")\n",
    "    counter -= 1\n",
    "else:\n",
    "    print(\"Jetzt hab ich richtig knete...\")"
   ]
  },
  {
   "cell_type": "markdown",
   "id": "dedfd4bd-84ce-4a39-a897-d5189bef3c49",
   "metadata": {},
   "source": [
    "### while-if-else Verschachtelung:"
   ]
  },
  {
   "cell_type": "code",
   "execution_count": 4,
   "id": "e0677171-481c-415d-8765-6dbe236518e0",
   "metadata": {},
   "outputs": [
    {
     "name": "stdout",
     "output_type": "stream",
     "text": [
      "2 8 3 2 3 9 2 1 6 Strike!\n"
     ]
    }
   ],
   "source": [
    "import random\n",
    "\n",
    "counter = 10 \n",
    "\n",
    "while counter >0:\n",
    "    x = random.randint(1,10)\n",
    "    \n",
    "    if x == 10:\n",
    "        print(\"Strike!\")\n",
    "        counter -= 1\n",
    "    else:\n",
    "        counter -= 1\n",
    "        print(x, end = \" \")\n"
   ]
  },
  {
   "cell_type": "markdown",
   "id": "01d0d48b-17b5-4a49-b080-8cb4fce3db46",
   "metadata": {},
   "source": [
    "## while-Schleifen in Kombination mit \"flag\" nutzen: "
   ]
  },
  {
   "cell_type": "code",
   "execution_count": 31,
   "id": "b4e0ed5c-2f26-4533-8498-6a4706eb25b6",
   "metadata": {
    "scrolled": true
   },
   "outputs": [
    {
     "name": "stdin",
     "output_type": "stream",
     "text": [
      "Bitte gib eine Zahl ein. 1\n"
     ]
    },
    {
     "name": "stdout",
     "output_type": "stream",
     "text": [
      "Die Zahl ist ungerade!\n"
     ]
    },
    {
     "name": "stdin",
     "output_type": "stream",
     "text": [
      "Bitte gib eine Zahl ein. 5\n"
     ]
    },
    {
     "name": "stdout",
     "output_type": "stream",
     "text": [
      "Die Zahl ist ungerade!\n"
     ]
    },
    {
     "name": "stdin",
     "output_type": "stream",
     "text": [
      "Bitte gib eine Zahl ein. 6\n"
     ]
    },
    {
     "name": "stdout",
     "output_type": "stream",
     "text": [
      "Die Zahl ist gerade!\n"
     ]
    }
   ],
   "source": [
    "flag = True\n",
    "\n",
    "while flag:\n",
    "    if int(input(\"Bitte gib eine Zahl ein.\")) % 2 != 0:\n",
    "        print(\"Die Zahl ist ungerade!\")\n",
    "    else:    \n",
    "        print(\"Die Zahl ist gerade!\")\n",
    "        flag = False"
   ]
  }
 ],
 "metadata": {
  "kernelspec": {
   "display_name": "Python 3 (ipykernel)",
   "language": "python",
   "name": "python3"
  },
  "language_info": {
   "codemirror_mode": {
    "name": "ipython",
    "version": 3
   },
   "file_extension": ".py",
   "mimetype": "text/x-python",
   "name": "python",
   "nbconvert_exporter": "python",
   "pygments_lexer": "ipython3",
   "version": "3.12.3"
  }
 },
 "nbformat": 4,
 "nbformat_minor": 5
}
