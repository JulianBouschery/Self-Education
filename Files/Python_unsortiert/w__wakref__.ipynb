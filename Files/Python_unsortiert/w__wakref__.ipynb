{
 "cells": [
  {
   "cell_type": "markdown",
   "id": "cbd764c6-05d0-4dc5-89d6-5a78e800c932",
   "metadata": {},
   "source": [
    "# `__weakref__`"
   ]
  },
  {
   "cell_type": "markdown",
   "id": "cfc6ca5a-ed3d-41bb-b5e7-5ad1f0619ef1",
   "metadata": {},
   "source": [
    "Das `__weakref__`-Attribut ist ein spezielles Attribut in Python, das in Objekten existiert, die schwache Referenzen unterstützen.\n",
    "\n",
    "In Python gibt es zwei Arten von Referenzen: starke Referenzen und schwache Referenzen.\n",
    "\n",
    "Starke Referenzen:                                                                                                               \n",
    "Dies sind die normalen Referenzen, die man erstellt, wenn man einer Variablen ein Objekt zuweisen. Solange eine starke Referenz auf ein Objekt verweist, bleibt dieses Objekt im Speicher.\n",
    "\n",
    "Schwache Referenzen:                                                                                                           \n",
    "Eine schwache Referenz erlaubt das Verweisen auf ein Objekt, ohne zu verhindern, dass dieses Objekt vom Garbage Collector (Speicherbereinigung) entfernt wird. Wenn es nur noch schwache Referenzen auf ein Objekt gibt (d.h., keine starken Referenzen mehr), kann das Objekt gelöscht werden, und die schwachen Referenzen werden automatisch ungültig."
   ]
  },
  {
   "cell_type": "markdown",
   "id": "c796741b-8890-4d69-a7ef-b9a16a1788bf",
   "metadata": {},
   "source": [
    "In Python können alle Klassen das `__weakref__`-Attribut unterstützen, aber es hängt davon ab, wie die Klasse definiert ist und welche Art von Objekten sie enthält. Es gibt folgende Hauptregeln und Faktoren, die bestimmen, ob eine Klasse `__weakref__` unterstützt:\n",
    "\n",
    "Regeln und Faktoren\n",
    "1. Erbt von object: Alle neuen Klassen (die object DIREKT erben) können schwache Referenzen unterstützen, es sei denn, sie haben bestimmte Einschränkungen durch ihre Attribute oder Methoden. Klassische alte Klassen (ohne object als Basis) in Python 2 unterstützen keine schwachen Referenzen. In Python 3 ist dies jedoch kein Problem, da alle Klassen implizit von object erben.\n",
    "\n",
    "2. `__slots__`-Attribut: Wenn eine Klasse das `__slots__`-Attribut verwendet, um Attribute explizit zu definieren und Speicherplatz zu sparen, muss man `__weakref__` explizit in `__slots__` einschließen, damit schwache Referenzen unterstützt werden."
   ]
  },
  {
   "cell_type": "code",
   "execution_count": null,
   "id": "018215b4-3934-4532-ab5b-df7dd301619a",
   "metadata": {},
   "outputs": [],
   "source": []
  }
 ],
 "metadata": {
  "kernelspec": {
   "display_name": "Python 3 (ipykernel)",
   "language": "python",
   "name": "python3"
  },
  "language_info": {
   "codemirror_mode": {
    "name": "ipython",
    "version": 3
   },
   "file_extension": ".py",
   "mimetype": "text/x-python",
   "name": "python",
   "nbconvert_exporter": "python",
   "pygments_lexer": "ipython3",
   "version": "3.12.6"
  }
 },
 "nbformat": 4,
 "nbformat_minor": 5
}
