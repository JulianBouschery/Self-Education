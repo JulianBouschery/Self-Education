{
 "cells": [
  {
   "cell_type": "markdown",
   "id": "60fe277d-7a64-477d-a69a-bc91df9b46ba",
   "metadata": {},
   "source": [
    "In Python gibt es sowohl Methoden als auch Funktionen, und obwohl sie sich in ihrer Verwendung ähneln, gibt es einige wesentliche Unterschiede zwischen ihnen. Um dies zu verdeutlichen, betrachten wir Beispiele für beide Konzepte.\n",
    " \n",
    "### Funktionen in Python\n",
    " \n",
    "Eine Funktion ist ein eigenständiger Block von Code, der bestimmte Operationen ausführt und durch ihren Namen aufgerufen werden kann. Funktionen können Parameter akzeptieren und Werte zurückgeben.\n",
    " \n",
    "Hier ist ein einfaches Beispiel für eine Funktion:\n",
    " \n",
    "```python\n",
    "def add(a, b):\n",
    "    return a + b\n",
    " \n",
    "result = add(3, 5)\n",
    "print(result)  # Ausgabe: 8\n",
    "```\n",
    " \n",
    "In diesem Beispiel ist `add` eine Funktion, die zwei Parameter `a` und `b` akzeptiert und deren Summe zurückgibt. Funktionen sind unabhängig und nicht an ein bestimmtes Objekt gebunden.\n",
    " \n",
    "### Methoden in Python\n",
    " \n",
    "Eine Methode ist eine Funktion, die an ein Objekt gebunden ist. Sie wird innerhalb einer Klasse definiert und kann nur über eine Instanz dieser Klasse aufgerufen werden. Methoden haben immer einen speziellen Parameter `self`, der auf die Instanz der Klasse verweist.\n",
    " \n",
    "Hier ist ein Beispiel, das zeigt, wie Methoden verwendet werden:\n",
    " \n",
    "```python\n",
    "class Calculator:\n",
    "    def add(self, a, b):\n",
    "        return a + b\n",
    " \n",
    "calc = Calculator()\n",
    "result = calc.add(3, 5)\n",
    "print(result)  # Ausgabe: 8\n",
    "```\n",
    " \n",
    "In diesem Beispiel ist `add` eine Methode der Klasse `Calculator`. Sie akzeptiert neben `a` und `b` auch `self`, das auf die Instanz `calc` verweist. Methoden werden immer über eine Instanz der Klasse aufgerufen.\n",
    " \n",
    "### Hauptunterschiede zusammengefasst\n",
    " \n",
    "1. **Bindung**:\n",
    "   - Funktionen sind unabhängig und können überall im Code definiert und aufgerufen werden.\n",
    "   - Methoden sind an eine Klasse gebunden und werden über Instanzen dieser Klasse aufgerufen.\n",
    " \n",
    "2. **Parameter**:\n",
    "   - Funktionen akzeptieren nur die Parameter, die explizit in ihrer Definition angegeben sind.\n",
    "   - Methoden akzeptieren immer `self` als ersten Parameter, der auf die Instanz der Klasse verweist, sowie zusätzliche Parameter.\n",
    " \n",
    "3. **Verwendung**:\n",
    "   - Funktionen werden direkt durch ihren Namen aufgerufen (`add(3, 5)`).\n",
    "   - Methoden werden über eine Instanz aufgerufen (`calc.add(3, 5)`).\n",
    " \n",
    "Diese Unterschiede helfen dabei, zu entscheiden, wann eine unabhängige Funktion verwendet werden sollte und wann es sinnvoll ist, eine Methode innerhalb einer Klasse zu definieren."
   ]
  },
  {
   "cell_type": "code",
   "execution_count": null,
   "id": "29a09544-5af9-4439-8c63-30235fa72770",
   "metadata": {},
   "outputs": [],
   "source": []
  }
 ],
 "metadata": {
  "kernelspec": {
   "display_name": "Python 3 (ipykernel)",
   "language": "python",
   "name": "python3"
  },
  "language_info": {
   "codemirror_mode": {
    "name": "ipython",
    "version": 3
   },
   "file_extension": ".py",
   "mimetype": "text/x-python",
   "name": "python",
   "nbconvert_exporter": "python",
   "pygments_lexer": "ipython3",
   "version": "3.12.3"
  }
 },
 "nbformat": 4,
 "nbformat_minor": 5
}
