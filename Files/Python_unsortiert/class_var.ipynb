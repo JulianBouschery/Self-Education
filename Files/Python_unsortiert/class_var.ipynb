{
 "cells": [
  {
   "cell_type": "markdown",
   "id": "1ebe5e4c-c7db-4bb9-b9e3-e8afbd172071",
   "metadata": {},
   "source": [
    "# Klassenvariablen"
   ]
  },
  {
   "cell_type": "markdown",
   "id": "c076d9cb-430b-45d3-bf24-44539d6f4df4",
   "metadata": {},
   "source": [
    "Klassenvariablen werden während der Klassenkonstruktion definiert, so dass diese Variablen verfügbar sind, bevor eine Klasseninstanz erstellt wird. Um Zugriff auf eine Klassenvariable zu erhalten, greifen Sie einfach über den Klassennamen auf sie zu und geben dann den Variablennamen an."
   ]
  },
  {
   "cell_type": "code",
   "execution_count": 2,
   "id": "f6fadc12-8937-4466-8462-b0dff3ab0ed0",
   "metadata": {},
   "outputs": [
    {
     "name": "stdout",
     "output_type": "stream",
     "text": [
      "shared variable\n"
     ]
    }
   ],
   "source": [
    "class Test:\n",
    "    class_var = 'shared variable'\n",
    "\n",
    "print(Test.class_var)"
   ]
  },
  {
   "cell_type": "markdown",
   "id": "8c60bba4-bda2-4bd6-a41c-e69bf216c517",
   "metadata": {},
   "source": [
    "Eine Klassenvariable ist eine Klasseneigenschaft, die nur EINMAL in der Klasse existiert und außerhalb jeder Klasseninstanz gespeichert ist. Da sie im Besitz der Klasse selbst ist, werden alle Klassenvariablen von allen Instanzen der Klasse gemeinsam genutzt. Da die Klassenvariable jedoch **außerhalb des Objekts** definiert ist, wird sie nicht im `__dict__` des **Objekts** aufgeführt."
   ]
  },
  {
   "cell_type": "markdown",
   "id": "270fe1b8-5ac2-44bb-a842-15b50e0af028",
   "metadata": {},
   "source": [
    "Wenn man einen Wert der Klassenvariablen setzen oder ändern wollen, sollte man über die Klasse darauf zugreifen, und nicht über die Klasseninstanz, wie man es beim Lesen tun können.\n",
    "\n",
    "Wenn man versuchen, einen Wert für die Klassenvariable über das Objekt (eine Variable, die sich auf das Objekt oder das Schlüsselwort self bezieht), und nicht über die Klasse zu setzen, erzeugt man eine Instanzvariable, die denselben Namen wie die Klassenvariable trägt. "
   ]
  },
  {
   "cell_type": "markdown",
   "id": "31f8f26d-d6a3-4b73-ac1e-154d67d5a31a",
   "metadata": {},
   "source": [
    "Der folgende Ausschnitt zeigt einen solchen Fall \n",
    "\n",
    "**Merken**, damit man keine Zeit mit der Suche nach Fehlern verschwendet!"
   ]
  },
  {
   "cell_type": "code",
   "execution_count": 4,
   "id": "12e7155a-ae98-44e9-9357-a6a9aebaf83b",
   "metadata": {},
   "outputs": [
    {
     "name": "stdout",
     "output_type": "stream",
     "text": [
      "shared variable\n",
      "shared variable\n",
      "....................\n",
      "contents of d1: {}\n",
      "....................\n",
      "contents of d1: {'class_var': \"I'm messing with the class variable\"}\n",
      "I'm messing with the class variable\n",
      "....................\n",
      "contents of d2: {}\n",
      "contents of class variable accessed via d2: shared variable\n"
     ]
    }
   ],
   "source": [
    "class Demo:\n",
    "    class_var = 'shared variable'\n",
    "\n",
    "d1 = Demo()\n",
    "d2 = Demo()\n",
    "\n",
    "# Beide Instanzen erlauben den Zugriff auf die Klassenvariable\n",
    "print(d1.class_var) # Output --> shared variable\n",
    "print(d2.class_var) # Output --> shared variable\n",
    "print('.' * 20)\n",
    "\n",
    "# d1 Objekt hat keine Instanzvariable\n",
    "print('contents of d1:', d1.__dict__) # Output --> contents of d1: {}\n",
    "print('.' * 20)\n",
    "\n",
    "# Das Objekt d1 erhält eine Instanzvariable namens 'class_var'.\n",
    "d1.class_var = \"I'm messing with the class variable\" \n",
    "\n",
    "# Das Objekt d1 besitzt die Variable \"class_var\", die einen anderen Wert als die gleichnamige Klassenvariable enthält.\n",
    "print('contents of d1:', d1.__dict__)\n",
    "print(d1.class_var)\n",
    "print('.' * 20)\n",
    "\n",
    "# d2-Objektvariablen wurden nicht beeinflusst\n",
    "print('contents of d2:', d2.__dict__)\n",
    "\n",
    "# d2-Objektvariablen wurden nicht beeinflusst\n",
    "print('contents of class variable accessed via d2:', d2.class_var)\n"
   ]
  },
  {
   "cell_type": "markdown",
   "id": "79952ddf-599b-4f4d-899d-ed6fedd961b9",
   "metadata": {},
   "source": [
    "[Erklärung von Philipp](https://pythontutor.com/visualize.html#code=class%20P%3A%20%0A%20%20%20%20%0A%20%20%20%20x%20%3D%20100%0A%20%20%20%20%0A%20%20%20%20def%20f%28self%29%3A%0A%20%20%20%20%20%20%20%20pass%0A%20%20%20%20%0A%0Aa%20%3D%20P.x%0A%23a%20%3D%20P.y%20%20%23AttributeError%20Python%20sucht%20den%20Namen%20y%20in%20der%20Klasse%20P%0A%23%20%28und%20in%20den%20Klassen%20der%20MRO%20von%20P%29%20und%20findet%20ihn%20nicht%0A%23a%20%3D%20P.x%28%29%20%20%23%20TypeError%20Python%20findet%20x,%20aber%20x%20ist%20eine%20Variable%20mit%20einem%20int%0A%23%20und%20das%20ist%20kein%20%22callable%20Attribute%22%0A%0A%23%20Aufruf%20von%20P.var_name%28%29%20%3D%3E%20Python%20pr%C3%BCft%20zun%C3%A4chst%20finde%20ich%20var_name%0A%23%20Wenn%20und%20nur%20wenn%20Python%20var_name%20findet.%20Fragt%20Python%20im%20Anschluss%0A%23%20Kann%20ich%20var_name%20%22callen%22.%20&cumulative=false&heapPrimitives=nevernest&mode=edit&origin=opt-frontend.js&py=311&rawInputLstJSON=%5B%5D&textReferences=false)"
   ]
  },
  {
   "cell_type": "markdown",
   "id": "ed81c838-e551-4c42-8f65-4bd962be66c3",
   "metadata": {},
   "source": [
    "[Beispiel](https://pythontutor.com/render.html#code=class%20Demo%3A%0A%20%20%20%20class_var%20%3D%20%27shared%20variable%27%0A%20%20%20%20%0A%20%20%20%20def%20f%28self%29%3A%0A%20%20%20%20%20%20%20%20Demo.class_var2%20%3D%2032%0A%20%20%20%20%20%20%20%20self.__class__.class_var3%20%3D%20100%0A%0Aprint%28Demo.class_var%29%0Aprint%28Demo.__dict__%29%0A%0A%0ADemo%28%29.f%28%29%0ADemo.class_var4%20%3D%2032&cumulative=false&curInstr=9&heapPrimitives=nevernest&mode=display&origin=opt-frontend.js&py=311&rawInputLstJSON=%5B%5D&textReferences=false)"
   ]
  },
  {
   "cell_type": "markdown",
   "id": "40d93ad3-ee27-48a3-a61b-3af857c0e4f7",
   "metadata": {},
   "source": [
    "[Beispiel2](https://pythontutor.com/render.html#code=class%20Demo%3A%0A%20%20%20%20class_var%20%3D%20%27shared%20variable%27%0A%20%20%20%20%0A%20%20%20%20def%20f%28self%29%3A%0A%20%20%20%20%20%20%20%20Demo.class_var2%20%3D%2032%0A%20%20%20%20%20%20%20%20self.__class__.class_var3%20%3D%20100%0A%0Aprint%28Demo.class_var%29%0A%0Aprint%28Demo.__dict__%29%0A%0Ainst%20%3D%20Demo%28%29%0Ainst.f%28%29%0A%0Aprint%28inst.class_var%29%0A%0Ainst.class_var%20%3D%20%22hallO%22%0Aprint%28inst.class_var%29%0A%0ADemo.class_var4%20%3D%2032&cumulative=false&curInstr=9&heapPrimitives=nevernest&mode=display&origin=opt-frontend.js&py=311&rawInputLstJSON=%5B%5D&textReferences=false)"
   ]
  },
  {
   "cell_type": "markdown",
   "id": "315166f7-f392-4f4e-8854-6941a9711231",
   "metadata": {},
   "source": [
    "### Prüfungsaufgabe"
   ]
  },
  {
   "cell_type": "code",
   "execution_count": null,
   "id": "96572360-7b02-48ee-871d-9022656924d8",
   "metadata": {},
   "outputs": [],
   "source": [
    "class Demo:\n",
    "    class_var = 'shared variable'\n",
    " \n",
    "d1 = Demo()\n",
    "d2 = Demo()\n",
    " \n",
    " \n",
    "d1.name = \"Anna\"\n",
    "d1.class_var = 42 # ist trotz des namens ein instanzvariable\n",
    " \n",
    "print(Demo.class_var)# shared\n",
    "print(d1.class_var) # 42\n",
    " \n",
    "print(d2.class_var) # shared"
   ]
  },
  {
   "cell_type": "markdown",
   "id": "efe9438a-5a32-4372-9976-0fb27ae1a3fc",
   "metadata": {},
   "source": [
    "In Python können wir unterschiedliche instanzen der selben Klasse haben, die untershciedliche Instanzvariablen haben."
   ]
  },
  {
   "cell_type": "markdown",
   "id": "7f225e3e-0221-42df-898c-8a21f5fe7507",
   "metadata": {},
   "source": [
    "Minimal Beispiel:"
   ]
  },
  {
   "cell_type": "markdown",
   "id": "9798b239-29f9-4b7d-9103-79b059a8f472",
   "metadata": {},
   "source": [
    "[Minimal Beispiel](https://pythontutor.com/visualize.html#code=class%20Person%3A%20%0A%20%20%20%20%0A%20%20%20%20def%20__init__%28self,%20fname,%20lname%29%3A%0A%20%20%20%20%20%20%20%20self.fname%20%3D%20fname%0A%20%20%20%20%20%20%20%20self.lname%20%3Dlname%0A%20%20%20%20%20%20%20%20%0A%20%20%20%20%0Ap1%20%3D%20Person%28%22Gery%22,%20%22Gunther%22%29%0A%0Ap2%20%3D%20Person%28%22Anna%22,%20%22Babana%22%29%0A%0Ap2.alter%20%3D%2042%0A%0A%0Afor%20person%20in%20%28p2,p1%29%3A%0A%20%20%20%20print%28person.alter%29&cumulative=false&heapPrimitives=nevernest&mode=edit&origin=opt-frontend.js&py=311&rawInputLstJSON=%5B%5D&textReferences=false)\n"
   ]
  },
  {
   "cell_type": "code",
   "execution_count": null,
   "id": "1c056137-ec66-4291-a6e6-7b7bd04ab387",
   "metadata": {},
   "outputs": [],
   "source": []
  }
 ],
 "metadata": {
  "kernelspec": {
   "display_name": "Python 3 (ipykernel)",
   "language": "python",
   "name": "python3"
  },
  "language_info": {
   "codemirror_mode": {
    "name": "ipython",
    "version": 3
   },
   "file_extension": ".py",
   "mimetype": "text/x-python",
   "name": "python",
   "nbconvert_exporter": "python",
   "pygments_lexer": "ipython3",
   "version": "3.12.4"
  }
 },
 "nbformat": 4,
 "nbformat_minor": 5
}
