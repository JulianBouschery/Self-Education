{
 "cells": [
  {
   "cell_type": "markdown",
   "id": "04f2fb0d-a473-4061-9caa-f16324dad915",
   "metadata": {},
   "source": [
    "[Zurück zum Inhaltsverzeichnis](_Inhaltsverzeichnis_.ipynb)"
   ]
  },
  {
   "cell_type": "markdown",
   "id": "a54cbd5e-7ff1-464f-9e2c-8c74b8407c1a",
   "metadata": {},
   "source": [
    "# Zusammenfassung: Operatoren"
   ]
  },
  {
   "cell_type": "markdown",
   "id": "4bf9ba67-30c7-4b09-8591-9d9ab06b3029",
   "metadata": {},
   "source": [
    "Wie in der Schule gilt \n",
    "- Punkt vor Strich und \n",
    "- Hochnehmen vor Punkt.\n",
    "\n",
    "Wenn ohne Klammern mehrere Operatoren (+,-,...\\*) in einem Ausdruck sind, gelten diese Merkregeln.\n",
    "Wenn mehrere unterschiedliche Zeichen vorkommen ist die Wertigkeit wie folgt:"
   ]
  },
  {
   "cell_type": "markdown",
   "id": "b0f36636-06ee-4aed-bdf1-32a728fe5173",
   "metadata": {},
   "source": [
    "**Wertigkeit als Merksatz:**\n",
    "\n",
    "`()`  **>**  `**`  **>**  `*`, `/`, `//`, `%`  **>**  `+`, `-`  **>**  `=`, `==` , `!=`, `**=`, `*=`, `/=`, `%=`, `+=`, `-=`, `>=`, `<=`\n",
    "\n",
    "```python\n",
    "Arithmetische-Operatoren (Wenn man dass so sagen kann):\n",
    "1.0   () (Klammern)\n",
    "\n",
    "2.0   ** (hoch Zahlen)\n",
    "2.1      (Wurzel?)\n",
    "\n",
    "3.0   * (Mal), \n",
    "3.1   / (Geteilt --> float), \n",
    "3.2   // (Geteilt --> Ganzzahl), \n",
    "3.3   % (Modulo --> remainder (Rest))\n",
    "\n",
    "4.0   + (Plus), \n",
    "4.1   - (Minus)\n",
    "\n",
    "\n",
    "Boolsche-Operatoren:\n",
    "Ergebnis: --> bool (Boulean valeu) / int\n",
    "Achtung: bool ist eine Unterklasse von int\n",
    "False == 0\n",
    "True == 1\n",
    "\n",
    "5.0   == (Ist x gleich y?) \n",
    "5.1   != (Ist x ungleich y?) \n",
    "5.2   > (Ist x größer y?) \n",
    "5.3   < (Ist x kleiner y?) \n",
    "   \n",
    "    \n",
    "Bitwiese-Vergleiche: \n",
    "6.0   & (and)\n",
    "6.1   | (or)\n",
    "6.2   ^ (xor)\n",
    "\n",
    "Zuweisungs-Operatoren:\n",
    "7.0   = (Zuweisung)\n",
    "7.1   **= (x ist gleich y hoch ...),\n",
    "7.2   %= (x ist gleich y Modulo ...),\n",
    "7.3   *= (x ist gleich y Mal ...),\n",
    "7.4   /= (x ist gleich y geteilt durch ...), \n",
    "7.5   += (x ist gleich y Plus ...), \n",
    "7.6   -= (x ist gleich y Minus ...) \n",
    "7.7   -= (x ist gleich y Minus ...)\n",
    "7.8   >= (x ist größer gleich y)\n",
    "7.9   <= (x ist kleiner gleich y)\n",
    "\n",
    "Anmerkung: Können je nach Code sowohl int als auch bool als Ergebnis haben.\n",
    "```\n",
    "    "
   ]
  },
  {
   "cell_type": "markdown",
   "id": "58de1ab0-e33a-4baa-b112-fb9b090e49d9",
   "metadata": {},
   "source": [
    "ALLE Operatoren die wir so kennen, sind unter der Haube Methoden."
   ]
  },
  {
   "cell_type": "code",
   "execution_count": null,
   "id": "b78da4d4-8a59-45b9-8bd6-5faea1f0d27b",
   "metadata": {},
   "outputs": [],
   "source": []
  }
 ],
 "metadata": {
  "kernelspec": {
   "display_name": "Python 3 (ipykernel)",
   "language": "python",
   "name": "python3"
  },
  "language_info": {
   "codemirror_mode": {
    "name": "ipython",
    "version": 3
   },
   "file_extension": ".py",
   "mimetype": "text/x-python",
   "name": "python",
   "nbconvert_exporter": "python",
   "pygments_lexer": "ipython3",
   "version": "3.12.3"
  }
 },
 "nbformat": 4,
 "nbformat_minor": 5
}
