{
 "cells": [
  {
   "cell_type": "markdown",
   "id": "580398f2-bcca-46db-92fd-c340d30e08b2",
   "metadata": {},
   "source": [
    "[Zurück zum Inhaltsverzeichnis](_Inhaltsverzeichnis_.ipynb)"
   ]
  },
  {
   "cell_type": "markdown",
   "id": "40669727-b26a-494d-a05a-7ccd70b52ab0",
   "metadata": {},
   "source": [
    "## Generelles zu Sequenzen"
   ]
  },
  {
   "cell_type": "markdown",
   "id": "72828e9d-96ae-4179-b1ff-b6624e278c59",
   "metadata": {},
   "source": [
    "In Python werden Datentstrukturen noch in Gruppen gepackt. Wie hier die Sequenzen, das hat den Vorteil, dass alle ähnlichen Funktionalitäten für alle Sequenzen gleich sind.\n",
    "\n",
    "Weitere Sammelbegriffe in Python: \n",
    "\n",
    "1. Sequenz => durchnummeriert, geordnete Datenstruktur\n",
    "2. Iterables => Wenn man drüber laufen kann mit einer for-loop\n",
    "    - in Modul 2 lernen wir das Iterator-Pattern und verstehen\n",
    "        1. Iterator\n",
    "        2. Iterables besser\n",
    "    - Jede Sequenz ist auch ein Iterable, aber es gibt noch viele weitere\n",
    "    - Eigene Klassen/Datentypen kann man auch zum Iterable machen\n",
    "3. Mutable bedeutet veränderbar\n",
    "     - Listen sind mutable Sequenzen \n",
    "     - Dictionary, set sind mutable\n",
    "4. Immutable bedeutet unveränderlich\n",
    "    - tuple und str sind Immutable Sequenzen\n",
    "    - int, float => immutable"
   ]
  }
 ],
 "metadata": {
  "kernelspec": {
   "display_name": "Python 3 (ipykernel)",
   "language": "python",
   "name": "python3"
  },
  "language_info": {
   "codemirror_mode": {
    "name": "ipython",
    "version": 3
   },
   "file_extension": ".py",
   "mimetype": "text/x-python",
   "name": "python",
   "nbconvert_exporter": "python",
   "pygments_lexer": "ipython3",
   "version": "3.12.3"
  }
 },
 "nbformat": 4,
 "nbformat_minor": 5
}
