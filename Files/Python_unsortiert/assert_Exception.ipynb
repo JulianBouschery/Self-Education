{
 "cells": [
  {
   "cell_type": "markdown",
   "id": "545eb5d1-5527-4ec9-84e5-9bb2f91b7d33",
   "metadata": {},
   "source": [
    "# assert Exception"
   ]
  },
  {
   "cell_type": "code",
   "execution_count": null,
   "id": "69fbbb9e-a839-475a-afee-73f908fd3c8d",
   "metadata": {},
   "outputs": [],
   "source": []
  },
  {
   "cell_type": "markdown",
   "id": "15f1e49e-393b-4495-998d-ec5c64fcc2c2",
   "metadata": {},
   "source": [
    "Siehe auch: [assert (Keyword)](assert.ipynb)"
   ]
  },
  {
   "cell_type": "code",
   "execution_count": null,
   "id": "e46bf19e-4203-429f-8631-5828b212af07",
   "metadata": {},
   "outputs": [],
   "source": []
  },
  {
   "cell_type": "markdown",
   "id": "e6acbdae-8fca-40e1-b141-1d8773f37a67",
   "metadata": {},
   "source": [
    "[Beispiel zu assert im Pythontutor](\n",
    "https://pythontutor.com/visualize.html#code=%0Ax%3D0%0Aassert%20x%20!%3D%200%20,%20%28%22Hallo%22,%22du%22%29%0A%0Aif%20not%20%28x%20!%3D%200%29%3A%20%0A%20%20%20%20raise%20AssertionError%28%22HallO%22,%20%22du%22%29%0A%0Aprint%28100/x%29&cumulative=false&heapPrimitives=nevernest&mode=edit&origin=opt-frontend.js&py=311&rawInputLstJSON=%5B%5D&textReferences=false)\n"
   ]
  },
  {
   "cell_type": "code",
   "execution_count": null,
   "id": "5ff2c175-63dc-4645-be89-5f823f4df06f",
   "metadata": {},
   "outputs": [],
   "source": []
  }
 ],
 "metadata": {
  "kernelspec": {
   "display_name": "Python 3 (ipykernel)",
   "language": "python",
   "name": "python3"
  },
  "language_info": {
   "codemirror_mode": {
    "name": "ipython",
    "version": 3
   },
   "file_extension": ".py",
   "mimetype": "text/x-python",
   "name": "python",
   "nbconvert_exporter": "python",
   "pygments_lexer": "ipython3",
   "version": "3.12.4"
  }
 },
 "nbformat": 4,
 "nbformat_minor": 5
}
