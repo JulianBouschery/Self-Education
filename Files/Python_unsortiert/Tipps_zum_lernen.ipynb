{
 "cells": [
  {
   "cell_type": "markdown",
   "id": "6df336bc-7088-4c36-8917-b6d0778f5c8c",
   "metadata": {},
   "source": [
    "[Zurück zum Inhaltsverzeichnis](_Inhaltsverzeichnis_.ipynb)"
   ]
  },
  {
   "cell_type": "markdown",
   "id": "776beb8f-0741-4628-a529-a1e3ff7acc9e",
   "metadata": {},
   "source": [
    "# Tipps zum Lernen"
   ]
  },
  {
   "cell_type": "markdown",
   "id": "748b2c32-5467-4ce4-a15d-43eb5096ba85",
   "metadata": {},
   "source": [
    "## Art der Lernstruktur:"
   ]
  },
  {
   "cell_type": "markdown",
   "id": "d9a9cf25-725d-40a5-8b86-be72d68e1303",
   "metadata": {},
   "source": [
    "Da Python nunmal eine Programmiersprache ist wird man um digitalles Lernmaterial nicht völlig herum kommen. Aber man sollte sich trotzdem überlegen welche Hauptlernstrucktur man bevorzugt und mit was man zurecht kommt. Am ende des Tages ist es völlig egal was es alles für tolle Lernmethoden gibt, es ist nur das nützlich, was bei DIR funktioniert. "
   ]
  },
  {
   "cell_type": "markdown",
   "id": "02af3ad3-744c-4ca4-9250-d46631d96237",
   "metadata": {},
   "source": [
    "- Wie habe ich bisher in meinem Leben gelernt und wie gut hat das für mich funktioniert?\n",
    "- Führe ich meine Unterlagen Handschriftlich oder Digital?\n",
    "- Was für ein Lerntyp bin ich? (Was sind Lerntypen?)"
   ]
  },
  {
   "cell_type": "markdown",
   "id": "2beb6fa3-e59d-4a4c-bf29-4675d3ca8d8d",
   "metadata": {},
   "source": [
    "**Pro Digital / Contra Handschriftlich**\n",
    "Digitale Unterlagen:\n",
    "\n",
    "- lassen sich leicht sammeln und schneller schreiben (copy paste ChatGPT, dass man dann nur noch anpassen muss)\n",
    "- lassen sich leichter sortieren, Warten, Zusammenfassen, teilen und kopieren. Dadurch neigt man aber auch dazu mehr aufzuschreiben als man eigentlich bräucht. Man kopiert schnell eine Bespielaufgabe mehr in ein Skript, obwohl man sich nicht in der Tiefe mit diesem Beispiel befasst hat. Und es kostet viel Zeit Ordnung in den ganzen Dateien zu halten, aber das ist der Preis für die große Flexibilität.\n",
    "- Insbesondere Digitale Karteikarten werden besonders gerne geteilt.\n",
    "- sind leicht zu prüfen, da man Codesnippets, direkt testen kann."
   ]
  },
  {
   "cell_type": "markdown",
   "id": "519127dd-bc84-4975-bf60-856d45cec489",
   "metadata": {},
   "source": [
    "**Pro Handschiftlich / Contra Digital**\n",
    "Handschriftliche Unterlagen:\n",
    "\n",
    "- werden durch die Schreibbewegung der Hand über einen weiteren Sinn (Haptik) aufgenommen und besser verinnerlicht. Gerade für Menschen mit einem Schreibenden / Mototrischen Lerntyp geeignet.\n"
   ]
  },
  {
   "cell_type": "markdown",
   "id": "fc2aea46-bdd0-45fd-a328-a86db8b31b3b",
   "metadata": {},
   "source": [
    "ICH PERSÖNLICH hab so eine Sauklaue, dass ich das Digitale immer bevorzugen würde, und du würdest das hier nicht lesen, wenn ich alles handschriftlich gamecht hätte. Aber das ist jedem selbst überlassen."
   ]
  },
  {
   "cell_type": "markdown",
   "id": "828380c0-f462-4145-abb5-3a86e6a57867",
   "metadata": {},
   "source": [
    "## Phillips Tipps zum Lernen"
   ]
  },
  {
   "cell_type": "markdown",
   "id": "1a3053c1-63a5-460a-b182-6ef4d308d50d",
   "metadata": {
    "jp-MarkdownHeadingCollapsed": true
   },
   "source": [
    "### Schritt 1."
   ]
  },
  {
   "cell_type": "markdown",
   "id": "e2c7a7e3-af3a-4c82-baa6-4f3e2722a8c8",
   "metadata": {},
   "source": [
    "#### Wie lese ich das Lernmaterial RICHTIG?"
   ]
  },
  {
   "cell_type": "markdown",
   "id": "76334bbf-5357-456b-99f8-607944cc8c2f",
   "metadata": {},
   "source": [
    "Ich fange mit dem INHALTSVERZEICHNIS an. Dafür nehmen ich mir so viel Zeit wie es eben braucht um es einmal komplett und gründlich durch zu lesen (>= 30 min). Dabei Frage ich mich selbst: \"Was kenn ich davon schon, und was würde ich mir darunter vorstellen?\""
   ]
  },
  {
   "cell_type": "markdown",
   "id": "860ebe13-0160-4f67-951b-b5aaaf628e14",
   "metadata": {},
   "source": [
    "Beispiel Inhaltsverzeihnis:"
   ]
  },
  {
   "cell_type": "markdown",
   "id": "9865e040-4cb1-4c0a-b77d-2b8a7dc522c2",
   "metadata": {},
   "source": [
    "**Python Crash-Course 3rd. Edition**\n",
    "```python\n",
    "PART I: BASICS 1\n",
    "\n",
    "Chapter 1: Getting Started 3\n",
    "Chapter 2: Variables and Simple Data Types 15 \n",
    "Chapter 3: Introducing Lists 33 \n",
    "Chapter 4: Working with Lists 49\n",
    "Chapter 5: if Statements 71\n",
    "Chapter 6: Dictionaries 91\n",
    "Chapter 7: User Input and while Loops 113\n",
    "Chapter 8: Functions 129\n",
    "Chapter 9: Classes 157\n",
    "Chapter 10: Files and Exceptions 183\n",
    "Chapter 11: Testing Your Code 209\n",
    "...\n",
    "```"
   ]
  },
  {
   "cell_type": "markdown",
   "id": "6819908f-567a-4827-8f17-8f3225ec0165",
   "metadata": {},
   "source": [
    "Wenn man schon ein paar Grundlagen kennt:"
   ]
  },
  {
   "cell_type": "markdown",
   "id": "2aeb4967-046c-4a8d-aa4f-1b0078cb67bd",
   "metadata": {},
   "source": [
    "**Python Crash-Course 3rd. Edition**\n",
    "```python\n",
    "PART I: BASICS 1\n",
    "\n",
    "Chapter 1: Getting Started 3\n",
    "Chapter 2: Variables and Simple Data Types 15 # Ok, was weiß ich über Variablen? Welche Datentypen kenne ich?\n",
    "Chapter 3: Introducing Lists 33 \n",
    "Chapter 4: Working with Lists 49\n",
    "Chapter 5: if Statements 71\n",
    "Chapter 6: Dictionaries 91\n",
    "Chapter 7: User Input and while Loops 113\n",
    "Chapter 8: Functions 129\n",
    "Chapter 9: Classes 157\n",
    "Chapter 10: Files and Exceptions 183\n",
    "Chapter 11: Testing Your Code 209\n",
    "...\n",
    "```"
   ]
  },
  {
   "cell_type": "markdown",
   "id": "e628783d-b264-4337-a5c0-9b71ee1192d9",
   "metadata": {},
   "source": [
    "Oder wenn ich gar keine Erfahrung mit Programmierung habe oder in ein völlig neues Thema einsteige:"
   ]
  },
  {
   "cell_type": "markdown",
   "id": "186b061a-e455-40bf-acd0-efa5547d0fcc",
   "metadata": {},
   "source": [
    "**Python Crash-Course 3rd. Edition**\n",
    "```python\n",
    "PART I: BASICS 1\n",
    "\n",
    "Chapter 1: Getting Started 3 # Ok, das wird eine Einleitung sein.\n",
    "Chapter 2: Variables and Simple Data Types 15 # Was sind Variablen? Ich kenn den Begriff aus der Mathematik. Da sind es Platzhalter für Zhalen x = 1 und so... Was sind Datentypen? Offenbar gibt es unterschiedliche Arten Daten zu speichern. Ich hab mal was von einem Binärsystem gehört geht das vielleicht in diese Richtung?\n",
    "Chapter 3: Introducing Lists 33 # Liste verstehe ich. Kann man Dinge rein schreiben.\n",
    "Chapter 4: Working with Lists 49 # Ok, Praktische Anwendung  \n",
    "Chapter 5: if Statements 71 # if Statements... if heißt \"Wenn\". Wenn das, dann mach das... Ok.\n",
    "Chapter 6: Dictionaries 91 # Dictionaties --> \"Wörterbuch\"? \n",
    "Chapter 7: User Input and while Loops 113 # Input ist vermutlich irgendeine Form von Eingabe oder Daten die genutzt werden\n",
    "# while Loops... while heißt \"solange\" und Loop ist eine Schleife. Sollange Schleife... Ok, mal schauen.\n",
    "Chapter 8: Functions 129 # Funktions --> Ist bestimmt Code, der irgendeine spezielle Funktion hat oder etwas macht.\n",
    "Chapter 9: Classes 157 # Classes... Wenn ich etwas in eine Klasse oder Kategorie einteile möchte ich damit etwas struckturieren.\n",
    "Chapter 10: Files and Exceptions 183 # Flies sind Dateien. Exceptions heißt \"Ausnahme\" vielleicht irgendwelche Sonderfälle?\n",
    "Chapter 11: Testing Your Code 209 # Wahrscheinlich Tipps und Tricks rund ums Testen von Code\n",
    "...\n",
    "```"
   ]
  },
  {
   "cell_type": "markdown",
   "id": "31273963-47e3-43f6-ad6e-65424505006e",
   "metadata": {
    "jp-MarkdownHeadingCollapsed": true
   },
   "source": [
    "### Schritt 2."
   ]
  },
  {
   "cell_type": "markdown",
   "id": "e61a95ed-533f-4002-aa1e-7a5a2670f591",
   "metadata": {},
   "source": [
    "Als nächstes schau ich mir die einzelnen Kapitel an. In einem gutem Buch sollte ein Kaptitel in drei Teile aufgeteilt sein. Einleitung, Hauptteil und Schluss. Zumindest solltes das der Fall sein, wenn das Kapitel länger als 10 Seiten ist. Ich schaue also ob es eine Einleitung oder einen Schluss gibt, wo das Kapitel kurz **zusammenfasst** wird. Diese Zusammenfasung lese ich mir dann durch."
   ]
  },
  {
   "cell_type": "markdown",
   "id": "09c5b716-b703-4f9c-9b42-a25c097d24fd",
   "metadata": {},
   "source": [
    "Dafür nimmt man sich je nach Umfang des Buches und Anzahl der Kapitel >= 1 Stunde. "
   ]
  },
  {
   "cell_type": "markdown",
   "id": "ab08c8b8-fd6c-4485-af24-8e0146fcafb7",
   "metadata": {},
   "source": [
    "Hat man das GANZE Buch (oder zumindest eine Zusammenfassung des Buches) gelesen, kann sich das Wissen beim Durcharbeiten des Buches viel besser setzen, weil das Gehirn schon Zeit hat sihc mit den ganzen Begriffen auseinander zu setzten. So zu sagen schon mal \"Ordner im Kopf anlegen\", wo das Wissen später rein kommt. "
   ]
  },
  {
   "cell_type": "markdown",
   "id": "202e852e-1e07-40ea-9b92-0711c392f8d7",
   "metadata": {
    "jp-MarkdownHeadingCollapsed": true
   },
   "source": [
    "### Schritt 3."
   ]
  },
  {
   "cell_type": "markdown",
   "id": "f163fa13-3943-4308-a2dc-3e5e4345dcc9",
   "metadata": {},
   "source": [
    "Dann geht es an den Deep Dive. Hier ließt man sich den Text durch und schreibt sich alles raus das eine Überschrift, oder Fettgeschrieben ist. Außerdem schreibt man Fragen zu allem auf, was man nicht versteht und schreibt Definitionen zu den einzelnen Sachverhalten. Erkläre dir das Thema an vielen kleinen Beispielen (so klein wie möglich, aber so groß wie nötig).\n",
    "Lies dir selbst laut vor was im Code passiert."
   ]
  },
  {
   "cell_type": "markdown",
   "id": "0a1a605e-70d0-4252-85cf-bfc49e42fdeb",
   "metadata": {},
   "source": [
    "Beispiel:"
   ]
  },
  {
   "cell_type": "code",
   "execution_count": 2,
   "id": "59f9b8c5-a708-4b25-9ef4-f8818932c619",
   "metadata": {},
   "outputs": [],
   "source": [
    "class Charakter: # \"class\" sagt Achtung jetzt kommt die Klasse \"Charakter\" --> Das ist der Klassenname.\n",
    "    \n",
    "    # Die def-Funktion ist eingerückt, deshalb gehört diese Funktion zur Klasse und ist damit eine (Klassefunktion) / Methode.\n",
    "    def __init__(self, my_name, my_age):\n",
    "        # __init__ ist eine Methode, die für das Anlegen neuer Instanzvariablen zuständig ist. \n",
    "        # (Wie das genau funktioniert schaut man sich vielleicht irgendwann mal an...)\n",
    "        \n",
    "        self.name = my_name # Das sind Instanzvariablen die durch self.IDENTIFIER (name und age) erstellt werden.\n",
    "        self.age = my_age   # (Ein Identifier ist so ähnlich wie der Key im Dictionary)\n",
    "                            # Den Instanzvariablen werden in dieser Schreibweise über ihre Parameter automatisch die \n",
    "                            # entsprechenden Argumente zugewiesen, soblad dies der Methode beim Aufruf übergeben wurden. \n"
   ]
  },
  {
   "cell_type": "markdown",
   "id": "53abd6d4-91cf-45ae-a9ff-bb6242097454",
   "metadata": {},
   "source": [
    "- Schreibt dir Skripte, verwerf sie, schreib sie neu. \n",
    "- Schrieb dir deine Fragen auf und stell sie, lass sie dir erklären, Frag deinen Lehrer, frag deine Mitschüler, schau dir ein Video auf Youtube zu dem Thema an, frag ChatGPT.\n",
    "- Schau dir die Definition an und formulier sie so um, dass DU sie verstehst.\n",
    "- Organisiere deine Unterlagen, so das DU damit zurecht kommst und dich IN ihnen zurecht findest. (Nichts ist schlimmer als Doppelt arbeiten zu müssen, weil am etwas nicht wieder findet...)\n",
    "- Mach Übungsaufgaben zu jedem Thema um zu prüfen ob du es wirklich verstanden hast.\n",
    "\n",
    "Das ist der Schritt, der die meiste Zeit kostet, aber er ist unerlässlich wenn man das Wissen und die Fertigkeiten die man erlernen möchte wirklich verinnerlich will.\n",
    "\n",
    "Das wichtigste und schwierigste bei Schritt 4. ist, den Überblick zu behalten und sich nicht von der Flut an Informationen überwältigen lassen.\n",
    "\n",
    "Wenn das immer schwieriger wird ist es höchste Zeit zu Schritt 4. überzugehen!"
   ]
  },
  {
   "cell_type": "markdown",
   "id": "3b070f9c-9cf9-4195-8b4a-66f85123c282",
   "metadata": {
    "jp-MarkdownHeadingCollapsed": true
   },
   "source": [
    "### Schritt 4:"
   ]
  },
  {
   "cell_type": "markdown",
   "id": "ce73e849-0898-442d-ac8f-31acbdac158d",
   "metadata": {},
   "source": [
    "Das Zusammenfassen. \n",
    "\n",
    "Man hat das ganze Wissen und all die Informationen gesammelt und nun muss man alles in eine Komprimierte Form bringen um es für die Prüfung leichter lernen zu können. Es ist hilfreich, dass nach jedem \"Lernblock\" zu machen, bevor man sich wieder in komplett neue Themen stürzt."
   ]
  },
  {
   "cell_type": "markdown",
   "id": "cd1358b4-4810-471b-baea-75a4fcae86fc",
   "metadata": {},
   "source": [
    "60 % der Themen, wo du dir bei Schritt 3 noch dachtest: \"Scheiße, wie soll ich mir das alles Merken?\", werden sich von selbst erledigt haben, wenn du eine Zusammenfassung des entsprechenden Themas geschrieben hast. Das wieder und wieder durchgehen, das dir selbst erklären, und das aufbauen des Verständnisses, dass du brauchst UM diese Zusammenfassung schreiben zu können ist **eigentlich** Wichtige. Das man gutes Material hat um für die Prüfung zu paucken ist ein Bonus."
   ]
  },
  {
   "cell_type": "markdown",
   "id": "6eb1500b-144d-4b12-a913-0a64ffb5eba4",
   "metadata": {},
   "source": [
    "Schreib die Zusammenfassung so, dass du eine Frage stellst, aber Lösung verdecken kannst. Um besser damit pauken zu können."
   ]
  },
  {
   "cell_type": "markdown",
   "id": "3bd17a80-0034-441d-be97-3def1ade76f5",
   "metadata": {},
   "source": [
    "Alles was du mit dieser Technik nicht automatisch lernst nimmst du mit zu Schritt 5."
   ]
  },
  {
   "cell_type": "markdown",
   "id": "dd86886f-b103-458b-997b-329c66b61486",
   "metadata": {
    "jp-MarkdownHeadingCollapsed": true
   },
   "source": [
    "### Schritt 5."
   ]
  },
  {
   "cell_type": "markdown",
   "id": "fc51508c-8c38-4b74-a499-00dd59cb113a",
   "metadata": {},
   "source": [
    "Karteikarten schreiben.\n",
    "\n",
    "Jede Frage, jeder Fakt, jedes Problem, jede Regel, dass bisher ums verrecken nicht in deinen Kopf wollte schreibst du dir auf eine Karteikarte. Dann verdreh diese Information zu einer FRAGE UND erstelle mehrere Variationen um das Problem von mehreren Seiten zu betrachten. Es ist egal ob Handschriftlich oder Digital."
   ]
  },
  {
   "cell_type": "markdown",
   "id": "238a75b8-ac48-4f19-bd70-a823531836fd",
   "metadata": {},
   "source": [
    "#### Beispiel:"
   ]
  },
  {
   "cell_type": "markdown",
   "id": "1072c2db-5510-4638-9f72-bb4775b96aca",
   "metadata": {},
   "source": [
    "Nehmen wir einmal an du möchtest dir folgenden Fakt merken: \n",
    "\n",
    "\"Wenn man eine genamemanglte Klassenvarible AUF einer Instanz aufruft, statt auf einer Klasse, dann rufst du nicht die bestehende Variable auf, sonder erstellst eine NEUE INSTANZvariable mit dem selben Namen.\""
   ]
  },
  {
   "cell_type": "markdown",
   "id": "b2297f2b-2716-41e6-a40a-8e66b9d26d43",
   "metadata": {},
   "source": [
    "Zu einer Frage umformuliert:\n",
    "\n",
    "- \"Was passiert, wenn man eine genamemanglte Klassenvarible auf einer Instanz aufruft?\"\n",
    "- \"Kann man eine genamemanglte Klassenvarible ändern indem man ihr auf einer Instanz, einen neuen Wert zuweißt?\"\n",
    "- Class: __classvar = 42 --> Instance._Class__classvar = 43 --> __classvar = ?"
   ]
  },
  {
   "cell_type": "markdown",
   "id": "842dbff4-20c2-4b0e-b3eb-0f40609670a7",
   "metadata": {},
   "source": [
    "Das Beispiel ist zwar nicht optimal, aber das soll für den ersten Versuch reichen."
   ]
  },
  {
   "cell_type": "code",
   "execution_count": null,
   "id": "a362962e-6459-433e-9238-255f7c4bc6c1",
   "metadata": {},
   "outputs": [],
   "source": [
    "# Was passiert mit __classvar?\n",
    "\n",
    "class Class:\n",
    "    __classvar = 42\n",
    "\n",
    "    def __init__(self, var):\n",
    "        self.var = var\n",
    "\n",
    "Instance = Class(42)\n",
    "\n",
    "Instance._Class__classvar(43)"
   ]
  },
  {
   "cell_type": "code",
   "execution_count": null,
   "id": "c1267a80-f775-46ea-9e9f-2b3445274480",
   "metadata": {},
   "outputs": [],
   "source": [
    "Class: __classvar = 42 --> Instance._Class__classvar() --> ?"
   ]
  },
  {
   "cell_type": "code",
   "execution_count": null,
   "id": "777db705-4dd8-439e-81ad-1b803020e23a",
   "metadata": {},
   "outputs": [],
   "source": [
    "Instance._Classe__classvar() --> ?"
   ]
  },
  {
   "cell_type": "markdown",
   "id": "0b555041-14af-4976-9172-9aaf4c625f53",
   "metadata": {
    "jp-MarkdownHeadingCollapsed": true
   },
   "source": [
    "### Schritt 6."
   ]
  },
  {
   "cell_type": "markdown",
   "id": "bca81b99-67ab-40fe-a72f-628ef18ce815",
   "metadata": {},
   "source": [
    "Für den PCEP / PCAP / PCPP oder vergleichbare Prüfungen reicht es den gesamten Stoff 3 mal in seiner gänze zu wiederholen. \n",
    "\n",
    "Einmal im Schnelldurchlauf um einen Überblick zu bekommen, einmal im Detail mit Übungsaufgaben um ein echtes Verständnis zu entwickeln und einmal als kompremierte Version zur Prüfungsvorbereitung damit man Stoff auch unter Stress abrufen kann.\n",
    "\n",
    "Möchte man etwas Perfekt beherrschen sollte man es 5 mal durchgehen. "
   ]
  },
  {
   "cell_type": "markdown",
   "id": "28b9c03a-fd21-4b55-9a34-fe6cf81ec555",
   "metadata": {},
   "source": [
    "Nimmt man an einem Kurs teil oder macht eine Ausbildung ist der Unterricht schon 2 von 3 Wiederholungen. Einmal sollte man denn Stoff zuhause nochmal durcharbeiten."
   ]
  },
  {
   "cell_type": "markdown",
   "id": "931e08b6-c5ed-47ff-9461-9bf47c851d35",
   "metadata": {},
   "source": [
    "### Schritt 7."
   ]
  },
  {
   "cell_type": "markdown",
   "id": "95c84d90-0cc1-4687-9655-1276b307dad0",
   "metadata": {},
   "source": [
    "Ob man alles Verstanden hat und anwenden kann überprüft / trainiert man mit massenhaft Übungsaufgaben."
   ]
  },
  {
   "cell_type": "markdown",
   "id": "1cc0a3a4-1249-4c12-a3f8-54f2e2f7007d",
   "metadata": {
    "jp-MarkdownHeadingCollapsed": true
   },
   "source": [
    "# Weiter Tipps"
   ]
  },
  {
   "cell_type": "markdown",
   "id": "c8d8c621-c4ef-4afa-9348-74b8d5e527e9",
   "metadata": {},
   "source": [
    "Ein Mitschüler:\n",
    "\n",
    "Also ich kann nur aus Erfahrung sagen. Arbeitet einfach die online Module einmal durch ohne viel links und rechts. Ich schreibe auch nichts auf, mache höchstens Screenshots. Den Aufgaben gebe ich auch höchstens halbe Stunde und dann schaue ich mir die Lösung von ChatGPT genau an um die zu verstehen. Und dann am Ende in den Practice Übungen von allem einen Screenshot machen zum lernen, aber bevor ich damit lerne gehe ich direkt einmal in den Practice Test für das jeweilige Modul."
   ]
  },
  {
   "cell_type": "code",
   "execution_count": null,
   "id": "104aaf10-691c-49a0-a0be-170009a7e50c",
   "metadata": {},
   "outputs": [],
   "source": []
  }
 ],
 "metadata": {
  "kernelspec": {
   "display_name": "Python 3 (ipykernel)",
   "language": "python",
   "name": "python3"
  },
  "language_info": {
   "codemirror_mode": {
    "name": "ipython",
    "version": 3
   },
   "file_extension": ".py",
   "mimetype": "text/x-python",
   "name": "python",
   "nbconvert_exporter": "python",
   "pygments_lexer": "ipython3",
   "version": "3.12.6"
  }
 },
 "nbformat": 4,
 "nbformat_minor": 5
}
