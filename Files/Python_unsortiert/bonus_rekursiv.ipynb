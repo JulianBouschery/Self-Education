{
 "cells": [
  {
   "cell_type": "markdown",
   "id": "dc60e557-6bde-4349-852e-fd5627bfe7cc",
   "metadata": {},
   "source": [
    "# Bonus zu Rekursiven Funktionen"
   ]
  },
  {
   "cell_type": "markdown",
   "id": "e1d7218e-c58f-409a-a6d4-9e75573db7ba",
   "metadata": {},
   "source": [
    "Ich mag Metaphern.\n",
    "Versuchen wir mal es uns so vorzustellen:"
   ]
  },
  {
   "cell_type": "markdown",
   "id": "b20bc4ac-1073-4319-82ae-ea7c4dc620fb",
   "metadata": {},
   "source": [
    "Wir befinden uns in einem kleinen Dorf auf dem Land und es ist die Wirtschaftskriese 1930. Der Wert der lokalen Währung ist ins Bodenlose gesunken. Wie viel ist eine 1 $ Note noch Wert? Was kann man dafür kaufen? Niemand weiß es genau und niemand möchte seine Waren oder seine Arbeitsleistung gegen einen wertlosen Fetzen Papier tauschen, für den er später nichts mehr bekommt, wenn man es braucht. Dadurch kommt die Wirtschaft zum erliegen und Arbeitslosigkeit, Armut und Elend breiten sich im Dorf aus.\n",
    "\n",
    "Im Dorf lebt auch der alte Jenkins. Ein angesehener Bürger, der früher einmal der Bürgermeister der Stadt war, der nun aber schon auf die 80 zugeht und im Ruhestand ist.\n",
    "\n",
    "Der alte Jenkins geht durch die Stadt zu einer Bäckerei. Vor der Bäckerei steht eine Schlange von Menschen, die darum feilschen, wie teuer ein Brot sein soll. \"Ich zahle 30$ für ein Brot! Pah ich zahle 50! 100 Dollar für ein Brot!\"\n",
    "\n",
    "Der alte Jenkins geht an der Schlange vorbei und fragt was das Problem sei. Die Bäckerin erklärt, dass sie nicht wisse für wie viel Geld sie die Brote verkaufen soll, aber dass die Menschen ihr bald die Türen einrennen...\n",
    "\n",
    "Der alte Jenkins nickt und zieht eine Silbermünze aus seiner Jackentasche. Das Metall glizert in der Sonne und ein Raunen geht durch die Menschen. \"Ein Silver-Doller.\" \"Eine ganze feinunze Silber...\"\n",
    "\n",
    "Jenkins fragt die Bäckerin: \"Wie viele Brote bekomme ich für einen Silver-Dollar?\"\n",
    "\n",
    "Bäckerin: \"Für diese Silbermünze? , fragt sie und überlegt kurz: \"20 Brote.\" \n",
    "\n",
    "Ein aufschrei geht durch die Menge: \"20?\" \"Und was sollen wir essen?\" \"Ich habe kein Silber!\"\n",
    "\n",
    "Der alte Jenkins hebt die Hand und die Menge verstummt.\n",
    "\n",
    "Jenkins: \"Die Dollar Note war früher ein Silberzertifikat, das man gegen echtes Silber eintauschen konnte. Daher kommt der Wert des Geldes. Was braucht es uns zu kümmern, wenn der Rest der Welt verrückt spielt? So lange wir unter uns bleiben und uns gegenseitig helfen, wird es uns gut gehen. Darauf vertraue ich. Darauf und auf Gott.\"\n",
    "\"Ich verkaufe meine Silbermünze für 20 Dollar. Ist jemand bereit meine Münze zu nehmen und mir dafür 20 Dollar zu geben?\"\n",
    "\n",
    "Ein junger Mann vorne in der Reihe meldet sich gibt dem alten Jenkins ein Bündel Scheine, und nimmt die Münze dafür entgegen.\n",
    "\n",
    "Der alte Jenkins zieht einen 1 Dollarschein aus dem Bündel, geht zur Bäckerin und sagt: \"Ich würde gerne ein Brot kaufen.\"\n",
    "\n",
    "Alle sind völlig baff. Die Bäckerin nimmt den 1 $ Schein entgegen und betrachtet ihn.\n",
    "\n",
    "Jenkins: \"Gibt es ein Problem? Gerade wolltest du mir noch 20 Brote verkaufen...\"\n",
    "\n",
    "\"Nein, Sir. Kein Problem.\", sagte die Bäckerin und gibt ihm ein Brot.\n",
    "\n",
    "Darauf hin verabschiedet sich der alte Jenkins und geht nachhause. \n",
    "\n",
    "Die Bäckerin kehrt in ihren Laden zurück und schreibt: \"1 Brot = 1 $\" auf eine Schiefertafel im Schaufenster.\n",
    "\n",
    "Darauf hin beruhigen sich alle, kaufen was sie brauchen und beginnen am nächsten selbst wieder mit der arbeit die sie gelernt haben und erzählen jedem den sie treffen was der alte Jenkins getan hat.\n",
    "\n",
    "Und so wurde es in dem kleinen Dorf wieder normal, weil ein Mann entschieden hatte, das es so sei."
   ]
  },
  {
   "cell_type": "markdown",
   "id": "095fb2a7-08e4-4b12-b748-37e663b9a108",
   "metadata": {},
   "source": [
    "1. Wie viel sind 20 Dollar Wert? \n",
    "2. So viel wie 20 x 1 Dollarscheine.\n",
    "3. Wie viel ist ein Dollar wert?\n",
    "4. So viel wie ein Brot.\n",
    "5. Wie viel sind 20 Dollar wert?\n",
    "6. So viel wie 20 Brote, oder eine Feinunze Silber.  "
   ]
  },
  {
   "cell_type": "code",
   "execution_count": 2,
   "id": "8f29f76e-072d-47c8-8e2d-3c72bb156dea",
   "metadata": {},
   "outputs": [],
   "source": [
    "def Vertrauen(Dollar_Note):\n",
    "    if Dollar_Note < 0:\n",
    "        raise ValueError(\"Fakultät ist für negative Werte nicht definiert.\")\n",
    "    if Dollar_Note == 0 or Dollar_Note == 1:\n",
    "        return 1 # Ein Brot hat einfach genau einen Dollar zu kosten!\n",
    "    else:\n",
    "        return Dollar_Note * Vertrauen(Dollar_Note - 1)"
   ]
  },
  {
   "cell_type": "code",
   "execution_count": 3,
   "id": "12292d71-1878-4cb5-a87b-ffd30b37a43f",
   "metadata": {},
   "outputs": [
    {
     "data": {
      "text/plain": [
       "120"
      ]
     },
     "execution_count": 3,
     "metadata": {},
     "output_type": "execute_result"
    }
   ],
   "source": [
    "Vertrauen(5)"
   ]
  },
  {
   "cell_type": "markdown",
   "id": "9fbaf2e0-0f93-4492-89c1-53e60b1585c6",
   "metadata": {},
   "source": [
    "Jaaaa, ist zwar ne schöne Geschichte, aber so richtig erklären tut es dann doch wieder nicht, wie Rekursive Funktionen funktionniern. Nur das man zur Wurzel des Problems geht und dort einen Wert definiert, auf dem dann die Restliche berechnung aufbauen kann, weil man der Variable endlcih einen festen Wert zugewiesen hat."
   ]
  },
  {
   "cell_type": "code",
   "execution_count": null,
   "id": "1cad4366-6334-42bc-a952-9c4ec70ebdae",
   "metadata": {},
   "outputs": [],
   "source": []
  }
 ],
 "metadata": {
  "kernelspec": {
   "display_name": "Python 3 (ipykernel)",
   "language": "python",
   "name": "python3"
  },
  "language_info": {
   "codemirror_mode": {
    "name": "ipython",
    "version": 3
   },
   "file_extension": ".py",
   "mimetype": "text/x-python",
   "name": "python",
   "nbconvert_exporter": "python",
   "pygments_lexer": "ipython3",
   "version": "3.12.3"
  }
 },
 "nbformat": 4,
 "nbformat_minor": 5
}
