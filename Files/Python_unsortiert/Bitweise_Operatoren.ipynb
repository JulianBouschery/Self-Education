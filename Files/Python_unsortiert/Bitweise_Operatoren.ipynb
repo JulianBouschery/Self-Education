{
 "cells": [
  {
   "cell_type": "markdown",
   "id": "1a434e64-320e-468d-a6b7-88da2d1ac1aa",
   "metadata": {},
   "source": [
    "[Zurück zum Inhaltsverzeichnis](_Inhaltsverzeichnis_.ipynb)"
   ]
  },
  {
   "cell_type": "markdown",
   "id": "4c347db8-6252-4331-9c2b-15b0e80d4df9",
   "metadata": {},
   "source": [
    "# Bitweise Operatoren / Vergleiche:"
   ]
  },
  {
   "cell_type": "markdown",
   "id": "63ddca79-c170-4076-9588-7517b5cce336",
   "metadata": {},
   "source": [
    "Im Bitweisen Vergleich nimmt man die binärzahl einer Zahl gleicht sie bit bür bit miteinander ab, wobei man die einstprechenden Boolschen Operatoren anwendet"
   ]
  },
  {
   "cell_type": "markdown",
   "id": "49510b5b-b6a3-4629-b5c0-bc37cb542460",
   "metadata": {},
   "source": [
    "[Zahlensysteme](Zahlensysteme.ipynb)"
   ]
  },
  {
   "cell_type": "markdown",
   "id": "e7e87643-285c-4c8a-9a0b-57e45fbef3db",
   "metadata": {},
   "source": [
    "Wenn man sich die Wahrheitstabellen noch mal anschauen möchte: [Anwendung Boolsche Operatoren](Anwendung_Boolsche_Operatoren.ipynb)"
   ]
  },
  {
   "cell_type": "markdown",
   "id": "72cd5ccc-b59e-4964-a464-1e72b242bb41",
   "metadata": {},
   "source": [
    "Das schlimmste am Bitweisen Vergleich ist nicht, das Rechenen mit Binärenzahlensystemen, sondern das AUSWENDIG lernen dieser Grütze!!! Ich persönlich lerne das nicht und gehe da auf Mut zur Lücke in die Prüfgung."
   ]
  },
  {
   "cell_type": "code",
   "execution_count": 8,
   "id": "a9a294e8-f407-4979-89c1-3ee3cfffca06",
   "metadata": {},
   "outputs": [
    {
     "name": "stdout",
     "output_type": "stream",
     "text": [
      "Dezimalzahl | Binärzahl\n",
      "         0  |  0b0\n",
      "         1  |  0b1\n",
      "         2  |  0b10\n",
      "         3  |  0b11\n",
      "         4  |  0b100\n",
      "         5  |  0b101\n",
      "         6  |  0b110\n",
      "         7  |  0b111\n",
      "         8  |  0b1000\n",
      "         9  |  0b1001\n",
      "         10  |  0b1010\n"
     ]
    }
   ],
   "source": [
    "liste = (range(0,11))\n",
    "print(\"Dezimalzahl | Binärzahl\")\n",
    "for i in liste:\n",
    "    print(f\"         {i}  |  {bin(i)}\")"
   ]
  },
  {
   "cell_type": "markdown",
   "id": "62f810c0-b7f6-4c55-8d8c-bd4a5e2e7f40",
   "metadata": {},
   "source": [
    "Wenn man rausgefunden hat welche Binärzahl die Variable hat kann man Rechnen."
   ]
  },
  {
   "cell_type": "markdown",
   "id": "84e5941f-6cec-478b-8d6b-f18197f485a4",
   "metadata": {},
   "source": [
    "1. Du hast deine Werte."
   ]
  },
  {
   "cell_type": "code",
   "execution_count": 1,
   "id": "1f373af1-a096-4199-afb5-67a7d12613db",
   "metadata": {},
   "outputs": [],
   "source": [
    "a = 5  # 0101 in binär\n",
    "b = 3  # 0011 in binär"
   ]
  },
  {
   "cell_type": "markdown",
   "id": "5acac714-b893-4504-9be3-74c2c5fcdfc5",
   "metadata": {},
   "source": [
    "2. Du schaust auf den Operator."
   ]
  },
  {
   "cell_type": "code",
   "execution_count": null,
   "id": "6eff7370-b31e-453d-bf62-594fbe7b4b4c",
   "metadata": {},
   "outputs": [],
   "source": [
    "Operatoren:\n",
    "& --> and\n",
    "| --> or\n",
    "^ --> xor"
   ]
  },
  {
   "cell_type": "markdown",
   "id": "369eb58c-49e8-4bbd-b63d-7b1a2825cc60",
   "metadata": {},
   "source": [
    "3. Man schreibt die Binärzahlen untereinander wie früher beim Rechnen in der Grundschule, schaut sich die Zahlen Spalte für Spalte an und vergleicht sie mit den entsprechenden Operator. (Spalte, nicht Zeile!)"
   ]
  },
  {
   "cell_type": "markdown",
   "id": "1916301a-5144-4917-872f-c73bcc5eb20b",
   "metadata": {},
   "source": [
    "Beispiel für `and`"
   ]
  },
  {
   "cell_type": "code",
   "execution_count": 12,
   "id": "c6d77ad9-ebf4-48ce-b041-383af6d47aa8",
   "metadata": {},
   "outputs": [
    {
     "name": "stdout",
     "output_type": "stream",
     "text": [
      "1\n"
     ]
    }
   ],
   "source": [
    "a = 5  # 0101 in binär\n",
    "b = 3  # 0011 in binär\n",
    "           \n",
    "print(a & b) # Ausgabe: 1 (0001 in binär)"
   ]
  },
  {
   "cell_type": "markdown",
   "id": "6ea6c6ba-5624-41a2-aaa0-10c16fe9331a",
   "metadata": {},
   "source": [
    "```python\n",
    "    4. 3. 2. 1.\n",
    "a = 0  1  0  1\n",
    "b = 0  0  1  1\n",
    "\n",
    "1.      010  1\n",
    "        001  1     1 and 1 == True -->   1\n",
    "\n",
    "2.      01   0   \n",
    "        00   1     0 and 1 == False -->  0\n",
    "\n",
    "3.      0    1\n",
    "        0    0     1 and 0 == False -->  0\n",
    "\n",
    "4.      0\n",
    "        0          0 and 0 == False -->  0\n",
    "\n",
    "           4. 3. 2. 1.\n",
    "Ergebnis = 0  0  0  1 --> 0b0001\n",
    "```"
   ]
  },
  {
   "cell_type": "code",
   "execution_count": 5,
   "id": "c8110d48-1e6d-4c3c-afb2-fc87159d424d",
   "metadata": {},
   "outputs": [
    {
     "data": {
      "text/plain": [
       "1"
      ]
     },
     "execution_count": 5,
     "metadata": {},
     "output_type": "execute_result"
    }
   ],
   "source": [
    "0b0001"
   ]
  },
  {
   "cell_type": "markdown",
   "id": "727a9f54-69a6-46aa-8167-65b0e8cee219",
   "metadata": {},
   "source": [
    "Beispiel für `or`"
   ]
  },
  {
   "cell_type": "code",
   "execution_count": 8,
   "id": "4e1fd42a-ceea-466b-8415-90a446fa10d0",
   "metadata": {},
   "outputs": [
    {
     "name": "stdout",
     "output_type": "stream",
     "text": [
      "7\n"
     ]
    }
   ],
   "source": [
    "a = 5  # 0101 in binär\n",
    "b = 3  # 0011 in binär\n",
    "print(a | b)  # Ausgabe: 7 (0111 in binär)"
   ]
  },
  {
   "cell_type": "markdown",
   "id": "64c5843c-d5d2-4554-be4b-a7446a53f85c",
   "metadata": {},
   "source": [
    "```python\n",
    "    4. 3. 2. 1.\n",
    "a = 0  1  0  1\n",
    "b = 0  0  1  1\n",
    "\n",
    "1.      010  1\n",
    "        001  1     1 or 1 == True -->  1\n",
    "\n",
    "2.      01   0   \n",
    "        00   1     0 or 1 == True -->  1\n",
    "\n",
    "3.      0    1\n",
    "        0    0     1 or 0 == True -->  1\n",
    "\n",
    "4.      0\n",
    "        0          0 or 0 == False --> 0\n",
    "\n",
    "           4. 3. 2. 1.\n",
    "Ergebnis = 0  1  1  1 --> 0b0111\n",
    "```"
   ]
  },
  {
   "cell_type": "code",
   "execution_count": 11,
   "id": "99d1925c-e821-44ed-8d4d-56d7ece0fffd",
   "metadata": {},
   "outputs": [
    {
     "data": {
      "text/plain": [
       "7"
      ]
     },
     "execution_count": 11,
     "metadata": {},
     "output_type": "execute_result"
    }
   ],
   "source": [
    "0b0111"
   ]
  },
  {
   "cell_type": "markdown",
   "id": "2e7121b4-b284-400f-970f-ad9dbbe2c6ed",
   "metadata": {},
   "source": [
    "Beispiel für `xor`"
   ]
  },
  {
   "cell_type": "markdown",
   "id": "370a3192-733a-4db0-9392-e2c5d7c2d81a",
   "metadata": {},
   "source": [
    "Wenn man sich die Wahrheitstabellen noch mal anschauen möchte: [Anwendung Boolsche Operatoren](Anwendung_Boolsche_Operatoren.ipynb)"
   ]
  },
  {
   "cell_type": "code",
   "execution_count": 16,
   "id": "1cb168f2-512a-4422-b8c5-596cd5f4dac2",
   "metadata": {},
   "outputs": [
    {
     "name": "stdout",
     "output_type": "stream",
     "text": [
      "6\n"
     ]
    }
   ],
   "source": [
    "a = 5  # 0101 in binär\n",
    "b = 3  # 0011 in binär\n",
    "print(a ^ b)  # Ausgabe: 6 (0110 in binär)"
   ]
  },
  {
   "cell_type": "markdown",
   "id": "dc87de8b-e72b-4f77-b122-7383fbb13f03",
   "metadata": {},
   "source": [
    "```python\n",
    "    4. 3. 2. 1.\n",
    "a = 0  1  0  1\n",
    "b = 0  0  1  1\n",
    "\n",
    "1.      010  1\n",
    "        001  1     1 xor 1 == False --> 1\n",
    "\n",
    "2.      01   0   \n",
    "        00   1     0 xor 1 == True -->  1\n",
    "\n",
    "3.      0    1\n",
    "        0    0     1 xor 0 == True -->  1\n",
    "\n",
    "4.      0\n",
    "        0          0 xor 0 == False --> 0\n",
    "\n",
    "           4. 3. 2. 1.\n",
    "Ergebnis = 0  1  1  1 --> 0b0110\n",
    "```"
   ]
  },
  {
   "cell_type": "code",
   "execution_count": 18,
   "id": "eb999cba-111f-407c-bb2b-d4cd0abf3144",
   "metadata": {},
   "outputs": [
    {
     "data": {
      "text/plain": [
       "6"
      ]
     },
     "execution_count": 18,
     "metadata": {},
     "output_type": "execute_result"
    }
   ],
   "source": [
    "0b0110"
   ]
  },
  {
   "cell_type": "markdown",
   "id": "4117f66b-1638-437e-8c1c-76ac27eb2d47",
   "metadata": {},
   "source": [
    "Beispiel für `not`"
   ]
  },
  {
   "cell_type": "code",
   "execution_count": null,
   "id": "1766ca67-72f4-4958-bc88-7e1a9f673c8d",
   "metadata": {},
   "outputs": [],
   "source": [
    "# Bitweises NOT\n",
    "print(~a)  # Ausgabe: -6 (zweier Komplement von 0101 ist 1010, was -6 in Dezimal ist)"
   ]
  },
  {
   "cell_type": "markdown",
   "id": "a28eae03-dfab-4a6a-8efa-1c64630cfc92",
   "metadata": {},
   "source": [
    "Wenn wir das so anwenden meckert Python..."
   ]
  },
  {
   "cell_type": "code",
   "execution_count": 38,
   "id": "297fd6d4-a042-48b3-9309-9841908f1ff0",
   "metadata": {},
   "outputs": [
    {
     "name": "stderr",
     "output_type": "stream",
     "text": [
      "C:\\Users\\jbous\\AppData\\Local\\Temp\\ipykernel_2848\\3979167406.py:2: DeprecationWarning: Bitwise inversion '~' on bool is deprecated. This returns the bitwise inversion of the underlying int object and is usually not what you expect from negating a bool. Use the 'not' operator for boolean negation or ~int(x) if you really want the bitwise inversion of the underlying int.\n",
      "  ~a\n"
     ]
    },
    {
     "data": {
      "text/plain": [
       "-2"
      ]
     },
     "execution_count": 38,
     "metadata": {},
     "output_type": "execute_result"
    }
   ],
   "source": [
    "a = True\n",
    "~a"
   ]
  },
  {
   "cell_type": "markdown",
   "id": "e1fcea97-bb7b-4dc3-a55b-20eefb9a63c7",
   "metadata": {},
   "source": [
    "`~`\n",
    "für dieses Zeichen auf QWERTZ --> Strg + Alt + Taste für `+` bzw. `*`"
   ]
  },
  {
   "cell_type": "markdown",
   "id": "9e3651f1-0b45-4ea8-abc4-94d3f63e07a0",
   "metadata": {},
   "source": [
    "### Übungsaufgaben zu and or xor / Patologische Fälle"
   ]
  },
  {
   "cell_type": "code",
   "execution_count": 14,
   "id": "fba122b1-61a1-4fec-a3b9-6a61c75585c1",
   "metadata": {},
   "outputs": [
    {
     "name": "stdout",
     "output_type": "stream",
     "text": [
      "2\n"
     ]
    }
   ],
   "source": [
    "a = 1 # 1 --> 0001\n",
    "b = 0 # 0 --> 0000\n",
    "c = a & b\n",
    "d = a | b\n",
    "e = a ^ b\n",
    "print(c+d+e)"
   ]
  },
  {
   "cell_type": "code",
   "execution_count": 19,
   "id": "f9a20c75-81b9-4c2d-87de-df4a1fbe7fa4",
   "metadata": {},
   "outputs": [],
   "source": [
    "c = a & b # c = 0000"
   ]
  },
  {
   "cell_type": "code",
   "execution_count": 20,
   "id": "f16598ea-6228-4922-99da-512c91b36385",
   "metadata": {},
   "outputs": [],
   "source": [
    "d = a | b # d = 0001"
   ]
  },
  {
   "cell_type": "code",
   "execution_count": 21,
   "id": "17b6ec50-4139-444e-ad93-fdf002d32ad5",
   "metadata": {},
   "outputs": [],
   "source": [
    "e = a ^ b # e = 0001"
   ]
  },
  {
   "cell_type": "code",
   "execution_count": 25,
   "id": "4b0afac4-d876-4f27-80de-fd0255e86b07",
   "metadata": {},
   "outputs": [
    {
     "name": "stdout",
     "output_type": "stream",
     "text": [
      "2\n"
     ]
    }
   ],
   "source": [
    "print(0b0000+0b0001+0b0001)"
   ]
  },
  {
   "cell_type": "markdown",
   "id": "0f406b27-f854-4b37-b1d5-c38b3e26590a",
   "metadata": {},
   "source": [
    "## Bitweise Shift"
   ]
  },
  {
   "cell_type": "markdown",
   "id": "9d7daa16-67d8-4b01-86f9-d6ea7f14fb05",
   "metadata": {},
   "source": [
    "- Links-Shift (<<): Multipliziert die Zahl mit 2 hoch der Anzahl der Verschiebungen.\n",
    "- Rechts-Shift (>>): Dividiert die Zahl durch 2 hoch der Anzahl der Verschiebungen (MIT VERWERFEN DES RESTS `//` ).\n",
    "  \n",
    "Diese Operationen sind nützlich für bitweise Manipulationen, Optimierungen und spezielle Algorithmen, bei denen schnelle Multiplikationen und Divisionen erforderlich sind, da man theoretisch nicht wirklich \"rechnen\" muss um das Ergebnis zu bekommen."
   ]
  },
  {
   "cell_type": "markdown",
   "id": "293d3e96-8f35-4ac3-9da9-7a91e1609ac4",
   "metadata": {},
   "source": [
    "Beispiel Links-Shift `<<`"
   ]
  },
  {
   "cell_type": "code",
   "execution_count": 36,
   "id": "840dfbdd-c285-46a2-998d-922e4333dd2d",
   "metadata": {},
   "outputs": [
    {
     "name": "stdout",
     "output_type": "stream",
     "text": [
      "10\n"
     ]
    }
   ],
   "source": [
    "a = 5  # 0101 in binär\n",
    "shift = 1\n",
    "left_shift = a << shift  # 1010 in binär, entspricht 10 in Dezimal\n",
    "left_shift = a << 1\n",
    "print(left_shift)  # Ausgabe: 10"
   ]
  },
  {
   "cell_type": "markdown",
   "id": "39059218-5b0a-4111-8502-6ad07fb6d768",
   "metadata": {},
   "source": [
    "```python\n",
    "                        5. 4. 3. 2. 1.\n",
    "                    a =    0  1  0  1 << 1 um eine Stelle nach LINKS\n",
    "                    a = 0  1  0  1  0\n",
    "                     \n",
    "                        5. 4. 3. 2. 1.\n",
    "   Ergebnis_vor_shift =    0  1  0  1 --> 0b0101 --> 5\n",
    "  Ergebnis_nach_shift = 0  1  0  1  0 --> 0b01010 --> 10\n",
    "```"
   ]
  },
  {
   "cell_type": "markdown",
   "id": "a3ce88af-59fd-4622-ae84-53d6b7d48556",
   "metadata": {},
   "source": [
    "Equivalent:"
   ]
  },
  {
   "cell_type": "code",
   "execution_count": 28,
   "id": "35c6cc54-2dfc-48f3-a647-04c409304d96",
   "metadata": {
    "scrolled": true
   },
   "outputs": [
    {
     "data": {
      "text/plain": [
       "10"
      ]
     },
     "execution_count": 28,
     "metadata": {},
     "output_type": "execute_result"
    }
   ],
   "source": [
    "a * 2 ** shift"
   ]
  },
  {
   "cell_type": "markdown",
   "id": "c2c4ab35-bb84-4cc8-8290-2e3e5c055a1e",
   "metadata": {},
   "source": [
    "Beispiel Rechts-Shift `>>`"
   ]
  },
  {
   "cell_type": "code",
   "execution_count": 33,
   "id": "e39de694-9e54-4507-9813-07a31543aab6",
   "metadata": {},
   "outputs": [
    {
     "name": "stdout",
     "output_type": "stream",
     "text": [
      "2\n"
     ]
    }
   ],
   "source": [
    "a = 5  # 0101 in binär\n",
    "shift = 1\n",
    "right_shift = a >> shift \n",
    "right_shift = a >> 1 # 0010 in binär, entspricht 2 in Dezimal\n",
    "print(right_shift)  # Ausgabe: 2"
   ]
  },
  {
   "cell_type": "markdown",
   "id": "ab41c4a8-67fb-4613-9173-bb366dc3c7c5",
   "metadata": {},
   "source": [
    "```python\n",
    "                         4. 3. 2. 1.\n",
    "                     a = 0  1  0  1 >> 1 um eine Stelle nach RECHTS\n",
    "                     a =    0  1  0  (1) Die Zahl hier wird gelöscht \n",
    "                    \n",
    "                         4. 3. 2. 1.\n",
    "    Ergebnis_vor_shift = 0  1  0  1 --> 0b0101 --> 5\n",
    "   Ergebnis_nach_shift =    0  1  0 --> 0b0010 --> 2\n",
    "```"
   ]
  },
  {
   "cell_type": "markdown",
   "id": "e545dbd8-69ac-47cf-9c87-8579ff7230a1",
   "metadata": {},
   "source": [
    "Equivalent:"
   ]
  },
  {
   "cell_type": "code",
   "execution_count": 37,
   "id": "90c91253-ee76-4b7c-a780-cfdeebdb9801",
   "metadata": {
    "scrolled": true
   },
   "outputs": [
    {
     "data": {
      "text/plain": [
       "2"
      ]
     },
     "execution_count": 37,
     "metadata": {},
     "output_type": "execute_result"
    }
   ],
   "source": [
    "a // 2 ** shift"
   ]
  }
 ],
 "metadata": {
  "kernelspec": {
   "display_name": "Python 3 (ipykernel)",
   "language": "python",
   "name": "python3"
  },
  "language_info": {
   "codemirror_mode": {
    "name": "ipython",
    "version": 3
   },
   "file_extension": ".py",
   "mimetype": "text/x-python",
   "name": "python",
   "nbconvert_exporter": "python",
   "pygments_lexer": "ipython3",
   "version": "3.12.3"
  }
 },
 "nbformat": 4,
 "nbformat_minor": 5
}
