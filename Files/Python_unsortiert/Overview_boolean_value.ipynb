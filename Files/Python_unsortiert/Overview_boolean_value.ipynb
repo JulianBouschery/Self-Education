{
 "cells": [
  {
   "cell_type": "markdown",
   "id": "5ac7e311-f366-41f0-b234-130adc95bef9",
   "metadata": {},
   "source": [
    "[Zurück zum Inhaltsverzeichnis](_Inhaltsverzeichnis_.ipynb)"
   ]
  },
  {
   "cell_type": "markdown",
   "id": "d0fdfb31-8cd6-44c7-b93d-7ce9f9dd2164",
   "metadata": {},
   "source": [
    "## Grober Überblick zu Boolschen Werten:"
   ]
  },
  {
   "cell_type": "markdown",
   "id": "47a81ce5-9eac-4344-9bf6-6ecbd6f961cb",
   "metadata": {},
   "source": [
    "- Was passiert? (Funktion erklären)\n",
    "- Was ist das? (Definition formulieren)\n",
    "- Warum / Wie funktioniert das? (Hintergründe und Details)\n",
    "  All, das Hand von sehr vielen Beispielen erklären"
   ]
  },
  {
   "cell_type": "code",
   "execution_count": 2,
   "id": "e2f1007d-8917-47f8-9035-4288c8c1ad3e",
   "metadata": {},
   "outputs": [
    {
     "data": {
      "text/plain": [
       "True"
      ]
     },
     "execution_count": 2,
     "metadata": {},
     "output_type": "execute_result"
    }
   ],
   "source": [
    "1+1 == 2"
   ]
  },
  {
   "cell_type": "code",
   "execution_count": 3,
   "id": "a9b5b945-5ce5-43a2-9a6b-ff0e0bc1f48a",
   "metadata": {},
   "outputs": [
    {
     "data": {
      "text/plain": [
       "False"
      ]
     },
     "execution_count": 3,
     "metadata": {},
     "output_type": "execute_result"
    }
   ],
   "source": [
    "1+1 == 5"
   ]
  },
  {
   "cell_type": "code",
   "execution_count": 4,
   "id": "c64b29f5-bac3-43a4-9a4a-16c11bcc6760",
   "metadata": {},
   "outputs": [
    {
     "data": {
      "text/plain": [
       "bool"
      ]
     },
     "execution_count": 4,
     "metadata": {},
     "output_type": "execute_result"
    }
   ],
   "source": [
    "type(1+1 == 2)"
   ]
  },
  {
   "cell_type": "code",
   "execution_count": 95,
   "id": "bdde12b2-a1df-4f88-94a9-bbb31c74bc67",
   "metadata": {},
   "outputs": [
    {
     "name": "stdout",
     "output_type": "stream",
     "text": [
      "False\n",
      "True\n"
     ]
    }
   ],
   "source": [
    "print(bool(0)) # 0 = False\n",
    "print(bool(1)) # 1 = True"
   ]
  },
  {
   "cell_type": "code",
   "execution_count": 93,
   "id": "768d9d86-2727-4de4-b719-05f9472a9723",
   "metadata": {},
   "outputs": [
    {
     "name": "stdout",
     "output_type": "stream",
     "text": [
      "True\n",
      "False\n"
     ]
    }
   ],
   "source": [
    "print(True > False)\n",
    "print(True < False)"
   ]
  },
  {
   "cell_type": "markdown",
   "id": "f2b016f5-66ef-47cb-8212-eeb882a524d5",
   "metadata": {},
   "source": [
    "### Beispiele:"
   ]
  },
  {
   "cell_type": "markdown",
   "id": "293f1963-b62d-4333-b312-6f5051fdae11",
   "metadata": {},
   "source": [
    "1. Direkte Zuweisung und Vergleich:"
   ]
  },
  {
   "cell_type": "code",
   "execution_count": null,
   "id": "41e9afa8-88c8-4fa6-898c-72e3110f366a",
   "metadata": {},
   "outputs": [],
   "source": [
    "wahr = True\n",
    "falsch = False\n",
    "print(wahr)   # Ausgabe: True\n",
    "print(falsch) # Ausgabe: False"
   ]
  },
  {
   "cell_type": "markdown",
   "id": "c9062662-f581-446a-8520-d952294fb733",
   "metadata": {},
   "source": [
    "2. Verwendung in Bedingungen:"
   ]
  },
  {
   "cell_type": "code",
   "execution_count": 70,
   "id": "c57a9572-0520-4713-8ea4-f2db6a34c5f1",
   "metadata": {},
   "outputs": [
    {
     "name": "stdout",
     "output_type": "stream",
     "text": [
      "x ist größer als 5\n"
     ]
    }
   ],
   "source": [
    "x = 10\n",
    "if x > 5: # if x == / != True / False oder >< als\n",
    "    print(\"x ist größer als 5\")  # Diese Zeile wird ausgeführt\n",
    "else:\n",
    "    print(\"x ist nicht größer als 5\")\n"
   ]
  },
  {
   "cell_type": "markdown",
   "id": "ab9e53d4-b362-44d1-bcbd-87cd54404a22",
   "metadata": {},
   "source": [
    "3. Boolesche Operatoren:"
   ]
  },
  {
   "cell_type": "markdown",
   "id": "8b857860-f9ec-4050-8374-f314f763d883",
   "metadata": {},
   "source": [
    "\n",
    "```python\n",
    "- and evaluiert zu True, WENN beide Operanden wahr sind.\n",
    "- or: evaluiert zu True, WENN mindestens einer der Operanden wahr ist.\n",
    "- not: evaluiert zum gegenteiligen Wert des Operanden.\n",
    "```"
   ]
  },
  {
   "cell_type": "code",
   "execution_count": 9,
   "id": "78b08d5f-e3e2-4f76-b561-3643999b4780",
   "metadata": {},
   "outputs": [
    {
     "data": {
      "text/plain": [
       "True"
      ]
     },
     "execution_count": 9,
     "metadata": {},
     "output_type": "execute_result"
    }
   ],
   "source": [
    "not True == False\n",
    "not False == True"
   ]
  },
  {
   "cell_type": "code",
   "execution_count": 10,
   "id": "e26cdccf-4470-46ee-a5e2-fe22fab9e7e3",
   "metadata": {},
   "outputs": [
    {
     "name": "stdout",
     "output_type": "stream",
     "text": [
      "False\n",
      "True\n",
      "False\n"
     ]
    }
   ],
   "source": [
    "a = True\n",
    "b = False\n",
    "\n",
    "print(a and b)  # Ausgabe: False\n",
    "print(a or b)   # Ausgabe: True\n",
    "print(not a)    # Ausgabe: False\n"
   ]
  },
  {
   "cell_type": "markdown",
   "id": "9d997b9b-3261-478f-8dc5-3d0ec0fc8689",
   "metadata": {},
   "source": [
    "4. Vergleichsoperatoren: Diese geben Boolesche Werte zurück"
   ]
  },
  {
   "cell_type": "code",
   "execution_count": null,
   "id": "1e0ec92e-113d-4ac0-9e4f-cc2d5e1b3bb0",
   "metadata": {},
   "outputs": [],
   "source": [
    "print(5 > 3)  # Ausgabe: True\n",
    "print(5 == 5) # Ausgabe: True\n",
    "print(5 != 2) # Ausgabe: True\n",
    "print(5 < 2)  # Ausgabe: False\n"
   ]
  },
  {
   "cell_type": "markdown",
   "id": "52d744ea-421c-4e21-831e-8f02214bf542",
   "metadata": {},
   "source": [
    "## Definition von Boolschen Werten"
   ]
  },
  {
   "cell_type": "markdown",
   "id": "bba6561e-babd-4d16-9f0f-2f88c905dbfb",
   "metadata": {},
   "source": [
    "Boolsche Werte (oder \"Boolean values\") sind eine grundlegende Datentypklasse in der Programmierung, die zwei mögliche Werte annehmen kann: True (wahr) und False (falsch). Sie sind nach dem Mathematiker und Logiker George Boole benannt, der die Boolesche Algebra entwickelt hat.\n",
    "\n",
    "In Python werden Boolsche Werte häufig in logischen Ausdrücken und Bedingungen verwendet, um Entscheidungen zu treffen und Kontrollstrukturen wie if-Anweisungen zu steuern."
   ]
  }
 ],
 "metadata": {
  "kernelspec": {
   "display_name": "Python 3 (ipykernel)",
   "language": "python",
   "name": "python3"
  },
  "language_info": {
   "codemirror_mode": {
    "name": "ipython",
    "version": 3
   },
   "file_extension": ".py",
   "mimetype": "text/x-python",
   "name": "python",
   "nbconvert_exporter": "python",
   "pygments_lexer": "ipython3",
   "version": "3.12.3"
  }
 },
 "nbformat": 4,
 "nbformat_minor": 5
}
