{
 "cells": [
  {
   "cell_type": "markdown",
   "id": "defdb1d0-f393-4206-8a77-205b27331128",
   "metadata": {},
   "source": [
    "[Zurück zum Inhaltsverzeichnis](_Inhaltsverzeichnis_.ipynb)"
   ]
  },
  {
   "cell_type": "markdown",
   "id": "49da73ee-c086-4d21-946f-b0454637b844",
   "metadata": {},
   "source": [
    "Die range Funktion erzeugt eine Sequenz von Zahlen."
   ]
  },
  {
   "cell_type": "markdown",
   "id": "8c6198cf-206a-42d3-bfed-7e99b2617351",
   "metadata": {},
   "source": [
    "Syntax:\n",
    "\n",
    "`range` `(` `Start` , `Stop` , `Step` `)`"
   ]
  },
  {
   "cell_type": "code",
   "execution_count": null,
   "id": "b70b864e-7043-4226-83cd-8b6fbee344ac",
   "metadata": {},
   "outputs": [],
   "source": [
    "range(stop) # von 0 bis VOR Stop\n",
    "range(start, stop) # von Start bis Vor Stop\n",
    "range(start, stop, step) # von Start bis VOR Stop in "
   ]
  },
  {
   "cell_type": "code",
   "execution_count": 12,
   "id": "e207aeaf-5e94-452b-befc-296df452edfb",
   "metadata": {},
   "outputs": [
    {
     "name": "stdout",
     "output_type": "stream",
     "text": [
      "range(0, 5)\n"
     ]
    },
    {
     "data": {
      "text/plain": [
       "[0, 1, 2, 3, 4]"
      ]
     },
     "execution_count": 12,
     "metadata": {},
     "output_type": "execute_result"
    }
   ],
   "source": [
    "print(range(5))\n",
    "list(range(5))"
   ]
  },
  {
   "cell_type": "code",
   "execution_count": 9,
   "id": "7985ca31-5128-41f0-a535-e7c019bf842b",
   "metadata": {},
   "outputs": [
    {
     "name": "stdout",
     "output_type": "stream",
     "text": [
      "range(5, 11)\n"
     ]
    },
    {
     "data": {
      "text/plain": [
       "[5, 6, 7, 8, 9, 10]"
      ]
     },
     "execution_count": 9,
     "metadata": {},
     "output_type": "execute_result"
    }
   ],
   "source": [
    "print(range(5,11))\n",
    "list(range(5,11))"
   ]
  },
  {
   "cell_type": "code",
   "execution_count": 8,
   "id": "ff3392c8-21d0-4496-9646-499de3d21bea",
   "metadata": {},
   "outputs": [
    {
     "name": "stdout",
     "output_type": "stream",
     "text": [
      "range(12, 2, -2)\n"
     ]
    },
    {
     "data": {
      "text/plain": [
       "[12, 10, 8, 6, 4]"
      ]
     },
     "execution_count": 8,
     "metadata": {},
     "output_type": "execute_result"
    }
   ],
   "source": [
    "print(range(12,2,-2))\n",
    "list(range(12,2,-2))"
   ]
  },
  {
   "cell_type": "code",
   "execution_count": null,
   "id": "60c2b75d-6b82-46ac-85d6-6ff98f683e07",
   "metadata": {},
   "outputs": [],
   "source": []
  }
 ],
 "metadata": {
  "kernelspec": {
   "display_name": "Python 3 (ipykernel)",
   "language": "python",
   "name": "python3"
  },
  "language_info": {
   "codemirror_mode": {
    "name": "ipython",
    "version": 3
   },
   "file_extension": ".py",
   "mimetype": "text/x-python",
   "name": "python",
   "nbconvert_exporter": "python",
   "pygments_lexer": "ipython3",
   "version": "3.12.3"
  }
 },
 "nbformat": 4,
 "nbformat_minor": 5
}
