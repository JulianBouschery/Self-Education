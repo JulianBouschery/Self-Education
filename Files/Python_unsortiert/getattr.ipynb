{
 "cells": [
  {
   "cell_type": "markdown",
   "id": "2c4a6ae1-a006-4a8d-9288-03cd410ea96d",
   "metadata": {},
   "source": [
    "# getattr()"
   ]
  },
  {
   "cell_type": "markdown",
   "id": "b6ef75be-85f5-40e6-8ed9-b87c0be1554a",
   "metadata": {},
   "source": [
    "Siehe auch: [setattr](setattr.ipynb)"
   ]
  },
  {
   "cell_type": "markdown",
   "id": "be773a73-bf12-4a31-82e9-195ed13ec8f1",
   "metadata": {},
   "source": [
    "## Überblick"
   ]
  },
  {
   "cell_type": "markdown",
   "id": "414a987e-e200-4b7c-9311-5ef4073246c0",
   "metadata": {},
   "source": [
    "\n",
    "Name der Funktion: getattr\n",
    "\n",
    "Instanz der Klasse: builtin_function_or_method\n",
    "\n",
    "Syntax:\n",
    "\n",
    "`getattr` `(` `object` `,` `Intanzvariable` `(, default)`\n",
    "\n",
    "```python\n",
    "Parameter: \n",
    "    \n",
    "```\n",
    "Funktion: \n",
    "Die getattr-Funktion wird verwendet, um den Wert eines Attributs eines Objekts zu erhalten.\n",
    "Wenn ein Default-Argument gegeben ist, wird dies zurückgegeben, wenn das Attribut nicht\n",
    "existiert; ohne dieses Argument wird eine Error ausgelöst.\n",
    "\n",
    "\n",
    "Default return: Das Attribute\n",
    "\n",
    "Error:\n",
    "AttributeError"
   ]
  },
  {
   "cell_type": "markdown",
   "id": "40f28fbd-2b2b-4a64-ae0b-84e7124a9099",
   "metadata": {},
   "source": [
    "#### return"
   ]
  },
  {
   "cell_type": "code",
   "execution_count": 15,
   "id": "288c73b3-72c7-4b9f-8f8e-4408e2ef6af2",
   "metadata": {},
   "outputs": [
    {
     "name": "stdout",
     "output_type": "stream",
     "text": [
      "Max\n"
     ]
    }
   ],
   "source": [
    "# return: Mit Argumenten --> das Gesuchte Attribut als String\n",
    "class Person:\n",
    "    def __init__(self, name, age):\n",
    "        self.name = name\n",
    "        self.age = age\n",
    "\n",
    "person = Person(\"Max\", 28)\n",
    "\n",
    "# Zugriff auf das 'name'-Attribut\n",
    "name = getattr(person, \"name\")\n",
    "print(name)  # Ausgabe: Max\n"
   ]
  },
  {
   "cell_type": "markdown",
   "id": "73b84f3a-7e8c-4a69-b1d0-9d28e1fc2383",
   "metadata": {},
   "source": [
    "#### Instanz"
   ]
  },
  {
   "cell_type": "code",
   "execution_count": 16,
   "id": "1e5910b2-8f99-4133-bb38-4e66b8d97c02",
   "metadata": {},
   "outputs": [
    {
     "name": "stdout",
     "output_type": "stream",
     "text": [
      "<class 'str'>\n"
     ]
    }
   ],
   "source": [
    "print(type(getattr(person, \"name\")))"
   ]
  },
  {
   "cell_type": "markdown",
   "id": "645a808a-3599-4a80-ac6f-b6b465a6e748",
   "metadata": {},
   "source": [
    "#### Parameter"
   ]
  },
  {
   "cell_type": "code",
   "execution_count": 17,
   "id": "b72cbacc-1b89-4dfb-983e-73852b362e1b",
   "metadata": {},
   "outputs": [
    {
     "data": {
      "text/plain": [
       "\u001b[1;31mDocstring:\u001b[0m\n",
       "Get a named attribute from an object.\n",
       "\n",
       "getattr(x, 'y') is equivalent to x.y\n",
       "When a default argument is given, it is returned when the attribute doesn't\n",
       "exist; without it, an exception is raised in that case.\n",
       "\u001b[1;31mType:\u001b[0m      builtin_function_or_method"
      ]
     },
     "metadata": {},
     "output_type": "display_data"
    }
   ],
   "source": [
    "getattr?"
   ]
  },
  {
   "cell_type": "markdown",
   "id": "a9afc9cd-5dde-4c6e-aed1-266f05808257",
   "metadata": {},
   "source": [
    "### Error:"
   ]
  },
  {
   "cell_type": "code",
   "execution_count": 18,
   "id": "c60281ad-3060-4069-a0a5-05cb330262bb",
   "metadata": {},
   "outputs": [
    {
     "ename": "TypeError",
     "evalue": "getattr expected at least 2 arguments, got 0",
     "output_type": "error",
     "traceback": [
      "\u001b[1;31m---------------------------------------------------------------------------\u001b[0m",
      "\u001b[1;31mTypeError\u001b[0m                                 Traceback (most recent call last)",
      "Cell \u001b[1;32mIn[18], line 2\u001b[0m\n\u001b[0;32m      1\u001b[0m \u001b[38;5;66;03m# Default return: Ohne Argument => Error\u001b[39;00m\n\u001b[1;32m----> 2\u001b[0m \u001b[38;5;28;43mgetattr\u001b[39;49m\u001b[43m(\u001b[49m\u001b[43m)\u001b[49m\n",
      "\u001b[1;31mTypeError\u001b[0m: getattr expected at least 2 arguments, got 0"
     ]
    }
   ],
   "source": [
    "# Default return: Ohne Argument => Error\n",
    "getattr()"
   ]
  },
  {
   "cell_type": "code",
   "execution_count": 19,
   "id": "0f3b8177-f7df-4a4e-bd93-a47ce6c4811b",
   "metadata": {},
   "outputs": [
    {
     "name": "stdout",
     "output_type": "stream",
     "text": [
      "Max\n"
     ]
    },
    {
     "ename": "AttributeError",
     "evalue": "'Person' object has no attribute 'hobby'",
     "output_type": "error",
     "traceback": [
      "\u001b[1;31m---------------------------------------------------------------------------\u001b[0m",
      "\u001b[1;31mAttributeError\u001b[0m                            Traceback (most recent call last)",
      "Cell \u001b[1;32mIn[19], line 15\u001b[0m\n\u001b[0;32m     12\u001b[0m \u001b[38;5;28mprint\u001b[39m(name)  \u001b[38;5;66;03m# Ausgabe: Max\u001b[39;00m\n\u001b[0;32m     14\u001b[0m \u001b[38;5;66;03m# Zugriff auf ein nicht vorhandenes Attribut mit einem Standardwert\u001b[39;00m\n\u001b[1;32m---> 15\u001b[0m hobby \u001b[38;5;241m=\u001b[39m \u001b[38;5;28;43mgetattr\u001b[39;49m\u001b[43m(\u001b[49m\u001b[43mperson\u001b[49m\u001b[43m,\u001b[49m\u001b[43m \u001b[49m\u001b[38;5;124;43m\"\u001b[39;49m\u001b[38;5;124;43mhobby\u001b[39;49m\u001b[38;5;124;43m\"\u001b[39;49m\u001b[43m)\u001b[49m\n\u001b[0;32m     16\u001b[0m \u001b[38;5;28mprint\u001b[39m(hobby)  \u001b[38;5;66;03m# Ausgabe: Kein Hobby gefunden\u001b[39;00m\n",
      "\u001b[1;31mAttributeError\u001b[0m: 'Person' object has no attribute 'hobby'"
     ]
    }
   ],
   "source": [
    "# wenn das gesuchte Attribut nicht existiert und kein Defaultreturn wert für diesen Fall gegeben wurde -->\n",
    "# AttributeError\n",
    "class Person:\n",
    "    def __init__(self, name, age):\n",
    "        self.name = name\n",
    "        self.age = age\n",
    "\n",
    "person = Person(\"Max\", 28)\n",
    "\n",
    "# Zugriff auf das 'name'-Attribut\n",
    "name = getattr(person, \"name\")\n",
    "print(name)  # Ausgabe: Max\n",
    "\n",
    "# Zugriff auf ein nicht vorhandenes Attribut mit einem Standardwert\n",
    "hobby = getattr(person, \"hobby\")\n",
    "print(hobby)  # Ausgabe: Kein Hobby gefunden\n"
   ]
  },
  {
   "cell_type": "markdown",
   "id": "c6bc57b8-a0f9-41df-8859-a57649606e56",
   "metadata": {},
   "source": [
    "## Detailierte Erklärung"
   ]
  },
  {
   "cell_type": "markdown",
   "id": "c07fefe6-aa97-467d-b403-2e8e900f8153",
   "metadata": {},
   "source": [
    "Die getattr-Funktion wird verwendet, um den Wert eines Attributs eines Objekts dynamisch zu erhalten. Dies ist besonders nützlich, wenn der Attributname zur Laufzeit bestimmt wird."
   ]
  },
  {
   "cell_type": "markdown",
   "id": "40607e81-493d-42db-ba09-d4e167e9c0dc",
   "metadata": {},
   "source": [
    "Syntax:\n",
    "\n",
    "`getattr` `(` `object` `,` `Intanzvariable` `(, default)`"
   ]
  },
  {
   "cell_type": "markdown",
   "id": "2aa754f0-5b51-47ea-b184-65232fdfe8dc",
   "metadata": {},
   "source": [
    "Default wird ausgegeben, wenn man nach einer Instanzvariable sucht, die nicht existiert."
   ]
  },
  {
   "cell_type": "code",
   "execution_count": 20,
   "id": "7c3ec258-15a1-44e8-8358-30e92d5299c8",
   "metadata": {},
   "outputs": [
    {
     "name": "stdout",
     "output_type": "stream",
     "text": [
      "Max\n",
      "Kein Hobby gefunden\n"
     ]
    }
   ],
   "source": [
    "class Person:\n",
    "    def __init__(self, name, age):\n",
    "        self.name = name\n",
    "        self.age = age\n",
    "\n",
    "person = Person(\"Max\", 28)\n",
    "\n",
    "# Zugriff auf das 'name'-Attribut\n",
    "name = getattr(person, \"name\")\n",
    "print(name)  # Ausgabe: Max\n",
    "\n",
    "# Zugriff auf ein nicht vorhandenes Attribut mit einem Standardwert\n",
    "hobby = getattr(person, \"hobby\", \"Kein Hobby gefunden\")\n",
    "print(hobby)  # Ausgabe: Kein Hobby gefunden\n"
   ]
  },
  {
   "cell_type": "markdown",
   "id": "63c63b10-ed21-4a4f-91fc-e6309b5e053f",
   "metadata": {},
   "source": [
    "## Zusammenfassung"
   ]
  },
  {
   "cell_type": "markdown",
   "id": "8fad9c7b-fb43-4cca-a2ac-58d5f9d0a840",
   "metadata": {},
   "source": [
    "`getattr` durchsucht verschiedene Quellen, um ein Attribut zu finden: \n",
    "- direkt im Objekt, über die `__getattr__`-Methode, welche zuerst in `Objekt.__dict__` sucht,\n",
    "- dann über Deskriptoren\n",
    "\n",
    "Und wenn das Attribut nicht gefunden wird, wird eine AttributeError-Ausnahme ausgelöst, es sei denn, ein Standardwert wurde angegeben."
   ]
  },
  {
   "cell_type": "markdown",
   "id": "584adf7d-5f48-4f3f-a6a8-8c7e7c33c993",
   "metadata": {},
   "source": [
    "Siehe auch: [Diskriptoren](Diskriptor.ipynb)"
   ]
  },
  {
   "cell_type": "markdown",
   "id": "abfbaa00-6022-4bf0-9110-aa8c08c5b1d9",
   "metadata": {},
   "source": [
    "## getattr unter der Haube"
   ]
  },
  {
   "cell_type": "markdown",
   "id": "7dee412a-9267-4687-a73b-29f9812ab03d",
   "metadata": {},
   "source": [
    "Laut ChatGPT sieht **vereinfachte** Implementierung von `getattr` etwas so aus:"
   ]
  },
  {
   "cell_type": "code",
   "execution_count": null,
   "id": "319b66b2-c305-42c1-bf71-4988d916be55",
   "metadata": {},
   "outputs": [],
   "source": [
    "def getattr(obj, name, default=None):\n",
    "    try:\n",
    "        return obj.__dict__[name]\n",
    "    except KeyError:\n",
    "        if hasattr(obj.__class__, '__getattr__'):\n",
    "            return obj.__class__.__getattr__(obj, name)\n",
    "        for cls in obj.__class__.__mro__:\n",
    "            if name in cls.__dict__:\n",
    "                value = cls.__dict__[name]\n",
    "                if hasattr(value, '__get__'):\n",
    "                    return value.__get__(obj, cls)\n",
    "                return value\n",
    "        if default is not None:\n",
    "            return default\n",
    "        raise AttributeError(f\"'{obj.__class__.__name__}' object has no attribute '{name}'\")\n"
   ]
  },
  {
   "cell_type": "markdown",
   "id": "c3e6ac18-0a11-45d1-855d-671707d29d74",
   "metadata": {},
   "source": [
    "Also ja, es arbeitet unter anderem auch mit `__dict__` und `__class__.__dict__`, aber es tut mehr als das. Sonst wäre es ja nicht nötig gewesen eine eigene Funktion zu schreiben, sondern hätte einfach `X in Objekt.__dict__[X]` verwendet."
   ]
  },
  {
   "cell_type": "code",
   "execution_count": null,
   "id": "dfe59675-e10a-40e0-ac92-67f243abbf80",
   "metadata": {},
   "outputs": [],
   "source": []
  }
 ],
 "metadata": {
  "kernelspec": {
   "display_name": "Python 3 (ipykernel)",
   "language": "python",
   "name": "python3"
  },
  "language_info": {
   "codemirror_mode": {
    "name": "ipython",
    "version": 3
   },
   "file_extension": ".py",
   "mimetype": "text/x-python",
   "name": "python",
   "nbconvert_exporter": "python",
   "pygments_lexer": "ipython3",
   "version": "3.12.4"
  }
 },
 "nbformat": 4,
 "nbformat_minor": 5
}
