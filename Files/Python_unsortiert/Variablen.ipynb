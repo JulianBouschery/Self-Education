{
 "cells": [
  {
   "cell_type": "markdown",
   "id": "2db0db9b-a0fd-4aa1-bee6-cde9a58c5691",
   "metadata": {},
   "source": [
    "[Zurück zum Inhaltsverzeichnis](_Inhaltsverzeichnis_.ipynb)"
   ]
  },
  {
   "cell_type": "markdown",
   "id": "929a493d-9082-4438-b3cc-3ccdc8b68772",
   "metadata": {},
   "source": [
    "### Auch interessant zu diesem Thema:"
   ]
  },
  {
   "cell_type": "markdown",
   "id": "b91a94c6-10cd-4e5e-b5ac-1ee3511d7d96",
   "metadata": {},
   "source": [
    "[Literale](Literale.ipynb)"
   ]
  },
  {
   "cell_type": "markdown",
   "id": "52b7a8f0-e5b7-47b9-ab1c-d305ad95a235",
   "metadata": {},
   "source": [
    "[Dynamically Typed vs. Statical Typing](Dynamically_Typed_vs._Statical_Typing.ipynb)"
   ]
  },
  {
   "cell_type": "markdown",
   "id": "9451e0b3-084e-4bc1-be1a-fc9c6ae77dd8",
   "metadata": {},
   "source": [
    "[Definition von legalem und illegalem Code, sowie legalem, aber hässlichem Code...](Legaler_und_illegaler_code.ipynb)"
   ]
  },
  {
   "cell_type": "markdown",
   "id": "d94b3098-bbf1-4144-8b8d-0e9ad8f98ec2",
   "metadata": {},
   "source": [
    "Siehe auch: [Instanzvariable](inst_var.ipynb)"
   ]
  },
  {
   "cell_type": "markdown",
   "id": "bc5a8015-e6f8-47fa-b046-87138ef57338",
   "metadata": {},
   "source": [
    "Siehe auch: [Klassenvariable](class_var.ipynb)"
   ]
  },
  {
   "cell_type": "markdown",
   "id": "5c641674-70ce-4463-8fb2-343276a29c85",
   "metadata": {},
   "source": [
    "# Variablen"
   ]
  },
  {
   "cell_type": "markdown",
   "id": "926eed52-dadb-44a3-b105-a987d0738d57",
   "metadata": {},
   "source": [
    "## Generelles zu Variablen"
   ]
  },
  {
   "cell_type": "markdown",
   "id": "f1d39f68-f7fa-4519-8199-bd9456e1f33d",
   "metadata": {},
   "source": [
    "\n",
    "- Was passiert? (Funktion erklären)\n",
    "- Was ist das? (Definition formulieren)\n",
    "- Warum / Wie funktioniert das? (Hintergründe und Details) All, das Hand von sehr vielen Beispielen erklären\n"
   ]
  },
  {
   "cell_type": "code",
   "execution_count": 7,
   "id": "8ca32af2-6910-4027-82a2-1a4cf5f9c300",
   "metadata": {},
   "outputs": [
    {
     "name": "stdout",
     "output_type": "stream",
     "text": [
      "Julian\n"
     ]
    },
    {
     "data": {
      "text/plain": [
       "'Julian'"
      ]
     },
     "execution_count": 7,
     "metadata": {},
     "output_type": "execute_result"
    }
   ],
   "source": [
    "name = \"Julian\"\n",
    "\n",
    "print(name)\n",
    "name"
   ]
  },
  {
   "cell_type": "markdown",
   "id": "dfbf2671-15aa-40a0-8de6-6189d175c03f",
   "metadata": {},
   "source": [
    "Variablen nutzt man um Informationen wiederverwendbar zu machen. Daher \"speichert\" man diese Information in eine Variable.\n",
    "\n",
    "Genauer: Man weist `Julian` der Variable `name` zu. \n",
    "\n",
    "Eine Zuweisung hat immer folgende Struktur/Syntax.\n",
    "\n",
    "`variable_name` `=` `irgendein Ausdruck` "
   ]
  },
  {
   "cell_type": "markdown",
   "id": "dac644fe-4921-49b1-be5d-9ed16433d860",
   "metadata": {},
   "source": [
    "Dabei ist das `=` der sogenannte `Zuweisungsoperator` ( `Assigment Operator` )\n",
    "\n",
    "Lies eine Zuweisung immer von rechts nach links. \n",
    "\n",
    "Also \"Julian\" wird der Variable \"name\" zugeordnet."
   ]
  },
  {
   "cell_type": "markdown",
   "id": "f3f90b6c-d012-46ec-94d7-259105d188e5",
   "metadata": {},
   "source": [
    "Variablen sind wie Schatzkarten die zu der Stelle im Speicher führen wo die Informationen aufbewart werden.\n",
    "\n",
    "`var_name` `=` `zu speicherndes Objekt`"
   ]
  },
  {
   "cell_type": "code",
   "execution_count": 4,
   "id": "c8403ac0-ba23-4911-8684-ba1758708379",
   "metadata": {
    "tags": []
   },
   "outputs": [],
   "source": [
    "mein_lieblingsessen = \"Döner\""
   ]
  },
  {
   "cell_type": "code",
   "execution_count": 5,
   "id": "df6ccd40-667f-4c45-a373-71df92aeb1a9",
   "metadata": {
    "tags": []
   },
   "outputs": [
    {
     "data": {
      "text/plain": [
       "str"
      ]
     },
     "execution_count": 5,
     "metadata": {},
     "output_type": "execute_result"
    }
   ],
   "source": [
    "type(mein_lieblingsessen)"
   ]
  },
  {
   "cell_type": "code",
   "execution_count": 5,
   "id": "7185e6ce-7787-43f3-8af3-0668e8463028",
   "metadata": {},
   "outputs": [
    {
     "name": "stdout",
     "output_type": "stream",
     "text": [
      "Julian 25 2.5 [1, 2, 3] (1, 3, 5)\n"
     ]
    },
    {
     "data": {
      "text/plain": [
       "(str, int, float, list, tuple)"
      ]
     },
     "execution_count": 5,
     "metadata": {},
     "output_type": "execute_result"
    }
   ],
   "source": [
    "name = \"Julian\"\n",
    "zahl = 25\n",
    "komma_zahl = 2.5\n",
    "liste_ = [1,2,3]\n",
    "tuple_ = (1,3,5)\n",
    "\n",
    "print(name, zahl, komma_zahl, liste_, tuple_)\n",
    "\n",
    "type(name), type(zahl), type(komma_zahl), type(liste_), type(tuple_)"
   ]
  },
  {
   "cell_type": "markdown",
   "id": "e66bb8c6-cc09-43ef-8fb9-982e8e33dda7",
   "metadata": {},
   "source": [
    "**Konkatination auch ohne + (Plus)**"
   ]
  },
  {
   "cell_type": "code",
   "execution_count": 6,
   "id": "baac094c-3ef6-4976-9deb-b2cc0be06108",
   "metadata": {},
   "outputs": [
    {
     "name": "stdout",
     "output_type": "stream",
     "text": [
      "Hallodu\n"
     ]
    }
   ],
   "source": [
    "a = \"Hallo\" \"du\"\n",
    "print(a)"
   ]
  },
  {
   "cell_type": "code",
   "execution_count": 5,
   "id": "9a43583f-41ae-476b-8429-048f3795e578",
   "metadata": {},
   "outputs": [
    {
     "name": "stdout",
     "output_type": "stream",
     "text": [
      "Hallodu\n"
     ]
    }
   ],
   "source": [
    "a = \"Hallo\"+\"du\"\n",
    "print(a)"
   ]
  },
  {
   "cell_type": "code",
   "execution_count": 7,
   "id": "b9dabf8e-732a-457c-865f-956642d59e69",
   "metadata": {},
   "outputs": [
    {
     "ename": "SyntaxError",
     "evalue": "invalid syntax (3621196211.py, line 1)",
     "output_type": "error",
     "traceback": [
      "\u001b[1;36m  Cell \u001b[1;32mIn[7], line 1\u001b[1;36m\u001b[0m\n\u001b[1;33m    a = \"Hallo\" 3\u001b[0m\n\u001b[1;37m                ^\u001b[0m\n\u001b[1;31mSyntaxError\u001b[0m\u001b[1;31m:\u001b[0m invalid syntax\n"
     ]
    }
   ],
   "source": [
    "a = \"Hallo\" 3"
   ]
  },
  {
   "cell_type": "markdown",
   "id": "02d3bc95-b837-491c-bedb-58a187407333",
   "metadata": {},
   "source": [
    "### Zusammenfassung:"
   ]
  },
  {
   "cell_type": "markdown",
   "id": "a6ab6e94-f6e3-44f8-96f7-a67e325295ea",
   "metadata": {},
   "source": [
    "Bei der Verwendung von Variablen in Python musst du Folgendes beachten:\n",
    "\n",
    "- Variablennamen: Verwende aussagekräftige Namen, die Kleinbuchstaben, Zahlen und Unterstriche enthalten können, aber nicht mit einer Zahl beginnen sollten.\n",
    "- Variablentypen: Python ist **dynamisch typisiert**, was bedeutet, dass du keine Typen explizit angeben musst. Variablen können jederzeit den Datentyp ändern.\n",
    "- Zuweisung: Weise Werte mit dem Zuweisungsoperator \"=\" zu.\n",
    "- Gültigkeitsbereich: Beachte den Gültigkeitsbereich von Variablen, der durch den Ort definiert wird, an dem sie erstellt werden.\n",
    "- Datentypen: Beachte die verschiedenen Datentypen wie int, float, str, list, tuple, dict usw.\n",
    "- Sichtbarkeit: Variablen müssen vor ihrer Verwendung deklariert werden. Globale und lokale Variablen haben unterschiedliche Sichtbarkeiten."
   ]
  },
  {
   "cell_type": "markdown",
   "id": "db7fd87d-d4c1-449d-906f-ba655e6cdc87",
   "metadata": {},
   "source": [
    "[Beispiel zum durcharbeiten](https://pythontutor.com/render.html#code=class%20Demo%3A%0A%20%20%20%20%0A%20%20%20%20x%20%3D%20%22Klassenvariable%22%0A%20%20%20%20def%20__init__%28self,%20value%29%3A%0A%20%20%20%20%20%20%20%20self.instance_var%20%3D%20value%0A%20%20%20%20def%20normale_meth_keine_init_keine_dunder%28self%29%3A%0A%20%20%20%20%20%20%20%20self.var_gesetzt_in_methode%20%3D%2042%0A%0Ad1%20%3D%20Demo%28100%29%0Ad2%20%3D%20Demo%28200%29%0Ad1.normale_meth_keine_init_keine_dunder%28%29%0A%0Ad1.new_ausserhalb_klasse_dynamisch_angeh%C3%A4ngt%20%3D%20%22AUSSERHALB%20KLASSE%22%20%20%0Aprint%28%22d1%27s%20instance%20variable%20is%20equal%20to%3A%22,%20d1.instance_var%29%0Aprint%28%22d2%27s%20instance%20variable%20is%20equal%20to%3A%22,%20d2.instance_var%29&cumulative=false&curInstr=14&heapPrimitives=nevernest&mode=display&origin=opt-frontend.js&py=311&rawInputLstJSON=%5B%5D&textReferences=false)"
   ]
  },
  {
   "cell_type": "code",
   "execution_count": null,
   "id": "d2739cc8-b66c-4e83-9643-8dc1ea90560f",
   "metadata": {},
   "outputs": [],
   "source": []
  }
 ],
 "metadata": {
  "kernelspec": {
   "display_name": "Python 3 (ipykernel)",
   "language": "python",
   "name": "python3"
  },
  "language_info": {
   "codemirror_mode": {
    "name": "ipython",
    "version": 3
   },
   "file_extension": ".py",
   "mimetype": "text/x-python",
   "name": "python",
   "nbconvert_exporter": "python",
   "pygments_lexer": "ipython3",
   "version": "3.12.4"
  }
 },
 "nbformat": 4,
 "nbformat_minor": 5
}
