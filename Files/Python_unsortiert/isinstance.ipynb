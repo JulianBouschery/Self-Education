{
 "cells": [
  {
   "cell_type": "markdown",
   "id": "ad08c8b0-daae-4e97-864e-75ea87aa119f",
   "metadata": {},
   "source": [
    "[Zurück zum Inhaltsverzeichnis](_Inhaltsverzeichnis_.ipynb)"
   ]
  },
  {
   "cell_type": "markdown",
   "id": "33c9dca3-c4fc-45ad-ba9a-9c4d2e5dea5c",
   "metadata": {},
   "source": [
    "# isinstance"
   ]
  },
  {
   "cell_type": "markdown",
   "id": "cdd2179e-2b03-43a7-bdfe-74b9eeb3c710",
   "metadata": {},
   "source": [
    "Siehe auch: [issubclass](issubclass.ipynb)"
   ]
  },
  {
   "cell_type": "markdown",
   "id": "ce1a8194-634c-40f7-9483-bcb6d6d4197c",
   "metadata": {},
   "source": [
    "## isinstance Funktion"
   ]
  },
  {
   "cell_type": "markdown",
   "id": "ffb29a36-cfb4-4978-b766-081ae9d40db8",
   "metadata": {},
   "source": [
    "Die `isinstance` Funktion prüft den Datentyp eines Objekts und kann als Bedingung dienen."
   ]
  },
  {
   "cell_type": "markdown",
   "id": "011ab609-b3fd-4015-a287-9a3619a99698",
   "metadata": {},
   "source": [
    "Beispiel:"
   ]
  },
  {
   "cell_type": "code",
   "execution_count": 1,
   "id": "5c13d502-fa84-465f-b404-8b8dfd5096d5",
   "metadata": {},
   "outputs": [
    {
     "name": "stdout",
     "output_type": "stream",
     "text": [
      "x ist eine Liste\n"
     ]
    }
   ],
   "source": [
    "x = [1, 2, 3, 4]\n",
    "\n",
    "if isinstance(x, list):\n",
    "    print(\"x ist eine Liste\")"
   ]
  },
  {
   "cell_type": "code",
   "execution_count": null,
   "id": "8ffdce34-dce9-48ae-a34d-9cd01ac87c06",
   "metadata": {},
   "outputs": [],
   "source": [
    "x = [1, 2, 3, 4]  # Eine Liste wird erstellt und der Variablen x zugewiesen\n",
    "\n",
    "if isinstance(x, list):  # Überprüfen, ob x eine Instanz der Klasse list ist\n",
    "    print(\"x ist eine Liste\")  # Wenn ja, wird diese Meldung ausgegeben\n"
   ]
  },
  {
   "cell_type": "markdown",
   "id": "e2fb397b-8cb0-403c-9693-39826b307001",
   "metadata": {},
   "source": [
    "[Beispiel Pythontutor](https://pythontutor.com/render.html#code=infos%20%3D%2042,%20112,%20%2842,%2012%29,%20%5B1,42,5%5D,%20%2742%27,%2046%0Asuchwert%20%3D%2042%0A%20%0Adef%20my_func%28suchwert,%20iterable%29%3A%0A%20%20%20%20counter%20%3D%200%0A%20%20%20%20for%20elem%20in%20iterable%3A%0A%20%20%20%20%20%20%20%20%23if%20type%28elem%29%20%3D%3D%20list%3A%0A%20%20%20%20%20%20%20%20if%20isinstance%28elem,%20%28list,%20tuple%29%29%3A%0A%20%20%20%20%20%20%20%20%20%20%20%20%23%20wird%20nur%20f%C3%BCr%20list%20ausgef%C3%BChrt%0A%20%20%20%20%20%20%20%20%20%20%20%20for%20sub_elem%20in%20elem%3A%0A%20%20%20%20%20%20%20%20%20%20%20%20%20%20%20%20if%20sub_elem%20%3D%3D%20suchwert%3A%0A%20%20%20%20%20%20%20%20%20%20%20%20%20%20%20%20%20%20%20%20counter%20%2B%3D%201%0A%20%20%20%20%20%20%20%20if%20elem%20%3D%3D%20suchwert%3A%0A%20%20%20%20%20%20%20%20%20%20%20%20counter%20%2B%3D%201%0A%20%20%20%20return%20counter%0A%20%0Aprint%28my_func%28suchwert,%20infos%29%29&cumulative=false&curInstr=26&heapPrimitives=nevernest&mode=display&origin=opt-frontend.js&py=311&rawInputLstJSON=%5B%5D&textReferences=false)"
   ]
  },
  {
   "cell_type": "code",
   "execution_count": 3,
   "id": "62b3ae2f-db8e-4c41-8b4d-9813a247c1f2",
   "metadata": {},
   "outputs": [
    {
     "name": "stdout",
     "output_type": "stream",
     "text": [
      "3\n"
     ]
    }
   ],
   "source": [
    "infos = 42, 112, (42, 12), [1,42,5], '42', 46\n",
    "suchwert = 42\n",
    " \n",
    "def my_func(suchwert, iterable):\n",
    "    counter = 0\n",
    "    for elem in iterable:\n",
    "        #if type(elem) == list:\n",
    "        \n",
    "        if elem == suchwert:\n",
    "            counter += 1       \n",
    "        \n",
    "        elif isinstance(elem, (list, tuple)):\n",
    "            # wird nur für list ausgeführt\n",
    "            for sub_elem in elem:\n",
    "                if sub_elem == suchwert:\n",
    "                    counter += 1\n",
    "        \n",
    "    return counter\n",
    " \n",
    "print(my_func(suchwert, infos))"
   ]
  },
  {
   "cell_type": "code",
   "execution_count": null,
   "id": "dc8ca13d-176c-42ae-8b67-583ae019a5ee",
   "metadata": {},
   "outputs": [],
   "source": []
  }
 ],
 "metadata": {
  "kernelspec": {
   "display_name": "Python 3 (ipykernel)",
   "language": "python",
   "name": "python3"
  },
  "language_info": {
   "codemirror_mode": {
    "name": "ipython",
    "version": 3
   },
   "file_extension": ".py",
   "mimetype": "text/x-python",
   "name": "python",
   "nbconvert_exporter": "python",
   "pygments_lexer": "ipython3",
   "version": "3.12.4"
  }
 },
 "nbformat": 4,
 "nbformat_minor": 5
}
