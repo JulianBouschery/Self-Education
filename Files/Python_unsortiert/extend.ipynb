{
 "cells": [
  {
   "cell_type": "markdown",
   "id": "8eb73584-1413-4625-b23e-c3f5e7e4af12",
   "metadata": {},
   "source": [
    "[Zurück zum Inhaltsverzeichnis](_Inhaltsverzeichnis_.ipynb)"
   ]
  },
  {
   "cell_type": "markdown",
   "id": "40817133-282e-4160-9085-537cf8cfb8f1",
   "metadata": {},
   "source": [
    "# extend Funktion"
   ]
  },
  {
   "cell_type": "code",
   "execution_count": null,
   "id": "4d26be80-2555-4048-b026-50f21f269808",
   "metadata": {},
   "outputs": [],
   "source": []
  }
 ],
 "metadata": {
  "kernelspec": {
   "display_name": "Python 3 (ipykernel)",
   "language": "python",
   "name": "python3"
  },
  "language_info": {
   "codemirror_mode": {
    "name": "ipython",
    "version": 3
   },
   "file_extension": ".py",
   "mimetype": "text/x-python",
   "name": "python",
   "nbconvert_exporter": "python",
   "pygments_lexer": "ipython3",
   "version": "3.12.3"
  }
 },
 "nbformat": 4,
 "nbformat_minor": 5
}
