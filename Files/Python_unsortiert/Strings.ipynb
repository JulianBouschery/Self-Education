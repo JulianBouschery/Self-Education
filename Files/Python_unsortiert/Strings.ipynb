{
 "cells": [
  {
   "cell_type": "markdown",
   "id": "e2a62d7c-56e3-46bf-8b20-bfa7c6d3e41a",
   "metadata": {},
   "source": [
    "[Zurück zum Inhaltsverzeichnis](_Inhaltsverzeichnis_.ipynb)"
   ]
  },
  {
   "cell_type": "markdown",
   "id": "2accf8df-6d53-4643-b952-bd82151766be",
   "metadata": {},
   "source": [
    "# Strings"
   ]
  },
  {
   "cell_type": "markdown",
   "id": "4b26eec8-e8bf-4e17-b102-801713558be6",
   "metadata": {
    "jp-MarkdownHeadingCollapsed": true
   },
   "source": [
    "## Einfache Strings"
   ]
  },
  {
   "cell_type": "code",
   "execution_count": 1,
   "id": "ecde71dd-f5a9-4956-bfb6-17154ccfa775",
   "metadata": {},
   "outputs": [
    {
     "data": {
      "text/plain": [
       "''"
      ]
     },
     "execution_count": 1,
     "metadata": {},
     "output_type": "execute_result"
    }
   ],
   "source": [
    "\"\""
   ]
  },
  {
   "cell_type": "markdown",
   "id": "86db77df-fa86-416c-b940-0b8eee0f5381",
   "metadata": {},
   "source": [
    "Das ist ein LEER String"
   ]
  },
  {
   "cell_type": "code",
   "execution_count": 3,
   "id": "60be9246-3a6e-4243-9315-1da54fd3f9fc",
   "metadata": {},
   "outputs": [
    {
     "data": {
      "text/plain": [
       "False"
      ]
     },
     "execution_count": 3,
     "metadata": {},
     "output_type": "execute_result"
    }
   ],
   "source": [
    "bool(\"\")"
   ]
  },
  {
   "cell_type": "code",
   "execution_count": 4,
   "id": "904a56fb-a273-4360-9d6f-d986d175e363",
   "metadata": {},
   "outputs": [
    {
     "data": {
      "text/plain": [
       "0"
      ]
     },
     "execution_count": 4,
     "metadata": {},
     "output_type": "execute_result"
    }
   ],
   "source": [
    "len(\"\")"
   ]
  },
  {
   "cell_type": "code",
   "execution_count": 23,
   "id": "b9770b92-7849-4710-812e-991d8309f191",
   "metadata": {
    "tags": []
   },
   "outputs": [],
   "source": [
    "# Str mit doppelt Anführungszeichen vs. Str mit einfachen Anführungszeichen\n",
    "str1 = \"String 1 mit tollen Sachen !!! @\"\n",
    "str2 = 'String mit nochmehr tollen Sachen $$$'"
   ]
  },
  {
   "cell_type": "code",
   "execution_count": 21,
   "id": "50cd0c55-4b1f-4e08-b26f-0dab3cd31517",
   "metadata": {
    "tags": []
   },
   "outputs": [
    {
     "data": {
      "text/plain": [
       "'String 1 mit tollen Sachen !!! @'"
      ]
     },
     "execution_count": 21,
     "metadata": {},
     "output_type": "execute_result"
    }
   ],
   "source": [
    "str1"
   ]
  },
  {
   "cell_type": "code",
   "execution_count": 22,
   "id": "30c87b13-1a4f-4880-bf7e-9008fbeedd96",
   "metadata": {},
   "outputs": [
    {
     "data": {
      "text/plain": [
       "'String mit nochmehr tollen Sachen $$$'"
      ]
     },
     "execution_count": 22,
     "metadata": {},
     "output_type": "execute_result"
    }
   ],
   "source": [
    "str2"
   ]
  },
  {
   "cell_type": "code",
   "execution_count": 20,
   "id": "760c8973-3f0a-4349-86a6-199bd2ce59d3",
   "metadata": {
    "tags": []
   },
   "outputs": [
    {
     "name": "stdout",
     "output_type": "stream",
     "text": [
      "String 1 mit tollen Sachen !!! @\n",
      "String mit nochmehr tollen Sachen $$$\n"
     ]
    }
   ],
   "source": [
    "print(str1)\n",
    "print(str2)"
   ]
  },
  {
   "cell_type": "code",
   "execution_count": 14,
   "id": "54d18ef8-a3cc-4720-9e48-c7e9e3c2a9ec",
   "metadata": {
    "tags": []
   },
   "outputs": [],
   "source": [
    "str_doppelt = \"Hallo\"\n",
    "str_einfach = 'Huhu'\n",
    "# Hier gibt es einen echten Unterschied zwischen \"\", '' und \"\"\"\"\"\" ''''''\n",
    "# Die str mit je drei Zeichen links und rechts erlauben intern Zeilenumbrüche\n",
    "str_doppelt_multiline = \"\"\" Hallo ich bin multiline str \"\"\"\n",
    "str_einfach_multiline =  '''Hallo ich bin multiline str'''"
   ]
  },
  {
   "cell_type": "markdown",
   "id": "6947cc20-14bb-40fd-af5b-23b71ee83eca",
   "metadata": {},
   "source": [
    "Mit `type()` prüfen wir welchen Datentyp eine Variable \"beherbergt\"\n",
    "\n",
    "type(object) -> the object's type"
   ]
  },
  {
   "cell_type": "markdown",
   "id": "da5fae90-af6b-410f-be4a-b19d069bc580",
   "metadata": {},
   "source": [
    "Die folgende Zeile, prüft den Datentyp der vier oben erstellten str Variablen. Und alle Variablen beherbergen tatsächlich jeweils einen `str`. Unabhängig davon ob wir \"\", '', \"\"\"\"\"\", ''''''"
   ]
  },
  {
   "cell_type": "code",
   "execution_count": 10,
   "id": "7d832d28-83ea-4b97-8ad9-7f70301b9d2f",
   "metadata": {
    "tags": []
   },
   "outputs": [
    {
     "data": {
      "text/plain": [
       "(str, str, str, str)"
      ]
     },
     "execution_count": 10,
     "metadata": {},
     "output_type": "execute_result"
    }
   ],
   "source": [
    "type(str_doppelt),type(str_einfach), type(str_doppelt_multiline), type(str_einfach_multiline)"
   ]
  },
  {
   "cell_type": "code",
   "execution_count": 13,
   "id": "f7bf80c9-9092-4752-a703-6aa8f26e905d",
   "metadata": {
    "tags": []
   },
   "outputs": [
    {
     "data": {
      "text/plain": [
       "\u001b[0;31mInit signature:\u001b[0m \u001b[0mtype\u001b[0m\u001b[0;34m(\u001b[0m\u001b[0mself\u001b[0m\u001b[0;34m,\u001b[0m \u001b[0;34m/\u001b[0m\u001b[0;34m,\u001b[0m \u001b[0;34m*\u001b[0m\u001b[0margs\u001b[0m\u001b[0;34m,\u001b[0m \u001b[0;34m**\u001b[0m\u001b[0mkwargs\u001b[0m\u001b[0;34m)\u001b[0m\u001b[0;34m\u001b[0m\u001b[0;34m\u001b[0m\u001b[0m\n",
       "\u001b[0;31mDocstring:\u001b[0m     \n",
       "type(object_or_name, bases, dict)\n",
       "type(object) -> the object's type\n",
       "type(name, bases, dict) -> a new type\n",
       "\u001b[0;31mType:\u001b[0m           type\n",
       "\u001b[0;31mSubclasses:\u001b[0m     ABCMeta, EnumMeta, _ProtocolMeta, NamedTupleMeta, MetaHasDescriptors, _TemplateMetaclass, PyCStructType, UnionType, PyCPointerType, PyCArrayType, ...\n"
      ]
     },
     "metadata": {},
     "output_type": "display_data"
    }
   ],
   "source": [
    "type?"
   ]
  },
  {
   "cell_type": "code",
   "execution_count": 14,
   "id": "dda1f813-3c10-455d-b829-88c8f6027dc5",
   "metadata": {
    "tags": []
   },
   "outputs": [
    {
     "ename": "SyntaxError",
     "evalue": "EOL while scanning string literal (2617272196.py, line 1)",
     "output_type": "error",
     "traceback": [
      "\u001b[0;36m  File \u001b[0;32m\"/var/folders/98/zxnb__6d3hn1b82jwdhkbs7m0000gn/T/ipykernel_12043/2617272196.py\"\u001b[0;36m, line \u001b[0;32m1\u001b[0m\n\u001b[0;31m    str_doppelt1 = \"Hallo\u001b[0m\n\u001b[0m                          ^\u001b[0m\n\u001b[0;31mSyntaxError\u001b[0m\u001b[0;31m:\u001b[0m EOL while scanning string literal\n"
     ]
    }
   ],
   "source": [
    "str_doppelt1 = \"Hallo \n",
    "Wie \n",
    "geht \n",
    "es Dir\n",
    "\""
   ]
  },
  {
   "cell_type": "markdown",
   "id": "b8e777d4-7202-4d94-84f4-81214eb2c7b8",
   "metadata": {},
   "source": [
    "Fehler: Der String wurde in der Zeile eröffnet aber nicht wieder geschlossen. \n",
    "\n",
    "Weil es nur ein einfacher String im Gegensatz zu einem Multiline String war. Schaut Python nur in der gleichen Zeile nach dem Ende."
   ]
  },
  {
   "cell_type": "code",
   "execution_count": 20,
   "id": "1065042e-008a-47db-b3ab-4c91151d9cb7",
   "metadata": {
    "tags": []
   },
   "outputs": [
    {
     "data": {
      "text/plain": [
       "'Hallo\\nWie\\n\\n\\ngeht\\nes\\nDir'"
      ]
     },
     "execution_count": 20,
     "metadata": {},
     "output_type": "execute_result"
    }
   ],
   "source": [
    "str_doppelt2 = \"Hallo\\nWie\\n\\n\\ngeht\\nes\\nDir\"\n",
    "str_doppelt2"
   ]
  },
  {
   "cell_type": "code",
   "execution_count": 21,
   "id": "9765427c-455c-4ed6-8263-e140456f54a1",
   "metadata": {
    "tags": []
   },
   "outputs": [
    {
     "name": "stdout",
     "output_type": "stream",
     "text": [
      "Hallo\n",
      "Wie\n",
      "\n",
      "\n",
      "geht\n",
      "es\n",
      "Dir\n"
     ]
    }
   ],
   "source": [
    "print(str_doppelt2)"
   ]
  },
  {
   "cell_type": "markdown",
   "id": "fedcaea2-a475-4423-87d7-9d7099c94371",
   "metadata": {
    "jp-MarkdownHeadingCollapsed": true
   },
   "source": [
    "## Multiline Strings"
   ]
  },
  {
   "cell_type": "code",
   "execution_count": 26,
   "id": "406483d1-7db9-492e-979c-fcec3c92324d",
   "metadata": {
    "tags": []
   },
   "outputs": [],
   "source": [
    "str_doppelt_multiline1 = \"\"\"Hallo \n",
    "Wie \n",
    "geht\\n \n",
    "\n",
    "es Dir\"\"\""
   ]
  },
  {
   "cell_type": "markdown",
   "id": "09f49144-bafd-4de3-a00f-a9d59f1914a9",
   "metadata": {},
   "source": [
    "Der Unterschied zwischen \"Hallo\" und \"\"\"Hallo\"\"\" ist der, dass wir im zweiten Fall einfach über Enter Zeilenumbrüche einfügen können.\n",
    "\n",
    "\"BEGINN Hallo ENDE\" Beginn und Ende  müssen in der gleichen Zeile sein => sonst Fehler.\n",
    "\n",
    "\"\"\"BEGINN Hallo ENDE\"\"\"  Beginn und Ende können in unterschiedlichen Zeilen sein."
   ]
  },
  {
   "cell_type": "code",
   "execution_count": 24,
   "id": "8b3c0efc-0ef0-44a0-a37d-fdc7dd16444a",
   "metadata": {
    "tags": []
   },
   "outputs": [],
   "source": [
    "# Ein Zeilenkommentar\n",
    "\n",
    "# Es gibt keinen Multi-Line Kommentar in Python daher nutzt man dazu oft den Multiline String\n",
    "# Wurde oben in Kapitel \"Kommentare in Python\" schon erwähnt"
   ]
  },
  {
   "cell_type": "code",
   "execution_count": 34,
   "id": "199edb46-d337-4333-bc04-aa765c81a052",
   "metadata": {
    "tags": []
   },
   "outputs": [
    {
     "name": "stdout",
     "output_type": "stream",
     "text": [
      "Hallo\n"
     ]
    },
    {
     "data": {
      "text/plain": [
       "'\\ny = 100\\n\\nz = 100/x\\n\\nprint(z)\\n'"
      ]
     },
     "execution_count": 34,
     "metadata": {},
     "output_type": "execute_result"
    }
   ],
   "source": [
    "print(\"Hallo\")\n",
    "x = 42\n",
    "\n",
    "\"\"\"\n",
    "y = 100\n",
    "\n",
    "z = 100/x\n",
    "\n",
    "print(z)\n",
    "\"\"\""
   ]
  },
  {
   "cell_type": "code",
   "execution_count": 41,
   "id": "b8250c03-1a7a-4c1e-a0fe-b88a467b4eb0",
   "metadata": {
    "tags": []
   },
   "outputs": [],
   "source": [
    "def f():\n",
    "    \"\"\"Das ist eine String und ich stehe in \n",
    "    einer wichtigen Funktion drinne\n",
    "    \n",
    "    @param: wir erwarten keine Parameter\n",
    "    @return: Die Funktion tut nichts und gibt auch nichts zurück\"\"\""
   ]
  },
  {
   "cell_type": "code",
   "execution_count": 42,
   "id": "4653c6a8-ce17-4ca4-a00d-512697d28807",
   "metadata": {
    "tags": []
   },
   "outputs": [
    {
     "name": "stdout",
     "output_type": "stream",
     "text": [
      "Help on function f in module __main__:\n",
      "\n",
      "f()\n",
      "    Das ist eine String und ich stehe in \n",
      "    einer wichtigen Funktion drinne\n",
      "    \n",
      "    @param: wir erwarten keine Parameter\n",
      "    @return: Die Funktion tut nichts und gibt auch nichts zurück\n",
      "\n"
     ]
    }
   ],
   "source": [
    "help(f)"
   ]
  },
  {
   "cell_type": "markdown",
   "id": "56c038a1-a3e1-45b8-ace6-561b88e86a43",
   "metadata": {
    "tags": []
   },
   "source": [
    "In Jupyter kann man die Hilfe auch aufrufen durch \n",
    "\n",
    "1. f?\n",
    "2. f gefolgt von \"Shift\"+\"Tab\""
   ]
  },
  {
   "cell_type": "code",
   "execution_count": 38,
   "id": "20af9670-7f70-4ae2-8476-a7862dbb94af",
   "metadata": {
    "tags": []
   },
   "outputs": [
    {
     "data": {
      "text/plain": [
       "\u001b[0;31mDocstring:\u001b[0m\n",
       "print(value, ..., sep=' ', end='\\n', file=sys.stdout, flush=False)\n",
       "\n",
       "Prints the values to a stream, or to sys.stdout by default.\n",
       "Optional keyword arguments:\n",
       "file:  a file-like object (stream); defaults to the current sys.stdout.\n",
       "sep:   string inserted between values, default a space.\n",
       "end:   string appended after the last value, default a newline.\n",
       "flush: whether to forcibly flush the stream.\n",
       "\u001b[0;31mType:\u001b[0m      builtin_function_or_method\n"
      ]
     },
     "metadata": {},
     "output_type": "display_data"
    }
   ],
   "source": [
    "print?"
   ]
  },
  {
   "cell_type": "code",
   "execution_count": 32,
   "id": "da3f0e72-8be9-4949-a9bb-30af9590b58c",
   "metadata": {
    "tags": []
   },
   "outputs": [
    {
     "name": "stdout",
     "output_type": "stream",
     "text": [
      "\n",
      "y = 100\n",
      "\n",
      "z = 100/x\n",
      "\n",
      "print(z)\n",
      "\n"
     ]
    }
   ],
   "source": [
    "print(y)"
   ]
  },
  {
   "cell_type": "code",
   "execution_count": 27,
   "id": "2b81529d-190b-4aa3-878c-c3a7c217a747",
   "metadata": {
    "scrolled": true,
    "tags": []
   },
   "outputs": [
    {
     "name": "stdout",
     "output_type": "stream",
     "text": [
      "Hallo \n",
      "Wie \n",
      "geht\n",
      " \n",
      "\n",
      "es Dir\n"
     ]
    }
   ],
   "source": [
    "print(str_doppelt_multiline1)"
   ]
  },
  {
   "cell_type": "code",
   "execution_count": 24,
   "id": "5780d631-f0e3-43fd-bb1c-489c184739e5",
   "metadata": {
    "tags": []
   },
   "outputs": [
    {
     "data": {
      "text/plain": [
       "('Ich bin ein string', str)"
      ]
     },
     "execution_count": 24,
     "metadata": {},
     "output_type": "execute_result"
    }
   ],
   "source": [
    "\"Ich bin ein string\", type(\"Ich bin ein string\")"
   ]
  },
  {
   "cell_type": "code",
   "execution_count": 25,
   "id": "160cd666-fb01-43b6-ad15-3979c623d879",
   "metadata": {
    "tags": []
   },
   "outputs": [
    {
     "data": {
      "text/plain": [
       "('Ich bin auch ein string', str)"
      ]
     },
     "execution_count": 25,
     "metadata": {},
     "output_type": "execute_result"
    }
   ],
   "source": [
    "'Ich bin auch ein string', type('Ich bin auch ein string')"
   ]
  },
  {
   "cell_type": "code",
   "execution_count": 26,
   "id": "e427622b-8ac4-4ad0-b897-21c9063c6b46",
   "metadata": {
    "tags": []
   },
   "outputs": [
    {
     "name": "stdout",
     "output_type": "stream",
     "text": [
      "Ich bin ein Multiline String\n",
      "und bei mir kann man mit\n",
      "Enter neue \n",
      "Zeilen erstellen ein string\n"
     ]
    }
   ],
   "source": [
    "print(\"\"\"Ich bin ein Multiline String\n",
    "und bei mir kann man mit\n",
    "Enter neue \n",
    "Zeilen erstellen ein string\"\"\")\n",
    "\n"
   ]
  },
  {
   "cell_type": "code",
   "execution_count": 27,
   "id": "ea406ac4-042a-443a-b0b7-f3246ef935a2",
   "metadata": {
    "tags": []
   },
   "outputs": [
    {
     "data": {
      "text/plain": [
       "str"
      ]
     },
     "execution_count": 27,
     "metadata": {},
     "output_type": "execute_result"
    }
   ],
   "source": [
    "type(\"\"\"Ich bin ein Multiline String\n",
    "und bei mir kann man mit\n",
    "Enter neue \n",
    "Zeilen erstellen ein string\"\"\")"
   ]
  },
  {
   "cell_type": "markdown",
   "id": "3ab3bd46-1e93-458f-bf54-def640423295",
   "metadata": {},
   "source": [
    "### Versuchen wir mit \"\" oder '' über mehrere Zeilen zu schreiben und nutzen dabei Enter, kommt es zu einem Fehler"
   ]
  },
  {
   "cell_type": "code",
   "execution_count": 28,
   "id": "bd2c7712-c178-4340-96d3-ce0fc41eb96a",
   "metadata": {
    "tags": []
   },
   "outputs": [
    {
     "ename": "SyntaxError",
     "evalue": "EOL while scanning string literal (1964252768.py, line 1)",
     "output_type": "error",
     "traceback": [
      "\u001b[0;36m  File \u001b[0;32m\"/var/folders/98/zxnb__6d3hn1b82jwdhkbs7m0000gn/T/ipykernel_15010/1964252768.py\"\u001b[0;36m, line \u001b[0;32m1\u001b[0m\n\u001b[0;31m    \"Hallo\u001b[0m\n\u001b[0m          ^\u001b[0m\n\u001b[0;31mSyntaxError\u001b[0m\u001b[0;31m:\u001b[0m EOL while scanning string literal\n"
     ]
    }
   ],
   "source": [
    "\"Hallo\n",
    "Du \""
   ]
  },
  {
   "cell_type": "code",
   "execution_count": 29,
   "id": "28c8fe43-cdbe-4f45-86ad-e9007455d57b",
   "metadata": {
    "tags": []
   },
   "outputs": [
    {
     "ename": "SyntaxError",
     "evalue": "EOL while scanning string literal (4003826404.py, line 1)",
     "output_type": "error",
     "traceback": [
      "\u001b[0;36m  File \u001b[0;32m\"/var/folders/98/zxnb__6d3hn1b82jwdhkbs7m0000gn/T/ipykernel_15010/4003826404.py\"\u001b[0;36m, line \u001b[0;32m1\u001b[0m\n\u001b[0;31m    'Hallo\u001b[0m\n\u001b[0m          ^\u001b[0m\n\u001b[0;31mSyntaxError\u001b[0m\u001b[0;31m:\u001b[0m EOL while scanning string literal\n"
     ]
    }
   ],
   "source": [
    "'Hallo\n",
    "Du'"
   ]
  },
  {
   "cell_type": "code",
   "execution_count": 30,
   "id": "9e882805-c71d-4744-9e10-82f2226311de",
   "metadata": {
    "tags": []
   },
   "outputs": [
    {
     "data": {
      "text/plain": [
       "'Hallo\\nDu'"
      ]
     },
     "execution_count": 30,
     "metadata": {},
     "output_type": "execute_result"
    }
   ],
   "source": [
    "'''Hallo\n",
    "Du'''"
   ]
  },
  {
   "cell_type": "markdown",
   "id": "175f05c4-2579-4498-ab9b-b2f64e34e264",
   "metadata": {},
   "source": [
    "### Frage "
   ]
  },
  {
   "cell_type": "markdown",
   "id": "c7b3cba2-4afc-48ad-ba82-b891d74c4285",
   "metadata": {},
   "source": [
    "Kann man dann mit ein-Zeilen Strings keine Zeilenumbrüche darstellen?\n",
    "\n",
    "Antwort: Doch, aber wir können das nicht mit Enter tun."
   ]
  },
  {
   "cell_type": "markdown",
   "id": "1c0be243-544a-4a9f-9057-5f5acf6a062e",
   "metadata": {},
   "source": [
    "Die String Begrenzungen `\"\"` oder `''` werden von Python immer nur in einer Zeile akzeptiert.\n",
    "\n",
    "Wenn wir mit `\"` den String öfffnen sucht Python nur bis zum Zeilenende nach dem schliessenden `\"` ."
   ]
  },
  {
   "cell_type": "code",
   "execution_count": 31,
   "id": "a758c3f0-493b-409a-b06f-bbc46f7a2b36",
   "metadata": {
    "tags": []
   },
   "outputs": [
    {
     "data": {
      "text/plain": [
       "'Hallo\\nDu'"
      ]
     },
     "execution_count": 31,
     "metadata": {},
     "output_type": "execute_result"
    }
   ],
   "source": [
    "'Hallo\\nDu'"
   ]
  },
  {
   "cell_type": "code",
   "execution_count": 32,
   "id": "7a87c84a-e88e-4a9e-820a-d4587099c8e9",
   "metadata": {
    "scrolled": true,
    "tags": []
   },
   "outputs": [
    {
     "name": "stdout",
     "output_type": "stream",
     "text": [
      "Hallo\n",
      "Du\n"
     ]
    }
   ],
   "source": [
    "print('Hallo\\nDu')"
   ]
  },
  {
   "cell_type": "markdown",
   "id": "cabb5179-ec81-463b-9503-656e8fd96f85",
   "metadata": {},
   "source": [
    "## F-String"
   ]
  },
  {
   "cell_type": "markdown",
   "id": "4e508217-7ad1-44a8-994f-a3d580dc8f9d",
   "metadata": {},
   "source": [
    "\n",
    "Ein F-String in Python ist eine spezielle Art von Zeichenkette (String), die es dir ermöglicht, Ausdrücke direkt in einer Zeichenkette einzubetten. Durch Verwendung von geschweiften Klammern {} in einem F-String kannst du Variablen, Ausdrücke und sogar Funktionen direkt in den String einfügen, ohne diese vorher explizit zu konvertieren oder mit dem String zu verknüpfen. Der F-String wird von einem \"f\" oder \"F\" vor dem Anführungszeichen markiert, gefolgt von der Zeichenkette mit den eingebetteten Ausdrücken."
   ]
  },
  {
   "cell_type": "code",
   "execution_count": 107,
   "id": "3a63ed05-3e42-476f-a441-a3de2ccd692e",
   "metadata": {
    "tags": []
   },
   "outputs": [],
   "source": [
    "alter = 42\n",
    "name = \"Frank\""
   ]
  },
  {
   "cell_type": "code",
   "execution_count": 108,
   "id": "18d84917-b9b8-4bec-9d1c-eed797c26dc3",
   "metadata": {
    "tags": []
   },
   "outputs": [
    {
     "name": "stdout",
     "output_type": "stream",
     "text": [
      "name ist alter Jahre alt\n"
     ]
    }
   ],
   "source": [
    "print(\"name ist alter Jahre alt\")"
   ]
  },
  {
   "cell_type": "markdown",
   "id": "34d8c0fa-8d0c-40f4-b096-b347c5a6cd6b",
   "metadata": {},
   "source": [
    "Wir möchten die name und alter Variablen auslesen und nutzen. "
   ]
  },
  {
   "cell_type": "code",
   "execution_count": 109,
   "id": "bb65c9ce-ac05-4fc1-8e72-94781b4f5326",
   "metadata": {
    "tags": []
   },
   "outputs": [
    {
     "name": "stdout",
     "output_type": "stream",
     "text": [
      "name ist alter Jahre alt\n"
     ]
    }
   ],
   "source": [
    "print(f\"name ist alter Jahre alt\")"
   ]
  },
  {
   "cell_type": "code",
   "execution_count": 110,
   "id": "66056232-fb1a-4091-95f2-334728ea3aed",
   "metadata": {
    "tags": []
   },
   "outputs": [
    {
     "data": {
      "text/plain": [
       "str"
      ]
     },
     "execution_count": 110,
     "metadata": {},
     "output_type": "execute_result"
    }
   ],
   "source": [
    "type(f\"name ist alter Jahre alt\")"
   ]
  },
  {
   "cell_type": "code",
   "execution_count": 111,
   "id": "123780bd-d41b-4840-a9db-39e5f88f2427",
   "metadata": {
    "tags": []
   },
   "outputs": [
    {
     "name": "stdout",
     "output_type": "stream",
     "text": [
      "Frank ist 42 Jahre alt\n"
     ]
    }
   ],
   "source": [
    "print(f\"{name} ist {alter} Jahre alt\")"
   ]
  },
  {
   "cell_type": "code",
   "execution_count": 113,
   "id": "6afd50c4-9f2b-4abb-a5f9-6be42ad51ee7",
   "metadata": {
    "tags": []
   },
   "outputs": [
    {
     "name": "stdout",
     "output_type": "stream",
     "text": [
      "Was ist den 42*123,7 {42*123.7}\n"
     ]
    }
   ],
   "source": [
    "print(\"Was ist den 42*123,7 {42*123.7}\") # Ohne f werden die Klammern ganz normal als Zeichen behandelt"
   ]
  },
  {
   "cell_type": "code",
   "execution_count": 114,
   "id": "149cc02a-92f8-4692-87c8-2bd275459ba6",
   "metadata": {
    "tags": []
   },
   "outputs": [
    {
     "name": "stdout",
     "output_type": "stream",
     "text": [
      "Was ist den 42*123,7 5195.400000000001\n"
     ]
    }
   ],
   "source": [
    "print(f\"Was ist den 42*123,7 {42*123.7}\")"
   ]
  },
  {
   "cell_type": "code",
   "execution_count": 120,
   "id": "8fd21083-117d-44bc-b3bf-118908ba8fdf",
   "metadata": {
    "tags": []
   },
   "outputs": [
    {
     "name": "stdout",
     "output_type": "stream",
     "text": [
      "Was ist den 42*123,7 5195.40\n"
     ]
    }
   ],
   "source": [
    "print(f\"Was ist den 42*123,7 {42*123.7:.2f}\") # Auf zwei Nachkommastellen runden/"
   ]
  },
  {
   "cell_type": "code",
   "execution_count": 124,
   "id": "742d2b33-773e-4d4a-9cb5-d61437248dc5",
   "metadata": {
    "tags": []
   },
   "outputs": [
    {
     "name": "stdout",
     "output_type": "stream",
     "text": [
      "Was ist den 42**10 17,080,198,121,677,824\n"
     ]
    }
   ],
   "source": [
    "print(f\"Was ist den 42**10 {42**10:,}\") # Aufmit tausender trennzeichen"
   ]
  },
  {
   "cell_type": "markdown",
   "id": "6f885e9a-1fe0-456a-88a0-199bce0d0a61",
   "metadata": {},
   "source": [
    "Weitere Beispiele:"
   ]
  },
  {
   "cell_type": "code",
   "execution_count": 33,
   "id": "9d5cf7d2-ba6c-4018-a5b8-1e45b84ef34f",
   "metadata": {
    "tags": []
   },
   "outputs": [
    {
     "name": "stdout",
     "output_type": "stream",
     "text": [
      "Hallo Annabel wie gehts dir\n"
     ]
    }
   ],
   "source": [
    "name = \"annAbeL\"\n",
    "satz = f\"Hallo {name.title()} wie gehts dir\"\n",
    "print(satz)"
   ]
  },
  {
   "cell_type": "code",
   "execution_count": 34,
   "id": "52a4b09e-2c02-44ef-81e0-bfbd32a1158d",
   "metadata": {
    "tags": []
   },
   "outputs": [],
   "source": [
    "name = \"frank meier\"\n",
    "stundenlohn = 18.561\n",
    "stunden_gearbeitet = 23\n"
   ]
  },
  {
   "cell_type": "markdown",
   "id": "4980ad6f-8270-44a6-9b7c-54e2a9163e1d",
   "metadata": {},
   "source": [
    "Aufgabe: Bitte drucke aus, \"Frank Meier hat diese Woche BERECHNE_WOCHENLOHN EUR verdient\"\n",
    "\n",
    "Wer kann, darf auch auf 2 Nachkommastellen runden"
   ]
  },
  {
   "cell_type": "code",
   "execution_count": 36,
   "id": "eb6b5f9c-7857-4f23-b8d6-fba677c3b95e",
   "metadata": {
    "tags": []
   },
   "outputs": [
    {
     "name": "stdout",
     "output_type": "stream",
     "text": [
      "frank meier verdient 18.561 pro Stunde und hat 426.903 EUR gearbeitet\n"
     ]
    }
   ],
   "source": [
    "# Lösung1: \n",
    "\n",
    "gehalt_print = f\"{name} verdient {stundenlohn} pro Stunde und hat {stunden_gearbeitet * stundenlohn} EUR gearbeitet\"\n",
    "print(gehalt_print)"
   ]
  },
  {
   "cell_type": "code",
   "execution_count": 37,
   "id": "5215d524-4108-45bd-a451-12ade0a6d697",
   "metadata": {
    "tags": []
   },
   "outputs": [
    {
     "name": "stdout",
     "output_type": "stream",
     "text": [
      "frank meier hat -23- stunden gearbeitet\n",
      "und -426.903- EUR verdient.\n",
      "Guter Mann!\n"
     ]
    }
   ],
   "source": [
    "# Lösung 2\n",
    "print(f\"\"\"{name} hat -{stunden_gearbeitet}- stunden gearbeitet\n",
    "und -{stundenlohn*stunden_gearbeitet}- EUR verdient.\\nGuter Mann!\"\"\")"
   ]
  },
  {
   "cell_type": "code",
   "execution_count": 38,
   "id": "8e50d14e-2855-4052-a4f3-a0ab20ab9ea1",
   "metadata": {
    "tags": []
   },
   "outputs": [],
   "source": [
    "x = print"
   ]
  },
  {
   "cell_type": "code",
   "execution_count": 39,
   "id": "49617543-4c51-4a40-a430-953a0ed4661e",
   "metadata": {
    "tags": []
   },
   "outputs": [
    {
     "data": {
      "text/plain": [
       "<function print>"
      ]
     },
     "execution_count": 39,
     "metadata": {},
     "output_type": "execute_result"
    }
   ],
   "source": [
    "x"
   ]
  },
  {
   "cell_type": "code",
   "execution_count": 40,
   "id": "ddf9e8f9-3f65-49c0-ae4f-902fab48f10a",
   "metadata": {
    "tags": []
   },
   "outputs": [],
   "source": [
    "# Lösung 3\n",
    "wochenlohn = stundenlohn*stunden_gearbeitet\n",
    " \n",
    "print = (f\"Hallo {name} du hast in dieser Woche {wochenlohn} EUR verdient\")"
   ]
  },
  {
   "cell_type": "code",
   "execution_count": 41,
   "id": "b345c2df-cca4-4b8a-9716-a2d77baf3725",
   "metadata": {
    "tags": []
   },
   "outputs": [
    {
     "data": {
      "text/plain": [
       "'Hallo frank meier du hast in dieser Woche 426.903 EUR verdient'"
      ]
     },
     "execution_count": 41,
     "metadata": {},
     "output_type": "execute_result"
    }
   ],
   "source": [
    "print"
   ]
  },
  {
   "cell_type": "code",
   "execution_count": 42,
   "id": "2fe728f5-51ff-456f-8553-bd726cbe7630",
   "metadata": {
    "tags": []
   },
   "outputs": [
    {
     "ename": "TypeError",
     "evalue": "'str' object is not callable",
     "output_type": "error",
     "traceback": [
      "\u001b[0;31m---------------------------------------------------------------------------\u001b[0m",
      "\u001b[0;31mTypeError\u001b[0m                                 Traceback (most recent call last)",
      "\u001b[0;32m/var/folders/98/zxnb__6d3hn1b82jwdhkbs7m0000gn/T/ipykernel_15010/3775259767.py\u001b[0m in \u001b[0;36m<module>\u001b[0;34m\u001b[0m\n\u001b[0;32m----> 1\u001b[0;31m \u001b[0mprint\u001b[0m\u001b[0;34m(\u001b[0m\u001b[0;36m42\u001b[0m\u001b[0;34m)\u001b[0m\u001b[0;34m\u001b[0m\u001b[0;34m\u001b[0m\u001b[0m\n\u001b[0m",
      "\u001b[0;31mTypeError\u001b[0m: 'str' object is not callable"
     ]
    }
   ],
   "source": [
    "print(42)"
   ]
  },
  {
   "cell_type": "code",
   "execution_count": 43,
   "id": "0e843815-d5cf-4040-9fd0-e5035aa11158",
   "metadata": {
    "tags": []
   },
   "outputs": [],
   "source": [
    "print = x"
   ]
  },
  {
   "cell_type": "code",
   "execution_count": 44,
   "id": "e3c604c0-490e-4d6b-9763-1ef978b3c467",
   "metadata": {
    "tags": []
   },
   "outputs": [
    {
     "name": "stdout",
     "output_type": "stream",
     "text": [
      "42\n"
     ]
    }
   ],
   "source": [
    "print(42)"
   ]
  },
  {
   "cell_type": "code",
   "execution_count": 56,
   "id": "d5160821-9016-49d2-aa2f-1ea82075d404",
   "metadata": {
    "tags": []
   },
   "outputs": [
    {
     "name": "stdout",
     "output_type": "stream",
     "text": [
      "frank meier hat diese Woche 426.93 EUR verdient.\n"
     ]
    }
   ],
   "source": [
    "berechne_wochenlohn = 18.56212*23\n",
    "print(f\"{name} hat diese Woche {berechne_wochenlohn} EUR verdient.\")"
   ]
  },
  {
   "cell_type": "code",
   "execution_count": 63,
   "id": "f0432618-efe2-484b-a1e1-bfe6012fe21b",
   "metadata": {
    "tags": []
   },
   "outputs": [
    {
     "name": "stdout",
     "output_type": "stream",
     "text": [
      "frank meier hat diese Woche 426.93 EUR verdient.\n"
     ]
    }
   ],
   "source": [
    "print(f\"{name} hat diese Woche {berechne_wochenlohn:.2f} EUR verdient.\")"
   ]
  },
  {
   "cell_type": "code",
   "execution_count": 48,
   "id": "5edc3076-6d8a-4f1e-98a2-ac34bac0836b",
   "metadata": {
    "tags": []
   },
   "outputs": [
    {
     "name": "stdout",
     "output_type": "stream",
     "text": [
      "frank meier hat diese Woche 426.93 EUR verdient.\n"
     ]
    }
   ],
   "source": [
    "print(f\"{name} hat diese Woche {round(berechne_wochenlohn,2)} EUR verdient.\")"
   ]
  },
  {
   "cell_type": "code",
   "execution_count": 58,
   "id": "1b8d0784-061e-4a26-a269-c523905daf3b",
   "metadata": {
    "tags": []
   },
   "outputs": [
    {
     "name": "stdout",
     "output_type": "stream",
     "text": [
      "Hallo Frank Meier du hast in dieser Woche 23 Stunden gearbeitet\n",
      "für je 18.56 EUR/h damit hat du in Summe 426.90 EUR verdient\n"
     ]
    }
   ],
   "source": [
    "# Lösung Mit allem drinne \n",
    "wochenlohn = stundenlohn*stunden_gearbeitet\n",
    " \n",
    "print(f\"\"\"Hallo {name.title()} du hast in dieser Woche {stunden_gearbeitet} Stunden gearbeitet\n",
    "für je {stundenlohn:.2f} EUR/h damit hat du in Summe {wochenlohn:.2f} EUR verdient\"\"\")"
   ]
  },
  {
   "cell_type": "markdown",
   "id": "b4718baa-8841-4307-a579-e882c78add44",
   "metadata": {},
   "source": [
    "## indexing, slicing, immutability (PCAP)"
   ]
  },
  {
   "cell_type": "markdown",
   "id": "fdad3660-5047-46b9-919a-c8fab2cb066c",
   "metadata": {},
   "source": [
    "Strings sind Sequenzen und man kann diese Indizieren und Slicen. \n",
    "\n",
    "Aber da Strings immutable sind, kann man keine `item assignments` machen. \n",
    "\n",
    "Immutabilty bezieht sich immer auf die zugrundeliegenden Objekte. Eine Variable kann nicht immutable sein. "
   ]
  },
  {
   "cell_type": "markdown",
   "id": "354f5355-9b5a-41e6-bf4b-1c9d647cf7bf",
   "metadata": {},
   "source": [
    "[Immutability](Immutability.ipynb)"
   ]
  },
  {
   "cell_type": "code",
   "execution_count": 6,
   "id": "f89a28cc-6ba1-4cb0-818d-fac148384b58",
   "metadata": {
    "tags": []
   },
   "outputs": [
    {
     "name": "stdout",
     "output_type": "stream",
     "text": [
      "Bleiklumpen und Goldklumpen\n"
     ]
    }
   ],
   "source": [
    "Schatz = \"Bleiklumpen\" # Das ist ein String Objekt\n",
    "Schatz += \" und Goldklumpen\" # rechts steht ein anderes Stringobjekt\n",
    "\n",
    "# in \"Schatz\" wird NEUES String objekt erstellt. \n",
    "\n",
    "print(Schatz)"
   ]
  },
  {
   "cell_type": "markdown",
   "id": "e5f0a135-dc7d-43e0-8682-af9e0468efa2",
   "metadata": {},
   "source": [
    "Passieren tut das hier:"
   ]
  },
  {
   "cell_type": "code",
   "execution_count": 8,
   "id": "5a67c047-83b2-4480-90f0-37d185c126d7",
   "metadata": {
    "tags": []
   },
   "outputs": [
    {
     "name": "stdout",
     "output_type": "stream",
     "text": [
      "1462938392176\n",
      "1462944098224\n",
      "1462938487184\n"
     ]
    }
   ],
   "source": [
    "objekt1 = \"Bleiklumpen\"\n",
    "objekt2 = \" und Goldklumpen\"\n",
    "objekt3 = objekt1+objekt2\n",
    "\n",
    "print(id(objekt1))\n",
    "print(id(objekt2))\n",
    "print(id(objekt3))"
   ]
  },
  {
   "cell_type": "markdown",
   "id": "2df078a8-8175-40ea-8ef8-bf5246960c0f",
   "metadata": {},
   "source": [
    "Drei völlig unterschiedliche Objekte"
   ]
  },
  {
   "cell_type": "markdown",
   "id": "61c03e44-a29d-4c2e-b64d-1782104b8861",
   "metadata": {
    "jp-MarkdownHeadingCollapsed": true
   },
   "source": [
    "### Strings und Immutability"
   ]
  },
  {
   "cell_type": "code",
   "execution_count": 71,
   "id": "bfd8eca5-5caa-4305-abcf-0d1671945f7f",
   "metadata": {
    "tags": []
   },
   "outputs": [
    {
     "name": "stdout",
     "output_type": "stream",
     "text": [
      "Hallo\n"
     ]
    }
   ],
   "source": [
    "s = \"Hallo\"\n",
    "s.upper() # erstellt neues Objekt \"HALLO\" das aber nirgendwo gespeicher wurde\n",
    "s.replace(\"L\", \"k\") # \n",
    "print(s)"
   ]
  },
  {
   "cell_type": "code",
   "execution_count": 72,
   "id": "f264e73e-91f5-469f-84c5-205ceaa73055",
   "metadata": {
    "tags": []
   },
   "outputs": [
    {
     "name": "stdout",
     "output_type": "stream",
     "text": [
      "Hallo\n"
     ]
    }
   ],
   "source": [
    "s = \"Hallo\"\n",
    "s.upper() # erstellt neues Objekt \"HALLO\" das aber nirgendwo gespeicher wurde\n",
    "print(s.replace(\"L\", \"k\")) # \n"
   ]
  },
  {
   "cell_type": "markdown",
   "id": "d1381f7f-24f2-47c5-9810-ba78a6605492",
   "metadata": {},
   "source": [
    "`s` selbst verändert sich nicht. Um die Wirkung der Methoden sichtbar zu machen müssten wir ihre Ergebnisse einer NEUE Variable zuweisen."
   ]
  },
  {
   "cell_type": "code",
   "execution_count": 73,
   "id": "8888e7f7-1b82-432e-9215-3648da682deb",
   "metadata": {
    "tags": []
   },
   "outputs": [
    {
     "data": {
      "text/plain": [
       "'HAkkO'"
      ]
     },
     "execution_count": 73,
     "metadata": {},
     "output_type": "execute_result"
    }
   ],
   "source": [
    "s.upper().replace(\"L\", \"k\")"
   ]
  },
  {
   "cell_type": "markdown",
   "id": "b0d02433-6445-48d8-9854-62393f261293",
   "metadata": {},
   "source": [
    "Bzgl. Immutability beachtet. \n",
    "```python\n",
    "s.upper()\n",
    "```\n",
    "\n",
    "`s` wird nicht verändert. `s` kann nicht verändert werden. `s.upper()` erstelle ein NEUES String-Objekt auf Vorlage des alten'."
   ]
  },
  {
   "cell_type": "markdown",
   "id": "f1106bbd-eaf7-474c-8ff4-b4fc0337515b",
   "metadata": {
    "jp-MarkdownHeadingCollapsed": true
   },
   "source": [
    "### Slicing und Indexing"
   ]
  },
  {
   "cell_type": "markdown",
   "id": "07e93b37-4f59-4ceb-8932-f96f0b87cf5a",
   "metadata": {},
   "source": [
    "Hier haben wir eigentlich alles besprochen, bei Common Sequence Operations\n",
    "Aber noch zur Verdeutlichung, Operationen die in ein Objekt reingehen, und das Ändern sind bei str nicht erlaubt."
   ]
  },
  {
   "cell_type": "code",
   "execution_count": 74,
   "id": "9d840564-7b82-4a1f-afb4-7970636ccfe3",
   "metadata": {
    "tags": []
   },
   "outputs": [],
   "source": [
    "s = \"Hallo\""
   ]
  },
  {
   "cell_type": "code",
   "execution_count": 75,
   "id": "181e8bc6-e865-456f-8ff7-a4e46d8bb7e8",
   "metadata": {
    "tags": []
   },
   "outputs": [
    {
     "data": {
      "text/plain": [
       "'a'"
      ]
     },
     "execution_count": 75,
     "metadata": {},
     "output_type": "execute_result"
    }
   ],
   "source": [
    "s[1]"
   ]
  },
  {
   "cell_type": "code",
   "execution_count": 78,
   "id": "678c9e3c-608d-4171-a50c-1ade6447a5c5",
   "metadata": {
    "tags": []
   },
   "outputs": [
    {
     "data": {
      "text/plain": [
       "'ll'"
      ]
     },
     "execution_count": 78,
     "metadata": {},
     "output_type": "execute_result"
    }
   ],
   "source": [
    "s[2:-1]"
   ]
  },
  {
   "cell_type": "code",
   "execution_count": 79,
   "id": "36e2465f-5bc3-4f04-ac88-c53b59602822",
   "metadata": {
    "tags": []
   },
   "outputs": [
    {
     "ename": "TypeError",
     "evalue": "'str' object does not support item assignment",
     "output_type": "error",
     "traceback": [
      "\u001b[0;31m---------------------------------------------------------------------------\u001b[0m",
      "\u001b[0;31mTypeError\u001b[0m                                 Traceback (most recent call last)",
      "\u001b[0;32m/var/folders/98/zxnb__6d3hn1b82jwdhkbs7m0000gn/T/ipykernel_7528/3217804594.py\u001b[0m in \u001b[0;36m<module>\u001b[0;34m\u001b[0m\n\u001b[0;32m----> 1\u001b[0;31m \u001b[0ms\u001b[0m\u001b[0;34m[\u001b[0m\u001b[0;36m1\u001b[0m\u001b[0;34m]\u001b[0m \u001b[0;34m=\u001b[0m \u001b[0;34m\"p\"\u001b[0m\u001b[0;34m\u001b[0m\u001b[0;34m\u001b[0m\u001b[0m\n\u001b[0m",
      "\u001b[0;31mTypeError\u001b[0m: 'str' object does not support item assignment"
     ]
    }
   ],
   "source": [
    "s[1] = \"p\""
   ]
  },
  {
   "cell_type": "code",
   "execution_count": 80,
   "id": "db50eb79-dca6-40a6-9239-a23c2038b78d",
   "metadata": {
    "tags": []
   },
   "outputs": [
    {
     "ename": "TypeError",
     "evalue": "'str' object doesn't support item deletion",
     "output_type": "error",
     "traceback": [
      "\u001b[0;31m---------------------------------------------------------------------------\u001b[0m",
      "\u001b[0;31mTypeError\u001b[0m                                 Traceback (most recent call last)",
      "\u001b[0;32m/var/folders/98/zxnb__6d3hn1b82jwdhkbs7m0000gn/T/ipykernel_7528/44856119.py\u001b[0m in \u001b[0;36m<module>\u001b[0;34m\u001b[0m\n\u001b[0;32m----> 1\u001b[0;31m \u001b[0;32mdel\u001b[0m \u001b[0ms\u001b[0m\u001b[0;34m[\u001b[0m\u001b[0;36m1\u001b[0m\u001b[0;34m]\u001b[0m\u001b[0;34m\u001b[0m\u001b[0;34m\u001b[0m\u001b[0m\n\u001b[0m",
      "\u001b[0;31mTypeError\u001b[0m: 'str' object doesn't support item deletion"
     ]
    }
   ],
   "source": [
    "del s[1]"
   ]
  },
  {
   "cell_type": "markdown",
   "id": "68b43f4d-7e97-43c1-bd74-cfa2e174cdba",
   "metadata": {
    "tags": []
   },
   "source": [
    "#### Kontrast Programm mit mutable List"
   ]
  },
  {
   "cell_type": "code",
   "execution_count": 82,
   "id": "eb31b7c2-9fbf-4c2a-9415-ee50711e6103",
   "metadata": {
    "tags": []
   },
   "outputs": [],
   "source": [
    "s_list = list(\"Hallo\")"
   ]
  },
  {
   "cell_type": "code",
   "execution_count": 83,
   "id": "304fb79d-009d-433c-92b4-0bd181fad42f",
   "metadata": {
    "tags": []
   },
   "outputs": [
    {
     "data": {
      "text/plain": [
       "'a'"
      ]
     },
     "execution_count": 83,
     "metadata": {},
     "output_type": "execute_result"
    }
   ],
   "source": [
    "s_list[1]"
   ]
  },
  {
   "cell_type": "code",
   "execution_count": 84,
   "id": "943ae4f9-a87a-4079-b77f-f5380eda335b",
   "metadata": {
    "tags": []
   },
   "outputs": [],
   "source": [
    "s_list[1] = \"p\""
   ]
  },
  {
   "cell_type": "code",
   "execution_count": 86,
   "id": "e4937f88-588c-4068-9339-38d66cc6a07d",
   "metadata": {
    "tags": []
   },
   "outputs": [
    {
     "data": {
      "text/plain": [
       "['H', 'p', 'l', 'l', 'o']"
      ]
     },
     "execution_count": 86,
     "metadata": {},
     "output_type": "execute_result"
    }
   ],
   "source": [
    "s_list"
   ]
  },
  {
   "cell_type": "code",
   "execution_count": 87,
   "id": "a8cd8282-da31-4b80-b5bd-e3ad08e110e4",
   "metadata": {
    "tags": []
   },
   "outputs": [],
   "source": [
    "del s_list[1]"
   ]
  },
  {
   "cell_type": "code",
   "execution_count": 88,
   "id": "d533470d-d66c-43ce-a89a-72f3bf029b71",
   "metadata": {
    "tags": []
   },
   "outputs": [
    {
     "data": {
      "text/plain": [
       "['H', 'l', 'l', 'o']"
      ]
     },
     "execution_count": 88,
     "metadata": {},
     "output_type": "execute_result"
    }
   ],
   "source": [
    "s_list"
   ]
  },
  {
   "cell_type": "code",
   "execution_count": 89,
   "id": "e1d262e3-c10c-4c3d-8c7d-c7d3d86fa169",
   "metadata": {
    "tags": []
   },
   "outputs": [],
   "source": [
    "del s_list[1:3]"
   ]
  },
  {
   "cell_type": "code",
   "execution_count": 90,
   "id": "e3054865-8e15-45f0-b5a4-13c1d3863a34",
   "metadata": {
    "tags": []
   },
   "outputs": [
    {
     "data": {
      "text/plain": [
       "['H', 'o']"
      ]
     },
     "execution_count": 90,
     "metadata": {},
     "output_type": "execute_result"
    }
   ],
   "source": [
    "s_list"
   ]
  },
  {
   "cell_type": "code",
   "execution_count": 93,
   "id": "73cc4d00-513f-43ec-9c2a-117a7659087d",
   "metadata": {
    "tags": []
   },
   "outputs": [],
   "source": [
    "wort = list(\"012345678\")"
   ]
  },
  {
   "cell_type": "code",
   "execution_count": 95,
   "id": "3a349214-631c-4ff2-a5e6-85b7ed366344",
   "metadata": {
    "tags": []
   },
   "outputs": [
    {
     "data": {
      "text/plain": [
       "'H'"
      ]
     },
     "execution_count": 95,
     "metadata": {},
     "output_type": "execute_result"
    }
   ],
   "source": [
    "t = \"Hallo\"\n",
    "t[0]"
   ]
  },
  {
   "cell_type": "code",
   "execution_count": 94,
   "id": "08793df4-2676-4914-99c2-e76e66e25a43",
   "metadata": {
    "tags": []
   },
   "outputs": [
    {
     "name": "stdout",
     "output_type": "stream",
     "text": [
      "['0', '2', '4', '6', '8']\n"
     ]
    }
   ],
   "source": [
    "del wort[1::2]\n",
    "print(wort)"
   ]
  },
  {
   "cell_type": "markdown",
   "id": "d92fb486-b34f-4791-a6a3-40d1cd4142aa",
   "metadata": {
    "jp-MarkdownHeadingCollapsed": true
   },
   "source": [
    "### iterating through strings"
   ]
  },
  {
   "cell_type": "markdown",
   "id": "5fd7d33a-8aca-445d-a5b2-6afdb7c5e4cf",
   "metadata": {},
   "source": [
    "Wenn man durch ein iterable mit einer For-Schleife läuft, wird von der For-Schleife jedes Element einzeln angeschaut. \n",
    "\n",
    "Bei Strings sind die Element wieder Strings, und zwar ein-zeichigen, ein-elementige Strings"
   ]
  },
  {
   "cell_type": "code",
   "execution_count": 9,
   "id": "ac02ddb0-16e3-4456-a479-3fe2d8bfe1f4",
   "metadata": {
    "tags": []
   },
   "outputs": [
    {
     "name": "stdout",
     "output_type": "stream",
     "text": [
      "H|a|l|l|o|"
     ]
    }
   ],
   "source": [
    "for letter in \"Hallo\": \n",
    "    print(letter, end = \"|\")"
   ]
  },
  {
   "cell_type": "code",
   "execution_count": 10,
   "id": "5a900922-5fda-4165-a346-998379c134cf",
   "metadata": {
    "tags": []
   },
   "outputs": [
    {
     "name": "stdout",
     "output_type": "stream",
     "text": [
      "H|a|l|l|o|"
     ]
    }
   ],
   "source": [
    "# Ander Programmiersprachen wie bspw. Java erlaube es nicht direkt über einen String zu laufen\n",
    "# Daher findet man insbesondere von Switchern oft diesen Code BITTE VERMEIDEN\n",
    "for i in range(len(\"Hallo\")): \n",
    "    print(\"Hallo\"[i], end = \"|\")"
   ]
  },
  {
   "cell_type": "markdown",
   "id": "20dcd576-31cf-4ee5-9308-7ff87482bbcc",
   "metadata": {},
   "source": [
    "In anderen Sprachen laufen die \"normalen\" for-schleife nur über Zahlen. Aber auch andere Sprachen haben inzwischen sogenannte `for-each`Schleifen. Wo man direkt über die Elemente des Iterable laufen kann. \n",
    "\n",
    "For each ELEMENT of Iterable. \n",
    "\n",
    "In Python ist jede Schleife eine For-Each-Schleife"
   ]
  },
  {
   "cell_type": "code",
   "execution_count": 11,
   "id": "49c31560-79fd-4d42-9b79-bece8cba6c28",
   "metadata": {
    "tags": []
   },
   "outputs": [
    {
     "name": "stdout",
     "output_type": "stream",
     "text": [
      "0|1|2|3|4|5|6|7|8|9|"
     ]
    }
   ],
   "source": [
    "for i in range(10): # For each number in range(10)\n",
    "    print(i, end = \"|\")"
   ]
  },
  {
   "cell_type": "markdown",
   "id": "4901fc80-aa88-4704-bf10-5cf6e2172674",
   "metadata": {},
   "source": [
    "Manchmal will man die Elemente und deren Index gleichzeitig haben. Dies geht über for-each-Schleifen nicht direkt."
   ]
  },
  {
   "cell_type": "code",
   "execution_count": 104,
   "id": "a84450cc-8532-4159-91f0-7796343f8ff5",
   "metadata": {
    "tags": []
   },
   "outputs": [
    {
     "name": "stdout",
     "output_type": "stream",
     "text": [
      "(0, 'H')\n",
      "(1, 'a')\n",
      "(2, 'l')\n",
      "(3, 'l')\n",
      "(4, 'o')\n"
     ]
    }
   ],
   "source": [
    "for element in enumerate(\"Hallo\"): \n",
    "    print(element)"
   ]
  },
  {
   "cell_type": "markdown",
   "id": "db9696c9-a7cb-4982-bf6b-41eed94084c8",
   "metadata": {
    "tags": []
   },
   "source": [
    "Jedes element des enumerate Objekts gibt mir ein Tuple mit genau zwei Werte wieder. \n",
    "- Wert 1 ist immer ein int\n",
    "- Wert 2 ist immer ein Element des iterable welches wir an enumerate übergeben haben"
   ]
  },
  {
   "cell_type": "markdown",
   "id": "fb0c0948-e91f-4950-82a9-f12c59f1bdcd",
   "metadata": {},
   "source": [
    "### concatenating, multiplying, "
   ]
  },
  {
   "cell_type": "code",
   "execution_count": 122,
   "id": "25eef05a-3709-4c40-8b24-b13ab1379e84",
   "metadata": {
    "tags": []
   },
   "outputs": [
    {
     "data": {
      "text/plain": [
       "'Hallo Du Gummischuh'"
      ]
     },
     "execution_count": 122,
     "metadata": {},
     "output_type": "execute_result"
    }
   ],
   "source": [
    "\"Hallo\" + \" \" + \"Du\" + \" \" \"Gummischuh\""
   ]
  },
  {
   "cell_type": "code",
   "execution_count": 123,
   "id": "733c0557-5af5-43f4-8cab-f3744c291c2b",
   "metadata": {
    "tags": []
   },
   "outputs": [
    {
     "ename": "TypeError",
     "evalue": "can only concatenate str (not \"int\") to str",
     "output_type": "error",
     "traceback": [
      "\u001b[0;31m---------------------------------------------------------------------------\u001b[0m",
      "\u001b[0;31mTypeError\u001b[0m                                 Traceback (most recent call last)",
      "\u001b[0;32m/var/folders/98/zxnb__6d3hn1b82jwdhkbs7m0000gn/T/ipykernel_7528/106541762.py\u001b[0m in \u001b[0;36m<module>\u001b[0;34m\u001b[0m\n\u001b[0;32m----> 1\u001b[0;31m \u001b[0;34m\"Alter =\"\u001b[0m \u001b[0;34m+\u001b[0m \u001b[0;36m42\u001b[0m\u001b[0;34m\u001b[0m\u001b[0;34m\u001b[0m\u001b[0m\n\u001b[0m",
      "\u001b[0;31mTypeError\u001b[0m: can only concatenate str (not \"int\") to str"
     ]
    }
   ],
   "source": [
    "\"Alter =\" + 42"
   ]
  },
  {
   "cell_type": "code",
   "execution_count": 124,
   "id": "9edad9f1-af44-4c0e-b761-80a7b155702c",
   "metadata": {
    "tags": []
   },
   "outputs": [
    {
     "data": {
      "text/plain": [
       "'Alter =42'"
      ]
     },
     "execution_count": 124,
     "metadata": {},
     "output_type": "execute_result"
    }
   ],
   "source": [
    "\"Alter =\" + str(42)"
   ]
  },
  {
   "cell_type": "markdown",
   "id": "2f5eab54-45e9-45ff-a52c-937e4509c906",
   "metadata": {},
   "source": [
    "### comparing (against strings and numbers)"
   ]
  },
  {
   "cell_type": "markdown",
   "id": "60e7ec7b-4e44-43ff-9e6b-4d2ec05896dd",
   "metadata": {},
   "source": [
    "Wenn wir str-Objekte mit `>` oder `<` oder `==` etc. vergleichen, wird unter der Haube `ord(zeichen)` **paarweise** verglichen.\n",
    "Siehe dazu: [Boolscher Vergleich mit anderen Datentypen als int (Unicode)](bool_ASCII_Unicode.ipynb)"
   ]
  },
  {
   "cell_type": "code",
   "execution_count": 130,
   "id": "1da39743-1368-43e3-8dfc-2026071448e2",
   "metadata": {
    "tags": []
   },
   "outputs": [
    {
     "data": {
      "text/plain": [
       "True"
      ]
     },
     "execution_count": 130,
     "metadata": {},
     "output_type": "execute_result"
    }
   ],
   "source": [
    "\"a\">\"1\""
   ]
  },
  {
   "cell_type": "code",
   "execution_count": 132,
   "id": "f20c902f-32f6-4869-99d7-f411210264e4",
   "metadata": {
    "tags": []
   },
   "outputs": [
    {
     "data": {
      "text/plain": [
       "(97, 49)"
      ]
     },
     "execution_count": 132,
     "metadata": {},
     "output_type": "execute_result"
    }
   ],
   "source": [
    "ord(\"a\"), ord(\"1\")"
   ]
  },
  {
   "cell_type": "code",
   "execution_count": 133,
   "id": "d1026047-76fd-45cc-b95c-009c4e3f581a",
   "metadata": {
    "tags": []
   },
   "outputs": [
    {
     "data": {
      "text/plain": [
       "False"
      ]
     },
     "execution_count": 133,
     "metadata": {},
     "output_type": "execute_result"
    }
   ],
   "source": [
    "\"1\">\"9\""
   ]
  },
  {
   "cell_type": "code",
   "execution_count": 134,
   "id": "5cb9079f-5692-4f13-ad83-59c3d8b46d00",
   "metadata": {
    "tags": []
   },
   "outputs": [
    {
     "data": {
      "text/plain": [
       "False"
      ]
     },
     "execution_count": 134,
     "metadata": {},
     "output_type": "execute_result"
    }
   ],
   "source": [
    "\"10\">\"9\""
   ]
  },
  {
   "cell_type": "code",
   "execution_count": 135,
   "id": "4d2e8782-6fc1-41f5-bd6c-3e4acee1d900",
   "metadata": {
    "tags": []
   },
   "outputs": [
    {
     "data": {
      "text/plain": [
       "False"
      ]
     },
     "execution_count": 135,
     "metadata": {},
     "output_type": "execute_result"
    }
   ],
   "source": [
    "ord(\"1\")>ord(\"9\")"
   ]
  },
  {
   "cell_type": "code",
   "execution_count": 137,
   "id": "6784784d-6776-4490-8573-1afdcdf669e4",
   "metadata": {
    "tags": []
   },
   "outputs": [
    {
     "data": {
      "text/plain": [
       "False"
      ]
     },
     "execution_count": 137,
     "metadata": {},
     "output_type": "execute_result"
    }
   ],
   "source": [
    "\"123456789\" >\"129\""
   ]
  },
  {
   "cell_type": "markdown",
   "id": "5b2774f1-2294-40f9-8926-99c20abe5255",
   "metadata": {},
   "source": [
    "Python vergleicht\n",
    "1. die \"1\" links mit der \"1\" rechts, wenn das gleich ist kann er nicht entscheiden und schaut das nächste Zeichen an\n",
    "2. \"2\" und \"2\" vergleichen => gleich also nächstes Zeichen\n",
    "3. \"3\" und \"9\" vergleichen => ord(\"3\")< ord(\"9\") => dies entscheidet den Kampf\n",
    "\n",
    "Pseudocode: \n",
    "\n",
    "vergleiche paarweise das 1. miteinander wenn gleich das 2. ... bis zum ersten Mal die beiden paarweise ermittelten Zeichen ungleich sind. Dieser Vergleich entscheidet den Vergleich des ganzen Wortes"
   ]
  }
 ],
 "metadata": {
  "kernelspec": {
   "display_name": "Python 3 (ipykernel)",
   "language": "python",
   "name": "python3"
  },
  "language_info": {
   "codemirror_mode": {
    "name": "ipython",
    "version": 3
   },
   "file_extension": ".py",
   "mimetype": "text/x-python",
   "name": "python",
   "nbconvert_exporter": "python",
   "pygments_lexer": "ipython3",
   "version": "3.12.4"
  }
 },
 "nbformat": 4,
 "nbformat_minor": 5
}
