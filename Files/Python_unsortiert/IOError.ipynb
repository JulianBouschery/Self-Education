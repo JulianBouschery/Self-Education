{
 "cells": [
  {
   "cell_type": "markdown",
   "id": "ec0af76c-c17b-4945-b045-9b6f25d45acb",
   "metadata": {},
   "source": [
    "# IOError"
   ]
  },
  {
   "cell_type": "markdown",
   "id": "87d33e4f-3d1b-4523-a5be-9888d680b6b0",
   "metadata": {},
   "source": [
    "`IOError` ist eine Ausnahme in Python, die auftritt, wenn ein Ein-/Ausgabe-Fehler (Input/Output Error) auftritt. Diese Fehler können beim Arbeiten mit Dateien, Streams oder anderen Eingabe-/Ausgabe-Operationen entstehen. Hier sind einige häufige Ursachen für `IOError`:\n",
    "\n",
    "1. **Datei nicht gefunden**: Wenn versucht wird, auf eine Datei zuzugreifen, die nicht existiert.\n",
    "2. **Berechtigungsfehler**: Wenn das Programm nicht die erforderlichen Berechtigungen hat, um auf eine Datei zuzugreifen.\n",
    "3. **Volles Dateisystem**: Wenn das Speichermedium voll ist und keine weiteren Daten geschrieben werden können.\n",
    "4. **Gerätefehler**: Hardwareprobleme, die die Datenübertragung beeinträchtigen können."
   ]
  },
  {
   "cell_type": "markdown",
   "id": "e403cd4f-2bf6-4423-ba57-6d8eb51a7d86",
   "metadata": {},
   "source": [
    "### Beispiel"
   ]
  },
  {
   "cell_type": "markdown",
   "id": "1214a3ab-0b2a-4599-9691-e0dca6b8ee51",
   "metadata": {},
   "source": [
    "```python\n",
    "try:\n",
    "    with open('nicht_existierende_datei.txt', 'r') as file:\n",
    "        content = file.read()\n",
    "except IOError as e:\n",
    "    print(f\"Ein IO-Fehler ist aufgetreten: {e}\")\n",
    "```\n",
    "\n",
    "In diesem Beispiel wird ein `IOError` ausgelöst, wenn die Datei nicht existiert, und die Ausnahme wird dann gefangen und behandelt."
   ]
  },
  {
   "cell_type": "markdown",
   "id": "4b6f7bf7-e4e4-4f94-9296-1ed2a8a130d1",
   "metadata": {
    "jp-MarkdownHeadingCollapsed": true
   },
   "source": [
    "# Karteikarten"
   ]
  },
  {
   "cell_type": "markdown",
   "id": "59a10f15-4688-4848-9ac6-0adbdb77ef75",
   "metadata": {},
   "source": [
    "### Wichtig für PCAP"
   ]
  },
  {
   "cell_type": "markdown",
   "id": "abca83ba-e4d2-44d4-83b3-83a8d43d8eb3",
   "metadata": {},
   "source": [
    "#### Karteikarte 1\n",
    "**Frage:** Was bedeutet `errno.EACCES`?  \n",
    "**Antwort:** `errno.EACCES` steht für **\"Access denied\"** / Zugriff verweigert. Der Fehler tritt auf, wenn man beispielsweise versucht, eine Datei mit dem Attribut \"nur lesen\" zum Schreiben zu öffnen.\n",
    "\n",
    "#### Karteikarte 2\n",
    "**Frage:** Was bedeutet `errno.EBADF`?  \n",
    "**Antwort:** `errno.EBADF` steht für **\"Bad file number\"** / ungültige Dateinummer. Der Fehler tritt auf, wenn man beispielsweise versucht, mit einem nicht geöffneten Stream zu arbeiten.\n",
    "\n",
    "#### Karteikarte 3\n",
    "**Frage:** Was bedeutet `errno.EEXIST`?  \n",
    "**Antwort:** `errno.EEXIST` steht für **\"File exists\"** / Datei existiert. Der Fehler tritt auf, wenn man beispielsweise versucht, eine Datei mit ihrem vorherigen Namen umzubenennen.\n",
    "\n",
    "#### Karteikarte 4\n",
    "**Frage:** Was bedeutet `errno.EFBIG`?  \n",
    "**Antwort:** `errno.EFBIG` steht für **\"File too large\"** / Datei zu groß. Der Fehler tritt auf, wenn man beispielsweise versucht, eine Datei zu erstellen, die größer ist als das vom Betriebssystem erlaubte Maximum.\n",
    "\n",
    "#### Karteikarte 5\n",
    "**Frage:** Was bedeutet `errno.EISDIR`?  \n",
    "**Antwort:** `errno.EISDIR` steht für **\"Is a directory\"** / Ist ein Verzeichnis. Der Fehler tritt auf, wenn man beispielsweise versucht, einen Verzeichnisnamen als den Namen einer normalen Datei zu behandeln.\n",
    "\n",
    "#### Karteikarte 6\n",
    "**Frage:** Was bedeutet `errno.EMFILE`?  \n",
    "**Antwort:** `errno.EMFILE` steht für **\"Too many open files\"** / zu viele offene Dateien. Der Fehler tritt auf, wenn man beispielsweise versucht, mehr Streams gleichzeitig zu öffnen, als vom Betriebssystem akzeptabel sind.\n",
    "\n",
    "#### Karteikarte 7\n",
    "**Frage:** Was bedeutet `errno.ENOENT`?  \n",
    "**Antwort:** `errno.ENOENT` steht für **\"No such file or directory\"** / keine solche Datei oder Verzeichnis. Der Fehler tritt auf, wenn man beispielsweise versucht, auf eine nicht existente Datei oder ein nicht existentes Verzeichnis zuzugreifen.\n",
    "\n",
    "#### Karteikarte 8\n",
    "**Frage:** Was bedeutet `errno.ENOSPC`?  \n",
    "**Antwort:** `errno.ENOSPC` steht für **\"No space left on device\"** / keinen Speicherplatz mehr auf dem Gerät. Der Fehler tritt auf, wenn man beispielsweise versucht, Daten zu speichern, aber kein freier Speicherplatz mehr vorhanden ist."
   ]
  },
  {
   "cell_type": "markdown",
   "id": "7c35dad8-1a1a-4c03-8ef0-af68574de384",
   "metadata": {},
   "source": [
    "### Vollständige Liste"
   ]
  },
  {
   "cell_type": "markdown",
   "id": "aafe2807-ab02-4b6b-b988-55c0b3e247b7",
   "metadata": {},
   "source": [
    "Die vollständige Liste wäre über 100 Punkte lang und varriert von System zu system. Es ist nicht Sinnvoll diese auswendig lernen zu wollen."
   ]
  },
  {
   "cell_type": "code",
   "execution_count": null,
   "id": "841374ea-1def-4c99-8c0c-3557b39b439d",
   "metadata": {},
   "outputs": [],
   "source": []
  }
 ],
 "metadata": {
  "kernelspec": {
   "display_name": "Python 3 (ipykernel)",
   "language": "python",
   "name": "python3"
  },
  "language_info": {
   "codemirror_mode": {
    "name": "ipython",
    "version": 3
   },
   "file_extension": ".py",
   "mimetype": "text/x-python",
   "name": "python",
   "nbconvert_exporter": "python",
   "pygments_lexer": "ipython3",
   "version": "3.12.4"
  }
 },
 "nbformat": 4,
 "nbformat_minor": 5
}
