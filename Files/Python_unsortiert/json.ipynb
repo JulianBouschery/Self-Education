{
 "cells": [
  {
   "cell_type": "markdown",
   "id": "5122d051-9339-4961-befc-c2d988120880",
   "metadata": {},
   "source": [
    "# json-Datei"
   ]
  },
  {
   "cell_type": "markdown",
   "id": "31895b8b-90b6-4190-8080-0f1d7d527683",
   "metadata": {},
   "source": [
    "\"Doppelte Anführungszeichen sind PFLICHT\""
   ]
  },
  {
   "cell_type": "code",
   "execution_count": null,
   "id": "f032b6b8-5728-4953-97db-765c09a1f7a5",
   "metadata": {},
   "outputs": [],
   "source": [
    "python_objekt = \"Hello World!\""
   ]
  },
  {
   "cell_type": "code",
   "execution_count": null,
   "id": "f99307f7-87e9-424d-bab3-e1cb600efcb4",
   "metadata": {},
   "outputs": [],
   "source": [
    "json.dumps(python_objekt) --> json_objekt"
   ]
  },
  {
   "cell_type": "code",
   "execution_count": null,
   "id": "0ac41485-a459-4a11-b92e-c5c53bb5edec",
   "metadata": {},
   "outputs": [],
   "source": [
    "import json\n",
    " \n",
    " \n",
    "class Who:\n",
    "    \n",
    "    def __init__(self, name, age):\n",
    "        self.name = name\n",
    "        self.age = age\n",
    " \n",
    " \n",
    "class MyEncoder(json.JSONEncoder):\n",
    "    \n",
    "    def default(self, w):\n",
    "        if isinstance(w, Who):\n",
    "            return w.__dict__\n",
    "        else:\n",
    "            return super().default(self, z)\n",
    " \n",
    " \n",
    "some_man = Who('John Doe', 42)\n",
    "print(json.dumps(some_man, cls=MyEncoder))"
   ]
  },
  {
   "cell_type": "code",
   "execution_count": null,
   "id": "f8236d49-909b-4787-999e-6667819b5b15",
   "metadata": {},
   "outputs": [],
   "source": [
    "json.loads(json_objekt) --> python_string"
   ]
  },
  {
   "cell_type": "markdown",
   "id": "fc28f787-d7e3-4c72-8100-66de3340743a",
   "metadata": {},
   "source": [
    "Für Python ist JSON-Code ein Stink normaler String. Aber in diesem String steht legaler JSON-Code, den man mit einer json-Methode auslesen kann."
   ]
  },
  {
   "cell_type": "code",
   "execution_count": null,
   "id": "cd15529a-4b9f-443d-8eb7-e5348e6ce8dd",
   "metadata": {},
   "outputs": [],
   "source": []
  }
 ],
 "metadata": {
  "kernelspec": {
   "display_name": "Python 3 (ipykernel)",
   "language": "python",
   "name": "python3"
  },
  "language_info": {
   "codemirror_mode": {
    "name": "ipython",
    "version": 3
   },
   "file_extension": ".py",
   "mimetype": "text/x-python",
   "name": "python",
   "nbconvert_exporter": "python",
   "pygments_lexer": "ipython3",
   "version": "3.12.4"
  }
 },
 "nbformat": 4,
 "nbformat_minor": 5
}
