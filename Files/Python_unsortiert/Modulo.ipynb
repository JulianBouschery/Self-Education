{
 "cells": [
  {
   "cell_type": "markdown",
   "id": "649370cf-8c3d-41a0-ac3f-fb2fd18c987b",
   "metadata": {},
   "source": [
    "[Zurück zum Inhaltsverzeichnis](_Inhaltsverzeichnis_.ipynb)"
   ]
  },
  {
   "cell_type": "markdown",
   "id": "3abd956c-512f-4f3d-aa1b-b8658f8d0388",
   "metadata": {},
   "source": [
    "# Modulo"
   ]
  },
  {
   "cell_type": "markdown",
   "id": "abe76839-d483-4348-9e32-3173172e9d0c",
   "metadata": {
    "jp-MarkdownHeadingCollapsed": true
   },
   "source": [
    "## Remainder/ Rest beim Teilen bzw. Modulo"
   ]
  },
  {
   "cell_type": "markdown",
   "id": "3d599c27-7d25-48f1-bcfe-7055c35e60b1",
   "metadata": {},
   "source": [
    "Das Zeichen ist `%`\n",
    "\n",
    "Zahl1%Zahl2 => Wenn ich Zahl1 durch Zahl2 teile, welchen Rest habe ich."
   ]
  },
  {
   "cell_type": "code",
   "execution_count": 80,
   "id": "dde7903d-3d2e-4096-a8b9-a6bbea38eff4",
   "metadata": {
    "tags": []
   },
   "outputs": [
    {
     "data": {
      "text/plain": [
       "1"
      ]
     },
     "execution_count": 80,
     "metadata": {},
     "output_type": "execute_result"
    }
   ],
   "source": [
    "3%2"
   ]
  },
  {
   "cell_type": "code",
   "execution_count": 70,
   "id": "d4bacd19-c7f0-459a-8260-fee056b28f01",
   "metadata": {
    "tags": []
   },
   "outputs": [
    {
     "data": {
      "text/plain": [
       "2.5"
      ]
     },
     "execution_count": 70,
     "metadata": {},
     "output_type": "execute_result"
    }
   ],
   "source": [
    "5/2"
   ]
  },
  {
   "cell_type": "code",
   "execution_count": 71,
   "id": "77ea305a-207b-4843-8d31-e8d65b197e2c",
   "metadata": {
    "tags": []
   },
   "outputs": [
    {
     "data": {
      "text/plain": [
       "2"
      ]
     },
     "execution_count": 71,
     "metadata": {},
     "output_type": "execute_result"
    }
   ],
   "source": [
    "5//2 # beides int => ergebnis int\n"
   ]
  },
  {
   "cell_type": "code",
   "execution_count": 72,
   "id": "d89c6440-d949-4c3c-9f28-362c141bf241",
   "metadata": {
    "tags": []
   },
   "outputs": [
    {
     "data": {
      "text/plain": [
       "2.0"
      ]
     },
     "execution_count": 72,
     "metadata": {},
     "output_type": "execute_result"
    }
   ],
   "source": [
    "5.//2 # eines ist float => ergebnis float\n"
   ]
  },
  {
   "cell_type": "code",
   "execution_count": 73,
   "id": "9d7171d7-1b0e-42ea-b04f-b9ecbc991a52",
   "metadata": {
    "tags": []
   },
   "outputs": [
    {
     "data": {
      "text/plain": [
       "3"
      ]
     },
     "execution_count": 73,
     "metadata": {},
     "output_type": "execute_result"
    }
   ],
   "source": [
    "7//2"
   ]
  },
  {
   "cell_type": "markdown",
   "id": "0a54ca7a-e44f-49c6-8657-9775fd31507d",
   "metadata": {},
   "source": [
    "Jetzt wissen wir, dass die 2 drei mal in die sieben passt.   \n",
    "Aber wir wissen nicht ob es noch einen Rest gibt und wie groß der ist"
   ]
  },
  {
   "cell_type": "code",
   "execution_count": 74,
   "id": "b295c299-4f1d-4469-a6ca-1e8bac4def8c",
   "metadata": {
    "tags": []
   },
   "outputs": [
    {
     "data": {
      "text/plain": [
       "1"
      ]
     },
     "execution_count": 74,
     "metadata": {},
     "output_type": "execute_result"
    }
   ],
   "source": [
    "7%2"
   ]
  },
  {
   "cell_type": "code",
   "execution_count": 75,
   "id": "6305b928-7a07-4acf-a247-095e36743a07",
   "metadata": {
    "tags": []
   },
   "outputs": [
    {
     "data": {
      "text/plain": [
       "3"
      ]
     },
     "execution_count": 75,
     "metadata": {},
     "output_type": "execute_result"
    }
   ],
   "source": [
    "13%5"
   ]
  },
  {
   "cell_type": "code",
   "execution_count": 77,
   "id": "48c3b0fb-20b2-485a-b47d-e67d01f9f353",
   "metadata": {
    "tags": []
   },
   "outputs": [
    {
     "data": {
      "text/plain": [
       "10"
      ]
     },
     "execution_count": 77,
     "metadata": {},
     "output_type": "execute_result"
    }
   ],
   "source": [
    "13//5  *5"
   ]
  },
  {
   "cell_type": "code",
   "execution_count": 78,
   "id": "bd1c03df-7940-47f0-b9df-9323d76cb957",
   "metadata": {
    "tags": []
   },
   "outputs": [
    {
     "data": {
      "text/plain": [
       "13"
      ]
     },
     "execution_count": 78,
     "metadata": {},
     "output_type": "execute_result"
    }
   ],
   "source": [
    "13//5  *5 +   13%5"
   ]
  },
  {
   "cell_type": "markdown",
   "id": "26011bd7-9e6a-46c3-a4ad-9a8fee9cb29a",
   "metadata": {
    "jp-MarkdownHeadingCollapsed": true
   },
   "source": [
    "## Modulo "
   ]
  },
  {
   "cell_type": "markdown",
   "id": "41fa20b4-77c9-4ec4-9acc-2bc1af0a6e9b",
   "metadata": {},
   "source": [
    "- Was passiert? (Funktion erklären)\n",
    "- Was ist das? (Definition formulieren)\n",
    "- Warum / Wie funktioniert das? (Hintergründe und Details)\n",
    "  All, das Hand von sehr vielen Beispielen erklären"
   ]
  },
  {
   "cell_type": "markdown",
   "id": "042a7011-7e9a-4466-b45c-c11122192f58",
   "metadata": {},
   "source": [
    "Modulo ist ein Operation (wie +-*/) und hat das %-Zeichen als Operator.\n",
    "\n",
    "Syntax:\n",
    "```pyton\n",
    "x = 7 \n",
    "y = 6 \n",
    "\n",
    "x % y\n",
    "```\n",
    "Das Ergebnis der Gleichung ist der `remainder`.\n",
    "\n",
    "Wenn man 7/6 teilt, dann passt die 6 ein Mal in die 7 und 1 bleibt übrig.\n",
    "\n",
    "Statt die 1 auf die Nachkommastellen aufzuteilen, ist ein das Ergebnis der gleichung. "
   ]
  },
  {
   "cell_type": "markdown",
   "id": "1f67e382-15b2-4f4f-949c-be90284ad0a5",
   "metadata": {},
   "source": [
    "Überprüfung:"
   ]
  },
  {
   "cell_type": "code",
   "execution_count": 6,
   "id": "541922ac-eb0c-445f-8e25-6782ce7b530a",
   "metadata": {},
   "outputs": [
    {
     "data": {
      "text/plain": [
       "1"
      ]
     },
     "execution_count": 6,
     "metadata": {},
     "output_type": "execute_result"
    }
   ],
   "source": [
    "7%6"
   ]
  },
  {
   "cell_type": "markdown",
   "id": "4b0ea1ad-c10b-46f9-ae61-c1c938626f26",
   "metadata": {
    "jp-MarkdownHeadingCollapsed": true
   },
   "source": [
    "### Beispiele zu Modulo:"
   ]
  },
  {
   "cell_type": "code",
   "execution_count": 26,
   "id": "64a9e25d-ae7b-492c-bdf8-3ef403fe4e76",
   "metadata": {},
   "outputs": [
    {
     "data": {
      "text/plain": [
       "1"
      ]
     },
     "execution_count": 26,
     "metadata": {},
     "output_type": "execute_result"
    }
   ],
   "source": [
    "Num = 17\n",
    "num % 2"
   ]
  },
  {
   "cell_type": "code",
   "execution_count": 27,
   "id": "c0405f7a-d8b0-4965-9f22-9f0309a9234c",
   "metadata": {},
   "outputs": [
    {
     "data": {
      "text/plain": [
       "True"
      ]
     },
     "execution_count": 27,
     "metadata": {},
     "output_type": "execute_result"
    }
   ],
   "source": [
    "bool(num % 2)"
   ]
  },
  {
   "cell_type": "code",
   "execution_count": 33,
   "id": "bdf34fc0-bda1-432b-b3d0-89be8885752c",
   "metadata": {},
   "outputs": [
    {
     "name": "stdout",
     "output_type": "stream",
     "text": [
      "gerade\n"
     ]
    }
   ],
   "source": [
    "num = 10\n",
    "x = \"ungerade\" if num % 2 == 1 else \"gerade\"\n",
    "print(x)"
   ]
  },
  {
   "cell_type": "code",
   "execution_count": 79,
   "id": "ec3e2de7-318e-4c1f-92f8-2333c0befd4e",
   "metadata": {
    "tags": []
   },
   "outputs": [
    {
     "data": {
      "text/plain": [
       "3"
      ]
     },
     "execution_count": 79,
     "metadata": {},
     "output_type": "execute_result"
    }
   ],
   "source": [
    "zahl = 55\n",
    "\n",
    "if PRÜFE ZAHL IST GERADE:\n",
    "    print(\"Zahl ist gerade\")"
   ]
  },
  {
   "cell_type": "code",
   "execution_count": 81,
   "id": "f817df8d-2f07-4820-8384-71753119b51d",
   "metadata": {
    "tags": []
   },
   "outputs": [
    {
     "data": {
      "text/plain": [
       "1"
      ]
     },
     "execution_count": 81,
     "metadata": {},
     "output_type": "execute_result"
    }
   ],
   "source": [
    "55%2"
   ]
  },
  {
   "cell_type": "markdown",
   "id": "aaf68b72-27b8-4be2-8221-1410cd5d10df",
   "metadata": {},
   "source": [
    "Zahl%2 \n",
    "\n",
    "=> kann nur entweder 0 oder 1 sein. \n",
    "\n",
    "- 0 => die zwei passt genau in die Zahl rein => Zahl ist GERADE\n",
    "- 1 => die zwei passt nicht genau in die Zahl, => Zahl ist UNgerade"
   ]
  },
  {
   "cell_type": "code",
   "execution_count": null,
   "id": "7fb49c22-9bad-40a7-a76e-a242f2949657",
   "metadata": {},
   "outputs": [],
   "source": [
    "zahl = 12197356896193\n",
    "zahl%6 => 0,1,2,3,4,5 # 7 "
   ]
  },
  {
   "cell_type": "code",
   "execution_count": 87,
   "id": "d0eeeb7e-f10b-4a60-a772-6b4acb670648",
   "metadata": {
    "tags": []
   },
   "outputs": [
    {
     "name": "stdout",
     "output_type": "stream",
     "text": [
      "0 ist durch 6 teilbar\n",
      "6 ist durch 6 teilbar\n",
      "12 ist durch 6 teilbar\n",
      "18 ist durch 6 teilbar\n"
     ]
    }
   ],
   "source": [
    "for i in range(19):\n",
    "    #print(i, i%6)\n",
    "    if i%6==0:# Das geht später sogar leichter aber jetzt nutzen wir diese Syntax\n",
    "        print(i, \"ist durch 6 teilbar\")"
   ]
  },
  {
   "cell_type": "code",
   "execution_count": 89,
   "id": "3b223b65-e756-4a2d-bca8-f0ef25c145cb",
   "metadata": {
    "tags": []
   },
   "outputs": [
    {
     "data": {
      "text/plain": [
       "True"
      ]
     },
     "execution_count": 89,
     "metadata": {},
     "output_type": "execute_result"
    }
   ],
   "source": [
    "12%6 == 0"
   ]
  },
  {
   "cell_type": "code",
   "execution_count": null,
   "id": "ec90c30c-2021-43f7-ac0e-5b28a438d8b8",
   "metadata": {
    "tags": []
   },
   "outputs": [],
   "source": [
    "if 13%6 == 0:\n",
    "    print(13, \"ist durch 6 teilbar\")"
   ]
  },
  {
   "cell_type": "markdown",
   "id": "cfbe0c67-d170-4073-bb56-776b986ed46b",
   "metadata": {},
   "source": [
    "Anwendung Modulo Frage an euch. Ich habe eine lange Zahl und will nur die letzten 5 Ziffern auslesen"
   ]
  },
  {
   "cell_type": "code",
   "execution_count": 113,
   "id": "3eb4f542-74b8-4f58-b947-f2bad3c0392d",
   "metadata": {
    "tags": []
   },
   "outputs": [
    {
     "name": "stdout",
     "output_type": "stream",
     "text": [
      "9\n"
     ]
    }
   ],
   "source": [
    "zahl = 2919\n",
    "letzte_ziffer = zahl%10\n",
    "print(letzte_ziffer)"
   ]
  },
  {
   "cell_type": "code",
   "execution_count": 115,
   "id": "00eb629e-ce11-48f0-bf12-a1a0374cd031",
   "metadata": {
    "tags": []
   },
   "outputs": [
    {
     "name": "stdout",
     "output_type": "stream",
     "text": [
      "919\n"
     ]
    }
   ],
   "source": [
    "zahl = 2000+ 919\n",
    "letzte_3_ziffern = zahl%1000\n",
    "print(letzte_3_ziffern)"
   ]
  },
  {
   "cell_type": "markdown",
   "id": "95a29257-d64e-4959-b83c-dcd578741aa8",
   "metadata": {},
   "source": [
    "Die letzten x Ziffern sind Zahl%10\\**x"
   ]
  },
  {
   "cell_type": "code",
   "execution_count": 118,
   "id": "33aa5c8e-2a83-492f-b2e3-64570583ef86",
   "metadata": {
    "tags": []
   },
   "outputs": [
    {
     "name": "stdout",
     "output_type": "stream",
     "text": [
      "23981\n"
     ]
    }
   ],
   "source": [
    "lange_zahl=12127190834690618936189623981\n",
    "letzen_5_ziffer = lange_zahl%10**5\n",
    "print(letzen_5_ziffer)"
   ]
  },
  {
   "cell_type": "markdown",
   "id": "f947d661-23f7-4aad-836a-7b9abd0f6925",
   "metadata": {
    "jp-MarkdownHeadingCollapsed": true
   },
   "source": [
    "## Übungsaufgaben Modulo:"
   ]
  },
  {
   "cell_type": "code",
   "execution_count": 17,
   "id": "c88833ac-35b4-47e6-9ef0-7d9412a2ccce",
   "metadata": {},
   "outputs": [
    {
     "ename": "ZeroDivisionError",
     "evalue": "integer modulo by zero",
     "output_type": "error",
     "traceback": [
      "\u001b[1;31m---------------------------------------------------------------------------\u001b[0m",
      "\u001b[1;31mZeroDivisionError\u001b[0m                         Traceback (most recent call last)",
      "Cell \u001b[1;32mIn[17], line 1\u001b[0m\n\u001b[1;32m----> 1\u001b[0m \u001b[38;5;241;43m4\u001b[39;49m\u001b[38;5;241;43m%\u001b[39;49m\u001b[38;5;241;43m0\u001b[39;49m\n",
      "\u001b[1;31mZeroDivisionError\u001b[0m: integer modulo by zero"
     ]
    }
   ],
   "source": [
    "4%0"
   ]
  },
  {
   "cell_type": "markdown",
   "id": "581306ee-77ac-47a0-8419-a2b6f7ce15ee",
   "metadata": {},
   "source": [
    "Modulo ist wie teilen, man DARF NICHT durch Null teilen!!!"
   ]
  },
  {
   "cell_type": "code",
   "execution_count": 18,
   "id": "aa64dd70-4575-4bf8-b72e-c77749684cf3",
   "metadata": {},
   "outputs": [
    {
     "data": {
      "text/plain": [
       "0"
      ]
     },
     "execution_count": 18,
     "metadata": {},
     "output_type": "execute_result"
    }
   ],
   "source": [
    "1//2"
   ]
  },
  {
   "cell_type": "markdown",
   "id": "2fd4df44-4769-4d54-9f9a-77a17b2029fd",
   "metadata": {},
   "source": [
    "Bei `//` wird IMMER zur nächsten Ganzen Zahl gerundet und die Gerade Zahl wird bevorzugt!!!"
   ]
  },
  {
   "cell_type": "code",
   "execution_count": 33,
   "id": "78d993c3-74a1-4023-8077-438a479d7105",
   "metadata": {},
   "outputs": [
    {
     "data": {
      "text/plain": [
       "2.5"
      ]
     },
     "execution_count": 33,
     "metadata": {},
     "output_type": "execute_result"
    }
   ],
   "source": [
    "5/2"
   ]
  },
  {
   "cell_type": "code",
   "execution_count": 34,
   "id": "8eaf8814-3606-44d7-af13-68eb000466bc",
   "metadata": {},
   "outputs": [
    {
     "data": {
      "text/plain": [
       "2"
      ]
     },
     "execution_count": 34,
     "metadata": {},
     "output_type": "execute_result"
    }
   ],
   "source": [
    "5//2"
   ]
  },
  {
   "cell_type": "code",
   "execution_count": 19,
   "id": "724a609d-9bfc-4abe-9932-b9037d28b679",
   "metadata": {},
   "outputs": [
    {
     "data": {
      "text/plain": [
       "3"
      ]
     },
     "execution_count": 19,
     "metadata": {},
     "output_type": "execute_result"
    }
   ],
   "source": [
    "3%4"
   ]
  },
  {
   "cell_type": "markdown",
   "id": "26c3b932-70b2-4506-af12-c26ab88c6938",
   "metadata": {},
   "source": [
    "### "
   ]
  },
  {
   "cell_type": "code",
   "execution_count": 20,
   "id": "c9b51db0-624e-46f2-8c0e-6f0766f0f327",
   "metadata": {},
   "outputs": [
    {
     "data": {
      "text/plain": [
       "1"
      ]
     },
     "execution_count": 20,
     "metadata": {},
     "output_type": "execute_result"
    }
   ],
   "source": [
    "4%3"
   ]
  },
  {
   "cell_type": "code",
   "execution_count": 21,
   "id": "f61679f4-b003-4e3a-b33d-47a15339167c",
   "metadata": {},
   "outputs": [
    {
     "data": {
      "text/plain": [
       "0"
      ]
     },
     "execution_count": 21,
     "metadata": {},
     "output_type": "execute_result"
    }
   ],
   "source": [
    "4%1"
   ]
  },
  {
   "cell_type": "code",
   "execution_count": 36,
   "id": "0d892e6c-a619-4eab-9974-130154eb3f5b",
   "metadata": {},
   "outputs": [
    {
     "name": "stdout",
     "output_type": "stream",
     "text": [
      "1\n"
     ]
    }
   ],
   "source": [
    "x = 18\n",
    "y = 7\n",
    "\n",
    "x = x % y\n",
    "y = y % x \n",
    "x = x % y\n",
    "\n",
    "print(x)"
   ]
  },
  {
   "cell_type": "code",
   "execution_count": 37,
   "id": "ce3633c1-5d41-4505-9473-ea13be8a1653",
   "metadata": {},
   "outputs": [
    {
     "data": {
      "text/plain": [
       "17.5"
      ]
     },
     "execution_count": 37,
     "metadata": {},
     "output_type": "execute_result"
    }
   ],
   "source": [
    "x = 1/ 2+ 3 //3 +4**2\n",
    "x"
   ]
  }
 ],
 "metadata": {
  "kernelspec": {
   "display_name": "Python 3 (ipykernel)",
   "language": "python",
   "name": "python3"
  },
  "language_info": {
   "codemirror_mode": {
    "name": "ipython",
    "version": 3
   },
   "file_extension": ".py",
   "mimetype": "text/x-python",
   "name": "python",
   "nbconvert_exporter": "python",
   "pygments_lexer": "ipython3",
   "version": "3.12.3"
  }
 },
 "nbformat": 4,
 "nbformat_minor": 5
}
