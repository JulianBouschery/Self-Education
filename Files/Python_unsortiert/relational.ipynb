{
 "cells": [
  {
   "cell_type": "markdown",
   "id": "e3a7ea3b-67e8-47c8-983a-654a258db785",
   "metadata": {},
   "source": [
    "# Definition: relationale Datenbank"
   ]
  },
  {
   "cell_type": "markdown",
   "id": "ae0e04de-3b01-40c5-9944-6e3850662d63",
   "metadata": {},
   "source": [
    "Relational bezieht sich auf das relationale Datenbankmodell, das von Edgar F. Codd in den 1970er Jahren entwickelt wurde. In diesem Modell werden Daten in Tabellen gespeichert, die aus Zeilen und Spalten bestehen. Jede Tabelle stellt eine Relation dar, und jede Zeile in einer Tabelle stellt ein Tupel dieser Relation dar. Die Spalten der Tabelle repräsentieren die Attribute der Relation.\n",
    "\n",
    "Wichtige Merkmale relationaler Datenbanken:\n",
    "\n",
    "Tabellenstruktur: Daten werden in Tabellen organisiert.\n",
    "Primärschlüssel: Ein Attribut oder eine Kombination von Attributen, das jede Zeile in einer Tabelle eindeutig identifiziert.\n",
    "Fremdschlüssel: Ein Attribut oder eine Kombination von Attributen in einer Tabelle, das auf den Primärschlüssel einer anderen Tabelle verweist und somit Beziehungen zwischen den Tabellen herstellt.\n",
    "SQL: Strukturierte Abfragesprache, die verwendet wird, um Daten in einer relationalen Datenbank zu erstellen, zu lesen, zu aktualisieren und zu löschen (CRUD-Operationen)."
   ]
  },
  {
   "cell_type": "code",
   "execution_count": null,
   "id": "ab2d54c8-f935-4e56-a960-988cd3889db2",
   "metadata": {},
   "outputs": [],
   "source": []
  }
 ],
 "metadata": {
  "kernelspec": {
   "display_name": "Python 3 (ipykernel)",
   "language": "python",
   "name": "python3"
  },
  "language_info": {
   "codemirror_mode": {
    "name": "ipython",
    "version": 3
   },
   "file_extension": ".py",
   "mimetype": "text/x-python",
   "name": "python",
   "nbconvert_exporter": "python",
   "pygments_lexer": "ipython3",
   "version": "3.12.4"
  }
 },
 "nbformat": 4,
 "nbformat_minor": 5
}
