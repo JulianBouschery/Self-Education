{
 "cells": [
  {
   "cell_type": "markdown",
   "id": "3f34a778-04da-42da-8264-d4d04bc951c5",
   "metadata": {},
   "source": [
    "# Python Standard Libiary"
   ]
  },
  {
   "cell_type": "markdown",
   "id": "000ee7f6-72f0-41f0-9001-84d2aad246fe",
   "metadata": {},
   "source": [
    "Nein keine Sorge ich bin nicht so verrückt, dass ich wirklich versuche, die gesammte Libiary von Python hier abzubilden..."
   ]
  },
  {
   "cell_type": "markdown",
   "id": "58b16693-5f11-4afa-a446-21f99112b2df",
   "metadata": {},
   "source": [
    "Es wäre weder besonders Sinnvoll, noch Zeilführend ein eigenes Notebook für jede einzelne Funktion und Methode in Python zu erstellen."
   ]
  },
  {
   "cell_type": "markdown",
   "id": "f3868361-8b6c-400d-9731-26c382c795f9",
   "metadata": {},
   "source": [
    "Für alles was nicht Prüfungsrelevant ist, oder, dass nicht wichtig genug ist, um einen Eintrag in diese Sammlung zu erhalten, benutze bitte:\n",
    "\n",
    "1. Eine KI deiner Wahl\n",
    "2. Die [Python documentation (kurz Docs)](https://docs.python.org/3/) bzw. die [Python Standard Libiary](https://docs.python.org/3/library/index.html)"
   ]
  },
  {
   "cell_type": "markdown",
   "id": "8a9ae091-cb2d-4d1c-80a8-178bf8bde3af",
   "metadata": {},
   "source": [
    "Und ein paar Tipps, wie man sie am besten benutzt."
   ]
  },
  {
   "cell_type": "markdown",
   "id": "323e42f7-5d9c-436e-9223-c92ea58ed6f1",
   "metadata": {},
   "source": [
    "Du kannst eine KI wie ein \"intelligentes\" Inhaltsverzeichnis nutzen um die Informationen die du brauchst schneller zu finden und auf die Richtige spur zu kommen"
   ]
  },
  {
   "cell_type": "markdown",
   "id": "0568bb2a-c30f-4898-9e4a-46476eaee5ad",
   "metadata": {},
   "source": [
    "Wenn die KI jedoch Blödsinn ausspuckt, muss man selbst ran und Untrerschiedeliche Quellen durchsuchen um eine Lösung für das Problem zu finden."
   ]
  },
  {
   "cell_type": "markdown",
   "id": "e25828ee-eb13-4165-b244-f999b9fadbe5",
   "metadata": {},
   "source": [
    "Die erste Anlaufstelle sollten dann die Python docs sein.\n",
    "\n",
    "Auf den ersten Blick erschlägt einen die Masse an informationen, doch je länger man sihc damit befasst, desto besser findet man sich in der Struktur zurecht und desto einfacher wird es die gewünschten informationen zu finden. "
   ]
  },
  {
   "cell_type": "markdown",
   "id": "8c9388d7-e0f8-41a5-8c13-32e925a80fc9",
   "metadata": {},
   "source": [
    "### Ein kurzer Kommentar von ChatGPT dazu was ein Programmierer alles können solte und was nicht:"
   ]
  },
  {
   "cell_type": "markdown",
   "id": "ea41a436-b32b-45f9-b048-39f422f6910f",
   "metadata": {},
   "source": [
    "Die Grenze zwischen dem, was ein Programmierer aus dem Gedächtnis wissen sollte, und dem, wo er weiß, wo er es nachschlagen kann, ist nicht immer klar definiert und kann je nach Kontext variieren. Hier sind einige allgemeine Richtlinien:\n",
    "\n",
    "**Grundlegende Konzepte und Syntax:** \n",
    "Ein Programmierer sollte grundlegende Konzepte und Syntaxelemente der Programmiersprache(n), mit denen er arbeitet, aus dem Gedächtnis beherrschen. Dazu gehören Konzepte wie Variablen, Schleifen, Bedingungen, Funktionen, Datentypen usw. Diese sind fundamental für die Programmierung und sollten vertraut sein, um effizienten Code schreiben zu können.\n",
    "\n",
    "**Häufig verwendete Bibliotheken und Frameworks:** Programmierer sollten sich mit den häufig verwendeten Bibliotheken und Frameworks in ihrem Arbeitsbereich vertraut machen. Das bedeutet, dass sie wissen sollten, wie sie diese Bibliotheken einsetzen, um gängige Probleme zu lösen. Dies kann die Verarbeitung von Daten, die Erstellung von Benutzeroberflächen, die Verwaltung von Netzwerkkommunikation und vieles mehr umfassen.\n",
    "\n",
    "**Spezifische Details und APIs:** Es ist nicht notwendig, sich alle Details und APIs von Bibliotheken auswendig zu merken. Stattdessen ist es wichtiger zu wissen, wie man effektiv die Dokumentation und Ressourcen nachschlägt, um die benötigten Informationen zu finden, wenn sie benötigt werden. Dies beinhaltet das Verständnis der offiziellen Dokumentation, das Lesen von Tutorials, das Durchsuchen von Foren und das Konsultieren von anderen Entwicklern.\n",
    "\n",
    "**Problemlösungsfähigkeiten:** Ein Programmierer sollte in der Lage sein, Probleme zu analysieren und effektive Lösungen zu entwerfen. Dies erfordert oft kreatives Denken, Experimentieren und die Fähigkeit, verschiedene Ansätze zu bewerten. Es ist weniger wichtig, sich spezifische Implementierungsdetails zu merken, als vielmehr zu wissen, wie man sie systematisch angeht und löst.\n",
    "\n",
    "Insgesamt ist es wichtig, ein Gleichgewicht zu finden zwischen dem, was man auswendig lernt, und dem, wo man auf Ressourcen zugreifen kann, um Informationen zu finden. Die Fähigkeit, effektiv nachzuschlagen und zu recherchieren, ist genauso wichtig wie das Beherrschen grundlegender Konzepte, da Technologie sich ständig weiterentwickelt und niemand alles wissen kann."
   ]
  },
  {
   "cell_type": "code",
   "execution_count": null,
   "id": "664b704b-4c08-4a57-a052-9e53048b5a74",
   "metadata": {},
   "outputs": [],
   "source": []
  },
  {
   "cell_type": "code",
   "execution_count": null,
   "id": "391397af-c143-47d2-b3a0-4d187a9b121b",
   "metadata": {},
   "outputs": [],
   "source": []
  }
 ],
 "metadata": {
  "kernelspec": {
   "display_name": "Python 3 (ipykernel)",
   "language": "python",
   "name": "python3"
  },
  "language_info": {
   "codemirror_mode": {
    "name": "ipython",
    "version": 3
   },
   "file_extension": ".py",
   "mimetype": "text/x-python",
   "name": "python",
   "nbconvert_exporter": "python",
   "pygments_lexer": "ipython3",
   "version": "3.12.3"
  }
 },
 "nbformat": 4,
 "nbformat_minor": 5
}
