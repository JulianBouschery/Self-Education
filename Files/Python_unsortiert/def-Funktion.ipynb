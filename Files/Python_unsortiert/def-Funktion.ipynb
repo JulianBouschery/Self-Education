{
 "cells": [
  {
   "cell_type": "markdown",
   "id": "48818d65-4c7d-496e-99a8-f1e47e4a114d",
   "metadata": {},
   "source": [
    "### def-Funktion"
   ]
  },
  {
   "cell_type": "markdown",
   "id": "bfced2a9-9520-4efc-b07e-d2d39887d32c",
   "metadata": {},
   "source": [
    "- Was passiert? (Funktion erklären)\n",
    "- Was ist das? (Definition formulieren)\n",
    "- Warum / Wie funktioniert das? (Hintergründe und Details) All, das Hand von sehr vielen Beispielen erklären"
   ]
  },
  {
   "cell_type": "markdown",
   "id": "a9c25b11-ba5c-409f-80fe-bd0db771dbff",
   "metadata": {},
   "source": [
    "Mit dem Keyword `def` kann man eigene Funktionen in Python erstellen.\n",
    "```python\n",
    "def function():\n",
    "    Funktionskörper\n",
    "```\n",
    "Sobald die Funktion aufgerufen wird, führt sie den in ihr definierten Code aus."
   ]
  },
  {
   "cell_type": "markdown",
   "id": "18bd2254-ff42-40c0-9d2a-e76575c07e1f",
   "metadata": {},
   "source": [
    "Eine eigene Funktion kann sowohl mit als auch ohne Parameter geschrieben werden."
   ]
  },
  {
   "cell_type": "markdown",
   "id": "613ecdbf-52c5-470e-8f4c-b57a295bee70",
   "metadata": {},
   "source": [
    "Beispiel:"
   ]
  },
  {
   "cell_type": "code",
   "execution_count": 64,
   "id": "08133ff3-10c5-4047-bb47-c210f41f8715",
   "metadata": {},
   "outputs": [],
   "source": [
    "def my_function(): # Funktion ohne Parameter\n",
    "    print(\"Hello, World!\") "
   ]
  },
  {
   "cell_type": "code",
   "execution_count": 65,
   "id": "efdf0c54-3187-4584-9b8f-edc203e10ce5",
   "metadata": {},
   "outputs": [
    {
     "name": "stdout",
     "output_type": "stream",
     "text": [
      "Hello, World!\n"
     ]
    }
   ],
   "source": [
    "my_function()"
   ]
  },
  {
   "cell_type": "code",
   "execution_count": 70,
   "id": "07a8ae8d-da10-411e-8804-e2babb6ddc2b",
   "metadata": {},
   "outputs": [],
   "source": [
    "def my_function1(variable): # Funktion mit Parameter\n",
    "    print(variable)"
   ]
  },
  {
   "cell_type": "code",
   "execution_count": 71,
   "id": "c046fa47-f1bc-48c6-8f4c-2b4a93bd2436",
   "metadata": {},
   "outputs": [
    {
     "ename": "NameError",
     "evalue": "name 'variable' is not defined",
     "output_type": "error",
     "traceback": [
      "\u001b[1;31m---------------------------------------------------------------------------\u001b[0m",
      "\u001b[1;31mNameError\u001b[0m                                 Traceback (most recent call last)",
      "Cell \u001b[1;32mIn[71], line 1\u001b[0m\n\u001b[1;32m----> 1\u001b[0m \u001b[38;5;28mprint\u001b[39m(\u001b[43mvariable\u001b[49m)\n",
      "\u001b[1;31mNameError\u001b[0m: name 'variable' is not defined"
     ]
    }
   ],
   "source": [
    "print(variable)"
   ]
  },
  {
   "cell_type": "markdown",
   "id": "3353e30e-9426-4b05-b275-d02b165ed6de",
   "metadata": {},
   "source": [
    "\"variable\" existiert NUR INNERHALB der Funktion."
   ]
  },
  {
   "cell_type": "code",
   "execution_count": 73,
   "id": "5c0a3c19-c338-4ef3-a3c3-605547cce778",
   "metadata": {},
   "outputs": [],
   "source": [
    "def test(a,b,c):\n",
    "    print(a,b,c)"
   ]
  },
  {
   "cell_type": "code",
   "execution_count": 74,
   "id": "feefa2c9-4f36-4752-8ad2-b07ca4b0fccf",
   "metadata": {},
   "outputs": [
    {
     "name": "stdout",
     "output_type": "stream",
     "text": [
      "1 2 3\n"
     ]
    }
   ],
   "source": [
    "test(1,2,3)"
   ]
  },
  {
   "cell_type": "code",
   "execution_count": 1,
   "id": "f2d08519-5280-4fee-9bf4-9383ce25de1d",
   "metadata": {},
   "outputs": [
    {
     "ename": "NameError",
     "evalue": "name 'test' is not defined",
     "output_type": "error",
     "traceback": [
      "\u001b[1;31m---------------------------------------------------------------------------\u001b[0m",
      "\u001b[1;31mNameError\u001b[0m                                 Traceback (most recent call last)",
      "Cell \u001b[1;32mIn[1], line 1\u001b[0m\n\u001b[1;32m----> 1\u001b[0m \u001b[43mtest\u001b[49m(\u001b[38;5;241m1\u001b[39m,\u001b[38;5;241m2\u001b[39m,\u001b[38;5;241m3\u001b[39m,\u001b[38;5;241m4\u001b[39m)\n\u001b[0;32m      2\u001b[0m test(\u001b[38;5;241m1\u001b[39m,\u001b[38;5;241m2\u001b[39m,)\n",
      "\u001b[1;31mNameError\u001b[0m: name 'test' is not defined"
     ]
    }
   ],
   "source": [
    "test(1,2,3,4)\n",
    "test(1,2,)"
   ]
  },
  {
   "cell_type": "markdown",
   "id": "80e21316-cd68-44f3-962d-33d54420621d",
   "metadata": {},
   "source": [
    "Je nachdem wie viele Argumente man der Funktion bei ihrer Definition zuweist, muss man beim Aufrufen der Funktion (Invocation) auch angeben, sonst entsteht ein Error."
   ]
  }
 ],
 "metadata": {
  "kernelspec": {
   "display_name": "Python 3 (ipykernel)",
   "language": "python",
   "name": "python3"
  },
  "language_info": {
   "codemirror_mode": {
    "name": "ipython",
    "version": 3
   },
   "file_extension": ".py",
   "mimetype": "text/x-python",
   "name": "python",
   "nbconvert_exporter": "python",
   "pygments_lexer": "ipython3",
   "version": "3.12.3"
  }
 },
 "nbformat": 4,
 "nbformat_minor": 5
}
