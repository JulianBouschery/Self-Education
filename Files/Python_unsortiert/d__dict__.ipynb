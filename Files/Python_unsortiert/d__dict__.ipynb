{
 "cells": [
  {
   "cell_type": "markdown",
   "id": "c6a80468-d572-4ae6-8b36-bd7180ce4dc0",
   "metadata": {},
   "source": [
    "# `__dict__`"
   ]
  },
  {
   "cell_type": "markdown",
   "id": "a567324d-c49a-42b8-b13a-b3df16a2555f",
   "metadata": {},
   "source": [
    "In Python ist `__dict__` ein eingebautes Attribut, das den Namensraum eines Objekts speichert. Genauer gesagt ist es ein Wörterbuch oder Mapping-Objekt, das die beschreibbaren Attribute eines Objekts enthält. Dies gilt sowohl für Instanzen von Klassen als auch für die Klassen selbst."
   ]
  },
  {
   "cell_type": "markdown",
   "id": "4c2ba9b7-ddd5-4cfa-8284-9db6d0e54721",
   "metadata": {},
   "source": [
    "Syntax:\n",
    "\n",
    "`Instanz` / `Klasse` `.` `__dict__`"
   ]
  },
  {
   "cell_type": "markdown",
   "id": "0a80a955-f088-4777-9cef-a7d0e57b167f",
   "metadata": {},
   "source": [
    "## Detailierte Erklärung"
   ]
  },
  {
   "cell_type": "markdown",
   "id": "d5287923-36ae-49f9-be17-73336ffe7652",
   "metadata": {},
   "source": [
    "Um `__dict__` zu erklären, brauchen wir ein paar passende Beispiele:"
   ]
  },
  {
   "cell_type": "markdown",
   "id": "fe83e708-c614-4554-a5cb-9aa2efefc1d2",
   "metadata": {
    "jp-MarkdownHeadingCollapsed": true
   },
   "source": [
    "### Einfaches Beispiel"
   ]
  },
  {
   "cell_type": "code",
   "execution_count": 12,
   "id": "69f43405-9463-42f4-8e4f-0fcdf4c27f53",
   "metadata": {},
   "outputs": [],
   "source": [
    "class Person:\n",
    "    def __init__(self, name, alter):\n",
    "        self.name = name\n",
    "        self.alter = alter\n",
    "\n",
    "p = Person(\"Alice\", 30)"
   ]
  },
  {
   "cell_type": "markdown",
   "id": "62b681e6-b096-46e8-948e-e2e71d6f00d6",
   "metadata": {
    "jp-MarkdownHeadingCollapsed": true
   },
   "source": [
    "### Aufruf von `__dict__` AUF \"p\" einer INSTANZ der Klasse Person"
   ]
  },
  {
   "cell_type": "code",
   "execution_count": 18,
   "id": "6620d361-9b44-4838-bd57-19d199021c16",
   "metadata": {},
   "outputs": [
    {
     "name": "stdout",
     "output_type": "stream",
     "text": [
      "{'name': 'Alice', 'alter': 30}\n"
     ]
    }
   ],
   "source": [
    "print(p.__dict__)"
   ]
  },
  {
   "cell_type": "markdown",
   "id": "d82cd407-75fc-4be2-b990-a63f5d936923",
   "metadata": {
    "jp-MarkdownHeadingCollapsed": true
   },
   "source": [
    "### Aufruf von `__dict__` DIREKT AUF der Klasse \"Person\""
   ]
  },
  {
   "cell_type": "code",
   "execution_count": 20,
   "id": "18f476af-2459-46b3-a1de-9b921fcfe753",
   "metadata": {},
   "outputs": [
    {
     "name": "stdout",
     "output_type": "stream",
     "text": [
      "{'__module__': '__main__', '__init__': <function Person.__init__ at 0x00000216B69B8EA0>, '__dict__': <attribute '__dict__' of 'Person' objects>, '__weakref__': <attribute '__weakref__' of 'Person' objects>, '__doc__': None}\n"
     ]
    }
   ],
   "source": [
    "print(Person.__dict__)"
   ]
  },
  {
   "cell_type": "markdown",
   "id": "3136dd52-e176-4b14-8f92-44cc23c3cc97",
   "metadata": {},
   "source": [
    "Das ist etwas unübersichtlich..."
   ]
  },
  {
   "cell_type": "code",
   "execution_count": 26,
   "id": "5fdd61b6-c43e-489a-b6d9-cd8d041a8c33",
   "metadata": {},
   "outputs": [
    {
     "name": "stdout",
     "output_type": "stream",
     "text": [
      "__module__\n",
      "__init__\n",
      "__dict__\n",
      "__weakref__\n",
      "__doc__\n"
     ]
    }
   ],
   "source": [
    "for elem in Person.__dict__:\n",
    "    print(elem)"
   ]
  },
  {
   "cell_type": "code",
   "execution_count": 32,
   "id": "c5e3bda9-8b52-487e-9b03-1bf5d437d256",
   "metadata": {},
   "outputs": [
    {
     "data": {
      "text/plain": [
       "{'__module__': '__main__',\n",
       " '__init__': <function __main__.Person.__init__(self, name, alter)>,\n",
       " '__dict__': <attribute '__dict__' of 'Person' objects>,\n",
       " '__weakref__': <attribute '__weakref__' of 'Person' objects>,\n",
       " '__doc__': None}"
      ]
     },
     "execution_count": 32,
     "metadata": {},
     "output_type": "execute_result"
    }
   ],
   "source": [
    "real_dict = dict(Person.__dict__)\n",
    "real_dict"
   ]
  },
  {
   "cell_type": "markdown",
   "id": "8e5d6f76-3176-46f1-bf45-e5b681a157ef",
   "metadata": {},
   "source": [
    "Hier sehen wir alle \"Objekte?\" im Namensraum der KLASSE \"Person\". \n",
    "Bedenke, dass eine Klasse ihre Instanzen NICHT KENNT, deshalb ist es völlig normal, dass die Instanzvariablen `{'name': 'Alice', 'alter': 30}` fehlen, die man beim Aufruf von `p.__dict__` erhält."
   ]
  },
  {
   "cell_type": "markdown",
   "id": "597dbb54-b183-499e-9691-8665ce3346e5",
   "metadata": {},
   "source": [
    "Das sind eine Menge Variablen, dafür, dass in der Klasse praktisch nichts drin steht..."
   ]
  },
  {
   "cell_type": "markdown",
   "id": "185a2c70-b9bf-4088-9897-dd2c8851f2d4",
   "metadata": {},
   "source": [
    "Wie groß ist der Unterschied zu komplexeren Beispielen?"
   ]
  },
  {
   "cell_type": "markdown",
   "id": "8ee04ede-16c4-4c5e-a422-1be4fec9db03",
   "metadata": {},
   "source": [
    "### Komplexeres Beispiel einer Klasse"
   ]
  },
  {
   "cell_type": "code",
   "execution_count": 34,
   "id": "37ad2295-88e2-42f9-9c41-2aca2d8f3a64",
   "metadata": {},
   "outputs": [
    {
     "name": "stdout",
     "output_type": "stream",
     "text": [
      "Toyota Corolla, Baujahr 1998\n",
      "Honda Civic, Baujahr 2005 mit 4 Türen\n",
      "Tesla Model 3, Baujahr 2020 mit 4 Türen und einer Batteriekapazität von 75 kWh\n",
      "Anzahl der Fahrzeuge: 3\n",
      "Anzahl der Fahrzeuge: 3\n",
      "Anzahl der Fahrzeuge: 3\n",
      "True\n",
      "False\n"
     ]
    }
   ],
   "source": [
    "class Fahrzeug:\n",
    "    # Klassenvariable\n",
    "    fahrzeug_anzahl = 0\n",
    "\n",
    "    def __init__(self, hersteller, modell, baujahr):\n",
    "        # Instanzvariablen\n",
    "        self.hersteller = hersteller\n",
    "        self.modell = modell\n",
    "        self.baujahr = baujahr\n",
    "        Fahrzeug.fahrzeug_anzahl += 1\n",
    "\n",
    "    def fahrzeug_info(self):\n",
    "        return f\"{self.hersteller} {self.modell}, Baujahr {self.baujahr}\"\n",
    "\n",
    "    @classmethod\n",
    "    def anzahl_fahrzeuge(cls):\n",
    "        return f\"Anzahl der Fahrzeuge: {cls.fahrzeug_anzahl}\"\n",
    "\n",
    "    @staticmethod\n",
    "    def ist_fahrzeug_alt(baujahr):\n",
    "        return baujahr < 2000\n",
    "\n",
    "\n",
    "class Auto(Fahrzeug):\n",
    "    def __init__(self, hersteller, modell, baujahr, anzahl_tueren):\n",
    "        super().__init__(hersteller, modell, baujahr)\n",
    "        self.anzahl_tueren = anzahl_tueren\n",
    "\n",
    "    def auto_info(self):\n",
    "        return f\"{self.fahrzeug_info()} mit {self.anzahl_tueren} Türen\"\n",
    "\n",
    "\n",
    "class ElektroAuto(Auto):\n",
    "    def __init__(self, hersteller, modell, baujahr, anzahl_tueren, batteriekapazitaet):\n",
    "        super().__init__(hersteller, modell, baujahr, anzahl_tueren)\n",
    "        self.batteriekapazitaet = batteriekapazitaet\n",
    "\n",
    "    def elektroauto_info(self):\n",
    "        return f\"{self.auto_info()} und einer Batteriekapazität von {self.batteriekapazitaet} kWh\"\n",
    "\n",
    "\n",
    "# Instanziieren von Objekten\n",
    "fahrzeug1 = Fahrzeug(\"Toyota\", \"Corolla\", 1998)\n",
    "auto1 = Auto(\"Honda\", \"Civic\", 2005, 4)\n",
    "elektroauto1 = ElektroAuto(\"Tesla\", \"Model 3\", 2020, 4, 75)\n",
    "\n",
    "# Ausgeben von Informationen\n",
    "print(fahrzeug1.fahrzeug_info())\n",
    "print(auto1.auto_info())\n",
    "print(elektroauto1.elektroauto_info())\n",
    "\n",
    "# Klassenmethoden und -variablen verwenden\n",
    "print(Fahrzeug.anzahl_fahrzeuge())\n",
    "print(Auto.anzahl_fahrzeuge())\n",
    "print(ElektroAuto.anzahl_fahrzeuge())\n",
    "\n",
    "# Statische Methode verwenden\n",
    "print(Fahrzeug.ist_fahrzeug_alt(1998))\n",
    "print(Fahrzeug.ist_fahrzeug_alt(2015))\n"
   ]
  },
  {
   "cell_type": "markdown",
   "id": "b3ea0627-4f0c-4d10-9d63-40facc52a6e0",
   "metadata": {},
   "source": [
    "Das ist schon komplexer."
   ]
  },
  {
   "cell_type": "code",
   "execution_count": 35,
   "id": "d1941469-2571-4441-b704-407ce073955f",
   "metadata": {},
   "outputs": [
    {
     "data": {
      "text/plain": [
       "{'hersteller': 'Toyota', 'modell': 'Corolla', 'baujahr': 1998}"
      ]
     },
     "execution_count": 35,
     "metadata": {},
     "output_type": "execute_result"
    }
   ],
   "source": [
    "fahrzeug1.__dict__"
   ]
  },
  {
   "cell_type": "code",
   "execution_count": 54,
   "id": "e15d50aa-e1ee-4238-92e2-fa0b5b3acd41",
   "metadata": {},
   "outputs": [
    {
     "data": {
      "text/plain": [
       "{'hersteller': 'Honda', 'modell': 'Civic', 'baujahr': 2005, 'anzahl_tueren': 4}"
      ]
     },
     "execution_count": 54,
     "metadata": {},
     "output_type": "execute_result"
    }
   ],
   "source": [
    "auto1.__dict__"
   ]
  },
  {
   "cell_type": "code",
   "execution_count": 55,
   "id": "fc37afdf-e7a1-46cd-97d9-2f81f388453b",
   "metadata": {},
   "outputs": [
    {
     "data": {
      "text/plain": [
       "mappingproxy({'__module__': '__main__',\n",
       "              '__init__': <function __main__.Auto.__init__(self, hersteller, modell, baujahr, anzahl_tueren)>,\n",
       "              'auto_info': <function __main__.Auto.auto_info(self)>,\n",
       "              '__doc__': None})"
      ]
     },
     "execution_count": 55,
     "metadata": {},
     "output_type": "execute_result"
    }
   ],
   "source": [
    "Auto.__dict__"
   ]
  },
  {
   "cell_type": "code",
   "execution_count": 56,
   "id": "acd15b6c-1cd6-4700-a6d7-d6eda49db79f",
   "metadata": {},
   "outputs": [
    {
     "data": {
      "text/plain": [
       "mappingproxy({'__module__': '__main__',\n",
       "              '__init__': <function __main__.ElektroAuto.__init__(self, hersteller, modell, baujahr, anzahl_tueren, batteriekapazitaet)>,\n",
       "              'elektroauto_info': <function __main__.ElektroAuto.elektroauto_info(self)>,\n",
       "              '__doc__': None})"
      ]
     },
     "execution_count": 56,
     "metadata": {},
     "output_type": "execute_result"
    }
   ],
   "source": [
    "ElektroAuto.__dict__"
   ]
  },
  {
   "cell_type": "code",
   "execution_count": 57,
   "id": "596c50b6-3a11-4ee8-9f0a-5522482a65e4",
   "metadata": {},
   "outputs": [
    {
     "data": {
      "text/plain": [
       "mappingproxy({'__module__': '__main__',\n",
       "              'fahrzeug_anzahl': 3,\n",
       "              '__init__': <function __main__.Fahrzeug.__init__(self, hersteller, modell, baujahr)>,\n",
       "              'fahrzeug_info': <function __main__.Fahrzeug.fahrzeug_info(self)>,\n",
       "              'anzahl_fahrzeuge': <classmethod(<function Fahrzeug.anzahl_fahrzeuge at 0x00000216B78187C0>)>,\n",
       "              'ist_fahrzeug_alt': <staticmethod(<function Fahrzeug.ist_fahrzeug_alt at 0x00000216B78198A0>)>,\n",
       "              '__dict__': <attribute '__dict__' of 'Fahrzeug' objects>,\n",
       "              '__weakref__': <attribute '__weakref__' of 'Fahrzeug' objects>,\n",
       "              '__doc__': None})"
      ]
     },
     "execution_count": 57,
     "metadata": {},
     "output_type": "execute_result"
    }
   ],
   "source": [
    "Fahrzeug.__dict__"
   ]
  },
  {
   "cell_type": "code",
   "execution_count": 59,
   "id": "0747cd7d-6683-4d4e-8145-6f2e47fb4e61",
   "metadata": {},
   "outputs": [
    {
     "name": "stdout",
     "output_type": "stream",
     "text": [
      "__module__\n",
      "fahrzeug_anzahl\n",
      "__init__\n",
      "fahrzeug_info\n",
      "anzahl_fahrzeuge\n",
      "ist_fahrzeug_alt\n",
      "__dict__\n",
      "__weakref__\n",
      "__doc__\n"
     ]
    }
   ],
   "source": [
    "for elem in Fahrzeug.__dict__:\n",
    "    print(elem)"
   ]
  },
  {
   "cell_type": "markdown",
   "id": "cd886bcf-6ad6-4c53-9544-a34d7dafc00b",
   "metadata": {
    "jp-MarkdownHeadingCollapsed": true
   },
   "source": [
    "### Unterschied"
   ]
  },
  {
   "cell_type": "markdown",
   "id": "39d82670-1c0f-4fd6-b28f-1c3b088736b8",
   "metadata": {},
   "source": [
    "Trotz der größeren Komplexität gibt es nur geringe Unterscheide zwischen den Beispielen. Und vor allem die folgende Gemeinsamkeit sticht hervor:\n",
    "\n",
    "Die Variablen\n",
    "- `__module__`\n",
    "- `__init__`\n",
    "- `__dict__`\n",
    "- `__weakref__`\n",
    "und `__doc__`\n",
    "\n",
    "sind die einzigen DUNDER Methoden / Variablen und sind in beiden Beispielen enthalten wodurch man darauf schließen kann, dass sie von `object` stammen... "
   ]
  },
  {
   "cell_type": "code",
   "execution_count": null,
   "id": "451be97a-6a57-49d3-8b23-f3b5ec84f8a5",
   "metadata": {},
   "outputs": [],
   "source": [
    "object.__dict__ "
   ]
  },
  {
   "cell_type": "markdown",
   "id": "65dbeb78-80f0-4176-aa64-5889487fe5da",
   "metadata": {},
   "source": [
    "Ok, dass war doch etwas viel und `object` enthält von den gesuchten Attributen seltsamerweise nur `__init__` und `__doc__`"
   ]
  },
  {
   "cell_type": "markdown",
   "id": "a3683226-6617-4287-8ce6-c441c8ee0e38",
   "metadata": {},
   "source": [
    "Und `__weakref__` scheint eine besonderheit zu sein."
   ]
  },
  {
   "cell_type": "markdown",
   "id": "fab6c785-440e-47ee-bb06-1df0a4843148",
   "metadata": {},
   "source": [
    "Siehe auch: [`__weakref__`](w__weakref__.ipynb)"
   ]
  },
  {
   "cell_type": "markdown",
   "id": "4b3a5416-1c67-4d2b-84ff-5110e30c7895",
   "metadata": {
    "jp-MarkdownHeadingCollapsed": true
   },
   "source": [
    "### `__class__`.`__dict__`"
   ]
  },
  {
   "cell_type": "markdown",
   "id": "1488d6fa-e1c1-445a-ae0c-364489af3be3",
   "metadata": {},
   "source": [
    "Wenn man nicht weiß, welcher Klasse eine Instanz angehört, aber trotzdem den Namespace dieser Klasse wissen will, kann über folgenden Code an die Information kommen."
   ]
  },
  {
   "cell_type": "markdown",
   "id": "d0db139a-320c-45e8-af38-534f7b13c928",
   "metadata": {},
   "source": [
    "Syntax:\n",
    "\n",
    "`Instanz` `.` `__class__` `.` `__dict__`"
   ]
  },
  {
   "cell_type": "markdown",
   "id": "43001368-141f-423a-980a-8994f332082c",
   "metadata": {},
   "source": [
    "Beispiel:"
   ]
  },
  {
   "cell_type": "code",
   "execution_count": 52,
   "id": "224e104d-da55-4a15-8647-983f3e024150",
   "metadata": {},
   "outputs": [
    {
     "data": {
      "text/plain": [
       "mappingproxy({'__module__': '__main__',\n",
       "              '__init__': <function __main__.Person.__init__(self, name, alter)>,\n",
       "              '__dict__': <attribute '__dict__' of 'Person' objects>,\n",
       "              '__weakref__': <attribute '__weakref__' of 'Person' objects>,\n",
       "              '__doc__': None})"
      ]
     },
     "execution_count": 52,
     "metadata": {},
     "output_type": "execute_result"
    }
   ],
   "source": [
    "p.__class__.__dict__"
   ]
  },
  {
   "cell_type": "markdown",
   "id": "7d47475a-b8bd-41fb-a4ba-d66e61bc26ac",
   "metadata": {},
   "source": [
    "## Zusammenfassung"
   ]
  },
  {
   "cell_type": "markdown",
   "id": "eab1af08-243b-49fa-a8a2-71b0bccf9947",
   "metadata": {},
   "source": [
    "Die `__dict__`-Variable gibt folgende Attribute zurück, wenn sie auf eine **Klasse** angewandt wird:\n",
    "1. Die Variablen die offenbar jede Klasse hat: `__module__`, `__init__`, `__dict__`, `__doc__` und `__weakref__`, wenn sie DIREKT von object erbt.\n",
    "2. Alle Klassenvariablen die in die entsprechende Klasse geschrieben wurden.\n",
    "3. Alle Methoden, Klassenmethoden und Static-Methoden"
   ]
  },
  {
   "cell_type": "markdown",
   "id": "2f9b474f-8b7c-4c09-9263-67e5f0bddfd8",
   "metadata": {},
   "source": [
    "Im Vergleich zu Klasse gibt die `__dict__`-Variable nur die vollständige Instanzvariable der entsprechenden Instanz (also inklusive Value) zurück, wenn sie auf die **Instanz** einer Klasse angewandt wird."
   ]
  },
  {
   "cell_type": "markdown",
   "id": "804c68ac-e1ad-4853-b4fd-f555d5bc3ab4",
   "metadata": {
    "jp-MarkdownHeadingCollapsed": true
   },
   "source": [
    "# Weiterer Code"
   ]
  },
  {
   "cell_type": "code",
   "execution_count": null,
   "id": "ad21ffc4-d12d-49b4-92dd-db56b5765d47",
   "metadata": {},
   "outputs": [],
   "source": []
  },
  {
   "cell_type": "markdown",
   "id": "adcfff8f-cf37-4112-a461-deff17f42a8c",
   "metadata": {},
   "source": [
    "Ein Beispiel das ich noch durcharbeiten muss, wenn ich die Zeit finde..."
   ]
  },
  {
   "cell_type": "markdown",
   "id": "d571be83-72d2-41b4-a27c-eb3c7ffafa3b",
   "metadata": {},
   "source": [
    "[Beispiel](https://pythontutor.com/render.html#code=class%20A%3A%20%20%23%20class%20heisst%20A%0A%20%20%20%20%23%20Klassenvariable,%20gibt%20es%20nur%20eine%20Kopie%20f%C3%BCr%20ALLE%20Instanzen,%20die%20ist%20immer%20gleich%20%0A%20%20%20%20x%20%3D%2042%0A%20%20%20%20%23%20In%20einer%20Instanzmethode%20ist%20der%20erste%20PARAMETER%20immer%20der%20Ort%20an%20dem%20die%20Instanz%20auf%20der%0A%20%20%20%20%23%20wir%20arbeiten%20referenziert%20wird.%20Da%20Instanzmethoden%20auf%20EINER%20Instanz%20arbeiten%0A%20%20%20%20def%20__init__%28self,%20y%29%3A%0A%20%20%20%20%20%20%20%20%23%20Instanzvariable%20ist%20my_y%0A%20%20%20%20%20%20%20%20self.my_y%20%3D%20y%20%20%23%20Jede%20Instanz%20hat%20in%20sich%20eine%20EIGENE%20Variable%20my_y%0A%20%20%20%20%20%20%20%20print%28self.x%29%20%23%20python%20sucht%20immer%20erst%20in%20instanz%20%28wenn%20auf%20instanz%20aufgerufen%29%0A%20%20%20%20%20%20%20%20self.__class__.x%20%3D%203000%0A%20%20%20%20%20%20%20%20A.x%20%3D%204000%0A%20%20%20%20%20%20%20%20%23%20und%20wenn%20dort%20nicht%20f%C3%BCndig%20sucht%20python%20in%20Klasse%0A%20%20%20%20%20%20%20%20%0A%20%20%20%20%40classmethod%20%23%20beschr%C3%A4nkt%20zugriff%20NUR%20AUF%20die%20auf%20Klasse%0A%20%20%20%20%23%20Da%20Instanzmethoden%20beides%20k%C3%B6nnen%20Instanzmethoden%20haben%20Zugriff%0A%20%20%20%20%23%20auf%201.%20Inst%20und%202.%20die%20Klasse%0A%20%20%20%20def%20my_class_method%28cls%29%3A%0A%20%20%20%20%20%20%20%20print%28cls.x%29%0A%20%20%20%20%20%20%20%20cls.x%20%3D%20100%0A%20%20%20%20%20%20%20%20%23print%28cls.y%29%20geht%20nicht%20da%20cls%20bei%20Klassenmethoden%20auf%20die%20Klasse%20springt.%20Die%20klasse%20kann%20nicht%20auf%20Instanzinhalte%20zugreifen%0A%20%20%20%20%0A%20%20%20%20def%20my_funcy_method%28%29%3A%0A%20%20%20%20%20%20%20%20print%2842%29%0A%20%20%20%20%0Adef%20funky%28%29%3A%0A%20%20%20%20pass%0A%0Ag%20%3D%20funky%0Aprint%28funky.__name__%29%0Aprint%28g.__name__%29%0A%0Amodule_dir%20%3D%20dir%28%29%0Aklass_dir%20%3D%20dir%28A%29%0A%0Ainst%20%3D%20A%2842%29%0A%0Ainst_dir%20%3D%20dir%28inst%29%0A%0A%0Amodule_funky%20%3D%20funky.__module__%0Amodule_von_a%20%3D%20A.__module__%0Amodule_inst%20%3D%20inst.__module__%0A%0Aprint%28inst.__class__%29%0Acheck%20%3D%20inst.__class__%0A%0Aprint%28inst.__class__.__name__%29%0A%23print%28inst.__name__%29%0A%23inst.my_funcy_method%28%29%0AA.my_class_method%28%29%0Ainst.my_class_method%28%29%0A%0A%0Adict_von_inst%20%3D%20inst.__dict__%0A%0Adict_von_A%20%3D%20A.__dict__%0Adict_von_A%20%3D%20inst.__class__.__dict__%0A%0A%0Amodule_dir2%20%3D%20dir%28%29&cumulative=false&curInstr=33&heapPrimitives=nevernest&mode=display&origin=opt-frontend.js&py=311&rawInputLstJSON=%5B%5D&textReferences=false)"
   ]
  }
 ],
 "metadata": {
  "kernelspec": {
   "display_name": "Python 3 (ipykernel)",
   "language": "python",
   "name": "python3"
  },
  "language_info": {
   "codemirror_mode": {
    "name": "ipython",
    "version": 3
   },
   "file_extension": ".py",
   "mimetype": "text/x-python",
   "name": "python",
   "nbconvert_exporter": "python",
   "pygments_lexer": "ipython3",
   "version": "3.12.4"
  }
 },
 "nbformat": 4,
 "nbformat_minor": 5
}
