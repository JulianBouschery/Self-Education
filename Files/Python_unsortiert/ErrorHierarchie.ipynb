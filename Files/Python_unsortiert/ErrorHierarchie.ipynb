{
 "cells": [
  {
   "cell_type": "markdown",
   "id": "b8554ff4-a2d5-4a4d-9cf2-febc521d3bca",
   "metadata": {},
   "source": [
    "## Hierarchie der (jetzt gerade) wichtigsten Fehlerklassen"
   ]
  },
  {
   "cell_type": "markdown",
   "id": "e0c552c3-8b01-4e96-99f7-24df23c6f61b",
   "metadata": {},
   "source": [
    "```python\n",
    "BaseException # Die Basisklasse für alle eingebauten Fehlerklassen. \n",
    "│             # Alle anderen Fehlerklassen erben direkt oder indirekt von dieser Klasse.\n",
    "│ \n",
    "├── SystemExit # Wird durch sys.exit() ausgelöst, um das Programm zu beenden. \n",
    "│              # Kann abgefangen werden, um ein sauberes Herunterfahren zu ermöglichen.\n",
    "│\n",
    "├── KeyboardInterrupt # Wird ausgelöst, wenn das Programm durch einen Benutzerabbruch\n",
    "│                     # (z. B. Ctrl+C) unterbrochen wird.\n",
    "│\n",
    "├── GeneratorExit # Wird innerhalb eines Generators ausgelöst, wenn close() aufgerufen wird. \n",
    "│                 # Signalisierte dem Generator, dass er aufgeräumt und beendet werden soll.\n",
    "│\n",
    "└── Exception # Die Basisklasse für alle eingebauten, nicht systembedingten Fehlerklasse. \n",
    "    │         # Diese Klasse wird von allen benutzerdefinierten Fehlerklassen geerbt.\n",
    "    │\n",
    "    ├── StopIteration # Wird verwendet, um das Ende eines Iterators anzuzeigen. Normalerweise von \n",
    "    │                 # Iteratoren selbst ausgelöst, um das Ende einer Iteration zu signalisieren.\n",
    "    │\n",
    "    ├── ArithmeticError # Basisklasse für Fehler, die bei numerischen Berechnungen auftreten.\n",
    "    │   ├── FloatingPointError # Wird bei einem Fehler in Gleitkommaoperationen ausgelöst.\n",
    "    │   ├── OverflowError # Wird ausgelöst, wenn das Ergebnis einer Operation zu groß für die Darstellung ist.\n",
    "    │   └── ZeroDivisionError # Wird ausgelöst, wenn versucht wird, durch Null zu dividieren.\n",
    "    │ \n",
    "    ├── AssertionError # Wird durch das assert-Statement ausgelöst, wenn die Bedingung falsch ist.\n",
    "    ├── AttributeError # Wird ausgelöst, wenn ein Attributverweis oder -zuweisung fehlschlägt, z.B. \n",
    "    │                  # wenn ein Objekt nicht über das angegebene Attribut verfügt.\n",
    "    │\n",
    "    ├── EOFError # (End Of File)-Error wird ausgelöst, wenn die input()-Funktion \n",
    "    │            # am Ende einer Datei keine Daten mehr lesen kann.\n",
    "    │ \n",
    "    ├── ImportError # Wird ausgelöst, wenn ein Import fehlschlägt.\n",
    "    │   └── ModuleNotFoundError # Eine spezielle Form von ImportError, die ausgelöst wird, \n",
    "    │                           # wenn ein bestimmtes Modul nicht gefunden wird.\n",
    "    │ \n",
    "    ├── LookupError # Basisklasse für Fehler, die bei ungültigen Schlüssel- oder Indexoperationen auftreten.\n",
    "    │   ├── IndexError # Wird ausgelöst, wenn ein ungültiger Index für eine Sequenz verwendet wird.\n",
    "    │   └── KeyError # Wird ausgelöst, wenn ein ungültiger Schlüssel für ein Mapping (z.B. ein Dictionary) verwendet wird.\n",
    "    │ \n",
    "    ├── NameError # Wird ausgelöst, wenn ein lokaler oder globaler Name nicht gefunden wird.\n",
    "    │   └── UnboundLocalError # Eine spezielle Form von NameError, die ausgelöst wird, \n",
    "    │                         # wenn auf eine lokale Variable zugegriffen wird, bevor sie zugewiesen wurde.\n",
    "    │\n",
    "    ├── RuntimeError # Wird bei allgemeinen Laufzeitfehlern verwendet, \n",
    "    │   │            # die nicht zu einer der anderen Kategorien passen.\n",
    "    │   │\n",
    "    │   └── RecursionError # Wird ausgelöst, wenn die maximale Rekursionstiefe überschritten wird.\n",
    "    │\n",
    "    ├── SyntaxError # Wird bei einem Fehler in der Syntax eines Programms ausgelöst.\n",
    "    ├── SystemError # Wird bei einem internen Fehler im Interpreter ausgelöst. \n",
    "    │               # Dies deutet auf einen Fehler im Interpreter selbst hin und nicht im Benutzercode.\n",
    "    │\n",
    "    ├── TypeError # Wird ausgelöst, wenn eine Operation auf ein Objekt eines unangemessenen Typs angewendet wird.\n",
    "    │\n",
    "    └── ValueError # Wird ausgelöst, wenn eine Operation oder Funktion ein Argument erhält,\n",
    "        │          # das den richtigen Datentyp, aber einen unangemessenen Wert hat.\n",
    "        │\n",
    "        └── UnicodeError # Basisklasse für Unicode-bezogene Fehler.\n",
    "            ├── UnicodeDecodeError # Wird bei einem Fehler im Decodieren eines Unicode-Strings ausgelöst.\n",
    "            ├── UnicodeEncodeError # Wird bei einem Fehler im Encodieren eines Unicode-Strings ausgelöst.\n",
    "            └── UnicodeTranslateError # Wird bei einem Fehler im Übersetzen eines Unicode-Strings ausgelöst.\n",
    "\n",
    "```"
   ]
  },
  {
   "cell_type": "markdown",
   "id": "0b3b1434-be63-4ef3-a49a-901a4fa198ef",
   "metadata": {},
   "source": [
    "## Das ganze nochmal aus dem Python Essentials 2"
   ]
  },
  {
   "cell_type": "markdown",
   "id": "3f038705-739c-4168-9a88-518704ded081",
   "metadata": {},
   "source": [
    "Die oberste Klasse heißt BaseException, und einige ihrer direkten Unterklassen sind:\n",
    "\n",
    "- **Exception**: Sammelt Ereignisse, die durch Fehler bei der Programmausführung verursacht werden.\n",
    "- **KeyboardInterrupt**: Wird ausgelöst, wenn der Benutzer eine Aktion des Betriebssystems auslöst, die ein laufendes Programm unterbricht (z.B. die Tastenkombination Strg-C drückt).\n",
    "- **SystemExit**: Wird implizit ausgelöst, wenn ein Python-Programm die Funktion exit() ausführt.\n",
    "\n",
    "Einige der nützlichsten Unterklassen der Klasse Exception sind:\n",
    "\n",
    "- **ArithmeticError**: Kann bei mathematischen Auswertungen auftreten. Seine Unterklassen beschreiben spezifischere Fehler wie:\n",
    "  - **ZeroDivisionError**: Wird ausgelöst, wenn durch Null dividiert wird.\n",
    "  - **OverflowError**: Wird ausgelöst, wenn das Ergebnis einer Operation zu groß ist, um im Speicher des Computers abgelegt werden zu können (z.B. 2 ** 100000).\n",
    "\n",
    "- **LookupError**: Wird durch Probleme verursacht, die durch unsachgemäße Verwendung von Datenaggregaten entstehen. Dazu gehören:\n",
    "  - **IndexError**: Wird ausgelöst, wenn der Code versucht, auf ein nicht vorhandenes Sequenzelement zuzugreifen, z.B. wenn `lst` eine leere Liste ist, führt der Ausdruck `lst[0]` zu IndexError.\n",
    "  - **KeyError**: Wird ausgelöst, wenn auf nicht-sequentielle Sammlungen wie Wörterbücher zugegriffen wird, z.B. wenn `dir` ein leeres Verzeichnis ist, löst der Ausdruck `dir[\"key\"]` KeyError aus.\n",
    "\n",
    "- **TypeError**: Wird durch Operationen ausgelöst, die Argumenttypen falsch verwenden (z.B. `\"1\" > 1`).\n",
    "\n",
    "- **ImportError**: Wird durch ungültige Importanweisungen ausgelöst (z.B. `import nonexistentmodule`).\n",
    "\n",
    "- **AssertionError**: Wird ausgelöst, wenn die assert-Anweisung fehlschlägt (z.B. `assert True == False`).\n",
    "\n",
    "- **AttributeError**: Tritt auf, wenn das Programm einen ungültigen Attributbezug durchführt (z.B. `object.nonexistent_attribute = 0`).\n",
    "\n",
    "- **FileNotFoundError**: Wird ausgelöst, wenn Sie versuchen, eine nicht existierende Datei im Modus „r“ zu öffnen.\n"
   ]
  }
 ],
 "metadata": {
  "kernelspec": {
   "display_name": "Python 3 (ipykernel)",
   "language": "python",
   "name": "python3"
  },
  "language_info": {
   "codemirror_mode": {
    "name": "ipython",
    "version": 3
   },
   "file_extension": ".py",
   "mimetype": "text/x-python",
   "name": "python",
   "nbconvert_exporter": "python",
   "pygments_lexer": "ipython3",
   "version": "3.12.6"
  }
 },
 "nbformat": 4,
 "nbformat_minor": 5
}
