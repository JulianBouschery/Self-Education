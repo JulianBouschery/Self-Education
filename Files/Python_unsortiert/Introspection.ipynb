{
 "cells": [
  {
   "cell_type": "markdown",
   "id": "457f53c8-fff2-4bf3-9524-5151b2c279c6",
   "metadata": {},
   "source": [
    "# Introspection"
   ]
  },
  {
   "cell_type": "markdown",
   "id": "1a55dde4-33e8-4122-be6f-ed1c1cd7fbdb",
   "metadata": {},
   "source": [
    "Introspection (Introspektion) ist die Fähigkeit eines Programms, den Typ oder die Eigenschaften eines Objekts während der Laufzeit zu untersuchen."
   ]
  },
  {
   "cell_type": "code",
   "execution_count": null,
   "id": "598df510-70e3-405b-a7fb-8ef99fe5ece9",
   "metadata": {},
   "outputs": [],
   "source": []
  }
 ],
 "metadata": {
  "kernelspec": {
   "display_name": "Python 3 (ipykernel)",
   "language": "python",
   "name": "python3"
  },
  "language_info": {
   "codemirror_mode": {
    "name": "ipython",
    "version": 3
   },
   "file_extension": ".py",
   "mimetype": "text/x-python",
   "name": "python",
   "nbconvert_exporter": "python",
   "pygments_lexer": "ipython3",
   "version": "3.12.4"
  }
 },
 "nbformat": 4,
 "nbformat_minor": 5
}
