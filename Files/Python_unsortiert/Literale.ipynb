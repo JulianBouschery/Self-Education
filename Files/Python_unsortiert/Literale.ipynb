{
 "cells": [
  {
   "cell_type": "markdown",
   "id": "db8e1032-5f5d-4179-b5d3-4b091065ab9e",
   "metadata": {},
   "source": [
    "[Zurück zum Inhaltsverzeichnis](_Inhaltsverzeichnis_.ipynb)"
   ]
  },
  {
   "cell_type": "markdown",
   "id": "6a9edbf9-1f77-4599-9dee-763fa5ab2534",
   "metadata": {
    "jp-MarkdownHeadingCollapsed": true
   },
   "source": [
    "### Auch interessant zu diesem Thema:"
   ]
  },
  {
   "cell_type": "markdown",
   "id": "1a094d48-b9b2-4f59-b9d6-2415a94609e2",
   "metadata": {},
   "source": [
    "[Variablen](Variablen.ipynb)"
   ]
  },
  {
   "cell_type": "markdown",
   "id": "8a0ea109-b1cd-4548-9817-e120e9579add",
   "metadata": {},
   "source": [
    "[Dynamically Typed vs. Statical Typing](Dynamically_Typed_vs._Statical_Typing.ipynb)"
   ]
  },
  {
   "cell_type": "markdown",
   "id": "29e44f57-8ee5-465c-a0e3-adde269068fe",
   "metadata": {},
   "source": [
    "[Definition von legalem und illegalem Code, sowie legalem, aber hässlichem Code...](Legaler_und_illegaler_code.ipynb)"
   ]
  },
  {
   "cell_type": "markdown",
   "id": "412f4f6d-e8aa-474f-8af0-88c5b67a2898",
   "metadata": {},
   "source": [
    "# Literale"
   ]
  },
  {
   "cell_type": "markdown",
   "id": "04233194-afd2-46c7-b7ac-63393e337014",
   "metadata": {},
   "source": [
    "- Was passiert? (Funktion erklären)\n",
    "- Was ist das? (Definition formulieren)\n",
    "- Warum / Wie funktioniert das? (Hintergründe und Details)\n",
    "  All, das Hand von sehr vielen Beispielen erklären"
   ]
  },
  {
   "cell_type": "markdown",
   "id": "f750bc96-ae59-4342-a0e4-9f356b206dfd",
   "metadata": {},
   "source": [
    "Was sind Literale?"
   ]
  },
  {
   "cell_type": "markdown",
   "id": "bc46d85c-33c8-4ea0-9084-1dec5252ead1",
   "metadata": {},
   "source": [
    "Ein Literal ist ein Wert (value in Englisch) genauer gesagt, die Daten selbst."
   ]
  },
  {
   "cell_type": "markdown",
   "id": "c1ea1929-59b2-4856-abdf-bd8dbbae8450",
   "metadata": {},
   "source": [
    "Was genau ist damit gemeint?"
   ]
  },
  {
   "cell_type": "markdown",
   "id": "1b096da5-6a5f-412e-a998-97c14c0fbc91",
   "metadata": {},
   "source": [
    "Ein Beispiel:"
   ]
  },
  {
   "cell_type": "code",
   "execution_count": 19,
   "id": "3d4b1e2e-3c63-4804-9607-92d38fc9dbf3",
   "metadata": {},
   "outputs": [
    {
     "name": "stdout",
     "output_type": "stream",
     "text": [
      "Hello\n",
      "1\n"
     ]
    }
   ],
   "source": [
    "print(\"Hello\")\n",
    "print(1)"
   ]
  },
  {
   "cell_type": "markdown",
   "id": "ad6c117f-61fe-41d0-8c2c-5a6b45e3bc74",
   "metadata": {
    "jp-MarkdownHeadingCollapsed": true
   },
   "source": [
    "Der Inhalt, den du in die print-Funktion geschrieben hast... Die Informationen, die Daten die gedruckt wurden...\n",
    "\n",
    "Das sind alles Literale."
   ]
  },
  {
   "cell_type": "markdown",
   "id": "dee51006-9c33-4f19-bc2f-38d25d1198fd",
   "metadata": {},
   "source": [
    "Ein Literal kann einer Variable zugewiesen werden."
   ]
  },
  {
   "cell_type": "markdown",
   "id": "3de630d4-1e96-4e24-896a-7b7d57b09fe6",
   "metadata": {},
   "source": [
    "Literale, was waren das nochmal?\n",
    "Literale sind die Daten AN SICH. Keine Variable, oder eine Berechnung die erst noch evaluieren muss, sonder die finalen Daten selbst. Man gibt die Werte direkt ein, und Python muss die nicht erst nachschlagen oder berechnen."
   ]
  },
  {
   "cell_type": "code",
   "execution_count": null,
   "id": "93f29f5a-c236-402d-af56-24f00b838f46",
   "metadata": {},
   "outputs": [],
   "source": [
    "literal_str = \"Hallo\" # Literally das Wort eingegeben\n",
    "keine_string_literal = \"Hallo\".upper() # Das Ergebnis \"HALLO\" muss erst berechnet werden"
   ]
  },
  {
   "cell_type": "code",
   "execution_count": 3,
   "id": "9d4fa2cb-224b-492b-aa44-212102718536",
   "metadata": {
    "tags": []
   },
   "outputs": [
    {
     "data": {
      "text/plain": [
       "('Hallo', 'ich ', 'bin', 'ein tuple')"
      ]
     },
     "execution_count": 3,
     "metadata": {},
     "output_type": "execute_result"
    }
   ],
   "source": [
    "42,-12, 12.4 # sind Literale von Zahlen int und float\n",
    "\n",
    "(\"Hallo\", \"ich \",\"bin\",\"ein tuple\") # Tuple Literal"
   ]
  },
  {
   "cell_type": "markdown",
   "id": "cad1cf57-aafa-49fa-b53f-d0a9c472dbf5",
   "metadata": {},
   "source": [
    "True und False sind die beiden einzigen Literale des bool Datentyps"
   ]
  },
  {
   "cell_type": "markdown",
   "id": "2fa29ab1-55e6-40f6-b9ec-9338fe88c944",
   "metadata": {
    "tags": []
   },
   "source": [
    "None ist übrigens das Literal des NoneType"
   ]
  }
 ],
 "metadata": {
  "kernelspec": {
   "display_name": "Python 3 (ipykernel)",
   "language": "python",
   "name": "python3"
  },
  "language_info": {
   "codemirror_mode": {
    "name": "ipython",
    "version": 3
   },
   "file_extension": ".py",
   "mimetype": "text/x-python",
   "name": "python",
   "nbconvert_exporter": "python",
   "pygments_lexer": "ipython3",
   "version": "3.12.6"
  }
 },
 "nbformat": 4,
 "nbformat_minor": 5
}
