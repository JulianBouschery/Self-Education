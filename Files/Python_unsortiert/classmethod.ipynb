{
 "cells": [
  {
   "cell_type": "markdown",
   "id": "1fa9ea13-6192-494b-90b0-485159510f9b",
   "metadata": {},
   "source": [
    "# classmethod"
   ]
  },
  {
   "cell_type": "markdown",
   "id": "c3656178-9471-410a-a82a-c3ff387f6d3c",
   "metadata": {},
   "source": [
    "classen methoden haben zugriff auf die Klasse aber NICHT auf die Instanzvariabeln der Instanz / die Instanz selbst"
   ]
  },
  {
   "cell_type": "markdown",
   "id": "d6e88f94-500c-411f-89bc-c7135d7d20a7",
   "metadata": {},
   "source": [
    "[py](https://pythontutor.com/render.html#code=class%20MyClass%3A%20%0A%20%20%20%20x%20%3D%20%22Hallo%22%0A%20%20%20%20%40classmethod%0A%20%20%20%20def%20my_method%28cls,%20val%29%3A%0A%20%20%20%20%20%20%20%20print%28cls.x%29%0A%20%20%20%20%20%20%20%20print%28cls%28%29%29%0A%20%20%20%20%20%20%20%20check%20%3D%20cls%28%29%0A%20%20%20%20%0A%0A%0Ainst%20%3D%20MyClass%28%29%0A%0Ainst.my_method%2842%29&cumulative=false&curInstr=7&heapPrimitives=nevernest&mode=display&origin=opt-frontend.js&py=311&rawInputLstJSON=%5B%5D&textReferences=false)"
   ]
  },
  {
   "cell_type": "markdown",
   "id": "2f5b39a4-0f33-4744-8d04-64ad517782f0",
   "metadata": {},
   "source": [
    "Siehe auch: [`__class__`](c__class__.ipynb)"
   ]
  },
  {
   "cell_type": "code",
   "execution_count": null,
   "id": "a86c4240-8cf3-43b9-bef0-49d82a5a4d42",
   "metadata": {},
   "outputs": [],
   "source": []
  },
  {
   "cell_type": "markdown",
   "id": "63e7b988-be22-4048-bfc8-44b85a810593",
   "metadata": {},
   "source": [
    "\n",
    "cls => Der Konventionsname(nicht Pflicht) für Klassenreferenz\n",
    "\n",
    "`__name__` \n",
    "\n",
    "`__class__`\n",
    "\n",
    "`__bases__`"
   ]
  },
  {
   "cell_type": "code",
   "execution_count": null,
   "id": "4ec83b9a-8453-40de-91ca-fe80b0e10321",
   "metadata": {},
   "outputs": [],
   "source": []
  },
  {
   "cell_type": "code",
   "execution_count": 2,
   "id": "ecec986c-19a9-4f3e-b333-26aaa04cdc6f",
   "metadata": {},
   "outputs": [],
   "source": [
    "class MyClass: \n",
    "    \n",
    "    @classmethod\n",
    "    def my_method(self, val):\n",
    "        pass\n",
    "\n"
   ]
  },
  {
   "cell_type": "code",
   "execution_count": 7,
   "id": "9b9b9361-6329-4f5c-bbf8-f0540d4dd27b",
   "metadata": {},
   "outputs": [],
   "source": [
    "class Person: \n",
    "\n",
    "    def __init__(self, name):\n",
    "        self.name = name"
   ]
  },
  {
   "cell_type": "code",
   "execution_count": 9,
   "id": "529b5f46-35e4-45e2-a71c-e5a57b130de1",
   "metadata": {},
   "outputs": [],
   "source": [
    "inst1 = Person(\"anna\")"
   ]
  },
  {
   "cell_type": "code",
   "execution_count": 10,
   "id": "49d4be66-3712-4620-9e34-942ccb827e17",
   "metadata": {},
   "outputs": [
    {
     "data": {
      "text/plain": [
       "__main__.Person"
      ]
     },
     "execution_count": 10,
     "metadata": {},
     "output_type": "execute_result"
    }
   ],
   "source": [
    "inst1.__class__"
   ]
  },
  {
   "cell_type": "code",
   "execution_count": 11,
   "id": "523f5ff0-2d1b-4761-a4a8-217286fdb0ce",
   "metadata": {},
   "outputs": [
    {
     "data": {
      "text/plain": [
       "'Person'"
      ]
     },
     "execution_count": 11,
     "metadata": {},
     "output_type": "execute_result"
    }
   ],
   "source": [
    "# Instanzen haben eine Klassen\n",
    "inst1.__class__.__name__"
   ]
  },
  {
   "cell_type": "code",
   "execution_count": 12,
   "id": "c59dd092-2554-45bd-bf09-7bfbd97d8c6e",
   "metadata": {},
   "outputs": [
    {
     "ename": "AttributeError",
     "evalue": "'Person' object has no attribute '__bases__'",
     "output_type": "error",
     "traceback": [
      "\u001b[0;31m---------------------------------------------------------------------------\u001b[0m",
      "\u001b[0;31mAttributeError\u001b[0m                            Traceback (most recent call last)",
      "Cell \u001b[0;32mIn[12], line 1\u001b[0m\n\u001b[0;32m----> 1\u001b[0m \u001b[43minst1\u001b[49m\u001b[38;5;241;43m.\u001b[39;49m\u001b[38;5;18;43m__bases__\u001b[39;49m\n",
      "\u001b[0;31mAttributeError\u001b[0m: 'Person' object has no attribute '__bases__'"
     ]
    }
   ],
   "source": [
    "inst1.__bases__"
   ]
  },
  {
   "cell_type": "code",
   "execution_count": 13,
   "id": "8d4afb0e-1e69-49d0-b6c7-fe8eea261472",
   "metadata": {},
   "outputs": [
    {
     "data": {
      "text/plain": [
       "(object,)"
      ]
     },
     "execution_count": 13,
     "metadata": {},
     "output_type": "execute_result"
    }
   ],
   "source": [
    "Person.__bases__"
   ]
  },
  {
   "cell_type": "code",
   "execution_count": 14,
   "id": "a1c036aa-64c0-4c47-b3f7-cdc63245c557",
   "metadata": {},
   "outputs": [
    {
     "data": {
      "text/plain": [
       "()"
      ]
     },
     "execution_count": 14,
     "metadata": {},
     "output_type": "execute_result"
    }
   ],
   "source": [
    "object.__bases__"
   ]
  },
  {
   "cell_type": "markdown",
   "id": "3ea38072-68bc-47f1-81a7-565522dd425f",
   "metadata": {},
   "source": [
    "Interessantes Beispiel für die Nutzung einer Klassenmethode aus PythonEssential 3"
   ]
  },
  {
   "cell_type": "code",
   "execution_count": null,
   "id": "7fa860e0-1ced-4287-a4b9-035b9abe6111",
   "metadata": {},
   "outputs": [],
   "source": [
    "class Car:\n",
    "    def __init__(self, vin):\n",
    "        print('Ordinary __init__ was called for', vin)\n",
    "        self.vin = vin\n",
    "        self.brand = ''\n",
    "\n",
    "    @classmethod\n",
    "    def including_brand(cls, vin, brand):\n",
    "        print('Class method was called')\n",
    "        _car = cls(vin)\n",
    "        _car.brand = brand\n",
    "        return _car\n",
    "\n",
    "car1 = Car('ABCD1234')\n",
    "car2 = Car.including_brand('DEF567', 'NewBrand')\n",
    "\n",
    "print(car1.vin, car1.brand)\n",
    "print(car2.vin, car2.brand)\n"
   ]
  }
 ],
 "metadata": {
  "kernelspec": {
   "display_name": "Python 3 (ipykernel)",
   "language": "python",
   "name": "python3"
  },
  "language_info": {
   "codemirror_mode": {
    "name": "ipython",
    "version": 3
   },
   "file_extension": ".py",
   "mimetype": "text/x-python",
   "name": "python",
   "nbconvert_exporter": "python",
   "pygments_lexer": "ipython3",
   "version": "3.12.4"
  }
 },
 "nbformat": 4,
 "nbformat_minor": 5
}
