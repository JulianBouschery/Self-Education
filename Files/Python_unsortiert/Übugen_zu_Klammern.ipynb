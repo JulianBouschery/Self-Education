{
 "cells": [
  {
   "cell_type": "markdown",
   "id": "8c796201-64af-4528-8ead-acfb04eaa5d8",
   "metadata": {},
   "source": [
    "[Zurück zum Inhaltsverzeichnis](_Inhaltsverzeichnis_.ipynb)"
   ]
  },
  {
   "cell_type": "markdown",
   "id": "9c62b7dc-3b80-4471-9e32-96b8c716d25b",
   "metadata": {},
   "source": [
    "### Übungen zu Klammern"
   ]
  },
  {
   "cell_type": "code",
   "execution_count": 119,
   "id": "6a61eb26-77be-4783-9c8a-03242e397f70",
   "metadata": {
    "tags": []
   },
   "outputs": [
    {
     "data": {
      "text/plain": [
       "20"
      ]
     },
     "execution_count": 119,
     "metadata": {},
     "output_type": "execute_result"
    }
   ],
   "source": [
    "2+3*6"
   ]
  },
  {
   "cell_type": "code",
   "execution_count": 120,
   "id": "87c42934-c939-4b3b-a5d0-275cc9679b84",
   "metadata": {
    "tags": []
   },
   "outputs": [
    {
     "data": {
      "text/plain": [
       "20"
      ]
     },
     "execution_count": 120,
     "metadata": {},
     "output_type": "execute_result"
    }
   ],
   "source": [
    "2+(3*6)"
   ]
  },
  {
   "cell_type": "markdown",
   "id": "bfdf59ef-1c48-42f4-a0a4-3d8002131236",
   "metadata": {},
   "source": [
    "Wie in der Schule, können Klammern die Reihenfolge ändern."
   ]
  },
  {
   "cell_type": "code",
   "execution_count": 121,
   "id": "8348f518-3adf-4899-99f4-fcd3ee381602",
   "metadata": {
    "tags": []
   },
   "outputs": [
    {
     "data": {
      "text/plain": [
       "30"
      ]
     },
     "execution_count": 121,
     "metadata": {},
     "output_type": "execute_result"
    }
   ],
   "source": [
    "(2+3)*6"
   ]
  },
  {
   "cell_type": "markdown",
   "id": "c1b6a794-d95b-4fd3-820d-f87e2a28f252",
   "metadata": {},
   "source": [
    "Auch wenn man keine Klammern setzen muss, bspw. im 3+4\\*2 ist es oft schöner /leichter zu lesen mit Klammern.\n",
    "\n",
    "Daher, im Zweifel nutzt Klammern"
   ]
  },
  {
   "cell_type": "code",
   "execution_count": 122,
   "id": "153313c0-992a-4d0d-aa41-c22b806d7a30",
   "metadata": {
    "tags": []
   },
   "outputs": [
    {
     "data": {
      "text/plain": [
       "583"
      ]
     },
     "execution_count": 122,
     "metadata": {},
     "output_type": "execute_result"
    }
   ],
   "source": [
    "24**2+4*2*1-1**3"
   ]
  },
  {
   "cell_type": "code",
   "execution_count": 123,
   "id": "75bad7dc-de88-40ab-958a-cc0f503568e1",
   "metadata": {
    "tags": []
   },
   "outputs": [
    {
     "data": {
      "text/plain": [
       "583"
      ]
     },
     "execution_count": 123,
     "metadata": {},
     "output_type": "execute_result"
    }
   ],
   "source": [
    "(24**2)+(4*2*1)-(1**3)"
   ]
  },
  {
   "cell_type": "markdown",
   "id": "b9aa02ad-e1f6-4d2c-a943-d6be8cfbc46f",
   "metadata": {},
   "source": [
    "Wenn die Operatoren aber die gleich \"Wertigkeiten\" bspw. alles + und - , dann wird zumeist von links nach rechts evaluiert"
   ]
  },
  {
   "cell_type": "code",
   "execution_count": 124,
   "id": "21cebe74-9a13-4164-8836-533cdbd8d679",
   "metadata": {
    "tags": []
   },
   "outputs": [
    {
     "data": {
      "text/plain": [
       "8"
      ]
     },
     "execution_count": 124,
     "metadata": {},
     "output_type": "execute_result"
    }
   ],
   "source": [
    "4+5-1"
   ]
  },
  {
   "cell_type": "code",
   "execution_count": 125,
   "id": "6cef97b3-fd5c-4313-a444-d5f9063ae046",
   "metadata": {
    "tags": []
   },
   "outputs": [
    {
     "data": {
      "text/plain": [
       "50.0"
      ]
     },
     "execution_count": 125,
     "metadata": {},
     "output_type": "execute_result"
    }
   ],
   "source": [
    "5*4/2*5"
   ]
  },
  {
   "cell_type": "code",
   "execution_count": 126,
   "id": "49f10e33-477f-4c1e-8d11-1d47ef903d6f",
   "metadata": {
    "tags": []
   },
   "outputs": [
    {
     "data": {
      "text/plain": [
       "8"
      ]
     },
     "execution_count": 126,
     "metadata": {},
     "output_type": "execute_result"
    }
   ],
   "source": [
    "2**3"
   ]
  },
  {
   "cell_type": "code",
   "execution_count": 127,
   "id": "d49b557c-9b7e-4136-a696-595bdc65a2b3",
   "metadata": {
    "tags": []
   },
   "outputs": [
    {
     "data": {
      "text/plain": [
       "9"
      ]
     },
     "execution_count": 127,
     "metadata": {},
     "output_type": "execute_result"
    }
   ],
   "source": [
    "3**2"
   ]
  },
  {
   "cell_type": "code",
   "execution_count": 128,
   "id": "11d34482-845b-4497-8038-796420fef574",
   "metadata": {
    "tags": []
   },
   "outputs": [
    {
     "data": {
      "text/plain": [
       "64"
      ]
     },
     "execution_count": 128,
     "metadata": {},
     "output_type": "execute_result"
    }
   ],
   "source": [
    "8**2"
   ]
  },
  {
   "cell_type": "code",
   "execution_count": 129,
   "id": "4edd39eb-bcd4-4b52-a5a3-b1545b9473c6",
   "metadata": {
    "tags": []
   },
   "outputs": [
    {
     "data": {
      "text/plain": [
       "512"
      ]
     },
     "execution_count": 129,
     "metadata": {},
     "output_type": "execute_result"
    }
   ],
   "source": [
    "2**9"
   ]
  },
  {
   "cell_type": "code",
   "execution_count": 132,
   "id": "7db1f79f-a4f4-463b-a94b-f1ffac35ad55",
   "metadata": {
    "tags": []
   },
   "outputs": [
    {
     "data": {
      "text/plain": [
       "512"
      ]
     },
     "execution_count": 132,
     "metadata": {},
     "output_type": "execute_result"
    }
   ],
   "source": [
    "2**3**2 # Ohne Klammern von rechts nach links"
   ]
  },
  {
   "cell_type": "code",
   "execution_count": 130,
   "id": "5d802e9b-8677-40ca-a67a-a33e8edb89c7",
   "metadata": {
    "tags": []
   },
   "outputs": [
    {
     "data": {
      "text/plain": [
       "64"
      ]
     },
     "execution_count": 130,
     "metadata": {},
     "output_type": "execute_result"
    }
   ],
   "source": [
    "(2**3)**2 # wäre das Ergebnis wenn von links nach rechts gerechnet würde"
   ]
  },
  {
   "cell_type": "code",
   "execution_count": 131,
   "id": "1c71ab21-fecd-4a09-b08d-e0b1610fa471",
   "metadata": {
    "tags": []
   },
   "outputs": [
    {
     "data": {
      "text/plain": [
       "512"
      ]
     },
     "execution_count": 131,
     "metadata": {},
     "output_type": "execute_result"
    }
   ],
   "source": [
    "2**(3**2) # explizit von rechts nach links => gleich zu ohne Klammern"
   ]
  },
  {
   "cell_type": "code",
   "execution_count": 133,
   "id": "74c58eb3-0f0a-4c36-96b2-464912e85b86",
   "metadata": {
    "tags": []
   },
   "outputs": [
    {
     "data": {
      "text/plain": [
       "-8"
      ]
     },
     "execution_count": 133,
     "metadata": {},
     "output_type": "execute_result"
    }
   ],
   "source": [
    "(-2)**3"
   ]
  },
  {
   "cell_type": "code",
   "execution_count": 134,
   "id": "2d3796fc-bc3a-4aef-b7fc-356e1cce8e40",
   "metadata": {
    "tags": []
   },
   "outputs": [
    {
     "data": {
      "text/plain": [
       "-8"
      ]
     },
     "execution_count": 134,
     "metadata": {},
     "output_type": "execute_result"
    }
   ],
   "source": [
    "-2**3"
   ]
  },
  {
   "cell_type": "code",
   "execution_count": 135,
   "id": "cf150a65-d677-4fc9-bf7a-34fd65b37bfe",
   "metadata": {
    "tags": []
   },
   "outputs": [
    {
     "data": {
      "text/plain": [
       "-9"
      ]
     },
     "execution_count": 135,
     "metadata": {},
     "output_type": "execute_result"
    }
   ],
   "source": [
    "-3**2 # -3*-3 => 9 es könnte -(3*3)"
   ]
  },
  {
   "cell_type": "code",
   "execution_count": 136,
   "id": "2435ca73-65b7-4897-9650-9749865805cd",
   "metadata": {
    "scrolled": true,
    "tags": []
   },
   "outputs": [
    {
     "data": {
      "text/plain": [
       "-9"
      ]
     },
     "execution_count": 136,
     "metadata": {},
     "output_type": "execute_result"
    }
   ],
   "source": [
    "-(3**2)"
   ]
  }
 ],
 "metadata": {
  "kernelspec": {
   "display_name": "Python 3 (ipykernel)",
   "language": "python",
   "name": "python3"
  },
  "language_info": {
   "codemirror_mode": {
    "name": "ipython",
    "version": 3
   },
   "file_extension": ".py",
   "mimetype": "text/x-python",
   "name": "python",
   "nbconvert_exporter": "python",
   "pygments_lexer": "ipython3",
   "version": "3.12.3"
  }
 },
 "nbformat": 4,
 "nbformat_minor": 5
}
