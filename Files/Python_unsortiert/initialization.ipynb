{
 "cells": [
  {
   "cell_type": "markdown",
   "id": "be62cd05-bd6e-4b7d-8dd0-aa9321394a92",
   "metadata": {},
   "source": [
    "# Initialization / Initialisierung"
   ]
  },
  {
   "cell_type": "markdown",
   "id": "ccfbc7cb-92c9-4ee4-8db6-cdaed2825382",
   "metadata": {},
   "source": [
    "Die Initialisierung in Python besteht hauptsächlich aus zwei Schritten:\n",
    "- der Erstellung eines neuen Objekts\n",
    "- und der Initialisierung dieses Objekts.\n",
    "\n",
    "Dies wird durch zwei spezielle Methoden erreicht: `__new__` und `__init__`."
   ]
  },
  {
   "cell_type": "markdown",
   "id": "6db5f97b-cde8-4b98-85c5-f475b9235edb",
   "metadata": {},
   "source": [
    "Siehe auch: [`__new__`](n__new__.ipynb)"
   ]
  },
  {
   "cell_type": "markdown",
   "id": "712f9146-8d4d-49d7-bee2-514e1b0bee24",
   "metadata": {},
   "source": [
    "Siehe auch: [`__init__`](i__init__.ipynb)"
   ]
  },
  {
   "cell_type": "markdown",
   "id": "c37566c5-a07b-4460-8682-914f80e9dccc",
   "metadata": {},
   "source": [
    "Der Initialisierer (`__init__`) ist Verantwortlich für die Initialisierung des neuen Objekts. \n",
    "`__init__` initialisiert die Instanzvariablen."
   ]
  },
  {
   "cell_type": "markdown",
   "id": "ea4f9e1d-6b2e-40dc-bcff-938c23566665",
   "metadata": {},
   "source": [
    "Initialisieren bedeutet, dass ein Objekt in einen definierten Anfangszustand versetzt wird. Dabei werden alle notwendigen Anfangswerte für die Attribute des Objekts festgelegt. Der Initialisierungsprozess sorgt dafür, dass das Objekt korrekt und vollständig aufgebaut ist, bevor es verwendet wird."
   ]
  },
  {
   "cell_type": "markdown",
   "id": "1c3c4b3a-be4a-4dde-b90d-71b8113769dc",
   "metadata": {},
   "source": [
    "In Python bezieht sich \"Initialisierung\" auf den Prozess, bei dem einer Variablen oder einem Objekt bei dessen Erstellung ein Anfangswert zugewiesen wird."
   ]
  },
  {
   "cell_type": "code",
   "execution_count": 6,
   "id": "07f2c023-50d9-4bed-a122-95c4e9e2d44d",
   "metadata": {},
   "outputs": [],
   "source": [
    "x = 10  # x wird mit dem Wert 10 initialisiert\n",
    "y = \"Hallo, Welt!\"  # y wird mit dem String \"Hallo, Welt!\" initialisiert"
   ]
  },
  {
   "cell_type": "markdown",
   "id": "3d844df9-1b7d-4fd0-841f-3bac64dfe0cb",
   "metadata": {},
   "source": [
    "Die Initialisierung findet nur EINMAL statt."
   ]
  },
  {
   "cell_type": "markdown",
   "id": "b48c6ce3-babd-4a60-b0fd-082cea20fdfc",
   "metadata": {},
   "source": [
    "Genau so wie Variablen werden auch Module inititalisiert."
   ]
  },
  {
   "cell_type": "markdown",
   "id": "f3d2fd58-9e0b-4587-95b7-f1310bb8d4f5",
   "metadata": {},
   "source": [
    "Python importiert ein Modul nur EIN MAL. Es merkt sich heimlich, ob es schon importiert wurde, statt es doppelt und dreifach zu importieren, nur weil du den Code öfter als nötig ausführst."
   ]
  },
  {
   "cell_type": "markdown",
   "id": "190f504b-16c4-4349-b6d2-f6b1a1f1f55b",
   "metadata": {},
   "source": [
    "### Bonus:"
   ]
  },
  {
   "cell_type": "markdown",
   "id": "dc45943d-121c-4029-8800-3e4acb4fc420",
   "metadata": {},
   "source": [
    "Bei der Erstellung und Initialisierung eines Objekts können noch weitere Methoden im Hintergrund aufgerufen werden:"
   ]
  },
  {
   "cell_type": "markdown",
   "id": "b4f0d6ed-4338-44e3-9d92-2ed4cb483558",
   "metadata": {},
   "source": [
    "- `__class__`: Gibt die Klasse des Objekts zurück.\n",
    "- `__del__`: Destruktor-Methode, wird aufgerufen, wenn ein Objekt zerstört wird.\n",
    "- `__repr__` und `__str__`: Methoden zur Darstellung eines Objekts.\n",
    "- `__eq__`, `__lt__`, `__gt__` etc.: Methoden für Vergleichsoperationen.\n",
    "- `__call__`: Ermöglicht es, eine Instanz wie eine Funktion aufzurufen"
   ]
  },
  {
   "cell_type": "markdown",
   "id": "a53b6587-6c1a-4f26-89fb-b92cf187156f",
   "metadata": {},
   "source": [
    "Beispiel:"
   ]
  },
  {
   "cell_type": "code",
   "execution_count": 1,
   "id": "a5593c00-6535-4839-8091-b0b5a40da85a",
   "metadata": {},
   "outputs": [
    {
     "name": "stdout",
     "output_type": "stream",
     "text": [
      "Calling __new__\n",
      "Calling __init__\n",
      "Example with value 42\n"
     ]
    }
   ],
   "source": [
    "class Example:\n",
    "    def __new__(cls, value):\n",
    "        print(\"Calling __new__\")\n",
    "        instance = super().__new__(cls)\n",
    "        return instance\n",
    "\n",
    "    def __init__(self, value):\n",
    "        print(\"Calling __init__\")\n",
    "        self.value = value\n",
    "\n",
    "    def __repr__(self):\n",
    "        return f\"Example(value={self.value})\"\n",
    "\n",
    "    def __str__(self):\n",
    "        return f\"Example with value {self.value}\"\n",
    "\n",
    "    def __del__(self):\n",
    "        print(f\"Destroying instance with value {self.value}\")\n",
    "\n",
    "example = Example(42)\n",
    "print(example)\n"
   ]
  },
  {
   "cell_type": "markdown",
   "id": "d93c2bfb-f7e1-43da-b119-3c92c8b5b3a6",
   "metadata": {},
   "source": [
    "In diesem Beispiel wird bei der Instanziierung die `__new__` Methode aufgerufen, um eine neue Instanz zu erstellen, gefolgt von der `__init__` Methode, um die Instanz zu initialisieren. `__repr__` und `__str__` definieren die Darstellung der Instanz, und `__del__` wird aufgerufen, wenn das Objekt zerstört wird."
   ]
  },
  {
   "cell_type": "code",
   "execution_count": null,
   "id": "f8d1c638-9abb-4dbb-8648-b45771fb7bbe",
   "metadata": {},
   "outputs": [],
   "source": []
  },
  {
   "cell_type": "code",
   "execution_count": null,
   "id": "1f80a4bf-530e-4ed3-82c2-27dc4b90ab16",
   "metadata": {},
   "outputs": [],
   "source": []
  },
  {
   "cell_type": "code",
   "execution_count": null,
   "id": "add8232b-a021-48c6-aeaa-992ab44fddc6",
   "metadata": {},
   "outputs": [],
   "source": []
  },
  {
   "cell_type": "code",
   "execution_count": null,
   "id": "4ea8369c-63a8-4c98-9f30-dc362d33bd0f",
   "metadata": {},
   "outputs": [],
   "source": []
  },
  {
   "cell_type": "code",
   "execution_count": null,
   "id": "c23d33e7-e13f-4c99-84e3-9e461e1e5796",
   "metadata": {},
   "outputs": [],
   "source": []
  }
 ],
 "metadata": {
  "kernelspec": {
   "display_name": "Python 3 (ipykernel)",
   "language": "python",
   "name": "python3"
  },
  "language_info": {
   "codemirror_mode": {
    "name": "ipython",
    "version": 3
   },
   "file_extension": ".py",
   "mimetype": "text/x-python",
   "name": "python",
   "nbconvert_exporter": "python",
   "pygments_lexer": "ipython3",
   "version": "3.12.6"
  }
 },
 "nbformat": 4,
 "nbformat_minor": 5
}
