{
 "cells": [
  {
   "cell_type": "markdown",
   "id": "df4f073b-4454-4787-af56-57637ff48bea",
   "metadata": {},
   "source": [
    "[Zurück zum Inhaltsverzeichnis](_Inhaltsverzeichnis_.ipynb)"
   ]
  },
  {
   "cell_type": "markdown",
   "id": "d7eef809-7d16-4b76-a108-01fc4a0ae076",
   "metadata": {},
   "source": [
    "## Definition von legalem und illegalem Code, sowie legalem, aber hässlichem Code..."
   ]
  },
  {
   "cell_type": "markdown",
   "id": "b18ffbc7-3035-4526-bf07-0aaaf37fddb2",
   "metadata": {},
   "source": [
    "**Legale Variable:**"
   ]
  },
  {
   "cell_type": "markdown",
   "id": "28ede123-4ecc-48bf-859e-004c3bddcb33",
   "metadata": {},
   "source": [
    "- willkürliche folge von Zeichen\n",
    "- verwendet Unterschriche zur Verbesserung der Lesbarkeit\n"
   ]
  },
  {
   "cell_type": "code",
   "execution_count": 7,
   "id": "9770f628-a80e-4cbf-8ac1-02e2107b1e27",
   "metadata": {},
   "outputs": [],
   "source": [
    "willkürliche_zeichen_A1 = \"Hello\""
   ]
  },
  {
   "cell_type": "markdown",
   "id": "226447b7-3e01-4828-8df5-6fb62a720ecc",
   "metadata": {},
   "source": [
    "**Illegale Variablen:**\n",
    "\n",
    "- Beginnt mit einer Zahl\n",
    "- Enthält ein Leerzeichen\n",
    "- Keine Sonderzeichen"
   ]
  },
  {
   "cell_type": "markdown",
   "id": "1a57dcba-d52d-4233-b159-61a038e728cd",
   "metadata": {},
   "source": [
    "Beispiel:"
   ]
  },
  {
   "cell_type": "code",
   "execution_count": 123,
   "id": "f5fdd822-292a-4619-b4b5-7a3799a26267",
   "metadata": {},
   "outputs": [
    {
     "ename": "SyntaxError",
     "evalue": "invalid decimal literal (3840608934.py, line 1)",
     "output_type": "error",
     "traceback": [
      "\u001b[1;36m  Cell \u001b[1;32mIn[123], line 1\u001b[1;36m\u001b[0m\n\u001b[1;33m    10_variable\u001b[0m\n\u001b[1;37m      ^\u001b[0m\n\u001b[1;31mSyntaxError\u001b[0m\u001b[1;31m:\u001b[0m invalid decimal literal\n"
     ]
    }
   ],
   "source": [
    "10_variable"
   ]
  },
  {
   "cell_type": "code",
   "execution_count": 124,
   "id": "b51708dc-2b0c-440d-8460-d6049826bf9d",
   "metadata": {},
   "outputs": [
    {
     "ename": "SyntaxError",
     "evalue": "invalid syntax (2852398399.py, line 1)",
     "output_type": "error",
     "traceback": [
      "\u001b[1;36m  Cell \u001b[1;32mIn[124], line 1\u001b[1;36m\u001b[0m\n\u001b[1;33m    variable 10\u001b[0m\n\u001b[1;37m             ^\u001b[0m\n\u001b[1;31mSyntaxError\u001b[0m\u001b[1;31m:\u001b[0m invalid syntax\n"
     ]
    }
   ],
   "source": [
    "variable 10"
   ]
  },
  {
   "cell_type": "code",
   "execution_count": 4,
   "id": "b9d36ff5-3c0f-48fa-b57b-0ef37493e987",
   "metadata": {},
   "outputs": [
    {
     "ename": "SyntaxError",
     "evalue": "invalid syntax (770517273.py, line 1)",
     "output_type": "error",
     "traceback": [
      "\u001b[1;36m  Cell \u001b[1;32mIn[4], line 1\u001b[1;36m\u001b[0m\n\u001b[1;33m    a! = \"Hello\"\u001b[0m\n\u001b[1;37m     ^\u001b[0m\n\u001b[1;31mSyntaxError\u001b[0m\u001b[1;31m:\u001b[0m invalid syntax\n"
     ]
    }
   ],
   "source": [
    "a! = \"Hello\""
   ]
  },
  {
   "cell_type": "markdown",
   "id": "1468ca17-9e56-48fc-adf2-33ca2fde3dea",
   "metadata": {},
   "source": [
    "**Legaler aber hässlicher Code:**"
   ]
  },
  {
   "cell_type": "code",
   "execution_count": 8,
   "id": "71f172f5-5a36-496d-b713-c0333924c6e4",
   "metadata": {},
   "outputs": [],
   "source": [
    "ichbineinelegalevariableundjederhasstmichdafür = \"Hello, World!\""
   ]
  },
  {
   "cell_type": "code",
   "execution_count": 9,
   "id": "efddb009-86b8-4bf6-bd7e-870d878852df",
   "metadata": {},
   "outputs": [],
   "source": [
    "uqhfuhsdufgisjgfuwhufwehgiuwsoigjiowjgopwsopgjoiwjgfsjghiuwhgiuwsjkfnsjdhgushifjposkopfksülapslkdfokwaüpoüpwfksogofsakgwskfgkowkgowkfgksokgowekfogwkogkwsogkowskgpowskgoksaälfgskgkswkajfskgkswkm = \"Hello, World!\""
   ]
  }
 ],
 "metadata": {
  "kernelspec": {
   "display_name": "Python 3 (ipykernel)",
   "language": "python",
   "name": "python3"
  },
  "language_info": {
   "codemirror_mode": {
    "name": "ipython",
    "version": 3
   },
   "file_extension": ".py",
   "mimetype": "text/x-python",
   "name": "python",
   "nbconvert_exporter": "python",
   "pygments_lexer": "ipython3",
   "version": "3.12.3"
  }
 },
 "nbformat": 4,
 "nbformat_minor": 5
}
