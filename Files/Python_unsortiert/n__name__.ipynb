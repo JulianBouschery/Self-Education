{
 "cells": [
  {
   "cell_type": "markdown",
   "id": "a09e47df-f6a7-4471-9425-a63bc427fac5",
   "metadata": {},
   "source": [
    "[Zurück zum Inhaltsverzeichnis](_Inhaltsverzeichnis_.ipynb)"
   ]
  },
  {
   "cell_type": "markdown",
   "id": "ff163def-f7e5-48d2-bfd8-6db7f1a22786",
   "metadata": {},
   "source": [
    "# `__name__`"
   ]
  },
  {
   "cell_type": "markdown",
   "id": "ed2003d3-28e4-46a9-90d7-65a3d599d904",
   "metadata": {},
   "source": [
    "## Überblick"
   ]
  },
  {
   "cell_type": "markdown",
   "id": "f31d3261-a1fa-43b7-bcfb-0bcd2f0db1af",
   "metadata": {},
   "source": [
    "\n",
    "Name der Funktion: `__name__` ist eine Attribut (KEINE Funktion/Methode)\n",
    "\n",
    "Instanz der Klasse: built-in Attribut\n",
    "\n",
    "Syntax:\n",
    "\n",
    "`Objetct.__name__` --> Findet Namen des Objekts heraus                                                                   \n",
    "`__name__` --> wird zu `__main__` oder dem Namen der Datei in der der Code steht\n",
    "\n",
    "```python\n",
    "Parameter: \n",
    "    \n",
    "```\n",
    "Funktion: \n",
    "\n",
    "Die **Variable** `__name__` ist ein spezielles Built-in-Attribut in Python, das den Namen des **aktuellen** Objekts auf das sie angewandt wird, als String wiedergibt. Auf eine Klasse oder die Instanz einer Klasse angewandt gibt `__name__` den Namen der Klasse wieder. Klasse_X.__name__ = Klasse_X | Instanz_der_Klasse_X.__name__ = Klasse_X\n",
    "\n",
    "Wird es frei stehend angewandt nimmt `__name__` den Namen der Datei an, in der der Code ausgeführt wird (Beispielmodule1.py). Wird der Code im Hauptprogramm ausgeführt, wird der Wert von `__name__` auf `__main__` gesetzt. Manchmal kann es wichtig sein zu wissen, wo der Code Ausgeführt wird und `__name__` ist ein Indikator dafür.\n",
    "\n",
    "\n",
    "Default return: \n",
    "```python\n",
    "None\n",
    "```\n",
    "Weiter Verwendung:\n",
    "```python\n",
    "if __name__ == \"__main__\":\n",
    "    print(\"Dieser Code wird nur ausgeführt, wenn die Datei direkt ausgeführt wird.\")\n",
    "```\n",
    "Error: TypeError"
   ]
  },
  {
   "cell_type": "markdown",
   "id": "3ba5396d-87d9-466a-8a6a-fb24d089a569",
   "metadata": {},
   "source": [
    "#### Instanz"
   ]
  },
  {
   "cell_type": "code",
   "execution_count": 10,
   "id": "ac568b15-9bf4-49be-b9ed-046bcd8bb1a5",
   "metadata": {},
   "outputs": [
    {
     "name": "stdout",
     "output_type": "stream",
     "text": [
      "<class 'str'>\n"
     ]
    }
   ],
   "source": [
    "print(type(__name__))"
   ]
  },
  {
   "cell_type": "markdown",
   "id": "f8aff486-218a-42f9-8579-64c69ac43cc5",
   "metadata": {},
   "source": [
    "#### Parameter"
   ]
  },
  {
   "cell_type": "code",
   "execution_count": 9,
   "id": "a7f7aaee-4503-47f8-afe6-aa3047ac6ca6",
   "metadata": {},
   "outputs": [
    {
     "ename": "SyntaxError",
     "evalue": "invalid syntax (3189919056.py, line 1)",
     "output_type": "error",
     "traceback": [
      "\u001b[1;36m  Cell \u001b[1;32mIn[9], line 1\u001b[1;36m\u001b[0m\n\u001b[1;33m    __name__? # Das funktioniert nicht ganz\u001b[0m\n\u001b[1;37m            ^\u001b[0m\n\u001b[1;31mSyntaxError\u001b[0m\u001b[1;31m:\u001b[0m invalid syntax\n"
     ]
    }
   ],
   "source": [
    "__name__? # Das funktioniert nicht ganz"
   ]
  },
  {
   "cell_type": "markdown",
   "id": "daf106d7-2703-4ba7-ac30-33dd90d4a7d6",
   "metadata": {},
   "source": [
    "#### return"
   ]
  },
  {
   "cell_type": "code",
   "execution_count": 35,
   "id": "87c20454-7103-46f3-816a-005538ec3a3f",
   "metadata": {},
   "outputs": [
    {
     "data": {
      "text/plain": [
       "{}"
      ]
     },
     "execution_count": 35,
     "metadata": {},
     "output_type": "execute_result"
    }
   ],
   "source": [
    "# Default return: "
   ]
  },
  {
   "cell_type": "code",
   "execution_count": 37,
   "id": "0e2de6f1-0c34-4cb5-8523-75bdd9b369f0",
   "metadata": {},
   "outputs": [
    {
     "data": {
      "text/plain": [
       "{'key1': 'value1', 'key2': 'value2'}"
      ]
     },
     "execution_count": 37,
     "metadata": {},
     "output_type": "execute_result"
    }
   ],
   "source": [
    "# return: Mit Argumenten --> befülltes Dictionary\n",
    "dict2 = dict([(\"key1\",\"value1\"),(\"key2\",\"value2\")])\n",
    "dict2"
   ]
  },
  {
   "cell_type": "markdown",
   "id": "2b5b4a04-02fc-49e4-a0c9-7a63b341a8d5",
   "metadata": {},
   "source": [
    "### Error:"
   ]
  },
  {
   "cell_type": "code",
   "execution_count": 5,
   "id": "939192a9-0f79-4b5a-948e-e3fc97252d79",
   "metadata": {},
   "outputs": [
    {
     "ename": "TypeError",
     "evalue": "'str' object is not callable",
     "output_type": "error",
     "traceback": [
      "\u001b[1;31m---------------------------------------------------------------------------\u001b[0m",
      "\u001b[1;31mTypeError\u001b[0m                                 Traceback (most recent call last)",
      "Cell \u001b[1;32mIn[5], line 1\u001b[0m\n\u001b[1;32m----> 1\u001b[0m \u001b[38;5;18;43m__name__\u001b[39;49m\u001b[43m(\u001b[49m\u001b[43m)\u001b[49m\n",
      "\u001b[1;31mTypeError\u001b[0m: 'str' object is not callable"
     ]
    }
   ],
   "source": [
    "__name__()"
   ]
  },
  {
   "cell_type": "markdown",
   "id": "08c5d362-fbad-40f5-9766-964b063bb533",
   "metadata": {},
   "source": [
    "## Detailierte Erklärung"
   ]
  },
  {
   "cell_type": "markdown",
   "id": "2a788f3e-46b0-495b-983c-cbdddf0df944",
   "metadata": {},
   "source": [
    "Name ist eine VARIABLE, die jedes Pythonskript hat. ISe entspricht dem Namen der Datei. Im Hintergrund setzt Python die Variable auf __main__, sobald das skript laufen gelassen wird. Importiert man ein Module bleibt die die Variable jedoch so wie die Datei benannt ist. Dadurch lässt sich unterscheiden ob Code importiert wurde, oder aus dem aktuellen Skript stammt."
   ]
  },
  {
   "cell_type": "markdown",
   "id": "3450e1ca-0426-45e3-8fa6-0a7c5008fae4",
   "metadata": {},
   "source": [
    "Name gibt es für variablen funktionen module"
   ]
  },
  {
   "cell_type": "code",
   "execution_count": 3,
   "id": "44a7e1f1-9bd0-4961-923f-27f8db1b53a2",
   "metadata": {},
   "outputs": [
    {
     "data": {
      "text/plain": [
       "'test'"
      ]
     },
     "execution_count": 3,
     "metadata": {},
     "output_type": "execute_result"
    }
   ],
   "source": [
    "class test():\n",
    "    pass\n",
    "    \n",
    "test.__name__"
   ]
  },
  {
   "cell_type": "markdown",
   "id": "b0f4ef01-3615-406e-94dc-9b991df6e136",
   "metadata": {},
   "source": [
    "Der Name Klasse ist \"Test\""
   ]
  },
  {
   "cell_type": "code",
   "execution_count": null,
   "id": "9c81de77-f673-43f8-a8b5-15f6e18764cf",
   "metadata": {},
   "outputs": [],
   "source": []
  },
  {
   "cell_type": "code",
   "execution_count": null,
   "id": "4e676e88-8b78-484b-bedd-767edf9aff88",
   "metadata": {},
   "outputs": [],
   "source": []
  },
  {
   "cell_type": "code",
   "execution_count": null,
   "id": "d4dc98ae-ae52-452c-ac3c-1d5b3421a6b0",
   "metadata": {},
   "outputs": [],
   "source": []
  }
 ],
 "metadata": {
  "kernelspec": {
   "display_name": "Python 3 (ipykernel)",
   "language": "python",
   "name": "python3"
  },
  "language_info": {
   "codemirror_mode": {
    "name": "ipython",
    "version": 3
   },
   "file_extension": ".py",
   "mimetype": "text/x-python",
   "name": "python",
   "nbconvert_exporter": "python",
   "pygments_lexer": "ipython3",
   "version": "3.12.4"
  }
 },
 "nbformat": 4,
 "nbformat_minor": 5
}
