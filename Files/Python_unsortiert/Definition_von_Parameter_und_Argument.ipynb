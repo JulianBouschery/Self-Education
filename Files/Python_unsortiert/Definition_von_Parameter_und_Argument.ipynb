{
 "cells": [
  {
   "cell_type": "markdown",
   "id": "645b22a5-881e-45ab-b6a1-1a96b910b0f0",
   "metadata": {},
   "source": [
    "[Zurück zum Inhaltsverzeichnis](Inhaltsverzeichnis.ipynb)"
   ]
  },
  {
   "cell_type": "markdown",
   "id": "36da70c7-11de-49b0-8e47-1f8e7900f685",
   "metadata": {},
   "source": [
    "### Definition von \"Parameter\" und \"Argument\":"
   ]
  },
  {
   "cell_type": "markdown",
   "id": "5505e8cd-2003-46c9-a61c-50c70b8ece11",
   "metadata": {},
   "source": [
    "In Python werden die Begriffe \"Argument\" und \"Parameter\" oft synonym verwendet, aber sie haben spezifische Bedeutungen. "
   ]
  },
  {
   "cell_type": "markdown",
   "id": "23433dc5-c47e-4e33-a329-124ee3dd42b5",
   "metadata": {},
   "source": [
    "\"Parameter\" sind die Variablen, die in der Funktionsdefinition verwendet werden, um Werte anzunehmen. Sie sind Platzhalter für die Werte, die der Funktion übergeben werden."
   ]
  },
  {
   "cell_type": "code",
   "execution_count": 94,
   "id": "f31e992f-127f-49d1-a05b-de071c15d6eb",
   "metadata": {},
   "outputs": [],
   "source": [
    "def test(x,y,z): # x,y,z sind Parameter\n",
    "    print(x,y,z)"
   ]
  },
  {
   "cell_type": "markdown",
   "id": "8dd12ed5-f7ea-4bfd-bb08-9cbf67ea0eb1",
   "metadata": {},
   "source": [
    "\"Argumente\" sind die tatsächlichen Werte, die an eine Funktion übergeben werden, wenn sie aufgerufen wird. Diese Werte werden dann den entsprechenden Parametern zugeordnet."
   ]
  },
  {
   "cell_type": "code",
   "execution_count": 96,
   "id": "693952bc-3004-49db-bd36-a25621043346",
   "metadata": {},
   "outputs": [
    {
     "name": "stdout",
     "output_type": "stream",
     "text": [
      "1 2 3\n"
     ]
    }
   ],
   "source": [
    "test(1,2,3) # 1,2,3 sind Argumente"
   ]
  },
  {
   "cell_type": "markdown",
   "id": "4cf8c99c-9711-4a1a-9182-3e9dcbab3b17",
   "metadata": {},
   "source": [
    "Ja, Parameter können auch als Argumente betrachtet werden, wenn sie Werte enthalten, die an eine Funktion übergeben werden. In dieser Hinsicht können die Begriffe austauschbar sein, abhängig von der Perspektive, aus der Sie über die Funktion sprechen."
   ]
  },
  {
   "cell_type": "code",
   "execution_count": 1,
   "id": "14a5952e-76d6-4c47-bb90-14e20c6b7e90",
   "metadata": {},
   "outputs": [],
   "source": [
    "def test1(x = 1, y = 2, z = 3): # Hier sind x,y,z Parameter, denen direkt die Argumente 1,2 und 3 als \n",
    "                                # Default Werte zugeordnet wurden. \n",
    "    print(x,y,z)                "
   ]
  },
  {
   "cell_type": "code",
   "execution_count": 2,
   "id": "94808c1a-add8-43e9-8b06-28839f4d0bc2",
   "metadata": {},
   "outputs": [
    {
     "name": "stdout",
     "output_type": "stream",
     "text": [
      "1 2 3\n"
     ]
    }
   ],
   "source": [
    "test1()"
   ]
  },
  {
   "cell_type": "code",
   "execution_count": 5,
   "id": "93b8d1fb-05bb-4e9b-8aa0-fa308b718b06",
   "metadata": {},
   "outputs": [
    {
     "name": "stdout",
     "output_type": "stream",
     "text": [
      "4 5 6\n"
     ]
    }
   ],
   "source": [
    "test1(4,5,6) # Wenn du andere Werte einträgst wird der Default Wert überschriebentest1()"
   ]
  },
  {
   "cell_type": "code",
   "execution_count": 7,
   "id": "e0238777-7243-49b2-8e0c-efc7773ded3c",
   "metadata": {},
   "outputs": [
    {
     "name": "stdout",
     "output_type": "stream",
     "text": [
      "7 8 3\n"
     ]
    }
   ],
   "source": [
    "test1(7,8) # Werden nciht genügend Werte eingegeben wird auf Default zurückgegriffen"
   ]
  }
 ],
 "metadata": {
  "kernelspec": {
   "display_name": "Python 3 (ipykernel)",
   "language": "python",
   "name": "python3"
  },
  "language_info": {
   "codemirror_mode": {
    "name": "ipython",
    "version": 3
   },
   "file_extension": ".py",
   "mimetype": "text/x-python",
   "name": "python",
   "nbconvert_exporter": "python",
   "pygments_lexer": "ipython3",
   "version": "3.12.3"
  }
 },
 "nbformat": 4,
 "nbformat_minor": 5
}
