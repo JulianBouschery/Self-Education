{
 "cells": [
  {
   "cell_type": "markdown",
   "id": "a04a93a0-5b8b-4060-b9d1-bbf096d4d95a",
   "metadata": {},
   "source": [
    "# Abstraktion"
   ]
  },
  {
   "cell_type": "markdown",
   "id": "b99c10a5-0f49-4ce4-99a3-d3eca4531eda",
   "metadata": {},
   "source": [
    "Siehe auch: [Abstrakte Methoden](abstract_method.ipynb)"
   ]
  },
  {
   "cell_type": "markdown",
   "id": "205b22ee-d017-4019-8aae-3b90225b626e",
   "metadata": {},
   "source": [
    "Siehe auch: [Abstrakte Klassen](abstract_class.ipynb)"
   ]
  },
  {
   "cell_type": "markdown",
   "id": "d5b29afa-1688-4e27-a700-afb9d50e3700",
   "metadata": {},
   "source": [
    "Siehe auch: [import abc](import_abc.ipynb)"
   ]
  },
  {
   "cell_type": "markdown",
   "id": "bd34de42-5b74-4c86-a83b-2bc90d8f4be6",
   "metadata": {},
   "source": []
  },
  {
   "cell_type": "code",
   "execution_count": null,
   "id": "7ae247d1-509a-4288-8891-a64d7407cc6e",
   "metadata": {},
   "outputs": [],
   "source": []
  }
 ],
 "metadata": {
  "kernelspec": {
   "display_name": "Python 3 (ipykernel)",
   "language": "python",
   "name": "python3"
  },
  "language_info": {
   "codemirror_mode": {
    "name": "ipython",
    "version": 3
   },
   "file_extension": ".py",
   "mimetype": "text/x-python",
   "name": "python",
   "nbconvert_exporter": "python",
   "pygments_lexer": "ipython3",
   "version": "3.12.6"
  }
 },
 "nbformat": 4,
 "nbformat_minor": 5
}
