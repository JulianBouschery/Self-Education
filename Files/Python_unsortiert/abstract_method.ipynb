{
 "cells": [
  {
   "cell_type": "markdown",
   "id": "ffb08349-4442-4f36-ab7d-d9cb4a5638e9",
   "metadata": {},
   "source": [
    "# Abstrakte Methoden"
   ]
  },
  {
   "cell_type": "markdown",
   "id": "2fd3ba60-b782-4329-a1a2-d8ed6c3b7677",
   "metadata": {},
   "source": [
    "Siehe auch: [Abstrakte Klassen](abstract_class.ipynb)"
   ]
  },
  {
   "cell_type": "markdown",
   "id": "0d246e58-62f9-4fe9-af91-a43e22a2ae6b",
   "metadata": {},
   "source": [
    "Siehe auch: [import abc](import_abc.ipynb)"
   ]
  },
  {
   "cell_type": "code",
   "execution_count": null,
   "id": "11b434fa-335b-45a0-9377-162bc67584c4",
   "metadata": {},
   "outputs": [],
   "source": []
  }
 ],
 "metadata": {
  "kernelspec": {
   "display_name": "Python 3 (ipykernel)",
   "language": "python",
   "name": "python3"
  },
  "language_info": {
   "codemirror_mode": {
    "name": "ipython",
    "version": 3
   },
   "file_extension": ".py",
   "mimetype": "text/x-python",
   "name": "python",
   "nbconvert_exporter": "python",
   "pygments_lexer": "ipython3",
   "version": "3.12.4"
  }
 },
 "nbformat": 4,
 "nbformat_minor": 5
}
