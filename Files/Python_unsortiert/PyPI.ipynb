{
 "cells": [
  {
   "cell_type": "markdown",
   "id": "d2aee6e2-9dc9-4a1f-a494-eada74e46256",
   "metadata": {},
   "source": [
    "# PyPI (Python Package Index)"
   ]
  },
  {
   "cell_type": "markdown",
   "id": "a805490e-fa73-4945-8ff4-58d2b770c12f",
   "metadata": {},
   "source": [
    "Damit sich diese Welt drehen kann, müssen zwei grundlegende Einrichtungen geschaffen und in Bewegung gehalten werden:\n",
    "\n",
    "**ein zentraler Speicher** aller verfügbaren Softwarepakete und ein Werkzeug, das den Benutzern den **Zugriff auf den Speicher** ermöglicht. Diese beiden Einrichtungen sind bereits vorhanden und können jederzeit genutzt werden.\n"
   ]
  },
  {
   "cell_type": "markdown",
   "id": "0c7d36e6-0412-42f7-8f19-46adf37969ca",
   "metadata": {},
   "source": [
    "[Website zur Organisation](https://wiki.python.org/psf/PackagingWG)"
   ]
  },
  {
   "cell_type": "markdown",
   "id": "01906c3e-29db-484e-abb7-3b35fb880228",
   "metadata": {},
   "source": [
    "[Offizielle Seite](https://pypi.org/)"
   ]
  },
  {
   "cell_type": "markdown",
   "id": "59535fdb-6861-4be3-8039-5958030597a8",
   "metadata": {},
   "source": [
    "# pip"
   ]
  },
  {
   "cell_type": "markdown",
   "id": "c273bfd4-88e8-4d5e-b2f3-9402928e704e",
   "metadata": {},
   "source": [
    "Wenn ich da wirklich bock zu habe schau ich mir pip im Python Essentials Module 1 an. \n",
    "Ansonsten lerne ich für die Prüfung..."
   ]
  },
  {
   "cell_type": "code",
   "execution_count": null,
   "id": "9b369f4f-8353-4669-9068-0f8c0592306e",
   "metadata": {},
   "outputs": [],
   "source": []
  }
 ],
 "metadata": {
  "kernelspec": {
   "display_name": "Python 3 (ipykernel)",
   "language": "python",
   "name": "python3"
  },
  "language_info": {
   "codemirror_mode": {
    "name": "ipython",
    "version": 3
   },
   "file_extension": ".py",
   "mimetype": "text/x-python",
   "name": "python",
   "nbconvert_exporter": "python",
   "pygments_lexer": "ipython3",
   "version": "3.12.4"
  }
 },
 "nbformat": 4,
 "nbformat_minor": 5
}
