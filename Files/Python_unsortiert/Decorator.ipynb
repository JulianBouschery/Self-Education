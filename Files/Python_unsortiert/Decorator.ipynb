{
 "cells": [
  {
   "cell_type": "markdown",
   "id": "d2fb019b-8093-42db-badc-d8d5b75a5f1a",
   "metadata": {},
   "source": [
    "# Dekoratoren"
   ]
  },
  {
   "cell_type": "markdown",
   "id": "c678e0b4-9a49-4b11-9f0e-819f838e56c4",
   "metadata": {},
   "source": [
    "- Was passiert? (Funktion erklären)\n",
    "- Was ist das? (Definition formulieren)\n",
    "- Warum / Wie funktioniert das? (Hintergründe und Details)\n",
    "  All, das Hand von sehr vielen Beispielen erklären"
   ]
  },
  {
   "cell_type": "code",
   "execution_count": null,
   "id": "5813075a-d0a8-4981-adbd-dae404e4894b",
   "metadata": {},
   "outputs": [],
   "source": [
    "def mein_dekorator(funktion):\n",
    "    def wrapper():\n",
    "        print(\"Etwas vor der Funktion ausführen\")\n",
    "        funktion()\n",
    "        print(\"Etwas nach der Funktion ausführen\")\n",
    "    return wrapper\n",
    "\n",
    "@mein_dekorator\n",
    "def sag_hallo():\n",
    "    print(\"Hallo!\")\n",
    "\n",
    "sag_hallo()\n"
   ]
  },
  {
   "cell_type": "markdown",
   "id": "d9d2237d-f25a-48b6-ab07-52c8229604bd",
   "metadata": {},
   "source": [
    "Was zum Geier ist DAS?! Nagut schauen wir es uns iom Detail an..."
   ]
  },
  {
   "cell_type": "markdown",
   "id": "49a45507-d37d-44d0-9ac4-84453c00da3a",
   "metadata": {},
   "source": [
    "### Funktionsweise von Dekoratoren"
   ]
  },
  {
   "cell_type": "markdown",
   "id": "ff1d567a-0822-47a6-92f6-86e7eccdb967",
   "metadata": {},
   "source": [
    "Ein Dekorator ist im Wesentlichen eine Funktion, **die eine andere Funktion als Argument** annimmt, etwas damit macht, und eine Funktion zurückgibt. Hier ist ein einfaches Beispiel:"
   ]
  },
  {
   "cell_type": "code",
   "execution_count": null,
   "id": "a1540502-7d29-444c-857c-ace3a425c161",
   "metadata": {},
   "outputs": [],
   "source": [
    "def mein_dekorator(funktion):\n",
    "    def wrapper():\n",
    "        print(\"Etwas vor der Funktion ausführen\")\n",
    "        funktion()\n",
    "        print(\"Etwas nach der Funktion ausführen\")\n",
    "    return wrapper\n",
    "\n",
    "@mein_dekorator\n",
    "def sag_hallo():\n",
    "    print(\"Hallo!\")\n",
    "\n",
    "sag_hallo()\n"
   ]
  },
  {
   "cell_type": "markdown",
   "id": "2e607fd1-c407-4977-a7ae-17c6aed228d6",
   "metadata": {},
   "source": [
    "Dekoratoren sind spezielle Funktionen, die eine andere Funktion oder Methode modifizieren, OHNE ihre Definition dauerhaft zu ändern. Sie bieten eine elegante Art, das Verhalten von Funktionen oder Methoden zu erweitern oder zu verändern. Dekoratoren werden mit dem @-Symbol vor der Funktion definiert, die sie dekorieren sollen."
   ]
  },
  {
   "cell_type": "code",
   "execution_count": 4,
   "id": "25acd530-906f-417b-8ba2-3a90d0794656",
   "metadata": {},
   "outputs": [
    {
     "name": "stdout",
     "output_type": "stream",
     "text": [
      "Etwas vor der Funktion ausführen\n",
      "Dekoriert alles!!! ALLES!!!\n",
      "Etwas nach der Funktion ausführen\n"
     ]
    }
   ],
   "source": [
    "def my_decorator(function):\n",
    "    \n",
    "    # dekorieren() wird hier automatisch als Argument übergeben indem die Funktion my_decorator\n",
    "                            # verwendet wird. function scheint hier eine ähnliche Rolle wie self zu spielen.     \n",
    "    def wrapper(): # wrapper ist hier offenbar die \n",
    "        print(\"Etwas vor der Funktion ausführen\")\n",
    "        function()\n",
    "        print(\"Etwas nach der Funktion ausführen\")\n",
    "    return wrapper\n",
    "\n",
    "@my_decorator # Dekoratorfunktion die ihren Inhalt an def my_decorator(function) als Argument übergibt\n",
    "def dekorieren():\n",
    "    print(\"Dekoriert alles!!! ALLES!!!\")\n",
    "\n",
    "dekorieren()"
   ]
  },
  {
   "cell_type": "code",
   "execution_count": 5,
   "id": "95e6a01d-a49e-4614-964d-a629afd276af",
   "metadata": {},
   "outputs": [
    {
     "name": "stdout",
     "output_type": "stream",
     "text": [
      "Etwas vor der Funktion ausführen\n",
      "Etwas nach der Funktion ausführen\n"
     ]
    }
   ],
   "source": [
    "def my_decorator(dekorieren()): # dekorieren() wird hier als Argument übergeben\n",
    "    \n",
    "    def wrapper(): # wrapper ist hier offenbar die \n",
    "        print(\"Etwas vor der Funktion ausführen\")\n",
    "\n",
    "        \n",
    "        # Analog zu \"function\"\n",
    "        def dekorieren():\n",
    "            print(\"Dekoriert alles!!! ALLES!!!\")\n",
    "\n",
    "        \n",
    "        print(\"Etwas nach der Funktion ausführen\")\n",
    "    return wrapper\n",
    "\n",
    "@my_decorator # Dekoratorfunktion die \"dekorieren()\" an \"def my_decorator( ! function ! )\"\" als Argument übergibt\n",
    "def dekorieren():\n",
    "    print(\"Dekoriert alles!!! ALLES!!!\")\n",
    "\n",
    "dekorieren()"
   ]
  },
  {
   "cell_type": "markdown",
   "id": "bfc84a37-0598-430a-8e04-3d7df2ce85b6",
   "metadata": {},
   "source": [
    "Beispiele für vordefinierte Dekoratoren in Python:\n",
    "\n",
    "- @staticmethod: Kennzeichnet eine Methode als statisch, d.h., sie hat keinen Zugriff auf die Instanz (self) oder die Klasse (cls).\n",
    "- @classmethod: Kennzeichnet eine Methode als Klassenmethode, d.h., sie hat Zugriff auf die Klasse (cls), aber nicht auf die Instanz.\n",
    "- @property: Wandelt eine Methode in eine Eigenschaft um, die wie ein Attribut aufgerufen werden kann."
   ]
  },
  {
   "cell_type": "code",
   "execution_count": null,
   "id": "29746227-8c2b-4930-86d7-9a8e05ff362a",
   "metadata": {},
   "outputs": [],
   "source": [
    "def zugriffskontrolle(funktion):\n",
    "    def wrapper(*args, **kwargs):\n",
    "        if not user_ist_autorisiert():\n",
    "            raise PermissionError(\"Zugriff verweigert\")\n",
    "        return funktion(*args, **kwargs)\n",
    "    return wrapper\n",
    "\n",
    "@zugriffskontrolle\n",
    "def gesperrte_funktion():\n",
    "    print(\"Diese Funktion ist geschützt\")\n",
    "\n",
    "def user_ist_autorisiert():\n",
    "    return True  # Hier würde man echte Logik zur Überprüfung der Benutzerberechtigung einfügen\n",
    "\n",
    "gesperrte_funktion()\n"
   ]
  },
  {
   "cell_type": "markdown",
   "id": "ee11f528-f7d5-432f-a9ac-d5605c432fa3",
   "metadata": {},
   "source": [
    "### Fortgeschrittenes Beispiel:"
   ]
  },
  {
   "cell_type": "code",
   "execution_count": null,
   "id": "fe3d69ac-7725-4a41-b30d-f6130ae4c69f",
   "metadata": {},
   "outputs": [],
   "source": [
    "class SimpleDecorator:\n",
    "    def __init__(self, target_func):\n",
    "        self.func = target_func\n",
    "        \n",
    "    def __call__(self, *args, **kwargs):\n",
    "        print(\"Run __call__\")\n",
    "        self.func(*args, **kwargs)\n",
    "        print(\"Decorator still running\")\n",
    "        \n",
    "\n",
    "\n",
    "@SimpleDecorator\n",
    "def combiner(*args, **kwargs):\n",
    "    print(\"Run combiner\")\n",
    "    print(args)\n",
    "    print(kwargs)\n",
    "    \n",
    "combiner(\"a\", \"b\", first=100, second=200)\n",
    "print(type(combiner))\n",
    "\n"
   ]
  },
  {
   "cell_type": "code",
   "execution_count": null,
   "id": "06cb7184-4e29-49df-a793-a678e9ebf80c",
   "metadata": {},
   "outputs": [],
   "source": [
    "import time\n",
    "\n",
    "\n",
    "class TimingDecorator:\n",
    "\n",
    "\n",
    "    def __init__(self, units=\"seconds\"):\n",
    "        self.units = units\n",
    "\n",
    "\n",
    "    def __call__(self, target_func):\n",
    "        def wrapper(*args, **kwargs):\n",
    "            start_time = time.time()\n",
    "            result = target_func(*args, **kwargs)\n",
    "            end_time = time.time()\n",
    "            execution_time = end_time - start_time\n",
    "            if self.units == \"milliseconds\":\n",
    "                execution_time *= 1000\n",
    "            print(f\"Execution time: {execution_time:.2f} {self.units}\")\n",
    "            return result\n",
    "        return wrapper\n",
    "    \n",
    "\n",
    "\n",
    "@TimingDecorator(units=\"milliseconds\")\n",
    "def loop_range(limit):\n",
    "    result_sum = sum([i * 2 for i in range(limit)])\n",
    "    return result_sum\n",
    "\n",
    "\n",
    "print(type(loop_range))\n",
    "print(loop_range(10000000))\n",
    "hat Kontextmenü"
   ]
  },
  {
   "cell_type": "markdown",
   "id": "400ee229-3140-47d2-b720-0886de7a94f3",
   "metadata": {},
   "source": [
    "## Bonus"
   ]
  },
  {
   "cell_type": "markdown",
   "id": "f51607d8-718e-4564-b052-5be0264d6256",
   "metadata": {},
   "source": [
    "Externer Content, der ÜBER den Stoff des Kurses hinausgeht: [Decorators Tutorial](https://realpython.com/primer-on-python-decorators/)"
   ]
  },
  {
   "cell_type": "code",
   "execution_count": null,
   "id": "6252a245-e906-4cc5-b396-4efa9d611e53",
   "metadata": {},
   "outputs": [],
   "source": [
    "socratia animierte Videos zu python\n",
    "Corey Schafer"
   ]
  }
 ],
 "metadata": {
  "kernelspec": {
   "display_name": "Python 3 (ipykernel)",
   "language": "python",
   "name": "python3"
  },
  "language_info": {
   "codemirror_mode": {
    "name": "ipython",
    "version": 3
   },
   "file_extension": ".py",
   "mimetype": "text/x-python",
   "name": "python",
   "nbconvert_exporter": "python",
   "pygments_lexer": "ipython3",
   "version": "3.12.4"
  }
 },
 "nbformat": 4,
 "nbformat_minor": 5
}
