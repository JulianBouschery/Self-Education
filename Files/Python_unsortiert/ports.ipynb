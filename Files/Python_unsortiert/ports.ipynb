{
 "cells": [
  {
   "cell_type": "markdown",
   "id": "48fb6d51-dee7-48ed-bd93-25231ce017a2",
   "metadata": {},
   "source": [
    "# Ports"
   ]
  },
  {
   "cell_type": "markdown",
   "id": "4db0b243-57be-45b9-b443-2d17f86b7367",
   "metadata": {},
   "source": [
    "https://de.wikipedia.org/wiki/Liste_der_Portnummern"
   ]
  }
 ],
 "metadata": {
  "kernelspec": {
   "display_name": "Python 3 (ipykernel)",
   "language": "python",
   "name": "python3"
  },
  "language_info": {
   "codemirror_mode": {
    "name": "ipython",
    "version": 3
   },
   "file_extension": ".py",
   "mimetype": "text/x-python",
   "name": "python",
   "nbconvert_exporter": "python",
   "pygments_lexer": "ipython3",
   "version": "3.12.4"
  }
 },
 "nbformat": 4,
 "nbformat_minor": 5
}
