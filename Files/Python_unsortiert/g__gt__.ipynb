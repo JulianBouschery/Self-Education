{
 "cells": [
  {
   "cell_type": "markdown",
   "id": "241fc753-d92f-4d71-af60-03f29f83bf1c",
   "metadata": {},
   "source": [
    "[Zurück zum Inhaltsverzeichnis](_Inhaltsverzeichnis_.ipynb)"
   ]
  },
  {
   "cell_type": "markdown",
   "id": "7f0346f5-c107-4f15-9d3c-2175748a3970",
   "metadata": {},
   "source": [
    "# `__gt__` Greater than"
   ]
  },
  {
   "cell_type": "code",
   "execution_count": null,
   "id": "7a19e520-8a49-42e6-8368-979127f7eb2e",
   "metadata": {},
   "outputs": [],
   "source": [
    "__gt__ & __lt__ können nur einmal geschrieben werde, da implizite Umkehr unter der Haube"
   ]
  },
  {
   "cell_type": "code",
   "execution_count": null,
   "id": "b00b6bad-d8a2-41e2-aa20-57bd6a8530b8",
   "metadata": {},
   "outputs": [],
   "source": []
  }
 ],
 "metadata": {
  "kernelspec": {
   "display_name": "Python 3 (ipykernel)",
   "language": "python",
   "name": "python3"
  },
  "language_info": {
   "codemirror_mode": {
    "name": "ipython",
    "version": 3
   },
   "file_extension": ".py",
   "mimetype": "text/x-python",
   "name": "python",
   "nbconvert_exporter": "python",
   "pygments_lexer": "ipython3",
   "version": "3.12.4"
  }
 },
 "nbformat": 4,
 "nbformat_minor": 5
}
