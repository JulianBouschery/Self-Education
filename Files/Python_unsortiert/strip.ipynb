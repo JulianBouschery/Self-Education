{
 "cells": [
  {
   "cell_type": "markdown",
   "id": "3ab9f07b-6fc7-4c79-a6e3-9d46e417d1e4",
   "metadata": {},
   "source": [
    "[Zurück zum Inhaltsverzeichnis](_Inhaltsverzeichnis_.ipynb)"
   ]
  },
  {
   "cell_type": "markdown",
   "id": "028f168a-b7b1-4a91-b0f3-7bb479c4c7e0",
   "metadata": {},
   "source": [
    "# strip, lstrip und rstrip"
   ]
  },
  {
   "cell_type": "markdown",
   "id": "f1533023-f497-4645-b3de-9fc24f86adb4",
   "metadata": {},
   "source": [
    "## strip Methode"
   ]
  },
  {
   "cell_type": "code",
   "execution_count": null,
   "id": "9ae7949e-4491-47e1-9425-2d65641ba180",
   "metadata": {},
   "outputs": [],
   "source": [
    "Man löscht beginnende, und oder endene Zeichen aus String. \n",
    "\n",
    "Bedenkt, es handelt sich um Methoden der Klasse str. Man ruft sie also auf einer `str-Instanz`auf. \n",
    "Die Notation dafür ist `str-Instanz` `.` `strip()`\n",
    "\n",
    "Das `.` ist der Aufruf: Gehe \"in\" die Instanz rein und verwende auf ihr die strip() Methode.\n",
    "\n",
    "Verschiedene Datentypen haben verschiedene Methoden und Eigenschaften. Versucht man bspw. strip auf einer Liste aufzurufen erhält man einen `AttributeError`\n",
    "\n",
    "\n",
    "Zum Einordnen Methoden vs Funktionen: \n",
    "\n",
    "Funktionen sind ungebunden, im Code vorkommende definitionen von Funktionen\n",
    "\n",
    "Methoden sind an Klassen gebunden, sie werden in Klassen definiert, als erste Argument haben sie (Instanzmethoden, gilt nicht für Klassenmethoden und Statische Methoden) immer einen Verweis auf das **gerade aktive Objekt**. \n",
    "\n"
   ]
  },
  {
   "cell_type": "code",
   "execution_count": 8,
   "id": "a5834684-1a6e-408e-b977-f23952bfba79",
   "metadata": {},
   "outputs": [
    {
     "data": {
      "text/plain": [
       "\u001b[1;31mSignature:\u001b[0m \u001b[0mstr\u001b[0m\u001b[1;33m.\u001b[0m\u001b[0mstrip\u001b[0m\u001b[1;33m(\u001b[0m\u001b[0mself\u001b[0m\u001b[1;33m,\u001b[0m \u001b[0mchars\u001b[0m\u001b[1;33m=\u001b[0m\u001b[1;32mNone\u001b[0m\u001b[1;33m,\u001b[0m \u001b[1;33m/\u001b[0m\u001b[1;33m)\u001b[0m\u001b[1;33m\u001b[0m\u001b[1;33m\u001b[0m\u001b[0m\n",
       "\u001b[1;31mDocstring:\u001b[0m\n",
       "Return a copy of the string with leading and trailing whitespace removed.\n",
       "\n",
       "If chars is given and not None, remove characters in chars instead.\n",
       "\u001b[1;31mType:\u001b[0m      method_descriptor"
      ]
     },
     "metadata": {},
     "output_type": "display_data"
    }
   ],
   "source": [
    "str.strip?"
   ]
  },
  {
   "cell_type": "markdown",
   "id": "5721eda1-67b3-4da4-92f9-f03fc2916bfe",
   "metadata": {},
   "source": [
    "```python\n",
    "str.strip(self, chars=None, /)\n",
    "\n",
    "kopie paste"
   ]
  },
  {
   "cell_type": "code",
   "execution_count": 14,
   "id": "43048aeb-bc49-45b8-9a53-9a6b28914407",
   "metadata": {},
   "outputs": [],
   "source": [
    "import string"
   ]
  },
  {
   "cell_type": "markdown",
   "id": "cd18a189-2e54-4e0f-99f6-3ce1d381a451",
   "metadata": {},
   "source": [
    "Die strip Methode wird verwendet, um führende und abschließende Zeichen (VOR und HINTER) einem String zu entfernen. Dabei löscht strip per default Whitespace oder andere spezifizierte Zeichen, die man als Argument übergibt."
   ]
  },
  {
   "cell_type": "markdown",
   "id": "76892257-ddf0-4b82-bc0d-406a81b66a99",
   "metadata": {},
   "source": [
    "Die strip Methode läuft unter der Haube mit einer for-Schleife über den String und löscht jedes Zeichen (NICHT SUBSTRING), welches ihr als Argument übergeben wurde. Sie stoppt, sobald sie auf ein Zeichen trifft, welches sie nicht als Argument kennt und fängt von hinten an über den String zu iterieren bis sie wieder auf ein fremdes Zeichen trifft. bis dahin löscht sie alles und das was übrigbleibt ist das ergebnis."
   ]
  },
  {
   "cell_type": "code",
   "execution_count": 12,
   "id": "1222ac30-38f0-4917-81be-19de04c96cd1",
   "metadata": {},
   "outputs": [
    {
     "data": {
      "text/plain": [
       "10"
      ]
     },
     "execution_count": 12,
     "metadata": {},
     "output_type": "execute_result"
    }
   ],
   "source": [
    "len(\"   Test   \")"
   ]
  },
  {
   "cell_type": "code",
   "execution_count": 11,
   "id": "4e7033d2-4643-41ff-b607-6f81acd78759",
   "metadata": {},
   "outputs": [
    {
     "name": "stdout",
     "output_type": "stream",
     "text": [
      "4\n",
      "Test\n"
     ]
    }
   ],
   "source": [
    "result = \"   Test   \".strip()\n",
    "print(len(result))\n",
    "print(result)"
   ]
  },
  {
   "cell_type": "code",
   "execution_count": null,
   "id": "f5e57e92-1069-4736-b179-3b8895884be8",
   "metadata": {},
   "outputs": [],
   "source": [
    "print(\"cisco.com\".rstrip(\".com\"))"
   ]
  },
  {
   "cell_type": "code",
   "execution_count": 2,
   "id": "ac347eca-5273-4cb7-9f7c-9dab8c5a9966",
   "metadata": {},
   "outputs": [
    {
     "name": "stdout",
     "output_type": "stream",
     "text": [
      "cis\n"
     ]
    }
   ],
   "source": [
    "print(\"cisco.com\".rstrip(\".com\"))"
   ]
  },
  {
   "cell_type": "code",
   "execution_count": 3,
   "id": "744d3bc1-56ec-47e9-91ef-fc6af1a2ee28",
   "metadata": {},
   "outputs": [
    {
     "data": {
      "text/plain": [
       "'is'"
      ]
     },
     "execution_count": 3,
     "metadata": {},
     "output_type": "execute_result"
    }
   ],
   "source": [
    "\"cisco.com\".strip(\".com\")"
   ]
  },
  {
   "cell_type": "code",
   "execution_count": 13,
   "id": "95d6766b-830d-4b78-8c55-e8a4d26650cf",
   "metadata": {},
   "outputs": [
    {
     "data": {
      "text/plain": [
       "'is'"
      ]
     },
     "execution_count": 13,
     "metadata": {},
     "output_type": "execute_result"
    }
   ],
   "source": [
    "\"cisco.com\".strip(\"o.cm\")"
   ]
  },
  {
   "cell_type": "code",
   "execution_count": null,
   "id": "225d3430-082d-45a3-9b2a-c0ccb3332e93",
   "metadata": {},
   "outputs": [],
   "source": []
  },
  {
   "cell_type": "code",
   "execution_count": null,
   "id": "b06525eb-dcdb-422c-9077-a6e2ca6327b4",
   "metadata": {},
   "outputs": [],
   "source": [
    "ist eine SAMLUNG von Zeichen, die gelöscht werden soll, kein substing"
   ]
  },
  {
   "cell_type": "markdown",
   "id": "e3acf145-0a68-4ed5-bfa0-d46641d5f6ee",
   "metadata": {},
   "source": [
    "[Erklärung Pythontutor](https://pythontutor.com/render.html#code=def%20lstrip_%28der_string,%20chars%20%3D%20%22%20%22%29%3A%20%20%23%20der_string%20%3D%22cisco.com%22%20,%20chars%20%3D%20%22o.cm%22%0A%20%20%20%20%0A%20%20%20%20result_string%20%3D%20%22%22%0A%20%20%20%20%0A%20%20%20%20for%20letter%20in%20der_string%3A%0A%20%20%20%20%20%20%20%20if%20letter%20in%20chars%3A%0A%20%20%20%20%20%20%20%20%20%20%20%20continue%0A%20%20%20%20%20%20%20%20else%3A%20%0A%20%20%20%20%20%20%20%20%20%20%20%20flag%20%3D%20False%0A%20%20%20%20%20%20%20%20result_string%20%2B%3D%20letter%0A%20%20%20%20%20%20%20%20%0A%20%20%20%20print%28result_string%29%0A%20%20%20%20%0Alstrip_%28%22cisco.com%22,%20%22oc.m%22%29&cumulative=false&curInstr=0&heapPrimitives=nevernest&mode=display&origin=opt-frontend.js&py=3&rawInputLstJSON=%5B%5D&textReferences=false)"
   ]
  },
  {
   "cell_type": "markdown",
   "id": "516f69e9-34af-4ab9-80cd-a37c134e925f",
   "metadata": {
    "jp-MarkdownHeadingCollapsed": true
   },
   "source": [
    "## Bonus Aufgabe, wenn mir mal Langweilig ist"
   ]
  },
  {
   "cell_type": "code",
   "execution_count": 8,
   "id": "747415f7-5385-48ba-92eb-9d0d9137018c",
   "metadata": {},
   "outputs": [],
   "source": [
    "wort = \"Halllo 123 dsjl92 12123 12123 sdjlösd\" # für beliebigen String und substrings\n",
    "substring = \"123\"\n",
    "\n",
    "# Ohne split zu verwenden, sag mir wie viele Element die Liste hat die split zurückgibt"
   ]
  },
  {
   "cell_type": "markdown",
   "id": "1a53cb98-8483-4d92-b365-b3004443b754",
   "metadata": {},
   "source": [
    "Schreibe einen Code der für beliebige wort und"
   ]
  },
  {
   "cell_type": "code",
   "execution_count": 9,
   "id": "3302c3bb-8528-4adf-aa7a-d9b93b9ff9d0",
   "metadata": {},
   "outputs": [
    {
     "data": {
      "text/plain": [
       "['Halllo ', ' dsjl92 12', ' 12', ' sdjlösd']"
      ]
     },
     "execution_count": 9,
     "metadata": {},
     "output_type": "execute_result"
    }
   ],
   "source": [
    "wort.split(substring)"
   ]
  },
  {
   "cell_type": "code",
   "execution_count": 10,
   "id": "7b3a4534-7d0d-410b-a3a9-87bd107a1acb",
   "metadata": {},
   "outputs": [
    {
     "data": {
      "text/plain": [
       "4"
      ]
     },
     "execution_count": 10,
     "metadata": {},
     "output_type": "execute_result"
    }
   ],
   "source": [
    "len(wort.split(substring))"
   ]
  },
  {
   "cell_type": "code",
   "execution_count": 27,
   "id": "b8986ea3-29f8-4f8c-82ce-4d6f7dfc0dc9",
   "metadata": {},
   "outputs": [
    {
     "data": {
      "text/plain": [
       "'Halllo , dsjl92 12, 12, sdjlösd'"
      ]
     },
     "execution_count": 27,
     "metadata": {},
     "output_type": "execute_result"
    }
   ],
   "source": [
    "wort.replace(substring,\",\")"
   ]
  },
  {
   "cell_type": "code",
   "execution_count": 22,
   "id": "7e1ffd3e-fe0e-4684-b7df-bc0179ccce57",
   "metadata": {},
   "outputs": [
    {
     "ename": "KeyboardInterrupt",
     "evalue": "",
     "output_type": "error",
     "traceback": [
      "\u001b[1;31m---------------------------------------------------------------------------\u001b[0m",
      "\u001b[1;31mKeyboardInterrupt\u001b[0m                         Traceback (most recent call last)",
      "Cell \u001b[1;32mIn[22], line 1\u001b[0m\n\u001b[1;32m----> 1\u001b[0m \u001b[38;5;28;01mwhile\u001b[39;00m substring \u001b[38;5;129;01min\u001b[39;00m wort:\n\u001b[0;32m      2\u001b[0m     wort\u001b[38;5;241m.\u001b[39mreplace(substring,\u001b[38;5;124m\"\u001b[39m\u001b[38;5;124m\"\u001b[39m)  \n",
      "\u001b[1;31mKeyboardInterrupt\u001b[0m: "
     ]
    }
   ],
   "source": [
    "# while substring in wort:\n",
    "    wort.replace(substring,\"\")  \n",
    "    "
   ]
  },
  {
   "cell_type": "code",
   "execution_count": 23,
   "id": "7958cbc9-90b2-443a-92fc-3d663bc047ab",
   "metadata": {},
   "outputs": [],
   "source": [
    "wort = \"Halllo 123 dsjl92 12123 12123 sdjlösd\" \n",
    "substring = \"123\""
   ]
  },
  {
   "cell_type": "code",
   "execution_count": 26,
   "id": "cd4bef5f-c1b4-49b1-89e1-82a518a310a5",
   "metadata": {},
   "outputs": [
    {
     "name": "stdout",
     "output_type": "stream",
     "text": [
      "7\n"
     ]
    },
    {
     "data": {
      "text/plain": [
       "'123'"
      ]
     },
     "execution_count": 26,
     "metadata": {},
     "output_type": "execute_result"
    }
   ],
   "source": [
    "print(wort.index(substring))\n",
    "wort[wort.index(substring):wort.index(substring)+len(substring)]\n"
   ]
  },
  {
   "cell_type": "code",
   "execution_count": null,
   "id": "424f582c-a21b-4876-a64a-0e65d8175a75",
   "metadata": {},
   "outputs": [],
   "source": [
    "ZU KOMPLEX!!!"
   ]
  },
  {
   "cell_type": "code",
   "execution_count": 33,
   "id": "f6b5ef99-ccaf-492f-9b9f-7e580cebbccb",
   "metadata": {},
   "outputs": [
    {
     "ename": "AttributeError",
     "evalue": "'int' object has no attribute 'startswith'",
     "output_type": "error",
     "traceback": [
      "\u001b[1;31m---------------------------------------------------------------------------\u001b[0m",
      "\u001b[1;31mAttributeError\u001b[0m                            Traceback (most recent call last)",
      "Cell \u001b[1;32mIn[33], line 6\u001b[0m\n\u001b[0;32m      4\u001b[0m wort\n\u001b[0;32m      5\u001b[0m \u001b[38;5;28;01mfor\u001b[39;00m i \u001b[38;5;129;01min\u001b[39;00m \u001b[38;5;28mrange\u001b[39m(\u001b[38;5;28mlen\u001b[39m(wort)):\n\u001b[1;32m----> 6\u001b[0m     \u001b[38;5;28;01mif\u001b[39;00m \u001b[43mi\u001b[49m\u001b[38;5;241;43m.\u001b[39;49m\u001b[43mstartswith\u001b[49m(substring):\n\u001b[0;32m      7\u001b[0m        i\u001b[38;5;241m.\u001b[39mstartswith(substring)\u001b[38;5;241m.\u001b[39mindex\n",
      "\u001b[1;31mAttributeError\u001b[0m: 'int' object has no attribute 'startswith'"
     ]
    }
   ],
   "source": [
    "list_new = []\n",
    "\n",
    "# slice der einzelnen Abschnitte\n",
    "wort\n",
    "for index, elem in enumerate(wort):\n",
    "    if elem.startswith(substring):\n",
    "       \n"
   ]
  },
  {
   "cell_type": "code",
   "execution_count": 21,
   "id": "49b0c6b1-49ff-49b9-8d30-4140808e8767",
   "metadata": {},
   "outputs": [
    {
     "ename": "KeyboardInterrupt",
     "evalue": "",
     "output_type": "error",
     "traceback": [
      "\u001b[1;31m---------------------------------------------------------------------------\u001b[0m",
      "\u001b[1;31mKeyboardInterrupt\u001b[0m                         Traceback (most recent call last)",
      "Cell \u001b[1;32mIn[21], line 1\u001b[0m\n\u001b[1;32m----> 1\u001b[0m \u001b[38;5;28;01mwhile\u001b[39;00m substring \u001b[38;5;129;01min\u001b[39;00m wort:    \n\u001b[0;32m      3\u001b[0m     wort\u001b[38;5;241m.\u001b[39mindex(substring)\n\u001b[0;32m      4\u001b[0m     wort[wort\u001b[38;5;241m.\u001b[39mindex(substring):\u001b[38;5;28mlen\u001b[39m(substring)] \u001b[38;5;241m+\u001b[39m \u001b[38;5;124m\"\u001b[39m\u001b[38;5;124m,\u001b[39m\u001b[38;5;124m\"\u001b[39m\n",
      "\u001b[1;31mKeyboardInterrupt\u001b[0m: "
     ]
    }
   ],
   "source": [
    "# while substring in wort:    \n",
    "    \n",
    "    wort.index(substring)\n",
    "    wort[wort.index(substring):len(substring)] + \",\""
   ]
  },
  {
   "cell_type": "code",
   "execution_count": null,
   "id": "292dcc79-95d6-463c-bbf4-3debdccafe6c",
   "metadata": {},
   "outputs": [],
   "source": []
  },
  {
   "cell_type": "code",
   "execution_count": null,
   "id": "2d45f6dc-9a56-427a-b43d-52d84217e339",
   "metadata": {},
   "outputs": [],
   "source": []
  },
  {
   "cell_type": "markdown",
   "id": "95f71c1e-3809-40a3-b3f9-ee34f81732af",
   "metadata": {},
   "source": [
    "## lstrip Methode"
   ]
  },
  {
   "cell_type": "markdown",
   "id": "5bef9d4c-1422-41e6-96ef-a0a89d4cecd7",
   "metadata": {},
   "source": [
    "`lstrip` = (left-strip)"
   ]
  },
  {
   "cell_type": "markdown",
   "id": "c3937508-087b-448c-8d0b-53ce008699ee",
   "metadata": {},
   "source": [
    "[Erklärung Pythontutor](https://pythontutor.com/render.html#code=def%20lstrip_%28der_string,%20chars%20%3D%20%22%20%22%29%3A%20%20%23%20der_string%20%3D%22cisco.com%22%20,%20chars%20%3D%20%22o.cm%22%0A%20%20%20%20%0A%20%20%20%20result_string%20%3D%20%22%22%0A%20%20%20%20flag%20%3D%20True%0A%20%20%20%20%0A%20%20%20%20for%20letter%20in%20der_string%3A%0A%20%20%20%20%20%20%20%20if%20letter%20in%20chars%20and%20flag%3A%0A%20%20%20%20%20%20%20%20%20%20%20%20continue%0A%20%20%20%20%20%20%20%20else%3A%20%0A%20%20%20%20%20%20%20%20%20%20%20%20flag%20%3D%20False%0A%20%20%20%20%20%20%20%20result_string%20%2B%3D%20letter%0A%20%20%20%20%20%20%20%20%0A%20%20%20%20print%28result_string%29%0A%20%20%20%20%0Alstrip_%28%22cisco.com%22,%20%22oc.m%22%29&cumulative=false&curInstr=41&heapPrimitives=nevernest&mode=display&origin=opt-frontend.js&py=3&rawInputLstJSON=%5B%5D&textReferences=false)"
   ]
  },
  {
   "cell_type": "markdown",
   "id": "524b9ee4-60c0-4e23-958d-79ab5d8e5ced",
   "metadata": {},
   "source": [
    "`lstrip` löscht die \"leading charakters\"\n",
    "\n",
    "Der Begriff \"leading charakters\" bedeutet im englischen Sprachgebrauch \"vorangehende\", \"vorhergehende\" oder \"vorausgehende\" Zeichen.\n",
    "\n",
    "leading charakters --> vorangehende Zeichen "
   ]
  },
  {
   "cell_type": "code",
   "execution_count": 10,
   "id": "e4a800d0-40c8-422b-8142-82b8bb25238f",
   "metadata": {},
   "outputs": [],
   "source": [
    "wort = \"abcdefgh\"\n",
    " \n",
    "result = \"\"\n",
    "flag = True\n",
    "for letter in wort: \n",
    "    if letter in \"ab\" and flag ==True: \n",
    "        continue\n",
    "    result += letter\n",
    "    flag = False"
   ]
  },
  {
   "cell_type": "code",
   "execution_count": 11,
   "id": "8633bcf7-014e-445a-bc0f-bf0975e846f4",
   "metadata": {},
   "outputs": [
    {
     "data": {
      "text/plain": [
       "'cdefgh'"
      ]
     },
     "execution_count": 11,
     "metadata": {},
     "output_type": "execute_result"
    }
   ],
   "source": [
    "result"
   ]
  },
  {
   "cell_type": "markdown",
   "id": "b3b6bd92-820c-4fae-94e1-ff33bde0f551",
   "metadata": {},
   "source": [
    "https://pythontutor.com/render.html#code=%0A%0Awort%20%3D%20%22ab%20bcbbb%22%0Aprint%28wort.lstrip%28%22ab%20%22%29%29%0Aresult%20%3D%20%22%22%0Aflag%20%3D%20True%0Afor%20letter%20in%20wort%3A%20%0A%20%20%20%20%0A%20%20%20%20if%20letter%20in%20%22ab%20%22%20and%20flag%20%3D%3DTrue%3A%20%0A%20%20%20%20%20%20%20%20continue%0A%20%20%20%20%20%20%20%20%0A%20%20%20%20result%20%2B%3D%20letter%0A%20%20%20%20flag%20%3D%20False%0A%20%20%20%20%0A%0Afor%20letter%20in%20wort%3A%20%0A%20%20%20%20%0A%20%20%20%20if%20letter%20in%20%22ab%20%22%3A%20%0A%20%20%20%20%20%20%20%20continue%0A%20%20%20%20%20%20%20%20%0A%20%20%20%20result2%20%3D%20wort%5Bwort.index%28letter%29%3A%5D%0A%20%20%20%20break&cumulative=false&curInstr=49&heapPrimitives=nevernest&mode=display&origin=opt-frontend.js&py=311&rawInputLstJSON=%5B%5D&textReferences=false"
   ]
  },
  {
   "cell_type": "markdown",
   "id": "5f7dcb1f-02ca-413e-a491-110a1c1767af",
   "metadata": {},
   "source": [
    "## rstrip Methode"
   ]
  },
  {
   "cell_type": "markdown",
   "id": "ebd24a76-bf71-448f-a8be-8ec710cfe93a",
   "metadata": {},
   "source": [
    "`rstrip` = (right-strip)"
   ]
  },
  {
   "cell_type": "markdown",
   "id": "9516246b-18e5-4118-ab80-3e6f2b411bef",
   "metadata": {},
   "source": [
    "`rstrip` löscht die \"trailing charakters\"\n",
    "\n",
    "Der Begriff \"Trailing charakters\" bedeutet im englischen Sprachgebrauch \"folgend\" oder \"nachfolgend\" Zeichen.\n",
    "\n",
    "trailing charakters --> Nachfolgende Zeichen "
   ]
  },
  {
   "cell_type": "code",
   "execution_count": 5,
   "id": "8f023e9e-d8bd-4477-83c1-e64061440e23",
   "metadata": {},
   "outputs": [
    {
     "data": {
      "text/plain": [
       "'Test'"
      ]
     },
     "execution_count": 5,
     "metadata": {},
     "output_type": "execute_result"
    }
   ],
   "source": [
    "\"Test\".rstrip(\"e\") # Verstehe ich gerade nicht. Auf Philipps erklärung warten."
   ]
  },
  {
   "cell_type": "code",
   "execution_count": 4,
   "id": "46a919a3-2b00-4a1e-8cf0-c4c76371aab1",
   "metadata": {},
   "outputs": [
    {
     "data": {
      "text/plain": [
       "''"
      ]
     },
     "execution_count": 4,
     "metadata": {},
     "output_type": "execute_result"
    }
   ],
   "source": [
    "\"e\".rstrip(\"Test\") # Dürfte falsch sein"
   ]
  }
 ],
 "metadata": {
  "kernelspec": {
   "display_name": "Python 3 (ipykernel)",
   "language": "python",
   "name": "python3"
  },
  "language_info": {
   "codemirror_mode": {
    "name": "ipython",
    "version": 3
   },
   "file_extension": ".py",
   "mimetype": "text/x-python",
   "name": "python",
   "nbconvert_exporter": "python",
   "pygments_lexer": "ipython3",
   "version": "3.12.6"
  }
 },
 "nbformat": 4,
 "nbformat_minor": 5
}
