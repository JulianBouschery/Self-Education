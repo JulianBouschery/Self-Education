{
 "cells": [
  {
   "cell_type": "markdown",
   "id": "cfab34f0-cdb6-4932-a8db-4783d8dbe8ee",
   "metadata": {},
   "source": [
    "# faker Modul für das genereieren von Beispiel Daten"
   ]
  },
  {
   "cell_type": "code",
   "execution_count": 2,
   "id": "cb62448e-242b-4e6a-b064-88d98f7b3cd8",
   "metadata": {},
   "outputs": [
    {
     "ename": "ModuleNotFoundError",
     "evalue": "No module named 'faker'",
     "output_type": "error",
     "traceback": [
      "\u001b[1;31m---------------------------------------------------------------------------\u001b[0m",
      "\u001b[1;31mModuleNotFoundError\u001b[0m                       Traceback (most recent call last)",
      "Cell \u001b[1;32mIn[2], line 1\u001b[0m\n\u001b[1;32m----> 1\u001b[0m \u001b[38;5;28;01mimport\u001b[39;00m \u001b[38;5;21;01mfaker\u001b[39;00m \u001b[38;5;66;03m# Sobald man es mit pip installiert hat\u001b[39;00m\n",
      "\u001b[1;31mModuleNotFoundError\u001b[0m: No module named 'faker'"
     ]
    }
   ],
   "source": [
    "import faker # Sobald man es mit pip installiert hat"
   ]
  },
  {
   "cell_type": "code",
   "execution_count": null,
   "id": "1f0d275e-2d63-4618-83f6-7fce142af40b",
   "metadata": {},
   "outputs": [],
   "source": [
    "https://www.mockaroo.com/"
   ]
  }
 ],
 "metadata": {
  "kernelspec": {
   "display_name": "Python 3 (ipykernel)",
   "language": "python",
   "name": "python3"
  },
  "language_info": {
   "codemirror_mode": {
    "name": "ipython",
    "version": 3
   },
   "file_extension": ".py",
   "mimetype": "text/x-python",
   "name": "python",
   "nbconvert_exporter": "python",
   "pygments_lexer": "ipython3",
   "version": "3.12.4"
  }
 },
 "nbformat": 4,
 "nbformat_minor": 5
}
