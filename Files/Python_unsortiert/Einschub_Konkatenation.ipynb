{
 "cells": [
  {
   "cell_type": "markdown",
   "id": "7ee7674e-22a8-4d9d-93b2-bb0df7ce2ff2",
   "metadata": {},
   "source": [
    "[Zurück zum Inhaltsverzeichnis](_Inhaltsverzeichnis_.ipynb)"
   ]
  },
  {
   "cell_type": "markdown",
   "id": "ef5dc55e-7982-4004-888e-cfc94ee69056",
   "metadata": {},
   "source": [
    "## Einschub Konkatenation\n",
    "\n",
    "Konkatenation => zusammenfügen/-kleben, aneinanderreihen"
   ]
  },
  {
   "cell_type": "code",
   "execution_count": 11,
   "id": "cfb47d46-26d6-4160-8b85-c5b286366276",
   "metadata": {
    "tags": []
   },
   "outputs": [
    {
     "data": {
      "text/plain": [
       "'Peter Parker'"
      ]
     },
     "execution_count": 11,
     "metadata": {},
     "output_type": "execute_result"
    }
   ],
   "source": [
    "# String Konkatenation \n",
    "\"Peter\" + \" \" + \"Parker\""
   ]
  },
  {
   "cell_type": "code",
   "execution_count": 12,
   "id": "d2edd61c-105d-41eb-bca8-8759c9fe357d",
   "metadata": {
    "tags": []
   },
   "outputs": [
    {
     "data": {
      "text/plain": [
       "[1, 2, 3, 3, 4, 5]"
      ]
     },
     "execution_count": 12,
     "metadata": {},
     "output_type": "execute_result"
    }
   ],
   "source": [
    "# Listen Konkatenation \n",
    "[1,2,3] + [3,4,5]"
   ]
  },
  {
   "cell_type": "code",
   "execution_count": 14,
   "id": "4339cc3a-a0cd-4428-bc67-9a1f191f678b",
   "metadata": {
    "tags": []
   },
   "outputs": [
    {
     "data": {
      "text/plain": [
       "(1, 2, 3, 4, 5, 6)"
      ]
     },
     "execution_count": 14,
     "metadata": {},
     "output_type": "execute_result"
    }
   ],
   "source": [
    "# Tuple Konkatenation\n",
    "\n",
    "(1,2,3)+(4,5,6)"
   ]
  },
  {
   "cell_type": "markdown",
   "id": "a47b8dd5-9159-4117-a59d-ac29533e15c8",
   "metadata": {},
   "source": [
    "Konkatenation erhält den Datentyp => str + str => str , list+list => list"
   ]
  },
  {
   "cell_type": "code",
   "execution_count": 15,
   "id": "5125ac97-2028-4c50-92e1-76a41dec8573",
   "metadata": {
    "tags": []
   },
   "outputs": [
    {
     "ename": "TypeError",
     "evalue": "can only concatenate str (not \"list\") to str",
     "output_type": "error",
     "traceback": [
      "\u001b[0;31m---------------------------------------------------------------------------\u001b[0m",
      "\u001b[0;31mTypeError\u001b[0m                                 Traceback (most recent call last)",
      "\u001b[0;32m/var/folders/98/zxnb__6d3hn1b82jwdhkbs7m0000gn/T/ipykernel_17767/218373773.py\u001b[0m in \u001b[0;36m<module>\u001b[0;34m\u001b[0m\n\u001b[0;32m----> 1\u001b[0;31m \u001b[0;34m\"Peter\"\u001b[0m\u001b[0;34m+\u001b[0m \u001b[0;34m[\u001b[0m\u001b[0;34m\"Parker\"\u001b[0m\u001b[0;34m]\u001b[0m\u001b[0;34m\u001b[0m\u001b[0;34m\u001b[0m\u001b[0m\n\u001b[0m",
      "\u001b[0;31mTypeError\u001b[0m: can only concatenate str (not \"list\") to str"
     ]
    }
   ],
   "source": [
    "\"Peter\"+ [\"Parker\"]"
   ]
  },
  {
   "cell_type": "markdown",
   "id": "e75a0f9f-85ad-40a2-bd6c-0548ba91babb",
   "metadata": {},
   "source": [
    "Kurzer Einschub zu Tuple\n",
    "\n",
    "Ein Tuple wird entgegen des common wisdom nicht durch Klammern erstellt. \n",
    "\n",
    "Anders ausgedrückt => tuple werden durch Kommata erstellt NICHT durch Klammern. Ausser beim leeren Tuple, da machen die Klammern ein tuple\n",
    "\n",
    "Das machen einige Bücher und Youtuber falsch."
   ]
  },
  {
   "cell_type": "code",
   "execution_count": 16,
   "id": "1e9c8e3a-ccdf-47c4-8726-be73ec07d1d2",
   "metadata": {
    "tags": []
   },
   "outputs": [],
   "source": [
    "a = (42)"
   ]
  },
  {
   "cell_type": "code",
   "execution_count": 17,
   "id": "269d0365-ce1a-4bb2-8afe-3aeb1c34de9f",
   "metadata": {
    "tags": []
   },
   "outputs": [
    {
     "data": {
      "text/plain": [
       "int"
      ]
     },
     "execution_count": 17,
     "metadata": {},
     "output_type": "execute_result"
    }
   ],
   "source": [
    "type(a)"
   ]
  },
  {
   "cell_type": "code",
   "execution_count": 18,
   "id": "6e782de2-1280-48b5-a0aa-00fb688b6725",
   "metadata": {
    "tags": []
   },
   "outputs": [],
   "source": [
    "b = (42,23)"
   ]
  },
  {
   "cell_type": "code",
   "execution_count": 19,
   "id": "9ccebfc7-0e44-4c24-b5a3-3cc5aca8006f",
   "metadata": {
    "tags": []
   },
   "outputs": [
    {
     "data": {
      "text/plain": [
       "tuple"
      ]
     },
     "execution_count": 19,
     "metadata": {},
     "output_type": "execute_result"
    }
   ],
   "source": [
    "type(b)"
   ]
  },
  {
   "cell_type": "code",
   "execution_count": 20,
   "id": "1d883123-02a7-482c-b33d-5f70822ad404",
   "metadata": {
    "tags": []
   },
   "outputs": [],
   "source": [
    "c = 42,73,101"
   ]
  },
  {
   "cell_type": "code",
   "execution_count": 21,
   "id": "2385b2d7-7f91-4ef7-b53d-e4bdb3a56602",
   "metadata": {
    "tags": []
   },
   "outputs": [
    {
     "data": {
      "text/plain": [
       "tuple"
      ]
     },
     "execution_count": 21,
     "metadata": {},
     "output_type": "execute_result"
    }
   ],
   "source": [
    "type(c)"
   ]
  },
  {
   "cell_type": "markdown",
   "id": "d3cfc00d-6817-4b7d-842f-89a270de275b",
   "metadata": {},
   "source": [
    "Der Fehler rührt daher, dass viele Leute immer Tuple mit Klammern sehen. Und manchmal benötigt man die Klammern auch, da die Klammern das Tuple von anderem Code abgrenzt"
   ]
  },
  {
   "cell_type": "code",
   "execution_count": 23,
   "id": "856d53b4-3550-4f60-9bc2-d0b2e6c86be8",
   "metadata": {
    "tags": []
   },
   "outputs": [
    {
     "name": "stdout",
     "output_type": "stream",
     "text": [
      "1 2 3 4\n"
     ]
    }
   ],
   "source": [
    "print(1,2,3,4)"
   ]
  },
  {
   "cell_type": "code",
   "execution_count": 24,
   "id": "fb96a936-f827-424f-9399-94f35cc2299e",
   "metadata": {
    "tags": []
   },
   "outputs": [
    {
     "name": "stdout",
     "output_type": "stream",
     "text": [
      "(1, 2, 3) 4\n"
     ]
    }
   ],
   "source": [
    "print((1,2,3),4)"
   ]
  },
  {
   "cell_type": "markdown",
   "id": "cd8aa71b-502b-413d-b301-1bfd0e871302",
   "metadata": {},
   "source": [
    "Klammern dienen oft der Abgrenzung eines Tuples vom Rest des Codes. Wie oben in der Print Funktion"
   ]
  },
  {
   "cell_type": "markdown",
   "id": "8923c00d-6cc3-4ec4-b01a-01dd073c1774",
   "metadata": {},
   "source": [
    "Abschliessend ein leeres Tuple kann man tatsächlich mit `()` erstellen"
   ]
  },
  {
   "cell_type": "code",
   "execution_count": 25,
   "id": "2baa3961-9cb3-4d09-ae7b-d1560f3718f0",
   "metadata": {
    "tags": []
   },
   "outputs": [
    {
     "name": "stdout",
     "output_type": "stream",
     "text": [
      "<class 'tuple'>\n"
     ]
    }
   ],
   "source": [
    "d = ()\n",
    "print(type(d))"
   ]
  },
  {
   "cell_type": "markdown",
   "id": "bbc09316-ec29-441f-a4cd-5f1ee8d3a053",
   "metadata": {},
   "source": [
    "Frage: Was ist das Ergebnis von folgendem Ausdruck"
   ]
  },
  {
   "cell_type": "code",
   "execution_count": 26,
   "id": "5e98f6cf-322a-42b6-bdb7-ecd191af18a2",
   "metadata": {
    "tags": []
   },
   "outputs": [
    {
     "ename": "TypeError",
     "evalue": "can only concatenate tuple (not \"int\") to tuple",
     "output_type": "error",
     "traceback": [
      "\u001b[0;31m---------------------------------------------------------------------------\u001b[0m",
      "\u001b[0;31mTypeError\u001b[0m                                 Traceback (most recent call last)",
      "\u001b[0;32m/var/folders/98/zxnb__6d3hn1b82jwdhkbs7m0000gn/T/ipykernel_17767/2319439237.py\u001b[0m in \u001b[0;36m<module>\u001b[0;34m\u001b[0m\n\u001b[0;32m----> 1\u001b[0;31m \u001b[0;34m(\u001b[0m\u001b[0;36m1\u001b[0m\u001b[0;34m,\u001b[0m\u001b[0;36m2\u001b[0m\u001b[0;34m,\u001b[0m\u001b[0;36m3\u001b[0m\u001b[0;34m)\u001b[0m\u001b[0;34m+\u001b[0m\u001b[0;34m(\u001b[0m\u001b[0;36m1023\u001b[0m\u001b[0;34m)\u001b[0m\u001b[0;34m\u001b[0m\u001b[0;34m\u001b[0m\u001b[0m\n\u001b[0m",
      "\u001b[0;31mTypeError\u001b[0m: can only concatenate tuple (not \"int\") to tuple"
     ]
    }
   ],
   "source": [
    "(1,2,3)+(1023)"
   ]
  },
  {
   "cell_type": "markdown",
   "id": "a01f3f4c-77bc-469a-820b-1c43f51a0c65",
   "metadata": {},
   "source": [
    "Wie kann man das retten. "
   ]
  },
  {
   "cell_type": "code",
   "execution_count": 28,
   "id": "63c01dfe-f67f-4edd-be1e-aed96e3bddd3",
   "metadata": {
    "tags": []
   },
   "outputs": [],
   "source": [
    "e = (1023)"
   ]
  },
  {
   "cell_type": "code",
   "execution_count": 29,
   "id": "3ae491a2-eec3-415d-91d3-c0a468be9c4f",
   "metadata": {
    "tags": []
   },
   "outputs": [
    {
     "data": {
      "text/plain": [
       "int"
      ]
     },
     "execution_count": 29,
     "metadata": {},
     "output_type": "execute_result"
    }
   ],
   "source": [
    "type(e)"
   ]
  },
  {
   "cell_type": "code",
   "execution_count": 30,
   "id": "2d6d81f2-e1d4-4835-b4c1-db94bf16998c",
   "metadata": {
    "tags": []
   },
   "outputs": [],
   "source": [
    "f = (1023,)"
   ]
  },
  {
   "cell_type": "code",
   "execution_count": 31,
   "id": "d42c492f-f8a2-412b-82f4-313e9bbda623",
   "metadata": {
    "tags": []
   },
   "outputs": [
    {
     "data": {
      "text/plain": [
       "tuple"
      ]
     },
     "execution_count": 31,
     "metadata": {},
     "output_type": "execute_result"
    }
   ],
   "source": [
    "type(f)"
   ]
  },
  {
   "cell_type": "code",
   "execution_count": 32,
   "id": "7a128544-4969-4162-9293-2773886d2cdb",
   "metadata": {
    "tags": []
   },
   "outputs": [
    {
     "data": {
      "text/plain": [
       "tuple"
      ]
     },
     "execution_count": 32,
     "metadata": {},
     "output_type": "execute_result"
    }
   ],
   "source": [
    "g = 1023,\n",
    "type(g)"
   ]
  },
  {
   "cell_type": "markdown",
   "id": "4be1dd64-b5c1-4822-9bfc-f2ec34734efe",
   "metadata": {},
   "source": [
    "Man kann scheinbar tuple, list, str konkatenieren, was haben die den gemeinsam, gehören die vielleicht zu einer Gruppe? \n",
    "\n",
    "\n",
    "Ja `tuple`, `list`, `str` sind alle sogenannte `Sequenzen` "
   ]
  },
  {
   "cell_type": "markdown",
   "id": "9ecd57bb-dfb8-46fa-940a-cc98bd61fb37",
   "metadata": {
    "jp-MarkdownHeadingCollapsed": true
   },
   "source": [
    "Sequenzen haben einige gemeinsame Operationen, die für alle Sequenzen gelten. \n",
    "\n",
    "Die Konkatenation ist nur eine davon. Alle besprechen, hier schon mal der [Link zu Python docs](https://docs.python.org/3/library/stdtypes.html#common-sequence-operations)"
   ]
  }
 ],
 "metadata": {
  "kernelspec": {
   "display_name": "Python 3 (ipykernel)",
   "language": "python",
   "name": "python3"
  },
  "language_info": {
   "codemirror_mode": {
    "name": "ipython",
    "version": 3
   },
   "file_extension": ".py",
   "mimetype": "text/x-python",
   "name": "python",
   "nbconvert_exporter": "python",
   "pygments_lexer": "ipython3",
   "version": "3.12.3"
  }
 },
 "nbformat": 4,
 "nbformat_minor": 5
}
