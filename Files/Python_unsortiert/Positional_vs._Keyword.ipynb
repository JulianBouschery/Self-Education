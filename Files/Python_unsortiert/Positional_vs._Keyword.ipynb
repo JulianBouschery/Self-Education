{
 "cells": [
  {
   "cell_type": "markdown",
   "id": "883bc479-6695-4b92-9f76-a055cc0d7a8e",
   "metadata": {},
   "source": [
    "[Zurück zum Inhaltsverzeichnis](_Inhaltsverzeichnis_.ipynb)"
   ]
  },
  {
   "cell_type": "markdown",
   "id": "4d5f969e-79b2-425a-9992-38c79cccc9e9",
   "metadata": {},
   "source": [
    "### Positional Argument vs. Keyword Argument"
   ]
  },
  {
   "cell_type": "markdown",
   "id": "1172bb1b-dd1a-44d5-878b-c264c6969477",
   "metadata": {},
   "source": [
    "Beim Aufrufen einer Funktion kann man dieser Argumente zuweisen."
   ]
  },
  {
   "cell_type": "markdown",
   "id": "0538177d-06d3-40c1-a51b-adc53a7f4a6b",
   "metadata": {},
   "source": [
    "Es gibt zwei unterschiedliche Arten von Argumenten:\n",
    "\n",
    "1. positional Argument\n",
    "2. Keyword Argument"
   ]
  },
  {
   "cell_type": "markdown",
   "id": "3c494869-70d8-431c-b439-eb5895039e73",
   "metadata": {},
   "source": [
    "### Positional Argument"
   ]
  },
  {
   "cell_type": "markdown",
   "id": "ee8e45cd-dd3f-44f9-b33e-98a0c55967a8",
   "metadata": {},
   "source": [
    "Wie der Name schon sagt, erhält das positional Argument seinen Wert / seine Bedeutung durch seine Position in Code. "
   ]
  },
  {
   "cell_type": "code",
   "execution_count": 3,
   "id": "68c14216-de4a-4f57-847a-8968ea19cf26",
   "metadata": {},
   "outputs": [],
   "source": [
    "def sample(a,b,c):\n",
    "    print((a*b)**c)"
   ]
  },
  {
   "cell_type": "code",
   "execution_count": 4,
   "id": "4aa4f6df-5227-4a33-9e30-43e35176f7ed",
   "metadata": {},
   "outputs": [
    {
     "name": "stdout",
     "output_type": "stream",
     "text": [
      "8\n"
     ]
    },
    {
     "data": {
      "text/plain": [
       "8"
      ]
     },
     "execution_count": 4,
     "metadata": {},
     "output_type": "execute_result"
    }
   ],
   "source": [
    "sample(1,2,3) # 1,2 und 3 sind hier positionale Argumente\n",
    "((1*2)**3)"
   ]
  },
  {
   "cell_type": "code",
   "execution_count": 86,
   "id": "3acbb9fe-be94-4c8a-b156-4098af6d5158",
   "metadata": {},
   "outputs": [
    {
     "name": "stdout",
     "output_type": "stream",
     "text": [
      "6\n"
     ]
    },
    {
     "data": {
      "text/plain": [
       "6"
      ]
     },
     "execution_count": 86,
     "metadata": {},
     "output_type": "execute_result"
    }
   ],
   "source": [
    "sample(3,2,1)\n",
    "((3*2)**1)"
   ]
  },
  {
   "cell_type": "markdown",
   "id": "3252d537-f7ab-4524-a2ff-a7388ced5acc",
   "metadata": {},
   "source": [
    "Die Reihenfolge, in der die Argumente eingegeben werden bestimmen ihre POSITION im Code und verändern somit das Ergebnis. "
   ]
  },
  {
   "cell_type": "markdown",
   "id": "9e8d9a6a-3eb0-4b8d-953b-9a4f8b3f456a",
   "metadata": {},
   "source": [
    "### Keyword Argument"
   ]
  },
  {
   "cell_type": "markdown",
   "id": "8ac648ef-305e-4fd0-ae96-9b768d9e70f0",
   "metadata": {},
   "source": [
    "Keyword Argumente erhalten ihren Wert / ihre Bedeutung durch **Zuweiseung**, wie eine Variable oder das gleichnamige Keyword beim Dictionary (Key-Value PAARE)"
   ]
  },
  {
   "cell_type": "code",
   "execution_count": null,
   "id": "d2373871-d99c-4184-a752-9a42aeff24ee",
   "metadata": {},
   "outputs": [],
   "source": [
    "def sample(a,b,c):\n",
    "    print((a*b)**c)"
   ]
  },
  {
   "cell_type": "code",
   "execution_count": 5,
   "id": "dcfbb196-7a8d-46f1-95a9-b731d948cd2e",
   "metadata": {},
   "outputs": [
    {
     "name": "stdout",
     "output_type": "stream",
     "text": [
      "8\n"
     ]
    }
   ],
   "source": [
    "sample(a = 1, b = 2, c = 3) # Hier sind a = 1, b = 2 und c = 3 die Keyword-Argumente (Keyword-Value PAARE)"
   ]
  },
  {
   "cell_type": "code",
   "execution_count": 6,
   "id": "082fe9eb-5c48-4cbd-bd79-776c09136e31",
   "metadata": {},
   "outputs": [
    {
     "name": "stdout",
     "output_type": "stream",
     "text": [
      "8\n"
     ]
    }
   ],
   "source": [
    "sample(c = 3, b = 2, a = 1)"
   ]
  },
  {
   "cell_type": "markdown",
   "id": "d05aae2a-154b-4316-bf9e-5e7b7ce287e7",
   "metadata": {},
   "source": [
    "In welcher Reihenfolge die Argumente definiert sind ist egal. Es geht NUR um den zugewiesen Wert."
   ]
  },
  {
   "cell_type": "code",
   "execution_count": 8,
   "id": "d90e1a35-8cba-496a-8a2a-da5c0e472f49",
   "metadata": {},
   "outputs": [],
   "source": [
    "def introduction(first_name, last_name):\n",
    "    print(\"Hello, my name is\", first_name, last_name)"
   ]
  },
  {
   "cell_type": "code",
   "execution_count": 9,
   "id": "0aff2e86-296e-482e-b81f-0cefe2abdd22",
   "metadata": {},
   "outputs": [
    {
     "name": "stdout",
     "output_type": "stream",
     "text": [
      "Hello, my name is James Bond\n"
     ]
    }
   ],
   "source": [
    "introduction(first_name = \"James\", last_name = \"Bond\")"
   ]
  },
  {
   "cell_type": "code",
   "execution_count": 10,
   "id": "0b964da5-4932-4458-a0c0-ebe69a8bc5b8",
   "metadata": {},
   "outputs": [
    {
     "name": "stdout",
     "output_type": "stream",
     "text": [
      "Hello, my name is James Bond\n"
     ]
    }
   ],
   "source": [
    "introduction(last_name = \"Bond\", first_name = \"James\")"
   ]
  },
  {
   "cell_type": "code",
   "execution_count": 11,
   "id": "94b837f3-16cf-40a2-b3e4-a7043910d0b9",
   "metadata": {},
   "outputs": [
    {
     "ename": "TypeError",
     "evalue": "introduction() got an unexpected keyword argument 'Nachname'",
     "output_type": "error",
     "traceback": [
      "\u001b[1;31m---------------------------------------------------------------------------\u001b[0m",
      "\u001b[1;31mTypeError\u001b[0m                                 Traceback (most recent call last)",
      "Cell \u001b[1;32mIn[11], line 1\u001b[0m\n\u001b[1;32m----> 1\u001b[0m \u001b[43mintroduction\u001b[49m\u001b[43m(\u001b[49m\u001b[43mNachname\u001b[49m\u001b[43m \u001b[49m\u001b[38;5;241;43m=\u001b[39;49m\u001b[43m \u001b[49m\u001b[38;5;124;43m\"\u001b[39;49m\u001b[38;5;124;43mBond\u001b[39;49m\u001b[38;5;124;43m\"\u001b[39;49m\u001b[43m,\u001b[49m\u001b[43m \u001b[49m\u001b[43mfirst_name\u001b[49m\u001b[43m \u001b[49m\u001b[38;5;241;43m=\u001b[39;49m\u001b[43m \u001b[49m\u001b[38;5;124;43m\"\u001b[39;49m\u001b[38;5;124;43mJames\u001b[39;49m\u001b[38;5;124;43m\"\u001b[39;49m\u001b[43m)\u001b[49m\n",
      "\u001b[1;31mTypeError\u001b[0m: introduction() got an unexpected keyword argument 'Nachname'"
     ]
    }
   ],
   "source": [
    "introduction(Nachname = \"Bond\", first_name = \"James\")"
   ]
  },
  {
   "cell_type": "markdown",
   "id": "c22566b2-8264-45b4-9465-5b012fb0d6a4",
   "metadata": {},
   "source": [
    "Es werden nur die Keywords erkannt, die in der Methode definiert sind."
   ]
  },
  {
   "cell_type": "markdown",
   "id": "b29d90c8-b61b-4afe-9d9f-a444f37e660e",
   "metadata": {},
   "source": [
    "### Mischen von Positional- und Keword-Agumenten"
   ]
  },
  {
   "cell_type": "markdown",
   "id": "90eca83c-14af-4832-8267-9ac3acc51756",
   "metadata": {},
   "source": [
    "Man kann beide Arten mischen. Es gibt nur eine unumstößliche Regel: Positionsargumente MÜSSEN VOR Schlüsselwortargumenten gesetzt werden."
   ]
  },
  {
   "cell_type": "code",
   "execution_count": 10,
   "id": "9bace33d-08f8-4fb2-af11-ea5ea99c797b",
   "metadata": {},
   "outputs": [],
   "source": [
    "def adding(a, b, c):\n",
    "    print(a, \"+\", b, \"+\", c, \"=\", a + b + c)"
   ]
  },
  {
   "cell_type": "code",
   "execution_count": 11,
   "id": "f98af685-ae6b-4bf1-ab59-e34bea1eada3",
   "metadata": {},
   "outputs": [
    {
     "name": "stdout",
     "output_type": "stream",
     "text": [
      "1 + 2 + 3 = 6\n"
     ]
    }
   ],
   "source": [
    "adding(1,2,3) # Ein positionales Argument für jeden Parameter. "
   ]
  },
  {
   "cell_type": "code",
   "execution_count": 12,
   "id": "ddcf8931-a112-4148-9aee-059b53541cbf",
   "metadata": {},
   "outputs": [
    {
     "name": "stdout",
     "output_type": "stream",
     "text": [
      "2 + 3 + 1 = 6\n"
     ]
    }
   ],
   "source": [
    "adding(c = 1, a = 2, b = 3) # Ein Keyword-Argument für jeden Parameter."
   ]
  },
  {
   "cell_type": "code",
   "execution_count": 13,
   "id": "182e277e-b4b9-4dd9-8669-da0d6e3f3b83",
   "metadata": {},
   "outputs": [
    {
     "name": "stdout",
     "output_type": "stream",
     "text": [
      "1 + 2 + 3 = 6\n"
     ]
    }
   ],
   "source": [
    "adding(1,2,c=3) # Zwei positionale und ein Keyword-Argument."
   ]
  },
  {
   "cell_type": "code",
   "execution_count": 14,
   "id": "94a34dbd-83ac-4633-8e94-b1c30f39300b",
   "metadata": {},
   "outputs": [
    {
     "ename": "SyntaxError",
     "evalue": "positional argument follows keyword argument (2790584393.py, line 1)",
     "output_type": "error",
     "traceback": [
      "\u001b[1;36m  Cell \u001b[1;32mIn[14], line 1\u001b[1;36m\u001b[0m\n\u001b[1;33m    adding(c=3,1,2) # Ein Keyword-Argument VOR den positionalen Argumenten --> Error\u001b[0m\n\u001b[1;37m                  ^\u001b[0m\n\u001b[1;31mSyntaxError\u001b[0m\u001b[1;31m:\u001b[0m positional argument follows keyword argument\n"
     ]
    }
   ],
   "source": [
    "adding(c=3,1,2) # Ein Keyword-Argument VOR den positionalen Argumenten --> Error"
   ]
  },
  {
   "cell_type": "code",
   "execution_count": 15,
   "id": "c0b41f9a-d950-434b-a778-a7013102da39",
   "metadata": {},
   "outputs": [
    {
     "ename": "TypeError",
     "evalue": "adding() got multiple values for argument 'b'",
     "output_type": "error",
     "traceback": [
      "\u001b[1;31m---------------------------------------------------------------------------\u001b[0m",
      "\u001b[1;31mTypeError\u001b[0m                                 Traceback (most recent call last)",
      "Cell \u001b[1;32mIn[15], line 1\u001b[0m\n\u001b[1;32m----> 1\u001b[0m \u001b[43madding\u001b[49m\u001b[43m(\u001b[49m\u001b[38;5;241;43m1\u001b[39;49m\u001b[43m,\u001b[49m\u001b[38;5;241;43m2\u001b[39;49m\u001b[43m,\u001b[49m\u001b[43mb\u001b[49m\u001b[38;5;241;43m=\u001b[39;49m\u001b[38;5;241;43m3\u001b[39;49m\u001b[43m)\u001b[49m \u001b[38;5;66;03m# Zwei positionale und ein Keyword-Argument. Richtige Syntax, aber zwei Werte für \"b\" und keiner für \"c\".\u001b[39;00m\n",
      "\u001b[1;31mTypeError\u001b[0m: adding() got multiple values for argument 'b'"
     ]
    }
   ],
   "source": [
    "adding(1,2,b=3) # Zwei positionale und ein Keyword-Argument. Richtige Syntax, aber zwei Werte für \"b\" und keiner für \"c\"."
   ]
  },
  {
   "cell_type": "markdown",
   "id": "21843102-cd46-4be3-ab22-309bbe8d16a8",
   "metadata": {},
   "source": [
    "Beim Aufrufen der Funktion mit Keywordargumenten wird die in der def-Funktion vor definierte Formel mit den Argumenten befüllt und ausgeführt."
   ]
  },
  {
   "cell_type": "markdown",
   "id": "168157c7-0848-47f0-bafa-6140d057f5f8",
   "metadata": {},
   "source": [
    "[Beispiel im Pythontutor](https://pythontutor.com/render.html#code=def%20adding%28a,%20b,%20c%29%3A%0A%20%20%20%20print%28a,%20%22%2B%22,%20b,%20%22%2B%22,%20c,%20%22%3D%22,%20a%20%2B%20b%20%2B%20c%29%0A%0Aadding%281,2,3%29%0Aadding%28c%20%3D%201,%20a%20%3D%202,%20b%20%3D%203%29%0Aadding%281,2,c%3D3%29%0A%23%20adding%28c%3D3,1,2%29%20%23%20SyntaxError%0A%23%20adding%281,2,b%3D3%29%20%23%20TypeError&cumulative=false&curInstr=0&heapPrimitives=nevernest&mode=display&origin=opt-frontend.js&py=3&rawInputLstJSON=%5B%5D&textReferences=false)"
   ]
  },
  {
   "cell_type": "markdown",
   "id": "617a7b9c-defc-48c9-9e6f-ada2154ce1d4",
   "metadata": {},
   "source": [
    "### Details zu Argumenten:"
   ]
  },
  {
   "cell_type": "markdown",
   "id": "79bb61c6-e9da-421a-baa9-a94049320414",
   "metadata": {},
   "source": [
    "Je nach dem welche zusätzlichen \"besonderen\" Argumente man noch in die Funktion setzt, bekommen die anderen Argumente spezielle Eigenschaften / Anforderungen:"
   ]
  },
  {
   "cell_type": "markdown",
   "id": "a7c5ae62-6ee2-4a6a-85fc-628e3aada282",
   "metadata": {},
   "source": [
    "Wir erinnern uns an die default Werte für Seperatoren und Ende... "
   ]
  },
  {
   "cell_type": "code",
   "execution_count": 15,
   "id": "463b1021-45f7-4342-b44a-a30b0ae4a348",
   "metadata": {},
   "outputs": [
    {
     "name": "stdout",
     "output_type": "stream",
     "text": [
      "Hallo***Du***gummischuhbleib hier  neue Zeile\n"
     ]
    }
   ],
   "source": [
    "print(\"Hallo\", \"Du\", \"gummischuh\", sep = \"***\", end = \"bleib hier  \")\n",
    "print(\"neue Zeile\")"
   ]
  },
  {
   "cell_type": "markdown",
   "id": "a1e92289-7efb-48b4-b33c-651cd08cea19",
   "metadata": {},
   "source": [
    "Wenn wir jetzt `/` und `*` mit in die Funktion nehmen bekommen die Argumente a, b und c neue Eigenschaften."
   ]
  },
  {
   "cell_type": "code",
   "execution_count": 75,
   "id": "4c954f84-28e7-4193-8e28-f27dc26b28ab",
   "metadata": {},
   "outputs": [],
   "source": [
    "def addiere(a,/, b ,*, c): # positional arguments, *, keywordONLY Arguments\n",
    "\t    return a+b+c\n",
    "\n",
    "x = addiere( 10, 20, c = 100)"
   ]
  },
  {
   "cell_type": "markdown",
   "id": "693b3dad-14f1-4113-b380-9abb80691f8f",
   "metadata": {},
   "source": [
    "Jetzt unterscheidet man plötzlich zwischen drei verschiedenen Typen von Argumenten:"
   ]
  },
  {
   "cell_type": "markdown",
   "id": "81e6c34d-e678-4fdc-b348-1c83868a8e16",
   "metadata": {},
   "source": [
    "- positional-only (LINKS von /) => darf man NICHT mit Namen aufrufen \"a = 10\" GEHT NICHT\n",
    "- positional or keyword (RECHTS von / aber LINKS von *) => Darf man entweder mit oder ohne Namen aufrufen. Beides ist erlaubt.\n",
    "- keyword-only (RECHTS von  *, ) => MUSS man mit Namen aufrufen."
   ]
  },
  {
   "cell_type": "markdown",
   "id": "45bb81d7-9e68-415b-b18f-f064c680b0cf",
   "metadata": {},
   "source": [
    "Syntax: \n",
    "\n",
    "function_name `(` `positional-only` , `/` , `positional` oder `keyword` , `*` , `keyword-only` `)`"
   ]
  },
  {
   "cell_type": "markdown",
   "id": "072c6d36-8b47-4ccd-bd85-6ffbfec190ab",
   "metadata": {},
   "source": [
    "# keyword Argument vs. Positionales Argument mit default wert"
   ]
  },
  {
   "cell_type": "markdown",
   "id": "17a6f4b5-9ce5-4838-bef7-37e84df1d827",
   "metadata": {},
   "source": [
    "Muss ich noch erstellen"
   ]
  },
  {
   "cell_type": "markdown",
   "id": "5d34ba7a-7477-4f5a-8f59-9f2cd3fe592f",
   "metadata": {},
   "source": [
    "[Link Pythontutor](https://pythontutor.com/visualize.html#code=%0Adef%20f%28Positional%20only%20/%20Do%20what%20you%20want%20*%20Keyword%20only%29%3A%0A%0Adef%20f%28a,b,/,%20c,*,d%29%3A%0A%20%20%20%20print%28locals%28%29%29%0A%20%20%20%20%0A%20%20%20%20%0Af%281,2,3,d%20%3D%204%29&cumulative=false&heapPrimitives=nevernest&mode=edit&origin=opt-frontend.js&py=311&rawInputLstJSON=%5B%5D&textReferences=false)"
   ]
  },
  {
   "cell_type": "code",
   "execution_count": null,
   "id": "a40595db-9e63-49b2-b484-a912c1f31a64",
   "metadata": {},
   "outputs": [],
   "source": [
    "default wert muss am Ende des blocks stehen!"
   ]
  },
  {
   "cell_type": "code",
   "execution_count": null,
   "id": "661111eb-190c-43f6-af7e-785d6305c611",
   "metadata": {},
   "outputs": [],
   "source": [
    "\n",
    "def f(Positional only / Do what you want * Keyword only):\n",
    "\n",
    "def f(a,b,/, c,*,d):\n",
    "    print(locals())\n",
    "    \n",
    "    \n",
    "f(1,2,3,d = 4)"
   ]
  }
 ],
 "metadata": {
  "kernelspec": {
   "display_name": "Python 3 (ipykernel)",
   "language": "python",
   "name": "python3"
  },
  "language_info": {
   "codemirror_mode": {
    "name": "ipython",
    "version": 3
   },
   "file_extension": ".py",
   "mimetype": "text/x-python",
   "name": "python",
   "nbconvert_exporter": "python",
   "pygments_lexer": "ipython3",
   "version": "3.12.3"
  }
 },
 "nbformat": 4,
 "nbformat_minor": 5
}
