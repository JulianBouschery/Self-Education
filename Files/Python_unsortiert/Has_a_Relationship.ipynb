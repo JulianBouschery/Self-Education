{
 "cells": [
  {
   "cell_type": "markdown",
   "id": "be6d7cfc-44a8-4e8a-8803-4e36b47d76ba",
   "metadata": {},
   "source": [
    "# Has a Relationship"
   ]
  },
  {
   "cell_type": "markdown",
   "id": "08e983e3-87e9-4227-9057-0c4109254bea",
   "metadata": {},
   "source": [
    "Eine \"Has-a\"-Relation beschreibt eine Beziehung zwischen zwei Klassen, bei der eine Klasse eine **INSTANZ der anderen Klasse als Attribut enthält**. Dies wird auch als Komposition oder Aggregation bezeichnet."
   ]
  },
  {
   "cell_type": "markdown",
   "id": "9641d937-822d-4809-b121-c775500b7ec7",
   "metadata": {},
   "source": [
    "Eine `Has-a`-Relation ist eine Beziehung zwischen zwei Klassen. Bisher kannten wir das nur von Vererbung wo Superklassen ihre Attribute an ihren Subklassen vererbt haben. Jedes Kind kann alles was der Papa konnte...\n",
    "\n",
    "Bei einer `has-a`-Relation ENTHÄLT die eine Klasse eine INSTANZ der anderen Klasse als Attribut."
   ]
  },
  {
   "cell_type": "markdown",
   "id": "68fff903-8f5f-47b1-a176-0bc12e6b4e81",
   "metadata": {},
   "source": [
    "Beispielsweise:\n",
    "\n",
    "Ein Laptop (Klasse Laptop) hat einen Prozessor (prozessor1 = Instanz der Klasse Prozessor). \n",
    "Aber ein Prozessor hat keinen Laptop. \n",
    "Und der Laptop erbt auch NICHT von dem Prozessor, ein Laptop ist KEIN Prozessor und ein Prozessor ist KEIN Laptop."
   ]
  },
  {
   "cell_type": "code",
   "execution_count": 5,
   "id": "34aef292-e171-4244-8ae5-e69db2e748cc",
   "metadata": {},
   "outputs": [
    {
     "name": "stdout",
     "output_type": "stream",
     "text": [
      "Intel\n"
     ]
    }
   ],
   "source": [
    "class Prozessor:\n",
    "    \n",
    "    def __init__(self, hersteller,type_name, kernel): \n",
    "        self.hersteller = hersteller\n",
    "        self.type_name = type_name\n",
    "        self.kernel = kernel\n",
    "\n",
    "class NetWorkCard: \n",
    "    \n",
    "    def __init__(self, anschluss, ram): \n",
    "        self.anschluss = anschluss\n",
    "        self.ram = ram\n",
    "\n",
    "class Laptop:\n",
    "    \n",
    "    def __init__(self, name, prozessor, net_work_card):\n",
    "        self.name = name\n",
    "        self.prozessor = prozessor\n",
    "        self.ncard = net_work_card\n",
    "        \n",
    "        \n",
    "netcard1 = NetWorkCard(\"USB\", 16)\n",
    "prozessor1 = Prozessor(\"Intel\", \"i7 49723\", 4)\n",
    "laptop1  = Laptop(\"Macbook\", prozessor1, netcard1)\n",
    "\n",
    "print(laptop1.prozessor.hersteller)"
   ]
  },
  {
   "cell_type": "markdown",
   "id": "5a1f7b85-0eb8-4bb8-8e07-5f72013e5abf",
   "metadata": {},
   "source": [
    "[Code im Pythontutor](https://pythontutor.com/render.html#code=%0A%0Aclass%20NetWorkCard%3A%20%0A%20%20%20%20%0A%20%20%20%20def%20__init__%28self,%20anschluss,%20ram%29%3A%20%0A%20%20%20%20%20%20%20%20self.anschluss%20%3D%20anschluss%0A%20%20%20%20%20%20%20%20self.ram%20%3D%20ram%0A%20%20%20%20%20%20%20%20%0A%0A%0Aclass%20Prozessor%3A%0A%20%20%20%20%0A%20%20%20%20def%20__init__%28self,%20hersteller,type_name,%20kernel%29%3A%20%0A%20%20%20%20%20%20%20%20self.hersteller%20%3D%20hersteller%0A%20%20%20%20%20%20%20%20self.type_name%20%3D%20type_name%0A%20%20%20%20%20%20%20%20self.kernel%20%3D%20kernel%0A%20%20%20%20%20%20%20%20%0Aclass%20Laptop%3A%0A%20%20%20%20%0A%20%20%20%20def%20__init__%28self,%20name,%20prozessor,%20net_work_card%29%3A%0A%20%20%20%20%20%20%20%20self.name%20%3D%20name%0A%20%20%20%20%20%20%20%20self.prozessor%20%3D%20prozessor%0A%20%20%20%20%20%20%20%20self.ncard%20%3D%20net_work_card%0A%20%20%20%20%20%20%20%20%0A%20%20%20%20%20%20%20%20%0Anetcard1%20%3D%20NetWorkCard%28%22usb%22,%2016%29%0Aprozessor%20%3D%20Prozessor%28%22intel%22,%20%22i7%2049723%22,%204%29%0Alaptop1%20%20%3D%20Laptop%28%22macbook%22,prozessor%20,%20netcard1%29%0A%0Aprint%28laptop1.prozessor.hersteller%5B-2%3A%5D%29&cumulative=false&curInstr=21&heapPrimitives=nevernest&mode=display&origin=opt-frontend.js&py=311&rawInputLstJSON=%5B%5D&textReferences=false)"
   ]
  },
  {
   "cell_type": "code",
   "execution_count": null,
   "id": "e94904c6-4fe1-4e35-99f1-871e471062ac",
   "metadata": {},
   "outputs": [],
   "source": []
  }
 ],
 "metadata": {
  "kernelspec": {
   "display_name": "Python 3 (ipykernel)",
   "language": "python",
   "name": "python3"
  },
  "language_info": {
   "codemirror_mode": {
    "name": "ipython",
    "version": 3
   },
   "file_extension": ".py",
   "mimetype": "text/x-python",
   "name": "python",
   "nbconvert_exporter": "python",
   "pygments_lexer": "ipython3",
   "version": "3.12.4"
  }
 },
 "nbformat": 4,
 "nbformat_minor": 5
}
