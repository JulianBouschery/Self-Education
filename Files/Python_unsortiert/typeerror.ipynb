{
 "cells": [
  {
   "cell_type": "markdown",
   "id": "f26ae611-ed54-4703-986d-43373c52da97",
   "metadata": {},
   "source": [
    "# TypeError"
   ]
  },
  {
   "cell_type": "markdown",
   "id": "53d4f03a-92e1-4d61-9bd8-f3bc791c2947",
   "metadata": {},
   "source": [
    "Ein TypeError tritt auf, wenn eine Operation oder Funktion auf ein Objekt angewendet wird, das für diese Operation oder Funktion nicht geeignet ist. Dies kann verschiedene Gründe haben, zum Beispiel wenn man versucht, inkompatible Typen zu kombinieren oder wenn man eine Funktion mit falschen Argumenttypen aufruft."
   ]
  },
  {
   "cell_type": "markdown",
   "id": "aa77e15f-deb6-4890-85f7-9f7311bc2f37",
   "metadata": {},
   "source": [
    "### Häufige Ursachen für `TypeError`:"
   ]
  },
  {
   "cell_type": "markdown",
   "id": "e317db37-0c0a-490b-8123-7f5ca7555e5c",
   "metadata": {},
   "source": []
  },
  {
   "cell_type": "markdown",
   "id": "060347f2-c737-427c-8c77-eec8d1fed9b6",
   "metadata": {},
   "source": [
    "1. **Falscher Datentyp für Operationen:**"
   ]
  },
  {
   "cell_type": "markdown",
   "id": "07406efc-5bc7-4e28-8c67-f52749b5fe84",
   "metadata": {},
   "source": [
    "   - Versuchen, eine Zahl mit einem String zu addieren:\n",
    "     ```python\n",
    "     result = 5 + \"10\"  # TypeError: unsupported operand type(s) for +: 'int' and 'str'\n",
    "     ```"
   ]
  },
  {
   "cell_type": "markdown",
   "id": "969faa68-6252-46a6-ad4d-cd635a34df39",
   "metadata": {},
   "source": []
  },
  {
   "cell_type": "markdown",
   "id": "e601e79a-53da-4c04-b863-40739d95fb1a",
   "metadata": {},
   "source": [
    "2. **Falsche Anzahl oder Art der Argumente für Funktionen:**"
   ]
  },
  {
   "cell_type": "markdown",
   "id": "d1dc6c84-337c-4fb9-b63e-fcb50175204d",
   "metadata": {},
   "source": [
    "   - Eine Funktion erwartet eine bestimmte Anzahl oder bestimmte Typen von Argumenten, erhält aber etwas anderes:\n",
    "     ```python\n",
    "     def add(a, b):\n",
    "         return a + b\n",
    "\n",
    "     result = add(5, \"10\")  # TypeError: unsupported operand type(s) for +: 'int' and 'str'\n",
    "     ```"
   ]
  },
  {
   "cell_type": "markdown",
   "id": "d0a3bcf6-2f7f-4423-9573-6c70290f35d0",
   "metadata": {},
   "source": [
    "3. **Nicht-aufrufbare Objekte aufrufen:**\n",
    "   - Versuchen, ein nicht-aufrufbares Objekt wie eine Zahl oder einen String aufzurufen:\n",
    "     ```python\n",
    "     func = 5\n",
    "     func()  # TypeError: 'int' object is not callable\n",
    "     ```"
   ]
  },
  {
   "cell_type": "markdown",
   "id": "f8c3311a-168c-45b8-b3c7-32d63266bde4",
   "metadata": {},
   "source": [
    "4. **Falscher Zugriff auf Attribute oder Methoden:**\n",
    "   - Ein Attribut oder eine Methode wird für einen Objekt-Typ verwendet, der diese nicht unterstützt:\n",
    "     ```python\n",
    "     number = 5\n",
    "     number.append(10)  # TypeError: 'int' object has no attribute 'append'\n",
    "     ```"
   ]
  },
  {
   "cell_type": "markdown",
   "id": "38f0d8f8-912a-49f5-82a7-931e732e76f2",
   "metadata": {},
   "source": []
  },
  {
   "cell_type": "markdown",
   "id": "c1797c91-85b9-4946-85a6-89fd422534de",
   "metadata": {},
   "source": [
    "### Beispiel:"
   ]
  },
  {
   "cell_type": "markdown",
   "id": "93c6759a-4ab9-4847-80c2-7fcb2d5cac59",
   "metadata": {},
   "source": [
    "```python\n",
    "# Beispiel 1: Addition von inkompatiblen Typen\n",
    "try:\n",
    "    result = 5 + \"10\"\n",
    "except TypeError as e:\n",
    "    print(f\"TypeError aufgetreten: {e}\")\n",
    "\n",
    "# Beispiel 2: Falsche Anzahl oder Art der Argumente für Funktionen\n",
    "def add(a, b):\n",
    "    return a + b\n",
    "\n",
    "try:\n",
    "    result = add(5, \"10\")\n",
    "except TypeError as e:\n",
    "    print(f\"TypeError aufgetreten: {e}\")\n",
    "\n",
    "# Beispiel 3: Nicht-aufrufbares Objekt aufrufen\n",
    "try:\n",
    "    func = 5\n",
    "    func()\n",
    "except TypeError as e:\n",
    "    print(f\"TypeError aufgetreten: {e}\")\n",
    "\n",
    "# Beispiel 4: Falscher Zugriff auf Attribute oder Methoden\n",
    "try:\n",
    "    number = 5\n",
    "    number.append(10)\n",
    "except TypeError as e:\n",
    "    print(f\"TypeError aufgetreten: {e}\")\n",
    "```\n",
    "\n",
    "In jedem dieser Beispiele wird ein `TypeError` ausgelöst, weil eine Operation auf einen ungeeigneten Typ angewendet wird."
   ]
  },
  {
   "cell_type": "code",
   "execution_count": null,
   "id": "21ef6252-c8d6-4fb7-966b-920a4c6849ee",
   "metadata": {},
   "outputs": [],
   "source": []
  }
 ],
 "metadata": {
  "kernelspec": {
   "display_name": "Python 3 (ipykernel)",
   "language": "python",
   "name": "python3"
  },
  "language_info": {
   "codemirror_mode": {
    "name": "ipython",
    "version": 3
   },
   "file_extension": ".py",
   "mimetype": "text/x-python",
   "name": "python",
   "nbconvert_exporter": "python",
   "pygments_lexer": "ipython3",
   "version": "3.12.4"
  }
 },
 "nbformat": 4,
 "nbformat_minor": 5
}
