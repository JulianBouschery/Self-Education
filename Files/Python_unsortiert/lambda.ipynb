{
 "cells": [
  {
   "cell_type": "markdown",
   "id": "e2c9f8df-e6e0-4d56-9114-1a51fb1d456c",
   "metadata": {},
   "source": [
    "[Zurück zum Inhaltsverzeichnis](_Inhaltsverzeichnis_.ipynb)"
   ]
  },
  {
   "cell_type": "markdown",
   "id": "34435f2d-a5c2-442b-8d5d-56ecbef4a488",
   "metadata": {},
   "source": [
    "# lambda Funktion"
   ]
  },
  {
   "cell_type": "markdown",
   "id": "869b2e6f-424c-4419-9b92-66f9f39c39be",
   "metadata": {},
   "source": [
    "## Überblick"
   ]
  },
  {
   "cell_type": "markdown",
   "id": "9a6a8920-ad53-44ee-8a83-896f4c249e6d",
   "metadata": {},
   "source": [
    "\n",
    "Name der Funktion: lambda\n",
    "\n",
    "Instanz der Klasse: ?\n",
    "\n",
    "Syntax:\n",
    "\n",
    "`abc` `(` `def` `)` \n",
    "\n",
    "```python\n",
    "Parameter: \n",
    "lambda arguments: expression    \n",
    "oder\n",
    "lambda_expr ::= \"lambda\" [parameter_list] \":\" expression\n",
    "\n",
    "```\n",
    "Funktion: \n",
    "\n",
    "Eine lambda-Funktion ist eine kleine, anonyme Funktion, die mit dem Schlüsselwort lambda erstellt wird. Sie kann beliebig viele Argumente haben, hat aber nur einen Ausdruck. lambda-Funktionen sind [syntaktisch](exp_syntaktisch.ipynb) kompakt und oft nützlich für kurzlebige Operationen, insbesondere wenn sie als Argumente an andere Funktionen übergeben werden.\n",
    "\n",
    "Default return: \n",
    "```python\n",
    "abc\n",
    "```\n",
    "Error:\n"
   ]
  },
  {
   "cell_type": "markdown",
   "id": "7dc66498-97b1-4f4e-bd55-b2a8172d67ed",
   "metadata": {},
   "source": [
    "#### Instanz"
   ]
  },
  {
   "cell_type": "code",
   "execution_count": 8,
   "id": "ad14d68d-d787-46eb-9784-4bb5ea88e965",
   "metadata": {},
   "outputs": [
    {
     "ename": "SyntaxError",
     "evalue": "invalid syntax (2481806151.py, line 1)",
     "output_type": "error",
     "traceback": [
      "\u001b[1;36m  Cell \u001b[1;32mIn[8], line 1\u001b[1;36m\u001b[0m\n\u001b[1;33m    print(type(lambda())\u001b[0m\n\u001b[1;37m                     ^\u001b[0m\n\u001b[1;31mSyntaxError\u001b[0m\u001b[1;31m:\u001b[0m invalid syntax\n"
     ]
    }
   ],
   "source": [
    "print(type(lambda())"
   ]
  },
  {
   "cell_type": "markdown",
   "id": "a367626f-cc22-4685-b088-84b1b734e346",
   "metadata": {},
   "source": [
    "#### Parameter"
   ]
  },
  {
   "cell_type": "code",
   "execution_count": 7,
   "id": "7f594273-70f4-407e-9726-17196067fa4b",
   "metadata": {},
   "outputs": [
    {
     "name": "stdout",
     "output_type": "stream",
     "text": [
      "Object `lambda` not found.\n"
     ]
    }
   ],
   "source": [
    "lambda?"
   ]
  },
  {
   "cell_type": "code",
   "execution_count": 5,
   "id": "c64af851-5535-4847-9619-cce8bec4b171",
   "metadata": {},
   "outputs": [
    {
     "name": "stdout",
     "output_type": "stream",
     "text": [
      "Lambdas\n",
      "*******\n",
      "\n",
      "   lambda_expr ::= \"lambda\" [parameter_list] \":\" expression\n",
      "\n",
      "Lambda expressions (sometimes called lambda forms) are used to create\n",
      "anonymous functions. The expression \"lambda parameters: expression\"\n",
      "yields a function object.  The unnamed object behaves like a function\n",
      "object defined with:\n",
      "\n",
      "   def <lambda>(parameters):\n",
      "       return expression\n",
      "\n",
      "See section Function definitions for the syntax of parameter lists.\n",
      "Note that functions created with lambda expressions cannot contain\n",
      "statements or annotations.\n",
      "\n",
      "Related help topics: FUNCTIONS\n",
      "\n"
     ]
    }
   ],
   "source": [
    "help(\"lambda\")"
   ]
  },
  {
   "cell_type": "markdown",
   "id": "78f42408-eb14-4cea-90a3-c7a4f56f776b",
   "metadata": {},
   "source": [
    "#### return"
   ]
  },
  {
   "cell_type": "code",
   "execution_count": 35,
   "id": "b0d35459-1f33-4d03-8706-efdb1c718f46",
   "metadata": {},
   "outputs": [
    {
     "data": {
      "text/plain": [
       "{}"
      ]
     },
     "execution_count": 35,
     "metadata": {},
     "output_type": "execute_result"
    }
   ],
   "source": [
    "# Default return: Ohne Argument => leeres dict\n",
    "dict1 = dict()\n",
    "dict1"
   ]
  },
  {
   "cell_type": "code",
   "execution_count": 37,
   "id": "441affb2-49d7-4570-a49b-355174f7bde4",
   "metadata": {},
   "outputs": [
    {
     "data": {
      "text/plain": [
       "{'key1': 'value1', 'key2': 'value2'}"
      ]
     },
     "execution_count": 37,
     "metadata": {},
     "output_type": "execute_result"
    }
   ],
   "source": [
    "# return: Mit Argumenten --> befülltes Dictionary\n",
    "dict2 = dict([(\"key1\",\"value1\"),(\"key2\",\"value2\")])\n",
    "dict2"
   ]
  },
  {
   "cell_type": "markdown",
   "id": "605db993-4663-4dc8-975e-a42afd001a06",
   "metadata": {},
   "source": [
    "### Error:"
   ]
  },
  {
   "cell_type": "code",
   "execution_count": null,
   "id": "cfd01264-edbe-4f9b-9543-8cb5edf04792",
   "metadata": {},
   "outputs": [],
   "source": []
  },
  {
   "cell_type": "code",
   "execution_count": null,
   "id": "3df4c3dc-2056-4cbb-b4f5-b837cc4ecf22",
   "metadata": {},
   "outputs": [],
   "source": []
  },
  {
   "cell_type": "markdown",
   "id": "bdae5815-44d6-423b-8aa3-279fee5dd8cb",
   "metadata": {},
   "source": [
    "## Detailierte Erklärung"
   ]
  },
  {
   "cell_type": "markdown",
   "id": "c2462eb4-bce6-42b3-93c4-1efd6d1875be",
   "metadata": {},
   "source": [
    "Eine lambda-Funktion in Python ist eine kleine, anonyme Funktion, die mit dem Schlüsselwort lambda erstellt wird. Sie kann beliebig viele Argumente haben, hat aber nur einen Ausdruck. lambda-Funktionen sind syntaktisch kompakt und oft nützlich für kurzlebige Operationen, insbesondere wenn sie als Argumente an **andere Funktionen übergeben werden**."
   ]
  },
  {
   "cell_type": "code",
   "execution_count": 9,
   "id": "2e587336-65e0-462b-b4c5-9062bf8ef0d3",
   "metadata": {},
   "outputs": [
    {
     "name": "stdout",
     "output_type": "stream",
     "text": [
      "Object `lambda` not found.\n"
     ]
    }
   ],
   "source": [
    "lambda?"
   ]
  },
  {
   "cell_type": "markdown",
   "id": "02d7e1c3-6f04-4127-835b-2848c1510cf3",
   "metadata": {},
   "source": [
    "Was genau mach lambda?"
   ]
  },
  {
   "cell_type": "markdown",
   "id": "73d43e66-9b19-410d-b060-b953ed742213",
   "metadata": {},
   "source": [
    "Anonym: lambda-Funktionen haben keinen Namen.\n",
    "\n",
    "Ein Ausdruck: Eine lambda-Funktion besteht aus einem einzigen Ausdruck, dessen Ergebnis zurückgegeben wird.\n",
    "\n",
    "Mehrere Argumente: Sie können beliebig viele Argumente haben, getrennt durch Kommata."
   ]
  },
  {
   "cell_type": "markdown",
   "id": "65d5dfbe-e39c-42bf-8177-797840a61e14",
   "metadata": {},
   "source": [
    "Bespiele:"
   ]
  },
  {
   "cell_type": "code",
   "execution_count": null,
   "id": "4fde14b4-1ccd-45d0-87a5-0e00cc11a4af",
   "metadata": {},
   "outputs": [],
   "source": [
    "# Eine lambda-Funktion, die zwei Zahlen addiert\n",
    "add = lambda x, y: x + y\n",
    "print(add(3, 5))  # Ausgabe: 8\n"
   ]
  },
  {
   "cell_type": "markdown",
   "id": "9d9ef76a-fdc1-4ed8-a1f3-7d30b2a4494d",
   "metadata": {},
   "source": [
    "Man schreibt also:\n",
    "\n",
    "`Variable` `=` `lambda` `Parameter1` `,` `Parameter2` ... `:` `Code, was lambda mit diesen Parametern machen soll`"
   ]
  },
  {
   "cell_type": "code",
   "execution_count": 10,
   "id": "79fc5492-05bf-4975-9231-141164bd145b",
   "metadata": {},
   "outputs": [],
   "source": [
    "a = lambda x,y,z : x * y ** z"
   ]
  },
  {
   "cell_type": "code",
   "execution_count": 11,
   "id": "a228d673-a7bb-4f3f-9cf8-7f2a350ca9ee",
   "metadata": {},
   "outputs": [
    {
     "data": {
      "text/plain": [
       "8"
      ]
     },
     "execution_count": 11,
     "metadata": {},
     "output_type": "execute_result"
    }
   ],
   "source": [
    "a(1,2,3)"
   ]
  },
  {
   "cell_type": "markdown",
   "id": "5db32b87-947b-4568-a7d6-2a6da5bc3a5c",
   "metadata": {},
   "source": [
    "lambda-Funktion: Eine kompakte, anonyme Funktion, die in einem einzigen Ausdruck definiert wird.\n",
    "\n",
    "Verwendung: Ideal für kurzlebige, einfache Operationen und als Argumente für Funktionen wie map(), filter(), und sorted().\n",
    "\n",
    "Begrenzungen: Auf einen einzigen Ausdruck beschränkt und kann weniger gut lesbar sein.\n",
    "lambda-Funktionen sind ein nützliches Werkzeug in Python, das es ermöglicht, kleine, einzeilige Funktionen schnell und bequem zu erstellen."
   ]
  },
  {
   "cell_type": "code",
   "execution_count": null,
   "id": "52ad5bc9-5d42-49da-a9c9-110b44944e82",
   "metadata": {},
   "outputs": [],
   "source": []
  },
  {
   "cell_type": "markdown",
   "id": "914c70db-8ed2-4ba5-9c85-ad46a5469069",
   "metadata": {},
   "source": [
    "Eine lambda-Funktion in Python ist eine kleine, anonyme Funktion, die mit dem Schlüsselwort lambda erstellt wird. Sie kann beliebig viele Argumente haben, hat aber nur einen Ausdruck. lambda-Funktionen sind syntaktisch kompakt und oft nützlich für kurzlebige Operationen, insbesondere wenn sie als Argumente an **andere Funktionen übergeben werden**."
   ]
  },
  {
   "cell_type": "code",
   "execution_count": null,
   "id": "3111bb37-6896-4da1-bcda-4c6e7eefc3cb",
   "metadata": {},
   "outputs": [],
   "source": [
    "Ich möchte nocheinmal auf den Markierten Text eingehen:\n",
    "\n",
    "Man kann also einen Code schreiben, irgendwo vorher lambda definieren und dann "
   ]
  },
  {
   "cell_type": "code",
   "execution_count": null,
   "id": "5e443ca1-9dd5-4dcc-b7d7-e0234e022068",
   "metadata": {},
   "outputs": [],
   "source": [
    "Praktisches Bei"
   ]
  },
  {
   "cell_type": "markdown",
   "id": "615829ac-8d3f-47d8-b4c2-334514c58600",
   "metadata": {},
   "source": [
    "Beispiel: Sortieren einer Liste von Wörterbüchern\n",
    "\n",
    "Angenommen, wir haben eine Liste von Wörterbüchern, die Informationen über verschiedene Personen enthalten, und wir möchten diese Liste nach dem Alter der Personen sortieren."
   ]
  },
  {
   "cell_type": "code",
   "execution_count": 12,
   "id": "7894650a-26f0-4849-a38c-7848f84512c1",
   "metadata": {},
   "outputs": [
    {
     "name": "stdout",
     "output_type": "stream",
     "text": [
      "[{'name': 'Bob', 'alter': 25}, {'name': 'Alice', 'alter': 30}, {'name': 'Charlie', 'alter': 35}]\n"
     ]
    }
   ],
   "source": [
    "# Liste von Wörterbüchern\n",
    "personen = [\n",
    "    {\"name\": \"Alice\", \"alter\": 30},\n",
    "    {\"name\": \"Bob\", \"alter\": 25},\n",
    "    {\"name\": \"Charlie\", \"alter\": 35}\n",
    "]\n",
    "\n",
    "# Sortieren der Liste nach dem Alter mit einer lambda-Funktion\n",
    "sortierte_personen = sorted(personen, key=lambda person: person['alter'])\n",
    "\n",
    "# Ausgabe der sortierten Liste\n",
    "print(sortierte_personen)\n"
   ]
  },
  {
   "cell_type": "code",
   "execution_count": null,
   "id": "e4cbff80-5c9d-4a57-bea0-6f2a8fd49bf3",
   "metadata": {},
   "outputs": [],
   "source": []
  },
  {
   "cell_type": "code",
   "execution_count": 43,
   "id": "3743ce84-63dc-40da-ada2-491792f93bff",
   "metadata": {},
   "outputs": [],
   "source": [
    "word = \"Ethanol\""
   ]
  },
  {
   "cell_type": "code",
   "execution_count": 44,
   "id": "de382f1a-9453-4ed3-8822-8746ab6f5742",
   "metadata": {
    "tags": []
   },
   "outputs": [
    {
     "data": {
      "text/plain": [
       "<function __main__.<lambda>(word)>"
      ]
     },
     "execution_count": 44,
     "metadata": {},
     "output_type": "execute_result"
    }
   ],
   "source": [
    "lambda word: \"anol\" in word"
   ]
  },
  {
   "cell_type": "code",
   "execution_count": 49,
   "id": "d7aaff11-4953-46e6-8f30-b8118ae5a2e4",
   "metadata": {
    "tags": []
   },
   "outputs": [
    {
     "data": {
      "text/plain": [
       "True"
      ]
     },
     "execution_count": 49,
     "metadata": {},
     "output_type": "execute_result"
    }
   ],
   "source": [
    "# Die runden KLammern um Lambda dienen nur der Abgrenzung vom restlichen Code \n",
    "(lambda word: \"anol\" in word)(\"Ethanol\")"
   ]
  },
  {
   "cell_type": "code",
   "execution_count": 48,
   "id": "5f22764f-e365-401a-bade-955573da8291",
   "metadata": {},
   "outputs": [
    {
     "data": {
      "text/plain": [
       "True"
      ]
     },
     "execution_count": 48,
     "metadata": {},
     "output_type": "execute_result"
    }
   ],
   "source": [
    "word = \"Ethanol\"\n",
    "lambda word: \"anol\" in word\n",
    "(lambda word: \"anol\" in word)(\"Ethanol\") # Hier ist Ethanol IN der Klammer des Funktionsaufrufes von lambda\n",
    "                                        # funktion(\"Ethanol\" als Argument)"
   ]
  }
 ],
 "metadata": {
  "kernelspec": {
   "display_name": "Python 3 (ipykernel)",
   "language": "python",
   "name": "python3"
  },
  "language_info": {
   "codemirror_mode": {
    "name": "ipython",
    "version": 3
   },
   "file_extension": ".py",
   "mimetype": "text/x-python",
   "name": "python",
   "nbconvert_exporter": "python",
   "pygments_lexer": "ipython3",
   "version": "3.12.4"
  }
 },
 "nbformat": 4,
 "nbformat_minor": 5
}
