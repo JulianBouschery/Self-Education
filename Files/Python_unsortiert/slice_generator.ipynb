{
 "cells": [
  {
   "cell_type": "markdown",
   "id": "52084a45-4a25-4606-8a90-0cca1bffa424",
   "metadata": {},
   "source": [
    "[Zurück zum Inhaltsverzeichnis](_Inhaltsverzeichnis_.ipynb)"
   ]
  },
  {
   "cell_type": "markdown",
   "id": "f4477f6e-ee7d-4544-93ac-57d2515cb12f",
   "metadata": {},
   "source": [
    "# Slice Generator"
   ]
  },
  {
   "cell_type": "markdown",
   "id": "bf32086d-b881-473b-ad4a-196f60696f5c",
   "metadata": {},
   "source": [
    "## Syntax"
   ]
  },
  {
   "cell_type": "markdown",
   "id": "d973d536-5633-4a06-9ce2-cbc866b25a28",
   "metadata": {},
   "source": [
    "Syntax:\n",
    "\n",
    "`sequenz` `[` `Start` `:` `Stop` `:` `Step` `]` \n",
    "\n",
    "- Stop ist IMMER EXKLUSIV!!! Wir hören VOR Stop auf.\n",
    "- Start / Stop --> Index von Sequenz\n",
    "- Step --> Schrittlänge"
   ]
  },
  {
   "cell_type": "markdown",
   "id": "3d50a52a-4370-43d5-82a3-79c7c454e1e7",
   "metadata": {},
   "source": [
    "Sonderregeln:\n",
    "\n",
    "- Wenn Step positiv und Start > Stop --> [] \n",
    "- Wenn Step negativ und Start < Stop --> []"
   ]
  },
  {
   "cell_type": "markdown",
   "id": "3ec194fa-b2da-41a9-b8ce-9e2a8894e267",
   "metadata": {},
   "source": [
    "Warum ist das so?"
   ]
  },
  {
   "cell_type": "markdown",
   "id": "e87ebabb-cfe8-41aa-aa14-be84a14b44ce",
   "metadata": {},
   "source": [
    "Beispiel:"
   ]
  },
  {
   "cell_type": "code",
   "execution_count": 4,
   "id": "8c2aaf88-bd1a-43ac-97a0-a484baaaeab0",
   "metadata": {},
   "outputs": [
    {
     "data": {
      "text/plain": [
       "[]"
      ]
     },
     "execution_count": 4,
     "metadata": {},
     "output_type": "execute_result"
    }
   ],
   "source": [
    "sequenz = [\"A\",\"B\",\"C\",\"D\",\"E\"]\n",
    "sequenz[1:3:-1]"
   ]
  },
  {
   "cell_type": "markdown",
   "id": "cc69a504-813a-4165-9a8c-d0b97df29670",
   "metadata": {},
   "source": [
    "Wir stellen uns den Zahlenstrahl vor:\n",
    "```python\n",
    "        \"A\", \"B\", \"C\", \"D\", \"E\",\n",
    "         0    1    2  | 3    4 \n",
    "        -5   -4   -3   -2   -1 # von Hinten gezählt \n",
    "   <--- LINKS 1    \n",
    "             hört vor | # DAS VORZEICHEN BESTIMMT VON WO GEZÄHLT WIRD\n",
    "```\n",
    "Beginne bei Index 1, gehen in -1er-Schritten nach LINKS und höre VOR der 3 auf wo er nie ankommt.\n",
    "\n",
    "Man könnte jetzt denken: \"Ok, wir kommen zwar nicht bis zur 3, aber wir können ja theorethisch die 1 und die 0 mitnehmen...\"   \n",
    "Statt dessen sagt Python: \"Wow, du bist schon unterhalb der Stopgrenze! Brich ab, was immer du gerade vor hattest.\"\n"
   ]
  },
  {
   "cell_type": "code",
   "execution_count": 3,
   "id": "d7314ad7-6804-40c3-b797-8b6b8a64aded",
   "metadata": {},
   "outputs": [
    {
     "data": {
      "text/plain": [
       "[]"
      ]
     },
     "execution_count": 3,
     "metadata": {},
     "output_type": "execute_result"
    }
   ],
   "source": [
    "liste = [\"A\",\"B\",\"C\",\"D\",\"E\"]\n",
    "liste[3:1:1]"
   ]
  },
  {
   "cell_type": "markdown",
   "id": "74085223-756b-45d2-ba10-e02584115d10",
   "metadata": {},
   "source": [
    "Wir stellen uns den Zahlenstrahl vor:\n",
    "```python\n",
    "        \"A\", \"B\", \"C\", \"D\", \"E\",\n",
    "         0  | 1    2    3    4 \n",
    "        -5   -4   -3   -2   -1 # von Hinten gezählt \n",
    "                        3  RECHTS --->   \n",
    "   hört vor | # DAS VORZEICHEN BESTIMMT VON WO GEZÄHLT WIRD\n",
    "```\n",
    "Beginne bei Index 3, gehen in 1er-Schritten nach RECHTS und höre VOR der 1 auf wo er nie ankommt.\n",
    "\n",
    "Man könnte jetzt denken: \"Ok, wir kommen zwar nicht bis zur 1, aber wir können ja theorethisch die 3 und die 4 mitnehmen...\"   \n",
    "Statt dessen sagt Python: \"Wow, du bist schon oberhalb der Stopgrenze! Brich ab, was immer du gerade vor hattest.\"\n"
   ]
  },
  {
   "cell_type": "markdown",
   "id": "b78e16df-f84b-4d45-9352-ee65f790c7c0",
   "metadata": {},
   "source": [
    "# Generator und Anleitung"
   ]
  },
  {
   "cell_type": "markdown",
   "id": "bc0e8e37-2c1f-4862-9c7a-c157636f45a3",
   "metadata": {},
   "source": [
    "Dieser Slice Generator ist dafür gedacht, damit das Lesen von Slicen zu üben: \n",
    "- Code ausführen\n",
    "- Ergebnis in den Input eingeben oder im Kopfbehalten\n",
    "- Mit Enter das Ergebnis prüfen\n",
    "- Zum Abbrechen einfach \"q\" (Quit) eingeben"
   ]
  },
  {
   "cell_type": "markdown",
   "id": "27d6fe8b-ba29-46dc-94c9-8499c1c28901",
   "metadata": {},
   "source": [
    "## Aktuelle Version (2)"
   ]
  },
  {
   "cell_type": "code",
   "execution_count": null,
   "id": "a5db64f6-df47-495b-a089-37ebebd8b2b1",
   "metadata": {},
   "outputs": [],
   "source": [
    "import random\n",
    "\n",
    "# Liste, die gesliced werden soll\n",
    "lst = [\"A\", \"B\", \"C\", \"D\", \"E\"]\n",
    "\n",
    "def generate_random_slice():\n",
    "    length = len(lst)\n",
    "\n",
    "    # Generate random start, stop, and step\n",
    "    start = random.choice([random.randint(-length, length), ''])\n",
    "    stop = random.choice([random.randint(-length, length), ''])\n",
    "    step = random.choice([random.randint(1, length), -random.randint(1, length)])\n",
    "\n",
    "    # Store slice_obj for later use\n",
    "    slice_obj = slice(\n",
    "        None if start == '' else start,\n",
    "        None if stop == '' else stop,step)\n",
    "\n",
    "    # Return the slice object for later evaluation\n",
    "    return slice_obj\n",
    "\n",
    "def get_input_input(slice_obj):    \n",
    "\n",
    "    return f'[{\"\" if slice_obj.start==None else slice_obj.start}:{\"\" if slice_obj.stop==None else slice_obj.stop}:{\"\" if slice_obj.step == 1 else slice_obj.step}]'\n",
    "\n",
    "def print_slice_result(slice_obj):\n",
    "\n",
    "    result = lst[slice_obj]\n",
    "    print(f\"Result: {result}\")\n",
    "\n",
    "input_ = \"\"\n",
    "\n",
    "while input_ != \"q\":\n",
    "\n",
    "    slice_obj = generate_random_slice()\n",
    "\n",
    "    input_ = input(f\"Sequenz: {lst}, Slice: {get_input_input(slice_obj)}     \")\n",
    "\n",
    "    print_slice_result(slice_obj)"
   ]
  },
  {
   "cell_type": "code",
   "execution_count": null,
   "id": "db3f3ba8-80df-4a80-ba24-72ccc6733080",
   "metadata": {},
   "outputs": [],
   "source": []
  },
  {
   "cell_type": "code",
   "execution_count": null,
   "id": "e262f8b1-1ad0-4a34-a88e-0f0fabd5b274",
   "metadata": {},
   "outputs": [],
   "source": []
  },
  {
   "cell_type": "code",
   "execution_count": null,
   "id": "75970125-569f-456c-9f19-87f2c4304f86",
   "metadata": {},
   "outputs": [],
   "source": []
  },
  {
   "cell_type": "code",
   "execution_count": null,
   "id": "842808dd-a8fa-4fbb-b78e-ca4e6c314cbb",
   "metadata": {},
   "outputs": [],
   "source": []
  },
  {
   "cell_type": "code",
   "execution_count": null,
   "id": "24bfefb6-232f-4fa4-b17c-7c890d71ed91",
   "metadata": {},
   "outputs": [],
   "source": []
  },
  {
   "cell_type": "code",
   "execution_count": null,
   "id": "b3217d3a-c07f-4bb8-a9c1-bd8590a75f22",
   "metadata": {},
   "outputs": [],
   "source": []
  },
  {
   "cell_type": "code",
   "execution_count": null,
   "id": "031be57e-a486-468c-94b2-e89f14e7a4c4",
   "metadata": {},
   "outputs": [],
   "source": []
  },
  {
   "cell_type": "code",
   "execution_count": null,
   "id": "35884e84-5747-4add-9fbb-c0dc1f679a7e",
   "metadata": {},
   "outputs": [],
   "source": []
  },
  {
   "cell_type": "markdown",
   "id": "9b08a847-373a-4d40-985f-84c4c0ba89ec",
   "metadata": {},
   "source": [
    "# Andere Versionen"
   ]
  },
  {
   "cell_type": "markdown",
   "id": "b14acda2-cc1c-46c4-93e8-20fd9dc8c60a",
   "metadata": {
    "jp-MarkdownHeadingCollapsed": true
   },
   "source": [
    "## Version 1"
   ]
  },
  {
   "cell_type": "code",
   "execution_count": null,
   "id": "8371a5a6-423a-459c-9672-d6939116439c",
   "metadata": {},
   "outputs": [],
   "source": [
    "import random\n",
    "\n",
    "# Liste, die gesliced werden soll\n",
    "lst = [\"A\", \"B\", \"C\", \"D\", \"E\"]\n",
    "\n",
    "def generate_random_slice():\n",
    "    length = len(lst)\n",
    "    \n",
    "    # Generate random start, stop, and step\n",
    "    start = random.choice([random.randint(-length, length), ''])\n",
    "    stop = random.choice([random.randint(-length, length), ''])\n",
    "    step = random.choice([random.randint(1, length), -random.randint(1, length)])\n",
    "    \n",
    "    # Convert '' to None to represent empty slices\n",
    "    start_str = '' if start == '' else str(start)\n",
    "    stop_str = '' if stop == '' else str(stop)\n",
    "    step_str = '' if step == 1 else str(step)\n",
    "    \n",
    "    # Create slice string\n",
    "    global slice_str\n",
    "    slice_str = f\"[{start_str}:{stop_str}:{step_str}]\"#.strip(':').strip('[]') \n",
    "                                                      # Wer lieber ohne Klammern und Punkte liest einfach de # entfernen...\n",
    "    # Store slice_obj for later use\n",
    "    slice_obj = slice(\n",
    "        None if start == '' else start,\n",
    "        None if stop == '' else stop,\n",
    "        step\n",
    "    )\n",
    "        \n",
    "    # Return the slice object for later evaluation\n",
    "    return slice_obj\n",
    "\n",
    "def print_slice_result(slice_obj):\n",
    "    result = lst[slice_obj]\n",
    "    print(f\"Result: {result}\")\n",
    "\n",
    "# Usage\n",
    "input_ = \"\"\n",
    "\n",
    "while input_ != \"quit\":\n",
    "    slice_obj = generate_random_slice()\n",
    "    input_ = input(f\"Sequenz: {lst}, Slice: {slice_str}     \")\n",
    "    print_slice_result(slice_obj)\n"
   ]
  },
  {
   "cell_type": "markdown",
   "id": "0b3e90f4-d217-46ed-b7eb-9eac53b9f281",
   "metadata": {
    "jp-MarkdownHeadingCollapsed": true
   },
   "source": [
    "## Version 3 "
   ]
  },
  {
   "cell_type": "markdown",
   "id": "77a14a46-012d-473b-a71f-f8d506f472db",
   "metadata": {},
   "source": [
    "Ziel wäre jetzt noch eine Funktion zu bauen, die die Sequenz, die gesliced werden soll als Argument nimmt."
   ]
  },
  {
   "cell_type": "code",
   "execution_count": null,
   "id": "c113bd89-b580-471d-8cfc-075f796deee8",
   "metadata": {},
   "outputs": [],
   "source": [
    "import random\n",
    "\n",
    "# Liste, die gesliced werden soll\n",
    "\n",
    "lst = [\"A\", \"B\", \"C\", \"D\", \"E\"]\n",
    "\n",
    "def generate_random_slice():\n",
    "\n",
    "    length = len(lst)\n",
    "\n",
    "    # Generate random start, stop, and step\n",
    "\n",
    "    start = random.choice([random.randint(-length, length), ''])\n",
    "\n",
    "    stop = random.choice([random.randint(-length, length), ''])\n",
    "\n",
    "    step = random.choice([random.randint(1, length), -random.randint(1, length)])\n",
    "\n",
    "    # Convert '' to None to represent empty slices\n",
    "\n",
    "                                                        # Wer lieber ohne Klammern und Punkte liest einfach de # entfernen...\n",
    "\n",
    "    # Store slice_obj for later use\n",
    "\n",
    "    slice_obj = slice(\n",
    "\n",
    "        None if start == '' else start,\n",
    "\n",
    "        None if stop == '' else stop,\n",
    "\n",
    "        step\n",
    "\n",
    "    )\n",
    "\n",
    "    # Return the slice object for later evaluation\n",
    "\n",
    "    return slice_obj\n",
    "\n",
    "def get_input_input(slice_obj):    \n",
    "\n",
    "    return f'[{\"\" if slice_obj.start==None else slice_obj.start}:{\"\" if slice_obj.stop==None else slice_obj.stop}:{\"\" if slice_obj.step == 1 else slice_obj.step}]'\n",
    "\n",
    "def print_slice_result(slice_obj):\n",
    "\n",
    "    result = lst[slice_obj]\n",
    "\n",
    "    print(f\"Result: {result}\")\n",
    " \n",
    "    \n",
    "\n",
    "input_ = \"\"\n",
    "\n",
    "while input_ != \"quit\":\n",
    "\n",
    "    slice_obj = generate_random_slice()\n",
    "\n",
    "    input_ = input(f\"Sequenz: {lst}, Slice: {get_input_input(slice_obj)}     \")\n",
    "\n",
    "    print_slice_result(slice_obj)"
   ]
  }
 ],
 "metadata": {
  "kernelspec": {
   "display_name": "Python 3 (ipykernel)",
   "language": "python",
   "name": "python3"
  },
  "language_info": {
   "codemirror_mode": {
    "name": "ipython",
    "version": 3
   },
   "file_extension": ".py",
   "mimetype": "text/x-python",
   "name": "python",
   "nbconvert_exporter": "python",
   "pygments_lexer": "ipython3",
   "version": "3.12.6"
  }
 },
 "nbformat": 4,
 "nbformat_minor": 5
}
