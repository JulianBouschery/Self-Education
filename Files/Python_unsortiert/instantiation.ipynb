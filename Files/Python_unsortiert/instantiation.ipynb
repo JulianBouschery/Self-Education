{
 "cells": [
  {
   "cell_type": "markdown",
   "id": "e27e8ef4-924f-4253-bda7-14046821b44c",
   "metadata": {},
   "source": [
    "# instantiation"
   ]
  },
  {
   "cell_type": "markdown",
   "id": "5f353a0d-c304-4d21-bad6-5dc1621fa365",
   "metadata": {},
   "source": [
    "instantiation (Instanziierung) bezeichnet man die Erstellung des Objekts, das eine Instanz der Klasse ist und erfolgt auf folgende Weise"
   ]
  },
  {
   "cell_type": "code",
   "execution_count": 1,
   "id": "e8eb36ce-0928-4811-a39f-e6247de3a2c7",
   "metadata": {},
   "outputs": [],
   "source": [
    "class TheClass:\n",
    "    pass\n",
    "\n",
    "the_object = TheClass()\n"
   ]
  },
  {
   "cell_type": "markdown",
   "id": "9533f1f5-4910-48d4-a67c-14ff8c93c9c3",
   "metadata": {},
   "source": [
    "Sobald die Klasse aufgerufen wurde erstellt Python unter der Haube eine (leere) Instanz dieser Klasse. "
   ]
  },
  {
   "cell_type": "markdown",
   "id": "c4cf337e-a038-4050-8fea-42f5dacde6b2",
   "metadata": {},
   "source": [
    "Siehe Pythontutor"
   ]
  },
  {
   "cell_type": "code",
   "execution_count": null,
   "id": "bc050f02-f51e-41a3-872d-affbaaf689a7",
   "metadata": {},
   "outputs": [],
   "source": []
  }
 ],
 "metadata": {
  "kernelspec": {
   "display_name": "Python 3 (ipykernel)",
   "language": "python",
   "name": "python3"
  },
  "language_info": {
   "codemirror_mode": {
    "name": "ipython",
    "version": 3
   },
   "file_extension": ".py",
   "mimetype": "text/x-python",
   "name": "python",
   "nbconvert_exporter": "python",
   "pygments_lexer": "ipython3",
   "version": "3.12.4"
  }
 },
 "nbformat": 4,
 "nbformat_minor": 5
}
