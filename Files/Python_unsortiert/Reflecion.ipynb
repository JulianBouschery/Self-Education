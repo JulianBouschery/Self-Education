{
 "cells": [
  {
   "cell_type": "markdown",
   "id": "bca26793-2ef2-4792-b6c1-bb0b19a31e42",
   "metadata": {},
   "source": [
    "# Reflexion"
   ]
  },
  {
   "cell_type": "markdown",
   "id": "1c125f6a",
   "metadata": {},
   "source": []
  },
  {
   "cell_type": "markdown",
   "id": "feef7648-4437-4f24-8582-ef30c849c43a",
   "metadata": {},
   "source": [
    "Das Wort \"Reflexion\" hat seine Wurzeln im Lateinischen. Es stammt vom lateinischen Wort \"reflectere\", was \"zurückbeugen\" oder \"zurückwerfen\" bedeutet. Ursprünglich bezieht sich Reflexion auf das physikalische Phänomen des Zurückwerfens von Licht oder anderen Wellen von einer Oberfläche. In der Programmierung wurde der Begriff übernommen, um die Fähigkeit eines Programms zu beschreiben, auf sich selbst zu blicken, seine eigenen Strukturen zu untersuchen und zu verändern."
   ]
  },
  {
   "cell_type": "markdown",
   "id": "ba46381a-c4b8-4018-a7d5-b9e80fd7317d",
   "metadata": {},
   "source": [
    "Reflexion --> Die Fähigkeit eines Programms, zur Laufzeit Attribute und weitere Informationen eines Objekts **abzurufen** und zu **manipulieren**. Dies ermöglicht es, dynamisch auf die Struktur und das Verhalten von Objekten zuzugreifen und sie zu modifizieren, ohne den ursprünglichen Code direkt zu ändern – obwohl dies ebenfalls möglich ist."
   ]
  },
  {
   "cell_type": "markdown",
   "id": "41e5da18-2436-4d33-85d0-ab979403de58",
   "metadata": {},
   "source": [
    "Siehe auch: [Ändern vs. manipulieren](ändern_vs_manipulieren.ipynb)"
   ]
  },
  {
   "cell_type": "markdown",
   "id": "2017531b-e1f6-4e5c-94d6-bf22d65fc8b6",
   "metadata": {},
   "source": [
    "Es ist so ähnlich wie wenn ein Spiegel das Bild in Echtzeit zurückwirft. Hebst du die Hand \"manipulierst\" du auch dein Spiegelbild."
   ]
  },
  {
   "cell_type": "markdown",
   "id": "cdaec5c3-7b02-455f-987e-9c769250f5c1",
   "metadata": {},
   "source": [
    "## Beispiele für Reflexion:"
   ]
  },
  {
   "cell_type": "markdown",
   "id": "6c002fe8-7ce2-45ea-bbd5-f48e3fa5d4cb",
   "metadata": {
    "jp-MarkdownHeadingCollapsed": true
   },
   "source": [
    "### 1. Klassische Deklaration in der Klasse"
   ]
  },
  {
   "cell_type": "markdown",
   "id": "4e7becb3-5f7d-4481-9fe6-c28288d8c5ad",
   "metadata": {},
   "source": [
    "```python\n",
    "class MyClass:\n",
    "    variable = 0  # Klassenvariable\n",
    "\n",
    "print(MyClass.variable)  # 0\n",
    "```\n",
    "\n",
    "Hier wird die Klassenvariable direkt in der Klasse deklariert. Dies ist die gebräuchlichste und einfachste Methode, um Klassenvariablen zu definieren."
   ]
  },
  {
   "cell_type": "markdown",
   "id": "5b672f2f-4488-4a7d-b96a-78323536dd38",
   "metadata": {
    "jp-MarkdownHeadingCollapsed": true
   },
   "source": [
    "### 2. Initialisierung im Konstruktor"
   ]
  },
  {
   "cell_type": "markdown",
   "id": "e08747f2-8208-4ef2-bf6c-0697cc9b07fa",
   "metadata": {},
   "source": [
    "```python\n",
    "class MyClass:\n",
    "    def __init__(self):\n",
    "        self.__class__.variable2 = 5  # Klassenvariable\n",
    "\n",
    "obj = MyClass()\n",
    "print(MyClass.variable2)  # 5\n",
    "```\n",
    "\n",
    "In diesem Fall wird die Klassenvariable im Konstruktor der Klasse gesetzt. Das `self.__class__`-Konstrukt wird verwendet, um auf die Klasse der Instanz zuzugreifen und so die Klassenvariable zu setzen."
   ]
  },
  {
   "cell_type": "markdown",
   "id": "bcf8cb68-2fbb-4052-9985-5604d5c5a1f9",
   "metadata": {
    "jp-MarkdownHeadingCollapsed": true
   },
   "source": [
    "### 3. Reflexion: Abrufen eines Attributs zur Laufzeit"
   ]
  },
  {
   "cell_type": "markdown",
   "id": "ee79ca2d-94aa-4cf5-b960-f77db7e75b8d",
   "metadata": {},
   "source": [
    "```python\n",
    "class MyClass:\n",
    "    variable = 0\n",
    "\n",
    "# Reflexion zur Laufzeit\n",
    "attr_name = 'variable'\n",
    "print(getattr(MyClass, attr_name))  # 0\n",
    "```\n",
    "\n",
    "Hier wird die `getattr`-Funktion verwendet, um den Wert eines Attributs zur Laufzeit abzurufen."
   ]
  },
  {
   "cell_type": "markdown",
   "id": "6ad8c430-c72b-410a-8888-771d62567c01",
   "metadata": {
    "jp-MarkdownHeadingCollapsed": true
   },
   "source": [
    "### 4. Reflexion: Setzen eines Attributs zur Laufzeit"
   ]
  },
  {
   "cell_type": "markdown",
   "id": "30606dfa-0cd2-4734-bac2-e2d027dff130",
   "metadata": {},
   "source": [
    "```python\n",
    "class MyClass:\n",
    "    variable = 0\n",
    "\n",
    "# Reflexion zur Laufzeit\n",
    "setattr(MyClass, 'variable', 10)\n",
    "print(MyClass.variable)  # 10\n",
    "```\n",
    "\n",
    "Hier wird die `setattr`-Funktion verwendet, um den Wert eines Attributs zur Laufzeit zu setzen."
   ]
  },
  {
   "cell_type": "markdown",
   "id": "adb55db8-9690-45f1-a6b7-2b97227acaf3",
   "metadata": {
    "jp-MarkdownHeadingCollapsed": true
   },
   "source": [
    "### 5. Reflexion: Überprüfen, ob ein Attribut existiert"
   ]
  },
  {
   "cell_type": "markdown",
   "id": "c0da1d17-4666-4258-bcd9-9ed0dc45a681",
   "metadata": {},
   "source": [
    "```python\n",
    "class MyClass:\n",
    "    variable = 0\n",
    "\n",
    "# Reflexion zur Laufzeit\n",
    "attr_exists = hasattr(MyClass, 'variable')\n",
    "print(attr_exists)  # True\n",
    "```\n",
    "\n",
    "Hier wird die `hasattr`-Funktion verwendet, um zu überprüfen, ob ein Attribut existiert."
   ]
  },
  {
   "cell_type": "markdown",
   "id": "0526ab97-8fc3-4937-9f89-52673709205c",
   "metadata": {
    "jp-MarkdownHeadingCollapsed": true
   },
   "source": [
    "### 6. Reflexion: Aufrufen einer Methode zur Laufzeit"
   ]
  },
  {
   "cell_type": "markdown",
   "id": "f3b0d36c-b703-4b3c-a16b-5eac73c0ba7b",
   "metadata": {},
   "source": [
    "```python\n",
    "class MyClass:\n",
    "    def method(self):\n",
    "        return \"Hello, World!\"\n",
    "\n",
    "# Reflexion zur Laufzeit\n",
    "obj = MyClass()\n",
    "method_name = MyClass.method.__name__  # Der Name der Methode wird als String gespeichert\n",
    "method = getattr(obj, method_name)  # Die Methode wird dynamisch anhand ihres Namens abgerufen\n",
    "print(method())  # Die Methode wird aufgerufen und gibt \"Hello, World!\" zurück\n",
    "```\n",
    "\n",
    "Hier wird die `getattr`-Funktion verwendet, um eine Methode zur Laufzeit abzurufen und aufzurufen."
   ]
  },
  {
   "cell_type": "markdown",
   "id": "1ed1dd3b-3c99-4877-953c-8eec89e7c811",
   "metadata": {
    "jp-MarkdownHeadingCollapsed": true
   },
   "source": [
    "### 7. Reflexion: Attribute und **\"weitere Informationen\"**"
   ]
  },
  {
   "cell_type": "markdown",
   "id": "c3e5e09e-fd5f-4a7a-9e53-5af30963ef68",
   "metadata": {},
   "source": [
    "Ein Beispiel für \"weitere Informationen\" außer Attributen sind Methoden eines Objekts. Reflexion ermöglicht es, nicht nur auf die Attribute (Daten) eines Objekts zuzugreifen, sondern auch auf seine Methoden (Funktionen), um deren Namen, Parameter und sogar den Quellcode zu erhalten oder sie dynamisch aufzurufen. Hier ist ein Beispiel:"
   ]
  },
  {
   "cell_type": "code",
   "execution_count": 8,
   "id": "2a442565-1465-478f-a954-c5ca241a2471",
   "metadata": {},
   "outputs": [
    {
     "name": "stdout",
     "output_type": "stream",
     "text": [
      "Method Information:\n",
      "('__call__', <method-wrapper '__call__' of method object at 0x0000016B0E7EDDC0>)\n",
      "('__class__', <class 'method'>)\n",
      "('__delattr__', <method-wrapper '__delattr__' of method object at 0x0000016B0E7EDDC0>)\n",
      "('__dir__', <built-in method __dir__ of method object at 0x0000016B0E7EDDC0>)\n",
      "('__doc__', None)\n",
      "('__eq__', <method-wrapper '__eq__' of method object at 0x0000016B0E7EDDC0>)\n",
      "('__format__', <built-in method __format__ of method object at 0x0000016B0E7EDDC0>)\n",
      "('__func__', <function MyClass.my_method at 0x0000016B0E7BCE00>)\n",
      "('__ge__', <method-wrapper '__ge__' of method object at 0x0000016B0E7EDDC0>)\n",
      "('__getattribute__', <method-wrapper '__getattribute__' of method object at 0x0000016B0E7EDDC0>)\n",
      "('__getstate__', <built-in method __getstate__ of method object at 0x0000016B0E7EDDC0>)\n",
      "('__gt__', <method-wrapper '__gt__' of method object at 0x0000016B0E7EDDC0>)\n",
      "('__hash__', <method-wrapper '__hash__' of method object at 0x0000016B0E7EDDC0>)\n",
      "('__init__', <method-wrapper '__init__' of method object at 0x0000016B0E7EDDC0>)\n",
      "('__init_subclass__', <built-in method __init_subclass__ of type object at 0x00007FFBB3A66070>)\n",
      "('__le__', <method-wrapper '__le__' of method object at 0x0000016B0E7EDDC0>)\n",
      "('__lt__', <method-wrapper '__lt__' of method object at 0x0000016B0E7EDDC0>)\n",
      "('__ne__', <method-wrapper '__ne__' of method object at 0x0000016B0E7EDDC0>)\n",
      "('__new__', <built-in method __new__ of type object at 0x00007FFBB3A66070>)\n",
      "('__reduce__', <built-in method __reduce__ of method object at 0x0000016B0E7EDDC0>)\n",
      "('__reduce_ex__', <built-in method __reduce_ex__ of method object at 0x0000016B0E7EDDC0>)\n",
      "('__repr__', <method-wrapper '__repr__' of method object at 0x0000016B0E7EDDC0>)\n",
      "('__self__', <__main__.MyClass object at 0x0000016B0E77A8D0>)\n",
      "('__setattr__', <method-wrapper '__setattr__' of method object at 0x0000016B0E7EDDC0>)\n",
      "('__sizeof__', <built-in method __sizeof__ of method object at 0x0000016B0E7EDDC0>)\n",
      "('__str__', <method-wrapper '__str__' of method object at 0x0000016B0E7EDDC0>)\n",
      "('__subclasshook__', <built-in method __subclasshook__ of type object at 0x00007FFBB3A66070>)\n",
      "Result of method call: 15\n"
     ]
    }
   ],
   "source": [
    "class MyClass:\n",
    "    def __init__(self, value):\n",
    "        self.value = value\n",
    "\n",
    "    def my_method(self, increment):\n",
    "        return self.value + increment\n",
    "\n",
    "# Erstellen einer Instanz der Klasse\n",
    "obj = MyClass(10)\n",
    "\n",
    "# Abrufen der Methode 'my_method' zur Laufzeit\n",
    "method_name = MyClass.my_method.__name__\n",
    "method = getattr(obj, method_name)  # Erhält die Methode 'my_method' des Objekts\n",
    "\n",
    "# Abrufen von Informationen über die Methode\n",
    "import inspect\n",
    "method_info = inspect.getmembers(method)\n",
    "print(\"Method Information:\")\n",
    "for info in method_info:\n",
    "    print(info)\n",
    "\n",
    "# Dynamisches Aufrufen der Methode\n",
    "result = method(5)  # Ruft 'my_method' mit dem Argument 5 auf\n",
    "print(f\"Result of method call: {result}\")\n"
   ]
  },
  {
   "cell_type": "code",
   "execution_count": null,
   "id": "c52a79ee-78fa-43ea-8a7f-0d6539ba6e6d",
   "metadata": {},
   "outputs": [],
   "source": []
  }
 ],
 "metadata": {
  "kernelspec": {
   "display_name": "Python 3 (ipykernel)",
   "language": "python",
   "name": "python3"
  },
  "language_info": {
   "codemirror_mode": {
    "name": "ipython",
    "version": 3
   },
   "file_extension": ".py",
   "mimetype": "text/x-python",
   "name": "python",
   "nbconvert_exporter": "python",
   "pygments_lexer": "ipython3",
   "version": "3.12.6"
  }
 },
 "nbformat": 4,
 "nbformat_minor": 5
}
