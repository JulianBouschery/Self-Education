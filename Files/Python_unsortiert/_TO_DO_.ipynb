{
 "cells": [
  {
   "cell_type": "markdown",
   "id": "39ccb8b2-bde6-4f24-9766-abf4b31c29b4",
   "metadata": {},
   "source": [
    "# To Do List:"
   ]
  },
  {
   "cell_type": "markdown",
   "id": "dc533918-9d1b-413a-bf15-b4c88195c205",
   "metadata": {},
   "source": [
    "Nach Priorität geordnet (Wichtigstes oben):"
   ]
  },
  {
   "cell_type": "markdown",
   "id": "240ad41a-ec3e-43bf-93a2-c1654cf60173",
   "metadata": {},
   "source": [
    "[class](class.ipynb) und [Projekt Wir bauen ein Konto](projekt_konto.ipynb) mit Einführung_OOP.ipynb"
   ]
  },
  {
   "cell_type": "markdown",
   "id": "c21c9579-972a-42c1-aaaf-0309e170315d",
   "metadata": {},
   "source": [
    "[closures](closures.ipynb)"
   ]
  },
  {
   "cell_type": "markdown",
   "id": "70044e4d-e997-4620-81ca-25ebb5a4a623",
   "metadata": {},
   "source": [
    "[lambda](lambda.ipynb)"
   ]
  },
  {
   "cell_type": "markdown",
   "id": "97142b33-3b88-4379-b042-bf5d9f22bedc",
   "metadata": {},
   "source": [
    "[I/O Operations](IO.ipynb)"
   ]
  },
  {
   "cell_type": "markdown",
   "id": "e928b958-b00c-4014-8b34-15323b57a817",
   "metadata": {},
   "source": [
    "[Übungsaufgaben mro lesen](ÜA_mro.ipynb)"
   ]
  },
  {
   "cell_type": "markdown",
   "id": "cae1b9b4-2ea5-4737-a923-fd608c72e0cd",
   "metadata": {},
   "source": [
    "[super()](super.ipynb)"
   ]
  },
  {
   "cell_type": "markdown",
   "id": "e98ef4a1-429e-4388-b724-37df58c9f599",
   "metadata": {},
   "source": [
    "[Has a Relationship.ipynb](Has_a_Relationship.ipynb)"
   ]
  },
  {
   "cell_type": "markdown",
   "id": "6f5f19a1-9f02-4ece-a7c3-9c2eb64102bf",
   "metadata": {},
   "source": [
    "[platform](platform.ipynb)"
   ]
  },
  {
   "cell_type": "markdown",
   "id": "0e8dcf2d-e796-40b2-b0b0-b3fa34a51454",
   "metadata": {},
   "source": [
    "[Datenkram](Übersicht_Datenkram.ipynb) mit Daten_erstellung_file_handling_filter_map_wdh (1).ipynb"
   ]
  },
  {
   "cell_type": "markdown",
   "id": "3bc9b806-5145-4572-b0a6-543fb3d1ef30",
   "metadata": {},
   "source": [
    "[filter](filter.ipynb) und [map](map.ipynb) mit filter und map.ipynb"
   ]
  },
  {
   "cell_type": "markdown",
   "id": "146db487-681c-4c25-89c0-ebe2031273f1",
   "metadata": {},
   "source": [
    "[hasattr](hasattr.ipynb)"
   ]
  },
  {
   "cell_type": "markdown",
   "id": "7675d04e-1b2b-4bd3-bd3a-56f2c18d2864",
   "metadata": {},
   "source": [
    "[Generator](Generator.ipynb) Woche_2_str_methods3 (2).ipynb?"
   ]
  },
  {
   "cell_type": "markdown",
   "id": "1874bcd6-b7ef-4024-9411-8364fbbc977c",
   "metadata": {},
   "source": [
    "[Übersicht list Method](list_method.ipynb) mit Modul_2_Woche_2_Wiederholung_Listen.ipynb"
   ]
  },
  {
   "cell_type": "markdown",
   "id": "99a5bdb8-00c9-467a-ae64-abc19079ee4a",
   "metadata": {},
   "source": [
    "[sorted](sorted.ipynb)"
   ]
  },
  {
   "cell_type": "markdown",
   "id": "571c6cd1-d68a-42d7-a4fb-149a27a0a951",
   "metadata": {},
   "source": [
    "[split und join](split_und_join.ipynb)"
   ]
  },
  {
   "cell_type": "markdown",
   "id": "554d9d96-1f11-45c4-a48b-915355336d09",
   "metadata": {},
   "source": [
    "[strip, lstrip, rstrip](strip.ipynb)"
   ]
  },
  {
   "cell_type": "markdown",
   "id": "56cd6961-103e-4708-9260-ec18bdea714d",
   "metadata": {},
   "source": [
    "[upper lower capitalize title](upper_lower_capitalize_title.ipynb)"
   ]
  },
  {
   "cell_type": "markdown",
   "id": "4600d520-8eda-4ce5-b989-fd9fed36498e",
   "metadata": {},
   "source": [
    "[list_comprehension](list_comprehension.ipynb)"
   ]
  },
  {
   "cell_type": "markdown",
   "id": "d4b9f950-de6b-4fa9-9791-9547ace60ce7",
   "metadata": {},
   "source": [
    "[`__name__`](n__name__.ipynb)"
   ]
  },
  {
   "cell_type": "markdown",
   "id": "ee8067ae-a7f0-4599-ae54-626868e2fc21",
   "metadata": {},
   "source": [
    "[classmethod](classmethod.ipynb)"
   ]
  },
  {
   "cell_type": "markdown",
   "id": "169e0aa2-277f-4d92-be71-6fb875040456",
   "metadata": {},
   "source": [
    "[Iterator](Iterator.ipynb)"
   ]
  },
  {
   "cell_type": "markdown",
   "id": "3b59e7c9-b6b7-4aaf-8284-9d9c09fbc56b",
   "metadata": {},
   "source": [
    "[import](import.ipynb)"
   ]
  },
  {
   "cell_type": "markdown",
   "id": "9beaf51e-aef1-4458-bd42-87af25a94c76",
   "metadata": {},
   "source": [
    "[PyPI / pip](PyPI.ipynb) falls pip im Practis Test vorkommt..."
   ]
  },
  {
   "cell_type": "markdown",
   "id": "f11714e5-cc14-4d64-9ad5-1def8d95b0a6",
   "metadata": {},
   "source": [
    "[Übersicht und Verknüpfungen zu allen Skripten](un.ipynb)"
   ]
  },
  {
   "cell_type": "markdown",
   "id": "ea477a9c-e275-4c51-8647-1362a5064218",
   "metadata": {},
   "source": [
    "[TO_DO_Exceptions](TO_DO_Exceptions.ipynb)"
   ]
  },
  {
   "cell_type": "markdown",
   "id": "955401d0-a142-412d-9e52-115a8bfcf36c",
   "metadata": {},
   "source": [
    "[Diamond](diamond.ipynb)"
   ]
  },
  {
   "cell_type": "markdown",
   "id": "a3da8883-955a-440f-9a76-a76f18037d67",
   "metadata": {},
   "source": [
    "[Encapsulation](Encapsulation.ipynb)"
   ]
  },
  {
   "cell_type": "code",
   "execution_count": null,
   "id": "e6ba42df-944a-48ef-a9b6-c73bd80252b0",
   "metadata": {},
   "outputs": [],
   "source": []
  }
 ],
 "metadata": {
  "kernelspec": {
   "display_name": "Python 3 (ipykernel)",
   "language": "python",
   "name": "python3"
  },
  "language_info": {
   "codemirror_mode": {
    "name": "ipython",
    "version": 3
   },
   "file_extension": ".py",
   "mimetype": "text/x-python",
   "name": "python",
   "nbconvert_exporter": "python",
   "pygments_lexer": "ipython3",
   "version": "3.12.6"
  }
 },
 "nbformat": 4,
 "nbformat_minor": 5
}
