{
 "cells": [
  {
   "cell_type": "markdown",
   "id": "5b01f049-721e-4bae-9aed-000a25e4b649",
   "metadata": {},
   "source": [
    "[Zurück zum Inhaltsverzeichnis](_Inhaltsverzeichnis_.ipynb)"
   ]
  },
  {
   "cell_type": "markdown",
   "id": "2b094109-2cbd-4ecf-b4c7-33f899f7960f",
   "metadata": {},
   "source": [
    "# get Methode"
   ]
  },
  {
   "cell_type": "markdown",
   "id": "fa958bc0-8dc2-451a-a41f-d4820c0be922",
   "metadata": {},
   "source": [
    "Die get-Methode in Python wird häufig in Zusammenhang mit Dictionaries verwendet. Sie ermöglicht es, den Wert für einen gegebenen Schlüssel sicher abzurufen und bietet die Möglichkeit, einen Standardwert zurückzugeben, falls der Schlüssel nicht im Dictionary vorhanden ist."
   ]
  },
  {
   "cell_type": "markdown",
   "id": "91101290-fd56-4bb1-945d-ebb911dab160",
   "metadata": {},
   "source": [
    "Syntax:\n",
    "\n",
    "`dict.get(key1, default = None)`"
   ]
  },
  {
   "cell_type": "code",
   "execution_count": 2,
   "id": "1d454ecc-23df-4dba-8f30-f3f737db7b43",
   "metadata": {},
   "outputs": [],
   "source": [
    "person = {\"name\": \"Frank\",\n",
    "          \"alter\": 42}"
   ]
  },
  {
   "cell_type": "code",
   "execution_count": 3,
   "id": "fdbeb2fc-9fc2-4b84-be00-67fa9d02e6f0",
   "metadata": {
    "tags": []
   },
   "outputs": [
    {
     "data": {
      "text/plain": [
       "42"
      ]
     },
     "execution_count": 3,
     "metadata": {},
     "output_type": "execute_result"
    }
   ],
   "source": [
    "person.get(\"alter\")  # Mit einem Argument wird default auf None gelassen"
   ]
  },
  {
   "cell_type": "code",
   "execution_count": 4,
   "id": "67b88a4d-e06a-494d-aa22-8610397bac97",
   "metadata": {
    "tags": []
   },
   "outputs": [
    {
     "name": "stdout",
     "output_type": "stream",
     "text": [
      "None\n"
     ]
    }
   ],
   "source": [
    "# Wenn man get mit key nutzt der nicht existiert wird default zurückgeben, was hier per default None ist\n",
    "print(person.get(\"gib den key nicht\"))"
   ]
  },
  {
   "cell_type": "code",
   "execution_count": 5,
   "id": "e57af589-f1ca-4920-bbe0-5cdc1807b85b",
   "metadata": {
    "tags": []
   },
   "outputs": [
    {
     "data": {
      "text/plain": [
       "'Hallo'"
      ]
     },
     "execution_count": 5,
     "metadata": {},
     "output_type": "execute_result"
    }
   ],
   "source": [
    "# Nicht existenter key\n",
    "person.get(\"gib den key nicht\", \"Hallo\")"
   ]
  },
  {
   "cell_type": "code",
   "execution_count": 6,
   "id": "eff7d4a1-4263-4622-9562-472f3ae7ace4",
   "metadata": {
    "tags": []
   },
   "outputs": [
    {
     "data": {
      "text/plain": [
       "42"
      ]
     },
     "execution_count": 6,
     "metadata": {},
     "output_type": "execute_result"
    }
   ],
   "source": [
    "# existierender Key mit default \"Hallo\"\n",
    "person.get(\"alter\", \"Hallo\") # Da key existing => gib den Value aus der in key steht, Default wird nicht genutzt"
   ]
  },
  {
   "cell_type": "code",
   "execution_count": 19,
   "id": "23106251-61d7-4ef2-8f16-f193292d1099",
   "metadata": {
    "tags": []
   },
   "outputs": [
    {
     "data": {
      "text/plain": [
       "\u001b[1;31mSignature:\u001b[0m \u001b[0mdict\u001b[0m\u001b[1;33m.\u001b[0m\u001b[0mget\u001b[0m\u001b[1;33m(\u001b[0m\u001b[0mself\u001b[0m\u001b[1;33m,\u001b[0m \u001b[0mkey\u001b[0m\u001b[1;33m,\u001b[0m \u001b[0mdefault\u001b[0m\u001b[1;33m=\u001b[0m\u001b[1;32mNone\u001b[0m\u001b[1;33m,\u001b[0m \u001b[1;33m/\u001b[0m\u001b[1;33m)\u001b[0m\u001b[1;33m\u001b[0m\u001b[1;33m\u001b[0m\u001b[0m\n",
       "\u001b[1;31mDocstring:\u001b[0m Return the value for key if key is in the dictionary, else default.\n",
       "\u001b[1;31mType:\u001b[0m      method_descriptor"
      ]
     },
     "metadata": {},
     "output_type": "display_data"
    }
   ],
   "source": [
    "dict.get?"
   ]
  },
  {
   "cell_type": "markdown",
   "id": "2ae86de3-2d70-47a4-979e-4045c06afacc",
   "metadata": {},
   "source": [
    "**Merke** : Bei Nutzung von dict.get => gibt es keinen Fehler, wenn der key NICHT exisitert.\n",
    "\n",
    "Nutzt man die Index-Notation `dict[key]` => sollte key nicht existieren => wird ein `KeyError`geschmissen."
   ]
  },
  {
   "cell_type": "code",
   "execution_count": null,
   "id": "0c372de3-d164-48c1-8df8-4c9819d8d8d0",
   "metadata": {},
   "outputs": [],
   "source": []
  },
  {
   "cell_type": "code",
   "execution_count": null,
   "id": "efbde652-9313-4f46-b6a1-da5b9e1d5899",
   "metadata": {},
   "outputs": [],
   "source": []
  },
  {
   "cell_type": "code",
   "execution_count": null,
   "id": "f509b7f3-f61b-41f3-aeb2-756ed6fa426a",
   "metadata": {},
   "outputs": [],
   "source": []
  },
  {
   "cell_type": "markdown",
   "id": "95420139-8b8d-43c3-9bcb-09c058794574",
   "metadata": {},
   "source": [
    "[Beispiel Pythontutor](https://pythontutor.com/render.html#code=infos%20%3D%2042,%20112,%2042,%2012,%2042,%2046%0A%0A%23%20L%C3%B6sung3%0A%0Aresult%20%20%3D%20%20%7Belem%20%3Ainfos.count%28elem%29%20for%20elem%20in%20set%28infos%29%7D%0A%0A%23%20L%C3%B6sung2%0A%0Adict_%20%3D%20%7B%7D%0A%0Afor%20key%20in%20infos%3A%0A%20%20%20%20dict_%5Bkey%5D%20%3D%20dict_.get%28key,0%29%2B1%0A%20%20%20%20%0A%20%20%20%20%0A%23%20L%C3%B6sung1%0Adict_%20%3D%20%7B%7D%0Afor%20i%20in%20infos%3A%0A%20%20%20%20if%20i%20in%20dict_%3A%0A%20%20%20%20%20%20%20%20dict_%5Bi%5D%20%2B%3D%201%0A%20%20%20%20else%3A%0A%20%20%20%20%20%20%20%20dict_%5Bi%5D%20%3D%201%0Aprint%20%28dict_%29&cumulative=false&curInstr=8&heapPrimitives=nevernest&mode=display&origin=opt-frontend.js&py=311&rawInputLstJSON=%5B%5D&textReferences=false)"
   ]
  },
  {
   "cell_type": "code",
   "execution_count": 1,
   "id": "aa976c69-b4fa-4b87-8637-53c7e93eba0b",
   "metadata": {},
   "outputs": [
    {
     "data": {
      "text/plain": [
       "{'A': 21, 'B': 21, 'C': 21, 'D': 21, 'E': 21}"
      ]
     },
     "execution_count": 1,
     "metadata": {},
     "output_type": "execute_result"
    }
   ],
   "source": [
    "infos = [\"A\",\"B\",\"C\",\"D\",\"E\"]\n",
    "\n",
    "dict_ ={}\n",
    "\n",
    "for key in infos:\n",
    "    dict_[key] = dict_.get(key,20)+1\n",
    "\n",
    "dict_"
   ]
  },
  {
   "cell_type": "code",
   "execution_count": null,
   "id": "02e9a9df-ebc3-4d2a-a329-043d248faf95",
   "metadata": {},
   "outputs": [],
   "source": []
  },
  {
   "cell_type": "code",
   "execution_count": null,
   "id": "99365ef6-9200-4db9-a6d0-b4d336b5fa8a",
   "metadata": {},
   "outputs": [],
   "source": []
  }
 ],
 "metadata": {
  "kernelspec": {
   "display_name": "Python 3 (ipykernel)",
   "language": "python",
   "name": "python3"
  },
  "language_info": {
   "codemirror_mode": {
    "name": "ipython",
    "version": 3
   },
   "file_extension": ".py",
   "mimetype": "text/x-python",
   "name": "python",
   "nbconvert_exporter": "python",
   "pygments_lexer": "ipython3",
   "version": "3.12.4"
  }
 },
 "nbformat": 4,
 "nbformat_minor": 5
}
