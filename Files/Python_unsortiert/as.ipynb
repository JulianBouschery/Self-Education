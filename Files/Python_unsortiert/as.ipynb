{
 "cells": [
  {
   "cell_type": "markdown",
   "id": "b1ba90cf-6ae8-4a11-a6bb-6fe78dec380f",
   "metadata": {},
   "source": [
    "[Zurück zum Inhaltsverzeichnis](_Inhaltsverzeichnis_.ipynb)"
   ]
  },
  {
   "cell_type": "markdown",
   "id": "76f750a6-d358-44af-8110-8c220d613bab",
   "metadata": {},
   "source": [
    "[Zurück zu Keywords](keywords.ipynb)"
   ]
  },
  {
   "cell_type": "markdown",
   "id": "8f78b1cd-ae4c-4826-92e3-0d65ab2f2138",
   "metadata": {},
   "source": [
    "# as"
   ]
  },
  {
   "cell_type": "code",
   "execution_count": 1,
   "id": "dbe02353-d9c6-4b66-aff0-dbc4c92826dd",
   "metadata": {},
   "outputs": [
    {
     "ename": "SyntaxError",
     "evalue": "invalid syntax (744138040.py, line 1)",
     "output_type": "error",
     "traceback": [
      "\u001b[1;36m  Cell \u001b[1;32mIn[1], line 1\u001b[1;36m\u001b[0m\n\u001b[1;33m    x as alias\u001b[0m\n\u001b[1;37m      ^\u001b[0m\n\u001b[1;31mSyntaxError\u001b[0m\u001b[1;31m:\u001b[0m invalid syntax\n"
     ]
    }
   ],
   "source": [
    "except CustomError as alias:"
   ]
  },
  {
   "cell_type": "code",
   "execution_count": null,
   "id": "b4dcd8f1-9837-4b76-8423-ded29889346f",
   "metadata": {},
   "outputs": [],
   "source": []
  }
 ],
 "metadata": {
  "kernelspec": {
   "display_name": "Python 3 (ipykernel)",
   "language": "python",
   "name": "python3"
  },
  "language_info": {
   "codemirror_mode": {
    "name": "ipython",
    "version": 3
   },
   "file_extension": ".py",
   "mimetype": "text/x-python",
   "name": "python",
   "nbconvert_exporter": "python",
   "pygments_lexer": "ipython3",
   "version": "3.12.3"
  }
 },
 "nbformat": 4,
 "nbformat_minor": 5
}
