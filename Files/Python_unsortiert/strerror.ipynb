{
 "cells": [
  {
   "cell_type": "markdown",
   "id": "199f2a8a-1d9e-4b88-b321-0471b486b26d",
   "metadata": {},
   "source": [
    "# strerror()"
   ]
  },
  {
   "cell_type": "markdown",
   "id": "3f027ec1-7be2-47a3-8722-26ffbe62a7ea",
   "metadata": {},
   "source": [
    "Die Funktion `strerror()` gibt eine lesbare Fehlermeldung für einen gegebenen Fehlercode zurück. Sie wird häufig verwendet, um Informationen über Fehler zu erhalten, die bei Systemaufrufen oder anderen Funktionen auftreten."
   ]
  },
  {
   "cell_type": "markdown",
   "id": "54aa7fbb-84d5-4763-a160-cc28eada9dc6",
   "metadata": {},
   "source": [
    "### Wichtige Punkte:"
   ]
  },
  {
   "cell_type": "markdown",
   "id": "60fc8e3b-4a69-46a5-8fda-188f7393ecc8",
   "metadata": {},
   "source": [
    "- **Argumente:**  \n",
    "  - `errnum`: Ein Integer, der den Fehlercode angibt (z. B. von `errno`)."
   ]
  },
  {
   "cell_type": "markdown",
   "id": "2b042670-1fc3-4e8e-892d-2c3645d18afe",
   "metadata": {},
   "source": [
    "- **Rückgabewert:**  \n",
    "  - Gibt einen String mit der Fehlermeldung zurück."
   ]
  },
  {
   "cell_type": "markdown",
   "id": "42b6f533-a92c-4c02-b46b-d5ac0854c658",
   "metadata": {},
   "source": [
    "- **Ausnahmen:**  \n",
    "  - Kann einen `ValueError` auslösen, wenn der Fehlercode ungültig ist."
   ]
  },
  {
   "cell_type": "markdown",
   "id": "2d84ea53-7490-4c45-8725-2394fc6bd1f0",
   "metadata": {},
   "source": [
    "### Beispiel:"
   ]
  },
  {
   "cell_type": "markdown",
   "id": "851169af-7e87-46f8-b9c3-94215299cd30",
   "metadata": {},
   "source": [
    "```python\n",
    "import errno\n",
    "error_message = strerror(errno.ENOENT)  # Gibt \"No such file or directory\" zurück\n",
    "```"
   ]
  },
  {
   "cell_type": "markdown",
   "id": "b98d494d-197a-4972-b11c-1665880c1d4d",
   "metadata": {},
   "source": [
    "Diese Funktion ist nützlich, um Fehler in Programmen zu diagnostizieren und zu behandeln."
   ]
  },
  {
   "cell_type": "code",
   "execution_count": 2,
   "id": "dea4d921-c8d5-44f4-bd07-4662e562cda2",
   "metadata": {},
   "outputs": [
    {
     "name": "stdout",
     "output_type": "stream",
     "text": [
      "The file could not be opened: No such file or directory\n"
     ]
    }
   ],
   "source": [
    "from os import strerror\n",
    "\n",
    "try:\n",
    "    s = open(\"c:/users/user/Desktop/file.txt\", \"rt\")\n",
    "    # Actual processing goes here.\n",
    "    s.close()\n",
    "except Exception as exc:\n",
    "    print(\"The file could not be opened:\", strerror(exc.errno))\n",
    "\n"
   ]
  },
  {
   "cell_type": "markdown",
   "id": "834a9b19-5759-4ad1-b172-8b7c21d49cb7",
   "metadata": {
    "jp-MarkdownHeadingCollapsed": true
   },
   "source": [
    "# Karteikarte"
   ]
  },
  {
   "cell_type": "markdown",
   "id": "2a9e0403-f9d5-4113-b2ed-790eda1facbe",
   "metadata": {},
   "source": [
    "**Frage:**  \n",
    "Über welches Modul ist `strerror` verfügbar?\n",
    "\n",
    "**Antwort:**  \n",
    "- `os`\n",
    "- `errno`"
   ]
  },
  {
   "cell_type": "markdown",
   "id": "566949c6-2057-44cd-849f-928427d6f12b",
   "metadata": {},
   "source": [
    "Die Funktion `strerror()` wird verwendet, um eine Fehlermeldung basierend auf einem gegebenen Fehlercode zurückzugeben.\n",
    "\n",
    "### Beschreibung und Rückgabewert\n",
    "\n",
    "**Frage:**  \n",
    "Was macht der Code `strerror()` und was gibt er zurück?\n",
    "\n",
    "**Antwort:**  \n",
    "Die Funktion `strerror(errnum)` gibt eine lesbare Fehlermeldung als String zurück, die dem Fehlercode `errnum` entspricht. Dies wird häufig verwendet, um Fehler zu diagnostizieren.\n",
    "\n",
    "### Argumente und Fehler / Ausnahmen\n",
    "\n",
    "**Frage:**  \n",
    "Welche Argumente benötigt der Code `strerror()` und welche Fehler / Ausnahmen können auftreten?\n",
    "\n",
    "**Antwort:**  \n",
    "Die Funktion `strerror()` benötigt ein Argument:\n",
    "1. `errnum`: Ein Integer, der den Fehlercode angibt. \n",
    "\n",
    "Es kann ein `ValueError` auftreten, wenn `errnum` ungültig ist oder nicht unterstützt wird.\n",
    "\n",
    "**Beispiel_Fehler:**  \n",
    "```python\n",
    "import errno\n",
    "error_message = strerror(999)  # Beispiel für ungültigen Fehlercode\n",
    "```\n"
   ]
  },
  {
   "cell_type": "code",
   "execution_count": 6,
   "id": "93c3c836-3c69-48db-ac99-b8b0bf2d6147",
   "metadata": {},
   "outputs": [
    {
     "name": "stdout",
     "output_type": "stream",
     "text": [
      "Unknown error\n"
     ]
    }
   ],
   "source": [
    "import errno\n",
    "print(strerror(999))"
   ]
  },
  {
   "cell_type": "code",
   "execution_count": null,
   "id": "765a258d-ce14-4a67-9879-7c5c9244b548",
   "metadata": {},
   "outputs": [],
   "source": []
  }
 ],
 "metadata": {
  "kernelspec": {
   "display_name": "Python 3 (ipykernel)",
   "language": "python",
   "name": "python3"
  },
  "language_info": {
   "codemirror_mode": {
    "name": "ipython",
    "version": 3
   },
   "file_extension": ".py",
   "mimetype": "text/x-python",
   "name": "python",
   "nbconvert_exporter": "python",
   "pygments_lexer": "ipython3",
   "version": "3.12.4"
  }
 },
 "nbformat": 4,
 "nbformat_minor": 5
}
