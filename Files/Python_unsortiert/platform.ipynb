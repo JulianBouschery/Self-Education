{
 "cells": [
  {
   "cell_type": "markdown",
   "id": "5b3cde12-00a6-4fca-9df1-c3a2f70269a4",
   "metadata": {},
   "source": [
    "# platform Modul"
   ]
  },
  {
   "cell_type": "code",
   "execution_count": 1,
   "id": "05c717da-2622-4e9b-8140-b6770d204f79",
   "metadata": {},
   "outputs": [],
   "source": [
    "import platform # Muss ich importieren, aber nicht EXTRA installieren"
   ]
  },
  {
   "cell_type": "markdown",
   "id": "3013012f-8cc3-45aa-bb0a-881747602767",
   "metadata": {},
   "source": [
    "## paltform Funktion"
   ]
  },
  {
   "cell_type": "code",
   "execution_count": 3,
   "id": "0d55d910-5f03-4d80-8f77-a0e64b2a661e",
   "metadata": {},
   "outputs": [
    {
     "data": {
      "text/plain": [
       "'Windows-10-10.0.19045-SP0'"
      ]
     },
     "execution_count": 3,
     "metadata": {},
     "output_type": "execute_result"
    }
   ],
   "source": [
    "platform.platform()"
   ]
  },
  {
   "cell_type": "markdown",
   "id": "725e9cc2-74cd-431c-bea6-f5ba5d005be6",
   "metadata": {},
   "source": [
    "(platform(aliased = False, terse = False))\n",
    "\n",
    "And now:\n",
    "\n",
    "aliased → when set to True (or any non-zero value) it may cause the function to present the alternative underlying layer names instead of the common ones;\n",
    "terse → when set to True (or any non-zero value) it may convince the function to present a briefer form of the result (if possible)"
   ]
  },
  {
   "cell_type": "code",
   "execution_count": 5,
   "id": "9b0a4ce1-7e95-496a-bca6-703be712548e",
   "metadata": {},
   "outputs": [
    {
     "name": "stdout",
     "output_type": "stream",
     "text": [
      "Windows-10-10.0.19045-SP0\n",
      "Windows-10-10.0.19045-SP0\n",
      "Windows-10\n"
     ]
    }
   ],
   "source": [
    "print(platform.platform())\n",
    "print(platform.platform(1))\n",
    "print(platform.platform(0, 1))"
   ]
  },
  {
   "cell_type": "markdown",
   "id": "ff5b926c-c844-4ab9-ae52-41846f4361f7",
   "metadata": {},
   "source": [
    "# machine Funktion"
   ]
  },
  {
   "cell_type": "code",
   "execution_count": 6,
   "id": "73a7b6bc-81aa-4246-8414-52409c8d8ad4",
   "metadata": {},
   "outputs": [
    {
     "name": "stdout",
     "output_type": "stream",
     "text": [
      "AMD64\n"
     ]
    }
   ],
   "source": [
    "print(platform.machine())"
   ]
  },
  {
   "cell_type": "code",
   "execution_count": 6,
   "id": "868edb55-bc66-4ba5-a68a-32e79320384e",
   "metadata": {},
   "outputs": [
    {
     "data": {
      "text/plain": [
       "'AMD64'"
      ]
     },
     "execution_count": 6,
     "metadata": {},
     "output_type": "execute_result"
    }
   ],
   "source": [
    "platform.machine()"
   ]
  },
  {
   "cell_type": "code",
   "execution_count": 7,
   "id": "3645ef65-e742-406a-8936-e0f9e324ec5e",
   "metadata": {},
   "outputs": [
    {
     "data": {
      "text/plain": [
       "<function platform.machine()>"
      ]
     },
     "execution_count": 7,
     "metadata": {},
     "output_type": "execute_result"
    }
   ],
   "source": [
    "platform.machine"
   ]
  },
  {
   "cell_type": "markdown",
   "id": "110892d9-c73d-4981-b45c-4ef74c7d0fe4",
   "metadata": {},
   "source": [
    "## processor Funktion"
   ]
  },
  {
   "cell_type": "code",
   "execution_count": 7,
   "id": "eb091f58-f27c-4255-8996-12844526b51f",
   "metadata": {},
   "outputs": [
    {
     "name": "stdout",
     "output_type": "stream",
     "text": [
      "AMD64 Family 25 Model 33 Stepping 2, AuthenticAMD\n"
     ]
    }
   ],
   "source": [
    "print(platform.processor())"
   ]
  },
  {
   "cell_type": "code",
   "execution_count": 10,
   "id": "8406f3be-8550-4e7b-8e7e-07c24c977a9f",
   "metadata": {},
   "outputs": [
    {
     "data": {
      "text/plain": [
       "'AMD64'"
      ]
     },
     "execution_count": 10,
     "metadata": {},
     "output_type": "execute_result"
    }
   ],
   "source": [
    "platform.machine()"
   ]
  },
  {
   "cell_type": "code",
   "execution_count": 9,
   "id": "ca48a1c9-2507-4f8c-ba0c-7142d9c2cb3f",
   "metadata": {},
   "outputs": [
    {
     "data": {
      "text/plain": [
       "<function platform.processor()>"
      ]
     },
     "execution_count": 9,
     "metadata": {},
     "output_type": "execute_result"
    }
   ],
   "source": [
    "platform.processor"
   ]
  },
  {
   "cell_type": "markdown",
   "id": "ff6ae78a-5299-42d1-9067-c63c626e59b8",
   "metadata": {},
   "source": [
    "## system Funktion"
   ]
  },
  {
   "cell_type": "code",
   "execution_count": 8,
   "id": "7f5aacd0-86c8-4731-b8b2-13ef7d017baf",
   "metadata": {},
   "outputs": [
    {
     "name": "stdout",
     "output_type": "stream",
     "text": [
      "Windows\n"
     ]
    }
   ],
   "source": [
    "print(platform.system())"
   ]
  },
  {
   "cell_type": "markdown",
   "id": "658f9826-efc3-4b01-9697-3eb123a90c42",
   "metadata": {},
   "source": [
    "## version Funktion"
   ]
  },
  {
   "cell_type": "code",
   "execution_count": 9,
   "id": "90b5c4fc-d154-46b4-8f74-f55a16306326",
   "metadata": {},
   "outputs": [
    {
     "name": "stdout",
     "output_type": "stream",
     "text": [
      "10.0.19045\n"
     ]
    }
   ],
   "source": [
    "print(platform.version())"
   ]
  },
  {
   "cell_type": "code",
   "execution_count": 4,
   "id": "fdef5c85-2d60-4504-b930-edb2a6dba5f8",
   "metadata": {},
   "outputs": [
    {
     "data": {
      "text/plain": [
       "'3.12.4'"
      ]
     },
     "execution_count": 4,
     "metadata": {},
     "output_type": "execute_result"
    }
   ],
   "source": [
    "platform.python_version() # python_version ist eine Funktion im Modul platform und gibt einen String mit der Verwendetetn Python-Version wieder"
   ]
  },
  {
   "cell_type": "code",
   "execution_count": 3,
   "id": "69bdf72e-1063-4b3f-9414-1fedc2cabfdb",
   "metadata": {},
   "outputs": [
    {
     "data": {
      "text/plain": [
       "('3', '12', '4')"
      ]
     },
     "execution_count": 3,
     "metadata": {},
     "output_type": "execute_result"
    }
   ],
   "source": [
    "platform.python_version_tuple()"
   ]
  },
  {
   "cell_type": "markdown",
   "id": "d5a8f17d-05cd-4112-85f8-d36d922010be",
   "metadata": {},
   "source": [
    "## The python_implementation and the python_version_tuple functions"
   ]
  },
  {
   "cell_type": "code",
   "execution_count": 12,
   "id": "8c63cd31-0641-4603-9f8a-d1654f1208f0",
   "metadata": {},
   "outputs": [
    {
     "name": "stdout",
     "output_type": "stream",
     "text": [
      "CPython\n",
      "3\n",
      "12\n",
      "3\n"
     ]
    }
   ],
   "source": [
    "print(platform.python_implementation())\n",
    "\n",
    "for atr in platform.python_version_tuple():\n",
    "    print(atr)\n"
   ]
  },
  {
   "cell_type": "markdown",
   "id": "f986d804-af06-49cb-879c-04d02ea7c669",
   "metadata": {},
   "source": [
    "If you need to know what version of Python is running your code, you can check it using a number of dedicated functions - here are two of them:"
   ]
  },
  {
   "cell_type": "markdown",
   "id": "24707d6d-4930-4ae9-9931-6755bb28bc44",
   "metadata": {},
   "source": [
    "python_version_tuple() → returns a three-element tuple filled with:\n",
    "1. the major part of Python's version;\n",
    "2. the minor part;\n",
    "3. the patch level number."
   ]
  },
  {
   "cell_type": "code",
   "execution_count": null,
   "id": "fcd1ddc5-b497-4b00-9e90-c3d16060e8b3",
   "metadata": {},
   "outputs": [],
   "source": []
  }
 ],
 "metadata": {
  "kernelspec": {
   "display_name": "Python 3 (ipykernel)",
   "language": "python",
   "name": "python3"
  },
  "language_info": {
   "codemirror_mode": {
    "name": "ipython",
    "version": 3
   },
   "file_extension": ".py",
   "mimetype": "text/x-python",
   "name": "python",
   "nbconvert_exporter": "python",
   "pygments_lexer": "ipython3",
   "version": "3.12.4"
  }
 },
 "nbformat": 4,
 "nbformat_minor": 5
}
