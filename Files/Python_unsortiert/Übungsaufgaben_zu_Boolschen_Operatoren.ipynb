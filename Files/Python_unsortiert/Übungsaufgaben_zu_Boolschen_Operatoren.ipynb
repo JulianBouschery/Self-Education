{
 "cells": [
  {
   "cell_type": "markdown",
   "id": "e55f1803-3635-4795-85e6-9227f506a5c4",
   "metadata": {},
   "source": [
    "[Zurück zum Inhaltsverzeichnis](_Inhaltsverzeichnis_.ipynb)"
   ]
  },
  {
   "cell_type": "markdown",
   "id": "e116d6a0-6e28-4fbb-b85f-e9c96a2ea893",
   "metadata": {},
   "source": [
    "# Übungsaufgaben zu Boolschen Operatoren ==, !=, >/>=, </<="
   ]
  },
  {
   "cell_type": "code",
   "execution_count": null,
   "id": "c2b1199b-cb89-4b8a-a055-3e1f82d0f82c",
   "metadata": {},
   "outputs": [],
   "source": []
  }
 ],
 "metadata": {
  "kernelspec": {
   "display_name": "Python 3 (ipykernel)",
   "language": "python",
   "name": "python3"
  },
  "language_info": {
   "codemirror_mode": {
    "name": "ipython",
    "version": 3
   },
   "file_extension": ".py",
   "mimetype": "text/x-python",
   "name": "python",
   "nbconvert_exporter": "python",
   "pygments_lexer": "ipython3",
   "version": "3.12.3"
  }
 },
 "nbformat": 4,
 "nbformat_minor": 5
}
