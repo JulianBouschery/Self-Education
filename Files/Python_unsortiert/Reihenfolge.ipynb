{
 "cells": [
  {
   "cell_type": "markdown",
   "id": "7769875c-75a1-4524-8d1d-4d1a588ac7e8",
   "metadata": {},
   "source": [
    "[Zurück zum Inhaltsverzeichnis](_Inhaltsverzeichnis_.ipynb)"
   ]
  },
  {
   "cell_type": "markdown",
   "id": "8e1fb338-f730-42a0-ba25-1ec790980a68",
   "metadata": {},
   "source": [
    "## Verhalten und Reihenfolge der Operationen von Pythoncode"
   ]
  },
  {
   "cell_type": "markdown",
   "id": "e30b50cd-38bd-48fc-8d59-44d967a9cafa",
   "metadata": {},
   "source": [
    "1. Python prüft, ob der angegebene Name **legal** ist (es durchsucht seine internen Daten, um eine bestehende Funktion dieses Namens zu finden. Wenn diese Suche fehlschlägt, bricht Python den Code ab).\n",
    "2. Prüft Python, ob die Anforderungen der Funktion an die **Anzahl** der Argumente es erlauben, die Funktion auf diese Weise aufzurufen (wenn z.B. eine bestimmte Funktion genau zwei Argumente verlangt, wird jeder Aufruf, der nur ein Argument liefert, als fehlerhaft angesehen und die Ausführung des Codes wird abgebrochen);\n",
    "3. Python verlässt Ihren Code für einen Moment und springt in die Funktion, die Sie aufrufen wollen; natürlich nimmt es auch Ihr(e) Argument(e) und übergibt es/sie an die Funktion.\n",
    "4. Die Funktion führt den Code aus, bewirkt die gewünschte Wirkung (falls vorhanden), wertet das gewünschte Ergebnis (falls vorhanden) aus und beendet ihre Aufgabe.\n",
    "5. Python kehrt zum Code zurück (an die Stelle unmittelbar nach dem Aufruf) und setzt seine Ausführung fort."
   ]
  },
  {
   "cell_type": "markdown",
   "id": "058839e9-6b44-4a9d-be3c-c18a36d08b3a",
   "metadata": {},
   "source": [
    "Beispiel:"
   ]
  },
  {
   "cell_type": "markdown",
   "id": "4efd850d-b7bb-4ad9-8bf6-46309afa4a07",
   "metadata": {},
   "source": [
    "Das macht Python ja bei jedem winzigen Code schnippsel... Sogar bei print(\"Hello World!\") Sie kann man das noch besser veranschaulichen?"
   ]
  },
  {
   "cell_type": "markdown",
   "id": "83860df1-76d0-4396-ae61-4b9aea9017bc",
   "metadata": {},
   "source": [
    "Die Syntax von Python ist in diesem Bereich recht spezifisch. Anders als die meisten Programmiersprachen verlangt Python, dass eine Zeile nicht mehr als eine Anweisung enthalten darf.\n",
    "\n",
    "Eine Zeile kann leer sein (d. h. sie darf überhaupt keine Anweisung enthalten), aber sie darf nicht zwei, drei oder mehr Anweisungen enthalten. Dies ist strengstens untersagt."
   ]
  },
  {
   "cell_type": "markdown",
   "id": "6542fea8-5458-4bcd-81cd-26b7c1858f44",
   "metadata": {},
   "source": [
    "Beispiel:"
   ]
  },
  {
   "cell_type": "code",
   "execution_count": 4,
   "id": "9fbcff04-354b-4fd2-8a5d-f4c08997ed3a",
   "metadata": {},
   "outputs": [
    {
     "ename": "SyntaxError",
     "evalue": "invalid syntax (3370254067.py, line 1)",
     "output_type": "error",
     "traceback": [
      "\u001b[1;36m  Cell \u001b[1;32mIn[4], line 1\u001b[1;36m\u001b[0m\n\u001b[1;33m    print(\"Hello\") print(\"World!\")\u001b[0m\n\u001b[1;37m                   ^\u001b[0m\n\u001b[1;31mSyntaxError\u001b[0m\u001b[1;31m:\u001b[0m invalid syntax\n"
     ]
    }
   ],
   "source": [
    "print(\"Hello\") print(\"World!\") # Es gibt einen Syntax Error."
   ]
  },
  {
   "cell_type": "markdown",
   "id": "6fe36b3a-5102-494d-b402-2bb6909c9d4a",
   "metadata": {},
   "source": [
    "Hier sieht es für uns zwar aus, als wären die beiden Funktionen in einer Zeile, doch sie werden von einem Komma getrennt und sind nur erlaubt, weil man sie dadurch klar voneinander trennen kann."
   ]
  },
  {
   "cell_type": "code",
   "execution_count": 5,
   "id": "3c7e0c62-8236-4c65-acea-8b9691e9ce5a",
   "metadata": {
    "scrolled": true
   },
   "outputs": [
    {
     "name": "stdout",
     "output_type": "stream",
     "text": [
      "Hello\n",
      "World!\n"
     ]
    },
    {
     "data": {
      "text/plain": [
       "(None, None)"
      ]
     },
     "execution_count": 5,
     "metadata": {},
     "output_type": "execute_result"
    }
   ],
   "source": [
    "print(\"Hello\"), print(\"World!\")"
   ]
  }
 ],
 "metadata": {
  "kernelspec": {
   "display_name": "Python 3 (ipykernel)",
   "language": "python",
   "name": "python3"
  },
  "language_info": {
   "codemirror_mode": {
    "name": "ipython",
    "version": 3
   },
   "file_extension": ".py",
   "mimetype": "text/x-python",
   "name": "python",
   "nbconvert_exporter": "python",
   "pygments_lexer": "ipython3",
   "version": "3.12.3"
  }
 },
 "nbformat": 4,
 "nbformat_minor": 5
}
