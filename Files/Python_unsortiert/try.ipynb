{
 "cells": [
  {
   "cell_type": "markdown",
   "id": "5c438049-7940-4cbb-bd97-8c512d63b8e3",
   "metadata": {},
   "source": [
    "# try-Block"
   ]
  },
  {
   "cell_type": "markdown",
   "id": "9fecc1a7-a5ce-4d8f-af27-d22218a4ab03",
   "metadata": {},
   "source": [
    "Der `try-else`-Block in Python ermöglicht es dir, Code auszuführen, während du potenzielle Fehler im Auge behältst. Der Unterschied zu einem normalen `try-except`-Block besteht darin, dass der Code im `else`-Block nur ausgeführt wird, **wenn kein Fehler** im `try`-Block aufgetreten ist.\n",
    "\n",
    "### Aufbau:\n",
    "- Der **`try`-Block** enthält den Code, bei dem ein Fehler auftreten könnte.\n",
    "- Der **`except`-Block** fängt spezifische Fehler ab und behandelt sie.\n",
    "- Der **`else`-Block** wird nur dann ausgeführt, wenn **kein Fehler** im `try`-Block aufgetreten ist.\n",
    "- Der **`finally`-Block** (optional) wird immer ausgeführt, unabhängig davon, ob ein Fehler aufgetreten ist oder nicht.\n",
    "\n",
    "### Fehler anzeigen lassen:\n",
    "Um die Fehlermeldung anzuzeigen, kannst du die eingebaute Exception-Objektverarbeitung verwenden, z. B. mit `except Exception as e`, wobei `e` die Fehlermeldung enthält.\n",
    "\n",
    "### Beispiel:\n",
    "```python\n",
    "try:\n",
    "    x = int(input(\"Gib eine Zahl ein: \"))  # Hier könnte ein Fehler auftreten\n",
    "except ValueError as e:\n",
    "    print(f\"Fehler: {e}\")  # Zeigt die Fehlermeldung an, falls die Eingabe keine Zahl ist\n",
    "else:\n",
    "    print(f\"Alles gut, du hast die Zahl {x} eingegeben!\")\n",
    "finally:\n",
    "    print(\"Dieser Block wird immer ausgeführt, egal ob ein Fehler auftrat oder nicht.\")\n",
    "```\n",
    "\n",
    "### Erklärung:\n",
    "- Wenn der Benutzer z. B. \"abc\" eingibt, tritt ein **`ValueError`** auf, und die Fehlermeldung wird im `except`-Block angezeigt.\n",
    "- Wenn der Benutzer eine gültige Zahl eingibt, wird der Code im `else`-Block ausgeführt.\n"
   ]
  },
  {
   "cell_type": "code",
   "execution_count": null,
   "id": "b2defe0f-7ec8-457f-92f1-3e9b2f649c05",
   "metadata": {},
   "outputs": [],
   "source": []
  }
 ],
 "metadata": {
  "kernelspec": {
   "display_name": "Python 3 (ipykernel)",
   "language": "python",
   "name": "python3"
  },
  "language_info": {
   "codemirror_mode": {
    "name": "ipython",
    "version": 3
   },
   "file_extension": ".py",
   "mimetype": "text/x-python",
   "name": "python",
   "nbconvert_exporter": "python",
   "pygments_lexer": "ipython3",
   "version": "3.12.6"
  }
 },
 "nbformat": 4,
 "nbformat_minor": 5
}
