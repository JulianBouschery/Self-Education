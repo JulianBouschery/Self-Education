{
 "cells": [
  {
   "cell_type": "markdown",
   "id": "35586d45-3460-40e4-acdc-6a24347d8fcf",
   "metadata": {},
   "source": [
    "[Zurück zum Inhaltsverzeichnis](_Inhaltsverzeichnis_.ipynb)"
   ]
  },
  {
   "cell_type": "markdown",
   "id": "ba626d7b-18e2-45f1-9c58-6924bdd63ed7",
   "metadata": {},
   "source": [
    "# Keywords"
   ]
  },
  {
   "cell_type": "markdown",
   "id": "225b9cbb-57d6-4556-82fc-f543621e2b41",
   "metadata": {},
   "source": [
    "Sie werden Keywords oder (genauer gesagt) reserved Keywords genannt. Sie sind reserviert, weil Sie sie nicht als Namen verwenden dürfen. Weder für Variablen, noch für Funktionen, noch für andere benannte Einheiten, die Sie erstellen wollen.\n",
    "\n",
    "Die Bedeutung des Keyword ist vordefiniert und darf in keiner Weise verändert werden."
   ]
  },
  {
   "cell_type": "markdown",
   "id": "87a87756-c8dd-4e97-a49b-b80af1ffa6ba",
   "metadata": {},
   "source": [
    "Erfahrungsgemäß müssen diese Wörter nicht expliziet gelernt werden, da man sie praktisch ausversehen mit aufschnappt und jetzt wo ich diese Zeile schreibe frage ich mich wann ich all diese Wörter sammt ihre Funktion und Anwendung gelernt habe, ohne es zu merken..."
   ]
  },
  {
   "cell_type": "markdown",
   "id": "917ac6a6-7c59-4d8b-a772-87dc0c77d007",
   "metadata": {},
   "source": [
    "Aber für alle die einzelne Wörter nachschlagen wollen hier eine Übersicht aller Keywords in Python"
   ]
  },
  {
   "cell_type": "markdown",
   "id": "a41174b9-c398-40f9-9a90-f0b2fea0bda6",
   "metadata": {},
   "source": [
    "```python\n",
    "False      await      else       import     pass\n",
    "None       break      except     in         raise\n",
    "True       class      finally    is         return\n",
    "and        continue   for        lambda     try\n",
    "as         def        from       nonlocal   while\n",
    "assert     del        global     not        with\n",
    "async      elif       if         or         yield\n",
    "```"
   ]
  },
  {
   "cell_type": "code",
   "execution_count": null,
   "id": "78d1a281-dc51-4541-add7-8245de6f68d8",
   "metadata": {},
   "outputs": [],
   "source": [
    "raise --> erzeugt einen Fehler, wenn bedingung zutrifft."
   ]
  },
  {
   "cell_type": "code",
   "execution_count": null,
   "id": "81497529-6ff4-49aa-aa1b-88181575a631",
   "metadata": {},
   "outputs": [],
   "source": [
    "yield und result"
   ]
  },
  {
   "cell_type": "markdown",
   "id": "45e2e5f6-2779-469b-86a1-e5eeae71b1f2",
   "metadata": {},
   "source": [
    "[as](as.ipynb)"
   ]
  },
  {
   "cell_type": "markdown",
   "id": "4be5a4f6-620f-4455-ad60-39c2987d5d42",
   "metadata": {},
   "source": [
    "[assert](assert.ipynb)"
   ]
  },
  {
   "cell_type": "markdown",
   "id": "9c6ba706-c203-4689-a1aa-2574cca1ef9a",
   "metadata": {},
   "source": [
    "[import](import.ipynb)"
   ]
  },
  {
   "cell_type": "markdown",
   "id": "0c7ddac8-9775-4b71-9133-6b76341e9b52",
   "metadata": {},
   "source": [
    "[global](global.ipynb)"
   ]
  },
  {
   "cell_type": "code",
   "execution_count": null,
   "id": "42e92ed1-5706-4fdc-8c65-0195213a8bf0",
   "metadata": {},
   "outputs": [],
   "source": []
  }
 ],
 "metadata": {
  "kernelspec": {
   "display_name": "Python 3 (ipykernel)",
   "language": "python",
   "name": "python3"
  },
  "language_info": {
   "codemirror_mode": {
    "name": "ipython",
    "version": 3
   },
   "file_extension": ".py",
   "mimetype": "text/x-python",
   "name": "python",
   "nbconvert_exporter": "python",
   "pygments_lexer": "ipython3",
   "version": "3.12.4"
  }
 },
 "nbformat": 4,
 "nbformat_minor": 5
}
