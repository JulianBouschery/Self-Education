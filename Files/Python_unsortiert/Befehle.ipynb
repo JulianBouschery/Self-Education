{
 "cells": [
  {
   "cell_type": "markdown",
   "id": "3b6bdcd6-b11e-42d7-9612-03058f10b524",
   "metadata": {},
   "source": [
    "# Befehle in Python, die jeder kennen sollte"
   ]
  },
  {
   "cell_type": "markdown",
   "id": "15273a83-7155-4544-acc2-3edbe34740f7",
   "metadata": {},
   "source": [
    "## dir und sein spezieller usecase"
   ]
  },
  {
   "cell_type": "code",
   "execution_count": 36,
   "id": "d43c6795-3ff2-452f-988f-10e8623edb95",
   "metadata": {},
   "outputs": [
    {
     "data": {
      "text/plain": [
       "<function dir>"
      ]
     },
     "execution_count": 36,
     "metadata": {},
     "output_type": "execute_result"
    }
   ],
   "source": [
    "dir"
   ]
  },
  {
   "cell_type": "markdown",
   "id": "367d3466-7864-4e84-9bc3-844f731a8439",
   "metadata": {},
   "source": [
    "Syntax der Prüfung:\n",
    "```python\n",
    "\"method\" in dir(object)\n",
    "```"
   ]
  },
  {
   "cell_type": "markdown",
   "id": "96daca2c-2d05-480c-8002-c3f450362f6c",
   "metadata": {},
   "source": [
    "Beispiel:"
   ]
  },
  {
   "cell_type": "code",
   "execution_count": 38,
   "id": "85f24f9c-a8f7-4a55-8cea-3c62ce0293e3",
   "metadata": {},
   "outputs": [
    {
     "data": {
      "text/plain": [
       "True"
      ]
     },
     "execution_count": 38,
     "metadata": {},
     "output_type": "execute_result"
    }
   ],
   "source": [
    "\"clear\" in dir(list)"
   ]
  }
 ],
 "metadata": {
  "kernelspec": {
   "display_name": "Python 3 (ipykernel)",
   "language": "python",
   "name": "python3"
  },
  "language_info": {
   "codemirror_mode": {
    "name": "ipython",
    "version": 3
   },
   "file_extension": ".py",
   "mimetype": "text/x-python",
   "name": "python",
   "nbconvert_exporter": "python",
   "pygments_lexer": "ipython3",
   "version": "3.12.3"
  }
 },
 "nbformat": 4,
 "nbformat_minor": 5
}
