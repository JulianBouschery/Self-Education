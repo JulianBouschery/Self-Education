{
 "cells": [
  {
   "cell_type": "markdown",
   "id": "e63d36b9-4a05-409b-bdb3-4ce5fae4f308",
   "metadata": {},
   "source": [
    "[Zurück zum Inhaltsverzeichnis](_Inhaltsverzeichnis_.ipynb)"
   ]
  },
  {
   "cell_type": "markdown",
   "id": "8a920bb3-b256-49c4-a2e0-fd03e84faa2b",
   "metadata": {},
   "source": [
    "# Cell Magic"
   ]
  },
  {
   "cell_type": "markdown",
   "id": "ab47f7de-a5a6-4f3a-bd9f-8c8cca46be38",
   "metadata": {},
   "source": [
    "## %whos"
   ]
  },
  {
   "cell_type": "code",
   "execution_count": null,
   "id": "171c663b-4d3e-4992-b60b-616a4e26400e",
   "metadata": {},
   "outputs": [],
   "source": []
  },
  {
   "cell_type": "code",
   "execution_count": 11,
   "id": "8e97ae9f-9e3f-4bf7-9b2f-75f0d9d1d6ef",
   "metadata": {},
   "outputs": [],
   "source": [
    "x = 1"
   ]
  },
  {
   "cell_type": "code",
   "execution_count": 12,
   "id": "a6cf53d3-1ab4-4bee-8747-d1ba83d8434e",
   "metadata": {},
   "outputs": [
    {
     "name": "stdout",
     "output_type": "stream",
     "text": [
      "Variable   Type    Data/Info\n",
      "----------------------------\n",
      "c          int     2\n",
      "x          int     1\n"
     ]
    }
   ],
   "source": [
    "%whos"
   ]
  },
  {
   "cell_type": "code",
   "execution_count": 14,
   "id": "e59d1bdd-20c4-4192-82db-a2d53b526340",
   "metadata": {},
   "outputs": [],
   "source": [
    "c = 2"
   ]
  },
  {
   "cell_type": "code",
   "execution_count": 15,
   "id": "ed76c093-04b9-4cc1-812d-63b244473706",
   "metadata": {},
   "outputs": [
    {
     "name": "stdout",
     "output_type": "stream",
     "text": [
      "Variable   Type    Data/Info\n",
      "----------------------------\n",
      "c          int     2\n",
      "x          int     1\n"
     ]
    }
   ],
   "source": [
    "%whos"
   ]
  },
  {
   "cell_type": "markdown",
   "id": "f9b00c96-8f2d-47a9-869d-5741e384982c",
   "metadata": {
    "jp-MarkdownHeadingCollapsed": true
   },
   "source": [
    "## %%timtit"
   ]
  },
  {
   "cell_type": "code",
   "execution_count": 13,
   "id": "422c1e9c-5d2e-4590-aafc-74d7d520c4f4",
   "metadata": {},
   "outputs": [
    {
     "name": "stdout",
     "output_type": "stream",
     "text": [
      "2.12 µs ± 55.7 ns per loop (mean ± std. dev. of 7 runs, 100,000 loops each)\n"
     ]
    }
   ],
   "source": [
    "%%timeit\n",
    "for i in range(200):\n",
    "    u = 1\n"
   ]
  },
  {
   "cell_type": "markdown",
   "id": "4556c655-1782-4376-9f5b-182d89e5bb04",
   "metadata": {},
   "source": [
    "Kontrollieren wenn Zeit:"
   ]
  },
  {
   "cell_type": "code",
   "execution_count": null,
   "id": "58e3ac05-ef2e-4119-9673-bb368d188fab",
   "metadata": {},
   "outputs": [],
   "source": [
    "1 Sekunde = 1000 Millisekunden\n",
    "1 Millisekunde = 1000 Mikrosekunden\n",
    "1 Mikrosekunde = 1000 Nanosekunden\n",
    "1 Nanosekunde = 1000 Picosekunden\n",
    "1 Picosekunde = 1000 ???"
   ]
  }
 ],
 "metadata": {
  "kernelspec": {
   "display_name": "Python 3 (ipykernel)",
   "language": "python",
   "name": "python3"
  },
  "language_info": {
   "codemirror_mode": {
    "name": "ipython",
    "version": 3
   },
   "file_extension": ".py",
   "mimetype": "text/x-python",
   "name": "python",
   "nbconvert_exporter": "python",
   "pygments_lexer": "ipython3",
   "version": "3.12.6"
  }
 },
 "nbformat": 4,
 "nbformat_minor": 5
}
