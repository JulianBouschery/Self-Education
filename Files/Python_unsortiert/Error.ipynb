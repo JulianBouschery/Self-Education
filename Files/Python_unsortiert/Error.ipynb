{
 "cells": [
  {
   "cell_type": "markdown",
   "id": "3cbd3e52-6d24-4368-a2df-a7f7d7adba61",
   "metadata": {},
   "source": [
    "[Zurück zum Inhaltsverzeichnis](_Inhaltsverzeichnis_.ipynb)"
   ]
  },
  {
   "cell_type": "markdown",
   "id": "a3e4778b-41de-46af-9f7c-f2af4dff5ed9",
   "metadata": {},
   "source": [
    "# Übersicht zu allem was mit Fehlerklassen zu tun hat"
   ]
  },
  {
   "cell_type": "markdown",
   "id": "a48a17e1-689e-4f0c-b339-4b5a4d2cf2ba",
   "metadata": {},
   "source": [
    "## Hierarchie der (jetzt gerade) wichtigsten Fehlerklassen"
   ]
  },
  {
   "cell_type": "markdown",
   "id": "e95fa831-cad4-4515-bcb2-3c9c7bfcf62b",
   "metadata": {},
   "source": [
    "Siehe auch: [Diagramm aller (für den PCAP) wichtigen Fehlerklassen](ErrorHierarchie.ipynb)"
   ]
  },
  {
   "cell_type": "markdown",
   "id": "c7beba41-3e47-4f68-8d13-469bfd6d914f",
   "metadata": {},
   "source": [
    "## Die Spezifischen Fehlermeldungen der einzelnen Datentypen"
   ]
  },
  {
   "cell_type": "markdown",
   "id": "c7457c12-4f89-4dfc-b886-e60e02cbc7f0",
   "metadata": {},
   "source": [
    "Siehe auch: [Fehler nach Datentypen sortiert](Error_Datatyps.ipynb)"
   ]
  },
  {
   "cell_type": "markdown",
   "id": "faf06bfc-c7fe-406f-98e2-1c2071f647b8",
   "metadata": {},
   "source": [
    "## Übsersicht der Skripte"
   ]
  },
  {
   "cell_type": "markdown",
   "id": "9551f552-7836-4210-869d-49fa66c91c39",
   "metadata": {},
   "source": [
    "Siehe auch: [args](args.ipynb)"
   ]
  },
  {
   "cell_type": "markdown",
   "id": "6b86e434-49d1-4395-b9a7-c9d884c9122e",
   "metadata": {},
   "source": [
    "Siehe auch: [Patologische Prüfungsaufgaben und Übungsaufgaben zu Exceptions](ÜA_exceptions.ipynb)"
   ]
  },
  {
   "cell_type": "markdown",
   "id": "55e7d7da-9145-48a9-85da-10c0b4274c03",
   "metadata": {},
   "source": [
    "Siehe auch: [UnboundLocalError](Unbound.ipynb)"
   ]
  },
  {
   "cell_type": "markdown",
   "id": "450979df-82e5-453b-aad4-161e3ece2d5b",
   "metadata": {},
   "source": [
    "Siehe auch: [Übungsaufgaben zu Exceptions](ÜA_exceptions.ipynb)"
   ]
  },
  {
   "cell_type": "markdown",
   "id": "cd0defe7-f928-4ebe-a33f-b578a60b57e4",
   "metadata": {},
   "source": [
    "## Patologische Prüfungsaufgaben und Übungsaufgaben "
   ]
  },
  {
   "cell_type": "markdown",
   "id": "047569cf-0dc3-47ff-ad44-300421e68b46",
   "metadata": {},
   "source": [
    "[Patologische Prüfungsaufgaben und Übungsaufgaben zu Exceptions](ÜA_exceptions.ipynb)"
   ]
  },
  {
   "cell_type": "markdown",
   "id": "0b47e0f9-a599-4f09-9af8-2c22bd4e70d5",
   "metadata": {
    "jp-MarkdownHeadingCollapsed": true
   },
   "source": [
    "## Beispiele zu spezifischen Fehlertypen"
   ]
  },
  {
   "cell_type": "markdown",
   "id": "7c3a364d-dd0f-4f21-975b-d2eef98ceedb",
   "metadata": {},
   "source": [
    "### UnboundLocalError"
   ]
  },
  {
   "cell_type": "markdown",
   "id": "17c5cd66-d73d-4a86-b2e1-59f7d0d5423c",
   "metadata": {},
   "source": [
    "Siehe auch: [UnboundLocalError](Unbound.ipynb)"
   ]
  },
  {
   "cell_type": "markdown",
   "id": "b2fb5a63-59fc-4922-b05f-68943414ce3f",
   "metadata": {
    "jp-MarkdownHeadingCollapsed": true
   },
   "source": [
    "### Fehler fangen"
   ]
  },
  {
   "cell_type": "markdown",
   "id": "a7c44205-a06b-407d-93d8-e58d96852147",
   "metadata": {},
   "source": [
    "Fehler fangen und ihre Information speichern."
   ]
  },
  {
   "cell_type": "markdown",
   "id": "255435c0-7296-417b-90df-9a3d11d4952f",
   "metadata": {},
   "source": [
    "Syntax:\n",
    "```python\n",
    "try:\n",
    "    Code bei dem eventuell ein Fehler Auftritt\n",
    "except Exception as Variabel:\n",
    "    print(Variable)\n",
    "```"
   ]
  },
  {
   "cell_type": "code",
   "execution_count": 23,
   "id": "3cf962c2-8200-41b3-aac1-4f3ce44119c4",
   "metadata": {},
   "outputs": [
    {
     "ename": "IndexError",
     "evalue": "string index out of range",
     "output_type": "error",
     "traceback": [
      "\u001b[1;31m---------------------------------------------------------------------------\u001b[0m",
      "\u001b[1;31mIndexError\u001b[0m                                Traceback (most recent call last)",
      "Cell \u001b[1;32mIn[23], line 2\u001b[0m\n\u001b[0;32m      1\u001b[0m s \u001b[38;5;241m=\u001b[39m \u001b[38;5;124m\"\u001b[39m\u001b[38;5;124mtest string\u001b[39m\u001b[38;5;124m\"\u001b[39m\n\u001b[1;32m----> 2\u001b[0m s \u001b[38;5;241m=\u001b[39m \u001b[43ms\u001b[49m\u001b[43m[\u001b[49m\u001b[38;5;241;43m100\u001b[39;49m\u001b[43m]\u001b[49m\n",
      "\u001b[1;31mIndexError\u001b[0m: string index out of range"
     ]
    }
   ],
   "source": [
    "s = \"test string\"\n",
    "s = s[100]"
   ]
  },
  {
   "cell_type": "code",
   "execution_count": 22,
   "id": "f9782e7b-d54e-4a20-8ff3-734ee4c4a08a",
   "metadata": {},
   "outputs": [
    {
     "name": "stdout",
     "output_type": "stream",
     "text": [
      "string index out of range\n"
     ]
    }
   ],
   "source": [
    "s = \"test string\"\n",
    "try:\n",
    "    s = s[100]\n",
    "except Exception as exc:\n",
    "    print(exc)\n",
    "\n"
   ]
  },
  {
   "cell_type": "markdown",
   "id": "4cccdddc-803f-4c7e-8bf6-dbd5870b45a5",
   "metadata": {},
   "source": [
    "### Nested Exceptions"
   ]
  },
  {
   "cell_type": "markdown",
   "id": "5846b324-ffa0-45e4-95fc-9d28dfc3a43b",
   "metadata": {},
   "source": [
    "Siehe auch: [Nested Exceptions](Nested_Exceptions.ipynb)"
   ]
  },
  {
   "cell_type": "markdown",
   "id": "0d608bc9-bac0-4e52-bf75-e8c7e4fabfca",
   "metadata": {},
   "source": [
    "### assert"
   ]
  },
  {
   "cell_type": "markdown",
   "id": "59964811-9c23-4c0b-b4fd-197b0b8374af",
   "metadata": {},
   "source": [
    "Siehe auch: [assert Exception](assert_Exception.ipynb)"
   ]
  },
  {
   "cell_type": "markdown",
   "id": "062a1350-bb81-421a-9232-4ae1442e0a98",
   "metadata": {
    "jp-MarkdownHeadingCollapsed": true
   },
   "source": [
    "### raise"
   ]
  },
  {
   "cell_type": "markdown",
   "id": "98698a8e-9a31-4686-bbe2-7665f390ab02",
   "metadata": {},
   "source": [
    "Wenn raise frei steht / ohne das irgendein Fehler folgt:"
   ]
  },
  {
   "cell_type": "code",
   "execution_count": 93,
   "id": "ed816de6-c743-4ac9-a7a5-c346b5b56fd5",
   "metadata": {},
   "outputs": [
    {
     "ename": "RuntimeError",
     "evalue": "No active exception to reraise",
     "output_type": "error",
     "traceback": [
      "\u001b[1;31m---------------------------------------------------------------------------\u001b[0m",
      "\u001b[1;31mRuntimeError\u001b[0m                              Traceback (most recent call last)",
      "Cell \u001b[1;32mIn[93], line 1\u001b[0m\n\u001b[1;32m----> 1\u001b[0m \u001b[38;5;28;01mraise\u001b[39;00m\n\u001b[0;32m      3\u001b[0m Bliblablub\n\u001b[0;32m      4\u001b[0m \u001b[38;5;28;01mdef\u001b[39;00m \u001b[38;5;21mbad_fun\u001b[39m(n):\n",
      "\u001b[1;31mRuntimeError\u001b[0m: No active exception to reraise"
     ]
    }
   ],
   "source": [
    "raise\n",
    "\n",
    "Bliblablub\n",
    "def bad_fun(n):\n",
    "    try:\n",
    "        return n / 0 # Fehler wird gemacht\n",
    "    except: # Fehler wird behandelt\n",
    "        print(\"I did it again!\")\n",
    "        raise # der behandelte Fehler wird ERNEUT geraised\n",
    " \n",
    "try:\n",
    "    bad_fun(0)# ZeroDivisionError\n",
    "except ArithmeticError:\n",
    "    print(\"I see!\")\n",
    "\n",
    "print(\"THE END.\")"
   ]
  },
  {
   "cell_type": "markdown",
   "id": "d69dac8c-53df-4092-8b49-74aaa7b04af8",
   "metadata": {},
   "source": [
    "Python erwartet eine Fehlerklasse, aber es kommt keine und dann meckert das Programm."
   ]
  },
  {
   "cell_type": "markdown",
   "id": "ff37bbab-9835-48b1-9d32-0bf61b2451e8",
   "metadata": {},
   "source": [
    "# Dinge auf die man bei Aufgaben zu Exceptions im PCAP achten muss:"
   ]
  },
  {
   "cell_type": "markdown",
   "id": "cb4d57e3-40ee-4f7b-8287-ea2c192785c8",
   "metadata": {
    "jp-MarkdownHeadingCollapsed": true
   },
   "source": [
    "Es ist wichtig zu überprüfen, ob:\n",
    "\n",
    "- Syntaxfehler vorliegen und auch ob einen Fehler als Antwortmöglichkeit zur Verfügung steht. \n",
    "- args durch den Code überschrieben wird.\n",
    "- `__str__`()-Methode überschrieben wird.\n",
    "- `__init__`()-Methode überschrieben wird.\n",
    "- super().`__init__` / Klasse.`__init__` auf Instanzvariablen einer Superklasse zugreifen"
   ]
  },
  {
   "cell_type": "markdown",
   "id": "a21fd974-7022-4e4b-881b-c8572881859b",
   "metadata": {},
   "source": [
    "## Nützlich bei Exceptions"
   ]
  },
  {
   "cell_type": "markdown",
   "id": "176ec512-4475-415b-b815-97ec61543198",
   "metadata": {},
   "source": [
    "Einige brauchbare Eigenschaften der Fehlerklasse sind:"
   ]
  },
  {
   "cell_type": "markdown",
   "id": "c0faec23-7f11-464d-9a32-77c13a18afd0",
   "metadata": {
    "jp-MarkdownHeadingCollapsed": true
   },
   "source": [
    "### `__name__`"
   ]
  },
  {
   "cell_type": "markdown",
   "id": "62078384-5e53-4df8-9d23-bbd08263b598",
   "metadata": {},
   "source": [
    "Siehe auch: [`__name__`](n__name__.ipynb)"
   ]
  },
  {
   "cell_type": "markdown",
   "id": "470815c9-5da7-4f99-8065-6a484907f2a8",
   "metadata": {},
   "source": [
    "Die **Variable** `__name__` ist ein spezielles Built-in-Attribut in Python, das den Namen des **aktuellen** Objekts auf das sie angewandt wird, als String wiedergibt. Auf eine Klasse oder die Instanz einer Klasse angewandt gibt `__name__` den Namen der Klasse wieder. Klasse_X.`__name__` = Klasse_X | Instanz_der_Klasse_X.`__name__` = Klasse_X\n",
    "\n",
    "Wird es frei stehend angewandt nimmt `__name__` den Namen der Datei an, in der der Code ausgeführt wird (Beispielmodule1.py). Wird der Code im Hauptprogramm ausgeführt, wird der Wert von `__name__` auf `__main__` gesetzt. Manchmal kann es wichtig sein zu wissen, wo der Code Ausgeführt wird und `__name__` ist ein Indikator dafür."
   ]
  },
  {
   "cell_type": "markdown",
   "id": "3eaa4504-92cc-402f-b8e7-a19e17f19499",
   "metadata": {
    "jp-MarkdownHeadingCollapsed": true
   },
   "source": [
    "### `__subclasses__()`"
   ]
  },
  {
   "cell_type": "markdown",
   "id": "e8fa16f7-a5bf-45f3-91a1-8f74d0551ffd",
   "metadata": {},
   "source": [
    "Die `.__subclasses__()` Methode gibt eine Liste aller direkten Unterklassen einer Klasse zurückgibt. Dies ermöglicht es, die Vererbungshierarchie zu analysieren und alle Klassen zu identifizieren, die von einer bestimmten Basisklasse abgeleitet sind. Die Methode wird auf eine Klasse angewandt und gibt eine Liste der direkten Unterklassen dieser Klasse zurück."
   ]
  },
  {
   "cell_type": "markdown",
   "id": "f661a4e9-5cad-4dac-bffd-18d092232c0e",
   "metadata": {},
   "source": [
    "Siehe auch: [`__subclasses__`](s__subclasses__.ipynb)"
   ]
  },
  {
   "cell_type": "markdown",
   "id": "59eb586a-8e37-4b5d-bab2-a60f76e24282",
   "metadata": {},
   "source": [
    "### args"
   ]
  },
  {
   "cell_type": "markdown",
   "id": "63a93893-32f4-4056-84a7-dff6aa31fdf2",
   "metadata": {},
   "source": [
    "Siehe auch: [Exception.args](args.ipynb)"
   ]
  },
  {
   "cell_type": "markdown",
   "id": "614aa5b8-a3ad-4ef3-acc2-b5a02b4764db",
   "metadata": {},
   "source": [
    "Instanzen von Fehlerklassen enthalten **IMMER** die Variable `args`, ein Tupel, das alle Argumente sammelt, die an den Konstruktor der Ausnahmeklasse übergeben werden (self wird hier nicht mitgezählt, wenn der Konstruktor also keine Argumente erhält, ist das Tupel leer)."
   ]
  },
  {
   "cell_type": "markdown",
   "id": "565279ed-8c9d-4798-92be-96574a0c4c96",
   "metadata": {},
   "source": [
    "Darüber hinaus enthalten Instanzen von Fehlerklassen die Variable `args`, ein Tupel, das alle Argumente sammelt, die an den Konstruktor der Fehlerklasse übergeben werden (self wird hier nicht mitgezählt, wenn der Konstruktor also keine Argumente erhält, ist das Tupel leer)."
   ]
  },
  {
   "cell_type": "markdown",
   "id": "c7539c63-f424-4b3c-8b5a-0cf6177c6cd9",
   "metadata": {},
   "source": [
    "### `__module__`"
   ]
  },
  {
   "cell_type": "markdown",
   "id": "b80ceceb-f4f8-46e3-8d6f-9b554a04a6c1",
   "metadata": {},
   "source": [
    "Siehe auch: [`__module__`](m__module__.ipynb)"
   ]
  },
  {
   "cell_type": "code",
   "execution_count": null,
   "id": "9657855b-f909-4d7f-abe3-b3a0c6db77d8",
   "metadata": {},
   "outputs": [],
   "source": []
  },
  {
   "cell_type": "markdown",
   "id": "3c2240ec-a92f-4cac-b457-339732b49742",
   "metadata": {},
   "source": [
    "Python speichert in welchem Module etwas geschrieben wurde."
   ]
  },
  {
   "cell_type": "markdown",
   "id": "3bfd0425-fa37-46c9-82ac-24062de68c12",
   "metadata": {},
   "source": [
    "# Exceptions beim Programmieren von echten Programmen nutzen"
   ]
  },
  {
   "cell_type": "markdown",
   "id": "0fcf5fb2-7a26-4448-81c0-b0b06124a88a",
   "metadata": {},
   "source": [
    "Niemals BaseException oder nur except benutzen weil dann auch systemexit und keyboard abgefangen werden"
   ]
  },
  {
   "cell_type": "code",
   "execution_count": null,
   "id": "81c4451c-494a-41b2-a5eb-c90f291d081e",
   "metadata": {},
   "outputs": [],
   "source": []
  }
 ],
 "metadata": {
  "kernelspec": {
   "display_name": "Python 3 (ipykernel)",
   "language": "python",
   "name": "python3"
  },
  "language_info": {
   "codemirror_mode": {
    "name": "ipython",
    "version": 3
   },
   "file_extension": ".py",
   "mimetype": "text/x-python",
   "name": "python",
   "nbconvert_exporter": "python",
   "pygments_lexer": "ipython3",
   "version": "3.12.4"
  }
 },
 "nbformat": 4,
 "nbformat_minor": 5
}
