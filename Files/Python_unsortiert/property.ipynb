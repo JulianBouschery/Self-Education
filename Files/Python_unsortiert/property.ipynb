{
 "cells": [
  {
   "cell_type": "markdown",
   "id": "253e98f9-6825-49d6-87c1-de7c6e683fc5",
   "metadata": {},
   "source": [
    "# Property"
   ]
  },
  {
   "cell_type": "markdown",
   "id": "e51fc879-fd64-43db-8b6a-15fa0561e3d1",
   "metadata": {},
   "source": [
    "property gehört zu classmethod / decoratoren"
   ]
  },
  {
   "cell_type": "code",
   "execution_count": 1,
   "id": "c831a088-dde3-40ba-8e6f-8f4227d4f667",
   "metadata": {},
   "outputs": [
    {
     "name": "stdout",
     "output_type": "stream",
     "text": [
      "Bob\n"
     ]
    }
   ],
   "source": [
    "class Person:\n",
    "    def __init__(self, name):\n",
    "        self.__name = name\n",
    "    def get_name(self):\n",
    "        return self.__name\n",
    "    def set_name(self, name):\n",
    "        self.__name = name\n",
    "    name = property(fget= None, fset = set_name)\n",
    "p = Person(\"John\")\n",
    "p.name = \"Bob\"\n",
    "print(p.get_name())"
   ]
  },
  {
   "cell_type": "code",
   "execution_count": 2,
   "id": "33e5beb3-4a23-493d-8b52-44eb1427c5c8",
   "metadata": {},
   "outputs": [
    {
     "data": {
      "text/plain": [
       "\u001b[0;31mInit signature:\u001b[0m \u001b[0mproperty\u001b[0m\u001b[0;34m(\u001b[0m\u001b[0mfget\u001b[0m\u001b[0;34m=\u001b[0m\u001b[0;32mNone\u001b[0m\u001b[0;34m,\u001b[0m \u001b[0mfset\u001b[0m\u001b[0;34m=\u001b[0m\u001b[0;32mNone\u001b[0m\u001b[0;34m,\u001b[0m \u001b[0mfdel\u001b[0m\u001b[0;34m=\u001b[0m\u001b[0;32mNone\u001b[0m\u001b[0;34m,\u001b[0m \u001b[0mdoc\u001b[0m\u001b[0;34m=\u001b[0m\u001b[0;32mNone\u001b[0m\u001b[0;34m)\u001b[0m\u001b[0;34m\u001b[0m\u001b[0;34m\u001b[0m\u001b[0m\n",
       "\u001b[0;31mDocstring:\u001b[0m     \n",
       "Property attribute.\n",
       "\n",
       "  fget\n",
       "    function to be used for getting an attribute value\n",
       "  fset\n",
       "    function to be used for setting an attribute value\n",
       "  fdel\n",
       "    function to be used for del'ing an attribute\n",
       "  doc\n",
       "    docstring\n",
       "\n",
       "Typical use is to define a managed attribute x:\n",
       "\n",
       "class C(object):\n",
       "    def getx(self): return self._x\n",
       "    def setx(self, value): self._x = value\n",
       "    def delx(self): del self._x\n",
       "    x = property(getx, setx, delx, \"I'm the 'x' property.\")\n",
       "\n",
       "Decorators make defining new properties or modifying existing ones easy:\n",
       "\n",
       "class C(object):\n",
       "    @property\n",
       "    def x(self):\n",
       "        \"I am the 'x' property.\"\n",
       "        return self._x\n",
       "    @x.setter\n",
       "    def x(self, value):\n",
       "        self._x = value\n",
       "    @x.deleter\n",
       "    def x(self):\n",
       "        del self._x\n",
       "\u001b[0;31mType:\u001b[0m           type\n",
       "\u001b[0;31mSubclasses:\u001b[0m     abstractproperty"
      ]
     },
     "metadata": {},
     "output_type": "display_data"
    }
   ],
   "source": [
    "property?"
   ]
  },
  {
   "cell_type": "code",
   "execution_count": 1,
   "id": "306ee251-3356-481a-9b45-a7eb96291296",
   "metadata": {},
   "outputs": [
    {
     "name": "stdout",
     "output_type": "stream",
     "text": [
      "{'_Person__name': 'John'}\n",
      "Getter\n",
      "John\n",
      "Setter\n",
      "ende setter\n",
      "{'_Person__name': 'Bob'}\n"
     ]
    }
   ],
   "source": [
    "class Person:\n",
    "   \n",
    "    def __init__(self, name):\n",
    "        self.__name = name\n",
    "       \n",
    "    # Getter\n",
    "    @property\n",
    "    def name(self):\n",
    "        print(\"Getter\")\n",
    "        return self.__name\n",
    "        #print(\"ende Getter\")\n",
    "\n",
    "    #setter\n",
    "    @name.setter\n",
    "    def name(self, name):\n",
    "        print(\"Setter\")\n",
    "        self.__name = name\n",
    "        print(\"ende setter\")\n",
    "   \n",
    "p = Person(\"John\")\n",
    "print(p.__dict__)\n",
    "print(p.name) # Lesend über Getter\n",
    "p.name = \"Bob\" # schreieb als würdest du direkt eine Variabel setzen, aber Python leitet dich über \n",
    "# die Methode über setter\n",
    "print(p.__dict__)\n",
    "#print(p.get_name())"
   ]
  },
  {
   "cell_type": "code",
   "execution_count": 1,
   "id": "167dc882-5711-4fe0-877d-70d78838197b",
   "metadata": {},
   "outputs": [],
   "source": [
    "class Person: \n",
    "\n",
    "    def __init__(self, age):\n",
    "        self.__age = age\n",
    "\n",
    "    def setter(self, new_age):\n",
    "        self.__age = new_age"
   ]
  },
  {
   "cell_type": "code",
   "execution_count": null,
   "id": "6322dae7-5159-4241-aba4-a5cbd76f5a9c",
   "metadata": {},
   "outputs": [],
   "source": []
  },
  {
   "cell_type": "code",
   "execution_count": 3,
   "id": "8096a228-6f72-4a8b-9da1-e6db0f9c8099",
   "metadata": {},
   "outputs": [
    {
     "name": "stdout",
     "output_type": "stream",
     "text": [
      "42\n"
     ]
    }
   ],
   "source": [
    "a = Person(42)\n",
    "print(a._Person__age)\n",
    "a.__age = -10"
   ]
  },
  {
   "cell_type": "code",
   "execution_count": 14,
   "id": "5d735665-86b1-4c1f-91ce-c3a8e78752ce",
   "metadata": {},
   "outputs": [
    {
     "data": {
      "text/plain": [
       "{'_Person__age': 42, '__age': -10}"
      ]
     },
     "execution_count": 14,
     "metadata": {},
     "output_type": "execute_result"
    }
   ],
   "source": [
    "a.__dict__"
   ]
  },
  {
   "cell_type": "code",
   "execution_count": null,
   "id": "c5e2ee0d-c40e-4cb3-92d6-69c3cde60d35",
   "metadata": {},
   "outputs": [],
   "source": [
    "property?"
   ]
  },
  {
   "cell_type": "code",
   "execution_count": null,
   "id": "522af344-5dd9-411c-9a8d-5b04a37a1e30",
   "metadata": {},
   "outputs": [],
   "source": [
    " #@name.setter\n",
    "    def set_name(self, name):\n",
    "        self.__name = name\n",
    "\n",
    "    \n",
    "    @property\n",
    "    def get_name(self):\n",
    "        return self.__name\n",
    "    name = property(get_name, set_name)"
   ]
  },
  {
   "cell_type": "markdown",
   "id": "ddf8b8dd-d1eb-446f-923e-995e65ed6419",
   "metadata": {},
   "source": [
    "# Aufgabe für Irre"
   ]
  },
  {
   "cell_type": "code",
   "execution_count": null,
   "id": "582c2a20-f73e-4897-9875-bbc29b9a3da7",
   "metadata": {},
   "outputs": [],
   "source": [
    "\n",
    "numbers = [1, 2, 3, 4, 5, 6, 7, 8, 9, 10]\n",
    "\n",
    "divisor = 3\n",
    "\n",
    "pairs = [(a, b) for i, a in enumerate(numbers) for j, b in enumerate(numbers) if i < j and (a + b) % divisor == 0]\n",
    "\n",
    "print(pairs)\n",
    " "
   ]
  }
 ],
 "metadata": {
  "kernelspec": {
   "display_name": "Python 3 (ipykernel)",
   "language": "python",
   "name": "python3"
  },
  "language_info": {
   "codemirror_mode": {
    "name": "ipython",
    "version": 3
   },
   "file_extension": ".py",
   "mimetype": "text/x-python",
   "name": "python",
   "nbconvert_exporter": "python",
   "pygments_lexer": "ipython3",
   "version": "3.12.4"
  }
 },
 "nbformat": 4,
 "nbformat_minor": 5
}
