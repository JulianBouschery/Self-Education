{
 "cells": [
  {
   "cell_type": "markdown",
   "id": "110f92de-76d7-462b-9d2e-efad10d924b5",
   "metadata": {},
   "source": [
    "# Self-Education-Status"
   ]
  },
  {
   "cell_type": "markdown",
   "id": "d45f955e-f13c-4a35-9d8f-f0982f6a0196",
   "metadata": {},
   "source": [
    "Mit dem folgenden Skript lassen sich die Dateien in den Ordnern und Unterordner zählen, um einen Überblick zu erhalten, wie groß dieses Projekt bereits geworden ist."
   ]
  },
  {
   "cell_type": "code",
   "execution_count": 4,
   "id": "c2a44349-85ed-4ef1-ab46-59443de82644",
   "metadata": {},
   "outputs": [
    {
     "name": "stdout",
     "output_type": "stream",
     "text": [
      "Anzahl der Notebooks im Ordner \"Self_Education\" und dessen Unterordnern: 741\n"
     ]
    }
   ],
   "source": [
    "import os\n",
    "\n",
    "def count_notebooks(folder_path):\n",
    "    # Zähler für die Notebooks\n",
    "    notebook_count = 0\n",
    "    \n",
    "    # Durchlaufe alle Verzeichnisse und Unterverzeichnisse\n",
    "    for dirpath, dirnames, filenames in os.walk(folder_path):\n",
    "        for filename in filenames:\n",
    "            # Überprüfe, ob die Datei die Endung .ipynb hat (ignoriert Groß-/Kleinschreibung)\n",
    "            if filename.lower().endswith('.ipynb'):\n",
    "            # if filename.lower().endswith(('.ipynb', '.py', '.csv')):\n",
    "\n",
    "                notebook_count += 1\n",
    "                \n",
    "    return notebook_count\n",
    "\n",
    "# Beispielverwendung\n",
    "if __name__ == \"__main__\":\n",
    "    # Beispiel für einen relativen Pfad\n",
    "    folder_path = '../Files'  # Hier den relativen Pfad anpassen\n",
    "    total_notebooks = count_notebooks(folder_path)\n",
    "    print(f'Anzahl der Notebooks im Ordner \"Self_Education\" und dessen Unterordnern: {total_notebooks}')\n",
    "\n",
    "\n"
   ]
  },
  {
   "cell_type": "code",
   "execution_count": null,
   "id": "12d889c4-04b7-4a85-b418-a2d65fea83e6",
   "metadata": {},
   "outputs": [],
   "source": []
  }
 ],
 "metadata": {
  "kernelspec": {
   "display_name": "Python 3 (ipykernel)",
   "language": "python",
   "name": "python3"
  },
  "language_info": {
   "codemirror_mode": {
    "name": "ipython",
    "version": 3
   },
   "file_extension": ".py",
   "mimetype": "text/x-python",
   "name": "python",
   "nbconvert_exporter": "python",
   "pygments_lexer": "ipython3",
   "version": "3.12.6"
  }
 },
 "nbformat": 4,
 "nbformat_minor": 5
}
