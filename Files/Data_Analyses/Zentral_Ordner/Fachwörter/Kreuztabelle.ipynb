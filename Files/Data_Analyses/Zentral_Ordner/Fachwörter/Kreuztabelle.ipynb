{
 "cells": [
  {
   "cell_type": "markdown",
   "id": "1b987f64-9203-4cf3-a061-b531bfb46472",
   "metadata": {},
   "source": [
    "# Kreuztabelle"
   ]
  },
  {
   "cell_type": "markdown",
   "id": "2e4c9dd7-7150-4d3d-9397-b546b2a6f6c1",
   "metadata": {},
   "source": [
    "Siehe: [df.crosstab()](../Funktionen_und_Methoden/df.crosstab.ipynb)"
   ]
  },
  {
   "cell_type": "code",
   "execution_count": null,
   "id": "9016639d-5918-48da-bf4c-1b09f078fd64",
   "metadata": {},
   "outputs": [],
   "source": []
  }
 ],
 "metadata": {
  "kernelspec": {
   "display_name": "Python 3 (ipykernel)",
   "language": "python",
   "name": "python3"
  },
  "language_info": {
   "codemirror_mode": {
    "name": "ipython",
    "version": 3
   },
   "file_extension": ".py",
   "mimetype": "text/x-python",
   "name": "python",
   "nbconvert_exporter": "python",
   "pygments_lexer": "ipython3",
   "version": "3.12.6"
  }
 },
 "nbformat": 4,
 "nbformat_minor": 5
}
