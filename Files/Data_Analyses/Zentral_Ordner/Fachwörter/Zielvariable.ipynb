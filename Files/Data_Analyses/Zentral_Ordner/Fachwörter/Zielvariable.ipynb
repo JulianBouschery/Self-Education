{
 "cells": [
  {
   "cell_type": "markdown",
   "id": "b40bba83-cd09-4fe6-a320-872347d05a45",
   "metadata": {},
   "source": [
    "# Zielvariable"
   ]
  },
  {
   "cell_type": "markdown",
   "id": "2abe697c-335b-4256-8dcf-bf59bdccffed",
   "metadata": {},
   "source": [
    "Die **Zielvariable** (auch **abhängige Variable** genannt) ist die Variable, die von einem Modell vorhergesagt oder erklären werden soll.\n",
    "\n",
    "Beispiel:\n",
    "\n",
    "- In einem Modell, das die Hauspreise vorhersagt, wäre der **Hauspreis** die Zielvariable.\n",
    "- In einem Modell, das die Temperatur vorhersagt, wäre die **Temperatur** die Zielvariable."
   ]
  },
  {
   "cell_type": "code",
   "execution_count": null,
   "id": "12633662-14ba-4626-a4eb-21918418d8eb",
   "metadata": {},
   "outputs": [],
   "source": []
  }
 ],
 "metadata": {
  "kernelspec": {
   "display_name": "Python 3 (ipykernel)",
   "language": "python",
   "name": "python3"
  },
  "language_info": {
   "codemirror_mode": {
    "name": "ipython",
    "version": 3
   },
   "file_extension": ".py",
   "mimetype": "text/x-python",
   "name": "python",
   "nbconvert_exporter": "python",
   "pygments_lexer": "ipython3",
   "version": "3.12.6"
  }
 },
 "nbformat": 4,
 "nbformat_minor": 5
}
