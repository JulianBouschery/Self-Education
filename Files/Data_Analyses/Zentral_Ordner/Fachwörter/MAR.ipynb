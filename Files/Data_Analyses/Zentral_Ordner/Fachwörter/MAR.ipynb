{
 "cells": [
  {
   "cell_type": "markdown",
   "id": "f1b389f3-9997-43a1-ba4c-1a96949bb8d7",
   "metadata": {},
   "source": [
    "# Missing at Random (MAR)"
   ]
  },
  {
   "cell_type": "markdown",
   "id": "528513a4-2588-447e-b6c4-c17026dda98f",
   "metadata": {},
   "source": [
    "### Definition"
   ]
  },
  {
   "cell_type": "markdown",
   "id": "41ad02d1-5ea0-4156-a0f9-27941c91c9e5",
   "metadata": {},
   "source": [
    "Fehlende Daten hängen von beobachtbaren Variablen ab, aber nicht von den fehlenden Werten selbst. Diese müssen in der Analyse berücksichtigt werden, da sie Verzerrungen verursachen können."
   ]
  },
  {
   "cell_type": "markdown",
   "id": "8a7cb2d2-6e39-41c7-9219-6b7150c9f059",
   "metadata": {},
   "source": [
    "### Beispiel"
   ]
  },
  {
   "cell_type": "markdown",
   "id": "ed31d1c5-b26b-4f5c-81ce-8175da012f86",
   "metadata": {},
   "source": [
    "Missing at Random (MAR): In diesem Fall kann die Tatsache, dass Werte fehlen, anhand der anderen Variablen in der Studie vorhergesagt werden, nicht jedoch anhand der fehlenden Werte selbst. Nehmen wir zum Beispiel an, wir wissen, dass Männer in einer Umfrage weniger häufig Fragen zu Depressionen beantworten als Frauen. Wenn die Wahrscheinlichkeit, dass eine Person eine Frage zur Depression überspringt, nur mit ihrem Geschlecht zusammenhängt (was wir beobachten), nicht aber mit ihrem Depressionsgrad (der nicht beobachtet wird), können wir die Daten als MAR betrachten. Abhängig von der verwendeten Analysemethode können Datensätze mit MAR-Daten verzerrt sein. Daher müssen fehlende Werte frühzeitig im Prozess berücksichtigt werden.\n",
    "\n"
   ]
  },
  {
   "cell_type": "markdown",
   "id": "fdb65229-4dc5-4604-98e7-f138b486d59c",
   "metadata": {},
   "source": [
    "https://www.inwt-statistics.de/blog/fehlende-werte-verstehen-und-handhaben"
   ]
  },
  {
   "cell_type": "code",
   "execution_count": null,
   "id": "4cf70471-2dbb-4dd7-9b80-c8cd9a2a5ea5",
   "metadata": {},
   "outputs": [],
   "source": []
  }
 ],
 "metadata": {
  "kernelspec": {
   "display_name": "Python 3 (ipykernel)",
   "language": "python",
   "name": "python3"
  },
  "language_info": {
   "codemirror_mode": {
    "name": "ipython",
    "version": 3
   },
   "file_extension": ".py",
   "mimetype": "text/x-python",
   "name": "python",
   "nbconvert_exporter": "python",
   "pygments_lexer": "ipython3",
   "version": "3.12.6"
  }
 },
 "nbformat": 4,
 "nbformat_minor": 5
}
