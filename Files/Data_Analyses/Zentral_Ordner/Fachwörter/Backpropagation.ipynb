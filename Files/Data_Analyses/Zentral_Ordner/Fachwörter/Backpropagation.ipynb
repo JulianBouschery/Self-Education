{
 "cells": [
  {
   "cell_type": "markdown",
   "id": "3e24faf5-950c-49d0-bf95-e8ac7339be0a",
   "metadata": {},
   "source": [
    "# Backpropagation"
   ]
  },
  {
   "cell_type": "markdown",
   "id": "ae43e5f1-6224-4fdc-a220-82595c5bf92c",
   "metadata": {},
   "source": [
    "**Backpropagation** (Rückwärtsausbreitung) ist ein Algorithmus zum **Trainieren neuronaler Netze**, bei dem die Gewichte der Verbindungen im Netzwerk angepasst werden, um die Fehler zu minimieren. Es basiert auf der **Kettenregel der Ableitung** und wird verwendet, um den Fehler von der Ausgabeschicht zurück durch das Netzwerk zu propagieren.\n",
    "\n",
    "### Schritte:\n",
    "1. **Vorwärtsdurchlauf**: Die Eingabedaten werden durch das Netzwerk geleitet, um eine Ausgabe zu erzeugen.\n",
    "2. **Fehlerberechnung**: Der Fehler (Unterschied zwischen der tatsächlichen und der gewünschten Ausgabe) wird berechnet.\n",
    "3. **Rückwärtsausbreitung**: Der Fehler wird rückwärts durch das Netzwerk propagiert, um den Gradienten der Fehlerfunktion bezüglich jedes Gewichts zu berechnen.\n",
    "4. **Gewichtsaktualisierung**: Die Gewichte werden angepasst, indem der Gradientenabstieg verwendet wird, um den Fehler zu minimieren.\n",
    "\n",
    "Backpropagation ist entscheidend für das Lernen in neuronalen Netzen und ermöglicht es, das Netzwerk so zu trainieren, dass es bessere Vorhersagen trifft."
   ]
  },
  {
   "cell_type": "markdown",
   "id": "865c691b-0567-41ce-8d73-73a2bb4a47be",
   "metadata": {},
   "source": [
    "[Beispiel](ex_Backpropagation.ipynb)"
   ]
  },
  {
   "cell_type": "code",
   "execution_count": null,
   "id": "837059b2-a6ca-484a-85d6-9c39063459ef",
   "metadata": {},
   "outputs": [],
   "source": []
  }
 ],
 "metadata": {
  "kernelspec": {
   "display_name": "Python 3 (ipykernel)",
   "language": "python",
   "name": "python3"
  },
  "language_info": {
   "codemirror_mode": {
    "name": "ipython",
    "version": 3
   },
   "file_extension": ".py",
   "mimetype": "text/x-python",
   "name": "python",
   "nbconvert_exporter": "python",
   "pygments_lexer": "ipython3",
   "version": "3.12.6"
  }
 },
 "nbformat": 4,
 "nbformat_minor": 5
}
