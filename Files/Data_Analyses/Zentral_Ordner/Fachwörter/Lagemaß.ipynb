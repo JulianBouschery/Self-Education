{
 "cells": [
  {
   "cell_type": "markdown",
   "id": "06cb0084-f97e-4fec-aed1-a5374344ccf7",
   "metadata": {},
   "source": [
    "# Lageparameter / Lagemaß und zentrale Tendenz"
   ]
  },
  {
   "cell_type": "markdown",
   "id": "b7e83a24-0647-4482-b164-6d01699e13fd",
   "metadata": {},
   "source": [
    "In der Statistik gibt es verschiedene Lageparameter, die die Position eines Werts im Datensatz beschreiben. \n",
    "Dabei ist die zentrale Tendenz eine Besonderheit, weil es für sie je nach Anwendungsfall unterschiedliche Formeln gibt. Aber im Allgemeinen beschreibt sie den typischen oder mittleren Wert eines Datensatzes, der seine Verteilung um einen zentralen Punkt zusammenfasst."
   ]
  },
  {
   "cell_type": "markdown",
   "id": "025ebfcf-6dc1-4a67-b2af-c70930c25547",
   "metadata": {},
   "source": [
    "Zu den Lageparametern gehören:"
   ]
  },
  {
   "cell_type": "markdown",
   "id": "e46a7330-d327-4bbc-aafb-032d2026ddef",
   "metadata": {},
   "source": [
    "[Minimum und Maximum](../Formeln/min_max.ipynb)"
   ]
  },
  {
   "cell_type": "markdown",
   "id": "5b64488e-7ca4-44ba-a0f8-a3cd05001503",
   "metadata": {},
   "source": [
    "## Zentrale Tendenz"
   ]
  },
  {
   "cell_type": "markdown",
   "id": "f065d13d-5236-4109-be24-b5c66fa9b6a5",
   "metadata": {},
   "source": [
    "[Median](../Formeln/median.ipynb)"
   ]
  },
  {
   "cell_type": "markdown",
   "id": "5cf56c18-2b57-4368-a451-09d51eb56873",
   "metadata": {},
   "source": [
    "[Modus](../Formeln/mode.ipynb)"
   ]
  },
  {
   "cell_type": "markdown",
   "id": "9b9adfd0-417c-444d-be54-f1b2a81acb17",
   "metadata": {},
   "source": [
    "2. **Gewichtetes Mittel**: \n",
    "   Eine Variante des arithmetischen Mittels, bei dem bestimmte Werte mehr Einfluss haben:\n",
    "   $$\n",
    "   \\bar{x} = \\frac{\\sum_{i=1}^{n} w_i x_i}{\\sum_{i=1}^{n} w_i}\n",
    "   $$\n",
    "   Dabei sind $w_i$ die Gewichte.\n",
    "\n",
    "3. **Geometrisches Mittel**: \n",
    "   Ein Mittelwert, der eher für Wachstumsraten oder Verhältnisse verwendet wird:\n",
    "   $$\n",
    "   \\bar{x}_\\text{geo} = \\left(\\prod_{i=1}^{n} x_i\\right)^{\\frac{1}{n}}\n",
    "   $$\n",
    "\n",
    "4. **Harmonisches Mittel**: \n",
    "   Eine Alternative zum arithmetischen Mittel, das oft bei Verhältnissen angewendet wird:\n",
    "   $$\n",
    "   \\bar{x}_\\text{harm} = \\frac{n}{\\sum_{i=1}^{n} \\frac{1}{x_i}}\n",
    "   $$\n",
    "\n",
    "5. **Trimmed Mean (getrimmtes Mittel)**: \n",
    "   Ein Mittelwert, bei dem ein gewisser Prozentsatz der kleinsten und größten Werte entfernt wird, um Ausreißer zu minimieren."
   ]
  },
  {
   "cell_type": "markdown",
   "id": "f749348f-d199-4d08-a012-71963140147f",
   "metadata": {},
   "source": [
    "[Arithmetisches Mittel / Mittelwert oder Durchschnitt](../Formeln/arithmetic_mean.ipynb)"
   ]
  },
  {
   "cell_type": "code",
   "execution_count": null,
   "id": "8266c27e-a1f2-4fbf-ae76-a33003d1dcbc",
   "metadata": {},
   "outputs": [],
   "source": []
  }
 ],
 "metadata": {
  "kernelspec": {
   "display_name": "Python 3 (ipykernel)",
   "language": "python",
   "name": "python3"
  },
  "language_info": {
   "codemirror_mode": {
    "name": "ipython",
    "version": 3
   },
   "file_extension": ".py",
   "mimetype": "text/x-python",
   "name": "python",
   "nbconvert_exporter": "python",
   "pygments_lexer": "ipython3",
   "version": "3.12.6"
  }
 },
 "nbformat": 4,
 "nbformat_minor": 5
}
