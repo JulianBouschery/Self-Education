{
 "cells": [
  {
   "cell_type": "markdown",
   "id": "c7f8ecea-6b06-4e75-ab0c-7bbd6ff8450a",
   "metadata": {},
   "source": [
    "# Grundgesamtheit / Population"
   ]
  },
  {
   "cell_type": "markdown",
   "id": "f6aa3e16-6903-4ef5-9c45-142229683c43",
   "metadata": {},
   "source": [
    "Grundgesamtheit Wikipedia: https://de.wikipedia.org/wiki/Grundgesamtheit"
   ]
  },
  {
   "cell_type": "markdown",
   "id": "c96fca43-9f7a-439b-9a2f-3d69140a9d94",
   "metadata": {},
   "source": [
    "Die Grundgesamtheit (auch Population, statistische Masse, Kollektiv oder Gesamterhebungsumfang) ist ein Begriff der Statistik. \n",
    "\n",
    "Die Grundgesamtheit bezeichnet diejenige Menge aller Objekte, über die eine Aussage getroffen werden soll. Grundgesamtheiten werden häufig nur unvollständig erfasst und lediglich näherungsweise beschrieben, etwa durch eine Teilerhebung in der deskriptiven Statistik oder eine stichprobenhafte Erhebung mittels der Stochastik."
   ]
  },
  {
   "cell_type": "code",
   "execution_count": null,
   "id": "2670f26f-86f4-4c32-adc8-f2d731a6c78a",
   "metadata": {},
   "outputs": [],
   "source": []
  }
 ],
 "metadata": {
  "kernelspec": {
   "display_name": "Python 3 (ipykernel)",
   "language": "python",
   "name": "python3"
  },
  "language_info": {
   "codemirror_mode": {
    "name": "ipython",
    "version": 3
   },
   "file_extension": ".py",
   "mimetype": "text/x-python",
   "name": "python",
   "nbconvert_exporter": "python",
   "pygments_lexer": "ipython3",
   "version": "3.12.6"
  }
 },
 "nbformat": 4,
 "nbformat_minor": 5
}
