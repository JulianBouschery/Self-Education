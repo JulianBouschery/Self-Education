{
 "cells": [
  {
   "cell_type": "markdown",
   "id": "a3b4c0ae-e501-49ec-975a-8d12dae04bf1",
   "metadata": {},
   "source": [
    "# (Kartesisches) Koordinatensystem"
   ]
  },
  {
   "cell_type": "markdown",
   "id": "da479ff3-f112-48c5-93fe-f3f595ae99dc",
   "metadata": {},
   "source": [
    "Ein kartesisches Koordinatensystem ist ein mathematisches System zur eindeutigen Bestimmung der Position von Punkten im Raum durch die Angabe ihrer Abstände von festgelegten Achsen. Hier sind die wichtigsten Aspekte des kartesischen Koordinatensystems:\n",
    "\n",
    "### 1. **Achsen**\n",
    "   - **2D-Koordinatensystem**: \n",
    "     - Es besteht aus zwei senkrecht zueinander stehenden Achsen: \n",
    "       - **X-Achse**: Die horizontale Achse.\n",
    "       - **Y-Achse**: Die vertikale Achse.\n",
    "   - **3D-Koordinatensystem**:\n",
    "     - Es hat drei Achsen:\n",
    "       - **X-Achse**: Horizontal.\n",
    "       - **Y-Achse**: Vertikal.\n",
    "       - **Z-Achse**: Senkrecht zur XY-Ebene, die nach oben oder unten zeigt.\n",
    "\n",
    "### 2. **Koordinaten**\n",
    "   - Jeder Punkt im Koordinatensystem wird durch ein Koordinatenpaar (in 2D) oder ein Koordinatentrio (in 3D) dargestellt.\n",
    "     - **2D**: Ein Punkt wird durch \\((x, y)\\) dargestellt, wobei \\(x\\) den Abstand zur X-Achse und \\(y\\) den Abstand zur Y-Achse angibt.\n",
    "     - **3D**: Ein Punkt wird durch \\((x, y, z)\\) dargestellt, wobei \\(z\\) den Abstand zur Z-Achse angibt.\n",
    "\n",
    "### 3. **Quadranten**\n",
    "   - Im 2D-Koordinatensystem ist die Ebene in vier Quadranten unterteilt:\n",
    "     1. **Erster Quadrant**: \\(x > 0, y > 0\\)\n",
    "     2. **Zweiter Quadrant**: \\(x < 0, y > 0\\)\n",
    "     3. **Dritter Quadrant**: \\(x < 0, y < 0\\)\n",
    "     4. **Vierter Quadrant**: \\(x > 0, y < 0\\)\n",
    "\n",
    "### 4. **Maßstab und Einheit**\n",
    "   - Das kartesische Koordinatensystem verwendet einen festen Maßstab, der es ermöglicht, Abstände zwischen Punkten zu messen. Eine Einheit auf der X-Achse ist gleich einer Einheit auf der Y-Achse (und Z-Achse im 3D).\n",
    "\n",
    "### 5. **Verwendung**\n",
    "   - Das kartesische Koordinatensystem ist ein fundamentales Konzept in der Mathematik und wird in vielen Bereichen verwendet, darunter:\n",
    "     - **Geometrie**: Zur Beschreibung von Formen und deren Eigenschaften.\n",
    "     - **Physik**: Zur Analyse von Bewegungen und Kräften.\n",
    "     - **Informatik**: Zur Erstellung von Grafiken und Simulationen.\n",
    "     - **Datenanalyse**: Zum Visualisieren von Datensätzen in Scatter-Plots oder Diagrammen.\n",
    "\n",
    "### Fazit\n",
    "Das kartesische Koordinatensystem ist ein einfaches, aber äußerst mächtiges Werkzeug, um die Position und Bewegung von Punkten im Raum zu beschreiben. Es ermöglicht eine präzise mathematische Analyse und eine anschauliche Visualisierung von geometrischen Beziehungen."
   ]
  },
  {
   "cell_type": "code",
   "execution_count": null,
   "id": "078e0892-c8c4-476e-86ed-e5bc4bf96f2f",
   "metadata": {},
   "outputs": [],
   "source": []
  }
 ],
 "metadata": {
  "kernelspec": {
   "display_name": "Python 3 (ipykernel)",
   "language": "python",
   "name": "python3"
  },
  "language_info": {
   "codemirror_mode": {
    "name": "ipython",
    "version": 3
   },
   "file_extension": ".py",
   "mimetype": "text/x-python",
   "name": "python",
   "nbconvert_exporter": "python",
   "pygments_lexer": "ipython3",
   "version": "3.12.6"
  }
 },
 "nbformat": 4,
 "nbformat_minor": 5
}
