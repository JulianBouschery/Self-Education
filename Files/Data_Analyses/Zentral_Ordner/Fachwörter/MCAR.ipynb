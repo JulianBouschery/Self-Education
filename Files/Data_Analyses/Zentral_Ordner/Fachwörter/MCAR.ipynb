{
 "cells": [
  {
   "cell_type": "markdown",
   "id": "62ec2cb5-fd21-4860-981e-3218f405de19",
   "metadata": {},
   "source": [
    "# Missing Completely at Random (MCAR):"
   ]
  },
  {
   "cell_type": "markdown",
   "id": "26b1b577-d91d-42fd-9a7a-807076393b9a",
   "metadata": {},
   "source": [
    "### Definition"
   ]
  },
  {
   "cell_type": "markdown",
   "id": "5327bfca-9612-49bb-af8b-15acfe3acb88",
   "metadata": {},
   "source": [
    "Fehlende Daten sind zufällig verteilt und haben keinen Zusammenhang mit anderen Variablen im Datensatz. Sie können ohne Verzerrung ignoriert werden."
   ]
  },
  {
   "cell_type": "markdown",
   "id": "e2b13ccf-7d97-4673-bd56-f190b6f71c61",
   "metadata": {},
   "source": [
    "### Bispiel"
   ]
  },
  {
   "cell_type": "markdown",
   "id": "ecba7be2-7072-4529-85ab-d8a1e746f1db",
   "metadata": {},
   "source": [
    "Missing Completely at Random (MCAR): \n",
    "\n",
    "In diesem Szenario stehen die fehlenden Werte in keinem Zusammenhang mit der untersuchten Beobachtung oder den anderen Variablen im Datensatz. Grundsätzlich gibt es keine systemischen Unterschiede zwischen den Beobachtungen mit und ohne fehlende Werte. Dies könnte beispielsweise der Fall sein, wenn einzelnen Umfrageteilnehmern nur eine Auswahl der Gesamtzahl möglicher Fragen angezeigt würde. Im Falle von MCAR können wir unsere Analysen einfach mit dem vollständigen Datensatz durchführen. MCAR-Daten sind jedoch in der Praxis sehr ungewöhnlich. Eine gute Faustregel lautet: Wenn Sie vorhersagen können, bei welchen Beobachtungen Werte fehlen (mit gesundem Menschenverstand, Regression usw.), handelt es sich nicht um MCAR.\n",
    "\n"
   ]
  },
  {
   "cell_type": "markdown",
   "id": "a6beefa5-25da-4394-9857-3dfdafaeb0f2",
   "metadata": {},
   "source": [
    "https://www.inwt-statistics.de/blog/fehlende-werte-verstehen-und-handhaben"
   ]
  },
  {
   "cell_type": "code",
   "execution_count": null,
   "id": "73a3ff12-279a-43f3-94b0-8c8f3b8b7d01",
   "metadata": {},
   "outputs": [],
   "source": []
  }
 ],
 "metadata": {
  "kernelspec": {
   "display_name": "Python 3 (ipykernel)",
   "language": "python",
   "name": "python3"
  },
  "language_info": {
   "codemirror_mode": {
    "name": "ipython",
    "version": 3
   },
   "file_extension": ".py",
   "mimetype": "text/x-python",
   "name": "python",
   "nbconvert_exporter": "python",
   "pygments_lexer": "ipython3",
   "version": "3.12.6"
  }
 },
 "nbformat": 4,
 "nbformat_minor": 5
}
