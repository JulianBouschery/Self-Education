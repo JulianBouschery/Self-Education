{
 "cells": [
  {
   "cell_type": "markdown",
   "id": "31ab1614-e9a2-48e4-b37a-88edcf1b4a79",
   "metadata": {},
   "source": [
    "# Stakeholder"
   ]
  },
  {
   "cell_type": "markdown",
   "id": "1a2d0ba6-60ac-4e66-8b1d-f3d863cb257b",
   "metadata": {},
   "source": [
    "Quelle: https://dida.do/de/knowledge/stakeholder-in-machine-learning-projekten"
   ]
  },
  {
   "cell_type": "markdown",
   "id": "786092f5-3cfc-4dfb-b841-d0104244c602",
   "metadata": {},
   "source": [
    "**Stakeholder** sind Personen, Gruppen oder Organisationen, die ein **Interesse** an einem Unternehmen, Projekt oder einer Entscheidung haben und von deren Ergebnis direkt oder indirekt betroffen sind. Sie können sowohl **intern** (innerhalb der Organisation) als auch **extern** sein und unterschiedliche Erwartungen oder Anforderungen an das Projekt haben."
   ]
  },
  {
   "cell_type": "markdown",
   "id": "e577d23b-2865-4527-bd42-08060feb6b2f",
   "metadata": {},
   "source": [
    "### Beispiele für Stakeholder:"
   ]
  },
  {
   "cell_type": "markdown",
   "id": "7c69ace7-3299-4f05-8af8-f2f2cb85c981",
   "metadata": {},
   "source": [
    "1. **Interne Stakeholder**:\n",
    "   - **Mitarbeiter**: Sie wollen sichere Arbeitsplätze und Entwicklungsmöglichkeiten.\n",
    "   - **Management**: Sie sind verantwortlich für den Erfolg und die strategische Ausrichtung des Unternehmens.\n",
    "   - **Aktionäre**: Sie haben ein Interesse an der Rentabilität und dem langfristigen Wachstum der Firma.\n",
    "\n",
    "2. **Externe Stakeholder**:\n",
    "   - **Kunden**: Sie erwarten hochwertige Produkte oder Dienstleistungen.\n",
    "   - **Lieferanten**: Sie sind an stabilen Geschäftsbeziehungen interessiert.\n",
    "   - **Regierung/Behörden**: Sie setzen Vorschriften durch und erwarten deren Einhaltung.\n",
    "   - **Gemeinschaft/Öffentlichkeit**: Sie sind möglicherweise an den sozialen und ökologischen Auswirkungen eines Projekts interessiert.\n",
    "\n",
    "Stakeholder-Management ist entscheidend, um sicherzustellen, dass alle Interessen erkannt und berücksichtigt werden, damit ein Projekt oder Vorhaben erfolgreich und nachhaltig durchgeführt werden kann."
   ]
  },
  {
   "cell_type": "code",
   "execution_count": null,
   "id": "ad9fac75-a7e3-4625-abcd-631f8174fe60",
   "metadata": {},
   "outputs": [],
   "source": []
  }
 ],
 "metadata": {
  "kernelspec": {
   "display_name": "Python 3 (ipykernel)",
   "language": "python",
   "name": "python3"
  },
  "language_info": {
   "codemirror_mode": {
    "name": "ipython",
    "version": 3
   },
   "file_extension": ".py",
   "mimetype": "text/x-python",
   "name": "python",
   "nbconvert_exporter": "python",
   "pygments_lexer": "ipython3",
   "version": "3.12.6"
  }
 },
 "nbformat": 4,
 "nbformat_minor": 5
}
