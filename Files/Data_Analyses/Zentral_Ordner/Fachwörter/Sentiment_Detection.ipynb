{
 "cells": [
  {
   "cell_type": "markdown",
   "id": "bf09f747-4dab-4f1f-b353-d469a3d2c52e",
   "metadata": {},
   "source": [
    "# Sentiment_Detection"
   ]
  },
  {
   "cell_type": "markdown",
   "id": "926b7f47-8325-462f-a757-e086377bda71",
   "metadata": {},
   "source": [
    "**Sentiment Detection** (auch Sentimentanalyse genannt) ist die automatische Erkennung der **Gefühlslage** (positiv, negativ, neutral) in Texten, oft durch maschinelles Lernen oder linguistische Regeln. Es wird verwendet, um Meinungen aus Bewertungen, Social Media oder Nachrichten zu analysieren."
   ]
  },
  {
   "cell_type": "markdown",
   "id": "3f68b1ef-9da1-48c7-92e0-72a377c041db",
   "metadata": {},
   "source": [
    "https://de.wikipedia.org/wiki/Sentiment_Detection"
   ]
  },
  {
   "cell_type": "markdown",
   "id": "702598b5-3a7c-432d-b7cc-966d729bb2f5",
   "metadata": {},
   "source": [
    "https://huggingface.co/blog/sentiment-analysis-python"
   ]
  },
  {
   "cell_type": "code",
   "execution_count": null,
   "id": "77759bc1-122a-46c1-912b-e114ca3864d4",
   "metadata": {},
   "outputs": [],
   "source": []
  }
 ],
 "metadata": {
  "kernelspec": {
   "display_name": "Python 3 (ipykernel)",
   "language": "python",
   "name": "python3"
  },
  "language_info": {
   "codemirror_mode": {
    "name": "ipython",
    "version": 3
   },
   "file_extension": ".py",
   "mimetype": "text/x-python",
   "name": "python",
   "nbconvert_exporter": "python",
   "pygments_lexer": "ipython3",
   "version": "3.12.6"
  }
 },
 "nbformat": 4,
 "nbformat_minor": 5
}
