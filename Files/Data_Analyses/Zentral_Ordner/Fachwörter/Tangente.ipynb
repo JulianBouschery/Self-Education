{
 "cells": [
  {
   "cell_type": "markdown",
   "id": "507a66c9-f19b-40b3-b690-9cd8389ac357",
   "metadata": {},
   "source": [
    "# Tangente"
   ]
  },
  {
   "cell_type": "markdown",
   "id": "01ae84d8-2462-4869-92f2-6d707dfe380d",
   "metadata": {},
   "source": [
    "Eine Tangente ist eine gerade Linie, die eine Kurve in genau einem Punkt berührt, ohne sie zu schneiden. Sie hat an diesem Punkt die gleiche Steigung wie die Kurve, was bedeutet, dass sie die Richtung der Kurve an diesem Punkt \"nachahmt\". \n",
    "\n",
    "Für eine Funktion $ f(x) $ gibt die Tangente an einem Punkt $ x_0 $ die Steigung der Funktion (Ableitung $ f'(x) $) in diesem Punkt an. Wenn du an einem Punkt einer Kurve eine Tangente zeichnest, bekommst du eine Linie, die den Verlauf der Kurve nur an dieser Stelle widerspiegelt, ohne den gesamten Verlauf der Funktion zu beschreiben."
   ]
  },
  {
   "cell_type": "code",
   "execution_count": 1,
   "id": "d1f076e9-a72d-4a04-ba32-a47be07bc84b",
   "metadata": {
    "jupyter": {
     "source_hidden": true
    }
   },
   "outputs": [
    {
     "data": {
      "application/vnd.jupyter.widget-view+json": {
       "model_id": "bce73cbb77104c81854bca3406f15a53",
       "version_major": 2,
       "version_minor": 0
      },
      "text/plain": [
       "interactive(children=(FloatSlider(value=0.0, description='x-Tangentenpunkt', max=10.0, min=-10.0), Output()), …"
      ]
     },
     "metadata": {},
     "output_type": "display_data"
    },
    {
     "data": {
      "text/plain": [
       "<function __main__.plot_with_tangent(x_tangent)>"
      ]
     },
     "execution_count": 1,
     "metadata": {},
     "output_type": "execute_result"
    }
   ],
   "source": [
    "import numpy as np\n",
    "import matplotlib.pyplot as plt\n",
    "from ipywidgets import interact, FloatSlider\n",
    "import ipywidgets as widgets\n",
    "\n",
    "# Definiere die Funktion und ihre Ableitung\n",
    "def f(x):\n",
    "    return x**2\n",
    "\n",
    "def f_prime(x):\n",
    "    return 2 * x\n",
    "\n",
    "# Funktion zur Darstellung der Kurve mit der Tangente an einem ausgewählten Punkt\n",
    "def plot_with_tangent(x_tangent):\n",
    "    # x-Wertebereich und Berechnung der Funktionswerte\n",
    "    x = np.linspace(-10, 10, 400)\n",
    "    y = f(x)\n",
    "    \n",
    "    # Plot der Funktion f(x)\n",
    "    plt.figure(figsize=(10, 6))\n",
    "    plt.plot(x, y, label=\"f(x) = x^2\", color=\"blue\")\n",
    "    \n",
    "    # Berechnung des Tangentenpunkts und Steigung an x_tangent\n",
    "    y_tangent = f(x_tangent)\n",
    "    slope = f_prime(x_tangent)\n",
    "    \n",
    "    # Zeichne die Tangente an den ausgewählten Punkt\n",
    "    tangent_line = slope * (x - x_tangent) + y_tangent\n",
    "    plt.plot(x, tangent_line, label=f\"Tangente bei x = {x_tangent}\", color=\"red\", linestyle=\"--\")\n",
    "    \n",
    "    # Markiere den Tangentenpunkt\n",
    "    plt.scatter(x_tangent, y_tangent, color=\"red\", s=50)\n",
    "    \n",
    "    # Plotanpassungen\n",
    "    plt.title(\"Funktion f(x) = x^2 und Tangente an einem Punkt\")\n",
    "    plt.xlabel(\"x\")\n",
    "    plt.ylabel(\"y\")\n",
    "    plt.axhline(0, color='black', linewidth=0.5)\n",
    "    plt.axvline(0, color='black', linewidth=0.5)\n",
    "    plt.legend()\n",
    "    plt.grid(True)\n",
    "    plt.show()\n",
    "\n",
    "# Interaktiver Schieberegler zur Auswahl des Tangentenpunkts x_tangent\n",
    "interact(plot_with_tangent, x_tangent=FloatSlider(value=0, min=-10, max=10, step=0.1, description='x-Tangentenpunkt'))\n"
   ]
  },
  {
   "cell_type": "code",
   "execution_count": null,
   "id": "b90b0c41-83ea-4b3c-ae66-4e2792e9f42f",
   "metadata": {},
   "outputs": [],
   "source": []
  }
 ],
 "metadata": {
  "kernelspec": {
   "display_name": "Python 3 (ipykernel)",
   "language": "python",
   "name": "python3"
  },
  "language_info": {
   "codemirror_mode": {
    "name": "ipython",
    "version": 3
   },
   "file_extension": ".py",
   "mimetype": "text/x-python",
   "name": "python",
   "nbconvert_exporter": "python",
   "pygments_lexer": "ipython3",
   "version": "3.12.6"
  }
 },
 "nbformat": 4,
 "nbformat_minor": 5
}
