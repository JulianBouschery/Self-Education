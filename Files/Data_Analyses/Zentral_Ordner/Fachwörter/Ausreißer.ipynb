{
 "cells": [
  {
   "cell_type": "markdown",
   "id": "e88fef6e-b0a1-4843-b69b-b6d6f8c4bbaf",
   "metadata": {},
   "source": [
    "https://www.data-analyst.de/glossar/outlier/"
   ]
  },
  {
   "cell_type": "code",
   "execution_count": null,
   "id": "64ab05dc-9006-480f-a717-60eee0746d9d",
   "metadata": {},
   "outputs": [],
   "source": []
  }
 ],
 "metadata": {
  "kernelspec": {
   "display_name": "Python 3 (ipykernel)",
   "language": "python",
   "name": "python3"
  },
  "language_info": {
   "codemirror_mode": {
    "name": "ipython",
    "version": 3
   },
   "file_extension": ".py",
   "mimetype": "text/x-python",
   "name": "python",
   "nbconvert_exporter": "python",
   "pygments_lexer": "ipython3",
   "version": "3.12.6"
  }
 },
 "nbformat": 4,
 "nbformat_minor": 5
}
