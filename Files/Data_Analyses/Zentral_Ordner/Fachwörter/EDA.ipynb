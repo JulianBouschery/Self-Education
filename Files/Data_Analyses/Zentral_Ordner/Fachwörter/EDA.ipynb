{
 "cells": [
  {
   "cell_type": "markdown",
   "id": "541e9086-21bf-4b59-95c0-f426519ff335",
   "metadata": {},
   "source": [
    "# EDA (Explorative-Daten-Analyse)"
   ]
  },
  {
   "cell_type": "markdown",
   "id": "1401b927-eece-4f56-a60e-53e4ed07475c",
   "metadata": {},
   "source": [
    "EDA steht für **Exploratory Data Analysis** (Explorative Datenanalyse). Es ist ein wichtiger Schritt im Prozess der Datenanalyse und bezieht sich auf die Untersuchung und Analyse von Datensätzen, um deren Hauptmerkmale zu verstehen. Dies geschieht oft durch visuelle und statistische Methoden, ohne dabei vorab bestimmte Hypothesen zu formulieren."
   ]
  },
  {
   "cell_type": "markdown",
   "id": "dd40ed30-6341-41c4-96bf-d73eb038f7b2",
   "metadata": {},
   "source": [
    "### Ziel von EDA:"
   ]
  },
  {
   "cell_type": "markdown",
   "id": "59ef8ef0-9523-4299-a721-aabf8b42c3ba",
   "metadata": {},
   "source": [
    "- **Strukturen erkennen**: Muster, Ausreißer, Trends und Beziehungen in den Daten identifizieren.\n",
    "- **Datenqualität prüfen**: Fehlende Werte, Anomalien oder Inkonsistenzen entdecken.\n",
    "- **Hypothesen entwickeln**: Erste Vermutungen oder Hypothesen aufstellen, die in späteren Analysen überprüft werden können."
   ]
  },
  {
   "cell_type": "markdown",
   "id": "a2386aa1-ff2c-44b6-b044-d823ec7f3965",
   "metadata": {},
   "source": [
    "### Häufig verwendete Techniken in der EDA:"
   ]
  },
  {
   "cell_type": "markdown",
   "id": "27a34bdd-ed5d-4b5d-8f90-af06d8dbd823",
   "metadata": {},
   "source": [
    "- **Deskriptive Statistiken**: Kennzahlen wie Mittelwert, Median, Standardabweichung, Minimum und Maximum.\n",
    "- **Datenvisualisierungen**: Histogramme, Boxplots, Streudiagramme, Heatmaps, um die Verteilung und Beziehungen in den Daten zu erkennen.\n",
    "- **Korrelationsanalysen**: Um Zusammenhänge zwischen verschiedenen Variablen zu finden.\n",
    "  \n",
    "EDA ist besonders nützlich, um ein tieferes Verständnis für die Daten zu bekommen, bevor formale Modellierungen oder statistische Tests durchgeführt werden."
   ]
  },
  {
   "cell_type": "code",
   "execution_count": null,
   "id": "178715ba-cbef-4c80-a96a-01915c00d61e",
   "metadata": {},
   "outputs": [],
   "source": []
  }
 ],
 "metadata": {
  "kernelspec": {
   "display_name": "Python 3 (ipykernel)",
   "language": "python",
   "name": "python3"
  },
  "language_info": {
   "codemirror_mode": {
    "name": "ipython",
    "version": 3
   },
   "file_extension": ".py",
   "mimetype": "text/x-python",
   "name": "python",
   "nbconvert_exporter": "python",
   "pygments_lexer": "ipython3",
   "version": "3.12.6"
  }
 },
 "nbformat": 4,
 "nbformat_minor": 5
}
