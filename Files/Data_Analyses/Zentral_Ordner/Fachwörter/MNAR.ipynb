{
 "cells": [
  {
   "cell_type": "markdown",
   "id": "03621d31-aaa1-4602-a6b3-f1f705d4932b",
   "metadata": {},
   "source": [
    "# Missing Not at Random (MNAR):"
   ]
  },
  {
   "cell_type": "markdown",
   "id": "cbc88823-3e19-4ca4-a148-6049306b577d",
   "metadata": {},
   "source": [
    "Das Fehlen von Daten steht direkt im Zusammenhang mit dem fehlenden Wert selbst. Dieses Problem erfordert spezielle Strategien, da sonst erhebliche Verzerrungen auftreten können."
   ]
  },
  {
   "cell_type": "markdown",
   "id": "ab1bc3c4-bd51-4455-b9e9-13ccd742649d",
   "metadata": {},
   "source": [
    "Missing Not at Random (MNAR): Bei MNAR-Daten hängt das Fehlen direkt mit dem Wert der fehlenden Beobachtung zusammen. Aufbauend auf dem obigen Beispiel wäre eine Umfrage zu Depressionen MNAR, wenn diejenigen mit besonders hohem Depressionsgrad die Beantwortung verweigern würden. Dies führt zu fehlenden Daten, die wir nicht ignorieren oder löschen können, ohne dass unsere Analyse verzerrt wird. Selbst die Imputation fehlender Werte kann zu irreführende Ergebnissen liefern. In schweren Fällen müssen wir möglicherweise eine bessere Strategie ausarbeiten und unsere Daten erneut erfassen."
   ]
  },
  {
   "cell_type": "markdown",
   "id": "89eaeccd-c282-41c8-bd57-ca80fbb66e34",
   "metadata": {},
   "source": [
    "https://www.inwt-statistics.de/blog/fehlende-werte-verstehen-und-handhaben"
   ]
  },
  {
   "cell_type": "code",
   "execution_count": null,
   "id": "17e654cc-3a2c-4423-87a8-af939015b585",
   "metadata": {},
   "outputs": [],
   "source": []
  }
 ],
 "metadata": {
  "kernelspec": {
   "display_name": "Python 3 (ipykernel)",
   "language": "python",
   "name": "python3"
  },
  "language_info": {
   "codemirror_mode": {
    "name": "ipython",
    "version": 3
   },
   "file_extension": ".py",
   "mimetype": "text/x-python",
   "name": "python",
   "nbconvert_exporter": "python",
   "pygments_lexer": "ipython3",
   "version": "3.12.6"
  }
 },
 "nbformat": 4,
 "nbformat_minor": 5
}
