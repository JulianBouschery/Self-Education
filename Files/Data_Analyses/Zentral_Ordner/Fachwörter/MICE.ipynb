{
 "cells": [
  {
   "cell_type": "markdown",
   "id": "8fd9b2d3-3df4-465d-9cbb-ab239f916f8f",
   "metadata": {},
   "source": [
    "# Multiple Imputation by Chained Equations (MICE)"
   ]
  },
  {
   "cell_type": "markdown",
   "id": "8b015641-7b1b-4f5d-b207-ffd8d82c2978",
   "metadata": {},
   "source": [
    "Bei der multiplen Imputation wird die Verteilung der beobachteten Daten berücksichtigt und mehrere plausible Schätzungen für den fehlenden Wert erstellt. Mehrere Datensätze werden einzeln erstellt und analysiert, um einen Satz von Parameterschätzungen zu erhalten. Diese Methode berücksichtigt die Unsicherheit bei den fehlenden Werten besser und kann sowohl kontinuierliche als auch kategoriale Daten effektiv verarbeiten.\n",
    "\n",
    "Dies ist natürlich keine vollständige Liste, und es gibt viele andere Imputationsmethoden (z. B. Imputation mit Random Forests, GANs, usw.). Es gibt grundsätzlich keine pauschale Lösung für den Umgang mit fehlenden Werten. Vielmehr ist es wichtig, die Art der Daten und der fehlenden Werte zu berücksichtigen, um eine fundierte Entscheidung darüber zu treffen, wie der Lösungsweg aussehen sollte.\n",
    "\n"
   ]
  },
  {
   "cell_type": "markdown",
   "id": "7cfc71d2-9bba-4307-ada6-3fff201e46e4",
   "metadata": {},
   "source": [
    "Quelle: https://www.inwt-statistics.de/blog/fehlende-werte-verstehen-und-handhaben"
   ]
  },
  {
   "cell_type": "code",
   "execution_count": null,
   "id": "b9e85409-e4d9-4af5-9d45-c44e31945ffc",
   "metadata": {},
   "outputs": [],
   "source": []
  }
 ],
 "metadata": {
  "kernelspec": {
   "display_name": "Python 3 (ipykernel)",
   "language": "python",
   "name": "python3"
  },
  "language_info": {
   "codemirror_mode": {
    "name": "ipython",
    "version": 3
   },
   "file_extension": ".py",
   "mimetype": "text/x-python",
   "name": "python",
   "nbconvert_exporter": "python",
   "pygments_lexer": "ipython3",
   "version": "3.12.6"
  }
 },
 "nbformat": 4,
 "nbformat_minor": 5
}
