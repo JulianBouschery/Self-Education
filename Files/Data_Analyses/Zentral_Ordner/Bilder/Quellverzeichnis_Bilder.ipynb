{
 "cells": [
  {
   "cell_type": "markdown",
   "id": "2d5d367d-395a-42e6-8ea5-982ce7ef30fa",
   "metadata": {},
   "source": [
    "# Quellverzeichnis der Bilder"
   ]
  },
  {
   "cell_type": "markdown",
   "id": "f83cdf89-6169-47ba-9934-7bdf9cbdabed",
   "metadata": {},
   "source": [
    "[Dependencies.jpg](https://www.bic-media.com/widget/?isbn=9783446473669&showExtraDownloadButton=yes&buyButton=no)"
   ]
  },
  {
   "cell_type": "markdown",
   "id": "5d36272e-7621-43bb-9199-39bf43aeda4f",
   "metadata": {},
   "source": [
    "[Homosk.png](https://de.wikipedia.org/wiki/Homoskedastizit%C3%A4t_und_Heteroskedastizit%C3%A4t)"
   ]
  },
  {
   "cell_type": "markdown",
   "id": "f8d77e21-f6ec-479f-8c37-87a1dda46836",
   "metadata": {},
   "source": [
    "[Heterosk.png](https://de.wikipedia.org/wiki/Homoskedastizit%C3%A4t_und_Heteroskedastizit%C3%A4t)"
   ]
  },
  {
   "cell_type": "markdown",
   "id": "97884dc3-6f26-45ad-b124-883d2df5002d",
   "metadata": {},
   "source": [
    "[inferenz_deskriptiv.png](https://datatab.de/tutorial/deskriptive-inferenz-statistik)"
   ]
  },
  {
   "cell_type": "markdown",
   "id": "2857a4ce-6c3c-4620-aa45-28b0c9477e13",
   "metadata": {},
   "source": [
    "[Voronoi_diagram.png](https://de.wikipedia.org/wiki/N%C3%A4chste-Nachbarn-Klassifikation)"
   ]
  },
  {
   "cell_type": "code",
   "execution_count": null,
   "id": "3385b0a0-d2b7-40dc-99ad-bd6a2a3efe4e",
   "metadata": {},
   "outputs": [],
   "source": []
  }
 ],
 "metadata": {
  "kernelspec": {
   "display_name": "Python 3 (ipykernel)",
   "language": "python",
   "name": "python3"
  },
  "language_info": {
   "codemirror_mode": {
    "name": "ipython",
    "version": 3
   },
   "file_extension": ".py",
   "mimetype": "text/x-python",
   "name": "python",
   "nbconvert_exporter": "python",
   "pygments_lexer": "ipython3",
   "version": "3.12.6"
  }
 },
 "nbformat": 4,
 "nbformat_minor": 5
}
