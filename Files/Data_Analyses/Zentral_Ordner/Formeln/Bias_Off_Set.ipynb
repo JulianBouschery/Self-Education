{
 "cells": [
  {
   "cell_type": "markdown",
   "id": "d2674cb1-4a24-4912-87c0-582407e25982",
   "metadata": {},
   "source": [
    "# Bias-Off-Set"
   ]
  },
  {
   "cell_type": "markdown",
   "id": "95f2470f-8230-4510-a368-e3ae7ef09273",
   "metadata": {},
   "source": [
    "https://marini.systems/de/glossar/variance-bias-trade-off/"
   ]
  },
  {
   "cell_type": "markdown",
   "id": "1dbfa8bf-01f7-448e-b1f8-06acda1916e2",
   "metadata": {},
   "source": [
    "Der Bias (Offset) in einem Regressionsmodell ist der konstante Wert, der hinzugefügt wird, um die Verschiebung der Vorhersagelinie nach oben oder unten anzupassen, unabhängig von den Eingabevariablen, und hilft, die allgemeine Richtung des Modells zu bestimmen."
   ]
  },
  {
   "cell_type": "code",
   "execution_count": null,
   "id": "f2af6c23-1892-4712-88e9-58b72e1187d4",
   "metadata": {},
   "outputs": [],
   "source": []
  }
 ],
 "metadata": {
  "kernelspec": {
   "display_name": "Python 3 (ipykernel)",
   "language": "python",
   "name": "python3"
  },
  "language_info": {
   "codemirror_mode": {
    "name": "ipython",
    "version": 3
   },
   "file_extension": ".py",
   "mimetype": "text/x-python",
   "name": "python",
   "nbconvert_exporter": "python",
   "pygments_lexer": "ipython3",
   "version": "3.12.6"
  }
 },
 "nbformat": 4,
 "nbformat_minor": 5
}
