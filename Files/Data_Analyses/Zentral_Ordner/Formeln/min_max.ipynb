{
 "cells": [
  {
   "cell_type": "markdown",
   "id": "e02e4420-a7d2-4b9c-bc25-c78cb45cb753",
   "metadata": {},
   "source": [
    "# Minimum und Maximum"
   ]
  },
  {
   "cell_type": "markdown",
   "id": "96b5b29c-adec-4297-8813-a912a55e4fa9",
   "metadata": {},
   "source": [
    "### Minimum"
   ]
  },
  {
   "cell_type": "markdown",
   "id": "45861dcf-74b8-43a9-b4ed-3c6878f7510d",
   "metadata": {},
   "source": [
    "Der kleinste Wert in einem Datensatz."
   ]
  },
  {
   "cell_type": "markdown",
   "id": "daf8bd76-cd75-4b95-a54a-a2022e8241b9",
   "metadata": {},
   "source": [
    "### Maximum"
   ]
  },
  {
   "cell_type": "markdown",
   "id": "e3e43fb6-c974-46e4-a991-af79add746a6",
   "metadata": {},
   "source": [
    "Der größte Wert in einem Datensatz."
   ]
  },
  {
   "cell_type": "code",
   "execution_count": null,
   "id": "6ab18882-d203-499c-9371-b760658b66e4",
   "metadata": {},
   "outputs": [],
   "source": []
  }
 ],
 "metadata": {
  "kernelspec": {
   "display_name": "Python 3 (ipykernel)",
   "language": "python",
   "name": "python3"
  },
  "language_info": {
   "codemirror_mode": {
    "name": "ipython",
    "version": 3
   },
   "file_extension": ".py",
   "mimetype": "text/x-python",
   "name": "python",
   "nbconvert_exporter": "python",
   "pygments_lexer": "ipython3",
   "version": "3.12.6"
  }
 },
 "nbformat": 4,
 "nbformat_minor": 5
}
