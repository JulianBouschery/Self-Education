{
 "cells": [
  {
   "cell_type": "markdown",
   "id": "13ddbfa7-954d-4dae-9ce1-d3908e2d510b",
   "metadata": {},
   "source": [
    "# Kritische Punkte"
   ]
  },
  {
   "cell_type": "markdown",
   "id": "cefdcd29-2f88-41bf-a92d-c35dabb2d915",
   "metadata": {},
   "source": [
    "Noch nicht fertig."
   ]
  },
  {
   "cell_type": "markdown",
   "id": "4966a268-fee3-47f2-b551-45b4500e96f3",
   "metadata": {},
   "source": [
    "### Beispiel mit mehreren kritischen Punkten"
   ]
  },
  {
   "cell_type": "markdown",
   "id": "d6210478-685b-42e7-aef1-5c51792bb0b0",
   "metadata": {},
   "source": [
    "Nehmen wir die Funktion:\n",
    "\n",
    "$f(x) = x^3 - 3x^2 + 2$\n",
    "\n",
    "**Schritte:**\n",
    "\n",
    "1. Berechne die Ableitung:\n",
    "\n",
    "   $f'(x) = 3x^2 - 6x$\n",
    "\n",
    "2. Setze die Ableitung gleich null, um die kritischen Punkte zu finden:\n",
    "\n",
    "   $3x^2 - 6x = 0$\n",
    "\n",
    "   Das lässt sich zu $x(3x - 6) = 0$ faktorisieren, was zu $x = 0$ und $x = 2$ führt.\n",
    "\n",
    "3. Verwende die zweite Ableitung, um die Natur der kritischen Punkte zu bestimmen:\n",
    "\n",
    "   Die zweite Ableitung ist:\n",
    "   \n",
    "   $f''(x) = 6x - 6$\n",
    "\n",
    "   - Für $x = 0$: $f''(0) = -6$ (negativ), also ist $x = 0$ ein Maximum.\n",
    "   - Für $x = 2$: $f''(2) = 6$ (positiv), also ist $x = 2$ ein Minimum."
   ]
  },
  {
   "cell_type": "markdown",
   "id": "6ebd95f2-9880-4cbd-a1ac-595a3f0b771e",
   "metadata": {},
   "source": [
    "### Zusammenfassung"
   ]
  },
  {
   "cell_type": "markdown",
   "id": "425de302-81c5-402b-8017-efde5370a290",
   "metadata": {},
   "source": [
    "Diese Funktion hat also zwei kritische Punkte:\n",
    "- Ein lokales Maximum bei $x = 0$.\n",
    "- Ein lokales Minimum bei $x = 2$.\n",
    "\n",
    "Es können auch Funktionen existieren, die noch mehr kritische Punkte aufweisen, je nachdem, wie komplex die Funktion ist."
   ]
  },
  {
   "cell_type": "code",
   "execution_count": null,
   "id": "ea240162-5d22-4e71-8241-dbf04cc9eb48",
   "metadata": {},
   "outputs": [],
   "source": []
  }
 ],
 "metadata": {
  "kernelspec": {
   "display_name": "Python 3 (ipykernel)",
   "language": "python",
   "name": "python3"
  },
  "language_info": {
   "codemirror_mode": {
    "name": "ipython",
    "version": 3
   },
   "file_extension": ".py",
   "mimetype": "text/x-python",
   "name": "python",
   "nbconvert_exporter": "python",
   "pygments_lexer": "ipython3",
   "version": "3.12.6"
  }
 },
 "nbformat": 4,
 "nbformat_minor": 5
}
