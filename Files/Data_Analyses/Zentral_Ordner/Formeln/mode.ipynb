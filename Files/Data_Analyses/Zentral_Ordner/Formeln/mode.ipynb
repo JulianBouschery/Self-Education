{
 "cells": [
  {
   "cell_type": "markdown",
   "id": "fbe53049-d452-45d3-8f15-11950ac04f18",
   "metadata": {},
   "source": [
    "# Modus bzw. Multimordale Werte"
   ]
  },
  {
   "cell_type": "markdown",
   "id": "10655669-75b5-4e03-bc3a-0376d59cd484",
   "metadata": {},
   "source": [
    "Der Modus ist der am häufigsten vorkommende Wert in einem Datensatz. Gibt es mehrere Werte, die gleich hoch sind spricht man von Multimordalen Werten (mehrere häufigste Werte). (Siehe auch Gaußverteilung)"
   ]
  }
 ],
 "metadata": {
  "kernelspec": {
   "display_name": "Python 3 (ipykernel)",
   "language": "python",
   "name": "python3"
  },
  "language_info": {
   "codemirror_mode": {
    "name": "ipython",
    "version": 3
   },
   "file_extension": ".py",
   "mimetype": "text/x-python",
   "name": "python",
   "nbconvert_exporter": "python",
   "pygments_lexer": "ipython3",
   "version": "3.12.6"
  }
 },
 "nbformat": 4,
 "nbformat_minor": 5
}
