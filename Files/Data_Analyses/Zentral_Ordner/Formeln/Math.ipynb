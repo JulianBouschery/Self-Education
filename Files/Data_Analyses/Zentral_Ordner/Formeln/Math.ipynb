{
 "cells": [
  {
   "cell_type": "markdown",
   "id": "d361be10-839f-476c-967e-f1fbef4ce005",
   "metadata": {},
   "source": [
    "# Mathematik"
   ]
  },
  {
   "cell_type": "markdown",
   "id": "020b3861-4dd8-4e5e-88c1-29c3988b9179",
   "metadata": {},
   "source": [
    "Notiz zum weiter ausbauen..."
   ]
  },
  {
   "cell_type": "markdown",
   "id": "8833da1e-4c16-432a-aadb-8c1cea52f84a",
   "metadata": {
    "editable": true,
    "slideshow": {
     "slide_type": ""
    },
    "tags": []
   },
   "source": [
    "Grundlegenden Themen, Gesetzen und Regeln der Mathematik, die die Basis für viele mathematische Konzepte und Anwendungen bilden:\n",
    "\n",
    "### 1. **Zahlen und Zahlensysteme**\n",
    "   - Natürliche Zahlen, ganze Zahlen, rationale Zahlen, irrationale Zahlen, reelle Zahlen, komplexe Zahlen\n",
    "   - Eigenschaften der Zahlen (z.B. Kommutativgesetz, Assoziativgesetz, Distributivgesetz)\n",
    "\n",
    "### 2. **Grundlegende Rechenoperationen**\n",
    "   - Addition, Subtraktion, Multiplikation, Division\n",
    "   - Regeln zur Ausführung von Rechenoperationen (z.B. Vorrangregeln, Punkt-vor-Strich-Regel)\n",
    "\n",
    "### 3. **Algebra**\n",
    "   - Terme, Gleichungen und Ungleichungen\n",
    "   - Gesetze der Algebra (z.B. das Distributivgesetz, das Associativgesetz)\n",
    "   - Faktorisierung von Ausdrücken\n",
    "   - Lineare und quadratische Gleichungen\n",
    "   - Funktionen und deren Eigenschaften (z.B. lineare, quadratische, exponentielle, logarithmische Funktionen)\n",
    "\n",
    "### 4. **Geometrie**\n",
    "   - Grundlegende geometrische Formen (Punkte, Linien, Ebenen, Winkel, Polygone, Kreise)\n",
    "   - Flächeninhalt und Umfang von geometrischen Figuren\n",
    "   - Volumen und Oberfläche von dreidimensionalen Körpern\n",
    "   - Satz des Pythagoras\n",
    "   - Ähnlichkeit und Kongruenz von Figuren\n",
    "\n",
    "### 5. **Trigonometrie**\n",
    "   - Trigonometrische Funktionen (Sinus, Cosinus, Tangens)\n",
    "   - Einheitenkreis\n",
    "   - Trigonometrische Identitäten\n",
    "   - Anwendung in rechtwinkligen und allgemeinen Dreiecken\n",
    "\n",
    "### 6. **Mathematische Logik**\n",
    "   - Aussagen, Negationen, Konjunktionen, Disjunktionen\n",
    "   - Implikationen und Äquivalenzen\n",
    "   - Quantoren (Allquantor, Existenzquantor)\n",
    "\n",
    "### 7. **Mengenlehre**\n",
    "   - Definition von Mengen, Teilmengen, Vereinigungen, Schnitten und Differenzen\n",
    "   - Kartesisches Produkt\n",
    "   - Venn-Diagramme\n",
    "\n",
    "### 8. **Mathematische Induktion**\n",
    "   - Prinzip der vollständigen Induktion\n",
    "   - Anwendungen in der Zahlentheorie und anderen Bereichen\n",
    "\n",
    "### 9. **Analysis**\n",
    "   - Grenzwerte und Stetigkeit\n",
    "   - Ableitungen und Differenzialrechnung\n",
    "   - Integrale und Integralrechnung\n",
    "   - Grundlagen der Funktionalanalysis\n",
    "\n",
    "### 10. **Wahrscheinlichkeitsrechnung**\n",
    "   - Grundbegriffe der Wahrscheinlichkeit (Ereignisse, Wahrscheinlichkeitsräume)\n",
    "   - Bedingte Wahrscheinlichkeit und Unabhängigkeit\n",
    "   - Zufallsvariablen und deren Verteilungen (diskrete und stetige Verteilungen)\n",
    "\n",
    "### 11. **Statistik**\n",
    "   - Deskriptive Statistik (Mittelwerte, Median, Modus, Varianz, Standardabweichung)\n",
    "   - Inferenzstatistik (Hypothesentests, Konfidenzintervalle)\n",
    "\n",
    "### 12. **Lineare Algebra**\n",
    "   - [Vektoren](Vector.ipynb) und Matrizen\n",
    "   - Matrizenoperationen (Addition, Multiplikation, Inversion)\n",
    "   - Determinanten und Eigenwerte\n",
    "   - Lineare Gleichungssysteme und deren Lösungen (z.B. Gauß-Algorithmus)\n",
    "\n",
    "### 13. **Differentialgleichungen**\n",
    "   - Grundlegende Konzepte und Methoden zur Lösung von Differentialgleichungen\n",
    "   - Anwendungen in Naturwissenschaften und Technik\n",
    "\n",
    "### 14. **Optimierung**\n",
    "   - Grundlagen der Optimierung (Maximum, Minimum, Nebenbedingungen)\n",
    "   - Anwendung der Ableitung zur Bestimmung optimaler Werte\n"
   ]
  },
  {
   "cell_type": "code",
   "execution_count": null,
   "id": "f5808417-3c04-403c-9688-3b4e3ba20553",
   "metadata": {},
   "outputs": [],
   "source": []
  },
  {
   "cell_type": "code",
   "execution_count": null,
   "id": "5065ed4f-628d-4405-bf14-1286c7656795",
   "metadata": {},
   "outputs": [],
   "source": []
  },
  {
   "cell_type": "code",
   "execution_count": null,
   "id": "73a0a441-a019-41df-a9e8-dd556511ecdd",
   "metadata": {},
   "outputs": [],
   "source": []
  }
 ],
 "metadata": {
  "kernelspec": {
   "display_name": "Python 3 (ipykernel)",
   "language": "python",
   "name": "python3"
  },
  "language_info": {
   "codemirror_mode": {
    "name": "ipython",
    "version": 3
   },
   "file_extension": ".py",
   "mimetype": "text/x-python",
   "name": "python",
   "nbconvert_exporter": "python",
   "pygments_lexer": "ipython3",
   "version": "3.12.6"
  }
 },
 "nbformat": 4,
 "nbformat_minor": 5
}
