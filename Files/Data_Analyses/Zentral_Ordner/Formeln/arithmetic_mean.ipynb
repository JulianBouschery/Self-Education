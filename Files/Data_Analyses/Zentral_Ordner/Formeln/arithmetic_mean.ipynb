{
 "cells": [
  {
   "cell_type": "markdown",
   "id": "5aa5aeca-396d-40ee-80d9-9093d173fb97",
   "metadata": {},
   "source": [
    "# Arithmetisches Mittel / Mittelwert / Durchschnitt"
   ]
  },
  {
   "cell_type": "markdown",
   "id": "3d779528-386b-4b57-8089-d6a0d3fce66b",
   "metadata": {},
   "source": [
    "Mittelwert ist nicht gleich Mittelwert. Je nach Anwendungsbereich oder Fachgebiet kann man unter dem Begriff \"Mittelwert\" etwas anderes verstehen, aber uns interessiert für die Statistik nur das Arithmetische Mittel."
   ]
  },
  {
   "cell_type": "markdown",
   "id": "dcdd8f26-9e6d-4e00-8691-e96160804620",
   "metadata": {},
   "source": [
    "1. **Arithmetisches Mittel (Durchschnitt)**: \n",
    "   $$\n",
    "   \\bar{x} = \\frac{1}{n} \\sum_{i=1}^{n} x_i\n",
    "   $$\n",
    "   Der Durchschnitt aller Werte."
   ]
  },
  {
   "cell_type": "markdown",
   "id": "575ce283-abe1-45a8-8d7b-9c07e3734634",
   "metadata": {
    "jp-MarkdownHeadingCollapsed": true
   },
   "source": [
    "### Rest der Ignoriert werden kann:"
   ]
  }
 ],
 "metadata": {
  "kernelspec": {
   "display_name": "Python 3 (ipykernel)",
   "language": "python",
   "name": "python3"
  },
  "language_info": {
   "codemirror_mode": {
    "name": "ipython",
    "version": 3
   },
   "file_extension": ".py",
   "mimetype": "text/x-python",
   "name": "python",
   "nbconvert_exporter": "python",
   "pygments_lexer": "ipython3",
   "version": "3.12.6"
  }
 },
 "nbformat": 4,
 "nbformat_minor": 5
}
