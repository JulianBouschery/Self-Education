{
 "cells": [
  {
   "cell_type": "markdown",
   "id": "6ea182a7-cb3e-4212-a767-97efc64e16ad",
   "metadata": {},
   "source": [
    "# Matrix und Tensor"
   ]
  },
  {
   "cell_type": "markdown",
   "id": "915e0683-cb31-46ed-bc1c-64ba00a67d3b",
   "metadata": {},
   "source": [
    "**Matrix** (plural Matrizen) und **Tensor** (plural Tensoren) ist fast das gleiche. Ein Tensor ist eine generalisierte Form einer Matrix. Sie sind beide grundlegende Konzepte in der Mathematik und werden in vielen Bereichen der Datenwissenschaft, einschließlich des maschinellen Lernens und der numerischen Berechnung verwendet. "
   ]
  },
  {
   "cell_type": "markdown",
   "id": "26d28bcd-a630-4584-8621-7a4eca03bfb9",
   "metadata": {},
   "source": [
    "## Matrix (plural Matrizen)"
   ]
  },
  {
   "cell_type": "markdown",
   "id": "def47c1b-aecb-446b-b6ed-e38e59db039a",
   "metadata": {},
   "source": [
    "- **Definition**: Eine Matrix ist ein rechteckiges Array von Zahlen, Symbolen oder Ausdrücken, die in Zeilen und Spalten angeordnet sind. Eine Matrix hat die Dimensionen $m \\times n$, wobei $m$ die Anzahl der Zeilen und $n$ die Anzahl der Spalten ist.\n",
    "\n",
    "- **Notation**: Eine Matrix wird oft mit Großbuchstaben dargestellt, z. B. $A$. Ein Element der Matrix an der Position $i$ (Zeile) und $j$ (Spalte) wird oft als $A_{ij}$ bezeichnet.\n",
    "\n",
    "- **Anwendungen**:\n",
    "  - Matrizen werden häufig in der linearen Algebra verwendet, um Systeme von linearen Gleichungen zu lösen.\n",
    "  - Sie sind auch wichtig in der Computergrafik, um Transformationen durchzuführen (z. B. Skalierung, Rotation)."
   ]
  },
  {
   "cell_type": "markdown",
   "id": "faee9ba2-9bf6-4b01-b297-6942c003e471",
   "metadata": {},
   "source": [
    "#### **Beispiel**:"
   ]
  },
  {
   "cell_type": "markdown",
   "id": "23f62181-8d9b-4019-b1bc-6e32b14c91a9",
   "metadata": {},
   "source": [
    "  Eine Matrix $A$ mit 2 Zeilen und 3 Spalten könnte so aussehen:\n",
    "\n",
    "  $$\n",
    "  A = \\begin{pmatrix}\n",
    "  1 & 2 & 3 \\\\\n",
    "  4 & 5 & 6\n",
    "  \\end{pmatrix}\n",
    "  $$"
   ]
  },
  {
   "cell_type": "markdown",
   "id": "b352bb92-5104-4ffa-a21c-2accf8022f1f",
   "metadata": {},
   "source": [
    "### Beispiel: Matrizen mit NumPy"
   ]
  },
  {
   "cell_type": "code",
   "execution_count": 16,
   "id": "e8d95803-c158-4d98-905f-a4b1bb617bb8",
   "metadata": {},
   "outputs": [],
   "source": [
    "import numpy as np"
   ]
  },
  {
   "cell_type": "markdown",
   "id": "0396d058-669e-4956-b2e0-076ef497c524",
   "metadata": {},
   "source": [
    "Wir erstellen eine 2D-Matrix mit `np.array()`."
   ]
  },
  {
   "cell_type": "code",
   "execution_count": 17,
   "id": "d20151b1-27fa-4fc8-886e-15711540eb14",
   "metadata": {},
   "outputs": [],
   "source": [
    "# Erstelle eine 2D-Matrix (3x3)\n",
    "matrix = np.array([[1, 2, 3],\n",
    "                   [4, 5, 6],\n",
    "                   [7, 8, 9]])"
   ]
  },
  {
   "cell_type": "code",
   "execution_count": 18,
   "id": "5411e2da-9b2f-41f0-8333-25d6726d67cc",
   "metadata": {},
   "outputs": [
    {
     "name": "stdout",
     "output_type": "stream",
     "text": [
      "2D-Matrix:\n",
      "[[1 2 3]\n",
      " [4 5 6]\n",
      " [7 8 9]]\n"
     ]
    }
   ],
   "source": [
    "# Ausgabe der Matrix \n",
    "print(\"2D-Matrix:\")\n",
    "print(matrix)"
   ]
  },
  {
   "cell_type": "markdown",
   "id": "39fc3cbc-d1da-4637-be82-0bd1dcf3949a",
   "metadata": {},
   "source": [
    "Die Matrix wird transponiert, was bedeutet, dass ihre Zeilen und Spalten vertauscht werden."
   ]
  },
  {
   "cell_type": "code",
   "execution_count": 19,
   "id": "fbaf7499-72fa-4a3a-820b-fbffb0623834",
   "metadata": {},
   "outputs": [
    {
     "name": "stdout",
     "output_type": "stream",
     "text": [
      "Transponierte Matrix:\n",
      "[[1 4 7]\n",
      " [2 5 8]\n",
      " [3 6 9]]\n"
     ]
    }
   ],
   "source": [
    "# Durchführung von Operationen auf der Matrix\n",
    "# Transponiere die Matrix\n",
    "transposed_matrix = np.transpose(matrix)\n",
    "print(\"Transponierte Matrix:\")\n",
    "print(transposed_matrix)"
   ]
  },
  {
   "cell_type": "markdown",
   "id": "55c5f841-4422-4656-b5bb-8f75ac258246",
   "metadata": {},
   "source": [
    "Wir berechnen die Summe der Spalten der Matrix mit `np.sum(matrix, axis=0)`."
   ]
  },
  {
   "cell_type": "code",
   "execution_count": 20,
   "id": "b0cd698d-7566-461a-be23-daee9ada7294",
   "metadata": {},
   "outputs": [
    {
     "name": "stdout",
     "output_type": "stream",
     "text": [
      "Summe über Spalten:\n",
      "[12 15 18]\n"
     ]
    }
   ],
   "source": [
    "# Berechnung der Summe entlang einer Achse\n",
    "sum_over_columns = np.sum(matrix, axis=0)  # Summe der Spalten\n",
    "print(\"Summe über Spalten:\")\n",
    "print(sum_over_columns)"
   ]
  },
  {
   "cell_type": "markdown",
   "id": "ecb81952-c5dc-46d1-aadb-79ff7e512786",
   "metadata": {},
   "source": [
    "## Tensor (plural Tensoren)"
   ]
  },
  {
   "cell_type": "markdown",
   "id": "d1e6e26f-1139-46eb-a538-124e198de20f",
   "metadata": {},
   "source": [
    "- **Definition**: Ein Tensor ist eine generalisierte Form von Matrizen. Tensors können als mehrdimensionale Arrays von Zahlen angesehen werden. Ein Tensor ist also eine Matrix mit einer beliebigen Anzahl von Dimensionen."
   ]
  },
  {
   "cell_type": "markdown",
   "id": "1b696d8f-16cc-4063-819e-560026891feb",
   "metadata": {},
   "source": [
    "- **Dimensionen**:\n",
    "  - Ein **Skalar** ist ein Tensor 0. Ordnung (z. B. eine einzelne Zahl).\n",
    "  - Ein **Vektor** ist ein Tensor 1. Ordnung (z. B. eine Liste von Zahlen).\n",
    "  - Eine **Matrix** ist ein Tensor 2. Ordnung.\n",
    "  - Tensors höherer Ordnung haben 3 oder mehr Dimensionen (z. B. ein Tensor 3. Ordnung könnte in Form eines Würfels dargestellt werden)."
   ]
  },
  {
   "cell_type": "markdown",
   "id": "308ca573-a7fd-4a11-a202-1811c11da8d7",
   "metadata": {},
   "source": [
    "- **Anwendungen**:\n",
    "  - Tensors sind in vielen Bereichen der Physik, Informatik und Ingenieurwissenschaften nützlich. In der maschinellen Lern-Community werden sie häufig in Frameworks wie TensorFlow und PyTorch verwendet.\n",
    "  - Sie werden verwendet, um komplexe Datenstrukturen darzustellen, wie z. B. Bilddaten (z. B. ein 3D-Tensor für RGB-Bilder)."
   ]
  },
  {
   "cell_type": "markdown",
   "id": "dae598bf-fe48-4dfa-b5ee-47a86a15bf2a",
   "metadata": {},
   "source": [
    "- **Beispiel**:\n",
    "\n",
    "  Ein Tensor 3. Ordnung könnte so aussehen:\n",
    "\n",
    "  $$\n",
    "  T = \\begin{pmatrix}\n",
    "  \\begin{pmatrix}\n",
    "  1 & 2 \\\\\n",
    "  3 & 4\n",
    "  \\end{pmatrix},\n",
    "  \\begin{pmatrix}\n",
    "  5 & 6 \\\\\n",
    "  7 & 8\n",
    "  \\end{pmatrix}\n",
    "  \\end{pmatrix}\n",
    "  $$\n",
    "\n",
    "  Hier stellt jeder Block eine Matrix dar."
   ]
  },
  {
   "cell_type": "markdown",
   "id": "1e4a803b-ca1f-4f9b-8fee-19d0d88d7536",
   "metadata": {},
   "source": [
    "### Zusammenfassung"
   ]
  },
  {
   "cell_type": "markdown",
   "id": "3cfa070d-4c7a-416b-9381-166508e1b163",
   "metadata": {},
   "source": [
    "- **Matrizen** sind spezielle Fälle von Tensors, die genau zwei Dimensionen haben. \n",
    "- **Tensors** sind flexibler und können beliebig viele Dimensionen haben, wodurch sie eine mächtige Struktur für die Datenanalyse und das maschinelle Lernen bieten."
   ]
  },
  {
   "cell_type": "markdown",
   "id": "74badcf9-828c-4d7a-a9da-8577330870ff",
   "metadata": {},
   "source": [
    "### Beispiel: Tensor mit NumPy"
   ]
  },
  {
   "cell_type": "markdown",
   "id": "e60c0f10-1bc3-468f-896f-b49ff2535482",
   "metadata": {},
   "source": [
    "Ein 3D-Tensor wird ebenfalls mit `np.array()` erstellt."
   ]
  },
  {
   "cell_type": "code",
   "execution_count": 21,
   "id": "6da5c68d-8528-43dd-b1f4-b49ad2c7dc2e",
   "metadata": {},
   "outputs": [
    {
     "name": "stdout",
     "output_type": "stream",
     "text": [
      "\n",
      "3D-Tensor:\n",
      "[[[ 1  2  3]\n",
      "  [ 4  5  6]\n",
      "  [ 7  8  9]]\n",
      "\n",
      " [[10 11 12]\n",
      "  [13 14 15]\n",
      "  [16 17 18]]]\n"
     ]
    }
   ],
   "source": [
    "# Erstelle einen 3D-Tensor (2x3x3)\n",
    "tensor = np.array([[[1, 2, 3],\n",
    "                    [4, 5, 6],\n",
    "                    [7, 8, 9]],\n",
    "                   \n",
    "                   [[10, 11, 12],\n",
    "                    [13, 14, 15],\n",
    "                    [16, 17, 18]]])\n",
    "\n",
    "# Ausgabe des Tensors\n",
    "print(\"\\n3D-Tensor:\")\n",
    "print(tensor)"
   ]
  },
  {
   "cell_type": "markdown",
   "id": "baa5398c-1e40-4850-bc4d-6cd6948305c8",
   "metadata": {},
   "source": [
    "Der Tensor wird entlang der ersten Achse transponiert, was bedeutet, dass die ersten beiden Dimensionen vertauscht werden."
   ]
  },
  {
   "cell_type": "code",
   "execution_count": 22,
   "id": "10d6b9d0-4dd2-4960-a642-32f76bf8728a",
   "metadata": {},
   "outputs": [
    {
     "name": "stdout",
     "output_type": "stream",
     "text": [
      "\n",
      "Transponierter Tensor:\n",
      "[[[ 1  2  3]\n",
      "  [10 11 12]]\n",
      "\n",
      " [[ 4  5  6]\n",
      "  [13 14 15]]\n",
      "\n",
      " [[ 7  8  9]\n",
      "  [16 17 18]]]\n"
     ]
    }
   ],
   "source": [
    "# Durchführung von Operationen auf dem Tensor\n",
    "# Transponiere den Tensor entlang der ersten Achse\n",
    "transposed_tensor = np.transpose(tensor, (1, 0, 2))\n",
    "print(\"\\nTransponierter Tensor:\")\n",
    "print(transposed_tensor)"
   ]
  },
  {
   "cell_type": "markdown",
   "id": "cf7cb766-020b-4e21-a920-3568e2fc3eb1",
   "metadata": {},
   "source": [
    "Wir berechnen die Summe über die erste Dimension des Tensors mit `np.sum(tensor, axis=0)`."
   ]
  },
  {
   "cell_type": "code",
   "execution_count": 23,
   "id": "c7b284ef-c467-4fee-bf81-335fab6c61cb",
   "metadata": {},
   "outputs": [
    {
     "name": "stdout",
     "output_type": "stream",
     "text": [
      "\n",
      "Summe über die erste Dimension des Tensors:\n",
      "[[11 13 15]\n",
      " [17 19 21]\n",
      " [23 25 27]]\n"
     ]
    }
   ],
   "source": [
    "# Berechnung der Summe entlang der ersten Achse des Tensors\n",
    "sum_tensor = np.sum(tensor, axis=0)  # Summe über die erste Dimension\n",
    "print(\"\\nSumme über die erste Dimension des Tensors:\")\n",
    "print(sum_tensor)"
   ]
  }
 ],
 "metadata": {
  "kernelspec": {
   "display_name": "Python 3 (ipykernel)",
   "language": "python",
   "name": "python3"
  },
  "language_info": {
   "codemirror_mode": {
    "name": "ipython",
    "version": 3
   },
   "file_extension": ".py",
   "mimetype": "text/x-python",
   "name": "python",
   "nbconvert_exporter": "python",
   "pygments_lexer": "ipython3",
   "version": "3.12.6"
  }
 },
 "nbformat": 4,
 "nbformat_minor": 5
}
