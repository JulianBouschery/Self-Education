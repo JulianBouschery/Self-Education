{
 "cells": [
  {
   "cell_type": "markdown",
   "id": "8eded7ee-a429-4f12-b2f6-404e21b114fb",
   "metadata": {
    "editable": true,
    "slideshow": {
     "slide_type": ""
    },
    "tags": []
   },
   "source": [
    "# Vektor"
   ]
  },
  {
   "cell_type": "markdown",
   "id": "977031d8-9786-42f9-a382-7518984ba261",
   "metadata": {},
   "source": [
    "Ein Vektor ist ein grundlegendes Konzept in der Mathematik und der Physik, das verwendet wird, um Größen mit sowohl einer Richtung als auch einem Betrag (oder einer Länge) zu beschreiben."
   ]
  },
  {
   "cell_type": "markdown",
   "id": "af8b0230-c383-4284-b56a-e0e90097454e",
   "metadata": {},
   "source": [
    "### 1. Definition:"
   ]
  },
  {
   "cell_type": "markdown",
   "id": "a100972c-5365-4f62-aba5-0fadb451822f",
   "metadata": {},
   "source": [
    "- **Vektor**: Ein Vektor ist eine geordnete Menge von Zahlen, die oft als Punkte in einem Raum interpretiert werden können. Er wird normalerweise als Pfeil dargestellt, der von einem Punkt (dem Ursprung) zu einem anderen Punkt zeigt. Der Vektor hat eine Richtung und einen Betrag / eine Länge."
   ]
  },
  {
   "cell_type": "markdown",
   "id": "7439dc1c-0f1d-41db-9843-475eb27e6fa2",
   "metadata": {},
   "source": [
    "### 2. Darstellung:"
   ]
  },
  {
   "cell_type": "markdown",
   "id": "e0ebca5a-a037-4f72-a969-764e6ddae3a2",
   "metadata": {},
   "source": [
    "- **Notation**: Vektoren werden häufig in Kleinbuchstaben mit einem Pfeil über dem Buchstaben dargestellt, wie $\\vec{v}$, oder in Fettdruck, wie **v**. In einem [Koordinatensystem](Koordinatensystem.ipynb) wird ein Vektor in der Regel als $(x_1, x_2, \\ldots, x_n)$ dargestellt, wobei $n$ die Dimension des Vektors angibt.\n",
    "- **2D-Vektor Beispiel**: $\\vec{v} = (3, 4)$. Hier sind $3$ die x-Komponente und $4$ die y-Komponente des Vektors.\n",
    "\n",
    "- **3D-Vektor Beispiel**: $\\vec{v} = (3, 4, 5)$. Die zusätzliche z-Komponente $5$ erweitert den Vektor auf den dreidimensionalen Raum.\n",
    "\n",
    "Mathematisch wird der Betrag eines Vektors $\\vec{v} = (v_x, v_y, v_z)$ berechnet als:\n",
    "$\n",
    "||\\vec{v}|| = \\sqrt{v_1^2 + v_2^2 + \\cdots + v_n^2}\n",
    "$"
   ]
  },
  {
   "cell_type": "markdown",
   "id": "af931704-ef72-4312-a6d2-5f7e0f025bdc",
   "metadata": {},
   "source": [
    "### 3. Eigenschaften:"
   ]
  },
  {
   "cell_type": "markdown",
   "id": "922878a3-511b-4796-9e23-b701e121ca88",
   "metadata": {},
   "source": [
    "- Der **Betrag** eines Vektors gibt seine Länge an und wird durch die Quadratwurzel der Summe der Quadrate seiner Komponenten berechnet. Ähnlich der \"Hypotenuse\" eines Dreiecks mit den entsprechenden Kantenlängen.\n",
    "- **Richtung**: Die Richtung eines Vektors wird durch den Winkel angegeben, den er mit einer Achse (z.B. der x-Achse) bildet. Sie kann auch durch die Einheitsvektoren in einer bestimmten Richtung dargestellt werden."
   ]
  },
  {
   "cell_type": "code",
   "execution_count": 15,
   "id": "bff5ce97-ed05-45cf-9316-234f3bd7e545",
   "metadata": {},
   "outputs": [
    {
     "name": "stdout",
     "output_type": "stream",
     "text": [
      "2.8284271247461903\n"
     ]
    }
   ],
   "source": [
    "import math\n",
    "\n",
    "x = 2\n",
    "y = 2\n",
    "v = math.sqrt(x**2 + y**2)\n",
    "print(v)"
   ]
  },
  {
   "cell_type": "markdown",
   "id": "653ddc29-caf2-4fe0-9949-2f13e664b351",
   "metadata": {},
   "source": [
    "### Praktisches Beispiel:"
   ]
  },
  {
   "cell_type": "markdown",
   "id": "1068221f-d28c-49e2-8b22-4789b239fd36",
   "metadata": {},
   "source": [
    "Wenn man `x` Verstellt bewegt die Spitze des Vektors sich auf der Ebene der X-Achse (Horizontal) und wenn man `y` verändert bewegt er sich auf der Ebene der Y-Achse (Vertikal). Die Kombination der beiden Werte bestimmt, wo sich die Spitze des Vektors befindet und entscheidet somit die Richtung, die der Vektor vom Ursprung (in diesem Fall Nullpunkt) aus nimmt."
   ]
  },
  {
   "cell_type": "code",
   "execution_count": 1,
   "id": "0e9b854b-73af-4594-a330-1d2baeec284e",
   "metadata": {
    "jupyter": {
     "source_hidden": true
    }
   },
   "outputs": [
    {
     "data": {
      "application/vnd.jupyter.widget-view+json": {
       "model_id": "f55cbbc81013474a9227430920300fdb",
       "version_major": 2,
       "version_minor": 0
      },
      "text/plain": [
       "interactive(children=(FloatSlider(value=2.0, description='X-Wert', max=5.0, min=-5.0), FloatSlider(value=3.0, …"
      ]
     },
     "metadata": {},
     "output_type": "display_data"
    },
    {
     "data": {
      "text/plain": [
       "<function __main__.plot_vector(x, y)>"
      ]
     },
     "execution_count": 1,
     "metadata": {},
     "output_type": "execute_result"
    }
   ],
   "source": [
    "import numpy as np\n",
    "import matplotlib.pyplot as plt\n",
    "from ipywidgets import interact, FloatSlider\n",
    "import ipywidgets as widgets\n",
    "\n",
    "# Funktion zum Plotten des Vektors\n",
    "def plot_vector(x, y):\n",
    "    origin = np.array([0, 0])\n",
    "    vector = np.array([x, y])\n",
    "    \n",
    "    # Erstelle die Figur und die Achsen\n",
    "    plt.figure(figsize=(8, 6))\n",
    "    plt.quiver(*origin, *vector, angles='xy', scale_units='xy', scale=1, color='blue')\n",
    "    \n",
    "    # Setze die Grenzen der Achsen\n",
    "    plt.xlim(-5, 5)\n",
    "    plt.ylim(-5, 5)\n",
    "    \n",
    "    # Füge Gitterlinien hinzu\n",
    "    plt.grid()\n",
    "    \n",
    "    # Beschrifte die Achsen\n",
    "    plt.xlabel('X-Achse')\n",
    "    plt.ylabel('Y-Achse')\n",
    "    \n",
    "    # Füge einen Titel hinzu\n",
    "    plt.title('Interaktive Darstellung eines Vektors')\n",
    "    \n",
    "    # Zeichne die Achsenlinien\n",
    "    plt.axhline(0, color='black', linewidth=0.5, ls='--')\n",
    "    plt.axvline(0, color='black', linewidth=0.5, ls='--')\n",
    "    \n",
    "    # Zeige das Diagramm an\n",
    "    plt.show()\n",
    "\n",
    "# Interaktiver Schieberegler für x und y\n",
    "interact(plot_vector, \n",
    "         x=FloatSlider(value=2, min=-5, max=5, step=0.1, description='X-Wert'),\n",
    "         y=FloatSlider(value=3, min=-5, max=5, step=0.1, description='Y-Wert'))\n"
   ]
  },
  {
   "cell_type": "code",
   "execution_count": 6,
   "id": "6c5aaeef-98ed-4c81-bea5-99d842e68e92",
   "metadata": {
    "jupyter": {
     "source_hidden": true
    }
   },
   "outputs": [
    {
     "data": {
      "application/vnd.jupyter.widget-view+json": {
       "model_id": "ac73f3991b0f40eeb0a7ffee66412480",
       "version_major": 2,
       "version_minor": 0
      },
      "text/plain": [
       "interactive(children=(FloatSlider(value=2.0, description='X-Wert', max=5.0, min=-5.0), FloatSlider(value=3.0, …"
      ]
     },
     "metadata": {},
     "output_type": "display_data"
    },
    {
     "data": {
      "text/plain": [
       "<function __main__.plot_vector(x, y, z)>"
      ]
     },
     "execution_count": 6,
     "metadata": {},
     "output_type": "execute_result"
    }
   ],
   "source": [
    "import numpy as np\n",
    "import matplotlib.pyplot as plt\n",
    "from mpl_toolkits.mplot3d import Axes3D\n",
    "from ipywidgets import interact, FloatSlider\n",
    "\n",
    "# Funktion zum Plotten des Vektors in 3D\n",
    "def plot_vector(x, y, z):\n",
    "    origin = np.array([0, 0, 0])\n",
    "    vector = np.array([x, y, z])\n",
    "    \n",
    "    # Berechne die Richtung in Grad\n",
    "    angle_x = np.degrees(np.arctan2(y, x))  # Winkel mit der X-Achse\n",
    "    angle_y = np.degrees(np.arctan2(z, y))  # Winkel mit der Y-Achse\n",
    "    angle_z = np.degrees(np.arctan2(x, z))  # Winkel mit der Z-Achse\n",
    "    \n",
    "    # Erstelle die Figur und die 3D-Achsen\n",
    "    fig = plt.figure(figsize=(8, 6))\n",
    "    ax = fig.add_subplot(111, projection='3d')\n",
    "    \n",
    "    # Plotte den Vektor\n",
    "    ax.quiver(*origin, *vector, color='blue', arrow_length_ratio=0.1)\n",
    "\n",
    "    # Setze die Grenzen der Achsen\n",
    "    ax.set_xlim([-5, 5])\n",
    "    ax.set_ylim([-5, 5])\n",
    "    ax.set_zlim([-5, 5])\n",
    "    \n",
    "    # Beschrifte die Achsen\n",
    "    ax.set_xlabel('X-Achse')\n",
    "    ax.set_ylabel('Y-Achse')\n",
    "    ax.set_zlabel('Z-Achse')\n",
    "    \n",
    "    # Füge einen Titel hinzu\n",
    "    ax.set_title('Interaktive Darstellung eines 3D-Vektors')\n",
    "\n",
    "    # Zeichne die Achsenlinien\n",
    "    ax.plot([0, x], [0, y], [0, z], color='blue', linewidth=2)  # Vektor-Linie\n",
    "    \n",
    "    \n",
    "    # Setze die Textanzeige an einer festen Position\n",
    "    fixed_text_position = [4, -4, -4]  # Feste Position für die Winkelanzeige\n",
    "    ax.text(fixed_text_position[0], fixed_text_position[1], fixed_text_position[2], \n",
    "            f'Richtung:\\nX: {angle_x:.1f}°\\nY: {angle_y:.1f}°\\nZ: {angle_z:.1f}°', \n",
    "            color='black', fontsize=10, ha='center')\n",
    "\n",
    "    # Zeige das Diagramm an\n",
    "    plt.show()\n",
    "\n",
    "# Interaktiver Schieberegler für x, y und z\n",
    "interact(plot_vector, \n",
    "         x=FloatSlider(value=2, min=-5, max=5, step=0.1, description='X-Wert'),\n",
    "         y=FloatSlider(value=3, min=-5, max=5, step=0.1, description='Y-Wert'),\n",
    "         z=FloatSlider(value=1, min=-5, max=5, step=0.1, description='Z-Wert'))\n"
   ]
  },
  {
   "cell_type": "markdown",
   "id": "07518a56-a727-49e8-842e-362dff040424",
   "metadata": {},
   "source": [
    "  \n",
    "### 4. Operationen:"
   ]
  },
  {
   "cell_type": "markdown",
   "id": "ab13bf34-fc57-44ec-b380-d0d08397852f",
   "metadata": {},
   "source": [
    "Vektoren können durch verschiedene Operationen manipuliert werden:\n",
    "- **Addition**: Zwei Vektoren können addiert werden, indem ihre entsprechenden Komponenten addiert werden. \n",
    "  $$\n",
    "  \\vec{u} + \\vec{v} = (u_1 + v_1, u_2 + v_2)\n",
    "  $$\n",
    "- **Skalarmultiplikation**: Ein Vektor kann mit einer Zahl (einem Skalar) multipliziert werden, was seine Länge verändert, ohne die Richtung zu ändern.\n",
    "  $$\n",
    "  c \\cdot \\vec{v} = (c \\cdot v_1, c \\cdot v_2)\n",
    "  $$\n",
    "- **Dot-Produkt (Skalarprodukt)**: Dies ist eine Methode, um zwei Vektoren zu multiplizieren, um einen Skalarwert zu erhalten, der Informationen über den Winkel zwischen den Vektoren liefert.\n",
    "  $$\n",
    "  \\vec{u} \\cdot \\vec{v} = u_1 v_1 + u_2 v_2\n",
    "  $$\n",
    "  "
   ]
  },
  {
   "cell_type": "markdown",
   "id": "908ef83d-107e-434c-b152-e3fb550323da",
   "metadata": {},
   "source": [
    "### 5. Anwendungen:"
   ]
  },
  {
   "cell_type": "markdown",
   "id": "33c2f1ca-4468-41b1-a5d8-0d63b2d0966b",
   "metadata": {},
   "source": [
    "- **Mathematik**: In der linearen Algebra sind Vektoren wichtig für die Lösung von Gleichungssystemen, die Darstellung von geometrischen Objekten und die Transformationen im Raum.\n",
    "- **Physik**: Vektoren werden verwendet, um Kräfte, Geschwindigkeiten und Beschleunigungen zu beschreiben, da sie sowohl eine Richtung als auch einen Betrag haben.\n",
    "- **Maschinelles Lernen**: In der Datenanalyse werden Merkmale häufig als Vektoren dargestellt, um die Beziehungen zwischen verschiedenen Variablen zu untersuchen."
   ]
  },
  {
   "cell_type": "markdown",
   "id": "0fe54baf-4641-42a3-bdd6-fe7ce95513f3",
   "metadata": {},
   "source": [
    "### 6. Dimensionen:"
   ]
  },
  {
   "cell_type": "markdown",
   "id": "cee09711-f8b3-4636-b986-ac48ec27ca10",
   "metadata": {
    "editable": true,
    "slideshow": {
     "slide_type": ""
    },
    "tags": []
   },
   "source": [
    "- **2D-Vektoren**: Vektoren in einer zweidimensionalen Ebene, z.B. $(x, y)$.\n",
    "- **3D-Vektoren**: Vektoren im dreidimensionalen Raum, z.B. $(x, y, z)$.\n",
    "- **Höhere Dimensionen**: Vektoren können in beliebig vielen Dimensionen existieren, was in vielen mathematischen und statistischen Anwendungen nützlich ist.\n",
    "\n",
    "    Siehe auch: [Polynome](../../Themen/Maschine_Learning/Polynome.ipynb)"
   ]
  },
  {
   "cell_type": "code",
   "execution_count": null,
   "id": "6dcbd478-a8b2-49b0-a8d8-912868c74d89",
   "metadata": {},
   "outputs": [],
   "source": []
  }
 ],
 "metadata": {
  "kernelspec": {
   "display_name": "Python 3 (ipykernel)",
   "language": "python",
   "name": "python3"
  },
  "language_info": {
   "codemirror_mode": {
    "name": "ipython",
    "version": 3
   },
   "file_extension": ".py",
   "mimetype": "text/x-python",
   "name": "python",
   "nbconvert_exporter": "python",
   "pygments_lexer": "ipython3",
   "version": "3.12.6"
  }
 },
 "nbformat": 4,
 "nbformat_minor": 5
}
