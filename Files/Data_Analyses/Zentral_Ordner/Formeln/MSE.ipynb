{
 "cells": [
  {
   "cell_type": "markdown",
   "id": "09d6ae95-3f25-4172-8e9f-66ccf6d02b32",
   "metadata": {},
   "source": [
    "# Mean Squared Error (MSE)"
   ]
  },
  {
   "attachments": {},
   "cell_type": "markdown",
   "id": "e849844e-7538-4c75-967c-42ee568bd6e0",
   "metadata": {},
   "source": [
    "Der **Mean Squared Error (MSE)** ist ein Maß dafür, wie gut ein Regressionsmodell Vorhersagen macht. Er berechnet den Durchschnitt der **quadratischen Fehler** zwischen den tatsächlichen Werten und den vorhergesagten Werten. Ein kleinerer MSE bedeutet, dass das Modell bessere Vorhersagen liefert.\n",
    "\n",
    "### Formel für den MSE:\n",
    "\n",
    "$$\n",
    "\\text{MSE} = \\frac{1}{n} \\sum_{i=1}^{n} (y_i - \\hat{y}_i)^2\n",
    "$$\n",
    "\n",
    "### Erklärung der Formel:\n",
    "\n",
    "- $n$ ist die Anzahl der Datenpunkte (Anzahl der Beobachtungen).\n",
    "- $y_i$ ist der **tatsächliche** Wert der Zielvariablen beim $i$-ten Datenpunkt.\n",
    "- $\\hat{y}_i$ ist der **vorhergesagte** Wert des Modells für den $i$-ten Datenpunkt.\n",
    "- $(y_i - \\hat{y}_i)^2$ ist der quadratische Fehler für den $i$-ten Datenpunkt.\n",
    "\n",
    "### Bedeutung:\n",
    "\n",
    "- Die Differenz $y_i - \\hat{y}_i$ zeigt den Fehler zwischen tatsächlichem und vorhergesagtem Wert.\n",
    "- Durch das Quadrieren der Fehler werden sowohl positive als auch negative Abweichungen positiv und größere Fehler stärker gewichtet.\n",
    "- Der MSE gibt uns den **durchschnittlichen quadratischen Fehler** und zeigt, wie stark die Vorhersagen vom tatsächlichen Ergebnis abweichen."
   ]
  },
  {
   "cell_type": "markdown",
   "id": "6f17d3e6-2e51-4e9e-8b62-208ab75e8a4d",
   "metadata": {},
   "source": [
    "### MSE-Berechnung: Schritt-für-Schritt\n",
    "\n",
    "Gegeben:\n",
    "- Tatsächliche Werte $y = [3, -0.5, 2, 7]$\n",
    "- Vorhergesagte Werte $\\hat{y} = [2.5, 0.0, 2, 8]$\n",
    "\n",
    "#### Schritte zur Berechnung des MSE\n",
    "\n",
    "1. **Quadratische Abweichung**: Für jeden Datenpunkt berechnen wir die Differenz zwischen dem tatsächlichen und dem vorhergesagten Wert, quadrieren die Differenz und summieren die Ergebnisse:\n",
    "   $\n",
    "   (3 - 2.5)^2 = 0.25\n",
    "   $\n",
    "   $\n",
    "   (-0.5 - 0.0)^2 = 0.25\n",
    "   $\n",
    "   $\n",
    "   (2 - 2)^2 = 0\n",
    "   $\n",
    "   $\n",
    "   (7 - 8)^2 = 1\n",
    "   $\n",
    "\n",
    "2. **Durchschnitt der quadratischen Fehler**: Addiere alle quadratischen Fehler und teile durch die Anzahl der Datenpunkte:\n",
    "   $$\n",
    "   MSE = \\frac{0.25 + 0.25 + 0 + 1}{4} = \\frac{1.5}{4} = 0.375\n",
    "   $$\n",
    "\n",
    "Der MSE für diese Daten ist also $0.375$."
   ]
  },
  {
   "cell_type": "code",
   "execution_count": 1,
   "id": "3812977e-de2d-44af-97fc-60624157ba71",
   "metadata": {},
   "outputs": [
    {
     "name": "stdout",
     "output_type": "stream",
     "text": [
      "Mittlere quadratische Abweichung (MSE): 0.375\n"
     ]
    }
   ],
   "source": [
    "import numpy as np\n",
    "from sklearn.metrics import mean_squared_error\n",
    "\n",
    "# Tatsächliche und vorhergesagte Werte\n",
    "y_true = np.array([3, -0.5, 2, 7])\n",
    "y_pred = np.array([2.5, 0.0, 2, 8])\n",
    "\n",
    "# Berechnung des MSE\n",
    "mse = mean_squared_error(y_true, y_pred)\n",
    "\n",
    "print(\"Mittlere quadratische Abweichung (MSE):\", mse)"
   ]
  },
  {
   "cell_type": "code",
   "execution_count": null,
   "id": "22a8a4e3-fc83-4f65-b990-7ba9f1caab28",
   "metadata": {},
   "outputs": [],
   "source": []
  }
 ],
 "metadata": {
  "kernelspec": {
   "display_name": "Python 3 (ipykernel)",
   "language": "python",
   "name": "python3"
  },
  "language_info": {
   "codemirror_mode": {
    "name": "ipython",
    "version": 3
   },
   "file_extension": ".py",
   "mimetype": "text/x-python",
   "name": "python",
   "nbconvert_exporter": "python",
   "pygments_lexer": "ipython3",
   "version": "3.12.6"
  }
 },
 "nbformat": 4,
 "nbformat_minor": 5
}
