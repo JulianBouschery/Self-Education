{
 "cells": [
  {
   "cell_type": "markdown",
   "id": "b665722d-c662-42e7-9996-039627157f2b",
   "metadata": {},
   "source": [
    "# **Ableitung und Funktionsminimierung** "
   ]
  },
  {
   "cell_type": "markdown",
   "id": "dc72f0aa-fbc8-4ad7-ace0-1b67057a7be4",
   "metadata": {},
   "source": [
    "(Auf Englisch \"Derivative and Function minimization\")"
   ]
  },
  {
   "cell_type": "markdown",
   "id": "c5f7dc96-1b1f-49a1-8ae2-c69c21499f6a",
   "metadata": {},
   "source": [
    "## 1. Ableitung: "
   ]
  },
  {
   "cell_type": "markdown",
   "id": "c85109be-6dcb-46d4-8f72-63424ea42f68",
   "metadata": {},
   "source": [
    "Die Ableitung einer Funktion beschreibt, wie sich der Funktionswert ändert, wenn sich der Eingabewert (x-Wert) minimal verändert. Sie gibt die Steigung der Funktion an jedem Punkt an und zeigt, ob die Funktion in diesem Bereich steigt, fällt oder konstant ist. Mathematisch ist die Ableitung also eine Funktion, die die Änderungsrate eines bestimmten Werts (z. B. einer Position) mit Bezug auf eine Variable (wie die Zeit) beschreibt. Sie wird durch das Symbol $f'(x)$ oder $\\frac{df}{dx}$ dargestellt."
   ]
  },
  {
   "cell_type": "markdown",
   "id": "4c15e175-ab18-4382-85da-5b45843985c6",
   "metadata": {},
   "source": [
    "Hier ist ein Beispiel zur Ableitung der Funktion $ f(x) = x^2 $ und zur grafischen Darstellung mit Matplotlib:\n",
    "\n",
    "1. Die Funktion $ f(x) = x^2 $ hat eine Ableitung von $ f'(x) = 2x $. \n",
    "2. Diese Ableitung beschreibt die Steigung der Funktion für jeden Punkt auf der $ x $-Achse.\n",
    "\n",
    "Ich erstelle ein Diagramm mit der Originalfunktion $ f(x) $ und ihrer Ableitung $ f'(x) $, um die Steigungsänderungen anschaulich darzustellen:"
   ]
  },
  {
   "cell_type": "code",
   "execution_count": 2,
   "id": "96e1a41c-cd5e-4db5-9afb-a0265f4d8002",
   "metadata": {
    "jupyter": {
     "source_hidden": true
    }
   },
   "outputs": [
    {
     "data": {
      "application/vnd.jupyter.widget-view+json": {
       "model_id": "f711810f849243b28d52d9d5e94571d7",
       "version_major": 2,
       "version_minor": 0
      },
      "text/plain": [
       "interactive(children=(FloatSlider(value=0.0, description='x-Tangentenpunkt', max=10.0, min=-10.0), Output()), …"
      ]
     },
     "metadata": {},
     "output_type": "display_data"
    },
    {
     "data": {
      "text/plain": [
       "<function __main__.plot_with_tangent(x_tangent)>"
      ]
     },
     "execution_count": 2,
     "metadata": {},
     "output_type": "execute_result"
    }
   ],
   "source": [
    "import numpy as np\n",
    "import matplotlib.pyplot as plt\n",
    "from ipywidgets import interact, FloatSlider\n",
    "import ipywidgets as widgets\n",
    "\n",
    "# Definiere die Funktion und ihre Ableitung\n",
    "def f(x):\n",
    "    return x**2\n",
    "\n",
    "def f_prime(x):\n",
    "    return 2 * x\n",
    "\n",
    "# Funktion zur Darstellung der Kurve mit der Tangente an einem ausgewählten Punkt\n",
    "def plot_with_tangent(x_tangent):\n",
    "    # x-Wertebereich und Berechnung der Funktionswerte\n",
    "    x = np.linspace(-10, 10, 400)\n",
    "    y = f(x)\n",
    "    \n",
    "    # Plot der Funktion f(x)\n",
    "    plt.figure(figsize=(10, 6))\n",
    "    plt.plot(x, y, label=\"f(x) = x^2\", color=\"blue\")\n",
    "    \n",
    "    # Berechnung des Tangentenpunkts und Steigung an x_tangent\n",
    "    y_tangent = f(x_tangent)\n",
    "    slope = f_prime(x_tangent)\n",
    "    \n",
    "    # Zeichne die Tangente an den ausgewählten Punkt\n",
    "    tangent_line = slope * (x - x_tangent) + y_tangent\n",
    "    plt.plot(x, tangent_line, label=f\"Tangente bei x = {x_tangent}\", color=\"red\", linestyle=\"--\")\n",
    "    \n",
    "    # Markiere den Tangentenpunkt\n",
    "    plt.scatter(x_tangent, y_tangent, color=\"red\", s=50)\n",
    "    \n",
    "    # Plotanpassungen\n",
    "    plt.title(\"Funktion f(x) = x^2 und Tangente an einem Punkt\")\n",
    "    plt.xlabel(\"x\")\n",
    "    plt.ylabel(\"y\")\n",
    "    plt.axhline(0, color='black', linewidth=0.5)\n",
    "    plt.axvline(0, color='black', linewidth=0.5)\n",
    "    plt.legend()\n",
    "    plt.grid(True)\n",
    "    plt.show()\n",
    "\n",
    "# Interaktiver Schieberegler zur Auswahl des Tangentenpunkts x_tangent\n",
    "interact(plot_with_tangent, x_tangent=FloatSlider(value=0, min=-10, max=10, step=0.1, description='x-Tangentenpunkt'))\n"
   ]
  },
  {
   "cell_type": "markdown",
   "id": "09661f83-e83e-4706-af3d-4dccd0b62a26",
   "metadata": {},
   "source": [
    "In der Grafik siehst du die Funktion $ f(x) = x^2 $ als blaue Kurve und eine [Tangnete](../Fachwörter/Tangente.ipynb) an einem gewählten Punkt, markiert durch den roten Punkt. Die Tangente (rote gestrichelte Linie) repräsentiert die Steigung der **Ableitung** $ f'(x) = 2x $ an diesem Punkt.\n",
    "\n",
    "Indem du den Schieberegler verschiebst, ändert sich die Position des Tangentenpunkts entlang der Kurve, und du kannst beobachten, wie die Steigung der Ableitung sich abhängig vom Wert von $ x $ verändert."
   ]
  },
  {
   "cell_type": "markdown",
   "id": "5bd86f3c-aa6a-4ed5-b536-050aace4337c",
   "metadata": {},
   "source": [
    "## 2. Funktionsminimierung: "
   ]
  },
  {
   "cell_type": "markdown",
   "id": "cdb006b5-482f-4ce7-b5b4-11bd67236d5b",
   "metadata": {},
   "source": [
    "Funktionsminimierung bedeutet, den Punkt zu finden, an dem eine Funktion ihren kleinstmöglichen Wert erreicht, auch bekannt als das Minimum. In der Regel wird die Ableitung verwendet, um den Punkt zu finden, an dem die Steigung Null ist, was darauf hindeutet, dass die Funktion an diesem Punkt weder steigt noch fällt. Bei Problemen wie Kostenoptimierung oder Fehlerverringerung ist das Auffinden des Minimums einer Funktion besonders relevant."
   ]
  },
  {
   "cell_type": "markdown",
   "id": "bc28c353-0076-4c50-a546-7f3aa86358fa",
   "metadata": {
    "jp-MarkdownHeadingCollapsed": true
   },
   "source": [
    "# Beispiel"
   ]
  },
  {
   "cell_type": "markdown",
   "id": "2f6be3a8-4192-40c5-8d6d-26a07a04724c",
   "metadata": {},
   "source": [
    "$\n",
    "f(x) = x^2 - 4x + 3\n",
    "$"
   ]
  },
  {
   "cell_type": "markdown",
   "id": "7bd215ea-cf49-48c1-ba2c-b05fed750f9c",
   "metadata": {},
   "source": [
    "Wir werden:\n",
    "1. Die Ableitung berechnen und auf Null setzen, um die [kritischen Punkte](critical_points.ipynb) (es kann mehr als einen geben) zu finden.\n",
    "2. Den gefundenen kritischen Punkt überprüfen, ob es sich um ein Minimum handelt."
   ]
  },
  {
   "cell_type": "markdown",
   "id": "581802df-e827-4c31-9aec-2f4b2dc5a2dd",
   "metadata": {},
   "source": [
    "### Schritt 1: Berechnung der ersten Ableitung und Finden der Kritischen Punkte"
   ]
  },
  {
   "cell_type": "markdown",
   "id": "da18832b-e377-42e9-bce5-f5d6b64ef1ee",
   "metadata": {},
   "source": [
    "Die Ableitung von $ f(x) = x^2 - 4x + 3 $ ist:\n",
    "\n",
    "$\n",
    "f'(x) = 2x - 4\n",
    "$\n",
    "\n",
    "Um die kritischen Punkte zu finden, setzen wir die Ableitung gleich null:\n",
    "\n",
    "$\n",
    "2x - 4 = 0\n",
    "$\n",
    "\n",
    "Lösen wir diese Gleichung nach $ x $ auf:\n",
    "\n",
    "$\n",
    "x = 2\n",
    "$"
   ]
  },
  {
   "cell_type": "markdown",
   "id": "cd48ba0b-de9c-44e3-b4ec-3184396e8518",
   "metadata": {},
   "source": [
    "### Schritt 2: Überprüfung des Kritischen Punktes mit der zweiten Ableitung"
   ]
  },
  {
   "cell_type": "markdown",
   "id": "e7eeb657-7ddf-4ab1-bbe2-5f863df5dfbc",
   "metadata": {},
   "source": [
    "Wir berechnen die zweite Ableitung, um zu prüfen, ob $ x = 2 $ tatsächlich ein Minimum ist:\n",
    "\n",
    "$\n",
    "f''(x) = 2\n",
    "$\n",
    "\n",
    "Da die zweite Ableitung positiv ist ($ f''(x) = 2 > 0 $), bestätigt dies, dass $ x = 2 $ ein Minimum der Funktion ist."
   ]
  },
  {
   "cell_type": "markdown",
   "id": "b75fa4a9-b9fa-4ee2-81b3-7d2ddb153cc6",
   "metadata": {},
   "source": [
    "### Schritt 3: Berechnung des Funktionswerts am Minimum"
   ]
  },
  {
   "cell_type": "markdown",
   "id": "34cc58c7-a8c5-4581-8d47-c73165e44d1e",
   "metadata": {},
   "source": [
    "Nun setzen wir $ x = 2 $ in die ursprüngliche Funktion ein, um den minimalen Funktionswert zu erhalten:\n",
    "\n",
    "$\n",
    "f(2) = 2^2 - 4 \\cdot 2 + 3 = 4 - 8 + 3 = -1\n",
    "$"
   ]
  },
  {
   "cell_type": "markdown",
   "id": "adc13390-04f8-4acb-8ca8-581e03cc947f",
   "metadata": {},
   "source": [
    "[Detailierte Aufschlüsselung der Rechnung](../Übungsaufgaben/ex_Ableitung.ipynb)"
   ]
  },
  {
   "cell_type": "markdown",
   "id": "6369d715-d390-4122-9d75-3ef058795bfe",
   "metadata": {},
   "source": [
    "### Zusammenfassung\n",
    "\n",
    "Das Minimum von $ f(x) = x^2 - 4x + 3 $ liegt bei $ x = 2 $ und der Funktionswert an dieser Stelle ist $ f(2) = -1 $."
   ]
  },
  {
   "cell_type": "markdown",
   "id": "897b6a0b-5b71-43fe-a206-e9000658303e",
   "metadata": {},
   "source": [
    "### Grafische Darstellung in Python"
   ]
  },
  {
   "cell_type": "markdown",
   "id": "3058fd80-a062-4b2c-8044-25b95497e448",
   "metadata": {},
   "source": [
    "Lass uns das Ganze noch grafisch darstellen und den Punkt markieren, an dem das Minimum liegt:"
   ]
  },
  {
   "cell_type": "code",
   "execution_count": 3,
   "id": "7cbffa21-a583-4f08-bb77-1b35f6e1e52a",
   "metadata": {
    "jupyter": {
     "source_hidden": true
    }
   },
   "outputs": [
    {
     "data": {
      "image/png": "[encoded data removed]",
      "text/plain": [
       "<Figure size 800x600 with 1 Axes>"
      ]
     },
     "metadata": {},
     "output_type": "display_data"
    }
   ],
   "source": [
    "import numpy as np\n",
    "import matplotlib.pyplot as plt\n",
    "\n",
    "# Definiere die Funktion und deren Ableitung\n",
    "def f(x):\n",
    "    return x**2 - 4*x + 3\n",
    "\n",
    "def f_prime(x):\n",
    "    return 2*x - 4\n",
    "\n",
    "# Erstelle x-Werte für die Grafik\n",
    "x = np.linspace(-1, 5, 100)\n",
    "y = f(x)\n",
    "\n",
    "# Plotten der Funktion\n",
    "plt.figure(figsize=(8, 6))\n",
    "plt.plot(x, y, label=\"f(x) = x^2 - 4x + 3\", color=\"blue\")\n",
    "\n",
    "# Markiere das Minimum\n",
    "x_min = 2\n",
    "y_min = f(x_min)\n",
    "plt.scatter(x_min, y_min, color=\"red\", zorder=5)\n",
    "plt.text(x_min, y_min, f\"Minimum bei (x={x_min}, y={y_min})\", ha=\"right\", color=\"red\")\n",
    "\n",
    "# Konfigurationen für den Plot\n",
    "plt.axhline(0, color=\"black\", linewidth=0.5)\n",
    "plt.axvline(0, color=\"black\", linewidth=0.5)\n",
    "plt.xlabel(\"x\")\n",
    "plt.ylabel(\"f(x)\")\n",
    "plt.title(\"Darstellung der Funktion und ihres Minimums\")\n",
    "plt.legend()\n",
    "plt.grid()\n",
    "plt.show()"
   ]
  },
  {
   "cell_type": "markdown",
   "id": "ffb8b14e-a678-4bfd-b065-a10e7d7a19ce",
   "metadata": {},
   "source": [
    "### Erklärung der Grafik"
   ]
  },
  {
   "cell_type": "markdown",
   "id": "b8ad80a1-7eb1-481e-88b2-7274c54cc5e8",
   "metadata": {},
   "source": [
    "In der Grafik siehst du die Parabel $ f(x) = x^2 - 4x + 3 $, die eine nach oben geöffnete Form hat. Der rote Punkt markiert das Minimum der Funktion bei $ x = 2 $, wo der Funktionswert $( f(x) = -1 $ ist."
   ]
  },
  {
   "cell_type": "code",
   "execution_count": null,
   "id": "6c0dbbc3-d35b-4bbf-84fc-c515562cdad4",
   "metadata": {},
   "outputs": [],
   "source": []
  }
 ],
 "metadata": {
  "kernelspec": {
   "display_name": "Python 3 (ipykernel)",
   "language": "python",
   "name": "python3"
  },
  "language_info": {
   "codemirror_mode": {
    "name": "ipython",
    "version": 3
   },
   "file_extension": ".py",
   "mimetype": "text/x-python",
   "name": "python",
   "nbconvert_exporter": "python",
   "pygments_lexer": "ipython3",
   "version": "3.12.6"
  }
 },
 "nbformat": 4,
 "nbformat_minor": 5
}
