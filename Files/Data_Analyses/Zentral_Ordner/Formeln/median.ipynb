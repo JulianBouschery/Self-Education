{
 "cells": [
  {
   "cell_type": "markdown",
   "id": "e3d65841-e255-4907-a89d-d1d3b78d79fa",
   "metadata": {},
   "source": [
    "# Median"
   ]
  },
  {
   "cell_type": "markdown",
   "id": "28606fa4-c084-419f-aec3-b815e446df8f",
   "metadata": {},
   "source": [
    "Der Wert, der in der Mitte eines geordneten Datensatzes steht. Bei einer geraden Anzahl von Werten wird der Durchschnitt der beiden mittleren Werte genommen."
   ]
  },
  {
   "cell_type": "code",
   "execution_count": null,
   "id": "98eb7f5e-d81f-4768-bfa3-bac37c895b18",
   "metadata": {},
   "outputs": [],
   "source": []
  }
 ],
 "metadata": {
  "kernelspec": {
   "display_name": "Python 3 (ipykernel)",
   "language": "python",
   "name": "python3"
  },
  "language_info": {
   "codemirror_mode": {
    "name": "ipython",
    "version": 3
   },
   "file_extension": ".py",
   "mimetype": "text/x-python",
   "name": "python",
   "nbconvert_exporter": "python",
   "pygments_lexer": "ipython3",
   "version": "3.12.6"
  }
 },
 "nbformat": 4,
 "nbformat_minor": 5
}
