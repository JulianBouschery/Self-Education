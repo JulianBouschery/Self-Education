{
 "cells": [
  {
   "cell_type": "markdown",
   "id": "d7f6d1af-ae1c-4926-9c7a-93d98cb1541c",
   "metadata": {},
   "source": [
    "# Inhaltsverzeichnis der Formeln"
   ]
  },
  {
   "cell_type": "markdown",
   "id": "c033dd15-7b27-4554-9076-b80cf88da80c",
   "metadata": {},
   "source": [
    "[Boxplot und Quartile](Boxplot_Quartil.ipynb)"
   ]
  },
  {
   "cell_type": "markdown",
   "id": "d4dc0aff-361f-44c1-b611-d21e7942b98f",
   "metadata": {},
   "source": [
    "[Accuracy](Accuracy.ipynb)"
   ]
  },
  {
   "cell_type": "markdown",
   "id": "b87d219c-95e8-4bb6-89c5-0564597df0bb",
   "metadata": {},
   "source": [
    "[Bestimmtheitsmaß](Bestimmtheitsmaß.ipynb)"
   ]
  },
  {
   "cell_type": "markdown",
   "id": "c155d3cd-160c-43f3-829f-6c0f9f6ab262",
   "metadata": {},
   "source": [
    "[Bias Off-Set](Bias_Off_Set.ipynb)"
   ]
  },
  {
   "cell_type": "markdown",
   "id": "27fc1d97-eb8b-4a26-a0ba-124d75ea5cd2",
   "metadata": {},
   "source": [
    "[Vektoren](Vector.ipynb)"
   ]
  },
  {
   "cell_type": "code",
   "execution_count": null,
   "id": "a0e4df4d-4990-4ac0-b836-b98169247751",
   "metadata": {},
   "outputs": [],
   "source": []
  }
 ],
 "metadata": {
  "kernelspec": {
   "display_name": "Python 3 (ipykernel)",
   "language": "python",
   "name": "python3"
  },
  "language_info": {
   "codemirror_mode": {
    "name": "ipython",
    "version": 3
   },
   "file_extension": ".py",
   "mimetype": "text/x-python",
   "name": "python",
   "nbconvert_exporter": "python",
   "pygments_lexer": "ipython3",
   "version": "3.12.6"
  }
 },
 "nbformat": 4,
 "nbformat_minor": 5
}
