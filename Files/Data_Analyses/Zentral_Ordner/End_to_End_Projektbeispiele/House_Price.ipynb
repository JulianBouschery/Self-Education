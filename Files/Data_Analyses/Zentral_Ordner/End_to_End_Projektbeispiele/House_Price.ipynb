{
 "cells": [
  {
   "cell_type": "markdown",
   "id": "573316ac-1c79-42ce-ac49-ca4a1bc8554c",
   "metadata": {},
   "source": [
    "# Datacleaning am House-Price Datensatz"
   ]
  },
  {
   "cell_type": "markdown",
   "id": "93e313f7-e5c6-470f-a3e6-6caa3bb5fe5a",
   "metadata": {},
   "source": [
    "Quelle: https://www.kaggle.com/c/house-prices-advanced-regression-techniques/data "
   ]
  },
  {
   "cell_type": "code",
   "execution_count": 7,
   "id": "0e89be98-bb0e-4638-8d10-065f45780c9d",
   "metadata": {},
   "outputs": [
    {
     "name": "stdout",
     "output_type": "stream",
     "text": [
      "   Id  MSSubClass MSZoning  LotFrontage  LotArea Street Alley LotShape  \\\n",
      "0   1          60       RL         65.0     8450   Pave   NaN      Reg   \n",
      "1   2          20       RL         80.0     9600   Pave   NaN      Reg   \n",
      "2   3          60       RL         68.0    11250   Pave   NaN      IR1   \n",
      "3   4          70       RL         60.0     9550   Pave   NaN      IR1   \n",
      "4   5          60       RL         84.0    14260   Pave   NaN      IR1   \n",
      "\n",
      "  LandContour Utilities  ... PoolArea PoolQC Fence MiscFeature MiscVal MoSold  \\\n",
      "0         Lvl    AllPub  ...        0    NaN   NaN         NaN       0      2   \n",
      "1         Lvl    AllPub  ...        0    NaN   NaN         NaN       0      5   \n",
      "2         Lvl    AllPub  ...        0    NaN   NaN         NaN       0      9   \n",
      "3         Lvl    AllPub  ...        0    NaN   NaN         NaN       0      2   \n",
      "4         Lvl    AllPub  ...        0    NaN   NaN         NaN       0     12   \n",
      "\n",
      "  YrSold  SaleType  SaleCondition  SalePrice  \n",
      "0   2008        WD         Normal     208500  \n",
      "1   2007        WD         Normal     181500  \n",
      "2   2008        WD         Normal     223500  \n",
      "3   2006        WD        Abnorml     140000  \n",
      "4   2008        WD         Normal     250000  \n",
      "\n",
      "[5 rows x 81 columns]\n",
      "\n",
      "Fehlende Werte in den Spalten:\n"
     ]
    }
   ],
   "source": [
    "import pandas as pd\n",
    "\n",
    "# Housing-Datensatz laden (CSV-Datei herunterladen und den Pfad anpassen)\n",
    "df = pd.read_csv('../Datensätze/house_price.csv')\n",
    "\n",
    "# Die ersten Zeilen des Datensatzes anzeigen\n",
    "print(df.head())\n",
    "\n",
    "# Überblick über die fehlenden Werte in jeder Spalte\n",
    "print(\"\\nFehlende Werte in den Spalten:\")\n"
   ]
  },
  {
   "cell_type": "markdown",
   "id": "6a9ef043-15f0-477e-8ec0-69370b7e89c7",
   "metadata": {},
   "source": [
    "2. Umgang mit fehlenden Werten\n",
    "\n",
    "In diesem Schritt lernst du verschiedene Techniken zur Bereinigung und zum Umgang mit fehlenden Daten.\n",
    "\n",
    "A) Entfernen von fehlenden Werten"
   ]
  },
  {
   "cell_type": "code",
   "execution_count": null,
   "id": "5a1a5fc1-da5b-4869-b204-e7da96ed1641",
   "metadata": {},
   "outputs": [],
   "source": [
    "Siehe drop na"
   ]
  },
  {
   "cell_type": "code",
   "execution_count": 8,
   "id": "514d077d-d6f0-440c-a5d5-6c830914d44a",
   "metadata": {},
   "outputs": [
    {
     "ename": "ValueError",
     "evalue": "Need to specify at least one of 'labels', 'index' or 'columns'",
     "output_type": "error",
     "traceback": [
      "\u001b[1;31m---------------------------------------------------------------------------\u001b[0m",
      "\u001b[1;31mValueError\u001b[0m                                Traceback (most recent call last)",
      "\u001b[1;32m~\\AppData\\Local\\Temp\\ipykernel_17460\\1583702990.py\u001b[0m in \u001b[0;36m?\u001b[1;34m()\u001b[0m\n\u001b[0;32m      1\u001b[0m \u001b[1;31m# Entfernen von Zeilen mit fehlenden Werten in der Spalte 'Alley'\u001b[0m\u001b[1;33m\u001b[0m\u001b[1;33m\u001b[0m\u001b[0m\n\u001b[0;32m      2\u001b[0m \u001b[0mdf_cleaned\u001b[0m \u001b[1;33m=\u001b[0m \u001b[0mdf\u001b[0m\u001b[1;33m.\u001b[0m\u001b[0mdropna\u001b[0m\u001b[1;33m(\u001b[0m\u001b[1;33m)\u001b[0m\u001b[1;33m\u001b[0m\u001b[1;33m\u001b[0m\u001b[0m\n\u001b[0;32m      3\u001b[0m \u001b[1;33m\u001b[0m\u001b[0m\n\u001b[0;32m      4\u001b[0m \u001b[1;31m# Entfernen von Spalten mit vielen fehlenden Werten (z.B. 'PoolQC')\u001b[0m\u001b[1;33m\u001b[0m\u001b[1;33m\u001b[0m\u001b[0m\n\u001b[1;32m----> 5\u001b[1;33m \u001b[0mdf_cleaned\u001b[0m \u001b[1;33m=\u001b[0m \u001b[0mdf\u001b[0m\u001b[1;33m.\u001b[0m\u001b[0mdrop\u001b[0m\u001b[1;33m(\u001b[0m\u001b[1;33m)\u001b[0m\u001b[1;33m\u001b[0m\u001b[1;33m\u001b[0m\u001b[0m\n\u001b[0m\u001b[0;32m      6\u001b[0m \u001b[1;33m\u001b[0m\u001b[0m\n\u001b[0;32m      7\u001b[0m \u001b[0mprint\u001b[0m\u001b[1;33m(\u001b[0m\u001b[1;34m\"\\nDaten nach dem Entfernen fehlender Werte:\"\u001b[0m\u001b[1;33m)\u001b[0m\u001b[1;33m\u001b[0m\u001b[1;33m\u001b[0m\u001b[0m\n\u001b[0;32m      8\u001b[0m \u001b[0mprint\u001b[0m\u001b[1;33m(\u001b[0m\u001b[0mdf_cleaned\u001b[0m\u001b[1;33m.\u001b[0m\u001b[0misnull\u001b[0m\u001b[1;33m(\u001b[0m\u001b[1;33m)\u001b[0m\u001b[1;33m.\u001b[0m\u001b[0msum\u001b[0m\u001b[1;33m(\u001b[0m\u001b[1;33m)\u001b[0m\u001b[1;33m)\u001b[0m\u001b[1;33m\u001b[0m\u001b[1;33m\u001b[0m\u001b[0m\n",
      "\u001b[1;32m~\\Desktop\\Data-Analyst\\Kurs_VE\\Lib\\site-packages\\pandas\\core\\frame.py\u001b[0m in \u001b[0;36m?\u001b[1;34m(self, labels, axis, index, columns, level, inplace, errors)\u001b[0m\n\u001b[0;32m   5577\u001b[0m                 \u001b[0mweight\u001b[0m  \u001b[1;36m250.0\u001b[0m   \u001b[1;36m150.0\u001b[0m\u001b[1;33m\u001b[0m\u001b[1;33m\u001b[0m\u001b[0m\n\u001b[0;32m   5578\u001b[0m         \u001b[0mfalcon\u001b[0m  \u001b[0mspeed\u001b[0m   \u001b[1;36m320.0\u001b[0m   \u001b[1;36m250.0\u001b[0m\u001b[1;33m\u001b[0m\u001b[1;33m\u001b[0m\u001b[0m\n\u001b[0;32m   5579\u001b[0m                 \u001b[0mweight\u001b[0m  \u001b[1;36m1.0\u001b[0m     \u001b[1;36m0.8\u001b[0m\u001b[1;33m\u001b[0m\u001b[1;33m\u001b[0m\u001b[0m\n\u001b[0;32m   5580\u001b[0m         \"\"\"\n\u001b[1;32m-> 5581\u001b[1;33m         return super().drop(\n\u001b[0m\u001b[0;32m   5582\u001b[0m             \u001b[0mlabels\u001b[0m\u001b[1;33m=\u001b[0m\u001b[0mlabels\u001b[0m\u001b[1;33m,\u001b[0m\u001b[1;33m\u001b[0m\u001b[1;33m\u001b[0m\u001b[0m\n\u001b[0;32m   5583\u001b[0m             \u001b[0maxis\u001b[0m\u001b[1;33m=\u001b[0m\u001b[0maxis\u001b[0m\u001b[1;33m,\u001b[0m\u001b[1;33m\u001b[0m\u001b[1;33m\u001b[0m\u001b[0m\n\u001b[0;32m   5584\u001b[0m             \u001b[0mindex\u001b[0m\u001b[1;33m=\u001b[0m\u001b[0mindex\u001b[0m\u001b[1;33m,\u001b[0m\u001b[1;33m\u001b[0m\u001b[1;33m\u001b[0m\u001b[0m\n",
      "\u001b[1;32m~\\Desktop\\Data-Analyst\\Kurs_VE\\Lib\\site-packages\\pandas\\core\\generic.py\u001b[0m in \u001b[0;36m?\u001b[1;34m(self, labels, axis, index, columns, level, inplace, errors)\u001b[0m\n\u001b[0;32m   4776\u001b[0m             \u001b[0maxes\u001b[0m \u001b[1;33m=\u001b[0m \u001b[1;33m{\u001b[0m\u001b[1;34m\"index\"\u001b[0m\u001b[1;33m:\u001b[0m \u001b[0mindex\u001b[0m\u001b[1;33m}\u001b[0m\u001b[1;33m\u001b[0m\u001b[1;33m\u001b[0m\u001b[0m\n\u001b[0;32m   4777\u001b[0m             \u001b[1;32mif\u001b[0m \u001b[0mself\u001b[0m\u001b[1;33m.\u001b[0m\u001b[0mndim\u001b[0m \u001b[1;33m==\u001b[0m \u001b[1;36m2\u001b[0m\u001b[1;33m:\u001b[0m\u001b[1;33m\u001b[0m\u001b[1;33m\u001b[0m\u001b[0m\n\u001b[0;32m   4778\u001b[0m                 \u001b[0maxes\u001b[0m\u001b[1;33m[\u001b[0m\u001b[1;34m\"columns\"\u001b[0m\u001b[1;33m]\u001b[0m \u001b[1;33m=\u001b[0m \u001b[0mcolumns\u001b[0m\u001b[1;33m\u001b[0m\u001b[1;33m\u001b[0m\u001b[0m\n\u001b[0;32m   4779\u001b[0m         \u001b[1;32melse\u001b[0m\u001b[1;33m:\u001b[0m\u001b[1;33m\u001b[0m\u001b[1;33m\u001b[0m\u001b[0m\n\u001b[1;32m-> 4780\u001b[1;33m             raise ValueError(\n\u001b[0m\u001b[0;32m   4781\u001b[0m                 \u001b[1;34m\"Need to specify at least one of 'labels', 'index' or 'columns'\"\u001b[0m\u001b[1;33m\u001b[0m\u001b[1;33m\u001b[0m\u001b[0m\n\u001b[0;32m   4782\u001b[0m             \u001b[1;33m)\u001b[0m\u001b[1;33m\u001b[0m\u001b[1;33m\u001b[0m\u001b[0m\n\u001b[0;32m   4783\u001b[0m \u001b[1;33m\u001b[0m\u001b[0m\n",
      "\u001b[1;31mValueError\u001b[0m: Need to specify at least one of 'labels', 'index' or 'columns'"
     ]
    }
   ],
   "source": [
    "# Entfernen von Zeilen mit fehlenden Werten in der Spalte 'Alley'\n",
    "df_cleaned = df.dropna()\n",
    "\n",
    "# Entfernen von Spalten mit vielen fehlenden Werten (z.B. 'PoolQC')\n",
    "df_cleaned = df.drop()\n",
    "\n",
    "print(\"\\nDaten nach dem Entfernen fehlender Werte:\")\n",
    "print(df_cleaned.isnull().sum())\n"
   ]
  },
  {
   "cell_type": "markdown",
   "id": "44b34514-108f-4bf9-b1a5-632de00880c2",
   "metadata": {},
   "source": [
    "B) Imputation (Auffüllen fehlender Werte)\n",
    "\n",
    "Du kannst fehlende Werte durch Schätzungen oder den Mittelwert ersetzen:"
   ]
  },
  {
   "cell_type": "code",
   "execution_count": null,
   "id": "fd7ca461-d739-4014-a3be-1d988992b256",
   "metadata": {},
   "outputs": [],
   "source": [
    "# Fehlende Werte in der Spalte 'LotFrontage' durch den Mittelwert ersetzen\n",
    "df['LotFrontage'].fillna(\n",
    "\n",
    "# Fehlende Werte in der Spalte 'GarageYrBlt' durch einen Standardwert (z.B. 0 für keine Garage) ersetzen\n",
    "df['GarageYrBlt'].fillna(\n",
    "\n",
    "# Für kategorische Daten wie 'Alley', fehlende Werte mit 'Keine Gasse' füllen\n",
    "df['Alley'].fillna(\n",
    "\n",
    "print(\"\\nDaten nach der Imputation fehlender Werte:\")\n",
    "print(df.isnull().sum())\n"
   ]
  },
  {
   "cell_type": "markdown",
   "id": "0b405de0-636d-4801-871b-7ae0f14c3c91",
   "metadata": {},
   "source": [
    "C) Duplikate entfernen\n",
    "\n",
    "Überprüfe, ob es doppelte Datensätze gibt, und entferne sie:"
   ]
  },
  {
   "cell_type": "code",
   "execution_count": null,
   "id": "f478fee5-6b26-4f2e-b40f-1dc627143c65",
   "metadata": {},
   "outputs": [],
   "source": [
    "# Duplikate im Datensatz überprüfen und entfernen\n",
    "df_cleaned = df.drop_\n",
    "print(\"\\nGibt es noch Duplikate?\", df_cleaned.duplicated().sum())\n"
   ]
  },
  {
   "cell_type": "markdown",
   "id": "ee2e6481-4ff0-46cd-8f79-9f8defa34355",
   "metadata": {},
   "source": [
    "3. Visualisierung von fehlenden Werten\n",
    "\n",
    "Um einen besseren Überblick über fehlende Daten zu erhalten, kannst du Seaborn oder Matplotlib verwenden:"
   ]
  },
  {
   "cell_type": "code",
   "execution_count": null,
   "id": "1b3dfbfe-94e0-4a13-bd83-56f5bc9851a7",
   "metadata": {},
   "outputs": [],
   "source": [
    "import seaborn as sns\n",
    "import matplotlib.pyplot as plt\n",
    "\n",
    "# Visualisierung der fehlenden Werte im Datensatz\n",
    "sns.heatmap(df.isnull(), cbar=False, cmap='viridis')\n",
    "plt.title(\"Fehlende Werte im Housing-Datensatz\")\n",
    "plt.show()\n"
   ]
  },
  {
   "cell_type": "markdown",
   "id": "953b0263-00ca-41c0-8b5f-2c68327177ff",
   "metadata": {},
   "source": [
    "4. Umgang mit Datenfehlern und Inkonsistenzen\n",
    "\n",
    "Du kannst den Datensatz auch auf Inkonsistenzen prüfen, wie z.B. unplausible Werte, und diese bereinigen:"
   ]
  },
  {
   "cell_type": "code",
   "execution_count": null,
   "id": "1da356ec-2be6-4b6d-9930-cdea2ae2692f",
   "metadata": {},
   "outputs": [],
   "source": [
    "# Unplausible Werte in der Spalte 'YearBuilt' (z.B. Baujahr vor 1800) auf 1900 setzen\n",
    "df.loc[df['YearBuilt'] < 1800, 'YearBuilt'] = 1900\n",
    "\n",
    "# Unplausible Daten in der Spalte 'SalePrice' durch den Mittelwert ersetzen\n",
    "df.loc[\n",
    "\n",
    "print(\"\\nÜberprüfte Daten nach der Bereinigung unplausibler Werte:\")\n",
    "print(df[['YearBuilt', 'SalePrice']].head())\n"
   ]
  },
  {
   "cell_type": "code",
   "execution_count": null,
   "id": "f896d08b-3a32-4255-ae8b-919da2482203",
   "metadata": {},
   "outputs": [],
   "source": [
    "import pandas as pd\n",
    "\n",
    "# Beispiel-Daten (ersetze dies durch deinen eigenen Datensatz)\n",
    "# df = pd.read_csv('train.csv')\n",
    "\n",
    "# Überprüfen, ob in der Spalte fehlende Werte vorhanden sind\n",
    "missing_data = df.isnull().sum()\n",
    "print(\"Anzahl fehlender Werte pro Spalte:\")\n",
    "print(\n",
    "\n",
    "# Zeilen anzeigen, die mindestens einen fehlenden Wert enthalten\n",
    "print(\"\\nZeilen mit fehlenden Werten:\")\n",
    "rows_with_missing = df[df.isnull().any(axis=1)]\n",
    "print(rows_with_missing)\n"
   ]
  },
  {
   "cell_type": "markdown",
   "id": "cd52e988-d059-434b-a6dd-d4ff7e64c4b1",
   "metadata": {},
   "source": [
    "5. Statistische Analyse nach der Datenbereinigung\n",
    "\n",
    "Nach der Bereinigung der Daten kannst du einige grundlegende statistische Analysen durchführen:"
   ]
  },
  {
   "cell_type": "code",
   "execution_count": null,
   "id": "00410844-b949-442d-a734-dce5ac7eb394",
   "metadata": {},
   "outputs": [],
   "source": [
    "# Durchschnittlicher Verkaufspreis nach Baujahr\n",
    "average_price_by_year = df.groupby('YearBuilt')['SalePrice'].mean()\n",
    "print(\"\\nDurchschnittlicher Verkaufspreis nach Baujahr:\")\n",
    "print(average_price_by_year.head())\n",
    "\n",
    "# Durchschnittlicher LotFrontage-Wert nach Neighborhood\n",
    "average_lot_by_neighborhood = df.groupby('Neighborhood')['LotFrontage'].mean()\n",
    "print(\"\\nDurchschnittliche Grundstücksfrontlänge nach Nachbarschaft:\")\n",
    "print(average_lot_by_neighborhood.head())\n"
   ]
  },
  {
   "cell_type": "markdown",
   "id": "0995f001-bc38-47d4-a65b-6b8c47461aef",
   "metadata": {},
   "source": [
    "Zusammenfassung und Abschluss\n",
    "\n",
    "Zusammenfassung:\n",
    "\n",
    "- Fehlerhafte Daten: Sie können die Analyse verfälschen und müssen vor der Analyse bereinigt werden.\n",
    "- Techniken zur Fehlererkennung: Fehlende Werte, Duplikate und falsche Werte können durch visuelle Inspektion oder statistische Methoden erkannt werden.\n",
    "- Missingness: Die Art des Fehlens von Daten (MCAR, MAR, MNAR) hat einen großen Einfluss auf die Analyse und sollte beachtet werden.\n",
    "\n",
    "Diskussion:\n",
    "- Wie würdet ihr Datenfehler in einem großen Produktionsdatensatz effizienter erkennen?\n",
    "- Welche Techniken könntet ihr anwenden, um die Art des Fehlens von Daten zu identifizieren?\n",
    "\n",
    "Zusätzliche Ressourcen:\n",
    "\n",
    "- Lesematerial: Artikel über Techniken zur Datenbereinigung und den Umgang mit fehlenden Werten.\n",
    "- Weiterführende Übung: Bereinigung eines realen Datensatzes aus einer Open-Source-Datenbank (z.B. Kaggle) und Analyse der Datenqualität."
   ]
  }
 ],
 "metadata": {
  "kernelspec": {
   "display_name": "Python 3 (ipykernel)",
   "language": "python",
   "name": "python3"
  },
  "language_info": {
   "codemirror_mode": {
    "name": "ipython",
    "version": 3
   },
   "file_extension": ".py",
   "mimetype": "text/x-python",
   "name": "python",
   "nbconvert_exporter": "python",
   "pygments_lexer": "ipython3",
   "version": "3.12.6"
  }
 },
 "nbformat": 4,
 "nbformat_minor": 5
}
