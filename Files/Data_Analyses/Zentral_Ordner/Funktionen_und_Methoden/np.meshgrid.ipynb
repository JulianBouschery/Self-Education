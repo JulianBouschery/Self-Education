{
 "cells": [
  {
   "cell_type": "markdown",
   "id": "2f00c71c-9024-4483-8653-964833e6b5b4",
   "metadata": {},
   "source": [
    "# np.meshgrid()"
   ]
  },
  {
   "cell_type": "markdown",
   "id": "c5e70ba4-64f1-4553-9f55-1d0b53f11b15",
   "metadata": {},
   "source": [
    "Die Funktion `np.meshgrid()` von NumPy erzeugt aus zwei eindimensionalen Arrays zwei zweidimensionale Matrizen, die als Koordinatensysteme dienen. Sie wird oft in der Visualisierung und in numerischen Berechnungen verwendet, um Gitterpunkte in einem 2D- oder 3D-Raum zu erzeugen.\n",
    "\n",
    "### Funktionsweise\n",
    "Angenommen, wir haben zwei Arrays:\n",
    "- `x = [1, 2, 3]` (die x-Koordinaten)\n",
    "- `y = [4, 5]` (die y-Koordinaten)\n",
    "\n",
    "`np.meshgrid(x, y)` erzeugt zwei Arrays:\n",
    "- Ein Array für die x-Koordinaten, das die Werte von `x` für jede Zeile wiederholt.\n",
    "- Ein Array für die y-Koordinaten, das die Werte von `y` für jede Spalte wiederholt.\n",
    "\n",
    "### Beispiel in Python"
   ]
  },
  {
   "cell_type": "code",
   "execution_count": 1,
   "id": "243a1d02-4750-4543-8a0a-967daabeedd0",
   "metadata": {},
   "outputs": [
    {
     "name": "stdout",
     "output_type": "stream",
     "text": [
      "X-Koordinaten:\n",
      "[[1 2 3]\n",
      " [1 2 3]]\n",
      "\n",
      "Y-Koordinaten:\n",
      "[[4 4 4]\n",
      " [5 5 5]]\n"
     ]
    }
   ],
   "source": [
    "import numpy as np\n",
    "\n",
    "# Koordinaten-Arrays\n",
    "x = [1, 2, 3]\n",
    "y = [4, 5]\n",
    "\n",
    "# Meshgrid erzeugen\n",
    "X, Y = np.meshgrid(x, y)\n",
    "\n",
    "print(\"X-Koordinaten:\")\n",
    "print(X)\n",
    "\n",
    "print(\"\\nY-Koordinaten:\")\n",
    "print(Y)"
   ]
  },
  {
   "cell_type": "markdown",
   "id": "89f32292-1b1d-4e04-94f8-6aeb8a4c65a8",
   "metadata": {},
   "source": [
    "### Erklärung des Ergebnisses\n",
    "- Das `X`-Array enthält die Werte `[1, 2, 3]` für jede Zeile, was die x-Koordinaten für jede y-Position darstellt.\n",
    "- Das `Y`-Array enthält die Werte `[4, 5]` für jede Spalte, was die y-Koordinaten für jede x-Position darstellt.\n",
    "\n",
    "Das `meshgrid` wird oft in Kombination mit Funktionen wie `matplotlib` verwendet, um 3D-Plots zu erzeugen oder Flächen zu visualisieren."
   ]
  },
  {
   "cell_type": "code",
   "execution_count": null,
   "id": "aff88250-7d0d-4836-925f-badf20d11553",
   "metadata": {},
   "outputs": [],
   "source": []
  }
 ],
 "metadata": {
  "kernelspec": {
   "display_name": "Python 3 (ipykernel)",
   "language": "python",
   "name": "python3"
  },
  "language_info": {
   "codemirror_mode": {
    "name": "ipython",
    "version": 3
   },
   "file_extension": ".py",
   "mimetype": "text/x-python",
   "name": "python",
   "nbconvert_exporter": "python",
   "pygments_lexer": "ipython3",
   "version": "3.12.6"
  }
 },
 "nbformat": 4,
 "nbformat_minor": 5
}
