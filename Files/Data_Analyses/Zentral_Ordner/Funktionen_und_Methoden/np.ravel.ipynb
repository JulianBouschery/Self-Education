{
 "cells": [
  {
   "cell_type": "markdown",
   "id": "2fd2b2c9-c6e3-4003-87af-a1e7b5c235c2",
   "metadata": {},
   "source": [
    "# np.ravel()"
   ]
  },
  {
   "cell_type": "markdown",
   "id": "93dff7e7-e31b-4aa1-82ab-d2d0662e9250",
   "metadata": {},
   "source": [
    "`np.ravel()` ist eine Funktion aus der `NumPy`-Bibliothek, die ein mehrdimensionales Array in ein eindimensionales Array (1D) umwandelt. Im Gegensatz zu `flatten()` versucht `ravel()` jedoch, eine Ansicht des Originalarrays zurückzugeben, wenn möglich, anstatt eine Kopie zu erzeugen. Das bedeutet, dass Änderungen an dem von `ravel()` erzeugten Array manchmal auch das Originalarray beeinflussen können.\n",
    "\n",
    "### Kurz zusammengefasst\n",
    "- **`np.ravel()`** macht aus einem mehrdimensionalen Array ein eindimensionales Array.\n",
    "- Gibt, wenn möglich, eine Ansicht auf die Originaldaten zurück (ist effizienter als `flatten()`).\n",
    "- Änderungen im Ergebnisarray können das Originalarray beeinflussen, falls eine Ansicht zurückgegeben wurde.\n",
    "\n",
    "### Beispiel\n",
    "\n",
    "```python\n",
    "import numpy as np\n",
    "\n",
    "# Ein 2D-Array\n",
    "array_2d = np.array([[1, 2, 3], [4, 5, 6]])\n",
    "\n",
    "# Mit np.ravel() in ein 1D-Array umwandeln\n",
    "array_1d = np.ravel(array_2d)\n",
    "\n",
    "print(\"Original Array:\")\n",
    "print(array_2d)\n",
    "print(\"Geraveltes Array:\")\n",
    "print(array_1d)\n",
    "```\n",
    "\n",
    "**Ausgabe:**\n",
    "```\n",
    "Original Array:\n",
    "[[1 2 3]\n",
    " [4 5 6]]\n",
    "Geraveltes Array:\n",
    "[1 2 3 4 5 6]\n",
    "```\n",
    "\n",
    "Falls `ravel()` eine Ansicht zurückgibt, und du danach das Ergebnis veränderst, könnte das Originalarray ebenfalls beeinflusst werden:\n",
    "\n",
    "```python\n",
    "array_1d[0] = 99\n",
    "print(\"Modifiziertes geraveltes Array:\", array_1d)\n",
    "print(\"Modifiziertes Original Array:\", array_2d)\n",
    "```\n",
    "\n",
    "**Ausgabe:**\n",
    "```\n",
    "Modifiziertes geraveltes Array: [99 2 3 4 5 6]\n",
    "Modifiziertes Original Array:\n",
    "[[99  2  3]\n",
    " [ 4  5  6]]\n",
    "```\n",
    "\n",
    "### Wann `np.ravel()` zu verwenden ist\n",
    "- Wenn du ein Array nur temporär als 1D-Daten benötigst und die Performance optimieren willst.\n",
    "- Wenn es dir nichts ausmacht, dass Änderungen an dem geravelten Array das Originalarray beeinflussen könnten."
   ]
  },
  {
   "cell_type": "code",
   "execution_count": null,
   "id": "754b701c-1e1b-4749-a1c2-8ef77c47472b",
   "metadata": {},
   "outputs": [],
   "source": []
  }
 ],
 "metadata": {
  "kernelspec": {
   "display_name": "Python 3 (ipykernel)",
   "language": "python",
   "name": "python3"
  },
  "language_info": {
   "codemirror_mode": {
    "name": "ipython",
    "version": 3
   },
   "file_extension": ".py",
   "mimetype": "text/x-python",
   "name": "python",
   "nbconvert_exporter": "python",
   "pygments_lexer": "ipython3",
   "version": "3.12.6"
  }
 },
 "nbformat": 4,
 "nbformat_minor": 5
}
