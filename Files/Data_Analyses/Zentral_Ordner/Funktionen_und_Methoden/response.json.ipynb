{
 "cells": [
  {
   "cell_type": "markdown",
   "id": "f588258c-f777-43aa-b03c-30b633225b99",
   "metadata": {},
   "source": [
    "# response.json()"
   ]
  },
  {
   "cell_type": "markdown",
   "id": "a98d98a1-0653-4ed1-abfa-5e9389f2ea86",
   "metadata": {},
   "source": [
    "Die Methode **`.json()`** ist **spezifisch** für das **Response-Objekt** der Bibliothek **`requests`** in Python und **nicht** allgemein auf jedes beliebige Objekt anwendbar. Sie ist eine Methode, die speziell im `requests`-Modul implementiert wurde, um JSON-Daten aus einer HTTP-Antwort bequem zu parsen (Parsen bedeutet, Daten zu analysieren und in ein strukturiertes Format zu analysieren und umzuwandeln, sodass sie leichter verarbeitet und interpretiert werden können.)"
   ]
  },
  {
   "cell_type": "markdown",
   "id": "3908a229-b7b9-4d58-841a-bf5d674b9db4",
   "metadata": {},
   "source": [
    "### Warum ist `response.json()` besonders?"
   ]
  },
  {
   "cell_type": "markdown",
   "id": "1319c412-586a-4fc0-aa8c-90ce044d7915",
   "metadata": {},
   "source": [
    "Das **Response-Objekt**, das von **`requests.get()`** oder ähnlichen Methoden zurückgegeben wird, hat spezielle Methoden, um den Inhalt der HTTP-Antwort zu verarbeiten:\n",
    "- **`.text`**: Gibt den Inhalt der Antwort als **Rohtext** zurück.\n",
    "- **`.content`**: Gibt den Inhalt als **rohe Bytes** zurück.\n",
    "- **`.json()`**: Wandelt den Inhalt der Antwort in ein **Python-Objekt** (Dictionary oder Liste) um, **wenn** der Inhalt im **JSON-Format** ist.\n",
    "\n",
    "Andere Python-Objekte haben normalerweise **keine** `.json()`-Methode. Das liegt daran, dass nicht alle Datenformate oder Objekte als JSON strukturiert sind oder JSON-fähige Inhalte enthalten. Die `.json()`-Methode ist also speziell für die Arbeit mit HTTP-Antworten gedacht, die JSON-Daten enthalten."
   ]
  },
  {
   "cell_type": "markdown",
   "id": "ca6deb27-752f-411d-9c66-2c09eb443ea0",
   "metadata": {},
   "source": [
    "### Beispiel für Response-Objekt:"
   ]
  },
  {
   "cell_type": "code",
   "execution_count": 3,
   "id": "e1d0c2fa-2d78-4237-8476-ecb164aef2b1",
   "metadata": {},
   "outputs": [
    {
     "name": "stdout",
     "output_type": "stream",
     "text": [
      "Hat funktioniert!\n"
     ]
    }
   ],
   "source": [
    "import requests\n",
    "\n",
    "response = requests.get('https://randomuser.me/api/')\n",
    "data = response.json()  # Funktioniert, da response ein Request-Response-Objekt ist\n",
    "\n",
    "print(\"Hat funktioniert!\")"
   ]
  },
  {
   "cell_type": "markdown",
   "id": "156de746-a445-4924-98ad-fec6c00095c1",
   "metadata": {},
   "source": [
    "Hier funktioniert `.json()` nur, weil `response` ein **requests.Response-Objekt** ist."
   ]
  },
  {
   "cell_type": "markdown",
   "id": "220d67f7-29b7-4b8c-a7db-968ade039304",
   "metadata": {},
   "source": [
    "### Vergleich mit anderen Objekten:"
   ]
  },
  {
   "cell_type": "markdown",
   "id": "c3abb8c4-252d-4ca0-a45a-1f2f1a5bd766",
   "metadata": {},
   "source": [
    "Angenommen, du hast ein anderes Python-Objekt, z.B. eine Liste oder ein Dictionary:"
   ]
  },
  {
   "cell_type": "code",
   "execution_count": 1,
   "id": "1617fb73-27ff-4cad-9bf4-aecac6e3133c",
   "metadata": {},
   "outputs": [
    {
     "ename": "AttributeError",
     "evalue": "'list' object has no attribute 'json'",
     "output_type": "error",
     "traceback": [
      "\u001b[1;31m---------------------------------------------------------------------------\u001b[0m",
      "\u001b[1;31mAttributeError\u001b[0m                            Traceback (most recent call last)",
      "Cell \u001b[1;32mIn[1], line 2\u001b[0m\n\u001b[0;32m      1\u001b[0m my_list \u001b[38;5;241m=\u001b[39m [\u001b[38;5;241m1\u001b[39m, \u001b[38;5;241m2\u001b[39m, \u001b[38;5;241m3\u001b[39m]\n\u001b[1;32m----> 2\u001b[0m \u001b[43mmy_list\u001b[49m\u001b[38;5;241;43m.\u001b[39;49m\u001b[43mjson\u001b[49m()  \u001b[38;5;66;03m# Funktioniert nicht, da my_list keine .json() Methode hat\u001b[39;00m\n",
      "\u001b[1;31mAttributeError\u001b[0m: 'list' object has no attribute 'json'"
     ]
    }
   ],
   "source": [
    "my_list = [1, 2, 3]\n",
    "my_list.json()  # Funktioniert nicht, da my_list keine .json() Methode hat"
   ]
  },
  {
   "cell_type": "markdown",
   "id": "58a21587-26d3-48e3-9043-029d6d946cec",
   "metadata": {},
   "source": [
    "In diesem Fall gibt es keine **`.json()`-Methode**, da **`my_list`** keine Methode zum Parsen von JSON-Daten hat. Es ist einfach eine Liste, und nur das `requests.Response-Objekt` hat eine integrierte `.json()`-Methode."
   ]
  },
  {
   "cell_type": "markdown",
   "id": "84dd5142-f80a-4588-b811-45f5d4b41eed",
   "metadata": {},
   "source": [
    "### Fazit:"
   ]
  },
  {
   "cell_type": "markdown",
   "id": "0d1168db-3397-422d-b105-b564e1c9ee30",
   "metadata": {},
   "source": [
    "- **`.json()`** ist speziell für das **Response-Objekt** von `requests`.\n",
    "- Es funktioniert **nicht mit jedem Objekt**, sondern nur mit Objekten, die darauf ausgelegt sind, JSON-Daten zu parsen, wie das Response-Objekt aus `requests`."
   ]
  }
 ],
 "metadata": {
  "kernelspec": {
   "display_name": "Python 3 (ipykernel)",
   "language": "python",
   "name": "python3"
  },
  "language_info": {
   "codemirror_mode": {
    "name": "ipython",
    "version": 3
   },
   "file_extension": ".py",
   "mimetype": "text/x-python",
   "name": "python",
   "nbconvert_exporter": "python",
   "pygments_lexer": "ipython3",
   "version": "3.12.6"
  }
 },
 "nbformat": 4,
 "nbformat_minor": 5
}
