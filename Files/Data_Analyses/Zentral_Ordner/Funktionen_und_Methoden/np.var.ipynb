{
 "cells": [
  {
   "cell_type": "markdown",
   "id": "e64948f6-baab-4a14-9295-3dabc37c7117",
   "metadata": {},
   "source": [
    "# np.var()"
   ]
  },
  {
   "cell_type": "markdown",
   "id": "5facacb9-18b8-4715-a657-0323eea64cb7",
   "metadata": {},
   "source": [
    "Platzhalter"
   ]
  },
  {
   "cell_type": "code",
   "execution_count": null,
   "id": "31d8bb1b-8752-49d3-9585-dfae799c32aa",
   "metadata": {},
   "outputs": [],
   "source": []
  }
 ],
 "metadata": {
  "kernelspec": {
   "display_name": "Python 3 (ipykernel)",
   "language": "python",
   "name": "python3"
  },
  "language_info": {
   "codemirror_mode": {
    "name": "ipython",
    "version": 3
   },
   "file_extension": ".py",
   "mimetype": "text/x-python",
   "name": "python",
   "nbconvert_exporter": "python",
   "pygments_lexer": "ipython3",
   "version": "3.12.6"
  }
 },
 "nbformat": 4,
 "nbformat_minor": 5
}
