{
 "cells": [
  {
   "cell_type": "markdown",
   "id": "60de7be7-bd46-416f-bbbd-649cf65ad544",
   "metadata": {},
   "source": [
    "# np.std()"
   ]
  },
  {
   "cell_type": "markdown",
   "id": "d6c525bf-e7a9-4b61-8252-8a9cad28a1a9",
   "metadata": {},
   "source": [
    "Platzhalter"
   ]
  },
  {
   "cell_type": "code",
   "execution_count": null,
   "id": "08b01b4c-8bb1-462d-bc2f-1acf6e8b880f",
   "metadata": {},
   "outputs": [],
   "source": []
  }
 ],
 "metadata": {
  "kernelspec": {
   "display_name": "Python 3 (ipykernel)",
   "language": "python",
   "name": "python3"
  },
  "language_info": {
   "codemirror_mode": {
    "name": "ipython",
    "version": 3
   },
   "file_extension": ".py",
   "mimetype": "text/x-python",
   "name": "python",
   "nbconvert_exporter": "python",
   "pygments_lexer": "ipython3",
   "version": "3.12.6"
  }
 },
 "nbformat": 4,
 "nbformat_minor": 5
}
