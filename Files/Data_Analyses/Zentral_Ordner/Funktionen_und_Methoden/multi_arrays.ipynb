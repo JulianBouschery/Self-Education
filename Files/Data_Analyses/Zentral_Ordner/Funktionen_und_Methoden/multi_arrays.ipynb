{
 "cells": [
  {
   "cell_type": "markdown",
   "id": "492014cf-e85c-4e01-9f73-ae3b1426b161",
   "metadata": {},
   "source": [
    "# np.zeros(), np.ones(), np.random() und np.full()"
   ]
  },
  {
   "cell_type": "markdown",
   "id": "193f7e53-e7a1-4ed2-8452-dc83996faab5",
   "metadata": {},
   "source": [
    "Es gibt einige Funktionen um mehrdimensionale Arrays zu erstellen:"
   ]
  },
  {
   "cell_type": "code",
   "execution_count": 2,
   "id": "79da7238-05e2-4342-bc80-2ce60efaca91",
   "metadata": {},
   "outputs": [],
   "source": [
    "import numpy as np"
   ]
  },
  {
   "cell_type": "markdown",
   "id": "04a57bec-8425-407b-9440-9313c03fc98e",
   "metadata": {},
   "source": [
    "### 1. `numpy.zeros()`:"
   ]
  },
  {
   "cell_type": "markdown",
   "id": "7c957d38-267d-4e29-a83f-d5483d627004",
   "metadata": {},
   "source": [
    "Erstellt ein Array, das nur Nullen enthält, mit der gewünschten Dimension."
   ]
  },
  {
   "cell_type": "code",
   "execution_count": 3,
   "id": "d3cf7cc3-644d-4999-b56f-a9ee960fd357",
   "metadata": {},
   "outputs": [
    {
     "name": "stdout",
     "output_type": "stream",
     "text": [
      "[[[0. 0. 0. 0.]\n",
      "  [0. 0. 0. 0.]\n",
      "  [0. 0. 0. 0.]]\n",
      "\n",
      " [[0. 0. 0. 0.]\n",
      "  [0. 0. 0. 0.]\n",
      "  [0. 0. 0. 0.]]]\n"
     ]
    }
   ],
   "source": [
    "arr_3d = np.zeros((2, 3, 4))  # Erstellt ein 2x3x4 Array voll mit Nullen\n",
    "print(arr_3d)"
   ]
  },
  {
   "cell_type": "markdown",
   "id": "4197bca3-b27c-4714-91e2-36d03f542f5e",
   "metadata": {},
   "source": [
    "### 2. `numpy.ones()`:"
   ]
  },
  {
   "cell_type": "markdown",
   "id": "0d24367b-f495-47a9-8634-c6d3bc4e16ad",
   "metadata": {},
   "source": [
    "Erstellt ein Array, das nur Einsen enthält, mit der gewünschten Dimension."
   ]
  },
  {
   "cell_type": "code",
   "execution_count": 5,
   "id": "edca7c64-9b93-499f-b0a4-b9f88a814d2d",
   "metadata": {},
   "outputs": [
    {
     "name": "stdout",
     "output_type": "stream",
     "text": [
      "[[[1. 1. 1. 1.]\n",
      "  [1. 1. 1. 1.]\n",
      "  [1. 1. 1. 1.]]\n",
      "\n",
      " [[1. 1. 1. 1.]\n",
      "  [1. 1. 1. 1.]\n",
      "  [1. 1. 1. 1.]]]\n"
     ]
    }
   ],
   "source": [
    "arr_3d = np.ones((2, 3, 4))  # Erstellt ein 2x3x4 Array voll mit Einsen\n",
    "print(arr_3d)"
   ]
  },
  {
   "cell_type": "markdown",
   "id": "2e2d1c12-41b9-4ce3-8a45-8f9a68bb06a4",
   "metadata": {},
   "source": [
    "### 3. `numpy.random.rand()`:"
   ]
  },
  {
   "cell_type": "markdown",
   "id": "06a3842f-c8d8-4a76-9354-99f7efe285a8",
   "metadata": {},
   "source": [
    "Erstellt ein Array mit zufälligen Werten im Bereich von 0 bis 1."
   ]
  },
  {
   "cell_type": "code",
   "execution_count": 7,
   "id": "c7754d3d-2028-4373-8af1-331efc6f8369",
   "metadata": {},
   "outputs": [
    {
     "name": "stdout",
     "output_type": "stream",
     "text": [
      "[[0.02897012 0.22335341]\n",
      " [0.53736396 0.75287226]\n",
      " [0.775809   0.09572524]]\n"
     ]
    }
   ],
   "source": [
    "arr_random = np.random.rand(3, 2)  # 3x2 Array mit zufälligen Werten\n",
    "print(arr_random)"
   ]
  },
  {
   "cell_type": "markdown",
   "id": "570b4b2e-87f0-434b-9e04-2b0466f0c2ee",
   "metadata": {},
   "source": [
    "### 5. `numpy.full()`:"
   ]
  },
  {
   "cell_type": "markdown",
   "id": "cd19eb9b-494f-47cd-adc2-bdc789e8f5b9",
   "metadata": {},
   "source": [
    "Erstellt ein Array, das mit einem festen Wert gefüllt ist."
   ]
  },
  {
   "cell_type": "code",
   "execution_count": 8,
   "id": "5c8540df-ba82-4460-8dd6-085b58250d7c",
   "metadata": {},
   "outputs": [
    {
     "name": "stdout",
     "output_type": "stream",
     "text": [
      "[[7 7 7]\n",
      " [7 7 7]]\n"
     ]
    }
   ],
   "source": [
    "arr_full = np.full((2, 3), 7)  # 2x3 Array gefüllt mit 7\n",
    "print(arr_full)"
   ]
  },
  {
   "cell_type": "markdown",
   "id": "5709d2d9-eb56-4304-9335-62c519386b85",
   "metadata": {},
   "source": [
    "### Fazit:"
   ]
  },
  {
   "cell_type": "markdown",
   "id": "6b1a6803-ecea-4b32-a120-953718ec33c4",
   "metadata": {},
   "source": [
    "- Mit `numpy.array()` kannst du explizit ein mehrdimensionales Array aus Listen erstellen.\n",
    "- Mit Funktionen wie `zeros()`, `ones()`, `full()`, und `random.rand()` kannst du mehrdimensionale Arrays mit vordefinierten Werten oder zufälligen Werten erzeugen."
   ]
  }
 ],
 "metadata": {
  "kernelspec": {
   "display_name": "Python 3 (ipykernel)",
   "language": "python",
   "name": "python3"
  },
  "language_info": {
   "codemirror_mode": {
    "name": "ipython",
    "version": 3
   },
   "file_extension": ".py",
   "mimetype": "text/x-python",
   "name": "python",
   "nbconvert_exporter": "python",
   "pygments_lexer": "ipython3",
   "version": "3.12.6"
  }
 },
 "nbformat": 4,
 "nbformat_minor": 5
}
