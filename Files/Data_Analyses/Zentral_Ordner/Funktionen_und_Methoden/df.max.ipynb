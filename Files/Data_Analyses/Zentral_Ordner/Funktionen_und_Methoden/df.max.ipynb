{
 "cells": [
  {
   "cell_type": "markdown",
   "id": "2ad025f5-23eb-46ed-8a2a-b82c1f1565b6",
   "metadata": {},
   "source": [
    "# df.max()"
   ]
  },
  {
   "cell_type": "markdown",
   "id": "983729f8-f10d-4554-b30b-9f535e06646e",
   "metadata": {},
   "source": [
    "`df.max()` ist eine Methode in **Pandas**, die den **maximalen Wert** für jede Spalte (oder Zeile) eines DataFrames zurückgibt. \n",
    "\n",
    "### Verwendung\n",
    "- **`df.max()`** gibt die maximalen Werte jeder Spalte zurück.\n",
    "- **`df.max(axis=1)`** gibt die maximalen Werte jeder Zeile zurück.\n",
    "\n",
    "### Parameter\n",
    "- **`axis=0`** (Standard): Berechnet das Maximum pro Spalte.\n",
    "- **`axis=1`**: Berechnet das Maximum pro Zeile.\n",
    "- **`numeric_only=True`**: Berechnet nur numerische Spalten (nur, wenn sie gemischt mit nicht-numerischen Spalten sind)."
   ]
  },
  {
   "cell_type": "markdown",
   "id": "bebb22fe-040b-4114-900a-d3d358f4f22a",
   "metadata": {},
   "source": [
    "### Beispiel"
   ]
  },
  {
   "cell_type": "markdown",
   "id": "cfd1c098-4b52-4741-b69e-f85a071a2007",
   "metadata": {},
   "source": [
    "Angenommen, wir haben folgenden DataFrame `df`:"
   ]
  },
  {
   "cell_type": "code",
   "execution_count": 4,
   "id": "9b4af2c9-a1f8-4f40-8502-00c7a623a968",
   "metadata": {},
   "outputs": [
    {
     "data": {
      "text/html": [
       "<div>\n",
       "<style scoped>\n",
       "    .dataframe tbody tr th:only-of-type {\n",
       "        vertical-align: middle;\n",
       "    }\n",
       "\n",
       "    .dataframe tbody tr th {\n",
       "        vertical-align: top;\n",
       "    }\n",
       "\n",
       "    .dataframe thead th {\n",
       "        text-align: right;\n",
       "    }\n",
       "</style>\n",
       "<table border=\"1\" class=\"dataframe\">\n",
       "  <thead>\n",
       "    <tr style=\"text-align: right;\">\n",
       "      <th></th>\n",
       "      <th>A</th>\n",
       "      <th>B</th>\n",
       "      <th>C</th>\n",
       "    </tr>\n",
       "  </thead>\n",
       "  <tbody>\n",
       "    <tr>\n",
       "      <th>0</th>\n",
       "      <td>3</td>\n",
       "      <td>8</td>\n",
       "      <td>5</td>\n",
       "    </tr>\n",
       "    <tr>\n",
       "      <th>1</th>\n",
       "      <td>7</td>\n",
       "      <td>6</td>\n",
       "      <td>4</td>\n",
       "    </tr>\n",
       "    <tr>\n",
       "      <th>2</th>\n",
       "      <td>2</td>\n",
       "      <td>1</td>\n",
       "      <td>9</td>\n",
       "    </tr>\n",
       "  </tbody>\n",
       "</table>\n",
       "</div>"
      ],
      "text/plain": [
       "   A  B  C\n",
       "0  3  8  5\n",
       "1  7  6  4\n",
       "2  2  1  9"
      ]
     },
     "execution_count": 4,
     "metadata": {},
     "output_type": "execute_result"
    }
   ],
   "source": [
    "import pandas as pd\n",
    "\n",
    "data = {\n",
    "    'A': [3, 7, 2],\n",
    "    'B': [8, 6, 1],\n",
    "    'C': [5, 4, 9]\n",
    "}\n",
    "\n",
    "df = pd.DataFrame(data)\n",
    "df"
   ]
  },
  {
   "cell_type": "markdown",
   "id": "2d007e1f-0c3a-4b4b-a214-ff2464027456",
   "metadata": {},
   "source": [
    "#### Spaltenweise Maximum"
   ]
  },
  {
   "cell_type": "code",
   "execution_count": 2,
   "id": "9ee63617-c100-4b73-9914-eef6ba4a9bc4",
   "metadata": {},
   "outputs": [
    {
     "data": {
      "text/plain": [
       "A    7\n",
       "B    8\n",
       "C    9\n",
       "dtype: int64"
      ]
     },
     "execution_count": 2,
     "metadata": {},
     "output_type": "execute_result"
    }
   ],
   "source": [
    "df.max()"
   ]
  },
  {
   "cell_type": "markdown",
   "id": "af34f302-cc78-49c0-823f-81dcff8fa428",
   "metadata": {},
   "source": [
    "Hier gibt `df.max()` das Maximum für jede Spalte zurück (`A=7`, `B=8`, `C=9`)."
   ]
  },
  {
   "cell_type": "markdown",
   "id": "a118bc38-e7d5-474e-aa66-8dbb4c14c9b7",
   "metadata": {},
   "source": [
    "#### Zeilenweise Maximum"
   ]
  },
  {
   "cell_type": "code",
   "execution_count": 5,
   "id": "aab94996-60dc-48d8-b725-95064b416063",
   "metadata": {},
   "outputs": [
    {
     "data": {
      "text/plain": [
       "0    8\n",
       "1    7\n",
       "2    9\n",
       "dtype: int64"
      ]
     },
     "execution_count": 5,
     "metadata": {},
     "output_type": "execute_result"
    }
   ],
   "source": [
    "df.max(axis=1)"
   ]
  },
  {
   "cell_type": "markdown",
   "id": "5716e1e6-fb24-437f-8234-980f8116f0f8",
   "metadata": {},
   "source": [
    "Hier gibt `df.max(axis=1)` das Maximum für jede Zeile zurück (`Zeile 0=8`, `Zeile 1=7`, `Zeile 2=9`)."
   ]
  },
  {
   "cell_type": "markdown",
   "id": "d1681c45-7749-48c9-b106-4dbb4a296a1f",
   "metadata": {},
   "source": [
    "### Fazit"
   ]
  },
  {
   "cell_type": "markdown",
   "id": "c4507503-c685-48ae-9d09-32e0f9badd7f",
   "metadata": {},
   "source": [
    "Mit `df.max()` kannst du also schnell die größten Werte einer Tabelle finden, entweder spaltenweise (Standard) oder zeilenweise (mit `axis=1`)."
   ]
  },
  {
   "cell_type": "code",
   "execution_count": null,
   "id": "19885154-f22f-4f50-afe7-405bd2a52db8",
   "metadata": {},
   "outputs": [],
   "source": []
  }
 ],
 "metadata": {
  "kernelspec": {
   "display_name": "Python 3 (ipykernel)",
   "language": "python",
   "name": "python3"
  },
  "language_info": {
   "codemirror_mode": {
    "name": "ipython",
    "version": 3
   },
   "file_extension": ".py",
   "mimetype": "text/x-python",
   "name": "python",
   "nbconvert_exporter": "python",
   "pygments_lexer": "ipython3",
   "version": "3.12.6"
  }
 },
 "nbformat": 4,
 "nbformat_minor": 5
}
