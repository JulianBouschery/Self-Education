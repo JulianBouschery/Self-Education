{
 "cells": [
  {
   "cell_type": "markdown",
   "id": "1145cdfb-6baa-4944-a095-2f5a1c620d23",
   "metadata": {},
   "source": [
    "# Scaler"
   ]
  },
  {
   "cell_type": "markdown",
   "id": "ce8c2554-799e-4f87-a970-3b7618862e9d",
   "metadata": {},
   "source": [
    "Scaler in Scikit-Learn sind Methoden, die numerische Daten in einem Datensatz transformieren, indem sie die Werte in einen bestimmten Bereich bringen, um die Modelle zu verbessern. Scaler normalisieren oder standardisieren die Daten, um Verzerrungen durch unterschiedliche Größenordnungen der Features zu vermeiden. Dies ist besonders wichtig bei Algorithmen wie SVMs, k-NN oder neuronalen Netzen, da sie empfindlich auf unskalierte Daten reagieren.\n",
    "\n",
    "Die wichtigsten Scaler aus dem Modul `sklearn.preprocessing`:\n",
    "\n",
    "1. **StandardScaler**: Skaliert die Daten so, dass sie einen Mittelwert von 0 und eine Standardabweichung von 1 haben.\n",
    "   ```python\n",
    "   from sklearn.preprocessing import StandardScaler\n",
    "   scaler = StandardScaler()\n",
    "   scaled_data = scaler.fit_transform(data)\n",
    "   ```\n",
    "\n",
    "2. **MinMaxScaler**: Skaliert die Daten in einen vorgegebenen Bereich, normalerweise [0, 1].\n",
    "   ```python\n",
    "   from sklearn.preprocessing import MinMaxScaler\n",
    "   scaler = MinMaxScaler()\n",
    "   scaled_data = scaler.fit_transform(data)\n",
    "   ```\n",
    "\n",
    "3. **MaxAbsScaler**: Skaliert die Daten anhand des Maximums der absoluten Werte, ohne die Vorzeichen zu ändern.\n",
    "   ```python\n",
    "   from sklearn.preprocessing import MaxAbsScaler\n",
    "   scaler = MaxAbsScaler()\n",
    "   scaled_data = scaler.fit_transform(data)\n",
    "   ```\n",
    "\n",
    "4. **RobustScaler**: Verwendet die Perzentile (Median und Interquartilsabstand), um robuster gegenüber Ausreißern zu sein.\n",
    "   ```python\n",
    "   from sklearn.preprocessing import RobustScaler\n",
    "   scaler = RobustScaler()\n",
    "   scaled_data = scaler.fit_transform(data)\n",
    "   ```\n",
    "\n",
    "Diese Scaler sorgen dafür, dass die Daten gleichmäßiger verarbeitet werden und die Trainingsprozesse stabiler und effizienter verlaufen."
   ]
  },
  {
   "cell_type": "markdown",
   "id": "268fbb8d-c1d1-4814-99e7-063db3e7401f",
   "metadata": {},
   "source": [
    "## Beispiel"
   ]
  },
  {
   "cell_type": "code",
   "execution_count": null,
   "id": "d8c96bb5-77e3-4267-bb43-e64fd88e1292",
   "metadata": {},
   "outputs": [],
   "source": [
    "import pandas as pd\n",
    "from sklearn.preprocessing import MinMaxScaler, OneHotEncoder\n"
   ]
  },
  {
   "cell_type": "code",
   "execution_count": 1,
   "id": "36694170-6810-4cde-b471-0c56635001e7",
   "metadata": {},
   "outputs": [
    {
     "name": "stdout",
     "output_type": "stream",
     "text": [
      "\n",
      "Daten nach der Min-Max-Skalierung und Z-Score-Normalisierung:\n",
      "   age  income  age_scaled  income_scaled  age_zscore  income_zscore\n",
      "0   25   50000        0.00       0.000000   -1.414214      -1.249390\n",
      "1   30   60000        0.25       0.142857   -0.707107      -0.858956\n",
      "2   35   80000        0.50       0.428571    0.000000      -0.078087\n",
      "3   40  100000        0.75       0.714286    0.707107       0.702782\n",
      "4   45  120000        1.00       1.000000    1.414214       1.483651\n"
     ]
    }
   ],
   "source": [
    "import pandas as pd\n",
    "from sklearn.preprocessing import MinMaxScaler, StandardScaler\n",
    "\n",
    "# Beispieldaten\n",
    "data = {'age': [25, 30, 35, 40, 45],\n",
    "        'income': [50000, 60000, 80000, 100000, 120000]}\n",
    "\n",
    "df = pd.DataFrame(data)\n",
    "\n",
    "# Min-Max-Skalierung\n",
    "min_max_scaler = MinMaxScaler()\n",
    "df[['age_scaled', 'income_scaled']] = min_max_scaler.fit_transform(df[['age', 'income']])\n",
    "\n",
    "# Z-Score-Normalisierung\n",
    "z_scaler = StandardScaler()\n",
    "df[['age_zscore', 'income_zscore']] = z_scaler.fit_transform(df[['age', 'income']])\n",
    "\n",
    "print(\"\\nDaten nach der Min-Max-Skalierung und Z-Score-Normalisierung:\")\n",
    "print(df)\n"
   ]
  },
  {
   "cell_type": "code",
   "execution_count": null,
   "id": "9fe61ff8-57f7-4faf-9fbb-401b78c0c910",
   "metadata": {},
   "outputs": [],
   "source": []
  }
 ],
 "metadata": {
  "kernelspec": {
   "display_name": "Python 3 (ipykernel)",
   "language": "python",
   "name": "python3"
  },
  "language_info": {
   "codemirror_mode": {
    "name": "ipython",
    "version": 3
   },
   "file_extension": ".py",
   "mimetype": "text/x-python",
   "name": "python",
   "nbconvert_exporter": "python",
   "pygments_lexer": "ipython3",
   "version": "3.12.6"
  }
 },
 "nbformat": 4,
 "nbformat_minor": 5
}
