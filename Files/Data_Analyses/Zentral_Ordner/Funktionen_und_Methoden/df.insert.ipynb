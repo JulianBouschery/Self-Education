{
 "cells": [
  {
   "cell_type": "markdown",
   "id": "ab1112c6-17c6-42fc-8f93-fbc0341e0698",
   "metadata": {},
   "source": [
    "# df.insert()"
   ]
  },
  {
   "cell_type": "markdown",
   "id": "fd2b0ccc-ba65-4c8a-8d3e-8ed101e86dc9",
   "metadata": {},
   "source": [
    "Die Methode `df.insert()` wird in Pandas verwendet, um eine neue Spalte in einem DataFrame an einer bestimmten Position einzufügen. Der DataFrame (`df`) ist eine zentrale Struktur in Pandas, um tabellarische Daten zu speichern, und mit `insert()` kannst du eine neue Spalte direkt an einer gewünschten Indexposition hinzufügen."
   ]
  },
  {
   "cell_type": "markdown",
   "id": "e9e61733-ad2d-4c8f-b715-593762336fff",
   "metadata": {},
   "source": [
    "### Syntax:"
   ]
  },
  {
   "cell_type": "markdown",
   "id": "fac8e1e0-4321-454b-bb1e-f80f207eaa14",
   "metadata": {},
   "source": [
    "```python\n",
    "DataFrame.insert(loc, column, value, allow_duplicates=False)\n",
    "```"
   ]
  },
  {
   "cell_type": "markdown",
   "id": "b17f7d04-1d15-4ee4-8172-2e951b78508c",
   "metadata": {},
   "source": [
    "- **`loc`**: Die Position (Index) an der die neue Spalte eingefügt werden soll. Es ist ein integer Wert, der angibt, an welchem Index die Spalte eingefügt wird (z. B. `0` für die erste Position). Spalten hinter diesem Index werden nach hinten geschoben.\n",
    "- **`column`**: Der Name der neuen Spalte. Dieser muss ein String sein.\n",
    "- **`value`**: Die Werte, die in der neuen Spalte eingefügt werden sollen. Dies kann eine Liste, ein Pandas-Array oder eine Series sein, aber die Länge der Werte muss mit der Anzahl der Zeilen im DataFrame übereinstimmen.\n",
    "- **`allow_duplicates`** (optional): Ein boolescher Wert, der angibt, ob doppelte Spaltennamen erlaubt sind. Der Standardwert ist `False`, was bedeutet, dass du keine Spalte mit einem Namen einfügen kannst, der bereits existiert."
   ]
  },
  {
   "cell_type": "markdown",
   "id": "7a117d78-6db4-48f4-a74e-5fb589a93cc5",
   "metadata": {},
   "source": [
    "### Beispiel:"
   ]
  },
  {
   "cell_type": "code",
   "execution_count": 2,
   "id": "7f9d47be-c90f-4d6f-bd28-5df41419de8a",
   "metadata": {},
   "outputs": [
    {
     "name": "stdout",
     "output_type": "stream",
     "text": [
      "      Name    Stadt  Alter\n",
      "0    Alice   Berlin     25\n",
      "1      Bob  Hamburg     30\n",
      "2  Charlie  München     35\n"
     ]
    }
   ],
   "source": [
    "import pandas as pd\n",
    "\n",
    "# Erstelle ein Beispiel-DataFrame\n",
    "data = {'Name': ['Alice', 'Bob', 'Charlie'],\n",
    "        'Alter': [25, 30, 35]}\n",
    "\n",
    "df = pd.DataFrame(data)\n",
    "\n",
    "# Füge eine neue Spalte 'Stadt' an der ersten Position ein\n",
    "df.insert(1, 'Stadt', ['Berlin', 'Hamburg', 'München'])\n",
    "\n",
    "print(df)"
   ]
  },
  {
   "cell_type": "markdown",
   "id": "2a8f1e0e-bd2e-452c-b0c8-6ad00b16d5aa",
   "metadata": {},
   "source": [
    "In diesem Beispiel haben wir eine neue Spalte \"Stadt\" an der Position 1 eingefügt, was bedeutet, dass sie nach der \"Name\"-Spalte und vor der \"Alter\"-Spalte erscheint."
   ]
  },
  {
   "cell_type": "markdown",
   "id": "68c5dcef-2710-4bce-8926-b3031e927b53",
   "metadata": {},
   "source": [
    "### Anmerkungen:"
   ]
  },
  {
   "cell_type": "markdown",
   "id": "09507dcb-a0d8-4c32-ac22-a02fe56bfda0",
   "metadata": {},
   "source": [
    "- Wenn du versuchst, eine Spalte an einer Position einzufügen, die außerhalb des gültigen Bereichs liegt (z. B. `loc` ist zu groß), wird eine Fehlermeldung ausgelöst.\n",
    "- Wenn der Name der neuen Spalte bereits im DataFrame existiert und `allow_duplicates=False` ist, wird ebenfalls ein Fehler ausgelöst.\n",
    "\n",
    "Die `insert()` Methode ist besonders nützlich, wenn du die Reihenfolge der Spalten in deinem DataFrame kontrollieren möchtest."
   ]
  },
  {
   "cell_type": "code",
   "execution_count": null,
   "id": "c29cff4e-1d8f-4f57-bf63-9958014cd17f",
   "metadata": {},
   "outputs": [],
   "source": []
  }
 ],
 "metadata": {
  "kernelspec": {
   "display_name": "Python 3 (ipykernel)",
   "language": "python",
   "name": "python3"
  },
  "language_info": {
   "codemirror_mode": {
    "name": "ipython",
    "version": 3
   },
   "file_extension": ".py",
   "mimetype": "text/x-python",
   "name": "python",
   "nbconvert_exporter": "python",
   "pygments_lexer": "ipython3",
   "version": "3.12.6"
  }
 },
 "nbformat": 4,
 "nbformat_minor": 5
}
