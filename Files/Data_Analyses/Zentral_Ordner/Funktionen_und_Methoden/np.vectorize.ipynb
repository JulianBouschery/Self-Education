{
 "cells": [
  {
   "cell_type": "markdown",
   "id": "d3235ebb-e641-419b-8054-a16c1601aa79",
   "metadata": {},
   "source": [
    "# np.vectorize()"
   ]
  },
  {
   "cell_type": "markdown",
   "id": "354e9a65-6729-4d57-b9cc-2685e87e5591",
   "metadata": {},
   "source": [
    "Platzhalter"
   ]
  },
  {
   "cell_type": "code",
   "execution_count": null,
   "id": "ad53efef-099d-4532-8713-891bf59ad1ea",
   "metadata": {},
   "outputs": [],
   "source": []
  }
 ],
 "metadata": {
  "kernelspec": {
   "display_name": "Python 3 (ipykernel)",
   "language": "python",
   "name": "python3"
  },
  "language_info": {
   "codemirror_mode": {
    "name": "ipython",
    "version": 3
   },
   "file_extension": ".py",
   "mimetype": "text/x-python",
   "name": "python",
   "nbconvert_exporter": "python",
   "pygments_lexer": "ipython3",
   "version": "3.12.6"
  }
 },
 "nbformat": 4,
 "nbformat_minor": 5
}
