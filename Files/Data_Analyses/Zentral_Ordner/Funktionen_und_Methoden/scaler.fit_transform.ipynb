{
 "cells": [
  {
   "cell_type": "markdown",
   "id": "7db07e91-6c71-453d-a0d6-f52a43bdfdfe",
   "metadata": {},
   "source": [
    "# scaler.fit_transform()"
   ]
  },
  {
   "attachments": {},
   "cell_type": "markdown",
   "id": "a6905784-68fd-4d55-be6f-fce055c0c6f5",
   "metadata": {},
   "source": [
    "Siehe auch: \n",
    "\n",
    "[Scaler](scaler.ipynb)\n",
    "\n",
    "Die Methode scaler.fit_transform() in der Bibliothek scikit-learn ist eine sehr nützliche Funktion, die oft zur Datenvorverarbeitung (Preprocessing) eingesetzt wird. Sie kombiniert zwei Schritte:\n",
    "\n",
    "1. **[Fitting](../../Themen/Maschine_Learning/fitting.ipynb)**: Dabei wird das Modell auf die übergebenen Daten angepasst, um die erforderlichen Parameter zu berechnen. Bei der Min-Max-Normalisierung bedeutet dies, dass der Minimal- und Maximalwert der Daten ermittelt wird.\n",
    "  \n",
    "2. **Transforming**: Anschließend wird die Transformation auf die Daten angewendet. In unserem Fall wird jeder Wert so umgerechnet, dass er im Bereich von 0 bis 1 liegt.\n",
    "\n",
    "### Schritte im Detail\n",
    "\n",
    "Hier ist, wie `.fit_transform()` funktioniert, erklärt anhand des Beispiels der Min-Max-Normalisierung:\n",
    "\n",
    "1. **Daten anpassen (fit)**:\n",
    "   - Bei der ersten Ausführung wird der `MinMaxScaler` mit den ursprünglichen Daten gefüttert. Die Methode lernt die minimalen und maximalen Werte für jede Spalte. Zum Beispiel, wenn du die Werte `[10, 20, 30]` hast, wird der `MinMaxScaler` die minimalen und maximalen Werte finden: \n",
    "     - `min = 10`\n",
    "     - `max = 30`\n",
    "\n",
    "2. **Daten transformieren (transform)**:\n",
    "   - Nach dem Fitting wird die Transformation durchgeführt. Jeder Wert wird nun umgerechnet mit der Formel:\n",
    "   \\[\n",
    "   x' = \\frac{x - \\text{min}}{\\text{max} - \\text{min}}\n",
    "   \\]\n",
    "   - Wenn du zum Beispiel den Wert `20` transformierst, sieht die Berechnung so aus:\n",
    "   \\[\n",
    "   20' = \\frac{20 - 10}{30 - 10} = \\frac{10}{20} = 0.5\n",
    "   \\]"
   ]
  },
  {
   "cell_type": "markdown",
   "id": "00fe8bdd-fbed-4131-8ab5-8bdfe97bc3dd",
   "metadata": {},
   "source": [
    "### Verwendung in Python"
   ]
  },
  {
   "cell_type": "markdown",
   "id": "eb6fbb21-e351-4d79-8a61-01ad307a67d5",
   "metadata": {},
   "source": [
    "Der Wert ein Reihe von Häusern wird geschätzt und soll miteinander verglichen werden:"
   ]
  },
  {
   "cell_type": "code",
   "execution_count": 1,
   "id": "0eb77cee-8d04-4440-9d95-e1289b6766e1",
   "metadata": {},
   "outputs": [
    {
     "name": "stdout",
     "output_type": "stream",
     "text": [
      "Originale Hauspreise und normalisierte Preise:\n",
      "   Haus  Preis  Normalisierter Preis\n",
      "0     1    150                   0.0\n",
      "1     2    200                   0.2\n",
      "2     3    300                   0.6\n",
      "3     4    250                   0.4\n",
      "4     5    400                   1.0\n"
     ]
    }
   ],
   "source": [
    "import numpy as np\n",
    "from sklearn.preprocessing import MinMaxScaler\n",
    "import pandas as pd\n",
    "\n",
    "# Beispiel-Daten zu Hauspreisen\n",
    "data = {\n",
    "    'Haus': [1, 2, 3, 4, 5],\n",
    "    'Preis': [150, 200, 300, 250, 400]\n",
    "}\n",
    "\n",
    "# Erstelle einen DataFrame\n",
    "df = pd.DataFrame(data)\n",
    "\n",
    "# Initialisiere den MinMaxScaler\n",
    "scaler = MinMaxScaler()\n",
    "\n",
    "# Wende fit_transform() auf die Preisdaten an\n",
    "df['Normalisierter Preis'] = scaler.fit_transform(df[['Preis']])\n",
    "\n",
    "print(\"Originale Hauspreise und normalisierte Preise:\")\n",
    "print(df)"
   ]
  },
  {
   "cell_type": "markdown",
   "id": "cfaaa55c-418b-4ef6-9ee3-85baa4a62199",
   "metadata": {},
   "source": [
    "### Was passiert, wenn du nur [fit()]() oder transform() verwendest?\n",
    "\n",
    "- Wenn du nur `fit(data)` verwendest, wird das Modell mit den Daten trainiert, aber keine Transformation erfolgt. Es werden nur die minimalen und maximalen Werte gespeichert.\n",
    "  \n",
    "- Wenn du nur `transform(data)` verwendest, musst du zuvor `fit()` aufgerufen haben, um die Parameter (min und max) zu berechnen. Andernfalls erhältst du einen Fehler, weil das Modell nicht weiß, wie die Transformation durchgeführt werden soll.\n",
    "\n",
    "### Fazit\n",
    "\n",
    "Die Methode `.fit_transform()` ist sehr praktisch, da sie den Prozess des Anlernens der Parameter und die anschließende Transformation in einem Schritt zusammenfasst, was den Code kürzer und lesbarer macht."
   ]
  },
  {
   "cell_type": "code",
   "execution_count": null,
   "id": "9d120379-2d09-4cca-80ef-db7a364cc837",
   "metadata": {},
   "outputs": [],
   "source": []
  }
 ],
 "metadata": {
  "kernelspec": {
   "display_name": "Python 3 (ipykernel)",
   "language": "python",
   "name": "python3"
  },
  "language_info": {
   "codemirror_mode": {
    "name": "ipython",
    "version": 3
   },
   "file_extension": ".py",
   "mimetype": "text/x-python",
   "name": "python",
   "nbconvert_exporter": "python",
   "pygments_lexer": "ipython3",
   "version": "3.12.6"
  }
 },
 "nbformat": 4,
 "nbformat_minor": 5
}
