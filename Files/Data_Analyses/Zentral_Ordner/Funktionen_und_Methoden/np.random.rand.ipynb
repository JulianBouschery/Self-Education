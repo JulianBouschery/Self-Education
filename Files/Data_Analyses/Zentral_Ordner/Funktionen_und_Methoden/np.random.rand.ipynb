{
 "cells": [
  {
   "cell_type": "markdown",
   "id": "e46ee519-b486-4167-820a-b17743701256",
   "metadata": {},
   "source": [
    "# np.random.rand()"
   ]
  },
  {
   "cell_type": "markdown",
   "id": "4c05b2f5-7dcb-467b-928d-2d17fedea708",
   "metadata": {},
   "source": [
    "In NumPy ist **`np.random.rand()`** eine Funktion, die gleichmäßig verteilte Zufallszahlen im Bereich **[0, 1)** (einschließlich 0, aber ohne 1) erzeugt. Die zurückgegebenen Zahlen sind **Fließkommazahlen** (Gleitkommazahlen), und man kann mehrere Zahlen in einer gewünschten Dimension erzeugen."
   ]
  },
  {
   "cell_type": "markdown",
   "id": "c59ae197-f88d-42a6-9dbb-542ce29cacef",
   "metadata": {},
   "source": [
    "### Syntax:"
   ]
  },
  {
   "cell_type": "markdown",
   "id": "d39ed3f4-9e04-4417-a4c5-45acc717f0fd",
   "metadata": {},
   "source": [
    "```python\n",
    "np.random.rand(d0, d1, ..., dn)\n",
    "```\n",
    "\n",
    "- **d0, d1, ..., dn**: Dimensionen des Arrays, das du erzeugen möchtest. Ohne Argumente wird eine einzelne Zufallszahl erzeugt."
   ]
  },
  {
   "cell_type": "markdown",
   "id": "04cc92ce-cfd9-414a-8e4a-59ef33006d15",
   "metadata": {},
   "source": [
    "### Eigenschaften:"
   ]
  },
  {
   "cell_type": "markdown",
   "id": "e94c0a4f-13c3-471e-b700-cd5e8dc8cc6c",
   "metadata": {},
   "source": [
    "- Erzeugt Zufallszahlen, die aus einer **gleichmäßigen Verteilung** stammen, was bedeutet, dass jede Zahl im Bereich [0, 1) gleich wahrscheinlich ist.\n",
    "- Gibt standardmäßig **Fließkommazahlen** zurück."
   ]
  },
  {
   "cell_type": "markdown",
   "id": "46cfc190-4b46-415d-9e34-999d9980a4fa",
   "metadata": {},
   "source": [
    "### Beispiel:"
   ]
  },
  {
   "cell_type": "markdown",
   "id": "b4dffc47-6e19-4ca1-82cb-22b44b9e306d",
   "metadata": {},
   "source": [
    "```python\n",
    "import numpy as np\n",
    "\n",
    "# Eine einzelne Zufallszahl zwischen 0 und 1\n",
    "single_random_number = np.random.rand()\n",
    "\n",
    "# Ein 3x3-Array mit Zufallszahlen zwischen 0 und 1\n",
    "random_array = np.random.rand(3, 3)\n",
    "\n",
    "print(single_random_number)\n",
    "print(random_array)\n",
    "```\n",
    "\n",
    "In diesem Beispiel erzeugt `single_random_number` eine Zufallszahl, und `random_array` gibt ein 3x3-Array mit Zufallszahlen zwischen 0 und 1 zurück."
   ]
  },
  {
   "cell_type": "code",
   "execution_count": null,
   "id": "8011de57-20c8-475b-89b8-6bcf041556b2",
   "metadata": {},
   "outputs": [],
   "source": []
  }
 ],
 "metadata": {
  "kernelspec": {
   "display_name": "Python 3 (ipykernel)",
   "language": "python",
   "name": "python3"
  },
  "language_info": {
   "codemirror_mode": {
    "name": "ipython",
    "version": 3
   },
   "file_extension": ".py",
   "mimetype": "text/x-python",
   "name": "python",
   "nbconvert_exporter": "python",
   "pygments_lexer": "ipython3",
   "version": "3.12.6"
  }
 },
 "nbformat": 4,
 "nbformat_minor": 5
}
