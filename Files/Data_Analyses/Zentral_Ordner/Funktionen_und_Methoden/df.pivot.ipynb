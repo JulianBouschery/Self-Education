{
 "cells": [
  {
   "cell_type": "markdown",
   "id": "7b7734c7-b52b-4ec0-a61e-d8f757bf60a5",
   "metadata": {},
   "source": [
    "# df.pivot()"
   ]
  },
  {
   "cell_type": "markdown",
   "id": "6cb0b541-d401-44aa-8ad5-f4ab0ce4c137",
   "metadata": {},
   "source": [
    "Siehe auch: [Wide vs. Long Format](../../Themen/Preprocessing/Wide_vs._Long.ipynb)"
   ]
  },
  {
   "cell_type": "markdown",
   "id": "5d950a54-9b8f-4a67-84b3-9005155b91ed",
   "metadata": {},
   "source": [
    "Die `df.pivot()`-Methode in Pandas wird verwendet, um einen DataFrame in ein **breites Format** umzuwandeln, indem Spalten- und Zeilen-Indizes neu strukturiert werden. Sie eignet sich ideal, wenn man eine **Tabelle von einem langen Format in ein breites Format** bringen möchte, wobei Werte zu neuen Spalten gruppiert werden."
   ]
  },
  {
   "cell_type": "markdown",
   "id": "93f40eec-7282-432e-895b-1be8e477254c",
   "metadata": {},
   "source": [
    "### Grundstruktur"
   ]
  },
  {
   "cell_type": "markdown",
   "id": "7d31d322-2300-4369-b78c-f96b446665a3",
   "metadata": {},
   "source": [
    "Die `pivot()`-Methode erfordert drei Argumente:\n",
    "\n",
    "- **`index`**: Die Spalte, die als Zeilenindex verwendet wird.\n",
    "- **`columns`**: Die Spalte, die die neuen Spaltennamen bestimmt.\n",
    "- **`values`**: Die Spalte, die die Werte für die neuen Spalten enthält."
   ]
  },
  {
   "cell_type": "markdown",
   "id": "77c0f2c3-bc33-467f-b25a-4aab62828d9b",
   "metadata": {},
   "source": [
    "### Syntax"
   ]
  },
  {
   "cell_type": "markdown",
   "id": "fba590c8-7e85-4152-a0f7-2c5a7a764fed",
   "metadata": {},
   "source": [
    "```python\n",
    "df.pivot(index='Index_Spalte', columns='Spalten_Spalte', values='Werte_Spalte')\n",
    "```"
   ]
  },
  {
   "cell_type": "markdown",
   "id": "a85bc1b1-fd2c-4328-89d7-569a63a37e85",
   "metadata": {},
   "source": [
    "### Beispiel"
   ]
  },
  {
   "cell_type": "markdown",
   "id": "65a1b2d5-f4d0-482b-8cde-c8c398f1b501",
   "metadata": {},
   "source": [
    "Angenommen, wir haben einen DataFrame im langen Format, der Verkäufe für verschiedene Produkte in verschiedenen Monaten enthält:"
   ]
  },
  {
   "cell_type": "code",
   "execution_count": 1,
   "id": "1b0d0d32-2ba2-47a6-a11e-bc8854590707",
   "metadata": {},
   "outputs": [
    {
     "name": "stdout",
     "output_type": "stream",
     "text": [
      "Ursprünglicher DataFrame:\n",
      "  Produkt    Monat  Verkauf\n",
      "0   Apfel   Januar      100\n",
      "1   Apfel  Februar      150\n",
      "2  Banane   Januar      200\n",
      "3  Banane  Februar      250\n",
      "4  Orange   Januar      300\n",
      "5  Orange  Februar      350\n"
     ]
    }
   ],
   "source": [
    "import pandas as pd\n",
    "\n",
    "# Beispiel-DataFrame im langen Format\n",
    "df = pd.DataFrame({\n",
    "    'Produkt': ['Apfel', 'Apfel', 'Banane', 'Banane', 'Orange', 'Orange'],\n",
    "    'Monat': ['Januar', 'Februar', 'Januar', 'Februar', 'Januar', 'Februar'],\n",
    "    'Verkauf': [100, 150, 200, 250, 300, 350]\n",
    "})\n",
    "\n",
    "print(\"Ursprünglicher DataFrame:\")\n",
    "print(df)"
   ]
  },
  {
   "cell_type": "markdown",
   "id": "a1c34f60-669c-4024-b438-515ca3e2e741",
   "metadata": {},
   "source": [
    "Wir können `pivot()` verwenden, um diesen DataFrame in ein breites Format umzuwandeln, sodass die `Monat`-Werte zu Spalten werden und die Verkaufszahlen in diesen Spalten stehen."
   ]
  },
  {
   "cell_type": "code",
   "execution_count": 2,
   "id": "683286a8-386e-44d2-bd21-ceb21b71c094",
   "metadata": {},
   "outputs": [
    {
     "name": "stdout",
     "output_type": "stream",
     "text": [
      "\n",
      "DataFrame nach Anwendung von pivot():\n",
      "Monat    Februar  Januar\n",
      "Produkt                 \n",
      "Apfel        150     100\n",
      "Banane       250     200\n",
      "Orange       350     300\n"
     ]
    }
   ],
   "source": [
    "# Anwendung von pivot(), um den DataFrame umzuformen\n",
    "pivot_df = df.pivot(index='Produkt', columns='Monat', values='Verkauf')\n",
    "print(\"\\nDataFrame nach Anwendung von pivot():\")\n",
    "print(pivot_df)"
   ]
  },
  {
   "cell_type": "markdown",
   "id": "b712dea0-7f8e-469f-bb30-0039b8f1116a",
   "metadata": {},
   "source": [
    "### Erklärung der Ausgabe"
   ]
  },
  {
   "cell_type": "markdown",
   "id": "459e6902-983f-4f5e-af3f-40a2100e49a3",
   "metadata": {},
   "source": [
    "- **`index='Produkt'`**: Die `Produkt`-Spalte wird zur Zeilenbeschriftung.\n",
    "- **`columns='Monat'`**: Die `Monat`-Spalte wird zur Spaltenüberschrift.\n",
    "- **`values='Verkauf'`**: Die Werte in der `Verkauf`-Spalte füllen den DataFrame."
   ]
  },
  {
   "cell_type": "markdown",
   "id": "f8b316b4-e591-442d-a2bc-576f71dc6d02",
   "metadata": {},
   "source": [
    "### Wichtige Hinweise"
   ]
  },
  {
   "cell_type": "markdown",
   "id": "a0ebd4d0-13ac-4c25-bf6c-4f75e9c137cb",
   "metadata": {},
   "source": [
    "- **Eindeutige Kombinationen**: `pivot()` erfordert, dass jede Kombination aus `index` und `columns` genau einen Wert in `values` hat. Wenn es mehrere Werte gibt, entsteht ein Fehler. In solchen Fällen kannst du stattdessen [pivot_table()](df.pivot_table.ipynb), [pd.melt()](pd.melt.ipynb), oder [df.stack()](df.stack_unstack.ipynb) verwenden, um Aggregationsfunktionen zu definieren."
   ]
  },
  {
   "cell_type": "markdown",
   "id": "a24e0a10-54a0-46b1-b3cb-200f0a386c96",
   "metadata": {},
   "source": [
    "### Zusammenfassung"
   ]
  },
  {
   "cell_type": "markdown",
   "id": "7a5c7e7f-d5b3-4d74-8cfd-e91d59b31b31",
   "metadata": {},
   "source": [
    "- **`pivot()`** ist hilfreich, um Daten von einem langen Format in ein breites Format zu transformieren.\n",
    "- Es funktioniert gut, wenn jede Kombination aus `index` und `columns` einen eindeutigen Wert hat.\n",
    "- Für komplexere Aggregationen und Berechnungen ist **`pivot_table()`** besser geeignet."
   ]
  }
 ],
 "metadata": {
  "kernelspec": {
   "display_name": "Python 3 (ipykernel)",
   "language": "python",
   "name": "python3"
  },
  "language_info": {
   "codemirror_mode": {
    "name": "ipython",
    "version": 3
   },
   "file_extension": ".py",
   "mimetype": "text/x-python",
   "name": "python",
   "nbconvert_exporter": "python",
   "pygments_lexer": "ipython3",
   "version": "3.12.6"
  }
 },
 "nbformat": 4,
 "nbformat_minor": 5
}
