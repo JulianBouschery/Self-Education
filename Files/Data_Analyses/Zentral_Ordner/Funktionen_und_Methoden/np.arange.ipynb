{
 "cells": [
  {
   "cell_type": "markdown",
   "id": "c73fd2c8-600a-48c1-825a-4ceeb4570be2",
   "metadata": {},
   "source": [
    "Siehe auch: [arr.reshape()](arr.reshape.ipynb)"
   ]
  },
  {
   "cell_type": "markdown",
   "id": "0399802f-6b07-40f5-9cc3-90bb1fbc2ca0",
   "metadata": {},
   "source": [
    "Siehe auch [Arrays](../Module/Numpy/Arrays.ipynb)"
   ]
  },
  {
   "cell_type": "markdown",
   "id": "d26249ce-9630-4e20-86a8-a3cbb1c43610",
   "metadata": {},
   "source": [
    "# arange()-Funktion"
   ]
  },
  {
   "cell_type": "markdown",
   "id": "66ae4d35-bd33-4bec-8442-b7c4a8779372",
   "metadata": {},
   "source": [
    "### Übersicht"
   ]
  },
  {
   "cell_type": "markdown",
   "id": "f200b578-ebef-4ab3-a47d-6626ceec118d",
   "metadata": {},
   "source": [
    "`np.arange()` ist eine Funktion in NumPy, die ein Array mit gleichmäßig verteilten Werten innerhalb eines bestimmten Bereichs erstellt. Es funktioniert ähnlich wie die Python `range()`-Funktion, aber für Arrays und mit zusätzlicher Flexibilität bei Schrittweiten."
   ]
  },
  {
   "cell_type": "markdown",
   "id": "6c822dbf-d4ff-4e4e-a3d3-53454081fe4e",
   "metadata": {},
   "source": [
    "### Syntax: "
   ]
  },
  {
   "cell_type": "markdown",
   "id": "103ff0c1-cb0a-45ae-ab4f-7ce440145ac3",
   "metadata": {},
   "source": [
    "`arange` `(` `start` `,` `stop` `,` `step` `,` `dtype` `)`\n",
    "\n",
    "```python\n",
    "arange([start,] stop[, step], [, dtype=None])\n",
    "```"
   ]
  },
  {
   "cell_type": "markdown",
   "id": "04e8b060-f1ce-4a93-aa23-e7f23089e919",
   "metadata": {},
   "source": [
    "### Zusammenfassung"
   ]
  },
  {
   "cell_type": "markdown",
   "id": "0e6b47e3-f8df-48bc-a153-9dd449702693",
   "metadata": {},
   "source": [
    "\n",
    "- Bis auf `stop` ist alles optional.\n",
    "- Die Default Werte der arange Funktion sind:\n",
    "```python\n",
    "start = 0\n",
    "step = 1\n",
    "dtype=None\n",
    "```\n",
    "- **np.arange(stop):** Erzeugt Werte von `0` bis `stop` (exklusiv).\n",
    "- **np.arange(start, stop):** Erzeugt Werte von `start` bis `stop` (exklusiv).\n",
    "- **np.arange(start, stop, step):** Erzeugt Werte von `start` bis `stop` (exklusiv) mit der Schrittweite `step`.\n",
    "- Default return: Array\n",
    "- Error: ?"
   ]
  },
  {
   "cell_type": "markdown",
   "id": "f0698c31-a635-48c1-8c2a-ab8014bcc673",
   "metadata": {},
   "source": [
    "## Beispiele:"
   ]
  },
  {
   "cell_type": "markdown",
   "id": "ec626137-281b-41c3-8476-615f1709462b",
   "metadata": {},
   "source": [
    "### Beispiel 1: Ganzzahlen"
   ]
  },
  {
   "cell_type": "code",
   "execution_count": 7,
   "id": "955a8f52-d416-42d3-a16a-498a6b89e1e5",
   "metadata": {},
   "outputs": [
    {
     "name": "stdout",
     "output_type": "stream",
     "text": [
      "[0 1 2 3 4 5 6 7 8 9]\n"
     ]
    }
   ],
   "source": [
    "# Erzeugt ein Array von 0 bis 9 (Schritte von 1)\n",
    "import numpy as np\n",
    "\n",
    "array_1 = np.arange(10)\n",
    "print(array_1)"
   ]
  },
  {
   "cell_type": "markdown",
   "id": "b76755c5-a889-4250-a19e-48f7eab86f9f",
   "metadata": {},
   "source": [
    "### Beispiel 2: Start, Stopp und Schrittweite"
   ]
  },
  {
   "cell_type": "code",
   "execution_count": 9,
   "id": "e8c621be-e598-454f-97fc-04942a84de1d",
   "metadata": {},
   "outputs": [
    {
     "name": "stdout",
     "output_type": "stream",
     "text": [
      "[ 5  7  9 11 13]\n"
     ]
    }
   ],
   "source": [
    "import numpy as np\n",
    "\n",
    "# Erzeugt ein Array von 5 bis 15 (exklusiv) in Schritten von 2\n",
    "array_2 = np.arange(5, 15, 2)\n",
    "print(array_2)"
   ]
  },
  {
   "cell_type": "markdown",
   "id": "559f7eb0-9415-489c-9051-410dc9bbb97f",
   "metadata": {},
   "source": [
    "### Beispiel 3: Gleitkommazahlen"
   ]
  },
  {
   "cell_type": "code",
   "execution_count": 10,
   "id": "dde40f05-c5ce-459a-a04e-b28fecc4dc93",
   "metadata": {},
   "outputs": [
    {
     "name": "stdout",
     "output_type": "stream",
     "text": [
      "[0.  0.2 0.4 0.6 0.8]\n"
     ]
    }
   ],
   "source": [
    "import numpy as np\n",
    "\n",
    "# Erzeugt ein Array von 0 bis 1 in Schritten von 0.2\n",
    "array_3 = np.arange(0, 1, 0.2)\n",
    "print(array_3)"
   ]
  },
  {
   "cell_type": "markdown",
   "id": "d1da1f03-e412-4b97-b675-9eba6a5df51c",
   "metadata": {},
   "source": [
    "# Mehrdeminsionale Arrays"
   ]
  },
  {
   "cell_type": "code",
   "execution_count": 1,
   "id": "06cd4269-7c54-40ae-b760-1ed7e4bc2798",
   "metadata": {},
   "outputs": [
    {
     "name": "stdout",
     "output_type": "stream",
     "text": [
      "[[1 2 3]\n",
      " [4 5 6]]\n"
     ]
    }
   ],
   "source": [
    "import numpy as np\n",
    "\n",
    "arr_2d = np.array([[1, 2, 3], [4, 5, 6]])\n",
    "print(arr_2d)\n"
   ]
  },
  {
   "cell_type": "code",
   "execution_count": null,
   "id": "a44bc2c8-92fb-4b4f-a630-8dec3be97d38",
   "metadata": {},
   "outputs": [],
   "source": []
  }
 ],
 "metadata": {
  "kernelspec": {
   "display_name": "Python 3 (ipykernel)",
   "language": "python",
   "name": "python3"
  },
  "language_info": {
   "codemirror_mode": {
    "name": "ipython",
    "version": 3
   },
   "file_extension": ".py",
   "mimetype": "text/x-python",
   "name": "python",
   "nbconvert_exporter": "python",
   "pygments_lexer": "ipython3",
   "version": "3.12.6"
  }
 },
 "nbformat": 4,
 "nbformat_minor": 5
}
