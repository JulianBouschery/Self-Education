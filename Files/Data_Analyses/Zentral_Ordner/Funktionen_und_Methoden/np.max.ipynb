{
 "cells": [
  {
   "cell_type": "markdown",
   "id": "8452fa0c-ec63-440c-9277-77bba6404963",
   "metadata": {},
   "source": [
    "# np.max()"
   ]
  },
  {
   "cell_type": "markdown",
   "id": "166f5813-bd5b-4c8d-b9d3-0d173d19e175",
   "metadata": {},
   "source": [
    "Platzhalter"
   ]
  },
  {
   "cell_type": "code",
   "execution_count": null,
   "id": "26e808f6-7a76-4358-8c96-cc2349227562",
   "metadata": {},
   "outputs": [],
   "source": []
  }
 ],
 "metadata": {
  "kernelspec": {
   "display_name": "Python 3 (ipykernel)",
   "language": "python",
   "name": "python3"
  },
  "language_info": {
   "codemirror_mode": {
    "name": "ipython",
    "version": 3
   },
   "file_extension": ".py",
   "mimetype": "text/x-python",
   "name": "python",
   "nbconvert_exporter": "python",
   "pygments_lexer": "ipython3",
   "version": "3.12.6"
  }
 },
 "nbformat": 4,
 "nbformat_minor": 5
}
