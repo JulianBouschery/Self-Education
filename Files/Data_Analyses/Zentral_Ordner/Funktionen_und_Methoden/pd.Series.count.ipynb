{
 "cells": [
  {
   "cell_type": "markdown",
   "id": "f572820e-bb12-4ab0-a1e9-54c2214bda0f",
   "metadata": {},
   "source": [
    "# pd.Series.count()"
   ]
  },
  {
   "cell_type": "markdown",
   "id": "6a50148a-cf7a-4213-be45-31b3ed32fadb",
   "metadata": {},
   "source": [
    "Die Methode `pd.Series.count()` in Pandas wird verwendet, um die Anzahl an Werten in einer Pandas Series zu zählen. Dabei werden die fehlenden Werte (NaN's) übersprungen. Dies ist nützlich, um zu verstehen, wie viele gültige Datenpunkte in einem Datensatz vorhanden sind, insbesondere wenn einige Werte fehlen."
   ]
  },
  {
   "cell_type": "markdown",
   "id": "c6e8c9fb-4360-4637-9698-f580497a9c7a",
   "metadata": {},
   "source": [
    "### Syntax"
   ]
  },
  {
   "cell_type": "markdown",
   "id": "56af4011-b95e-4423-aaa0-cbdaed54ad8f",
   "metadata": {},
   "source": [
    "```python\n",
    "Series.count()\n",
    "```"
   ]
  },
  {
   "cell_type": "markdown",
   "id": "0701ab91-27f0-45e4-a345-7694aff2b5d0",
   "metadata": {},
   "source": [
    "### Beispiel"
   ]
  },
  {
   "cell_type": "markdown",
   "id": "d3772696-2a44-47ed-afdd-e9b0be815b5d",
   "metadata": {},
   "source": [
    "Hier ist ein einfaches Beispiel, das zeigt, wie `count()` funktioniert:"
   ]
  },
  {
   "cell_type": "code",
   "execution_count": 1,
   "id": "599e314c-f1af-4cfa-bce4-47e44b21e20e",
   "metadata": {},
   "outputs": [
    {
     "name": "stdout",
     "output_type": "stream",
     "text": [
      "Anzahl der gültigen Werte: 5\n"
     ]
    }
   ],
   "source": [
    "import pandas as pd\n",
    "\n",
    "# Beispiel-DataFrame\n",
    "werte = pd.Series([10, 20, None, 30, 40, None, 50])\n",
    "\n",
    "# Zähle die nicht fehlenden Werte\n",
    "anzahl_gueltige_werte = werte.count()\n",
    "print(\"Anzahl der gültigen Werte:\", anzahl_gueltige_werte)"
   ]
  },
  {
   "cell_type": "markdown",
   "id": "1c68722b-eb78-4f3b-9029-02ea651e155d",
   "metadata": {},
   "source": [
    "### Anwendung"
   ]
  },
  {
   "cell_type": "markdown",
   "id": "606e2a74-c8db-44d5-8d82-26646d1b3123",
   "metadata": {},
   "source": [
    "- **Datenanalyse**: `count()` ist hilfreich, um die Anzahl der Datensätze zu bestimmen, die für Analysen oder Berechnungen verfügbar sind.\n",
    "- **Datenbereinigung**: Bei der Datenbereinigung kann es wichtig sein zu wissen, wie viele gültige Werte vorhanden sind, um Entscheidungen über fehlende Daten zu treffen."
   ]
  }
 ],
 "metadata": {
  "kernelspec": {
   "display_name": "Python 3 (ipykernel)",
   "language": "python",
   "name": "python3"
  },
  "language_info": {
   "codemirror_mode": {
    "name": "ipython",
    "version": 3
   },
   "file_extension": ".py",
   "mimetype": "text/x-python",
   "name": "python",
   "nbconvert_exporter": "python",
   "pygments_lexer": "ipython3",
   "version": "3.12.6"
  }
 },
 "nbformat": 4,
 "nbformat_minor": 5
}
