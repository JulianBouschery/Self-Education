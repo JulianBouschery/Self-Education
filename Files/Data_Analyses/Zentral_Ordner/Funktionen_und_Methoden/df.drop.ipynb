{
 "cells": [
  {
   "cell_type": "markdown",
   "id": "ea614961-576a-40f4-9c4e-a5155cd01c8e",
   "metadata": {},
   "source": [
    "# df.drop()"
   ]
  },
  {
   "cell_type": "markdown",
   "id": "e820f4f3-89a7-4c86-a8a3-2540ec2d5f39",
   "metadata": {},
   "source": [
    "Ganz kurz und einfach gesagt: `df.drop()` schmeißt die ausgewählte Spalte aus dem DataFrame."
   ]
  },
  {
   "cell_type": "markdown",
   "id": "8423c249-056e-4fba-9291-f6ffaa32254a",
   "metadata": {},
   "source": [
    "Die Methode **`df.drop()`** in der **`pandas`**-Bibliothek wird verwendet, um Zeilen oder Spalten aus einem DataFrame zu entfernen. Hier ist eine detaillierte Erklärung, wie sie funktioniert:"
   ]
  },
  {
   "cell_type": "markdown",
   "id": "ce2e3fe7-e3f1-4d48-b9fe-03d00d84bed6",
   "metadata": {},
   "source": [
    "### Syntax"
   ]
  },
  {
   "cell_type": "markdown",
   "id": "0a1a4d04-e9f4-43ce-aa56-13ac1c86b596",
   "metadata": {},
   "source": [
    "```python\n",
    "df.drop(labels, axis=0, inplace=False)\n",
    "```"
   ]
  },
  {
   "cell_type": "markdown",
   "id": "dee723b8-c97e-4ded-96b0-1edef733b2a4",
   "metadata": {},
   "source": [
    "### Parameter"
   ]
  },
  {
   "cell_type": "code",
   "execution_count": 7,
   "id": "15a36acf-bc25-48c9-a962-f9b54767362e",
   "metadata": {},
   "outputs": [],
   "source": [
    "# df.drop?"
   ]
  },
  {
   "cell_type": "markdown",
   "id": "aa9b7bb9-779f-4085-87f1-e3d28054dac4",
   "metadata": {},
   "source": [
    "```python\n",
    "Signature:\n",
    "df.drop(\n",
    "    labels: 'IndexLabel | None' = None,\n",
    "    *,\n",
    "    axis: 'Axis' = 0,\n",
    "    index: 'IndexLabel | None' = None,\n",
    "    columns: 'IndexLabel | None' = None,\n",
    "    level: 'Level | None' = None,\n",
    "    inplace: 'bool' = False,\n",
    "    errors: 'IgnoreRaise' = 'raise',\n",
    ") -> 'DataFrame | None'\n",
    "```"
   ]
  },
  {
   "cell_type": "markdown",
   "id": "7f291eae-86b3-43b1-8f6a-89a6a6d20fe5",
   "metadata": {},
   "source": [
    "1. **`labels`**:\n",
    "   - Dies sind die **Bezeichnungen** (z.B. die Namen von Spalten oder den Index von Zeilen), die du entfernen möchtest. Du kannst eine einzelne Bezeichnung oder eine Liste von Bezeichnungen angeben.\n",
    "\n",
    "<br>\n",
    "\n",
    "2. **`axis`**:\n",
    "   - Gibt an, ob Zeilen oder Spalten entfernt werden sollen.\n",
    "   - **`axis=0`**: Entfernt **Zeilen** (Standardwert).\n",
    "   - **`axis=1`**: Entfernt **Spalten**.\n",
    "\n",
    "<br>\n",
    "\n",
    "3. **`inplace`**:\n",
    "   - Ein boolescher Wert, der angibt, ob die Änderungen am DataFrame direkt vorgenommen werden sollen.\n",
    "   - **`True`**: Die Änderungen werden direkt im Original-DataFrame vorgenommen (keine Rückgabe).\n",
    "   - **`False`**: Eine neue Kopie des DataFrames wird mit den Änderungen zurückgegeben (Standardwert).\n",
    "\n",
    "<br>\n",
    "\n",
    "4. **`columns`**:\n",
    "   - Gibt die spezifischen Spalten an, die aus dem DataFrame entfernt werden sollen. "
   ]
  },
  {
   "cell_type": "markdown",
   "id": "5a76c944-b43e-464b-a04a-bbf311571cbf",
   "metadata": {},
   "source": [
    "### Beispiel"
   ]
  },
  {
   "cell_type": "code",
   "execution_count": 8,
   "id": "97c71f5c-765c-456b-a7f5-935052d699eb",
   "metadata": {},
   "outputs": [
    {
     "name": "stdout",
     "output_type": "stream",
     "text": [
      "Original DataFrame:\n",
      "      Name  Alter    Stadt\n",
      "0    Alice     25   Berlin\n",
      "1      Bob     30  München\n",
      "2  Charlie     35  Hamburg\n"
     ]
    }
   ],
   "source": [
    "import pandas as pd\n",
    "\n",
    "data = {\n",
    "    'Name': ['Alice', 'Bob', 'Charlie'],\n",
    "    'Alter': [25, 30, 35],\n",
    "    'Stadt': ['Berlin', 'München', 'Hamburg']\n",
    "}\n",
    "\n",
    "df = pd.DataFrame(data)\n",
    "print(\"Original DataFrame:\")\n",
    "print(df)\n"
   ]
  },
  {
   "cell_type": "markdown",
   "id": "72edf505-bbfc-4bb9-a67d-f86814d5c42d",
   "metadata": {},
   "source": [
    "### Zeilen entfernen"
   ]
  },
  {
   "cell_type": "markdown",
   "id": "07e6db62-daa6-4e31-9486-c3de2ca9bcf7",
   "metadata": {},
   "source": [
    "Wenn du `df.drop()` als Argument einen Integer übergibst, z.B. 1, interpretiert pandas die 1 automatisch als den Index der Zeile, die entfernt werden soll. In diesem Fall Bob. "
   ]
  },
  {
   "cell_type": "code",
   "execution_count": 9,
   "id": "2e643416-78b3-4aa5-874c-363dca83cdac",
   "metadata": {},
   "outputs": [
    {
     "name": "stdout",
     "output_type": "stream",
     "text": [
      "\n",
      "DataFrame nach dem Entfernen der Zeile mit Index 1:\n",
      "      Name  Alter    Stadt\n",
      "0    Alice     25   Berlin\n",
      "2  Charlie     35  Hamburg\n"
     ]
    }
   ],
   "source": [
    "df_dropped = df.drop(1)\n",
    "print(\"\\nDataFrame nach dem Entfernen der Zeile mit Index 1:\")\n",
    "print(df_dropped)"
   ]
  },
  {
   "cell_type": "markdown",
   "id": "5bbd28dd-0e29-4d36-a727-ea56f57ccc27",
   "metadata": {},
   "source": [
    "### Spalten entfernen\n",
    "\n",
    "Um die Spalte **`'Alter'`** zu entfernen:\n",
    "\n",
    "```python"
   ]
  },
  {
   "cell_type": "code",
   "execution_count": 10,
   "id": "36d2191b-f321-469b-a070-002930c14d28",
   "metadata": {},
   "outputs": [
    {
     "name": "stdout",
     "output_type": "stream",
     "text": [
      "\n",
      "DataFrame nach dem Entfernen der Spalte 'Alter':\n",
      "      Name    Stadt\n",
      "0    Alice   Berlin\n",
      "1      Bob  München\n",
      "2  Charlie  Hamburg\n"
     ]
    }
   ],
   "source": [
    "df_dropped_col = df.drop('Alter', axis=1)\n",
    "print(\"\\nDataFrame nach dem Entfernen der Spalte 'Alter':\")\n",
    "print(df_dropped_col)"
   ]
  },
  {
   "cell_type": "markdown",
   "id": "c10ebcb3-b665-49bb-8ddd-4ba902add03b",
   "metadata": {},
   "source": [
    "### Inplace-Änderungen\n",
    "\n",
    "Wenn du den DataFrame direkt ändern möchtest, kannst du `inplace=True` verwenden:"
   ]
  },
  {
   "cell_type": "code",
   "execution_count": 11,
   "id": "c6c9ea72-2acf-4e49-9aa7-6de6a483425e",
   "metadata": {},
   "outputs": [
    {
     "name": "stdout",
     "output_type": "stream",
     "text": [
      "\n",
      "DataFrame nach dem Entfernen der Spalte 'Stadt' (inplace):\n",
      "      Name  Alter\n",
      "0    Alice     25\n",
      "1      Bob     30\n",
      "2  Charlie     35\n"
     ]
    }
   ],
   "source": [
    "df.drop('Stadt', axis=1, inplace=True)\n",
    "print(\"\\nDataFrame nach dem Entfernen der Spalte 'Stadt' (inplace):\")\n",
    "print(df)"
   ]
  },
  {
   "cell_type": "markdown",
   "id": "22740275-62f3-43fb-a4ab-08fd77a0de7e",
   "metadata": {},
   "source": [
    "In diesem Fall wurde der Original-DataFrame **`df`** direkt geändert, und die Spalte **`'Stadt'`** wurde entfernt."
   ]
  },
  {
   "cell_type": "markdown",
   "id": "8202725e-4a14-49a1-a734-00beb95d285a",
   "metadata": {},
   "source": [
    "### Zusammenfassung"
   ]
  },
  {
   "cell_type": "markdown",
   "id": "c589c68d-f37b-40bd-b62c-3ccf839b2189",
   "metadata": {},
   "source": [
    "- **`df.drop()`** wird verwendet, um Zeilen oder Spalten aus einem DataFrame zu entfernen.\n",
    "- Du kannst die zu entfernenden Bezeichnungen, den Typ (Zeile oder Spalte) und die Art der Änderung (inplace oder nicht) angeben."
   ]
  },
  {
   "cell_type": "code",
   "execution_count": null,
   "id": "4aba79ac-b547-4273-87f0-8d2e91ba3267",
   "metadata": {},
   "outputs": [],
   "source": []
  }
 ],
 "metadata": {
  "kernelspec": {
   "display_name": "Python 3 (ipykernel)",
   "language": "python",
   "name": "python3"
  },
  "language_info": {
   "codemirror_mode": {
    "name": "ipython",
    "version": 3
   },
   "file_extension": ".py",
   "mimetype": "text/x-python",
   "name": "python",
   "nbconvert_exporter": "python",
   "pygments_lexer": "ipython3",
   "version": "3.12.6"
  }
 },
 "nbformat": 4,
 "nbformat_minor": 5
}
