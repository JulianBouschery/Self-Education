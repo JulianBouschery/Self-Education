{
 "cells": [
  {
   "cell_type": "markdown",
   "id": "dd2fe186-50ff-487b-be86-0f6da20e82bf",
   "metadata": {},
   "source": [
    "# Aggregationsfuntionen in NumPy und Pandas"
   ]
  },
  {
   "cell_type": "markdown",
   "id": "91061848-2a7a-409f-a236-1b3b1ec043b3",
   "metadata": {},
   "source": [
    "Aggregationsfunktionen sind Funktionen, die eine Vielzahl von Werten zu einem einzelnen, aussagekräftigen Wert zusammenfassen. Sie sind besonders nützlich, um Daten zusammenzufassen und zu analysieren. Bekannte Beispiele sind:\n",
    "\n",
    "- **`sum`**: Berechnet die Summe aller Werte.\n",
    "- **`mean`**: Gibt den Durchschnitt der Werte zurück.\n",
    "- **`min` und `max`**: Finden den kleinsten bzw. größten Wert.\n",
    "- **`count`**: Zählt die Anzahl der Werte.\n"
   ]
  },
  {
   "cell_type": "markdown",
   "id": "02cc13a3-05d6-4218-acff-449ec0cc67ac",
   "metadata": {},
   "source": [
    "Sowohl NumPy als auch Pandas bieten optimierte, spezialisierte Versionen von Aggregationsfunktionen, die effizienter sind als die Python-Standardfunktionen. Diese Funktionen sind auf die schnelle Verarbeitung großer Datenmengen ausgelegt und nutzen oft C- oder Fortran-Bibliotheken im Hintergrund, um die Berechnungen zu beschleunigen."
   ]
  },
  {
   "cell_type": "markdown",
   "id": "8c44e12a-3627-4b5b-acd6-2e38c3946606",
   "metadata": {},
   "source": [
    "## Optimierte Aggregationsfunktionen in NumPy"
   ]
  },
  {
   "cell_type": "markdown",
   "id": "51d7305e-d332-48cc-b507-40b89355521f",
   "metadata": {},
   "source": [
    "NumPy bietet viele aggregierende Funktionen, die speziell für numerische Arrays optimiert sind:\n",
    "\n",
    "- [np.sum()](np.sum.ipynb), [np.mean()](np.mean.ipynb), [np.min()](np.min.ipynb), [np.max()](np.max.ipynb): Arbeiten sehr schnell auf Arrays und können zusätzlich auch entlang von Achsen (`axis=0` oder `axis=1`) ausgeführt werden.\n",
    "- [np.median()](np.median.ipynb), [np.std()](np.std.ipynb) (Standardabweichung), [np.var()](np.var.ipynb) (Varianz): Statistische Funktionen, die schneller sind als die Standardfunktionen aus dem Python-Kernmodul."
   ]
  },
  {
   "cell_type": "markdown",
   "id": "aa5c81eb-b749-4a1c-9782-f152e2f92b67",
   "metadata": {},
   "source": [
    "Beispiel mit NumPy:"
   ]
  },
  {
   "cell_type": "code",
   "execution_count": 1,
   "id": "67bd5660-1bd6-420a-a856-957002de452c",
   "metadata": {},
   "outputs": [
    {
     "name": "stdout",
     "output_type": "stream",
     "text": [
      "3.0\n"
     ]
    }
   ],
   "source": [
    "import numpy as np\n",
    "import pandas as pd\n",
    "\n",
    "# Erstelle einen großen Datensatz mit zufälligen Werten\n",
    "n = 1_000_000  # 1 Million\n",
    "data = np.random.rand(n)"
   ]
  },
  {
   "cell_type": "markdown",
   "id": "47ccc6b7-4ee0-42fd-9d10-74c1677bba68",
   "metadata": {},
   "source": [
    "#### Core-Python"
   ]
  },
  {
   "cell_type": "code",
   "execution_count": 13,
   "id": "8143d4ee-ad97-4ff6-9e5c-e18c1be353dc",
   "metadata": {},
   "outputs": [
    {
     "name": "stdout",
     "output_type": "stream",
     "text": [
      "49.1 ms ± 207 μs per loop (mean ± std. dev. of 7 runs, 10 loops each)\n"
     ]
    }
   ],
   "source": [
    "%timeit sum(data)  # Core Python"
   ]
  },
  {
   "cell_type": "markdown",
   "id": "a2640457-d623-46cc-8b5f-105767a855d8",
   "metadata": {},
   "source": [
    "### NumPy"
   ]
  },
  {
   "cell_type": "code",
   "execution_count": 17,
   "id": "d8304e36-1d24-4e08-ab9a-c868709caa50",
   "metadata": {},
   "outputs": [
    {
     "name": "stdout",
     "output_type": "stream",
     "text": [
      "243 μs ± 351 ns per loop (mean ± std. dev. of 7 runs, 1,000 loops each)\n"
     ]
    }
   ],
   "source": [
    "# Zeitmessung für NumPy\n",
    "data_array = np.array(data)\n",
    "%timeit np.sum(data_array)  # NumPy"
   ]
  },
  {
   "cell_type": "markdown",
   "id": "6c2b5c3e-b5a6-4747-b018-b56f32c61c39",
   "metadata": {},
   "source": [
    "## Optimierte Aggregationsfunktionen in Pandas"
   ]
  },
  {
   "cell_type": "markdown",
   "id": "346f78ee-221b-4163-abb8-91875f0ba319",
   "metadata": {},
   "source": [
    "In Pandas werden viele Aggregationsfunktionen direkt aus NumPy übernommen und optimiert. Beispiele sind:\n",
    "\n",
    "- [pd.Series.sum()](pd.Series.sum.ipynb) und [pd.Series.mean()](pd.Series.mean.ipynb) nutzen interne Optimierungen, um Summen und Durchschnittswerte schnell zu berechnen.\n",
    "- [pd.Series.min() und pd.Series.max()](pd.Series.min_max.ipynb) haben schnellere Berechnungen durch optimierte Algorithmen.\n",
    "- [pd.Series.count()](pd.Series.count.ipynb) zählt die Einträge direkt und ignoriert standardmäßig `NaN`-Werte (ohne explizite Filterung).\n",
    "- [pd.Series.agg()](pd.Series.agg.ipynb) und [apply()](df.apply.ipynb): Mit diesen Methoden kann man mehrere Aggregationsfunktionen auf einmal anwenden und komplexere Berechnungen durchführen."
   ]
  },
  {
   "cell_type": "markdown",
   "id": "b14d5411-46fd-46c3-8e14-8821755927db",
   "metadata": {},
   "source": [
    "### Zeitlicher vergleich zwischen Core Python und Pandas"
   ]
  },
  {
   "cell_type": "markdown",
   "id": "96359ca2-8407-46b7-a167-54da5024a111",
   "metadata": {},
   "source": [
    "Siehe auch: [%timeit](../../../Python/Zentral_Ordner/Magic/timeit.ipynb)"
   ]
  },
  {
   "cell_type": "code",
   "execution_count": 10,
   "id": "5ddc7f40-d2d9-45c4-833f-f913022d436c",
   "metadata": {},
   "outputs": [],
   "source": [
    "import numpy as np\n",
    "import pandas as pd\n",
    "\n",
    "# Erstelle einen großen Datensatz mit zufälligen Werten\n",
    "n = 1_000_000  # 1 Million\n",
    "data = np.random.rand(n)"
   ]
  },
  {
   "cell_type": "markdown",
   "id": "da104deb-4594-4e74-83ed-c55dc325d8e5",
   "metadata": {},
   "source": [
    "#### Core-Python"
   ]
  },
  {
   "cell_type": "code",
   "execution_count": 13,
   "id": "0b003d1a-bfc1-43df-bc1c-a3d0bf8e22fe",
   "metadata": {},
   "outputs": [
    {
     "name": "stdout",
     "output_type": "stream",
     "text": [
      "49.1 ms ± 207 μs per loop (mean ± std. dev. of 7 runs, 10 loops each)\n"
     ]
    }
   ],
   "source": [
    "%timeit sum(data)  # Core Python"
   ]
  },
  {
   "cell_type": "markdown",
   "id": "246b4ca7-318a-421e-abb4-b605871e7a89",
   "metadata": {},
   "source": [
    "#### Pandas"
   ]
  },
  {
   "cell_type": "code",
   "execution_count": 14,
   "id": "350938a4-8312-401a-af8b-ffa1182426ab",
   "metadata": {},
   "outputs": [
    {
     "name": "stdout",
     "output_type": "stream",
     "text": [
      "358 μs ± 496 ns per loop (mean ± std. dev. of 7 runs, 1,000 loops each)\n"
     ]
    }
   ],
   "source": [
    "df = pd.DataFrame(data, columns=['Values'])\n",
    "\n",
    "%timeit df['Values'].sum()  # Pandas"
   ]
  },
  {
   "cell_type": "markdown",
   "id": "e7661d40-1bd4-4e20-ab42-3d29ad563ee8",
   "metadata": {},
   "source": [
    "Bemerkung: 1 Millisekunde entspricht 1000 Microsekunden"
   ]
  },
  {
   "cell_type": "code",
   "execution_count": 15,
   "id": "4e8dccbf-ddcc-488d-9a5c-2f426c1505f3",
   "metadata": {},
   "outputs": [
    {
     "data": {
      "text/plain": [
       "142.85714285714286"
      ]
     },
     "execution_count": 15,
     "metadata": {},
     "output_type": "execute_result"
    }
   ],
   "source": [
    "50*1000 / 350"
   ]
  },
  {
   "cell_type": "markdown",
   "id": "20efe409-a9bd-4f53-9576-ecfd0412e06d",
   "metadata": {},
   "source": [
    "Pandas ist in diesem Fall also etwa 140 mal schneller als Core Python."
   ]
  },
  {
   "cell_type": "markdown",
   "id": "2cea2b70-505c-4035-83d8-ec1d86dfc2e3",
   "metadata": {},
   "source": [
    "## Zusammenfassung"
   ]
  },
  {
   "cell_type": "markdown",
   "id": "8c7f7ac2-9291-43e1-831c-41fc247e4828",
   "metadata": {
    "jp-MarkdownHeadingCollapsed": true
   },
   "source": [
    "Sowohl Pandas als auch NumPy bieten optimierte Aggregationsfunktionen, die effizienter sind als Standardfunktionen in Core-Python. Ab wann der Einsatz von NumPy oder Pandas im Vergleich zu Core-Python sinnvoll ist, hängt von mehreren Faktoren ab:"
   ]
  },
  {
   "cell_type": "markdown",
   "id": "8cc9f6d9-1c4f-412d-ad89-0865e6566cd6",
   "metadata": {},
   "source": [
    "### 1. **Größe des Datensatzes**"
   ]
  },
  {
   "cell_type": "markdown",
   "id": "e0b31ebc-b55f-44f8-968d-a010222e745a",
   "metadata": {
    "jp-MarkdownHeadingCollapsed": true
   },
   "source": [
    "- **Kleine Datensätze (unter 1.000 Einträge)**: Bei kleinen Datensätzen gibt es oft keinen großen Vorteil in der Ausführungszeit zwischen Core-Python und Pandas oder NumPy. Der Overhead durch das Laden von Pandas oder NumPy kann den Vorteil teilweise aufheben.\n",
    "- **Mittlere Datensätze (10.000 bis 100.000 Einträge)**: Hier können Pandas und NumPy ihre Vorteile zeigen. Die optimierten Algorithmen und Datenstrukturen beider Bibliotheken sind auf größere Datenmengen ausgelegt.\n",
    "- **Große Datensätze (über 100.000 Einträge)**: Bei sehr großen Datensätzen (z.B. Millionen Einträgen) wird der Unterschied deutlich sichtbar, da Pandas und NumPy eine weitaus bessere Performance und Speichereffizienz bieten."
   ]
  },
  {
   "cell_type": "markdown",
   "id": "bfcd0dc6-3909-442e-a586-57acb463a60f",
   "metadata": {},
   "source": [
    "### 2. **Art der Operationen**"
   ]
  },
  {
   "cell_type": "markdown",
   "id": "2f21d1c0-edd1-4813-b229-34b995141f42",
   "metadata": {
    "jp-MarkdownHeadingCollapsed": true
   },
   "source": [
    "- **Aggregationen und Gruppierungen**: Pandas und NumPy sind besonders effizient bei Aggregationen und Gruppierungen, insbesondere bei der Arbeit mit Zeitreihendaten oder Berechnungen auf multidimensionalen Arrays (NumPy).\n",
    "- **Mathematische und lineare Algebra-Operationen**: NumPy ist besonders stark in Vektor- und Matrixoperationen, während Pandas besser für tabellarische Datenanalysen und komplexe Datenmanipulationen geeignet ist."
   ]
  },
  {
   "cell_type": "markdown",
   "id": "e3249795-53f7-47af-bbcf-a919b44fd603",
   "metadata": {},
   "source": [
    "### 3. **Speichereffizienz**"
   ]
  },
  {
   "cell_type": "markdown",
   "id": "83ef9452-876a-4966-a5c1-b58a43e62e8c",
   "metadata": {
    "jp-MarkdownHeadingCollapsed": true
   },
   "source": [
    "- Beide Bibliotheken verwenden optimierte Datenstrukturen (z.B. `DataFrame` und `Series` in Pandas, `ndarray` in NumPy), die weniger Speicherplatz als Listen und Dictionaries in Core-Python benötigen und eine höhere Zugriffsgeschwindigkeit bieten."
   ]
  },
  {
   "cell_type": "markdown",
   "id": "f7780385-dd09-40e6-b43c-6fcd07da64c0",
   "metadata": {},
   "source": [
    "### Fazit"
   ]
  },
  {
   "cell_type": "markdown",
   "id": "cbcfb103-998b-449a-bb4f-3be935abc9d1",
   "metadata": {
    "jp-MarkdownHeadingCollapsed": true
   },
   "source": [
    "Zusammengefasst:\n",
    "- Bei kleineren Datensätzen und einfachen Operationen sind Core-Python-Funktionen ausreichend.\n",
    "- Für große Datensätze oder bei mathematisch komplexeren Berechnungen sind Pandas und NumPy die besseren Optionen."
   ]
  }
 ],
 "metadata": {
  "kernelspec": {
   "display_name": "Python 3 (ipykernel)",
   "language": "python",
   "name": "python3"
  },
  "language_info": {
   "codemirror_mode": {
    "name": "ipython",
    "version": 3
   },
   "file_extension": ".py",
   "mimetype": "text/x-python",
   "name": "python",
   "nbconvert_exporter": "python",
   "pygments_lexer": "ipython3",
   "version": "3.12.6"
  }
 },
 "nbformat": 4,
 "nbformat_minor": 5
}
