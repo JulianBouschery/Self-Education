{
 "cells": [
  {
   "cell_type": "markdown",
   "id": "dd2fe186-50ff-487b-be86-0f6da20e82bf",
   "metadata": {},
   "source": [
    "# Aggregationsfuntionen in NumPy und Pandas"
   ]
  },
  {
   "cell_type": "markdown",
   "id": "91061848-2a7a-409f-a236-1b3b1ec043b3",
   "metadata": {},
   "source": [
    "Aggregationsfunktionen sind Funktionen, die eine Vielzahl von Werten zu einem einzelnen, aussagekräftigen Wert zusammenfassen. Sie sind besonders nützlich, um Daten zusammenzufassen und zu analysieren, Bekannte Beispiele sind:\n",
    "\n",
    "- **`sum`**: Berechnet die Summe aller Werte.\n",
    "- **`mean`**: Gibt den Durchschnitt der Werte zurück.\n",
    "- **`min` und `max`**: Finden den kleinsten bzw. größten Wert.\n",
    "- **`count`**: Zählt die Anzahl der Werte.\n"
   ]
  },
  {
   "cell_type": "markdown",
   "id": "02cc13a3-05d6-4218-acff-449ec0cc67ac",
   "metadata": {},
   "source": [
    "Sowohl NumPy als auch Pandas bieten optimierte, spezialisierte Versionen von Aggregationsfunktionen, die effizienter sind als die Python-Standardfunktionen. Diese Funktionen sind auf die schnelle Verarbeitung großer Datenmengen ausgelegt und nutzen oft C- oder Fortran-Bibliotheken im Hintergrund, um die Berechnungen zu beschleunigen."
   ]
  },
  {
   "cell_type": "markdown",
   "id": "6c2b5c3e-b5a6-4747-b018-b56f32c61c39",
   "metadata": {},
   "source": [
    "### 1. Optimierte Aggregationsfunktionen in Pandas"
   ]
  },
  {
   "cell_type": "markdown",
   "id": "112445b7-f922-4ec6-8de3-2bcdc9259b11",
   "metadata": {},
   "source": [
    "In Pandas werden viele Aggregationsfunktionen direkt aus NumPy übernommen und optimiert. Beispiele sind:\n",
    "\n",
    "- [pd.Series.sum()](pd.Series.sum.ipynb) und [pd.Series.mean()](pd.Series.mean.ipynb) nutzen interne Optimierungen, um Summen und Durchschnittswerte schnell zu berechnen.\n",
    "- [pd.Series.min() und pd.Series.max()](pd.Series.min_max.ipynb) haben schnellere Berechnungen durch optimierte Algorithmen.\n",
    "- [pd.Series.count()](pd.Series.count.ipynb) zählt die Einträge direkt und ignoriert standardmäßig `NaN`-Werte (ohne explizite Filterung).\n",
    "- [pd.Series.agg()](pd.Series.agg.ipynb) und [apply()](df.apply.ipynb): Mit diesen Methoden kann man mehrere Aggregationsfunktionen auf einmal anwenden und komplexere Berechnungen durchführen.\n",
    "\n",
    "Ein Beispiel:\n",
    "```python\n",
    "import pandas as pd\n",
    "\n",
    "df = pd.DataFrame({\n",
    "    'A': [1, 2, 3, 4, 5],\n",
    "    'B': [10, 20, 30, 40, 50]\n",
    "})\n",
    "\n",
    "# Schnelle, optimierte Summe\n",
    "print(df['A'].sum())\n",
    "```\n",
    "\n",
    "### 2. NumPy-Aggregationsfunktionen\n",
    "\n",
    "NumPy bietet ebenfalls viele aggregierende Funktionen, die speziell für numerische Arrays optimiert sind:\n",
    "\n",
    "- **`np.sum`**, **`np.mean`**, **`np.min`**, **`np.max`**: Arbeiten sehr schnell auf Arrays und können zusätzlich auch entlang von Achsen (`axis=0` oder `axis=1`) ausgeführt werden.\n",
    "- **`np.median`**, **`np.std`** (Standardabweichung), **`np.var`** (Varianz): Statistische Funktionen, die schneller sind als die Standardfunktionen aus dem Python-Kernmodul.\n",
    "\n",
    "Beispiel mit NumPy:\n",
    "```python\n",
    "import numpy as np\n",
    "\n",
    "array = np.array([1, 2, 3, 4, 5])\n",
    "\n",
    "# Schnelle Berechnung des Durchschnitts\n",
    "print(np.mean(array))\n",
    "```\n",
    "\n",
    "### Unterschied zur Python Core Library\n",
    "\n",
    "Python-Core-Aggregationsfunktionen wie `sum()` und `min()` funktionieren zwar auch mit Listen und anderen iterierbaren Objekten, sind aber nicht so effizient für große Datenmengen. Sie sind nicht für vektorisiertes Rechnen optimiert, weshalb NumPy und Pandas eine deutlich bessere Leistung bieten.\n",
    "\n",
    "### Zusammenfassung\n",
    "\n",
    "Pandas und NumPy bieten spezialisierte Aggregationsfunktionen, die schneller und ressourcenschonender sind als die Standardfunktionen in Python. Diese Funktionen sind besonders hilfreich für große Datenmengen und bei der Arbeit mit numerischen Daten."
   ]
  },
  {
   "cell_type": "code",
   "execution_count": null,
   "id": "2770ed2c-b164-42d7-9251-22871f88e3e8",
   "metadata": {},
   "outputs": [],
   "source": []
  }
 ],
 "metadata": {
  "kernelspec": {
   "display_name": "Python 3 (ipykernel)",
   "language": "python",
   "name": "python3"
  },
  "language_info": {
   "codemirror_mode": {
    "name": "ipython",
    "version": 3
   },
   "file_extension": ".py",
   "mimetype": "text/x-python",
   "name": "python",
   "nbconvert_exporter": "python",
   "pygments_lexer": "ipython3",
   "version": "3.12.6"
  }
 },
 "nbformat": 4,
 "nbformat_minor": 5
}
