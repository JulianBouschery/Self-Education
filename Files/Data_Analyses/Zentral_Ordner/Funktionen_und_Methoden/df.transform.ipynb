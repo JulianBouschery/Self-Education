{
 "cells": [
  {
   "cell_type": "markdown",
   "id": "c7ac3fb8-df19-46a9-80a4-ac7e78191db3",
   "metadata": {},
   "source": [
    "# df.transform()"
   ]
  },
  {
   "cell_type": "markdown",
   "id": "c239f195-d426-42bc-90b0-db5a1efac59c",
   "metadata": {},
   "source": [
    "Die Methode `df.transform()` in Pandas wird verwendet, um eine Funktion auf eine DataFrame-Spalte oder Gruppe anzuwenden und gleichzeitig die ursprüngliche Form des DataFrames beizubehalten. Sie ist besonders nützlich, wenn wir eine Transformation oder Berechnung an einer oder mehreren Spalten durchführen möchten und das Ergebnis die gleiche Struktur wie die Eingabedaten behalten soll."
   ]
  },
  {
   "cell_type": "markdown",
   "id": "a358f64f-9220-42fb-9c32-f4af9b6d0181",
   "metadata": {},
   "source": [
    "### Hauptmerkmale von `.transform()`:"
   ]
  },
  {
   "cell_type": "markdown",
   "id": "167bcdcc-9e8c-4de7-81f7-df5fa305d679",
   "metadata": {},
   "source": [
    "- Gibt das Ergebnis in derselben Form wie die Eingabedaten zurück.\n",
    "- Wird häufig zusammen mit [.groupby()](df.groupby.ipynb) verwendet, um Transformationen in Gruppen durchzuführen und die Ergebnisse pro Gruppe in die Originalstruktur zurückzusetzen.\n",
    "- Unterstützt die Anwendung von Funktionen auf Spalten eines DataFrames (z.B. Berechnung von Mittelwerten, Skalierungen, etc.)."
   ]
  },
  {
   "cell_type": "markdown",
   "id": "5767dc83-8f58-492a-98a0-2fc6397b6889",
   "metadata": {},
   "source": [
    "### Syntax\n",
    "```python\n",
    "DataFrame.transform(func, axis=0, *args, **kwargs)\n",
    "```"
   ]
  },
  {
   "cell_type": "markdown",
   "id": "5174e394-a0cd-4423-9551-3748160083db",
   "metadata": {},
   "source": [
    "- **func**: Die Funktion oder ein Funktionsname, die auf jede Spalte angewendet wird.\n",
    "- **axis**: 0 oder 'index' für Zeilen, 1 oder 'columns' für Spalten."
   ]
  },
  {
   "cell_type": "markdown",
   "id": "76a4a918-6e83-4269-ab9f-7e48c5955a71",
   "metadata": {},
   "source": [
    "### Beispiel ohne Gruppierung"
   ]
  },
  {
   "cell_type": "code",
   "execution_count": 1,
   "id": "aa9f00fe-4091-420f-b4a2-a314ec9f1f37",
   "metadata": {},
   "outputs": [
    {
     "name": "stdout",
     "output_type": "stream",
     "text": [
      "   A   B  A_squared\n",
      "0  1  10          1\n",
      "1  2  20          4\n",
      "2  3  30          9\n"
     ]
    }
   ],
   "source": [
    "import pandas as pd\n",
    "\n",
    "df = pd.DataFrame({'A': [1, 2, 3], 'B': [10, 20, 30]})\n",
    "\n",
    "# Quadrat jedes Wertes in der Spalte 'A'\n",
    "df['A_squared'] = df['A'].transform(lambda x: x**2)\n",
    "\n",
    "print(df)"
   ]
  },
  {
   "cell_type": "markdown",
   "id": "0add942c-4245-4784-a1df-88d7de58fcb5",
   "metadata": {},
   "source": [
    "### Beispiel mit Gruppierung"
   ]
  },
  {
   "cell_type": "code",
   "execution_count": 2,
   "id": "cd54db54-be26-4972-92d7-42798f29c041",
   "metadata": {},
   "outputs": [
    {
     "name": "stdout",
     "output_type": "stream",
     "text": [
      "  Gruppe  Wert  Gruppenmittelwert\n",
      "0      A    10               15.0\n",
      "1      A    20               15.0\n",
      "2      B    30               35.0\n",
      "3      B    40               35.0\n"
     ]
    }
   ],
   "source": [
    "# DataFrame mit Gruppen\n",
    "df = pd.DataFrame({'Gruppe': ['A', 'A', 'B', 'B'], 'Wert': [10, 20, 30, 40]})\n",
    "\n",
    "# Berechne den Mittelwert jeder Gruppe und behalte die Form des DataFrames bei\n",
    "df['Gruppenmittelwert'] = df.groupby('Gruppe')['Wert'].transform('mean')\n",
    "\n",
    "print(df)"
   ]
  },
  {
   "cell_type": "markdown",
   "id": "a6137ce8-968d-4837-a310-bb6cfb8a3b90",
   "metadata": {},
   "source": [
    "Hier wird jeder `Wert` durch den Mittelwert seiner Gruppe ersetzt, wobei die Gruppenzugehörigkeit erhalten bleibt."
   ]
  }
 ],
 "metadata": {
  "kernelspec": {
   "display_name": "Python 3 (ipykernel)",
   "language": "python",
   "name": "python3"
  },
  "language_info": {
   "codemirror_mode": {
    "name": "ipython",
    "version": 3
   },
   "file_extension": ".py",
   "mimetype": "text/x-python",
   "name": "python",
   "nbconvert_exporter": "python",
   "pygments_lexer": "ipython3",
   "version": "3.12.6"
  }
 },
 "nbformat": 4,
 "nbformat_minor": 5
}
