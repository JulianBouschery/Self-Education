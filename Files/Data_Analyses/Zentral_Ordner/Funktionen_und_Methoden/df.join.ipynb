{
 "cells": [
  {
   "cell_type": "markdown",
   "id": "5cb6ae40-e6ba-4f3d-930b-671ed90f5f48",
   "metadata": {},
   "source": [
    "# df.join()"
   ]
  },
  {
   "cell_type": "markdown",
   "id": "460fbfd9-44f6-490a-bbef-6ae6898359f6",
   "metadata": {
    "editable": true,
    "slideshow": {
     "slide_type": ""
    },
    "tags": []
   },
   "source": [
    "`df.join()` ist eine Methode in Pandas, mit der zwei DataFrames basierend auf dem Index oder auf bestimmten Spalten kombiniert werden. Es eignet sich gut, wenn man Daten zusammenführen will, die über dieselben Indexwerte verfügen, beispielsweise Daten über verschiedene Aspekte eines Objekts oder einer Person.  "
   ]
  },
  {
   "cell_type": "markdown",
   "id": "525a6230-781b-45b8-b993-1766a613e27d",
   "metadata": {
    "editable": true,
    "slideshow": {
     "slide_type": ""
    },
    "tags": []
   },
   "source": [
    "### Syntax"
   ]
  },
  {
   "cell_type": "markdown",
   "id": "bc2f6742-2363-4d94-a58b-5fdf90fa223f",
   "metadata": {
    "editable": true,
    "slideshow": {
     "slide_type": ""
    },
    "tags": []
   },
   "source": [
    "```python\n",
    "df1.join(df2, on=None, how='left', lsuffix='', rsuffix='', sort=False)\n",
    "```"
   ]
  },
  {
   "cell_type": "markdown",
   "id": "0f641e43-7853-436a-a692-362ecd0be429",
   "metadata": {
    "editable": true,
    "slideshow": {
     "slide_type": ""
    },
    "tags": []
   },
   "source": [
    "- **`df2`**: Der zweite DataFrame, den man mit `df1` verbinden möchte.\n",
    "- **`on`**: Falls man Spalten statt des Indexes verwenden möchte, kann hier eine gemeinsame Spalte angegeben werden.\n",
    "- **`how`**: Bestimmt die Art des Joins. Standardmäßig ist es ein *left join*, d.h., alle Zeilen von `df1` werden beibehalten, und passende Zeilen von `df2` werden hinzugefügt. Weitere Optionen sind `right`, `inner`, und `outer`.\n",
    "- **`lsuffix` und `rsuffix`**: Falls beide DataFrames Spalten mit denselben Namen haben, kann man sie suffixieren, um Namenskonflikte zu vermeiden."
   ]
  },
  {
   "cell_type": "markdown",
   "id": "805caca1-7ed8-4677-8b42-4a2e1904aee2",
   "metadata": {
    "editable": true,
    "slideshow": {
     "slide_type": ""
    },
    "tags": []
   },
   "source": [
    "### Beispiel"
   ]
  },
  {
   "cell_type": "markdown",
   "id": "b1ada190-ec11-43f0-b145-24c5b062780b",
   "metadata": {
    "editable": true,
    "slideshow": {
     "slide_type": ""
    },
    "tags": []
   },
   "source": [
    "Angenommen, `df1` enthält Kundennamen und `df2` deren Bestellungen, die beide denselben Index (z.B. `KundenID`) haben:"
   ]
  },
  {
   "cell_type": "code",
   "execution_count": 1,
   "id": "2337ab6d-a667-456b-b800-0fecb11c8e08",
   "metadata": {
    "editable": true,
    "slideshow": {
     "slide_type": ""
    },
    "tags": []
   },
   "outputs": [
    {
     "name": "stdout",
     "output_type": "stream",
     "text": [
      "      Name   Order\n",
      "1    Alice  Order1\n",
      "2      Bob  Order2\n",
      "3  Charlie  Order3\n"
     ]
    }
   ],
   "source": [
    "import pandas as pd\n",
    "\n",
    "# DataFrames erstellen\n",
    "df1 = pd.DataFrame({'Name': ['Alice', 'Bob', 'Charlie']}, index=[1, 2, 3])\n",
    "df2 = pd.DataFrame({'Order': ['Order1', 'Order2', 'Order3']}, index=[1, 2, 3])\n",
    "\n",
    "# Join basierend auf dem Index\n",
    "df_joined = df1.join(df2)\n",
    "\n",
    "print(df_joined)"
   ]
  },
  {
   "cell_type": "markdown",
   "id": "8d7e75c6-cb1d-4ac1-ad7d-94b0b3d88098",
   "metadata": {
    "editable": true,
    "slideshow": {
     "slide_type": ""
    },
    "tags": []
   },
   "source": [
    "### Zusammenfassung"
   ]
  },
  {
   "cell_type": "markdown",
   "id": "ac6be4d6-bea3-42e9-bd74-218c81dc5599",
   "metadata": {
    "editable": true,
    "slideshow": {
     "slide_type": ""
    },
    "tags": []
   },
   "source": [
    "- `df.join()` ist praktisch für das Kombinieren von Daten, die denselben Indexwerten entsprechen.\n",
    "- Wenn Indexe unterschiedlich sind oder Daten in einer Spalte gemeinsam genutzt werden sollen, ist [pd.merge()](pd.merge.ipynb) eine bessere Alternative."
   ]
  },
  {
   "cell_type": "code",
   "execution_count": null,
   "id": "461f879d-7020-4c4b-ad39-4332c1ad171c",
   "metadata": {},
   "outputs": [],
   "source": []
  }
 ],
 "metadata": {
  "kernelspec": {
   "display_name": "Python 3 (ipykernel)",
   "language": "python",
   "name": "python3"
  },
  "language_info": {
   "codemirror_mode": {
    "name": "ipython",
    "version": 3
   },
   "file_extension": ".py",
   "mimetype": "text/x-python",
   "name": "python",
   "nbconvert_exporter": "python",
   "pygments_lexer": "ipython3",
   "version": "3.12.6"
  }
 },
 "nbformat": 4,
 "nbformat_minor": 5
}
