{
 "cells": [
  {
   "cell_type": "markdown",
   "id": "e06d3127-be6d-438a-b787-1c41dc57e339",
   "metadata": {},
   "source": [
    "# pd.melt()"
   ]
  },
  {
   "cell_type": "markdown",
   "id": "e2bff894-d7cc-4c62-8191-6f24b112e3e7",
   "metadata": {},
   "source": [
    "Siehe auch: [Wide vs. Long Format](../../Themen/Preprocessing/Wide_vs._Long.ipynb)"
   ]
  },
  {
   "cell_type": "markdown",
   "id": "a4a0f28b-9a6e-43ed-b821-737bfbf10af3",
   "metadata": {},
   "source": [
    "`pd.melt()` ist eine Funktion in der Pandas-Bibliothek, die verwendet wird, um einen **DataFrame von einem breiten Format in ein langes Format** umzuwandeln. Dies ist besonders nützlich, wenn man Daten für die Analyse oder Visualisierung umstrukturieren möchte, beispielsweise für statistische Analysen oder grafische Darstellungen."
   ]
  },
  {
   "cell_type": "markdown",
   "id": "34bf0f20-f9c8-4fd7-9965-26369dcb1652",
   "metadata": {},
   "source": [
    "### Grundkonzept"
   ]
  },
  {
   "cell_type": "markdown",
   "id": "a133558d-09ea-45fc-a6d8-a98c6c3fac26",
   "metadata": {},
   "source": [
    "- **Breites Format**: In diesem Format sind mehrere Variablen (Spalten) in verschiedenen Spalten angeordnet. Oft wird dies in Tabellen verwendet, die Messungen für verschiedene Zeitpunkte oder Bedingungen enthalten.\n",
    "- **Langes Format**: In diesem Format sind die Variablen in einer einzigen Spalte angeordnet, wobei eine zusätzliche Spalte erstellt wird, um den Typ der Variablen zu identifizieren. Dies erleichtert die Arbeit mit vielen Pandas-Funktionen, die oft besser mit langen Daten umgehen können."
   ]
  },
  {
   "cell_type": "markdown",
   "id": "4221ab0d-fb95-4028-9dc6-f7ef02ba320d",
   "metadata": {},
   "source": [
    "### Syntax"
   ]
  },
  {
   "cell_type": "markdown",
   "id": "25914157-f4f0-48a8-a0cb-d7bd59117ee3",
   "metadata": {},
   "source": [
    "```python\n",
    "pd.melt(frame, id_vars=None, value_vars=None, var_name=None, value_name='value', col_level=None, ignore_index=True)\n",
    "```"
   ]
  },
  {
   "cell_type": "markdown",
   "id": "e25a1046-f257-4f19-9f09-d2a9bc82ac18",
   "metadata": {},
   "source": [
    "### Parameter"
   ]
  },
  {
   "cell_type": "markdown",
   "id": "155ff043-8b06-4504-acfd-6e7c2c0caaa1",
   "metadata": {},
   "source": [
    "- **`frame`**: Der DataFrame, den du umwandeln möchtest.\n",
    "- **`id_vars`**: Spalten, die als Bezeichner verwendet werden (diese Spalten bleiben unverändert). Wenn nicht angegeben, werden alle Spalten als `value_vars` behandelt.\n",
    "- **`value_vars`**: Die Spalten, die geschmolzen werden sollen. Wenn nicht angegeben, werden alle Spalten verwendet, die nicht in `id_vars` enthalten sind.\n",
    "- **`var_name`**: Der Name der neuen Spalte, die die Namen der `value_vars` speichert.\n",
    "- **`value_name`**: Der Name der neuen Spalte, die die Werte speichert. Standardmäßig ist dies `'value'`.\n",
    "- **`ignore_index`**: Wenn `True`, wird der Index im Ergebnis neu nummeriert."
   ]
  },
  {
   "cell_type": "markdown",
   "id": "1cc94d99-ae75-4868-af77-37626e6b310a",
   "metadata": {},
   "source": [
    "### Beispiel"
   ]
  },
  {
   "cell_type": "code",
   "execution_count": 1,
   "id": "3173b5f7-853b-41ec-bba2-11de04c13a89",
   "metadata": {},
   "outputs": [
    {
     "name": "stdout",
     "output_type": "stream",
     "text": [
      "Ursprünglicher DataFrame:\n",
      "   ID  Januar  Februar  März\n",
      "0   1     100      150   200\n",
      "1   2     200      250   300\n",
      "\n",
      "DataFrame im langen Format:\n",
      "   ID    Monat  Wert\n",
      "0   1   Januar   100\n",
      "1   2   Januar   200\n",
      "2   1  Februar   150\n",
      "3   2  Februar   250\n",
      "4   1     März   200\n",
      "5   2     März   300\n"
     ]
    }
   ],
   "source": [
    "import pandas as pd\n",
    "\n",
    "# Beispiel-DataFrame im breiten Format\n",
    "df = pd.DataFrame({\n",
    "    'ID': [1, 2],\n",
    "    'Januar': [100, 200],\n",
    "    'Februar': [150, 250],\n",
    "    'März': [200, 300]\n",
    "})\n",
    "\n",
    "print(\"Ursprünglicher DataFrame:\")\n",
    "print(df)\n",
    "\n",
    "# DataFrame in ein langes Format umwandeln\n",
    "melted_df = pd.melt(df, id_vars=['ID'], var_name='Monat', value_name='Wert')\n",
    "\n",
    "print(\"\\nDataFrame im langen Format:\")\n",
    "print(melted_df)"
   ]
  },
  {
   "cell_type": "markdown",
   "id": "873ca52d-5b25-4350-90af-0c27234974a6",
   "metadata": {},
   "source": [
    "### Zusammenfassung"
   ]
  },
  {
   "cell_type": "markdown",
   "id": "968c858b-684b-47aa-a37f-1c8c2788dbeb",
   "metadata": {},
   "source": [
    "- `pd.melt()` ist eine nützliche Methode, um Daten von einem breiten in ein langes Format umzuwandeln.\n",
    "- Dies erleichtert Analysen und Visualisierungen, da viele Pandas-Methoden und Plotting-Bibliotheken (wie Matplotlib und Seaborn) besser mit langen Daten arbeiten können.\n",
    "- Durch die Verwendung von `id_vars` und `value_vars` kannst du steuern, welche Spalten unverändert bleiben und welche geschmolzen werden sollen."
   ]
  },
  {
   "cell_type": "code",
   "execution_count": null,
   "id": "cf4cc61e-df8d-40ec-a633-4362154637de",
   "metadata": {},
   "outputs": [],
   "source": []
  }
 ],
 "metadata": {
  "kernelspec": {
   "display_name": "Python 3 (ipykernel)",
   "language": "python",
   "name": "python3"
  },
  "language_info": {
   "codemirror_mode": {
    "name": "ipython",
    "version": 3
   },
   "file_extension": ".py",
   "mimetype": "text/x-python",
   "name": "python",
   "nbconvert_exporter": "python",
   "pygments_lexer": "ipython3",
   "version": "3.12.6"
  }
 },
 "nbformat": 4,
 "nbformat_minor": 5
}
