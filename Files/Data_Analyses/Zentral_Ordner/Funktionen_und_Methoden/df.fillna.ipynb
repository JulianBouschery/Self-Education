{
 "cells": [
  {
   "cell_type": "markdown",
   "id": "a28365d1-770e-4b35-a261-fa3daa81b1a9",
   "metadata": {},
   "source": [
    "Siehe auch: Imputation"
   ]
  },
  {
   "cell_type": "markdown",
   "id": "2c1ef045-e34c-48a0-8afc-3fa8a5f1977f",
   "metadata": {},
   "source": [
    "# Imputation mittels Pandas"
   ]
  },
  {
   "cell_type": "markdown",
   "id": "f59216cd-5560-4473-9d63-3c6b7acb45ab",
   "metadata": {},
   "source": [
    "Die Methode `df.fillna()` wird in **Pandas** verwendet, um fehlende Werte (`NaN`) in einem DataFrame oder einer Serie zu füllen. Sie ist äußerst nützlich, wenn du mit unvollständigen Datensätzen arbeitest und fehlende Werte durch Standardwerte oder eine berechnete Ersatzstrategie ersetzen möchtest."
   ]
  },
  {
   "cell_type": "markdown",
   "id": "367cf389-e7d3-47a6-9a29-bb36daffcf78",
   "metadata": {},
   "source": [
    "### **Syntax**\n",
    "```python\n",
    "DataFrame.fillna(value=None, method=None, axis=None, inplace=False, limit=None)\n",
    "```"
   ]
  },
  {
   "cell_type": "markdown",
   "id": "0b7eb6e8-ce20-463e-abb5-5dead4890cee",
   "metadata": {},
   "source": [
    "### **Parameter:**\n",
    "- **`value`**: Der Wert oder ein Dictionary von Werten, mit dem die fehlenden Werte ersetzt werden sollen.\n",
    "  - Beispiel: `value=0` ersetzt alle NaN-Werte durch `0`.\n",
    "\n",
    "- **`method`**: Methode zum Füllen von Werten:\n",
    "  - `'ffill'` (Forward Fill): Verwendet den vorherigen Wert in der Spalte.\n",
    "  - `'bfill'` (Backward Fill): Verwendet den nächsten Wert in der Spalte.\n",
    "\n",
    "- **`axis`**: Ob die Werte spaltenweise (`axis=0`, Standardwert) oder zeilenweise (`axis=1`) gefüllt werden sollen.\n",
    "\n",
    "- **`inplace`**: Wenn `True`, wird die Operation direkt auf dem ursprünglichen DataFrame durchgeführt, anstatt eine Kopie zurückzugeben.\n",
    "\n",
    "- **`limit`**: Maximale Anzahl von Werten, die gefüllt werden."
   ]
  },
  {
   "cell_type": "markdown",
   "id": "0e214c1f-ca52-4180-b86e-30b51ed5459e",
   "metadata": {},
   "source": [
    "### **Beispiele**"
   ]
  },
  {
   "cell_type": "markdown",
   "id": "6c3a95eb-9c84-41c7-86dc-dad9cc1dd704",
   "metadata": {},
   "source": [
    "#### **1. Fehlende Werte mit einem festen Wert ersetzen**"
   ]
  },
  {
   "cell_type": "code",
   "execution_count": 14,
   "id": "1fea54d1-5835-4d51-8c0a-2173fa6762ce",
   "metadata": {},
   "outputs": [
    {
     "name": "stdout",
     "output_type": "stream",
     "text": [
      "     A    B\n",
      "0  1.0  NaN\n",
      "1  2.0  4.0\n",
      "2  NaN  5.0\n"
     ]
    }
   ],
   "source": [
    "import pandas as pd\n",
    "import numpy as np\n",
    "\n",
    "data = {'A': [1, 2, np.nan], 'B': [np.nan, 4, 5]}\n",
    "df = pd.DataFrame(data)\n",
    "print(df)"
   ]
  },
  {
   "cell_type": "code",
   "execution_count": 15,
   "id": "be69bb1b-f996-4dfc-81e8-a06fd3992af0",
   "metadata": {},
   "outputs": [
    {
     "name": "stdout",
     "output_type": "stream",
     "text": [
      "     A    B\n",
      "0  1.0  0.0\n",
      "1  2.0  4.0\n",
      "2  0.0  5.0\n"
     ]
    }
   ],
   "source": [
    "# Fehlende Werte mit 0 ersetzen\n",
    "filled_df = df.fillna(0)\n",
    "\n",
    "print(filled_df)"
   ]
  },
  {
   "cell_type": "markdown",
   "id": "fc7d7e6e-ef46-42b7-9fab-53ab7996cbb6",
   "metadata": {},
   "source": [
    "#### **2. Forward Fill (ffill)**"
   ]
  },
  {
   "cell_type": "markdown",
   "id": "0fdd6581-2571-42ce-a9e1-253bff34d4d4",
   "metadata": {},
   "source": [
    "\"Forward Fill\" bedeutet, dass fehlende Werte (NaN) mit dem zuletzt bekannten gültigen Wert davor ersetzt werden."
   ]
  },
  {
   "cell_type": "code",
   "execution_count": 16,
   "id": "83194b67-b723-4d44-8619-b934ce8a1358",
   "metadata": {},
   "outputs": [
    {
     "name": "stdout",
     "output_type": "stream",
     "text": [
      "     A    B\n",
      "0  1.0  NaN\n",
      "1  2.0  4.0\n",
      "2  2.0  5.0\n"
     ]
    }
   ],
   "source": [
    "# Fehlende Werte mit dem vorherigen Wert auffüllen\n",
    "filled_df1 = df.ffill()\n",
    "print(filled_df1)"
   ]
  },
  {
   "cell_type": "code",
   "execution_count": 7,
   "id": "4454cfa0-fb40-4e47-a808-e7f8751a90fc",
   "metadata": {},
   "outputs": [
    {
     "name": "stdout",
     "output_type": "stream",
     "text": [
      "     A    B\n",
      "0  1.0  4.0\n",
      "1  2.0  4.0\n",
      "2  NaN  5.0\n"
     ]
    }
   ],
   "source": [
    "# Fehlende Werte mit dem vorherigen Wert auffüllen\n",
    "filled_df2 = df.bfill(1)\n",
    "\n",
    "print(filled_df2)"
   ]
  },
  {
   "cell_type": "markdown",
   "id": "51e7aaae-c3a8-49de-8131-e1977d7892ee",
   "metadata": {},
   "source": [
    "#### **3. Backward Fill (bfill)**"
   ]
  },
  {
   "cell_type": "code",
   "execution_count": 21,
   "id": "16b89ed7-42eb-4e65-a959-8d39cf78f2ae",
   "metadata": {},
   "outputs": [
    {
     "name": "stdout",
     "output_type": "stream",
     "text": [
      "     A    B\n",
      "0  1.0  4.0\n",
      "1  2.0  4.0\n",
      "2  NaN  5.0\n"
     ]
    },
    {
     "name": "stderr",
     "output_type": "stream",
     "text": [
      "C:\\Users\\jbous\\AppData\\Local\\Temp\\ipykernel_16964\\2021804095.py:2: FutureWarning: DataFrame.fillna with 'method' is deprecated and will raise in a future version. Use obj.ffill() or obj.bfill() instead.\n",
      "  backward_df = df.fillna(method = 'bfill')\n"
     ]
    }
   ],
   "source": [
    "# Fehlende Werte mit dem nächsten Wert auffüllen\n",
    "backward_df = df.fillna(method = 'bfill')\n",
    "\n",
    "print(backward_df)"
   ]
  },
  {
   "cell_type": "markdown",
   "id": "f7255284-e945-409f-89d2-85486f5a9ee4",
   "metadata": {},
   "source": [
    "#### **4. Spaltenweise unterschiedliche Werte ersetzen**"
   ]
  },
  {
   "cell_type": "code",
   "execution_count": 23,
   "id": "fbdfebc3-f900-415d-98d4-760692a2be1a",
   "metadata": {},
   "outputs": [
    {
     "name": "stdout",
     "output_type": "stream",
     "text": [
      "      A     B\n",
      "0   1.0  42.0\n",
      "1   2.0   4.0\n",
      "2  99.0   5.0\n"
     ]
    }
   ],
   "source": [
    "# Unterschiedliche Werte für jede Spalte\n",
    "filled_df = df.fillna({'A': 99, 'B': 42})\n",
    "\n",
    "print(filled_df)"
   ]
  },
  {
   "cell_type": "markdown",
   "id": "4cc3c662-f260-46dd-a7b7-e4827e3bb062",
   "metadata": {},
   "source": [
    "#### **5. Inplace-Funktionalität**"
   ]
  },
  {
   "cell_type": "code",
   "execution_count": 24,
   "id": "c6d5c519-7f42-49c2-933f-8163989bc7a1",
   "metadata": {},
   "outputs": [
    {
     "name": "stdout",
     "output_type": "stream",
     "text": [
      "     A    B\n",
      "0  1.0  0.0\n",
      "1  2.0  4.0\n",
      "2  0.0  5.0\n"
     ]
    }
   ],
   "source": [
    "# Direkt auf dem Original-DataFrame arbeiten\n",
    "df.fillna(0, inplace=True)\n",
    "\n",
    "print(df)"
   ]
  },
  {
   "cell_type": "markdown",
   "id": "a34c7d86-c500-4edc-b024-7489552ccace",
   "metadata": {},
   "source": [
    "### **Zusammenfassung**"
   ]
  },
  {
   "cell_type": "markdown",
   "id": "fa0f9c7c-4605-4981-8bb1-c40bbcadd314",
   "metadata": {},
   "source": [
    "- **`fillna(value)`**: Ersetzt fehlende Werte mit einem spezifischen Wert.\n",
    "- **`fillna(method='ffill' or 'bfill')`**: Füllt fehlende Werte basierend auf den umgebenden Daten.\n",
    "- **Flexibel und vielseitig**: Funktioniert für einzelne Spalten, Zeilen oder ganze DataFrames."
   ]
  },
  {
   "cell_type": "code",
   "execution_count": 13,
   "id": "806e2ac8-553b-4a83-bdfa-279abc45ead2",
   "metadata": {},
   "outputs": [
    {
     "data": {
      "text/html": [
       "<div>\n",
       "<style scoped>\n",
       "    .dataframe tbody tr th:only-of-type {\n",
       "        vertical-align: middle;\n",
       "    }\n",
       "\n",
       "    .dataframe tbody tr th {\n",
       "        vertical-align: top;\n",
       "    }\n",
       "\n",
       "    .dataframe thead th {\n",
       "        text-align: right;\n",
       "    }\n",
       "</style>\n",
       "<table border=\"1\" class=\"dataframe\">\n",
       "  <thead>\n",
       "    <tr style=\"text-align: right;\">\n",
       "      <th></th>\n",
       "      <th>Alter</th>\n",
       "      <th>Gehalt</th>\n",
       "    </tr>\n",
       "  </thead>\n",
       "  <tbody>\n",
       "    <tr>\n",
       "      <th>0</th>\n",
       "      <td>25.0</td>\n",
       "      <td>50000.0</td>\n",
       "    </tr>\n",
       "    <tr>\n",
       "      <th>1</th>\n",
       "      <td>30.0</td>\n",
       "      <td>72500.0</td>\n",
       "    </tr>\n",
       "    <tr>\n",
       "      <th>2</th>\n",
       "      <td>NaN</td>\n",
       "      <td>70000.0</td>\n",
       "    </tr>\n",
       "    <tr>\n",
       "      <th>3</th>\n",
       "      <td>35.0</td>\n",
       "      <td>80000.0</td>\n",
       "    </tr>\n",
       "    <tr>\n",
       "      <th>4</th>\n",
       "      <td>40.0</td>\n",
       "      <td>90000.0</td>\n",
       "    </tr>\n",
       "  </tbody>\n",
       "</table>\n",
       "</div>"
      ],
      "text/plain": [
       "   Alter   Gehalt\n",
       "0   25.0  50000.0\n",
       "1   30.0  72500.0\n",
       "2    NaN  70000.0\n",
       "3   35.0  80000.0\n",
       "4   40.0  90000.0"
      ]
     },
     "execution_count": 13,
     "metadata": {},
     "output_type": "execute_result"
    }
   ],
   "source": [
    "import pandas as pd\n",
    "\n",
    "# Beispiel-Daten\n",
    "df = pd.DataFrame({\n",
    "    'Alter': [25, 30, None, 35, 40],\n",
    "    'Gehalt': [50000, None, 70000, 80000, 90000]\n",
    "})\n",
    "\n",
    "# Die NaN werden mit Mean imputiert\n",
    "\n",
    "# df['Gehalt'].fillna(df['Gehalt'].mean(), inplace=True) # Veraltet \n",
    "df['Gehalt'] = df['Gehalt'].fillna(df['Gehalt'].mean())\n",
    "\n",
    "df\n"
   ]
  },
  {
   "cell_type": "code",
   "execution_count": 12,
   "id": "dd07190d-3c40-4f02-b695-be727b2554f0",
   "metadata": {},
   "outputs": [
    {
     "data": {
      "text/html": [
       "<div>\n",
       "<style scoped>\n",
       "    .dataframe tbody tr th:only-of-type {\n",
       "        vertical-align: middle;\n",
       "    }\n",
       "\n",
       "    .dataframe tbody tr th {\n",
       "        vertical-align: top;\n",
       "    }\n",
       "\n",
       "    .dataframe thead th {\n",
       "        text-align: right;\n",
       "    }\n",
       "</style>\n",
       "<table border=\"1\" class=\"dataframe\">\n",
       "  <thead>\n",
       "    <tr style=\"text-align: right;\">\n",
       "      <th></th>\n",
       "      <th>Alter</th>\n",
       "      <th>Gehalt</th>\n",
       "    </tr>\n",
       "  </thead>\n",
       "  <tbody>\n",
       "    <tr>\n",
       "      <th>0</th>\n",
       "      <td>25.0</td>\n",
       "      <td>50000.0</td>\n",
       "    </tr>\n",
       "    <tr>\n",
       "      <th>1</th>\n",
       "      <td>30.0</td>\n",
       "      <td>NaN</td>\n",
       "    </tr>\n",
       "    <tr>\n",
       "      <th>2</th>\n",
       "      <td>32.5</td>\n",
       "      <td>70000.0</td>\n",
       "    </tr>\n",
       "    <tr>\n",
       "      <th>3</th>\n",
       "      <td>35.0</td>\n",
       "      <td>80000.0</td>\n",
       "    </tr>\n",
       "    <tr>\n",
       "      <th>4</th>\n",
       "      <td>40.0</td>\n",
       "      <td>90000.0</td>\n",
       "    </tr>\n",
       "  </tbody>\n",
       "</table>\n",
       "</div>"
      ],
      "text/plain": [
       "   Alter   Gehalt\n",
       "0   25.0  50000.0\n",
       "1   30.0      NaN\n",
       "2   32.5  70000.0\n",
       "3   35.0  80000.0\n",
       "4   40.0  90000.0"
      ]
     },
     "execution_count": 12,
     "metadata": {},
     "output_type": "execute_result"
    }
   ],
   "source": [
    "import pandas as pd\n",
    "\n",
    "# Beispiel-Daten\n",
    "df = pd.DataFrame({\n",
    "    'Alter': [25, 30, None, 35, 40],\n",
    "    'Gehalt': [50000, None, 70000, 80000, 90000]\n",
    "})\n",
    "\n",
    "# Die NaN werden mit Mean imputiert\n",
    "\n",
    "# df['Gehalt'].fillna(df['Gehalt'].mode(), inplace=True) # Veraltet \n",
    "df['Alter'] = df['Alter'].fillna(df['Alter'].mean())\n",
    "\n",
    "df"
   ]
  }
 ],
 "metadata": {
  "kernelspec": {
   "display_name": "Python 3 (ipykernel)",
   "language": "python",
   "name": "python3"
  },
  "language_info": {
   "codemirror_mode": {
    "name": "ipython",
    "version": 3
   },
   "file_extension": ".py",
   "mimetype": "text/x-python",
   "name": "python",
   "nbconvert_exporter": "python",
   "pygments_lexer": "ipython3",
   "version": "3.12.6"
  }
 },
 "nbformat": 4,
 "nbformat_minor": 5
}
