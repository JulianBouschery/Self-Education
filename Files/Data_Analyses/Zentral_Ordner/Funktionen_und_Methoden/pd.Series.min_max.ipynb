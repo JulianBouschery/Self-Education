{
 "cells": [
  {
   "cell_type": "markdown",
   "id": "60d3b3fd-1b02-472a-b0d9-4cffc540a99e",
   "metadata": {},
   "source": [
    "# pd.Series.min() und pd.Series.max()"
   ]
  },
  {
   "cell_type": "markdown",
   "id": "a599d1ca-9ded-4009-8442-5e5a1f627a72",
   "metadata": {},
   "source": [
    "In Pandas sind die Methoden `pd.Series.min()` und `pd.Series.max()` dazu da, den kleinsten bzw. den größten Wert einer Pandas Series zu ermitteln. Diese Methoden sind nützlich, um schnell die Extremwerte in einem Datensatz zu finden."
   ]
  },
  {
   "cell_type": "markdown",
   "id": "5c15784f-3fdb-4c25-982f-17de9bb529cf",
   "metadata": {},
   "source": [
    "## 1. `pd.Series.min()`"
   ]
  },
  {
   "cell_type": "markdown",
   "id": "059d3765-01a4-41f0-b329-27e08c4ec524",
   "metadata": {},
   "source": [
    "### Funktion"
   ]
  },
  {
   "cell_type": "markdown",
   "id": "aaaf4a8b-62f1-472b-98f9-53347bfab89c",
   "metadata": {},
   "source": [
    "`pd.Series.min()` gibt den kleinsten Wert in der Series zurück und ignoriert standardmäßig `NaN`-Werte."
   ]
  },
  {
   "cell_type": "markdown",
   "id": "c2948130-d706-4166-8d2c-a5fb49de3f2d",
   "metadata": {},
   "source": [
    "### Syntax"
   ]
  },
  {
   "cell_type": "markdown",
   "id": "1209422a-e27f-4787-93d2-3832a78427dc",
   "metadata": {},
   "source": [
    "```python\n",
    "Series.min(skipna=True)\n",
    "```"
   ]
  },
  {
   "cell_type": "markdown",
   "id": "4c4795b4-1955-4449-a10c-aa143c539936",
   "metadata": {},
   "source": [
    "`skipna`: Ein optionaler Parameter. Wenn `True` (Standardwert), werden `NaN`-Werte ignoriert. Wenn `False`, führt ein `NaN` in der Series dazu, dass das Ergebnis ebenfalls `NaN` wird."
   ]
  },
  {
   "cell_type": "markdown",
   "id": "ba709506-1036-45dd-86c2-79d95095c9db",
   "metadata": {},
   "source": [
    "### Beispiel"
   ]
  },
  {
   "cell_type": "code",
   "execution_count": 2,
   "id": "dd56b0b0-4c8b-48d7-a16a-a843e7bcccd8",
   "metadata": {},
   "outputs": [
    {
     "name": "stdout",
     "output_type": "stream",
     "text": [
      "Kleinster Wert: 5.0\n"
     ]
    }
   ],
   "source": [
    "import pandas as pd\n",
    "\n",
    "werte = pd.Series([10, 20, 30, None, 5])\n",
    "\n",
    "# Berechnung des kleinsten Wertes\n",
    "kleinster_wert = werte.min()\n",
    "print(\"Kleinster Wert:\", kleinster_wert)"
   ]
  },
  {
   "cell_type": "markdown",
   "id": "596172a4-f9dd-452a-afa9-afd3d78c2324",
   "metadata": {},
   "source": [
    "## 2. `pd.Series.max()`"
   ]
  },
  {
   "cell_type": "markdown",
   "id": "52e6a3df-1533-4837-8687-a50c457abea1",
   "metadata": {},
   "source": [
    "#### Funktion\n",
    "\n",
    "`pd.Series.max()` gibt den größten Wert in der Series zurück und ignoriert ebenfalls standardmäßig `NaN`-Werte."
   ]
  },
  {
   "cell_type": "markdown",
   "id": "d6399e3d-84eb-4313-8728-cc08b06eef02",
   "metadata": {},
   "source": [
    "### Syntax"
   ]
  },
  {
   "cell_type": "markdown",
   "id": "c06d1dc6-1805-4a8d-9990-f7256606cea8",
   "metadata": {},
   "source": [
    "```python\n",
    "Series.max(skipna=True)\n",
    "```"
   ]
  },
  {
   "cell_type": "markdown",
   "id": "010b26ac-bad5-44d7-9ee7-b544dca89ac8",
   "metadata": {},
   "source": [
    "`skipna`: Ein optionaler Parameter. Wenn `True` (Standardwert), werden `NaN`-Werte ignoriert. Wenn `False`, führt ein `NaN` in der Series dazu, dass das Ergebnis ebenfalls `NaN` wird."
   ]
  },
  {
   "cell_type": "markdown",
   "id": "53410ef2-1b2d-41a5-b94d-a7144762db6a",
   "metadata": {},
   "source": [
    "### Beispiel"
   ]
  },
  {
   "cell_type": "code",
   "execution_count": 3,
   "id": "9f980915-3833-409a-9389-9472dee7a074",
   "metadata": {},
   "outputs": [
    {
     "name": "stdout",
     "output_type": "stream",
     "text": [
      "Größter Wert: 30.0\n"
     ]
    }
   ],
   "source": [
    "# Berechnung des größten Wertes\n",
    "groesster_wert = werte.max()\n",
    "print(\"Größter Wert:\", groesster_wert)"
   ]
  },
  {
   "cell_type": "markdown",
   "id": "c6105778-4c23-44d9-8461-e6df40d277ca",
   "metadata": {},
   "source": [
    "### Anwendung"
   ]
  },
  {
   "cell_type": "markdown",
   "id": "ba707256-04e7-40a4-8139-afb59ff261b0",
   "metadata": {},
   "source": [
    "- **`min()`** und **`max()`** sind sehr nützlich, um schnell die Extremwerte in einem Datensatz zu identifizieren, wie z. B. die niedrigsten und höchsten Verkaufszahlen, Temperaturen oder andere numerische Daten.\n",
    "- Sie sind Teil der grundlegenden [deskriptiven Statistik](../../Themen/Statistik/Deskriptive_Statistik.ipynb), die häufig bei der Analyse von Daten verwendet wird."
   ]
  },
  {
   "cell_type": "markdown",
   "id": "2c272fca-7f92-4d7d-ae6c-6b8f74495391",
   "metadata": {},
   "source": [
    "### Zusammenfassung"
   ]
  },
  {
   "cell_type": "markdown",
   "id": "3a649b8a-f2ad-4dd2-b66c-b20beb2761df",
   "metadata": {},
   "source": [
    "- **`pd.Series.min()`**: Findet den kleinsten Wert in einer Series, ignoriert standardmäßig `NaN`.\n",
    "- **`pd.Series.max()`**: Findet den größten Wert in einer Series, ignoriert ebenfalls `NaN`."
   ]
  }
 ],
 "metadata": {
  "kernelspec": {
   "display_name": "Python 3 (ipykernel)",
   "language": "python",
   "name": "python3"
  },
  "language_info": {
   "codemirror_mode": {
    "name": "ipython",
    "version": 3
   },
   "file_extension": ".py",
   "mimetype": "text/x-python",
   "name": "python",
   "nbconvert_exporter": "python",
   "pygments_lexer": "ipython3",
   "version": "3.12.6"
  }
 },
 "nbformat": 4,
 "nbformat_minor": 5
}
