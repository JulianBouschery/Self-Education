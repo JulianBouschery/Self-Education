{
 "cells": [
  {
   "cell_type": "markdown",
   "id": "4503ee00-3dab-48c1-9341-a81d4ec1efb7",
   "metadata": {},
   "source": [
    "# response.status_code()"
   ]
  },
  {
   "cell_type": "markdown",
   "id": "fc9fccd9-cb8a-40c2-8bfa-56fe627e7f79",
   "metadata": {},
   "source": [
    "**`response.status_code`** ist ein Attribut des Response-Objekts in der **`requests`**-Bibliothek, das den HTTP-Statuscode der Antwort angibt, die vom Server auf eine HTTP-Anfrage zurückgegeben wurde. \n",
    "\n",
    "### Erklärung:\n",
    "- Der Statuscode ist eine **dreistellige Zahl**, die den Ausgang der Anfrage beschreibt, z.B.:\n",
    "  - **200**: OK (Die Anfrage war erfolgreich)\n",
    "  - **404**: Not Found (Die angeforderte Ressource wurde nicht gefunden)\n",
    "  - **500**: Internal Server Error (Ein Fehler auf dem Server ist aufgetreten)\n",
    "\n",
    "### Beispiel:"
   ]
  },
  {
   "cell_type": "code",
   "execution_count": 1,
   "id": "c6702b16-e72e-449a-8d2e-bd8749348dd9",
   "metadata": {},
   "outputs": [
    {
     "name": "stdout",
     "output_type": "stream",
     "text": [
      "200\n"
     ]
    }
   ],
   "source": [
    "import requests\n",
    "\n",
    "response = requests.get('https://randomuser.me/api/')\n",
    "print(response.status_code)  # Gibt den HTTP-Statuscode der Antwort aus"
   ]
  },
  {
   "cell_type": "markdown",
   "id": "c8cd4a68-4485-4dce-b72f-74ee80fe1c8a",
   "metadata": {},
   "source": [
    "In diesem Beispiel gibt **`response.status_code`** den Statuscode der Antwort von der API zurück, der dir sagt, ob die Anfrage erfolgreich war oder ob ein Fehler aufgetreten ist."
   ]
  },
  {
   "cell_type": "code",
   "execution_count": null,
   "id": "077c1527-e2cc-40b8-ac8f-dea70965cb45",
   "metadata": {},
   "outputs": [],
   "source": []
  }
 ],
 "metadata": {
  "kernelspec": {
   "display_name": "Python 3 (ipykernel)",
   "language": "python",
   "name": "python3"
  },
  "language_info": {
   "codemirror_mode": {
    "name": "ipython",
    "version": 3
   },
   "file_extension": ".py",
   "mimetype": "text/x-python",
   "name": "python",
   "nbconvert_exporter": "python",
   "pygments_lexer": "ipython3",
   "version": "3.12.6"
  }
 },
 "nbformat": 4,
 "nbformat_minor": 5
}
