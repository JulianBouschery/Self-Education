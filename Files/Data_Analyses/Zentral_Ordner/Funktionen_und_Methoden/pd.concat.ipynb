{
 "cells": [
  {
   "cell_type": "markdown",
   "id": "254a4bcd-5052-4b03-ac69-53f3d574d8b5",
   "metadata": {},
   "source": [
    "# pd.concat()"
   ]
  },
  {
   "cell_type": "markdown",
   "id": "c8f6fefb-7177-45e7-8b7f-617e3848f4a3",
   "metadata": {},
   "source": [
    "`pd.concat()` ist eine Pandas-Funktion, die mehrere DataFrames kombiniert, indem sie eine Liste von DataFrames als Eingabe akzeptiert und einen neuen, zusammengefügten DataFrame zurückgibt. Da sie unabhängig von einem bestimmten DataFrame arbeitet, wird sie direkt auf `pd` angewandt, nicht auf ein einzelnes DataFrame-Objekt. Sie „konkateniert“ sozusagen eine oder mehrere Zeilen unter die vorhandenen Daten."
   ]
  },
  {
   "cell_type": "code",
   "execution_count": 5,
   "id": "0e11b468-eb1e-4320-ad66-6567d17ce86b",
   "metadata": {},
   "outputs": [
    {
     "data": {
      "text/html": [
       "<div>\n",
       "<style scoped>\n",
       "    .dataframe tbody tr th:only-of-type {\n",
       "        vertical-align: middle;\n",
       "    }\n",
       "\n",
       "    .dataframe tbody tr th {\n",
       "        vertical-align: top;\n",
       "    }\n",
       "\n",
       "    .dataframe thead th {\n",
       "        text-align: right;\n",
       "    }\n",
       "</style>\n",
       "<table border=\"1\" class=\"dataframe\">\n",
       "  <thead>\n",
       "    <tr style=\"text-align: right;\">\n",
       "      <th></th>\n",
       "      <th>Vorname</th>\n",
       "      <th>Nachname</th>\n",
       "      <th>Alter</th>\n",
       "      <th>Einkommen</th>\n",
       "    </tr>\n",
       "  </thead>\n",
       "  <tbody>\n",
       "    <tr>\n",
       "      <th>0</th>\n",
       "      <td>Anna</td>\n",
       "      <td>Müller</td>\n",
       "      <td>28</td>\n",
       "      <td>45000</td>\n",
       "    </tr>\n",
       "    <tr>\n",
       "      <th>1</th>\n",
       "      <td>Ben</td>\n",
       "      <td>Schmidt</td>\n",
       "      <td>34</td>\n",
       "      <td>55000</td>\n",
       "    </tr>\n",
       "    <tr>\n",
       "      <th>2</th>\n",
       "      <td>Clara</td>\n",
       "      <td>Fischer</td>\n",
       "      <td>29</td>\n",
       "      <td>47000</td>\n",
       "    </tr>\n",
       "    <tr>\n",
       "      <th>3</th>\n",
       "      <td>Elias</td>\n",
       "      <td>Klein</td>\n",
       "      <td>40</td>\n",
       "      <td>60000</td>\n",
       "    </tr>\n",
       "    <tr>\n",
       "      <th>4</th>\n",
       "      <td>David</td>\n",
       "      <td>Weber</td>\n",
       "      <td>35</td>\n",
       "      <td>45000</td>\n",
       "    </tr>\n",
       "  </tbody>\n",
       "</table>\n",
       "</div>"
      ],
      "text/plain": [
       "  Vorname Nachname  Alter  Einkommen\n",
       "0    Anna   Müller     28      45000\n",
       "1     Ben  Schmidt     34      55000\n",
       "2   Clara  Fischer     29      47000\n",
       "3   Elias    Klein     40      60000\n",
       "4   David    Weber     35      45000"
      ]
     },
     "execution_count": 5,
     "metadata": {},
     "output_type": "execute_result"
    }
   ],
   "source": [
    "import pandas as pd\n",
    "\n",
    "df1 = pd.DataFrame({\n",
    "    'Vorname': ['Anna', 'Ben', 'Clara', 'Elias'],\n",
    "    'Nachname': ['Müller', 'Schmidt', 'Fischer', 'Klein'],\n",
    "    'Alter': [28, 34, 29, 40],\n",
    "    'Einkommen': [45000, 55000, 47000, 60000]\n",
    "})\n",
    "\n",
    "df2 = pd.DataFrame({'Vorname': ['David'], 'Nachname': ['Weber'], 'Alter': [35], 'Einkommen': [45000]})\n",
    "concat_df = pd.concat([df1, df2], ignore_index=True)\n",
    "concat_df"
   ]
  },
  {
   "cell_type": "markdown",
   "id": "9834410e-3835-43a0-9e78-b228504e9924",
   "metadata": {},
   "source": [
    "Hier wird `pd.concat()` aufgerufen, um den bereits existierenden DataFrame `df1` mit dem neuen DataFrame `df2` zu verbinden.\n",
    "\n",
    "   - **`pd.concat([df1, df2])`**: Dies kombiniert die beiden DataFrames zeilenweise, also **untereinander**.\n",
    "   - **`ignore_index=True`**: Dieser Parameter sorgt dafür, dass die Indexnummerierung neu erstellt wird. Ansonsten würde der Index von `df2` möglicherweise nicht in die Reihenfolge des `concat_df` passen."
   ]
  }
 ],
 "metadata": {
  "kernelspec": {
   "display_name": "Python 3 (ipykernel)",
   "language": "python",
   "name": "python3"
  },
  "language_info": {
   "codemirror_mode": {
    "name": "ipython",
    "version": 3
   },
   "file_extension": ".py",
   "mimetype": "text/x-python",
   "name": "python",
   "nbconvert_exporter": "python",
   "pygments_lexer": "ipython3",
   "version": "3.12.6"
  }
 },
 "nbformat": 4,
 "nbformat_minor": 5
}
