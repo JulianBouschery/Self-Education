{
 "cells": [
  {
   "cell_type": "markdown",
   "id": "f6a055bf-2eba-4bbd-afde-58dc5cc9e776",
   "metadata": {},
   "source": [
    "# df.stack() und df.unstack()"
   ]
  },
  {
   "cell_type": "markdown",
   "id": "51571556-65e9-4431-a4b8-2e453712287c",
   "metadata": {},
   "source": [
    "Die Methoden **`df.stack()`** und **`df.unstack()`** in Pandas werden verwendet, um DataFrames in **[hierarchischen (mehrdimensionalen) Indizes](Multiindex.ipynb)** umzustrukturieren. "
   ]
  },
  {
   "cell_type": "markdown",
   "id": "13a6f262-0477-4176-895e-7c9f404e414c",
   "metadata": {},
   "source": [
    "## Überblick"
   ]
  },
  {
   "cell_type": "markdown",
   "id": "460b0d82-df31-4404-8059-26faaa81cbce",
   "metadata": {},
   "source": [
    "- **`stack()`**: Wandelt Spalten in Zeilen um, wodurch ein DataFrame von einem **weiten Format** in ein **langes Format** überführt wird. Das Resultat ist ein DataFrame mit einem hierarchischen Zeilenindex.\n",
    "- **`unstack()`**: Ist die Umkehrung von `stack()`. Sie wandelt einen hierarchischen Zeilenindex in Spalten um, was von einem **langen Format** zurück zu einem **weiten Format** führt.\n",
    "\n",
    "Diese Methoden sind besonders hilfreich, wenn man mit **mehrdimensionalen oder verschachtelten Daten** arbeitet, wie z. B. Zeitreihen mit mehreren Variablen pro Zeitstempel."
   ]
  },
  {
   "cell_type": "markdown",
   "id": "69aa4cc5-699b-495c-a38a-b6039e5d2736",
   "metadata": {},
   "source": [
    "## Beispiel mit `stack()` und `unstack()`"
   ]
  },
  {
   "cell_type": "markdown",
   "id": "42bb9b90-acce-42a6-9a4e-bfc858963362",
   "metadata": {},
   "source": [
    "#### Beispiel-DataFrame"
   ]
  },
  {
   "cell_type": "markdown",
   "id": "e44c37f7-bd65-40dc-bb50-eb6050865dc0",
   "metadata": {},
   "source": [
    "Stellen wir uns einen DataFrame mit zwei Ebenen im Spaltenindex vor:"
   ]
  },
  {
   "cell_type": "code",
   "execution_count": 1,
   "id": "18a4780a-e3c7-4e56-ba17-860f9ca66d42",
   "metadata": {},
   "outputs": [
    {
     "name": "stdout",
     "output_type": "stream",
     "text": [
      "Ursprünglicher DataFrame:\n",
      "            2023          2024       \n",
      "          Umsatz Kosten Umsatz Kosten\n",
      "Produkt A    100     50    300    150\n",
      "Produkt B    200     80    400    160\n"
     ]
    }
   ],
   "source": [
    "import pandas as pd\n",
    "\n",
    "# Beispiel-DataFrame mit mehrdimensionalem Spaltenindex\n",
    "df = pd.DataFrame({\n",
    "    ('2023', 'Umsatz'): [100, 200],\n",
    "    ('2023', 'Kosten'): [50, 80],\n",
    "    ('2024', 'Umsatz'): [300, 400],\n",
    "    ('2024', 'Kosten'): [150, 160]\n",
    "}, index=['Produkt A', 'Produkt B'])\n",
    "\n",
    "print(\"Ursprünglicher DataFrame:\")\n",
    "print(df)"
   ]
  },
  {
   "cell_type": "markdown",
   "id": "106c956f-328a-4ed5-ae46-f637f2e795f9",
   "metadata": {},
   "source": [
    "### `stack()`"
   ]
  },
  {
   "cell_type": "markdown",
   "id": "4b022708-3e9f-4732-8994-f39d8c99f6a9",
   "metadata": {},
   "source": [
    "Die Methode **`stack()`** verschiebt eine Ebene des Spaltenindex in die Zeilen, was zur Umstrukturierung der Daten ins [Long Format](../../Themen/Preprocessing/Wide_vs._Long.ipynb) führt."
   ]
  },
  {
   "cell_type": "code",
   "execution_count": 7,
   "id": "39ee4cb1-d6c2-46bd-ba4a-c88e96719808",
   "metadata": {},
   "outputs": [
    {
     "name": "stdout",
     "output_type": "stream",
     "text": [
      "\n",
      "DataFrame nach Anwendung von stack():\n",
      "                  2023  2024\n",
      "Produkt A Umsatz   100   300\n",
      "          Kosten    50   150\n",
      "Produkt B Umsatz   200   400\n",
      "          Kosten    80   160\n"
     ]
    }
   ],
   "source": [
    "stacked_df = df.stack(future_stack=True) # Vermeidet Future Warning\n",
    "print(\"\\nDataFrame nach Anwendung von stack():\")\n",
    "print(stacked_df)"
   ]
  },
  {
   "cell_type": "markdown",
   "id": "0fb36f9e-bc10-49dc-a8f3-d5d86e3d8759",
   "metadata": {},
   "source": [
    "### `unstack()`"
   ]
  },
  {
   "cell_type": "markdown",
   "id": "6908c937-ff5a-453b-a097-df428a1d962a",
   "metadata": {},
   "source": [
    "Die Methode **`unstack()`** kehrt diesen Prozess um, indem sie eine Indexebene aus den Zeilen zurück in die Spalten ([Wide Format](../../Themen/Preprocessing/Wide_vs._Long.ipynb)) verschiebt."
   ]
  },
  {
   "cell_type": "code",
   "execution_count": 6,
   "id": "2c0d91fb-61d1-45de-a59a-b6e72a5e00cd",
   "metadata": {},
   "outputs": [
    {
     "name": "stdout",
     "output_type": "stream",
     "text": [
      "\n",
      "DataFrame nach Anwendung von unstack():\n",
      "            2023          2024       \n",
      "          Umsatz Kosten Umsatz Kosten\n",
      "Produkt A    100     50    300    150\n",
      "Produkt B    200     80    400    160\n"
     ]
    }
   ],
   "source": [
    "unstacked_df = stacked_df.unstack()\n",
    "print(\"\\nDataFrame nach Anwendung von unstack():\")\n",
    "print(unstacked_df)"
   ]
  },
  {
   "cell_type": "markdown",
   "id": "92d84582-d984-4b02-8087-83967fba95d8",
   "metadata": {},
   "source": [
    "- Das `unstack()` hat die hierarchische Zeilenebene wieder in den Spaltenindex verschoben und den DataFrame in ein breites Format zurückgeführt."
   ]
  },
  {
   "cell_type": "markdown",
   "id": "a6407210-238c-4403-ba10-d6dee18991b7",
   "metadata": {},
   "source": [
    "### Praktische Anwendung und Parameter"
   ]
  },
  {
   "cell_type": "markdown",
   "id": "d6afdd3d-84f5-4206-bc96-45194e3bee52",
   "metadata": {},
   "source": [
    "- **`stack(level=-1)`**: Stellt die unterste Ebene des Spaltenindex in den Zeilenindex um. Du kannst `level` anpassen, um eine andere Ebene des Spaltenindex zu verschieben.\n",
    "- **`unstack(level=-1)`**: Macht das Gegenteil, indem es die unterste Ebene des Zeilenindex in den Spaltenindex verschiebt. Auch hier kann `level` angepasst werden."
   ]
  },
  {
   "cell_type": "markdown",
   "id": "c5cde9d5-073c-4830-823f-7a58610d65b4",
   "metadata": {},
   "source": [
    "### Zusammengefasst"
   ]
  },
  {
   "cell_type": "markdown",
   "id": "0e8bda90-4351-421a-afed-617425965dd8",
   "metadata": {},
   "source": [
    "- **`stack()`** verwandelt Spalten in Zeilen, was nützlich ist, um Daten in ein langes Format zu bringen.\n",
    "- **`unstack()`** transformiert Zeilen in Spalten, ideal zum Erstellen eines weiten Formats.\n",
    "- Beide Methoden helfen bei der Arbeit mit hierarchischen Indizes und erleichtern die Neuorganisation komplexer Daten."
   ]
  },
  {
   "cell_type": "code",
   "execution_count": null,
   "id": "9d4c9cc7-d13d-4612-afa4-7b1d5914b961",
   "metadata": {},
   "outputs": [],
   "source": []
  }
 ],
 "metadata": {
  "kernelspec": {
   "display_name": "Python 3 (ipykernel)",
   "language": "python",
   "name": "python3"
  },
  "language_info": {
   "codemirror_mode": {
    "name": "ipython",
    "version": 3
   },
   "file_extension": ".py",
   "mimetype": "text/x-python",
   "name": "python",
   "nbconvert_exporter": "python",
   "pygments_lexer": "ipython3",
   "version": "3.12.6"
  }
 },
 "nbformat": 4,
 "nbformat_minor": 5
}
