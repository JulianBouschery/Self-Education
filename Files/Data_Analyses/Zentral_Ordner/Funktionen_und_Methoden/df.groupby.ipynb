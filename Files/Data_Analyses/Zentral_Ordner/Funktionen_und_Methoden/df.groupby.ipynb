{
 "cells": [
  {
   "cell_type": "markdown",
   "id": "604aeb8f-0b16-4d5e-9ea3-2fac6c501473",
   "metadata": {},
   "source": [
    "# Grouping mit df.groupby()"
   ]
  },
  {
   "cell_type": "markdown",
   "id": "a5846efa-29f6-4ae1-841a-d5afecb00269",
   "metadata": {},
   "source": [
    "Die `df.groupby()`-Methode in Pandas wird verwendet, um Daten in einer Tabelle nach einer oder mehreren Spalten zu gruppieren. Dies ist besonders nützlich, um aggregierte Berechnungen für verschiedene Gruppen von Daten durchzuführen, z.B. das Berechnen des Mittelwerts, der Summe oder anderer statistischer Werte für jede Gruppe.\n",
    "\n",
    "### Funktionsweise von `.groupby()`\n",
    "\n",
    "1. **Gruppieren der Daten:** `.groupby()` erstellt eine Aufteilung der Daten basierend auf den Werten der ausgewählten Spalte(n). Dabei wird keine Berechnung direkt ausgeführt, sondern die Daten werden nur vorbereitet.\n",
    "2. **Anwenden einer Aggregation:** Nach dem Gruppieren können verschiedene Aggregationsfunktionen auf die Gruppen angewendet werden, z.B. `.sum()`, `.mean()`, `.max()`, etc.\n",
    "\n",
    "### Syntax:\n",
    "\n",
    "```python\n",
    "df.groupby('Indexspalte')['Zielspalte'].aggregationsfunktion()\n",
    "\n",
    "```\n",
    "\n",
    "\n",
    "### Beispiel\n",
    "\n",
    "Nehmen wir eine Tabelle `df` mit Informationen zu Verkäufen:\n",
    "\n",
    "```python\n",
    "import pandas as pd\n",
    "\n",
    "# Beispiel-Daten\n",
    "data = {'Produkt': ['A', 'A', 'B', 'B', 'C'],\n",
    "        'Verkäufer': ['Anna', 'Ben', 'Anna', 'Ben', 'Anna'],\n",
    "        'Umsatz': [200, 150, 100, 300, 250]}\n",
    "df = pd.DataFrame(data)\n",
    "```\n",
    "\n",
    "| Produkt | Verkäufer | Umsatz |\n",
    "|---------|-----------|--------|\n",
    "| A       | Anna      | 200    |\n",
    "| A       | Ben       | 150    |\n",
    "| B       | Anna      | 100    |\n",
    "| B       | Ben       | 300    |\n",
    "| C       | Anna      | 250    |\n",
    "\n",
    "Um den Gesamtumsatz pro Produkt zu berechnen:\n",
    "\n",
    "```python\n",
    "# Gruppieren nach \"Produkt\" und Summieren des Umsatzes\n",
    "produktumsatz = df.groupby('Produkt')['Umsatz'].sum()\n",
    "print(produktumsatz)\n",
    "```\n",
    "\n",
    "Ergebnis:\n",
    "\n",
    "```\n",
    "Produkt\n",
    "A    350\n",
    "B    400\n",
    "C    250\n",
    "Name: Umsatz, dtype: int64\n",
    "```\n",
    "\n",
    "### Wichtige Punkte zu `.groupby()`\n",
    "\n",
    "- Du kannst mehrere Spalten zum Gruppieren angeben, z.B. `.groupby(['Produkt', 'Verkäufer'])`.\n",
    "- `.groupby()` erzeugt eine `GroupBy`-Objekt, das aggregierte Berechnungen erwartet (z.B. `.mean()`, `.sum()`).\n",
    "- Nach der Gruppierung wird das Ergebnis meist als neue Tabelle zurückgegeben, in der die aggregierten Werte für jede Gruppe dargestellt sind.\n",
    "\n",
    "### Fazit\n",
    "\n",
    "`.groupby()` ist eine leistungsstarke Methode in Pandas, die oft mit Aggregationsfunktionen verwendet wird, um tiefe Einblicke in Daten zu erhalten und Zusammenfassungen für verschiedene Gruppen zu berechnen."
   ]
  },
  {
   "cell_type": "code",
   "execution_count": null,
   "id": "a7e63a17-f4f5-44ac-988b-bd73d59e4944",
   "metadata": {},
   "outputs": [],
   "source": []
  }
 ],
 "metadata": {
  "kernelspec": {
   "display_name": "Python 3 (ipykernel)",
   "language": "python",
   "name": "python3"
  },
  "language_info": {
   "codemirror_mode": {
    "name": "ipython",
    "version": 3
   },
   "file_extension": ".py",
   "mimetype": "text/x-python",
   "name": "python",
   "nbconvert_exporter": "python",
   "pygments_lexer": "ipython3",
   "version": "3.12.6"
  }
 },
 "nbformat": 4,
 "nbformat_minor": 5
}
