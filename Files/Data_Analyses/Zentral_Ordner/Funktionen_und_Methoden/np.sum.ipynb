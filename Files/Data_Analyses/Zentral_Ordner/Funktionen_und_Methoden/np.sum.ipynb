{
 "cells": [
  {
   "cell_type": "markdown",
   "id": "462877ad-610a-4705-9d3d-59853a54e4be",
   "metadata": {},
   "source": [
    "# np.sum()"
   ]
  },
  {
   "cell_type": "markdown",
   "id": "18690c5e-1490-4659-89a0-99abfd978410",
   "metadata": {},
   "source": [
    "Platzhalter"
   ]
  },
  {
   "cell_type": "code",
   "execution_count": null,
   "id": "62ca2c6c-a4b8-4ade-969c-62e3326c8e15",
   "metadata": {},
   "outputs": [],
   "source": []
  }
 ],
 "metadata": {
  "kernelspec": {
   "display_name": "Python 3 (ipykernel)",
   "language": "python",
   "name": "python3"
  },
  "language_info": {
   "codemirror_mode": {
    "name": "ipython",
    "version": 3
   },
   "file_extension": ".py",
   "mimetype": "text/x-python",
   "name": "python",
   "nbconvert_exporter": "python",
   "pygments_lexer": "ipython3",
   "version": "3.12.6"
  }
 },
 "nbformat": 4,
 "nbformat_minor": 5
}
