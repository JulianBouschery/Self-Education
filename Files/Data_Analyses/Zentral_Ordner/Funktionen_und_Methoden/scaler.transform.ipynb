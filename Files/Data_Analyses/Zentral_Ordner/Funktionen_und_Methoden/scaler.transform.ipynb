{
 "cells": [
  {
   "cell_type": "markdown",
   "id": "a50470a8-ebd9-4a7d-b13b-201f160f1800",
   "metadata": {},
   "source": [
    "# scaler.transform()"
   ]
  },
  {
   "cell_type": "markdown",
   "id": "e90a8686-6487-4e57-b173-8c22ca78c238",
   "metadata": {},
   "source": [
    "`scaler.transform()` wird im Machine Learning und der Datenverarbeitung verwendet, um Daten zu verändern oder anzupassen, nachdem ein Modell oder eine Transformation bereits mit `fit()` auf den Trainingsdaten angepasst wurde. Der häufigste Anwendungsfall ist die Transformation von neuen oder Testdaten auf die gleiche Weise wie die Trainingsdaten, z.B. bei der Skalierung oder Normalisierung.\n",
    "\n",
    "### So funktioniert `transform()`\n",
    "\n",
    "Die Methode wird normalerweise bei Datenvorbereitungs-Tools unter der Haube aus Bibliotheken wie `scikit-learn` verwendet. Zum Beispiel wird sie mit Skalierern (wie `StandardScaler` oder `MinMaxScaler`) verwendet, um sicherzustellen, dass Testdaten die gleiche Skalierung und Transformation durchlaufen wie die Trainingsdaten.\n",
    "\n",
    "1. **Trainingsdaten**: Zuerst wird der Transformator (wie ein Skalierer) mit `fit()` auf die Trainingsdaten angepasst. Dadurch \"lernt\" der Transformator die Eigenschaften der Daten, wie z. B. den Mittelwert und die Standardabweichung beim StandardScaler.\n",
    "   \n",
    "2. **Transformation**: Danach kann die `transform()`-Methode verwendet werden, um die Trainingsdaten und später die Testdaten nach den gelernten Regeln umzuwandeln, z. B. durch Subtrahieren des Mittelwerts und Teilen durch die Standardabweichung (bei Standardisierung).\n",
    "\n",
    "### Beispiel in Python\n",
    "\n",
    "Hier ein Beispiel, wie `transform()` funktioniert:\n",
    "\n",
    "```python\n",
    "import numpy as np\n",
    "from sklearn.preprocessing import StandardScaler\n",
    "\n",
    "# Beispiel-Daten: Trainings- und Testdaten\n",
    "train_data = np.array([[1, 2], [3, 4], [5, 6]])\n",
    "test_data = np.array([[2, 3], [6, 7]])\n",
    "\n",
    "# StandardScaler initialisieren\n",
    "scaler = StandardScaler()\n",
    "\n",
    "# fit() auf die Trainingsdaten anwenden\n",
    "scaler.fit(train_data)\n",
    "\n",
    "# transform() auf die Trainingsdaten anwenden\n",
    "train_data_scaled = scaler.transform(train_data)\n",
    "print(\"Transformierte Trainingsdaten:\\n\", train_data_scaled)\n",
    "\n",
    "# transform() auf die Testdaten anwenden\n",
    "test_data_scaled = scaler.transform(test_data)\n",
    "print(\"Transformierte Testdaten:\\n\", test_data_scaled)\n",
    "```\n",
    "\n",
    "### Erklärung des Codes\n",
    "\n",
    "- **`scaler.fit(train_data)`**: Der `StandardScaler` wird auf die Trainingsdaten \"angepasst\". Dabei berechnet er den Mittelwert und die Standardabweichung der Trainingsdaten.\n",
    "- **`scaler.transform(train_data)`**: Der `transform()`-Aufruf skaliert die Trainingsdaten basierend auf den gelernten Mittelwert und Standardabweichung.\n",
    "- **`scaler.transform(test_data)`**: Dasselbe passiert nun mit den Testdaten, sodass sie konsistent skaliert werden.\n",
    "\n",
    "### Zusammenfassung\n",
    "\n",
    "Die `transform()`-Methode wendet eine zuvor mit `fit()` gelernte Transformation auf neue Daten an, um eine konsistente Datenverarbeitung zu gewährleisten."
   ]
  },
  {
   "cell_type": "code",
   "execution_count": null,
   "id": "3fc80436-23f0-43c0-b3e2-e0b1fc7f3caa",
   "metadata": {},
   "outputs": [],
   "source": []
  }
 ],
 "metadata": {
  "kernelspec": {
   "display_name": "Python 3 (ipykernel)",
   "language": "python",
   "name": "python3"
  },
  "language_info": {
   "codemirror_mode": {
    "name": "ipython",
    "version": 3
   },
   "file_extension": ".py",
   "mimetype": "text/x-python",
   "name": "python",
   "nbconvert_exporter": "python",
   "pygments_lexer": "ipython3",
   "version": "3.12.6"
  }
 },
 "nbformat": 4,
 "nbformat_minor": 5
}
