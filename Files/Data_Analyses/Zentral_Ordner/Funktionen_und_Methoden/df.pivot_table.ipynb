{
 "cells": [
  {
   "cell_type": "markdown",
   "id": "531d725b-0c0c-4019-b658-18ec6899a694",
   "metadata": {},
   "source": [
    "# df.pivot_table()"
   ]
  },
  {
   "cell_type": "markdown",
   "id": "78837ba4-6ecb-4739-a3b0-363664e7b815",
   "metadata": {},
   "source": [
    "`pivot_table()` in Pandas ist eine leistungsstarke Methode, um Daten zusammenzufassen und zu aggregieren. Sie ähnelt [df.pivot()](df.pivot.ipynb), bietet aber zusätzliche Flexibilität, indem sie es erlaubt, [Aggregationsfunktionen](Aggregationsfunktionen.ipynb) anzuwenden, wenn mehrere Werte für eine Kombination aus Zeilen- und Spaltenindizes vorliegen. Dies ist besonders nützlich, wenn man mit großen Datenmengen arbeitet und statistische oder mathematische Berechnungen für Gruppen von Daten durchführen möchte."
   ]
  },
  {
   "cell_type": "markdown",
   "id": "a1e3035a-78eb-4ad6-8c92-12107eebd9de",
   "metadata": {},
   "source": [
    "### Syntax"
   ]
  },
  {
   "cell_type": "markdown",
   "id": "de676a9d-5455-452d-8fed-c172baa45cd3",
   "metadata": {},
   "source": [
    "```python\n",
    "df.pivot_table(index='index_spalte', columns='spalte_mit_splatennamen', values='werte_spalte', aggfunc='sum')\n",
    "```"
   ]
  },
  {
   "cell_type": "markdown",
   "id": "c76b5400-a516-4f14-941c-5ddd6e593769",
   "metadata": {},
   "source": [
    "- **`index`**: Die Spalte, die als Zeilenindex verwendet wird.\n",
    "- **`columns`**: Die Spalte, die die neuen Spaltennamen bestimmt.\n",
    "- **`values`**: Die Spalte, deren Werte aggregiert werden.\n",
    "- **`aggfunc`**: Die Aggregationsfunktion, die auf die Daten angewendet wird (z. B. `sum`, `mean`, `min`, `max`, `count`, etc.). "
   ]
  },
  {
   "cell_type": "markdown",
   "id": "8a754f91-be89-4374-8727-85057c78c205",
   "metadata": {},
   "source": [
    "### Beispiel"
   ]
  },
  {
   "cell_type": "markdown",
   "id": "00f53090-2152-4117-89a0-cdc49dcc759f",
   "metadata": {},
   "source": [
    "Angenommen, wir haben einen DataFrame, der Verkaufsdaten für verschiedene Produkte und Monate sowie deren Umsatz enthält:"
   ]
  },
  {
   "cell_type": "code",
   "execution_count": 2,
   "id": "c2cda4d3-7126-4451-ad6c-2383c3857e4d",
   "metadata": {},
   "outputs": [
    {
     "name": "stdout",
     "output_type": "stream",
     "text": [
      "Ursprünglicher DataFrame:\n",
      "  Produkt    Monat  Umsatz\n",
      "0   Apfel   Januar     100\n",
      "1   Apfel  Februar     150\n",
      "2  Banane   Januar     200\n",
      "3  Banane  Februar     250\n",
      "4  Orange   Januar     300\n",
      "5  Orange  Februar     350\n",
      "6   Apfel   Januar      50\n",
      "7  Banane  Februar     100\n"
     ]
    }
   ],
   "source": [
    "import pandas as pd\n",
    "\n",
    "# Beispiel-DataFrame\n",
    "df = pd.DataFrame({\n",
    "    'Produkt': ['Apfel', 'Apfel', 'Banane', 'Banane', 'Orange', 'Orange', 'Apfel', 'Banane'],\n",
    "    'Monat': ['Januar', 'Februar', 'Januar', 'Februar', 'Januar', 'Februar', 'Januar', 'Februar'],\n",
    "    'Umsatz': [100, 150, 200, 250, 300, 350, 50, 100]\n",
    "})\n",
    "\n",
    "print(\"Ursprünglicher DataFrame:\")\n",
    "print(df)"
   ]
  },
  {
   "cell_type": "markdown",
   "id": "38110d82-07b7-481e-9a93-33609284aca8",
   "metadata": {},
   "source": [
    "### Anwendung von `pivot_table`"
   ]
  },
  {
   "cell_type": "markdown",
   "id": "15a25248-9024-4627-87e9-3229687bb4b0",
   "metadata": {},
   "source": [
    "Nun verwenden wir `pivot_table()`, um den durchschnittlichen Umsatz pro Produkt und Monat zu berechnen:"
   ]
  },
  {
   "cell_type": "code",
   "execution_count": 3,
   "id": "3dee1d5b-8072-42d2-83c0-65d362d375c3",
   "metadata": {},
   "outputs": [
    {
     "name": "stdout",
     "output_type": "stream",
     "text": [
      "\n",
      "Pivot Table mit durchschnittlichem Umsatz:\n",
      "Monat    Februar  Januar\n",
      "Produkt                 \n",
      "Apfel      150.0    75.0\n",
      "Banane     175.0   200.0\n",
      "Orange     350.0   300.0\n"
     ]
    }
   ],
   "source": [
    "# Pivot Table mit Mittelwert (mean) als Aggregationsfunktion\n",
    "pivot_df = df.pivot_table(index='Produkt', columns='Monat', values='Umsatz', aggfunc='mean')\n",
    "print(\"\\nPivot Table mit durchschnittlichem Umsatz:\")\n",
    "print(pivot_df)"
   ]
  },
  {
   "cell_type": "markdown",
   "id": "144ed547-1875-4559-a6ae-e7267e55fa5b",
   "metadata": {},
   "source": [
    "### Erklärung der Ausgabe"
   ]
  },
  {
   "cell_type": "markdown",
   "id": "0d63eafe-1b39-4ec8-8c6f-dfa9912496ad",
   "metadata": {},
   "source": [
    "- **`index='Produkt'`**: Die `Produkt`-Spalte wird zur Zeilenbeschriftung.\n",
    "- **`columns='Monat'`**: Die `Monat`-Spalte wird zu den neuen Spaltennamen.\n",
    "- **`values='Umsatz'`**: Die `Umsatz`-Werte werden aggregiert.\n",
    "- **`aggfunc='mean'`**: Die Aggregationsfunktion `mean` berechnet den durchschnittlichen Umsatz für jede Kombination aus `Produkt` und `Monat`."
   ]
  },
  {
   "cell_type": "markdown",
   "id": "2cbddb44-f860-4b99-ae55-4247c767d513",
   "metadata": {},
   "source": [
    "### Wichtige Parameter"
   ]
  },
  {
   "cell_type": "markdown",
   "id": "0a6ee093-36ba-4821-a351-fcc0ea120351",
   "metadata": {},
   "source": [
    "- **`aggfunc`**: Bestimmt die Funktion, die auf die Werte angewendet wird (z. B. `sum`, `mean`, `count`). Man kann auch mehrere Aggregationen gleichzeitig anwenden, z. B. `aggfunc=['sum', 'mean']`.\n",
    "- **`fill_value`**: Setzt einen Wert für leere Felder, falls bestimmte Kombinationen von `index` und `columns` fehlen.\n",
    "- **`margins=True`**: Fügt eine Gesamtsumme für jede Zeile und Spalte hinzu."
   ]
  },
  {
   "cell_type": "markdown",
   "id": "0eb412cf-fb00-4c18-9933-5dc88c667721",
   "metadata": {},
   "source": [
    "### Beispiel mit mehreren Aggregationen"
   ]
  },
  {
   "cell_type": "markdown",
   "id": "4f03c57b-d702-426c-88c9-5009f809dd4a",
   "metadata": {},
   "source": [
    "Falls du z. B. den Gesamtumsatz und die Anzahl der Verkäufe pro Produkt berechnen möchtest:"
   ]
  },
  {
   "cell_type": "code",
   "execution_count": 4,
   "id": "803d6ee0-e0f4-4a3e-beb3-6e48e8e9524a",
   "metadata": {},
   "outputs": [
    {
     "name": "stdout",
     "output_type": "stream",
     "text": [
      "\n",
      "Pivot Table mit Summe und Anzahl der Verkäufe:\n",
      "            sum          count       \n",
      "Monat   Februar Januar Februar Januar\n",
      "Produkt                              \n",
      "Apfel       150    150       1      2\n",
      "Banane      350    200       2      1\n",
      "Orange      350    300       1      1\n"
     ]
    }
   ],
   "source": [
    "pivot_df_multi = df.pivot_table(index='Produkt', columns='Monat', values='Umsatz', aggfunc=['sum', 'count'])\n",
    "print(\"\\nPivot Table mit Summe und Anzahl der Verkäufe:\")\n",
    "print(pivot_df_multi)"
   ]
  },
  {
   "cell_type": "markdown",
   "id": "e62b8abd-b747-43a2-a74c-1c36535136fa",
   "metadata": {},
   "source": [
    "Hier haben wir sowohl die Summe als auch die Anzahl der Verkäufe für jede Kombination von Produkt und Monat."
   ]
  },
  {
   "cell_type": "markdown",
   "id": "5ddbe264-a70a-4326-97cf-62773e6a7989",
   "metadata": {},
   "source": [
    "### Zusammenfassung"
   ]
  },
  {
   "cell_type": "markdown",
   "id": "51739913-e1a5-4112-9b11-ac97075b3fa5",
   "metadata": {},
   "source": [
    "- **`pivot_table()`** ist ideal, um Daten zu aggregieren und Zusammenfassungen zu erstellen.\n",
    "- Mit **`aggfunc`** kannst du verschiedene Aggregationen (z. B. `sum`, `mean`) anwenden.\n",
    "- Zusätzliche Parameter wie **`fill_value`** und **`margins`** bieten erweiterte Kontrolle und Flexibilität."
   ]
  }
 ],
 "metadata": {
  "kernelspec": {
   "display_name": "Python 3 (ipykernel)",
   "language": "python",
   "name": "python3"
  },
  "language_info": {
   "codemirror_mode": {
    "name": "ipython",
    "version": 3
   },
   "file_extension": ".py",
   "mimetype": "text/x-python",
   "name": "python",
   "nbconvert_exporter": "python",
   "pygments_lexer": "ipython3",
   "version": "3.12.6"
  }
 },
 "nbformat": 4,
 "nbformat_minor": 5
}
