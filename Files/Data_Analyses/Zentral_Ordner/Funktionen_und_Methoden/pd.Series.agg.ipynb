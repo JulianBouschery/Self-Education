{
 "cells": [
  {
   "cell_type": "markdown",
   "id": "40d1a16e-b20c-46c8-b3cd-5e3bdda0bef3",
   "metadata": {},
   "source": [
    "# pd.Series.agg()"
   ]
  },
  {
   "cell_type": "markdown",
   "id": "21865e5d-600a-4795-8c30-d2ae3fa8b7c2",
   "metadata": {},
   "source": [
    "Die Methode `pd.Series.agg()` in Pandas ist eine leistungsstarke Funktion, die es ermöglicht, mehrere [Aggregationsfunktionen](Aggregationsfunktionen.ipynb) auf eine Pandas Series oder DataFrame gleichzeitig anzuwenden. Dies ist besonders nützlich, wenn Sie verschiedene Statistiken (wie Summe, Mittelwert, Min, Max usw.) auf einen Datensatz anwenden möchten. (Wobei allerdings automatisch die für pandas optimierten Funktionen und Methoden verwendet werden...)\n",
    "\n",
    "Man könnte es auch den Vorgänger der [Pipeline](../../Themen/Preprocessing/Pipeline.ipynb) betrachten."
   ]
  },
  {
   "cell_type": "markdown",
   "id": "e835d231-0d0c-45e7-89ca-1d2680ffa24b",
   "metadata": {},
   "source": [
    "### Syntax"
   ]
  },
  {
   "cell_type": "markdown",
   "id": "44802d98-126c-4f62-bf6c-ab1cbc0323bc",
   "metadata": {},
   "source": [
    "Für eine Series:"
   ]
  },
  {
   "cell_type": "markdown",
   "id": "4c4d22e5-fc09-4c98-b2a3-61494710ccf6",
   "metadata": {},
   "source": [
    "```python\n",
    "Series.agg(func, *args, **kwargs)\n",
    "```\n",
    "Für ein DataFrame:\n",
    "\n",
    "```python\n",
    "DataFrame.agg(func, axis=0, *args, **kwargs)\n",
    "```"
   ]
  },
  {
   "cell_type": "markdown",
   "id": "f239a307-4e44-4fc7-95bc-029782e1afe2",
   "metadata": {},
   "source": [
    "### Parameter"
   ]
  },
  {
   "cell_type": "markdown",
   "id": "2e205dfd-4459-4780-9545-d1e2e056b54d",
   "metadata": {},
   "source": [
    "- **`func`**: Eine Funktion oder eine Liste von Funktionen, die auf die Daten angewendet werden sollen. Dies kann eine vordefinierte oder eine benutzerdefinierte Funktion sein.\n",
    "- **`axis`**: Gibt die Achse an, entlang der die Aggregation durchgeführt werden soll. `0` für Zeilen (Standard) und `1` für Spalten."
   ]
  },
  {
   "cell_type": "markdown",
   "id": "a0cafa5c-b76f-4d64-9e96-84b14d8190ea",
   "metadata": {},
   "source": [
    "### Beispiel mit Series"
   ]
  },
  {
   "cell_type": "code",
   "execution_count": 6,
   "id": "36d582e3-2cfb-43aa-b336-0c1c29cf4a4c",
   "metadata": {},
   "outputs": [
    {
     "name": "stdout",
     "output_type": "stream",
     "text": [
      "sum     150.0\n",
      "mean     30.0\n",
      "min      10.0\n",
      "max      50.0\n",
      "dtype: float64\n"
     ]
    }
   ],
   "source": [
    "import pandas as pd\n",
    "\n",
    "s = pd.Series([10, 20, 30, 40, 50])\n",
    "\n",
    "# Mehrere Aggregationen anwenden\n",
    "aggregierte_werte = s.agg(['sum', 'mean', 'min', 'max'])\n",
    "print(aggregierte_werte)"
   ]
  },
  {
   "cell_type": "markdown",
   "id": "80a90dc4-1560-417b-82cb-36728a7f4fa3",
   "metadata": {},
   "source": [
    "### Beispiel mit DataFrame"
   ]
  },
  {
   "cell_type": "markdown",
   "id": "00eafdc8-1a37-4ab8-93ea-aca13a23c5bd",
   "metadata": {},
   "source": [
    "Hier ist ein Beispiel für die Verwendung von `agg()` auf einem DataFrame:"
   ]
  },
  {
   "cell_type": "code",
   "execution_count": 3,
   "id": "63ed6453-595a-4d46-83f4-a5a869d1f282",
   "metadata": {},
   "outputs": [
    {
     "name": "stdout",
     "output_type": "stream",
     "text": [
      "          Wert          \n",
      "           sum  mean max\n",
      "Kategorie               \n",
      "A           30  15.0  20\n",
      "B           70  35.0  40\n"
     ]
    }
   ],
   "source": [
    "# Beispiel-DataFrame\n",
    "df = pd.DataFrame({\n",
    "    'Kategorie': ['A', 'A', 'B', 'B'],\n",
    "    'Wert': [10, 20, 30, 40]\n",
    "})\n",
    "\n",
    "# Aggregation nach Kategorie\n",
    "aggregierte_daten = df.groupby('Kategorie').agg({'Wert': ['sum', 'mean', 'max']})\n",
    "print(aggregierte_daten)"
   ]
  },
  {
   "cell_type": "markdown",
   "id": "27dc61b6-1d7e-4f7e-b8fd-e4e53749f155",
   "metadata": {},
   "source": [
    "### Erklärung"
   ]
  },
  {
   "cell_type": "markdown",
   "id": "be59eb4e-232f-49d2-947c-e5973da71dd9",
   "metadata": {},
   "source": [
    "- Im ersten Beispiel werden auf der Series mehrere Aggregationsfunktionen gleichzeitig angewendet. Das Ergebnis ist eine neue Series, die die Ergebnisse dieser Aggregationen enthält.\n",
    "- Im zweiten Beispiel wird `agg()` in Kombination mit `groupby()` verwendet, um Aggregationen für jede Kategorie in der DataFrame durchzuführen. Hierbei wird der Gesamtwert, der Durchschnitt und der Maximalwert für jede Kategorie berechnet."
   ]
  },
  {
   "cell_type": "markdown",
   "id": "ca8a0c74-d4d3-4a95-a11f-58af985ecde3",
   "metadata": {},
   "source": [
    "### Anwendung"
   ]
  },
  {
   "cell_type": "markdown",
   "id": "31b7b6c4-8fc8-48f2-bb5a-7f319919fa9d",
   "metadata": {},
   "source": [
    "- **Datenanalyse**: `agg()` ist hilfreich, um schnell eine Vielzahl von Statistiken auf einmal zu berechnen, ohne dass mehrere Zeilen Code benötigt werden.\n",
    "- **Datenaggregation**: In Verbindung mit `groupby()` ermöglicht es eine flexible Aggregation von Daten nach verschiedenen Kategorien."
   ]
  },
  {
   "cell_type": "markdown",
   "id": "356bd69c-ce53-44b0-bd33-e12b6c1074b7",
   "metadata": {},
   "source": [
    "### Zusammenfassung"
   ]
  },
  {
   "cell_type": "markdown",
   "id": "7a2e965a-4ff0-4304-8d54-ba6b46a8aeeb",
   "metadata": {},
   "source": [
    "- **`agg()`**: Eine Methode, die es ermöglicht, mehrere Aggregationsoperationen auf eine Series oder DataFrame anzuwenden.\n",
    "- Es ist besonders nützlich für umfassende Datenanalysen und Statistiken."
   ]
  },
  {
   "cell_type": "code",
   "execution_count": null,
   "id": "51c134cf-e924-4552-a63b-8714ca0dbd81",
   "metadata": {},
   "outputs": [],
   "source": []
  }
 ],
 "metadata": {
  "kernelspec": {
   "display_name": "Python 3 (ipykernel)",
   "language": "python",
   "name": "python3"
  },
  "language_info": {
   "codemirror_mode": {
    "name": "ipython",
    "version": 3
   },
   "file_extension": ".py",
   "mimetype": "text/x-python",
   "name": "python",
   "nbconvert_exporter": "python",
   "pygments_lexer": "ipython3",
   "version": "3.12.6"
  }
 },
 "nbformat": 4,
 "nbformat_minor": 5
}
