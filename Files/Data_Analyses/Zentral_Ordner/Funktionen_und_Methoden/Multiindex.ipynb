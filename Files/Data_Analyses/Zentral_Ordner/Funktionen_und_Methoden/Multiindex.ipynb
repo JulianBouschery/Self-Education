{
 "cells": [
  {
   "cell_type": "markdown",
   "id": "cd15a3eb-5da3-47f4-9428-184268076376",
   "metadata": {},
   "source": [
    "# Multi-Index"
   ]
  },
  {
   "cell_type": "markdown",
   "id": "6c34ecd9-dbbb-4f72-9622-ee7492340ce7",
   "metadata": {},
   "source": [
    "Die `set_index`-Methode in Pandas ermöglicht es, eine oder mehrere Spalten eines DataFrames als Index festzulegen, wodurch diese Spalten nicht mehr als Daten, sondern als Zeilenlabels im DataFrame erscheinen. Diese Methode kann besonders nützlich sein, um Daten nach bestimmten Schlüsseln effizienter zu sortieren und zu suchen."
   ]
  },
  {
   "cell_type": "markdown",
   "id": "087fce28-f180-42c3-aeb5-06afb4459654",
   "metadata": {},
   "source": [
    "### Syntax"
   ]
  },
  {
   "cell_type": "markdown",
   "id": "31333cb7-ea3d-4c0c-8b5c-455dd494c9fc",
   "metadata": {},
   "source": [
    "```python\n",
    "DataFrame.set_index(keys, drop=True, append=False, inplace=False, verify_integrity=False)\n",
    "```"
   ]
  },
  {
   "cell_type": "markdown",
   "id": "bce43442-097b-41dd-a8bc-5fe7706d1e83",
   "metadata": {},
   "source": [
    "### Parameter"
   ]
  },
  {
   "cell_type": "markdown",
   "id": "53a99e64-6d5b-4120-9a9a-504218d4b8d4",
   "metadata": {},
   "source": [
    "- **`keys`**: (str oder list) Die Spalte oder Liste von Spalten, die als neuer Index verwendet werden sollen.\n",
    "- **`drop`**: (bool, Standard: True) Gibt an, ob die Originalspalten, die als Index gesetzt werden, aus den Daten gelöscht werden sollen.\n",
    "- **`append`**: (bool, Standard: False) Falls `True`, werden die neuen Index-Spalten an den bestehenden Index angehängt, anstatt ihn zu ersetzen.\n",
    "- **`inplace`**: (bool, Standard: False) Wenn `True`, wird der DataFrame direkt geändert, anstatt eine Kopie zurückzugeben.\n",
    "- **`verify_integrity`**: (bool, Standard: False) Falls `True`, wird geprüft, ob der neue Index eindeutige Werte hat, was hilfreich ist, um doppelte Einträge zu vermeiden."
   ]
  },
  {
   "cell_type": "markdown",
   "id": "bd21e646-5160-4ee3-8ed4-4ef0da1b0f58",
   "metadata": {},
   "source": [
    "### Beispiel"
   ]
  },
  {
   "cell_type": "markdown",
   "id": "ab2b683c-db90-4444-b0fe-ca7fe5943a00",
   "metadata": {},
   "source": [
    "In diesem Beispiel erstellen wir zwei Pandas-DataFrames `df1` und `df2`, die beide Informationen zu deutschen Städten enthalten, aber unterschiedliche Datenfelder haben: `df1` enthält die Bevölkerungszahl und `df2` die Fläche der Städte für die Jahre 2020 und 2021. Beide DataFrames verwenden einen MultiIndex bestehend aus den Spalten \"Stadt\" und \"Jahr\", und wir kombinieren sie mit einem `join()`-Befehl."
   ]
  },
  {
   "cell_type": "code",
   "execution_count": 9,
   "id": "98e8cf1e-006d-4f59-910c-8539f38deb8a",
   "metadata": {},
   "outputs": [
    {
     "data": {
      "text/html": [
       "<div>\n",
       "<style scoped>\n",
       "    .dataframe tbody tr th:only-of-type {\n",
       "        vertical-align: middle;\n",
       "    }\n",
       "\n",
       "    .dataframe tbody tr th {\n",
       "        vertical-align: top;\n",
       "    }\n",
       "\n",
       "    .dataframe thead th {\n",
       "        text-align: right;\n",
       "    }\n",
       "</style>\n",
       "<table border=\"1\" class=\"dataframe\">\n",
       "  <thead>\n",
       "    <tr style=\"text-align: right;\">\n",
       "      <th></th>\n",
       "      <th></th>\n",
       "      <th>Bevölkerung</th>\n",
       "    </tr>\n",
       "    <tr>\n",
       "      <th>Stadt</th>\n",
       "      <th>Jahr</th>\n",
       "      <th></th>\n",
       "    </tr>\n",
       "  </thead>\n",
       "  <tbody>\n",
       "    <tr>\n",
       "      <th rowspan=\"2\" valign=\"top\">Berlin</th>\n",
       "      <th>2020</th>\n",
       "      <td>3.50</td>\n",
       "    </tr>\n",
       "    <tr>\n",
       "      <th>2021</th>\n",
       "      <td>3.60</td>\n",
       "    </tr>\n",
       "    <tr>\n",
       "      <th rowspan=\"2\" valign=\"top\">Hamburg</th>\n",
       "      <th>2020</th>\n",
       "      <td>1.80</td>\n",
       "    </tr>\n",
       "    <tr>\n",
       "      <th>2021</th>\n",
       "      <td>1.85</td>\n",
       "    </tr>\n",
       "  </tbody>\n",
       "</table>\n",
       "</div>"
      ],
      "text/plain": [
       "              Bevölkerung\n",
       "Stadt   Jahr             \n",
       "Berlin  2020         3.50\n",
       "        2021         3.60\n",
       "Hamburg 2020         1.80\n",
       "        2021         1.85"
      ]
     },
     "execution_count": 9,
     "metadata": {},
     "output_type": "execute_result"
    }
   ],
   "source": [
    "import pandas as pd\n",
    "\n",
    "# DataFrame df10 mit Bevölkerung\n",
    "df1 = pd.DataFrame({\n",
    "    'Stadt': ['Berlin', 'Berlin', 'Hamburg', 'Hamburg'],\n",
    "    'Jahr': [2020, 2021, 2020, 2021],\n",
    "    'Bevölkerung': [3.5, 3.6, 1.8, 1.85]\n",
    "}).set_index(['Stadt', 'Jahr'])\n",
    "\n",
    "df1"
   ]
  },
  {
   "cell_type": "code",
   "execution_count": 10,
   "id": "30e1690f-4ba3-4b87-8619-068e8634a026",
   "metadata": {},
   "outputs": [
    {
     "data": {
      "text/html": [
       "<div>\n",
       "<style scoped>\n",
       "    .dataframe tbody tr th:only-of-type {\n",
       "        vertical-align: middle;\n",
       "    }\n",
       "\n",
       "    .dataframe tbody tr th {\n",
       "        vertical-align: top;\n",
       "    }\n",
       "\n",
       "    .dataframe thead th {\n",
       "        text-align: right;\n",
       "    }\n",
       "</style>\n",
       "<table border=\"1\" class=\"dataframe\">\n",
       "  <thead>\n",
       "    <tr style=\"text-align: right;\">\n",
       "      <th></th>\n",
       "      <th></th>\n",
       "      <th>Fläche</th>\n",
       "    </tr>\n",
       "    <tr>\n",
       "      <th>Stadt</th>\n",
       "      <th>Jahr</th>\n",
       "      <th></th>\n",
       "    </tr>\n",
       "  </thead>\n",
       "  <tbody>\n",
       "    <tr>\n",
       "      <th rowspan=\"2\" valign=\"top\">Berlin</th>\n",
       "      <th>2020</th>\n",
       "      <td>891.8</td>\n",
       "    </tr>\n",
       "    <tr>\n",
       "      <th>2021</th>\n",
       "      <td>891.8</td>\n",
       "    </tr>\n",
       "    <tr>\n",
       "      <th rowspan=\"2\" valign=\"top\">Hamburg</th>\n",
       "      <th>2020</th>\n",
       "      <td>755.2</td>\n",
       "    </tr>\n",
       "    <tr>\n",
       "      <th>2021</th>\n",
       "      <td>755.2</td>\n",
       "    </tr>\n",
       "  </tbody>\n",
       "</table>\n",
       "</div>"
      ],
      "text/plain": [
       "              Fläche\n",
       "Stadt   Jahr        \n",
       "Berlin  2020   891.8\n",
       "        2021   891.8\n",
       "Hamburg 2020   755.2\n",
       "        2021   755.2"
      ]
     },
     "execution_count": 10,
     "metadata": {},
     "output_type": "execute_result"
    }
   ],
   "source": [
    "# DataFrame df11 mit Fläche\n",
    "df2 = pd.DataFrame({\n",
    "    'Stadt': ['Berlin', 'Berlin', 'Hamburg', 'Hamburg'],\n",
    "    'Jahr': [2020, 2021, 2020, 2021],\n",
    "    'Fläche': [891.8, 891.8, 755.2, 755.2]\n",
    "}).set_index(['Stadt', 'Jahr'])\n",
    "df2"
   ]
  },
  {
   "cell_type": "markdown",
   "id": "6fd12d64-d7f6-44a9-bb68-9dcfb4e89986",
   "metadata": {},
   "source": [
    "Hier verwenden wir `set_index(['Stadt', 'Jahr'])`, um aus den Spalten \"Stadt\" und \"Jahr\" einen MultiIndex zu machen. Das heißt, `df10` und `df11` haben jetzt die Kombination aus \"Stadt\" und \"Jahr\" als Index."
   ]
  },
  {
   "cell_type": "markdown",
   "id": "710e4879-3ac8-494f-b89c-33d5cce88106",
   "metadata": {},
   "source": [
    "### Anwendung von `join()` auf MultiIndex"
   ]
  },
  {
   "cell_type": "markdown",
   "id": "18826c16-8275-4f2e-9b74-9482f8117316",
   "metadata": {},
   "source": [
    "Nun kombinieren wir beide DataFrames mit `join()`:"
   ]
  },
  {
   "cell_type": "code",
   "execution_count": 11,
   "id": "cb00edba-cc63-47b9-9a42-dbb541dabadf",
   "metadata": {},
   "outputs": [
    {
     "data": {
      "text/html": [
       "<div>\n",
       "<style scoped>\n",
       "    .dataframe tbody tr th:only-of-type {\n",
       "        vertical-align: middle;\n",
       "    }\n",
       "\n",
       "    .dataframe tbody tr th {\n",
       "        vertical-align: top;\n",
       "    }\n",
       "\n",
       "    .dataframe thead th {\n",
       "        text-align: right;\n",
       "    }\n",
       "</style>\n",
       "<table border=\"1\" class=\"dataframe\">\n",
       "  <thead>\n",
       "    <tr style=\"text-align: right;\">\n",
       "      <th></th>\n",
       "      <th></th>\n",
       "      <th>Bevölkerung</th>\n",
       "      <th>Fläche</th>\n",
       "    </tr>\n",
       "    <tr>\n",
       "      <th>Stadt</th>\n",
       "      <th>Jahr</th>\n",
       "      <th></th>\n",
       "      <th></th>\n",
       "    </tr>\n",
       "  </thead>\n",
       "  <tbody>\n",
       "    <tr>\n",
       "      <th rowspan=\"2\" valign=\"top\">Berlin</th>\n",
       "      <th>2020</th>\n",
       "      <td>3.50</td>\n",
       "      <td>891.8</td>\n",
       "    </tr>\n",
       "    <tr>\n",
       "      <th>2021</th>\n",
       "      <td>3.60</td>\n",
       "      <td>891.8</td>\n",
       "    </tr>\n",
       "    <tr>\n",
       "      <th rowspan=\"2\" valign=\"top\">Hamburg</th>\n",
       "      <th>2020</th>\n",
       "      <td>1.80</td>\n",
       "      <td>755.2</td>\n",
       "    </tr>\n",
       "    <tr>\n",
       "      <th>2021</th>\n",
       "      <td>1.85</td>\n",
       "      <td>755.2</td>\n",
       "    </tr>\n",
       "  </tbody>\n",
       "</table>\n",
       "</div>"
      ],
      "text/plain": [
       "              Bevölkerung  Fläche\n",
       "Stadt   Jahr                     \n",
       "Berlin  2020         3.50   891.8\n",
       "        2021         3.60   891.8\n",
       "Hamburg 2020         1.80   755.2\n",
       "        2021         1.85   755.2"
      ]
     },
     "execution_count": 11,
     "metadata": {},
     "output_type": "execute_result"
    }
   ],
   "source": [
    "# Join basierend auf MultiIndex\n",
    "joined_df_b = df1.join(df2)\n",
    "joined_df_b"
   ]
  },
  {
   "cell_type": "markdown",
   "id": "8be43327-0a0c-4bfa-b22a-9af36f4d9ca7",
   "metadata": {},
   "source": [
    "In diesem Schritt werden die beiden DataFrames anhand ihres MultiIndex (\"Stadt\" und \"Jahr\") zusammengeführt. Der `join()`-Befehl verbindet die Daten dabei standardmäßig mit einem *left join*, bei dem alle Einträge von `df1` übernommen werden und passende Einträge von `df2` hinzugefügt werden."
   ]
  },
  {
   "cell_type": "markdown",
   "id": "4370da12-688c-464e-96b9-bbec33729bf7",
   "metadata": {},
   "source": [
    "### Erklärung des Ergebnisses\n",
    "\n",
    "- `join()` hat die beiden DataFrames basierend auf dem gemeinsamen MultiIndex \"Stadt\" und \"Jahr\" kombiniert.\n",
    "- Die Spalte `Bevölkerung` von `df1` wurde mit der Spalte `Fläche` von `df2` in einem neuen DataFrame `joined_df_b` zusammengeführt.\n",
    "- Jede Kombination aus \"Stadt\" und \"Jahr\" ist nur einmal vorhanden, da der Index beider DataFrames identisch ist.\n",
    "\n",
    "### Fazit\n",
    "Mit `join()` und einem MultiIndex kann man Daten effektiv zusammenführen, wenn beide DataFrames dieselbe Kombination von Indexwerten besitzen. Das ist nützlich, um eine klare und zusammenhängende Darstellung von Daten zu schaffen, z. B. zur Analyse von Stadt- und Zeitreihen."
   ]
  }
 ],
 "metadata": {
  "kernelspec": {
   "display_name": "Python 3 (ipykernel)",
   "language": "python",
   "name": "python3"
  },
  "language_info": {
   "codemirror_mode": {
    "name": "ipython",
    "version": 3
   },
   "file_extension": ".py",
   "mimetype": "text/x-python",
   "name": "python",
   "nbconvert_exporter": "python",
   "pygments_lexer": "ipython3",
   "version": "3.12.6"
  }
 },
 "nbformat": 4,
 "nbformat_minor": 5
}
