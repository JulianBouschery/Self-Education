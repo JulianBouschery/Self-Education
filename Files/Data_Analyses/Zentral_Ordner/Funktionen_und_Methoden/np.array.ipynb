{
 "cells": [
  {
   "cell_type": "markdown",
   "id": "1f131e4c-b74e-41fa-aa16-14db91631abe",
   "metadata": {},
   "source": [
    "# np.array()"
   ]
  },
  {
   "cell_type": "markdown",
   "id": "6d28269d-86f6-4203-8043-8a8d964f337f",
   "metadata": {},
   "source": [
    "Die Funktion **`np.array()`** in NumPy wird verwendet, um **Arrays** zu erstellen. Ein Array ist eine **Datenstruktur**, die mehrere Werte speichern kann, ähnlich wie Listen in Python, aber mit zusätzlichen Funktionen, die speziell für numerische Berechnungen optimiert sind."
   ]
  },
  {
   "cell_type": "markdown",
   "id": "645d64ce-794f-49c0-a374-fa253aea2d74",
   "metadata": {},
   "source": [
    "### Syntax:"
   ]
  },
  {
   "cell_type": "markdown",
   "id": "fc603feb-d286-48c1-b857-10e31676cf07",
   "metadata": {},
   "source": [
    "```python\n",
    "np.array(object, dtype=None, copy=True, order='K', subok=False, ndmin=0)\n",
    "```"
   ]
  },
  {
   "cell_type": "markdown",
   "id": "9f8a14d8-1d3d-494a-8c60-87199009192a",
   "metadata": {},
   "source": [
    "### Parameter:"
   ]
  },
  {
   "cell_type": "markdown",
   "id": "0131d7c7-3396-444e-b169-06c0bf89dc7a",
   "metadata": {},
   "source": [
    "- **object**: Eine Liste, Liste von Listen oder eine andere sequenzielle Struktur, aus der das Array erstellt wird.\n",
    "- **dtype** (optional): Der Datentyp der Elemente des Arrays (z.B. `int`, `float`, etc.). Wenn nicht angegeben, wird der Typ automatisch bestimmt.\n",
    "- **copy** (optional): Ob das Array explizit kopiert wird (default: `True`).\n",
    "- **order** (optional): Speichert die Mehrdimensionalität im **‘C’-Stil** (zeilenweise) oder **‘F’-Stil** (spaltenweise).\n",
    "- **ndmin** (optional): Die minimale Anzahl von Dimensionen des resultierenden Arrays."
   ]
  },
  {
   "cell_type": "markdown",
   "id": "9ba73ff7-4d7e-409f-bab6-13801a5a2ca6",
   "metadata": {},
   "source": [
    "### Beispiel:"
   ]
  },
  {
   "cell_type": "markdown",
   "id": "28f86a05-e889-461c-bbef-648ef36fd0be",
   "metadata": {},
   "source": [
    "```python\n",
    "import numpy as np\n",
    "\n",
    "# Ein Array aus einer Liste erstellen\n",
    "array_1d = np.array([1, 2, 3, 4, 5])\n",
    "\n",
    "# Ein 2D-Array (Matrix) aus einer Liste von Listen erstellen\n",
    "array_2d = np.array([[1, 2, 3], [4, 5, 6]])\n",
    "\n",
    "# Ein Array mit festgelegtem Datentyp (float)\n",
    "array_float = np.array([1, 2, 3], dtype=float)\n",
    "\n",
    "print(array_1d)\n",
    "print(array_2d)\n",
    "print(array_float)\n",
    "```"
   ]
  },
  {
   "cell_type": "markdown",
   "id": "f081de75-fc68-4f06-b916-59cb2451c817",
   "metadata": {},
   "source": [
    "### Erklärung:"
   ]
  },
  {
   "cell_type": "markdown",
   "id": "a4ffe696-6e9e-4b28-83d8-969fecac36d6",
   "metadata": {},
   "source": [
    "1. **`array_1d`**: Ein 1D-Array (Vektor) aus einer Liste von Zahlen.\n",
    "2. **`array_2d`**: Ein 2D-Array (Matrix) aus einer Liste von Listen.\n",
    "3. **`array_float`**: Ein Array, dessen Datentyp explizit als `float` angegeben wurde."
   ]
  },
  {
   "cell_type": "markdown",
   "id": "c1d19070-305b-4b6f-8859-61e27d6e4a28",
   "metadata": {},
   "source": [
    "### Vorteile von `np.array()` gegenüber Listen:"
   ]
  },
  {
   "cell_type": "markdown",
   "id": "e2aa1272-671f-4c01-a119-d9eb73dc3d92",
   "metadata": {},
   "source": [
    "- Arrays können effizienter speicher- und rechenoptimiert sein.\n",
    "- Sie bieten vektorbasierte Operationen (zum Beispiel kann man direkt zwei Arrays addieren).\n",
    "- Sie unterstützen **mehrdimensionale** Datenstrukturen (wie Matrizen)."
   ]
  },
  {
   "cell_type": "code",
   "execution_count": null,
   "id": "3ec261cc-e69f-4126-9ca2-fa24b370a13e",
   "metadata": {},
   "outputs": [],
   "source": []
  }
 ],
 "metadata": {
  "kernelspec": {
   "display_name": "Python 3 (ipykernel)",
   "language": "python",
   "name": "python3"
  },
  "language_info": {
   "codemirror_mode": {
    "name": "ipython",
    "version": 3
   },
   "file_extension": ".py",
   "mimetype": "text/x-python",
   "name": "python",
   "nbconvert_exporter": "python",
   "pygments_lexer": "ipython3",
   "version": "3.12.6"
  }
 },
 "nbformat": 4,
 "nbformat_minor": 5
}
