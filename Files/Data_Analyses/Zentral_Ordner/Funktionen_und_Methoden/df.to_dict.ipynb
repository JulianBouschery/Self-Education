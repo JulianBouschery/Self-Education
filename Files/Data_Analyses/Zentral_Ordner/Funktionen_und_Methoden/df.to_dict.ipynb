{
 "cells": [
  {
   "cell_type": "markdown",
   "id": "b12c59f6-8a7b-4712-9d27-3de7df830307",
   "metadata": {},
   "source": [
    "# df.to_dict()"
   ]
  },
  {
   "cell_type": "markdown",
   "id": "1fb92006-6c82-4292-b607-6803b97119d5",
   "metadata": {},
   "source": [
    "Die Methode **`.to_dict()`** wird in Pandas verwendet, um DataFrames oder Series in Python-Wörterbücher (Dictionaries) umzuwandeln. Ein Dictionary ist praktisch, weil es Daten in einem Schlüssel-Wert-Format speichert, was den schnellen Zugriff und die Manipulation der Daten erleichtert. Je nach Struktur der Daten (DataFrame oder Series) und den gewünschten Ausgabeformaten bietet `.to_dict()` flexible Optionen."
   ]
  },
  {
   "cell_type": "markdown",
   "id": "402f0832-2041-444c-be2d-090a0acd3dac",
   "metadata": {},
   "source": [
    "## 1. **Anwendung auf eine Series**"
   ]
  },
  {
   "cell_type": "markdown",
   "id": "992352e6-9811-4031-acd2-c86c743d3e65",
   "metadata": {},
   "source": [
    "Siehe auch: [Series](Series.ipynb)"
   ]
  },
  {
   "cell_type": "markdown",
   "id": "bc335b96-37e9-4bba-8f62-6d43788fb112",
   "metadata": {},
   "source": [
    "   - Eine Series ist eine einspaltige Datenstruktur, und `.to_dict()` konvertiert sie in ein Dictionary, wobei die **Series-Indizes als Schlüssel** und die **Werte der Series als Werte** verwendet werden.\n",
    "\n",
    "   ```python\n",
    "   import pandas as pd\n",
    "\n",
    "   s = pd.Series([10, 20, 30], index=['a', 'b', 'c'])\n",
    "   print(s.to_dict())  # Ausgabe: {'a': 10, 'b': 20, 'c': 30}\n",
    "   ```"
   ]
  },
  {
   "cell_type": "markdown",
   "id": "553ee6a7-9d4d-4898-a329-cc8a38729686",
   "metadata": {},
   "source": [
    "## 2. **Anwendung auf einen DataFrame**"
   ]
  },
  {
   "cell_type": "markdown",
   "id": "bb04923c-4437-4e9c-9a1b-c6eb533460b8",
   "metadata": {},
   "source": [
    "Ein DataFrame ist eine Tabelle mit mehreren Zeilen und Spalten. Die Methode `.to_dict()` bietet hier mehrere Formate zur Auswahl, um die Struktur des Dictionaries zu bestimmen:"
   ]
  },
  {
   "cell_type": "code",
   "execution_count": 3,
   "id": "bf216056-72e8-4e62-980d-fb534b6fe5b3",
   "metadata": {},
   "outputs": [],
   "source": [
    "import pandas as pd"
   ]
  },
  {
   "cell_type": "markdown",
   "id": "8743c5ea-b278-4a75-b6d9-196df4e6b3b9",
   "metadata": {},
   "source": [
    "### `orient='dict'` (Standard): "
   ]
  },
  {
   "cell_type": "markdown",
   "id": "44e03ecf-6cc3-415d-8b61-a5d4e7015cc5",
   "metadata": {},
   "source": [
    "Jede Spalte wird zu einem Schlüssel, und die Werte in dieser Spalte werden als weiteres Dictionary mit Zeilenindizes als Schlüssel gespeichert."
   ]
  },
  {
   "cell_type": "code",
   "execution_count": 5,
   "id": "a904fd86-faa1-48a4-96e3-c707cdcec174",
   "metadata": {},
   "outputs": [
    {
     "name": "stdout",
     "output_type": "stream",
     "text": [
      "{'A': {0: 1, 1: 2}, 'B': {0: 3, 1: 4}}\n"
     ]
    }
   ],
   "source": [
    "df = pd.DataFrame({'A': [1, 2], 'B': [3, 4]})\n",
    "print(df.to_dict())"
   ]
  },
  {
   "cell_type": "markdown",
   "id": "07329a01-73d6-47ac-8a46-d27934de740f",
   "metadata": {},
   "source": [
    "### `orient='list'`:"
   ]
  },
  {
   "cell_type": "markdown",
   "id": "1b1888a3-8a47-407b-a5c1-b678b984e6b7",
   "metadata": {},
   "source": [
    "Jede Spalte wird zu einem Schlüssel, und die Spaltenwerte werden als Listen gespeichert.     "
   ]
  },
  {
   "cell_type": "code",
   "execution_count": 7,
   "id": "74f0322b-8369-4d1b-92ac-6eae71c7965f",
   "metadata": {},
   "outputs": [
    {
     "name": "stdout",
     "output_type": "stream",
     "text": [
      "{'A': [1, 2], 'B': [3, 4]}\n"
     ]
    }
   ],
   "source": [
    "print(df.to_dict(orient='list'))"
   ]
  },
  {
   "cell_type": "markdown",
   "id": "b922f138-dea1-4cda-9fe3-26f1e84c1bef",
   "metadata": {},
   "source": [
    "### `orient='series'`:"
   ]
  },
  {
   "cell_type": "markdown",
   "id": "56f565b0-367d-4197-82ea-0e6eb608fdd6",
   "metadata": {},
   "source": [
    "Konvertiert jede Spalte in eine Series, die als Wert im Dictionary gespeichert wird, mit dem Spaltennamen als Schlüssel."
   ]
  },
  {
   "cell_type": "code",
   "execution_count": 9,
   "id": "ec4982aa-848e-40f4-ae75-3d28cf9cfd4a",
   "metadata": {},
   "outputs": [
    {
     "name": "stdout",
     "output_type": "stream",
     "text": [
      "{'A': 0    1\n",
      "1    2\n",
      "Name: A, dtype: int64, 'B': 0    3\n",
      "1    4\n",
      "Name: B, dtype: int64}\n"
     ]
    }
   ],
   "source": [
    "print(df.to_dict(orient='series'))\n",
    "# Ausgabe: {'A': pd.Series(...), 'B': pd.Series(...)}"
   ]
  },
  {
   "cell_type": "markdown",
   "id": "545557f6-4a1d-49ab-b508-6a990027d64f",
   "metadata": {},
   "source": [
    "### `orient='records'`:"
   ]
  },
  {
   "cell_type": "markdown",
   "id": "b6e53f86-de9d-486c-8fdc-4225c798052a",
   "metadata": {},
   "source": [
    "Gibt eine Liste von Dictionaries zurück, wobei jede Zeile in einem Dictionary gespeichert ist. Die Spaltennamen sind die Schlüssel.     "
   ]
  },
  {
   "cell_type": "code",
   "execution_count": 11,
   "id": "8b1585b7-c5e2-48cd-bcd2-e227d4298e81",
   "metadata": {},
   "outputs": [
    {
     "name": "stdout",
     "output_type": "stream",
     "text": [
      "[{'A': 1, 'B': 3}, {'A': 2, 'B': 4}]\n"
     ]
    }
   ],
   "source": [
    "print(df.to_dict(orient='records'))"
   ]
  },
  {
   "cell_type": "markdown",
   "id": "bb0d8139-b547-4277-a8cc-760c1560a6e9",
   "metadata": {},
   "source": [
    "### `orient='index'`:"
   ]
  },
  {
   "cell_type": "markdown",
   "id": "5eb0071d-efe7-4069-a486-64d07d96ccd9",
   "metadata": {},
   "source": [
    "Jede Zeile wird zu einem Schlüssel, und die Spalten bilden ein verschachteltes Dictionary.       "
   ]
  },
  {
   "cell_type": "code",
   "execution_count": 13,
   "id": "944e5b6f-efc2-4bf3-bf70-411f5d225785",
   "metadata": {},
   "outputs": [
    {
     "name": "stdout",
     "output_type": "stream",
     "text": [
      "{0: {'A': 1, 'B': 3}, 1: {'A': 2, 'B': 4}}\n"
     ]
    }
   ],
   "source": [
    "print(df.to_dict(orient='index'))"
   ]
  },
  {
   "cell_type": "markdown",
   "id": "a7af7182-b56f-479b-9c28-1b07e9405987",
   "metadata": {},
   "source": [
    "### Zusammenfassung"
   ]
  },
  {
   "cell_type": "markdown",
   "id": "fcbe6f73-4dea-41da-b7f0-453dfa737c73",
   "metadata": {},
   "source": [
    "`.to_dict()` ist eine vielseitige Methode, die sowohl auf Series als auch DataFrames angewendet werden kann. Sie ermöglicht es, Pandas-Datenstrukturen in verschiedene Dictionary-Formate umzuwandeln, je nachdem, wie die Daten benötigt werden."
   ]
  },
  {
   "cell_type": "code",
   "execution_count": null,
   "id": "8637269e-f664-4c99-8b4f-a927b03115fa",
   "metadata": {},
   "outputs": [],
   "source": []
  }
 ],
 "metadata": {
  "kernelspec": {
   "display_name": "Python 3 (ipykernel)",
   "language": "python",
   "name": "python3"
  },
  "language_info": {
   "codemirror_mode": {
    "name": "ipython",
    "version": 3
   },
   "file_extension": ".py",
   "mimetype": "text/x-python",
   "name": "python",
   "nbconvert_exporter": "python",
   "pygments_lexer": "ipython3",
   "version": "3.12.6"
  }
 },
 "nbformat": 4,
 "nbformat_minor": 5
}
