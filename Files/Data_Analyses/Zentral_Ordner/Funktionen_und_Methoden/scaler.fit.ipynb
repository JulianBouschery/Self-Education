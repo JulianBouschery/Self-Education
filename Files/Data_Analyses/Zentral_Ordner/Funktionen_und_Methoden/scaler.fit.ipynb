{
 "cells": [
  {
   "cell_type": "markdown",
   "id": "64cca6e8-5423-4257-8b1f-2f187d89f042",
   "metadata": {},
   "source": [
    "# fit()"
   ]
  },
  {
   "cell_type": "markdown",
   "id": "509aa4cd-c25f-4d1d-a8ae-ccf27f40f10b",
   "metadata": {},
   "source": [
    "Im Bereich maschinelles Lernen, ist die Methode `fit()` ein zentraler Bestandteil der Modellierung. Sie wird verwendet, um ein Modell auf die Trainingsdaten anzupassen. Hier sind die Grundprinzipien:\n",
    "\n",
    "1. **Zweck**: Die `fit()`-Methode passt die Parameter eines Modells so an, dass es die Beziehung zwischen den Eingabedaten (Features) und den Zielwerten (Labels) erlernt. Dies geschieht durch die Minimierung eines Verlusts, der angibt, wie gut das Modell die Zielwerte vorhersagt.\n",
    "\n",
    "2. **Prozess**: Während des `fit()`-Prozesses werden die Modellparameter optimiert, indem der Algorithmus die Trainingsdaten durchläuft. Beispielsweise wird bei einem linearen Regressionsmodell die beste Gerade durch die Datenpunkte gesucht.\n",
    "\n",
    "3. **Beispiel in Python**: Hier ist ein einfaches Beispiel, das die Verwendung der `fit()`-Methode in einem linearen Regressionsmodell mit `scikit-learn` zeigt.\n",
    "\n",
    "```python\n",
    "from sklearn.model_selection import train_test_split\n",
    "from sklearn.linear_model import LinearRegression\n",
    "import numpy as np\n",
    "\n",
    "# Beispiel-Daten\n",
    "X = np.array([[1], [2], [3], [4], [5]])  # Eingabedaten\n",
    "y = np.array([3, 4, 2, 5, 6])  # Zielwerte\n",
    "\n",
    "# Aufteilen der Daten in Trainings- und Testsets\n",
    "X_train, X_test, y_train, y_test = train_test_split(X, y, test_size=0.2, random_state=42)\n",
    "\n",
    "# Erstellen des Modells\n",
    "model = LinearRegression()\n",
    "\n",
    "# Modell an die Trainingsdaten anpassen\n",
    "model.fit(X_train, y_train)\n",
    "\n",
    "# Vorhersage mit dem Testset\n",
    "predictions = model.predict(X_test)\n",
    "\n",
    "print(\"Vorhersagen:\", predictions)\n",
    "```\n",
    "\n",
    "In diesem Beispiel:\n",
    "- `X` sind die Eingabedaten (Features) und `y` sind die Zielwerte.\n",
    "- Wir teilen die Daten in Trainings- und Testsets auf.\n",
    "- Wir erstellen ein lineares Regressionsmodell und passen es mit der `fit()`-Methode an die Trainingsdaten an.\n",
    "- Schließlich verwenden wir das angepasste Modell, um Vorhersagen für das Testset zu treffen."
   ]
  },
  {
   "cell_type": "code",
   "execution_count": 1,
   "id": "c908221a-928b-4f52-8c7b-94aafcca8345",
   "metadata": {},
   "outputs": [
    {
     "name": "stdout",
     "output_type": "stream",
     "text": [
      "Vorhersagen: [3.]\n"
     ]
    }
   ],
   "source": [
    "from sklearn.model_selection import train_test_split\n",
    "from sklearn.linear_model import LinearRegression\n",
    "import numpy as np\n",
    "\n",
    "# Beispiel-Daten\n",
    "X = np.array([[1], [2], [3], [4], [5]])  # Eingabedaten\n",
    "y = np.array([3, 4, 2, 5, 6])  # Zielwerte\n",
    "\n",
    "# Aufteilen der Daten in Trainings- und Testsets\n",
    "X_train, X_test, y_train, y_test = train_test_split(X, y, test_size=0.2, random_state=42)\n",
    "\n",
    "# Erstellen des Modells\n",
    "model = LinearRegression()\n",
    "\n",
    "# Modell an die Trainingsdaten anpassen\n",
    "model.fit(X_train, y_train)\n",
    "\n",
    "# Vorhersage mit dem Testset\n",
    "predictions = model.predict(X_test)\n",
    "\n",
    "print(\"Vorhersagen:\", predictions)"
   ]
  },
  {
   "cell_type": "code",
   "execution_count": null,
   "id": "a6973789-c484-4d42-acbf-51016fbbaaaa",
   "metadata": {},
   "outputs": [],
   "source": []
  }
 ],
 "metadata": {
  "kernelspec": {
   "display_name": "Python 3 (ipykernel)",
   "language": "python",
   "name": "python3"
  },
  "language_info": {
   "codemirror_mode": {
    "name": "ipython",
    "version": 3
   },
   "file_extension": ".py",
   "mimetype": "text/x-python",
   "name": "python",
   "nbconvert_exporter": "python",
   "pygments_lexer": "ipython3",
   "version": "3.12.6"
  }
 },
 "nbformat": 4,
 "nbformat_minor": 5
}
