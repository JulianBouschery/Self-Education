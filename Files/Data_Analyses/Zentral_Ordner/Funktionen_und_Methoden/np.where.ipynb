{
 "cells": [
  {
   "cell_type": "markdown",
   "id": "209acf27-a647-4eb5-ae7e-2e758c330c70",
   "metadata": {},
   "source": [
    "# np.where()"
   ]
  },
  {
   "cell_type": "markdown",
   "id": "676489a2-a3b6-454a-8ba6-b37d58b867ea",
   "metadata": {},
   "source": [
    "Platzhalter"
   ]
  },
  {
   "cell_type": "code",
   "execution_count": null,
   "id": "25a8343f-aba5-4918-86ee-ef878d043e66",
   "metadata": {},
   "outputs": [],
   "source": []
  }
 ],
 "metadata": {
  "kernelspec": {
   "display_name": "Python 3 (ipykernel)",
   "language": "python",
   "name": "python3"
  },
  "language_info": {
   "codemirror_mode": {
    "name": "ipython",
    "version": 3
   },
   "file_extension": ".py",
   "mimetype": "text/x-python",
   "name": "python",
   "nbconvert_exporter": "python",
   "pygments_lexer": "ipython3",
   "version": "3.12.6"
  }
 },
 "nbformat": 4,
 "nbformat_minor": 5
}
