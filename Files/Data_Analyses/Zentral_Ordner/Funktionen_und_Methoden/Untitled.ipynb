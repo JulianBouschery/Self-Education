{
 "cells": [
  {
   "cell_type": "markdown",
   "id": "88ca22e3-a44f-47d5-b4d3-5e66aa457506",
   "metadata": {},
   "source": [
    "`pd.Series.mean()` ist eine Methode in Pandas, die den Durchschnitt (arithmetisches Mittel) aller numerischen Werte in einer Pandas Series berechnet. Eine Series ist eine einspaltige Datenstruktur in Pandas, die eine Liste von Werten enthält. \n",
    "\n",
    "### Funktionsweise\n",
    "\n",
    "Die Methode `mean()` berechnet den Durchschnitt, indem sie die Summe aller numerischen Werte in der Series durch die Anzahl dieser Werte teilt. Falls die Series `NaN`-Werte (fehlende Werte) enthält, ignoriert `mean()` diese standardmäßig.\n",
    "\n",
    "### Syntax\n",
    "\n",
    "```python\n",
    "Series.mean(skipna=True)\n",
    "```\n",
    "\n",
    "- **`skipna`**: Ein optionaler Parameter. Wenn `True` (Standard), werden fehlende Werte (`NaN`) ignoriert. Bei `False` würde ein `NaN` in der Series das Ergebnis ebenfalls zu `NaN` machen.\n",
    "\n",
    "### Beispiel\n",
    "\n",
    "Angenommen, wir haben eine Serie von Zahlen, die die Umsätze eines Geschäfts in einer Woche darstellen:\n",
    "\n",
    "```python\n",
    "import pandas as pd\n",
    "\n",
    "umsatz = pd.Series([100, 200, 300, None, 500])\n",
    "\n",
    "# Berechnung des Durchschnitts\n",
    "durchschnitt = umsatz.mean()\n",
    "print(\"Durchschnittlicher Umsatz:\", durchschnitt)\n",
    "```\n",
    "\n",
    "**Ergebnis:**\n",
    "\n",
    "```\n",
    "Durchschnittlicher Umsatz: 275.0\n",
    "```\n",
    "\n",
    "### Erklärung\n",
    "\n",
    "- Die Methode ignoriert den `None`-Wert (entspricht `NaN`) und berechnet den Durchschnitt der restlichen Werte `(100 + 200 + 300 + 500) / 4 = 275`.\n",
    "- Wenn `skipna=False` gesetzt ist, würde `durchschnitt` zu `NaN` werden, da die Serie fehlende Werte enthält.\n",
    "\n",
    "### Anwendung\n",
    "\n",
    "`pd.Series.mean()` ist hilfreich, um schnell den Durchschnitt einer Spalte in einem DataFrame zu berechnen oder allgemeine Zusammenfassungen von numerischen Daten zu erhalten."
   ]
  },
  {
   "cell_type": "code",
   "execution_count": null,
   "id": "432a09a3-c51d-468f-8d6c-1df22a21561c",
   "metadata": {},
   "outputs": [],
   "source": []
  }
 ],
 "metadata": {
  "kernelspec": {
   "display_name": "Python 3 (ipykernel)",
   "language": "python",
   "name": "python3"
  },
  "language_info": {
   "codemirror_mode": {
    "name": "ipython",
    "version": 3
   },
   "file_extension": ".py",
   "mimetype": "text/x-python",
   "name": "python",
   "nbconvert_exporter": "python",
   "pygments_lexer": "ipython3",
   "version": "3.12.6"
  }
 },
 "nbformat": 4,
 "nbformat_minor": 5
}
