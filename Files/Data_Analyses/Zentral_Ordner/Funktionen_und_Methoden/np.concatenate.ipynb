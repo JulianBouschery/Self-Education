{
 "cells": [
  {
   "cell_type": "markdown",
   "id": "aac6ca2f-ce54-4f7e-8f1e-c80b0805134b",
   "metadata": {},
   "source": [
    "# np.concatenate()"
   ]
  },
  {
   "cell_type": "markdown",
   "id": "664d143f-5fe2-474b-89c4-63bec2ec42b6",
   "metadata": {},
   "source": [
    "`np.concatenate()` ist eine Funktion in der **NumPy**-Bibliothek in Python, die verwendet wird, um mehrere Arrays entlang einer bestimmten Achse zu **verbinden** (also aneinanderzufügen).\n",
    "\n",
    "### Funktionsweise von `np.concatenate()`\n",
    "\n",
    "Die Funktion hat folgende Grundsyntax:\n",
    "\n",
    "```python\n",
    "np.concatenate((array1, array2, ...), axis=0)\n",
    "```\n",
    "\n",
    "- **`(array1, array2, ...)`**: Eine Liste oder ein Tupel von Arrays, die verbunden werden sollen. Alle Arrays müssen die gleiche Form haben, außer in der Dimension, in der die Verbindung stattfindet.\n",
    "- **`axis`**: Die Achse, entlang der verbunden wird. Standardwert ist `axis=0`, was bedeutet, dass die Arrays **vertikal** (Zeilenweise) verbunden werden. Für **horizontales** Verbinden wird `axis=1` verwendet.\n",
    "\n",
    "### Beispiel 1: Vertikales Verbinden (Standard `axis=0`)\n",
    "\n",
    "Angenommen, wir haben zwei Arrays `a` und `b`:\n",
    "\n",
    "```python\n",
    "import numpy as np\n",
    "\n",
    "a = np.array([[1, 2], [3, 4]])\n",
    "b = np.array([[5, 6], [7, 8]])\n",
    "```\n",
    "\n",
    "Beide Arrays sehen so aus:\n",
    "```\n",
    "a = [[1, 2],\n",
    "     [3, 4]]\n",
    "\n",
    "b = [[5, 6],\n",
    "     [7, 8]]\n",
    "```\n",
    "\n",
    "#### Vertikal verbinden (Standard `axis=0`):\n",
    "\n",
    "```python\n",
    "result = np.concatenate((a, b), axis=0)\n",
    "print(result)\n",
    "```\n",
    "\n",
    "Ausgabe:\n",
    "```\n",
    "[[1, 2],\n",
    " [3, 4],\n",
    " [5, 6],\n",
    " [7, 8]]\n",
    "```\n",
    "\n",
    "Hier wurden `a` und `b` untereinander verbunden, weil `axis=0` standardmäßig gewählt ist.\n",
    "\n",
    "### Beispiel 2: Horizontal Verbinden (`axis=1`)\n",
    "\n",
    "Verwenden wir `axis=1`, werden die Arrays **horizontal** verbunden:\n",
    "\n",
    "```python\n",
    "result = np.concatenate((a, b), axis=1)\n",
    "print(result)\n",
    "```\n",
    "\n",
    "Ausgabe:\n",
    "```\n",
    "[[1, 2, 5, 6],\n",
    " [3, 4, 7, 8]]\n",
    "```\n",
    "\n",
    "Hier wurden `a` und `b` nebeneinander verbunden, sodass die Dimensionen entlang der Spalten erweitert wurden.\n",
    "\n",
    "### Zusammenfassung\n",
    "\n",
    "- **`axis=0`**: Verbindet Arrays **vertikal** (untereinander).\n",
    "- **`axis=1`**: Verbindet Arrays **horizontal** (nebeneinander).\n",
    "- Alle Arrays müssen die gleiche Form in den nicht kombinierten Dimensionen haben.\n",
    "\n",
    "### Beispiel mit 1D-Arrays\n",
    "\n",
    "Für 1D-Arrays funktioniert `np.concatenate()` ebenfalls:\n",
    "\n",
    "```python\n",
    "x = np.array([1, 2, 3])\n",
    "y = np.array([4, 5, 6])\n",
    "\n",
    "result = np.concatenate((x, y))\n",
    "print(result)\n",
    "```\n",
    "\n",
    "Ausgabe:\n",
    "```\n",
    "[1, 2, 3, 4, 5, 6]\n",
    "```\n",
    "\n",
    "Hier wurden die beiden Arrays einfach aneinandergehängt. "
   ]
  },
  {
   "cell_type": "markdown",
   "id": "76f9383c-16bb-4028-b3b4-ddde222f5f2d",
   "metadata": {},
   "source": [
    "Da ein Array mit einer Dimension nur eine Achse hat kann man diese nicht untereinander anbringen."
   ]
  },
  {
   "cell_type": "code",
   "execution_count": 6,
   "id": "f011c8a0-91b8-470f-8d5e-902fe7f1a975",
   "metadata": {},
   "outputs": [
    {
     "name": "stdout",
     "output_type": "stream",
     "text": [
      "[1 2 3 4 5 6]\n"
     ]
    }
   ],
   "source": [
    "x = np.array([1, 2, 3])\n",
    "y = np.array([4, 5, 6])\n",
    "\n",
    "result = np.concatenate((x, y), axis = 0)\n",
    "print(result)"
   ]
  },
  {
   "cell_type": "code",
   "execution_count": 7,
   "id": "1ccf0442-1fd6-40cc-a1ee-bad32be0d68d",
   "metadata": {},
   "outputs": [
    {
     "ename": "AxisError",
     "evalue": "axis 1 is out of bounds for array of dimension 1",
     "output_type": "error",
     "traceback": [
      "\u001b[1;31m---------------------------------------------------------------------------\u001b[0m",
      "\u001b[1;31mAxisError\u001b[0m                                 Traceback (most recent call last)",
      "Cell \u001b[1;32mIn[7], line 4\u001b[0m\n\u001b[0;32m      1\u001b[0m x \u001b[38;5;241m=\u001b[39m np\u001b[38;5;241m.\u001b[39marray([\u001b[38;5;241m1\u001b[39m, \u001b[38;5;241m2\u001b[39m, \u001b[38;5;241m3\u001b[39m])\n\u001b[0;32m      2\u001b[0m y \u001b[38;5;241m=\u001b[39m np\u001b[38;5;241m.\u001b[39marray([\u001b[38;5;241m4\u001b[39m, \u001b[38;5;241m5\u001b[39m, \u001b[38;5;241m6\u001b[39m])\n\u001b[1;32m----> 4\u001b[0m result \u001b[38;5;241m=\u001b[39m \u001b[43mnp\u001b[49m\u001b[38;5;241;43m.\u001b[39;49m\u001b[43mconcatenate\u001b[49m\u001b[43m(\u001b[49m\u001b[43m(\u001b[49m\u001b[43mx\u001b[49m\u001b[43m,\u001b[49m\u001b[43m \u001b[49m\u001b[43my\u001b[49m\u001b[43m)\u001b[49m\u001b[43m,\u001b[49m\u001b[43m \u001b[49m\u001b[43maxis\u001b[49m\u001b[43m \u001b[49m\u001b[38;5;241;43m=\u001b[39;49m\u001b[43m \u001b[49m\u001b[38;5;241;43m1\u001b[39;49m\u001b[43m)\u001b[49m\n\u001b[0;32m      5\u001b[0m \u001b[38;5;28mprint\u001b[39m(result)\n",
      "\u001b[1;31mAxisError\u001b[0m: axis 1 is out of bounds for array of dimension 1"
     ]
    }
   ],
   "source": [
    "x = np.array([1, 2, 3])\n",
    "y = np.array([4, 5, 6])\n",
    "\n",
    "result = np.concatenate((x, y), axis = 1)\n",
    "print(result)"
   ]
  },
  {
   "cell_type": "code",
   "execution_count": null,
   "id": "5956d0fe-2f9c-4d8c-8b65-eaddbb12dcf4",
   "metadata": {},
   "outputs": [],
   "source": []
  }
 ],
 "metadata": {
  "kernelspec": {
   "display_name": "Python 3 (ipykernel)",
   "language": "python",
   "name": "python3"
  },
  "language_info": {
   "codemirror_mode": {
    "name": "ipython",
    "version": 3
   },
   "file_extension": ".py",
   "mimetype": "text/x-python",
   "name": "python",
   "nbconvert_exporter": "python",
   "pygments_lexer": "ipython3",
   "version": "3.12.6"
  }
 },
 "nbformat": 4,
 "nbformat_minor": 5
}
