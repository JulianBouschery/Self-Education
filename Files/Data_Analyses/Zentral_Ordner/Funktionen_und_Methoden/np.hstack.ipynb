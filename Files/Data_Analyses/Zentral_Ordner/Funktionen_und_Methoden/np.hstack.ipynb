{
 "cells": [
  {
   "cell_type": "markdown",
   "id": "8e8f4bd2-8c0c-425f-bbc7-0f2f2799c2c9",
   "metadata": {},
   "source": [
    "Siehe auch: [LSTM](../../Themen/Maschine_Learning/LSTM.ipynb)"
   ]
  },
  {
   "cell_type": "markdown",
   "id": "6f9d66fa-32b6-48ad-beb9-426720fbf5b8",
   "metadata": {},
   "source": [
    "# np.hstack()"
   ]
  },
  {
   "cell_type": "markdown",
   "id": "4251eee4-e5c3-49fe-a6ef-b473f5c585cb",
   "metadata": {},
   "source": [
    "Die Funktion `np.hstack()` in NumPy dient dazu, Arrays **horizontal** (nebeneinander) zu stapeln. Das bedeutet, dass die Arrays entlang ihrer **Spalten** kombiniert werden.\n",
    "\n",
    "Hier eine Erklärung Schritt für Schritt:"
   ]
  },
  {
   "cell_type": "markdown",
   "id": "93c3e5a1-be29-4792-a6ae-45ef4723db59",
   "metadata": {},
   "source": [
    "#### 1. **Syntax**:"
   ]
  },
  {
   "cell_type": "markdown",
   "id": "8622ec7c-5405-4c94-b774-986ab3d61f36",
   "metadata": {},
   "source": [
    "```python\n",
    "np.hstack((array1, array2, ...))\n",
    "```"
   ]
  },
  {
   "cell_type": "markdown",
   "id": "1b2a4b56-fcca-4c10-be6b-4781f5b2cfb8",
   "metadata": {},
   "source": [
    "   - Die Funktion akzeptiert eine **Tupelliste** von Arrays, die miteinander kombiniert werden sollen.\n",
    "   - Alle Arrays müssen dieselbe Anzahl an **Zeilen** haben, damit sie horizontal gestapelt werden können."
   ]
  },
  {
   "cell_type": "markdown",
   "id": "a9c0bf28-e568-4cb7-bd23-f428df4dbfb4",
   "metadata": {},
   "source": [
    "#### 2. **Funktionsweise**:"
   ]
  },
  {
   "cell_type": "markdown",
   "id": "0ab73d9c-4db7-49c9-b6df-a3bd3e7d3ddc",
   "metadata": {},
   "source": [
    "   - `np.hstack()` fügt die Arrays nebeneinander zusammen, ähnlich wie das Hinzufügen weiterer Spalten. \n",
    "   - Die Gesamtzahl der Spalten im Ergebnis ist die Summe der Spalten der einzelnen Arrays."
   ]
  },
  {
   "cell_type": "markdown",
   "id": "316146cb-32e7-4945-8ab7-6c7263a33ce9",
   "metadata": {},
   "source": [
    "#### 3. **Beispiel**:"
   ]
  },
  {
   "cell_type": "code",
   "execution_count": 1,
   "id": "e8003648-aae9-46cd-a6dc-80646b81192f",
   "metadata": {},
   "outputs": [
    {
     "name": "stdout",
     "output_type": "stream",
     "text": [
      "[[1 3]\n",
      " [2 4]]\n"
     ]
    }
   ],
   "source": [
    "import numpy as np\n",
    "\n",
    "# Zwei Arrays mit je 2 Zeilen und 1 Spalte\n",
    "array1 = np.array([[1], [2]])\n",
    "array2 = np.array([[3], [4]])\n",
    "\n",
    "# Horizontales Zusammenfügen der Arrays\n",
    "result = np.hstack((array1, array2))\n",
    "print(result)"
   ]
  },
  {
   "cell_type": "markdown",
   "id": "7ce852b5-85a6-4943-ad5d-28131555b525",
   "metadata": {},
   "source": [
    "Hier wurden `array1` und `array2` nebeneinander zu einem 2x2-Array kombiniert.\n",
    "\n",
    "### Wann wird `np.hstack()` nützlich?\n",
    "`np.hstack()` ist praktisch, wenn man mehrere Arrays miteinander kombinieren möchte, um Daten zusammenzuführen oder Eingaben für ein Modell zu erstellen (wie z. B. in LSTMs, wo man den aktuellen versteckten Zustand `h_prev` und die Eingabe `x_t` nebeneinander benötigt)."
   ]
  },
  {
   "cell_type": "code",
   "execution_count": null,
   "id": "6bd5cc57-d29d-4133-a51b-db997779cd3f",
   "metadata": {},
   "outputs": [],
   "source": []
  }
 ],
 "metadata": {
  "kernelspec": {
   "display_name": "Python 3 (ipykernel)",
   "language": "python",
   "name": "python3"
  },
  "language_info": {
   "codemirror_mode": {
    "name": "ipython",
    "version": 3
   },
   "file_extension": ".py",
   "mimetype": "text/x-python",
   "name": "python",
   "nbconvert_exporter": "python",
   "pygments_lexer": "ipython3",
   "version": "3.12.6"
  }
 },
 "nbformat": 4,
 "nbformat_minor": 5
}
