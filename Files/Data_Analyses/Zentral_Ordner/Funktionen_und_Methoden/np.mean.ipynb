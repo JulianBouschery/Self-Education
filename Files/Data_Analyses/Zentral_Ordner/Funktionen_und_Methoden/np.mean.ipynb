{
 "cells": [
  {
   "cell_type": "markdown",
   "id": "e5c2c504-0e05-4e6c-846f-f35c827377a9",
   "metadata": {},
   "source": [
    "# np.mean()"
   ]
  },
  {
   "cell_type": "markdown",
   "id": "9696ac4a-12eb-4078-bf62-c1b4c2a88a10",
   "metadata": {},
   "source": [
    "Platzhalter"
   ]
  },
  {
   "cell_type": "code",
   "execution_count": null,
   "id": "6dbf60a2-742e-4cff-89dd-52e97d9f3017",
   "metadata": {},
   "outputs": [],
   "source": []
  }
 ],
 "metadata": {
  "kernelspec": {
   "display_name": "Python 3 (ipykernel)",
   "language": "python",
   "name": "python3"
  },
  "language_info": {
   "codemirror_mode": {
    "name": "ipython",
    "version": 3
   },
   "file_extension": ".py",
   "mimetype": "text/x-python",
   "name": "python",
   "nbconvert_exporter": "python",
   "pygments_lexer": "ipython3",
   "version": "3.12.6"
  }
 },
 "nbformat": 4,
 "nbformat_minor": 5
}
