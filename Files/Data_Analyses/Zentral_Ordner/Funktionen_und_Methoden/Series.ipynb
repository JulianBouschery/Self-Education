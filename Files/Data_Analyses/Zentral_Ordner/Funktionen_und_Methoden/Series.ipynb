{
 "cells": [
  {
   "cell_type": "markdown",
   "id": "2f886c06-9f0a-4431-92f3-3e51181f6bfe",
   "metadata": {},
   "source": [
    "# Series"
   ]
  },
  {
   "cell_type": "markdown",
   "id": "94083421-2ce1-48d5-92cc-e69343d4b9c5",
   "metadata": {},
   "source": [
    "Eine **Series** in Pandas ist eine grundlegende Datenstruktur, die eine eindimensionale (1D) Sammlung von Daten darstellt. Man kann sich eine Series wie eine Liste oder ein [Array](np.array.ipynb) in NumPy vorstellen, aber mit zusätzlichen Funktionen und Eigenschaften, die sie für die Datenanalyse und -manipulation besonders nützlich machen."
   ]
  },
  {
   "cell_type": "markdown",
   "id": "ec5e00b0-da57-4119-b3d6-6aefd8459224",
   "metadata": {},
   "source": [
    "### Merkmale einer Series"
   ]
  },
  {
   "cell_type": "markdown",
   "id": "18404759-af64-485d-af20-04a44d90a3a7",
   "metadata": {},
   "source": [
    "1. **Homogene Daten**: Alle Elemente in einer Series haben denselben Datentyp. Dies unterscheidet sich von einem DataFrame, wo jede Spalte unterschiedliche Datentypen haben kann.\n",
    "2. **Eindimensionale Daten**: Eine Series kann Daten eines beliebigen Typs enthalten, wie Ganzzahlen, Gleitkommazahlen, Strings, Zeitstempel usw.\n",
    "3. **Index**: Jede Series hat einen zugehörigen **Index**, der es ermöglicht, auf die einzelnen Werte zuzugreifen. Der Index kann standardmäßig numerisch sein (beginnend bei 0) oder benutzerdefiniert, z. B. mit Strings oder Datumsangaben.\n",
    "4. **Zugänglichkeit**: Du kannst auf die Daten in einer Series mithilfe von Indizes oder Bedingungen zugreifen, ähnlich wie bei Listen oder Arrays."
   ]
  },
  {
   "cell_type": "markdown",
   "id": "d6676d45-ffb4-4379-a345-a48939a01edf",
   "metadata": {},
   "source": [
    "### Erstellung einer Series"
   ]
  },
  {
   "cell_type": "markdown",
   "id": "47f702d0-b6d2-47cb-bf46-da43549f1a91",
   "metadata": {},
   "source": [
    "#### Beispiel 1: Aus einer Liste"
   ]
  },
  {
   "cell_type": "code",
   "execution_count": 2,
   "id": "9414fed0-cee7-4394-9f2e-48107010bd7e",
   "metadata": {},
   "outputs": [
    {
     "name": "stdout",
     "output_type": "stream",
     "text": [
      "0    10\n",
      "1    20\n",
      "2    30\n",
      "3    40\n",
      "dtype: int64\n"
     ]
    }
   ],
   "source": [
    "import pandas as pd\n",
    "\n",
    "# Erstellen einer Series aus einer Liste\n",
    "s = pd.Series([10, 20, 30, 40])\n",
    "print(s)"
   ]
  },
  {
   "cell_type": "markdown",
   "id": "16eafe26-62ba-4280-8d50-f867b4174b0d",
   "metadata": {},
   "source": [
    "#### Beispiel 2: Mit benutzerdefiniertem Index"
   ]
  },
  {
   "cell_type": "code",
   "execution_count": 3,
   "id": "6bc3a2ca-fc6a-457d-a014-885efbba4ca0",
   "metadata": {},
   "outputs": [
    {
     "name": "stdout",
     "output_type": "stream",
     "text": [
      "a    10\n",
      "b    20\n",
      "c    30\n",
      "d    40\n",
      "dtype: int64\n"
     ]
    }
   ],
   "source": [
    "# Erstellen einer Series mit benutzerdefiniertem Index\n",
    "s2 = pd.Series([10, 20, 30, 40], index=['a', 'b', 'c', 'd'])\n",
    "print(s2)"
   ]
  },
  {
   "cell_type": "markdown",
   "id": "98b8f848-bca4-4745-b823-4b615c42fe98",
   "metadata": {},
   "source": [
    "### Zugriff auf Daten in einer Series"
   ]
  },
  {
   "cell_type": "markdown",
   "id": "4c17ae9b-8cbc-426d-916c-95c111ea3fcf",
   "metadata": {},
   "source": [
    "Du kannst auf die Elemente einer Series über den Index zugreifen:"
   ]
  },
  {
   "cell_type": "code",
   "execution_count": 8,
   "id": "952fd9e9-a36c-4c35-acf4-023981a2571c",
   "metadata": {},
   "outputs": [
    {
     "name": "stdout",
     "output_type": "stream",
     "text": [
      "20\n"
     ]
    }
   ],
   "source": [
    "# Zugriff auf ein Element\n",
    "print(s2['b'])"
   ]
  },
  {
   "cell_type": "code",
   "execution_count": 9,
   "id": "60843544-6102-4237-a3fa-fe0cae8c298e",
   "metadata": {},
   "outputs": [
    {
     "name": "stdout",
     "output_type": "stream",
     "text": [
      "a    10\n",
      "c    30\n",
      "dtype: int64\n"
     ]
    }
   ],
   "source": [
    "# Zugriff auf mehrere Elemente\n",
    "print(s2[['a', 'c']]) "
   ]
  },
  {
   "cell_type": "markdown",
   "id": "e65449aa-e187-4b7e-a8b3-c156ca30d4f3",
   "metadata": {},
   "source": [
    "### Wichtige Operationen"
   ]
  },
  {
   "cell_type": "markdown",
   "id": "7bd363d0-7b26-4f91-a2a9-f0fd82a6b2b7",
   "metadata": {},
   "source": [
    "**Mathematische Operationen**: Du kannst arithmetische Operationen direkt auf einer Series durchführen, z. B. Addition, Subtraktion usw."
   ]
  },
  {
   "cell_type": "code",
   "execution_count": 10,
   "id": "eb8836fc-baeb-4545-a340-ff3f9196fee2",
   "metadata": {},
   "outputs": [
    {
     "name": "stdout",
     "output_type": "stream",
     "text": [
      "0    15\n",
      "1    25\n",
      "2    35\n",
      "3    45\n",
      "dtype: int64\n"
     ]
    }
   ],
   "source": [
    "s3 = s + 5  # Addiere 5 zu jedem Element\n",
    "print(s3)"
   ]
  },
  {
   "cell_type": "markdown",
   "id": "eb10dde2-8d4c-4da7-86f0-fabc7866c5f3",
   "metadata": {},
   "source": [
    "**Bedingte Filterung**: Du kannst Bedingungen anwenden, um Elemente auszuwählen."
   ]
  },
  {
   "cell_type": "code",
   "execution_count": 11,
   "id": "d18202a6-eb29-41b9-9c1c-2db9da14c807",
   "metadata": {},
   "outputs": [
    {
     "name": "stdout",
     "output_type": "stream",
     "text": [
      "2    30\n",
      "3    40\n",
      "dtype: int64\n"
     ]
    }
   ],
   "source": [
    "# Filtere Elemente, die größer als 20 sind\n",
    "filtered = s[s > 20]\n",
    "print(filtered)"
   ]
  },
  {
   "cell_type": "markdown",
   "id": "4b5ca8b8-d0fc-41a0-aae7-b0fcfe1c7c36",
   "metadata": {},
   "source": [
    "### Zusammenfassung"
   ]
  },
  {
   "cell_type": "markdown",
   "id": "4aedc00b-7b9a-4f37-b370-1e454669ec55",
   "metadata": {},
   "source": [
    "- Eine Series ist eine eindimensionale, homogene Datenstruktur in Pandas mit zugehörigem Index.\n",
    "- Sie ermöglicht das Speichern, Zugreifen und Manipulieren von Daten in einer flexiblen und intuitiven Weise.\n",
    "- Die Kombination aus Daten und Index macht sie besonders nützlich für die Datenanalyse und -bearbeitung in Python."
   ]
  }
 ],
 "metadata": {
  "kernelspec": {
   "display_name": "Python 3 (ipykernel)",
   "language": "python",
   "name": "python3"
  },
  "language_info": {
   "codemirror_mode": {
    "name": "ipython",
    "version": 3
   },
   "file_extension": ".py",
   "mimetype": "text/x-python",
   "name": "python",
   "nbconvert_exporter": "python",
   "pygments_lexer": "ipython3",
   "version": "3.12.6"
  }
 },
 "nbformat": 4,
 "nbformat_minor": 5
}
