{
 "cells": [
  {
   "cell_type": "markdown",
   "id": "6792f920-5df1-4cf7-9c80-b840786c94f4",
   "metadata": {},
   "source": [
    "# df.append() (veraltet)"
   ]
  },
  {
   "cell_type": "markdown",
   "id": "a58fb361-6cd8-4c10-8bf3-2a033be17b7a",
   "metadata": {},
   "source": [
    "Siehe auch: [pd.concat()](pd.concat.ipynb)"
   ]
  },
  {
   "cell_type": "markdown",
   "id": "e538f919-890f-4732-921b-24f229c77d14",
   "metadata": {},
   "source": [
    "In neueren Versionen von Pandas (ab Version 2.0) wurde die `.append()`-Methode entfernt. Stattdessen wird empfohlen, `pd.concat()` zu verwenden, um DataFrames oder Zeilen zusammenzuführen. \n",
    "\n",
    "Hier ist dein Code angepasst mit `pd.concat()`:\n",
    "\n",
    "```python\n",
    "import pandas as pd\n",
    "\n",
    "# Erster DataFrame\n",
    "df1 = pd.DataFrame({\n",
    "    'Name': ['Anna', 'Ben'],\n",
    "    'Alter': [25, 30]\n",
    "})\n",
    "\n",
    "# Zweiter DataFrame\n",
    "df2 = pd.DataFrame({\n",
    "    'Name': ['Chris', 'Diana'],\n",
    "    'Alter': [22, 28]\n",
    "})\n",
    "\n",
    "# Anfügen von df2 an df1 mit pd.concat\n",
    "df_combined = pd.concat([df1, df2], ignore_index=True)\n",
    "print(df_combined)\n",
    "```\n",
    "\n",
    "### Erklärung\n",
    "- **`pd.concat([df1, df2], ignore_index=True)`**: Kombiniert `df1` und `df2` zu einem neuen DataFrame. Das `ignore_index=True` sorgt dafür, dass die Indizes neu nummeriert werden.\n",
    "\n",
    "**Ergebnis:**\n",
    "\n",
    "```\n",
    "    Name  Alter\n",
    "0   Anna     25\n",
    "1    Ben     30\n",
    "2  Chris     22\n",
    "3  Diana     28\n",
    "```\n",
    "\n",
    "Wenn du eine einzelne Zeile als Dictionary hinzufügen möchtest, funktioniert `pd.concat()` genauso:\n",
    "\n",
    "```python\n",
    "new_row = pd.DataFrame({'Name': ['Elena'], 'Alter': [27]})\n",
    "df_combined = pd.concat([df_combined, new_row], ignore_index=True)\n",
    "print(df_combined)\n",
    "```\n",
    "\n",
    "Das führt zum gleichen Ergebnis, ohne die `append()`-Methode."
   ]
  },
  {
   "cell_type": "code",
   "execution_count": 1,
   "id": "69c32106-6662-4023-b456-6e1dc8875d28",
   "metadata": {},
   "outputs": [
    {
     "ename": "AttributeError",
     "evalue": "'DataFrame' object has no attribute 'append'",
     "output_type": "error",
     "traceback": [
      "\u001b[1;31m---------------------------------------------------------------------------\u001b[0m",
      "\u001b[1;31mAttributeError\u001b[0m                            Traceback (most recent call last)",
      "\u001b[1;32m~\\AppData\\Local\\Temp\\ipykernel_6484\\575564999.py\u001b[0m in \u001b[0;36m?\u001b[1;34m()\u001b[0m\n\u001b[0;32m     12\u001b[0m     \u001b[1;34m'Alter'\u001b[0m\u001b[1;33m:\u001b[0m \u001b[1;33m[\u001b[0m\u001b[1;36m22\u001b[0m\u001b[1;33m,\u001b[0m \u001b[1;36m28\u001b[0m\u001b[1;33m]\u001b[0m\u001b[1;33m\u001b[0m\u001b[1;33m\u001b[0m\u001b[0m\n\u001b[0;32m     13\u001b[0m \u001b[1;33m}\u001b[0m\u001b[1;33m)\u001b[0m\u001b[1;33m\u001b[0m\u001b[1;33m\u001b[0m\u001b[0m\n\u001b[0;32m     14\u001b[0m \u001b[1;33m\u001b[0m\u001b[0m\n\u001b[0;32m     15\u001b[0m \u001b[1;31m# Anfügen von df2 an df1\u001b[0m\u001b[1;33m\u001b[0m\u001b[1;33m\u001b[0m\u001b[0m\n\u001b[1;32m---> 16\u001b[1;33m \u001b[0mdf_combined\u001b[0m \u001b[1;33m=\u001b[0m \u001b[0mdf1\u001b[0m\u001b[1;33m.\u001b[0m\u001b[0mappend\u001b[0m\u001b[1;33m(\u001b[0m\u001b[0mdf2\u001b[0m\u001b[1;33m,\u001b[0m \u001b[0mignore_index\u001b[0m\u001b[1;33m=\u001b[0m\u001b[1;32mTrue\u001b[0m\u001b[1;33m)\u001b[0m\u001b[1;33m\u001b[0m\u001b[1;33m\u001b[0m\u001b[0m\n\u001b[0m\u001b[0;32m     17\u001b[0m \u001b[0mprint\u001b[0m\u001b[1;33m(\u001b[0m\u001b[0mdf_combined\u001b[0m\u001b[1;33m)\u001b[0m\u001b[1;33m\u001b[0m\u001b[1;33m\u001b[0m\u001b[0m\n",
      "\u001b[1;32m~\\Desktop\\Data-Analyst\\Kurs_VE\\Lib\\site-packages\\pandas\\core\\generic.py\u001b[0m in \u001b[0;36m?\u001b[1;34m(self, name)\u001b[0m\n\u001b[0;32m   6295\u001b[0m             \u001b[1;32mand\u001b[0m \u001b[0mname\u001b[0m \u001b[1;32mnot\u001b[0m \u001b[1;32min\u001b[0m \u001b[0mself\u001b[0m\u001b[1;33m.\u001b[0m\u001b[0m_accessors\u001b[0m\u001b[1;33m\u001b[0m\u001b[1;33m\u001b[0m\u001b[0m\n\u001b[0;32m   6296\u001b[0m             \u001b[1;32mand\u001b[0m \u001b[0mself\u001b[0m\u001b[1;33m.\u001b[0m\u001b[0m_info_axis\u001b[0m\u001b[1;33m.\u001b[0m\u001b[0m_can_hold_identifiers_and_holds_name\u001b[0m\u001b[1;33m(\u001b[0m\u001b[0mname\u001b[0m\u001b[1;33m)\u001b[0m\u001b[1;33m\u001b[0m\u001b[1;33m\u001b[0m\u001b[0m\n\u001b[0;32m   6297\u001b[0m         \u001b[1;33m)\u001b[0m\u001b[1;33m:\u001b[0m\u001b[1;33m\u001b[0m\u001b[1;33m\u001b[0m\u001b[0m\n\u001b[0;32m   6298\u001b[0m             \u001b[1;32mreturn\u001b[0m \u001b[0mself\u001b[0m\u001b[1;33m[\u001b[0m\u001b[0mname\u001b[0m\u001b[1;33m]\u001b[0m\u001b[1;33m\u001b[0m\u001b[1;33m\u001b[0m\u001b[0m\n\u001b[1;32m-> 6299\u001b[1;33m         \u001b[1;32mreturn\u001b[0m \u001b[0mobject\u001b[0m\u001b[1;33m.\u001b[0m\u001b[0m__getattribute__\u001b[0m\u001b[1;33m(\u001b[0m\u001b[0mself\u001b[0m\u001b[1;33m,\u001b[0m \u001b[0mname\u001b[0m\u001b[1;33m)\u001b[0m\u001b[1;33m\u001b[0m\u001b[1;33m\u001b[0m\u001b[0m\n\u001b[0m",
      "\u001b[1;31mAttributeError\u001b[0m: 'DataFrame' object has no attribute 'append'"
     ]
    }
   ],
   "source": [
    "import pandas as pd\n",
    "\n",
    "# Erster DataFrame\n",
    "df1 = pd.DataFrame({\n",
    "    'Name': ['Anna', 'Ben'],\n",
    "    'Alter': [25, 30]\n",
    "})\n",
    "\n",
    "# Zweiter DataFrame\n",
    "df2 = pd.DataFrame({\n",
    "    'Name': ['Chris', 'Diana'],\n",
    "    'Alter': [22, 28]\n",
    "})\n",
    "\n",
    "# Anfügen von df2 an df1\n",
    "df_combined = df1.append(df2, ignore_index=True)\n",
    "print(df_combined)"
   ]
  }
 ],
 "metadata": {
  "kernelspec": {
   "display_name": "Python 3 (ipykernel)",
   "language": "python",
   "name": "python3"
  },
  "language_info": {
   "codemirror_mode": {
    "name": "ipython",
    "version": 3
   },
   "file_extension": ".py",
   "mimetype": "text/x-python",
   "name": "python",
   "nbconvert_exporter": "python",
   "pygments_lexer": "ipython3",
   "version": "3.12.6"
  }
 },
 "nbformat": 4,
 "nbformat_minor": 5
}
