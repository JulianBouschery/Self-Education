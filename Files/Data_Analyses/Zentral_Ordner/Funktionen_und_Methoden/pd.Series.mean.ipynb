{
 "cells": [
  {
   "cell_type": "markdown",
   "id": "fa23e08f-7925-4bea-bec4-e60061968758",
   "metadata": {},
   "source": [
    "# pd.Series.mean()"
   ]
  },
  {
   "cell_type": "markdown",
   "id": "fccdbc69-3991-49e0-aec1-bd8a26603df7",
   "metadata": {},
   "source": [
    "Siehe auch: [Arithmetisches Mittel](../Formeln/arithmetic_mean.ipynb)"
   ]
  },
  {
   "cell_type": "markdown",
   "id": "bcec4f18-f09f-41cd-9707-c53ec0f68d2c",
   "metadata": {},
   "source": [
    "`pd.Series.mean()` ist eine Methode in Pandas, die den Durchschnitt (arithmetisches Mittel) aller numerischen Werte in einer Pandas Series berechnet. Eine Series ist eine einspaltige Datenstruktur in Pandas, die eine Liste von Werten enthält. "
   ]
  },
  {
   "cell_type": "markdown",
   "id": "5cc1e68c-0194-44fd-a4fd-0f466af670f6",
   "metadata": {},
   "source": [
    "### Funktionsweise"
   ]
  },
  {
   "cell_type": "markdown",
   "id": "795975dd-f844-4209-bc62-e5fce69fa13f",
   "metadata": {},
   "source": [
    "Die Methode `mean()` berechnet den Durchschnitt, indem sie die Summe aller numerischen Werte in der Series durch die Anzahl dieser Werte teilt. Falls die Series `NaN`-Werte (fehlende Werte) enthält, ignoriert `mean()` diese standardmäßig."
   ]
  },
  {
   "cell_type": "markdown",
   "id": "f0511039-c43f-4f6b-b377-bc382b933e47",
   "metadata": {},
   "source": [
    "### Syntax\n",
    "\n",
    "```python\n",
    "Series.mean(skipna=True)\n",
    "```"
   ]
  },
  {
   "cell_type": "markdown",
   "id": "9c51feb3-8f49-4d3f-a827-7428be5fb048",
   "metadata": {},
   "source": [
    "- **`skipna`**: Ein optionaler Parameter. Wenn `True` (Standard), werden fehlende Werte (`NaN`) ignoriert. Bei `False` würde ein `NaN` in der Series das Ergebnis ebenfalls zu `NaN` machen."
   ]
  },
  {
   "cell_type": "markdown",
   "id": "590aa0e1-b797-429f-abed-711aad5d90d6",
   "metadata": {},
   "source": [
    "### Beispiel"
   ]
  },
  {
   "cell_type": "markdown",
   "id": "22a49800-8c39-4ce8-82af-b1b098241789",
   "metadata": {},
   "source": [
    "Angenommen, wir haben eine Serie von Zahlen, die die Umsätze eines Geschäfts in einer Woche darstellen:"
   ]
  },
  {
   "cell_type": "code",
   "execution_count": 2,
   "id": "83067dc2-3868-4a0c-a1f5-1b2657bd605b",
   "metadata": {},
   "outputs": [
    {
     "name": "stdout",
     "output_type": "stream",
     "text": [
      "Durchschnittlicher Umsatz: 275.0\n"
     ]
    }
   ],
   "source": [
    "import pandas as pd\n",
    "\n",
    "umsatz = pd.Series([100, 200, 300, None, 500])\n",
    "\n",
    "# Berechnung des Durchschnitts\n",
    "durchschnitt = umsatz.mean()\n",
    "print(\"Durchschnittlicher Umsatz:\", durchschnitt)"
   ]
  },
  {
   "cell_type": "markdown",
   "id": "bed210ae-b14a-411d-a9f4-6a752086eb5a",
   "metadata": {},
   "source": [
    "### Erklärung"
   ]
  },
  {
   "cell_type": "markdown",
   "id": "00f8de5b-f73a-4ba1-a211-518f44cc4a14",
   "metadata": {},
   "source": [
    "- Die Methode ignoriert den `None`-Wert (entspricht `NaN`) und berechnet den Durchschnitt der restlichen Werte `(100 + 200 + 300 + 500) / 4 = 275`.\n",
    "- Wenn `skipna=False` gesetzt ist, würde `durchschnitt` zu `NaN` werden, da die Serie fehlende Werte enthält."
   ]
  },
  {
   "cell_type": "markdown",
   "id": "5666b38e-e44c-4860-beac-0498710f4e48",
   "metadata": {},
   "source": [
    "### Anwendung"
   ]
  },
  {
   "cell_type": "markdown",
   "id": "ce2945a1-962a-49f9-8c15-9780562dea5d",
   "metadata": {},
   "source": [
    "`pd.Series.mean()` ist hilfreich, um schnell den Durchschnitt einer Spalte in einem DataFrame zu berechnen oder allgemeine Zusammenfassungen von numerischen Daten zu erhalten."
   ]
  },
  {
   "cell_type": "code",
   "execution_count": null,
   "id": "432a09a3-c51d-468f-8d6c-1df22a21561c",
   "metadata": {},
   "outputs": [],
   "source": []
  }
 ],
 "metadata": {
  "kernelspec": {
   "display_name": "Python 3 (ipykernel)",
   "language": "python",
   "name": "python3"
  },
  "language_info": {
   "codemirror_mode": {
    "name": "ipython",
    "version": 3
   },
   "file_extension": ".py",
   "mimetype": "text/x-python",
   "name": "python",
   "nbconvert_exporter": "python",
   "pygments_lexer": "ipython3",
   "version": "3.12.6"
  }
 },
 "nbformat": 4,
 "nbformat_minor": 5
}
