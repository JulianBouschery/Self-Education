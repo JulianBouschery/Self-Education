{
 "cells": [
  {
   "cell_type": "markdown",
   "id": "b36bee55-6869-4d26-b267-ce7cc8f9f289",
   "metadata": {},
   "source": [
    "# pd.Series.sum()"
   ]
  },
  {
   "cell_type": "markdown",
   "id": "99a38858-1122-4689-98dd-134df66549a0",
   "metadata": {},
   "source": [
    "Die Methode `pd.Series.sum()` in Pandas berechnet die Summe aller Werte in einer Series. Diese Methode addiert alle numerischen Werte und ignoriert standardmäßig `NaN`-Werte (fehlende Werte)."
   ]
  },
  {
   "cell_type": "markdown",
   "id": "297e0286-044a-42af-969b-17e54e0f07f9",
   "metadata": {},
   "source": [
    "### Syntax"
   ]
  },
  {
   "cell_type": "markdown",
   "id": "0766a0fb-38e6-45ce-8d3b-3da68c05c303",
   "metadata": {},
   "source": [
    "```python\n",
    "Series.sum(skipna=True)"
   ]
  },
  {
   "cell_type": "markdown",
   "id": "bbcdec85-6675-4da3-b7ac-3139e8324181",
   "metadata": {},
   "source": [
    "**`skipna`**: Ein optionaler Parameter. Wenn `True` (Standardwert), werden fehlende Werte (`NaN`) ignoriert. Falls `False`, führt ein `NaN` in der Series dazu, dass das Ergebnis ebenfalls `NaN` wird. Die normale `sum()`-Funktion in Python würde eine Fehler schmeißen..."
   ]
  },
  {
   "cell_type": "markdown",
   "id": "5f85224c-b168-45b0-9107-2a87ba8834ca",
   "metadata": {},
   "source": [
    "### Beispiel"
   ]
  },
  {
   "cell_type": "markdown",
   "id": "5158012d-884b-48a5-8717-f8fad9696cb1",
   "metadata": {},
   "source": [
    "Angenommen, wir haben eine Pandas Series, die die täglichen Verkäufe eines Geschäfts darstellt, aber einige Tage fehlen:"
   ]
  },
  {
   "cell_type": "code",
   "execution_count": 2,
   "id": "e3811d98-490b-47de-a499-f09bc62ebe49",
   "metadata": {},
   "outputs": [
    {
     "name": "stdout",
     "output_type": "stream",
     "text": [
      "Gesamtumsatz: 1000.0\n"
     ]
    }
   ],
   "source": [
    "import pandas as pd\n",
    "\n",
    "verkaeufe = pd.Series([100, 200, None, 300, 400])\n",
    "\n",
    "# Berechnung der Summe\n",
    "gesamtumsatz = verkaeufe.sum()\n",
    "print(\"Gesamtumsatz:\", gesamtumsatz)"
   ]
  },
  {
   "cell_type": "markdown",
   "id": "912040b5-9c9f-4f6c-ab31-a0a26b629e34",
   "metadata": {},
   "source": [
    "### Anwendung"
   ]
  },
  {
   "cell_type": "markdown",
   "id": "56c30e26-a1c8-4a74-9f71-037448671209",
   "metadata": {},
   "source": [
    "`pd.Series.sum()` ist praktisch, um die Gesamtmenge, z. B. den Gesamtumsatz oder die Gesamtmenge an Verbrauchsmaterialien, zu berechnen."
   ]
  },
  {
   "cell_type": "code",
   "execution_count": null,
   "id": "3bea47c3-bb3f-4023-b6e9-d371fe3d7aa1",
   "metadata": {},
   "outputs": [],
   "source": []
  }
 ],
 "metadata": {
  "kernelspec": {
   "display_name": "Python 3 (ipykernel)",
   "language": "python",
   "name": "python3"
  },
  "language_info": {
   "codemirror_mode": {
    "name": "ipython",
    "version": 3
   },
   "file_extension": ".py",
   "mimetype": "text/x-python",
   "name": "python",
   "nbconvert_exporter": "python",
   "pygments_lexer": "ipython3",
   "version": "3.12.6"
  }
 },
 "nbformat": 4,
 "nbformat_minor": 5
}
