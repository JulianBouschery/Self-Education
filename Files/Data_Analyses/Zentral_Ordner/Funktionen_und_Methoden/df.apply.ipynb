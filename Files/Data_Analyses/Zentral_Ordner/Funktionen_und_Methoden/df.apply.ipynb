{
 "cells": [
  {
   "cell_type": "markdown",
   "id": "556924e8-aa62-4344-b0b3-7232f7cdb901",
   "metadata": {},
   "source": [
    "# df.apply()"
   ]
  },
  {
   "cell_type": "markdown",
   "id": "3a4ec174-8e37-458a-8d48-17a9b53bef71",
   "metadata": {},
   "source": [
    "In Pandas wird `apply()` verwendet, um eine Funktion auf jedes Element, jede Zeile oder jede Spalte eines DataFrames oder einer Serie anzuwenden. Die Methode ist flexibel und wird vor allem dann eingesetzt, wenn komplexe Berechnungen oder Transformationen auf alle Zeilen oder Spalten ausgeführt werden sollen."
   ]
  },
  {
   "cell_type": "markdown",
   "id": "191a2922-ae21-4fcb-b0ca-38865943bfb3",
   "metadata": {},
   "source": [
    "### Grundlegende Anwendung von `apply()`"
   ]
  },
  {
   "cell_type": "markdown",
   "id": "38296e6f-a686-422b-a7ec-69ed56d6048b",
   "metadata": {},
   "source": [
    "- **Auf eine Spalte angewendet:** Die Funktion wird auf jedes Element in dieser Spalte angewendet.\n",
    "- **Auf eine Zeile angewendet:** Die Funktion wird auf jede Zeile angewendet, häufig für Berechnungen, die mehrere Spalten betreffen."
   ]
  },
  {
   "cell_type": "markdown",
   "id": "02d43ffd-2994-44ff-96c1-7e96e465b7da",
   "metadata": {},
   "source": [
    "### Parameter\n",
    "- `axis=0`: Funktion wird auf jede Spalte angewendet (Standard).\n",
    "- `axis=1`: Funktion wird auf jede Zeile angewendet."
   ]
  },
  {
   "cell_type": "markdown",
   "id": "0d0488ec-88e1-42ac-88b4-2a5673e8faad",
   "metadata": {},
   "source": [
    "### Beispiele"
   ]
  },
  {
   "cell_type": "markdown",
   "id": "7ba456a4-1ade-47a8-9f0b-1fba1d41190e",
   "metadata": {},
   "source": [
    "1. **Funktion auf eine Spalte anwenden**"
   ]
  },
  {
   "cell_type": "code",
   "execution_count": 6,
   "id": "a5430cff-0be3-4b4d-845d-22c13fda73b8",
   "metadata": {},
   "outputs": [
    {
     "name": "stdout",
     "output_type": "stream",
     "text": [
      "   A   B  A_squared\n",
      "0  1  10          1\n",
      "1  2  20          4\n",
      "2  3  30          9\n"
     ]
    }
   ],
   "source": [
    "import pandas as pd\n",
    "\n",
    "# Beispiel DataFrame\n",
    "df = pd.DataFrame({'A': [1, 2, 3], 'B': [10, 20, 30]})\n",
    "\n",
    "# Quadrat jedes Elements in Spalte 'A'\n",
    "df['A_squared'] = df['A'].apply(lambda x: x**2)\n",
    "print(df)"
   ]
  },
  {
   "cell_type": "markdown",
   "id": "cc8142af-16c4-4ae5-a6f4-fc47bd600176",
   "metadata": {},
   "source": [
    "2. **Funktion auf jede Zeile anwenden**"
   ]
  },
  {
   "cell_type": "code",
   "execution_count": 7,
   "id": "96780249-fa7f-47da-9547-d7602d60feb5",
   "metadata": {},
   "outputs": [
    {
     "name": "stdout",
     "output_type": "stream",
     "text": [
      "   A   B  A_squared  A_B_sum\n",
      "0  1  10          1       11\n",
      "1  2  20          4       22\n",
      "2  3  30          9       33\n"
     ]
    }
   ],
   "source": [
    "# Summe der Werte von Spalte A und B in jeder Zeile berechnen\n",
    "df['A_B_sum'] = df.apply(lambda row: row['A'] + row['B'], axis=1)\n",
    "print(df)"
   ]
  },
  {
   "cell_type": "markdown",
   "id": "ddc30da5-7322-434c-a1db-c4f357dce016",
   "metadata": {},
   "source": [
    "### Zusammengefasst"
   ]
  },
  {
   "cell_type": "markdown",
   "id": "021c44d8-929b-4f0c-8d80-a788c2d2f0f7",
   "metadata": {},
   "source": [
    "`apply()` ist sehr praktisch, wenn du:\n",
    "- **individuelle Berechnungen oder Transformationen** auf alle Elemente einer Spalte oder Zeile anwenden musst.\n",
    "- **komplexere Operationen** brauchst, die mehrere Spalten betreffen.\n",
    "\n",
    "In diesen Fällen ist `apply()` eine flexible Lösung für DataFrames."
   ]
  },
  {
   "cell_type": "markdown",
   "id": "002b6d41-bd8e-402a-b0a9-0bf79f1f09ca",
   "metadata": {},
   "source": [
    "# Alternativen zu df.apply():"
   ]
  },
  {
   "cell_type": "markdown",
   "id": "f6269055-049c-453e-acaf-d21465cb55ef",
   "metadata": {},
   "source": [
    "Alternativen zu `apply()` die oft schneller sind, insbesondere bei großen DataFrames:\n",
    "\n",
    "1. **Vektorisierte Operationen**:\n",
    "   - Direkt auf Spalten angewendet, z. B. `df['A'] + df['B']`.\n",
    "   - Funktioniert schneller, da es auf niedrigster Ebene optimiert ist.\n",
    "\n",
    "<br>\n",
    "\n",
    "2. **[np.vectorize()](np.vectorize.ipynb) (NumPy)**:\n",
    "   - Wandelt eine Funktion in eine vektorisierte Form um und ist oft effizienter.\n",
    "   - Beispiel: `df['A_squared'] = np.vectorize(lambda x: x**2)(df['A'])`\n",
    "\n",
    "<br>\n",
    "\n",
    "3. **[np.where()](np.where.ipynb) (NumPy)**:\n",
    "   - Für bedingte Zuweisungen in Arrays, z.B. `df['new_col'] = np.where(df['A'] > 1, 'Yes', 'No')`.\n",
    "\n",
    "<br>\n",
    "\n",
    "4. **[.map()](../../../Python/Zentral_Ordner/Funktionen_und_Methoden/map.ipynb) (für Series)**:\n",
    "   - Besonders für Mapping und Transformationen von Werten einer einzelnen Spalte geeignet, z.B. `df['A'].map({1: 'one', 2: 'two'})`.\n",
    "\n",
    "<br>\n",
    "\n",
    "5. **[.transform()](df.transform.ipynb)**:\n",
    "   - Ermöglicht eine transformation auf Series oder DataFrames und kann schneller als `apply()` sein.\n",
    "   - Beispiel: `df[['A', 'B']].transform(lambda x: x**2)`.\n",
    "\n",
    "<br>\n",
    "\n",
    "6. **[List Comprehensions](../../../Python/Zentral_Ordner/Konstrukte/list_comprehension.ipynb)**:\n",
    "   - Für einfache Transformationen oder Berechnungen in Spalten.\n",
    "   - Beispiel: `df['A_squared'] = [x**2 for x in df['A']]`\n",
    "\n",
    "Diese Alternativen verbessern die Geschwindigkeit oft signifikant und sind spezifisch für unterschiedliche Anwendungsfälle geeignet."
   ]
  }
 ],
 "metadata": {
  "kernelspec": {
   "display_name": "Python 3 (ipykernel)",
   "language": "python",
   "name": "python3"
  },
  "language_info": {
   "codemirror_mode": {
    "name": "ipython",
    "version": 3
   },
   "file_extension": ".py",
   "mimetype": "text/x-python",
   "name": "python",
   "nbconvert_exporter": "python",
   "pygments_lexer": "ipython3",
   "version": "3.12.6"
  }
 },
 "nbformat": 4,
 "nbformat_minor": 5
}
