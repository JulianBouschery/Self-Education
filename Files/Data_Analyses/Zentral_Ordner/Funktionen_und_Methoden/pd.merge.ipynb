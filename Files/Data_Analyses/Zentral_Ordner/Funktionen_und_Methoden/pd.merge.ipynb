{
 "cells": [
  {
   "cell_type": "markdown",
   "id": "065fbaab-2c0e-4483-b6fa-5191a82284e5",
   "metadata": {},
   "source": [
    "# pd.merge()"
   ]
  },
  {
   "cell_type": "markdown",
   "id": "c909eea2-d33f-4de2-a7a4-3bc7588a38f6",
   "metadata": {
    "editable": true,
    "slideshow": {
     "slide_type": ""
    },
    "tags": []
   },
   "source": [
    "**Merging** kombiniert DataFrames basierend auf gemeinsamen Spalten und ist vergleichbar mit einem [SQL-Join](../../../SQL/join.ipynb).<br>"
   ]
  },
  {
   "cell_type": "markdown",
   "id": "1bf7e802-9395-49ee-9468-abe3bbbe0fa3",
   "metadata": {
    "editable": true,
    "jp-MarkdownHeadingCollapsed": true,
    "slideshow": {
     "slide_type": ""
    },
    "tags": []
   },
   "source": [
    "## einfaches Mergen"
   ]
  },
  {
   "cell_type": "markdown",
   "id": "af21e139-94b6-4d5c-999f-d8623ecf7253",
   "metadata": {},
   "source": [
    "### **inner**"
   ]
  },
  {
   "cell_type": "markdown",
   "id": "15d066e9-8b35-45ef-b639-6eb75afcf5a8",
   "metadata": {},
   "source": [
    "**Inner Join**: Gibt nur die Zeilen zurück, die in beiden DataFrames übereinstimmende Werte in der gemeinsamen Spalte `ID` haben."
   ]
  },
  {
   "cell_type": "code",
   "execution_count": 9,
   "id": "662eb16d-d6de-489b-bf44-b47dd7d33600",
   "metadata": {
    "editable": true,
    "slideshow": {
     "slide_type": ""
    },
    "tags": []
   },
   "outputs": [
    {
     "data": {
      "text/html": [
       "<div>\n",
       "<style scoped>\n",
       "    .dataframe tbody tr th:only-of-type {\n",
       "        vertical-align: middle;\n",
       "    }\n",
       "\n",
       "    .dataframe tbody tr th {\n",
       "        vertical-align: top;\n",
       "    }\n",
       "\n",
       "    .dataframe thead th {\n",
       "        text-align: right;\n",
       "    }\n",
       "</style>\n",
       "<table border=\"1\" class=\"dataframe\">\n",
       "  <thead>\n",
       "    <tr style=\"text-align: right;\">\n",
       "      <th></th>\n",
       "      <th>ID</th>\n",
       "      <th>Name</th>\n",
       "      <th>Score</th>\n",
       "    </tr>\n",
       "  </thead>\n",
       "  <tbody>\n",
       "    <tr>\n",
       "      <th>0</th>\n",
       "      <td>3</td>\n",
       "      <td>Clara</td>\n",
       "      <td>85</td>\n",
       "    </tr>\n",
       "    <tr>\n",
       "      <th>1</th>\n",
       "      <td>4</td>\n",
       "      <td>David</td>\n",
       "      <td>90</td>\n",
       "    </tr>\n",
       "  </tbody>\n",
       "</table>\n",
       "</div>"
      ],
      "text/plain": [
       "   ID   Name  Score\n",
       "0   3  Clara     85\n",
       "1   4  David     90"
      ]
     },
     "execution_count": 9,
     "metadata": {},
     "output_type": "execute_result"
    }
   ],
   "source": [
    "import pandas as pd\n",
    "\n",
    "# Erstellen zweier DataFrames\n",
    "df1 = pd.DataFrame({\n",
    "    'ID': [1, 2, 3, 4],\n",
    "    'Name': ['Anna', 'Ben', 'Clara', 'David']\n",
    "})\n",
    "\n",
    "df2 = pd.DataFrame({\n",
    "    'ID': [3, 4, 5, 6],\n",
    "    'Score': [85, 90, 95, 80]\n",
    "})\n",
    "\n",
    "# Merging (inner join)\n",
    "merged_df = pd.merge(df1, df2, on='ID', how='inner')\n",
    "merged_df"
   ]
  },
  {
   "cell_type": "markdown",
   "id": "270172cf-6174-4a21-855a-be96e5f5ce78",
   "metadata": {
    "jp-MarkdownHeadingCollapsed": true
   },
   "source": [
    "### **outer**"
   ]
  },
  {
   "cell_type": "markdown",
   "id": "bdb73f80-9696-4b11-b314-a9a65810525b",
   "metadata": {},
   "source": [
    "**Outer Join**: Behält alle Zeilen aus beiden DataFrames, selbst wenn es keine Übereinstimmung gibt; fehlende Werte werden mit `NaN` aufgefüllt."
   ]
  },
  {
   "cell_type": "code",
   "execution_count": 10,
   "id": "aa65c7d6-01d6-47e2-b52c-8354fe8816b5",
   "metadata": {},
   "outputs": [
    {
     "data": {
      "text/html": [
       "<div>\n",
       "<style scoped>\n",
       "    .dataframe tbody tr th:only-of-type {\n",
       "        vertical-align: middle;\n",
       "    }\n",
       "\n",
       "    .dataframe tbody tr th {\n",
       "        vertical-align: top;\n",
       "    }\n",
       "\n",
       "    .dataframe thead th {\n",
       "        text-align: right;\n",
       "    }\n",
       "</style>\n",
       "<table border=\"1\" class=\"dataframe\">\n",
       "  <thead>\n",
       "    <tr style=\"text-align: right;\">\n",
       "      <th></th>\n",
       "      <th>ID</th>\n",
       "      <th>Name</th>\n",
       "      <th>Score</th>\n",
       "    </tr>\n",
       "  </thead>\n",
       "  <tbody>\n",
       "    <tr>\n",
       "      <th>0</th>\n",
       "      <td>1</td>\n",
       "      <td>Anna</td>\n",
       "      <td>NaN</td>\n",
       "    </tr>\n",
       "    <tr>\n",
       "      <th>1</th>\n",
       "      <td>2</td>\n",
       "      <td>Ben</td>\n",
       "      <td>NaN</td>\n",
       "    </tr>\n",
       "    <tr>\n",
       "      <th>2</th>\n",
       "      <td>3</td>\n",
       "      <td>Clara</td>\n",
       "      <td>85.0</td>\n",
       "    </tr>\n",
       "    <tr>\n",
       "      <th>3</th>\n",
       "      <td>4</td>\n",
       "      <td>David</td>\n",
       "      <td>90.0</td>\n",
       "    </tr>\n",
       "    <tr>\n",
       "      <th>4</th>\n",
       "      <td>5</td>\n",
       "      <td>NaN</td>\n",
       "      <td>95.0</td>\n",
       "    </tr>\n",
       "    <tr>\n",
       "      <th>5</th>\n",
       "      <td>6</td>\n",
       "      <td>NaN</td>\n",
       "      <td>80.0</td>\n",
       "    </tr>\n",
       "  </tbody>\n",
       "</table>\n",
       "</div>"
      ],
      "text/plain": [
       "   ID   Name  Score\n",
       "0   1   Anna    NaN\n",
       "1   2    Ben    NaN\n",
       "2   3  Clara   85.0\n",
       "3   4  David   90.0\n",
       "4   5    NaN   95.0\n",
       "5   6    NaN   80.0"
      ]
     },
     "execution_count": 10,
     "metadata": {},
     "output_type": "execute_result"
    }
   ],
   "source": [
    "import pandas as pd\n",
    "\n",
    "# Erstellen zweier DataFrames\n",
    "df3 = pd.DataFrame({\n",
    "    'ID': [1, 2, 3, 4],\n",
    "    'Name': ['Anna', 'Ben', 'Clara', 'David']\n",
    "})\n",
    "\n",
    "df4 = pd.DataFrame({\n",
    "    'ID': [3, 4, 5, 6],\n",
    "    'Score': [85, 90, 95, 80]\n",
    "})\n",
    "\n",
    "# Merging (inner join)\n",
    "merged_df = pd.merge(df3, df4, on='ID', how='outer')\n",
    "merged_df"
   ]
  },
  {
   "cell_type": "markdown",
   "id": "bf78541c-7ba5-41d5-8d2e-ad66f881e5a6",
   "metadata": {
    "jp-MarkdownHeadingCollapsed": true
   },
   "source": [
    "### **left**"
   ]
  },
  {
   "cell_type": "markdown",
   "id": "e1ac28d5-ce8a-406a-be31-0dc914fee475",
   "metadata": {},
   "source": [
    "**Left Join**: Behält alle Zeilen aus dem linken DataFrame, auch wenn keine Übereinstimmung im rechten DataFrame vorhanden ist; fehlende Werte auf der rechten Seite werden mit `NaN` gefüllt."
   ]
  },
  {
   "cell_type": "code",
   "execution_count": 11,
   "id": "407b1de9-a5fb-4777-95e6-f2954fe64922",
   "metadata": {},
   "outputs": [
    {
     "data": {
      "text/html": [
       "<div>\n",
       "<style scoped>\n",
       "    .dataframe tbody tr th:only-of-type {\n",
       "        vertical-align: middle;\n",
       "    }\n",
       "\n",
       "    .dataframe tbody tr th {\n",
       "        vertical-align: top;\n",
       "    }\n",
       "\n",
       "    .dataframe thead th {\n",
       "        text-align: right;\n",
       "    }\n",
       "</style>\n",
       "<table border=\"1\" class=\"dataframe\">\n",
       "  <thead>\n",
       "    <tr style=\"text-align: right;\">\n",
       "      <th></th>\n",
       "      <th>ID</th>\n",
       "      <th>Name</th>\n",
       "      <th>Score</th>\n",
       "    </tr>\n",
       "  </thead>\n",
       "  <tbody>\n",
       "    <tr>\n",
       "      <th>0</th>\n",
       "      <td>1</td>\n",
       "      <td>Anna</td>\n",
       "      <td>NaN</td>\n",
       "    </tr>\n",
       "    <tr>\n",
       "      <th>1</th>\n",
       "      <td>2</td>\n",
       "      <td>Ben</td>\n",
       "      <td>NaN</td>\n",
       "    </tr>\n",
       "    <tr>\n",
       "      <th>2</th>\n",
       "      <td>3</td>\n",
       "      <td>Clara</td>\n",
       "      <td>85.0</td>\n",
       "    </tr>\n",
       "    <tr>\n",
       "      <th>3</th>\n",
       "      <td>4</td>\n",
       "      <td>David</td>\n",
       "      <td>90.0</td>\n",
       "    </tr>\n",
       "  </tbody>\n",
       "</table>\n",
       "</div>"
      ],
      "text/plain": [
       "   ID   Name  Score\n",
       "0   1   Anna    NaN\n",
       "1   2    Ben    NaN\n",
       "2   3  Clara   85.0\n",
       "3   4  David   90.0"
      ]
     },
     "execution_count": 11,
     "metadata": {},
     "output_type": "execute_result"
    }
   ],
   "source": [
    "import pandas as pd\n",
    "\n",
    "# Erstellen zweier DataFrames\n",
    "df3 = pd.DataFrame({\n",
    "    'ID': [1, 2, 3, 4],\n",
    "    'Name': ['Anna', 'Ben', 'Clara', 'David']\n",
    "})\n",
    "\n",
    "df4 = pd.DataFrame({\n",
    "    'ID': [3, 4, 5, 6],\n",
    "    'Score': [85, 90, 95, 80]\n",
    "})\n",
    "\n",
    "# Merging (inner join)\n",
    "merged_df = pd.merge(df3, df4, on='ID', how='left')\n",
    "merged_df"
   ]
  },
  {
   "cell_type": "markdown",
   "id": "3b920843-0324-4d57-a5ab-9c4ec025fd5f",
   "metadata": {
    "jp-MarkdownHeadingCollapsed": true
   },
   "source": [
    "### **right**"
   ]
  },
  {
   "cell_type": "markdown",
   "id": "362881a0-574f-4d74-bbb8-33803851722c",
   "metadata": {},
   "source": [
    "**Right Join**: Behält alle Zeilen aus dem rechten DataFrame, auch wenn keine Übereinstimmung im linken DataFrame vorhanden ist; fehlende Werte auf der linken Seite werden mit `NaN` gefüllt."
   ]
  },
  {
   "cell_type": "code",
   "execution_count": 12,
   "id": "f1f2b074-5ac1-4bc5-bbe9-358f91558bcb",
   "metadata": {},
   "outputs": [
    {
     "data": {
      "text/html": [
       "<div>\n",
       "<style scoped>\n",
       "    .dataframe tbody tr th:only-of-type {\n",
       "        vertical-align: middle;\n",
       "    }\n",
       "\n",
       "    .dataframe tbody tr th {\n",
       "        vertical-align: top;\n",
       "    }\n",
       "\n",
       "    .dataframe thead th {\n",
       "        text-align: right;\n",
       "    }\n",
       "</style>\n",
       "<table border=\"1\" class=\"dataframe\">\n",
       "  <thead>\n",
       "    <tr style=\"text-align: right;\">\n",
       "      <th></th>\n",
       "      <th>ID</th>\n",
       "      <th>Name</th>\n",
       "      <th>Score</th>\n",
       "    </tr>\n",
       "  </thead>\n",
       "  <tbody>\n",
       "    <tr>\n",
       "      <th>0</th>\n",
       "      <td>3</td>\n",
       "      <td>Clara</td>\n",
       "      <td>85</td>\n",
       "    </tr>\n",
       "    <tr>\n",
       "      <th>1</th>\n",
       "      <td>4</td>\n",
       "      <td>David</td>\n",
       "      <td>90</td>\n",
       "    </tr>\n",
       "    <tr>\n",
       "      <th>2</th>\n",
       "      <td>5</td>\n",
       "      <td>NaN</td>\n",
       "      <td>95</td>\n",
       "    </tr>\n",
       "    <tr>\n",
       "      <th>3</th>\n",
       "      <td>6</td>\n",
       "      <td>NaN</td>\n",
       "      <td>80</td>\n",
       "    </tr>\n",
       "  </tbody>\n",
       "</table>\n",
       "</div>"
      ],
      "text/plain": [
       "   ID   Name  Score\n",
       "0   3  Clara     85\n",
       "1   4  David     90\n",
       "2   5    NaN     95\n",
       "3   6    NaN     80"
      ]
     },
     "execution_count": 12,
     "metadata": {},
     "output_type": "execute_result"
    }
   ],
   "source": [
    "import pandas as pd\n",
    "\n",
    "# Erstellen zweier DataFrames\n",
    "df3 = pd.DataFrame({\n",
    "    'ID': [1, 2, 3, 4],\n",
    "    'Name': ['Anna', 'Ben', 'Clara', 'David']\n",
    "})\n",
    "\n",
    "df4 = pd.DataFrame({\n",
    "    'ID': [3, 4, 5, 6],\n",
    "    'Score': [85, 90, 95, 80]\n",
    "})\n",
    "\n",
    "# Merging (inner join)\n",
    "merged_df = pd.merge(df3, df4, on='ID', how='right')\n",
    "merged_df"
   ]
  },
  {
   "cell_type": "code",
   "execution_count": null,
   "id": "187c368d-8ab1-4ff6-bf78-047ee7965c85",
   "metadata": {},
   "outputs": [],
   "source": []
  },
  {
   "cell_type": "markdown",
   "id": "8a084d13-a9d9-4ee4-a430-0f0adc2b71d2",
   "metadata": {
    "editable": true,
    "jp-MarkdownHeadingCollapsed": true,
    "slideshow": {
     "slide_type": ""
    },
    "tags": []
   },
   "source": [
    "## Merging mit mehreren Schlüsselspalten"
   ]
  },
  {
   "cell_type": "markdown",
   "id": "401399d5-1c8b-4d0e-8b0d-221923771a88",
   "metadata": {
    "editable": true,
    "slideshow": {
     "slide_type": ""
    },
    "tags": []
   },
   "source": [
    "In diesem Beispiel führen wir das **Merging** über zwei Schlüsselspalten durch: Vorname und Nachname."
   ]
  },
  {
   "cell_type": "markdown",
   "id": "dbe4ea56-0453-4da5-a29d-fda4051f7b03",
   "metadata": {},
   "source": [
    "### **inner**"
   ]
  },
  {
   "cell_type": "code",
   "execution_count": 17,
   "id": "3f7dc25c-7a44-4624-9f00-fcdc4b50292a",
   "metadata": {
    "editable": true,
    "slideshow": {
     "slide_type": ""
    },
    "tags": []
   },
   "outputs": [
    {
     "data": {
      "text/html": [
       "<div>\n",
       "<style scoped>\n",
       "    .dataframe tbody tr th:only-of-type {\n",
       "        vertical-align: middle;\n",
       "    }\n",
       "\n",
       "    .dataframe tbody tr th {\n",
       "        vertical-align: top;\n",
       "    }\n",
       "\n",
       "    .dataframe thead th {\n",
       "        text-align: right;\n",
       "    }\n",
       "</style>\n",
       "<table border=\"1\" class=\"dataframe\">\n",
       "  <thead>\n",
       "    <tr style=\"text-align: right;\">\n",
       "      <th></th>\n",
       "      <th>Vorname</th>\n",
       "      <th>Nachname</th>\n",
       "      <th>Alter</th>\n",
       "      <th>Einkommen</th>\n",
       "    </tr>\n",
       "  </thead>\n",
       "  <tbody>\n",
       "    <tr>\n",
       "      <th>0</th>\n",
       "      <td>Anna</td>\n",
       "      <td>Müller</td>\n",
       "      <td>28</td>\n",
       "      <td>45000</td>\n",
       "    </tr>\n",
       "    <tr>\n",
       "      <th>1</th>\n",
       "      <td>Ben</td>\n",
       "      <td>Schmidt</td>\n",
       "      <td>34</td>\n",
       "      <td>55000</td>\n",
       "    </tr>\n",
       "    <tr>\n",
       "      <th>2</th>\n",
       "      <td>Clara</td>\n",
       "      <td>Fischer</td>\n",
       "      <td>29</td>\n",
       "      <td>47000</td>\n",
       "    </tr>\n",
       "  </tbody>\n",
       "</table>\n",
       "</div>"
      ],
      "text/plain": [
       "  Vorname Nachname  Alter  Einkommen\n",
       "0    Anna   Müller     28      45000\n",
       "1     Ben  Schmidt     34      55000\n",
       "2   Clara  Fischer     29      47000"
      ]
     },
     "execution_count": 17,
     "metadata": {},
     "output_type": "execute_result"
    }
   ],
   "source": [
    "import pandas as pd\n",
    "\n",
    "# DataFrame 1\n",
    "df1 = pd.DataFrame({\n",
    "    'Vorname': ['Anna', 'Ben', 'Clara', 'David'],\n",
    "    'Nachname': ['Müller', 'Schmidt', 'Fischer', 'Weber'],\n",
    "    'Alter': [28, 34, 29, 40]\n",
    "})\n",
    "\n",
    "# DataFrame 2\n",
    "df2 = pd.DataFrame({\n",
    "    'Vorname': ['Anna', 'Ben', 'Clara', 'Elias'],\n",
    "    'Nachname': ['Müller', 'Schmidt', 'Fischer', 'Klein'],\n",
    "    'Einkommen': [45000, 55000, 47000, 60000]\n",
    "})\n",
    "\n",
    "# Merge anhand von Vor- und Nachname\n",
    "merged_df = pd.merge(df1, df2, on=['Vorname', 'Nachname'], how='inner')\n",
    "merged_df"
   ]
  },
  {
   "cell_type": "markdown",
   "id": "36184d34-5b2f-4315-a9e7-43c13b521d3a",
   "metadata": {
    "jp-MarkdownHeadingCollapsed": true
   },
   "source": [
    "### **outer**"
   ]
  },
  {
   "cell_type": "code",
   "execution_count": 14,
   "id": "431dd41a-85a7-4361-8dfd-6fa8abb8b48b",
   "metadata": {
    "editable": true,
    "slideshow": {
     "slide_type": ""
    },
    "tags": []
   },
   "outputs": [
    {
     "data": {
      "text/html": [
       "<div>\n",
       "<style scoped>\n",
       "    .dataframe tbody tr th:only-of-type {\n",
       "        vertical-align: middle;\n",
       "    }\n",
       "\n",
       "    .dataframe tbody tr th {\n",
       "        vertical-align: top;\n",
       "    }\n",
       "\n",
       "    .dataframe thead th {\n",
       "        text-align: right;\n",
       "    }\n",
       "</style>\n",
       "<table border=\"1\" class=\"dataframe\">\n",
       "  <thead>\n",
       "    <tr style=\"text-align: right;\">\n",
       "      <th></th>\n",
       "      <th>Vorname</th>\n",
       "      <th>Nachname</th>\n",
       "      <th>Alter</th>\n",
       "      <th>Einkommen</th>\n",
       "    </tr>\n",
       "  </thead>\n",
       "  <tbody>\n",
       "    <tr>\n",
       "      <th>0</th>\n",
       "      <td>Anna</td>\n",
       "      <td>Müller</td>\n",
       "      <td>28.0</td>\n",
       "      <td>45000.0</td>\n",
       "    </tr>\n",
       "    <tr>\n",
       "      <th>1</th>\n",
       "      <td>Ben</td>\n",
       "      <td>Schmidt</td>\n",
       "      <td>34.0</td>\n",
       "      <td>55000.0</td>\n",
       "    </tr>\n",
       "    <tr>\n",
       "      <th>2</th>\n",
       "      <td>Clara</td>\n",
       "      <td>Fischer</td>\n",
       "      <td>29.0</td>\n",
       "      <td>47000.0</td>\n",
       "    </tr>\n",
       "    <tr>\n",
       "      <th>3</th>\n",
       "      <td>David</td>\n",
       "      <td>Weber</td>\n",
       "      <td>40.0</td>\n",
       "      <td>NaN</td>\n",
       "    </tr>\n",
       "    <tr>\n",
       "      <th>4</th>\n",
       "      <td>Elias</td>\n",
       "      <td>Klein</td>\n",
       "      <td>NaN</td>\n",
       "      <td>60000.0</td>\n",
       "    </tr>\n",
       "  </tbody>\n",
       "</table>\n",
       "</div>"
      ],
      "text/plain": [
       "  Vorname Nachname  Alter  Einkommen\n",
       "0    Anna   Müller   28.0    45000.0\n",
       "1     Ben  Schmidt   34.0    55000.0\n",
       "2   Clara  Fischer   29.0    47000.0\n",
       "3   David    Weber   40.0        NaN\n",
       "4   Elias    Klein    NaN    60000.0"
      ]
     },
     "execution_count": 14,
     "metadata": {},
     "output_type": "execute_result"
    }
   ],
   "source": [
    "import pandas as pd\n",
    "\n",
    "# DataFrame 1\n",
    "df1 = pd.DataFrame({\n",
    "    'Vorname': ['Anna', 'Ben', 'Clara', 'David'],\n",
    "    'Nachname': ['Müller', 'Schmidt', 'Fischer', 'Weber'],\n",
    "    'Alter': [28, 34, 29, 40]\n",
    "})\n",
    "\n",
    "# DataFrame 2\n",
    "df2 = pd.DataFrame({\n",
    "    'Vorname': ['Anna', 'Ben', 'Clara', 'Elias'],\n",
    "    'Nachname': ['Müller', 'Schmidt', 'Fischer', 'Klein'],\n",
    "    'Einkommen': [45000, 55000, 47000, 60000]\n",
    "})\n",
    "\n",
    "# Merge anhand von Vor- und Nachname\n",
    "merged_df = pd.merge(df1, df2, on=['Vorname', 'Nachname'], how='outer')\n",
    "merged_df"
   ]
  },
  {
   "cell_type": "markdown",
   "id": "bfd23f08-bf24-4bf0-9b7e-4729b98ef82e",
   "metadata": {
    "jp-MarkdownHeadingCollapsed": true
   },
   "source": [
    "### **left**"
   ]
  },
  {
   "cell_type": "code",
   "execution_count": 15,
   "id": "d154e9ee-0f84-4180-9fe7-ffdd4c2aec03",
   "metadata": {
    "editable": true,
    "slideshow": {
     "slide_type": ""
    },
    "tags": []
   },
   "outputs": [
    {
     "data": {
      "text/html": [
       "<div>\n",
       "<style scoped>\n",
       "    .dataframe tbody tr th:only-of-type {\n",
       "        vertical-align: middle;\n",
       "    }\n",
       "\n",
       "    .dataframe tbody tr th {\n",
       "        vertical-align: top;\n",
       "    }\n",
       "\n",
       "    .dataframe thead th {\n",
       "        text-align: right;\n",
       "    }\n",
       "</style>\n",
       "<table border=\"1\" class=\"dataframe\">\n",
       "  <thead>\n",
       "    <tr style=\"text-align: right;\">\n",
       "      <th></th>\n",
       "      <th>Vorname</th>\n",
       "      <th>Nachname</th>\n",
       "      <th>Alter</th>\n",
       "      <th>Einkommen</th>\n",
       "    </tr>\n",
       "  </thead>\n",
       "  <tbody>\n",
       "    <tr>\n",
       "      <th>0</th>\n",
       "      <td>Anna</td>\n",
       "      <td>Müller</td>\n",
       "      <td>28</td>\n",
       "      <td>45000.0</td>\n",
       "    </tr>\n",
       "    <tr>\n",
       "      <th>1</th>\n",
       "      <td>Ben</td>\n",
       "      <td>Schmidt</td>\n",
       "      <td>34</td>\n",
       "      <td>55000.0</td>\n",
       "    </tr>\n",
       "    <tr>\n",
       "      <th>2</th>\n",
       "      <td>Clara</td>\n",
       "      <td>Fischer</td>\n",
       "      <td>29</td>\n",
       "      <td>47000.0</td>\n",
       "    </tr>\n",
       "    <tr>\n",
       "      <th>3</th>\n",
       "      <td>David</td>\n",
       "      <td>Weber</td>\n",
       "      <td>40</td>\n",
       "      <td>NaN</td>\n",
       "    </tr>\n",
       "  </tbody>\n",
       "</table>\n",
       "</div>"
      ],
      "text/plain": [
       "  Vorname Nachname  Alter  Einkommen\n",
       "0    Anna   Müller     28    45000.0\n",
       "1     Ben  Schmidt     34    55000.0\n",
       "2   Clara  Fischer     29    47000.0\n",
       "3   David    Weber     40        NaN"
      ]
     },
     "execution_count": 15,
     "metadata": {},
     "output_type": "execute_result"
    }
   ],
   "source": [
    "import pandas as pd\n",
    "\n",
    "# DataFrame 1\n",
    "df1 = pd.DataFrame({\n",
    "    'Vorname': ['Anna', 'Ben', 'Clara', 'David'],\n",
    "    'Nachname': ['Müller', 'Schmidt', 'Fischer', 'Weber'],\n",
    "    'Alter': [28, 34, 29, 40]\n",
    "})\n",
    "\n",
    "# DataFrame 2\n",
    "df2 = pd.DataFrame({\n",
    "    'Vorname': ['Anna', 'Ben', 'Clara', 'Elias'],\n",
    "    'Nachname': ['Müller', 'Schmidt', 'Fischer', 'Klein'],\n",
    "    'Einkommen': [45000, 55000, 47000, 60000]\n",
    "})\n",
    "\n",
    "# Merge anhand von Vor- und Nachname\n",
    "merged_df = pd.merge(df1, df2, on=['Vorname', 'Nachname'], how='left')\n",
    "merged_df"
   ]
  },
  {
   "cell_type": "markdown",
   "id": "26669654-bf3d-47e3-a7ed-4bb9bb57c3ed",
   "metadata": {
    "jp-MarkdownHeadingCollapsed": true
   },
   "source": [
    "### **right**"
   ]
  },
  {
   "cell_type": "code",
   "execution_count": 16,
   "id": "e6282a6b-a674-4149-a832-69f18277d362",
   "metadata": {
    "editable": true,
    "slideshow": {
     "slide_type": ""
    },
    "tags": []
   },
   "outputs": [
    {
     "data": {
      "text/html": [
       "<div>\n",
       "<style scoped>\n",
       "    .dataframe tbody tr th:only-of-type {\n",
       "        vertical-align: middle;\n",
       "    }\n",
       "\n",
       "    .dataframe tbody tr th {\n",
       "        vertical-align: top;\n",
       "    }\n",
       "\n",
       "    .dataframe thead th {\n",
       "        text-align: right;\n",
       "    }\n",
       "</style>\n",
       "<table border=\"1\" class=\"dataframe\">\n",
       "  <thead>\n",
       "    <tr style=\"text-align: right;\">\n",
       "      <th></th>\n",
       "      <th>Vorname</th>\n",
       "      <th>Nachname</th>\n",
       "      <th>Alter</th>\n",
       "      <th>Einkommen</th>\n",
       "    </tr>\n",
       "  </thead>\n",
       "  <tbody>\n",
       "    <tr>\n",
       "      <th>0</th>\n",
       "      <td>Anna</td>\n",
       "      <td>Müller</td>\n",
       "      <td>28.0</td>\n",
       "      <td>45000</td>\n",
       "    </tr>\n",
       "    <tr>\n",
       "      <th>1</th>\n",
       "      <td>Ben</td>\n",
       "      <td>Schmidt</td>\n",
       "      <td>34.0</td>\n",
       "      <td>55000</td>\n",
       "    </tr>\n",
       "    <tr>\n",
       "      <th>2</th>\n",
       "      <td>Clara</td>\n",
       "      <td>Fischer</td>\n",
       "      <td>29.0</td>\n",
       "      <td>47000</td>\n",
       "    </tr>\n",
       "    <tr>\n",
       "      <th>3</th>\n",
       "      <td>Elias</td>\n",
       "      <td>Klein</td>\n",
       "      <td>NaN</td>\n",
       "      <td>60000</td>\n",
       "    </tr>\n",
       "  </tbody>\n",
       "</table>\n",
       "</div>"
      ],
      "text/plain": [
       "  Vorname Nachname  Alter  Einkommen\n",
       "0    Anna   Müller   28.0      45000\n",
       "1     Ben  Schmidt   34.0      55000\n",
       "2   Clara  Fischer   29.0      47000\n",
       "3   Elias    Klein    NaN      60000"
      ]
     },
     "execution_count": 16,
     "metadata": {},
     "output_type": "execute_result"
    }
   ],
   "source": [
    "import pandas as pd\n",
    "\n",
    "# DataFrame 1\n",
    "df1 = pd.DataFrame({\n",
    "    'Vorname': ['Anna', 'Ben', 'Clara', 'David'],\n",
    "    'Nachname': ['Müller', 'Schmidt', 'Fischer', 'Weber'],\n",
    "    'Alter': [28, 34, 29, 40]\n",
    "})\n",
    "\n",
    "# DataFrame 2\n",
    "df2 = pd.DataFrame({\n",
    "    'Vorname': ['Anna', 'Ben', 'Clara', 'Elias'],\n",
    "    'Nachname': ['Müller', 'Schmidt', 'Fischer', 'Klein'],\n",
    "    'Einkommen': [45000, 55000, 47000, 60000]\n",
    "})\n",
    "\n",
    "# Merge anhand von Vor- und Nachname\n",
    "merged_df = pd.merge(df1, df2, on=['Vorname', 'Nachname'], how='right')\n",
    "merged_df"
   ]
  },
  {
   "cell_type": "markdown",
   "id": "f8a93029-0633-4de9-9b97-1d296da6386a",
   "metadata": {
    "editable": true,
    "slideshow": {
     "slide_type": ""
    },
    "tags": []
   },
   "source": [
    "## Many-to-Many-Merge"
   ]
  },
  {
   "cell_type": "markdown",
   "id": "f5c77c0b-6b77-44d7-9bc3-657a4d577a5d",
   "metadata": {
    "editable": true,
    "slideshow": {
     "slide_type": ""
    },
    "tags": []
   },
   "source": [
    "Es gibt Fälle, in denen ein DataFrame mehrere gleiche Schlüsselwerte hat, was zu einem **Many-to-Many-Merge** führt.\n",
    "\n",
    "Hier führen wir ein **Many-to-Many-Merge** durch, bei dem jede Kombination von ID-Werten aus beiden DataFrames beibehalten wird."
   ]
  },
  {
   "cell_type": "code",
   "execution_count": 6,
   "id": "1d2f4ccb-218e-4162-9d13-0b9d29525d22",
   "metadata": {
    "editable": true,
    "scrolled": true,
    "slideshow": {
     "slide_type": ""
    },
    "tags": []
   },
   "outputs": [
    {
     "data": {
      "text/html": [
       "<div>\n",
       "<style scoped>\n",
       "    .dataframe tbody tr th:only-of-type {\n",
       "        vertical-align: middle;\n",
       "    }\n",
       "\n",
       "    .dataframe tbody tr th {\n",
       "        vertical-align: top;\n",
       "    }\n",
       "\n",
       "    .dataframe thead th {\n",
       "        text-align: right;\n",
       "    }\n",
       "</style>\n",
       "<table border=\"1\" class=\"dataframe\">\n",
       "  <thead>\n",
       "    <tr style=\"text-align: right;\">\n",
       "      <th></th>\n",
       "      <th>Student_ID</th>\n",
       "      <th>Kurs</th>\n",
       "      <th>Note</th>\n",
       "    </tr>\n",
       "  </thead>\n",
       "  <tbody>\n",
       "    <tr>\n",
       "      <th>0</th>\n",
       "      <td>1</td>\n",
       "      <td>Mathe</td>\n",
       "      <td>A</td>\n",
       "    </tr>\n",
       "    <tr>\n",
       "      <th>1</th>\n",
       "      <td>2</td>\n",
       "      <td>Englisch</td>\n",
       "      <td>B</td>\n",
       "    </tr>\n",
       "    <tr>\n",
       "      <th>2</th>\n",
       "      <td>2</td>\n",
       "      <td>Englisch</td>\n",
       "      <td>C</td>\n",
       "    </tr>\n",
       "    <tr>\n",
       "      <th>3</th>\n",
       "      <td>2</td>\n",
       "      <td>Biologie</td>\n",
       "      <td>B</td>\n",
       "    </tr>\n",
       "    <tr>\n",
       "      <th>4</th>\n",
       "      <td>2</td>\n",
       "      <td>Biologie</td>\n",
       "      <td>C</td>\n",
       "    </tr>\n",
       "  </tbody>\n",
       "</table>\n",
       "</div>"
      ],
      "text/plain": [
       "   Student_ID      Kurs Note\n",
       "0           1     Mathe    A\n",
       "1           2  Englisch    B\n",
       "2           2  Englisch    C\n",
       "3           2  Biologie    B\n",
       "4           2  Biologie    C"
      ]
     },
     "execution_count": 6,
     "metadata": {},
     "output_type": "execute_result"
    }
   ],
   "source": [
    "# DataFrame 1\n",
    "df1 = pd.DataFrame({\n",
    "    'Student_ID': [1, 2, 2, 3],\n",
    "    'Kurs': ['Mathe', 'Englisch', 'Biologie', 'Physik']\n",
    "})\n",
    "\n",
    "# DataFrame 2\n",
    "df2 = pd.DataFrame({\n",
    "    'Student_ID': [1, 2, 2, 4],\n",
    "    'Note': ['A', 'B', 'C', 'A']\n",
    "})\n",
    "\n",
    "# Merge (inner join)\n",
    "merged_df = pd.merge(df1, df2, on='Student_ID', how='inner')\n",
    "merged_df"
   ]
  },
  {
   "cell_type": "code",
   "execution_count": null,
   "id": "9166e8a1-4ccd-4237-ab4b-b85e1a3a2da5",
   "metadata": {},
   "outputs": [],
   "source": []
  }
 ],
 "metadata": {
  "kernelspec": {
   "display_name": "Python 3 (ipykernel)",
   "language": "python",
   "name": "python3"
  },
  "language_info": {
   "codemirror_mode": {
    "name": "ipython",
    "version": 3
   },
   "file_extension": ".py",
   "mimetype": "text/x-python",
   "name": "python",
   "nbconvert_exporter": "python",
   "pygments_lexer": "ipython3",
   "version": "3.12.6"
  }
 },
 "nbformat": 4,
 "nbformat_minor": 5
}
