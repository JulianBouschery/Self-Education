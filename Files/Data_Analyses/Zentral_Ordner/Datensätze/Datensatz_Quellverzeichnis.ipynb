{
 "cells": [
  {
   "cell_type": "markdown",
   "id": "6632bcef-daf6-4fae-99ed-7780d10d958a",
   "metadata": {},
   "source": [
    "# Datensatz-Quellverzeichnis "
   ]
  },
  {
   "cell_type": "markdown",
   "id": "037190c5-2f31-4765-a82a-6c8c79d048e4",
   "metadata": {},
   "source": [
    "[US_Superstore_data.xls](https://www.kaggle.com/code/khalidashraf10/us-superstore-analysis/input)"
   ]
  },
  {
   "cell_type": "markdown",
   "id": "be6c6959-bf87-456d-bbf5-a259b10972a5",
   "metadata": {},
   "source": [
    "[house_price.csv](https://www.kaggle.com/c/house-prices-advanced-regression-techniques/data)"
   ]
  },
  {
   "cell_type": "code",
   "execution_count": null,
   "id": "abd04577-fc0e-4097-8d89-bbeba3c11e60",
   "metadata": {},
   "outputs": [],
   "source": []
  }
 ],
 "metadata": {
  "kernelspec": {
   "display_name": "Python 3 (ipykernel)",
   "language": "python",
   "name": "python3"
  },
  "language_info": {
   "codemirror_mode": {
    "name": "ipython",
    "version": 3
   },
   "file_extension": ".py",
   "mimetype": "text/x-python",
   "name": "python",
   "nbconvert_exporter": "python",
   "pygments_lexer": "ipython3",
   "version": "3.12.6"
  }
 },
 "nbformat": 4,
 "nbformat_minor": 5
}
