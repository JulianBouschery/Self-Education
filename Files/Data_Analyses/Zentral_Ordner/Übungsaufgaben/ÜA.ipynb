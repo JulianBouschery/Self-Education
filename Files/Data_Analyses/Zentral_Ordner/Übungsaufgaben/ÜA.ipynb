{
 "cells": [
  {
   "cell_type": "markdown",
   "id": "05a89001-494b-4b24-9f02-1b3f2e454c09",
   "metadata": {},
   "source": [
    "# Übungsaugfgaben"
   ]
  },
  {
   "cell_type": "markdown",
   "id": "2d26f765-4bd7-4f89-9606-187828ab8758",
   "metadata": {},
   "source": [
    "### Aufgabe 1."
   ]
  },
  {
   "cell_type": "code",
   "execution_count": 1,
   "id": "aa625c65-be9d-4020-8835-f0d8cccd0ce4",
   "metadata": {},
   "outputs": [],
   "source": [
    "import pandas as pd"
   ]
  },
  {
   "cell_type": "code",
   "execution_count": 2,
   "id": "46347a51-50b0-4fe3-a4f3-e343b90e2e29",
   "metadata": {},
   "outputs": [],
   "source": [
    "employee_data = pd.DataFrame({\n",
    "    'Name': ['Alice', 'Bob', 'Carol'],\n",
    "    'Skill': ['Python', 'Java', 'Python'],\n",
    "    'Experience': [3, 4, 5]\n",
    "})"
   ]
  },
  {
   "cell_type": "markdown",
   "id": "7f057f43-babf-41ab-b47e-8e86217b5465",
   "metadata": {},
   "source": [
    "You want to reshape this DataFrame to show the sum of Experience for each Skill. Which code snippet will accomplish this?"
   ]
  },
  {
   "cell_type": "markdown",
   "id": "ca6c386b-5587-4c9a-a44f-554afbf1f7f3",
   "metadata": {},
   "source": [
    "#### 1."
   ]
  },
  {
   "cell_type": "code",
   "execution_count": 3,
   "id": "aa37d428-7a32-4d41-96c9-d8f9696ac09b",
   "metadata": {},
   "outputs": [
    {
     "data": {
      "text/plain": [
       "Skill\n",
       "Java      4.0\n",
       "Python    8.0\n",
       "dtype: float64"
      ]
     },
     "execution_count": 3,
     "metadata": {},
     "output_type": "execute_result"
    }
   ],
   "source": [
    "employee_data.pivot(index='Skill', columns='Experience', values='Experience').sum(axis=1)"
   ]
  },
  {
   "cell_type": "markdown",
   "id": "6e4766e2-ab88-4e5c-abc6-8b419a3bcca6",
   "metadata": {},
   "source": [
    "#### 2."
   ]
  },
  {
   "cell_type": "code",
   "execution_count": 4,
   "id": "b1d39aa7-b892-4148-9129-1a80bbbe143f",
   "metadata": {},
   "outputs": [
    {
     "data": {
      "text/html": [
       "<div>\n",
       "<style scoped>\n",
       "    .dataframe tbody tr th:only-of-type {\n",
       "        vertical-align: middle;\n",
       "    }\n",
       "\n",
       "    .dataframe tbody tr th {\n",
       "        vertical-align: top;\n",
       "    }\n",
       "\n",
       "    .dataframe thead th {\n",
       "        text-align: right;\n",
       "    }\n",
       "</style>\n",
       "<table border=\"1\" class=\"dataframe\">\n",
       "  <thead>\n",
       "    <tr style=\"text-align: right;\">\n",
       "      <th></th>\n",
       "      <th>variable</th>\n",
       "      <th>value</th>\n",
       "    </tr>\n",
       "    <tr>\n",
       "      <th>Skill</th>\n",
       "      <th></th>\n",
       "      <th></th>\n",
       "    </tr>\n",
       "  </thead>\n",
       "  <tbody>\n",
       "    <tr>\n",
       "      <th>Java</th>\n",
       "      <td>Experience</td>\n",
       "      <td>4</td>\n",
       "    </tr>\n",
       "    <tr>\n",
       "      <th>Python</th>\n",
       "      <td>ExperienceExperience</td>\n",
       "      <td>8</td>\n",
       "    </tr>\n",
       "  </tbody>\n",
       "</table>\n",
       "</div>"
      ],
      "text/plain": [
       "                    variable  value\n",
       "Skill                              \n",
       "Java              Experience      4\n",
       "Python  ExperienceExperience      8"
      ]
     },
     "execution_count": 4,
     "metadata": {},
     "output_type": "execute_result"
    }
   ],
   "source": [
    "employee_data.melt(id_vars=['Skill'], value_vars=['Experience']).groupby('Skill').sum()"
   ]
  },
  {
   "cell_type": "markdown",
   "id": "0b20c14f-b321-4e85-9c3b-4d7ad0021a6a",
   "metadata": {},
   "source": [
    "#### 3."
   ]
  },
  {
   "cell_type": "code",
   "execution_count": 5,
   "id": "378f0d55-c48a-4563-b8a4-cf9cebac8dd6",
   "metadata": {},
   "outputs": [
    {
     "data": {
      "text/html": [
       "<div>\n",
       "<style scoped>\n",
       "    .dataframe tbody tr th:only-of-type {\n",
       "        vertical-align: middle;\n",
       "    }\n",
       "\n",
       "    .dataframe tbody tr th {\n",
       "        vertical-align: top;\n",
       "    }\n",
       "\n",
       "    .dataframe thead tr th {\n",
       "        text-align: left;\n",
       "    }\n",
       "\n",
       "    .dataframe thead tr:last-of-type th {\n",
       "        text-align: right;\n",
       "    }\n",
       "</style>\n",
       "<table border=\"1\" class=\"dataframe\">\n",
       "  <thead>\n",
       "    <tr>\n",
       "      <th></th>\n",
       "      <th colspan=\"2\" halign=\"left\">Experience</th>\n",
       "    </tr>\n",
       "    <tr>\n",
       "      <th>Skill</th>\n",
       "      <th>Java</th>\n",
       "      <th>Python</th>\n",
       "    </tr>\n",
       "    <tr>\n",
       "      <th>Name</th>\n",
       "      <th></th>\n",
       "      <th></th>\n",
       "    </tr>\n",
       "  </thead>\n",
       "  <tbody>\n",
       "    <tr>\n",
       "      <th>Alice</th>\n",
       "      <td>0.0</td>\n",
       "      <td>3.0</td>\n",
       "    </tr>\n",
       "    <tr>\n",
       "      <th>Bob</th>\n",
       "      <td>4.0</td>\n",
       "      <td>0.0</td>\n",
       "    </tr>\n",
       "    <tr>\n",
       "      <th>Carol</th>\n",
       "      <td>0.0</td>\n",
       "      <td>5.0</td>\n",
       "    </tr>\n",
       "  </tbody>\n",
       "</table>\n",
       "</div>"
      ],
      "text/plain": [
       "      Experience       \n",
       "Skill       Java Python\n",
       "Name                   \n",
       "Alice        0.0    3.0\n",
       "Bob          4.0    0.0\n",
       "Carol        0.0    5.0"
      ]
     },
     "execution_count": 5,
     "metadata": {},
     "output_type": "execute_result"
    }
   ],
   "source": [
    "employee_data.set_index(['Name', 'Skill']).unstack().fillna(0)"
   ]
  },
  {
   "cell_type": "markdown",
   "id": "7131ac53-efff-4275-8e26-9214bd3c3355",
   "metadata": {},
   "source": [
    "#### 4."
   ]
  },
  {
   "cell_type": "code",
   "execution_count": 6,
   "id": "ef6e6c3a-25f6-4a2e-bc00-c044fd418985",
   "metadata": {},
   "outputs": [
    {
     "data": {
      "text/plain": [
       "Skill\n",
       "Java      4\n",
       "Python    8\n",
       "Name: Experience, dtype: int64"
      ]
     },
     "execution_count": 6,
     "metadata": {},
     "output_type": "execute_result"
    }
   ],
   "source": [
    "employee_data.groupby('Skill').Experience.sum()"
   ]
  },
  {
   "cell_type": "code",
   "execution_count": null,
   "id": "42bc0c62-7ecd-4256-ad91-4d4108e314f9",
   "metadata": {},
   "outputs": [],
   "source": []
  }
 ],
 "metadata": {
  "kernelspec": {
   "display_name": "Python 3 (ipykernel)",
   "language": "python",
   "name": "python3"
  },
  "language_info": {
   "codemirror_mode": {
    "name": "ipython",
    "version": 3
   },
   "file_extension": ".py",
   "mimetype": "text/x-python",
   "name": "python",
   "nbconvert_exporter": "python",
   "pygments_lexer": "ipython3",
   "version": "3.12.6"
  }
 },
 "nbformat": 4,
 "nbformat_minor": 5
}
