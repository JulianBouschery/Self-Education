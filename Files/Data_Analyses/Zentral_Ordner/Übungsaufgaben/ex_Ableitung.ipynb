{
 "cells": [
  {
   "cell_type": "markdown",
   "id": "9c57317a-0367-4742-ad7a-2af2a8ffe697",
   "metadata": {},
   "source": [
    "# Ableitung im Detail"
   ]
  },
  {
   "cell_type": "markdown",
   "id": "b8ade44a-2026-42d9-88b9-76f74ed9e51c",
   "metadata": {},
   "source": [
    "$\n",
    "f(x) = x^2 - 4x + 3\n",
    "$"
   ]
  },
  {
   "cell_type": "markdown",
   "id": "e5091090-9fad-4f28-86d7-29904c5cbc53",
   "metadata": {},
   "source": [
    "Wir werden:\n",
    "1. Die Ableitung berechnen und auf Null setzen, um die [kritischen Punkte](critical_points.ipynb) (es kann mehr als einen geben) zu finden.\n",
    "2. Den gefundenen kritischen Punkt überprüfen, ob es sich um ein Minimum handelt."
   ]
  },
  {
   "cell_type": "markdown",
   "id": "ab6a720b-8c25-4029-9e63-c6ae3e4766fb",
   "metadata": {},
   "source": [
    "### Schritt 1: Berechnung der ersten Ableitung und Finden der Kritischen Punkte"
   ]
  },
  {
   "cell_type": "markdown",
   "id": "4624962f-1996-46a5-be6b-e7bd441b970e",
   "metadata": {},
   "source": [
    "Die Ableitung von $ f(x) = x^2 - 4x + 3 $ ist:\n",
    "\n",
    "$\n",
    "f'(x) = 2x - 4\n",
    "$\n",
    "\n",
    "Um die kritischen Punkte zu finden, setzen wir die Ableitung gleich null:\n",
    "\n",
    "$\n",
    "2x - 4 = 0\n",
    "$\n",
    "\n",
    "Lösen wir diese Gleichung nach $ x $ auf:\n",
    "\n",
    "$\n",
    "x = 2\n",
    "$"
   ]
  },
  {
   "cell_type": "markdown",
   "id": "1a857129-2103-44c0-ae85-3fa8420d99b7",
   "metadata": {},
   "source": [
    "### Schritt 2: Überprüfung des Kritischen Punktes mit der zweiten Ableitung"
   ]
  },
  {
   "cell_type": "markdown",
   "id": "f321c9ce-8f4e-4d82-9b9a-9c96d8be64ad",
   "metadata": {},
   "source": [
    "Wir berechnen die zweite Ableitung, um zu prüfen, ob $ x = 2 $ tatsächlich ein Minimum ist:\n",
    "\n",
    "$\n",
    "f''(x) = 2\n",
    "$\n",
    "\n",
    "Da die zweite Ableitung positiv ist ($ f''(x) = 2 > 0 $), bestätigt dies, dass $ x = 2 $ ein Minimum der Funktion ist."
   ]
  },
  {
   "cell_type": "markdown",
   "id": "6a4268ee-3930-42fe-94ad-17e5959a3f1e",
   "metadata": {},
   "source": [
    "### Schritt 3: Berechnung des Funktionswerts am Minimum"
   ]
  },
  {
   "cell_type": "markdown",
   "id": "d42d646f-4f6a-4037-b992-d726ff556f40",
   "metadata": {},
   "source": [
    "Nun setzen wir $ x = 2 $ in die ursprüngliche Funktion ein, um den minimalen Funktionswert zu erhalten:\n",
    "\n",
    "$\n",
    "f(2) = 2^2 - 4 \\cdot 2 + 3 = 4 - 8 + 3 = -1\n",
    "$"
   ]
  },
  {
   "cell_type": "markdown",
   "id": "22e5b343-8665-4d02-afc1-593be5262fc9",
   "metadata": {},
   "source": [
    "Schauen wir uns die Gleichung Schritt für Schritt an. Die Gleichung, die du überprüfst, ist:\n",
    "\n",
    "$$\n",
    "f(2) = 2^2 - 4 \\cdot 2 + 3\n",
    "$$\n",
    "\n",
    "### Schritt 1: Berechne $2^2$\n",
    "$$\n",
    "2^2 = 4\n",
    "$$\n",
    "\n",
    "### Schritt 2: Berechne $-4 \\cdot 2$\n",
    "$$\n",
    "-4 \\cdot 2 = -8\n",
    "$$\n",
    "\n",
    "### Schritt 3: Setze alles zusammen\n",
    "Jetzt setzen wir die Ergebnisse zusammen:\n",
    "\n",
    "$$\n",
    "f(2) = 4 - 8 + 3\n",
    "$$\n",
    "\n",
    "### Schritt 4: Führe die Addition und Subtraktion durch\n",
    "- Zuerst $4 - 8$:\n",
    "\n",
    "$$\n",
    "4 - 8 = -4\n",
    "$$\n",
    "\n",
    "- Dann $-4 + 3$:\n",
    "\n",
    "$$\n",
    "-4 + 3 = -1\n",
    "$$\n",
    "\n",
    "### Endergebnis\n",
    "Die gesamte Berechnung ergibt:\n",
    "\n",
    "$$\n",
    "f(2) = -1\n",
    "$$\n",
    "\n",
    "### Fazit\n",
    "Die ursprüngliche Berechnung war korrekt. Es sieht so aus, als ob ein Missverständnis bei der Interpretation der Gleichung aufgetreten ist. Der Fehler in deiner Argumentation ist die Annahme, dass $0 - 8 + 3$ das gleiche ist wie $4 - 8 + 3$. Diese Ausdrücke sind nicht gleich. Das korrekte Ergebnis ist also:\n",
    "\n",
    "$$\n",
    "f(2) = -1\n",
    "$$\n",
    "\n"
   ]
  },
  {
   "cell_type": "code",
   "execution_count": null,
   "id": "25c6f947-0da9-4bd8-b262-58f5bb74e6a5",
   "metadata": {},
   "outputs": [],
   "source": []
  }
 ],
 "metadata": {
  "kernelspec": {
   "display_name": "Python 3 (ipykernel)",
   "language": "python",
   "name": "python3"
  },
  "language_info": {
   "codemirror_mode": {
    "name": "ipython",
    "version": 3
   },
   "file_extension": ".py",
   "mimetype": "text/x-python",
   "name": "python",
   "nbconvert_exporter": "python",
   "pygments_lexer": "ipython3",
   "version": "3.12.6"
  }
 },
 "nbformat": 4,
 "nbformat_minor": 5
}
