{
 "cells": [
  {
   "cell_type": "markdown",
   "id": "6a4b3589-ff86-470c-b093-29779abe3e45",
   "metadata": {},
   "source": [
    "# Pandas"
   ]
  },
  {
   "cell_type": "markdown",
   "id": "a1669a35-2660-4bfe-a046-49e0df207a30",
   "metadata": {},
   "source": [
    "Zuerst auf das [Pandas Cheat Sheet](https://pandas.pydata.org/Pandas_Cheat_Sheet.pdf) schauen!!!"
   ]
  },
  {
   "cell_type": "markdown",
   "id": "36458a8a-866f-4867-8eee-6babae9288ba",
   "metadata": {},
   "source": [
    "### Funktionen"
   ]
  },
  {
   "cell_type": "markdown",
   "id": "aad81336-2b36-4cc0-bdc7-c321d62758e7",
   "metadata": {},
   "source": [
    "import pandas as pd"
   ]
  },
  {
   "cell_type": "markdown",
   "id": "867ff72f-22a9-46d3-854b-2dc26dd9c273",
   "metadata": {},
   "source": [
    "pd.DatFrame()"
   ]
  },
  {
   "cell_type": "markdown",
   "id": "b7a6b466-1a3d-4e14-bd80-fb240d482795",
   "metadata": {},
   "source": [
    "pd.MultIndex.from_tuples()"
   ]
  },
  {
   "cell_type": "markdown",
   "id": "472882c9-811d-4b2f-9596-1c808c8d3fb1",
   "metadata": {},
   "source": [
    "pd.rename"
   ]
  },
  {
   "cell_type": "markdown",
   "id": "06d1a04a-9de1-41ff-9c60-8c3b8be81e9f",
   "metadata": {},
   "source": [
    "pd.query"
   ]
  },
  {
   "cell_type": "markdown",
   "id": "99aa8036-59e3-407e-bd7f-d49f1caf7580",
   "metadata": {},
   "source": [
    "pd.melt"
   ]
  },
  {
   "cell_type": "markdown",
   "id": "b661a2f9-1341-4711-9b9b-4e141b1576cf",
   "metadata": {},
   "source": [
    "### DataFrame"
   ]
  },
  {
   "cell_type": "markdown",
   "id": "7dc7ccfd-5a1c-4554-96a3-e619866e2ba9",
   "metadata": {},
   "source": [
    "df.groupby"
   ]
  },
  {
   "cell_type": "code",
   "execution_count": null,
   "id": "0828628c-89fa-47c4-a9b4-4048cf19fed1",
   "metadata": {},
   "outputs": [],
   "source": [
    "df."
   ]
  }
 ],
 "metadata": {
  "kernelspec": {
   "display_name": "Python 3 (ipykernel)",
   "language": "python",
   "name": "python3"
  },
  "language_info": {
   "codemirror_mode": {
    "name": "ipython",
    "version": 3
   },
   "file_extension": ".py",
   "mimetype": "text/x-python",
   "name": "python",
   "nbconvert_exporter": "python",
   "pygments_lexer": "ipython3",
   "version": "3.12.6"
  }
 },
 "nbformat": 4,
 "nbformat_minor": 5
}
