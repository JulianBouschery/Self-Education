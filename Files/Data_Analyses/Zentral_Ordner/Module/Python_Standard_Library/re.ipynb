{
 "cells": [
  {
   "cell_type": "markdown",
   "id": "df37e344-bf9e-4ad9-b140-8bd69f3b944f",
   "metadata": {},
   "source": [
    "# `re` Modul"
   ]
  },
  {
   "cell_type": "markdown",
   "id": "ed6f1ae1-c15c-477f-9514-8705eb46a4bb",
   "metadata": {},
   "source": [
    "Das Modul `re` ist Teil der Standard-Libiary von Python."
   ]
  },
  {
   "cell_type": "markdown",
   "id": "30fd931f-86da-4b6c-bace-efc14e1aac88",
   "metadata": {},
   "source": [
    "Die Funktion **`re`** stammt aus dem gleichnamigen **`re`**-Modul in Python. Dieses Modul wird für die Arbeit mit **regulären Ausdrücken** verwendet, die es ermöglichen, Muster in Texten zu erkennen, zu durchsuchen, zu ändern oder zu validieren.\n",
    "\n",
    "### Beispiele für das `re`-Modul:\n",
    "```python\n",
    "import re\n",
    "\n",
    "# Beispieltext\n",
    "text = \"Die Zahl ist 1234.\"\n",
    "\n",
    "# Suche nach einer Zahl im Text\n",
    "pattern = r'\\d+'\n",
    "match = re.search(pattern, text)\n",
    "\n",
    "if match:\n",
    "    print(f\"Gefundene Zahl: {match.group()}\")\n",
    "```\n",
    "\n",
    "### Funktionen des `re`-Moduls:\n",
    "- **`re.search()`**: Sucht nach dem ersten Vorkommen des Musters im Text.\n",
    "- **`re.match()`**: Prüft, ob der Text mit dem Muster beginnt.\n",
    "- **`re.findall()`**: Findet alle Vorkommen eines Musters im Text.\n",
    "- **`re.sub()`**: Ersetzt Muster im Text.\n",
    "\n",
    "Das Modul bietet viele weitere Möglichkeiten, Textverarbeitung und Mustererkennung durchzuführen."
   ]
  },
  {
   "cell_type": "markdown",
   "id": "9b562eb9-f2d3-468e-ba8b-cd89114a8e38",
   "metadata": {},
   "source": [
    "## Beispiel der Verarbeitung von unstrukturierten Daten"
   ]
  },
  {
   "cell_type": "code",
   "execution_count": 3,
   "id": "e8f94b2b-8462-4d60-b3e7-9d704c73dfb4",
   "metadata": {},
   "outputs": [
    {
     "name": "stdout",
     "output_type": "stream",
     "text": [
      "Counter({'ist': 2, 'die': 1, 'analyse': 1, 'von': 1, 'textdaten': 1, 'spannend': 1, 'textanalyse': 1, 'eine': 1, 'interessante': 1, 'herausforderung': 1})\n"
     ]
    }
   ],
   "source": [
    "import re\n",
    "from collections import Counter\n",
    "\n",
    "# Unstrukturierte Daten (Text)\n",
    "text_data = \"Die Analyse von Textdaten ist spannend! Textanalyse ist eine interessante Herausforderung.\"\n",
    "\n",
    "# Text bereinigen (z.B. Sonderzeichen entfernen, in Kleinbuchstaben umwandeln)\n",
    "cleaned_text = re.sub(r'[^a-zA-Z\\s]', '', text_data.lower())\n",
    "\n",
    "# Tokenisierung (Wörter in eine Liste umwandeln)\n",
    "tokens = cleaned_text.split()\n",
    "\n",
    "# Häufigkeit der Wörter berechnen\n",
    "word_counts = Counter(tokens)\n",
    "print(word_counts)"
   ]
  },
  {
   "cell_type": "code",
   "execution_count": null,
   "id": "7186bc48-aeb1-426d-aed0-c07c75a8a4ef",
   "metadata": {},
   "outputs": [],
   "source": []
  }
 ],
 "metadata": {
  "kernelspec": {
   "display_name": "Python 3 (ipykernel)",
   "language": "python",
   "name": "python3"
  },
  "language_info": {
   "codemirror_mode": {
    "name": "ipython",
    "version": 3
   },
   "file_extension": ".py",
   "mimetype": "text/x-python",
   "name": "python",
   "nbconvert_exporter": "python",
   "pygments_lexer": "ipython3",
   "version": "3.12.6"
  }
 },
 "nbformat": 4,
 "nbformat_minor": 5
}
