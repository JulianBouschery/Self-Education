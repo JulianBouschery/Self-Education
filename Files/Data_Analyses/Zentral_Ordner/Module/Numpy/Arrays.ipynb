{
 "cells": [
  {
   "cell_type": "markdown",
   "id": "5f684111-df76-4574-b8e2-e7fc487517f8",
   "metadata": {},
   "source": [
    "# Arrays und Multidimensionale Arrays"
   ]
  },
  {
   "cell_type": "markdown",
   "id": "8245ad5f-145b-4d2e-9de0-adba60d35a77",
   "metadata": {},
   "source": [
    "Ein Array ist eine geordnete Sammlung von Elementen des gleichen Datentyps, die in einer oder mehreren Dimensionen (wie einer Liste, Matrix oder mehrdimensionalen Struktur) gespeichert und effizient verarbeitet werden können."
   ]
  },
  {
   "cell_type": "markdown",
   "id": "15ea8c1d-d027-4246-8f16-c97f8bb85b95",
   "metadata": {},
   "source": [
    "https://www.python-kurs.eu/numpy_arrays_erzeugen.php"
   ]
  },
  {
   "cell_type": "markdown",
   "id": "1ecd0bca-6c14-4aaf-80d5-80eb54405979",
   "metadata": {},
   "source": [
    "Man kann Arrays auf untrerschiedliche Weise und in unterschiedlichen Formen erstellen."
   ]
  },
  {
   "cell_type": "markdown",
   "id": "1e41a950-44d1-4b1c-817a-a35909240e9c",
   "metadata": {},
   "source": [
    "Hier eine kleine Sammlung der entsprechenden Funktionen:"
   ]
  },
  {
   "cell_type": "markdown",
   "id": "2d4af9de-6223-47a6-ad48-5dc1f2244010",
   "metadata": {},
   "source": [
    "[np.array()](../../Funktionen_und_Methoden/np.array.ipynb)"
   ]
  },
  {
   "cell_type": "markdown",
   "id": "b7b6d626-c007-4e53-8d15-a83c5c6b1cbf",
   "metadata": {},
   "source": [
    "[np.arange()](../../Funktionen_und_Methoden/np.arange.ipynb)"
   ]
  },
  {
   "cell_type": "markdown",
   "id": "61b75fbb-1393-4717-a418-29201383a6cd",
   "metadata": {},
   "source": [
    "[np.linspace()](../../Funktionen_und_Methoden/np.linspace.ipynb)"
   ]
  },
  {
   "cell_type": "markdown",
   "id": "22a0cccc-d51a-419d-8742-71ee48036cf2",
   "metadata": {},
   "source": [
    "Um die Form von Arrays zu verändern siehe auch: "
   ]
  },
  {
   "cell_type": "markdown",
   "id": "b25df968-ef01-43e2-85cf-7d5d860d0238",
   "metadata": {},
   "source": [
    "[arr.reshape()](../../Funktionen_und_Methoden/arr.reshape.ipynb)"
   ]
  },
  {
   "cell_type": "markdown",
   "id": "a93938e4-09d8-4b26-9126-0c160e55d3e5",
   "metadata": {},
   "source": [
    "Diese Funktionen sind sich so ähnlich, dass sie in einem Skript zusammen gefasst wurden."
   ]
  },
  {
   "cell_type": "markdown",
   "id": "76e2630b-0741-45ce-ac98-7e09cb7d8b91",
   "metadata": {},
   "source": [
    "[np.zeros(), np.ones(), np.random() und np.full()](../../Funktionen_und_Methoden/multi_arrays.ipynb)"
   ]
  },
  {
   "cell_type": "code",
   "execution_count": null,
   "id": "d1a222d6-94e8-43bf-a1d0-013360e49ec0",
   "metadata": {},
   "outputs": [],
   "source": []
  }
 ],
 "metadata": {
  "kernelspec": {
   "display_name": "Python 3 (ipykernel)",
   "language": "python",
   "name": "python3"
  },
  "language_info": {
   "codemirror_mode": {
    "name": "ipython",
    "version": 3
   },
   "file_extension": ".py",
   "mimetype": "text/x-python",
   "name": "python",
   "nbconvert_exporter": "python",
   "pygments_lexer": "ipython3",
   "version": "3.12.6"
  }
 },
 "nbformat": 4,
 "nbformat_minor": 5
}
