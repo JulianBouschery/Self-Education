{
 "cells": [
  {
   "cell_type": "markdown",
   "id": "1b93621a-9bf1-40e4-9096-f9d0a4ea7889",
   "metadata": {},
   "source": [
    "# Numerical Python Buch"
   ]
  },
  {
   "cell_type": "markdown",
   "id": "d6e84294-f6e1-4a21-a925-e799b1592ac3",
   "metadata": {},
   "source": [
    "[Lösungen zum Buch Numerical Python](https://www.python-kurs.eu/numbuch/loesungen.html) zum Downloaden"
   ]
  },
  {
   "cell_type": "markdown",
   "id": "bc680d66-86b6-4ad8-967e-66053562b11b",
   "metadata": {},
   "source": [
    "## Funktionen"
   ]
  },
  {
   "cell_type": "markdown",
   "id": "0623cc0c-9a0b-4bd1-9b8c-e69d598d7b9e",
   "metadata": {},
   "source": [
    "[arange](np_arange.ipynb)"
   ]
  },
  {
   "cell_type": "markdown",
   "id": "6001077a-6b91-4e77-928f-95d6ea3a1e80",
   "metadata": {},
   "source": [
    "[linspace](np_linspace.ipynb)"
   ]
  },
  {
   "cell_type": "code",
   "execution_count": null,
   "id": "27239be8-c8b2-422a-a29e-32d7bda5832e",
   "metadata": {},
   "outputs": [],
   "source": []
  }
 ],
 "metadata": {
  "kernelspec": {
   "display_name": "Python 3 (ipykernel)",
   "language": "python",
   "name": "python3"
  },
  "language_info": {
   "codemirror_mode": {
    "name": "ipython",
    "version": 3
   },
   "file_extension": ".py",
   "mimetype": "text/x-python",
   "name": "python",
   "nbconvert_exporter": "python",
   "pygments_lexer": "ipython3",
   "version": "3.12.6"
  }
 },
 "nbformat": 4,
 "nbformat_minor": 5
}
