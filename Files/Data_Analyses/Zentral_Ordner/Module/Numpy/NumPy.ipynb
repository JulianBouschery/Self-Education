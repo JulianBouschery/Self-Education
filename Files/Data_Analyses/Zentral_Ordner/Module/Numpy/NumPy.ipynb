{
 "cells": [
  {
   "cell_type": "markdown",
   "id": "1b93621a-9bf1-40e4-9096-f9d0a4ea7889",
   "metadata": {},
   "source": [
    "# NumPy (Numerical Python)"
   ]
  },
  {
   "cell_type": "markdown",
   "id": "d6e84294-f6e1-4a21-a925-e799b1592ac3",
   "metadata": {},
   "source": [
    "[Lösungen zum Buch Numerical Python](https://www.python-kurs.eu/numbuch/loesungen.html) zum Downloaden"
   ]
  },
  {
   "cell_type": "markdown",
   "id": "c55d5993-f890-4edb-889b-aa297f3a81c2",
   "metadata": {},
   "source": [
    "## Themen"
   ]
  },
  {
   "cell_type": "markdown",
   "id": "0623cc0c-9a0b-4bd1-9b8c-e69d598d7b9e",
   "metadata": {},
   "source": [
    "[Arrays](Arrays.ipynb)"
   ]
  },
  {
   "cell_type": "markdown",
   "id": "6001077a-6b91-4e77-928f-95d6ea3a1e80",
   "metadata": {},
   "source": [
    "[Random](Random.ipynb)"
   ]
  },
  {
   "cell_type": "code",
   "execution_count": null,
   "id": "e4f08cfb-cb86-4385-9282-21e2060268fa",
   "metadata": {},
   "outputs": [],
   "source": []
  },
  {
   "cell_type": "code",
   "execution_count": null,
   "id": "27239be8-c8b2-422a-a29e-32d7bda5832e",
   "metadata": {},
   "outputs": [],
   "source": [
    "Hier ist eine Liste der wichtigsten und häufig verwendeten Funktionen von **NumPy**, einer der zentralen Bibliotheken in Python für numerische Berechnungen:\n",
    "\n",
    "### 1. **Erstellen von Arrays:**\n",
    "   - `np.array()`: Erstellt ein Array aus Listen oder anderen iterierbaren Objekten.\n",
    "   - `np.zeros()`: Erstellt ein Array, das mit Nullen gefüllt ist.\n",
    "   - `np.ones()`: Erstellt ein Array, das mit Einsen gefüllt ist.\n",
    "   - `np.arange()`: Erstellt ein Array mit Werten in einem bestimmten Intervall.\n",
    "   - `np.linspace()`: Erstellt ein Array mit gleichmäßig verteilten Werten in einem bestimmten Intervall.\n",
    "   - `np.eye()`: Erstellt eine Einheitsmatrix.\n",
    "\n",
    "### 2. **Grundlegende Operationen:**\n",
    "   - `np.sum()`: Berechnet die Summe der Array-Elemente.\n",
    "   - `np.mean()`: Berechnet den Mittelwert der Array-Elemente.\n",
    "   - `np.median()`: Berechnet den Median der Array-Elemente.\n",
    "   - `np.std()`: Berechnet die Standardabweichung.\n",
    "   - `np.min()`, `np.max()`: Gibt das Minimum und Maximum eines Arrays zurück.\n",
    "   - `np.prod()`: Berechnet das Produkt aller Elemente im Array.\n",
    "\n",
    "### 3. **Array-Manipulation:**\n",
    "   - `np.reshape()`: Ändert die Form eines Arrays, ohne dessen Daten zu ändern.\n",
    "   - `np.transpose()`: Transponiert ein Array (Zeilen zu Spalten und umgekehrt).\n",
    "   - `np.concatenate()`: Verbindet Arrays entlang einer bestimmten Achse.\n",
    "   - `np.split()`: Teilt ein Array in mehrere Unterarrays.\n",
    "   - `np.vstack()`, `np.hstack()`: Vertikales bzw. horizontales Stapeln von Arrays.\n",
    "\n",
    "### 4. **Zufallszahlen:**\n",
    "   - `np.random.rand()`: Erstellt ein Array mit gleichmäßig verteilten Zufallszahlen zwischen 0 und 1.\n",
    "   - `np.random.randn()`: Erstellt ein Array mit normalverteilten Zufallszahlen (Mittelwert 0, Standardabweichung 1).\n",
    "   - `np.random.randint()`: Erstellt ein Array mit Zufallszahlen aus einem ganzzahligen Bereich.\n",
    "   - `np.random.choice()`: Wählt zufällig Elemente aus einem Array aus.\n",
    "\n",
    "### 5. **Matrixoperationen:**\n",
    "   - `np.dot()`: Berechnet das Skalarprodukt zweier Arrays.\n",
    "   - `np.matmul()`: Matrixmultiplikation.\n",
    "   - `np.linalg.inv()`: Berechnet die Inverse einer Matrix.\n",
    "   - `np.linalg.det()`: Berechnet die Determinante einer Matrix.\n",
    "   - `np.linalg.eig()`: Berechnet Eigenwerte und Eigenvektoren einer Matrix.\n",
    "\n",
    "### 6. **Vergleiche und Logik:**\n",
    "   - `np.where()`: Gibt die Indizes der Elemente zurück, die eine Bedingung erfüllen.\n",
    "   - `np.any()`, `np.all()`: Prüfen, ob ein Array mindestens einen bzw. alle True-Werte enthält.\n",
    "   - `np.logical_and()`, `np.logical_or()`, `np.logical_not()`: Logische Operationen auf Arrays.\n",
    "\n",
    "### 7. **Sortieren und Suchen:**\n",
    "   - `np.sort()`: Sortiert ein Array.\n",
    "   - `np.argsort()`: Gibt die Indizes der sortierten Werte zurück.\n",
    "   - `np.unique()`: Gibt die einzigartigen Elemente eines Arrays zurück.\n",
    "   - `np.searchsorted()`: Sucht den Index, an dem ein Wert in ein sortiertes Array eingefügt werden kann.\n",
    "\n",
    "### 8. **Mathematische Funktionen:**\n",
    "   - `np.sin()`, `np.cos()`, `np.tan()`: Trigonometrische Funktionen.\n",
    "   - `np.exp()`: Berechnet den Exponentialwert.\n",
    "   - `np.log()`, `np.log10()`: Natürlicher und 10-basiger Logarithmus.\n",
    "   - `np.sqrt()`: Quadratwurzel berechnen.\n",
    "\n",
    "Diese Funktionen sind oft der Kern numerischer Berechnungen und Datenmanipulationen in Python mit **NumPy**."
   ]
  }
 ],
 "metadata": {
  "kernelspec": {
   "display_name": "Python 3 (ipykernel)",
   "language": "python",
   "name": "python3"
  },
  "language_info": {
   "codemirror_mode": {
    "name": "ipython",
    "version": 3
   },
   "file_extension": ".py",
   "mimetype": "text/x-python",
   "name": "python",
   "nbconvert_exporter": "python",
   "pygments_lexer": "ipython3",
   "version": "3.12.6"
  }
 },
 "nbformat": 4,
 "nbformat_minor": 5
}
