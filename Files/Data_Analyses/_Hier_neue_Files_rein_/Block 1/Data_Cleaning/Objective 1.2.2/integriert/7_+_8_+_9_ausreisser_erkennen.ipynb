{
 "cells": [
  {
   "cell_type": "markdown",
   "id": "9256834c-b3be-4ece-9d4e-f0d4dd544cbf",
   "metadata": {},
   "source": [
    "vgl. https://www.data-analyst.de/glossar/outlier/"
   ]
  },
  {
   "cell_type": "markdown",
   "id": "1ba2b465-e2a1-4147-a72d-a52a05d9ea4c",
   "metadata": {},
   "source": [
    "# Syllabus\n",
    "\n",
    "- Explain the importance of data collection in the context of outlier detection.\n",
    "- Explain why high-quality data is crucial for accurate outlier detection.\n",
    "- Explain how different data types (numerical, categorical) may influence outlier detection strategies.\n",
    "\n",
    "---"
   ]
  },
  {
   "cell_type": "markdown",
   "id": "eb11664e-27f9-487d-81db-d2bb246db329",
   "metadata": {},
   "source": [
    "# Was sind Ausreißer?\n",
    "\n",
    "**Ausreißer** (auch **extreme Werte** oder **Outlier** genannt) sind Datenpunkte, die sich signifikant von anderen Werten in einem Datensatz unterscheiden. \n",
    "\n",
    "Sie liegen entweder weit über oder weit unter dem typischen Wertebereich der Daten. \n",
    "\n",
    "Ausreißer können in **numerischen** oder **kategorialen** Daten auftreten.\n",
    "\n",
    "<br>\n",
    "\n",
    "## Numerische Ausreißer\n",
    "Diese sind numerische Werte, die ungewöhnlich hoch oder niedrig sind im Vergleich zu den meisten anderen Werten. Sie können auftreten durch:\n",
    "\n",
    "- Messfehler\n",
    "- Eingabefehler\n",
    "- Ungewöhnliche, aber legitime Beobachtungen (z.B. extreme Wetterbedingungen)\n",
    "\n",
    "Beispiele:\n",
    "- In einem Datensatz über Körpergrößen von Menschen (z.B. Werte zwischen 150 cm und 200 cm) könnte ein Wert von 300 cm oder 50 cm als Ausreißer angesehen werden.\n",
    "\n",
    "<br>\n",
    "\n",
    "## Kategoriale Ausreißer\n",
    "Bei kategorialen Daten handelt es sich um seltene oder ungewöhnliche Kategorien, die im Vergleich zu den häufigsten Kategorien deutlich weniger oft vorkommen.\n",
    "\n",
    "Beispiele:\n",
    "- In einer Umfrage mit den Kategorien „Auto“, „Fahrrad“, „Bus“, könnte „Hubschrauber“ als Transportmittel ein Ausreißer sein.\n",
    "\n",
    "<br>\n",
    "\n",
    "## Warum sind Ausreißer wichtig?\n",
    "Ausreißer sind von Bedeutung, da sie:\n",
    "1. **Die Analyse verzerren** können, insbesondere bei Methoden wie Mittelwerten, Regressionsmodellen oder statistischen Tests.\n",
    "2. **Wichtige Informationen** liefern können, zum Beispiel über seltene Ereignisse oder extreme Fälle.\n",
    "3. **Datenerhebungsfehler** oder **Messfehler** aufdecken können.\n",
    "\n",
    "<br>\n",
    "\n",
    "## Arten von Ausreißern\n",
    "- **Univariate Ausreißer**: Diese betreffen nur eine Variable (z.B. ein ungewöhnlich hoher Preis eines Produkts).\n",
    "- **Multivariate Ausreißer**: Diese beziehen sich auf mehrere Variablen (z.B. eine ungewöhnliche Kombination von Alter und Einkommen).\n",
    "\n",
    "---"
   ]
  },
  {
   "cell_type": "markdown",
   "id": "42b46686-c826-4f19-a3b1-f13f56094eff",
   "metadata": {},
   "source": [
    "# Wichtigkeit hochwertiger Daten für das Erkennen von Ausreißern\n",
    "\n",
    "Die Qualität der Daten beeinflusst direkt die Genauigkeit der Ausreißererkennung. Mit hochwertigen Daten können zuverlässigere, reproduzierbare Ergebnisse erzielt werden, was wiederum zu besseren Entscheidungsgrundlagen führt.\n",
    "\n",
    " **1. Vermeidung falscher Positiv- oder Negativ-Ergebnisse**\n",
    "   - **Falsch-positive Ausreißer**:<br>\n",
    "   Wenn Daten von schlechter Qualität sind, wie z.B. durch fehlerhafte Messungen oder unvollständige Einträge, könnten reguläre Datenpunkte fälschlicherweise als Ausreißer identifiziert werden.\n",
    "   \n",
    "   - **Falsch-negative Ausreißer**: <br>\n",
    "   Ausreißer, die in Wirklichkeit existieren, könnten durch verrauschte oder ungenaue Daten verschleiert werden und unentdeckt bleiben.\n",
    "\n",
    "<br>\n",
    "\n",
    " **2. Genauigkeit der Erkennungsmethoden**\n",
    "   - Statistische Methoden zur Ausreißererkennung, wie der z-Wert, IQR (Interquartilsabstand) oder die Verwendung von Modellen, wie z.B. lineare Regression, setzen voraus, dass die Daten korrekt und konsistent sind.\n",
    "   - Rauschen oder fehlerhafte Daten führen dazu, dass die Methoden nicht richtig kalibriert sind und somit ungenaue Ergebnisse liefern.\n",
    "\n",
    "<br>\n",
    "\n",
    " **3. Verzerrungen minimieren**\n",
    "   - Ausreißer, die auf fehlerhaften oder unvollständigen Daten basieren, können Analysen und Modelle verzerren, was zu falschen Schlussfolgerungen führt.\n",
    "   - hochwertige Daten tragen dazu bei, Verzerrungen zu minimieren und sicherzustellen, dass erkannte Ausreißer tatsächliche Anomalien und keine Artefakte schlechter Datenqualität sind.\n",
    "\n",
    "<br>\n",
    "\n",
    " **4. Zuverlässigkeit der statistischen Parameter**\n",
    "   - Die Erkennung von Ausreißern hängt oft von statistischen Kennzahlen wie dem Mittelwert, der Standardabweichung oder der Verteilung der Daten ab.\n",
    "   - fehlerhafte oder verzerrte Daten verändern diese Kennzahlen und führen dazu, dass das Gesamtbild der Datenlandschaft falsch interpretiert wird.\n",
    "   - mit hochwertigen Daten bleibt die Verteilung realistisch und unterstützt die präzise Identifikation von Abweichungen.\n",
    "\n",
    "<br>\n",
    "\n",
    " **5. Vermeidung von Informationsverlust**\n",
    "   - Bei schlechter Datenqualität kann es dazu kommen, dass bereinigte Daten irrtümlich als \"falsch\" aussortiert werden.\n",
    "   - Qualitativ hochwertige Daten erleichtern es, tatsächliche Ausreißer von gültigen Daten zu unterscheiden, ohne nützliche Informationen zu verlieren.\n",
    "\n",
    "<br>\n",
    "\n",
    " **6. Zukunftssicherheit für maschinelles Lernen**\n",
    "   - In maschinellen Lernmodellen führen qualitativ hochwertige Daten zu einer besseren Erkennung von Ausreißern und besseren Prognosen.\n",
    "   - schlechte Datenqualität kann Modelle in die Irre führen, da sie lernen, auf Rauschen statt auf reale Muster zu reagieren.\n",
    "\n",
    "---"
   ]
  },
  {
   "cell_type": "markdown",
   "id": "f7dfaf6d-b560-4cd0-9ca3-9289d8f54aa0",
   "metadata": {},
   "source": [
    "# Verzerrung von Analyseergebnissen durch Ausreißer\n",
    "\n",
    "Ausreißer können die Ergebnisse einer Analyse erheblich verzerren, da sie extreme Werte darstellen, die oft nicht den allgemeinen Trends der Daten entsprechen. Diese Verzerrung kann unterschiedliche Auswirkungen haben, je nach Art der Analyse und der Sensitivität der verwendeten Methoden. Hier sind die wichtigsten Möglichkeiten, wie Ausreißer Analysen beeinflussen können:\n",
    "\n",
    "<br>\n",
    "\n",
    " **1. Verzerrung von Mittelwert und Varianz**\n",
    "   - **Mittelwert**: \n",
    "     - da der Mittelwert empfindlich auf extreme Werte reagiert, können Ausreißer ihn stark verschieben\n",
    "     - ein einzelner sehr großer oder kleiner Wert kann den Mittelwert in eine Richtung verzerren\n",
    "     - dann repräsentiert er nicht mehr die \"typischen\" Datenpunkte \n",
    "\n",
    "     - Beispiel:<br>\n",
    "     In einem Datensatz von Einkommen (z.B. 30.000 €, 35.000 €, 32.000 €, 500.000 €) wird der Mittelwert durch den extrem hohen Wert stark angehoben, obwohl die meisten Werte in einem niedrigen Bereich liegen.\n",
    "   \n",
    "   - **Varianz**:\n",
    "     - Ausreißer erhöhen oft die Varianz oder die Standardabweichung\n",
    "     - kann zu der Annahme führen, dass die Daten stärker streuen als sie es tatsächlich tun\n",
    "     - kann falsche Rückschlüsse über die Verteilung der Daten zulassen\n",
    "\n",
    "<br>\n",
    "\n",
    " **2. Beeinflussung von Regressionsmodellen**\n",
    "   - In linearen Regressionsmodellen haben Ausreißer großen Einfluss auf die Bestimmung der Steigung und des Achsenabschnitts der Regressionslinie.\n",
    "   - da Regressionsmodelle versuchen, den \"besten Fit\" für alle Datenpunkte zu finden, können Ausreißer die gesamte Richtung der Regressionslinie ändern\n",
    "   - führt zu verzerrten Vorhersagen\n",
    "\n",
    "     - Beispiel: <br>\n",
    "     Wenn ein Datensatz zur Vorhersage von Immobilienpreisen einen Ausreißer (extrem teures Anwesen) enthält, könnte die Regressionslinie übermäßig steil werden und die Vorhersagen für typische Häuserpreise ungenau machen.\n",
    "\n",
    "<br>\n",
    "\n",
    " **3. Verzerrung von Hypothesentests**\n",
    "   - viele statistische Tests wie der t-Test oder ANOVA gehen davon aus, dass die Daten normalverteilt sind.\n",
    "   - Ausreißer können diese Verteilung stören und zu einer erhöhten Fehlerwahrscheinlichkeit führen\n",
    "   - entweder weil der Test zu empfindlich auf die Ausreißer reagiert (höhere Type-I-Fehler) oder sie ignoriert (höhere Type-II-Fehler)\n",
    "\n",
    "     - Beispiel: <br>\n",
    "     Ein extremer Wert in einer Gruppe kann den Test beeinflussen, sodass die Differenz zwischen Gruppen als signifikant erkannt wird, obwohl sie es ohne den Ausreißer nicht wäre.\n",
    "\n",
    "<br>\n",
    "\n",
    " **4. Verzerrte Schätzungen von Korrelationen**\n",
    "   - Ausreißer können die Korrelation zwischen zwei Variablen verfälschen\n",
    "   - ein einzelner Ausreißer kann eine hohe Korrelation vortäuschen oder eine tatsächliche Korrelation verschleiern\n",
    "\n",
    "     - Beispiel: <br>\n",
    "     In einem Streudiagramm, das die Korrelation zwischen Lernstunden und Noten darstellt, kann ein Ausreißer (z.B. eine Person, die wenig gelernt hat und trotzdem eine hohe Note erreicht hat) die Korrelation zwischen den Variablen reduzieren und den Zusammenhang verschleiern.\n",
    "\n",
    "<br>\n",
    "\n",
    " **5. Irreführende Interpretationen bei Clustering-Methoden**\n",
    "   - Bei Clustering-Algorithmen wie k-Means können Ausreißer dazu führen, dass sich Clusterzentren in ihre Richtung verschieben.\n",
    "   - dies verändert die Definition der Cluster und führt zu einer ungenauen Gruppierung der Datenpunkte\n",
    "\n",
    "     - Beispiel: <br>\n",
    "     In einem Datensatz über Kundenverhalten könnte ein sehr ungewöhnliches Kaufmuster dazu führen, dass ein Clusterzentrum sich fälschlicherweise in dessen Richtung bewegt, was zu ungenauen Kundenprofilen führt.\n",
    "\n",
    "<br>\n",
    "\n",
    " **6. Schiefe Verteilungen**\n",
    "   - Ausreißer können die Schiefe und Kurtosis einer Verteilung verändern\n",
    "   - schiefe Verteilungen sind problematisch für viele analytische Verfahren, die auf Normalverteilung basieren\n",
    "\n",
    "     - Beispiel:<br>\n",
    "     In einem Histogramm, das das Gewicht von Menschen zeigt, kann ein extrem hohes Gewicht die Verteilung nach rechts verzerren, was falsche Schlüsse über den \"Durchschnitt\" oder die \"Streuung\" der Daten zulässt.\n",
    "\n",
    "<br>\n",
    "\n",
    " **7. Beeinflussung von maschinellen Lernmodellen**\n",
    "   - Ausreißer können in maschinellen Lernmodellen die Trainingsdaten verzerren und zu übermäßiger Anpassung (Overfitting) oder falschen Vorhersagen führen\n",
    "   - Modelle könnten lernen, sich an Ausreißerwerte anzupassen, anstatt die allgemeinen Muster in den Daten zu erfassen.\n",
    "\n",
    "     - Beispiel: Bei der Vorhersage von Aktienkursen könnte ein extremer Kursabfall aufgrund eines einmaligen Ereignisses das Modell dazu veranlassen, ungenaue Vorhersagen für zukünftige Kursentwicklungen zu machen.\n",
    "\n",
    "---"
   ]
  },
  {
   "cell_type": "markdown",
   "id": "c431b916-6830-4af5-9a2f-fed2057d6991",
   "metadata": {},
   "source": [
    "# Methoden zur Identifikation in numerischen und kategorischen Daten\n",
    "\n",
    "Die Erkennung von Ausreißern hängt stark vom Datentyp ab. In numerischen Daten stehen uns viele statistische Methoden zur Verfügung, um extreme Abweichungen zu identifizieren. Bei kategorialen Daten konzentrieren sich die Methoden auf die Identifikation von seltenen oder ungewöhnlichen Kategorien und deren Kombinationen.\n",
    "\n",
    "## Erkennung von Ausreißern in numerischen Daten\n",
    "\n",
    "\n",
    "### a. Z-Score (Standardisierter Wert)\n",
    "- der **Z-Score** misst, wie viele Standardabweichungen ein Datenpunkt vom Mittelwert entfernt ist.\n",
    "- ein Z-Score von 0 bedeutet, dass der Wert genau dem Mittelwert entspricht\n",
    "- positive oder negative Werte geben an, wie weit und in welche Richtung der Wert vom Mittelwert abweicht\n",
    "- Datenpunkte mit einem Z-Wert, der größer oder kleiner als ein bestimmter Schwellenwert (z.B. ±3) ist, gelten als Ausreißer.\n",
    "\n",
    "**Beispiel**: <br>\n",
    "Ein Z-Wert von 4 bedeutet, dass der Punkt 4 Standardabweichungen vom Mittelwert entfernt ist und daher wahrscheinlich ein Ausreißer ist."
   ]
  },
  {
   "cell_type": "code",
   "execution_count": 10,
   "id": "757d3226-7bc3-4eda-a895-1e3b54202583",
   "metadata": {},
   "outputs": [
    {
     "name": "stdout",
     "output_type": "stream",
     "text": [
      "   Wert   Z-Score\n",
      "5   500  2.666585\n"
     ]
    }
   ],
   "source": [
    "import numpy as np\n",
    "import pandas as pd\n",
    "\n",
    "# Beispiel-Daten\n",
    "data = pd.DataFrame({'Wert': [30, 31, 29, 32, 30, 500, 31, 28, 29]})\n",
    "\n",
    "# Z-Score berechnen\n",
    "mean_value = data['Wert'].mean()\n",
    "std_dev = data['Wert'].std()\n",
    "\n",
    "# Z-Score in der Spalte berechnen\n",
    "data['Z-Score'] = (data['Wert'] - mean_value) / std_dev\n",
    "\n",
    "# Schwellenwert für Ausreißer: |Z-Score| > 2 (Schwellenwert reduziert)\n",
    "ausreißer = data[np.abs(data['Z-Score']) > 2]\n",
    "\n",
    "print(ausreißer)\n"
   ]
  },
  {
   "cell_type": "markdown",
   "id": "876a1624-4764-4b4d-bca2-e1464ab97182",
   "metadata": {},
   "source": [
    "<br>\n",
    "\n",
    "### b. Interquartilsabstand (IQR)\n",
    "- Der **IQR** ist ein robustes Verfahren zur Identifikation von Ausreißern\n",
    "- hierbei werden Datenpunkte, die sich mehr als 1,5-mal den IQR über dem dritten Quartil oder unter dem ersten Quartil befinden, als Ausreißer betrachtet\n",
    "\n",
    "**Beispiel**: <br>\n",
    "Hier wird ebenfalls der Wert 500 als Ausreißer erkannt, da er weit außerhalb des IQR-Bereichs liegt:"
   ]
  },
  {
   "cell_type": "code",
   "execution_count": 11,
   "id": "6da6dc3b-b0b0-43fa-af90-b0490897f8d2",
   "metadata": {},
   "outputs": [
    {
     "name": "stdout",
     "output_type": "stream",
     "text": [
      "   Wert   Z-Score\n",
      "5   500  2.666585\n"
     ]
    }
   ],
   "source": [
    "# Interquartile Range (IQR) berechnen\n",
    "Q1 = data['Wert'].quantile(0.25)\n",
    "Q3 = data['Wert'].quantile(0.75)\n",
    "IQR = Q3 - Q1\n",
    "\n",
    "# Ausreißer sind Werte außerhalb von [Q1 - 1.5 * IQR, Q3 + 1.5 * IQR]\n",
    "unteres_limit = Q1 - 1.5 * IQR\n",
    "oberes_limit = Q3 + 1.5 * IQR\n",
    "\n",
    "ausreißer = data[(data['Wert'] < unteres_limit) | (data['Wert'] > oberes_limit)]\n",
    "print(ausreißer)\n"
   ]
  },
  {
   "cell_type": "markdown",
   "id": "4c430394-74c7-4305-893d-b87552c05715",
   "metadata": {},
   "source": [
    "<br>\n",
    "\n",
    "### c. Boxplot\n",
    "- visualisiert Ausreißer basierend auf dem IQR\n",
    "- Punkte, die weit außerhalb der Box liegen, sind potenzielle Ausreißer\n",
    "- schnelle Methode zur grafischen Identifikation von extremen Werten"
   ]
  },
  {
   "cell_type": "code",
   "execution_count": 12,
   "id": "7a65bdac-5c2a-4d1e-a511-9729cb29d1b4",
   "metadata": {},
   "outputs": [
    {
     "data": {
      "image/png": "[encoded data removed]",
      "text/plain": [
       "<Figure size 640x480 with 1 Axes>"
      ]
     },
     "metadata": {},
     "output_type": "display_data"
    }
   ],
   "source": [
    "import matplotlib.pyplot as plt\n",
    "\n",
    "# Boxplot zeichnen\n",
    "plt.boxplot(data['Wert'])\n",
    "plt.title(\"Boxplot zur Erkennung von Ausreißern\")\n",
    "plt.show()\n"
   ]
  },
  {
   "cell_type": "markdown",
   "id": "a6d9cc31-03ae-4be3-9f67-4d3a2156e0ea",
   "metadata": {},
   "source": [
    "## Erkennung von Ausreißern in kategorialen Daten\n",
    "\n",
    "Kategoriale Daten bestehen aus diskreten, nicht geordneten Kategorien (z.B. Farben, Marken, Städte). Hier ist die Identifikation von Ausreißern schwieriger, da es keine offensichtliche numerische \"Abweichung\" gibt. Stattdessen konzentriert man sich auf seltene oder ungewöhnliche Kategorien.\n",
    "\n",
    "### a. Häufigkeitsanalyse\n",
    "- bei kategorialen Daten können Ausreißer als Werte definiert werden, die extrem selten vorkommen\n",
    "- eine **Häufigkeitsanalyse** kann Aufschluss darüber geben, welche Kategorien ungewöhnlich sind, basierend auf der Anzahl der Vorkommen\n",
    "\n",
    "**Beispiel**: <br>\n",
    "In einer Umfrage zur bevorzugten Automarke könnte ein selten vorkommender Eintrag (z.B. eine exotische Marke) als Ausreißer betrachtet werden, wenn er nur einmal auftaucht, während die meisten Antworten gängige Marken sind.\n"
   ]
  },
  {
   "cell_type": "code",
   "execution_count": 13,
   "id": "3e5cc2fc-264a-4e9b-9f54-cc2b72f8f827",
   "metadata": {},
   "outputs": [
    {
     "name": "stdout",
     "output_type": "stream",
     "text": [
      "Kategorien mit wenigen Vorkommen: Index(['C', 'D', 'E'], dtype='object', name='Kategorie')\n"
     ]
    }
   ],
   "source": [
    "# Beispiel für kategoriale Daten\n",
    "data_kat = pd.DataFrame({'Kategorie': ['A', 'B', 'A', 'C', 'A', 'B', 'A', 'D', 'E', 'A']})\n",
    "\n",
    "# Häufigkeit jeder Kategorie\n",
    "frequenz = data_kat['Kategorie'].value_counts()\n",
    "\n",
    "# Kategorien mit weniger als 2 Vorkommen als Ausreißer markieren\n",
    "ausreißer = frequenz[frequenz < 2].index\n",
    "print(f\"Kategorien mit wenigen Vorkommen: {ausreißer}\")\n"
   ]
  },
  {
   "cell_type": "markdown",
   "id": "738f6fa0-b515-4869-95c2-0d811f22814c",
   "metadata": {},
   "source": [
    "### b. Modus-Abweichung\n",
    "- **Modus** ist der häufigste Wert in einer kategorialen Verteilung\n",
    "- Kategorien, die stark vom Modus abweichen (d.h. selten vorkommen), könnten als potenzielle Ausreißer betrachtet werden\n",
    "\n",
    "**Beispiel**:<br>\n",
    "In einem Datensatz, in dem die meisten Leute \"Blau\" als Lieblingsfarbe angeben, könnte eine seltene Nennung wie \"Fuchsia\" ein Ausreißer sein."
   ]
  },
  {
   "cell_type": "code",
   "execution_count": 14,
   "id": "f2fbe285-ef28-4a5d-ac62-116e26c9bb1c",
   "metadata": {},
   "outputs": [
    {
     "name": "stdout",
     "output_type": "stream",
     "text": [
      "Seltene Kategorien:   Kategorie\n",
      "1         B\n",
      "3         C\n",
      "5         B\n",
      "7         D\n",
      "8         E\n"
     ]
    }
   ],
   "source": [
    "# Modus der kategorialen Daten\n",
    "modus = data_kat['Kategorie'].mode()[0]\n",
    "\n",
    "# Kategorien, die vom Modus abweichen (seltene Kategorien)\n",
    "seltene_kategorien = data_kat[data_kat['Kategorie'] != modus]\n",
    "print(f\"Seltene Kategorien: {seltene_kategorien}\")\n"
   ]
  },
  {
   "cell_type": "markdown",
   "id": "a2ac2633-eb5f-4541-b951-c581b3e57d4a",
   "metadata": {},
   "source": [
    "### c. Kreuztabellen (Cross-Tabulation)\n",
    "- können verwendet werden, um die Beziehung zwischen zwei kategorialen Variablen zu analysieren\n",
    "- ungewöhnliche Kombinationen von Kategorien können auf Ausreißer hindeuten\n",
    "\n",
    "**Beispiel**:<br>\n",
    "In einem Datensatz von Käufen könnte die Kombination \"Ferrari\" (Marke) und \"Student\" (Beruf) ungewöhnlich und damit ein möglicher Ausreißer sein."
   ]
  },
  {
   "cell_type": "code",
   "execution_count": 15,
   "id": "f09748f4-5b9d-45e3-b6a4-c95bd58903a8",
   "metadata": {},
   "outputs": [
    {
     "name": "stdout",
     "output_type": "stream",
     "text": [
      "Verkäufer  Anna  Bert  Clara  Dina\n",
      "Produkt                           \n",
      "Ananas        0     0      1     0\n",
      "Apfel         2     1      0     0\n",
      "Banane        0     0      2     1\n",
      "Orange        1     0      0     0\n"
     ]
    }
   ],
   "source": [
    "# Beispiel-Datensatz\n",
    "data_cross = pd.DataFrame({\n",
    "    'Produkt': ['Apfel', 'Apfel', 'Apfel', 'Orange', 'Banane', 'Banane', 'Banane', 'Ananas'],\n",
    "    'Verkäufer': ['Anna', 'Anna', 'Bert', 'Anna', 'Clara', 'Clara', 'Dina', 'Clara']\n",
    "})\n",
    "\n",
    "# Kreuztabelle erstellen\n",
    "kreuztabelle = pd.crosstab(data_cross['Produkt'], data_cross['Verkäufer'])\n",
    "\n",
    "print(kreuztabelle)\n",
    "\n",
    "# Manuelle Inspektion der seltenen Kombinationen möglich\n"
   ]
  },
  {
   "cell_type": "markdown",
   "id": "c565b6ca-5f7d-4d8d-ac1d-6028fa91cb92",
   "metadata": {},
   "source": [
    "### d. Clustering-Methoden\n",
    "- ähnlich wie bei numerischen Daten können **Clustering-Algorithmen** (z.B. k-Means für gemischte Datentypen) verwendet werden, um seltene oder isolierte kategoriale Werte zu identifizieren\n",
    "- Werte, die zu keiner klaren Gruppe gehören, könnten als Ausreißer betrachtet werden\n",
    "\n",
    "**Beispiel**:<br>\n",
    "In einem Datensatz von Reisezielen könnte ein Cluster von \"häufigen\" Zielen (z.B. New York, Paris, Tokyo) und ein seltenes Ziel (z.B. ein unbekanntes Dorf) als Ausreißer identifiziert werden.\n",
    "\n",
    "<br>\n",
    "\n",
    "### e. Z-Score für kategoriale Daten (bei Dummy-Codierung)\n",
    "- Wenn kategoriale Daten in numerische Dummy-Variablen umgewandelt werden, kann auch der Z-Score zur Identifikation von Ausreißern verwendet werden\n",
    "- besonders nützlich, wenn kategoriale Daten in maschinellen Lernmodellen verwendet werden, wo numerische Repräsentationen erforderlich sind.\n",
    "\n",
    "---"
   ]
  },
  {
   "cell_type": "markdown",
   "id": "e0e97a4d-b0e0-46ea-98a5-533b8cc38c1a",
   "metadata": {},
   "source": [
    "# Wann sollten Ausreißer entfernt oder korrigiert werden?\n",
    "\n",
    "Das Entfernen oder Korrigieren von Ausreißern ist ein entscheidender Schritt in der Datenvorverarbeitung. Hier sind einige Überlegungen und Situationen, in denen dies sinnvoll sein kann:\n",
    "\n",
    " **1. Verstehbare Ursachen**\n",
    "- **Fehlerhafte Daten**: Wenn Ausreißer auf Messfehler, Eingabefehler oder technische Probleme zurückzuführen sind, sollten sie korrigiert oder entfernt werden. Beispielsweise kann ein alter oder defekter Sensor Daten liefern, die weit außerhalb des erwarteten Bereichs liegen.\n",
    "- **Missverständnis in der Erhebung**: Wenn Ausreißer aus einem Missverständnis bei der Datenerhebung resultieren (z.B. falsche Fragen in Umfragen), ist es sinnvoll, diese zu entfernen.\n",
    "\n",
    "<br>\n",
    "\n",
    " **2. Modellannahmen**\n",
    "- **Verletzung von Annahmen**: Bei statistischen Modellen, die spezifische Annahmen über die Daten treffen (z.B. Normalverteilung bei linearen Regressionsmodellen), können Ausreißer die Ergebnisse stark beeinflussen und zu falschen Schlussfolgerungen führen. In solchen Fällen könnte es sinnvoll sein, Ausreißer zu entfernen oder Modelle zu verwenden, die robuster gegen Ausreißer sind.\n",
    "\n",
    "<br>\n",
    "\n",
    " **3. Einfluss auf Analysen**\n",
    "- **Beeinflussung der Ergebnisse**: Wenn Ausreißer die Ergebnisse signifikant verändern (z.B. bei Regressionsanalysen, wo ein einzelner Punkt die Steigung stark beeinflussen kann), ist es wichtig zu überprüfen, ob diese Punkte tatsächlich relevant sind oder ob sie entfernt werden sollten.\n",
    "\n",
    "  <br>\n",
    "  \n",
    " **4. Ziel der Analyse**\n",
    "- **Relevanz für die Fragestellung**: Wenn die Analyse auf spezifische Hypothesen oder Zielgruppen abzielt, können Ausreißer, die nicht zur Zielpopulation passen, entfernt werden. Zum Beispiel kann ein extrem hoher Einkommen, das nicht typisch für die analysierte Gruppe ist, als Ausreißer betrachtet werden.\n",
    "\n",
    "<br>\n",
    "\n",
    " **5. Robuste Methoden**\n",
    "- **Alternative Modelle**: In einigen Fällen ist es besser, robuste statistische Methoden zu verwenden, die weniger empfindlich gegenüber Ausreißern sind, anstatt diese zu entfernen. Beispielsweise können robuste Regressionstechniken wie die quantile regression verwendet werden.\n",
    "\n",
    "<br>\n",
    "\n",
    " **6. Explorative Analyse**\n",
    "- **Wertvolle Informationen**: Manchmal können Ausreißer wertvolle Informationen über interessante oder seltene Phänomene liefern. In solchen Fällen kann es besser sein, diese Daten zu analysieren und zu verstehen, anstatt sie sofort zu entfernen.\n",
    "\n"
   ]
  },
  {
   "cell_type": "markdown",
   "id": "be0a045b-7f8e-4ef8-a7e4-a892528359e8",
   "metadata": {},
   "source": [
    "# Beispiele\n",
    "\n",
    "## Beispiel 1"
   ]
  },
  {
   "cell_type": "code",
   "execution_count": 19,
   "id": "9f21fb1b-14ab-4985-ae37-45aec9f53626",
   "metadata": {},
   "outputs": [
    {
     "name": "stdout",
     "output_type": "stream",
     "text": [
      "\n",
      "Numerische Ausreißer:\n",
      "   age   income  age_zscore\n",
      "3  150  1000000    2.038307\n",
      "\n",
      "Ausreißer nach IQR:\n",
      "   age   income  age_zscore\n",
      "3  150  1000000    2.038307\n"
     ]
    }
   ],
   "source": [
    "import numpy as np\n",
    "\n",
    "# Beispieldaten mit Ausreißern\n",
    "data = {'age': [22, 25, 30, 150, 28, 26],  # 150 ist ein Ausreißer\n",
    "        'income': [50000, 54000, 58000, 1000000, 61000, 62000]}  # 1000000 ist ein Ausreißer\n",
    "\n",
    "df = pd.DataFrame(data)\n",
    "\n",
    "# Erkennung numerischer Ausreißer mit dem z-Score\n",
    "df['age_zscore'] = (df['age'] - df['age'].mean()) / df['age'].std()\n",
    "\n",
    "# Werte anzeigen, deren z-Score größer als 3 ist (Ausreißer)\n",
    "outliers = df[np.abs(df['age_zscore']) > 2]\n",
    "print(\"\\nNumerische Ausreißer:\")\n",
    "print(outliers)\n",
    "\n",
    "# Erkennung von Ausreißern mit dem IQR\n",
    "Q1 = df['income'].quantile(0.25)\n",
    "Q3 = df['income'].quantile(0.75)\n",
    "IQR = Q3 - Q1\n",
    "\n",
    "# Werte außerhalb von 1,5-mal dem IQR\n",
    "outliers_iqr = df[(df['income'] < (Q1 - 1.5 * IQR)) | (df['income'] > (Q3 + 1.5 * IQR))]\n",
    "print(\"\\nAusreißer nach IQR:\")\n",
    "print(outliers_iqr)\n"
   ]
  },
  {
   "cell_type": "markdown",
   "id": "142f102b-3391-44bc-8133-3382ae416a3b",
   "metadata": {},
   "source": [
    "## Beispiel 2"
   ]
  },
  {
   "cell_type": "code",
   "execution_count": 27,
   "id": "ad1e390d-90b1-4959-a9d3-df952563499f",
   "metadata": {},
   "outputs": [
    {
     "name": "stdout",
     "output_type": "stream",
     "text": [
      "Originaler Datensatz:\n",
      "     age     income  gender\n",
      "0   22.0    50000.0    male\n",
      "1   25.0    54000.0  female\n",
      "2   30.0    58000.0    None\n",
      "3  150.0  1000000.0  female\n",
      "4    NaN    61000.0    male\n",
      "5   28.0    62000.0  female\n",
      "6   26.0        NaN  female\n",
      "7  999.0    59000.0    male\n"
     ]
    }
   ],
   "source": [
    "import pandas as pd\n",
    "import numpy as np\n",
    "\n",
    "# Beispiel-Datensatz mit fehlenden Werten und Ausreißern\n",
    "data = {\n",
    "    'age': [22, 25, 30, 150, np.nan, 28, 26, 999],  # 150 und 999 sind Ausreißer, NaN ist ein fehlender Wert\n",
    "    'income': [50000, 54000, 58000, 1000000, 61000, 62000, None, 59000],  # 1000000 ist ein Ausreißer, None ist ein fehlender Wert\n",
    "    'gender': ['male', 'female', None, 'female', 'male', 'female', 'female', 'male']  # None ist ein fehlender Wert\n",
    "}\n",
    "\n",
    "df = pd.DataFrame(data)\n",
    "print(\"Originaler Datensatz:\")\n",
    "print(df)"
   ]
  },
  {
   "cell_type": "markdown",
   "id": "8d70775d-bdd4-4e0a-b21d-667fd88dd428",
   "metadata": {},
   "source": [
    "### Schritt 1: Bereinigung fehlender Werte\n",
    "\n",
    "A) Numerische Daten\n",
    "\n",
    "Für numerische Daten füllen wir die fehlenden Werte (NaN) durch den Mittelwert der jeweiligen Spalte."
   ]
  },
  {
   "cell_type": "code",
   "execution_count": 31,
   "id": "092b80f9-64bb-48e2-86d4-7c4d9837587f",
   "metadata": {},
   "outputs": [
    {
     "name": "stdout",
     "output_type": "stream",
     "text": [
      "          age     income  gender\n",
      "0   22.000000    50000.0    male\n",
      "1   25.000000    54000.0  female\n",
      "2   30.000000    58000.0    None\n",
      "3  150.000000  1000000.0  female\n",
      "4  182.857143    61000.0    male\n",
      "5   28.000000    62000.0  female\n",
      "6   26.000000   192000.0  female\n",
      "7  999.000000    59000.0    male\n"
     ]
    }
   ],
   "source": [
    "# Fehlende Werte in der Spalte 'age' durch den Mittelwert ersetzen\n",
    "df['age'] = df['age'].fillna(df['age'].mean())\n",
    "\n",
    "# Fehlende Werte in der Spalte 'income' durch den Mittelwert ersetzen\n",
    "df['income'] = df['income'].fillna(df['income'].mean())\n",
    "print(df)"
   ]
  },
  {
   "cell_type": "markdown",
   "id": "f9424003-bd92-4965-be84-9d5611fe5ea7",
   "metadata": {},
   "source": [
    "B) Kategoriale Daten\n",
    "\n",
    "Für kategoriale Daten (z.B. Geschlecht) ersetzen wir die fehlenden Werte durch den häufigsten Wert (Modus)."
   ]
  },
  {
   "cell_type": "code",
   "execution_count": 41,
   "id": "8075ca51-8458-487b-9eb7-955ef3f95063",
   "metadata": {},
   "outputs": [
    {
     "name": "stdout",
     "output_type": "stream",
     "text": [
      "\n",
      "Datensatz nach der Bereinigung fehlender Werte:\n",
      "          age     income  gender\n",
      "0   22.000000    50000.0    male\n",
      "1   25.000000    54000.0  female\n",
      "2   30.000000    58000.0  female\n",
      "3  150.000000  1000000.0  female\n",
      "4  182.857143    61000.0    male\n",
      "5   28.000000    62000.0  female\n",
      "6   26.000000   192000.0  female\n",
      "7  999.000000    59000.0    male\n"
     ]
    }
   ],
   "source": [
    "# Fehlende Werte in der Spalte 'gender' durch den häufigsten Wert ersetzen\n",
    "df['gender'] = df['gender'].fillna(df['gender'].mode()[0])\n",
    "\n",
    "print(\"\\nDatensatz nach der Bereinigung fehlender Werte:\")\n",
    "print(df)"
   ]
  },
  {
   "cell_type": "markdown",
   "id": "0b385d75-b4df-4f00-b275-99b5dd489ece",
   "metadata": {},
   "source": [
    "### Schritt 2: Identifikation von Ausreißern\n",
    "\n",
    "A) Ausreißer in numerischen Daten mit dem z-Score\n",
    "\n",
    "Ein z-Score gibt an, wie weit ein Wert vom Mittelwert entfernt ist. Werte mit einem z-Score größer als 3 oder kleiner als -3 werden als Ausreißer betrachtet.\n"
   ]
  },
  {
   "cell_type": "code",
   "execution_count": 54,
   "id": "b15ded7b-078c-4b0c-9a29-dc9b55da111b",
   "metadata": {},
   "outputs": [
    {
     "name": "stdout",
     "output_type": "stream",
     "text": [
      "\n",
      "Ausreißer in der Spalte 'age' (z-Score):\n",
      "     age   income gender  age_zscore\n",
      "7  999.0  59000.0   male    2.429549\n"
     ]
    }
   ],
   "source": [
    "# Berechnung des z-Scores für die Spalte 'age'\n",
    "df['age_zscore'] = (df['age'] - df['age'].mean()) / df['age'].std()\n",
    "\n",
    "# Anzeigen von Zeilen, in denen 'age' ein Ausreißer ist (z-Score > 2 oder < -2)\n",
    "outliers_age = df[np.abs(df['age_zscore']) > 2]\n",
    "print(\"\\nAusreißer in der Spalte 'age' (z-Score):\")\n",
    "print(outliers_age)"
   ]
  },
  {
   "cell_type": "markdown",
   "id": "16e8ecd7-728c-4abd-8c43-dc33dca1eb5c",
   "metadata": {},
   "source": [
    "- Berechnung des z-Scores für die `age`-Spalte und Speichern in einer neuen Spalte `age_zscore`\n",
    "\n",
    "- Identifikation der Ausreißer:\n",
    "  - `outliers_age = df[np.abs(df['age_zscore']) > 2]` wählt alle Zeilen aus, bei denen der z-Score in der `age_zscore`-Spalte größer als 2 oder kleiner als -2 ist."
   ]
  },
  {
   "cell_type": "markdown",
   "id": "963ba97a-4f21-49e9-9849-da63d8e2f076",
   "metadata": {},
   "source": [
    "B) Ausreißer in numerischen Daten mit dem IQR\n",
    "\n",
    "Der Interquartilsabstand (IQR) ist eine Methode, um Ausreißer in numerischen Daten zu erkennen. Werte, die außerhalb des Bereichs von 1,5-mal dem IQR liegen, werden als Ausreißer betrachtet."
   ]
  },
  {
   "cell_type": "code",
   "execution_count": 60,
   "id": "99efdd29-edcd-4267-9065-7bd3605917eb",
   "metadata": {},
   "outputs": [
    {
     "name": "stdout",
     "output_type": "stream",
     "text": [
      "\n",
      "Ausreißer in der Spalte 'income' (IQR):\n",
      "Empty DataFrame\n",
      "Columns: [age, income, gender, age_zscore]\n",
      "Index: []\n"
     ]
    }
   ],
   "source": [
    "# Berechnung des IQR für die Spalte 'income'\n",
    "Q1 = df['income'].quantile(0.25)\n",
    "Q3 = df['income'].quantile(0.75)\n",
    "IQR = Q3 - Q1\n",
    "\n",
    "# Anzeigen von Zeilen, in denen 'income' ein Ausreißer ist (außerhalb des Bereichs von 1,5 * IQR)\n",
    "outliers_income = df[(df['income'] < (Q1 - 1.5 * IQR)) | df['income']> (Q3 + 1.5 * IQR)]\n",
    "print(\"\\nAusreißer in der Spalte 'income' (IQR):\")\n",
    "print(outliers_income)"
   ]
  },
  {
   "cell_type": "markdown",
   "id": "ca7127a9-2bcf-4c65-8f49-ee0b482a2e0b",
   "metadata": {},
   "source": [
    "### Schritt 3: Identifikation von ungewöhnlichen Werten in kategorialen Daten\n",
    "\n",
    "Bei kategorialen Daten können Ausreißer als Werte identifiziert werden, die extrem selten oder falsch eingegeben wurden."
   ]
  },
  {
   "cell_type": "code",
   "execution_count": 63,
   "id": "803ee6c6-b99c-4055-814d-e4ca17c81bca",
   "metadata": {},
   "outputs": [
    {
     "name": "stdout",
     "output_type": "stream",
     "text": [
      "\n",
      "Häufigkeit der Werte in der Spalte 'gender':\n",
      "gender\n",
      "female    5\n",
      "male      3\n",
      "Name: count, dtype: int64\n"
     ]
    }
   ],
   "source": [
    "# Häufigkeit der Werte in der Spalte 'gender' anzeigen\n",
    "print(\"\\nHäufigkeit der Werte in der Spalte 'gender':\")\n",
    "print(df['gender'].value_counts())\n",
    "\n",
    "# Anzeigen von Zeilen, die potenzielle Ausreißer im Geschlecht aufweisen\n",
    "# In diesem Beispiel gibt es keine ungewöhnlichen Werte, da 'male' und 'female' gültige Kategorien sind.\n"
   ]
  },
  {
   "cell_type": "markdown",
   "id": "a470a0c8-9018-4e35-816b-7db3484af5c6",
   "metadata": {},
   "source": [
    "### Erkenntnis\n",
    "\n",
    "- Fehlende Werte wurden durch Mittelwerte (für numerische Daten) und den Modus (für kategoriale Daten) ersetzt.\n",
    "- Ausreißer in numerischen Daten wurden mithilfe von z-Scores und IQR identifiziert.\n",
    "- Kategoriale Ausreißer können durch die Überprüfung der Häufigkeit der Kategorien erkannt werden."
   ]
  }
 ],
 "metadata": {
  "kernelspec": {
   "display_name": "Python 3 (ipykernel)",
   "language": "python",
   "name": "python3"
  },
  "language_info": {
   "codemirror_mode": {
    "name": "ipython",
    "version": 3
   },
   "file_extension": ".py",
   "mimetype": "text/x-python",
   "name": "python",
   "nbconvert_exporter": "python",
   "pygments_lexer": "ipython3",
   "version": "3.12.6"
  }
 },
 "nbformat": 4,
 "nbformat_minor": 5
}
