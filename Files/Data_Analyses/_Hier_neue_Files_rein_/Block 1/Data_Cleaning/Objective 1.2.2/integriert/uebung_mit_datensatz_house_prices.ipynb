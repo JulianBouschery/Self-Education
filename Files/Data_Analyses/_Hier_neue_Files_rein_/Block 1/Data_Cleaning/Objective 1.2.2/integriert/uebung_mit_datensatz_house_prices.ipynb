{
 "cells": [
  {
   "cell_type": "markdown",
   "id": "161e24a9-09f5-4d0d-8180-abd819613032",
   "metadata": {},
   "source": [
    "# Diagnose und Bereinigung von Datenfehlern mit Python\n",
    "\n",
    "In dem Datensatz sollen fehlende Werte diagnostiziert, falsche Werte bereinigt und Duplikate entfernt werden.\n",
    "\n",
    "Link des Datensatzes: <br>\n",
    "https://www.kaggle.com/c/house-prices-advanced-regression-techniques/data"
   ]
  },
  {
   "cell_type": "markdown",
   "id": "563fa2d4-e4e4-4d16-a74e-856572238911",
   "metadata": {},
   "source": [
    "---\n",
    "# 1. Datensatz laden, Überblick verschaffen, fehlende Werte checken, Anzeigeoptionen anpassen"
   ]
  },
  {
   "cell_type": "code",
   "execution_count": 3,
   "id": "35ecf147-bba0-4c63-bf94-566186755da5",
   "metadata": {
    "scrolled": true
   },
   "outputs": [
    {
     "name": "stdout",
     "output_type": "stream",
     "text": [
      "   Id  MSSubClass MSZoning  LotFrontage  LotArea Street Alley LotShape  \\\n",
      "0   1          60       RL         65.0     8450   Pave   NaN      Reg   \n",
      "1   2          20       RL         80.0     9600   Pave   NaN      Reg   \n",
      "2   3          60       RL         68.0    11250   Pave   NaN      IR1   \n",
      "3   4          70       RL         60.0     9550   Pave   NaN      IR1   \n",
      "4   5          60       RL         84.0    14260   Pave   NaN      IR1   \n",
      "\n",
      "  LandContour Utilities LotConfig LandSlope Neighborhood Condition1  \\\n",
      "0         Lvl    AllPub    Inside       Gtl      CollgCr       Norm   \n",
      "1         Lvl    AllPub       FR2       Gtl      Veenker      Feedr   \n",
      "2         Lvl    AllPub    Inside       Gtl      CollgCr       Norm   \n",
      "3         Lvl    AllPub    Corner       Gtl      Crawfor       Norm   \n",
      "4         Lvl    AllPub       FR2       Gtl      NoRidge       Norm   \n",
      "\n",
      "  Condition2 BldgType HouseStyle  OverallQual  OverallCond  YearBuilt  \\\n",
      "0       Norm     1Fam     2Story            7            5       2003   \n",
      "1       Norm     1Fam     1Story            6            8       1976   \n",
      "2       Norm     1Fam     2Story            7            5       2001   \n",
      "3       Norm     1Fam     2Story            7            5       1915   \n",
      "4       Norm     1Fam     2Story            8            5       2000   \n",
      "\n",
      "   YearRemodAdd RoofStyle RoofMatl Exterior1st Exterior2nd MasVnrType  \\\n",
      "0          2003     Gable  CompShg     VinylSd     VinylSd    BrkFace   \n",
      "1          1976     Gable  CompShg     MetalSd     MetalSd        NaN   \n",
      "2          2002     Gable  CompShg     VinylSd     VinylSd    BrkFace   \n",
      "3          1970     Gable  CompShg     Wd Sdng     Wd Shng        NaN   \n",
      "4          2000     Gable  CompShg     VinylSd     VinylSd    BrkFace   \n",
      "\n",
      "   MasVnrArea ExterQual ExterCond Foundation BsmtQual BsmtCond BsmtExposure  \\\n",
      "0       196.0        Gd        TA      PConc       Gd       TA           No   \n",
      "1         0.0        TA        TA     CBlock       Gd       TA           Gd   \n",
      "2       162.0        Gd        TA      PConc       Gd       TA           Mn   \n",
      "3         0.0        TA        TA     BrkTil       TA       Gd           No   \n",
      "4       350.0        Gd        TA      PConc       Gd       TA           Av   \n",
      "\n",
      "  BsmtFinType1  BsmtFinSF1 BsmtFinType2  BsmtFinSF2  BsmtUnfSF  TotalBsmtSF  \\\n",
      "0          GLQ         706          Unf           0        150          856   \n",
      "1          ALQ         978          Unf           0        284         1262   \n",
      "2          GLQ         486          Unf           0        434          920   \n",
      "3          ALQ         216          Unf           0        540          756   \n",
      "4          GLQ         655          Unf           0        490         1145   \n",
      "\n",
      "  Heating HeatingQC CentralAir Electrical  1stFlrSF  2ndFlrSF  LowQualFinSF  \\\n",
      "0    GasA        Ex          Y      SBrkr       856       854             0   \n",
      "1    GasA        Ex          Y      SBrkr      1262         0             0   \n",
      "2    GasA        Ex          Y      SBrkr       920       866             0   \n",
      "3    GasA        Gd          Y      SBrkr       961       756             0   \n",
      "4    GasA        Ex          Y      SBrkr      1145      1053             0   \n",
      "\n",
      "   GrLivArea  BsmtFullBath  BsmtHalfBath  FullBath  HalfBath  BedroomAbvGr  \\\n",
      "0       1710             1             0         2         1             3   \n",
      "1       1262             0             1         2         0             3   \n",
      "2       1786             1             0         2         1             3   \n",
      "3       1717             1             0         1         0             3   \n",
      "4       2198             1             0         2         1             4   \n",
      "\n",
      "   KitchenAbvGr KitchenQual  TotRmsAbvGrd Functional  Fireplaces FireplaceQu  \\\n",
      "0             1          Gd             8        Typ           0         NaN   \n",
      "1             1          TA             6        Typ           1          TA   \n",
      "2             1          Gd             6        Typ           1          TA   \n",
      "3             1          Gd             7        Typ           1          Gd   \n",
      "4             1          Gd             9        Typ           1          TA   \n",
      "\n",
      "  GarageType  GarageYrBlt GarageFinish  GarageCars  GarageArea GarageQual  \\\n",
      "0     Attchd       2003.0          RFn           2         548         TA   \n",
      "1     Attchd       1976.0          RFn           2         460         TA   \n",
      "2     Attchd       2001.0          RFn           2         608         TA   \n",
      "3     Detchd       1998.0          Unf           3         642         TA   \n",
      "4     Attchd       2000.0          RFn           3         836         TA   \n",
      "\n",
      "  GarageCond PavedDrive  WoodDeckSF  OpenPorchSF  EnclosedPorch  3SsnPorch  \\\n",
      "0         TA          Y           0           61              0          0   \n",
      "1         TA          Y         298            0              0          0   \n",
      "2         TA          Y           0           42              0          0   \n",
      "3         TA          Y           0           35            272          0   \n",
      "4         TA          Y         192           84              0          0   \n",
      "\n",
      "   ScreenPorch  PoolArea PoolQC Fence MiscFeature  MiscVal  MoSold  YrSold  \\\n",
      "0            0         0    NaN   NaN         NaN        0       2    2008   \n",
      "1            0         0    NaN   NaN         NaN        0       5    2007   \n",
      "2            0         0    NaN   NaN         NaN        0       9    2008   \n",
      "3            0         0    NaN   NaN         NaN        0       2    2006   \n",
      "4            0         0    NaN   NaN         NaN        0      12    2008   \n",
      "\n",
      "  SaleType SaleCondition  SalePrice  \n",
      "0       WD        Normal     208500  \n",
      "1       WD        Normal     181500  \n",
      "2       WD        Normal     223500  \n",
      "3       WD       Abnorml     140000  \n",
      "4       WD        Normal     250000  \n",
      "\n",
      "Fehlende Werte in den Spalten:\n",
      "Id                  0\n",
      "MSSubClass          0\n",
      "MSZoning            0\n",
      "LotFrontage       259\n",
      "LotArea             0\n",
      "Street              0\n",
      "Alley            1369\n",
      "LotShape            0\n",
      "LandContour         0\n",
      "Utilities           0\n",
      "LotConfig           0\n",
      "LandSlope           0\n",
      "Neighborhood        0\n",
      "Condition1          0\n",
      "Condition2          0\n",
      "BldgType            0\n",
      "HouseStyle          0\n",
      "OverallQual         0\n",
      "OverallCond         0\n",
      "YearBuilt           0\n",
      "YearRemodAdd        0\n",
      "RoofStyle           0\n",
      "RoofMatl            0\n",
      "Exterior1st         0\n",
      "Exterior2nd         0\n",
      "MasVnrType        872\n",
      "MasVnrArea          8\n",
      "ExterQual           0\n",
      "ExterCond           0\n",
      "Foundation          0\n",
      "BsmtQual           37\n",
      "BsmtCond           37\n",
      "BsmtExposure       38\n",
      "BsmtFinType1       37\n",
      "BsmtFinSF1          0\n",
      "BsmtFinType2       38\n",
      "BsmtFinSF2          0\n",
      "BsmtUnfSF           0\n",
      "TotalBsmtSF         0\n",
      "Heating             0\n",
      "HeatingQC           0\n",
      "CentralAir          0\n",
      "Electrical          1\n",
      "1stFlrSF            0\n",
      "2ndFlrSF            0\n",
      "LowQualFinSF        0\n",
      "GrLivArea           0\n",
      "BsmtFullBath        0\n",
      "BsmtHalfBath        0\n",
      "FullBath            0\n",
      "HalfBath            0\n",
      "BedroomAbvGr        0\n",
      "KitchenAbvGr        0\n",
      "KitchenQual         0\n",
      "TotRmsAbvGrd        0\n",
      "Functional          0\n",
      "Fireplaces          0\n",
      "FireplaceQu       690\n",
      "GarageType         81\n",
      "GarageYrBlt        81\n",
      "GarageFinish       81\n",
      "GarageCars          0\n",
      "GarageArea          0\n",
      "GarageQual         81\n",
      "GarageCond         81\n",
      "PavedDrive          0\n",
      "WoodDeckSF          0\n",
      "OpenPorchSF         0\n",
      "EnclosedPorch       0\n",
      "3SsnPorch           0\n",
      "ScreenPorch         0\n",
      "PoolArea            0\n",
      "PoolQC           1453\n",
      "Fence            1179\n",
      "MiscFeature      1406\n",
      "MiscVal             0\n",
      "MoSold              0\n",
      "YrSold              0\n",
      "SaleType            0\n",
      "SaleCondition       0\n",
      "SalePrice           0\n",
      "dtype: int64\n"
     ]
    }
   ],
   "source": [
    "import pandas as pd\n",
    "\n",
    "# Housing-Datensatz laden (CSV-Datei herunterladen und den Pfad anpassen)\n",
    "df = pd.read_csv('train.csv')\n",
    "\n",
    "# Die ersten Zeilen des Datensatzes anzeigen\n",
    "print(df.head())\n",
    "\n",
    "# Überblick über die fehlenden Werte in jeder Spalte\n",
    "print(\"\\nFehlende Werte in den Spalten:\")\n",
    "print(df.isnull().sum())\n",
    "\n",
    "pd.set_option('display.max_rows', None)\n",
    "pd.set_option('display.max_columns', None)"
   ]
  },
  {
   "cell_type": "markdown",
   "id": "86ec2b6d-8800-4a16-a384-43a2b46ac2dc",
   "metadata": {},
   "source": [
    "<br>\n",
    "Der untersten zwei Zeilen Code passen die Anzeigeoptionen von Pandas an, um sicherzustellen, dass alle Zeilen und Spalten eines DataFrames in der Ausgabe angezeigt werden.\n",
    "\n",
    "Diese Einstellungen sind nützlich, wenn ma einen großen DataFrame komplett sehen möchte, ohne dass Pandas Zeilen oder Spalten ausblendet. Allerdings kann das bei sehr großen DataFrames zu einer unübersichtlichen Darstellung führen.\n",
    "\n",
    "<br>\n",
    "\n",
    "**`pd.set_option('display.max_rows', None)`**\n",
    "\n",
    "- standardmäßig zeigt Pandas nur eine begrenzte Anzahl von Zeilen in der Ausgabe eines DataFrames an (normalerweise etwa 60)\n",
    "- hier wird Pandas angewiesen, alle Zeilen eines DataFrames anzuzeigen, indem die Beschränkung auf die maximale Zeilenanzahl entfernt wird\n",
    "- None bedeutet \"keine Begrenzung\"\n",
    "\n",
    "<br>\n",
    "\n",
    "**`pd.set_option('display.max_columns', None)`**\n",
    "\n",
    "- analog dazu hier die Spalten\n"
   ]
  },
  {
   "cell_type": "markdown",
   "id": "6402b9e8-eef5-44a0-808c-1fd60f636c16",
   "metadata": {},
   "source": [
    "---\n",
    "# 2. Umgang mit fehlenden Werten\n",
    "\n",
    "## A. Entfernen von fehlenden Werten"
   ]
  },
  {
   "cell_type": "code",
   "execution_count": null,
   "id": "c5714513-d500-4f47-abf5-c9a22b0afd21",
   "metadata": {},
   "outputs": [],
   "source": [
    "# Entfernen von Zeilen mit fehlenden Werten in der Spalte 'Alley'\n",
    "df_cleaned = df.dropna(subset=['Alley'])\n",
    "\n",
    "# Entfernen von Spalten mit vielen fehlenden Werten (z.B. 'PoolQC')\n",
    "df_cleaned = df.drop(columns=['PoolQC'])\n",
    "\n",
    "print(\"\\nDaten nach dem Entfernen fehlender Werte:\")\n",
    "print(df_cleaned.isnull().sum())"
   ]
  },
  {
   "cell_type": "markdown",
   "id": "6fcbac46-ddfc-47bb-8dab-0966e4a4728f",
   "metadata": {},
   "source": [
    "<br>\n",
    "\n",
    "- `dropna()` entfernt die Zeilen, bei denen in der Spalte 'Alley' fehlende Werte (NaN) vorhanden sind\n",
    "- `subset=['Alley']` gibt an, dass nur die Spalte 'Alley' auf fehlende Werte überprüft wird\n",
    "- Ergebnis ist das DataFrame `df_cleaned`, der nur die Zeilen enthält, in denen die Spalte 'Alley' keine fehlenden Werte hat"
   ]
  },
  {
   "cell_type": "markdown",
   "id": "da52c4d6-a08a-4155-9887-3024becdbfff",
   "metadata": {},
   "source": [
    "## B. Imputation"
   ]
  },
  {
   "cell_type": "code",
   "execution_count": 6,
   "id": "ef5ce236-d8c8-467f-a91e-acc32c60473f",
   "metadata": {
    "scrolled": true
   },
   "outputs": [
    {
     "name": "stdout",
     "output_type": "stream",
     "text": [
      "\n",
      "Daten nach der Imputation fehlender Werte:\n",
      "Id                  0\n",
      "MSSubClass          0\n",
      "MSZoning            0\n",
      "LotFrontage         0\n",
      "LotArea             0\n",
      "Street              0\n",
      "Alley               0\n",
      "LotShape            0\n",
      "LandContour         0\n",
      "Utilities           0\n",
      "LotConfig           0\n",
      "LandSlope           0\n",
      "Neighborhood        0\n",
      "Condition1          0\n",
      "Condition2          0\n",
      "BldgType            0\n",
      "HouseStyle          0\n",
      "OverallQual         0\n",
      "OverallCond         0\n",
      "YearBuilt           0\n",
      "YearRemodAdd        0\n",
      "RoofStyle           0\n",
      "RoofMatl            0\n",
      "Exterior1st         0\n",
      "Exterior2nd         0\n",
      "MasVnrType        872\n",
      "MasVnrArea          8\n",
      "ExterQual           0\n",
      "ExterCond           0\n",
      "Foundation          0\n",
      "BsmtQual           37\n",
      "BsmtCond           37\n",
      "BsmtExposure       38\n",
      "BsmtFinType1       37\n",
      "BsmtFinSF1          0\n",
      "BsmtFinType2       38\n",
      "BsmtFinSF2          0\n",
      "BsmtUnfSF           0\n",
      "TotalBsmtSF         0\n",
      "Heating             0\n",
      "HeatingQC           0\n",
      "CentralAir          0\n",
      "Electrical          1\n",
      "1stFlrSF            0\n",
      "2ndFlrSF            0\n",
      "LowQualFinSF        0\n",
      "GrLivArea           0\n",
      "BsmtFullBath        0\n",
      "BsmtHalfBath        0\n",
      "FullBath            0\n",
      "HalfBath            0\n",
      "BedroomAbvGr        0\n",
      "KitchenAbvGr        0\n",
      "KitchenQual         0\n",
      "TotRmsAbvGrd        0\n",
      "Functional          0\n",
      "Fireplaces          0\n",
      "FireplaceQu       690\n",
      "GarageType         81\n",
      "GarageYrBlt         0\n",
      "GarageFinish       81\n",
      "GarageCars          0\n",
      "GarageArea          0\n",
      "GarageQual         81\n",
      "GarageCond         81\n",
      "PavedDrive          0\n",
      "WoodDeckSF          0\n",
      "OpenPorchSF         0\n",
      "EnclosedPorch       0\n",
      "3SsnPorch           0\n",
      "ScreenPorch         0\n",
      "PoolArea            0\n",
      "PoolQC           1453\n",
      "Fence            1179\n",
      "MiscFeature      1406\n",
      "MiscVal             0\n",
      "MoSold              0\n",
      "YrSold              0\n",
      "SaleType            0\n",
      "SaleCondition       0\n",
      "SalePrice           0\n",
      "dtype: int64\n"
     ]
    }
   ],
   "source": [
    "# Fehlende Werte in der Spalte 'LotFrontage' durch den Mittelwert ersetzen\n",
    "df['LotFrontage'] = df['LotFrontage'].fillna(df['LotFrontage'].mean())\n",
    "\n",
    "# Fehlende Werte in der Spalte 'GarageYrBlt' durch einen Standardwert (z.B. 0 für keine Garage) ersetzen\n",
    "df['GarageYrBlt'] = df['GarageYrBlt'].fillna(0)\n",
    "\n",
    "# Für kategorische Daten wie 'Alley', fehlende Werte mit 'Keine Gasse' füllen\n",
    "df['Alley'] = df['Alley'].fillna('Keine Gasse')\n",
    "\n",
    "print(\"\\nDaten nach der Imputation fehlender Werte:\")\n",
    "print(df.isnull().sum())"
   ]
  },
  {
   "cell_type": "markdown",
   "id": "cf997b72-f858-4e13-9da6-03dcdc3cb17a",
   "metadata": {},
   "source": [
    "- `fillna()` füllt fehlende Werte auf\n",
    "- in erster Zeile mit Mittelwert\n",
    "- in zweiter Zeile mit Standardwert 0\n",
    "- in dritter Zeitle mit kategorischm Wert"
   ]
  },
  {
   "cell_type": "markdown",
   "id": "78420a60-497a-453d-9f85-bf2f02d72560",
   "metadata": {},
   "source": [
    "## C. Duplikate entfernen"
   ]
  },
  {
   "cell_type": "code",
   "execution_count": 8,
   "id": "8f8a38dc-4cce-46f5-8b11-5c3bd48d8131",
   "metadata": {},
   "outputs": [
    {
     "name": "stdout",
     "output_type": "stream",
     "text": [
      "\n",
      "Gibt es noch Duplikate? 0\n"
     ]
    }
   ],
   "source": [
    "# Duplikate im Datensatz überprüfen und entfernen\n",
    "df_cleaned = df.drop_duplicates()\n",
    "print(\"\\nGibt es noch Duplikate?\", df_cleaned.duplicated().sum())"
   ]
  },
  {
   "cell_type": "markdown",
   "id": "4c1dadef-b9ba-4385-8ab0-364fab91ce12",
   "metadata": {},
   "source": [
    "- `drop_duplicates()` entfernt alle Duplikate"
   ]
  },
  {
   "cell_type": "markdown",
   "id": "ff07d52c-b019-43f5-b4bf-7fcc0947cbfd",
   "metadata": {},
   "source": [
    "---\n",
    "# 3. Visualisierung von fehlenden Werten\n",
    "\n",
    "Um einen besseren Überblick über fehlende Daten zu erhalten, kann man Seaborn oder Matplotlib verwenden:"
   ]
  },
  {
   "cell_type": "code",
   "execution_count": 9,
   "id": "f54afb18-bdce-41b4-9472-8be9c401cffa",
   "metadata": {},
   "outputs": [
    {
     "data": {
      "image/png": "[encoded data removed]",
      "text/plain": [
       "<Figure size 640x480 with 1 Axes>"
      ]
     },
     "metadata": {},
     "output_type": "display_data"
    }
   ],
   "source": [
    "import seaborn as sns\n",
    "import matplotlib.pyplot as plt\n",
    "\n",
    "# Visualisierung der fehlenden Werte im Datensatz\n",
    "sns.heatmap(df.isnull(), cbar=False, cmap='viridis')\n",
    "plt.title(\"Fehlende Werte im Housing-Datensatz\")\n",
    "plt.show()"
   ]
  },
  {
   "cell_type": "markdown",
   "id": "a8cab555-36aa-4fa9-bb20-24a1637f62f8",
   "metadata": {},
   "source": [
    "<br>\n",
    "Dieser Code erstellt eine Heatmap, die die Verteilung der fehlenden Werte im DataFrame df zeigt. <br>\n",
    "Jede Zeile entspricht einer Beobachtung (z. B. ein Haus im Housing-Datensatz) und jede Spalte einem Feature. Hellere Bereiche zeigen, wo Werte fehlen.\n",
    "\n",
    "- Seaborn wird für die Visualisierung verwendet\n",
    "- Matplotlib dient als Basis für das Plotten dient\n",
    "\n",
    "- `df.isnull()` erstellt ein DataFrame mit denselben Dimensionen wie df, wobei alle Werte auf True gesetzt werden, wo im Original-DataFrame ein fehlender Wert (NaN) ist, und False, wo kein fehlender Wert vorliegt\n",
    "\n",
    "- sns.heatmap() zeichnet eine Heatmap, bei der:\n",
    "  - jede Zelle im DataFrame visualisiert wird, basierend darauf, ob es sich um einen fehlenden Wert handelt (True = heller Punkt, False = dunkler Punkt)\n",
    "  - `cbar=False` deaktiviert die Anzeige der Farbleiste\n",
    "  - `cmap='viridis'` wählt die \"viridis\"-Farbschema, das von dunklen (keine fehlenden Werte) zu hellen Farben (fehlende Werte) reicht"
   ]
  },
  {
   "cell_type": "markdown",
   "id": "e1fefda1-c5ab-48d5-961b-33d22a1d1b94",
   "metadata": {},
   "source": [
    "---\n",
    "# 4. Umgang mit Datenfehlern und Inkonsistenzen\n",
    "\n",
    "Der Datensatz wird auch auf Inkonsistenzen geprüft, wie z.B. unplausible Werte, und diese zu bereinigen:"
   ]
  },
  {
   "cell_type": "code",
   "execution_count": 10,
   "id": "829e0434-7672-48ee-bf2f-5dc90d80e9f2",
   "metadata": {},
   "outputs": [
    {
     "name": "stdout",
     "output_type": "stream",
     "text": [
      "\n",
      "Überprüfte Daten nach der Bereinigung unplausibler Werte:\n",
      "   YearBuilt  SalePrice\n",
      "0       2003   208500.0\n",
      "1       1976   181500.0\n",
      "2       2001   223500.0\n",
      "3       1915   140000.0\n",
      "4       2000   250000.0\n"
     ]
    },
    {
     "name": "stderr",
     "output_type": "stream",
     "text": [
      "C:\\Users\\Jens-\\AppData\\Local\\Temp\\ipykernel_11932\\2805687469.py:5: FutureWarning: Setting an item of incompatible dtype is deprecated and will raise an error in a future version of pandas. Value '180921.19589041095' has dtype incompatible with int64, please explicitly cast to a compatible dtype first.\n",
      "  df.loc[df['SalePrice'] < 10000, 'SalePrice'] = df['SalePrice'].mean()\n"
     ]
    }
   ],
   "source": [
    "# Unplausible Werte in der Spalte 'YearBuilt' (z.B. Baujahr vor 1800) auf 1900 setzen\n",
    "df.loc[df['YearBuilt'] < 1800, 'YearBuilt'] = 1900\n",
    "\n",
    "# Unplausible Daten in der Spalte 'SalePrice' durch den Mittelwert ersetzen\n",
    "df.loc[df['SalePrice'] < 10000, 'SalePrice'] = df['SalePrice'].mean()\n",
    "\n",
    "print(\"\\nÜberprüfte Daten nach der Bereinigung unplausibler Werte:\")\n",
    "print(df[['YearBuilt', 'SalePrice']].head())"
   ]
  },
  {
   "cell_type": "markdown",
   "id": "9cef0d71-dea4-41e2-993c-c0e4fb7e4fd1",
   "metadata": {},
   "source": [
    "- in der Spalte YearBuilt (Baujahr) werden alle Werte, die vor dem Jahr 1800 liegen, auf das Jahr 1900 gesetzt.\n",
    "- könnte in einem Housing-Datensatz sinnvoll sein, da Baujahre vor 1800 möglicherweise unplausibel oder fehlerhaft sind\n",
    "- `df.loc[]` wählt die Zeilen des DataFrames, bei denen der Wert in der Spalte YearBuilt kleiner als 1800 ist\n",
    "- `= 1900` setzt die entsprechenden unplausiblen Werte auf 1900\n",
    "<br>\n",
    "\n",
    "- in der Spalte SalePrice (Verkaufspreis) werden alle Werte, die kleiner als 10.000 sind, durch den Mittelwert der Spalte ersetzt\n",
    "- nützlich, um extrem niedrige (möglicherweise fehlerhafte) Verkaufspreise zu korrigieren\n",
    "- `df['SalePrice'].mean()` berechnet den Mittelwert aller gültigen Verkaufspreise im DataFrame\n",
    "- Werte unter 10.000 werden durch diesen Mittelwert ersetzt"
   ]
  },
  {
   "cell_type": "code",
   "execution_count": 13,
   "id": "471ef0e4-6fa9-43ed-bce5-f79eabe5e34a",
   "metadata": {},
   "outputs": [
    {
     "name": "stdout",
     "output_type": "stream",
     "text": [
      "Anzahl fehlender Werte pro Spalte:\n",
      "MasVnrType       872\n",
      "MasVnrArea         8\n",
      "BsmtQual          37\n",
      "BsmtCond          37\n",
      "BsmtExposure      38\n",
      "BsmtFinType1      37\n",
      "BsmtFinType2      38\n",
      "Electrical         1\n",
      "FireplaceQu      690\n",
      "GarageType        81\n",
      "GarageFinish      81\n",
      "GarageQual        81\n",
      "GarageCond        81\n",
      "PoolQC          1453\n",
      "Fence           1179\n",
      "MiscFeature     1406\n",
      "dtype: int64\n"
     ]
    }
   ],
   "source": [
    "# Überprüfen, ob in der Spalte fehlende Werte vorhanden sind\n",
    "missing_data = df.isnull().sum()\n",
    "print(\"Anzahl fehlender Werte pro Spalte:\")\n",
    "print(missing_data[missing_data > 0])\n"
   ]
  },
  {
   "cell_type": "markdown",
   "id": "02908a7e-64c1-4d76-b4fd-3991768e1b17",
   "metadata": {},
   "source": [
    "---\n",
    "# 5. Statistische Analyse nach der Datenbereinigung\n",
    "\n",
    "Nach der Bereinigung der Daten können einige grundlegende statistische Analysen durchgeführt werden."
   ]
  },
  {
   "cell_type": "code",
   "execution_count": 14,
   "id": "186d7221-13c7-4ed4-be1b-de37839300f5",
   "metadata": {},
   "outputs": [
    {
     "name": "stdout",
     "output_type": "stream",
     "text": [
      "\n",
      "Durchschnittlicher Verkaufspreis nach Baujahr:\n",
      "YearBuilt\n",
      "1872    122000.00\n",
      "1875     94000.00\n",
      "1880    200619.75\n",
      "1882    168000.00\n",
      "1885    111250.00\n",
      "Name: SalePrice, dtype: float64\n",
      "\n",
      "Durchschnittliche Grundstücksfrontlänge nach Nachbarschaft:\n",
      "Neighborhood\n",
      "Blmngtn    51.185287\n",
      "Blueste    24.000000\n",
      "BrDale     21.562500\n",
      "BrkSide    59.023271\n",
      "ClearCr    76.276763\n",
      "Name: LotFrontage, dtype: float64\n"
     ]
    }
   ],
   "source": [
    "# Durchschnittlicher Verkaufspreis nach Baujahr\n",
    "average_price_by_year = df.groupby('YearBuilt')['SalePrice'].mean()\n",
    "print(\"\\nDurchschnittlicher Verkaufspreis nach Baujahr:\")\n",
    "print(average_price_by_year.head())\n",
    "\n",
    "# Durchschnittlicher LotFrontage-Wert nach Neighborhood\n",
    "average_lot_by_neighborhood = df.groupby('Neighborhood')['LotFrontage'].mean()\n",
    "print(\"\\nDurchschnittliche Grundstücksfrontlänge nach Nachbarschaft:\")\n",
    "print(average_lot_by_neighborhood.head())"
   ]
  },
  {
   "cell_type": "code",
   "execution_count": null,
   "id": "75fe4df0-3e2e-4eae-b865-41ddb5908aa9",
   "metadata": {},
   "outputs": [],
   "source": [
    "<br>\n",
    "In diesem Code werden gruppierte Mittelwerte für zwei verschiedene Merkmale des DataFrames df berechnet."
   ]
  }
 ],
 "metadata": {
  "kernelspec": {
   "display_name": "Python 3 (ipykernel)",
   "language": "python",
   "name": "python3"
  },
  "language_info": {
   "codemirror_mode": {
    "name": "ipython",
    "version": 3
   },
   "file_extension": ".py",
   "mimetype": "text/x-python",
   "name": "python",
   "nbconvert_exporter": "python",
   "pygments_lexer": "ipython3",
   "version": "3.12.6"
  }
 },
 "nbformat": 4,
 "nbformat_minor": 5
}
