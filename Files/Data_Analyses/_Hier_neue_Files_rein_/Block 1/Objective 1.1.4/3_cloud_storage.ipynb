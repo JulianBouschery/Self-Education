{
 "cells": [
  {
   "cell_type": "markdown",
   "id": "995a4fd1-7757-44e3-86dc-74289697b8f4",
   "metadata": {},
   "source": [
    "https://cloud.google.com/learn/what-is-cloud-storage?hl=de"
   ]
  },
  {
   "cell_type": "markdown",
   "id": "3f8b0a90-b041-4954-b37c-5e354894a2aa",
   "metadata": {},
   "source": [
    "# Syllabus\n",
    "\n",
    "Explain the concepts of cloud storage solutions and their growing role in data management."
   ]
  },
  {
   "cell_type": "markdown",
   "id": "015dc845-dc1e-4d1f-97ce-328c714dcb33",
   "metadata": {},
   "source": [
    "# Was ist eine Cloud?\n",
    "\n",
    "Cloud-Speicherlösungen bieten die Möglichkeit, Daten online zu speichern und von überall aus darauf zuzugreifen. Der Anbieter kümmert sich um die Wartung, Skalierung und Sicherheit der Infrastruktur.\n",
    "\n",
    "- **Merkmale**:\n",
    "    - Flexibel: Daten können weltweit von verschiedenen Geräten abgerufen werden\n",
    "    - Skalierbar: Speicherplatz kann dynamisch an die Bedürfnisse angepasst werden\n",
    "    - Kosteneffizient: Pay-as-you-go-Modelle, bei denen nur für den genutzten Speicherplatz gezahlt wird\n",
    "    - Sicherheit: Cloud-Anbieter bieten Sicherheitsfunktionen wie Verschlüsselung und Zugriffssteuerung\n",
    "\n",
    "- **Beispiele**:\n",
    "    - Amazon S3: Speichert Dateien (Objekte) in Buckets. Es wird häufig zur Speicherung von großen unstrukturierten Datenmengen verwendet\n",
    "    - Google Cloud Storage: flexible, skalierbare und dauerhafte Cloud-Speicherlösung für verschiedene Arten von Daten\n",
    "    - Microsoft Azure Blob Storage: bietet die Möglichkeit, unstrukturierte Daten in der Microsoft-Cloud zu speichern.\n",
    "\n",
    "\n",
    "\n",
    "**Beispiel**: Ein Start-up könnte Google Cloud Storage nutzen, um Kundendaten zu speichern, da es einfach skalierbar und kosteneffizient ist.\n",
    "\n",
    "<br>\n",
    "\n",
    "Beispiel in Python (Verbindung zu Amazon S3 (https://aws.amazon.com/de/), kostenpflichtig):"
   ]
  },
  {
   "cell_type": "code",
   "execution_count": 2,
   "id": "e87b054d-c603-4a40-8035-d333cc72c1aa",
   "metadata": {},
   "outputs": [
    {
     "name": "stdout",
     "output_type": "stream",
     "text": [
      "Keine gültigen AWS-Anmeldedaten.\n"
     ]
    }
   ],
   "source": [
    "import boto3\n",
    "from botocore.exceptions import NoCredentialsError\n",
    "\n",
    "# AWS S3-Verbindung herstellen\n",
    "s3 = boto3.client('s3')\n",
    "\n",
    "bucket_name = 'mein-s3-bucket'\n",
    "file_name = 'sales_data.csv'\n",
    "\n",
    "# Datei in einen S3-Bucket hochladen\n",
    "try:\n",
    "    s3.upload_file(file_name, bucket_name, file_name)\n",
    "    print(f'{file_name} erfolgreich in {bucket_name} hochgeladen.')\n",
    "except FileNotFoundError:\n",
    "    print(f'{file_name} nicht gefunden.')\n",
    "except NoCredentialsError:\n",
    "    print('Keine gültigen AWS-Anmeldedaten.')\n"
   ]
  },
  {
   "cell_type": "markdown",
   "id": "2b0bd35a-7d86-49ce-9773-649286b73441",
   "metadata": {},
   "source": [
    "---\n",
    "\n",
    "# Risiken\n",
    "\n",
    "- **Datensicherheitsrisiken:** Daten in der Cloud könnten durch Cyberangriffe oder unbefugten Zugriff gefährdet sein.\n",
    "  - **Minimierung:** Verwendung von Verschlüsselung, Multi-Faktor-Authentifizierung (MFA) und regelmäßigen Sicherheitsupdates.\n",
    "\n",
    "<br>\n",
    "\n",
    "- **Abhängigkeit vom Anbieter:** Bei Ausfällen oder Problemen mit dem Anbieter könnte der Zugriff auf Daten beeinträchtigt werden.\n",
    "  - **Minimierung:** Nutzung von mehreren Cloud-Anbietern (Multi-Cloud-Strategie) und regelmäßige Datensicherungen.\n",
    "\n",
    "<br>\n",
    "\n",
    "- **Compliance-Probleme:** Manche Branchen erfordern strenge Datenschutzbestimmungen, die nicht immer erfüllt werden.\n",
    "  - **Minimierung:** Sicherstellen, dass der Cloud-Anbieter alle rechtlichen und regulatorischen Anforderungen erfüllt (z.B. DSGVO-Konformität)."
   ]
  },
  {
   "cell_type": "code",
   "execution_count": null,
   "id": "88a9f6c7-c3b2-4e98-afa4-c0460762bd98",
   "metadata": {},
   "outputs": [],
   "source": []
  }
 ],
 "metadata": {
  "kernelspec": {
   "display_name": "Python 3 (ipykernel)",
   "language": "python",
   "name": "python3"
  },
  "language_info": {
   "codemirror_mode": {
    "name": "ipython",
    "version": 3
   },
   "file_extension": ".py",
   "mimetype": "text/x-python",
   "name": "python",
   "nbconvert_exporter": "python",
   "pygments_lexer": "ipython3",
   "version": "3.12.6"
  }
 },
 "nbformat": 4,
 "nbformat_minor": 5
}
