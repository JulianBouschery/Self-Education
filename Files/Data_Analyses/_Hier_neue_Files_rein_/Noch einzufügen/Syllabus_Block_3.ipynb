{
 "cells": [
  {
   "cell_type": "markdown",
   "id": "0f997234-13ca-43ec-9d74-3be9c103dcec",
   "metadata": {},
   "source": [
    "\n",
    "\n",
    "### **Deskriptive Statistik:**\n",
    "\n",
    "#### 1. **Objective 3.1.1 – Statistische Maße verstehen und anwenden:**\n",
    "   - **Maße der zentralen Tendenz und Streuung verstehen und beschreiben:**\n",
    "     - Zentrale Tendenz bezieht sich auf die Lage eines Datensatzes und umfasst Kennzahlen wie den **Mittelwert**, den **Median** und den **Modus**.\n",
    "     - **Streuungsmaße** beschreiben, wie weit die Werte eines Datensatzes vom Durchschnitt abweichen. Zu diesen gehören die **Varianz**, die **Standardabweichung** und die **Spannweite**.\n",
    "   - **Identifizierung von grundlegenden statistischen Verteilungen (z. B. Gauß, Uniform):**\n",
    "     - **Gaußsche Verteilung** (Normalverteilung): Häufig verwendet in der Statistik, da viele natürliche Phänomene normalverteilt sind. Die Glockenkurve ist symmetrisch, und der Mittelwert, Median und Modus fallen zusammen.\n",
    "     - **Uniforme Verteilung:** Alle Werte haben die gleiche Wahrscheinlichkeit. Diese Verteilung wird oft verwendet, wenn alle möglichen Ausgänge eines Zufallsexperiments gleich wahrscheinlich sind.\n",
    "   - **Anwendung von Konfidenzmaßen zur Bewertung der Zuverlässigkeit von Daten:**\n",
    "     - **Konfidenzintervalle** bieten einen Bereich, in dem der wahre Wert eines Parameters mit einer bestimmten Wahrscheinlichkeit liegt (z. B. 95 % Konfidenzintervall).\n",
    "     - Diese Maßzahlen sind wichtig, um die Präzision und Zuverlässigkeit statistischer Schätzungen zu bewerten.\n",
    "\n",
    "#### 2. **Objective 3.1.2 – Analyse und Bewertung von Datenbeziehungen:**\n",
    "   - **Datensätze analysieren, um Ausreißer zu identifizieren und Korrelationen zu bewerten:**\n",
    "     - **Ausreißer** sind Werte, die sich stark vom Rest der Daten unterscheiden. Sie können die Ergebnisse von statistischen Analysen verfälschen.\n",
    "     - **Pearson's R-Koeffizient** misst die lineare Beziehung zwischen zwei Variablen. Ein Wert von +1 zeigt eine perfekte positive Korrelation, -1 eine perfekte negative Korrelation und 0 keine Korrelation.\n",
    "   - **Informationen aus Diagrammen interpretieren und bewerten:**\n",
    "     - **Boxplots:** Zeigen die Verteilung eines Datensatzes und ermöglichen das Erkennen von Ausreißern.\n",
    "     - **Histogramme:** Visualisieren die Verteilung von Datenwerten in festgelegte Intervalle.\n",
    "     - **Scatterplots:** Veranschaulichen die Beziehung zwischen zwei numerischen Variablen.\n",
    "     - **Linienplots:** Zeigen Veränderungen über die Zeit.\n",
    "     - **Korrelations-Heatmaps:** Visualisieren die Stärke der Beziehungen zwischen verschiedenen Variablen in einer farbcodierten Matrix.\n",
    "\n",
    "### **Inferenzstatistik:**\n",
    "\n",
    "#### 3. **Objective 3.2.1 – Bootstrapping für Stichprobenverteilungen verstehen und anwenden:**\n",
    "   - **Theoretische Grundlagen und statistische Prinzipien des Bootstrappings verstehen:**\n",
    "     - **Bootstrapping** ist eine Methode, bei der wiederholt Stichproben aus einem Datensatz gezogen werden (mit Zurücklegen), um die Stichprobenverteilung eines Parameters zu schätzen. Es ist besonders nützlich, wenn die Verteilung des Parameters unbekannt ist.\n",
    "   - **Unterscheidung zwischen diskreten und kontinuierlichen Datentypen im Kontext des Bootstrappings:**\n",
    "     - **Diskrete Daten** sind zählbare, ganze Werte (z. B. Anzahl der Autos in einem Parkhaus).\n",
    "     - **Kontinuierliche Daten** können jeden Wert innerhalb eines Bereichs annehmen (z. B. die Größe einer Person).\n",
    "   - **Situationen erkennen, in denen Bootstrapping effektiv ist:**\n",
    "     - Bootstrapping ist besonders nützlich, wenn die Größe der Stichprobe klein ist oder wenn die Verteilung der Daten nicht bekannt ist.\n",
    "   - **Anwendung des Bootstrappings mit Python zur Generierung und Analyse von Stichprobenverteilungen:**\n",
    "     - Python-Bibliotheken wie **NumPy** und **SciPy** bieten Funktionen zur Durchführung von Bootstrapping. Es wird verwendet, um Konfidenzintervalle oder Standardfehler zu schätzen.\n",
    "   - **Analyse der Zuverlässigkeit und Gültigkeit von Ergebnissen, die durch Bootstrapping erzielt wurden:**\n",
    "     - Es ist wichtig, die Annahmen und Grenzen von Bootstrapping zu verstehen, wie z. B. die Repräsentativität der Daten, um verlässliche und valide Ergebnisse zu erzielen.\n",
    "\n",
    "#### 4. **Objective 3.2.2 – Wann und wie man lineare und logistische Regression anwendet:**\n",
    "   - **Theorie, Annahmen und mathematische Grundlage der linearen Regression verstehen:**\n",
    "     - **Lineare Regression** modelliert die Beziehung zwischen einer abhängigen und einer oder mehreren unabhängigen Variablen. Es wird davon ausgegangen, dass diese Beziehung linear ist.\n",
    "   - **Konzepte und Anwendungsfälle der logistischen Regression erklären:**\n",
    "     - **Logistische Regression** wird verwendet, wenn die abhängige Variable kategorisch ist (z. B. Ja/Nein). Sie schätzt die Wahrscheinlichkeit eines Ereignisses auf Basis der unabhängigen Variablen.\n",
    "   - **Fähigkeit entwickeln, zwischen linearer und logistischer Regression zu wählen:**\n",
    "     - **Lineare Regression** wird verwendet, wenn die abhängige Variable kontinuierlich ist (z. B. Temperatur).\n",
    "     - **Logistische Regression** wird verwendet, wenn die abhängige Variable diskret ist (z. B. Kaufentscheidung: Ja/Nein).\n",
    "   - **Anwendung der Konzepte von diskreten und kontinuierlichen Daten bei der Auswahl und Implementierung von Regressionsmodellen:**\n",
    "     - Die Art der abhängigen Variablen (diskret oder kontinuierlich) bestimmt, ob ein lineares oder logisches Regressionsmodell verwendet wird.\n",
    "   - **Anwendung von Regressionsmodellen in Python, einschließlich Parameterschätzung und Modellanpassung:**\n",
    "     - Mit **Python-Bibliotheken** wie **Statsmodels** oder **Scikit-learn** können lineare und logistische Regressionsmodelle erstellt, angepasst und analysiert werden.\n",
    "   - **Interpretation der Ergebnisse von Regressionsanalysen:**\n",
    "     - Die **Koeffizienten** geben die Richtung und Stärke der Beziehung zwischen den Variablen an. Weitere Statistiken wie der **R²-Wert** und der **p-Wert** zeigen die Güte und Signifikanz des Modells.\n",
    "   - **Erkennen von Einschränkungen, Annahmen und potenziellen Verzerrungen in Regressionsmodellen:**\n",
    "     - Wichtige Annahmen bei der linearen Regression sind Homoskedastizität (gleiche Varianz der Fehler), Normalverteilung der Residuen und keine Multikollinearität. Bei Verletzung dieser Annahmen kann das Modell unzuverlässig sein.\n",
    "\n",
    "Diese Zusammenfassung sollte dir einen guten Überblick über die genannten Punkte geben!"
   ]
  },
  {
   "cell_type": "code",
   "execution_count": null,
   "id": "dce35869-31d3-40b0-bae5-692cb08ca5fc",
   "metadata": {},
   "outputs": [],
   "source": []
  }
 ],
 "metadata": {
  "kernelspec": {
   "display_name": "Python 3 (ipykernel)",
   "language": "python",
   "name": "python3"
  },
  "language_info": {
   "codemirror_mode": {
    "name": "ipython",
    "version": 3
   },
   "file_extension": ".py",
   "mimetype": "text/x-python",
   "name": "python",
   "nbconvert_exporter": "python",
   "pygments_lexer": "ipython3",
   "version": "3.12.6"
  }
 },
 "nbformat": 4,
 "nbformat_minor": 5
}
