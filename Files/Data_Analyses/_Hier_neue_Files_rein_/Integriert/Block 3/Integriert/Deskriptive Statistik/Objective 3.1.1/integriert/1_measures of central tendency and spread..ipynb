{
 "cells": [
  {
   "cell_type": "markdown",
   "id": "459f5c2a-cf98-465c-930d-e6002fe6c7c8",
   "metadata": {},
   "source": [
    "# Anforderung laut Syllabus\n",
    "\n",
    "Understand and describe measures of central tendency and spread."
   ]
  },
  {
   "cell_type": "markdown",
   "id": "a84ef096-77e9-41ff-9f7e-0fd5ebdca97f",
   "metadata": {},
   "source": [
    "- statistische Kennzahlen\n",
    "- werden verwendet, um zentrale Tendenzen und die Streuung einer Datenverteilung zu beschreiben\n",
    "- diese Kennzahlen helfen dabei, ein besseres Verständnis über den typischen Wert (Mitte) und die Variabilität (Verteilung) der Daten zu erhalten"
   ]
  },
  {
   "cell_type": "code",
   "execution_count": 4,
   "id": "a98c6e6c-341e-427b-a912-93d83729409e",
   "metadata": {},
   "outputs": [
    {
     "data": {
      "text/html": [
       "<div>\n",
       "<style scoped>\n",
       "    .dataframe tbody tr th:only-of-type {\n",
       "        vertical-align: middle;\n",
       "    }\n",
       "\n",
       "    .dataframe tbody tr th {\n",
       "        vertical-align: top;\n",
       "    }\n",
       "\n",
       "    .dataframe thead th {\n",
       "        text-align: right;\n",
       "    }\n",
       "</style>\n",
       "<table border=\"1\" class=\"dataframe\">\n",
       "  <thead>\n",
       "    <tr style=\"text-align: right;\">\n",
       "      <th></th>\n",
       "      <th>Alter</th>\n",
       "      <th>Einkommen</th>\n",
       "      <th>Arbeitsstunden_pro_Woche</th>\n",
       "    </tr>\n",
       "  </thead>\n",
       "  <tbody>\n",
       "    <tr>\n",
       "      <th>count</th>\n",
       "      <td>10.000000</td>\n",
       "      <td>10.000000</td>\n",
       "      <td>10.000000</td>\n",
       "    </tr>\n",
       "    <tr>\n",
       "      <th>mean</th>\n",
       "      <td>35.300000</td>\n",
       "      <td>41000.000000</td>\n",
       "      <td>45.800000</td>\n",
       "    </tr>\n",
       "    <tr>\n",
       "      <th>std</th>\n",
       "      <td>8.340663</td>\n",
       "      <td>9899.494937</td>\n",
       "      <td>7.345445</td>\n",
       "    </tr>\n",
       "    <tr>\n",
       "      <th>min</th>\n",
       "      <td>23.000000</td>\n",
       "      <td>30000.000000</td>\n",
       "      <td>38.000000</td>\n",
       "    </tr>\n",
       "    <tr>\n",
       "      <th>25%</th>\n",
       "      <td>29.500000</td>\n",
       "      <td>32750.000000</td>\n",
       "      <td>40.000000</td>\n",
       "    </tr>\n",
       "    <tr>\n",
       "      <th>50%</th>\n",
       "      <td>34.000000</td>\n",
       "      <td>39000.000000</td>\n",
       "      <td>43.500000</td>\n",
       "    </tr>\n",
       "    <tr>\n",
       "      <th>75%</th>\n",
       "      <td>40.750000</td>\n",
       "      <td>46500.000000</td>\n",
       "      <td>49.500000</td>\n",
       "    </tr>\n",
       "    <tr>\n",
       "      <th>max</th>\n",
       "      <td>50.000000</td>\n",
       "      <td>60000.000000</td>\n",
       "      <td>60.000000</td>\n",
       "    </tr>\n",
       "  </tbody>\n",
       "</table>\n",
       "</div>"
      ],
      "text/plain": [
       "           Alter     Einkommen  Arbeitsstunden_pro_Woche\n",
       "count  10.000000     10.000000                 10.000000\n",
       "mean   35.300000  41000.000000                 45.800000\n",
       "std     8.340663   9899.494937                  7.345445\n",
       "min    23.000000  30000.000000                 38.000000\n",
       "25%    29.500000  32750.000000                 40.000000\n",
       "50%    34.000000  39000.000000                 43.500000\n",
       "75%    40.750000  46500.000000                 49.500000\n",
       "max    50.000000  60000.000000                 60.000000"
      ]
     },
     "execution_count": 4,
     "metadata": {},
     "output_type": "execute_result"
    }
   ],
   "source": [
    "# Beispieldatensatz\n",
    "\n",
    "import numpy as np\n",
    "import pandas as pd\n",
    "\n",
    "# Beispiel-Daten\n",
    "data = {\n",
    "    'Alter': [23, 45, 31, 35, 50, 42, 29, 37, 33, 28],\n",
    "    'Einkommen': [30000, 45000, 32000, 40000, 60000, 52000, 31000, 47000, 35000, 38000],\n",
    "    'Arbeitsstunden_pro_Woche': [40, 50, 40, 38, 60, 55, 40, 48, 42, 45]\n",
    "}\n",
    "\n",
    "df = pd.DataFrame(data)\n",
    "df.describe()"
   ]
  },
  {
   "cell_type": "markdown",
   "id": "bc59209b-b19f-4c17-9aa7-4523b67b21e5",
   "metadata": {},
   "source": [
    "Interpretation der Ergebnisse\n",
    "\n",
    "    Anzahl (count): Anzahl der Werte  \n",
    "    Mittelwert (mean): Der durchschnittliche Wert jeder Spalte.\n",
    "    Standardabweichung (std): Wie stark die Datenpunkte vom Mittelwert abweichen.\n",
    "    Minimum (min): Der kleinste Wert jeder Spalte.\n",
    "    25% (1. Quartil): 25% der Werte sind kleiner als dieser Wert.\n",
    "    Median (50%): Der mittlere Wert der Daten. 50% der Werte liegen darunter, 50% darüber.\n",
    "    Maximum (max): Der größte Wert jeder Spalte.\n",
    "\n"
   ]
  },
  {
   "cell_type": "markdown",
   "id": "34e0bb08-0202-42d2-840e-6ab3d40f66db",
   "metadata": {},
   "source": [
    "---\n",
    "<a id=\"masse_der_zentralen_tendenz\"></a>\n",
    "# Maße der zentralen Tendenz \n",
    "(Measures of Central Tendency)  \n",
    "\n",
    "Diese Kennzahlen geben an, wo sich der \"Mittelwert\" der Daten befindet, also welcher Wert am repräsentativsten ist:"
   ]
  },
  {
   "cell_type": "markdown",
   "id": "0f4ed1b8-77bf-4ada-a126-bc54da24772c",
   "metadata": {},
   "source": [
    "## 1. Mittelwert (Mean)\n",
    "- Durchschnittswert aller Datenpunkte\n",
    "- berechnet durch: Summe aller Werte, geteilt durch Anzahl der Werte"
   ]
  },
  {
   "cell_type": "code",
   "execution_count": 6,
   "id": "e577fadc-c08c-4b23-8b19-360b4438d831",
   "metadata": {},
   "outputs": [
    {
     "data": {
      "text/plain": [
       "Alter                          35.3\n",
       "Einkommen                   41000.0\n",
       "Arbeitsstunden_pro_Woche       45.8\n",
       "dtype: float64"
      ]
     },
     "execution_count": 6,
     "metadata": {},
     "output_type": "execute_result"
    }
   ],
   "source": [
    "mittelwert = df.mean()\n",
    "mittelwert"
   ]
  },
  {
   "cell_type": "markdown",
   "id": "2941e093-afae-4272-b51b-5eb3363d5ba6",
   "metadata": {},
   "source": [
    "## 2. Median (= 2. Quartil)\n",
    "- der mittlere Wert, wenn die Daten der Größe nach sortiert werden\n",
    "- teilt den Datensatz in 2 gleichgroße Hälften:\n",
    "    - 50% der Daten < Median\n",
    "    - 50% der Daten > Median\n",
    "- bei ungerader Anzahl von Datenpunkten ist es der mittlere Wert\n",
    "- bei gerader Anzahl von Datenpunkten das arithmetische Mittel der beiden mittleren Werte"
   ]
  },
  {
   "cell_type": "code",
   "execution_count": 10,
   "id": "5117f85e-6e80-46e0-bb81-f74cff77d54f",
   "metadata": {},
   "outputs": [
    {
     "data": {
      "text/plain": [
       "Alter                          34.0\n",
       "Einkommen                   39000.0\n",
       "Arbeitsstunden_pro_Woche       43.5\n",
       "dtype: float64"
      ]
     },
     "execution_count": 10,
     "metadata": {},
     "output_type": "execute_result"
    }
   ],
   "source": [
    "median = df.median()\n",
    "median\n",
    "\n",
    "# alternativ auch\n",
    "median = df.quantile(0.5)\n",
    "median"
   ]
  },
  {
   "cell_type": "markdown",
   "id": "0cb5c0b6-7531-4fe3-9009-7ffce504daf8",
   "metadata": {},
   "source": [
    "## 3. Modus (Mode)\n",
    "- der am häufigsten vorkommende Wert in einem Datensatz\n",
    "- es kann auch mehrere Modi geben, wenn mehrere Werte gleich oft auftreten"
   ]
  },
  {
   "cell_type": "markdown",
   "id": "14f4d572-69b3-42b4-82d8-48b98c23f10c",
   "metadata": {},
   "source": [
    "## 4. Quartile\n",
    "\n",
    "- 1. Quartil:\n",
    "     - 25% der Daten < 1. Quartil\n",
    "     - 75% der Daten > 1. Quartil\n",
    "- 2. Quartil:  \n",
    "      -> Median\n",
    "- 3. Quartil:\n",
    "     - 75% der Daten < 3. Quartil\n",
    "     - 25% der Daten > 3. Quartil"
   ]
  },
  {
   "cell_type": "code",
   "execution_count": 19,
   "id": "331f1a4e-46dd-45e0-ac8e-a3916088b890",
   "metadata": {},
   "outputs": [
    {
     "data": {
      "text/plain": [
       "Alter                          40.75\n",
       "Einkommen                   46500.00\n",
       "Arbeitsstunden_pro_Woche       49.50\n",
       "Name: 0.75, dtype: float64"
      ]
     },
     "execution_count": 19,
     "metadata": {},
     "output_type": "execute_result"
    }
   ],
   "source": [
    "# z.B. 3. Quartil\n",
    "q3 = df.quantile(0.75)\n",
    "q3"
   ]
  },
  {
   "cell_type": "markdown",
   "id": "9ada3506-527f-41cd-9bf0-290167176a87",
   "metadata": {},
   "source": [
    "---\n",
    "<a id=\"masse_der_streuung\"></a>\n",
    "# Maße der Streuung\n",
    "(masures of Spread)  \n",
    "\n",
    "- zeigen, wie stark die Datenwerte um den Mittelwert variieren\n",
    "  \n",
    "## 1. Spannweite (Range)\n",
    "- Differenz zwischen Minimum und Maximum"
   ]
  },
  {
   "cell_type": "code",
   "execution_count": 11,
   "id": "d03d073e-787e-4003-9743-26e7d390368c",
   "metadata": {},
   "outputs": [
    {
     "data": {
      "text/plain": [
       "Alter                          27\n",
       "Einkommen                   30000\n",
       "Arbeitsstunden_pro_Woche       22\n",
       "dtype: int64"
      ]
     },
     "execution_count": 11,
     "metadata": {},
     "output_type": "execute_result"
    }
   ],
   "source": [
    "spannweite = df.max()-df.min()\n",
    "spannweite"
   ]
  },
  {
   "cell_type": "markdown",
   "id": "47e4aa4d-7f38-4da0-be55-032cc8c22881",
   "metadata": {},
   "source": [
    "## 2. Varianz\n",
    "- Maß für die durchschnittliche quadratische Abweichung der Werte vom Mittelwert\n",
    "- gibt an, wie stark die Werte um den Mittelwert streuen"
   ]
  },
  {
   "cell_type": "markdown",
   "id": "0c51e410-ca23-4f59-8d54-e9dc249a8a01",
   "metadata": {},
   "source": [
    "## 3. Standardabweichung (Standard Deviation)\n",
    "- Wurzel aus der Varianz\n",
    "- gibt an, wie weit die Datenwerte im Durchschnitt vom Mittelwert entfernt sind\n",
    "\n",
    "siehe Datei 'Grundbegriffe'"
   ]
  },
  {
   "cell_type": "code",
   "execution_count": 18,
   "id": "f6d8f9ce-6fee-46c5-ad76-d24fa6d86263",
   "metadata": {},
   "outputs": [
    {
     "data": {
      "text/plain": [
       "Alter                          8.340663\n",
       "Einkommen                   9899.494937\n",
       "Arbeitsstunden_pro_Woche       7.345445\n",
       "dtype: float64"
      ]
     },
     "execution_count": 18,
     "metadata": {},
     "output_type": "execute_result"
    }
   ],
   "source": [
    "std = df.std()\n",
    "std"
   ]
  },
  {
   "cell_type": "markdown",
   "id": "73419962-b409-40b4-a182-efa67e779a2d",
   "metadata": {},
   "source": [
    "## 4. Interquartilsabstand (Interquartile Range, IQR)\n",
    "- Differenz zwischen dem 75. und dem 25. Perzentil (Q3 - Q1)\n",
    "- zeigt die Streuung der mittleren 50 % der Datenpunkte\n",
    "- ist weniger anfällig für Ausreißer"
   ]
  },
  {
   "cell_type": "code",
   "execution_count": null,
   "id": "afdd5ac8-6fcb-44fd-815a-910bacb64daf",
   "metadata": {},
   "outputs": [],
   "source": []
  }
 ],
 "metadata": {
  "kernelspec": {
   "display_name": "Python 3 (ipykernel)",
   "language": "python",
   "name": "python3"
  },
  "language_info": {
   "codemirror_mode": {
    "name": "ipython",
    "version": 3
   },
   "file_extension": ".py",
   "mimetype": "text/x-python",
   "name": "python",
   "nbconvert_exporter": "python",
   "pygments_lexer": "ipython3",
   "version": "3.12.6"
  }
 },
 "nbformat": 4,
 "nbformat_minor": 5
}
