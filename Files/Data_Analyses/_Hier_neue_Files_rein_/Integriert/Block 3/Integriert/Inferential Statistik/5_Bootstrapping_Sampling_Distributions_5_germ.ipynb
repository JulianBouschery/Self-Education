{
 "cells": [
  {
   "cell_type": "markdown",
   "id": "d27339b4",
   "metadata": {},
   "source": [
    "# Bootstrapping und Stichprobenverteilungen in Python"
   ]
  },
  {
   "cell_type": "markdown",
   "id": "f92d28ab",
   "metadata": {},
   "source": [
    "## 1. Einführung in Bootstrapping\n",
    "Bootstrapping ist eine leistungsstarke statistische Methode, um die Stichprobenverteilung einer Statistik zu schätzen, indem man wiederholt Stichproben mit Zurücklegen aus den Originaldaten zieht. Es wird häufig verwendet, wenn die Annahmen traditioneller parametrischer Methoden schwer zu erfüllen sind oder die Stichprobengröße klein ist."
   ]
  },
  {
   "cell_type": "markdown",
   "id": "f87cd9bd",
   "metadata": {},
   "source": [
    "[Bootstrapping-Verfahren auf Wikipedia](https://de.wikipedia.org/wiki/Bootstrapping-Verfahren)\n"
   ]
  },
  {
   "cell_type": "markdown",
   "id": "10f5f385",
   "metadata": {},
   "source": [
    "## 2. Theorie und statistische Prinzipien des Bootstrappings\n",
    "Bootstrapping funktioniert, indem man wiederholt zufällig (mit Zurücklegen) aus dem Datensatz Stichproben zieht, um mehrere resampelte Datensätze zu erstellen. Anschließend können Statistiken wie Mittelwert, Varianz oder Konfidenzintervalle auf Basis dieser resampelten Datensätze berechnet werden."
   ]
  },
  {
   "cell_type": "code",
   "execution_count": 1,
   "id": "1a283e86",
   "metadata": {},
   "outputs": [
    {
     "name": "stdout",
     "output_type": "stream",
     "text": [
      "Bootstrap-Mittelwerte: [165.42857143 165.         163.57142857 169.71428571 171.85714286\n",
      " 167.85714286 170.14285714 172.57142857 166.57142857 165.        ]\n"
     ]
    }
   ],
   "source": [
    "import numpy as np\n",
    "\n",
    "# Originaldatensatz (Größen in cm)\n",
    "data = np.array([170, 165, 180, 175, 160, 155, 168])\n",
    "\n",
    "# Bootstrapping-Funktion, um Resamples zu erstellen\n",
    "def bootstrap(data, n_resamples):\n",
    "    resamples = np.random.choice(data, size=(n_resamples, len(data)), replace=True)\n",
    "    return resamples\n",
    "\n",
    "# Erstelle 1000 bootstrapped Stichproben\n",
    "boot_samples = bootstrap(data, 1000)\n",
    "\n",
    "# Berechne den Mittelwert jeder Stichprobe\n",
    "boot_means = np.mean(boot_samples, axis=1)\n",
    "\n",
    "print(\"Bootstrap-Mittelwerte:\", boot_means[:10])  # Zeige die ersten 10 Mittelwerte"
   ]
  },
  {
   "cell_type": "markdown",
   "id": "9f327244",
   "metadata": {},
   "source": [
    "## 3. Bootstrapping für diskrete und kontinuierliche Daten\n",
    "Bootstrapping kann sowohl auf diskrete als auch auf kontinuierliche Daten angewendet werden. Hier ist ein Beispiel für beide Typen."
   ]
  },
  {
   "cell_type": "code",
   "execution_count": 2,
   "id": "0e9cd134",
   "metadata": {},
   "outputs": [
    {
     "name": "stdout",
     "output_type": "stream",
     "text": [
      "Diskrete Daten bootstrapped Mittelwerte: [1.85714286 2.85714286 2.28571429 2.         2.42857143]\n",
      "Kontinuierliche Daten bootstrapped Mittelwerte: [165.18571429 167.54285714 172.02857143 159.92857143 166.24285714]\n"
     ]
    }
   ],
   "source": [
    "# Diskrete Daten (z.B. Anzahl defekter Artikel in Chargen)\n",
    "discrete_data = np.array([2, 3, 1, 4, 0, 3, 2])\n",
    "\n",
    "# Kontinuierliche Daten (Größen von Individuen in cm)\n",
    "continuous_data = np.array([170.5, 165.2, 180.1, 175.8, 160.0, 155.3, 168.4])\n",
    "\n",
    "# Wende Bootstrapping auf beide Datensätze an\n",
    "boot_discrete = bootstrap(discrete_data, 1000)\n",
    "boot_continuous = bootstrap(continuous_data, 1000)\n",
    "\n",
    "# Berechne den Mittelwert jeder bootstrapped Stichprobe\n",
    "discrete_means = np.mean(boot_discrete, axis=1)\n",
    "continuous_means = np.mean(boot_continuous, axis=1)\n",
    "\n",
    "print(\"Diskrete Daten bootstrapped Mittelwerte:\", discrete_means[:5])\n",
    "print(\"Kontinuierliche Daten bootstrapped Mittelwerte:\", continuous_means[:5])"
   ]
  },
  {
   "cell_type": "markdown",
   "id": "255450a6",
   "metadata": {},
   "source": [
    "## 4. Wann ist Bootstrapping effektiv?\n",
    "Bootstrapping ist besonders nützlich, wenn die Daten die Annahmen traditioneller parametrischer Tests nicht erfüllen, z.B. wenn die Daten verzerrt sind oder die Stichprobengröße klein ist."
   ]
  },
  {
   "cell_type": "code",
   "execution_count": 3,
   "id": "760bde9f",
   "metadata": {},
   "outputs": [
    {
     "data": {
      "image/png": "[encoded data removed]",
      "text/plain": [
       "<Figure size 640x480 with 1 Axes>"
      ]
     },
     "metadata": {},
     "output_type": "display_data"
    }
   ],
   "source": [
    "import matplotlib.pyplot as plt  # Richtiges Importieren von pyplot\n",
    "\n",
    "# Plot der Verteilung der bootstrapped Mittelwerte\n",
    "plt.hist(boot_means, bins=30, edgecolor='k', alpha=0.7)\n",
    "plt.title('Verteilung der bootstrapped Mittelwerte')\n",
    "plt.xlabel('Mittelwert')\n",
    "plt.ylabel('Häufigkeit')\n",
    "plt.show()"
   ]
  },
  {
   "cell_type": "markdown",
   "id": "1728a77b",
   "metadata": {},
   "source": [
    "## 5. Analyse der bootstrapped Stichprobenverteilungen\n",
    "Mit bootstrapped Stichproben können wir wichtige Statistiken wie Konfidenzintervalle schätzen. Hier ist ein Beispiel, wie man ein 95% Konfidenzintervall aus den bootstrapped Mittelwerten berechnet."
   ]
  },
  {
   "cell_type": "code",
   "execution_count": 4,
   "id": "f3f879d7",
   "metadata": {},
   "outputs": [
    {
     "name": "stdout",
     "output_type": "stream",
     "text": [
      "95%-Konfidenzintervall für den Mittelwert: [162.13571428571427, 173.28571428571428]\n"
     ]
    }
   ],
   "source": [
    "# Berechne das 95%-Konfidenzintervall aus den bootstrapped Mittelwerten\n",
    "lower_bound = np.percentile(boot_means, 2.5)\n",
    "upper_bound = np.percentile(boot_means, 97.5)\n",
    "\n",
    "print(f\"95%-Konfidenzintervall für den Mittelwert: [{lower_bound}, {upper_bound}]\")"
   ]
  },
  {
   "cell_type": "markdown",
   "id": "349b471e",
   "metadata": {},
   "source": [
    "## 6. Zuverlässigkeit und Validität von Bootstrapping\n",
    "Obwohl Bootstrapping ein flexibles und leistungsstarkes Werkzeug ist, hat es auch Einschränkungen. Die Methode setzt voraus, dass die Stichprobendaten repräsentativ für die Population sind, was nicht immer der Fall sein muss. Sie kann auch bei Ausreißern Probleme haben."
   ]
  },
  {
   "cell_type": "code",
   "execution_count": 5,
   "id": "1853a410",
   "metadata": {},
   "outputs": [
    {
     "name": "stdout",
     "output_type": "stream",
     "text": [
      "Varianz der bootstrapped Mittelwerte: 8.898395734693876\n"
     ]
    }
   ],
   "source": [
    "# Variabilität der bootstrapped Mittelwerte\n",
    "boot_variance = np.var(boot_means)\n",
    "print(\"Varianz der bootstrapped Mittelwerte:\", boot_variance)"
   ]
  },
  {
   "cell_type": "markdown",
   "id": "3d2f9a27",
   "metadata": {},
   "source": [
    "## 7. Aufgabe zu Bootstrapping\n",
    "### Datensatz:\n",
    "datensatz = [12, 15, 12, 18, 22, 19, 22, 25, 17, 22, 30, 28, 24, 20, 26] \n",
    "\n",
    "- Ziehen Sie 1000 Bootstrap-Stichproben.\n",
    "- Berechnen Sie den Mittelwert für jede Stichprobe.\n",
    "- Erstellen Sie ein Histogramm der Stichprobenmittelwerte und interpretieren Sie die Verteilung.\n"
   ]
  },
  {
   "cell_type": "code",
   "execution_count": 27,
   "id": "35775f12-89bd-4d17-8f94-f806e0cba4fa",
   "metadata": {},
   "outputs": [
    {
     "name": "stdout",
     "output_type": "stream",
     "text": [
      "[19.4        21.66666667 20.13333333 23.13333333 20.6        22.2\n",
      " 19.86666667 19.8        21.13333333 22.2       ]\n"
     ]
    },
    {
     "data": {
      "image/png": "[encoded data removed]",
      "text/plain": [
       "<Figure size 640x480 with 1 Axes>"
      ]
     },
     "metadata": {},
     "output_type": "display_data"
    }
   ],
   "source": [
    "import numpy as np\n",
    "import matplotlib.pyplot as plt\n",
    "\n",
    "def bootstrap(data, n_resamples):\n",
    "    resamples = np.random.choice(data, size=(n_resamples, len(data)), replace=True)\n",
    "    return resamples\n",
    "\n",
    "data = [12, 15, 12, 18, 22, 19, 22, 25, 17, 22, 30, 28, 24, 20, 26]\n",
    "\n",
    "#data = np.array(data)\n",
    "boot_samples = bootstrap(data, 1000)\n",
    "boot_samples_mean = np.mean(boot_samples, axis=1)\n",
    "print(boot_samples_mean[:10])\n",
    "\n",
    "plt.hist(boot_samples_mean, bins=30, alpha=0.7, edgecolor='k')\n",
    "plt.title('Verteilung der bootstrapped Mittelwerte')\n",
    "plt.xlabel('Mittelwert')\n",
    "plt.ylabel('Häufigkeit')\n",
    "plt.show()"
   ]
  },
  {
   "cell_type": "code",
   "execution_count": null,
   "id": "ff19f088-67ed-4d30-854e-155c72a48d1e",
   "metadata": {},
   "outputs": [],
   "source": []
  }
 ],
 "metadata": {
  "kernelspec": {
   "display_name": "Python 3 (ipykernel)",
   "language": "python",
   "name": "python3"
  },
  "language_info": {
   "codemirror_mode": {
    "name": "ipython",
    "version": 3
   },
   "file_extension": ".py",
   "mimetype": "text/x-python",
   "name": "python",
   "nbconvert_exporter": "python",
   "pygments_lexer": "ipython3",
   "version": "3.12.6"
  }
 },
 "nbformat": 4,
 "nbformat_minor": 5
}
