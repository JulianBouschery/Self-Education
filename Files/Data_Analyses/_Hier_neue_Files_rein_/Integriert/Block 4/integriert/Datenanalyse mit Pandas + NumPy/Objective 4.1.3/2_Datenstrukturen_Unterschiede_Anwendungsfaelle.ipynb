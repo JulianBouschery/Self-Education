{
 "cells": [
  {
   "cell_type": "markdown",
   "id": "b3db6e26-bbdc-487f-8d1f-982109355b97",
   "metadata": {},
   "source": [
    "Übersicht über Arrays, Listen, NDArrays, Series und DataFrames, deren Unterschiede und typische Anwendungsfälle"
   ]
  },
  {
   "cell_type": "markdown",
   "id": "ce50c70c-119d-4760-a927-223227c33aef",
   "metadata": {
    "editable": true,
    "slideshow": {
     "slide_type": ""
    },
    "tags": []
   },
   "source": [
    "# Syllabus\n",
    "\n",
    "Distinguish between arrays, lists, NDArrays, Series, and DataFrames, understanding their respective use cases and performance characteristics.\n",
    "\n",
    "---"
   ]
  },
  {
   "cell_type": "markdown",
   "id": "d24e73f6-fbd2-4a72-a427-a5d293a2e986",
   "metadata": {
    "editable": true,
    "slideshow": {
     "slide_type": ""
    },
    "tags": []
   },
   "source": [
    "# Listen\n",
    "- **Beschreibung**: <br>\n",
    "Listen sind in Python eingebaute, flexible Datenstrukturen, die heterogene Daten (unterschiedliche Datentypen) enthalten können. Sie sind veränderlich (mutable), d. h., ihre Elemente können hinzugefügt, entfernt oder modifiziert werden.\n",
    "\n",
    "- **Anwendungsfälle**: <br>\n",
    "Listen sind praktisch für allgemeine Zwecke, wenn es darum geht, eine Sammlung von Elementen (jeglichen Typs) zu speichern. Sie sind besonders nützlich, wenn Flexibilität in der Datenstruktur benötigt wird.\n",
    "\n",
    "\n",
    "- **Performance**:<br>\n",
    "Listen bieten Flexibilität, sind jedoch weniger effizient als Arrays oder NDArrays, insbesondere bei numerischen Operationen, da sie keinen spezialisierten Speicher verwenden.\n",
    "\n",
    "---"
   ]
  },
  {
   "cell_type": "markdown",
   "id": "90f6000e-5cb7-4287-b32e-c55dfcd7a89c",
   "metadata": {
    "editable": true,
    "slideshow": {
     "slide_type": ""
    },
    "tags": []
   },
   "source": [
    "# Arrays\n",
    "- **Beschreibung**:<br>\n",
    "Arrays sind ebenfalls veränderliche Datenstrukturen, die jedoch typischerweise aus homogenen (gleichartigen) Elementen bestehen (z. B. nur Integer, nur Float usw.). In Python kann ein `array`-Objekt aus dem Modul `array` erstellt werden, das kompakter und speicherplatzsparender als eine Liste ist.\n",
    "\n",
    "- **Anwendungsfälle**:<br>\n",
    "Arrays sind nützlich, wenn man eine kompaktere und leistungsfähigere Datenstruktur als Listen benötigt, insbesondere wenn nur ein Datentyp verwendet wird.\n",
    "\n",
    "- **Performance**:<br>\n",
    "Arrays sind effizienter als Listen, wenn es um speicherintensive numerische Operationen geht, da sie in einem kontinuierlichen Speicherbereich gespeichert werden.\n",
    "\n",
    "---"
   ]
  },
  {
   "cell_type": "markdown",
   "id": "ca8fcd77-d266-4294-a3a4-ee8c9b2accae",
   "metadata": {
    "editable": true,
    "slideshow": {
     "slide_type": ""
    },
    "tags": []
   },
   "source": [
    "# NDArrays (NumPy Arrays)\n",
    "- **Beschreibung**:<br>\n",
    "NDArrays sind ein Hauptbestandteil der NumPy-Bibliothek und repräsentieren mehrdimensionale Arrays. Sie sind speziell für numerische Berechnungen optimiert und unterstützen Vektor- und Matrixoperationen auf hohem Leistungsniveau.\n",
    "\n",
    "- **Anwendungsfälle**:<br>\n",
    "NDArrays sind ideal für wissenschaftliche Berechnungen, Machine Learning, numerische Simulationen und überall dort, wo effiziente und umfangreiche Operationen auf numerischen Daten erforderlich sind.\n",
    "\n",
    "\n",
    "- **Performance**:<br>\n",
    "Sie sind sehr effizient für mathematische Operationen, da sie speichereffizient sind und auf optimierte, unterliegende C-Bibliotheken zugreifen. NDArrays sind um ein Vielfaches schneller als Listen und Arrays für numerische Berechnungen.\n",
    "\n",
    "---"
   ]
  },
  {
   "cell_type": "markdown",
   "id": "8b2ed92b-2858-4d60-bc37-bb8c63122b27",
   "metadata": {
    "editable": true,
    "slideshow": {
     "slide_type": ""
    },
    "tags": []
   },
   "source": [
    "# Series (Pandas Series)\n",
    "- **Beschreibung**:<br>\n",
    "Eine Pandas Series ist eine eindimensionale, beschriftete Datenstruktur, die ähnlich wie ein NumPy-Array ist, aber zusätzliche Label-Unterstützung (Indexierung) bietet. Sie kann Daten eines beliebigen Typs enthalten.\n",
    "\n",
    "- **Anwendungsfälle**:<br>\n",
    "Series werden häufig verwendet, wenn es um ein eindimensionales Array geht, das Daten mit Labels (z. B. Zeitstempel, Namen) enthält. Typisch in der Datenanalyse für Tabellenspalten oder Zeitreihen.\n",
    "\n",
    "- **Performance**:<br>\n",
    "Series erben viele Performance-Vorteile von NumPy-NDArrays, sind jedoch aufgrund der Label-Unterstützung und zusätzlicher Funktionen leicht langsamer.\n",
    "\n",
    "---"
   ]
  },
  {
   "cell_type": "markdown",
   "id": "6ca78e03-a39e-48ce-9d15-4386595ca118",
   "metadata": {
    "editable": true,
    "slideshow": {
     "slide_type": ""
    },
    "tags": []
   },
   "source": [
    "# DataFrames (Pandas DataFrame)\n",
    "- **Beschreibung**:<br>\n",
    "Ein DataFrame ist eine zweidimensionale, tabellenartige Datenstruktur mit beschrifteten Zeilen und Spalten. Jede Spalte kann einen eigenen Datentyp haben, was DataFrames besonders vielseitig macht.\n",
    "\n",
    "- **Anwendungsfälle**:<br>\n",
    "DataFrames sind das Rückgrat der Datenanalyse in Python. Sie eignen sich hervorragend für die Arbeit mit großen, heterogenen Datensätzen und unterstützen eine Vielzahl von Operationen wie Filterung, Gruppierung, Zusammenfügen von Daten und vieles mehr.\n",
    "\n",
    "- **Performance**:<br>\n",
    "DataFrames sind sehr effizient, insbesondere für tabellarische Datenoperationen, und bauen auf NumPy auf. Sie bieten eine gute Balance zwischen Flexibilität und Leistung, insbesondere im Vergleich zu Excel oder anderen nicht-programmatischen Lösungen.\n",
    "\n",
    "---"
   ]
  },
  {
   "cell_type": "markdown",
   "id": "b87efcc4-05c0-40c7-876d-e913882f6d61",
   "metadata": {
    "editable": true,
    "slideshow": {
     "slide_type": ""
    },
    "tags": []
   },
   "source": [
    "# Zusammenfassung der Performance:\n",
    "- **Listen**: Flexibel, aber langsam für numerische Berechnungen.\n",
    "- **Arrays**: Effizienter als Listen, aber weniger flexibel.\n",
    "- **NDArrays**: Sehr effizient für numerische Operationen, besonders in großen Dimensionen.\n",
    "- **Series**: Effizient für eindimensionale, beschriftete Daten; leicht langsamer als NDArrays.\n",
    "- **DataFrames**: Extrem nützlich für tabellarische Daten; bieten Vielseitigkeit bei geringfügig schlechterer Leistung als NDArrays für rein numerische Berechnungen.\n",
    "\n",
    "Jede dieser Datenstrukturen hat ihren eigenen Anwendungsbereich, wobei sich die Wahl oft nach der Art der Daten und den durchzuführenden Operationen richtet."
   ]
  },
  {
   "cell_type": "code",
   "execution_count": null,
   "id": "8d22ba5e-b7a0-40b3-9846-f00e44650f2b",
   "metadata": {},
   "outputs": [],
   "source": []
  }
 ],
 "metadata": {
  "kernelspec": {
   "display_name": "Python 3 (ipykernel)",
   "language": "python",
   "name": "python3"
  },
  "language_info": {
   "codemirror_mode": {
    "name": "ipython",
    "version": 3
   },
   "file_extension": ".py",
   "mimetype": "text/x-python",
   "name": "python",
   "nbconvert_exporter": "python",
   "pygments_lexer": "ipython3",
   "version": "3.12.6"
  }
 },
 "nbformat": 4,
 "nbformat_minor": 5
}
