{
 "cells": [
  {
   "cell_type": "markdown",
   "id": "4949e152-7eb6-4621-af3c-278e582f7b5c",
   "metadata": {},
   "source": [
    "\n",
    "Zusätzliche Ressourcen (optional):\n",
    "- Artikel: Einführung in NLP und Textverarbeitung. https://www.ibm.com/de-de/topics/natural-language-processing\n",
    "- Weiterführende Übung: Analysiere unstrukturierte Bilddaten mit Python (z.B. mithilfe von OpenCV).  https://www.adesso.de/de/news/blog/einfache-bildverarbeitung-mit-python-und-der-opencv-bibliothek.jsp"
   ]
  },
  {
   "cell_type": "markdown",
   "id": "bfd54a18-97ee-4f64-bb39-61060d7648bb",
   "metadata": {},
   "source": [
    "# Syllabus\n",
    "\n",
    "Explore how the data structure impacts data storage, retrieval, and analytical methods."
   ]
  },
  {
   "cell_type": "markdown",
   "id": "b6956150-2b86-4e13-bbd6-ef0c2d5a3c70",
   "metadata": {},
   "source": [
    "---\n",
    "# Datenstruktur und Speicherung\n",
    "\n",
    "- Strukturierte Daten lassen sich effizient in relationalen Datenbanken speichern, da ihre Felder und Werte klar definiert sind\n",
    "- Unstrukturierte Daten werden oft in Data Lakes oder NoSQL-Datenbanken gespeichert, da sie flexibel und skalierbar sein müssen\n",
    "- die Wahl der Speicherlösung hängt stark von der Struktur der Daten ab\n",
    "\n",
    "---\n",
    "# Datenstruktur und Analyse\n",
    "\n",
    "- Strukturierte Daten: Werden häufig für schnelle, präzise Analysen verwendet (z.B. aggregierte Berichte, SQL-Abfragen).\n",
    "- Unstrukturierte Daten: Erfordern umfangreichere Rechenressourcen für die Analyse (z.B. Textanalyse mit NLP oder Bilderkennung mit maschinellem Lernen)."
   ]
  },
  {
   "cell_type": "markdown",
   "id": "a89909ba-f870-419c-87cd-d21fd224f8a7",
   "metadata": {},
   "source": [
    "---\n",
    "# Unterschiede zwischen strukturierten und unstrukturierten Daten\n",
    "\n",
    "- Strukturierte Daten sind in einem tabellarischen Format organisiert, was die Analyse vereinfacht. Mit Pandas können wir direkt mit der Datenstruktur arbeiten und Berechnungen wie Gruppierungen durchführen.\n",
    "\n",
    "\n",
    "- Unstrukturierte Daten erfordern eine Vorverarbeitung (z.B. Bereinigung von Text oder Bildern), bevor sie analysiert werden können. Dies umfasst die Bereinigung, Tokenisierung und weitere Techniken zur Analyse von Rohdaten."
   ]
  },
  {
   "cell_type": "markdown",
   "id": "b96939b1-1191-43b9-8905-770ca8aa2584",
   "metadata": {},
   "source": [
    "---\n",
    "# Wann strukturierte, wann unstrukturierte Daten?\n",
    "\n",
    "Die Wahl zwischen strukturierten und unstrukturierten Daten hängt stark vom Anwendungsfall, den verfügbaren Datenquellen und den Analysezielen ab. Hier sind die wesentlichen Unterschiede und Anwendungsbereiche beider Arten von Daten:\n",
    "\n",
    "<br>\n",
    "\n",
    "## Strukturierte Daten\n",
    "\n",
    "**Definition**: \n",
    "- Strukturierte Daten sind in einem festgelegten Format organisiert, z.B. in Tabellen mit Zeilen und Spalten, wie in relationalen Datenbanken oder CSV-Dateien. Jede Spalte hat einen bestimmten Datentyp (z.B. numerisch, Text, Datum).\n",
    "\n",
    "**Bevorzugt bei**:\n",
    "1. **Klare, wiederholbare Datenstrukturen**: <br>\n",
    "Wenn die Daten klar definiert und regelmäßig in einem festgelegten Format vorliegen, wie Finanzdaten, Verkaufsberichte oder Sensorwerte.\n",
    "\n",
    "2. **Eindeutige Beziehungen zwischen Daten**: <br>\n",
    "Bei relationalen Datenbanken, bei denen es wichtig ist, Beziehungen zwischen Entitäten zu speichern, z.B. Kunden und Bestellungen.\n",
    "\n",
    "3. **Automatisierte Verarbeitung**: <br>\n",
    "Wenn Daten für automatisierte Berichte, Dashboards oder Algorithmen leicht zugänglich und verarbeitbar sein müssen, z.B. bei Echtzeit-Datenverarbeitung oder in ERP-Systemen.\n",
    "\n",
    "4. **Schnelle Abfragen und Analysen**: <br>Wenn effiziente Abfragen und Berechnungen notwendig sind, wie bei SQL-Datenbanken oder Analysen von transaktionalen Daten.\n",
    "\n",
    "5. **Machine Learning mit klaren Merkmalen**: <br>In vielen maschinellen Lernmodellen, die numerische oder kategoriale Daten benötigen, z.B. für Entscheidungsbäume, Regressionen oder Klassifikationen.\n",
    "\n",
    "\n",
    "**Vorteile**:\n",
    "- Einfach zu speichern, zu organisieren und zu analysieren.\n",
    "- Unterstützt durch zahlreiche Datenbanken (SQL) und Analysewerkzeuge.\n",
    "- Einfach in Tabellenform zu visualisieren und zu interpretieren.\n",
    "  \n",
    "**Beispiele**:\n",
    "- Transaktionsdaten von Kreditkarten.\n",
    "- Lagerbestandsdaten eines Unternehmens.\n",
    "- Kundendatenbanken mit eindeutigen Merkmalen wie Name, Adresse, Geburtsdatum.\n",
    "\n",
    "<br>\n",
    "\n",
    "## Unstrukturierte Daten\n",
    "\n",
    "**Definition**:\n",
    "- Unstrukturierte Daten sind nicht in einem festen Format organisiert und können unterschiedliche Formen haben, wie Textdokumente, Bilder, Videos, Audiodateien, E-Mails oder soziale Medien. Diese Daten enthalten oft versteckte Informationen, die nicht leicht zugänglich sind.\n",
    "\n",
    "**Sinnvoll bei**:\n",
    "1. **Datenanalyse aus natürlichen Quellen**: <br>\n",
    "Wenn die Daten aus Quellen wie Texten, Bildern, Videos, Audios oder sozialen Medien stammen, die keine klaren, strukturierten Formate haben.\n",
    "\n",
    "2. **Semantische oder kontextuelle Analysen**: <br>\n",
    "Wenn man auf semantische Inhalte zugreifen muss, z.B. in der Sentiment-Analyse von Kundenrezensionen, bei der Analyse von Gesprächstranskripten oder bei der Auswertung von Forschungspapieren.\n",
    "\n",
    "3. **Bild- und Spracherkennung**: <br>\n",
    "In der Verarbeitung von Bildern (z.B. Gesichtserkennung) oder Sprache (Spracherkennungssysteme wie Siri oder Alexa).\n",
    "\n",
    "4. **Explorative Datenanalyse**: <br>\n",
    "Wenn der Erkenntnisgewinn aus einer Vielzahl von möglichen Themen und Beziehungen gezogen werden muss, z.B. bei der Analyse großer Mengen unstrukturierter Texte, um neue Trends oder Muster zu entdecken.\n",
    "\n",
    "5. **Künstliche Intelligenz und NLP**: <br>\n",
    "In Bereichen wie Textverarbeitung (Natural Language Processing, NLP) oder Deep Learning, wo komplexe Muster in unstrukturierten Daten entdeckt werden müssen.\n",
    "\n",
    "\n",
    "\n",
    "**Vorteile**:\n",
    "- Flexibel und reich an Informationen, insbesondere bei unklaren oder kreativen Anwendungsfällen.\n",
    "- Ermöglicht tiefere Einsichten in emotionale, kontextuelle oder inhaltliche Aspekte von Daten.\n",
    "- Bietet eine Vielzahl an möglichen Analysewegen durch Textmining, Bildverarbeitung und andere KI-Techniken.\n",
    "\n",
    "**Beispiele**:\n",
    "- Soziale Medien (Twitter-Posts, Facebook-Kommentare).\n",
    "- E-Mails und Chatverläufe.\n",
    "- Medizinische Berichte, die Text, Bilder und Graphen enthalten.\n",
    "\n",
    "<br>\n",
    "\n",
    "## Entscheidungskriterien\n",
    "\n",
    "1. **Datenquelle**: \n",
    "   - **Strukturierte Daten**: Wenn die Quelle klar strukturierte Daten liefert (z.B. Sensordaten, Transaktionen).\n",
    "   - **Unstrukturierte Daten**: Wenn Daten aus sozialen Netzwerken, PDFs, Bilddatenbanken oder Audioquellen stammen.\n",
    "\n",
    "2. **Ziel der Analyse**:\n",
    "   - **Strukturierte Daten**: Wenn präzise, wiederholbare Ergebnisse und Metriken erforderlich sind, wie Umsatzanalysen oder KPI-Überwachung.\n",
    "   - **Unstrukturierte Daten**: Wenn es darum geht, neue Erkenntnisse aus Text, Bildern oder Videos zu gewinnen, z.B. bei der Analyse von Kundenerfahrungen oder Stimmungsanalysen.\n",
    "\n",
    "3. **Komplexität der Datenverarbeitung**:\n",
    "   - **Strukturierte Daten**: Geringere Verarbeitungskomplexität, klar definierte Schritte und Regeln zur Datenanalyse.\n",
    "   - **Unstrukturierte Daten**: Höhere Komplexität, oft mit spezialisierten Methoden wie Textmining, NLP oder maschinellem Lernen.\n",
    "\n"
   ]
  },
  {
   "cell_type": "markdown",
   "id": "55b3653a-9b63-4b1c-af9a-8be3cb9a0559",
   "metadata": {},
   "source": [
    "---\n",
    "# Beispiele\n",
    "\n",
    "## Unterschied zwischen SQL-Abfragen und der Verarbeitung unstrukturierter Daten"
   ]
  },
  {
   "cell_type": "code",
   "execution_count": 6,
   "id": "e381fb5b-371f-495e-b827-1b9d4e050905",
   "metadata": {},
   "outputs": [
    {
     "name": "stdout",
     "output_type": "stream",
     "text": [
      "\n",
      "Unstrukturierte Textdatenverarbeitung:\n",
      "\n",
      "datenbereinigung ist wichtig für die textanalyse textanalyse hilft dabei wertvolle einblicke aus unstrukturierten daten zu gewinnen\n",
      "\n"
     ]
    }
   ],
   "source": [
    "import sqlite3\n",
    "\n",
    "# Verbindung zur SQLite-Datenbank herstellen\n",
    "conn = sqlite3.connect('sales_1.db')\n",
    "\n",
    "# Erstellen einer Tabelle (strukturierte Daten)\n",
    "conn.execute('''\n",
    "CREATE TABLE IF NOT EXISTS sales_data (\n",
    "    customer_id INTEGER,\n",
    "    product TEXT,\n",
    "    sales_amount REAL,\n",
    "    sales_date TEXT\n",
    ")\n",
    "''')\n",
    "\n",
    "# Änderungen speichern (commit)\n",
    "conn.commit()\n",
    "\n",
    "\n",
    "# Abfrage auf strukturierte Daten\n",
    "cursor = conn.execute(\"SELECT * FROM sales_data\")\n",
    "for row in cursor:\n",
    "    print(row)\n",
    "\n",
    "# Beispiel für unstrukturierte Textdatenverarbeitung\n",
    "print(\"\\nUnstrukturierte Textdatenverarbeitung:\")\n",
    "print(cleaned_text)  # Aus vorherigem Beispiel\n"
   ]
  },
  {
   "cell_type": "markdown",
   "id": "0bb388a7-52a8-44c2-be4c-9c685263eca4",
   "metadata": {},
   "source": [
    "---\n",
    "## Umgang mit strukturierten Daten in einer CSV-Datei mit Python und Pandas\n",
    "\n",
    "Der Code enthält das Erstellen einer CSV-Datei, das Laden der Daten, deren Anzeige und eine grundlegende Analyse."
   ]
  },
  {
   "cell_type": "code",
   "execution_count": 1,
   "id": "c48286a2-6778-48b0-a22b-cc91d59c0d38",
   "metadata": {},
   "outputs": [
    {
     "name": "stdout",
     "output_type": "stream",
     "text": [
      "Strukturierte Daten:\n",
      "   customer_id    product  sales_amount  sales_date\n",
      "0            1  Product_A           120  2023-01-01\n",
      "1            2  Product_B           150  2023-01-02\n",
      "2            3  Product_C           130  2023-01-03\n",
      "3            4  Product_D           170  2023-01-04\n",
      "\n",
      "Grundlegende Analyse:\n",
      "Beschreibende Statistik:\n",
      "       customer_id  sales_amount\n",
      "count     4.000000      4.000000\n",
      "mean      2.500000    142.500000\n",
      "std       1.290994     22.173558\n",
      "min       1.000000    120.000000\n",
      "25%       1.750000    127.500000\n",
      "50%       2.500000    140.000000\n",
      "75%       3.250000    155.000000\n",
      "max       4.000000    170.000000\n",
      "\n",
      "Datenübersicht:\n",
      "<class 'pandas.core.frame.DataFrame'>\n",
      "RangeIndex: 4 entries, 0 to 3\n",
      "Data columns (total 4 columns):\n",
      " #   Column        Non-Null Count  Dtype \n",
      "---  ------        --------------  ----- \n",
      " 0   customer_id   4 non-null      int64 \n",
      " 1   product       4 non-null      object\n",
      " 2   sales_amount  4 non-null      int64 \n",
      " 3   sales_date    4 non-null      object\n",
      "dtypes: int64(2), object(2)\n",
      "memory usage: 260.0+ bytes\n",
      "None\n",
      "\n",
      "Durchschnittlicher Verkaufsbetrag:\n",
      "142.5\n"
     ]
    }
   ],
   "source": [
    "import pandas as pd\n",
    "\n",
    "# Strukturierte Daten\n",
    "data = {\n",
    "    'customer_id': [1, 2, 3, 4],\n",
    "    'product': ['Product_A', 'Product_B', 'Product_C', 'Product_D'],\n",
    "    'sales_amount': [120, 150, 130, 170],\n",
    "    'sales_date': ['2023-01-01', '2023-01-02', '2023-01-03', '2023-01-04']\n",
    "}\n",
    "\n",
    "# DataFrame erstellen\n",
    "df = pd.DataFrame(data)\n",
    "\n",
    "# CSV-Datei erstellen\n",
    "csv_file_path = 'sales_data.csv'\n",
    "df.to_csv(csv_file_path, index=False)\n",
    "\n",
    "# CSV-Datei laden\n",
    "loaded_df = pd.read_csv(csv_file_path)\n",
    "\n",
    "# Strukturierte Daten anzeigen\n",
    "print(\"Strukturierte Daten:\")\n",
    "print(loaded_df)\n",
    "\n",
    "# Grundlegende Analyse der strukturierten Daten\n",
    "print(\"\\nGrundlegende Analyse:\")\n",
    "print(\"Beschreibende Statistik:\")\n",
    "print(loaded_df.describe())  # Beschreibende Statistik für numerische Spalten\n",
    "\n",
    "print(\"\\nDatenübersicht:\")\n",
    "print(loaded_df.info())  # Übersicht über das DataFrame (Datenstruktur)\n",
    "\n",
    "print(\"\\nDurchschnittlicher Verkaufsbetrag:\")\n",
    "print(loaded_df['sales_amount'].mean())  # Durchschnitt der Verkaufsbeträge\n"
   ]
  },
  {
   "cell_type": "markdown",
   "id": "939fb1c8-1cf0-4aa8-961d-88d8f15f1333",
   "metadata": {},
   "source": [
    "1. **Erstellen der CSV-Datei**: Ein DataFrame wird aus dem `data`-Dictionary erstellt und anschließend in eine CSV-Datei geschrieben.\n",
    "\n",
    "2. **Laden der CSV-Datei**: Die CSV-Datei wird mit `pd.read_csv()` erneut geladen, um sie weiter zu verarbeiten.\n",
    "\n",
    "3. **Daten anzeigen**: Das DataFrame wird mit `print()` angezeigt, um einen Überblick zu erhalten.\n",
    "\n",
    "4. **Grundlegende Analyse**: \n",
    "   - Mit `describe()` werden statistische Kennzahlen wie Mittelwert, Standardabweichung, etc., für numerische Spalten angezeigt.\n",
    "   - `info()` gibt Informationen über die Datenstruktur, wie Datentypen und fehlende Werte.\n",
    "   - Mit `mean()` wird der durchschnittliche Verkaufsbetrag berechnet.\n"
   ]
  },
  {
   "cell_type": "markdown",
   "id": "9840b6ba-efd5-44f9-ae2c-85aceebee4bb",
   "metadata": {},
   "source": [
    "---\n",
    "## Bearbeitung und Analyse von unstrukturierten Textdaten \n",
    "\n",
    "- wir verwenden einen Text als Beispiel für unstrukturierte Daten.\n",
    "- durch Textbereinigung entfernen wir Sonderzeichen und konvertieren den Text in Kleinbuchstaben.\n",
    "- dann führen wir eine Tokenisierung durch, bei der der Text in einzelne Wörter zerlegt wird, und berechnen die Häufigkeit der Wörter."
   ]
  },
  {
   "cell_type": "code",
   "execution_count": 5,
   "id": "4ce05863-69c1-43af-bb73-4343147cb58f",
   "metadata": {},
   "outputs": [
    {
     "name": "stdout",
     "output_type": "stream",
     "text": [
      "Unstrukturierte Textdaten nach der Bereinigung:\n",
      "\n",
      "datenbereinigung ist wichtig für die textanalyse textanalyse hilft dabei wertvolle einblicke aus unstrukturierten daten zu gewinnen\n",
      "\n",
      "\n",
      "Wortfrequenzanalyse:\n",
      "Counter({'textanalyse': 2, 'datenbereinigung': 1, 'ist': 1, 'wichtig': 1, 'für': 1, 'die': 1, 'hilft': 1, 'dabei': 1, 'wertvolle': 1, 'einblicke': 1, 'aus': 1, 'unstrukturierten': 1, 'daten': 1, 'zu': 1, 'gewinnen': 1})\n"
     ]
    }
   ],
   "source": [
    "import re\n",
    "from collections import Counter\n",
    "\n",
    "# Unstrukturierte Textdaten (Rohtext)\n",
    "text_data = \"\"\"\n",
    "Datenbereinigung ist wichtig für die Textanalyse. Textanalyse hilft dabei, wertvolle Einblicke aus unstrukturierten Daten zu gewinnen.\n",
    "\"\"\"\n",
    "\n",
    "# Textbereinigung: Entfernen von Sonderzeichen und Umwandlung in Kleinbuchstaben\n",
    "cleaned_text = re.sub(r'[^\\w\\s]', '', text_data).lower()\n",
    "\n",
    "# Tokenisierung: Text in einzelne Wörter umwandeln\n",
    "tokens = cleaned_text.split()\n",
    "\n",
    "# Häufigkeitsanalyse der Wörter\n",
    "word_counts = Counter(tokens)\n",
    "\n",
    "# Unstrukturierte Daten und Wortfrequenz anzeigen\n",
    "print(\"Unstrukturierte Textdaten nach der Bereinigung:\")\n",
    "print(cleaned_text)\n",
    "\n",
    "print(\"\\nWortfrequenzanalyse:\")\n",
    "print(word_counts)\n"
   ]
  },
  {
   "cell_type": "markdown",
   "id": "d20b7413-06bc-49ef-952c-793b22057f6f",
   "metadata": {},
   "source": [
    "1. **Textbereinigung**:\n",
    "   - Der reguläre Ausdruck `re.sub(r'[^\\w\\s]', '', text_data)` entfernt alle Sonderzeichen und lässt nur Buchstaben und Leerzeichen übrig.\n",
    "   - `.lower()` wandelt den gesamten Text in Kleinbuchstaben um, um Groß-/Kleinschreibung in der Analyse zu ignorieren.\n",
    "\n",
    "2. **Tokenisierung**:\n",
    "   - Der bereinigte Text wird mit `split()` in einzelne Wörter (Tokens) zerlegt. Dies erzeugt eine Liste von Wörtern.\n",
    "\n",
    "3. **Häufigkeitsanalyse**:\n",
    "   - Der `Counter` aus dem `collections`-Modul zählt die Häufigkeit jedes Wortes in der Token-Liste."
   ]
  },
  {
   "cell_type": "markdown",
   "id": "ec0b311e-0c83-4e62-b326-a294441e258f",
   "metadata": {},
   "source": [
    "---\n",
    "# Diskussion\n",
    "\n",
    "## Wie beeinflusst die Datenstruktur die Wahl der Speicherlösung?\n",
    "\n",
    "- **Strukturierte Daten:** Benötigen oft relationale Datenbanken (z.B. SQL) oder Tabellenformate (z.B. CSV, Excel), da sie klar definierte Felder und Beziehungen haben.\n",
    "- **Unstrukturierte Daten:** Eignen sich besser für NoSQL-Datenbanken (z.B. MongoDB) oder Data Lakes, da sie keine feste Struktur aufweisen und flexibel gespeichert werden müssen.\n",
    "\n",
    "## Welche analytischen Methoden eignen sich am besten für strukturierte und unstrukturierte Daten?\n",
    "\n",
    "- **Strukturierte Daten:** Ideal für statistische Analysen, maschinelles Lernen (z.B. lineare Regression, Klassifikation), und SQL-Abfragen.\n",
    "- **Unstrukturierte Daten:** Häufig verwendet für Natural Language Processing (NLP), Bilderkennung, Text Mining, und Deep Learning.\n"
   ]
  },
  {
   "cell_type": "markdown",
   "id": "4bd9e4d5-11bb-4375-84c6-dd59f983603f",
   "metadata": {},
   "source": []
  }
 ],
 "metadata": {
  "kernelspec": {
   "display_name": "Python 3 (ipykernel)",
   "language": "python",
   "name": "python3"
  },
  "language_info": {
   "codemirror_mode": {
    "name": "ipython",
    "version": 3
   },
   "file_extension": ".py",
   "mimetype": "text/x-python",
   "name": "python",
   "nbconvert_exporter": "python",
   "pygments_lexer": "ipython3",
   "version": "3.12.6"
  }
 },
 "nbformat": 4,
 "nbformat_minor": 5
}
