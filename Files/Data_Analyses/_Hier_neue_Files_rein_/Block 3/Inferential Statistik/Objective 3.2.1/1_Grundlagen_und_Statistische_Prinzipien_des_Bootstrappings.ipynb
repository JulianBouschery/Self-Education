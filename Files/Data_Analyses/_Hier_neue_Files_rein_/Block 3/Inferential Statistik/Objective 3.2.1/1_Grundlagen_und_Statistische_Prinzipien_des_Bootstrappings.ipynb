{
 "cells": [
  {
   "cell_type": "markdown",
   "id": "6e7f9be0-64e1-485e-8925-13a903ed215c",
   "metadata": {},
   "source": [
    "# Syllabus\n",
    "\n",
    "Understand the theoretical basis and statistical principles underlying bootstrapping.\n",
    "(Verstehe die theoretischen Grundlagen und statistischen Prinzipien des Bootstrappings)"
   ]
  },
  {
   "attachments": {},
   "cell_type": "markdown",
   "id": "6ff73201-6077-4ab4-8ee6-9bc1de02d7e3",
   "metadata": {},
   "source": [
    "# Grundlagen\n",
    "\n",
    "- **Bootstrapping** ist eine statistische Methode,\n",
    "- dabei werden aus einer gegebenen Stichprobe wiederholt neue Stichproben mit Zurücklegen gezogen\n",
    "- ermöglicht die Schätzung von Standardfehlern, Konfidenzintervallen und Teststatistiken, ohne Annahmen über die Verteilung der Population zu treffen. \n",
    "- nützlich bei kleinen Stichproben oder unbekannten Verteilungen\n",
    "\n",
    "<br>\n",
    "\n",
    "**einfaches Beispiel:**\n",
    "\n",
    "Wir haben eine kleine Stickprobe mit den Werten:\n",
    "\n",
    "<div style=\"margin-left: 40px;\">\n",
    "[5,7,8,10,12]\n",
    "</div><br>\n",
    "\n",
    "\n",
    "Wir möchten den Mittelwert der Population und dessen Unsicherheit (Standardfehler) schätzen.\n",
    "\n",
    "<br>\n",
    "\n",
    "**Schritte:**\n",
    "\n",
    "1. Originaler Stichprobenmittelwert: `Mittelwert der Stichprobe = (5 + 7 + 8 + 10 + 12)/5 = 8.4`\n",
    "\n",
    "2. Bootstrap-Methode: Ziehe mehrere Stichproben mit Zurücklegen aus der originalen Stichprobe (z.B. 1000 Mal):\n",
    "\n",
    "   1. Bootstrap-Stichprobe: `[7,12,8,8,5]` -> Mittelwert = <font color='red'>8</font>\n",
    "   2. Bootstrap-Stichprobe: `[10,12,12,7,5]` -> Mittelwert = <font color ='red'>9.2</font>\n",
    "   3. Bootstrap-Stichprobe: `[8,7,7,8,7]` -> Mittelwet = <font color = 'red'>7</font>\n",
    "<br>\n",
    "\n",
    "3. Bootsrap-Verteilung: Berechne den Mittelwert jeder der 1000 Bootstrap-Stichproben und erhalte eine Verteilung dieser Mittelwerte.\n",
    "\n",
    "4. Schätzung der Unsicherheit: Aus dieser Verteilung berechnen wir den Standardfehler(also die Streuung der Mittelwerte), um die\n",
    "   Unsicherheit des Mittelwerts besser einzuschätzen.\n",
    "\n",
    "   "
   ]
  },
  {
   "cell_type": "code",
   "execution_count": 1,
   "id": "f2965342-c621-4881-a0de-ba123a958b72",
   "metadata": {},
   "outputs": [
    {
     "name": "stdout",
     "output_type": "stream",
     "text": [
      "Bootstrap-Mittelwerte: [165.71428571 160.71428571 164.71428571 164.71428571 169.42857143\n",
      " 171.14285714 162.57142857 160.42857143 166.85714286 163.57142857]\n"
     ]
    }
   ],
   "source": [
    "import numpy as np\n",
    "\n",
    "# Originaldatensatz (Größen in cm)\n",
    "data = np.array([170, 165, 180, 175, 160, 155, 168])\n",
    "\n",
    "# Bootstrapping-Funktion, um Resamples zu erstellen\n",
    "def bootstrap(data, n_resamples):\n",
    "    resamples = np.random.choice(data, size=(n_resamples, len(data)), replace=True)\n",
    "    return resamples\n",
    "\n",
    "# Erstelle 1000 bootstrapped Stichproben\n",
    "boot_samples = bootstrap(data, 1000)\n",
    "\n",
    "# Berechne den Mittelwert jeder Stichprobe\n",
    "boot_means = np.mean(boot_samples, axis=1)\n",
    "\n",
    "print(\"Bootstrap-Mittelwerte:\", boot_means[:10])  # Zeige die ersten 10 Mittelwerte"
   ]
  },
  {
   "cell_type": "markdown",
   "id": "e43e581b-743b-4311-88aa-ae3777e0137e",
   "metadata": {},
   "source": [
    "# Theorie und statistische Prinzipien des Bootstrappings\n",
    "\n",
    "Insgesamt bietet Bootstrapping eine robuste Methode zur Abschätzung der Unsicherheit statistischer Schätzungen und ermöglicht es, Konfidenzintervalle und Tests durchzuführen, die nicht auf stark idealisierten Annahmen beruhen.\n",
    "\n",
    "## Zentrale Idee: Resampling mit Zurücklegen\n",
    "\n",
    "- aus der Originalstichprobe (Größe $n$) wird eine große Anzahl von neuen Stichproben (Bootstrap-Stichproben) mit Zurücklegen gezogen\n",
    "- Bootstrap-Stichproben haben ebenfalls Größe $n$\n",
    "- diese neuen Stichproben simulieren die Verteilung der zugrunde liegenden Grundgesamtheit, indem sie durch die Originaldaten als Näherung verwendet werden"
   ]
  },
  {
   "cell_type": "markdown",
   "id": "be87bee9-1559-4467-b789-7d2565a0dcbf",
   "metadata": {},
   "source": [
    "## Gesetz der großen Zahlen\n",
    "\n",
    "- Bootstrapping stützt sich auf das Gesetz der großen Zahlen\n",
    "- bedeutet:  bei ausreichend großer Anzahl von Wiederholungen (d.h. Bootstrap-Stichproben), nähert sich die Verteilung der geschätzten Parameterwerte der wahren Verteilung immer besser an\n",
    "- ermöglicht es, Schätzungen von Unsicherheiten, wie z.B. Konfidenzintervalle, zu berechnen, ohne dass man eine spezielle Verteilung annehmen muss"
   ]
  },
  {
   "cell_type": "markdown",
   "id": "24cb66fa-a7b3-4103-98c2-aeb7f1a7278b",
   "metadata": {},
   "source": [
    "## Unabhängigkeit von Verteilungsannahmen\n",
    "\n",
    "- bei klassischen statistischen Methoden (z.B. Berechnung von Konfidenzintervallen), nimmt man oft an, dass die Daten aus einer bestimmten Verteilung stammen (z.B. aus einer Normalverteilung (Glockenkurve))\n",
    "- diese Annahme hilft dabei, Formeln zu verwenden, um Unsicherheiten und Intervalle zu berechnen\n",
    "\n",
    "<br>\n",
    "\n",
    "**beim Bootstrapping ist das anders:**\n",
    "- hier wird **keine Annahme** über die Form oder Art der Verteilung der Daten gemacht\n",
    "- statt zu sagen: \"Die Daten kommen aus einer Normalverteilung\" oder \"Die Daten folgen einer bestimmten Form\", verwendet Bootstrapping einfach die vorliegenden Daten selbst\n",
    "- bedeutet: es nutzt die tatsächlichen Datenpunkte, die man schon hat, um wiederholt zufällige Stichproben (mit Zurücklegen) zu ziehen\n",
    "- diese neuen Stichproben helfen dann dabei, die Unsicherheit zu bestimmen\n",
    "\n",
    "<br>\n",
    "\n",
    "**Mit anderen Worten:** Bootstrapping nutzt die vorhandenen Daten als eine Art \"Ersatz\" für die unbekannte Verteilung, anstatt vorher festzulegen, wie die Verteilung aussehen sollte.\n",
    "\n"
   ]
  },
  {
   "cell_type": "markdown",
   "id": "e9627027-ae55-40fc-91ea-78d97ac0f1ba",
   "metadata": {},
   "source": [
    "## Berechnung von Schätzungen und Konfidenzintervallen\n",
    "\n",
    "- aus der ursprünglichen Stichprobe werden viele (z.B. 1.000) neue Stichproben gezogen\n",
    "- für jede dieser neuen Stichproben wird eine Schätzung (z.B. Mittelwert) berechnet\n",
    "- die Verteilung dieser Schätzungen gibt Informationen darüber, wie präzise die Schätzung ist\n",
    "- Um ein 95%-Konfidenzintervall zu bilden, werden die 2,5%- und 97,5%-Grenzen dieser Verteilung genommen"
   ]
  },
  {
   "cell_type": "markdown",
   "id": "b563e6c1-2bcd-4618-8864-7781560d3388",
   "metadata": {},
   "source": [
    "## Bootstrapped Standardfehler\n",
    "\n",
    "- der Standardfehler einer Schätzung kann direkt aus den Bootstrap-Stichproben berechnet werden\n",
    "- indem man die Standardabweichung der geschätzten Parameter in den verschiedenen Bootstrap-Stichproben berechnet\n",
    "- Bootstrapping besonders geeignet für komplexe oder untypische Verteilungen, wo analytische Standardfehler schwer zu berechnen sind"
   ]
  },
  {
   "cell_type": "markdown",
   "id": "cd085e81-5a02-46aa-897b-a2cae3ad7a3d",
   "metadata": {},
   "source": [
    "## Verwendung in Hypothesentests\n",
    "\n",
    "- normalerweise werden für Hypothesentests theoretische Verteilungen (wie t-Verteilung oder Normalverteilung) verwendet, um einen p-Wert zu berechnen\n",
    "- der p-Wert sagt, wie wahrscheinlich es ist, die beobachteten Daten zu bekommen, unter der Annahme, dass die Nullhypothese stimmt\n",
    "\n",
    "- mit Bootstrapping muss aber keine theoretische Verteilung benutzt werden\n",
    "- stattdessen verwendet man die vorhandenen Daten, und generiert eine Verteilung von möglichen Ergebnissen unter der Annahme der Nullhypothese (also, dass die Nullhypothese stimmt)\n",
    "\n",
    "**Beispiel: Mittelwert testen**\n",
    "\n",
    "Angenommen, die Nullhypothese lautet:<br>\n",
    "\"Der Mittelwert einer Stichprobe ist gleich Null.\" \n",
    "\n",
    "Um dies mit Bootstrapping zu testen, gehst man so vor:\n",
    "\n",
    "1. Daten zentrieren:\n",
    "- die Originaldaten werden „zentriert“ , sodass sie so aussehen, als ob sie einen Mittelwert von Null hätten\n",
    "- dafür wird von jedem Datenpunkt der tatsächlicher Mittelwert der Daten abgezogen\n",
    "- dadurch bekommt man neue Daten, die den gleichen Abstand zueinander haben, aber der Mittelwert ist nun Null (also die Nullhypothese)\n",
    "<br><br>\n",
    "\n",
    "2. Bootstrap-Stichproben ziehen:\n",
    "-  aus diesen zentrierten Daten werden viele Bootstrap-Stichproben gezogen\n",
    "-  jede Stichprobe ist eine neue zufällige Auswahl der zentrierten Daten (wie oben beschrieben, mit Zurücklegen)\n",
    "<br><br>\n",
    "\n",
    "3. Schätzung berechnen:\n",
    "- Für jede dieser Bootstrap-Stichproben wird der Mittelwert berechnet\n",
    "<br><br>\n",
    "\n",
    "4. Bootstrap-Verteilung erstellen:\n",
    "- Jetzt hat man eine Verteilung von Mittelwerten, die man aus den Bootstrap-Stichproben gezogen hat\n",
    "- diese Verteilung repräsentiert die mögliche Variation der Mittelwerte, unter der Annahme, dass die Nullhypothese (Mittelwert = 0) stimmt"
   ]
  },
  {
   "cell_type": "markdown",
   "id": "879356a1-1ab9-416e-b441-4547a98ed854",
   "metadata": {},
   "source": [
    "## Grenzen von Bootstrapping\n",
    "\n",
    "   - **Datensätze müssen repräsentativ sein**:<br>\n",
    "     Da Bootstrapping nur mit den vorhandenen Daten arbeitet, muss die Ausgangsstichprobe repräsentativ für die Grundgesamtheit sein.\n",
    "     <br>\n",
    "     \n",
    "   - **Abhängige Daten**:<br>\n",
    "     Bootstrapping ist für unabhängige Daten optimiert; bei Abhängigkeiten (z.B. Zeitreihen) müssen spezialisierte Varianten wie Block-Bootstrapping verwendet werden.\n",
    "     <br>\n",
    "   - **Extremwerte und Verzerrungen**:<br>\n",
    "     Daten mit starken Ausreißern oder verzerrten Verteilungen können die Bootstrap-Verteilungen verfälschen."
   ]
  },
  {
   "cell_type": "markdown",
   "id": "4fb71f6f-a29b-4a92-b63d-741b71677123",
   "metadata": {},
   "source": [
    "## Vorteile\n",
    "   - Flexibilität in der Anwendung auf verschiedene statistische Probleme.\n",
    "   - Keine Annahme über die Verteilung der Grundgesamtheit.\n",
    "   - Einfache Implementierung auch in komplexen Modellen, bei denen herkömmliche analytische Lösungen schwer zu bestimmen sind."
   ]
  },
  {
   "cell_type": "code",
   "execution_count": null,
   "id": "2d54c825-62f6-468b-94ae-bd00a1689032",
   "metadata": {},
   "outputs": [],
   "source": []
  }
 ],
 "metadata": {
  "kernelspec": {
   "display_name": "Python 3 (ipykernel)",
   "language": "python",
   "name": "python3"
  },
  "language_info": {
   "codemirror_mode": {
    "name": "ipython",
    "version": 3
   },
   "file_extension": ".py",
   "mimetype": "text/x-python",
   "name": "python",
   "nbconvert_exporter": "python",
   "pygments_lexer": "ipython3",
   "version": "3.12.6"
  }
 },
 "nbformat": 4,
 "nbformat_minor": 5
}
