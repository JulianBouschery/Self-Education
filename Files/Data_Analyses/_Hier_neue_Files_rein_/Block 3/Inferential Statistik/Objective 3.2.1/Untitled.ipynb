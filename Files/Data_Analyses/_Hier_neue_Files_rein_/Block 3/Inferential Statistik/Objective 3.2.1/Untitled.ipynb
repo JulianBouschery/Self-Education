{
 "cells": [
  {
   "cell_type": "markdown",
   "id": "ab8576b4-8258-48b4-b2c6-f50737f1e128",
   "metadata": {},
   "source": [
    "## <u>Recognize situations and data types where bootstrapping is an effective method for estimatin sampling distributions</u>\n",
    "\n",
    "**Erkennen von Situationen und Datentypen, in denen Bootstrapping eine effektive Methode zur Schätzung von Stichprobenverteilungen ist.**"
   ]
  },
  {
   "cell_type": "code",
   "execution_count": null,
   "id": "ceb4ab89-83c0-40e1-9901-13a79478c97f",
   "metadata": {},
   "outputs": [],
   "source": []
  }
 ],
 "metadata": {
  "kernelspec": {
   "display_name": "Python 3 (ipykernel)",
   "language": "python",
   "name": "python3"
  },
  "language_info": {
   "codemirror_mode": {
    "name": "ipython",
    "version": 3
   },
   "file_extension": ".py",
   "mimetype": "text/x-python",
   "name": "python",
   "nbconvert_exporter": "python",
   "pygments_lexer": "ipython3",
   "version": "3.12.6"
  }
 },
 "nbformat": 4,
 "nbformat_minor": 5
}
