{
 "cells": [
  {
   "cell_type": "code",
   "execution_count": 12,
   "metadata": {},
   "outputs": [
    {
     "name": "stdout",
     "output_type": "stream",
     "text": [
      "Originaler Datensatz:\n",
      "  Bewertung  Alter  Stunden\n",
      "0       gut     23        2\n",
      "1       gut     25        7\n",
      "2  schlecht     30        4\n",
      "3  schlecht     60        8\n",
      "4  schlecht     40        2\n"
     ]
    }
   ],
   "source": [
    "# Aufgabenstellung zur Klassifikation (0/1 : schlecht/gut)\n",
    "# Aufenthalt in einem Schwimmbad\n",
    "\n",
    "# Import der notwendigen Bibliotheken\n",
    "import pandas as pd\n",
    "from sklearn.model_selection import train_test_split  # Aufteilung in Trainings- und Testdaten\n",
    "from sklearn.preprocessing import LabelEncoder   # Formt gut/schlecht (2 Aussagen \"Strings\") in 0/1 um -> Digitalisiert!\n",
    "from sklearn.linear_model import LogisticRegression   # Sigmoid-Funktion approximieren \n",
    "from sklearn.metrics import accuracy_score    # Validierung, Masse der Valierung: Varianz, R^2 usw.\n",
    "\n",
    "# Beispiel-Datensatz\n",
    "data = {'Bewertung': ['gut', 'gut', 'schlecht', 'schlecht', 'schlecht'],\n",
    "        'Alter': [23, 25, 30, 60, 40],\n",
    "        'Stunden': [2, 7, 4, 8, 2]}\n",
    "\n",
    "# Erstellen des DataFrames\n",
    "df = pd.DataFrame(data)\n",
    "print(\"Originaler Datensatz:\")\n",
    "print(df)\n"
   ]
  },
  {
   "cell_type": "code",
   "execution_count": 13,
   "metadata": {},
   "outputs": [
    {
     "name": "stdout",
     "output_type": "stream",
     "text": [
      "   Bewertung  Alter  Stunden\n",
      "0          1     23        2\n",
      "1          1     25        7\n",
      "2          0     30        4\n",
      "3          0     60        8\n",
      "4          0     40        2\n"
     ]
    },
    {
     "name": "stderr",
     "output_type": "stream",
     "text": [
      "C:\\Users\\geise\\AppData\\Local\\Temp\\ipykernel_18396\\3684294798.py:6: FutureWarning: Downcasting behavior in `replace` is deprecated and will be removed in a future version. To retain the old behavior, explicitly call `result.infer_objects(copy=False)`. To opt-in to the future behavior, set `pd.set_option('future.no_silent_downcasting', True)`\n",
      "  df_mod['Bewertung'] = df_mod['Bewertung'].replace({'gut': 1, 'schlecht': 0})\n"
     ]
    }
   ],
   "source": [
    "\n",
    "# Umwandlung der Zielvariable 'Bewertung' in 0 und 1 - > ML immer nur mit Zahlen -> Umwandeln String in Zahlen\n",
    "\n",
    "# Bitte in Pandas überlegen wir ich Spalte Bewertung zu 0/1 transformieren\n",
    "df_mod =df.copy()\n",
    "# Umwandlung der Spalte 'Bewertung': 'gut' -> 1, 'schlecht' -> 0\n",
    "df_mod['Bewertung'] = df_mod['Bewertung'].replace({'gut': 1, 'schlecht': 0})\n",
    "\n",
    "print(df_mod)"
   ]
  },
  {
   "cell_type": "code",
   "execution_count": 14,
   "metadata": {},
   "outputs": [
    {
     "name": "stdout",
     "output_type": "stream",
     "text": [
      "\n",
      "Datensatz nach Umwandlung von 'Bewertung':\n",
      "   Bewertung  Alter  Stunden\n",
      "0          0     23        2\n",
      "1          0     25        7\n",
      "2          1     30        4\n",
      "3          1     60        8\n",
      "4          1     40        2\n"
     ]
    }
   ],
   "source": [
    "# Umwandlung der Zielvariable 'Bewertung' in 0 und 1 - > ML immer nur mit Zahlen -> Umwandeln String in Zahlen\n",
    "\n",
    "label_encoder = LabelEncoder()\n",
    "df['Bewertung'] = label_encoder.fit_transform(df['Bewertung'])\n",
    "\n",
    "print(\"\\nDatensatz nach Umwandlung von 'Bewertung':\")\n",
    "print(df)\n"
   ]
  },
  {
   "cell_type": "code",
   "execution_count": 15,
   "metadata": {},
   "outputs": [
    {
     "name": "stdout",
     "output_type": "stream",
     "text": [
      "<class 'pandas.core.frame.DataFrame'>\n",
      "RangeIndex: 5 entries, 0 to 4\n",
      "Data columns (total 3 columns):\n",
      " #   Column     Non-Null Count  Dtype\n",
      "---  ------     --------------  -----\n",
      " 0   Bewertung  5 non-null      int64\n",
      " 1   Alter      5 non-null      int64\n",
      " 2   Stunden    5 non-null      int64\n",
      "dtypes: int64(3)\n",
      "memory usage: 252.0 bytes\n"
     ]
    }
   ],
   "source": [
    "# Datacleaning und Datentypen\n",
    "#(gibt es Nan-Werte? Sind die Datentyen richtig)\n",
    "df.info()\n"
   ]
  },
  {
   "cell_type": "code",
   "execution_count": 20,
   "metadata": {},
   "outputs": [
    {
     "name": "stdout",
     "output_type": "stream",
     "text": [
      "\n",
      "Genauigkeit des Modells: 1.0\n",
      "\n",
      "Vorhersage für Alter = 24, Stunden = 4: gut\n"
     ]
    }
   ],
   "source": [
    "\n",
    "# Definieren der Merkmale (X) und der Zielvariable (y)\n",
    "X = df[['Alter', 'Stunden']]  # abhängigen Variablen  (Feature)\n",
    "y = df['Bewertung']    # unabhängige Variable (Target)\n",
    "\n",
    "# Aufteilen des Datensatzes in Trainings- und Testdaten\n",
    "X_train, X_test, y_train, y_test = train_test_split(X, y, test_size=0.1, random_state=42)   # 10% vom Datensatz zufällig heraus aus\n",
    "\n",
    "# Erstellen und Trainieren des logistischen Regressionsmodells\n",
    "model = LogisticRegression()\n",
    "model.fit(X_train, y_train)\n",
    "\n",
    "# Genauigkeit des Modells bewerten\n",
    "y_pred = model.predict(X_test)\n",
    "print(\"\\nGenauigkeit des Modells:\", accuracy_score(y_test, y_pred))\n",
    "\n",
    "# Vorhersage für die neue Eingabe (Alter = 24, Stunden = 4)\n",
    "neuer_datensatz = pd.DataFrame({'Alter': [24], 'Stunden': [4]})\n",
    "\n",
    "vorhersage = model.predict(neuer_datensatz)\n",
    "\n",
    "# Umwandlung der Vorhersage zurück in das ursprüngliche Label\n",
    "vorhersage_label = label_encoder.inverse_transform(vorhersage)\n",
    "\n",
    "\n",
    "\n",
    "\n",
    "\n",
    "print(\"\\nVorhersage für Alter = 24, Stunden = 4:\", vorhersage_label[0])\n",
    "\n",
    "# Vorhersage flexibilisieren:\n",
    "\n",
    "\n",
    "\n"
   ]
  },
  {
   "cell_type": "code",
   "execution_count": 6,
   "metadata": {},
   "outputs": [
    {
     "name": "stdout",
     "output_type": "stream",
     "text": [
      "\n",
      "Vorhersage für Alter = 23, Stunden = 5: gut\n"
     ]
    }
   ],
   "source": [
    "# Sicherstellen, dass eine gültige Zahl für 'Alter' und 'Stunden' eingegeben wird\n",
    "while True:\n",
    "    try:\n",
    "        alter = int(input(\"Bitte geben Sie das Alter ein: \"))\n",
    "        break  # Schleife verlassen, wenn die Eingabe korrekt ist\n",
    "    except ValueError:\n",
    "        print(\"Ungültige Eingabe. Bitte geben Sie eine gültige Zahl für das Alter ein.\")\n",
    "\n",
    "while True:\n",
    "    try:\n",
    "        stunden = int(input(\"Bitte geben Sie die Anzahl der Stunden ein: \"))\n",
    "        break  # Schleife verlassen, wenn die Eingabe korrekt ist\n",
    "    except ValueError:\n",
    "        print(\"Ungültige Eingabe. Bitte geben Sie eine gültige Zahl für die Stunden ein.\")\n",
    "\n",
    "# Vorhersage für die Benutzereingabe\n",
    "neuer_datensatz = pd.DataFrame({'Alter': [alter], 'Stunden': [stunden]})\n",
    "vorhersage = model.predict(neuer_datensatz)\n",
    "\n",
    "# Umwandlung der Vorhersage zurück in das ursprüngliche Label\n",
    "vorhersage_label = label_encoder.inverse_transform(vorhersage)\n",
    "\n",
    "# Dynamische Ausgabe\n",
    "print(f\"\\nVorhersage für Alter = {alter}, Stunden = {stunden}: {vorhersage_label[0]}\")\n"
   ]
  },
  {
   "cell_type": "markdown",
   "metadata": {},
   "source": [
    "# Welche Emfehlungen könnten Sie dem Besitzer geben!\n",
    "\n",
    "\n"
   ]
  }
 ],
 "metadata": {
  "kernelspec": {
   "display_name": "Python 3 (ipykernel)",
   "language": "python",
   "name": "python3"
  },
  "language_info": {
   "codemirror_mode": {
    "name": "ipython",
    "version": 3
   },
   "file_extension": ".py",
   "mimetype": "text/x-python",
   "name": "python",
   "nbconvert_exporter": "python",
   "pygments_lexer": "ipython3",
   "version": "3.12.6"
  }
 },
 "nbformat": 4,
 "nbformat_minor": 4
}
