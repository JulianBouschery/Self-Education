{
 "cells": [
  {
   "cell_type": "markdown",
   "id": "c7c5977d-d234-4823-8a51-c8210feefe27",
   "metadata": {},
   "source": [
    "Hier sind einige Übungsaufgaben, die du mit dem **\"Automobile_data.csv\"**-Datensatz lösen kannst. Diese Aufgaben decken verschiedene Python-Konzepte ab, einschließlich Datenanalyse mit Pandas und Visualisierungen mit Matplotlib oder Seaborn:\n",
    "\n",
    "---\n",
    "\n",
    "### 1. **Daten einlesen und erste Exploration**\n",
    "   - **Aufgabe**: Lese den Datensatz mit Pandas ein und zeige die ersten 10 Zeilen an.\n",
    "   - **Aufgabe**: Erstelle eine Übersicht über die Spalten, die Anzahl der fehlenden Werte und die Datentypen der Spalten.\n",
    "   - **Aufgabe**: Ersetze fehlende Werte (falls vorhanden) durch den Mittelwert oder Median der entsprechenden Spalte."
   ]
  },
  {
   "cell_type": "code",
   "execution_count": null,
   "id": "94c3f404-1ca4-43c3-8022-26c2e8b8ac1b",
   "metadata": {
    "scrolled": true
   },
   "outputs": [],
   "source": [
    "import numpy as np\n",
    "import pandas as pd\n",
    "\n",
    "data = pd.read_csv('Automobile_data.csv')\n",
    "df = pd.DataFrame(data)\n",
    "df.head(10)"
   ]
  },
  {
   "cell_type": "code",
   "execution_count": null,
   "id": "97ee981b-5899-46a2-80fd-04d8cc56ccc8",
   "metadata": {},
   "outputs": [],
   "source": [
    "# Übersicht der Spalten\n",
    "df.columns"
   ]
  },
  {
   "cell_type": "code",
   "execution_count": null,
   "id": "648f4fd3-d80c-4c69-8212-e676b9a1840e",
   "metadata": {
    "scrolled": true
   },
   "outputs": [],
   "source": [
    "# Anzahl der fehlenden Werte pro Spalte\n",
    "df.isnull().sum()"
   ]
  },
  {
   "cell_type": "code",
   "execution_count": null,
   "id": "a97a1c65-d0c6-423c-8176-ce5f66e51971",
   "metadata": {
    "scrolled": true
   },
   "outputs": [],
   "source": [
    "# Datentypen der Spalten\n",
    "df.dtypes"
   ]
  },
  {
   "cell_type": "code",
   "execution_count": null,
   "id": "8b7b1bda-01c8-44e0-bd0f-8cbe27ddd91b",
   "metadata": {},
   "outputs": [],
   "source": []
  },
  {
   "cell_type": "markdown",
   "id": "104e97f6-7c48-43db-bbd5-3a37fa3d46cf",
   "metadata": {},
   "source": [
    "---\n",
    "\n",
    "### 2. **Statistische Analyse**\n",
    "   - **Aufgabe**: Berechne den Mittelwert, Median, Minimum und Maximum des `price`-Attributs.\n",
    "   - **Aufgabe**: Erstelle eine Pivot-Tabelle, die den Durchschnittspreis von Autos nach Herstellern (`make`) zeigt.\n",
    "   - **Aufgabe**: Bestimme, welches Automodell den höchsten Preis hat und welches den niedrigsten."
   ]
  },
  {
   "cell_type": "code",
   "execution_count": null,
   "id": "d778e546-40f7-4b02-baa0-d22805aa6884",
   "metadata": {},
   "outputs": [],
   "source": [
    "# der Datentyp von 'price' muss in einen numerischen Wert umgewandelt werden\n",
    "\n",
    "# dazu muss ich erst überprüfen, ob ich nicht-numerische Platzhalter habe\n",
    "print(pd.unique(df['price']))\n",
    "print(df[df['price'] == '?'])"
   ]
  },
  {
   "cell_type": "code",
   "execution_count": 6,
   "id": "a6dfc764-bdaf-4472-8a31-5c9e9eff796f",
   "metadata": {},
   "outputs": [
    {
     "name": "stderr",
     "output_type": "stream",
     "text": [
      "C:\\Users\\Jens-\\AppData\\Local\\Temp\\ipykernel_25372\\500560693.py:8: FutureWarning: A value is trying to be set on a copy of a DataFrame or Series through chained assignment using an inplace method.\n",
      "The behavior will change in pandas 3.0. This inplace method will never work because the intermediate object on which we are setting values always behaves as a copy.\n",
      "\n",
      "For example, when doing 'df[col].method(value, inplace=True)', try using 'df.method({col: value}, inplace=True)' or df[col] = df[col].method(value) instead, to perform the operation inplace on the original object.\n",
      "\n",
      "\n",
      "  df['price'].fillna(df['price'].mean(), inplace=True)\n"
     ]
    },
    {
     "data": {
      "text/plain": [
       "dtype('int64')"
      ]
     },
     "execution_count": 6,
     "metadata": {},
     "output_type": "execute_result"
    }
   ],
   "source": [
    "# diese Platzhalter in NaN umwandeln\n",
    "df['price'] = df['price'].replace('?', np.nan)\n",
    "\n",
    "# jetzt den Datentyp zuerst in float umwandeln (NaN lässt sich nicht direkt in int konvertieren!!)\n",
    "df['price'] = df['price'].astype(float)\n",
    "\n",
    "# NaN-Werte durch Mittelwert auffüllen\n",
    "df['price'].fillna(df['price'].mean(), inplace=True)\n",
    "\n",
    "# jetzt kann ich in int umwandeln!\n",
    "df['price'] = df['price'].astype(int)\n",
    "df['price'].dtype"
   ]
  },
  {
   "cell_type": "code",
   "execution_count": 7,
   "id": "332e31bb-f762-4111-bbc2-969307414952",
   "metadata": {},
   "outputs": [
    {
     "name": "stdout",
     "output_type": "stream",
     "text": [
      "13207.126829268293\n",
      "10595.0\n",
      "5118\n",
      "45400\n"
     ]
    }
   ],
   "source": [
    "print(df['price'].mean())\n",
    "print(df['price'].median())\n",
    "print(df['price'].min())\n",
    "print(df['price'].max())"
   ]
  },
  {
   "cell_type": "code",
   "execution_count": null,
   "id": "cb46a33b-5828-42cc-915c-53f865fd27ba",
   "metadata": {},
   "outputs": [],
   "source": []
  },
  {
   "cell_type": "code",
   "execution_count": 8,
   "id": "1907fba8-c7d1-466f-afab-7208b7dcaf1f",
   "metadata": {
    "scrolled": true
   },
   "outputs": [
    {
     "data": {
      "text/html": [
       "<div>\n",
       "<style scoped>\n",
       "    .dataframe tbody tr th:only-of-type {\n",
       "        vertical-align: middle;\n",
       "    }\n",
       "\n",
       "    .dataframe tbody tr th {\n",
       "        vertical-align: top;\n",
       "    }\n",
       "\n",
       "    .dataframe thead th {\n",
       "        text-align: right;\n",
       "    }\n",
       "</style>\n",
       "<table border=\"1\" class=\"dataframe\">\n",
       "  <thead>\n",
       "    <tr style=\"text-align: right;\">\n",
       "      <th></th>\n",
       "      <th>price</th>\n",
       "    </tr>\n",
       "    <tr>\n",
       "      <th>make</th>\n",
       "      <th></th>\n",
       "    </tr>\n",
       "  </thead>\n",
       "  <tbody>\n",
       "    <tr>\n",
       "      <th>alfa-romero</th>\n",
       "      <td>15498.33</td>\n",
       "    </tr>\n",
       "    <tr>\n",
       "      <th>audi</th>\n",
       "      <td>17194.57</td>\n",
       "    </tr>\n",
       "    <tr>\n",
       "      <th>bmw</th>\n",
       "      <td>26118.75</td>\n",
       "    </tr>\n",
       "    <tr>\n",
       "      <th>chevrolet</th>\n",
       "      <td>6007.00</td>\n",
       "    </tr>\n",
       "    <tr>\n",
       "      <th>dodge</th>\n",
       "      <td>7875.44</td>\n",
       "    </tr>\n",
       "    <tr>\n",
       "      <th>honda</th>\n",
       "      <td>8184.69</td>\n",
       "    </tr>\n",
       "    <tr>\n",
       "      <th>isuzu</th>\n",
       "      <td>11061.75</td>\n",
       "    </tr>\n",
       "    <tr>\n",
       "      <th>jaguar</th>\n",
       "      <td>34600.00</td>\n",
       "    </tr>\n",
       "    <tr>\n",
       "      <th>mazda</th>\n",
       "      <td>10652.88</td>\n",
       "    </tr>\n",
       "    <tr>\n",
       "      <th>mercedes-benz</th>\n",
       "      <td>33647.00</td>\n",
       "    </tr>\n",
       "    <tr>\n",
       "      <th>mercury</th>\n",
       "      <td>16503.00</td>\n",
       "    </tr>\n",
       "    <tr>\n",
       "      <th>mitsubishi</th>\n",
       "      <td>9239.77</td>\n",
       "    </tr>\n",
       "    <tr>\n",
       "      <th>nissan</th>\n",
       "      <td>10415.67</td>\n",
       "    </tr>\n",
       "    <tr>\n",
       "      <th>peugot</th>\n",
       "      <td>15489.09</td>\n",
       "    </tr>\n",
       "    <tr>\n",
       "      <th>plymouth</th>\n",
       "      <td>7963.43</td>\n",
       "    </tr>\n",
       "    <tr>\n",
       "      <th>porsche</th>\n",
       "      <td>27761.80</td>\n",
       "    </tr>\n",
       "    <tr>\n",
       "      <th>renault</th>\n",
       "      <td>9595.00</td>\n",
       "    </tr>\n",
       "    <tr>\n",
       "      <th>saab</th>\n",
       "      <td>15223.33</td>\n",
       "    </tr>\n",
       "    <tr>\n",
       "      <th>subaru</th>\n",
       "      <td>8541.25</td>\n",
       "    </tr>\n",
       "    <tr>\n",
       "      <th>toyota</th>\n",
       "      <td>9885.81</td>\n",
       "    </tr>\n",
       "    <tr>\n",
       "      <th>volkswagen</th>\n",
       "      <td>10077.50</td>\n",
       "    </tr>\n",
       "    <tr>\n",
       "      <th>volvo</th>\n",
       "      <td>18063.18</td>\n",
       "    </tr>\n",
       "  </tbody>\n",
       "</table>\n",
       "</div>"
      ],
      "text/plain": [
       "                  price\n",
       "make                   \n",
       "alfa-romero    15498.33\n",
       "audi           17194.57\n",
       "bmw            26118.75\n",
       "chevrolet       6007.00\n",
       "dodge           7875.44\n",
       "honda           8184.69\n",
       "isuzu          11061.75\n",
       "jaguar         34600.00\n",
       "mazda          10652.88\n",
       "mercedes-benz  33647.00\n",
       "mercury        16503.00\n",
       "mitsubishi      9239.77\n",
       "nissan         10415.67\n",
       "peugot         15489.09\n",
       "plymouth        7963.43\n",
       "porsche        27761.80\n",
       "renault         9595.00\n",
       "saab           15223.33\n",
       "subaru          8541.25\n",
       "toyota          9885.81\n",
       "volkswagen     10077.50\n",
       "volvo          18063.18"
      ]
     },
     "execution_count": 8,
     "metadata": {},
     "output_type": "execute_result"
    }
   ],
   "source": [
    "# Pivot-Tabelle\n",
    "\n",
    "df_pivot = df.pivot_table(index='make', values='price', aggfunc='mean')\n",
    "df_pivot.round(2)"
   ]
  },
  {
   "cell_type": "code",
   "execution_count": null,
   "id": "0806a575-60d8-4970-a9c3-c70176fd873c",
   "metadata": {},
   "outputs": [],
   "source": []
  },
  {
   "cell_type": "code",
   "execution_count": 9,
   "id": "f8b4094a-142b-43e9-9a3e-157252e57fe0",
   "metadata": {},
   "outputs": [
    {
     "name": "stdout",
     "output_type": "stream",
     "text": [
      "Marke mit höchstem Preis: mercedes-benz 45400\n",
      "Marke mit dem niedrigstem Preis: subaru 5118\n"
     ]
    }
   ],
   "source": [
    "# df['price'].idxmax(): Findet den Index der Zeile mit dem höchsten Preis.\n",
    "# df.loc[...]: Gibt die Zeile zurück, in der dieser Index vorkommt.\n",
    "\n",
    "highest_price = df.loc[df['price'].idxmax()]\n",
    "print('Marke mit höchstem Preis:', highest_price['make'], highest_price['price'])\n",
    "\n",
    "lowest_price = df.loc[df['price'].idxmin()]\n",
    "print('Marke mit dem niedrigstem Preis:', lowest_price['make'], lowest_price['price'])"
   ]
  },
  {
   "cell_type": "markdown",
   "id": "a7727ea4-262b-46db-a351-a1159a0ce5d1",
   "metadata": {},
   "source": [
    "---\n",
    "\n",
    "### 3. **Visualisierungen**\n",
    "   - **Aufgabe**: Erstelle ein Histogramm der `price`-Spalte, um die Verteilung der Automobilpreise zu zeigen.\n",
    "   - **Aufgabe**: Erstelle ein Balkendiagramm, das die Anzahl der Autos pro Hersteller (`make`) anzeigt.\n",
    "   - **Aufgabe**: Zeichne ein Scatter-Plot von `horsepower` gegen `price` und interpretiere die Korrelation."
   ]
  },
  {
   "cell_type": "code",
   "execution_count": 10,
   "id": "a7ce53c7-f936-4abf-815a-9af6fb649ae2",
   "metadata": {},
   "outputs": [
    {
     "data": {
      "text/plain": [
       "Text(0.5, 0, 'Preis')"
      ]
     },
     "execution_count": 10,
     "metadata": {},
     "output_type": "execute_result"
    },
    {
     "data": {
      "image/png": "[encoded data removed]",
      "text/plain": [
       "<Figure size 640x480 with 1 Axes>"
      ]
     },
     "metadata": {},
     "output_type": "display_data"
    }
   ],
   "source": [
    "import matplotlib.pyplot as plt\n",
    "\n",
    "# Erstellen des Histogramms für die price-Spalte\n",
    "plt.hist(df['price'], bins=20, edgecolor='black')\n",
    "\n",
    "plt.title('Verteilung der Automobilpreise')\n",
    "plt.ylabel('Anzahl der Fahrzeuge')\n",
    "plt.xlabel('Preis')"
   ]
  },
  {
   "cell_type": "code",
   "execution_count": null,
   "id": "db838539-ada9-4097-8957-cb76f2bf499a",
   "metadata": {},
   "outputs": [],
   "source": []
  },
  {
   "cell_type": "code",
   "execution_count": 11,
   "id": "22ac3115-13aa-4c31-9a60-11f16ffed9f7",
   "metadata": {},
   "outputs": [
    {
     "data": {
      "text/plain": [
       "make\n",
       "toyota           32\n",
       "nissan           18\n",
       "mazda            17\n",
       "mitsubishi       13\n",
       "honda            13\n",
       "subaru           12\n",
       "volkswagen       12\n",
       "volvo            11\n",
       "peugot           11\n",
       "dodge             9\n",
       "mercedes-benz     8\n",
       "bmw               8\n",
       "audi              7\n",
       "plymouth          7\n",
       "saab              6\n",
       "porsche           5\n",
       "isuzu             4\n",
       "alfa-romero       3\n",
       "chevrolet         3\n",
       "jaguar            3\n",
       "renault           2\n",
       "mercury           1\n",
       "Name: count, dtype: int64"
      ]
     },
     "execution_count": 11,
     "metadata": {},
     "output_type": "execute_result"
    }
   ],
   "source": [
    "cars_per_make = df['make'].value_counts()\n",
    "cars_per_make"
   ]
  },
  {
   "cell_type": "code",
   "execution_count": 12,
   "id": "4306b11f-592a-475c-bb7c-a0c637f23212",
   "metadata": {},
   "outputs": [
    {
     "data": {
      "text/plain": [
       "Text(0, 0.5, 'Anzahl der Fahrzeuge')"
      ]
     },
     "execution_count": 12,
     "metadata": {},
     "output_type": "execute_result"
    },
    {
     "data": {
      "image/png": "[encoded data removed]",
      "text/plain": [
       "<Figure size 640x480 with 1 Axes>"
      ]
     },
     "metadata": {},
     "output_type": "display_data"
    }
   ],
   "source": [
    "cars_per_make.plot(kind='bar', edgecolor='black')\n",
    "\n",
    "plt.title('Anzahl der Fahrzeuge nach Hersteller')\n",
    "plt.xlabel('Hersteller')\n",
    "plt.ylabel('Anzahl der Fahrzeuge')"
   ]
  },
  {
   "cell_type": "code",
   "execution_count": null,
   "id": "ddc7b518-9c89-49a9-b1e1-8c600b94871f",
   "metadata": {},
   "outputs": [],
   "source": []
  },
  {
   "cell_type": "code",
   "execution_count": null,
   "id": "eefe66b5-92ca-4787-af11-68866cb164da",
   "metadata": {},
   "outputs": [],
   "source": [
    "pd.unique(df['horsepower'])"
   ]
  },
  {
   "cell_type": "code",
   "execution_count": null,
   "id": "c6e8854f-5d66-4d7c-b54c-9bbcd47c6d59",
   "metadata": {},
   "outputs": [],
   "source": [
    "df['horsepower'] = df['horsepower'].replace('?', np.nan)\n",
    "df['horsepower'] = df['horsepower'].astype(float)\n",
    "df['horsepower'].fillna(df['horsepower'].mean(), inplace=True)\n",
    "df['horsepower'] = df['horsepower'].astype(int)\n",
    "\n",
    "pd.unique(df['horsepower'])"
   ]
  },
  {
   "cell_type": "code",
   "execution_count": 15,
   "id": "cf80bb2b-6acf-4c09-837e-7fcb13ecfc9b",
   "metadata": {},
   "outputs": [
    {
     "data": {
      "text/plain": [
       "Text(0.5, 1.0, 'Verteilung des Preises gegen PS')"
      ]
     },
     "execution_count": 15,
     "metadata": {},
     "output_type": "execute_result"
    },
    {
     "data": {
      "image/png": "[encoded data removed]",
      "text/plain": [
       "<Figure size 640x480 with 1 Axes>"
      ]
     },
     "metadata": {},
     "output_type": "display_data"
    }
   ],
   "source": [
    "df.plot(kind='scatter', x='horsepower', y='price')\n",
    "\n",
    "plt.title('Verteilung des Preises gegen PS')"
   ]
  },
  {
   "cell_type": "code",
   "execution_count": 16,
   "id": "06f0e81a-73e3-4cc1-b626-e8dc2dea9156",
   "metadata": {},
   "outputs": [
    {
     "name": "stdout",
     "output_type": "stream",
     "text": [
      "0.757945621793524\n"
     ]
    }
   ],
   "source": [
    "print(df['price'].corr(df['horsepower']))"
   ]
  },
  {
   "cell_type": "markdown",
   "id": "40f4ced2-59a1-4f6c-998d-ab9589ac0d6a",
   "metadata": {},
   "source": [
    "---\n",
    "\n",
    "### 4. **Gruppenbasierte Analyse**\n",
    "   - **Aufgabe**: Gruppiere die Autos nach `body-style` und finde heraus, welcher Karosserietyp den höchsten Durchschnittspreis hat.\n",
    "   - **Aufgabe**: Gruppiere die Autos nach `fuel-type` und bestimme den durchschnittlichen `horsepower` pro Kraftstofftyp."
   ]
  },
  {
   "cell_type": "code",
   "execution_count": 17,
   "id": "2cc4e37a-6da9-477d-ae12-7c3fb9a97fd4",
   "metadata": {},
   "outputs": [
    {
     "name": "stdout",
     "output_type": "stream",
     "text": [
      "hardtop 22208.5\n"
     ]
    }
   ],
   "source": [
    "# gruppieren nach 'body-style' und auf dieser Gruppierung den Mittelwert des Preises bestimmen\n",
    "# dann das Max und die dazugehörige ID ausgeben\n",
    "\n",
    "avg_price_by_body_style = df.groupby(by='body-style')['price'].mean()\n",
    "print(avg_price_by_body_style.idxmax(), avg_price_by_body_style.max())"
   ]
  },
  {
   "cell_type": "code",
   "execution_count": null,
   "id": "f011975a-a3c9-4bcf-b61e-b8827423191a",
   "metadata": {},
   "outputs": [],
   "source": []
  },
  {
   "cell_type": "code",
   "execution_count": 18,
   "id": "3aef5c52-42c5-4ce3-8907-4a426f55c944",
   "metadata": {},
   "outputs": [
    {
     "data": {
      "text/plain": [
       "fuel-type\n",
       "diesel     84.450000\n",
       "gas       106.394595\n",
       "Name: horsepower, dtype: float64"
      ]
     },
     "execution_count": 18,
     "metadata": {},
     "output_type": "execute_result"
    }
   ],
   "source": [
    "df.groupby(by='fuel-type')['horsepower'].mean()"
   ]
  },
  {
   "cell_type": "markdown",
   "id": "69f20613-5149-4b15-bbea-4d2bac17994b",
   "metadata": {},
   "source": [
    "---\n",
    "\n",
    "### 5. **Bivariate Analyse**\n",
    "   - **Aufgabe**: Untersuche die Korrelation zwischen `engine-size` und `price`. Was sagt die Korrelation aus?\n",
    "   - **Aufgabe**: Führe eine lineare Regression zwischen `horsepower` und `price` durch und interpretiere die Ergebnisse."
   ]
  },
  {
   "cell_type": "code",
   "execution_count": 19,
   "id": "8385a1c3-5026-49c0-9dc2-c6314a1263ff",
   "metadata": {},
   "outputs": [
    {
     "name": "stdout",
     "output_type": "stream",
     "text": [
      "int64\n",
      "0.861752231355783\n",
      "Axes(0.125,0.11;0.775x0.77)\n"
     ]
    },
    {
     "data": {
      "image/png": "[encoded data removed]",
      "text/plain": [
       "<Figure size 640x480 with 1 Axes>"
      ]
     },
     "metadata": {},
     "output_type": "display_data"
    }
   ],
   "source": [
    "# testen, auf richtigen Datentyp\n",
    "print(df['engine-size'].dtype)\n",
    "print(df['engine-size'].corr(df['price']))\n",
    "print(df.plot(kind='scatter', x='engine-size', y='price'))\n",
    "\n",
    "# sowohl der hohe Korrelationskoeffizient von 0.86, als auch der Scatterplot zeigen eine hohe posive Korrelation zwischen Motorgröße und Preis"
   ]
  },
  {
   "cell_type": "code",
   "execution_count": null,
   "id": "d005cbc4-736e-47fa-ae16-866a92da30bf",
   "metadata": {},
   "outputs": [],
   "source": []
  },
  {
   "cell_type": "code",
   "execution_count": 20,
   "id": "0cb11734-568b-4c29-9376-03cd8ac63c25",
   "metadata": {},
   "outputs": [],
   "source": [
    "from sklearn.linear_model import LinearRegression\n",
    "from sklearn.model_selection import train_test_split\n",
    "from sklearn.metrics import mean_squared_error, r2_score, mean_absolute_error\n",
    "\n",
    "# Zielvariable und Feature definieren\n",
    "X = df[['engine-size']]\n",
    "y = df['price']"
   ]
  },
  {
   "cell_type": "markdown",
   "id": "c324e303-139d-4352-afe2-f4eea40f73ba",
   "metadata": {},
   "source": [
    "- X ist nur eine einzelne Spalte, die als 1D-Array vorliegt. Das Modell LinearRegression erwartet jedoch, dass X als 2D-Array bereitgestellt wird, auch wenn man nur ein einziges Feature hat.\n",
    "\n",
    "Lösung:\n",
    "- X muss in eine 2D-Form umgewandelt werden. \n",
    "- durch `X = df[['engine-size']]` wird X zu einem DataFrame mit einer einzigen Spalte -> verschachtelte Liste = 2 Dimensionen\n",
    "- Alternativ geht auch `X = df['engine-size'].values.reshape(-1, 1)`, um es explizit zu einem 2D-Array umzuformen.\n"
   ]
  },
  {
   "cell_type": "code",
   "execution_count": 21,
   "id": "25b90373-aca7-4a53-bc74-128f92ae95aa",
   "metadata": {},
   "outputs": [
    {
     "name": "stdout",
     "output_type": "stream",
     "text": [
      "21511009.870639723\n",
      "3567.5137245601836\n",
      "0.6853744401832491\n"
     ]
    }
   ],
   "source": [
    "# Regressionsmodell festlegen \n",
    "# -> LinearRegression importieren\n",
    "model = LinearRegression()\n",
    "\n",
    "\n",
    "# Training-Testaufteilung \n",
    "# -> train_test_split importieren\n",
    "X_train, X_test, y_train, y_test = train_test_split(X,y, test_size=0.2, random_state=0)\n",
    "\n",
    "\n",
    "# Modell trainieren\n",
    "model.fit(X_train, y_train)\n",
    "\n",
    "\n",
    "# Vorhersage treffen\n",
    "y_pred = model.predict(X_test)\n",
    "\n",
    "\n",
    "# jetzt kann ich das Modell mit verschiedenen Metriken bewerten \n",
    "# -> dafür muss ich mean_squared_error, r2_score, mean_absolute_error importieren\n",
    "mse = mean_squared_error(y_test, y_pred) \n",
    "mae = mean_absolute_error(y_test, y_pred) \n",
    "r2 = r2_score(y_test, y_pred) \n",
    "\n",
    "print(mse)\n",
    "print(mae)\n",
    "print(r2)"
   ]
  },
  {
   "cell_type": "markdown",
   "id": "8bad3288-3e9e-4bbf-aa14-b2def063e62b",
   "metadata": {},
   "source": [
    "- mse = Gibt an, wie stark die Vorhersagen von den tatsächlichen Werten abweichen. Kleinere Werte sind besser.\n",
    "- mae = Gibt die durchschnittliche Abweichung an, ohne das Quadrieren der Abweichungen (kleiner ist besser).\n",
    "- r2 = Misst, wie gut das Modell die Daten erklärt (ein Wert nahe 1 bedeutet eine gute Anpassung)."
   ]
  },
  {
   "cell_type": "code",
   "execution_count": 22,
   "id": "17eafb0a-a1fe-4df1-8891-4480e1707b2e",
   "metadata": {},
   "outputs": [
    {
     "data": {
      "text/plain": [
       "array([164.25323483])"
      ]
     },
     "execution_count": 22,
     "metadata": {},
     "output_type": "execute_result"
    }
   ],
   "source": [
    "# Koeffizient berechnen\n",
    "model.coef_ "
   ]
  },
  {
   "cell_type": "markdown",
   "id": "f1aa479b-7bfc-4692-b57c-aea3cd9ed81d",
   "metadata": {},
   "source": [
    "- Der Koeffizient gibt an, wie stark sich der Preis ändert, wenn sich die Motorgröße ändert.\n",
    "- Bei einem Koeffizienten von 164.25 erhäht sich der Preis des Autos um 164.25 Einheiten, wenn die Motorgröße um 1 Einheit (cc) zunimmt"
   ]
  },
  {
   "cell_type": "code",
   "execution_count": 23,
   "id": "921e1ef0-3c67-4f65-a6ce-0ab050d8c6d2",
   "metadata": {},
   "outputs": [
    {
     "data": {
      "text/plain": [
       "Text(0, 0.5, 'vorhergesagte Preise')"
      ]
     },
     "execution_count": 23,
     "metadata": {},
     "output_type": "execute_result"
    },
    {
     "data": {
      "image/png": "[encoded data removed]",
      "text/plain": [
       "<Figure size 640x480 with 1 Axes>"
      ]
     },
     "metadata": {},
     "output_type": "display_data"
    }
   ],
   "source": [
    "# Scatterplot für tatsächliche vs vorhergesagte Preise erstellen\n",
    "plt.scatter(y_test, y_pred, edgecolors='black')\n",
    "plt.plot([y_test.min(), y_test.max()], [y_test.min(), y_test.max()], color='red')\n",
    "plt.title('tatsächliche vs. vorhergesagte Preise')\n",
    "plt.xlabel('tatsächliche Preise')\n",
    "plt.ylabel('vorhergesagte Preise')"
   ]
  },
  {
   "cell_type": "markdown",
   "id": "f6cef7d6-29bf-40e7-b74b-22363288ed91",
   "metadata": {
    "jupyter": {
     "source_hidden": true
    }
   },
   "source": [
    "- Die Regressionslinie repräsentiert die ideale Beziehung, bei der tatsächliche Preise = vorhergesagte Preise sind.\n",
    "\n",
    "- Je näher die Punkte an dieser Linie liegen, desto besser sind die Vorhersagen des Modells.\n",
    "\n",
    "- Wenn die Punkte entlang der Diagonalen verteilt sind und keine systematischen Abweichungen aufweisen, deutet dies darauf hin, dass das Modell die Preise gut vorhersagt.\n",
    "\n",
    "- Wenn die Punkte weit von der Diagonalen entfernt sind, bedeutet dies, dass das Modell große Vorhersagefehler macht (die Differenz zwischen tatsächlichen und vorhergesagten Werten ist hoch).\n",
    "\n",
    "- Punkte über der Linie: Das Modell hat den Preis unter dem tatsächlichen Wert vorhergesagt.\n",
    "\n",
    "- Punkte unter der Linie: Das Modell hat den Preis über dem tatsächlichen Wert vorhergesagt.\n",
    "\n",
    "- Wenn sich die meisten Punkte nahe an der Linie konzentrieren, bedeutet dies, dass das Modell in den meisten Fällen gut funktioniert.\n",
    "\n",
    "- Wenn die Punkte jedoch weit verstreut sind, insbesondere an den Enden (hohe oder niedrige Preise), könnte dies auf ein Problem mit der Modellanpassung für extreme Werte hinweisen.\n",
    "\n",
    "**Szenarien**\n",
    "\n",
    "1. Gute Modellanpassung:\n",
    "\n",
    "- Die Punkte verteilen sich eng entlang der Diagonalen, was darauf hindeutet, dass die Vorhersagen sehr nah an den tatsächlichen Preisen liegen.\n",
    "- Hier würde der Korrelationskoeffizient (R²) hoch sein, und Metriken wie MSE und MAE wären niedrig.\n",
    "\n",
    "2. Schlechte Modellanpassung:\n",
    "\n",
    "- Wenn die Punkte weit verstreut sind oder eine systematische Abweichung aufweisen (z.B. alle Punkte liegen über oder unter der Linie), zeigt das, dass das Modell Schwierigkeiten hat, genaue Vorhersagen zu treffen.\n",
    "- Hier wäre der R²-Wert niedrig, und der MSE oder MAE könnte hoch sein.\n",
    "\n",
    "3. Nicht-lineares Verhalten:\n",
    "\n",
    "- Wenn die Punkte ein Muster bilden (z.B. eine Kurve oder eine systematische Abweichung in bestimmten Bereichen), könnte das darauf hindeuten, dass eine lineare Regression möglicherweise nicht das richtige Modell ist. In solchen Fällen könnte ein nicht-lineares Modell oder zusätzliche Features zur Verbesserung beitragen."
   ]
  },
  {
   "cell_type": "markdown",
   "id": "b0dd2917-6741-4b09-bbe2-b2c22ed07c86",
   "metadata": {},
   "source": [
    "### 6. **Datenbereinigung**\n",
    "   - **Aufgabe**: Überprüfe den Datensatz auf duplizierte Einträge und entferne sie falls vorhanden.\n",
    "   - **Aufgabe**: Normalisiere die `price`-Spalte, um sie für Modellierungstechniken vorzubereiten."
   ]
  },
  {
   "cell_type": "code",
   "execution_count": 24,
   "id": "4f89fea4-7fb0-4a3e-99d0-1fdb41b76e24",
   "metadata": {},
   "outputs": [
    {
     "data": {
      "text/plain": [
       "np.int64(0)"
      ]
     },
     "execution_count": 24,
     "metadata": {},
     "output_type": "execute_result"
    }
   ],
   "source": [
    "df.duplicated().sum()"
   ]
  },
  {
   "cell_type": "code",
   "execution_count": 25,
   "id": "c85369ba-bd40-4281-9040-76aca21abf8c",
   "metadata": {
    "scrolled": true
   },
   "outputs": [
    {
     "data": {
      "text/plain": [
       "0      0.207959\n",
       "1      0.282558\n",
       "2      0.282558\n",
       "3      0.219254\n",
       "4      0.306142\n",
       "         ...   \n",
       "200    0.291123\n",
       "201    0.345738\n",
       "202    0.406311\n",
       "203    0.430763\n",
       "204    0.434611\n",
       "Name: price, Length: 205, dtype: float64"
      ]
     },
     "execution_count": 25,
     "metadata": {},
     "output_type": "execute_result"
    }
   ],
   "source": [
    "# Normalisierung (Skalierung zwischen 0 und 1)\n",
    "df['price'] = (df['price']-df['price'].min())/((df['price'].max()-df['price'].min()))\n",
    "df['price']"
   ]
  },
  {
   "cell_type": "markdown",
   "id": "30099d26-8174-4578-a692-bbf8c8a48af5",
   "metadata": {},
   "source": [
    "### 7. **Feature Engineering**\n",
    "   - **Aufgabe**: Erstelle eine neue Spalte `price_per_horsepower`, die den Preis durch die Leistung (`horsepower`) teilt.\n",
    "   - **Aufgabe**: Kategorisiere den Preis in \"low\", \"medium\" und \"high\", basierend auf Quantilen, und speichere diese Informationen in einer neuen Spalte."
   ]
  },
  {
   "cell_type": "code",
   "execution_count": null,
   "id": "18332994-151f-45ac-a626-7d9db7acba5b",
   "metadata": {
    "scrolled": true
   },
   "outputs": [],
   "source": [
    "# neue Spalte anlegen\n",
    "df['price_per_horsepower'] = df['price']/df['horsepower']\n",
    "df"
   ]
  },
  {
   "cell_type": "code",
   "execution_count": 39,
   "id": "7448680c-f77d-4a53-a597-7cfe9f2d2c4e",
   "metadata": {},
   "outputs": [
    {
     "data": {
      "text/html": [
       "<div>\n",
       "<style scoped>\n",
       "    .dataframe tbody tr th:only-of-type {\n",
       "        vertical-align: middle;\n",
       "    }\n",
       "\n",
       "    .dataframe tbody tr th {\n",
       "        vertical-align: top;\n",
       "    }\n",
       "\n",
       "    .dataframe thead th {\n",
       "        text-align: right;\n",
       "    }\n",
       "</style>\n",
       "<table border=\"1\" class=\"dataframe\">\n",
       "  <thead>\n",
       "    <tr style=\"text-align: right;\">\n",
       "      <th></th>\n",
       "      <th>symboling</th>\n",
       "      <th>normalized-losses</th>\n",
       "      <th>make</th>\n",
       "      <th>fuel-type</th>\n",
       "      <th>aspiration</th>\n",
       "      <th>num-of-doors</th>\n",
       "      <th>body-style</th>\n",
       "      <th>drive-wheels</th>\n",
       "      <th>engine-location</th>\n",
       "      <th>wheel-base</th>\n",
       "      <th>...</th>\n",
       "      <th>bore</th>\n",
       "      <th>stroke</th>\n",
       "      <th>compression-ratio</th>\n",
       "      <th>horsepower</th>\n",
       "      <th>peak-rpm</th>\n",
       "      <th>city-mpg</th>\n",
       "      <th>highway-mpg</th>\n",
       "      <th>price</th>\n",
       "      <th>price_per_horsepower</th>\n",
       "      <th>price_categorie</th>\n",
       "    </tr>\n",
       "  </thead>\n",
       "  <tbody>\n",
       "    <tr>\n",
       "      <th>0</th>\n",
       "      <td>3</td>\n",
       "      <td>?</td>\n",
       "      <td>alfa-romero</td>\n",
       "      <td>gas</td>\n",
       "      <td>std</td>\n",
       "      <td>two</td>\n",
       "      <td>convertible</td>\n",
       "      <td>rwd</td>\n",
       "      <td>front</td>\n",
       "      <td>88.6</td>\n",
       "      <td>...</td>\n",
       "      <td>3.47</td>\n",
       "      <td>2.68</td>\n",
       "      <td>9.0</td>\n",
       "      <td>111</td>\n",
       "      <td>5000</td>\n",
       "      <td>21</td>\n",
       "      <td>27</td>\n",
       "      <td>0.207959</td>\n",
       "      <td>0.001874</td>\n",
       "      <td>low</td>\n",
       "    </tr>\n",
       "    <tr>\n",
       "      <th>1</th>\n",
       "      <td>3</td>\n",
       "      <td>?</td>\n",
       "      <td>alfa-romero</td>\n",
       "      <td>gas</td>\n",
       "      <td>std</td>\n",
       "      <td>two</td>\n",
       "      <td>convertible</td>\n",
       "      <td>rwd</td>\n",
       "      <td>front</td>\n",
       "      <td>88.6</td>\n",
       "      <td>...</td>\n",
       "      <td>3.47</td>\n",
       "      <td>2.68</td>\n",
       "      <td>9.0</td>\n",
       "      <td>111</td>\n",
       "      <td>5000</td>\n",
       "      <td>21</td>\n",
       "      <td>27</td>\n",
       "      <td>0.282558</td>\n",
       "      <td>0.002546</td>\n",
       "      <td>medium</td>\n",
       "    </tr>\n",
       "    <tr>\n",
       "      <th>2</th>\n",
       "      <td>1</td>\n",
       "      <td>?</td>\n",
       "      <td>alfa-romero</td>\n",
       "      <td>gas</td>\n",
       "      <td>std</td>\n",
       "      <td>two</td>\n",
       "      <td>hatchback</td>\n",
       "      <td>rwd</td>\n",
       "      <td>front</td>\n",
       "      <td>94.5</td>\n",
       "      <td>...</td>\n",
       "      <td>2.68</td>\n",
       "      <td>3.47</td>\n",
       "      <td>9.0</td>\n",
       "      <td>154</td>\n",
       "      <td>5000</td>\n",
       "      <td>19</td>\n",
       "      <td>26</td>\n",
       "      <td>0.282558</td>\n",
       "      <td>0.001835</td>\n",
       "      <td>medium</td>\n",
       "    </tr>\n",
       "    <tr>\n",
       "      <th>3</th>\n",
       "      <td>2</td>\n",
       "      <td>164</td>\n",
       "      <td>audi</td>\n",
       "      <td>gas</td>\n",
       "      <td>std</td>\n",
       "      <td>four</td>\n",
       "      <td>sedan</td>\n",
       "      <td>fwd</td>\n",
       "      <td>front</td>\n",
       "      <td>99.8</td>\n",
       "      <td>...</td>\n",
       "      <td>3.19</td>\n",
       "      <td>3.4</td>\n",
       "      <td>10.0</td>\n",
       "      <td>102</td>\n",
       "      <td>5500</td>\n",
       "      <td>24</td>\n",
       "      <td>30</td>\n",
       "      <td>0.219254</td>\n",
       "      <td>0.002150</td>\n",
       "      <td>low</td>\n",
       "    </tr>\n",
       "    <tr>\n",
       "      <th>4</th>\n",
       "      <td>2</td>\n",
       "      <td>164</td>\n",
       "      <td>audi</td>\n",
       "      <td>gas</td>\n",
       "      <td>std</td>\n",
       "      <td>four</td>\n",
       "      <td>sedan</td>\n",
       "      <td>4wd</td>\n",
       "      <td>front</td>\n",
       "      <td>99.4</td>\n",
       "      <td>...</td>\n",
       "      <td>3.19</td>\n",
       "      <td>3.4</td>\n",
       "      <td>8.0</td>\n",
       "      <td>115</td>\n",
       "      <td>5500</td>\n",
       "      <td>18</td>\n",
       "      <td>22</td>\n",
       "      <td>0.306142</td>\n",
       "      <td>0.002662</td>\n",
       "      <td>medium</td>\n",
       "    </tr>\n",
       "  </tbody>\n",
       "</table>\n",
       "<p>5 rows × 28 columns</p>\n",
       "</div>"
      ],
      "text/plain": [
       "   symboling normalized-losses         make fuel-type aspiration num-of-doors  \\\n",
       "0          3                 ?  alfa-romero       gas        std          two   \n",
       "1          3                 ?  alfa-romero       gas        std          two   \n",
       "2          1                 ?  alfa-romero       gas        std          two   \n",
       "3          2               164         audi       gas        std         four   \n",
       "4          2               164         audi       gas        std         four   \n",
       "\n",
       "    body-style drive-wheels engine-location  wheel-base  ...  bore  stroke  \\\n",
       "0  convertible          rwd           front        88.6  ...  3.47    2.68   \n",
       "1  convertible          rwd           front        88.6  ...  3.47    2.68   \n",
       "2    hatchback          rwd           front        94.5  ...  2.68    3.47   \n",
       "3        sedan          fwd           front        99.8  ...  3.19     3.4   \n",
       "4        sedan          4wd           front        99.4  ...  3.19     3.4   \n",
       "\n",
       "   compression-ratio  horsepower peak-rpm city-mpg  highway-mpg     price  \\\n",
       "0                9.0         111     5000       21           27  0.207959   \n",
       "1                9.0         111     5000       21           27  0.282558   \n",
       "2                9.0         154     5000       19           26  0.282558   \n",
       "3               10.0         102     5500       24           30  0.219254   \n",
       "4                8.0         115     5500       18           22  0.306142   \n",
       "\n",
       "  price_per_horsepower price_categorie  \n",
       "0             0.001874             low  \n",
       "1             0.002546          medium  \n",
       "2             0.001835          medium  \n",
       "3             0.002150             low  \n",
       "4             0.002662          medium  \n",
       "\n",
       "[5 rows x 28 columns]"
      ]
     },
     "execution_count": 39,
     "metadata": {},
     "output_type": "execute_result"
    }
   ],
   "source": [
    "# Preis kategorisieren\n",
    "df['price_categorie'] = pd.cut(df['price'], bins=[0, 0.25, 0.75, 1], labels=['low', 'medium', 'high'], right=True)\n",
    "df.head()"
   ]
  },
  {
   "cell_type": "markdown",
   "id": "b8937e27-8034-49f0-9d5e-c971dd3e3b60",
   "metadata": {},
   "source": [
    "### 8. **Modellierung**\n",
    "   - **Aufgabe**: Teile den Datensatz in Trainings- und Testdaten auf. Verwende die Spalten `horsepower`, `engine-size` und `curb-weight`, um den `price` mit einem linearen Regressionsmodell vorherzusagen.\n",
    "   - **Aufgabe**: Führe eine k-Means-Clusteranalyse basierend auf den Merkmalen `horsepower` und `price` durch und interpretiere die Cluster."
   ]
  },
  {
   "cell_type": "markdown",
   "id": "c4a6fda8-594e-4c13-b32a-9bde4689bead",
   "metadata": {
    "jupyter": {
     "source_hidden": true
    }
   },
   "source": [
    "### 9. **Weitere Analyse**\n",
    "   - **Aufgabe**: Finde heraus, ob Autos mit mehr Zylindern (`num-of-cylinders`) tendenziell teurer sind.\n",
    "   - **Aufgabe**: Analysiere, ob es einen Unterschied im Preis zwischen Autos mit unterschiedlichen `fuel-type` (Benzin/Diesel) gibt.\n",
    "\n",
    "Diese Übungen bieten eine gute Grundlage für Datenanalyse, Bereinigung und Modellierung mit einem realen Datensatz. Solltest du an einer spezifischen Aufgabe oder an den Lösungen interessiert sein, lass es mich wissen!"
   ]
  },
  {
   "cell_type": "code",
   "execution_count": null,
   "id": "b127b4d6-aa78-4968-a168-b2620b8233dc",
   "metadata": {},
   "outputs": [],
   "source": []
  },
  {
   "cell_type": "code",
   "execution_count": null,
   "id": "2b15bfa5-3d4f-45bd-add9-b8b0ef28208b",
   "metadata": {},
   "outputs": [],
   "source": []
  }
 ],
 "metadata": {
  "kernelspec": {
   "display_name": "Python 3 (ipykernel)",
   "language": "python",
   "name": "python3"
  },
  "language_info": {
   "codemirror_mode": {
    "name": "ipython",
    "version": 3
   },
   "file_extension": ".py",
   "mimetype": "text/x-python",
   "name": "python",
   "nbconvert_exporter": "python",
   "pygments_lexer": "ipython3",
   "version": "3.12.6"
  }
 },
 "nbformat": 4,
 "nbformat_minor": 5
}
