{
 "cells": [
  {
   "cell_type": "markdown",
   "id": "9b1935d5-1136-465d-b596-8ec90c926040",
   "metadata": {
    "editable": true,
    "slideshow": {
     "slide_type": ""
    },
    "tags": []
   },
   "source": [
    "Dieses Notebook soll zeigen, wie man Daten mit den leistungsfähigen Python-Bibliotheken Pandas und NumPy verwaltet und analysiert. \n",
    "\n",
    "\n",
    "[Pandas versus Numpy](https://www.codecademy.com/article/introduction-to-numpy-and-pandas)"
   ]
  },
  {
   "cell_type": "markdown",
   "id": "2700dc9c-c843-42e1-a58b-375dbb4d72ef",
   "metadata": {},
   "source": [
    "# Syllabus\n",
    "\n",
    "Organize and clean data using Pandas' data manipulation tools (like filtering, sorting, and handling missing values)."
   ]
  },
  {
   "cell_type": "markdown",
   "id": "ab328214-611a-45c5-a0bf-72584729e66f",
   "metadata": {},
   "source": [
    "# Wichtige Python-Bibliotheken für Datenwissenschaft\n",
    "\n",
    "\n",
    "## NumPy\n",
    "**NumPy** ist die grundlegende Bibliothek für numerische Berechnungen in Python. Sie bietet Unterstützung für Arrays und Matrizen sowie mathematische Funktionen, um auf diesen Daten effizient Berechnungen durchzuführen. Es ist das Fundament für viele andere wissenschaftliche Bibliotheken, darunter **SciPy** und **Pandas**.\n",
    "\n",
    "**Wichtige Funktionen von NumPy**:\n",
    "- Arbeit mit n-dimensionalen Arrays\n",
    "- Mathematische Funktionen wie lineare Algebra, Fourier-Transformationen\n",
    "- Zufallszahlengenerierung und statistische Berechnungen\n",
    "- Effiziente Operationen auf großen Datenmengen\n",
    "\n",
    "\n",
    "## Matplotlib\n",
    "**Matplotlib** ist eine umfassende Bibliothek zur Erstellung von statischen, animierten und interaktiven Visualisierungen in Python. Es bietet eine große Flexibilität bei der Gestaltung von Diagrammen und wird oft verwendet, um Daten zu visualisieren und zu verstehen.\n",
    "\n",
    "**Wichtige Funktionen von Matplotlib**:\n",
    "- Erstellen von Diagrammen wie Linien-, Balken-, Streudiagrammen, etc.\n",
    "- Anpassung von Achsen, Farben, Legenden und Titeln\n",
    "- Möglichkeit zur Erstellung komplexer Grafiken und Layouts\n",
    "\n",
    "\n",
    "\n",
    "## Pandas\n",
    "**Pandas** ist eine leistungsstarke, benutzerfreundliche Open-Source-Bibliothek für Datenanalyse und -manipulation in Python. Es ermöglicht die Arbeit mit strukturierten Daten, wie z.B. Tabellen (DataFrames), und bietet Funktionen für das Laden, Bereinigen, Analysieren und Visualisieren von Daten. Es wird häufig in der Datenwissenschaft und maschinellem Lernen verwendet.\n",
    "\n",
    "**Wichtige Funktionen von Pandas**:\n",
    "- Arbeiten mit DataFrames (Tabellenstruktur)\n",
    "- Daten aus CSV, Excel, SQL und anderen Quellen laden\n",
    "- Datentransformation und -bereinigung\n",
    "- Statistische Analysen und Aggregation von Daten\n",
    "\n",
    "\n",
    "\n",
    "## SciPy\n",
    "**SciPy** ist eine wissenschaftliche Rechenbibliothek in Python, die auf **NumPy** aufbaut. Sie bietet Funktionen für mathematische, wissenschaftliche und technische Berechnungen, einschließlich Optimierung, Integration, Interpolation, Eigenwertprobleme und vieles mehr.\n",
    "\n",
    "**Wichtige Funktionen von SciPy**:\n",
    "- Berechnungen in der linearen Algebra\n",
    "- Signal- und Bildverarbeitung\n",
    "- Optimierung und numerische Integration\n",
    "- Statistische Berechnungen\n",
    "\n",
    "\n",
    "\n",
    "\n"
   ]
  },
  {
   "cell_type": "markdown",
   "id": "156ed741-88ac-46db-963a-7dbf0efdb3f5",
   "metadata": {
    "editable": true,
    "slideshow": {
     "slide_type": ""
    },
    "tags": []
   },
   "source": [
    "---\n",
    "# Filtern von Daten\n",
    "\n",
    "hilft nur bestimmte Zeilen oder Spalten zu betrachten, die bestimmten Bedingungen entsprechen.\n",
    "\n",
    "## einfaches Filtern\n",
    "\n",
    "Beispiel:\n",
    "Dies gibt alle Zeilen zurück, in denen das Alter größer als 25 ist."
   ]
  },
  {
   "cell_type": "code",
   "execution_count": 15,
   "id": "32d61af4-953e-4dc6-a0de-5f5a0a109ca8",
   "metadata": {
    "editable": true,
    "slideshow": {
     "slide_type": ""
    },
    "tags": []
   },
   "outputs": [
    {
     "name": "stdout",
     "output_type": "stream",
     "text": [
      "    Name  Alter   Gehalt\n",
      "1    Bob     30  60000.0\n",
      "3  David     35  45000.0\n"
     ]
    }
   ],
   "source": [
    "import pandas as pd\n",
    "\n",
    "# Beispiel-Daten\n",
    "data = {'Name': ['Anna', 'Bob', 'Clara', 'David'],\n",
    "        'Alter': [25, 30, 22, 35],\n",
    "        'Gehalt': [50000, 60000, None, 45000]}\n",
    "df = pd.DataFrame(data)\n",
    "\n",
    "# Filtern nach Personen, die älter als 25 Jahre sind\n",
    "filtered_df = df[df['Alter'] > 25]\n",
    "print(filtered_df)"
   ]
  },
  {
   "cell_type": "markdown",
   "id": "4e9d7801-1db9-4c6f-8b92-91c1086ebd17",
   "metadata": {
    "editable": true,
    "slideshow": {
     "slide_type": ""
    },
    "tags": []
   },
   "source": [
    "## Mehrere Bedingungen kombinieren\n",
    "\n",
    "Die Filterung kann auf mehreren Bedingungen beruhen, um feinere Datenauswahl zu ermöglichen. Dafür verwenden wir logische Operatoren wie `&` (und), `|` (oder), und `~` (nicht).\n",
    "\n",
    "Beispiel:\n",
    "Hier kombinieren wir zwei Bedingungen mit `&` (und). Man kann auch `|` (oder) verwenden, um nach Personen zu filtern, die eine der beiden Bedingungen erfüllen.\n"
   ]
  },
  {
   "cell_type": "code",
   "execution_count": 17,
   "id": "f7620199-3b08-445e-9abd-2e6fd01c2918",
   "metadata": {
    "editable": true,
    "slideshow": {
     "slide_type": ""
    },
    "tags": []
   },
   "outputs": [
    {
     "name": "stdout",
     "output_type": "stream",
     "text": [
      "  Name  Alter   Gehalt\n",
      "1  Bob     30  60000.0\n"
     ]
    }
   ],
   "source": [
    "# Filtern nach Personen, die älter als 25 sind und ein Gehalt über 45.000 haben\n",
    "filtered_df = df[(df['Alter'] > 25) & (df['Gehalt'] > 45000)]\n",
    "print(filtered_df)"
   ]
  },
  {
   "cell_type": "markdown",
   "id": "f75a6926-81e1-43e3-917d-9847cfc89e82",
   "metadata": {
    "editable": true,
    "slideshow": {
     "slide_type": ""
    },
    "tags": []
   },
   "source": [
    "## Bedingte Zuweisungen\n",
    "Man kann auch bestimmte Werte basierend auf Bedingungen ändern oder neu zuweisen:"
   ]
  },
  {
   "cell_type": "code",
   "execution_count": 19,
   "id": "34b49d9b-59c9-470a-8f86-67477d148033",
   "metadata": {
    "editable": true,
    "slideshow": {
     "slide_type": ""
    },
    "tags": []
   },
   "outputs": [
    {
     "name": "stdout",
     "output_type": "stream",
     "text": [
      "    Name  Alter   Gehalt\n",
      "0   Anna     25  50000.0\n",
      "1    Bob     30  60000.0\n",
      "2  Clara     22  50000.0\n",
      "3  David     35  45000.0\n"
     ]
    }
   ],
   "source": [
    "# Gehalt auf 50.000 setzen, wenn das Alter unter 30 ist\n",
    "df.loc[df['Alter'] < 30, 'Gehalt'] = 50000\n",
    "print(df)"
   ]
  },
  {
   "cell_type": "markdown",
   "id": "7a758b42-90fd-49a6-a15c-7b3c2576a631",
   "metadata": {},
   "source": [
    "## Filtern mit Strings\n",
    "Auch das Filtern nach Textwerten ist einfach.\n",
    "Mit `str.contains` kann man nach einem Muster in den Textwerten suchen."
   ]
  },
  {
   "cell_type": "code",
   "execution_count": 18,
   "id": "9efb7037-63bc-4b7c-b7af-0c094b502dc6",
   "metadata": {},
   "outputs": [
    {
     "name": "stdout",
     "output_type": "stream",
     "text": [
      "   Name  Alter   Gehalt\n",
      "0  Anna     25  50000.0\n"
     ]
    }
   ],
   "source": [
    "\n",
    "# Personen, deren Name mit 'A' beginnt\n",
    "filtered_df = df[df['Name'].str.startswith('A')]\n",
    "print(filtered_df)\n",
    "\n"
   ]
  },
  {
   "cell_type": "markdown",
   "id": "c8636add-b61f-4214-b44b-4655c33eb724",
   "metadata": {
    "editable": true,
    "slideshow": {
     "slide_type": ""
    },
    "tags": []
   },
   "source": [
    "# Verwendung von .query()\n",
    "\n",
    "Eine lesbare Alternative zur Filterung, die SQL-ähnliche Abfragen ermöglicht:"
   ]
  },
  {
   "cell_type": "code",
   "execution_count": 28,
   "id": "cb25fa40-704e-489c-babe-6bf0d02d0651",
   "metadata": {},
   "outputs": [
    {
     "name": "stdout",
     "output_type": "stream",
     "text": [
      "  Name  Alter   Gehalt Abteilung\n",
      "1  Bob     30  60000.0        IT\n"
     ]
    }
   ],
   "source": [
    "# Mit query()\n",
    "\n",
    "# Beispiel-Daten\n",
    "data = {'Name': ['Anna', 'Bob', 'Clara', 'David', 'Eva'],\n",
    "        'Alter': [25, 30, 22, 35, 28],\n",
    "        'Gehalt': [50000, 60000, 45000, None, 55000],\n",
    "        'Abteilung': ['HR', 'IT', 'HR', 'IT', 'Marketing']}\n",
    "df = pd.DataFrame(data)\n",
    "\n",
    "filtered_df = df.query(\"Abteilung == 'IT' and Gehalt > 50000\")\n",
    "print(filtered_df)"
   ]
  },
  {
   "cell_type": "markdown",
   "id": "e76266e8-90b7-40e3-b6df-b2b4f3590f7b",
   "metadata": {
    "editable": true,
    "slideshow": {
     "slide_type": ""
    },
    "tags": []
   },
   "source": [
    "---\n",
    "# Sortieren von Daten: .sort_values()\n",
    "\n",
    "\n",
    "## Einfaches Sortieren\n",
    "ordnet die Daten sinnvoll, z.B. nach Werten.\n",
    "\n",
    "Beispiel:\n",
    "Hier werden die Daten nach dem Alter aufsteigend sortiert."
   ]
  },
  {
   "cell_type": "code",
   "execution_count": 20,
   "id": "6ba1e93b-9429-4edc-a809-10fe22ed3564",
   "metadata": {},
   "outputs": [
    {
     "name": "stdout",
     "output_type": "stream",
     "text": [
      "    Name  Alter   Gehalt\n",
      "2  Clara     22  50000.0\n",
      "0   Anna     25  50000.0\n",
      "1    Bob     30  60000.0\n",
      "3  David     35  45000.0\n"
     ]
    }
   ],
   "source": [
    "# Sortieren nach dem Alter in aufsteigender Reihenfolge\n",
    "sorted_df = df.sort_values(by='Alter')\n",
    "print(sorted_df)"
   ]
  },
  {
   "cell_type": "markdown",
   "id": "2b50ba92-51ad-47fa-ae08-40f08f29c5e4",
   "metadata": {
    "editable": true,
    "slideshow": {
     "slide_type": ""
    },
    "tags": []
   },
   "source": [
    "## Mehrspaltiges Sortieren\n",
    "\n",
    "Man kann die Daten nach mehreren Spalten sortieren, wobei eine Primärsortierung erfolgt und dann eine Sekundärsortierung.\n",
    "\n",
    "Beispiel:\n",
    "Hier wird zuerst nach Alter aufsteigend und dann innerhalb der Altersgruppen nach Gehalt absteigend sortiert.\n",
    "\n",
    "Die Option `ascending=[True, False]` gibt an, dass die erste Spalte aufsteigend und die zweite absteigend sortiert wird.\n",
    "\n"
   ]
  },
  {
   "cell_type": "code",
   "execution_count": 21,
   "id": "d18299c0-d8c4-43b1-bf26-236b5441ef86",
   "metadata": {
    "editable": true,
    "slideshow": {
     "slide_type": ""
    },
    "tags": []
   },
   "outputs": [
    {
     "name": "stdout",
     "output_type": "stream",
     "text": [
      "    Name  Alter   Gehalt\n",
      "2  Clara     22  50000.0\n",
      "0   Anna     25  50000.0\n",
      "1    Bob     30  60000.0\n",
      "3  David     35  45000.0\n"
     ]
    }
   ],
   "source": [
    "# Sortieren nach Alter und bei gleichem Alter nach Gehalt\n",
    "sorted_df = df.sort_values(by=['Alter', 'Gehalt'], ascending=[True, False])\n",
    "print(sorted_df)"
   ]
  },
  {
   "cell_type": "markdown",
   "id": "5eb5cd45-5125-4f23-b28f-925062680536",
   "metadata": {
    "editable": true,
    "slideshow": {
     "slide_type": ""
    },
    "tags": []
   },
   "source": [
    "# Umgang mit fehlenden Werten\n",
    "\n",
    "Fehlende Werte (NaN) sind oft in Datensätzen zu finden, und Pandas bietet verschiedene Methoden, um mit diesen umzugehen:\n",
    "\n",
    "## Erstellen von fehlenden Daten: np.nan"
   ]
  },
  {
   "cell_type": "code",
   "execution_count": 12,
   "id": "194cb2bb-ed14-4623-aacc-471714d1df87",
   "metadata": {},
   "outputs": [
    {
     "name": "stdout",
     "output_type": "stream",
     "text": [
      "DataFrame mit fehlenden Werten:\n",
      "    Name  Alter   Gehalt\n",
      "0   Anna   25.0  50000.0\n",
      "1    Bob   30.0  60000.0\n",
      "2  Clara    NaN      NaN\n",
      "3  David   35.0  45000.0\n"
     ]
    }
   ],
   "source": [
    "# Beispiel: Fehlende Werte in einem DataFrame erstellen\n",
    "import numpy as np\n",
    "\n",
    "df_missing = df.copy()\n",
    "df_missing.loc[2, 'Alter'] = np.nan  # Erstelle fehlende Werte\n",
    "print('DataFrame mit fehlenden Werten:')\n",
    "print(df_missing)\n"
   ]
  },
  {
   "cell_type": "markdown",
   "id": "f0c76755-b6a4-45f5-b943-b33ab7bb32fc",
   "metadata": {},
   "source": [
    "## Entfernen von fehlenden Werten: .dropna()"
   ]
  },
  {
   "cell_type": "code",
   "execution_count": 3,
   "id": "0baab533-139b-4864-b475-b38c3aa6dde4",
   "metadata": {
    "editable": true,
    "slideshow": {
     "slide_type": ""
    },
    "tags": []
   },
   "outputs": [
    {
     "name": "stdout",
     "output_type": "stream",
     "text": [
      "    Name  Alter   Gehalt\n",
      "0   Anna     25  50000.0\n",
      "1    Bob     30  60000.0\n",
      "3  David     35  45000.0\n"
     ]
    }
   ],
   "source": [
    "\n",
    "# Entfernen von Zeilen mit fehlenden Werten\n",
    "cleaned_df = df.dropna()\n",
    "print(cleaned_df)\n"
   ]
  },
  {
   "cell_type": "markdown",
   "id": "509d6e6e-9a0a-46f3-8862-60e2224bdf02",
   "metadata": {},
   "source": [
    "## Auffüllen von fehlenden Werten: .fillna()"
   ]
  },
  {
   "cell_type": "code",
   "execution_count": 4,
   "id": "df59a0ef-8ffb-42f6-bfd3-1f4a8d0cfd3a",
   "metadata": {},
   "outputs": [
    {
     "name": "stdout",
     "output_type": "stream",
     "text": [
      "    Name  Alter   Gehalt\n",
      "0   Anna     25  50000.0\n",
      "1    Bob     30  60000.0\n",
      "2  Clara     22      0.0\n",
      "3  David     35  45000.0\n"
     ]
    }
   ],
   "source": [
    "\n",
    "# Auffüllen von fehlenden Werten mit einem Standardwert (z.B. 0)\n",
    "filled_df = df.fillna(0)\n",
    "print(filled_df)\n"
   ]
  },
  {
   "cell_type": "markdown",
   "id": "069c9899-a842-463e-b6e0-b9f9ff83c50f",
   "metadata": {
    "editable": true,
    "slideshow": {
     "slide_type": ""
    },
    "tags": []
   },
   "source": [
    "## Auffüllen mit dem Durchschnitt"
   ]
  },
  {
   "cell_type": "code",
   "execution_count": 5,
   "id": "2234da03-0173-49fa-a862-7bdd33153296",
   "metadata": {},
   "outputs": [
    {
     "name": "stdout",
     "output_type": "stream",
     "text": [
      "    Name  Alter        Gehalt\n",
      "0   Anna     25  50000.000000\n",
      "1    Bob     30  60000.000000\n",
      "2  Clara     22  51666.666667\n",
      "3  David     35  45000.000000\n"
     ]
    },
    {
     "name": "stderr",
     "output_type": "stream",
     "text": [
      "C:\\Users\\Jens-\\AppData\\Local\\Temp\\ipykernel_20920\\777435027.py:3: FutureWarning: A value is trying to be set on a copy of a DataFrame or Series through chained assignment using an inplace method.\n",
      "The behavior will change in pandas 3.0. This inplace method will never work because the intermediate object on which we are setting values always behaves as a copy.\n",
      "\n",
      "For example, when doing 'df[col].method(value, inplace=True)', try using 'df.method({col: value}, inplace=True)' or df[col] = df[col].method(value) instead, to perform the operation inplace on the original object.\n",
      "\n",
      "\n",
      "  df['Gehalt'].fillna(mean_salary, inplace=True)\n"
     ]
    }
   ],
   "source": [
    "\n",
    "# Auffüllen der fehlenden Werte in der Gehaltsspalte mit dem Durchschnitt\n",
    "mean_salary = df['Gehalt'].mean()\n",
    "df['Gehalt'].fillna(mean_salary, inplace=True)\n",
    "print(df)\n"
   ]
  },
  {
   "cell_type": "markdown",
   "id": "d21a7077-7955-4f5a-81a5-f800c1fd2274",
   "metadata": {
    "editable": true,
    "slideshow": {
     "slide_type": ""
    },
    "tags": []
   },
   "source": [
    "## Interpolation: .interpolate()\n",
    "Eine sinnvolle Methode, um fehlende numerische Werte zu füllen, ist die Interpolation. Diese Methode nimmt an, dass die Werte kontinuierlich sind, und füllt die Lücken entsprechend."
   ]
  },
  {
   "cell_type": "code",
   "execution_count": 22,
   "id": "03cce704-9e09-4ea9-b20d-93c007c6f5f6",
   "metadata": {
    "editable": true,
    "slideshow": {
     "slide_type": ""
    },
    "tags": []
   },
   "outputs": [
    {
     "name": "stdout",
     "output_type": "stream",
     "text": [
      "    Name  Alter   Gehalt\n",
      "0   Anna     25  50000.0\n",
      "1    Bob     30  60000.0\n",
      "2  Clara     22  50000.0\n",
      "3  David     35  45000.0\n"
     ]
    }
   ],
   "source": [
    "# Interpolieren von fehlenden Werten (linear)\n",
    "df['Gehalt'] = df['Gehalt'].interpolate()\n",
    "print(df)"
   ]
  },
  {
   "cell_type": "markdown",
   "id": "234acd8d-d66a-4b32-87e1-ced80e42b4c8",
   "metadata": {
    "editable": true,
    "slideshow": {
     "slide_type": ""
    },
    "tags": []
   },
   "source": [
    "## Bedingte Imputation\n",
    "Man kann Werte basierend auf bestimmten Bedingungen oder Gruppen füllen. \n",
    "\n",
    "Beispiel:\n",
    "den Durchschnitt der Gruppe verwenden"
   ]
  },
  {
   "cell_type": "code",
   "execution_count": 23,
   "id": "29cf9209-a786-485f-90d4-c9b6e259fedf",
   "metadata": {
    "editable": true,
    "slideshow": {
     "slide_type": ""
    },
    "tags": []
   },
   "outputs": [
    {
     "name": "stdout",
     "output_type": "stream",
     "text": [
      "    Name  Alter   Gehalt\n",
      "0   Anna     25  50000.0\n",
      "1    Bob     30  60000.0\n",
      "2  Clara     22  50000.0\n",
      "3  David     35  45000.0\n"
     ]
    }
   ],
   "source": [
    "# Durchschnittliches Gehalt pro Altersgruppe berechnen und fehlende Werte basierend darauf füllen\n",
    "df['Gehalt'] = df.groupby('Alter')['Gehalt'].transform(lambda x: x.fillna(x.mean()))\n",
    "print(df)"
   ]
  },
  {
   "cell_type": "markdown",
   "id": "0e531c20-8f88-42f7-8566-a55b0bd73fc9",
   "metadata": {
    "editable": true,
    "slideshow": {
     "slide_type": ""
    },
    "tags": []
   },
   "source": [
    "## Gruppieren und Aggregieren: .agg()\n",
    "Eine weitere fortgeschrittene Technik in Pandas ist das Gruppieren von Daten (ähnlich wie SQL-Gruppierungen), gefolgt von Aggregationen wie Summe, Durchschnitt oder Zählungen."
   ]
  },
  {
   "cell_type": "code",
   "execution_count": 24,
   "id": "eac31d40-5983-40b9-8730-a9c1f10d3857",
   "metadata": {},
   "outputs": [
    {
     "name": "stdout",
     "output_type": "stream",
     "text": [
      "        Gehalt\n",
      "Alter         \n",
      "22     50000.0\n",
      "25     50000.0\n",
      "30     60000.0\n",
      "35     45000.0\n"
     ]
    }
   ],
   "source": [
    "# Durchschnittliches Gehalt nach Altersgruppen\n",
    "grouped_df = df.groupby('Alter').agg({'Gehalt': 'mean'})\n",
    "print(grouped_df)"
   ]
  },
  {
   "cell_type": "markdown",
   "id": "e7e47068-d4af-44fd-97d7-a86dac991354",
   "metadata": {
    "editable": true,
    "slideshow": {
     "slide_type": ""
    },
    "tags": []
   },
   "source": [
    "mehrere Aggregationen auf verschiedene Spalten anwenden:"
   ]
  },
  {
   "cell_type": "code",
   "execution_count": 25,
   "id": "0f7f12ea-700e-499a-97ac-fe739285c9c6",
   "metadata": {
    "editable": true,
    "slideshow": {
     "slide_type": ""
    },
    "tags": []
   },
   "outputs": [
    {
     "name": "stdout",
     "output_type": "stream",
     "text": [
      "        Gehalt           Name\n",
      "          mean      sum count\n",
      "Alter                        \n",
      "22     50000.0  50000.0     1\n",
      "25     50000.0  50000.0     1\n",
      "30     60000.0  60000.0     1\n",
      "35     45000.0  45000.0     1\n"
     ]
    }
   ],
   "source": [
    "# Mehrere Aggregationen auf verschiedene Spalten\n",
    "grouped_df = df.groupby('Alter').agg({'Gehalt': ['mean', 'sum'], 'Name': 'count'})\n",
    "print(grouped_df)"
   ]
  },
  {
   "cell_type": "markdown",
   "id": "11572bc5-ecf1-481f-979c-b922437f5d42",
   "metadata": {
    "editable": true,
    "slideshow": {
     "slide_type": ""
    },
    "tags": []
   },
   "source": [
    "## Auffüllen mit vorangehenden/nachfolgenden Werten (Forward Fill/Backward Fill)\n",
    "Wenn Daten zeitlich sortiert sind, kannst du fehlende Werte durch den vorherigen (`ffill`)oder nachfolgenden (`bfill`)Wert ersetzen:\n"
   ]
  },
  {
   "cell_type": "code",
   "execution_count": 31,
   "id": "e62e7a8f-0c29-43fa-aab2-f288f0888a05",
   "metadata": {
    "editable": true,
    "slideshow": {
     "slide_type": ""
    },
    "tags": []
   },
   "outputs": [
    {
     "name": "stderr",
     "output_type": "stream",
     "text": [
      "C:\\Users\\Jens-\\AppData\\Local\\Temp\\ipykernel_20920\\1726793603.py:3: FutureWarning: DataFrame.fillna with 'method' is deprecated and will raise in a future version. Use obj.ffill() or obj.bfill() instead.\n",
      "  df.fillna(method='ffill', inplace=True)\n"
     ]
    },
    {
     "data": {
      "text/html": [
       "<div>\n",
       "<style scoped>\n",
       "    .dataframe tbody tr th:only-of-type {\n",
       "        vertical-align: middle;\n",
       "    }\n",
       "\n",
       "    .dataframe tbody tr th {\n",
       "        vertical-align: top;\n",
       "    }\n",
       "\n",
       "    .dataframe thead th {\n",
       "        text-align: right;\n",
       "    }\n",
       "</style>\n",
       "<table border=\"1\" class=\"dataframe\">\n",
       "  <thead>\n",
       "    <tr style=\"text-align: right;\">\n",
       "      <th></th>\n",
       "      <th>Name</th>\n",
       "      <th>Alter</th>\n",
       "      <th>Gehalt</th>\n",
       "      <th>Abteilung</th>\n",
       "    </tr>\n",
       "  </thead>\n",
       "  <tbody>\n",
       "    <tr>\n",
       "      <th>0</th>\n",
       "      <td>Anna</td>\n",
       "      <td>25</td>\n",
       "      <td>50000.0</td>\n",
       "      <td>HR</td>\n",
       "    </tr>\n",
       "    <tr>\n",
       "      <th>1</th>\n",
       "      <td>Bob</td>\n",
       "      <td>30</td>\n",
       "      <td>60000.0</td>\n",
       "      <td>IT</td>\n",
       "    </tr>\n",
       "    <tr>\n",
       "      <th>2</th>\n",
       "      <td>Clara</td>\n",
       "      <td>22</td>\n",
       "      <td>45000.0</td>\n",
       "      <td>HR</td>\n",
       "    </tr>\n",
       "    <tr>\n",
       "      <th>3</th>\n",
       "      <td>David</td>\n",
       "      <td>35</td>\n",
       "      <td>45000.0</td>\n",
       "      <td>IT</td>\n",
       "    </tr>\n",
       "    <tr>\n",
       "      <th>4</th>\n",
       "      <td>Eva</td>\n",
       "      <td>28</td>\n",
       "      <td>55000.0</td>\n",
       "      <td>Marketing</td>\n",
       "    </tr>\n",
       "  </tbody>\n",
       "</table>\n",
       "</div>"
      ],
      "text/plain": [
       "    Name  Alter   Gehalt  Abteilung\n",
       "0   Anna     25  50000.0         HR\n",
       "1    Bob     30  60000.0         IT\n",
       "2  Clara     22  45000.0         HR\n",
       "3  David     35  45000.0         IT\n",
       "4    Eva     28  55000.0  Marketing"
      ]
     },
     "execution_count": 31,
     "metadata": {},
     "output_type": "execute_result"
    }
   ],
   "source": [
    "# Auffüllen mit dem vorherigen Wert (Forward Fill)\n",
    "\n",
    "df.fillna(method='ffill', inplace=True)"
   ]
  }
 ],
 "metadata": {
  "kernelspec": {
   "display_name": "Python 3 (ipykernel)",
   "language": "python",
   "name": "python3"
  },
  "language_info": {
   "codemirror_mode": {
    "name": "ipython",
    "version": 3
   },
   "file_extension": ".py",
   "mimetype": "text/x-python",
   "name": "python",
   "nbconvert_exporter": "python",
   "pygments_lexer": "ipython3",
   "version": "3.12.6"
  }
 },
 "nbformat": 4,
 "nbformat_minor": 5
}
