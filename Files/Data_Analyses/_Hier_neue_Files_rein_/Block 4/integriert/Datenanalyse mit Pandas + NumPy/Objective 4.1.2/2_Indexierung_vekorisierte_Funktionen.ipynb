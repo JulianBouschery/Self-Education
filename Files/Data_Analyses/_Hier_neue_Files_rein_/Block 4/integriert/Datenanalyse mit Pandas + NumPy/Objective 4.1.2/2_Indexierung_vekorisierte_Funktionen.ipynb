{
 "cells": [
  {
   "cell_type": "markdown",
   "id": "18722212-18b3-4102-bbf4-105901f4dd45",
   "metadata": {
    "editable": true,
    "slideshow": {
     "slide_type": ""
    },
    "tags": []
   },
   "source": []
  },
  {
   "cell_type": "markdown",
   "id": "64846f02-bd33-4e90-9d56-87910197ce19",
   "metadata": {
    "editable": true,
    "slideshow": {
     "slide_type": ""
    },
    "tags": []
   },
   "source": [
    "# Syllabus\n",
    "\n",
    "Implement indexing methods and use vectorized functions for efficient data manipulation.\n",
    "\n",
    "---"
   ]
  },
  {
   "cell_type": "markdown",
   "id": "2f1e6285-b291-4ad5-95f1-24ad4bebaff2",
   "metadata": {
    "editable": true,
    "slideshow": {
     "slide_type": ""
    },
    "tags": []
   },
   "source": [
    "# grundlegende Methoden zur Implementierung von Indexierungsverfahren\n",
    "Indexierung ist wichtig, um auf spezifische Daten in einem DataFrame zuzugreifen und diese zu manipulieren.\n"
   ]
  },
  {
   "cell_type": "markdown",
   "id": "6e0a75a5-de31-4d6b-97cf-d444ed95efc3",
   "metadata": {
    "editable": true,
    "slideshow": {
     "slide_type": ""
    },
    "tags": []
   },
   "source": [
    "## Standard-Indexierung\n",
    "\n",
    "**Zugriff auf eine Spalte:**"
   ]
  },
  {
   "cell_type": "code",
   "execution_count": 11,
   "id": "5e6ac7fa-5f2c-4eba-a9dd-3ead86254eb7",
   "metadata": {
    "editable": true,
    "slideshow": {
     "slide_type": ""
    },
    "tags": []
   },
   "outputs": [
    {
     "data": {
      "text/plain": [
       "0     Anna\n",
       "1    Bernd\n",
       "2    Clara\n",
       "Name: Name, dtype: object"
      ]
     },
     "execution_count": 11,
     "metadata": {},
     "output_type": "execute_result"
    }
   ],
   "source": [
    "import pandas as pd\n",
    "\n",
    "# Erstellen eines DataFrames\n",
    "data = {\n",
    "    'Name': ['Anna', 'Bernd', 'Clara'],\n",
    "    'Alter': [28, 34, 22],\n",
    "    'Stadt': ['Berlin', 'München', 'Hamburg']\n",
    "}\n",
    "df = pd.DataFrame(data)\n",
    "\n",
    "# Zugriff auf die Spalte 'Name'\n",
    "namen = df['Name']\n",
    "namen"
   ]
  },
  {
   "cell_type": "markdown",
   "id": "52bbd44b-bc50-4187-b187-7e52159cd026",
   "metadata": {
    "editable": true,
    "slideshow": {
     "slide_type": ""
    },
    "tags": []
   },
   "source": [
    "## Zeilen-Indexierung\n",
    "\n",
    "**Zugriff auf eine bestimmte Zeile:**"
   ]
  },
  {
   "cell_type": "code",
   "execution_count": 12,
   "id": "733bb7db-b14e-4e83-87cc-835b8b4c4010",
   "metadata": {
    "editable": true,
    "slideshow": {
     "slide_type": ""
    },
    "tags": []
   },
   "outputs": [
    {
     "name": "stdout",
     "output_type": "stream",
     "text": [
      "Name       Anna\n",
      "Alter        28\n",
      "Stadt    Berlin\n",
      "Name: 0, dtype: object\n"
     ]
    }
   ],
   "source": [
    "# Zugriff auf die erste Zeile (Index 0)\n",
    "erste_zeile = df.iloc[0]\n",
    "print(erste_zeile)"
   ]
  },
  {
   "cell_type": "markdown",
   "id": "940c6927-e3b9-4c83-a309-772fc303d548",
   "metadata": {
    "editable": true,
    "slideshow": {
     "slide_type": ""
    },
    "tags": []
   },
   "source": [
    "## Bedingte Indexierung\n",
    "\n",
    "**Zugriff auf Zeilen, die bestimmten Bedingungen entsprechen:**"
   ]
  },
  {
   "cell_type": "code",
   "execution_count": 13,
   "id": "0872fa75-8b40-4999-b52b-9fe77f79ca7c",
   "metadata": {
    "editable": true,
    "slideshow": {
     "slide_type": ""
    },
    "tags": []
   },
   "outputs": [
    {
     "name": "stdout",
     "output_type": "stream",
     "text": [
      "    Name  Alter    Stadt\n",
      "1  Bernd     34  München\n"
     ]
    }
   ],
   "source": [
    "# Zugriff auf alle Zeilen, in denen das Alter größer als 30 ist\n",
    "aeltere_personen = df[df['Alter'] > 30]\n",
    "print(aeltere_personen)"
   ]
  },
  {
   "cell_type": "markdown",
   "id": "8aaffb9b-1f8c-4de8-ac29-95ee98b7dfa7",
   "metadata": {},
   "source": [
    "## Mehrdimensionale Indexierung\n",
    "\n",
    "**Zugriff auf bestimmte Zeilen und Spalten:**"
   ]
  },
  {
   "cell_type": "code",
   "execution_count": 14,
   "id": "a74e2835-d16a-4574-aed0-de17c75b653c",
   "metadata": {
    "editable": true,
    "slideshow": {
     "slide_type": ""
    },
    "tags": []
   },
   "outputs": [
    {
     "name": "stdout",
     "output_type": "stream",
     "text": [
      "34\n"
     ]
    }
   ],
   "source": [
    "# Zugriff auf das Alter von Bernd (Index 1) \n",
    "bernd_alter = df.loc[1, 'Alter']\n",
    "print(bernd_alter)"
   ]
  },
  {
   "cell_type": "markdown",
   "id": "f55ef577-8c41-4765-a8d1-765325fe6d23",
   "metadata": {
    "editable": true,
    "slideshow": {
     "slide_type": ""
    },
    "tags": []
   },
   "source": [
    "## Setzen von benutzerdefinierten Indizes\n",
    "\n",
    "**Festlegen eines bestimmten Spaltenwertes als Index:**"
   ]
  },
  {
   "cell_type": "code",
   "execution_count": 15,
   "id": "56c10f6e-3edc-4e9d-a037-14c66c248df5",
   "metadata": {},
   "outputs": [
    {
     "name": "stdout",
     "output_type": "stream",
     "text": [
      "       Alter    Stadt\n",
      "Name                 \n",
      "Anna      28   Berlin\n",
      "Bernd     34  München\n",
      "Clara     22  Hamburg\n"
     ]
    }
   ],
   "source": [
    "# Setzen der Spalte 'Name' als Index\n",
    "df.set_index('Name', inplace=True)\n",
    "print(df)"
   ]
  },
  {
   "cell_type": "markdown",
   "id": "d09c716d-4629-4d3a-9330-262ad8a80955",
   "metadata": {
    "editable": true,
    "slideshow": {
     "slide_type": ""
    },
    "tags": []
   },
   "source": [
    "## Reset des Index\n",
    "\n",
    "**Zurücksetzen des Index auf den Standard:**"
   ]
  },
  {
   "cell_type": "code",
   "execution_count": 16,
   "id": "d470301b-4aad-4ec1-a6f0-94033e5f6041",
   "metadata": {},
   "outputs": [
    {
     "name": "stdout",
     "output_type": "stream",
     "text": [
      "    Name  Alter    Stadt\n",
      "0   Anna     28   Berlin\n",
      "1  Bernd     34  München\n",
      "2  Clara     22  Hamburg\n"
     ]
    }
   ],
   "source": [
    "# Zurücksetzen des Index\n",
    "df.reset_index(inplace=True)\n",
    "print(df)"
   ]
  },
  {
   "cell_type": "markdown",
   "id": "3351ba84-6529-4c43-9782-3bfcb02890b3",
   "metadata": {
    "editable": true,
    "slideshow": {
     "slide_type": ""
    },
    "tags": []
   },
   "source": [
    "---\n",
    "# Vektorisierte Funktionen\n",
    "\n",
    "Vektorisierte Funktionen sind für die elementweise Berechnung auf Arrays oder DataFrames optimiert. \n",
    "\n",
    "Vektorisierung bedeutet: &nbsp; **Schleifen intern in C** ausgeführt werden<br>\n",
    "-> bietet **deutliche Geschwindigkeitssteigerung** gegenüber ggü. Python-Schleifen"
   ]
  },
  {
   "cell_type": "markdown",
   "id": "fdfec0db-b833-44c2-99f1-a3080e335d08",
   "metadata": {
    "editable": true,
    "slideshow": {
     "slide_type": ""
    },
    "tags": []
   },
   "source": [
    "## NumPy-Verktorisierung\n",
    "\n",
    "NumPy bietet eine leistungsstarke Möglichkeit, Vektorisierung in Python durchzuführen\n",
    "bedeutet: Operationen auf Arrays können ohne explizite Schleifen ausgeführt werden. \n",
    "Dies führt zu schnelleren Berechnungen und ermöglicht es, den Code klarer und kompakter zu gestalten.\n",
    "\n",
    "Original-Array:"
   ]
  },
  {
   "cell_type": "code",
   "execution_count": 39,
   "id": "49eaa8c0-02ae-4b23-8f81-2a17666e92e6",
   "metadata": {},
   "outputs": [
    {
     "name": "stdout",
     "output_type": "stream",
     "text": [
      "Array a: [1 2 3 4]\n",
      "Array b: [10 20 30 40]\n"
     ]
    }
   ],
   "source": [
    "import numpy as np\n",
    "\n",
    "# Erstellen von NumPy-Arrays\n",
    "a = np.array([1, 2, 3, 4])\n",
    "b = np.array([10, 20, 30, 40])\n",
    "print(\"Array a:\", a)\n",
    "print(\"Array b:\", b)"
   ]
  },
  {
   "cell_type": "markdown",
   "id": "f988af1e-ed04-4765-bf7a-3843720e21e8",
   "metadata": {
    "editable": true,
    "slideshow": {
     "slide_type": ""
    },
    "tags": []
   },
   "source": [
    "### Vektorisierte Addition\n",
    "\n",
    "Du kannst Arrays einfach addieren:"
   ]
  },
  {
   "cell_type": "code",
   "execution_count": 40,
   "id": "764e0b30-5b11-4b19-a705-f5d97e9eaf14",
   "metadata": {},
   "outputs": [
    {
     "name": "stdout",
     "output_type": "stream",
     "text": [
      "\n",
      "Vektorisierte Addition a + b: [11 22 33 44]\n"
     ]
    }
   ],
   "source": [
    "# Vektorisierte Addition\n",
    "c = a + b\n",
    "print(\"\\nVektorisierte Addition a + b:\", c)"
   ]
  },
  {
   "cell_type": "markdown",
   "id": "f96c08ec-35b4-4396-83ec-b33558646841",
   "metadata": {
    "editable": true,
    "slideshow": {
     "slide_type": ""
    },
    "tags": []
   },
   "source": [
    "### Vektorisierte Subtraktion\n",
    "\n",
    "Subtraktionen sind ebenfalls einfach:"
   ]
  },
  {
   "cell_type": "code",
   "execution_count": 41,
   "id": "3d84c2a2-ec7d-4c00-8b95-55196386ff39",
   "metadata": {
    "editable": true,
    "slideshow": {
     "slide_type": ""
    },
    "tags": []
   },
   "outputs": [
    {
     "name": "stdout",
     "output_type": "stream",
     "text": [
      "Vektorisierte Subtraktion b - a: [ 9 18 27 36]\n"
     ]
    }
   ],
   "source": [
    "# Vektorisierte Subtraktion\n",
    "d = b - a\n",
    "print(\"Vektorisierte Subtraktion b - a:\", d)"
   ]
  },
  {
   "cell_type": "markdown",
   "id": "7b5e9dc2-3b72-492c-a87b-230003b3a3c9",
   "metadata": {
    "editable": true,
    "slideshow": {
     "slide_type": ""
    },
    "tags": []
   },
   "source": [
    "### Vektorisierte Multiplikation und Division\n",
    "\n",
    "Die Multiplikation und Division funktionieren ebenfalls vektorisert:"
   ]
  },
  {
   "cell_type": "code",
   "execution_count": 42,
   "id": "54532548-daca-4086-b35c-a5f4f1d16b9f",
   "metadata": {},
   "outputs": [
    {
     "name": "stdout",
     "output_type": "stream",
     "text": [
      "Vektorisierte Multiplikation a * b: [ 10  40  90 160]\n",
      "Vektorisierte Division b / a: [10. 10. 10. 10.]\n"
     ]
    }
   ],
   "source": [
    "# Vektorisierte Multiplikation\n",
    "e = a * b\n",
    "print(\"Vektorisierte Multiplikation a * b:\", e)\n",
    "\n",
    "# Vektorisierte Division\n",
    "f = b / a\n",
    "print(\"Vektorisierte Division b / a:\", f)"
   ]
  },
  {
   "cell_type": "markdown",
   "id": "99ea87b7-4736-43ac-a1b4-5e565be2f271",
   "metadata": {
    "editable": true,
    "slideshow": {
     "slide_type": ""
    },
    "tags": []
   },
   "source": [
    "### 6. Vektorisierte Funktionen\n",
    "\n",
    "Du kannst auch vektorisierte Funktionen von NumPy verwenden:"
   ]
  },
  {
   "cell_type": "code",
   "execution_count": 43,
   "id": "b001119a-92ac-4bdf-8b5d-181fcbfd8bbb",
   "metadata": {},
   "outputs": [
    {
     "name": "stdout",
     "output_type": "stream",
     "text": [
      "Vektorisierte Funktion (Quadrat von a): [ 1  4  9 16]\n",
      "Vektorisierte Sinus-Funktion von a: [ 0.84147098  0.90929743  0.14112001 -0.7568025 ]\n"
     ]
    }
   ],
   "source": [
    "# Vektorisierte Funktion (z.B. Quadrat)\n",
    "g = np.square(a)\n",
    "print(\"Vektorisierte Funktion (Quadrat von a):\", g)\n",
    "\n",
    "# Vektorisierte Sinus-Funktion\n",
    "h = np.sin(a)\n",
    "print(\"Vektorisierte Sinus-Funktion von a:\", h)"
   ]
  },
  {
   "cell_type": "markdown",
   "id": "74ceb378-3cb7-4ae3-ab77-e9a795d5e8e3",
   "metadata": {
    "editable": true,
    "slideshow": {
     "slide_type": ""
    },
    "tags": []
   },
   "source": [
    "### Bedingte vektorisierte Operationen\n",
    "\n",
    "NumPy unterstützt auch bedingte Operationen, die auf ganze Arrays angewendet werden können:"
   ]
  },
  {
   "cell_type": "code",
   "execution_count": 44,
   "id": "7eeb03eb-893e-4ac4-95ea-71dc1dda2d9b",
   "metadata": {},
   "outputs": [
    {
     "name": "stdout",
     "output_type": "stream",
     "text": [
      "Bedingung (a > 2): [False False  True  True]\n",
      "Ergebnisse basierend auf Bedingung: [0 0 3 4]\n"
     ]
    }
   ],
   "source": [
    "# Bedingte vektorisierte Operation\n",
    "mask = a > 2\n",
    "print(\"Bedingung (a > 2):\", mask)\n",
    "\n",
    "# Anwendung der Bedingung, um neue Werte zu erstellen\n",
    "i = np.where(mask, a, 0)  # Setzt Werte kleiner oder gleich 2 auf 0\n",
    "print(\"Ergebnisse basierend auf Bedingung:\", i)"
   ]
  },
  {
   "cell_type": "markdown",
   "id": "ed73d681-31a6-468a-acf1-1edb0deaa170",
   "metadata": {
    "editable": true,
    "slideshow": {
     "slide_type": ""
    },
    "tags": []
   },
   "source": [
    "### 8. Aggregationen\n",
    "\n",
    "Vektorisierte Aggregationsfunktionen sind ebenfalls verfügbar:"
   ]
  },
  {
   "cell_type": "code",
   "execution_count": 45,
   "id": "eec99eca-8115-43d6-963f-f0ac1dcc35c8",
   "metadata": {},
   "outputs": [
    {
     "name": "stdout",
     "output_type": "stream",
     "text": [
      "Summe von a: 10\n",
      "Mittelwert von a: 2.5\n"
     ]
    }
   ],
   "source": [
    "# Berechnung von Summe und Mittelwert\n",
    "summe = np.sum(a)\n",
    "mittelwert = np.mean(a)\n",
    "print(\"Summe von a:\", summe)\n",
    "print(\"Mittelwert von a:\", mittelwert)"
   ]
  },
  {
   "cell_type": "markdown",
   "id": "e7c47d98-729f-4dda-bbe3-cfb57ad3097a",
   "metadata": {
    "editable": true,
    "slideshow": {
     "slide_type": ""
    },
    "tags": []
   },
   "source": [
    "## Pandas-Vektorisierung\n",
    "\n",
    "Vektorisierte Operationen auf einem DataFrame in Pandas ermöglichen es, Berechnungen auf ganzen Spalten oder Zeilen gleichzeitig durchzuführen,anstatt sie iterativ zu verarbeiten. \n",
    "Das verbessert die Leistung und Effizienz einer Datenanalyse erheblich.\n",
    "\n",
    "Originaldataframe:"
   ]
  },
  {
   "cell_type": "code",
   "execution_count": 28,
   "id": "fa00257e-f7b9-4159-aa66-f09a0768a24e",
   "metadata": {
    "editable": true,
    "slideshow": {
     "slide_type": ""
    },
    "tags": []
   },
   "outputs": [
    {
     "name": "stdout",
     "output_type": "stream",
     "text": [
      "Original-Dataframe:\n"
     ]
    },
    {
     "data": {
      "text/html": [
       "<div>\n",
       "<style scoped>\n",
       "    .dataframe tbody tr th:only-of-type {\n",
       "        vertical-align: middle;\n",
       "    }\n",
       "\n",
       "    .dataframe tbody tr th {\n",
       "        vertical-align: top;\n",
       "    }\n",
       "\n",
       "    .dataframe thead th {\n",
       "        text-align: right;\n",
       "    }\n",
       "</style>\n",
       "<table border=\"1\" class=\"dataframe\">\n",
       "  <thead>\n",
       "    <tr style=\"text-align: right;\">\n",
       "      <th></th>\n",
       "      <th>A</th>\n",
       "      <th>B</th>\n",
       "      <th>C</th>\n",
       "    </tr>\n",
       "  </thead>\n",
       "  <tbody>\n",
       "    <tr>\n",
       "      <th>0</th>\n",
       "      <td>1</td>\n",
       "      <td>10</td>\n",
       "      <td>100</td>\n",
       "    </tr>\n",
       "    <tr>\n",
       "      <th>1</th>\n",
       "      <td>2</td>\n",
       "      <td>20</td>\n",
       "      <td>200</td>\n",
       "    </tr>\n",
       "    <tr>\n",
       "      <th>2</th>\n",
       "      <td>3</td>\n",
       "      <td>30</td>\n",
       "      <td>300</td>\n",
       "    </tr>\n",
       "    <tr>\n",
       "      <th>3</th>\n",
       "      <td>4</td>\n",
       "      <td>40</td>\n",
       "      <td>400</td>\n",
       "    </tr>\n",
       "  </tbody>\n",
       "</table>\n",
       "</div>"
      ],
      "text/plain": [
       "   A   B    C\n",
       "0  1  10  100\n",
       "1  2  20  200\n",
       "2  3  30  300\n",
       "3  4  40  400"
      ]
     },
     "execution_count": 28,
     "metadata": {},
     "output_type": "execute_result"
    }
   ],
   "source": [
    "import pandas as pd\n",
    "\n",
    "# Beispiel-Daten erstellen\n",
    "data = {\n",
    "    'A': [1, 2, 3, 4],\n",
    "    'B': [10, 20, 30, 40],\n",
    "    'C': [100, 200, 300, 400]\n",
    "}\n",
    "df = pd.DataFrame(data)\n",
    "print('Original-Dataframe:')\n",
    "df"
   ]
  },
  {
   "cell_type": "markdown",
   "id": "dee45cec-1cb4-40a3-a15f-52f9e07964d6",
   "metadata": {
    "editable": true,
    "slideshow": {
     "slide_type": ""
    },
    "tags": []
   },
   "source": [
    "### Vektorisierte Addition\n",
    "\n",
    "Addition ganzer Spalten:"
   ]
  },
  {
   "cell_type": "code",
   "execution_count": 22,
   "id": "579eaebd-f198-433d-bb2f-c815be663c11",
   "metadata": {
    "editable": true,
    "slideshow": {
     "slide_type": ""
    },
    "tags": []
   },
   "outputs": [
    {
     "name": "stdout",
     "output_type": "stream",
     "text": [
      "\n",
      "Nach Addition von Spalte A und B:\n"
     ]
    },
    {
     "data": {
      "text/html": [
       "<div>\n",
       "<style scoped>\n",
       "    .dataframe tbody tr th:only-of-type {\n",
       "        vertical-align: middle;\n",
       "    }\n",
       "\n",
       "    .dataframe tbody tr th {\n",
       "        vertical-align: top;\n",
       "    }\n",
       "\n",
       "    .dataframe thead th {\n",
       "        text-align: right;\n",
       "    }\n",
       "</style>\n",
       "<table border=\"1\" class=\"dataframe\">\n",
       "  <thead>\n",
       "    <tr style=\"text-align: right;\">\n",
       "      <th></th>\n",
       "      <th>A</th>\n",
       "      <th>B</th>\n",
       "      <th>C</th>\n",
       "      <th>D</th>\n",
       "    </tr>\n",
       "  </thead>\n",
       "  <tbody>\n",
       "    <tr>\n",
       "      <th>0</th>\n",
       "      <td>1</td>\n",
       "      <td>10</td>\n",
       "      <td>100</td>\n",
       "      <td>11</td>\n",
       "    </tr>\n",
       "    <tr>\n",
       "      <th>1</th>\n",
       "      <td>2</td>\n",
       "      <td>20</td>\n",
       "      <td>200</td>\n",
       "      <td>22</td>\n",
       "    </tr>\n",
       "    <tr>\n",
       "      <th>2</th>\n",
       "      <td>3</td>\n",
       "      <td>30</td>\n",
       "      <td>300</td>\n",
       "      <td>33</td>\n",
       "    </tr>\n",
       "    <tr>\n",
       "      <th>3</th>\n",
       "      <td>4</td>\n",
       "      <td>40</td>\n",
       "      <td>400</td>\n",
       "      <td>44</td>\n",
       "    </tr>\n",
       "  </tbody>\n",
       "</table>\n",
       "</div>"
      ],
      "text/plain": [
       "   A   B    C   D\n",
       "0  1  10  100  11\n",
       "1  2  20  200  22\n",
       "2  3  30  300  33\n",
       "3  4  40  400  44"
      ]
     },
     "execution_count": 22,
     "metadata": {},
     "output_type": "execute_result"
    }
   ],
   "source": [
    "df['D'] = df['A'] + df['B']\n",
    "print(\"\\nNach Addition von Spalte A und B:\")\n",
    "df"
   ]
  },
  {
   "cell_type": "markdown",
   "id": "34e2e083-ae7c-4510-9559-1111b8b8d7c9",
   "metadata": {
    "editable": true,
    "slideshow": {
     "slide_type": ""
    },
    "tags": []
   },
   "source": [
    "### Vektorisierte Subtraktion\n",
    "\n",
    "Subtraktion funktioniert ebenfalls vektorisert:"
   ]
  },
  {
   "cell_type": "code",
   "execution_count": 30,
   "id": "e8d3a697-070f-4828-b364-9704c6bbb6bd",
   "metadata": {
    "editable": true,
    "slideshow": {
     "slide_type": ""
    },
    "tags": []
   },
   "outputs": [
    {
     "name": "stdout",
     "output_type": "stream",
     "text": [
      "\n",
      "Nach Subtraktion von Spalte A von C:\n"
     ]
    },
    {
     "data": {
      "text/html": [
       "<div>\n",
       "<style scoped>\n",
       "    .dataframe tbody tr th:only-of-type {\n",
       "        vertical-align: middle;\n",
       "    }\n",
       "\n",
       "    .dataframe tbody tr th {\n",
       "        vertical-align: top;\n",
       "    }\n",
       "\n",
       "    .dataframe thead th {\n",
       "        text-align: right;\n",
       "    }\n",
       "</style>\n",
       "<table border=\"1\" class=\"dataframe\">\n",
       "  <thead>\n",
       "    <tr style=\"text-align: right;\">\n",
       "      <th></th>\n",
       "      <th>A</th>\n",
       "      <th>B</th>\n",
       "      <th>C</th>\n",
       "      <th>E</th>\n",
       "    </tr>\n",
       "  </thead>\n",
       "  <tbody>\n",
       "    <tr>\n",
       "      <th>0</th>\n",
       "      <td>1</td>\n",
       "      <td>10</td>\n",
       "      <td>100</td>\n",
       "      <td>99</td>\n",
       "    </tr>\n",
       "    <tr>\n",
       "      <th>1</th>\n",
       "      <td>2</td>\n",
       "      <td>20</td>\n",
       "      <td>200</td>\n",
       "      <td>198</td>\n",
       "    </tr>\n",
       "    <tr>\n",
       "      <th>2</th>\n",
       "      <td>3</td>\n",
       "      <td>30</td>\n",
       "      <td>300</td>\n",
       "      <td>297</td>\n",
       "    </tr>\n",
       "    <tr>\n",
       "      <th>3</th>\n",
       "      <td>4</td>\n",
       "      <td>40</td>\n",
       "      <td>400</td>\n",
       "      <td>396</td>\n",
       "    </tr>\n",
       "  </tbody>\n",
       "</table>\n",
       "</div>"
      ],
      "text/plain": [
       "   A   B    C    E\n",
       "0  1  10  100   99\n",
       "1  2  20  200  198\n",
       "2  3  30  300  297\n",
       "3  4  40  400  396"
      ]
     },
     "execution_count": 30,
     "metadata": {},
     "output_type": "execute_result"
    }
   ],
   "source": [
    "# Vektorisierte Subtraktion\n",
    "df['E'] = df['C'] - df['A']\n",
    "print(\"\\nNach Subtraktion von Spalte A von C:\")\n",
    "df"
   ]
  },
  {
   "cell_type": "markdown",
   "id": "95141dde-7546-4eaf-8065-e9b39bd1041c",
   "metadata": {
    "editable": true,
    "slideshow": {
     "slide_type": ""
    },
    "tags": []
   },
   "source": [
    "### Vektorisierte Multiplikation\n",
    "\n",
    "Du kannst auch Multiplikationen in einer vektorisierten Weise durchführen:"
   ]
  },
  {
   "cell_type": "code",
   "execution_count": 34,
   "id": "3c693f07-2b7f-4911-b49c-fbbbecee9bf0",
   "metadata": {
    "editable": true,
    "slideshow": {
     "slide_type": ""
    },
    "tags": []
   },
   "outputs": [
    {
     "name": "stdout",
     "output_type": "stream",
     "text": [
      "\n",
      "Nach Multiplikation von Spalte A und B:\n"
     ]
    },
    {
     "data": {
      "text/html": [
       "<div>\n",
       "<style scoped>\n",
       "    .dataframe tbody tr th:only-of-type {\n",
       "        vertical-align: middle;\n",
       "    }\n",
       "\n",
       "    .dataframe tbody tr th {\n",
       "        vertical-align: top;\n",
       "    }\n",
       "\n",
       "    .dataframe thead th {\n",
       "        text-align: right;\n",
       "    }\n",
       "</style>\n",
       "<table border=\"1\" class=\"dataframe\">\n",
       "  <thead>\n",
       "    <tr style=\"text-align: right;\">\n",
       "      <th></th>\n",
       "      <th>A</th>\n",
       "      <th>B</th>\n",
       "      <th>C</th>\n",
       "      <th>E</th>\n",
       "      <th>F</th>\n",
       "    </tr>\n",
       "  </thead>\n",
       "  <tbody>\n",
       "    <tr>\n",
       "      <th>0</th>\n",
       "      <td>1</td>\n",
       "      <td>10</td>\n",
       "      <td>100</td>\n",
       "      <td>99</td>\n",
       "      <td>10</td>\n",
       "    </tr>\n",
       "    <tr>\n",
       "      <th>1</th>\n",
       "      <td>2</td>\n",
       "      <td>20</td>\n",
       "      <td>200</td>\n",
       "      <td>198</td>\n",
       "      <td>40</td>\n",
       "    </tr>\n",
       "    <tr>\n",
       "      <th>2</th>\n",
       "      <td>3</td>\n",
       "      <td>30</td>\n",
       "      <td>300</td>\n",
       "      <td>297</td>\n",
       "      <td>90</td>\n",
       "    </tr>\n",
       "    <tr>\n",
       "      <th>3</th>\n",
       "      <td>4</td>\n",
       "      <td>40</td>\n",
       "      <td>400</td>\n",
       "      <td>396</td>\n",
       "      <td>160</td>\n",
       "    </tr>\n",
       "  </tbody>\n",
       "</table>\n",
       "</div>"
      ],
      "text/plain": [
       "   A   B    C    E    F\n",
       "0  1  10  100   99   10\n",
       "1  2  20  200  198   40\n",
       "2  3  30  300  297   90\n",
       "3  4  40  400  396  160"
      ]
     },
     "execution_count": 34,
     "metadata": {},
     "output_type": "execute_result"
    }
   ],
   "source": [
    "# Vektorisierte Multiplikation\n",
    "df['F'] = df['A'] * df['B']\n",
    "print(\"\\nNach Multiplikation von Spalte A und B:\")\n",
    "df"
   ]
  },
  {
   "cell_type": "markdown",
   "id": "f897dd55-0870-4f16-9b46-2ec8d088779a",
   "metadata": {
    "editable": true,
    "slideshow": {
     "slide_type": ""
    },
    "tags": []
   },
   "source": [
    "### Vektorisierte Funktionen\n",
    "\n",
    "Pandas unterstützt auch die Anwendung von Funktionen auf ganze Spalten:"
   ]
  },
  {
   "cell_type": "code",
   "execution_count": 36,
   "id": "a082d0ce-2aa0-401f-9ebc-d5dcd4c2e3d3",
   "metadata": {},
   "outputs": [
    {
     "name": "stdout",
     "output_type": "stream",
     "text": [
      "\n",
      "Nach Anwendung der Funktion (x^2) auf Spalte A:\n"
     ]
    },
    {
     "data": {
      "text/html": [
       "<div>\n",
       "<style scoped>\n",
       "    .dataframe tbody tr th:only-of-type {\n",
       "        vertical-align: middle;\n",
       "    }\n",
       "\n",
       "    .dataframe tbody tr th {\n",
       "        vertical-align: top;\n",
       "    }\n",
       "\n",
       "    .dataframe thead th {\n",
       "        text-align: right;\n",
       "    }\n",
       "</style>\n",
       "<table border=\"1\" class=\"dataframe\">\n",
       "  <thead>\n",
       "    <tr style=\"text-align: right;\">\n",
       "      <th></th>\n",
       "      <th>A</th>\n",
       "      <th>B</th>\n",
       "      <th>C</th>\n",
       "      <th>E</th>\n",
       "      <th>F</th>\n",
       "      <th>G</th>\n",
       "    </tr>\n",
       "  </thead>\n",
       "  <tbody>\n",
       "    <tr>\n",
       "      <th>0</th>\n",
       "      <td>1</td>\n",
       "      <td>10</td>\n",
       "      <td>100</td>\n",
       "      <td>99</td>\n",
       "      <td>10</td>\n",
       "      <td>1</td>\n",
       "    </tr>\n",
       "    <tr>\n",
       "      <th>1</th>\n",
       "      <td>2</td>\n",
       "      <td>20</td>\n",
       "      <td>200</td>\n",
       "      <td>198</td>\n",
       "      <td>40</td>\n",
       "      <td>4</td>\n",
       "    </tr>\n",
       "    <tr>\n",
       "      <th>2</th>\n",
       "      <td>3</td>\n",
       "      <td>30</td>\n",
       "      <td>300</td>\n",
       "      <td>297</td>\n",
       "      <td>90</td>\n",
       "      <td>9</td>\n",
       "    </tr>\n",
       "    <tr>\n",
       "      <th>3</th>\n",
       "      <td>4</td>\n",
       "      <td>40</td>\n",
       "      <td>400</td>\n",
       "      <td>396</td>\n",
       "      <td>160</td>\n",
       "      <td>16</td>\n",
       "    </tr>\n",
       "  </tbody>\n",
       "</table>\n",
       "</div>"
      ],
      "text/plain": [
       "   A   B    C    E    F   G\n",
       "0  1  10  100   99   10   1\n",
       "1  2  20  200  198   40   4\n",
       "2  3  30  300  297   90   9\n",
       "3  4  40  400  396  160  16"
      ]
     },
     "execution_count": 36,
     "metadata": {},
     "output_type": "execute_result"
    }
   ],
   "source": [
    "# Vektorisierte Anwendung einer Funktion (z.B. Quadrat)\n",
    "df['G'] = df['A'].apply(lambda x: x**2)\n",
    "print(\"\\nNach Anwendung der Funktion (x^2) auf Spalte A:\")\n",
    "df"
   ]
  },
  {
   "cell_type": "markdown",
   "id": "0b97e797-8dbf-491e-81c1-2ce4ff5643ea",
   "metadata": {
    "editable": true,
    "slideshow": {
     "slide_type": ""
    },
    "tags": []
   },
   "source": [
    "#### .apply()\n",
    "\n",
    "- **`apply()`** Wendet eine Funktion auf jede Spalte oder Zeile an.\n",
    "\n"
   ]
  },
  {
   "cell_type": "code",
   "execution_count": 47,
   "id": "e9006ae6-97df-4699-98f2-119920976148",
   "metadata": {},
   "outputs": [
    {
     "data": {
      "text/html": [
       "<div>\n",
       "<style scoped>\n",
       "    .dataframe tbody tr th:only-of-type {\n",
       "        vertical-align: middle;\n",
       "    }\n",
       "\n",
       "    .dataframe tbody tr th {\n",
       "        vertical-align: top;\n",
       "    }\n",
       "\n",
       "    .dataframe thead th {\n",
       "        text-align: right;\n",
       "    }\n",
       "</style>\n",
       "<table border=\"1\" class=\"dataframe\">\n",
       "  <thead>\n",
       "    <tr style=\"text-align: right;\">\n",
       "      <th></th>\n",
       "      <th>A</th>\n",
       "      <th>B</th>\n",
       "      <th>C</th>\n",
       "      <th>E</th>\n",
       "      <th>F</th>\n",
       "      <th>G</th>\n",
       "      <th>H</th>\n",
       "    </tr>\n",
       "  </thead>\n",
       "  <tbody>\n",
       "    <tr>\n",
       "      <th>0</th>\n",
       "      <td>1</td>\n",
       "      <td>10</td>\n",
       "      <td>100</td>\n",
       "      <td>2</td>\n",
       "      <td>10</td>\n",
       "      <td>1</td>\n",
       "      <td>gering</td>\n",
       "    </tr>\n",
       "    <tr>\n",
       "      <th>1</th>\n",
       "      <td>2</td>\n",
       "      <td>20</td>\n",
       "      <td>200</td>\n",
       "      <td>4</td>\n",
       "      <td>40</td>\n",
       "      <td>4</td>\n",
       "      <td>gering</td>\n",
       "    </tr>\n",
       "    <tr>\n",
       "      <th>2</th>\n",
       "      <td>3</td>\n",
       "      <td>30</td>\n",
       "      <td>300</td>\n",
       "      <td>6</td>\n",
       "      <td>90</td>\n",
       "      <td>9</td>\n",
       "      <td>hoch</td>\n",
       "    </tr>\n",
       "    <tr>\n",
       "      <th>3</th>\n",
       "      <td>4</td>\n",
       "      <td>40</td>\n",
       "      <td>400</td>\n",
       "      <td>8</td>\n",
       "      <td>160</td>\n",
       "      <td>16</td>\n",
       "      <td>hoch</td>\n",
       "    </tr>\n",
       "  </tbody>\n",
       "</table>\n",
       "</div>"
      ],
      "text/plain": [
       "   A   B    C  E    F   G       H\n",
       "0  1  10  100  2   10   1  gering\n",
       "1  2  20  200  4   40   4  gering\n",
       "2  3  30  300  6   90   9    hoch\n",
       "3  4  40  400  8  160  16    hoch"
      ]
     },
     "execution_count": 47,
     "metadata": {},
     "output_type": "execute_result"
    }
   ],
   "source": [
    "# Funktion auf eine Spalte anwenden\n",
    "df['E'] = df['A'].apply(lambda x: x * 2)\n",
    "df"
   ]
  },
  {
   "cell_type": "markdown",
   "id": "9cfed4ca-13bd-483c-a151-d1f5ef1c7741",
   "metadata": {
    "editable": true,
    "slideshow": {
     "slide_type": ""
    },
    "tags": []
   },
   "source": [
    "#### .map()\n",
    "\n",
    "- **`map()`**: Wendet eine Funktion auf jedes Element einer Series an."
   ]
  },
  {
   "cell_type": "code",
   "execution_count": 48,
   "id": "c58de129-122b-4f9f-bc85-ac6e98e500a6",
   "metadata": {},
   "outputs": [
    {
     "data": {
      "text/html": [
       "<div>\n",
       "<style scoped>\n",
       "    .dataframe tbody tr th:only-of-type {\n",
       "        vertical-align: middle;\n",
       "    }\n",
       "\n",
       "    .dataframe tbody tr th {\n",
       "        vertical-align: top;\n",
       "    }\n",
       "\n",
       "    .dataframe thead th {\n",
       "        text-align: right;\n",
       "    }\n",
       "</style>\n",
       "<table border=\"1\" class=\"dataframe\">\n",
       "  <thead>\n",
       "    <tr style=\"text-align: right;\">\n",
       "      <th></th>\n",
       "      <th>A</th>\n",
       "      <th>B</th>\n",
       "      <th>C</th>\n",
       "      <th>E</th>\n",
       "      <th>F</th>\n",
       "      <th>G</th>\n",
       "      <th>H</th>\n",
       "    </tr>\n",
       "  </thead>\n",
       "  <tbody>\n",
       "    <tr>\n",
       "      <th>0</th>\n",
       "      <td>1</td>\n",
       "      <td>10</td>\n",
       "      <td>100</td>\n",
       "      <td>2</td>\n",
       "      <td>13</td>\n",
       "      <td>1</td>\n",
       "      <td>gering</td>\n",
       "    </tr>\n",
       "    <tr>\n",
       "      <th>1</th>\n",
       "      <td>2</td>\n",
       "      <td>20</td>\n",
       "      <td>200</td>\n",
       "      <td>4</td>\n",
       "      <td>23</td>\n",
       "      <td>4</td>\n",
       "      <td>gering</td>\n",
       "    </tr>\n",
       "    <tr>\n",
       "      <th>2</th>\n",
       "      <td>3</td>\n",
       "      <td>30</td>\n",
       "      <td>300</td>\n",
       "      <td>6</td>\n",
       "      <td>33</td>\n",
       "      <td>9</td>\n",
       "      <td>hoch</td>\n",
       "    </tr>\n",
       "    <tr>\n",
       "      <th>3</th>\n",
       "      <td>4</td>\n",
       "      <td>40</td>\n",
       "      <td>400</td>\n",
       "      <td>8</td>\n",
       "      <td>43</td>\n",
       "      <td>16</td>\n",
       "      <td>hoch</td>\n",
       "    </tr>\n",
       "  </tbody>\n",
       "</table>\n",
       "</div>"
      ],
      "text/plain": [
       "   A   B    C  E   F   G       H\n",
       "0  1  10  100  2  13   1  gering\n",
       "1  2  20  200  4  23   4  gering\n",
       "2  3  30  300  6  33   9    hoch\n",
       "3  4  40  400  8  43  16    hoch"
      ]
     },
     "execution_count": 48,
     "metadata": {},
     "output_type": "execute_result"
    }
   ],
   "source": [
    "# map() auf eine Series anwenden\n",
    "df['F'] = df['B'].map(lambda x: x + 3)\n",
    "df"
   ]
  },
  {
   "cell_type": "markdown",
   "id": "0b2fcafb-2161-4787-ad43-1e001349c83e",
   "metadata": {
    "editable": true,
    "slideshow": {
     "slide_type": ""
    },
    "tags": []
   },
   "source": [
    "#### .applymap()\n",
    "\n",
    "- **`applymap()`**: Wendet eine Funktion auf jedes Element eines DataFrames an."
   ]
  },
  {
   "cell_type": "code",
   "execution_count": 49,
   "id": "a7f886e6-6c49-476f-ba66-51893b1fe4e0",
   "metadata": {
    "editable": true,
    "slideshow": {
     "slide_type": ""
    },
    "tags": []
   },
   "outputs": [
    {
     "name": "stderr",
     "output_type": "stream",
     "text": [
      "C:\\Users\\Jens-\\AppData\\Local\\Temp\\ipykernel_26680\\3260101458.py:2: FutureWarning: DataFrame.applymap has been deprecated. Use DataFrame.map instead.\n",
      "  df = df.applymap(lambda x: x * 2)\n"
     ]
    },
    {
     "data": {
      "text/html": [
       "<div>\n",
       "<style scoped>\n",
       "    .dataframe tbody tr th:only-of-type {\n",
       "        vertical-align: middle;\n",
       "    }\n",
       "\n",
       "    .dataframe tbody tr th {\n",
       "        vertical-align: top;\n",
       "    }\n",
       "\n",
       "    .dataframe thead th {\n",
       "        text-align: right;\n",
       "    }\n",
       "</style>\n",
       "<table border=\"1\" class=\"dataframe\">\n",
       "  <thead>\n",
       "    <tr style=\"text-align: right;\">\n",
       "      <th></th>\n",
       "      <th>A</th>\n",
       "      <th>B</th>\n",
       "      <th>C</th>\n",
       "      <th>E</th>\n",
       "      <th>F</th>\n",
       "      <th>G</th>\n",
       "      <th>H</th>\n",
       "    </tr>\n",
       "  </thead>\n",
       "  <tbody>\n",
       "    <tr>\n",
       "      <th>0</th>\n",
       "      <td>2</td>\n",
       "      <td>20</td>\n",
       "      <td>200</td>\n",
       "      <td>4</td>\n",
       "      <td>26</td>\n",
       "      <td>2</td>\n",
       "      <td>geringgering</td>\n",
       "    </tr>\n",
       "    <tr>\n",
       "      <th>1</th>\n",
       "      <td>4</td>\n",
       "      <td>40</td>\n",
       "      <td>400</td>\n",
       "      <td>8</td>\n",
       "      <td>46</td>\n",
       "      <td>8</td>\n",
       "      <td>geringgering</td>\n",
       "    </tr>\n",
       "    <tr>\n",
       "      <th>2</th>\n",
       "      <td>6</td>\n",
       "      <td>60</td>\n",
       "      <td>600</td>\n",
       "      <td>12</td>\n",
       "      <td>66</td>\n",
       "      <td>18</td>\n",
       "      <td>hochhoch</td>\n",
       "    </tr>\n",
       "    <tr>\n",
       "      <th>3</th>\n",
       "      <td>8</td>\n",
       "      <td>80</td>\n",
       "      <td>800</td>\n",
       "      <td>16</td>\n",
       "      <td>86</td>\n",
       "      <td>32</td>\n",
       "      <td>hochhoch</td>\n",
       "    </tr>\n",
       "  </tbody>\n",
       "</table>\n",
       "</div>"
      ],
      "text/plain": [
       "   A   B    C   E   F   G             H\n",
       "0  2  20  200   4  26   2  geringgering\n",
       "1  4  40  400   8  46   8  geringgering\n",
       "2  6  60  600  12  66  18      hochhoch\n",
       "3  8  80  800  16  86  32      hochhoch"
      ]
     },
     "execution_count": 49,
     "metadata": {},
     "output_type": "execute_result"
    }
   ],
   "source": [
    "# applymap() auf den gesamten DataFrame anwenden\n",
    "df = df.applymap(lambda x: x * 2)\n",
    "df"
   ]
  },
  {
   "cell_type": "markdown",
   "id": "570a7769-4ca3-494b-b706-87cc459a9cad",
   "metadata": {
    "editable": true,
    "slideshow": {
     "slide_type": ""
    },
    "tags": []
   },
   "source": [
    "### Bedingte vektorisierte Operationen\n",
    "\n",
    "Du kannst vektorisierte Bedingungen verwenden, um neue Spalten zu erstellen:"
   ]
  },
  {
   "cell_type": "code",
   "execution_count": 37,
   "id": "ad2ed906-3e9c-4827-820c-53f81a5b9596",
   "metadata": {
    "editable": true,
    "slideshow": {
     "slide_type": ""
    },
    "tags": []
   },
   "outputs": [
    {
     "name": "stdout",
     "output_type": "stream",
     "text": [
      "\n",
      "Nach Bedingung auf Spalte A:\n"
     ]
    },
    {
     "data": {
      "text/html": [
       "<div>\n",
       "<style scoped>\n",
       "    .dataframe tbody tr th:only-of-type {\n",
       "        vertical-align: middle;\n",
       "    }\n",
       "\n",
       "    .dataframe tbody tr th {\n",
       "        vertical-align: top;\n",
       "    }\n",
       "\n",
       "    .dataframe thead th {\n",
       "        text-align: right;\n",
       "    }\n",
       "</style>\n",
       "<table border=\"1\" class=\"dataframe\">\n",
       "  <thead>\n",
       "    <tr style=\"text-align: right;\">\n",
       "      <th></th>\n",
       "      <th>A</th>\n",
       "      <th>B</th>\n",
       "      <th>C</th>\n",
       "      <th>E</th>\n",
       "      <th>F</th>\n",
       "      <th>G</th>\n",
       "      <th>H</th>\n",
       "    </tr>\n",
       "  </thead>\n",
       "  <tbody>\n",
       "    <tr>\n",
       "      <th>0</th>\n",
       "      <td>1</td>\n",
       "      <td>10</td>\n",
       "      <td>100</td>\n",
       "      <td>99</td>\n",
       "      <td>10</td>\n",
       "      <td>1</td>\n",
       "      <td>gering</td>\n",
       "    </tr>\n",
       "    <tr>\n",
       "      <th>1</th>\n",
       "      <td>2</td>\n",
       "      <td>20</td>\n",
       "      <td>200</td>\n",
       "      <td>198</td>\n",
       "      <td>40</td>\n",
       "      <td>4</td>\n",
       "      <td>gering</td>\n",
       "    </tr>\n",
       "    <tr>\n",
       "      <th>2</th>\n",
       "      <td>3</td>\n",
       "      <td>30</td>\n",
       "      <td>300</td>\n",
       "      <td>297</td>\n",
       "      <td>90</td>\n",
       "      <td>9</td>\n",
       "      <td>hoch</td>\n",
       "    </tr>\n",
       "    <tr>\n",
       "      <th>3</th>\n",
       "      <td>4</td>\n",
       "      <td>40</td>\n",
       "      <td>400</td>\n",
       "      <td>396</td>\n",
       "      <td>160</td>\n",
       "      <td>16</td>\n",
       "      <td>hoch</td>\n",
       "    </tr>\n",
       "  </tbody>\n",
       "</table>\n",
       "</div>"
      ],
      "text/plain": [
       "   A   B    C    E    F   G       H\n",
       "0  1  10  100   99   10   1  gering\n",
       "1  2  20  200  198   40   4  gering\n",
       "2  3  30  300  297   90   9    hoch\n",
       "3  4  40  400  396  160  16    hoch"
      ]
     },
     "execution_count": 37,
     "metadata": {},
     "output_type": "execute_result"
    }
   ],
   "source": [
    "# Erstellen einer neuen Spalte basierend auf einer Bedingung\n",
    "df['H'] = df['A'].apply(lambda x: 'gering' if x < 3 else 'hoch')\n",
    "print(\"\\nNach Bedingung auf Spalte A:\")\n",
    "df"
   ]
  },
  {
   "cell_type": "code",
   "execution_count": null,
   "id": "075dff4b-9509-46a7-b1ab-3c1203cfffa6",
   "metadata": {
    "editable": true,
    "slideshow": {
     "slide_type": ""
    },
    "tags": []
   },
   "outputs": [],
   "source": []
  }
 ],
 "metadata": {
  "kernelspec": {
   "display_name": "Python 3 (ipykernel)",
   "language": "python",
   "name": "python3"
  },
  "language_info": {
   "codemirror_mode": {
    "name": "ipython",
    "version": 3
   },
   "file_extension": ".py",
   "mimetype": "text/x-python",
   "name": "python",
   "nbconvert_exporter": "python",
   "pygments_lexer": "ipython3",
   "version": "3.12.6"
  }
 },
 "nbformat": 4,
 "nbformat_minor": 5
}
