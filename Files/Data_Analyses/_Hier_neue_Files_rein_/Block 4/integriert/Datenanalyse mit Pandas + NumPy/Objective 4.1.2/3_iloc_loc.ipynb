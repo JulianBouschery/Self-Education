{
 "cells": [
  {
   "cell_type": "markdown",
   "id": "4f80397b-bd1e-4bfd-ab5d-ab90d04c01fa",
   "metadata": {},
   "source": [
    "# Syllabus\n",
    "\n",
    "Practice locating data using .iloc and .loc methods, and analyze the outcomes to ensure accurate data retrieval and manipulation."
   ]
  },
  {
   "cell_type": "markdown",
   "id": "588e0266-16e2-4d90-b85c-2255f491dedb",
   "metadata": {
    "editable": true,
    "slideshow": {
     "slide_type": ""
    },
    "tags": []
   },
   "source": [
    "# .loc() und .ilo()\n",
    "\n",
    "Pandas bietet verschiedene Möglichkeiten, um auf DataFrame- und Series-Daten effizient zuzugreifen und diese zu manipulieren.\n",
    "\n",
    "- **.loc[]**: &nbsp;&nbsp; ermöglicht den Zugriff auf Daten über Labels (Zeilen- und Spaltennamen, labelbasiert). <br>\n",
    "\n",
    "- **.iloc[]**: &nbsp;&nbsp; erlaubt den Zugriff basierend auf numerischen Indizes (integerbasiert). <br>\n",
    "\n"
   ]
  },
  {
   "cell_type": "markdown",
   "id": "300cdafa-a300-4981-98c6-0ec6fc76975d",
   "metadata": {},
   "source": [
    "## .loc[]\n",
    "\n",
    "- `.loc[]` wird verwendet, um Daten anhand der Label (Zeilen- oder Spaltennamen) abzurufen<br>\n",
    "\n",
    "- Syntax: &nbsp; `DataFrame.loc[Zeilenname, Spaltenname]`"
   ]
  },
  {
   "cell_type": "code",
   "execution_count": 1,
   "id": "8db404e6-2cd8-454a-b4b9-21a97cdcc95d",
   "metadata": {
    "editable": true,
    "slideshow": {
     "slide_type": ""
    },
    "tags": []
   },
   "outputs": [
    {
     "name": "stdout",
     "output_type": "stream",
     "text": [
      "10\n"
     ]
    }
   ],
   "source": [
    "import pandas as pd\n",
    "\n",
    "# Beispiel-DataFrame\n",
    "df = pd.DataFrame({\n",
    "    'A': [10, 20, 30, 40],\n",
    "    'B': [5, 15, 25, 35],\n",
    "    'C': [2, 4, 6, 8]\n",
    "})\n",
    "\n",
    "# Zugriff auf Daten mit .loc (Label-basiert)\n",
    "print(df.loc[0, 'A']) "
   ]
  },
  {
   "cell_type": "markdown",
   "id": "d4f37d39-25f3-4676-ad92-a6610dbf039b",
   "metadata": {
    "editable": true,
    "slideshow": {
     "slide_type": ""
    },
    "tags": []
   },
   "source": [
    "## .iloc[]\n",
    "\n",
    "- `.iloc[]` wird verwendet, um Daten anhand ihrer numerischen Position abzurufen. <br>\n",
    "\n",
    "- Syntax: &nbsp; `DataFrame.iloc[Zeilenindex, Spaltenindex]`"
   ]
  },
  {
   "cell_type": "code",
   "execution_count": 2,
   "id": "f2805238-af43-4401-be9d-6925c10fdb3e",
   "metadata": {
    "editable": true,
    "slideshow": {
     "slide_type": ""
    },
    "tags": []
   },
   "outputs": [
    {
     "name": "stdout",
     "output_type": "stream",
     "text": [
      "10\n"
     ]
    }
   ],
   "source": [
    "# Zugriff auf Daten mit .iloc (Index-basiert)\n",
    "print(df.iloc[0, 0]) "
   ]
  },
  {
   "cell_type": "markdown",
   "id": "47e8dc60-3521-4560-b9c4-5b05586bbf4d",
   "metadata": {
    "editable": true,
    "slideshow": {
     "slide_type": ""
    },
    "tags": []
   },
   "source": [
    "## Daten lokalisieren und manipulieren\n",
    "\n",
    "Mit .iloc und .loc können Daten präzise lokalisiert, abgerufen und manipuliert werden.\n"
   ]
  },
  {
   "cell_type": "code",
   "execution_count": 3,
   "id": "c4df1ddd-5eb7-4c2e-b1a3-58373af19e92",
   "metadata": {
    "editable": true,
    "slideshow": {
     "slide_type": ""
    },
    "tags": []
   },
   "outputs": [
    {
     "data": {
      "text/html": [
       "<div>\n",
       "<style scoped>\n",
       "    .dataframe tbody tr th:only-of-type {\n",
       "        vertical-align: middle;\n",
       "    }\n",
       "\n",
       "    .dataframe tbody tr th {\n",
       "        vertical-align: top;\n",
       "    }\n",
       "\n",
       "    .dataframe thead th {\n",
       "        text-align: right;\n",
       "    }\n",
       "</style>\n",
       "<table border=\"1\" class=\"dataframe\">\n",
       "  <thead>\n",
       "    <tr style=\"text-align: right;\">\n",
       "      <th></th>\n",
       "      <th>A</th>\n",
       "      <th>B</th>\n",
       "      <th>C</th>\n",
       "    </tr>\n",
       "  </thead>\n",
       "  <tbody>\n",
       "    <tr>\n",
       "      <th>0</th>\n",
       "      <td>10</td>\n",
       "      <td>5</td>\n",
       "      <td>2</td>\n",
       "    </tr>\n",
       "    <tr>\n",
       "      <th>1</th>\n",
       "      <td>20</td>\n",
       "      <td>15</td>\n",
       "      <td>4</td>\n",
       "    </tr>\n",
       "    <tr>\n",
       "      <th>2</th>\n",
       "      <td>30</td>\n",
       "      <td>25</td>\n",
       "      <td>6</td>\n",
       "    </tr>\n",
       "    <tr>\n",
       "      <th>3</th>\n",
       "      <td>99</td>\n",
       "      <td>35</td>\n",
       "      <td>8</td>\n",
       "    </tr>\n",
       "  </tbody>\n",
       "</table>\n",
       "</div>"
      ],
      "text/plain": [
       "    A   B  C\n",
       "0  10   5  2\n",
       "1  20  15  4\n",
       "2  30  25  6\n",
       "3  99  35  8"
      ]
     },
     "execution_count": 3,
     "metadata": {},
     "output_type": "execute_result"
    }
   ],
   "source": [
    "df.loc[3, 'A'] = 99\n",
    "df"
   ]
  },
  {
   "cell_type": "markdown",
   "id": "e19db977-b78a-4bbf-ae75-cc8f03efdfe5",
   "metadata": {
    "editable": true,
    "slideshow": {
     "slide_type": ""
    },
    "tags": []
   },
   "source": [
    "## Multi-Index\n",
    "\n",
    "Mit einem **MultiIndex** kann man Daten auf mehreren Ebenen indexieren und manipulieren. Dies ist besonders nützlich bei hierarchisch strukturierten Daten.\n"
   ]
  },
  {
   "cell_type": "code",
   "execution_count": 4,
   "id": "1b0c33bb-23b6-4605-b62b-b069afc1a465",
   "metadata": {
    "editable": true,
    "slideshow": {
     "slide_type": ""
    },
    "tags": []
   },
   "outputs": [
    {
     "name": "stdout",
     "output_type": "stream",
     "text": [
      "               Temperatur  Luftfeuchtigkeit\n",
      "Ort     Tag                                \n",
      "Stadt A Tag 1          20                30\n",
      "        Tag 2          21                35\n",
      "Stadt B Tag 1          19                40\n",
      "        Tag 2          18                45\n",
      "20\n"
     ]
    }
   ],
   "source": [
    "# Erstellen eines DataFrames mit MultiIndex\n",
    "arrays = [\n",
    "    ['Stadt A', 'Stadt A', 'Stadt B', 'Stadt B'],\n",
    "    ['Tag 1', 'Tag 2', 'Tag 1', 'Tag 2']\n",
    "]\n",
    "\n",
    "index = pd.MultiIndex.from_arrays(arrays, names=('Ort', 'Tag'))\n",
    "\n",
    "df_multi = pd.DataFrame({\n",
    "    'Temperatur': [20, 21, 19, 18],\n",
    "    'Luftfeuchtigkeit': [30, 35, 40, 45]\n",
    "}, index=index)\n",
    "\n",
    "print(df_multi)\n",
    "\n",
    "# Zugriff auf einen bestimmten Wert\n",
    "print(df_multi.loc[('Stadt A', 'Tag 1'), 'Temperatur'])"
   ]
  }
 ],
 "metadata": {
  "kernelspec": {
   "display_name": "Python 3 (ipykernel)",
   "language": "python",
   "name": "python3"
  },
  "language_info": {
   "codemirror_mode": {
    "name": "ipython",
    "version": 3
   },
   "file_extension": ".py",
   "mimetype": "text/x-python",
   "name": "python",
   "nbconvert_exporter": "python",
   "pygments_lexer": "ipython3",
   "version": "3.12.6"
  }
 },
 "nbformat": 4,
 "nbformat_minor": 5
}
