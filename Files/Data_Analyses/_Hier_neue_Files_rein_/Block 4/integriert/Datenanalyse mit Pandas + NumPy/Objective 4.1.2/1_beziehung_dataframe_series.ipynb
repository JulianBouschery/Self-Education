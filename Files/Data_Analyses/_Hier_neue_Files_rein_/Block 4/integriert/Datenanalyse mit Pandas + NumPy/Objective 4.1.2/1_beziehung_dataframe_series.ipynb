{
 "cells": [
  {
   "cell_type": "markdown",
   "id": "d0b0d6e6-fc25-4119-a92d-371ad270a4df",
   "metadata": {},
   "source": [
    "In **Pandas** sind **DataFrames** und **Series** die beiden grundlegenden Datenstrukturen\n",
    "\n",
    "Sie stehen in enger Beziehung zueinander, unterscheiden sich jedoch in ihrer Natur und ihrem Einsatzbereich."
   ]
  },
  {
   "cell_type": "markdown",
   "id": "1fa38d28-237d-4d8d-9af8-dea762672209",
   "metadata": {
    "editable": true,
    "slideshow": {
     "slide_type": ""
    },
    "tags": []
   },
   "source": [
    "# Syllabus\n",
    "\n",
    "Explain the conceptual differences and connections between DataFrames and Series in Pandas."
   ]
  },
  {
   "cell_type": "markdown",
   "id": "2bc03a0b-365a-4510-8d77-912865f1bc3e",
   "metadata": {
    "editable": true,
    "slideshow": {
     "slide_type": ""
    },
    "tags": []
   },
   "source": [
    "# Series\n",
    "\n",
    "- **Series** = eine eindimensionale Datenstruktur\n",
    "- ähnelt einer Liste oder einem Array, jedoch mit einem zugeordneten **Index**\n",
    "- der Index ermöglicht es, jedem Wert in der Series einen eindeutigen Schlüssel zuzuweisen\n",
    "\n",
    "Eine Series besteht also aus zwei Komponenten:\n",
    "- **Werte**: Daten selbst<br>\n",
    "   wie Zahlen, Strings, etc.\n",
    "- **Index**: Label, die den Werten zugeordnet sind\n",
    "\n",
    "Man kann sich eine Series als eine Spalte in einer Tabelle vorstellen, wobei jede Spalte durch den Index identifiziert wird.<br>\n",
    "Eine Series kann verschiedene Datentypen enthalten (numerisch, kategorisch, usw.).\n",
    "\n"
   ]
  },
  {
   "cell_type": "markdown",
   "id": "7a287ca5-10f6-4021-b279-4c7e6eed2d25",
   "metadata": {
    "editable": true,
    "slideshow": {
     "slide_type": ""
    },
    "tags": []
   },
   "source": [
    "## eine Series erstellen"
   ]
  },
  {
   "cell_type": "code",
   "execution_count": 1,
   "id": "fad7a47a-b952-4877-b02f-b9e7a9e014fa",
   "metadata": {},
   "outputs": [
    {
     "data": {
      "text/plain": [
       "a    10\n",
       "b    20\n",
       "c    30\n",
       "d    40\n",
       "dtype: int64"
      ]
     },
     "execution_count": 1,
     "metadata": {},
     "output_type": "execute_result"
    }
   ],
   "source": [
    "import pandas as pd\n",
    "import numpy as np\n",
    "\n",
    "# Erstelle eine Series\n",
    "series = pd.Series([10, 20, 30, 40], index=['a', 'b', 'c', 'd'])\n",
    "series\n"
   ]
  },
  {
   "cell_type": "markdown",
   "id": "bc3e476c-64e3-4af6-a57c-e3df6e76b884",
   "metadata": {
    "editable": true,
    "slideshow": {
     "slide_type": ""
    },
    "tags": []
   },
   "source": [
    "# Dataframe\n",
    "\n",
    "- **DataFrame** = zweidimensionale Datenstruktur\n",
    "- ähnelt einer Tabelle, bestehend aus Zeilen und Spalten\n",
    "- jede **Spalte** eines DataFrames ist im Grunde genommen eine **Series**\n",
    "\n",
    "Ein DataFrame setzt sich also aus mehreren Series zusammen:\n",
    "- jede **Spalte** ist eine **Series**, die unter einem bestimmten Spaltennamen (= Spaltenindex) gespeichert ist.\n",
    "- der Zeilenindex bezeichnet die Zeile\n",
    "\n",
    "Man kann sich einen DataFrame als eine Sammlung mehrerer Series vorstellen, die alle einen gemeinsamen **Zeilenindex** teilen, aber verschiedene **Spaltennamen** haben."
   ]
  },
  {
   "cell_type": "markdown",
   "id": "d84828f3-ebfd-4346-a765-f2b4fe5e65ff",
   "metadata": {
    "editable": true,
    "slideshow": {
     "slide_type": ""
    },
    "tags": []
   },
   "source": [
    "## einen Dataframe erstellen"
   ]
  },
  {
   "cell_type": "code",
   "execution_count": 2,
   "id": "25fc9c3b-1221-4229-a174-a24a08a2b150",
   "metadata": {},
   "outputs": [
    {
     "data": {
      "text/html": [
       "<div>\n",
       "<style scoped>\n",
       "    .dataframe tbody tr th:only-of-type {\n",
       "        vertical-align: middle;\n",
       "    }\n",
       "\n",
       "    .dataframe tbody tr th {\n",
       "        vertical-align: top;\n",
       "    }\n",
       "\n",
       "    .dataframe thead th {\n",
       "        text-align: right;\n",
       "    }\n",
       "</style>\n",
       "<table border=\"1\" class=\"dataframe\">\n",
       "  <thead>\n",
       "    <tr style=\"text-align: right;\">\n",
       "      <th></th>\n",
       "      <th>Name</th>\n",
       "      <th>Alter</th>\n",
       "      <th>Stadt</th>\n",
       "    </tr>\n",
       "  </thead>\n",
       "  <tbody>\n",
       "    <tr>\n",
       "      <th>0</th>\n",
       "      <td>Anna</td>\n",
       "      <td>23</td>\n",
       "      <td>Berlin</td>\n",
       "    </tr>\n",
       "    <tr>\n",
       "      <th>1</th>\n",
       "      <td>Ben</td>\n",
       "      <td>30</td>\n",
       "      <td>Hamburg</td>\n",
       "    </tr>\n",
       "    <tr>\n",
       "      <th>2</th>\n",
       "      <td>Chris</td>\n",
       "      <td>35</td>\n",
       "      <td>München</td>\n",
       "    </tr>\n",
       "  </tbody>\n",
       "</table>\n",
       "</div>"
      ],
      "text/plain": [
       "    Name  Alter    Stadt\n",
       "0   Anna     23   Berlin\n",
       "1    Ben     30  Hamburg\n",
       "2  Chris     35  München"
      ]
     },
     "execution_count": 2,
     "metadata": {},
     "output_type": "execute_result"
    }
   ],
   "source": [
    "# Erstelle einen DataFrame\n",
    "data = {'Name': ['Anna', 'Ben', 'Chris'], 'Alter': [23, 30, 35], 'Stadt': ['Berlin', 'Hamburg', 'München']}\n",
    "df = pd.DataFrame(data)\n",
    "df"
   ]
  },
  {
   "cell_type": "markdown",
   "id": "97c15919-84b6-4ef0-998d-39c4b078b7d8",
   "metadata": {
    "editable": true,
    "slideshow": {
     "slide_type": ""
    },
    "tags": []
   },
   "source": [
    "# Verbindung zwischen Series und DataFrame\n",
    "\n",
    "Jede Spalte in einem DataFrame ist eine Series.<br>\n",
    "Ein DataFrame ist also eine Sammlung von Series, die zusammen eine Tabelle bilden.\n",
    "\n",
    "<br>\n",
    "\n",
    "**Ein DataFrame besteht aus mehreren Series:** <br>\n",
    "Jede Spalte in einem DataFrame ist eine Series mit demselben Index wie der DataFrame. Die Kombination dieser Series bildet die zweidimensionale Struktur des DataFrames.\n",
    "\n",
    "<br>\n",
    "\n",
    "**Series als einzelne Spalte eines DataFrames:** <br>\n",
    "Wählt man eine einzelne Spalte aus einem DataFrame aus (z.B. `df['Spalte']`), erhält man eine Series. Umgekehrt kann man auch eine oder mehrere Series zu einem DataFrame kombinieren."
   ]
  },
  {
   "cell_type": "code",
   "execution_count": 3,
   "id": "76b57b29-7a95-49ea-804d-38d37756bf81",
   "metadata": {
    "editable": true,
    "slideshow": {
     "slide_type": ""
    },
    "tags": []
   },
   "outputs": [
    {
     "data": {
      "text/plain": [
       "0     Anna\n",
       "1      Ben\n",
       "2    Chris\n",
       "Name: Name, dtype: object"
      ]
     },
     "execution_count": 3,
     "metadata": {},
     "output_type": "execute_result"
    }
   ],
   "source": [
    "# Extrahiere die 'Name'-Spalte als Series\n",
    "df['Name']"
   ]
  },
  {
   "cell_type": "code",
   "execution_count": null,
   "id": "10a062ee-a876-44f0-bc67-da1408a2ad15",
   "metadata": {
    "editable": true,
    "slideshow": {
     "slide_type": ""
    },
    "tags": []
   },
   "outputs": [],
   "source": []
  }
 ],
 "metadata": {
  "kernelspec": {
   "display_name": "Python 3 (ipykernel)",
   "language": "python",
   "name": "python3"
  },
  "language_info": {
   "codemirror_mode": {
    "name": "ipython",
    "version": 3
   },
   "file_extension": ".py",
   "mimetype": "text/x-python",
   "name": "python",
   "nbconvert_exporter": "python",
   "pygments_lexer": "ipython3",
   "version": "3.12.6"
  }
 },
 "nbformat": 4,
 "nbformat_minor": 5
}
