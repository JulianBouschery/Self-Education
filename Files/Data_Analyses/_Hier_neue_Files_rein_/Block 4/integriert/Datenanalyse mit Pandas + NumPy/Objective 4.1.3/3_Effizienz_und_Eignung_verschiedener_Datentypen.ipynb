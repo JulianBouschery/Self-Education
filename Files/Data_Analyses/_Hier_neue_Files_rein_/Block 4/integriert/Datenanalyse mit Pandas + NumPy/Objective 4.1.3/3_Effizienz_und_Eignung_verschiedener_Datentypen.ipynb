{
 "cells": [
  {
   "cell_type": "markdown",
   "id": "5af1e5ef-11c7-4a78-828c-53df59e210b0",
   "metadata": {},
   "source": [
    "Um die Effizienz und Eignung verschiedener Datenstrukturen für unterschiedliche Datenanalyseaufgaben zu vergleichen, ist es wichtig, die spezifischen Eigenschaften der Strukturen und ihre jeweiligen Anwendungsbereiche zu verstehen. Im Folgenden werden einige gängige Datenstrukturen betrachtet, die oft in der Datenanalyse verwendet werden."
   ]
  },
  {
   "cell_type": "markdown",
   "id": "a07eead1-a8b5-4434-bc29-8a19cce5873c",
   "metadata": {},
   "source": [
    "# Syllabus\n",
    "\n",
    "Analyze and compare the efficiency and suitability of these data structures for different types of data analysis tasks."
   ]
  },
  {
   "cell_type": "markdown",
   "id": "2c2da986-306f-4141-b296-8b8e5859451b",
   "metadata": {
    "editable": true,
    "slideshow": {
     "slide_type": ""
    },
    "tags": []
   },
   "source": [
    "# Listen (Arrays)\n",
    "**Effizienz:**\n",
    "- **Zugriff:** <br>\n",
    "Der direkte Zugriff auf Elemente in einer Liste erfolgt in konstanter Zeit (O(1)), da die Elemente über Indizes adressiert werden können.\n",
    "- **Einfügen und Entfernen:** <br>\n",
    "Das Hinzufügen am Ende der Liste ist in der Regel effizient (O(1)). Das Einfügen oder Entfernen an einer beliebigen Position ist hingegen linear (O(n)), da die nachfolgenden Elemente verschoben werden müssen.\n",
    "\n",
    "**Eignung:**\n",
    "- für einfache, sequentielle Daten wie Zeitreihen oder numerische Daten\n",
    "- wenn Daten häufig aktualisiert oder manipuliert werden müssen, könnten Listen ineffizient sein, besondere bei großen Datenmengen\n",
    "\n",
    "---"
   ]
  },
  {
   "cell_type": "markdown",
   "id": "be55f180-ffba-4320-8069-67bb95b290ab",
   "metadata": {
    "editable": true,
    "slideshow": {
     "slide_type": ""
    },
    "tags": []
   },
   "source": [
    "#  Wörterbücher (Dictionaries/HashMaps)\n",
    "   **Effizienz:**\n",
    "   - **Zugriff:** <br>\n",
    "   Der Zugriff auf Werte anhand von Schlüsseln erfolgt in konstanter Zeit (O(1)), was Wörterbücher sehr effizient macht.\n",
    "   - **Einfügen und Entfernen:** <br>\n",
    "   Das Hinzufügen und Entfernen von Schlüssel-Wert-Paaren ist ebenfalls in konstanter Zeit möglich.\n",
    "\n",
    "   **Eignung:**\n",
    "   - ideal für die Zuordnung von Daten (z.B. Hashmaps oder Lookup-Tabellen), bei denen die Daten über Keys organisiert werden.\n",
    "   - besonders nützlich, wenn schneller Zugriff auf Daten erforderlich ist, z.B. bei der Analyse von kategorialen oder diskreten Daten.\n",
    "\n",
    "---"
   ]
  },
  {
   "cell_type": "markdown",
   "id": "485d0dba-43db-4d82-91f7-8e48044a4c10",
   "metadata": {
    "editable": true,
    "slideshow": {
     "slide_type": ""
    },
    "tags": []
   },
   "source": [
    "# Mengen (Sets)\n",
    "   **Effizienz:**\n",
    "   - **Zugriff:** <br>\n",
    "   Sets bieten schnellen Zugriff und ermöglichen Überprüfungen, ob ein Element vorhanden ist, in konstanter Zeit (O(1)).\n",
    "   - **Einfügen und Entfernen:** <br>\n",
    "   Das Einfügen und Entfernen von Elementen in einer Menge ist ebenfalls sehr effizient (O(1)).\n",
    "\n",
    "   **Eignung:**\n",
    "   - gut für Aufgaben, bei denen es wichtig ist, doppelte Elemente zu vermeiden und einzigartige Elemente zu extrahieren.\n",
    "   - ideal für die Durchführung von Mengenoperationen wie Vereinigungen oder Schnittmengen, z.B. bei der Bereinigung und Filterung von Daten.\n",
    "\n",
    "---"
   ]
  },
  {
   "cell_type": "markdown",
   "id": "933d2ef7-cd0c-4e04-be4a-c8336bbae6d6",
   "metadata": {
    "editable": true,
    "slideshow": {
     "slide_type": ""
    },
    "tags": []
   },
   "source": [
    "# DataFrames (Pandas)\n",
    "   **Effizienz:**\n",
    "   - **Zugriff:** <br>\n",
    "   Der Zugriff auf Spalten oder Reihen in einem DataFrame ist in der Regel sehr effizient, insbesondere bei vektorisierten Operationen (dank internem C- und Fortran-Code).\n",
    "   - **Einfügen und Entfernen:** <br>\n",
    "   Das Einfügen oder Entfernen von Daten ist oft weniger effizient, da DataFrames grundsätzlich für die Verarbeitung großer, statischer Datensätze optimiert sind.\n",
    "\n",
    "   **Eignung:**\n",
    "   - für die Analyse von strukturierten Daten, insbesondere Tabellen mit Zeilen und Spalten, wie sie in Datenbanken oder CSV-Dateien vorkommen.\n",
    "   - bieten eine breite Palette von Funktionen zur Datenmanipulation, Sortierung, Filterung und Aggregation, was sie für nahezu jede Art von Datenanalyseaufgabe sehr geeignet macht.\n",
    "\n",
    "---"
   ]
  },
  {
   "cell_type": "markdown",
   "id": "0a07caab-2f9e-461d-9b0b-ecbd3b2c82b3",
   "metadata": {
    "editable": true,
    "slideshow": {
     "slide_type": ""
    },
    "tags": []
   },
   "source": [
    "# Numpy Arrays\n",
    "   **Effizienz:**\n",
    "   - **Zugriff:** <br>\n",
    "   Numpy-Arrays sind äußerst effizient in Bezug auf Speicher und Rechenleistung, da sie in statisch typisierten Arrays im C-Stil implementiert sind.\n",
    "   - **Einfügen und Entfernen:** <br>\n",
    "   Numpy-Arrays sind nicht dynamisch, was das Einfügen und Entfernen von Elementen ineffizient macht, da dies das Neuanlegen des gesamten Arrays erfordert.\n",
    "\n",
    "   **Eignung:**\n",
    "   - für numerische und wissenschaftliche Berechnungen, bei denen große Datenmengen verarbeitet werden müssen\n",
    "   - für mathematische Operationen und lineare Algebra, da sie vektorisiertes Rechnen ermöglichen, was zu einer erheblichen Leistungssteigerung führt.\n",
    "\n",
    "---"
   ]
  },
  {
   "cell_type": "markdown",
   "id": "ba7f8d70-53e6-4417-a3d6-dce1da9dc5bc",
   "metadata": {
    "editable": true,
    "slideshow": {
     "slide_type": ""
    },
    "tags": []
   },
   "source": [
    "# Vergleich der Eignung für verschiedene Datenanalyseaufgaben:\n",
    "\n",
    "| **Datenanalyseaufgabe**                | **Empfohlene Datenstruktur** | **Begründung**                                                                                                                                      |\n",
    "|----------------------------------------|------------------------------|-----------------------------------------------------------------------------------------------------------------------------------------------------|\n",
    "| **Numerische Berechnungen (z.B. Matrixoperationen)** | Numpy-Array                   | Sehr effizient für vektorisiertes Rechnen und wissenschaftliche Berechnungen.                                                                        |\n",
    "| **Kategorische Datenverarbeitung**     | Wörterbuch                    | Schneller Zugriff auf kategoriale Daten über Schlüssel-Wert-Paare.                                                                                   |\n",
    "| **Zeitreihenanalyse**                  | Liste, Pandas DataFrame        | Listen für einfache Zeitreihen, Pandas DataFrames für erweiterte Analysen und Zeitstempelverarbeitung.                                               |\n",
    "| **Datenbereinigung (Entfernen von Duplikaten)**   | Menge                         | Mengen ermöglichen das effiziente Entfernen von Duplikaten und das Durchführen von Mengenoperationen.                                                |\n",
    "| **Tabellarische Datenanalyse**         | Pandas DataFrame               | Optimiert für den Umgang mit großen, strukturierten Datensätzen mit verschiedenen Datenarten und umfangreichen Manipulationsmöglichkeiten.            |\n",
    "\n",
    "---"
   ]
  },
  {
   "cell_type": "markdown",
   "id": "c7581c5f-7e6b-4044-9c4f-71c966ce4fb1",
   "metadata": {
    "editable": true,
    "slideshow": {
     "slide_type": ""
    },
    "tags": []
   },
   "source": [
    "# Fazit:\n",
    "Die Wahl der besten Datenstruktur hängt stark von der spezifischen Datenanalyseaufgabe ab. \n",
    "\n",
    "Während Listen und Numpy-Arrays für numerische und sequentielle Daten gut geeignet sind, bieten DataFrames und Wörterbücher wesentlich mehr Flexibilität für die Verarbeitung und Analyse komplexer und heterogener Daten. \n",
    "Mengen sind speziell für die Arbeit mit einzigartigen Elementen nützlich."
   ]
  },
  {
   "cell_type": "code",
   "execution_count": null,
   "id": "b7062646-a487-4f0c-9b08-9bd05a1ea7ca",
   "metadata": {},
   "outputs": [],
   "source": []
  }
 ],
 "metadata": {
  "kernelspec": {
   "display_name": "Python 3 (ipykernel)",
   "language": "python",
   "name": "python3"
  },
  "language_info": {
   "codemirror_mode": {
    "name": "ipython",
    "version": 3
   },
   "file_extension": ".py",
   "mimetype": "text/x-python",
   "name": "python",
   "nbconvert_exporter": "python",
   "pygments_lexer": "ipython3",
   "version": "3.12.6"
  }
 },
 "nbformat": 4,
 "nbformat_minor": 5
}
