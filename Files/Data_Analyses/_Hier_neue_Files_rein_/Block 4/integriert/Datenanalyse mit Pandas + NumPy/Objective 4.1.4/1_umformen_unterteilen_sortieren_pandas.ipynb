{
 "cells": [
  {
   "cell_type": "markdown",
   "id": "c2a9784d-8fc2-4501-a281-08bd3de9d238",
   "metadata": {
    "editable": true,
    "slideshow": {
     "slide_type": ""
    },
    "tags": []
   },
   "source": [
    "# Syllabus"
   ]
  },
  {
   "cell_type": "markdown",
   "id": "c3164306-538a-4649-be14-bd141b87528f",
   "metadata": {
    "editable": true,
    "slideshow": {
     "slide_type": ""
    },
    "tags": []
   },
   "source": [
    "# Subsetting (Teilmenge von Daten auswählen)\n",
    "\n",
    "- Auswahl/Filtern bestimmter **Zeilen**, **Spalten** oder einer Kombination daraus\n",
    "- z.B. über Bedingungen, Indexierung oder Spaltennamen\n",
    "\n",
    "<br>\n",
    "\n",
    "- **Spaltenauswahl**:\n",
    "\n",
    "```python\n",
    "    # Eine Spalte auswählen\n",
    "  df['Spalte1']\n",
    "  \n",
    "  # Mehrere Spalten auswählen\n",
    "  df[['Spalte1', 'Spalte2']]\n",
    "```\n",
    "<br>\n",
    "\n",
    "- **Zeilen mit Bedingungen filtern**:\n",
    "  \n",
    "  ```python\n",
    "  # Alle Zeilen, bei denen der Wert in 'Spalte1' größer als 10 ist\n",
    "  df[df['Spalte1'] > 10]\n",
    "  \n",
    "  # Mehrere Bedingungen kombinieren\n",
    "  df[(df['Spalte1'] > 10) & (df['Spalte2'] == 'Kategorie')]\n",
    "  ```\n",
    "<br>\n",
    "\n",
    "- **Zeilen und Spalten mit `loc` und `iloc` auswählen**:\n",
    "  - `loc` verwendet die Bezeichner (Labels) von Zeilen und Spalten.\n",
    "  - `iloc` verwendet die Positionen (numerische Indizes) von Zeilen und Spalten.\n",
    "<br><br>\n",
    "  \n",
    "\n",
    "\n",
    "  ```python\n",
    "  # Zeilen und Spalten mit loc auswählen (Label-basiert)\n",
    "  df.loc[0:5, ['Spalte1', 'Spalte2']]\n",
    "  \n",
    "  # Zeilen und Spalten mit iloc auswählen (Index-basiert)\n",
    "  df.iloc[0:5, [0, 1]]\n",
    "  ```\n",
    "<br>\n",
    "\n",
    "Beispiel:"
   ]
  },
  {
   "cell_type": "code",
   "execution_count": 6,
   "id": "277247dc-cee9-4ce7-933f-f148b2138320",
   "metadata": {
    "editable": true,
    "slideshow": {
     "slide_type": ""
    },
    "tags": []
   },
   "outputs": [
    {
     "name": "stdout",
     "output_type": "stream",
     "text": [
      "      Name  Gehalt\n",
      "0    Alice   70000\n",
      "1      Bob  120000\n",
      "2  Charlie   90000\n",
      "3    David   80000\n",
      "4      Eva   60000\n",
      "\n",
      "      Name  Alter  Gehalt Abteilung\n",
      "1      Bob     35  120000        IT\n",
      "2  Charlie     45   90000        IT\n"
     ]
    }
   ],
   "source": [
    "import pandas as pd\n",
    "\n",
    "# Beispiel-Datensatz\n",
    "data = {'Name': ['Alice', 'Bob', 'Charlie', 'David', 'Eva'],\n",
    "        'Alter': [23, 35, 45, 28, 22],\n",
    "        'Gehalt': [70000, 120000, 90000, 80000, 60000],\n",
    "        'Abteilung': ['HR', 'IT', 'IT', 'Marketing', 'HR']}\n",
    "\n",
    "df = pd.DataFrame(data)\n",
    "\n",
    "# Subsetting: Nur bestimmte Spalten anzeigen\n",
    "df_subset = df[['Name', 'Gehalt']]\n",
    "print(df_subset, end='\\n\\n')\n",
    "\n",
    "# Subsetting: basierend auf einer Bedingung\n",
    "df_subset = df[df['Gehalt'] >= 90000]\n",
    "print(df_subset)"
   ]
  },
  {
   "cell_type": "markdown",
   "id": "d44cb21c-31ed-4216-a804-74aabb5a3014",
   "metadata": {
    "editable": true,
    "slideshow": {
     "slide_type": ""
    },
    "tags": []
   },
   "source": [
    "# Sortieren von Daten\n",
    "\n",
    "Pandas bietet die Methode `sort_values()`, um Daten nach Werten in einer oder mehreren Spalten zu sortieren.\n",
    "\n",
    "- Zeilen basierend auf den Werten in einer oder mehreren Spalten anordnen\n",
    "- aufsteigend oder absteigend<br><br>\n",
    "\n",
    "- **Nach einer Spalte sortieren**:\n",
    "  \n",
    "```python\n",
    "  df.sort_values(by='Spalte1')\n",
    "```\n",
    "<br>\n",
    "\n",
    "- **Nach mehreren Spalten sortieren**:\n",
    "  \n",
    "```python\n",
    "  df.sort_values(by=['Spalte1', 'Spalte2'], ascending=[True, False])\n",
    "```\n",
    "\n",
    "<br>\n",
    "\n",
    "- **Index sortieren**:\n",
    "  \n",
    "```python\n",
    "  df.sort_index()\n",
    "```\n",
    "\n",
    "Beispiel:"
   ]
  },
  {
   "cell_type": "code",
   "execution_count": 7,
   "id": "e403d9c1-59b7-4e2c-9e0e-dd45b15858cd",
   "metadata": {
    "editable": true,
    "slideshow": {
     "slide_type": ""
    },
    "tags": []
   },
   "outputs": [
    {
     "data": {
      "text/html": [
       "<div>\n",
       "<style scoped>\n",
       "    .dataframe tbody tr th:only-of-type {\n",
       "        vertical-align: middle;\n",
       "    }\n",
       "\n",
       "    .dataframe tbody tr th {\n",
       "        vertical-align: top;\n",
       "    }\n",
       "\n",
       "    .dataframe thead th {\n",
       "        text-align: right;\n",
       "    }\n",
       "</style>\n",
       "<table border=\"1\" class=\"dataframe\">\n",
       "  <thead>\n",
       "    <tr style=\"text-align: right;\">\n",
       "      <th></th>\n",
       "      <th>Name</th>\n",
       "      <th>Alter</th>\n",
       "      <th>Gehalt</th>\n",
       "      <th>Abteilung</th>\n",
       "    </tr>\n",
       "  </thead>\n",
       "  <tbody>\n",
       "    <tr>\n",
       "      <th>1</th>\n",
       "      <td>Bob</td>\n",
       "      <td>35</td>\n",
       "      <td>120000</td>\n",
       "      <td>IT</td>\n",
       "    </tr>\n",
       "    <tr>\n",
       "      <th>2</th>\n",
       "      <td>Charlie</td>\n",
       "      <td>45</td>\n",
       "      <td>90000</td>\n",
       "      <td>IT</td>\n",
       "    </tr>\n",
       "    <tr>\n",
       "      <th>3</th>\n",
       "      <td>David</td>\n",
       "      <td>28</td>\n",
       "      <td>80000</td>\n",
       "      <td>Marketing</td>\n",
       "    </tr>\n",
       "    <tr>\n",
       "      <th>0</th>\n",
       "      <td>Alice</td>\n",
       "      <td>23</td>\n",
       "      <td>70000</td>\n",
       "      <td>HR</td>\n",
       "    </tr>\n",
       "    <tr>\n",
       "      <th>4</th>\n",
       "      <td>Eva</td>\n",
       "      <td>22</td>\n",
       "      <td>60000</td>\n",
       "      <td>HR</td>\n",
       "    </tr>\n",
       "  </tbody>\n",
       "</table>\n",
       "</div>"
      ],
      "text/plain": [
       "      Name  Alter  Gehalt  Abteilung\n",
       "1      Bob     35  120000         IT\n",
       "2  Charlie     45   90000         IT\n",
       "3    David     28   80000  Marketing\n",
       "0    Alice     23   70000         HR\n",
       "4      Eva     22   60000         HR"
      ]
     },
     "execution_count": 7,
     "metadata": {},
     "output_type": "execute_result"
    }
   ],
   "source": [
    "# Sortieren nach 'Gehalt' in absteigender Reihenfolge\n",
    "df_sorted = df.sort_values(by='Gehalt', ascending=False)\n",
    "df_sorted"
   ]
  },
  {
   "cell_type": "markdown",
   "id": "01332bce-b2af-400d-b9b0-99cd18bdbea0",
   "metadata": {
    "editable": true,
    "slideshow": {
     "slide_type": ""
    },
    "tags": []
   },
   "source": [
    "# Reshaping (Umformen von Daten)\n",
    "\n",
    "Pandas bietet auch Methoden zum Umformen von DataFrames, z.B. das Pivotieren oder das Schmelzen von Daten.<br><br>\n",
    "\n",
    "- **Pivot**: Du kannst einen DataFrame \"pivotieren\", um eine neue tabellarische Struktur zu erhalten.\n",
    "\n",
    "```python\n",
    "  df.pivot(index='Zeilen-Spalte', columns='Spalten-Spalte', values='Wert-Spalte')\n",
    " ```\n",
    "\n",
    "<br>\n",
    "\n",
    "- **Melt (Schmelzen)**: Diese Methode ist nützlich, wenn du eine \"Wide\"-Format-Datenstruktur in eine \"Long\"-Format-Datenstruktur umwandeln möchtest.\n",
    "  \n",
    "```python\n",
    "  df.melt(id_vars=['Spalte1'], value_vars=['Spalte2', 'Spalte3'])\n",
    "```"
   ]
  },
  {
   "cell_type": "markdown",
   "id": "49d5e2dc-0b59-412c-aca9-9b5966c48ea4",
   "metadata": {
    "editable": true,
    "slideshow": {
     "slide_type": ""
    },
    "tags": []
   },
   "source": [
    "# Beispielcode zur Anwendung"
   ]
  },
  {
   "cell_type": "code",
   "execution_count": 5,
   "id": "4a6e34db-56c1-4923-82b2-a7292406dd1b",
   "metadata": {
    "editable": true,
    "slideshow": {
     "slide_type": ""
    },
    "tags": []
   },
   "outputs": [
    {
     "name": "stdout",
     "output_type": "stream",
     "text": [
      "\n",
      "Subset:     Name  Alter  Punkte\n",
      "1    Ben     45      92\n",
      "2  Clara     31      85\n",
      "\n",
      "Sortiertes DataFrame:     Name  Alter  Punkte\n",
      "3  David     22      95\n",
      "1    Ben     45      92\n",
      "0   Anna     23      88\n",
      "2  Clara     31      85\n",
      "\n",
      "Geschmolzenes DataFrame:     Name variable  value\n",
      "0   Anna    Alter     23\n",
      "1    Ben    Alter     45\n",
      "2  Clara    Alter     31\n",
      "3  David    Alter     22\n",
      "4   Anna   Punkte     88\n",
      "5    Ben   Punkte     92\n",
      "6  Clara   Punkte     85\n",
      "7  David   Punkte     95\n"
     ]
    }
   ],
   "source": [
    "import pandas as pd\n",
    "\n",
    "# Beispiel-Daten\n",
    "data = {\n",
    "    'Name': ['Anna', 'Ben', 'Clara', 'David'],\n",
    "    'Alter': [23, 45, 31, 22],\n",
    "    'Punkte': [88, 92, 85, 95]\n",
    "}\n",
    "\n",
    "df = pd.DataFrame(data)\n",
    "\n",
    "# Subsetting: Zeilen auswählen, bei denen das Alter > 30 ist\n",
    "subset = df[df['Alter'] > 30]\n",
    "\n",
    "# Sortieren nach der Spalte 'Punkte'\n",
    "sorted_df = df.sort_values(by='Punkte', ascending=False)\n",
    "\n",
    "# Daten pivotieren (angenommen wir hätten ein geeignetes Format)\n",
    "# pivot_df = df.pivot(index='Name', columns='Punkte', values='Alter')\n",
    "\n",
    "# Schmelzen\n",
    "melted_df = df.melt(id_vars=['Name'], value_vars=['Alter', 'Punkte'])\n",
    "\n",
    "print(\"\\nSubset:\", subset)\n",
    "print(\"\\nSortiertes DataFrame:\", sorted_df)\n",
    "print(\"\\nGeschmolzenes DataFrame:\", melted_df)"
   ]
  }
 ],
 "metadata": {
  "kernelspec": {
   "display_name": "Python 3 (ipykernel)",
   "language": "python",
   "name": "python3"
  },
  "language_info": {
   "codemirror_mode": {
    "name": "ipython",
    "version": 3
   },
   "file_extension": ".py",
   "mimetype": "text/x-python",
   "name": "python",
   "nbconvert_exporter": "python",
   "pygments_lexer": "ipython3",
   "version": "3.12.6"
  }
 },
 "nbformat": 4,
 "nbformat_minor": 5
}
