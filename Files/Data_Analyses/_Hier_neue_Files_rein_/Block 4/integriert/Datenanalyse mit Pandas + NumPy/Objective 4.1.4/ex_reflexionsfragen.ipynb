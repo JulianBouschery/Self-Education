{
 "cells": [
  {
   "cell_type": "markdown",
   "id": "f96821a6-495f-48f3-bc7d-1eadc31e3998",
   "metadata": {},
   "source": [
    "**Reflexionsfragen:**\n",
    "1. Wann ist der Median aussagekräftiger als der Mittelwert?\n",
    "2. Welche Rolle spielt die Standardabweichung bei der Analyse der Datenverteilung?\n",
    "3. Wie können diese Statistiken helfen, ein besseres Verständnis von Datensätzen zu entwickeln?"
   ]
  },
  {
   "cell_type": "code",
   "execution_count": null,
   "id": "5da2ef44-3c98-420a-b6c3-9aa1f400e33e",
   "metadata": {},
   "outputs": [],
   "source": []
  }
 ],
 "metadata": {
  "kernelspec": {
   "display_name": "Python 3 (ipykernel)",
   "language": "python",
   "name": "python3"
  },
  "language_info": {
   "codemirror_mode": {
    "name": "ipython",
    "version": 3
   },
   "file_extension": ".py",
   "mimetype": "text/x-python",
   "name": "python",
   "nbconvert_exporter": "python",
   "pygments_lexer": "ipython3",
   "version": "3.12.6"
  }
 },
 "nbformat": 4,
 "nbformat_minor": 5
}
