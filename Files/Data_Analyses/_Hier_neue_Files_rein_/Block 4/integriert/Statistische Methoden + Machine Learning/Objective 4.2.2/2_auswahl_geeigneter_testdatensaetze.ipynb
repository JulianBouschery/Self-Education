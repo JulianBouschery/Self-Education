{
 "cells": [
  {
   "cell_type": "markdown",
   "id": "019ac5f2-d274-42b2-8a30-2c036f42f7d2",
   "metadata": {},
   "source": [
    "# Syllabus\n",
    "\n",
    "Demonstrate knowledge of proper test dataset selection and usage to ensure unbiased and accurate model evaluation."
   ]
  },
  {
   "cell_type": "markdown",
   "id": "0dc6ee36-954c-47b0-89b9-67ea2f703b3e",
   "metadata": {},
   "source": [
    "Um eine unvoreingenommene und genaue Modellevaluierung zu gewährleisten, ist die Auswahl und Verwendung eines geeigneten Testdatensatzes entscheidend. Hier sind die wichtigsten Schritte und Überlegungen, die man beachten sollte:"
   ]
  },
  {
   "cell_type": "markdown",
   "id": "edf38219-5836-4ef2-9a64-ffe5a8ca3758",
   "metadata": {},
   "source": [
    "# Datensatz-Aufteilung:\n",
    "\n",
    "   - **Trainingsdatensatz**:<br>\n",
    "   wird verwendet, um das Modell zu trainieren. Das Modell die zugrunde liegenden Muster und Beziehungen in den Daten.\n",
    "\n",
    "   - **Validierungsdatensatz**:<br>\n",
    "   Optionaler Schritt, bei dem dieser Datensatz während des Trainings verwendet wird, um die Modellhyperparameter abzustimmen und Überanpassung (Overfitting) zu vermeiden.\n",
    "\n",
    "\n",
    "   - **Testdatensatz**:<br>\n",
    "   unabhängiger Datensatz, der ausschließlich zur finalen Bewertung des Modells verwendet wird. Es ist wichtig, dass das Modell diesen Datensatz während des Trainings nie gesehen hat."
   ]
  },
  {
   "cell_type": "markdown",
   "id": "34732c1d-e6b5-430a-b553-50df3c7be440",
   "metadata": {},
   "source": [
    "# Unabhängigkeit des Testdatensatzes:\n",
    "\n",
    "   Der Testdatensatz muss völlig unabhängig von den Trainings- und Validierungsdaten sein. Das bedeutet:\n",
    "   \n",
    "   - **Zeitliche Unabhängigkeit**:<br>\n",
    "   Wenn es sich um zeitlich geordnete Daten handelt (z.B. Zeitreihen), dürfen Datenpunkte aus der Zukunft nicht zum Testen eines Modells verwendet werden, das auf Daten aus der Vergangenheit trainiert wurde.\n",
    "\n",
    "   - **Vermeidung von Leckage**:<br>\n",
    "   Es darf keine Informationen aus den Trainingsdaten in den Testdatensatz gelangen (z.B. durch Merkmale, die stark mit dem Zielwert korrelieren und aus den Trainingsdaten abgeleitet wurden)."
   ]
  },
  {
   "cell_type": "markdown",
   "id": "2ec1b903-f915-4035-bec7-18bde45f0f45",
   "metadata": {},
   "source": [
    "# Ausgewogene Repräsentation (Testdatensatz)\n",
    "\n",
    "Ein Testdatensatz sollte möglichst die Verteilung der Daten widerspiegeln, die in der realen Anwendung des Modells zu erwarten ist. Das bedeutet:\n",
    "\n",
    "- **Ähnliche Verteilung der Merkmale und Zielvariablen:**<br>\n",
    "Die Verteilungen der Features (Merkmale) und der Zielvariablen sollten im Testdatensatz repräsentativ für die echten Daten sein. Wenn ein Testdatensatz z.B. überwiegend Daten von einer bestimmten Gruppe enthält, obwohl die realen Daten eine größere Vielfalt aufweisen, könnte das Modell in der Praxis schlechter abschneiden.\n",
    "\n",
    "- **Balancierte Zielvariablen** (bei Klassifikationsproblemen):<br>\n",
    "Wenn du ein Modell für eine Klassifikationsaufgabe trainierst, solltest du sicherstellen, dass der Testdatensatz in etwa die gleiche Verteilung der Klassen aufweist wie die realen Daten.<br>\n",
    "**Beispiel:** <br>\n",
    "Bei einer binären Klassifikation (z.B. Krank oder Nicht Krank) wäre ein Testdatensatz, der zu 90 % aus Nicht-Kranken besteht, problematisch, wenn die realen Daten eine gleichmäßigere Verteilung haben. In diesem Fall könnte das Modell besonders gut bei Nicht-Kranken abschneiden, aber bei Kranken schwach sein, was durch die Verteilung im Testdatensatz maskiert wird.\n",
    "\n",
    "Ein Testdatensatz, der eine verzerrte oder untypische Verteilung hat, kann dazu führen, dass die Modellevaluierung nicht die reale Modellleistung widerspiegelt. Das Modell könnte im Test hervorragend abschneiden, aber in der Praxis versagen, weil es auf Daten angewendet wird, die anders verteilt sind."
   ]
  },
  {
   "cell_type": "markdown",
   "id": "b5218fcf-c1b7-4928-9faa-e6c48c7cb4c9",
   "metadata": {},
   "source": [
    "# Kreuzvalidierung (Cross-Validation)\n",
    "\n",
    "Die Kreuzvalidierung ist eine Technik, die verwendet wird, um die Modellleistung robuster und verlässlicher zu bewerten, insbesondere wenn der verfügbare Datensatz klein ist. \n",
    "\n",
    "Die Idee dahinter ist, den gesamten Datensatz mehrfach zu verwenden, um sowohl das Training als auch das Testen durchzuführen. Ein klassisches Verfahren ist die k-fache Kreuzvalidierung (k-fold cross-validation).\n",
    "\n",
    "- **Funktionsweise der k-fachen Kreuzvalidierung:** <br>\n",
    "        Der Datensatz wird in k gleiche Teile (Folds) aufgeteilt.<br>\n",
    "\n",
    "  **Beispiel:<br>**\n",
    "  Bei einer 5-fachen Kreuzvalidierung wird der Datensatz in 5 Teile geteilt.\n",
    "\n",
    "\n",
    "  Das Modell wird k-mal trainiert. Jedes Mal wird ein anderer Teil (ein **Fold**) als Testdatensatz verwendet, und die verbleibenden Teile werden zum Trainieren des Modells genutzt.\n",
    "        Am Ende hat das Modell k verschiedene Testergebnisse, da es k-mal auf verschiedenen Testdatensätzen getestet wurde.\n",
    "        Der finale Leistungswert des Modells ist der Durchschnitt der k Ergebnisse. Dies gibt eine verlässlichere Schätzung der Modellleistung, weil das Modell auf verschiedenen Teilmengen getestet wurde.\n",
    "\n",
    "- **Vorteile der Kreuzvalidierung:** <br>\n",
    "        Vermeidung von Zufallsfehlern:<br>\n",
    "        Wenn du das Modell nur auf einem einzigen Testdatensatz bewertest, kann es passieren, dass du zufällig auf eine besonders günstige oder ungünstige Teilmenge der Daten stößt. Die Kreuzvalidierung mindert diesen Zufallseffekt.\n",
    "        Effiziente Nutzung kleiner Datensätze:<br>\n",
    "        Besonders bei kleinen Datensätzen vermeidest du es, Daten \"zu verschwenden\", indem du immer wieder einen Teil der Daten für das Testen und nicht nur für das Training nutzt.\n",
    "\n",
    "**Ein einfaches Beispiel**:<br>\n",
    "Wenn du nur eine einfache Aufteilung in Trainings- und Testdatensatz machst, könntest du zufällig einen Testdatensatz haben, der schwerer oder leichter zu klassifizieren ist, was die Ergebnisse verzerrt. Durch die Kreuzvalidierung wird dieser Zufallseffekt geglättet, weil du mehrere Testdatensätze verwendest und so einen Durchschnittswert erhältst, der repräsentativer ist."
   ]
  },
  {
   "cell_type": "markdown",
   "id": "3d014845-17b5-4b12-984d-4684710b4bbc",
   "metadata": {},
   "source": [
    "# Metriken der Modellevaluierung:\n",
    "\n",
    "   - **Genauigkeit allein reicht nicht**:<br>\n",
    "   Je nach Anwendungsfall kann die Genauigkeit irreführend sein.<br>\n",
    "   Besonders bei unbalancierten Datensätzen sollte man andere Metriken wie **Precision**, **Recall**, **F1-Score** oder **AUC-ROC** berücksichtigen, um die wahre Leistungsfähigkeit des Modells zu bewerten.\n",
    "\n",
    "   - **Mehrere Metriken nutzen**:<br>\n",
    "   Um eine umfassendere Vorstellung von der Modellleistung zu bekommen, ist es oft sinnvoll, verschiedene Metriken zu verwenden, je nach Art des Problems (z.B. Klassifikation vs. Regression)."
   ]
  },
  {
   "cell_type": "markdown",
   "id": "317f0dc3-a9f7-4ba3-9795-8349e567fe00",
   "metadata": {},
   "source": [
    "# Umgang mit Datenverzerrungen (Biases):\n",
    "\n",
    "   Es ist wichtig sicherzustellen, dass der Testdatensatz keine systematischen Verzerrungen enthält. \n",
    "   \n",
    "   Ein unrepräsentativer Testdatensatz kann zu irreführenden Schlussfolgerungen führen, z.B. wenn er eine Untergruppe der Bevölkerung überrepräsentiert."
   ]
  },
  {
   "cell_type": "markdown",
   "id": "18fcc374-5eec-43ce-96b8-198ca5a2c4dd",
   "metadata": {},
   "source": [
    "# Stetige Überprüfung und Anpassung:\n",
    "\n",
    "   Selbst nach der Modellentwicklung sollte man den Testdatensatz regelmäßig überprüfen und anpassen, insbesondere wenn sich die realen Bedingungen ändern oder neue Daten hinzukommen. Dies stellt sicher, dass das Modell auch bei veränderten Umständen gut funktioniert.\n"
   ]
  }
 ],
 "metadata": {
  "kernelspec": {
   "display_name": "Python 3 (ipykernel)",
   "language": "python",
   "name": "python3"
  },
  "language_info": {
   "codemirror_mode": {
    "name": "ipython",
    "version": 3
   },
   "file_extension": ".py",
   "mimetype": "text/x-python",
   "name": "python",
   "nbconvert_exporter": "python",
   "pygments_lexer": "ipython3",
   "version": "3.12.6"
  }
 },
 "nbformat": 4,
 "nbformat_minor": 5
}
