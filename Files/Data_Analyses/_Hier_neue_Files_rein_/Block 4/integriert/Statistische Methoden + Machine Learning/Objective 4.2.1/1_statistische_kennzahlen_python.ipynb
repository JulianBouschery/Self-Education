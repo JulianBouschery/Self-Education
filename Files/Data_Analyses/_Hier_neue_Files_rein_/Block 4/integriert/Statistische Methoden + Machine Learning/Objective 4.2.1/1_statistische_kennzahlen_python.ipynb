{
 "cells": [
  {
   "cell_type": "markdown",
   "id": "1aa43329-23c0-4189-b97f-e260ee4f1a4d",
   "metadata": {},
   "source": [
    "# Syllabus\n",
    "\n",
    "Calculate and interpret key statistical measures such as mean, median, mode, variance, and standard deviation using Python."
   ]
  },
  {
   "cell_type": "markdown",
   "id": "2d20ea7c-58f9-4dac-9d87-4fc45f0746c4",
   "metadata": {},
   "source": [
    "# Mittelwert (Mean) mit `numpy.mean()`\n",
    "\n",
    "In Python bietet `numpy` die Funktion `mean()`, um den Mittelwert eines Arrays oder einer Liste zu berechnen. Sie summiert die Werte und teilt diese durch die Anzahl der Werte.\n",
    "\n",
    "- **Warum `numpy.mean()`?**:<br>\n",
    "`numpy` ist eine leistungsstarke Bibliothek, die für numerische Berechnungen optimiert ist. Sie ist besonders nützlich für große Arrays und Matrizen.\n",
    "- **Anwendungsfall**:<br>\n",
    "Der Mittelwert wird verwendet, um eine zentrale Tendenz der Daten zu bestimmen. Es ist wichtig zu beachten, dass der Mittelwert empfindlich auf Ausreißer ist.\n"
   ]
  },
  {
   "cell_type": "code",
   "execution_count": 1,
   "id": "5c2b43b9-0d89-488c-a82a-d2d0650105c7",
   "metadata": {},
   "outputs": [
    {
     "name": "stdout",
     "output_type": "stream",
     "text": [
      "Mittelwert: 16.416666666666668\n"
     ]
    }
   ],
   "source": [
    "\n",
    "import numpy as np\n",
    "\n",
    "daten = [12, 15, 12, 10, 18, 20, 10, 15, 18, 20, 22, 25]\n",
    "mean = np.mean(daten)\n",
    "print(f\"Mittelwert: {mean}\")\n"
   ]
  },
  {
   "cell_type": "markdown",
   "id": "4e34268c-96c0-408d-9cea-d9a513c3e197",
   "metadata": {},
   "source": [
    "---\n",
    "# Median mit `numpy.median()`\n",
    "Der Median ist der mittlere Wert eines sortierten Datensatzes. Wenn der Datensatz eine gerade Anzahl von Werten hat, wird der Durchschnitt der beiden mittleren Werte genommen.\n",
    "\n",
    "- **Warum `numpy.median()`?**:<br>\n",
    "Auch diese Funktion profitiert von der Schnelligkeit und Effizienz von `numpy`, insbesondere wenn der Datensatz groß ist.\n",
    "- **Anwendungsfall**:<br>\n",
    "Der Median wird häufig verwendet, wenn der Datensatz Ausreißer enthält, die den Mittelwert stark verzerren könnten. Zum Beispiel bei Einkommensdaten, wo sehr hohe Werte den Durchschnitt stark beeinflussen würden."
   ]
  },
  {
   "cell_type": "code",
   "execution_count": 2,
   "id": "1aea6e08-d0db-4d18-a2a4-1d438696a80b",
   "metadata": {},
   "outputs": [
    {
     "name": "stdout",
     "output_type": "stream",
     "text": [
      "Median: 16.5\n"
     ]
    }
   ],
   "source": [
    "median = np.median(daten)\n",
    "print(f\"Median: {median}\")"
   ]
  },
  {
   "cell_type": "markdown",
   "id": "ba88f043-845d-4ce2-b1dd-6efd2e66c16f",
   "metadata": {},
   "source": [
    "---\n",
    "# Modus (Mode) mit `statistics.mode()`\n",
    "Der Modus ist der häufigste Wert in einem Datensatz. Die Python-Standardbibliothek `statistics` bietet eine einfache Möglichkeit, den Modus zu berechnen.\n",
    "\n",
    "- **Warum `statistics.mode()`?**:<br>\n",
    "`statistics` ist eine eingebaute Python-Bibliothek, die speziell für grundlegende statistische Berechnungen ausgelegt ist. Sie ist ideal, wenn du keine zusätzliche Bibliothek wie `numpy` installieren möchtest.\n",
    "- **Anwendungsfall**:<br>\n",
    "Der Modus wird häufig für kategoriale Daten verwendet, wo der häufigste Wert interessiert, wie zum Beispiel die beliebteste Farbe in einer Umfrage."
   ]
  },
  {
   "cell_type": "code",
   "execution_count": 3,
   "id": "e68e3112-2063-4179-9c4c-17d61e11c1d1",
   "metadata": {},
   "outputs": [
    {
     "name": "stdout",
     "output_type": "stream",
     "text": [
      "Modus: 12\n"
     ]
    }
   ],
   "source": [
    "import statistics as stats\n",
    "\n",
    "mode = stats.mode(daten)\n",
    "print(f\"Modus: {mode}\")\n"
   ]
  },
  {
   "cell_type": "markdown",
   "id": "8aa07a4d-ba30-4edc-8051-266895dbaa70",
   "metadata": {},
   "source": [
    "---\n",
    "\n",
    "# Varianz mit `numpy.var()`\n",
    "Die Varianz gibt die durchschnittliche quadratische Abweichung jedes Wertes vom Mittelwert an. Sie zeigt, wie stark die Daten streuen.\n",
    "\n",
    "- **Warum `numpy.var()`?**:<br>\n",
    "Auch hier spielt die Effizienz von `numpy` eine große Rolle. `var()` ist direkt für Arrays und Listen anwendbar.\n",
    "- **Anwendungsfall**:<br>\n",
    "Die Varianz hilft dir zu verstehen, wie breit oder eng die Werte um den Mittelwert verteilt sind. Eine hohe Varianz deutet auf eine große Streuung hin."
   ]
  },
  {
   "cell_type": "code",
   "execution_count": 4,
   "id": "dacb9770-b490-44b6-a1a2-fb1977b97d8c",
   "metadata": {},
   "outputs": [
    {
     "name": "stdout",
     "output_type": "stream",
     "text": [
      "Varianz: 21.743055555555554\n"
     ]
    }
   ],
   "source": [
    "varianz = np.var(daten)\n",
    "print(f\"Varianz: {varianz}\")\n"
   ]
  },
  {
   "cell_type": "markdown",
   "id": "4cdf2748-0a6e-48e9-962c-0a04a72480bc",
   "metadata": {},
   "source": [
    "---\n",
    "\n",
    "# Standardabweichung mit `numpy.std()`\n",
    "Die Standardabweichung ist die Quadratwurzel der Varianz und zeigt die durchschnittliche Abweichung vom Mittelwert an.\n",
    "\n",
    "- **Warum `numpy.std()`?**:<br>\n",
    "Die Standardabweichung ist eng mit der Varianz verwandt und wird häufig verwendet, da sie die gleiche Einheit wie die Daten selbst hat (anders als die Varianz, die quadriert ist).\n",
    "- **Anwendungsfall**:<br>\n",
    "Wenn du die Streuung der Daten in der gleichen Einheit wie die Datenwerte haben möchtest, ist die Standardabweichung das bevorzugte Maß."
   ]
  },
  {
   "cell_type": "code",
   "execution_count": 5,
   "id": "bdd43568-4ff8-480b-afb4-ac1f97941f5b",
   "metadata": {},
   "outputs": [
    {
     "name": "stdout",
     "output_type": "stream",
     "text": [
      "Standardabweichung: 4.662944944512594\n"
     ]
    }
   ],
   "source": [
    "std_abw = np.std(daten)\n",
    "print(f\"Standardabweichung: {std_abw}\")\n"
   ]
  },
  {
   "cell_type": "markdown",
   "id": "b0a727a0-f59d-46c1-947f-07e7e1f2dde9",
   "metadata": {},
   "source": [
    "---\n",
    "\n",
    "# Besonderheiten und Vorzüge in Python\n",
    "\n",
    "1. **Einfache Implementierung**:<br>\n",
    "Python bietet eingebaute Bibliotheken wie `statistics` und leistungsstarke Bibliotheken wie `numpy`, die dir die Berechnung dieser Kennzahlen stark vereinfachen.\n",
    "   \n",
    "2. **Geschwindigkeit und Effizienz**:<br>\n",
    "Besonders bei großen Datensätzen ist die Nutzung von `numpy` empfehlenswert, da es für numerische Operationen optimiert ist.\n",
    "\n",
    "3. **Flexibilität**:<br>\n",
    "Python ermöglicht es dir, verschiedene statistische Berechnungen sehr einfach zu kombinieren und zu erweitern. Zum Beispiel kannst du eine eigene Funktion schreiben, die alle Kennzahlen gleichzeitig berechnet und zurückgibt:"
   ]
  },
  {
   "cell_type": "code",
   "execution_count": 6,
   "id": "60e7e589-f078-4333-9850-8ddb9a237c90",
   "metadata": {},
   "outputs": [
    {
     "name": "stdout",
     "output_type": "stream",
     "text": [
      "{'Mittelwert': np.float64(16.416666666666668), 'Median': np.float64(16.5), 'Modus': 12, 'Varianz': np.float64(21.743055555555554), 'Standardabweichung': np.float64(4.662944944512594)}\n"
     ]
    }
   ],
   "source": [
    "def berechne_statistiken(daten):\n",
    "    mean = np.mean(daten)\n",
    "    median = np.median(daten)\n",
    "    mode = stats.mode(daten)\n",
    "    varianz = np.var(daten)\n",
    "    std_abw = np.std(daten)\n",
    "    \n",
    "    return {\n",
    "        \"Mittelwert\": mean,\n",
    "        \"Median\": median,\n",
    "        \"Modus\": mode,\n",
    "        \"Varianz\": varianz,\n",
    "        \"Standardabweichung\": std_abw\n",
    "    }\n",
    "\n",
    "# Anwendung der Funktion\n",
    "statistiken = berechne_statistiken(daten)\n",
    "print(statistiken)"
   ]
  },
  {
   "cell_type": "code",
   "execution_count": null,
   "id": "5eb39a6b-d910-40a0-a725-fe88aff44428",
   "metadata": {},
   "outputs": [],
   "source": []
  }
 ],
 "metadata": {
  "kernelspec": {
   "display_name": "Python 3 (ipykernel)",
   "language": "python",
   "name": "python3"
  },
  "language_info": {
   "codemirror_mode": {
    "name": "ipython",
    "version": 3
   },
   "file_extension": ".py",
   "mimetype": "text/x-python",
   "name": "python",
   "nbconvert_exporter": "python",
   "pygments_lexer": "ipython3",
   "version": "3.12.6"
  }
 },
 "nbformat": 4,
 "nbformat_minor": 5
}
