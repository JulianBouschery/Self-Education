{
 "cells": [
  {
   "cell_type": "markdown",
   "id": "28458625-2d2a-4d24-97ce-fdeef59e64ad",
   "metadata": {},
   "source": [
    "Überblick über die grundlegenden Array-Operationen in NumPy:\n",
    "- arithmetische Operationen\n",
    "- Broadcasting\n",
    "- Aggregationsfunktionen\n",
    "\n",
    "\n",
    "[Numpy-Arrays](https://www.geeksforgeeks.org/python-operations-on-numpy-arrays/)\n"
   ]
  },
  {
   "cell_type": "markdown",
   "id": "55d12814-3be3-434f-8b56-1722601e412e",
   "metadata": {
    "editable": true,
    "slideshow": {
     "slide_type": ""
    },
    "tags": []
   },
   "source": [
    "# Syllabus\n",
    "\n",
    "Execute array operations using NumPy, including basic arithmetic, broadcasting, and aggregation functions."
   ]
  },
  {
   "cell_type": "markdown",
   "id": "d25db0de-f55e-4ce2-b482-ff3af632d6ae",
   "metadata": {
    "editable": true,
    "slideshow": {
     "slide_type": ""
    },
    "tags": []
   },
   "source": [
    "#  Array-Erstellung und Grundlegende Arithmetik\n",
    "\n",
    "## Addition, Subtraktion, Multiplikation, Division"
   ]
  },
  {
   "cell_type": "code",
   "execution_count": 5,
   "id": "eeb9a554-d141-41fb-8ffb-f62308b07d1e",
   "metadata": {
    "editable": true,
    "slideshow": {
     "slide_type": ""
    },
    "tags": []
   },
   "outputs": [],
   "source": [
    "import numpy as np\n",
    "\n",
    "# Zwei Arrays erstellen\n",
    "a = np.array([1, 2, 3, 4])\n",
    "b = np.array([10, 20, 30, 40])\n",
    "\n",
    "# Addition, Subtraktion, Multiplikation und Division\n",
    "add = a + b          # [11, 22, 33, 44]\n",
    "sub = a - b          # [-9, -18, -27, -36]\n",
    "mul = a * b          # [10, 40, 90, 160]\n",
    "div = a / b          # [0.1, 0.1, 0.1, 0.1]"
   ]
  },
  {
   "cell_type": "markdown",
   "id": "ce07720e-38f6-4818-a148-d466d1ef8b4a",
   "metadata": {
    "editable": true,
    "slideshow": {
     "slide_type": ""
    },
    "tags": []
   },
   "source": [
    "## Array-Slicing und Indexierung\n",
    "Auf Teile eines Arrays zugreifen oder es modifizieren:"
   ]
  },
  {
   "cell_type": "code",
   "execution_count": null,
   "id": "a8afe4df-1c99-445c-bd27-54094fe5f140",
   "metadata": {
    "editable": true,
    "slideshow": {
     "slide_type": ""
    },
    "tags": []
   },
   "outputs": [],
   "source": [
    "# Array-Slicing\n",
    "arr = np.array([[1, 2, 3], [4, 5, 6], [7, 8, 9]])\n",
    "\n",
    "# Zugriff auf eine bestimmte Zeile und Spalte\n",
    "element = arr[1, 2]  # Zugriff auf das Element in der 2. Zeile, 3. Spalte (Ergebnis: 6)\n",
    "\n",
    "# Zugriff auf eine ganze Zeile\n",
    "row = arr[1, :]  # Zugriff auf die 2. Zeile: [4, 5, 6]\n",
    "\n",
    "# Zugriff auf eine ganze Spalte\n",
    "col = arr[:, 2]  # Zugriff auf die 3. Spalte: [3, 6, 9]\n",
    "\n",
    "# Teil-Array (Slicing)\n",
    "subarray = arr[0:2, 1:3]  # Ergebnis: [[2, 3], [5, 6]]"
   ]
  },
  {
   "cell_type": "markdown",
   "id": "322da42b-1c02-4f5f-8fa1-543b10981760",
   "metadata": {
    "editable": true,
    "slideshow": {
     "slide_type": ""
    },
    "tags": []
   },
   "source": [
    "## Boolean Indexing und Masken\n",
    "Arrays basierend auf bestimmten Bedingungen filtern, indem man boolesche Arrays verwendet:"
   ]
  },
  {
   "cell_type": "code",
   "execution_count": 6,
   "id": "7289361c-cbcf-4ef2-96d3-10d5001381a9",
   "metadata": {},
   "outputs": [],
   "source": [
    "# Array erstellen\n",
    "arr = np.array([10, 20, 30, 40, 50])\n",
    "\n",
    "# Bedingte Filterung: Elemente größer als 30\n",
    "mask = arr > 30         # [False, False, False, True, True]\n",
    "filtered_arr = arr[mask]  # [40, 50]\n",
    "\n",
    "# Direkte Anwendung einer Bedingung\n",
    "arr[arr < 25] = 0       # Setzt alle Werte kleiner als 25 auf 0\n",
    "# Ergebnis: [ 0,  0, 30, 40, 50]"
   ]
  },
  {
   "cell_type": "markdown",
   "id": "320f95e1-5d9b-4a11-984f-3ebbfd762b65",
   "metadata": {
    "editable": true,
    "slideshow": {
     "slide_type": ""
    },
    "tags": []
   },
   "source": [
    "## Matrixoperationen\n",
    "Für lineare Algebra bietet NumPy auch spezielle Operationen, wie z.B. Matrixmultiplikation:"
   ]
  },
  {
   "cell_type": "code",
   "execution_count": 8,
   "id": "25375672-c377-47b5-bd99-1d2a5cd50451",
   "metadata": {
    "editable": true,
    "slideshow": {
     "slide_type": ""
    },
    "tags": []
   },
   "outputs": [
    {
     "data": {
      "text/plain": [
       "array([[19, 22],\n",
       "       [43, 50]])"
      ]
     },
     "execution_count": 8,
     "metadata": {},
     "output_type": "execute_result"
    }
   ],
   "source": [
    "# Matrixmultiplikation (Dot-Product)\n",
    "mat_a = np.array([[1, 2], [3, 4]])\n",
    "mat_b = np.array([[5, 6], [7, 8]])\n",
    "dot_product = np.dot(mat_a, mat_b)\n",
    "# Ergebnis: [[19, 22],\n",
    "#            [43, 50]]"
   ]
  },
  {
   "cell_type": "markdown",
   "id": "e7bcd0da-93bc-4074-b14b-41b9b4cb7d74",
   "metadata": {
    "editable": true,
    "slideshow": {
     "slide_type": ""
    },
    "tags": []
   },
   "source": [
    "## Randomisierung\n",
    "Funktionen, um Zufallszahlen zu generieren.\n",
    "Nützlich für Simulationen oder Initialisierungen:"
   ]
  },
  {
   "cell_type": "code",
   "execution_count": null,
   "id": "f5b1c9d0-8136-4f5a-b683-2d91acd242e6",
   "metadata": {},
   "outputs": [],
   "source": [
    "# Zufällige Zahlen im Bereich [0, 1)\n",
    "random_arr = np.random.rand(3, 3)\n",
    "\n",
    "# Zufällige Ganzzahlen im Bereich [low, high)\n",
    "rand_ints = np.random.randint(0, 10, size=(3, 3))  # Zufallszahlen von 0 bis 9"
   ]
  },
  {
   "cell_type": "markdown",
   "id": "6ef41d4c-e628-4d84-8001-bf8f61646d33",
   "metadata": {
    "editable": true,
    "slideshow": {
     "slide_type": ""
    },
    "tags": []
   },
   "source": [
    "## Reshaping und Transponieren\n",
    "Arrays in andere Dimensionen umformen und transponieren, um sie besser zu verarbeiten:"
   ]
  },
  {
   "cell_type": "code",
   "execution_count": 9,
   "id": "0f10a00e-64c0-4e3e-8e58-52fefce0adc3",
   "metadata": {},
   "outputs": [],
   "source": [
    "# Umformen eines Arrays\n",
    "reshaped_arr = np.reshape(a, (2, 2))  # Von (4,) zu (2,2)\n",
    "\n",
    "# Transponieren eines Arrays (Vertauschen von Zeilen und Spalten)\n",
    "transposed_arr = arr.T"
   ]
  },
  {
   "cell_type": "markdown",
   "id": "41b2ef11-b2c1-4261-826a-4fd163d40bc5",
   "metadata": {
    "editable": true,
    "slideshow": {
     "slide_type": ""
    },
    "tags": []
   },
   "source": [
    "# Broadcasting\n",
    "\n",
    "**Broadcasting**:\n",
    "Arrays mit unterschiedlichen Formen können kombiniert werden, wenn dies sinnvoll ist\n",
    "\n",
    "einfaches Beispiel:\n",
    "Addition eines Skalars zu einem Array:"
   ]
  },
  {
   "cell_type": "code",
   "execution_count": 3,
   "id": "03242ad1-a7c7-4feb-86df-6ed3317e9985",
   "metadata": {
    "editable": true,
    "slideshow": {
     "slide_type": ""
    },
    "tags": []
   },
   "outputs": [],
   "source": [
    "# Array mit einem Skalar addieren\n",
    "c = a + 10  # addiert zu jedem Element 10 hinzu: [11, 12, 13, 14] \n",
    "\n",
    "# Array mit einem anderen Array unterschiedlicher Dimensionen addieren\n",
    "d = np.array([[1], [2], [3], [4]])  # (4,1)-Form\n",
    "broadcast_result = a + d\n",
    "# Ergebnis: [[2, 3, 4, 5],\n",
    "#            [3, 4, 5, 6],\n",
    "#            [4, 5, 6, 7],\n",
    "#            [5, 6, 7, 8]]"
   ]
  },
  {
   "cell_type": "markdown",
   "id": "7fb06071-4b80-4b67-b15e-3ae5d279efcc",
   "metadata": {
    "editable": true,
    "slideshow": {
     "slide_type": ""
    },
    "tags": []
   },
   "source": [
    "# Aggregationsfunktionen\n",
    "## einfache Aggregation\n",
    "Beispiele von Funktionen zur Aggregation von Werten eines Arrays sind\n",
    "- `sum()`\n",
    "- `mean()`\n",
    "- `max()`\n",
    "- `min()`\n"
   ]
  },
  {
   "cell_type": "code",
   "execution_count": 4,
   "id": "eebf7e77-6466-4c6b-9ada-dda20c61b004",
   "metadata": {},
   "outputs": [],
   "source": [
    "# Beispiel-Array\n",
    "arr = np.array([[1, 2, 3], [4, 5, 6]])\n",
    "\n",
    "# Summe der Elemente\n",
    "sum_all = np.sum(arr)           # 21\n",
    "\n",
    "# Summe entlang der Achse (Spalten)\n",
    "sum_axis_0 = np.sum(arr, axis=0)  # [5, 7, 9]\n",
    "\n",
    "# Mittelwert der Elemente\n",
    "mean_all = np.mean(arr)         # 3.5\n",
    "\n",
    "# Maximum der Elemente\n",
    "max_value = np.max(arr)         # 6"
   ]
  },
  {
   "cell_type": "markdown",
   "id": "d63c6a6a-048a-4e81-83a0-3f70d8255c3a",
   "metadata": {
    "editable": true,
    "slideshow": {
     "slide_type": ""
    },
    "tags": []
   },
   "source": [
    "## Mehrdimensionale Aggregationen\n",
    "Bei mehrdimensionalen Arrays können Aggregationsfunktionen auf bestimmten Achsen angewandt werden.\n"
   ]
  },
  {
   "cell_type": "code",
   "execution_count": 10,
   "id": "834e3556-e673-40bb-bec3-0802584ee4e4",
   "metadata": {},
   "outputs": [],
   "source": [
    "arr = np.array([[1, 2, 3], [4, 5, 6]])\n",
    "\n",
    "# Summe entlang der Zeilen (Achse 1)\n",
    "row_sum = np.sum(arr, axis=1)  # [6, 15]\n",
    "\n",
    "# Maximum entlang der Spalten (Achse 0)\n",
    "col_max = np.max(arr, axis=0)  # [4, 5, 6]"
   ]
  },
  {
   "cell_type": "code",
   "execution_count": null,
   "id": "0598a7cc-3f8a-44e9-b66b-d2c77f06d8c0",
   "metadata": {
    "editable": true,
    "slideshow": {
     "slide_type": ""
    },
    "tags": []
   },
   "outputs": [],
   "source": []
  }
 ],
 "metadata": {
  "kernelspec": {
   "display_name": "Python 3 (ipykernel)",
   "language": "python",
   "name": "python3"
  },
  "language_info": {
   "codemirror_mode": {
    "name": "ipython",
    "version": 3
   },
   "file_extension": ".py",
   "mimetype": "text/x-python",
   "name": "python",
   "nbconvert_exporter": "python",
   "pygments_lexer": "ipython3",
   "version": "3.12.6"
  }
 },
 "nbformat": 4,
 "nbformat_minor": 5
}
