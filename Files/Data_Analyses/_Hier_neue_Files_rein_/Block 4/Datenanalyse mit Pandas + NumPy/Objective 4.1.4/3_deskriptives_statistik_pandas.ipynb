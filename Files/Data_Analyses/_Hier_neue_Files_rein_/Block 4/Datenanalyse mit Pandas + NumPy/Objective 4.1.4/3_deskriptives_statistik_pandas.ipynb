{
 "cells": [
  {
   "cell_type": "markdown",
   "id": "081bc33e-6542-47c0-962f-db84ccde4e71",
   "metadata": {},
   "source": [
    "Um deskriptive Statistiken mit Pandas und NumPy zu berechnen und zu interpretieren, können wir eine Vielzahl von Metriken extrahieren, wie zum Beispiel \n",
    "\n",
    "- Mittelwert (mean)\n",
    "- Median\n",
    "- Modus (mode)\n",
    "- Standardabweichung (standard deviation)\n",
    "- Varianz\n",
    "- Minimum\n",
    "- Maximum\n",
    "- Quantile\n",
    "\n",
    "Diese Statistiken helfen dabei, die Verteilung und Streuung von Daten besser zu verstehen. "
   ]
  },
  {
   "cell_type": "markdown",
   "id": "9960d04f-1820-45ff-a328-945a25205e59",
   "metadata": {},
   "source": [
    "# Syllabus\n",
    "\n",
    "Compute and interpret descriptive statistics using Pandas and NumPy to extract meaningful insights from data."
   ]
  },
  {
   "cell_type": "markdown",
   "id": "8fc690ab-e9da-45d5-b6f1-21da923199cc",
   "metadata": {},
   "source": [
    "# .describe()\n"
   ]
  },
  {
   "cell_type": "code",
   "execution_count": 18,
   "id": "4b6e343f-2599-4a58-9d2a-8565825f8e1e",
   "metadata": {},
   "outputs": [
    {
     "data": {
      "text/html": [
       "<div>\n",
       "<style scoped>\n",
       "    .dataframe tbody tr th:only-of-type {\n",
       "        vertical-align: middle;\n",
       "    }\n",
       "\n",
       "    .dataframe tbody tr th {\n",
       "        vertical-align: top;\n",
       "    }\n",
       "\n",
       "    .dataframe thead th {\n",
       "        text-align: right;\n",
       "    }\n",
       "</style>\n",
       "<table border=\"1\" class=\"dataframe\">\n",
       "  <thead>\n",
       "    <tr style=\"text-align: right;\">\n",
       "      <th></th>\n",
       "      <th>Alter</th>\n",
       "      <th>Gehalt</th>\n",
       "    </tr>\n",
       "  </thead>\n",
       "  <tbody>\n",
       "    <tr>\n",
       "      <th>count</th>\n",
       "      <td>5.000000</td>\n",
       "      <td>5.00000</td>\n",
       "    </tr>\n",
       "    <tr>\n",
       "      <th>mean</th>\n",
       "      <td>32.400000</td>\n",
       "      <td>52800.00000</td>\n",
       "    </tr>\n",
       "    <tr>\n",
       "      <th>std</th>\n",
       "      <td>7.092249</td>\n",
       "      <td>6685.80586</td>\n",
       "    </tr>\n",
       "    <tr>\n",
       "      <th>min</th>\n",
       "      <td>22.000000</td>\n",
       "      <td>45000.00000</td>\n",
       "    </tr>\n",
       "    <tr>\n",
       "      <th>25%</th>\n",
       "      <td>29.000000</td>\n",
       "      <td>48000.00000</td>\n",
       "    </tr>\n",
       "    <tr>\n",
       "      <th>50%</th>\n",
       "      <td>34.000000</td>\n",
       "      <td>52000.00000</td>\n",
       "    </tr>\n",
       "    <tr>\n",
       "      <th>75%</th>\n",
       "      <td>37.000000</td>\n",
       "      <td>58000.00000</td>\n",
       "    </tr>\n",
       "    <tr>\n",
       "      <th>max</th>\n",
       "      <td>40.000000</td>\n",
       "      <td>61000.00000</td>\n",
       "    </tr>\n",
       "  </tbody>\n",
       "</table>\n",
       "</div>"
      ],
      "text/plain": [
       "           Alter       Gehalt\n",
       "count   5.000000      5.00000\n",
       "mean   32.400000  52800.00000\n",
       "std     7.092249   6685.80586\n",
       "min    22.000000  45000.00000\n",
       "25%    29.000000  48000.00000\n",
       "50%    34.000000  52000.00000\n",
       "75%    37.000000  58000.00000\n",
       "max    40.000000  61000.00000"
      ]
     },
     "execution_count": 18,
     "metadata": {},
     "output_type": "execute_result"
    }
   ],
   "source": [
    "# Importieren der notwendigen Bibliotheken\n",
    "import pandas as pd\n",
    "import numpy as np\n",
    "\n",
    "# Beispiel-Datensatz\n",
    "daten = {\n",
    "    'Name': ['Anna', 'Bernd', 'Clara', 'Daniel', 'Eva'],\n",
    "    'Alter': [29, 34, 40, 22, 37],\n",
    "    'Gehalt': [48000, 52000, 61000, 45000, 58000]\n",
    "}\n",
    "\n",
    "df = pd.DataFrame(daten)\n",
    "\n",
    "# Deskriptive Statistiken berechnen\n",
    "statistiken = df.describe()\n",
    "statistiken"
   ]
  },
  {
   "attachments": {},
   "cell_type": "markdown",
   "id": "19e95828-389d-4e0a-a7ca-db2984d445ff",
   "metadata": {},
   "source": [
    "Die Funktion `df.describe()` liefert folgende Metriken für numerische Spalten:\n",
    "\n",
    "- **count**:<br>\n",
    "  Anzahl der Werte in jeder Spalte<br>\n",
    "  nützlich, um fehlende Werte zu identifizieren\n",
    "- **mean**:<br>\n",
    "  Durchschnittswert der Daten<br>\n",
    "  beschreibt die zentrale Tendenz\n",
    "- **std**:<br>\n",
    "  Standardabweichung<br>\n",
    "  zeigt die Streuung der Daten um den Mittelwert\n",
    "- **min**:<br>\n",
    "  kleinster Wert der Daten\n",
    "- **25%**:<br>\n",
    "  erstes Quartil (unterer Quartil)\n",
    "  25% der Daten liegen unter diesem Wert\n",
    "- **50%** (Median):<br>\n",
    "  auch zweites Quartil genannt<br>\n",
    "  mittlere Wert der geordneten Daten<br>\n",
    "  50% der Werte sind kleiner und 50% sind größer\n",
    "- **75%**:<br>\n",
    "  dritte Quartil (oberer Quartil)<br>\n",
    "  75% der Daten liegen unter diesem Wert\n",
    "- **max**:<br>\n",
    "  größter Wert der Daten\n",
    "\n",
    "<br>\n",
    "\n",
    "**Interpretation**\n",
    "\n",
    "- das Durchschnittsalter ist 32,4 Jahre, das durchschnittliche Gehalt beträgt 52.800 €\n",
    "- die Standardabweichung des Alters beträgt 7,01 Jahre -> weist auf eine moderate Streuung hin, während die Gehaltsstreuung mit 6.157 € relativ gering ist\n",
    "- das Minimumalter ist 22 Jahre und das maximale Alter 40 Jahre, mit einem Gehaltsspanne von 45.000 € bis 61.000 €\n",
    "- der Median des Gehalts beträgt 52.000 €, was bedeutet, dass die Hälfte der Mitarbeitenden weniger als 52.000 € verdient und die andere Hälfte mehr\n"
   ]
  },
  {
   "cell_type": "markdown",
   "id": "2f178db7-5cc5-44b9-b12f-d2d23ffee082",
   "metadata": {},
   "source": [
    "# grundlegende deskriptive Statistiken"
   ]
  },
  {
   "cell_type": "code",
   "execution_count": 19,
   "id": "70b047f0-1b53-40d1-9471-2c51f81bd4ca",
   "metadata": {},
   "outputs": [
    {
     "data": {
      "text/html": [
       "<div>\n",
       "<style scoped>\n",
       "    .dataframe tbody tr th:only-of-type {\n",
       "        vertical-align: middle;\n",
       "    }\n",
       "\n",
       "    .dataframe tbody tr th {\n",
       "        vertical-align: top;\n",
       "    }\n",
       "\n",
       "    .dataframe thead th {\n",
       "        text-align: right;\n",
       "    }\n",
       "</style>\n",
       "<table border=\"1\" class=\"dataframe\">\n",
       "  <thead>\n",
       "    <tr style=\"text-align: right;\">\n",
       "      <th></th>\n",
       "      <th>Werte</th>\n",
       "    </tr>\n",
       "  </thead>\n",
       "  <tbody>\n",
       "    <tr>\n",
       "      <th>0</th>\n",
       "      <td>10</td>\n",
       "    </tr>\n",
       "    <tr>\n",
       "      <th>1</th>\n",
       "      <td>20</td>\n",
       "    </tr>\n",
       "    <tr>\n",
       "      <th>2</th>\n",
       "      <td>30</td>\n",
       "    </tr>\n",
       "    <tr>\n",
       "      <th>3</th>\n",
       "      <td>40</td>\n",
       "    </tr>\n",
       "    <tr>\n",
       "      <th>4</th>\n",
       "      <td>50</td>\n",
       "    </tr>\n",
       "  </tbody>\n",
       "</table>\n",
       "</div>"
      ],
      "text/plain": [
       "   Werte\n",
       "0     10\n",
       "1     20\n",
       "2     30\n",
       "3     40\n",
       "4     50"
      ]
     },
     "execution_count": 19,
     "metadata": {},
     "output_type": "execute_result"
    }
   ],
   "source": [
    "import pandas as pd\n",
    "\n",
    "# Einfaches DataFrame mit einer Spalte 'Werte'\n",
    "df = pd.DataFrame({\n",
    "    'Werte': [10, 20, 30, 40, 50]\n",
    "})\n",
    "\n",
    "df"
   ]
  },
  {
   "cell_type": "markdown",
   "id": "4e982bfd-e7d0-4e74-a48c-3b5962de0bb7",
   "metadata": {},
   "source": [
    "## Mittelwert (mean, Arithmetisches Mittel)# Berechnung des Mittelwerts"
   ]
  },
  {
   "cell_type": "code",
   "execution_count": 20,
   "id": "b9d14472-9980-457e-a6e1-67a42edb3ee7",
   "metadata": {},
   "outputs": [
    {
     "name": "stdout",
     "output_type": "stream",
     "text": [
      "Mean: 30.0\n"
     ]
    }
   ],
   "source": [
    "# Berechnung des Mittelwerts\n",
    "mean_value = df['Werte'].mean()\n",
    "print(f\"Mean: {mean_value}\")\n",
    "\n",
    "\n",
    "# Erklärung: Der Mittelwert ist der Durchschnitt der Werte."
   ]
  },
  {
   "cell_type": "markdown",
   "id": "1cec20b1-3bff-43f8-a76b-a6614442ccf5",
   "metadata": {},
   "source": [
    "## Median"
   ]
  },
  {
   "cell_type": "code",
   "execution_count": 21,
   "id": "624ebae5-4fd4-4a3d-acf3-609c1c8b3da0",
   "metadata": {},
   "outputs": [
    {
     "name": "stdout",
     "output_type": "stream",
     "text": [
      "Median: 30.0\n"
     ]
    }
   ],
   "source": [
    "# Berechnung des Medians\n",
    "median_value = df['Werte'].median()\n",
    "print(f\"Median: {median_value}\")\n",
    "\n",
    "# Der Median ist der mittlere Wert, wenn die Daten in aufsteigender Reihenfolge sortiert sind.\n"
   ]
  },
  {
   "cell_type": "markdown",
   "id": "887d6bdd-5f9f-4d72-8cad-c12b6716cf98",
   "metadata": {},
   "source": [
    "## Modus"
   ]
  },
  {
   "cell_type": "code",
   "execution_count": 22,
   "id": "e4058a9a-49b9-4a39-b430-9597dd77568f",
   "metadata": {},
   "outputs": [
    {
     "name": "stdout",
     "output_type": "stream",
     "text": [
      "Mode: 10\n"
     ]
    }
   ],
   "source": [
    "# Berechnung des Modus\n",
    "mode_value = df['Werte'].mode()[0]  # Es wird der erste Modus angezeigt\n",
    "print(f\"Mode: {mode_value}\")"
   ]
  },
  {
   "cell_type": "markdown",
   "id": "482183b3-4f3e-48bb-8e21-bdbf5dda7f0a",
   "metadata": {},
   "source": [
    "## Varianz"
   ]
  },
  {
   "cell_type": "code",
   "execution_count": 23,
   "id": "3dbcebc4-1317-46a5-9ee9-5c2aab758f43",
   "metadata": {},
   "outputs": [
    {
     "name": "stdout",
     "output_type": "stream",
     "text": [
      "Variance: 250.0\n"
     ]
    }
   ],
   "source": [
    "# Berechnung der Varianz\n",
    "variance_value = df['Werte'].var()\n",
    "print(f\"Variance: {variance_value}\")\n",
    "\n",
    "# Die Varianz zeigt die Streuung der Daten, also wie weit die Werte vom Mittelwert entfernt sind.\n"
   ]
  },
  {
   "cell_type": "markdown",
   "id": "1cccaf5c-f1bb-4fd1-8d46-251ce149783b",
   "metadata": {},
   "source": [
    "## Standardabweichung"
   ]
  },
  {
   "cell_type": "code",
   "execution_count": 24,
   "id": "e59d93fa-3057-4f0b-8c8f-17712d07b237",
   "metadata": {},
   "outputs": [
    {
     "name": "stdout",
     "output_type": "stream",
     "text": [
      "Standard Deviation: 15.811388300841896\n"
     ]
    }
   ],
   "source": [
    "# Berechnung der Standardabweichung\n",
    "std_deviation_value = df['Werte'].std()\n",
    "print(f\"Standard Deviation: {std_deviation_value}\")\n"
   ]
  },
  {
   "cell_type": "markdown",
   "id": "9b634aff-ee71-4f3a-bab4-970bbd5b3cec",
   "metadata": {},
   "source": [
    "# Arbeiten mit realen Datensätzen\n",
    "\n",
    "Hier verwenden wir einen realen Datensatz (z. B. titanic.csv) und analysieren die age-Spalte."
   ]
  },
  {
   "cell_type": "code",
   "execution_count": 25,
   "id": "0b7c05c6-8d90-4555-9c05-2dbd8301da5f",
   "metadata": {},
   "outputs": [
    {
     "data": {
      "text/html": [
       "<div>\n",
       "<style scoped>\n",
       "    .dataframe tbody tr th:only-of-type {\n",
       "        vertical-align: middle;\n",
       "    }\n",
       "\n",
       "    .dataframe tbody tr th {\n",
       "        vertical-align: top;\n",
       "    }\n",
       "\n",
       "    .dataframe thead th {\n",
       "        text-align: right;\n",
       "    }\n",
       "</style>\n",
       "<table border=\"1\" class=\"dataframe\">\n",
       "  <thead>\n",
       "    <tr style=\"text-align: right;\">\n",
       "      <th></th>\n",
       "      <th>PassengerId</th>\n",
       "      <th>Survived</th>\n",
       "      <th>Pclass</th>\n",
       "      <th>Name</th>\n",
       "      <th>Sex</th>\n",
       "      <th>Age</th>\n",
       "      <th>SibSp</th>\n",
       "      <th>Parch</th>\n",
       "      <th>Ticket</th>\n",
       "      <th>Fare</th>\n",
       "      <th>Cabin</th>\n",
       "      <th>Embarked</th>\n",
       "    </tr>\n",
       "  </thead>\n",
       "  <tbody>\n",
       "    <tr>\n",
       "      <th>0</th>\n",
       "      <td>1</td>\n",
       "      <td>0</td>\n",
       "      <td>3</td>\n",
       "      <td>Braund, Mr. Owen Harris</td>\n",
       "      <td>male</td>\n",
       "      <td>22.0</td>\n",
       "      <td>1</td>\n",
       "      <td>0</td>\n",
       "      <td>A/5 21171</td>\n",
       "      <td>7.2500</td>\n",
       "      <td>NaN</td>\n",
       "      <td>S</td>\n",
       "    </tr>\n",
       "    <tr>\n",
       "      <th>1</th>\n",
       "      <td>2</td>\n",
       "      <td>1</td>\n",
       "      <td>1</td>\n",
       "      <td>Cumings, Mrs. John Bradley (Florence Briggs Th...</td>\n",
       "      <td>female</td>\n",
       "      <td>38.0</td>\n",
       "      <td>1</td>\n",
       "      <td>0</td>\n",
       "      <td>PC 17599</td>\n",
       "      <td>71.2833</td>\n",
       "      <td>C85</td>\n",
       "      <td>C</td>\n",
       "    </tr>\n",
       "    <tr>\n",
       "      <th>2</th>\n",
       "      <td>3</td>\n",
       "      <td>1</td>\n",
       "      <td>3</td>\n",
       "      <td>Heikkinen, Miss. Laina</td>\n",
       "      <td>female</td>\n",
       "      <td>26.0</td>\n",
       "      <td>0</td>\n",
       "      <td>0</td>\n",
       "      <td>STON/O2. 3101282</td>\n",
       "      <td>7.9250</td>\n",
       "      <td>NaN</td>\n",
       "      <td>S</td>\n",
       "    </tr>\n",
       "    <tr>\n",
       "      <th>3</th>\n",
       "      <td>4</td>\n",
       "      <td>1</td>\n",
       "      <td>1</td>\n",
       "      <td>Futrelle, Mrs. Jacques Heath (Lily May Peel)</td>\n",
       "      <td>female</td>\n",
       "      <td>35.0</td>\n",
       "      <td>1</td>\n",
       "      <td>0</td>\n",
       "      <td>113803</td>\n",
       "      <td>53.1000</td>\n",
       "      <td>C123</td>\n",
       "      <td>S</td>\n",
       "    </tr>\n",
       "    <tr>\n",
       "      <th>4</th>\n",
       "      <td>5</td>\n",
       "      <td>0</td>\n",
       "      <td>3</td>\n",
       "      <td>Allen, Mr. William Henry</td>\n",
       "      <td>male</td>\n",
       "      <td>35.0</td>\n",
       "      <td>0</td>\n",
       "      <td>0</td>\n",
       "      <td>373450</td>\n",
       "      <td>8.0500</td>\n",
       "      <td>NaN</td>\n",
       "      <td>S</td>\n",
       "    </tr>\n",
       "  </tbody>\n",
       "</table>\n",
       "</div>"
      ],
      "text/plain": [
       "   PassengerId  Survived  Pclass  \\\n",
       "0            1         0       3   \n",
       "1            2         1       1   \n",
       "2            3         1       3   \n",
       "3            4         1       1   \n",
       "4            5         0       3   \n",
       "\n",
       "                                                Name     Sex   Age  SibSp  \\\n",
       "0                            Braund, Mr. Owen Harris    male  22.0      1   \n",
       "1  Cumings, Mrs. John Bradley (Florence Briggs Th...  female  38.0      1   \n",
       "2                             Heikkinen, Miss. Laina  female  26.0      0   \n",
       "3       Futrelle, Mrs. Jacques Heath (Lily May Peel)  female  35.0      1   \n",
       "4                           Allen, Mr. William Henry    male  35.0      0   \n",
       "\n",
       "   Parch            Ticket     Fare Cabin Embarked  \n",
       "0      0         A/5 21171   7.2500   NaN        S  \n",
       "1      0          PC 17599  71.2833   C85        C  \n",
       "2      0  STON/O2. 3101282   7.9250   NaN        S  \n",
       "3      0            113803  53.1000  C123        S  \n",
       "4      0            373450   8.0500   NaN        S  "
      ]
     },
     "execution_count": 25,
     "metadata": {},
     "output_type": "execute_result"
    }
   ],
   "source": [
    "# Beispiel: Titanic-Datensatz (verwenden Sie Ihren eigenen Pfad)\n",
    "df_titanic = pd.read_csv('https://raw.githubusercontent.com/datasciencedojo/datasets/master/titanic.csv')\n",
    "\n",
    "# Anzeigen der ersten 5 Zeilen\n",
    "df_titanic.head()"
   ]
  },
  {
   "cell_type": "markdown",
   "id": "bee63f85-3a62-4d7f-a756-bc0019a2d350",
   "metadata": {},
   "source": [
    "Deskriptive Statistiken für die Spalte 'age':"
   ]
  },
  {
   "cell_type": "code",
   "execution_count": 26,
   "id": "4f195f41-edd4-4035-866e-3c67c1a77702",
   "metadata": {},
   "outputs": [
    {
     "data": {
      "text/plain": [
       "count    714.000000\n",
       "mean      29.699118\n",
       "std       14.526497\n",
       "min        0.420000\n",
       "25%       20.125000\n",
       "50%       28.000000\n",
       "75%       38.000000\n",
       "max       80.000000\n",
       "Name: Age, dtype: float64"
      ]
     },
     "execution_count": 26,
     "metadata": {},
     "output_type": "execute_result"
    }
   ],
   "source": [
    "# Berechnung der deskriptiven Statistiken für die Spalte 'age'\n",
    "age_stats = df_titanic['Age'].describe()\n",
    "age_stats\n"
   ]
  },
  {
   "cell_type": "markdown",
   "id": "fddbacc7-662f-4ec7-8446-f393d7b28576",
   "metadata": {},
   "source": [
    "Berechnen der Standardabweichung und den Median für die 'Fare'-Spalte:"
   ]
  },
  {
   "cell_type": "code",
   "execution_count": 27,
   "id": "7809e9eb-977f-4617-9857-4d05e58a98b0",
   "metadata": {},
   "outputs": [
    {
     "name": "stdout",
     "output_type": "stream",
     "text": [
      "Median Fare: 14.4542\n",
      "Standard Deviation of Fare: 49.6934285971809\n"
     ]
    }
   ],
   "source": [
    "# Berechnung von Median und Standardabweichung für die 'Fare'-Spalte\n",
    "fare_median = df_titanic['Fare'].median()\n",
    "fare_std = df_titanic['Fare'].std()\n",
    "print(f\"Median Fare: {fare_median}\")\n",
    "print(f\"Standard Deviation of Fare: {fare_std}\")\n"
   ]
  },
  {
   "cell_type": "markdown",
   "id": "580d741d-be8d-4060-86ed-7c4df738cd26",
   "metadata": {},
   "source": [
    "# weiterführende deskriptive Statistiken\n",
    "\n",
    "- noch viele weitere Methoden/ Techniken\n",
    "- für tiefergehende Einblicke"
   ]
  },
  {
   "cell_type": "code",
   "execution_count": 32,
   "id": "34176ce4-d0f3-4620-a587-193ad92a8a5f",
   "metadata": {},
   "outputs": [],
   "source": [
    "import pandas as pd\n",
    "import numpy as np\n",
    "\n",
    "# Beispiel-Datensatz\n",
    "daten = {\n",
    "    'Name': ['Anna', 'Bernd', 'Clara', 'Daniel', 'Eva'],\n",
    "    'Alter': [29, 34, 40, 22, 37],\n",
    "    'Gehalt': [48000, 52000, 61000, 45000, 58000]\n",
    "}\n",
    "\n",
    "df = pd.DataFrame(daten)"
   ]
  },
  {
   "cell_type": "markdown",
   "id": "26dbba93-6fde-4506-95a2-bbea0894b90f",
   "metadata": {},
   "source": [
    "## Schiefe (Skewness)\n",
    "\n",
    "- Schiefe gibt an, wie asymmetrisch die Verteilung der Daten ist\n",
    "- Verteilung kann links (**negativ schief**), **symmetrisch** oder rechts (**positiv schief**) sein\n",
    "\n",
    "**Schiefe positiv**: &nbsp;  Verteilung nach rechts verzogen (mehr niedrige Werte)<br>\n",
    "**Schiefe negativ**: &nbsp;  Verteilung nach links verzogen (mehr höhere Werte)"
   ]
  },
  {
   "cell_type": "code",
   "execution_count": 29,
   "id": "ed63522b-2575-4da6-9df1-a2e08bf9ca56",
   "metadata": {},
   "outputs": [
    {
     "name": "stdout",
     "output_type": "stream",
     "text": [
      "Schiefe des Gehalts: 0.14823216151720742\n"
     ]
    }
   ],
   "source": [
    "# Schiefe berechnen\n",
    "schiefe = df['Gehalt'].skew()\n",
    "print(\"Schiefe des Gehalts:\", schiefe)"
   ]
  },
  {
   "cell_type": "markdown",
   "id": "e992f2ff-e477-4ce8-9cbb-3c7998465330",
   "metadata": {},
   "source": [
    "## Kurtosis (Wölbung)\n",
    "\n",
    "- gibt die „Spitzigkeit“ oder „Flachheit“ der Verteilung im Vergleich zur Normalverteilung an\n",
    "\n",
    "\n",
    "**hohe Kurtosis**:  &nbsp;   Verteilung ist spitzer ist als eine Normalverteilung (mehr Werte konzentrieren sich in der Nähe des Mittelwerts)<br>\n",
    "**niedrige Kurtosis**:  &nbsp;   Verteilung ist flacher"
   ]
  },
  {
   "cell_type": "code",
   "execution_count": 30,
   "id": "763a653b-796b-4b0e-95dd-4a47d8e63e58",
   "metadata": {},
   "outputs": [
    {
     "name": "stdout",
     "output_type": "stream",
     "text": [
      "Kurtosis des Gehalts: -2.066123147605964\n"
     ]
    }
   ],
   "source": [
    "# Kurtosis berechnen\n",
    "kurtosis = df['Gehalt'].kurt()\n",
    "print(\"Kurtosis des Gehalts:\", kurtosis)"
   ]
  },
  {
   "cell_type": "markdown",
   "id": "b11dc8ed-1426-49ff-a390-b311590de898",
   "metadata": {},
   "source": [
    "## Korrelation zwischen Variablen\n",
    "\n",
    "- misst die Stärke des linearen Zusammenhangs zwischen zwei Variablen\n",
    "- hilfreich, um zu verstehen, ob es eine Beziehung zwischen den Daten gibt\n",
    "\n",
    "Der Korrelationskoeffizient liegt zwischen -1 und 1. \n",
    "\n",
    "**Wert von 1**: &nbsp; perfekte positive Korrelation (wenn eine Variable steigt, steigt die andere ebenfalls)\n",
    "**Wert von -1**: &nbsp; perfekte negative Korrelation (eine Variable steigt, während die andere fällt)\n",
    "**Wert von 0**: &nbsp; keine lineare Korrelation"
   ]
  },
  {
   "cell_type": "code",
   "execution_count": 35,
   "id": "65b9c70c-03d4-4eac-839b-57e9261e1aa5",
   "metadata": {},
   "outputs": [
    {
     "name": "stdout",
     "output_type": "stream",
     "text": [
      "Korrelation zwischen den numerischen Spalten:\n",
      "            Alter    Gehalt\n",
      "Alter   1.000000  0.961672\n",
      "Gehalt  0.961672  1.000000\n"
     ]
    }
   ],
   "source": [
    "# Korrelation berechnen\n",
    "\n",
    "# Nur numerische Spalten auswählen\n",
    "numerische_spalten = df.select_dtypes(include=[np.number])\n",
    "\n",
    "# Korrelation zwischen den numerischen Spalten berechnen\n",
    "korrelation = numerische_spalten.corr()\n",
    "\n",
    "print(\"Korrelation zwischen den numerischen Spalten:\\n\", korrelation)"
   ]
  },
  {
   "cell_type": "code",
   "execution_count": null,
   "id": "2835dbb9-eae2-4891-97fa-a9111d618aa7",
   "metadata": {},
   "outputs": [],
   "source": []
  }
 ],
 "metadata": {
  "kernelspec": {
   "display_name": "Python 3 (ipykernel)",
   "language": "python",
   "name": "python3"
  },
  "language_info": {
   "codemirror_mode": {
    "name": "ipython",
    "version": 3
   },
   "file_extension": ".py",
   "mimetype": "text/x-python",
   "name": "python",
   "nbconvert_exporter": "python",
   "pygments_lexer": "ipython3",
   "version": "3.12.6"
  }
 },
 "nbformat": 4,
 "nbformat_minor": 5
}
