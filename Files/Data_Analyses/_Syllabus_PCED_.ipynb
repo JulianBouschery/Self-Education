{
 "cells": [
  {
   "cell_type": "markdown",
   "id": "eb6d8739-f153-4414-bf28-1bcf6847d8bc",
   "metadata": {},
   "source": [
    "# PCED Inhaltsverzeichnis (TO DO LISTE)"
   ]
  },
  {
   "cell_type": "markdown",
   "id": "75bcaeaa-efd8-4aca-a4f0-e48f70e75b79",
   "metadata": {},
   "source": [
    "# Block 1 Data Acquisition and Pre-Processing (33%)"
   ]
  },
  {
   "cell_type": "markdown",
   "id": "58c86f68-fe72-4f56-98b0-480db77ae150",
   "metadata": {},
   "source": [
    "Objectives covered by the block (15 exam items)"
   ]
  },
  {
   "cell_type": "markdown",
   "id": "de941649-aa9a-49b3-90ee-b8080da5fd55",
   "metadata": {},
   "source": [
    "## Data Collection, Integration, and Storage"
   ]
  },
  {
   "cell_type": "markdown",
   "id": "1fc21eaf-cd66-4e09-bd46-045ddea36893",
   "metadata": {},
   "source": [
    "### Objective 1.1.1 – Understand different data collection methods and their roles in decision-making and research."
   ]
  },
  {
   "cell_type": "markdown",
   "id": "ea0d1ad6-57ae-4525-9fe2-ed9817b300e9",
   "metadata": {},
   "source": [
    "  - Explore different techniques: [Surveys](./Themen/Data_Collection/Umfragen.ipynb), [interviews](./Themen/Data_Collection/Interview.ipynb), [web scraping](Themen/Data_Collection/Web_Scraping.ipynb).\n",
    "  - Discuss [representative sampling](Themen/Data_Collection/Stichproben.ipynb), [challenges in data collection](Themen/Data_Collection/_Data_Collection_.ipynb), and differences between qualitative and quantitative research.\n",
    "  - Examine [legal and ethical considerations](Themen/Data_Collection/recht_ethik.ipynb) in data collection.\n",
    "  - Explain the importance of [data anonymization](Themen/Data_Collection/Anonymisierung.ipynb) in maintaining privacy and confidentiality, particularly with personally identifiable information (PII).\n",
    "  - Investigate the [impact of data collection](Themen/Data_Collection/Einfluss.ipynb) on business strategy formation, market research accuracy, risk assessment, policy-making, and business decisions."
   ]
  },
  {
   "cell_type": "markdown",
   "id": "5bbc3d5e-7bb1-4ff4-914d-d03de7c6389f",
   "metadata": {},
   "source": [
    "### Objective 1.1.2 – Explain the data gathering process and various data sources."
   ]
  },
  {
   "cell_type": "markdown",
   "id": "8f65cdef-6eee-4e03-93a2-79dca61e47bd",
   "metadata": {},
   "source": [
    "- Explain the process and methodologies of [data collection](Themen/Data_Collection/_Data_Collection_.ipynb), including survey design, audience selection, and structured interviews."
   ]
  },
  {
   "cell_type": "markdown",
   "id": "23ec9d2b-da09-4b22-b429-fa6686177a2c",
   "metadata": {},
   "source": [
    "### Objective 1.1.3 – Aggregate data from multiple sources and integrate them into datasets."
   ]
  },
  {
   "cell_type": "markdown",
   "id": "8b2bf871-0f29-40db-9111-44507fefb592",
   "metadata": {},
   "source": [
    "- Explain techniques for [combining data](Themen/Data_Collection/combining_data.ipynb) from various sources, such as databases, APIs, and file-based storage.\n",
    "- Address [challenges in data aggregation](Themen/Data_Collection/Datenaggregation_Herausforderungen.ipynb), including data format disparities and alignment issues.\n",
    "- Understand the importance of data [consistency and accuracy](Themen/Data_Collection/Datenkonsistenz_Genauigkeit.ipynb) in aggregated datasets."
   ]
  },
  {
   "cell_type": "markdown",
   "id": "fe36201d-c257-4c72-808d-444873da998d",
   "metadata": {},
   "source": [
    "### Objective 1.1.4 – Explain various data storage solutions."
   ]
  },
  {
   "cell_type": "markdown",
   "id": "503c6c72-c2c3-4f58-bc8b-a12ee0d4de57",
   "metadata": {},
   "source": [
    "- Understand various [data storage methods](Themen/Data_Storage/speichermethoden_und_anwendung.ipynb) and their appropriate applications.\n",
    "- Distinguish between data warehouses, data lakes, and file-based [storage options](Themen/Data_Storage/comparing_data_storage.ipynb) like CSV and Excel.\n",
    "- Explain the concepts of [cloud storage](Themen/Data_Storage/cloud_storage.ipynb) solutions and their growing role in data management."
   ]
  },
  {
   "cell_type": "markdown",
   "id": "c3bc1b27-a591-42d6-abdd-2c9a3e0b50ae",
   "metadata": {},
   "source": [
    "## Data Cleaning and Standardization"
   ]
  },
  {
   "cell_type": "markdown",
   "id": "82f7d1ee-b436-4a9f-87ae-ea3251348834",
   "metadata": {},
   "source": [
    "### Objective 1.2.1 – Understand structured and unstructured data and their implications in data analysis."
   ]
  },
  {
   "cell_type": "markdown",
   "id": "ce4190fb-ece5-4008-ba16-711f8dc4f49e",
   "metadata": {},
   "source": [
    "- Recognize the characteristics of [structured data](Themen/Data_Cleaning/Daten_strukturiert.ipynb), such as databases and spreadsheets, and their straightforward use in analysis.\n",
    "- Understand [unstructured data](Themen/Data_Cleaning/Daten_unstrukturiert.ipynb), including text, images, and videos, and the additional processing required for analysis.\n",
    "- Explore how the [data structure impacts data storage](Themen/Data_Cleaning/einfluss_des_datentyps.ipynb), retrieval, and analytical methods."
   ]
  },
  {
   "cell_type": "markdown",
   "id": "ab3222b9-9106-463a-9b8b-2049078f5634",
   "metadata": {},
   "source": [
    "### Objective 1.2.2 – Identify, rectify, or remove erroneous data."
   ]
  },
  {
   "cell_type": "markdown",
   "id": "0092a3fc-bc17-44e1-92b2-770be1f30ace",
   "metadata": {},
   "source": [
    "- Identify data errors and inconsistencies through various diagnostic methods.\n",
    "- Address missing, inaccurate, or misleading information.\n",
    "- Tackle specific data quality issues: numerical data problems, duplicate records, invalid data entries, and missing values.\n",
    "- Explain different types of missingness (MCAR, MAR, MNAR) and their implications for data analysis.\n",
    "- Explore various techniques for dealing with missing data, including data imputation methods.\n",
    "- Understand the implications of data correction or removal on overall data integrity and analysis outcomes.\n",
    "- Explain the importance of data collection in the context of outlier detection.\n",
    "- Explain why high-quality data is crucial for accurate outlier detection.\n",
    "- Explain how different data types (numerical, categorical) may influence outlier detection strategies."
   ]
  },
  {
   "cell_type": "markdown",
   "id": "a5aef183-0a8f-4380-ad79-19ffac67ed3a",
   "metadata": {},
   "source": [
    "### Objective 1.2.3 – Understand data normalization and scaling."
   ]
  },
  {
   "cell_type": "markdown",
   "id": "a344a32a-6ab3-45c3-907c-efe584faef72",
   "metadata": {},
   "source": [
    "- Understand the necessity of data normalization to bring different variables onto a similar scale for comparative analysis.\n",
    "- Understand various scaling methods like Min-Max scaling and Z-score normalization.\n",
    "- Explain encoding categorical variables for quantitative analysis, including one-hot encoding and label encoding methods.\n",
    "- Explain the pros and cons of data reduction (reduce the number of variables under consideration or simplify models vs. loss of data explainability).\n",
    "- Explain methods for handling outliers, including detection and treatment techniques to ensure data quality.\n",
    "- Understand the importance of data format standardization across different datasets for consistency, especially when dealing with date-time formats and numerical values."
   ]
  },
  {
   "cell_type": "markdown",
   "id": "93d1bedc-0d4b-41b6-9e9e-d175d0ea3c26",
   "metadata": {},
   "source": [
    "### Objective 1.2.4 – Apply data cleaning and standardization techniques."
   ]
  },
  {
   "cell_type": "markdown",
   "id": "e91db19b-bbff-4cb9-bfd7-0c00ada6b1f7",
   "metadata": {},
   "source": [
    "- Perform data imputation techniques, string manipulation, data format standardization, boolean normalization, string case normalization, and string-to-number conversions.\n",
    "- Discuss the pros and cons of imputation vs. exclusion and their impact on the reliability and validity of the analysis.\n",
    "- Explain the concept of One-Hot Encoding and its application in transforming categorical variables into a binary format for machine learning.\n",
    "- Explain the concept of bucketization and its application in transforming continuous variables into categorical variables."
   ]
  },
  {
   "cell_type": "markdown",
   "id": "1f70b11b-61d7-4746-8e4d-0cbb497aa113",
   "metadata": {},
   "source": [
    "## Data Validation and Integrity"
   ]
  },
  {
   "cell_type": "markdown",
   "id": "dc7de6da-79d4-467e-9f25-7564e7799a7e",
   "metadata": {},
   "source": [
    "### Objective 1.3.1 – Execute and understand basic data validation methods."
   ]
  },
  {
   "cell_type": "markdown",
   "id": "e6edd326-bf35-4a76-ac7f-a7a791705608",
   "metadata": {},
   "source": [
    "- Perform type, range, and cross-reference checks."
   ]
  },
  {
   "cell_type": "markdown",
   "id": "584806d0-e512-40e5-b9ea-98b688539408",
   "metadata": {},
   "source": [
    "### Objective 1.3.2 – Establish and maintain data integrity through clear validation rules."
   ]
  },
  {
   "cell_type": "markdown",
   "id": "490fb2cb-7ee5-4fb3-bceb-5663e867198b",
   "metadata": {},
   "source": [
    "- Understand the concept of data integrity and its importance in maintaining reliable and accurate databases.\n",
    "- Apply clear validation rules that enforce the correctness and consistency of data."
   ]
  },
  {
   "cell_type": "markdown",
   "id": "acab2f54-eabd-4630-b78e-a2fb5707a9db",
   "metadata": {},
   "source": [
    "## Data Preparation Techniques"
   ]
  },
  {
   "cell_type": "markdown",
   "id": "027b804e-8a4d-4c5a-8b03-7ceadf2e11f5",
   "metadata": {},
   "source": [
    "### Objective 1.4.1 – Understand file formats in data acquisition."
   ]
  },
  {
   "cell_type": "markdown",
   "id": "7fd9fa86-1d46-4668-84df-a41a9f805431",
   "metadata": {},
   "source": [
    "- Explain the roles and characteristics of common data file formats: CSV for tabular data, JSON for structured data, XML for hierarchically organized data, and TXT for unstructured text.\n",
    "- Understand basic methods for importing and exporting these file types in data analysis tools, focusing on practical applications."
   ]
  },
  {
   "cell_type": "markdown",
   "id": "d9482008-2094-4aaa-8fb6-7708d1574a6f",
   "metadata": {},
   "source": [
    "### Objective 1.4.2 – Access, manage, and effectively utilize datasets."
   ]
  },
  {
   "cell_type": "markdown",
   "id": "32456766-00b9-4ba4-95be-7b3494a16767",
   "metadata": {},
   "source": [
    "- Understand the basics of accessing datasets from various sources like local files, databases, and online repositories.\n",
    "- Understand the principles of data management, including organizing, sorting, and filtering data in preparation for analysis."
   ]
  },
  {
   "cell_type": "markdown",
   "id": "b9bf5e4d-d2fd-4831-b666-2ccc38d46b49",
   "metadata": {},
   "source": [
    "### Objective 1.4.3 – Extract data from various sources."
   ]
  },
  {
   "cell_type": "markdown",
   "id": "c7afaa5d-9047-4b5f-8b63-3e8e4ecefc59",
   "metadata": {},
   "source": [
    "- Explain fundamental techniques for extracting data from various sources, emphasizing methods to retrieve and collate data from databases, APIs, and online services.\n",
    "- Understand basic challenges and considerations in data extraction, such as data compatibility and integrity."
   ]
  },
  {
   "cell_type": "markdown",
   "id": "c1efa225-8302-458d-ab29-8185ecd95fba",
   "metadata": {},
   "source": [
    "### Objective 1.4.4 – Enhance data readability and format in spreadsheets."
   ]
  },
  {
   "cell_type": "markdown",
   "id": "18e2178d-616a-49da-bd24-144f88097732",
   "metadata": {},
   "source": [
    "- Improve the readability and usability of data in spreadsheets, focusing on layout adjustments, formatting best practices, and basic formula applications."
   ]
  },
  {
   "cell_type": "markdown",
   "id": "5648a584-8827-45f3-a17c-8f7d7235e32c",
   "metadata": {},
   "source": [
    "### Objective 1.4.5 – Prepare, adapt, and pre-process data for analysis."
   ]
  },
  {
   "cell_type": "markdown",
   "id": "7d075e10-cbc3-4e67-9b2b-0b86b2052ac3",
   "metadata": {},
   "source": [
    "- Understand the importance of the surrounding context, objectives, and stakeholder expectations to guide preparation steps.\n",
    "- Understand basic concepts of data pre-processing, including sorting, filtering, and preparing datasets for analytical work.\n",
    "- Discuss the importance of proper data formatting for analysis, such as ensuring consistency in date-time formats and aligning data structures.\n",
    "- Introduce concepts of dataset structuring, including the basics of transforming data into a format suitable for analysis (e.g., wide vs. long formats).\n",
    "- Explain the concept of splitting data into training and testing sets for machine learning, emphasizing the importance of this step for model validation.\n",
    "- Understand the impact of outlier management on data quality during pre-processing. "
   ]
  },
  {
   "cell_type": "markdown",
   "id": "28f12205-2809-4b30-b7b9-82f501ec2c97",
   "metadata": {},
   "source": [
    "# Block 2: Programm-Skills (29 %)"
   ]
  },
  {
   "cell_type": "markdown",
   "id": "eb726890-ef16-40e9-976f-513600168f5f",
   "metadata": {},
   "source": [
    "Objectives covered by the block (13 exam items)"
   ]
  },
  {
   "cell_type": "markdown",
   "id": "647901ba-cb45-4837-8e41-6910c36807cb",
   "metadata": {},
   "source": [
    "## Python Proficiency"
   ]
  },
  {
   "cell_type": "markdown",
   "id": "8a96bbda-91dd-4c1b-bc2e-66b4a8a1f4fb",
   "metadata": {},
   "source": [
    "### Objective 2.1.1 – Apply Python syntax and control structures to solve data-related problems."
   ]
  },
  {
   "cell_type": "markdown",
   "id": "b320a5b5-c6eb-43e7-9f32-1cfdbdd85895",
   "metadata": {},
   "source": [
    "- Accurately use basic Python syntax for variables, scopes, and data types.\n",
    "- Implement control structures like loops and conditionals to manage data flow."
   ]
  },
  {
   "cell_type": "markdown",
   "id": "98cc9157-d70f-4b6b-ae9e-03fad5425256",
   "metadata": {},
   "source": [
    "### Objective 2.1.2 – Analyze and create Python functions."
   ]
  },
  {
   "cell_type": "markdown",
   "id": "91d0670c-23eb-4247-ade8-b5a88604401c",
   "metadata": {},
   "source": [
    "- Design functions with clear purpose, using both indexed and keyword arguments.\n",
    "- Differentiate between optional and required arguments and apply them effectively."
   ]
  },
  {
   "cell_type": "markdown",
   "id": "4e22d563-7050-4bec-944a-1a3ff270a055",
   "metadata": {},
   "source": [
    "### Objective 2.1.3 – Evaluate and navigate the Python Data Science ecosystem."
   ]
  },
  {
   "cell_type": "markdown",
   "id": "053501c6-0401-4125-9a80-10522d04fd0b",
   "metadata": {},
   "source": [
    "- Identify key Python libraries and tools essential for data science tasks.\n",
    "- Critically assess the suitability of various Python resources for different data analysis scenarios."
   ]
  },
  {
   "cell_type": "markdown",
   "id": "1a28eb59-a80a-4afd-814a-ef90012403ba",
   "metadata": {},
   "source": [
    "### Objective 2.1.4 – Organize and manipulate data using Python's core data structures."
   ]
  },
  {
   "cell_type": "markdown",
   "id": "cfefd7c4-c32e-4883-9568-7370d4174c03",
   "metadata": {},
   "source": [
    "- Effectively use tuples, sets, lists, dictionaries, and strings for data organization and manipulation.\n",
    "- Solve complex data handling tasks by choosing appropriate data structures."
   ]
  },
  {
   "cell_type": "markdown",
   "id": "68adc6da-8f3d-48e0-92c5-a988de2566f7",
   "metadata": {},
   "source": [
    "### Objective 2.1.5 – Explain and implement Python scripting best practices."
   ]
  },
  {
   "cell_type": "markdown",
   "id": "00e6e5b8-fcbe-4dd7-98f4-01cb69c17c7a",
   "metadata": {},
   "source": [
    "- Understand and apply PEP 8 guidelines for Python coding style.\n",
    "- Comprehend and utilize PEP 257 for effective docstring conventions to enhance code documentation. "
   ]
  },
  {
   "cell_type": "markdown",
   "id": "f25cbebe-c29b-4d17-bb1d-e43c4821c551",
   "metadata": {},
   "source": [
    "## Module Management and Exception Handling"
   ]
  },
  {
   "cell_type": "markdown",
   "id": "56ee4e67-1f99-42d6-94ee-f3d6837be11f",
   "metadata": {},
   "source": [
    "### Objective 2.2.1 – Import modules and manage Python packages using PIP."
   ]
  },
  {
   "cell_type": "markdown",
   "id": "c1c0ba5e-0632-427b-a652-e33116f8df6f",
   "metadata": {},
   "source": [
    "- Apply different types of module imports (standard imports, selective imports, aliasing).\n",
    "- Understand importing modules from different sources (Python Standard Library, via package managers like PIP, and from locally developed modules/packages).\n",
    "- Identify and import necessary Python modules for specific tasks, understanding the functionality and purpose of each.\n",
    "- Demonstrate proficiency in managing Python packages using PIP, including installing, updating, and removing packages."
   ]
  },
  {
   "cell_type": "markdown",
   "id": "1e8092e9-2bf1-403f-ad0a-2fc11ea78738",
   "metadata": {},
   "source": [
    "### Objective 2.2.2 – Apply basic exception handling and maintain script robustness."
   ]
  },
  {
   "cell_type": "markdown",
   "id": "a630317e-2642-4935-a6c4-b3f68eab03f4",
   "metadata": {},
   "source": [
    "- Implement basic exception handling techniques to manage and respond to errors in Python scripts.\n",
    "- Predict common errors in Python code and develop strategies to handle them effectively.\n",
    "- Interpret error messages to diagnose and resolve issues, enhancing the robustness and reliability of Python scripts."
   ]
  },
  {
   "cell_type": "markdown",
   "id": "4ead59fa-4632-4a2d-9335-f9fc301a1562",
   "metadata": {},
   "source": [
    "## SQL for Data Analysts"
   ]
  },
  {
   "cell_type": "markdown",
   "id": "894266c7-45ea-4806-8bef-f1f507907abf",
   "metadata": {},
   "source": [
    "### Objective 2.3.1 – Perform SQL queries to retrieve and manipulate data."
   ]
  },
  {
   "cell_type": "markdown",
   "id": "868b11ba-92a4-482f-9468-6c666f61fafe",
   "metadata": {},
   "source": [
    "- Compose and execute SQL queries to extract data from database tables.\n",
    "- Apply SQL functions and clauses to manipulate and filter data effectively.\n",
    "- Construct and execute SQL queries using SELECT, FROM, JOINS (INNER, LEFT, RIGHT, FULL), WHERE, GROUP BY, HAVING, ORDER BY, and LIMIT.\n",
    "- Analyze data retrieval needs and apply appropriate clauses from the SFJWGHOL set to meet those requirements effectively."
   ]
  },
  {
   "cell_type": "markdown",
   "id": "e424d053-c4dd-4008-97b5-652be3b2cb5e",
   "metadata": {},
   "source": [
    "### Objective 2.3.2 – Execute fundamental SQL commands to create, read, update, and delete data in database tables."
   ]
  },
  {
   "cell_type": "markdown",
   "id": "f14a4ecf-6767-494d-a862-8f7304c5e134",
   "metadata": {},
   "source": [
    "- Demonstrate the ability to use CRUD operations (Create, Read, Update, Delete) in SQL.\n",
    "- Construct SQL statements for data insertion, retrieval, updating, and deletion."
   ]
  },
  {
   "cell_type": "markdown",
   "id": "2c0dccba-6bbe-40f7-b795-c13939c849b2",
   "metadata": {},
   "source": [
    "### Objective 2.3.3 – Establish connections to databases using Python."
   ]
  },
  {
   "cell_type": "markdown",
   "id": "8f58d773-ca53-4b01-be05-694b11c3bbba",
   "metadata": {},
   "source": [
    "- Understand and implement methods to establish database connections using Python libraries (e.g., sqlite3, pymysql).\n",
    "- Analyze and resolve common issues encountered while connecting Python scripts to databases."
   ]
  },
  {
   "cell_type": "markdown",
   "id": "e0e92e21-afc9-44ff-94cc-019f129f2dd3",
   "metadata": {},
   "source": [
    "### Objective 2.3.4 – Execute parameterized SQL queries through Python to safely interact with databases."
   ]
  },
  {
   "cell_type": "markdown",
   "id": "b77b75a5-2e33-4481-8bdb-c511c02faa37",
   "metadata": {},
   "source": [
    "- Develop and execute parameterized SQL queries in Python to interact with databases securely.\n",
    "- Evaluate the advantages of parameterized queries in preventing SQL injection and maintaining data integrity."
   ]
  },
  {
   "cell_type": "markdown",
   "id": "3377c0cd-4d8b-48af-9486-8d9470100d07",
   "metadata": {},
   "source": [
    "### Objective 2.3.5 – Understand, manage, and convert SQL data types appropriately within Python scripts."
   ]
  },
  {
   "cell_type": "markdown",
   "id": "a2886506-3af0-4642-b39f-55fcd3cb098a",
   "metadata": {},
   "source": [
    "- Identify and understand various SQL data types and their counterparts in Python.\n",
    "- Practice converting data types appropriately when transferring data between SQL databases and Python scripts."
   ]
  },
  {
   "cell_type": "markdown",
   "id": "95610c56-8125-4125-bca8-c0a2ff0051f0",
   "metadata": {},
   "source": [
    "### Objective 2.3.6 – Understand essential database security concepts, including strategies to prevent SQL query injection."
   ]
  },
  {
   "cell_type": "markdown",
   "id": "90cb6f94-f068-492d-9764-14bf6886a7e5",
   "metadata": {},
   "source": [
    "- Comprehend fundamental database security principles, including measures to prevent SQL injection attacks.\n",
    "- Assess and apply strategies for writing secure SQL queries within Python environments."
   ]
  },
  {
   "cell_type": "markdown",
   "id": "bc85d08d-3af2-4109-863c-7c972e0c7d96",
   "metadata": {},
   "source": [
    "# Block 3: Statistical Analysis (9%)"
   ]
  },
  {
   "cell_type": "markdown",
   "id": "9cad4b39-144e-45cd-abac-9dcc92cc8051",
   "metadata": {},
   "source": [
    "Objectives covered by the block (4 exam items)"
   ]
  },
  {
   "cell_type": "markdown",
   "id": "459c7a45-b91c-45ba-8ead-e635b0cff5e6",
   "metadata": {},
   "source": [
    "## Descriptive Statistics"
   ]
  },
  {
   "cell_type": "markdown",
   "id": "2aca5e66-5c7a-4a30-97e2-0372cb28b7d3",
   "metadata": {},
   "source": [
    "### Objective 3.1.1 – Understand and apply statistical measures in data analysis."
   ]
  },
  {
   "cell_type": "markdown",
   "id": "fc0bae93-2fc4-4e7b-af04-1dc4fd582d09",
   "metadata": {},
   "source": [
    "- Understand and describe measures of central tendency and spread.\n",
    "- Identify fundamental statistical distributions (Gaussian, Uniform) and interpret\n",
    "their trends in various contexts (over time, univariate, bivariate, multivariate).\n",
    "- Apply confidence measures in statistical calculations to assess data reliability."
   ]
  },
  {
   "cell_type": "markdown",
   "id": "624ef660-4e7e-4b72-9748-8f0b242d8b4f",
   "metadata": {},
   "source": [
    "###  Objective 3.1.2 – Analyze and evaluate data relationships."
   ]
  },
  {
   "cell_type": "markdown",
   "id": "753116a2-db7d-4da6-a060-c9a7353f1ef6",
   "metadata": {},
   "source": [
    "- Analyze datasets to identify outliers and evaluate negative and positive\n",
    "correlations using Pearson’s R coefficient.\n",
    "- Interpret and critically assess information presented in various types of plots and\n",
    "graphs, including Boxplots, Histograms, Scatterplots, Lineplots, and Correlation\n",
    "heatmaps."
   ]
  },
  {
   "cell_type": "markdown",
   "id": "d78ff459-a84a-4b8a-8fb0-ce187ada385a",
   "metadata": {},
   "source": [
    "## Inferential Statistics"
   ]
  },
  {
   "cell_type": "markdown",
   "id": "67b3fd43-8e18-4981-9eb4-4c245a33300a",
   "metadata": {},
   "source": [
    "### Objective 3.2.1 – Understand and apply bootstrapping for sampling distributions."
   ]
  },
  {
   "cell_type": "markdown",
   "id": "55a28d42-10a8-4d2a-b3f5-440be8939e81",
   "metadata": {},
   "source": [
    "- Understand the theoretical basis and statistical principles underlying bootstrapping.\n",
    "- Differentiate between discrete and continuous data types in the context of bootstrapping.\n",
    "- Recognize situations and data types where bootstrapping is an effective method for estimating sampling distributions.\n",
    "- Demonstrate proficiency in applying bootstrapping methods using Python to generate and analyze sampling distributions.\n",
    "- Analyze the reliability and validity of results obtained from bootstrapping in various statistical scenarios."
   ]
  },
  {
   "cell_type": "markdown",
   "id": "8221fa9b-559b-4601-865d-f2a2aaf37969",
   "metadata": {},
   "source": [
    "### Objective 3.2.2 – Explain when and how to use linear and logistic regression."
   ]
  },
  {
   "cell_type": "markdown",
   "id": "4f70699e-ca90-4f4a-bdbb-fb2b50a6b91e",
   "metadata": {},
   "source": [
    "- Comprehend the theory, assumptions, and mathematical foundation of linear regression.\n",
    "- Explain the concepts, use cases, and statistical underpinnings of logistic regression.\n",
    "- Develop the ability to choose between linear and logistic regression based on the nature of the data and the research question.\n",
    "- Apply the concepts of discrete and continuous data in choosing and implementing linear and logistic regression models.\n",
    "- Demonstrate the application of linear and logistic regression models on datasets using Python, including parameter estimation and model fitting.\n",
    "- Accurately interpret the outcomes of regression analyses, including coefficients and model fit statistics.\n",
    "- Identify limitations, assumptions, and potential biases in linear and logistic regression models and their impact on results."
   ]
  },
  {
   "cell_type": "markdown",
   "id": "2b5528fe-172b-4502-acc9-8d83f176d1ca",
   "metadata": {},
   "source": [
    "# Block 4: Data Analysis and Modeling (16%)"
   ]
  },
  {
   "cell_type": "markdown",
   "id": "35eac176-187b-4ee1-b91c-c6f27123e90a",
   "metadata": {},
   "source": [
    "Objectives covered by the block:"
   ]
  },
  {
   "cell_type": "markdown",
   "id": "f15708ef-839e-4f94-a0a3-2f80ac3191be",
   "metadata": {},
   "source": [
    "## Data Analysis with Pandas and NumPy"
   ]
  },
  {
   "cell_type": "markdown",
   "id": "bb3afbdb-f8e1-45a3-9e8d-851ce9cfccd4",
   "metadata": {},
   "source": [
    "### Objective 4.1.1 – Manage data effectively with Pandas."
   ]
  },
  {
   "cell_type": "markdown",
   "id": "2437619a-e54a-479e-a6fe-101b5c2f4f26",
   "metadata": {},
   "source": [
    "- Organize and clean data using Pandas' data manipulation tools (e.g., filtering, sorting, and handling missing values).\n",
    "- Apply advanced data manipulation techniques such as merging, joining, and reshaping data frames."
   ]
  },
  {
   "cell_type": "markdown",
   "id": "b1dee01e-414a-4aa3-9ba3-8e90ef0003ee",
   "metadata": {},
   "source": [
    "### Objective 4.1.2 – Understand and Utilize the Relationship Between DataFrame and Series in Pandas."
   ]
  },
  {
   "cell_type": "markdown",
   "id": "c8755c7f-26e3-41dd-9ccc-f0f18eeede13",
   "metadata": {},
   "source": [
    "- Explain the conceptual differences and connections between DataFrames and Series in Pandas.\n",
    "- Implement indexing methods and use vectorized functions for efficient data manipulation.\n",
    "- Practice locating data using `.iloc` and `.loc` methods, and analyze the outcomes to ensure accurate data retrieval and manipulation."
   ]
  },
  {
   "cell_type": "markdown",
   "id": "2e1a64ad-3e60-429e-9633-fbeb1632e2c5",
   "metadata": {},
   "source": [
    "### Objective 4.1.3 – Perform Array Operations and Differentiate Data Structures with NumPy."
   ]
  },
  {
   "cell_type": "markdown",
   "id": "381e664a-e0df-4f69-bc6e-ee5549e4a668",
   "metadata": {},
   "source": [
    "- Execute array operations using NumPy, including basic arithmetic, broadcasting, and aggregation functions.\n",
    "- Distinguish between arrays, lists, NDArrays, Series, and DataFrames, understanding their respective use cases and performance characteristics.\n",
    "- Analyze and compare the efficiency and suitability of these data structures for different types of data analysis tasks."
   ]
  },
  {
   "cell_type": "markdown",
   "id": "bb8c91b1-bde1-44c8-99fc-21a435f5d230",
   "metadata": {},
   "source": [
    "### Objective 4.1.4 – Apply and Analyze Data Organization Techniques in Pandas and NumPy."
   ]
  },
  {
   "cell_type": "markdown",
   "id": "149dd386-5130-4c21-9d5f-27b41f6d33e6",
   "metadata": {},
   "source": [
    "- Apply methods for reshaping data, including subsetting and sorting, in Pandas.\n",
    "- Analyze datasets by grouping data using `groupby` and creating pivot/cross tables for enhanced data comprehension.\n",
    "- Compute and interpret descriptive statistics using Pandas and NumPy to extract meaningful insights from data."
   ]
  },
  {
   "cell_type": "markdown",
   "id": "b733da25-7dec-43c3-8559-5b0fc6c47906",
   "metadata": {},
   "source": [
    "## Statistical Methods and Machine Learning"
   ]
  },
  {
   "cell_type": "markdown",
   "id": "1b05682a-939d-4640-b938-0262ae5761c3",
   "metadata": {},
   "source": [
    "### Objective 4.2.1 – Apply Python's descriptive statistics for dataset analysis."
   ]
  },
  {
   "cell_type": "markdown",
   "id": "bbf8d10c-83e4-49b1-96f4-d6b366d58d35",
   "metadata": {},
   "source": [
    "- Calculate and interpret key statistical measures such as mean, median, mode, variance, and standard deviation using Python.\n",
    "- Utilize Python libraries (like Pandas and NumPy) to generate and analyze descriptive statistics for real-world datasets."
   ]
  },
  {
   "cell_type": "markdown",
   "id": "c6b367f2-fff7-4974-997a-ac94994122f9",
   "metadata": {},
   "source": [
    "### Objective 4.2.2 – Recognize the importance of test datasets in model evaluation."
   ]
  },
  {
   "cell_type": "markdown",
   "id": "6edf8783-3e52-4592-8c08-673f440cf004",
   "metadata": {},
   "source": [
    "- Understand the role of test datasets in validating the performance of machine learning models.\n",
    "- Demonstrate knowledge of proper test dataset selection and usage to ensure unbiased and accurate model evaluation."
   ]
  },
  {
   "cell_type": "markdown",
   "id": "7dfaf93e-6112-4514-813b-adb0b883691f",
   "metadata": {},
   "source": [
    "### Objective 4.2.3 – Analyze and Evaluate Supervised Learning Algorithms and Model Accuracy."
   ]
  },
  {
   "cell_type": "markdown",
   "id": "a852f0c2-7460-45d0-a8dc-715d3bfbcf75",
   "metadata": {},
   "source": [
    "- Analyze various supervised learning algorithms to understand their specific characteristics and applications.\n",
    "- Evaluate the concepts of overfitting and underfitting within these models, including a detailed explanation of the bias-variance tradeoff.\n",
    "- Assess the intrinsic tendencies of linear and logistic regression in relation to this tradeoff, and apply this understanding to prevent model accuracy issues."
   ]
  },
  {
   "cell_type": "markdown",
   "id": "7d38eb1c-b6af-49e1-aae3-e00f495a7628",
   "metadata": {},
   "source": [
    "# Block 5: Data Communication and Visualisation (13%)"
   ]
  },
  {
   "cell_type": "markdown",
   "id": "f0d1394a-a395-4377-af7a-f6972aa71fbe",
   "metadata": {},
   "source": [
    "Objectives covered by the block (6 exam items)"
   ]
  },
  {
   "cell_type": "markdown",
   "id": "6a7137a3-79ae-467b-ad48-778cbc2a3384",
   "metadata": {},
   "source": [
    "## Data Visualization Techniques"
   ]
  },
  {
   "cell_type": "markdown",
   "id": "deb57da6-f9bf-4aa0-9366-6688f97c1dd6",
   "metadata": {},
   "source": [
    "### Objective 5.1.1 – Demonstrate essential proficiency in data visualization with Matplotlib and Seaborn."
   ]
  },
  {
   "cell_type": "markdown",
   "id": "da99705c-e483-45d5-918f-3f24d4d3b3c7",
   "metadata": {},
   "source": [
    "- Utilize Matplotlib and Seaborn to create various types of plots, including Boxplots, Histograms, Scatterplots, Lineplots, and Correlation heatmaps.\n",
    "- Interpret the data and findings represented in these visualizations to gain deeper insights and communicate results effectively."
   ]
  },
  {
   "cell_type": "markdown",
   "id": "fc2d1a6a-7d14-47ad-8c7c-001c0e1fb8f2",
   "metadata": {},
   "source": [
    "### Objective 5.1.2 – Assess the pros and cons of different data representations."
   ]
  },
  {
   "cell_type": "markdown",
   "id": "02309e2b-30e9-4e64-a2de-b1916e293eba",
   "metadata": {},
   "source": [
    "- Evaluate the suitability of various chart types for different types of data and analysis objectives.\n",
    "- Critically analyze the effectiveness of chosen visualizations in conveying the intended message or insight."
   ]
  },
  {
   "cell_type": "markdown",
   "id": "323a828f-2037-40bd-a8d0-7ee6b20c5b82",
   "metadata": {},
   "source": [
    "### Objective 5.1.3 – Label, annotate, and test insights from data visualizations."
   ]
  },
  {
   "cell_type": "markdown",
   "id": "bb33ed93-644c-4d7f-9c33-dedabbc1da23",
   "metadata": {},
   "source": [
    "- Incorporate labels, titles, and annotations in visualizations to clarify and emphasize key insights.\n",
    "- Utilize visual exploration to generate hypotheses and test insights from datasets.\n",
    "- Practice making data-driven decisions based on the interpretation of visualized data."
   ]
  },
  {
   "cell_type": "markdown",
   "id": "6bd8b918-4bbd-4906-b108-39bc598da0d2",
   "metadata": {},
   "source": [
    "### Objective 5.1.4 – Improve the clarity and accuracy of data interpretation by managing display features such as colors, labels, and legends."
   ]
  },
  {
   "cell_type": "markdown",
   "id": "682003a9-ed21-4e15-bc18-376b34e3d3c5",
   "metadata": {},
   "source": [
    "- Customize colors in plots to improve readability of a scatterplot.\n",
    "- Label axes and add titles to improve data readability.\n",
    "- Manipulate legend properties such as position, font size, and background color to improve the esthetics and readability of data."
   ]
  },
  {
   "cell_type": "markdown",
   "id": "ffd8dca3-bbe4-4dad-937a-2cdea5d8f166",
   "metadata": {},
   "source": [
    "## Effective Communication of Data Insights"
   ]
  },
  {
   "cell_type": "markdown",
   "id": "11d536ac-ac38-48c5-97d4-0c69811fb7da",
   "metadata": {},
   "source": [
    "### Objective 5.2.1 – Tailor communication to different audience needs, and combine visualizations and text for clear data presentation."
   ]
  },
  {
   "cell_type": "markdown",
   "id": "51e21ca2-7ece-400a-a496-2dca440313bd",
   "metadata": {},
   "source": [
    "- Analyze the audience to understand their background, interests, and knowledge level.\n",
    "- Adapt communication style and content to meet the specific needs and expectations of diverse audiences.\n",
    "- Create presentations and reports that effectively convey data insights to both technical and non-technical stakeholders.\n",
    "- Integrate visualizations seamlessly into presentations and reports, aligning them with the narrative.\n",
    "- Use concise and informative text to complement visualizations, providing context and key takeaways.\n",
    "- Ensure visual and textual elements work harmoniously to enhance data clarity and understanding.\n",
    "- Avoid slide clutter and optimize slide content to maintain focus on key messages.\n",
    "- Craft a compelling data narrative that tells a story with data, highlighting insights and actionable takeaways.\n",
    "- Select an appropriate and consistent color palette for visualizations, ensuring clarity and accessibility."
   ]
  },
  {
   "cell_type": "markdown",
   "id": "f3d79886-1e2b-41ff-aaa7-54ff79742264",
   "metadata": {},
   "source": [
    "### Objective 5.2.2 – Summarize key findings and support claims with evidence and reasoning."
   ]
  },
  {
   "cell_type": "markdown",
   "id": "af32e3d6-07a8-44b7-8465-beb17cc4033d",
   "metadata": {},
   "source": [
    "- Understand the process of identifying and extracting key findings from data analysis.\n",
    "- Apply techniques to condense complex information into concise and meaningful summaries.\n",
    "- Prioritize and emphasize the most relevant insights based on context.\n",
    "- Explain the importance of backing assertions and conclusions with data-driven evidence and reasoning.\n",
    "- Articulate the basis for claims and recommendations, demonstrating transparency in decision-making.\n",
    "- Demonstrate proficiency in clearly presenting evidence to support claims and recommendations."
   ]
  },
  {
   "cell_type": "code",
   "execution_count": null,
   "id": "5c0a889c-ca5a-4544-a19e-53ddc72447f3",
   "metadata": {},
   "outputs": [],
   "source": []
  }
 ],
 "metadata": {
  "kernelspec": {
   "display_name": "Python 3 (ipykernel)",
   "language": "python",
   "name": "python3"
  },
  "language_info": {
   "codemirror_mode": {
    "name": "ipython",
    "version": 3
   },
   "file_extension": ".py",
   "mimetype": "text/x-python",
   "name": "python",
   "nbconvert_exporter": "python",
   "pygments_lexer": "ipython3",
   "version": "3.12.6"
  }
 },
 "nbformat": 4,
 "nbformat_minor": 5
}
