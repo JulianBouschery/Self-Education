{
 "cells": [
  {
   "cell_type": "markdown",
   "id": "b44f2d90-6160-4a20-bbd4-034b1ae7d9f5",
   "metadata": {},
   "source": [
    "# Inhaltsverzeichnis Data-Analyses"
   ]
  },
  {
   "cell_type": "markdown",
   "id": "083e660e-80b7-4fe2-8258-072838366009",
   "metadata": {
    "jp-MarkdownHeadingCollapsed": true
   },
   "source": [
    "## Strukturierung"
   ]
  },
  {
   "cell_type": "markdown",
   "id": "df6136f6",
   "metadata": {},
   "source": [
    "Da Numpy, Scipy, Matplotlib, Pandas, Seaborn und viele weitere Module und Themenbereich aufeinander aufbauen und sich Inhaltlich überlappen, habe ich mich gegen die Strukturierung nach Kategorien entschieden. Stattdessen werden alle generellen Themenbereiche wie Fachwörter, Formeln, Funktionen, Bilder etc. in einem Zentral-Ordner abgespeichert.\n",
    "\n",
    "Alle Notebooks, werden thematisch so aufgebaut, dass sie eine Schritt für Schritt Anleitung zur Erarbeitung des entsprechenden Lerninhalts und dessen Anwendung enthalten. Wird dabeit themenübergreifendes Wissen benötigt, wird dies im Skript selbst kurz wiederholt und angewendet. Für eine detailiertere Erklärung kann man über einen integrierten Link auf die entsprechende Datei im Zentral-Ordner zugreifen."
   ]
  },
  {
   "cell_type": "markdown",
   "id": "4d5bd220-ca08-4b85-aaa5-4405237e5aac",
   "metadata": {},
   "source": [
    "![Dependencies](./Zentral_Ordner/Bilder/Dependencies.jpg)"
   ]
  },
  {
   "cell_type": "markdown",
   "id": "7f98f12c-bc8d-4fc6-9725-78bac395922e",
   "metadata": {},
   "source": [
    "# Inhaltsverzeichnis"
   ]
  },
  {
   "cell_type": "markdown",
   "id": "b5909fb5-908c-4a65-98e6-becf7fb815f4",
   "metadata": {
    "jp-MarkdownHeadingCollapsed": true
   },
   "source": [
    "## Zentrale Informationen"
   ]
  },
  {
   "cell_type": "markdown",
   "id": "b452847c-4009-41f0-acc5-6bc8a4ebd122",
   "metadata": {},
   "source": [
    "[Übersicht der Wichtigsten Funktionen und Methoden](./Zentral_ordner/Funktionen_und_Methoden/_Inhaltsverzeichnis_FM_.ipynb)"
   ]
  },
  {
   "cell_type": "markdown",
   "id": "0d11ca8e-b94e-435f-8beb-b38edf9730d1",
   "metadata": {},
   "source": [
    "[End to End Projektbeispiele](Zentral_Ordner/End_to_End_Projektbeispiele/_Projektbeispiele_.ipynb)"
   ]
  },
  {
   "cell_type": "markdown",
   "id": "7c21f39f-ce9d-4688-9240-593adcfc793c",
   "metadata": {},
   "source": [
    "[Übersicht der Wichtigsten Formeln](./Zentral_Ordner/Formeln/_Inhaltsverzeichnis_Formeln_.ipynb)"
   ]
  },
  {
   "cell_type": "markdown",
   "id": "2213e050-1615-43af-aa23-3aa9f80671d6",
   "metadata": {},
   "source": [
    "# Themenbereiche und Best Practis Leitfaden der Datenanalyse"
   ]
  },
  {
   "cell_type": "markdown",
   "id": "fef2219f-1ac9-4eea-a249-6ff0566804b0",
   "metadata": {},
   "source": [
    "## Statistik"
   ]
  },
  {
   "cell_type": "markdown",
   "id": "6a30725c-c00f-4bda-94ee-0d9eddceaa35",
   "metadata": {},
   "source": [
    "Alles zur [Statistik](Themen/Statistik/_Statistik_.ipynb)"
   ]
  },
  {
   "cell_type": "markdown",
   "id": "d0f74bbe-1924-40ce-a460-293efccbd940",
   "metadata": {},
   "source": [
    "### 1. Data Collection / Data Acquisition / Datenerhebung"
   ]
  },
  {
   "cell_type": "markdown",
   "id": "1de5cab4-f9da-4345-a2ed-f5710589e8e6",
   "metadata": {},
   "source": [
    "Die [Datenerhebung](./Themen/Datenerhebung/_Datenerhebung_.ipynb) bzw. die Sammlung von Daten umfasst die Themen:"
   ]
  },
  {
   "cell_type": "markdown",
   "id": "dee595d3-3672-4c1d-a1e5-f5c2b96f5c81",
   "metadata": {},
   "source": [
    "- [Umfragen](Themen/Data_Collection/Umfragen.ipynb)\n",
    "- [API](Themen/Data_Collection/API.ipynb)\n",
    "- [Web-Scraping](Themen/Data_Collection/Web_Scraping.ipynb)\n",
    "- [Einlesen von Daten](Themen/Data_Collection/einlesen.ipynb)"
   ]
  },
  {
   "cell_type": "markdown",
   "id": "60edd368-33f2-4532-a535-cf9a281524eb",
   "metadata": {},
   "source": [
    "### 2. Data Cleaning / Datenbereinigung"
   ]
  },
  {
   "cell_type": "markdown",
   "id": "0c5bb0f5-a74a-4a5e-b5e2-4ceed8da3360",
   "metadata": {},
   "source": [
    "Die [Datenbereinigung](Themen/Data_Cleaning/_Data_Cleaning_.ipynb) umfasst die Themen:"
   ]
  },
  {
   "cell_type": "markdown",
   "id": "1a5063a5-0f1a-4a16-96cd-10bed194d4af",
   "metadata": {},
   "source": [
    "- [Ausreißer (Outlier) Erkennung](Themen/Data_Cleaning/outlier.ipynb)\n",
    "- [Duplikate löschen](Themen/Data_Cleaning/double.ipynb)"
   ]
  },
  {
   "cell_type": "markdown",
   "id": "45373cd8-6fec-4b14-b538-a338336824f8",
   "metadata": {},
   "source": [
    "### 3. Splitt in Trainings- und Testdatensatz"
   ]
  },
  {
   "cell_type": "markdown",
   "id": "1869ea15-7c7c-458d-824f-d2b4bb9214c4",
   "metadata": {},
   "source": [
    "Auf Trainings Datensatz soll gefittet (Hyperparameter Berechnet und angewandt werden)"
   ]
  },
  {
   "cell_type": "markdown",
   "id": "ddf08597-9084-401f-b90e-a241b710e69f",
   "metadata": {},
   "source": [
    "### 4. Preprocessing"
   ]
  },
  {
   "cell_type": "markdown",
   "id": "8623bd84-4b50-49fb-b729-310025ad1699",
   "metadata": {},
   "source": [
    "Das [Preprocessing](./Themen/Preprocessing/_Preprocessing_.ipynb) umfasst die Themen:"
   ]
  },
  {
   "cell_type": "markdown",
   "id": "80bcb675-5d8f-4465-86ec-eb00e02f6c0e",
   "metadata": {},
   "source": [
    "- [Umgang mit fehlende Werten](Themen/Preprocessing/Missing_Values.ipynb) bzw. [Imputation](Themen/Preprocessing/Imputation.ipynb)\n",
    "- [Skalierung](Themen/Preprocessing/Scaling.ipynb)\n",
    "- [Normalisierung](Themen/Preprocessing/Normalization.ipynb)\n",
    "- [One Hot Encoding](Themen/Preprocessing/One_Hot_Encoding.ipynb) vs. [Boolean-Normalisierung](Themen/Preprocessing/Boolean_Normalizationa.ipynb)\n",
    "- [Dimensionsreduktion durch PCA](Themen/Preprocessing/PCA.ipynb)\n",
    "- [Standardisierung](Themen/Preprocessing/Standardization.ipynb)\n",
    "- [Formatierung](Themen/Preprocessing/Formating.ipynb) (Standardisierung von Maßeinheiten) \n",
    "- [Bucketization](Themen/Preprocessing/Bucketization.ipynb)"
   ]
  },
  {
   "cell_type": "markdown",
   "id": "c687a060-6d4a-453b-9e4f-34c659cff0cd",
   "metadata": {},
   "source": [
    "### 5. Datenvalidierung und Datenintegrität"
   ]
  },
  {
   "cell_type": "code",
   "execution_count": null,
   "id": "11f73bbf-1136-4b3e-a094-92910d31a598",
   "metadata": {},
   "outputs": [],
   "source": []
  },
  {
   "cell_type": "markdown",
   "id": "2476bb93-6999-4f3f-93ea-998cd8c206ac",
   "metadata": {},
   "source": [
    "### 6 Modell erstellen"
   ]
  },
  {
   "cell_type": "markdown",
   "id": "9b8213fd-1ac5-4f56-b486-b1f280535aaa",
   "metadata": {},
   "source": [
    "[Maschine Learning](./Themen/Maschine_Learning/_Maschine_Learning_.ipynb) umfasst die Themen:"
   ]
  },
  {
   "cell_type": "markdown",
   "id": "461f4c52-220d-4080-ae04-0a759a230902",
   "metadata": {},
   "source": [
    "KPI's"
   ]
  },
  {
   "cell_type": "markdown",
   "id": "33befe57-4df6-4cfc-94c9-4eded123bd02",
   "metadata": {},
   "source": [
    "### 7. Validierung"
   ]
  },
  {
   "cell_type": "markdown",
   "id": "b1e0ecd8-9b24-483e-9d98-9e33f3c17029",
   "metadata": {},
   "source": [
    "### 8. Vorhersage "
   ]
  },
  {
   "cell_type": "code",
   "execution_count": null,
   "id": "72c48fae-03cb-49c1-b5a6-2e8c033dc3a5",
   "metadata": {},
   "outputs": [],
   "source": []
  },
  {
   "cell_type": "markdown",
   "id": "a34bd8b8-7960-41e7-80ca-373b726421f0",
   "metadata": {},
   "source": [
    "### 9. Dokumentation"
   ]
  },
  {
   "cell_type": "code",
   "execution_count": null,
   "id": "5ce52fa0-0ab9-4d10-b9b8-9422bfb39c10",
   "metadata": {},
   "outputs": [],
   "source": []
  }
 ],
 "metadata": {
  "kernelspec": {
   "display_name": "Python 3 (ipykernel)",
   "language": "python",
   "name": "python3"
  },
  "language_info": {
   "codemirror_mode": {
    "name": "ipython",
    "version": 3
   },
   "file_extension": ".py",
   "mimetype": "text/x-python",
   "name": "python",
   "nbconvert_exporter": "python",
   "pygments_lexer": "ipython3",
   "version": "3.12.6"
  }
 },
 "nbformat": 4,
 "nbformat_minor": 5
}
