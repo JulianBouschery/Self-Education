{
 "cells": [
  {
   "cell_type": "markdown",
   "id": "b44f2d90-6160-4a20-bbd4-034b1ae7d9f5",
   "metadata": {},
   "source": [
    "# Inhaltsverzeichnis Data-Analyses"
   ]
  },
  {
   "cell_type": "markdown",
   "id": "083e660e-80b7-4fe2-8258-072838366009",
   "metadata": {
    "jp-MarkdownHeadingCollapsed": true
   },
   "source": [
    "## Strukturierung"
   ]
  },
  {
   "cell_type": "markdown",
   "id": "df6136f6",
   "metadata": {},
   "source": [
    "Da Numpy, Scipy, Matplotlib, Pandas, Seaborn und viele weitere Module und Themenbereich aufeinander aufbauen und sich Inhaltlich überlappen, habe ich mich gegen die Strukturierung nach Kategorien entschieden. Stattdessen werden alle generellen Themenbereiche wie Fachwörter, Formeln, Funktionen, Bilder etc. in einem Zentral-Ordner abgespeichert.\n",
    "\n",
    "Alle Notebooks, werden thematisch so aufgebaut, dass sie eine Schritt für Schritt Anleitung zur Erarbeitung des entsprechenden Lerninhalts und dessen Anwendung enthalten. Wird dabeit themenübergreifendes Wissen benötigt, wird dies im Skript selbst kurz wiederholt und angewendet. Für eine detailiertere Erklärung kann man über einen integrierten Link auf die entsprechende Datei im Zentral-Ordner zugreifen."
   ]
  },
  {
   "cell_type": "markdown",
   "id": "4d5bd220-ca08-4b85-aaa5-4405237e5aac",
   "metadata": {},
   "source": [
    "![Dependencies](./Zentral_Ordner/Bilder/Dependencies.jpg)"
   ]
  },
  {
   "cell_type": "markdown",
   "id": "7f98f12c-bc8d-4fc6-9725-78bac395922e",
   "metadata": {},
   "source": [
    "# Inhaltsverzeichnis"
   ]
  },
  {
   "cell_type": "markdown",
   "id": "f81fe79f-cc2c-4095-8162-23f5261e8025",
   "metadata": {
    "editable": true,
    "slideshow": {
     "slide_type": ""
    },
    "tags": []
   },
   "source": [
    "[**Syllabus PCED**](_Syllabus_PCED_.ipynb)"
   ]
  },
  {
   "cell_type": "markdown",
   "id": "b5909fb5-908c-4a65-98e6-becf7fb815f4",
   "metadata": {},
   "source": [
    "## Zentrale Informationen"
   ]
  },
  {
   "cell_type": "markdown",
   "id": "9ba281a0-27d0-4eea-b576-213287d65b03",
   "metadata": {},
   "source": [
    "[NumPy](./Zentral_Ordner/Module/NumPy/NumPy.ipynb)"
   ]
  },
  {
   "cell_type": "markdown",
   "id": "425dc086-452c-47fe-9331-c4f14971c4dd",
   "metadata": {},
   "source": [
    "[Pandas](./Zentral_Ordner/Module/Pandas/Pandas.ipynb)"
   ]
  },
  {
   "cell_type": "markdown",
   "id": "0d11ca8e-b94e-435f-8beb-b38edf9730d1",
   "metadata": {},
   "source": [
    "[End to End Projektbeispiele](Zentral_Ordner/End_to_End_Projektbeispiele/_Projektbeispiele_.ipynb)"
   ]
  },
  {
   "cell_type": "markdown",
   "id": "b452847c-4009-41f0-acc5-6bc8a4ebd122",
   "metadata": {},
   "source": [
    "Übersicht der wichtigsten [Funktionen und Methoden](./Zentral_ordner/Funktionen_und_Methoden/_Inhaltsverzeichnis_FM_.ipynb)"
   ]
  },
  {
   "cell_type": "markdown",
   "id": "ef73d58e-93ad-45fa-9018-a2bb80924514",
   "metadata": {},
   "source": [
    "Übersicht der wichtigsten [Formeln](./Zentral_Ordner/Formeln/_Formeln_.ipynb)"
   ]
  },
  {
   "cell_type": "markdown",
   "id": "2213e050-1615-43af-aa23-3aa9f80671d6",
   "metadata": {},
   "source": [
    "# Themenbereiche"
   ]
  },
  {
   "cell_type": "markdown",
   "id": "6a30725c-c00f-4bda-94ee-0d9eddceaa35",
   "metadata": {},
   "source": [
    "[Statistik](Themen/Statistik/_Statistik_.ipynb)"
   ]
  },
  {
   "cell_type": "markdown",
   "id": "f0c1fb54-2c1d-4bd1-8fb1-6c798d69e1ac",
   "metadata": {},
   "source": [
    "# Best Practis Leitfaden der Datenanalyse"
   ]
  },
  {
   "cell_type": "markdown",
   "id": "d0f74bbe-1924-40ce-a460-293efccbd940",
   "metadata": {},
   "source": [
    "### 1. Data Collection / Data Acquisition / Datenerhebung"
   ]
  },
  {
   "cell_type": "markdown",
   "id": "dad9caf3-55b5-4d7e-be1d-f815440e763a",
   "metadata": {},
   "source": [
    "Die [Datenerhebung](./Themen/Data_Collection/_Data_Collection_.ipynb) bzw. die Sammlung von Daten umfasst die Themen:\n",
    "- [Umfragen](Themen/Data_Collection/Umfragen.ipynb)\n",
    "- [Interviews](./Themen/Data_Collection/Interview.ipynb)\n",
    "- [API's](Themen/Data_Collection/API.ipynb)\n",
    "- [Web-Scraping](Themen/Data_Collection/Web_Scraping/Web_Scraping.ipynb)\n",
    "- [Auslesen von Datenspeichern](Themen/Data_Collection/auslesen.ipynb)\n",
    "- [Stichproben](Themen/Data_Collection/Stichproben.ipynb)\n",
    "- [Recht und Ethik](Themen/Data_Collection/recht_ethik.ipynb)\n",
    "- [Anonymisierung](Themen/Data_Collection/Anonymisierung.ipynb)\n",
    "- [Einfluss des Data-Analysten](Themen/Data_Collection/Einfluss.ipynb)"
   ]
  },
  {
   "cell_type": "markdown",
   "id": "fb82105f-f8a2-4b2e-8792-4386107ca066",
   "metadata": {},
   "source": [
    "Die [Datenspeicherung](./Themen/Data_Storage/_Data_Storage_.ipynb) umfasst die Speicherformate und Themen:\n",
    "\n",
    "- [Methoden der Datenspeicherung](Themen/Data_Storage/speichermethoden_und_anwendung.ipynb)\n",
    "- [Vergleich unterschiedlicher Speicheroptionen](Themen/Data_Storage/comparing_data_storage.ipynb)\n",
    "- [Cloud-Speicher](Themen/Data_Storage/cloud_storage.ipynb)\n",
    "\n",
    "Dateiformate:\n",
    "- [CSV](./Themen/Data_Storage/CSV.ipynb)\n",
    "- [JSON](./Themen/Data_Storage/JSON.ipynb)\n",
    "- [XLSX und XLS](./Themen/Data_Storage/XLSX.ipynb)\n",
    "- [TXT](TXT.ipynb)"
   ]
  },
  {
   "cell_type": "markdown",
   "id": "75e4204b-3376-44fe-a532-f368061f6b0c",
   "metadata": {},
   "source": [
    "Weitere Themen sind:\n",
    "\n",
    "- Das [Kombinieren von Daten](Themen/Data_Collection/combining_data.ipynb)\n",
    "- Die [Herausforderungen](Themen/Data_Collection/Datenaggregation_Herausforderungen.ipynb) beim Kombinieren von Daten\n",
    "- [Datenkonsistenz und Genauigkeit](Themen/Data_Collection/Datenkonsistenz_Genauigkeit.ipynb)"
   ]
  },
  {
   "cell_type": "markdown",
   "id": "3bd4b48d-ddd1-4179-9131-0533129b6a9d",
   "metadata": {},
   "source": [
    "Notiz: `Kombinieren von Daten` und `Herausforderung` mergen?"
   ]
  },
  {
   "cell_type": "markdown",
   "id": "60edd368-33f2-4532-a535-cf9a281524eb",
   "metadata": {},
   "source": [
    "### 2. Data Cleaning / Datenbereinigung"
   ]
  },
  {
   "cell_type": "markdown",
   "id": "0c5bb0f5-a74a-4a5e-b5e2-4ceed8da3360",
   "metadata": {},
   "source": [
    "Die [Datenbereinigung](Themen/Data_Cleaning/_Data_Cleaning_.ipynb) umfasst die Themen:"
   ]
  },
  {
   "cell_type": "markdown",
   "id": "b63484c1-4486-4d78-b59b-bf3448e27ac4",
   "metadata": {},
   "source": [
    "- [Ausreißer (Outlier) Erkennung](Themen/Data_Cleaning/outlier.ipynb)\n",
    "- [Duplikate löschen](Themen/Data_Cleaning/double.ipynb)\n",
    "- [Das Löschen von Zeilen und Spalten allgemein](Themen/Data_Cleaning/how_to_delete_column.ipynb)"
   ]
  },
  {
   "cell_type": "markdown",
   "id": "f26efd82-478d-4ef9-82d9-27d24dbc48f3",
   "metadata": {},
   "source": [
    "To Do\n",
    "\n",
    "[structured data](Themen/Data_Cleaning/Daten_strukturiert.ipynb)\n",
    "\n",
    "[unstructured data](Themen/Data_Cleaning/Daten_unstrukturiert.ipynb)\n",
    "\n",
    "[data structure impacts data storage](Themen/Data_Cleaning/einfluss_des_datentyps.ipynb)"
   ]
  },
  {
   "cell_type": "markdown",
   "id": "45373cd8-6fec-4b14-b538-a338336824f8",
   "metadata": {},
   "source": [
    "### 3. Splitt in Trainings- und Testdatensatz"
   ]
  },
  {
   "cell_type": "markdown",
   "id": "1c33296e-d339-46ff-8ebe-b7bbb89728ed",
   "metadata": {},
   "source": [
    "- [splitting](./Themen/Maschine_Learning/splitting.ipynb) (Aufteilung des Datensatzes)\n",
    "\n",
    "- [fitting](./Themen/Maschine_Learning/fitting.ipynb) der Daten (das Anwenden von zuvor berechneten Hyperparameter auf die Daten?)"
   ]
  },
  {
   "cell_type": "markdown",
   "id": "ddf08597-9084-401f-b90e-a241b710e69f",
   "metadata": {},
   "source": [
    "### 4. Preprocessing"
   ]
  },
  {
   "cell_type": "markdown",
   "id": "8623bd84-4b50-49fb-b729-310025ad1699",
   "metadata": {},
   "source": [
    "Das [Preprocessing](./Themen/Preprocessing/_Preprocessing_.ipynb) umfasst die Themen:"
   ]
  },
  {
   "cell_type": "markdown",
   "id": "80bcb675-5d8f-4465-86ec-eb00e02f6c0e",
   "metadata": {},
   "source": [
    "- [Umgang mit fehlende Werten](Themen/Preprocessing/Missing_Values.ipynb) bzw. [Imputation](Themen/Preprocessing/Imputation.ipynb)\n",
    "- [Skalierung](Themen/Preprocessing/Scaling.ipynb)\n",
    "- [Normalisierung](Themen/Preprocessing/Normalization.ipynb)\n",
    "- [One Hot Encoding](Themen/Preprocessing/One_Hot_Encoding.ipynb) vs. [Boolean-Normalisierung](Themen/Preprocessing/Boolean_Normalizationa.ipynb)\n",
    "- [Dimensionsreduktion durch PCA](Themen/Preprocessing/PCA.ipynb)\n",
    "- [Standardisierung](Themen/Preprocessing/Standardization.ipynb)\n",
    "- [Formatierung](Themen/Preprocessing/Formating.ipynb) (Standardisierung von Maßeinheiten) \n",
    "- [Bucketization](Themen/Preprocessing/Bucketization.ipynb)\n",
    "- Letzter Schritt des Preprcessing: [Pipeline](Themen/Preprocessing/Pipeline.ipynb) (für Fortgeschrittene)"
   ]
  },
  {
   "cell_type": "markdown",
   "id": "c687a060-6d4a-453b-9e4f-34c659cff0cd",
   "metadata": {},
   "source": [
    "### 5. Datenvalidierung und Datenintegrität"
   ]
  },
  {
   "cell_type": "markdown",
   "id": "5416408f-73e6-4a75-af43-c755ce75769c",
   "metadata": {},
   "source": [
    "[Data Validation](./Themen/Data_Validation/Data_Validation.ipynb) (improvisiert, darf gerne angepasst werden)"
   ]
  },
  {
   "cell_type": "markdown",
   "id": "2476bb93-6999-4f3f-93ea-998cd8c206ac",
   "metadata": {},
   "source": [
    "### 6 Modell erstellen"
   ]
  },
  {
   "cell_type": "markdown",
   "id": "9b8213fd-1ac5-4f56-b486-b1f280535aaa",
   "metadata": {},
   "source": [
    "[Maschine Learning](./Themen/Maschine_Learning/_Maschine_Learning_.ipynb) umfasst die Themen:"
   ]
  },
  {
   "cell_type": "markdown",
   "id": "461f4c52-220d-4080-ae04-0a759a230902",
   "metadata": {},
   "source": [
    "KPI's"
   ]
  },
  {
   "cell_type": "markdown",
   "id": "33befe57-4df6-4cfc-94c9-4eded123bd02",
   "metadata": {},
   "source": [
    "### 7. Validierung"
   ]
  },
  {
   "cell_type": "markdown",
   "id": "b1e0ecd8-9b24-483e-9d98-9e33f3c17029",
   "metadata": {},
   "source": [
    "### 8. Vorhersage "
   ]
  },
  {
   "cell_type": "code",
   "execution_count": null,
   "id": "72c48fae-03cb-49c1-b5a6-2e8c033dc3a5",
   "metadata": {},
   "outputs": [],
   "source": []
  },
  {
   "cell_type": "markdown",
   "id": "a34bd8b8-7960-41e7-80ca-373b726421f0",
   "metadata": {},
   "source": [
    "### 9. Dokumentation"
   ]
  },
  {
   "cell_type": "code",
   "execution_count": null,
   "id": "5ce52fa0-0ab9-4d10-b9b8-9422bfb39c10",
   "metadata": {},
   "outputs": [],
   "source": []
  }
 ],
 "metadata": {
  "kernelspec": {
   "display_name": "Python 3 (ipykernel)",
   "language": "python",
   "name": "python3"
  },
  "language_info": {
   "codemirror_mode": {
    "name": "ipython",
    "version": 3
   },
   "file_extension": ".py",
   "mimetype": "text/x-python",
   "name": "python",
   "nbconvert_exporter": "python",
   "pygments_lexer": "ipython3",
   "version": "3.12.6"
  }
 },
 "nbformat": 4,
 "nbformat_minor": 5
}
