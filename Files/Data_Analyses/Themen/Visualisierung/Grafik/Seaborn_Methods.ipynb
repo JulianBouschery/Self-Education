{
 "cells": [
  {
   "cell_type": "markdown",
   "id": "4d955f4f-f61b-4fb2-94f3-faead482a3fe",
   "metadata": {},
   "source": [
    "# Übersicht Seaborn"
   ]
  },
  {
   "cell_type": "markdown",
   "id": "c6d02c5e-c69f-49f2-82a8-076d06f45f53",
   "metadata": {},
   "source": [
    "Nicht vergessen, dass man sich über die Tab-Taste Vorschläge geben lassen kann, was es alles für Methoden im Modul gibt. "
   ]
  },
  {
   "cell_type": "code",
   "execution_count": 2,
   "id": "6dc4eb94-8f6d-4665-af16-2d5a99f04997",
   "metadata": {},
   "outputs": [
    {
     "ename": "SyntaxError",
     "evalue": "invalid syntax (2169694450.py, line 4)",
     "output_type": "error",
     "traceback": [
      "\u001b[1;36m  Cell \u001b[1;32mIn[2], line 4\u001b[1;36m\u001b[0m\n\u001b[1;33m    sns. # Tab verwenden um Vorschläge zu sehen\u001b[0m\n\u001b[1;37m         ^\u001b[0m\n\u001b[1;31mSyntaxError\u001b[0m\u001b[1;31m:\u001b[0m invalid syntax\n"
     ]
    }
   ],
   "source": [
    "import matplotlib.pyplot as plt\n",
    "import seaborn as sns\n",
    "\n",
    "sns. # Tab verwenden um Vorschläge zu sehen"
   ]
  },
  {
   "cell_type": "markdown",
   "id": "967f7d33-7826-4026-9096-00e2c92d9495",
   "metadata": {},
   "source": [
    "Ich bezweifel al das man alle davon brauchen wird, aber hier ist eine Liste der wichtigsten Seaborn-Methoden zur Erstellung verschiedener Diagrammarten:\n",
    "\n",
    "### 1. **Verteilungsdiagramme**:\n",
    "- **`sns.histplot()`**: Erstellt ein Histogramm.\n",
    "- **`sns.kdeplot()`**: Erstellt eine Kernel Density Estimate (KDE)-Kurve.\n",
    "- **`sns.ecdfplot()`**: Erstellt ein Empirical Cumulative Distribution Function (ECDF)-Diagramm.\n",
    "\n",
    "### 2. **Kategoriale Diagramme**:\n",
    "- **`sns.boxplot()`**: Erstellt ein Boxplot.\n",
    "- **`sns.violinplot()`**: Erstellt ein Violinplot, das die Verteilung zeigt.\n",
    "- **`sns.stripplot()`**: Erstellt einen Stripplot mit einzelnen Punkten.\n",
    "- **`sns.swarmplot()`**: Erstellt einen Swarmplot, der Punkte anordnet, um Überlappungen zu minimieren.\n",
    "- **`sns.barplot()`**: Erstellt ein Balkendiagramm (mit Mittelwert und Fehlerbalken).\n",
    "- **`sns.countplot()`**: Erstellt ein Balkendiagramm für kategoriale Daten (Anzahl der Werte).\n",
    "\n",
    "### 3. **Relationale Diagramme**:\n",
    "- **`sns.scatterplot()`**: Erstellt ein Streudiagramm.\n",
    "- **`sns.lineplot()`**: Erstellt ein Liniendiagramm.\n",
    "- **`sns.relplot()`**: Universelle Methode, die sowohl Streu- als auch Liniendiagramme erstellen kann (mit `kind='scatter'` oder `kind='line'`).\n",
    "\n",
    "### 4. **Regressionsdiagramme**:\n",
    "- **`sns.lmplot()`**: Erstellt ein lineares Regressionsdiagramm.\n",
    "- **`sns.regplot()`**: Erstellt ein Regressionsdiagramm mit optionaler Regressionslinie.\n",
    "- **`sns.residplot()`**: Erstellt ein Residualdiagramm (zur Analyse der Abweichungen von der Regressionslinie).\n",
    "\n",
    "### 5. **Matrixdiagramme**:\n",
    "- **`sns.heatmap()`**: Erstellt eine Heatmap, oft zur Visualisierung von Korrelationsmatrizen.\n",
    "- **`sns.clustermap()`**: Erstellt ein Clustergramm (Heatmap mit hierarchischer Clusteranalyse).\n",
    "- **`sns.pairplot()`**: Erstellt ein Paarplot (Streudiagramme für mehrere Variablenpaare).\n",
    "- **`sns.corrplot()`**: Erstellt eine Korrelationsmatrix (manchmal über `heatmap()`).\n",
    "\n",
    "### 6. **Zeitreihen und Verläufe**:\n",
    "- **`sns.tsplot()`**: (veraltet) Früher verwendet für Zeitreihendiagramme. Wird jetzt durch **`sns.lineplot()`** ersetzt.\n",
    "\n",
    "### 7. **Joint- und marginale Diagramme**:\n",
    "- **`sns.jointplot()`**: Erstellt ein Diagramm für zwei Variablen mit zusätzlichen marginalen Histogrammen oder KDEs.\n",
    "- **`sns.pairplot()`**: Paarweise Verteilungen mehrerer Variablen in einem Gitter.\n",
    "  \n",
    "Diese Methoden bieten vielseitige Visualisierungen und lassen sich oft durch weitere Parameter feinjustieren, um komplexe Diagramme zu erstellen."
   ]
  },
  {
   "cell_type": "code",
   "execution_count": null,
   "id": "1177fd56-5e07-41c1-9d3a-a86faa081abc",
   "metadata": {},
   "outputs": [],
   "source": []
  }
 ],
 "metadata": {
  "kernelspec": {
   "display_name": "Python 3 (ipykernel)",
   "language": "python",
   "name": "python3"
  },
  "language_info": {
   "codemirror_mode": {
    "name": "ipython",
    "version": 3
   },
   "file_extension": ".py",
   "mimetype": "text/x-python",
   "name": "python",
   "nbconvert_exporter": "python",
   "pygments_lexer": "ipython3",
   "version": "3.12.6"
  }
 },
 "nbformat": 4,
 "nbformat_minor": 5
}
