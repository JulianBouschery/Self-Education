{
 "cells": [
  {
   "cell_type": "markdown",
   "id": "ad4f954d-3561-4821-a3f4-4565471b44f0",
   "metadata": {},
   "source": [
    "# Scatterplot\n"
   ]
  },
  {
   "cell_type": "markdown",
   "id": "0d389425-8f9b-499f-bfb5-10e5c5c94793",
   "metadata": {},
   "source": [
    "Um einzelne Spalten einer CSV-Datei in einem **Scatter Plot** darzustellen, kannst du **Pandas** verwenden, um die CSV-Datei einzulesen, und **Matplotlib** zum Plotten. Hier ist eine einfache Anleitung, wie du das machst:\n",
    "\n",
    "### Schritte:\n",
    "1. **CSV-Datei einlesen**: Verwende `pandas` zum Laden der CSV-Datei.\n",
    "2. **Spalten auswählen**: Wähle die Spalten aus, die du im Scatter-Plot darstellen möchtest.\n",
    "3. **Scatter Plot erstellen**: Mit `matplotlib` kannst du die ausgewählten Spalten gegeneinander plotten.\n",
    "\n",
    "### Beispiel:\n",
    "\n",
    "Angenommen, du hast eine CSV-Datei namens `data.csv` mit folgenden Spalten: `Alter`, `Gehalt`, `Bildungsgrad`. Du möchtest einen Scatter Plot erstellen, der **Alter** gegen **Gehalt** darstellt.\n",
    "\n",
    "```python\n",
    "# Benötigte Bibliotheken importieren\n",
    "import pandas as pd\n",
    "import matplotlib.pyplot as plt\n",
    "\n",
    "# CSV-Datei einlesen\n",
    "df = pd.read_csv('data.csv')\n",
    "\n",
    "# Spalten für den Scatter Plot auswählen (z.B. Alter vs Gehalt)\n",
    "x = df['Alter']\n",
    "y = df['Gehalt']\n",
    "\n",
    "# Scatter Plot erstellen\n",
    "plt.scatter(x, y)\n",
    "plt.title(\"Scatter Plot von Alter gegen Gehalt\")\n",
    "plt.xlabel(\"Alter\")\n",
    "plt.ylabel(\"Gehalt\")\n",
    "\n",
    "# Plot anzeigen\n",
    "plt.show()\n",
    "```\n",
    "\n",
    "### Erklärung:\n",
    "1. **`pd.read_csv('data.csv')`**: Liest die CSV-Datei in ein DataFrame.\n",
    "2. **`x = df['Alter']` und `y = df['Gehalt']`**: Extrahiert die Spalten `Alter` und `Gehalt`.\n",
    "3. **`plt.scatter(x, y)`**: Erstellt einen Scatter Plot mit `Alter` auf der x-Achse und `Gehalt` auf der y-Achse.\n",
    "4. **`plt.title()`, `plt.xlabel()`, `plt.ylabel()`**: Fügt Titel und Achsenbeschriftungen hinzu.\n",
    "\n",
    "### Voraussetzungen:\n",
    "- Du musst sicherstellen, dass die CSV-Datei richtig formatiert ist und keine fehlenden Werte in den Spalten `Alter` oder `Gehalt` enthält. Andernfalls könntest du vorher eine Bereinigung der Daten vornehmen."
   ]
  },
  {
   "cell_type": "code",
   "execution_count": null,
   "id": "0cb315a0-9b77-43f3-9027-861e303c0ebe",
   "metadata": {},
   "outputs": [],
   "source": []
  }
 ],
 "metadata": {
  "kernelspec": {
   "display_name": "Python 3 (ipykernel)",
   "language": "python",
   "name": "python3"
  },
  "language_info": {
   "codemirror_mode": {
    "name": "ipython",
    "version": 3
   },
   "file_extension": ".py",
   "mimetype": "text/x-python",
   "name": "python",
   "nbconvert_exporter": "python",
   "pygments_lexer": "ipython3",
   "version": "3.12.6"
  }
 },
 "nbformat": 4,
 "nbformat_minor": 5
}
