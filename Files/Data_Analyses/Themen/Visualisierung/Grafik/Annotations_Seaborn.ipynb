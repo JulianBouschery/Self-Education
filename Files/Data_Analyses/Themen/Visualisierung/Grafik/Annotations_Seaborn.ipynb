{
 "cells": [
  {
   "cell_type": "markdown",
   "id": "202d9e4e-74e6-49c3-874c-9dad8f1ebb3d",
   "metadata": {},
   "source": [
    "# Annotations (Anmerkungen) mit Seaborn"
   ]
  },
  {
   "cell_type": "code",
   "execution_count": null,
   "id": "84502a56-4d22-47d7-be03-359ecc9edf5a",
   "metadata": {},
   "outputs": [],
   "source": [
    "import pandas as pd\n",
    "import seaborn as sns\n",
    "import matplotlib.pyplot as plt\n",
    " \n",
    "# Examine sample dataset to see if Salary depends on Age\n",
    "salary = pd.read_csv('Salary_Data.csv')\n",
    " \n",
    "# Create a scatter plot to test the relationship/ Streudiagramm erstellen, um die Beziehung zu testen\n",
    "plt.figure(figsize=(10, 5))\n",
    "sns.scatterplot(x='Age', y='Salary', data=salary)\n",
    " \n",
    "# Add title and axis labels/ Titel und Achsenbeschriftungen hinzufügen\n",
    "plt.title('Age vs. Salary', fontsize=14)\n",
    "plt.xlabel('Age in years', fontsize=12)\n",
    "plt.ylabel('Salary (in USD)', fontsize=12)\n",
    " \n",
    "# Get the age corresponding to the highest salary\n",
    "max_salary = salary['Salary'].max()\n",
    "max_salary_age = salary[salary['Salary'] == max_salary]['Age'].values[0]\n",
    " \n",
    "# Add annotations with a small arrow\n",
    "plt.annotate('Highest Salary',\n",
    "             xy=(max_salary_age, max_salary),\n",
    "             xytext=(max_salary_age - 6, max_salary - 6000),  # Adjust text position\n",
    "             arrowprops=dict(facecolor='black', arrowstyle=\"->\"))\n",
    " \n",
    "plt.grid(True)\n",
    "plt.show()"
   ]
  }
 ],
 "metadata": {
  "kernelspec": {
   "display_name": "Python 3 (ipykernel)",
   "language": "python",
   "name": "python3"
  },
  "language_info": {
   "codemirror_mode": {
    "name": "ipython",
    "version": 3
   },
   "file_extension": ".py",
   "mimetype": "text/x-python",
   "name": "python",
   "nbconvert_exporter": "python",
   "pygments_lexer": "ipython3",
   "version": "3.12.6"
  }
 },
 "nbformat": 4,
 "nbformat_minor": 5
}
