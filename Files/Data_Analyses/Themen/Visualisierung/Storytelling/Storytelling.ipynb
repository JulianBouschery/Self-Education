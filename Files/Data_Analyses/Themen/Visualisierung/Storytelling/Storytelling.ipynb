{
 "cells": [
  {
   "cell_type": "markdown",
   "id": "1096b14b-6047-45b8-8c8a-07cb30a73897",
   "metadata": {},
   "source": [
    "# Storytelling"
   ]
  },
  {
   "cell_type": "markdown",
   "id": "227f000d-49de-41b9-8c06-8163fb204d36",
   "metadata": {},
   "source": [
    "https://semcona.de/fachbeitraege/content-marketing/data-storytelling/"
   ]
  },
  {
   "cell_type": "code",
   "execution_count": null,
   "id": "db076192-0b83-404f-bfe8-caa6c74a0f16",
   "metadata": {},
   "outputs": [],
   "source": []
  }
 ],
 "metadata": {
  "kernelspec": {
   "display_name": "Python 3 (ipykernel)",
   "language": "python",
   "name": "python3"
  },
  "language_info": {
   "codemirror_mode": {
    "name": "ipython",
    "version": 3
   },
   "file_extension": ".py",
   "mimetype": "text/x-python",
   "name": "python",
   "nbconvert_exporter": "python",
   "pygments_lexer": "ipython3",
   "version": "3.12.6"
  }
 },
 "nbformat": 4,
 "nbformat_minor": 5
}
