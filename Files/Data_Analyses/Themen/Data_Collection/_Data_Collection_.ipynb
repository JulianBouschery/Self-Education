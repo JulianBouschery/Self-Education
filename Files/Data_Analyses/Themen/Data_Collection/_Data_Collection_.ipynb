{
 "cells": [
  {
   "cell_type": "markdown",
   "id": "ad1cf346-1f3a-48e0-84d4-03f4d837c540",
   "metadata": {},
   "source": [
    "Zurück zum:\n",
    "- [Inhaltsverzeichnis](../../_Inhaltsverzeichnis_Data_Analyses_.ipynb)\n",
    "- [Syllabus](../../_Syllabus_PCED_.ipynb)"
   ]
  },
  {
   "cell_type": "markdown",
   "id": "b956cc34-b6a9-4567-af2f-08f30c05910d",
   "metadata": {},
   "source": [
    "Siehe auch:\n",
    "- [Umfragen](Umfragen.ipynb)\n",
    "- [Interviews](Interview.ipynb)\n",
    "- [API's](API.ipynb)\n",
    "- [Web-Scraping](./Web_Scraping/Web_Scraping.ipynb)\n",
    "- [Einlesen von Daten](einlesen.ipynb)\n",
    "- [Stichproben](Stichproben.ipynb)\n",
    "- [Recht und Ethik](recht_ethik.ipynb)\n",
    "- [Anonymisierung](Anonymisierung.ipynb)\n",
    "- [Einfluss des Data-Analysten auf die Geschäftsprozesse](Einfluss.ipynb)"
   ]
  },
  {
   "cell_type": "markdown",
   "id": "6e14e42a-d563-4d8e-a950-984ba296dd0c",
   "metadata": {},
   "source": [
    "# Data Collection / Data Aquisition / Datenerhebung"
   ]
  },
  {
   "cell_type": "markdown",
   "id": "0dde66b1-0f92-4717-9261-9b78081e4670",
   "metadata": {},
   "source": [
    "## Herausforderungen bei der Datenerhebung \n",
    "     \n",
    "1. **Bias (Verzerrung):** \n",
    "    - eine der größten Herausforderungen bei der Erhebung von Daten und der Auswahl von Stichproben \n",
    "    - Verzerrungen können auf verschiedene Weise auftreten: \n",
    "       - durch Auswahl der Stichprobe (z.B. wenn bestimmte Gruppen der Bevölkerung unterrepräsentiert sind) \n",
    "       - durch die Art und Weise, wie Fragen gestellt werden \n",
    "       - durch die Reaktionen der Befragten \n",
    "     \n",
    "<br> \n",
    "     \n",
    "2. **Zugang zur Population:** \n",
    "    - meist ist es schwierig, Zugang zur gesamten Population zu erhalten \n",
    "    - kann geografische, rechtliche oder finanzielle Gründe haben \n",
    "     \n",
    "<br> \n",
    "     \n",
    "3. **Non-Response Bias:** <br> \n",
    "    - bedeutet, dass bestimmte Personen nicht an einer Umfrage oder Datenerhebung teilnehmen, \n",
    "    - kann dazu führen, dass die Stichprobe nicht mehr repräsentativ ist \n",
    "    - z.B. könnten besonders beschäftigte oder uninteressierte Personen nicht teilnehmen, was die Ergebnisse verzerrt \n",
    "     \n",
    "<br> \n",
    "     \n",
    "4. **Datenqualität:** <br> \n",
    "    - Genauigkeit und Zuverlässigkeit der erhobenen Daten sind entscheidend für die Analyse \n",
    "    - schlechte Datenqualität kann durch Missverständnisse bei der Befragung, fehlerhafte Messungen oder ungenaue Aufzeichnungen entstehen \n",
    "    - die Daten müssen gründlich überprüft und bereinigt werden, um zuverlässige Ergebnisse zu gewährleisten"
   ]
  },
  {
   "cell_type": "markdown",
   "id": "469b1238-f92a-4c50-bdef-119ab31931be",
   "metadata": {},
   "source": [
    "# Unterschiede zwischen qualitativer und quantitativer Forschung \n",
    "     \n",
    "     \n",
    "     \n",
    "| **Eigenschaft**           | **Quantitative Daten** | **Qualitative Daten**       | \n",
    "|---------------------------|------------------------|-----------------------------| \n",
    "| **Art der Information**    | Messbar, numerisch     | Beschreibend, textuell       | \n",
    "| **Analyse**                | Statistische Methoden  | Inhaltliche Analyse, Themen  | \n",
    "| **Beispiele**              | Größe, Gewicht, Anzahl | Meinungen, Erfahrungen       | \n",
    "| **Erhebungsmethode**       | Umfragen, Messungen    | Interviews, Beobachtungen    | \n",
    "    \n",
    "<br> \n",
    "     \n",
    "1. **Ziel und Ansatz:** \n",
    "   - **Quantitative Forschung** <br> \n",
    "     - zielt darauf ab, numerische Daten zu sammeln und statistisch auszuwerten \n",
    "     - geht oft darum, Muster oder Korrelationen in großen Datensätzen zu finden, Hypothesen zu testen und generalisierbare Aussagen zu machen \n",
    "     - basiert auf objektiven Messungen und mathematischen Modellen \n",
    "   - **Qualitative Forschung** <br> \n",
    "     - befasst sich mit nicht-numerischen Daten(z.B. Texte, Interviews, Beobachtungen, Videos) \n",
    "     - konzentriert sich auf die tiefe Analyse individueller Erfahrungen, Meinungen oder sozialer Phänomene \n",
    "     - Ziel ist oft, komplexe menschliche Verhaltensweisen oder Einstellungen zu verstehen \n",
    "     \n",
    "<br> \n",
    "     \n",
    "2. **Datenquellen:** \n",
    "   - **Quantitative Daten** \n",
    "     - stammen häufig aus Umfragen, Tests, Experimenten oder offiziellen Statistiken \n",
    "     - oft standardisiert und lassen sich gut in Zahlen ausdrücken (z.B. Prozentsätze, Mittelwerte, Verteilungen...) \n",
    "   - **Qualitative Daten** \n",
    "     - stammen aus Interviews, Fokusgruppen, Beobachtungen oder Dokumentenanalysen \n",
    "     - oft detaillierter und kontextbezogener und konzentrieren sich auf individuelle Erfahrungen oder tiefe Einblicke in bestimmte Themen \n",
    "     \n",
    "<br> \n",
    "     \n",
    "3. **Analyse:** \n",
    "   - **Quantitative Analysen** <br> \n",
    "     - verwenden statistische Methoden, um Beziehungen zwischen Variablen zu untersuchen \n",
    "     - Beispiele: Regressionsanalysen, Varianzanalysen, Hypothesentests \n",
    "     - Ergebnisse werden oft in Form von Zahlen, Diagrammen und Tabellen präsentiert \n",
    "   - **Qualitative Analysen** <br> \n",
    "     - verwenden Methoden wie die Inhaltsanalyse, die narrative Analyse oder die Grounded Theory \n",
    "     - Daten werden auf Muster, Themen oder Bedeutungen untersucht \n",
    "     - Interpretation erfolgt oft in Form von Texten, in denen die Ergebnisse beschrieben und erklärt werden \n",
    "     \n",
    "<br> \n",
    "     \n",
    "4. **Generalisation:** \n",
    "   - **Quantitative Forschung** <br> \n",
    "     - ermöglicht durch große Stichproben und statistische Analysen die Generalisierung der Ergebnisse auf eine größere Population \n",
    "   - **Qualitative Forschung** <br> \n",
    "     - zielt weniger auf Generalisierung ab \n",
    "     - eher auf tieferes Verständnis spezifischer Fälle oder Phänomene \n",
    "     - Ergebnisse sind oft nicht auf die gesamte Population übertragbar, liefern aber wertvolle Einblicke in individuelle Perspektiven \n",
    "     "
   ]
  },
  {
   "cell_type": "markdown",
   "id": "18b4e897-db17-4ffd-bd8d-58ed855e877a",
   "metadata": {},
   "source": [
    "Man kann sagen, dass sowohl qualitative als auch quantitative Methoden ihre eigenen Stärken und Schwächen haben. Quantitative Forschung ist ideal, wenn es um die Untersuchung großer Datenmengen und das Testen von Hypothesen geht. Qualitative Forschung hingegen ist besser geeignet, um tiefe Einblicke in spezifische Themen zu gewinnen und die Komplexität menschlicher Erfahrungen zu verstehen."
   ]
  },
  {
   "cell_type": "code",
   "execution_count": null,
   "id": "42caeb77-a7c7-4f86-9e1a-0902ae8f2815",
   "metadata": {},
   "outputs": [],
   "source": []
  }
 ],
 "metadata": {
  "kernelspec": {
   "display_name": "Python 3 (ipykernel)",
   "language": "python",
   "name": "python3"
  },
  "language_info": {
   "codemirror_mode": {
    "name": "ipython",
    "version": 3
   },
   "file_extension": ".py",
   "mimetype": "text/x-python",
   "name": "python",
   "nbconvert_exporter": "python",
   "pygments_lexer": "ipython3",
   "version": "3.12.6"
  }
 },
 "nbformat": 4,
 "nbformat_minor": 5
}
