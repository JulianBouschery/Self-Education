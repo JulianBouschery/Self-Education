{
 "cells": [
  {
   "cell_type": "markdown",
   "id": "489d26ca-51f0-411e-8ae9-1a71c6b899bf",
   "metadata": {},
   "source": [
    "# API "
   ]
  },
  {
   "cell_type": "markdown",
   "id": "30c20d5e-241e-43fe-acd4-24b6e46f675d",
   "metadata": {},
   "source": [
    "APIs (Application Programming Interfaces) sind Schnittstellen, die es verschiedenen Software-Anwendungen ermöglichen, miteinander zu kommunizieren und Daten oder Funktionen auszutauschen, ohne ihre internen Details offenzulegen."
   ]
  },
  {
   "cell_type": "markdown",
   "id": "437f73fd-c3ff-44a4-a636-7b50bb00df6a",
   "metadata": {},
   "source": [
    "https://de.wikipedia.org/wiki/Programmierschnittstelle"
   ]
  },
  {
   "cell_type": "markdown",
   "id": "96b805c7-6f06-4c52-839a-63dc3c30ef80",
   "metadata": {},
   "source": [
    "https://developers.google.com/apis-explorer?hl=de"
   ]
  },
  {
   "cell_type": "markdown",
   "id": "15834db2-e138-439d-b0e8-47b64a6975e2",
   "metadata": {},
   "source": [
    "APIs (Application Programming Interfaces) sind Schnittstellen, die es verschiedenen Softwareanwendungen ermöglichen, miteinander zu kommunizieren. Eine API definiert Methoden, Protokolle und Werkzeuge, mit denen Programme Daten oder Funktionen eines anderen Programms oder Dienstes nutzen können, ohne den zugrunde liegenden Code zu kennen.\n",
    "\n",
    "### Grundprinzipien einer API:\n",
    "1. **Anfragen und Antworten**: Programme senden Anfragen (Requests) an eine API und erhalten daraufhin Antworten (Responses), oft in Formaten wie JSON oder XML.\n",
    "2. **Abstraktion**: APIs verbergen die Komplexität des internen Codes und stellen nur die notwendigen Funktionen zur Verfügung.\n",
    "3. **Endpunkte**: APIs bestehen aus verschiedenen Endpunkten (URLs), die bestimmte Funktionen bereitstellen, wie z.B. das Abrufen von Daten oder das Speichern von Informationen.\n",
    "4. **HTTP-Protokoll**: Web-APIs nutzen häufig das HTTP-Protokoll und HTTP-Methoden wie:\n",
    "   - **GET**: Zum Abrufen von Daten\n",
    "   - **POST**: Zum Senden oder Erstellen von Daten\n",
    "   - **PUT**: Zum Aktualisieren von Daten\n",
    "   - **DELETE**: Zum Löschen von Daten\n",
    "\n",
    "### Beispiel:\n",
    "Wenn du eine API einer Wetter-Website verwendest, könnte ein **GET**-Anfrage an einen Endpunkt wie `/weather?city=Berlin` die Wetterdaten für Berlin zurückgeben.\n",
    "\n",
    "### Vorteile:\n",
    "- **Wiederverwendbarkeit**: Du kannst auf bestehende Dienste zugreifen, ohne sie selbst entwickeln zu müssen.\n",
    "- **Plattformunabhängigkeit**: Verschiedene Systeme und Programmiersprachen können miteinander kommunizieren.\n",
    "\n",
    "APIs werden in vielen Bereichen genutzt, z.B. für soziale Netzwerke (Facebook API), Zahlungsdienste (PayPal API) oder Wetterdienste (OpenWeather API)."
   ]
  },
  {
   "cell_type": "code",
   "execution_count": 1,
   "id": "bc1656c4-bc1f-437d-b13c-bdabc616bd77",
   "metadata": {},
   "outputs": [
    {
     "ename": "NameError",
     "evalue": "name 'Aufgabe' is not defined",
     "output_type": "error",
     "traceback": [
      "\u001b[1;31m---------------------------------------------------------------------------\u001b[0m",
      "\u001b[1;31mNameError\u001b[0m                                 Traceback (most recent call last)",
      "Cell \u001b[1;32mIn[1], line 1\u001b[0m\n\u001b[1;32m----> 1\u001b[0m \u001b[43mAufgabe\u001b[49m\n",
      "\u001b[1;31mNameError\u001b[0m: name 'Aufgabe' is not defined"
     ]
    }
   ],
   "source": [
    "Aufgabe"
   ]
  },
  {
   "cell_type": "markdown",
   "id": "2410dec4-a71c-442a-aff5-d0bb32829dbb",
   "metadata": {
    "jp-MarkdownHeadingCollapsed": true
   },
   "source": [
    "# Lösung"
   ]
  },
  {
   "cell_type": "code",
   "execution_count": null,
   "id": "55b9dd0b-5ecc-47ec-b049-ddee3a6a2a1f",
   "metadata": {},
   "outputs": [],
   "source": [
    "jgsdglksjlkgjnw"
   ]
  }
 ],
 "metadata": {
  "kernelspec": {
   "display_name": "Python 3 (ipykernel)",
   "language": "python",
   "name": "python3"
  },
  "language_info": {
   "codemirror_mode": {
    "name": "ipython",
    "version": 3
   },
   "file_extension": ".py",
   "mimetype": "text/x-python",
   "name": "python",
   "nbconvert_exporter": "python",
   "pygments_lexer": "ipython3",
   "version": "3.12.6"
  }
 },
 "nbformat": 4,
 "nbformat_minor": 5
}
