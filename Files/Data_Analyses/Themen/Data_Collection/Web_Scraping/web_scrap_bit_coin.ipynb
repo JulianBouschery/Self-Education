{
 "cells": [
  {
   "cell_type": "markdown",
   "metadata": {},
   "source": [
    "### Aufgabe:\n",
    "\n",
    "Sie sollen eine einfache lineare Regression durchführen mit Hilfe der Daten aus einer api, die Sie in eine CSV-Datei abspeichern.\n",
    "\n",
    "Die ersten Schritte sind schon vorgegeben und Sie haben die Daten in eine CSV Datei eingelesen\n",
    "\n",
    "Machen Sie die EDA und eine einfache lineare Regression\n"
   ]
  },
  {
   "cell_type": "code",
   "execution_count": 7,
   "metadata": {},
   "outputs": [],
   "source": [
    "# Bibliotheken importieren\n",
    "import requests\n",
    "import pandas as pd\n",
    "import numpy as np\n",
    "import matplotlib.pyplot as plt\n",
    "import seaborn as sns\n",
    "from sklearn.model_selection import train_test_split\n",
    "from sklearn.linear_model import LinearRegression\n",
    "from sklearn.metrics import mean_squared_error\n",
    "\n"
   ]
  },
  {
   "cell_type": "code",
   "execution_count": 8,
   "metadata": {},
   "outputs": [
    {
     "name": "stdout",
     "output_type": "stream",
     "text": [
      "        Date       Price\n",
      "0 2024-10-17  67385.7149\n"
     ]
    }
   ],
   "source": [
    "import requests\n",
    "import pandas as pd\n",
    "\n",
    "# Schritt 1: URL der CoinDesk API für historische Bitcoin-Preise (2022)\n",
    "url = 'https://api.coindesk.com/v1/bpi/historical/close.json?start=2022-01-01&end=2022-12-31'\n",
    "\n",
    "# Schritt 2: API-Anfrage\n",
    "response = requests.get(url)\n",
    "\n",
    "# Überprüfen, ob die API-Anfrage erfolgreich war\n",
    "if response.status_code == 200:\n",
    "    data = response.json()\n",
    "\n",
    "    # Schritt 3: Die historischen Preise extrahieren und in ein DataFrame umwandeln\n",
    "    bitcoin_prices = pd.DataFrame(list(data['bpi'].items()), columns=['Date', 'Price'])\n",
    "\n",
    "    # Den Datentyp des 'Date'-Feldes in datetime ändern\n",
    "    bitcoin_prices['Date'] = pd.to_datetime(bitcoin_prices['Date'])\n",
    "\n",
    "    # Schritt 4: Die ersten 20 Einträge auswählen\n",
    "    bitcoin_prices = bitcoin_prices.head(20)\n",
    "\n",
    "    # Schritt 5: Speichern der Daten in eine CSV-Datei\n",
    "    # bitcoin_prices.to_csv('bitcoin_prices_2022.csv', index=False)\n",
    "    \n",
    "    # Schritt 6: Ausgabe anzeigen\n",
    "    print(bitcoin_prices)\n",
    "else:\n",
    "    print(f\"Fehler bei der API-Anfrage: {response.status_code}\")\n"
   ]
  },
  {
   "cell_type": "code",
   "execution_count": 9,
   "metadata": {},
   "outputs": [
    {
     "data": {
      "text/html": [
       "<div>\n",
       "<style scoped>\n",
       "    .dataframe tbody tr th:only-of-type {\n",
       "        vertical-align: middle;\n",
       "    }\n",
       "\n",
       "    .dataframe tbody tr th {\n",
       "        vertical-align: top;\n",
       "    }\n",
       "\n",
       "    .dataframe thead th {\n",
       "        text-align: right;\n",
       "    }\n",
       "</style>\n",
       "<table border=\"1\" class=\"dataframe\">\n",
       "  <thead>\n",
       "    <tr style=\"text-align: right;\">\n",
       "      <th></th>\n",
       "      <th>Date</th>\n",
       "      <th>Price</th>\n",
       "    </tr>\n",
       "  </thead>\n",
       "  <tbody>\n",
       "    <tr>\n",
       "      <th>0</th>\n",
       "      <td>2022-01-01</td>\n",
       "      <td>47471.4410</td>\n",
       "    </tr>\n",
       "    <tr>\n",
       "      <th>1</th>\n",
       "      <td>2022-01-02</td>\n",
       "      <td>47372.7701</td>\n",
       "    </tr>\n",
       "    <tr>\n",
       "      <th>2</th>\n",
       "      <td>2022-01-03</td>\n",
       "      <td>46247.1071</td>\n",
       "    </tr>\n",
       "    <tr>\n",
       "      <th>3</th>\n",
       "      <td>2022-01-04</td>\n",
       "      <td>46232.3068</td>\n",
       "    </tr>\n",
       "    <tr>\n",
       "      <th>4</th>\n",
       "      <td>2022-01-05</td>\n",
       "      <td>43454.4692</td>\n",
       "    </tr>\n",
       "  </tbody>\n",
       "</table>\n",
       "</div>"
      ],
      "text/plain": [
       "         Date       Price\n",
       "0  2022-01-01  47471.4410\n",
       "1  2022-01-02  47372.7701\n",
       "2  2022-01-03  46247.1071\n",
       "3  2022-01-04  46232.3068\n",
       "4  2022-01-05  43454.4692"
      ]
     },
     "execution_count": 9,
     "metadata": {},
     "output_type": "execute_result"
    }
   ],
   "source": [
    "\n",
    "# Schritt 3: Explorative Datenanalyse (EDA)\n",
    "# Daten anzeigen\n",
    "\n",
    "data = pd.read_csv('../../../Zentral_Ordner/Datensätze/bitcoin_prices_2022_old.csv')\n",
    "data.head()"
   ]
  },
  {
   "cell_type": "code",
   "execution_count": 10,
   "metadata": {},
   "outputs": [
    {
     "ename": "SyntaxError",
     "evalue": "invalid syntax (3119102891.py, line 12)",
     "output_type": "error",
     "traceback": [
      "\u001b[1;36m  Cell \u001b[1;32mIn[10], line 12\u001b[1;36m\u001b[0m\n\u001b[1;33m    X =   # Features (Anzahl der Tage seit Beginn)\u001b[0m\n\u001b[1;37m          ^\u001b[0m\n\u001b[1;31mSyntaxError\u001b[0m\u001b[1;31m:\u001b[0m invalid syntax\n"
     ]
    }
   ],
   "source": [
    "# Den Datentyp des 'Date'-Feldes in datetime ändern\n",
    "bitcoin_prices['Date'] = pd.to_datetime(bitcoin_prices['Date'])\n",
    "\n",
    "# Schritt 4: Vorbereitung der Daten für die Regression\n",
    "# Wir müssen die Daten in Features und Zielvariable aufteilen.\n",
    "# Die 'Date' Spalte wird in Tage umgewandelt, um sie für die Regression zu verwenden\n",
    "\n",
    "# Tage seit Startdatum berechnen\n",
    "bitcoin_prices['Days'] = (bitcoin_prices['Date'] - bitcoin_prices['Date'].min()).dt.days\n",
    "\n",
    "# Features (Days) und Zielvariable (Price) definieren\n",
    "X =   # Features (Anzahl der Tage seit Beginn)\n",
    "y =   # Zielvariable (Bitcoin-Preis)\n",
    "\n",
    "# Schritt 5: Train-Test-Split\n",
    "X_train, X_test, y_train, y_test = train_test_split\n",
    "\n",
    "# Schritt 6: Lineare Regression erstellen\n",
    "model = \n",
    "model.fit(X_train, y_train)\n",
    "\n",
    "# Vorhersagen auf den Testdaten machen\n",
    "y_pred = model.predict(X_test)\n"
   ]
  },
  {
   "cell_type": "code",
   "execution_count": null,
   "metadata": {},
   "outputs": [],
   "source": [
    "\n",
    "# Schritt 7: Modellbewertung\n",
    "mse = mean_squared_error(y_test, y_pred)\n",
    "print(f\"Mean Squared Error: {mse:.2f}\")\n",
    "\n",
    "# Visualisierung der Vorhersagen\n",
    "\n",
    "# Schritt 8: Vorhersage für zukünftige Preise (z.B. nach 400 Tagen)\n",
    "future_days = np.array([[20]])  # 20 Tage seit dem Startdatum\n",
    "future_price = model.predict(future_days)\n",
    "print(f\"Vorhergesagter Bitcoin-Preis nach 400 Tagen: {future_price[0]:.2f} USD\")\n"
   ]
  },
  {
   "cell_type": "code",
   "execution_count": null,
   "metadata": {},
   "outputs": [],
   "source": []
  }
 ],
 "metadata": {
  "kernelspec": {
   "display_name": "Python 3 (ipykernel)",
   "language": "python",
   "name": "python3"
  },
  "language_info": {
   "codemirror_mode": {
    "name": "ipython",
    "version": 3
   },
   "file_extension": ".py",
   "mimetype": "text/x-python",
   "name": "python",
   "nbconvert_exporter": "python",
   "pygments_lexer": "ipython3",
   "version": "3.12.6"
  }
 },
 "nbformat": 4,
 "nbformat_minor": 4
}
