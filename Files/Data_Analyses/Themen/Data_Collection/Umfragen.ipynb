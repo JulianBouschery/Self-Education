{
 "cells": [
  {
   "cell_type": "markdown",
   "id": "734958d8-528e-4c8a-9980-6713badd0e22",
   "metadata": {},
   "source": [
    "Zurück zum:\n",
    "- [Inhaltsverzeichnis](../../_Inhaltsverzeichnis_Data_Analyses_.ipynb)\n",
    "- [Syllabus](../../_Syllabus_PCED_.ipynb)"
   ]
  },
  {
   "cell_type": "markdown",
   "id": "275dfbb5-1de7-4bcc-9854-f28c8ff94a07",
   "metadata": {},
   "source": [
    "Siehe auch:\n",
    "- [Datenerhebung](_Data_Collection_.ipynb)\n",
    "- [Interviews](Interview.ipynb)\n",
    "- [API's](API.ipynb)\n",
    "- [Web-Scraping](./Web_Scraping/Web_Scraping.ipynb)\n",
    "- [Auslesen von Datenspeichern](auslesen.ipynb)\n",
    "- [Stichproben](Stichproben.ipynb)\n",
    "- [Recht und Ethik](recht_ethik.ipynb)\n",
    "- [Anonymisierung](Anonymisierung.ipynb)\n",
    "- [Einfluss des Data-Analysten auf die Geschäftsprozesse](Einfluss.ipynb)"
   ]
  },
  {
   "cell_type": "markdown",
   "id": "8bd74952-2e38-4f8b-a090-89d30faed15d",
   "metadata": {},
   "source": [
    "# Surveys (Umfragen)\n",
    "\n",
    "**Definition**: Umfragen sind strukturierte Fragebögen, die entwickelt werden, um Daten direkt von einer Zielgruppe zu sammeln.\n",
    "\n",
    "**Vorteile**:\n",
    "- **Direkte Datenquelle**: Man erhält Informationen direkt von den Befragten, oft in standardisierter Form.\n",
    "- **Skalierbar**: Umfragen können auf eine große Gruppe von Personen ausgedehnt werden, was sie ideal für quantitative Analysen macht.\n",
    "- **Flexibilität**: Man kann Umfragen an die Forschungsfragen anpassen, z.B. offene oder geschlossene Fragen, multiple-choice oder Likert-Skalen.\n",
    "\n",
    "<br>\n",
    "\n",
    "**Nachteile**:\n",
    "- **Subjektivität**: Die Antworten können verzerrt sein, z.B. durch soziale Erwünschtheit oder Missverständnisse.\n",
    "- **Geringe Rücklaufquote**: Es kann schwierig sein, genügend Antworten zu erhalten, vor allem bei freiwilligen Umfragen.\n",
    "- **Zeitaufwändig**: Das Design und die Auswertung von Umfragen kann viel Zeit in Anspruch nehmen.\n",
    "\n",
    "**Einsatzbereich**: Umfragen eignen sich gut für die Erhebung von Meinungen, Einstellungen und Verhaltensdaten in großen Stichproben.\n",
    "\n",
    "<br>\n",
    "\n",
    "## Design von Umfragen\n",
    "\n",
    "- **Fragetypen**:\n",
    "  - **Geschlossene Fragen**: Diese bieten eine begrenzte Anzahl von Antwortmöglichkeiten, z.B. Ja/Nein, Multiple-Choice. Sie sind leicht zu analysieren, liefern jedoch oft oberflächliche Informationen.\n",
    "  - **Offene Fragen**: Befragte können ihre Antworten frei formulieren, was zu reichhaltigeren Daten führt, aber auch den Analyseaufwand erhöht.\n",
    "  - **Skalierungsfragen**: Likert-Skalen (z.B. „stimme voll zu“ bis „stimme gar nicht zu“) helfen, subjektive Meinungen zu quantifizieren.\n",
    "\n",
    "<br>\n",
    "\n",
    "- **Sampling (Stichprobenziehung)**:\n",
    "  - **Zufallsstichproben**: Jede Person in der Zielgruppe hat die gleiche Chance, ausgewählt zu werden. Dies reduziert Verzerrungen und erhöht die Repräsentativität.\n",
    "  - **Stratifizierte Stichproben**: Die Population wird in Schichten (z.B. Alter, Geschlecht) unterteilt, und aus jeder Schicht wird eine Stichprobe gezogen, um die Verteilung besser abzubilden.\n",
    "\n",
    "<br>\n",
    "\n",
    "- **Frageformulierung**:\n",
    "  - Vermeiden von **Suggestivfragen**, die Befragte in eine bestimmte Richtung lenken.\n",
    "  - **Eindeutigkeit**: Fragen sollten klar und verständlich sein, um Missverständnisse zu vermeiden.\n",
    "  - **Neutralität**: Die Fragestellung sollte keine emotionalen oder wertenden Begriffe enthalten.\n",
    "\n",
    "<br>\n",
    "\n",
    "## Methoden der Datenerhebung\n",
    "- **Online-Umfragen**: Tools wie Google Forms, SurveyMonkey oder Qualtrics machen es einfach, Umfragen zu erstellen und an viele Teilnehmer zu verteilen.\n",
    "- **Telefon- oder Face-to-Face-Umfragen**: Diese sind persönlicher und erlauben Nachfragen, haben aber oft höhere Kosten und erfordern mehr Aufwand.\n",
    "- **Mobile Surveys**: Surveys, die für mobile Endgeräte optimiert sind, sind immer beliebter und erreichen besonders jüngere Zielgruppen.\n",
    "\n",
    "<br>\n",
    "\n",
    "## Herausforderungen\n",
    "- **Repräsentativität**: Es ist oft schwierig, eine Stichprobe zu erhalten, die die gesamte Population korrekt widerspiegelt. Online-Umfragen können z.B. eine Verzerrung in Richtung jüngerer, technikaffiner Personen haben.\n",
    "- **Antwortverzerrungen**: Befragte könnten absichtlich falsche oder sozial erwünschte Antworten geben. Tools wie die Randomized Response Technique können helfen, Verzerrungen bei sensiblen Themen zu reduzieren.\n",
    "- **Non-Response-Bias**: Wenn viele Leute nicht antworten, können die Ergebnisse verzerrt sein, da möglicherweise nur eine bestimmte Gruppe teilnimmt.\n",
    "\n",
    "<br>\n",
    "\n",
    "## Ethische Überlegungen\n",
    "- **Datenschutz**: Persönliche Daten der Befragten müssen vertraulich behandelt werden, insbesondere bei sensiblen Themen.\n",
    "- **Einverständniserklärung**: Befragte sollten vorher darüber informiert werden, wie ihre Daten genutzt werden, und ausdrücklich zustimmen.\n",
    "\n",
    "<br>\n",
    "\n"
   ]
  },
  {
   "cell_type": "markdown",
   "id": "b6765682-19af-4b85-ac7b-93a31ae89bf5",
   "metadata": {},
   "source": [
    "# Umfragen in der Praxis"
   ]
  },
  {
   "cell_type": "markdown",
   "id": "edd76821-fb40-4a12-bc6c-1129ce020861",
   "metadata": {},
   "source": [
    "### Google Docs-Formular"
   ]
  },
  {
   "cell_type": "markdown",
   "id": "ab2503cf-1d96-40e4-814c-313d8b7623b3",
   "metadata": {},
   "source": [
    "https://docs.google.com/forms"
   ]
  },
  {
   "cell_type": "markdown",
   "id": "9fef96f9-c685-4d97-bd83-e4d568d9903e",
   "metadata": {},
   "source": [
    "Verzweigungen gehen auch."
   ]
  },
  {
   "cell_type": "markdown",
   "id": "2e71d615-31f3-4f90-8f95-c31c5d168e12",
   "metadata": {},
   "source": [
    "### Beispiel in Python"
   ]
  },
  {
   "cell_type": "code",
   "execution_count": 1,
   "id": "36e73924-b031-43dd-ad18-e8286490dbc3",
   "metadata": {},
   "outputs": [],
   "source": [
    "import tkinter as tk\n",
    "from tkinter import messagebox\n",
    "\n",
    "def submit_answer():\n",
    "    selected = var.get()\n",
    "    if selected == \"Sonstiges\":\n",
    "        other_text = other_entry.get()\n",
    "        if other_text:\n",
    "            messagebox.showinfo(\"Ihre Antwort\", f\"Sie haben geantwortet: {other_text}\")\n",
    "        else:\n",
    "            messagebox.showwarning(\"Fehler\", \"Bitte geben Sie Ihre Antwort in das Textfeld ein.\")\n",
    "    else:\n",
    "        messagebox.showinfo(\"Ihre Antwort\", f\"Sie haben geantwortet: {selected}\")\n",
    "\n",
    "# Hauptfenster erstellen\n",
    "root = tk.Tk()\n",
    "root.title(\"Fragebogen\")\n",
    "\n",
    "# Label für die Frage\n",
    "question_label = tk.Label(root, text=\"Was ist Ihre Lieblingsprogrammiersprache?\")\n",
    "question_label.pack(pady=10)\n",
    "\n",
    "# Variable für die Auswahloptionen\n",
    "var = tk.StringVar(value=\"\")\n",
    "\n",
    "# Radiobuttons für die Auswahloptionen\n",
    "options = [\"Python\", \"Java\", \"C++\", \"JavaScript\", \"Sonstiges\"]\n",
    "for option in options:\n",
    "    tk.Radiobutton(root, text=option, variable=var, value=option).pack(anchor=\"w\")\n",
    "\n",
    "# Texteingabefeld für \"Sonstiges\", zunächst deaktiviert\n",
    "other_entry = tk.Entry(root)\n",
    "other_entry.pack(pady=5)\n",
    "other_entry.config(state=tk.DISABLED)\n",
    "\n",
    "# Funktion, um das Texteingabefeld bei Auswahl von \"Sonstiges\" zu aktivieren/deaktivieren\n",
    "def toggle_other_entry():\n",
    "    if var.get() == \"Sonstiges\":\n",
    "        other_entry.config(state=tk.NORMAL)\n",
    "    else:\n",
    "        other_entry.delete(0, tk.END)\n",
    "        other_entry.config(state=tk.DISABLED)\n",
    "\n",
    "# Binde die Funktion an die Auswahländerung\n",
    "var.trace(\"w\", lambda *args: toggle_other_entry())\n",
    "\n",
    "# Button zum Absenden der Antwort\n",
    "submit_button = tk.Button(root, text=\"Absenden\", command=submit_answer)\n",
    "submit_button.pack(pady=20)\n",
    "\n",
    "# Hauptloop der Anwendung\n",
    "root.mainloop()\n"
   ]
  },
  {
   "cell_type": "code",
   "execution_count": null,
   "id": "b421470f-ba2b-428b-8915-3bc2e8aea0ed",
   "metadata": {},
   "outputs": [],
   "source": []
  }
 ],
 "metadata": {
  "kernelspec": {
   "display_name": "Python 3 (ipykernel)",
   "language": "python",
   "name": "python3"
  },
  "language_info": {
   "codemirror_mode": {
    "name": "ipython",
    "version": 3
   },
   "file_extension": ".py",
   "mimetype": "text/x-python",
   "name": "python",
   "nbconvert_exporter": "python",
   "pygments_lexer": "ipython3",
   "version": "3.12.6"
  }
 },
 "nbformat": 4,
 "nbformat_minor": 5
}
