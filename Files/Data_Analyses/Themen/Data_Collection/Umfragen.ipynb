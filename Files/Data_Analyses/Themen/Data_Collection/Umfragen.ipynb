{
 "cells": [
  {
   "cell_type": "markdown",
   "id": "d124bc1e-befc-480f-a5bd-abffd2f84114",
   "metadata": {},
   "source": [
    "# Umfragen"
   ]
  },
  {
   "cell_type": "markdown",
   "id": "ab2503cf-1d96-40e4-814c-313d8b7623b3",
   "metadata": {},
   "source": [
    "https://docs.google.com/forms"
   ]
  },
  {
   "cell_type": "markdown",
   "id": "9fef96f9-c685-4d97-bd83-e4d568d9903e",
   "metadata": {},
   "source": [
    "Verzweigungen gehen auch."
   ]
  },
  {
   "cell_type": "code",
   "execution_count": 1,
   "id": "36e73924-b031-43dd-ad18-e8286490dbc3",
   "metadata": {},
   "outputs": [],
   "source": [
    "import tkinter as tk\n",
    "from tkinter import messagebox\n",
    "\n",
    "def submit_answer():\n",
    "    selected = var.get()\n",
    "    if selected == \"Sonstiges\":\n",
    "        other_text = other_entry.get()\n",
    "        if other_text:\n",
    "            messagebox.showinfo(\"Ihre Antwort\", f\"Sie haben geantwortet: {other_text}\")\n",
    "        else:\n",
    "            messagebox.showwarning(\"Fehler\", \"Bitte geben Sie Ihre Antwort in das Textfeld ein.\")\n",
    "    else:\n",
    "        messagebox.showinfo(\"Ihre Antwort\", f\"Sie haben geantwortet: {selected}\")\n",
    "\n",
    "# Hauptfenster erstellen\n",
    "root = tk.Tk()\n",
    "root.title(\"Fragebogen\")\n",
    "\n",
    "# Label für die Frage\n",
    "question_label = tk.Label(root, text=\"Was ist Ihre Lieblingsprogrammiersprache?\")\n",
    "question_label.pack(pady=10)\n",
    "\n",
    "# Variable für die Auswahloptionen\n",
    "var = tk.StringVar(value=\"\")\n",
    "\n",
    "# Radiobuttons für die Auswahloptionen\n",
    "options = [\"Python\", \"Java\", \"C++\", \"JavaScript\", \"Sonstiges\"]\n",
    "for option in options:\n",
    "    tk.Radiobutton(root, text=option, variable=var, value=option).pack(anchor=\"w\")\n",
    "\n",
    "# Texteingabefeld für \"Sonstiges\", zunächst deaktiviert\n",
    "other_entry = tk.Entry(root)\n",
    "other_entry.pack(pady=5)\n",
    "other_entry.config(state=tk.DISABLED)\n",
    "\n",
    "# Funktion, um das Texteingabefeld bei Auswahl von \"Sonstiges\" zu aktivieren/deaktivieren\n",
    "def toggle_other_entry():\n",
    "    if var.get() == \"Sonstiges\":\n",
    "        other_entry.config(state=tk.NORMAL)\n",
    "    else:\n",
    "        other_entry.delete(0, tk.END)\n",
    "        other_entry.config(state=tk.DISABLED)\n",
    "\n",
    "# Binde die Funktion an die Auswahländerung\n",
    "var.trace(\"w\", lambda *args: toggle_other_entry())\n",
    "\n",
    "# Button zum Absenden der Antwort\n",
    "submit_button = tk.Button(root, text=\"Absenden\", command=submit_answer)\n",
    "submit_button.pack(pady=20)\n",
    "\n",
    "# Hauptloop der Anwendung\n",
    "root.mainloop()\n"
   ]
  },
  {
   "cell_type": "code",
   "execution_count": null,
   "id": "b421470f-ba2b-428b-8915-3bc2e8aea0ed",
   "metadata": {},
   "outputs": [],
   "source": []
  }
 ],
 "metadata": {
  "kernelspec": {
   "display_name": "Python 3 (ipykernel)",
   "language": "python",
   "name": "python3"
  },
  "language_info": {
   "codemirror_mode": {
    "name": "ipython",
    "version": 3
   },
   "file_extension": ".py",
   "mimetype": "text/x-python",
   "name": "python",
   "nbconvert_exporter": "python",
   "pygments_lexer": "ipython3",
   "version": "3.12.6"
  }
 },
 "nbformat": 4,
 "nbformat_minor": 5
}
