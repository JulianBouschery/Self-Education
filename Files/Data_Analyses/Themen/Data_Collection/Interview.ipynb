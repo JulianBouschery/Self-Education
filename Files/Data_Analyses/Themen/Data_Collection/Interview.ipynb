{
 "cells": [
  {
   "cell_type": "markdown",
   "id": "e1ed84a2-a0e2-468c-8d1f-7442be768b74",
   "metadata": {},
   "source": [
    "Zurück zum:\n",
    "- [Inhaltsverzeichnis](../../_Inhaltsverzeichnis_Data_Analyses_.ipynb)\n",
    "- [Syllabus](../../_Syllabus_PCED_.ipynb)"
   ]
  },
  {
   "cell_type": "markdown",
   "id": "bbbf8b68-e3cd-4763-83ef-fb9df66c97d3",
   "metadata": {},
   "source": [
    "Siehe auch:\n",
    "- [Umfragen](Umfragen.ipynb)\n",
    "- [Datenerhebung](_Data_Collection_.ipynb)\n",
    "- [API's](API.ipynb)\n",
    "- [Web-Scraping](./Web_Scraping/Web_Scraping.ipynb)\n",
    "- [Auslesen von Datenspeichern](auslesen.ipynb)\n",
    "- [Stichproben](Stichproben.ipynb)\n",
    "- [Recht und Ethik](recht_ethik.ipynb)\n",
    "- [Anonymisierung](Anonymisierung.ipynb)\n",
    "- [Einfluss des Data-Analysten auf die Geschäftsprozesse](Einfluss.ipynb)"
   ]
  },
  {
   "cell_type": "markdown",
   "id": "cbb357b3-f4cf-480d-a87a-d5b2cac9d5cd",
   "metadata": {},
   "source": [
    "# Interviews\n",
    "\n",
    "**Definition**: Interviews sind Gespräche, bei denen der Interviewer offene Fragen stellt, um detaillierte, qualitative Informationen von den Befragten zu erhalten.\n",
    "\n",
    "**Vorteile**:\n",
    "- **Tiefgehende Einblicke**: Man kann tiefere Informationen erhalten, da die Befragten komplexe und nuancierte Antworten geben können.\n",
    "- **Flexibilität**: Man kann auf Antworten reagieren und Nachfragen stellen, um Unklarheiten zu beseitigen.\n",
    "- **Qualitative Daten**: Interviews liefern oft reichhaltige, detaillierte qualitative Daten, die bei anderen Methoden schwer zu bekommen sind.\n",
    "\n",
    "**Nachteile**:\n",
    "- **Zeitintensiv**: Interviews erfordern viel Zeit für Vorbereitung, Durchführung und Auswertung.\n",
    "- **Kleine Stichprobe**: Wegen des hohen Aufwands sind die Stichproben oft klein, was die Generalisierbarkeit der Ergebnisse einschränken kann.\n",
    "- **Subjektivität**: Die Ergebnisse können durch die Fragestellung oder die persönliche Interpretation des Interviewers beeinflusst werden.\n",
    "\n",
    "**Einsatzbereich**: Interviews sind nützlich, wenn man tiefere Einblicke in individuelle Erfahrungen, Meinungen oder Motive gewinnen möchte, z.B. bei explorativer Forschung.\n",
    "\n",
    "<br>\n",
    "\n",
    "## Interviewtypen\n",
    "- **Strukturierte Interviews**: Fragen werden in einer festen Reihenfolge gestellt, was eine standardisierte Datensammlung ermöglicht. Ideal für Vergleiche zwischen verschiedenen Teilnehmern.\n",
    "- **Halbstrukturierte Interviews**: Der Interviewer hat eine Liste von Fragen, kann aber flexibel auf Antworten reagieren und tiefer nachhaken. Dies ermöglicht es, detaillierte Einblicke zu erhalten.\n",
    "- **Unstrukturierte Interviews**: Ein offenes Gespräch ohne vorgegebene Struktur. Besonders nützlich in explorativen Phasen, um neue Themen und Hypothesen zu entdecken.\n",
    "\n",
    "<br>\n",
    "\n",
    "## Vorbereitung\n",
    "- **Leitfaden erstellen**: Ein Interviewleitfaden hilft, das Gespräch zu lenken, ohne den Fluss zu stören. Offene Fragen wie „Können Sie mir mehr darüber erzählen?“ sind besonders wertvoll.\n",
    "- **Probeinterviews**: Es kann hilfreich sein, vor dem eigentlichen Interview ein Probeinterview durchzuführen, um den Leitfaden zu testen und mögliche Probleme zu erkennen.\n",
    "\n",
    "<br>\n",
    "\n",
    "## Herausforderungen\n",
    "- **Interviewereffekt**: Die Anwesenheit des Interviewers kann die Antworten beeinflussen. Die Wahrnehmung von Machtverhältnissen oder Sympathie kann zu Verzerrungen führen.\n",
    "- **Zeitaufwand**: Interviews sind nicht nur in der Durchführung zeitaufwendig, sondern auch in der Analyse, da qualitative Daten oft manuell kodiert und interpretiert werden müssen.\n",
    "- **Generalisation**: Da Interviews oft auf kleine Stichproben beschränkt sind, können die Ergebnisse nicht immer verallgemeinert werden.\n",
    "\n",
    "<br>\n",
    "\n",
    "## Ethische Überlegungen\n",
    "- **Anonymität**: Die Identität der Befragten sollte geschützt werden, besonders bei sensiblen Themen.\n",
    "- **Vertraulichkeit**: Die erhobenen Daten müssen sicher gespeichert und nur für den vorgesehenen Zweck verwendet werden."
   ]
  },
  {
   "cell_type": "code",
   "execution_count": null,
   "id": "573456fa-f2c4-40fb-9fb3-57c072eadba3",
   "metadata": {},
   "outputs": [],
   "source": []
  }
 ],
 "metadata": {
  "kernelspec": {
   "display_name": "Python 3 (ipykernel)",
   "language": "python",
   "name": "python3"
  },
  "language_info": {
   "codemirror_mode": {
    "name": "ipython",
    "version": 3
   },
   "file_extension": ".py",
   "mimetype": "text/x-python",
   "name": "python",
   "nbconvert_exporter": "python",
   "pygments_lexer": "ipython3",
   "version": "3.12.6"
  }
 },
 "nbformat": 4,
 "nbformat_minor": 5
}
