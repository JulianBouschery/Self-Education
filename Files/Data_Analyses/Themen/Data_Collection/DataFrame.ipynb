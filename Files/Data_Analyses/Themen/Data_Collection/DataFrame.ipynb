{
 "cells": [
  {
   "cell_type": "markdown",
   "id": "3e3f8801-f7c7-494c-87ad-b3e8fd58c3f1",
   "metadata": {},
   "source": [
    "# DataFrame"
   ]
  },
  {
   "cell_type": "markdown",
   "id": "86335f34-b934-455f-a671-2ee36fd7d18f",
   "metadata": {},
   "source": [
    "Ein **DataFrame** ist eine Datenstruktur, die in der Bibliothek **Pandas** in Python verwendet wird, um tabellenartige Daten zu speichern und zu manipulieren. Es ähnelt einer Tabelle in Excel oder einer SQL-Tabelle."
   ]
  },
  {
   "cell_type": "markdown",
   "id": "4a799342-b66b-4b77-863f-727d3a757153",
   "metadata": {},
   "source": [
    "### **Grundlegender Aufbau eines DataFrames**"
   ]
  },
  {
   "cell_type": "markdown",
   "id": "e07a12e0-39b8-4f5f-ac0f-009c47847c51",
   "metadata": {},
   "source": [
    "Ein DataFrame besteht aus drei Hauptelementen:\n",
    "\n",
    "1. **Spalten (Columns):**\n",
    "   - Jede Spalte hat einen Namen (Column Name) und kann verschiedene Datentypen enthalten (z. B. Zahlen, Strings, Datumswerte).\n",
    "   - Die Spalten repräsentieren die Attribute oder Merkmale der Daten.\n",
    "\n",
    "2. **Zeilen (Rows):**\n",
    "   - Jede Zeile hat einen Index (Row Index) und enthält Daten für eine bestimmte Instanz.\n",
    "   - Die Zeilen repräsentieren die Beobachtungen oder Einträge.\n",
    "\n",
    "3. **Index:**\n",
    "   - Eine eindeutige Kennung für jede Zeile (ähnlich wie eine Primärschlüssel-Spalte in einer SQL-Tabelle)."
   ]
  },
  {
   "cell_type": "markdown",
   "id": "fbc2e7b3-db2f-4b2b-bc27-ba1ee03174db",
   "metadata": {},
   "source": [
    "### **Beispiel eines DataFrames**"
   ]
  },
  {
   "cell_type": "code",
   "execution_count": 1,
   "id": "0ce633e4-f7fd-485a-b057-d5aeb680e1cd",
   "metadata": {},
   "outputs": [
    {
     "name": "stdout",
     "output_type": "stream",
     "text": [
      "    Name  Alter    Stadt\n",
      "0   Anna     25   Berlin\n",
      "1    Ben     30  Hamburg\n",
      "2  Carla     35  München\n"
     ]
    }
   ],
   "source": [
    "import pandas as pd\n",
    "\n",
    "# Erstellen eines DataFrames aus einem Dictionary\n",
    "data = {\n",
    "    'Name': ['Anna', 'Ben', 'Carla'],\n",
    "    'Alter': [25, 30, 35],\n",
    "    'Stadt': ['Berlin', 'Hamburg', 'München']\n",
    "}\n",
    "\n",
    "df = pd.DataFrame(data)\n",
    "\n",
    "print(df)"
   ]
  },
  {
   "cell_type": "markdown",
   "id": "3f728e63-87f3-4918-bcc3-3050714d20c1",
   "metadata": {},
   "source": [
    "### **Wie funktioniert ein DataFrame?**\n",
    "1. **Zugriff auf Daten:**\n",
    "   - Spalten: `df['Name']` gibt die `Name`-Spalte zurück.\n",
    "   - Zeilen: `df.loc[0]` oder `df.iloc[0]` gibt die erste Zeile zurück.\n",
    "   \n",
    "2. **Daten hinzufügen:**\n",
    "   ```python\n",
    "   df['Beruf'] = ['Ingenieurin', 'Lehrer', 'Ärztin']\n",
    "   ```\n",
    "\n",
    "3. **Daten filtern:**\n",
    "   ```python\n",
    "   df[df['Alter'] > 30]\n",
    "   ```\n",
    "\n",
    "4. **Zusammenfassen:**\n",
    "   ```python\n",
    "   df.describe()  # Statistische Zusammenfassung für numerische Spalten\n",
    "   ```"
   ]
  },
  {
   "cell_type": "markdown",
   "id": "9cac7020-0efa-4062-8155-294e10f4517d",
   "metadata": {},
   "source": [
    "### **Zusammenfassung:**"
   ]
  },
  {
   "cell_type": "markdown",
   "id": "9a73a4b1-e0fc-4704-9ad8-325163dfad5a",
   "metadata": {},
   "source": [
    "Ein DataFrame ist ein äußerst flexibles Werkzeug, um strukturierte Daten zu speichern, anzuzeigen und zu analysieren. Seine Stärke liegt in der Fähigkeit, verschiedene Operationen (Filtern, Gruppieren, Zusammenfassen, etc.) einfach und effizient auszuführen."
   ]
  },
  {
   "cell_type": "code",
   "execution_count": null,
   "id": "821c49d0-36f5-4af4-8000-b3358b117ae1",
   "metadata": {},
   "outputs": [],
   "source": []
  }
 ],
 "metadata": {
  "kernelspec": {
   "display_name": "Python 3 (ipykernel)",
   "language": "python",
   "name": "python3"
  },
  "language_info": {
   "codemirror_mode": {
    "name": "ipython",
    "version": 3
   },
   "file_extension": ".py",
   "mimetype": "text/x-python",
   "name": "python",
   "nbconvert_exporter": "python",
   "pygments_lexer": "ipython3",
   "version": "3.12.6"
  }
 },
 "nbformat": 4,
 "nbformat_minor": 5
}
