{
 "cells": [
  {
   "cell_type": "markdown",
   "id": "de4a56db-d38f-4569-b2e0-537bfa0e1922",
   "metadata": {},
   "source": [
    "Zurück zum:\n",
    "- [Inhaltsverzeichnis](../../_Inhaltsverzeichnis_Data_Analyses_.ipynb)\n",
    "- [Syllabus](../../_Syllabus_PCED_.ipynb)"
   ]
  },
  {
   "cell_type": "markdown",
   "id": "89e95bb2-535f-497b-8167-eeea96232e96",
   "metadata": {},
   "source": [
    "Siehe auch:\n",
    "- [Umfragen](Umfragen.ipynb)\n",
    "- [Interviews](Interview.ipynb)\n",
    "- [API's](API.ipynb)\n",
    "- [Web-Scraping](./Web_Scraping/Web_Scraping.ipynb)\n",
    "- [Datenerhebung](_Data_Collection_.ipynb)\n",
    "- [Stichproben](Stichproben.ipynb)\n",
    "- [Recht und Ethik](recht_ethik.ipynb)\n",
    "- [Anonymisierung](Anonymisierung.ipynb)\n",
    "- [Einfluss des Data-Analysten auf die Geschäftsprozesse](Einfluss.ipynb)"
   ]
  },
  {
   "cell_type": "markdown",
   "id": "864ba616-b22e-4490-9d01-578aa87a7840",
   "metadata": {},
   "source": [
    "# Wege und Funktionen zum Einlesen von Daten"
   ]
  },
  {
   "cell_type": "markdown",
   "id": "f16a96f3-5aca-49b7-a4c1-b1d3502133f4",
   "metadata": {},
   "source": [
    "[pd.read_excel()](../../Zentral_Ordner/Funktionen_und_Methoden/pd.read_excel.ipynb)"
   ]
  },
  {
   "cell_type": "markdown",
   "id": "81fb164a-534a-43be-824b-8fb53102cf66",
   "metadata": {},
   "source": [
    "[pd.read_csv()](../../Zentral_Ordner/Funktionen_und_Methoden/pd.read_csv.ipynb)"
   ]
  },
  {
   "cell_type": "code",
   "execution_count": null,
   "id": "d4a97f64-f2eb-47ec-845f-4afcc991288e",
   "metadata": {},
   "outputs": [],
   "source": []
  }
 ],
 "metadata": {
  "kernelspec": {
   "display_name": "Python 3 (ipykernel)",
   "language": "python",
   "name": "python3"
  },
  "language_info": {
   "codemirror_mode": {
    "name": "ipython",
    "version": 3
   },
   "file_extension": ".py",
   "mimetype": "text/x-python",
   "name": "python",
   "nbconvert_exporter": "python",
   "pygments_lexer": "ipython3",
   "version": "3.12.6"
  }
 },
 "nbformat": 4,
 "nbformat_minor": 5
}
