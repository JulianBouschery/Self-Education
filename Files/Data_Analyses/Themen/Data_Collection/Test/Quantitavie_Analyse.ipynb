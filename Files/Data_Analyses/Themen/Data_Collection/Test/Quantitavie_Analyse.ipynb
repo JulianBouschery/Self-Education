{
 "cells": [
  {
   "cell_type": "markdown",
   "id": "7e9a3468-a33d-4f43-b366-06bdf7c0bd83",
   "metadata": {},
   "source": [
    "# Quantitative Analyse"
   ]
  },
  {
   "cell_type": "markdown",
   "id": "0f525476-7ca3-4c4f-b225-26795ff8a427",
   "metadata": {},
   "source": [
    "Die quantitative Analyse bezieht sich auf die systematische Untersuchung numerischer Daten, um Muster, Beziehungen oder Trends zu identifizieren und statistisch fundierte Entscheidungen zu treffen."
   ]
  },
  {
   "cell_type": "code",
   "execution_count": null,
   "id": "26fa64c0-147a-4a9a-808f-0fc5191f2e92",
   "metadata": {},
   "outputs": [],
   "source": []
  }
 ],
 "metadata": {
  "kernelspec": {
   "display_name": "Python 3 (ipykernel)",
   "language": "python",
   "name": "python3"
  },
  "language_info": {
   "codemirror_mode": {
    "name": "ipython",
    "version": 3
   },
   "file_extension": ".py",
   "mimetype": "text/x-python",
   "name": "python",
   "nbconvert_exporter": "python",
   "pygments_lexer": "ipython3",
   "version": "3.12.6"
  }
 },
 "nbformat": 4,
 "nbformat_minor": 5
}
