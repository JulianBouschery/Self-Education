{
 "cells": [
  {
   "cell_type": "markdown",
   "id": "9736e46f-54d2-4e2a-b257-29660fab16a1",
   "metadata": {},
   "source": [
    "Zurück zum:\n",
    "- [Inhaltsverzeichnis](../../_Inhaltsverzeichnis_Data_Analyses_.ipynb)\n",
    "- [Syllabus](../../_Syllabus_PCED_.ipynb)"
   ]
  },
  {
   "cell_type": "markdown",
   "id": "2d52bfac-73ba-40de-af04-d670bd1ab04f",
   "metadata": {},
   "source": [
    "Siehe auch:\n",
    "- [Umfragen](Umfragen.ipynb)\n",
    "- [Interviews](Interview.ipynb)\n",
    "- [API's](API.ipynb)\n",
    "- [Web-Scraping](./Web_Scraping/Web_Scraping.ipynb)\n",
    "- [Auslesen von Datenspeichern](auslesen.ipynb)\n",
    "- [Datenerhebung](_Data_Collection_.ipynb)\n",
    "- [Recht und Ethik](recht_ethik.ipynb)\n",
    "- [Anonymisierung](Anonymisierung.ipynb)\n",
    "- [Einfluss des Data-Analysten auf die Geschäftsprozesse](Einfluss.ipynb)"
   ]
  },
  {
   "cell_type": "markdown",
   "id": "b1fca04c-bdb0-4f13-9937-dc3533d19954",
   "metadata": {},
   "source": [
    "# Repräsentative Stichproben\n",
    "\n",
    " = eine Teilmenge einer Population, die so ausgewählt wurde, dass sie die **Merkmale der gesamten Population** möglichst genau widerspiegelt ,\n",
    "\n",
    "<br>\n",
    "\n",
    "**Ziel**:\n",
    "Schlüsse auf die Gesamtpopulation ziehen, ohne diese komplett untersuchen zu müssen.\n",
    " \n",
    "Die Repräsentativität ist dabei entscheidend, da sie die Generalisierbarkeit der Ergebnisse bestimmt.<br> \n",
    "heißt: wenn eine Stichprobe repräsentativ ist, können die Ergebnisse auf die gesamte Population übertragen werden \n",
    " \n",
    "<br> \n",
    " \n",
    "**Methoden für eine repräsentative Stichprobe** \n",
    "- Zufallsstichprobe:<br> \n",
    "  - jedes Mitglied der Population hat die gleiche Chance, ausgewählt zu werden. \n",
    "- stratifizierte Stichprobe: <br> \n",
    "  - Population wird in Schichten (z.B. nach Alter, Geschlecht) unterteilt, um sicherzustellen, dass jede Schicht in der Stichprobe vertreten ist.\n",
    "\n",
    "\n",
    "## Warum ist es wichtig, dass die Daten eine gute Repräsentation der Zielpopulation sind? \n",
    "\n",
    "Repräsentative Stichproben sind entscheidend, um verlässliche und verallgemeinerbare Aussagen über eine Zielpopulation zu treffen. Hier sind die wichtigsten Gründe, warum die Repräsentativität der Stichprobe wichtig ist:\n",
    "     \n",
    "1. **Verallgemeinerbarkeit der Ergebnisse** <br> \n",
    "   Eine repräsentative Stichprobe ermöglicht es, Ergebnisse auf die gesamte Zielpopulation zu übertragen. Wenn die Stichprobe die wesentlichen Merkmale der Population in den richtigen Proportionen abbildet, spiegeln die erhobenen Daten wahrscheinlich auch die wahren Verhältnisse in der Zielpopulation wider. \n",
    "     \n",
    "2. **Vermeidung von Verzerrungen (Bias)** <br> \n",
    "   Nicht-repräsentative Stichproben führen häufig zu Verzerrungen, da bestimmte Gruppen über- oder unterrepräsentiert sein könnten. Dies verzerrt die Ergebnisse und führt zu falschen Schlussfolgerungen über die Population. Beispielsweise könnte eine Umfrage, die hauptsächlich jüngere Menschen erfasst, ein falsches Bild über die gesamte Bevölkerung geben, wenn es um Themen geht, die stark altersabhängig sind. \n",
    "     \n",
    "3. **Erhöhte Präzision und Zuverlässigkeit** <br> \n",
    "       Eine gut ausgewählte Stichprobe, die die Vielfalt der Zielpopulation widerspiegelt, führt zu präziseren Schätzungen der Parameter, wie etwa des Mittelwerts oder der Varianz. Repräsentative Daten reduzieren die Wahrscheinlichkeit von zufälligen Fehlern und machen die Ergebnisse robuster und zuverlässiger. \n",
    "     \n",
    "4. **Vermeidung von Generalisierungsfehlern** <br> \n",
    "   Wenn eine Stichprobe nicht repräsentativ ist, könnten die Ergebnisse nur für die spezifische untersuchte Gruppe gelten und nicht für die gesamte Population. Solche Generalisierungsfehler führen dazu, dass Forschungsresultate in realen Anwendungen oder politischen Entscheidungen falsch angewendet werden. \n",
    "     \n",
    "5. **Validierung von Theorien** <br> \n",
    "   In vielen Forschungsbereichen, insbesondere in den Sozialwissenschaften, ist es wichtig, Theorien zu testen, die für die Gesamtbevölkerung gelten sollen. Nur repräsentative Stichproben können sicherstellen, dass die getesteten Theorien und Modelle tatsächlich auf die Zielpopulation angewendet werden können. \n",
    "     \n",
    "6. **Ethik und Fairness** <br> \n",
    "   In vielen Bereichen, etwa der öffentlichen Gesundheit oder der Marktforschung, müssen unterschiedliche Bevölkerungsgruppen fair und gleichwertig berücksichtigt werden. Eine repräsentative Stichprobe trägt dazu bei, dass alle relevanten Untergruppen angemessen vertreten sind und nicht diskriminiert oder übersehen werden. \n",
    "     \n",
    "Kurz gesagt: Die Repräsentativität einer Stichprobe bestimmt die Glaubwürdigkeit und Anwendbarkeit der Studienergebnisse. Unrepräsentative Stichproben können zu Fehlinterpretationen und Fehlentscheidungen führen."
   ]
  },
  {
   "cell_type": "code",
   "execution_count": null,
   "id": "adb08c0d-82fd-42fd-be7e-59f403c596ff",
   "metadata": {},
   "outputs": [],
   "source": []
  }
 ],
 "metadata": {
  "kernelspec": {
   "display_name": "Python 3 (ipykernel)",
   "language": "python",
   "name": "python3"
  },
  "language_info": {
   "codemirror_mode": {
    "name": "ipython",
    "version": 3
   },
   "file_extension": ".py",
   "mimetype": "text/x-python",
   "name": "python",
   "nbconvert_exporter": "python",
   "pygments_lexer": "ipython3",
   "version": "3.12.6"
  }
 },
 "nbformat": 4,
 "nbformat_minor": 5
}
