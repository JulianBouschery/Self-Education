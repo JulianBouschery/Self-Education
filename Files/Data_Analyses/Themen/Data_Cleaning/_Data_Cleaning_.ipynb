{
 "cells": [
  {
   "cell_type": "markdown",
   "id": "386546e5-984e-437b-a5fd-7f86dd36edd6",
   "metadata": {},
   "source": [
    "# Data Cleaning / Datenbereinigung"
   ]
  },
  {
   "cell_type": "markdown",
   "id": "f14fa706-d9fc-4d61-8ad0-8beafe87feba",
   "metadata": {},
   "source": [
    "[Ausreißer](outlier.ipynb) (Outlier) erkennen und bearbeiten"
   ]
  },
  {
   "cell_type": "markdown",
   "id": "95bc7366-dcf8-4d54-a40b-527d826c3bfa",
   "metadata": {},
   "source": [
    "[Duplikate löschen](double.ipynb)"
   ]
  },
  {
   "cell_type": "markdown",
   "id": "175ab47f-fc47-41a0-94b5-c39cb8926b3e",
   "metadata": {},
   "source": []
  },
  {
   "cell_type": "code",
   "execution_count": null,
   "id": "44e0ecce-0a0c-422c-9bf9-119740e4e4b0",
   "metadata": {},
   "outputs": [],
   "source": []
  }
 ],
 "metadata": {
  "kernelspec": {
   "display_name": "Python 3 (ipykernel)",
   "language": "python",
   "name": "python3"
  },
  "language_info": {
   "codemirror_mode": {
    "name": "ipython",
    "version": 3
   },
   "file_extension": ".py",
   "mimetype": "text/x-python",
   "name": "python",
   "nbconvert_exporter": "python",
   "pygments_lexer": "ipython3",
   "version": "3.12.6"
  }
 },
 "nbformat": 4,
 "nbformat_minor": 5
}
