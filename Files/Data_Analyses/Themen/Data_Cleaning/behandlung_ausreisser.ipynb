{
 "cells": [
  {
   "cell_type": "markdown",
   "id": "1e4619f9-84b0-452f-a938-efb97af29322",
   "metadata": {},
   "source": [
    "# Syllabus\n",
    "\n",
    "Explain methods for handling outliers, including detection and treatment techniques to ensure data quality."
   ]
  },
  {
   "cell_type": "markdown",
   "id": "dcb3bf65-a33d-4e81-bd3c-4c2cd403efa5",
   "metadata": {},
   "source": [
    "# Konzepte\n",
    "\n",
    "- Ausreißer: Datenpunkte, die sich signifikant vom Rest der Daten unterscheiden.\n",
    "- Erkennungsmethoden:\n",
    "    - Z-Score-Methode\n",
    "    - IQR (Interquartilsabstand)\n",
    "\n",
    "<br>\n",
    "\n",
    "# Behandlung\n",
    "\n",
    "- Entfernen, Begrenzen oder Transformieren von Ausreißern\n",
    "- Überlegen, ob das Behalten der Ausreißer je nach Kontext sinnvoll ist\n"
   ]
  },
  {
   "cell_type": "code",
   "execution_count": 1,
   "id": "7232425b-82a3-43bf-9dfa-1bad1a986f99",
   "metadata": {},
   "outputs": [
    {
     "name": "stdout",
     "output_type": "stream",
     "text": [
      "Ausreißer bei Merkmal 1:\n",
      "    Merkmal1  Merkmal2  Zscore_Merkmal1\n",
      "3     40000    400000         1.499987\n",
      "Ausreißer bei Merkmal 2:\n",
      "    Merkmal1  Merkmal2  Zscore_Merkmal1  Zscore_Merkmal2\n",
      "3     40000    400000         1.499987         1.499987\n"
     ]
    }
   ],
   "source": [
    "import pandas as pd\n",
    "import numpy as np\n",
    "\n",
    "# Beispiel-Datensatz\n",
    "daten = {'Merkmal1': [100, 200, 300, 40000],\n",
    "         'Merkmal2': [1000, 2000, 3000, 400000]}\n",
    "df = pd.DataFrame(daten)\n",
    "\n",
    "# Z-Score-Methode zur Erkennung von Ausreißern (mit geringerer Schwelle)\n",
    "df['Zscore_Merkmal1'] = (df['Merkmal1'] - df['Merkmal1'].mean()) / df['Merkmal1'].std()\n",
    "\n",
    "# Senken der Schwelle auf |Z| > 1, um mindestens einen Ausreißer zu erkennen\n",
    "ausreißer1 = df[np.abs(df['Zscore_Merkmal1']) > 1]\n",
    "\n",
    "print(\"Ausreißer bei Merkmal 1:\\n\", ausreißer1)\n",
    "\n",
    "\n",
    "# Z-Score-Methode zur Erkennung von Ausreißern (mit geringerer Schwelle)\n",
    "df['Zscore_Merkmal2'] = (df['Merkmal2'] - df['Merkmal2'].mean()) / df['Merkmal2'].std()\n",
    "\n",
    "# Senken der Schwelle auf |Z| > 1, um mindestens einen Ausreißer zu erkennen\n",
    "ausreißer = df[np.abs(df['Zscore_Merkmal2']) > 1]\n",
    "\n",
    "print(\"Ausreißer bei Merkmal 2:\\n\", ausreißer)\n"
   ]
  },
  {
   "cell_type": "code",
   "execution_count": null,
   "id": "8715894d-c88d-4590-849e-fdff7c9593d8",
   "metadata": {},
   "outputs": [],
   "source": []
  }
 ],
 "metadata": {
  "kernelspec": {
   "display_name": "Python 3 (ipykernel)",
   "language": "python",
   "name": "python3"
  },
  "language_info": {
   "codemirror_mode": {
    "name": "ipython",
    "version": 3
   },
   "file_extension": ".py",
   "mimetype": "text/x-python",
   "name": "python",
   "nbconvert_exporter": "python",
   "pygments_lexer": "ipython3",
   "version": "3.12.6"
  }
 },
 "nbformat": 4,
 "nbformat_minor": 5
}
