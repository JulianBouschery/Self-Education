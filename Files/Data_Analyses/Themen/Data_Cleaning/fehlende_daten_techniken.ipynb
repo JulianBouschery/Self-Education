{
 "cells": [
  {
   "cell_type": "markdown",
   "id": "9d6791e2-c760-492d-95af-8939c6a2ccc7",
   "metadata": {},
   "source": [
    "# Syllabus\n",
    "\n",
    "Explore various techniques for dealing with missing data, including data imputation methods."
   ]
  },
  {
   "cell_type": "markdown",
   "id": "6c497e29-854a-4f72-858e-8fd8088bf7fd",
   "metadata": {},
   "source": [
    "---\n",
    "# Einführung in Techniken zur Bereinigung fehlender Daten\n",
    "\n",
    "Erklärung:\n",
    "\n",
    "- Fehlende Daten treten in vielen Datensätzen auf und müssen bereinigt werden, um genaue Analysen zu gewährleisten.\n",
    "- Methoden zur Behandlung fehlender Daten:\n",
    "    - Entfernen: Löschen von Zeilen oder Spalten, die fehlende Werte enthalten.\n",
    "    - Imputation:\n",
    "        - Mean Imputation: Ersetzen fehlender Werte durch den Mittelwert der jeweiligen Spalte.\n",
    "        - Median Imputation: Ersetzen fehlender Werte durch den Median.\n",
    "        - Mode Imputation: Ersetzen fehlender Werte durch den häufigsten Wert (für kategoriale Daten).\n",
    "        - Vorheriger/Nächster Wert: Verwenden von Werten aus benachbarten Zeilen."
   ]
  },
  {
   "cell_type": "code",
   "execution_count": 2,
   "id": "ee6e9ec5-a9f7-4dd7-9d9f-a3866758fc46",
   "metadata": {},
   "outputs": [
    {
     "name": "stdout",
     "output_type": "stream",
     "text": [
      "\n",
      "Daten nach der Imputation:\n",
      "     age   income  gender\n",
      "0  25.00  50000.0    male\n",
      "1  30.00  54000.0  female\n",
      "2  26.25  58000.0  female\n",
      "3  22.00  56000.0  female\n",
      "4  28.00  61000.0    male\n"
     ]
    }
   ],
   "source": [
    "import pandas as pd\n",
    "\n",
    "# Beispieldaten mit fehlenden Werten\n",
    "data = {'age': [25, 30, None, 22, 28],\n",
    "        'income': [50000, 54000, 58000, None, 61000],\n",
    "        'gender': ['male', 'female', None, 'female', 'male']}\n",
    "\n",
    "df = pd.DataFrame(data)\n",
    "\n",
    "# Fehlende Werte durch den Mittelwert ersetzen (numerische Spalte)\n",
    "df['age'] = df['age'].fillna(df['age'].mean())\n",
    "\n",
    "# Fehlende Werte durch den häufigsten Wert (Mode) ersetzen (kategoriale Spalte)\n",
    "df['gender'] = df['gender'].fillna(df['gender'].mode()[0])\n",
    "\n",
    "\n",
    "# Fehlende Werte durch den Mittelwert ersetzen (numerische Spalte)\n",
    "df['income'] = df['income'].fillna(df['income'].median())\n",
    "\n",
    "\n",
    "print(\"\\nDaten nach der Imputation:\")\n",
    "print(df)"
   ]
  },
  {
   "cell_type": "markdown",
   "id": "cde85632-4188-48bb-aa4d-34351c3ac15c",
   "metadata": {},
   "source": [
    "---\n",
    "# Wann ist es besser, fehlende Werte zu entfernen, und wann sollten sie imputiert werden?\n",
    "\n",
    "Modellbasierte Imputation verwendet Machine-Learning- oder statistische Modelle, um fehlende Werte basierend auf den vorhandenen Daten vorherzusagen. Diese Methode berücksichtigt Beziehungen zwischen Variablen und erzeugt realistischere Vorhersagen als einfache Techniken wie Mittelwert- oder Medianimputation.\n",
    "\n",
    "Typische Ansätze:\n",
    "\n",
    "Regressionsbasierte Imputation: Ein Regressionsmodell sagt den fehlenden Wert auf Basis anderer Merkmale im Datensatz vorher.\n",
    "Multiple Imputation: Mehrere Modelle erzeugen verschiedene plausible Werte für die fehlenden Daten, um Unsicherheiten zu berücksichtigen.\n",
    "KNN-Imputation: Sucht nach ähnlichen Datenpunkten und nutzt deren Werte, um die fehlenden zu schätzen.\n"
   ]
  },
  {
   "cell_type": "markdown",
   "id": "962bb033-658b-4791-8f51-3ed88f003a0a",
   "metadata": {},
   "source": [
    "---\n",
    "# Welche Vor- und Nachteile haben die verschiedenen Imputationstechniken?\n",
    "\n",
    "Vorteil: Höhere Genauigkeit, da die zugrunde liegenden Beziehungen zwischen den Variablen berücksichtigt werden.\n",
    "\n",
    "Nachteil: Höhere Komplexität und Rechenaufwand."
   ]
  }
 ],
 "metadata": {
  "kernelspec": {
   "display_name": "Python 3 (ipykernel)",
   "language": "python",
   "name": "python3"
  },
  "language_info": {
   "codemirror_mode": {
    "name": "ipython",
    "version": 3
   },
   "file_extension": ".py",
   "mimetype": "text/x-python",
   "name": "python",
   "nbconvert_exporter": "python",
   "pygments_lexer": "ipython3",
   "version": "3.12.6"
  }
 },
 "nbformat": 4,
 "nbformat_minor": 5
}
