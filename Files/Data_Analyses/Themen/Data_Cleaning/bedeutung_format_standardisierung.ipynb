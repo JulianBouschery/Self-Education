{
 "cells": [
  {
   "cell_type": "markdown",
   "id": "da84f603-a8ad-4b40-8db6-44a9dfe58982",
   "metadata": {},
   "source": [
    "# Syllabus\n",
    "\n",
    "Understand the importance of data format standardization across different datasets for consistency, especially when dealing with date-time formats and numerical values."
   ]
  },
  {
   "cell_type": "markdown",
   "id": "39fd1d5b-f9dd-4b84-a40c-edffe8fd7eba",
   "metadata": {},
   "source": [
    "- Sicherstellung der Konsistenz über verschiedene Datensätze hinweg, insbesondere bei:\n",
    "    - Datum-Uhrzeit-Formaten: Unterschiede in den Formaten können zu Parsing-Problemen führen.\n",
    "    - Numerischen Werten: Sicherstellen einheitlicher Einheiten, z.B. metrisch vs. imperial.\n",
    "- Wichtigkeit: Hilft bei der Integration von Daten aus verschiedenen Quellen und vermeidet Fehler während der Analyse.\n"
   ]
  },
  {
   "cell_type": "code",
   "execution_count": 1,
   "id": "80fc0977-d019-44c0-8a8e-2117bc406e75",
   "metadata": {},
   "outputs": [
    {
     "name": "stdout",
     "output_type": "stream",
     "text": [
      "Originaler DataFrame:\n",
      "         Datum  Preis_in_Euros\n",
      "0  25.09.2023             100\n",
      "1  26.09.2023             150\n",
      "2  27.09.2023             200\n",
      "3  28.09.2023             250\n",
      "4  29.09.2023             300\n"
     ]
    }
   ],
   "source": [
    "import pandas as pd\n",
    "\n",
    "# Beispiel-Datenframe mit europäischem Datum und Preisen in Euro\n",
    "data = {\n",
    "    'Datum': ['25.09.2023', '26.09.2023', '27.09.2023', '28.09.2023', '29.09.2023'],\n",
    "    'Preis_in_Euros': [100, 150, 200, 250, 300]\n",
    "}\n",
    "\n",
    "df = pd.DataFrame(data)\n",
    "\n",
    "# Zeige den originalen DataFrame an\n",
    "print(\"Originaler DataFrame:\\n\", df)"
   ]
  },
  {
   "cell_type": "code",
   "execution_count": 2,
   "id": "3b1d0eb6-5fcd-437f-87f2-831a02b64fc0",
   "metadata": {},
   "outputs": [
    {
     "name": "stdout",
     "output_type": "stream",
     "text": [
      "Aktualisierter DataFrame:\n",
      "        Datum  Preis_in_Euros  Preis_in_USD\n",
      "0 2023-09-25             100         110.0\n",
      "1 2023-09-26             150         165.0\n",
      "2 2023-09-27             200         220.0\n",
      "3 2023-09-28             250         275.0\n",
      "4 2023-09-29             300         330.0\n"
     ]
    }
   ],
   "source": [
    "\n",
    "# Umgang mit Datum-Uhrzeit-Formaten\n",
    "df['Datum'] = pd.to_datetime(df['Datum'], format='%d.%m.%Y')\n",
    "\n",
    "# Umgang mit numerischer Formatkonsistenz (Umrechnung von Währungen)\n",
    "df['Preis_in_USD'] = df['Preis_in_Euros'] * 1.1  # Beispiel-Wechselkurs\n",
    "\n",
    "# Zeige den aktualisierten DataFrame an\n",
    "print(\"Aktualisierter DataFrame:\\n\", df)\n"
   ]
  },
  {
   "cell_type": "markdown",
   "id": "3dc9f107-edde-4205-a4e1-82a66c9edc28",
   "metadata": {},
   "source": [
    "# Warum ist es so wichtig die Daten zu standardisieren?\n",
    "\n",
    "**1. Vereinheitlichung der Maßstäbe**\n",
    "   - Unterschiedliche Merkmale können unterschiedliche Einheiten oder Maßstäbe haben (z.B. Gewicht in Kilogramm und Größe in Zentimetern).\n",
    "   - Standardisierung bringt alle Merkmale auf eine gemeinsame Skala, was die Vergleichbarkeit verbessert.\n",
    "\n",
    "<br>\n",
    "\n",
    " **2. Verbesserung der Modellleistung**\n",
    "   - Viele Algorithmen, insbesondere solche, die auf Distanzmessungen basieren (z.B. k-NN, Support Vector Machines), sind empfindlich gegenüber der Skala der Daten.\n",
    "   - Standardisierte Daten führen zu einer besseren Konvergenz und Genauigkeit in Modellen.\n",
    "\n",
    "<br>\n",
    "\n",
    " **3. Vermeidung von Verzerrungen**\n",
    "   - Merkmale mit größeren Wertebereichen können den Lernprozess dominieren und zu Verzerrungen führen.\n",
    "   - Durch Standardisierung wird sichergestellt, dass jedes Merkmal einen angemessenen Einfluss hat.\n",
    "\n",
    "<br>\n",
    "\n",
    " **4. Beschleunigung der Trainingszeiten**\n",
    "   - Standardisierte Daten können die Konvergenzgeschwindigkeit von Optimierungsalgorithmen erhöhen, was die Trainingszeiten verkürzt.\n",
    "   - Dies ist besonders wichtig bei großen Datensätzen.\n",
    "\n",
    "<br>\n",
    "\n",
    " **5. Erleichterung der Interpretation**\n",
    "   - Standardisierte Daten ermöglichen eine einfachere Interpretation von Ergebnissen, da sie in einem einheitlichen Format präsentiert werden.\n",
    "   - Es ist einfacher zu verstehen, wie stark verschiedene Merkmale die Ergebnisse beeinflussen.\n",
    "\n",
    "---"
   ]
  },
  {
   "cell_type": "code",
   "execution_count": null,
   "id": "739994bf-c663-4f31-a3ca-b0c4f0ae6ff9",
   "metadata": {},
   "outputs": [],
   "source": []
  }
 ],
 "metadata": {
  "kernelspec": {
   "display_name": "Python 3 (ipykernel)",
   "language": "python",
   "name": "python3"
  },
  "language_info": {
   "codemirror_mode": {
    "name": "ipython",
    "version": 3
   },
   "file_extension": ".py",
   "mimetype": "text/x-python",
   "name": "python",
   "nbconvert_exporter": "python",
   "pygments_lexer": "ipython3",
   "version": "3.12.6"
  }
 },
 "nbformat": 4,
 "nbformat_minor": 5
}
