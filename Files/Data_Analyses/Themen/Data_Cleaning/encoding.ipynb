{
 "cells": [
  {
   "cell_type": "markdown",
   "id": "a60d89f3-083d-483a-8291-d00fff39be31",
   "metadata": {},
   "source": [
    "# Syllabus\n",
    "\n",
    "Explain encoding categorical variables for quantitative analysis, including one-hot encoding and label encoding methods.\n",
    "\n",
    "---"
   ]
  },
  {
   "cell_type": "markdown",
   "id": "eaa9ede5-4b4e-48f2-bc47-06d576248b29",
   "metadata": {},
   "source": [
    "Kategoriale Daten können nicht direkt in numerische Modelle eingegeben werden. Sie müssen in numerische Werte umgewandelt werden."
   ]
  },
  {
   "cell_type": "markdown",
   "id": "d9eb22b1-18c7-41f1-a8d5-5f241d0af679",
   "metadata": {},
   "source": [
    "# Methoden\n",
    "\n",
    "## One-Hot-Encoding\n",
    "- erstellt für jede Kategorie eine eigene Spalte mit binären Werten (1 oder 0)\n",
    "- Beispiel:<br>\n",
    "  Für die Kategorie \"Farbe\" mit den Werten ['rot', 'blau', 'grün'] wird der Datensatz in drei Spalten umgewandelt:\n",
    "\n",
    "| rot | blau | grün |\n",
    "| --- | ---- | ---- |\n",
    "|  1  |  0   |  0   |\n",
    "|  0  |  1   |  0   |\n",
    "|  0  |  0   |  1   |"
   ]
  },
  {
   "cell_type": "markdown",
   "id": "543a7552-9a54-4fd0-bc5a-35d29ac5e65c",
   "metadata": {},
   "source": [
    "## Label-Encoding\n",
    "\n",
    "- weist jeder Kategorie eine numerische Zahl zu\n",
    "- Beispiel:<br>\n",
    "  ['rot', 'blau', 'grün'] wird in [0, 1, 2] umgewandelt\n",
    "\n",
    "<br>\n",
    "\n",
    "## Beispiel"
   ]
  },
  {
   "cell_type": "code",
   "execution_count": null,
   "id": "ac52c9d2-92ed-46b3-8bb1-e08ea9dc6b26",
   "metadata": {},
   "outputs": [],
   "source": [
    "from sklearn.preprocessing import OneHotEncoder, LabelEncoder\n",
    "import pandas as pd\n",
    "\n",
    "# Beispieldaten\n",
    "data = {'color': ['red', 'blue', 'green', 'blue', 'red']}\n",
    "df = pd.DataFrame(data)\n",
    "\n",
    "# Label-Encoding\n",
    "label_encoder = LabelEncoder()\n",
    "df['color_label'] = label_encoder.fit_transform(df['color'])\n",
    "\n",
    "# One-Hot-Encoding\n",
    "one_hot_encoder = OneHotEncoder(sparse_output=False)  # Korrektur hier\n",
    "color_one_hot = one_hot_encoder.fit_transform(df[['color']])\n",
    "color_df = pd.DataFrame(color_one_hot, columns=one_hot_encoder.categories_[0])\n",
    "\n",
    "# Zusammenfügen der Kodierung\n",
    "df = pd.concat([df, color_df], axis=1)\n",
    "\n",
    "print(\"\\nDaten nach Label-Encoding und One-Hot-Encoding:\")\n",
    "print(df)\n"
   ]
  },
  {
   "cell_type": "markdown",
   "id": "179457bf-fe02-4e60-b0ad-c277e6335ccc",
   "metadata": {},
   "source": [
    "# Wann One-Hot-Encoding, wann Label-Encoding?\n",
    "\n",
    "\n",
    "## One-Hot-Encoding\n",
    "- wenn die Kategorien **keine natürliche Reihenfolge** haben bzw. **keine Ordnung** zwischen den Kategorien besteht\n",
    "- z.B. Farben (\"Rot\", \"Blau\", \"Grün\"), Länder, Wochentage...\n",
    "- verhindert, dass das Modell eine falsche Reihenfolge oder numerische Bedeutung der Kategorien annimmt, da es jede Kategorie in eine separate Binärspalte umwandelt\n",
    "- besonders wichtig für Algorithmen, die numerische Beziehungen interpretieren (z.B. lineare Regression)\n",
    "\n",
    "**Vorteile**:\n",
    "- vermeidet irreführende numerische Beziehungen\n",
    "- gut geeignet für Modelle, die keine numerische Ordnung zwischen Kategorien benötigen\n",
    "\n",
    "**Nachteile**:\n",
    "- kann bei vielen Kategorien zu einer hohen Anzahl von Spalten führen (\"Dimensionsfluch\")\n",
    "\n",
    "<br>\n",
    "\n",
    "## Label-Encoding\n",
    "- wenn die Kategorien eine **natürliche Reihenfolge** haben\n",
    "- z.B. Schulnoten (A, B, C, D), Bewertungen (\"niedrig\", \"mittel\", \"hoch\")\n",
    "- weist jeder Kategorie eine Zahl zu, was eine sinnvolle Reihenfolge widerspiegelt\n",
    "- kann bei Entscheidungsbäumen oder anderen Algorithmen hilfreich sein, die keine falschen Annahmen über numerische Beziehungen treffen\n",
    "\n",
    "**Vorteile**:\n",
    "- Einfach und effizient (kein Platzproblem durch viele Spalten).\n",
    "- Geeignet für geordnete Kategorien, bei denen die Zahlenvergabe eine Bedeutung hat.\n",
    "\n",
    "**Nachteile**:\n",
    "- Falsche Verwendung kann das Modell irreführen, wenn keine echte Ordnung existiert\n",
    "- Modell kann den numerischen Unterschied zwischen den Labels als relevant betrachten, was bei nominalen Daten zu falschen Annahmen führt\n",
    "- bei ordinalen Daten ok, aber für nominale Daten problematisch\n",
    "\n",
    "---"
   ]
  },
  {
   "cell_type": "markdown",
   "id": "f129c451-8c72-4ac1-8af2-79ff2588a810",
   "metadata": {},
   "source": [
    "# Herausforderungen\n",
    "\n",
    "\n",
    "## 1. Hohe Dimensionalität (One-Hot-Encoding)\n",
    "   - **Problem**: Erzeugt viele Spalten bei zahlreichen Kategorien, was zu Berechnungsaufwand und dem \"Dimensionsfluch\" führen kann.\n",
    "   - **Lösung**: Dimension reduzieren durch Target-Encoding oder Feature Hashing.\n",
    "\n",
    "<br>\n",
    "\n",
    "## 2. Falsche Annahme einer Reihenfolge (Label-Encoding)\n",
    "   - **Problem**: Weist numerische Werte zu, die eine implizite Reihenfolge suggerieren, was zu Verzerrungen führt.\n",
    "   - **Lösung**: One-Hot-Encoding bei nicht geordneten Kategorien verwenden.\n",
    "\n",
    "<br>\n",
    "\n",
    "## 3. Overfitting bei Target-Encoding\n",
    "   - **Problem**: Bei kleinen Datensätzen besteht das Risiko, dass das Modell die Zielwerte zu stark auf die Kategorien kodiert.\n",
    "   - **Lösung**: Cross-Validation oder Regularisierung nutzen.\n",
    "\n",
    "<br>\n",
    "\n",
    "## 4. Seltene Kategorien\n",
    "   - **Problem**: Seltene Kategorien können Verzerrungen verursachen oder zu vielen Nullen in One-Hot-Encoding führen.\n",
    "   - **Lösung**: Seltene Kategorien zusammenfassen oder Frequency-Encoding verwenden.\n",
    "\n",
    "<br>\n",
    "\n",
    "## 5. Inkompatibilität mit Algorithmen\n",
    "   - **Problem**: Einige Algorithmen benötigen keine spezielle Kodierung, und falsche Kodierung kann unnötige Komplexität erzeugen.\n",
    "   - **Lösung**: Die Anforderungen des verwendeten Modells prüfen.\n",
    "\n",
    "<br>\n",
    "\n",
    "## 6. Unbekannte Kategorien in neuen Daten\n",
    "   - **Problem**: Neue Kategorien, die im Training nicht gesehen wurden, führen zu Fehlern.\n",
    "   - **Lösung**: Fallback-Werte für unbekannte Kategorien festlegen.\n",
    "\n",
    "---"
   ]
  },
  {
   "cell_type": "markdown",
   "id": "8cc9cd2a-8c9d-451e-9e99-b14405ebbd65",
   "metadata": {},
   "source": [
    "# Beispiel\n",
    "\n",
    "Verwendung der Min-Max-Skalierung und One-Hot-Encoding auf einem Beispiel-Datensatz:"
   ]
  },
  {
   "cell_type": "code",
   "execution_count": null,
   "id": "a082134c-9e3c-49b5-818f-08a651478857",
   "metadata": {},
   "outputs": [],
   "source": [
    "# Datensatz für die Übung\n",
    "\n",
    "import pandas as pd\n",
    "from sklearn.preprocessing import MinMaxScaler, OneHotEncoder\n",
    "\n",
    "# Beispiel-Datensatz mit numerischen und kategorialen Variablen\n",
    "data = {\n",
    "    'age': [25, 30, 35, 40, 45],\n",
    "    'income': [50000, 60000, 70000, 80000, 90000],\n",
    "    'city': ['Berlin', 'Munich', 'Berlin', 'Hamburg', 'Munich']\n",
    "}\n",
    "\n",
    "df = pd.DataFrame(data)\n",
    "\n",
    "print(\"Originaler Datensatz:\")\n",
    "print(df)"
   ]
  },
  {
   "cell_type": "code",
   "execution_count": null,
   "id": "04517e1c-87a1-4ac8-8663-679ce9236f70",
   "metadata": {},
   "outputs": [],
   "source": [
    "# Min-Max-Skalierung für die numerischen Spalten 'age' und 'income'\n",
    "scaler = MinMaxScaler()\n",
    "\n",
    "df[['age_scaled', 'income_scaled']] = scaler.fit_transform(df[['age', 'income']])\n",
    "\n",
    "print(\"\\nDatensatz nach Min-Max-Skalierung:\")\n",
    "print(df[['age', 'income', 'age_scaled', 'income_scaled']])"
   ]
  },
  {
   "cell_type": "code",
   "execution_count": null,
   "id": "5b3e4b58-b795-4e70-9a7e-b2f3ec90de13",
   "metadata": {},
   "outputs": [],
   "source": [
    "# One-Hot-Encoding für die kategoriale Spalte 'city'\n",
    "one_hot_encoder = OneHotEncoder(sparse_output=False)\n",
    "city_one_hot = one_hot_encoder.fit_transform(df[['city']])\n",
    "\n",
    "\n",
    "print(city_one_hot)\n",
    "# One-Hot-kodierte Spalten zu DataFrame hinzufügen\n",
    "city_df = pd.DataFrame(city_one_hot, columns=one_hot_encoder.categories_[0])\n",
    "\n",
    "# one_hot_encoder.categories_ ist ein Attribut des OneHotEncoders, das die Kategorien für jede Eingabevariable enthält, die kodiert wurde. \n",
    "# categories_[0] bezieht sich auf das erste Array (d. h. die Kategorien für die erste Spalte, die One-Hot-kodiert wurde).\n",
    "\n",
    "df = pd.concat([df, city_df], axis=1)\n",
    "\n",
    "print(\"\\nDatensatz nach One-Hot-Encoding:\")\n",
    "print(df)\n"
   ]
  }
 ],
 "metadata": {
  "kernelspec": {
   "display_name": "Python 3 (ipykernel)",
   "language": "python",
   "name": "python3"
  },
  "language_info": {
   "codemirror_mode": {
    "name": "ipython",
    "version": 3
   },
   "file_extension": ".py",
   "mimetype": "text/x-python",
   "name": "python",
   "nbconvert_exporter": "python",
   "pygments_lexer": "ipython3",
   "version": "3.12.6"
  }
 },
 "nbformat": 4,
 "nbformat_minor": 5
}
