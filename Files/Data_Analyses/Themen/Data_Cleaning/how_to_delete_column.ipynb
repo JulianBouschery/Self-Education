{
 "cells": [
  {
   "cell_type": "markdown",
   "id": "8e9f7638-aa87-41e3-97bf-3d3031336733",
   "metadata": {},
   "source": [
    "# Das Löschen von Zeilen und Spalten"
   ]
  },
  {
   "cell_type": "markdown",
   "id": "fa4aa38a-cf98-4ed1-9535-8990f97e7edd",
   "metadata": {},
   "source": [
    "[df.drop_duplicates()](../../Zentral_Ordner/Funktionen_und_Methoden/df.drop_duplicates.ipynb)"
   ]
  },
  {
   "cell_type": "markdown",
   "id": "f03031f1-f388-448b-82cc-ce26b1f3fe60",
   "metadata": {},
   "source": [
    "[df.drop()](../../Zentral_Ordner/Funktionen_und_Methoden/df.drop.ipynb)"
   ]
  },
  {
   "cell_type": "code",
   "execution_count": null,
   "id": "c5d22b2e-8578-49ad-98d7-a08b173bd3e5",
   "metadata": {},
   "outputs": [],
   "source": []
  }
 ],
 "metadata": {
  "kernelspec": {
   "display_name": "Python 3 (ipykernel)",
   "language": "python",
   "name": "python3"
  },
  "language_info": {
   "codemirror_mode": {
    "name": "ipython",
    "version": 3
   },
   "file_extension": ".py",
   "mimetype": "text/x-python",
   "name": "python",
   "nbconvert_exporter": "python",
   "pygments_lexer": "ipython3",
   "version": "3.12.6"
  }
 },
 "nbformat": 4,
 "nbformat_minor": 5
}
