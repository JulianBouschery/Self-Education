{
 "cells": [
  {
   "cell_type": "markdown",
   "id": "b40762b2-5da7-4071-a076-e3f89bc85632",
   "metadata": {
    "editable": true,
    "slideshow": {
     "slide_type": ""
    },
    "tags": []
   },
   "source": [
    "# Syllabus\n",
    "\n",
    "Analyze datasets by grouping data using groupby and creating pivot/cross tables for enhanced data comprehension."
   ]
  },
  {
   "cell_type": "markdown",
   "id": "ab19b75b-88e9-4092-b733-aa7fd21ca459",
   "metadata": {
    "editable": true,
    "slideshow": {
     "slide_type": ""
    },
    "tags": []
   },
   "source": [
    "# Gruppierung mit `groupby`\n",
    "`groupby` ermöglicht es, Daten nach bestimmten Kategorien zu gruppieren und darauf Aggregatfunktionen (z.B. **Mittelwert**, **Summe**, **Anzahl**) anzuwenden.\n",
    "\n",
    "Dieses Beispiel gruppiert die Daten nach der Spalte `Kategorie` und berechnet den Mittelwert der Werte für jede Gruppe:"
   ]
  },
  {
   "cell_type": "code",
   "execution_count": 5,
   "id": "37f33224-afcd-4311-b818-95b0adddd50f",
   "metadata": {
    "editable": true,
    "slideshow": {
     "slide_type": ""
    },
    "tags": []
   },
   "outputs": [
    {
     "data": {
      "text/plain": [
       "Kategorie\n",
       "A    23.333333\n",
       "B    30.000000\n",
       "C    30.000000\n",
       "Name: Wert, dtype: float64"
      ]
     },
     "execution_count": 5,
     "metadata": {},
     "output_type": "execute_result"
    }
   ],
   "source": [
    "import pandas as pd\n",
    "\n",
    "# Beispiel-Datensatz\n",
    "daten = {'Kategorie': ['A', 'B', 'A', 'B', 'A', 'C'],\n",
    "         'Wert': [10, 20, 10, 40, 50, 30]}\n",
    "\n",
    "df = pd.DataFrame(daten)\n",
    "\n",
    "# Gruppieren nach 'Kategorie' und Berechnung des Mittelwerts\n",
    "gruppiert = df.groupby('Kategorie')['Wert'].mean()\n",
    "\n",
    "gruppiert\n"
   ]
  },
  {
   "cell_type": "markdown",
   "id": "6a1d47d9-f266-4e84-9760-f8d0f019de58",
   "metadata": {
    "editable": true,
    "slideshow": {
     "slide_type": ""
    },
    "tags": []
   },
   "source": [
    "# Pivot-Tabellen\n",
    "\n",
    "- leistungsfähiges Werkzeug zur Datenanalyse und -zusammenfassung\n",
    "- häufig in Tabellenkalkulationsprogrammen wie Excel oder in Bibliotheken wie Pandas verwendet\n",
    "- große Datensätze lassen sich strukturieren und verdichten, indem man die Daten nach verschiedenen Dimensionen gruppiert und aggregiert\n",
    "- Daten werden zusammengefasst, indem man eine Matrix aus Zeilen- und Spaltenwerten erstellt (ähnlich wie in Excel)\n",
    "- dabei können auch Aggregatfunktionen wie Summe oder Mittelwert verwendet werden\n",
    "\n",
    "\n",
    "Hier wird eine Pivot-Tabelle erstellt, die den Umsatz nach `Region` und `Produkt` zusammenfasst:"
   ]
  },
  {
   "cell_type": "code",
   "execution_count": 8,
   "id": "4b13dd36-e744-4805-94cd-a8ef1460bb04",
   "metadata": {
    "editable": true,
    "slideshow": {
     "slide_type": ""
    },
    "tags": []
   },
   "outputs": [
    {
     "data": {
      "text/html": [
       "<div>\n",
       "<style scoped>\n",
       "    .dataframe tbody tr th:only-of-type {\n",
       "        vertical-align: middle;\n",
       "    }\n",
       "\n",
       "    .dataframe tbody tr th {\n",
       "        vertical-align: top;\n",
       "    }\n",
       "\n",
       "    .dataframe thead th {\n",
       "        text-align: right;\n",
       "    }\n",
       "</style>\n",
       "<table border=\"1\" class=\"dataframe\">\n",
       "  <thead>\n",
       "    <tr style=\"text-align: right;\">\n",
       "      <th>Produkt</th>\n",
       "      <th>A</th>\n",
       "      <th>B</th>\n",
       "    </tr>\n",
       "    <tr>\n",
       "      <th>Region</th>\n",
       "      <th></th>\n",
       "      <th></th>\n",
       "    </tr>\n",
       "  </thead>\n",
       "  <tbody>\n",
       "    <tr>\n",
       "      <th>Nord</th>\n",
       "      <td>100</td>\n",
       "      <td>150</td>\n",
       "    </tr>\n",
       "    <tr>\n",
       "      <th>Ost</th>\n",
       "      <td>120</td>\n",
       "      <td>180</td>\n",
       "    </tr>\n",
       "    <tr>\n",
       "      <th>Süd</th>\n",
       "      <td>200</td>\n",
       "      <td>300</td>\n",
       "    </tr>\n",
       "  </tbody>\n",
       "</table>\n",
       "</div>"
      ],
      "text/plain": [
       "Produkt    A    B\n",
       "Region           \n",
       "Nord     100  150\n",
       "Ost      120  180\n",
       "Süd      200  300"
      ]
     },
     "execution_count": 8,
     "metadata": {},
     "output_type": "execute_result"
    }
   ],
   "source": [
    "# Beispiel-Datensatz\n",
    "daten = {'Region': ['Nord', 'Süd', 'Nord', 'Süd', 'Ost', 'Ost'],\n",
    "         'Produkt': ['A', 'A', 'B', 'B', 'A', 'B'],\n",
    "         'Umsatz': [100, 200, 150, 300, 120, 180]}\n",
    "\n",
    "df = pd.DataFrame(daten)\n",
    "\n",
    "# Pivot-Tabelle erstellen\n",
    "pivot = pd.pivot_table(df, values='Umsatz', index='Region', columns='Produkt', aggfunc='sum')\n",
    "\n",
    "pivot"
   ]
  },
  {
   "cell_type": "markdown",
   "id": "9202726f-2366-45d8-a2ad-2f419716c835",
   "metadata": {
    "editable": true,
    "slideshow": {
     "slide_type": ""
    },
    "tags": []
   },
   "source": [
    "# Kreuztabellen (Häufigkeitstabelle für Kategorien)\n",
    "\n",
    "Kreuztabellen sind nützlich, um die Verteilung von Kategorien in Bezug auf andere Kategorien zu untersuchen. Sie sind besonders praktisch, wenn du kategoriale Daten analysierst.\n",
    "\n",
    "- spezielle Pivot-Tabellen\n",
    "- häufig verwendet, um Häufigkeit von Kombinationen von Werten aus zwei verschiedenen Spalten darzustellen\n",
    "- zeigen die Verteilung von Kategorien gegenüber anderen Kategorien\n",
    "\n",
    "Die Kreuztabelle zeigt die Anzahl der Vorkommen von Produkten in verschiedenen Regionen:"
   ]
  },
  {
   "cell_type": "code",
   "execution_count": 9,
   "id": "abc620ae-0d0c-44b3-b89d-fe25d9b56517",
   "metadata": {
    "editable": true,
    "slideshow": {
     "slide_type": ""
    },
    "tags": []
   },
   "outputs": [
    {
     "name": "stdout",
     "output_type": "stream",
     "text": [
      "Produkt  A  B\n",
      "Region       \n",
      "Nord     1  1\n",
      "Ost      1  1\n",
      "Süd      1  1\n"
     ]
    }
   ],
   "source": [
    "# Kreuztabelle erstellen\n",
    "kreuztabelle = pd.crosstab(df['Region'], df['Produkt'])\n",
    "\n",
    "print(kreuztabelle)"
   ]
  },
  {
   "cell_type": "markdown",
   "id": "54797f3e-b86f-4a2d-be42-e3aa28654f54",
   "metadata": {
    "editable": true,
    "slideshow": {
     "slide_type": ""
    },
    "tags": []
   },
   "source": [
    "# Beispiel\n"
   ]
  },
  {
   "cell_type": "code",
   "execution_count": 4,
   "id": "14e527c7-bd69-4ca2-841b-d101ac6d34d3",
   "metadata": {},
   "outputs": [
    {
     "name": "stdout",
     "output_type": "stream",
     "text": [
      "Spaltennamen des DataFrames:\n",
      "Index(['PassengerId', 'Survived', 'Pclass', 'Name', 'Sex', 'Age', 'SibSp',\n",
      "       'Parch', 'Ticket', 'Fare', 'Cabin', 'Embarked'],\n",
      "      dtype='object')\n",
      "   PassengerId  Survived  Pclass                                                 Name     Sex   Age  SibSp  Parch            Ticket     Fare Cabin Embarked\n",
      "0            1         0       3                              Braund, Mr. Owen Harris    male  22.0      1      0         A/5 21171   7.2500   NaN        S\n",
      "1            2         1       1  Cumings, Mrs. John Bradley (Florence Briggs Thayer)  female  38.0      1      0          PC 17599  71.2833   C85        C\n",
      "2            3         1       3                               Heikkinen, Miss. Laina  female  26.0      0      0  STON/O2. 3101282   7.9250   NaN        S\n",
      "3            4         1       1         Futrelle, Mrs. Jacques Heath (Lily May Peel)  female  35.0      1      0            113803  53.1000  C123        S\n",
      "4            5         0       3                             Allen, Mr. William Henry    male  35.0      0      0            373450   8.0500   NaN        S\n",
      "\n",
      "                                                  Name   Age     Sex     Fare\n",
      "0                              Braund, Mr. Owen Harris  22.0    male   7.2500\n",
      "1  Cumings, Mrs. John Bradley (Florence Briggs Thayer)  38.0  female  71.2833\n",
      "2                               Heikkinen, Miss. Laina  26.0  female   7.9250\n",
      "3         Futrelle, Mrs. Jacques Heath (Lily May Peel)  35.0  female  53.1000\n",
      "4                             Allen, Mr. William Henry  35.0    male   8.0500\n",
      "\n",
      "                                Name   Age     Sex     Fare\n",
      "803  Thomas, Master. Assad Alexander  0.42    male   8.5167\n",
      "755        Hamalainen, Master. Viljo  0.67    male  14.5000\n",
      "644           Baclini, Miss. Eugenie  0.75  female  19.2583\n",
      "469    Baclini, Miss. Helene Barbara  0.75  female  19.2583\n",
      "78     Caldwell, Master. Alden Gates  0.83    male  29.0000\n",
      "\n",
      "Sex\n",
      "female    44.479818\n",
      "male      25.523893\n",
      "Name: Fare, dtype: float64\n",
      "\n",
      "Survived          0          1\n",
      "Sex                           \n",
      "female    23.024385  51.938573\n",
      "male      21.960993  40.821484\n",
      "\n",
      "Survived    0    1\n",
      "Sex               \n",
      "female     81  233\n",
      "male      468  109\n",
      "\n",
      "count    891.000000\n",
      "mean      32.204208\n",
      "std       49.693429\n",
      "min        0.000000\n",
      "25%        7.910400\n",
      "50%       14.454200\n",
      "75%       31.000000\n",
      "max      512.329200\n",
      "Name: Fare, dtype: float64\n",
      "\n",
      "Mean Fare: 32.204207968574636, Standard Deviation Fare: 49.6655344447741\n",
      "\n"
     ]
    }
   ],
   "source": [
    "# Zunächst: Installiere und importiere Pandas und NumPy\n",
    "import pandas as pd\n",
    "import numpy as np\n",
    "\n",
    "# Laden eines Beispiel-Datensatzes\n",
    "url = 'https://raw.githubusercontent.com/datasciencedojo/datasets/master/titanic.csv'\n",
    "df = pd.read_csv(url)\n",
    "\n",
    "# Ausgabe der Spaltennamen\n",
    "print(\"Spaltennamen des DataFrames:\")\n",
    "print(df.columns)\n",
    "\n",
    "\n",
    "# Sicherstellen, dass alle Spalten angezeigt werden\n",
    "# Sicherstellen, dass alle Spalten und alle Daten angezeigt werden\n",
    "pd.set_option('display.max_columns', None)  # Alle Spalten anzeigen\n",
    "pd.set_option('display.max_colwidth', None)  # Spaltenbreite anpassen\n",
    "pd.set_option('display.expand_frame_repr', False)  # Verhindert Zeilenumbruch bei vielen Spalten\n",
    "\n",
    "print(df.head())\n",
    "\n",
    "print()\n",
    "# **1. Subsetting und Sorting**\n",
    "\n",
    "# Subsetting: Auswahl von spezifischen Spalten\n",
    "df_subset = df[['Name', 'Age', 'Sex', 'Fare']]\n",
    "print(df_subset.head())\n",
    "print()\n",
    "# Sorting: Sortieren nach Alterswerten\n",
    "df_sorted = df_subset.sort_values(by='Age')\n",
    "print(df_sorted.head())\n",
    "print()\n",
    "# **2. Grouping und Pivot-Tabellen**\n",
    "\n",
    "# GroupBy: Durchschnittliches Fahrgeld (Fare) pro Geschlecht\n",
    "grouped = df.groupby('Sex')['Fare'].mean()\n",
    "print(grouped)\n",
    "print()\n",
    "# Pivot-Table: Zeigt den Durchschnitt der Fahrpreise in Bezug auf Geschlecht und Überleben\n",
    "pivot_table = df.pivot_table('Fare', index='Sex', columns='Survived', aggfunc='mean')\n",
    "print(pivot_table)\n",
    "print()\n",
    "# Cross-Tabelle: Häufigkeit der Überlebenden basierend auf Geschlecht\n",
    "cross_tab = pd.crosstab(df['Sex'], df['Survived'])\n",
    "print(cross_tab)\n",
    "print()\n",
    "# **3. Deskriptive Statistik mit Pandas und NumPy**\n",
    "\n",
    "# Deskriptive Statistik mit Pandas\n",
    "print(df['Fare'].describe())\n",
    "print()\n",
    "# Deskriptive Statistik mit NumPy\n",
    "mean_fare = np.mean(df['Fare'])\n",
    "std_fare = np.std(df['Fare'])\n",
    "print(f\"Mean Fare: {mean_fare}, Standard Deviation Fare: {std_fare}\")\n",
    "print()"
   ]
  }
 ],
 "metadata": {
  "kernelspec": {
   "display_name": "Python 3 (ipykernel)",
   "language": "python",
   "name": "python3"
  },
  "language_info": {
   "codemirror_mode": {
    "name": "ipython",
    "version": 3
   },
   "file_extension": ".py",
   "mimetype": "text/x-python",
   "name": "python",
   "nbconvert_exporter": "python",
   "pygments_lexer": "ipython3",
   "version": "3.12.6"
  }
 },
 "nbformat": 4,
 "nbformat_minor": 5
}
