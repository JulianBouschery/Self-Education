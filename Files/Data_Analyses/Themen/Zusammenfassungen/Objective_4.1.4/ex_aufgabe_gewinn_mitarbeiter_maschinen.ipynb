{
 "cells": [
  {
   "cell_type": "markdown",
   "metadata": {},
   "source": [
    " ## Aufgabe\n",
    "\n",
    " Sie sollen den Datensatz  gewinn_mitarbeiter_maschinen.csv einlesen und analysieren\n",
    "\n",
    " 1.) Welche Spalten hat der Datensatz\n",
    "\n",
    " 2.) Durchschnittsanzahl der Mitarbeiter und Maschinen\n",
    "\n",
    "  3.) Machen Sie weitere Analysen\n",
    "\n"
   ]
  },
  {
   "cell_type": "code",
   "execution_count": null,
   "metadata": {
    "jupyter": {
     "source_hidden": true
    }
   },
   "outputs": [],
   "source": [
    "# Lösung\n",
    "\n",
    "# Einlesen der CSV-Datei\n",
    "df = pd.read_csv('gewinn_mitarbeiter_maschinen.csv')\n",
    "\n",
    "\n",
    "import pandas as pd\n",
    "\n",
    "# Einlesen der CSV-Datei\n",
    "df = pd.read_csv('gewinn_mitarbeiter_maschinen.csv')\n",
    "\n",
    "# 1.) Welche Spalten hat der Datensatz?\n",
    "print(\"Spaltennamen des DataFrames:\")\n",
    "print(df.columns)\n",
    "\n",
    "# 2.) Durchschnittsanzahl der Mitarbeiter und Maschinen\n",
    "if 'Mitarbeiter' in df.columns and 'Maschinen' in df.columns:\n",
    "    durchschnitt_mitarbeiter = df['Mitarbeiter'].mean()\n",
    "    durchschnitt_maschinen = df['Maschinen'].mean()\n",
    "    \n",
    "    print(\"\\nDurchschnittliche Anzahl der Mitarbeiter:\", durchschnitt_mitarbeiter)\n",
    "    print(\"Durchschnittliche Anzahl der Maschinen:\", durchschnitt_maschinen)\n",
    "else:\n",
    "    print(\"Die Spalten 'Mitarbeiter' und/oder 'Maschinen' sind im Datensatz nicht vorhanden.\")\n",
    "\n",
    "# 3.) Weitere Analysen\n",
    "\n",
    "# a) Grundlegende Informationen über den Datensatz\n",
    "print(\"\\nGrundlegende Informationen:\")\n",
    "print(df.info())\n",
    "\n",
    "# b) Statistische Zusammenfassung der numerischen Spalten\n",
    "print(\"\\nStatistische Zusammenfassung:\")\n",
    "print(df.describe())\n",
    "\n",
    "# c) Überprüfung auf fehlende Werte\n",
    "print(\"\\nÜberprüfung auf fehlende Werte:\")\n",
    "print(df.isnull().sum())\n",
    "\n",
    "# d) Korrelation zwischen den numerischen Spalten\n",
    "print(\"\\nKorrelation zwischen den numerischen Spalten:\")\n",
    "print(df.corr())\n",
    "\n",
    "# e) Anzahl der verschiedenen Kategorien in einer hypothetischen 'Region'-Spalte\n",
    "if 'Region' in df.columns:\n",
    "    print(\"\\nAnzahl der verschiedenen Kategorien in der 'Region'-Spalte:\")\n",
    "    print(df['Region'].value_counts())\n",
    "else:\n",
    "    print(\"\\nDie Spalte 'Region' ist nicht im Datensatz vorhanden.\")\n",
    "\n",
    "# Speichere die Ergebnisse in einer neuen Datei\n",
    "df.to_csv('gewinn_mitarbeiter_maschinen_analysiert.csv', index=False)\n"
   ]
  },
  {
   "cell_type": "code",
   "execution_count": null,
   "metadata": {},
   "outputs": [],
   "source": []
  }
 ],
 "metadata": {
  "kernelspec": {
   "display_name": "Python 3 (ipykernel)",
   "language": "python",
   "name": "python3"
  },
  "language_info": {
   "codemirror_mode": {
    "name": "ipython",
    "version": 3
   },
   "file_extension": ".py",
   "mimetype": "text/x-python",
   "name": "python",
   "nbconvert_exporter": "python",
   "pygments_lexer": "ipython3",
   "version": "3.12.6"
  }
 },
 "nbformat": 4,
 "nbformat_minor": 4
}
