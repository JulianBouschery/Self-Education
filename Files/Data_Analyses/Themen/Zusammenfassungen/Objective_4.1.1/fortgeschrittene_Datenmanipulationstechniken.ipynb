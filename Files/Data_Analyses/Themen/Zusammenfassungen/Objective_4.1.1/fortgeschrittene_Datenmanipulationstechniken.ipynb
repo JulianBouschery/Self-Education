{
 "cells": [
  {
   "cell_type": "markdown",
   "id": "d307a95a-3dd9-4f48-81ce-ff63951db0cb",
   "metadata": {},
   "source": [
    "# Syllabus"
   ]
  },
  {
   "cell_type": "markdown",
   "id": "da628399-7c82-4c0e-b3d9-d5ba95776824",
   "metadata": {},
   "source": [
    "Apply advanced data manipulation techniques such as merging, joining, and reshaping data frames."
   ]
  },
  {
   "cell_type": "markdown",
   "id": "c72e1e20-958d-4c73-a890-e4baf37f252b",
   "metadata": {},
   "source": [
    "# Zusammenführen von DataFrames"
   ]
  },
  {
   "cell_type": "markdown",
   "id": "52fe9d88-873e-48d7-b501-2503f345d306",
   "metadata": {
    "editable": true,
    "slideshow": {
     "slide_type": ""
    },
    "tags": []
   },
   "source": [
    "## Merging"
   ]
  },
  {
   "cell_type": "markdown",
   "id": "f5b763bf-672d-45d5-ad34-3b44908a14b8",
   "metadata": {
    "editable": true,
    "slideshow": {
     "slide_type": ""
    },
    "tags": []
   },
   "source": [
    "**Merging** kombiniert DataFrames basierend auf gemeinsamen Spalten und ist vergleichbar mit einem SQL-Join.<br>"
   ]
  },
  {
   "cell_type": "markdown",
   "id": "009f2d90-4452-44de-b106-8f4a72187d76",
   "metadata": {
    "editable": true,
    "slideshow": {
     "slide_type": ""
    },
    "tags": []
   },
   "source": [
    "### einfaches Mergen"
   ]
  },
  {
   "cell_type": "markdown",
   "id": "ab821460-1c0f-4fc1-acda-ecd1d6df1d31",
   "metadata": {
    "editable": true,
    "slideshow": {
     "slide_type": ""
    },
    "tags": []
   },
   "source": [
    "Hier wird ein **inner join** durchgeführt, d.h. nur die Zeilen mit gemeinsamen `ID`s werden beibehalten. Andere Join-Optionen wären \n",
    "- **left**\n",
    "- **right**\n",
    "- **outer**"
   ]
  },
  {
   "cell_type": "code",
   "execution_count": 29,
   "id": "08e62f99-e90a-4105-8d39-35dd580ffdce",
   "metadata": {
    "editable": true,
    "slideshow": {
     "slide_type": ""
    },
    "tags": []
   },
   "outputs": [
    {
     "data": {
      "text/html": [
       "<div>\n",
       "<style scoped>\n",
       "    .dataframe tbody tr th:only-of-type {\n",
       "        vertical-align: middle;\n",
       "    }\n",
       "\n",
       "    .dataframe tbody tr th {\n",
       "        vertical-align: top;\n",
       "    }\n",
       "\n",
       "    .dataframe thead th {\n",
       "        text-align: right;\n",
       "    }\n",
       "</style>\n",
       "<table border=\"1\" class=\"dataframe\">\n",
       "  <thead>\n",
       "    <tr style=\"text-align: right;\">\n",
       "      <th></th>\n",
       "      <th>ID</th>\n",
       "      <th>Name</th>\n",
       "      <th>Score</th>\n",
       "    </tr>\n",
       "  </thead>\n",
       "  <tbody>\n",
       "    <tr>\n",
       "      <th>0</th>\n",
       "      <td>3</td>\n",
       "      <td>Clara</td>\n",
       "      <td>85</td>\n",
       "    </tr>\n",
       "    <tr>\n",
       "      <th>1</th>\n",
       "      <td>4</td>\n",
       "      <td>David</td>\n",
       "      <td>90</td>\n",
       "    </tr>\n",
       "  </tbody>\n",
       "</table>\n",
       "</div>"
      ],
      "text/plain": [
       "   ID   Name  Score\n",
       "0   3  Clara     85\n",
       "1   4  David     90"
      ]
     },
     "execution_count": 29,
     "metadata": {},
     "output_type": "execute_result"
    }
   ],
   "source": [
    "import pandas as pd\n",
    "\n",
    "# Erstellen zweier DataFrames\n",
    "df1 = pd.DataFrame({\n",
    "    'ID': [1, 2, 3, 4],\n",
    "    'Name': ['Anna', 'Ben', 'Clara', 'David']\n",
    "})\n",
    "\n",
    "df2 = pd.DataFrame({\n",
    "    'ID': [3, 4, 5, 6],\n",
    "    'Score': [85, 90, 95, 80]\n",
    "})\n",
    "\n",
    "# Merging (inner join)\n",
    "merged_df_a = pd.merge(df1, df2, on='ID', how='inner')\n",
    "merged_df_a"
   ]
  },
  {
   "cell_type": "markdown",
   "id": "3da143a1-2425-4e26-b09e-8700a4da84f4",
   "metadata": {
    "editable": true,
    "slideshow": {
     "slide_type": ""
    },
    "tags": []
   },
   "source": [
    "### Merging mit mehreren Schlüsselspalten"
   ]
  },
  {
   "cell_type": "markdown",
   "id": "3dd5bbcf-86a0-46ab-aa53-033816d50c3a",
   "metadata": {
    "editable": true,
    "slideshow": {
     "slide_type": ""
    },
    "tags": []
   },
   "source": [
    "In diesem Beispiel führen wir das **Merging** über zwei Schlüsselspalten durch: Vorname und Nachname."
   ]
  },
  {
   "cell_type": "code",
   "execution_count": 30,
   "id": "9b38818c-f073-402f-8bf4-4aaa16d79ca2",
   "metadata": {
    "editable": true,
    "slideshow": {
     "slide_type": ""
    },
    "tags": []
   },
   "outputs": [
    {
     "data": {
      "text/html": [
       "<div>\n",
       "<style scoped>\n",
       "    .dataframe tbody tr th:only-of-type {\n",
       "        vertical-align: middle;\n",
       "    }\n",
       "\n",
       "    .dataframe tbody tr th {\n",
       "        vertical-align: top;\n",
       "    }\n",
       "\n",
       "    .dataframe thead th {\n",
       "        text-align: right;\n",
       "    }\n",
       "</style>\n",
       "<table border=\"1\" class=\"dataframe\">\n",
       "  <thead>\n",
       "    <tr style=\"text-align: right;\">\n",
       "      <th></th>\n",
       "      <th>Vorname</th>\n",
       "      <th>Nachname</th>\n",
       "      <th>Alter</th>\n",
       "      <th>Einkommen</th>\n",
       "    </tr>\n",
       "  </thead>\n",
       "  <tbody>\n",
       "    <tr>\n",
       "      <th>0</th>\n",
       "      <td>Anna</td>\n",
       "      <td>Müller</td>\n",
       "      <td>28</td>\n",
       "      <td>45000</td>\n",
       "    </tr>\n",
       "    <tr>\n",
       "      <th>1</th>\n",
       "      <td>Ben</td>\n",
       "      <td>Schmidt</td>\n",
       "      <td>34</td>\n",
       "      <td>55000</td>\n",
       "    </tr>\n",
       "    <tr>\n",
       "      <th>2</th>\n",
       "      <td>Clara</td>\n",
       "      <td>Fischer</td>\n",
       "      <td>29</td>\n",
       "      <td>47000</td>\n",
       "    </tr>\n",
       "  </tbody>\n",
       "</table>\n",
       "</div>"
      ],
      "text/plain": [
       "  Vorname Nachname  Alter  Einkommen\n",
       "0    Anna   Müller     28      45000\n",
       "1     Ben  Schmidt     34      55000\n",
       "2   Clara  Fischer     29      47000"
      ]
     },
     "execution_count": 30,
     "metadata": {},
     "output_type": "execute_result"
    }
   ],
   "source": [
    "import pandas as pd\n",
    "\n",
    "# DataFrame 1\n",
    "df3 = pd.DataFrame({\n",
    "    'Vorname': ['Anna', 'Ben', 'Clara', 'David'],\n",
    "    'Nachname': ['Müller', 'Schmidt', 'Fischer', 'Weber'],\n",
    "    'Alter': [28, 34, 29, 40]\n",
    "})\n",
    "\n",
    "# DataFrame 2\n",
    "df4 = pd.DataFrame({\n",
    "    'Vorname': ['Anna', 'Ben', 'Clara', 'Elias'],\n",
    "    'Nachname': ['Müller', 'Schmidt', 'Fischer', 'Klein'],\n",
    "    'Einkommen': [45000, 55000, 47000, 60000]\n",
    "})\n",
    "\n",
    "# Merge anhand von Vor- und Nachname\n",
    "merged_df_b = pd.merge(df3, df4, on=['Vorname', 'Nachname'], how='inner')\n",
    "merged_df_b"
   ]
  },
  {
   "cell_type": "markdown",
   "id": "a88097a4-ff92-4cd5-9b23-173e8fbeabec",
   "metadata": {
    "editable": true,
    "slideshow": {
     "slide_type": ""
    },
    "tags": []
   },
   "source": [
    "### Many-to-Many-Merge"
   ]
  },
  {
   "cell_type": "markdown",
   "id": "cb31f1f3-fe60-406c-8bc0-5acc33c0ea83",
   "metadata": {
    "editable": true,
    "slideshow": {
     "slide_type": ""
    },
    "tags": []
   },
   "source": [
    "Es gibt Fälle, in denen ein DataFrame mehrere gleiche Schlüsselwerte hat, was zu einem **Many-to-Many-Merge** führt.\n",
    "\n",
    "Hier führen wir ein **Many-to-Many-Merge** durch, bei dem jede Kombination von ID-Werten aus beiden DataFrames beibehalten wird."
   ]
  },
  {
   "cell_type": "code",
   "execution_count": 31,
   "id": "c58d3338-e9ef-44e2-95fe-fdbe983107d7",
   "metadata": {
    "editable": true,
    "scrolled": true,
    "slideshow": {
     "slide_type": ""
    },
    "tags": []
   },
   "outputs": [
    {
     "data": {
      "text/html": [
       "<div>\n",
       "<style scoped>\n",
       "    .dataframe tbody tr th:only-of-type {\n",
       "        vertical-align: middle;\n",
       "    }\n",
       "\n",
       "    .dataframe tbody tr th {\n",
       "        vertical-align: top;\n",
       "    }\n",
       "\n",
       "    .dataframe thead th {\n",
       "        text-align: right;\n",
       "    }\n",
       "</style>\n",
       "<table border=\"1\" class=\"dataframe\">\n",
       "  <thead>\n",
       "    <tr style=\"text-align: right;\">\n",
       "      <th></th>\n",
       "      <th>Student_ID</th>\n",
       "      <th>Kurs</th>\n",
       "      <th>Note</th>\n",
       "    </tr>\n",
       "  </thead>\n",
       "  <tbody>\n",
       "    <tr>\n",
       "      <th>0</th>\n",
       "      <td>1</td>\n",
       "      <td>Mathe</td>\n",
       "      <td>A</td>\n",
       "    </tr>\n",
       "    <tr>\n",
       "      <th>1</th>\n",
       "      <td>2</td>\n",
       "      <td>Englisch</td>\n",
       "      <td>B</td>\n",
       "    </tr>\n",
       "    <tr>\n",
       "      <th>2</th>\n",
       "      <td>2</td>\n",
       "      <td>Englisch</td>\n",
       "      <td>C</td>\n",
       "    </tr>\n",
       "    <tr>\n",
       "      <th>3</th>\n",
       "      <td>2</td>\n",
       "      <td>Biologie</td>\n",
       "      <td>B</td>\n",
       "    </tr>\n",
       "    <tr>\n",
       "      <th>4</th>\n",
       "      <td>2</td>\n",
       "      <td>Biologie</td>\n",
       "      <td>C</td>\n",
       "    </tr>\n",
       "  </tbody>\n",
       "</table>\n",
       "</div>"
      ],
      "text/plain": [
       "   Student_ID      Kurs Note\n",
       "0           1     Mathe    A\n",
       "1           2  Englisch    B\n",
       "2           2  Englisch    C\n",
       "3           2  Biologie    B\n",
       "4           2  Biologie    C"
      ]
     },
     "execution_count": 31,
     "metadata": {},
     "output_type": "execute_result"
    }
   ],
   "source": [
    "# Many-to-Many Beziehung\n",
    "df5 = pd.DataFrame({\n",
    "    'Student_ID': [1, 2, 2, 3],\n",
    "    'Kurs': ['Mathe', 'Englisch', 'Biologie', 'Physik']\n",
    "})\n",
    "\n",
    "df6 = pd.DataFrame({\n",
    "    'Student_ID': [1, 2, 2, 4],\n",
    "    'Note': ['A', 'B', 'C', 'A']\n",
    "})\n",
    "\n",
    "# Merge (inner join)\n",
    "merged_df_c = pd.merge(df5, df6, on='Student_ID', how='inner')\n",
    "merged_df_c"
   ]
  },
  {
   "cell_type": "markdown",
   "id": "86238998-3dda-451a-9154-c8169377856a",
   "metadata": {
    "editable": true,
    "slideshow": {
     "slide_type": ""
    },
    "tags": []
   },
   "source": [
    "## Concat (Aneinanderhängen)"
   ]
  },
  {
   "cell_type": "code",
   "execution_count": 32,
   "id": "7c272638-e6eb-4e94-a02e-b81c070cce52",
   "metadata": {
    "scrolled": true
   },
   "outputs": [
    {
     "data": {
      "text/html": [
       "<div>\n",
       "<style scoped>\n",
       "    .dataframe tbody tr th:only-of-type {\n",
       "        vertical-align: middle;\n",
       "    }\n",
       "\n",
       "    .dataframe tbody tr th {\n",
       "        vertical-align: top;\n",
       "    }\n",
       "\n",
       "    .dataframe thead th {\n",
       "        text-align: right;\n",
       "    }\n",
       "</style>\n",
       "<table border=\"1\" class=\"dataframe\">\n",
       "  <thead>\n",
       "    <tr style=\"text-align: right;\">\n",
       "      <th></th>\n",
       "      <th>Vorname</th>\n",
       "      <th>Nachname</th>\n",
       "      <th>Alter</th>\n",
       "      <th>Einkommen</th>\n",
       "    </tr>\n",
       "  </thead>\n",
       "  <tbody>\n",
       "    <tr>\n",
       "      <th>0</th>\n",
       "      <td>Anna</td>\n",
       "      <td>Müller</td>\n",
       "      <td>28</td>\n",
       "      <td>45000</td>\n",
       "    </tr>\n",
       "    <tr>\n",
       "      <th>1</th>\n",
       "      <td>Ben</td>\n",
       "      <td>Schmidt</td>\n",
       "      <td>34</td>\n",
       "      <td>55000</td>\n",
       "    </tr>\n",
       "    <tr>\n",
       "      <th>2</th>\n",
       "      <td>Clara</td>\n",
       "      <td>Fischer</td>\n",
       "      <td>29</td>\n",
       "      <td>47000</td>\n",
       "    </tr>\n",
       "    <tr>\n",
       "      <th>3</th>\n",
       "      <td>David</td>\n",
       "      <td>Weber</td>\n",
       "      <td>35</td>\n",
       "      <td>45000</td>\n",
       "    </tr>\n",
       "  </tbody>\n",
       "</table>\n",
       "</div>"
      ],
      "text/plain": [
       "  Vorname Nachname  Alter  Einkommen\n",
       "0    Anna   Müller     28      45000\n",
       "1     Ben  Schmidt     34      55000\n",
       "2   Clara  Fischer     29      47000\n",
       "3   David    Weber     35      45000"
      ]
     },
     "execution_count": 32,
     "metadata": {},
     "output_type": "execute_result"
    }
   ],
   "source": [
    "df7 = pd.DataFrame({'Vorname': ['David'], 'Nachname': ['Weber'], 'Alter': [35], 'Einkommen': [45000]})\n",
    "concat_df = pd.concat([merged_df_b, df7], ignore_index=True)\n",
    "concat_df"
   ]
  },
  {
   "cell_type": "markdown",
   "id": "fd033426-bebe-4107-93e5-bc0c9bb0f63f",
   "metadata": {},
   "source": [
    "## Joining (Verbinden von DataFrames)"
   ]
  },
  {
   "cell_type": "markdown",
   "id": "ccb115de-9d06-45c9-bec5-aa381f18fe77",
   "metadata": {},
   "source": [
    "### einfaches Joinen"
   ]
  },
  {
   "cell_type": "markdown",
   "id": "9ef0044b-2d80-44c7-82d8-09c483e921c8",
   "metadata": {},
   "source": [
    "**Joining** verbindet DataFrames anhand ihrer Indizes.<br>\n",
    "Hierbei können auch andere Joins verwendet werden:\n",
    "- left\n",
    "- right\n",
    "- inner\n",
    "- outer\n",
    "\n",
    "Hier wird ein **left join** verwendet, bei dem alle Zeilen aus dem linken DataFrame (df8) beibehalten werden, auch wenn sie keinen entsprechenden Eintrag im rechten DataFrame (df9) haben."
   ]
  },
  {
   "cell_type": "code",
   "execution_count": 33,
   "id": "c5800244-ae8b-49cf-9420-5d2b13da9589",
   "metadata": {
    "editable": true,
    "slideshow": {
     "slide_type": ""
    },
    "tags": []
   },
   "outputs": [
    {
     "data": {
      "text/html": [
       "<div>\n",
       "<style scoped>\n",
       "    .dataframe tbody tr th:only-of-type {\n",
       "        vertical-align: middle;\n",
       "    }\n",
       "\n",
       "    .dataframe tbody tr th {\n",
       "        vertical-align: top;\n",
       "    }\n",
       "\n",
       "    .dataframe thead th {\n",
       "        text-align: right;\n",
       "    }\n",
       "</style>\n",
       "<table border=\"1\" class=\"dataframe\">\n",
       "  <thead>\n",
       "    <tr style=\"text-align: right;\">\n",
       "      <th></th>\n",
       "      <th>Name</th>\n",
       "      <th>Score</th>\n",
       "      <th>Age</th>\n",
       "    </tr>\n",
       "  </thead>\n",
       "  <tbody>\n",
       "    <tr>\n",
       "      <th>1</th>\n",
       "      <td>Anna</td>\n",
       "      <td>80</td>\n",
       "      <td>23.0</td>\n",
       "    </tr>\n",
       "    <tr>\n",
       "      <th>2</th>\n",
       "      <td>Ben</td>\n",
       "      <td>90</td>\n",
       "      <td>25.0</td>\n",
       "    </tr>\n",
       "    <tr>\n",
       "      <th>3</th>\n",
       "      <td>Clara</td>\n",
       "      <td>85</td>\n",
       "      <td>30.0</td>\n",
       "    </tr>\n",
       "    <tr>\n",
       "      <th>4</th>\n",
       "      <td>David</td>\n",
       "      <td>95</td>\n",
       "      <td>NaN</td>\n",
       "    </tr>\n",
       "  </tbody>\n",
       "</table>\n",
       "</div>"
      ],
      "text/plain": [
       "    Name  Score   Age\n",
       "1   Anna     80  23.0\n",
       "2    Ben     90  25.0\n",
       "3  Clara     85  30.0\n",
       "4  David     95   NaN"
      ]
     },
     "execution_count": 33,
     "metadata": {},
     "output_type": "execute_result"
    }
   ],
   "source": [
    "df8 = pd.DataFrame({\n",
    "    'Name': ['Anna', 'Ben', 'Clara', 'David'],\n",
    "    'Score': [80, 90, 85, 95]\n",
    "}, index=[1, 2, 3, 4])\n",
    "\n",
    "df9 = pd.DataFrame({\n",
    "    'Age': [23, 25, 30, 22]\n",
    "}, index=[1, 2, 3, 5])\n",
    "\n",
    "# Join (left join)\n",
    "joined_df_a = df8.join(df9, how='left')\n",
    "joined_df_a"
   ]
  },
  {
   "cell_type": "markdown",
   "id": "2b10c11f-70ee-4ac1-990c-92480ba30ed4",
   "metadata": {
    "editable": true,
    "slideshow": {
     "slide_type": ""
    },
    "tags": []
   },
   "source": [
    "## Hierarchische Indizes\n",
    "\n",
    "Hier wird ein **MultiIndex** verwendet, um die Daten zu organisieren und zu verbinden. Dies ist besonders nützlich für hierarchische Datenstrukturen."
   ]
  },
  {
   "cell_type": "code",
   "execution_count": 34,
   "id": "592e5254-4f3d-43c4-91db-24e240b02182",
   "metadata": {
    "editable": true,
    "slideshow": {
     "slide_type": ""
    },
    "tags": []
   },
   "outputs": [
    {
     "data": {
      "text/html": [
       "<div>\n",
       "<style scoped>\n",
       "    .dataframe tbody tr th:only-of-type {\n",
       "        vertical-align: middle;\n",
       "    }\n",
       "\n",
       "    .dataframe tbody tr th {\n",
       "        vertical-align: top;\n",
       "    }\n",
       "\n",
       "    .dataframe thead th {\n",
       "        text-align: right;\n",
       "    }\n",
       "</style>\n",
       "<table border=\"1\" class=\"dataframe\">\n",
       "  <thead>\n",
       "    <tr style=\"text-align: right;\">\n",
       "      <th></th>\n",
       "      <th></th>\n",
       "      <th>Bevölkerung</th>\n",
       "      <th>Fläche</th>\n",
       "    </tr>\n",
       "    <tr>\n",
       "      <th>Stadt</th>\n",
       "      <th>Jahr</th>\n",
       "      <th></th>\n",
       "      <th></th>\n",
       "    </tr>\n",
       "  </thead>\n",
       "  <tbody>\n",
       "    <tr>\n",
       "      <th rowspan=\"2\" valign=\"top\">Berlin</th>\n",
       "      <th>2020</th>\n",
       "      <td>3.50</td>\n",
       "      <td>891.8</td>\n",
       "    </tr>\n",
       "    <tr>\n",
       "      <th>2021</th>\n",
       "      <td>3.60</td>\n",
       "      <td>891.8</td>\n",
       "    </tr>\n",
       "    <tr>\n",
       "      <th rowspan=\"2\" valign=\"top\">Hamburg</th>\n",
       "      <th>2020</th>\n",
       "      <td>1.80</td>\n",
       "      <td>755.2</td>\n",
       "    </tr>\n",
       "    <tr>\n",
       "      <th>2021</th>\n",
       "      <td>1.85</td>\n",
       "      <td>755.2</td>\n",
       "    </tr>\n",
       "  </tbody>\n",
       "</table>\n",
       "</div>"
      ],
      "text/plain": [
       "              Bevölkerung  Fläche\n",
       "Stadt   Jahr                     \n",
       "Berlin  2020         3.50   891.8\n",
       "        2021         3.60   891.8\n",
       "Hamburg 2020         1.80   755.2\n",
       "        2021         1.85   755.2"
      ]
     },
     "execution_count": 34,
     "metadata": {},
     "output_type": "execute_result"
    }
   ],
   "source": [
    "df10 = pd.DataFrame({\n",
    "    'Stadt': ['Berlin', 'Berlin', 'Hamburg', 'Hamburg'],\n",
    "    'Jahr': [2020, 2021, 2020, 2021],\n",
    "    'Bevölkerung': [3.5, 3.6, 1.8, 1.85]\n",
    "}).set_index(['Stadt', 'Jahr'])\n",
    "\n",
    "df11 = pd.DataFrame({\n",
    "    'Stadt': ['Berlin', 'Berlin', 'Hamburg', 'Hamburg'],\n",
    "    'Jahr': [2020, 2021, 2020, 2021],\n",
    "    'Fläche': [891.8, 891.8, 755.2, 755.2]\n",
    "}).set_index(['Stadt', 'Jahr'])\n",
    "\n",
    "# Join basierend auf MultiIndex\n",
    "joined_df_b = df10.join(df11)\n",
    "joined_df_b"
   ]
  },
  {
   "cell_type": "markdown",
   "id": "7ff27e43-4d9c-4675-8582-90f984d07d9c",
   "metadata": {
    "editable": true,
    "slideshow": {
     "slide_type": ""
    },
    "tags": []
   },
   "source": [
    "# Reshaping (Umformen von DataFrames)\n",
    "\n",
    "\n",
    "## Pivoting\n",
    "\n",
    "Das Pivoting in Pandas ist eine Technik zur Neugestaltung eines DataFrames, bei der die Daten in eine breitere Form gebracht werden, indem bestimmte Spalten als Index verwendet werden und andere als Spaltenüberschriften. Es ist nützlich, um Daten in einer tabellenähnlichen Struktur darzustellen, in der Kategorien (z.B. \"Jahr\" oder \"Monat\") als Spalten verwendet werden und die Werte in den entsprechenden Zellen eingefügt werden.\n",
    "\n",
    "Angenommen, wir haben eine Tabelle, die Verkäufe pro Region und Produkt anzeigt, und wir möchten die Daten umstrukturieren.\n",
    "Hier wurde die Region als Index und das Produkt als Spalten verwendet, um die Verkaufsdaten übersichtlich zu organisieren.\n"
   ]
  },
  {
   "cell_type": "code",
   "execution_count": 35,
   "id": "cec95228-23cb-43a7-aba7-b80c95ccb8e4",
   "metadata": {
    "editable": true,
    "slideshow": {
     "slide_type": ""
    },
    "tags": []
   },
   "outputs": [
    {
     "data": {
      "text/html": [
       "<div>\n",
       "<style scoped>\n",
       "    .dataframe tbody tr th:only-of-type {\n",
       "        vertical-align: middle;\n",
       "    }\n",
       "\n",
       "    .dataframe tbody tr th {\n",
       "        vertical-align: top;\n",
       "    }\n",
       "\n",
       "    .dataframe thead th {\n",
       "        text-align: right;\n",
       "    }\n",
       "</style>\n",
       "<table border=\"1\" class=\"dataframe\">\n",
       "  <thead>\n",
       "    <tr style=\"text-align: right;\">\n",
       "      <th>Produkt</th>\n",
       "      <th>A</th>\n",
       "      <th>B</th>\n",
       "    </tr>\n",
       "    <tr>\n",
       "      <th>Region</th>\n",
       "      <th></th>\n",
       "      <th></th>\n",
       "    </tr>\n",
       "  </thead>\n",
       "  <tbody>\n",
       "    <tr>\n",
       "      <th>Nord</th>\n",
       "      <td>100</td>\n",
       "      <td>150</td>\n",
       "    </tr>\n",
       "    <tr>\n",
       "      <th>Süd</th>\n",
       "      <td>200</td>\n",
       "      <td>250</td>\n",
       "    </tr>\n",
       "  </tbody>\n",
       "</table>\n",
       "</div>"
      ],
      "text/plain": [
       "Produkt    A    B\n",
       "Region           \n",
       "Nord     100  150\n",
       "Süd      200  250"
      ]
     },
     "execution_count": 35,
     "metadata": {},
     "output_type": "execute_result"
    }
   ],
   "source": [
    "data = {\n",
    "    'Region': ['Nord', 'Nord', 'Süd', 'Süd'],\n",
    "    'Produkt': ['A', 'B', 'A', 'B'],\n",
    "    'Verkäufe': [100, 150, 200, 250]\n",
    "}\n",
    "df12 = pd.DataFrame(data)\n",
    "\n",
    "pivot_df_a = df12.pivot(index='Region', columns='Produkt', values='Verkäufe')\n",
    "pivot_df_a"
   ]
  },
  {
   "cell_type": "code",
   "execution_count": 36,
   "id": "ae3344ea-1f5d-4368-a62d-826118005483",
   "metadata": {},
   "outputs": [
    {
     "data": {
      "image/png": "[encoded data removed]",
      "text/plain": [
       "<Figure size 640x480 with 1 Axes>"
      ]
     },
     "metadata": {},
     "output_type": "display_data"
    }
   ],
   "source": [
    "import matplotlib.pyplot as plt\n",
    "\n",
    "pivot_df_a.plot(kind='bar')\n",
    "plt.title('Verkäufe pro Region und Produkt')\n",
    "plt.ylabel('Verkäufe')\n",
    "plt.show()"
   ]
  },
  {
   "cell_type": "markdown",
   "id": "5e50e973-e55f-4645-a1b9-0503ef9f3686",
   "metadata": {
    "editable": true,
    "slideshow": {
     "slide_type": ""
    },
    "tags": []
   },
   "source": [
    "Beispiel\n",
    "\n",
    "Wir haben einen DataFrame, der die Verkaufszahlen von Produkten in verschiedenen Städten\n",
    "für verschiedene Monate enthält. Wir wollen diesen DataFrame so umzuwandeln,\n",
    "dass wir eine Übersicht erhalten, in der die Städte die Spalten darstellen und die Monate die Zeilen.\n",
    "\n",
    "\n",
    "Wir wandeln den DataFrame mithilfe der `pivot()`-Methode so um, dass die Spalte \"Monat\" der Index ist,\n",
    "die Spalte \"Stadt\" die Spaltenüberschriften liefert und die Spalte \"Verkäufe\" die Werte.\n",
    "\n",
    "Ziel: Eine Tabelle, in der die Verkäufe nach Monat und Stadt übersichtlich dargestellt werden."
   ]
  },
  {
   "cell_type": "code",
   "execution_count": 37,
   "id": "cd79f60d-9773-43b7-bcb1-b588f6682878",
   "metadata": {
    "editable": true,
    "slideshow": {
     "slide_type": ""
    },
    "tags": []
   },
   "outputs": [
    {
     "name": "stdout",
     "output_type": "stream",
     "text": [
      "Ursprünglicher DataFrame:\n",
      "     Monat    Stadt  Verkäufe\n",
      "0   Januar   Berlin       250\n",
      "1   Januar  München       200\n",
      "2  Februar   Berlin       300\n",
      "3  Februar  München       220\n",
      "4     März   Berlin       320\n",
      "5     März  München       210\n",
      "\n",
      "Pivot-Tabelle:\n",
      "Stadt    Berlin  München\n",
      "Monat                   \n",
      "Februar     300      220\n",
      "Januar      250      200\n",
      "März        320      210\n"
     ]
    }
   ],
   "source": [
    "import pandas as pd\n",
    "\n",
    "# Schritt 1: Erstellen des DataFrames\n",
    "data = {\n",
    "    'Monat': ['Januar', 'Januar', 'Februar', 'Februar', 'März', 'März'],\n",
    "    'Stadt': ['Berlin', 'München', 'Berlin', 'München', 'Berlin', 'München'],\n",
    "    'Verkäufe': [250, 200, 300, 220, 320, 210]\n",
    "}\n",
    "\n",
    "df13 = pd.DataFrame(data)\n",
    "\n",
    "# Ausgabe des ursprünglichen DataFrames\n",
    "print(\"Ursprünglicher DataFrame:\")\n",
    "print(df13)\n",
    "\n",
    "# Schritt 2: Pivoting - Umformen des DataFrames\n",
    "pivot_df_b = df13.pivot(index='Monat', columns='Stadt', values='Verkäufe')\n",
    "\n",
    "# Ausgabe der Pivot-Tabelle\n",
    "print(\"\\nPivot-Tabelle:\")\n",
    "print(pivot_df_b)\n"
   ]
  },
  {
   "cell_type": "markdown",
   "id": "d3ed7189-6092-4bf5-b742-7056c090ccbb",
   "metadata": {
    "editable": true,
    "slideshow": {
     "slide_type": ""
    },
    "tags": []
   },
   "source": [
    "## stacking und Unstacking\n",
    "\n",
    "**Stacking** verwandelt Spalten in Indizes, während **Unstacking** das Gegenteil bewirkt.\n",
    "\n",
    "\n",
    "- **Stacking**: Daten komprimieren\n",
    "- **Unstacking**: Daten dekomprimieren\n"
   ]
  },
  {
   "cell_type": "code",
   "execution_count": 38,
   "id": "4ec2920f-d505-4a7e-9c74-35ec4857941f",
   "metadata": {
    "editable": true,
    "slideshow": {
     "slide_type": ""
    },
    "tags": []
   },
   "outputs": [
    {
     "name": "stdout",
     "output_type": "stream",
     "text": [
      "Region  Produkt          \n",
      "Nord    A        Verkäufe    100\n",
      "        B        Verkäufe    150\n",
      "Süd     A        Verkäufe    200\n",
      "        B        Verkäufe    250\n",
      "dtype: int64\n",
      "                Verkäufe\n",
      "Region Produkt          \n",
      "Nord   A             100\n",
      "       B             150\n",
      "Süd    A             200\n",
      "       B             250\n"
     ]
    }
   ],
   "source": [
    "df14 = pd.DataFrame({\n",
    "    'Region': ['Nord', 'Nord', 'Süd', 'Süd'],\n",
    "    'Produkt': ['A', 'B', 'A', 'B'],\n",
    "    'Verkäufe': [100, 150, 200, 250]\n",
    "}).set_index(['Region', 'Produkt'])\n",
    "\n",
    "# Stacking\n",
    "stacked_df = df14.stack()\n",
    "print(stacked_df)\n",
    "\n",
    "# Unstacking\n",
    "unstacked_df = stacked_df.unstack()\n",
    "print(unstacked_df)"
   ]
  },
  {
   "cell_type": "markdown",
   "id": "1f79ab5c-e1f7-46ef-b795-b7de7b35dd57",
   "metadata": {
    "editable": true,
    "slideshow": {
     "slide_type": ""
    },
    "tags": []
   },
   "source": [
    "## Melting \n",
    "\n",
    "**Melting** verwandelt einen breiten DataFrame in ein langes Format. Dies ist oft nützlich, um ihn für Visualisierungen vorzubereiten oder bestimmte Analysen durchzuführen.\n",
    "\n",
    "Mit **Melting** transformieren wir den DataFrame, sodass jedes Fach und jede Note in einer separaten Zeile dargestellt wird.\n"
   ]
  },
  {
   "cell_type": "code",
   "execution_count": 39,
   "id": "43600c5f-ac2b-4201-ad65-d8e1d88e1f14",
   "metadata": {
    "editable": true,
    "slideshow": {
     "slide_type": ""
    },
    "tags": []
   },
   "outputs": [
    {
     "data": {
      "text/html": [
       "<div>\n",
       "<style scoped>\n",
       "    .dataframe tbody tr th:only-of-type {\n",
       "        vertical-align: middle;\n",
       "    }\n",
       "\n",
       "    .dataframe tbody tr th {\n",
       "        vertical-align: top;\n",
       "    }\n",
       "\n",
       "    .dataframe thead th {\n",
       "        text-align: right;\n",
       "    }\n",
       "</style>\n",
       "<table border=\"1\" class=\"dataframe\">\n",
       "  <thead>\n",
       "    <tr style=\"text-align: right;\">\n",
       "      <th></th>\n",
       "      <th>ID</th>\n",
       "      <th>Fach</th>\n",
       "      <th>Noten</th>\n",
       "    </tr>\n",
       "  </thead>\n",
       "  <tbody>\n",
       "    <tr>\n",
       "      <th>0</th>\n",
       "      <td>1</td>\n",
       "      <td>Mathe</td>\n",
       "      <td>85</td>\n",
       "    </tr>\n",
       "    <tr>\n",
       "      <th>1</th>\n",
       "      <td>2</td>\n",
       "      <td>Mathe</td>\n",
       "      <td>90</td>\n",
       "    </tr>\n",
       "    <tr>\n",
       "      <th>2</th>\n",
       "      <td>3</td>\n",
       "      <td>Mathe</td>\n",
       "      <td>78</td>\n",
       "    </tr>\n",
       "    <tr>\n",
       "      <th>3</th>\n",
       "      <td>1</td>\n",
       "      <td>Englisch</td>\n",
       "      <td>88</td>\n",
       "    </tr>\n",
       "    <tr>\n",
       "      <th>4</th>\n",
       "      <td>2</td>\n",
       "      <td>Englisch</td>\n",
       "      <td>92</td>\n",
       "    </tr>\n",
       "    <tr>\n",
       "      <th>5</th>\n",
       "      <td>3</td>\n",
       "      <td>Englisch</td>\n",
       "      <td>80</td>\n",
       "    </tr>\n",
       "  </tbody>\n",
       "</table>\n",
       "</div>"
      ],
      "text/plain": [
       "   ID      Fach  Noten\n",
       "0   1     Mathe     85\n",
       "1   2     Mathe     90\n",
       "2   3     Mathe     78\n",
       "3   1  Englisch     88\n",
       "4   2  Englisch     92\n",
       "5   3  Englisch     80"
      ]
     },
     "execution_count": 39,
     "metadata": {},
     "output_type": "execute_result"
    }
   ],
   "source": [
    "df15 = pd.DataFrame({\n",
    "    'ID': [1, 2, 3],\n",
    "    'Mathe': [85, 90, 78],\n",
    "    'Englisch': [88, 92, 80]\n",
    "})\n",
    "\n",
    "# Melting\n",
    "melted_df = pd.melt(df15, id_vars=['ID'], var_name='Fach', value_name='Noten')\n",
    "melted_df"
   ]
  },
  {
   "cell_type": "code",
   "execution_count": null,
   "id": "7888cc8a-9fc5-4423-b6e5-8d5d6ebff471",
   "metadata": {
    "editable": true,
    "slideshow": {
     "slide_type": ""
    },
    "tags": []
   },
   "outputs": [],
   "source": []
  }
 ],
 "metadata": {
  "kernelspec": {
   "display_name": "Python 3 (ipykernel)",
   "language": "python",
   "name": "python3"
  },
  "language_info": {
   "codemirror_mode": {
    "name": "ipython",
    "version": 3
   },
   "file_extension": ".py",
   "mimetype": "text/x-python",
   "name": "python",
   "nbconvert_exporter": "python",
   "pygments_lexer": "ipython3",
   "version": "3.12.6"
  }
 },
 "nbformat": 4,
 "nbformat_minor": 5
}
