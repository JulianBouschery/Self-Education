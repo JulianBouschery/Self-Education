{
 "cells": [
  {
   "cell_type": "markdown",
   "id": "5a6653e8-9d9d-433c-9752-abba51a442a2",
   "metadata": {
    "editable": true,
    "slideshow": {
     "slide_type": ""
    },
    "tags": []
   },
   "source": [
    "# Aufgabe 1: Series aus einem DataFrame extrahieren"
   ]
  },
  {
   "cell_type": "code",
   "execution_count": 6,
   "id": "e0198c28-714f-4522-89a0-3a69718fa868",
   "metadata": {
    "editable": true,
    "slideshow": {
     "slide_type": ""
    },
    "tags": []
   },
   "outputs": [],
   "source": [
    "## Erstelle einen DataFrame mit den folgenden Daten:\n",
    "# - Spalte \"Name\": ['Alice', 'Bob', 'Charlie', 'David', 'Eva']\n",
    "# - Spalte \"Alter\": [25, 30, 35, 40, 45]\n",
    "# - Spalte \"Stadt\": ['Berlin', 'München', 'Köln', 'Hamburg', 'Stuttgart']\n",
    "\n",
    "# Extrahiere die Spalte \"Alter\" als eine Pandas Series"
   ]
  },
  {
   "cell_type": "markdown",
   "id": "fdd2ca19-3ba5-463e-8a7a-e8bb1a2e229b",
   "metadata": {
    "editable": true,
    "slideshow": {
     "slide_type": ""
    },
    "tags": []
   },
   "source": [
    "# Aufgabe 2: Erzeuge einen neuen DataFrame aus zwei Series"
   ]
  },
  {
   "cell_type": "code",
   "execution_count": 7,
   "id": "3dd495ed-82f5-4561-a2a3-6a30f90713bb",
   "metadata": {},
   "outputs": [],
   "source": [
    "## Erstelle zwei Pandas Series:\n",
    "# - Serie 1: Name = ['Alice', 'Bob', 'Charlie'], Stadt = ['Berlin', 'München', 'Köln']\n",
    "# - Serie 2: Alter = [25, 30, 35]\n",
    "\n",
    "\n",
    "# Erstelle einen DataFrame aus den zwei Series"
   ]
  },
  {
   "cell_type": "markdown",
   "id": "0eda2c87-cd71-4a2f-95ed-a9477a04db8f",
   "metadata": {
    "editable": true,
    "slideshow": {
     "slide_type": ""
    },
    "tags": []
   },
   "source": [
    "# Aufgabe 3: Verwende .iloc und .loc zur Indexierung"
   ]
  },
  {
   "cell_type": "code",
   "execution_count": 8,
   "id": "41388d94-3b0e-4313-aa3f-5e81f9fb031f",
   "metadata": {},
   "outputs": [],
   "source": [
    "## Verwende den DataFrame aus Aufgabe 1:\n",
    "# - Nutze `.loc`, um die Zeile für 'Charlie' auszuwählen.\n",
    "# - Nutze `.iloc`, um die dritte Zeile des DataFrames zu selektieren."
   ]
  },
  {
   "cell_type": "markdown",
   "id": "6377086f-3cad-4d6e-b6d0-712c11ed9006",
   "metadata": {},
   "source": [
    "# Aufgabe 4: Index-basierte Manipulation"
   ]
  },
  {
   "cell_type": "code",
   "execution_count": 9,
   "id": "5669abc1-e26d-42ba-a064-92daaa8ec2eb",
   "metadata": {},
   "outputs": [],
   "source": [
    "## Füge für den DataFrame aus Aufgabe 1 eine neue Spalte hinzu, die den Wohnstatus (Mieter oder Eigentümer) angibt:\n",
    "# - Wenn das Alter über 30 ist, dann 'Eigentümer', sonst 'Mieter'.\n",
    "# - Verwende eine Kombination aus .loc und Bedingungen zur Zuweisung."
   ]
  }
 ],
 "metadata": {
  "kernelspec": {
   "display_name": "Python 3 (ipykernel)",
   "language": "python",
   "name": "python3"
  },
  "language_info": {
   "codemirror_mode": {
    "name": "ipython",
    "version": 3
   },
   "file_extension": ".py",
   "mimetype": "text/x-python",
   "name": "python",
   "nbconvert_exporter": "python",
   "pygments_lexer": "ipython3",
   "version": "3.12.6"
  }
 },
 "nbformat": 4,
 "nbformat_minor": 5
}
