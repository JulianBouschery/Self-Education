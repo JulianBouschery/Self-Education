{
 "cells": [
  {
   "cell_type": "markdown",
   "id": "15e001c1-3066-40aa-8018-3d628b3390fd",
   "metadata": {},
   "source": [
    "# XLSX"
   ]
  },
  {
   "cell_type": "markdown",
   "id": "eebad6b2-c4dd-454a-9f8a-c6eb34be36ee",
   "metadata": {},
   "source": [
    "**XLSX** ist ein Dateiformat, das von **Microsoft Excel** verwendet wird, um Tabellenkalkulationen zu speichern. Es basiert auf dem Open XML-Format und ist der Nachfolger des älteren **XLS**-Formats. XLSX-Dateien können komplexe tabellarische Daten, Formeln, Diagramme, Formatierungen und mehr speichern."
   ]
  },
  {
   "cell_type": "markdown",
   "id": "08d7a951-e114-4754-8d37-39809f0bc08f",
   "metadata": {},
   "source": [
    "### Eigenschaften von XLSX:"
   ]
  },
  {
   "cell_type": "markdown",
   "id": "871c21dd-78cf-4091-a92e-d291572df26e",
   "metadata": {},
   "source": [
    "- **Tabellenkalkulationen:** Speichert Daten in Zellen, die in Spalten und Zeilen angeordnet sind.\n",
    "- **Komplexe Inhalte:** Neben einfachen Text- und Zahlwerten können XLSX-Dateien auch Formeln, Diagramme, bedingte Formatierungen, Pivot-Tabellen und weitere Excel-spezifische Features enthalten.\n",
    "- **Open XML:** Das XLSX-Format verwendet eine Kombination aus XML-Dateien und ZIP-Kompression, um Daten effizient zu speichern. Eine XLSX-Datei ist im Grunde eine ZIP-Datei, die eine Sammlung von XML-Dateien enthält.\n",
    "- **Multiplattform:** Es kann von verschiedenen Softwareprogrammen, nicht nur von Microsoft Excel, gelesen werden (z. B. **Google Sheets**, **LibreOffice**, **pandas** in Python)."
   ]
  },
  {
   "cell_type": "markdown",
   "id": "1e4f62c9-8dd4-4b50-b6ef-61962ab80927",
   "metadata": {},
   "source": [
    "### Beispiel:"
   ]
  },
  {
   "cell_type": "markdown",
   "id": "b3fea411-2f20-4818-8169-f3c6b3467213",
   "metadata": {},
   "source": [
    "In einer XLSX-Datei könnten sich mehrere Tabellenblätter befinden, die unterschiedliche Daten enthalten, etwa:\n",
    "\n",
    "- Ein Tabellenblatt mit Verkaufszahlen,\n",
    "- Ein Tabellenblatt mit Formeln, die Berechnungen auf Basis der Verkaufszahlen durchführen,\n",
    "- Ein Diagramm zur Visualisierung der Verkaufszahlen."
   ]
  },
  {
   "cell_type": "markdown",
   "id": "fab107dc-1cc0-46fe-9c0e-73c410b1c8f5",
   "metadata": {},
   "source": [
    "### XLSX-Datei in Python einlesen:"
   ]
  },
  {
   "cell_type": "markdown",
   "id": "1d8518f4-67e7-4815-95f7-86e69a4326bb",
   "metadata": {},
   "source": [
    "XLSX-Dateien können mit der `pandas`-Bibliothek und dem Modul `openpyxl` oder `xlrd` verarbeitet werden.\n",
    "\n",
    "```python\n",
    "import pandas as pd\n",
    "\n",
    "# XLSX-Datei einlesen\n",
    "data = pd.read_excel('datei.xlsx')\n",
    "\n",
    "# Ausgabe der Daten\n",
    "print(data)\n",
    "```\n",
    "\n",
    "Mit `pandas` wird die XLSX-Datei in ein DataFrame geladen, wodurch du die Daten einfach analysieren und manipulieren kannst."
   ]
  },
  {
   "cell_type": "markdown",
   "id": "90d6e6a0-d179-43f2-8320-9f0b0dc8ffce",
   "metadata": {},
   "source": [
    "# Next"
   ]
  },
  {
   "cell_type": "markdown",
   "id": "33e08a84-ffb4-4abc-81c3-cb4eb491a483",
   "metadata": {},
   "source": [
    "2. XML (Extensible Markup Language)\n",
    "- Vorteile:\n",
    "    - Gut für hierarchische Datenstrukturen und Metadaten.\n",
    "    - Sehr flexibel und wird in vielen unterschiedlichen Domänen verwendet (z.B. Webdienste, Konfigurationsdateien).\n",
    "    - Unterstützt das Hinzufügen von Attributen und Metadaten.\n",
    "    - Gut geeignet für die Übertragung von komplexen und vernetzten Daten.\n",
    "- Nachteile:\n",
    "    - Sehr verbose, d.h., es braucht mehr Speicherplatz und Bandbreite im Vergleich zu JSON.\n",
    "    - Parsing kann langsamer und ressourcenintensiver sein.\n",
    "    - Schwieriger von Menschen zu lesen und zu verstehen, insbesondere bei großen Dateien."
   ]
  },
  {
   "cell_type": "markdown",
   "id": "caf4ba90-297c-4439-8cb0-9c837c747f52",
   "metadata": {},
   "source": [
    "4. XML-Dateien: Import und Export\n",
    "\n",
    "- XML (Extensible Markup Language) für hierarchisch organisierte Daten.\n",
    "- Vorteil: Weit verbreitet bei Web-Diensten und Konfigurationsdateien.\n",
    "\n",
    "vgl. https://www.geeksforgeeks.org/reading-and-writing-xml-files-in-python/"
   ]
  },
  {
   "cell_type": "markdown",
   "id": "bdc717ef-3ebb-4c5c-822a-8ce512e760e6",
   "metadata": {},
   "source": [
    "\n",
    "Python Beispiel: Import und Export von XML-Dateien"
   ]
  },
  {
   "cell_type": "code",
   "execution_count": null,
   "id": "528b25df-6991-4ec2-9fd9-3cb12dbbc7c2",
   "metadata": {},
   "outputs": [],
   "source": [
    "import xml.etree.ElementTree as ET\n",
    "\n",
    "# XML-Datei importieren\n",
    "tree = ET.parse('data.xml')\n",
    "root = tree.getroot()\n",
    "for employee in root.findall('employee'):\n",
    "    name = employee.find('name').text\n",
    "    age = employee.find('age').text\n",
    "    print(f'Name: {name}, Age: {age}')\n",
    "\n",
    "# XML-Datei exportieren\n",
    "data = ET.Element('employees')\n",
    "employee = ET.SubElement(data, 'employee')\n",
    "name = ET.SubElement(employee, 'name')\n",
    "name.text = 'Alice'\n",
    "age = ET.SubElement(employee, 'age')\n",
    "age.text = '30'\n",
    "\n",
    "tree = ET.ElementTree(data)\n",
    "tree.write('output.xml')\n"
   ]
  }
 ],
 "metadata": {
  "kernelspec": {
   "display_name": "Python 3 (ipykernel)",
   "language": "python",
   "name": "python3"
  },
  "language_info": {
   "codemirror_mode": {
    "name": "ipython",
    "version": 3
   },
   "file_extension": ".py",
   "mimetype": "text/x-python",
   "name": "python",
   "nbconvert_exporter": "python",
   "pygments_lexer": "ipython3",
   "version": "3.12.6"
  }
 },
 "nbformat": 4,
 "nbformat_minor": 5
}
