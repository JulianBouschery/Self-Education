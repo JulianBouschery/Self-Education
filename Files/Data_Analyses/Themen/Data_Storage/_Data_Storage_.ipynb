{
 "cells": [
  {
   "cell_type": "markdown",
   "id": "c976105d-d770-4122-9bcb-36449d1d49a0",
   "metadata": {},
   "source": [
    "# Datenspeicherung"
   ]
  },
  {
   "cell_type": "code",
   "execution_count": null,
   "id": "902134f7-da3f-4a85-a5ac-883d0cd6e79c",
   "metadata": {},
   "outputs": [],
   "source": []
  }
 ],
 "metadata": {
  "kernelspec": {
   "display_name": "Python 3 (ipykernel)",
   "language": "python",
   "name": "python3"
  },
  "language_info": {
   "codemirror_mode": {
    "name": "ipython",
    "version": 3
   },
   "file_extension": ".py",
   "mimetype": "text/x-python",
   "name": "python",
   "nbconvert_exporter": "python",
   "pygments_lexer": "ipython3",
   "version": "3.12.6"
  }
 },
 "nbformat": 4,
 "nbformat_minor": 5
}
