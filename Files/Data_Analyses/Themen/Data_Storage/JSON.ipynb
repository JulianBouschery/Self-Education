{
 "cells": [
  {
   "cell_type": "markdown",
   "id": "7d200bb5-ec96-4975-9bb3-ec1982ab68c3",
   "metadata": {},
   "source": [
    "# JSON-Dateien (JavaScript Object Notation)"
   ]
  },
  {
   "cell_type": "markdown",
   "id": "9273ff9e-0769-4561-baf2-c7a8501a6a1c",
   "metadata": {},
   "source": [
    "**JSON** (JavaScript Object Notation) ist ein leichtgewichtiges, textbasiertes Datenformat, das verwendet wird, um strukturierte Daten darzustellen. Es ist einfach für Menschen zu lesen und zu schreiben und gleichzeitig für Maschinen leicht zu parsen (verarbeiten) und zu generieren. JSON wird häufig in Webanwendungen verwendet, um Daten zwischen einem Server und einem Client (wie einem Webbrowser) zu übertragen."
   ]
  },
  {
   "cell_type": "markdown",
   "id": "56e45682-bcdc-4a9e-a31c-c84281b42e77",
   "metadata": {},
   "source": [
    "### Struktur von JSON-Dateien:"
   ]
  },
  {
   "cell_type": "markdown",
   "id": "77d65d35-9efa-423f-bd34-5107f9c59a88",
   "metadata": {},
   "source": [
    "1. **Objekte**: \n",
    "   - Ein JSON-Objekt besteht aus Schlüssel-Wert-Paaren.\n",
    "   - Es ist umgeben von geschweiften Klammern `{}`.\n",
    "   - Beispiel:\n",
    "     ```json\n",
    "     {\n",
    "       \"name\": \"Max\",\n",
    "       \"age\": 25,\n",
    "       \"city\": \"Berlin\"\n",
    "     }\n",
    "     ```\n",
    "\n",
    "2. **Arrays**: \n",
    "   - Ein JSON-Array ist eine geordnete Liste von Werten.\n",
    "   - Es ist umgeben von eckigen Klammern `[]`.\n",
    "   - Beispiel:\n",
    "     ```json\n",
    "     {\n",
    "       \"students\": [\"Anna\", \"Tom\", \"Sara\"]\n",
    "     }\n",
    "     ```\n",
    "\n",
    "3. **Datentypen**:\n",
    "   - **Strings**: Zeichenketten in Anführungszeichen `\"\"` (z.B. `\"Hallo\"`).\n",
    "   - **Numbers**: Ganz- und Dezimalzahlen ohne Anführungszeichen (z.B. `42`, `3.14`).\n",
    "   - **Booleans**: Wahrheitswerte `true` oder `false`.\n",
    "   - **Null**: Der Wert `null` repräsentiert die Abwesenheit eines Werts.\n",
    "   - **Objekte**: Verschachtelte Schlüssel-Wert-Paare.\n",
    "   - **Arrays**: Listen von Werten, die verschiedene Datentypen enthalten können."
   ]
  },
  {
   "cell_type": "markdown",
   "id": "4a2974ed-d280-41d8-9f9b-5ad25b306fdb",
   "metadata": {},
   "source": [
    "### Beispiel einer JSON-Datei:"
   ]
  },
  {
   "cell_type": "markdown",
   "id": "6cbbe697-7960-40a2-aaa4-3dafd7242548",
   "metadata": {},
   "source": [
    "```json\n",
    "{\n",
    "  \"name\": \"Alice\",\n",
    "  \"age\": 30,\n",
    "  \"isStudent\": false,\n",
    "  \"courses\": [\"Mathematics\", \"Physics\"],\n",
    "  \"address\": {\n",
    "    \"street\": \"Example Road\",\n",
    "    \"city\": \"Berlin\"\n",
    "  }\n",
    "}\n",
    "```"
   ]
  },
  {
   "cell_type": "markdown",
   "id": "9da7324d-8850-4f13-a99a-b39d144a7802",
   "metadata": {},
   "source": [
    "### Verwendung:"
   ]
  },
  {
   "cell_type": "markdown",
   "id": "a4d8e865-7f1b-4e76-b250-2061963fb723",
   "metadata": {},
   "source": [
    "JSON-Dateien werden häufig verwendet, um Daten in APIs oder Konfigurationsdateien zu speichern. Es ist besonders nützlich für die Übertragung von Daten über das Internet, z.B. zwischen einem Webserver und einem Webbrowser oder einem Webservice."
   ]
  },
  {
   "cell_type": "markdown",
   "id": "93b5f1ec-a9f1-42dc-b457-010b8305eba9",
   "metadata": {},
   "source": [
    "### Vorteile von JSON:"
   ]
  },
  {
   "cell_type": "markdown",
   "id": "2dbb8382-bf50-42e5-8cb6-dce86fecc437",
   "metadata": {},
   "source": [
    "- **Einfach**: Leicht zu lesen und zu schreiben.\n",
    "- **Plattformunabhängig**: JSON kann von vielen Programmiersprachen wie Python, JavaScript, Java und anderen verarbeitet werden.\n",
    "- **Kompakt**: Da JSON textbasiert ist, bleibt es relativ klein, was den Datenaustausch effizient macht.\n",
    "\n",
    "In Python kannst du zum Beispiel das `json`-Modul verwenden, um JSON-Dateien zu laden und zu schreiben."
   ]
  },
  {
   "cell_type": "markdown",
   "id": "42d52836-6a0e-4af9-98b4-19410b2cf203",
   "metadata": {},
   "source": [
    "# Next"
   ]
  },
  {
   "cell_type": "markdown",
   "id": "94bf52d9-235f-4667-b0b3-bbea57c5a386",
   "metadata": {},
   "source": [
    "Vor- und Nachteile der einzelnen Formate\n",
    "1. JSON (JavaScript Object Notation)\n",
    "- Vorteile:\n",
    "    - Leicht von Maschinen und Menschen lesbar und verständlich.\n",
    "    - Weit verbreitet in Webanwendungen und APIs.\n",
    "    - Unterstützt verschachtelte Strukturen (z.B. Listen und Objekte).\n",
    "    - Kompakt und effizient für Datenübertragungen.\n",
    "- Nachteile:\n",
    "    - Nicht für große Datenmengen optimiert, da die Datei schnell unübersichtlich wird.\n",
    "    - Keine standardmäßige Unterstützung für Kommentare (nicht ideal für dokumentationsreiche Dateien)."
   ]
  },
  {
   "cell_type": "markdown",
   "id": "95062235-e033-4e1d-9bbe-d72546e1f6ab",
   "metadata": {},
   "source": [
    "3. JSON-Dateien: Import und Export\n",
    "\n",
    "- JSON (JavaScript Object Notation) ist ideal für strukturierte Daten, häufig genutzt bei APIs.\n",
    "- Vorteil: Leicht von Menschen und Maschinen lesbar.\n",
    "\n"
   ]
  },
  {
   "cell_type": "markdown",
   "id": "ef3deb39-6243-4322-ab1f-b7a1e2e9b782",
   "metadata": {},
   "source": [
    "\n",
    "Python Beispiel: Import und Export von JSON-Dateien"
   ]
  },
  {
   "cell_type": "code",
   "execution_count": 2,
   "id": "bcd8c3bc-302f-4561-8725-1791b7038c0d",
   "metadata": {},
   "outputs": [
    {
     "name": "stdout",
     "output_type": "stream",
     "text": [
      "[[{'customer_id': 1, 'product': 'Product_A', 'sales': 100}, {'customer_id': 2, 'product': 'Product_B', 'sales': 150}, {'customer_id': 3, 'product': 'Product_C', 'sales': 200}]]\n",
      "Die Daten wurden erfolgreich exportiert.\n"
     ]
    }
   ],
   "source": [
    "import json\n",
    "\n",
    "# JSON-Datei zeilenweise importieren\n",
    "data = []\n",
    "with open('sales_data.json', 'r') as f:\n",
    "    for line in f:\n",
    "        data.append(json.loads(line))  # Jede Zeile als separates JSON-Objekt verarbeiten\n",
    "\n",
    "# Den Inhalt der JSON-Daten ausgeben\n",
    "print(data)\n",
    "\n",
    "# JSON-Datei exportieren\n",
    "with open('output.json', 'w') as f:\n",
    "    json.dump(data, f, indent=4)  # Die Daten als JSON exportieren\n",
    "\n",
    "print(\"Die Daten wurden erfolgreich exportiert.\")\n"
   ]
  },
  {
   "cell_type": "markdown",
   "id": "b466ad2e-92ba-4988-b497-d9b693fb679b",
   "metadata": {},
   "source": [
    "# In andere Formate umwandeln"
   ]
  },
  {
   "cell_type": "code",
   "execution_count": 5,
   "id": "f03fe04e-ba44-4aea-b669-fba6ff06ab65",
   "metadata": {},
   "outputs": [
    {
     "ename": "NameError",
     "evalue": "name 'pd' is not defined",
     "output_type": "error",
     "traceback": [
      "\u001b[1;31m---------------------------------------------------------------------------\u001b[0m",
      "\u001b[1;31mNameError\u001b[0m                                 Traceback (most recent call last)",
      "Cell \u001b[1;32mIn[5], line 1\u001b[0m\n\u001b[1;32m----> 1\u001b[0m df \u001b[38;5;241m=\u001b[39m \u001b[43mpd\u001b[49m\u001b[38;5;241m.\u001b[39mDataframe(\u001b[38;5;124m'\u001b[39m\u001b[38;5;124msales_data.json\u001b[39m\u001b[38;5;124m'\u001b[39m)\n\u001b[0;32m      3\u001b[0m df\u001b[38;5;241m.\u001b[39mto_xml(filename, root_name\u001b[38;5;241m=\u001b[39m\u001b[38;5;124m\"\u001b[39m\u001b[38;5;124memployees\u001b[39m\u001b[38;5;124m\"\u001b[39m, row_name\u001b[38;5;241m=\u001b[39m\u001b[38;5;124m\"\u001b[39m\u001b[38;5;124memployee\u001b[39m\u001b[38;5;124m\"\u001b[39m)\n",
      "\u001b[1;31mNameError\u001b[0m: name 'pd' is not defined"
     ]
    }
   ],
   "source": [
    "df = pd.Dataframe('sales_data.json')\n",
    "\n",
    "df.to_xml(filename, root_name=\"employees\", row_name=\"employee\")"
   ]
  },
  {
   "cell_type": "code",
   "execution_count": 3,
   "id": "02162916-f3d5-46ff-bc54-7d0c505d1cd5",
   "metadata": {},
   "outputs": [
    {
     "ename": "NameError",
     "evalue": "name 'df' is not defined",
     "output_type": "error",
     "traceback": [
      "\u001b[1;31m---------------------------------------------------------------------------\u001b[0m",
      "\u001b[1;31mNameError\u001b[0m                                 Traceback (most recent call last)",
      "Cell \u001b[1;32mIn[3], line 1\u001b[0m\n\u001b[1;32m----> 1\u001b[0m \u001b[43mdf\u001b[49m\u001b[38;5;241m.\u001b[39mto_xml(\n\u001b[0;32m      2\u001b[0m     attr_cols\u001b[38;5;241m=\u001b[39m[\u001b[38;5;124m\"\u001b[39m\u001b[38;5;124mindex\u001b[39m\u001b[38;5;124m\"\u001b[39m, \u001b[38;5;124m\"\u001b[39m\u001b[38;5;124mshape\u001b[39m\u001b[38;5;124m\"\u001b[39m, \u001b[38;5;124m\"\u001b[39m\u001b[38;5;124mdegrees\u001b[39m\u001b[38;5;124m\"\u001b[39m, \u001b[38;5;124m\"\u001b[39m\u001b[38;5;124msides\u001b[39m\u001b[38;5;124m\"\u001b[39m]\n\u001b[0;32m      3\u001b[0m )\n",
      "\u001b[1;31mNameError\u001b[0m: name 'df' is not defined"
     ]
    }
   ],
   "source": [
    "df.to_xml(\n",
    "    attr_cols=[\"index\", \"shape\", \"degrees\", \"sides\"]\n",
    ")"
   ]
  },
  {
   "cell_type": "markdown",
   "id": "aecac1dc-9e01-4690-8af7-6690e5b0e1ba",
   "metadata": {},
   "source": [
    "# Pandas (einfacher)"
   ]
  },
  {
   "cell_type": "code",
   "execution_count": null,
   "id": "5842a462-68fb-43c1-8ae1-047005f78e95",
   "metadata": {},
   "outputs": [],
   "source": []
  }
 ],
 "metadata": {
  "kernelspec": {
   "display_name": "Python 3 (ipykernel)",
   "language": "python",
   "name": "python3"
  },
  "language_info": {
   "codemirror_mode": {
    "name": "ipython",
    "version": 3
   },
   "file_extension": ".py",
   "mimetype": "text/x-python",
   "name": "python",
   "nbconvert_exporter": "python",
   "pygments_lexer": "ipython3",
   "version": "3.12.6"
  }
 },
 "nbformat": 4,
 "nbformat_minor": 5
}
