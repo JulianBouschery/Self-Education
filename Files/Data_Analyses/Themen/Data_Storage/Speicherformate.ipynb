{
 "cells": [
  {
   "cell_type": "markdown",
   "id": "bf130083-3030-4451-98b4-a3a8c46ffa7b",
   "metadata": {},
   "source": [
    "# Speicherformate"
   ]
  },
  {
   "cell_type": "markdown",
   "id": "13c47379-0330-4cf0-bb79-83b5ee8a4fa7",
   "metadata": {},
   "source": [
    "Benötigt `openpyxl`"
   ]
  },
  {
   "cell_type": "markdown",
   "id": "b0a114b8-23bb-49ab-b6ee-a244ca4b402c",
   "metadata": {},
   "source": [
    "Sieh auch:"
   ]
  },
  {
   "cell_type": "markdown",
   "id": "ba8839f0-d6eb-435d-9d92-5043622e0efe",
   "metadata": {},
   "source": [
    "[JSON](JSON.ipynb)"
   ]
  },
  {
   "cell_type": "markdown",
   "id": "d1a97958-01ff-4a4a-9a87-ee9de95610aa",
   "metadata": {},
   "source": [
    "[CSV](CSV.ipynb)"
   ]
  },
  {
   "cell_type": "markdown",
   "id": "1888c4aa-4609-4d67-9d37-d5526382c8b6",
   "metadata": {},
   "source": [
    "[XLSX](XLSX.ipynb)"
   ]
  },
  {
   "cell_type": "markdown",
   "id": "a3f664a6-8f50-49d3-bf95-eb4f7ad6cbfc",
   "metadata": {},
   "source": [
    "## Abspeichern von Daten im entsprechenden Format"
   ]
  },
  {
   "cell_type": "code",
   "execution_count": 1,
   "id": "bae33379-87a3-43f8-aeef-901f3b644919",
   "metadata": {},
   "outputs": [
    {
     "name": "stdout",
     "output_type": "stream",
     "text": [
      "   customer_id    product  sales\n",
      "0            1  Product_A    100\n",
      "1            2  Product_B    150\n",
      "2            3  Product_C    200\n",
      "   customer_id    product  sales\n",
      "0            1  Product_A    100\n",
      "1            2  Product_B    150\n",
      "2            3  Product_C    200\n"
     ]
    }
   ],
   "source": [
    "import pandas as pd\n",
    "\n",
    "# CSV-Datei speichern und laden\n",
    "data = {'customer_id': [1, 2, 3], 'product': ['Product_A', 'Product_B', 'Product_C'], 'sales': [100, 150, 200]}\n",
    "df = pd.DataFrame(data)\n",
    "\n",
    "# CSV-Datei speichern\n",
    "df.to_csv('sales_data.csv', index=False)\n",
    "\n",
    "# CSV-Datei laden\n",
    "csv_data = pd.read_csv('sales_data.csv')\n",
    "print(csv_data)\n",
    "\n",
    "# Excel-Datei speichern\n",
    "df.to_excel('sales_data.xlsx', index=False)\n",
    "\n",
    "# JSON-Datei speichern\n",
    "df.to_json('sales_data.json', orient='records')\n",
    "\n",
    "# JSON-Datei laden\n",
    "json_data = pd.read_json('sales_data.json')\n",
    "print(json_data)\n"
   ]
  },
  {
   "cell_type": "code",
   "execution_count": null,
   "id": "dcf31f64-53da-4123-9d04-c56564393c65",
   "metadata": {},
   "outputs": [],
   "source": [
    "df."
   ]
  }
 ],
 "metadata": {
  "kernelspec": {
   "display_name": "Python 3 (ipykernel)",
   "language": "python",
   "name": "python3"
  },
  "language_info": {
   "codemirror_mode": {
    "name": "ipython",
    "version": 3
   },
   "file_extension": ".py",
   "mimetype": "text/x-python",
   "name": "python",
   "nbconvert_exporter": "python",
   "pygments_lexer": "ipython3",
   "version": "3.12.6"
  }
 },
 "nbformat": 4,
 "nbformat_minor": 5
}
