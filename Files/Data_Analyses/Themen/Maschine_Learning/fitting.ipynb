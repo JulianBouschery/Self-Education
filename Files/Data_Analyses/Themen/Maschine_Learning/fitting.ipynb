{
 "cells": [
  {
   "cell_type": "markdown",
   "id": "33cbe571-d810-4c1f-82f2-547016bda845",
   "metadata": {},
   "source": [
    "# fitting"
   ]
  },
  {
   "cell_type": "markdown",
   "id": "b2290d45-f49c-49b1-a1f5-a9c39330087b",
   "metadata": {},
   "source": [
    "Siehe auch: [scaler.fit_transform()](../../Zentral_Ordner/Funktionen_und_Methoden/scaler.fit_transform.ipynb)"
   ]
  },
  {
   "cell_type": "markdown",
   "id": "3a26e717-8205-4bc6-9687-5dc6856676e0",
   "metadata": {},
   "source": [
    "Je nach Ziel und Kontext, bedeutet der Prozess des `fitting` etwas anderes. Vermutlich ist dieser Begriff organisch gewachsen und wurde synonym für ähnliche oder stark verwandte Schritte im Maschine Learning verwendet. \n",
    "\n",
    "`fitting` bedeutet entweder: \n",
    "\n",
    "- Daten anpassen damit sie besser zu den Parametern des Modells passen.\n",
    "\n",
    "oder\n",
    "\n",
    "- Das Modell zu trainieren, damit es die Daten lernt."
   ]
  },
  {
   "cell_type": "code",
   "execution_count": null,
   "id": "18f1ee82-6973-4506-84e0-2a1b6fa86f97",
   "metadata": {},
   "outputs": [],
   "source": []
  },
  {
   "cell_type": "code",
   "execution_count": null,
   "id": "d64dc30b-917f-438b-9295-470ec4517c69",
   "metadata": {},
   "outputs": [],
   "source": []
  },
  {
   "cell_type": "code",
   "execution_count": null,
   "id": "dcf6db2f-d2c9-45c2-a461-062123295e3d",
   "metadata": {},
   "outputs": [],
   "source": []
  },
  {
   "cell_type": "markdown",
   "id": "9aa7bf66-4112-4231-8622-ee18b4514d04",
   "metadata": {},
   "source": [
    "### Was passiert beim Fitting?"
   ]
  },
  {
   "cell_type": "markdown",
   "id": "7a461afe-7ed5-4498-9370-e8cbd3990d12",
   "metadata": {},
   "source": [
    "Im folgenden Beispiel erstellen wir eine zusätzliche Spalte mit den \"gefitteten\" Werten die aus den Daten der ersten beiden Spalten berechnet wurde. Im Prinzip haben wir neue Daten generiert... Kann man dann noch von einer Anpassung des Modells reden, oder ist es eher eine Anpassung der Daten?"
   ]
  },
  {
   "cell_type": "code",
   "execution_count": 2,
   "id": "70620972-216e-4ef1-8841-c2b25c255195",
   "metadata": {},
   "outputs": [
    {
     "name": "stdout",
     "output_type": "stream",
     "text": [
      "Originale Hauspreise und normalisierte Preise:\n",
      "   Haus  Preis  Normalisierter Preis\n",
      "0     1    150                   0.0\n",
      "1     2    200                   0.2\n",
      "2     3    300                   0.6\n",
      "3     4    250                   0.4\n",
      "4     5    400                   1.0\n"
     ]
    }
   ],
   "source": [
    "import numpy as np\n",
    "from sklearn.preprocessing import MinMaxScaler\n",
    "import pandas as pd\n",
    "\n",
    "# Beispiel-Daten zu Hauspreisen\n",
    "data = {\n",
    "    'Haus': [1, 2, 3, 4, 5],\n",
    "    'Preis': [150, 200, 300, 250, 400]\n",
    "}\n",
    "\n",
    "# Erstelle einen DataFrame\n",
    "df = pd.DataFrame(data)\n",
    "\n",
    "# Initialisiere den MinMaxScaler\n",
    "scaler = MinMaxScaler()\n",
    "\n",
    "# Wende fit_transform() auf die Preisdaten an\n",
    "df['Normalisierter Preis'] = scaler.fit_transform(df[['Preis']])\n",
    "\n",
    "print(\"Originale Hauspreise und normalisierte Preise:\")\n",
    "print(df)"
   ]
  },
  {
   "cell_type": "markdown",
   "id": "51cf91b8-ca0b-4deb-901e-ab07f21e1418",
   "metadata": {},
   "source": [
    "# Antwort:"
   ]
  },
  {
   "cell_type": "markdown",
   "id": "049d2fa9-11e8-470b-984e-f005a14157ff",
   "metadata": {},
   "source": [
    "Wird das Modell wirklich an die Daten angepasst oder passen wir die Daten an das Modell an?"
   ]
  },
  {
   "cell_type": "markdown",
   "id": "e0a9c78e-ef0b-4ed5-89d4-5af411af3be9",
   "metadata": {},
   "source": [
    "### Anpassung des Modells vs. Anpassung der Daten\n",
    "\n",
    "1. **Modellanpassung**:\n",
    "   - In vielen Kontexten, insbesondere im maschinellen Lernen, bezieht sich das Fitting typischerweise auf die Anpassung eines Modells an die Daten. Das bedeutet, dass das Modell Parameter lernt, um die zugrunde liegenden Muster der Daten zu erfassen. Zum Beispiel könnte ein lineares Regressionsmodell lernen, wie sich der Preis eines Hauses basierend auf seiner Größe ändert. In diesem Kontext würde `fitting` also `trainieren` des Modells bedeuten.\n",
    "\n",
    "<br>\n",
    "\n",
    "2. **Datenanpassung**:\n",
    "   - Bei der Anwendung von Transformationsmethoden wie der Min-Max-Normalisierung wird der Begriff „Fitting“ manchmal auch verwendet, um zu beschreiben, dass die Daten an das Modell oder die Transformation angepasst werden. Hier lernen wir jedoch nicht unbedingt „Muster“ im traditionellen Sinne, sondern wir transformieren die Werte, um sie in einem bestimmten Bereich (z. B. zwischen 0 und 1) darzustellen.\n",
    "\n",
    "### In Ihrem Beispiel\n",
    "\n",
    "In Ihrem Beispiel mit dem `MinMaxScaler`:\n",
    "\n",
    "- **Normalisierung**: \n",
    "  - Hier wird die Spalte „Preis“ so transformiert, dass die Werte in einem festgelegten Bereich (0 bis 1) liegen. Das bedeutet, dass wir die Daten anpassen, um sie für die Analyse oder für das Training eines Modells geeigneter zu machen.\n",
    "  - Die zusätzliche Spalte mit den normalisierten Preisen stellt tatsächlich neue Daten dar, die aus den ursprünglichen Preisdaten abgeleitet wurden. Wir sprechen also von einer **Transformation der Daten**.\n",
    "\n",
    "### Fazit\n",
    "\n",
    "- Bei der Normalisierung (oder jeder anderen Datenvorverarbeitung) sagen wir, dass wir die **Daten anpassen**, um sie für das Modell geeigneter zu machen. \n",
    "- Bei der Anwendung eines Modells, wie z. B. der linearen Regression, sagen wir, dass wir das **Modell an die Daten anpassen**. \n",
    "\n",
    "Die Begriffe „Anpassung des Modells“ und „Anpassung der Daten“ sind also kontextabhängig und beziehen sich auf unterschiedliche Aspekte des Analyseprozesses. In Ihrem Beispiel mit `MinMaxScaler` geht es um die **Anpassung der Daten**. In einem maschinellen Lernkontext würde man hingegen von der **Anpassung des Modells** sprechen, wenn wir versuchen, ein Modell zu trainieren, um Vorhersagen auf der Grundlage der gegebenen Daten zu treffen."
   ]
  },
  {
   "cell_type": "code",
   "execution_count": null,
   "id": "4a36ed5c-e045-47c7-a05f-a142cce99e5d",
   "metadata": {},
   "outputs": [],
   "source": []
  }
 ],
 "metadata": {
  "kernelspec": {
   "display_name": "Python 3 (ipykernel)",
   "language": "python",
   "name": "python3"
  },
  "language_info": {
   "codemirror_mode": {
    "name": "ipython",
    "version": 3
   },
   "file_extension": ".py",
   "mimetype": "text/x-python",
   "name": "python",
   "nbconvert_exporter": "python",
   "pygments_lexer": "ipython3",
   "version": "3.12.6"
  }
 },
 "nbformat": 4,
 "nbformat_minor": 5
}
