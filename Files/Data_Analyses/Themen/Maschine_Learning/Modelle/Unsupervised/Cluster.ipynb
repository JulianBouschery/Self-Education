{
 "cells": [
  {
   "cell_type": "markdown",
   "id": "c26aa939-6b1e-4c16-948b-4ab3e81edb34",
   "metadata": {},
   "source": [
    "# Cluster"
   ]
  },
  {
   "cell_type": "code",
   "execution_count": 5,
   "id": "3e95475e-a6cb-4cde-857a-58c0b7bc817e",
   "metadata": {},
   "outputs": [
    {
     "data": {
      "application/vnd.jupyter.widget-view+json": {
       "model_id": "82fcff8c93704847af0dcd8b7aa2e6e8",
       "version_major": 2,
       "version_minor": 0
      },
      "text/plain": [
       "interactive(children=(IntSlider(value=5, description='iteration', max=10), Output()), _dom_classes=('widget-in…"
      ]
     },
     "metadata": {},
     "output_type": "display_data"
    },
    {
     "data": {
      "text/plain": [
       "<function __main__.plot_clusters(iteration)>"
      ]
     },
     "execution_count": 5,
     "metadata": {},
     "output_type": "execute_result"
    }
   ],
   "source": [
    "import numpy as np\n",
    "import matplotlib.pyplot as plt\n",
    "from ipywidgets import interact\n",
    "\n",
    "# Erstelle zufällige Datenpunkte\n",
    "np.random.seed(42)\n",
    "data = np.random.rand(100, 2)\n",
    "\n",
    "# Anzahl der Cluster\n",
    "k = 3\n",
    "\n",
    "# Initialisiere k zufällige Centroids\n",
    "centroids = data[np.random.choice(data.shape[0], k, replace=False)]\n",
    "\n",
    "# Liste, um die Centroid-Positionen nach jeder Iteration zu speichern\n",
    "centroid_history = [centroids.copy()]\n",
    "\n",
    "# K-Means Algorithmus\n",
    "for iteration in range(10):\n",
    "    # Weisen Sie jeden Punkt dem nächsten Centroid zu\n",
    "    distances = np.linalg.norm(data[:, np.newaxis] - centroids, axis=2)\n",
    "    labels = np.argmin(distances, axis=1)\n",
    "    \n",
    "    # Berechne die neuen Centroids\n",
    "    new_centroids = np.array([data[labels == i].mean(axis=0) for i in range(k)])\n",
    "    \n",
    "    # Speichere die Centroid-Positionen\n",
    "    centroid_history.append(new_centroids)\n",
    "    \n",
    "    # Aktualisiere Centroids\n",
    "    centroids = new_centroids\n",
    "\n",
    "# Funktion zum Plotten der Datenpunkte und Centroids\n",
    "def plot_clusters(iteration):\n",
    "    plt.figure(figsize=(8, 6))\n",
    "    colors = ['r', 'g', 'b']\n",
    "    \n",
    "    for i in range(k):\n",
    "        # Weise die Punkte den Clustern zu\n",
    "        cluster_points = data[labels == i]\n",
    "        plt.scatter(cluster_points[:, 0], cluster_points[:, 1], color=colors[i], label=f'Cluster {i+1}')\n",
    "    \n",
    "    plt.scatter(centroid_history[iteration][:, 0], centroid_history[iteration][:, 1], \n",
    "                color='black', marker='X', s=200, label='Centroids')\n",
    "    \n",
    "    plt.title(f'Iteration {iteration}')\n",
    "    plt.xlabel('Feature 1')\n",
    "    plt.ylabel('Feature 2')\n",
    "    plt.legend()\n",
    "    plt.grid(True)\n",
    "    plt.xlim(0, 1)\n",
    "    plt.ylim(0, 1)\n",
    "    plt.show()\n",
    "\n",
    "# Interaktive Visualisierung mit einem Slider\n",
    "interact(plot_clusters, iteration=(0, 10, 1))\n"
   ]
  },
  {
   "cell_type": "code",
   "execution_count": null,
   "id": "8bf108ab-34b9-416a-9c62-566c12097000",
   "metadata": {},
   "outputs": [],
   "source": []
  },
  {
   "cell_type": "code",
   "execution_count": null,
   "id": "146de612-9bfa-4714-a41e-401b64dc306f",
   "metadata": {},
   "outputs": [],
   "source": []
  }
 ],
 "metadata": {
  "kernelspec": {
   "display_name": "Python 3 (ipykernel)",
   "language": "python",
   "name": "python3"
  },
  "language_info": {
   "codemirror_mode": {
    "name": "ipython",
    "version": 3
   },
   "file_extension": ".py",
   "mimetype": "text/x-python",
   "name": "python",
   "nbconvert_exporter": "python",
   "pygments_lexer": "ipython3",
   "version": "3.12.6"
  }
 },
 "nbformat": 4,
 "nbformat_minor": 5
}
