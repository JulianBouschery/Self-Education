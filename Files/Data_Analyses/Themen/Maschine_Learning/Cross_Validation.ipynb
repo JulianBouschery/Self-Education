{
 "cells": [
  {
   "cell_type": "markdown",
   "id": "38b8db05-42db-4ae8-9b83-fb25131a70f1",
   "metadata": {},
   "source": [
    "# Cross-Validation"
   ]
  },
  {
   "cell_type": "markdown",
   "id": "69ab11df-0129-4b60-8f09-9d8505553c2b",
   "metadata": {},
   "source": [
    "https://de.wikipedia.org/wiki/Kreuzvalidierungsverfahren"
   ]
  },
  {
   "cell_type": "code",
   "execution_count": null,
   "id": "41261961-945f-416e-bdb5-497d9421dfdb",
   "metadata": {},
   "outputs": [],
   "source": []
  }
 ],
 "metadata": {
  "kernelspec": {
   "display_name": "Python 3 (ipykernel)",
   "language": "python",
   "name": "python3"
  },
  "language_info": {
   "codemirror_mode": {
    "name": "ipython",
    "version": 3
   },
   "file_extension": ".py",
   "mimetype": "text/x-python",
   "name": "python",
   "nbconvert_exporter": "python",
   "pygments_lexer": "ipython3",
   "version": "3.12.6"
  }
 },
 "nbformat": 4,
 "nbformat_minor": 5
}
