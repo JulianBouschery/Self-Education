{
 "cells": [
  {
   "cell_type": "markdown",
   "id": "19054d01-695d-4660-8277-12070320554f",
   "metadata": {},
   "source": [
    "# Maschine Learning"
   ]
  },
  {
   "cell_type": "markdown",
   "id": "1f857b7a-e979-48f3-add9-9ceb4cc12166",
   "metadata": {},
   "source": [
    "### Was ist Maschine Learning? "
   ]
  },
  {
   "cell_type": "markdown",
   "id": "459495e9-9332-4942-8dd1-9d86e4fbb843",
   "metadata": {},
   "source": [
    "Maschinelles Lernen ist ein Teilgebiet der Künstlichen Intelligenz, bei dem Algorithmen aus Daten lernen und Muster erkennen, um Vorhersagen oder Entscheidungen zu treffen, ohne explizit programmiert zu werden."
   ]
  },
  {
   "cell_type": "markdown",
   "id": "f4a2c3ad-aec9-4cff-9ac8-eb753e50422f",
   "metadata": {},
   "source": [
    "### Was für [Unterschiedliche Modelle](Unterschiedliche_Modelle.ipynb) gibt es im Maschine Learning?"
   ]
  },
  {
   "cell_type": "markdown",
   "id": "f863c57b-c3db-4fb7-9998-fc859d34ea3c",
   "metadata": {},
   "source": [
    "Im maschinellen Lernen gibt es verschiedene Modelle, darunter:\n",
    "- überwachtes Lernen (Supervised Learning),\n",
    "- unüberwachtes Lernen (Unsupervised Learning),\n",
    "- bestärkendes Lernen (Reinforcement Learning) und\n",
    "- halbüberwachtes Lernen (Semi-Supervised Learning),\n",
    "\n",
    "die je nach Datenstruktur und Aufgabenstellung verwendet werden."
   ]
  },
  {
   "cell_type": "markdown",
   "id": "59af094c-c7ce-4f2b-8d76-c8f65799af2f",
   "metadata": {},
   "source": [
    "Jedes dieser Modelle verwendet widerum unterschiedliche Methoden, die unter den entsprechenden Methoden zu finden sind."
   ]
  },
  {
   "cell_type": "markdown",
   "id": "1e2af599-b68a-4888-b1d8-7662a4e068ba",
   "metadata": {},
   "source": [
    "\n",
    "- Polynome\n",
    "- Supervised und Unsupervised Learning\n",
    "- KNN\n",
    "- Wie groß muss ein Datensatz / eine Stichprobe sein?\n",
    "- Korrelation ist nicht gleich Kausalität\n",
    "- Support Vector Maschine\n",
    "- Verwirrungsmatrix\n",
    "- Hypotesentesting\n",
    "- Regression\n",
    "    - Lineare Regression\n",
    "    - Logistische Regression\n"
   ]
  },
  {
   "cell_type": "code",
   "execution_count": null,
   "id": "c897488f-3b9b-40c6-a19b-c7ddccd933f8",
   "metadata": {},
   "outputs": [],
   "source": [
    "https://dida.do/de/knowledge/stakeholder-in-machine-learning-projekten"
   ]
  },
  {
   "cell_type": "markdown",
   "id": "0f616560-2ba9-416a-bccd-cc55fc1fa81d",
   "metadata": {},
   "source": [
    "KPI's"
   ]
  }
 ],
 "metadata": {
  "kernelspec": {
   "display_name": "Python 3 (ipykernel)",
   "language": "python",
   "name": "python3"
  },
  "language_info": {
   "codemirror_mode": {
    "name": "ipython",
    "version": 3
   },
   "file_extension": ".py",
   "mimetype": "text/x-python",
   "name": "python",
   "nbconvert_exporter": "python",
   "pygments_lexer": "ipython3",
   "version": "3.12.6"
  }
 },
 "nbformat": 4,
 "nbformat_minor": 5
}
