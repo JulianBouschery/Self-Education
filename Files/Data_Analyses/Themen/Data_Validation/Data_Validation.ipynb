{
 "cells": [
  {
   "cell_type": "markdown",
   "metadata": {},
   "source": [
    "Block 1: Data Acqusation and PreProcessin\n",
    "\n",
    "Data Validation and Integrity\n",
    "\n",
    "- Objective 1.3.1 – Execute and understand basic data validation methods.\n",
    "    - Perform type, range, and cross-reference checks.\n",
    "- Objective 1.3.2 – Establish and maintain data integrity through clear validation rules.\n",
    "    - Understand the concept of data integrity and its importance in maintaining reliable and accurate databases.\n",
    "    \n",
    "    - Apply clear validation rules that enforce the correctness and consistency of data."
   ]
  },
  {
   "cell_type": "markdown",
   "metadata": {},
   "source": [
    "# Datenvalidierung – Typen-, Bereichs- und Querverweisprüfungen"
   ]
  },
  {
   "cell_type": "markdown",
   "metadata": {},
   "source": [
    "### 2.1 Typprüfungen (Type Checking)"
   ]
  },
  {
   "cell_type": "markdown",
   "metadata": {},
   "source": [
    "- Konzepte:\n",
    "    - Überprüfen, ob die Datentypen korrekt sind (z.B. String, Integer, Float).\n",
    "    - Python bietet verschiedene Funktionen zur Überprüfung von Datentypen."
   ]
  },
  {
   "cell_type": "markdown",
   "metadata": {},
   "source": [
    "Warum ist die Datenvalidierung und Datenintegrität so wichtig?\n",
    "\n",
    "vgl. https://www.astera.com/de/type/blog/data-integrity-vs-data-quality/"
   ]
  },
  {
   "cell_type": "markdown",
   "metadata": {},
   "source": [
    "\n",
    "#### Beispiel"
   ]
  },
  {
   "cell_type": "code",
   "execution_count": 1,
   "metadata": {},
   "outputs": [
    {
     "name": "stdout",
     "output_type": "stream",
     "text": [
      "Fehler: 'Alter' enthält nicht-numerische Werte.\n"
     ]
    }
   ],
   "source": [
    "import pandas as pd\n",
    "\n",
    "# Beispiel-Daten\n",
    "df = pd.DataFrame({\n",
    "    'Name': ['Alice', 'Bob', 'Charlie', 'Jimy'],\n",
    "    'Alter': [25, 30, 'NaN', 19],  # Ungültiger Wert\n",
    "    'Gehalt': [50000.0, 60000.5, '70k', -1]  # Ungültiger Wert\n",
    "})\n",
    "\n",
    "# Überprüfen des Typs der Spalte 'Alter'\n",
    "if not pd.api.types.is_numeric_dtype(df['Alter']):\n",
    "    print(\"Fehler: 'Alter' enthält nicht-numerische Werte.\")\n"
   ]
  },
  {
   "cell_type": "markdown",
   "metadata": {},
   "source": [
    "### 2.2 Bereichsprüfungen (Range Checking)"
   ]
  },
  {
   "cell_type": "markdown",
   "metadata": {},
   "source": [
    "- Konzepte:\n",
    "    - Überprüfen, ob numerische Werte innerhalb eines akzeptablen Bereichs liegen (z.B. Alter > 0, Gehalt > 0)."
   ]
  },
  {
   "cell_type": "markdown",
   "metadata": {},
   "source": [
    "\n",
    "Python Beispiel:"
   ]
  },
  {
   "cell_type": "code",
   "execution_count": 2,
   "metadata": {},
   "outputs": [],
   "source": [
    "# Überprüfen, ob die Alterswerte innerhalb eines akzeptablen Bereichs liegen\n",
    "if df['Alter'].apply(pd.to_numeric, errors='coerce').min() < 0:\n",
    "    print(\"Fehler: Das Alter enthält ungültige Werte.\")\n"
   ]
  },
  {
   "cell_type": "markdown",
   "metadata": {},
   "source": [
    "2.3 Querverweisprüfungen (Cross-Reference Checking)\n",
    "\n",
    "- Konzepte:\n",
    "    - Überprüfen von Beziehungen zwischen Spalten, z.B. dass das Gehalt eines Mitarbeiters nicht negativ sein darf, wenn das Alter größer als 18 ist.\n",
    "    \n"
   ]
  },
  {
   "cell_type": "markdown",
   "metadata": {},
   "source": [
    "Python Beispiel:"
   ]
  },
  {
   "cell_type": "code",
   "execution_count": 3,
   "metadata": {},
   "outputs": [
    {
     "name": "stdout",
     "output_type": "stream",
     "text": [
      "Fehler: Es gibt Mitarbeiter über 18 mit ungültigem Gehalt.\n"
     ]
    }
   ],
   "source": [
    "import pandas as pd\n",
    "\n",
    "# Konvertiere 'Alter' und 'Gehalt' in numerische Werte\n",
    "df['Alter'] = pd.to_numeric(df['Alter'], errors='coerce')\n",
    "df['Gehalt'] = pd.to_numeric(df['Gehalt'], errors='coerce')\n",
    "\n",
    "# Überprüfen von Cross-Reference-Regeln (z.B. Gehalt > 0 für Alter > 18)\n",
    "invalid_entries = df[(df['Alter'] > 18) & (df['Gehalt'] <= 0)]\n",
    "\n",
    "# Überprüfung, ob es ungültige Einträge gibt\n",
    "if not invalid_entries.empty:\n",
    "    print(\"Fehler: Es gibt Mitarbeiter über 18 mit ungültigem Gehalt.\")\n"
   ]
  },
  {
   "cell_type": "markdown",
   "metadata": {},
   "source": [
    "3. Sicherstellung der Datenintegrität\n",
    "\n",
    "3.1 Definition und Bedeutung der Datenintegrität\n",
    "\n",
    "- Konzepte:\n",
    "\n",
    "    - Datenintegrität bedeutet, dass die Daten über den gesamten Lebenszyklus hinweg genau, vollständig und zuverlässig sind.\n",
    "    - Warum ist das wichtig?: Inkonsistente oder falsche Daten führen zu falschen Entscheidungen und unzuverlässigen Analysen.\n",
    "\n",
    "- Beispiele:\n",
    "    - Referenzielle Integrität: Stellen Sie sicher, dass es keine „Waiseneinträge“ in verknüpften Tabellen gibt.\n",
    "    - Einschränkungen und Regeln: Durchsetzen von Regeln wie Eindeutigkeit, NULL-Werte verhindern.\n",
    "\n",
    "3.2 Anwendung klarer Validierungsregeln\n",
    "\n",
    "- Konzepte:\n",
    "\n",
    "    - Eindeutigkeit: Stellen Sie sicher, dass wichtige Felder (z.B. Mitarbeiter-ID, E-Mail) eindeutig sind.\n",
    "    - NULL-Werte vermeiden: Validieren, dass Felder, die nicht NULL sein dürfen, auch nicht NULL sind.\n",
    "\n"
   ]
  },
  {
   "cell_type": "markdown",
   "metadata": {},
   "source": [
    "\n",
    "Python Beispiel:"
   ]
  },
  {
   "cell_type": "code",
   "execution_count": 4,
   "metadata": {},
   "outputs": [
    {
     "name": "stdout",
     "output_type": "stream",
     "text": [
      "Originaler DataFrame:\n",
      "      Name                Email\n",
      "0    Alice    alice@example.com\n",
      "1      Bob      bob@example.com\n",
      "2  Charlie  charlie@example.com\n",
      "3    David      bob@example.com\n",
      "4      Eve                 None\n",
      "Fehler: Es gibt doppelte E-Mail-Adressen.\n",
      "Fehler: Es gibt fehlende E-Mail-Adressen.\n"
     ]
    }
   ],
   "source": [
    "import pandas as pd\n",
    "\n",
    "# Beispiel-DatenFrame mit Email-Adressen, einigen doppelten und einem fehlenden Wert\n",
    "df = pd.DataFrame({\n",
    "    'Name': ['Alice', 'Bob', 'Charlie', 'David', 'Eve'],\n",
    "    'Email': ['alice@example.com', 'bob@example.com', 'charlie@example.com', 'bob@example.com', None]  # Doppelte und fehlende E-Mail\n",
    "})\n",
    "\n",
    "print(\"Originaler DataFrame:\")\n",
    "print(df)\n",
    "\n",
    "# Überprüfen auf doppelte Werte in der Spalte 'E-Mail'\n",
    "if df['Email'].duplicated().any():\n",
    "    print(\"Fehler: Es gibt doppelte E-Mail-Adressen.\")\n",
    "\n",
    "# Überprüfen auf NULL-Werte in einer obligatorischen Spalte\n",
    "if df['Email'].isnull().any():\n",
    "    print(\"Fehler: Es gibt fehlende E-Mail-Adressen.\")\n"
   ]
  },
  {
   "cell_type": "markdown",
   "metadata": {},
   "source": [
    "4. Praktische Anwendung von Datenvalidierung und -integrität\n",
    "\n",
    "Fallstudie:\n",
    "- Beispiel eines Unternehmens, das durch mangelnde Datenvalidierung und fehlende Integrität falsche Entscheidungen getroffen hat.\n",
    "- Diskussion der Fehler und wie sie durch klare Validierungsregeln und Integritätsprüfungen vermieden werden könnten.\n",
    "\n"
   ]
  },
  {
   "cell_type": "markdown",
   "metadata": {},
   "source": [
    "\n",
    "5. Zusammenfassung:\n",
    "\n",
    "- Die Bedeutung der Datenvalidierung und -integrität für den Erfolg jeder datengetriebenen Entscheidung.\n",
    "- Vorstellung der wichtigsten Techniken, die in Python verwendet werden, um Typ-, Bereichs- und Querverweisprüfungen durchzuführen.\n",
    "- Diskussion, wie man durch klare Regeln und Constraints sicherstellt, dass Daten genau und zuverlässig bleiben.\n"
   ]
  },
  {
   "cell_type": "markdown",
   "metadata": {},
   "source": [
    "\n",
    "\n",
    "Wichtige Erkenntnisse:\n",
    "\n",
    "- Datenvalidierung ist entscheidend, um sicherzustellen, dass die Daten korrekt, konsistent und vollständig sind, bevor sie in Analysen oder Algorithmen verwendet werden.\n",
    "- Datenintegrität sorgt dafür, dass Daten über ihren gesamten Lebenszyklus hinweg genau bleiben und dass keine fehlerhaften oder ungenauen Daten in die Datenbank gelangen.\n",
    "- Typ-, Bereichs- und Querverweisprüfungen sind einfache, aber effektive Methoden, um sicherzustellen, dass die Daten den vorgegebenen Anforderungen entsprechen."
   ]
  },
  {
   "cell_type": "markdown",
   "metadata": {},
   "source": [
    "Übungsaufgabe:"
   ]
  },
  {
   "cell_type": "markdown",
   "metadata": {},
   "source": [
    "1.) Range Validation (Bereichsvalidierung)\n",
    "\n",
    "Die Bereichsvalidierung überprüft, ob die Daten innerhalb eines bestimmten zulässigen Bereichs liegen."
   ]
  },
  {
   "cell_type": "markdown",
   "metadata": {},
   "source": [
    "Überprüfe, ob Alter zwischen 0 und 100 liegen"
   ]
  },
  {
   "cell_type": "code",
   "execution_count": 26,
   "metadata": {},
   "outputs": [
    {
     "name": "stdout",
     "output_type": "stream",
     "text": [
      "Ungültige Werte: Boolean array expected for the condition, not object\n"
     ]
    }
   ],
   "source": [
    "import pandas as pd\n",
    "\n",
    "# Beispiel-Daten\n",
    "data = {'Alter': [25, 30, -5, 100, 40]}\n",
    "df = pd.DataFrame(data)\n",
    "\n",
    "# Bereichsvalidierung (Alter sollte zwischen 0 und 100 liegen)\n",
    "# valid_range = df[(df['Alter'] > 0) & (df['Alter'] <= 100)]\n",
    "\n",
    "valid_range = df[(df['Alter'] > 0) & (df['Alter'] <= 100)]\n",
    "\n",
    "try: \n",
    "    print(df[~valid_range])\n",
    "except Exception as error:\n",
    "    print(f\"Ungültige Werte: {error}\")"
   ]
  },
  {
   "cell_type": "code",
   "execution_count": 27,
   "metadata": {},
   "outputs": [
    {
     "name": "stdout",
     "output_type": "stream",
     "text": [
      "Ungültige Werte:\n",
      "   Alter\n",
      "2     -5\n"
     ]
    }
   ],
   "source": [
    "import pandas as pd\n",
    " \n",
    "# Beispiel-Daten\n",
    "data = {'Alter': [25, 30, -5, 100, 40]}\n",
    "df = pd.DataFrame(data)\n",
    " \n",
    "# Bereichsvalidierung (Alter sollte zwischen 0 und 100 liegen)\n",
    "valid_range = df['Alter'].between(0, 100)\n",
    " \n",
    "print(\"Ungültige Werte:\")\n",
    "print(df[~valid_range])\n",
    " "
   ]
  },
  {
   "cell_type": "markdown",
   "metadata": {},
   "source": [
    "2.) Format Validation (Formatvalidierung)\n",
    "\n",
    "Formatvalidierung stellt sicher, dass bestimmte Felder einem festgelegten Format entsprechen, wie z.B. E-Mail-Adressen, Telefonnummern oder Datumsangaben."
   ]
  },
  {
   "cell_type": "markdown",
   "metadata": {},
   "source": [
    "Versuchen Sie den Code zu verstehen!"
   ]
  },
  {
   "cell_type": "code",
   "execution_count": null,
   "metadata": {},
   "outputs": [],
   "source": [
    "import re\n",
    "\n",
    "# Beispiel-Daten\n",
    "emails = ['test@example.com', 'invalid-email', 'user@domain.com']\n",
    "\n",
    "# Funktion zur Überprüfung des E-Mail-Formats\n",
    "def is_valid_email(email):\n",
    "    return re.match(r\".....\", email) is not None   # Muster für eine Email-Prpfung!\n",
    "\n",
    "\n",
    "# Überprüfung der E-Mails\n",
    "valid_emails = [email for email in emails if is_valid_email(email)]\n",
    "\n"
   ]
  },
  {
   "cell_type": "markdown",
   "metadata": {},
   "source": [
    "Befehl\n"
   ]
  },
  {
   "cell_type": "code",
   "execution_count": 28,
   "metadata": {},
   "outputs": [
    {
     "name": "stdout",
     "output_type": "stream",
     "text": [
      "Gültige E-Mail-Adressen:\n",
      "['test@example.com', 'user@domain.com']\n"
     ]
    }
   ],
   "source": [
    "import re\n",
    " \n",
    "# Beispiel-Daten\n",
    "emails = ['test@example.com', 'invalid-email', 'user@domain.com']\n",
    " \n",
    "# Funktion zur Überprüfung des E-Mail-Formats\n",
    "def is_valid_email(email):\n",
    "    return re.match(r\"^[\\w\\.-]+@[\\w\\.-]+\\.\\w+$\", email) is not None  # Muster für eine E-Mail-Prüfung!\n",
    " \n",
    "# Überprüfung der E-Mails\n",
    "valid_emails = [email for email in emails if is_valid_email(email)]\n",
    " \n",
    "print(\"Gültige E-Mail-Adressen:\")\n",
    "print(valid_emails)"
   ]
  },
  {
   "cell_type": "markdown",
   "metadata": {},
   "source": [
    "https://stackoverflow.com/questions/19900202/how-to-determine-whether-a-column-variable-is-numeric-or-not-in-pandas-numpy"
   ]
  },
  {
   "cell_type": "markdown",
   "metadata": {},
   "source": [
    "4. Data Type Validation (Datentypvalidierung)\n",
    "\n",
    "Datentypvalidierung überprüft, ob die Daten dem erwarteten Datentyp entsprechen, wie z.B. Integer, Float oder String.\n",
    "\n",
    "Beispiel:"
   ]
  },
  {
   "cell_type": "markdown",
   "metadata": {},
   "source": [
    "Überprüfe ob die Werte Integer sind"
   ]
  },
  {
   "cell_type": "code",
   "execution_count": null,
   "metadata": {},
   "outputs": [],
   "source": [
    "# Beispiel-Daten\n",
    "data = {'Wert': [10, 'zwanzig', 30, 'vierzig']}\n",
    "\n",
    "df = pd.DataFrame(data)\n",
    "\n",
    "# Funktion zur Überprüfung, ob der Wert ein Integer ist\n",
    "df['Wert_is_valid'] = df['Wert'].apply(lambda x: .... )\n",
    "\n",
    "print(df)\n"
   ]
  },
  {
   "cell_type": "markdown",
   "metadata": {},
   "source": [
    "4. Completeness Validation (Vollständigkeitsvalidierung)\n",
    "\n",
    "Vollständigkeitsvalidierung stellt sicher, dass keine wichtigen Felder leer oder null sind.\n",
    "\n",
    "Beispiel:"
   ]
  },
  {
   "cell_type": "code",
   "execution_count": null,
   "metadata": {},
   "outputs": [],
   "source": [
    "# Beispiel-Daten\n",
    "data = {'Name': ['Alice', 'Bob', None, 'David'], 'Alter': [25, 30, None, 40]}\n",
    "df = pd.DataFrame(data)\n",
    "\n",
    "# Überprüfen auf fehlende Werte\n",
    "missing_data = df. ....\n",
    "\n",
    "print(\"Fehlende Werte:\")\n",
    "print(missing_data)\n"
   ]
  },
  {
   "cell_type": "markdown",
   "metadata": {},
   "source": [
    "5.) Cross-Reference Checking (Validierung durch Querverweise) \n",
    "\n",
    "Man bezieht sich auf das Überprüfen von Daten, um sicherzustellen, dass sie in mehreren Feldern oder Datensätzen konsistent sind. In einfachen Worten: Es wird überprüft, ob Daten, die in einem Feld oder einer Spalte vorkommen, auch in einem anderen verwandten Feld korrekt referenziert werden. Dies wird oft verwendet, um sicherzustellen, dass z.B. Fremdschlüssel in Datenbanken korrekt sind oder dass eine ID in einer Tabelle mit einer ID in einer anderen Tabelle übereinstimmt."
   ]
  },
  {
   "cell_type": "code",
   "execution_count": null,
   "metadata": {},
   "outputs": [],
   "source": [
    "import pandas as pd\n",
    "\n",
    "# Beispiel-Daten: Kundenliste\n",
    "kunden_df = pd.DataFrame({\n",
    "    'Customer ID': [1, 2, 3, 4],\n",
    "    'Name': ['Alice', 'Bob', 'Charlie', 'David']\n",
    "})\n",
    "\n",
    "# Beispiel-Daten: Bestellliste\n",
    "bestellungen_df = pd.DataFrame({\n",
    "    'Order ID': [101, 102, 103, 104],\n",
    "    'Customer ID': [1, 2, 5, 3],\n",
    "    'Amount': [250, 150, 300, 500]\n",
    "})\n",
    "\n",
    "# Cross-Reference Checking: Überprüfen, ob jede 'Customer ID' in der Bestellliste auch in der Kundenliste existiert\n",
    "valid_customers = bestellungen_df['Customer ID'].isin(.....)\n",
    "\n",
    "# Ausgabe von gültigen und ungültigen Bestellungen\n",
    "print(\"Gültige Bestellungen:\")\n",
    "print(bestellungen_df[valid_customers])\n",
    "\n",
    "print(\"\\nUngültige Bestellungen (Customer ID nicht gefunden):\")\n",
    "print(bestellungen_df[~valid_customers])\n"
   ]
  },
  {
   "cell_type": "markdown",
   "metadata": {},
   "source": [
    "https://docs.python.org/3/library/re.html"
   ]
  },
  {
   "cell_type": "code",
   "execution_count": 29,
   "metadata": {},
   "outputs": [
    {
     "name": "stdout",
     "output_type": "stream",
     "text": [
      "Gültige Bestellungen:\n",
      "   Order_ID  Customer_ID  Amount\n",
      "0       101            1     250\n",
      "1       102            2     150\n",
      "3       104            3     500\n",
      "\n",
      "Ungültige Bestellungen (Customer_ID nicht gefunden):\n",
      "   Order_ID  Customer_ID  Amount\n",
      "2       103            5     300\n"
     ]
    }
   ],
   "source": [
    "import pandas as pd\n",
    " \n",
    "# Beispiel-Daten: Kundenliste\n",
    "kunden_df = pd.DataFrame({\n",
    "    'Customer_ID': [1, 2, 3, 4],\n",
    "    'Name': ['Alice', 'Bob', 'Charlie', 'David']\n",
    "})\n",
    " \n",
    "# Beispiel-Daten: Bestellliste\n",
    "bestellungen_df = pd.DataFrame({\n",
    "    'Order_ID': [101, 102, 103, 104],\n",
    "    'Customer_ID': [1, 2, 5, 3],\n",
    "    'Amount': [250, 150, 300, 500]\n",
    "})\n",
    " \n",
    "# Cross-Reference Checking: Überprüfen, ob jede 'Customer ID' in der Bestellliste auch in der Kundenliste existiert\n",
    "valid_customers = bestellungen_df['Customer_ID'].isin(kunden_df['Customer_ID'])\n",
    " \n",
    "# Ausgabe von gültigen und ungültigen Bestellungen\n",
    "print(\"Gültige Bestellungen:\")\n",
    "print(bestellungen_df[valid_customers])\n",
    " \n",
    "print(\"\\nUngültige Bestellungen (Customer_ID nicht gefunden):\")\n",
    "print(bestellungen_df[~valid_customers])"
   ]
  },
  {
   "cell_type": "code",
   "execution_count": null,
   "metadata": {},
   "outputs": [],
   "source": []
  }
 ],
 "metadata": {
  "kernelspec": {
   "display_name": "Python 3 (ipykernel)",
   "language": "python",
   "name": "python3"
  },
  "language_info": {
   "codemirror_mode": {
    "name": "ipython",
    "version": 3
   },
   "file_extension": ".py",
   "mimetype": "text/x-python",
   "name": "python",
   "nbconvert_exporter": "python",
   "pygments_lexer": "ipython3",
   "version": "3.12.6"
  }
 },
 "nbformat": 4,
 "nbformat_minor": 4
}
