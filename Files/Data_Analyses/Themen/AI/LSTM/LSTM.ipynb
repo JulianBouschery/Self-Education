{
 "cells": [
  {
   "cell_type": "markdown",
   "id": "ee04d79a-ceca-441d-98d2-b1653361c43b",
   "metadata": {},
   "source": [
    "# Long Short-Term Memory (LSTM)"
   ]
  },
  {
   "cell_type": "markdown",
   "id": "2cc438ca-20d8-4709-9355-3c875e3cbe83",
   "metadata": {},
   "source": [
    "LSTM (Long Short-Term Memory) ist ein spezieller Typ von **Recurrent Neural Network (RNN)**, der entwickelt wurde, um das Problem des **Langzeitgedächtnisses** in neuronalen Netzen zu lösen. Herkömmliche RNNs haben Schwierigkeiten, sich über längere Sequenzen hinweg an Informationen zu erinnern, und leiden oft an dem sogenannten **Vanishing Gradient Problem**, wodurch sie wichtige Informationen aus früheren Zeitschritten \"vergessen\" oder nicht gut verarbeiten können."
   ]
  },
  {
   "cell_type": "markdown",
   "id": "3eb0e0b4-72cd-40c8-9694-aaff5662cecf",
   "metadata": {},
   "source": [
    "### Hauptmerkmale von LSTM:"
   ]
  },
  {
   "cell_type": "markdown",
   "id": "2b8ced33-9322-49c8-8a58-8de9c733b39f",
   "metadata": {},
   "source": [
    "1. **Gedächtniszellen (Memory Cells)**: LSTM-Netzwerke bestehen aus speziellen Zellen, die über längere Zeiträume Informationen speichern können. Diese Zellen können Informationen je nach Bedarf speichern, abrufen oder vergessen.\n",
    "\n",
    "2. **Gating-Mechanismen**: LSTM hat drei Haupttore (Gates), die den Informationsfluss kontrollieren:\n",
    "   - **Forget Gate**: Bestimmt, welche Informationen aus der Gedächtniszelle verworfen werden sollen.\n",
    "   - **Input Gate**: Kontrolliert, welche neuen Informationen in die Gedächtniszelle aufgenommen werden.\n",
    "   - **Output Gate**: Entscheidet, welche Informationen aus der Gedächtniszelle ausgegeben und weitergegeben werden.\n",
    "\n",
    "3. **Langzeit- und Kurzzeitspeicher**: LSTMs sind in der Lage, sowohl Informationen über kürzere als auch über längere Zeiträume zu speichern und abzurufen, was sie besonders geeignet für Aufgaben macht, bei denen die Reihenfolge und der zeitliche Verlauf der Daten wichtig sind."
   ]
  },
  {
   "cell_type": "markdown",
   "id": "cc433b26-2991-497c-90ce-177feac8f91c",
   "metadata": {},
   "source": [
    "### Anwendungen:"
   ]
  },
  {
   "cell_type": "markdown",
   "id": "33205233-167e-4798-9251-5e698cb2fceb",
   "metadata": {},
   "source": [
    "- **Spracherkennung und -verarbeitung**: z. B. für automatische Übersetzung, Texterkennung, Sprachgenerierung.\n",
    "- **Zeitreihenanalyse**: z. B. für Vorhersagen auf Basis von historischen Daten (Wettervorhersage, Aktienmärkte).\n",
    "- **Videoanalyse**: z. B. zur Erkennung von Aktionen in Videos.\n",
    "- **Robotik und Steuerung**: zur Verarbeitung von Sensordaten über einen Zeitraum."
   ]
  },
  {
   "cell_type": "markdown",
   "id": "3bbbe8c7-3c75-4a7c-9a58-c2a101e1a1dc",
   "metadata": {},
   "source": [
    "### Beispiel:"
   ]
  },
  {
   "cell_type": "markdown",
   "id": "c2dacce9-e646-4aaf-a50a-d4cbfcccf015",
   "metadata": {},
   "source": [
    "In Python mit der Bibliothek `Keras` lässt sich ein einfaches LSTM-Modell so implementieren:\n",
    "\n",
    "```python\n",
    "from keras.models import Sequential\n",
    "from keras.layers import LSTM, Dense\n",
    "\n",
    "# LSTM-Modell erstellen\n",
    "model = Sequential()\n",
    "\n",
    "# LSTM-Schicht hinzufügen\n",
    "model.add(LSTM(50, activation='relu', input_shape=(100, 1)))\n",
    "\n",
    "# Dense-Schicht hinzufügen (voll verbundene Schicht)\n",
    "model.add(Dense(1))\n",
    "\n",
    "# Modell kompilieren\n",
    "model.compile(optimizer='adam', loss='mean_squared_error')\n",
    "\n",
    "# Modell zusammenfassen\n",
    "model.summary()\n",
    "```\n",
    "\n",
    "In diesem Beispiel ist `LSTM(50)` eine LSTM-Schicht mit 50 Speicherzellen, die Zeitreihendaten verarbeitet."
   ]
  },
  {
   "cell_type": "code",
   "execution_count": null,
   "id": "e5738f4e-1169-4a62-84d8-006c4c9a656a",
   "metadata": {},
   "outputs": [],
   "source": []
  }
 ],
 "metadata": {
  "kernelspec": {
   "display_name": "Python 3 (ipykernel)",
   "language": "python",
   "name": "python3"
  },
  "language_info": {
   "codemirror_mode": {
    "name": "ipython",
    "version": 3
   },
   "file_extension": ".py",
   "mimetype": "text/x-python",
   "name": "python",
   "nbconvert_exporter": "python",
   "pygments_lexer": "ipython3",
   "version": "3.12.6"
  }
 },
 "nbformat": 4,
 "nbformat_minor": 5
}
