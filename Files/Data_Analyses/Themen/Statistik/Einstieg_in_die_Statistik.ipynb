{
 "cells": [
  {
   "cell_type": "markdown",
   "metadata": {},
   "source": [
    "# Statistik"
   ]
  },
  {
   "cell_type": "markdown",
   "metadata": {},
   "source": [
    "In der Statistik gibt es mehrere Bereiche, deren Methoden in unterschiedlichen Fällen angewandt werden. "
   ]
  },
  {
   "cell_type": "markdown",
   "metadata": {},
   "source": [
    "### Was für Statistiken gibt es?"
   ]
  },
  {
   "cell_type": "markdown",
   "metadata": {},
   "source": [
    "In der Statistik gibt es vier Hauptbereiche:\n",
    "\n",
    "1. **[Deskriptive Statistik](Deskriptive_Statistik.ipynb)**: Beschreibt Daten ohne Verallgemeinerungen auf eine größere Population zu machen.\n",
    "2. **[Explorative Statistik](Explorative_Statistik.ipynb)**: Sucht unbekannte Muster in den Daten und generiert neue Hypothesen.\n",
    "3. **[Induktive (schließende) Statistik](Induktive_Statistik.ipynb)**: Prüft Hypothesen basierend auf Stichprobendaten und wendet Wahrscheinlichkeitsmodelle an, um Aussagen über die Gesamtpopulation zu treffen.\n",
    "4. **Inferenzstatistik**: Nutzt Stichproben, um Rückschlüsse auf die gesamte Population zu ziehen."
   ]
  },
  {
   "cell_type": "markdown",
   "metadata": {},
   "source": [
    "Die Deskriptive Statistik verwendet keine stochastischen Modelle, während die induktive und Inferenzstatistik auf diesen basieren und Fehlerwahrscheinlichkeiten berücksichtigen."
   ]
  },
  {
   "cell_type": "code",
   "execution_count": null,
   "metadata": {},
   "outputs": [],
   "source": []
  }
 ],
 "metadata": {
  "kernelspec": {
   "display_name": "Python 3 (ipykernel)",
   "language": "python",
   "name": "python3"
  },
  "language_info": {
   "codemirror_mode": {
    "name": "ipython",
    "version": 3
   },
   "file_extension": ".py",
   "mimetype": "text/x-python",
   "name": "python",
   "nbconvert_exporter": "python",
   "pygments_lexer": "ipython3",
   "version": "3.12.6"
  }
 },
 "nbformat": 4,
 "nbformat_minor": 4
}
