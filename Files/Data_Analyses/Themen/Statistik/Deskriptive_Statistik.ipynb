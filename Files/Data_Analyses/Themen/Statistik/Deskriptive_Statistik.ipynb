{
 "cells": [
  {
   "cell_type": "markdown",
   "id": "eb04bed1-3310-4960-aec7-17f8107e88aa",
   "metadata": {},
   "source": [
    "# Deskriptive Statistik"
   ]
  },
  {
   "cell_type": "markdown",
   "id": "5422b2e3-dcfb-441f-a440-9cacc41f692d",
   "metadata": {},
   "source": [
    "### Was ist die deskriptive Statistik?"
   ]
  },
  {
   "cell_type": "markdown",
   "id": "3b9964da-995e-496f-ba7d-44cdcc8aabdf",
   "metadata": {},
   "source": [
    "Die deskriptive (auch: beschreibende) Statistik hat zum Ziel, empirische Daten (z. B. Ergebnisse aus Experimenten, Messwerte, etc.) durch Tabellen, Kennzahlen (auch: Maßzahlen oder Parameter genannt) und Grafiken übersichtlich darzustellen und zu ordnen."
   ]
  },
  {
   "cell_type": "markdown",
   "id": "afa9b4d1-ecf5-4b17-a4bd-329d8a35f99e",
   "metadata": {},
   "source": [
    "Ein Hauptanwendungsgebiet der Statistik ist es, eine Aussage über eine [Grundgesamtheit (Population)](../../Zentral_Ordner/Fachwörter/Population.ipynb) zu treffen. Da es in den meisten Fällen aber nicht möglich ist, alle Daten der Grundgesamtheit zu erhalten, wird eine Stichprobe gezogen. Diese Stichprobe kann nun mithilfe der Deskriptiven Statistik beschrieben werden, z. B. mit [Lageparametern](../../Zentral_Ordner/Fachwörter/Lagemaß.ipynb), wie dem Mittelwert und Streuungsparametern wie der [Standardabweichung](../../Zentral_Ordner/Formeln/Standardabweichung.ipynb)."
   ]
  },
  {
   "cell_type": "markdown",
   "id": "019030fd-9b20-474b-b8df-ac259cc67f8b",
   "metadata": {},
   "source": [
    "Einstieg: [Wikipedia: deskriptive Statistik](https://de.m.wikipedia.org/wiki/Deskriptive_Statistik)"
   ]
  },
  {
   "cell_type": "markdown",
   "id": "c52c628f-09aa-4427-8a7c-95f06906d5c5",
   "metadata": {},
   "source": [
    "### Dichte der Daten:"
   ]
  },
  {
   "cell_type": "markdown",
   "id": "3b13b144-1068-4cf8-8cf1-1abdbfc9c891",
   "metadata": {},
   "source": [
    "In der deskriptive Statistik gibt es drei Methoden zur Datenpräsentation, die alle ihre Vor- und Nachteile haben:\n",
    "\n",
    "1. **Tabellen**: Daten in Zeilen und Spalten, bei großen Datensätzen schwer überschaubar.\n",
    "2. **Diagramme**: Grafisch übersichtlich, aber oft mit Informationsverlust.\n",
    "3. **Parameter**: Beschreiben Datenaspekte mit einzelnen Werten, mehrere Parameter nötig, um Informationsverlust auszugleichen."
   ]
  },
  {
   "cell_type": "markdown",
   "id": "76ac7861-6365-4b13-bf4d-4dbed2ed4506",
   "metadata": {},
   "source": [
    "Tabelle zur Veranschaulichung:"
   ]
  },
  {
   "cell_type": "markdown",
   "id": "340540f3-bd5e-4b86-9229-1b782381be33",
   "metadata": {},
   "source": [
    "\n",
    "\n",
    "| **Kriterium**          | **Tabelle** | **Diagramm** | **Parameter** |\n",
    "|------------------------|-------------|--------------|---------------|\n",
    "| Bündelung der Daten    | niedrig     | mittel       | hoch          |\n",
    "| Übersichtlichkeit      | niedrig     | mittel       | hoch          |\n",
    "| Informationsgehalt     | hoch        | mittel       | niedrig       |\n"
   ]
  },
  {
   "cell_type": "markdown",
   "id": "ae2e5e35-cf64-4dd8-9be7-9612d3546b1d",
   "metadata": {},
   "source": [
    "## Daten\n",
    "In diesem Beispiel betrachten wir eine fiktive Datentabelle mit den folgenden Variablen:\n",
    "- **Alter** (in Jahren)\n",
    "- **Einkommen** (in EUR pro Jahr)\n",
    "- **Arbeitsstunden pro Woche**\n"
   ]
  },
  {
   "cell_type": "code",
   "execution_count": 2,
   "id": "e56beeb2-ff15-4c15-b4e9-103bf293f8f9",
   "metadata": {},
   "outputs": [
    {
     "data": {
      "text/html": [
       "<div>\n",
       "<style scoped>\n",
       "    .dataframe tbody tr th:only-of-type {\n",
       "        vertical-align: middle;\n",
       "    }\n",
       "\n",
       "    .dataframe tbody tr th {\n",
       "        vertical-align: top;\n",
       "    }\n",
       "\n",
       "    .dataframe thead th {\n",
       "        text-align: right;\n",
       "    }\n",
       "</style>\n",
       "<table border=\"1\" class=\"dataframe\">\n",
       "  <thead>\n",
       "    <tr style=\"text-align: right;\">\n",
       "      <th></th>\n",
       "      <th>Alter</th>\n",
       "      <th>Einkommen</th>\n",
       "      <th>Arbeitsstunden_pro_Woche</th>\n",
       "    </tr>\n",
       "  </thead>\n",
       "  <tbody>\n",
       "    <tr>\n",
       "      <th>0</th>\n",
       "      <td>23</td>\n",
       "      <td>30000</td>\n",
       "      <td>40</td>\n",
       "    </tr>\n",
       "    <tr>\n",
       "      <th>1</th>\n",
       "      <td>45</td>\n",
       "      <td>45000</td>\n",
       "      <td>50</td>\n",
       "    </tr>\n",
       "    <tr>\n",
       "      <th>2</th>\n",
       "      <td>31</td>\n",
       "      <td>32000</td>\n",
       "      <td>40</td>\n",
       "    </tr>\n",
       "    <tr>\n",
       "      <th>3</th>\n",
       "      <td>35</td>\n",
       "      <td>40000</td>\n",
       "      <td>38</td>\n",
       "    </tr>\n",
       "    <tr>\n",
       "      <th>4</th>\n",
       "      <td>50</td>\n",
       "      <td>60000</td>\n",
       "      <td>60</td>\n",
       "    </tr>\n",
       "    <tr>\n",
       "      <th>5</th>\n",
       "      <td>42</td>\n",
       "      <td>52000</td>\n",
       "      <td>55</td>\n",
       "    </tr>\n",
       "    <tr>\n",
       "      <th>6</th>\n",
       "      <td>29</td>\n",
       "      <td>31000</td>\n",
       "      <td>40</td>\n",
       "    </tr>\n",
       "    <tr>\n",
       "      <th>7</th>\n",
       "      <td>37</td>\n",
       "      <td>47000</td>\n",
       "      <td>48</td>\n",
       "    </tr>\n",
       "    <tr>\n",
       "      <th>8</th>\n",
       "      <td>33</td>\n",
       "      <td>35000</td>\n",
       "      <td>42</td>\n",
       "    </tr>\n",
       "    <tr>\n",
       "      <th>9</th>\n",
       "      <td>28</td>\n",
       "      <td>38000</td>\n",
       "      <td>45</td>\n",
       "    </tr>\n",
       "  </tbody>\n",
       "</table>\n",
       "</div>"
      ],
      "text/plain": [
       "   Alter  Einkommen  Arbeitsstunden_pro_Woche\n",
       "0     23      30000                        40\n",
       "1     45      45000                        50\n",
       "2     31      32000                        40\n",
       "3     35      40000                        38\n",
       "4     50      60000                        60\n",
       "5     42      52000                        55\n",
       "6     29      31000                        40\n",
       "7     37      47000                        48\n",
       "8     33      35000                        42\n",
       "9     28      38000                        45"
      ]
     },
     "execution_count": 2,
     "metadata": {},
     "output_type": "execute_result"
    }
   ],
   "source": [
    "import pandas as pd\n",
    "\n",
    "# Beispiel-Daten\n",
    "data = {\n",
    "    'Alter': [23, 45, 31, 35, 50, 42, 29, 37, 33, 28],\n",
    "    'Einkommen': [30000, 45000, 32000, 40000, 60000, 52000, 31000, 47000, 35000, 38000],\n",
    "    'Arbeitsstunden_pro_Woche': [40, 50, 40, 38, 60, 55, 40, 48, 42, 45]\n",
    "}\n",
    "\n",
    "df = pd.DataFrame(data)\n",
    "df"
   ]
  },
  {
   "cell_type": "markdown",
   "id": "df999d6a-938b-43c0-811a-5bc4d6f1806e",
   "metadata": {},
   "source": [
    "## Deskriptive Statistiken\n",
    "Im nächsten Schritt berechnen wir einige grundlegende deskriptive Statistiken wie Mittelwert, Median, Standardabweichung usw."
   ]
  },
  {
   "cell_type": "code",
   "execution_count": 3,
   "id": "e8bff172-3620-4b33-a981-39872442f3d4",
   "metadata": {},
   "outputs": [
    {
     "data": {
      "text/html": [
       "<div>\n",
       "<style scoped>\n",
       "    .dataframe tbody tr th:only-of-type {\n",
       "        vertical-align: middle;\n",
       "    }\n",
       "\n",
       "    .dataframe tbody tr th {\n",
       "        vertical-align: top;\n",
       "    }\n",
       "\n",
       "    .dataframe thead th {\n",
       "        text-align: right;\n",
       "    }\n",
       "</style>\n",
       "<table border=\"1\" class=\"dataframe\">\n",
       "  <thead>\n",
       "    <tr style=\"text-align: right;\">\n",
       "      <th></th>\n",
       "      <th>Alter</th>\n",
       "      <th>Einkommen</th>\n",
       "      <th>Arbeitsstunden_pro_Woche</th>\n",
       "    </tr>\n",
       "  </thead>\n",
       "  <tbody>\n",
       "    <tr>\n",
       "      <th>count</th>\n",
       "      <td>10.000000</td>\n",
       "      <td>10.000000</td>\n",
       "      <td>10.000000</td>\n",
       "    </tr>\n",
       "    <tr>\n",
       "      <th>mean</th>\n",
       "      <td>35.300000</td>\n",
       "      <td>41000.000000</td>\n",
       "      <td>45.800000</td>\n",
       "    </tr>\n",
       "    <tr>\n",
       "      <th>std</th>\n",
       "      <td>8.340663</td>\n",
       "      <td>9899.494937</td>\n",
       "      <td>7.345445</td>\n",
       "    </tr>\n",
       "    <tr>\n",
       "      <th>min</th>\n",
       "      <td>23.000000</td>\n",
       "      <td>30000.000000</td>\n",
       "      <td>38.000000</td>\n",
       "    </tr>\n",
       "    <tr>\n",
       "      <th>25%</th>\n",
       "      <td>29.500000</td>\n",
       "      <td>32750.000000</td>\n",
       "      <td>40.000000</td>\n",
       "    </tr>\n",
       "    <tr>\n",
       "      <th>50%</th>\n",
       "      <td>34.000000</td>\n",
       "      <td>39000.000000</td>\n",
       "      <td>43.500000</td>\n",
       "    </tr>\n",
       "    <tr>\n",
       "      <th>75%</th>\n",
       "      <td>40.750000</td>\n",
       "      <td>46500.000000</td>\n",
       "      <td>49.500000</td>\n",
       "    </tr>\n",
       "    <tr>\n",
       "      <th>max</th>\n",
       "      <td>50.000000</td>\n",
       "      <td>60000.000000</td>\n",
       "      <td>60.000000</td>\n",
       "    </tr>\n",
       "  </tbody>\n",
       "</table>\n",
       "</div>"
      ],
      "text/plain": [
       "           Alter     Einkommen  Arbeitsstunden_pro_Woche\n",
       "count  10.000000     10.000000                 10.000000\n",
       "mean   35.300000  41000.000000                 45.800000\n",
       "std     8.340663   9899.494937                  7.345445\n",
       "min    23.000000  30000.000000                 38.000000\n",
       "25%    29.500000  32750.000000                 40.000000\n",
       "50%    34.000000  39000.000000                 43.500000\n",
       "75%    40.750000  46500.000000                 49.500000\n",
       "max    50.000000  60000.000000                 60.000000"
      ]
     },
     "execution_count": 3,
     "metadata": {},
     "output_type": "execute_result"
    }
   ],
   "source": [
    "# Deskriptive Statistiken\n",
    "df.describe()"
   ]
  },
  {
   "cell_type": "markdown",
   "id": "9e72b1a7-1894-459a-95ce-5a8d0df7db83",
   "metadata": {},
   "source": [
    "## Interpretation der Ergebnisse\n",
    "- **Mittelwert (mean):** Der durchschnittliche Wert jeder Spalte.\n",
    "- **Standardabweichung (std):** Wie stark die Datenpunkte vom Mittelwert abweichen.\n",
    "- **Minimum (min):** Der kleinste Wert jeder Spalte.\n",
    "- **25% (1. Quartil):** 25% der Werte sind kleiner als dieser Wert.\n",
    "- **Median (50%):** Der mittlere Wert der Daten. 50% der Werte liegen darunter, 50% darüber.\n",
    "- **Maximum (max):** Der größte Wert jeder Spalte."
   ]
  },
  {
   "cell_type": "markdown",
   "id": "03bd4b63-b01f-4c59-abba-bd1968eaf427",
   "metadata": {},
   "source": [
    "\n",
    "## Statistische Kennzahlen\n",
    "\n",
    "Wie berechnet man die wichtigsten statistischen Kennzahlen?\n"
   ]
  },
  {
   "cell_type": "code",
   "execution_count": 1,
   "id": "7d245be1-bcc8-4d97-a6d0-d0c7bd30392d",
   "metadata": {
    "scrolled": true
   },
   "outputs": [
    {
     "name": "stdout",
     "output_type": "stream",
     "text": [
      "Der Type des Objekts \"np_list\" ist: <class 'numpy.ndarray'>\n",
      "Mittelwert: 30.0\n",
      "Standardabweichung (gerundet): 14.1421\n",
      "Minimum: 10\n",
      "25%-Quartil: 20.0\n"
     ]
    }
   ],
   "source": [
    "# Berechnung von Mittelwert, Standardabweichung, Minimum, Quartil 25%, Median und Maximum\n",
    "import numpy as np\n",
    "\n",
    "# Beispiel-Zahlenliste\n",
    "zahlen_liste = [10, 20, 30, 40, 50]\n",
    "\n",
    "np_list = np.array(zahlen_liste)\n",
    "print(f'Der Type des Objekts \"np_list\" ist: {type(np_list)}')\n",
    "\n",
    "\n",
    "# Berechnung der Werte\n",
    "mittelwert = np_list.mean()\n",
    "print(f\"Mittelwert: {mittelwert}\")\n",
    "\n",
    "median = np_list.\n",
    "\n",
    "std = np_list.std()\n",
    "print(f\"Standardabweichung (gerundet): {std:.4f}\")\n",
    "\n",
    "minimum = np_list.min()\n",
    "print(f\"Minimum: {minimum}\")\n",
    "\n",
    "quartil_25 = np.percentile(np_list, 25)\n",
    "print(f\"25%-Quartil: {quartil_25}\")\n",
    "# Das 25. Perzentils ist der Wert, unterhalb dessen 25% der Datenpunkte liegen."
   ]
  },
  {
   "cell_type": "code",
   "execution_count": null,
   "id": "b06cba2b-4811-453b-8640-bd8d9d11fcf0",
   "metadata": {},
   "outputs": [],
   "source": []
  },
  {
   "cell_type": "markdown",
   "id": "3f76937a-fcb2-4d72-bfff-db42a189231e",
   "metadata": {},
   "source": [
    "## Deskriptive Statistik vs. Inferenzstatistik"
   ]
  },
  {
   "cell_type": "markdown",
   "id": "05c81934-737c-43a1-b391-4193fca6bf23",
   "metadata": {},
   "source": [
    "Mit der deskriptiven Statistik kann aber noch keine Aussage über die Grundgesamtheit getroffen werden, das ist Aufgabe der Inferenzstatistik. Die Inferenzstatistik verwendet eine Stichprobe aus der Grundgesamtheit, um mit Hilfe dieser Stichprobe Schlussfolgerungen über die Grundgesamtheit zu ziehen. Ziel der Inferenzstatistik ist es also, von bekannten Parametern einer Stichprobe auf unbekannte Parameter der Grundgesamtheit zu schließen.\n",
    "\n",
    "Die Inferenzstatistik versucht daher, im Gegensatz zur deskriptiven Statistik, Schlussfolgerungen zu ziehen, die über die unmittelbaren Daten hinausgehen. Um eine Hypothese zu bewerten, werden in der Inferenzstatistik Hypothesentests wie der t-Test oder die Varianzanalyse verwendet."
   ]
  },
  {
   "cell_type": "markdown",
   "id": "484762cc-1bd3-477b-b5d7-458035f62a87",
   "metadata": {},
   "source": [
    "Ausgehend von der Stichprobe kann nun mit Hilfe der Inferenzstatistik eine Aussage über die Grundgesamtheit getroffen werden."
   ]
  },
  {
   "cell_type": "markdown",
   "id": "5580ba01-741d-4dc4-9dc0-6385111bad11",
   "metadata": {},
   "source": [
    "Einstieg: https://datatab.de/tutorial/deskriptive-inferenz-statistik\n",
    "\n",
    "\n",
    "Was hat das mit der Grundgesamtheit und der Stichprobe auf sich?\n",
    "\n"
   ]
  },
  {
   "cell_type": "markdown",
   "id": "ee73932a-9d06-4f1f-aaf5-0c4095c2f92d",
   "metadata": {},
   "source": [
    "![](../../Zentral_Ordner/Bilder/inferenz_deskriptiv.jpg)"
   ]
  },
  {
   "cell_type": "markdown",
   "id": "9020639a-004a-4486-98d2-a021e20dd98e",
   "metadata": {},
   "source": [
    "[Bild-Quelle](https://datatab.de/tutorial/deskriptive-inferenz-statistik)"
   ]
  }
 ],
 "metadata": {
  "kernelspec": {
   "display_name": "Python 3 (ipykernel)",
   "language": "python",
   "name": "python3"
  },
  "language_info": {
   "codemirror_mode": {
    "name": "ipython",
    "version": 3
   },
   "file_extension": ".py",
   "mimetype": "text/x-python",
   "name": "python",
   "nbconvert_exporter": "python",
   "pygments_lexer": "ipython3",
   "version": "3.12.6"
  }
 },
 "nbformat": 4,
 "nbformat_minor": 5
}
