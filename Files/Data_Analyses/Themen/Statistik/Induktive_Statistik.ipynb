{
 "cells": [
  {
   "cell_type": "markdown",
   "id": "e187afe4-a7e5-4f34-9b9d-ca5b9a93c6e6",
   "metadata": {},
   "source": [
    "# Induktive (schließende) Statistik"
   ]
  },
  {
   "cell_type": "code",
   "execution_count": null,
   "id": "14b86716-9bc1-403f-85b3-570159f3ff47",
   "metadata": {},
   "outputs": [],
   "source": []
  }
 ],
 "metadata": {
  "kernelspec": {
   "display_name": "Python 3 (ipykernel)",
   "language": "python",
   "name": "python3"
  },
  "language_info": {
   "codemirror_mode": {
    "name": "ipython",
    "version": 3
   },
   "file_extension": ".py",
   "mimetype": "text/x-python",
   "name": "python",
   "nbconvert_exporter": "python",
   "pygments_lexer": "ipython3",
   "version": "3.12.6"
  }
 },
 "nbformat": 4,
 "nbformat_minor": 5
}
