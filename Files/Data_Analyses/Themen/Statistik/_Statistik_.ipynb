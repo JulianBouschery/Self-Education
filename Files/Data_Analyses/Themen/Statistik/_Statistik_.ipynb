{
 "cells": [
  {
   "cell_type": "markdown",
   "id": "ab57fc8f-1df7-4382-98da-f7ee9dbd95fe",
   "metadata": {},
   "source": [
    "# Inhaltsverzeichnis Statistik"
   ]
  },
  {
   "cell_type": "markdown",
   "id": "46c61f3b-8ac5-4111-a38c-c6d47ed7a3ab",
   "metadata": {},
   "source": [
    "[Einstieg in die Statistik](Einstieg_in_die_Statistik.ipynb)"
   ]
  },
  {
   "cell_type": "code",
   "execution_count": null,
   "id": "780de062-519b-4849-a60d-f563887a1733",
   "metadata": {},
   "outputs": [],
   "source": []
  }
 ],
 "metadata": {
  "kernelspec": {
   "display_name": "Python 3 (ipykernel)",
   "language": "python",
   "name": "python3"
  },
  "language_info": {
   "codemirror_mode": {
    "name": "ipython",
    "version": 3
   },
   "file_extension": ".py",
   "mimetype": "text/x-python",
   "name": "python",
   "nbconvert_exporter": "python",
   "pygments_lexer": "ipython3",
   "version": "3.12.6"
  }
 },
 "nbformat": 4,
 "nbformat_minor": 5
}
