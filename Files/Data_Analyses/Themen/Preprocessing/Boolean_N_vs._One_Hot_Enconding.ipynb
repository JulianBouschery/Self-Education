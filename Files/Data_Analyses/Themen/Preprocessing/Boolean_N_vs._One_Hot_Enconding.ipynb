{
 "cells": [
  {
   "cell_type": "markdown",
   "id": "8943e590-69a2-4cd5-be7e-2ae0659ae82a",
   "metadata": {},
   "source": [
    "# Unterschied zwischen Boolean-Normalisierung und One Hot Encoding "
   ]
  },
  {
   "cell_type": "markdown",
   "id": "779b3e83-15dd-4159-b9fd-7e432762b686",
   "metadata": {},
   "source": [
    "**One-Hot-Encoding** und **Boolesche Normalisierung** sind zwei verschiedene Techniken zur Umwandlung von Daten in ein Format, das für maschinelles Lernen oder statistische Analysen geeignet ist. Hier ist ein Vergleich der beiden Methoden:\n",
    "\n",
    "| Merkmal                  | One-Hot-Encoding                                  | Boolesche Normalisierung                          |\n",
    "|--------------------------|--------------------------------------------------|--------------------------------------------------|\n",
    "| **Ziel**                 | Umwandlung kategorialer Variablen in binäre Spalten für maschinelles Lernen. | Umwandlung von Werten in Wahrheitswerte (True/False) oder binäre Werte (1/0). |\n",
    "| **Anwendungsbereich**    | Hauptsächlich für **kategoriale Variablen**.   | Für **kategoriale oder numerische Variablen**, häufig verwendet, um Bedingungen zu überprüfen. |\n",
    "| **Datenstruktur**        | Erzeugt mehrere Spalten, eine für jede Kategorie. | Erzeugt eine einzelne Spalte, die die Wahrheitswerte darstellt. |\n",
    "| **Beispiel**             | `Farbe`: `Rot`, `Blau`, `Grün` wird zu `<Rot, Blau, Grün>` mit Spalten (1/0) für jede Farbe. | `Alter`: Werte wie `Alter > 30` wird zu einer Spalte mit `True` oder `False`. |\n",
    "| **Erhaltung von Informationen** | Bewahrt die Information jeder Kategorie und vermeidet ordinale Beziehungen. | Erhält die binäre Information zu einer bestimmten Bedingung oder Schwelle. |\n",
    "| **Datenmenge**          | Kann die Datenmenge erheblich erhöhen, wenn viele Kategorien vorhanden sind. | Erhöht die Datenmenge nicht signifikant, da nur eine zusätzliche Spalte erstellt wird. |\n",
    "| **Interpretation**       | Die Interpretation ist einfach, jede Kategorie ist klar definiert. | Einfache Interpretation, ob eine Bedingung erfüllt ist oder nicht. |\n",
    "\n",
    "### Zusammenfassung:\n",
    "- **One-Hot-Encoding** wird verwendet, um **kategoriale Variablen** in eine Form zu bringen, die für viele Machine-Learning-Algorithmen geeignet ist, indem es jede Kategorie in separate Spalten umwandelt.\n",
    "- **Boolesche Normalisierung** wird verwendet, um eine Bedingung zu überprüfen und die Daten in **Wahrheitswerte** umzuwandeln, was hilfreich ist, wenn man nur wissen möchte, ob eine Bedingung erfüllt ist oder nicht.\n",
    "\n",
    "Beide Methoden haben ihren Platz in der Datenverarbeitung, und die Wahl zwischen ihnen hängt von der Art der Daten und dem spezifischen Analyse- oder Modellierungsziel ab."
   ]
  },
  {
   "cell_type": "code",
   "execution_count": null,
   "id": "a29bc890-5937-4970-9fba-64e43164c90f",
   "metadata": {},
   "outputs": [],
   "source": []
  }
 ],
 "metadata": {
  "kernelspec": {
   "display_name": "Python 3 (ipykernel)",
   "language": "python",
   "name": "python3"
  },
  "language_info": {
   "codemirror_mode": {
    "name": "ipython",
    "version": 3
   },
   "file_extension": ".py",
   "mimetype": "text/x-python",
   "name": "python",
   "nbconvert_exporter": "python",
   "pygments_lexer": "ipython3",
   "version": "3.12.6"
  }
 },
 "nbformat": 4,
 "nbformat_minor": 5
}
