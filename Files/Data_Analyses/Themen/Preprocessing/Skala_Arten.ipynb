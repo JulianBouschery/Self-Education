{
 "cells": [
  {
   "cell_type": "markdown",
   "id": "fd3f680e-4834-43e1-a9bb-bfcbf11abb4c",
   "metadata": {},
   "source": [
    "Also wir machen es mal ganz ganz einfach."
   ]
  },
  {
   "cell_type": "markdown",
   "id": "a88a9293-2945-42ec-b5ae-0223b21e01ad",
   "metadata": {},
   "source": [
    "Wenn man ein Modell mit Daten trainieren möchte, dann müssen diese Daten vorher in eine einheitliche Form gebracht werden."
   ]
  },
  {
   "cell_type": "markdown",
   "id": "c16ddc51-0125-4c83-88b2-b159d806e830",
   "metadata": {},
   "source": [
    "Diesen Prozess des in Form bringen nennt man Normalisierung?"
   ]
  },
  {
   "cell_type": "markdown",
   "id": "8d7a3067-c6c5-4c6b-85dc-854e3ec5a3db",
   "metadata": {},
   "source": [
    "Was für Daten mit was für einer Skala habe ich den Überhaupt?"
   ]
  },
  {
   "cell_type": "markdown",
   "id": "f8d977d2-22ec-45ae-87b9-bb556d5ebd0d",
   "metadata": {},
   "source": [
    "Welche Arten von Skalen gibt es?"
   ]
  },
  {
   "cell_type": "markdown",
   "id": "439b79c7-a059-43b3-a07a-633c044ee6d7",
   "metadata": {},
   "source": [
    "Man unterscheidet zwischen:\n",
    "- Nominale Skala\n",
    "- Ordinale Skala\n",
    "- Interval Skala\n",
    "- Verhältnis Skala"
   ]
  },
  {
   "cell_type": "markdown",
   "id": "ce95583b-4b61-4df4-8fec-4cef55d209ed",
   "metadata": {},
   "source": [
    "### Nominale Skala"
   ]
  },
  {
   "cell_type": "markdown",
   "id": "9b94d2fb-0909-44fb-88ec-80799571d5b0",
   "metadata": {},
   "source": [
    "Die Nominale Skala ist die einfachste. Alles was man da machen kann ist zwei Werte zu vergleichen. Entweder sie sind gleich, oder sie sind nicht gleich.\n",
    "\n",
    "Farben sind ein Wunderbares Beispiel. Rot, Grün und Blau. Die haben keine reihenfolge, mit denen kann ich nicht rechnen, dass sind einfach nur unterschiedliche Werte."
   ]
  },
  {
   "cell_type": "markdown",
   "id": "8e617a0e-6d49-4376-a301-ad44ba8e08a5",
   "metadata": {},
   "source": [
    "Siehe auch: [One Hot Encoding](One_Hot_Encoding.ipynb)"
   ]
  },
  {
   "cell_type": "markdown",
   "id": "0814640f-9d90-417b-9426-1537953e9976",
   "metadata": {},
   "source": [
    "### Ordinale Skala"
   ]
  },
  {
   "cell_type": "markdown",
   "id": "1478fc12-9ca9-4c19-b8ba-56d7bde7900f",
   "metadata": {},
   "source": [
    "Zusätzlich zu gleich und ungleich hat diese Skala noch eine Reihenfolge, aber auch hier macht rechen, damit keine Sinn.\n",
    "\n",
    "Ein Beispiel wären Schulnoten. Diese sind zwar in einer Reihenfolge, (1-6) aber es macht keinen Sinn diese zu addieren. 1 + 6 = 7."
   ]
  },
  {
   "cell_type": "markdown",
   "id": "a5e6ad26-6c09-4ec8-bcb9-8f5689b283aa",
   "metadata": {},
   "source": [
    "### Interval Skala"
   ]
  },
  {
   "cell_type": "markdown",
   "id": "6b2bc764-ee72-4f93-9c8f-28e2651e3d64",
   "metadata": {},
   "source": [
    "Mit dieser Skala kann man Werte jetzt auch Addieren und subtrahieren, aber nicht multiplizieren oder dividieren. Ein Beispiel währen Jahreszahlen, oder Temperaturen. Hier kann man eine Differenz zwischen den einzelnen Werten angeben."
   ]
  },
  {
   "cell_type": "markdown",
   "id": "5bf22c4b-8685-4aa3-9722-0b9079fb4ee3",
   "metadata": {},
   "source": [
    "### Verhältnis Skala"
   ]
  },
  {
   "cell_type": "markdown",
   "id": "73effdb9-1a52-400c-bdcd-6ea2a8c4f6da",
   "metadata": {},
   "source": [
    "Bei der Verhältnis Skala können jetzt auch Werte multipliziert und dividiert werden. Ein Beispiel wären die Verkaufzahlen eines Produkts, diese könnte diesen Monat doppelt so hoch sein wie letzten Monat."
   ]
  },
  {
   "cell_type": "markdown",
   "id": "a5f74855-cc34-491c-8ea5-4ab00090e4ce",
   "metadata": {},
   "source": [
    "# Next"
   ]
  },
  {
   "cell_type": "markdown",
   "id": "0ba6e8e1-769c-4c35-a271-0fc306991096",
   "metadata": {},
   "source": [
    "Einige Algorythmen / Modelle benötigen die Normalisierung um überhaupt richtig funktionieren zu können, aber selbst bei denen wo das nicht der Fall ist macht das Normalisieren Sinn, einfach um unterschiedliche Werte für den Menschen besser Vergleichbar zu machen."
   ]
  },
  {
   "cell_type": "code",
   "execution_count": null,
   "id": "ddd6610e-c95b-4ae0-84f3-46a6596f2ee5",
   "metadata": {},
   "outputs": [],
   "source": []
  },
  {
   "cell_type": "markdown",
   "id": "8a4a863c-8c7f-4600-b034-9b3bd5ac6cd9",
   "metadata": {},
   "source": [
    "Interval und Verhältnis Skalen, werden auf die gleiche Art und Weise Skaliert."
   ]
  },
  {
   "cell_type": "markdown",
   "id": "fb64017a-0da0-45f7-9b88-ef64ef5c91b6",
   "metadata": {},
   "source": [
    "# Definition"
   ]
  },
  {
   "cell_type": "markdown",
   "id": "7ca9a2f7-23ea-4279-97b4-ba63677e06c7",
   "metadata": {},
   "source": [
    "## Normalisierung"
   ]
  },
  {
   "cell_type": "markdown",
   "id": "f5f62d3f-3aa2-42cf-b71b-f471ace452ad",
   "metadata": {},
   "source": [
    "Normalisierung, in der Statistik die Transformation einer Verteilung zu einer Normalverteilung (Gaußschen Verteilung).\n",
    "\n",
    "Quelle https://de.wikipedia.org/wiki/Normalisierung"
   ]
  },
  {
   "cell_type": "markdown",
   "id": "232dca21-60b8-4899-9c21-c63ce375bd72",
   "metadata": {},
   "source": [
    "Der Begriff der **Normierung** (oder **Normalisierung**) hat seine Wurzeln in verschiedenen mathematischen und statistischen Disziplinen. Es ist schwierig, eine einzige Person oder Quelle zu benennen, die diesen Begriff geprägt hat, da er sich im Laufe der Zeit entwickelt hat. \n",
    "\n",
    "In der Statistik und im maschinellen Lernen bezieht sich Normierung oft auf Techniken, die Daten auf einen einheitlichen Maßstab bringen, um Verzerrungen durch unterschiedliche Größenordnungen zu vermeiden. Die Konzepte der Normalisierung und Standardisierung wurden jedoch durch viele Forscher und Praktiker in den Bereichen Statistik, Informatik und Data Science weiterentwickelt.\n",
    "\n",
    "Einige frühe statistische Arbeiten, die mit Normierung in Verbindung stehen, stammen von Wissenschaftlern wie **Carl Friedrich Gauss**, der die Normalverteilung beschrieb, und anderen Statistikern, die sich mit der Transformation von Daten beschäftigt haben. In den letzten Jahrzehnten wurde das Konzept durch die zunehmende Anwendung von maschinellem Lernen und Datenwissenschaft populärisiert, wobei verschiedene Methoden wie Min-Max-Normalisierung und z-Standardisierung verwendet werden."
   ]
  },
  {
   "cell_type": "markdown",
   "id": "b70aeb89-1f1c-480f-8b6f-f251345e5107",
   "metadata": {},
   "source": [
    "Normalisierung (auch Normierung genannt) "
   ]
  },
  {
   "cell_type": "markdown",
   "id": "4a5d6a7a-c221-43c1-9e43-6a759c44b8de",
   "metadata": {},
   "source": [
    "Um die Normalizierung durchführen zu können müssen die Attribute, bzw. die features der Daten neu skaliert werden. Das macht man in der Skalierung"
   ]
  },
  {
   "cell_type": "code",
   "execution_count": null,
   "id": "54d34767-3695-4671-9dc3-45143f45bd1e",
   "metadata": {},
   "outputs": [],
   "source": []
  },
  {
   "cell_type": "markdown",
   "id": "ea27ceb7-5b86-4c34-b37a-0960399de842",
   "metadata": {},
   "source": [
    "Skalierung ist die Anpassung Daten an die Skala, bzw. das neu berechen der Werte im Kontext der Skala...? "
   ]
  },
  {
   "cell_type": "code",
   "execution_count": null,
   "id": "086ce37a-2c32-49ef-a26f-2c6359586b59",
   "metadata": {},
   "outputs": [],
   "source": []
  },
  {
   "cell_type": "code",
   "execution_count": null,
   "id": "d1710175-7781-4a9a-a17f-3514645ddf72",
   "metadata": {},
   "outputs": [],
   "source": []
  }
 ],
 "metadata": {
  "kernelspec": {
   "display_name": "Python 3 (ipykernel)",
   "language": "python",
   "name": "python3"
  },
  "language_info": {
   "codemirror_mode": {
    "name": "ipython",
    "version": 3
   },
   "file_extension": ".py",
   "mimetype": "text/x-python",
   "name": "python",
   "nbconvert_exporter": "python",
   "pygments_lexer": "ipython3",
   "version": "3.12.6"
  }
 },
 "nbformat": 4,
 "nbformat_minor": 5
}
