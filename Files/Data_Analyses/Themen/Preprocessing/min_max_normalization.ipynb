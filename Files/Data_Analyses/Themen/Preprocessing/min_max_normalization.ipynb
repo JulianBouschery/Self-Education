{
 "cells": [
  {
   "cell_type": "markdown",
   "id": "1f897ba5-7afd-4892-a200-daf83499d2a8",
   "metadata": {},
   "source": [
    "# Min-Max-Normalisierung"
   ]
  },
  {
   "cell_type": "code",
   "execution_count": null,
   "id": "e1f0e96a-feda-43a2-bde2-27325eee8943",
   "metadata": {},
   "outputs": [],
   "source": [
    "Warum benötigt man Normalisierung"
   ]
  },
  {
   "cell_type": "markdown",
   "id": "6936a764-4702-4481-ba9c-6a216e8fa8f1",
   "metadata": {},
   "source": [
    "# Min Max Normalisierung\n",
    "\n",
    "Die **Min-Max-Normalisierung** ist eine Technik, um Werte in einem Datensatz in einen bestimmten Bereich zu skalieren, meistens zwischen 0 und 1. Dazu wird jeder Wert so transformiert, dass der kleinste Wert der Spalte auf 0 und der größte Wert auf 1 abgebildet wird. Dies ist besonders hilfreich in der Datenanalyse und beim Maschinellen Lernen, da es verhindert, dass große Werte die Ergebnisse dominieren und das Modell robust gegenüber unterschiedlich großen Wertebereichen macht.\n",
    "\n",
    "# Rechnung\n",
    "\n",
    "### Formel\n",
    "\n",
    "Für jeden Wert $x$ wird die normalisierte Version $x_{norm}$ wie folgt berechnet:\n",
    "\n",
    "$$\n",
    "x_{norm} = \\frac{x - \\text{min}(x)}{\\text{max}(x) - \\text{min}(x)}\n",
    "$$\n",
    "\n",
    "Dabei:\n",
    "- $\\text{min}(x)$: der kleinste Wert im Datensatz,\n",
    "- $\\text{max}(x)$: der größte Wert im Datensatz.\n",
    "\n",
    "Der normalisierte Wert $x_{norm}$ liegt dann immer zwischen 0 und 1.\n",
    "\n",
    "# Praktisches Beispiel\n",
    "\n",
    "## Beispiel 1\n",
    "\n",
    "Angenommen, du hast die Werte: 10, 20, 30, 40, und 50. \n",
    "Um diese Werte zu normalisieren verwenden wir die Formel von oben.\n",
    "\n",
    "$$\n",
    "x_{\\text{norm}} = \\frac{x - x_{\\text{min}}}{x_{\\text{max}} - x_{\\text{min}}}\n",
    "$$\n",
    "\n",
    "- Wir finden den kleinsten ($\\text{min}(x) = 10$) und den größten Wert ($\\text{max}(x) = 50$) in der Liste und setze sie in die Formel ein.\n",
    "\n",
    "$$\n",
    "x_{norm} = \\frac{x - 10}{50 - 10} = \\frac{10}{40} = ?\n",
    "$$\n",
    "\n",
    "- Dann berechnen wir das Ergebnis für einen gegebenen Wert, z. B. $x = 20$:\n",
    "\n",
    "$$\n",
    "x_{norm} = \\frac{20 - 10}{50 - 10} = \\frac{10}{40} = 0.25\n",
    "$$\n",
    "\n",
    "Durch die Min-Max-Normalisierung werden alle Werte des Datensatzes im Bereich von 0 bis 1 liegen, ohne die Struktur des Datensatzes zu verändern.\n"
   ]
  },
  {
   "cell_type": "markdown",
   "id": "d644181c-067c-40be-a7ff-998f8ec60e35",
   "metadata": {},
   "source": [
    "### In Python Code:"
   ]
  },
  {
   "cell_type": "code",
   "execution_count": 3,
   "id": "6bbd8198-76c7-4b63-8bb7-2772c41489d7",
   "metadata": {},
   "outputs": [
    {
     "name": "stdout",
     "output_type": "stream",
     "text": [
      "Normalisierte Daten: [0.0, 0.25, 0.5, 0.75, 1.0]\n"
     ]
    }
   ],
   "source": [
    "import numpy as np\n",
    "\n",
    "# Beispiel-Daten\n",
    "daten = [10, 15, 20, 25, 30]\n",
    "\n",
    "# Minimum und Maximum berechnen\n",
    "min_wert = min(daten)\n",
    "max_wert = max(daten)\n",
    "\n",
    "# Min-Max-Normalisierung anwenden\n",
    "normalisierte_daten = [(x - min_wert) / (max_wert - min_wert) for x in daten]\n",
    "\n",
    "print(\"Normalisierte Daten:\", normalisierte_daten)"
   ]
  },
  {
   "cell_type": "markdown",
   "id": "110022f4-139d-4e47-9bf8-b80f80683c11",
   "metadata": {},
   "source": [
    "Die Ausgabe zeigt die normalisierten Werte im Bereich 0 bis 1"
   ]
  },
  {
   "cell_type": "markdown",
   "id": "5e3fda4a-dd14-437e-8be8-a6b4ce667cd5",
   "metadata": {},
   "source": [
    "## Beispiel 2"
   ]
  },
  {
   "cell_type": "code",
   "execution_count": 3,
   "id": "9ee76212-8a07-45e7-b1f5-3579f774b7ff",
   "metadata": {},
   "outputs": [
    {
     "name": "stdout",
     "output_type": "stream",
     "text": [
      "Min-Max normalisierte Daten:\n",
      "[[0.16666667 0.14285714 0.25      ]\n",
      " [0.5        0.42857143 0.5       ]\n",
      " [0.         0.         0.        ]\n",
      " [1.         1.         1.        ]\n",
      " [0.83333333 0.85714286 0.875     ]]\n"
     ]
    }
   ],
   "source": [
    "import numpy as np\n",
    "from sklearn.preprocessing import MinMaxScaler\n",
    "\n",
    "# Beispiel-Daten: Verkaufszahlen von Produkten in verschiedenen Regionen\n",
    "data = np.array([[150, 200, 300],\n",
    "                 [250, 300, 400],\n",
    "                 [100, 150, 200],\n",
    "                 [400, 500, 600],\n",
    "                 [350, 450, 550]])\n",
    "\n",
    "# Min-Max-Skalierung auf den Bereich 0-1 anwenden\n",
    "scaler = MinMaxScaler()\n",
    "normalized_data = scaler.fit_transform(data)\n",
    "\n",
    "print(\"Min-Max normalisierte Daten:\")\n",
    "print(normalized_data)"
   ]
  },
  {
   "cell_type": "code",
   "execution_count": null,
   "id": "7dc94171-ec81-4c11-b7c9-97a5ad39b666",
   "metadata": {},
   "outputs": [],
   "source": []
  }
 ],
 "metadata": {
  "kernelspec": {
   "display_name": "Python 3 (ipykernel)",
   "language": "python",
   "name": "python3"
  },
  "language_info": {
   "codemirror_mode": {
    "name": "ipython",
    "version": 3
   },
   "file_extension": ".py",
   "mimetype": "text/x-python",
   "name": "python",
   "nbconvert_exporter": "python",
   "pygments_lexer": "ipython3",
   "version": "3.12.6"
  }
 },
 "nbformat": 4,
 "nbformat_minor": 5
}
