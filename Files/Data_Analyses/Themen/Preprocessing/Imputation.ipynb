{
 "cells": [
  {
   "cell_type": "markdown",
   "id": "64ada33c-3588-4289-a022-09f303330cab",
   "metadata": {},
   "source": [
    "# Imputation"
   ]
  },
  {
   "cell_type": "markdown",
   "id": "1afc84a8-74e5-430c-9297-6bf0213f6e44",
   "metadata": {},
   "source": [
    "Die Imputation - oder das Ausfüllen fehlender Werte gemäß einer Regel - ist normalerweise die beste Strategie für den Umgang mit fehlenden Werten. Es gibt viele Möglichkeiten, dies zu erreichen, von einfach bis komplex."
   ]
  },
  {
   "cell_type": "markdown",
   "id": "5c179f7b-6b65-4a56-ad55-bc4875c8c944",
   "metadata": {},
   "source": [
    "### Warum ist die Imputation wichtig?"
   ]
  },
  {
   "cell_type": "markdown",
   "id": "268adcc5-eaf1-4390-8939-f83d2b727fb0",
   "metadata": {},
   "source": [
    "Die Imputation fehlender Werte ist wichtig, um die Qualität der Daten zu bewahren und Verzerrungen zu vermeiden. Das Löschen fehlender Werte kann die Stichprobe verkleinern, was die statistische Aussagekraft gefährdet und zu Bias führen kann, besonders wenn die fehlenden Werte systematisch auftreten. Durch Imputation wird die Datenkonsistenz und die Vollständigkeit der Daten erhalten, was für Langzeitanalysen entscheidend ist."
   ]
  },
  {
   "cell_type": "markdown",
   "id": "0bc5c7c8-9616-4448-8485-2dfdfa3aba9f",
   "metadata": {},
   "source": [
    "### Wichtige Imputationsmethoden:"
   ]
  },
  {
   "cell_type": "markdown",
   "id": "29793e42-0993-4ea8-b202-f433cb2e8481",
   "metadata": {},
   "source": [
    "1. Mittelwert-/Median-Imputation: Fehlende Werte werden durch den Durchschnitt oder Median der Variablen ersetzt.\n",
    "2. Modus-Imputation (für kategorische Variablen): Fehlende Werte werden durch die häufigste Kategorie ersetzt.\n",
    "3. Vorwärts-/Rückwärtsimputation ([LOCF und NOCB](../../Zentral_Ordner/Fachwörter/LOCF_NOCB.ipynb)): Fehlende Werte werden durch benachbarte bekannte Werte ersetzt.\n",
    "4. Modellbasierte Imputation: Maschinelles Lernen oder statistische Modelle sagen den wahrscheinlichsten Wert voraus (z.B. Regression) (Siehe: [Beispiel](Imput_Reg.ipynb)).\n",
    "\n",
    "Diese Methoden bewahren die Beziehungen zwischen den Variablen und verhindern Datenverlust, wodurch die Analyse robuster wird."
   ]
  },
  {
   "cell_type": "markdown",
   "id": "ff8f220b-13c5-4bbd-8495-c6b274956fe9",
   "metadata": {},
   "source": [
    "### Funktionen für die Imputation"
   ]
  },
  {
   "cell_type": "markdown",
   "id": "215f322a-1a53-4385-bce8-f92cf460b601",
   "metadata": {},
   "source": [
    "- [sklearn.impute SimpleImputer](../../Zentral_Ordner/Funktionen_und_Methoden/sklearn.SimpleImputer.ipynb)\n",
    "- [df.fillna](../../Zentral_Ordner/Funktionen_und_Methoden/df.fillna.ipynb)"
   ]
  },
  {
   "cell_type": "markdown",
   "id": "1d7b37b4-a5e0-4297-a88a-ccea6d53f7ff",
   "metadata": {},
   "source": [
    "### Übungsaufgaben zur Imoutation"
   ]
  },
  {
   "cell_type": "markdown",
   "id": "ba98cf04-a564-4a80-9428-73581524781f",
   "metadata": {},
   "source": [
    "[Übungsaufgaben Imputation](ex_Imputation.ipynb)"
   ]
  },
  {
   "cell_type": "markdown",
   "id": "7ba90b58-8ef5-49f9-a02f-6fb6f904175e",
   "metadata": {},
   "source": [
    "[Imputation mittels Regression](Imput_Reg.ipynb)"
   ]
  },
  {
   "cell_type": "code",
   "execution_count": null,
   "id": "85d6efbf-d038-4696-b13f-4322c6edde4f",
   "metadata": {},
   "outputs": [],
   "source": []
  }
 ],
 "metadata": {
  "kernelspec": {
   "display_name": "Python 3 (ipykernel)",
   "language": "python",
   "name": "python3"
  },
  "language_info": {
   "codemirror_mode": {
    "name": "ipython",
    "version": 3
   },
   "file_extension": ".py",
   "mimetype": "text/x-python",
   "name": "python",
   "nbconvert_exporter": "python",
   "pygments_lexer": "ipython3",
   "version": "3.12.6"
  }
 },
 "nbformat": 4,
 "nbformat_minor": 5
}
