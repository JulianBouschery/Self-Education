{
 "cells": [
  {
   "cell_type": "markdown",
   "id": "a511c676-5c66-4e27-9b05-74717b10bc02",
   "metadata": {},
   "source": [
    "# Skalierung"
   ]
  },
  {
   "cell_type": "markdown",
   "id": "9c6c6fff-bc63-403a-8fdf-43eecf4a94da",
   "metadata": {},
   "source": [
    "### 1. **Skalierung (Scaling)**:\n",
    "- Skalierung bezieht sich auf das **Ändern des Wertebereichs** der Daten, ohne deren Verteilung oder Form zu beeinflussen.\n",
    "- Es wird typischerweise verwendet, um die Daten in einem bestimmten **Bereich zu halten**, z.B. [0, 1] (Min-Max-Skalierung) oder eine Standardnormalverteilung (Mittelwert 0, Standardabweichung 1, StandardScaler).\n",
    "- **Beispiele:**\n",
    "  - **MinMaxScaler**: Skaliert Werte auf einen Bereich wie [0, 1].\n",
    "  - **StandardScaler**: Skaliert Daten auf eine Standardnormalverteilung (Mittelwert = 0, Standardabweichung = 1)."
   ]
  },
  {
   "cell_type": "markdown",
   "id": "cd322c8f-9a69-4117-bc3d-1bb4ac9d5f7a",
   "metadata": {},
   "source": [
    "Siehe auch: [Unterscheid zwischen Skalierung und Normalisierung](Normalization_vs._Scaling.ipynb)"
   ]
  },
  {
   "cell_type": "code",
   "execution_count": null,
   "id": "0fe9a0a1-277a-40ae-bb70-357eebfb7e87",
   "metadata": {},
   "outputs": [],
   "source": []
  }
 ],
 "metadata": {
  "kernelspec": {
   "display_name": "Python 3 (ipykernel)",
   "language": "python",
   "name": "python3"
  },
  "language_info": {
   "codemirror_mode": {
    "name": "ipython",
    "version": 3
   },
   "file_extension": ".py",
   "mimetype": "text/x-python",
   "name": "python",
   "nbconvert_exporter": "python",
   "pygments_lexer": "ipython3",
   "version": "3.12.6"
  }
 },
 "nbformat": 4,
 "nbformat_minor": 5
}
