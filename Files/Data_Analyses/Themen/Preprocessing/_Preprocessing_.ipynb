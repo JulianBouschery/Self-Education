{
 "cells": [
  {
   "cell_type": "markdown",
   "id": "3ec77655-5a01-4842-90c4-ecc14a48644b",
   "metadata": {},
   "source": [
    "# Preprocessing"
   ]
  },
  {
   "cell_type": "markdown",
   "id": "2596d5dc-1ed8-4d6b-aa8f-8e91c9537a90",
   "metadata": {},
   "source": [
    "- [Umgang mit fehlende Werten](Themen/Preprocessing/Missing_Values.ipynb) bzw. [Imputation](Themen/Preprocessing/Imputation.ipynb)\n",
    "- [Skalierung](Themen/Preprocessing/Skalierung.ipynb)\n",
    "- [Normalisierung](Themen/Preprocessing/Normalisierung.ipynb)\n",
    "- [One Hot Encoding](Themen/Preprocessing/One_Hot_Encoding.ipynb)\n",
    "- [Dimensionsreduktion durch PCA](Zentral_Ordner/Fachwörter/PCA.ipynb)\n",
    "- [Standardisierung\n",
    "- Standardisierung von Maßeinheiten"
   ]
  }
 ],
 "metadata": {
  "kernelspec": {
   "display_name": "Python 3 (ipykernel)",
   "language": "python",
   "name": "python3"
  },
  "language_info": {
   "codemirror_mode": {
    "name": "ipython",
    "version": 3
   },
   "file_extension": ".py",
   "mimetype": "text/x-python",
   "name": "python",
   "nbconvert_exporter": "python",
   "pygments_lexer": "ipython3",
   "version": "3.12.6"
  }
 },
 "nbformat": 4,
 "nbformat_minor": 5
}
