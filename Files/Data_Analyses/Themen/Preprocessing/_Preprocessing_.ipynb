{
 "cells": [
  {
   "cell_type": "markdown",
   "id": "3ec77655-5a01-4842-90c4-ecc14a48644b",
   "metadata": {},
   "source": [
    "# Preprocessing"
   ]
  },
  {
   "cell_type": "markdown",
   "id": "2596d5dc-1ed8-4d6b-aa8f-8e91c9537a90",
   "metadata": {},
   "source": [
    "- [Umgang mit fehlende Werten](Missing_Values.ipynb) bzw. [Imputation](Imputation.ipynb)\n",
    "- [Skalierung](Skalierung.ipynb)\n",
    "- [Normalisierung](Normalisierung.ipynb)\n",
    "- [One Hot Encoding](One_Hot_Encoding.ipynb)\n",
    "- [Dimensionsreduktion durch PCA](PCA.ipynb)\n",
    "- [Standardisierung](Standardization.ipynb)\n",
    "- [Standardisierung von Maßeinheiten](Formating.ipynb)\n",
    "- [Wide vs. Long Format](Wide_vs._Long.ipynb) "
   ]
  },
  {
   "cell_type": "markdown",
   "id": "b3d4eb8b-65f1-4576-b7b2-8ba63261f33a",
   "metadata": {},
   "source": []
  }
 ],
 "metadata": {
  "kernelspec": {
   "display_name": "Python 3 (ipykernel)",
   "language": "python",
   "name": "python3"
  },
  "language_info": {
   "codemirror_mode": {
    "name": "ipython",
    "version": 3
   },
   "file_extension": ".py",
   "mimetype": "text/x-python",
   "name": "python",
   "nbconvert_exporter": "python",
   "pygments_lexer": "ipython3",
   "version": "3.12.6"
  }
 },
 "nbformat": 4,
 "nbformat_minor": 5
}
