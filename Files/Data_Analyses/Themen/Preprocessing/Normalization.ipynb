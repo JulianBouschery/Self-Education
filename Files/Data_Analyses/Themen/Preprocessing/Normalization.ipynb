{
 "cells": [
  {
   "cell_type": "markdown",
   "id": "355a06cd-dcd2-4288-a926-0d797a9e815b",
   "metadata": {},
   "source": [
    "Siehe auch: [Unterscheid zwischen Skalierung und Normalisierung](Normalization_vs._Scaling.ipynb)"
   ]
  },
  {
   "cell_type": "markdown",
   "id": "c7d1ee87-a41c-4485-9e08-89297736a778",
   "metadata": {},
   "source": [
    "# Normalisierung"
   ]
  },
  {
   "cell_type": "markdown",
   "id": "52bd23fe-3671-4bb9-a199-23db596b407b",
   "metadata": {},
   "source": [
    "https://www.mql5.com/de/articles/11200"
   ]
  },
  {
   "cell_type": "markdown",
   "id": "e2fc0276-76d8-4ccc-b8ee-9717011b8231",
   "metadata": {},
   "source": [
    "https://de.wikipedia.org/wiki/Paraboloid"
   ]
  },
  {
   "cell_type": "markdown",
   "id": "d4ee1ce5-9a41-4e65-ad49-4881d2b906d9",
   "metadata": {},
   "source": [
    "Minimierung"
   ]
  },
  {
   "cell_type": "markdown",
   "id": "249623ab-e7f8-4034-8dcd-6671d225b2ce",
   "metadata": {},
   "source": [
    "https://databasecamp.de/ki/gradientenverfahren-ein-steiler-abstieg"
   ]
  },
  {
   "cell_type": "markdown",
   "id": "70c74723-9f42-41cf-9a78-5916b12600b3",
   "metadata": {},
   "source": [
    "\n",
    "### 2. **Normalisierung (Normalization)**:\n",
    "- Normalisierung bezieht sich auf das **Anpassen der Daten auf eine spezifische Verteilung**, oft um die Daten einer bestimmten Struktur anzupassen, wie z.B. die Länge eines Vektors.\n",
    "- Häufig wird dies verwendet, um die Länge eines Vektors auf 1 zu normieren (oft bei Machine Learning-Modellen).\n",
    "- Normalisierung wird oft im Zusammenhang mit **Zeitreihendaten** oder bei **Vektoren** verwendet.\n",
    "- **Beispiel:**\n",
    "  - **L2-Normalisierung**: Normiert den Vektor so, dass die Summe der quadrierten Werte gleich 1 ist (Vektorlänge = 1).\n"
   ]
  },
  {
   "cell_type": "code",
   "execution_count": null,
   "id": "5ff654fb-e557-4221-8fba-077195d9467a",
   "metadata": {},
   "outputs": [],
   "source": []
  }
 ],
 "metadata": {
  "kernelspec": {
   "display_name": "Python 3 (ipykernel)",
   "language": "python",
   "name": "python3"
  },
  "language_info": {
   "codemirror_mode": {
    "name": "ipython",
    "version": 3
   },
   "file_extension": ".py",
   "mimetype": "text/x-python",
   "name": "python",
   "nbconvert_exporter": "python",
   "pygments_lexer": "ipython3",
   "version": "3.12.6"
  }
 },
 "nbformat": 4,
 "nbformat_minor": 5
}
