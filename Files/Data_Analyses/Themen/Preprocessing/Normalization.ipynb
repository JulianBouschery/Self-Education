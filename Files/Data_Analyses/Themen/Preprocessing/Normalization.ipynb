{
 "cells": [
  {
   "cell_type": "markdown",
   "id": "355a06cd-dcd2-4288-a926-0d797a9e815b",
   "metadata": {},
   "source": [
    "Siehe auch: [Unterscheid zwischen Skalierung und Normalisierung](Normalization_vs._Scaling.ipynb)"
   ]
  },
  {
   "cell_type": "markdown",
   "id": "52bd23fe-3671-4bb9-a199-23db596b407b",
   "metadata": {},
   "source": [
    "https://www.mql5.com/de/articles/11200"
   ]
  },
  {
   "cell_type": "markdown",
   "id": "e2fc0276-76d8-4ccc-b8ee-9717011b8231",
   "metadata": {},
   "source": [
    "https://de.wikipedia.org/wiki/Paraboloid"
   ]
  },
  {
   "cell_type": "markdown",
   "id": "d4ee1ce5-9a41-4e65-ad49-4881d2b906d9",
   "metadata": {},
   "source": [
    "Minimierung"
   ]
  },
  {
   "cell_type": "markdown",
   "id": "249623ab-e7f8-4034-8dcd-6671d225b2ce",
   "metadata": {},
   "source": [
    "https://databasecamp.de/ki/gradientenverfahren-ein-steiler-abstieg"
   ]
  },
  {
   "cell_type": "markdown",
   "id": "7e6f754d-2401-445d-ade8-15492fc75f33",
   "metadata": {},
   "source": [
    "Deutsches Buch zum Thema: https://imla.gitlab.io/ml-buch/ml2-buch/2-4-vorverarbeitung.html"
   ]
  },
  {
   "cell_type": "markdown",
   "id": "c7d1ee87-a41c-4485-9e08-89297736a778",
   "metadata": {},
   "source": [
    "# Normalisierung"
   ]
  },
  {
   "cell_type": "markdown",
   "id": "7c52fdea-bb43-433b-aea5-a5dd31269378",
   "metadata": {},
   "source": [
    "Die Normalisierung ist ein Prozess in dessen Verlauf die Daten eines Datensatze für ein Maschine Learning Modell oder eine andere Anwendung angepasst / optimiert werden.\n",
    "\n",
    "Dafür können unterschiedliche Methoden zum Einsatz kommen:\n",
    "\n",
    "- [Min-Max-Normalisierung](min_max_normalization.ipynb)\n",
    "- Z-Score Normalisierung (Standardisierung)\n",
    "- Robust Scaling\n",
    "- Decimal Scaling\n",
    "- Log Scaling\n",
    "- L2 Normalization\n"
   ]
  },
  {
   "cell_type": "markdown",
   "id": "fc26d8dc-60e1-4df7-a36b-ee9308596456",
   "metadata": {},
   "source": [
    "Die Normalisierung ist ein Konzept, dass oft mit der [Standardisierung](Standardization.ipynb) verwechselt bzw. Synonym verwendet wird, aber es handelt sich um zwei unterschiedliche Konzepte."
   ]
  },
  {
   "cell_type": "markdown",
   "id": "7af162b8-f26e-461a-a5a2-50273c99c94b",
   "metadata": {},
   "source": [
    "## Zusammenfassung:"
   ]
  },
  {
   "cell_type": "markdown",
   "id": "651b7d55-c881-47f0-b567-1c057da044ea",
   "metadata": {},
   "source": [
    "Was auch immer Noramlisierung ist..."
   ]
  },
  {
   "cell_type": "code",
   "execution_count": null,
   "id": "a71a02bb-8cc3-4b67-affb-9d9c68923b1b",
   "metadata": {},
   "outputs": [],
   "source": []
  },
  {
   "cell_type": "markdown",
   "id": "932ca62d-a867-42a5-a89e-be74a1b793a1",
   "metadata": {},
   "source": [
    "1. **Normalisierung**: Hierbei werden die Werte eines Datensatzes in einen Bereich skaliert, typischerweise zwischen 0 und 1 (manchmal auch -1 und 1). Dies wird oft durch die Formel:\n",
    "   \\[\n",
    "   x_{norm} = \\frac{x - \\text{min}(x)}{\\text{max}(x) - \\text{min}(x)}\n",
    "   \\]\n",
    "   erreicht. Normalisierung ist besonders sinnvoll, wenn man die Daten in einem bestimmten Wertebereich benötigt, zum Beispiel für Modelle wie neuronale Netze, die oft empfindlich auf Skalierungen sind."
   ]
  },
  {
   "cell_type": "markdown",
   "id": "70c74723-9f42-41cf-9a78-5916b12600b3",
   "metadata": {},
   "source": [
    "### 2. **Normalisierung (Normalization)**:\n",
    "- Normalisierung bezieht sich auf das **Anpassen der Daten auf eine spezifische Verteilung**, oft um die Daten einer bestimmten Struktur anzupassen, wie z.B. die Länge eines Vektors.\n",
    "- Häufig wird dies verwendet, um die Länge eines Vektors auf 1 zu normieren (oft bei Machine Learning-Modellen).\n",
    "- Normalisierung wird oft im Zusammenhang mit **Zeitreihendaten** oder bei **Vektoren** verwendet.\n",
    "- **Beispiel:**\n",
    "  - **L2-Normalisierung**: Normiert den Vektor so, dass die Summe der quadrierten Werte gleich 1 ist (Vektorlänge = 1).\n"
   ]
  },
  {
   "cell_type": "markdown",
   "id": "6fc86548-bd0e-40e3-bb30-8a22b7160e56",
   "metadata": {},
   "source": [
    "### 2. **Normalisierung (Normalization)**:"
   ]
  },
  {
   "cell_type": "markdown",
   "id": "f213dc99-2d3d-4cf1-9344-c92068b3a7fc",
   "metadata": {},
   "source": [
    "- **Ziel**: Die Normalisierung wird verwendet um Daten in eine spezifische Form zu bringen, oder sie einer bestimmten Struktur anzupassen, wie z.B. die Länge eines Vektors, oft mit einer festen Skalenlänge oder Verteilung. Dies ist wichtig, um die Vergleichbarkeit und Stabilität der Daten zu verbessern, insbesondere bei Vektoren oder Zeitreihendaten.\n",
    "- **Häufig verwendet bei Vektoren**: Normalisierung wird verwendet, um die Länge eines Vektors zu skalieren, ohne die Richtung zu verändern. Eine gängige Form ist die L2-Normalisierung, bei der die Summe der quadrierten Werte gleich 1 wird, also die Vektorlänge auf 1 skaliert wird.\n",
    "- **Anwendungsbeispiele**:\n",
    "  - **Maschinelles Lernen**: Bei der Arbeit mit Modellen wie K-Nearest Neighbors ist es wichtig, dass alle Vektoren die gleiche Länge haben, um die Vergleichbarkeit von Datenpunkten zu gewährleisten.\n",
    "  - **Zeitreihen und Signalverarbeitung**: Bei der Analyse von Zeitreihen kann Normalisierung dazu beitragen, dass Variationen unabhängig von der absoluten Skala erkannt werden."
   ]
  },
  {
   "cell_type": "markdown",
   "id": "cee602ad-d29a-42b1-8f84-a714da874944",
   "metadata": {},
   "source": [
    "- **Ziel**: Die Normalisierung dient dazu, Daten in eine spezifische Form zu bringen oder sie einer bestimmten Struktur anzupassen, wie beispielsweise der Länge eines Vektors. Dies geschieht häufig mit einer festen Skalenlänge oder Verteilung, was die Vergleichbarkeit und Stabilität der Daten verbessert, insbesondere bei Vektoren oder Zeitreihendaten.\n",
    "  \n",
    "- **Einsatz bei Vektoren**: Normalisierung wird genutzt, um die Länge eines Vektors zu skalieren, ohne dessen Richtung zu verändern. Eine häufige Methode ist die L2-Normalisierung, bei der die Summe der quadrierten Werte auf 1 normiert wird, wodurch die Vektorlänge auf 1 skaliert wird.\n",
    "\n",
    "- **Anwendungsbeispiele**:\n",
    "  - **Maschinelles Lernen**: In Modellen wie K-Nearest Neighbors ist es entscheidend, dass alle Vektoren dieselbe Länge haben, um die Vergleichbarkeit der Datenpunkte sicherzustellen.\n",
    "  - **Zeitreihen und Signalverarbeitung**: Bei der Analyse von Zeitreihen ermöglicht die Normalisierung, dass Variationen unabhängig von der absoluten Skala erkannt werden."
   ]
  },
  {
   "cell_type": "markdown",
   "id": "199cfff0-b308-4e0b-81c2-0129dea99d23",
   "metadata": {},
   "source": [
    "### **Beispiel in Python mit L2-Normalisierung**"
   ]
  },
  {
   "cell_type": "code",
   "execution_count": 1,
   "id": "6337132b-1f42-4ffc-8308-0f95c967c034",
   "metadata": {},
   "outputs": [
    {
     "name": "stdout",
     "output_type": "stream",
     "text": [
      "Originaler Vektor: [[25000 50000 75000]]\n",
      "L2-normalisierter Vektor: [[0.26726124 0.53452248 0.80178373]]\n"
     ]
    }
   ],
   "source": [
    "import numpy as np\n",
    "from sklearn.preprocessing import normalize\n",
    "\n",
    "# Beispieldaten: Ein Vektor mit Einkommensdaten in Tausendern\n",
    "vektor = np.array([[25000, 50000, 75000]])\n",
    "\n",
    "# L2-Normalisierung\n",
    "l2_normalisiert = normalize(vektor, norm='l2')\n",
    "\n",
    "print(\"Originaler Vektor:\", vektor)\n",
    "print(\"L2-normalisierter Vektor:\", l2_normalisiert)"
   ]
  },
  {
   "cell_type": "markdown",
   "id": "3a8cd17a-06da-4c81-a7e5-608cc35223cf",
   "metadata": {},
   "source": [
    "In diesem Beispiel:\n",
    "- Der originale Vektor hat eine große Spannweite der Werte.\n",
    "- Der L2-normalisierte Vektor hat eine Länge (also eine Summe der quadrierten Werte) von 1. So werden die relativen Unterschiede beibehalten, während die absolute Größe angepasst ist."
   ]
  },
  {
   "cell_type": "markdown",
   "id": "63ad7829-20bd-4ccf-a566-66222bafd52e",
   "metadata": {},
   "source": [
    "In der Statistik wird Normalisierung verwendet, um Daten zu transformieren, sodass sie sich besser miteinander vergleichen lassen und Analysen weniger verzerrt sind. \n",
    "\n",
    "### Ziele der Normalisierung in der Statistik:\n",
    "1. **Datenvergleichbarkeit herstellen**: Werte, die ursprünglich auf verschiedenen Skalen oder in unterschiedlichen Größenordnungen vorliegen, werden vergleichbar gemacht.\n",
    "2. **Analyse stabilisieren**: Durch Normalisierung können Verzerrungen in den Daten minimiert werden, wodurch statistische Methoden robuster und zuverlässiger werden.\n",
    "3. **Verteilungsannahmen erfüllen**: Viele statistische Tests setzen eine bestimmte Verteilung (oft Normalverteilung) voraus. Normalisierung kann Daten dieser Verteilung anpassen."
   ]
  },
  {
   "cell_type": "markdown",
   "id": "58894825-6c55-42ad-a190-31deae6c262d",
   "metadata": {},
   "source": [
    "### Häufige Methoden der Normalisierung in der Statistik:"
   ]
  },
  {
   "cell_type": "markdown",
   "id": "0ab4b8b6-02ca-488a-9e22-39990916d8c1",
   "metadata": {},
   "source": [
    "**[Min-Max-Normalisierung](min_max_normalization.ipynb)**: \n",
    "   - Skaliert die Werte in einen festen Bereich, meistens [0, 1].\n",
    "   - Formel:\n",
    "     \\[\n",
    "     X_{\\text{norm}} = \\frac{X - X_{\\text{min}}}{X_{\\text{max}} - X_{\\text{min}}}\n",
    "     \\]\n",
    "   - **Anwendungsfall**: Ideal für Daten, bei denen ein fester Wertebereich gewünscht ist, z. B. in visuellen Darstellungen."
   ]
  },
  {
   "cell_type": "markdown",
   "id": "4ec24746-e281-49e4-99ab-3e56e2962901",
   "metadata": {},
   "source": [
    "**Z-Score-Normalisierung (Standardisierung)**:\n",
    "   - Transformiert die Daten so, dass der Mittelwert bei 0 und die Standardabweichung bei 1 liegt.\n",
    "   - Formel:\n",
    "     \\[\n",
    "     X_{\\text{norm}} = \\frac{X - \\mu}{\\sigma}\n",
    "     \\]\n",
    "   - **Anwendungsfall**: Besonders nützlich, wenn Daten auf ihre relative Abweichung zum Mittelwert untersucht werden sollen. Diese Methode ist geeignet, wenn Variablen in Analysen wie der linearen Regression oder beim maschinellen Lernen verwendet werden, da sie die Verteilung der Daten berücksichtigt."
   ]
  },
  {
   "cell_type": "markdown",
   "id": "80394d95-e99a-4374-87c3-6181f9426939",
   "metadata": {},
   "source": [
    "**Logarithmische Transformation**:\n",
    "   - Verwendet einen Logarithmus, um sehr große Werte zu reduzieren und die Verteilung zu stabilisieren.\n",
    "   - Formel (natürlicher Logarithmus): \n",
    "     \\[\n",
    "     X_{\\text{log}} = \\ln(X)\n",
    "     \\]\n",
    "   - **Anwendungsfall**: Besonders geeignet, wenn Daten rechtsschief verteilt sind, wie bei Einkommens- oder Populationsgrößen. Dadurch werden extreme Werte weniger dominant, was die Analyse und die Visualisierung erleichtert."
   ]
  },
  {
   "cell_type": "markdown",
   "id": "e06259ac-80d1-4430-b5e9-55cb0ed244a3",
   "metadata": {},
   "source": [
    "### Beispiel in Python (Z-Score-Normalisierung):"
   ]
  },
  {
   "cell_type": "markdown",
   "id": "8a0ecd91-a7e6-4f4a-91be-82376ae06e7b",
   "metadata": {},
   "source": [
    "```python\n",
    "import pandas as pd\n",
    "from sklearn.preprocessing import StandardScaler\n",
    "\n",
    "# Beispieldaten\n",
    "data = {'Einkommen': [25000, 50000, 75000, 100000, 125000]}\n",
    "df = pd.DataFrame(data)\n",
    "\n",
    "# Z-Score Normalisierung\n",
    "scaler = StandardScaler()\n",
    "df['Einkommen_normalisiert'] = scaler.fit_transform(df[['Einkommen']])\n",
    "\n",
    "print(df)\n",
    "```\n",
    "\n",
    "In diesem Beispiel:\n",
    "- `Einkommen_normalisiert` zeigt die Einkommenswerte auf einer standardisierten Skala. Das macht sie vergleichbar, selbst wenn die ursprünglichen Werte stark unterschiedlich sind."
   ]
  },
  {
   "cell_type": "code",
   "execution_count": null,
   "id": "e211f2ef-9cfd-430c-9936-e9af59f4fdc6",
   "metadata": {},
   "outputs": [],
   "source": []
  }
 ],
 "metadata": {
  "kernelspec": {
   "display_name": "Python 3 (ipykernel)",
   "language": "python",
   "name": "python3"
  },
  "language_info": {
   "codemirror_mode": {
    "name": "ipython",
    "version": 3
   },
   "file_extension": ".py",
   "mimetype": "text/x-python",
   "name": "python",
   "nbconvert_exporter": "python",
   "pygments_lexer": "ipython3",
   "version": "3.12.6"
  }
 },
 "nbformat": 4,
 "nbformat_minor": 5
}
