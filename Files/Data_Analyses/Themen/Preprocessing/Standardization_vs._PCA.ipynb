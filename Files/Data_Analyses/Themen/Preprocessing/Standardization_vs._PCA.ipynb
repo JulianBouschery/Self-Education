{
 "cells": [
  {
   "cell_type": "markdown",
   "id": "acfd2e9d-012f-463b-a8d9-bba295ec8df0",
   "metadata": {},
   "source": [
    "# Unterschied zwischen Standardisierung und Dimensionsreduktion (PCA)"
   ]
  },
  {
   "cell_type": "markdown",
   "id": "f0661671-33da-4054-8a97-a3be89728b30",
   "metadata": {},
   "source": [
    "**Standardisierung** und **Dimensionsreduktion durch PCA** (Principal Component Analysis) sind **nicht dasselbe**, aber sie werden oft zusammen verwendet, weil sie unterschiedliche, aber komplementäre Ziele haben."
   ]
  },
  {
   "cell_type": "markdown",
   "id": "7d2f5a27-ba35-4828-85d7-5064b4325d50",
   "metadata": {},
   "source": [
    "### 1. **Standardisierung**"
   ]
  },
  {
   "cell_type": "markdown",
   "id": "b063ec57-02ef-4bf0-a2e0-75b1048042fa",
   "metadata": {},
   "source": [
    "   - **Ziel**: Die Daten auf eine einheitliche Skala bringen, um Variablen mit unterschiedlichen Einheiten vergleichbar zu machen.\n",
    "   - **Was es tut**: Standardisierung transformiert die Daten so, dass sie einen **Mittelwert von 0** und eine **Standardabweichung von 1** haben (z.B. bei der Z-Standardisierung). Dies verhindert, dass eine Variable mit größeren Werten oder unterschiedlichen Maßeinheiten andere Variablen dominiert.\n",
    "   - **Anwendung**: Vor allem wichtig für Machine-Learning-Algorithmen, die auf Distanzberechnungen oder Gradienten basieren (z.B. SVM, KNN, Neuronale Netze).\n",
    "   - **Beispiel**: In einem Datensatz mit Hauspreisen und Quadratmeterangaben könnte Standardisierung beide Variablen auf vergleichbare Skalen bringen.\n",
    "\n",
    "   **Beispiel in Python:**\n",
    "   ```python\n",
    "   from sklearn.preprocessing import StandardScaler\n",
    "   import pandas as pd\n",
    "\n",
    "   # Beispiel-Daten\n",
    "   data = {'price': [100000, 150000, 200000], 'size': [50, 75, 100]}\n",
    "   df = pd.DataFrame(data)\n",
    "\n",
    "   # Z-Standardisierung\n",
    "   scaler = StandardScaler()\n",
    "   scaled_data = scaler.fit_transform(df)\n",
    "   ```"
   ]
  },
  {
   "cell_type": "markdown",
   "id": "53d82d57-9b30-43c5-9270-cd1007d16058",
   "metadata": {},
   "source": [
    "### 2. **Dimensionsreduktion durch PCA**"
   ]
  },
  {
   "cell_type": "markdown",
   "id": "6ceba52a-7032-49e4-a174-9257731d2b28",
   "metadata": {},
   "source": [
    "   - **Ziel**: Die Anzahl der **Dimensionen (Features)** reduzieren, während möglichst viele Informationen der Daten erhalten bleiben.\n",
    "   - **Was es tut**: PCA transformiert die Daten in eine neue Basis, indem es die Richtung der größten Varianz in den Daten (Hauptkomponenten) identifiziert. Die Daten werden auf diese Hauptkomponenten projiziert, wodurch eine kleinere Anzahl von Komponenten die Variabilität der Daten erklären kann.\n",
    "   - **Anwendung**: Wird verwendet, um die **Rechenkomplexität** zu reduzieren, **Überanpassung** (Overfitting) zu vermeiden und um die Daten leichter interpretierbar zu machen, ohne dabei zu viel Informationen zu verlieren.\n",
    "   - **Beispiel**: Wenn du 100 Variablen hast, von denen viele stark korreliert sind, könnte PCA die Dimensionen auf beispielsweise 10 Hauptkomponenten reduzieren, die die meiste Varianz der Daten erklären.\n",
    "\n",
    "   **Beispiel in Python:**\n",
    "   ```python\n",
    "   from sklearn.decomposition import PCA\n",
    "   import pandas as pd\n",
    "\n",
    "   # Beispiel-Daten\n",
    "   data = {'price': [100000, 150000, 200000], 'size': [50, 75, 100], 'rooms': [2, 3, 4]}\n",
    "   df = pd.DataFrame(data)\n",
    "\n",
    "   # PCA für Dimensionsreduktion\n",
    "   pca = PCA(n_components=2)\n",
    "   reduced_data = pca.fit_transform(df)\n",
    "   ```"
   ]
  },
  {
   "cell_type": "markdown",
   "id": "2e1ab5d0-7e7b-4a20-ba43-fa2f52d668fa",
   "metadata": {},
   "source": [
    "### Unterschiede zwischen Standardisierung und PCA:"
   ]
  },
  {
   "cell_type": "markdown",
   "id": "f5722218-4d9f-461e-969d-649d94ee8a95",
   "metadata": {},
   "source": [
    "1. **Zweck**:\n",
    "   - **Standardisierung**: Bereinigt und skaliert die Daten, um Verzerrungen durch unterschiedliche Einheiten oder Skalen zu vermeiden.\n",
    "   - **PCA**: Reduziert die Anzahl der Dimensionen in den Daten, um deren Struktur zu vereinfachen und die wichtigsten Merkmale beizubehalten.\n",
    "\n",
    "2. **Ergebnis**:\n",
    "   - **Standardisierung**: Gibt standardisierte Daten zurück, die immer noch die gleiche Anzahl an Dimensionen haben, aber auf eine vergleichbare Skala gebracht wurden.\n",
    "   - **PCA**: Liefert eine reduzierte Anzahl von Hauptkomponenten (Dimensionen), die die Daten neu darstellen, mit einem Verlust an Detail, aber der Erhaltung der größten Varianz.\n",
    "\n",
    "3. **Notwendigkeit von Standardisierung vor PCA**:\n",
    "   - **Wichtig**: Bei PCA ist es oft notwendig, die Daten **vorab zu standardisieren**, da PCA auf die **Varianz** der Daten basiert. Wenn die Daten nicht standardisiert sind, könnten Variablen mit größeren Werten die Berechnung der Hauptkomponenten dominieren."
   ]
  },
  {
   "cell_type": "markdown",
   "id": "53f7252c-f293-45e7-8926-a14ecc9ef22c",
   "metadata": {},
   "source": [
    "### Fazit:"
   ]
  },
  {
   "cell_type": "markdown",
   "id": "850f7da9-c99b-4c0a-aa35-6acf12ab0b12",
   "metadata": {},
   "source": [
    "- **Standardisierung** und **PCA** haben unterschiedliche Ziele. Standardisierung gleicht die Skalen der Daten an, während PCA die Dimensionen reduziert.\n",
    "- Oft wird die **Standardisierung vor der PCA** durchgeführt, um sicherzustellen, dass alle Variablen gleichberechtigt in die Analyse eingehen."
   ]
  },
  {
   "cell_type": "code",
   "execution_count": null,
   "id": "8bff8580-f5d7-44f2-a08d-2308ff3a1659",
   "metadata": {},
   "outputs": [],
   "source": []
  }
 ],
 "metadata": {
  "kernelspec": {
   "display_name": "Python 3 (ipykernel)",
   "language": "python",
   "name": "python3"
  },
  "language_info": {
   "codemirror_mode": {
    "name": "ipython",
    "version": 3
   },
   "file_extension": ".py",
   "mimetype": "text/x-python",
   "name": "python",
   "nbconvert_exporter": "python",
   "pygments_lexer": "ipython3",
   "version": "3.12.6"
  }
 },
 "nbformat": 4,
 "nbformat_minor": 5
}
