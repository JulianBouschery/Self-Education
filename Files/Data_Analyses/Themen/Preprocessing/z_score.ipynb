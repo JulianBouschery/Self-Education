{
 "cells": [
  {
   "cell_type": "markdown",
   "id": "33ed3491-d027-439b-9d68-256fa440148b",
   "metadata": {},
   "source": [
    "# Z-Score"
   ]
  },
  {
   "cell_type": "markdown",
   "id": "ba2dfe85-6fae-4afb-ac04-337f870abc07",
   "metadata": {},
   "source": [
    "Der **Z-Score** (auch **Standardisierung** oder **z-Transformation** genannt) ist eine Methode, um Daten zu normalisieren. Ziel ist es, die Daten so zu transformieren, dass sie einen Mittelwert von 0 und eine Standardabweichung von 1 haben. Der Z-Score gibt also an, wie viele Standardabweichungen ein Datenpunkt vom Mittelwert entfernt liegt.\n",
    "\n",
    "### Warum Z-Score?\n",
    "Der Z-Score wird verwendet, um Daten auf eine einheitliche Skala zu bringen, ohne den Einfluss von Ausreißern zu eliminieren. Das ist besonders hilfreich bei Algorithmen, die empfindlich auf die Skalierung der Daten reagieren, wie z.B. bei linearen Modellen oder k-Nächste-Nachbarn.\n",
    "\n",
    "### Berechnung des Z-Scores\n",
    "Der Z-Score für einen Datenpunkt $x$ wird berechnet mit der Formel:\n",
    "\n",
    "$$\n",
    "z = \\frac{x - \\mu}{\\sigma}\n",
    "$$\n",
    "\n",
    "- $x$: der Originalwert\n",
    "- $\\mu$: der Mittelwert der Daten\n",
    "- $\\sigma$: die Standardabweichung der Daten\n",
    "\n",
    "### Interpretation\n",
    "- Ein Z-Score von **0** bedeutet, dass der Wert genau dem Mittelwert entspricht.\n",
    "- Ein positiver Z-Score zeigt, dass der Wert **über dem Mittelwert** liegt.\n",
    "- Ein negativer Z-Score zeigt, dass der Wert **unter dem Mittelwert** liegt.\n",
    "- Der Betrag des Z-Scores (also die Zahl ohne Vorzeichen) gibt an, wie viele Standardabweichungen der Wert vom Mittelwert entfernt ist.\n",
    "\n",
    "### Beispiel in Python\n",
    "Hier ein einfaches Beispiel, wie der Z-Score berechnet wird:\n",
    "\n",
    "```python\n",
    "import numpy as np\n",
    "\n",
    "# Beispiel-Daten\n",
    "daten = [10, 12, 14, 16, 18]\n",
    "\n",
    "# Mittelwert und Standardabweichung berechnen\n",
    "mean = np.mean(daten)\n",
    "std_dev = np.std(daten)\n",
    "\n",
    "# Z-Scores berechnen\n",
    "z_scores = [(x - mean) / std_dev for x in daten]\n",
    "\n",
    "z_scores\n",
    "```\n",
    "\n",
    "Hier wird für jeden Wert in `daten` der Z-Score berechnet und in der Liste `z_scores` gespeichert. Diese Liste enthält dann die standardisierten Werte, die für statistische Analysen oder als Input für ML-Modelle nützlich sein können."
   ]
  },
  {
   "cell_type": "code",
   "execution_count": 1,
   "id": "959616bc-3cd4-4440-a7be-045f17be3a98",
   "metadata": {},
   "outputs": [
    {
     "data": {
      "text/plain": [
       "[-1.414213562373095,\n",
       " -0.7071067811865475,\n",
       " 0.0,\n",
       " 0.7071067811865475,\n",
       " 1.414213562373095]"
      ]
     },
     "execution_count": 1,
     "metadata": {},
     "output_type": "execute_result"
    }
   ],
   "source": [
    "import numpy as np\n",
    "\n",
    "# Beispiel-Daten\n",
    "daten = [10, 12, 14, 16, 18]\n",
    "\n",
    "# Mittelwert und Standardabweichung berechnen\n",
    "mean = np.mean(daten)\n",
    "std_dev = np.std(daten)\n",
    "\n",
    "# Z-Scores berechnen\n",
    "z_scores = [(x - mean) / std_dev for x in daten]\n",
    "\n",
    "z_scores"
   ]
  },
  {
   "cell_type": "code",
   "execution_count": null,
   "id": "27f95594-dfe4-4d90-b0da-f1094544103a",
   "metadata": {},
   "outputs": [],
   "source": []
  }
 ],
 "metadata": {
  "kernelspec": {
   "display_name": "Python 3 (ipykernel)",
   "language": "python",
   "name": "python3"
  },
  "language_info": {
   "codemirror_mode": {
    "name": "ipython",
    "version": 3
   },
   "file_extension": ".py",
   "mimetype": "text/x-python",
   "name": "python",
   "nbconvert_exporter": "python",
   "pygments_lexer": "ipython3",
   "version": "3.12.6"
  }
 },
 "nbformat": 4,
 "nbformat_minor": 5
}
