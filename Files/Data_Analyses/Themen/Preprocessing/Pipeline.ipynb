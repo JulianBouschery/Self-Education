{
 "cells": [
  {
   "cell_type": "markdown",
   "id": "5af56dcf-d8b3-47e4-9dbd-103f525c2e9c",
   "metadata": {},
   "source": [
    "# Pipeline"
   ]
  },
  {
   "cell_type": "markdown",
   "id": "61429338-ade1-4c89-a970-ec1a632245b5",
   "metadata": {},
   "source": [
    "https://www.labellerr.com/blog/end-to-end-ml-pipeline/"
   ]
  },
  {
   "cell_type": "markdown",
   "id": "5a1b2d36-493c-420c-8321-2ca120e967aa",
   "metadata": {},
   "source": [
    "https://konfuzio.com/de/machine-learning-pipelines/"
   ]
  },
  {
   "cell_type": "markdown",
   "id": "d999951b-cd9a-46eb-bffa-eefbbdc23568",
   "metadata": {},
   "source": [
    "Data Analyst Workflow https://docs.kanaries.net/articles/data-analysis-workflow"
   ]
  },
  {
   "cell_type": "code",
   "execution_count": null,
   "id": "bce0b8bb-50bb-4d6b-8b96-a1beec3a2527",
   "metadata": {},
   "outputs": [],
   "source": []
  }
 ],
 "metadata": {
  "kernelspec": {
   "display_name": "Python 3 (ipykernel)",
   "language": "python",
   "name": "python3"
  },
  "language_info": {
   "codemirror_mode": {
    "name": "ipython",
    "version": 3
   },
   "file_extension": ".py",
   "mimetype": "text/x-python",
   "name": "python",
   "nbconvert_exporter": "python",
   "pygments_lexer": "ipython3",
   "version": "3.12.6"
  }
 },
 "nbformat": 4,
 "nbformat_minor": 5
}
