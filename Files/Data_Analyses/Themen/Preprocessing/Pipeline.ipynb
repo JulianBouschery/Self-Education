{
 "cells": [
  {
   "cell_type": "markdown",
   "id": "5af56dcf-d8b3-47e4-9dbd-103f525c2e9c",
   "metadata": {},
   "source": [
    "# Pipeline"
   ]
  },
  {
   "cell_type": "markdown",
   "id": "61429338-ade1-4c89-a970-ec1a632245b5",
   "metadata": {},
   "source": [
    "https://www.labellerr.com/blog/end-to-end-ml-pipeline/"
   ]
  },
  {
   "cell_type": "markdown",
   "id": "5a1b2d36-493c-420c-8321-2ca120e967aa",
   "metadata": {},
   "source": [
    "https://konfuzio.com/de/machine-learning-pipelines/"
   ]
  },
  {
   "cell_type": "markdown",
   "id": "d999951b-cd9a-46eb-bffa-eefbbdc23568",
   "metadata": {},
   "source": [
    "Data Analyst Workflow https://docs.kanaries.net/articles/data-analysis-workflow"
   ]
  },
  {
   "cell_type": "markdown",
   "id": "4ad5c8aa-2d76-407f-bc7e-5c548bb73830",
   "metadata": {},
   "source": [
    "https://valohai.com/machine-learning-pipeline/"
   ]
  },
  {
   "cell_type": "markdown",
   "id": "8983fac1-d05e-4dac-a651-b99c6df7e2f6",
   "metadata": {},
   "source": [
    "https://scikit-learn.org/1.5/modules/generated/sklearn.pipeline.Pipeline.html"
   ]
  },
  {
   "cell_type": "code",
   "execution_count": null,
   "id": "b3c7bd0a-e213-449e-b9dc-704b929c7739",
   "metadata": {},
   "outputs": [],
   "source": []
  }
 ],
 "metadata": {
  "kernelspec": {
   "display_name": "Python 3 (ipykernel)",
   "language": "python",
   "name": "python3"
  },
  "language_info": {
   "codemirror_mode": {
    "name": "ipython",
    "version": 3
   },
   "file_extension": ".py",
   "mimetype": "text/x-python",
   "name": "python",
   "nbconvert_exporter": "python",
   "pygments_lexer": "ipython3",
   "version": "3.12.6"
  }
 },
 "nbformat": 4,
 "nbformat_minor": 5
}
