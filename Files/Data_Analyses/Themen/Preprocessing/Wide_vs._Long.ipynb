{
 "cells": [
  {
   "cell_type": "markdown",
   "id": "9268a72e-0812-4519-9da5-5fe5977c6ae9",
   "metadata": {},
   "source": [
    "# Wide vs. Long Format"
   ]
  },
  {
   "cell_type": "markdown",
   "id": "057f634f-bda2-4f25-b453-5ed75b105edd",
   "metadata": {},
   "source": [
    "Quelle: https://towardsdatascience.com/long-and-wide-formats-in-data-explained-e48d7c9a06cb"
   ]
  },
  {
   "cell_type": "markdown",
   "id": "fdf577ae-f04c-4b34-9306-527945e548ca",
   "metadata": {},
   "source": [
    "Was sind wide- und long-Formate ?\n",
    " \n",
    "Wide-format: In diesem Format sind unterschiedliche Variablen oder Messungen als separate Spalten dargestellt. Jede Zeile repräsentiert eine Einheit (z.B. Person, Stadt), und die verschiedenen Spalten stehen für verschiedene Zeitpunkte oder Kategorien.\n",
    " \n",
    "| Name  | Height_2020 | Height_2021 |\n",
    "|-------|-------------|-------------|\n",
    "| Alice | 160         | 162         |\n",
    "| Bob   | 170         | 172         |\n",
    " \n",
    "Long-format: In diesem Format gibt es eine Spalte für Variablen und eine Spalte für Werte. Jede Zeile repräsentiert eine Beobachtung, z.B. eine Messung pro Zeiteinheit oder Kategorie.\n",
    " \n",
    "Beispiel:\n",
    " \n",
    "| Name  | Year | Height |\n",
    "|-------|------|--------|\n",
    "| Alice | 2020 | 160    |\n",
    "| Alice | 2021 | 162    |\n",
    "| Bob   | 2020 | 170    |\n",
    "| Bob   | 2021 | 172    |\n",
    " \n",
    "Wann verwenden wir wide-, wann long-format?\n",
    " \n",
    "Wide-Format: Einfache Darstellung, Datenübersicht\n",
    " \n",
    "Long-Format: Komplexer für Zeitreihenanalysen"
   ]
  },
  {
   "cell_type": "code",
   "execution_count": null,
   "id": "6ac02b03-e93d-409e-ae94-97e471b11ed8",
   "metadata": {},
   "outputs": [],
   "source": []
  }
 ],
 "metadata": {
  "kernelspec": {
   "display_name": "Python 3 (ipykernel)",
   "language": "python",
   "name": "python3"
  },
  "language_info": {
   "codemirror_mode": {
    "name": "ipython",
    "version": 3
   },
   "file_extension": ".py",
   "mimetype": "text/x-python",
   "name": "python",
   "nbconvert_exporter": "python",
   "pygments_lexer": "ipython3",
   "version": "3.12.6"
  }
 },
 "nbformat": 4,
 "nbformat_minor": 5
}
