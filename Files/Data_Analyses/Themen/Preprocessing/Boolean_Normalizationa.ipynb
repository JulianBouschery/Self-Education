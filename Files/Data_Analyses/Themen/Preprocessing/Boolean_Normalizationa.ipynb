{
 "cells": [
  {
   "cell_type": "markdown",
   "id": "6416bc7b-f67f-4720-a4f4-284a2cb05348",
   "metadata": {},
   "source": [
    "Siehe: [One Hot Encoding](One_Hot_Encoding.ipynb)"
   ]
  },
  {
   "cell_type": "markdown",
   "id": "62725e39-aacd-4f22-a2a0-cf4ea27e2b4e",
   "metadata": {},
   "source": [
    "Siehe auch: [Unterschied zwischen Boolean-Normalisierung und One Hot Encoding](Boolean_N_vs._One_Hot_Enconding.ipynb) "
   ]
  },
  {
   "cell_type": "markdown",
   "id": "7a8b790f-9b4e-4fae-b56a-0b76d13d7529",
   "metadata": {},
   "source": [
    "# Boolean Normalisierung"
   ]
  },
  {
   "cell_type": "markdown",
   "id": "d7e02cc1-1a55-4eae-9ac3-dbbaa1e9912f",
   "metadata": {},
   "source": [
    "Die Umwandlung von Werten wie \"Ja/Nein\" oder \"True/False\" in boolesche Werte (0 oder 1) ist oft wichtig, um diese Daten für Machine-Learning-Algorithmen nutzbar zu machen."
   ]
  },
  {
   "cell_type": "markdown",
   "id": "69f6b9c0-4fee-42b0-8ee7-9dbd6e3252d4",
   "metadata": {},
   "source": [
    "### Beispiel für Boolean-Normalisierung:"
   ]
  },
  {
   "cell_type": "code",
   "execution_count": 1,
   "id": "a74795cc-7c92-4485-b52e-eb4523b7f5ca",
   "metadata": {},
   "outputs": [
    {
     "name": "stdout",
     "output_type": "stream",
     "text": [
      "Vor der Umwandlung:\n",
      "  Zustimmung Verifiziert\n",
      "0         Ja        True\n",
      "1       Nein       False\n",
      "2         Ja        True\n",
      "3       Nein       False\n",
      "4         Ja        True\n",
      "\n",
      "Nach der Umwandlung:\n",
      "   Zustimmung  Verifiziert\n",
      "0           1            1\n",
      "1           0            0\n",
      "2           1            1\n",
      "3           0            0\n",
      "4           1            1\n"
     ]
    }
   ],
   "source": [
    "import pandas as pd\n",
    "\n",
    "# Beispiel-Daten mit Ja/Nein und True/False Werten\n",
    "df = pd.DataFrame({\n",
    "    'Zustimmung': ['Ja', 'Nein', 'Ja', 'Nein', 'Ja'],\n",
    "    'Verifiziert': ['True', 'False', 'True', 'False', 'True']\n",
    "})\n",
    "\n",
    "print(\"Vor der Umwandlung:\")\n",
    "print(df)\n",
    "\n",
    "# Boolean-Normalisierung: Ja/Nein -> 1/0\n",
    "df['Zustimmung'] = df['Zustimmung'].map({'Ja': 1, 'Nein': 0})\n",
    "\n",
    "# Boolean-Normalisierung: True/False -> 1/0\n",
    "df['Verifiziert'] = df['Verifiziert'].map({'True': 1, 'False': 0})\n",
    "\n",
    "print(\"\\nNach der Umwandlung:\")\n",
    "print(df)\n"
   ]
  },
  {
   "cell_type": "code",
   "execution_count": null,
   "id": "31a6a3f7-fc13-4979-b25a-1fa17cf43c9d",
   "metadata": {},
   "outputs": [],
   "source": []
  }
 ],
 "metadata": {
  "kernelspec": {
   "display_name": "Python 3 (ipykernel)",
   "language": "python",
   "name": "python3"
  },
  "language_info": {
   "codemirror_mode": {
    "name": "ipython",
    "version": 3
   },
   "file_extension": ".py",
   "mimetype": "text/x-python",
   "name": "python",
   "nbconvert_exporter": "python",
   "pygments_lexer": "ipython3",
   "version": "3.12.6"
  }
 },
 "nbformat": 4,
 "nbformat_minor": 5
}
