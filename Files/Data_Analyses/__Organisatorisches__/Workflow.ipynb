{
 "cells": [
  {
   "cell_type": "markdown",
   "id": "00216441-35f9-4917-aed7-4f2f59ee85c2",
   "metadata": {},
   "source": [
    "# Struktur"
   ]
  },
  {
   "cell_type": "markdown",
   "id": "b9929b9a-2ae4-484c-bca7-18d0f9849626",
   "metadata": {},
   "source": [
    "1. Bereits existierende Skirpte werden über GitHub vom Team bereit gestellt.\n",
    "3. Julian pflegt diese Skripte ins Repository ein. Erster Sammelort ist der Ordner \"_Hier_neue_Files_rein_\" bis sie einen geeigneten Platz bekommen.\n",
    "4. Es wird ein Haupt-Skript für Thema X erstellt und in den Syllabus eingpflegt. Bisher waren das meist die Skripte von Timo, da sie aus umfangreichen Zusammenfassungen einzelner Themen bestehen.\n",
    "5. Falls nötig werden Nebenskirpte erstellt, (meist waren das Skripte von Julian) die einzellne Funktionen, Fachwörter oder Formeln enthalten und tiefer ins Detail gehen, als man es in der Zusammenfassung möchte. \n",
    "6. Bearbeitet werden Skripte nur im Respository da die Änderungen sonst nicht übernommen werden können.\n",
    "7. Neue Skripte dürfen auch gerne im Respository angelegt werden. Auch wenn man nicht weiß, wo genau es hin soll ist es besser eine Datei in \"_Hier_neue_Files_rein_\" zu erstellen, als das Julian sie zwischen den bereits importierten Dateien aus GitHub heraussuchen muss.\n",
    "8. Sollten während des bearbeitens / lesens der Skipte, Rechtschreibfehler oder fehlerhafter Code auffallen jeder eingeladen dies zu beheben.\n",
    "\n",
    "Zusatz:\n",
    "\n",
    "8. Julian wird versuchen die Hauptskripte der entsprechenden Themen mit dem Inhaltsverzeichnis zu verknüpfen. \n",
    "9. Falls dies nicht gelingt wird das Hauptskript in den Nebenskripten als Zusammenfassung verküpft."
   ]
  },
  {
   "cell_type": "code",
   "execution_count": null,
   "id": "efe794d0-03ec-49ea-b08b-b2c18cd09d4a",
   "metadata": {},
   "outputs": [],
   "source": []
  }
 ],
 "metadata": {
  "kernelspec": {
   "display_name": "Python 3 (ipykernel)",
   "language": "python",
   "name": "python3"
  },
  "language_info": {
   "codemirror_mode": {
    "name": "ipython",
    "version": 3
   },
   "file_extension": ".py",
   "mimetype": "text/x-python",
   "name": "python",
   "nbconvert_exporter": "python",
   "pygments_lexer": "ipython3",
   "version": "3.12.6"
  }
 },
 "nbformat": 4,
 "nbformat_minor": 5
}
