{
 "cells": [
  {
   "cell_type": "markdown",
   "id": "3c2414c9-154b-4b3d-a50a-b7f2c1a2453e",
   "metadata": {},
   "source": [
    "# Singelton"
   ]
  },
  {
   "cell_type": "markdown",
   "id": "786c6388-97e6-4b3d-a035-9ffa02f27f23",
   "metadata": {},
   "source": [
    "Ein **Singleton** ist ein Entwurfsmuster (Design Pattern), bei dem sichergestellt wird, dass eine Klasse nur **eine einzige Instanz** hat und diese Instanz global zugänglich ist. Das ist nützlich, wenn du genau eine Ressource (z. B. eine Datenbankverbindung oder einen Logger) verwalten möchtest.\n",
    "\n",
    "---\n",
    "\n",
    "### Prinzip des Singleton-Musters\n",
    "1. Die Klasse kontrolliert ihre eigene Instanziierung.\n",
    "2. Wenn die Instanz bereits existiert, wird diese zurückgegeben, statt eine neue zu erstellen.\n",
    "3. Die Instanz bleibt über das gesamte Programm hinweg verfügbar.\n",
    "\n",
    "---\n",
    "\n",
    "### Beispiel: Singleton für eine Datenbankverbindung in Python\n",
    "\n",
    "Hier zeige ich, wie du ein Singleton für eine SQLite-Datenbankverbindung erstellen kannst:\n",
    "\n",
    "#### **singleton_db.py**\n",
    "```python\n",
    "import sqlite3\n",
    "\n",
    "class DatabaseConnection:\n",
    "    _instance = None  # Klasse speichert ihre einzige Instanz\n",
    "\n",
    "    def __new__(cls):\n",
    "        if cls._instance is None:\n",
    "            cls._instance = super(DatabaseConnection, cls).__new__(cls)\n",
    "            cls._instance.connection = sqlite3.connect(\"Gym-Database.db\")\n",
    "            cls._instance.cursor = cls._instance.connection.cursor()\n",
    "        return cls._instance\n",
    "\n",
    "# Zugriffsmethode für den Singleton\n",
    "def get_db_cursor():\n",
    "    db = DatabaseConnection()\n",
    "    return db.cursor, db.connection\n",
    "```\n",
    "\n",
    "---\n",
    "\n",
    "#### **main.py**\n",
    "```python\n",
    "from singleton_db import get_db_cursor\n",
    "\n",
    "# Hole den Cursor aus dem Singleton\n",
    "cursor, connection = get_db_cursor()\n",
    "\n",
    "# Beispielabfrage ausführen\n",
    "cursor.execute(\"SELECT name FROM sqlite_master WHERE type='table';\")\n",
    "print(cursor.fetchall())\n",
    "\n",
    "# Hinweis: Die Verbindung bleibt während des Programms aktiv und wird zentral verwaltet.\n",
    "```\n",
    "\n",
    "---\n",
    "\n",
    "### Vorteile eines Singletons:\n",
    "1. **Globaler Zugriff:** Die Ressource (z. B. eine Datenbankverbindung) ist überall im Programm verfügbar.\n",
    "2. **Kontrollierte Instanziierung:** Es wird sichergestellt, dass nur eine Instanz der Klasse existiert.\n",
    "3. **Zentralisierte Verwaltung:** Änderungen an der Singleton-Klasse wirken sich überall aus, wo sie genutzt wird.\n",
    "\n",
    "---\n",
    "\n",
    "### Nachteile:\n",
    "1. **Schwierig zu testen:** Da ein Singleton global ist, kann es schwierig sein, es in Tests zu mocken oder zu ersetzen.\n",
    "2. **Versteckte Abhängigkeiten:** Wenn viele Teile des Programms auf den Singleton zugreifen, kann das die Struktur unübersichtlich machen.\n",
    "3. **Gefahr von Ressourcenkonflikten:** Wenn die Singleton-Ressource nicht richtig verwaltet wird (z. B. eine Verbindung nicht geschlossen wird), kann das zu Problemen führen.\n",
    "\n",
    "---\n",
    "\n",
    "### Wann sollte man ein Singleton nutzen?\n",
    "- Wenn es wichtig ist, dass eine Ressource wie eine Datenbankverbindung **einzigartig und zentralisiert** ist.\n",
    "- Wenn die Verwaltung einer globalen Ressource konsistent sein muss."
   ]
  },
  {
   "cell_type": "code",
   "execution_count": null,
   "id": "ae043d2f-f850-4487-babc-c1ef9a269114",
   "metadata": {},
   "outputs": [],
   "source": []
  }
 ],
 "metadata": {
  "kernelspec": {
   "display_name": "Python 3 (ipykernel)",
   "language": "python",
   "name": "python3"
  },
  "language_info": {
   "codemirror_mode": {
    "name": "ipython",
    "version": 3
   },
   "file_extension": ".py",
   "mimetype": "text/x-python",
   "name": "python",
   "nbconvert_exporter": "python",
   "pygments_lexer": "ipython3",
   "version": "3.12.6"
  }
 },
 "nbformat": 4,
 "nbformat_minor": 5
}
