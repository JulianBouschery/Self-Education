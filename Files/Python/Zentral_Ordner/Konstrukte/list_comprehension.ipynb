{
 "cells": [
  {
   "cell_type": "markdown",
   "id": "a09e47df-f6a7-4471-9425-a63bc427fac5",
   "metadata": {},
   "source": [
    "[Zurück zum Inhaltsverzeichnis](_Inhaltsverzeichnis_.ipynb)"
   ]
  },
  {
   "cell_type": "markdown",
   "id": "ff163def-f7e5-48d2-bfd8-6db7f1a22786",
   "metadata": {},
   "source": [
    "# List Comprehension"
   ]
  },
  {
   "cell_type": "markdown",
   "id": "f42bcef4-3e5b-4b38-a5d1-7e49f78dba03",
   "metadata": {},
   "source": [
    "Wird wann anders perfektioniert."
   ]
  },
  {
   "cell_type": "code",
   "execution_count": null,
   "id": "672c09f1-a478-4a2c-92ae-05db927e9831",
   "metadata": {},
   "outputs": [],
   "source": []
  },
  {
   "cell_type": "markdown",
   "id": "37f6dae4-f259-450d-a6c2-4fa14be007f0",
   "metadata": {},
   "source": [
    "Eine List Comprehension ist ein Konstrukt in Python das zur Erstellung von Listen verwendet wird. Oft wird eine bestehende Liste oder ein anderes iterierbares Objekt verwendet und mit Filterbedingungen oder Transformationen kombiniert. \n",
    "\n",
    "Der grundlegende Aufbau einer List Comprehension besteht aus einer `for`-Schleife und kann eine `if`-Bedingung enthalten, um gezielt bestimmte Elemente auszuwählen."
   ]
  },
  {
   "cell_type": "markdown",
   "id": "2121f8cd-4ab6-4768-90ac-b1f36a7254e4",
   "metadata": {},
   "source": [
    "### Syntax"
   ]
  },
  {
   "cell_type": "markdown",
   "id": "423cb679-3d65-43df-b960-40c6709acafe",
   "metadata": {},
   "source": [
    "```python\n",
    "[expression for item in iterable if condition]\n",
    "```"
   ]
  },
  {
   "cell_type": "markdown",
   "id": "de099a4e-4637-4f4e-8455-2dd97c0190b9",
   "metadata": {},
   "source": [
    "- **expression**: Der Ausdruck, der jedes Element in der neuen Liste definiert. Das kann eine einfache Variable oder eine Operation auf dem Element sein.\n",
    "- **for item in iterable**: Eine Schleife, die über jedes Element in einer Sammlung (z.B. eine Liste, ein Set, oder ein Range-Objekt) iteriert.\n",
    "- **if condition** (optional): Eine Bedingung, die angibt, ob ein Element in die neue Liste aufgenommen wird."
   ]
  },
  {
   "cell_type": "markdown",
   "id": "0b58f061-5556-4d51-a5aa-ea8109fca029",
   "metadata": {},
   "source": [
    "### Beispiel 1: Erstellen einer Liste von Quadratzahlen"
   ]
  },
  {
   "cell_type": "markdown",
   "id": "507b11f8-e10b-42b1-a5e6-d2d7b5f420c9",
   "metadata": {},
   "source": [
    "Hier eine List Comprehension, um die Quadrate von Zahlen zwischen 1 und 5 zu berechnen:"
   ]
  },
  {
   "cell_type": "markdown",
   "id": "1b3d9265-b547-4724-9dbd-264518c30088",
   "metadata": {},
   "source": [
    "```python\n",
    "squares = [x**2 for x in range(1, 6)]\n",
    "print(squares)  # Ausgabe: [1, 4, 9, 16, 25]\n",
    "```\n",
    "Diese Comprehension ist gleichwertig zu:\n",
    "```python\n",
    "squares = []\n",
    "for x in range(1, 6):\n",
    "    squares.append(x**2)\n",
    "```"
   ]
  },
  {
   "cell_type": "markdown",
   "id": "17914351-af29-408c-b058-80a1433dde41",
   "metadata": {},
   "source": [
    "### Beispiel 2: Filtern von Elementen"
   ]
  },
  {
   "cell_type": "markdown",
   "id": "325d8dfa-c471-4b3d-821a-74b6539c248f",
   "metadata": {},
   "source": [
    "Wenn du nur gerade Quadratzahlen möchtest, kannst du eine Bedingung hinzufügen:"
   ]
  },
  {
   "cell_type": "markdown",
   "id": "d07851b8-2d18-4e45-bb5b-cf69f650bec5",
   "metadata": {},
   "source": [
    "```python\n",
    "even_squares = [x**2 for x in range(1, 6) if x % 2 == 0]\n",
    "print(even_squares)  # Ausgabe: [4, 16]\n",
    "```"
   ]
  },
  {
   "cell_type": "markdown",
   "id": "8d2389ef-1057-440d-870e-622a9f4dc3c1",
   "metadata": {},
   "source": [
    "### Vorteile von List Comprehensions"
   ]
  },
  {
   "cell_type": "markdown",
   "id": "94f34a90-8129-4940-85a8-2161588d3fac",
   "metadata": {},
   "source": [
    "1. **Kompakte Syntax**: Kürzere, lesbare Ausdrücke.\n",
    "2. **Schnelligkeit**: In der Regel schneller als eine herkömmliche for-Schleife.\n",
    "3. **Flexibilität**: Kann mit Bedingungen und komplexen Ausdrücken verwendet werden. \n",
    "\n",
    "List Comprehensions sind also eine praktische und elegante Möglichkeit, Listen zu erzeugen und zu filtern, ohne viele Zeilen Code zu benötigen."
   ]
  },
  {
   "cell_type": "markdown",
   "id": "ed2003d3-28e4-46a9-90d7-65a3d599d904",
   "metadata": {},
   "source": [
    "## Überblick"
   ]
  },
  {
   "cell_type": "markdown",
   "id": "f31d3261-a1fa-43b7-bcfb-0bcd2f0db1af",
   "metadata": {},
   "source": [
    "\n",
    "Name der Funktion: ?\n",
    "\n",
    "Instanz der Klasse: ?\n",
    "\n",
    "Syntax:\n",
    "`lc =` `[` `x` `for` `x` `in` `Iterable` `]`\n",
    "\n",
    "\n",
    "\n",
    "```python\n",
    "Parameter: \n",
    "?\n",
    "    \n",
    "```\n",
    "Funktion: \n",
    "Eine List Comprehension ist eine kompakte und lesbare Methode, um Listen in Python zu erstellen. Es erlaubt, Listen auf Basis von bestehenden Listen oder anderen iterierbaren Objekten zu generieren, wobei optional Filterbedingungen und Transformationen angewendet werden können. Im Prinzip ist eine List Comprehension eine for-Scheife mit eingebauter append Methode.\n",
    "\n",
    "\n",
    "Default return: \n",
    "```python\n",
    "Liste\n",
    "```\n",
    "Error:\n"
   ]
  },
  {
   "cell_type": "markdown",
   "id": "3ba5396d-87d9-466a-8a6a-fb24d089a569",
   "metadata": {},
   "source": [
    "#### Instanz"
   ]
  },
  {
   "cell_type": "markdown",
   "id": "3fb1125c-a338-4dae-8d72-955ff1f1a87d",
   "metadata": {},
   "source": [
    "?"
   ]
  },
  {
   "cell_type": "markdown",
   "id": "f8aff486-218a-42f9-8579-64c69ac43cc5",
   "metadata": {},
   "source": [
    "#### Parameter"
   ]
  },
  {
   "cell_type": "markdown",
   "id": "95ba8847-afc3-4635-9ec5-234abadd8e92",
   "metadata": {},
   "source": [
    "?"
   ]
  },
  {
   "cell_type": "markdown",
   "id": "daf106d7-2703-4ba7-ac30-33dd90d4a7d6",
   "metadata": {},
   "source": [
    "#### return"
   ]
  },
  {
   "cell_type": "code",
   "execution_count": 5,
   "id": "87c20454-7103-46f3-816a-005538ec3a3f",
   "metadata": {},
   "outputs": [
    {
     "name": "stdout",
     "output_type": "stream",
     "text": [
      "[]\n"
     ]
    }
   ],
   "source": [
    "# Default return: Ohne Argument => leere Liste\n",
    "lc = [i for i in range(4,-4)]\n",
    "print(lc)"
   ]
  },
  {
   "cell_type": "code",
   "execution_count": 6,
   "id": "0e2de6f1-0c34-4cb5-8523-75bdd9b369f0",
   "metadata": {},
   "outputs": [
    {
     "name": "stdout",
     "output_type": "stream",
     "text": [
      "[1, 2, 3]\n"
     ]
    }
   ],
   "source": [
    "# return: Mit Argumenten --> befüllte Liste\n",
    "lc = [i for i in range(1,4)]\n",
    "print(lc)"
   ]
  },
  {
   "cell_type": "markdown",
   "id": "2b5b4a04-02fc-49e4-a0c9-7a63b341a8d5",
   "metadata": {},
   "source": [
    "### Error:"
   ]
  },
  {
   "cell_type": "code",
   "execution_count": null,
   "id": "939192a9-0f79-4b5a-948e-e3fc97252d79",
   "metadata": {},
   "outputs": [],
   "source": []
  },
  {
   "cell_type": "markdown",
   "id": "08c5d362-fbad-40f5-9766-964b063bb533",
   "metadata": {},
   "source": [
    "## Detailierte Erklärung"
   ]
  },
  {
   "cell_type": "markdown",
   "id": "8a68821c-d268-4292-a3df-687faecf162f",
   "metadata": {},
   "source": [
    "- Was passiert? (Funktion erklären)\n",
    "- Was ist das? (Definition formulieren)\n",
    "- Warum / Wie funktioniert das? (Hintergründe und Details)\n",
    "  All, das Hand von sehr vielen Beispielen erklären"
   ]
  },
  {
   "cell_type": "markdown",
   "id": "304c4f3c-9398-4083-a642-adadb6c5fc7a",
   "metadata": {},
   "source": [
    "Was ist überhaupt eine List Comprehension?"
   ]
  },
  {
   "cell_type": "markdown",
   "id": "65d43f07-34de-4820-b49e-7911a23f0018",
   "metadata": {},
   "source": [
    "Eine List Comprehension ist eine in sich selbst verschachtelte Vorschleife...\n",
    "Was heißt das?"
   ]
  },
  {
   "cell_type": "code",
   "execution_count": 11,
   "id": "0c101b31-97f6-4659-b9fd-1d4db2906000",
   "metadata": {},
   "outputs": [
    {
     "name": "stdout",
     "output_type": "stream",
     "text": [
      "[1, 2, 3, 4, 5, 6, 7, 8, 9, 10]\n"
     ]
    }
   ],
   "source": [
    "lc = []\n",
    "\n",
    "for i in range(1,11):\n",
    "    lc.append(i)\n",
    "print(lc)"
   ]
  },
  {
   "cell_type": "code",
   "execution_count": 13,
   "id": "2d3ae20b-8f81-4475-92f0-6cdcf945b176",
   "metadata": {},
   "outputs": [
    {
     "name": "stdout",
     "output_type": "stream",
     "text": [
      "[1, 2, 3, 4, 5, 6, 7, 8, 9, 10]\n"
     ]
    }
   ],
   "source": [
    "lc = [i for i in range(1,11)]\n",
    "print(lc)"
   ]
  },
  {
   "cell_type": "markdown",
   "id": "02d1f8e1-1652-46a3-8032-086b031ad99b",
   "metadata": {},
   "source": [
    "Eine List Comprehension ist eine kompakte und lesbare Methode, um Listen in Python zu erstellen. Es erlaubt, Listen auf Basis von bestehenden Listen oder anderen iterierbaren Objekten zu generieren, wobei optional Filterbedingungen und Transformationen angewendet werden können. Im Prinzip ist eine List Comprehension eine for-Scheife mit eingebauter append Methode."
   ]
  },
  {
   "cell_type": "markdown",
   "id": "d42f66ec-90a5-4cc1-ab97-983f07647580",
   "metadata": {},
   "source": [
    "Welche Blöcke haben wir?"
   ]
  },
  {
   "cell_type": "markdown",
   "id": "947b3bb7-acd3-419f-a1a7-801a8872ea8e",
   "metadata": {},
   "source": [
    "Syntax:\n",
    "1. Die Variable lc auf der die List Comprehnesion zugewiesen wird.\n",
    "2. Die Klammer in die `i` appended wird.\n",
    "3. Die for-Schleife\n",
    "4. Das was als Ergebnis in die Liste übertragen werden soll.\n",
    " \n",
    "\n",
    "`1. Block  lc =` `[]  2. Block`\n",
    "\n",
    "`3. Block  for i in range(1,11)`:\n",
    "\n",
    "a.append(  `4. Block  i`  )"
   ]
  },
  {
   "cell_type": "markdown",
   "id": "dc074845-f123-4c17-b2ca-31711b955535",
   "metadata": {},
   "source": [
    "`1. Block  lc =` `[` `4. Block i` `3. Block  for i in range(1,11)` `]  2. Block`"
   ]
  },
  {
   "cell_type": "markdown",
   "id": "0e307cba-9b43-4190-a99d-65368f28722e",
   "metadata": {},
   "source": [
    "### Beispiele:"
   ]
  },
  {
   "cell_type": "markdown",
   "id": "3a53bc25-dbea-44f2-b0f8-ce3d28b3a019",
   "metadata": {},
   "source": [
    "Diese for-Schleife soll in eine List-comprehension umgewandelt werden:"
   ]
  },
  {
   "cell_type": "markdown",
   "id": "42e04d04-7aa9-4251-ac4f-709f7bc85447",
   "metadata": {
    "jp-MarkdownHeadingCollapsed": true
   },
   "source": [
    "#### 1."
   ]
  },
  {
   "cell_type": "code",
   "execution_count": 7,
   "id": "4ad95570-127f-4369-8c0e-0b89277cc57f",
   "metadata": {},
   "outputs": [],
   "source": [
    "iterable = \"12345\"\n",
    "liste = []\n",
    "\n",
    "for elem in iterable:\n",
    "    liste.append(elem)"
   ]
  },
  {
   "cell_type": "code",
   "execution_count": 8,
   "id": "7b76404b-430c-4df9-b006-78b90f3a0add",
   "metadata": {},
   "outputs": [
    {
     "data": {
      "text/plain": [
       "['1', '2', '3', '4', '5']"
      ]
     },
     "execution_count": 8,
     "metadata": {},
     "output_type": "execute_result"
    }
   ],
   "source": [
    "liste"
   ]
  },
  {
   "cell_type": "code",
   "execution_count": null,
   "id": "403cc360-5397-4bc9-8659-15e2f202e7ce",
   "metadata": {},
   "outputs": [],
   "source": [
    "iterable = \"12345\"\n",
    "\n",
    "liste = [elem for elem in iterable]"
   ]
  },
  {
   "cell_type": "code",
   "execution_count": 10,
   "id": "9a4adf2b-9334-464d-bb12-2e24c33af84f",
   "metadata": {},
   "outputs": [
    {
     "data": {
      "text/plain": [
       "['1', '2', '3', '4', '5']"
      ]
     },
     "execution_count": 10,
     "metadata": {},
     "output_type": "execute_result"
    }
   ],
   "source": [
    "liste"
   ]
  },
  {
   "cell_type": "code",
   "execution_count": 17,
   "id": "cd65aba4-999d-4086-8b67-d77af34a2fc7",
   "metadata": {},
   "outputs": [],
   "source": [
    "iterable = \"12345\"\n",
    "liste_hoch_2 = []\n",
    "\n",
    "for elem in iterable:\n",
    "    liste_hoch_2.append(int(elem)**2)"
   ]
  },
  {
   "cell_type": "code",
   "execution_count": 16,
   "id": "fcc0a016-d411-4d19-b088-3fc5cd9705bb",
   "metadata": {},
   "outputs": [
    {
     "data": {
      "text/plain": [
       "[1, 4, 9, 16, 25]"
      ]
     },
     "execution_count": 16,
     "metadata": {},
     "output_type": "execute_result"
    }
   ],
   "source": [
    "liste_hoch_2"
   ]
  },
  {
   "cell_type": "markdown",
   "id": "25f29bdb-04d9-446d-adb2-01a84298ef37",
   "metadata": {
    "jp-MarkdownHeadingCollapsed": true
   },
   "source": [
    "#### 2."
   ]
  },
  {
   "cell_type": "code",
   "execution_count": 33,
   "id": "196b47eb-53b4-4dfd-8746-eb5c7c295859",
   "metadata": {},
   "outputs": [
    {
     "name": "stdout",
     "output_type": "stream",
     "text": [
      "[16, 25, 49, 64]\n"
     ]
    }
   ],
   "source": [
    "my_list = []\n",
    "for x in range(4,9): \n",
    "    if x%3: # ist nur True wenn Zahl nicht durch 3 teilbar\n",
    "        my_list.append(x**2) \n",
    "print(my_list)"
   ]
  },
  {
   "cell_type": "code",
   "execution_count": 27,
   "id": "9bf3e94b-5581-415a-aaae-46a2777b161d",
   "metadata": {},
   "outputs": [
    {
     "name": "stdout",
     "output_type": "stream",
     "text": [
      "[16, 25, 49, 64]\n"
     ]
    }
   ],
   "source": [
    "my_list = [x**2 for x in range(4,9) if x%3]\n",
    "print(my_list)"
   ]
  },
  {
   "cell_type": "markdown",
   "id": "eb80af38-b6ca-4a9f-ad03-284c0c55577a",
   "metadata": {},
   "source": [
    "**Erklärung:**"
   ]
  },
  {
   "cell_type": "markdown",
   "id": "f053a108-8857-41bd-99b8-76a4b949d68f",
   "metadata": {},
   "source": [
    "SPEICHER `x**2` FÜR `for x in range(4,9)` WENN `if x%3`  \n",
    "\n",
    "```python\n",
    "my_list = [x**2 for x in range(4,9) if x%3]\n",
    "print(my_list)\n",
    "```\n"
   ]
  },
  {
   "cell_type": "markdown",
   "id": "5271fed6-39ac-4b24-8459-0fa692d3a5f6",
   "metadata": {
    "jp-MarkdownHeadingCollapsed": true
   },
   "source": [
    "#### 3."
   ]
  },
  {
   "cell_type": "markdown",
   "id": "6af49139-b645-4a92-b575-6c9da79112a8",
   "metadata": {},
   "source": [
    "Zahlen von 0-100, als Quadrat gespeichert in einer Liste, aber nur Zahlen die durch 13 teilbar sind."
   ]
  },
  {
   "cell_type": "code",
   "execution_count": 10,
   "id": "6fa16be0-8733-4be9-941a-ea7c75b2eb20",
   "metadata": {
    "tags": []
   },
   "outputs": [],
   "source": [
    "# Lösung 1\n",
    "squares = []\n",
    "\n",
    "for i in range(0,101):\n",
    "    if i%13 == 0:   # if not i%13\n",
    "        squares.append(i**2)"
   ]
  },
  {
   "cell_type": "code",
   "execution_count": 11,
   "id": "463fe9db-b52f-4c97-95f4-36c4d143d28e",
   "metadata": {
    "tags": []
   },
   "outputs": [
    {
     "data": {
      "text/plain": [
       "[0, 169, 676, 1521, 2704, 4225, 6084, 8281]"
      ]
     },
     "execution_count": 11,
     "metadata": {},
     "output_type": "execute_result"
    }
   ],
   "source": [
    "squares"
   ]
  },
  {
   "cell_type": "code",
   "execution_count": 17,
   "id": "12cea387-27b5-4396-92f7-b205cca78e70",
   "metadata": {
    "tags": []
   },
   "outputs": [],
   "source": [
    "# Lösung 2 ohne if\n",
    "squares = []\n",
    "\n",
    "for i in range(0,101,13): # Gehe beginnend von der 0 bis maximal zur  100(101, ende exkludiert) aber gehe in 13 Schritten\n",
    "    squares.append(i**2)"
   ]
  },
  {
   "cell_type": "code",
   "execution_count": 16,
   "id": "68ee704d-6d6d-416c-9cab-8a388dad5418",
   "metadata": {
    "tags": []
   },
   "outputs": [
    {
     "data": {
      "text/plain": [
       "[0, 13, 26, 39, 52, 65, 78, 91]"
      ]
     },
     "execution_count": 16,
     "metadata": {},
     "output_type": "execute_result"
    }
   ],
   "source": [
    "squares"
   ]
  },
  {
   "cell_type": "markdown",
   "id": "6210c845-c9b2-41b9-a6ca-92fb4aa810ef",
   "metadata": {},
   "source": [
    "### Doppelte Listcomprehension"
   ]
  },
  {
   "cell_type": "markdown",
   "id": "bf64c743-7a07-4fda-9d5d-dd8f4e2af2d9",
   "metadata": {},
   "source": [
    "Genau so wie man zwei for-Scheifen ineinander verschachteln kann, kann man auch eine List Comprehension mit zwei for-Schleifen füllen"
   ]
  },
  {
   "cell_type": "code",
   "execution_count": 1,
   "id": "7afe897a-52e8-49c3-9724-ec10c0b01a1e",
   "metadata": {},
   "outputs": [
    {
     "name": "stdout",
     "output_type": "stream",
     "text": [
      "[2, 4, 6]\n"
     ]
    }
   ],
   "source": [
    "nums = [[1,2],[3,4],[5,6]]\n",
    "flat_nums = [x for sublist in nums for x in sublist if x % 2 == 0]\n",
    "\n",
    "print(flat_nums)"
   ]
  },
  {
   "cell_type": "code",
   "execution_count": null,
   "id": "8629dac0-5bec-4c2d-9ea3-cb064dfac98c",
   "metadata": {},
   "outputs": [],
   "source": []
  },
  {
   "cell_type": "code",
   "execution_count": null,
   "id": "2f8cc411-fbe3-4bdc-bb5e-cb328dc4b9dc",
   "metadata": {},
   "outputs": [],
   "source": [
    "# List Comprehension\n",
    "\n",
    "\n",
    "ist eine einfache Art Listen zu erstellen aus einem \"Iterable\". \n",
    "\n",
    "Das Muster ist dabei einfach zu lernen.\n",
    "\n",
    "```python \n",
    "my_iterable = \"12345\"\n",
    "\n",
    "liste_für_ergebnisse = []\n",
    "\n",
    "\n",
    "for elem in my_iterable:\n",
    "    liste_für_ergebnisse.append(elem)\n",
    "```\n",
    "\n",
    "1. Leere Liste definieren ausserhalb einer For-Schleife\n",
    "2. For-Schleife über ein Iterable\n",
    "3. in For-Schleife appenden wir an die Liste aus 1."
   ]
  },
  {
   "cell_type": "markdown",
   "id": "74cf4891-4370-4220-9dd3-2938d401bb86",
   "metadata": {},
   "source": [
    "### List Comprehension als filter"
   ]
  },
  {
   "cell_type": "markdown",
   "id": "7cc17cd5-16e6-474b-bdc9-6b258cb2bd6b",
   "metadata": {},
   "source": [
    "Wir haben eine liste mit allen Squares von den Zahlen 0-30."
   ]
  },
  {
   "cell_type": "code",
   "execution_count": 2,
   "id": "e35dc90e-ead4-4a4a-9e6e-babc0a214217",
   "metadata": {
    "tags": []
   },
   "outputs": [],
   "source": [
    "squares = [x**2 for x in range(0,30)]"
   ]
  },
  {
   "cell_type": "code",
   "execution_count": 3,
   "id": "7e3f1af1-4b5c-4fcb-95cc-4a9ddbcabe2d",
   "metadata": {
    "tags": []
   },
   "outputs": [
    {
     "name": "stdout",
     "output_type": "stream",
     "text": [
      "[0, 1, 4, 9, 16, 25, 36, 49, 64, 81, 100, 121, 144, 169, 196, 225, 256, 289, 324, 361, 400, 441, 484, 529, 576, 625, 676, 729, 784, 841]\n"
     ]
    }
   ],
   "source": [
    "print(squares)"
   ]
  },
  {
   "cell_type": "markdown",
   "id": "82059971-820a-4c45-ae80-3395d64ab626",
   "metadata": {},
   "source": [
    "`liste_ergebnisse` soll 4 Listen als Elemente haben die jeweils ein Liste aller Zahlen enthält die durch 3, 4, 5 oder 6 teilbar sind."
   ]
  },
  {
   "cell_type": "markdown",
   "id": "c42cfb90-6c5c-4934-9dbd-4976707d5bc3",
   "metadata": {
    "tags": []
   },
   "source": [
    "liste_ergebnisse = [[9,36, 81...], [16,64,144...]] "
   ]
  },
  {
   "cell_type": "code",
   "execution_count": 4,
   "id": "a9e2c74e-f689-4fca-a50e-87eb28c730b8",
   "metadata": {
    "tags": []
   },
   "outputs": [],
   "source": [
    "liste_ergebnisse = []\n",
    "\n",
    "# Mustererkennung slice einer liste ist wieder eine liste, und step kann für unsere Zwecke gut eingesetzt werden\n",
    "squares3 = squares[::3] # mit slice und step kann ich eine der listen erstellen\n",
    "squares4 = squares[::4] # die nächste liste geht genauso nur step ist +1\n",
    "squares5 = squares[::5]\n",
    "squares6 = squares[::6]"
   ]
  },
  {
   "cell_type": "code",
   "execution_count": 5,
   "id": "29facd49-632a-4ee4-aacb-dba566b82015",
   "metadata": {
    "tags": []
   },
   "outputs": [
    {
     "data": {
      "text/plain": [
       "[0, 25, 100, 225, 400, 625]"
      ]
     },
     "execution_count": 5,
     "metadata": {},
     "output_type": "execute_result"
    }
   ],
   "source": [
    "squares5"
   ]
  },
  {
   "cell_type": "code",
   "execution_count": 31,
   "id": "561feee6-f700-4d6a-aebe-47e69de8e088",
   "metadata": {
    "tags": []
   },
   "outputs": [],
   "source": [
    "liste_ergebnisse = []\n",
    "\n",
    "for i in range(3,7):\n",
    "        liste_ergebnisse.append(squares[::i]) \n"
   ]
  },
  {
   "cell_type": "code",
   "execution_count": 33,
   "id": "766fee41-2c11-4cf7-b3a1-7ec66de48df9",
   "metadata": {
    "tags": []
   },
   "outputs": [
    {
     "data": {
      "text/plain": [
       "[[0, 9, 36, 81, 144, 225, 324, 441, 576, 729],\n",
       " [0, 16, 64, 144, 256, 400, 576, 784],\n",
       " [0, 25, 100, 225, 400, 625],\n",
       " [0, 36, 144, 324, 576]]"
      ]
     },
     "execution_count": 33,
     "metadata": {},
     "output_type": "execute_result"
    }
   ],
   "source": [
    "liste_ergebnisse"
   ]
  },
  {
   "cell_type": "code",
   "execution_count": null,
   "id": "1fce864d-2962-402c-8cb5-ee8d44e04f9e",
   "metadata": {},
   "outputs": [],
   "source": []
  }
 ],
 "metadata": {
  "kernelspec": {
   "display_name": "Python 3 (ipykernel)",
   "language": "python",
   "name": "python3"
  },
  "language_info": {
   "codemirror_mode": {
    "name": "ipython",
    "version": 3
   },
   "file_extension": ".py",
   "mimetype": "text/x-python",
   "name": "python",
   "nbconvert_exporter": "python",
   "pygments_lexer": "ipython3",
   "version": "3.12.6"
  }
 },
 "nbformat": 4,
 "nbformat_minor": 5
}
