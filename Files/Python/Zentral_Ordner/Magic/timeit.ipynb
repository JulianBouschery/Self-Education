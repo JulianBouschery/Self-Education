{
 "cells": [
  {
   "cell_type": "markdown",
   "id": "d4f3307b-6bce-456e-aed0-85511c166236",
   "metadata": {},
   "source": [
    "# %timeit"
   ]
  },
  {
   "cell_type": "markdown",
   "id": "7e7ae1f6-d818-4f81-8a5a-5aca404d6ce2",
   "metadata": {},
   "source": [
    "`timeit` ist ein Modul in Python, das dazu dient, die Ausführungszeit von Code-Snippets präzise zu messen. Es führt die Messungen durch, indem es das zu messende Code-Stück mehrfach ausführt und die Durchschnittszeit berechnet. Dadurch werden zufällige Schwankungen in der Messung minimiert, sodass die Ergebnisse genauer sind."
   ]
  },
  {
   "cell_type": "markdown",
   "id": "a88ed02e-fe6d-442c-aea4-80e2db9b7682",
   "metadata": {},
   "source": [
    "Es gibt zwei Hauptmethoden zur Verwendung:"
   ]
  },
  {
   "cell_type": "markdown",
   "id": "51a280c2-ee8d-4ccc-bdf0-f827001466c3",
   "metadata": {},
   "source": [
    "### **In Python-Skripten:**"
   ]
  },
  {
   "cell_type": "code",
   "execution_count": 6,
   "id": "ee331873-54c9-4c2b-a163-0e44277061f1",
   "metadata": {},
   "outputs": [
    {
     "name": "stdout",
     "output_type": "stream",
     "text": [
      "0.000440400093793869\n"
     ]
    }
   ],
   "source": [
    "import timeit\n",
    "total_time = timeit.timeit(\"sum(range(100))\", number=1000)\n",
    "print(total_time)"
   ]
  },
  {
   "cell_type": "markdown",
   "id": "77f674b5-a401-42df-baff-f257783f7262",
   "metadata": {},
   "source": [
    "Hier misst `timeit.timeit` die Zeit für die Ausführung von `sum(range(100))` 1000 Mal und gibt die Gesamtzeit in Sekunden zurück (NICHT den Durchschnitt!)."
   ]
  },
  {
   "cell_type": "markdown",
   "id": "7bd6ac27-148e-4623-a550-2a58b344c636",
   "metadata": {},
   "source": [
    "Möchte man die Durchschnittliche Zeit der berechnung haben muss man diese selbst berechnen."
   ]
  },
  {
   "cell_type": "code",
   "execution_count": 7,
   "id": "539963b0-1aff-4702-896a-2ad85938663a",
   "metadata": {},
   "outputs": [
    {
     "name": "stdout",
     "output_type": "stream",
     "text": [
      "Durchschnittszeit pro Durchlauf: 4.40400093793869e-07\n"
     ]
    }
   ],
   "source": [
    "# Durchschnittszeit pro Durchlauf\n",
    "average_time = total_time / 1000\n",
    "print(\"Durchschnittszeit pro Durchlauf:\", average_time)"
   ]
  },
  {
   "cell_type": "markdown",
   "id": "ff8827b8-d798-4def-b0ca-41ff095f72e6",
   "metadata": {},
   "source": [
    "### **In Jupyter-Notebooks:** mithilfe der `%timeit` Line Magic:"
   ]
  },
  {
   "cell_type": "markdown",
   "id": "b1ee9f2c-ebc7-4e37-864f-24f6a982231a",
   "metadata": {},
   "source": [
    "Einfacher geht das in **Jupyter Notebook / Lab** mit der entsprechenden Magic."
   ]
  },
  {
   "cell_type": "code",
   "execution_count": 3,
   "id": "1592e78f-711a-4f54-b1f3-0a7202b1dcdb",
   "metadata": {},
   "outputs": [
    {
     "name": "stdout",
     "output_type": "stream",
     "text": [
      "422 ns ± 1.9 ns per loop (mean ± std. dev. of 7 runs, 1,000,000 loops each)\n"
     ]
    }
   ],
   "source": [
    "%timeit sum(range(100))"
   ]
  },
  {
   "cell_type": "markdown",
   "id": "71e137f7-aea5-4df3-b8fa-26e981bfd954",
   "metadata": {},
   "source": [
    "`%timeit` wiederholt automatisch die Messungen und gibt das schnellste Ergebnis an. Alternativ kann `%%timeit` verwendet werden, um die gesamte Zelle zu messen."
   ]
  },
  {
   "cell_type": "markdown",
   "id": "4be5e6be-747b-4ce4-a4de-213c191d5951",
   "metadata": {},
   "source": [
    "Diese Funktion eignet sich hervorragend, um die Performance unterschiedlicher Ansätze zu vergleichen, insbesondere wenn es darum geht, kleine Optimierungen im Code vorzunehmen."
   ]
  },
  {
   "cell_type": "code",
   "execution_count": null,
   "id": "ddf5d330-60c5-454c-b42d-ead11e54aeb8",
   "metadata": {},
   "outputs": [],
   "source": []
  }
 ],
 "metadata": {
  "kernelspec": {
   "display_name": "Python 3 (ipykernel)",
   "language": "python",
   "name": "python3"
  },
  "language_info": {
   "codemirror_mode": {
    "name": "ipython",
    "version": 3
   },
   "file_extension": ".py",
   "mimetype": "text/x-python",
   "name": "python",
   "nbconvert_exporter": "python",
   "pygments_lexer": "ipython3",
   "version": "3.12.6"
  }
 },
 "nbformat": 4,
 "nbformat_minor": 5
}
