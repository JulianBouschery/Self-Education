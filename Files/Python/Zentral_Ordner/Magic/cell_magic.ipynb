{
 "cells": [
  {
   "cell_type": "markdown",
   "id": "c5b43c6f-a77f-49f7-b6e9-5e620f85b75d",
   "metadata": {},
   "source": [
    "# Cell Magic"
   ]
  },
  {
   "cell_type": "markdown",
   "id": "6b00bbff-82e1-4770-b0ae-cfe1e5a1c416",
   "metadata": {},
   "source": [
    "Siehe auch: [Line Magic](line_magic.ipynb)"
   ]
  },
  {
   "cell_type": "markdown",
   "id": "cb00bfef-79c5-4dd5-b3cd-8ba600822f3b",
   "metadata": {},
   "source": [
    "In Jupyter Lab sind \"Cell Magics\" spezielle Befehle, die mit `%%` beginnen und eine gesamte Zelle beeinflussen. Diese Befehle werden in einer Zelle ausgeführt, um erweiterte Funktionen und nützliche Kurzbefehle direkt in der Notebook-Umgebung zu ermöglichen. \n",
    "\n",
    "Beispiele für Cell Magics sind:\n",
    "\n",
    "- `%%time`: misst die Ausführungszeit der gesamten Zelle.\n",
    "- `%%writefile filename.py`: speichert den Inhalt der Zelle als Python-Datei.\n",
    "- `%%capture`: unterdrückt die Ausgabe der Zelle und speichert sie.\n",
    "\n",
    "Diese Magics bieten eine schnelle Möglichkeit, häufige Aufgaben direkt aus Jupyter heraus zu erledigen, ohne zusätzliche externe Tools verwenden zu müssen. \n",
    "\n",
    "Weitere Magics können durch `%%`- oder `%`-Kommandos aufgerufen und angepasst werden, wobei `%` ein \"Line Magic\" ist, der nur eine Zeile betrifft."
   ]
  },
  {
   "cell_type": "code",
   "execution_count": null,
   "id": "73edf427-65a5-49d3-af90-f2f5936c237b",
   "metadata": {},
   "outputs": [],
   "source": []
  }
 ],
 "metadata": {
  "kernelspec": {
   "display_name": "Python 3 (ipykernel)",
   "language": "python",
   "name": "python3"
  },
  "language_info": {
   "codemirror_mode": {
    "name": "ipython",
    "version": 3
   },
   "file_extension": ".py",
   "mimetype": "text/x-python",
   "name": "python",
   "nbconvert_exporter": "python",
   "pygments_lexer": "ipython3",
   "version": "3.12.6"
  }
 },
 "nbformat": 4,
 "nbformat_minor": 5
}
