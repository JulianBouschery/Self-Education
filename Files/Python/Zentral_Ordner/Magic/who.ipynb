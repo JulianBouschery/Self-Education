{
 "cells": [
  {
   "cell_type": "markdown",
   "id": "73600114-192d-4b71-8b7d-baa57be11584",
   "metadata": {},
   "source": [
    "# %who"
   ]
  },
  {
   "cell_type": "markdown",
   "id": "dc800b61-d1f0-4732-a4d2-a4e6b7849956",
   "metadata": {},
   "source": [
    "In Jupyter Notebooks / Lab zeigt der Magic-Befehl `%who` eine Übersicht aller momentan definierten Variablen, Funktionen und Objekte in der aktuellen Umgebung an. Es listet also alles auf, was bisher erstellt oder importiert wurde, ähnlich einem Verzeichnis der Arbeitsumgebung.\n",
    "\n",
    "Es gibt verschiedene Varianten von `%who`:\n",
    "\n",
    "- `%who` zeigt alle gespeicherten Variablen und Objekte.\n",
    "- `%who function` zeigt nur Funktionen an.\n",
    "- `%who str` zeigt nur `str`-Objekte (also Strings) an.\n",
    " "
   ]
  },
  {
   "cell_type": "markdown",
   "id": "ce054bbc-fd0a-4bef-8c60-e9b6e6a4ef86",
   "metadata": {},
   "source": [
    "Beispiel:"
   ]
  },
  {
   "cell_type": "code",
   "execution_count": 1,
   "id": "c3ecab68-f4bd-48e2-8099-d677c5b2becc",
   "metadata": {},
   "outputs": [
    {
     "name": "stdout",
     "output_type": "stream",
     "text": [
      "Interactive namespace is empty.\n"
     ]
    }
   ],
   "source": [
    "%who"
   ]
  },
  {
   "cell_type": "code",
   "execution_count": 2,
   "id": "03fc4144-eafe-4f56-b4f1-d0d49308c92f",
   "metadata": {},
   "outputs": [],
   "source": [
    "x = 1 "
   ]
  },
  {
   "cell_type": "code",
   "execution_count": 3,
   "id": "50181281-40d9-4d07-b86b-f99f87418ca3",
   "metadata": {},
   "outputs": [
    {
     "name": "stdout",
     "output_type": "stream",
     "text": [
      "x\t \n"
     ]
    }
   ],
   "source": [
    "%who"
   ]
  },
  {
   "cell_type": "code",
   "execution_count": 4,
   "id": "bf81e0b4-38a6-423a-a5d1-3b3575d6378f",
   "metadata": {},
   "outputs": [
    {
     "name": "stdout",
     "output_type": "stream",
     "text": [
      "No variables match your requested type.\n",
      "a\t x\t \n",
      "greet\t \n"
     ]
    }
   ],
   "source": [
    "a = 5\n",
    "b = \"Hello\"\n",
    "def greet():\n",
    "    return \"Hi!\"\n",
    "\n",
    "%who               # Gibt a, b, greet aus\n",
    "%who int           # Gibt nur a aus (weil a ein int ist)\n",
    "%who function      # Gibt nur greet aus"
   ]
  },
  {
   "cell_type": "markdown",
   "id": "188072ff-02e8-401a-ac4a-de557e4e5615",
   "metadata": {},
   "source": [
    "Das ist nützlich, um den Überblick über alle verfügbaren Elemente in einem Jupyter Notebook zu behalten."
   ]
  },
  {
   "cell_type": "code",
   "execution_count": null,
   "id": "cf41940a-4eec-4f1a-aa1c-e60bbc6b2fd5",
   "metadata": {},
   "outputs": [],
   "source": []
  }
 ],
 "metadata": {
  "kernelspec": {
   "display_name": "Python 3 (ipykernel)",
   "language": "python",
   "name": "python3"
  },
  "language_info": {
   "codemirror_mode": {
    "name": "ipython",
    "version": 3
   },
   "file_extension": ".py",
   "mimetype": "text/x-python",
   "name": "python",
   "nbconvert_exporter": "python",
   "pygments_lexer": "ipython3",
   "version": "3.12.6"
  }
 },
 "nbformat": 4,
 "nbformat_minor": 5
}
