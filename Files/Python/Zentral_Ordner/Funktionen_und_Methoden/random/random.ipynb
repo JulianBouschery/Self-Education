{
 "cells": [
  {
   "cell_type": "markdown",
   "id": "a1b39d45-19e9-464d-9812-a36e637ecd6b",
   "metadata": {},
   "source": [
    "[Zurück zum Inhaltsverzeichnis](_Inhaltsverzeichnis_.ipynb)"
   ]
  },
  {
   "cell_type": "markdown",
   "id": "652ea351-9ad3-444c-b9a6-c341e2212cac",
   "metadata": {},
   "source": [
    "random hat Funktionen, keine methoden.\n",
    "random.choice(...)\n",
    "gehe in das MODUL random und calle die FUNKTION choice(m)"
   ]
  },
  {
   "cell_type": "markdown",
   "id": "12c86f25-6838-4d0b-9da1-0941be331d86",
   "metadata": {},
   "source": [
    "# random, seed, choice und sample Funktion"
   ]
  },
  {
   "cell_type": "markdown",
   "id": "913dd4b0-2cdc-4773-91ac-159d5423ec30",
   "metadata": {},
   "source": [
    "## random und seed"
   ]
  },
  {
   "cell_type": "markdown",
   "id": "a92d5b44-9fc6-4652-82bc-efe4887e13cf",
   "metadata": {},
   "source": [
    "[random und seed](random_seed.ipynb)"
   ]
  },
  {
   "cell_type": "markdown",
   "id": "9d4a009b-f524-4f7b-a352-75b54af81766",
   "metadata": {},
   "source": [
    "## randint"
   ]
  },
  {
   "cell_type": "markdown",
   "id": "f6668ca3-6a7c-4816-a546-664ee4b5bfbd",
   "metadata": {},
   "source": [
    "[randint](randint.ipynb)"
   ]
  },
  {
   "cell_type": "markdown",
   "id": "bb067a51-34ef-4bb7-9bc2-b08bcfc49e4b",
   "metadata": {},
   "source": [
    "[randrange](randrange.ipynb)"
   ]
  },
  {
   "cell_type": "code",
   "execution_count": 2,
   "id": "29ec46bc-4b8d-4f2a-a43e-15b42490a25b",
   "metadata": {},
   "outputs": [
    {
     "name": "stdout",
     "output_type": "stream",
     "text": [
      "1 73 56 0\n"
     ]
    }
   ],
   "source": [
    "import random\n",
    "\n",
    "print(random.randrange(10), end=' ')\n",
    "print(random.randrange(0, 100), end=' ') \n",
    "print(random.randrange(0, 100, 2), end=' ') # Kann mit Step nur entsprechende Zahlen produzieren 0,2,4,6...\n",
    "print(random.randint(0, 1))\n"
   ]
  },
  {
   "cell_type": "markdown",
   "id": "178577b2-0dd2-4faf-b2ae-14400dc3fd94",
   "metadata": {},
   "source": [
    "## choice und sample"
   ]
  },
  {
   "cell_type": "markdown",
   "id": "be58e8c1-4a46-4b18-8971-d46a739093e4",
   "metadata": {},
   "source": [
    "[choice und sample](choice.ipynb)"
   ]
  }
 ],
 "metadata": {
  "kernelspec": {
   "display_name": "Python 3 (ipykernel)",
   "language": "python",
   "name": "python3"
  },
  "language_info": {
   "codemirror_mode": {
    "name": "ipython",
    "version": 3
   },
   "file_extension": ".py",
   "mimetype": "text/x-python",
   "name": "python",
   "nbconvert_exporter": "python",
   "pygments_lexer": "ipython3",
   "version": "3.12.6"
  }
 },
 "nbformat": 4,
 "nbformat_minor": 5
}
