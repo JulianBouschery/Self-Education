{
 "cells": [
  {
   "cell_type": "markdown",
   "id": "a1b39d45-19e9-464d-9812-a36e637ecd6b",
   "metadata": {},
   "source": [
    "[Zurück zum Inhaltsverzeichnis](_Inhaltsverzeichnis_.ipynb)"
   ]
  },
  {
   "cell_type": "markdown",
   "id": "736e28a6-4669-4a41-8654-58670be22706",
   "metadata": {},
   "source": [
    "[Zurück zu random](random.ipynb)"
   ]
  },
  {
   "cell_type": "markdown",
   "id": "12c86f25-6838-4d0b-9da1-0941be331d86",
   "metadata": {},
   "source": [
    "# choice und sample Methode"
   ]
  },
  {
   "cell_type": "markdown",
   "id": "7f9deb68-bd7f-4bec-b9b4-d282c4a56ae8",
   "metadata": {
    "jp-MarkdownHeadingCollapsed": true
   },
   "source": [
    "## Überblick choice"
   ]
  },
  {
   "cell_type": "markdown",
   "id": "b4337793-4baa-4000-9a7e-e2961904c9bc",
   "metadata": {},
   "source": [
    "\n",
    "Name der Funktion: choice\n",
    "\n",
    "Instanz der Klasse: random\n",
    "\n",
    "Syntax:\n",
    "\n",
    "`random` `.` `choice` `(` `Sequenz` `)` \n",
    "\n",
    "```python\n",
    "Parameter: \n",
    "random.choice(seq)   \n",
    "```\n",
    "Funktion: \n",
    "\n",
    "Die choice Methode wird verwendet, um ein Element zufällig aus einer nicht-leeren Sequenz (Liste, Tupel, String) auszuwählen und als result wieder zugeben.\n",
    "\n",
    "Default return: \n",
    "\n",
    "Der return behält den selben Datentyp, wie das Element in der Sequenz über die choice unter der Haube iteriert.\n",
    "\n",
    "Error: TypeError\n"
   ]
  },
  {
   "cell_type": "code",
   "execution_count": 3,
   "id": "e313e3f0-91cc-45d8-99ca-dee2a01539ce",
   "metadata": {},
   "outputs": [],
   "source": [
    "import random"
   ]
  },
  {
   "cell_type": "markdown",
   "id": "cfa0eecb-3227-4e54-b81f-a858642fb33f",
   "metadata": {},
   "source": [
    "#### Instanz"
   ]
  },
  {
   "cell_type": "markdown",
   "id": "ef3828c5-5e05-4d68-a932-486b7e9c69da",
   "metadata": {},
   "source": [
    "?"
   ]
  },
  {
   "cell_type": "markdown",
   "id": "691113fe-f213-4c90-99f0-7238a97853bb",
   "metadata": {},
   "source": [
    "#### Parameter"
   ]
  },
  {
   "cell_type": "code",
   "execution_count": 34,
   "id": "2eb9ea24-dc04-4960-8c00-c55ab864be6e",
   "metadata": {},
   "outputs": [
    {
     "data": {
      "text/plain": [
       "\u001b[1;31mSignature:\u001b[0m \u001b[0mrandom\u001b[0m\u001b[1;33m.\u001b[0m\u001b[0mchoice\u001b[0m\u001b[1;33m(\u001b[0m\u001b[0mseq\u001b[0m\u001b[1;33m)\u001b[0m\u001b[1;33m\u001b[0m\u001b[1;33m\u001b[0m\u001b[0m\n",
       "\u001b[1;31mDocstring:\u001b[0m Choose a random element from a non-empty sequence.\n",
       "\u001b[1;31mFile:\u001b[0m      c:\\program files\\windowsapps\\pythonsoftwarefoundation.python.3.12_3.12.1008.0_x64__qbz5n2kfra8p0\\lib\\random.py\n",
       "\u001b[1;31mType:\u001b[0m      method"
      ]
     },
     "metadata": {},
     "output_type": "display_data"
    }
   ],
   "source": [
    "random.choice?"
   ]
  },
  {
   "cell_type": "markdown",
   "id": "2ef73574-0d54-416d-88e1-4a65faa34abb",
   "metadata": {},
   "source": [
    "#### return"
   ]
  },
  {
   "cell_type": "markdown",
   "id": "26f1af8e-5619-4cee-b120-531206ebf8fc",
   "metadata": {},
   "source": [
    "Der return und der Type des returnvalue hängt vom ausgewählten Objekt ab, da es seinen Datentyp behält."
   ]
  },
  {
   "cell_type": "code",
   "execution_count": 23,
   "id": "37373aab-6366-4670-98fb-beaa73d9e004",
   "metadata": {},
   "outputs": [
    {
     "name": "stdout",
     "output_type": "stream",
     "text": [
      "4\n",
      "<class 'str'>\n"
     ]
    }
   ],
   "source": [
    "# Auswahl aus einer Liste von Zahlen\n",
    "numbers = [1, 2, 3, \"4\", \"5\"]\n",
    "a = (random.choice(numbers))\n",
    "print(a)\n",
    "print(type(a)) # Ausgabe: Ein zufälliges Element aus der Liste"
   ]
  },
  {
   "cell_type": "code",
   "execution_count": 32,
   "id": "01681307-a9ce-47d3-8b62-2e33e0425c93",
   "metadata": {},
   "outputs": [
    {
     "name": "stdout",
     "output_type": "stream",
     "text": [
      "Object `numbers.choice` not found.\n"
     ]
    }
   ],
   "source": [
    "numbers.choice?"
   ]
  },
  {
   "cell_type": "code",
   "execution_count": 28,
   "id": "94eda0b7-92c4-4866-b284-afa75085c543",
   "metadata": {},
   "outputs": [
    {
     "name": "stdout",
     "output_type": "stream",
     "text": [
      "4\n",
      "<class 'str'>\n"
     ]
    }
   ],
   "source": [
    "numbers = [1, 2, 3, \"4\", \"5\"]\n",
    "a = (random.choice(numbers))\n",
    "print(a)\n",
    "print(type(a))"
   ]
  },
  {
   "cell_type": "markdown",
   "id": "fba3378b-74ad-4ca5-a3bd-bdb11b5aae81",
   "metadata": {},
   "source": [
    "Funktioniert auch mit Tupeln"
   ]
  },
  {
   "cell_type": "code",
   "execution_count": 29,
   "id": "0db9e4b7-3acb-4399-83e6-f088fdf48839",
   "metadata": {},
   "outputs": [
    {
     "name": "stdout",
     "output_type": "stream",
     "text": [
      "1\n",
      "<class 'int'>\n"
     ]
    }
   ],
   "source": [
    "numbers = (1, 2, 3, \"4\", \"5\")\n",
    "a = (random.choice(numbers))\n",
    "print(a)\n",
    "print(type(a)) "
   ]
  },
  {
   "cell_type": "markdown",
   "id": "cb4f5b72-f660-4f49-a14b-ad7ddefcec29",
   "metadata": {},
   "source": [
    "### Error:"
   ]
  },
  {
   "cell_type": "code",
   "execution_count": 40,
   "id": "420c1a88-51cd-4baf-804a-fc282f8a8f8b",
   "metadata": {
    "scrolled": true
   },
   "outputs": [
    {
     "ename": "TypeError",
     "evalue": "object of type 'int' has no len()",
     "output_type": "error",
     "traceback": [
      "\u001b[1;31m---------------------------------------------------------------------------\u001b[0m",
      "\u001b[1;31mTypeError\u001b[0m                                 Traceback (most recent call last)",
      "Cell \u001b[1;32mIn[40], line 1\u001b[0m\n\u001b[1;32m----> 1\u001b[0m a \u001b[38;5;241m=\u001b[39m (\u001b[43mrandom\u001b[49m\u001b[38;5;241;43m.\u001b[39;49m\u001b[43mchoice\u001b[49m\u001b[43m(\u001b[49m\u001b[38;5;241;43m1\u001b[39;49m\u001b[43m)\u001b[49m)\n",
      "File \u001b[1;32mC:\\Program Files\\WindowsApps\\PythonSoftwareFoundation.Python.3.12_3.12.1008.0_x64__qbz5n2kfra8p0\\Lib\\random.py:346\u001b[0m, in \u001b[0;36mRandom.choice\u001b[1;34m(self, seq)\u001b[0m\n\u001b[0;32m    342\u001b[0m \u001b[38;5;250m\u001b[39m\u001b[38;5;124;03m\"\"\"Choose a random element from a non-empty sequence.\"\"\"\u001b[39;00m\n\u001b[0;32m    344\u001b[0m \u001b[38;5;66;03m# As an accommodation for NumPy, we don't use \"if not seq\"\u001b[39;00m\n\u001b[0;32m    345\u001b[0m \u001b[38;5;66;03m# because bool(numpy.array()) raises a ValueError.\u001b[39;00m\n\u001b[1;32m--> 346\u001b[0m \u001b[38;5;28;01mif\u001b[39;00m \u001b[38;5;129;01mnot\u001b[39;00m \u001b[38;5;28;43mlen\u001b[39;49m\u001b[43m(\u001b[49m\u001b[43mseq\u001b[49m\u001b[43m)\u001b[49m:\n\u001b[0;32m    347\u001b[0m     \u001b[38;5;28;01mraise\u001b[39;00m \u001b[38;5;167;01mIndexError\u001b[39;00m(\u001b[38;5;124m'\u001b[39m\u001b[38;5;124mCannot choose from an empty sequence\u001b[39m\u001b[38;5;124m'\u001b[39m)\n\u001b[0;32m    348\u001b[0m \u001b[38;5;28;01mreturn\u001b[39;00m seq[\u001b[38;5;28mself\u001b[39m\u001b[38;5;241m.\u001b[39m_randbelow(\u001b[38;5;28mlen\u001b[39m(seq))]\n",
      "\u001b[1;31mTypeError\u001b[0m: object of type 'int' has no len()"
     ]
    }
   ],
   "source": [
    "a = (random.choice(1))"
   ]
  },
  {
   "cell_type": "markdown",
   "id": "d29688f7-2e45-4240-8ab8-f67941e0496d",
   "metadata": {},
   "source": [
    "PS: \n",
    "\n",
    "Es ist interessant, dass man durch den Fehler direkt in das Modul random blicken kann, wo der Fehler beim Aufruf der Methode entstanden ist."
   ]
  },
  {
   "cell_type": "markdown",
   "id": "afb03612-7f32-46f6-aa32-45c0279bafc7",
   "metadata": {
    "jp-MarkdownHeadingCollapsed": true
   },
   "source": [
    "## Überblick sample"
   ]
  },
  {
   "cell_type": "markdown",
   "id": "0a65949f-0ba7-45e0-a2ea-b53c9d33dfeb",
   "metadata": {},
   "source": [
    "\n",
    "Name der Funktion: sample\n",
    "\n",
    "Instanz der Klasse: random\n",
    "\n",
    "Syntax:\n",
    "\n",
    "`random` `.` `sample` `(` `Sequenz` `)` \n",
    "\n",
    "```python\n",
    "Parameter: \n",
    "random.sample(population, k, *, counts=None)   \n",
    "```\n",
    "Funktion: \n",
    "\n",
    "Die choice und die sample Methode werden verwendet, um ein Element, bzw. mehrere Elemente zufällig aus einer nicht-leeren Sequenz (Liste, Tupel, String) auszuwählen und als result wieder zugeben.\n",
    "\n",
    "Default return: \n",
    "\n",
    "Der return behält den selben Datentyp, wie das Element in der Sequenz über die sample unter der Haube iteriert.\n",
    "\n",
    "Error: TypeError, ValueError\n"
   ]
  },
  {
   "cell_type": "code",
   "execution_count": 3,
   "id": "94942edb-102a-4595-8b37-9627e3a02872",
   "metadata": {},
   "outputs": [],
   "source": [
    "import random"
   ]
  },
  {
   "cell_type": "markdown",
   "id": "ed19b188-749e-4c40-99cc-edf86aae158d",
   "metadata": {},
   "source": [
    "#### Instanz"
   ]
  },
  {
   "cell_type": "markdown",
   "id": "d295e809-a834-431f-ab34-24b50811a5dd",
   "metadata": {},
   "source": [
    "?"
   ]
  },
  {
   "cell_type": "markdown",
   "id": "117c00bb-d0f6-40d4-a08a-918be16408a0",
   "metadata": {},
   "source": [
    "#### Parameter"
   ]
  },
  {
   "cell_type": "code",
   "execution_count": 41,
   "id": "4c054c68-965b-46ac-a781-b731c6e45fe6",
   "metadata": {},
   "outputs": [
    {
     "data": {
      "text/plain": [
       "\u001b[1;31mSignature:\u001b[0m \u001b[0mrandom\u001b[0m\u001b[1;33m.\u001b[0m\u001b[0msample\u001b[0m\u001b[1;33m(\u001b[0m\u001b[0mpopulation\u001b[0m\u001b[1;33m,\u001b[0m \u001b[0mk\u001b[0m\u001b[1;33m,\u001b[0m \u001b[1;33m*\u001b[0m\u001b[1;33m,\u001b[0m \u001b[0mcounts\u001b[0m\u001b[1;33m=\u001b[0m\u001b[1;32mNone\u001b[0m\u001b[1;33m)\u001b[0m\u001b[1;33m\u001b[0m\u001b[1;33m\u001b[0m\u001b[0m\n",
       "\u001b[1;31mDocstring:\u001b[0m\n",
       "Chooses k unique random elements from a population sequence.\n",
       "\n",
       "Returns a new list containing elements from the population while\n",
       "leaving the original population unchanged.  The resulting list is\n",
       "in selection order so that all sub-slices will also be valid random\n",
       "samples.  This allows raffle winners (the sample) to be partitioned\n",
       "into grand prize and second place winners (the subslices).\n",
       "\n",
       "Members of the population need not be hashable or unique.  If the\n",
       "population contains repeats, then each occurrence is a possible\n",
       "selection in the sample.\n",
       "\n",
       "Repeated elements can be specified one at a time or with the optional\n",
       "counts parameter.  For example:\n",
       "\n",
       "    sample(['red', 'blue'], counts=[4, 2], k=5)\n",
       "\n",
       "is equivalent to:\n",
       "\n",
       "    sample(['red', 'red', 'red', 'red', 'blue', 'blue'], k=5)\n",
       "\n",
       "To choose a sample from a range of integers, use range() for the\n",
       "population argument.  This is especially fast and space efficient\n",
       "for sampling from a large population:\n",
       "\n",
       "    sample(range(10000000), 60)\n",
       "\u001b[1;31mFile:\u001b[0m      c:\\program files\\windowsapps\\pythonsoftwarefoundation.python.3.12_3.12.1008.0_x64__qbz5n2kfra8p0\\lib\\random.py\n",
       "\u001b[1;31mType:\u001b[0m      method"
      ]
     },
     "metadata": {},
     "output_type": "display_data"
    }
   ],
   "source": [
    "random.sample?"
   ]
  },
  {
   "cell_type": "markdown",
   "id": "78835d95-1651-4c13-a4c8-862fd8dcbdfe",
   "metadata": {},
   "source": [
    "#### return"
   ]
  },
  {
   "cell_type": "markdown",
   "id": "332fb8fd-f849-4434-93f1-60b840f36ac7",
   "metadata": {},
   "source": [
    "Der return und der Type des returnvalue hängt vom ausgewählten Objekt ab, da es seinen Datentyp behält."
   ]
  },
  {
   "cell_type": "code",
   "execution_count": 51,
   "id": "6d23a2fa-79dc-44d9-9c57-e9313f0f91c7",
   "metadata": {},
   "outputs": [
    {
     "name": "stdout",
     "output_type": "stream",
     "text": [
      "['5', 3, '4', 1, 2]\n",
      "<class 'list'>\n"
     ]
    }
   ],
   "source": [
    "# Auswahl aus einer Liste von Zahlen\n",
    "numbers = [1, 2, 3, \"4\", \"5\"]\n",
    "a = (random.sample(numbers,5))\n",
    "print(a)\n",
    "print(type(a))"
   ]
  },
  {
   "cell_type": "code",
   "execution_count": 56,
   "id": "9c012681-085e-4b47-b654-08e1a91312d2",
   "metadata": {},
   "outputs": [
    {
     "name": "stdout",
     "output_type": "stream",
     "text": [
      "[3]\n"
     ]
    }
   ],
   "source": [
    "numbers = [1, 2, 3, \"4\", \"5\"]\n",
    "a = (random.sample(numbers,1))\n",
    "print(a)"
   ]
  },
  {
   "cell_type": "markdown",
   "id": "8acc868d-f0ad-4307-af19-d5b7e1e320bf",
   "metadata": {},
   "source": [
    "Funktioniert auch mit Tupeln"
   ]
  },
  {
   "cell_type": "code",
   "execution_count": 57,
   "id": "f907b2c2-aef7-4c9b-9b07-e16f08c559d6",
   "metadata": {},
   "outputs": [
    {
     "name": "stdout",
     "output_type": "stream",
     "text": [
      "['5', 3, 1, '4']\n"
     ]
    }
   ],
   "source": [
    "numbers = (1, 2, 3, \"4\", \"5\")\n",
    "a = (random.sample(numbers,4))\n",
    "print(a)"
   ]
  },
  {
   "cell_type": "markdown",
   "id": "2d603212-a8a3-49f2-85a0-186b7e30c86c",
   "metadata": {},
   "source": [
    "### Error:"
   ]
  },
  {
   "cell_type": "code",
   "execution_count": 60,
   "id": "1b4388a3-e39a-4f1e-8a99-eda98bf5b3e8",
   "metadata": {},
   "outputs": [
    {
     "ename": "TypeError",
     "evalue": "Population must be a sequence.  For dicts or sets, use sorted(d).",
     "output_type": "error",
     "traceback": [
      "\u001b[1;31m---------------------------------------------------------------------------\u001b[0m",
      "\u001b[1;31mTypeError\u001b[0m                                 Traceback (most recent call last)",
      "Cell \u001b[1;32mIn[60], line 2\u001b[0m\n\u001b[0;32m      1\u001b[0m numbers \u001b[38;5;241m=\u001b[39m \u001b[38;5;241m1\u001b[39m\n\u001b[1;32m----> 2\u001b[0m a \u001b[38;5;241m=\u001b[39m (\u001b[43mrandom\u001b[49m\u001b[38;5;241;43m.\u001b[39;49m\u001b[43msample\u001b[49m\u001b[43m(\u001b[49m\u001b[43mnumbers\u001b[49m\u001b[43m,\u001b[49m\u001b[38;5;241;43m10\u001b[39;49m\u001b[43m)\u001b[49m)\n\u001b[0;32m      3\u001b[0m \u001b[38;5;28mprint\u001b[39m(a)\n",
      "File \u001b[1;32mC:\\Program Files\\WindowsApps\\PythonSoftwareFoundation.Python.3.12_3.12.1008.0_x64__qbz5n2kfra8p0\\Lib\\random.py:413\u001b[0m, in \u001b[0;36mRandom.sample\u001b[1;34m(self, population, k, counts)\u001b[0m\n\u001b[0;32m    389\u001b[0m \u001b[38;5;66;03m# Sampling without replacement entails tracking either potential\u001b[39;00m\n\u001b[0;32m    390\u001b[0m \u001b[38;5;66;03m# selections (the pool) in a list or previous selections in a set.\u001b[39;00m\n\u001b[0;32m    391\u001b[0m \n\u001b[1;32m   (...)\u001b[0m\n\u001b[0;32m    409\u001b[0m \u001b[38;5;66;03m# too many calls to _randbelow(), making them slower and\u001b[39;00m\n\u001b[0;32m    410\u001b[0m \u001b[38;5;66;03m# causing them to eat more entropy than necessary.\u001b[39;00m\n\u001b[0;32m    412\u001b[0m \u001b[38;5;28;01mif\u001b[39;00m \u001b[38;5;129;01mnot\u001b[39;00m \u001b[38;5;28misinstance\u001b[39m(population, _Sequence):\n\u001b[1;32m--> 413\u001b[0m     \u001b[38;5;28;01mraise\u001b[39;00m \u001b[38;5;167;01mTypeError\u001b[39;00m(\u001b[38;5;124m\"\u001b[39m\u001b[38;5;124mPopulation must be a sequence.  \u001b[39m\u001b[38;5;124m\"\u001b[39m\n\u001b[0;32m    414\u001b[0m                     \u001b[38;5;124m\"\u001b[39m\u001b[38;5;124mFor dicts or sets, use sorted(d).\u001b[39m\u001b[38;5;124m\"\u001b[39m)\n\u001b[0;32m    415\u001b[0m n \u001b[38;5;241m=\u001b[39m \u001b[38;5;28mlen\u001b[39m(population)\n\u001b[0;32m    416\u001b[0m \u001b[38;5;28;01mif\u001b[39;00m counts \u001b[38;5;129;01mis\u001b[39;00m \u001b[38;5;129;01mnot\u001b[39;00m \u001b[38;5;28;01mNone\u001b[39;00m:\n",
      "\u001b[1;31mTypeError\u001b[0m: Population must be a sequence.  For dicts or sets, use sorted(d)."
     ]
    }
   ],
   "source": [
    "numbers = 1\n",
    "a = (random.sample(numbers,10))\n",
    "print(a)"
   ]
  },
  {
   "cell_type": "code",
   "execution_count": 58,
   "id": "93d31e4f-8955-4198-82de-c37a165aa433",
   "metadata": {},
   "outputs": [
    {
     "ename": "ValueError",
     "evalue": "Sample larger than population or is negative",
     "output_type": "error",
     "traceback": [
      "\u001b[1;31m---------------------------------------------------------------------------\u001b[0m",
      "\u001b[1;31mValueError\u001b[0m                                Traceback (most recent call last)",
      "Cell \u001b[1;32mIn[58], line 2\u001b[0m\n\u001b[0;32m      1\u001b[0m numbers \u001b[38;5;241m=\u001b[39m [\u001b[38;5;241m1\u001b[39m, \u001b[38;5;241m2\u001b[39m, \u001b[38;5;241m3\u001b[39m, \u001b[38;5;124m\"\u001b[39m\u001b[38;5;124m4\u001b[39m\u001b[38;5;124m\"\u001b[39m, \u001b[38;5;124m\"\u001b[39m\u001b[38;5;124m5\u001b[39m\u001b[38;5;124m\"\u001b[39m]\n\u001b[1;32m----> 2\u001b[0m a \u001b[38;5;241m=\u001b[39m (\u001b[43mrandom\u001b[49m\u001b[38;5;241;43m.\u001b[39;49m\u001b[43msample\u001b[49m\u001b[43m(\u001b[49m\u001b[43mnumbers\u001b[49m\u001b[43m,\u001b[49m\u001b[38;5;241;43m10\u001b[39;49m\u001b[43m)\u001b[49m)\n\u001b[0;32m      3\u001b[0m \u001b[38;5;28mprint\u001b[39m(a)\n",
      "File \u001b[1;32mC:\\Program Files\\WindowsApps\\PythonSoftwareFoundation.Python.3.12_3.12.1008.0_x64__qbz5n2kfra8p0\\Lib\\random.py:430\u001b[0m, in \u001b[0;36mRandom.sample\u001b[1;34m(self, population, k, counts)\u001b[0m\n\u001b[0;32m    428\u001b[0m randbelow \u001b[38;5;241m=\u001b[39m \u001b[38;5;28mself\u001b[39m\u001b[38;5;241m.\u001b[39m_randbelow\n\u001b[0;32m    429\u001b[0m \u001b[38;5;28;01mif\u001b[39;00m \u001b[38;5;129;01mnot\u001b[39;00m \u001b[38;5;241m0\u001b[39m \u001b[38;5;241m<\u001b[39m\u001b[38;5;241m=\u001b[39m k \u001b[38;5;241m<\u001b[39m\u001b[38;5;241m=\u001b[39m n:\n\u001b[1;32m--> 430\u001b[0m     \u001b[38;5;28;01mraise\u001b[39;00m \u001b[38;5;167;01mValueError\u001b[39;00m(\u001b[38;5;124m\"\u001b[39m\u001b[38;5;124mSample larger than population or is negative\u001b[39m\u001b[38;5;124m\"\u001b[39m)\n\u001b[0;32m    431\u001b[0m result \u001b[38;5;241m=\u001b[39m [\u001b[38;5;28;01mNone\u001b[39;00m] \u001b[38;5;241m*\u001b[39m k\n\u001b[0;32m    432\u001b[0m setsize \u001b[38;5;241m=\u001b[39m \u001b[38;5;241m21\u001b[39m        \u001b[38;5;66;03m# size of a small set minus size of an empty list\u001b[39;00m\n",
      "\u001b[1;31mValueError\u001b[0m: Sample larger than population or is negative"
     ]
    }
   ],
   "source": [
    "numbers = [1, 2, 3, \"4\", \"5\"]\n",
    "a = (random.sample(numbers,10))\n",
    "print(a)"
   ]
  },
  {
   "cell_type": "code",
   "execution_count": null,
   "id": "9dd009df-094a-438a-bca7-5e849ced7e84",
   "metadata": {},
   "outputs": [],
   "source": []
  },
  {
   "cell_type": "markdown",
   "id": "9cdb5698-e445-4a9e-b4ea-11402a6aad79",
   "metadata": {
    "jp-MarkdownHeadingCollapsed": true
   },
   "source": [
    "## Detailierte Erklärung"
   ]
  },
  {
   "cell_type": "markdown",
   "id": "2a2ba1a4-997f-4a9a-9319-9df75f5c4dc5",
   "metadata": {},
   "source": [
    "Die choice und die sample Methode werden verwendet, um ein Element, bzw. mehrere Elemente zufällig aus einer nicht-leeren Sequenz (Liste, Tupel, String) auszuwählen und als result wieder zugeben."
   ]
  },
  {
   "cell_type": "code",
   "execution_count": 1,
   "id": "00b195ce-75b5-4daa-afee-92e6c981a90c",
   "metadata": {},
   "outputs": [
    {
     "name": "stdout",
     "output_type": "stream",
     "text": [
      "1\n"
     ]
    }
   ],
   "source": [
    "import random\n",
    "\n",
    "# Auswahl aus einer Liste von Zahlen\n",
    "numbers = [1, 2, 3, 4, 5]\n",
    "print(random.choice(numbers))  # Ausgabe: Ein zufälliges Element aus der Liste"
   ]
  },
  {
   "cell_type": "code",
   "execution_count": 27,
   "id": "2708ab1b-d7bd-43fb-be24-76e6df2699e8",
   "metadata": {},
   "outputs": [
    {
     "name": "stdout",
     "output_type": "stream",
     "text": [
      "2\n",
      "4\n",
      "4\n",
      "3\n",
      "1\n"
     ]
    }
   ],
   "source": [
    "numbers = [1, 2, 3, 4, 5]\n",
    "\n",
    "for i in range(5):\n",
    "    print(random.choice(numbers))"
   ]
  },
  {
   "cell_type": "markdown",
   "id": "bf20e192-163d-4a93-a3f7-d2ac4e49b7cf",
   "metadata": {},
   "source": [
    "Vergleich von choice und sample"
   ]
  },
  {
   "cell_type": "code",
   "execution_count": 28,
   "id": "c2a9ed13-af61-451e-abe9-5e4ad6163b0a",
   "metadata": {},
   "outputs": [
    {
     "name": "stdout",
     "output_type": "stream",
     "text": [
      "8\n",
      "[6, 4, 9, 7, 5]\n",
      "[10, 4, 5, 8, 9, 6, 7, 3, 1, 2]\n"
     ]
    }
   ],
   "source": [
    "my_list = [1, 2, 3, 4, 5, 6, 7, 8, 9, 10]\n",
    "\n",
    "print(random.choice(my_list))\n",
    "print(random.sample(my_list, 5))\n",
    "print(random.sample(my_list, 10))"
   ]
  },
  {
   "cell_type": "code",
   "execution_count": 29,
   "id": "755ab9c6-1eef-4c5b-b596-bd592d26d824",
   "metadata": {},
   "outputs": [],
   "source": [
    "strange_list = [\"a\", \"b\", \"c\", \"d\", \"e\", \"f\", \"g\", \"h\", \"i\", \"j\", \"p\",\"p\",\"p\",\"p\",\"Warum p!?\", \"Ich will kein p!\"]"
   ]
  },
  {
   "cell_type": "code",
   "execution_count": 30,
   "id": "eaef84bb-d327-44f9-a3d7-614fdd0e4a14",
   "metadata": {},
   "outputs": [
    {
     "name": "stdout",
     "output_type": "stream",
     "text": [
      "['a', 'p', 'p', 'j', 'f', 'e', 'd', 'p', 'Warum p!?', 'Ich will kein p!']\n"
     ]
    }
   ],
   "source": [
    "print(random.sample(strange_list, 10))"
   ]
  },
  {
   "cell_type": "code",
   "execution_count": 44,
   "id": "0c962465-a4ca-48d6-8c70-01809224f2b2",
   "metadata": {},
   "outputs": [
    {
     "name": "stdout",
     "output_type": "stream",
     "text": [
      "Ich will kein p!\n"
     ]
    }
   ],
   "source": [
    "print(random.choice(strange_list))"
   ]
  },
  {
   "cell_type": "markdown",
   "id": "ee0f9cf4-0181-4295-b8b2-87ca2a52e122",
   "metadata": {},
   "source": [
    "Der entscheidende Unterschied zwischen `choice()` und `sample()` ist, dass choice nur EINEN EINZIGEN Wert auswählt und Sample eine LISTE mit x Werten erstellt, **ohne dass ein Element mehr als einmal ausgewählt wird**."
   ]
  },
  {
   "cell_type": "markdown",
   "id": "fcbe5d8b-affa-4305-a36e-e120941020d3",
   "metadata": {},
   "source": [
    "Das bedeutet, wenn man eine Liste mit 10 Werten anlegt und über die sample Methode 10 Werte ausgibt, steigt die Wahrscheinlichkeit einen bestimmten Wert zu treffen mit jedem ausgegeben Wert an, bis nur noch dieser eine Wert übrig bleibt und die Wahrscheinlichkeit 100% erreicht."
   ]
  },
  {
   "cell_type": "code",
   "execution_count": null,
   "id": "4da91cec-ceb2-43c9-90a0-ab65034990cb",
   "metadata": {},
   "outputs": [],
   "source": []
  }
 ],
 "metadata": {
  "kernelspec": {
   "display_name": "Python 3 (ipykernel)",
   "language": "python",
   "name": "python3"
  },
  "language_info": {
   "codemirror_mode": {
    "name": "ipython",
    "version": 3
   },
   "file_extension": ".py",
   "mimetype": "text/x-python",
   "name": "python",
   "nbconvert_exporter": "python",
   "pygments_lexer": "ipython3",
   "version": "3.12.6"
  }
 },
 "nbformat": 4,
 "nbformat_minor": 5
}
