{
 "cells": [
  {
   "cell_type": "markdown",
   "id": "a09e47df-f6a7-4471-9425-a63bc427fac5",
   "metadata": {},
   "source": [
    "[Zurück zum Inhaltsverzeichnis](_Inhaltsverzeichnis_.ipynb)"
   ]
  },
  {
   "cell_type": "markdown",
   "id": "280c16cc-3eac-4e57-bd55-c5d44d7585a6",
   "metadata": {},
   "source": [
    "[Zurück zu random](random.ipynb)"
   ]
  },
  {
   "cell_type": "markdown",
   "id": "ff163def-f7e5-48d2-bfd8-6db7f1a22786",
   "metadata": {},
   "source": [
    "# randrange"
   ]
  },
  {
   "cell_type": "markdown",
   "id": "ed2003d3-28e4-46a9-90d7-65a3d599d904",
   "metadata": {},
   "source": [
    "## Überblick"
   ]
  },
  {
   "cell_type": "markdown",
   "id": "f31d3261-a1fa-43b7-bcfb-0bcd2f0db1af",
   "metadata": {},
   "source": [
    "\n",
    "Name der Funktion: randrange\n",
    "\n",
    "Instanz der Klasse: random\n",
    "\n",
    "Syntax:\n",
    "\n",
    "`random.randrange` `(` `start` `,` `stop` `,` `step` `)`\n",
    "\n",
    "```python\n",
    "Parameter: \n",
    "random.randrange(start, stop[, step])    \n",
    "```\n",
    "Funktion: \n",
    "\n",
    "Die randrange ist einer Metode des Moduls random und wird verwendet, um eine zufällige Zahl aus einem bestimmten Bereich zu erzeugen. Sie ist sehr flexibel und bietet mehrere Optionen zur Steuerung des Bereichs und der Schrittweite.\n",
    "\n",
    "\n",
    "Default return: \n",
    "```python\n",
    "int\n",
    "```\n",
    "Error: TypeError\n"
   ]
  },
  {
   "cell_type": "code",
   "execution_count": 2,
   "id": "2b1091fc-7055-4b84-9a7b-8e3bc27c7dda",
   "metadata": {},
   "outputs": [],
   "source": [
    "import random"
   ]
  },
  {
   "cell_type": "markdown",
   "id": "3ba5396d-87d9-466a-8a6a-fb24d089a569",
   "metadata": {},
   "source": [
    "#### Instanz"
   ]
  },
  {
   "cell_type": "code",
   "execution_count": 6,
   "id": "ac568b15-9bf4-49be-b9ed-046bcd8bb1a5",
   "metadata": {},
   "outputs": [
    {
     "name": "stdout",
     "output_type": "stream",
     "text": [
      "<class 'int'>\n"
     ]
    }
   ],
   "source": [
    "print(type((random.randrange(1, 100, 2) )))"
   ]
  },
  {
   "cell_type": "code",
   "execution_count": 5,
   "id": "87c20454-7103-46f3-816a-005538ec3a3f",
   "metadata": {},
   "outputs": [
    {
     "data": {
      "text/plain": [
       "71"
      ]
     },
     "execution_count": 5,
     "metadata": {},
     "output_type": "execute_result"
    }
   ],
   "source": [
    "random.randrange(1, 100, 2) "
   ]
  },
  {
   "cell_type": "markdown",
   "id": "f8aff486-218a-42f9-8579-64c69ac43cc5",
   "metadata": {},
   "source": [
    "#### Parameter"
   ]
  },
  {
   "cell_type": "code",
   "execution_count": 14,
   "id": "a7f7aaee-4503-47f8-afe6-aa3047ac6ca6",
   "metadata": {},
   "outputs": [
    {
     "ename": "SyntaxError",
     "evalue": "invalid syntax (1455298740.py, line 1)",
     "output_type": "error",
     "traceback": [
      "\u001b[1;36m  Cell \u001b[1;32mIn[14], line 1\u001b[1;36m\u001b[0m\n\u001b[1;33m    random.randrange()?\u001b[0m\n\u001b[1;37m                      ^\u001b[0m\n\u001b[1;31mSyntaxError\u001b[0m\u001b[1;31m:\u001b[0m invalid syntax\n"
     ]
    }
   ],
   "source": [
    "random.randrange()? "
   ]
  },
  {
   "cell_type": "markdown",
   "id": "daf106d7-2703-4ba7-ac30-33dd90d4a7d6",
   "metadata": {},
   "source": [
    "#### return"
   ]
  },
  {
   "cell_type": "code",
   "execution_count": 18,
   "id": "0e2de6f1-0c34-4cb5-8523-75bdd9b369f0",
   "metadata": {},
   "outputs": [
    {
     "name": "stdout",
     "output_type": "stream",
     "text": [
      "<class 'int'>\n"
     ]
    }
   ],
   "source": [
    "print(type(random.randrange(1, 100, 2))) "
   ]
  },
  {
   "cell_type": "code",
   "execution_count": 19,
   "id": "0e202051-f253-447b-bb5e-f4ecddebaaa7",
   "metadata": {},
   "outputs": [
    {
     "data": {
      "text/plain": [
       "33"
      ]
     },
     "execution_count": 19,
     "metadata": {},
     "output_type": "execute_result"
    }
   ],
   "source": [
    "random.randrange(1, 100, 2)"
   ]
  },
  {
   "cell_type": "markdown",
   "id": "2b5b4a04-02fc-49e4-a0c9-7a63b341a8d5",
   "metadata": {},
   "source": [
    "### Error:"
   ]
  },
  {
   "cell_type": "code",
   "execution_count": 7,
   "id": "939192a9-0f79-4b5a-948e-e3fc97252d79",
   "metadata": {},
   "outputs": [
    {
     "ename": "TypeError",
     "evalue": "Random.randrange() missing 1 required positional argument: 'start'",
     "output_type": "error",
     "traceback": [
      "\u001b[1;31m---------------------------------------------------------------------------\u001b[0m",
      "\u001b[1;31mTypeError\u001b[0m                                 Traceback (most recent call last)",
      "Cell \u001b[1;32mIn[7], line 2\u001b[0m\n\u001b[0;32m      1\u001b[0m \u001b[38;5;66;03m# Default return: Ohne Argument => leeres dict\u001b[39;00m\n\u001b[1;32m----> 2\u001b[0m \u001b[43mrandom\u001b[49m\u001b[38;5;241;43m.\u001b[39;49m\u001b[43mrandrange\u001b[49m\u001b[43m(\u001b[49m\u001b[43m)\u001b[49m \n",
      "\u001b[1;31mTypeError\u001b[0m: Random.randrange() missing 1 required positional argument: 'start'"
     ]
    }
   ],
   "source": [
    "# Default return: Ohne Argument => TypeError\n",
    "random.randrange() "
   ]
  },
  {
   "cell_type": "code",
   "execution_count": null,
   "id": "23e5f445-3de5-4b2b-8226-7c21109b9bae",
   "metadata": {},
   "outputs": [],
   "source": []
  },
  {
   "cell_type": "markdown",
   "id": "08c5d362-fbad-40f5-9766-964b063bb533",
   "metadata": {},
   "source": [
    "## Detailierte Erklärung"
   ]
  },
  {
   "cell_type": "code",
   "execution_count": null,
   "id": "ad79111a-7227-4926-a104-86074230dea1",
   "metadata": {},
   "outputs": [],
   "source": []
  }
 ],
 "metadata": {
  "kernelspec": {
   "display_name": "Python 3 (ipykernel)",
   "language": "python",
   "name": "python3"
  },
  "language_info": {
   "codemirror_mode": {
    "name": "ipython",
    "version": 3
   },
   "file_extension": ".py",
   "mimetype": "text/x-python",
   "name": "python",
   "nbconvert_exporter": "python",
   "pygments_lexer": "ipython3",
   "version": "3.12.6"
  }
 },
 "nbformat": 4,
 "nbformat_minor": 5
}
