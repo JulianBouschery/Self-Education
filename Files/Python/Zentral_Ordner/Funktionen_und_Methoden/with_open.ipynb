{
 "cells": [
  {
   "cell_type": "markdown",
   "id": "f39661a8-66aa-4bb6-9f40-b6ed192b2cac",
   "metadata": {},
   "source": [
    "# with open"
   ]
  },
  {
   "cell_type": "code",
   "execution_count": null,
   "id": "cf3525d1-c6b4-4239-bfee-7266537ac0bf",
   "metadata": {},
   "outputs": [],
   "source": []
  }
 ],
 "metadata": {
  "kernelspec": {
   "display_name": "Python 3 (ipykernel)",
   "language": "python",
   "name": "python3"
  },
  "language_info": {
   "codemirror_mode": {
    "name": "ipython",
    "version": 3
   },
   "file_extension": ".py",
   "mimetype": "text/x-python",
   "name": "python",
   "nbconvert_exporter": "python",
   "pygments_lexer": "ipython3",
   "version": "3.12.6"
  }
 },
 "nbformat": 4,
 "nbformat_minor": 5
}
