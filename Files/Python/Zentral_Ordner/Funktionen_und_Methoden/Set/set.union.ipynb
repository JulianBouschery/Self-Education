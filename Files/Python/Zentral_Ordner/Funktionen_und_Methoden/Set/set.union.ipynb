{
 "cells": [
  {
   "cell_type": "markdown",
   "id": "642896fb-993b-4e46-9c34-e0d20496d7bf",
   "metadata": {},
   "source": [
    "# set.union()"
   ]
  },
  {
   "cell_type": "markdown",
   "id": "e44038f5-3ea3-44a0-a5c8-7d8ac1915f69",
   "metadata": {},
   "source": [
    "Die Methode `set.union()` in Python wird verwendet, um die **Vereinigung** zweier oder mehrerer Mengen zu erstellen. Eine Vereinigung kombiniert alle **einzigartigen** Elemente aus den beteiligten Mengen. Das bedeutet, dass doppelte Elemente entfernt werden, da eine Menge in Python keine Duplikate enthält."
   ]
  },
  {
   "cell_type": "markdown",
   "id": "93ab4c15-6a4c-4a7c-84d9-1ac3b5491f84",
   "metadata": {},
   "source": [
    "### Syntax:"
   ]
  },
  {
   "cell_type": "markdown",
   "id": "9c22912b-da8b-4a98-9c98-e1b6861281eb",
   "metadata": {},
   "source": [
    "```python\n",
    "set1.union(set2, set3, ...)\n",
    "```\n",
    "\n",
    "- `set1`, `set2`, `set3`, ...: Die Mengen, die vereinigt werden sollen.\n",
    "- Die Methode gibt eine neue Menge zurück, die alle Elemente aus den angegebenen Mengen enthält."
   ]
  },
  {
   "cell_type": "markdown",
   "id": "4c54e5db-3de7-407d-ba05-e1e46f35de0c",
   "metadata": {},
   "source": [
    "### Beispiel:"
   ]
  },
  {
   "cell_type": "code",
   "execution_count": 2,
   "id": "5c9d83fd-2b14-4b5e-88ee-a3820daf8ccc",
   "metadata": {},
   "outputs": [
    {
     "name": "stdout",
     "output_type": "stream",
     "text": [
      "{1, 2, 3, 4, 5, 6}\n"
     ]
    }
   ],
   "source": [
    "# Zwei Mengen definieren\n",
    "set_a = {1, 2, 3, 4}\n",
    "set_b = {3, 4, 5, 6}\n",
    "\n",
    "# Vereinigung der beiden Mengen\n",
    "result = set_a.union(set_b)\n",
    "\n",
    "print(result)"
   ]
  },
  {
   "cell_type": "markdown",
   "id": "f0ad710b-e0a6-4400-9a2c-60bcec376e39",
   "metadata": {},
   "source": [
    "In diesem Beispiel enthält die resultierende Menge alle Elemente aus `set_a` und `set_b`, aber ohne Duplikate (die `3` und `4` sind nur einmal vorhanden)."
   ]
  },
  {
   "cell_type": "code",
   "execution_count": 1,
   "id": "eb33d9d3-2d3d-4985-bd9b-0fc2addea79b",
   "metadata": {},
   "outputs": [
    {
     "data": {
      "text/plain": [
       "{1, 2, 3}"
      ]
     },
     "execution_count": 1,
     "metadata": {},
     "output_type": "execute_result"
    }
   ],
   "source": [
    "set_1 = {1,1,1,1,1,2,2,2}\n",
    "set_2 = {1,1,1,3}\n",
    "set_1.union(set_2)"
   ]
  }
 ],
 "metadata": {
  "kernelspec": {
   "display_name": "Python 3 (ipykernel)",
   "language": "python",
   "name": "python3"
  },
  "language_info": {
   "codemirror_mode": {
    "name": "ipython",
    "version": 3
   },
   "file_extension": ".py",
   "mimetype": "text/x-python",
   "name": "python",
   "nbconvert_exporter": "python",
   "pygments_lexer": "ipython3",
   "version": "3.12.6"
  }
 },
 "nbformat": 4,
 "nbformat_minor": 5
}
