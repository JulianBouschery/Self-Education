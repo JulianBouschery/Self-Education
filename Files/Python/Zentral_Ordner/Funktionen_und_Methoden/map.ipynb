{
 "cells": [
  {
   "cell_type": "markdown",
   "id": "926be021-978a-4031-84f4-da087bea2aa1",
   "metadata": {},
   "source": [
    "# map()"
   ]
  },
  {
   "cell_type": "markdown",
   "id": "12a5bd3a-acb4-45f7-a09b-fb58de4bd9eb",
   "metadata": {},
   "source": [
    "Die `map()`-Funktion in Python wendet eine Funktion auf alle Elemente eines iterierbaren Objekts wie einer Liste oder einem Tupel an und gibt das Ergebnis als neues `map`-Objekt zurück. Diese Funktion ist nützlich, um dieselbe Operation auf alle Elemente einer Liste anzuwenden, ohne eine explizite Schleife zu schreiben."
   ]
  },
  {
   "cell_type": "markdown",
   "id": "5a238a2e-ba39-4174-b4af-4c45277395e8",
   "metadata": {},
   "source": [
    "### Syntax"
   ]
  },
  {
   "cell_type": "markdown",
   "id": "6551a9dd-4b51-428b-b9c1-27fa52e3cd56",
   "metadata": {},
   "source": [
    "```python\n",
    "map(funktion, iterable)\n",
    "```\n",
    "- **funktion**: Die Funktion, die auf jedes Element im Iterable angewendet wird.\n",
    "- **iterable**: Ein iterierbares Objekt (z. B. eine Liste), dessen Elemente verändert werden sollen."
   ]
  },
  {
   "cell_type": "markdown",
   "id": "b8803c86-08ad-4a9f-9ce1-cab55b804815",
   "metadata": {},
   "source": [
    "### Beispiel"
   ]
  },
  {
   "cell_type": "markdown",
   "id": "7430d37e-ae97-48e7-acc7-eeaf40048bc7",
   "metadata": {},
   "source": [
    "Hier ein Beispiel, das eine Liste mit Zahlen verdoppelt:"
   ]
  },
  {
   "cell_type": "code",
   "execution_count": 3,
   "id": "9a48e72b-c830-4071-9a14-cef0e99717bd",
   "metadata": {},
   "outputs": [
    {
     "name": "stdout",
     "output_type": "stream",
     "text": [
      "[2, 4, 6, 8, 10]\n"
     ]
    }
   ],
   "source": [
    "# Definiere eine Funktion, die eine Zahl verdoppelt\n",
    "def verdoppeln(x):\n",
    "    return x * 2\n",
    "\n",
    "# Liste von Zahlen\n",
    "zahlen = [1, 2, 3, 4, 5]\n",
    "\n",
    "# map() anwenden und das Ergebnis in eine Liste umwandeln\n",
    "verdoppelte_zahlen = list(map(verdoppeln, zahlen))\n",
    "print(verdoppelte_zahlen)  # Ausgabe: [2, 4, 6, 8, 10]"
   ]
  },
  {
   "cell_type": "markdown",
   "id": "aa06055a-e3e0-4c00-91b8-a1fceb36e12a",
   "metadata": {},
   "source": [
    "### Lambda-Funktion mit `map()`"
   ]
  },
  {
   "cell_type": "markdown",
   "id": "f3c528f2-ce92-4ba4-9bb0-d3936edd79da",
   "metadata": {},
   "source": [
    "Man kann auch eine Lambda-Funktion (anonyme Funktion) verwenden, um den Code kürzer zu schreiben:"
   ]
  },
  {
   "cell_type": "code",
   "execution_count": 4,
   "id": "4abdf09b-16cd-443c-8899-de98c5b1e6ed",
   "metadata": {},
   "outputs": [
    {
     "name": "stdout",
     "output_type": "stream",
     "text": [
      "[2, 4, 6, 8, 10]\n"
     ]
    }
   ],
   "source": [
    "zahlen = [1, 2, 3, 4, 5]\n",
    "verdoppelte_zahlen = list(map(lambda x: x * 2, zahlen))\n",
    "print(verdoppelte_zahlen)  # Ausgabe: [2, 4, 6, 8, 10]"
   ]
  },
  {
   "cell_type": "markdown",
   "id": "177288b6-adbc-4666-97ec-b63d83c91cf5",
   "metadata": {},
   "source": [
    "### Mehrere Iterables in `map()`"
   ]
  },
  {
   "cell_type": "markdown",
   "id": "03751fa1-9490-4044-8543-d291e5e02a41",
   "metadata": {},
   "source": [
    "Mit `map()` kann man auch mehrere Iterables verarbeiten, indem man die Funktion so definiert, dass sie mehrere Argumente erwartet:"
   ]
  },
  {
   "cell_type": "code",
   "execution_count": 5,
   "id": "705604d4-6093-4997-8232-8672374fe57a",
   "metadata": {},
   "outputs": [
    {
     "name": "stdout",
     "output_type": "stream",
     "text": [
      "[5, 7, 9]\n"
     ]
    }
   ],
   "source": [
    "# Zwei Listen von Zahlen\n",
    "a = [1, 2, 3]\n",
    "b = [4, 5, 6]\n",
    "\n",
    "# Addiere Elemente der beiden Listen paarweise\n",
    "ergebnisse = list(map(lambda x, y: x + y, a, b))\n",
    "print(ergebnisse)  # Ausgabe: [5, 7, 9]"
   ]
  },
  {
   "cell_type": "markdown",
   "id": "08d26bc2-d619-4f85-a72f-bab0998de87e",
   "metadata": {},
   "source": [
    "`map()` eignet sich besonders gut, wenn du eine kurze, einmalige Operation auf eine ganze Sammlung anwenden möchtest."
   ]
  },
  {
   "cell_type": "code",
   "execution_count": null,
   "id": "74297ed5-d953-4d52-bc6c-e4d52ef3bc75",
   "metadata": {},
   "outputs": [],
   "source": []
  }
 ],
 "metadata": {
  "kernelspec": {
   "display_name": "Python 3 (ipykernel)",
   "language": "python",
   "name": "python3"
  },
  "language_info": {
   "codemirror_mode": {
    "name": "ipython",
    "version": 3
   },
   "file_extension": ".py",
   "mimetype": "text/x-python",
   "name": "python",
   "nbconvert_exporter": "python",
   "pygments_lexer": "ipython3",
   "version": "3.12.6"
  }
 },
 "nbformat": 4,
 "nbformat_minor": 5
}
