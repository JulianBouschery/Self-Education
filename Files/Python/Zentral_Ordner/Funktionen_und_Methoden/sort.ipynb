{
 "cells": [
  {
   "cell_type": "markdown",
   "id": "5e994cf8-4c0b-4237-95df-e412f5a93aa6",
   "metadata": {},
   "source": [
    "[Zurück zum Inhaltsverzeichnis](_Inhaltsverzeichnis_.ipynb)"
   ]
  },
  {
   "cell_type": "markdown",
   "id": "881492fb-6612-4e9b-a920-d3e5b17a1187",
   "metadata": {},
   "source": [
    "# list.sort()"
   ]
  },
  {
   "cell_type": "markdown",
   "id": "3acc5026-53b8-46a5-a82e-ccad4173dd0e",
   "metadata": {},
   "source": [
    "Für DataFrames siehe auch: [df.sort_values()](../../../Data_Analyses/Zentral_Ordner/Funktionen_und_Methoden/df.sort_values.ipynb)"
   ]
  },
  {
   "cell_type": "markdown",
   "id": "9e273a08-62b4-439e-a719-032a9067872d",
   "metadata": {},
   "source": [
    "## Überblick"
   ]
  },
  {
   "cell_type": "markdown",
   "id": "256461c7-a7bd-4e6b-9e24-c14440c4aedd",
   "metadata": {},
   "source": [
    "\n",
    "Name der Methode: sort \n",
    "\n",
    "Instanz der Klasse: NoneType ?\n",
    "\n",
    "Syntax:\n",
    "\n",
    "`Liste` `.` `sort` `()` \n",
    "\n",
    "```python\n",
    "Parameter: \n",
    "list.sort(self, /, *, key=None, reverse=False)    \n",
    "```\n",
    "Funktion: \n",
    "\n",
    "Die sort()-Methode wird verwendet, um die Elemente einer Liste in-place zu sortieren, das heißt, die Liste wird direkt verändert und keine neue Liste wird zurückgegeben. Diese Methode ist sehr effizient und flexibel, da sie zusätzliche Parameter für benutzerdefinierte Sortierungen bietet.\n",
    "\n",
    "Default return: \n",
    "```python\n",
    "geänderte Liste\n",
    "```\n",
    "Error: AttributeError\n"
   ]
  },
  {
   "cell_type": "markdown",
   "id": "4837a3ca-dcb6-4d38-a101-12575762ff69",
   "metadata": {},
   "source": [
    "#### Instanz"
   ]
  },
  {
   "cell_type": "code",
   "execution_count": 11,
   "id": "eee6b020-0510-4475-8c92-c6c21ac27db1",
   "metadata": {},
   "outputs": [
    {
     "name": "stdout",
     "output_type": "stream",
     "text": [
      "<class 'NoneType'>\n"
     ]
    }
   ],
   "source": [
    "print(type(list.sort([\"a\",\"c\",\"b\"])))"
   ]
  },
  {
   "cell_type": "markdown",
   "id": "4f85e560-8f1d-4554-8f5d-8b09ff514a6e",
   "metadata": {},
   "source": [
    "#### Parameter"
   ]
  },
  {
   "cell_type": "code",
   "execution_count": 8,
   "id": "0c1fcfdb-7bbb-45c8-b772-5b322485af7c",
   "metadata": {},
   "outputs": [
    {
     "data": {
      "text/plain": [
       "\u001b[1;31mSignature:\u001b[0m \u001b[0mlist\u001b[0m\u001b[1;33m.\u001b[0m\u001b[0msort\u001b[0m\u001b[1;33m(\u001b[0m\u001b[0mself\u001b[0m\u001b[1;33m,\u001b[0m \u001b[1;33m/\u001b[0m\u001b[1;33m,\u001b[0m \u001b[1;33m*\u001b[0m\u001b[1;33m,\u001b[0m \u001b[0mkey\u001b[0m\u001b[1;33m=\u001b[0m\u001b[1;32mNone\u001b[0m\u001b[1;33m,\u001b[0m \u001b[0mreverse\u001b[0m\u001b[1;33m=\u001b[0m\u001b[1;32mFalse\u001b[0m\u001b[1;33m)\u001b[0m\u001b[1;33m\u001b[0m\u001b[1;33m\u001b[0m\u001b[0m\n",
       "\u001b[1;31mDocstring:\u001b[0m\n",
       "Sort the list in ascending order and return None.\n",
       "\n",
       "The sort is in-place (i.e. the list itself is modified) and stable (i.e. the\n",
       "order of two equal elements is maintained).\n",
       "\n",
       "If a key function is given, apply it once to each list item and sort them,\n",
       "ascending or descending, according to their function values.\n",
       "\n",
       "The reverse flag can be set to sort in descending order.\n",
       "\u001b[1;31mType:\u001b[0m      method_descriptor"
      ]
     },
     "metadata": {},
     "output_type": "display_data"
    }
   ],
   "source": [
    "list.sort?"
   ]
  },
  {
   "cell_type": "markdown",
   "id": "700523ed-7f9d-4fd7-978c-517638d7010a",
   "metadata": {},
   "source": [
    "#### return"
   ]
  },
  {
   "cell_type": "code",
   "execution_count": 23,
   "id": "68100e52-dc72-4d17-88cf-0a311d86c119",
   "metadata": {},
   "outputs": [
    {
     "data": {
      "text/plain": [
       "[]"
      ]
     },
     "execution_count": 23,
     "metadata": {},
     "output_type": "execute_result"
    }
   ],
   "source": [
    "# Default return: Ohne Argument => leere Liste\n",
    "liste = []\n",
    "liste.sort()\n",
    "liste"
   ]
  },
  {
   "cell_type": "code",
   "execution_count": 21,
   "id": "7e0945d0-f94d-4936-8c55-41d066b1a668",
   "metadata": {},
   "outputs": [
    {
     "data": {
      "text/plain": [
       "['a', 'b', 'c']"
      ]
     },
     "execution_count": 21,
     "metadata": {},
     "output_type": "execute_result"
    }
   ],
   "source": [
    "# return: Mit Argumenten --> geändertes list-Objekt\n",
    "liste = [\"a\",\"c\",\"b\"]\n",
    "liste.sort()\n",
    "liste"
   ]
  },
  {
   "cell_type": "code",
   "execution_count": 22,
   "id": "dfce6783-4155-4cf7-b25b-64d351386203",
   "metadata": {},
   "outputs": [
    {
     "data": {
      "text/plain": [
       "{'key1': 'value1', 'key2': 'value2'}"
      ]
     },
     "execution_count": 22,
     "metadata": {},
     "output_type": "execute_result"
    }
   ],
   "source": [
    "# return: Mit Argumenten --> befülltes Dictionary\n",
    "dict2 = dict([(\"key1\",\"value1\"),(\"key2\",\"value2\")])\n",
    "dict2"
   ]
  },
  {
   "cell_type": "markdown",
   "id": "7e07e7ba-05c4-464f-9473-29c474bba932",
   "metadata": {},
   "source": [
    "### Error:"
   ]
  },
  {
   "cell_type": "code",
   "execution_count": 2,
   "id": "a68bb294-fa95-4079-9edf-91043d24cc66",
   "metadata": {
    "tags": []
   },
   "outputs": [
    {
     "ename": "AttributeError",
     "evalue": "'str' object has no attribute 'sort'",
     "output_type": "error",
     "traceback": [
      "\u001b[1;31m---------------------------------------------------------------------------\u001b[0m",
      "\u001b[1;31mAttributeError\u001b[0m                            Traceback (most recent call last)",
      "Cell \u001b[1;32mIn[2], line 1\u001b[0m\n\u001b[1;32m----> 1\u001b[0m \u001b[38;5;124;43m\"\u001b[39;49m\u001b[38;5;124;43mHallo\u001b[39;49m\u001b[38;5;124;43m\"\u001b[39;49m\u001b[38;5;241;43m.\u001b[39;49m\u001b[43msort\u001b[49m()\n",
      "\u001b[1;31mAttributeError\u001b[0m: 'str' object has no attribute 'sort'"
     ]
    }
   ],
   "source": [
    "\"Hallo\".sort()"
   ]
  },
  {
   "cell_type": "code",
   "execution_count": 18,
   "id": "5c2eb244-9b9d-4276-bc53-2f75fe49f127",
   "metadata": {},
   "outputs": [
    {
     "ename": "AttributeError",
     "evalue": "'tuple' object has no attribute 'sort'",
     "output_type": "error",
     "traceback": [
      "\u001b[1;31m---------------------------------------------------------------------------\u001b[0m",
      "\u001b[1;31mAttributeError\u001b[0m                            Traceback (most recent call last)",
      "Cell \u001b[1;32mIn[18], line 2\u001b[0m\n\u001b[0;32m      1\u001b[0m tuple1 \u001b[38;5;241m=\u001b[39m \u001b[38;5;124m\"\u001b[39m\u001b[38;5;124ma\u001b[39m\u001b[38;5;124m\"\u001b[39m,\u001b[38;5;124m\"\u001b[39m\u001b[38;5;124mc\u001b[39m\u001b[38;5;124m\"\u001b[39m,\u001b[38;5;124m\"\u001b[39m\u001b[38;5;124mb\u001b[39m\u001b[38;5;124m\"\u001b[39m\n\u001b[1;32m----> 2\u001b[0m \u001b[43mtuple1\u001b[49m\u001b[38;5;241;43m.\u001b[39;49m\u001b[43msort\u001b[49m()\n\u001b[0;32m      3\u001b[0m tuple1\n",
      "\u001b[1;31mAttributeError\u001b[0m: 'tuple' object has no attribute 'sort'"
     ]
    }
   ],
   "source": [
    "tuple1 = \"a\",\"c\",\"b\"\n",
    "tuple1.sort()\n",
    "tuple1"
   ]
  },
  {
   "cell_type": "markdown",
   "id": "982a522a-e074-4e17-b312-742c9653f6af",
   "metadata": {},
   "source": [
    "## Detailierte Erklärung"
   ]
  },
  {
   "cell_type": "markdown",
   "id": "adc70e6f-9f2b-444d-9f1a-f6526f8f077e",
   "metadata": {},
   "source": [
    "Die sort()-Methode wird verwendet, um die Elemente einer Liste in-place zu sortieren, das heißt, die Liste wird direkt verändert und keine neue Liste wird zurückgegeben. Diese Methode ist sehr effizient und flexibel, da sie zusätzliche Parameter für benutzerdefinierte Sortierungen bietet.\n"
   ]
  },
  {
   "cell_type": "code",
   "execution_count": 3,
   "id": "170d2cf0-b43c-48c5-bdf8-8398d8d8b040",
   "metadata": {
    "tags": []
   },
   "outputs": [],
   "source": [
    "my_list = [1,21,3]\n",
    "\n",
    "my_list.sort()  # sortiert listen IN-Place => ändert das Original"
   ]
  },
  {
   "cell_type": "code",
   "execution_count": 4,
   "id": "04f1329f-ff79-453f-a4c6-cf176202b7dc",
   "metadata": {},
   "outputs": [
    {
     "data": {
      "text/plain": [
       "[1, 3, 21]"
      ]
     },
     "execution_count": 4,
     "metadata": {},
     "output_type": "execute_result"
    }
   ],
   "source": [
    "my_list"
   ]
  },
  {
   "cell_type": "code",
   "execution_count": null,
   "id": "43f68de9-db50-4748-8377-92d6c925ac4e",
   "metadata": {},
   "outputs": [],
   "source": []
  },
  {
   "cell_type": "code",
   "execution_count": null,
   "id": "9e1ace24-01ce-47e2-bce8-2411f1224a03",
   "metadata": {},
   "outputs": [],
   "source": []
  },
  {
   "cell_type": "code",
   "execution_count": 198,
   "id": "96ff0808-2438-4332-901b-22ee9893c51b",
   "metadata": {
    "tags": []
   },
   "outputs": [
    {
     "data": {
      "text/plain": [
       "\u001b[0;31mSignature:\u001b[0m \u001b[0mlist\u001b[0m\u001b[0;34m.\u001b[0m\u001b[0msort\u001b[0m\u001b[0;34m(\u001b[0m\u001b[0mself\u001b[0m\u001b[0;34m,\u001b[0m \u001b[0;34m/\u001b[0m\u001b[0;34m,\u001b[0m \u001b[0;34m*\u001b[0m\u001b[0;34m,\u001b[0m \u001b[0mkey\u001b[0m\u001b[0;34m=\u001b[0m\u001b[0;32mNone\u001b[0m\u001b[0;34m,\u001b[0m \u001b[0mreverse\u001b[0m\u001b[0;34m=\u001b[0m\u001b[0;32mFalse\u001b[0m\u001b[0;34m)\u001b[0m\u001b[0;34m\u001b[0m\u001b[0;34m\u001b[0m\u001b[0m\n",
       "\u001b[0;31mDocstring:\u001b[0m Stable sort *IN PLACE*.\n",
       "\u001b[0;31mType:\u001b[0m      method_descriptor\n"
      ]
     },
     "metadata": {},
     "output_type": "display_data"
    }
   ],
   "source": [
    "list.sort?"
   ]
  }
 ],
 "metadata": {
  "kernelspec": {
   "display_name": "Python 3 (ipykernel)",
   "language": "python",
   "name": "python3"
  },
  "language_info": {
   "codemirror_mode": {
    "name": "ipython",
    "version": 3
   },
   "file_extension": ".py",
   "mimetype": "text/x-python",
   "name": "python",
   "nbconvert_exporter": "python",
   "pygments_lexer": "ipython3",
   "version": "3.12.6"
  }
 },
 "nbformat": 4,
 "nbformat_minor": 5
}
