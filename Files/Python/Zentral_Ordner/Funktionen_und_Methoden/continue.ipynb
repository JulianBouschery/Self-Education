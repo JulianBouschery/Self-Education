{
 "cells": [
  {
   "cell_type": "markdown",
   "id": "2ef515cc-fbb7-4814-afe3-6b2575726d6d",
   "metadata": {},
   "source": [
    "# continue"
   ]
  },
  {
   "cell_type": "markdown",
   "id": "f6d75ae2-d2a6-4a2e-8c98-390771621d9c",
   "metadata": {},
   "source": [
    "Der `continue`-Befehl in Python wird in Schleifen (wie `for` oder `while`) verwendet, um den aktuellen Schleifendurchlauf zu überspringen und direkt mit dem nächsten fortzufahren. "
   ]
  },
  {
   "cell_type": "markdown",
   "id": "0889684d-7d29-4a6d-878f-948cd6bd9287",
   "metadata": {},
   "source": [
    "### Erklärung:"
   ]
  },
  {
   "cell_type": "markdown",
   "id": "ad155e73-c387-4485-91a4-923c3e1beb1d",
   "metadata": {},
   "source": [
    "- Wenn `continue` ausgeführt wird, werden alle nachfolgenden Anweisungen in der aktuellen Schleifeniteration übersprungen.\n",
    "- Die Schleife wird aber nicht beendet; sie fährt mit dem nächsten Element (bei `for`-Schleifen) oder der nächsten Iteration (bei `while`-Schleifen) fort."
   ]
  },
  {
   "cell_type": "markdown",
   "id": "9c527bdf-5c2a-49bc-abfa-b274c5e23db5",
   "metadata": {},
   "source": [
    "### Beispiel:"
   ]
  },
  {
   "cell_type": "code",
   "execution_count": 1,
   "id": "914075be-252d-41bc-a704-c49fe3848f19",
   "metadata": {},
   "outputs": [
    {
     "name": "stdout",
     "output_type": "stream",
     "text": [
      "1\n",
      "2\n",
      "4\n",
      "5\n"
     ]
    }
   ],
   "source": [
    "for i in range(1, 6):\n",
    "    if i == 3:\n",
    "        continue  # Bei 3 wird der Rest des Schleifendurchlaufs übersprungen\n",
    "    print(i)"
   ]
  },
  {
   "cell_type": "markdown",
   "id": "a2ba7a8d-ec5e-4bfc-b8b7-2e7adf154219",
   "metadata": {},
   "source": [
    "In diesem Beispiel wird, wenn `i` den Wert 3 erreicht, der `continue`-Befehl ausgeführt. Das bedeutet, dass die `print(i)`-Anweisung in diesem Durchlauf übersprungen wird und die Schleife direkt mit `i = 4` weiterläuft."
   ]
  },
  {
   "cell_type": "markdown",
   "id": "8e9793a0-58fb-48c1-b248-17cb17fc710e",
   "metadata": {},
   "source": [
    "### Wann wird `continue` verwendet?"
   ]
  },
  {
   "cell_type": "markdown",
   "id": "647d54d8-f5fa-4832-9c91-44a52dc9fe47",
   "metadata": {},
   "source": [
    "- Um bestimmte Werte oder Bedingungen innerhalb einer Schleife zu überspringen.\n",
    "- Um unnötige Berechnungen zu vermeiden, wenn du weißt, dass bestimmte Fälle irrelevant sind."
   ]
  },
  {
   "cell_type": "code",
   "execution_count": null,
   "id": "9d56f01c-c4df-4022-8aa7-90ae337ae51e",
   "metadata": {},
   "outputs": [],
   "source": []
  }
 ],
 "metadata": {
  "kernelspec": {
   "display_name": "Python 3 (ipykernel)",
   "language": "python",
   "name": "python3"
  },
  "language_info": {
   "codemirror_mode": {
    "name": "ipython",
    "version": 3
   },
   "file_extension": ".py",
   "mimetype": "text/x-python",
   "name": "python",
   "nbconvert_exporter": "python",
   "pygments_lexer": "ipython3",
   "version": "3.12.6"
  }
 },
 "nbformat": 4,
 "nbformat_minor": 5
}
