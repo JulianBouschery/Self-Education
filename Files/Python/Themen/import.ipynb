{
 "cells": [
  {
   "cell_type": "markdown",
   "id": "1cff606a-4b9f-48bc-9441-f72976d8b770",
   "metadata": {},
   "source": [
    "# Importieren von Modulen"
   ]
  },
  {
   "cell_type": "markdown",
   "id": "a4e6250d-8ce4-4492-8771-587a815f1b94",
   "metadata": {},
   "source": [
    "https://www.datacamp.com/de/tutorial/modules-in-python"
   ]
  },
  {
   "cell_type": "code",
   "execution_count": null,
   "id": "dafefc13-9244-414c-8f1d-dc1e25a76e45",
   "metadata": {},
   "outputs": [],
   "source": []
  }
 ],
 "metadata": {
  "kernelspec": {
   "display_name": "Python 3 (ipykernel)",
   "language": "python",
   "name": "python3"
  },
  "language_info": {
   "codemirror_mode": {
    "name": "ipython",
    "version": 3
   },
   "file_extension": ".py",
   "mimetype": "text/x-python",
   "name": "python",
   "nbconvert_exporter": "python",
   "pygments_lexer": "ipython3",
   "version": "3.12.6"
  }
 },
 "nbformat": 4,
 "nbformat_minor": 5
}
