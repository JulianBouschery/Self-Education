{
 "cells": [
  {
   "cell_type": "markdown",
   "id": "47ef91a2-dc8b-4168-b7fb-a30389a1267a",
   "metadata": {},
   "source": [
    "# PEP 8 und weitere Konventionen"
   ]
  },
  {
   "cell_type": "markdown",
   "id": "a0fa5b79-9fb0-43a1-8b93-ac4531eef25c",
   "metadata": {},
   "source": [
    "## PEP 8"
   ]
  },
  {
   "cell_type": "markdown",
   "id": "5732ab5c-ec67-4d63-b260-b25b265f2718",
   "metadata": {},
   "source": [
    "Snake- und Camelcase, sowie Einrückung"
   ]
  },
  {
   "cell_type": "markdown",
   "id": "2af7c282-ec8a-4e95-bb71-6cdbf7b59053",
   "metadata": {},
   "source": [
    "## PEP 257"
   ]
  },
  {
   "cell_type": "markdown",
   "id": "e1e35d92-fc29-4ad6-9a07-e6485d8781cc",
   "metadata": {},
   "source": [
    "Docstring-Konvention"
   ]
  },
  {
   "cell_type": "code",
   "execution_count": null,
   "id": "02b68469-3e3d-41f4-a263-c248d247182a",
   "metadata": {},
   "outputs": [],
   "source": [
    "For more information follow this link:\n",
    "\n",
    "https://www.credly.com/badges/013d855f-55e1-4e28-8b6e-8e54c3c86e4e\n",
    "\n",
    "or view my profile:\n"
   ]
  }
 ],
 "metadata": {
  "kernelspec": {
   "display_name": "Python 3 (ipykernel)",
   "language": "python",
   "name": "python3"
  },
  "language_info": {
   "codemirror_mode": {
    "name": "ipython",
    "version": 3
   },
   "file_extension": ".py",
   "mimetype": "text/x-python",
   "name": "python",
   "nbconvert_exporter": "python",
   "pygments_lexer": "ipython3",
   "version": "3.12.6"
  }
 },
 "nbformat": 4,
 "nbformat_minor": 5
}
