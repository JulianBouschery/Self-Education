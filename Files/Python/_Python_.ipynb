{
 "cells": [
  {
   "cell_type": "markdown",
   "id": "ee1f91ab-1863-4ccc-a2d0-a39338d7e00d",
   "metadata": {},
   "source": [
    "Der Großteil der Python Unterlagen entstand als ich mit dem Programmieren angefangen habe. Deshalb und durch einen Vorfall bei dem ich einen beträchtlichen Teil meiner Arbeit verloren habe ist dieser Teil nicht so gut strukturiert wie z.B. der Data-Analyst Teil. Ich kümmere mich darum sobald ich Zeit dafür habe."
   ]
  },
  {
   "cell_type": "markdown",
   "id": "753a88d1-4ea8-4408-a56f-29eae2be0735",
   "metadata": {},
   "source": [
    "[random und seine Funktionen](./Zentral_Ordner/Funktionen_und_Methoden/random/random.ipynb)"
   ]
  },
  {
   "cell_type": "markdown",
   "id": "be390a48-e821-4295-8f56-20b88ff13b23",
   "metadata": {},
   "source": [
    "[PEP 8](Themen/PEP8.ipynb)"
   ]
  },
  {
   "cell_type": "code",
   "execution_count": null,
   "id": "70e40bfa-7f01-4df9-91da-94732030428b",
   "metadata": {},
   "outputs": [],
   "source": []
  }
 ],
 "metadata": {
  "kernelspec": {
   "display_name": "Python 3 (ipykernel)",
   "language": "python",
   "name": "python3"
  },
  "language_info": {
   "codemirror_mode": {
    "name": "ipython",
    "version": 3
   },
   "file_extension": ".py",
   "mimetype": "text/x-python",
   "name": "python",
   "nbconvert_exporter": "python",
   "pygments_lexer": "ipython3",
   "version": "3.12.6"
  }
 },
 "nbformat": 4,
 "nbformat_minor": 5
}
