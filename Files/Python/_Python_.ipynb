{
 "cells": [
  {
   "cell_type": "markdown",
   "id": "ee1f91ab-1863-4ccc-a2d0-a39338d7e00d",
   "metadata": {},
   "source": [
    "Der Großteil der Python Unterlagen entstand als ich mit dem Programmieren angefangen habe. Deshalb und durch einen Vorfall bei dem ich einen beträchtlichen Teil meiner Arbeit verloren habe ist dieser Teil nicht so gut strukturiert wie z.B. der Data-Analyst Teil. Ich kümmere mich darum sobald ich Zeit dafür habe."
   ]
  },
  {
   "cell_type": "code",
   "execution_count": null,
   "id": "d1591a97-f2cf-43c3-9da6-16e48620dff6",
   "metadata": {},
   "outputs": [],
   "source": []
  }
 ],
 "metadata": {
  "kernelspec": {
   "display_name": "Python 3 (ipykernel)",
   "language": "python",
   "name": "python3"
  },
  "language_info": {
   "codemirror_mode": {
    "name": "ipython",
    "version": 3
   },
   "file_extension": ".py",
   "mimetype": "text/x-python",
   "name": "python",
   "nbconvert_exporter": "python",
   "pygments_lexer": "ipython3",
   "version": "3.12.6"
  }
 },
 "nbformat": 4,
 "nbformat_minor": 5
}
