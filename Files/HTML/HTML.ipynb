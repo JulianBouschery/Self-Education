{
 "cells": [
  {
   "cell_type": "markdown",
   "id": "c04bfcdb-3fcb-4ee5-a7cb-4fe432abcd6e",
   "metadata": {},
   "source": [
    "# HTML"
   ]
  },
  {
   "cell_type": "markdown",
   "id": "afe0e132-1ed8-4a5d-93c2-dc6ef427973a",
   "metadata": {},
   "source": [
    "https://wiki.selfhtml.org/wiki/HTML/Elemente/"
   ]
  },
  {
   "cell_type": "markdown",
   "id": "687ced0a-8cbc-49ab-b4b0-ff6d0377d4f3",
   "metadata": {},
   "source": [
    "https://de.wikipedia.org/wiki/HTTP-Statuscode"
   ]
  }
 ],
 "metadata": {
  "kernelspec": {
   "display_name": "Python 3 (ipykernel)",
   "language": "python",
   "name": "python3"
  },
  "language_info": {
   "codemirror_mode": {
    "name": "ipython",
    "version": 3
   },
   "file_extension": ".py",
   "mimetype": "text/x-python",
   "name": "python",
   "nbconvert_exporter": "python",
   "pygments_lexer": "ipython3",
   "version": "3.12.6"
  }
 },
 "nbformat": 4,
 "nbformat_minor": 5
}
