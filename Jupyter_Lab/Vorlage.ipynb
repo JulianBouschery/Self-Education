{
 "cells": [
  {
   "cell_type": "markdown",
   "id": "e6f0e8e3-3bbb-442c-9899-df0ae43a0fde",
   "metadata": {},
   "source": [
    "## Überblick"
   ]
  },
  {
   "cell_type": "markdown",
   "id": "92bf97f4-19b8-4723-9ee3-258408650665",
   "metadata": {},
   "source": [
    "Name der Funktion: \n",
    "\n",
    "Instanz der Klasse: \n",
    "\n",
    "Syntax:\n",
    "\n",
    "`abc` `(` `def` `)` \n",
    "\n",
    "```python\n",
    "Parameter: \n",
    "    \n",
    "```\n",
    "Funktion: \n",
    "\n",
    "\n",
    "\n",
    "Default return: \n",
    "```python\n",
    "abc\n",
    "```\n",
    "Error:"
   ]
  },
  {
   "cell_type": "markdown",
   "id": "725ef4a3-7c02-4ec5-951a-5ee9c2c9d6a0",
   "metadata": {},
   "source": [
    "#### Instanz"
   ]
  },
  {
   "cell_type": "markdown",
   "id": "be878b26-a76d-421d-bf25-5ab08e7f08c9",
   "metadata": {},
   "source": [
    "#### Parameter"
   ]
  },
  {
   "cell_type": "markdown",
   "id": "90304e5c-5d1b-4a91-bc92-7371755a1410",
   "metadata": {},
   "source": [
    "#### return"
   ]
  },
  {
   "cell_type": "code",
   "execution_count": 2,
   "id": "7b6c08c4-f3e1-4d5f-a302-7b742075eeef",
   "metadata": {},
   "outputs": [],
   "source": [
    "# Default return: Ohne Argument => leeres \n"
   ]
  },
  {
   "cell_type": "code",
   "execution_count": 3,
   "id": "533d5dfd-db39-4009-a882-586e7b8597df",
   "metadata": {},
   "outputs": [],
   "source": [
    "# return: Mit Argumenten --> befülltes Dictionary"
   ]
  },
  {
   "cell_type": "markdown",
   "id": "0cf87137-28cf-4d91-8286-2f324421064c",
   "metadata": {},
   "source": [
    "#### Error:"
   ]
  },
  {
   "cell_type": "markdown",
   "id": "207520b6-c6a9-41b8-862d-dfaf6f2cc1ac",
   "metadata": {},
   "source": [
    "## Detailierte Erklärung"
   ]
  },
  {
   "cell_type": "code",
   "execution_count": null,
   "id": "6a215473-a98f-4ad3-9318-ec58ceb2ee2d",
   "metadata": {},
   "outputs": [],
   "source": []
  }
 ],
 "metadata": {
  "kernelspec": {
   "display_name": "Python 3 (ipykernel)",
   "language": "python",
   "name": "python3"
  },
  "language_info": {
   "codemirror_mode": {
    "name": "ipython",
    "version": 3
   },
   "file_extension": ".py",
   "mimetype": "text/x-python",
   "name": "python",
   "nbconvert_exporter": "python",
   "pygments_lexer": "ipython3",
   "version": "3.12.6"
  }
 },
 "nbformat": 4,
 "nbformat_minor": 5
}
