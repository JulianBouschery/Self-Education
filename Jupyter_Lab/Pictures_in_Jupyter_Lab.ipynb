{
 "cells": [
  {
   "cell_type": "markdown",
   "id": "3fcb9f7a-e83f-403b-8ab6-c3fca9aca78d",
   "metadata": {},
   "source": [
    "# Bilder"
   ]
  },
  {
   "cell_type": "markdown",
   "id": "c62ae102-82d5-4dcd-ad40-86c4544bfe43",
   "metadata": {},
   "source": [
    "Verwendung von `html` zur einstellung der Größe des Bildes:\n",
    "\n",
    "```html\n",
    "<img src=\"Cat.jpg\" alt=\"Bild\" width=\"25%\">\n",
    "```"
   ]
  },
  {
   "cell_type": "markdown",
   "id": "7d8046da-5dc2-4834-a122-99bbdc4f9e01",
   "metadata": {},
   "source": [
    "<img src=\"Cat.jpg\" alt=\"Bild\" width=\"25%\">\n"
   ]
  },
  {
   "cell_type": "markdown",
   "id": "13026a29-ff0d-45e0-96e3-7656f5f662b1",
   "metadata": {},
   "source": [
    "Ansonsten hat ein \"normal\" Jupyter Lab eingefügtes Bild wird immer die Origianl größe haben, wobei sich diese an die Größe des geöffneten Fensters anpasst.\n",
    "\n",
    "```python\n",
    "![Cat](Cat.jpg)\n",
    "```"
   ]
  },
  {
   "cell_type": "markdown",
   "id": "4fd12d78-f85e-4e30-9c34-e676f2011208",
   "metadata": {},
   "source": [
    "![Cat](Cat.jpg)"
   ]
  },
  {
   "cell_type": "code",
   "execution_count": null,
   "id": "2ab8eb18-68a0-4c28-a2b4-e8b7ad844422",
   "metadata": {},
   "outputs": [],
   "source": []
  }
 ],
 "metadata": {
  "kernelspec": {
   "display_name": "Python 3 (ipykernel)",
   "language": "python",
   "name": "python3"
  },
  "language_info": {
   "codemirror_mode": {
    "name": "ipython",
    "version": 3
   },
   "file_extension": ".py",
   "mimetype": "text/x-python",
   "name": "python",
   "nbconvert_exporter": "python",
   "pygments_lexer": "ipython3",
   "version": "3.12.6"
  }
 },
 "nbformat": 4,
 "nbformat_minor": 5
}
