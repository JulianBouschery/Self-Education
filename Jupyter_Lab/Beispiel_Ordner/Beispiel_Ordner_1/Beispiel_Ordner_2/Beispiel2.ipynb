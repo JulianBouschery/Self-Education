{
 "cells": [
  {
   "cell_type": "markdown",
   "id": "e81451c2-df9e-4072-99dc-62624cccb077",
   "metadata": {},
   "source": [
    "### Option 4"
   ]
  },
  {
   "cell_type": "markdown",
   "id": "4e83c79f-2b2f-4879-ae8c-17d7203bda3f",
   "metadata": {},
   "source": [
    "Die Verwendung mehrere `../`\n",
    "\n",
    "Link zu einer Datei in einem WEIT übergeordnetem Verzeichnis:\n",
    "[Zurück zu Verknüpfungen](../../../Verknüpfungen.ipynb)\n",
    "\n",
    "Syntax:\n",
    "```python\n",
    "[Zurück zu Verknüpfungen](../../../Verknüpfungen.ipynb)\n",
    "```\n",
    "\n",
    "`../` geht eine Verzeichnisebene nach oben.\n",
    "\n",
    "`../../` geht zwei Ebenen nach oben.\n",
    "\n",
    "...\n",
    "\n",
    "Danach gibt man die Pfade zu den Zielordnern und der Datei an. Z.B.: Ordner1/Ordner2/Dateiname.txt."
   ]
  }
 ],
 "metadata": {
  "kernelspec": {
   "display_name": "Python 3 (ipykernel)",
   "language": "python",
   "name": "python3"
  },
  "language_info": {
   "codemirror_mode": {
    "name": "ipython",
    "version": 3
   },
   "file_extension": ".py",
   "mimetype": "text/x-python",
   "name": "python",
   "nbconvert_exporter": "python",
   "pygments_lexer": "ipython3",
   "version": "3.12.6"
  }
 },
 "nbformat": 4,
 "nbformat_minor": 5
}
