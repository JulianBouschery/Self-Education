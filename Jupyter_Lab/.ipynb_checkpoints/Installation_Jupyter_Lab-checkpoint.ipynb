{
 "cells": [
  {
   "cell_type": "markdown",
   "id": "5d1838b1-c2d8-485b-88e4-6ee217ffb47c",
   "metadata": {},
   "source": [
    "# Installation Jupyter Lab"
   ]
  },
  {
   "cell_type": "markdown",
   "id": "e9e96f66-08ce-405c-8af2-49e0164d6c4b",
   "metadata": {},
   "source": [
    "[Link zur Installations-Website von Jupyter](https://jupyter.org/install)"
   ]
  },
  {
   "cell_type": "markdown",
   "id": "632408a4-77b8-4471-ae6c-4986615b825b",
   "metadata": {},
   "source": [
    "Befehl zur Installation von Jupyter Lab\n",
    "```python\n",
    "pip install jupyterlab\n",
    "```"
   ]
  },
  {
   "cell_type": "markdown",
   "id": "125c042c-7081-495d-b0bd-c73a14e04ed6",
   "metadata": {},
   "source": [
    "Um Jupyter Lab auszuführen, bzw. einen Server zu öffnen muss der Befehl `jupyter lab` ins Terminal / die Konsole / Eingabeaufforderung eingegeben werden."
   ]
  },
  {
   "cell_type": "markdown",
   "id": "a4e8c636-824a-47b1-985a-60aee3524f90",
   "metadata": {},
   "source": [
    "## .bat-Datei"
   ]
  },
  {
   "cell_type": "code",
   "execution_count": null,
   "id": "d9234e34-2211-4bbf-96a8-938971bc224a",
   "metadata": {},
   "outputs": [],
   "source": []
  },
  {
   "cell_type": "markdown",
   "id": "4947f8fb-2548-4947-8bac-d342ba05e645",
   "metadata": {},
   "source": [
    "## Next"
   ]
  },
  {
   "cell_type": "markdown",
   "id": "730c36df-a723-47f7-9516-2934b65364de",
   "metadata": {},
   "source": [
    "Siehe auch:"
   ]
  },
  {
   "cell_type": "markdown",
   "id": "87a206bc-8524-49d6-84c9-1328ae2a1c53",
   "metadata": {},
   "source": [
    "[requirements](requirements.txt.)"
   ]
  },
  {
   "cell_type": "markdown",
   "id": "6ec1e2b4-7ed4-4ff5-8375-bc735f5f654f",
   "metadata": {},
   "source": [
    "[Images](Images.ipynb)"
   ]
  },
  {
   "cell_type": "markdown",
   "id": "a09add83-8ed3-46d5-adf9-c01b88efe754",
   "metadata": {},
   "source": [
    "## Virtuelle Environment erstellen"
   ]
  },
  {
   "cell_type": "markdown",
   "id": "8df18d45-3428-4e23-b5cf-7ca0468d8ed2",
   "metadata": {},
   "source": [
    "`python -m venv Name_für_VE_ausdenken`"
   ]
  },
  {
   "cell_type": "markdown",
   "id": "18abd8a5-f964-49f1-bd25-ad693996f6ff",
   "metadata": {},
   "source": [
    "Ordner_in_dem_VE_ist: `Name_VE\\Scripts\\activate`"
   ]
  },
  {
   "cell_type": "markdown",
   "id": "c112a0c6-0efe-4d19-87fa-9b31e589c949",
   "metadata": {},
   "source": [
    "Sieht dann etwa so aus: `(Kurs_VE) C:\\Users\\jbous\\Desktop\\Data-Analyst>`"
   ]
  },
  {
   "cell_type": "markdown",
   "id": "a3bf7c09-6ce1-49b8-a1c6-2572af0616ed",
   "metadata": {},
   "source": [
    "## Programme in VE installieren"
   ]
  },
  {
   "cell_type": "markdown",
   "id": "bb012e4f-603a-4576-9221-00aea0aec277",
   "metadata": {},
   "source": [
    "NumPy MUSS VOR SciPy installiert werden, da es auf NumPy"
   ]
  },
  {
   "cell_type": "markdown",
   "id": "89649960-d07b-4b7b-817e-f11f327b48c4",
   "metadata": {},
   "source": [
    "`pip install -r requirements.txt`"
   ]
  },
  {
   "cell_type": "markdown",
   "id": "e27252bd-6f18-44ed-9899-476a13321bdc",
   "metadata": {},
   "source": [
    "Oder einzeln installieren:\n",
    "\n",
    "`pip install Modul_name`"
   ]
  },
  {
   "cell_type": "markdown",
   "id": "4dd6c2fa-21ac-4e34-87a7-f9886da2acb0",
   "metadata": {},
   "source": [
    "Mit `pip list` kann man Prüfen welche Module im entsprechenden Bereich (VE) installiert sind."
   ]
  },
  {
   "cell_type": "markdown",
   "id": "8ebc1b26-cf32-41b0-b060-204cc8eda84a",
   "metadata": {},
   "source": [
    "## Prüfen wo Python Module liegen"
   ]
  },
  {
   "cell_type": "code",
   "execution_count": null,
   "id": "596c7517-2b40-402d-b22d-3afa15ab5184",
   "metadata": {},
   "outputs": [],
   "source": [
    "import sys\n",
    "sys.path"
   ]
  },
  {
   "cell_type": "code",
   "execution_count": null,
   "id": "71155df5-e5eb-42f1-82ef-d096d0f14fed",
   "metadata": {},
   "outputs": [],
   "source": [
    "import os\n",
    "\n",
    "os.getcwd()"
   ]
  },
  {
   "cell_type": "code",
   "execution_count": null,
   "id": "999e54e7-5cdc-43dd-83fa-87a1b1968883",
   "metadata": {},
   "outputs": [],
   "source": []
  },
  {
   "cell_type": "markdown",
   "id": "2f21af66-5c5e-450d-9576-ffb4452cba62",
   "metadata": {},
   "source": [
    "Daniel Barty für Verknüpfung fragen"
   ]
  },
  {
   "cell_type": "code",
   "execution_count": null,
   "id": "6b75085c-c937-471a-843c-5228f0e54a10",
   "metadata": {},
   "outputs": [],
   "source": []
  }
 ],
 "metadata": {
  "kernelspec": {
   "display_name": "Python 3 (ipykernel)",
   "language": "python",
   "name": "python3"
  },
  "language_info": {
   "codemirror_mode": {
    "name": "ipython",
    "version": 3
   },
   "file_extension": ".py",
   "mimetype": "text/x-python",
   "name": "python",
   "nbconvert_exporter": "python",
   "pygments_lexer": "ipython3",
   "version": "3.12.6"
  }
 },
 "nbformat": 4,
 "nbformat_minor": 5
}
