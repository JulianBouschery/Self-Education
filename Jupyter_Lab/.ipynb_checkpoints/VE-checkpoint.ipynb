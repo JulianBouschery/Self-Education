{
 "cells": [
  {
   "cell_type": "markdown",
   "id": "1be75bd3-daaa-4c88-b169-f62c242bd4b1",
   "metadata": {},
   "source": [
    "# Virtual Environment"
   ]
  },
  {
   "cell_type": "markdown",
   "id": "b4da49d7-de79-4660-a43b-0e9dd0e4e243",
   "metadata": {},
   "source": [
    "## Wie setzt man ein Virtual Environment auf?"
   ]
  },
  {
   "cell_type": "markdown",
   "id": "02e618af-f4bc-430c-8716-d324c764f490",
   "metadata": {},
   "source": [
    "Um eine **virtuelle Umgebung (Virtual Environment, VE)** für Python-Projekte einzurichten, kannst du das Python-Modul **`venv`** oder **`virtualenv`** verwenden. Eine virtuelle Umgebung isoliert Abhängigkeiten eines Projekts, sodass verschiedene Projekte unterschiedliche Versionen derselben Bibliothek verwenden können, ohne Konflikte zu verursachen.\n",
    "\n",
    "Hier ist die Schritt-für-Schritt-Anleitung zur Einrichtung einer virtuellen Umgebung:"
   ]
  },
  {
   "cell_type": "markdown",
   "id": "b735cbd6-9198-434b-9ce8-48a8d71cd04c",
   "metadata": {},
   "source": [
    "### 1. **`venv` verwenden (Standard in Python 3)**"
   ]
  },
  {
   "cell_type": "markdown",
   "id": "03305b97-bb43-4625-8f9e-5fe88269c277",
   "metadata": {},
   "source": [
    "#### a) **Navigiere zu deinem Projektverzeichnis**"
   ]
  },
  {
   "cell_type": "markdown",
   "id": "7ae6ed64-0274-4ae6-b925-ba3b673a0dca",
   "metadata": {},
   "source": [
    "Wechsle in das Verzeichnis, in dem du deine virtuelle Umgebung erstellen möchtest:\n",
    "\n",
    "```bash\n",
    "cd /pfad/zu/deinem/projekt\n",
    "```"
   ]
  },
  {
   "cell_type": "markdown",
   "id": "bde22db3-14d7-413d-b022-f371b3d6a758",
   "metadata": {},
   "source": [
    "#### b) **Erstelle die virtuelle Umgebung**"
   ]
  },
  {
   "cell_type": "markdown",
   "id": "040c8a90-898f-40da-a057-c2652fc39a35",
   "metadata": {},
   "source": [
    "Verwende den folgenden Befehl, um eine virtuelle Umgebung zu erstellen:\n",
    "\n",
    "```bash\n",
    "python -m venv venv_name\n",
    "```\n",
    "\n",
    "- `venv_name`: Der Name der virtuellen Umgebung (oft wird einfach `venv` verwendet).\n",
    "\n",
    "Beispiel:\n",
    "\n",
    "```bash\n",
    "python -m venv venv\n",
    "```"
   ]
  },
  {
   "cell_type": "markdown",
   "id": "3fe10fc9-1f6c-4b1d-9011-992a6b098de2",
   "metadata": {},
   "source": [
    "#### c) **Aktiviere die virtuelle Umgebung**"
   ]
  },
  {
   "cell_type": "markdown",
   "id": "e34c4254-9a17-48ad-8c2d-b5844c718120",
   "metadata": {},
   "source": [
    "- **Windows**:\n",
    "\n",
    "  ```bash\n",
    "  venv\\Scripts\\activate\n",
    "  ```\n",
    "\n",
    "- **Linux/macOS**:\n",
    "\n",
    "  ```bash\n",
    "  source venv/bin/activate\n",
    "  ```"
   ]
  },
  {
   "cell_type": "markdown",
   "id": "7baa7ecc-39c2-4595-b440-2a396db475a8",
   "metadata": {},
   "source": [
    "## .bat Datei zum einfachen Starten des VE's samt Jupyter Lab Server"
   ]
  },
  {
   "cell_type": "markdown",
   "id": "3c73325e-d3ab-481a-b626-2fcdf6ebbccb",
   "metadata": {},
   "source": [
    "Man erstellt eine .bat Datei und schreibt:\n",
    "```python\n",
    "@echo off # Funktion\n",
    "REM In das Projektverzeichnis wechseln # REM ist ein Kommentar\n",
    "cd /d C:\\Users\\user_name\\Desktop\\Projects\\Project_name # Pfad zum VE\n",
    "\n",
    "REM Virtual Environment aktivieren\n",
    "call Project_name_VE\\Scripts\\activate.bat # VE muss bereits existieren\n",
    "\n",
    "REM JupyterLab starten\n",
    "jupyter lab\n",
    "```"
   ]
  },
  {
   "cell_type": "code",
   "execution_count": null,
   "id": "2aaebf60-4585-4de3-9bb8-246377624c67",
   "metadata": {},
   "outputs": [],
   "source": []
  }
 ],
 "metadata": {
  "kernelspec": {
   "display_name": "Python 3 (ipykernel)",
   "language": "python",
   "name": "python3"
  },
  "language_info": {
   "codemirror_mode": {
    "name": "ipython",
    "version": 3
   },
   "file_extension": ".py",
   "mimetype": "text/x-python",
   "name": "python",
   "nbconvert_exporter": "python",
   "pygments_lexer": "ipython3",
   "version": "3.12.6"
  }
 },
 "nbformat": 4,
 "nbformat_minor": 5
}
