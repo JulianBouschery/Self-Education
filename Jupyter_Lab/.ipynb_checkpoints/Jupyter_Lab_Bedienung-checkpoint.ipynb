{
 "cells": [
  {
   "cell_type": "markdown",
   "id": "4e1e07da-9bfd-47a6-86fc-a2b4210c86ea",
   "metadata": {},
   "source": [
    "# Jupyter Lab Bedienung"
   ]
  },
  {
   "cell_type": "markdown",
   "id": "5f583189-65b5-4cf1-bbeb-721395ad3df2",
   "metadata": {},
   "source": [
    "Oben Links gibt es unter `Help` --> `Show Keyboard Shortcuts`"
   ]
  },
  {
   "cell_type": "code",
   "execution_count": null,
   "id": "2b0a3167-5120-4b9e-85dd-94bc046265b8",
   "metadata": {},
   "outputs": [],
   "source": []
  },
  {
   "cell_type": "markdown",
   "id": "64511f93-8cc5-4f4b-8102-a75fff989907",
   "metadata": {},
   "source": [
    "Esc + b = Erzeugt eine neue Zeile b-elow"
   ]
  },
  {
   "cell_type": "code",
   "execution_count": 1,
   "id": "b7f5da1f-229a-4dbd-be40-84889b234890",
   "metadata": {},
   "outputs": [],
   "source": [
    "x = 1 + 1"
   ]
  },
  {
   "cell_type": "markdown",
   "id": "7e4b7df9-382e-402d-a8ba-3cfbec939acd",
   "metadata": {},
   "source": [
    "Bedenke, jupyter lab erlaubt das sofortige Anzeigen der Ergebnisse. \n",
    "Wenn wir aber eine Zuweisung machen, wird das Ergebnis nicht angezeigt. \n",
    "\n",
    "Daher schreiben wir die Variable nach der Zuweisung noch einmal auf, und erhalten so deren Wert. Siehe unten"
   ]
  },
  {
   "cell_type": "code",
   "execution_count": 2,
   "id": "c3ee8bdb-295f-403c-beae-62fe41a0252e",
   "metadata": {
    "tags": []
   },
   "outputs": [
    {
     "data": {
      "text/plain": [
       "2"
      ]
     },
     "execution_count": 2,
     "metadata": {},
     "output_type": "execute_result"
    }
   ],
   "source": [
    "x"
   ]
  },
  {
   "cell_type": "markdown",
   "id": "86089f7e-7f45-4aa9-a226-c9074954d8db",
   "metadata": {},
   "source": [
    "Wenn ihr in Pycharm oder IDLE oder VSCode denn Code ausführt müsst ihr explizit print() nutzen, wenn ihr die Ergebnisse sehen wollt."
   ]
  },
  {
   "cell_type": "code",
   "execution_count": 3,
   "id": "7854c4c6-c172-46df-b414-f69cd63ffe4b",
   "metadata": {},
   "outputs": [
    {
     "name": "stdout",
     "output_type": "stream",
     "text": [
      "2\n"
     ]
    }
   ],
   "source": [
    "print(x)"
   ]
  },
  {
   "cell_type": "markdown",
   "id": "e04814d3-78b1-49fe-8929-f43124664c84",
   "metadata": {},
   "source": [
    "## Trick 17 wenn man etwas überschieben hat:"
   ]
  },
  {
   "cell_type": "markdown",
   "id": "7836c7c7-3a1e-4609-86e8-dbc7bd71031e",
   "metadata": {},
   "source": [
    "Falls man etwas überschrieben hat, kann man ein \"reassignment\" machen: "
   ]
  },
  {
   "cell_type": "code",
   "execution_count": 5,
   "id": "7a8e2eb3-b1d8-4310-9575-78b24eccbbb5",
   "metadata": {},
   "outputs": [],
   "source": [
    "dict = {} # überschreibt die Funktion dict() mit der Variable dict = {}\n",
    " \n",
    "from builtins import dict\n",
    " \n",
    "dict = dict # überschreibt Variable wieder mit Funktion "
   ]
  },
  {
   "cell_type": "markdown",
   "id": "9fd11db2-7554-4c8b-9779-3e3fff7d3dcd",
   "metadata": {},
   "source": [
    "### Keyboard Shortcuts"
   ]
  },
  {
   "cell_type": "code",
   "execution_count": null,
   "id": "5199f635-db7e-4612-8aad-f65db16ae7de",
   "metadata": {},
   "outputs": [],
   "source": [
    "Redo\tCtrl + Shift + Z\n",
    "Undo\tCtrl + Z\n",
    "Run Selected Cell\tShift + Enter\n",
    "Close Tab\tAlt + W\n",
    "Find Next\tCtrl + G\n",
    "Find Previous\tCtrl + Shift + G\n",
    "Find…\tCtrl + F\n",
    "Close and Shut Down Notebook…\tCtrl + Shift + Q\n",
    "Activate Next Tab\tCtrl + Shift + ]\n",
    "Activate Next Tab Bar\tCtrl + Shift + .\n",
    "Activate Previous Tab\tCtrl + Shift + [\n",
    "Activate Previous Tab Bar\tCtrl + Shift + ,\n",
    "Show Left Sidebar\tCtrl + B\n",
    "Simple Interface\tCtrl + Shift + D\n",
    "Show Right Sidebar\tCtrl + J\n",
    "Toggle Sidebar Element\tAlt + 1\n",
    "Toggle Sidebar Element\tAlt + 2\n",
    "Toggle Sidebar Element\tAlt + 3\n",
    "Toggle Sidebar Element\tAlt + 4\n",
    "Toggle Sidebar Element\tAlt + 5\n",
    "Toggle Sidebar Element\tAlt + 6\n",
    "Toggle Sidebar Element\tAlt + 7\n",
    "Toggle Sidebar Element\tAlt + 8\n",
    "Toggle Sidebar Element\tAlt + 9\n",
    "Toggle Sidebar Element\tAlt + 0\n",
    "Toggle Sidebar Element\tAlt + Shift + 1\n",
    "Toggle Sidebar Element\tAlt + Shift + 2\n",
    "Toggle Sidebar Element\tAlt + Shift + 3\n",
    "Toggle Sidebar Element\tAlt + Shift + 4\n",
    "Toggle Sidebar Element\tAlt + Shift + 5\n",
    "Toggle Sidebar Element\tAlt + Shift + 6\n",
    "Toggle Sidebar Element\tAlt + Shift + 7\n",
    "Toggle Sidebar Element\tAlt + Shift + 8\n",
    "Toggle Sidebar Element\tAlt + Shift + 9\n",
    "Toggle Sidebar Element\tAlt + Shift + 0\n",
    "Activate Command Palette\tCtrl + Shift + C\n",
    "Show Keyboard Shortcuts…\tCtrl + Shift + H\n",
    "Print…\tCtrl + P\n",
    "Pause\tF9\n",
    "Next\tF10\n",
    "Debugger Panel\tCtrl + Shift + E\n",
    "Step In\tF11\n",
    "Step Out\tShift + F11\n",
    "Terminate\tShift + F9\n",
    "Save Notebook\tCtrl + S\n",
    "Save Notebook As…\tCtrl + Shift + S\n",
    "Extension Manager\tCtrl + Shift + X\n",
    "File Browser\tCtrl + Shift + F\n",
    "Show Contextual Help\tCtrl + I\n",
    "New Launcher\tCtrl + Shift + L\n",
    "Property Inspector\tCtrl + Shift + U\n",
    "Reopen Work_Ordner/Unterricht/2024.09.12/Anwendungsbeispiel.ipynb\tCtrl + Shift + T\n",
    "Search Tabs and Running Sessions\tCtrl + Alt + A\n",
    "Sessions and Tabs\tCtrl + Shift + B\n",
    "Settings Editor\tCtrl + ,\n",
    "Activate Previously Used Tab\tCtrl + Shift + '\n",
    "Table of Contents\tCtrl + Shift + K"
   ]
  },
  {
   "cell_type": "markdown",
   "id": "9180e806-028b-4365-84ff-a40d61ce21f5",
   "metadata": {},
   "source": [
    "### Wichtigsten Shortcuts"
   ]
  },
  {
   "cell_type": "code",
   "execution_count": null,
   "id": "1e6641e3-7af9-4aa8-bb1a-577660279bb1",
   "metadata": {},
   "outputs": [],
   "source": [
    "Keyboard Shortcuts\n",
    "Redo\tCtrl + Shift + Z\n",
    "Undo\tCtrl + Z\n",
    "Run Selected Cell\tShift + Enter\n",
    "Close Tab\tAlt + W\n",
    "Find Next\tCtrl + G\n",
    "Find Previous\tCtrl + Shift + G\n",
    "Find…\tCtrl + F\n",
    "Close and Shut Down Notebook…\tCtrl + Shift + Q\n",
    "Activate Next Tab\tCtrl + Shift + ]\n",
    "Activate Next Tab Bar\tCtrl + Shift + .\n",
    "Activate Previous Tab\tCtrl + Shift + [\n",
    "Activate Previous Tab Bar\tCtrl + Shift + ,\n",
    "Show Left Sidebar\tCtrl + B\n",
    "Simple Interface\tCtrl + Shift + D\n",
    "Show Right Sidebar\tCtrl + J\n",
    "Toggle Sidebar Element\tAlt + 1\n",
    "Toggle Sidebar Element\tAlt + 2\n",
    "Toggle Sidebar Element\tAlt + 3\n",
    "Toggle Sidebar Element\tAlt + 4\n",
    "Toggle Sidebar Element\tAlt + 5\n",
    "Toggle Sidebar Element\tAlt + 6\n",
    "Toggle Sidebar Element\tAlt + 7\n",
    "Toggle Sidebar Element\tAlt + 8\n",
    "Toggle Sidebar Element\tAlt + 9\n",
    "Toggle Sidebar Element\tAlt + 0\n",
    "Toggle Sidebar Element\tAlt + Shift + 1\n",
    "Toggle Sidebar Element\tAlt + Shift + 2\n",
    "Toggle Sidebar Element\tAlt + Shift + 3\n",
    "Toggle Sidebar Element\tAlt + Shift + 4\n",
    "Toggle Sidebar Element\tAlt + Shift + 5\n",
    "Toggle Sidebar Element\tAlt + Shift + 6\n",
    "Toggle Sidebar Element\tAlt + Shift + 7\n",
    "Toggle Sidebar Element\tAlt + Shift + 8\n",
    "Toggle Sidebar Element\tAlt + Shift + 9\n",
    "Toggle Sidebar Element\tAlt + Shift + 0\n",
    "Activate Command Palette\tCtrl + Shift + C\n",
    "Show Keyboard Shortcuts…\tCtrl + Shift + H\n",
    "Print…\tCtrl + P\n",
    "Pause\tF9\n",
    "Next\tF10\n",
    "Debugger Panel\tCtrl + Shift + E\n",
    "Step In\tF11\n",
    "Step Out\tShift + F11\n",
    "Terminate\tShift + F9\n",
    "Save Notebook\tCtrl + S\n",
    "Save Notebook As…\tCtrl + Shift + S\n",
    "Extension Manager\tCtrl + Shift + X\n",
    "File Browser\tCtrl + Shift + F\n",
    "Show Contextual Help\tCtrl + I\n",
    "New Launcher\tCtrl + Shift + L\n",
    "Property Inspector\tCtrl + Shift + U\n",
    "Reopen Work_Ordner/Unterricht/2024.09.12/Anwendungsbeispiel.ipynb\tCtrl + Shift + T\n",
    "Search Tabs and Running Sessions\tCtrl + Alt + A\n",
    "Sessions and Tabs\tCtrl + Shift + B\n",
    "Settings Editor\tCtrl + ,\n",
    "Activate Previously Used Tab\tCtrl + Shift + '\n",
    "Table of Contents\tCtrl + Shift + K\n"
   ]
  }
 ],
 "metadata": {
  "kernelspec": {
   "display_name": "Python 3 (ipykernel)",
   "language": "python",
   "name": "python3"
  },
  "language_info": {
   "codemirror_mode": {
    "name": "ipython",
    "version": 3
   },
   "file_extension": ".py",
   "mimetype": "text/x-python",
   "name": "python",
   "nbconvert_exporter": "python",
   "pygments_lexer": "ipython3",
   "version": "3.12.6"
  }
 },
 "nbformat": 4,
 "nbformat_minor": 5
}
