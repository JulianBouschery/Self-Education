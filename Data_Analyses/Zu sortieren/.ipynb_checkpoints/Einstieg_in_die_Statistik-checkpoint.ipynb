{
 "cells": [
  {
   "cell_type": "markdown",
   "metadata": {},
   "source": [
    "# Deskriptive Statistik\n",
    "Dieses Notebook zeigt Beispiele für grundlegende deskriptive Statistiken."
   ]
  },
  {
   "cell_type": "markdown",
   "metadata": {},
   "source": [
    "Einstieg: [Wikipedia: deskriptive Statistik](https://de.m.wikipedia.org/wiki/Deskriptive_Statistik)"
   ]
  },
  {
   "cell_type": "markdown",
   "metadata": {},
   "source": [
    "### Was ist eine deskriptive Statistik?"
   ]
  },
  {
   "cell_type": "markdown",
   "metadata": {},
   "source": [
    "Die deskriptive (auch: beschreibende) Statistik hat zum Ziel, empirische Daten (z. B. Ergebnisse aus Experimenten, Messwerte) durch Tabellen, Kennzahlen (auch: Maßzahlen oder Parameter) und Grafiken übersichtlich darzustellen und zu ordnen."
   ]
  },
  {
   "cell_type": "markdown",
   "metadata": {},
   "source": [
    "### Was für Statistiken gibt es noch?"
   ]
  },
  {
   "cell_type": "markdown",
   "metadata": {},
   "source": [
    "In der Statistik gibt es vier Hauptbereiche:\n",
    "\n",
    "1. **Deskriptive Statistik**: Beschreibt Daten ohne Verallgemeinerungen auf eine größere Population zu machen.\n",
    "2. **Explorative Statistik**: Sucht unbekannte Muster in den Daten und generiert neue Hypothesen.\n",
    "3. **Induktive (schließende) Statistik**: Prüft Hypothesen basierend auf Stichprobendaten und wendet Wahrscheinlichkeitsmodelle an, um Aussagen über die Gesamtpopulation zu treffen.\n",
    "4. **Inferenzstatistik**: Nutzt Stichproben, um Rückschlüsse auf die gesamte Population zu ziehen.\n",
    "\n",
    "Deskriptive Statistik verwendet keine stochastischen Modelle, während die induktive und Inferenzstatistik auf diesen basieren und Fehlerwahrscheinlichkeiten berücksichtigen."
   ]
  },
  {
   "cell_type": "markdown",
   "metadata": {},
   "source": [
    "Einstieg: https://datatab.de/tutorial/deskriptive-inferenz-statistik\n",
    "\n",
    "\n",
    "Was hat das mit der Grundgesamtheit und der Stichprobe auf sich?\n",
    "\n"
   ]
  },
  {
   "cell_type": "markdown",
   "metadata": {},
   "source": [
    "![](inferenz_deskriptiv.png)"
   ]
  },
  {
   "cell_type": "markdown",
   "metadata": {},
   "source": [
    "### Dichte der Daten:"
   ]
  },
  {
   "cell_type": "markdown",
   "metadata": {},
   "source": [
    "In der deskriptive Statistik gibt es drei Methoden zur Datenpräsentation:\n",
    "\n",
    "1. **Tabellen**: Daten in Zeilen und Spalten, bei großen Datensätzen schwer überschaubar.\n",
    "2. **Diagramme**: Grafisch übersichtlich, aber oft mit Informationsverlust.\n",
    "3. **Parameter**: Beschreiben Datenaspekte mit einzelnen Werten, mehrere Parameter nötig, um Informationsverlust auszugleichen."
   ]
  },
  {
   "cell_type": "markdown",
   "metadata": {},
   "source": [
    "\n",
    "\n",
    "| **Kriterium**          | **Tabelle** | **Diagramm** | **Parameter** |\n",
    "|------------------------|-------------|--------------|---------------|\n",
    "| Aggregation der Daten   | niedrig     | mittel       | hoch          |\n",
    "| Übersichtlichkeit       | niedrig     | mittel       | hoch          |\n",
    "| Informationsgehalt      | hoch        | mittel       | niedrig       |\n"
   ]
  },
  {
   "cell_type": "markdown",
   "metadata": {},
   "source": [
    "## Daten\n",
    "In diesem Beispiel betrachten wir eine fiktive Datentabelle mit den folgenden Variablen:\n",
    "- **Alter** (in Jahren)\n",
    "- **Einkommen** (in EUR pro Jahr)\n",
    "- **Arbeitsstunden pro Woche**\n"
   ]
  },
  {
   "cell_type": "code",
   "execution_count": 2,
   "metadata": {},
   "outputs": [
    {
     "data": {
      "text/html": [
       "<div>\n",
       "<style scoped>\n",
       "    .dataframe tbody tr th:only-of-type {\n",
       "        vertical-align: middle;\n",
       "    }\n",
       "\n",
       "    .dataframe tbody tr th {\n",
       "        vertical-align: top;\n",
       "    }\n",
       "\n",
       "    .dataframe thead th {\n",
       "        text-align: right;\n",
       "    }\n",
       "</style>\n",
       "<table border=\"1\" class=\"dataframe\">\n",
       "  <thead>\n",
       "    <tr style=\"text-align: right;\">\n",
       "      <th></th>\n",
       "      <th>Alter</th>\n",
       "      <th>Einkommen</th>\n",
       "      <th>Arbeitsstunden_pro_Woche</th>\n",
       "    </tr>\n",
       "  </thead>\n",
       "  <tbody>\n",
       "    <tr>\n",
       "      <th>0</th>\n",
       "      <td>23</td>\n",
       "      <td>30000</td>\n",
       "      <td>40</td>\n",
       "    </tr>\n",
       "    <tr>\n",
       "      <th>1</th>\n",
       "      <td>45</td>\n",
       "      <td>45000</td>\n",
       "      <td>50</td>\n",
       "    </tr>\n",
       "    <tr>\n",
       "      <th>2</th>\n",
       "      <td>31</td>\n",
       "      <td>32000</td>\n",
       "      <td>40</td>\n",
       "    </tr>\n",
       "    <tr>\n",
       "      <th>3</th>\n",
       "      <td>35</td>\n",
       "      <td>40000</td>\n",
       "      <td>38</td>\n",
       "    </tr>\n",
       "    <tr>\n",
       "      <th>4</th>\n",
       "      <td>50</td>\n",
       "      <td>60000</td>\n",
       "      <td>60</td>\n",
       "    </tr>\n",
       "    <tr>\n",
       "      <th>5</th>\n",
       "      <td>42</td>\n",
       "      <td>52000</td>\n",
       "      <td>55</td>\n",
       "    </tr>\n",
       "    <tr>\n",
       "      <th>6</th>\n",
       "      <td>29</td>\n",
       "      <td>31000</td>\n",
       "      <td>40</td>\n",
       "    </tr>\n",
       "    <tr>\n",
       "      <th>7</th>\n",
       "      <td>37</td>\n",
       "      <td>47000</td>\n",
       "      <td>48</td>\n",
       "    </tr>\n",
       "    <tr>\n",
       "      <th>8</th>\n",
       "      <td>33</td>\n",
       "      <td>35000</td>\n",
       "      <td>42</td>\n",
       "    </tr>\n",
       "    <tr>\n",
       "      <th>9</th>\n",
       "      <td>28</td>\n",
       "      <td>38000</td>\n",
       "      <td>45</td>\n",
       "    </tr>\n",
       "  </tbody>\n",
       "</table>\n",
       "</div>"
      ],
      "text/plain": [
       "   Alter  Einkommen  Arbeitsstunden_pro_Woche\n",
       "0     23      30000                        40\n",
       "1     45      45000                        50\n",
       "2     31      32000                        40\n",
       "3     35      40000                        38\n",
       "4     50      60000                        60\n",
       "5     42      52000                        55\n",
       "6     29      31000                        40\n",
       "7     37      47000                        48\n",
       "8     33      35000                        42\n",
       "9     28      38000                        45"
      ]
     },
     "execution_count": 2,
     "metadata": {},
     "output_type": "execute_result"
    }
   ],
   "source": [
    "import pandas as pd\n",
    "\n",
    "# Beispiel-Daten\n",
    "data = {\n",
    "    'Alter': [23, 45, 31, 35, 50, 42, 29, 37, 33, 28],\n",
    "    'Einkommen': [30000, 45000, 32000, 40000, 60000, 52000, 31000, 47000, 35000, 38000],\n",
    "    'Arbeitsstunden_pro_Woche': [40, 50, 40, 38, 60, 55, 40, 48, 42, 45]\n",
    "}\n",
    "\n",
    "df = pd.DataFrame(data)\n",
    "df"
   ]
  },
  {
   "cell_type": "markdown",
   "metadata": {},
   "source": [
    "## Deskriptive Statistiken\n",
    "Im nächsten Schritt berechnen wir einige grundlegende deskriptive Statistiken wie Mittelwert, Median, Standardabweichung usw."
   ]
  },
  {
   "cell_type": "code",
   "execution_count": 3,
   "metadata": {},
   "outputs": [
    {
     "data": {
      "text/html": [
       "<div>\n",
       "<style scoped>\n",
       "    .dataframe tbody tr th:only-of-type {\n",
       "        vertical-align: middle;\n",
       "    }\n",
       "\n",
       "    .dataframe tbody tr th {\n",
       "        vertical-align: top;\n",
       "    }\n",
       "\n",
       "    .dataframe thead th {\n",
       "        text-align: right;\n",
       "    }\n",
       "</style>\n",
       "<table border=\"1\" class=\"dataframe\">\n",
       "  <thead>\n",
       "    <tr style=\"text-align: right;\">\n",
       "      <th></th>\n",
       "      <th>Alter</th>\n",
       "      <th>Einkommen</th>\n",
       "      <th>Arbeitsstunden_pro_Woche</th>\n",
       "    </tr>\n",
       "  </thead>\n",
       "  <tbody>\n",
       "    <tr>\n",
       "      <th>count</th>\n",
       "      <td>10.000000</td>\n",
       "      <td>10.000000</td>\n",
       "      <td>10.000000</td>\n",
       "    </tr>\n",
       "    <tr>\n",
       "      <th>mean</th>\n",
       "      <td>35.300000</td>\n",
       "      <td>41000.000000</td>\n",
       "      <td>45.800000</td>\n",
       "    </tr>\n",
       "    <tr>\n",
       "      <th>std</th>\n",
       "      <td>8.340663</td>\n",
       "      <td>9899.494937</td>\n",
       "      <td>7.345445</td>\n",
       "    </tr>\n",
       "    <tr>\n",
       "      <th>min</th>\n",
       "      <td>23.000000</td>\n",
       "      <td>30000.000000</td>\n",
       "      <td>38.000000</td>\n",
       "    </tr>\n",
       "    <tr>\n",
       "      <th>25%</th>\n",
       "      <td>29.500000</td>\n",
       "      <td>32750.000000</td>\n",
       "      <td>40.000000</td>\n",
       "    </tr>\n",
       "    <tr>\n",
       "      <th>50%</th>\n",
       "      <td>34.000000</td>\n",
       "      <td>39000.000000</td>\n",
       "      <td>43.500000</td>\n",
       "    </tr>\n",
       "    <tr>\n",
       "      <th>75%</th>\n",
       "      <td>40.750000</td>\n",
       "      <td>46500.000000</td>\n",
       "      <td>49.500000</td>\n",
       "    </tr>\n",
       "    <tr>\n",
       "      <th>max</th>\n",
       "      <td>50.000000</td>\n",
       "      <td>60000.000000</td>\n",
       "      <td>60.000000</td>\n",
       "    </tr>\n",
       "  </tbody>\n",
       "</table>\n",
       "</div>"
      ],
      "text/plain": [
       "           Alter     Einkommen  Arbeitsstunden_pro_Woche\n",
       "count  10.000000     10.000000                 10.000000\n",
       "mean   35.300000  41000.000000                 45.800000\n",
       "std     8.340663   9899.494937                  7.345445\n",
       "min    23.000000  30000.000000                 38.000000\n",
       "25%    29.500000  32750.000000                 40.000000\n",
       "50%    34.000000  39000.000000                 43.500000\n",
       "75%    40.750000  46500.000000                 49.500000\n",
       "max    50.000000  60000.000000                 60.000000"
      ]
     },
     "execution_count": 3,
     "metadata": {},
     "output_type": "execute_result"
    }
   ],
   "source": [
    "# Deskriptive Statistiken\n",
    "df.describe()"
   ]
  },
  {
   "cell_type": "markdown",
   "metadata": {},
   "source": [
    "## Interpretation der Ergebnisse\n",
    "- **Mittelwert (mean):** Der durchschnittliche Wert jeder Spalte.\n",
    "- **Standardabweichung (std):** Wie stark die Datenpunkte vom Mittelwert abweichen.\n",
    "- **Minimum (min):** Der kleinste Wert jeder Spalte.\n",
    "- **25% (1. Quartil):** 25% der Werte sind kleiner als dieser Wert.\n",
    "- **Median (50%):** Der mittlere Wert der Daten. 50% der Werte liegen darunter, 50% darüber.\n",
    "- **Maximum (max):** Der größte Wert jeder Spalte."
   ]
  },
  {
   "cell_type": "markdown",
   "metadata": {},
   "source": [
    "\n",
    "## Statistische Kennzahlen\n",
    "\n",
    "Wie berechnet man die wichtigsten statistischen Kennzahlen?\n"
   ]
  },
  {
   "cell_type": "code",
   "execution_count": 1,
   "metadata": {},
   "outputs": [
    {
     "name": "stdout",
     "output_type": "stream",
     "text": [
      "Der Type des Objekts \"np_list\" ist: <class 'numpy.ndarray'>\n",
      "Mittelwert: 30.0\n",
      "Standardabweichung (gerundet): 14.1421\n",
      "Minimum: 10\n",
      "25%-Quartil: 20.0\n"
     ]
    }
   ],
   "source": [
    "# Berechnung von Mittelwert, Standardabweichung, Minimum, Quartil 25%, Median und Maximum\n",
    "import numpy as np\n",
    "\n",
    "# Beispiel-Zahlenliste\n",
    "zahlen_liste = [10, 20, 30, 40, 50]\n",
    "\n",
    "np_list = np.array(zahlen_liste)\n",
    "print(f'Der Type des Objekts \"np_list\" ist: {type(np_list)}')\n",
    "\n",
    "\n",
    "# Berechnung der Werte\n",
    "mittelwert = np_list.mean()\n",
    "print(f\"Mittelwert: {mittelwert}\")\n",
    "\n",
    "median = np_list.\n",
    "\n",
    "std = np_list.std()\n",
    "print(f\"Standardabweichung (gerundet): {std:.4f}\")\n",
    "\n",
    "minimum = np_list.min()\n",
    "print(f\"Minimum: {minimum}\")\n",
    "\n",
    "quartil_25 = np.percentile(np_list, 25)\n",
    "print(f\"25%-Quartil: {quartil_25}\")\n",
    "# Das 25. Perzentils ist der Wert, unterhalb dessen 25% der Datenpunkte liegen."
   ]
  },
  {
   "cell_type": "code",
   "execution_count": null,
   "metadata": {},
   "outputs": [],
   "source": []
  }
 ],
 "metadata": {
  "kernelspec": {
   "display_name": "Python 3 (ipykernel)",
   "language": "python",
   "name": "python3"
  },
  "language_info": {
   "codemirror_mode": {
    "name": "ipython",
    "version": 3
   },
   "file_extension": ".py",
   "mimetype": "text/x-python",
   "name": "python",
   "nbconvert_exporter": "python",
   "pygments_lexer": "ipython3",
   "version": "3.12.6"
  }
 },
 "nbformat": 4,
 "nbformat_minor": 4
}
