{
 "cells": [
  {
   "cell_type": "markdown",
   "id": "c2ffd2c5-24c3-440b-a09b-673098a52948",
   "metadata": {},
   "source": [
    "# Data Analyst"
   ]
  },
  {
   "cell_type": "markdown",
   "id": "32d4ed5d-7fcc-4e31-be0b-e3abe599f9c9",
   "metadata": {},
   "source": [
    "[Prüfungen](Prüfungen.ipynb)"
   ]
  },
  {
   "cell_type": "markdown",
   "id": "1fbe8501-d38c-431e-ae4b-7e1b463829ea",
   "metadata": {},
   "source": [
    "[Pandas](Pandas.ipynb)"
   ]
  },
  {
   "cell_type": "markdown",
   "id": "a3e50ef3-49d7-4ce9-96f5-41d734660593",
   "metadata": {},
   "source": [
    "[Installationen für den Data-Kurs](Installation.ipynb)"
   ]
  },
  {
   "cell_type": "markdown",
   "id": "8261fcae-96b1-4702-8286-4be9595115f5",
   "metadata": {},
   "source": [
    "[Numerisches Python](Numerical_Python.ipynb)"
   ]
  },
  {
   "cell_type": "markdown",
   "id": "f10b9f3e-eae1-4ce8-898b-a95ad3b4759b",
   "metadata": {},
   "source": [
    "[Arrays](Arrays.ipynb)"
   ]
  },
  {
   "cell_type": "markdown",
   "id": "4ae7d382-83a9-4aa1-8c30-93ec6974934a",
   "metadata": {},
   "source": [
    "[Matrizen / Tensors](Matrizen_or_Tensor.ipynb)"
   ]
  },
  {
   "cell_type": "code",
   "execution_count": null,
   "id": "222a73a7-13bb-4d92-bc07-ddc815601dc4",
   "metadata": {},
   "outputs": [],
   "source": []
  }
 ],
 "metadata": {
  "kernelspec": {
   "display_name": "Python 3 (ipykernel)",
   "language": "python",
   "name": "python3"
  },
  "language_info": {
   "codemirror_mode": {
    "name": "ipython",
    "version": 3
   },
   "file_extension": ".py",
   "mimetype": "text/x-python",
   "name": "python",
   "nbconvert_exporter": "python",
   "pygments_lexer": "ipython3",
   "version": "3.12.6"
  }
 },
 "nbformat": 4,
 "nbformat_minor": 5
}
