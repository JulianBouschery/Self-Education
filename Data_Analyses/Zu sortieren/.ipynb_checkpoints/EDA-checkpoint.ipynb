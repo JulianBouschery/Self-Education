{
 "cells": [
  {
   "cell_type": "markdown",
   "id": "541e9086-21bf-4b59-95c0-f426519ff335",
   "metadata": {},
   "source": [
    "# EDA (Explorative-Daten-Analyse)"
   ]
  },
  {
   "cell_type": "code",
   "execution_count": null,
   "id": "e3f722b1-0ba7-4ce3-a8da-46b9ce687671",
   "metadata": {},
   "outputs": [],
   "source": []
  }
 ],
 "metadata": {
  "kernelspec": {
   "display_name": "Python 3 (ipykernel)",
   "language": "python",
   "name": "python3"
  },
  "language_info": {
   "codemirror_mode": {
    "name": "ipython",
    "version": 3
   },
   "file_extension": ".py",
   "mimetype": "text/x-python",
   "name": "python",
   "nbconvert_exporter": "python",
   "pygments_lexer": "ipython3",
   "version": "3.12.6"
  }
 },
 "nbformat": 4,
 "nbformat_minor": 5
}
