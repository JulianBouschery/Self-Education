{
 "cells": [
  {
   "cell_type": "markdown",
   "id": "3c7c091a-ff01-44d5-a674-539aedd893b2",
   "metadata": {},
   "source": [
    "# linspace()-Funktion"
   ]
  },
  {
   "cell_type": "markdown",
   "id": "49be57af-8e7b-40c5-954c-844a492b1efb",
   "metadata": {},
   "source": [
    "### Übersicht"
   ]
  },
  {
   "cell_type": "markdown",
   "id": "6435d630-95c4-4267-b1ca-192dbc2dca6b",
   "metadata": {},
   "source": [
    "`np.linspace()` ist eine Funktion in NumPy, die ein Array mit **gleichmäßig verteilten Werten** zwischen einem Start- und einem Endwert erstellt. Du gibst dabei die Anzahl der zu generierenden Werte an, nicht die Schrittweite, wie bei `np.arange()`. (Die Schrittweite wird automatisch angepasst um die anderen Parameter zu erfüllen.)"
   ]
  },
  {
   "cell_type": "markdown",
   "id": "9d467385-c25c-438a-9d27-0faf8962215d",
   "metadata": {},
   "source": [
    "### Syntax: "
   ]
  },
  {
   "cell_type": "markdown",
   "id": "dc728623-10bf-4a81-8ab3-d00e96222992",
   "metadata": {},
   "source": [
    "`linspace` `(` `start` `,` `stop` `,` `num` `,` `endpoint` `,` `restep` `)`\n",
    "\n",
    "```python\n",
    "linspace(start, stop, num=50, endpoint=True, restep=False])\n",
    "```"
   ]
  },
  {
   "cell_type": "markdown",
   "id": "81571a1e-f1a7-42b8-8675-00e432ec64cf",
   "metadata": {},
   "source": [
    "### Zusammenfassung"
   ]
  },
  {
   "cell_type": "markdown",
   "id": "d4c0a27d-0889-4f3a-9591-a32eb6afbd2b",
   "metadata": {},
   "source": [
    "- **start:** Der Startwert des Bereichs.\n",
    "- **stop:** Der Endwert des Bereichs.\n",
    "- **num:** Die Anzahl der zu erzeugenden Werte (Default = 50).\n",
    "- **endpoint:** Ob der Endwert eingeschlossen werden soll (Default = True).\n",
    "- **retstep:** Wenn True, gibt die Funktion zusätzlich die Schrittweite zurück."
   ]
  },
  {
   "cell_type": "markdown",
   "id": "0a5198ad-0ac6-4081-bdc4-69d57089dd6b",
   "metadata": {},
   "source": [
    "### Wann verwendet man `np.linspace()`?\n",
    "- Wenn du eine feste Anzahl von Punkten zwischen einem Start- und Endwert brauchst, z.B. bei der Erstellung von Plots.\n",
    "- Wenn es wichtig ist, dass der Endwert einbezogen wird oder nicht.\n",
    "  \n",
    "### Fazit:\n",
    "- **np.arange()** ist gut, wenn du die Schrittweite angibst.\n",
    "- **np.linspace()** ist gut, wenn du die Anzahl der Werte zwischen zwei Punkten gleichmäßig verteilt haben möchtest."
   ]
  },
  {
   "cell_type": "markdown",
   "id": "dfffb8e4-58d3-4e48-bc1e-dccdbbf8f347",
   "metadata": {},
   "source": [
    "## Beispiele:"
   ]
  },
  {
   "cell_type": "markdown",
   "id": "731cfb16-61e3-4374-b74c-432678300420",
   "metadata": {},
   "source": [
    "### Beispiel 1:"
   ]
  },
  {
   "cell_type": "code",
   "execution_count": 5,
   "id": "ca352b61-3830-422b-84d6-85154a112260",
   "metadata": {},
   "outputs": [
    {
     "name": "stdout",
     "output_type": "stream",
     "text": [
      "[0.   0.25 0.5  0.75 1.  ]\n"
     ]
    }
   ],
   "source": [
    "import numpy as np\n",
    "\n",
    "# Erzeugt 5 gleichmäßig verteilte Werte zwischen 0 und 1\n",
    "array_1 = np.linspace(0, 1, 5)\n",
    "print(array_1)"
   ]
  },
  {
   "cell_type": "markdown",
   "id": "30b64d79-7b3e-469d-ad50-306e72322f57",
   "metadata": {},
   "source": [
    "### Beispiel 2: Ohne Endpunkt (`endpoint=False`)"
   ]
  },
  {
   "cell_type": "code",
   "execution_count": null,
   "id": "9a4944a9-0f34-408e-acc0-e3e3385eb70c",
   "metadata": {},
   "outputs": [
    {
     "name": "stdout",
     "output_type": "stream",
     "text": [
      "[0.  0.2 0.4 0.6 0.8]\n"
     ]
    }
   ],
   "source": [
    "import numpy as np\n",
    "\n",
    "# Erzeugt 5 Werte zwischen 0 und 1, ohne den Endpunkt (1)\n",
    "array_2 = np.linspace(0, 1, 5, endpoint=False)\n",
    "print(array_2)"
   ]
  },
  {
   "cell_type": "markdown",
   "id": "b39e5135-6ea8-4b80-bda4-a18f488dcabf",
   "metadata": {},
   "source": [
    "### Beispiel 3: Rückgabe der Schrittweite (`retstep=True`)"
   ]
  },
  {
   "cell_type": "code",
   "execution_count": null,
   "id": "bece5d97-04aa-4a5d-bc40-7923cc96fad6",
   "metadata": {},
   "outputs": [
    {
     "name": "stdout",
     "output_type": "stream",
     "text": [
      "[0.   0.25 0.5  0.75 1.  ]\n",
      "Schrittweite: 0.25\n"
     ]
    }
   ],
   "source": [
    "import numpy as np\n",
    "\n",
    "# Erzeugt 5 Werte zwischen 0 und 1 und gibt die Schrittweite zurück\n",
    "array_3, step = np.linspace(0, 1, 5, retstep=True)\n",
    "print(array_3)\n",
    "print(\"Schrittweite:\", step)"
   ]
  },
  {
   "cell_type": "code",
   "execution_count": null,
   "id": "92b257b1-763d-4a03-b168-3201210399a9",
   "metadata": {},
   "outputs": [],
   "source": []
  }
 ],
 "metadata": {
  "kernelspec": {
   "display_name": "Python 3 (ipykernel)",
   "language": "python",
   "name": "python3"
  },
  "language_info": {
   "codemirror_mode": {
    "name": "ipython",
    "version": 3
   },
   "file_extension": ".py",
   "mimetype": "text/x-python",
   "name": "python",
   "nbconvert_exporter": "python",
   "pygments_lexer": "ipython3",
   "version": "3.12.6"
  }
 },
 "nbformat": 4,
 "nbformat_minor": 5
}
