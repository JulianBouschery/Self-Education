{
 "cells": [
  {
   "cell_type": "markdown",
   "id": "604aeb8f-0b16-4d5e-9ea3-2fac6c501473",
   "metadata": {},
   "source": [
    "# Grouping mit df.groupby()"
   ]
  },
  {
   "cell_type": "markdown",
   "id": "d923a19d-bea2-4ed1-9787-24a64db4b90e",
   "metadata": {},
   "source": [
    "Grouping bezieht sich auf die Gruppierung von Daten nach bestimmten Kategorien zur Berechnung aggregierter Statistiken."
   ]
  },
  {
   "cell_type": "code",
   "execution_count": 2,
   "id": "4ad3ef5a-c692-4ae7-867d-aec65e497602",
   "metadata": {},
   "outputs": [
    {
     "data": {
      "text/html": [
       "<div>\n",
       "<style scoped>\n",
       "    .dataframe tbody tr th:only-of-type {\n",
       "        vertical-align: middle;\n",
       "    }\n",
       "\n",
       "    .dataframe tbody tr th {\n",
       "        vertical-align: top;\n",
       "    }\n",
       "\n",
       "    .dataframe thead th {\n",
       "        text-align: right;\n",
       "    }\n",
       "</style>\n",
       "<table border=\"1\" class=\"dataframe\">\n",
       "  <thead>\n",
       "    <tr style=\"text-align: right;\">\n",
       "      <th></th>\n",
       "      <th>Name</th>\n",
       "      <th>Gehalt</th>\n",
       "    </tr>\n",
       "  </thead>\n",
       "  <tbody>\n",
       "    <tr>\n",
       "      <th>0</th>\n",
       "      <td>Alice</td>\n",
       "      <td>70000</td>\n",
       "    </tr>\n",
       "    <tr>\n",
       "      <th>1</th>\n",
       "      <td>Bob</td>\n",
       "      <td>120000</td>\n",
       "    </tr>\n",
       "    <tr>\n",
       "      <th>2</th>\n",
       "      <td>Charlie</td>\n",
       "      <td>90000</td>\n",
       "    </tr>\n",
       "    <tr>\n",
       "      <th>3</th>\n",
       "      <td>David</td>\n",
       "      <td>80000</td>\n",
       "    </tr>\n",
       "    <tr>\n",
       "      <th>4</th>\n",
       "      <td>Eva</td>\n",
       "      <td>60000</td>\n",
       "    </tr>\n",
       "  </tbody>\n",
       "</table>\n",
       "</div>"
      ],
      "text/plain": [
       "      Name  Gehalt\n",
       "0    Alice   70000\n",
       "1      Bob  120000\n",
       "2  Charlie   90000\n",
       "3    David   80000\n",
       "4      Eva   60000"
      ]
     },
     "execution_count": 2,
     "metadata": {},
     "output_type": "execute_result"
    }
   ],
   "source": [
    "import pandas as pd\n",
    "\n",
    "# Beispiel-Datensatz\n",
    "data = {'Name': ['Alice', 'Bob', 'Charlie', 'David', 'Eva'],\n",
    "        'Alter': [23, 35, 45, 28, 22],\n",
    "        'Gehalt': [70000, 120000, 90000, 80000, 60000],\n",
    "        'Abteilung': ['HR', 'IT', 'IT', 'Marketing', 'HR']}\n",
    "\n",
    "df = pd.DataFrame(data)\n",
    "\n",
    "# Subsetting: Nur bestimmte Spalten anzeigen\n",
    "df_subset = df[['Name', 'Gehalt']]\n",
    "df_subset"
   ]
  },
  {
   "cell_type": "code",
   "execution_count": 3,
   "id": "758fca14-3d3a-4950-b86b-00ab77751a6f",
   "metadata": {},
   "outputs": [
    {
     "data": {
      "text/plain": [
       "Abteilung\n",
       "HR            65000.0\n",
       "IT           105000.0\n",
       "Marketing     80000.0\n",
       "Name: Gehalt, dtype: float64"
      ]
     },
     "execution_count": 3,
     "metadata": {},
     "output_type": "execute_result"
    }
   ],
   "source": [
    "# Gruppieren nach Abteilung und Durchschnittsgehalt berechnen\n",
    "df_grouped = df.groupby('Abteilung')['Gehalt'].mean()\n",
    "df_grouped\n"
   ]
  },
  {
   "cell_type": "code",
   "execution_count": 5,
   "id": "5fa31887-e55f-46a8-8bfd-109451737708",
   "metadata": {},
   "outputs": [
    {
     "data": {
      "text/plain": [
       "Abteilung\n",
       "HR            7071.067812\n",
       "IT           21213.203436\n",
       "Marketing             NaN\n",
       "Name: Gehalt, dtype: float64"
      ]
     },
     "execution_count": 5,
     "metadata": {},
     "output_type": "execute_result"
    }
   ],
   "source": [
    "# Gruppieren nach Abteilung Standardabweichung berechnen\n",
    "df_grouped = df.groupby('Abteilung')['Gehalt'].std()\n",
    "df_grouped\n"
   ]
  },
  {
   "cell_type": "code",
   "execution_count": null,
   "id": "68f98f55-fc29-4b83-88a9-e6515514ed11",
   "metadata": {},
   "outputs": [],
   "source": []
  }
 ],
 "metadata": {
  "kernelspec": {
   "display_name": "Python 3 (ipykernel)",
   "language": "python",
   "name": "python3"
  },
  "language_info": {
   "codemirror_mode": {
    "name": "ipython",
    "version": 3
   },
   "file_extension": ".py",
   "mimetype": "text/x-python",
   "name": "python",
   "nbconvert_exporter": "python",
   "pygments_lexer": "ipython3",
   "version": "3.12.6"
  }
 },
 "nbformat": 4,
 "nbformat_minor": 5
}
