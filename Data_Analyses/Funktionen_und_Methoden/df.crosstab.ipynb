{
 "cells": [
  {
   "cell_type": "markdown",
   "id": "2df5b21d-890f-4add-950e-f4685549146e",
   "metadata": {},
   "source": [
    "# Kreuztabelle"
   ]
  },
  {
   "cell_type": "code",
   "execution_count": 1,
   "id": "0a641e09-2421-4146-82a4-90b561bc149f",
   "metadata": {},
   "outputs": [],
   "source": [
    "import pandas as pd\n",
    "\n",
    "# Beispiel-Datensatz\n",
    "data = {'Name': ['Alice', 'Bob', 'Charlie', 'David', 'Eva'],\n",
    "        'Alter': [23, 35, 45, 28, 22],\n",
    "        'Gehalt': [70000, 120000, 90000, 80000, 60000],\n",
    "        'Abteilung': ['HR', 'IT', 'IT', 'Marketing', 'HR']}\n",
    "\n",
    "df = pd.DataFrame(data)\n"
   ]
  },
  {
   "cell_type": "code",
   "execution_count": 2,
   "id": "8985bb07-0f80-4b94-95ef-7bdda4165ed7",
   "metadata": {
    "scrolled": true
   },
   "outputs": [
    {
     "data": {
      "text/html": [
       "<div>\n",
       "<style scoped>\n",
       "    .dataframe tbody tr th:only-of-type {\n",
       "        vertical-align: middle;\n",
       "    }\n",
       "\n",
       "    .dataframe tbody tr th {\n",
       "        vertical-align: top;\n",
       "    }\n",
       "\n",
       "    .dataframe thead th {\n",
       "        text-align: right;\n",
       "    }\n",
       "</style>\n",
       "<table border=\"1\" class=\"dataframe\">\n",
       "  <thead>\n",
       "    <tr style=\"text-align: right;\">\n",
       "      <th>Name</th>\n",
       "      <th>Alice</th>\n",
       "      <th>Bob</th>\n",
       "      <th>Charlie</th>\n",
       "      <th>David</th>\n",
       "      <th>Eva</th>\n",
       "    </tr>\n",
       "    <tr>\n",
       "      <th>Abteilung</th>\n",
       "      <th></th>\n",
       "      <th></th>\n",
       "      <th></th>\n",
       "      <th></th>\n",
       "      <th></th>\n",
       "    </tr>\n",
       "  </thead>\n",
       "  <tbody>\n",
       "    <tr>\n",
       "      <th>HR</th>\n",
       "      <td>1</td>\n",
       "      <td>0</td>\n",
       "      <td>0</td>\n",
       "      <td>0</td>\n",
       "      <td>1</td>\n",
       "    </tr>\n",
       "    <tr>\n",
       "      <th>IT</th>\n",
       "      <td>0</td>\n",
       "      <td>1</td>\n",
       "      <td>1</td>\n",
       "      <td>0</td>\n",
       "      <td>0</td>\n",
       "    </tr>\n",
       "    <tr>\n",
       "      <th>Marketing</th>\n",
       "      <td>0</td>\n",
       "      <td>0</td>\n",
       "      <td>0</td>\n",
       "      <td>1</td>\n",
       "      <td>0</td>\n",
       "    </tr>\n",
       "  </tbody>\n",
       "</table>\n",
       "</div>"
      ],
      "text/plain": [
       "Name       Alice  Bob  Charlie  David  Eva\n",
       "Abteilung                                 \n",
       "HR             1    0        0      0    1\n",
       "IT             0    1        1      0    0\n",
       "Marketing      0    0        0      1    0"
      ]
     },
     "execution_count": 2,
     "metadata": {},
     "output_type": "execute_result"
    }
   ],
   "source": [
    "# Kreuztabelle: Anzahl der Personen in jeder Abteilung\n",
    "cross_tab = pd.crosstab(df['Abteilung'], df['Name'])\n",
    "cross_tab\n"
   ]
  },
  {
   "cell_type": "markdown",
   "id": "164d1757-86e1-4e5e-a730-6e77b1d62360",
   "metadata": {},
   "source": [
    "Vergleicht alles mit allem"
   ]
  },
  {
   "cell_type": "code",
   "execution_count": null,
   "id": "8b3e551d-552f-4494-be64-9022dc1613fa",
   "metadata": {},
   "outputs": [],
   "source": []
  }
 ],
 "metadata": {
  "kernelspec": {
   "display_name": "Python 3 (ipykernel)",
   "language": "python",
   "name": "python3"
  },
  "language_info": {
   "codemirror_mode": {
    "name": "ipython",
    "version": 3
   },
   "file_extension": ".py",
   "mimetype": "text/x-python",
   "name": "python",
   "nbconvert_exporter": "python",
   "pygments_lexer": "ipython3",
   "version": "3.12.6"
  }
 },
 "nbformat": 4,
 "nbformat_minor": 5
}
