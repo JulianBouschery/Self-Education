{
 "cells": [
  {
   "cell_type": "markdown",
   "id": "30094499-fd61-4625-a45e-2509de3c91e0",
   "metadata": {},
   "source": [
    "# Inhaltsverzeichnis Funktionen und Methoden"
   ]
  },
  {
   "cell_type": "markdown",
   "id": "09be3ef3-701c-4e21-b528-004e878bc9c5",
   "metadata": {},
   "source": [
    "[df.loc()](df.loc.ipynb)"
   ]
  },
  {
   "cell_type": "markdown",
   "id": "25045b2d-0981-4c1b-abdf-f1eaa74aea64",
   "metadata": {},
   "source": [
    "[pd.Series()](pd.Series.ipynb)"
   ]
  },
  {
   "cell_type": "markdown",
   "id": "3427416d-5880-4922-bed7-5b31be7c00de",
   "metadata": {},
   "source": [
    "[pd.DataFrame()](pd.DataFrame.ipynb)"
   ]
  },
  {
   "cell_type": "markdown",
   "id": "e0ffb9af-e781-4dd4-aa76-b280419d497e",
   "metadata": {},
   "source": [
    "[df.iloc()](df.iloc.ipynb)"
   ]
  },
  {
   "cell_type": "markdown",
   "id": "adccd95a-9fb4-4b7c-a6d1-86f2b5b3fcc0",
   "metadata": {},
   "source": [
    "[df.groupby()](df.groupby.ipynb)"
   ]
  },
  {
   "cell_type": "code",
   "execution_count": null,
   "id": "bb084816-a83c-47f8-a613-9f7932534419",
   "metadata": {},
   "outputs": [],
   "source": []
  }
 ],
 "metadata": {
  "kernelspec": {
   "display_name": "Python 3 (ipykernel)",
   "language": "python",
   "name": "python3"
  },
  "language_info": {
   "codemirror_mode": {
    "name": "ipython",
    "version": 3
   },
   "file_extension": ".py",
   "mimetype": "text/x-python",
   "name": "python",
   "nbconvert_exporter": "python",
   "pygments_lexer": "ipython3",
   "version": "3.12.6"
  }
 },
 "nbformat": 4,
 "nbformat_minor": 5
}
