{
 "cells": [
  {
   "cell_type": "markdown",
   "id": "6c573c0c-f8bd-44d6-9ef1-2901cb9abda5",
   "metadata": {},
   "source": [
    "## Einfachheit von Numpy"
   ]
  },
  {
   "cell_type": "code",
   "execution_count": 13,
   "id": "ab88ad7d-0984-433f-929b-782a21e545b0",
   "metadata": {},
   "outputs": [
    {
     "name": "stdout",
     "output_type": "stream",
     "text": [
      "[20.8 21.9 22.5 22.7 22.3 21.  21.2 20.9 20.1]\n",
      "<class 'numpy.ndarray'>\n"
     ]
    }
   ],
   "source": [
    "import numpy as np\n",
    "\n",
    "cvalues = [20.8, 21.9, 22.5, 22.7, 22.3, 21.0, 21.2, 20.9, 20.1] # Liste in Python\n",
    "\n",
    "C = np.array(cvalues) # Array mit gleichen werten\n",
    "print(C)\n",
    "print(type(C))"
   ]
  },
  {
   "cell_type": "code",
   "execution_count": 3,
   "id": "425553e3-5080-428b-a13d-38bcee8db742",
   "metadata": {},
   "outputs": [
    {
     "name": "stdout",
     "output_type": "stream",
     "text": [
      "[69.44 71.42 72.5  72.86 72.14 69.8  70.16 69.62 68.18]\n"
     ]
    }
   ],
   "source": [
    "print(C*9/5+32) "
   ]
  },
  {
   "cell_type": "markdown",
   "id": "e0a32c7b-48b8-4a7b-9471-7a6f04c2a04d",
   "metadata": {},
   "source": [
    "Das Array kann einfach mit normalen Rechenoperationen kombiniert werde, ohne es vorher umformen oder in einen anderen Datentypen konvertieren zu müssen."
   ]
  },
  {
   "cell_type": "markdown",
   "id": "04ba2280-8b93-4245-a878-c86e6badba28",
   "metadata": {},
   "source": [
    "## Grafische Darstellung mit matplotlib"
   ]
  },
  {
   "cell_type": "code",
   "execution_count": 8,
   "id": "2885abdf-69b8-4790-be95-e2d761c11071",
   "metadata": {},
   "outputs": [],
   "source": [
    "%matplotlib inline"
   ]
  },
  {
   "cell_type": "code",
   "execution_count": 9,
   "id": "4e294751-e636-44a5-871d-536bfe9a6e09",
   "metadata": {},
   "outputs": [
    {
     "data": {
      "text/plain": [
       "[<matplotlib.lines.Line2D at 0x1f3fa9bf1d0>]"
      ]
     },
     "execution_count": 9,
     "metadata": {},
     "output_type": "execute_result"
    },
    {
     "data": {
      "image/png": "[encoded data removed]",
      "text/plain": [
       "<Figure size 640x480 with 1 Axes>"
      ]
     },
     "metadata": {},
     "output_type": "display_data"
    }
   ],
   "source": [
    "import matplotlib.pyplot as plt\n",
    "plt.plot(C)"
   ]
  },
  {
   "cell_type": "markdown",
   "id": "02217be0-6bb0-4c29-93e4-688b08bf01d5",
   "metadata": {},
   "source": [
    "## Geringerer Speicherverbrauch von Arrays "
   ]
  },
  {
   "cell_type": "code",
   "execution_count": 33,
   "id": "baeb57ec-99e1-4290-81e3-7b2e59f707d8",
   "metadata": {},
   "outputs": [],
   "source": [
    "from sys import getsizeof as size"
   ]
  },
  {
   "cell_type": "markdown",
   "id": "0bb5a3e2-4c5f-4436-8c90-4a26c1f1a508",
   "metadata": {},
   "source": [
    "Die Speichergröße ist in Bytes."
   ]
  },
  {
   "cell_type": "markdown",
   "id": "0e59176f-3b07-4e85-9898-f8d7e13bb878",
   "metadata": {},
   "source": [
    "lst = [24, 12, 57]\n",
    "size_of_list_object = size(lst)\n",
    "size_of_element = len(lst) * size(lst[0]) # 24, 12, 57\n",
    "total_list_size = size_of_list_object + size_of_element\n",
    "\n",
    "print(\"Größe ohne Größe der Elemente: \", size_of_list_object)\n",
    "print(\"Größe aller Elemente: \", size_of_element)\n",
    "print(\"Gesamtgröße der Liste: \", total_list_size)"
   ]
  },
  {
   "cell_type": "code",
   "execution_count": 34,
   "id": "7ddd9d1f-6914-4cae-9d15-81769609c6ae",
   "metadata": {},
   "outputs": [
    {
     "name": "stdout",
     "output_type": "stream",
     "text": [
      "Größe ohne Größe der Elemente:  88\n",
      "Größe aller Elemente:  112\n",
      "Gesamtgröße der Liste:  200\n",
      "Speicherbedarf einer leeren Liste 56\n"
     ]
    }
   ],
   "source": [
    "lst = [24, 12, 57, 42]\n",
    "size_of_list_object = size(lst)\n",
    "size_of_element = len(lst) * size(lst[0]) # 24, 12, 57, 42\n",
    "total_list_size = size_of_list_object + size_of_element\n",
    "\n",
    "print(\"Größe ohne Größe der Elemente: \", size_of_list_object)\n",
    "print(\"Größe aller Elemente: \", size_of_element)\n",
    "print(\"Gesamtgröße der Liste: \", total_list_size)\n",
    "empty_lst = []\n",
    "print(\"Speicherbedarf einer leeren Liste\", size(empty_lst))"
   ]
  },
  {
   "cell_type": "code",
   "execution_count": 35,
   "id": "0379f63d-34a9-4140-974c-dc7e508bec8f",
   "metadata": {},
   "outputs": [
    {
     "data": {
      "text/plain": [
       "False"
      ]
     },
     "execution_count": 35,
     "metadata": {},
     "output_type": "execute_result"
    }
   ],
   "source": [
    "empty_lst = []\n",
    "size(empty_lst)\n",
    "size_of_list_object = size(lst)\n",
    "size_of_list_object == size(empty_lst) + (len(lst) * size(lst[0])) - size(empty_lst)"
   ]
  },
  {
   "cell_type": "code",
   "execution_count": 50,
   "id": "34ac34b4-a408-482b-8efb-a9075fc5ed95",
   "metadata": {},
   "outputs": [
    {
     "name": "stdout",
     "output_type": "stream",
     "text": [
      "Speicherbedarf einer leeren Liste 56\n",
      "Größe ohne Elemente:  88\n",
      "Größe aller Elemente:  28\n",
      "Gesamtgröße der Liste:  200\n"
     ]
    }
   ],
   "source": [
    "empty_lst = []\n",
    "lst = [24, 12, 57, 42]\n",
    "print(\"Speicherbedarf einer leeren Liste\", size(empty_lst))\n",
    "print(\"Größe ohne Elemente: \", size(lst))\n",
    "print(\"Größe aller Elemente: \", size((len(lst) * size(lst[0]))))\n",
    "print(\"Gesamtgröße der Liste: \", total_list_size)\n"
   ]
  },
  {
   "cell_type": "code",
   "execution_count": 44,
   "id": "36cf9118-0f1a-416a-8127-60368de257fd",
   "metadata": {},
   "outputs": [
    {
     "data": {
      "text/plain": [
       "28"
      ]
     },
     "execution_count": 44,
     "metadata": {},
     "output_type": "execute_result"
    }
   ],
   "source": [
    "x = 1\n",
    "size(x)"
   ]
  },
  {
   "cell_type": "code",
   "execution_count": null,
   "id": "beff34b2-22d6-41e1-bbca-2e3713655e8e",
   "metadata": {},
   "outputs": [],
   "source": [
    "\n"
   ]
  }
 ],
 "metadata": {
  "kernelspec": {
   "display_name": "Python 3 (ipykernel)",
   "language": "python",
   "name": "python3"
  },
  "language_info": {
   "codemirror_mode": {
    "name": "ipython",
    "version": 3
   },
   "file_extension": ".py",
   "mimetype": "text/x-python",
   "name": "python",
   "nbconvert_exporter": "python",
   "pygments_lexer": "ipython3",
   "version": "3.12.6"
  }
 },
 "nbformat": 4,
 "nbformat_minor": 5
}
