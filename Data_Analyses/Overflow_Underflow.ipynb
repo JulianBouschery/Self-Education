{
 "cells": [
  {
   "cell_type": "markdown",
   "id": "948cc52a-fe06-4da4-b357-b144be359f87",
   "metadata": {},
   "source": [
    "# Overflow und Underflow"
   ]
  },
  {
   "cell_type": "markdown",
   "id": "fb74727e-a25d-4406-9dc9-e8ba0bbbffe1",
   "metadata": {},
   "source": [
    "**Overflow** und **Underflow** treten in der Computerarithmetik auf, wenn Zahlen außerhalb des Wertebereichs eines bestimmten Datentyps liegen.\n",
    "\n",
    "### 1. **Overflow**:\n",
    "- **Definition**: Ein Overflow passiert, wenn ein Wert zu groß ist, um im gegebenen Datentyp dargestellt zu werden.\n",
    "- **Beispiel**: Ein `int8`-Datentyp kann nur Werte zwischen `-128` und `127` speichern. Wenn eine Berechnung ein Ergebnis erzeugt, das außerhalb dieses Bereichs liegt, tritt ein Overflow auf und der Wert \"wrappt\" um, d.h., er beginnt wieder am anderen Ende des Bereichs.\n",
    "  \n",
    "  **Beispiel in NumPy:**\n",
    "  ```python\n",
    "  import numpy as np\n",
    "  \n",
    "  # Maximum Wert für int8 ist 127\n",
    "  arr = np.array([127], dtype=np.int8)\n",
    "  print(arr + 1)  # Overflow tritt auf, Ergebnis ist -128\n",
    "  ```\n",
    "  **Ergebnis**: `[-128]` – statt 128 wird das Ergebnis zum negativen Rand des Wertebereichs umgeschlagen.\n",
    "\n",
    "### 2. **Underflow**:\n",
    "- **Definition**: Ein Underflow tritt auf, wenn ein Wert zu klein ist (in Bezug auf die Exponent-Darstellung von Gleitkommazahlen), um dargestellt zu werden, und daher auf `0` abgerundet wird.\n",
    "- **Beispiel**: Bei `float32`-Zahlen können sehr kleine Werte (näher an `0`) nicht mehr dargestellt werden, da sie die Genauigkeit des Datentyps überschreiten. Das führt zu einem Underflow, und der Wert wird als `0` dargestellt.\n",
    "\n",
    "  **Beispiel in NumPy:**\n",
    "  ```python\n",
    "  import numpy as np\n",
    "\n",
    "  # Sehr kleiner Wert in float32\n",
    "  small_value = np.float32(1e-45)\n",
    "  print(small_value / 10)  # Underflow tritt auf\n",
    "  ```\n",
    "  **Ergebnis**: `0.0` – der Wert ist zu klein, um dargestellt zu werden, also wird er zu `0`.\n",
    "\n",
    "### Zusammenfassung:\n",
    "- **Overflow**: Der Wert überschreitet den maximalen oder minimalen Wert des Datentyps und wrappt um.\n",
    "- **Underflow**: Der Wert ist zu klein, um dargestellt zu werden, und wird zu `0`."
   ]
  },
  {
   "cell_type": "code",
   "execution_count": null,
   "id": "fecd0f7a-eccf-4256-b645-ae6071118824",
   "metadata": {},
   "outputs": [],
   "source": []
  }
 ],
 "metadata": {
  "kernelspec": {
   "display_name": "Python 3 (ipykernel)",
   "language": "python",
   "name": "python3"
  },
  "language_info": {
   "codemirror_mode": {
    "name": "ipython",
    "version": 3
   },
   "file_extension": ".py",
   "mimetype": "text/x-python",
   "name": "python",
   "nbconvert_exporter": "python",
   "pygments_lexer": "ipython3",
   "version": "3.12.6"
  }
 },
 "nbformat": 4,
 "nbformat_minor": 5
}
