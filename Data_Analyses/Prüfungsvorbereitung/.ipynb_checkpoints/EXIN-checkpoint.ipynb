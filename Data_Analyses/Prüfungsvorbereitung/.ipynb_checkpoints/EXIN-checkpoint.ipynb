{
 "cells": [
  {
   "cell_type": "markdown",
   "id": "1fa65f56-b943-45a9-a78e-e0d0d7248f25",
   "metadata": {},
   "source": [
    "# EXIN"
   ]
  },
  {
   "cell_type": "markdown",
   "id": "3e887ab4-a787-4af7-9af7-a7e0b95a2329",
   "metadata": {},
   "source": [
    "[Link zur EXIN Website](https://www.exin.com/technologies-software/exin-data-analytics/exin-data-analytics-foundation/)"
   ]
  },
  {
   "cell_type": "markdown",
   "id": "7febbc9d-a18f-4a7e-9439-7be647b6e7bb",
   "metadata": {},
   "source": [
    "[PDF der Muster Prüfung](https://dam.exin.com/api/&request=asset.permadownload&id=7441&type=this&token=6eea46be07146a2a3159bb39f34e6eb3)"
   ]
  },
  {
   "cell_type": "markdown",
   "id": "0d3bf4d5-6523-4123-a62a-32854b36a438",
   "metadata": {},
   "source": [
    "[Muster Prüfung als Practice-Exam](https://eucentral.questionmark.com/delivery/open.php?customerid=700347&assessmentID=0110667000110667&NAME=kandidat&SYSLANG=de-DE&device=html4)"
   ]
  },
  {
   "cell_type": "markdown",
   "id": "8e93d916-dcd8-4812-ab09-cc18b394858d",
   "metadata": {},
   "source": [
    "[Anmeldung zur Exin Prüfung](https://www.exin.com/certification-wizard/)\n",
    "Die Prüfdung kann auf DEUTSCH abgelegt werden."
   ]
  }
 ],
 "metadata": {
  "kernelspec": {
   "display_name": "Python 3 (ipykernel)",
   "language": "python",
   "name": "python3"
  },
  "language_info": {
   "codemirror_mode": {
    "name": "ipython",
    "version": 3
   },
   "file_extension": ".py",
   "mimetype": "text/x-python",
   "name": "python",
   "nbconvert_exporter": "python",
   "pygments_lexer": "ipython3",
   "version": "3.12.6"
  }
 },
 "nbformat": 4,
 "nbformat_minor": 5
}
