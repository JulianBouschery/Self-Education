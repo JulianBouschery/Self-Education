{
 "cells": [
  {
   "cell_type": "markdown",
   "id": "5c8da55e-e18b-49d1-8a32-1edc10b2d9a7",
   "metadata": {},
   "source": [
    "# Bestimmtheitsmaß"
   ]
  },
  {
   "cell_type": "markdown",
   "id": "f946db16-c4ac-4ac6-a614-fc6e043de251",
   "metadata": {},
   "source": [
    "R \n",
    "2\n",
    "  ist ein Maß dafür, wie viel der gesamten Streuung der Zielvariable durch das Modell erklärt wird – je näher an 1, desto besser. Es bewertet die Güte der Modellanpassung."
   ]
  },
  {
   "cell_type": "markdown",
   "id": "f30606c9-efd2-4e0e-b6d0-894a17b3715f",
   "metadata": {},
   "source": [
    "[Wikipedia](https://de.wikipedia.org/wiki/Bestimmtheitsma%C3%9F)"
   ]
  },
  {
   "cell_type": "markdown",
   "id": "2da99ee2-ec65-40fb-8bda-46b63a7f0465",
   "metadata": {},
   "source": [
    "Das Bestimmtheitsmaß (R²) gibt an, wie gut ein Regressionsmodell die Streuung der abhängigen Variablen erklärt, und liegt zwischen 0 und 1, wobei 1 eine perfekte Anpassung bedeutet."
   ]
  },
  {
   "cell_type": "markdown",
   "id": "f9de5cf7-f0cb-4662-8113-a59a20e5d792",
   "metadata": {},
   "source": [
    "Die Formel für das Bestimmtheitsmaß \\( R^2 \\) lautet:\n",
    "\n",
    "\\[\n",
    "R^2 = 1 - \\frac{\\sum_{i=1}^{n} (y_i - \\hat{y}_i)^2}{\\sum_{i=1}^{n} (y_i - \\bar{y})^2}\n",
    "\\]\n",
    "\n",
    "**Erklärung der Formel:**\n",
    "\n",
    "- \\( y_i \\): Das tatsächliche Ergebnis oder der gemessene Wert für den \\(i\\)-ten Datenpunkt.\n",
    "- \\( \\hat{y}_i \\): Der durch das Modell vorhergesagte Wert für den \\(i\\)-ten Datenpunkt.\n",
    "- \\( \\bar{y} \\): Der Durchschnitt aller tatsächlichen \\(y_i\\)-Werte (arithmetisches Mittel).\n",
    "- \\( \\sum_{i=1}^{n} (y_i - \\hat{y}_i)^2 \\): Die Summe der quadrierten Abweichungen zwischen den tatsächlichen und den vorhergesagten Werten. Dies wird als **Residuenquadratsumme (RSS)** bezeichnet.\n",
    "- \\( \\sum_{i=1}^{n} (y_i - \\bar{y})^2 \\): Die Summe der quadrierten Abweichungen zwischen den tatsächlichen Werten und dem Durchschnitt. Dies nennt man die **Gesamtquadratsumme (TSS)**.\n",
    "\n",
    "**Bedeutung von \\(R^2\\):**\n",
    "- \\( R^2 \\) gibt an, wie gut das Regressionsmodell die Streuung der tatsächlichen Werte erklärt.\n",
    "- Ein Wert von \\( R^2 = 1 \\) bedeutet, dass das Modell die Daten perfekt vorhersagt.\n",
    "- Ein Wert von \\( R^2 = 0 \\) bedeutet, dass das Modell keinen Erklärungsgehalt hat und genauso gut ist wie der Mittelwert.\n",
    "\n",
    "Im Wesentlichen zeigt \\(R^2\\), wie viel der Varianz der abhängigen Variablen durch das Modell erklärt wird."
   ]
  },
  {
   "cell_type": "code",
   "execution_count": null,
   "id": "11ea4d5a-fa1d-4975-8fd9-efe1d543d6c7",
   "metadata": {},
   "outputs": [],
   "source": []
  }
 ],
 "metadata": {
  "kernelspec": {
   "display_name": "Python 3 (ipykernel)",
   "language": "python",
   "name": "python3"
  },
  "language_info": {
   "codemirror_mode": {
    "name": "ipython",
    "version": 3
   },
   "file_extension": ".py",
   "mimetype": "text/x-python",
   "name": "python",
   "nbconvert_exporter": "python",
   "pygments_lexer": "ipython3",
   "version": "3.12.6"
  }
 },
 "nbformat": 4,
 "nbformat_minor": 5
}
