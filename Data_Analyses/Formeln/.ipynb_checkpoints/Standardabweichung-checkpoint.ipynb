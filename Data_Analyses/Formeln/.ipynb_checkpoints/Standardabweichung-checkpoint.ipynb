{
 "cells": [
  {
   "cell_type": "markdown",
   "id": "bf21415b-4c60-4c7d-85c5-ae685de62a5b",
   "metadata": {},
   "source": [
    "# Standardabweichung"
   ]
  },
  {
   "cell_type": "markdown",
   "id": "7f4bea44-25eb-4175-b3bc-042a9872e9a3",
   "metadata": {},
   "source": [
    "Die **Standardabweichung** \\( \\sigma \\) ist die Wurzel aus der Varianz:\n",
    "\n",
    "$$\n",
    "\\sigma = \\sqrt{\\frac{1}{n} \\sum_{i=1}^{n} (x_i - \\mu)^2}\n",
    "$$\n",
    "\n",
    "Dabei ist:\n",
    "\n",
    "- $ n $ die Anzahl der Datenpunkte,\n",
    "- $ x_i $ der \\(i\\)-te Datenpunkt,\n",
    "- $ \\mu $ der Mittelwert der Daten.\n",
    "\n",
    "Für Stichproben verwendet man oft $\\frac{1}{n-1}$ statt $\\frac{1}{n}$."
   ]
  },
  {
   "cell_type": "code",
   "execution_count": null,
   "id": "43f19f7b-ba7e-4d6e-baec-5547cce53f26",
   "metadata": {},
   "outputs": [],
   "source": []
  }
 ],
 "metadata": {
  "kernelspec": {
   "display_name": "Python 3 (ipykernel)",
   "language": "python",
   "name": "python3"
  },
  "language_info": {
   "codemirror_mode": {
    "name": "ipython",
    "version": 3
   },
   "file_extension": ".py",
   "mimetype": "text/x-python",
   "name": "python",
   "nbconvert_exporter": "python",
   "pygments_lexer": "ipython3",
   "version": "3.12.6"
  }
 },
 "nbformat": 4,
 "nbformat_minor": 5
}
