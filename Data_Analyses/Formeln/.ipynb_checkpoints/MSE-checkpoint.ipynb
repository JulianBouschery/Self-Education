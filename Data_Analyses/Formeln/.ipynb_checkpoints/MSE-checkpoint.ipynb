{
 "cells": [
  {
   "cell_type": "markdown",
   "id": "09d6ae95-3f25-4172-8e9f-66ccf6d02b32",
   "metadata": {},
   "source": [
    "# Mean Squared Error (MSE)"
   ]
  },
  {
   "cell_type": "markdown",
   "id": "86e28d25-0d56-4c0d-8de5-19f479da4ea9",
   "metadata": {},
   "source": [
    "Der **Mean Squared Error (MSE)** ist ein Maß dafür, wie gut ein Regressionsmodell Vorhersagen macht. Er berechnet den Durchschnitt der **quadratischen Fehler** zwischen den tatsächlichen Werten und den vorhergesagten Werten. Ein kleinerer MSE bedeutet, dass das Modell bessere Vorhersagen liefert."
   ]
  },
  {
   "cell_type": "markdown",
   "id": "feacfea0-f8ed-40b5-88bd-de1c9476240c",
   "metadata": {},
   "source": [
    "### Formel für den MSE:"
   ]
  },
  {
   "cell_type": "markdown",
   "id": "20fac695-351f-496a-b4e5-3ca8a476c071",
   "metadata": {},
   "source": [
    "\\[\n",
    "\\text{MSE} = \\frac{1}{n} \\sum_{i=1}^{n} (y_i - \\hat{y}_i)^2\n",
    "\\]"
   ]
  },
  {
   "cell_type": "markdown",
   "id": "e9c7d6d4-017a-4f92-81cd-714e05bdbbec",
   "metadata": {},
   "source": [
    "### Erklärung der Formel:"
   ]
  },
  {
   "cell_type": "markdown",
   "id": "2046bd2c-3967-4039-a6ab-f77c2e9ebe60",
   "metadata": {},
   "source": [
    "- \\( n \\) ist die Anzahl der Datenpunkte (Anzahl der Beobachtungen).\n",
    "- \\( y_i \\) ist der **tatsächliche** Wert der Zielvariablen beim \\( i \\)-ten Datenpunkt.\n",
    "- \\( \\hat{y}_i \\) ist der **vorhergesagte** Wert des Modells für den \\( i \\)-ten Datenpunkt.\n",
    "- \\( (y_i - \\hat{y}_i)^2 \\) ist der quadratische Fehler für den \\( i \\)-ten Datenpunkt."
   ]
  },
  {
   "cell_type": "markdown",
   "id": "c6a99238-4695-498a-ac4b-b1617cbd485c",
   "metadata": {},
   "source": [
    "### Bedeutung:"
   ]
  },
  {
   "cell_type": "markdown",
   "id": "a5714cb4-7654-4277-960c-358cb3635773",
   "metadata": {},
   "source": [
    "- Die Differenz \\( y_i - \\hat{y}_i \\) zeigt den Fehler zwischen tatsächlichem und vorhergesagtem Wert.\n",
    "- Durch das Quadrieren der Fehler werden sowohl positive als auch negative Abweichungen positiv und größere Fehler stärker gewichtet.\n",
    "- Der MSE gibt uns den **durchschnittlichen quadratischen Fehler** und zeigt, wie stark die Vorhersagen vom tatsächlichen Ergebnis abweichen."
   ]
  },
  {
   "cell_type": "code",
   "execution_count": null,
   "id": "7578cde3-98c1-4d88-a493-255562de7cfd",
   "metadata": {},
   "outputs": [],
   "source": []
  }
 ],
 "metadata": {
  "kernelspec": {
   "display_name": "Python 3 (ipykernel)",
   "language": "python",
   "name": "python3"
  },
  "language_info": {
   "codemirror_mode": {
    "name": "ipython",
    "version": 3
   },
   "file_extension": ".py",
   "mimetype": "text/x-python",
   "name": "python",
   "nbconvert_exporter": "python",
   "pygments_lexer": "ipython3",
   "version": "3.12.6"
  }
 },
 "nbformat": 4,
 "nbformat_minor": 5
}
