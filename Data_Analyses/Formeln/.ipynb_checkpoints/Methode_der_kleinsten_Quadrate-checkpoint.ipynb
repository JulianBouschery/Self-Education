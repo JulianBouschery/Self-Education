{
 "cells": [
  {
   "cell_type": "markdown",
   "id": "ef6a08c5-e38c-4c1f-880f-947d5c8e9671",
   "metadata": {},
   "source": [
    "# Methode der kleinsten Quadrate"
   ]
  },
  {
   "cell_type": "markdown",
   "id": "c48deffb-0a60-4542-9782-90d373b52ad7",
   "metadata": {},
   "source": [
    "Quelle: [Wikipedia](https://de.wikipedia.org/wiki/Methode_der_kleinsten_Quadrate)"
   ]
  },
  {
   "cell_type": "code",
   "execution_count": null,
   "id": "f0ddf941-5273-4f49-b5b7-1b62dd99f9ce",
   "metadata": {},
   "outputs": [],
   "source": []
  }
 ],
 "metadata": {
  "kernelspec": {
   "display_name": "Python 3 (ipykernel)",
   "language": "python",
   "name": "python3"
  },
  "language_info": {
   "codemirror_mode": {
    "name": "ipython",
    "version": 3
   },
   "file_extension": ".py",
   "mimetype": "text/x-python",
   "name": "python",
   "nbconvert_exporter": "python",
   "pygments_lexer": "ipython3",
   "version": "3.12.6"
  }
 },
 "nbformat": 4,
 "nbformat_minor": 5
}
