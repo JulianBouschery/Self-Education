{
 "cells": [
  {
   "cell_type": "markdown",
   "id": "36f522c6-343d-42f8-8b40-dc948b6d0fda",
   "metadata": {},
   "source": [
    "# Stichproben Größe und Auswahl des Tests"
   ]
  },
  {
   "cell_type": "markdown",
   "id": "f84e8f95-e4ca-49f9-bdbc-e1e2f2474726",
   "metadata": {},
   "source": [
    "Eine gängige Formel zur Berechnung der Stichprobengröße \\( n \\) für eine Population ist die folgende:\n",
    "\n",
    "$$\n",
    "n = \\left( \\frac{Z^2 \\cdot p \\cdot (1 - p)}{E^2} \\right)\n",
    "$$\n",
    "\n",
    "### Variablen:\n",
    "\n",
    "- **\\( n \\)**: erforderliche Stichprobengröße\n",
    "- **\\( Z \\)**: z-Wert (Zentralwert der Standardnormalverteilung) für das gewählte Konfidenzniveau (z.B. 1.96 für 95 % Konfidenz)\n",
    "- **\\( p \\)**: geschätzter Anteilswert der Population (z.B. 0.5 für maximale Variabilität)\n",
    "- **\\( E \\)**: maximal tolerierter Fehler (z.B. 0.05 für 5 %)\n",
    "\n",
    "### Erklärung:\n",
    "\n",
    "1. **Z-Wert**: Repräsentiert das Konfidenzniveau. Ein höherer Z-Wert führt zu einer größeren Stichprobengröße.\n",
    "2. **p**: Der geschätzte Anteil, der in der Population erwartet wird. Wenn du keine Schätzung hast, kann 0.5 verwendet werden, da dies die maximale Stichprobengröße ergibt.\n",
    "3. **E**: Der gewünschte Fehler, den du bereit bist zu akzeptieren.\n",
    "\n",
    "### Beispiel:\n",
    "\n",
    "Angenommen, du möchtest eine Stichprobe mit 95 % Konfidenz und einem maximalen Fehler von 5 %, und du schätzt, dass \\( p = 0.5 \\):\n",
    "\n",
    "- \\( Z = 1.96 \\)\n",
    "- \\( p = 0.5 \\)\n",
    "- \\( E = 0.05 \\)\n",
    "\n",
    "Setze die Werte in die Formel ein:\n",
    "\n",
    "$$\n",
    "n = \\left( \\frac{(1.96)^2 \\cdot 0.5 \\cdot (1 - 0.5)}{(0.05)^2} \\right) \\approx 384.16\n",
    "$$\n",
    "\n",
    "Du würdest also eine Stichprobengröße von etwa 385 benötigen."
   ]
  },
  {
   "cell_type": "markdown",
   "id": "05c1b58e-d6d9-4749-90ac-52b26c86cec3",
   "metadata": {},
   "source": [
    "## Welchen Test für welceh Stichprobengröße?"
   ]
  },
  {
   "cell_type": "markdown",
   "id": "fe4a60e8-f16b-4960-a77b-48bf51ffc1f0",
   "metadata": {},
   "source": [
    "1. n > 30 --> Z-Test\n",
    "2. n <= 30 --> t-test"
   ]
  },
  {
   "cell_type": "code",
   "execution_count": null,
   "id": "a7cb4d17-5848-4513-baaf-663aa547776a",
   "metadata": {},
   "outputs": [],
   "source": []
  }
 ],
 "metadata": {
  "kernelspec": {
   "display_name": "Python 3 (ipykernel)",
   "language": "python",
   "name": "python3"
  },
  "language_info": {
   "codemirror_mode": {
    "name": "ipython",
    "version": 3
   },
   "file_extension": ".py",
   "mimetype": "text/x-python",
   "name": "python",
   "nbconvert_exporter": "python",
   "pygments_lexer": "ipython3",
   "version": "3.12.6"
  }
 },
 "nbformat": 4,
 "nbformat_minor": 5
}
