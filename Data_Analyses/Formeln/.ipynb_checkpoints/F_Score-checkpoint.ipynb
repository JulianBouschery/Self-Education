{
 "cells": [
  {
   "cell_type": "markdown",
   "id": "53f91a69-7bb0-4399-af8f-fe525c7f288e",
   "metadata": {},
   "source": [
    "# F-Score"
   ]
  },
  {
   "cell_type": "markdown",
   "id": "05410c50-a414-4efb-af09-8d94bad62b70",
   "metadata": {},
   "source": [
    "https://en.wikipedia.org/wiki/F-score"
   ]
  },
  {
   "cell_type": "code",
   "execution_count": null,
   "id": "04804679-f771-4f84-ad53-7e65cc216962",
   "metadata": {},
   "outputs": [],
   "source": []
  }
 ],
 "metadata": {
  "kernelspec": {
   "display_name": "Python 3 (ipykernel)",
   "language": "python",
   "name": "python3"
  },
  "language_info": {
   "codemirror_mode": {
    "name": "ipython",
    "version": 3
   },
   "file_extension": ".py",
   "mimetype": "text/x-python",
   "name": "python",
   "nbconvert_exporter": "python",
   "pygments_lexer": "ipython3",
   "version": "3.12.6"
  }
 },
 "nbformat": 4,
 "nbformat_minor": 5
}
