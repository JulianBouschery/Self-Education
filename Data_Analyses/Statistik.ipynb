{
 "cells": [
  {
   "cell_type": "markdown",
   "id": "ac1eb63d-4ba6-4e6a-8c37-400982fc72c4",
   "metadata": {},
   "source": [
    "# Statistik"
   ]
  },
  {
   "cell_type": "markdown",
   "id": "c275c7fc-58f5-4c33-a4ea-3b16d863fa8b",
   "metadata": {},
   "source": [
    "Deskriptiv\n",
    "\n"
   ]
  },
  {
   "cell_type": "markdown",
   "id": "ed58c2ff-9fac-484c-b04d-4abef060a7c2",
   "metadata": {},
   "source": [
    "Schließende"
   ]
  },
  {
   "cell_type": "code",
   "execution_count": null,
   "id": "49fa074f-21ba-4f9e-8a6f-df0cbce216a7",
   "metadata": {},
   "outputs": [],
   "source": []
  }
 ],
 "metadata": {
  "kernelspec": {
   "display_name": "Python 3 (ipykernel)",
   "language": "python",
   "name": "python3"
  },
  "language_info": {
   "codemirror_mode": {
    "name": "ipython",
    "version": 3
   },
   "file_extension": ".py",
   "mimetype": "text/x-python",
   "name": "python",
   "nbconvert_exporter": "python",
   "pygments_lexer": "ipython3",
   "version": "3.12.6"
  }
 },
 "nbformat": 4,
 "nbformat_minor": 5
}
