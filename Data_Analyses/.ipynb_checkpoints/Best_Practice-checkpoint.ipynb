{
 "cells": [
  {
   "cell_type": "markdown",
   "id": "b790fc6c-1cf0-4d1f-aaea-c3764b6062b5",
   "metadata": {},
   "source": [
    "# Best Practis Leitfaden der Dataenanalyse"
   ]
  },
  {
   "cell_type": "code",
   "execution_count": null,
   "id": "e8487b19-dbfe-4a57-929d-7952ac8d640c",
   "metadata": {},
   "outputs": [],
   "source": []
  }
 ],
 "metadata": {
  "kernelspec": {
   "display_name": "Python 3 (ipykernel)",
   "language": "python",
   "name": "python3"
  },
  "language_info": {
   "codemirror_mode": {
    "name": "ipython",
    "version": 3
   },
   "file_extension": ".py",
   "mimetype": "text/x-python",
   "name": "python",
   "nbconvert_exporter": "python",
   "pygments_lexer": "ipython3",
   "version": "3.12.6"
  }
 },
 "nbformat": 4,
 "nbformat_minor": 5
}
