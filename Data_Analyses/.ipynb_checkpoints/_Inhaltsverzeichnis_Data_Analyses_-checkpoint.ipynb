{
 "cells": [
  {
   "cell_type": "markdown",
   "id": "b44f2d90-6160-4a20-bbd4-034b1ae7d9f5",
   "metadata": {},
   "source": [
    "# Inhaltsverzeichnis Data-Analyses"
   ]
  },
  {
   "cell_type": "code",
   "execution_count": null,
   "id": "ff78350c-8aba-4747-9e30-730409e6c770",
   "metadata": {},
   "outputs": [],
   "source": []
  }
 ],
 "metadata": {
  "kernelspec": {
   "display_name": "Python 3 (ipykernel)",
   "language": "python",
   "name": "python3"
  },
  "language_info": {
   "codemirror_mode": {
    "name": "ipython",
    "version": 3
   },
   "file_extension": ".py",
   "mimetype": "text/x-python",
   "name": "python",
   "nbconvert_exporter": "python",
   "pygments_lexer": "ipython3",
   "version": "3.12.6"
  }
 },
 "nbformat": 4,
 "nbformat_minor": 5
}
