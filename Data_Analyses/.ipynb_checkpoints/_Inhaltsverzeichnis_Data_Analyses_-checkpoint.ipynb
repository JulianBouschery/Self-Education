{
 "cells": [
  {
   "cell_type": "markdown",
   "id": "b44f2d90-6160-4a20-bbd4-034b1ae7d9f5",
   "metadata": {},
   "source": [
    "# Inhaltsverzeichnis Data-Analyses"
   ]
  },
  {
   "cell_type": "markdown",
   "id": "083e660e-80b7-4fe2-8258-072838366009",
   "metadata": {
    "jp-MarkdownHeadingCollapsed": true
   },
   "source": [
    "## Strukturierung"
   ]
  },
  {
   "cell_type": "markdown",
   "id": "df6136f6",
   "metadata": {},
   "source": [
    "Da Numpy, Scipy, Matplotlib, Pandas, Seaborn und viele weitere Module und Themenbereich aufeinander aufbauen und sich inhaltlich überlappen, habe ich mich gegen die Strukturierung nach Kategorien entschieden. Stattdessen werden alle generellen Themenbereiche wie Fachwörter, Formeln, Funktionen, Bilder etc. in einem Zentral-Ordner abgespeichert.\n",
    "\n",
    "Alle Notebooks, werden thematisch so aufgebaut, dass sie eine Schritt für Schritt Anleitung zur Erarbeitung des entsprechenden Lerninhalts und dessen Anwendung enthalten. Wird dabeit themenübergreifendes Wissen benötigt, wird dies im Skript selbst kurz wiederholt und angewendet. Für eine detailiertere Erklärung kann man über einen integrierten Link auf die entsprechende Datei im Zentral-Ordner zugreifen."
   ]
  },
  {
   "cell_type": "markdown",
   "id": "4d5bd220-ca08-4b85-aaa5-4405237e5aac",
   "metadata": {},
   "source": [
    "![Dependencies](./Zentral_Ordner/Bilder/Dependencies.jpg)"
   ]
  },
  {
   "cell_type": "markdown",
   "id": "7f98f12c-bc8d-4fc6-9725-78bac395922e",
   "metadata": {},
   "source": [
    "# Inhaltsverzeichnis"
   ]
  },
  {
   "cell_type": "markdown",
   "id": "b5909fb5-908c-4a65-98e6-becf7fb815f4",
   "metadata": {},
   "source": [
    "## Zentrale Informationen"
   ]
  },
  {
   "cell_type": "markdown",
   "id": "b452847c-4009-41f0-acc5-6bc8a4ebd122",
   "metadata": {},
   "source": [
    "[Funktionen und Methoden](./Zentral_ordner/Funktionen_und_Methoden/_Inhaltsverzeichnis_FM_.ipynb)"
   ]
  },
  {
   "cell_type": "markdown",
   "id": "0d11ca8e-b94e-435f-8beb-b38edf9730d1",
   "metadata": {},
   "source": [
    "[End to End Projektbeispiele](Zentral_Ordner/End_to_End_Projektbeispiele/_Projektbeispiele_.ipynb)"
   ]
  },
  {
   "cell_type": "markdown",
   "id": "7c21f39f-ce9d-4688-9240-593adcfc793c",
   "metadata": {},
   "source": [
    "[Formeln](./Zentral_Ordner/Formeln/_Inhaltsverzeichnis_Formeln_.ipynb)"
   ]
  },
  {
   "cell_type": "markdown",
   "id": "e2072661-22dd-4c34-9d6d-0c9c8fd4008d",
   "metadata": {},
   "source": [
    "## Themenbereiche"
   ]
  },
  {
   "cell_type": "markdown",
   "id": "6a30725c-c00f-4bda-94ee-0d9eddceaa35",
   "metadata": {},
   "source": [
    "[Statistik](Themen/Statistik/_Statistik_.ipynb)"
   ]
  },
  {
   "cell_type": "markdown",
   "id": "2213e050-1615-43af-aa23-3aa9f80671d6",
   "metadata": {},
   "source": [
    "# Best Practis Leitfaden der Datenanalyse"
   ]
  },
  {
   "cell_type": "markdown",
   "id": "d0f74bbe-1924-40ce-a460-293efccbd940",
   "metadata": {},
   "source": [
    "### 1. Data Collection / Datenerhebung"
   ]
  },
  {
   "cell_type": "markdown",
   "id": "1de5cab4-f9da-4345-a2ed-f5710589e8e6",
   "metadata": {},
   "source": [
    "Die [Datenerhebung](./Themen/Datenerhebung/_Datenerhebung_.ipynb) bzw. die Sammlung von Daten umfasst die Themen:"
   ]
  },
  {
   "cell_type": "markdown",
   "id": "dee595d3-3672-4c1d-a1e5-f5c2b96f5c81",
   "metadata": {},
   "source": [
    "- [Umfragen](Themen/Data_Collection/Umfragen.ipynb)\n",
    "- [API](Themen/Data_Collection/API.ipynb)\n",
    "- [Web-Scraping](Themen/Data_Collection/Web_Scraping.ipynb)\n",
    "- [Einlesen von Daten](Themen/Data_Collection/einlesen.ipynb)"
   ]
  },
  {
   "cell_type": "markdown",
   "id": "60edd368-33f2-4532-a535-cf9a281524eb",
   "metadata": {},
   "source": [
    "### 2. Data Cleaning / Datenbereinigung"
   ]
  },
  {
   "cell_type": "markdown",
   "id": "0c5bb0f5-a74a-4a5e-b5e2-4ceed8da3360",
   "metadata": {},
   "source": [
    "Die [Datenbereinigung](Themen/Data_Cleaning/_Data_Cleaning_.ipynb) umfasst die Themen:"
   ]
  },
  {
   "cell_type": "markdown",
   "id": "1a5063a5-0f1a-4a16-96cd-10bed194d4af",
   "metadata": {},
   "source": [
    "[Ausreißer (Outlier) Erkennung](Themen/Data_Cleaning/outlier.ipynb)"
   ]
  },
  {
   "cell_type": "markdown",
   "id": "b320e03a-9bd6-44e8-983b-c097dd6f5906",
   "metadata": {},
   "source": [
    "[Duplikate löschen](Themen/Data_Cleaning/double.ipynb)"
   ]
  },
  {
   "cell_type": "markdown",
   "id": "1e9436b3-8b06-4668-86a1-434f7ce80a48",
   "metadata": {},
   "source": [
    "[Bearbeitung fehlende Werte](Themen/Data_Cleaning/Missing_Values.ipynb)"
   ]
  },
  {
   "cell_type": "markdown",
   "id": "45373cd8-6fec-4b14-b538-a338336824f8",
   "metadata": {},
   "source": [
    "### 4. Splitt in Trainings- und Testdatensatz"
   ]
  },
  {
   "cell_type": "markdown",
   "id": "1869ea15-7c7c-458d-824f-d2b4bb9214c4",
   "metadata": {},
   "source": [
    "Auf Trainings Datensatz soll gefittet (Hyperparameter Berechnet und angewandt werden)"
   ]
  },
  {
   "cell_type": "markdown",
   "id": "ddf08597-9084-401f-b90e-a241b710e69f",
   "metadata": {},
   "source": [
    "### 5. Preprocessing"
   ]
  },
  {
   "cell_type": "markdown",
   "id": "63525e2c-e858-4e18-a5cd-285d428d6e60",
   "metadata": {},
   "source": [
    "Skalierung vs. Normalisierung "
   ]
  },
  {
   "cell_type": "markdown",
   "id": "84aca4b9-d926-4b94-831c-77929b81d449",
   "metadata": {},
   "source": [
    "Imputation\n",
    "\n",
    "z.B. NaN, durch Mean oder Mode ersetzen"
   ]
  },
  {
   "cell_type": "markdown",
   "id": "d988d286-289e-4acd-b01f-d6202d4bd84c",
   "metadata": {},
   "source": [
    "Trainingsdatensatz wird gefittet (Werte ermitteln, z.B. Mittelwerte) und Angewendet auf dem Trainiggs- und Testdatensatz"
   ]
  },
  {
   "cell_type": "markdown",
   "id": "bc201d9f-5f6b-4131-9383-83bffb1d5409",
   "metadata": {},
   "source": [
    "#### Standardisierung"
   ]
  },
  {
   "cell_type": "markdown",
   "id": "74a2b47f-b064-48bb-817b-93877441e287",
   "metadata": {},
   "source": [
    "Dimensionsreduktion durch PCA (Optimierung des Speichers)"
   ]
  },
  {
   "cell_type": "markdown",
   "id": "f7cdaf97-7325-4ef0-9473-b2b1fa3c659c",
   "metadata": {},
   "source": [
    "Standardisierung von Maßeinheiten"
   ]
  },
  {
   "cell_type": "markdown",
   "id": "2476bb93-6999-4f3f-93ea-998cd8c206ac",
   "metadata": {},
   "source": [
    "### 6 Modell erstellen"
   ]
  },
  {
   "cell_type": "markdown",
   "id": "9b8213fd-1ac5-4f56-b486-b1f280535aaa",
   "metadata": {},
   "source": [
    "[Maschine Learning](./Themen/Maschine_Learning/_Maschine_Learning_.ipynb)"
   ]
  },
  {
   "cell_type": "markdown",
   "id": "33befe57-4df6-4cfc-94c9-4eded123bd02",
   "metadata": {},
   "source": [
    "### 7. Validierung"
   ]
  },
  {
   "cell_type": "markdown",
   "id": "b1e0ecd8-9b24-483e-9d98-9e33f3c17029",
   "metadata": {},
   "source": [
    "### 8. Vorhersage "
   ]
  },
  {
   "cell_type": "code",
   "execution_count": null,
   "id": "b61fce92-18ff-4722-b52d-f3c80c4c4340",
   "metadata": {},
   "outputs": [],
   "source": []
  }
 ],
 "metadata": {
  "kernelspec": {
   "display_name": "Python 3 (ipykernel)",
   "language": "python",
   "name": "python3"
  },
  "language_info": {
   "codemirror_mode": {
    "name": "ipython",
    "version": 3
   },
   "file_extension": ".py",
   "mimetype": "text/x-python",
   "name": "python",
   "nbconvert_exporter": "python",
   "pygments_lexer": "ipython3",
   "version": "3.12.6"
  }
 },
 "nbformat": 4,
 "nbformat_minor": 5
}
