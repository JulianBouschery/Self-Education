{
 "cells": [
  {
   "cell_type": "markdown",
   "id": "2479beed-71ca-4f80-b34c-41323f88ad11",
   "metadata": {},
   "source": [
    "# Datentypen in NumPy"
   ]
  },
  {
   "cell_type": "markdown",
   "id": "60310801-7b35-445a-b13b-b9ea01b503f8",
   "metadata": {},
   "source": [
    "Numpy Arrays können IMMER nur eine Art von Datentyp enthalten. Dadurch werden sie so schnell, weil sie den Datentyp nicht einzeln prüfen müssen. "
   ]
  },
  {
   "cell_type": "markdown",
   "id": "5436b486-9512-4cd2-b5af-a70972f0e2f8",
   "metadata": {},
   "source": [
    "NumPy bietet eine Vielzahl von Datentypen, die in numerischen Berechnungen und anderen Anwendungen nützlich sind. Hier ist eine Übersicht der wichtigsten **numerischen** und **nicht-numerischen** Datentypen in NumPy.\n",
    "\n",
    "### Numerische Datentypen:\n",
    "\n",
    "1. **Integer-Datentypen (Ganzzahlen)**:\n",
    "\n",
    "\n",
    "   - **`int8`**: 8-Bit-Ganzzahl (Werte von -128 bis 127)\n",
    "     ```python\n",
    "     2**7 = 128\n",
    "     ```\n",
    "   - **`int16`**: 16-Bit-Ganzzahl (Werte von -32.768 bis 32.767)\n",
    "   - **`int32`**: 32-Bit-Ganzzahl (Werte von -2.147.483.648 bis 2.147.483.647)\n",
    "   - **`int64`**: 64-Bit-Ganzzahl (sehr große Ganzzahlen)\n",
    "     (Äquivalent zu Python-Integer)\n",
    "   - **`uint8`**: 8-Bit-unsigned (Werte von 0 bis 255)\n",
    "\n",
    "2. **Unasignt Integer-Datentypen (Positive Ganzzahlen)**:\n",
    "```python\n",
    "u = unasignt --> kann nur für positive Zahlen genutzt werdeb. Der Bit der für das Vorzeichen (+/-) gebraucht wird ist nun frei, deshalb kann die Zahl 2**8 groß sein. \n",
    "```\n",
    "   \n",
    "   - **`uint16`**: 16-Bit-unsigned (Werte von 0 bis 65.535)\n",
    "   - **`uint32`**: 32-Bit-unsigned (Werte von 0 bis 4.294.967.295)\n",
    "   - **`uint64`**: 64-Bit-unsigned (Werte von 0 bis extrem große Zahlen)\n",
    "\n",
    "3. **Floating Point-Datentypen (Gleitkommazahlen)**:\n",
    "   - **`float16`**: 16-Bit-Gleitkommazahl (Halbgenauigkeit)\n",
    "   - **`float32`**: 32-Bit-Gleitkommazahl (Standard für viele Anwendungen)\n",
    "   - **`float64`**: 64-Bit-Gleitkommazahl (Doppelte Genauigkeit)\n",
    "   (Äquivalent zu Pthon-Float)\n",
    "   - **`float128`**: 128-Bit-Gleitkommazahl (höhere Genauigkeit, aber plattformabhängig)\n",
    "     \n",
    "\n",
    "4. **Komplexe Datentypen (für komplexe Zahlen)**:\n",
    "   - **`complex64`**: 64-Bit-komplexe Zahl (32-Bit-Gleitkommazahl für Real- und Imaginärteil)\n",
    "   - **`complex128`**: 128-Bit-komplexe Zahl (64-Bit-Gleitkommazahl für Real- und Imaginärteil)\n",
    "   - **`complex256`**: 256-Bit-komplexe Zahl (128-Bit-Gleitkommazahl für Real- und Imaginärteil)\n",
    "\n",
    "### Nicht-Numerische (relevante) Datentypen:\n",
    "\n",
    "1. **Boolean (bool)**:\n",
    "   - **`bool_`**: Wahrheitswert (True oder False). Wird in vielen logischen Operationen verwendet.\n",
    "   \n",
    "   ```python\n",
    "   import numpy as np\n",
    "   arr = np.array([True, False, True], dtype=np.bool_)\n",
    "   ```\n",
    "\n",
    "2. **String (Zeichenketten)**:\n",
    "   - **`str_`**: Feste Länge für Strings (Unicode). Wird verwendet, um Textdaten zu speichern. Länge der Zeichenkette muss festgelegt werden.\n",
    "   \n",
    "   ```python\n",
    "   arr = np.array(['a', 'abc', 'hello'], dtype=np.str_)\n",
    "   ```\n",
    "\n",
    "3. **Object-Datentyp (beliebige Python-Objekte)**:\n",
    "   - **`object_`**: Ermöglicht es, beliebige Python-Objekte in Arrays zu speichern. Nützlich für heterogene Daten.\n",
    "   \n",
    "   ```python\n",
    "   arr = np.array([1, 'a', [2, 3]], dtype=np.object_)\n",
    "   ```\n",
    "\n",
    "### Zusammenfassung:\n",
    "\n",
    "- **Numerische Typen** umfassen Ganzzahlen (`int`), Gleitkommazahlen (`float`) und komplexe Zahlen (`complex`).\n",
    "- **Nicht-numerische Typen** umfassen `bool_`, `str_`, und `object_`.\n",
    "- Diese Typen helfen bei der effizienten Verwaltung von Speicher und Rechenleistung in wissenschaftlichen und technischen Anwendungen.\n",
    "\n",
    "### Praktisches Beispiel:\n",
    "\n",
    "```python\n",
    "import numpy as np\n",
    "\n",
    "# Integer-Array\n",
    "int_arr = np.array([1, 2, 3], dtype=np.int32)\n",
    "print(int_arr, int_arr.dtype)\n",
    "\n",
    "# Float-Array\n",
    "float_arr = np.array([1.0, 2.5, 3.8], dtype=np.float64)\n",
    "print(float_arr, float_arr.dtype)\n",
    "\n",
    "# Boolean-Array\n",
    "bool_arr = np.array([True, False, True], dtype=np.bool_)\n",
    "print(bool_arr, bool_arr.dtype)\n",
    "```"
   ]
  },
  {
   "cell_type": "markdown",
   "id": "7955643f-3bb5-4bfb-9dc4-227fab34e0e6",
   "metadata": {},
   "source": [
    "[Overflow und Underflow](Overflow_Underflow.ipynb)"
   ]
  },
  {
   "cell_type": "code",
   "execution_count": null,
   "id": "7ceb8348-360e-411f-b08b-c1e64bf5fbcc",
   "metadata": {},
   "outputs": [],
   "source": []
  }
 ],
 "metadata": {
  "kernelspec": {
   "display_name": "Python 3 (ipykernel)",
   "language": "python",
   "name": "python3"
  },
  "language_info": {
   "codemirror_mode": {
    "name": "ipython",
    "version": 3
   },
   "file_extension": ".py",
   "mimetype": "text/x-python",
   "name": "python",
   "nbconvert_exporter": "python",
   "pygments_lexer": "ipython3",
   "version": "3.12.6"
  }
 },
 "nbformat": 4,
 "nbformat_minor": 5
}
