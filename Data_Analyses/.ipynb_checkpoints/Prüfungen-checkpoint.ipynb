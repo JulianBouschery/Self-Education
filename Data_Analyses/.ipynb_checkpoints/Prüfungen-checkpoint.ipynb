{
 "cells": [
  {
   "cell_type": "markdown",
   "id": "cd581c06-3790-460a-91d8-e98c5125aafa",
   "metadata": {},
   "source": [
    "# Prüfungen"
   ]
  },
  {
   "cell_type": "markdown",
   "id": "a8d4eb7c-339d-4129-9568-701a48dd6e9d",
   "metadata": {},
   "source": [
    "### EXIN"
   ]
  },
  {
   "cell_type": "markdown",
   "id": "aacdf0ed-42f2-4856-990c-2179071ddb6a",
   "metadata": {},
   "source": [
    "[EXIN](https://www.exin.com/technologies-software/exin-data-analytics/exin-data-analytics-foundation/)"
   ]
  },
  {
   "cell_type": "markdown",
   "id": "8986007e-de26-4dcc-8be1-26480cd046ba",
   "metadata": {},
   "source": [
    "[Syllabus der EXIN Prüfung](https://dam.exin.com/api/&request=asset.permadownload&id=7416&type=this&token=52215bbc6b9141472129af2b513549dd)"
   ]
  },
  {
   "cell_type": "markdown",
   "id": "f24da13f-96eb-4315-8c9e-424f66280cbc",
   "metadata": {},
   "source": [
    "[Anmeldung zur Exin Prüfung](https://www.exin.com/certification-wizard/)\n",
    "Die Prüfdung kann auf DEUTSCH abgelegt werden."
   ]
  },
  {
   "cell_type": "markdown",
   "id": "a10598e5-b01a-43af-bb7d-4919d0d17ef5",
   "metadata": {},
   "source": [
    "### PCED"
   ]
  },
  {
   "cell_type": "markdown",
   "id": "db4b26f7-6140-4575-b60c-974cffaf7ea4",
   "metadata": {},
   "source": [
    "[PCED](https://pythoninstitute.org/pced)"
   ]
  },
  {
   "cell_type": "markdown",
   "id": "11fe9659-b647-4e1a-a256-40677ffa8593",
   "metadata": {},
   "source": [
    "[PCED Syllabus](https://pythoninstitute.org/pced-exam-syllabus)"
   ]
  },
  {
   "cell_type": "code",
   "execution_count": null,
   "id": "42b2d9a7-cc22-4067-ac51-f73229acbca7",
   "metadata": {},
   "outputs": [],
   "source": []
  }
 ],
 "metadata": {
  "kernelspec": {
   "display_name": "Python 3 (ipykernel)",
   "language": "python",
   "name": "python3"
  },
  "language_info": {
   "codemirror_mode": {
    "name": "ipython",
    "version": 3
   },
   "file_extension": ".py",
   "mimetype": "text/x-python",
   "name": "python",
   "nbconvert_exporter": "python",
   "pygments_lexer": "ipython3",
   "version": "3.12.4"
  }
 },
 "nbformat": 4,
 "nbformat_minor": 5
}
