{
 "cells": [
  {
   "cell_type": "markdown",
   "id": "2479beed-71ca-4f80-b34c-41323f88ad11",
   "metadata": {},
   "source": [
    "# Datentypen in NumPy"
   ]
  },
  {
   "cell_type": "markdown",
   "id": "60310801-7b35-445a-b13b-b9ea01b503f8",
   "metadata": {},
   "source": [
    "Es gibt viele unterschiedliche Datentypen ind NumPy. Ein Array kann IMMER nur eine Art von Datentyp enthalten. Das ist einer der Gründe warum sie so schnell sind, weil sie den Datentyp nicht für jedes Element einzeln prüfen müssen. "
   ]
  },
  {
   "cell_type": "markdown",
   "id": "72936ce5-3ebb-4012-8b51-d0188daa4d6f",
   "metadata": {},
   "source": [
    "### Numerische Datentypen:"
   ]
  },
  {
   "cell_type": "markdown",
   "id": "e9549828-a5cd-499a-bd43-b86e14d7f9b2",
   "metadata": {},
   "source": [
    "1. **Integer-Datentypen (Ganzzahlen)**:\n",
    "\n",
    "\n",
    "   - **`int8`**: 8-Bit-Ganzzahl (Werte von -128 bis 127)\n",
    "     ```python\n",
    "     2**7 = 128\n",
    "     ```\n",
    "   - **`int16`**: 16-Bit-Ganzzahl (Werte von -32.768 bis 32.767)\n",
    "   - **`int32`**: 32-Bit-Ganzzahl (Werte von -2.147.483.648 bis 2.147.483.647)\n",
    "   - **`int64`**: 64-Bit-Ganzzahl (sehr große Ganzzahlen)\n",
    "     **(Äquivalent zu Python-Integer)**"
   ]
  },
  {
   "cell_type": "markdown",
   "id": "cfe4d26d-685c-42d3-938a-1570c93910e5",
   "metadata": {},
   "source": [
    "2. **Unasignt Integer-Datentypen (Positive Ganzzahlen)**:\n",
    "```python\n",
    "u == unasignt --> kann nur für positive Zahlen genutzt werdeb. \n",
    "Der Bit der für das Vorzeichen (+/-) gebraucht wird ist nun frei, deshalb kann die Zahl 2**8 = 256 groß sein. \n",
    "```\n",
    "   - **`uint8`**: 8-Bit-unsigned (Werte von 0 bis 255)\n",
    "   - **`uint16`**: 16-Bit-unsigned (Werte von 0 bis 65.535)\n",
    "   - **`uint32`**: 32-Bit-unsigned (Werte von 0 bis 4.294.967.295)\n",
    "   - **`uint64`**: 64-Bit-unsigned (Werte von 0 bis extrem große Zahlen)"
   ]
  },
  {
   "cell_type": "markdown",
   "id": "a360db2b-2a1e-439b-94a1-c66721b2a9b9",
   "metadata": {},
   "source": [
    "3. **Floating Point-Datentypen (Gleitkommazahlen)**:\n",
    "   - **`float16`**: 16-Bit-Gleitkommazahl (Halbgenauigkeit)\n",
    "   - **`float32`**: 32-Bit-Gleitkommazahl (Standard für viele Anwendungen)\n",
    "   - **`float64`**: 64-Bit-Gleitkommazahl (Doppelte Genauigkeit)\n",
    "   **(Äquivalent zu Pthon-Float)**\n",
    "   - **`float128`**: 128-Bit-Gleitkommazahl (höhere Genauigkeit, aber plattformabhängig)\n",
    "     "
   ]
  },
  {
   "cell_type": "markdown",
   "id": "fd14170c-2ff2-484a-a5b7-d6d6786d5765",
   "metadata": {},
   "source": [
    "4. **Komplexe Datentypen (für komplexe Zahlen)**:\n",
    "   - **`complex64`**: 64-Bit-komplexe Zahl (32-Bit-Gleitkommazahl für Real- und Imaginärteil)\n",
    "   - **`complex128`**: 128-Bit-komplexe Zahl (64-Bit-Gleitkommazahl für Real- und Imaginärteil)\n",
    "   - **`complex256`**: 256-Bit-komplexe Zahl (128-Bit-Gleitkommazahl für Real- und Imaginärteil)"
   ]
  },
  {
   "cell_type": "markdown",
   "id": "c50565a8-1a6d-4c49-aa51-56b3e19a47f4",
   "metadata": {},
   "source": [
    "### Nicht-Numerische (relevante) Datentypen:"
   ]
  },
  {
   "cell_type": "markdown",
   "id": "3b9d3b5e-f29f-4c20-a214-0340973554ff",
   "metadata": {},
   "source": [
    "1. **Boolean (bool)**:\n",
    "   - **`bool_`**: Wahrheitswert (True oder False). Wird in vielen logischen Operationen verwendet.\n",
    "   \n",
    "   ```python\n",
    "   import numpy as np\n",
    "   arr = np.array([True, False, True], dtype=np.bool_)\n",
    "   ```\n",
    "\n",
    "2. **String (Zeichenketten)**:\n",
    "   - **`str_`**: Feste Länge für Strings (Unicode). Wird verwendet, um Textdaten zu speichern. Länge der Zeichenkette muss festgelegt werden.\n",
    "   \n",
    "   ```python\n",
    "   arr = np.array(['a', 'abc', 'hello'], dtype=np.str_)\n",
    "   ```\n",
    "\n",
    "3. **Object-Datentyp (beliebige Python-Objekte)**:\n",
    "   - **`object_`**: Ermöglicht es, beliebige Python-Objekte in Arrays zu speichern. Nützlich für heterogene Daten.\n",
    "   \n",
    "   ```python\n",
    "   arr = np.array([1, 'a', [2, 3]], dtype=np.object_)\n",
    "   ```\n",
    "\n",
    "### Zusammenfassung:"
   ]
  },
  {
   "cell_type": "markdown",
   "id": "2e3f4b25-ccd3-4603-b53a-21072e39db15",
   "metadata": {},
   "source": [
    "- **Numerische Typen** umfassen Ganzzahlen (`int`), Gleitkommazahlen (`float`) und komplexe Zahlen (`complex`).\n",
    "- **Nicht-numerische Typen** umfassen `bool_`, `str_`, und `object_`.\n",
    "- Diese Typen helfen bei der effizienten Verwaltung von Speicher und Rechenleistung in wissenschaftlichen und technischen Anwendungen.\n",
    "\n",
    "### Praktisches Beispiel:\n",
    "\n",
    "```python\n",
    "import numpy as np\n",
    "\n",
    "# Integer-Array\n",
    "int_arr = np.array([1, 2, 3], dtype=np.int32)\n",
    "print(int_arr, int_arr.dtype)\n",
    "\n",
    "# Float-Array\n",
    "float_arr = np.array([1.0, 2.5, 3.8], dtype=np.float64)\n",
    "print(float_arr, float_arr.dtype)\n",
    "\n",
    "# Boolean-Array\n",
    "bool_arr = np.array([True, False, True], dtype=np.bool_)\n",
    "print(bool_arr, bool_arr.dtype)\n",
    "```"
   ]
  },
  {
   "cell_type": "markdown",
   "id": "7955643f-3bb5-4bfb-9dc4-227fab34e0e6",
   "metadata": {},
   "source": [
    "[Overflow und Underflow](Overflow_Underflow.ipynb)"
   ]
  },
  {
   "cell_type": "code",
   "execution_count": null,
   "id": "355b199c-7fb9-417a-b0d4-c2c51849c4d9",
   "metadata": {},
   "outputs": [],
   "source": []
  }
 ],
 "metadata": {
  "kernelspec": {
   "display_name": "Python 3 (ipykernel)",
   "language": "python",
   "name": "python3"
  },
  "language_info": {
   "codemirror_mode": {
    "name": "ipython",
    "version": 3
   },
   "file_extension": ".py",
   "mimetype": "text/x-python",
   "name": "python",
   "nbconvert_exporter": "python",
   "pygments_lexer": "ipython3",
   "version": "3.12.6"
  }
 },
 "nbformat": 4,
 "nbformat_minor": 5
}
