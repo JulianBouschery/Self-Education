{
 "cells": [
  {
   "cell_type": "code",
   "execution_count": null,
   "id": "55472bd1-7696-4a25-a5f8-8a4c09f7a342",
   "metadata": {},
   "outputs": [],
   "source": [
    "Diskrete Daten\n",
    "\n",
    "Kontinuierliche Daten\n",
    "\n",
    "Zeitreihen Daten"
   ]
  },
  {
   "cell_type": "markdown",
   "id": "5df9509d-f420-4e30-a5ff-641c9f1fc8c6",
   "metadata": {},
   "source": [
    "**Diskrete Daten**: Diskrete Daten bestehen aus abzählbaren, endlichen Werten (z.B. Anzahl von Personen, Würfelaugen). Es gibt keine Zwischenwerte zwischen den einzelnen Punkten.\n",
    "\n",
    "**Kontinuierliche Daten**: Kontinuierliche Daten können jeden Wert in einem bestimmten Intervall annehmen (z.B. Temperatur, Gewicht). Zwischen zwei Werten existieren unendlich viele mögliche Werte.\n",
    "\n",
    "**Zeitreihen-Daten**: Zeitreihen-Daten sind Messungen, die in regelmäßigen Abständen über die Zeit gesammelt werden (z.B. Aktienkurse, monatliche Temperaturen).\n",
    "\n",
    "### Unterschiede:\n",
    "- **Diskrete vs. Kontinuierliche Daten**: Diskrete Daten sind zählbar und haben feste Werte, während kontinuierliche Daten auf einer Skala liegen und beliebige Zwischenwerte annehmen können.\n",
    "- **Zeitreihen-Daten**: Zeitreihen-Daten sind spezifisch auf zeitlich geordnete Messungen bezogen und können diskrete oder kontinuierliche Werte enthalten, aber immer mit Bezug zur Zeit."
   ]
  },
  {
   "cell_type": "code",
   "execution_count": null,
   "id": "fb2eb158-08cb-4a5c-b1e4-b2630e2a2f79",
   "metadata": {},
   "outputs": [],
   "source": []
  }
 ],
 "metadata": {
  "kernelspec": {
   "display_name": "Python 3 (ipykernel)",
   "language": "python",
   "name": "python3"
  },
  "language_info": {
   "codemirror_mode": {
    "name": "ipython",
    "version": 3
   },
   "file_extension": ".py",
   "mimetype": "text/x-python",
   "name": "python",
   "nbconvert_exporter": "python",
   "pygments_lexer": "ipython3",
   "version": "3.12.6"
  }
 },
 "nbformat": 4,
 "nbformat_minor": 5
}
