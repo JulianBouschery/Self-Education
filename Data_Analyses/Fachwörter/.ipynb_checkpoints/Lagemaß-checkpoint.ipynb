{
 "cells": [
  {
   "cell_type": "markdown",
   "id": "06cb0084-f97e-4fec-aed1-a5374344ccf7",
   "metadata": {},
   "source": [
    "# Lagemaß"
   ]
  },
  {
   "cell_type": "code",
   "execution_count": null,
   "id": "e2337bd1-c896-46f2-9b4a-5a51709c373b",
   "metadata": {},
   "outputs": [],
   "source": [
    "Auch als Maß "
   ]
  },
  {
   "cell_type": "markdown",
   "id": "aaf2f04e-956b-497e-be3b-9090e9f21b17",
   "metadata": {},
   "source": [
    "### Modus bzw. Multimordale Werte"
   ]
  },
  {
   "cell_type": "code",
   "execution_count": null,
   "id": "445c5b03-cbcb-4951-8f94-51f2c2d003a9",
   "metadata": {},
   "outputs": [],
   "source": []
  }
 ],
 "metadata": {
  "kernelspec": {
   "display_name": "Python 3 (ipykernel)",
   "language": "python",
   "name": "python3"
  },
  "language_info": {
   "codemirror_mode": {
    "name": "ipython",
    "version": 3
   },
   "file_extension": ".py",
   "mimetype": "text/x-python",
   "name": "python",
   "nbconvert_exporter": "python",
   "pygments_lexer": "ipython3",
   "version": "3.12.6"
  }
 },
 "nbformat": 4,
 "nbformat_minor": 5
}
