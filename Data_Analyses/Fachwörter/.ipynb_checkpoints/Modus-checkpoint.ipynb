{
 "cells": [
  {
   "cell_type": "markdown",
   "id": "015d7abc-83ec-4865-a3ee-70128b70be9c",
   "metadata": {},
   "source": [
    "# Modus"
   ]
  },
  {
   "cell_type": "markdown",
   "id": "9910c2bc-e9e8-47f1-b110-396eec02e947",
   "metadata": {},
   "source": [
    "Der Modus ist der Wert, der in einer Datenmenge am häufigsten vorkommt."
   ]
  },
  {
   "cell_type": "code",
   "execution_count": null,
   "id": "da16be80-92e6-40bc-af9c-0f71360b3f5a",
   "metadata": {},
   "outputs": [],
   "source": []
  }
 ],
 "metadata": {
  "kernelspec": {
   "display_name": "Python 3 (ipykernel)",
   "language": "python",
   "name": "python3"
  },
  "language_info": {
   "codemirror_mode": {
    "name": "ipython",
    "version": 3
   },
   "file_extension": ".py",
   "mimetype": "text/x-python",
   "name": "python",
   "nbconvert_exporter": "python",
   "pygments_lexer": "ipython3",
   "version": "3.12.6"
  }
 },
 "nbformat": 4,
 "nbformat_minor": 5
}
