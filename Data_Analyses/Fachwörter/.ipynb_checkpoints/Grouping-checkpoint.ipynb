{
 "cells": [
  {
   "cell_type": "markdown",
   "id": "3811d21f-8537-4a67-b1e8-605e97ad6802",
   "metadata": {},
   "source": [
    "# Grouping"
   ]
  },
  {
   "cell_type": "markdown",
   "id": "7d3125cb-34b5-4d4f-b0c0-579c7f3b9af2",
   "metadata": {},
   "source": [
    "Siehe: [df.groupby()](../Funktionen_und_Methoden/df.groupby.ipynb)"
   ]
  },
  {
   "cell_type": "markdown",
   "id": "dfe3fb61-ef06-430e-8fdb-5faf17dc2c3e",
   "metadata": {},
   "source": []
  }
 ],
 "metadata": {
  "kernelspec": {
   "display_name": "Python 3 (ipykernel)",
   "language": "python",
   "name": "python3"
  },
  "language_info": {
   "codemirror_mode": {
    "name": "ipython",
    "version": 3
   },
   "file_extension": ".py",
   "mimetype": "text/x-python",
   "name": "python",
   "nbconvert_exporter": "python",
   "pygments_lexer": "ipython3",
   "version": "3.12.6"
  }
 },
 "nbformat": 4,
 "nbformat_minor": 5
}
