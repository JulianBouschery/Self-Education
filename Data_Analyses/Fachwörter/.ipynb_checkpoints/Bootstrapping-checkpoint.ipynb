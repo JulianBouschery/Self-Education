{
 "cells": [
  {
   "cell_type": "markdown",
   "id": "545d9234-3eea-4700-9966-5aee712479c2",
   "metadata": {},
   "source": [
    "# Bootstrapping"
   ]
  },
  {
   "cell_type": "markdown",
   "id": "3f6adfa6-8333-4372-840d-4da2ee2e21d7",
   "metadata": {},
   "source": [
    "Bootstrapping ist eine statistische Methode, bei der durch wiederholtes Ziehen von Stichproben (mit Zurücklegen) aus den vorhandenen Daten viele neue Stichproben erzeugt werden. Diese Methode ermöglicht es, Schätzungen wie Mittelwerte oder Konfidenzintervalle zu berechnen, ohne starke Annahmen über die Verteilung der Daten treffen zu müssen. Es ist besonders nützlich, wenn keine theoretische Verteilung bekannt ist."
   ]
  },
  {
   "cell_type": "code",
   "execution_count": null,
   "id": "5d997678-f904-4fdf-9a42-180d87d6f314",
   "metadata": {},
   "outputs": [],
   "source": []
  }
 ],
 "metadata": {
  "kernelspec": {
   "display_name": "Python 3 (ipykernel)",
   "language": "python",
   "name": "python3"
  },
  "language_info": {
   "codemirror_mode": {
    "name": "ipython",
    "version": 3
   },
   "file_extension": ".py",
   "mimetype": "text/x-python",
   "name": "python",
   "nbconvert_exporter": "python",
   "pygments_lexer": "ipython3",
   "version": "3.12.6"
  }
 },
 "nbformat": 4,
 "nbformat_minor": 5
}
