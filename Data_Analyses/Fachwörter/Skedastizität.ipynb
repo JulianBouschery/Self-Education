{
 "cells": [
  {
   "cell_type": "markdown",
   "id": "f5e3f6ba-32fc-49a1-86f9-14e5698f237a",
   "metadata": {},
   "source": [
    "# Homo- und Heteroskedastizität"
   ]
  },
  {
   "cell_type": "code",
   "execution_count": null,
   "id": "6ededabf-3490-4457-be23-9cfa4a53b7b6",
   "metadata": {},
   "outputs": [],
   "source": []
  },
  {
   "cell_type": "markdown",
   "id": "67a73a52-20f5-414c-8461-e614a43aaaaa",
   "metadata": {},
   "source": [
    "![Homosk.](220px-Homosk.png)"
   ]
  },
  {
   "cell_type": "markdown",
   "id": "2f490ad2-e795-4171-8d24-98ad5acbe934",
   "metadata": {},
   "source": [
    "![Heterosk.](220px-Heterosk1.png)"
   ]
  },
  {
   "cell_type": "code",
   "execution_count": null,
   "id": "77932306-5411-4fe7-8276-56827bdef471",
   "metadata": {},
   "outputs": [],
   "source": []
  }
 ],
 "metadata": {
  "kernelspec": {
   "display_name": "Python 3 (ipykernel)",
   "language": "python",
   "name": "python3"
  },
  "language_info": {
   "codemirror_mode": {
    "name": "ipython",
    "version": 3
   },
   "file_extension": ".py",
   "mimetype": "text/x-python",
   "name": "python",
   "nbconvert_exporter": "python",
   "pygments_lexer": "ipython3",
   "version": "3.12.6"
  }
 },
 "nbformat": 4,
 "nbformat_minor": 5
}
