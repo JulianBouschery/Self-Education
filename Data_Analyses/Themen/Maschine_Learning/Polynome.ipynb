{
 "cells": [
  {
   "cell_type": "markdown",
   "id": "5a6476ba-5cdb-4abf-952d-47666bff14a5",
   "metadata": {},
   "source": [
    "# Polynom"
   ]
  },
  {
   "cell_type": "markdown",
   "id": "62ba5d04-08ec-4ccb-aa47-d15720d117e7",
   "metadata": {},
   "source": [
    "Was ist ein Polynom?"
   ]
  },
  {
   "cell_type": "markdown",
   "id": "120741ef-d01d-43a4-9da0-a947947850ae",
   "metadata": {},
   "source": [
    "Polynome im Machine Learning werden häufig in Zusammenhang mit **Polynomieller Regression** verwendet, einem speziellen Fall der linearen Regression. In einfachen Worten helfen Polynome dabei, komplexe, nicht-lineare Beziehungen zwischen den Eingabe- und Zielvariablen zu modellieren.\n",
    "\n",
    "### Was ist ein Polynom?\n",
    "Ein Polynom ist ein mathematischer Ausdruck, der aus einer Summe von Potenzen einer Variablen besteht, multipliziert mit Koeffizienten. Zum Beispiel:\n",
    "\n",
    "- \\( f(x) = 2x + 3 \\) ist ein Polynom erster Ordnung (lineares Polynom).\n",
    "- \\( f(x) = 4x^2 + 2x + 1 \\) ist ein Polynom zweiter Ordnung (quadratisch).\n",
    "- \\( f(x) = 5x^3 + 4x^2 + 2x + 7 \\) ist ein Polynom dritter Ordnung (kubisch).\n",
    "\n",
    "Die allgemeine Form eines Polynoms lautet:\n",
    "\\[ f(x) = a_n x^n + a_{n-1} x^{n-1} + ... + a_1 x + a_0 \\]\n",
    "\n",
    "### Warum sind Polynome im Machine Learning nützlich?\n",
    "\n",
    "Polynome erlauben es uns, **nicht-lineare Zusammenhänge** zwischen den Variablen zu modellieren. Wenn der Zusammenhang zwischen den Eingaben (Features) und dem Output nicht linear ist, kann ein Modell auf Basis einfacher linearer Regressionen möglicherweise keine gute Leistung erbringen. Durch die Verwendung von Polynomen können wir jedoch besser auf die komplexeren Datenbeziehungen eingehen.\n",
    "\n",
    "### Polynomielles Feature-Engineering\n",
    "\n",
    "Um polynomielle Modelle zu erstellen, erweitert man die ursprünglichen Features um zusätzliche **polynomielle Terme**. Zum Beispiel, wenn man eine Eingangsvariable \\(x\\) hat und polynomielle Regression zweiter Ordnung anwendet, fügt man eine neue Variable \\(x^2\\) hinzu. Das Modell hat dann die Form:\n",
    "\n",
    "\\[ y = \\theta_0 + \\theta_1 x + \\theta_2 x^2 \\]\n",
    "\n",
    "Hier werden die Koeffizienten \\(\\theta_0, \\theta_1, \\theta_2\\) durch das Training des Modells gelernt.\n",
    "\n",
    "### Beispiel in Python (polynomielle Regression mit scikit-learn)\n",
    "Hier ist ein einfaches Beispiel, wie man eine polynomielle Regression mit Python umsetzt:\n",
    "\n",
    "```python\n",
    "from sklearn.preprocessing import PolynomialFeatures\n",
    "from sklearn.linear_model import LinearRegression\n",
    "from sklearn.pipeline import make_pipeline\n",
    "import numpy as np\n",
    "import matplotlib.pyplot as plt\n",
    "\n",
    "# Beispiel-Daten\n",
    "X = np.array([1, 2, 3, 4, 5]).reshape(-1, 1)\n",
    "y = np.array([1, 4, 9, 16, 25])\n",
    "\n",
    "# Modell der 2. Ordnung (quadratisches Polynom)\n",
    "polynom = PolynomialFeatures(degree=2)\n",
    "model = make_pipeline(polynom, LinearRegression())\n",
    "\n",
    "# Modell trainieren\n",
    "model.fit(X, y)\n",
    "\n",
    "# Vorhersagen und Plot\n",
    "X_test = np.linspace(1, 5, 100).reshape(-1, 1)\n",
    "y_pred = model.predict(X_test)\n",
    "\n",
    "plt.scatter(X, y, color='blue')  # Trainingsdaten\n",
    "plt.plot(X_test, y_pred, color='red')  # Polynomielle Vorhersagen\n",
    "plt.show()\n",
    "```\n",
    "\n",
    "In diesem Beispiel wird ein quadratisches Polynom genutzt, um die quadratische Beziehung zwischen \\(X\\) und \\(y\\) zu modellieren.\n",
    "\n",
    "### Zusammenfassung\n",
    "Polynome im Machine Learning sind nützlich, um nicht-lineare Beziehungen zu modellieren. Sie erweitern lineare Modelle, indem sie zusätzliche Feature-Terme wie \\(x^2\\) oder \\(x^3\\) einführen, was dem Modell ermöglicht, besser mit komplexen Mustern in den Daten umzugehen."
   ]
  },
  {
   "cell_type": "code",
   "execution_count": null,
   "id": "9594c171-6150-4a68-b48d-80683723cd15",
   "metadata": {},
   "outputs": [],
   "source": []
  }
 ],
 "metadata": {
  "kernelspec": {
   "display_name": "Python 3 (ipykernel)",
   "language": "python",
   "name": "python3"
  },
  "language_info": {
   "codemirror_mode": {
    "name": "ipython",
    "version": 3
   },
   "file_extension": ".py",
   "mimetype": "text/x-python",
   "name": "python",
   "nbconvert_exporter": "python",
   "pygments_lexer": "ipython3",
   "version": "3.12.6"
  }
 },
 "nbformat": 4,
 "nbformat_minor": 5
}
