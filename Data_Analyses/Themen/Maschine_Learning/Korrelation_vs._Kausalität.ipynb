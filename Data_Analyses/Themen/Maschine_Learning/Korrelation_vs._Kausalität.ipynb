{
 "cells": [
  {
   "cell_type": "markdown",
   "id": "71ccb63a-60bf-47ba-a8dd-bdc5f0af66a6",
   "metadata": {},
   "source": [
    "# Korrelation $\\neq$ Kausalität"
   ]
  },
  {
   "cell_type": "code",
   "execution_count": null,
   "id": "71791b34-0251-4357-b763-51c0e2f7f9d3",
   "metadata": {},
   "outputs": [],
   "source": []
  }
 ],
 "metadata": {
  "kernelspec": {
   "display_name": "Python 3 (ipykernel)",
   "language": "python",
   "name": "python3"
  },
  "language_info": {
   "codemirror_mode": {
    "name": "ipython",
    "version": 3
   },
   "file_extension": ".py",
   "mimetype": "text/x-python",
   "name": "python",
   "nbconvert_exporter": "python",
   "pygments_lexer": "ipython3",
   "version": "3.12.6"
  }
 },
 "nbformat": 4,
 "nbformat_minor": 5
}
