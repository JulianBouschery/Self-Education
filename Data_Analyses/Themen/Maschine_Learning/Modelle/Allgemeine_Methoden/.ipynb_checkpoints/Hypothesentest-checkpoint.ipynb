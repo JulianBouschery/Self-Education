{
 "cells": [
  {
   "cell_type": "markdown",
   "id": "aa949924-132d-46c6-b668-2ea1eeb567f4",
   "metadata": {},
   "source": [
    "#  Hypothesentests und Fehler"
   ]
  },
  {
   "cell_type": "markdown",
   "id": "8b34a6f8-cc1b-45c5-bda7-702ae909d61c",
   "metadata": {},
   "source": [
    "[Hypothesentest, Youtub](https://studyflix.de/statistik/hypothesentest-1719)\n",
    "\n",
    "[Hypothesentest, Statistik, Wikipedia](https://de.wikipedia.org/wiki/Hypothese_(Statistik))"
   ]
  },
  {
   "cell_type": "markdown",
   "id": "c6e6b815-f5dc-44a9-a4e2-2f9856329864",
   "metadata": {},
   "source": [
    "## 1. Hypothesen: Nullhypothese und Alternativhypothese\n",
    "\n",
    "Ein Hypothesentest beginnt mit zwei sich gegenseitig ausschließenden Hypothesen:\n",
    "- **Nullhypothese (H0)**: Sie geht davon aus, dass es keinen Effekt oder Unterschied gibt. Beispiel: Der Mittelwert einer Stichprobe ist gleich dem Mittelwert der Grundgesamtheit.\n",
    "- **Alternativhypothese (H1)**: Sie postuliert das Gegenteil, dass es einen Effekt oder Unterschied gibt. Beispiel: Der Mittelwert einer Stichprobe unterscheidet sich signifikant vom Mittelwert der Grundgesamtheit.\n",
    "\n",
    "In einem Hypothesentest versucht man zu bestimmen, ob man genügend Beweise hat, um die Nullhypothese zu verwerfen und die Alternativhypothese zu akzeptieren.\n"
   ]
  },
  {
   "cell_type": "markdown",
   "id": "7a5a29ed-813b-4d64-8b1e-8631ea2f56cd",
   "metadata": {},
   "source": [
    "## 2. Der Ablauf eines Hypothesentests\n",
    "### Schritt 1: Null- und Alternativhypothese aufstellen\n",
    "Zunächst definieren wir die Hypothesen basierend auf der Fragestellung.\n",
    "\n",
    "### Schritt 2: Teststatistik berechnen\n",
    "Die Teststatistik wird berechnet, um den Unterschied zwischen den beobachteten Daten und der Nullhypothese zu messen.\n",
    "\n",
    "### Schritt 3: p-Wert bestimmen\n",
    "Der p-Wert gibt an, wie wahrscheinlich es ist, dass die beobachteten Daten unter der Annahme der Nullhypothese auftreten.\n",
    "\n",
    "### Schritt 4: Ergebnis interpretieren\n",
    "Wenn der p-Wert kleiner ist als ein vordefiniertes Signifikanzniveau (z.B. 0,05), dann wird die Nullhypothese abgelehnt.\n"
   ]
  },
  {
   "cell_type": "markdown",
   "id": "0593ea52-ff1d-4379-b404-9234465e908c",
   "metadata": {},
   "source": [
    "## Fehler Arten"
   ]
  },
  {
   "cell_type": "markdown",
   "id": "5cf6e305-c75e-44a1-8a38-746426f08fc6",
   "metadata": {},
   "source": [
    "[Fehler 1. Art](Fehler_1_Art.ipynb)"
   ]
  },
  {
   "cell_type": "markdown",
   "id": "757f230a-4846-438d-8ee5-390c2ddce45a",
   "metadata": {},
   "source": [
    "[Fehler 2. Art](Fehler_2_Art.ipynb)"
   ]
  },
  {
   "cell_type": "markdown",
   "id": "debd7821-ef43-419e-8b76-848bb5b42a1f",
   "metadata": {},
   "source": [
    "[t- vs. z-Statistik und p-Wert](tzp.ipynb)"
   ]
  },
  {
   "cell_type": "markdown",
   "id": "336a9cab-4971-4f02-9769-e06f81820898",
   "metadata": {},
   "source": [
    "https://de.wikipedia.org/wiki/Fehler_1._und_2._Art"
   ]
  },
  {
   "cell_type": "markdown",
   "id": "a49016f5-ad8c-48f3-b583-12274addd71c",
   "metadata": {},
   "source": [
    "https://studyflix.de/statistik/hypothesentest-1719"
   ]
  },
  {
   "cell_type": "markdown",
   "id": "91034aae-9851-4a4b-a7ae-9de1364014dc",
   "metadata": {},
   "source": [
    "https://studyflix.de/statistik/signifikanzniveau-1587"
   ]
  },
  {
   "cell_type": "markdown",
   "id": "cd70340e-6b22-478c-b402-693b06a74df8",
   "metadata": {},
   "source": [
    "## 5. Der p-Wert\n",
    "Der p-Wert, der als Variable (alpha) bei der Berechnung des Diagramms verwendet wird gibt an, wie wahrscheinlich es ist, dass die beobachteten Daten auftreten, wenn die Nullhypothese wahr ist. Ein kleiner p-Wert (< 0,05) deutet darauf hin, dass es starke Beweise gegen die Nullhypothese gibt.\n"
   ]
  },
  {
   "cell_type": "markdown",
   "id": "1d2be0ad-269b-4bc4-a759-8acb84efd559",
   "metadata": {},
   "source": [
    "## Zusammenfassung\n",
    "In diesem Unterricht haben wir gelernt, was Hypothesentests sind, wie man sie durchführt und welche Arten von Fehlern auftreten können. Wir haben auch den p-Wert und seine Bedeutung für die Entscheidung zwischen Nullhypothese und Alternativhypothese kennengelernt.\n",
    "\n",
    "**Wichtige Konzepte:**\n",
    "- Nullhypothese und Alternativhypothese\n",
    "- Fehler 1. Art (Alpha-Fehler) und Fehler 2. Art (Beta-Fehler)\n",
    "- Der p-Wert und seine Interpretation\n",
    "- Hypothesentests wie der t-Test\n"
   ]
  }
 ],
 "metadata": {
  "kernelspec": {
   "display_name": "Python 3 (ipykernel)",
   "language": "python",
   "name": "python3"
  },
  "language_info": {
   "codemirror_mode": {
    "name": "ipython",
    "version": 3
   },
   "file_extension": ".py",
   "mimetype": "text/x-python",
   "name": "python",
   "nbconvert_exporter": "python",
   "pygments_lexer": "ipython3",
   "version": "3.12.6"
  }
 },
 "nbformat": 4,
 "nbformat_minor": 5
}
