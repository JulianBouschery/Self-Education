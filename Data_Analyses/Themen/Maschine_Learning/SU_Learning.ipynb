{
 "cells": [
  {
   "cell_type": "markdown",
   "id": "4610f7d4-b238-4512-b35d-9e1d1ed34626",
   "metadata": {},
   "source": [
    "# Supervised und Unsupervised Learning "
   ]
  },
  {
   "cell_type": "markdown",
   "id": "a92f3776-3601-416f-ad11-e94354f16d72",
   "metadata": {},
   "source": [
    "https://www.scribbr.com/ai-tools/supervised-vs-unsupervised-learning/#:~:text=There%20are%20two%20main%20approaches%20to"
   ]
  },
  {
   "cell_type": "code",
   "execution_count": null,
   "id": "0676c454-0d4d-4f97-bf37-86b7bce97915",
   "metadata": {},
   "outputs": [],
   "source": []
  }
 ],
 "metadata": {
  "kernelspec": {
   "display_name": "Python 3 (ipykernel)",
   "language": "python",
   "name": "python3"
  },
  "language_info": {
   "codemirror_mode": {
    "name": "ipython",
    "version": 3
   },
   "file_extension": ".py",
   "mimetype": "text/x-python",
   "name": "python",
   "nbconvert_exporter": "python",
   "pygments_lexer": "ipython3",
   "version": "3.12.6"
  }
 },
 "nbformat": 4,
 "nbformat_minor": 5
}
