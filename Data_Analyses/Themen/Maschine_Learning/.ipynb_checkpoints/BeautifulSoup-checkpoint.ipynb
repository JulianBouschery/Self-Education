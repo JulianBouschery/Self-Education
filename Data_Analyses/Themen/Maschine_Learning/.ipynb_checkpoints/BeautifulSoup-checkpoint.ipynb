{
 "cells": [
  {
   "cell_type": "markdown",
   "id": "361795c7-670c-47a0-b046-817058767a20",
   "metadata": {},
   "source": [
    "# BeautifulSoup"
   ]
  },
  {
   "cell_type": "markdown",
   "id": "0d5d8a38-8a16-461e-bc77-1cf6221670cd",
   "metadata": {},
   "source": [
    "view-source:https://example.com/"
   ]
  },
  {
   "cell_type": "markdown",
   "id": "10782547-c41b-4ed7-8d43-f65304151606",
   "metadata": {},
   "source": [
    "Rechtsklick und dann \"Seitenquelltext anzeigen\""
   ]
  },
  {
   "cell_type": "code",
   "execution_count": null,
   "id": "be4df37a-e59e-4ebc-93e6-d41274cbd6c0",
   "metadata": {},
   "outputs": [],
   "source": []
  }
 ],
 "metadata": {
  "kernelspec": {
   "display_name": "Python 3 (ipykernel)",
   "language": "python",
   "name": "python3"
  },
  "language_info": {
   "codemirror_mode": {
    "name": "ipython",
    "version": 3
   },
   "file_extension": ".py",
   "mimetype": "text/x-python",
   "name": "python",
   "nbconvert_exporter": "python",
   "pygments_lexer": "ipython3",
   "version": "3.12.6"
  }
 },
 "nbformat": 4,
 "nbformat_minor": 5
}
