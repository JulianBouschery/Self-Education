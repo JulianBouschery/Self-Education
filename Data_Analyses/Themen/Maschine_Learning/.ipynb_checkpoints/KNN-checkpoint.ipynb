{
 "cells": [
  {
   "cell_type": "markdown",
   "id": "9b8b381a-5db3-4d93-9f72-ec3e569d5163",
   "metadata": {},
   "source": [
    "# KNN"
   ]
  },
  {
   "cell_type": "markdown",
   "id": "8b42ffba-9f09-4714-b198-fb09c7d66a07",
   "metadata": {},
   "source": [
    "K-Nearest Neighbors (KNN) ist ein einfacher, instanzbasierter Algorithmus, der zur Klassifikation oder Regression verwendet wird, indem er die k nächsten Datenpunkte im Merkmalsraum identifiziert und deren Mehrheitsklasse oder Mittelwert als Vorhersage verwendet."
   ]
  },
  {
   "cell_type": "markdown",
   "id": "34434694-3674-414d-bd9c-2ff838cc0fdf",
   "metadata": {},
   "source": [
    "https://de.wikipedia.org/wiki/N%C3%A4chste-Nachbarn-Klassifikation"
   ]
  },
  {
   "cell_type": "markdown",
   "id": "4b149096-dc18-4a72-8710-0b016f3c6f79",
   "metadata": {},
   "source": [
    "https://www.ibm.com/de-de/topics/knn#:~:text=Der%20K-N%C3%A4chste-Nachbarn-Algorithmus%2C%20auch%20KNN%20oder%20k-NN%20genannt%2C%20ist,%C3%BCber%20die%20Gruppierung%20eines%20einzelnen%20Datenpunktes%20zu%20treffen."
   ]
  },
  {
   "cell_type": "markdown",
   "id": "8b9ab9d4-e78e-40f9-90be-3c3f1fa9bfa0",
   "metadata": {},
   "source": [
    "https://www.bing.com/images/search?view=detailV2&ccid=hWKh7OWt&id=35A6F4D444BB86B8E7EFEFB2545D515FD92AE57A&thid=OIP.hWKh7OWtNTaJf4XQXg5cRQHaCw&mediaurl=https%3a%2f%2flh5.googleusercontent.com%2fVLwovohNM_KYh_NNJmG7ZzJF19HYnpr88hsCI5eHtafNjb63HQ6yYpxkwFuVagnDfrPrFqzWyzq9yp2bn25YtC-MHBaKU0M5ph5laf4gVL1JgwPhsKO9hsWyo5joIXY4F1Q11JIL&cdnurl=https%3a%2f%2fth.bing.com%2fth%2fid%2fR.8562a1ece5ad3536897f85d05e0e5c45%3frik%3deuUq2V9RXVSy7w%26pid%3dImgRaw%26r%3d0&exph=500&expw=1339&q=k-mean+nearest+neighbor+(DBSCan)+unterschiede&simid=608001863430574515&FORM=IRPRST&ck=9FE7184FD36FF7C55E0815ACF356DBE8&selectedIndex=0&itb=0&ajaxhist=0&ajaxserp=0"
   ]
  },
  {
   "cell_type": "markdown",
   "id": "4e4797bc-54f1-4254-9bb0-308dc3e9b2c5",
   "metadata": {},
   "source": [
    "<img src=\"../../Zentral_Ordner/Bilder/Voronoi_diagram.png\" alt=\"Bild\" width=\"50%\">"
   ]
  },
  {
   "cell_type": "markdown",
   "id": "1bec93e2-e8f3-48d9-84b3-8c48cda49adf",
   "metadata": {},
   "source": [
    "[Bild-Quelle](https://de.wikipedia.org/wiki/N%C3%A4chste-Nachbarn-Klassifikation)"
   ]
  },
  {
   "cell_type": "code",
   "execution_count": null,
   "id": "48a6074a-0f86-4baa-9a18-7b1f5de090e5",
   "metadata": {},
   "outputs": [],
   "source": []
  }
 ],
 "metadata": {
  "kernelspec": {
   "display_name": "Python 3 (ipykernel)",
   "language": "python",
   "name": "python3"
  },
  "language_info": {
   "codemirror_mode": {
    "name": "ipython",
    "version": 3
   },
   "file_extension": ".py",
   "mimetype": "text/x-python",
   "name": "python",
   "nbconvert_exporter": "python",
   "pygments_lexer": "ipython3",
   "version": "3.12.6"
  }
 },
 "nbformat": 4,
 "nbformat_minor": 5
}
