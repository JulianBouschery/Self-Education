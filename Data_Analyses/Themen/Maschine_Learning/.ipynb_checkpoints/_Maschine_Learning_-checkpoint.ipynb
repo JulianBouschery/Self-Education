{
 "cells": [
  {
   "cell_type": "markdown",
   "id": "19054d01-695d-4660-8277-12070320554f",
   "metadata": {},
   "source": [
    "# Maschine Learning"
   ]
  },
  {
   "cell_type": "markdown",
   "id": "1f857b7a-e979-48f3-add9-9ceb4cc12166",
   "metadata": {},
   "source": [
    "Was ist Maschine Learning? "
   ]
  },
  {
   "cell_type": "markdown",
   "id": "f4a2c3ad-aec9-4cff-9ac8-eb753e50422f",
   "metadata": {},
   "source": [
    "Was für [Unterschiedliche Modelle](Unterschiedliche_Modelle.ipynb) gibt es im Maschine Learning?"
   ]
  },
  {
   "cell_type": "code",
   "execution_count": null,
   "id": "1d08681d-14eb-43cf-b663-dbf129696569",
   "metadata": {},
   "outputs": [],
   "source": [
    "Welche unterschiedlichen Modelle gibt es?\n",
    "Polynome\n",
    "Supervised und Unsupervised Learning\n",
    "KNN\n",
    "Wie groß muss ein Datensatz / eine Stichprobe sein?\n",
    "Korrelation ist nicht gleich Kausalität\n",
    "Support Vector Maschine\n",
    "Verwirrungsmatrix\n",
    "Hypotesentesting\n",
    "Regression\n",
    "- Lineare Regression\n",
    "- Logistische Regression\n"
   ]
  }
 ],
 "metadata": {
  "kernelspec": {
   "display_name": "Python 3 (ipykernel)",
   "language": "python",
   "name": "python3"
  },
  "language_info": {
   "codemirror_mode": {
    "name": "ipython",
    "version": 3
   },
   "file_extension": ".py",
   "mimetype": "text/x-python",
   "name": "python",
   "nbconvert_exporter": "python",
   "pygments_lexer": "ipython3",
   "version": "3.12.6"
  }
 },
 "nbformat": 4,
 "nbformat_minor": 5
}
