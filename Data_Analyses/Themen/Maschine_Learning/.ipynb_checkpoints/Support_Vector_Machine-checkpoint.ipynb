{
 "cells": [
  {
   "cell_type": "markdown",
   "id": "76ccf79f-1ee8-4807-b0f1-3f57db2c7c97",
   "metadata": {},
   "source": [
    "# Support Vector Machine"
   ]
  },
  {
   "cell_type": "markdown",
   "id": "407ef2a2-bd1d-4b97-b049-0e8cae87b716",
   "metadata": {},
   "source": [
    "https://en.wikipedia.org/wiki/Support_vector_machine"
   ]
  },
  {
   "cell_type": "markdown",
   "id": "6ffb8a36-19b6-4cc6-980f-ad8cd3dc2e05",
   "metadata": {},
   "source": [
    "https://scikit-learn.org/stable/modules/svm.html"
   ]
  },
  {
   "cell_type": "markdown",
   "id": "54a1cff1-f497-4d68-9e0c-9702c826a668",
   "metadata": {},
   "source": [
    "https://medium.com/analytics-vidhya/regularization-understanding-l1-and-l2-regularization-for-deep-learning-a7b9e4a409bf"
   ]
  },
  {
   "cell_type": "markdown",
   "id": "1742c730-e32d-4e2b-b10a-6e2d59e1a8ba",
   "metadata": {},
   "source": [
    "https://scikit-learn.org/stable/modules/generated/sklearn.svm.LinearSVC.html#sklearn.svm.LinearSVCm"
   ]
  },
  {
   "cell_type": "markdown",
   "id": "55d82a5d-009e-4f0b-b1b5-9e27ab919081",
   "metadata": {},
   "source": [
    "https://www.statistik-nachhilfe.de/ratgeber/statistik/induktive-statistik/statistische-modellbildung-und-weitere-methoden"
   ]
  },
  {
   "cell_type": "code",
   "execution_count": null,
   "id": "9f563a90-227e-4966-805e-cbedd0f03189",
   "metadata": {},
   "outputs": [],
   "source": []
  }
 ],
 "metadata": {
  "kernelspec": {
   "display_name": "Python 3 (ipykernel)",
   "language": "python",
   "name": "python3"
  },
  "language_info": {
   "codemirror_mode": {
    "name": "ipython",
    "version": 3
   },
   "file_extension": ".py",
   "mimetype": "text/x-python",
   "name": "python",
   "nbconvert_exporter": "python",
   "pygments_lexer": "ipython3",
   "version": "3.12.6"
  }
 },
 "nbformat": 4,
 "nbformat_minor": 5
}
