{
 "cells": [
  {
   "cell_type": "markdown",
   "id": "89587b8d-fea9-43b5-9140-64ca8e2ed0d7",
   "metadata": {},
   "source": [
    "# TensorFlow"
   ]
  },
  {
   "cell_type": "markdown",
   "id": "b037fb2a-b69a-4db7-9e4d-3f4629265969",
   "metadata": {},
   "source": [
    "TensorFlow ist ein Open-Source-Framework von Google, das für maschinelles Lernen und künstliche Intelligenz verwendet wird. Es bietet Werkzeuge und Bibliotheken, um neuronale Netze effizient zu erstellen, zu trainieren und in Produktionsumgebungen einzusetzen. TensorFlow arbeitet hauptsächlich mit Datenflüssen (engl. \"tensors\"), wo Daten durch eine Reihe von Berechnungen (engl. \"graph\") fließen.\n",
    "\n",
    "### Wichtige Punkte:\n",
    "1. **Tensors**: TensorFlow verarbeitet Daten in Form von Tensors (mehrdimensionale Arrays).\n",
    "2. **Graphen**: Es erstellt einen Berechnungsgraphen, der beschreibt, wie Daten von Operationen durchlaufen werden.\n",
    "3. **Kompatibilität**: Unterstützt CPU, GPU und TPU für skalierbare Berechnungen.\n",
    "4. **Vielseitigkeit**: Wird für viele Aufgaben des maschinellen Lernens verwendet, wie Klassifikation, Vorhersage, Bildverarbeitung, Textanalyse etc.\n",
    "\n",
    "\n",
    "\n",
    "### Erklärung:\n",
    "- **Layers**: Das Modell hat drei Schichten (einschließlich einer Ausgabeschicht mit 10 Klassen).\n",
    "- **Kompilierung**: Wir verwenden den Adam-Optimizer und die `sparse_categorical_crossentropy`-Loss-Funktion, die für Multi-Klassen-Klassifikationsprobleme geeignet ist.\n",
    "- **Training**: Dummy-Daten werden für fünf Epochen trainiert.\n",
    "\n",
    "TensorFlow ist vielseitig und flexibel, sodass du sowohl einfache als auch sehr komplexe Modelle, wie Convolutional Neural Networks (CNNs) und Recurrent Neural Networks (RNNs), erstellen kannst."
   ]
  },
  {
   "cell_type": "markdown",
   "id": "1f5e3da0-77c8-49bc-b09e-78648403c022",
   "metadata": {},
   "source": [
    "# Test"
   ]
  },
  {
   "cell_type": "markdown",
   "id": "fe71b1d9-93a9-40ef-96b2-614f77fb4608",
   "metadata": {},
   "source": [
    "[Tensorflow am Beispiel von BitCoin](../../Zentral_Ordner/End_to_End_Projektbeispiele/Tensorflow_BitCoin.ipynb)"
   ]
  },
  {
   "cell_type": "code",
   "execution_count": null,
   "id": "3e34e49c-4b53-4d1f-ae66-54e99c6fa94a",
   "metadata": {},
   "outputs": [],
   "source": []
  }
 ],
 "metadata": {
  "kernelspec": {
   "display_name": "Python 3 (ipykernel)",
   "language": "python",
   "name": "python3"
  },
  "language_info": {
   "codemirror_mode": {
    "name": "ipython",
    "version": 3
   },
   "file_extension": ".py",
   "mimetype": "text/x-python",
   "name": "python",
   "nbconvert_exporter": "python",
   "pygments_lexer": "ipython3",
   "version": "3.12.6"
  }
 },
 "nbformat": 4,
 "nbformat_minor": 5
}
