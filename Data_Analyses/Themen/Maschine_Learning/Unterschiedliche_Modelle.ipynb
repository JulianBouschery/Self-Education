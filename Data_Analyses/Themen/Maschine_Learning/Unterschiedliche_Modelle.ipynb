{
 "cells": [
  {
   "cell_type": "markdown",
   "id": "f884efd1-0a3b-4981-a7f3-592bdd571ede",
   "metadata": {},
   "source": [
    "# Die unterschiedlichen Modelle"
   ]
  },
  {
   "cell_type": "markdown",
   "id": "e8d206a2-7671-4593-bc7d-45f28b05393a",
   "metadata": {},
   "source": [
    "Im Maschine Learning unterscheidet man Grundsätzlich zwischen dem Supervised und Unsupervised Learning."
   ]
  },
  {
   "cell_type": "markdown",
   "id": "44b5e754-66b6-485a-a120-ca1290f6f0d2",
   "metadata": {},
   "source": [
    "<img src=\"supervised-vs-unsupervised-learning.jpg\" alt=\"Bild\" width=\"60%\">"
   ]
  },
  {
   "cell_type": "markdown",
   "id": "ea35485b-3dad-4476-9c21-283c06f0ff27",
   "metadata": {},
   "source": [
    "[Bild-Quelle](https://www.scribbr.com/ai-tools/supervised-vs-unsupervised-learning/#:~:text=There%20are%20two%20main%20approaches%20to)"
   ]
  },
  {
   "cell_type": "markdown",
   "id": "1b3b42cc-9631-4248-9c77-674b66f7fc62",
   "metadata": {},
   "source": [
    "Beim **Supervised Learning** lernt ein Modell aus **vorgegebenen Antworten** (Labels) und versucht, ähnliche Antworten für neue Daten vorherzusagen.\n",
    "\n",
    "Beim **Unsupervised Learning** gibt es **keine vorgegebenen Antworten**. Das Modell sucht selbst nach Mustern oder Gruppen in den Daten."
   ]
  },
  {
   "cell_type": "markdown",
   "id": "5e8e615a-40fc-4500-b2c0-2b387eff8350",
   "metadata": {},
   "source": [
    "# Supervised Learning"
   ]
  },
  {
   "cell_type": "markdown",
   "id": "1561914c-f972-450d-9477-fabbc533ce7a",
   "metadata": {},
   "source": [
    "Zum Supervised Learning gehören die folgenden Modelle:"
   ]
  },
  {
   "cell_type": "markdown",
   "id": "92641848-f461-49a6-b307-0a058ccbfaee",
   "metadata": {},
   "source": [
    "## Regressionsmodell"
   ]
  },
  {
   "cell_type": "markdown",
   "id": "8d22203d-6e67-4217-95fb-4a9933812204",
   "metadata": {},
   "source": [
    "Ein **Regressionsmodell** sagt einen **kontinuierlichen Wert** ([Zielvariable](../Fachwörter/Zielvariable.ipynb)) basierend auf einer oder mehreren unabhängigen Variablen (Prädiktoren) vorher."
   ]
  },
  {
   "cell_type": "markdown",
   "id": "529a08d2-b87f-49f1-b196-7de5f2f21da9",
   "metadata": {},
   "source": [
    "Zu dieser Art von Modellen gehören:\n",
    "\n",
    "[Lineare Regression](./Modelle/Lineare_Regression/Lineare_Regression.ipynb)\n",
    "\n",
    "[Ridge Regression](./Modelle/Lineare_Regression/ridge_Regression.ipynb)\n"
   ]
  },
  {
   "cell_type": "markdown",
   "id": "4040bf6d-246e-4c64-95d1-848f3814c2fe",
   "metadata": {},
   "source": [
    "## Klassifikationsmodell"
   ]
  },
  {
   "cell_type": "markdown",
   "id": "a820cbe6-6a28-417f-b4a9-b3568b3e9c4c",
   "metadata": {},
   "source": [
    "Ein **Klassifikationsmodell** ordnet Datenpunkte einer von mehreren Kategorien (Klassen) zu, basierend auf ihren Eigenschaften oder Merkmalen. Es wird verwendet, um diskrete Werte (Kategorien) vorherzusagen. (Ja/Nein Ergebnis)"
   ]
  },
  {
   "cell_type": "markdown",
   "id": "12f76207-5412-4dd4-91ea-2f545d6eef6d",
   "metadata": {},
   "source": [
    "Zu dieser Art von Modellen gehören:\n",
    "\n",
    "[Logistische Regression](./Modelle/Logististische_Regression/Logistische_Regression.ipynb)"
   ]
  },
  {
   "cell_type": "markdown",
   "id": "542fc449-62c2-45d9-89e2-29e3bffac16a",
   "metadata": {},
   "source": [
    "## Sonderfälle:"
   ]
  },
  {
   "cell_type": "markdown",
   "id": "0bdf04d7-815f-453c-82ec-49a2906e3871",
   "metadata": {},
   "source": [
    "Die folgenden Methoden können sowohl für Regressions- als auch für Klassifikationsmodelle verwendet werden.\n",
    "\n",
    "1. [Decsiontree's (Entscheidungsbäume)](./Modelle/Decisiontree/Decisiontree.ipynb)\n",
    "2. [Random Forest](./Modelle/Decisiontree/Random_Forest.ipynb), welches aus mehrere Decisiontrees hinter / untereinander besteht.\n"
   ]
  },
  {
   "cell_type": "markdown",
   "id": "54760062-84a5-47c9-bc16-521868897057",
   "metadata": {},
   "source": [
    "# Unsupervised Learning"
   ]
  },
  {
   "cell_type": "markdown",
   "id": "06086023-ef51-4310-8191-1d7ebbbb4045",
   "metadata": {},
   "source": [
    "[Clustering](./Modelle/Unsupervised/Cluster.ipynb)"
   ]
  },
  {
   "cell_type": "code",
   "execution_count": null,
   "id": "73be85cc-5a37-4ec0-81eb-cadb13162c2c",
   "metadata": {},
   "outputs": [],
   "source": []
  }
 ],
 "metadata": {
  "kernelspec": {
   "display_name": "Python 3 (ipykernel)",
   "language": "python",
   "name": "python3"
  },
  "language_info": {
   "codemirror_mode": {
    "name": "ipython",
    "version": 3
   },
   "file_extension": ".py",
   "mimetype": "text/x-python",
   "name": "python",
   "nbconvert_exporter": "python",
   "pygments_lexer": "ipython3",
   "version": "3.12.6"
  }
 },
 "nbformat": 4,
 "nbformat_minor": 5
}
