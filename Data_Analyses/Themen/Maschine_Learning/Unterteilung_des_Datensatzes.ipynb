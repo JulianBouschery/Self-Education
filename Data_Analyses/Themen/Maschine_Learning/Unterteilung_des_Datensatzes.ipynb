{
 "cells": [
  {
   "cell_type": "markdown",
   "id": "d50b3f5b-1c53-4c74-ac64-75b52108d05a",
   "metadata": {},
   "source": [
    "Quelle: https://datasolut.com/wiki/trainingsdaten-und-testdaten-machine-learning/"
   ]
  },
  {
   "cell_type": "markdown",
   "id": "6ffdfe1d-2d4c-45ff-b83d-b8045f0ef176",
   "metadata": {},
   "source": [
    "# Unterteilung des Datensatzes"
   ]
  },
  {
   "cell_type": "markdown",
   "id": "fa243610-783e-4073-ad52-52bd74684a93",
   "metadata": {},
   "source": [
    "Um ein Machine Learning Modell korrekt zu trainieren, wird ein Datensatz (Trainingsdaten) benötigt. Unüberwachtes Lernen braucht keine Beispiele und kann direkt mit den Eingabedaten trainiert werden. Überwachtes Lernen hingegen braucht Beispieldaten, also Daten wo die Zielvariable vorgegeben ist (bspw. Kauf Ja/Nein). Diesen Datensatz nennt man auch Beispieldatensatz.\n",
    "\n",
    "Bei überwachten Lernverfahren wird dieser Datensatz in der Regel in mindestens drei verschiedene Datensätze unterteilt: Training-, Validierung- und Testdaten."
   ]
  },
  {
   "cell_type": "markdown",
   "id": "a3934d87-48ee-4dbf-8a73-398f89dee7b5",
   "metadata": {},
   "source": [
    "<img src=\"Train-Test-Validation-Split-1024x434.jpg\" alt=\"Bild\" width=\"50%\">\n"
   ]
  },
  {
   "cell_type": "markdown",
   "id": "2736fe86-6f40-44dc-b713-e71ef77a2009",
   "metadata": {},
   "source": [
    "Alle drei Datensätze werden aus dem „Machine Learning Flatfile“ (Beispieldatensatz) erstellt. Eine mögliche Aufteilung könnte folgende sein:\n",
    "\n",
    "- 70% Trainingsdatensatz\n",
    "- 20% Validierungsdatensatz\n",
    "- 10% Testdatensatz"
   ]
  },
  {
   "cell_type": "markdown",
   "id": "7cfa6f45-e89b-4bea-8973-41d9282e260c",
   "metadata": {},
   "source": [
    "<img src=\"y_trainX_train.jpg\" alt=\"Bild\" width=\"50%\">"
   ]
  },
  {
   "cell_type": "markdown",
   "id": "0ce1150f-a1f5-4c19-9b5d-c553d45d62b8",
   "metadata": {},
   "source": [
    "Häufig tendieren Algorithmen dazu, bei den gelernten Mustern aus den Trainingsdaten zu einer Überanpassung (im Englischen „Overfitting“). Das heißt, die Zusammenhänge und Beziehungen aus den Trainingsdaten werden von dem Algorithmus zu stark antrainiert und diese Regeln funktionieren für die Gesamtheit nicht gut. \n",
    "\n",
    "Testdaten\n",
    "Die Testdaten sind von den Trainingsdaten unabhängig, sollten jedoch die gleiche Wahrscheinlichkeitsverteilung wie der Trainingsdatensatz aufweisen.\n",
    "\n",
    "Die Testdaten werden bei dem Training nicht genutzt d.h. der Algorithmus kennt die Daten nicht und kann diese nicht zum Lernen nutzen. Auch hier sind Beispiele bzw. Zielvariablen vorhanden, woran im Anschluss die Qualität des Modells gemessen werden kann.\n",
    "\n",
    "Wenn das trainierte Modell gut zu den Testdaten passt, d.h. die Beispieldaten mit einer guten Qualität vorhersagt, kann das Modell auf unbekannte (noch zu bewertende) Daten angewandt werden.\n",
    "\n",
    "Validierungsdaten\n",
    "Ein Validierungsdatensatz ist ebenfalls ein Beispieldatensatz. Die Validierungsdaten werden für die Abstimmung der Hyperparameter (d.h. für künstliche Neuronale Netzwerke der Architektur) eines Modells verwendet.\n",
    "\n",
    "So wird vor allem eine Überanpassung des Modells auf die Trainingsdaten vermieden."
   ]
  },
  {
   "cell_type": "markdown",
   "id": "2dcc5269-bad5-4201-adce-ff7737fa6977",
   "metadata": {},
   "source": [
    "# Trennung des Datensatzes in Trainingsdatensatz, Validierungsdatensatz und Testdatensatz"
   ]
  },
  {
   "cell_type": "markdown",
   "id": "15db794b-426c-4010-b31d-23503d84e5cb",
   "metadata": {},
   "source": [
    "Scikit_Learn Docs: https://scikit-learn.org/stable/modules/generated/sklearn.model_selection.train_test_split.html"
   ]
  },
  {
   "cell_type": "markdown",
   "id": "5ad75493-60c2-4ce6-87c1-9136fb3795b6",
   "metadata": {},
   "source": [
    "train_test_split: Teilt die Daten in 80 % Trainingsdaten und 20 % Testdaten auf. Der random_state sorgt dafür, dass die Aufteilung bei jeder Ausführung gleich bleibt (Reproduzierbarkeit)."
   ]
  },
  {
   "cell_type": "code",
   "execution_count": null,
   "id": "fed3edf5-7a0c-410f-b8f0-1fec974f25d2",
   "metadata": {},
   "outputs": [],
   "source": []
  }
 ],
 "metadata": {
  "kernelspec": {
   "display_name": "Python 3 (ipykernel)",
   "language": "python",
   "name": "python3"
  },
  "language_info": {
   "codemirror_mode": {
    "name": "ipython",
    "version": 3
   },
   "file_extension": ".py",
   "mimetype": "text/x-python",
   "name": "python",
   "nbconvert_exporter": "python",
   "pygments_lexer": "ipython3",
   "version": "3.12.6"
  }
 },
 "nbformat": 4,
 "nbformat_minor": 5
}
