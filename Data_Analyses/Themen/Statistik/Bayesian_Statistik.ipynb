{
 "cells": [
  {
   "cell_type": "markdown",
   "id": "7946490c-d5be-4a40-99e9-1f6f682e8f4a",
   "metadata": {},
   "source": [
    "# Bayesianische Statistik"
   ]
  },
  {
   "cell_type": "code",
   "execution_count": null,
   "id": "bcbc4ec4-a151-497b-b3f1-589379cdb05e",
   "metadata": {},
   "outputs": [],
   "source": []
  },
  {
   "cell_type": "code",
   "execution_count": null,
   "id": "517fdb5f-6a5e-4768-9b3f-32b72a924132",
   "metadata": {},
   "outputs": [],
   "source": []
  }
 ],
 "metadata": {
  "kernelspec": {
   "display_name": "Python 3 (ipykernel)",
   "language": "python",
   "name": "python3"
  },
  "language_info": {
   "codemirror_mode": {
    "name": "ipython",
    "version": 3
   },
   "file_extension": ".py",
   "mimetype": "text/x-python",
   "name": "python",
   "nbconvert_exporter": "python",
   "pygments_lexer": "ipython3",
   "version": "3.12.6"
  }
 },
 "nbformat": 4,
 "nbformat_minor": 5
}
