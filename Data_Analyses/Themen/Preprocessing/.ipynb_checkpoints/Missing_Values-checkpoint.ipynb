{
 "cells": [
  {
   "cell_type": "markdown",
   "id": "f9c28a12-e865-4fc8-bad8-c1b686fc34c9",
   "metadata": {},
   "source": [
    "# Missing Values"
   ]
  },
  {
   "cell_type": "markdown",
   "id": "b8ddb7f5-0316-409f-bd98-8b6e6e483743",
   "metadata": {},
   "source": [
    "Quelle: https://www.inwt-statistics.de/blog/fehlende-werte-verstehen-und-handhaben"
   ]
  },
  {
   "cell_type": "markdown",
   "id": "13802049-369b-4129-8f52-f53ad1f485ba",
   "metadata": {},
   "source": [
    "Fehlende oder unvollständige Daten können sich sehr negativ auf jedes Data Science-Projekt auswirken. Dies ist besonders relevant für Unternehmen die sich in den frühen Phasen der Entwicklung solider Datenerfassungs- und -verwaltungssysteme befinden.\n",
    "\n",
    "Während die beste Lösung für fehlende Werte darin besteht, sie zu vermeiden, indem gute Richtlinien für die Datenerfassung und -verwaltung entwickelt werden, bleibt uns letztendlich aber oft nichts anderes übrig als mit den Daten zu arbeiten, die uns zur Verfügung stehen.\n",
    "\n",
    "Dieser Artikel behandelt die verschiedenen Arten fehlender Werte und Methoden um mit fehlenden Werten umzugehen. Diese Strategien reichen von einfachen Methoden - zum Beispiel der Auswahl von Modellen, die automatisch mit fehlenden Werten umgehen können, oder dem einfachen Löschen problematischer Beobachtungen - bis hin zu Methoden zur Schätzung der fehlenden Werte, was auch als Imputation bezeichnet wird."
   ]
  },
  {
   "cell_type": "markdown",
   "id": "6e03791e-df8f-4827-acba-6b0fed109a9f",
   "metadata": {},
   "source": [
    "Was sind fehlerhafte Daten?: Fehlerhafte Daten umfassen unvollständige, inkonsistente, falsche oder ungenaue Daten, die die Analyse und Entscheidungsfindung verfälschen können.\n",
    "\n",
    "Typische Datenfehler:\n",
    "\n",
    "- Numerische Probleme: Ungültige Werte (z.B. 999 als Platzhalter für fehlende Werte).\n",
    "- Duplikate: Mehrfacheinträge für denselben Datensatz, Copy-Paste-Fehler\n",
    "- Fehlende Werte: Datenspalten oder Felder, die leer sind.\n",
    "- Ungültige Einträge: Daten, die außerhalb des akzeptierten Wertebereichs liegen.\n"
   ]
  },
  {
   "cell_type": "markdown",
   "id": "7cc6a14f-c6c0-4a12-b652-8144a0d86d4b",
   "metadata": {},
   "source": [
    "Diagnosemethoden:\n",
    "   - Visuelle Inspektion: Identifizieren offensichtlicher Fehler durch das Durchsehen von Daten.\n",
    "   - Statistische Zusammenfassungen: Verwenden von Mittelwerten, Standardabweichungen und Zählungen, um inkonsistente oder abweichende Werte zu erkennen.\n",
    "   - Fehlende Werte: Überprüfung, ob fehlende Werte vorhanden sind.\n",
    "   - Duplikate: Erkennung und Entfernung mehrfach vorhandener Datensätze.\n"
   ]
  },
  {
   "cell_type": "code",
   "execution_count": null,
   "id": "dbed924b-72e8-4970-b728-9954527cca63",
   "metadata": {},
   "outputs": [],
   "source": []
  },
  {
   "cell_type": "markdown",
   "id": "53c077cb-8d5c-4884-abf5-8105c86a0444",
   "metadata": {},
   "source": [
    "[MCAR](../../Zentral_Ordner/Fachwörter/MCAR.ipynb)"
   ]
  },
  {
   "cell_type": "markdown",
   "id": "4518b09d-d779-4963-acf3-25fb62378db3",
   "metadata": {},
   "source": [
    "[MAR](../../Zentral_Ordner/Fachwörter/MAR.ipynb)"
   ]
  },
  {
   "cell_type": "markdown",
   "id": "1fac1fcc-d04d-49b7-8b99-5cdb72604ab6",
   "metadata": {},
   "source": [
    "[MNAR](../../Zentral_Ordner/Fachwörter/MNAR.ipynb)"
   ]
  },
  {
   "cell_type": "markdown",
   "id": "a3fa1cca-f0f9-4155-8265-957bf7a6f619",
   "metadata": {},
   "source": [
    "## Methoden zum Umgang mit fehlenden Werten"
   ]
  },
  {
   "cell_type": "markdown",
   "id": "12b611f0-41ee-437c-a683-08d5fca5fccb",
   "metadata": {},
   "source": [
    "### Einfach ignorieren"
   ]
  },
  {
   "cell_type": "markdown",
   "id": "afb4ab86-47d3-4ed1-9edb-d0c75884b5a5",
   "metadata": {},
   "source": [
    "Sofern man sich absolut sicher ist, dass die vorliegenden Daten MCAR sind, ist die beste und einfachste Lösung oft - wenn es auch albern klingt - die fehlenden Werte einfach zu ignorieren und einen Algorithmus zu wählen, der fehlende Werte automatisch verarbeiten kann. Beispielsweise entscheidet XGBoost für jede Probe über die beste Imputationsmethode, ohne dass zusätzliche Schritte erforderlich sind."
   ]
  },
  {
   "cell_type": "markdown",
   "id": "9786c01c-802f-46de-be8f-d249b1ccc2f4",
   "metadata": {},
   "source": [
    "### Löschen"
   ]
  },
  {
   "cell_type": "markdown",
   "id": "d050ac2d-2856-4cc4-8f0e-8b677a8ce791",
   "metadata": {},
   "source": [
    "Eine weitere Möglichkeit, mit fehlenden Werten umzugehen, besteht darin, problematische Beobachtungen oder Variablen zu löschen. Dies kann auf verschiedene Arten geschehen:\n",
    "\n",
    "### Listenweise:"
   ]
  },
  {
   "cell_type": "markdown",
   "id": "d5b16c3d-2fd3-4ba8-a088-b723cf42742d",
   "metadata": {},
   "source": [
    "In diesem Szenario wird eine Beobachtung mit einem fehlenden Wert in einer Variablen vollständig entfernt. Das listenweise Löschen wird oft als „vollständige Fallanalyse“ bezeichnet und ist eine einfache Lösung, wenn nur wenige Beobachtungen mit MCAR-Werten bei einer ansonsten großen Stichprobengröße vorliegen. Wenn die Stichprobengröße jedoch klein ist oder die Daten nicht MCAR sind, kann das listenweise Löschen zu einer Verzerrung der Analyse führen."
   ]
  },
  {
   "cell_type": "markdown",
   "id": "b78c41f9-90ca-4c97-b3e0-a791806bf58f",
   "metadata": {},
   "source": [
    "## Imputation"
   ]
  },
  {
   "cell_type": "markdown",
   "id": "3afa664c-80f3-4b9b-ab2a-0aaa5a5c06c0",
   "metadata": {},
   "source": [
    "[Imputation](Imputation.ipynb) - das Ausfüllen fehlender Werte gemäß einer Regel."
   ]
  },
  {
   "cell_type": "code",
   "execution_count": null,
   "id": "cd729b54-b44d-4fa9-b300-6e1ecf769d6a",
   "metadata": {},
   "outputs": [],
   "source": []
  },
  {
   "cell_type": "code",
   "execution_count": null,
   "id": "b3cef0b2-c95d-4d78-801e-1b5e24bbee75",
   "metadata": {},
   "outputs": [],
   "source": []
  }
 ],
 "metadata": {
  "kernelspec": {
   "display_name": "Python 3 (ipykernel)",
   "language": "python",
   "name": "python3"
  },
  "language_info": {
   "codemirror_mode": {
    "name": "ipython",
    "version": 3
   },
   "file_extension": ".py",
   "mimetype": "text/x-python",
   "name": "python",
   "nbconvert_exporter": "python",
   "pygments_lexer": "ipython3",
   "version": "3.12.6"
  }
 },
 "nbformat": 4,
 "nbformat_minor": 5
}
