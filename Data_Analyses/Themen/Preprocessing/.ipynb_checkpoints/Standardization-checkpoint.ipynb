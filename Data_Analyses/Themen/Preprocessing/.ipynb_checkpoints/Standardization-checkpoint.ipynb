{
 "cells": [
  {
   "cell_type": "markdown",
   "id": "2ea1c248-8f56-4512-bd7f-7266957e4018",
   "metadata": {},
   "source": [
    "Siehe auch: \n",
    "\n",
    "[Unterschied zwischen Standardisierung und Dimensionsreduktion (PCA)](Standardization_vs._PCA.ipynb)"
   ]
  },
  {
   "cell_type": "markdown",
   "id": "11033f22-da65-4fe8-bda0-b5787f03ec36",
   "metadata": {},
   "source": [
    "# Standardisierung"
   ]
  },
  {
   "cell_type": "markdown",
   "id": "aa506503-1c73-4815-99ba-06574e84b609",
   "metadata": {},
   "source": [
    "In der **Datenanalyse** bedeutet **Standardisierung**, die Daten auf eine einheitliche Skala oder einheitliches Maß zu bringen, ohne die Unterschiede in der Verteilung oder den Informationen der Daten zu verändern. Ziel ist es, Variablen mit unterschiedlichen Maßeinheiten oder Werten vergleichbar zu machen, sodass **Maschinelles Lernen** oder **statistische Analyseverfahren** korrekt arbeiten können."
   ]
  },
  {
   "cell_type": "markdown",
   "id": "b8b06d8d-0f63-423d-b2d9-c0815f5a9250",
   "metadata": {},
   "source": [
    "### Warum Standardisierung?"
   ]
  },
  {
   "cell_type": "markdown",
   "id": "cf078ea7-f6a4-4af9-8760-258150626a67",
   "metadata": {},
   "source": [
    "In vielen Datensätzen gibt es Variablen, die auf unterschiedlichen Skalen gemessen werden. Beispielsweise könnten in einem Datensatz über Autos der **Preis** in Euro und das **Gewicht** in Kilogramm angegeben sein. Da diese Variablen in völlig unterschiedlichen Einheiten vorliegen, kann dies viele **Algorithmen** beeinflussen, die auf Distanzmaßen oder Gradienten basieren. Standardisierung hilft, diese Unterschiede zu nivellieren, sodass alle Variablen auf einer ähnlichen Skala liegen und gleichmäßig in die Analyse einfließen."
   ]
  },
  {
   "cell_type": "markdown",
   "id": "70343dce-8f29-4a12-8723-77f82ec99cc4",
   "metadata": {},
   "source": [
    "### Hauptgründe für Standardisierung:"
   ]
  },
  {
   "cell_type": "markdown",
   "id": "45e75b16-d476-4c39-b6fc-eed19ac4eb3a",
   "metadata": {},
   "source": [
    "1. **Bessere Performance von Algorithmen**: Einige Machine-Learning-Algorithmen, wie z.B. **k-Nearest Neighbors (KNN)**, **Support Vector Machines (SVM)** und **Neuronale Netze**, sind sehr empfindlich gegenüber unterschiedlich skalierten Daten. Wenn eine Variable deutlich größere Werte hat als andere, kann sie das Modell dominieren und Verzerrungen verursachen.\n",
    "  \n",
    "2. **Vergleichbarkeit der Variablen**: Bei der statistischen Analyse kann es wichtig sein, dass alle Variablen vergleichbar sind, besonders wenn sie unterschiedliche Einheiten oder Größenordnungen haben.\n",
    "\n",
    "3. **Verbesserte Konvergenz**: Bei **Optimierungsverfahren** wie dem **Gradientenabstieg**, das in vielen Machine-Learning-Modellen verwendet wird, hilft die Standardisierung, den Optimierungsprozess zu stabilisieren und zu beschleunigen, indem es numerische Instabilitäten verringert."
   ]
  },
  {
   "cell_type": "markdown",
   "id": "0417615d-2046-4106-b8ab-b63088c0e311",
   "metadata": {},
   "source": [
    "### Arten der Standardisierung:"
   ]
  },
  {
   "cell_type": "markdown",
   "id": "4aeb0f39-9f53-4a0e-8b9f-3ca2ec1c3697",
   "metadata": {},
   "source": [
    "- **Z-Standardisierung (Z-Score)**: Verschiebt die Daten so, dass sie einen Mittelwert von 0 und eine Standardabweichung von 1 haben.\n",
    "- **Min-Max-Skalierung**: Skaliert die Daten so, dass sie in einen festen Bereich (normalerweise 0 bis 1) fallen.\n",
    "- **Robust Scaling**: Verwendet den Median und den Interquartilsabstand, um die Daten zu skalieren und Ausreißer weniger zu beeinflussen."
   ]
  },
  {
   "cell_type": "markdown",
   "id": "f72b7fce-e8c3-4fc3-8818-38768010fd9f",
   "metadata": {},
   "source": [
    "### Beispiel:"
   ]
  },
  {
   "cell_type": "markdown",
   "id": "fa0daeb5-9e36-4f2b-8fbf-a3d089e98731",
   "metadata": {},
   "source": [
    "Wenn du Daten über Häuserpreise und ihre Größe in Quadratmetern analysierst, sind die Preise vielleicht im Bereich von Hunderttausenden von Euro, während die Größe im Bereich von Hunderten von Quadratmetern liegt. Ein Machine-Learning-Algorithmus könnte die Preise mehr gewichten, weil sie höhere Werte haben. Durch Standardisierung bringst du beide Variablen auf eine vergleichbare Skala."
   ]
  },
  {
   "cell_type": "markdown",
   "id": "f7359118-34fb-4633-ac7b-4b1645319440",
   "metadata": {},
   "source": [
    "### Beispiel in Python:"
   ]
  },
  {
   "cell_type": "markdown",
   "id": "ecda64c2-232c-4b63-9c18-e0131be36d9d",
   "metadata": {},
   "source": [
    "```python\n",
    "from sklearn.preprocessing import StandardScaler\n",
    "import pandas as pd\n",
    "\n",
    "# Beispiel-Daten\n",
    "data = {'price': [100000, 150000, 200000], 'size': [50, 75, 100]}\n",
    "df = pd.DataFrame(data)\n",
    "\n",
    "# Z-Standardisierung\n",
    "scaler = StandardScaler()\n",
    "scaled_data = scaler.fit_transform(df)\n",
    "\n",
    "print(scaled_data)\n",
    "```"
   ]
  },
  {
   "cell_type": "markdown",
   "id": "7782a7c4-daaf-4484-a85f-ff8beca20961",
   "metadata": {},
   "source": [
    "### Fazit:"
   ]
  },
  {
   "cell_type": "markdown",
   "id": "ca209807-349e-4288-b283-c2b78e6da3c7",
   "metadata": {},
   "source": [
    "Standardisierung in der Datenanalyse ist ein wesentlicher Schritt, um sicherzustellen, dass Variablen mit unterschiedlichen Einheiten oder Größenordnungen vergleichbar sind. Dadurch werden Verzerrungen bei Algorithmen vermieden, die empfindlich auf Skalen reagieren, und es verbessert die Leistung und Genauigkeit von Modellen."
   ]
  },
  {
   "cell_type": "code",
   "execution_count": null,
   "id": "40057c5f-5415-4bcb-aeed-fbe99d23e096",
   "metadata": {},
   "outputs": [],
   "source": []
  }
 ],
 "metadata": {
  "kernelspec": {
   "display_name": "Python 3 (ipykernel)",
   "language": "python",
   "name": "python3"
  },
  "language_info": {
   "codemirror_mode": {
    "name": "ipython",
    "version": 3
   },
   "file_extension": ".py",
   "mimetype": "text/x-python",
   "name": "python",
   "nbconvert_exporter": "python",
   "pygments_lexer": "ipython3",
   "version": "3.12.6"
  }
 },
 "nbformat": 4,
 "nbformat_minor": 5
}
