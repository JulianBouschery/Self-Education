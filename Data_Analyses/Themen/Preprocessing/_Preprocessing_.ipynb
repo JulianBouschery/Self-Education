{
 "cells": [
  {
   "cell_type": "markdown",
   "id": "3ec77655-5a01-4842-90c4-ecc14a48644b",
   "metadata": {},
   "source": [
    "# Preprocessing"
   ]
  },
  {
   "cell_type": "markdown",
   "id": "435b19d0-80fb-41c6-bbb8-1f13848b6996",
   "metadata": {},
   "source": [
    "**Normalisierung** und **Skalierung** sind eng verwandte Begriffe, aber sie beziehen sich auf unterschiedliche Techniken, die oft in der Datenvorverarbeitung verwendet werden:\n",
    "\n",
    "### 1. **Skalierung (Scaling)**:\n",
    "- Skalierung bezieht sich auf das **Ändern des Wertebereichs** der Daten, ohne deren Verteilung oder Form zu beeinflussen.\n",
    "- Es wird typischerweise verwendet, um die Daten in einem bestimmten **Bereich zu halten**, z.B. [0, 1] (Min-Max-Skalierung) oder eine Standardnormalverteilung (Mittelwert 0, Standardabweichung 1, StandardScaler).\n",
    "- **Beispiele:**\n",
    "  - **MinMaxScaler**: Skaliert Werte auf einen Bereich wie [0, 1].\n",
    "  - **StandardScaler**: Skaliert Daten auf eine Standardnormalverteilung (Mittelwert = 0, Standardabweichung = 1).\n",
    "\n",
    "### 2. **Normalisierung (Normalization)**:\n",
    "- Normalisierung bezieht sich auf das **Anpassen der Daten auf eine spezifische Verteilung**, oft um die Daten einer bestimmten Struktur anzupassen, wie z.B. die Länge eines Vektors.\n",
    "- Häufig wird dies verwendet, um die Länge eines Vektors auf 1 zu normieren (oft bei Machine Learning-Modellen).\n",
    "- Normalisierung wird oft im Zusammenhang mit **Zeitreihendaten** oder bei **Vektoren** verwendet.\n",
    "- **Beispiel:**\n",
    "  - **L2-Normalisierung**: Normiert den Vektor so, dass die Summe der quadrierten Werte gleich 1 ist (Vektorlänge = 1).\n",
    "\n",
    "### Unterschied:\n",
    "- **Skalierung** bringt die Daten in einen bestimmten Bereich oder passt sie an eine Verteilung an (z.B. Normalverteilung).\n",
    "- **Normalisierung** verändert eher die Struktur der Daten, indem sie beispielsweise sicherstellt, dass die Daten in einem festen Verhältnissystem (wie Länge 1 für Vektoren) stehen.\n",
    "\n",
    "### In der Praxis:\n",
    "- Bei **Skalierung** wird der Bereich der Daten geändert (z.B. [0,1]).\n",
    "- Bei **Normalisierung** wird oft die **Länge** der Daten (z.B. eines Vektors) normiert. \n",
    "\n",
    "Diese Begriffe werden manchmal synonym verwendet, aber technisch unterscheiden sich ihre Ziele und Methoden."
   ]
  },
  {
   "cell_type": "markdown",
   "id": "adedb00a-0f2f-4f87-ad36-f0bddfe30935",
   "metadata": {},
   "source": [
    "Zusammenfassung:\n",
    "\n",
    "- Daten-Normalisierung und Skalierung: Wichtig, um Variablen auf eine ähnliche Skala zu bringen und Verzerrungen in der Analyse zu vermeiden.\n",
    "- Min-Max-Skalierung und Z-Score-Normalisierung: Zwei häufig verwendete Techniken, um numerische Daten zu transformieren.\n",
    "- Kodierung kategorialer Variablen: One-Hot-Encoding und Label-Encoding ermöglichen die Verarbeitung von kategorialen Daten in numerischen Modellen.\n"
   ]
  },
  {
   "cell_type": "markdown",
   "id": "58bf2583-4fdf-4d41-b080-8392cb462008",
   "metadata": {},
   "source": [
    "[One Hot Encoder](../../Zentral_Ordner/Fachwörter/One_Hot_Encoding.ipynb)"
   ]
  },
  {
   "cell_type": "markdown",
   "id": "33c662a6-72b9-4920-b17a-682afe9a6da6",
   "metadata": {},
   "source": [
    "Skalierung"
   ]
  },
  {
   "cell_type": "code",
   "execution_count": null,
   "id": "3ca24181-6fa1-4bc1-8ef4-adb041f81530",
   "metadata": {},
   "outputs": [],
   "source": [
    "Normalisierung"
   ]
  }
 ],
 "metadata": {
  "kernelspec": {
   "display_name": "Python 3 (ipykernel)",
   "language": "python",
   "name": "python3"
  },
  "language_info": {
   "codemirror_mode": {
    "name": "ipython",
    "version": 3
   },
   "file_extension": ".py",
   "mimetype": "text/x-python",
   "name": "python",
   "nbconvert_exporter": "python",
   "pygments_lexer": "ipython3",
   "version": "3.12.6"
  }
 },
 "nbformat": 4,
 "nbformat_minor": 5
}
