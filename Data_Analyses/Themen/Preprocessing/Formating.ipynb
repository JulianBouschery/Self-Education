{
 "cells": [
  {
   "cell_type": "markdown",
   "id": "95519875-68d0-46b8-a11f-b3a2f8457528",
   "metadata": {},
   "source": [
    "# String-Manipulation und Formatstandardisierung"
   ]
  },
  {
   "cell_type": "markdown",
   "id": "6f21f940-33a7-4786-8f0f-593de532d6d5",
   "metadata": {},
   "source": [
    "## String zu Datum"
   ]
  },
  {
   "cell_type": "markdown",
   "id": "37868cac-8492-4f21-ad74-0629483fc6da",
   "metadata": {},
   "source": [
    "- String-Manipulation: Änderungen an Zeichenketten-Daten, um Konsistenz zu gewährleisten.\n",
    "    - Beispiel: Umwandlung von Groß-/Kleinschreibung, Entfernung von Leerzeichen.\n",
    "- Standardisierung von Datenformaten: Einheitliches Format für numerische und Datumswerte."
   ]
  },
  {
   "cell_type": "markdown",
   "id": "ba4b28fb-8055-4bcf-b7da-c1bde9749c0c",
   "metadata": {},
   "source": [
    "\n",
    "Python Beispiel:"
   ]
  },
  {
   "cell_type": "code",
   "execution_count": 7,
   "id": "0120d49a-585e-4d4e-8ed4-cffd42461144",
   "metadata": {},
   "outputs": [
    {
     "name": "stdout",
     "output_type": "stream",
     "text": [
      "df-Vorher\n",
      "      Name       Datum\n",
      "0   Alice   01.01.2024\n",
      "1      BOB  15.12.2023\n",
      "2  Charlie  30.11.2023 \n",
      "\n",
      "df-Nachher\n",
      "      Name      Datum\n",
      "0    alice 2024-01-01\n",
      "1      bob 2023-12-15\n",
      "2  charlie 2023-11-30\n"
     ]
    }
   ],
   "source": [
    "import pandas as pd\n",
    "\n",
    "# Beispiel für String-Manipulation\n",
    "df = pd.DataFrame({\n",
    "    'Name': ['Alice ', 'BOB', 'Charlie'],\n",
    "    'Datum': ['01.01.2024', '15.12.2023', '30.11.2023']\n",
    "#   'Datum': ['2024-01-01', '2023-12-15', '2023-11-30']\n",
    "})\n",
    "\n",
    "print(\"df-Vorher\")\n",
    "print(df,\"\\n\")\n",
    "\n",
    "# Leerzeichen entfernen, Groß- in Kleinschreibung umwandeln\n",
    "df['Name'] = df['Name'].str.strip().str.lower()\n",
    "\n",
    "# Datum standardisieren\n",
    "# 2. Datum standardisieren (von 'dd.mm.yyyy' zu 'yyyy-mm-dd')\n",
    "df['Datum'] = pd.to_datetime(df['Datum'], format='%d.%m.%Y')  # Standard-Format für Datum\n",
    "\n",
    "print(\"df-Nachher\")\n",
    "print(df)\n"
   ]
  },
  {
   "cell_type": "markdown",
   "id": "4323dee8-e9b6-4fa7-b3ab-f0a726ee8d58",
   "metadata": {},
   "source": [
    "## String-to-Number-Konvertierung:\n",
    "\n",
    "Wenn numerische Werte als Strings vorliegen (z.B. \"1000\", \"25.5\"), müssen diese in tatsächliche numerische Werte konvertiert werden, um mit ihnen rechnen zu können.\n"
   ]
  },
  {
   "cell_type": "markdown",
   "id": "c53546c7-7345-4143-a30e-272f3d930691",
   "metadata": {},
   "source": [
    "\n",
    "### Beispiel für String-to-Number-Konvertierung:"
   ]
  },
  {
   "cell_type": "code",
   "execution_count": null,
   "id": "6e3b5693-26ce-4e0b-90d9-3ff3fe23efdc",
   "metadata": {},
   "outputs": [],
   "source": [
    "import pandas as pd\n",
    "\n",
    "# Beispiel-Daten mit numerischen Strings\n",
    "df = pd.DataFrame({\n",
    "    'Gehalt': ['50000', '60000', '75000', 'NaN', '90000'],\n",
    "    'Bonus': ['1000.5', '1500', '2000.75', '1200', 'NaN']\n",
    "})\n",
    "\n",
    "print(\"Vor der Konvertierung:\")\n",
    "print(df)\n",
    "\n",
    "# String-to-Number-Konvertierung\n",
    "df['Gehalt'] = pd.to_numeric(df['Gehalt'], errors='coerce')  #  Umwandlung in numerische Werte, falls ein Wert nicht in eine Zahl\n",
    "                                                             # umgewandelt werden kann , dann kann man durch 'coerce' die Werte in NaN ändern\n",
    "df['Bonus'] = pd.to_numeric(df['Bonus'], errors='coerce')\n",
    "\n",
    "print(\"\\nNach der Konvertierung:\")\n",
    "print(df)\n"
   ]
  },
  {
   "cell_type": "markdown",
   "id": "bad46e0e-9e07-47ce-a52b-a303871396ec",
   "metadata": {},
   "source": [
    "Erklärung:\n",
    "\n",
    "- pd.to_numeric(): Diese Funktion konvertiert Strings in numerische Werte (Integer oder Float).\n",
    "    - Das Argument errors='coerce' stellt sicher, dass ungültige Werte (z.B. \"NaN\") als NaN (Not a Number) behandelt werden."
   ]
  }
 ],
 "metadata": {
  "kernelspec": {
   "display_name": "Python 3 (ipykernel)",
   "language": "python",
   "name": "python3"
  },
  "language_info": {
   "codemirror_mode": {
    "name": "ipython",
    "version": 3
   },
   "file_extension": ".py",
   "mimetype": "text/x-python",
   "name": "python",
   "nbconvert_exporter": "python",
   "pygments_lexer": "ipython3",
   "version": "3.12.6"
  }
 },
 "nbformat": 4,
 "nbformat_minor": 5
}
