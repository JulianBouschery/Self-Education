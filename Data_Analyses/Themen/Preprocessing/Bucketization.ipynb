{
 "cells": [
  {
   "cell_type": "markdown",
   "id": "2399e3d2-ce07-43a7-a163-1a0f3d9e8b53",
   "metadata": {},
   "source": [
    "# Bucketization und kontinuierliche Variablen"
   ]
  },
  {
   "cell_type": "markdown",
   "id": "993d0d27-0c47-4cef-b02b-22fcee3ffd56",
   "metadata": {},
   "source": [
    "Konzepte:\n",
    "\n",
    "- Bucketization: Aufteilung kontinuierlicher Variablen in diskrete Kategorien oder \"Buckets\".\n",
    "- Beispiel: Alter kann in Gruppen wie \"jung\", \"mittel\", \"alt\" unterteilt werden."
   ]
  },
  {
   "cell_type": "markdown",
   "id": "2ffb9697-24e0-41e0-9719-2d781fb1090a",
   "metadata": {},
   "source": [
    "\n",
    "Python Beispiel  in oandas"
   ]
  },
  {
   "cell_type": "code",
   "execution_count": 1,
   "id": "f5861308-fa7f-4412-a92f-4f88417bd64c",
   "metadata": {},
   "outputs": [
    {
     "name": "stdout",
     "output_type": "stream",
     "text": [
      "   Alter\n",
      "0      2\n",
      "1     25\n",
      "2     30\n",
      "3     60\n",
      "4     35\n",
      "5     40\n",
      "6     70\n",
      "   Alter Altersgruppe\n",
      "0      2         Kind\n",
      "1     25         Jung\n",
      "2     30         Jung\n",
      "3     60       Mittel\n",
      "4     35         Jung\n",
      "5     40       Mittel\n",
      "6     70          Alt\n"
     ]
    }
   ],
   "source": [
    "import pandas as pd\n",
    "\n",
    "# Beispiel-Daten\n",
    "df = pd.DataFrame({\n",
    "    'Alter': [2, 25, 30, 60, 35, 40, 70]\n",
    "})\n",
    "\n",
    "\n",
    "print(df)\n",
    "\n",
    "# Beispiel für Bucketization (Aufteilung nach Altersgruppen)\n",
    "df['Altersgruppe'] = pd.cut(df['Alter'], bins=[0, 18, 35, 60, 100], labels=['Kind', 'Jung', 'Mittel', 'Alt'])\n",
    "print(df)\n"
   ]
  },
  {
   "cell_type": "markdown",
   "id": "967b7cbb-95b4-41f0-b6b9-e7e9be4b9658",
   "metadata": {},
   "source": [
    "Beispiel in sklearn"
   ]
  },
  {
   "cell_type": "code",
   "execution_count": 2,
   "id": "ac654b23-8760-403f-8a57-868906899dd5",
   "metadata": {},
   "outputs": [
    {
     "name": "stdout",
     "output_type": "stream",
     "text": [
      "   Alter Altersgruppe\n",
      "0      2         Kind\n",
      "1     25         Jung\n",
      "2     30         Jung\n",
      "3     60          Alt\n",
      "4     35         Jung\n",
      "5     40       Mittel\n",
      "6     70          Alt\n"
     ]
    }
   ],
   "source": [
    "import numpy as np\n",
    "import pandas as pd\n",
    "from sklearn.preprocessing import KBinsDiscretizer\n",
    "\n",
    "# Beispiel-Daten\n",
    "df = pd.DataFrame({\n",
    "    'Alter': [2, 25, 30, 60, 35, 40, 70]\n",
    "})\n",
    "\n",
    "# KBinsDiscretizer-Objekt erstellen\n",
    "discretizer = KBinsDiscretizer(n_bins=4, encode='ordinal', strategy='uniform')\n",
    "\n",
    "# Alter spaltenweise in Bins aufteilen\n",
    "df['Altersgruppe'] = discretizer.fit_transform(df[['Alter']])\n",
    "\n",
    "# Mapping der Bins auf die Kategorien: Kind = 0, Jung = 1, Mittel = 2, Alt = 3\n",
    "df['Altersgruppe'] = df['Altersgruppe'].map({\n",
    "    0: 'Kind', # 0,  # Bin 0 entspricht 'Kind'\n",
    "    1: 'Jung', # 1,  # Bin 1 entspricht 'Jung'\n",
    "    2: 'Mittel', # 2,  # Bin 2 entspricht 'Mittel'\n",
    "    3: 'Alt', # 3   # Bin 3 entspricht 'Alt'\n",
    "})\n",
    "\n",
    "print(df)\n"
   ]
  },
  {
   "cell_type": "markdown",
   "id": "a7dc60f6-bcfa-40bd-be3b-c3d99f5e8c10",
   "metadata": {},
   "source": [
    "Doc's: https://scikit-learn.org/1.5/modules/generated/sklearn.preprocessing.KBinsDiscretizer.html"
   ]
  },
  {
   "cell_type": "markdown",
   "id": "608862ec-1316-4e49-8d21-84ad68e53987",
   "metadata": {},
   "source": [
    "Diskussion:\n",
    "\n",
    "- Vorteile: Erleichtert die Interpretation und Modellierung.\n",
    "- Nachteile: Kann zu Informationsverlust führen, da die genaue Zahl durch Kategorien ersetzt wird.\n",
    "\n"
   ]
  }
 ],
 "metadata": {
  "kernelspec": {
   "display_name": "Python 3 (ipykernel)",
   "language": "python",
   "name": "python3"
  },
  "language_info": {
   "codemirror_mode": {
    "name": "ipython",
    "version": 3
   },
   "file_extension": ".py",
   "mimetype": "text/x-python",
   "name": "python",
   "nbconvert_exporter": "python",
   "pygments_lexer": "ipython3",
   "version": "3.12.6"
  }
 },
 "nbformat": 4,
 "nbformat_minor": 5
}
