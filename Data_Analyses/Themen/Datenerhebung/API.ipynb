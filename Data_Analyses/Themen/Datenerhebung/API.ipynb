{
 "cells": [
  {
   "cell_type": "markdown",
   "id": "489d26ca-51f0-411e-8ae9-1a71c6b899bf",
   "metadata": {},
   "source": [
    "# API "
   ]
  },
  {
   "cell_type": "markdown",
   "id": "30c20d5e-241e-43fe-acd4-24b6e46f675d",
   "metadata": {},
   "source": [
    "APIs (Application Programming Interfaces) sind Schnittstellen, die es verschiedenen Software-Anwendungen ermöglichen, miteinander zu kommunizieren und Daten oder Funktionen auszutauschen, ohne ihre internen Details offenzulegen."
   ]
  },
  {
   "cell_type": "markdown",
   "id": "437f73fd-c3ff-44a4-a636-7b50bb00df6a",
   "metadata": {},
   "source": [
    "https://de.wikipedia.org/wiki/Programmierschnittstelle"
   ]
  },
  {
   "cell_type": "markdown",
   "id": "96b805c7-6f06-4c52-839a-63dc3c30ef80",
   "metadata": {},
   "source": [
    "https://developers.google.com/apis-explorer?hl=de"
   ]
  },
  {
   "cell_type": "code",
   "execution_count": null,
   "id": "a8866e62-6971-4b4f-988a-92e7e1fe1b72",
   "metadata": {},
   "outputs": [],
   "source": []
  }
 ],
 "metadata": {
  "kernelspec": {
   "display_name": "Python 3 (ipykernel)",
   "language": "python",
   "name": "python3"
  },
  "language_info": {
   "codemirror_mode": {
    "name": "ipython",
    "version": 3
   },
   "file_extension": ".py",
   "mimetype": "text/x-python",
   "name": "python",
   "nbconvert_exporter": "python",
   "pygments_lexer": "ipython3",
   "version": "3.12.6"
  }
 },
 "nbformat": 4,
 "nbformat_minor": 5
}
