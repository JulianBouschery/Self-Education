{
 "cells": [
  {
   "cell_type": "markdown",
   "id": "e2104c40-14b7-404c-a04d-9ec3ca8c4ded",
   "metadata": {},
   "source": [
    "# Seaborn Basics"
   ]
  },
  {
   "cell_type": "markdown",
   "id": "d25e5ebc-9e12-4795-9a2e-3466d2927ffb",
   "metadata": {},
   "source": [
    "### 1. **Seaborn importieren**"
   ]
  },
  {
   "cell_type": "markdown",
   "id": "1d6c2a7b-0db2-43fe-849a-dd2b8af6f0c7",
   "metadata": {},
   "source": [
    "Zuerst muss die Bibliothek Seaborn importiert werden, um sie verwenden zu können. Seaborn ist so konzipiert, dass es als **Ergänzung** für Matplotlib verwendet wird. Deshalb würde ich empfehlen es zusammen mit Matplotlib zu importieren. Was zuerst importiert wird ist egal, man muss nur bei der Installation der Module auf die Reihenfolge achten.\n",
    "\n",
    "```python\n",
    "import seaborn as sns\n",
    "import matplotlib.pyplot as plt\n",
    "\n",
    "oder\n",
    "\n",
    "import matplotlib.pyplot as plt\n",
    "import seaborn as sns\n",
    "```"
   ]
  },
  {
   "cell_type": "markdown",
   "id": "4d1af739-19e7-4cdd-ba40-bd127608fdb6",
   "metadata": {},
   "source": [
    "### 2. **Daten vorbereiten**"
   ]
  },
  {
   "cell_type": "markdown",
   "id": "f7954107-1a62-47eb-a637-8628e857290b",
   "metadata": {},
   "source": [
    "Als nächstes müssen die Daten bereit gestellt werden, die Analysiert werden sollen. Dies kann über verschiedene Wege erfolgen:\n",
    "\n",
    "- Der Import von Datensätzen aus einer Datei, Datenbank oder über einen Link.\n",
    "- Das random erstellen von Daten durch unterschiedliche Funktionen / Methoden.\n",
    "- etc."
   ]
  },
  {
   "cell_type": "markdown",
   "id": "060d4f4c-0d88-4a09-bc5f-f07e677373c2",
   "metadata": {},
   "source": [
    "```python\n",
    "# Beispiel-Daten\n",
    "x = [1, 2, 3, 4, 5]  # x-Achsenwerte\n",
    "y = [1, 4, 9, 16, 25]  # y-Achsenwerte\n",
    "\n",
    "oder\n",
    "\n",
    "# Laden des Datensatzes\n",
    "data = sns.load_dataset('Datei.csv')\n",
    "```"
   ]
  },
  {
   "cell_type": "markdown",
   "id": "9b3d0191-6de1-41af-9d6d-439fd95e75d3",
   "metadata": {},
   "source": [
    "Außerdem findet hier das Aufbereiten der Daten statt:\n",
    "\n",
    "- Löschen oder Ändern von NaN's\n",
    "- Ändern von Datentypen\n",
    "- Löschen oder Ändern von Ausreißern\n",
    "- ..."
   ]
  },
  {
   "cell_type": "markdown",
   "id": "a24fd664-32b8-4990-bb1c-416030ddf1f0",
   "metadata": {},
   "source": [
    "### 3. **Eine Grafik erstellen**"
   ]
  },
  {
   "cell_type": "code",
   "execution_count": 2,
   "id": "429b29cf-8db6-4222-83f3-6cf0725533ac",
   "metadata": {},
   "outputs": [
    {
     "ename": "NameError",
     "evalue": "name 'sns' is not defined",
     "output_type": "error",
     "traceback": [
      "\u001b[1;31m---------------------------------------------------------------------------\u001b[0m",
      "\u001b[1;31mNameError\u001b[0m                                 Traceback (most recent call last)",
      "Cell \u001b[1;32mIn[2], line 1\u001b[0m\n\u001b[1;32m----> 1\u001b[0m \u001b[43msns\u001b[49m\u001b[38;5;241m.\u001b[39mscatterplot(data\u001b[38;5;241m=\u001b[39mtips, x\u001b[38;5;241m=\u001b[39m\u001b[38;5;124m\"\u001b[39m\u001b[38;5;124mtotal_bill\u001b[39m\u001b[38;5;124m\"\u001b[39m, y\u001b[38;5;241m=\u001b[39m\u001b[38;5;124m\"\u001b[39m\u001b[38;5;124mtip\u001b[39m\u001b[38;5;124m\"\u001b[39m)\n",
      "\u001b[1;31mNameError\u001b[0m: name 'sns' is not defined"
     ]
    }
   ],
   "source": [
    "sns.scatterplot(data=tips, x=\"total_bill\", y=\"tip\")\n"
   ]
  },
  {
   "cell_type": "markdown",
   "id": "d317c96b-0e38-487d-8cc9-d645f9338ff9",
   "metadata": {},
   "source": [
    "### 4. **Daten plotten**"
   ]
  },
  {
   "cell_type": "markdown",
   "id": "b638d581-1e16-465d-a8af-7998f46c7bb6",
   "metadata": {},
   "source": [
    "Seaborn bietet verschiedene Plot-Typen wie `sns.lineplot`, `sns.scatterplot` oder `sns.boxplot`. In diesem Beispiel verwenden wir `sns.lineplot`:\n",
    "\n",
    "```python\n",
    "sns.lineplot(x=x, y=y, label='Quadratische Werte', color='blue')  # Linie mit Farbe und Label\n",
    "```"
   ]
  },
  {
   "cell_type": "markdown",
   "id": "e581ede3-23c9-48e1-ba2e-9a5a42df6092",
   "metadata": {},
   "source": [
    "### 5. **Titel und Achsenbeschriftungen hinzufügen**"
   ]
  },
  {
   "cell_type": "markdown",
   "id": "35ffd9db-0d3f-4025-a6a3-663a7f549812",
   "metadata": {},
   "source": [
    "Seaborn verwendet hier dieselben Methoden wie Matplotlib:\n",
    "\n",
    "```python\n",
    "plt.title(\"Beispiel: Quadratische Funktion\")  # Titel der Grafik\n",
    "plt.xlabel(\"X-Achse\")  # Beschriftung der X-Achse\n",
    "plt.ylabel(\"Y-Achse\")  # Beschriftung der Y-Achse\n",
    "```"
   ]
  },
  {
   "cell_type": "markdown",
   "id": "8cb56d38-ed45-4c63-99ff-5a4c8374780a",
   "metadata": {},
   "source": [
    "### 6. **Legende und Gitter hinzufügen**"
   ]
  },
  {
   "cell_type": "markdown",
   "id": "85baaf5a-51c3-407d-9a3e-94a297c4c93f",
   "metadata": {},
   "source": [
    "Auch hier kannst du die Methoden von Matplotlib nutzen:\n",
    "\n",
    "```python\n",
    "plt.legend()  # Zeigt die Legende an\n",
    "plt.grid(True)  # Fügt ein Gitter hinzu\n",
    "```"
   ]
  },
  {
   "cell_type": "markdown",
   "id": "2dc4676e-875e-406b-9122-972b476aaa1d",
   "metadata": {},
   "source": [
    "### 7. **Grafik anzeigen**"
   ]
  },
  {
   "cell_type": "markdown",
   "id": "6003ab79-fb48-4ab6-bbb4-fc0a25b3b340",
   "metadata": {},
   "source": [
    "Zum Schluss zeigst du die Grafik an:\n",
    "\n",
    "```python\n",
    "plt.show()  # Zeigt die Grafik an\n",
    "```"
   ]
  },
  {
   "cell_type": "markdown",
   "id": "3e40909c-c1f0-461a-b49f-adab2a620861",
   "metadata": {},
   "source": [
    "### Zusammengefasst in einem Code:"
   ]
  },
  {
   "cell_type": "markdown",
   "id": "f44fcab2-7e1f-4474-9ea8-108fc9321208",
   "metadata": {},
   "source": [
    "```python\n",
    "import seaborn as sns\n",
    "import matplotlib.pyplot as plt\n",
    "\n",
    "# Beispiel-Daten\n",
    "x = [1, 2, 3, 4, 5]\n",
    "y = [1, 4, 9, 16, 25]\n",
    "\n",
    "# Grafik erstellen\n",
    "plt.figure(figsize=(8, 6))\n",
    "\n",
    "# Daten plotten\n",
    "sns.lineplot(x=x, y=y, label='Quadratische Werte', color='blue')\n",
    "\n",
    "# Titel und Achsenbeschriftungen\n",
    "plt.title(\"Beispiel: Quadratische Funktion\")\n",
    "plt.xlabel(\"X-Achse\")\n",
    "plt.ylabel(\"Y-Achse\")\n",
    "\n",
    "# Legende und Gitter\n",
    "plt.legend()\n",
    "plt.grid(True)\n",
    "\n",
    "# Grafik anzeigen\n",
    "plt.show()\n",
    "```"
   ]
  },
  {
   "cell_type": "markdown",
   "id": "7df75a6f-7599-427e-87ba-1c3826e7e25a",
   "metadata": {},
   "source": [
    "### Vorteile von Seaborn:"
   ]
  },
  {
   "cell_type": "markdown",
   "id": "8b35f83d-2616-4ad3-a0b5-8d4ff1a5b8f6",
   "metadata": {},
   "source": [
    "- **Einfache Handhabung**: Seaborn macht es einfacher, ansprechende Plots zu erstellen.\n",
    "- **Bessere Standardwerte**: Seaborn sorgt automatisch für ansprechendere Grafiken.\n",
    "- **Komplexere Visualisierungen**: Plots wie Heatmaps oder Boxplots sind mit Seaborn einfacher zu implementieren.\n",
    "\n",
    "Das Grundprinzip ist gleich, aber Seaborn macht den Prozess oft übersichtlicher und flexibler."
   ]
  },
  {
   "cell_type": "markdown",
   "id": "bdde488a-1b6d-4d5a-8237-41715deeef06",
   "metadata": {},
   "source": [
    "https://seaborn.pydata.org/tutorial/color_palettes.html"
   ]
  },
  {
   "cell_type": "markdown",
   "id": "c89bcaf5-71c4-4114-a33f-95aa9fc29ebf",
   "metadata": {},
   "source": [
    "https://seaborn.pydata.org/generated/seaborn.scatterplot.html"
   ]
  },
  {
   "cell_type": "code",
   "execution_count": null,
   "id": "b5fde8ed-ab4a-493d-b536-ee8e657c76d6",
   "metadata": {},
   "outputs": [],
   "source": []
  }
 ],
 "metadata": {
  "kernelspec": {
   "display_name": "Python 3 (ipykernel)",
   "language": "python",
   "name": "python3"
  },
  "language_info": {
   "codemirror_mode": {
    "name": "ipython",
    "version": 3
   },
   "file_extension": ".py",
   "mimetype": "text/x-python",
   "name": "python",
   "nbconvert_exporter": "python",
   "pygments_lexer": "ipython3",
   "version": "3.12.6"
  }
 },
 "nbformat": 4,
 "nbformat_minor": 5
}
