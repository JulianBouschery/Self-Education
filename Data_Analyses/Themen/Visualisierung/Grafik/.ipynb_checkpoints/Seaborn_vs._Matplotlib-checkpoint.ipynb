{
 "cells": [
  {
   "cell_type": "markdown",
   "id": "95ca703e-8887-4cc2-aa4c-0ebb7a7cf4a8",
   "metadata": {},
   "source": [
    "# Seaborn vs. Matplotlib"
   ]
  },
  {
   "cell_type": "markdown",
   "id": "f13b50d3-38d2-4cd2-a371-2f448caa29e1",
   "metadata": {},
   "source": [
    "https://www.newhorizons.com/resources/blog/how-to-choose-between-seaborn-vs-matplotlib"
   ]
  },
  {
   "cell_type": "code",
   "execution_count": null,
   "id": "d20737ae-f861-4c58-9dae-31d9d98cff77",
   "metadata": {},
   "outputs": [],
   "source": []
  }
 ],
 "metadata": {
  "kernelspec": {
   "display_name": "Python 3 (ipykernel)",
   "language": "python",
   "name": "python3"
  },
  "language_info": {
   "codemirror_mode": {
    "name": "ipython",
    "version": 3
   },
   "file_extension": ".py",
   "mimetype": "text/x-python",
   "name": "python",
   "nbconvert_exporter": "python",
   "pygments_lexer": "ipython3",
   "version": "3.12.6"
  }
 },
 "nbformat": 4,
 "nbformat_minor": 5
}
