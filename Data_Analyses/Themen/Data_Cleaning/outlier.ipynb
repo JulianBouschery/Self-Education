{
 "cells": [
  {
   "cell_type": "markdown",
   "id": "a58e49b8-96f7-46e7-91bb-993d642d3570",
   "metadata": {},
   "source": [
    "# Ausreißer (Outlier)"
   ]
  },
  {
   "cell_type": "code",
   "execution_count": null,
   "id": "01065f67-b230-4a1a-b121-31a6439e51be",
   "metadata": {},
   "outputs": [],
   "source": []
  }
 ],
 "metadata": {
  "kernelspec": {
   "display_name": "Python 3 (ipykernel)",
   "language": "python",
   "name": "python3"
  },
  "language_info": {
   "codemirror_mode": {
    "name": "ipython",
    "version": 3
   },
   "file_extension": ".py",
   "mimetype": "text/x-python",
   "name": "python",
   "nbconvert_exporter": "python",
   "pygments_lexer": "ipython3",
   "version": "3.12.6"
  }
 },
 "nbformat": 4,
 "nbformat_minor": 5
}
