{
 "cells": [
  {
   "cell_type": "markdown",
   "id": "920aca3b-287e-4b52-9dff-aa72e63d8204",
   "metadata": {},
   "source": [
    "# Dublikate löschen"
   ]
  },
  {
   "cell_type": "code",
   "execution_count": null,
   "id": "32024e22-e510-42b0-960c-90134e83d2dc",
   "metadata": {},
   "outputs": [],
   "source": []
  }
 ],
 "metadata": {
  "kernelspec": {
   "display_name": "Python 3 (ipykernel)",
   "language": "python",
   "name": "python3"
  },
  "language_info": {
   "codemirror_mode": {
    "name": "ipython",
    "version": 3
   },
   "file_extension": ".py",
   "mimetype": "text/x-python",
   "name": "python",
   "nbconvert_exporter": "python",
   "pygments_lexer": "ipython3",
   "version": "3.12.6"
  }
 },
 "nbformat": 4,
 "nbformat_minor": 5
}
