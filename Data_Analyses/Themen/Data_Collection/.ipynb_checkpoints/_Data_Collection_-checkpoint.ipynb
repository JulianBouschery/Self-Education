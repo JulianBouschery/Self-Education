{
 "cells": [
  {
   "cell_type": "markdown",
   "id": "6e14e42a-d563-4d8e-a950-984ba296dd0c",
   "metadata": {},
   "source": [
    "# Data Collection / Datenerhebung"
   ]
  },
  {
   "cell_type": "markdown",
   "id": "5fbb8d86-8444-4fbb-9b5d-5a870c2b55ea",
   "metadata": {},
   "source": [
    "Erstellung von [Umfragen](Umfragen.ipynb)"
   ]
  },
  {
   "cell_type": "markdown",
   "id": "364cc667-bf4b-4ffe-b77e-9f080e8ab79b",
   "metadata": {},
   "source": [
    "Umgang mit [API](API.ipynb)'s"
   ]
  },
  {
   "cell_type": "markdown",
   "id": "afaf4592-247a-41d0-be32-7a283820f95d",
   "metadata": {},
   "source": [
    "[Web-Scraping](./Web_Scraping.ipynb)"
   ]
  },
  {
   "cell_type": "markdown",
   "id": "70c3cd42-979b-4786-bc1d-fe1255fd5146",
   "metadata": {},
   "source": [
    "[Einlesen von Daten](einlesen.ipynb) unterschiedlicher Formate"
   ]
  },
  {
   "cell_type": "code",
   "execution_count": null,
   "id": "549b52e3-db8a-408d-8aec-9dea5320268f",
   "metadata": {},
   "outputs": [],
   "source": []
  },
  {
   "cell_type": "code",
   "execution_count": null,
   "id": "19a261a1-37f4-4a00-b1fc-23a5e3a8f5ba",
   "metadata": {},
   "outputs": [],
   "source": []
  }
 ],
 "metadata": {
  "kernelspec": {
   "display_name": "Python 3 (ipykernel)",
   "language": "python",
   "name": "python3"
  },
  "language_info": {
   "codemirror_mode": {
    "name": "ipython",
    "version": 3
   },
   "file_extension": ".py",
   "mimetype": "text/x-python",
   "name": "python",
   "nbconvert_exporter": "python",
   "pygments_lexer": "ipython3",
   "version": "3.12.6"
  }
 },
 "nbformat": 4,
 "nbformat_minor": 5
}
