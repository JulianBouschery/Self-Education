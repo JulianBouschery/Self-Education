{
 "cells": [
  {
   "cell_type": "markdown",
   "id": "c502b9c0-1db0-4731-bf32-160530b21729",
   "metadata": {},
   "source": [
    "# Data Acquation and PreProcessing"
   ]
  },
  {
   "cell_type": "code",
   "execution_count": null,
   "id": "016cc4d8-7e08-4723-bb35-d8f1a4c83302",
   "metadata": {},
   "outputs": [],
   "source": [
    "1. Einführung in die Datenbereinigung und Standardisierung\n",
    "\n",
    "- Ziel: Die Bedeutung von Datenbereinigung und -standardisierung in der Datenanalyse und im maschinellen Lernen verdeutlichen.\n",
    "- Kernkonzept: Daten müssen sauber und standardisiert sein, um eine zuverlässige Analyse zu gewährleisten.\n",
    "- Diskussion:\n",
    "    - Überblick über Datenimputation, String-Manipulation, Formatstandardisierung, One-Hot Encoding, Bucketization und ihre Relevanz für Machine-Learning-Modelle.\n"
   ]
  }
 ],
 "metadata": {
  "kernelspec": {
   "display_name": "Python 3 (ipykernel)",
   "language": "python",
   "name": "python3"
  },
  "language_info": {
   "codemirror_mode": {
    "name": "ipython",
    "version": 3
   },
   "file_extension": ".py",
   "mimetype": "text/x-python",
   "name": "python",
   "nbconvert_exporter": "python",
   "pygments_lexer": "ipython3",
   "version": "3.12.6"
  }
 },
 "nbformat": 4,
 "nbformat_minor": 5
}
