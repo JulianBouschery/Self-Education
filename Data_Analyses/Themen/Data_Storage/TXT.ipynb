{
 "cells": [
  {
   "cell_type": "markdown",
   "id": "75f4de04-a0e6-4513-825a-1325d9936399",
   "metadata": {},
   "source": [
    "# TXT-Datei"
   ]
  },
  {
   "cell_type": "markdown",
   "id": "5299a83c-cb1b-4c08-a13b-0c0c77cbecd0",
   "metadata": {},
   "source": [
    "5. TXT-Dateien: Import und Export\n",
    "\n",
    "- TXT Dateien enthalten unstrukturierten Text.\n",
    "- Vorteil: Einfach zu verwenden, keine Struktur nötig.\n"
   ]
  },
  {
   "cell_type": "markdown",
   "id": "31fa3ffa-48e6-4253-b49b-060f7a04eef4",
   "metadata": {},
   "source": [
    "\n",
    "Python Beispiel: Import und Export von TXT-Dateien"
   ]
  },
  {
   "cell_type": "code",
   "execution_count": null,
   "id": "f38b8a86-3585-4e4a-bcee-c4e973861b93",
   "metadata": {},
   "outputs": [],
   "source": [
    "# TXT-Datei importieren\n",
    "with open('data.txt', 'r') as f:\n",
    "    text = f.read()\n",
    "print(text)\n",
    "\n",
    "# TXT-Datei exportieren\n",
    "with open('output.txt', 'w') as f:\n",
    "    f.write('This is some text data.')\n"
   ]
  },
  {
   "cell_type": "markdown",
   "id": "2ab5362f-a16e-4f62-aafe-6f97534911c3",
   "metadata": {},
   "source": [
    "3. TXT (Textdateien)\n",
    "- Vorteile:\n",
    "    - Sehr einfach und leicht zu handhaben.\n",
    "    - Universell: Kann in praktisch jedem Texteditor geöffnet werden.\n",
    "- Kann für einfache tabellarische Daten oder unstrukturierten Text verwendet werden.\n",
    "- Nachteile:\n",
    "    - Keine Unterstützung für verschachtelte Strukturen (z.B. Listen oder Objekte).\n",
    "    - Kein standardisiertes Schema, was die Verarbeitung komplexer Daten erschwert.\n",
    "    - Für große und komplexe Datenmengen unpraktisch.\n"
   ]
  },
  {
   "cell_type": "code",
   "execution_count": null,
   "id": "34fd30fb-38bd-420d-bb07-61fd4ca5ad7f",
   "metadata": {},
   "outputs": [],
   "source": []
  }
 ],
 "metadata": {
  "kernelspec": {
   "display_name": "Python 3 (ipykernel)",
   "language": "python",
   "name": "python3"
  },
  "language_info": {
   "codemirror_mode": {
    "name": "ipython",
    "version": 3
   },
   "file_extension": ".py",
   "mimetype": "text/x-python",
   "name": "python",
   "nbconvert_exporter": "python",
   "pygments_lexer": "ipython3",
   "version": "3.12.6"
  }
 },
 "nbformat": 4,
 "nbformat_minor": 5
}
