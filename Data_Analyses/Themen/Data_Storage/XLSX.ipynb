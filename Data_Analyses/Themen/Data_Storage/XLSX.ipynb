{
 "cells": [
  {
   "cell_type": "markdown",
   "id": "15e001c1-3066-40aa-8018-3d628b3390fd",
   "metadata": {},
   "source": [
    "# XLSX"
   ]
  },
  {
   "cell_type": "markdown",
   "id": "eebad6b2-c4dd-454a-9f8a-c6eb34be36ee",
   "metadata": {},
   "source": [
    "**XLSX** ist ein Dateiformat, das von **Microsoft Excel** verwendet wird, um Tabellenkalkulationen zu speichern. Es basiert auf dem Open XML-Format und ist der Nachfolger des älteren **XLS**-Formats. XLSX-Dateien können komplexe tabellarische Daten, Formeln, Diagramme, Formatierungen und mehr speichern."
   ]
  },
  {
   "cell_type": "markdown",
   "id": "08d7a951-e114-4754-8d37-39809f0bc08f",
   "metadata": {},
   "source": [
    "### Eigenschaften von XLSX:"
   ]
  },
  {
   "cell_type": "markdown",
   "id": "871c21dd-78cf-4091-a92e-d291572df26e",
   "metadata": {},
   "source": [
    "- **Tabellenkalkulationen:** Speichert Daten in Zellen, die in Spalten und Zeilen angeordnet sind.\n",
    "- **Komplexe Inhalte:** Neben einfachen Text- und Zahlwerten können XLSX-Dateien auch Formeln, Diagramme, bedingte Formatierungen, Pivot-Tabellen und weitere Excel-spezifische Features enthalten.\n",
    "- **Open XML:** Das XLSX-Format verwendet eine Kombination aus XML-Dateien und ZIP-Kompression, um Daten effizient zu speichern. Eine XLSX-Datei ist im Grunde eine ZIP-Datei, die eine Sammlung von XML-Dateien enthält.\n",
    "- **Multiplattform:** Es kann von verschiedenen Softwareprogrammen, nicht nur von Microsoft Excel, gelesen werden (z. B. **Google Sheets**, **LibreOffice**, **pandas** in Python)."
   ]
  },
  {
   "cell_type": "markdown",
   "id": "1e4f62c9-8dd4-4b50-b6ef-61962ab80927",
   "metadata": {},
   "source": [
    "### Beispiel:"
   ]
  },
  {
   "cell_type": "markdown",
   "id": "b3fea411-2f20-4818-8169-f3c6b3467213",
   "metadata": {},
   "source": [
    "In einer XLSX-Datei könnten sich mehrere Tabellenblätter befinden, die unterschiedliche Daten enthalten, etwa:\n",
    "\n",
    "- Ein Tabellenblatt mit Verkaufszahlen,\n",
    "- Ein Tabellenblatt mit Formeln, die Berechnungen auf Basis der Verkaufszahlen durchführen,\n",
    "- Ein Diagramm zur Visualisierung der Verkaufszahlen."
   ]
  },
  {
   "cell_type": "markdown",
   "id": "fab107dc-1cc0-46fe-9c0e-73c410b1c8f5",
   "metadata": {},
   "source": [
    "### XLSX-Datei in Python einlesen:"
   ]
  },
  {
   "cell_type": "markdown",
   "id": "1d8518f4-67e7-4815-95f7-86e69a4326bb",
   "metadata": {},
   "source": [
    "XLSX-Dateien können mit der `pandas`-Bibliothek und dem Modul `openpyxl` oder `xlrd` verarbeitet werden.\n",
    "\n",
    "```python\n",
    "import pandas as pd\n",
    "\n",
    "# XLSX-Datei einlesen\n",
    "data = pd.read_excel('datei.xlsx')\n",
    "\n",
    "# Ausgabe der Daten\n",
    "print(data)\n",
    "```\n",
    "\n",
    "Mit `pandas` wird die XLSX-Datei in ein DataFrame geladen, wodurch du die Daten einfach analysieren und manipulieren kannst."
   ]
  },
  {
   "cell_type": "code",
   "execution_count": null,
   "id": "80d08446-ea84-4114-9e58-8927547e9df9",
   "metadata": {},
   "outputs": [],
   "source": []
  }
 ],
 "metadata": {
  "kernelspec": {
   "display_name": "Python 3 (ipykernel)",
   "language": "python",
   "name": "python3"
  },
  "language_info": {
   "codemirror_mode": {
    "name": "ipython",
    "version": 3
   },
   "file_extension": ".py",
   "mimetype": "text/x-python",
   "name": "python",
   "nbconvert_exporter": "python",
   "pygments_lexer": "ipython3",
   "version": "3.12.6"
  }
 },
 "nbformat": 4,
 "nbformat_minor": 5
}
