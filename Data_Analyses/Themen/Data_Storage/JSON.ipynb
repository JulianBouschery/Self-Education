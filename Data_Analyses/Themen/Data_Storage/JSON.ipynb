{
 "cells": [
  {
   "cell_type": "markdown",
   "id": "7d200bb5-ec96-4975-9bb3-ec1982ab68c3",
   "metadata": {},
   "source": [
    "# JSON-Dateien (JavaScript Object Notation)"
   ]
  },
  {
   "cell_type": "markdown",
   "id": "9273ff9e-0769-4561-baf2-c7a8501a6a1c",
   "metadata": {},
   "source": [
    "**JSON** (JavaScript Object Notation) ist ein leichtgewichtiges, textbasiertes Datenformat, das verwendet wird, um strukturierte Daten darzustellen. Es ist einfach für Menschen zu lesen und zu schreiben und gleichzeitig für Maschinen leicht zu parsen (verarbeiten) und zu generieren. JSON wird häufig in Webanwendungen verwendet, um Daten zwischen einem Server und einem Client (wie einem Webbrowser) zu übertragen."
   ]
  },
  {
   "cell_type": "markdown",
   "id": "56e45682-bcdc-4a9e-a31c-c84281b42e77",
   "metadata": {},
   "source": [
    "### Struktur von JSON-Dateien:"
   ]
  },
  {
   "cell_type": "markdown",
   "id": "77d65d35-9efa-423f-bd34-5107f9c59a88",
   "metadata": {},
   "source": [
    "1. **Objekte**: \n",
    "   - Ein JSON-Objekt besteht aus Schlüssel-Wert-Paaren.\n",
    "   - Es ist umgeben von geschweiften Klammern `{}`.\n",
    "   - Beispiel:\n",
    "     ```json\n",
    "     {\n",
    "       \"name\": \"Max\",\n",
    "       \"age\": 25,\n",
    "       \"city\": \"Berlin\"\n",
    "     }\n",
    "     ```\n",
    "\n",
    "2. **Arrays**: \n",
    "   - Ein JSON-Array ist eine geordnete Liste von Werten.\n",
    "   - Es ist umgeben von eckigen Klammern `[]`.\n",
    "   - Beispiel:\n",
    "     ```json\n",
    "     {\n",
    "       \"students\": [\"Anna\", \"Tom\", \"Sara\"]\n",
    "     }\n",
    "     ```\n",
    "\n",
    "3. **Datentypen**:\n",
    "   - **Strings**: Zeichenketten in Anführungszeichen `\"\"` (z.B. `\"Hallo\"`).\n",
    "   - **Numbers**: Ganz- und Dezimalzahlen ohne Anführungszeichen (z.B. `42`, `3.14`).\n",
    "   - **Booleans**: Wahrheitswerte `true` oder `false`.\n",
    "   - **Null**: Der Wert `null` repräsentiert die Abwesenheit eines Werts.\n",
    "   - **Objekte**: Verschachtelte Schlüssel-Wert-Paare.\n",
    "   - **Arrays**: Listen von Werten, die verschiedene Datentypen enthalten können."
   ]
  },
  {
   "cell_type": "markdown",
   "id": "4a2974ed-d280-41d8-9f9b-5ad25b306fdb",
   "metadata": {},
   "source": [
    "### Beispiel einer JSON-Datei:"
   ]
  },
  {
   "cell_type": "markdown",
   "id": "6cbbe697-7960-40a2-aaa4-3dafd7242548",
   "metadata": {},
   "source": [
    "```json\n",
    "{\n",
    "  \"name\": \"Alice\",\n",
    "  \"age\": 30,\n",
    "  \"isStudent\": false,\n",
    "  \"courses\": [\"Mathematics\", \"Physics\"],\n",
    "  \"address\": {\n",
    "    \"street\": \"Example Road\",\n",
    "    \"city\": \"Berlin\"\n",
    "  }\n",
    "}\n",
    "```"
   ]
  },
  {
   "cell_type": "markdown",
   "id": "9da7324d-8850-4f13-a99a-b39d144a7802",
   "metadata": {},
   "source": [
    "### Verwendung:"
   ]
  },
  {
   "cell_type": "markdown",
   "id": "a4d8e865-7f1b-4e76-b250-2061963fb723",
   "metadata": {},
   "source": [
    "JSON-Dateien werden häufig verwendet, um Daten in APIs oder Konfigurationsdateien zu speichern. Es ist besonders nützlich für die Übertragung von Daten über das Internet, z.B. zwischen einem Webserver und einem Webbrowser oder einem Webservice."
   ]
  },
  {
   "cell_type": "markdown",
   "id": "93b5f1ec-a9f1-42dc-b457-010b8305eba9",
   "metadata": {},
   "source": [
    "### Vorteile von JSON:"
   ]
  },
  {
   "cell_type": "markdown",
   "id": "2dbb8382-bf50-42e5-8cb6-dce86fecc437",
   "metadata": {},
   "source": [
    "- **Einfach**: Leicht zu lesen und zu schreiben.\n",
    "- **Plattformunabhängig**: JSON kann von vielen Programmiersprachen wie Python, JavaScript, Java und anderen verarbeitet werden.\n",
    "- **Kompakt**: Da JSON textbasiert ist, bleibt es relativ klein, was den Datenaustausch effizient macht.\n",
    "\n",
    "In Python kannst du zum Beispiel das `json`-Modul verwenden, um JSON-Dateien zu laden und zu schreiben."
   ]
  },
  {
   "cell_type": "code",
   "execution_count": null,
   "id": "47c0f32e-3867-4add-9425-10579469fe1c",
   "metadata": {},
   "outputs": [],
   "source": []
  },
  {
   "cell_type": "code",
   "execution_count": null,
   "id": "d2758107-95c9-41ec-b8f8-97da7e1e03e9",
   "metadata": {},
   "outputs": [],
   "source": []
  }
 ],
 "metadata": {
  "kernelspec": {
   "display_name": "Python 3 (ipykernel)",
   "language": "python",
   "name": "python3"
  },
  "language_info": {
   "codemirror_mode": {
    "name": "ipython",
    "version": 3
   },
   "file_extension": ".py",
   "mimetype": "text/x-python",
   "name": "python",
   "nbconvert_exporter": "python",
   "pygments_lexer": "ipython3",
   "version": "3.12.6"
  }
 },
 "nbformat": 4,
 "nbformat_minor": 5
}
