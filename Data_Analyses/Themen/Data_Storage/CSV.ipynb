{
 "cells": [
  {
   "cell_type": "markdown",
   "id": "39ea5f2c-9624-43bc-b7c5-ed296493a231",
   "metadata": {},
   "source": [
    "# CSV (Comma-Seperated Values)"
   ]
  },
  {
   "cell_type": "markdown",
   "id": "140c6f40-19f2-4455-8029-9f4ea5f9a86b",
   "metadata": {},
   "source": [
    "Eine **CSV-Datei** (Comma-Separated Values) ist ein einfaches Textdateiformat, das zur Speicherung von tabellarischen Daten verwendet wird. Jede Zeile in einer CSV-Datei entspricht einer Zeile in einer Tabelle, und die Werte innerhalb einer Zeile werden durch ein Trennzeichen (in der Regel ein **Komma** `,` oder manchmal ein **Semikolon** `;`) voneinander getrennt."
   ]
  },
  {
   "cell_type": "markdown",
   "id": "e1889dc1-44e8-4695-8f11-1e15e2602030",
   "metadata": {},
   "source": [
    "### Eigenschaften von CSV-Dateien:"
   ]
  },
  {
   "cell_type": "markdown",
   "id": "08337e0e-6612-4b26-ab60-5f34e82ede54",
   "metadata": {},
   "source": [
    "- **Trennung der Werte:** Die Werte in jeder Zeile werden durch ein Komma (oder ein anderes Trennzeichen) getrennt.\n",
    "- **Zeilenstruktur:** Jede Zeile stellt eine neue Datenreihe dar.\n",
    "- **Einfaches Format:** Es ist leicht lesbar, sowohl für Menschen als auch für Computerprogramme."
   ]
  },
  {
   "cell_type": "markdown",
   "id": "7dc07f23-d6de-49a7-a60d-843eafdb6a35",
   "metadata": {},
   "source": [
    "### Beispiel einer CSV-Datei:"
   ]
  },
  {
   "cell_type": "markdown",
   "id": "b3ca2c4a-499b-4fb9-9858-fb1ba7c6717b",
   "metadata": {},
   "source": [
    "```\n",
    "Name,Alter,Stadt\n",
    "Alice,25,Berlin\n",
    "Bob,30,Hamburg\n",
    "Charlie,22,München\n",
    "```\n",
    "\n",
    "In diesem Fall gibt es drei Spalten (`Name`, `Alter`, `Stadt`) und drei Datensätze (Alice, Bob, Charlie)."
   ]
  },
  {
   "cell_type": "markdown",
   "id": "7bbb79c3-8866-4a8d-ba0d-63d99bc0185e",
   "metadata": {},
   "source": [
    "### CSV-Datei in Python einlesen:"
   ]
  },
  {
   "cell_type": "markdown",
   "id": "29354d67-8941-4d89-b683-61d2be379502",
   "metadata": {},
   "source": [
    "CSV-Dateien können einfach mit Python und der Bibliothek `pandas` oder dem eingebauten Modul `csv` verarbeitet werden.\n",
    "\n",
    "```python\n",
    "import pandas as pd\n",
    "\n",
    "# CSV-Datei einlesen mit pandas\n",
    "data = pd.read_csv('datei.csv')\n",
    "\n",
    "# Ausgabe der Daten\n",
    "print(data)\n",
    "```\n",
    "\n",
    "Mit `pandas` wird die CSV-Datei in ein DataFrame (ähnlich einer Tabelle) geladen, wodurch die Daten einfach verarbeitet und analysiert werden können."
   ]
  },
  {
   "cell_type": "markdown",
   "id": "b0bf406c-4894-48ae-8cf7-6b0bf9b8aa6f",
   "metadata": {},
   "source": [
    "# Next"
   ]
  },
  {
   "cell_type": "markdown",
   "id": "7dd0d9b1-b342-4734-802c-516d8a66e66f",
   "metadata": {},
   "source": [
    "2. CSV-Dateien: Import und Export\n",
    "\n",
    "- CSV (Comma Separated Values) für tabellarische Daten.\n",
    "- Vorteil: Leicht lesbar, weit verbreitet in Tabellenkalkulationen.\n",
    "\n"
   ]
  },
  {
   "cell_type": "markdown",
   "id": "7e7f458d-e4c6-46d8-b284-692797d184c2",
   "metadata": {},
   "source": [
    "\n",
    "Python Beispiel: Import und Export von CSV-Dateien"
   ]
  },
  {
   "cell_type": "code",
   "execution_count": null,
   "id": "d4e1a0d4-619d-4d2a-8581-a9594bde592b",
   "metadata": {},
   "outputs": [],
   "source": [
    "import pandas as pd\n",
    "\n",
    "# CSV-Datei importieren\n",
    "df = pd.read_csv('market_data.csv')\n",
    "print(df.head())\n",
    "\n",
    "# CSV-Datei exportieren\n",
    "df.to_csv('output.csv', index=False)\n"
   ]
  }
 ],
 "metadata": {
  "kernelspec": {
   "display_name": "Python 3 (ipykernel)",
   "language": "python",
   "name": "python3"
  },
  "language_info": {
   "codemirror_mode": {
    "name": "ipython",
    "version": 3
   },
   "file_extension": ".py",
   "mimetype": "text/x-python",
   "name": "python",
   "nbconvert_exporter": "python",
   "pygments_lexer": "ipython3",
   "version": "3.12.6"
  }
 },
 "nbformat": 4,
 "nbformat_minor": 5
}
