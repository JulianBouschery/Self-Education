{
 "cells": [
  {
   "cell_type": "markdown",
   "id": "b44f2d90-6160-4a20-bbd4-034b1ae7d9f5",
   "metadata": {},
   "source": [
    "# Inhaltsverzeichnis Data-Analyses"
   ]
  },
  {
   "cell_type": "markdown",
   "id": "083e660e-80b7-4fe2-8258-072838366009",
   "metadata": {},
   "source": [
    "## Strukturierung"
   ]
  },
  {
   "cell_type": "markdown",
   "id": "e9ef84ba-d136-4dbd-8b94-11b29a9a8bc9",
   "metadata": {},
   "source": [
    "Da Numpy, Scipy, Matplotlib und Pandas alle aufeinander aufbauen und viele Funktionen und Mehtoden teilen habe ich mich dazu entschieden diese nicht nach Modulen zu sortieren sondern in einem einzigen Ordner `Funktionen und Methoden` zu verwalten."
   ]
  },
  {
   "cell_type": "markdown",
   "id": "4d5bd220-ca08-4b85-aaa5-4405237e5aac",
   "metadata": {},
   "source": [
    "![Dependencies](Dependencies.jpg)"
   ]
  },
  {
   "cell_type": "markdown",
   "id": "b452847c-4009-41f0-acc5-6bc8a4ebd122",
   "metadata": {},
   "source": [
    "[Funktionen und Methoden](./Funktionen_und_Methoden/_Inhaltsverzeichnis_FM_.ipynb)"
   ]
  },
  {
   "cell_type": "markdown",
   "id": "7c21f39f-ce9d-4688-9240-593adcfc793c",
   "metadata": {},
   "source": [
    "[Formeln](./Formeln/_Inhaltsverzeichnis_Formeln_.ipynb)"
   ]
  },
  {
   "cell_type": "code",
   "execution_count": null,
   "id": "23fb2b03-f0f2-439e-8d1a-f5cddb839265",
   "metadata": {},
   "outputs": [],
   "source": [
    "Übersicht Regression]"
   ]
  }
 ],
 "metadata": {
  "kernelspec": {
   "display_name": "Python 3 (ipykernel)",
   "language": "python",
   "name": "python3"
  },
  "language_info": {
   "codemirror_mode": {
    "name": "ipython",
    "version": 3
   },
   "file_extension": ".py",
   "mimetype": "text/x-python",
   "name": "python",
   "nbconvert_exporter": "python",
   "pygments_lexer": "ipython3",
   "version": "3.12.6"
  }
 },
 "nbformat": 4,
 "nbformat_minor": 5
}
