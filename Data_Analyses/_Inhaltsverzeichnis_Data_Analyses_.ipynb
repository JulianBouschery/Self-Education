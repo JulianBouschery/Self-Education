{
 "cells": [
  {
   "cell_type": "markdown",
   "id": "b44f2d90-6160-4a20-bbd4-034b1ae7d9f5",
   "metadata": {},
   "source": [
    "# Inhaltsverzeichnis Data-Analyses"
   ]
  },
  {
   "cell_type": "markdown",
   "id": "083e660e-80b7-4fe2-8258-072838366009",
   "metadata": {},
   "source": [
    "## Strukturierung"
   ]
  },
  {
   "cell_type": "markdown",
   "id": "df6136f6",
   "metadata": {},
   "source": [
    "Da Numpy, Scipy, Matplotlib, Pandas, Seaborn und viele weitere Module und Themenbereich aufeinander aufbauen und sich inhaltlich überlappen, habe ich mich gegen die Strukturierung nach Kategorien entschieden. Stattdessen werden alle generellen Themenbereiche wie Fachwörter, Formeln, Funktionen, Bilder etc. in einem Zentral-Ordner abgespeichert.\n",
    "\n",
    "Alle Notebooks, werden thematisch so aufgebaut, dass sie eine Schritt für Schritt Anleitung zur Erarbeitung des entsprechenden Lerninhalts und dessen Anwendung enthalten. Wird dabeit themenübergreifendes Wissen benötigt, wird dies im Skript selbst kurz wiederholt und angewendet. Für eine detailiertere Erklärung kann man über einen integrierten Link auf die entsprechende Datei im Zentral-Ordner zugreifen."
   ]
  },
  {
   "cell_type": "markdown",
   "id": "4d5bd220-ca08-4b85-aaa5-4405237e5aac",
   "metadata": {},
   "source": [
    "![Dependencies](./Zentral_Ordner/Bilder/Dependencies.jpg)"
   ]
  },
  {
   "cell_type": "markdown",
   "id": "7f98f12c-bc8d-4fc6-9725-78bac395922e",
   "metadata": {},
   "source": [
    "# Inhaltsverzeichnis und Lehrplan"
   ]
  },
  {
   "cell_type": "code",
   "execution_count": null,
   "id": "37e4726b-39e9-4742-a0dd-3d91e63d9d0f",
   "metadata": {},
   "outputs": [],
   "source": [
    "Statistik"
   ]
  },
  {
   "cell_type": "markdown",
   "id": "b452847c-4009-41f0-acc5-6bc8a4ebd122",
   "metadata": {},
   "source": [
    "[Funktionen und Methoden](./Zentral_ordner/Funktionen_und_Methoden/_Inhaltsverzeichnis_FM_.ipynb)"
   ]
  },
  {
   "cell_type": "markdown",
   "id": "7c21f39f-ce9d-4688-9240-593adcfc793c",
   "metadata": {},
   "source": [
    "[Formeln](./Zentral_Ordner/Formeln/_Inhaltsverzeichnis_Formeln_.ipynb)"
   ]
  },
  {
   "cell_type": "code",
   "execution_count": null,
   "id": "23fb2b03-f0f2-439e-8d1a-f5cddb839265",
   "metadata": {},
   "outputs": [],
   "source": [
    "Übersicht Regression]"
   ]
  }
 ],
 "metadata": {
  "kernelspec": {
   "display_name": "Python 3 (ipykernel)",
   "language": "python",
   "name": "python3"
  },
  "language_info": {
   "codemirror_mode": {
    "name": "ipython",
    "version": 3
   },
   "file_extension": ".py",
   "mimetype": "text/x-python",
   "name": "python",
   "nbconvert_exporter": "python",
   "pygments_lexer": "ipython3",
   "version": "3.12.6"
  }
 },
 "nbformat": 4,
 "nbformat_minor": 5
}
