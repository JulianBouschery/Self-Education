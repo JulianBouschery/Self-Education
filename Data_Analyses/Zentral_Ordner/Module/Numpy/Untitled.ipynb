{
 "cells": [
  {
   "cell_type": "markdown",
   "id": "ad31891b-39dd-4dc7-9158-981e3e4f63e9",
   "metadata": {},
   "source": [
    "Was kann man am Unterrciht verbesserern? \n",
    "\n",
    "Zusammenfassung der Wichtigsten Themen im Skript, die man für die Prüfung auswendig lernen muss."
   ]
  },
  {
   "cell_type": "code",
   "execution_count": null,
   "id": "c6db6f31-4355-4f1d-a96d-6fb37c3c85f0",
   "metadata": {},
   "outputs": [],
   "source": [
    "Momentan sind die Skripte auf versta"
   ]
  }
 ],
 "metadata": {
  "kernelspec": {
   "display_name": "Python 3 (ipykernel)",
   "language": "python",
   "name": "python3"
  },
  "language_info": {
   "codemirror_mode": {
    "name": "ipython",
    "version": 3
   },
   "file_extension": ".py",
   "mimetype": "text/x-python",
   "name": "python",
   "nbconvert_exporter": "python",
   "pygments_lexer": "ipython3",
   "version": "3.12.6"
  }
 },
 "nbformat": 4,
 "nbformat_minor": 5
}
