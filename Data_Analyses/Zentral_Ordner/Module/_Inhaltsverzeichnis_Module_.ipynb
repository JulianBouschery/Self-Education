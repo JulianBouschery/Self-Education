{
 "cells": [
  {
   "cell_type": "markdown",
   "id": "9e5ef599-bea3-433e-ba2a-305bd4ee6203",
   "metadata": {},
   "source": [
    "# Übersicht der unterschiedlichen Module und wofür sie verwendet werden:"
   ]
  },
  {
   "cell_type": "markdown",
   "id": "f25ff94f-5084-49ab-9120-c86d62204417",
   "metadata": {},
   "source": [
    "Auch wenn ich es gerne vermeiden würde die einzelnen Funktionen und Methoden nach Modulen zu sortieren, ist es doch nötig einige generelle Notizen zu den einzelnen Modulen zu verfassen und wofür diese gezutzt werden können."
   ]
  },
  {
   "cell_type": "markdown",
   "id": "0daef387-6762-43a9-8557-397647467078",
   "metadata": {},
   "source": [
    "[Scikit-learn](https://scikit-learn.org/stable/modules/model_evaluation.html)"
   ]
  },
  {
   "cell_type": "markdown",
   "id": "d734d9df-f297-4f88-807d-a56c198d3cc1",
   "metadata": {},
   "source": [
    "[Scikit-Learn lable Encoder](https://scikit-learn.org/stable/modules/generated/sklearn.preprocessing.LabelEncoder.html)"
   ]
  },
  {
   "cell_type": "markdown",
   "id": "0216f183-4cc2-4b67-98b8-61a0957ee8ae",
   "metadata": {},
   "source": [
    "### Web-Scraping:"
   ]
  },
  {
   "cell_type": "markdown",
   "id": "277b31c3-a1cc-4c50-bd19-df0fbb08fb51",
   "metadata": {},
   "source": [
    "[BeautifulSoup](./Sonstige/BeautifulSoup.ipynb)"
   ]
  },
  {
   "cell_type": "code",
   "execution_count": null,
   "id": "fc67b43e-8178-4480-9bd9-05c47d437b34",
   "metadata": {},
   "outputs": [],
   "source": []
  }
 ],
 "metadata": {
  "kernelspec": {
   "display_name": "Python 3 (ipykernel)",
   "language": "python",
   "name": "python3"
  },
  "language_info": {
   "codemirror_mode": {
    "name": "ipython",
    "version": 3
   },
   "file_extension": ".py",
   "mimetype": "text/x-python",
   "name": "python",
   "nbconvert_exporter": "python",
   "pygments_lexer": "ipython3",
   "version": "3.12.6"
  }
 },
 "nbformat": 4,
 "nbformat_minor": 5
}
