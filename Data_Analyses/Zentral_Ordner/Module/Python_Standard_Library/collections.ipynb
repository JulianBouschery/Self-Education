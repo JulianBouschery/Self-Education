{
 "cells": [
  {
   "cell_type": "markdown",
   "id": "6dabe353-5b84-465c-b1e4-e5987c599c90",
   "metadata": {},
   "source": [
    "# collection Modul"
   ]
  },
  {
   "cell_type": "markdown",
   "id": "65749f4f-60e7-4744-9cc2-d3b421c5a8d5",
   "metadata": {},
   "source": [
    "Das **`collections`**-Modul in Python erweitert die Funktionalität von eingebauten Datentypen wie Listen, Tupeln und Dictionaries. Es bietet spezialisierte Container-Datentypen, die häufig in verschiedenen Programmierszenarien nützlich sind. Hier ist eine Erklärung der wichtigsten Funktionen und Klassen des Moduls:\n",
    "\n",
    "### 1. **`namedtuple`**\n",
    "- **Was es macht**: Erstellt benannte Tupel (ähnlich wie ein reguläres Tupel, aber mit benannten Feldern).\n",
    "- **Nutzen**: Ermöglicht es dir, auf Tupel-Elemente durch Namen statt durch Position zuzugreifen.\n",
    "  \n",
    "  ```python\n",
    "  from collections import namedtuple\n",
    "  \n",
    "  Point = namedtuple('Point', ['x', 'y'])\n",
    "  p = Point(10, 20)\n",
    "  print(p.x, p.y)  # Ausgabe: 10 20\n",
    "  ```\n",
    "\n",
    "### 2. **`deque`** (Doppelt verkettete Liste)\n",
    "- **Was es macht**: Bietet eine schnellere Möglichkeit, Elemente an beiden Enden einer Liste hinzuzufügen oder zu entfernen.\n",
    "- **Nutzen**: Sehr effizient für Operationen am Anfang und Ende der Liste, z.B. für Warteschlangen und Stapel.\n",
    "\n",
    "  ```python\n",
    "  from collections import deque\n",
    "  \n",
    "  d = deque([1, 2, 3])\n",
    "  d.append(4)       # Hinzufügen ans Ende\n",
    "  d.appendleft(0)   # Hinzufügen an den Anfang\n",
    "  print(d)          # Ausgabe: deque([0, 1, 2, 3, 4])\n",
    "  ```\n",
    "\n",
    "### 3. **`Counter`**\n",
    "- **Was es macht**: Ein Wörterbuch, das die Häufigkeit von Elementen in einer Liste oder Sequenz zählt.\n",
    "- **Nutzen**: Hilfreich, um zu sehen, wie oft bestimmte Werte in einer Sammlung vorkommen.\n",
    "\n",
    "  ```python\n",
    "  from collections import Counter\n",
    "  \n",
    "  counts = Counter(['apple', 'banana', 'apple', 'orange', 'banana', 'apple'])\n",
    "  print(counts)  # Ausgabe: Counter({'apple': 3, 'banana': 2, 'orange': 1})\n",
    "  ```\n",
    "\n",
    "### 4. **`defaultdict`**\n",
    "- **Was es macht**: Ein Wörterbuch, das automatisch einen Standardwert erstellt, falls ein Schlüssel nicht vorhanden ist.\n",
    "- **Nutzen**: Vermeidet Fehler bei der Arbeit mit nicht existierenden Schlüsseln.\n",
    "  \n",
    "  ```python\n",
    "  from collections import defaultdict\n",
    "  \n",
    "  dd = defaultdict(int)  # int() gibt standardmäßig 0 zurück\n",
    "  dd['apple'] += 1\n",
    "  print(dd['apple'])  # Ausgabe: 1\n",
    "  print(dd['banana']) # Ausgabe: 0 (Standardwert)\n",
    "  ```\n",
    "\n",
    "### 5. **`OrderedDict`** (Veraltet für Python 3.7+)\n",
    "- **Was es macht**: Ein Wörterbuch, das die Einfügereihenfolge der Schlüssel speichert.\n",
    "- **Nutzen**: Seit Python 3.7 speichern normale Dictionaries ebenfalls die Einfügereihenfolge, daher ist diese Klasse weniger nützlich in neueren Versionen.\n",
    "\n",
    "  ```python\n",
    "  from collections import OrderedDict\n",
    "  \n",
    "  od = OrderedDict()\n",
    "  od['banana'] = 1\n",
    "  od['apple'] = 2\n",
    "  od['orange'] = 3\n",
    "  print(od)  # Ausgabe: OrderedDict([('banana', 1), ('apple', 2), ('orange', 3)])\n",
    "  ```\n",
    "\n",
    "### 6. **`ChainMap`**\n",
    "- **Was es macht**: Eine Klasse, die mehrere Mappings (z.B. Dictionaries) in einer Ansicht zusammenführt.\n",
    "- **Nutzen**: Ermöglicht den Zugriff auf mehrere Wörterbücher als wäre es eines.\n",
    "\n",
    "  ```python\n",
    "  from collections import ChainMap\n",
    "  \n",
    "  dict1 = {'a': 1, 'b': 2}\n",
    "  dict2 = {'b': 3, 'c': 4}\n",
    "  combined = ChainMap(dict1, dict2)\n",
    "  print(combined['b'])  # Ausgabe: 2 (wert aus dict1)\n",
    "  ```\n",
    "\n",
    "### 7. **`UserDict`, `UserList`, `UserString`**\n",
    "- **Was sie machen**: Diese Klassen bieten die Möglichkeit, Standard-Datentypen wie Dictionaries, Listen und Strings zu erweitern.\n",
    "- **Nutzen**: Erleichtern das Erstellen benutzerdefinierter Datenstrukturen, die sich wie Standardtypen verhalten.\n",
    "\n",
    "  ```python\n",
    "  from collections import UserDict\n",
    "  \n",
    "  class MyDict(UserDict):\n",
    "      def __setitem__(self, key, value):\n",
    "          print(f\"Setze {key} = {value}\")\n",
    "          super().__setitem__(key, value)\n",
    "  \n",
    "  d = MyDict()\n",
    "  d['apple'] = 42  # Ausgabe: Setze apple = 42\n",
    "  ```\n",
    "\n",
    "### Zusammengefasst:\n",
    "Das `collections`-Modul hilft dabei, häufige Aufgaben mit erweiterten Containern effizienter und übersichtlicher zu lösen. Ob du mit benannten Tupeln arbeitest, Häufigkeiten zählst oder eine doppelt verlinkte Liste benötigst – dieses Modul hat viele nützliche Funktionen!"
   ]
  },
  {
   "cell_type": "markdown",
   "id": "fde690b1-4ab1-4efd-b6d5-df2c35531725",
   "metadata": {},
   "source": [
    "## Beispiel der Verarbeitung von unstrukturierten Daten"
   ]
  },
  {
   "cell_type": "code",
   "execution_count": 1,
   "id": "a998a533-79ad-478a-82c8-599b5fda0962",
   "metadata": {},
   "outputs": [
    {
     "name": "stdout",
     "output_type": "stream",
     "text": [
      "Counter({'ist': 2, 'die': 1, 'analyse': 1, 'von': 1, 'textdaten': 1, 'spannend': 1, 'textanalyse': 1, 'eine': 1, 'interessante': 1, 'herausforderung': 1})\n"
     ]
    }
   ],
   "source": [
    "import re\n",
    "from collections import Counter\n",
    "\n",
    "# Unstrukturierte Daten (Text)\n",
    "text_data = \"Die Analyse von Textdaten ist spannend! Textanalyse ist eine interessante Herausforderung.\"\n",
    "\n",
    "# Text bereinigen (z.B. Sonderzeichen entfernen, in Kleinbuchstaben umwandeln)\n",
    "cleaned_text = re.sub(r'[^a-zA-Z\\s]', '', text_data.lower())\n",
    "\n",
    "# Tokenisierung (Wörter in eine Liste umwandeln)\n",
    "tokens = cleaned_text.split()\n",
    "\n",
    "# Häufigkeit der Wörter berechnen\n",
    "word_counts = Counter(tokens)\n",
    "print(word_counts)"
   ]
  },
  {
   "cell_type": "code",
   "execution_count": null,
   "id": "3c2df4d9-9dd6-438e-8a68-b74d55699e55",
   "metadata": {},
   "outputs": [],
   "source": []
  }
 ],
 "metadata": {
  "kernelspec": {
   "display_name": "Python 3 (ipykernel)",
   "language": "python",
   "name": "python3"
  },
  "language_info": {
   "codemirror_mode": {
    "name": "ipython",
    "version": 3
   },
   "file_extension": ".py",
   "mimetype": "text/x-python",
   "name": "python",
   "nbconvert_exporter": "python",
   "pygments_lexer": "ipython3",
   "version": "3.12.6"
  }
 },
 "nbformat": 4,
 "nbformat_minor": 5
}
