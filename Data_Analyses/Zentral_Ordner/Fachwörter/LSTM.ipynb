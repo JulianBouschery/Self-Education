{
 "cells": [
  {
   "cell_type": "markdown",
   "id": "53cc3079-2145-40b9-b1f4-7736ecd26023",
   "metadata": {},
   "source": [
    "# LSTM"
   ]
  },
  {
   "cell_type": "markdown",
   "id": "4c33bd49-6743-450a-a382-386b1fd87296",
   "metadata": {},
   "source": [
    "**LSTM** steht für **Long Short-Term Memory**. Es ist eine spezielle Art von **[Recurrent Neural Network (RNN)](RNN.ipynb)**, das entwickelt wurde, um Sequenzen und zeitabhängige Daten (wie Zeitreihen) besser zu verarbeiten. LSTMs sind besonders gut darin, **langfristige Abhängigkeiten** in Daten zu lernen, da sie sich die Information über längere Zeiträume hinweg „merken“ können. "
   ]
  },
  {
   "cell_type": "markdown",
   "id": "2a0caf44-f116-45a4-a824-390922c5046b",
   "metadata": {},
   "source": [
    "### Warum LSTM?"
   ]
  },
  {
   "cell_type": "markdown",
   "id": "5420a5d3-3fdd-4d27-9e36-bb1bf69c3b22",
   "metadata": {},
   "source": [
    "- **Normale RNNs** haben Schwierigkeiten, Informationen über lange Sequenzen hinweg zu speichern und nutzen, weil sie anfällig für das sogenannte **[Vanishing Gradient Problem](GP.ipynb)** sind (Information geht schnell verloren).\n",
    "- **LSTM**-Zellen haben einen speziellen Mechanismus – den **Speichermechanismus**, der kontrolliert, welche Informationen behalten, vergessen oder hinzugefügt werden. Das ermöglicht LSTMs, Abhängigkeiten über längere Zeiträume hinweg effektiv zu lernen.\n",
    "\n",
    "LSTM-Modelle sind weit verbreitet in Aufgaben wie:\n",
    "- Zeitreihenprognose (z.B. Aktienkurse, Wetter)\n",
    "- Spracheingabe und -ausgabe (Spracherkennung, Übersetzung)\n",
    "- Textverarbeitung (Textgenerierung, [Sentimentanalyse](Sentiment_Detection.ipynb))."
   ]
  },
  {
   "cell_type": "code",
   "execution_count": null,
   "id": "9adca765-a901-4214-a049-7718e6a438b4",
   "metadata": {},
   "outputs": [],
   "source": []
  }
 ],
 "metadata": {
  "kernelspec": {
   "display_name": "Python 3 (ipykernel)",
   "language": "python",
   "name": "python3"
  },
  "language_info": {
   "codemirror_mode": {
    "name": "ipython",
    "version": 3
   },
   "file_extension": ".py",
   "mimetype": "text/x-python",
   "name": "python",
   "nbconvert_exporter": "python",
   "pygments_lexer": "ipython3",
   "version": "3.12.6"
  }
 },
 "nbformat": 4,
 "nbformat_minor": 5
}
