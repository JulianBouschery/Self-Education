{
 "cells": [
  {
   "cell_type": "markdown",
   "id": "c7d1ee87-a41c-4485-9e08-89297736a778",
   "metadata": {},
   "source": [
    "# Normalisierung"
   ]
  },
  {
   "cell_type": "markdown",
   "id": "52bd23fe-3671-4bb9-a199-23db596b407b",
   "metadata": {},
   "source": [
    "https://www.mql5.com/de/articles/11200"
   ]
  },
  {
   "cell_type": "markdown",
   "id": "e2fc0276-76d8-4ccc-b8ee-9717011b8231",
   "metadata": {},
   "source": [
    "https://de.wikipedia.org/wiki/Paraboloid"
   ]
  },
  {
   "cell_type": "markdown",
   "id": "d4ee1ce5-9a41-4e65-ad49-4881d2b906d9",
   "metadata": {},
   "source": [
    "Minimierung"
   ]
  },
  {
   "cell_type": "markdown",
   "id": "249623ab-e7f8-4034-8dcd-6671d225b2ce",
   "metadata": {},
   "source": [
    "https://databasecamp.de/ki/gradientenverfahren-ein-steiler-abstieg"
   ]
  },
  {
   "cell_type": "code",
   "execution_count": null,
   "id": "d6f15daa-ce0d-4240-ac8c-22b4c336e23f",
   "metadata": {},
   "outputs": [],
   "source": []
  }
 ],
 "metadata": {
  "kernelspec": {
   "display_name": "Python 3 (ipykernel)",
   "language": "python",
   "name": "python3"
  },
  "language_info": {
   "codemirror_mode": {
    "name": "ipython",
    "version": 3
   },
   "file_extension": ".py",
   "mimetype": "text/x-python",
   "name": "python",
   "nbconvert_exporter": "python",
   "pygments_lexer": "ipython3",
   "version": "3.12.6"
  }
 },
 "nbformat": 4,
 "nbformat_minor": 5
}
