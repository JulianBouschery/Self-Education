{
 "cells": [
  {
   "cell_type": "markdown",
   "id": "a6a57445-d421-4af5-be35-d5e02642d056",
   "metadata": {},
   "source": [
    "# Multi-Koliniarität"
   ]
  },
  {
   "cell_type": "markdown",
   "id": "4f90349c-e0ad-4b72-b060-ff6cf5ccb894",
   "metadata": {},
   "source": [
    "https://de.wikipedia.org/wiki/Multikollinearit%C3%A4t"
   ]
  },
  {
   "cell_type": "code",
   "execution_count": null,
   "id": "0e8b7f92-64af-42bb-82ba-08bbc48a4a3b",
   "metadata": {},
   "outputs": [],
   "source": []
  }
 ],
 "metadata": {
  "kernelspec": {
   "display_name": "Python 3 (ipykernel)",
   "language": "python",
   "name": "python3"
  },
  "language_info": {
   "codemirror_mode": {
    "name": "ipython",
    "version": 3
   },
   "file_extension": ".py",
   "mimetype": "text/x-python",
   "name": "python",
   "nbconvert_exporter": "python",
   "pygments_lexer": "ipython3",
   "version": "3.12.6"
  }
 },
 "nbformat": 4,
 "nbformat_minor": 5
}
