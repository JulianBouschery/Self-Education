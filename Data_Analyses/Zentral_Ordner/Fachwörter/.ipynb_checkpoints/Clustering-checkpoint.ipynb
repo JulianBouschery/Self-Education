{
 "cells": [
  {
   "cell_type": "markdown",
   "id": "4ee47738-d6a5-4d18-b3d2-21dbf88fc452",
   "metadata": {},
   "source": [
    "# Clustering-Verfahren"
   ]
  },
  {
   "cell_type": "code",
   "execution_count": null,
   "id": "ed82208a-a5b7-4126-9025-72c24f01703b",
   "metadata": {},
   "outputs": [],
   "source": []
  }
 ],
 "metadata": {
  "kernelspec": {
   "display_name": "Python 3 (ipykernel)",
   "language": "python",
   "name": "python3"
  },
  "language_info": {
   "codemirror_mode": {
    "name": "ipython",
    "version": 3
   },
   "file_extension": ".py",
   "mimetype": "text/x-python",
   "name": "python",
   "nbconvert_exporter": "python",
   "pygments_lexer": "ipython3",
   "version": "3.12.6"
  }
 },
 "nbformat": 4,
 "nbformat_minor": 5
}
