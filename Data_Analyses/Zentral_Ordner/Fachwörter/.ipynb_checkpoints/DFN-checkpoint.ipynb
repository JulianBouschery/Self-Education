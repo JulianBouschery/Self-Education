{
 "cells": [
  {
   "cell_type": "markdown",
   "id": "59a264c5-a31e-473a-aed6-c5c32dad594e",
   "metadata": {},
   "source": [
    "# Deep Feedforward Networks"
   ]
  },
  {
   "cell_type": "markdown",
   "id": "4348d22f-2981-44bb-a0da-256e23592701",
   "metadata": {},
   "source": [
    "Ein **Deep Feedforward Network** (DFN) ist ein neuronales Netz, bei dem die Informationen nur in eine Richtung fließen – von den Eingabeschichten über die versteckten Schichten bis zur Ausgabeschicht. Es gibt keine Rückkopplungen oder Schleifen im Netzwerk. "
   ]
  },
  {
   "cell_type": "markdown",
   "id": "d1a6f379-30b3-47c5-8058-8170a228419a",
   "metadata": {},
   "source": [
    "### Hauptmerkmale:"
   ]
  },
  {
   "cell_type": "markdown",
   "id": "8347d1ca-33dc-4327-b3d7-8b0448c44c7d",
   "metadata": {},
   "source": [
    "1. **Schichten**: Es besteht aus mehreren Schichten (Input-, Hidden- und Output-Schichten). Tiefe Netzwerke haben viele versteckte Schichten, was sie \"deep\" macht.\n",
    "2. **Vorwärtsfluss**: Daten werden nur vorwärts durch das Netzwerk weitergegeben. Es gibt keine Rückkehr zu vorherigen Schichten.\n",
    "3. **Training**: Das Netzwerk wird durch [**Backpropagation**](Backpropagation.ipynb) trainiert, wobei die Fehler von der Ausgabeschicht rückwärts durch die Schichten fließen, um die Gewichte anzupassen.\n",
    "\n",
    "Deep Feedforward Networks eignen sich gut für Aufgaben wie Klassifikation, Regression und viele maschinelle Lernprobleme, bei denen man eine Abbildung von Eingaben zu Ausgaben benötigt."
   ]
  },
  {
   "cell_type": "code",
   "execution_count": null,
   "id": "bb7878ef-c7e6-4f71-8078-0db99677bd51",
   "metadata": {},
   "outputs": [],
   "source": []
  }
 ],
 "metadata": {
  "kernelspec": {
   "display_name": "Python 3 (ipykernel)",
   "language": "python",
   "name": "python3"
  },
  "language_info": {
   "codemirror_mode": {
    "name": "ipython",
    "version": 3
   },
   "file_extension": ".py",
   "mimetype": "text/x-python",
   "name": "python",
   "nbconvert_exporter": "python",
   "pygments_lexer": "ipython3",
   "version": "3.12.6"
  }
 },
 "nbformat": 4,
 "nbformat_minor": 5
}
