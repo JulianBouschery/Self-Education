{
 "cells": [
  {
   "cell_type": "markdown",
   "id": "18d23180-974b-4225-999a-fa5c2a857c22",
   "metadata": {},
   "source": [
    "# Fold"
   ]
  },
  {
   "cell_type": "markdown",
   "id": "431ef157-7428-4010-9b39-47a98449baf9",
   "metadata": {},
   "source": [
    "## Zusammenfassung"
   ]
  },
  {
   "cell_type": "markdown",
   "id": "3b2e1e12-afa2-43f6-a1ec-29225dbaac0b",
   "metadata": {},
   "source": [
    "In der **Datenanalyse** gibt es zwei Hauptverwendungen des Begriffs **Fold**, die sich auf **Cross-Validation** und auf **Faltungsoperationen** in rekursiven Algorithmen beziehen:"
   ]
  },
  {
   "cell_type": "markdown",
   "id": "2f69c3a3-1c8e-4a1b-b7ba-1443427b1e07",
   "metadata": {},
   "source": [
    "### 1. **Fold in Cross-Validation (K-Fold-Cross-Validation)**:"
   ]
  },
  {
   "cell_type": "markdown",
   "id": "0910ea23-190e-49d6-87b8-379066b50365",
   "metadata": {},
   "source": [
    "   - Hier steht **Fold** für einen Teil des Datensatzes, der in einer wiederholten Validierung verwendet wird. Bei der **K-Fold-Cross-Validation** wird der Datensatz in **K gleich große Teile** (Folds) aufgeteilt. Für jeden Durchlauf (Iteration) wird ein Fold als **Testdatensatz** verwendet, während die verbleibenden Folds als **Trainingsdatensatz** dienen. Dieser Prozess wird **K-Mal** wiederholt, sodass jeder Fold einmal als Testdaten dient. Dies hilft, die Leistung eines Modells robuster und unabhängiger von der spezifischen Verteilung der Daten zu bewerten.\n",
    "   \n",
    "   **Beispiel**: Bei einer 5-Fold-Cross-Validation wird der Datensatz in 5 Teile aufgeteilt, und das Modell wird 5 Mal trainiert und getestet, wobei jedes Mal ein anderer Teil als Testdatensatz verwendet wird."
   ]
  },
  {
   "cell_type": "markdown",
   "id": "3c79b4a4-2f69-41b0-bfeb-b703cad17ef1",
   "metadata": {},
   "source": [
    "### 2. **Fold in Faltungsoperationen (rekursive Algorithmen)**:"
   ]
  },
  {
   "cell_type": "markdown",
   "id": "e5296d3d-eff0-46d8-aadc-deb77b861b20",
   "metadata": {},
   "source": [
    "   - In der Informatik beschreibt **Fold** eine Methode, bei der eine Funktion wiederholt auf eine Datenstruktur wie eine Liste angewendet wird, um sie auf einen einzelnen Wert zu reduzieren. In der funktionalen Programmierung (z. B. mit Python’s `reduce`-Funktion) wird eine Faltungsoperation genutzt, um eine Liste zu durchlaufen und ihre Elemente schrittweise zu einem Ergebnis zu \"falten\", also zu kombinieren. Dies wird oft als **Reduktion** oder Aggregation bezeichnet.\n",
    "   \n",
    "   **Beispiel**: Mit `reduce()` kannst du die Summe oder das Produkt aller Werte in einer Liste durch wiederholtes Anwenden einer Funktion erhalten."
   ]
  },
  {
   "cell_type": "markdown",
   "id": "8c3f8824-8b90-4f2b-8828-7da691614fef",
   "metadata": {},
   "source": [
    "### **Unterscheidung**:"
   ]
  },
  {
   "cell_type": "markdown",
   "id": "03cba2fe-83d7-4b91-8304-d0b4ddb1da4b",
   "metadata": {},
   "source": [
    "   - In der **Cross-Validation** beschreibt **Fold** einen **Teil** eines Datensatzes, der iterativ für Training und Tests verwendet wird.\n",
    "   - In der **Faltungsoperation** steht **Fold** für das rekursive **Reduzieren** einer Liste oder eines anderen iterierbaren Objekts auf einen einzelnen Wert."
   ]
  },
  {
   "cell_type": "markdown",
   "id": "6498125e-dfc8-409c-b661-449d026bb7d7",
   "metadata": {},
   "source": [
    "## Detailierte Erklärung"
   ]
  },
  {
   "cell_type": "markdown",
   "id": "4c35df65-f066-4229-b3ae-6ca0d9373dc5",
   "metadata": {},
   "source": [
    "### Wie funktioniert Cross-Validation?"
   ]
  },
  {
   "cell_type": "markdown",
   "id": "25130550-60fb-47fb-94e2-2bb6b875009f",
   "metadata": {},
   "source": [
    "Cross-Validation, insbesondere **k-fold Cross-Validation**, teilt die Daten in \\(k\\) gleich große Teile, die **Folds** genannt werden. Das Ziel ist es, den gesamten Datensatz für das Training und Testen des Modells zu nutzen, wobei jeder Fold einmal als Testdaten verwendet wird, während die restlichen Folds als Trainingsdaten verwendet werden."
   ]
  },
  {
   "cell_type": "markdown",
   "id": "079eabb5-eb2e-4405-bc30-b08bf806fc5a",
   "metadata": {},
   "source": [
    "#### Schritte bei k-fold Cross-Validation:"
   ]
  },
  {
   "cell_type": "markdown",
   "id": "c952d502-0f79-4a0d-9300-42f29bf7945f",
   "metadata": {},
   "source": [
    "1. Der Datensatz wird in \\(k\\) Folds aufgeteilt.\n",
    "2. In jedem **Fold** wird ein Teil der Daten (z. B. 1/5 bei 5-fold) als Testdaten verwendet, während die übrigen \\(k-1\\) Teile als Trainingsdaten verwendet werden.\n",
    "3. Dieser Prozess wird \\(k\\) Mal wiederholt, wobei jedes Mal ein anderer Fold als Testset verwendet wird.\n",
    "4. Die Leistung wird in jedem Durchlauf gemessen und am Ende wird der Durchschnitt der \\(k\\) Ergebnisse berechnet."
   ]
  },
  {
   "cell_type": "markdown",
   "id": "5b14c737-4d08-4e20-a00e-554e7eb08b1f",
   "metadata": {},
   "source": [
    "### Beispiel für 5-fold Cross-Validation:"
   ]
  },
  {
   "cell_type": "markdown",
   "id": "1e223454-6e4a-4140-8138-fd5f3e572c10",
   "metadata": {},
   "source": [
    "- Der Datensatz wird in 5 Teile aufgeteilt: Fold 1, Fold 2, Fold 3, Fold 4, Fold 5.\n",
    "- In jedem Schritt wird ein anderer Fold für das Testen genutzt:\n",
    "  - 1. Durchlauf: Trainieren auf Fold 2, 3, 4, 5; Testen auf Fold 1.\n",
    "  - 2. Durchlauf: Trainieren auf Fold 1, 3, 4, 5; Testen auf Fold 2.\n",
    "  - usw."
   ]
  },
  {
   "cell_type": "markdown",
   "id": "ab5f39cb-7d74-44c2-a9ea-0e89322ba5d1",
   "metadata": {},
   "source": [
    "Der Vorteil ist, dass das Modell auf allen Daten getestet wird und nicht nur auf einer festen Testmenge. Dies gibt ein stabileres Ergebnis und minimiert das Risiko von Verzerrungen in der Performance-Messung."
   ]
  },
  {
   "cell_type": "markdown",
   "id": "273e406a-5b39-485d-b8bc-6dd98ed5f7ee",
   "metadata": {},
   "source": [
    "### Beispiel mit Code (k-fold Cross-Validation):"
   ]
  },
  {
   "cell_type": "markdown",
   "id": "79d13541-c17a-42fd-ad84-04debedba253",
   "metadata": {},
   "source": [
    "```python\n",
    "from sklearn.model_selection import KFold\n",
    "from sklearn.linear_model import LogisticRegression\n",
    "from sklearn.datasets import load_iris\n",
    "from sklearn.model_selection import cross_val_score\n",
    "\n",
    "# Beispiel-Datensatz laden\n",
    "data = load_iris()\n",
    "X, y = data.data, data.target\n",
    "\n",
    "# k-fold Cross-Validation einrichten\n",
    "kf = KFold(n_splits=5, shuffle=True, random_state=42)\n",
    "\n",
    "# Modell erstellen\n",
    "model = LogisticRegression()\n",
    "\n",
    "# Cross-Validation durchführen\n",
    "scores = cross_val_score(model, X, y, cv=kf)\n",
    "\n",
    "# Ergebnisse anzeigen\n",
    "print(\"Cross-Validation Scores: \", scores)\n",
    "print(\"Durchschnittlicher Score: \", scores.mean())\n",
    "```\n",
    "\n",
    "In diesem Beispiel wird der Iris-Datensatz mit 5-fold Cross-Validation trainiert und getestet. Die `cross_val_score`-Funktion führt automatisch die Faltung und Bewertung durch."
   ]
  },
  {
   "cell_type": "code",
   "execution_count": null,
   "id": "cf7d2b79-235d-4631-a041-55e2a245d575",
   "metadata": {},
   "outputs": [],
   "source": []
  }
 ],
 "metadata": {
  "kernelspec": {
   "display_name": "Python 3 (ipykernel)",
   "language": "python",
   "name": "python3"
  },
  "language_info": {
   "codemirror_mode": {
    "name": "ipython",
    "version": 3
   },
   "file_extension": ".py",
   "mimetype": "text/x-python",
   "name": "python",
   "nbconvert_exporter": "python",
   "pygments_lexer": "ipython3",
   "version": "3.12.6"
  }
 },
 "nbformat": 4,
 "nbformat_minor": 5
}
