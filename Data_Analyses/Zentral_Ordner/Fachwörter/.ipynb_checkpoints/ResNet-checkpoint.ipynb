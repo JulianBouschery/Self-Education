{
 "cells": [
  {
   "cell_type": "markdown",
   "id": "5c056667-edd7-472b-aa7f-8763d3f1b500",
   "metadata": {},
   "source": [
    "# ResNet-Architektur"
   ]
  },
  {
   "cell_type": "markdown",
   "id": "326ab8ed-0dcb-4aac-b92d-32bb178098fb",
   "metadata": {},
   "source": [
    "Die **ResNet-Architektur** (Residual Network) ist ein tiefes neuronales Netzwerk, das das **Vanishing Gradient Problem** löst, indem es sogenannte **Skip Connections** verwendet. Diese Verbindungen überspringen eine oder mehrere Schichten und erlauben es, die Eingaben direkt zu späteren Schichten weiterzuleiten. Dadurch wird das Netzwerk in die Lage versetzt, tiefere Modelle zu trainieren, da der Gradient direkt durchgeleitet wird."
   ]
  },
  {
   "cell_type": "markdown",
   "id": "15218491-f511-4350-a29b-424c8020b683",
   "metadata": {},
   "source": [
    "### Schlüsselidee:"
   ]
  },
  {
   "cell_type": "markdown",
   "id": "a5662a98-3895-4484-a80b-3213dcc47aff",
   "metadata": {},
   "source": [
    "ResNet lernt nicht die gesamte Abbildung, sondern die **Residuals** (Restfehler) – den Unterschied zwischen der Eingabe und der gewünschten Ausgabe. Dies erleichtert das Training tiefer Netzwerke (z.B. mit über 100 Schichten)."
   ]
  },
  {
   "cell_type": "markdown",
   "id": "4a35d9da-d31e-4392-9775-3a052ba96c4d",
   "metadata": {},
   "source": [
    "### Hauptmerkmale:"
   ]
  },
  {
   "cell_type": "markdown",
   "id": "aa3ba29f-baad-45bf-9a85-dab3be70c296",
   "metadata": {},
   "source": [
    "- **Skip Connections**: Umgehen von Schichten.\n",
    "- **Besseres Training tieferer Modelle**: Bis zu Hunderte von Schichten."
   ]
  },
  {
   "cell_type": "code",
   "execution_count": null,
   "id": "712be5c4-43ea-45e5-a701-da4080fe6144",
   "metadata": {},
   "outputs": [],
   "source": []
  }
 ],
 "metadata": {
  "kernelspec": {
   "display_name": "Python 3 (ipykernel)",
   "language": "python",
   "name": "python3"
  },
  "language_info": {
   "codemirror_mode": {
    "name": "ipython",
    "version": 3
   },
   "file_extension": ".py",
   "mimetype": "text/x-python",
   "name": "python",
   "nbconvert_exporter": "python",
   "pygments_lexer": "ipython3",
   "version": "3.12.6"
  }
 },
 "nbformat": 4,
 "nbformat_minor": 5
}
