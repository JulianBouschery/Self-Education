{
 "cells": [
  {
   "cell_type": "markdown",
   "id": "b05a3f2e-0d99-4149-b199-2d1a0f99f38f",
   "metadata": {},
   "source": [
    "# Konfidenzintervall "
   ]
  },
  {
   "cell_type": "code",
   "execution_count": null,
   "id": "cf9f4f15-f39e-4938-b1e0-86809145c8bb",
   "metadata": {},
   "outputs": [],
   "source": []
  }
 ],
 "metadata": {
  "kernelspec": {
   "display_name": "Python 3 (ipykernel)",
   "language": "python",
   "name": "python3"
  },
  "language_info": {
   "codemirror_mode": {
    "name": "ipython",
    "version": 3
   },
   "file_extension": ".py",
   "mimetype": "text/x-python",
   "name": "python",
   "nbconvert_exporter": "python",
   "pygments_lexer": "ipython3",
   "version": "3.12.6"
  }
 },
 "nbformat": 4,
 "nbformat_minor": 5
}
