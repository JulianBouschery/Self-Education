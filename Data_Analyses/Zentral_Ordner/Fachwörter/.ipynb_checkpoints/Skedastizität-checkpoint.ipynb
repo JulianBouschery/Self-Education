{
 "cells": [
  {
   "cell_type": "markdown",
   "id": "f5e3f6ba-32fc-49a1-86f9-14e5698f237a",
   "metadata": {},
   "source": [
    "# Homo- und Heteroskedastizität"
   ]
  },
  {
   "cell_type": "markdown",
   "id": "77d95533-e0d1-415d-bbc8-63608cf545f4",
   "metadata": {},
   "source": [
    "https://studyflix.de/statistik/heteroskedastizitat-2152"
   ]
  },
  {
   "cell_type": "markdown",
   "id": "67a73a52-20f5-414c-8461-e614a43aaaaa",
   "metadata": {},
   "source": [
    "![Homosk.](../Bilder/Homosk.png)"
   ]
  },
  {
   "cell_type": "markdown",
   "id": "2f490ad2-e795-4171-8d24-98ad5acbe934",
   "metadata": {},
   "source": [
    "![Heterosk.](../Bilder/Heterosk.png)"
   ]
  },
  {
   "cell_type": "markdown",
   "id": "f9ca88ee-6158-439b-a5a8-170a9bfad6f8",
   "metadata": {},
   "source": [
    "[Bild-Quelle](https://de.wikipedia.org/wiki/Homoskedastizit%C3%A4t_und_Heteroskedastizit%C3%A4t)"
   ]
  },
  {
   "cell_type": "code",
   "execution_count": null,
   "id": "35b5050e-af26-4629-9d0b-097f4aa26ed9",
   "metadata": {},
   "outputs": [],
   "source": []
  }
 ],
 "metadata": {
  "kernelspec": {
   "display_name": "Python 3 (ipykernel)",
   "language": "python",
   "name": "python3"
  },
  "language_info": {
   "codemirror_mode": {
    "name": "ipython",
    "version": 3
   },
   "file_extension": ".py",
   "mimetype": "text/x-python",
   "name": "python",
   "nbconvert_exporter": "python",
   "pygments_lexer": "ipython3",
   "version": "3.12.6"
  }
 },
 "nbformat": 4,
 "nbformat_minor": 5
}
