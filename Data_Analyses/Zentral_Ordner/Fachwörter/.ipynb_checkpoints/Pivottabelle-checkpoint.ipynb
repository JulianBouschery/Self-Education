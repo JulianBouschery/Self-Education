{
 "cells": [
  {
   "cell_type": "markdown",
   "id": "d82921f3-5867-4f4e-bacb-eb3b8e8090a9",
   "metadata": {},
   "source": [
    "# Pivot-Tabelle"
   ]
  },
  {
   "cell_type": "code",
   "execution_count": 1,
   "id": "67c086e9-0176-4153-bbb1-6a93771b6c37",
   "metadata": {},
   "outputs": [
    {
     "data": {
      "text/html": [
       "<div>\n",
       "<style scoped>\n",
       "    .dataframe tbody tr th:only-of-type {\n",
       "        vertical-align: middle;\n",
       "    }\n",
       "\n",
       "    .dataframe tbody tr th {\n",
       "        vertical-align: top;\n",
       "    }\n",
       "\n",
       "    .dataframe thead th {\n",
       "        text-align: right;\n",
       "    }\n",
       "</style>\n",
       "<table border=\"1\" class=\"dataframe\">\n",
       "  <thead>\n",
       "    <tr style=\"text-align: right;\">\n",
       "      <th></th>\n",
       "      <th>Name</th>\n",
       "      <th>Gehalt</th>\n",
       "    </tr>\n",
       "  </thead>\n",
       "  <tbody>\n",
       "    <tr>\n",
       "      <th>0</th>\n",
       "      <td>Alice</td>\n",
       "      <td>70000</td>\n",
       "    </tr>\n",
       "    <tr>\n",
       "      <th>1</th>\n",
       "      <td>Bob</td>\n",
       "      <td>120000</td>\n",
       "    </tr>\n",
       "    <tr>\n",
       "      <th>2</th>\n",
       "      <td>Charlie</td>\n",
       "      <td>90000</td>\n",
       "    </tr>\n",
       "    <tr>\n",
       "      <th>3</th>\n",
       "      <td>David</td>\n",
       "      <td>80000</td>\n",
       "    </tr>\n",
       "    <tr>\n",
       "      <th>4</th>\n",
       "      <td>Eva</td>\n",
       "      <td>60000</td>\n",
       "    </tr>\n",
       "  </tbody>\n",
       "</table>\n",
       "</div>"
      ],
      "text/plain": [
       "      Name  Gehalt\n",
       "0    Alice   70000\n",
       "1      Bob  120000\n",
       "2  Charlie   90000\n",
       "3    David   80000\n",
       "4      Eva   60000"
      ]
     },
     "execution_count": 1,
     "metadata": {},
     "output_type": "execute_result"
    }
   ],
   "source": [
    "import pandas as pd\n",
    "\n",
    "# Beispiel-Datensatz\n",
    "data = {'Name': ['Alice', 'Bob', 'Charlie', 'David', 'Eva'],\n",
    "        'Alter': [23, 35, 45, 28, 22],\n",
    "        'Gehalt': [70000, 120000, 90000, 80000, 60000],\n",
    "        'Abteilung': ['HR', 'IT', 'IT', 'Marketing', 'HR']}\n",
    "\n",
    "df = pd.DataFrame(data)\n",
    "\n",
    "# Subsetting: Nur bestimmte Spalten anzeigen\n",
    "df_subset = df[['Name', 'Gehalt']]\n",
    "df_subset"
   ]
  },
  {
   "cell_type": "markdown",
   "id": "56f196e8-42e2-4b29-9965-ab7d0b244af9",
   "metadata": {},
   "source": [
    "Eine Pivottabelle ist ein leistungsfähiges Werkzeug zur Datenanalyse und -zusammenfassung, das häufig in Tabellenkalkulationsprogrammen wie Excel oder in Bibliotheken wie Pandas verwendet wird. Mit einer Pivottabelle kann man große Datensätze strukturieren und verdichten, indem man die Daten nach verschiedenen Dimensionen gruppiert und aggregiert."
   ]
  },
  {
   "cell_type": "code",
   "execution_count": 2,
   "id": "591f16f1-0de7-43c2-85f9-11fd86f06b64",
   "metadata": {},
   "outputs": [
    {
     "data": {
      "text/html": [
       "<div>\n",
       "<style scoped>\n",
       "    .dataframe tbody tr th:only-of-type {\n",
       "        vertical-align: middle;\n",
       "    }\n",
       "\n",
       "    .dataframe tbody tr th {\n",
       "        vertical-align: top;\n",
       "    }\n",
       "\n",
       "    .dataframe thead th {\n",
       "        text-align: right;\n",
       "    }\n",
       "</style>\n",
       "<table border=\"1\" class=\"dataframe\">\n",
       "  <thead>\n",
       "    <tr style=\"text-align: right;\">\n",
       "      <th>Alter</th>\n",
       "      <th>22</th>\n",
       "      <th>23</th>\n",
       "      <th>28</th>\n",
       "      <th>35</th>\n",
       "      <th>45</th>\n",
       "    </tr>\n",
       "    <tr>\n",
       "      <th>Abteilung</th>\n",
       "      <th></th>\n",
       "      <th></th>\n",
       "      <th></th>\n",
       "      <th></th>\n",
       "      <th></th>\n",
       "    </tr>\n",
       "  </thead>\n",
       "  <tbody>\n",
       "    <tr>\n",
       "      <th>HR</th>\n",
       "      <td>60000.0</td>\n",
       "      <td>70000.0</td>\n",
       "      <td>NaN</td>\n",
       "      <td>NaN</td>\n",
       "      <td>NaN</td>\n",
       "    </tr>\n",
       "    <tr>\n",
       "      <th>IT</th>\n",
       "      <td>NaN</td>\n",
       "      <td>NaN</td>\n",
       "      <td>NaN</td>\n",
       "      <td>120000.0</td>\n",
       "      <td>90000.0</td>\n",
       "    </tr>\n",
       "    <tr>\n",
       "      <th>Marketing</th>\n",
       "      <td>NaN</td>\n",
       "      <td>NaN</td>\n",
       "      <td>80000.0</td>\n",
       "      <td>NaN</td>\n",
       "      <td>NaN</td>\n",
       "    </tr>\n",
       "  </tbody>\n",
       "</table>\n",
       "</div>"
      ],
      "text/plain": [
       "Alter           22       23       28        35       45\n",
       "Abteilung                                              \n",
       "HR         60000.0  70000.0      NaN       NaN      NaN\n",
       "IT             NaN      NaN      NaN  120000.0  90000.0\n",
       "Marketing      NaN      NaN  80000.0       NaN      NaN"
      ]
     },
     "execution_count": 2,
     "metadata": {},
     "output_type": "execute_result"
    }
   ],
   "source": [
    "# Pivot-Tabelle erstellen: Durchschnittsgehalt pro Abteilung und Alter\n",
    "\n",
    "\n",
    "#In diesem Beispiel würde die Pivottabelle das Durchschnittsgehalt für jede Kombination von Abteilung und Alter berechnen. \n",
    "#So kannst du auf einen Blick erkennen, wie sich das Gehalt nach Abteilungen und Altersgruppen aufteilt.\n",
    "\n",
    "pivot_table = df.pivot_table(values='Gehalt', index='Abteilung', columns='Alter', aggfunc='mean')\n",
    "pivot_table\n"
   ]
  }
 ],
 "metadata": {
  "kernelspec": {
   "display_name": "Python 3 (ipykernel)",
   "language": "python",
   "name": "python3"
  },
  "language_info": {
   "codemirror_mode": {
    "name": "ipython",
    "version": 3
   },
   "file_extension": ".py",
   "mimetype": "text/x-python",
   "name": "python",
   "nbconvert_exporter": "python",
   "pygments_lexer": "ipython3",
   "version": "3.12.6"
  }
 },
 "nbformat": 4,
 "nbformat_minor": 5
}
