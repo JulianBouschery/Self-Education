{
 "cells": [
  {
   "cell_type": "markdown",
   "id": "fd508e81-8b20-4564-ae64-42366a5fe114",
   "metadata": {},
   "source": [
    "# Last Observation Carried Forward (LOCF) / Next Observation Carried Backward (NOCB)"
   ]
  },
  {
   "cell_type": "markdown",
   "id": "3875cb49-4030-4c1d-a563-38145764da55",
   "metadata": {},
   "source": [
    "Für Zeitreihendaten besteht eine einfache Option darin, den zuletzt beobachteten Wert für fehlende Daten zu verwenden. In ähnlicher Weise könnten wir die erste Beobachtung nach dem fehlenden Wert verwenden, der als Next Observation Carried Backward (NOCB) bezeichnet wird. Diese Methoden sind zwar leicht zu kommunizieren und zu verstehen, berücksichtigen jedoch Schwankungen im Zeitverlauf möglicherweise nicht angemessen."
   ]
  },
  {
   "cell_type": "code",
   "execution_count": null,
   "id": "13f57045-00c5-4203-8634-79748bfa2891",
   "metadata": {},
   "outputs": [],
   "source": []
  },
  {
   "cell_type": "markdown",
   "id": "02f45aba-e60c-43c8-86e2-754266a459a0",
   "metadata": {},
   "source": [
    "Quelle: https://www.inwt-statistics.de/blog/fehlende-werte-verstehen-und-handhaben"
   ]
  }
 ],
 "metadata": {
  "kernelspec": {
   "display_name": "Python 3 (ipykernel)",
   "language": "python",
   "name": "python3"
  },
  "language_info": {
   "codemirror_mode": {
    "name": "ipython",
    "version": 3
   },
   "file_extension": ".py",
   "mimetype": "text/x-python",
   "name": "python",
   "nbconvert_exporter": "python",
   "pygments_lexer": "ipython3",
   "version": "3.12.6"
  }
 },
 "nbformat": 4,
 "nbformat_minor": 5
}
