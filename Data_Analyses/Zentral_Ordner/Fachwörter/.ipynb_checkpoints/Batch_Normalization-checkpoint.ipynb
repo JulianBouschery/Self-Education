{
 "cells": [
  {
   "cell_type": "markdown",
   "id": "7c8af618-9abe-4f06-8424-42c615264232",
   "metadata": {},
   "source": [
    "# Batch Normalization"
   ]
  },
  {
   "cell_type": "markdown",
   "id": "88401265-f84b-4399-bb4e-fd7d465c9ded",
   "metadata": {},
   "source": [
    "Batch Normalization (Chargen Normalisierung)"
   ]
  },
  {
   "cell_type": "code",
   "execution_count": null,
   "id": "c85d6ba4-cc4d-4201-92e2-74a10bdd6283",
   "metadata": {},
   "outputs": [],
   "source": []
  }
 ],
 "metadata": {
  "kernelspec": {
   "display_name": "Python 3 (ipykernel)",
   "language": "python",
   "name": "python3"
  },
  "language_info": {
   "codemirror_mode": {
    "name": "ipython",
    "version": 3
   },
   "file_extension": ".py",
   "mimetype": "text/x-python",
   "name": "python",
   "nbconvert_exporter": "python",
   "pygments_lexer": "ipython3",
   "version": "3.12.6"
  }
 },
 "nbformat": 4,
 "nbformat_minor": 5
}
