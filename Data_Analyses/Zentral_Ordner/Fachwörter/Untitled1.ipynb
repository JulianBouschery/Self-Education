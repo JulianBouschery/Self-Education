{
 "cells": [
  {
   "cell_type": "markdown",
   "id": "b926aebe-5549-4786-b2b8-bc40a86a1885",
   "metadata": {},
   "source": [
    "# Regressionsmodel"
   ]
  },
  {
   "cell_type": "code",
   "execution_count": null,
   "id": "84c91ba8-b48e-43c1-b84f-d72f64f2969f",
   "metadata": {},
   "outputs": [],
   "source": []
  }
 ],
 "metadata": {
  "kernelspec": {
   "display_name": "Python 3 (ipykernel)",
   "language": "python",
   "name": "python3"
  },
  "language_info": {
   "codemirror_mode": {
    "name": "ipython",
    "version": 3
   },
   "file_extension": ".py",
   "mimetype": "text/x-python",
   "name": "python",
   "nbconvert_exporter": "python",
   "pygments_lexer": "ipython3",
   "version": "3.12.6"
  }
 },
 "nbformat": 4,
 "nbformat_minor": 5
}
