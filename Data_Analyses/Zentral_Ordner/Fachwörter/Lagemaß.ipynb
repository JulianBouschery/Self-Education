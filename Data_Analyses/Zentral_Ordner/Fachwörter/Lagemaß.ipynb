{
 "cells": [
  {
   "cell_type": "markdown",
   "id": "06cb0084-f97e-4fec-aed1-a5374344ccf7",
   "metadata": {},
   "source": [
    "# Lageparameter / Lagemaß und zentrale Tendenz"
   ]
  },
  {
   "cell_type": "markdown",
   "id": "b7e83a24-0647-4482-b164-6d01699e13fd",
   "metadata": {},
   "source": [
    "In der Statistik gibt es verschiedene Lageparameter, die die Position eines Werts im Datensatz beschreiben. \n",
    "Dabei ist die zentrale Tendenz eine Besonderheit, weil es für sie je nach Anwendungsfall unterschiedliche Formeln gibt. Aber im Allgemeinen beschreibt sie den typischen oder mittleren Wert eines Datensatzes, der seine Verteilung um einen zentralen Punkt zusammenfasst."
   ]
  },
  {
   "cell_type": "markdown",
   "id": "025ebfcf-6dc1-4a67-b2af-c70930c25547",
   "metadata": {},
   "source": [
    "Zu den Lageparametern gehören:"
   ]
  },
  {
   "cell_type": "markdown",
   "id": "5c3bacbf-139f-4e5a-bd89-9b5d7502ff4d",
   "metadata": {},
   "source": [
    "### Minimum"
   ]
  },
  {
   "cell_type": "markdown",
   "id": "c78b43df-3d2e-4d95-9126-e1d60f088628",
   "metadata": {},
   "source": [
    "Der kleinste Wert in einem Datensatz."
   ]
  },
  {
   "cell_type": "markdown",
   "id": "c879e585-17fe-4740-a61e-2ecdebe2dbd4",
   "metadata": {},
   "source": [
    "### Maximum"
   ]
  },
  {
   "cell_type": "markdown",
   "id": "202acaa9-5dbf-4fd6-9da4-b81c8fd1c44b",
   "metadata": {},
   "source": [
    "Der größte Wert in einem Datensatz."
   ]
  },
  {
   "cell_type": "markdown",
   "id": "5b64488e-7ca4-44ba-a0f8-a3cd05001503",
   "metadata": {},
   "source": [
    "## Zentrale Tendenz"
   ]
  },
  {
   "cell_type": "markdown",
   "id": "33262809-aa9f-4ab7-87f7-e815d9e5304a",
   "metadata": {},
   "source": [
    "### Median"
   ]
  },
  {
   "cell_type": "markdown",
   "id": "178334ca-57cd-420f-ba4c-b12718914970",
   "metadata": {},
   "source": [
    "Der Wert, der in der Mitte eines geordneten Datensatzes steht. Bei einer geraden Anzahl von Werten wird der Durchschnitt der beiden mittleren Werte genommen."
   ]
  },
  {
   "cell_type": "markdown",
   "id": "aaf2f04e-956b-497e-be3b-9090e9f21b17",
   "metadata": {},
   "source": [
    "### Modus bzw. Multimordale Werte"
   ]
  },
  {
   "cell_type": "markdown",
   "id": "42b2f29b-52e8-4a37-8544-a3ebf5eeda16",
   "metadata": {},
   "source": [
    "Der Modus ist der am häufigsten vorkommende Wert in einem Datensatz. Gibt es mehrere Werte, die gleich hoch sind spricht man von Multimordalen Werten (mehrere häufigste Werte). (Siehe auch Gaußverteilung)"
   ]
  },
  {
   "cell_type": "markdown",
   "id": "5c7a835f-c95d-459d-8832-20ed0f2adecd",
   "metadata": {},
   "source": [
    "### Mittelwert"
   ]
  },
  {
   "cell_type": "markdown",
   "id": "c5af7d61-86d8-4c56-8101-50d205c42152",
   "metadata": {},
   "source": [
    "Mittelwert ist nicht gleich Mittelwert. Je nach Anwendungsbereich oder Fachgebiet kann man unter dem Begriff \"Mittelwert\" etwas anderes verstehen, aber uns interessiert für die Statistik nur das Arithmetische Mittel."
   ]
  },
  {
   "cell_type": "markdown",
   "id": "4717a1b5-089a-4405-bd12-5a62b1225f23",
   "metadata": {},
   "source": [
    "1. **Arithmetisches Mittel (Durchschnitt)**: \n",
    "   $$\n",
    "   \\bar{x} = \\frac{1}{n} \\sum_{i=1}^{n} x_i\n",
    "   $$\n",
    "   Der Durchschnitt aller Werte."
   ]
  },
  {
   "cell_type": "markdown",
   "id": "d3ac2808-d5b6-43dd-b7a8-5999d7dbaa02",
   "metadata": {
    "jp-MarkdownHeadingCollapsed": true
   },
   "source": [
    "### Rest der Ignoriert werden kann:"
   ]
  },
  {
   "cell_type": "markdown",
   "id": "9b9adfd0-417c-444d-be54-f1b2a81acb17",
   "metadata": {},
   "source": [
    "2. **Gewichtetes Mittel**: \n",
    "   Eine Variante des arithmetischen Mittels, bei dem bestimmte Werte mehr Einfluss haben:\n",
    "   $$\n",
    "   \\bar{x} = \\frac{\\sum_{i=1}^{n} w_i x_i}{\\sum_{i=1}^{n} w_i}\n",
    "   $$\n",
    "   Dabei sind $w_i$ die Gewichte.\n",
    "\n",
    "3. **Geometrisches Mittel**: \n",
    "   Ein Mittelwert, der eher für Wachstumsraten oder Verhältnisse verwendet wird:\n",
    "   $$\n",
    "   \\bar{x}_\\text{geo} = \\left(\\prod_{i=1}^{n} x_i\\right)^{\\frac{1}{n}}\n",
    "   $$\n",
    "\n",
    "4. **Harmonisches Mittel**: \n",
    "   Eine Alternative zum arithmetischen Mittel, das oft bei Verhältnissen angewendet wird:\n",
    "   $$\n",
    "   \\bar{x}_\\text{harm} = \\frac{n}{\\sum_{i=1}^{n} \\frac{1}{x_i}}\n",
    "   $$\n",
    "\n",
    "5. **Trimmed Mean (getrimmtes Mittel)**: \n",
    "   Ein Mittelwert, bei dem ein gewisser Prozentsatz der kleinsten und größten Werte entfernt wird, um Ausreißer zu minimieren."
   ]
  }
 ],
 "metadata": {
  "kernelspec": {
   "display_name": "Python 3 (ipykernel)",
   "language": "python",
   "name": "python3"
  },
  "language_info": {
   "codemirror_mode": {
    "name": "ipython",
    "version": 3
   },
   "file_extension": ".py",
   "mimetype": "text/x-python",
   "name": "python",
   "nbconvert_exporter": "python",
   "pygments_lexer": "ipython3",
   "version": "3.12.6"
  }
 },
 "nbformat": 4,
 "nbformat_minor": 5
}
