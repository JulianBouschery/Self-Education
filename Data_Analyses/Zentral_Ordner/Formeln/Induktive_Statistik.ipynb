{
 "cells": [
  {
   "cell_type": "markdown",
   "id": "37b7ce91-0920-451c-b745-b9cc4ca9a4bb",
   "metadata": {},
   "source": [
    "# Induktive Statistik"
   ]
  },
  {
   "cell_type": "markdown",
   "id": "1ef23792-7678-40d3-bad4-732c95d21ca7",
   "metadata": {},
   "source": [
    "Bei der **induktiven Statistik** geht es darum, aus Stichproben auf eine Grundgesamtheit zu schließen. Wichtige Methoden sind Hypothesentests, Konfidenzintervalle und Regressionsanalysen. Sie hilft, allgemeingültige Aussagen aus den gesammelten Daten zu treffen und Unsicherheiten zu quantifizieren."
   ]
  },
  {
   "cell_type": "markdown",
   "id": "91889b30-52b1-49f7-bd65-5e1a70ad85e5",
   "metadata": {},
   "source": [
    "### Formel für den Mittelwert"
   ]
  },
  {
   "cell_type": "markdown",
   "id": "8f7ec47b-dec1-4243-9a10-a458c3824a1a",
   "metadata": {},
   "source": [
    "$$\n",
    "\\hat{\\mu} = \\frac{1}{n} \\sum_{i=1}^n X_i\n",
    "$$"
   ]
  },
  {
   "cell_type": "markdown",
   "id": "5c88a7f8-0c56-4325-84b9-1a843f95822a",
   "metadata": {},
   "source": [
    "$\\hat{\\mu} = \\frac{1}{n} \\sum_{i=1}^n X_i$"
   ]
  },
  {
   "cell_type": "markdown",
   "id": "214bf096-8dfc-481d-8c2b-ea81dc895106",
   "metadata": {},
   "source": [
    "### Legende zur Formel:"
   ]
  },
  {
   "cell_type": "markdown",
   "id": "29d55415-7b56-40e6-9de3-2db488537643",
   "metadata": {},
   "source": [
    "$\\hat{\\mu}$: Schätzwert des Mittelwerts (arithmetisches Mittel) der Stichprobe\n",
    "\n",
    "$n$: Anzahl der Stichproben, d.h. die Gesamtzahl der Beobachtungen $(X_1, X_2, \\dots, X_n) $.\n",
    "\n",
    "$X_i$: Einzelne Beobachtung oder Stichprobenwert an Position $i$ für $( i = 1, 2, ..., n )$.\n",
    "\n",
    "$\\sum_{i=1}^n X_i$: Summe aller Beobachtungen $(X_1 + X_2 + \\dots + X_n)$.\n",
    "\n",
    "$\\frac{1}{n}$: Faktor zur Berechnung des Durchschnitts, der die Summe der Stichproben durch die Anzahl der Stichproben $n$ teilt.\n"
   ]
  },
  {
   "cell_type": "markdown",
   "id": "ee9d3c4c-6791-4fc0-b7e8-9683dcca5ed4",
   "metadata": {},
   "source": [
    "### Rechnung in Schritten"
   ]
  },
  {
   "cell_type": "code",
   "execution_count": 17,
   "id": "46c903e2-37e0-488a-b09d-02879900241a",
   "metadata": {},
   "outputs": [],
   "source": [
    "X = [4, 8, 6, 5, 3, 9, 7]"
   ]
  },
  {
   "cell_type": "code",
   "execution_count": 18,
   "id": "310ae6a7-f8c9-43fd-b179-6a033e18e15d",
   "metadata": {},
   "outputs": [],
   "source": [
    "n = len(X) # 7"
   ]
  },
  {
   "cell_type": "code",
   "execution_count": 19,
   "id": "c42844d5-9e3d-432c-a328-1a440fba2f52",
   "metadata": {},
   "outputs": [],
   "source": [
    "summe = sum(X) # 42"
   ]
  },
  {
   "cell_type": "code",
   "execution_count": 20,
   "id": "9c9335a3-a94d-479c-b4a7-f90bc6dc6941",
   "metadata": {},
   "outputs": [
    {
     "data": {
      "text/plain": [
       "6.0"
      ]
     },
     "execution_count": 20,
     "metadata": {},
     "output_type": "execute_result"
    }
   ],
   "source": [
    "value = 1/n*summe # 1 / 7 * 42\n",
    "value"
   ]
  },
  {
   "cell_type": "markdown",
   "id": "2c23267a-4269-43ee-a0f5-6153854eecbc",
   "metadata": {},
   "source": [
    "### Gegenrechnung"
   ]
  },
  {
   "cell_type": "code",
   "execution_count": 21,
   "id": "ebb07097-919f-4894-a416-60d353952fe0",
   "metadata": {},
   "outputs": [
    {
     "name": "stdout",
     "output_type": "stream",
     "text": [
      "6.0\n"
     ]
    }
   ],
   "source": [
    "import pandas as pd\n",
    "import numpy as np\n",
    "import matplotlib.pyplot as plt\n",
    "import seaborn as sns\n",
    "\n",
    "value = np.array(X).mean()\n",
    "print(value)"
   ]
  }
 ],
 "metadata": {
  "kernelspec": {
   "display_name": "Python 3 (ipykernel)",
   "language": "python",
   "name": "python3"
  },
  "language_info": {
   "codemirror_mode": {
    "name": "ipython",
    "version": 3
   },
   "file_extension": ".py",
   "mimetype": "text/x-python",
   "name": "python",
   "nbconvert_exporter": "python",
   "pygments_lexer": "ipython3",
   "version": "3.12.6"
  }
 },
 "nbformat": 4,
 "nbformat_minor": 5
}
