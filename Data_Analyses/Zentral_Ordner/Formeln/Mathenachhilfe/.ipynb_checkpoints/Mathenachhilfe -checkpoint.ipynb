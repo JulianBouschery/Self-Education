{
 "cells": [
  {
   "cell_type": "markdown",
   "id": "8d2d36dd-0ade-43b1-8665-8269cdf50102",
   "metadata": {},
   "source": [
    "Die Aufgabe der Statistik ist es, mit unvolständigen Daten trotzdem richtige Aussagen treffen zu können."
   ]
  },
  {
   "cell_type": "markdown",
   "id": "baf651cf-ee2d-47e7-bdf2-62adc9caea28",
   "metadata": {},
   "source": [
    "min, max, median, Summe Setze ich jetz einfach mal vorraus."
   ]
  },
  {
   "cell_type": "markdown",
   "id": "3edd96b6-6cd8-4be5-8163-0e842b594e1f",
   "metadata": {},
   "source": [
    "Buchstaben haben für Mathematiker eine Beduetung."
   ]
  },
  {
   "cell_type": "markdown",
   "id": "eb38e704-b9ec-4883-b637-104286f39884",
   "metadata": {},
   "source": [
    "$\\bar{x}$ = Mittelwert der Stichprobe"
   ]
  },
  {
   "cell_type": "markdown",
   "id": "b1db3057-f970-431e-aee3-db6bd058eb96",
   "metadata": {},
   "source": [
    "$\\mu$ = theoretischer Mittelwert / mittelwert der Grundgesamtheit (Population)"
   ]
  },
  {
   "cell_type": "markdown",
   "id": "bfe9250b-8118-48a0-9e75-f1a740f36cd3",
   "metadata": {},
   "source": []
  },
  {
   "cell_type": "markdown",
   "id": "8977e89d-1ad8-4322-af8c-eb804a8a4d45",
   "metadata": {},
   "source": [
    "median"
   ]
  },
  {
   "cell_type": "markdown",
   "id": "16055203-8ab9-4e88-9391-abc140b401da",
   "metadata": {},
   "source": [
    "Standardabweichung / varianz (Mathematisch ineienander überführbar)"
   ]
  },
  {
   "cell_type": "code",
   "execution_count": null,
   "id": "cfce50b8-07bd-4d86-8891-39d5e7a6e1e9",
   "metadata": {},
   "outputs": [],
   "source": [
    "Summe\n",
    "Spannweite"
   ]
  },
  {
   "cell_type": "markdown",
   "id": "382486af-f2c9-40a2-96e4-be11c7767bdc",
   "metadata": {},
   "source": [
    "### Die Schiefe"
   ]
  },
  {
   "cell_type": "markdown",
   "id": "2ee4dcb4-790b-42c5-8eec-7d0158272171",
   "metadata": {},
   "source": [
    "Eselsbrücke:\n",
    "\n",
    "Linksschiefe Verteilung --> Ich kann NACH LINKS Ski fahren (und überleben)"
   ]
  },
  {
   "cell_type": "markdown",
   "id": "63c30672-d32f-421d-9a53-f7711a007320",
   "metadata": {},
   "source": [
    "Die Schiefe kann man auch über die Anordnung von Mittelwert... feststellen."
   ]
  },
  {
   "cell_type": "markdown",
   "id": "661f1326-ad65-4781-96ef-9cdc1ef4a930",
   "metadata": {},
   "source": [
    "Diskrete vs. Kontinuierliche Daten"
   ]
  },
  {
   "cell_type": "markdown",
   "id": "f9da2c8f-d6be-4b9b-8fcc-22b709ffe991",
   "metadata": {},
   "source": [
    "Kovarianz = "
   ]
  },
  {
   "cell_type": "markdown",
   "id": "f94f624e-dd53-4da1-9e4a-e69a3c51a135",
   "metadata": {},
   "source": [
    "Korrelation = Zwei dienge Tauchen gleichzeitig auf Störche und Kinder gibt es beide im Frühling."
   ]
  },
  {
   "cell_type": "markdown",
   "id": "f26c2b39-d15a-4aa8-84ed-7fc58fc65b21",
   "metadata": {},
   "source": [
    "Kausalität = Zwei Dinge hängen vermutlich miteinander zusammen"
   ]
  },
  {
   "cell_type": "markdown",
   "id": "810f58f0-7f63-4f91-bdd1-dfc7664e917c",
   "metadata": {},
   "source": [
    "Kausaler zusammenhang = Wir haben bewisen, dass X Y verursacht."
   ]
  },
  {
   "cell_type": "markdown",
   "id": "a0d6e139-c2e4-485e-a393-0d25c63f6bab",
   "metadata": {},
   "source": [
    "Pearson Korrelationskoeffienz"
   ]
  },
  {
   "cell_type": "markdown",
   "id": "e37d0c3d-aecf-4253-8eb2-abf5845e8cf0",
   "metadata": {},
   "source": [
    "Die Formel für die **Kovarianz** zwischen zwei Zufallsvariablen \\(X\\) und \\(Y\\) lautet:\n",
    "\n",
    "$\n",
    "\\text{Cov}(X, Y) = \\frac{1}{n} \\sum_{i=1}^{n} (X_i - \\bar{X})(Y_i - \\bar{Y})\n",
    "$\n",
    "\n",
    "### Erklärung der Variablen:\n",
    "- \\( X_i \\) und \\( Y_i \\): Die einzelnen Datenpunkte von \\(X\\) und \\(Y\\)\n",
    "- \\( \\bar{X} \\) und \\( \\bar{Y} \\): Mittelwerte der Zufallsvariablen \\(X\\) und \\(Y\\)\n",
    "- \\(n\\): Anzahl der Datenpunkte\n",
    "\n",
    "Die Kovarianz misst die Richtung des linearen Zusammenhangs zwischen zwei Variablen. Positive Werte zeigen eine positive Korrelation, negative Werte eine negative Korrelation."
   ]
  },
  {
   "cell_type": "markdown",
   "id": "d48d2deb-e5e8-4d22-b63e-e472fbcac971",
   "metadata": {},
   "source": [
    "$\n",
    "\\text{Cov}(X, Y) = \\frac{1}{n} \\sum_{i=1}^{n} (X_i - \\bar{X})(Y_i - \\bar{Y})\n",
    "$\n"
   ]
  },
  {
   "cell_type": "code",
   "execution_count": 9,
   "id": "da411105-27fd-4d1b-ab4a-d9a9f08889a2",
   "metadata": {},
   "outputs": [
    {
     "name": "stdout",
     "output_type": "stream",
     "text": [
      "3.5\n",
      "4.5\n",
      "5.5\n",
      "6.5\n",
      "7.5\n"
     ]
    }
   ],
   "source": [
    "m = 1 # Steigung\n",
    "b = 2.5 # Y-Achsenabschnitt\n",
    "\n",
    "for x in range(1,6):\n",
    "    y = m * x + b\n",
    "    print(y)"
   ]
  },
  {
   "cell_type": "code",
   "execution_count": 11,
   "id": "779b0f5c-f429-492a-9250-7b8b5e7a1cfa",
   "metadata": {},
   "outputs": [
    {
     "data": {
      "image/png": "[encoded data removed]",
      "text/plain": [
       "<Figure size 800x600 with 1 Axes>"
      ]
     },
     "metadata": {},
     "output_type": "display_data"
    }
   ],
   "source": [
    "import matplotlib.pyplot as plt\n",
    "\n",
    "x = [1,2,3,4,5]\n",
    "y = [3.5, 4.5, 5.5, 6.5, 7.5]\n",
    "\n",
    "plt.figure(figsize=(8, 6))\n",
    "plt.plot(x, y, label='Gerade', color='blue')\n",
    "plt.show()"
   ]
  },
  {
   "cell_type": "code",
   "execution_count": null,
   "id": "e9da4dde-05c6-4bdf-9668-41a939b984e7",
   "metadata": {},
   "outputs": [],
   "source": []
  }
 ],
 "metadata": {
  "kernelspec": {
   "display_name": "Python 3 (ipykernel)",
   "language": "python",
   "name": "python3"
  },
  "language_info": {
   "codemirror_mode": {
    "name": "ipython",
    "version": 3
   },
   "file_extension": ".py",
   "mimetype": "text/x-python",
   "name": "python",
   "nbconvert_exporter": "python",
   "pygments_lexer": "ipython3",
   "version": "3.12.6"
  }
 },
 "nbformat": 4,
 "nbformat_minor": 5
}
