{
 "cells": [
  {
   "cell_type": "markdown",
   "id": "cde856f6-ba4c-4e07-97cc-99b16f0de64a",
   "metadata": {},
   "source": [
    "# Unterschied zwischen Bestimmtheitsmaß und Genauigkeit"
   ]
  },
  {
   "cell_type": "markdown",
   "id": "d3312d1e-faf3-4055-979a-4053736b5fbc",
   "metadata": {},
   "source": [
    "Das **Bestimmtheitsmaß $R^2$** ist nicht dasselbe wie die **Genauigkeit (Accuracy)**.\n",
    "\n",
    "### Unterschied:\n",
    "- **Bestimmtheitsmaß \\( R^2 \\)**: Misst, wie gut ein Regressionsmodell die Streuung der Zielvariablen erklären kann. Es wird in **Regressionsmodellen** verwendet, wo es darum geht, einen kontinuierlichen Wert vorherzusagen. \\( R^2 \\) gibt an, welcher Anteil der Varianz in den Daten durch das Modell erklärt wird. Ein \\( R^2 \\)-Wert von 1 bedeutet, dass das Modell perfekt passt, während ein Wert von 0 bedeutet, dass das Modell die Daten nicht besser erklärt als der Durchschnitt.\n",
    "\n",
    "- **Genauigkeit (Accuracy)**: Wird vor allem in **Klassifikationsmodellen** verwendet. Sie gibt den Anteil der richtig klassifizierten Datenpunkte an, d.h., wie viele Vorhersagen korrekt sind im Verhältnis zur Gesamtanzahl der Vorhersagen. Das gilt nur für Probleme, bei denen das Ziel darin besteht, eine Klasse (z.B. Ja/Nein, Katze/Hund) vorherzusagen.\n",
    "\n",
    "### Zusammenfassung:\n",
    "- **\\( R^2 \\)** bewertet, wie gut ein **Regressionsmodell** kontinuierliche Werte vorhersagt.\n",
    "- **Accuracy** bewertet, wie oft ein **Klassifikationsmodell** die richtige Kategorie vorhersagt."
   ]
  },
  {
   "cell_type": "code",
   "execution_count": null,
   "id": "bcfc2f97-114c-4cce-b6e6-524981930326",
   "metadata": {},
   "outputs": [],
   "source": []
  }
 ],
 "metadata": {
  "kernelspec": {
   "display_name": "Python 3 (ipykernel)",
   "language": "python",
   "name": "python3"
  },
  "language_info": {
   "codemirror_mode": {
    "name": "ipython",
    "version": 3
   },
   "file_extension": ".py",
   "mimetype": "text/x-python",
   "name": "python",
   "nbconvert_exporter": "python",
   "pygments_lexer": "ipython3",
   "version": "3.12.6"
  }
 },
 "nbformat": 4,
 "nbformat_minor": 5
}
