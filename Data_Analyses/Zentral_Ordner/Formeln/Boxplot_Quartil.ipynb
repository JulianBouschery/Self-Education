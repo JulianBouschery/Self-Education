{
 "cells": [
  {
   "cell_type": "markdown",
   "id": "dbde10f3-ae42-4f7e-912b-0ecb0c752e30",
   "metadata": {},
   "source": [
    "# Boxplot und Quartil"
   ]
  },
  {
   "cell_type": "markdown",
   "id": "eff42fbe-e384-49f9-a09e-60e367209654",
   "metadata": {},
   "source": [
    "https://studyflix.de/statistik/boxplot-1044"
   ]
  },
  {
   "cell_type": "markdown",
   "id": "4bf20019-c627-40ee-bc22-f628c747f2ec",
   "metadata": {},
   "source": [
    "Ein **Boxplot** ist eine grafische Darstellung, die die Verteilung einer Datenmenge anhand von fünf Kennzahlen zeigt: \n",
    "\n",
    "1. Minimum\n",
    "2. Maximum\n",
    "3. Median (50. Perzentil)\n",
    "4. Das untere (25. Perzentil)\n",
    "5. Das obere Quartil (75. Perzentil).\n",
    "\n",
    "Die **Quartile** unterteilen die Daten in vier gleich große Teile, wobei das erste Quartil (Q1) das untere 25%, der Median (Q2) die mittleren 50% und das dritte Quartil (Q3) die oberen 75% darstellt. Boxplots zeigen auch mögliche Ausreißer durch Punkte, die außerhalb der \"Whiskers\" liegen (den Linien, die die Extreme anzeigen)."
   ]
  },
  {
   "cell_type": "markdown",
   "id": "a6f79b63-4f83-49b1-b492-e990a469d448",
   "metadata": {},
   "source": [
    "Die **Whiskers** in einem **Boxplot** zeigen den Bereich der Daten außerhalb der Quartile, jedoch ohne Ausreißer. Sie enden an den letzten Datenpunkten, die noch innerhalb eines bestimmten Abstands von den Quartilen liegen. Dieser Abstand wird durch die sogenannte **Interquartilsdifferenz (IQR)** bestimmt.\n",
    "\n",
    "**Berechnung der Whiskers:**\n",
    "\n",
    "1. **IQR (Interquartilsabstand)**: Das ist die Differenz zwischen dem oberen (Q3) und dem unteren Quartil (Q1).\n",
    "\n",
    "   $\\text{IQR} = Q3 - Q1$\n",
    "\n",
    "3. **Untere Whisker**: Das ist der größte Wert, der noch innerhalb von 1,5 IQR unterhalb des unteren Quartils liegt.\n",
    "\n",
    "   $\\text{Untere Whisker} = Q1 - 1{,}5 \\times \\text{IQR}$\n",
    "\n",
    "5. **Obere Whisker**: Das ist der kleinste Wert, der noch innerhalb von 1,5 IQR oberhalb des oberen Quartils liegt.\n",
    "    \n",
    "   $\\text{Obere Whisker} = Q3 + 1{,}5 \\times \\text{IQR}$\n",
    "\n",
    "Datenpunkte, die außerhalb dieser Whiskers liegen, werden als **Ausreißer** markiert und oft als einzelne Punkte im Boxplot angezeigt."
   ]
  },
  {
   "cell_type": "code",
   "execution_count": 19,
   "id": "84e3c16b-4570-4b9d-8a53-ff5767d4338a",
   "metadata": {},
   "outputs": [
    {
     "data": {
      "image/png": "[encoded data removed]",
      "text/plain": [
       "<Figure size 800x600 with 1 Axes>"
      ]
     },
     "metadata": {},
     "output_type": "display_data"
    },
    {
     "name": "stdout",
     "output_type": "stream",
     "text": [
      "0    8.833333\n",
      "dtype: float64\n",
      "0    5.288638\n",
      "dtype: float64\n"
     ]
    }
   ],
   "source": [
    "import numpy as np\n",
    "import pandas as pd\n",
    "import matplotlib.pyplot as plt\n",
    "\n",
    "# Beispiel-Daten generieren\n",
    "data = [2,4,4,6,7,8,9,9,10,12,13,22]  \n",
    "# Normalverteilte Daten (Mittelwert=5, Std=28.22897)\n",
    "\n",
    "df = pd.DataFrame(data)\n",
    "\n",
    "# Boxplot erstellen\n",
    "plt.figure(figsize=(8, 6))\n",
    "plt.boxplot(data, vert=True)\n",
    "\n",
    "# Achsen beschriften und Titel hinzufügen\n",
    "plt.title('Beispiel eines Boxplots', fontsize=14)\n",
    "plt.xlabel('Werte')\n",
    "plt.ylabel('Daten')\n",
    "\n",
    "\n",
    "# Diagramm anzeigen\n",
    "plt.show()\n",
    "\n",
    "mean = df.mean()\n",
    "print(mean)\n",
    "\n",
    "std = df.std()\n",
    "print(std)"
   ]
  },
  {
   "cell_type": "markdown",
   "id": "71a2f90e-9a5c-4c0d-8e56-4b5acf83278b",
   "metadata": {},
   "source": [
    "Also zusammenfassend:\n",
    "\n",
    "- Die einzelnen Quartile sind immer Gleich groß.\n",
    "- Der Abstand vom Interquartilsabstand (IQR) zum Whisker betraägt das 1.5 fache des IQR."
   ]
  },
  {
   "cell_type": "markdown",
   "id": "98913dd4-9bdc-477e-810c-818f53902fd0",
   "metadata": {},
   "source": [
    "## Rechnung in Schritten"
   ]
  },
  {
   "cell_type": "code",
   "execution_count": 16,
   "id": "aa845b3c-45ba-4a8c-aa0a-16de71d74354",
   "metadata": {},
   "outputs": [
    {
     "name": "stdout",
     "output_type": "stream",
     "text": [
      "Q1: 4.0, Median (Q2): 7.0, Q3: 9.0\n",
      "IQR = 5.0\n",
      "-3.5\n"
     ]
    },
    {
     "data": {
      "text/plain": [
       "np.float64(7.5)"
      ]
     },
     "execution_count": 16,
     "metadata": {},
     "output_type": "execute_result"
    }
   ],
   "source": [
    "import numpy as np\n",
    "\n",
    "# Beispiel-Daten\n",
    "data = [0,0,4,4,6,7,8,9,9,13,17]\n",
    "\n",
    "# Quartile berechnen\n",
    "Q1 = np.percentile(data, 25)  # 1. Quartil (25%)\n",
    "Q2 = np.percentile(data, 50)  # 2. Quartil (Median, 50%)\n",
    "Q3 = np.percentile(data, 75)  # 3. Quartil (75%)\n",
    "\n",
    "print(f\"Q1: {Q1}, Median (Q2): {Q2}, Q3: {Q3}\")\n",
    "\n",
    "IQR = Q3 - Q1\n",
    "print(f\"IQR = {IQR}\")\n",
    "\n",
    "W1 = Q1 - (1.5*IQR)\n",
    "print(W1)\n",
    "\n",
    "IQR*1.5"
   ]
  },
  {
   "cell_type": "code",
   "execution_count": null,
   "id": "a1f4d2cf-ddc3-4e4d-9ab9-e542c1660f11",
   "metadata": {},
   "outputs": [],
   "source": []
  }
 ],
 "metadata": {
  "kernelspec": {
   "display_name": "Python 3 (ipykernel)",
   "language": "python",
   "name": "python3"
  },
  "language_info": {
   "codemirror_mode": {
    "name": "ipython",
    "version": 3
   },
   "file_extension": ".py",
   "mimetype": "text/x-python",
   "name": "python",
   "nbconvert_exporter": "python",
   "pygments_lexer": "ipython3",
   "version": "3.12.6"
  }
 },
 "nbformat": 4,
 "nbformat_minor": 5
}
