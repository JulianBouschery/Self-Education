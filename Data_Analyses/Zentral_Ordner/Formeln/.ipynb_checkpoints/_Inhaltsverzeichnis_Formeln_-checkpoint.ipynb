{
 "cells": [
  {
   "cell_type": "markdown",
   "id": "d7f6d1af-ae1c-4926-9c7a-93d98cb1541c",
   "metadata": {},
   "source": [
    "# Inhaltsverzeichnis der Formeln"
   ]
  },
  {
   "cell_type": "markdown",
   "id": "c033dd15-7b27-4554-9076-b80cf88da80c",
   "metadata": {},
   "source": [
    "[Boxplot und Quartile](Boxplot_Quartil.ipynb)"
   ]
  },
  {
   "cell_type": "code",
   "execution_count": null,
   "id": "ab209cd7-da54-4453-b79c-0b4299729124",
   "metadata": {},
   "outputs": [],
   "source": []
  }
 ],
 "metadata": {
  "kernelspec": {
   "display_name": "Python 3 (ipykernel)",
   "language": "python",
   "name": "python3"
  },
  "language_info": {
   "codemirror_mode": {
    "name": "ipython",
    "version": 3
   },
   "file_extension": ".py",
   "mimetype": "text/x-python",
   "name": "python",
   "nbconvert_exporter": "python",
   "pygments_lexer": "ipython3",
   "version": "3.12.6"
  }
 },
 "nbformat": 4,
 "nbformat_minor": 5
}
