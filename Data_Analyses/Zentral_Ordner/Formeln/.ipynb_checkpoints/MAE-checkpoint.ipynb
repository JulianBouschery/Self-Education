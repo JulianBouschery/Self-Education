{
 "cells": [
  {
   "cell_type": "markdown",
   "id": "60692c8c-da58-44ab-a491-a86950f593a7",
   "metadata": {},
   "source": [
    "Der **Mean Absolute Error (MAE)** ist ein Maß zur Bewertung der Genauigkeit eines Vorhersagemodells, insbesondere in der Regressionsanalyse. Er gibt den durchschnittlichen Betrag der Abweichung zwischen den vorhergesagten Werten und den tatsächlichen Werten an, wobei alle Fehler (Abweichungen) als positive Beträge (absolute Werte) betrachtet werden.\n",
    "\n",
    "### Formel für den MAE:\n",
    "\\[\n",
    "\\text{MAE} = \\frac{1}{n} \\sum_{i=1}^{n} \\left| y_i - \\hat{y}_i \\right|\n",
    "\\]\n",
    "\n",
    "### Erklärung der Formel:\n",
    "- \\(n\\) ist die Anzahl der Datenpunkte.\n",
    "- \\(y_i\\) ist der tatsächliche Wert für den \\(i\\)-ten Datenpunkt.\n",
    "- \\(\\hat{y}_i\\) ist der vorhergesagte Wert für den \\(i\\)-ten Datenpunkt.\n",
    "- \\(\\left| y_i - \\hat{y}_i \\right|\\) ist der **absolute Fehler** für den \\(i\\)-ten Datenpunkt, d.h., der Betrag der Differenz zwischen dem tatsächlichen und dem vorhergesagten Wert.\n",
    "\n",
    "### Eigenschaften:\n",
    "- Der MAE ist einfach zu interpretieren: Er gibt die durchschnittliche Abweichung in den Einheiten der vorhergesagten Größe an.\n",
    "- Da der MAE den absoluten Betrag der Fehler verwendet, werden alle Fehler gleich gewichtet, unabhängig davon, ob die Abweichung positiv oder negativ ist.\n",
    "\n",
    "### Beispiel:\n",
    "Wenn du ein Modell hast, das das Gewicht von Personen vorhersagt, und der MAE beträgt 2 kg, bedeutet das, dass die durchschnittliche Abweichung zwischen den vorhergesagten und tatsächlichen Werten 2 kg beträgt."
   ]
  },
  {
   "cell_type": "code",
   "execution_count": null,
   "id": "13db17ea-8bfa-41d6-b7f2-134431de3737",
   "metadata": {},
   "outputs": [],
   "source": []
  }
 ],
 "metadata": {
  "kernelspec": {
   "display_name": "Python 3 (ipykernel)",
   "language": "python",
   "name": "python3"
  },
  "language_info": {
   "codemirror_mode": {
    "name": "ipython",
    "version": 3
   },
   "file_extension": ".py",
   "mimetype": "text/x-python",
   "name": "python",
   "nbconvert_exporter": "python",
   "pygments_lexer": "ipython3",
   "version": "3.12.6"
  }
 },
 "nbformat": 4,
 "nbformat_minor": 5
}
