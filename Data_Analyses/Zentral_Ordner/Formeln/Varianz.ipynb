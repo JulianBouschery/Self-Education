{
 "cells": [
  {
   "cell_type": "markdown",
   "id": "31f78a4c-932b-40d3-a3ac-2967aaf795e4",
   "metadata": {},
   "source": [
    "# Varianz"
   ]
  },
  {
   "cell_type": "markdown",
   "id": "c5aca59b-a102-442d-92ba-ff368f5edf2f",
   "metadata": {},
   "source": [
    "Die Varianz ist ein Maß für die Streuung von Werten."
   ]
  },
  {
   "cell_type": "markdown",
   "id": "8b614735-63aa-461e-8338-b355f9a75630",
   "metadata": {},
   "source": [
    "[Tutorial](https://datatab.de/tutorial/standardabweichung-varianz-spannweite)"
   ]
  },
  {
   "cell_type": "markdown",
   "id": "3cc3c477-9601-4510-9b3f-16cf28ffd5c5",
   "metadata": {},
   "source": [
    "Die Formel für die **Varianz** \\( \\sigma^2 \\) einer Stichprobe ist:\n",
    "\n",
    "$$\n",
    "\\sigma^2 = \\frac{1}{n} \\sum_{i=1}^{n} (x_i - \\mu)^2\n",
    "$$\n",
    "\n",
    "Dabei ist:\n",
    "\n",
    "- $ n $ die Anzahl der Datenpunkte,\n",
    "- $ x_i $ der \\(i\\)-te Datenpunkt,\n",
    "- $ \\mu $ der Mittelwert der Daten. \n",
    "\n",
    "Für eine Stichprobenvarianz (statt der gesamten Population) wird häufig \\( \\frac{1}{n-1} \\) verwendet."
   ]
  },
  {
   "cell_type": "code",
   "execution_count": null,
   "id": "8088eea7-96f7-46c0-98c5-c4b2ffdfa8c7",
   "metadata": {},
   "outputs": [],
   "source": []
  }
 ],
 "metadata": {
  "kernelspec": {
   "display_name": "Python 3 (ipykernel)",
   "language": "python",
   "name": "python3"
  },
  "language_info": {
   "codemirror_mode": {
    "name": "ipython",
    "version": 3
   },
   "file_extension": ".py",
   "mimetype": "text/x-python",
   "name": "python",
   "nbconvert_exporter": "python",
   "pygments_lexer": "ipython3",
   "version": "3.12.6"
  }
 },
 "nbformat": 4,
 "nbformat_minor": 5
}
