{
 "cells": [
  {
   "cell_type": "markdown",
   "id": "8e41e3cb-674d-4646-8e7f-39df2a6c1e67",
   "metadata": {},
   "source": [
    "Siehe auch: [pd.DataFrame()](pd.DataFrame.ipynb)"
   ]
  },
  {
   "cell_type": "markdown",
   "id": "d0c108d3-4e01-497a-b200-d19e0618b761",
   "metadata": {},
   "source": [
    "# pd.Series()"
   ]
  },
  {
   "cell_type": "markdown",
   "id": "e4b66ba5-7b3a-4547-9d9f-75ecd74d1094",
   "metadata": {},
   "source": [
    "## Was ist eine Series?"
   ]
  },
  {
   "cell_type": "markdown",
   "id": "7b973741-ae06-4d87-abb9-1cb5ee632e59",
   "metadata": {},
   "source": [
    "Eine **Series** in Pandas ist eine eindimensionale Datenstruktur, ähnlich einem Array oder einer Liste. Sie enthält eine Liste von Datenwerten, die durch einen Index gekennzeichnet sind."
   ]
  },
  {
   "cell_type": "code",
   "execution_count": 5,
   "id": "d4aa8066-4488-4bd6-a9f3-790fdee4bf07",
   "metadata": {},
   "outputs": [],
   "source": [
    "import numpy as np\n",
    "import pandas as pd\n",
    "\n",
    "# pd.Series?"
   ]
  },
  {
   "cell_type": "markdown",
   "id": "881bb794-d151-4371-81db-993bca608236",
   "metadata": {},
   "source": [
    "### Beispiel: Eine einfache Series "
   ]
  },
  {
   "cell_type": "code",
   "execution_count": 1,
   "id": "491f5bf6-3fbf-413c-bdf7-3aea33d7c096",
   "metadata": {},
   "outputs": [
    {
     "data": {
      "text/plain": [
       "a    10\n",
       "b    20\n",
       "c    30\n",
       "d    40\n",
       "dtype: int64"
      ]
     },
     "execution_count": 1,
     "metadata": {},
     "output_type": "execute_result"
    }
   ],
   "source": [
    "import numpy as np\n",
    "import pandas as pd\n",
    "\n",
    "# Erstelle eine Series\n",
    "series = pd.Series([10, 20, 30, 40], index=['a', 'b', 'c', 'd'])\n",
    "series"
   ]
  },
  {
   "cell_type": "markdown",
   "id": "6b6cb780-226f-419a-a109-773762fb9248",
   "metadata": {},
   "source": [
    "oder"
   ]
  },
  {
   "cell_type": "code",
   "execution_count": 4,
   "id": "f7d3a51b-3d0f-43ac-99ce-7966db8aafe1",
   "metadata": {},
   "outputs": [
    {
     "data": {
      "text/plain": [
       "a    10\n",
       "b    20\n",
       "c    30\n",
       "d    40\n",
       "dtype: int64"
      ]
     },
     "execution_count": 4,
     "metadata": {},
     "output_type": "execute_result"
    }
   ],
   "source": [
    "import numpy as np\n",
    "import pandas as pd\n",
    "\n",
    "liste = [10, 20, 30, 40]\n",
    "\n",
    "# Erstelle eine Series\n",
    "series = pd.Series(liste, index=['a', 'b', 'c', 'd'])\n",
    "series"
   ]
  },
  {
   "cell_type": "code",
   "execution_count": null,
   "id": "d9ae254d-66ee-4fc9-b552-c88af3bf3080",
   "metadata": {},
   "outputs": [],
   "source": []
  }
 ],
 "metadata": {
  "kernelspec": {
   "display_name": "Python 3 (ipykernel)",
   "language": "python",
   "name": "python3"
  },
  "language_info": {
   "codemirror_mode": {
    "name": "ipython",
    "version": 3
   },
   "file_extension": ".py",
   "mimetype": "text/x-python",
   "name": "python",
   "nbconvert_exporter": "python",
   "pygments_lexer": "ipython3",
   "version": "3.12.6"
  }
 },
 "nbformat": 4,
 "nbformat_minor": 5
}
