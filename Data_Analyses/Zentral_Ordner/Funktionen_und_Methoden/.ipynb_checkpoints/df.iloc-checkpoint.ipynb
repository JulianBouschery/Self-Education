{
 "cells": [
  {
   "cell_type": "markdown",
   "id": "280b7e4f-6fb4-4fe2-a6f5-5585ca71a493",
   "metadata": {},
   "source": [
    "Siehe auch: [df.loc()](df.loc.ipynb)"
   ]
  },
  {
   "cell_type": "markdown",
   "id": "f31cbe74-cf06-4747-8545-de5069ead614",
   "metadata": {},
   "source": [
    "# df.iloc()"
   ]
  },
  {
   "cell_type": "markdown",
   "id": "30fac88e-698a-48b2-8ddf-6009e7ff4499",
   "metadata": {},
   "source": [
    "Pandas bietet leistungsstarke Indexierungsmethoden wie **.iloc** (integer-basiert) und **.loc** (label-basiert), um Daten präzise abzurufen.\n",
    "\n",
    "### Verwenden von .iloc"
   ]
  },
  {
   "cell_type": "markdown",
   "id": "82271b5e-4c7e-43a4-952b-4e7072f8640f",
   "metadata": {},
   "source": [
    "- `.iloc[]` wird verwendet, um Daten anhand ihrer numerischen Position abzurufen.\n",
    "- Syntax: `DataFrame.iloc[Zeilenindex, Spaltenindex]`"
   ]
  },
  {
   "cell_type": "markdown",
   "id": "253d2a98-314f-446b-acb5-cae13e96760e",
   "metadata": {},
   "source": [
    "### Beispiel: Verwende .iloc, um bestimmte Daten abzurufen"
   ]
  },
  {
   "cell_type": "code",
   "execution_count": 6,
   "id": "b1e0fc84-595c-4207-8e3b-200e225d0753",
   "metadata": {},
   "outputs": [
    {
     "data": {
      "text/plain": [
       "np.int64(23)"
      ]
     },
     "execution_count": 6,
     "metadata": {},
     "output_type": "execute_result"
    }
   ],
   "source": [
    "import numpy as np\n",
    "import pandas as pd\n",
    "\n",
    "# Erstelle einen DataFrame\n",
    "data = {'Name': ['Anna', 'Ben', 'Chris'],\n",
    "        'Alter': [23, 30, 35], \n",
    "        'Stadt': ['Berlin', 'Hamburg', 'München']\n",
    "       }\n",
    "\n",
    "df = pd.DataFrame(data)\n",
    "df\n",
    "\n",
    "# Verwende .iloc, um den Wert der ersten Zeile, zweiten Spalte zu erhalten\n",
    "df.iloc[0, 1]  # Alter von Anna\n"
   ]
  },
  {
   "cell_type": "markdown",
   "id": "f978edf3-d3d1-49ff-a2a4-ee566161ff21",
   "metadata": {},
   "source": [
    "## Daten lokalisieren und manipulieren"
   ]
  },
  {
   "cell_type": "markdown",
   "id": "39dd0e3b-9db3-4540-be72-c8eaffc08f01",
   "metadata": {},
   "source": [
    "Mit `.iloc` und `.loc` kannst du Daten präzise lokalisieren, abrufen und manipulieren."
   ]
  },
  {
   "cell_type": "markdown",
   "id": "bd56d5f6-b97f-4176-add1-b2f5d3f21a6a",
   "metadata": {},
   "source": [
    "### Beispiel: Ändere den Wert einer bestimmten Zelle"
   ]
  },
  {
   "cell_type": "code",
   "execution_count": 8,
   "id": "539d6cd0-a4f3-4d3f-a67d-6bf16b5fb052",
   "metadata": {},
   "outputs": [
    {
     "data": {
      "text/html": [
       "<div>\n",
       "<style scoped>\n",
       "    .dataframe tbody tr th:only-of-type {\n",
       "        vertical-align: middle;\n",
       "    }\n",
       "\n",
       "    .dataframe tbody tr th {\n",
       "        vertical-align: top;\n",
       "    }\n",
       "\n",
       "    .dataframe thead th {\n",
       "        text-align: right;\n",
       "    }\n",
       "</style>\n",
       "<table border=\"1\" class=\"dataframe\">\n",
       "  <thead>\n",
       "    <tr style=\"text-align: right;\">\n",
       "      <th></th>\n",
       "      <th>Name</th>\n",
       "      <th>Alter</th>\n",
       "      <th>Stadt</th>\n",
       "    </tr>\n",
       "  </thead>\n",
       "  <tbody>\n",
       "    <tr>\n",
       "      <th>0</th>\n",
       "      <td>Anna</td>\n",
       "      <td>31</td>\n",
       "      <td>Berlin</td>\n",
       "    </tr>\n",
       "    <tr>\n",
       "      <th>1</th>\n",
       "      <td>Ben</td>\n",
       "      <td>30</td>\n",
       "      <td>Hamburg</td>\n",
       "    </tr>\n",
       "    <tr>\n",
       "      <th>2</th>\n",
       "      <td>Chris</td>\n",
       "      <td>35</td>\n",
       "      <td>München</td>\n",
       "    </tr>\n",
       "  </tbody>\n",
       "</table>\n",
       "</div>"
      ],
      "text/plain": [
       "    Name  Alter    Stadt\n",
       "0   Anna     31   Berlin\n",
       "1    Ben     30  Hamburg\n",
       "2  Chris     35  München"
      ]
     },
     "execution_count": 8,
     "metadata": {},
     "output_type": "execute_result"
    }
   ],
   "source": [
    "# Ändere das Alter von Anna auf 31\n",
    "df.iloc[0, 1] = 31\n",
    "df"
   ]
  },
  {
   "cell_type": "code",
   "execution_count": 10,
   "id": "277bb6ac-41a4-43bf-b34a-d705eab1dc7a",
   "metadata": {
    "scrolled": true
   },
   "outputs": [
    {
     "data": {
      "text/html": [
       "<div>\n",
       "<style scoped>\n",
       "    .dataframe tbody tr th:only-of-type {\n",
       "        vertical-align: middle;\n",
       "    }\n",
       "\n",
       "    .dataframe tbody tr th {\n",
       "        vertical-align: top;\n",
       "    }\n",
       "\n",
       "    .dataframe thead th {\n",
       "        text-align: right;\n",
       "    }\n",
       "</style>\n",
       "<table border=\"1\" class=\"dataframe\">\n",
       "  <thead>\n",
       "    <tr style=\"text-align: right;\">\n",
       "      <th></th>\n",
       "      <th>Name</th>\n",
       "      <th>Alter</th>\n",
       "      <th>Stadt</th>\n",
       "    </tr>\n",
       "  </thead>\n",
       "  <tbody>\n",
       "    <tr>\n",
       "      <th>0</th>\n",
       "      <td>Anna</td>\n",
       "      <td>31</td>\n",
       "      <td>Berlin</td>\n",
       "    </tr>\n",
       "    <tr>\n",
       "      <th>1</th>\n",
       "      <td>Ben</td>\n",
       "      <td>30</td>\n",
       "      <td>Hamburg</td>\n",
       "    </tr>\n",
       "    <tr>\n",
       "      <th>2</th>\n",
       "      <td>Chris</td>\n",
       "      <td>35</td>\n",
       "      <td>Nürnberg</td>\n",
       "    </tr>\n",
       "  </tbody>\n",
       "</table>\n",
       "</div>"
      ],
      "text/plain": [
       "    Name  Alter     Stadt\n",
       "0   Anna     31    Berlin\n",
       "1    Ben     30   Hamburg\n",
       "2  Chris     35  Nürnberg"
      ]
     },
     "execution_count": 10,
     "metadata": {},
     "output_type": "execute_result"
    }
   ],
   "source": [
    "# Ändere das Stadt von Chris auf Nürnberg\n",
    "df.iloc[2, 2] = 'Nürnberg'\n",
    "df"
   ]
  },
  {
   "cell_type": "code",
   "execution_count": null,
   "id": "ff08a1a0-5068-42aa-ab2c-6f04f2a4bd13",
   "metadata": {},
   "outputs": [],
   "source": []
  }
 ],
 "metadata": {
  "kernelspec": {
   "display_name": "Python 3 (ipykernel)",
   "language": "python",
   "name": "python3"
  },
  "language_info": {
   "codemirror_mode": {
    "name": "ipython",
    "version": 3
   },
   "file_extension": ".py",
   "mimetype": "text/x-python",
   "name": "python",
   "nbconvert_exporter": "python",
   "pygments_lexer": "ipython3",
   "version": "3.12.6"
  }
 },
 "nbformat": 4,
 "nbformat_minor": 5
}
