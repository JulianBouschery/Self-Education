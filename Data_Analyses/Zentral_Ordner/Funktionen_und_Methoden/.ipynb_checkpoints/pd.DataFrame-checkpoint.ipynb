{
 "cells": [
  {
   "cell_type": "markdown",
   "id": "d1dca002-0521-44b5-8bb3-ef4ed351dbdc",
   "metadata": {},
   "source": [
    "Siehe auch: [pd.Series()](pd.Series.ipynb)"
   ]
  },
  {
   "cell_type": "markdown",
   "id": "0214284c-94aa-4364-ae5d-5f2d06eccdcf",
   "metadata": {},
   "source": [
    "# pd.DataFrame()"
   ]
  },
  {
   "cell_type": "markdown",
   "id": "499a7dfe-5c1d-4584-b87e-2a7a67e35117",
   "metadata": {},
   "source": [
    "## Was ist ein DataFrame?"
   ]
  },
  {
   "cell_type": "markdown",
   "id": "de8b1fba-237e-4cdd-b6c3-55e053544708",
   "metadata": {},
   "source": [
    "Ein **DataFrame** ist eine zweidimensionale, tabellenartige Datenstruktur. Er besteht aus mehreren Series, die Spalten des DataFrames bilden."
   ]
  },
  {
   "cell_type": "markdown",
   "id": "2acd3af1-a00e-4e02-8422-d26a5747ae99",
   "metadata": {},
   "source": [
    "### Beispiel: Einen DataFrame erstellen"
   ]
  },
  {
   "cell_type": "code",
   "execution_count": 7,
   "id": "4fe5fa47-0c0b-4c02-8ab7-dfb58d46f006",
   "metadata": {},
   "outputs": [
    {
     "data": {
      "text/html": [
       "<div>\n",
       "<style scoped>\n",
       "    .dataframe tbody tr th:only-of-type {\n",
       "        vertical-align: middle;\n",
       "    }\n",
       "\n",
       "    .dataframe tbody tr th {\n",
       "        vertical-align: top;\n",
       "    }\n",
       "\n",
       "    .dataframe thead th {\n",
       "        text-align: right;\n",
       "    }\n",
       "</style>\n",
       "<table border=\"1\" class=\"dataframe\">\n",
       "  <thead>\n",
       "    <tr style=\"text-align: right;\">\n",
       "      <th></th>\n",
       "      <th>Name</th>\n",
       "      <th>Alter</th>\n",
       "      <th>Stadt</th>\n",
       "    </tr>\n",
       "  </thead>\n",
       "  <tbody>\n",
       "    <tr>\n",
       "      <th>0</th>\n",
       "      <td>Anna</td>\n",
       "      <td>23</td>\n",
       "      <td>Berlin</td>\n",
       "    </tr>\n",
       "    <tr>\n",
       "      <th>1</th>\n",
       "      <td>Ben</td>\n",
       "      <td>30</td>\n",
       "      <td>Hamburg</td>\n",
       "    </tr>\n",
       "    <tr>\n",
       "      <th>2</th>\n",
       "      <td>Chris</td>\n",
       "      <td>35</td>\n",
       "      <td>München</td>\n",
       "    </tr>\n",
       "  </tbody>\n",
       "</table>\n",
       "</div>"
      ],
      "text/plain": [
       "    Name  Alter    Stadt\n",
       "0   Anna     23   Berlin\n",
       "1    Ben     30  Hamburg\n",
       "2  Chris     35  München"
      ]
     },
     "execution_count": 7,
     "metadata": {},
     "output_type": "execute_result"
    }
   ],
   "source": [
    "import numpy as np\n",
    "import pandas as pd\n",
    "\n",
    "# Erstelle einen DataFrame\n",
    "data = {'Name': ['Anna', 'Ben', 'Chris'],\n",
    "        'Alter': [23, 30, 35], \n",
    "        'Stadt': ['Berlin', 'Hamburg', 'München']\n",
    "       }\n",
    "\n",
    "df = pd.DataFrame(data)\n",
    "df"
   ]
  },
  {
   "cell_type": "markdown",
   "id": "3d611be4-4bfe-49ee-9b8e-7feb46c4e1a8",
   "metadata": {},
   "source": [
    "### Beziehung zwischen Series und DataFrame"
   ]
  },
  {
   "cell_type": "markdown",
   "id": "70a9d40b-25ae-4a28-a39d-1a421dbd9ff0",
   "metadata": {},
   "source": [
    "- Jede Spalte in einem DataFrame ist eine Series.\n",
    "- Ein DataFrame ist also eine Sammlung von Series, die zusammen eine Tabelle bilden."
   ]
  },
  {
   "cell_type": "markdown",
   "id": "5d91cf7e-1f31-4c25-a828-13a4b7d9d878",
   "metadata": {},
   "source": [
    "Du kannst eine Spalte eines DataFrames einfach als Series extrahieren."
   ]
  },
  {
   "cell_type": "code",
   "execution_count": 5,
   "id": "9ad6d65d-6524-441f-8b89-027062188ecd",
   "metadata": {
    "scrolled": true
   },
   "outputs": [
    {
     "data": {
      "text/plain": [
       "0     Anna\n",
       "1      Ben\n",
       "2    Chris\n",
       "Name: Name, dtype: object"
      ]
     },
     "execution_count": 5,
     "metadata": {},
     "output_type": "execute_result"
    }
   ],
   "source": [
    "# Extrahiere die 'Name'-Spalte als Series\n",
    "df['Name']\n"
   ]
  },
  {
   "cell_type": "code",
   "execution_count": null,
   "id": "8a505669-07bb-46fe-a24b-de216fc95b64",
   "metadata": {},
   "outputs": [],
   "source": []
  }
 ],
 "metadata": {
  "kernelspec": {
   "display_name": "Python 3 (ipykernel)",
   "language": "python",
   "name": "python3"
  },
  "language_info": {
   "codemirror_mode": {
    "name": "ipython",
    "version": 3
   },
   "file_extension": ".py",
   "mimetype": "text/x-python",
   "name": "python",
   "nbconvert_exporter": "python",
   "pygments_lexer": "ipython3",
   "version": "3.12.6"
  }
 },
 "nbformat": 4,
 "nbformat_minor": 5
}
