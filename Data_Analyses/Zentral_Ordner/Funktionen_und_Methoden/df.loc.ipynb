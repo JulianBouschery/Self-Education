{
 "cells": [
  {
   "cell_type": "markdown",
   "id": "42000728-2daa-4c1a-a83c-6e64f536e3f0",
   "metadata": {},
   "source": [
    "Siehe auch: [df.iloc()](df.iloc.ipynb)"
   ]
  },
  {
   "cell_type": "markdown",
   "id": "772dca1d-37ba-44a0-bfe8-2783ae7298ae",
   "metadata": {},
   "source": [
    "# df.loc()"
   ]
  },
  {
   "cell_type": "markdown",
   "id": "c600ddb4-424b-4351-8165-f8e38bbf995d",
   "metadata": {},
   "source": [
    "### Verwenden von .loc"
   ]
  },
  {
   "cell_type": "markdown",
   "id": "9f8fe8a2-b9da-403b-ac61-20b39d5eceec",
   "metadata": {},
   "source": [
    "- `.loc[]` wird verwendet, um Daten anhand der Label (Zeilen- oder Spaltennamen) abzurufen.\n",
    "- Syntax: `DataFrame.loc[Zeilenname, Spaltenname]`"
   ]
  },
  {
   "cell_type": "markdown",
   "id": "c81835c5-d0c1-4efc-a7f6-7aa61bc38c0e",
   "metadata": {},
   "source": [
    "### Beispiel: Verwende .loc, um Daten basierend auf dem Label abzurufen"
   ]
  },
  {
   "cell_type": "code",
   "execution_count": 3,
   "id": "3371b9c3-8b03-4d43-b4f4-31a0643cec8b",
   "metadata": {
    "scrolled": true
   },
   "outputs": [
    {
     "data": {
      "text/plain": [
       "Name     Anna\n",
       "Alter      23\n",
       "Name: 0, dtype: object"
      ]
     },
     "execution_count": 3,
     "metadata": {},
     "output_type": "execute_result"
    }
   ],
   "source": [
    "import numpy as np\n",
    "import pandas as pd\n",
    "\n",
    "# Erstelle einen DataFrame\n",
    "data = {'Name': ['Anna', 'Ben', 'Chris'],\n",
    "        'Alter': [23, 30, 35], \n",
    "        'Stadt': ['Berlin', 'Hamburg', 'München']\n",
    "       }\n",
    "\n",
    "df = pd.DataFrame(data)\n",
    "df\n",
    "\n",
    "# Verwende .loc, um den Namen und das Alter von Anna zu erhalten\n",
    "df.loc[0, ['Name', 'Alter']]"
   ]
  },
  {
   "cell_type": "markdown",
   "id": "db87197c-195e-4d5f-8e09-6ac1cadfa192",
   "metadata": {},
   "source": [
    "## Daten lokalisieren und manipulieren"
   ]
  },
  {
   "cell_type": "markdown",
   "id": "2f92a0c2-192d-4020-999c-0e4af5916e43",
   "metadata": {},
   "source": [
    "Mit `.iloc` und `.loc` kannst du Daten präzise lokalisieren, abrufen und manipulieren."
   ]
  },
  {
   "cell_type": "markdown",
   "id": "a42dfa0c-a70a-4ed1-8a96-1f02225b0783",
   "metadata": {},
   "source": [
    "### Beispiel: Ändere den Wert einer bestimmten Zelle"
   ]
  },
  {
   "cell_type": "code",
   "execution_count": 4,
   "id": "0d9750ec-0ff0-45bf-9773-43d8dbc5e36f",
   "metadata": {},
   "outputs": [
    {
     "data": {
      "text/html": [
       "<div>\n",
       "<style scoped>\n",
       "    .dataframe tbody tr th:only-of-type {\n",
       "        vertical-align: middle;\n",
       "    }\n",
       "\n",
       "    .dataframe tbody tr th {\n",
       "        vertical-align: top;\n",
       "    }\n",
       "\n",
       "    .dataframe thead th {\n",
       "        text-align: right;\n",
       "    }\n",
       "</style>\n",
       "<table border=\"1\" class=\"dataframe\">\n",
       "  <thead>\n",
       "    <tr style=\"text-align: right;\">\n",
       "      <th></th>\n",
       "      <th>Name</th>\n",
       "      <th>Alter</th>\n",
       "      <th>Stadt</th>\n",
       "    </tr>\n",
       "  </thead>\n",
       "  <tbody>\n",
       "    <tr>\n",
       "      <th>0</th>\n",
       "      <td>Anna</td>\n",
       "      <td>23</td>\n",
       "      <td>Berlin</td>\n",
       "    </tr>\n",
       "    <tr>\n",
       "      <th>1</th>\n",
       "      <td>Ben</td>\n",
       "      <td>31</td>\n",
       "      <td>Hamburg</td>\n",
       "    </tr>\n",
       "    <tr>\n",
       "      <th>2</th>\n",
       "      <td>Chris</td>\n",
       "      <td>35</td>\n",
       "      <td>München</td>\n",
       "    </tr>\n",
       "  </tbody>\n",
       "</table>\n",
       "</div>"
      ],
      "text/plain": [
       "    Name  Alter    Stadt\n",
       "0   Anna     23   Berlin\n",
       "1    Ben     31  Hamburg\n",
       "2  Chris     35  München"
      ]
     },
     "execution_count": 4,
     "metadata": {},
     "output_type": "execute_result"
    }
   ],
   "source": [
    "# Ändere das Alter von Ben auf 31\n",
    "df.loc[1, 'Alter'] = 31\n",
    "df"
   ]
  },
  {
   "cell_type": "code",
   "execution_count": 5,
   "id": "4fc62824-00f5-48e7-9f0a-196f86539734",
   "metadata": {
    "scrolled": true
   },
   "outputs": [
    {
     "data": {
      "text/html": [
       "<div>\n",
       "<style scoped>\n",
       "    .dataframe tbody tr th:only-of-type {\n",
       "        vertical-align: middle;\n",
       "    }\n",
       "\n",
       "    .dataframe tbody tr th {\n",
       "        vertical-align: top;\n",
       "    }\n",
       "\n",
       "    .dataframe thead th {\n",
       "        text-align: right;\n",
       "    }\n",
       "</style>\n",
       "<table border=\"1\" class=\"dataframe\">\n",
       "  <thead>\n",
       "    <tr style=\"text-align: right;\">\n",
       "      <th></th>\n",
       "      <th>Name</th>\n",
       "      <th>Alter</th>\n",
       "      <th>Stadt</th>\n",
       "    </tr>\n",
       "  </thead>\n",
       "  <tbody>\n",
       "    <tr>\n",
       "      <th>0</th>\n",
       "      <td>Anna</td>\n",
       "      <td>23</td>\n",
       "      <td>Berlin</td>\n",
       "    </tr>\n",
       "    <tr>\n",
       "      <th>1</th>\n",
       "      <td>Ben</td>\n",
       "      <td>31</td>\n",
       "      <td>Hamburg</td>\n",
       "    </tr>\n",
       "    <tr>\n",
       "      <th>2</th>\n",
       "      <td>Chris</td>\n",
       "      <td>35</td>\n",
       "      <td>Nürnberg</td>\n",
       "    </tr>\n",
       "  </tbody>\n",
       "</table>\n",
       "</div>"
      ],
      "text/plain": [
       "    Name  Alter     Stadt\n",
       "0   Anna     23    Berlin\n",
       "1    Ben     31   Hamburg\n",
       "2  Chris     35  Nürnberg"
      ]
     },
     "execution_count": 5,
     "metadata": {},
     "output_type": "execute_result"
    }
   ],
   "source": [
    "# Ändere das Stadt von Chris auf Nürnberg\n",
    "df.loc[2, 'Stadt'] = 'Nürnberg'\n",
    "df"
   ]
  },
  {
   "cell_type": "code",
   "execution_count": null,
   "id": "f9299de0-c2bd-41cf-85ab-61faef2e65f3",
   "metadata": {},
   "outputs": [],
   "source": []
  }
 ],
 "metadata": {
  "kernelspec": {
   "display_name": "Python 3 (ipykernel)",
   "language": "python",
   "name": "python3"
  },
  "language_info": {
   "codemirror_mode": {
    "name": "ipython",
    "version": 3
   },
   "file_extension": ".py",
   "mimetype": "text/x-python",
   "name": "python",
   "nbconvert_exporter": "python",
   "pygments_lexer": "ipython3",
   "version": "3.12.6"
  }
 },
 "nbformat": 4,
 "nbformat_minor": 5
}
