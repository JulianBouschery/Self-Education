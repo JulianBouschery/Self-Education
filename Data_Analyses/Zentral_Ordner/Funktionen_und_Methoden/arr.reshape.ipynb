{
 "cells": [
  {
   "cell_type": "markdown",
   "id": "d00a6939-1239-4072-b720-d5d14ca3c710",
   "metadata": {},
   "source": [
    "Siehe auch: [np.arrange()](np.arange.ipynb)"
   ]
  },
  {
   "cell_type": "markdown",
   "id": "5900af36-75df-4ae7-9611-045488d0dac3",
   "metadata": {},
   "source": [
    "# arr.reshape()"
   ]
  },
  {
   "cell_type": "markdown",
   "id": "026b6f41-edf0-4e72-aa66-4da0e783cfdf",
   "metadata": {},
   "source": [
    "Die Funktion `arange` aus NumPy erstellt ein **eindimensionales** Array, aber sie kann in Kombination mit anderen Funktionen verwendet werden, um ein **mehrdimensionales** Array zu erzeugen.\n",
    "\n",
    "Hier sind die Schritte, wie das funktioniert:\n",
    "\n",
    "1. **arange() erzeugt eine Folge von Zahlen**:\n",
    "   - `arange` erstellt eine 1D-Sequenz von gleichmäßig verteilten Zahlen, ähnlich wie `range()` in Python.\n",
    "\n",
    "2. **Umwandlung in ein mehrdimensionales Array mit reshape()**:\n",
    "   - Um diese Folge von Zahlen in ein mehrdimensionales Array zu verwandeln, kann die Methode `reshape()` verwendet werden, um das eindimensionale Array in eine gewünschte Form zu bringen.\n",
    "\n",
    "### Beispiel:\n",
    "\n",
    "```python\n",
    "import numpy as np\n",
    "\n",
    "# Ein 1D-Array mit Werten von 0 bis 11 (12 Werte)\n",
    "arr = np.arange(12)\n",
    "\n",
    "# In ein 3x4 Array umformen (mehrdimensional)\n",
    "arr_2d = arr.reshape(3, 4)\n",
    "\n",
    "print(arr_2d)\n",
    "```\n",
    "\n",
    "### Erklärung:\n",
    "- `np.arange(12)` erzeugt das eindimensionale Array: `[0, 1, 2, 3, 4, 5, 6, 7, 8, 9, 10, 11]`.\n",
    "- `reshape(3, 4)` formt es in ein **3x4**-Array um:\n",
    "  ```\n",
    "  [[ 0  1  2  3]\n",
    "   [ 4  5  6  7]\n",
    "   [ 8  9 10 11]]\n",
    "  ```\n",
    "\n",
    "### Mehrdimensionale Arrays (z.B. 3D-Array):\n",
    "\n",
    "```python\n",
    "# In ein 2x3x2-Array umformen\n",
    "arr_3d = arr.reshape(2, 3, 2)\n",
    "print(arr_3d)\n",
    "```\n",
    "\n",
    "Ergebnis:\n",
    "```\n",
    "[[[ 0  1]\n",
    "  [ 2  3]\n",
    "  [ 4  5]]\n",
    "\n",
    " [[ 6  7]\n",
    "  [ 8  9]\n",
    "  [10 11]]]\n",
    "```\n",
    "\n",
    "So kann die Kombination von `arange` und `reshape` verwendet werden, um **mehrdimensionale Arrays** zu erzeugen."
   ]
  }
 ],
 "metadata": {
  "kernelspec": {
   "display_name": "Python 3 (ipykernel)",
   "language": "python",
   "name": "python3"
  },
  "language_info": {
   "codemirror_mode": {
    "name": "ipython",
    "version": 3
   },
   "file_extension": ".py",
   "mimetype": "text/x-python",
   "name": "python",
   "nbconvert_exporter": "python",
   "pygments_lexer": "ipython3",
   "version": "3.12.6"
  }
 },
 "nbformat": 4,
 "nbformat_minor": 5
}
