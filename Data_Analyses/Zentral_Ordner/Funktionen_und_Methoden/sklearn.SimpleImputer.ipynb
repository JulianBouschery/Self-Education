{
 "cells": [
  {
   "cell_type": "markdown",
   "id": "d40d1dcc-060b-43f4-b1aa-a6b491299e09",
   "metadata": {},
   "source": [
    "# sklearn.impute SimpleImputer"
   ]
  },
  {
   "cell_type": "markdown",
   "id": "8f4e97fd-d605-41ab-9559-7f1492a2c56e",
   "metadata": {},
   "source": [
    "## 1. Imputation mittels SciKit-Learn (automatiseirt)"
   ]
  },
  {
   "cell_type": "code",
   "execution_count": 8,
   "id": "8f8b77ff-3bd3-480b-9312-41e42e6210cf",
   "metadata": {},
   "outputs": [
    {
     "name": "stdout",
     "output_type": "stream",
     "text": [
      "   Alter   Gehalt\n",
      "0   25.0  50000.0\n",
      "1   30.0  72500.0\n",
      "2    NaN  70000.0\n",
      "3   35.0  80000.0\n",
      "4   40.0  90000.0\n"
     ]
    }
   ],
   "source": [
    "import pandas as pd\n",
    "from sklearn.impute import SimpleImputer\n",
    "\n",
    "# Beispiel-Daten\n",
    "df = pd.DataFrame({\n",
    "    'Alter': [25, 30, None, 35, 40],\n",
    "    'Gehalt': [50000, None, 70000, 80000, 90000]\n",
    "})\n",
    "\n",
    "# Imputation (Mittelwert)\n",
    "imputer = SimpleImputer(strategy='mean')   # Strategie auswählen\n",
    "\n",
    "\n",
    "df['Gehalt'] = imputer.fit_transform(df[['Gehalt']])\n",
    "print(df)"
   ]
  },
  {
   "cell_type": "code",
   "execution_count": null,
   "id": "8a6b47a4-533d-4190-af7a-9dcefc606865",
   "metadata": {},
   "outputs": [],
   "source": []
  }
 ],
 "metadata": {
  "kernelspec": {
   "display_name": "Python 3 (ipykernel)",
   "language": "python",
   "name": "python3"
  },
  "language_info": {
   "codemirror_mode": {
    "name": "ipython",
    "version": 3
   },
   "file_extension": ".py",
   "mimetype": "text/x-python",
   "name": "python",
   "nbconvert_exporter": "python",
   "pygments_lexer": "ipython3",
   "version": "3.12.6"
  }
 },
 "nbformat": 4,
 "nbformat_minor": 5
}
