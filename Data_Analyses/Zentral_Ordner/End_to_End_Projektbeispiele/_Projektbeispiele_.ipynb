{
 "cells": [
  {
   "cell_type": "markdown",
   "id": "b5f89657-25e2-490d-b314-3ece25b9426e",
   "metadata": {},
   "source": [
    "# End to End Projektbeispiele"
   ]
  },
  {
   "cell_type": "markdown",
   "id": "1e2e59d5-9220-4b19-8101-27cd965b9695",
   "metadata": {},
   "source": [
    "## Einfache Projekte"
   ]
  },
  {
   "cell_type": "markdown",
   "id": "3b20a69c-ff11-4017-93f4-4a30a936d1d7",
   "metadata": {},
   "source": [
    "[House Price](House_Price.ipynb)"
   ]
  },
  {
   "cell_type": "markdown",
   "id": "c3e3b2d2-73fe-4a7b-99a7-154c8e05c20b",
   "metadata": {},
   "source": [
    "[US Superstore](US_Superstore.ipynb)"
   ]
  },
  {
   "cell_type": "markdown",
   "id": "97df3f68-0082-4380-a0df-1fb49bd49540",
   "metadata": {},
   "source": [
    "## Fortgeschritte Projekte"
   ]
  },
  {
   "cell_type": "markdown",
   "id": "904a20d4-36d6-4f24-ad87-c9ffb79c511f",
   "metadata": {},
   "source": [
    "Voraussage von BitCoin mittels [Tensorflow](Tensorflow_BitCoin.ipynb)"
   ]
  },
  {
   "cell_type": "markdown",
   "id": "89d72e05-bf5d-4d38-8f8a-f6029383a8c9",
   "metadata": {},
   "source": [
    "Eine Statisik zum Thema [Depression](eda_model_depression.ipynb)"
   ]
  },
  {
   "cell_type": "code",
   "execution_count": null,
   "id": "92b4c171-eecf-4325-8b9f-e181f46c17ae",
   "metadata": {},
   "outputs": [],
   "source": []
  }
 ],
 "metadata": {
  "kernelspec": {
   "display_name": "Python 3 (ipykernel)",
   "language": "python",
   "name": "python3"
  },
  "language_info": {
   "codemirror_mode": {
    "name": "ipython",
    "version": 3
   },
   "file_extension": ".py",
   "mimetype": "text/x-python",
   "name": "python",
   "nbconvert_exporter": "python",
   "pygments_lexer": "ipython3",
   "version": "3.12.6"
  }
 },
 "nbformat": 4,
 "nbformat_minor": 5
}
