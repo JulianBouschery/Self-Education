{
 "cells": [
  {
   "cell_type": "markdown",
   "id": "94fde67a-2600-40a7-acb1-dbbaa88c9ad1",
   "metadata": {},
   "source": [
    "# PCED"
   ]
  },
  {
   "cell_type": "markdown",
   "id": "adb87c30-aa5e-404d-a38e-1435781da719",
   "metadata": {},
   "source": [
    "[PCED](https://pythoninstitute.org/pced)"
   ]
  },
  {
   "cell_type": "markdown",
   "id": "e08afa1d-e658-435e-a8f3-b2fe7d74d7d2",
   "metadata": {},
   "source": [
    "[PCED Syllabus](https://pythoninstitute.org/pced-exam-syllabus)"
   ]
  },
  {
   "cell_type": "markdown",
   "id": "3a8e9ddd-7d72-45eb-a10a-18b28b6f5d53",
   "metadata": {},
   "source": [
    "https://authorizedumps.com/pced-exam-dumps/"
   ]
  },
  {
   "cell_type": "code",
   "execution_count": null,
   "id": "10a4bc51-749b-4a58-94e4-f9b0e27ff1de",
   "metadata": {},
   "outputs": [],
   "source": []
  }
 ],
 "metadata": {
  "kernelspec": {
   "display_name": "Python 3 (ipykernel)",
   "language": "python",
   "name": "python3"
  },
  "language_info": {
   "codemirror_mode": {
    "name": "ipython",
    "version": 3
   },
   "file_extension": ".py",
   "mimetype": "text/x-python",
   "name": "python",
   "nbconvert_exporter": "python",
   "pygments_lexer": "ipython3",
   "version": "3.12.6"
  }
 },
 "nbformat": 4,
 "nbformat_minor": 5
}
