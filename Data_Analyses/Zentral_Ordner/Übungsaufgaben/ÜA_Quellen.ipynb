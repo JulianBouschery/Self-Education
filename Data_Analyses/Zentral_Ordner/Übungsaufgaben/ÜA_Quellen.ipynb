{
 "cells": [
  {
   "cell_type": "markdown",
   "id": "10ebbd8a-759e-4509-99f5-2bd106ac900b",
   "metadata": {},
   "source": [
    "# Links zu Websiten mit Übungsaufgaben"
   ]
  },
  {
   "cell_type": "markdown",
   "id": "de2175a5-d152-4641-b2ae-7df8c439d4b4",
   "metadata": {},
   "source": [
    "Kaggel hat eine eigene Lernplatform mit vielen Übungsaufgaben zu unterschiedelichsten Bereichen der Data-Analyse."
   ]
  },
  {
   "cell_type": "markdown",
   "id": "e47bb97c-79c9-4ec9-9d3b-c959a31f8dcc",
   "metadata": {},
   "source": [
    "https://www.kaggle.com/learn"
   ]
  },
  {
   "cell_type": "code",
   "execution_count": null,
   "id": "b2d6d548-a779-4e75-971d-6ae786d00971",
   "metadata": {},
   "outputs": [],
   "source": []
  }
 ],
 "metadata": {
  "kernelspec": {
   "display_name": "Python 3 (ipykernel)",
   "language": "python",
   "name": "python3"
  },
  "language_info": {
   "codemirror_mode": {
    "name": "ipython",
    "version": 3
   },
   "file_extension": ".py",
   "mimetype": "text/x-python",
   "name": "python",
   "nbconvert_exporter": "python",
   "pygments_lexer": "ipython3",
   "version": "3.12.6"
  }
 },
 "nbformat": 4,
 "nbformat_minor": 5
}
