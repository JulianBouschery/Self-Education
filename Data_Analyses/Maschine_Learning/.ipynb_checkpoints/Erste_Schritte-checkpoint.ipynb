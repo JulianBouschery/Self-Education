{
 "cells": [
  {
   "cell_type": "markdown",
   "id": "a01b3302-9cbe-4408-97f0-f55a1957520c",
   "metadata": {},
   "source": [
    "# Erste Schriite in Machine Learning:"
   ]
  },
  {
   "cell_type": "markdown",
   "id": "5be25af0-c34c-4f74-ae21-333acc42ca33",
   "metadata": {},
   "source": [
    "Maschine Learning heißt so, weil wir ein Modell mit Daten füttern / trainieren um die Vorhersage des Models zu verbessern."
   ]
  },
  {
   "cell_type": "code",
   "execution_count": 2,
   "id": "f5f223c5-5fb4-4bd4-b99e-75b24c4564d3",
   "metadata": {},
   "outputs": [
    {
     "name": "stdout",
     "output_type": "stream",
     "text": [
      "   Mitarbeiter  Maschinen\n",
      "0            5         10\n",
      "1            3          5\n",
      "2            7          6\n",
      "0    200\n",
      "1    100\n",
      "2    150\n",
      "Name: Gewinn, dtype: int64\n"
     ]
    }
   ],
   "source": [
    "import pandas as pd\n",
    "\n",
    "\n",
    "# Erstelle einen DataFrame\n",
    "data = {'Gewinn': [200, 100, 150], 'Mitarbeiter': [5, 3, 7], 'Maschinen': [10, 5, 6]}\n",
    "df = pd.DataFrame(data)\n",
    "df\n",
    " \n",
    " \n",
    "# X: Matrix (Dataframe),  y : Vektor (Series)\n",
    "# Zielvariable:\n",
    " \n",
    "y = df['Gewinn']\n",
    " \n",
    "# Feature-Variablen\n",
    " \n",
    "X = df[['Mitarbeiter', 'Maschinen']  ]    # Hier Mitarbeiter und Maschinen\n",
    " \n",
    " \n",
    "# audrucken von X und y\n",
    " \n",
    "print(X)\n",
    " \n",
    "print(y)\n",
    " \n",
    " \n",
    "# X, y  \n",
    " \n",
    "# 1.) Datensatz (Aufteilen in Train und Test-Daten)\n",
    "# 2.) Modell bestimmen: Regression (lineare Abhängigkeit)\n",
    "# 3.) Model Fitting (Bestimmung meiner Koeffizenten):  y = f(x)\n",
    "# 4.) Vorhersagen mit dem Testdatensatz\n",
    "# 5.) Validierung wie gut ist das Modell\n",
    " \n",
    "# Ergebniss ist graphisch eine Ebene\n",
    " \n",
    "# Unternehmer hat die Fragestellung mit welcher Taktik hat er den größten Gewinn?\n",
    " "
   ]
  },
  {
   "cell_type": "code",
   "execution_count": null,
   "id": "19288c86-ee43-4df8-91b6-ac5269e4d2d8",
   "metadata": {},
   "outputs": [],
   "source": []
  }
 ],
 "metadata": {
  "kernelspec": {
   "display_name": "Python 3 (ipykernel)",
   "language": "python",
   "name": "python3"
  },
  "language_info": {
   "codemirror_mode": {
    "name": "ipython",
    "version": 3
   },
   "file_extension": ".py",
   "mimetype": "text/x-python",
   "name": "python",
   "nbconvert_exporter": "python",
   "pygments_lexer": "ipython3",
   "version": "3.12.6"
  }
 },
 "nbformat": 4,
 "nbformat_minor": 5
}
