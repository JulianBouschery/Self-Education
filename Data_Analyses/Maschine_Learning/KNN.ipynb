{
 "cells": [
  {
   "cell_type": "markdown",
   "id": "9b8b381a-5db3-4d93-9f72-ec3e569d5163",
   "metadata": {},
   "source": [
    "# KNN"
   ]
  },
  {
   "cell_type": "markdown",
   "id": "34434694-3674-414d-bd9c-2ff838cc0fdf",
   "metadata": {},
   "source": [
    "https://de.wikipedia.org/wiki/N%C3%A4chste-Nachbarn-Klassifikation"
   ]
  },
  {
   "cell_type": "markdown",
   "id": "4b149096-dc18-4a72-8710-0b016f3c6f79",
   "metadata": {},
   "source": [
    "https://www.ibm.com/de-de/topics/knn#:~:text=Der%20K-N%C3%A4chste-Nachbarn-Algorithmus%2C%20auch%20KNN%20oder%20k-NN%20genannt%2C%20ist,%C3%BCber%20die%20Gruppierung%20eines%20einzelnen%20Datenpunktes%20zu%20treffen."
   ]
  },
  {
   "cell_type": "code",
   "execution_count": null,
   "id": "88962300-46ef-4111-86ea-f37a6fe0c55f",
   "metadata": {},
   "outputs": [],
   "source": []
  }
 ],
 "metadata": {
  "kernelspec": {
   "display_name": "Python 3 (ipykernel)",
   "language": "python",
   "name": "python3"
  },
  "language_info": {
   "codemirror_mode": {
    "name": "ipython",
    "version": 3
   },
   "file_extension": ".py",
   "mimetype": "text/x-python",
   "name": "python",
   "nbconvert_exporter": "python",
   "pygments_lexer": "ipython3",
   "version": "3.12.6"
  }
 },
 "nbformat": 4,
 "nbformat_minor": 5
}
