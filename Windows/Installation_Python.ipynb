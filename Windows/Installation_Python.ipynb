{
 "cells": [
  {
   "cell_type": "markdown",
   "id": "97f82b75-3f3d-454b-96da-8bfa6253883a",
   "metadata": {},
   "source": [
    "# Python Installation "
   ]
  },
  {
   "cell_type": "markdown",
   "id": "13fe3399-2d93-4fc3-abcf-e64f2c9540c1",
   "metadata": {},
   "source": [
    "[Link zum Python Download](https://www.python.org/downloads/)"
   ]
  },
  {
   "cell_type": "code",
   "execution_count": null,
   "id": "afb6bbb9-2492-4ccb-8245-ac5ae42a06fc",
   "metadata": {},
   "outputs": [],
   "source": [
    "Bie installation ZU PATH HINZUFÜGEN anklicken!"
   ]
  }
 ],
 "metadata": {
  "kernelspec": {
   "display_name": "Python 3 (ipykernel)",
   "language": "python",
   "name": "python3"
  },
  "language_info": {
   "codemirror_mode": {
    "name": "ipython",
    "version": 3
   },
   "file_extension": ".py",
   "mimetype": "text/x-python",
   "name": "python",
   "nbconvert_exporter": "python",
   "pygments_lexer": "ipython3",
   "version": "3.12.6"
  }
 },
 "nbformat": 4,
 "nbformat_minor": 5
}
