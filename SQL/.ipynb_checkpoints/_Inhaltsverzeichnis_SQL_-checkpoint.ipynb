{
 "cells": [
  {
   "cell_type": "markdown",
   "id": "6eb715dd-ab06-4bd7-8cca-bcb3a57cf0f8",
   "metadata": {},
   "source": [
    "# Inhaltsverzeichnis SQL"
   ]
  },
  {
   "cell_type": "code",
   "execution_count": null,
   "id": "6fea4ee0-b274-49e5-b623-39cab06afb15",
   "metadata": {},
   "outputs": [],
   "source": []
  }
 ],
 "metadata": {
  "kernelspec": {
   "display_name": "Python 3 (ipykernel)",
   "language": "python",
   "name": "python3"
  },
  "language_info": {
   "codemirror_mode": {
    "name": "ipython",
    "version": 3
   },
   "file_extension": ".py",
   "mimetype": "text/x-python",
   "name": "python",
   "nbconvert_exporter": "python",
   "pygments_lexer": "ipython3",
   "version": "3.12.6"
  }
 },
 "nbformat": 4,
 "nbformat_minor": 5
}
