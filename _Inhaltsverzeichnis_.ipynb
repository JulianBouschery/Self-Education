{
 "cells": [
  {
   "cell_type": "markdown",
   "id": "727faec0-9819-47a7-a96a-464da8a4fdd0",
   "metadata": {},
   "source": [
    "# Self-Education"
   ]
  },
  {
   "cell_type": "markdown",
   "id": "ef274fb8-3283-4de2-902c-0a378aa994b1",
   "metadata": {},
   "source": [
    "Self-Education ist ein Projekt, das mit einer kleinen Sammlung von Notizen begonnen hat und mit der Zeit immer größer und umfangreicher geworden ist.\n",
    "Im Prinzip ist es der Versuch ein Wissensnetz aufzubauen und alles was ich über das Programmieren gelernt habe zu erfassen.\n",
    "Das Projekt pausiert etwa seit Oktober 2024 könnte aber wieder aufgenommen werden, oder in ein anderes Projekt mit anderen Strukturen umgewandelt werden.\n",
    "\n",
    "Ich habe hauptsächlich versucht relevante Themen in .ipynb bzw. markdown Files durch Links zu verknüpfen, wodurch eine mehr oder weniger geordnete Struktur entstanden ist.\n",
    "Das hat jedoch einen sehr hohen Wartungsaufwand, da die Links von Hand maintained werden müssen.\n",
    "\n",
    "Falls sich jemand für dieses Projekt interessiert, der Bereich 'Daten-Analyse' ist der am besten gepflegt. Der Rest ist noch in Bearbeitung."
   ]
  },
  {
   "cell_type": "markdown",
   "id": "09171ad6-bea2-49ed-8ef6-d015f08eab2b",
   "metadata": {},
   "source": [
    "# Inhaltsverzeichnis Self-Education"
   ]
  },
  {
   "cell_type": "markdown",
   "id": "65725ca1-86bb-493e-b0c6-4a8162017917",
   "metadata": {},
   "source": [
    "[Python](./Files/Python/_Python_.ipynb)"
   ]
  },
  {
   "cell_type": "markdown",
   "id": "56e825d4-6969-4117-9b0b-0e9b8dd15971",
   "metadata": {},
   "source": [
    "[Windows](./Files/Windows/_Inhaltsverzeichnis_Windows_.ipynb)"
   ]
  },
  {
   "cell_type": "markdown",
   "id": "d0a82e68-fc80-4ff9-82dd-da0c2493dce5",
   "metadata": {},
   "source": [
    "[Linux](./Files/Linux/_Inhaltsverzeichnis-Linux_.ipynb)"
   ]
  },
  {
   "cell_type": "markdown",
   "id": "3d827a6c-00ad-4a6b-8522-4ebc76ba3608",
   "metadata": {},
   "source": [
    "[Git und GitHub (Versionskontrolle)](./Files/Git/_Git_Anleitung_.ipynb)"
   ]
  },
  {
   "cell_type": "markdown",
   "id": "ef697240-23c5-4724-8c54-ce66a0524c7d",
   "metadata": {},
   "source": [
    "[Umgang mit Terminal / Konsole](./Files/Terminal/_Inhaltsverzeichnis_Terminal.ipynb)"
   ]
  },
  {
   "cell_type": "markdown",
   "id": "46536860-725c-4dca-87c9-c367921877de",
   "metadata": {},
   "source": [
    "[Datenbanksprache SQL](./Files/SQL/_Inhaltsverzeichnis_SQL_.ipynb)"
   ]
  },
  {
   "cell_type": "markdown",
   "id": "f4b09021-1ef2-4de8-bb43-4cde08c4aec0",
   "metadata": {},
   "source": [
    "[Data-Analyses](./Files/Data_Analyses/_Inhaltsverzeichnis_Data_Analyses_.ipynb) (Setzt Grundkentnisse in Python vorraus. Siehe oben.)"
   ]
  },
  {
   "cell_type": "markdown",
   "id": "ca34ab0b-3d1e-47b9-8db5-1e92d4cbb508",
   "metadata": {},
   "source": [
    "Bedienugshilfe und Tricks zu [Jupyter Lab](./Files/Jupyter_Lab/_Inhaltsverzeichnis_Jupyter_Lab_.ipynb)"
   ]
  },
  {
   "cell_type": "code",
   "execution_count": null,
   "id": "5f401446-4056-4136-a3d7-122d8e4d928b",
   "metadata": {},
   "outputs": [],
   "source": []
  }
 ],
 "metadata": {
  "kernelspec": {
   "display_name": "Python 3 (ipykernel)",
   "language": "python",
   "name": "python3"
  },
  "language_info": {
   "codemirror_mode": {
    "name": "ipython",
    "version": 3
   },
   "file_extension": ".py",
   "mimetype": "text/x-python",
   "name": "python",
   "nbconvert_exporter": "python",
   "pygments_lexer": "ipython3",
   "version": "3.12.6"
  }
 },
 "nbformat": 4,
 "nbformat_minor": 5
}
