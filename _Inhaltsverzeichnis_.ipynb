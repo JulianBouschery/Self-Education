{
 "cells": [
  {
   "cell_type": "markdown",
   "id": "727faec0-9819-47a7-a96a-464da8a4fdd0",
   "metadata": {},
   "source": [
    "# Self-Education"
   ]
  },
  {
   "cell_type": "markdown",
   "id": "ef274fb8-3283-4de2-902c-0a378aa994b1",
   "metadata": {},
   "source": [
    "Text den ich ausfeilen muss, warum ich das ganze hier mache, wenn ich es auf GitHub freigeben möchte."
   ]
  },
  {
   "cell_type": "markdown",
   "id": "ce4c1a26-8679-429d-98d7-7f859d52ac05",
   "metadata": {},
   "source": [
    "Da ich ein auditiver Lerntyp bin und dass Programmieren eher Schreib- und Leselastig ist, ist die beste Art zu lernen für mich persönlich mir detailierte Anleitungen zu schreiben wie etwas funktioniert und diese dann immer wieder durch zugehen, während ich an Projekten arbeite.\n",
    "\n",
    "Der Vorteil für dich ist, dass du kostenlos eine große Sammlung von Lernunterlagen bekommst, mit denen auch du Python, Git, SQL, Linux, Data-Science und mehr lernen kannst, wenn du das möchtest."
   ]
  },
  {
   "cell_type": "markdown",
   "id": "09171ad6-bea2-49ed-8ef6-d015f08eab2b",
   "metadata": {},
   "source": [
    "# Inhaltsverzeichnis Self-Education"
   ]
  },
  {
   "cell_type": "markdown",
   "id": "65725ca1-86bb-493e-b0c6-4a8162017917",
   "metadata": {},
   "source": [
    "[Python](./Python/_Python_.ipynb)"
   ]
  },
  {
   "cell_type": "markdown",
   "id": "56e825d4-6969-4117-9b0b-0e9b8dd15971",
   "metadata": {},
   "source": [
    "[Windows](./Windows/_Inhaltsverzeichnis_Windows_.ipynb)"
   ]
  },
  {
   "cell_type": "markdown",
   "id": "d0a82e68-fc80-4ff9-82dd-da0c2493dce5",
   "metadata": {},
   "source": [
    "[Linux](./Linux/_Inhaltsverzeichnis-Linux_.ipynb)"
   ]
  },
  {
   "cell_type": "markdown",
   "id": "3d827a6c-00ad-4a6b-8522-4ebc76ba3608",
   "metadata": {},
   "source": [
    "[Git und GitHub (Versionskontrolle)](./Git/_Git_Anleitung_.ipynb)"
   ]
  },
  {
   "cell_type": "markdown",
   "id": "ef697240-23c5-4724-8c54-ce66a0524c7d",
   "metadata": {},
   "source": [
    "[Umgang mit Terminal / Konsole](./Terminal/_Inhaltsverzeichnis_Terminal.ipynb)"
   ]
  },
  {
   "cell_type": "markdown",
   "id": "46536860-725c-4dca-87c9-c367921877de",
   "metadata": {},
   "source": [
    "[Datenbanksprache SQL](./SQL/_Inhaltsverzeichnis_SQL_.ipynb)"
   ]
  },
  {
   "cell_type": "markdown",
   "id": "f4b09021-1ef2-4de8-bb43-4cde08c4aec0",
   "metadata": {},
   "source": [
    "[Data-Analyses](./Data_Analyses/_Inhaltsverzeichnis_Data_Analyses_.ipynb) (Setzt Grundkentnisse in Python vorraus. Siehe oben.)"
   ]
  },
  {
   "cell_type": "markdown",
   "id": "ca34ab0b-3d1e-47b9-8db5-1e92d4cbb508",
   "metadata": {},
   "source": [
    "Bedienugshilfe und Tricks zu [Jupyter Lab](./Jupyter_Lab/_Inhaltsverzeichnis_Jupyter_Lab_.ipynb)"
   ]
  },
  {
   "cell_type": "code",
   "execution_count": null,
   "id": "5f401446-4056-4136-a3d7-122d8e4d928b",
   "metadata": {},
   "outputs": [],
   "source": []
  }
 ],
 "metadata": {
  "kernelspec": {
   "display_name": "Python 3 (ipykernel)",
   "language": "python",
   "name": "python3"
  },
  "language_info": {
   "codemirror_mode": {
    "name": "ipython",
    "version": 3
   },
   "file_extension": ".py",
   "mimetype": "text/x-python",
   "name": "python",
   "nbconvert_exporter": "python",
   "pygments_lexer": "ipython3",
   "version": "3.12.6"
  }
 },
 "nbformat": 4,
 "nbformat_minor": 5
}
