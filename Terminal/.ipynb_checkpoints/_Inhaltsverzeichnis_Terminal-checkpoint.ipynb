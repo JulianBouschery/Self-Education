{
 "cells": [
  {
   "cell_type": "markdown",
   "id": "d9af52da-af1a-43b5-920b-9e81edf65c20",
   "metadata": {},
   "source": [
    "# Inhaltsverzeichnis Terminal / Konsole"
   ]
  },
  {
   "cell_type": "code",
   "execution_count": null,
   "id": "27d219ac-8348-4aff-87da-5fe3a17cd5f4",
   "metadata": {},
   "outputs": [],
   "source": []
  }
 ],
 "metadata": {
  "kernelspec": {
   "display_name": "Python 3 (ipykernel)",
   "language": "python",
   "name": "python3"
  },
  "language_info": {
   "codemirror_mode": {
    "name": "ipython",
    "version": 3
   },
   "file_extension": ".py",
   "mimetype": "text/x-python",
   "name": "python",
   "nbconvert_exporter": "python",
   "pygments_lexer": "ipython3",
   "version": "3.12.6"
  }
 },
 "nbformat": 4,
 "nbformat_minor": 5
}
