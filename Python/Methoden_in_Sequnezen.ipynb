{
 "cells": [
  {
   "cell_type": "markdown",
   "id": "3bcff5c1-2819-4c23-9ed8-3678bdd8bda4",
   "metadata": {},
   "source": [
    "[Zurück zum Inhaltsverzeichnis](_Inhaltsverzeichnis_.ipynb)"
   ]
  },
  {
   "cell_type": "markdown",
   "id": "ce9110e9-dac4-4a60-b067-4f01d566c5e8",
   "metadata": {},
   "source": [
    "## Methoden in Sequenzen"
   ]
  },
  {
   "cell_type": "markdown",
   "id": "2d2dad8b-1815-43df-920f-97c5af0d88e2",
   "metadata": {},
   "source": [
    "Es gibt zwei Methoden die in den Sequenzen (list, str, und tuple) definiert sind.\n",
    "\n",
    "Count und Index\n"
   ]
  },
  {
   "cell_type": "markdown",
   "id": "20c43467-7d74-4f51-a1d3-d43383d0797a",
   "metadata": {},
   "source": [
    "Nachfrage: \n",
    "\n",
    "**Wie kann ich Objekte zählen?** \n",
    "\n",
    "1. Umständlicher Weg: (Dictionary => dictionary[such_wert] = dictionary.get(such_wert, 0)+1) \n",
    "2. `collections`-Modul in Python hat eine Klasse Counter, die macht das in einer Zeile"
   ]
  },
  {
   "cell_type": "code",
   "execution_count": 10,
   "id": "ab94526f-f433-45c1-8214-1621bcf396d3",
   "metadata": {
    "scrolled": true,
    "tags": []
   },
   "outputs": [
    {
     "data": {
      "text/plain": [
       "3"
      ]
     },
     "execution_count": 10,
     "metadata": {},
     "output_type": "execute_result"
    }
   ],
   "source": [
    "liste = [3, 10,4, 5, 6, 7, 8, 10, 10]\n",
    "liste.count(10)"
   ]
  },
  {
   "cell_type": "code",
   "execution_count": 60,
   "id": "b527d6a9-77f7-46e1-907f-2d224d956b35",
   "metadata": {
    "tags": []
   },
   "outputs": [
    {
     "data": {
      "text/plain": [
       "6"
      ]
     },
     "execution_count": 60,
     "metadata": {},
     "output_type": "execute_result"
    }
   ],
   "source": [
    "stringy = \"Abracadabra Rhababer\"\n",
    "stringy.count(\"a\")"
   ]
  },
  {
   "cell_type": "code",
   "execution_count": 61,
   "id": "0bc5d642-71d1-41ae-abd8-7b4845be26dd",
   "metadata": {
    "scrolled": true,
    "tags": []
   },
   "outputs": [
    {
     "data": {
      "text/plain": [
       "3"
      ]
     },
     "execution_count": 61,
     "metadata": {},
     "output_type": "execute_result"
    }
   ],
   "source": [
    "tuple_2 = 3, 10,4, 5, 6, 7, 8, 10, 10\n",
    "tuple_2.count(10)"
   ]
  },
  {
   "cell_type": "markdown",
   "id": "ba62d63c-0216-48ab-b0b3-4a1ba3793119",
   "metadata": {},
   "source": [
    "## count und index"
   ]
  },
  {
   "cell_type": "markdown",
   "id": "333273a4-b0bb-4299-bc55-71cc2ef537e8",
   "metadata": {},
   "source": [
    "Syntax:\n",
    "\n",
    "`sequenz` **.** `count(such_objekt)`  => Ergebnis ist ein `int` mit der Anzahl des Vorkommens dieses such_objekts\n",
    "\n",
    "Die Suche kann um weitere Parameter (Start und Ende des Suchbereichs) ergänzt werden. \n",
    "\n",
    "\n",
    "\n",
    "\n",
    "Beispiel mit Start:                                                                                                \n",
    "\n",
    "`sequenz` **.** `count(such_objekt, start_der_suche_als_index)`  \n",
    "\n",
    "`sequenz` **.** `count(obj, start)` \n",
    "=> Ergebnis ist ein `int` mit der Anzahl des Vorkommens dieses such_objekts beginnend in der Index-Position `start_der_suche_als_index`\n",
    "\n",
    "\n",
    "Beispiel mit Start und Ende:                                                                                                \n",
    "\n",
    "`sequenz` **.** `count(such_objekt, start_der_suche_als_index, vor_hier_ende_der_such)`   \n",
    "`sequenz` **.** `count(obj, start,ende)`                                                                     \n",
    "\n",
    "=> Ergebnis ist ein `int` mit der Anzahl des Vorkommens dieses such_objekts beginnend in der Index-Position `start_der_suche_als_index` und endet VOR (also ohne den) dem Index `vor_hier_ende_der_suche`"
   ]
  },
  {
   "cell_type": "markdown",
   "id": "02b67b2f-6236-45cc-b4b8-6cb05260473d",
   "metadata": {
    "tags": []
   },
   "source": [
    "### `sequenz` .`count(obj, start)` "
   ]
  },
  {
   "cell_type": "code",
   "execution_count": 62,
   "id": "38f66e43-9117-461f-9a07-4a6102d18529",
   "metadata": {
    "tags": []
   },
   "outputs": [],
   "source": [
    "stringy.count(\"a\", -5)"
   ]
  },
  {
   "cell_type": "code",
   "execution_count": 64,
   "id": "ba98b0e7-5fd2-424a-9a4e-28500fec2543",
   "metadata": {
    "tags": []
   },
   "outputs": [
    {
     "data": {
      "text/plain": [
       "1"
      ]
     },
     "execution_count": 64,
     "metadata": {},
     "output_type": "execute_result"
    }
   ],
   "source": [
    "stringy.count(\"a\", 15)"
   ]
  },
  {
   "cell_type": "markdown",
   "id": "cd3a34cf-6aeb-4509-8bec-1d04c2ddbb26",
   "metadata": {},
   "source": [
    "Zur Erläuterung hier Slicing, das wir später im Detail einüben."
   ]
  },
  {
   "cell_type": "code",
   "execution_count": 65,
   "id": "73301d76-7ab8-4f80-b046-a17262ee217f",
   "metadata": {
    "tags": []
   },
   "outputs": [
    {
     "data": {
      "text/plain": [
       "'baber'"
      ]
     },
     "execution_count": 65,
     "metadata": {},
     "output_type": "execute_result"
    }
   ],
   "source": [
    "stringy[15:]"
   ]
  },
  {
   "cell_type": "code",
   "execution_count": 63,
   "id": "72a69411-933d-4434-a2d5-32d068bedc47",
   "metadata": {
    "tags": []
   },
   "outputs": [
    {
     "data": {
      "text/plain": [
       "'baber'"
      ]
     },
     "execution_count": 63,
     "metadata": {},
     "output_type": "execute_result"
    }
   ],
   "source": [
    "stringy[-5:] # Zerschneide den String, beginne bei der vorvorvorvorletzen Zeichen -5, letzte Zeichen ist -1"
   ]
  },
  {
   "cell_type": "code",
   "execution_count": 66,
   "id": "d7de26fa-e72f-4019-9173-a8686b7f32f9",
   "metadata": {
    "tags": []
   },
   "outputs": [
    {
     "data": {
      "text/plain": [
       "'bab'"
      ]
     },
     "execution_count": 66,
     "metadata": {},
     "output_type": "execute_result"
    }
   ],
   "source": [
    "stringy[-5:-2]"
   ]
  },
  {
   "cell_type": "code",
   "execution_count": 67,
   "id": "7962eb74-4847-494b-b355-b798627b8b70",
   "metadata": {
    "tags": []
   },
   "outputs": [
    {
     "data": {
      "text/plain": [
       "'babe'"
      ]
     },
     "execution_count": 67,
     "metadata": {},
     "output_type": "execute_result"
    }
   ],
   "source": [
    "stringy[-5:-1]"
   ]
  },
  {
   "cell_type": "code",
   "execution_count": 81,
   "id": "33448a25-393a-46c9-8b09-0005a8627c0e",
   "metadata": {
    "tags": []
   },
   "outputs": [
    {
     "data": {
      "text/plain": [
       "True"
      ]
     },
     "execution_count": 81,
     "metadata": {},
     "output_type": "execute_result"
    }
   ],
   "source": [
    "stringy[-5:len(stringy)] == stringy[-5:] # gilt immer"
   ]
  },
  {
   "cell_type": "code",
   "execution_count": 73,
   "id": "cba44f75-1416-4cdf-8f05-7449bf6bf3d8",
   "metadata": {
    "tags": []
   },
   "outputs": [
    {
     "data": {
      "text/plain": [
       "'baber'"
      ]
     },
     "execution_count": 73,
     "metadata": {},
     "output_type": "execute_result"
    }
   ],
   "source": [
    "stringy[-5:2000]# Beim Slicen kann man sogar Indizes verwenden die nicht existieren"
   ]
  },
  {
   "cell_type": "code",
   "execution_count": 79,
   "id": "d1e11464-f81a-418f-b7f5-88dc299ca76d",
   "metadata": {
    "tags": []
   },
   "outputs": [
    {
     "data": {
      "text/plain": [
       "'ahillaH'"
      ]
     },
     "execution_count": 79,
     "metadata": {},
     "output_type": "execute_result"
    }
   ],
   "source": [
    "\"Hallihallo\"[-4:0:-1]"
   ]
  },
  {
   "cell_type": "code",
   "execution_count": 74,
   "id": "413ad149-bd99-4cf8-9f4f-42d0a0c1bb3d",
   "metadata": {
    "tags": []
   },
   "outputs": [],
   "source": [
    "# Beim Indizieren, ist das im lesenden Fall IMMER ein Fehler"
   ]
  },
  {
   "cell_type": "code",
   "execution_count": 75,
   "id": "300a13f3-93c6-46dd-9f72-c05da26fa0f0",
   "metadata": {
    "tags": []
   },
   "outputs": [
    {
     "data": {
      "text/plain": [
       "8"
      ]
     },
     "execution_count": 75,
     "metadata": {},
     "output_type": "execute_result"
    }
   ],
   "source": [
    "liste = [3, 4, 5, 6, 7, 8, 9, 10]\n",
    "len(liste)"
   ]
  },
  {
   "cell_type": "code",
   "execution_count": 82,
   "id": "6d7e6bb9-f643-4294-9fec-010b055278ca",
   "metadata": {
    "tags": []
   },
   "outputs": [
    {
     "ename": "IndexError",
     "evalue": "list index out of range",
     "output_type": "error",
     "traceback": [
      "\u001b[0;31m---------------------------------------------------------------------------\u001b[0m",
      "\u001b[0;31mIndexError\u001b[0m                                Traceback (most recent call last)",
      "\u001b[0;32m/var/folders/98/zxnb__6d3hn1b82jwdhkbs7m0000gn/T/ipykernel_23693/1413817649.py\u001b[0m in \u001b[0;36m<module>\u001b[0;34m\u001b[0m\n\u001b[1;32m      1\u001b[0m \u001b[0;31m# Beim Indizieren muss der Index existieren, sonst gibt es einen Fehler\u001b[0m\u001b[0;34m\u001b[0m\u001b[0;34m\u001b[0m\u001b[0;34m\u001b[0m\u001b[0m\n\u001b[0;32m----> 2\u001b[0;31m \u001b[0mliste\u001b[0m\u001b[0;34m[\u001b[0m\u001b[0;36m8\u001b[0m\u001b[0;34m]\u001b[0m\u001b[0;34m\u001b[0m\u001b[0;34m\u001b[0m\u001b[0m\n\u001b[0m",
      "\u001b[0;31mIndexError\u001b[0m: list index out of range"
     ]
    }
   ],
   "source": [
    "# Beim Indizieren muss der Index existieren, sonst gibt es einen Fehler\n",
    "liste[8]"
   ]
  },
  {
   "cell_type": "markdown",
   "id": "9211ad12-a3d4-41d6-8599-e7e77daa414a",
   "metadata": {},
   "source": [
    "### `sequenz` .`count(obj, start,ende)` "
   ]
  },
  {
   "cell_type": "code",
   "execution_count": 84,
   "id": "fbdee9a8-032a-4d97-9e6e-8b74a849cb04",
   "metadata": {
    "tags": []
   },
   "outputs": [
    {
     "data": {
      "text/plain": [
       "'Abracadabra Rhababer'"
      ]
     },
     "execution_count": 84,
     "metadata": {},
     "output_type": "execute_result"
    }
   ],
   "source": [
    "stringy"
   ]
  },
  {
   "cell_type": "code",
   "execution_count": 85,
   "id": "bcce57d3-f239-494f-b904-25831a84237d",
   "metadata": {
    "tags": []
   },
   "outputs": [
    {
     "data": {
      "text/plain": [
       "4"
      ]
     },
     "execution_count": 85,
     "metadata": {},
     "output_type": "execute_result"
    }
   ],
   "source": [
    "stringy.count(\"a\", 4,16)"
   ]
  },
  {
   "cell_type": "code",
   "execution_count": 86,
   "id": "53694484-d940-4ab1-bf82-8967559f62e7",
   "metadata": {
    "tags": []
   },
   "outputs": [
    {
     "data": {
      "text/plain": [
       "'cadabra Rhab'"
      ]
     },
     "execution_count": 86,
     "metadata": {},
     "output_type": "execute_result"
    }
   ],
   "source": [
    "stringy[4:16]"
   ]
  },
  {
   "cell_type": "code",
   "execution_count": 21,
   "id": "e89ef31c-41e5-45a3-950d-6c18184f9acb",
   "metadata": {
    "tags": []
   },
   "outputs": [],
   "source": [
    "liste = [3, 4, 5, 6, 7, 8, 9, 10]\n"
   ]
  },
  {
   "cell_type": "code",
   "execution_count": 1,
   "id": "4dd5a83c-f867-46dd-aafa-3dfd037f5ae6",
   "metadata": {
    "tags": []
   },
   "outputs": [
    {
     "data": {
      "text/plain": [
       "range(3, 11)"
      ]
     },
     "execution_count": 1,
     "metadata": {},
     "output_type": "execute_result"
    }
   ],
   "source": [
    "range(3,11) # Auch das ist eine Sequenz"
   ]
  },
  {
   "cell_type": "code",
   "execution_count": 2,
   "id": "9be5ff3d-f5c9-4a32-82b6-e53c86b4868a",
   "metadata": {
    "tags": []
   },
   "outputs": [
    {
     "data": {
      "text/plain": [
       "[3, 4, 5, 6, 7, 8, 9, 10]"
      ]
     },
     "execution_count": 2,
     "metadata": {},
     "output_type": "execute_result"
    }
   ],
   "source": [
    "list(range(3,11))"
   ]
  },
  {
   "cell_type": "markdown",
   "id": "9bc6882a-7929-4e28-b4a5-a03eb82f268c",
   "metadata": {},
   "source": [
    "## `sequenz` .`index(obj, start,ende)` "
   ]
  },
  {
   "cell_type": "code",
   "execution_count": 87,
   "id": "0afd169e-c45e-402a-aa74-d864fd280e29",
   "metadata": {
    "tags": []
   },
   "outputs": [
    {
     "data": {
      "text/plain": [
       "'Abracadabra Rhababer'"
      ]
     },
     "execution_count": 87,
     "metadata": {},
     "output_type": "execute_result"
    }
   ],
   "source": [
    "stringy"
   ]
  },
  {
   "cell_type": "code",
   "execution_count": 90,
   "id": "449a92cd-7cbb-443c-b5bf-47a91ae92546",
   "metadata": {
    "tags": []
   },
   "outputs": [
    {
     "data": {
      "text/plain": [
       "3"
      ]
     },
     "execution_count": 90,
     "metadata": {},
     "output_type": "execute_result"
    }
   ],
   "source": [
    "stringy.index(\"a\") # Laufe von links durch die Sequenz, wenn du das a zum ersten mal siehst, gib mir den \n",
    "#index zurück"
   ]
  },
  {
   "cell_type": "code",
   "execution_count": 89,
   "id": "cbe47e80-277c-4716-b22c-e030c4a4d76e",
   "metadata": {
    "tags": []
   },
   "outputs": [
    {
     "data": {
      "text/plain": [
       "'a'"
      ]
     },
     "execution_count": 89,
     "metadata": {},
     "output_type": "execute_result"
    }
   ],
   "source": [
    "stringy[3]"
   ]
  },
  {
   "cell_type": "code",
   "execution_count": 92,
   "id": "15d85b78-e1a7-4f8e-8842-f3e73f8870f7",
   "metadata": {
    "tags": []
   },
   "outputs": [
    {
     "data": {
      "text/plain": [
       "0"
      ]
     },
     "execution_count": 92,
     "metadata": {},
     "output_type": "execute_result"
    }
   ],
   "source": [
    "stringy.lower().index(\"a\")"
   ]
  },
  {
   "cell_type": "markdown",
   "id": "ad24f1cb-32d8-4357-9e88-31e379185492",
   "metadata": {},
   "source": [
    "Warnung, index gibt einen Fehler, wenn das Objekt nicht gefunden wird. Im PCAP lernen wir, das für str (nicht aber für list und tuple) es eine weitere Methode gibt nämlich find. Und find wirft keinen Fehler sondern gibt -1 als Ergebnis wenn das Objekt nicht gefunden wurde.\n"
   ]
  },
  {
   "cell_type": "code",
   "execution_count": 95,
   "id": "dfa4a655-e04c-4f36-8278-82257e7fe5a2",
   "metadata": {
    "tags": []
   },
   "outputs": [
    {
     "data": {
      "text/plain": [
       "-1"
      ]
     },
     "execution_count": 95,
     "metadata": {},
     "output_type": "execute_result"
    }
   ],
   "source": [
    "stringy.find(\"z\") # index -1 hier code für NICHT GEFUNDEN"
   ]
  },
  {
   "cell_type": "code",
   "execution_count": 96,
   "id": "2e94e35b-9280-4974-94db-b56af7bc59a8",
   "metadata": {
    "tags": []
   },
   "outputs": [
    {
     "name": "stdout",
     "output_type": "stream",
     "text": [
      "z nicht im Wort\n"
     ]
    }
   ],
   "source": [
    "if stringy.find(\"z\")<0:\n",
    "    print(\"z nicht im Wort\")"
   ]
  },
  {
   "cell_type": "code",
   "execution_count": 93,
   "id": "7669cf06-a9df-4a24-a651-4780b55648d7",
   "metadata": {
    "tags": []
   },
   "outputs": [
    {
     "ename": "ValueError",
     "evalue": "substring not found",
     "output_type": "error",
     "traceback": [
      "\u001b[0;31m---------------------------------------------------------------------------\u001b[0m",
      "\u001b[0;31mValueError\u001b[0m                                Traceback (most recent call last)",
      "\u001b[0;32m/var/folders/98/zxnb__6d3hn1b82jwdhkbs7m0000gn/T/ipykernel_23693/2244725745.py\u001b[0m in \u001b[0;36m<module>\u001b[0;34m\u001b[0m\n\u001b[0;32m----> 1\u001b[0;31m \u001b[0mstringy\u001b[0m\u001b[0;34m.\u001b[0m\u001b[0mindex\u001b[0m\u001b[0;34m(\u001b[0m\u001b[0;34m\"z\"\u001b[0m\u001b[0;34m)\u001b[0m\u001b[0;34m\u001b[0m\u001b[0;34m\u001b[0m\u001b[0m\n\u001b[0m",
      "\u001b[0;31mValueError\u001b[0m: substring not found"
     ]
    }
   ],
   "source": [
    "stringy.index(\"z\")"
   ]
  },
  {
   "cell_type": "code",
   "execution_count": 94,
   "id": "fcf4f5fe-e7d2-41b9-90e6-631f304ab0ef",
   "metadata": {
    "tags": []
   },
   "outputs": [
    {
     "ename": "ValueError",
     "evalue": "tuple.index(x): x not in tuple",
     "output_type": "error",
     "traceback": [
      "\u001b[0;31m---------------------------------------------------------------------------\u001b[0m",
      "\u001b[0;31mValueError\u001b[0m                                Traceback (most recent call last)",
      "\u001b[0;32m/var/folders/98/zxnb__6d3hn1b82jwdhkbs7m0000gn/T/ipykernel_23693/3177219572.py\u001b[0m in \u001b[0;36m<module>\u001b[0;34m\u001b[0m\n\u001b[1;32m      1\u001b[0m \u001b[0mtuppy\u001b[0m \u001b[0;34m=\u001b[0m \u001b[0;36m1\u001b[0m\u001b[0;34m,\u001b[0m\u001b[0;36m2\u001b[0m\u001b[0;34m,\u001b[0m\u001b[0;36m3\u001b[0m\u001b[0;34m,\u001b[0m\u001b[0;36m4\u001b[0m\u001b[0;34m,\u001b[0m\u001b[0;36m5\u001b[0m\u001b[0;34m\u001b[0m\u001b[0;34m\u001b[0m\u001b[0m\n\u001b[0;32m----> 2\u001b[0;31m \u001b[0mtuppy\u001b[0m\u001b[0;34m.\u001b[0m\u001b[0mindex\u001b[0m\u001b[0;34m(\u001b[0m\u001b[0;36m6\u001b[0m\u001b[0;34m)\u001b[0m\u001b[0;34m\u001b[0m\u001b[0;34m\u001b[0m\u001b[0m\n\u001b[0m",
      "\u001b[0;31mValueError\u001b[0m: tuple.index(x): x not in tuple"
     ]
    }
   ],
   "source": [
    "tuppy = 1,2,3,4,5\n",
    "tuppy.index(6)"
   ]
  },
  {
   "cell_type": "code",
   "execution_count": 99,
   "id": "29cf46f8-ebeb-4825-a8e0-05dac389fe6a",
   "metadata": {
    "tags": []
   },
   "outputs": [
    {
     "name": "stdout",
     "output_type": "stream",
     "text": [
      "Abracadabra Rhababer\n"
     ]
    },
    {
     "data": {
      "text/plain": [
       "5"
      ]
     },
     "execution_count": 99,
     "metadata": {},
     "output_type": "execute_result"
    }
   ],
   "source": [
    "print(stringy)\n",
    "stringy.index(\"a\",5) # Start der Suche inklusive also index 5 kann schon zurückgeben werden"
   ]
  },
  {
   "cell_type": "code",
   "execution_count": 104,
   "id": "b6688e3c-c673-459a-aaab-60d952ada3f5",
   "metadata": {
    "tags": []
   },
   "outputs": [
    {
     "name": "stdout",
     "output_type": "stream",
     "text": [
      "Abracadabra Rhababer\n"
     ]
    },
    {
     "ename": "ValueError",
     "evalue": "substring not found",
     "output_type": "error",
     "traceback": [
      "\u001b[0;31m---------------------------------------------------------------------------\u001b[0m",
      "\u001b[0;31mValueError\u001b[0m                                Traceback (most recent call last)",
      "\u001b[0;32m/var/folders/98/zxnb__6d3hn1b82jwdhkbs7m0000gn/T/ipykernel_23693/2961527845.py\u001b[0m in \u001b[0;36m<module>\u001b[0;34m\u001b[0m\n\u001b[1;32m      1\u001b[0m \u001b[0mprint\u001b[0m\u001b[0;34m(\u001b[0m\u001b[0mstringy\u001b[0m\u001b[0;34m)\u001b[0m\u001b[0;34m\u001b[0m\u001b[0;34m\u001b[0m\u001b[0m\n\u001b[0;32m----> 2\u001b[0;31m \u001b[0mstringy\u001b[0m\u001b[0;34m.\u001b[0m\u001b[0mindex\u001b[0m\u001b[0;34m(\u001b[0m\u001b[0;34m\"b\"\u001b[0m\u001b[0;34m,\u001b[0m\u001b[0;36m2\u001b[0m\u001b[0;34m,\u001b[0m \u001b[0;36m8\u001b[0m\u001b[0;34m)\u001b[0m\u001b[0;34m\u001b[0m\u001b[0;34m\u001b[0m\u001b[0m\n\u001b[0m",
      "\u001b[0;31mValueError\u001b[0m: substring not found"
     ]
    }
   ],
   "source": [
    "print(stringy)\n",
    "stringy.index(\"b\",2, 8)  # Ende ist Exklusive letzter möglicher index ist hier die 7 "
   ]
  },
  {
   "cell_type": "code",
   "execution_count": 105,
   "id": "195e692d-946b-490a-b49e-dd67eb745bc0",
   "metadata": {
    "tags": []
   },
   "outputs": [
    {
     "data": {
      "text/plain": [
       "'racada'"
      ]
     },
     "execution_count": 105,
     "metadata": {},
     "output_type": "execute_result"
    }
   ],
   "source": [
    "stringy[2:8]"
   ]
  },
  {
   "cell_type": "code",
   "execution_count": 106,
   "id": "f49c99ca-cee2-494d-8b6a-dcb25a23b6e8",
   "metadata": {
    "tags": []
   },
   "outputs": [
    {
     "name": "stdout",
     "output_type": "stream",
     "text": [
      "Abracadabra Rhababer\n"
     ]
    },
    {
     "data": {
      "text/plain": [
       "8"
      ]
     },
     "execution_count": 106,
     "metadata": {},
     "output_type": "execute_result"
    }
   ],
   "source": [
    "print(stringy)\n",
    "stringy.index(\"b\",2,9)"
   ]
  },
  {
   "cell_type": "code",
   "execution_count": 107,
   "id": "041bcdd7-df23-4ed5-a1a3-a7ef633104d9",
   "metadata": {
    "scrolled": true,
    "tags": []
   },
   "outputs": [
    {
     "data": {
      "text/plain": [
       "'racadab'"
      ]
     },
     "execution_count": 107,
     "metadata": {},
     "output_type": "execute_result"
    }
   ],
   "source": [
    "stringy[2:9]"
   ]
  }
 ],
 "metadata": {
  "kernelspec": {
   "display_name": "Python 3 (ipykernel)",
   "language": "python",
   "name": "python3"
  },
  "language_info": {
   "codemirror_mode": {
    "name": "ipython",
    "version": 3
   },
   "file_extension": ".py",
   "mimetype": "text/x-python",
   "name": "python",
   "nbconvert_exporter": "python",
   "pygments_lexer": "ipython3",
   "version": "3.12.4"
  }
 },
 "nbformat": 4,
 "nbformat_minor": 5
}
