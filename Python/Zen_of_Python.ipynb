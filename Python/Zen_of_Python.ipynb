{
 "cells": [
  {
   "cell_type": "markdown",
   "id": "858ab180-a98c-41a6-b595-ed4565368a61",
   "metadata": {},
   "source": [
    "[Zurück zum Inhaltsverzeichnis](_Inhaltsverzeichnis_.ipynb)"
   ]
  },
  {
   "cell_type": "markdown",
   "id": "41458777-d383-454d-aa6e-d69016cb02b1",
   "metadata": {},
   "source": [
    "# Definitionen:"
   ]
  },
  {
   "cell_type": "markdown",
   "id": "814cd0ba-1965-4a00-bad7-ebdebe8ddec4",
   "metadata": {},
   "source": [
    "Im Folgenden Dokument sammle ich Definitionen zu allem, was mir in Python wichtig erscheint:"
   ]
  },
  {
   "cell_type": "markdown",
   "id": "2d67801e-83dc-4353-a81a-482bb5c656cc",
   "metadata": {
    "jp-MarkdownHeadingCollapsed": true
   },
   "source": [
    "### 1. The Zen of Python:"
   ]
  },
  {
   "cell_type": "markdown",
   "id": "29e23188-3872-4bba-b213-efe237daee2c",
   "metadata": {},
   "source": [
    "The Zen of Python, by Tim Peters\n",
    "\n",
    "Beautiful is better than ugly.                                                                                        \n",
    "Explicit is better than implicit.                                                                                \n",
    "Simple is better than complex.                                                                                         \n",
    "Complex is better than complicated.                                                                                      \n",
    "Flat is better than nested.                                                                                           \n",
    "Sparse is better than dense.                                                                                           \n",
    "Readability counts.                                                                                                  \n",
    "Special cases aren't special enough to break the rules.                                                                   \n",
    "Although practicality beats purity.                                                                                          \n",
    "Errors should never pass silently.                                                                                        \n",
    "Unless explicitly silenced.                                                                                              \n",
    "In the face of ambiguity, refuse the temptation to guess.                                                                  \n",
    "There should be one-- and preferably only one --obvious way to do it.                                                        \n",
    "Although that way may not be obvious at first unless you're Dutch.                                                            \n",
    "Now is better than never.                                                                                                    \n",
    "Although never is often better than *right* now.                                                                            \n",
    "If the implementation is hard to explain, it's a bad idea.                                                                 \n",
    "If the implementation is easy to explain, it may be a good idea.                                                          \n",
    "Namespaces are one honking great idea -- let's do more of those!"
   ]
  },
  {
   "cell_type": "markdown",
   "id": "3416af87-fd77-4cb7-9b4c-a500809933d0",
   "metadata": {},
   "source": [
    "Das Zen der Python, von Tim Peters (hier einmal auf Deutsch, wobei ich hoffe, dass es keine Übersetzungsfehler gab...)\n",
    "\n",
    "Schön ist besser als hässlich.                                                                               \n",
    "Explizit ist besser als implizit.                                                                                 \n",
    "Einfach ist besser als komplex.                                                                                   \n",
    "Komplex ist besser als kompliziert.                                                                                    \n",
    "Flach ist besser als verschachtelt.                                                                                      \n",
    "Spärlich ist besser als dicht.                                                                                      \n",
    "Lesbarkeit zählt.                                                                                             \n",
    "Sonderfälle sind nicht speziell genug, um die Regeln zu brechen.                                                          \n",
    "Obwohl Praktikabilität die Reinheit übertrifft.                                                                    \n",
    "Fehler sollten niemals lautlos passieren.                                                                            \n",
    "Es sei denn, sie werden ausdrücklich zum Schweigen gebracht.                                                                \n",
    "Im Angesicht von Mehrdeutigkeit sollte man der Versuchung widerstehen, zu raten.                                             \n",
    "Es sollte einen - und vorzugsweise nur einen - offensichtlichen Weg geben, dies zu tun.                                     \n",
    "Auch wenn dieser Weg anfangs vielleicht nicht offensichtlich ist, es sei denn, man ist Niederländer.                            \n",
    "Jetzt ist besser als nie.                                                                                            \n",
    "Obwohl „nie“ oft besser ist als *jetzt*.                                                                          \n",
    "Wenn die Umsetzung schwer zu erklären ist, ist es eine schlechte Idee.                                                      \n",
    "Wenn die Implementierung leicht zu erklären ist, kann sie eine gute Idee sein.                                          \n",
    "Namensräume sind eine großartige Idee - lasst uns mehr davon machen!                                                   \n"
   ]
  },
  {
   "cell_type": "markdown",
   "id": "de2266e1-fa5d-4e46-81c4-23b26da7945d",
   "metadata": {},
   "source": [
    "## Notation:"
   ]
  },
  {
   "cell_type": "markdown",
   "id": "2ecf498a-d8f3-453f-bfdf-11474c115236",
   "metadata": {},
   "source": [
    "﻿Die Notation ist die Möglichkeit, auf ein Objekt zuzugreifen. Du kannst sie verwenden, um eine bestimmte Aktion auszuführen, indem du den Namen des Objekts und die Methode mit einem Punkt oder mit Klammern schreibst: `object.method()` bzw. `object()`.\n",
    "Wenn du die Klammernotation benutzt, musst du die Argumente der Funktion angeben, wenn du sie aufruft."
   ]
  },
  {
   "cell_type": "markdown",
   "id": "1f3295da-8f9f-45f7-a7b0-bf20fee99cdf",
   "metadata": {},
   "source": [
    "Philipp sagt immer achtet auf die „notation“… (Englische ausprache) Was sind notations?                          \n",
    "\n",
    "Laut wikipedia ist eine Notation ist die Benennung von Gegenständen durch das Festhalten (qualitative und quantitative Repräsentation) von Dingen und Bewegungsverläufen in schriftlicher Form mit vereinbarten symbolischen Zeichen. Das Fehlen einer Notation macht es bisweilen unmöglich, eine Handlungsabfolge oder einen komplizierteren Zusammenhang kurz und eindeutig zu vermitteln, bzw. zu erfassen. „Sender“ und „Empfänger“ bedienen sich praktischerweise der gleichen Notation.\n",
    "\n",
    "Beispiel_1:                                                                         \n",
    "Eine Art der Notation sind Noten in der Musik. Durch die Noten wird festgehalten was man tun muss um Instrument X zu spielen…\n",
    "\n",
    "Beispiel_2:                                                                   \n",
    "Ein weiteres Beispiel sind Formeln in der Mathematik. Statt umständlich in Textform zu erklären was genau wie gerechnet werden muss, kannst du es einfach durch eine Formel ausdrücken: ((2x3)x(2x5))\n",
    "\n",
    "In Python brauchen wir die korrekte Notation um Syntaxfehler zu vermeiden. \n",
    "\n",
    "Python dich nicht verstehen, wenn Wörter falsche Reihenfolge sein...\n",
    "\n",
    "[Quell-Link:](https://de.wikipedia.org/wiki/Notation])"
   ]
  },
  {
   "cell_type": "markdown",
   "id": "3a58bb80-618f-4223-966e-078e12ffecda",
   "metadata": {},
   "source": [
    "Beispiel:"
   ]
  },
  {
   "cell_type": "code",
   "execution_count": 16,
   "id": "af9b900a-93a1-4628-beb4-fd6cf6a58e24",
   "metadata": {},
   "outputs": [
    {
     "ename": "SyntaxError",
     "evalue": "invalid syntax (412932130.py, line 1)",
     "output_type": "error",
     "traceback": [
      "\u001b[1;36m  Cell \u001b[1;32mIn[16], line 1\u001b[1;36m\u001b[0m\n\u001b[1;33m    printHelloWorld!\u001b[0m\n\u001b[1;37m                   ^\u001b[0m\n\u001b[1;31mSyntaxError\u001b[0m\u001b[1;31m:\u001b[0m invalid syntax\n"
     ]
    }
   ],
   "source": [
    "printHelloWorld!"
   ]
  },
  {
   "cell_type": "code",
   "execution_count": 11,
   "id": "62651d65-9d33-4e5a-af06-c6fdc0cc2915",
   "metadata": {},
   "outputs": [
    {
     "name": "stdout",
     "output_type": "stream",
     "text": [
      "Hello World!\n"
     ]
    }
   ],
   "source": [
    "print(\"Hello World!\")"
   ]
  },
  {
   "cell_type": "markdown",
   "id": "9ac7b04b-9fdd-4156-9140-5ea65389f282",
   "metadata": {},
   "source": [
    "## Methoden:"
   ]
  },
  {
   "cell_type": "markdown",
   "id": "501e19f7-a015-4bba-bcd5-e0185aeabb34",
   "metadata": {},
   "source": [
    "Methoden sind Funktionen, die über die Attributnotation aufgerufen werden. Es gibt zwei Arten: eingebaute Methoden (wie z. B. append() bei Listen) und Klasseninstanzmethoden. Eingebaute Methoden werden mit den Typen beschrieben, die sie unterstützen."
   ]
  },
  {
   "cell_type": "markdown",
   "id": "b936b92c-5d52-41aa-a642-132a9b402f44",
   "metadata": {},
   "source": [
    "A method is an action that Python can perform on a piece of data.\n",
    "\n",
    "Every method is followed by a set of parentheses, because methods often need additional information to do their work. That information is provided inside the parentheses. The title() function doesn’t need any additional information, so its parentheses are empty.\n",
    "\n",
    "Quelle: Python Crashcurs PDF Seite 20\n",
    "\n",
    "Methsoden werden auf objekte angewandt. \n",
    "\n",
    "Syntax:\n",
    "\n",
    "print(object.method(parameters))\n"
   ]
  },
  {
   "cell_type": "markdown",
   "id": "e2aceaac-6c46-42af-a3d7-dc6ed8f2fb8c",
   "metadata": {},
   "source": [
    "Beispiel:"
   ]
  },
  {
   "cell_type": "code",
   "execution_count": 4,
   "id": "2d6e6e80-8edc-45c6-8238-7cd9526fe340",
   "metadata": {},
   "outputs": [
    {
     "name": "stdout",
     "output_type": "stream",
     "text": [
      "Test\n"
     ]
    }
   ],
   "source": [
    "name = \"test\"\n",
    "print(name.title())"
   ]
  },
  {
   "cell_type": "code",
   "execution_count": 8,
   "id": "d9a54c8b-9a6d-4cdc-9dda-ec82800e4d89",
   "metadata": {},
   "outputs": [
    {
     "name": "stdout",
     "output_type": "stream",
     "text": [
      "Welcome to Python 3.12's help utility! If this is your first time using\n",
      "Python, you should definitely check out the tutorial at\n",
      "https://docs.python.org/3.12/tutorial/.\n",
      "\n",
      "Enter the name of any module, keyword, or topic to get help on writing\n",
      "Python programs and using Python modules.  To get a list of available\n",
      "modules, keywords, symbols, or topics, enter \"modules\", \"keywords\",\n",
      "\"symbols\", or \"topics\".\n",
      "\n",
      "Each module also comes with a one-line summary of what it does; to list\n",
      "the modules whose name or summary contain a given string such as \"spam\",\n",
      "enter \"modules spam\".\n",
      "\n",
      "To quit this help utility and return to the interpreter,\n",
      "enter \"q\" or \"quit\".\n",
      "\n"
     ]
    },
    {
     "name": "stdin",
     "output_type": "stream",
     "text": [
      "help>  method\n"
     ]
    },
    {
     "name": "stdout",
     "output_type": "stream",
     "text": [
      "No Python documentation found for 'method'.\n",
      "Use help() to get the interactive help utility.\n",
      "Use help(str) for help on the str class.\n",
      "\n"
     ]
    },
    {
     "name": "stdin",
     "output_type": "stream",
     "text": [
      "help>  buildin\n"
     ]
    },
    {
     "name": "stdout",
     "output_type": "stream",
     "text": [
      "No Python documentation found for 'buildin'.\n",
      "Use help() to get the interactive help utility.\n",
      "Use help(str) for help on the str class.\n",
      "\n"
     ]
    },
    {
     "name": "stdin",
     "output_type": "stream",
     "text": [
      "help>  functions\n"
     ]
    },
    {
     "name": "stdout",
     "output_type": "stream",
     "text": [
      "No Python documentation found for 'functions'.\n",
      "Use help() to get the interactive help utility.\n",
      "Use help(str) for help on the str class.\n",
      "\n"
     ]
    },
    {
     "name": "stdin",
     "output_type": "stream",
     "text": [
      "help>  func\n"
     ]
    },
    {
     "name": "stdout",
     "output_type": "stream",
     "text": [
      "No Python documentation found for 'func'.\n",
      "Use help() to get the interactive help utility.\n",
      "Use help(str) for help on the str class.\n",
      "\n"
     ]
    },
    {
     "name": "stdin",
     "output_type": "stream",
     "text": [
      "help>  functions\n"
     ]
    },
    {
     "name": "stdout",
     "output_type": "stream",
     "text": [
      "No Python documentation found for 'functions'.\n",
      "Use help() to get the interactive help utility.\n",
      "Use help(str) for help on the str class.\n",
      "\n",
      "\n",
      "You are now leaving help and returning to the Python interpreter.\n",
      "If you want to ask for help on a particular object directly from the\n",
      "interpreter, you can type \"help(object)\".  Executing \"help('string')\"\n",
      "has the same effect as typing a particular string at the help> prompt.\n"
     ]
    }
   ],
   "source": [
    "help()"
   ]
  },
  {
   "cell_type": "markdown",
   "id": "a2cce4e4-3127-47c6-9780-fe8ae60f9ac1",
   "metadata": {},
   "source": [
    "## Funktionen und Buildin-functions"
   ]
  },
  {
   "cell_type": "markdown",
   "id": "1c5a2b56-2c05-42bd-b5d7-df16675d93d3",
   "metadata": {},
   "source": [
    "- Funktionen ermöglichen eine bessere Strukturierung des Programms, indem man einzelene \"Funktionalitäten\" des Programms in unterschiedliche Funktionen auslagert.\n",
    "- Eine Funktion ist wie eine Art Unterprogramm, welches man über die entsprechende Funktionnamen aufrufen kann.\n",
    "- Man erkennt sie an der"
   ]
  },
  {
   "cell_type": "markdown",
   "id": "1f18078f-107e-4be4-bbc2-dc32942d8a6b",
   "metadata": {},
   "source": [
    "Beispiel:"
   ]
  },
  {
   "cell_type": "code",
   "execution_count": null,
   "id": "dd0629c8-71f3-4b62-a17b-0dea040ee4fd",
   "metadata": {},
   "outputs": [],
   "source": [
    "print()"
   ]
  }
 ],
 "metadata": {
  "kernelspec": {
   "display_name": "Python 3 (ipykernel)",
   "language": "python",
   "name": "python3"
  },
  "language_info": {
   "codemirror_mode": {
    "name": "ipython",
    "version": 3
   },
   "file_extension": ".py",
   "mimetype": "text/x-python",
   "name": "python",
   "nbconvert_exporter": "python",
   "pygments_lexer": "ipython3",
   "version": "3.12.3"
  }
 },
 "nbformat": 4,
 "nbformat_minor": 5
}
