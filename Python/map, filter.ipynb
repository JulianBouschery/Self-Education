{
 "cells": [
  {
   "cell_type": "markdown",
   "id": "a09e47df-f6a7-4471-9425-a63bc427fac5",
   "metadata": {},
   "source": [
    "[Zurück zum Inhaltsverzeichnis](_Inhaltsverzeichnis_.ipynb)"
   ]
  },
  {
   "cell_type": "markdown",
   "id": "ff163def-f7e5-48d2-bfd8-6db7f1a22786",
   "metadata": {},
   "source": [
    "# map und filter Funktion"
   ]
  },
  {
   "cell_type": "markdown",
   "id": "ed2003d3-28e4-46a9-90d7-65a3d599d904",
   "metadata": {},
   "source": [
    "## Überblick"
   ]
  },
  {
   "cell_type": "markdown",
   "id": "f31d3261-a1fa-43b7-bcfb-0bcd2f0db1af",
   "metadata": {},
   "source": [
    "\n",
    "Name der Funktion: \n",
    "\n",
    "Instanz der Klasse: \n",
    "\n",
    "Syntax:\n",
    "\n",
    "`abc` `(` `def` `)` \n",
    "\n",
    "```python\n",
    "Parameter: \n",
    "    \n",
    "```\n",
    "Funktion: \n",
    "\n",
    "\n",
    "\n",
    "Default return: \n",
    "```python\n",
    "abc\n",
    "```\n",
    "Error:\n"
   ]
  },
  {
   "cell_type": "markdown",
   "id": "3ba5396d-87d9-466a-8a6a-fb24d089a569",
   "metadata": {},
   "source": [
    "#### Instanz"
   ]
  },
  {
   "cell_type": "code",
   "execution_count": 6,
   "id": "ac568b15-9bf4-49be-b9ed-046bcd8bb1a5",
   "metadata": {},
   "outputs": [
    {
     "name": "stdout",
     "output_type": "stream",
     "text": [
      "<class 'dict'>\n"
     ]
    }
   ],
   "source": [
    "print(type(dict()))"
   ]
  },
  {
   "cell_type": "markdown",
   "id": "f8aff486-218a-42f9-8579-64c69ac43cc5",
   "metadata": {},
   "source": [
    "#### Parameter"
   ]
  },
  {
   "cell_type": "code",
   "execution_count": 1,
   "id": "a7f7aaee-4503-47f8-afe6-aa3047ac6ca6",
   "metadata": {},
   "outputs": [
    {
     "data": {
      "text/plain": [
       "\u001b[1;31mInit signature:\u001b[0m \u001b[0mdict\u001b[0m\u001b[1;33m(\u001b[0m\u001b[0mself\u001b[0m\u001b[1;33m,\u001b[0m \u001b[1;33m/\u001b[0m\u001b[1;33m,\u001b[0m \u001b[1;33m*\u001b[0m\u001b[0margs\u001b[0m\u001b[1;33m,\u001b[0m \u001b[1;33m**\u001b[0m\u001b[0mkwargs\u001b[0m\u001b[1;33m)\u001b[0m\u001b[1;33m\u001b[0m\u001b[1;33m\u001b[0m\u001b[0m\n",
       "\u001b[1;31mDocstring:\u001b[0m     \n",
       "dict() -> new empty dictionary\n",
       "dict(mapping) -> new dictionary initialized from a mapping object's\n",
       "    (key, value) pairs\n",
       "dict(iterable) -> new dictionary initialized as if via:\n",
       "    d = {}\n",
       "    for k, v in iterable:\n",
       "        d[k] = v\n",
       "dict(**kwargs) -> new dictionary initialized with the name=value pairs\n",
       "    in the keyword argument list.  For example:  dict(one=1, two=2)\n",
       "\u001b[1;31mType:\u001b[0m           type\n",
       "\u001b[1;31mSubclasses:\u001b[0m     OrderedDict, defaultdict, Counter, _EnumDict, _Quoter, Bunch, ObjectDict, StgDict, ConvertingDict, Config, ..."
      ]
     },
     "metadata": {},
     "output_type": "display_data"
    }
   ],
   "source": [
    "dict?"
   ]
  },
  {
   "cell_type": "markdown",
   "id": "daf106d7-2703-4ba7-ac30-33dd90d4a7d6",
   "metadata": {},
   "source": [
    "#### return"
   ]
  },
  {
   "cell_type": "code",
   "execution_count": 35,
   "id": "87c20454-7103-46f3-816a-005538ec3a3f",
   "metadata": {},
   "outputs": [
    {
     "data": {
      "text/plain": [
       "{}"
      ]
     },
     "execution_count": 35,
     "metadata": {},
     "output_type": "execute_result"
    }
   ],
   "source": [
    "# Default return: Ohne Argument => leeres dict\n",
    "dict1 = dict()\n",
    "dict1"
   ]
  },
  {
   "cell_type": "code",
   "execution_count": 37,
   "id": "0e2de6f1-0c34-4cb5-8523-75bdd9b369f0",
   "metadata": {},
   "outputs": [
    {
     "data": {
      "text/plain": [
       "{'key1': 'value1', 'key2': 'value2'}"
      ]
     },
     "execution_count": 37,
     "metadata": {},
     "output_type": "execute_result"
    }
   ],
   "source": [
    "# return: Mit Argumenten --> befülltes Dictionary\n",
    "dict2 = dict([(\"key1\",\"value1\"),(\"key2\",\"value2\")])\n",
    "dict2"
   ]
  },
  {
   "cell_type": "markdown",
   "id": "2b5b4a04-02fc-49e4-a0c9-7a63b341a8d5",
   "metadata": {},
   "source": [
    "### Error:"
   ]
  },
  {
   "cell_type": "code",
   "execution_count": null,
   "id": "939192a9-0f79-4b5a-948e-e3fc97252d79",
   "metadata": {},
   "outputs": [],
   "source": []
  },
  {
   "cell_type": "code",
   "execution_count": null,
   "id": "23e5f445-3de5-4b2b-8226-7c21109b9bae",
   "metadata": {},
   "outputs": [],
   "source": []
  },
  {
   "cell_type": "markdown",
   "id": "08c5d362-fbad-40f5-9766-964b063bb533",
   "metadata": {},
   "source": [
    "## Detailierte Erklärung"
   ]
  },
  {
   "cell_type": "code",
   "execution_count": null,
   "id": "ad79111a-7227-4926-a104-86074230dea1",
   "metadata": {},
   "outputs": [],
   "source": []
  },
  {
   "cell_type": "code",
   "execution_count": 227,
   "id": "294a2520-5350-4e38-8c4f-c34c4e151738",
   "metadata": {
    "tags": []
   },
   "outputs": [
    {
     "data": {
      "text/plain": [
       "'1x|x2x|x3'"
      ]
     },
     "execution_count": 227,
     "metadata": {},
     "output_type": "execute_result"
    }
   ],
   "source": [
    "\"x|x\".join(map(lambda x: str(x) ,  (1,2,3)))"
   ]
  },
  {
   "cell_type": "code",
   "execution_count": 228,
   "id": "c352e885-2cf6-4c68-afe4-3b017d54412e",
   "metadata": {
    "tags": []
   },
   "outputs": [
    {
     "data": {
      "text/plain": [
       "<map at 0x11137b6d8>"
      ]
     },
     "execution_count": 228,
     "metadata": {},
     "output_type": "execute_result"
    }
   ],
   "source": [
    "map(lambda x: str(x) ,  (1,2,3))"
   ]
  },
  {
   "cell_type": "code",
   "execution_count": 229,
   "id": "14de8ede-e99d-449e-a42a-3ff7268431e9",
   "metadata": {
    "tags": []
   },
   "outputs": [
    {
     "data": {
      "text/plain": [
       "('1', '2', '3')"
      ]
     },
     "execution_count": 229,
     "metadata": {},
     "output_type": "execute_result"
    }
   ],
   "source": [
    "tuple(map(lambda x: str(x) ,  (1,2,3)))"
   ]
  },
  {
   "cell_type": "code",
   "execution_count": 230,
   "id": "8b260f94-86ec-431f-bdaa-1171d11042fc",
   "metadata": {
    "tags": []
   },
   "outputs": [
    {
     "data": {
      "text/plain": [
       "('1is das nicht toll', '2is das nicht toll', '3is das nicht toll')"
      ]
     },
     "execution_count": 230,
     "metadata": {},
     "output_type": "execute_result"
    }
   ],
   "source": [
    "tuple(map(lambda x: str(x)+\"is das nicht toll\" ,  (1,2,3)))"
   ]
  },
  {
   "cell_type": "code",
   "execution_count": 232,
   "id": "5ab42c61-c4ff-4ab8-9908-f2e072471586",
   "metadata": {
    "tags": []
   },
   "outputs": [
    {
     "data": {
      "text/plain": [
       "(73, 100, 55)"
      ]
     },
     "execution_count": 232,
     "metadata": {},
     "output_type": "execute_result"
    }
   ],
   "source": [
    "tuple(filter(lambda x : x>50, (1,2,42,73,100,1,2,55)))"
   ]
  }
 ],
 "metadata": {
  "kernelspec": {
   "display_name": "Python 3 (ipykernel)",
   "language": "python",
   "name": "python3"
  },
  "language_info": {
   "codemirror_mode": {
    "name": "ipython",
    "version": 3
   },
   "file_extension": ".py",
   "mimetype": "text/x-python",
   "name": "python",
   "nbconvert_exporter": "python",
   "pygments_lexer": "ipython3",
   "version": "3.12.3"
  }
 },
 "nbformat": 4,
 "nbformat_minor": 5
}
