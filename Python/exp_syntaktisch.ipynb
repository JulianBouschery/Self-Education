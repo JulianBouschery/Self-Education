{
 "cells": [
  {
   "cell_type": "markdown",
   "id": "ff3d7a67-a379-4be3-b94c-f2e97a44a887",
   "metadata": {},
   "source": [
    "[Zurück zum Inhaltsverzeichnis](_Inhaltsverzeichnis_.ipynb)"
   ]
  },
  {
   "cell_type": "markdown",
   "id": "2c029a36-dad3-4ed7-a332-c378acd8ba8f",
   "metadata": {},
   "source": [
    "# Erklärung des Begriffs: \"syntaktisch\""
   ]
  },
  {
   "cell_type": "markdown",
   "id": "9560a0da-321e-4f54-ac24-716ebfd6ebdd",
   "metadata": {},
   "source": [
    "Informatik: \n",
    "\n",
    "In der Informatik und speziell in der Programmierung bezieht sich \"syntaktisch\" auf die Regeln, die bestimmen, wie Anweisungen und Deklarationen in einer Programmiersprache strukturiert werden müssen. Diese Regeln werden durch die Syntax der Programmiersprache festgelegt."
   ]
  },
  {
   "cell_type": "code",
   "execution_count": null,
   "id": "243be68b-6383-4c87-b65b-d400fd006cc8",
   "metadata": {},
   "outputs": [],
   "source": []
  }
 ],
 "metadata": {
  "kernelspec": {
   "display_name": "Python 3 (ipykernel)",
   "language": "python",
   "name": "python3"
  },
  "language_info": {
   "codemirror_mode": {
    "name": "ipython",
    "version": 3
   },
   "file_extension": ".py",
   "mimetype": "text/x-python",
   "name": "python",
   "nbconvert_exporter": "python",
   "pygments_lexer": "ipython3",
   "version": "3.12.3"
  }
 },
 "nbformat": 4,
 "nbformat_minor": 5
}
