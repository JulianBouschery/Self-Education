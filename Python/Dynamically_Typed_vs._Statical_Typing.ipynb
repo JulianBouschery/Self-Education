{
 "cells": [
  {
   "cell_type": "markdown",
   "id": "cb4d08b0-8f58-4e26-ab53-1ba39c43afb3",
   "metadata": {},
   "source": [
    "[Zurück zum Inhaltsverzeichnis](_Inhaltsverzeichnis_.ipynb)"
   ]
  },
  {
   "cell_type": "markdown",
   "id": "05e7ef57-c458-47f5-8dd5-d9632b8d2540",
   "metadata": {},
   "source": [
    "## Dynamically Typed vs Statical Typing"
   ]
  },
  {
   "cell_type": "markdown",
   "id": "a760ed6a-e777-4b4d-9211-3041453ade77",
   "metadata": {},
   "source": [
    "In Python entfällt die Variablendeklaration. Also das Festzurren der Variable auf einen Datentyp. In ein und dieselben Variablennamen kann man in Python nacheinander alle Datentypen speichern. "
   ]
  },
  {
   "cell_type": "code",
   "execution_count": 3,
   "id": "1c3aef11-db4e-4c68-9a2d-3cfebdb0a6e8",
   "metadata": {
    "scrolled": true,
    "tags": []
   },
   "outputs": [
    {
     "name": "stdout",
     "output_type": "stream",
     "text": [
      "<class 'int'>\n",
      "<class 'str'>\n",
      "<class 'tuple'>\n",
      "<class 'list'>\n"
     ]
    }
   ],
   "source": [
    "alter = 42\n",
    "print(type(alter))\n",
    "alter = \"Hallo\"\n",
    "print(type(alter))\n",
    "alter = 1,2,3\n",
    "print(type(alter))\n",
    "alter = [1,2,3]\n",
    "print(type(alter))"
   ]
  },
  {
   "cell_type": "markdown",
   "id": "d1289222-3e16-460f-b350-080da5470a1a",
   "metadata": {},
   "source": [
    "### Auch interessant zu diesem Thema:"
   ]
  },
  {
   "cell_type": "markdown",
   "id": "46a22b28-7098-4c46-8c1c-faa60ffbda24",
   "metadata": {},
   "source": [
    "[Variablen](Variablen.ipynb)"
   ]
  },
  {
   "cell_type": "markdown",
   "id": "2f5e3cbf-81d1-4e63-96a8-d7caa28d3a77",
   "metadata": {},
   "source": [
    "[Literale](Literale.ipynb)"
   ]
  },
  {
   "cell_type": "markdown",
   "id": "c1910a3e-bcfd-49b1-84ea-cd23d12476f9",
   "metadata": {},
   "source": [
    "[Definition von legalem und illegalem Code, sowie legalem, aber hässlichem Code...](Legaler_und_illegaler_code.ipynb)"
   ]
  }
 ],
 "metadata": {
  "kernelspec": {
   "display_name": "Python 3 (ipykernel)",
   "language": "python",
   "name": "python3"
  },
  "language_info": {
   "codemirror_mode": {
    "name": "ipython",
    "version": 3
   },
   "file_extension": ".py",
   "mimetype": "text/x-python",
   "name": "python",
   "nbconvert_exporter": "python",
   "pygments_lexer": "ipython3",
   "version": "3.12.3"
  }
 },
 "nbformat": 4,
 "nbformat_minor": 5
}
