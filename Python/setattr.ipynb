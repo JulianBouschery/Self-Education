{
 "cells": [
  {
   "cell_type": "markdown",
   "id": "13b2e067-8788-459a-96de-ae4247521860",
   "metadata": {},
   "source": [
    "# setattr()"
   ]
  },
  {
   "cell_type": "markdown",
   "id": "198751ef-068c-4323-a78d-4d3cac91538a",
   "metadata": {},
   "source": [
    "Siehe auch: [getattr](getattr.ipynb)"
   ]
  },
  {
   "cell_type": "code",
   "execution_count": null,
   "id": "c2885f25-2661-4e38-a0fa-ac35f2827eff",
   "metadata": {},
   "outputs": [],
   "source": []
  }
 ],
 "metadata": {
  "kernelspec": {
   "display_name": "Python 3 (ipykernel)",
   "language": "python",
   "name": "python3"
  },
  "language_info": {
   "codemirror_mode": {
    "name": "ipython",
    "version": 3
   },
   "file_extension": ".py",
   "mimetype": "text/x-python",
   "name": "python",
   "nbconvert_exporter": "python",
   "pygments_lexer": "ipython3",
   "version": "3.12.4"
  }
 },
 "nbformat": 4,
 "nbformat_minor": 5
}
