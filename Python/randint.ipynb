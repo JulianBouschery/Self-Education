{
 "cells": [
  {
   "cell_type": "markdown",
   "id": "d59475f7-bece-437b-9ce1-e23c1c5e5928",
   "metadata": {},
   "source": [
    "[Zurück zum Inhaltsverzeichnis](_Inhaltsverzeichnis_.ipynb)"
   ]
  },
  {
   "cell_type": "markdown",
   "id": "75e46fac-66b5-4cd6-a3c9-a8c9233d809e",
   "metadata": {},
   "source": [
    "[Zurück zu random](random.ipynb)"
   ]
  },
  {
   "cell_type": "markdown",
   "id": "f2c8e78c-a888-4fd1-ae3b-2d51b65fa29c",
   "metadata": {},
   "source": [
    "# randint Methode"
   ]
  },
  {
   "cell_type": "markdown",
   "id": "3468b86e-cf99-4d10-b142-f180bcd0eb7d",
   "metadata": {},
   "source": [
    "Wenn man random.randint(a, b) verwendet, gibt es eine zufällige ganze Zahl N zurück, die im Bereich von a bis b (einschließlich a und b) liegt.\n",
    "\n",
    "Dabei bildet:\n",
    "\n",
    "a: Die untere Grenze des Bereichs.                                                                                     \n",
    "b: Die obere Grenze des Bereichs."
   ]
  },
  {
   "cell_type": "markdown",
   "id": "def2034c-6930-4200-8882-5d96aafa982f",
   "metadata": {},
   "source": [
    "Syntax:\n",
    "\n",
    "`random.randint` `(` `Start` `,` `Stop`  `)`"
   ]
  },
  {
   "cell_type": "code",
   "execution_count": 2,
   "id": "af71019c-2efa-417e-98fe-77828163424b",
   "metadata": {},
   "outputs": [],
   "source": [
    "import random"
   ]
  },
  {
   "cell_type": "code",
   "execution_count": 3,
   "id": "ba60bef5-c93d-4593-a110-b1917edec202",
   "metadata": {},
   "outputs": [
    {
     "name": "stdout",
     "output_type": "stream",
     "text": [
      "Right\n"
     ]
    }
   ],
   "source": [
    "x = (random.randint(0, 1))\n",
    "    \n",
    "if x == 0:\n",
    "    print(\"Left\")\n",
    "elif x == 1:\n",
    "    print(\"Right\")"
   ]
  },
  {
   "cell_type": "markdown",
   "id": "3b3ceebb-f7e2-4d85-81e8-abbf1fb7baa6",
   "metadata": {},
   "source": [
    "In diesem speziellen Fall, random.randint(0, 1), wird eine zufällige Ganzzahl im Bereich von 0 bis 1 (einschließlich 0 und 1) erzeugt. Das bedeutet, dass entweder 0 oder 1 ausgegeben wird.\n",
    "\n",
    "Das kann genutzt werden um \"Zufallsentscheidungen\" wie: \"Recht oder Links\", \"Kopf oder Zahl\" zu bauen."
   ]
  },
  {
   "cell_type": "code",
   "execution_count": 4,
   "id": "85190673-c3ca-418f-bc79-66c19ca7ee95",
   "metadata": {},
   "outputs": [
    {
     "name": "stdout",
     "output_type": "stream",
     "text": [
      "Kopf\n"
     ]
    }
   ],
   "source": [
    "x = (random.randint(0, 1))\n",
    "    \n",
    "if x == 0:\n",
    "    print(\"Kopf\")\n",
    "elif x == 1:\n",
    "    print(\"Zahl\")"
   ]
  },
  {
   "cell_type": "code",
   "execution_count": 5,
   "id": "0157bc06-f90d-4fd5-b2f2-2ec3e0a698fd",
   "metadata": {},
   "outputs": [
    {
     "name": "stdout",
     "output_type": "stream",
     "text": [
      "Zahl 73\n"
     ]
    }
   ],
   "source": [
    "x = (random.randint(0, 100))\n",
    "    \n",
    "if x < 50:\n",
    "    print(\"Kopf\", x)\n",
    "elif x >= 50:\n",
    "    print(\"Zahl\", x)"
   ]
  },
  {
   "cell_type": "code",
   "execution_count": 6,
   "id": "ed58d474-33e8-4d64-a597-795845a25c98",
   "metadata": {
    "scrolled": true
   },
   "outputs": [
    {
     "name": "stdout",
     "output_type": "stream",
     "text": [
      "Zahl 56\n",
      "Kopf 22\n",
      "Kopf 40\n",
      "Kopf 10\n",
      "Kopf 43\n",
      "Kopf 36\n",
      "Kopf 23\n",
      "Kopf 39\n",
      "Zahl 50\n",
      "Zahl 60\n",
      "Zahl 93\n",
      "Zahl 62\n",
      "Kopf 35\n",
      "Zahl 61\n",
      "Kopf 20\n",
      "Zahl 83\n",
      "Kopf 38\n",
      "Kopf 25\n",
      "Zahl 51\n",
      "Kopf 26\n",
      "Kopf 5\n",
      "Zahl 59\n",
      "Kopf 25\n",
      "Zahl 53\n",
      "Kopf 34\n"
     ]
    }
   ],
   "source": [
    "for i in range(25):\n",
    "    x = (random.randint(0, 100))\n",
    "    if x < 50:\n",
    "        print(\"Kopf\", x)\n",
    "    elif x >= 50:\n",
    "        print(\"Zahl\", x)"
   ]
  },
  {
   "cell_type": "code",
   "execution_count": 8,
   "id": "754dc404-b1fd-4ce5-8df8-a7e071e72f32",
   "metadata": {},
   "outputs": [
    {
     "name": "stdout",
     "output_type": "stream",
     "text": [
      "4,10,3,3,10,9,3,3,5,9,"
     ]
    }
   ],
   "source": [
    "for i in range(10):\n",
    "    print(random.randint(1, 10), end = \",\")"
   ]
  },
  {
   "cell_type": "code",
   "execution_count": null,
   "id": "72d61de6-719f-489c-927f-79216e4dbcfb",
   "metadata": {},
   "outputs": [],
   "source": []
  },
  {
   "cell_type": "code",
   "execution_count": null,
   "id": "7f8868f1-bdbe-42f5-9edd-4266a1434124",
   "metadata": {},
   "outputs": [],
   "source": []
  }
 ],
 "metadata": {
  "kernelspec": {
   "display_name": "Python 3 (ipykernel)",
   "language": "python",
   "name": "python3"
  },
  "language_info": {
   "codemirror_mode": {
    "name": "ipython",
    "version": 3
   },
   "file_extension": ".py",
   "mimetype": "text/x-python",
   "name": "python",
   "nbconvert_exporter": "python",
   "pygments_lexer": "ipython3",
   "version": "3.12.3"
  }
 },
 "nbformat": 4,
 "nbformat_minor": 5
}
