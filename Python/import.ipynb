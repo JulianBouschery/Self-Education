{
 "cells": [
  {
   "cell_type": "markdown",
   "id": "e9e4e44c-9afb-41e5-8813-283b51e5cc5f",
   "metadata": {},
   "source": [
    "[Zurück zum Inhaltsverzeichnis](_Inhaltsverzeichnis_.ipynb)"
   ]
  },
  {
   "cell_type": "markdown",
   "id": "156a9379-b03c-4662-b2a4-ccd6e6c4c426",
   "metadata": {},
   "source": [
    "# import"
   ]
  },
  {
   "cell_type": "markdown",
   "id": "aad3d908-84b6-4867-bf71-90ba2d234257",
   "metadata": {},
   "source": [
    "Siehe auch: [import Testing-Area](import_testing_area.ipynb)"
   ]
  },
  {
   "cell_type": "markdown",
   "id": "a8ee69ff-5ab2-4c69-a024-883e17277ad4",
   "metadata": {},
   "source": [
    "Dieses Skript ist noch nicht aufgeräumt. Bitte erst in Testing-Area schauen."
   ]
  },
  {
   "cell_type": "markdown",
   "id": "5dc1d868-a256-4a78-8b0f-831022d4e86b",
   "metadata": {},
   "source": [
    "### Liste der wichtigsten Module:"
   ]
  },
  {
   "cell_type": "code",
   "execution_count": 30,
   "id": "bad2f5c3-2025-44c7-8663-913403bea3f9",
   "metadata": {},
   "outputs": [],
   "source": [
    "import math"
   ]
  },
  {
   "cell_type": "code",
   "execution_count": 29,
   "id": "362bfaa2-6ef6-4676-9e0b-09b79013887a",
   "metadata": {},
   "outputs": [],
   "source": [
    "import string"
   ]
  },
  {
   "cell_type": "markdown",
   "id": "d490bcaa-2e09-4f84-9078-7abaa5e3bae6",
   "metadata": {},
   "source": [
    "#### Hilfreich:"
   ]
  },
  {
   "cell_type": "markdown",
   "id": "24c3dc03-801d-4e85-a0ed-28960630c1f3",
   "metadata": {},
   "source": [
    "Mit import os kannst du dir den genauen Pfad anzeigen lassen, wo dein **Jupyter Lab** liegt, bzw. in welchem Ordner die Datei liegt in der du diesen Code ausführst."
   ]
  },
  {
   "cell_type": "code",
   "execution_count": 34,
   "id": "36160e14-1ad8-4a3b-8c17-31bde8978464",
   "metadata": {},
   "outputs": [
    {
     "data": {
      "text/plain": [
       "'C:\\\\Users\\\\jbous\\\\AppData\\\\Local\\\\Packages\\\\PythonSoftwareFoundation.Python.3.12_qbz5n2kfra8p0\\\\LocalCache\\\\local-packages\\\\Python312\\\\Scripts\\\\Kurs\\\\Projekte\\\\Zusammenfassung'"
      ]
     },
     "execution_count": 34,
     "metadata": {},
     "output_type": "execute_result"
    }
   ],
   "source": [
    "import os\n",
    "\n",
    "os.path.abspath(\".\")"
   ]
  },
  {
   "cell_type": "markdown",
   "id": "701777bb-cdbf-468e-a122-2b4083c88aea",
   "metadata": {
    "jp-MarkdownHeadingCollapsed": true
   },
   "source": [
    "##### Witzig"
   ]
  },
  {
   "cell_type": "code",
   "execution_count": 31,
   "id": "3d778e2d-b5a0-424f-9cb9-9affecb8fb8e",
   "metadata": {},
   "outputs": [],
   "source": [
    "import antigravity"
   ]
  },
  {
   "cell_type": "markdown",
   "id": "7de852e4-cf35-4e85-bd7e-824d2adac696",
   "metadata": {},
   "source": [
    "## Importieren von Modulen"
   ]
  },
  {
   "cell_type": "markdown",
   "id": "a4d0c9f4-05a7-4370-bc14-3b31b36484d2",
   "metadata": {},
   "source": [
    "Syntax:\n",
    "```python\n",
    "import module_name\n",
    "\n",
    "import module_name1 , module_name2 etc."
   ]
  },
  {
   "cell_type": "markdown",
   "id": "fcbfb873-20f9-4509-bd52-5dd0b2b64241",
   "metadata": {},
   "source": [
    "Man kann mehrere Module gleichzeitig importieren indem man sie einfach mit einem Komma getrennt hintereinander schreibt."
   ]
  },
  {
   "cell_type": "markdown",
   "id": "1e6f6f3c-23be-41f0-991d-e0b29a48f7d0",
   "metadata": {},
   "source": [
    "```python\n",
    "from module_name import method (, method2, method3 ...)\n",
    "\n",
    "from module_name import * # importiere ALLE Methoden aus diesem Modul\n",
    "```"
   ]
  },
  {
   "cell_type": "markdown",
   "id": "2d3727f2-bf38-430c-96c0-e3637e3ff4de",
   "metadata": {},
   "source": [
    "### Nützlicher Typ für den Alltag"
   ]
  },
  {
   "cell_type": "markdown",
   "id": "cf815e0b-973a-4d82-b5ff-348ba6900d71",
   "metadata": {},
   "source": [
    "Was sehr nützlich ist, aber man leicht vergessen kann, wenn man es nicht häufig nutzt, ist, dass wenn man ein Module importiert hat, man den Namen des Modules eingeben und dann Tab drücken kann um alle funktionen einsehen zu können, zu dennen man sich mit dem import zugang verschafft hat."
   ]
  },
  {
   "cell_type": "code",
   "execution_count": 7,
   "id": "5279e2c1-8153-42a4-807b-ca1bf27a44a5",
   "metadata": {},
   "outputs": [],
   "source": [
    "import math"
   ]
  },
  {
   "cell_type": "code",
   "execution_count": null,
   "id": "7b36d6b0-a49a-45ca-a75d-404015d84026",
   "metadata": {},
   "outputs": [],
   "source": [
    "math. # Tab und alle verfückbaren Methoden des math-Modules werden vorgeschlagen."
   ]
  },
  {
   "cell_type": "markdown",
   "id": "ea963163-c0ba-4328-8c6f-965b46c0c82c",
   "metadata": {},
   "source": [
    "# Packages"
   ]
  },
  {
   "cell_type": "markdown",
   "id": "17f7f73c-a5c0-4ae5-9ee8-cb3bc4deb199",
   "metadata": {},
   "source": [
    "Unterschied zwischen Modul und Package in zwei Sätzen.\n",
    "\n",
    "modul ist eine Funktion\n",
    "\n",
    "package ist ein Ordner"
   ]
  },
  {
   "cell_type": "markdown",
   "id": "88069666-478c-4d8e-9ffa-ef8aa96baf9e",
   "metadata": {},
   "source": [
    "package und __init__.py --> ChatGPT fragen"
   ]
  },
  {
   "cell_type": "markdown",
   "id": "49afbde9-fd71-4e16-b59d-e348e9cc8685",
   "metadata": {},
   "source": [
    "Framework macht etwas (Framework ist eine fertig geschriebene Script Sammlung die dir schon Fertige FUnktion komprimiert zur verfügung stellen)\n",
    "\n",
    "\n",
    "libiary unterstützt dich bei etwas (viele Pakete zusammen geschnürt die einen bestimmten zweck haben)"
   ]
  },
  {
   "cell_type": "code",
   "execution_count": null,
   "id": "b0426283-537d-414c-8bfc-a54e11bebac2",
   "metadata": {},
   "outputs": [],
   "source": []
  },
  {
   "cell_type": "markdown",
   "id": "f3160c83-68dc-4009-ad5d-acc8ff60649a",
   "metadata": {},
   "source": [
    "# Module Python Essential 2"
   ]
  },
  {
   "cell_type": "markdown",
   "id": "9aa89eac-8ac3-481d-b26d-04e621bdaf42",
   "metadata": {},
   "source": [
    "### Zusammenfassung der Wichtigsten Punkte:"
   ]
  },
  {
   "cell_type": "markdown",
   "id": "eadc2ca5-7c71-4d7b-b752-288df3a7a009",
   "metadata": {},
   "source": [
    "1. Beim allerersten Import des eigentlichen Moduls übersetzt Python dessen Quellcode in das halbkompilierte Format, das in den pyc-Dateien gespeichert ist, und legt diese Dateien im __pycache__-Verzeichnis ab, das sich im Heimatverzeichnis des Moduls befindet."
   ]
  },
  {
   "cell_type": "markdown",
   "id": "6bd7fd62-c349-4004-a243-aa9472e7cfc5",
   "metadata": {},
   "source": [
    "2. Wenn Sie dem Benutzer Ihres Moduls mitteilen wollen, dass eine bestimmte Entität als privat behandelt werden soll (d.h. nicht explizit außerhalb des Moduls verwendet werden soll), können Sie ihren Namen entweder mit dem Präfix `_` oder `__` kennzeichnen. Vergessen Sie nicht, dass es sich hierbei nur um eine Empfehlung handelt, nicht um einen Befehl."
   ]
  },
  {
   "cell_type": "markdown",
   "id": "3d2a7061-2df3-4740-9234-a9a7b54d13f1",
   "metadata": {},
   "source": [
    "3. Die Namen shabang, shebang, hasbang, poundbang und hashpling beschreiben den Digraphen, der als #! geschrieben wird, um Unix-ähnlichen Betriebssystemen mitzuteilen, wie die Python-Quelldatei gestartet werden soll. Unter MS Windows hat diese Konvention keine Auswirkung."
   ]
  },
  {
   "cell_type": "markdown",
   "id": "263c3b4e-a97f-40f1-b409-f74baaacb436",
   "metadata": {},
   "source": [
    "5. Wenn Sie Python davon überzeugen wollen, dass es das Verzeichnis eines Nicht-Standard-Pakets berücksichtigen soll, muss dessen Name in die Liste der Importverzeichnisse, die in der Pfadvariablen des sys-Moduls gespeichert ist, eingefügt/angefügt werden."
   ]
  },
  {
   "cell_type": "markdown",
   "id": "88d10da4-0b46-4f4a-a761-513f1a62b08f",
   "metadata": {},
   "source": [
    "6. Eine Python-Datei namens `__init__.py` wird implizit ausgeführt, wenn ein Paket, das sie enthält, importiert wird, und wird verwendet, um ein Paket und/oder seine Unterpakete (falls vorhanden) zu initialisieren. Die Datei kann leer sein, darf aber nicht fehlen."
   ]
  },
  {
   "cell_type": "markdown",
   "id": "c4d4b94f-7fa4-4b62-9fbc-0b634c72dfab",
   "metadata": {},
   "source": [
    "### Initialisierung"
   ]
  },
  {
   "cell_type": "markdown",
   "id": "b6ef8276-213c-4832-ab73-997275de4539",
   "metadata": {},
   "source": [
    "Siehe auch: [Initialisierung](initialization.ipynb)"
   ]
  },
  {
   "cell_type": "markdown",
   "id": "7a430d1d-3f87-4138-b204-b1a39c8b3302",
   "metadata": {},
   "source": [
    "## Importieren von Code, aus einer anderen Datei"
   ]
  },
  {
   "cell_type": "code",
   "execution_count": 1,
   "id": "3b6b2f71-2396-44bb-ba24-b50d820493b3",
   "metadata": {},
   "outputs": [
    {
     "name": "stdout",
     "output_type": "stream",
     "text": [
      "I like to be a module2.\n",
      "Dieser Code steht in der .py-Datei: \"module2\".\n"
     ]
    }
   ],
   "source": [
    "import module1 "
   ]
  },
  {
   "cell_type": "code",
   "execution_count": 2,
   "id": "2067c277-a994-472a-9c15-c9c48eda9217",
   "metadata": {},
   "outputs": [],
   "source": [
    "import module2 # Warum passiert hier nichts?"
   ]
  },
  {
   "cell_type": "markdown",
   "id": "0615057c-402a-41e3-898a-d2cd36fe3bb4",
   "metadata": {},
   "source": [
    "[Link zu module1.py](module1.py)"
   ]
  },
  {
   "cell_type": "markdown",
   "id": "8c043276-d093-405f-8198-9c346e30a916",
   "metadata": {},
   "source": [
    "[Link zu module2.py](module2.py)"
   ]
  },
  {
   "cell_type": "code",
   "execution_count": 3,
   "id": "555bb532-9ee8-43ef-967e-2bd5f9d4e3c0",
   "metadata": {},
   "outputs": [
    {
     "name": "stdout",
     "output_type": "stream",
     "text": [
      "Dieser Code wird von der der .py-Datei: \"__main__\" ausgeführt.\n"
     ]
    }
   ],
   "source": [
    "# Code in module2.py\n",
    "if __name__ == \"__main__\":\n",
    "    print(f'Dieser Code wird von der der .py-Datei: \"__main__\" ausgeführt.')\n",
    "else:\n",
    "    print(f'Dieser Code steht in der .py-Datei: \"{__name__}\".')\n"
   ]
  },
  {
   "cell_type": "markdown",
   "id": "5eab2f45-e907-44ec-ac4f-930f7995b26e",
   "metadata": {},
   "source": [
    "Je nach dem ob der Code im aktuellen Skript (main) selbst ausgeführt, oder über import aufgeruffen wird, kommt ein anderes Ergebnis bei `__name__` raus."
   ]
  },
  {
   "cell_type": "markdown",
   "id": "9a3cd985-5b8f-4cec-a293-8dc35afe6aa2",
   "metadata": {},
   "source": [
    "`__main__` ist ein spezieller Name in Python, der verwendet wird, um das Hauptmodul eines Skripts zu kennzeichnen, das direkt ausgeführt wird. Wenn du ein Python-Skript direkt ausführst, wird das Modul als `__main__` bezeichnet. Dies ermöglicht es, Code zu schreiben, der nur ausgeführt wird, wenn das Skript direkt ausgeführt wird, und nicht, wenn es von einem anderen Skript importiert wird."
   ]
  },
  {
   "cell_type": "markdown",
   "id": "eb713234-6a78-492b-8700-32242190aaa7",
   "metadata": {},
   "source": [
    "Dies wird oft im Zusammenhang mit dem speziellen Konstrukt if `__name__` == \"`__main__`\": verwendet. (main als String)"
   ]
  },
  {
   "cell_type": "markdown",
   "id": "81d73e90-5a29-4659-b93a-ebaf4479248e",
   "metadata": {},
   "source": [
    "Mit anderen Worten: `__main__` sagt dir: \"Du bist gerade hier.\""
   ]
  },
  {
   "cell_type": "markdown",
   "id": "07d76cbc-46d3-4b16-b8ae-67e002c45133",
   "metadata": {},
   "source": [
    "### Nächster Schritt"
   ]
  },
  {
   "cell_type": "markdown",
   "id": "bb01a7db-b5f6-47c1-83dc-f2b6f4aafe6e",
   "metadata": {},
   "source": [
    "Module können natürlich genau so komplex werden wie jeder Python Code in deiner Hauptdatei (die wo du diese Zeilen liest)."
   ]
  },
  {
   "cell_type": "markdown",
   "id": "a0654f1f-572e-4e86-ad31-9a765f63c097",
   "metadata": {},
   "source": [
    "Hier ein relativ einfaches Beispiel."
   ]
  },
  {
   "cell_type": "markdown",
   "id": "209ccbc1-5f26-4914-bf9d-6a5954bbccc7",
   "metadata": {},
   "source": [
    "[Link zu module2.py](module2.py)"
   ]
  },
  {
   "cell_type": "code",
   "execution_count": 1,
   "id": "5db6226e-18af-48b3-9060-434d794eb713",
   "metadata": {},
   "outputs": [
    {
     "name": "stdout",
     "output_type": "stream",
     "text": [
      "I like to be a module2.\n",
      "Dieser Code steht in der .py-Datei: \"module2\".\n"
     ]
    }
   ],
   "source": [
    "from module2 import functionx as x"
   ]
  },
  {
   "cell_type": "code",
   "execution_count": 5,
   "id": "17885d59-da61-4645-9f74-b7588e7bfb2d",
   "metadata": {},
   "outputs": [
    {
     "data": {
      "text/plain": [
       "64"
      ]
     },
     "execution_count": 5,
     "metadata": {},
     "output_type": "execute_result"
    }
   ],
   "source": [
    "x(8)"
   ]
  },
  {
   "cell_type": "code",
   "execution_count": 6,
   "id": "4c16618c-770f-4d64-a6a7-adc726f00bcf",
   "metadata": {},
   "outputs": [
    {
     "name": "stdout",
     "output_type": "stream",
     "text": [
      "Variable   Type        Data/Info\n",
      "--------------------------------\n",
      "x          function    <function <lambda> at 0x000001F4797B9440>\n"
     ]
    }
   ],
   "source": [
    "%whos"
   ]
  },
  {
   "cell_type": "markdown",
   "id": "ff177817-8031-4ab1-9f22-c6c079c03df8",
   "metadata": {},
   "source": [
    "Man kann mit dir() prüfen, welche Variablen im Code schon vergeben sind. Die Variable nach die man prüfen möchte muss als STRING geschrieben werden."
   ]
  },
  {
   "cell_type": "code",
   "execution_count": 7,
   "id": "c46fb900-8a8d-40ff-9786-b21a6885e6cc",
   "metadata": {},
   "outputs": [
    {
     "data": {
      "text/plain": [
       "True"
      ]
     },
     "execution_count": 7,
     "metadata": {},
     "output_type": "execute_result"
    }
   ],
   "source": [
    "\"x\" in dir()"
   ]
  },
  {
   "cell_type": "code",
   "execution_count": 8,
   "id": "77dad418-4b50-461b-bf75-9de85df05b25",
   "metadata": {},
   "outputs": [
    {
     "name": "stdout",
     "output_type": "stream",
     "text": [
      "['In', 'Out', '_', '_2', '_4', '_5', '_7', '__', '___', '__builtin__', '__builtins__', '__doc__', '__loader__', '__name__', '__package__', '__session__', '__spec__', '_dh', '_i', '_i1', '_i2', '_i3', '_i4', '_i5', '_i6', '_i7', '_i8', '_ih', '_ii', '_iii', '_oh', 'exit', 'get_ipython', 'open', 'quit', 'x'] | "
     ]
    }
   ],
   "source": [
    "print(dir(), end = \" | \")"
   ]
  },
  {
   "cell_type": "markdown",
   "id": "1c548943-9033-4a01-a596-b1056195029f",
   "metadata": {},
   "source": [
    "Die import Funktion sucht nach einer Datei mit dem angegeben namen"
   ]
  },
  {
   "cell_type": "markdown",
   "id": "ebbdece5-6658-450e-b914-667b5ff0249f",
   "metadata": {},
   "source": [
    "## Komplexeres Beispiel aus Python Essentials 2"
   ]
  },
  {
   "cell_type": "markdown",
   "id": "5c621c7c-de41-4373-acea-d61823cc70c2",
   "metadata": {},
   "source": [
    "[Link zu module3.py](module3.py)"
   ]
  },
  {
   "cell_type": "code",
   "execution_count": 10,
   "id": "e4766552-309a-4d17-9fa7-85e893c5c3b5",
   "metadata": {},
   "outputs": [
    {
     "name": "stdout",
     "output_type": "stream",
     "text": [
      "Dieser Code steht in der .py-Datei: \"module3\".\n"
     ]
    }
   ],
   "source": [
    "import module3"
   ]
  },
  {
   "cell_type": "markdown",
   "id": "da909734-116d-43b0-89c4-ad9c7eab33f0",
   "metadata": {},
   "source": [
    "Damit man sich vorstellen kann was passiert, hier der Code AUS der Datei module3.py"
   ]
  },
  {
   "cell_type": "code",
   "execution_count": 14,
   "id": "7ce747d2-5665-4edb-ba0a-79f22e9fa321",
   "metadata": {},
   "outputs": [
    {
     "name": "stdout",
     "output_type": "stream",
     "text": [
      "I prefer to be a module, but I can do some tests for you.\n",
      "True\n",
      "True\n"
     ]
    }
   ],
   "source": [
    "#!/usr/bin/env python3 \n",
    "\n",
    "\"\"\" module3.py - an example of a Python module \"\"\"\n",
    "\n",
    "__counter = 0\n",
    "\n",
    "\n",
    "def suml(the_list):\n",
    "    global __counter\n",
    "    __counter += 1\n",
    "    the_sum = 0\n",
    "    for element in the_list:\n",
    "        the_sum += element\n",
    "    return the_sum\n",
    "\n",
    "\n",
    "def prodl(the_list):\n",
    "    global __counter    \n",
    "    __counter += 1\n",
    "    prod = 1\n",
    "    for element in the_list:\n",
    "        prod *= element\n",
    "    return prod\n",
    "\n",
    "\n",
    "if __name__ == \"__main__\":\n",
    "    print(\"I prefer to be a module, but I can do some tests for you.\")\n",
    "    my_list = [i+1 for i in range(5)]\n",
    "    print(suml(my_list) == 15)\n",
    "    print(prodl(my_list) == 120)\n",
    "\n"
   ]
  },
  {
   "cell_type": "markdown",
   "id": "6b78082a-ae31-455a-863b-1b3a34dbef94",
   "metadata": {},
   "source": [
    "Ein paar Elemente bedürfen unserer Meinung nach einer Erklärung:\n",
    "\n",
    "1. Die Zeile, die mit `#!` beginnt, hat viele Namen - sie kann shabang, shebang, hashbang, poundbang oder sogar hashpling genannt werden (fragen Sie uns nicht warum). Der Name selbst hat hier keine Bedeutung - seine Rolle ist wichtiger. Aus der Sicht von Python ist es nur ein Kommentar, da er mit # beginnt. Unter Unix und Unix-ähnlichen Betriebssystemen (einschließlich MacOS) weist eine solche Zeile das Betriebssystem an, wie der Inhalt der Datei auszuführen ist (mit anderen Worten, welches Programm zur Interpretation des Textes gestartet werden muss). In manchen Umgebungen (insbesondere in solchen, die mit Webservern verbunden sind) kann das Fehlen dieser Zeile zu Problemen führen;\n",
    "2. eine (möglicherweise mehrzeilige) Zeichenkette vor den Modulanweisungen (einschließlich des Namens der zu importierenden Datei) wird als doc-string bezeichnet und sollte kurz den Zweck und den Inhalt des Moduls erklären;\n",
    "3. die innerhalb des Moduls definierten Funktionen (suml() und prodl()) sind zum Import verfügbar;\n",
    "4. Wir haben die Variable `__name__` verwendet, um zu erkennen, wenn die Datei eigenständig ausgeführt wird, und haben diese Gelegenheit genutzt, um einige einfache Tests durchzuführen.\n"
   ]
  },
  {
   "cell_type": "code",
   "execution_count": 1,
   "id": "ccd9c992-d089-4ca8-8ec1-d8becc6a8ac9",
   "metadata": {},
   "outputs": [
    {
     "name": "stdout",
     "output_type": "stream",
     "text": [
      "0\n",
      "1\n"
     ]
    }
   ],
   "source": [
    "from module3 import suml, prodl\n",
    "\n",
    "zeroes = [0 for i in range(5)]\n",
    "ones = [1 for i in range(5)]\n",
    "print(suml(zeroes))\n",
    "print(prodl(ones))\n"
   ]
  },
  {
   "cell_type": "markdown",
   "id": "471c6c88-fc66-42d2-a297-08d0c44d5b8a",
   "metadata": {},
   "source": [
    "# Dateipfad"
   ]
  },
  {
   "cell_type": "code",
   "execution_count": 2,
   "id": "528832d3-25ce-4c63-82fe-d5ca341ba313",
   "metadata": {},
   "outputs": [
    {
     "name": "stdout",
     "output_type": "stream",
     "text": [
      "C:\\Program Files\\WindowsApps\\PythonSoftwareFoundation.Python.3.12_3.12.1264.0_x64__qbz5n2kfra8p0\\python312.zip\n",
      "C:\\Program Files\\WindowsApps\\PythonSoftwareFoundation.Python.3.12_3.12.1264.0_x64__qbz5n2kfra8p0\\DLLs\n",
      "C:\\Program Files\\WindowsApps\\PythonSoftwareFoundation.Python.3.12_3.12.1264.0_x64__qbz5n2kfra8p0\\Lib\n",
      "C:\\Program Files\\WindowsApps\\PythonSoftwareFoundation.Python.3.12_3.12.1264.0_x64__qbz5n2kfra8p0\n",
      "\n",
      "C:\\Users\\jbous\\AppData\\Local\\Packages\\PythonSoftwareFoundation.Python.3.12_qbz5n2kfra8p0\\LocalCache\\local-packages\\Python312\\site-packages\n",
      "C:\\Users\\jbous\\AppData\\Local\\Packages\\PythonSoftwareFoundation.Python.3.12_qbz5n2kfra8p0\\LocalCache\\local-packages\\Python312\\site-packages\\win32\n",
      "C:\\Users\\jbous\\AppData\\Local\\Packages\\PythonSoftwareFoundation.Python.3.12_qbz5n2kfra8p0\\LocalCache\\local-packages\\Python312\\site-packages\\win32\\lib\n",
      "C:\\Users\\jbous\\AppData\\Local\\Packages\\PythonSoftwareFoundation.Python.3.12_qbz5n2kfra8p0\\LocalCache\\local-packages\\Python312\\site-packages\\Pythonwin\n",
      "C:\\Program Files\\WindowsApps\\PythonSoftwareFoundation.Python.3.12_3.12.1264.0_x64__qbz5n2kfra8p0\\Lib\\site-packages\n"
     ]
    }
   ],
   "source": [
    "import sys\n",
    "\n",
    "for p in sys.path:\n",
    "    print(p)\n"
   ]
  },
  {
   "cell_type": "code",
   "execution_count": 5,
   "id": "775845bc-86f5-4d57-8155-9ac5eaf36122",
   "metadata": {},
   "outputs": [
    {
     "name": "stdout",
     "output_type": "stream",
     "text": [
      "0\n",
      "1\n"
     ]
    }
   ],
   "source": [
    "\n",
    "from sys import path\n",
    "\n",
    "path.append('..\\\\modules')\n",
    "\n",
    "import module3\n",
    "\n",
    "zeroes = [0 for i in range(5)]\n",
    "ones = [1 for i in range(5)]\n",
    "print(module3.suml(zeroes))\n",
    "print(module3.prodl(ones))"
   ]
  },
  {
   "cell_type": "code",
   "execution_count": 6,
   "id": "198a9397-4949-4cc3-b7d7-b43ec1cdbdaa",
   "metadata": {},
   "outputs": [],
   "source": [
    "path.append('C:\\\\Users\\\\user\\\\py\\\\modules')"
   ]
  },
  {
   "cell_type": "code",
   "execution_count": 28,
   "id": "d3803b91-d7ff-4924-812f-8490f83f8543",
   "metadata": {},
   "outputs": [
    {
     "data": {
      "text/plain": [
       "['C:\\\\Program Files\\\\WindowsApps\\\\PythonSoftwareFoundation.Python.3.12_3.12.1264.0_x64__qbz5n2kfra8p0\\\\python312.zip',\n",
       " 'C:\\\\Program Files\\\\WindowsApps\\\\PythonSoftwareFoundation.Python.3.12_3.12.1264.0_x64__qbz5n2kfra8p0\\\\DLLs',\n",
       " 'C:\\\\Program Files\\\\WindowsApps\\\\PythonSoftwareFoundation.Python.3.12_3.12.1264.0_x64__qbz5n2kfra8p0\\\\Lib',\n",
       " 'C:\\\\Program Files\\\\WindowsApps\\\\PythonSoftwareFoundation.Python.3.12_3.12.1264.0_x64__qbz5n2kfra8p0',\n",
       " '',\n",
       " 'C:\\\\Users\\\\jbous\\\\AppData\\\\Local\\\\Packages\\\\PythonSoftwareFoundation.Python.3.12_qbz5n2kfra8p0\\\\LocalCache\\\\local-packages\\\\Python312\\\\site-packages',\n",
       " 'C:\\\\Users\\\\jbous\\\\AppData\\\\Local\\\\Packages\\\\PythonSoftwareFoundation.Python.3.12_qbz5n2kfra8p0\\\\LocalCache\\\\local-packages\\\\Python312\\\\site-packages\\\\win32',\n",
       " 'C:\\\\Users\\\\jbous\\\\AppData\\\\Local\\\\Packages\\\\PythonSoftwareFoundation.Python.3.12_qbz5n2kfra8p0\\\\LocalCache\\\\local-packages\\\\Python312\\\\site-packages\\\\win32\\\\lib',\n",
       " 'C:\\\\Users\\\\jbous\\\\AppData\\\\Local\\\\Packages\\\\PythonSoftwareFoundation.Python.3.12_qbz5n2kfra8p0\\\\LocalCache\\\\local-packages\\\\Python312\\\\site-packages\\\\Pythonwin',\n",
       " 'C:\\\\Program Files\\\\WindowsApps\\\\PythonSoftwareFoundation.Python.3.12_3.12.1264.0_x64__qbz5n2kfra8p0\\\\Lib\\\\site-packages',\n",
       " 'C:\\\\\\\\Users\\\\jbous\\\\Desktop\\\\Umschulung\\\\BBQ\\\\_Kurs_\\\\Modul 2\\\\Woche 9\\\\Modules and Packages ZIP file',\n",
       " 'C:\\\\\\\\Users\\\\jbous\\\\Desktop\\\\Umschulung\\\\BBQ\\\\_Kurs_\\\\Modul 2\\\\Woche 9\\\\Modules and Packages ZIP file']"
      ]
     },
     "execution_count": 28,
     "metadata": {},
     "output_type": "execute_result"
    }
   ],
   "source": [
    "sys.path"
   ]
  },
  {
   "cell_type": "markdown",
   "id": "921ef6c4-9736-4774-832c-73c6974ad693",
   "metadata": {},
   "source": [
    "# Datatree (Your first package: step 4)"
   ]
  },
  {
   "cell_type": "markdown",
   "id": "784047c2-ac85-4b4e-9e59-0d560b4445d3",
   "metadata": {},
   "source": [
    "- Wie verwandelt man einen solchen Baum (eigentlich einen Teilbaum) in ein echtes Python-Paket (mit anderen Worten, wie überzeugt man Python davon, dass ein solcher Baum nicht nur ein Haufen Mülldateien ist, sondern ein Satz von Modulen)?\n",
    "- Wo legt man den Teilbaum ab, um ihn für Python zugänglich zu machen?"
   ]
  },
  {
   "cell_type": "markdown",
   "id": "d98bdfb3-8436-4420-ad93-f01d8697b844",
   "metadata": {},
   "source": [
    "Die erste Frage hat eine überraschende Antwort: Pakete, wie auch Module, können eine Initialisierung erfordern.\n",
    "\n",
    "Die Initialisierung eines Moduls erfolgt durch einen ungebundenen Code (nicht Teil einer Funktion), der sich in der Moduldatei befindet. Da ein Paket keine Datei ist, ist diese Technik für die Initialisierung von Paketen nutzlos.\n",
    "\n",
    "Sie müssen stattdessen einen anderen Trick anwenden - Python erwartet, dass es eine Datei mit einem sehr eindeutigen Namen im Paketordner gibt: `__init__`.py.\n",
    "\n",
    "Der Inhalt dieser Datei wird ausgeführt, wenn eines der Module des Pakets importiert wird. Wenn Sie keine speziellen Initialisierungen wünschen, können Sie die Datei leer lassen, aber Sie dürfen sie nicht auslassen."
   ]
  },
  {
   "cell_type": "markdown",
   "id": "263b1526-3590-494c-94e3-d9bbe5951de6",
   "metadata": {},
   "source": [
    "Remember: the presence of the `__init__.py` file finally makes up the package."
   ]
  },
  {
   "cell_type": "markdown",
   "id": "e0bc3ab1-11cb-4f52-a53c-427df8c60fb4",
   "metadata": {},
   "source": [
    "[Link in package](package.py)"
   ]
  },
  {
   "cell_type": "code",
   "execution_count": 21,
   "id": "987ef0a5-a3aa-4dbe-a7dc-c5a0e8ec92a9",
   "metadata": {},
   "outputs": [],
   "source": [
    "import package"
   ]
  },
  {
   "cell_type": "markdown",
   "id": "d3462bb5-9ec0-4957-9e29-27c5c42b56bf",
   "metadata": {},
   "source": [
    "Shit.. Er versucht echt da Unicode draus zu machen..."
   ]
  },
  {
   "cell_type": "markdown",
   "id": "18dd23e2-2983-4ea9-a013-eb0aee00d78c",
   "metadata": {},
   "source": [
    "Verwendung von Raw String!!! Siehe auch: [raw](raw.ipynb)"
   ]
  },
  {
   "cell_type": "code",
   "execution_count": 23,
   "id": "aaa18ab0-d308-4b69-8aec-db0a88d13f77",
   "metadata": {},
   "outputs": [
    {
     "ename": "SyntaxError",
     "evalue": "invalid syntax (2444121812.py, line 1)",
     "output_type": "error",
     "traceback": [
      "\u001b[1;36m  Cell \u001b[1;32mIn[23], line 1\u001b[1;36m\u001b[0m\n\u001b[1;33m    import r\"C:\\\\Users\\jbous\\Desktop\\Umschulung\\BBQ\\_Kurs_\\Modul 2\\Woche 9\\Modules and Packages ZIP file\"\u001b[0m\n\u001b[1;37m           ^\u001b[0m\n\u001b[1;31mSyntaxError\u001b[0m\u001b[1;31m:\u001b[0m invalid syntax\n"
     ]
    }
   ],
   "source": [
    "import r\"C:\\\\Users\\jbous\\Desktop\\Umschulung\\BBQ\\_Kurs_\\Modul 2\\Woche 9\\Modules and Packages ZIP file\""
   ]
  },
  {
   "cell_type": "code",
   "execution_count": 24,
   "id": "5ee8d117-ad18-4337-8e0c-9715dafd1a0e",
   "metadata": {},
   "outputs": [],
   "source": [
    "import sys\n",
    "\n",
    "# Füge den Pfad, in dem sich das Modul befindet, zum sys.path hinzu\n",
    "sys.path.append(r\"C:\\\\Users\\jbous\\Desktop\\Umschulung\\BBQ\\_Kurs_\\Modul 2\\Woche 9\\Modules and Packages ZIP file\")"
   ]
  },
  {
   "cell_type": "code",
   "execution_count": 26,
   "id": "1f55e5e0-98d0-4de3-8c64-affc7079d327",
   "metadata": {},
   "outputs": [
    {
     "name": "stdout",
     "output_type": "stream",
     "text": [
      "<built-in method append of list object at 0x00000226AB8CD300>\n"
     ]
    }
   ],
   "source": [
    "print(sys.path.append)"
   ]
  },
  {
   "cell_type": "code",
   "execution_count": 25,
   "id": "832cd351-d9ad-4efc-83f9-b55d5c48219a",
   "metadata": {},
   "outputs": [
    {
     "name": "stdout",
     "output_type": "stream",
     "text": [
      "Variable   Type      Data/Info\n",
      "------------------------------\n",
      "elem       str       C\n",
      "index      int       0\n",
      "link       str       C:\\\\Users\\jbous\\Desktop\\U<...>les and Packages ZIP file\n",
      "package    module    <module 'package' from 'C<...>mmenfassung\\\\package.py'>\n",
      "sys        module    <module 'sys' (built-in)>\n"
     ]
    }
   ],
   "source": [
    "%whos"
   ]
  },
  {
   "cell_type": "code",
   "execution_count": null,
   "id": "52e31cee-6cd7-49b4-9dd8-30bdd521a10b",
   "metadata": {},
   "outputs": [],
   "source": [
    "import"
   ]
  },
  {
   "cell_type": "markdown",
   "id": "3504a831-8c67-4a90-94e1-3a3ab900f45b",
   "metadata": {},
   "source": [
    "# sys.path.append() "
   ]
  },
  {
   "cell_type": "markdown",
   "id": "a1661cae-2737-4a51-bb94-aae40d3c9add",
   "metadata": {},
   "source": [
    "sys.path.append() ist eine Methode, die dazu dient, einen Pfad zur Liste sys.path hinzuzufügen. sys.path ist eine Liste von Verzeichnissen, in denen Python nach Modulen sucht, wenn du import verwendest."
   ]
  },
  {
   "cell_type": "code",
   "execution_count": 27,
   "id": "22d0ed03-2d4e-4ffe-9a7d-33b5cdfa76a9",
   "metadata": {},
   "outputs": [
    {
     "data": {
      "text/plain": [
       "['C:\\\\Program Files\\\\WindowsApps\\\\PythonSoftwareFoundation.Python.3.12_3.12.1264.0_x64__qbz5n2kfra8p0\\\\python312.zip',\n",
       " 'C:\\\\Program Files\\\\WindowsApps\\\\PythonSoftwareFoundation.Python.3.12_3.12.1264.0_x64__qbz5n2kfra8p0\\\\DLLs',\n",
       " 'C:\\\\Program Files\\\\WindowsApps\\\\PythonSoftwareFoundation.Python.3.12_3.12.1264.0_x64__qbz5n2kfra8p0\\\\Lib',\n",
       " 'C:\\\\Program Files\\\\WindowsApps\\\\PythonSoftwareFoundation.Python.3.12_3.12.1264.0_x64__qbz5n2kfra8p0',\n",
       " '',\n",
       " 'C:\\\\Users\\\\jbous\\\\AppData\\\\Local\\\\Packages\\\\PythonSoftwareFoundation.Python.3.12_qbz5n2kfra8p0\\\\LocalCache\\\\local-packages\\\\Python312\\\\site-packages',\n",
       " 'C:\\\\Users\\\\jbous\\\\AppData\\\\Local\\\\Packages\\\\PythonSoftwareFoundation.Python.3.12_qbz5n2kfra8p0\\\\LocalCache\\\\local-packages\\\\Python312\\\\site-packages\\\\win32',\n",
       " 'C:\\\\Users\\\\jbous\\\\AppData\\\\Local\\\\Packages\\\\PythonSoftwareFoundation.Python.3.12_qbz5n2kfra8p0\\\\LocalCache\\\\local-packages\\\\Python312\\\\site-packages\\\\win32\\\\lib',\n",
       " 'C:\\\\Users\\\\jbous\\\\AppData\\\\Local\\\\Packages\\\\PythonSoftwareFoundation.Python.3.12_qbz5n2kfra8p0\\\\LocalCache\\\\local-packages\\\\Python312\\\\site-packages\\\\Pythonwin',\n",
       " 'C:\\\\Program Files\\\\WindowsApps\\\\PythonSoftwareFoundation.Python.3.12_3.12.1264.0_x64__qbz5n2kfra8p0\\\\Lib\\\\site-packages',\n",
       " 'C:\\\\\\\\Users\\\\jbous\\\\Desktop\\\\Umschulung\\\\BBQ\\\\_Kurs_\\\\Modul 2\\\\Woche 9\\\\Modules and Packages ZIP file',\n",
       " 'C:\\\\\\\\Users\\\\jbous\\\\Desktop\\\\Umschulung\\\\BBQ\\\\_Kurs_\\\\Modul 2\\\\Woche 9\\\\Modules and Packages ZIP file']"
      ]
     },
     "execution_count": 27,
     "metadata": {},
     "output_type": "execute_result"
    }
   ],
   "source": [
    "sys.path"
   ]
  },
  {
   "cell_type": "markdown",
   "id": "fce07127-ac34-4147-8930-2a0af6d77551",
   "metadata": {},
   "source": [
    "Ähnlich wie bei `os.path.abspath(\".\")` brauchen wir den Dateipfad zum ORDNER in dem die Datei DIRN LIEGT, die wir importieren wollen."
   ]
  },
  {
   "cell_type": "code",
   "execution_count": 1,
   "id": "ad48f71d-7a48-46b2-911a-80619708880e",
   "metadata": {},
   "outputs": [
    {
     "data": {
      "text/plain": [
       "'C:\\\\Users\\\\jbous\\\\AppData\\\\Local\\\\Packages\\\\PythonSoftwareFoundation.Python.3.12_qbz5n2kfra8p0\\\\LocalCache\\\\local-packages\\\\Python312\\\\Scripts\\\\Kurs\\\\Projekte\\\\Zusammenfassung'"
      ]
     },
     "execution_count": 1,
     "metadata": {},
     "output_type": "execute_result"
    }
   ],
   "source": [
    "import os\n",
    "\n",
    "os.path.abspath(\".\")"
   ]
  },
  {
   "cell_type": "markdown",
   "id": "3615d83b-30db-4d69-9fe2-3763a489a2ca",
   "metadata": {},
   "source": [
    "\"C:\\Users\\jbous\\Desktop\\Umschulung\\BBQ\\_Kurs_\\Modul 2\\Woche 9\\Modules and Packages ZIP file\\extra\" und dann da drin z.B. die Datei \"alpha.py\""
   ]
  },
  {
   "cell_type": "code",
   "execution_count": 5,
   "id": "c110d5ba-2cf4-4163-9fee-feb5642c1d32",
   "metadata": {},
   "outputs": [],
   "source": [
    "import sys\n",
    "\n",
    "sys.path.append(r\"C:\\Users\\jbous\\Desktop\\Umschulung\\BBQ\\_Kurs_\\Modul 2\\Woche 9\\Modules and Packages ZIP file\\extra\\good\")\n",
    "\n",
    "import alpha"
   ]
  },
  {
   "cell_type": "markdown",
   "id": "1e6325fb-5549-4d54-8b56-c617a8241b35",
   "metadata": {},
   "source": [
    "[import Testing-Area](import_testing_area.ipynb), weil es einfach zu nervig und unübersichtlich ist in einem langen Skript mit zu vielen import Links zu arbeiten."
   ]
  },
  {
   "cell_type": "code",
   "execution_count": null,
   "id": "bc335eee-5d6a-4657-8ca6-aa108cc3bc47",
   "metadata": {},
   "outputs": [],
   "source": []
  },
  {
   "cell_type": "code",
   "execution_count": null,
   "id": "7488af66-be96-47ae-91a9-8d99250eba58",
   "metadata": {},
   "outputs": [],
   "source": []
  },
  {
   "cell_type": "code",
   "execution_count": null,
   "id": "57abc24f-2f82-4704-b50a-3dee4332399b",
   "metadata": {},
   "outputs": [],
   "source": []
  },
  {
   "cell_type": "code",
   "execution_count": null,
   "id": "2094d712-9497-488b-926a-cfd12a98b04e",
   "metadata": {},
   "outputs": [],
   "source": []
  },
  {
   "cell_type": "code",
   "execution_count": 1,
   "id": "9f2e0b81-625d-4adb-a9b7-93131c1c6a4b",
   "metadata": {},
   "outputs": [
    {
     "name": "stdout",
     "output_type": "stream",
     "text": [
      "[10, -7, -10, -2, -3]\n",
      "[10]\n"
     ]
    }
   ],
   "source": [
    "from random import seed, randint\n",
    " \n",
    "seed(42)\n",
    "data = [randint(-10, 10) for x in range(5)]\n",
    "filtered = list(filter(lambda x: x > 0 and x % 2 == 0, data))\n",
    " \n",
    "print(data)\n",
    "print(filtered)"
   ]
  },
  {
   "cell_type": "code",
   "execution_count": null,
   "id": "9df45bf8-aeb0-4c57-b45f-16520d80eb40",
   "metadata": {},
   "outputs": [],
   "source": []
  },
  {
   "cell_type": "markdown",
   "id": "6d512168-a850-4958-838d-aa765cfdd568",
   "metadata": {},
   "source": [
    "## Importieren von Speziellen Modulen:"
   ]
  },
  {
   "cell_type": "markdown",
   "id": "9bfb3103-648e-4581-98e9-65478e1de04b",
   "metadata": {},
   "source": [
    "### Pandas"
   ]
  },
  {
   "cell_type": "markdown",
   "id": "1b7ec9b5-a8f5-4bbe-b845-7468a9d3c0de",
   "metadata": {},
   "source": [
    "Um Pandas importieren zu können muss es auf dem Gerät installiert sein. Pandas gehört nicht zu CorPython."
   ]
  },
  {
   "cell_type": "code",
   "execution_count": 35,
   "id": "71f75f47-a631-489e-830a-e4110b677649",
   "metadata": {},
   "outputs": [
    {
     "ename": "ModuleNotFoundError",
     "evalue": "No module named 'pandas'",
     "output_type": "error",
     "traceback": [
      "\u001b[1;31m---------------------------------------------------------------------------\u001b[0m",
      "\u001b[1;31mModuleNotFoundError\u001b[0m                       Traceback (most recent call last)",
      "Cell \u001b[1;32mIn[35], line 1\u001b[0m\n\u001b[1;32m----> 1\u001b[0m \u001b[38;5;28;01mimport\u001b[39;00m \u001b[38;5;21;01mpandas\u001b[39;00m \u001b[38;5;28;01mas\u001b[39;00m \u001b[38;5;21;01mpd\u001b[39;00m\n",
      "\u001b[1;31mModuleNotFoundError\u001b[0m: No module named 'pandas'"
     ]
    }
   ],
   "source": [
    "import pandas as pd"
   ]
  },
  {
   "cell_type": "code",
   "execution_count": 36,
   "id": "9af16e66-16f7-4c91-99e3-a8e5c14044a4",
   "metadata": {
    "tags": []
   },
   "outputs": [],
   "source": [
    "gehälter = 1000, 2000, 3000, 4000, 5000\n",
    "names =  \"Anna\", \"Berta\", \"Charlie\",\"Detlef\", \"Eugen\"\n",
    "cities = \"Aschaffenburg\", \"Berlin\", \"Chemnitz\", \"Detmold\", \"Essen\""
   ]
  },
  {
   "cell_type": "code",
   "execution_count": 37,
   "id": "716807a3-c12c-43a7-b149-27d6b5eb2de3",
   "metadata": {
    "tags": []
   },
   "outputs": [
    {
     "ename": "NameError",
     "evalue": "name 'pd' is not defined",
     "output_type": "error",
     "traceback": [
      "\u001b[1;31m---------------------------------------------------------------------------\u001b[0m",
      "\u001b[1;31mNameError\u001b[0m                                 Traceback (most recent call last)",
      "Cell \u001b[1;32mIn[37], line 1\u001b[0m\n\u001b[1;32m----> 1\u001b[0m df \u001b[38;5;241m=\u001b[39m \u001b[43mpd\u001b[49m\u001b[38;5;241m.\u001b[39mDataFrame({\u001b[38;5;124m\"\u001b[39m\u001b[38;5;124mnamen\u001b[39m\u001b[38;5;124m\"\u001b[39m: names , \u001b[38;5;124m\"\u001b[39m\u001b[38;5;124mstaedte\u001b[39m\u001b[38;5;124m\"\u001b[39m: cities, \u001b[38;5;124m\"\u001b[39m\u001b[38;5;124mgehälter\u001b[39m\u001b[38;5;124m\"\u001b[39m: gehälter})\n",
      "\u001b[1;31mNameError\u001b[0m: name 'pd' is not defined"
     ]
    }
   ],
   "source": [
    "df = pd.DataFrame({\"namen\": names , \"staedte\": cities, \"gehälter\": gehälter})"
   ]
  },
  {
   "cell_type": "code",
   "execution_count": 38,
   "id": "9a24680b-c2dc-4311-913d-840e82e61436",
   "metadata": {
    "tags": []
   },
   "outputs": [
    {
     "ename": "NameError",
     "evalue": "name 'df' is not defined",
     "output_type": "error",
     "traceback": [
      "\u001b[1;31m---------------------------------------------------------------------------\u001b[0m",
      "\u001b[1;31mNameError\u001b[0m                                 Traceback (most recent call last)",
      "Cell \u001b[1;32mIn[38], line 1\u001b[0m\n\u001b[1;32m----> 1\u001b[0m \u001b[43mdf\u001b[49m\u001b[38;5;241m.\u001b[39mT\n",
      "\u001b[1;31mNameError\u001b[0m: name 'df' is not defined"
     ]
    }
   ],
   "source": [
    "df.T"
   ]
  },
  {
   "cell_type": "code",
   "execution_count": null,
   "id": "b30e2286-4992-4c8d-b600-fe2b6c9c9aef",
   "metadata": {},
   "outputs": [],
   "source": []
  },
  {
   "cell_type": "code",
   "execution_count": null,
   "id": "684e3bf3-e6ff-4fa0-895b-593f6aa798ca",
   "metadata": {},
   "outputs": [],
   "source": []
  },
  {
   "cell_type": "markdown",
   "id": "b83fb79e-4fbe-4558-81b9-046c7438916f",
   "metadata": {},
   "source": [
    "Beispiel Elternabend:"
   ]
  },
  {
   "cell_type": "markdown",
   "id": "c75a04dd-4349-4e25-a496-2357e7fb89a3",
   "metadata": {},
   "source": [
    "```python\n",
    "from Home import Anna as Frau_Müller\n",
    "\n",
    "Frau_Müller wird etwas gefragt. Frau_Müller antwortet.\n",
    "\n",
    "import Home\n",
    "\n",
    "Home.Anna --> Anna kommt, wenn man sie ruft\n",
    "```"
   ]
  },
  {
   "cell_type": "code",
   "execution_count": null,
   "id": "d074e2cd-7d07-48f3-9431-314bc2bb2e95",
   "metadata": {},
   "outputs": [],
   "source": []
  }
 ],
 "metadata": {
  "kernelspec": {
   "display_name": "Python 3 (ipykernel)",
   "language": "python",
   "name": "python3"
  },
  "language_info": {
   "codemirror_mode": {
    "name": "ipython",
    "version": 3
   },
   "file_extension": ".py",
   "mimetype": "text/x-python",
   "name": "python",
   "nbconvert_exporter": "python",
   "pygments_lexer": "ipython3",
   "version": "3.12.4"
  }
 },
 "nbformat": 4,
 "nbformat_minor": 5
}
