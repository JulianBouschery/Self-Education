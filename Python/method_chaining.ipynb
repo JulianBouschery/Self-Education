{
 "cells": [
  {
   "cell_type": "markdown",
   "id": "67e84c39-9dd6-4de1-850b-d94fcfe8168a",
   "metadata": {},
   "source": [
    "[Zurück zum Inhaltsverzeichnis](_Inhaltsverzeichnis_.ipynb)"
   ]
  },
  {
   "cell_type": "markdown",
   "id": "c464306e-367d-4663-814f-e7a3e5d12892",
   "metadata": {},
   "source": [
    "# Method chaining"
   ]
  },
  {
   "cell_type": "markdown",
   "id": "147823d3-bc49-4186-a71c-e484041d41be",
   "metadata": {},
   "source": [
    "Als Method chaining bezeichnet man die aneinander Reihung / verschachtelung von Methoden. Die Hauptschwierigkeit dabei ist es den Überblick zu behalten was genau passiert und welchen Datentypen das result der jeweiligen Methode hat."
   ]
  },
  {
   "cell_type": "code",
   "execution_count": 2,
   "id": "3c139c31-02b1-41c1-ba0c-c888ef60f11d",
   "metadata": {},
   "outputs": [
    {
     "data": {
      "text/plain": [
       "'0x49'"
      ]
     },
     "execution_count": 2,
     "metadata": {},
     "output_type": "execute_result"
    }
   ],
   "source": [
    "hex(73)"
   ]
  },
  {
   "cell_type": "markdown",
   "id": "cd61d353-05c8-41b5-9c3b-98001c7c7d1f",
   "metadata": {},
   "source": [
    "## Übungsaufgaben zum Method chaining einfügen"
   ]
  },
  {
   "cell_type": "markdown",
   "id": "9216ade0-2de8-402c-8bb8-1a41682c74f8",
   "metadata": {
    "jp-MarkdownHeadingCollapsed": true
   },
   "source": [
    "### 1. "
   ]
  },
  {
   "cell_type": "code",
   "execution_count": 4,
   "id": "23f9b3ad-6942-4fe9-bccf-b7b7a7d63574",
   "metadata": {},
   "outputs": [],
   "source": [
    "text = \"   Willkommen zu unserer Python-Übung! Viel Spaß beim Lernen.   \""
   ]
  },
  {
   "cell_type": "code",
   "execution_count": 5,
   "id": "86987c74-24f7-4b17-a31e-d787e7bd5dad",
   "metadata": {},
   "outputs": [],
   "source": [
    "result = (text.strip()\n",
    "               .replace(\"Python\", \"Programmierung\")\n",
    "               .lower()\n",
    "               .split()\n",
    "               .pop(-1)\n",
    "               .upper())\n"
   ]
  },
  {
   "cell_type": "code",
   "execution_count": 6,
   "id": "b429721d-fe3e-4bb9-9030-6274fc8eabbb",
   "metadata": {},
   "outputs": [
    {
     "data": {
      "text/plain": [
       "'LERNEN.'"
      ]
     },
     "execution_count": 6,
     "metadata": {},
     "output_type": "execute_result"
    }
   ],
   "source": [
    "result"
   ]
  },
  {
   "cell_type": "markdown",
   "id": "2fe018ec-218d-4d1b-ad53-afe250c4f469",
   "metadata": {},
   "source": [
    "Das ist ein geiler code... XD"
   ]
  },
  {
   "cell_type": "markdown",
   "id": "ed2db5b2-2a31-42cd-9ad6-6c9174cd8116",
   "metadata": {},
   "source": [
    "Aber ich hätte erwarte, dass das Ergebnis folgendes ist: \"WILLKOMMEN ZU UNSERER PROGRAMMIERUNG-ÜBUNG! VIEL SPAß BEIM LERNEN\"\n",
    "Mal schauen wo ich falsch abgebogen bin."
   ]
  },
  {
   "cell_type": "code",
   "execution_count": 8,
   "id": "a7171c2a-ea96-46d7-a98e-6e444a849324",
   "metadata": {},
   "outputs": [],
   "source": [
    "text = \"   Willkommen zu unserer Python-Übung! Viel Spaß beim Lernen.   \""
   ]
  },
  {
   "cell_type": "code",
   "execution_count": 10,
   "id": "fdc36f28-c2c6-426f-a3de-023259f68d55",
   "metadata": {},
   "outputs": [
    {
     "data": {
      "text/plain": [
       "'Willkommen zu unserer Python-Übung! Viel Spaß beim Lernen.'"
      ]
     },
     "execution_count": 10,
     "metadata": {},
     "output_type": "execute_result"
    }
   ],
   "source": [
    "text = text.strip()\n",
    "text"
   ]
  },
  {
   "cell_type": "code",
   "execution_count": 11,
   "id": "3bc966c8-ca00-43f2-9f07-f4393f4c1e08",
   "metadata": {},
   "outputs": [
    {
     "data": {
      "text/plain": [
       "'Willkommen zu unserer Programmierung-Übung! Viel Spaß beim Lernen.'"
      ]
     },
     "execution_count": 11,
     "metadata": {},
     "output_type": "execute_result"
    }
   ],
   "source": [
    "text = text.replace(\"Python\", \"Programmierung\")\n",
    "text"
   ]
  },
  {
   "cell_type": "code",
   "execution_count": 12,
   "id": "fc2191f6-cfd4-4952-b3cd-6f998b3ec006",
   "metadata": {},
   "outputs": [
    {
     "data": {
      "text/plain": [
       "'willkommen zu unserer programmierung-übung! viel spaß beim lernen.'"
      ]
     },
     "execution_count": 12,
     "metadata": {},
     "output_type": "execute_result"
    }
   ],
   "source": [
    "text = text.lower()\n",
    "text"
   ]
  },
  {
   "cell_type": "markdown",
   "id": "60aeb2a6-b295-4946-a3f0-164f0a7471e2",
   "metadata": {},
   "source": [
    "Ah ok ich war zu schnell und hab bloß split überlesen..."
   ]
  },
  {
   "cell_type": "code",
   "execution_count": 14,
   "id": "524413e4-0a58-47c8-b037-4f2749e6e570",
   "metadata": {},
   "outputs": [
    {
     "data": {
      "text/plain": [
       "['willkommen',\n",
       " 'zu',\n",
       " 'unserer',\n",
       " 'programmierung-übung!',\n",
       " 'viel',\n",
       " 'spaß',\n",
       " 'beim',\n",
       " 'lernen.']"
      ]
     },
     "execution_count": 14,
     "metadata": {},
     "output_type": "execute_result"
    }
   ],
   "source": [
    "text = text.split()\n",
    "text"
   ]
  },
  {
   "cell_type": "markdown",
   "id": "3e672475-0fca-4e2b-80d6-ccc9e36005c5",
   "metadata": {},
   "source": [
    "Und ich hatte nicht mehr auf dem Schirm wie .pop funktioniert... Sie löscht das letzte Element einer SEQUENZ UND GIBT ES ALS ERGEBNIS ZURÜCK."
   ]
  },
  {
   "cell_type": "code",
   "execution_count": 16,
   "id": "63ca4de4-6961-4125-9365-8cbf9b50ba0a",
   "metadata": {},
   "outputs": [
    {
     "data": {
      "text/plain": [
       "'lernen.'"
      ]
     },
     "execution_count": 16,
     "metadata": {},
     "output_type": "execute_result"
    }
   ],
   "source": [
    "text = text.pop(-1)\n",
    "text"
   ]
  },
  {
   "cell_type": "code",
   "execution_count": 18,
   "id": "5a3237b4-3197-41b5-a7de-ad0bd8c89031",
   "metadata": {},
   "outputs": [
    {
     "data": {
      "text/plain": [
       "'LERNEN.'"
      ]
     },
     "execution_count": 18,
     "metadata": {},
     "output_type": "execute_result"
    }
   ],
   "source": [
    "text = text.upper()\n",
    "text"
   ]
  },
  {
   "cell_type": "code",
   "execution_count": null,
   "id": "31289c14-5a04-4909-a9f3-e7f1de4cab83",
   "metadata": {},
   "outputs": [],
   "source": []
  }
 ],
 "metadata": {
  "kernelspec": {
   "display_name": "Python 3 (ipykernel)",
   "language": "python",
   "name": "python3"
  },
  "language_info": {
   "codemirror_mode": {
    "name": "ipython",
    "version": 3
   },
   "file_extension": ".py",
   "mimetype": "text/x-python",
   "name": "python",
   "nbconvert_exporter": "python",
   "pygments_lexer": "ipython3",
   "version": "3.12.3"
  }
 },
 "nbformat": 4,
 "nbformat_minor": 5
}
