{
 "cells": [
  {
   "cell_type": "markdown",
   "id": "ce97e019-3812-42a0-8c43-f5d825092fa6",
   "metadata": {},
   "source": [
    "[Zurück zum Inhaltsverzeichnis](_Inhaltsverzeichnis_.ipynb)"
   ]
  },
  {
   "cell_type": "markdown",
   "id": "66ff6988-9b16-4bfc-9172-dbe2927978f2",
   "metadata": {},
   "source": [
    "# dict Method"
   ]
  },
  {
   "cell_type": "code",
   "execution_count": null,
   "id": "016b82c1-91c3-470e-a1c9-9abb7e56d988",
   "metadata": {},
   "outputs": [],
   "source": []
  },
  {
   "cell_type": "markdown",
   "id": "d7b7c4ff-c8e2-4569-8c16-d1ede3da4b06",
   "metadata": {},
   "source": [
    "[get](get.ipynb)"
   ]
  }
 ],
 "metadata": {
  "kernelspec": {
   "display_name": "Python 3 (ipykernel)",
   "language": "python",
   "name": "python3"
  },
  "language_info": {
   "codemirror_mode": {
    "name": "ipython",
    "version": 3
   },
   "file_extension": ".py",
   "mimetype": "text/x-python",
   "name": "python",
   "nbconvert_exporter": "python",
   "pygments_lexer": "ipython3",
   "version": "3.12.3"
  }
 },
 "nbformat": 4,
 "nbformat_minor": 5
}
