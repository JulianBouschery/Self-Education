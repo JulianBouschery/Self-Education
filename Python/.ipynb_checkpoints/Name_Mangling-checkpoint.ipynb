{
 "cells": [
  {
   "cell_type": "markdown",
   "id": "d158fe6c-e6fb-428e-8fbd-1dee5f10028d",
   "metadata": {},
   "source": [
    "# Name Mangling"
   ]
  },
  {
   "cell_type": "markdown",
   "id": "4bca172c-32c0-4e5a-8872-82676e4cae70",
   "metadata": {},
   "source": [
    "### Wichtig ist, dass der Name INNERHALB DER KLASSE gleich bleibt. NUR wenn man VON außerhalb der Klasse auf ein genamemangltes Objekt zugreifen möchte muss man den geänderten Namen verwenden."
   ]
  },
  {
   "cell_type": "markdown",
   "id": "2e8dc886-36e2-4221-a07a-5c25877d0c32",
   "metadata": {},
   "source": [
    "[Großes Beispiel](https://pythontutor.com/render.html#code=class%20Duck%3A%0A%20%20%20%20class_var%20%3D%2042%0A%20%20%20%20__class_var_private%20%3D%20100%0A%20%20%20%20def%20__init__%28self,%20zahl%29%3A%20%23wieso%20kein%20Fehler%3F%20--%3E%20es%20wurde%20doch%20kein%20Argument%20%C3%BCbergeben%0A%20%20%20%20%20%20%20%20self.__zahl%20%3D%20zahl%0A%20%0A%20%20%20%20%40classmethod%0A%20%20%20%20def%20hello%28cls%29%3A%0A%20%20%20%20%20%20%20%20cls.class_var%20%3D%20100%0A%20%20%20%20%20%20%20%20cls.__class_var_private%20%3D%20400%0A%20%20%20%20%20%20%20%20%0A%20%20%20%20%22%22%22%20%20%0A%20%20%20%20def%20hello_instanz%28self%29%3A%0A%20%20%20%20%20%20%20%20self.class_var%20%3D%20324%0A%20%20%20%20%22%22%22%0A%20%20%20%20%0A%20%20%20%20def%20__hello_instanz%28self%29%3A%0A%20%20%20%20%20%20%20%20print%28self,%20type%28self%29%29%0A%20%20%20%20%20%20%20%20print%28self.__class__,%20type%28self.__class__%29%29%0A%20%20%20%20%20%20%20%20self.__class__.class_var%20%3D%20324%0A%20%20%20%20%20%20%20%20self.__class__.__class_var_private%20%3D%20%22324%22%0A%20%20%20%20%20%20%20%20%0A%0A%23%20Ausserhalb%20der%20Klasse%20%28auch%20in%20Subklassen%20sind%20wir%20ausserhalb%20der%20Klasse%29%0A%0A%23%20wird%20__class_var_private%20NICHT%20ansprechbar%20sein%20%C3%BCber%20seinen%20Original%20namen%0A%0A%0A%23%20MERKE%20LESENDER%20ZUGRIFF%20NICHT%20BEKANNT%20%3D%3E%20FEHLER%20AttributeError%20in%20KLasse%0A%23%20NameError%20f%C3%BCr%20globale%20dinge%0A%0A%23%20print%28x%29%20%23%20NameError%20da%20globale%20Variabel%0A%0A%23print%28Duck.x%29%20%23%20AttributeError%20in%20der%20Klasse%20Duck%20gibt%20es%20kein%20Attribute%20x%0A%23print%28Duck.__class_var_private%29%0A%0A%23%20MERKE%20Schreibender%20Zugriff%20auf%20etwas%20NICHT%20EXISTENTES%20%3D%3E%20Erstelle%20das%20eben%20noch%20unbekannte%20neu%0ADuck.__class_var_private%20%3D%2042%0A%23%20Korrekter%20aber%20eigentlich%20sollte%20man%20es%20nicht%20machen%0A%23Warum%20nicht%20machen%3F%20die%20variable%20ist%20private%20wir%20sollten%20sie%20nicht%0A%23%20ausserhalb%20der%20Klasse%20nutzen%0ADuck._Duck__class_var_private%20%3D%20102121341%0A%0Ad1%20%3D%20%7B%7D%0A%23%20Lesender%20Zugriff%20alter%20gibt%20es%20nicht%20als%20Key%20%3D%3E%20KeyError%0A%23d1%5B%22alter%22%5D%0A%0A%23%20Schreibender%20Zugriff%20es%20gibt%20noch%20gar%20kein%20alter%0Ad1%5B%22alter%22%5D%20%3D%2042%0A%0A%0A%0A%0Ahen%20%3D%20Duck%2842%29%0Ahen.__neue_private_var_psych%20%3D%20%22huhu%22%0ADuck.class_var%20%3D%20%22ausserhalb%20der%20Klasse%20ex%20post%20ver%C3%A4ndert%22%0ADuck.neue_class_var%20%3D%22neu%20nach%20Klassen%20def%20eingef%C3%BChrt%22%0A%0ADuck.hello%28%29%0A%0Ahen.hello_instanz%28%29%0A%0A%23hen.hello%28100%29%0A%0A%23Klassenname.INSTANZMETHODE%28EINE_INSTANZ_DER_KLASSE,%20pot%20Argument%29%0A%23Duck.hello%28%2025%29&cumulative=false&curInstr=10&heapPrimitives=nevernest&mode=display&origin=opt-frontend.js&py=311&rawInputLstJSON=%5B%5D&textReferences=false)"
   ]
  },
  {
   "cell_type": "markdown",
   "id": "5e222516-26b2-4b81-b54d-703329817a4f",
   "metadata": {},
   "source": [
    "### Wenn man eine Variable AU?ERHALB einer Klasse definiert und `__` davor setzt wird daraus KEINE private Variable!!!"
   ]
  },
  {
   "cell_type": "code",
   "execution_count": null,
   "id": "7f685b1b-2d0f-4560-9286-863614e42b42",
   "metadata": {},
   "outputs": [],
   "source": []
  },
  {
   "cell_type": "code",
   "execution_count": 2,
   "id": "367425b2-752b-4aea-8f6e-456867940220",
   "metadata": {},
   "outputs": [],
   "source": [
    "class Duck:\n",
    "    pass\n",
    "Duck.__verarsche = 42"
   ]
  },
  {
   "cell_type": "code",
   "execution_count": null,
   "id": "5201f40b-3c57-4573-a30b-1146862f6aef",
   "metadata": {},
   "outputs": [],
   "source": []
  },
  {
   "cell_type": "markdown",
   "id": "a9aaaeae-3715-4cc3-9459-f76d0a255800",
   "metadata": {},
   "source": [
    "Name Mangling (Name-Verwischung) ist ein Mechanismus in Python, der zur Erhöhung der Namensverdeckung verwendet wird, insbesondere bei der Implementierung von Klassen. Name Mangling kommt zum Einsatz, um sicherzustellen, dass private Attribute einer Klasse nicht unbeabsichtigt von abgeleiteten Klassen überschrieben oder verwendet werden.\n",
    "\n",
    "Wie funktioniert Name Mangling?\n",
    "Name Mangling tritt auf, wenn ein Attributname in einer Klasse mit zwei Underscores (`__`) beginnt, aber nicht mit zwei Unterstrichen endet. \n",
    "\n",
    "Wird so geschrieben (__Beispiel) ändert Python unter der Haube den Namen des Attributs, um ihn eindeutiger zu machen und Konflikte mit Attributen derselben Namen in Unterklassen zu vermeiden. Der neue Name wird nach dem Schema _ClassName__AttributName umgewandelt. Dies sorgt dafür, dass der Attributname im Namensraum der Klasse eingebettet wird.\n",
    "\n",
    "Ein Objekt der Klasse `class` mit dem Namen `__Beispiel` kann NUR über den neuen Namen `_class__Beispiel` aufgerufen werden, inkombination, mit dem entsprechenden Objekt, AUF dem man diesen Namen aufrufen kann. Für Details bitte die Zusammenfassung unten, oder die Beispiele lesen. "
   ]
  },
  {
   "cell_type": "markdown",
   "id": "4794ca29-e242-4514-8c2f-1e590aa8a1c7",
   "metadata": {},
   "source": [
    "**Merksatz**:\n",
    "\n",
    "AUF einer Instanz kann man KEINE Klassenvariablen DIREKT ändern! Das geht nur über eine Methode. Siehe \"Miese Prüfungsaufgabe\"."
   ]
  },
  {
   "cell_type": "markdown",
   "id": "23360038-352d-48db-beeb-b91a96492d4e",
   "metadata": {},
   "source": [
    "Außerdem kann man so auch neue Variablen erschaffen, aber dafür habe ich noch kein Beispiel gemacht. Siehe unten \"Weitere Beispiele\""
   ]
  },
  {
   "cell_type": "markdown",
   "id": "cb94203c-a488-487c-9d73-cc77bca070a8",
   "metadata": {
    "jp-MarkdownHeadingCollapsed": true
   },
   "source": [
    "## Einfaches Beispiel:"
   ]
  },
  {
   "cell_type": "code",
   "execution_count": 4,
   "id": "9d19b06a-a2a5-4324-baea-56fe8b9542a1",
   "metadata": {},
   "outputs": [],
   "source": [
    "class Base:\n",
    "    def __init__(self):\n",
    "        self.__private = \"Ich bin privat\"\n",
    "        self.public = \"Ich bin öffentlich\""
   ]
  },
  {
   "cell_type": "markdown",
   "id": "5c58ab77-4286-4fe7-a3fd-1c3630bd2d63",
   "metadata": {
    "jp-MarkdownHeadingCollapsed": true
   },
   "source": [
    "#### public"
   ]
  },
  {
   "cell_type": "code",
   "execution_count": 29,
   "id": "5a18ca68-94e0-499b-b394-537bddebff96",
   "metadata": {},
   "outputs": [
    {
     "ename": "AttributeError",
     "evalue": "type object 'Base' has no attribute 'public'",
     "output_type": "error",
     "traceback": [
      "\u001b[1;31m---------------------------------------------------------------------------\u001b[0m",
      "\u001b[1;31mAttributeError\u001b[0m                            Traceback (most recent call last)",
      "Cell \u001b[1;32mIn[29], line 1\u001b[0m\n\u001b[1;32m----> 1\u001b[0m \u001b[38;5;28mprint\u001b[39m(\u001b[43mBase\u001b[49m\u001b[38;5;241;43m.\u001b[39;49m\u001b[43mpublic\u001b[49m)\n",
      "\u001b[1;31mAttributeError\u001b[0m: type object 'Base' has no attribute 'public'"
     ]
    }
   ],
   "source": [
    "print(Base.public)"
   ]
  },
  {
   "cell_type": "markdown",
   "id": "5e6c55d7-25c7-4c56-9724-a83624cf4868",
   "metadata": {},
   "source": [
    "Eine Klasse kennt ihre Instanzen nicht! Deshalb MUSS die Instanzvariable AUF ihrer Instanz aufgerufen werden."
   ]
  },
  {
   "cell_type": "code",
   "execution_count": 12,
   "id": "17a10cd9-c8d7-41bc-badf-a28eacaea8d8",
   "metadata": {},
   "outputs": [
    {
     "name": "stdout",
     "output_type": "stream",
     "text": [
      "Ich bin öffentlich\n",
      "Ich bin öffentlich\n"
     ]
    }
   ],
   "source": [
    "base = Base()\n",
    "\n",
    "print(base.public)\n",
    "# oder\n",
    "print(Base().public)"
   ]
  },
  {
   "cell_type": "markdown",
   "id": "bd803f35-7378-46fa-9371-08a0af2e7f65",
   "metadata": {
    "jp-MarkdownHeadingCollapsed": true
   },
   "source": [
    "#### privat"
   ]
  },
  {
   "cell_type": "code",
   "execution_count": 18,
   "id": "6009c78c-a0cc-418d-9d41-898e9d631f78",
   "metadata": {},
   "outputs": [
    {
     "ename": "AttributeError",
     "evalue": "'Base' object has no attribute '__private'",
     "output_type": "error",
     "traceback": [
      "\u001b[1;31m---------------------------------------------------------------------------\u001b[0m",
      "\u001b[1;31mAttributeError\u001b[0m                            Traceback (most recent call last)",
      "Cell \u001b[1;32mIn[18], line 3\u001b[0m\n\u001b[0;32m      1\u001b[0m base \u001b[38;5;241m=\u001b[39m Base()\n\u001b[1;32m----> 3\u001b[0m \u001b[38;5;28mprint\u001b[39m(\u001b[43mbase\u001b[49m\u001b[38;5;241;43m.\u001b[39;49m\u001b[43m__private\u001b[49m)\n",
      "\u001b[1;31mAttributeError\u001b[0m: 'Base' object has no attribute '__private'"
     ]
    }
   ],
   "source": [
    "base = Base()\n",
    "\n",
    "print(base.__private)"
   ]
  },
  {
   "cell_type": "markdown",
   "id": "5cba102b-822f-4bcf-9f93-8232b4cf1e11",
   "metadata": {},
   "source": [
    "Der Versuchte Aufruf von `base.__private` löst einen Fehler aus, da `__privat` gemanglet wurde.\n",
    "\n",
    "Was trotzdem noch funktioniert ist folgegender Code:"
   ]
  },
  {
   "cell_type": "code",
   "execution_count": 17,
   "id": "d8b363ba-066a-429f-94f2-f65107433475",
   "metadata": {},
   "outputs": [
    {
     "name": "stdout",
     "output_type": "stream",
     "text": [
      "Ich bin privat\n",
      "Ich bin privat\n"
     ]
    }
   ],
   "source": [
    "base = Base()\n",
    "\n",
    "print(base._Base__private)\n",
    "# oder\n",
    "print(Base()._Base__private)"
   ]
  },
  {
   "cell_type": "markdown",
   "id": "7ef06106-19c7-4ab4-a403-f60df612fd4c",
   "metadata": {
    "jp-MarkdownHeadingCollapsed": true
   },
   "source": [
    "### Zugriff auf die Variable von einer Subklasse aus"
   ]
  },
  {
   "cell_type": "code",
   "execution_count": 27,
   "id": "6040f2bf-3110-41ca-9b11-e78073af4048",
   "metadata": {},
   "outputs": [
    {
     "name": "stdout",
     "output_type": "stream",
     "text": [
      "Ich bin öffentlich\n",
      "Ich bin auch öffentlich\n",
      "Ich bin privat\n",
      "Ich bin privat in Derived\n"
     ]
    }
   ],
   "source": [
    "class Base:\n",
    "    def __init__(self):\n",
    "        self.__private = \"Ich bin privat\"\n",
    "        self.public = \"Ich bin öffentlich\"\n",
    "\n",
    "class Derived(Base):\n",
    "    def __init__(self):\n",
    "        super().__init__()\n",
    "        self.public = \"Ich bin auch öffentlich\"\n",
    "        self.__private = \"Ich bin privat in Derived\"\n",
    "\n",
    "base = Base()\n",
    "derived = Derived()\n",
    "\n",
    "print(base.public)\n",
    "print(derived.public)\n",
    "print(derived._Base__private)\n",
    "print(derived._Derived__private)"
   ]
  },
  {
   "cell_type": "markdown",
   "id": "4205bc13-fef7-457d-9490-7960ae039647",
   "metadata": {
    "jp-MarkdownHeadingCollapsed": true
   },
   "source": [
    "### Analyse:"
   ]
  },
  {
   "cell_type": "markdown",
   "id": "6c5b68c1-b168-4811-a1a3-2c5c312e1832",
   "metadata": {},
   "source": [
    "Was passiert hier genau?"
   ]
  },
  {
   "cell_type": "code",
   "execution_count": 28,
   "id": "1ba4bf77-7dd0-410a-8787-70b9577a0d2c",
   "metadata": {},
   "outputs": [
    {
     "name": "stdout",
     "output_type": "stream",
     "text": [
      "Ich bin öffentlich\n",
      "Ich bin auch öffentlich\n"
     ]
    },
    {
     "ename": "AttributeError",
     "evalue": "'Derived' object has no attribute '_Base__private'",
     "output_type": "error",
     "traceback": [
      "\u001b[1;31m---------------------------------------------------------------------------\u001b[0m",
      "\u001b[1;31mAttributeError\u001b[0m                            Traceback (most recent call last)",
      "Cell \u001b[1;32mIn[28], line 19\u001b[0m\n\u001b[0;32m     17\u001b[0m \u001b[38;5;28mprint\u001b[39m(base\u001b[38;5;241m.\u001b[39mpublic)\n\u001b[0;32m     18\u001b[0m \u001b[38;5;28mprint\u001b[39m(derived\u001b[38;5;241m.\u001b[39mpublic)\n\u001b[1;32m---> 19\u001b[0m \u001b[38;5;28mprint\u001b[39m(\u001b[43mderived\u001b[49m\u001b[38;5;241;43m.\u001b[39;49m\u001b[43m_Base__private\u001b[49m)\n\u001b[0;32m     20\u001b[0m \u001b[38;5;28mprint\u001b[39m(derived\u001b[38;5;241m.\u001b[39m_Derived__private)\n",
      "\u001b[1;31mAttributeError\u001b[0m: 'Derived' object has no attribute '_Base__private'"
     ]
    }
   ],
   "source": [
    "class Base: # 2. Die __init()-Methode wird initialisiert \n",
    "    def __init__(self): # 3. Eine Instanz der Klasse Base wird erstellt\n",
    "        self.__private = \"Ich bin privat\" # 4. Die Instanz wird mit Instanzvariablen befüllt\n",
    "        self.public = \"Ich bin öffentlich\"\n",
    "\n",
    "class Derived(Base): # 6. Die __init()-Methode wird initialisiert \n",
    "    def __init__(self): # 7. Eine Instanz der Klasse Derived wird erstellt\n",
    "        # super().__init__() # 8. Die super()-Funktion befüllt die Instanz mit den Instanzvariablen der Superklasse Base \n",
    "        self.public = \"Ich bin auch öffentlich\" # darunter auch die \"private\" Instanzvariable\n",
    "        self.__private = \"Ich bin privat in Derived\" # 9. Die Instanz wird mit den restlichen Instanzvariablen befüllt\n",
    "                                                     # beachte auch, dass die Variable \"public\" die aus Base importiert \n",
    "                                                     # wurde von Derived überschrieben wird. Siehe Pythontutor \n",
    "base = Base() # 1. Die Klasse \"Base\" wird aufgerufen\n",
    "derived = Derived() # 5. Die Klasse \"Derived\" wird aufgerufen\n",
    "\n",
    "# 10. Die entsprechenden Variablen werden abgerufen\n",
    "print(base.public)\n",
    "print(derived.public)\n",
    "print(derived._Base__private)\n",
    "print(derived._Derived__private)"
   ]
  },
  {
   "cell_type": "markdown",
   "id": "7b1ac42a-7cc9-4d0d-8927-d625e3cd1e0b",
   "metadata": {},
   "source": [
    "Der Zweck dieses Beispiels ist es zu verstehen, dass man von der Instanz einer Subklasse (`derived`) keinen Zugriff auf die \"private\" Instanzvariable ihrer Superklasse hat, OHNE das man sie mit Hilfe der super()-Funktion in die Instanz der Subklasse importiert. \n",
    "Bei einer normalen / nicht privaten bzw. nicht gemangleten Variable ist der Zugriff ohne Probleme möglich, wie man bei bei `derived.public` sehen kann."
   ]
  },
  {
   "cell_type": "markdown",
   "id": "d14c4d33-104b-40aa-b699-7ccdbd181496",
   "metadata": {},
   "source": [
    "[Code im Pythontutor ohne super()](https://pythontutor.com/render.html#code=class%20Base%3A%20%0A%20%20%20%20def%20__init__%28self%29%3A%20%0A%20%20%20%20%20%20%20%20self.__private%20%3D%20%22Ich%20bin%20privat%22%20%0A%20%20%20%20%20%20%20%20self.public%20%3D%20%22Ich%20bin%20%C3%B6ffentlich%22%0A%0Aclass%20Derived%28Base%29%3A%20%0A%20%20%20%20def%20__init__%28self%29%3A%20%0A%20%20%20%20%20%20%20%20%23%20super%28%29.__init__%28%29%20%0A%20%20%20%20%20%20%20%20self.public%20%3D%20%22Ich%20bin%20auch%20%C3%B6ffentlich%22%20%0A%20%20%20%20%20%20%20%20self.__private%20%3D%20%22Ich%20bin%20privat%20in%20Derived%22%20%0A%0Abase%20%3D%20Base%28%29%20%0Aderived%20%3D%20Derived%28%29%20%0A%0Aprint%28base.public%29%0Aprint%28derived.public%29%0Aprint%28derived._Base__private%29%0Aprint%28derived._Derived__private%29&cumulative=false&curInstr=0&heapPrimitives=nevernest&mode=display&origin=opt-frontend.js&py=3&rawInputLstJSON=%5B%5D&textReferences=false)"
   ]
  },
  {
   "cell_type": "markdown",
   "id": "b729320c-f81d-41b8-a485-e07293368b9f",
   "metadata": {},
   "source": [
    "[Code im Pythontutor mit super()](https://pythontutor.com/render.html#code=class%20Base%3A%20%0A%20%20%20%20def%20__init__%28self%29%3A%20%0A%20%20%20%20%20%20%20%20self.__private%20%3D%20%22Ich%20bin%20privat%22%20%0A%20%20%20%20%20%20%20%20self.public%20%3D%20%22Ich%20bin%20%C3%B6ffentlich%22%0A%0Aclass%20Derived%28Base%29%3A%20%0A%20%20%20%20def%20__init__%28self%29%3A%20%0A%20%20%20%20%20%20%20%20super%28%29.__init__%28%29%20%0A%20%20%20%20%20%20%20%20self.public%20%3D%20%22Ich%20bin%20auch%20%C3%B6ffentlich%22%20%0A%20%20%20%20%20%20%20%20self.__private%20%3D%20%22Ich%20bin%20privat%20in%20Derived%22%20%0A%0Abase%20%3D%20Base%28%29%20%0Aderived%20%3D%20Derived%28%29%20%0A%0Aprint%28base.public%29%0Aprint%28derived.public%29%0Aprint%28derived._Base__private%29%0Aprint%28derived._Derived__private%29&cumulative=false&curInstr=0&heapPrimitives=nevernest&mode=display&origin=opt-frontend.js&py=3&rawInputLstJSON=%5B%5D&textReferences=false)"
   ]
  },
  {
   "cell_type": "markdown",
   "id": "c55d8a6b-dcb4-42e6-b419-b2069c1cec92",
   "metadata": {},
   "source": [
    "## Zweites Beispiel:"
   ]
  },
  {
   "cell_type": "markdown",
   "id": "720ffe61-037c-444e-8c70-436b60feae11",
   "metadata": {},
   "source": [
    "Ok, wir haben viele Instanzvariablen sowohl über ihre Instanz, als auch über ihre Klasse aufgerufen und dabei die Unterschiede zwischen gemangelten und normalen Variablen aufgezeigt. Wie sieht es mit anderen Attributen aus? Kann man Klassenvariablen und Methoden auch mangln?"
   ]
  },
  {
   "cell_type": "code",
   "execution_count": 5,
   "id": "0b2355f1-4697-45c7-b934-312c20d690b5",
   "metadata": {},
   "outputs": [
    {
     "name": "stdout",
     "output_type": "stream",
     "text": [
      "Ich bin öffentlich\n",
      "Ich bin auch öffentlich\n",
      "Ich bin privat\n",
      "Ich bin privat in Derived\n"
     ]
    }
   ],
   "source": [
    "class Base:\n",
    "\n",
    "    __classvariable = \"Ich bin die Klassenvariable\"\n",
    "    \n",
    "    def __init__(self):\n",
    "        self.__private = \"Ich bin privat\"\n",
    "        self.public = \"Ich bin öffentlich\"\n",
    "    \n",
    "    def __Test1(self):\n",
    "        print(\"Test1 hat funktioniert\")\n",
    "\n",
    "class Derived(Base):\n",
    "    def __init__(self):\n",
    "        super().__init__()\n",
    "        self.public = \"Ich bin auch öffentlich\"\n",
    "        self.__private = \"Ich bin privat in Derived\"\n",
    "\n",
    "    def __Test2(self):\n",
    "        print(\"Test2 hat funktioniert\")\n",
    "            \n",
    "base = Base()\n",
    "derived = Derived()\n",
    "\n",
    "print(base.public)\n",
    "print(derived.public)\n",
    "print(derived._Base__private)\n",
    "print(derived._Derived__private)"
   ]
  },
  {
   "cell_type": "markdown",
   "id": "638ee5a8-e8dd-4362-a7d4-440c3d3f02db",
   "metadata": {},
   "source": [
    "#### Klassenvariable"
   ]
  },
  {
   "cell_type": "code",
   "execution_count": 77,
   "id": "bdb43561-1439-4f79-b62e-a1ffa1741534",
   "metadata": {},
   "outputs": [
    {
     "name": "stdout",
     "output_type": "stream",
     "text": [
      "Ich bin die Klassenvariable\n",
      "Ich bin die Klassenvariable\n"
     ]
    }
   ],
   "source": [
    "print(base._Base__classvariable)\n",
    "print(Base._Base__classvariable)"
   ]
  },
  {
   "cell_type": "markdown",
   "id": "dd509213-c874-4837-8acb-caa2d9d831b0",
   "metadata": {},
   "source": [
    "#### Methode"
   ]
  },
  {
   "cell_type": "markdown",
   "id": "0c814065-d1b3-46ce-8015-d7a2cbd6408f",
   "metadata": {},
   "source": [
    "Wie könnte man eine gemanglte Methode aufrufen? "
   ]
  },
  {
   "cell_type": "markdown",
   "id": "36abcc8a-552c-4231-88df-68285fc740c3",
   "metadata": {},
   "source": [
    "Syntax:\n",
    "\n",
    "`Klasse()` `.` `Methode` `(` `self` `)` wobei `self` manuell übergeben werden muss\n",
    "\n",
    "Der Aufruf einer Instanz durch das Anhängen von `()` erstellt eine Instanz dieser Klasse on the fly...\n",
    "\n",
    "oder\n",
    "\n",
    "`Instanz` `.` `Methode` `()` hier wird `self` automatisch von der Instanz bereitgestellt."
   ]
  },
  {
   "cell_type": "code",
   "execution_count": 7,
   "id": "8118c23a-c8d0-46f8-bbb2-7a7986304377",
   "metadata": {},
   "outputs": [
    {
     "name": "stdout",
     "output_type": "stream",
     "text": [
      "Test1 hat funktioniert\n",
      "Test1 hat funktioniert\n",
      "Test2 hat funktioniert\n",
      "Test2 hat funktioniert\n"
     ]
    }
   ],
   "source": [
    "base._Base__Test1()\n",
    "Base()._Base__Test1()\n",
    "\n",
    "# oder\n",
    "\n",
    "derived._Derived__Test2()\n",
    "Derived()._Derived__Test2() "
   ]
  },
  {
   "cell_type": "markdown",
   "id": "fbea215a-d767-4926-91da-36a01ccdf885",
   "metadata": {},
   "source": [
    "## Zusammenfassung"
   ]
  },
  {
   "cell_type": "markdown",
   "id": "1997075d-c37b-495b-986b-f1eaf5f0666f",
   "metadata": {},
   "source": [
    "Genamemanglt werden können:\n",
    "- Instanzvariablen\n",
    "- Klassenvariablen\n",
    "- Funktionen / Methoden\n",
    "und eventuell mehr, aber das hab ich noch nicht ausprobiert..."
   ]
  },
  {
   "cell_type": "markdown",
   "id": "b5fdcf96-ec6a-461f-8925-7b8e6b9f5806",
   "metadata": {},
   "source": [
    "Schreibt man den Namen von einem der genannten Objekte mit `__` am Anfang, aber nicht am Ende intertretiert Python dies als Name Mangling und ÄNDERT den Namen des Objekts unter der Haube zu einer Kombination von Klassenname und dem Namen des Objekts. \n",
    "\n",
    "Das Objekt `__Beispiel` der Klasse `class` --> `_class__Beispiel` \n",
    "\n",
    "Je nach dem ob es sich um ein callable Objekt handelt muss man noch Klammern anhängen."
   ]
  },
  {
   "cell_type": "markdown",
   "id": "81a5a4a2-c744-4867-abd8-687f965b060f",
   "metadata": {},
   "source": [
    "Syntax:\n",
    "\n",
    "`Klasse()` `.` `_classname__object` evt. mit `(` `self` `)` \n",
    "\n",
    "oder\n",
    "\n",
    "`Instanz` `.` `_classname__object` evt. mit `()` "
   ]
  },
  {
   "cell_type": "markdown",
   "id": "20d5df27-71e3-40e1-b2b8-6c1a54c546d8",
   "metadata": {},
   "source": [
    "# Miese Prüfungsaufgabe"
   ]
  },
  {
   "cell_type": "markdown",
   "id": "e2f38f99-ca51-4cc9-953a-aef93514d647",
   "metadata": {},
   "source": [
    "### Aufgabe 6."
   ]
  },
  {
   "cell_type": "markdown",
   "id": "cc5e3d94-4a49-4bf5-a6ce-25178ff5deb6",
   "metadata": {},
   "source": [
    "Given Code below, indicate the code lines which correctly increment the __element variable by one."
   ]
  },
  {
   "cell_type": "code",
   "execution_count": 6,
   "id": "9ac8cbd3-c3cb-4b2e-ac6f-94b6433f2c40",
   "metadata": {},
   "outputs": [],
   "source": [
    "class BluePrint:\n",
    "    __element = 1\n",
    "\n",
    "    def __init(self):\n",
    "        self.component = 1\n",
    "\n",
    "    def __action(self):\n",
    "        pass\n",
    "\n",
    "product = BluePrint()"
   ]
  },
  {
   "cell_type": "markdown",
   "id": "e38d376a-5702-49bb-82bd-05b056b25200",
   "metadata": {},
   "source": [
    "Antwortmöglichkeiten:"
   ]
  },
  {
   "cell_type": "code",
   "execution_count": 13,
   "id": "e69b5b96-b4ed-46b9-a3a0-0512214fcd1a",
   "metadata": {},
   "outputs": [],
   "source": [
    "# 1.\n",
    "BluePrint._BluePrint__element += 1"
   ]
  },
  {
   "cell_type": "code",
   "execution_count": null,
   "id": "4a0b70fb-c512-45df-bf38-65647ea3dc0a",
   "metadata": {},
   "outputs": [],
   "source": [
    "# 2. \n",
    "_product__element += 1"
   ]
  },
  {
   "cell_type": "code",
   "execution_count": null,
   "id": "561a4f81-4454-4c0e-8c53-8de335597cb2",
   "metadata": {},
   "outputs": [],
   "source": [
    "# 3.\n",
    "BluePrint.element += 1"
   ]
  },
  {
   "cell_type": "code",
   "execution_count": 16,
   "id": "44642561-78be-42ce-8d15-754b7657aa6d",
   "metadata": {},
   "outputs": [],
   "source": [
    "# 4. \n",
    "product._BluePrint__element += 1"
   ]
  },
  {
   "cell_type": "code",
   "execution_count": null,
   "id": "874090cb-3544-4e12-9045-d005e2acdab7",
   "metadata": {},
   "outputs": [],
   "source": [
    "BluePrint._BluePrint__element += 1\n",
    "_product__element += 1\n",
    "BluePrint.element += 1\n",
    "product._BluePrint__element += 1"
   ]
  },
  {
   "cell_type": "markdown",
   "id": "bb536030-569e-4828-bc2d-a581218f5f0b",
   "metadata": {},
   "source": [
    "### Lösung:"
   ]
  },
  {
   "cell_type": "markdown",
   "id": "f6dcdcdb-68d7-40fc-b847-3a39e21bf677",
   "metadata": {},
   "source": [
    "Siehe auch: [Name Mangling](Name_mangling.ipynb)"
   ]
  },
  {
   "cell_type": "markdown",
   "id": "bb3eef05-f6f3-4260-94b4-0fd7ac3e9298",
   "metadata": {},
   "source": [
    "2. und 3. sind von vornherein raus, weil der Name falsch ist."
   ]
  },
  {
   "cell_type": "markdown",
   "id": "7cfe13c6-885a-4add-b015-45d22199c9f4",
   "metadata": {},
   "source": [
    "#### 1."
   ]
  },
  {
   "cell_type": "code",
   "execution_count": 18,
   "id": "bab3f2ed-ca7a-4bd7-9c21-706a49ef74e3",
   "metadata": {},
   "outputs": [
    {
     "name": "stdout",
     "output_type": "stream",
     "text": [
      "2\n"
     ]
    }
   ],
   "source": [
    "class BluePrint:\n",
    "    __element = 1\n",
    "\n",
    "    def __init(self):\n",
    "        self.component = 1\n",
    "\n",
    "    def __action(self):\n",
    "        pass\n",
    "\n",
    "product = BluePrint()\n",
    "BluePrint._BluePrint__element += 1\n",
    "print(BluePrint._BluePrint__element)"
   ]
  },
  {
   "cell_type": "markdown",
   "id": "33a66629-e865-4d3a-b232-ff487f8f5569",
   "metadata": {},
   "source": [
    "[Code im Pythontutor](https://pythontutor.com/render.html#code=class%20BluePrint%3A%0A%20%20%20%20__element%20%3D%201%0A%0A%20%20%20%20def%20__init%28self%29%3A%0A%20%20%20%20%20%20%20%20self.component%20%3D%201%0A%0A%20%20%20%20def%20__action%28self%29%3A%0A%20%20%20%20%20%20%20%20pass%0A%0Aproduct%20%3D%20BluePrint%28%29%0ABluePrint._BluePrint__element%20%2B%3D%201%0Aprint%28BluePrint._BluePrint__element%29&cumulative=false&curInstr=0&heapPrimitives=nevernest&mode=display&origin=opt-frontend.js&py=3&rawInputLstJSON=%5B%5D&textReferences=false) auch, wenn es ziemlich unspektakulär ist."
   ]
  },
  {
   "cell_type": "markdown",
   "id": "e21cbb90-3f41-4844-adfa-1787bc983e54",
   "metadata": {},
   "source": [
    "#### 4."
   ]
  },
  {
   "cell_type": "code",
   "execution_count": 19,
   "id": "8e966efb-16f7-42d3-9696-bcfa304d68ad",
   "metadata": {},
   "outputs": [
    {
     "name": "stdout",
     "output_type": "stream",
     "text": [
      "1\n"
     ]
    }
   ],
   "source": [
    "class BluePrint:\n",
    "    __element = 1\n",
    "\n",
    "    def __init(self):\n",
    "        self.component = 1\n",
    "\n",
    "    def __action(self):\n",
    "        pass\n",
    "\n",
    "product = BluePrint()\n",
    "product._BluePrint__element += 1\n",
    "print(BluePrint._BluePrint__element)"
   ]
  },
  {
   "cell_type": "markdown",
   "id": "1aec3e39-0403-495c-a558-355af2895f31",
   "metadata": {},
   "source": [
    "Warum funktioniert das nicht?"
   ]
  },
  {
   "cell_type": "markdown",
   "id": "746f11ea-6660-4ea2-8fe6-1bbf77850ab4",
   "metadata": {},
   "source": [
    "[Code im Pythontutor](https://pythontutor.com/render.html#code=class%20BluePrint%3A%0A%20%20%20%20__element%20%3D%201%0A%0A%20%20%20%20def%20__init%28self%29%3A%0A%20%20%20%20%20%20%20%20self.component%20%3D%201%0A%0A%20%20%20%20def%20__action%28self%29%3A%0A%20%20%20%20%20%20%20%20pass%0A%0Aproduct%20%3D%20BluePrint%28%29%0Aproduct._BluePrint__element%20%2B%3D%201%0Aprint%28BluePrint._BluePrint__element%29&cumulative=false&curInstr=0&heapPrimitives=nevernest&mode=display&origin=opt-frontend.js&py=3&rawInputLstJSON=%5B%5D&textReferences=false)"
   ]
  },
  {
   "cell_type": "markdown",
   "id": "eb21299e-cedf-4acb-90d3-616f1fbe4c27",
   "metadata": {},
   "source": [
    "OMG ist das ein MIESER Code!!! Statt die genamemanglte Klassenvariable `_BluePrint__element` zu ändern ERSTELLT die Code Zeile `product._BluePrint__element += 1` eine INSTANZVARIABLE `self._BluePrint__element = 1`!!!"
   ]
  },
  {
   "cell_type": "markdown",
   "id": "1ff122eb-e91b-4182-961c-3f573887b999",
   "metadata": {},
   "source": [
    "Genaue Analyse:"
   ]
  },
  {
   "cell_type": "code",
   "execution_count": 34,
   "id": "66d82f64-8f1d-4ed0-ad55-f01f29ea1ea7",
   "metadata": {},
   "outputs": [
    {
     "name": "stdout",
     "output_type": "stream",
     "text": [
      "1\n",
      "2\n"
     ]
    }
   ],
   "source": [
    "class BluePrint: # 2. Die Klasse erstellt eine Instanz  \n",
    "    __element = 1 \n",
    "\n",
    "    def __init(self): # Die __init hier scheint die __init__ zu überschreiben den es wird keine Instanzvariable\n",
    "        self.component = 1 # self.component erstellt\n",
    "\n",
    "    def __action(self):\n",
    "        pass\n",
    "\n",
    "product = BluePrint() # 1. Die Klasse wird aufgerufen\n",
    "product._BluePrint__element += 1\n",
    "print(BluePrint._BluePrint__element) # Die Klassenvariable\n",
    "print(product._BluePrint__element) # Die Instanzvariable"
   ]
  },
  {
   "cell_type": "markdown",
   "id": "c0aae644-4460-478a-a077-4db4eab2f1c9",
   "metadata": {},
   "source": [
    "```python \n",
    "product._BluePrint__element += 1 # Das ist legaler Code, aber was unter der haube passiert ist folgendes:\n",
    "```\n",
    "`+= 1` heißt ja HOCH zählen. Welcher Wert ist den schon vorher da, bzw wo schaut man ihn nach?\n",
    "Unter der Haube ist `product._BluePrint__element += 1`:\n",
    "\n",
    "`product._BluePrint__element = product._BluePrint__element + 1`\n",
    "\n",
    "Doch wir haben einmal einen **lesenden** und einen **schreibenden** Zugriff.\n",
    "\n",
    "`product._BluePrint__element` schaut ob es eine **Instanzvariable** mit diesem Namen gibt, wenn das nicht der Fall ist schaut sie in der Klasse nach. Das sieht dann etwa so aus: \n",
    "`product.__class__._BluePrint__element` und in der Klasse findet man dann die Klassenvariable = 1.\n",
    "\n",
    "Das evaluiert dann zu: `product._BluePrint__element = 1 + 1`\n",
    "\n",
    "Und so wird eine INSTANZVARIABLE `_BluePrint__element = 2` erstellt"
   ]
  },
  {
   "cell_type": "markdown",
   "id": "f5fa928d-988f-4de9-bbe3-36188ef5df11",
   "metadata": {},
   "source": [
    "[Erklärung Pythontutor](https://pythontutor.com/render.html#code=class%20BluePrint%3A%0A%20%20%20%20__element%20%3D%201%0A%0A%20%20%20%20def%20__init%28self%29%3A%0A%20%20%20%20%20%20%20%20self.component%20%3D%201%0A%0A%20%20%20%20def%20__action%28self%29%3A%0A%20%20%20%20%20%20%20%20pass%0A%0Aproduct%20%3D%20BluePrint%28%29%0Aproduct._BluePrint__element%20%2B%3D%201%0Aprint%28BluePrint._BluePrint__element%29%0Aprint%28product._BluePrint__element%29&cumulative=false&curInstr=0&heapPrimitives=nevernest&mode=display&origin=opt-frontend.js&py=3&rawInputLstJSON=%5B%5D&textReferences=false)"
   ]
  },
  {
   "cell_type": "markdown",
   "id": "94d922e6-44ef-4b5c-a71b-05d2574cf0d0",
   "metadata": {},
   "source": [
    "**Merksatz**:\n",
    "\n",
    "AUF einer Instanz kann man KEINE Klassenvariablen DIREKT ändern! Das geht nur über eine Methode."
   ]
  },
  {
   "cell_type": "markdown",
   "id": "cf3d09d5-bf3b-40c9-a0a1-0c8c8b3bf31f",
   "metadata": {
    "jp-MarkdownHeadingCollapsed": true
   },
   "source": [
    "# Weitere Beispiele"
   ]
  },
  {
   "cell_type": "code",
   "execution_count": 69,
   "id": "cce418bd-c704-4402-b59c-5036048e894e",
   "metadata": {},
   "outputs": [
    {
     "name": "stdout",
     "output_type": "stream",
     "text": [
      "42\n",
      "Anna\n",
      "Bonn\n",
      "=================================nun Zugriff ausserhalb der Klasse==================================\n",
      "42\n",
      "Anna\n",
      "Bonn\n"
     ]
    }
   ],
   "source": [
    "class Person: \n",
    "\n",
    "    def __init__(self, age, name, city):\n",
    "        self.age = age\n",
    "        self._name = name # semi-privat\n",
    "        self.__city = city # so privat wie man in Python sein kann (nicht sehr privat)\n",
    "\n",
    "    def print_all_variables(self):\n",
    "        # Innerhalb der Klasse sind alle Namen genau wie ich sie definiert habe\n",
    "        print(self.age)\n",
    "        print(self._name) #= name # semi-privat\n",
    "        print(self.__city) #= city # so privat wie man in Python sein kann (nicht sehr privat)\n",
    "\n",
    "\n",
    "p1 = Person(42,\"Anna\", \"Bonn\")\n",
    "p1.print_all_variables()\n",
    "print(\"nun Zugriff ausserhalb der Klasse\".center(100, \"=\"))\n",
    "# Zugriff auf die Variablen von AUSSERHALB der KLasse\n",
    "print(p1.age)\n",
    "print(p1._name) #= name # semi-privat\n",
    "#print(p1.__city)# AUSSERHALB der KLasse ist dieser ORIGINAL Name nicht vorhanden\n",
    "# sondern es wird folgendes Muster verwendet 1. Var =>  __my_var_name\n",
    "# => _KLASSENNAME__my_var_name\n",
    "\n",
    "# Man kommt wenn man will direkt an die Variable wenn man _Klassenname davor setzt. \n",
    "print(p1._Person__city)\n",
    "\n"
   ]
  },
  {
   "cell_type": "code",
   "execution_count": 63,
   "id": "0b981c30-3252-4fb6-bc87-6a4aba376e49",
   "metadata": {},
   "outputs": [
    {
     "data": {
      "text/plain": [
       "{'age': 42, '_name': 'Anna', '_Person__city': 'Bonn'}"
      ]
     },
     "execution_count": 63,
     "metadata": {},
     "output_type": "execute_result"
    }
   ],
   "source": [
    "p1.__dict__"
   ]
  },
  {
   "cell_type": "code",
   "execution_count": 35,
   "id": "f0cdf464-dc0c-40b7-aff1-f11df36d862d",
   "metadata": {},
   "outputs": [],
   "source": [
    "# Neue Var mit zwei __ am Anfang aber AUSSERHALB der KLasse erstellt\n",
    "p1.__newVariable = \"huhu\""
   ]
  },
  {
   "cell_type": "code",
   "execution_count": 37,
   "id": "79f4b4a6-398c-43b8-8a08-d96ca875d294",
   "metadata": {},
   "outputs": [
    {
     "data": {
      "text/plain": [
       "{'age': 42, '_name': 'Anna', '_Person__city': 'Bonn', '__newVariable': 'huhu'}"
      ]
     },
     "execution_count": 37,
     "metadata": {},
     "output_type": "execute_result"
    }
   ],
   "source": [
    "p1.__dict__  # __newVariable nicht genamemangeld das 2 Bedingung nötig sind\n",
    "# 1. __ am Anfang\n",
    "# 2. Deklaration/Definition des Namens INNERHALB EINER KLASSE"
   ]
  },
  {
   "cell_type": "code",
   "execution_count": 40,
   "id": "ecccc068-afe7-4aec-be86-ce5372b946d8",
   "metadata": {},
   "outputs": [],
   "source": [
    "class Person2: \n",
    "    # Klassenvariablen kann man auch Name-Mangeln\n",
    "    __my_class_var = 100000\n",
    "    \n",
    "    def __init__(self, age, name, city):\n",
    "        self.age = age\n",
    "        self._name = name # semi-privat\n",
    "        self.__city = city # Instanzvariablen kann man name mangelen\n",
    "\n",
    "    # auch Methoden kann man name mangeln\n",
    "    def __print_all_variables(self):\n",
    "        # Innerhalb der Klasse sind alle Namen genau wie ich sie definiert habe\n",
    "        print(self.age)\n",
    "        print(self._name) #= name # semi-privat\n",
    "        print(self.__city) #= city # so privat wie man in Python sein kann (nicht sehr privat)\n",
    "\n"
   ]
  },
  {
   "cell_type": "code",
   "execution_count": 41,
   "id": "c2367bfb-cef6-4ac8-8f21-b7a927db2893",
   "metadata": {},
   "outputs": [
    {
     "data": {
      "text/plain": [
       "mappingproxy({'__module__': '__main__',\n",
       "              '_Person2__my_class_var': 100000,\n",
       "              '__init__': <function __main__.Person2.__init__(self, age, name, city)>,\n",
       "              '_Person2__print_all_variables': <function __main__.Person2.__print_all_variables(self)>,\n",
       "              '__dict__': <attribute '__dict__' of 'Person2' objects>,\n",
       "              '__weakref__': <attribute '__weakref__' of 'Person2' objects>,\n",
       "              '__doc__': None})"
      ]
     },
     "execution_count": 41,
     "metadata": {},
     "output_type": "execute_result"
    }
   ],
   "source": [
    "Person2.__dict__"
   ]
  },
  {
   "cell_type": "code",
   "execution_count": null,
   "id": "e9811a1a-4128-485c-8923-dd6a513137a5",
   "metadata": {},
   "outputs": [],
   "source": [
    "'_Person2__print_all_variables'\n",
    "'_Person2__my_class_var'"
   ]
  },
  {
   "cell_type": "code",
   "execution_count": 54,
   "id": "0eb7fc3f-04a1-424d-b8cb-e58741655096",
   "metadata": {},
   "outputs": [],
   "source": [
    "class Person3: \n",
    "    def __init__(self, name):\n",
    "        self._name = name # semi-privat\n",
    "\n",
    "    @property\n",
    "    def name(self):\n",
    "        return self._name.upper()\n",
    "\n",
    "    @name.setter\n",
    "    def name(self, value):\n",
    "        print(\"HUHUHU ich als FUnktion laufe obwohl keiner mic aufgerufen hat explizit\")\n",
    "        if not value:\n",
    "            raise ValueError(\"Name cannot be empty\")\n",
    "        self._name = value\n",
    "    \n",
    "      \n",
    "    "
   ]
  },
  {
   "cell_type": "code",
   "execution_count": 55,
   "id": "d8ad992f-fd91-4d1e-b9ef-283dc7f0b8af",
   "metadata": {},
   "outputs": [],
   "source": [
    "p3 = Person3(\"Anna\")"
   ]
  },
  {
   "cell_type": "code",
   "execution_count": 56,
   "id": "ddb85520-b43b-45db-863f-e81fdf85663d",
   "metadata": {},
   "outputs": [
    {
     "data": {
      "text/plain": [
       "'ANNA'"
      ]
     },
     "execution_count": 56,
     "metadata": {},
     "output_type": "execute_result"
    }
   ],
   "source": [
    "p3.name"
   ]
  },
  {
   "cell_type": "code",
   "execution_count": 57,
   "id": "de1d8683-254a-4218-a23e-3399ddce000f",
   "metadata": {},
   "outputs": [
    {
     "name": "stdout",
     "output_type": "stream",
     "text": [
      "HUHUHU ich als FUnktion laufe obwohl keiner mic aufgerufen hat explizit\n"
     ]
    }
   ],
   "source": [
    "p3.name =\" Philipp\""
   ]
  },
  {
   "cell_type": "code",
   "execution_count": 58,
   "id": "8cacfd27-7c6f-4ca9-be3c-2377a78928e8",
   "metadata": {},
   "outputs": [
    {
     "name": "stdout",
     "output_type": "stream",
     "text": [
      " Philipp\n"
     ]
    }
   ],
   "source": [
    "print(p3._name)"
   ]
  },
  {
   "cell_type": "code",
   "execution_count": 59,
   "id": "c950e0eb-66d7-4ce2-aa51-f8d50f3277a1",
   "metadata": {},
   "outputs": [],
   "source": [
    "p3._name = \"Scheibenkäse\""
   ]
  },
  {
   "cell_type": "code",
   "execution_count": 60,
   "id": "b9ff2036-32c1-4617-89d5-8c05a3dafd58",
   "metadata": {},
   "outputs": [
    {
     "data": {
      "text/plain": [
       "{'_name': 'Scheibenkäse'}"
      ]
     },
     "execution_count": 60,
     "metadata": {},
     "output_type": "execute_result"
    }
   ],
   "source": [
    "p3.__dict__"
   ]
  },
  {
   "cell_type": "code",
   "execution_count": null,
   "id": "7be460ac-0fbf-4498-b69b-27ac2f51d088",
   "metadata": {},
   "outputs": [],
   "source": []
  }
 ],
 "metadata": {
  "kernelspec": {
   "display_name": "Python 3 (ipykernel)",
   "language": "python",
   "name": "python3"
  },
  "language_info": {
   "codemirror_mode": {
    "name": "ipython",
    "version": 3
   },
   "file_extension": ".py",
   "mimetype": "text/x-python",
   "name": "python",
   "nbconvert_exporter": "python",
   "pygments_lexer": "ipython3",
   "version": "3.12.4"
  }
 },
 "nbformat": 4,
 "nbformat_minor": 5
}
