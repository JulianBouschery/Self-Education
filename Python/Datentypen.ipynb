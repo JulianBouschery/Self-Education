{
 "cells": [
  {
   "cell_type": "markdown",
   "id": "b45feadb-a1c0-46f7-af3c-ccec07d58a95",
   "metadata": {},
   "source": [
    "[Zurück zum Inhaltsverzeichnis](_Inhaltsverzeichnis_.ipynb)"
   ]
  },
  {
   "cell_type": "markdown",
   "id": "ed10e217-80af-4896-8dd5-a9f195dc5bcb",
   "metadata": {},
   "source": [
    "# Datentypen"
   ]
  },
  {
   "cell_type": "markdown",
   "id": "57df21a5-ca45-459b-a9db-f4ef1d7e6548",
   "metadata": {},
   "source": [
    "- Was passiert? (Funktion erklären)\n",
    "- Was ist das? (Definition formulieren)\n",
    "- Warum / Wie funktioniert das? (Hintergründe und Details)\n",
    "  All, das Hand von sehr vielen Beispielen erklären"
   ]
  },
  {
   "cell_type": "markdown",
   "id": "323ff92b-7cc3-4579-9fb4-f88110a0a39a",
   "metadata": {},
   "source": [
    "Hier hat uns Philipp am ersten Tag einen Überblick gegeben, was es so alles gibt:"
   ]
  },
  {
   "cell_type": "code",
   "execution_count": 25,
   "id": "3936df25-4aae-44f9-96ac-31ed36df6e07",
   "metadata": {},
   "outputs": [
    {
     "name": "stdout",
     "output_type": "stream",
     "text": [
      "<class 'int'> 25\n",
      "<class 'str'> Julian\n",
      "<class 'int'> 75\n",
      "<class 'float'> 1.9\n",
      "<class 'float'> 20.8\n",
      "<class 'bool'> False\n",
      "Julian hat einen BMI von 20.8\n"
     ]
    }
   ],
   "source": [
    "alter = 25\n",
    "name = \"Julian\"\n",
    "gewicht_kg = 75\n",
    "groesse_m = 1.90\n",
    "bmi = round(gewicht_kg/(groesse_m**2),1)\n",
    "warnung = bmi > 40\n",
    "\n",
    "tuple_ = alter,name, gewicht_kg, groesse_m, 42\n",
    "liste_ = [alter,name, gewicht_kg, groesse_m, 42]\n",
    "set_ = {alter,name, gewicht_kg, groesse_m, 42}\n",
    "\n",
    "dict_ = {\"alter\":alter, \n",
    "            \"name\":name, \n",
    "            \"gewicht\": gewicht_kg,\n",
    "            \"groesse\": groesse_m, \n",
    "            \"beste Zahl\": 42}\n",
    "\n",
    "\n",
    "print(type(alter), alter)\n",
    "print(type(name), name)\n",
    "print(type(gewicht_kg), gewicht_kg)\n",
    "print(type(groesse_m), groesse_m)\n",
    "print(type(bmi), bmi)\n",
    "print(type(warnung), warnung)\n",
    "\n",
    "\n",
    "print(name, \"hat einen BMI von\", bmi)"
   ]
  },
  {
   "cell_type": "markdown",
   "id": "dd30720f-3ffd-458f-a81a-32d8a8283f4d",
   "metadata": {},
   "source": [
    "### Was wollte Philipp uns damit sagen?\n",
    "\n",
    "1. Es gibt unterschiedliche Klassen, aber dazukommen wir später noch.\n",
    "2. Es gibt unterschiedliche TYPEN von Code."
   ]
  },
  {
   "cell_type": "markdown",
   "id": "0d264495-ecc0-498c-a4c6-77d96ff66e89",
   "metadata": {},
   "source": [
    "Beispiele:"
   ]
  },
  {
   "cell_type": "code",
   "execution_count": 26,
   "id": "ff61ee6e-7ffd-4c24-be3a-475baf79ab4d",
   "metadata": {},
   "outputs": [
    {
     "data": {
      "text/plain": [
       "(int, 25)"
      ]
     },
     "execution_count": 26,
     "metadata": {},
     "output_type": "execute_result"
    }
   ],
   "source": [
    "type(alter), alter"
   ]
  },
  {
   "cell_type": "markdown",
   "id": "beab57a1-aed0-4730-a85b-bff4848776a7",
   "metadata": {},
   "source": [
    "`int` steht für Integer und ist der Datentyp für ganze Zahlen 1,2,3,4,5 etc...\n",
    "(Integer ist nicht das gleiche wie Integral !!!)"
   ]
  },
  {
   "cell_type": "code",
   "execution_count": 28,
   "id": "d37bf5ad-9639-4437-921d-e323512699f5",
   "metadata": {},
   "outputs": [
    {
     "data": {
      "text/plain": [
       "(str, 'Julian')"
      ]
     },
     "execution_count": 28,
     "metadata": {},
     "output_type": "execute_result"
    }
   ],
   "source": [
    "type(name), name"
   ]
  },
  {
   "cell_type": "markdown",
   "id": "72840699-1426-4d77-b791-cde58b45cfcd",
   "metadata": {},
   "source": [
    "`str` steht für String und ist der Datentyp für Text. \"abcdefg123456!\" Strings müssen IMMER in \" \" bzw. ' ' geschrieben werden. \n",
    "\n",
    "\n",
    "                                                                                                                          \n",
    "Aber dazu mehr im Kapitel \"Strings\"."
   ]
  },
  {
   "cell_type": "code",
   "execution_count": 30,
   "id": "70b81e6a-d61e-4d75-8499-4d776f14a7f8",
   "metadata": {},
   "outputs": [
    {
     "data": {
      "text/plain": [
       "(float, 1.9)"
      ]
     },
     "execution_count": 30,
     "metadata": {},
     "output_type": "execute_result"
    }
   ],
   "source": [
    "type(groesse_m), groesse_m"
   ]
  },
  {
   "cell_type": "markdown",
   "id": "1379cb6b-2107-4a80-8024-3641b03a5673",
   "metadata": {},
   "source": [
    "`float` steht für Floating-Point-Number und ist der Datentyp für Gleitkommazahlen"
   ]
  },
  {
   "cell_type": "code",
   "execution_count": 52,
   "id": "b353500f-1677-418b-a5a6-445b18ea9003",
   "metadata": {},
   "outputs": [
    {
     "data": {
      "text/plain": [
       "tuple"
      ]
     },
     "execution_count": 52,
     "metadata": {},
     "output_type": "execute_result"
    }
   ],
   "source": [
    "type(tuple_) # Siehe Zusammenfassung unten"
   ]
  },
  {
   "cell_type": "code",
   "execution_count": 55,
   "id": "fc9dcffa-57f2-407e-8b92-1da4be7e59c7",
   "metadata": {},
   "outputs": [
    {
     "data": {
      "text/plain": [
       "list"
      ]
     },
     "execution_count": 55,
     "metadata": {},
     "output_type": "execute_result"
    }
   ],
   "source": [
    "type(liste_) # Siehe Zusammenfassung unten"
   ]
  },
  {
   "cell_type": "code",
   "execution_count": 54,
   "id": "c807b47e-8e64-420c-a651-dcfc55ab960a",
   "metadata": {},
   "outputs": [
    {
     "data": {
      "text/plain": [
       "set"
      ]
     },
     "execution_count": 54,
     "metadata": {},
     "output_type": "execute_result"
    }
   ],
   "source": [
    "type(set_) # Siehe Zusammenfassung unten"
   ]
  },
  {
   "cell_type": "code",
   "execution_count": 53,
   "id": "309010c9-a553-4af5-b15d-beba2304cd09",
   "metadata": {},
   "outputs": [
    {
     "data": {
      "text/plain": [
       "dict"
      ]
     },
     "execution_count": 53,
     "metadata": {},
     "output_type": "execute_result"
    }
   ],
   "source": [
    "type(dict_) # Siehe Zusammenfassung unten"
   ]
  },
  {
   "cell_type": "code",
   "execution_count": 32,
   "id": "71855722-1d14-4639-b004-2fd0ce1b2372",
   "metadata": {},
   "outputs": [
    {
     "data": {
      "text/plain": [
       "(bool, False)"
      ]
     },
     "execution_count": 32,
     "metadata": {},
     "output_type": "execute_result"
    }
   ],
   "source": [
    "type(warnung), warnung"
   ]
  },
  {
   "cell_type": "markdown",
   "id": "8c01b4f0-9c57-4d37-b857-e1f8b9a20b94",
   "metadata": {},
   "source": [
    "`bool` steht für Boolean value und ist nach seinem Erfinder Gerge Boole bennant.                                     \n",
    "Im Deutschen auch boolscher Wert gennant.                                \n",
    "Er gibt an, ob etwas True/False (wahr/falsch) ist."
   ]
  },
  {
   "cell_type": "markdown",
   "id": "d33143ec-0914-473a-90b6-f3b3080653c0",
   "metadata": {},
   "source": [
    "## Zusammenfassung Datentypen:"
   ]
  },
  {
   "cell_type": "markdown",
   "id": "60f09c22-09ff-420c-ad47-98ac3103acf0",
   "metadata": {},
   "source": [
    "Datentypen definieren die Art und Weise, wie Daten in einem Programm gespeichert und manipuliert werden können. In Python gibt es verschiedene integrierte Datentypen wie Integer, Float, String, List, Tuple, Dictionary usw. Jeder Datentyp hat seine eigenen Eigenschaften und Methoden, die auf ihn angewendet werden können.\n",
    "\n",
    "- Integer: Ganze Zahlen wie `5`, `-3`, `1000`.\n",
    "- Float: Gleitkommazahlen wie `3.14`, `2.718`.\n",
    "- String: Eine Sequenz von Zeichen, die in Anführungszeichen stehen, wie `\"Hallo\"`, `'Welt'`.\n",
    "- Liste: Eine geordnete Sammlung von Elementen, die durch Kommas getrennt und in eckigen Klammern `[...]` dargestellt werden,  wie `[1, 2, 3]`.\n",
    "- Tuple: Eine geordnete Sammlung von Elementen, die durch Kommas getrennt und in runden Klammern `(...)` dargestellt werden können, wie `(1, 'a', 3.14)`. DIE KOMMA MACHEN DAS TUPEL, NICHT DIE KLAMMER!!!\n",
    "- Dictionary: Eine Sammlung von Schlüssel-Wert-Paaren, die durch geschweifte Klammern `{...}` dargestellt werden, wie `{'Name': 'John', 'Alter': 30}`.\n",
    "- Set: Erklärung fehlt noch (eventuell so etwas ähnliches wie eine Liste, vielleicht eine Auswahl von etwas...?)\n",
    "\n",
    "- Eine ungeordnete Sammlung von Elementen in der es keine Dupplikate gibt und die keine Indizes / keinen Index besitzt.\n",
    "\n",
    "[Beispiel Set vs. Liste in Python Tutor:](https://pythontutor.com/render.html#code=liste_%20%3D%20%5B1,2,3,%22Hallo%22%5D%0A%0Aset_%20%3D%20%7B4,5,5,5,6,4,%22Hallo%22,%22dr%C3%B6lf%22,%20%22Schokokuchen%22,9,10%7D&cumulative=false&curInstr=2&heapPrimitives=nevernest&mode=display&origin=opt-frontend.js&py=3&rawInputLstJSON=%5B%5D&textReferences=false)\n",
    "\n",
    "\n",
    "```python\n",
    "# Beispiel für Datentypen\n",
    "integer_variable = 5  # Integer\n",
    "float_variable = 3.14  # Float\n",
    "string_variable = \"Hallo\"  # String\n",
    "list_variable = [1, 2, 3]  # Liste\n",
    "tuple_variable = (1, 'a', 3.14)  # Tuple\n",
    "dictionary_variable = {'Name': 'John', 'Alter': 30}  # Dictionary\n",
    "```"
   ]
  },
  {
   "cell_type": "markdown",
   "id": "8bac0224-0dd4-4c08-93e3-8387d32c3506",
   "metadata": {},
   "source": [
    "# Erweiterung durch ChatGPT (PCAP)"
   ]
  },
  {
   "cell_type": "markdown",
   "id": "11102c2d-5476-4c0e-9aec-38409cf6ae5d",
   "metadata": {},
   "source": [
    "## Welche Datentypen erzeugen welchen Fehler? "
   ]
  },
  {
   "cell_type": "code",
   "execution_count": 53,
   "id": "5cbf3570-21e3-4f80-89cc-b707097e201d",
   "metadata": {},
   "outputs": [
    {
     "name": "stdout",
     "output_type": "stream",
     "text": [
      "<class 'int'>\n",
      "<class 'float'>\n",
      "<class 'complex'>\n",
      "<class 'bool'>\n",
      "<class 'str'>\n",
      "<class 'list'>\n",
      "<class 'tuple'>\n",
      "<class 'range'>\n",
      "<class 'dict'>\n",
      "<class 'set'>\n",
      "<class 'frozenset'>\n",
      "<class 'bytes'>\n",
      "<class 'bytearray'>\n",
      "<class 'memoryview'>\n",
      "<class 'NoneType'>\n"
     ]
    }
   ],
   "source": [
    "# Primitive Datentypen\n",
    "int_value = 42\n",
    "float_value = 3.14\n",
    "complex_value = 1 + 2j\n",
    "bool_value = True\n",
    "str_value = \"hello\"\n",
    "\n",
    "# Sequenzielle Datentypen\n",
    "list_value = [1, 2, 3]\n",
    "tuple_value = (1, 2, 3)\n",
    "range_value = range(5)\n",
    "\n",
    "# Mapping Datentypen\n",
    "dict_value = {\"key1\": \"value1\", \"key2\": \"value2\"}\n",
    "\n",
    "# Set Datentypen\n",
    "set_value = {1, 2, 3}\n",
    "frozenset_value = frozenset([1, 2, 3])\n",
    "\n",
    "# Binäre Datentypen\n",
    "bytes_value = b'hello'\n",
    "bytearray_value = bytearray(b'hello')\n",
    "memoryview_value = memoryview(b'hello')\n",
    "\n",
    "# NoneType\n",
    "none_value = None\n",
    "\n",
    "# Ausgabe der Typen\n",
    "print(type(int_value))\n",
    "print(type(float_value))\n",
    "print(type(complex_value))\n",
    "print(type(bool_value))\n",
    "print(type(str_value))\n",
    "print(type(list_value))\n",
    "print(type(tuple_value))\n",
    "print(type(range_value))\n",
    "print(type(dict_value))\n",
    "print(type(set_value))\n",
    "print(type(frozenset_value))\n",
    "print(type(bytes_value))\n",
    "print(type(bytearray_value))\n",
    "print(type(memoryview_value))\n",
    "print(type(none_value))\n"
   ]
  }
 ],
 "metadata": {
  "kernelspec": {
   "display_name": "Python 3 (ipykernel)",
   "language": "python",
   "name": "python3"
  },
  "language_info": {
   "codemirror_mode": {
    "name": "ipython",
    "version": 3
   },
   "file_extension": ".py",
   "mimetype": "text/x-python",
   "name": "python",
   "nbconvert_exporter": "python",
   "pygments_lexer": "ipython3",
   "version": "3.12.4"
  }
 },
 "nbformat": 4,
 "nbformat_minor": 5
}
