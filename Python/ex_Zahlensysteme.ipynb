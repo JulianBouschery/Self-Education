{
 "cells": [
  {
   "cell_type": "markdown",
   "id": "1da750a8-6b07-4a14-9fa1-78e1e8e9b7ad",
   "metadata": {},
   "source": [
    "[Zurück zum Inhaltsverzeichnis](_Inhaltsverzeichnis_.ipynb)"
   ]
  },
  {
   "cell_type": "markdown",
   "id": "546af2ca-71a4-4cce-af30-bf1d3a1081b2",
   "metadata": {},
   "source": [
    "Siehe auch:"
   ]
  },
  {
   "cell_type": "markdown",
   "id": "14cb1661-acbd-4023-a366-61ed6c02855c",
   "metadata": {},
   "source": [
    "[Zahlensysteme](Zahlensysteme.ipynb)"
   ]
  },
  {
   "cell_type": "markdown",
   "id": "1338f907-ec43-464a-a27b-9bf184a76881",
   "metadata": {},
   "source": [
    "# Übungsaufgaben zu Zahlensystemen"
   ]
  },
  {
   "cell_type": "markdown",
   "id": "8c7e05ca-7ec2-49e7-a859-3843d219a256",
   "metadata": {},
   "source": [
    "**Generell gilt IMMER:**\n",
    "```Python\n",
    "Ziffer * Basis ** Exponent\n",
    "```"
   ]
  },
  {
   "cell_type": "code",
   "execution_count": null,
   "id": "31d3a1a7-51ed-4eac-a3a0-2e621941eb0b",
   "metadata": {},
   "outputs": [],
   "source": [
    "#HEXADEZIMAL => Basis ist 16\n",
    "223 #=> 2*100+2*10+3*1\n",
    "print(2*(16**2)+2*(16**1)+3*(16**0))"
   ]
  },
  {
   "cell_type": "code",
   "execution_count": 1,
   "id": "2a858b91-8e77-41b3-86b0-0a2719749f1f",
   "metadata": {},
   "outputs": [
    {
     "data": {
      "text/plain": [
       "1026"
      ]
     },
     "execution_count": 1,
     "metadata": {},
     "output_type": "execute_result"
    }
   ],
   "source": [
    "0x402"
   ]
  },
  {
   "cell_type": "markdown",
   "id": "68b4747a-f211-4d08-8e61-491c509807db",
   "metadata": {},
   "source": [
    "## Hex"
   ]
  },
  {
   "cell_type": "markdown",
   "id": "738d7548-3734-4bd8-8946-5f50cc9297ae",
   "metadata": {},
   "source": [
    "### Zahlen lesen / errechnen"
   ]
  },
  {
   "cell_type": "markdown",
   "id": "04e0f297-2218-4f16-8be1-34de5c736d3e",
   "metadata": {
    "jp-MarkdownHeadingCollapsed": true
   },
   "source": [
    "#### Aufgabe 1:"
   ]
  },
  {
   "cell_type": "code",
   "execution_count": 3,
   "id": "5d09bad9-7f5d-4c8d-8889-0de45013d30a",
   "metadata": {},
   "outputs": [
    {
     "data": {
      "text/plain": [
       "819"
      ]
     },
     "execution_count": 3,
     "metadata": {},
     "output_type": "execute_result"
    }
   ],
   "source": [
    "0x333"
   ]
  },
  {
   "cell_type": "code",
   "execution_count": 2,
   "id": "fa221833-f032-4d2e-8627-f2d074e2a3f4",
   "metadata": {},
   "outputs": [
    {
     "data": {
      "text/plain": [
       "819"
      ]
     },
     "execution_count": 2,
     "metadata": {},
     "output_type": "execute_result"
    }
   ],
   "source": [
    "768+48+3"
   ]
  },
  {
   "cell_type": "markdown",
   "id": "cf1af105-ab12-4a3e-8c65-a4c771e3d8e2",
   "metadata": {
    "jp-MarkdownHeadingCollapsed": true
   },
   "source": [
    "#### Aufgabe 2:"
   ]
  },
  {
   "cell_type": "code",
   "execution_count": 5,
   "id": "30c026fb-f594-4fd0-b925-fa52fb400e10",
   "metadata": {},
   "outputs": [
    {
     "data": {
      "text/plain": [
       "12320"
      ]
     },
     "execution_count": 5,
     "metadata": {},
     "output_type": "execute_result"
    }
   ],
   "source": [
    "0x3020"
   ]
  },
  {
   "cell_type": "code",
   "execution_count": 4,
   "id": "cd66ba9e-8fcf-440e-a6dd-72067a41b94c",
   "metadata": {},
   "outputs": [
    {
     "data": {
      "text/plain": [
       "196640"
      ]
     },
     "execution_count": 4,
     "metadata": {},
     "output_type": "execute_result"
    }
   ],
   "source": [
    "196608+32"
   ]
  },
  {
   "cell_type": "code",
   "execution_count": 6,
   "id": "05e9433a-5123-487a-b2b4-515c36109830",
   "metadata": {},
   "outputs": [
    {
     "name": "stdout",
     "output_type": "stream",
     "text": [
      "12320\n"
     ]
    }
   ],
   "source": [
    "print(3*(16**3) + 0*(16**2) + 2*(16**1) + 0*(16**0))"
   ]
  },
  {
   "cell_type": "markdown",
   "id": "7f82cdba-f24c-403e-965c-4f1ced449a95",
   "metadata": {},
   "source": [
    "Habe hoch 4 statt ho drei gerechnet"
   ]
  },
  {
   "cell_type": "code",
   "execution_count": 7,
   "id": "1188d4d6-5b45-4236-a79b-53e58579ef5d",
   "metadata": {},
   "outputs": [
    {
     "data": {
      "text/plain": [
       "196640"
      ]
     },
     "execution_count": 7,
     "metadata": {},
     "output_type": "execute_result"
    }
   ],
   "source": [
    "0x30020"
   ]
  },
  {
   "cell_type": "code",
   "execution_count": 8,
   "id": "c4127469-89f5-4aca-a7ba-7ff1dc78fd46",
   "metadata": {},
   "outputs": [
    {
     "data": {
      "text/plain": [
       "196640"
      ]
     },
     "execution_count": 8,
     "metadata": {},
     "output_type": "execute_result"
    }
   ],
   "source": [
    "196608+32"
   ]
  },
  {
   "cell_type": "markdown",
   "id": "42024fd5-3a7e-46af-812e-609ea69cd559",
   "metadata": {
    "jp-MarkdownHeadingCollapsed": true
   },
   "source": [
    "#### Aufgabe 3:"
   ]
  },
  {
   "cell_type": "code",
   "execution_count": 10,
   "id": "8510cceb-b79c-4ab6-8603-0b68862421a7",
   "metadata": {},
   "outputs": [
    {
     "data": {
      "text/plain": [
       "665"
      ]
     },
     "execution_count": 10,
     "metadata": {},
     "output_type": "execute_result"
    }
   ],
   "source": [
    "0x299"
   ]
  },
  {
   "cell_type": "code",
   "execution_count": 9,
   "id": "77e6c60a-719e-4e2a-95c5-9afdc73bd7bc",
   "metadata": {},
   "outputs": [
    {
     "data": {
      "text/plain": [
       "665"
      ]
     },
     "execution_count": 9,
     "metadata": {},
     "output_type": "execute_result"
    }
   ],
   "source": [
    "512+144+9"
   ]
  },
  {
   "cell_type": "markdown",
   "id": "803b1892-2ba4-4d49-9bda-53a445b09170",
   "metadata": {
    "jp-MarkdownHeadingCollapsed": true
   },
   "source": [
    "#### Aufgabe 4:"
   ]
  },
  {
   "cell_type": "code",
   "execution_count": 12,
   "id": "1917179f-c009-4e3c-89b5-2c6f914c0865",
   "metadata": {},
   "outputs": [
    {
     "data": {
      "text/plain": [
       "30866"
      ]
     },
     "execution_count": 12,
     "metadata": {},
     "output_type": "execute_result"
    }
   ],
   "source": [
    "0x7892"
   ]
  },
  {
   "cell_type": "code",
   "execution_count": 11,
   "id": "96dcef31-ad39-4d08-8278-949dc9a95f49",
   "metadata": {},
   "outputs": [
    {
     "data": {
      "text/plain": [
       "30866"
      ]
     },
     "execution_count": 11,
     "metadata": {},
     "output_type": "execute_result"
    }
   ],
   "source": [
    "28672+2048+144+2"
   ]
  },
  {
   "cell_type": "markdown",
   "id": "6523eab7-32f1-4573-9e5f-dfa05a87f161",
   "metadata": {
    "jp-MarkdownHeadingCollapsed": true
   },
   "source": [
    "#### Aufgabe 5:"
   ]
  },
  {
   "cell_type": "code",
   "execution_count": 3,
   "id": "698757ee-0f53-4a45-a2ef-e93fd0e64b36",
   "metadata": {},
   "outputs": [
    {
     "data": {
      "text/plain": [
       "36909"
      ]
     },
     "execution_count": 3,
     "metadata": {},
     "output_type": "execute_result"
    }
   ],
   "source": [
    "0x902d"
   ]
  },
  {
   "cell_type": "code",
   "execution_count": 2,
   "id": "481fab4b-7697-48a3-8d6a-4b1a3750369a",
   "metadata": {},
   "outputs": [
    {
     "data": {
      "text/plain": [
       "36909"
      ]
     },
     "execution_count": 2,
     "metadata": {},
     "output_type": "execute_result"
    }
   ],
   "source": [
    "36864+0+32+13"
   ]
  },
  {
   "cell_type": "code",
   "execution_count": null,
   "id": "a10de5f3-d4f4-49d6-be10-57534e7c84b2",
   "metadata": {},
   "outputs": [],
   "source": []
  }
 ],
 "metadata": {
  "kernelspec": {
   "display_name": "Python 3 (ipykernel)",
   "language": "python",
   "name": "python3"
  },
  "language_info": {
   "codemirror_mode": {
    "name": "ipython",
    "version": 3
   },
   "file_extension": ".py",
   "mimetype": "text/x-python",
   "name": "python",
   "nbconvert_exporter": "python",
   "pygments_lexer": "ipython3",
   "version": "3.12.3"
  }
 },
 "nbformat": 4,
 "nbformat_minor": 5
}
