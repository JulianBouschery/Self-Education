{
 "cells": [
  {
   "cell_type": "markdown",
   "id": "88ad6647-6c49-45bd-811d-c90e6115076e",
   "metadata": {},
   "source": [
    "# Identifier"
   ]
  },
  {
   "cell_type": "markdown",
   "id": "74ce6113-4aae-4a1f-af15-43f94ebeb93c",
   "metadata": {},
   "source": [
    "Wie sieht ein legaler Identifier aus? \n",
    "\n",
    "Das kommt darauf an um was für ein Objekt es sich handelt."
   ]
  },
  {
   "cell_type": "markdown",
   "id": "cde3ee89-96f3-4a78-9402-b0e3d2fd46e7",
   "metadata": {},
   "source": [
    "Für alle Identifier gilt:"
   ]
  },
  {
   "cell_type": "markdown",
   "id": "8493651d-a57b-477c-a116-ba5bf5a95462",
   "metadata": {},
   "source": [
    "1. Beginne mit Underscore (`_`) oder Buchstaben\n",
    "2. Danach erlaubt Buchstaben (in allen Sprachen), Zahlen, `_` \n",
    "3. Potentiell folgt nun eine Klammer mit null, bis mehreren Klassennamen\n",
    "    - Das sind die sogenannten `bases` die eigenen direkten Superklassen\n",
    "4. Abschliessend in der Zeile ein `:`"
   ]
  },
  {
   "cell_type": "markdown",
   "id": "dc2232d8-9762-4afb-8b10-f0e054b77d56",
   "metadata": {},
   "source": [
    "## Die unterschiedlichen Konventionen von PEP8 für die unterschiedlichen Fälle"
   ]
  },
  {
   "cell_type": "markdown",
   "id": "76bd9764-05d8-414d-a43f-61faef4ae754",
   "metadata": {},
   "source": [
    "### Variablen, Funktionen und Methoden"
   ]
  },
  {
   "cell_type": "markdown",
   "id": "12ea59da-5ac3-4bcb-9989-aaf5e8938636",
   "metadata": {},
   "source": [
    "**Konvention:**"
   ]
  },
  {
   "cell_type": "markdown",
   "id": "dea13f37-5b51-44d8-8d26-78149044671e",
   "metadata": {},
   "source": [
    "Variablen und Funktions- / Methodennamen bitte mit snake_case alles klein \n",
    "\n",
    "Beispiel: jedes_wort_wird_durch_unterstrich_getrennt"
   ]
  },
  {
   "cell_type": "markdown",
   "id": "f352164c-4088-432f-b278-e3905282ba38",
   "metadata": {},
   "source": [
    "### Klassen"
   ]
  },
  {
   "cell_type": "markdown",
   "id": "0b6fd203-47af-43df-8beb-e77cf6f66b10",
   "metadata": {},
   "source": [
    "MyClass, Hallo, meine_klasse (diese Identifier sind LEGAL aber verstößen gegen `PEP8`)"
   ]
  },
  {
   "cell_type": "markdown",
   "id": "01d27a53-ce80-4fec-80b2-fc3325772f6b",
   "metadata": {},
   "source": [
    "**Konvention:**"
   ]
  },
  {
   "cell_type": "markdown",
   "id": "4a92d34b-5a03-4f26-8417-8764f6cf5ed8",
   "metadata": {},
   "source": [
    "Klassen Identifier beginnen groß und werden dann CamelCase geschrieben. \n",
    "\n",
    "Beispiel: JedesNeueWortBeginntMitGroßbuchstaben"
   ]
  },
  {
   "cell_type": "markdown",
   "id": "fce25006-d1f5-4793-ae29-f6cef02eb3cf",
   "metadata": {},
   "source": [
    "Fun Fact: manche builtin Klassen wie list, str, bool sind kleingeschrieben, weil sie direkt in C (CPython) programmiert wurden (bevor man sich auf die Konvention geinigt hat?)"
   ]
  },
  {
   "cell_type": "markdown",
   "id": "fe9c800f-c377-4937-9e65-a87cff2536c3",
   "metadata": {},
   "source": [
    "### Variablen die sich nicht geändert werden sollen"
   ]
  },
  {
   "cell_type": "markdown",
   "id": "1bb02cef-030b-43cb-b788-fe190cff6b84",
   "metadata": {},
   "source": [
    "Variablen die sich nicht ändern sollen, schreiben manche in ALL_CAPS => MEINE_FIXE_ZAHL = 42"
   ]
  },
  {
   "cell_type": "code",
   "execution_count": null,
   "id": "0ef32161-df94-44c9-ade8-4abbad910974",
   "metadata": {},
   "outputs": [],
   "source": []
  }
 ],
 "metadata": {
  "kernelspec": {
   "display_name": "Python 3 (ipykernel)",
   "language": "python",
   "name": "python3"
  },
  "language_info": {
   "codemirror_mode": {
    "name": "ipython",
    "version": 3
   },
   "file_extension": ".py",
   "mimetype": "text/x-python",
   "name": "python",
   "nbconvert_exporter": "python",
   "pygments_lexer": "ipython3",
   "version": "3.12.4"
  }
 },
 "nbformat": 4,
 "nbformat_minor": 5
}
