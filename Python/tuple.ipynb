{
 "cells": [
  {
   "cell_type": "markdown",
   "id": "0828170c-47d7-47b9-a609-78b1e7e840e7",
   "metadata": {},
   "source": [
    "[Zurück zum Inhaltsverzeichnis](_Inhaltsverzeichnis_.ipynb)"
   ]
  },
  {
   "cell_type": "markdown",
   "id": "06101a35-4e78-4c05-8a32-1748425eedcc",
   "metadata": {},
   "source": [
    "# tuple Funktion"
   ]
  },
  {
   "cell_type": "markdown",
   "id": "697dcd6f-eeb8-4b2c-91b9-fbee13ae0abb",
   "metadata": {},
   "source": [
    "## tuple() nachgebaut"
   ]
  },
  {
   "cell_type": "code",
   "execution_count": 36,
   "id": "2c285780-a320-4536-b5e7-577982185a24",
   "metadata": {},
   "outputs": [],
   "source": [
    "def tuple_(iterable = ()):\n",
    "\n",
    "    tuple_ = () \n",
    "    \n",
    "    for i in iterable:\n",
    "        tuple_ = tuple_ + (i,)\n",
    "        \n",
    "    return tuple_"
   ]
  },
  {
   "cell_type": "markdown",
   "id": "a0962a4c-8eef-4505-8298-b3c6c4abaeae",
   "metadata": {},
   "source": [
    "Es gibt natürlich keine List Comprehension eines Tuples... "
   ]
  },
  {
   "cell_type": "code",
   "execution_count": 37,
   "id": "f33f334f-b28d-43cb-86c7-e104e4741c1e",
   "metadata": {},
   "outputs": [
    {
     "data": {
      "text/plain": [
       "()"
      ]
     },
     "execution_count": 37,
     "metadata": {},
     "output_type": "execute_result"
    }
   ],
   "source": [
    "tuple_()"
   ]
  },
  {
   "cell_type": "code",
   "execution_count": 38,
   "id": "16852f54-dbd2-43d3-81f1-4be37aa8eb9a",
   "metadata": {},
   "outputs": [
    {
     "data": {
      "text/plain": [
       "('H', 'a', 'l', 'l', 'o')"
      ]
     },
     "execution_count": 38,
     "metadata": {},
     "output_type": "execute_result"
    }
   ],
   "source": [
    "tuple_(\"Hallo\")"
   ]
  },
  {
   "cell_type": "code",
   "execution_count": 46,
   "id": "59b54199-fee7-4c49-8f14-7a5b1ac98e29",
   "metadata": {},
   "outputs": [],
   "source": [
    "def tuple_(iterable = ()):\n",
    "\n",
    "    tuple_ = () \n",
    "    \n",
    "    for i in iterable:\n",
    "        tuple_ += (i,)\n",
    "        \n",
    "    return tuple_"
   ]
  },
  {
   "cell_type": "code",
   "execution_count": 47,
   "id": "592047c7-f2db-4144-966a-c01da23c6174",
   "metadata": {},
   "outputs": [
    {
     "data": {
      "text/plain": [
       "()"
      ]
     },
     "execution_count": 47,
     "metadata": {},
     "output_type": "execute_result"
    }
   ],
   "source": [
    "tuple_()"
   ]
  },
  {
   "cell_type": "code",
   "execution_count": 48,
   "id": "c81ef9f2-55fd-4fca-945e-3ba6519150b4",
   "metadata": {},
   "outputs": [
    {
     "data": {
      "text/plain": [
       "('H', 'a', 'l', 'l', 'o')"
      ]
     },
     "execution_count": 48,
     "metadata": {},
     "output_type": "execute_result"
    }
   ],
   "source": [
    "tuple_(\"Hallo\")"
   ]
  }
 ],
 "metadata": {
  "kernelspec": {
   "display_name": "Python 3 (ipykernel)",
   "language": "python",
   "name": "python3"
  },
  "language_info": {
   "codemirror_mode": {
    "name": "ipython",
    "version": 3
   },
   "file_extension": ".py",
   "mimetype": "text/x-python",
   "name": "python",
   "nbconvert_exporter": "python",
   "pygments_lexer": "ipython3",
   "version": "3.12.3"
  }
 },
 "nbformat": 4,
 "nbformat_minor": 5
}
