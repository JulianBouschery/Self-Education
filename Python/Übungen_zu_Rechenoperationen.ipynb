{
 "cells": [
  {
   "cell_type": "markdown",
   "id": "6144fe09-30cf-4116-bb8e-1e576e78c712",
   "metadata": {},
   "source": [
    "[Zurück zum Inhaltsverzeichnis](_Inhaltsverzeichnis_.ipynb)"
   ]
  },
  {
   "cell_type": "markdown",
   "id": "1a5487f1-4706-43cf-b0ba-1a1fe793a3ae",
   "metadata": {},
   "source": [
    "## Rechenoperationen mit Zahlen"
   ]
  },
  {
   "cell_type": "markdown",
   "id": "ad3df33c-db22-41a4-adb0-2cb679d42998",
   "metadata": {},
   "source": [
    "1. addition `+`\n",
    "2. substrahieren `-`\n",
    "3. multiplizieren `*`\n",
    "4. dividieren \n",
    "    - `/` Division => Teilen wie wir es kennen => Ergebnis IMMER ein float\n",
    "    - `//` Floor-Division\n",
    "5. potenzieren `**`\n",
    "6. modulo / rest nach teilen `%`"
   ]
  },
  {
   "cell_type": "markdown",
   "id": "07cd4049-6d22-40d2-ad47-aca1b7f0c10b",
   "metadata": {},
   "source": [
    "Teilen mit `/`"
   ]
  },
  {
   "cell_type": "markdown",
   "id": "c00d9df0-7d54-45cd-91e9-77e9596da269",
   "metadata": {},
   "source": [
    "### Division vs. Floar-Division:"
   ]
  },
  {
   "cell_type": "code",
   "execution_count": 11,
   "id": "54bcbe7b-e6a3-4ad1-951b-0ea67337f8be",
   "metadata": {
    "tags": []
   },
   "outputs": [
    {
     "data": {
      "text/plain": [
       "1.0"
      ]
     },
     "execution_count": 11,
     "metadata": {},
     "output_type": "execute_result"
    }
   ],
   "source": [
    "4/4 # Ergebnis von / ist immer ein Float. "
   ]
  },
  {
   "cell_type": "code",
   "execution_count": 43,
   "id": "c401d558-f89f-45bd-a4d3-3223341b5d14",
   "metadata": {
    "tags": []
   },
   "outputs": [
    {
     "name": "stdout",
     "output_type": "stream",
     "text": [
      "<class 'int'> <class 'int'>\n"
     ]
    }
   ],
   "source": [
    "zahl1 = 12\n",
    "zahl2 = 4\n",
    "print(type(zahl1), type(zahl2))"
   ]
  },
  {
   "cell_type": "code",
   "execution_count": 45,
   "id": "d37dfa4f-f407-433b-807f-963013bdffc7",
   "metadata": {
    "tags": []
   },
   "outputs": [
    {
     "data": {
      "text/plain": [
       "3.0"
      ]
     },
     "execution_count": 45,
     "metadata": {},
     "output_type": "execute_result"
    }
   ],
   "source": [
    "result = zahl1/zahl2\n",
    "result"
   ]
  },
  {
   "cell_type": "code",
   "execution_count": 49,
   "id": "41f60fad-e3b9-4a09-ac82-f527b8910e01",
   "metadata": {
    "tags": []
   },
   "outputs": [
    {
     "data": {
      "text/plain": [
       "3"
      ]
     },
     "execution_count": 49,
     "metadata": {},
     "output_type": "execute_result"
    }
   ],
   "source": [
    "zahl1//zahl2 # int // int => int"
   ]
  },
  {
   "cell_type": "code",
   "execution_count": 50,
   "id": "7f1fd92a-217d-4c62-ab0a-94258a592172",
   "metadata": {
    "tags": []
   },
   "outputs": [
    {
     "data": {
      "text/plain": [
       "3.0"
      ]
     },
     "execution_count": 50,
     "metadata": {},
     "output_type": "execute_result"
    }
   ],
   "source": [
    "12.0/4 # float//int oder int//float => float"
   ]
  },
  {
   "cell_type": "code",
   "execution_count": 52,
   "id": "d513af44-f0c8-468c-9b96-de59d81d1d59",
   "metadata": {
    "tags": []
   },
   "outputs": [
    {
     "data": {
      "text/plain": [
       "2.4"
      ]
     },
     "execution_count": 52,
     "metadata": {},
     "output_type": "execute_result"
    }
   ],
   "source": [
    "ergebnis_ist_ungerade = 12/5\n",
    "ergebnis_ist_ungerade"
   ]
  },
  {
   "cell_type": "code",
   "execution_count": 22,
   "id": "327609b7-9c3b-4f15-8d4c-dc3240ee819a",
   "metadata": {
    "tags": []
   },
   "outputs": [
    {
     "data": {
      "text/plain": [
       "2"
      ]
     },
     "execution_count": 22,
     "metadata": {},
     "output_type": "execute_result"
    }
   ],
   "source": [
    "ergebnis_ist_ungerade_floor_division = 12//5 # schneidet die Kommazahlen im Ergebnis ab bzw. rundet das Ergebnis IMMER NACH UNTEN\n",
    "ergebnis_ist_ungerade_floor_division"
   ]
  },
  {
   "cell_type": "code",
   "execution_count": 28,
   "id": "38a4e6d8-7a10-42f4-85a7-2b784d11ea89",
   "metadata": {},
   "outputs": [
    {
     "data": {
      "text/plain": [
       "3.6285714285714286"
      ]
     },
     "execution_count": 28,
     "metadata": {},
     "output_type": "execute_result"
    }
   ],
   "source": [
    "127/35 "
   ]
  },
  {
   "cell_type": "code",
   "execution_count": 29,
   "id": "6a772f4c-8110-455f-8fb9-5e388b136258",
   "metadata": {},
   "outputs": [
    {
     "data": {
      "text/plain": [
       "3"
      ]
     },
     "execution_count": 29,
     "metadata": {},
     "output_type": "execute_result"
    }
   ],
   "source": [
    "127//35 # Die Floar-Division rundet selbst dann ab, wenn man nach normalen Mathematischen Regeln aufrunden würde."
   ]
  },
  {
   "cell_type": "markdown",
   "id": "4cf44cde-2344-417a-b650-d1919bb83cb4",
   "metadata": {},
   "source": [
    "Als Vergleich truncating /rounding"
   ]
  },
  {
   "cell_type": "markdown",
   "id": "7e07afee-fa5d-4586-8505-5da3b6079206",
   "metadata": {},
   "source": [
    "Beim truncaten/abschneiden sind die Ergebnisse gleich ob .9999 oder .00001 da steht."
   ]
  },
  {
   "cell_type": "code",
   "execution_count": 55,
   "id": "c16fa9f7-8f43-41b0-8803-dff00a4fecb1",
   "metadata": {
    "tags": []
   },
   "outputs": [
    {
     "data": {
      "text/plain": [
       "2"
      ]
     },
     "execution_count": 55,
     "metadata": {},
     "output_type": "execute_result"
    }
   ],
   "source": [
    "import math\n",
    "\n",
    "math.floor(2.4)"
   ]
  },
  {
   "cell_type": "code",
   "execution_count": 56,
   "id": "a71c93a9-6608-407c-a8c9-0d7593cf8b52",
   "metadata": {
    "tags": []
   },
   "outputs": [
    {
     "data": {
      "text/plain": [
       "2"
      ]
     },
     "execution_count": 56,
     "metadata": {},
     "output_type": "execute_result"
    }
   ],
   "source": [
    "math.floor(2.9)"
   ]
  },
  {
   "cell_type": "code",
   "execution_count": 57,
   "id": "d2700433-e67a-4fd5-9f4f-3b1030856004",
   "metadata": {
    "tags": []
   },
   "outputs": [
    {
     "data": {
      "text/plain": [
       "2"
      ]
     },
     "execution_count": 57,
     "metadata": {},
     "output_type": "execute_result"
    }
   ],
   "source": [
    "int(2.9)"
   ]
  },
  {
   "cell_type": "code",
   "execution_count": 58,
   "id": "e430ce59-6a76-4593-9e56-7abcd08b8b28",
   "metadata": {
    "tags": []
   },
   "outputs": [
    {
     "data": {
      "text/plain": [
       "2"
      ]
     },
     "execution_count": 58,
     "metadata": {},
     "output_type": "execute_result"
    }
   ],
   "source": [
    "int(2.1)"
   ]
  },
  {
   "cell_type": "code",
   "execution_count": 67,
   "id": "70efdd83-7137-447b-b7f8-5df7b76e4640",
   "metadata": {
    "tags": []
   },
   "outputs": [
    {
     "data": {
      "text/plain": [
       "2"
      ]
     },
     "execution_count": 67,
     "metadata": {},
     "output_type": "execute_result"
    }
   ],
   "source": [
    "7//3"
   ]
  },
  {
   "cell_type": "code",
   "execution_count": 61,
   "id": "bea9aba9-7438-4fca-9f03-0e90749c81f3",
   "metadata": {
    "tags": []
   },
   "outputs": [
    {
     "data": {
      "text/plain": [
       "3"
      ]
     },
     "execution_count": 61,
     "metadata": {},
     "output_type": "execute_result"
    }
   ],
   "source": [
    "round(2.9999)"
   ]
  },
  {
   "cell_type": "code",
   "execution_count": 62,
   "id": "9267377b-1406-4f49-aa8e-ab7337d898ff",
   "metadata": {
    "tags": []
   },
   "outputs": [
    {
     "data": {
      "text/plain": [
       "2"
      ]
     },
     "execution_count": 62,
     "metadata": {},
     "output_type": "execute_result"
    }
   ],
   "source": [
    "round(2.5)"
   ]
  },
  {
   "cell_type": "code",
   "execution_count": 68,
   "id": "55890fd3-6702-4537-ac64-6fee106e2858",
   "metadata": {
    "tags": []
   },
   "outputs": [
    {
     "data": {
      "text/plain": [
       "\u001b[0;31mSignature:\u001b[0m \u001b[0mround\u001b[0m\u001b[0;34m(\u001b[0m\u001b[0mnumber\u001b[0m\u001b[0;34m,\u001b[0m \u001b[0mndigits\u001b[0m\u001b[0;34m=\u001b[0m\u001b[0;32mNone\u001b[0m\u001b[0;34m)\u001b[0m\u001b[0;34m\u001b[0m\u001b[0;34m\u001b[0m\u001b[0m\n",
       "\u001b[0;31mDocstring:\u001b[0m\n",
       "Round a number to a given precision in decimal digits.\n",
       "\n",
       "The return value is an integer if ndigits is omitted or None.  Otherwise\n",
       "the return value has the same type as the number.  ndigits may be negative.\n",
       "\u001b[0;31mType:\u001b[0m      builtin_function_or_method\n"
      ]
     },
     "metadata": {},
     "output_type": "display_data"
    }
   ],
   "source": [
    "round?"
   ]
  },
  {
   "cell_type": "code",
   "execution_count": 63,
   "id": "4ebad7d3-3631-4501-b133-5aeedcf4d8ad",
   "metadata": {
    "tags": []
   },
   "outputs": [
    {
     "data": {
      "text/plain": [
       "2"
      ]
     },
     "execution_count": 63,
     "metadata": {},
     "output_type": "execute_result"
    }
   ],
   "source": [
    "round(2.5)"
   ]
  },
  {
   "cell_type": "code",
   "execution_count": 69,
   "id": "d3a26c6f-12f6-4e1c-b43f-d6cf3ea01244",
   "metadata": {
    "tags": []
   },
   "outputs": [
    {
     "data": {
      "text/plain": [
       "4"
      ]
     },
     "execution_count": 69,
     "metadata": {},
     "output_type": "execute_result"
    }
   ],
   "source": [
    "round(3.5)"
   ]
  },
  {
   "cell_type": "markdown",
   "id": "47175421-2b0e-44c6-9460-d0deb288014a",
   "metadata": {},
   "source": [
    "[Auszug aus der Python Docs zu round](https://docs.python.org/3/library/functions.html#round)`rounding is done toward the even choice (so, for example, both round(0.5) and round(-0.5) are 0, and round(1.5) is 2`"
   ]
  },
  {
   "cell_type": "markdown",
   "id": "173440b1-638c-4e51-8055-ed5f30a6f481",
   "metadata": {},
   "source": [
    "Deswegen wird round(3.5) zu 4 aber round(2.5) zur zwei. Es wird immer auf die gerade Zahl in der Nähe gerundet."
   ]
  },
  {
   "cell_type": "code",
   "execution_count": 64,
   "id": "5a345516-9ffe-497b-9835-e0cf031cda46",
   "metadata": {
    "tags": []
   },
   "outputs": [
    {
     "data": {
      "text/plain": [
       "2"
      ]
     },
     "execution_count": 64,
     "metadata": {},
     "output_type": "execute_result"
    }
   ],
   "source": [
    "round(2.1)"
   ]
  },
  {
   "cell_type": "code",
   "execution_count": 29,
   "id": "dbcecf20-db70-455f-bfec-3761e835e97b",
   "metadata": {
    "tags": []
   },
   "outputs": [
    {
     "data": {
      "text/plain": [
       "(int, float)"
      ]
     },
     "execution_count": 29,
     "metadata": {},
     "output_type": "execute_result"
    }
   ],
   "source": [
    "int, float"
   ]
  },
  {
   "cell_type": "markdown",
   "id": "9c791bb1-7b32-4072-ac30-af4acc518a33",
   "metadata": {},
   "source": [
    "In Python nutzen wir nur je einen Datentyp für Ganzzahlen und Kommazahlen"
   ]
  }
 ],
 "metadata": {
  "kernelspec": {
   "display_name": "Python 3 (ipykernel)",
   "language": "python",
   "name": "python3"
  },
  "language_info": {
   "codemirror_mode": {
    "name": "ipython",
    "version": 3
   },
   "file_extension": ".py",
   "mimetype": "text/x-python",
   "name": "python",
   "nbconvert_exporter": "python",
   "pygments_lexer": "ipython3",
   "version": "3.12.3"
  }
 },
 "nbformat": 4,
 "nbformat_minor": 5
}
