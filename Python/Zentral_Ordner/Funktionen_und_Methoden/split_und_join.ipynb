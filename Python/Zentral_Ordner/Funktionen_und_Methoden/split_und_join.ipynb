{
 "cells": [
  {
   "cell_type": "markdown",
   "id": "40bfe987-81c3-47f2-893e-7fbe9a328737",
   "metadata": {},
   "source": [
    "# .split() und .join()"
   ]
  },
  {
   "cell_type": "code",
   "execution_count": null,
   "id": "a5c9eb17-59a6-43a8-8b1a-92fbb9bb1e5c",
   "metadata": {},
   "outputs": [],
   "source": []
  }
 ],
 "metadata": {
  "kernelspec": {
   "display_name": "Python 3 (ipykernel)",
   "language": "python",
   "name": "python3"
  },
  "language_info": {
   "codemirror_mode": {
    "name": "ipython",
    "version": 3
   },
   "file_extension": ".py",
   "mimetype": "text/x-python",
   "name": "python",
   "nbconvert_exporter": "python",
   "pygments_lexer": "ipython3",
   "version": "3.12.6"
  }
 },
 "nbformat": 4,
 "nbformat_minor": 5
}
