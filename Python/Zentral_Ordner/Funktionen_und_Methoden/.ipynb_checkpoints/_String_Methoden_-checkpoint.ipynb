{
 "cells": [
  {
   "cell_type": "markdown",
   "id": "dc654a7f-659d-4ad3-83e1-5a33ea572ae4",
   "metadata": {},
   "source": [
    "# String-Methoden"
   ]
  },
  {
   "cell_type": "code",
   "execution_count": null,
   "id": "7d75fe74-e6bf-4cb2-b1e6-1c38f27f7a75",
   "metadata": {},
   "outputs": [],
   "source": []
  }
 ],
 "metadata": {
  "kernelspec": {
   "display_name": "Python 3 (ipykernel)",
   "language": "python",
   "name": "python3"
  },
  "language_info": {
   "codemirror_mode": {
    "name": "ipython",
    "version": 3
   },
   "file_extension": ".py",
   "mimetype": "text/x-python",
   "name": "python",
   "nbconvert_exporter": "python",
   "pygments_lexer": "ipython3",
   "version": "3.12.6"
  }
 },
 "nbformat": 4,
 "nbformat_minor": 5
}
