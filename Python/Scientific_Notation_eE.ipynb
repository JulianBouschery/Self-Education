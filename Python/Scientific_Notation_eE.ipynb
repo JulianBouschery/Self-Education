{
 "cells": [
  {
   "cell_type": "markdown",
   "id": "c99db015-4319-40e5-97b4-40b615f49bf2",
   "metadata": {},
   "source": [
    "[Zurück zum Inhaltsverzeichnis](_Inhaltsverzeichnis_.ipynb)"
   ]
  },
  {
   "cell_type": "markdown",
   "id": "19b90613-0a17-4a45-b37f-dbbec171a923",
   "metadata": {},
   "source": [
    "## Scientific Notation e / E:"
   ]
  },
  {
   "cell_type": "markdown",
   "id": "337c8622-99a7-4292-9594-989bc486f8bb",
   "metadata": {},
   "source": [
    "\"5.5047092282973795e+32\"\n",
    "\n",
    "e+32 => bedeute die Zahl * 10\\**32"
   ]
  },
  {
   "cell_type": "markdown",
   "id": "c9e3557e-4f29-472b-b96b-ddbfe251340b",
   "metadata": {},
   "source": [
    "Achtung bei der Verwendung von e oder E kommt ein float heraus!"
   ]
  },
  {
   "cell_type": "code",
   "execution_count": 116,
   "id": "b8c03c65-3eda-4421-9aef-6e7e27c30ecf",
   "metadata": {},
   "outputs": [
    {
     "data": {
      "text/plain": [
       "1000.0"
      ]
     },
     "execution_count": 116,
     "metadata": {},
     "output_type": "execute_result"
    }
   ],
   "source": [
    "1e3"
   ]
  },
  {
   "cell_type": "code",
   "execution_count": 120,
   "id": "0a3a9a79-9826-4614-9b79-1d8a3adf42fc",
   "metadata": {},
   "outputs": [
    {
     "data": {
      "text/plain": [
       "1000.0"
      ]
     },
     "execution_count": 120,
     "metadata": {},
     "output_type": "execute_result"
    }
   ],
   "source": [
    "1e+3"
   ]
  },
  {
   "cell_type": "code",
   "execution_count": 117,
   "id": "0615da43-d5ed-4e84-8f26-d2defdc87f68",
   "metadata": {},
   "outputs": [
    {
     "data": {
      "text/plain": [
       "1000.0"
      ]
     },
     "execution_count": 117,
     "metadata": {},
     "output_type": "execute_result"
    }
   ],
   "source": [
    "1E3"
   ]
  },
  {
   "cell_type": "code",
   "execution_count": 118,
   "id": "4c02c8d4-3792-440a-8209-ce2cfb37e7d5",
   "metadata": {},
   "outputs": [
    {
     "data": {
      "text/plain": [
       "1000"
      ]
     },
     "execution_count": 118,
     "metadata": {},
     "output_type": "execute_result"
    }
   ],
   "source": [
    "1*10**3"
   ]
  },
  {
   "cell_type": "code",
   "execution_count": 119,
   "id": "571ba313-432f-4960-8e80-2312fdf8b4a7",
   "metadata": {},
   "outputs": [
    {
     "data": {
      "text/plain": [
       "10000000000.0"
      ]
     },
     "execution_count": 119,
     "metadata": {},
     "output_type": "execute_result"
    }
   ],
   "source": [
    "1e10"
   ]
  },
  {
   "cell_type": "markdown",
   "id": "326a0595-b4e6-41e9-b533-cfed43440eb5",
   "metadata": {},
   "source": [
    "Einfache Merkregel für **positive** Zahlen: \n",
    "```python\n",
    "abc * 10**x \n",
    "```\n",
    "abc mit x Nullen vor dem Komma/Punkt)."
   ]
  },
  {
   "cell_type": "code",
   "execution_count": 89,
   "id": "ce392d3f-5218-4ebe-8ea5-a2df7d77c93d",
   "metadata": {},
   "outputs": [
    {
     "data": {
      "text/plain": [
       "1.2345e-05"
      ]
     },
     "execution_count": 89,
     "metadata": {},
     "output_type": "execute_result"
    }
   ],
   "source": [
    "0.000012345 "
   ]
  },
  {
   "cell_type": "code",
   "execution_count": 90,
   "id": "cab9d674-0775-4bcc-8469-690a7383c10d",
   "metadata": {},
   "outputs": [
    {
     "data": {
      "text/plain": [
       "1.2345e-05"
      ]
     },
     "execution_count": 90,
     "metadata": {},
     "output_type": "execute_result"
    }
   ],
   "source": [
    "1.2345 * 10**-5"
   ]
  },
  {
   "cell_type": "markdown",
   "id": "24c3aa41-d6c9-4a60-bd60-590879f47d30",
   "metadata": {
    "jp-MarkdownHeadingCollapsed": true
   },
   "source": [
    "Einfache Merkregel für **negative** Zahlen: \n",
    "```python\n",
    "abc * 10**-x \n",
    "```\n",
    "x ist die Anzahl der Nullen vor abc (inklusive der vor dem Komma/Punkt)."
   ]
  },
  {
   "cell_type": "markdown",
   "id": "6de6cee5-2337-4d40-83a7-f589dbd8d5fa",
   "metadata": {},
   "source": [
    "Wenn man negative Hochzahlen hat ist das eigentlich teilen. Sind diese Hochzahlen im Nenner.\n",
    "\n",
    "10\\**3 = $10^{3}$\n",
    "\n",
    "10\\**(-3) = $\\frac{1}{10^{3}}$\n",
    "\n"
   ]
  },
  {
   "cell_type": "code",
   "execution_count": 32,
   "id": "20685b26-baf5-4126-86ac-a7efce8f5fb4",
   "metadata": {
    "tags": []
   },
   "outputs": [
    {
     "data": {
      "text/plain": [
       "0.13"
      ]
     },
     "execution_count": 32,
     "metadata": {},
     "output_type": "execute_result"
    }
   ],
   "source": [
    "13e-2 # 13 * 10**(-2) "
   ]
  },
  {
   "cell_type": "markdown",
   "id": "86c30834-4d18-4fef-b24c-450927c3001b",
   "metadata": {},
   "source": [
    "13\\*10\\**(-2) = $\\frac{13}{10^{2}}$"
   ]
  },
  {
   "cell_type": "code",
   "execution_count": 35,
   "id": "7dda7be7-ba96-492f-b21e-aeaf09940518",
   "metadata": {
    "tags": []
   },
   "outputs": [
    {
     "data": {
      "text/plain": [
       "True"
      ]
     },
     "execution_count": 35,
     "metadata": {},
     "output_type": "execute_result"
    }
   ],
   "source": [
    "0.013 ==13E-3"
   ]
  },
  {
   "cell_type": "code",
   "execution_count": null,
   "id": "d303caae-5077-4b96-a78a-74a9a0b5f87b",
   "metadata": {},
   "outputs": [],
   "source": [
    "1*10**3"
   ]
  }
 ],
 "metadata": {
  "kernelspec": {
   "display_name": "Python 3 (ipykernel)",
   "language": "python",
   "name": "python3"
  },
  "language_info": {
   "codemirror_mode": {
    "name": "ipython",
    "version": 3
   },
   "file_extension": ".py",
   "mimetype": "text/x-python",
   "name": "python",
   "nbconvert_exporter": "python",
   "pygments_lexer": "ipython3",
   "version": "3.12.3"
  }
 },
 "nbformat": 4,
 "nbformat_minor": 5
}
