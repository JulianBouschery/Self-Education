{
 "cells": [
  {
   "cell_type": "markdown",
   "id": "3e54aa91-d572-438a-bc25-bc9dfd35bb79",
   "metadata": {},
   "source": [
    "[Zurück zum Inhaltsverzeichnis](_Inhaltsverzeichnis_.ipynb)"
   ]
  },
  {
   "cell_type": "markdown",
   "id": "d519a6f6-02af-40f9-b411-89c72b450c5a",
   "metadata": {},
   "source": [
    "# str Funktion"
   ]
  },
  {
   "cell_type": "markdown",
   "id": "95006fbc-c686-477f-b7c6-183da6b2ad61",
   "metadata": {},
   "source": [
    "SIehe auch: [`__str__()`](s__str__.ipynb)"
   ]
  },
  {
   "cell_type": "markdown",
   "id": "9d04ec74-dbb2-46e7-b00a-908882a63b83",
   "metadata": {},
   "source": [
    "## str() bei Listen\n",
    " \n"
   ]
  },
  {
   "cell_type": "markdown",
   "id": "9508dfe7-8c50-40ba-b88c-80310323e2bd",
   "metadata": {},
   "source": [
    "str() nachgebaut"
   ]
  },
  {
   "cell_type": "code",
   "execution_count": 1,
   "id": "44216a5a-be21-44a2-8654-263803911ccc",
   "metadata": {},
   "outputs": [],
   "source": [
    "def str_(liste):\n",
    "\n",
    "    string = '['\n",
    "    \n",
    "    for index, elem in enumerate(liste):\n",
    "        string += f\"'{elem}'\"\n",
    "        if index < len(liste)-1:\n",
    "            string += \", \"\n",
    "        \n",
    "    string += ']'\n",
    "\n",
    "    return string"
   ]
  },
  {
   "cell_type": "code",
   "execution_count": 2,
   "id": "624e46db-70a6-4483-a0eb-bebf74999712",
   "metadata": {},
   "outputs": [
    {
     "data": {
      "text/plain": [
       "\"['1', '2', '3', 'A', 'B', 'C']\""
      ]
     },
     "execution_count": 2,
     "metadata": {},
     "output_type": "execute_result"
    }
   ],
   "source": [
    "liste1 = [\"1\",\"2\",\"3\",\"A\",\"B\",\"C\"]\n",
    "str(liste1)"
   ]
  },
  {
   "cell_type": "code",
   "execution_count": 3,
   "id": "addaf30c-465b-401d-aa23-576e16affbd3",
   "metadata": {},
   "outputs": [
    {
     "data": {
      "text/plain": [
       "\"['1', '2', '3', 'A', 'B', 'C']\""
      ]
     },
     "execution_count": 3,
     "metadata": {},
     "output_type": "execute_result"
    }
   ],
   "source": [
    "str_(liste1)"
   ]
  },
  {
   "cell_type": "code",
   "execution_count": 4,
   "id": "31fa73e4-4091-4eca-a831-db721f1a50ae",
   "metadata": {},
   "outputs": [
    {
     "data": {
      "text/plain": [
       "'[1, 2, 3, 4, 5, 6]'"
      ]
     },
     "execution_count": 4,
     "metadata": {},
     "output_type": "execute_result"
    }
   ],
   "source": [
    "liste2 = [1,2,3,4,5,6]\n",
    "str(liste2)"
   ]
  },
  {
   "cell_type": "code",
   "execution_count": 5,
   "id": "cd93c838-ada5-4872-9c4c-0efc6e8b2174",
   "metadata": {},
   "outputs": [
    {
     "data": {
      "text/plain": [
       "\"['1', '2', '3', '4', '5', '6']\""
      ]
     },
     "execution_count": 5,
     "metadata": {},
     "output_type": "execute_result"
    }
   ],
   "source": [
    "str_(liste2)"
   ]
  }
 ],
 "metadata": {
  "kernelspec": {
   "display_name": "Python 3 (ipykernel)",
   "language": "python",
   "name": "python3"
  },
  "language_info": {
   "codemirror_mode": {
    "name": "ipython",
    "version": 3
   },
   "file_extension": ".py",
   "mimetype": "text/x-python",
   "name": "python",
   "nbconvert_exporter": "python",
   "pygments_lexer": "ipython3",
   "version": "3.12.4"
  }
 },
 "nbformat": 4,
 "nbformat_minor": 5
}
