{
 "cells": [
  {
   "cell_type": "markdown",
   "id": "268b79d5-088c-4613-969e-376c57270eec",
   "metadata": {},
   "source": [
    "# OOP"
   ]
  },
  {
   "cell_type": "code",
   "execution_count": null,
   "id": "a9343561-2d37-4cf8-ad55-b357e873b3ca",
   "metadata": {},
   "outputs": [],
   "source": []
  },
  {
   "cell_type": "markdown",
   "id": "cfcbadde-d1bf-4b50-ab23-83a43172b89b",
   "metadata": {},
   "source": [
    "## Start in die OOP"
   ]
  },
  {
   "cell_type": "markdown",
   "id": "58851d3b-13a2-4e5d-aa18-6f24b328d26d",
   "metadata": {},
   "source": [
    "[Start in die OOP am Beispiel von class erklärt](class.ipynb)"
   ]
  },
  {
   "cell_type": "markdown",
   "id": "b3aea18b-1faa-48e9-9963-426e43d964be",
   "metadata": {},
   "source": [
    "[Definitionen](Definitionen_in_OOP.ipynb)"
   ]
  },
  {
   "cell_type": "markdown",
   "id": "aa807a5f-2165-4844-82cb-871dd6b18f93",
   "metadata": {},
   "source": [
    "## Das OOP \"Wörterbuch\""
   ]
  },
  {
   "cell_type": "markdown",
   "id": "d3c3cf70-f83e-48db-8ca4-125c766b0d53",
   "metadata": {},
   "source": [
    "[Polymorphism](Polymorphism.ipynb)"
   ]
  },
  {
   "cell_type": "markdown",
   "id": "490a2f5e-3cdd-4d6f-ace3-e07ebf254b63",
   "metadata": {},
   "source": [
    "[Composition](Composition.ipynb)"
   ]
  },
  {
   "cell_type": "markdown",
   "id": "fd6b8087-0b55-4e7a-8b22-2ca573cbb82a",
   "metadata": {},
   "source": [
    "[Introspection](Introspection.ipynb)"
   ]
  },
  {
   "cell_type": "markdown",
   "id": "c866ae88-f9e9-4311-a0f3-22effc142b48",
   "metadata": {},
   "source": [
    "[Reflecion](Reflecion.ipynb)"
   ]
  },
  {
   "cell_type": "markdown",
   "id": "7ac4e993-103a-4e63-a8c8-b00e1f478163",
   "metadata": {},
   "source": [
    "[Diamond Problem](Diamond.ipynb)"
   ]
  },
  {
   "cell_type": "markdown",
   "id": "71a127ff-166e-4be0-8d4f-4349023c0ffe",
   "metadata": {},
   "source": [
    "[Initialization](initialization.ipynb)"
   ]
  },
  {
   "cell_type": "markdown",
   "id": "6ffb2544-89b2-4fed-8696-3fee1b893b77",
   "metadata": {},
   "source": [
    "[Instantiation](instantiation.ipynb) "
   ]
  },
  {
   "cell_type": "markdown",
   "id": "90f4afa2-e3c5-4c1a-ab2d-ff579dd5275b",
   "metadata": {},
   "source": [
    "[Dot Notation](dot.ipynb)"
   ]
  },
  {
   "cell_type": "markdown",
   "id": "3f97d12f-f3c1-4bbd-8e78-a206c4d3b52f",
   "metadata": {},
   "source": [
    "[DUNDER-Methoden](DUNDER.ipynb)"
   ]
  },
  {
   "cell_type": "markdown",
   "id": "e3943ce2-c79f-463e-8794-a66f4082b15c",
   "metadata": {},
   "source": [
    "[super()](super.ipynb)"
   ]
  },
  {
   "cell_type": "markdown",
   "id": "3449a084-aa09-41d7-8be8-22aa0c2a22fa",
   "metadata": {},
   "source": [
    "args? "
   ]
  },
  {
   "cell_type": "markdown",
   "id": "698b7f6c-54c7-4818-83d4-b068dbf9e69b",
   "metadata": {},
   "source": [
    "[Variablen in der OOP](OOP_var.ipynb)"
   ]
  },
  {
   "cell_type": "markdown",
   "id": "1c5b3933-b081-4500-a833-634246af7aa6",
   "metadata": {},
   "source": [
    "### Die wichtigsten Funktionen und Methoden"
   ]
  },
  {
   "cell_type": "markdown",
   "id": "fb37b581-1976-48a6-80bc-a19465624203",
   "metadata": {},
   "source": [
    "[mro](mro.ipynb)"
   ]
  },
  {
   "cell_type": "markdown",
   "id": "f3a79a08-113e-45a7-8642-dcec40856226",
   "metadata": {},
   "source": [
    "[`__init__()`](i__init__.ipynb)"
   ]
  },
  {
   "cell_type": "markdown",
   "id": "bdf12440-5672-4f79-a13f-16f43cdcfcf4",
   "metadata": {},
   "source": [
    "[`__str__()`](s__str__.ipynb)"
   ]
  },
  {
   "cell_type": "markdown",
   "id": "f27429b0-0187-4d06-bdd5-68bc22bbbb08",
   "metadata": {},
   "source": [
    "[`__repr__()`](r__repr__.ipynb)"
   ]
  },
  {
   "cell_type": "markdown",
   "id": "58ae1a04-64a0-49df-aba4-89cf0b159c5f",
   "metadata": {},
   "source": [
    " [`.__subclasses__()`](s__subclasses__.ipynb)"
   ]
  },
  {
   "cell_type": "markdown",
   "id": "14d3a4ac-012b-42e7-8eec-db519e710523",
   "metadata": {},
   "source": [
    "#### Weitere Funktionen und Methoden"
   ]
  },
  {
   "cell_type": "markdown",
   "id": "55ea900c-29fd-46ea-84fd-d5d9db8ea8fe",
   "metadata": {},
   "source": [
    "[isinstance](isinstance.ipynb)"
   ]
  },
  {
   "cell_type": "markdown",
   "id": "06eb8d26-bb34-4dee-b7ca-536f6a71c923",
   "metadata": {},
   "source": [
    "[issubclass](issubclass.ipynb)"
   ]
  },
  {
   "cell_type": "markdown",
   "id": "5c1a0db3-6c1c-4ad0-bbfd-f9e4fd9d55a0",
   "metadata": {},
   "source": [
    "[hasattr](hasattr.ipynb)"
   ]
  },
  {
   "cell_type": "markdown",
   "id": "b897d01f-b874-4906-bc1f-93f942309830",
   "metadata": {},
   "source": [
    "[getattr](getattr.ipynb)"
   ]
  },
  {
   "cell_type": "markdown",
   "id": "77aaac42-fe78-4585-8b62-10a1eace8f2c",
   "metadata": {},
   "source": [
    "[`__gt__`](g__gt__.ipynb)"
   ]
  },
  {
   "cell_type": "markdown",
   "id": "84468260-3986-41bf-acef-d5580c9effd0",
   "metadata": {},
   "source": [
    "### Sonderkram"
   ]
  },
  {
   "cell_type": "markdown",
   "id": "830d5d6f-5287-44b7-bbec-c6da7def87e1",
   "metadata": {},
   "source": [
    "[Methoden](method.ipynb)"
   ]
  },
  {
   "cell_type": "markdown",
   "id": "93dee1ab-d173-430e-a969-1903124b2e5b",
   "metadata": {},
   "source": [
    "[self](self.ipynb)"
   ]
  },
  {
   "cell_type": "markdown",
   "id": "e5068247-19b0-47ea-a389-a48bd75e826a",
   "metadata": {},
   "source": [
    "Namespcace"
   ]
  },
  {
   "cell_type": "markdown",
   "id": "7f69824c-d6cd-4535-b9bf-47c017cced55",
   "metadata": {},
   "source": [
    "[Vererbung (Inheritance) erklärt](Inheritance.ipynb)"
   ]
  },
  {
   "cell_type": "markdown",
   "id": "e2400c82-acda-40c8-9d7f-3a3f846b9c28",
   "metadata": {},
   "source": [
    "[Name Mangeling](Name_Mangling.ipynb)"
   ]
  },
  {
   "cell_type": "markdown",
   "id": "dd91d972-4cd7-41af-97d8-505a1db0ea08",
   "metadata": {},
   "source": [
    "[closures und Dekoratoren](closure_and_decorator.ipynb)"
   ]
  },
  {
   "cell_type": "markdown",
   "id": "cca6a289-74d2-4f33-b4f9-c4f4b8f6a159",
   "metadata": {},
   "source": [
    "[Nested code](nested.ipynb)"
   ]
  },
  {
   "cell_type": "markdown",
   "id": "6f65efe2-8c4e-43f8-b989-500019b2b1df",
   "metadata": {},
   "source": [
    "[Encapsulation](Encapsulation.ipynb)"
   ]
  },
  {
   "cell_type": "markdown",
   "id": "6de48282-f152-4338-ad3e-3a49b08b7671",
   "metadata": {},
   "source": [
    "[Abstract](import_abc.ipynb)"
   ]
  },
  {
   "cell_type": "markdown",
   "id": "1c1ce679-0b16-47f2-8e92-ceed4aaada34",
   "metadata": {},
   "source": [
    "[Klassen](class.ipynb)"
   ]
  },
  {
   "cell_type": "code",
   "execution_count": null,
   "id": "3054eebb-c7ac-469b-9164-ec5cf560a89a",
   "metadata": {},
   "outputs": [],
   "source": []
  }
 ],
 "metadata": {
  "kernelspec": {
   "display_name": "Python 3 (ipykernel)",
   "language": "python",
   "name": "python3"
  },
  "language_info": {
   "codemirror_mode": {
    "name": "ipython",
    "version": 3
   },
   "file_extension": ".py",
   "mimetype": "text/x-python",
   "name": "python",
   "nbconvert_exporter": "python",
   "pygments_lexer": "ipython3",
   "version": "3.12.4"
  }
 },
 "nbformat": 4,
 "nbformat_minor": 5
}
