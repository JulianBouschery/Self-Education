{
 "cells": [
  {
   "cell_type": "markdown",
   "id": "ae4023bb-24ed-4993-b567-4ebf6b085f4d",
   "metadata": {},
   "source": [
    "# sqrt Methode (Square Root) / (Quadrat-) Wurzel von..."
   ]
  },
  {
   "cell_type": "markdown",
   "id": "82c4e5a4-12a2-44c8-bf12-da456d00b1de",
   "metadata": {},
   "source": [
    "Kurze Zusammenfassung:\n",
    "\n",
    "Square Root / math.sqrt() ist eine Methode des math-Modules und wird verwendet um die Quadratwurzel einer Zahl (int/float) zu berechen.\n",
    "\n",
    "Sie funktioniert NUR für POSITIVE Zahlen, andernfalls gibt sie einen ValueError zurück."
   ]
  },
  {
   "cell_type": "code",
   "execution_count": 8,
   "id": "6f683982-f2db-42b5-8510-95931434fcf6",
   "metadata": {},
   "outputs": [
    {
     "name": "stdout",
     "output_type": "stream",
     "text": [
      "3.0\n",
      "3.0204966479041158\n",
      "0.0\n"
     ]
    },
    {
     "ename": "ValueError",
     "evalue": "math domain error",
     "output_type": "error",
     "traceback": [
      "\u001b[1;31m---------------------------------------------------------------------------\u001b[0m",
      "\u001b[1;31mValueError\u001b[0m                                Traceback (most recent call last)",
      "Cell \u001b[1;32mIn[8], line 6\u001b[0m\n\u001b[0;32m      4\u001b[0m \u001b[38;5;28mprint\u001b[39m(math\u001b[38;5;241m.\u001b[39msqrt(\u001b[38;5;241m9.1234\u001b[39m))\n\u001b[0;32m      5\u001b[0m \u001b[38;5;28mprint\u001b[39m(math\u001b[38;5;241m.\u001b[39msqrt(\u001b[38;5;241m0\u001b[39m))\n\u001b[1;32m----> 6\u001b[0m \u001b[38;5;28mprint\u001b[39m(\u001b[43mmath\u001b[49m\u001b[38;5;241;43m.\u001b[39;49m\u001b[43msqrt\u001b[49m\u001b[43m(\u001b[49m\u001b[38;5;241;43m-\u001b[39;49m\u001b[38;5;241;43m1\u001b[39;49m\u001b[43m)\u001b[49m)\n",
      "\u001b[1;31mValueError\u001b[0m: math domain error"
     ]
    }
   ],
   "source": [
    "import math\n",
    "\n",
    "print(math.sqrt(9))\n",
    "print(math.sqrt(9.1234))\n",
    "print(math.sqrt(0))\n",
    "print(math.sqrt(-1))"
   ]
  },
  {
   "cell_type": "markdown",
   "id": "87d0484b-6475-40a8-a872-ff4bdb469762",
   "metadata": {},
   "source": [
    "**Squerroot funktioniert NICHT mit negative Zahlen!!!**result = math.sqrt(9)\n",
    "result"
   ]
  },
  {
   "cell_type": "code",
   "execution_count": null,
   "id": "e1d5eccd-9162-4397-9f05-88c8a1b44c84",
   "metadata": {},
   "outputs": [],
   "source": []
  }
 ],
 "metadata": {
  "kernelspec": {
   "display_name": "Python 3 (ipykernel)",
   "language": "python",
   "name": "python3"
  },
  "language_info": {
   "codemirror_mode": {
    "name": "ipython",
    "version": 3
   },
   "file_extension": ".py",
   "mimetype": "text/x-python",
   "name": "python",
   "nbconvert_exporter": "python",
   "pygments_lexer": "ipython3",
   "version": "3.12.4"
  }
 },
 "nbformat": 4,
 "nbformat_minor": 5
}
