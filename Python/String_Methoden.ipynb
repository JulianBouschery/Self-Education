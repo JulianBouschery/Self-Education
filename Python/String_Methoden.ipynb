{
 "cells": [
  {
   "cell_type": "markdown",
   "id": "dc5154e9-418e-4d68-9e86-880071808d80",
   "metadata": {},
   "source": [
    "# String Methoden"
   ]
  },
  {
   "cell_type": "markdown",
   "id": "a8f4a7a8-496a-4122-b0d1-7230d967a5f0",
   "metadata": {
    "jp-MarkdownHeadingCollapsed": true
   },
   "source": [
    "## Generelles zu String Methoden"
   ]
  },
  {
   "cell_type": "markdown",
   "id": "b0fccdf2-6530-4228-af71-315f28f42e81",
   "metadata": {},
   "source": [
    "`str` sind immutable, die str Klasse hat aber etliche Methoden die str-Instanzen manipulieren können. \n",
    "Dabei wird aber nicht das Original Objekt geändert, sondern ein neues str-Objekt erstellt."
   ]
  },
  {
   "cell_type": "markdown",
   "id": "98bd9422-0e08-4af1-b10b-29275a76ba0b",
   "metadata": {},
   "source": [
    "[String Methoden in Python Docs zum nachlesen](https://docs.python.org/3/library/stdtypes.html#string-methods)"
   ]
  },
  {
   "cell_type": "markdown",
   "id": "34b94154-eed7-4f43-a1b6-629a2d1f77b8",
   "metadata": {},
   "source": [
    "Welche von den Methoden brauchen wir wirklich?"
   ]
  },
  {
   "cell_type": "markdown",
   "id": "861de411-46e3-4dcf-9076-e75cc4087a83",
   "metadata": {},
   "source": [
    "Es gibt 47 Methoden für String-Objekte (__Doubleunderscor__ Methoden nicht mitgezählt)"
   ]
  },
  {
   "cell_type": "markdown",
   "id": "a4ecffea-a50b-4417-ac6f-a6a02e4ec799",
   "metadata": {},
   "source": [
    "Ich habe mich hier auf die Methoden konzentriert die in der Prüfung abgefragt werden und die man häufig braucht. Alle anderen kann man bei Bedarf unten in der Übersichtsliste anschauen und sich mit: `str` `.` `method` `?` die Parameter geben lassen."
   ]
  },
  {
   "cell_type": "markdown",
   "id": "4ecfe9f7-61ec-4c56-8af1-c5a2cf6398be",
   "metadata": {},
   "source": [
    "## Links der wichtigsten String Methoden:"
   ]
  },
  {
   "cell_type": "markdown",
   "id": "1b421313-765e-486d-ba25-551a60bbd8c1",
   "metadata": {},
   "source": [
    "[startswith und endswith](starts_ends_with.ipynb)"
   ]
  },
  {
   "cell_type": "markdown",
   "id": "e03492b9-1508-415d-a5c2-f42cb024b5fd",
   "metadata": {},
   "source": [
    "[upper, lower, capitalize und title](upper_lower_capitalize_title.ipynb)"
   ]
  },
  {
   "cell_type": "markdown",
   "id": "181d3e4a-19ac-4c94-9966-b88072aca831",
   "metadata": {},
   "source": [
    "[center](center.ipynb)"
   ]
  },
  {
   "cell_type": "markdown",
   "id": "6c4f10d0-5d73-4a59-87f0-ee41da058e05",
   "metadata": {},
   "source": [
    "[strip, lstrip und rstrip](strip.ipynb)"
   ]
  },
  {
   "cell_type": "markdown",
   "id": "c941678b-d38b-4f36-817e-a6e0701c17e7",
   "metadata": {},
   "source": [
    "[split_und_join](split_und_join.ipynb)"
   ]
  },
  {
   "cell_type": "markdown",
   "id": "2d4a89cb-d967-438a-91ec-a7561ba3beb8",
   "metadata": {},
   "source": [
    "[index, find, rfind](index_find_rfind.ipynb)"
   ]
  },
  {
   "cell_type": "markdown",
   "id": "4cff6eb0-ba4e-4dbb-aab7-873b47b39ded",
   "metadata": {},
   "source": [
    "[Beispiele für isalnum, isalpha, isnumeic...](is_.ipynb)"
   ]
  },
  {
   "cell_type": "markdown",
   "id": "272e82f3-612d-4469-bc20-0fd784fb79d3",
   "metadata": {},
   "source": [
    "[Generelles zu Method Chaining](method_chaining.ipynb)"
   ]
  },
  {
   "cell_type": "markdown",
   "id": "5568246a-a0b5-40f6-b50e-29b3a3e4fc4d",
   "metadata": {
    "jp-MarkdownHeadingCollapsed": true
   },
   "source": [
    "## Übersicht mit Erklärung:"
   ]
  },
  {
   "cell_type": "code",
   "execution_count": null,
   "id": "009a41a7-6cbd-4ac3-bbf6-b2d06155f2d0",
   "metadata": {},
   "outputs": [],
   "source": [
    "1. capitalize()                            # Wandelt den ersten Buchstaben in einen Großbuchstaben um und den Rest in Kleinbuchstaben.\n",
    "2. casefold()                              # Wandelt die Zeichenkette in Kleinbuchstaben um und behandelt spezielle Zeichen für Sprachen mit vielen Buchstaben wie das Deutsche.\n",
    "3. center(width[, fillchar])               # Zentriert die Zeichenkette innerhalb eines Felds der Breite 'width' und füllt den Raum mit 'fillchar' auf.\n",
    "4. count(sub[, start[, end]])              # Zählt die Vorkommen von 'sub' in der Zeichenkette.\n",
    "5. encode([encoding[, errors]])            # Kodiert die Zeichenkette in die angegebene Kodierung (UTF-8 standardmäßig).\n",
    "6. endswith(suffix[, start[, end]])        # Überprüft, ob die Zeichenkette mit dem Suffix 'suffix' endet.\n",
    "7. expandtabs([tabsize])                   # Ersetzt Tabulatoren in der Zeichenkette durch Leerzeichen basierend auf der Tabulatorgröße 'tabsize'.\n",
    "8. find(sub[, start[, end]])               # Sucht nach dem ersten Vorkommen von 'sub' in der Zeichenkette und gibt den Index zurück.\n",
    "9. format(*args, **kwargs)                 # Ersetzt Platzhalter in der Zeichenkette durch Werte aus 'args' und 'kwargs'.\n",
    "10. format_map(mapping)                    # Ersetzt Platzhalter in der Zeichenkette durch Werte aus dem Mapping 'mapping'.\n",
    "11. index(sub[, start[, end]])             # Sucht nach dem ersten Vorkommen von 'sub' in der Zeichenkette und gibt den Index zurück (löst ValueError aus, wenn nicht gefunden).\n",
    "12. isalnum()                              # Überprüft, ob die Zeichenkette aus alphanumerischen Zeichen besteht.\n",
    "13. isalpha()                              # Überprüft, ob die Zeichenkette aus alphabetischen Zeichen besteht.\n",
    "14. isascii()                              # Überprüft, ob alle Zeichen in der Zeichenkette im ASCII-Bereich liegen.\n",
    "15. isdecimal()                            # Überprüft, ob die Zeichenkette aus dezimalen Zeichen besteht.\n",
    "16. isdigit()                              # Überprüft, ob die Zeichenkette aus Ziffern besteht.\n",
    "17. isidentifier()                         # Überprüft, ob die Zeichenkette ein gültiger Python-Identifier ist.\n",
    "18. islower()                              # Überprüft, ob alle Zeichen in der Zeichenkette Kleinbuchstaben sind.\n",
    "19. isnumeric()                            # Überprüft, ob die Zeichenkette aus numerischen Zeichen besteht.\n",
    "20. isprintable()                          # Überprüft, ob alle Zeichen in der Zeichenkette druckbar sind.\n",
    "21. isspace()                              # Überprüft, ob die Zeichenkette nur Leerzeichen enthält.\n",
    "22. istitle()                              # Überprüft, ob die Zeichenkette die Titelkastenregel (Erster Buchstabe jedes Wortes groß) befolgt.\n",
    "23. isupper()                              # Überprüft, ob alle Zeichen in der Zeichenkette Großbuchstaben sind.\n",
    "24. join(iterable)                         # Fügt die Elemente des iterierbaren Objekts 'iterable' in eine einzelne Zeichenkette ein.\n",
    "25. ljust(width[, fillchar])               # Füllt die Zeichenkette auf die Breite 'width' auf und fügt 'fillchar' am Ende hinzu, um die Breite zu erreichen.\n",
    "26. lower()                                # Wandelt alle Zeichen in der Zeichenkette in Kleinbuchstaben um.\n",
    "27. lstrip([chars])                        # Entfernt führende Leerzeichen oder Zeichen aus der Zeichenkette.\n",
    "28. maketrans(x[, y[, z]])                 # Erzeugt eine Übersetzungstabelle für die translate-Methode.\n",
    "29. partition(sep)                         # Teilt die Zeichenkette in drei Teile basierend auf dem Trennzeichen 'sep'.\n",
    "30. removeprefix(prefix)                   # Entfernt, falls vorhanden, einen angegebenen Präfix von einer Zeichenkette und gibt das Ergebnis zurück, ändert aber nicht die ursprüngliche Zeichenkette.\n",
    "31. removesuffix(suffix)                   # Entfernt, falls vorhanden, einen angegebenen Suffix von einer Zeichenkette und gibt das Ergebnis zurück, ändert aber nicht die ursprüngliche Zeichenkette.\n",
    "32. replace(old, new[, count])             # Ersetzt Vorkommen von 'old' durch 'new' in der Zeichenkette (optional: nur 'count' Vorkommen).\n",
    "33. rfind(sub[, start[, end]])             # Sucht nach dem letzten Vorkommen von 'sub' in der Zeichenkette und gibt den Index zurück.\n",
    "34. rindex(sub[, start[, end]])            # Sucht nach dem letzten Vorkommen von 'sub' in der Zeichenkette und gibt den Index zurück (löst ValueError aus, wenn nicht gefunden).\n",
    "35. rjust(width[, fillchar])               # Füllt die Zeichenkette auf die Breite 'width' auf und fügt 'fillchar' am Anfang hinzu, um die Breite zu erreichen.\n",
    "36. rpartition(sep)                        # Teilt die Zeichenkette in drei Teile basierend auf dem Trennzeichen 'sep' von rechts.\n",
    "37. rsplit([sep[, maxsplit]])              # Teilt die Zeichenkette an Trennzeichen von rechts und gibt eine Liste der Ergebnisse zurück.\n",
    "38. rstrip([chars])                        # Entfernt nachgestellte Leerzeichen oder Zeichen aus der Zeichenkette.\n",
    "39. split([sep[, maxsplit]])               # Teilt die Zeichenkette an Trennzeichen und gibt eine Liste der Ergebnisse zurück.\n",
    "40. splitlines([keepends])                 # Teilt die Zeichenkette in Zeilen und gibt eine Liste der Ergebnisse zurück.\n",
    "41. startswith(prefix[, start[, end]])     # Überprüft, ob die Zeichenkette mit dem Präfix 'prefix' beginnt.\n",
    "42. strip([chars])                         # Entfernt führende und nachgestellte Leerzeichen oder Zeichen aus der Zeichenkette.\n",
    "43. swapcase()                             # Wandelt Großbuchstaben in Kleinbuchstaben und umgekehrt um.\n",
    "44. title()                                # Wandelt die Zeichenkette in Titelform um (Erster Buchstabe jedes Wortes groß).\n",
    "45. translate(table)                       # Ersetzt Zeichen in der Zeichenkette basierend auf der Übersetzungstabelle 'table'.\n",
    "46. upper()                                # Wandelt alle Zeichen in der Zeichenkette in Großbuchstaben um.\n",
    "47. zfill(width)                           # Füllt die Zeichenkette mit Nullen auf die Breite 'width' auf.\n"
   ]
  },
  {
   "cell_type": "markdown",
   "id": "feb6f491-cb13-46fb-8bbc-dd205c88ac77",
   "metadata": {},
   "source": [
    "### Errechnung der Liste:"
   ]
  },
  {
   "cell_type": "code",
   "execution_count": 5,
   "id": "383ba928-3328-47f0-9fbf-a87f65e5eb6d",
   "metadata": {},
   "outputs": [],
   "source": [
    "str_method = dir(str)"
   ]
  },
  {
   "cell_type": "code",
   "execution_count": 6,
   "id": "4dbd2631-a233-45db-9673-a349ba2d76d9",
   "metadata": {},
   "outputs": [],
   "source": [
    "x = [method for method in str_method if not method[0] == \"_\"]"
   ]
  },
  {
   "cell_type": "code",
   "execution_count": 7,
   "id": "7272207b-35f7-45bb-9612-00c54336b799",
   "metadata": {},
   "outputs": [
    {
     "data": {
      "text/plain": [
       "47"
      ]
     },
     "execution_count": 7,
     "metadata": {},
     "output_type": "execute_result"
    }
   ],
   "source": [
    "len(x)"
   ]
  },
  {
   "cell_type": "markdown",
   "id": "564eb0cc-8db5-4fee-95ef-a58f87c593cc",
   "metadata": {
    "jp-MarkdownHeadingCollapsed": true
   },
   "source": [
    "## Das MODUL \"String\""
   ]
  },
  {
   "cell_type": "markdown",
   "id": "a0a42719-3f56-438c-884d-39be938e77a4",
   "metadata": {},
   "source": [
    "Achtung die Klasse für Strings in Python heißt `str`. Es gibt auch ein Module in der Standard-Library das `string` heisst. Das ist NICHT die Klasse für \"Strings\" sondern eine Ansammlung von sinnvollen/hilfreichen string Vorgaben.\n",
    "\n",
    "[Für das string-Module siehe hier](https://docs.python.org/3/library/string.html)"
   ]
  },
  {
   "cell_type": "code",
   "execution_count": null,
   "id": "e8b1f5ac-e9fe-44ab-a845-56b7549abff8",
   "metadata": {},
   "outputs": [],
   "source": []
  }
 ],
 "metadata": {
  "kernelspec": {
   "display_name": "Python 3 (ipykernel)",
   "language": "python",
   "name": "python3"
  },
  "language_info": {
   "codemirror_mode": {
    "name": "ipython",
    "version": 3
   },
   "file_extension": ".py",
   "mimetype": "text/x-python",
   "name": "python",
   "nbconvert_exporter": "python",
   "pygments_lexer": "ipython3",
   "version": "3.12.4"
  }
 },
 "nbformat": 4,
 "nbformat_minor": 5
}
