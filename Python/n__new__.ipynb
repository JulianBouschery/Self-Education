{
 "cells": [
  {
   "cell_type": "markdown",
   "id": "00a47a34-2054-4cea-9910-3bf7c3746333",
   "metadata": {},
   "source": [
    "# `__new__`"
   ]
  },
  {
   "cell_type": "markdown",
   "id": "4db56b47-6972-4248-bb7a-3c8f12da60f6",
   "metadata": {},
   "source": [
    "Die `__new__` Methode ist verantwortlich für die eigentliche Erstellung einer neuen Instanz einer Klasse. Sie wird aufgerufen, BEVOR das Objekt erstellt wird und ist daher als der eigentliche **Konstruktor** der Klasse zu betrachten. Sie gehört zur Klasse, nicht zur Instanz."
   ]
  },
  {
   "cell_type": "markdown",
   "id": "336cce04-247e-4e6b-a1f1-28c565dc7c38",
   "metadata": {},
   "source": [
    "\n",
    "Name der Funktion: \n",
    "\n",
    "Instanz der Klasse: \n",
    "\n",
    "Syntax:\n",
    "\n",
    "`abc` `(` `def` `)` \n",
    "\n",
    "Parameter: \n",
    "```python\n",
    "__new__(cls, *args, **kwargs)    \n",
    "```\n",
    "Funktion: \n",
    "Erstellt eine neue Instanz der Klasse.\n",
    "    \n",
    "Rückgabewert: \n",
    "Muss die neue Instanz der Klasse (üblicherweise durch Aufruf von `super().__new__(cls)`) zurückgeben."
   ]
  },
  {
   "cell_type": "markdown",
   "id": "4e732ef3-42e9-463f-802b-00d31de2f685",
   "metadata": {},
   "source": [
    "Beispiel:"
   ]
  },
  {
   "cell_type": "code",
   "execution_count": 10,
   "id": "db406c44-f397-4d75-8774-ba3dc2b969aa",
   "metadata": {},
   "outputs": [
    {
     "name": "stdout",
     "output_type": "stream",
     "text": [
      "Creating instance via __new__\n",
      "Init läuft\n",
      "{'value': 10, 'a': 100}\n"
     ]
    }
   ],
   "source": [
    "class MyClass: # 1. Python nimmt die Klasse zurkenntnis\n",
    "    def __new__(cls, *args, **kwargs): # 2.2 Die __new__ Methode wird sofort von der Klasse aufgerufen\n",
    "        print(\"Creating instance via __new__\") # 2.3 (Gleichzeitig wird hier in diesem Beispiel der String gedruckt.)\n",
    "        instance = super().__new__(cls) # 2.4 und im selben Moment erstellt die __new__ Methode die Instanz\n",
    "        return instance # und gibt sie zurück\n",
    "        \n",
    "    def __init__(self, value): # 3. Erst danach kann die __init__()-Methode die Instanz befüllen\n",
    "        print(\"Init läuft\") # 4. print\n",
    "        self.value = value # 5. Variable 1\n",
    "        self.a = 100 # 6. Variable 2\n",
    "        \n",
    "inst = MyClass(10) # 2.1 Die Klasse wird aufgerufen \n",
    "                   # 7. __init__ ist fertig, schließt sich und kehrt der Stelle \n",
    "                   # im Code zurück wo die Klasse aufgerufen wurde \n",
    "\n",
    "print(inst.__dict__) # 8. Mit __dict__ kann man sich anschauen, was in der Instanz enthalten ist.\n",
    "\n",
    "# 2.1 bis 2.4 ist im Pythontutor alles EIN EINZIGER SCHRITT (von 2 zu 3)"
   ]
  },
  {
   "cell_type": "markdown",
   "id": "85a7b01e-d1ae-4494-bc84-87a60b88e757",
   "metadata": {},
   "source": [
    "[Wie new in Python funktioniert](https://pythontutor.com/render.html#code=class%20MyClass%3A%0A%20%20%20%20def%20__new__%28cls,%20*args,%20**kwargs%29%3A%0A%20%20%20%20%20%20%20%20print%28%22Creating%20instance%20via%20__new__%22%29%0A%20%20%20%20%20%20%20%20instance%20%3D%20super%28%29.__new__%28cls%29%0A%20%20%20%20%20%20%20%20return%20instance%0A%20%20%20%20%20%20%20%20%0A%20%20%20%20def%20__init__%28self,%20value%29%3A%0A%20%20%20%20%20%20%20%20print%28%22Init%20l%C3%A4uft%22%29%0A%20%20%20%20%20%20%20%20self.value%20%3D%20value%0A%20%20%20%20%20%20%20%20self.a%20%3D%20100%0A%20%20%20%20%20%20%20%20%0Ainst%20%3D%20MyClass%2810%29%0Aprint%28inst.__dict__%29&cumulative=false&curInstr=0&heapPrimitives=nevernest&mode=display&origin=opt-frontend.js&py=311&rawInputLstJSON=%5B%5D&textReferences=false)"
   ]
  },
  {
   "cell_type": "markdown",
   "id": "59e677da-269f-4d82-b8d6-596702eecea6",
   "metadata": {},
   "source": [
    "Die `__new__()`-Methode erstellt eine Instanz noch BEVOR die `__init__()`-Methode aufgerufen wird um diese mit Argumenten zu befüllen"
   ]
  },
  {
   "cell_type": "markdown",
   "id": "440cf621-c8f3-4e7e-80df-feac84c51e24",
   "metadata": {},
   "source": [
    "[Erklärung von Philipp](https://pythontutor.com/visualize.html#code=class%20Duck%3A%0A%20%20%20%20%0A%20%20%20%20def%20__init__%28self,%20height,%20weight,%20sex%29%3A%20%23wieso%20kein%20Fehler%3F%20--%3E%20es%20wurde%20doch%20kein%20Argument%20%C3%BCbergeben%0A%20%20%20%20%20%20%20%20self.height%20%3D%20height%0A%20%20%20%20%20%20%20%20self.weight%20%3D%20weight%0A%20%20%20%20%20%20%20%20self.sex%20%3D%20sex%0A%20%20%20%20%20%20%20%20%0A%20%20%20%20%20%20%20%20%0A%0Amy_duck%20%3D%20Duck%28height%3D10,%20weight%3D3.4,%20sex%3D%22male%22%29%0A%0A%0A%0A%23%20Die%20folgenden%20Zwei%20Zeilen%20sind%20ergebnisgleich%20wie%20die%20Zeile%209%20oben%0Ainst_neu%20%3D%20Duck.__new__%28Duck%29%0Aresult%20%3D%20Duck.__init__%28inst_neu,%20height%3D1110,%20weight%3D3.4,%20sex%3D%22male%22%29%0Ainst_neu%20%3D%20Duck.__new__%28Duck%29%20%23ersetzt%20Duck%20durch%20object,%20weil%20er%20sich%20%0A%23%20die%20new%20Methode%20von%20Object%20holt,%20da%20sie%20in%20Duck%20nicht%20definiert%20ist...&cumulative=false&heapPrimitives=nevernest&mode=edit&origin=opt-frontend.js&py=311&rawInputLstJSON=%5B%5D&textReferences=false)"
   ]
  },
  {
   "cell_type": "code",
   "execution_count": null,
   "id": "b3a64e8e-39e0-4f63-9ee1-0865fa22a59e",
   "metadata": {},
   "outputs": [],
   "source": []
  }
 ],
 "metadata": {
  "kernelspec": {
   "display_name": "Python 3 (ipykernel)",
   "language": "python",
   "name": "python3"
  },
  "language_info": {
   "codemirror_mode": {
    "name": "ipython",
    "version": 3
   },
   "file_extension": ".py",
   "mimetype": "text/x-python",
   "name": "python",
   "nbconvert_exporter": "python",
   "pygments_lexer": "ipython3",
   "version": "3.12.4"
  }
 },
 "nbformat": 4,
 "nbformat_minor": 5
}
