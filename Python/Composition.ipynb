{
 "cells": [
  {
   "cell_type": "markdown",
   "id": "125193fb-677a-4c6c-9cac-1da7586dc1f0",
   "metadata": {},
   "source": [
    "# Composition"
   ]
  },
  {
   "cell_type": "markdown",
   "id": "560be480-4cab-4675-bce9-7267cf93daba",
   "metadata": {},
   "source": [
    "Composition (Komposition) ist der Prozess des Zusammensetzens eines Objekts aus anderen Objekten."
   ]
  },
  {
   "cell_type": "code",
   "execution_count": null,
   "id": "4fdd7f97-e91e-47bb-886f-d796a7c94e08",
   "metadata": {},
   "outputs": [],
   "source": []
  }
 ],
 "metadata": {
  "kernelspec": {
   "display_name": "Python 3 (ipykernel)",
   "language": "python",
   "name": "python3"
  },
  "language_info": {
   "codemirror_mode": {
    "name": "ipython",
    "version": 3
   },
   "file_extension": ".py",
   "mimetype": "text/x-python",
   "name": "python",
   "nbconvert_exporter": "python",
   "pygments_lexer": "ipython3",
   "version": "3.12.4"
  }
 },
 "nbformat": 4,
 "nbformat_minor": 5
}
