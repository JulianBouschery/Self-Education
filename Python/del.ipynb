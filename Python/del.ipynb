{
 "cells": [
  {
   "cell_type": "markdown",
   "id": "7bdbc473-32ba-4f12-a788-373a79c91b92",
   "metadata": {},
   "source": [
    "# del Funktion"
   ]
  },
  {
   "cell_type": "code",
   "execution_count": 2,
   "id": "cb597ee5-ec03-432e-8f20-4995e0a6861a",
   "metadata": {},
   "outputs": [
    {
     "name": "stdout",
     "output_type": "stream",
     "text": [
      "42\n"
     ]
    }
   ],
   "source": [
    "x = 42\n",
    "y = x\n",
    "del x\n",
    "print(y)"
   ]
  },
  {
   "cell_type": "markdown",
   "id": "a03708ed-ea24-416c-beaf-2d95f80744b0",
   "metadata": {},
   "source": [
    "y ist nur ein weiterer Name für das Literal (den Wert) 42.                                                                     \n",
    "Von x und y führt eine Pfeil zu dem Wert 42.                                                                                  \n",
    "x / y sind IST NICHT die 42, sondern nur die Schatzkarte zur 42.                                                             \n",
    "Verschwindet eine Schatzkarte, bleibt der Schatz trotzdem da."
   ]
  },
  {
   "cell_type": "markdown",
   "id": "9b70fe84-475c-4772-bdae-b1693f2a7e2c",
   "metadata": {},
   "source": [
    "[Link Pythontutor](https://pythontutor.com/render.html#code=x%20%3D%2042%0Ay%20%3D%20x%0Adel%20x%0Aprint%28y%29&cumulative=false&curInstr=0&heapPrimitives=nevernest&mode=display&origin=opt-frontend.js&py=311&rawInputLstJSON=%5B%5D&textReferences=false)"
   ]
  },
  {
   "cell_type": "code",
   "execution_count": 4,
   "id": "3f163344-4c1f-4005-b8bd-b0804671a2a6",
   "metadata": {},
   "outputs": [
    {
     "ename": "SyntaxError",
     "evalue": "cannot delete literal (311803411.py, line 3)",
     "output_type": "error",
     "traceback": [
      "\u001b[1;36m  Cell \u001b[1;32mIn[4], line 3\u001b[1;36m\u001b[0m\n\u001b[1;33m    del[42]\u001b[0m\n\u001b[1;37m        ^\u001b[0m\n\u001b[1;31mSyntaxError\u001b[0m\u001b[1;31m:\u001b[0m cannot delete literal\n"
     ]
    }
   ],
   "source": [
    "x = 42\n",
    "y = x\n",
    "del[42]\n",
    "print(y)"
   ]
  },
  {
   "cell_type": "code",
   "execution_count": null,
   "id": "fc68a2d7-39ae-4a83-8f27-4bae95d180e6",
   "metadata": {},
   "outputs": [],
   "source": [
    "Python erlaubt dir nicht einfach so einen Literal zu löschen, ohne das "
   ]
  },
  {
   "cell_type": "code",
   "execution_count": 3,
   "id": "c8ba7d93-5d38-4144-b473-271dad379b76",
   "metadata": {},
   "outputs": [
    {
     "ename": "TypeError",
     "evalue": "'tuple' object doesn't support item deletion",
     "output_type": "error",
     "traceback": [
      "\u001b[1;31m---------------------------------------------------------------------------\u001b[0m",
      "\u001b[1;31mTypeError\u001b[0m                                 Traceback (most recent call last)",
      "Cell \u001b[1;32mIn[3], line 2\u001b[0m\n\u001b[0;32m      1\u001b[0m tuppy \u001b[38;5;241m=\u001b[39m (\u001b[38;5;241m1\u001b[39m,\u001b[38;5;241m2\u001b[39m,\u001b[38;5;241m3\u001b[39m,\u001b[38;5;241m4\u001b[39m,\u001b[38;5;241m5\u001b[39m)\n\u001b[1;32m----> 2\u001b[0m \u001b[38;5;28;01mdel\u001b[39;00m \u001b[43mtuppy\u001b[49m\u001b[43m[\u001b[49m\u001b[38;5;241;43m2\u001b[39;49m\u001b[43m]\u001b[49m\n\u001b[0;32m      3\u001b[0m \u001b[38;5;28mprint\u001b[39m(tuppy)\n",
      "\u001b[1;31mTypeError\u001b[0m: 'tuple' object doesn't support item deletion"
     ]
    }
   ],
   "source": [
    "tuppy = (1,2,3,4,5)\n",
    "del tuppy[2]\n",
    "print(tuppy)"
   ]
  },
  {
   "cell_type": "code",
   "execution_count": 6,
   "id": "773c4908-4278-4e46-b09b-fbfc2cc40b22",
   "metadata": {},
   "outputs": [
    {
     "name": "stdout",
     "output_type": "stream",
     "text": [
      "[1, 2, 4, 5]\n"
     ]
    }
   ],
   "source": [
    "listy = [1,2,3,4,5]\n",
    "del listy[2]\n",
    "print(listy)"
   ]
  }
 ],
 "metadata": {
  "kernelspec": {
   "display_name": "Python 3 (ipykernel)",
   "language": "python",
   "name": "python3"
  },
  "language_info": {
   "codemirror_mode": {
    "name": "ipython",
    "version": 3
   },
   "file_extension": ".py",
   "mimetype": "text/x-python",
   "name": "python",
   "nbconvert_exporter": "python",
   "pygments_lexer": "ipython3",
   "version": "3.12.3"
  }
 },
 "nbformat": 4,
 "nbformat_minor": 5
}
