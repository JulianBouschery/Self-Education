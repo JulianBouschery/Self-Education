{
 "cells": [
  {
   "cell_type": "markdown",
   "id": "099caafa-7012-494e-ad07-089263302c70",
   "metadata": {},
   "source": [
    "# `__init__`"
   ]
  },
  {
   "cell_type": "markdown",
   "id": "e5efcc70-a2f4-41b5-97ea-df8495f08ede",
   "metadata": {},
   "source": [
    "Die `__init__()`-Methode erstellt KEINE Instanzen einer Klasse. Das macht die `__new__`-Methode.\n",
    "\n",
    "Stattdessen dient die `__init__()`-Methode dazu, die Instanzvariablen zu initialisieren und der neuen Instanz ihre Anfangswerte zuzuweisen / die Instanz zu befüllen. \n",
    "\n",
    "Die tatsächliche Erstellung der Instanz erfolgt durch den **Aufruf** des `Konstruktors` der Klasse z.B. `ClassName()`, der wiederum unter der Haube die `__new__`-Methode aufruft, die nach der Erstellung der Instanz wiederum die `__init__()`-Methode aufruft."
   ]
  },
  {
   "cell_type": "markdown",
   "id": "029af52c-1b94-4958-a791-1b8a8253bce4",
   "metadata": {},
   "source": [
    "Siehe auch: [Initialization](initialization.ipynb)"
   ]
  },
  {
   "cell_type": "markdown",
   "id": "96e2be25-ea02-454b-96d8-45e21ef84288",
   "metadata": {},
   "source": [
    "Siehe auch: [`__new__`](n__new__.ipynb)"
   ]
  },
  {
   "cell_type": "markdown",
   "id": "815e7384-7312-4e22-a661-c9f4a72d288b",
   "metadata": {},
   "source": [
    "Frage:"
   ]
  },
  {
   "cell_type": "markdown",
   "id": "7e972bc5-1ee2-4a3a-a0e4-4455f6fc5c67",
   "metadata": {},
   "source": [
    "Ist die `__init__()`-Methode nun ein Konstruktor oder nicht???"
   ]
  },
  {
   "cell_type": "code",
   "execution_count": 10,
   "id": "e1c15478-c84e-48d3-a9ce-e01db990b9b5",
   "metadata": {},
   "outputs": [],
   "source": [
    "class Person:\n",
    "    def __init__(self, name, age):\n",
    "        self.name = name \n",
    "        self.age = age    \n",
    "\n",
    "person1 = Person(\"Alice\", 30)"
   ]
  },
  {
   "cell_type": "markdown",
   "id": "2b4045af-e9dd-4fb9-a3d7-f67f58ffeadf",
   "metadata": {},
   "source": [
    "Beispiel:"
   ]
  },
  {
   "cell_type": "code",
   "execution_count": null,
   "id": "decd9497-4d1d-4f26-bef9-b0c9dbee8dc2",
   "metadata": {},
   "outputs": [],
   "source": [
    "class MyClass: # 1. Python nimmt die Klasse zurkenntnis\n",
    "    def __new__(cls, *args, **kwargs): # 2.2 Die __new__ Methode wird sofort von der Klasse aufgerufen\n",
    "        print(\"Creating instance via __new__\") # 2.3 (Gleichzeitig wird hier in diesem Beispiel der String gedruckt.)\n",
    "        instance = super().__new__(cls) # 2.4 und im selben Moment erstellt die __new__ Methode die Instanz\n",
    "        return instance # und gibt sie zurück\n",
    "        \n",
    "    def __init__(self, value): # 3. Erst danach kann die __init__()-Methode die Instanz befüllen\n",
    "        print(\"Init läuft\") # 4. print\n",
    "        self.value = value # 5. Variable 1\n",
    "        self.a = 100 # 6. Variable 2\n",
    "        \n",
    "inst = MyClass(10) # 2.1 Die Klasse wird aufgerufen \n",
    "                   # 7. __init__ ist fertig, schließt sich und kehrt der Stelle \n",
    "                   # im Code zurück wo die Klasse aufgerufen wurde \n",
    "\n",
    "print(inst.__dict__) # 8. Mit __dict__ kann man sich anschauen, was in der Instanz enthalten ist.\n",
    "\n",
    "# 2.1 bis 2.4 ist im Pythontutor alles EIN EINZIGER SCHRITT (von 2 zu 3)"
   ]
  },
  {
   "cell_type": "code",
   "execution_count": null,
   "id": "59e7e3e2-a29f-4df8-852f-e8d0501cbd0e",
   "metadata": {},
   "outputs": [],
   "source": [
    "Die Instanz wird von der __new__()-Methode erstellt NICHT von der __init__ "
   ]
  },
  {
   "cell_type": "markdown",
   "id": "61dcf5e3-0c2f-4b58-b422-d69a1bed2ce6",
   "metadata": {},
   "source": [
    "[Java](https://pythontutor.com/render.html#code=public%20class%20JavaClass%7B%0Astatic%20String%20myClass_Var%20%3D%20%2232%22%3B%0Aint%20a%3B%0Aint%20b%3B%20%0A%0A//%20Konstruktor%0Apublic%20JavaClass%28int%20a,%20int%20b%29%7B%0Athis.a%20%3D%20a%3B%0Athis.b%20%3D%20b%3B%0A%7D%0A%0A%0Apublic%20static%20void%20main%28String%5B%5D%20args%29%7B%0A%0AJavaClass%20inst1%20%3D%20new%20JavaClass%2810,20%29%3B%0A%7D%0A%7D&cumulative=false&curInstr=7&heapPrimitives=nevernest&mode=display&origin=opt-frontend.js&py=java&rawInputLstJSON=%5B%5D&textReferences=false)"
   ]
  },
  {
   "cell_type": "markdown",
   "id": "986be69d-1ec5-4fbf-8a4f-a616faeae4e6",
   "metadata": {},
   "source": [
    "[Python](https://pythontutor.com/visualize.html#code=class%20MyClass%3A%0A%20%20%20%20def%20__new__%28cls,%20*args,%20**kwargs%29%3A%0A%20%20%20%20%20%20%20%20print%28%22Creating%20instance%20via%20__new__%22%29%0A%20%20%20%20%20%20%20%20instance%20%3D%20super%28%29.__new__%28cls%29%0A%20%20%20%20%20%20%20%20return%20instance%0A%20%20%20%20%20%20%20%20%0A%20%20%20%20def%20__init__%28self%29%3A%0A%20%20%20%20%20%20%20%20print%28%22Init%20l%C3%A4uft%22%29%0A%20%20%20%20%20%20%20%20self.a%20%3D%20100%0A%20%20%20%20%20%20%20%20%0Ainst%20%3D%20MyClass%28%29%0A&cumulative=false&heapPrimitives=nevernest&mode=edit&origin=opt-frontend.js&py=311&rawInputLstJSON=%5B%5D&textReferences=false)"
   ]
  },
  {
   "cell_type": "markdown",
   "id": "49ddf8f7-d05f-4fd4-8233-35211d6ec993",
   "metadata": {},
   "source": [
    "[Einfachstes Beispiel einer Klasse in Python](https://pythontutor.com/render.html#code=class%20Person%3A%0A%20%20%20%20def%20__init__%28self,%20name,%20age%29%3A%0A%20%20%20%20%20%20%20%20self.name%20%3D%20name%20%0A%20%20%20%20%20%20%20%20self.age%20%3D%20age%20%20%20%20%0A%0Aperson1%20%3D%20Person%28%22Alice%22,%2030%29&cumulative=false&curInstr=0&heapPrimitives=nevernest&mode=display&origin=opt-frontend.js&py=3&rawInputLstJSON=%5B%5D&textReferences=false)"
   ]
  }
 ],
 "metadata": {
  "kernelspec": {
   "display_name": "Python 3 (ipykernel)",
   "language": "python",
   "name": "python3"
  },
  "language_info": {
   "codemirror_mode": {
    "name": "ipython",
    "version": 3
   },
   "file_extension": ".py",
   "mimetype": "text/x-python",
   "name": "python",
   "nbconvert_exporter": "python",
   "pygments_lexer": "ipython3",
   "version": "3.12.4"
  }
 },
 "nbformat": 4,
 "nbformat_minor": 5
}
