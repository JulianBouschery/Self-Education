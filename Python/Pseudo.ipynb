{
 "cells": [
  {
   "cell_type": "markdown",
   "id": "0c0b1631-42ac-4fc3-a9ee-c95566c3cd62",
   "metadata": {},
   "source": [
    "[Zurück zum Inhaltsverzeichnis](_Inhaltsverzeichnis_.ipynb)"
   ]
  },
  {
   "cell_type": "markdown",
   "id": "892d5420-79c3-4c0d-95cb-caf2b53b192d",
   "metadata": {},
   "source": [
    "# Pseudo Code"
   ]
  },
  {
   "cell_type": "markdown",
   "id": "90e2a16e-3b41-46a2-9e42-137601da9221",
   "metadata": {},
   "source": [
    "Welche Gedanken sollte man sich machen, bevor man mit dem Programmieren beginnt?"
   ]
  },
  {
   "cell_type": "code",
   "execution_count": null,
   "id": "7cc4794e-9bbc-44d5-913c-3813ece4b62c",
   "metadata": {},
   "outputs": [],
   "source": []
  }
 ],
 "metadata": {
  "kernelspec": {
   "display_name": "Python 3 (ipykernel)",
   "language": "python",
   "name": "python3"
  },
  "language_info": {
   "codemirror_mode": {
    "name": "ipython",
    "version": 3
   },
   "file_extension": ".py",
   "mimetype": "text/x-python",
   "name": "python",
   "nbconvert_exporter": "python",
   "pygments_lexer": "ipython3",
   "version": "3.12.3"
  }
 },
 "nbformat": 4,
 "nbformat_minor": 5
}
