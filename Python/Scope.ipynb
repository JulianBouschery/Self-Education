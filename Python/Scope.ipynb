{
 "cells": [
  {
   "cell_type": "markdown",
   "id": "6fd18d32-d951-495d-b43e-846fbfaebe27",
   "metadata": {},
   "source": [
    "[Zurück zum Inhaltsverzeichnis](_Inhaltsverzeichnis_.ipynb)"
   ]
  },
  {
   "cell_type": "markdown",
   "id": "365fa76b-d292-4b60-967b-c434d2e3e38c",
   "metadata": {},
   "source": [
    "# Scope (lokal vs. global)"
   ]
  },
  {
   "cell_type": "markdown",
   "id": "b318645a-780e-4890-9cf9-02ab13be057a",
   "metadata": {},
   "source": [
    "- Was passiert? (Funktion erklären)\n",
    "- Was ist das? (Definition formulieren)\n",
    "- Warum / Wie funktioniert das? (Hintergründe und Details)\n",
    "  All, das Hand von sehr vielen Beispielen erklären"
   ]
  },
  {
   "cell_type": "markdown",
   "id": "80482d7b-04cd-4d74-9bcb-8c10507fb4cc",
   "metadata": {},
   "source": [
    "Der Begriff \"Scope\" (zu Deutsch: \"Gültigkeitsbereich\" oder \"Sichtbarkeitsbereich\") stammt aus der Informatik und bezieht sich auf den Bereich, in dem eine bestimmte Variable innerhalb eines Programms verwendet werden kann. In Python gibt es verschiedene Arten von Gültigkeitsbereichen, darunter der globale Gültigkeitsbereich und lokale Gültigkeitsbereiche.\n",
    "\n",
    "- Der globale Gültigkeitsbereich umfasst alle Variablen, die außerhalb von Funktionen definiert sind, wodurch sie im gesamten Programm zugänglich sind.\n",
    "\n",
    "- Lokale Gültigkeitsbereiche beziehen sich auf Variablen, die innerhalb einer Funktion definiert sind, weshalb sind nur innerhalb dieser Funktion zugänglich."
   ]
  },
  {
   "cell_type": "markdown",
   "id": "28139928-5586-4b19-b78f-58d7d06f44db",
   "metadata": {},
   "source": [
    "### `lokal` und `global`"
   ]
  },
  {
   "cell_type": "code",
   "execution_count": 60,
   "id": "742f2d9f-7c23-4df9-b2a7-29b276439941",
   "metadata": {},
   "outputs": [
    {
     "name": "stdout",
     "output_type": "stream",
     "text": [
      "Do I know that variable? Ich bin überall.\n",
      "Ich bin überall.\n"
     ]
    }
   ],
   "source": [
    "def my_function():\n",
    "    print(\"Do I know that variable?\", var)\n",
    "\n",
    "var = \"Ich bin überall.\"\n",
    "my_function()\n",
    "print(var)"
   ]
  },
  {
   "cell_type": "markdown",
   "id": "9b35e565-e744-4025-8390-c3568bbce5c3",
   "metadata": {},
   "source": [
    "Eine Variable, die außerhalb einer Funktion existiert, hat einen Geltungsbereich innerhalb des Funktionskörpers.\n",
    "\n",
    "Diese Regel hat eine sehr wichtige Ausnahme:"
   ]
  },
  {
   "cell_type": "markdown",
   "id": "678e66f5-3d1a-4a67-b327-c2c7bd294416",
   "metadata": {},
   "source": [
    "### Ausnahme"
   ]
  },
  {
   "cell_type": "code",
   "execution_count": 62,
   "id": "72273e7b-8548-434e-9bad-b099aa7234ba",
   "metadata": {},
   "outputs": [
    {
     "name": "stdout",
     "output_type": "stream",
     "text": [
      "Do I know that variable? Haha, ich bin stärker!\n",
      "Ich bin überall.\n"
     ]
    }
   ],
   "source": [
    "def my_function():\n",
    "    var = \"Haha, ich bin stärker!\" # Funktionsvariable\n",
    "    print(\"Do I know that variable?\", var)\n",
    "\n",
    "var = \"Ich bin überall.\" \n",
    "my_function()\n",
    "print(var)"
   ]
  },
  {
   "cell_type": "markdown",
   "id": "de14c6f8-af7b-4b40-9c25-00e4b51474c1",
   "metadata": {},
   "source": [
    "Was ist passiert?\n",
    "\n",
    "Die innerhalb der Funktion erstellte Variable `var` ist nicht dieselbe wie die Variable außerhalb der Funktion.\n",
    "Es scheint, als gäbe es zwei verschiedene Variablen mit demselben Namen.\n",
    "Außerdem überschattet die Funktionsvariable die Variable, die von außen kommt.\n",
    "\n",
    "Wir können die vorhergehende Regel präzisieren und angemessener gestalten:\n",
    "\n",
    "Eine Variable, die außerhalb einer Funktion existiert, hat einen Geltungsbereich innerhalb des Funktionskörpers, mit Ausnahme derjenigen Funktionen, die eine gleichnamige Variable definieren.\n",
    "\n",
    "Das bedeutet auch, dass der Geltungsbereich einer Variablen, die außerhalb einer Funktion existiert, nur beim Abrufen ihres Wertes (Lesen) unterstützt wird. Die Zuweisung eines Wertes erzwingt die Erstellung einer eigenen Variablen für die Funktion."
   ]
  },
  {
   "cell_type": "markdown",
   "id": "a20009eb-4baa-410d-97d6-c72e3c4fdd43",
   "metadata": {},
   "source": [
    "[Link Pythontutor](https://pythontutor.com/render.html#code=def%20my_function%28%29%3A%0A%20%20%20%20var%20%3D%20%22Haha,%20ich%20bin%20st%C3%A4rker!%22%20%23%20Funktionsvariable%0A%20%20%20%20print%28%22Do%20I%20know%20that%20variable%3F%22,%20var%29%0A%0Avar%20%3D%20%22Ich%20bin%20%C3%BCberall.%22%20%0Amy_function%28%29%0Aprint%28var%29&cumulative=false&curInstr=0&heapPrimitives=nevernest&mode=display&origin=opt-frontend.js&py=3&rawInputLstJSON=%5B%5D&textReferences=false)"
   ]
  },
  {
   "cell_type": "markdown",
   "id": "4dbde3db-e7ac-4a8e-9405-5fc623960408",
   "metadata": {},
   "source": [
    "### Global als Keyword"
   ]
  },
  {
   "cell_type": "code",
   "execution_count": 66,
   "id": "a924b0c2-5afd-4816-b2ec-1ffd5738bc98",
   "metadata": {},
   "outputs": [
    {
     "name": "stdout",
     "output_type": "stream",
     "text": [
      "Do I know that variable? Haha, ich bin stärker!\n",
      "Haha, ich bin stärker!\n"
     ]
    }
   ],
   "source": [
    "def my_function():\n",
    "    global var \n",
    "    var = \"Haha, ich bin stärker!\" # Funktionsvariable\n",
    "    print(\"Do I know that variable?\", var)\n",
    "\n",
    "var = \"Ich bin überall.\"\n",
    "my_function()\n",
    "print(var)"
   ]
  },
  {
   "cell_type": "markdown",
   "id": "acc2cb6a-ad14-485a-8760-3da7f88ad457",
   "metadata": {},
   "source": [
    "Das Keyword `global` gibt der Funktionsvariable `var` das Recht einfach alle anderen Variablen mit dem selben Namen zu überschreiben."
   ]
  },
  {
   "cell_type": "code",
   "execution_count": 67,
   "id": "7fbf157f-f4de-4b2b-9d05-0063b988c77b",
   "metadata": {},
   "outputs": [
    {
     "name": "stdout",
     "output_type": "stream",
     "text": [
      "Do I know that variable? Haha, ich bin stärker!\n",
      "Ich wurde neu zugewiesen.\n"
     ]
    }
   ],
   "source": [
    "def my_function():\n",
    "    global var \n",
    "    var = \"Haha, ich bin stärker!\" # Funktionsvariable\n",
    "    print(\"Do I know that variable?\", var)\n",
    "\n",
    "var = \"Ich bin überall.\"\n",
    "my_function()\n",
    "var = \"Ich wurde neu zugewiesen.\"\n",
    "print(var)"
   ]
  },
  {
   "cell_type": "markdown",
   "id": "d979a293-c0b7-4c9a-91ef-53b68f89314a",
   "metadata": {},
   "source": [
    "Wird jedoch auf der globalen Ebene (alles außerhalb von Funktionen auch ohne das Keyword `global`), der variable ein neuer Wert zugewiesen überschreibt dieser den alten Wert, egal ob dieser mit einem Keyword zur globalen Variable gemacht worden ist oder nicht."
   ]
  },
  {
   "cell_type": "code",
   "execution_count": 86,
   "id": "7d443fa8-4748-47bc-b796-f8f194d54cc5",
   "metadata": {
    "scrolled": true
   },
   "outputs": [
    {
     "name": "stdout",
     "output_type": "stream",
     "text": [
      "a.\n",
      "1\n",
      "==========\n",
      "b.\n",
      "2\n",
      "==========\n",
      "c.\n",
      "2\n",
      "==========\n",
      "d.\n",
      "3\n",
      "==========\n",
      "e.\n",
      "4\n",
      "==========\n"
     ]
    },
    {
     "data": {
      "text/plain": [
       "(None, None)"
      ]
     },
     "execution_count": 86,
     "metadata": {},
     "output_type": "execute_result"
    }
   ],
   "source": [
    "print(\"a.\")\n",
    "\n",
    "var1 = 1 # var wird auf globaler Ebene der Wert 1 zugewiesen.\n",
    "print(var1), print(\"==========\", end = \"\\n\")\n",
    "# -------------------------------------------------\n",
    "print(\"b.\")\n",
    "\n",
    "var1 = 2 # var wird auf globaler Ebene der Wert 2 zugewiesen.\n",
    "print(var1), print(\"==========\", end = \"\\n\")\n",
    "# -------------------------------------------------\n",
    "print(\"c.\")\n",
    "\n",
    "def func_var1(): # In der Funktion wird festgelegt was passieren WÜRDE, wenn man die Funktion callen würde.\n",
    "    global var1  # Mit dem Keyword \"global\" wird die Variable \"var\" von der lokalen, auf die globale Ebene übertragen.\n",
    "    var1 = 3     # var wird innerhalb der Funktion der Wert 3 zugewiesen.\n",
    "                 # Die Funktion wurde noch nicht gecalled, weshalb sich der Wert auch noch nciht verändert. \n",
    "                 # Es ist noch nichts passiert.\n",
    "\n",
    "print(var1), print(\"==========\", end = \"\\n\")\n",
    "# -------------------------------------------------\n",
    "print(\"d.\")\n",
    "\n",
    "func_var1() # Die Funktion wird aufgerufen und jetzt verändert sich die Variable\n",
    "\n",
    "print(var1), print(\"==========\", end = \"\\n\")\n",
    "# -------------------------------------------------\n",
    "print(\"e.\")\n",
    "\n",
    "var1 = 4 # Die Variable wird auf der \"globen\" Ebene erneut überschrieben\n",
    "\n",
    "print(var1), print(\"==========\", end = \"\\n\")"
   ]
  },
  {
   "cell_type": "code",
   "execution_count": 2,
   "id": "491c0a60-b38e-43f0-8ef1-1ec9d5a6619f",
   "metadata": {},
   "outputs": [
    {
     "name": "stdout",
     "output_type": "stream",
     "text": [
      "['Bleiklumpen']\n",
      "['Bleiklumpen', 'Goldklumpen']\n"
     ]
    }
   ],
   "source": [
    "x = [\"Bleiklumpen\"]\n",
    "\n",
    "print(x)\n",
    "\n",
    "def f():\n",
    "\n",
    "    x.extend([\"Goldklumpen\"])\n",
    "\n",
    "f()\n",
    "\n",
    "print(x)"
   ]
  },
  {
   "cell_type": "markdown",
   "id": "45c037f4-258e-4a77-b4b8-1b06e7c5f1db",
   "metadata": {},
   "source": [
    "Hat sich x verändert? Nein. Das OBJEKT, hinter x wurde verändert. x ist nur die Schatzkarte. Die Schatzkarte führt immer noch zum Schatz. Nur der Schatz ist größer geworden!"
   ]
  },
  {
   "cell_type": "code",
   "execution_count": 53,
   "id": "43510f26-e32c-4cdf-9242-7ac695292f64",
   "metadata": {},
   "outputs": [
    {
     "name": "stdout",
     "output_type": "stream",
     "text": [
      "Vorher: ['Bleiklumpen']\n",
      "Nachher: ['Diamant', 'Goldklumpen']\n",
      "ID vorher:                                       1500883862336\n",
      "ID nachdem wir Blei durch Diamant ersetzt haben: 1500883202560\n",
      "ID nachdem wir Goldhinzugefügt haben:            1500883202560\n",
      "ID Nachher:                                      1500883202560\n"
     ]
    }
   ],
   "source": [
    "x = [\"Bleiklumpen\"]\n",
    "\n",
    "print(f\"Vorher: {x}\")\n",
    "id1 = id(x)\n",
    "\n",
    "def f():\n",
    "    \n",
    "    global x\n",
    "    global id2\n",
    "    global id3\n",
    "    x = [\"Diamant\"]\n",
    "    id2 = id(x)   \n",
    "    x.extend([\"Goldklumpen\"])\n",
    "    id3 = id(x)\n",
    "f()\n",
    "\n",
    "print(f\"Nachher: {x}\")\n",
    "id4 = (id(x))\n",
    "print(f\"ID vorher:                                       {id1}\\nID nachdem wir Blei durch Diamant ersetzt haben: {id2}\\nID nachdem wir Goldhinzugefügt haben:            {id3}\\nID Nachher:                                      {id4}\") "
   ]
  },
  {
   "cell_type": "markdown",
   "id": "5dd1b278-8ca6-4d44-ae59-9bb43784fc73",
   "metadata": {},
   "source": [
    "# non-local"
   ]
  },
  {
   "cell_type": "code",
   "execution_count": 7,
   "id": "4681d199-4f32-4b69-9498-92cab4b60e61",
   "metadata": {},
   "outputs": [
    {
     "name": "stdout",
     "output_type": "stream",
     "text": [
      "y - before inner - 200 140725464019608\n",
      "y - after inner - 200 140725464019608\n",
      "y - before inner - 200 140725464019608\n",
      "y - after inner - 200 140725464019608\n",
      "None\n"
     ]
    }
   ],
   "source": [
    "def f():\n",
    "    \n",
    "    x = 20\n",
    "    y = 200\n",
    "    \n",
    "    # Erwartet: y = 200\n",
    "    print(\"y - before inner -\", y, id(y))\n",
    "    \n",
    "    def f_inner():\n",
    "        \n",
    "        nonlocal y\n",
    "        y = 300\n",
    "        \n",
    "        print(\"y - inside inner -\", y, id(y))\n",
    "        return None\n",
    "        \n",
    "    f_inner\n",
    "    \n",
    "    # Erwartet: y = 300\n",
    "    print(\"y - after inner -\", y, id(y))\n",
    "        \n",
    "    \n",
    "    \n",
    "f()\n",
    "print(f())"
   ]
  },
  {
   "cell_type": "code",
   "execution_count": null,
   "id": "e428d558-bdd6-45c9-b384-9caf06825b71",
   "metadata": {},
   "outputs": [],
   "source": []
  },
  {
   "cell_type": "code",
   "execution_count": null,
   "id": "dd20048e-f27f-448a-923c-f025a62ce677",
   "metadata": {},
   "outputs": [],
   "source": [
    "\n"
   ]
  }
 ],
 "metadata": {
  "kernelspec": {
   "display_name": "Python 3 (ipykernel)",
   "language": "python",
   "name": "python3"
  },
  "language_info": {
   "codemirror_mode": {
    "name": "ipython",
    "version": 3
   },
   "file_extension": ".py",
   "mimetype": "text/x-python",
   "name": "python",
   "nbconvert_exporter": "python",
   "pygments_lexer": "ipython3",
   "version": "3.12.3"
  }
 },
 "nbformat": 4,
 "nbformat_minor": 5
}
