{
 "cells": [
  {
   "cell_type": "markdown",
   "id": "ec3341de-c549-4922-b0f6-c031e036c9d5",
   "metadata": {},
   "source": [
    "# Instanzmethoden"
   ]
  },
  {
   "cell_type": "code",
   "execution_count": null,
   "id": "e020f9f4-b852-4401-9481-478d2f990539",
   "metadata": {},
   "outputs": [],
   "source": []
  }
 ],
 "metadata": {
  "kernelspec": {
   "display_name": "Python 3 (ipykernel)",
   "language": "python",
   "name": "python3"
  },
  "language_info": {
   "codemirror_mode": {
    "name": "ipython",
    "version": 3
   },
   "file_extension": ".py",
   "mimetype": "text/x-python",
   "name": "python",
   "nbconvert_exporter": "python",
   "pygments_lexer": "ipython3",
   "version": "3.12.4"
  }
 },
 "nbformat": 4,
 "nbformat_minor": 5
}
