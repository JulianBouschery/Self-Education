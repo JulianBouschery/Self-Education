{
 "cells": [
  {
   "cell_type": "markdown",
   "id": "a1b39d45-19e9-464d-9812-a36e637ecd6b",
   "metadata": {},
   "source": [
    "[Zurück zum Inhaltsverzeichnis](_Inhaltsverzeichnis_.ipynb)"
   ]
  },
  {
   "cell_type": "markdown",
   "id": "ca69f1d3-0563-481e-a051-35485eb5e44e",
   "metadata": {},
   "source": [
    "# if-elif-else Funktion"
   ]
  },
  {
   "cell_type": "markdown",
   "id": "df10af7c-2cb7-4b73-a5c2-f780c2a4aab4",
   "metadata": {
    "jp-MarkdownHeadingCollapsed": true
   },
   "source": [
    "### if/else:"
   ]
  },
  {
   "cell_type": "code",
   "execution_count": 84,
   "id": "711da780-0414-407a-bb25-b3663c320f59",
   "metadata": {},
   "outputs": [
    {
     "name": "stdout",
     "output_type": "stream",
     "text": [
      "Die Zahl ist größer als 5.\n"
     ]
    }
   ],
   "source": [
    "zahl = 10\n",
    "\n",
    "if zahl > 5:\n",
    "    print(\"Die Zahl ist größer als 5.\")\n",
    "else:\n",
    "    print(\"Die Zahl ist nicht größer als 5.\")"
   ]
  },
  {
   "cell_type": "markdown",
   "id": "bad8aa47-aa2e-4e2e-9e03-33bb2ea6dc99",
   "metadata": {
    "jp-MarkdownHeadingCollapsed": true
   },
   "source": [
    "### if elif:"
   ]
  },
  {
   "cell_type": "markdown",
   "id": "c820ba82-d400-4c0e-92b1-2f74d5f56112",
   "metadata": {},
   "source": [
    "Man muss Code nicht zwingend mit else beenden."
   ]
  },
  {
   "cell_type": "code",
   "execution_count": 92,
   "id": "1c8a3409-cccb-431f-817a-31bd09637bed",
   "metadata": {},
   "outputs": [
    {
     "name": "stdout",
     "output_type": "stream",
     "text": [
      "Über 100%!!!\n"
     ]
    }
   ],
   "source": [
    "zahl = 125\n",
    "\n",
    "if zahl < 25:\n",
    "    print(\"Weniger als 25%.\")\n",
    "elif zahl < 50:\n",
    "    print(\"Weniger als 50%.\")\n",
    "elif zahl < 75:\n",
    "    print(\"Weniger als 75%.\")\n",
    "elif zahl < 100:\n",
    "    print(\"Noch keine 100%.\")\n",
    "elif zahl == 100:\n",
    "    print(\"100%!\")\n",
    "elif zahl > 100:\n",
    "    print(\"Über 100%!!!\")"
   ]
  },
  {
   "cell_type": "markdown",
   "id": "677bb2e6-8764-4850-b36b-e664c94ecc4e",
   "metadata": {
    "jp-MarkdownHeadingCollapsed": true
   },
   "source": [
    "### if/elif/else:"
   ]
  },
  {
   "cell_type": "code",
   "execution_count": 85,
   "id": "eefcbc14-90fe-41ee-94d4-303b4e5cb160",
   "metadata": {},
   "outputs": [
    {
     "name": "stdout",
     "output_type": "stream",
     "text": [
      "Note: B\n"
     ]
    }
   ],
   "source": [
    "note = 85\n",
    "\n",
    "if note >= 90:\n",
    "    print(\"Note: A\")\n",
    "elif note >= 80:\n",
    "    print(\"Note: B\")\n",
    "elif note >= 70:\n",
    "    print(\"Note: C\")\n",
    "elif note >= 60:\n",
    "    print(\"Note: D\")\n",
    "else:\n",
    "    print(\"Note: F\")"
   ]
  }
 ],
 "metadata": {
  "kernelspec": {
   "display_name": "Python 3 (ipykernel)",
   "language": "python",
   "name": "python3"
  },
  "language_info": {
   "codemirror_mode": {
    "name": "ipython",
    "version": 3
   },
   "file_extension": ".py",
   "mimetype": "text/x-python",
   "name": "python",
   "nbconvert_exporter": "python",
   "pygments_lexer": "ipython3",
   "version": "3.12.3"
  }
 },
 "nbformat": 4,
 "nbformat_minor": 5
}
