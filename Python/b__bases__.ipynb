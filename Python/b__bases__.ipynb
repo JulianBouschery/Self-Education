{
 "cells": [
  {
   "cell_type": "markdown",
   "id": "4eba044d-8ce5-4ba2-884f-371ba1cb28ac",
   "metadata": {},
   "source": [
    "# `__bases__`"
   ]
  },
  {
   "cell_type": "markdown",
   "id": "d0d1f977-609e-4a6d-9c3a-1b609512d920",
   "metadata": {},
   "source": [
    "`__bases__` eine **Variable**, ein Attribut von Klassenobjekten, das eine **Tuple** der DIREKTEN Basisklasse(n) einer Klasse enthält. Es zeigt die Klasse(n), von denen die aktuelle Klasse direkt erbt. (Das können auch mehrere sine) Dies ist besonders nützlich, um die Vererbungshierarchie zu verstehen und zu debuggen."
   ]
  },
  {
   "cell_type": "code",
   "execution_count": 2,
   "id": "604610b6-dbdc-4251-8579-6a1c1c2253a2",
   "metadata": {
    "tags": []
   },
   "outputs": [],
   "source": [
    "class MyFirstClass (object):\n",
    "    pass"
   ]
  },
  {
   "cell_type": "code",
   "execution_count": 3,
   "id": "9d318e09-76b2-4a8f-8784-c09cfbd2442a",
   "metadata": {
    "tags": []
   },
   "outputs": [],
   "source": [
    "class MySecondClass: # keine superklasse angeben => object ist Superklasse\n",
    "    pass\n"
   ]
  },
  {
   "cell_type": "code",
   "execution_count": 4,
   "id": "77399ddf-d444-4f90-bbce-49bbc32dd574",
   "metadata": {
    "tags": []
   },
   "outputs": [],
   "source": [
    "class MyThirdClass ():\n",
    "    pass\n"
   ]
  },
  {
   "cell_type": "markdown",
   "id": "1d704237-dbf4-4db3-a706-642ecd40857b",
   "metadata": {},
   "source": [
    "Ob man (object) hinter Klassennamen oder gar nichts oder leere () ist alles identisch. Es bedeutet die Klasse die wir gerade definieren erbt nur von `object`. Um zu prüfen, wer die direkten Superklassen sind kann man die Eigenschaft einer jeden Klasse `__bases__` nutzen. \n",
    "\n",
    "Zum **MERKEN**: `__bases__` gibt die DIREKTE Superklasse einer Klasse an.\n",
    "\n",
    "Um alle Superklassen anzuzeigen kann man die Methode `mro()` nutzen."
   ]
  },
  {
   "cell_type": "code",
   "execution_count": 13,
   "id": "14b39d8f-6055-4d24-90c4-fe9d04e1127e",
   "metadata": {
    "tags": []
   },
   "outputs": [
    {
     "name": "stdout",
     "output_type": "stream",
     "text": [
      "(<class 'object'>,)\n",
      "(<class 'object'>,)\n",
      "(<class 'object'>,)\n"
     ]
    }
   ],
   "source": [
    "print(MyFirstClass.__bases__) # Direkte Superklasse \n",
    "print(MySecondClass.__bases__)\n",
    "print(MyThirdClass.__bases__)"
   ]
  },
  {
   "cell_type": "code",
   "execution_count": 15,
   "id": "fab9e395-ba8f-43da-82a1-32f928addbef",
   "metadata": {
    "tags": []
   },
   "outputs": [
    {
     "name": "stdout",
     "output_type": "stream",
     "text": [
      "[<class '__main__.MyFirstClass'>, <class 'object'>]\n",
      "[<class '__main__.MySecondClass'>, <class 'object'>]\n",
      "[<class '__main__.MyThirdClass'>, <class 'object'>]\n"
     ]
    }
   ],
   "source": [
    "print(MyFirstClass.mro())\n",
    "print(MySecondClass.mro()) \n",
    "print(MyThirdClass.mro()) "
   ]
  },
  {
   "cell_type": "markdown",
   "id": "738b53e2-10d2-4ac0-800c-a0d3d878806b",
   "metadata": {},
   "source": [
    "mro() erzeugt eine Liste beginnend mit eigener Klasse gefolgt von allen Superklassen (Reihenfolge lernen wir später, hier gibt es 3 Regeln)"
   ]
  },
  {
   "cell_type": "code",
   "execution_count": 16,
   "id": "2d9f65bd-bdf8-4b8b-88ab-62c6d1d85213",
   "metadata": {
    "tags": []
   },
   "outputs": [
    {
     "name": "stdout",
     "output_type": "stream",
     "text": [
      "Variable        Type    Data/Info\n",
      "---------------------------------\n",
      "MyFirstClass    type    <class '__main__.MyFirstClass'>\n",
      "MySecondClass   type    <class '__main__.MySecondClass'>\n",
      "MyThirdClass    type    <class '__main__.MyThirdClass'>\n"
     ]
    }
   ],
   "source": [
    "%whos"
   ]
  },
  {
   "cell_type": "markdown",
   "id": "43ca40a6-234c-4798-8f0b-0b8cf634efac",
   "metadata": {},
   "source": [
    "Wie wir sehen sind (object), () und gar keine Angabe nach Klassenname identisch und bedeuten, dass die Klasse von object erbt."
   ]
  },
  {
   "cell_type": "markdown",
   "id": "6897bd0d-f40a-4b8b-b6c7-bb31072b49ae",
   "metadata": {},
   "source": [
    "Im Klassenkörper kann man verschiedene Konstrukte unterscheiden:\n",
    "\n",
    "Diese Konstrukte nennen wir `Attribute`(Methoden und Variablen), ihr kennt das schon durch den `AttributeError`\n",
    "    \n",
    "- `Methoden` => Was kann ein Objekt / Verhalten /Fähigkeiten\n",
    "    - Eine Person kann fahren, reden, laufen\n",
    "- `Klassenvariablen` => Eigenschaften die für alle Instanzen gleich sind WERDEN in der Klasse ausserhalb einer Methode definiert\n",
    "    - ALLE Personen haben ein legal drinking age von 16 \n",
    "    - Diese Info ist für alle Personen die wir erstellen gleich. Daher speichern wir sie einmal in der Klasse\n",
    "\n",
    "- `Instanzvariablen` => Eigenschaften der Instanz, die zwischen Instanzen unterschiedlich sein können / Eigenschaften\n",
    "    - werden in einer Methode mit self.varname erstellt\n",
    "    - JEDE Instanz hat ihre eigenen Variablen, im Gegensatz zum drinking age, haben nicht alle Instanzen den gleichen namen, alter, wohnort"
   ]
  },
  {
   "cell_type": "markdown",
   "id": "43f3c6ce-de2e-4cb4-b385-fc9559f738bc",
   "metadata": {},
   "source": [
    "Weiteres Beispiel:"
   ]
  },
  {
   "cell_type": "code",
   "execution_count": 1,
   "id": "5ea4ebbc-d5e4-433e-a3ee-ea305cd942f7",
   "metadata": {},
   "outputs": [
    {
     "name": "stdout",
     "output_type": "stream",
     "text": [
      "( object )\n",
      "( object )\n",
      "( SuperOne SuperTwo )\n"
     ]
    }
   ],
   "source": [
    "class SuperOne:\n",
    "    pass\n",
    " \n",
    " \n",
    "class SuperTwo:\n",
    "    pass\n",
    " \n",
    " \n",
    "class Sub(SuperOne, SuperTwo):\n",
    "    pass\n",
    " \n",
    " \n",
    "def printBases(cls):\n",
    "    print('( ', end='')\n",
    " \n",
    "    for x in cls.__bases__:\n",
    "        print(x.__name__, end=' ')\n",
    "    print(')')\n",
    " \n",
    " \n",
    "printBases(SuperOne)\n",
    "printBases(SuperTwo)\n",
    "printBases(Sub)"
   ]
  },
  {
   "cell_type": "code",
   "execution_count": null,
   "id": "72029d50-90a0-4d59-a8ce-63c0128a1053",
   "metadata": {},
   "outputs": [],
   "source": []
  },
  {
   "cell_type": "code",
   "execution_count": 1,
   "id": "f4b8328a-f150-41b8-87ff-7145f89e4614",
   "metadata": {},
   "outputs": [
    {
     "name": "stdout",
     "output_type": "stream",
     "text": [
      "( object )\n",
      "( object )\n",
      "( SuperOne SuperTwo )\n"
     ]
    }
   ],
   "source": [
    "class SuperOne: # __bases__ => (object,)\n",
    "    pass\n",
    " \n",
    " \n",
    "class SuperTwo:# __bases__ => (object,)\n",
    "    pass\n",
    " \n",
    " \n",
    "class Sub(SuperOne, SuperTwo):# __bases__ => (SuperOne, SuperTwo)\n",
    "    pass\n",
    " \n",
    "\n",
    "# AChtung hier nur eine Funktion die nichts mit den Klassen zu tun hat \n",
    "def printBases(cls):\n",
    "    print('( ', end='')  # Druck einmal (\n",
    "\n",
    "    # Laufe über all deine direkten Super/Elternklassen und gib deren Namen aus\n",
    "    for x in cls.__bases__: # Jede Klasse hat __bases__ Eigenschaft in sich gespeichert\n",
    "        # die INfo in __bases__ sind alle direkten Superklassen , der Datentyp von __bases__ ist tuple\n",
    "        print(x.__name__, end=' ')\n",
    "    print(')') # nach dem alle Namen gedruckt, drucke einmal ) \n",
    " \n",
    " \n",
    "printBases(SuperOne)\n",
    "printBases(SuperTwo)\n",
    "printBases(Sub)"
   ]
  },
  {
   "cell_type": "markdown",
   "id": "77f0abd5-d5a4-43fa-b625-c881dcdc4968",
   "metadata": {},
   "source": [
    "[Ausführliche Erklärung](https://pythontutor.com/visualize.html#code=class%20SuperOne%3A%20%23%20__bases__%20%3D%3E%20%28object,%29%0A%20%20%20%20pass%0A%20%0A%20%0Aclass%20SuperTwo%3A%23%20__bases__%20%3D%3E%20%28object,%29%0A%20%20%20%20pass%0A%20%0A%20%0Aclass%20Sub%28SuperOne,%20SuperTwo%29%3A%23%20__bases__%20%3D%3E%20%28SuperOne,%20SuperTwo%29%0A%20%20%20%20pass%0A%20%0A%0Adef%20printBases%28cls%29%3A%0A%20%20%20%20%23Die%20Funktion%20printBases%20ben%C3%B6tigt%20ein%20Argument%20um%20zu%20funktionieren%0A%20%20%20%20%23%20Diese%20wird%20beim%20Aufruf%20in%20der%20Parametervariablen%20cls%20gespeichert%0A%20%20%20%20%23%20Im%20Aufruf%20unten%20printBases%28Sub%29%20sagen%20wir%20Python,%20nutze%20die%20Funktion%0A%20%20%20%20%23%20und%20%C3%BCbergebe%20ihr%20als%20Argument%20die%20Klasse%20Sub%20%28korrekt%20den%20Verweis%20auf%20die%20%0A%20%20%20%20%23%20Klasse%20Sub%0A%20%20%20%20%23%20Innerhalb%20dieses%20Funktionsaufrufs%20pointet%20die%20var%20cls%20auf%20die%20Klasse%20Sub.%0A%20%20%20%20%23%20Jede%20Klasse%20kann%20ihre%20direkten%20Superklassen%20abfragen,%0A%20%20%20%20%23%20Die%20info%20ist%20in%20dem%20Tuple%20mit%20var%20name%20__bases__%20gespeichert.%20%0A%20%20%20%20%23%20%C3%9Cber%20tuple%20k%C3%B6nnen%20wir%20iterieren%20und%20erhalten%20hier%20nacheindander%0A%20%20%20%20%23%20alle%20direkte%20Superklassen%20von%20hier%20Sub%20%0A%20%20%20%20%23%20Sub.__bases__%20%3D%3E%20%28SuperOne,%20SuperTwo%29%20%0A%20%20%20%20%23%20Klassen%20haben%20auch%20eine%20str%20Variable%20__name__,%20darin%20ist%20nicht%20die%0A%20%20%20%20%23%20Klasse%20%28Datentyp%20type%29%20sondern%20ein%20str%20mit%20dem%20Klassennamen%20gespeichert%0A%20%20%20%20%23Unser%20nimmt%20als%20Sub,%20ermittelt%20die%20direkten%20Elternklassen%0A%20%20%20%20%23%20Nimmt%20sich%20eine%20Elternklasse%20nach%20der%20n%C3%A4chsten%20vor%20%28loop%20%C3%BCber%20Sub.__bases__%29%0A%20%20%20%20%23%20F%C3%BCr%20jede%20Elternklasse%20drucke%20den%20Namen%20als%20str.%0A%20%20%20%20print%28%27%28%20%27,%20end%3D%27%27%29%20%20%23%20Druck%20einmal%20%28%0A%0A%20%20%20%20for%20x%20in%20cls.__bases__%3A%20%0A%20%20%20%20%20%20%20%20print%28x.__name__,%20end%3D%27%20%27%29%0A%20%20%20%20print%28%27%29%27%29%20%23%20nach%20dem%20alle%20Namen%20gedruckt,%20drucke%20einmal%20%29%20%0A%20%0AprintBases%28Sub%29%0A%22%22%22%0Ac1%20%20%3D%20Sub.mro%28%29%0Ac2%20%3D%20Sub.__bases__%0Ac3%20%3D%20Sub.__subclasses__%28%29%0A%22%22%22%0A%22%22%22%0AprintBases%28SuperOne%29%0A%0AprintBases%28SuperTwo%29%22%22%22&cumulative=false&heapPrimitives=nevernest&mode=edit&origin=opt-frontend.js&py=311&rawInputLstJSON=%5B%5D&textReferences=false)"
   ]
  },
  {
   "cell_type": "markdown",
   "id": "afb89bcb-9c45-4e02-b851-e9f1c7a05483",
   "metadata": {},
   "source": [
    "[Erklärung](https://pythontutor.com/render.html#code=class%20SuperOne%3A%20%23%20__bases__%20%3D%3E%20%28object,%29%0A%20%20%20%20pass%0A%20%0A%20%0Aclass%20SuperTwo%3A%23%20__bases__%20%3D%3E%20%28object,%29%0A%20%20%20%20pass%0A%20%0A%20%0Aclass%20Sub%28SuperOne,%20SuperTwo%29%3A%23%20__bases__%20%3D%3E%20%28SuperOne,%20SuperTwo%29%0A%20%20%20%20pass%0A%20%0A%0Adef%20printBases%28cls%29%3A%0A%20%20%20%20%23%20Aus%20didaktischen%20Gr%C3%BCnden%0A%20%20%20%20print%28f%22%7Bcls.__bases__%3D%7D%22%29%0A%20%20%20%20print%28%27%28%20%27,%20end%3D%27%27%29%20%20%23%20Druck%20einmal%20%28%0A%0A%20%20%20%20for%20x%20in%20cls.__bases__%3A%20%0A%20%20%20%20%20%20%20%20%23print%28f%22%7Bx%3D%7D%22%29%0A%20%20%20%20%20%20%20%20print%28x.__name__,%20end%3D%27%20%27%29%0A%20%20%20%20print%28%27%29%27%29%20%23%20nach%20dem%20alle%20Namen%20gedruckt,%20drucke%20einmal%20%29%20%0A%20%0AprintBases%28Sub%29%0A%22%22%22%0Ac1%20%20%3D%20Sub.mro%28%29%0Ac2%20%3D%20Sub.__bases__%0Ac3%20%3D%20Sub.__subclasses__%28%29%0A%22%22%22%0A%22%22%22%0AprintBases%28SuperOne%29%0A%0AprintBases%28SuperTwo%29%22%22%22&cumulative=false&curInstr=14&heapPrimitives=nevernest&mode=display&origin=opt-frontend.js&py=311&rawInputLstJSON=%5B%5D&textReferences=false)"
   ]
  },
  {
   "cell_type": "code",
   "execution_count": 2,
   "id": "ec5a70fd-8fa5-42b3-80dd-c47bf4aa4ace",
   "metadata": {},
   "outputs": [
    {
     "name": "stdout",
     "output_type": "stream",
     "text": [
      "Toyota Corolla, Baujahr 1998\n",
      "Honda Civic, Baujahr 2005 mit 4 Türen\n",
      "Tesla Model 3, Baujahr 2020 mit 4 Türen und einer Batteriekapazität von 75 kWh\n",
      "Anzahl der Fahrzeuge: 3\n",
      "Anzahl der Fahrzeuge: 3\n",
      "Anzahl der Fahrzeuge: 3\n",
      "True\n",
      "False\n"
     ]
    }
   ],
   "source": [
    "class Fahrzeug:\n",
    "    # Klassenvariable\n",
    "    fahrzeug_anzahl = 0\n",
    "\n",
    "    def __init__(self, hersteller, modell, baujahr):\n",
    "        # Instanzvariablen\n",
    "        self.hersteller = hersteller\n",
    "        self.modell = modell\n",
    "        self.baujahr = baujahr\n",
    "        Fahrzeug.fahrzeug_anzahl += 1\n",
    "\n",
    "    def fahrzeug_info(self):\n",
    "        return f\"{self.hersteller} {self.modell}, Baujahr {self.baujahr}\"\n",
    "\n",
    "    @classmethod\n",
    "    def anzahl_fahrzeuge(cls):\n",
    "        return f\"Anzahl der Fahrzeuge: {cls.fahrzeug_anzahl}\"\n",
    "\n",
    "    @staticmethod\n",
    "    def ist_fahrzeug_alt(baujahr):\n",
    "        return baujahr < 2000\n",
    "\n",
    "\n",
    "class Auto(Fahrzeug):\n",
    "    def __init__(self, hersteller, modell, baujahr, anzahl_tueren):\n",
    "        super().__init__(hersteller, modell, baujahr)\n",
    "        self.anzahl_tueren = anzahl_tueren\n",
    "\n",
    "    def auto_info(self):\n",
    "        return f\"{self.fahrzeug_info()} mit {self.anzahl_tueren} Türen\"\n",
    "\n",
    "\n",
    "class ElektroAuto(Auto):\n",
    "    def __init__(self, hersteller, modell, baujahr, anzahl_tueren, batteriekapazitaet):\n",
    "        super().__init__(hersteller, modell, baujahr, anzahl_tueren)\n",
    "        self.batteriekapazitaet = batteriekapazitaet\n",
    "\n",
    "    def elektroauto_info(self):\n",
    "        return f\"{self.auto_info()} und einer Batteriekapazität von {self.batteriekapazitaet} kWh\"\n",
    "\n",
    "\n",
    "# Instanziieren von Objekten\n",
    "fahrzeug1 = Fahrzeug(\"Toyota\", \"Corolla\", 1998)\n",
    "auto1 = Auto(\"Honda\", \"Civic\", 2005, 4)\n",
    "elektroauto1 = ElektroAuto(\"Tesla\", \"Model 3\", 2020, 4, 75)\n",
    "\n",
    "# Ausgeben von Informationen\n",
    "print(fahrzeug1.fahrzeug_info())\n",
    "print(auto1.auto_info())\n",
    "print(elektroauto1.elektroauto_info())\n",
    "\n",
    "# Klassenmethoden und -variablen verwenden\n",
    "print(Fahrzeug.anzahl_fahrzeuge())\n",
    "print(Auto.anzahl_fahrzeuge())\n",
    "print(ElektroAuto.anzahl_fahrzeuge())\n",
    "\n",
    "# Statische Methode verwenden\n",
    "print(Fahrzeug.ist_fahrzeug_alt(1998))\n",
    "print(Fahrzeug.ist_fahrzeug_alt(2015))\n"
   ]
  },
  {
   "cell_type": "code",
   "execution_count": 3,
   "id": "bc7e2b87-fc65-495d-a924-b1382c6cd0af",
   "metadata": {},
   "outputs": [
    {
     "data": {
      "text/plain": [
       "(__main__.Auto,)"
      ]
     },
     "execution_count": 3,
     "metadata": {},
     "output_type": "execute_result"
    }
   ],
   "source": [
    "ElektroAuto.__bases__"
   ]
  },
  {
   "cell_type": "code",
   "execution_count": null,
   "id": "9935cc27-59f5-41c4-ba7c-79033a8dffee",
   "metadata": {},
   "outputs": [],
   "source": []
  }
 ],
 "metadata": {
  "kernelspec": {
   "display_name": "Python 3 (ipykernel)",
   "language": "python",
   "name": "python3"
  },
  "language_info": {
   "codemirror_mode": {
    "name": "ipython",
    "version": 3
   },
   "file_extension": ".py",
   "mimetype": "text/x-python",
   "name": "python",
   "nbconvert_exporter": "python",
   "pygments_lexer": "ipython3",
   "version": "3.12.4"
  }
 },
 "nbformat": 4,
 "nbformat_minor": 5
}
