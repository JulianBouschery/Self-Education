{
 "cells": [
  {
   "cell_type": "markdown",
   "id": "12647491-28b5-4952-ad57-8031150a7684",
   "metadata": {},
   "source": [
    "[Zurück zum Inhaltsverzeichnis](_Inhaltsverzeichnis_.ipynb)"
   ]
  },
  {
   "cell_type": "markdown",
   "id": "63035534-d16f-4a66-8358-dd92f609dec6",
   "metadata": {},
   "source": [
    "# Shallow Copy"
   ]
  },
  {
   "cell_type": "code",
   "execution_count": null,
   "id": "f994be87-1560-4f3f-a2b3-e9b04158a04b",
   "metadata": {},
   "outputs": [],
   "source": []
  }
 ],
 "metadata": {
  "kernelspec": {
   "display_name": "Python 3 (ipykernel)",
   "language": "python",
   "name": "python3"
  },
  "language_info": {
   "codemirror_mode": {
    "name": "ipython",
    "version": 3
   },
   "file_extension": ".py",
   "mimetype": "text/x-python",
   "name": "python",
   "nbconvert_exporter": "python",
   "pygments_lexer": "ipython3",
   "version": "3.12.3"
  }
 },
 "nbformat": 4,
 "nbformat_minor": 5
}
