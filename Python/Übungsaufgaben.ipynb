{
 "cells": [
  {
   "cell_type": "markdown",
   "id": "a0f9b895-279e-439a-b4e5-ecd0197dd761",
   "metadata": {},
   "source": [
    "# Übungsaufgaben"
   ]
  },
  {
   "cell_type": "markdown",
   "id": "dfe76bfd-1b3b-4358-a7c6-f972dc1038a7",
   "metadata": {},
   "source": [
    "Promt für ChatGPT"
   ]
  },
  {
   "cell_type": "markdown",
   "id": "c588a1de-b48e-4ca2-a8ae-bbcda0c715ae",
   "metadata": {},
   "source": [
    "Erstelle 50 Übungsaufgaben in denen du die folgenden Funktionen und Methoden abfragst bzw. ich zum lösen anwenden muss. Schreibe die Aufgaben so auf das erst alle 50 Aufgabenstellungen untereinander kommen: Aufgabe 1. , Aufgabe 2. , ...  und dann alle Lösungen Lösung 1. , Lösung 2 etc."
   ]
  },
  {
   "cell_type": "code",
   "execution_count": null,
   "id": "f4c9886b-5d98-420d-bf54-1801583efa56",
   "metadata": {},
   "outputs": [],
   "source": []
  }
 ],
 "metadata": {
  "kernelspec": {
   "display_name": "Python 3 (ipykernel)",
   "language": "python",
   "name": "python3"
  },
  "language_info": {
   "codemirror_mode": {
    "name": "ipython",
    "version": 3
   },
   "file_extension": ".py",
   "mimetype": "text/x-python",
   "name": "python",
   "nbconvert_exporter": "python",
   "pygments_lexer": "ipython3",
   "version": "3.12.3"
  }
 },
 "nbformat": 4,
 "nbformat_minor": 5
}
