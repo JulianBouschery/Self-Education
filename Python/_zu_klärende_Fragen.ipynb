{
 "cells": [
  {
   "cell_type": "markdown",
   "id": "4ac581d3-30b4-4683-ad07-2f4a45f91179",
   "metadata": {},
   "source": [
    "# Zu klärende Fragen:"
   ]
  },
  {
   "cell_type": "code",
   "execution_count": null,
   "id": "7e9b0b0c-1199-4feb-a45b-28d779a0141c",
   "metadata": {},
   "outputs": [],
   "source": []
  }
 ],
 "metadata": {
  "kernelspec": {
   "display_name": "Python 3 (ipykernel)",
   "language": "python",
   "name": "python3"
  },
  "language_info": {
   "codemirror_mode": {
    "name": "ipython",
    "version": 3
   },
   "file_extension": ".py",
   "mimetype": "text/x-python",
   "name": "python",
   "nbconvert_exporter": "python",
   "pygments_lexer": "ipython3",
   "version": "3.12.4"
  }
 },
 "nbformat": 4,
 "nbformat_minor": 5
}
