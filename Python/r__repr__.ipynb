{
 "cells": [
  {
   "cell_type": "markdown",
   "id": "57053983-c912-457c-8162-e3f73056117a",
   "metadata": {},
   "source": [
    "[Zurück zum Inhaltsverzeichnis](_Inhaltsverzeichnis_.ipynb)"
   ]
  },
  {
   "cell_type": "markdown",
   "id": "6062087f-3cd6-4c64-90ec-93d64ab296b2",
   "metadata": {},
   "source": [
    "[Zurück zu Klassen](class.ipynb)"
   ]
  },
  {
   "cell_type": "markdown",
   "id": "905b83d1-516a-41f2-85e4-a25d4541dd80",
   "metadata": {},
   "source": [
    "# `__repr__` Die Methode, die Objekte als lesbare Wörter **repräsentiert**"
   ]
  },
  {
   "cell_type": "markdown",
   "id": "74050d33-4931-4563-be8e-3d3a3cd0dba7",
   "metadata": {},
   "source": [
    "Manchmal steht man in Python vor folgendem Problem:\n",
    "\n",
    "Man hat eine Klasse gebaut, Instanzen erstellt und befüllt..."
   ]
  },
  {
   "cell_type": "code",
   "execution_count": 31,
   "id": "7355d7e7-8d7a-4df4-86e4-150ee2a7eea7",
   "metadata": {},
   "outputs": [],
   "source": [
    "import random\n",
    "\n",
    "class Person: \n",
    "    \n",
    "    all_persons = []\n",
    "        \n",
    "    def __init__(self, name, age, city):\n",
    "        self.name = name\n",
    "        self.age = age\n",
    "        self.city = city\n",
    "        Person.all_persons.append(self)"
   ]
  },
  {
   "cell_type": "markdown",
   "id": "05363419-bc4d-4be3-a3f9-ba012f342aee",
   "metadata": {},
   "source": [
    "Doch wenn man sich das Ergebnis anschauen möchte kommt folgendes dabei heraus:"
   ]
  },
  {
   "cell_type": "code",
   "execution_count": 30,
   "id": "f300df6e-60b1-44ab-b82c-61b6941456dc",
   "metadata": {},
   "outputs": [
    {
     "name": "stdout",
     "output_type": "stream",
     "text": [
      "[<__main__.Person object at 0x0000023CCA9C8080>, <__main__.Person object at 0x0000023CCAEF6780>]\n"
     ]
    }
   ],
   "source": [
    "Person(\"Anna Müller\", 42, \"Berlin\")\n",
    "Person(\"Olaf Schmidt\", 56, \"Hamburg\")\n",
    "print(Person.all_persons)"
   ]
  },
  {
   "cell_type": "markdown",
   "id": "b7939ffc-0b29-4180-8cd5-f269bf6a223a",
   "metadata": {},
   "source": [
    "Was ist das? `__main__.Person object at 0x0000023CCA9C8080` Ist das ein Fehler?"
   ]
  },
  {
   "cell_type": "markdown",
   "id": "c64f5d42-fd54-4213-8040-7fc9d7f920cd",
   "metadata": {},
   "source": [
    "Nein nicht ganz. Der Code funktioniert wie er soll, aber wir sind noch nicht fertig..."
   ]
  },
  {
   "cell_type": "markdown",
   "id": "5e1c3757-8cc8-4a12-a842-cc62cfc9ec3e",
   "metadata": {},
   "source": [
    "In Python gibt es zwei Wege etwas auszugeben, bzw. zu drucken.\n",
    "1. Die str()-Methode (`__str__()`)\n",
    "2. Die repr()-Methode (`__repr__()`)"
   ]
  },
  {
   "cell_type": "markdown",
   "id": "6144877f-9887-480e-ae4b-2356880df0c9",
   "metadata": {},
   "source": [
    "Wenn man den Code `print(\"Hallo\")` schreibt ruft die print()-Funktion unter der Haube die `__str__()`-Methode von `object` auf."
   ]
  },
  {
   "cell_type": "code",
   "execution_count": 13,
   "id": "3b4be435-e9cd-4640-a2e6-3f00d1ea006e",
   "metadata": {},
   "outputs": [
    {
     "name": "stdout",
     "output_type": "stream",
     "text": [
      "Hallo\n"
     ]
    }
   ],
   "source": [
    "print(\"Hallo\")"
   ]
  },
  {
   "cell_type": "markdown",
   "id": "5b803c7f-a503-47c1-99b8-02e7da067415",
   "metadata": {},
   "source": [
    "Wenn man den Code `[1,2,3]` schreibt, wird unter der Haube die `__repr__()`-Methode aufgerufen."
   ]
  },
  {
   "cell_type": "code",
   "execution_count": 16,
   "id": "6612ab2a-28c9-4828-b125-c71bdc89dbb5",
   "metadata": {},
   "outputs": [
    {
     "data": {
      "text/plain": [
       "[1, 2, 3]"
      ]
     },
     "execution_count": 16,
     "metadata": {},
     "output_type": "execute_result"
    }
   ],
   "source": [
    "[1,2,3]"
   ]
  },
  {
   "cell_type": "markdown",
   "id": "e03eabf6-2bb7-42fa-adef-c2f1586d677d",
   "metadata": {},
   "source": [
    "Worauf ich hinaus möchte ist, dass unterschiedliche Datentypen, unterschiedliche Methoden nutzen um Code zu drucken / ihn damit lesbar zu machen. Ohne eine dieser Methoden haben wir nur die Angabe des Speicherorts, an dem sich die Informationen die wir haben wollen befinden. Das sieht dann etwa so aus: \n",
    "\n",
    "<__main__.Person object at 0x0000023CCA9AB350>\n",
    "\n",
    "```python\n",
    "<\n",
    "__main__. --> Code wird im aktuellen File ausgeführt\n",
    "Person object --> Das Objekt das ist eine Instanz der Klasse `Person`\n",
    "at 0x0000023CCA9AB350 --> Speicheradresse als Hexadezimalzahl\n",
    ">"
   ]
  },
  {
   "cell_type": "markdown",
   "id": "bf7ba2de-cd91-42d5-bb30-f7505bacdae8",
   "metadata": {},
   "source": [
    "Also wie funktioniert die Umwandlung von dieser Unlesbaren Speicheradresse in Sinnvollen Text?"
   ]
  },
  {
   "cell_type": "markdown",
   "id": "3fa55533-0a86-44b0-aa45-a1749765693b",
   "metadata": {},
   "source": [
    "Ein Objekt zu printen ist kein Problem, da die `__str__()`-Methode von der Klasse `Object` an JEDE andere Klasse weiter vererbt wird. Aber wenn man seine eigene Klasse schreibt, ist das ein völlig neuer Datentyp und Python weiß nicht, wie man diesen speziellen Datentyp präsentiert haben möchte. Deshalb gibt es die `__repr__()`-Methode nicht in `Object` und man muss sie der Klasse explizit hinzugefügen. "
   ]
  },
  {
   "cell_type": "code",
   "execution_count": 70,
   "id": "933bad7c-df69-476f-a0be-2e4ba529131c",
   "metadata": {},
   "outputs": [],
   "source": [
    "import random\n",
    "\n",
    "class Person: \n",
    "    \n",
    "    all_persons = []\n",
    "        \n",
    "    def __init__(self, name, age, city):\n",
    "        self.name = name\n",
    "        self.age = age\n",
    "        self.city = city\n",
    "        Person.all_persons.append(self)\n",
    "        \n",
    "    # Hinzugefügte __repr__()-Methode\n",
    "    def __repr__(self):\n",
    "        return f\"Name: {self.name}, Alter: {self.age}, Stadt: {self.city}\""
   ]
  },
  {
   "cell_type": "code",
   "execution_count": 71,
   "id": "0fed6b24-6072-41e0-80e6-2759d861ea05",
   "metadata": {},
   "outputs": [
    {
     "name": "stdout",
     "output_type": "stream",
     "text": [
      "[Name: Anna Müller, Alter: 42, Stadt: Berlin, Name: Olaf Schmidt, Alter: 56, Stadt: Hamburg]\n"
     ]
    }
   ],
   "source": [
    "Person(\"Anna Müller\", 42, \"Berlin\")\n",
    "Person(\"Olaf Schmidt\", 56, \"Hamburg\")\n",
    "print(Person.all_persons)"
   ]
  },
  {
   "cell_type": "markdown",
   "id": "d8245751-2da5-4727-b0f1-6b6976bccff8",
   "metadata": {},
   "source": [
    "# Aber wie sieht `__repr__` genau aus?"
   ]
  },
  {
   "cell_type": "code",
   "execution_count": 72,
   "id": "b0ae4948-a05a-4958-a5fb-acf9d907b8eb",
   "metadata": {},
   "outputs": [
    {
     "name": "stdout",
     "output_type": "stream",
     "text": [
      "Help on method-wrapper:\n",
      "\n",
      "__repr__() unbound builtins.module method\n",
      "    Return repr(self).\n",
      "\n"
     ]
    }
   ],
   "source": [
    "help(\"__repr__\")"
   ]
  },
  {
   "cell_type": "code",
   "execution_count": 69,
   "id": "6aab429f-5001-443d-8304-918648ee89a3",
   "metadata": {},
   "outputs": [
    {
     "ename": "SyntaxError",
     "evalue": "invalid syntax (969286335.py, line 1)",
     "output_type": "error",
     "traceback": [
      "\u001b[1;36m  Cell \u001b[1;32mIn[69], line 1\u001b[1;36m\u001b[0m\n\u001b[1;33m    __repr__(self)?\u001b[0m\n\u001b[1;37m                  ^\u001b[0m\n\u001b[1;31mSyntaxError\u001b[0m\u001b[1;31m:\u001b[0m invalid syntax\n"
     ]
    }
   ],
   "source": [
    "__repr__(self)?"
   ]
  },
  {
   "cell_type": "code",
   "execution_count": 74,
   "id": "7f9633ca-d769-4e67-b66a-498f2b7fda73",
   "metadata": {},
   "outputs": [
    {
     "name": "stdout",
     "output_type": "stream",
     "text": [
      "Help on built-in function repr in module builtins:\n",
      "\n",
      "repr(obj, /)\n",
      "    Return the canonical string representation of the object.\n",
      "\n",
      "    For many object types, including most builtins, eval(repr(obj)) == obj.\n",
      "\n"
     ]
    }
   ],
   "source": [
    "help(\"repr\")"
   ]
  },
  {
   "cell_type": "markdown",
   "id": "a7a42c57-66c4-4503-b90f-15967f4d677e",
   "metadata": {},
   "source": [
    "# Weiteres Beispiel"
   ]
  },
  {
   "cell_type": "markdown",
   "id": "226a12aa-e318-40b1-9b84-2543690b542e",
   "metadata": {},
   "source": [
    "[Lösung im Pythontutor](https://pythontutor.com/render.html#code=%0A%0Aclass%20Person%3A%20%0A%20%20%20%20%0A%20%20%20%20all_persons%20%3D%20%5B%5D%0A%20%20%20%20%0A%20%20%20%20def%20__init__%28self,%20name1,%20age2,%20city3%29%3A%0A%20%20%20%20%20%20%20%20self.name%20%3D%20name1%0A%20%20%20%20%20%20%20%20self.city%20%3D%20city3%0A%20%20%20%20%20%20%20%20self.age%20%3D%20age2%0A%20%20%20%20%20%20%20%20Person.all_persons.append%28self%29%20%20%20%20%20%20%20%20%0A%20%20%20%20def%20__str__%28self%29%3A%0A%20%20%20%20%20%20%20%20return%20%22%20%22.join%28map%28str,self.__dict__.values%28%29%29%29%0A%0Ap1%20%3D%20Person%28%22Anna%22,%2042,%20%22Berlin%22%29%0Ap2%20%3D%20Person%28%22Berta%22,%2032,%20%22Berlin%22%29%0A%0Aelement1%20%3D%20Person.all_persons%5B0%5D%0Aelement2%20%3D%20Person.all_persons%5B1%5D%0A%0Afor%20elem%20in%20Person.all_persons%3A%20%0A%20%20%20%20print%28elem%29%0A%22%22%22%0Adict_elem%20%3D%20element1.__dict__%0Aa%20%3D%20list%28map%28str,element1.__dict__.values%28%29%29%29%0Ainhalte_von_element1%20%3D%20%22%20%22.join%28map%28str,element1.__dict__.values%28%29%29%29%0A%22%22%22&cumulative=false&curInstr=28&heapPrimitives=nevernest&mode=display&origin=opt-frontend.js&py=311&rawInputLstJSON=%5B%5D&textReferences=false)"
   ]
  }
 ],
 "metadata": {
  "kernelspec": {
   "display_name": "Python 3 (ipykernel)",
   "language": "python",
   "name": "python3"
  },
  "language_info": {
   "codemirror_mode": {
    "name": "ipython",
    "version": 3
   },
   "file_extension": ".py",
   "mimetype": "text/x-python",
   "name": "python",
   "nbconvert_exporter": "python",
   "pygments_lexer": "ipython3",
   "version": "3.12.4"
  }
 },
 "nbformat": 4,
 "nbformat_minor": 5
}
