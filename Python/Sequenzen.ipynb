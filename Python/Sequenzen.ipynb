{
 "cells": [
  {
   "cell_type": "markdown",
   "id": "c1fb6319-4e53-4430-8dfe-524595a2615e",
   "metadata": {},
   "source": [
    "[Zurück zum Inhaltsverzeichnis](_Inhaltsverzeichnis_.ipynb)"
   ]
  },
  {
   "cell_type": "markdown",
   "id": "48de2417-b446-4f09-a484-36689d3776ae",
   "metadata": {},
   "source": [
    "## Sequenzen Einschub (Iterable???)"
   ]
  },
  {
   "cell_type": "markdown",
   "id": "8f389876-5eb4-4671-8dfc-e9e0ba3e8bb3",
   "metadata": {},
   "source": [
    "Sequenzen Bsp.: `list`, `str`, `tuple`\n",
    "\n",
    "Was macht eine Sequenz so besonders. Sie ist:\n",
    "\n",
    "1. geordnet\n",
    "2. Indiziert beginnend mit 0\n",
    "\n",
    "[Sequenzen in Python docs](https://docs.python.org/3/library/stdtypes.html#)"
   ]
  },
  {
   "cell_type": "code",
   "execution_count": 10,
   "id": "095706b9-7416-4efb-8230-5f9244684810",
   "metadata": {
    "tags": []
   },
   "outputs": [],
   "source": [
    "tuple1 = (\"Hallo\", 11,12,13)\n",
    "liste1 = [1,2,1,1,2,1]\n",
    "str1 = \"Hallo\""
   ]
  },
  {
   "cell_type": "code",
   "execution_count": 11,
   "id": "8197a9bb-517e-4883-a808-f7a836219216",
   "metadata": {
    "tags": []
   },
   "outputs": [
    {
     "data": {
      "text/plain": [
       "(tuple, str, list)"
      ]
     },
     "execution_count": 11,
     "metadata": {},
     "output_type": "execute_result"
    }
   ],
   "source": [
    "type(tuple1), type(str1),type(liste1) "
   ]
  },
  {
   "cell_type": "code",
   "execution_count": 12,
   "id": "0a346e72-3fda-477e-b081-0963904109d6",
   "metadata": {
    "tags": []
   },
   "outputs": [
    {
     "data": {
      "text/plain": [
       "11"
      ]
     },
     "execution_count": 12,
     "metadata": {},
     "output_type": "execute_result"
    }
   ],
   "source": [
    "tuple1[0] # Lies das Element des Tuples an Index-Stelle 0 "
   ]
  },
  {
   "cell_type": "code",
   "execution_count": 16,
   "id": "adc28946-5420-4f93-a569-a354ea96cda3",
   "metadata": {
    "tags": []
   },
   "outputs": [
    {
     "data": {
      "text/plain": [
       "'H'"
      ]
     },
     "execution_count": 16,
     "metadata": {},
     "output_type": "execute_result"
    }
   ],
   "source": [
    "str1[0]"
   ]
  },
  {
   "cell_type": "code",
   "execution_count": 18,
   "id": "ff614568-e60c-4c8a-8ac5-110ebbb146c1",
   "metadata": {
    "tags": []
   },
   "outputs": [
    {
     "data": {
      "text/plain": [
       "1"
      ]
     },
     "execution_count": 18,
     "metadata": {},
     "output_type": "execute_result"
    }
   ],
   "source": [
    "liste1[0]"
   ]
  },
  {
   "cell_type": "code",
   "execution_count": 19,
   "id": "2e3a982d-bc9b-40b2-8b18-e06bf7ad3676",
   "metadata": {
    "tags": []
   },
   "outputs": [
    {
     "data": {
      "text/plain": [
       "set"
      ]
     },
     "execution_count": 19,
     "metadata": {},
     "output_type": "execute_result"
    }
   ],
   "source": [
    "sets_sind_keine_sequenzen = {1,2,3}\n",
    "type(sets_sind_keine_sequenzen)"
   ]
  },
  {
   "cell_type": "code",
   "execution_count": 20,
   "id": "c1176e27-c2f4-4933-af2f-cd7302f49541",
   "metadata": {
    "tags": []
   },
   "outputs": [
    {
     "ename": "TypeError",
     "evalue": "'set' object is not subscriptable",
     "output_type": "error",
     "traceback": [
      "\u001b[0;31m---------------------------------------------------------------------------\u001b[0m",
      "\u001b[0;31mTypeError\u001b[0m                                 Traceback (most recent call last)",
      "\u001b[0;32m/var/folders/98/zxnb__6d3hn1b82jwdhkbs7m0000gn/T/ipykernel_12046/2564185162.py\u001b[0m in \u001b[0;36m<module>\u001b[0;34m\u001b[0m\n\u001b[0;32m----> 1\u001b[0;31m \u001b[0msets_sind_keine_sequenzen\u001b[0m\u001b[0;34m[\u001b[0m\u001b[0;36m0\u001b[0m\u001b[0;34m]\u001b[0m\u001b[0;34m\u001b[0m\u001b[0;34m\u001b[0m\u001b[0m\n\u001b[0m",
      "\u001b[0;31mTypeError\u001b[0m: 'set' object is not subscriptable"
     ]
    }
   ],
   "source": [
    "sets_sind_keine_sequenzen[0]"
   ]
  },
  {
   "cell_type": "markdown",
   "id": "fd880a5d-beb9-49ae-8673-f6bbe75e3e1a",
   "metadata": {},
   "source": [
    "`set` und `dictionary`-Literale werden beide mit {} gemacht.\n",
    "\n",
    "Wie unterscheidet, Python nun zwischen einem set und einem dictionary. \n",
    "\n",
    "Ganz einfach: \n",
    "\n",
    "- set ist {element1, element2, element3} durch Komma getrennte Elemente\n",
    "- dictionary ist {`key1` `:` `value1`, `key2` `:` `value2`,...} key : value Paare durch Komma getrennt. \n",
    "    - : => dictionary\n"
   ]
  },
  {
   "cell_type": "code",
   "execution_count": 24,
   "id": "5d080a52-2ec6-4dc7-892f-d2521a480bee",
   "metadata": {
    "tags": []
   },
   "outputs": [
    {
     "data": {
      "text/plain": [
       "(set, dict)"
      ]
     },
     "execution_count": 24,
     "metadata": {},
     "output_type": "execute_result"
    }
   ],
   "source": [
    "set1 = {\"Phil\", \"Speyer\"}\n",
    "dictionary1 = {\"key1\":\"value1\", \n",
    "               \"name\":\"Phil\",\n",
    "               \"city\": \"Speyer\",\n",
    "               42: \"meine lieblingszahl\"}\n",
    "# keys können bspw. str oder int, float oder \"manche\" tuple lernen wir später bei \"hashable\"\n",
    "\n",
    "type(set1), type(dictionary1)"
   ]
  },
  {
   "cell_type": "code",
   "execution_count": 28,
   "id": "c9dd3963-f689-4b2b-b54f-c40cad51b1e2",
   "metadata": {
    "tags": []
   },
   "outputs": [
    {
     "data": {
      "text/plain": [
       "1"
      ]
     },
     "execution_count": 28,
     "metadata": {},
     "output_type": "execute_result"
    }
   ],
   "source": [
    "liste1[3] # Liste Aufruf der einzelnen Element über deren \"Platz\" in der Liste via INdex"
   ]
  },
  {
   "cell_type": "code",
   "execution_count": 29,
   "id": "2d7c3474-b51f-4462-a2e6-2f9c947d9dda",
   "metadata": {
    "tags": []
   },
   "outputs": [
    {
     "data": {
      "text/plain": [
       "'Speyer'"
      ]
     },
     "execution_count": 29,
     "metadata": {},
     "output_type": "execute_result"
    }
   ],
   "source": [
    "dictionary1[\"city\"] # Aufruf der einzelnen Values über deren Keys"
   ]
  },
  {
   "cell_type": "code",
   "execution_count": 2,
   "id": "6784a4dc-5e87-4584-8d88-dbd4f34623de",
   "metadata": {
    "tags": []
   },
   "outputs": [],
   "source": [
    "# dictionary1[42] # 42 kein Index sondern ein Key"
   ]
  },
  {
   "cell_type": "code",
   "execution_count": 32,
   "id": "84830372-2940-4da6-9b30-b45963a51d48",
   "metadata": {
    "tags": []
   },
   "outputs": [
    {
     "data": {
      "text/plain": [
       "(list, list)"
      ]
     },
     "execution_count": 32,
     "metadata": {},
     "output_type": "execute_result"
    }
   ],
   "source": [
    "keys = [\"name\",\"stadt\", \"lieblingsessen\"]\n",
    "values =[\"Frank\", \"Berlin\", \"Döner\"]\n",
    "type(keys), type(values)"
   ]
  },
  {
   "cell_type": "code",
   "execution_count": 33,
   "id": "08e63a63-0174-4e47-bb80-f7e74dd7d0c0",
   "metadata": {
    "tags": []
   },
   "outputs": [
    {
     "data": {
      "text/plain": [
       "<zip at 0x10e1dbbc8>"
      ]
     },
     "execution_count": 33,
     "metadata": {},
     "output_type": "execute_result"
    }
   ],
   "source": [
    "zip(keys,values)"
   ]
  },
  {
   "cell_type": "code",
   "execution_count": 34,
   "id": "21ac6d28-7363-43d7-863c-029b680a8114",
   "metadata": {
    "tags": []
   },
   "outputs": [
    {
     "data": {
      "text/plain": [
       "(('name', 'Frank'), ('stadt', 'Berlin'), ('lieblingsessen', 'Döner'))"
      ]
     },
     "execution_count": 34,
     "metadata": {},
     "output_type": "execute_result"
    }
   ],
   "source": [
    "tuple(zip(keys,values))"
   ]
  },
  {
   "cell_type": "code",
   "execution_count": 35,
   "id": "7b99560b-a80e-4bf2-ad07-f62fdbaa3a1a",
   "metadata": {
    "tags": []
   },
   "outputs": [
    {
     "data": {
      "text/plain": [
       "\u001b[0;31mInit signature:\u001b[0m \u001b[0mdict\u001b[0m\u001b[0;34m(\u001b[0m\u001b[0mself\u001b[0m\u001b[0;34m,\u001b[0m \u001b[0;34m/\u001b[0m\u001b[0;34m,\u001b[0m \u001b[0;34m*\u001b[0m\u001b[0margs\u001b[0m\u001b[0;34m,\u001b[0m \u001b[0;34m**\u001b[0m\u001b[0mkwargs\u001b[0m\u001b[0;34m)\u001b[0m\u001b[0;34m\u001b[0m\u001b[0;34m\u001b[0m\u001b[0m\n",
       "\u001b[0;31mDocstring:\u001b[0m     \n",
       "dict() -> new empty dictionary\n",
       "dict(mapping) -> new dictionary initialized from a mapping object's\n",
       "    (key, value) pairs\n",
       "dict(iterable) -> new dictionary initialized as if via:\n",
       "    d = {}\n",
       "    for k, v in iterable:\n",
       "        d[k] = v\n",
       "dict(**kwargs) -> new dictionary initialized with the name=value pairs\n",
       "    in the keyword argument list.  For example:  dict(one=1, two=2)\n",
       "\u001b[0;31mType:\u001b[0m           type\n",
       "\u001b[0;31mSubclasses:\u001b[0m     OrderedDict, defaultdict, Counter, _EnumDict, Bunch, StgDict, ConvertingDict, Config, _DefaultOptionDict, ObjectDict, ...\n"
      ]
     },
     "metadata": {},
     "output_type": "display_data"
    }
   ],
   "source": [
    "dict?"
   ]
  },
  {
   "cell_type": "code",
   "execution_count": 42,
   "id": "f1c48498-8679-4f97-9fa4-ba8066985d76",
   "metadata": {
    "tags": []
   },
   "outputs": [
    {
     "data": {
      "text/plain": [
       "{'name': 'Frank', 'stadt': 'Berlin', 'lieblingsessen': 'Döner'}"
      ]
     },
     "execution_count": 42,
     "metadata": {},
     "output_type": "execute_result"
    }
   ],
   "source": [
    "mein_dict = dict(zip(keys,values))\n",
    "\n",
    "mein_dict"
   ]
  },
  {
   "cell_type": "code",
   "execution_count": 44,
   "id": "4745b872-100b-40ec-8ade-c6d460470197",
   "metadata": {
    "tags": []
   },
   "outputs": [
    {
     "data": {
      "text/plain": [
       "'BERLIN'"
      ]
     },
     "execution_count": 44,
     "metadata": {},
     "output_type": "execute_result"
    }
   ],
   "source": [
    "mein_dict[\"stadt\"].upper()"
   ]
  },
  {
   "cell_type": "code",
   "execution_count": 38,
   "id": "dfdceec8-2a00-4fcb-954a-4cdf46f8d600",
   "metadata": {
    "tags": []
   },
   "outputs": [
    {
     "data": {
      "text/plain": [
       "{'Frank': 'name', 'Berlin': 'stadt', 'Döner': 'lieblingsessen'}"
      ]
     },
     "execution_count": 38,
     "metadata": {},
     "output_type": "execute_result"
    }
   ],
   "source": [
    "mein_dict1 = dict(zip(values,keys))\n",
    "\n",
    "mein_dict1"
   ]
  },
  {
   "cell_type": "markdown",
   "id": "55663a78-f810-4a3d-8d99-d51698254343",
   "metadata": {},
   "source": [
    "## Tuple"
   ]
  },
  {
   "cell_type": "markdown",
   "id": "b8eac840-a75b-4500-9b0d-9354edf867d6",
   "metadata": {},
   "source": [
    "Slicen geht auch mit Tuplen\n",
    "Ein Slice kopiert den ausschnitt des Tupels, den man haben möchte..."
   ]
  },
  {
   "cell_type": "code",
   "execution_count": 56,
   "id": "84f85b31-3f2f-44c7-b630-f2f7d1ff35d3",
   "metadata": {},
   "outputs": [
    {
     "name": "stdout",
     "output_type": "stream",
     "text": [
      "[1, 2, 3, 'Hallo', 'HI', 7]\n"
     ]
    }
   ],
   "source": [
    "liste = [1,2,3,4,5,6,7]\n",
    "\n",
    "liste[3:6] = \"Hallo\", \"HI\" # LÖSCHT den Sclice und ersetzt durch neue werte\n",
    "print(liste)"
   ]
  },
  {
   "cell_type": "code",
   "execution_count": 57,
   "id": "8825de3d-23a5-4f50-8d64-16186b1cda12",
   "metadata": {},
   "outputs": [
    {
     "name": "stdout",
     "output_type": "stream",
     "text": [
      "[1, 2, 3, 'Hallo', 'HI', 'HUHU', 'Banane', 7]\n"
     ]
    }
   ],
   "source": [
    "liste = [1,2,3,4,5,6,7]\n",
    "\n",
    "liste[3:6] = \"Hallo\", \"HI\", \"HUHU\", \"Banane\" # Wenn nicht genug paltz schiebt nach hinten\n",
    "print(liste)"
   ]
  },
  {
   "cell_type": "markdown",
   "id": "3786ec33-1e59-4f7c-b7bf-49f37d409643",
   "metadata": {},
   "source": [
    "Slice nutzen um Tupple mit einem Wert einzufügen KOMMA"
   ]
  },
  {
   "cell_type": "code",
   "execution_count": null,
   "id": "9d43bb79-532c-4036-8e86-9ba07f9938d7",
   "metadata": {},
   "outputs": [],
   "source": [
    "liste = [1,2,3,4,5,6,7]\n",
    "\n",
    "liste[3:6] = \"Hallo\", \"HI\" # LÖSCHT den Sclice und ersetzt durch neue werte\n",
    "print(liste)"
   ]
  }
 ],
 "metadata": {
  "kernelspec": {
   "display_name": "Python 3 (ipykernel)",
   "language": "python",
   "name": "python3"
  },
  "language_info": {
   "codemirror_mode": {
    "name": "ipython",
    "version": 3
   },
   "file_extension": ".py",
   "mimetype": "text/x-python",
   "name": "python",
   "nbconvert_exporter": "python",
   "pygments_lexer": "ipython3",
   "version": "3.12.3"
  }
 },
 "nbformat": 4,
 "nbformat_minor": 5
}
