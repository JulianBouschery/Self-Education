{
 "cells": [
  {
   "cell_type": "markdown",
   "id": "e8e5b8b1-fe68-4c37-b451-a7be985301bc",
   "metadata": {},
   "source": [
    "[Zurück zum Inhaltsverzeichnis](_Inhaltsverzeichnis_.ipynb)"
   ]
  },
  {
   "cell_type": "markdown",
   "id": "b630ab76-c874-4a4c-86ee-64bedc5882d1",
   "metadata": {},
   "source": [
    "## Kommentare in Python (checked)"
   ]
  },
  {
   "cell_type": "markdown",
   "id": "9609600f-60f7-44d9-af2b-893863da22d4",
   "metadata": {},
   "source": [
    "Mit dem \\# kann man eine Zeile auskommentieren. \n",
    "\n",
    "Kommentare werden von Python ignoriert und diese dienen nur den Menschen um den Code zu verstehen.\n",
    "\n",
    "\n",
    "\n",
    "Es gibt in Python kein originären Multiline Kommentar. Also man kann eigentlich immer nur eine Zeile auskommentieren. Wenn man drei Zeilen auskommentieren möchte, muss halt drei mal ein # davor machen.\n"
   ]
  },
  {
   "cell_type": "code",
   "execution_count": null,
   "id": "48d9969c-97ab-4b07-8f04-c8487cac05ac",
   "metadata": {},
   "outputs": [],
   "source": [
    "# Kommentarzeile1\n",
    "# Kommentarzeile3\n",
    "# Kommentarzeile3"
   ]
  },
  {
   "cell_type": "markdown",
   "id": "23706bc1-11b8-4c35-ab95-4e2e10b5db5a",
   "metadata": {},
   "source": [
    "Ein Workaround sind Multiine Strings. Mit denen kann man mehrere Code-Zeilen in einen String verwandeln. Und das wirkt so in etwa wie ein Multiline Kommentar. \n",
    "\n",
    "Was genau hier passiert, machen wir später."
   ]
  },
  {
   "cell_type": "code",
   "execution_count": 23,
   "id": "b07db938-c961-4567-a097-4b657548fe95",
   "metadata": {},
   "outputs": [
    {
     "data": {
      "text/plain": [
       "'\\nKommentarzeile1\\nKommentarzeile3\\nKommentarzeile3\\n'"
      ]
     },
     "execution_count": 23,
     "metadata": {},
     "output_type": "execute_result"
    }
   ],
   "source": [
    "\"\"\"\n",
    "Kommentarzeile1\n",
    "Kommentarzeile3\n",
    "Kommentarzeile3\n",
    "\"\"\""
   ]
  },
  {
   "cell_type": "markdown",
   "id": "66209269-568a-4527-a654-3bafcb4f4c7e",
   "metadata": {},
   "source": [
    "**Shortcuts zum Ein- und Aus-Kommentieren von Zeile:**\n",
    "\n",
    "Markiere die entsprechenden Zeilen, und dann drücke Strg + Shift + / (Für Windows) "
   ]
  },
  {
   "cell_type": "code",
   "execution_count": 53,
   "id": "01bf170b-e987-4df4-8e42-e34fe5c8d449",
   "metadata": {},
   "outputs": [],
   "source": [
    "# Testzeil1\n",
    "# Testzeile2\n",
    "# Testzeile3"
   ]
  }
 ],
 "metadata": {
  "kernelspec": {
   "display_name": "Python 3 (ipykernel)",
   "language": "python",
   "name": "python3"
  },
  "language_info": {
   "codemirror_mode": {
    "name": "ipython",
    "version": 3
   },
   "file_extension": ".py",
   "mimetype": "text/x-python",
   "name": "python",
   "nbconvert_exporter": "python",
   "pygments_lexer": "ipython3",
   "version": "3.12.3"
  }
 },
 "nbformat": 4,
 "nbformat_minor": 5
}
