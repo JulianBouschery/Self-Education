{
 "cells": [
  {
   "cell_type": "markdown",
   "id": "35deb8eb-d674-4512-afb8-76332b824a0a",
   "metadata": {},
   "source": [
    "[Zurück zum Inhaltsverzeichnis](_Inhaltsverzeichnis_.ipynb)"
   ]
  },
  {
   "cell_type": "markdown",
   "id": "67cebbf5-e880-4378-bcdc-05707284a1c5",
   "metadata": {},
   "source": [
    "# Regeln"
   ]
  },
  {
   "cell_type": "markdown",
   "id": "7aff8060-84a1-4412-a8ad-01725e5dda5f",
   "metadata": {},
   "source": [
    "## Slicen"
   ]
  },
  {
   "cell_type": "markdown",
   "id": "2c7ac563-9156-4fb1-9cbe-104d66da9df7",
   "metadata": {},
   "source": [
    "Der Datentyp des Slices ist IMMER der gleiche, wie der des Objekts das man slicen möchte:"
   ]
  },
  {
   "cell_type": "markdown",
   "id": "3e06e35f-d058-4a25-95cd-45345f8925ab",
   "metadata": {},
   "source": [
    "- slice eines Strings --> String\n",
    "- slice einer Liste --> Liste\n",
    "- slice eines Tuples --> Tuple\n",
    "- slice eines range-Objekts (welches aus int besteht) --> Integer(s) "
   ]
  },
  {
   "cell_type": "code",
   "execution_count": null,
   "id": "83d30a13-b024-4a98-b1df-c76303f53df5",
   "metadata": {},
   "outputs": [],
   "source": []
  }
 ],
 "metadata": {
  "kernelspec": {
   "display_name": "Python 3 (ipykernel)",
   "language": "python",
   "name": "python3"
  },
  "language_info": {
   "codemirror_mode": {
    "name": "ipython",
    "version": 3
   },
   "file_extension": ".py",
   "mimetype": "text/x-python",
   "name": "python",
   "nbconvert_exporter": "python",
   "pygments_lexer": "ipython3",
   "version": "3.12.3"
  }
 },
 "nbformat": 4,
 "nbformat_minor": 5
}
