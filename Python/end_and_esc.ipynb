{
 "cells": [
  {
   "cell_type": "markdown",
   "id": "8236676e-6465-48e7-8419-fd985741ddcd",
   "metadata": {},
   "source": [
    "# END und Escape-Charakter"
   ]
  },
  {
   "cell_type": "markdown",
   "id": "687d5b63-8583-40a1-995c-237df1023195",
   "metadata": {},
   "source": [
    "## END"
   ]
  },
  {
   "cell_type": "markdown",
   "id": "0e3f789a-7d87-4ab2-90fe-67f9c6533c8c",
   "metadata": {},
   "source": [
    "Der Parameter \"end\" bestimmt, wie das Ende einer Funktion innerhalb des Codes funktioniert. Als Standard ist ein Zeilenumbruch eingestellt."
   ]
  },
  {
   "cell_type": "markdown",
   "id": "01b2b193-d01d-45d3-9a0b-a98f9e58d8cf",
   "metadata": {},
   "source": [
    "Das heißt: Wenn man jetzt zwei mal print(\"Hello, World!\") schriebt, dann landet der Ausdruck in zwei Zeilen untereinander."
   ]
  },
  {
   "cell_type": "code",
   "execution_count": 8,
   "id": "29a55b74-d8b0-4e03-9c49-89c71c2411c8",
   "metadata": {},
   "outputs": [
    {
     "name": "stdout",
     "output_type": "stream",
     "text": [
      "Hello, World!\n",
      "Hello, World!\n"
     ]
    },
    {
     "data": {
      "text/plain": [
       "(None, None)"
      ]
     },
     "execution_count": 8,
     "metadata": {},
     "output_type": "execute_result"
    }
   ],
   "source": [
    "print(\"Hello, World!\"), print(\"Hello, World!\")"
   ]
  },
  {
   "cell_type": "code",
   "execution_count": 79,
   "id": "64075f79-2139-4e2b-b447-70997d39e05f",
   "metadata": {},
   "outputs": [
    {
     "name": "stdout",
     "output_type": "stream",
     "text": [
      "Hallo Du Gummischuh\n"
     ]
    }
   ],
   "source": [
    "print(\"Hallo Du Gummischuh\")"
   ]
  },
  {
   "cell_type": "code",
   "execution_count": 80,
   "id": "9d712749-adfe-4d37-842a-5b7858c77ab4",
   "metadata": {
    "scrolled": true
   },
   "outputs": [
    {
     "name": "stdout",
     "output_type": "stream",
     "text": [
      "Hallo\n",
      "Du\n",
      "Gummischuh\n"
     ]
    }
   ],
   "source": [
    "print(\"Hallo\\nDu\\nGummischuh\")"
   ]
  },
  {
   "cell_type": "markdown",
   "id": "9f61e9d8-36e0-45bd-8110-b85d8d6e75f5",
   "metadata": {},
   "source": [
    "\"\\n\" => heisst newline / neue Zeile"
   ]
  },
  {
   "cell_type": "code",
   "execution_count": 81,
   "id": "df73b582-fd28-4a07-8f37-f7986aabb95e",
   "metadata": {
    "scrolled": true
   },
   "outputs": [
    {
     "name": "stdout",
     "output_type": "stream",
     "text": [
      "Hallo\n",
      "\n",
      "Du\n",
      "Gummischuh\n"
     ]
    }
   ],
   "source": [
    "print(\"Hallo\\n\\nDu\\nGummischuh\")"
   ]
  },
  {
   "cell_type": "code",
   "execution_count": 14,
   "id": "2eb330bb-9787-418c-ba11-f4d92dbe5dc2",
   "metadata": {
    "scrolled": true
   },
   "outputs": [
    {
     "name": "stdout",
     "output_type": "stream",
     "text": [
      "Hallo\n",
      "Test1\n"
     ]
    }
   ],
   "source": [
    "print(\"Hallo\\nTest1\")"
   ]
  },
  {
   "cell_type": "code",
   "execution_count": 36,
   "id": "4ecc650d-52ea-434e-952c-4da7ec115302",
   "metadata": {},
   "outputs": [
    {
     "name": "stdout",
     "output_type": "stream",
     "text": [
      "Hallo\n",
      "     Test1\n"
     ]
    }
   ],
   "source": [
    "print(\"Hallo\\n     Test1\")"
   ]
  },
  {
   "cell_type": "markdown",
   "id": "6bcecc82-bc06-4130-b261-cae629471201",
   "metadata": {},
   "source": [
    "Aufgaben aus der Prüfung:"
   ]
  },
  {
   "cell_type": "code",
   "execution_count": 78,
   "id": "b3030ab4-903e-4ae5-aa62-1fcfbaf268f0",
   "metadata": {
    "scrolled": true
   },
   "outputs": [
    {
     "name": "stdout",
     "output_type": "stream",
     "text": [
      "1 2 3\n",
      "3 4 5\n"
     ]
    }
   ],
   "source": [
    "# end => Was passiert wenn wir mit dem Ausdruck fertig sind? => per default gehen wir in eine neue Zeile\n",
    "print(1,2,3)\n",
    "print(3,4,5)"
   ]
  },
  {
   "cell_type": "code",
   "execution_count": 41,
   "id": "ab682cce-215c-4932-9cfd-194967da9fcb",
   "metadata": {},
   "outputs": [
    {
     "name": "stdout",
     "output_type": "stream",
     "text": [
      "1 2 3 | 3 4 5\n",
      "7 8 9\n"
     ]
    }
   ],
   "source": [
    "# PCEP Aufgabe\n",
    "# Wie viele Zeilen werden gedruckt\n",
    "print(1,2,3, end = \" | \")\n",
    "print(3,4,5)\n",
    "print(7,8,9)"
   ]
  },
  {
   "cell_type": "markdown",
   "id": "f8f7f713-e078-4f35-905d-9b0406683045",
   "metadata": {},
   "source": [
    "Eine Zeile muss nicht mit einem Zeilenumbruch Enden... Wenn man stattdessen etwas anderes haben möchte kann man das einfügen. Allerdings muss man das (zumindest mit dieser Methode) für jede Zeile machen, die man geändert haben möchte."
   ]
  },
  {
   "cell_type": "markdown",
   "id": "9e3a1f0b-0de2-4668-bfaf-53b3ff12aeeb",
   "metadata": {},
   "source": [
    "## Escape und Verbindung von Quotation (checked)\n",
    "(Erweiterung von END)"
   ]
  },
  {
   "cell_type": "markdown",
   "id": "f10b37b9-6c22-46ee-913b-e7817a3b4345",
   "metadata": {},
   "source": [
    "- Was passiert? (Funktion erklären)\n",
    "- Was ist das? (Definition formulieren)\n",
    "- Warum / Wie funktioniert das? (Hintergründe und Details)\n",
    "  All, das Hand von sehr vielen Beispielen erklären"
   ]
  },
  {
   "cell_type": "markdown",
   "id": "d0dea287-3dd1-484e-b821-b555426cef1f",
   "metadata": {},
   "source": [
    "Wenn wir in einem String \"Wörtliche Rede\", bzw. Anführungszeichen verwenden wollen schmeißt Python einen Fehler."
   ]
  },
  {
   "cell_type": "code",
   "execution_count": 45,
   "id": "cb7a12e9-45e4-46fa-89f6-06d94fc3a7cd",
   "metadata": {
    "tags": []
   },
   "outputs": [
    {
     "ename": "SyntaxError",
     "evalue": "invalid syntax (2124554952.py, line 1)",
     "output_type": "error",
     "traceback": [
      "\u001b[0;36m  File \u001b[0;32m\"/var/folders/98/zxnb__6d3hn1b82jwdhkbs7m0000gn/T/ipykernel_12043/2124554952.py\"\u001b[0;36m, line \u001b[0;32m1\u001b[0m\n\u001b[0;31m    \"Phil sagte: \"Python ist supi\"\"\u001b[0m\n\u001b[0m                       ^\u001b[0m\n\u001b[0;31mSyntaxError\u001b[0m\u001b[0;31m:\u001b[0m invalid syntax\n"
     ]
    }
   ],
   "source": [
    "\"Phil sagte: \"Python ist supi\"\""
   ]
  },
  {
   "cell_type": "markdown",
   "id": "c5ed8476-9fe7-4503-b87c-3c0bf8b15dbd",
   "metadata": {},
   "source": [
    "Um zu verhindern, dass Python die inneren Anführungszeichen als Start und Ende eines Strings versteht, müssen wir diese speziell kenzeichnen."
   ]
  },
  {
   "cell_type": "code",
   "execution_count": 46,
   "id": "34f523d2-1054-4078-9ed2-5112ef4f67a6",
   "metadata": {
    "tags": []
   },
   "outputs": [
    {
     "data": {
      "text/plain": [
       "'Phil sagte: \"Python ist supi\"'"
      ]
     },
     "execution_count": 46,
     "metadata": {},
     "output_type": "execute_result"
    }
   ],
   "source": [
    "\"Phil sagte: \\\"Python ist supi\\\"\""
   ]
  },
  {
   "cell_type": "markdown",
   "id": "22a6dfef-5ff1-4c9b-87b5-de20e44e1dc2",
   "metadata": {},
   "source": [
    "Der Back-Slash `\\` ist das `Escape`-Zeichen. Man kann sich das so vorstellen, dass es sagt: \"Das nächste Zeichen oder manchmal die nächsten Zeichen, möchte ich anders als normal interpretiert haben.\"\n",
    "\n",
    "Beispiel:\n",
    "```Python\n",
    "\"Phil sagt:  \\\" Hi \\\" \" \n",
    "```\n",
    "=> hier sagen wir bitte nutze die inneren Anführungszeichen nicht als Ende oder Anfang eines Strings sondern einfach als das Zeichen: \" "
   ]
  },
  {
   "cell_type": "markdown",
   "id": "56b46c74-117b-426a-a19a-9d14e6d37dd3",
   "metadata": {},
   "source": [
    "Alternativ kann man auch ander Zeichen verwenden, damit Python klar unterscheiden kann."
   ]
  },
  {
   "cell_type": "code",
   "execution_count": 47,
   "id": "9afe6b37-62d1-4655-ac83-1d8b2ec8d569",
   "metadata": {
    "tags": []
   },
   "outputs": [
    {
     "data": {
      "text/plain": [
       "\"Phil sagte: 'Python ist supi'\""
      ]
     },
     "execution_count": 47,
     "metadata": {},
     "output_type": "execute_result"
    }
   ],
   "source": [
    "\"Phil sagte: 'Python ist supi'\""
   ]
  },
  {
   "cell_type": "code",
   "execution_count": 5,
   "id": "08e5faa5-f1cd-40ec-92b2-23c16991828f",
   "metadata": {
    "tags": []
   },
   "outputs": [
    {
     "ename": "SyntaxError",
     "evalue": "unterminated string literal (detected at line 1) (334728829.py, line 1)",
     "output_type": "error",
     "traceback": [
      "\u001b[1;36m  Cell \u001b[1;32mIn[5], line 1\u001b[1;36m\u001b[0m\n\u001b[1;33m    \"\\\"\u001b[0m\n\u001b[1;37m    ^\u001b[0m\n\u001b[1;31mSyntaxError\u001b[0m\u001b[1;31m:\u001b[0m unterminated string literal (detected at line 1)\n"
     ]
    }
   ],
   "source": [
    "\"\\\""
   ]
  },
  {
   "cell_type": "markdown",
   "id": "3b70e16c-4021-4045-abf4-b57cf09404ca",
   "metadata": {},
   "source": [
    "Für Python ist der hintere Anführungszeichen unsichtbar, weil es mit dem Escape Charakter nicht als das Ende eines Strings gilt. \n",
    "\n",
    "Python sieht nur: \n",
    "```python\n",
    "\"\\\n",
    "```  \n",
    "und wirft einen Fehler."
   ]
  },
  {
   "cell_type": "markdown",
   "id": "aa32de29-5d23-4615-9ae9-962e3a79827d",
   "metadata": {},
   "source": [
    "Wenn man trotzdem einen Backslash in einem String verwenden möchte muss man dass so machen:"
   ]
  },
  {
   "cell_type": "code",
   "execution_count": 51,
   "id": "164fbdac-5584-46a1-bfa6-248eee58b04b",
   "metadata": {
    "tags": []
   },
   "outputs": [
    {
     "data": {
      "text/plain": [
       "'\\\\'"
      ]
     },
     "execution_count": 51,
     "metadata": {},
     "output_type": "execute_result"
    }
   ],
   "source": [
    "\"\\\\\""
   ]
  },
  {
   "cell_type": "code",
   "execution_count": 52,
   "id": "05994177-7ab2-48d8-80f2-c05f3ed88e91",
   "metadata": {
    "tags": []
   },
   "outputs": [
    {
     "name": "stdout",
     "output_type": "stream",
     "text": [
      "\\\n"
     ]
    }
   ],
   "source": [
    "print(\"\\\\\")"
   ]
  },
  {
   "cell_type": "markdown",
   "id": "99498ca4-0b1f-47d2-9246-66240e217b11",
   "metadata": {},
   "source": [
    "## Zusammenfassung: Escape-Sequenzen in Python"
   ]
  },
  {
   "cell_type": "code",
   "execution_count": 55,
   "id": "1fde00ee-403e-4edf-8810-9938dbe8bb02",
   "metadata": {
    "tags": []
   },
   "outputs": [
    {
     "name": "stdout",
     "output_type": "stream",
     "text": [
      "Hallo \t wie \n",
      " Hallo das ist spannend\n"
     ]
    }
   ],
   "source": [
    "print(\"Hallo \\t wie \\n geht es dir \\b und \\r Hallo das ist spannend\")"
   ]
  },
  {
   "cell_type": "markdown",
   "id": "ec2fa045-3bc8-4b63-a73e-76d431cc9663",
   "metadata": {},
   "source": [
    "Klar, hier sind einige häufig verwendete Escape-Sequenzen in Python:\n",
    "\n",
    "1. `\\n`: Zeilenumbruch. Wenn Sie zum Beispiel `\"Hallo\\nWelt\"` drucken, wird \"Hallo\" in einer Zeile und \"Welt\" in der nächsten gedruckt.\n",
    "\n",
    "2. `\\t`: Tabulator. Wenn Sie beispielsweise `\"Hallo\\tWelt\"` drucken, wird zwischen \"Hallo\" und \"Welt\" ein Tabulator eingefügt.\n",
    "\n",
    "3. `\\\\`: Backslash. Normalerweise wird ein Backslash als Escape-Zeichen in Strings verwendet. Wenn Sie beispielsweise `\"C:\\\\Users\\\\Benutzername\"` drucken, wird der Pfad richtig formatiert.\n",
    "\n",
    "4. `\\\"`: Anführungszeichen. Wird verwendet um Anführungszeichen in einem String einzufügen, ohne dass der String geschlossen wird. Zum Beispiel `\"Er sagte: \\\"Hallo!\\\"\"`.\n",
    "\n",
    "5. `\\b`: Backspace / löschen des letzten Zeichen. Es wird oft in Situationen verwendet, in denen Sie einen Text bearbeiten und einen Zeichenplatz zurückgehen möchten. Wenn Sie beispielsweise `\"abc\\b\"` drucken, wird das Ergebnis \"ab\".\n",
    "\n",
    "6. `\\r`: Carriage Return. Setzt den Cursor auf den Anfang der aktuellen Zeile.\n",
    "\n",
    "7. `\\u`: Unicode Escape-Sequenz mit vier Hexadezimalziffern.\n",
    "\n",
    "8. `\\U`: Unicode Escape-Sequenz mit acht Hexadezimalziffern."
   ]
  },
  {
   "cell_type": "markdown",
   "id": "8c626d56-9964-449e-ae8c-7b3baa4ebed6",
   "metadata": {},
   "source": [
    "Hier ist ein einfaches Beispiel, das einige dieser Escape-Sequenzen verwendet:"
   ]
  },
  {
   "cell_type": "code",
   "execution_count": 9,
   "id": "44cc8d55-bc0b-4958-a379-7953774b7484",
   "metadata": {
    "tags": []
   },
   "outputs": [
    {
     "name": "stdout",
     "output_type": "stream",
     "text": [
      "Hallo\n",
      "Welt\n",
      "Hallo\tWelt\n",
      "C:\\Users\\Benutzername\n",
      "C:\\Users\\Benutzername\n",
      "Er sagte: \"Hallo!\"\n",
      "ab\n",
      "µ\n",
      "👋\n"
     ]
    }
   ],
   "source": [
    "print(\"Hallo\\nWelt\")              # Zeilenumbruch\n",
    "print(\"Hallo\\tWelt\")              # Tabulator\n",
    "print(\"C:\\\\Users\\\\Benutzername\")  # Backslash\n",
    "print(r\"C:\\Users\\Benutzername\")   # r => raw string ignoriert den Escape-Character\n",
    "print(\"Er sagte: \\\"Hallo!\\\"\")     # Anführungszeichen\n",
    "print(\"abc\\b\")                    # Backspace\n",
    "print(\"\\u00B5\")                   # Unicode für Mikrozeichen\n",
    "print(\"\\U0001F44B\")               # Unicode für ein Emoji (Winken)"
   ]
  },
  {
   "cell_type": "markdown",
   "id": "9bf0a6dd-b831-499d-afb6-9f20af849c5d",
   "metadata": {},
   "source": [
    "Ich nutze persönlich bei Strings und Quotations mit wörtlicher Rede, sehr gerne die Mischung aus \"englisch\" und \"deutschen Quotations\""
   ]
  },
  {
   "cell_type": "code",
   "execution_count": 105,
   "id": "fad2dfd2-b220-4da5-b732-d577e87c9620",
   "metadata": {
    "tags": []
   },
   "outputs": [
    {
     "name": "stdout",
     "output_type": "stream",
     "text": [
      "er sagte: \"holla die waldfee\"\n"
     ]
    }
   ],
   "source": [
    "print('er sagte: \"holla die waldfee\"')"
   ]
  },
  {
   "cell_type": "code",
   "execution_count": 106,
   "id": "b4c2a7df-6174-4cdc-ba6c-ef34c4a78920",
   "metadata": {
    "tags": []
   },
   "outputs": [
    {
     "name": "stdout",
     "output_type": "stream",
     "text": [
      "she said:'holla the forest fairy' \n"
     ]
    }
   ],
   "source": [
    "print(\"she said:'holla the forest fairy' \")"
   ]
  },
  {
   "cell_type": "code",
   "execution_count": null,
   "id": "e1494682-8e2a-4e16-b561-7a7d0dd4eed2",
   "metadata": {},
   "outputs": [],
   "source": []
  },
  {
   "cell_type": "markdown",
   "id": "2a834bac-0efb-43ec-a32b-f2d3474fe6b7",
   "metadata": {},
   "source": [
    "In Python werden Escape-Sequenzen verwendet, um Zeichen darzustellen, die normalerweise eine spezielle Bedeutung haben oder nicht direkt in einem String dargestellt werden können. Hier sind einige häufig verwendete Escape-Sequenzen:\n",
    "\n",
    "1. `\\\\` - Backslash\n",
    "2. `\\'` - Einfaches Anführungszeichen\n",
    "3. `\\\"` - Doppeltes Anführungszeichen\n",
    "4. `\\n` - Neue Zeile\n",
    "5. `\\r` - Wagenrücklauf\n",
    "6. `\\t` - Tabulator\n",
    "7. `\\b` - Rückschritt\n",
    "\n",
    "Ein Beispiel für die Verwendung dieser Escape-Sequenzen in einem Python-String:\n",
    "\n",
    "```python\n",
    "# Beispiel für verschiedene Escape-Sequenzen\n",
    "string = \"Zeile 1\\nZeile 2\\n\\tTabulator\\n\\\\Backslash\\'Einfaches Anführungszeichen\\\"Doppeltes Anführungszeichen\"\n",
    "print(string)\n",
    "```\n",
    "\n",
    "Die Ausgabe wird sein:\n",
    "```\n",
    "Zeile 1\n",
    "Zeile 2\n",
    "\tTabulator\n",
    "\\Backslash'Einfaches Anführungszeichen\"Doppeltes Anführungszeichen\n",
    "```\n"
   ]
  },
  {
   "cell_type": "markdown",
   "id": "d8af5510-2523-4ecb-a4c6-94138007efa6",
   "metadata": {},
   "source": [
    "## Chatgpt Beispiel für \\r Anwendungsfall"
   ]
  },
  {
   "cell_type": "code",
   "execution_count": 6,
   "id": "b392155a-118f-4af0-a1fc-5362de461ecf",
   "metadata": {
    "tags": []
   },
   "outputs": [
    {
     "name": "stdout",
     "output_type": "stream",
     "text": [
      "[##################################################] 100%"
     ]
    }
   ],
   "source": [
    "\n",
    "import time\n",
    "import sys\n",
    "\n",
    "# Funktion, um einen Fortschrittsbalken anzuzeigen\n",
    "def progress_bar(duration):\n",
    "    for i in range(101):\n",
    "        # Berechne den Prozentsatz\n",
    "        percent = i\n",
    "        # Erstelle den Fortschrittsbalken\n",
    "        bar = '#' * (i // 2) + '-' * (50 - (i // 2))\n",
    "        # Schreibe den Fortschrittsbalken in die Konsole\n",
    "        sys.stdout.write(f'\\r[{bar}] {percent}%')\n",
    "        sys.stdout.flush()\n",
    "        # Warte ein bisschen\n",
    "        time.sleep(duration / 100.0)\n",
    "\n",
    "# Fortschrittsbalken für 5 Sekunden anzeigen\n",
    "progress_bar(5)\n"
   ]
  },
  {
   "cell_type": "code",
   "execution_count": null,
   "id": "64a77b7a-d5f2-41f6-bcf0-5217babde36b",
   "metadata": {},
   "outputs": [],
   "source": []
  }
 ],
 "metadata": {
  "kernelspec": {
   "display_name": "Python 3 (ipykernel)",
   "language": "python",
   "name": "python3"
  },
  "language_info": {
   "codemirror_mode": {
    "name": "ipython",
    "version": 3
   },
   "file_extension": ".py",
   "mimetype": "text/x-python",
   "name": "python",
   "nbconvert_exporter": "python",
   "pygments_lexer": "ipython3",
   "version": "3.12.3"
  }
 },
 "nbformat": 4,
 "nbformat_minor": 5
}
