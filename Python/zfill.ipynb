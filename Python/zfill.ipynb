{
 "cells": [
  {
   "cell_type": "markdown",
   "id": "94dd4697-9ac7-4ca5-ac7f-6d0ed5d2dd80",
   "metadata": {},
   "source": [
    "# zfill()"
   ]
  },
  {
   "cell_type": "code",
   "execution_count": 1,
   "id": "dea1dd73-0879-4c57-9226-ccab1db0e121",
   "metadata": {},
   "outputs": [
    {
     "data": {
      "text/plain": [
       "'02'"
      ]
     },
     "execution_count": 1,
     "metadata": {},
     "output_type": "execute_result"
    }
   ],
   "source": [
    "\"2\".zfill(2)"
   ]
  },
  {
   "cell_type": "code",
   "execution_count": 2,
   "id": "f06b2c31-ff6d-4882-a1b4-0ed45ae440b6",
   "metadata": {},
   "outputs": [
    {
     "data": {
      "text/plain": [
       "'22'"
      ]
     },
     "execution_count": 2,
     "metadata": {},
     "output_type": "execute_result"
    }
   ],
   "source": [
    "\"22\".zfill(2)"
   ]
  },
  {
   "cell_type": "code",
   "execution_count": 3,
   "id": "0e12fc69-643e-4083-9792-f6b6cef2753c",
   "metadata": {},
   "outputs": [
    {
     "data": {
      "text/plain": [
       "'0002'"
      ]
     },
     "execution_count": 3,
     "metadata": {},
     "output_type": "execute_result"
    }
   ],
   "source": [
    "\"2\".zfill(4)"
   ]
  },
  {
   "cell_type": "code",
   "execution_count": 4,
   "id": "6b1f7f05-4999-4454-8c8a-b6a6e25745e9",
   "metadata": {},
   "outputs": [
    {
     "data": {
      "text/plain": [
       "'100'"
      ]
     },
     "execution_count": 4,
     "metadata": {},
     "output_type": "execute_result"
    }
   ],
   "source": [
    "\"100\".zfill(2)"
   ]
  },
  {
   "cell_type": "code",
   "execution_count": null,
   "id": "98803fa3-cfb3-469f-a688-8eb41837028f",
   "metadata": {},
   "outputs": [],
   "source": []
  }
 ],
 "metadata": {
  "kernelspec": {
   "display_name": "Python 3 (ipykernel)",
   "language": "python",
   "name": "python3"
  },
  "language_info": {
   "codemirror_mode": {
    "name": "ipython",
    "version": 3
   },
   "file_extension": ".py",
   "mimetype": "text/x-python",
   "name": "python",
   "nbconvert_exporter": "python",
   "pygments_lexer": "ipython3",
   "version": "3.12.4"
  }
 },
 "nbformat": 4,
 "nbformat_minor": 5
}
