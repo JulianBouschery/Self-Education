{
 "cells": [
  {
   "cell_type": "markdown",
   "id": "a12d72cc-e648-4c27-87b6-f016c06dd3a5",
   "metadata": {},
   "source": [
    "# args"
   ]
  },
  {
   "cell_type": "markdown",
   "id": "ee4e6898-c7bf-4f35-b9cd-7d006f90815f",
   "metadata": {},
   "source": [
    "args\n",
    "```python\n",
    "- Instanzvariable der entsprechenden Verhlerklasse\n",
    "- except Exception as e: --> e = self.args --> \n",
    "- e != e.args\n",
    "- args ist IMMER in einem TUPLE egal ob leer oder nicht: () / (\"Argument\",)\n",
    "\n",
    "\n",
    "\n",
    "```"
   ]
  },
  {
   "cell_type": "markdown",
   "id": "01fb38ea-197e-4d7a-ae3f-9109f0fd7a48",
   "metadata": {},
   "source": [
    "Definition:\n",
    "\n",
    "Instanzen von Fehlerklassen enthalten **IMMER** die Variable `args`, ein Tupel, das alle Argumente sammelt, die an den Konstruktor der Fehlerklasse übergeben werden.                                                                                                                                                          \n",
    "(self wird hier nicht mitgezählt, wenn der Konstruktor also keine Argumente erhält, ist das Tupel leer)."
   ]
  },
  {
   "cell_type": "markdown",
   "id": "7236059c-6035-4528-9929-1f8352702d7b",
   "metadata": {},
   "source": [
    "## args an Hand eines Beispiels erklärt"
   ]
  },
  {
   "cell_type": "code",
   "execution_count": 16,
   "id": "aaa4e06e-521f-4368-b11c-7dc3b95c2e50",
   "metadata": {},
   "outputs": [
    {
     "name": "stdout",
     "output_type": "stream",
     "text": [
      "A value error\n",
      "('A value error',)\n"
     ]
    }
   ],
   "source": [
    "try:\n",
    "    raise ValueError(\"A value error\")\n",
    "except ValueError as e:\n",
    "    print(e)\n",
    "    print(e.args)"
   ]
  },
  {
   "cell_type": "markdown",
   "id": "a992b8d6-0c41-42c6-b513-bbc2c1292c2a",
   "metadata": {},
   "source": [
    "Warum kommt dieses Ergebnis heraus?"
   ]
  },
  {
   "cell_type": "markdown",
   "id": "facaf2b7-d0c1-48f4-91bf-aa3dd42debe1",
   "metadata": {},
   "source": [
    "#### Lösung"
   ]
  },
  {
   "cell_type": "markdown",
   "id": "bbf0af14-6cee-48c4-a6aa-411e9cc3b849",
   "metadata": {},
   "source": [
    "Gut, pflücken wir diesen Code auseinander:"
   ]
  },
  {
   "cell_type": "code",
   "execution_count": 13,
   "id": "b6f899a6-24f4-4273-9f99-9b318e4889dd",
   "metadata": {},
   "outputs": [
    {
     "name": "stdout",
     "output_type": "stream",
     "text": [
      "A value error\n",
      "('A value error',)\n"
     ]
    }
   ],
   "source": [
    "# imaginäres args = (\"A value error\",)\n",
    "\n",
    "try: # 1. Normaler try \n",
    "    raise ValueError(\"A value error\") # 2. raised einen ValueError mit dem ARGUMENT \"A value error\", welches in args gespeichert wird\n",
    "except ValueError as e: # 3. Der except der ValueErrorklasse fängt den ValueError und e erhält die ValueError-INSTANZ\n",
    "    print(e)  # analog zu e.__str__\n",
    "    print(e.args)\n"
   ]
  },
  {
   "cell_type": "markdown",
   "id": "f2fda0b0-45a2-47b2-8133-d1eb3ccee677",
   "metadata": {},
   "source": [
    "Wie sähe die Fehlermeldung aus, wenn sie nicht abgefangen werden würde?"
   ]
  },
  {
   "cell_type": "code",
   "execution_count": 33,
   "id": "dce4bed0-7d78-4f63-8e26-f69f6cb730ee",
   "metadata": {},
   "outputs": [
    {
     "ename": "ValueError",
     "evalue": "A value error",
     "output_type": "error",
     "traceback": [
      "\u001b[1;31m---------------------------------------------------------------------------\u001b[0m",
      "\u001b[1;31mValueError\u001b[0m                                Traceback (most recent call last)",
      "Cell \u001b[1;32mIn[33], line 1\u001b[0m\n\u001b[1;32m----> 1\u001b[0m \u001b[38;5;28;01mraise\u001b[39;00m \u001b[38;5;167;01mValueError\u001b[39;00m(\u001b[38;5;124m\"\u001b[39m\u001b[38;5;124mA value error\u001b[39m\u001b[38;5;124m\"\u001b[39m) \n",
      "\u001b[1;31mValueError\u001b[0m: A value error"
     ]
    }
   ],
   "source": [
    "raise ValueError(\"A value error\") "
   ]
  },
  {
   "cell_type": "markdown",
   "id": "07f9f034-1ffb-4684-a2c2-f782d01f19d7",
   "metadata": {},
   "source": [
    "Wie sieht das Ergebnis ohne Argument aus?"
   ]
  },
  {
   "cell_type": "code",
   "execution_count": 6,
   "id": "e310e7d0-1509-4cb5-b16d-12916636c5c9",
   "metadata": {},
   "outputs": [
    {
     "name": "stdout",
     "output_type": "stream",
     "text": [
      "\n",
      "()\n"
     ]
    }
   ],
   "source": [
    "try:  \n",
    "    raise ValueError\n",
    "except ValueError as e:\n",
    "    print(e) # leerer String\n",
    "    print(e.args) # leeres Tuple"
   ]
  },
  {
   "cell_type": "markdown",
   "id": "262970d1-24af-4b00-962c-0e0336270bd8",
   "metadata": {},
   "source": [
    "Wenn man kein zusätzliches Argument angibt wird in `e / args` nichts befüllt. Das macht den Code mit `as e` zwar überflüssig, aber es ist legaler Code."
   ]
  },
  {
   "cell_type": "markdown",
   "id": "eab28ba3-c2f6-4309-8415-6fc2f89f6c99",
   "metadata": {},
   "source": [
    "Wichtig zu beachten ist, dass `args` IMMER ein Tuple zurück gibt, egal ob mit Argumenten befüllt, oder leer."
   ]
  },
  {
   "cell_type": "markdown",
   "id": "9a83dbe2-1f64-4eb8-be54-49cf382a76c8",
   "metadata": {},
   "source": [
    "Der ValueError wird mit einem Argument ausgelöst: dem String \"A value error\". Wenn diese Fehlermeldung abgefangen wird, hält die Variable e die ValueError-Instanz."
   ]
  },
  {
   "cell_type": "code",
   "execution_count": null,
   "id": "4292ea39-213f-4041-9956-8da1734d235a",
   "metadata": {},
   "outputs": [],
   "source": [
    "# Analog:\n",
    "class Fehlerklasse(Exception):\n",
    "\n",
    "    def __init__(self, *args):\n",
    "        self.args = args\n",
    "\n",
    "e = self.args"
   ]
  },
  {
   "cell_type": "markdown",
   "id": "76d03859-f227-4f87-b867-09717a32aa1b",
   "metadata": {},
   "source": [
    "Verstehe ich das richtig?\n",
    "Der ValueError ist quasi die Klasse `ValueError` die aufgerufen wird (`ValueError()`) und wenn dieser Klasse ein Argeument übergeben wird, erstellt die (vermutlich `__init__`-Methode) der Fehlerklasse eine Instanzvariable `args`.\n",
    "\n",
    "Und mit dem Code `except ValueError as e:` sagt man quasi: \"Danke für die Information, aber wir wollen weiter machen. Bitte gib die Instanzvariable an e weiter, ich möchte sie mir später noch anschauen können.\""
   ]
  },
  {
   "cell_type": "code",
   "execution_count": 1,
   "id": "a013fd7a-6215-4d56-b778-02e29f986483",
   "metadata": {},
   "outputs": [
    {
     "name": "stdout",
     "output_type": "stream",
     "text": [
      "A value error\n",
      "('A value error',)\n",
      "(ValueError('A value error'),)\n"
     ]
    }
   ],
   "source": [
    "try:\n",
    "    raise ValueError(\"A value error\")\n",
    "except ValueError as e:\n",
    "    print(e)\n",
    "    print(e.args)\n",
    "    print((e,)) # ?????????"
   ]
  },
  {
   "cell_type": "markdown",
   "id": "23c9ec45-8106-474f-bad6-aeaaa00c242a",
   "metadata": {},
   "source": [
    "Es ist also egal, ob man `print(e)` oder `print(e.args)` schreibt weil unter der Haube `e = self.args` steht. Zwei Namen, die auf die SELBE Instanz zeigen, nur das e.args in einem Tuple steht."
   ]
  },
  {
   "cell_type": "markdown",
   "id": "125cc4c1-fef9-466f-892f-3255d893400c",
   "metadata": {},
   "source": [
    "Warum zum geier gibt eine Instanz der Fehlerklasse \"ValueError\" das Tuple `(ValueError('A value error'),)` aus, wenn man NUR die Instanz in ein Tuple stecken möchte?"
   ]
  },
  {
   "cell_type": "markdown",
   "id": "731596d5-5092-472a-8798-3020e9bf8448",
   "metadata": {},
   "source": [
    "# Philipp fragen!!!"
   ]
  },
  {
   "cell_type": "markdown",
   "id": "a6376130-d5d9-42a5-83d0-f10eeeff1c64",
   "metadata": {},
   "source": [
    "[lösung von Phillip](https://pythontutor.com/render.html#code=try%3A%0A%20%20%20%20raise%20ValueError%28%22A%20value%20error%22%29%0Aexcept%20ValueError%20as%20e%3A%0A%20%20%20%20print%28e%29%23%20e.__str__%28%29%200%20Args%20%3D%3E%20%22%22,%201%20args%20%3D%20%22argument%22,%202%20oder%20meht%20%22%28arg1,%20arg2,,%29%22%0A%20%20%20%20print%28e.args%29%23%20%3D%3E%20%28%22A%20value%20error%22,%29%0A%20%20%20%20print%28%28e,%29%29%23%20ACHTUNG%20hier%20repr%20%28%3Cclass%20ValueError%20object%20at%200x420470%3E,%29%0A%20%20%20%20%0A%20%20%20%20%0A%20%20%20%23%20print%28e%29/%20%0A%20%20%20%23autom.str%28e%29%20%20%20%20%20%20vs%20%20%20print%28e.args%29%0A%23%3D%3D%3D%3D%3D%3D%3D%3D%3D%3D%3D%3D%3D%3D%3D%3D%3D%3D%3D%3D%3D%3D%3D%3D%3D%3D%3D%3D%3D%3D%3D%3D%3D%3D%3D%3D%3D%3D%20%20%20%20%0A%20%20%20%23%20%22%22%20%20%20%20%20%20%20%20%20%20%20%20vs%20%20%20%28%29%20%20%20%20%23%20F%C3%BCr%20ValueError%28%29%0A%20%20%20%23%20%22my%20message%22%20%20vs%20%28%22my%20message%22,%29%20%20%23%20F%C3%BCr%20ValueError%28%22my%20message%22%29%0A%20%20%20%23%20%22%28msg1,%20msg2%29%22vs%20%22%28msg1,%20msg2%29%22%23%20F%C3%BCr%20ValueError%28msg1,%20msg2%29%0A%20%20%20%0A%20%20%20%20%23%20A%20value%20error%0A%20%20%20%20%23%20%28%22A%20value%20error%22,%29%0A%20%20%20%20%0Aa%20%3D%20ValueError%28%27A%20value%20error%27%29&cumulative=false&curInstr=8&heapPrimitives=nevernest&mode=display&origin=opt-frontend.js&py=311&rawInputLstJSON=%5B%5D&textReferences=false)"
   ]
  },
  {
   "cell_type": "code",
   "execution_count": null,
   "id": "9fb10be9-6f1e-4ad3-aa0a-0f430fa0b9d5",
   "metadata": {},
   "outputs": [],
   "source": [
    "try:\n",
    "    raise ValueError(\"A value error\")\n",
    "except ValueError as e:\n",
    "    print(e)# e.__str__() 0 Args => \"\", 1 args = \"argument\", 2 oder meht \"(arg1, arg2,,)\"\n",
    "    print(e.args)# => (\"A value error\",)\n",
    "    print((e,))# ACHTUNG hier repr (<class ValueError object at 0x420470>,)\n",
    "    \n",
    "    \n",
    "   # print(e)/ \n",
    "   #autom.str(e)      vs   print(e.args)\n",
    "#======================================    \n",
    "   # \"\"            vs   ()    # Für ValueError()\n",
    "   # \"my message\"  vs (\"my message\",)  # Für ValueError(\"my message\")\n",
    "   # \"(msg1, msg2)\"vs \"(msg1, msg2)\"# Für ValueError(msg1, msg2)\n",
    "   \n",
    "    # A value error\n",
    "    # (\"A value error\",)\n",
    "    \n",
    "a = ValueError('A value error')"
   ]
  },
  {
   "cell_type": "markdown",
   "id": "abb94161-e176-433a-ba21-71b5f62951c7",
   "metadata": {},
   "source": [
    "\n",
    "```python\n",
    "| Aufruf                    | print(e) mit str()  | print(e.args)       |\n",
    "|---------------------------|---------------------|---------------------|\n",
    "| ValueError()              | \"\"                  | ()                  |\n",
    "| ValueError(\"my message\")  | \"my message\"        | (\"my message\",)     |\n",
    "| ValueError(msg1, msg2)    | (msg1, msg2)        | (msg1, msg2)        |\n",
    "```"
   ]
  },
  {
   "cell_type": "markdown",
   "id": "f285324b-69a3-41c3-a4f8-c72f517f39c4",
   "metadata": {},
   "source": [
    "\n",
    "\n",
    "| Aufruf                      | print(e) mit str() | print(e.args)         |\n",
    "|-----------------------------|--------------------|-----------------------|\n",
    "| `ValueError()`              | `\"\"`               | `()`                  |\n",
    "| `ValueError(\"my message\")`  | `\"my message\"`     | `(\"my message\",)`     |\n",
    "| `ValueError(msg1, msg2)`    | `(msg1, msg2)`     | `(msg1, msg2)`        |"
   ]
  },
  {
   "cell_type": "code",
   "execution_count": null,
   "id": "8260d57d-84a2-4ee5-a74d-a178ea39e554",
   "metadata": {},
   "outputs": [],
   "source": [
    "print(e) # Verwendet unter der Haube automatisch die __str__() Methode"
   ]
  },
  {
   "cell_type": "code",
   "execution_count": null,
   "id": "a6bf6fa3-6480-4341-86d3-8b9b18846147",
   "metadata": {},
   "outputs": [],
   "source": []
  },
  {
   "cell_type": "code",
   "execution_count": 4,
   "id": "710dc750-01b1-435b-afd4-273801493a1e",
   "metadata": {},
   "outputs": [
    {
     "name": "stdout",
     "output_type": "stream",
     "text": [
      "\n",
      "()\n",
      "(ValueError(),)\n"
     ]
    }
   ],
   "source": [
    "try:\n",
    "    raise ValueError()\n",
    "except ValueError as e:\n",
    "    print(e)\n",
    "    print(e.args)\n",
    "    print((e,)) "
   ]
  },
  {
   "cell_type": "code",
   "execution_count": 5,
   "id": "6320e3cf-7828-41b0-8b32-072f641e621d",
   "metadata": {},
   "outputs": [
    {
     "name": "stdout",
     "output_type": "stream",
     "text": [
      "my message\n",
      "('my message',)\n",
      "(ValueError('my message'),)\n"
     ]
    }
   ],
   "source": [
    "try:\n",
    "    raise ValueError(\"my message\")\n",
    "except ValueError as e:\n",
    "    print(e)\n",
    "    print(e.args)\n",
    "    print((e,)) "
   ]
  },
  {
   "cell_type": "code",
   "execution_count": 6,
   "id": "062d4f2d-ab59-4934-acf5-1342d9974c1c",
   "metadata": {},
   "outputs": [
    {
     "name": "stdout",
     "output_type": "stream",
     "text": [
      "('mesg1', 'msg2')\n",
      "('mesg1', 'msg2')\n",
      "(ValueError('mesg1', 'msg2'),)\n"
     ]
    }
   ],
   "source": [
    "try:\n",
    "    raise ValueError(\"mesg1\",\"msg2\")\n",
    "except ValueError as e:\n",
    "    print(e)\n",
    "    print(e.args)\n",
    "    print((e,)) "
   ]
  },
  {
   "cell_type": "markdown",
   "id": "e263ac2a-18b2-4223-89eb-beca7dd59177",
   "metadata": {},
   "source": [
    "In Python wird die `__repr__`-Methode einer Fehlerklasse aufgerufen, wenn du ein Tuple mit einer Instanz dieser Fehlerklasse druckst. Genauer gesagt ruft Python immer die __repr__-Methode auf, wenn man ein Tuple druckt, für jedes seiner Elemente auf, um deren String-Darstellung zu erhalten, die für das Debuggen geeignet ist. \n",
    "\n",
    "Deshalb siehst du die Ausgabe von `__repr__`, wenn du `print((e,))` ausführst, die eine String-Darstellung zurück, die so aussieht, wie die Fehlermeldung im Code instanziiert wird (z.B. `ValueError(\"Eventueller Text\")`)."
   ]
  },
  {
   "cell_type": "markdown",
   "id": "57d28317-d4f0-4773-a85e-d594bd05681e",
   "metadata": {},
   "source": [
    ": Dies druckt ein Tuple, das die Ausnahmeinstanz enthält. Wenn du ein Tuple druckst, ruft Python die __repr__-Methode auf jedes seiner Elemente auf, um deren String-Darstellung zu erhalten, die für das Debuggen geeignet ist. \n",
    "\n",
    "Die __repr__-Methode der ValueError-Instanz gibt eine String-Darstellung zurück, die so aussieht, wie die Ausnahme im Code instanziiert wird (z.B. ValueError())."
   ]
  },
  {
   "cell_type": "code",
   "execution_count": null,
   "id": "c73fd147-bb2c-4393-a9c1-aeda70937111",
   "metadata": {},
   "outputs": [],
   "source": []
  }
 ],
 "metadata": {
  "kernelspec": {
   "display_name": "Python 3 (ipykernel)",
   "language": "python",
   "name": "python3"
  },
  "language_info": {
   "codemirror_mode": {
    "name": "ipython",
    "version": 3
   },
   "file_extension": ".py",
   "mimetype": "text/x-python",
   "name": "python",
   "nbconvert_exporter": "python",
   "pygments_lexer": "ipython3",
   "version": "3.12.4"
  }
 },
 "nbformat": 4,
 "nbformat_minor": 5
}
