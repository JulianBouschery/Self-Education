{
 "cells": [
  {
   "cell_type": "markdown",
   "id": "bca26793-2ef2-4792-b6c1-bb0b19a31e42",
   "metadata": {},
   "source": [
    "# Reflecion"
   ]
  },
  {
   "cell_type": "markdown",
   "id": "9178b1ca-02ce-4b85-a29c-dd793906ada3",
   "metadata": {},
   "source": [
    "Reflecion (Reflexion) ist die Fähigkeit eines Programms, die Werte, Eigenschaften und/oder Funktionen eines Objekts zur Laufzeit zu manipulieren."
   ]
  },
  {
   "cell_type": "code",
   "execution_count": null,
   "id": "5d6498ee-a31b-4f98-8dc9-ecdc6e2263d2",
   "metadata": {},
   "outputs": [],
   "source": []
  }
 ],
 "metadata": {
  "kernelspec": {
   "display_name": "Python 3 (ipykernel)",
   "language": "python",
   "name": "python3"
  },
  "language_info": {
   "codemirror_mode": {
    "name": "ipython",
    "version": 3
   },
   "file_extension": ".py",
   "mimetype": "text/x-python",
   "name": "python",
   "nbconvert_exporter": "python",
   "pygments_lexer": "ipython3",
   "version": "3.12.4"
  }
 },
 "nbformat": 4,
 "nbformat_minor": 5
}
