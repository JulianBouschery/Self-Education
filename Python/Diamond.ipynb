{
 "cells": [
  {
   "cell_type": "markdown",
   "id": "60e94c31-8903-4fa7-bf76-8d1cbfcd1422",
   "metadata": {},
   "source": [
    "# Diamond"
   ]
  },
  {
   "cell_type": "markdown",
   "id": "a7540f1f-e777-477f-bfb3-6d9fd5bfd0aa",
   "metadata": {},
   "source": [
    "## Diamond Problem"
   ]
  },
  {
   "cell_type": "markdown",
   "id": "69873e0c-9893-4823-b4ad-3dd9252d0d31",
   "metadata": {},
   "source": [
    "Das **Diamond Problem** tritt bei Mehrfachvererbung auf, wenn eine Klasse von mehreren Klassen erbt, die wiederum von **einer gemeinsamen** Basisklasse (Super-Super-Klasse) erben. Dies erzeugt eine **diamantenförmige** Vererbungshierarchie. Dadurch kann es zu Konflikten und Mehrdeutigkeiten kommen, wenn auf Methoden oder Attribute der gemeinsamen Basisklasse zugegriffen wird."
   ]
  },
  {
   "cell_type": "markdown",
   "id": "53583f9f-b907-4352-980d-fc2ff129dcc7",
   "metadata": {},
   "source": [
    "```python\n",
    "         Alpha\n",
    "        /    \\\n",
    "     Beta    Gamma\n",
    "        \\    /\n",
    "         Delta\n",
    "```"
   ]
  },
  {
   "cell_type": "markdown",
   "id": "0c64cea3-51d1-47ef-9877-c7e519e08f9b",
   "metadata": {},
   "source": [
    "## Method Resolution Order (MRO)"
   ]
  },
  {
   "cell_type": "markdown",
   "id": "aca0a7e7-cbe5-4934-b6b5-597e0c854ca7",
   "metadata": {},
   "source": [
    "Die Method Resolution Order (MRO) ist ein Algorithmus, der die Reihenfolge bestimmt, in der Basisklassen durchsucht werden, wenn eine Methode aufgerufen wird. Sie sorgt dafür, dass Methoden in der richtigen Reihenfolge aufgerufen werden, um Konflikte und Mehrdeutigkeiten bei der Mehrfachvererbung zu vermeiden. In Python wird die MRO durch den C3-Linearisierungsalgorithmus bestimmt, der sicherstellt, dass jede Klasse in der Hierarchie nur **einmal** aufgerufen wird und die Reihenfolge der Basisklassen respektiert wird.\n",
    "\n",
    "Durch die MRO wird das Diamond Problem in Python effektiv gelöst, indem sichergestellt wird, dass Methoden und Attribute in einer **konsistenten und vorhersehbaren Reihenfolge** aufgerufen werden."
   ]
  },
  {
   "cell_type": "markdown",
   "id": "676031b4-e5eb-4b03-a3e6-67fb3dcef7c6",
   "metadata": {},
   "source": [
    "Die MRO in Python folgt einer Reihenfolge, die wie folgt aussieht:\n",
    "\n",
    "- Zuerst wird die Methode in der Klasse selbst gesucht.\n",
    "- Dann in den direkten Basisklassen, in der Reihenfolge, in der sie im Klassenkopf angegeben sind.\n",
    "- Anschließend in den Basisklassen der Basisklassen, und so weiter, nach dem C3-Linearisierungsalgorithmus."
   ]
  },
  {
   "cell_type": "markdown",
   "id": "ef0756a9-b3de-40c1-adfa-cd686cf1e902",
   "metadata": {},
   "source": [
    "Bei FOLGENDER MRO wird das Diamond Problem wie folgt gelöst:"
   ]
  },
  {
   "cell_type": "code",
   "execution_count": 4,
   "id": "463c9b15-4072-4098-833b-05c02217cd69",
   "metadata": {
    "scrolled": true
   },
   "outputs": [
    {
     "data": {
      "text/plain": [
       "[__main__.Delta, __main__.Gamma, __main__.Beta, __main__.Alpha, object]"
      ]
     },
     "execution_count": 4,
     "metadata": {},
     "output_type": "execute_result"
    }
   ],
   "source": [
    "Delta.mro()"
   ]
  },
  {
   "cell_type": "markdown",
   "id": "218c1bee-75ef-429f-bbac-9c2bc08c2b1d",
   "metadata": {},
   "source": [
    "1. Delta\n",
    "2. Gamma\n",
    "3. Beta\n",
    "4. Alpha"
   ]
  },
  {
   "cell_type": "markdown",
   "id": "7cb73a9a-d49d-4293-90a2-05f7e63df750",
   "metadata": {},
   "source": [
    "```python\n",
    "         Alpha\n",
    "        /    \\\n",
    "     Beta    Gamma\n",
    "        \\    /\n",
    "         Delta\n",
    "\n",
    "       4. Alpha\n",
    "       /      \\\n",
    "3. Beta     2. Gamma\n",
    "       \\      /\n",
    "       1. Delta\n",
    "```"
   ]
  },
  {
   "cell_type": "markdown",
   "id": "6e040ff1-235e-4d76-be52-dd81faacafd4",
   "metadata": {},
   "source": [
    "Beispiel:"
   ]
  },
  {
   "cell_type": "code",
   "execution_count": 3,
   "id": "fd6dfd22-c760-4862-94aa-f3aca21efc56",
   "metadata": {},
   "outputs": [
    {
     "name": "stdout",
     "output_type": "stream",
     "text": [
      "BETA\n"
     ]
    }
   ],
   "source": [
    "class Alpha:\n",
    "    value = \"Alpha\"\n",
    "\n",
    "    def say(self):\n",
    "        return self.value.lower()\n",
    "\n",
    "class Beta(Alpha):\n",
    "    value = \"Beta\"\n",
    "\n",
    "class Gamma(Alpha):\n",
    "    def say(self):\n",
    "        return self.value.upper()\n",
    "\n",
    "class Delta(Gamma, Beta):\n",
    "    pass\n",
    "\n",
    "d = Delta()\n",
    "b = Beta()\n",
    "\n",
    "print(d.say())  # BETA\n"
   ]
  },
  {
   "cell_type": "code",
   "execution_count": 4,
   "id": "c7478132-cd4a-4243-b6b8-8f07e7f82b3a",
   "metadata": {
    "scrolled": true
   },
   "outputs": [
    {
     "data": {
      "text/plain": [
       "[__main__.Delta, __main__.Gamma, __main__.Beta, __main__.Alpha, object]"
      ]
     },
     "execution_count": 4,
     "metadata": {},
     "output_type": "execute_result"
    }
   ],
   "source": [
    "Delta.mro()"
   ]
  },
  {
   "cell_type": "markdown",
   "id": "b04b5505-2a88-4745-a962-3667eb6d6c95",
   "metadata": {},
   "source": [
    "1. Python sucht die say()-Methode in Delta und findet sie in Gamma.\n",
    "2. Die say()-Methode in Gamma verwendet self.value.upper(), wobei self.value das value-Attribut des aktuellen Objekts `d` ist.\n",
    "3. Da Gamma kein eigenes value-Attribut definiert hat, wird self.value entlang der MRO (Method Resolution Order) des Objekts `d` gesucht.\n",
    "4. Die MRO von Delta ist [Delta, Gamma, Beta, Alpha, object]. Python durchsucht diese Reihenfolge und findet das value-Attribut in Beta, das als \"Beta\" definiert ist.\n",
    "5. Daher ist self.value \"Beta\" und self.value.upper() gibt \"BETA\" zurück.\n",
    "\n",
    "Zusammengefasst könnte man umgangssprachlich sagen, dass Delta sich die benötigten Attribute über seine MRO zusammensucht."
   ]
  },
  {
   "cell_type": "code",
   "execution_count": null,
   "id": "349838cd-0e99-452d-b87a-39c78f7ba6a2",
   "metadata": {},
   "outputs": [],
   "source": []
  },
  {
   "cell_type": "code",
   "execution_count": null,
   "id": "d9de512c-af3d-4a12-95b0-f1fb6aa0fa76",
   "metadata": {},
   "outputs": [],
   "source": []
  }
 ],
 "metadata": {
  "kernelspec": {
   "display_name": "Python 3 (ipykernel)",
   "language": "python",
   "name": "python3"
  },
  "language_info": {
   "codemirror_mode": {
    "name": "ipython",
    "version": 3
   },
   "file_extension": ".py",
   "mimetype": "text/x-python",
   "name": "python",
   "nbconvert_exporter": "python",
   "pygments_lexer": "ipython3",
   "version": "3.12.4"
  }
 },
 "nbformat": 4,
 "nbformat_minor": 5
}
