{
 "cells": [
  {
   "cell_type": "markdown",
   "id": "fab29df1-a40c-4c27-bd5c-122d85e0392a",
   "metadata": {},
   "source": [
    "# `__class__`"
   ]
  },
  {
   "cell_type": "code",
   "execution_count": null,
   "id": "5c629422-d07e-433d-b334-ed751106b6eb",
   "metadata": {},
   "outputs": [],
   "source": []
  }
 ],
 "metadata": {
  "kernelspec": {
   "display_name": "Python 3 (ipykernel)",
   "language": "python",
   "name": "python3"
  },
  "language_info": {
   "codemirror_mode": {
    "name": "ipython",
    "version": 3
   },
   "file_extension": ".py",
   "mimetype": "text/x-python",
   "name": "python",
   "nbconvert_exporter": "python",
   "pygments_lexer": "ipython3",
   "version": "3.12.4"
  }
 },
 "nbformat": 4,
 "nbformat_minor": 5
}
