{
 "cells": [
  {
   "cell_type": "markdown",
   "id": "b8865830-085e-4d06-8f89-f12ab314bf4d",
   "metadata": {},
   "source": [
    "[Zurück zum Inhaltsverzeichnis](_Inhaltsverzeichnis_.ipynb)"
   ]
  },
  {
   "cell_type": "markdown",
   "id": "76300893-ba1d-4bc7-b5f6-49fcbf455946",
   "metadata": {},
   "source": [
    "## Generelles zu Listen"
   ]
  },
  {
   "cell_type": "code",
   "execution_count": null,
   "id": "e915eb61-626b-4da9-bdfd-210ff23114a1",
   "metadata": {},
   "outputs": [],
   "source": [
    "Syntax:\n",
    " copy paste 03.05"
   ]
  },
  {
   "cell_type": "code",
   "execution_count": null,
   "id": "ebb516bf-8958-4d84-a1a7-9b6aebec39ce",
   "metadata": {},
   "outputs": [],
   "source": [
    "Slice Syntax = liste[INDEX:INDEX:STEP KEIN INDEX]"
   ]
  },
  {
   "cell_type": "code",
   "execution_count": 127,
   "id": "6a2031ce-669c-4609-a3d3-bc171e791c08",
   "metadata": {
    "tags": []
   },
   "outputs": [
    {
     "name": "stdout",
     "output_type": "stream",
     "text": [
      "[1, 2, 3] ['H', 'a', 'l', 'l', 'o']\n"
     ]
    }
   ],
   "source": [
    "liste1 = [1,2,3] # Listen-Literal\n",
    "\n",
    "liste2 = list(\"Hallo\") # Erstellen mit \"init/Constructor\"\n",
    "\n",
    "print(liste1,liste2)"
   ]
  },
  {
   "cell_type": "code",
   "execution_count": 128,
   "id": "ae41b334-78f9-4d07-a1d7-50c1d3d31499",
   "metadata": {
    "tags": []
   },
   "outputs": [
    {
     "data": {
      "text/plain": [
       "tuple"
      ]
     },
     "execution_count": 128,
     "metadata": {},
     "output_type": "execute_result"
    }
   ],
   "source": [
    "tuple1 = 1,2,3\n",
    "type(tuple1)"
   ]
  },
  {
   "cell_type": "code",
   "execution_count": 129,
   "id": "b6c6a96e-9486-479d-b555-91fb30455ba4",
   "metadata": {
    "tags": []
   },
   "outputs": [],
   "source": [
    "liste3 = list(tuple1) # Verwandelt Tupel in Liste, so wie int einen String in einen Integer umwandelt."
   ]
  },
  {
   "cell_type": "code",
   "execution_count": 130,
   "id": "eb73c605-a961-47d3-a543-17e4d6add956",
   "metadata": {
    "tags": []
   },
   "outputs": [
    {
     "data": {
      "text/plain": [
       "[1, 2, 3]"
      ]
     },
     "execution_count": 130,
     "metadata": {},
     "output_type": "execute_result"
    }
   ],
   "source": [
    "liste3"
   ]
  },
  {
   "cell_type": "code",
   "execution_count": 107,
   "id": "afcd07ff-d7af-4f3a-90ce-91ff540b0aef",
   "metadata": {
    "tags": []
   },
   "outputs": [
    {
     "data": {
      "text/plain": [
       "42"
      ]
     },
     "execution_count": 107,
     "metadata": {},
     "output_type": "execute_result"
    }
   ],
   "source": [
    "int(\"42\")"
   ]
  },
  {
   "cell_type": "markdown",
   "id": "2f879dda-da2f-4f4c-b508-67aea2877b83",
   "metadata": {},
   "source": [
    "Indizieren (den Index der Liste nutzen um bestimmte Dinge zu machen...)"
   ]
  },
  {
   "cell_type": "code",
   "execution_count": 109,
   "id": "fa4063e3-6b6d-40bf-823b-3e87ec2f7495",
   "metadata": {
    "tags": []
   },
   "outputs": [
    {
     "data": {
      "text/plain": [
       "[1, 2, 3]"
      ]
     },
     "execution_count": 109,
     "metadata": {},
     "output_type": "execute_result"
    }
   ],
   "source": [
    "liste1"
   ]
  },
  {
   "cell_type": "code",
   "execution_count": 131,
   "id": "c7afbf6e-5ea9-4a4d-a39b-3faacba35ae4",
   "metadata": {
    "tags": []
   },
   "outputs": [
    {
     "data": {
      "text/plain": [
       "1"
      ]
     },
     "execution_count": 131,
     "metadata": {},
     "output_type": "execute_result"
    }
   ],
   "source": [
    "liste1[0] # geh in liste1 an die Indexstelle 0 => erstes Element"
   ]
  },
  {
   "cell_type": "code",
   "execution_count": 112,
   "id": "24c5a9ef-4a18-4dcb-a64d-dbdf1b57bda8",
   "metadata": {
    "tags": []
   },
   "outputs": [
    {
     "data": {
      "text/plain": [
       "2"
      ]
     },
     "execution_count": 112,
     "metadata": {},
     "output_type": "execute_result"
    }
   ],
   "source": [
    "liste1[1]"
   ]
  },
  {
   "cell_type": "code",
   "execution_count": 113,
   "id": "e3ecaa07-2a71-408e-b279-6be03e39c524",
   "metadata": {
    "tags": []
   },
   "outputs": [
    {
     "data": {
      "text/plain": [
       "3"
      ]
     },
     "execution_count": 113,
     "metadata": {},
     "output_type": "execute_result"
    }
   ],
   "source": [
    "liste1[2]"
   ]
  },
  {
   "cell_type": "code",
   "execution_count": 132,
   "id": "cee45d5c-bf77-4209-a371-08270d8d7e4e",
   "metadata": {
    "tags": []
   },
   "outputs": [
    {
     "ename": "IndexError",
     "evalue": "list index out of range",
     "output_type": "error",
     "traceback": [
      "\u001b[1;31m---------------------------------------------------------------------------\u001b[0m",
      "\u001b[1;31mIndexError\u001b[0m                                Traceback (most recent call last)",
      "Cell \u001b[1;32mIn[132], line 1\u001b[0m\n\u001b[1;32m----> 1\u001b[0m \u001b[43mliste1\u001b[49m\u001b[43m[\u001b[49m\u001b[38;5;241;43m3\u001b[39;49m\u001b[43m]\u001b[49m \u001b[38;5;66;03m# Wenn man auf Element einer Sequenz über einen Index zugreift, den es nicht gibt\u001b[39;00m\n",
      "\u001b[1;31mIndexError\u001b[0m: list index out of range"
     ]
    }
   ],
   "source": [
    "liste1[3] # Wenn man auf Element einer Sequenz über einen Index zugreift, den es nicht gibt"
   ]
  },
  {
   "cell_type": "code",
   "execution_count": 115,
   "id": "91eab4d7-3ced-489e-ba4f-e53ebd12f97c",
   "metadata": {
    "tags": []
   },
   "outputs": [
    {
     "data": {
      "text/plain": [
       "3"
      ]
     },
     "execution_count": 115,
     "metadata": {},
     "output_type": "execute_result"
    }
   ],
   "source": [
    "liste1[-1]"
   ]
  },
  {
   "cell_type": "code",
   "execution_count": 116,
   "id": "82bddc00-aa83-4516-9435-92889f7d1f36",
   "metadata": {
    "tags": []
   },
   "outputs": [
    {
     "data": {
      "text/plain": [
       "3"
      ]
     },
     "execution_count": 116,
     "metadata": {},
     "output_type": "execute_result"
    }
   ],
   "source": [
    "liste1[len(liste1)-1]"
   ]
  },
  {
   "cell_type": "code",
   "execution_count": 117,
   "id": "6ac17c16-7be0-4045-9a4b-bd12cda42bc5",
   "metadata": {
    "tags": []
   },
   "outputs": [],
   "source": [
    "liste1 = liste1+[4,5,6] # Konkatenation list + list, oder str+str, tuple +tuple"
   ]
  },
  {
   "cell_type": "code",
   "execution_count": 118,
   "id": "3a39d758-439a-4469-b272-f80a455a5529",
   "metadata": {
    "tags": []
   },
   "outputs": [
    {
     "data": {
      "text/plain": [
       "[1, 2, 3, 4, 5, 6]"
      ]
     },
     "execution_count": 118,
     "metadata": {},
     "output_type": "execute_result"
    }
   ],
   "source": [
    "liste1"
   ]
  },
  {
   "cell_type": "code",
   "execution_count": 121,
   "id": "94d66845-4b73-4f5e-acc1-3faf485926fd",
   "metadata": {
    "tags": []
   },
   "outputs": [
    {
     "data": {
      "text/plain": [
       "(6, 6)"
      ]
     },
     "execution_count": 121,
     "metadata": {},
     "output_type": "execute_result"
    }
   ],
   "source": [
    "liste1[-1], liste1[5]"
   ]
  },
  {
   "cell_type": "code",
   "execution_count": 120,
   "id": "590f7a89-e4f8-49ea-b3af-caee7548d557",
   "metadata": {
    "tags": []
   },
   "outputs": [
    {
     "data": {
      "text/plain": [
       "6"
      ]
     },
     "execution_count": 120,
     "metadata": {},
     "output_type": "execute_result"
    }
   ],
   "source": [
    "liste1[len(liste1)-1]"
   ]
  },
  {
   "cell_type": "code",
   "execution_count": 122,
   "id": "40f29554-6f6c-40ec-bc38-f0a6c5b4e510",
   "metadata": {
    "tags": []
   },
   "outputs": [
    {
     "data": {
      "text/plain": [
       "4"
      ]
     },
     "execution_count": 122,
     "metadata": {},
     "output_type": "execute_result"
    }
   ],
   "source": [
    "liste1[-3]"
   ]
  },
  {
   "cell_type": "code",
   "execution_count": 126,
   "id": "a6f39083-985e-4ca6-bf9a-8eeebd17bd32",
   "metadata": {
    "tags": []
   },
   "outputs": [
    {
     "data": {
      "text/plain": [
       "1"
      ]
     },
     "execution_count": 126,
     "metadata": {},
     "output_type": "execute_result"
    }
   ],
   "source": [
    "liste1[-len(liste1)] # erstes Element einer nichtleeren Liste"
   ]
  },
  {
   "cell_type": "code",
   "execution_count": 125,
   "id": "6a920ffa-ce5f-4fec-b0f1-2d70be5fc151",
   "metadata": {
    "scrolled": true,
    "tags": []
   },
   "outputs": [
    {
     "data": {
      "text/plain": [
       "1"
      ]
     },
     "execution_count": 125,
     "metadata": {},
     "output_type": "execute_result"
    }
   ],
   "source": [
    "liste1[0] "
   ]
  },
  {
   "cell_type": "code",
   "execution_count": 1,
   "id": "cb8be441-4e14-43fc-8b79-d800a65565f2",
   "metadata": {
    "tags": []
   },
   "outputs": [],
   "source": [
    "liste = [\"Phil\", \"Anna\", \"Frank\", \"Mary\"]"
   ]
  },
  {
   "cell_type": "code",
   "execution_count": 2,
   "id": "d3c99646-d25a-4c0e-b174-f11efbd508a3",
   "metadata": {
    "tags": []
   },
   "outputs": [
    {
     "data": {
      "text/plain": [
       "'Phil'"
      ]
     },
     "execution_count": 2,
     "metadata": {},
     "output_type": "execute_result"
    }
   ],
   "source": [
    "# Indizieren \n",
    "liste[0]"
   ]
  },
  {
   "cell_type": "markdown",
   "id": "eaf82238-b5f0-45d1-8af1-6073e679321c",
   "metadata": {},
   "source": [
    "Item Assignment\n",
    "```python\n",
    "liste[0] = WERT\n",
    "```\n",
    "\n",
    "bedeutet, wir wollen einen WERT in die Liste an Index 0 einfügen.\n",
    "\n",
    "Das einfügen rührt von `=`\n"
   ]
  },
  {
   "cell_type": "code",
   "execution_count": 3,
   "id": "1e651939-8ab3-462c-b154-ea044bcc40ef",
   "metadata": {
    "tags": []
   },
   "outputs": [],
   "source": [
    "# Ändern einzelner Werte mit Item Assignment \n",
    "liste[0] = 42"
   ]
  },
  {
   "cell_type": "code",
   "execution_count": 4,
   "id": "4e8c36ba-6af8-4085-8eb6-9fdc568cb61a",
   "metadata": {
    "tags": []
   },
   "outputs": [
    {
     "data": {
      "text/plain": [
       "[42, 'Anna', 'Frank', 'Mary']"
      ]
     },
     "execution_count": 4,
     "metadata": {},
     "output_type": "execute_result"
    }
   ],
   "source": [
    "liste"
   ]
  },
  {
   "cell_type": "markdown",
   "id": "2f74ff30-d748-460c-9fe0-7fea2bd4b654",
   "metadata": {},
   "source": [
    "Merke `item assignment` lässt die Länge der Liste unangetastet.\n",
    "\n",
    "Ersetze alten Wert durch neuen Wert"
   ]
  },
  {
   "cell_type": "code",
   "execution_count": 5,
   "id": "462591de-d308-499e-93d9-783a011de520",
   "metadata": {
    "tags": []
   },
   "outputs": [],
   "source": [
    "liste[0] = \"Phil\""
   ]
  },
  {
   "cell_type": "code",
   "execution_count": 6,
   "id": "0ce898f6-de26-4c78-88f0-67b9c1b3ca44",
   "metadata": {
    "tags": []
   },
   "outputs": [
    {
     "data": {
      "text/plain": [
       "['Phil', 'Anna', 'Frank', 'Mary']"
      ]
     },
     "execution_count": 6,
     "metadata": {},
     "output_type": "execute_result"
    }
   ],
   "source": [
    "liste"
   ]
  },
  {
   "cell_type": "code",
   "execution_count": 7,
   "id": "4529c6b2-57b3-4a4f-93c9-6098e85f839b",
   "metadata": {
    "tags": []
   },
   "outputs": [],
   "source": [
    "# Slicen"
   ]
  },
  {
   "cell_type": "code",
   "execution_count": 8,
   "id": "869a54d6-a7a8-4984-a9ee-5e991edfd672",
   "metadata": {
    "tags": []
   },
   "outputs": [
    {
     "data": {
      "text/plain": [
       "['Anna', 'Frank']"
      ]
     },
     "execution_count": 8,
     "metadata": {},
     "output_type": "execute_result"
    }
   ],
   "source": [
    "liste[1:3]  # Von Element an INdex 1 bis VOR Element an INdex 3"
   ]
  },
  {
   "cell_type": "markdown",
   "id": "8fa45861-75e2-4a68-a1ec-2fe883493216",
   "metadata": {},
   "source": [
    "```python\n",
    "['Phil', 'Anna', 'Frank', 'Mary']\n",
    "   0,      1,      2,       3\n",
    "    \n",
    "```"
   ]
  },
  {
   "cell_type": "code",
   "execution_count": 9,
   "id": "d1740d6a-4a02-4c15-a01f-9881dec6dd43",
   "metadata": {
    "tags": []
   },
   "outputs": [
    {
     "data": {
      "text/plain": [
       "['Anna', 'Frank', 'Mary']"
      ]
     },
     "execution_count": 9,
     "metadata": {},
     "output_type": "execute_result"
    }
   ],
   "source": [
    "liste[1:]# ab 1 bis inklusive ENDE\n"
   ]
  },
  {
   "cell_type": "code",
   "execution_count": 10,
   "id": "e254634c-ccef-4b31-bfdf-dcb95704da2d",
   "metadata": {
    "tags": []
   },
   "outputs": [
    {
     "data": {
      "text/plain": [
       "['Anna', 'Frank', 'Mary']"
      ]
     },
     "execution_count": 10,
     "metadata": {},
     "output_type": "execute_result"
    }
   ],
   "source": [
    "liste[1:4]#"
   ]
  },
  {
   "cell_type": "code",
   "execution_count": 11,
   "id": "cfd4235b-efd5-46a5-be2f-93ea2d35fa72",
   "metadata": {
    "tags": []
   },
   "outputs": [
    {
     "data": {
      "text/plain": [
       "['Anna', 'Frank', 'Mary']"
      ]
     },
     "execution_count": 11,
     "metadata": {},
     "output_type": "execute_result"
    }
   ],
   "source": [
    "liste[1:len(liste)]"
   ]
  },
  {
   "cell_type": "code",
   "execution_count": 14,
   "id": "6cb39815-ab74-4fb5-9070-c1fcd4d2f32a",
   "metadata": {
    "tags": []
   },
   "outputs": [],
   "source": [
    "liste =['Phil', 'Anna', 'Frank', 'Mary']\n",
    "\n",
    "a = liste[:]\n",
    "b = liste[0:len(liste)]\n",
    "\n",
    "# Der Code auf rechter Seite von a  und b produziert das gleiche ergebnis"
   ]
  },
  {
   "cell_type": "markdown",
   "id": "2bcdd73c-4961-4a79-a963-fae49d260b5d",
   "metadata": {},
   "source": [
    "## Zuweiseung von Listen:"
   ]
  },
  {
   "cell_type": "code",
   "execution_count": 16,
   "id": "7d0a931b-4f7e-4dbd-83f2-91dc7d98d9dc",
   "metadata": {},
   "outputs": [
    {
     "name": "stdout",
     "output_type": "stream",
     "text": [
      "[1]\n",
      "[]\n"
     ]
    }
   ],
   "source": [
    "nums = []\n",
    "vals = nums [:]\n",
    "vals.append(1)\n",
    "print(vals)\n",
    "print(nums)"
   ]
  },
  {
   "cell_type": "markdown",
   "id": "9a32c8f5-442e-4f2f-8b7c-4966c38fe5fe",
   "metadata": {},
   "source": [
    "[Python tutor Link:](https://pythontutor.com/render.html#code=nums%20%3D%20%5B%5D%0Avals%20%3D%20nums%5B%3A%5D%0Avals.append%281%29%0Aprint%28vals%29%0Aprint%28nums%29&cumulative=false&curInstr=0&heapPrimitives=nevernest&mode=display&origin=opt-frontend.js&py=3&rawInputLstJSON=%5B%5D&textReferences=false)"
   ]
  },
  {
   "cell_type": "markdown",
   "id": "7c7ac0e3-539a-46fe-834a-81d9a19fd90a",
   "metadata": {
    "jp-MarkdownHeadingCollapsed": true
   },
   "source": [
    "Erklärung:\n",
    "\n",
    "nums und vals scheinen zwei völlig unterschiedliche Listen zu sein. Vielleicht ist vals durch das kopieren von nums entstanden, aber jetzt sind zwei getrennte Listen."
   ]
  }
 ],
 "metadata": {
  "kernelspec": {
   "display_name": "Python 3 (ipykernel)",
   "language": "python",
   "name": "python3"
  },
  "language_info": {
   "codemirror_mode": {
    "name": "ipython",
    "version": 3
   },
   "file_extension": ".py",
   "mimetype": "text/x-python",
   "name": "python",
   "nbconvert_exporter": "python",
   "pygments_lexer": "ipython3",
   "version": "3.12.3"
  }
 },
 "nbformat": 4,
 "nbformat_minor": 5
}
