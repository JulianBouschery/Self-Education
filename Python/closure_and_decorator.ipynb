{
 "cells": [
  {
   "cell_type": "markdown",
   "id": "5a85e42b-63bd-4f6e-b0da-cd1dab4833da",
   "metadata": {},
   "source": [
    "# closures und Herleitung von Dekoratoren"
   ]
  },
  {
   "cell_type": "markdown",
   "id": "3be75e40-d3c2-4532-96b8-2fcd57a972fa",
   "metadata": {},
   "source": [
    "- Was passiert? (Funktion erklären)\n",
    "- Was ist das? (Definition formulieren)\n",
    "- Warum / Wie funktioniert das? (Hintergründe und Details)\n",
    "  All, das Hand von sehr vielen Beispielen erklären"
   ]
  },
  {
   "cell_type": "markdown",
   "id": "2104d6d3-894a-4406-9df3-9bd44a2b013e",
   "metadata": {
    "jp-MarkdownHeadingCollapsed": true
   },
   "source": [
    "## Was passiert? (Funktion erklären)"
   ]
  },
  {
   "cell_type": "markdown",
   "id": "5ba6eb14-e8bb-4992-b775-9140f9646abf",
   "metadata": {},
   "source": [
    "Beispiel:"
   ]
  },
  {
   "cell_type": "code",
   "execution_count": 9,
   "id": "25e383f5-75f7-46e1-8e16-ff8ef372c7ca",
   "metadata": {},
   "outputs": [
    {
     "name": "stdout",
     "output_type": "stream",
     "text": [
      "15\n"
     ]
    }
   ],
   "source": [
    "def äußere_funktion(x):\n",
    "    def innere_funktion(y):\n",
    "        return x + y\n",
    "    return innere_funktion\n",
    "\n",
    "closure = äußere_funktion(10)\n",
    "print(closure(5))"
   ]
  },
  {
   "cell_type": "markdown",
   "id": "e1965379-c3fb-42ab-b177-c2057d618a2d",
   "metadata": {},
   "source": [
    "[Code im Pythontutor](https://pythontutor.com/render.html#code=def%20%C3%A4u%C3%9Fere_funktion%28x%29%3A%0A%20%20%20%20def%20innere_funktion%28y%29%3A%0A%20%20%20%20%20%20%20%20return%20x%20%2B%20y%0A%20%20%20%20return%20innere_funktion%0A%0Aclosure%20%3D%20%C3%A4u%C3%9Fere_funktion%2810%29%0Aprint%28closure%285%29%29%20%20%23%20Ausgabe%3A%2015&cumulative=false&curInstr=0&heapPrimitives=nevernest&mode=display&origin=opt-frontend.js&py=3&rawInputLstJSON=%5B%5D&textReferences=false)"
   ]
  },
  {
   "cell_type": "markdown",
   "id": "cd60a647-e3b0-4a63-9e22-51441d1fc6bf",
   "metadata": {},
   "source": [
    "#### Analyes"
   ]
  },
  {
   "cell_type": "markdown",
   "id": "1e4477f6-6cda-4c04-9158-f6f50bb94ae8",
   "metadata": {},
   "source": [
    "[Code samt Erklärung im Pythontutor](https://pythontutor.com/visualize.html#code=%23%201.%20Ausgangssituation%20im%20Pythontutor%0A%23%202.%20Die%20%28%C3%A4u%C3%9Fere%29%20Funktion%20wird%20definiert%0A%0Adef%20%C3%A4u%C3%9Fere_funktion%28x%29%3A%20%23%204.%20Die%20Funktion%20wird%20aufgerufen%0A%20%20%20%20%0A%20%20%20%20def%20innere_funktion%28y%29%3A%20%23%205.%20Python%20versucht%20die%20innere%20Funktion%20auszuf%C3%BChren,%20merkt%20aber,%20dass%20daf%C3%BCr%20ein%20Argument%20fehlt.%20%20%0A%20%20%20%20%20%20%20%20%20%20%20%20%20%20%20%20%20%20%20%20%20%20%20%20%20%20%20%20%23%209.%20Das%20Argument%20wird%20der%20inneren%20Funktion%20%C3%BCbergeben.%20Jetzt%20stimmen%20alle%20Vorraussetungen%20%0A%20%20%20%20%20%20%20%20%0A%20%20%20%20%20%20%20%20return%20x%20%2B%20y%20%20%20%20%20%20%20%20%23%2010.%20Die%20innere%20Funktion%20returned%20das%20Ergbenis%0A%20%20%20%20%20%20%20%20%0A%20%20%20%20return%20innere_funktion%20%23%206.%20Python%20%C3%BCberspringt%20die%20innere%20Funktion%20und%20RETURNED%20die%20Funktion%20%22innere_funktion%22%20selbst%0A%20%20%20%20%20%20%20%20%20%20%20%20%20%20%20%20%20%20%20%20%20%20%20%20%20%20%20%23%20Das%20ist%20ein%20bisschen%20wie%20if,%20else...%0A%20%20%20%20%20%20%20%20%20%20%20%20%20%20%20%20%20%20%20%20%20%20%20%20%20%20%20%23%20if%3A%20%28wenn%20du%20x%20UND%20y%20hast%20f%C3%BChre%20die%20Funktion%20aus%20und%20returne%20das%20Ergebnis%29%0A%20%20%20%20%20%20%20%20%20%20%20%20%20%20%20%20%20%20%20%20%20%20%20%20%20%20%20%23%20else%3A%20%C3%9Cberspring%20die%20Funktion%20und%20returne%20die%20Funktion%20selbst%0A%0Aclosure%20%3D%20%C3%A4u%C3%9Fere_funktion%2810%29%20%23%203.%20Der%20VARIABLE%20%22closure%22%20wird%20die%20%C3%A4u%C3%9Fere%20Funktion%20mit%20dem%20Argument%2010%20ZUGEWIESEN%0A%20%20%20%20%20%20%20%20%20%20%20%20%20%20%20%20%20%20%20%20%20%20%20%20%20%20%20%20%20%20%23%207.%20Python%20springt%20wieder%20zum%20Aufruf%20der%20Funktion%20zur%C3%BCck%0A%0Aprint%28closure%285%29%29%20%23%208.%20closure%20wird%20als%20FUNKTION%20mit%20einem%20Argument%20aufgerufen%0A%20%20%20%20%20%20%20%20%20%20%20%20%20%20%20%20%20%20%23%2011.%20Das%20Ergebnis%20wird%20gedruckt&cumulative=false&heapPrimitives=nevernest&mode=edit&origin=opt-frontend.js&py=3&rawInputLstJSON=%5B%5D&textReferences=false)"
   ]
  },
  {
   "cell_type": "code",
   "execution_count": 8,
   "id": "fc67d519-4edd-4e49-904b-fa86e4c1fb60",
   "metadata": {},
   "outputs": [
    {
     "name": "stdout",
     "output_type": "stream",
     "text": [
      "15\n"
     ]
    }
   ],
   "source": [
    "# 1. Ausgangssituation im Pythontutor\n",
    "# 2. Die (äußere) Funktion wird definiert\n",
    "\n",
    "def äußere_funktion(x): # 4. Die Funktion wird aufgerufen\n",
    "    \n",
    "    def innere_funktion(y): # 5. Python versucht die innere Funktion auszuführen, merkt aber, dass dafür ein Argument fehlt.  \n",
    "                            # 9. Das Argument wird der inneren Funktion übergeben. Jetzt stimmen alle Vorraussetungen \n",
    "        \n",
    "        return x + y        # 10. Die innere Funktion returned das Ergbenis\n",
    "        \n",
    "    return innere_funktion # 6. Python überspringt die innere Funktion und RETURNED die Funktion \"innere_funktion\" selbst\n",
    "                           # Das ist ein bisschen wie if, else...\n",
    "                           # if: (wenn du x UND y hast führe die Funktion aus und returne das Ergebnis)\n",
    "                           # else: Überspring die Funktion und returne die Funktion selbst\n",
    "\n",
    "closure = äußere_funktion(10) # 3. Der VARIABLE \"closure\" wird die äußere Funktion mit dem Argument 10 ZUGEWIESEN\n",
    "                              # 7. Python springt wieder zum Aufruf der Funktion zurück\n",
    "\n",
    "print(closure(5)) # 8. closure wird als FUNKTION mit einem Argument aufgerufen\n",
    "                  # 11. Das Ergebnis wird gedruckt"
   ]
  },
  {
   "cell_type": "markdown",
   "id": "260330ee-9466-4922-aa61-c2e32c9786aa",
   "metadata": {},
   "source": [
    "Dieses Konsturkt kommt mir fast wie der Mechanismus in einer Spielzeugarmbrust vor. Man baut das Ding zusammen, lädt ein Argument wie einen von diesen Pfeilen mit Saugnapf, spannt die Sehne (innere_funktion) und sobald man `closure()` mit einem Argument aufruft wird der methaphorische \"Abzug\" gedrückt und man bekommt das, wofür das Konstrukt geschrieben wurde. "
   ]
  },
  {
   "cell_type": "markdown",
   "id": "117b0595-8745-4cd8-b854-a9eed69a21bf",
   "metadata": {},
   "source": [
    "Ok, ich verstehe jetzt wie es funktioniert, aber was genau ist das?"
   ]
  },
  {
   "cell_type": "markdown",
   "id": "a7930f4a-b53a-4c70-89df-17a38a688e07",
   "metadata": {
    "jp-MarkdownHeadingCollapsed": true
   },
   "source": [
    "## Definition"
   ]
  },
  {
   "cell_type": "markdown",
   "id": "6b9d197d-be63-4357-ab66-9c6ea02ec3e6",
   "metadata": {},
   "source": [
    "Kurz gesagt: Ein Closure ermöglicht es einer inneren Funktion, auf Variablen der äußeren Funktion zuzugreifen, auch wenn die äußere Funktion schon beendet ist.\n",
    "\n",
    "Funktion innerhalb einer Funktion: \n",
    "- Ein Closure entsteht durch eine innere Funktion, die innerhalb einer äußeren Funktion definiert ist.\n",
    "\n",
    "Zugriff auf äußere Variablen:\n",
    "- Die innere Funktion hat Zugriff auf die Variablen der äußeren Funktion, selbst nachdem die äußere Funktion beendet wurde.\n",
    "\n",
    "Erhalten des Zustands: \n",
    "- Ein Closure \"erinnert\" sich an den Zustand der Variablen zum Zeitpunkt der Erstellung.\n"
   ]
  },
  {
   "cell_type": "markdown",
   "id": "cddbdd17-c6b9-46d4-9bcc-dcbbbbc24463",
   "metadata": {},
   "source": [
    "### Detailierte Erklärung:"
   ]
  },
  {
   "cell_type": "markdown",
   "id": "76ffd9c6-a8e4-400a-9e6b-afb213a27213",
   "metadata": {},
   "source": [
    "Wie funktionieren Closures?\n",
    "Unter der Haube speichert Python eine Referenz auf die Variablen im äußeren Gültigkeitsbereich, sodass die innere Funktion diese weiterhin verwenden kann. Dies geschieht durch einen speziellen \"closure\"-Mechanismus."
   ]
  },
  {
   "cell_type": "markdown",
   "id": "fbadf6b1-23a5-4225-8c5a-26e33d6509a5",
   "metadata": {},
   "source": [
    "Ein Closure ist ein Konzept in der Programmierung, das auftritt, wenn eine Funktion auf ihre Umgebungsvariablen (Variablen, die nicht lokal in der Funktion, sondern im äußeren Gültigkeitsbereich definiert sind) zugreifen kann, nachdem dieser äußere Gültigkeitsbereich beendet wurde."
   ]
  },
  {
   "cell_type": "markdown",
   "id": "d5cc6da4-f37e-476c-adc2-7be0ff57be16",
   "metadata": {
    "jp-MarkdownHeadingCollapsed": true
   },
   "source": [
    "## Definition des Gültigkeitsbereichs"
   ]
  },
  {
   "cell_type": "markdown",
   "id": "5cc50f49-00ee-415b-9bc7-e137e237708b",
   "metadata": {},
   "source": [
    "Der äußere Gültigkeitsbereich (oder äußere Scope) bezieht sich in der Regel auf den Gültigkeitsbereich, **in dem eine innere Funktion** definiert ist. Dies kann sowohl der lokale Gültigkeitsbereich einer äußeren Funktion als auch der globale Namensraum sein, je nachdem, **wo sich die innere Funktion** befindet.\n",
    "\n",
    "Hier sind die Beispiele sich für beide Fälle:"
   ]
  },
  {
   "cell_type": "markdown",
   "id": "34c25d9d-9a27-4869-ac60-02836302d1b1",
   "metadata": {},
   "source": [
    "#### 1. Äußerer Gültigkeitsbereich == innerhalb der äußeren Funktion"
   ]
  },
  {
   "cell_type": "markdown",
   "id": "d5f1349f-40de-4e03-91d4-ec8025a844f3",
   "metadata": {},
   "source": [
    "Wenn eine innere Funktion innerhalb einer äußeren Funktion definiert ist, bezieht sich der äußere Gültigkeitsbereich auf die lokale Variable der äußeren Funktion."
   ]
  },
  {
   "cell_type": "code",
   "execution_count": 15,
   "id": "5c63e3b9-89c3-42e3-9657-854f26911dbb",
   "metadata": {},
   "outputs": [
    {
     "name": "stdout",
     "output_type": "stream",
     "text": [
      "15\n"
     ]
    }
   ],
   "source": [
    "def äußere_funktion(x): \n",
    "    #\n",
    "    # äußerer Gültigkeitsbereich\n",
    "    #\n",
    "    def innere_funktion(y):\n",
    "        #\n",
    "        # innerer Gültigkeitsbereich\n",
    "        #\n",
    "        return x + y\n",
    "    #\n",
    "    # äußerer Gültigkeitsbereich\n",
    "    #    \n",
    "    return innere_funktion\n",
    "#\n",
    "# globaler Namensraum\n",
    "#\n",
    "closure = äußere_funktion(10)\n",
    "print(closure(5))  # Ausgabe: 15\n"
   ]
  },
  {
   "cell_type": "markdown",
   "id": "5fc28f84-fdbf-4e74-9253-aa4efe19c983",
   "metadata": {},
   "source": [
    "- Die `äußere_funktion` ist die äußere Funktion.\n",
    "- `x` ist die Variable im äußeren Gültigkeitsbereich, auf die `innere_funktion` zugreift."
   ]
  },
  {
   "cell_type": "markdown",
   "id": "3d6b16eb-b7ba-47be-b321-03309478b151",
   "metadata": {},
   "source": [
    "#### 2.  Äußerer Gültigkeitsbereich == globaler Namensraum"
   ]
  },
  {
   "cell_type": "markdown",
   "id": "139fe917-8a40-4ba0-9b66-a8a1807d15d5",
   "metadata": {},
   "source": [
    "Wenn keine äußere Funktion existiert, aber eine Funktion auf globale Variablen zugreift, dann ist der äußere Gültigkeitsbereich der globale Namensraum."
   ]
  },
  {
   "cell_type": "code",
   "execution_count": 12,
   "id": "46c219d2-46c8-44e8-8bd9-f17686c6085d",
   "metadata": {},
   "outputs": [
    {
     "name": "stdout",
     "output_type": "stream",
     "text": [
      "15\n"
     ]
    }
   ],
   "source": [
    "x = 10\n",
    "#\n",
    "# äußerer Gültigkeitsbereich\n",
    "#\n",
    "def äußere_funktion(y):\n",
    "    #\n",
    "    # innerer Gültigkeitsbereich\n",
    "    #\n",
    "    return x + y\n",
    "#\n",
    "# äußerer Gültigkeitsbereich\n",
    "#\n",
    "print(äußere_funktion(5))"
   ]
  },
  {
   "cell_type": "markdown",
   "id": "dccacead-a610-4de5-ac91-3201da148d23",
   "metadata": {},
   "source": [
    "- `x` ist eine globale Variable.\n",
    "- Die `äußere_funktion` greift auf `x` zu, OBWOHL `x` im globalen Namensraum definiert ist."
   ]
  },
  {
   "cell_type": "markdown",
   "id": "aacb76a8-44ef-4b76-bf5e-303aef0afc4c",
   "metadata": {
    "jp-MarkdownHeadingCollapsed": true
   },
   "source": [
    "## Closures"
   ]
  },
  {
   "cell_type": "markdown",
   "id": "72fc51b8-011f-4ea3-bf08-a22c055241a2",
   "metadata": {},
   "source": [
    "[Beispiel Closure](https://pythontutor.com/render.html#code=def%20%C3%A4u%C3%9Fere_funktion%28funky%29%3A%0A%20%20%20%20def%20innere_funktion%28y%29%3A%0A%20%20%20%20%20%20%20%20print%28'Die%20innere%20Funktion%20macht%20wichtige%20Dinge%20bevor,%20sie%20%22meine_original_funktion%22%20aufruft.'%29%0A%20%20%20%20%20%20%20%20return%20funky%28y%29%0A%20%20%20%20return%20innere_funktion%0A%0A%20%0Adef%20meine_original_funktion%28arg%29%3A%0A%20%20%20%20print%28f'%7Barg%20%3D%20%7D%20Dieser%20Code%20steht%20in%20%22meine_original_funktion%22'%29%20%0A%20%20%20%20return%20arg**2%20%0A%0A%0Aclosure%20%3D%20%C3%A4u%C3%9Fere_funktion%28meine_original_funktion%29%0Aprint%28closure%285%29%29&cumulative=false&curInstr=0&heapPrimitives=nevernest&mode=display&origin=opt-frontend.js&py=311&rawInputLstJSON=%5B%5D&textReferences=false)"
   ]
  },
  {
   "cell_type": "code",
   "execution_count": 20,
   "id": "84c44697-3fbc-4709-94d5-982eb955f5e6",
   "metadata": {},
   "outputs": [
    {
     "name": "stdout",
     "output_type": "stream",
     "text": [
      "Die innere Funktion macht wichtige Dinge bevor, sie \"meine_original_funktion\" aufruft.\n",
      "arg = 5 Dieser Code steht in \"meine_original_funktion\"\n",
      "25\n"
     ]
    }
   ],
   "source": [
    "def äußere_funktion(funky):\n",
    "    def innere_funktion(y):\n",
    "        print('Die innere Funktion macht wichtige Dinge bevor, sie \"meine_original_funktion\" aufruft.')\n",
    "        return funky(y)\n",
    "    return innere_funktion\n",
    "\n",
    " \n",
    "def meine_original_funktion(arg):\n",
    "    print(f'{arg = } Dieser Code steht in \"meine_original_funktion\"') \n",
    "    return arg**2 \n",
    "\n",
    "\n",
    "closure = äußere_funktion(meine_original_funktion)\n",
    "print(closure(5))"
   ]
  },
  {
   "cell_type": "markdown",
   "id": "b62538e5-e793-42c9-b961-59d10999b422",
   "metadata": {},
   "source": [
    "Analysieren wir diesen Code noch einmal:"
   ]
  },
  {
   "cell_type": "code",
   "execution_count": 3,
   "id": "13997d63-47f9-4059-9cf7-4cabc833d518",
   "metadata": {},
   "outputs": [
    {
     "name": "stdout",
     "output_type": "stream",
     "text": [
      "Die innere Funktion macht wichtige Dinge bevor, sie \"meine_original_funktion\" aufruft.\n",
      "arg = 5 Dieser Code steht in \"meine_original_funktion\"\n",
      "25\n"
     ]
    }
   ],
   "source": [
    "# 1. Ausgangssituation im Pythontutor\n",
    "# 2. Die \"äußere_funktion\" wird definiert\n",
    "\n",
    "def äußere_funktion(funky): # 5. Wenn man so möchte wird der Code von \"meine_original_funktion\" unter der haube in \"funky\" gespeichert.\n",
    "    \n",
    "    def innere_funktion(y): # 6. Die äußere Funktion läuft und ruft die innere Funktion auf.\n",
    "                            # 10. Python springt zur \"innere_funktion\" hoch und übergibt das Argument\n",
    "                            # 11. Jetzt sind alle Bedingungen erfüllt und  Python printet den Text.\n",
    "        print('Die innere Funktion macht wichtige Dinge bevor, sie \"meine_original_funktion\" aufruft.')  \n",
    "        return funky(y) # 12. Dann wird die Funktion ausgeführt, die in \"funky()\" hinterlegt ist. \n",
    "                        # Das Argument wird dabei aus \"innere_funktion()\" mit übergeben. \n",
    "        # 17. und funky() gibt es wiederum an die print() zurück, wo es gedruckt wird.\n",
    "    \n",
    "    return innere_funktion # 7. \"y\" ist noch leer, deshalb überspringt Python \"funky()\" und gibt DIE FUNKTION \"innere_funktion()\" selbst zurück.\n",
    "\n",
    "# 3. \"meine_original_funktion\" wird definiert\n",
    "def meine_original_funktion(arg): # 13. Die Funktion wird mit dem Argument aufgerufen. \n",
    "    print(f'{arg = } Dieser Code steht in \"meine_original_funktion\"') # 14. printet Argument mit Text.\n",
    "    return arg**2 # 15. Python berechnet das Ergebnis. # 16. Und gibt es zurück an funky() \n",
    "\n",
    "\n",
    "closure = äußere_funktion(meine_original_funktion) # 4. Die \"äußere_funktion\" wird aufgerufen, MIT \"meine_original_funktion\" als Argument.\n",
    "print(closure(5)) \n",
    "# 8. Und jetzt achtet auf den Code im Pythontutor! Die VARIABLE \"closure\" enthielt bisher die \"äußere_funktion(meine_original_funktion)\". \n",
    "# Jetzt wurde ihr ein NEUER Wert zugewiesen!!! Die FUNKTION \"innere_funktion()\". \n",
    "# 9. Das bedeutet, wenn man \"closure()\" nun als FUNKTION und mit einem Argument aufruft, \n",
    "# wird dieses Argument sofort an die entsprechende Funktion \"innere_funktion()\" übergeben und diese Funktion dann ausgeführt.\n"
   ]
  },
  {
   "cell_type": "markdown",
   "id": "dbe76774-f7c9-4039-b26b-cbf86ff3a2a6",
   "metadata": {},
   "source": [
    "[Code mit Erklärung im Pythontutor](https://pythontutor.com/render.html#code=%23%201.%20Ausgangssituation%20im%20Pythontutor%0A%23%202.%20Die%20%22%C3%A4u%C3%9Fere_funktion%22%20wird%20definiert%0A%0Adef%20%C3%A4u%C3%9Fere_funktion%28funky%29%3A%20%23%205.%20Wenn%20man%20so%20m%C3%B6chte%20wird%20der%20Code%20von%20%22meine_original_funktion%22%20unter%20der%20haube%20in%20%22funky%22%20gespeichert.%0A%20%20%20%20%0A%20%20%20%20def%20innere_funktion%28y%29%3A%20%23%206.%20Die%20%C3%A4u%C3%9Fere%20Funktion%20l%C3%A4uft%20und%20ruft%20die%20innere%20Funktion%20auf.%0A%20%20%20%20%20%20%20%20%20%20%20%20%20%20%20%20%20%20%20%20%20%20%20%20%20%20%20%20%23%2010.%20Python%20springt%20zur%20%22innere_funktion%22%20hoch%20und%20%C3%BCbergibt%20das%20Argument%0A%20%20%20%20%20%20%20%20%20%20%20%20%20%20%20%20%20%20%20%20%20%20%20%20%20%20%20%20%23%2011.%20Jetzt%20sind%20alle%20Bedingungen%20erf%C3%BCllt%20und%20%20Python%20printet%20den%20Text.%0A%20%20%20%20%20%20%20%20print%28'Die%20innere%20Funktion%20macht%20wichtige%20Dinge%20bevor,%20sie%20%22meine_original_funktion%22%20aufruft.'%29%20%20%0A%20%20%20%20%20%20%20%20return%20funky%28y%29%20%23%2012.%20Dann%20wird%20die%20Funktion%20ausgef%C3%BChrt,%20die%20in%20%22funky%28%29%22%20hinterlegt%20ist.%20%0A%20%20%20%20%20%20%20%20%20%20%20%20%20%20%20%20%20%20%20%20%20%20%20%20%23%20Das%20Argument%20wird%20dabei%20aus%20%22innere_funktion%28%29%22%20mit%20%C3%BCbergeben.%20%0A%20%20%20%20%20%20%20%20%23%2017.%20und%20funky%28%29%20gibt%20es%20wiederum%20an%20die%20print%28%29%20zur%C3%BCck,%20wo%20es%20gedruckt%20wird.%0A%20%20%20%20%0A%20%20%20%20return%20innere_funktion%20%23%207.%20%22y%22%20ist%20noch%20leer,%20deshalb%20%C3%BCberspringt%20Python%20%22funky%28%29%22%20und%20gibt%20DIE%20FUNKTION%20%22innere_funktion%28%29%22%20selbst%20zur%C3%BCck.%0A%0A%23%203.%20%22meine_original_funktion%22%20wird%20definiert%0Adef%20meine_original_funktion%28arg%29%3A%20%23%2013.%20Die%20Funktion%20wird%20mit%20dem%20Argument%20aufgerufen.%20%0A%20%20%20%20print%28f'%7Barg%20%3D%20%7D%20Dieser%20Code%20steht%20in%20%22meine_original_funktion%22'%29%20%23%2014.%20printet%20Argument%20mit%20Text.%0A%20%20%20%20return%20arg**2%20%23%2015.%20Python%20berechnet%20das%20Ergebnis.%20%23%2016.%20Und%20gibt%20es%20zur%C3%BCck%20an%20funky%28%29%20%0A%0A%0Aclosure%20%3D%20%C3%A4u%C3%9Fere_funktion%28meine_original_funktion%29%20%23%204.%20Die%20%22%C3%A4u%C3%9Fere_funktion%22%20wird%20aufgerufen,%20MIT%20%22meine_original_funktion%22%20als%20Argument.%0Aprint%28closure%285%29%29%20%0A%23%208.%20Und%20jetzt%20achtet%20auf%20den%20Code%20im%20Pythontutor!%20Die%20VARIABLE%20%22closure%22%20enthielt%20bisher%20die%20%22%C3%A4u%C3%9Fere_funktion%28meine_original_funktion%29%22.%20%0A%23%20Jetzt%20wurde%20ihr%20ein%20NEUER%20Wert%20zugewiesen!!!%20Die%20FUNKTION%20%22innere_funktion%28%29%22.%20%0A%23%209.%20Das%20bedeutet,%20wenn%20man%20%22closure%28%29%22%20nun%20als%20FUNKTION%20und%20mit%20einem%20Argument%20aufruft,%20%0A%23%20wird%20dieses%20Argument%20sofort%20an%20die%20entsprechende%20Funktion%20%22innere_funktion%28%29%22%20%C3%BCbergeben%20und%20diese%20Funktion%20dann%20ausgef%C3%BChrt.&cumulative=false&curInstr=0&heapPrimitives=nevernest&mode=display&origin=opt-frontend.js&py=311&rawInputLstJSON=%5B%5D&textReferences=false)"
   ]
  },
  {
   "cell_type": "markdown",
   "id": "52734e48-c79d-4f68-a3c6-f34d90fa694b",
   "metadata": {
    "jp-MarkdownHeadingCollapsed": true
   },
   "source": [
    "# Übergang zu Decoratoren"
   ]
  },
  {
   "cell_type": "markdown",
   "id": "3307087a-492d-42e7-9572-71088b134d69",
   "metadata": {},
   "source": [
    "[Übergang zu Dekoratoren](https://pythontutor.com/render.html#code=def%20%C3%A4u%C3%9Fere_funktion%28funky%29%3A%0A%20%20%20%20def%20innere_funktion%28y%29%3A%0A%20%20%20%20%20%20%20%20print%28%22innerefunktion%20macht%20wichtige%20dinge%20bevor,sie%20originalfunktion%20aufruft%22%29%0A%20%20%20%20%20%20%20%20return%20funky%28y%29%0A%20%20%20%20return%20innere_funktion%0A%0A%20%0Adef%20meine_original_funktion%28arg%29%3A%0A%20%20%20%20print%28f%22%7Barg%3D%7D%22,%20%22in%20original%20funktion%22%29%20%0A%20%20%20%20return%20arg**2%0A%20%20%20%20%0A%23%20Arbeitet%20wie%20ein%20decorator%20%0A%0Ameine_original_funktion%20%3D%20%C3%A4u%C3%9Fere_funktion%28meine_original_funktion%29%0Aprint%28meine_original_funktion%285%29%29&cumulative=false&curInstr=0&heapPrimitives=nevernest&mode=display&origin=opt-frontend.js&py=311&rawInputLstJSON=%5B%5D&textReferences=false)"
   ]
  },
  {
   "cell_type": "code",
   "execution_count": null,
   "id": "44d3b059-1997-463b-8040-4eab8226bc82",
   "metadata": {},
   "outputs": [],
   "source": [
    "def äußere_funktion(funky):\n",
    "    def innere_funktion(y):\n",
    "        print('Die innere Funktion macht wichtige Dinge bevor, sie \"meine_original_funktion\" aufruft.')\n",
    "        return funky(y)\n",
    "    return innere_funktion\n",
    "\n",
    " \n",
    "def meine_original_funktion(arg):\n",
    "    print(f'{arg = } Dieser Code steht in \"meine_original_funktion\"') \n",
    "    return arg**2 \n",
    "\n",
    "# EINZIGER UNTERSCHIED ZUM VORHERIGEN BEISPIEL\n",
    " \n",
    "# Dieser Teil des Codes arbeitet wie ein decorator \n",
    "meine_original_funktion = äußere_funktion(meine_original_funktion)\n",
    "print(meine_original_funktion(5))"
   ]
  },
  {
   "cell_type": "markdown",
   "id": "5f3670c0-156e-433d-9f68-2c3a03a65c1b",
   "metadata": {},
   "source": [
    "Zum besseren Vergleich packe ich den alten Code nochmal direkt darunter. Was hat sich geändert?"
   ]
  },
  {
   "cell_type": "code",
   "execution_count": null,
   "id": "fa933108-9248-40a4-9a97-5d86c5176e2e",
   "metadata": {},
   "outputs": [],
   "source": [
    "closure = äußere_funktion(meine_original_funktion)\n",
    "print(closure(5))"
   ]
  },
  {
   "cell_type": "code",
   "execution_count": null,
   "id": "c95331e7-a9aa-4c09-94f5-7e3b61e0d956",
   "metadata": {},
   "outputs": [],
   "source": [
    "Änderung = äußere_funktion(meine_original_funktion)\n",
    "print(Änderung(5))"
   ]
  },
  {
   "cell_type": "markdown",
   "id": "07872910-09d5-4143-8d37-eefdd65ed41b",
   "metadata": {},
   "source": [
    "Das einzige was WIR händisch geändert haben ist, die Variable \"closure\" umzubennenen. Das Macht ein Dekorator später automatisch für uns."
   ]
  },
  {
   "cell_type": "markdown",
   "id": "e948df24-ec05-4ab6-a84d-7daa03562ed3",
   "metadata": {
    "jp-MarkdownHeadingCollapsed": true
   },
   "source": [
    "# Dekorator"
   ]
  },
  {
   "cell_type": "code",
   "execution_count": 2,
   "id": "545074d7-768c-44df-9545-4f9f04e2c920",
   "metadata": {},
   "outputs": [
    {
     "name": "stdout",
     "output_type": "stream",
     "text": [
      "Die innere Funktion macht wichtige Dinge bevor, sie \"meine_original_funktion\" aufruft.\n",
      "arg=5 Dieser Code steht in \"meine_original_funktion\"\n",
      "25\n"
     ]
    }
   ],
   "source": [
    "def äußere_funktion(funky):\n",
    "    def innere_funktion(y):\n",
    "        print('Die innere Funktion macht wichtige Dinge bevor, sie \"meine_original_funktion\" aufruft.')\n",
    "        return funky(y)\n",
    "    return innere_funktion\n",
    "\n",
    "@äußere_funktion\n",
    "def meine_original_funktion(arg):\n",
    "    print(f'{arg=} Dieser Code steht in \"meine_original_funktion\"') \n",
    "    return arg**2\n",
    "    \n",
    "print(meine_original_funktion(5))"
   ]
  },
  {
   "cell_type": "markdown",
   "id": "33e41788-82e2-4af7-a26b-8b3ac3cf22e9",
   "metadata": {},
   "source": [
    "### Analyse:"
   ]
  },
  {
   "cell_type": "markdown",
   "id": "6f31dfd3-953d-4344-abcb-123688b7a3eb",
   "metadata": {},
   "source": [
    "[Code im Pythontutor](https://pythontutor.com/render.html#code=def%20%C3%A4u%C3%9Fere_funktion%28funky%29%3A%0A%20%20%20%20def%20innere_funktion%28y%29%3A%0A%20%20%20%20%20%20%20%20print%28'Die%20innere%20Funktion%20macht%20wichtige%20Dinge%20bevor,%20sie%20%22meine_original_funktion%22%20aufruft.'%29%0A%20%20%20%20%20%20%20%20return%20funky%28y%29%0A%20%20%20%20return%20innere_funktion%0A%0A%40%C3%A4u%C3%9Fere_funktion%20%0Adef%20meine_original_funktion%28arg%29%3A%0A%20%20%20%20print%28f'%7Barg%7D%20Dieser%20Code%20steht%20in%20%22meine_original_funktion%22'%29%20%0A%20%20%20%20return%20arg**2%20%0A%0Aprint%28meine_original_funktion%285%29%29&cumulative=false&curInstr=0&heapPrimitives=nevernest&mode=display&origin=opt-frontend.js&py=3&rawInputLstJSON=%5B%5D&textReferences=false)"
   ]
  },
  {
   "cell_type": "code",
   "execution_count": null,
   "id": "4e0bcb89-bf07-42e5-877f-cc9fb7700378",
   "metadata": {},
   "outputs": [],
   "source": [
    "# 1. Ausgangssituation im Pythontutor\n",
    "# 2. Die \"äußere_funktion\" wird definiert\n",
    "\n",
    "def äußere_funktion(funky): # 4. Die Funktion läuft einmal durch\n",
    "    def innere_funktion(y): # 5. Der \"innere_funktion\" fehlt das Argument\n",
    "        print('Die innere Funktion macht wichtige Dinge bevor, sie \"meine_original_funktion\" aufruft.')\n",
    "        return funky(y)\n",
    "    return innere_funktion # 6. Die ausführung wird übersprungen und die \"äußere_funktion\" gibt die \"innere_funktion\" selbst zurück\n",
    "\n",
    "@äußere_funktion # 3. Der Dekorator (und der Code der unter ihm) stellt eine Verbindung\n",
    "                 # zur Gleichnamigen Funktion \"äußere_funktion\" her. Die Funktion \"äußere_funktion\" \n",
    "                 # pointet jetzt AUF die Funktion \"meine_original_funktion\". \n",
    "def meine_original_funktion(arg):\n",
    "    print(f'{arg = } Dieser Code steht in \"meine_original_funktion\"') \n",
    "    return arg**2\n",
    "    \n",
    "print(meine_original_funktion(5))"
   ]
  },
  {
   "cell_type": "markdown",
   "id": "02ce5f52-f58a-45ab-a1e6-b78d77f244e7",
   "metadata": {},
   "source": [
    "Beispiel nicht beendet, da Analogie schon zu viel Zeit gekostet hat. Siehe unten."
   ]
  },
  {
   "cell_type": "markdown",
   "id": "eb8b5781-f97b-4eca-8de9-2cb55fa79510",
   "metadata": {
    "jp-MarkdownHeadingCollapsed": true
   },
   "source": [
    "#### Analoges Bildliches Beispiel was passiert, wenn funky() die Dekorator Funktion aufruft."
   ]
  },
  {
   "cell_type": "code",
   "execution_count": null,
   "id": "54dbf4f2-815c-4d63-8e7d-b03b1bbc3acb",
   "metadata": {},
   "outputs": [],
   "source": [
    "def äußere_funktion(funky):\n",
    "    def innere_funktion(y):\n",
    "        print('Die innere Funktion macht wichtige Dinge bevor, sie \"meine_original_funktion\" aufruft.')\n",
    "        return \n",
    "\n",
    "        # Analog zu funky(), die den Dekorator an dieser Stelle ausführt\n",
    "            @äußere_funktion\n",
    "            def meine_original_funktion(arg):\n",
    "                print(f'{arg = } Dieser Code steht in \"meine_original_funktion\"') \n",
    "                return arg**2\n",
    "        # Ist natürlich nur Bildlich, da hier die Einrückung nicht passt    \n",
    "    \n",
    "    return innere_funktion\n",
    "    \n",
    "print(meine_original_funktion(5))"
   ]
  },
  {
   "cell_type": "markdown",
   "id": "419fb2f9-24e2-4979-8144-531f81ea8da3",
   "metadata": {
    "jp-MarkdownHeadingCollapsed": true
   },
   "source": [
    "# Zusammenfassung Dekoratoren und Closures über eine Analogie"
   ]
  },
  {
   "cell_type": "markdown",
   "id": "be844901-8f2a-4337-bc18-cd9c541488f1",
   "metadata": {},
   "source": [
    "### Closure"
   ]
  },
  {
   "cell_type": "markdown",
   "id": "e399b496-7f47-47d7-a7c5-459e7fb31252",
   "metadata": {},
   "source": [
    "Ein Closure ist eine Funktion, die eine andere Funktion in sich einschließt und der eingeschlossen Funktion Zugriff auf die eigenen (nicht-lokalen) Variablen gibt, auch nachdem die äußere Funktion abgeschlossen ist."
   ]
  },
  {
   "cell_type": "markdown",
   "id": "57ee9fa9-f142-4710-9f57-6558aeb504fa",
   "metadata": {},
   "source": [
    "### Dekoratoren"
   ]
  },
  {
   "cell_type": "markdown",
   "id": "f29a3154-1527-4620-a46e-79d726f571de",
   "metadata": {},
   "source": [
    "Dekoratoren sind eine spezielle Form von Closures. Sie nehmen eine Funktion als Argument und erweitern oder verändern deren Verhalten, indem sie eine neue Funktion zurückgeben, die die ursprüngliche Funktion umschließt."
   ]
  },
  {
   "cell_type": "markdown",
   "id": "492876be-caa3-43c4-b965-3be6b13ec444",
   "metadata": {},
   "source": [
    "### Analogie"
   ]
  },
  {
   "cell_type": "markdown",
   "id": "97061a38-61c0-41e0-8b81-8a74d65a63cd",
   "metadata": {},
   "source": [
    "In dieser Analogie hilft dir das Bild der Spielzeugarmbrust, die durch den Abzug ausgelöst wird, zu verstehen, wie Dekoratoren und Closures funktionieren: \n",
    "\n",
    "Die äußere Funktion `Spielzeugarmbrust` verknüpft über die Variable `Abzug`, die Dekorator-Funktion `schießen()` mit der innere Funktion `Munition_laden`. Diese Funktion nimmt die `Munition` entgegen, lädt die Spielzeugarmbrust und drückt den Abzug, wodurch die ursprüngliche `schießen()`-Funktion aufgerufen wird und den Schuss auslöst."
   ]
  },
  {
   "cell_type": "code",
   "execution_count": null,
   "id": "112d8776-3fff-4cb0-b911-77842364e81d",
   "metadata": {},
   "outputs": [],
   "source": [
    "def Spielzeugarmbrust(Abzug):\n",
    "    print(\"Die Spielzeugarmbrust wird so zusammengebaut, dass der Abzug den Schuss auslöst.\")\n",
    "\n",
    "    def Munition_laden(Munition):\n",
    "        print(f\"Die Sehne wird gespannt und der {Munition} wird eingelegt.\")\n",
    "        return Abzug(Munition)  # Hier wird die ursprüngliche Funktion \"schießen()\" aufgerufen\n",
    "\n",
    "    return Munition_laden\n",
    "\n",
    "@Spielzeugarmbrust\n",
    "def schießen(Munition):\n",
    "    print(\"Der Abzug wurde gedrückt.\")\n",
    "    return f\"Die Spielzeugarmbrust schießt und der {Munition} trifft sein Ziel.\"\n",
    "\n",
    "# Verwendung\n",
    "print(schießen(\"Pfeil mit Saugnapf\"))\n"
   ]
  },
  {
   "cell_type": "markdown",
   "id": "1c9ca56e-e8fa-4a7e-bc24-19746632a34d",
   "metadata": {},
   "source": [
    "### Analogie mit Erklärung, die paarallel zu den Schritten im Pythontutor verläuft."
   ]
  },
  {
   "cell_type": "code",
   "execution_count": 73,
   "id": "4c1f7b99-9e84-4bf4-9dba-3d36b047fc3c",
   "metadata": {},
   "outputs": [
    {
     "name": "stdout",
     "output_type": "stream",
     "text": [
      "Die Spielzeugarmbrust wird so zusammengebaut, dass der Abzug den Schuss auslöst.\n",
      "\n",
      "Die Sehne wird gespannt und der Pfeil mit Saugnapf wird eingelegt.\n",
      "Der Abzug wurde gedrückt.\n",
      "Die Spielzeugarmbrust schießt und der Pfeil mit Saugnapf trifft sein Ziel.\n",
      "\n"
     ]
    }
   ],
   "source": [
    "# 1. Ausgangssituation im Pythontutor\n",
    "# 2. Die äußere Funktion \"Spielzeugarmbrust\" wird definiert. \"Wir haben ein neues Spielzeug!\"\n",
    "\n",
    "def Spielzeugarmbrust(Abzug): \n",
    "    # 4. Die äußere Funktion \"Spielzeugarmbrust\" umschließt die innere Funktion \"Munition_laden\", IN DER wiederum \n",
    "    # später die Funkiton \"schießen()\" über die Variable \"Abzug\" aufgerufen werden soll. Dieser Aufbau ist wichtig, \n",
    "    # damit die nicht-lokale Variable \"Abzug\" im richtigen Moment (wenn die Spielzeugarmbrust geladen ist und nicht früher)\n",
    "    # die Funktion \"schießen\" aus dem INNERE der inneren Funktion aufrufen kann.\n",
    "      \n",
    "    print(\"Die Spielzeugarmbrust wird so zusammengebaut, dass der Abzug den Schuss auslöst.\\n\") # 5. Text wird geprintet\n",
    "    \n",
    "    # 6. Die innere Funktion \"Munition_laden\" wird aufgerufen. Wenn \"Munition\" vorhanden ist, wird die Funktion ausgeführt.  \n",
    "    def Munition_laden(Munition): # 10. Die Funktion wird aufgerufen.  \n",
    "        print(f\"Die Sehne wird gespannt und der {Munition} wird eingelegt.\") # 11. Text wird geprintet\n",
    "        return Abzug(Munition) # 12.1 Die Funktion \"schießen()\" wird über die Variable \"Abzug\" aufgerufen und das Argument\n",
    "        # 12.2 dabei übergeben. Dabei geht Python unter der Haube über die Variable \"Abzug\" zurück zur Funktion \n",
    "        # \"Spielzeugarmbrust\" und von dort zum Decorator\n",
    "        # 16. Das wurde alles innerhalb der inneren Funktion ausgeführt und returnt das Ergebnis zum Aufruf von schießen()\n",
    "    \n",
    "    return Munition_laden \n",
    "    # 7. Wenn keine Munition vorhanden ist wir die Funktion \"Munition_laden\" selbst an den Dekorator \"@Spielzeugarmbrust\" \n",
    "    # zurück gegeben.\n",
    "\n",
    "# 3. Der Dekorator \"@Spielzeugarmbrust\" stellt eine Verbindung zur gleichnamigen äußeren Funktion \"Spielzeugarmbrust\" her.\n",
    "# Die Variable \"Abzug\" pointet jetzt AUF die Funktion \"schießen()\". \n",
    "# Oder anders ausgedrückt, der Variable \"Abzug\" wurde die Funktion \"schießen()\" zugewiesen. Abzug = schießen()\n",
    "\n",
    "@Spielzeugarmbrust      # Von 7. auf 8. WICHTIG! Und jetzt auf den Code im Pythontutor achten! Die Funktion \"schießen()\" hat \n",
    "def schießen(Munition): # VOM Dekorator \"@Spielzeugarmbrust\" die Funktion \"Munition_laden\" übergeben bekommen. \n",
    "                        # \"schießen()\" pointet jetzt auf Funktion \"Munition_laden\"\n",
    "    print(\"Der Abzug wurde gedrückt.\") # Von 13. zu 15. Dann springt Python direkt von \"@Spielzeugarmbrust\" zum Code innerhalb   \n",
    "    return (f\"Die Spielzeugarmbrust schießt und der {Munition} trifft sein Ziel.\\n\") # von schießen() und printet den Text.\n",
    "\n",
    "  \n",
    "print(schießen(\"Pfeil mit Saugnapf\"))\n",
    "# Von 8. auf 9. ruft man jetzt die Funktion \"schießen\" mit dem Argument \"Pfeil mit Saugnapf\" auf,\n",
    "# wird das Argument direkt in den Parameter \"Munition\" der Funktion \"Munition_laden\" eingesetzt. "
   ]
  },
  {
   "cell_type": "markdown",
   "id": "ae28d4ba-10ac-4696-b5c8-94e53e6f5ed3",
   "metadata": {},
   "source": [
    "[Code mit Erklärung im Pythontutor](https://pythontutor.com/render.html#code=%23%201.%20Ausgangssituation%20im%20Pythontutor%0A%23%202.%20Die%20%C3%A4u%C3%9Fere%20Funktion%20%22Spielzeugarmbrust%22%20wird%20definiert.%20%22Wir%20haben%20ein%20neues%20Spielzeug!%22%0A%0Adef%20Spielzeugarmbrust%28Abzug%29%3A%20%0A%20%20%20%20%23%204.%20Die%20%C3%A4u%C3%9Fere%20Funktion%20%22Spielzeugarmbrust%22%20umschlie%C3%9Ft%20die%20innere%20Funktion%20%22Munition_laden%22,%20IN%20DER%20wiederum%20%0A%20%20%20%20%23%20sp%C3%A4ter%20die%20Funkiton%20%22schie%C3%9Fen%28%29%22%20%C3%BCber%20die%20Variable%20%22Abzug%22%20aufgerufen%20werden%20soll.%20Dieser%20Aufbau%20ist%20wichtig,%20%0A%20%20%20%20%23%20damit%20die%20nicht-lokale%20Variable%20%22Abzug%22%20im%20richtigen%20Moment%20%28wenn%20die%20Spielzeugarmbrust%20geladen%20ist%20und%20nicht%20fr%C3%BCher%29%0A%20%20%20%20%23%20die%20Funktion%20%22schie%C3%9Fen%22%20aus%20dem%20INNERE%20der%20inneren%20Funktion%20aufrufen%20kann.%0A%20%20%20%20%20%20%0A%20%20%20%20print%28%22Die%20Spielzeugarmbrust%20wird%20so%20zusammengebaut,%20dass%20der%20Abzug%20den%20Schuss%20ausl%C3%B6st.%5Cn%22%29%20%23%205.%20Text%20wird%20geprintet%0A%20%20%20%20%0A%20%20%20%20%23%206.%20Die%20innere%20Funktion%20%22Munition_laden%22%20wird%20aufgerufen.%20Wenn%20%22Munition%22%20vorhanden%20ist,%20wird%20die%20Funktion%20ausgef%C3%BChrt.%20%20%0A%20%20%20%20def%20Munition_laden%28Munition%29%3A%20%23%2010.%20Die%20Funktion%20wird%20aufgerufen.%20%20%0A%20%20%20%20%20%20%20%20print%28f%22Die%20Sehne%20wird%20gespannt%20und%20der%20%7BMunition%7D%20wird%20eingelegt.%22%29%20%23%2011.%20Text%20wird%20geprintet%0A%20%20%20%20%20%20%20%20return%20Abzug%28Munition%29%20%23%2012.1%20Die%20Funktion%20%22schie%C3%9Fen%28%29%22%20wird%20%C3%BCber%20die%20Variable%20%22Abzug%22%20aufgerufen%20und%20das%20Argument%0A%20%20%20%20%20%20%20%20%23%2012.2%20dabei%20%C3%BCbergeben.%20Dabei%20geht%20Python%20unter%20der%20Haube%20%C3%BCber%20die%20Variable%20%22Abzug%22%20zur%C3%BCck%20zur%20Funktion%20%0A%20%20%20%20%20%20%20%20%23%20%22Spielzeugarmbrust%22%20und%20von%20dort%20zum%20Decorator%0A%20%20%20%20%20%20%20%20%23%2016.%20Das%20wurde%20alles%20innerhalb%20der%20inneren%20Funktion%20ausgef%C3%BChrt%20und%20returnt%20das%20Ergebnis%20zum%20Aufruf%20von%20schie%C3%9Fen%28%29%0A%20%20%20%20%0A%20%20%20%20return%20Munition_laden%20%0A%20%20%20%20%23%207.%20Wenn%20keine%20Munition%20vorhanden%20ist%20wir%20die%20Funktion%20%22Munition_laden%22%20selbst%20an%20den%20Dekorator%20%22%40Spielzeugarmbrust%22%20%0A%20%20%20%20%23%20zur%C3%BCck%20gegeben.%0A%0A%23%203.%20Der%20Dekorator%20%22%40Spielzeugarmbrust%22%20stellt%20eine%20Verbindung%20zur%20gleichnamigen%20%C3%A4u%C3%9Feren%20Funktion%20%22Spielzeugarmbrust%22%20her.%0A%23%20Die%20Variable%20%22Abzug%22%20pointet%20jetzt%20AUF%20die%20Funktion%20%22schie%C3%9Fen%28%29%22.%20%0A%23%20Oder%20anders%20ausgedr%C3%BCckt,%20der%20Variable%20%22Abzug%22%20wurde%20die%20Funktion%20%22schie%C3%9Fen%28%29%22%20zugewiesen.%20Abzug%20%3D%20schie%C3%9Fen%28%29%0A%0A%40Spielzeugarmbrust%20%20%20%20%20%20%23%20Von%207.%20auf%208.%20WICHTIG!%20Und%20jetzt%20auf%20den%20Code%20im%20Pythontutor%20achten!%20Die%20Funktion%20%22schie%C3%9Fen%28%29%22%20hat%20%0Adef%20schie%C3%9Fen%28Munition%29%3A%20%23%20VOM%20Dekorator%20%22%40Spielzeugarmbrust%22%20die%20Funktion%20%22Munition_laden%22%20%C3%BCbergeben%20bekommen.%20%0A%20%20%20%20%20%20%20%20%20%20%20%20%20%20%20%20%20%20%20%20%20%20%20%20%23%20%22schie%C3%9Fen%28%29%22%20pointet%20jetzt%20auf%20Funktion%20%22Munition_laden%22%0A%20%20%20%20print%28%22Der%20Abzug%20wurde%20gedr%C3%BCckt.%22%29%20%23%20Von%2013.%20zu%2015.%20Dann%20springt%20Python%20direkt%20von%20%22%40Spielzeugarmbrust%22%20zum%20Code%20innerhalb%20%20%20%0A%20%20%20%20return%20%28f%22Die%20Spielzeugarmbrust%20schie%C3%9Ft%20und%20der%20%7BMunition%7D%20trifft%20sein%20Ziel.%5Cn%22%29%20%23%20von%20schie%C3%9Fen%28%29%20und%20printet%20den%20Text.%0A%0A%20%20%0Aprint%28schie%C3%9Fen%28%22Pfeil%20mit%20Saugnapf%22%29%29%0A%23%20Von%208.%20auf%209.%20ruft%20man%20jetzt%20die%20Funktion%20%22schie%C3%9Fen%22%20mit%20dem%20Argument%20%22Pfeil%20mit%20Saugnapf%22%20auf,%0A%23%20wird%20das%20Argument%20direkt%20in%20den%20Parameter%20%22Munition%22%20der%20Funktion%20%22Munition_laden%22%20eingesetzt.&cumulative=false&curInstr=0&heapPrimitives=nevernest&mode=display&origin=opt-frontend.js&py=3&rawInputLstJSON=%5B%5D&textReferences=false)"
   ]
  },
  {
   "cell_type": "code",
   "execution_count": 50,
   "id": "2cf6a09e-042e-4753-94f4-d144d2af9f6e",
   "metadata": {},
   "outputs": [
    {
     "ename": "TypeError",
     "evalue": "Spielzeugarmbrust.<locals>.Sehne() missing 1 required positional argument: 'Munition'",
     "output_type": "error",
     "traceback": [
      "\u001b[1;31m---------------------------------------------------------------------------\u001b[0m",
      "\u001b[1;31mTypeError\u001b[0m                                 Traceback (most recent call last)",
      "Cell \u001b[1;32mIn[50], line 1\u001b[0m\n\u001b[1;32m----> 1\u001b[0m \u001b[43mschießen\u001b[49m\u001b[43m(\u001b[49m\u001b[43m)\u001b[49m \u001b[38;5;66;03m# Gibt man bei der Funktion \"schießen\" kein Argument an, beschwert sich \u001b[39;00m\n\u001b[0;32m      2\u001b[0m            \u001b[38;5;66;03m# die dahinterliegende Funktion \"Sehne\", die \"Munition\" braucht um zu schießen.\u001b[39;00m\n",
      "\u001b[1;31mTypeError\u001b[0m: Spielzeugarmbrust.<locals>.Sehne() missing 1 required positional argument: 'Munition'"
     ]
    }
   ],
   "source": [
    "schießen() # Gibt man bei der Funktion \"schießen\" kein Argument an, beschwert sich \n",
    "           # die dahinterliegende Funktion \"Sehne\", die \"Munition\" braucht um zu schießen."
   ]
  },
  {
   "cell_type": "markdown",
   "id": "d373ff8f-52a5-4e7a-b978-cba5620df29a",
   "metadata": {},
   "source": [
    "Wichtig ist auch zu sehen, dass die Spielzeugarmbrust NUR EINMAL zusammengebaut werden muss. Sobald die äußere Funktion durchgelaufen ist und die innere Funktion an den Dekorator zurückgegeben wurde, wird beim Aufruf des Dekorators NUR NOCH die Innere Funktion aufgerufen wobei sie eben Zugriff auf die Variablen ihre Umgebung hat. "
   ]
  },
  {
   "cell_type": "code",
   "execution_count": 74,
   "id": "d8879d7c-8b19-4bd1-855d-7be949b7045e",
   "metadata": {},
   "outputs": [
    {
     "name": "stdout",
     "output_type": "stream",
     "text": [
      "Die Spielzeugarmbrust wird so zusammengebaut, dass der Abzug den Schuss auslöst.\n",
      "\n",
      "Die Sehne wird gespannt und der Pfeil mit Saugnapf wird eingelegt.\n",
      "Der Abzug wurde gedrückt.\n",
      "Die Spielzeugarmbrust schießt und der Pfeil mit Saugnapf trifft sein Ziel.\n",
      "\n",
      "Die Sehne wird gespannt und der Laserstrahl wird eingelegt.\n",
      "Der Abzug wurde gedrückt.\n",
      "Die Spielzeugarmbrust schießt und der Laserstrahl trifft sein Ziel.\n",
      "\n",
      "Die Sehne wird gespannt und der Güterzug wird eingelegt.\n",
      "Der Abzug wurde gedrückt.\n",
      "Die Spielzeugarmbrust schießt und der Güterzug trifft sein Ziel.\n",
      "\n"
     ]
    }
   ],
   "source": [
    "def Spielzeugarmbrust(Abzug):\n",
    "    print(\"Die Spielzeugarmbrust wird so zusammengebaut, dass der Abzug den Schuss auslöst.\\n\")\n",
    "\n",
    "    def Munition_laden(Munition):\n",
    "        print(f\"Die Sehne wird gespannt und der {Munition} wird eingelegt.\")\n",
    "        return Abzug(Munition)  # Hier wird die ursprüngliche Funktion \"schießen()\" aufgerufen\n",
    "\n",
    "    return Munition_laden\n",
    "\n",
    "@Spielzeugarmbrust\n",
    "def schießen(Munition):\n",
    "    print(\"Der Abzug wurde gedrückt.\")\n",
    "    return f\"Die Spielzeugarmbrust schießt und der {Munition} trifft sein Ziel.\\n\"\n",
    "\n",
    "# Verwendung\n",
    "print(schießen(\"Pfeil mit Saugnapf\"))\n",
    "print(schießen(\"Laserstrahl\"))\n",
    "print(schießen(\"Güterzug\"))"
   ]
  },
  {
   "cell_type": "code",
   "execution_count": null,
   "id": "6330d0e0-fca7-41c6-80b8-f45029a3b212",
   "metadata": {},
   "outputs": [],
   "source": []
  },
  {
   "cell_type": "markdown",
   "id": "e8bed2b3-e5ca-480e-a261-8b8015686016",
   "metadata": {
    "jp-MarkdownHeadingCollapsed": true
   },
   "source": [
    "# Seltsamer Error Pythontutor"
   ]
  },
  {
   "cell_type": "markdown",
   "id": "0ba2115c-4bb7-404c-bc7f-efeae952da1e",
   "metadata": {},
   "source": [
    "[Error Pythontutor](https://pythontutor.com/render.html#code=def%20%C3%A4u%C3%9Fere_funktion%28funky%29%3A%0A%20%20%20%20def%20innere_funktion%28y%29%3A%0A%20%20%20%20%20%20%20%20print%28'Die%20innere%20Funktion%20macht%20wichtige%20Dinge%20bevor,%20sie%20%22meine_original_funktion%22%20aufruft.'%29%0A%20%20%20%20%20%20%20%20return%20funky%28y%29%0A%20%20%20%20return%20innere_funktion%0A%0A%40%C3%A4u%C3%9Fere_funktion%20%0Adef%20meine_original_funktion%28arg%29%3A%0A%20%20%20%20print%28f'%7Barg%20%3D%20%7D%20Dieser%20Code%20steht%20in%20%22meine_original_funktion%22'%29%20%0A%20%20%20%20return%20arg**2%20%0A%0Aprint%28meine_original_funktion%285%29%29&cumulative=false&heapPrimitives=nevernest&mode=edit&origin=opt-frontend.js&py=3&rawInputLstJSON=%5B%5D&textReferences=false)"
   ]
  },
  {
   "cell_type": "markdown",
   "id": "671ad688-a364-4a12-a6bb-1a515eb7b58f",
   "metadata": {},
   "source": [
    "[Selber Code aber kein Error](https://pythontutor.com/render.html#code=def%20%C3%A4u%C3%9Fere_funktion%28funky%29%3A%0A%20%20%20%20def%20innere_funktion%28y%29%3A%0A%20%20%20%20%20%20%20%20print%28'Die%20innere%20Funktion%20macht%20wichtige%20Dinge%20bevor,%20sie%20%22meine_original_funktion%22%20aufruft.'%29%0A%20%20%20%20%20%20%20%20return%20funky%28y%29%0A%20%20%20%20return%20innere_funktion%0A%0A%40%C3%A4u%C3%9Fere_funktion%20%0Adef%20meine_original_funktion%28arg%29%3A%0A%20%20%20%20print%28f'%7Barg%20%3D%20%7D%20Dieser%20Code%20steht%20in%20%22meine_original_funktion%22'%29%20%0A%20%20%20%20return%20arg**2%20%0A%0Aprint%28meine_original_funktion%285%29%29&cumulative=false&curInstr=0&heapPrimitives=nevernest&mode=display&origin=opt-frontend.js&py=311&rawInputLstJSON=%5B%5D&textReferences=false)"
   ]
  },
  {
   "cell_type": "markdown",
   "id": "4f125347-23e3-4ee3-ada4-6eb8ef81d6aa",
   "metadata": {},
   "source": [
    "Im Brave Browser gibt es einen Error im Firefox Browser nicht...?"
   ]
  },
  {
   "cell_type": "markdown",
   "id": "5fadda80-bcbb-4f87-9dbc-1c0f67150fad",
   "metadata": {
    "jp-MarkdownHeadingCollapsed": true
   },
   "source": [
    "```python\n",
    "f'{arg=} Dieser Code steht in \"meine_original_funktion\"') \n",
    "```\n",
    "Der Bravebrowser kommt mit dem `=` Zeichen nicht klar."
   ]
  },
  {
   "cell_type": "markdown",
   "id": "8be16b1b-0c35-4f11-b63d-4eeaab3d19fe",
   "metadata": {},
   "source": [
    "# Weiter kram aber nicht aufgeräumt"
   ]
  },
  {
   "cell_type": "markdown",
   "id": "18a7c214-5c2b-487a-b7ec-d15b47ce8ad0",
   "metadata": {
    "jp-MarkdownHeadingCollapsed": true
   },
   "source": [
    "### Komplexeres Beispiel eines Taschenrechners:"
   ]
  },
  {
   "cell_type": "code",
   "execution_count": null,
   "id": "411603d6-82f7-4c56-8ce1-c87cea328291",
   "metadata": {},
   "outputs": [],
   "source": [
    "def outer_func(operation):  # \"+\"\n",
    "    operations = {\"+\":lambda x,y: x+y, \n",
    "                 \"-\": lambda x,y: x-y,\n",
    "                 \"/\": lambda x,y: x/y,\n",
    "                 \"//\": lambda x,y: x//y,\n",
    "                 \"%\":lambda x,y: x%y,\n",
    "                 \"*\": lambda x,y: x*y}\n",
    "\n",
    "    def rechner(zahl1,zahl2):\n",
    "        \n",
    "        return  operations[operation](zahl1,zahl2)\n",
    "\n",
    "    return rechner\n",
    "    \n",
    "\n",
    "\n",
    "addierer = outer_func(\"+\")\n",
    "multiplier = outer_func(\"*\")\n",
    "modulusierer = outer_func(\"%\")\n",
    "\n",
    "print(addierer,multiplier,modulusierer)\n",
    "print(addierer.__name__,multiplier.__name__,modulusierer.__name__)\n",
    "\n",
    "add_40_2 = addierer(40,2)\n",
    "mul_40_2 = multiplier(40,2)\n",
    "mod_40_2= modulusierer(40,2)"
   ]
  },
  {
   "cell_type": "markdown",
   "id": "20d602cc-89ba-440a-81a9-a8044d2811a3",
   "metadata": {},
   "source": [
    "[Beispiel Taschenrechenr im Pythontutor](https://pythontutor.com/render.html#code=def%20outer_func%28operation%29%3A%20%20%23%20%22%2B%22%0A%20%20%20%20operations%20%3D%20%7B%22%2B%22%3Alambda%20x,y%3A%20x%2By,%20%0A%20%20%20%20%20%20%20%20%20%20%20%20%20%20%20%20%20%22-%22%3A%20lambda%20x,y%3A%20x-y,%0A%20%20%20%20%20%20%20%20%20%20%20%20%20%20%20%20%20%22/%22%3A%20lambda%20x,y%3A%20x/y,%0A%20%20%20%20%20%20%20%20%20%20%20%20%20%20%20%20%20%22//%22%3A%20lambda%20x,y%3A%20x//y,%0A%20%20%20%20%20%20%20%20%20%20%20%20%20%20%20%20%20%22%25%22%3Alambda%20x,y%3A%20x%25y,%0A%20%20%20%20%20%20%20%20%20%20%20%20%20%20%20%20%20%22*%22%3A%20lambda%20x,y%3A%20x*y%7D%0A%0A%20%20%20%20def%20rechner%28zahl1,zahl2%29%3A%0A%20%20%20%20%20%20%20%20%0A%20%20%20%20%20%20%20%20return%20%20operations%5Boperation%5D%28zahl1,zahl2%29%0A%0A%20%20%20%20return%20rechner%0A%20%20%20%20%0A%0A%0Aaddierer%20%3D%20outer_func%28%22%2B%22%29%0Amultiplier%20%3D%20outer_func%28%22*%22%29%0Amodulusierer%20%3D%20outer_func%28%22%25%22%29%0A%0Aprint%28addierer,multiplier,modulusierer%29%0Aprint%28addierer.__name__,multiplier.__name__,modulusierer.__name__%29%0A%0Aadd_40_2%20%3D%20addierer%2840,2%29%0Amul_40_2%20%3D%20multiplier%2840,2%29%0Amod_40_2%3D%20modulusierer%2840,2%29&cumulative=false&curInstr=60&heapPrimitives=nevernest&mode=display&origin=opt-frontend.js&py=311&rawInputLstJSON=%5B%5D&textReferences=false)"
   ]
  },
  {
   "cell_type": "markdown",
   "id": "f8de95d8-a0bf-45a6-b66a-4fd8a0df8d5b",
   "metadata": {
    "jp-MarkdownHeadingCollapsed": true
   },
   "source": [
    "\n",
    "bmi_from_string.`__doc__` wäre auch möglich. \n",
    " \n",
    "Als side note"
   ]
  },
  {
   "cell_type": "markdown",
   "id": "c7a5d92b-8a00-491b-93dc-5cfed1d5df68",
   "metadata": {},
   "source": [
    "### Beispiel Passwort Eingabe"
   ]
  },
  {
   "cell_type": "markdown",
   "id": "4a035401-6bf7-4b1a-8829-4e2a46e898aa",
   "metadata": {},
   "source": [
    "closure ist wie eine Klasse mit nur einer Methode."
   ]
  },
  {
   "cell_type": "markdown",
   "id": "6d06f5a9-9ce0-4b54-ae0a-95d85bb3528d",
   "metadata": {
    "jp-MarkdownHeadingCollapsed": true
   },
   "source": [
    "[Anderes Beispiel](https://pythontutor.com/render.html#code=def%20outer_func%28operation%29%3A%20%20%23%20%22%2B%22%0A%20%20%20%20operations%20%3D%20%7B%22%2B%22%3Alambda%20x,y%3A%20x%2By,%20%0A%20%20%20%20%20%20%20%20%20%20%20%20%20%20%20%20%20%22-%22%3A%20lambda%20x,y%3A%20x-y,%0A%20%20%20%20%20%20%20%20%20%20%20%20%20%20%20%20%20%22/%22%3A%20lambda%20x,y%3A%20x/y,%0A%20%20%20%20%20%20%20%20%20%20%20%20%20%20%20%20%20%22//%22%3A%20lambda%20x,y%3A%20x//y,%0A%20%20%20%20%20%20%20%20%20%20%20%20%20%20%20%20%20%22%25%22%3Alambda%20x,y%3A%20x%25y,%0A%20%20%20%20%20%20%20%20%20%20%20%20%20%20%20%20%20%22*%22%3A%20lambda%20x,y%3A%20x*y%7D%0A%20%20%20%20%23%20lokal%20f%C3%BCr%20outer%20sind%20operation%20und%20operations%0A%20%20%20%20def%20calc_bmi_inner%28zahl1,zahl2%29%3A%0A%20%20%20%20%20%20%20%20print%28operations%5Boperation%5D%29%0A%20%20%20%20%20%20%20%20print%28operations%5Boperation%5D%28zahl1,zahl2%29%29%0A%20%20%20%20%20%20%20%20return%20%20operations%5Boperation%5D%28zahl1,zahl2%29%0A%0A%20%20%20%20return%20calc_bmi_inner%20%20%23%0A%20%20%20%20%0Aaddierer%20%3D%20outer_func%28%22%2B%22%29%0Amultiplier%20%3D%20outer_func%28%22*%22%29%0A%0Acheck1%20%3D%20addierer%2840,2%29%0Acheck2%20%3D%20multiplier%2840,2%29&cumulative=false&curInstr=43&heapPrimitives=nevernest&mode=display&origin=opt-frontend.js&py=311&rawInputLstJSON=%5B%5D&textReferences=false)"
   ]
  },
  {
   "cell_type": "code",
   "execution_count": null,
   "id": "f2c9ea79-03a9-496e-af22-72267eb8a09a",
   "metadata": {},
   "outputs": [],
   "source": []
  },
  {
   "cell_type": "markdown",
   "id": "20e37af3-6d8d-4a7e-8d03-70f6c7fde87f",
   "metadata": {
    "jp-MarkdownHeadingCollapsed": true
   },
   "source": [
    "## Zusammenfassung von closures (Überarbeiten)"
   ]
  },
  {
   "cell_type": "code",
   "execution_count": 16,
   "id": "196f5e93-a18b-4c50-9685-81eac8e27363",
   "metadata": {},
   "outputs": [
    {
     "name": "stdout",
     "output_type": "stream",
     "text": [
      "15\n"
     ]
    }
   ],
   "source": [
    "def äußere_funktion(x):\n",
    "    def innere_funktion(y):\n",
    "        return x + y\n",
    "    return innere_funktion\n",
    "\n",
    "closure = äußere_funktion(10) # Die closure merkt sich das Übergebene Argument als Variable x = 10\n",
    "print(closure(5))"
   ]
  },
  {
   "cell_type": "markdown",
   "id": "d534776f-7301-4b6e-8b50-e8c6f9ac87fe",
   "metadata": {},
   "source": [
    "Ein Closure (oder UMschließung) ist eine Funktion, die eine andere Funktion IN SICH einschließt. Die innere Funktion hat dabei Zugriff auf die **nicht-lokalen** Variablen der äußeren Funktion auch nach dem diese schon beendet und den Variablen Argumente zugewiesen / übergeben wurden. Dabei kann der Gültigkeitsbereich je nach aufbau der Funktion varieren.\n",
    "\n",
    "Mit anderen Worten, ein Closure \"merkt\" sich seinen eigenen Aufbau und was ihm als Argument / Variable übergeben wurde."
   ]
  },
  {
   "cell_type": "markdown",
   "id": "f49c00ef-099e-4781-a7ea-c8bb734b8b3a",
   "metadata": {},
   "source": [
    "Ich ÜBERSCHREIBE die Funktion mit dem ERGEBNIS des FUNKTIONSAUFRUFES"
   ]
  },
  {
   "cell_type": "markdown",
   "id": "ee875a72-6a24-4986-ae21-67715923ef45",
   "metadata": {
    "jp-MarkdownHeadingCollapsed": true
   },
   "source": [
    "Dabei gelten folgende Definitionen:\n",
    "\n",
    "- Closure: Das Gesamtkonstrukt aus der inneren Funktion und der Umgebung (Variablen und Zustand), die von der äußeren Funktion eingeschlossen wird.\n",
    "- Äußere Funktion: Die Funktion, die eine andere Funktion definiert und zurückgibt. Sie schafft den Kontext, den das Closure einschließt.\n",
    "- Innere Funktion: Die Funktion, die innerhalb der äußeren Funktion definiert wird und Zugriff auf die Variablen der äußeren Funktion hat."
   ]
  }
 ],
 "metadata": {
  "kernelspec": {
   "display_name": "Python 3 (ipykernel)",
   "language": "python",
   "name": "python3"
  },
  "language_info": {
   "codemirror_mode": {
    "name": "ipython",
    "version": 3
   },
   "file_extension": ".py",
   "mimetype": "text/x-python",
   "name": "python",
   "nbconvert_exporter": "python",
   "pygments_lexer": "ipython3",
   "version": "3.12.4"
  }
 },
 "nbformat": 4,
 "nbformat_minor": 5
}
