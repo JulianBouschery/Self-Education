{
 "cells": [
  {
   "cell_type": "markdown",
   "id": "70162367-590c-4997-aef2-a46ed8318e31",
   "metadata": {},
   "source": [
    "# mro Methode"
   ]
  },
  {
   "cell_type": "code",
   "execution_count": null,
   "id": "135e2147-9402-45b0-a26f-95756e8040f4",
   "metadata": {},
   "outputs": [],
   "source": [
    "The Method Resolution Order (MRO for short) is a strategy in which a particular programming language scans through the upper parts of a class's hierarchy in order to find the method it currently needs. Python does this in the following order:\n",
    "find it inside the object itself;\n",
    "find it in all classes involved in the object's inheritance line from bottom to top."
   ]
  },
  {
   "cell_type": "code",
   "execution_count": null,
   "id": "6854982a-d2c0-4101-89bf-c28d31013770",
   "metadata": {},
   "outputs": [],
   "source": [
    "(If there is more than one class inside a certain level of the inheritance, the classes at this level are scanned from left to right in the order in which they have been put in the inheritance declaration.)"
   ]
  },
  {
   "cell_type": "code",
   "execution_count": 1,
   "id": "d695dc16-04a7-4b71-82a3-f56ebdca3410",
   "metadata": {},
   "outputs": [
    {
     "data": {
      "text/plain": [
       "<function enumerate.mro()>"
      ]
     },
     "execution_count": 1,
     "metadata": {},
     "output_type": "execute_result"
    }
   ],
   "source": [
    "enumerate.mro"
   ]
  },
  {
   "cell_type": "code",
   "execution_count": 2,
   "id": "42d355e5-d641-4ecd-bc37-5a2a21e6be12",
   "metadata": {},
   "outputs": [
    {
     "data": {
      "text/plain": [
       "[enumerate, object]"
      ]
     },
     "execution_count": 2,
     "metadata": {},
     "output_type": "execute_result"
    }
   ],
   "source": [
    "enumerate.mro()"
   ]
  },
  {
   "cell_type": "markdown",
   "id": "b60b573c-f54d-4473-945b-c54ae6af73e9",
   "metadata": {},
   "source": [
    "Die Klammern nicht vergessen!"
   ]
  },
  {
   "cell_type": "code",
   "execution_count": 1,
   "id": "852b6868-27a4-42ca-90bf-65e4f621ef11",
   "metadata": {},
   "outputs": [],
   "source": [
    "class Top:\n",
    "    pass\n",
    "\n",
    "class Left(Top):\n",
    "    pass\n",
    "\n",
    "class Right(Top):\n",
    "    pass"
   ]
  },
  {
   "cell_type": "code",
   "execution_count": 2,
   "id": "d68cb850-0a7d-4fcc-8ebc-e39648912ddb",
   "metadata": {},
   "outputs": [],
   "source": [
    "class Bottom(Left,Top):\n",
    "    pass"
   ]
  },
  {
   "cell_type": "code",
   "execution_count": 3,
   "id": "86af9e45-a8fd-4031-9ab4-894742b8c06a",
   "metadata": {},
   "outputs": [
    {
     "ename": "TypeError",
     "evalue": "Cannot create a consistent method resolution\norder (MRO) for bases Top, Left",
     "output_type": "error",
     "traceback": [
      "\u001b[1;31m---------------------------------------------------------------------------\u001b[0m",
      "\u001b[1;31mTypeError\u001b[0m                                 Traceback (most recent call last)",
      "Cell \u001b[1;32mIn[3], line 1\u001b[0m\n\u001b[1;32m----> 1\u001b[0m \u001b[38;5;28;43;01mclass\u001b[39;49;00m\u001b[43m \u001b[49m\u001b[38;5;21;43;01mBottem\u001b[39;49;00m\u001b[43m(\u001b[49m\u001b[43mTop\u001b[49m\u001b[43m,\u001b[49m\u001b[43mLeft\u001b[49m\u001b[43m)\u001b[49m\u001b[43m:\u001b[49m\n\u001b[0;32m      2\u001b[0m \u001b[43m    \u001b[49m\u001b[38;5;28;43;01mpass\u001b[39;49;00m\n",
      "\u001b[1;31mTypeError\u001b[0m: Cannot create a consistent method resolution\norder (MRO) for bases Top, Left"
     ]
    }
   ],
   "source": [
    "class Bottem(Top,Left):\n",
    "    pass"
   ]
  },
  {
   "cell_type": "markdown",
   "id": "160c3d98-88af-4b0f-af6e-14b3dd3db1a8",
   "metadata": {},
   "source": [
    "Syntax der Deklaration von Klassen:\n",
    "\n",
    "`class` `class_name` `(` `Kind` `,` `Papa` `,` `Großvater` `...` `)`\n",
    "\n",
    "Regel ein Papa darf nie vor seinem Kind sein!"
   ]
  },
  {
   "cell_type": "markdown",
   "id": "35c9c290-2119-409c-b58e-58079990ada3",
   "metadata": {},
   "source": [
    "Regeln für mro:\n",
    "\n",
    "1. DEF Reihenfolge D(B, C, A)\n",
    "2. Papa darf nie vor seinem Kind stehen / Kind kommt immer vor seiném Papa\n",
    "3. Deepth First --> [F,D,C,B,A,Obj]"
   ]
  },
  {
   "cell_type": "code",
   "execution_count": null,
   "id": "f835f6b0-3c5a-42a8-99ad-de8af32b234a",
   "metadata": {},
   "outputs": [],
   "source": []
  }
 ],
 "metadata": {
  "kernelspec": {
   "display_name": "Python 3 (ipykernel)",
   "language": "python",
   "name": "python3"
  },
  "language_info": {
   "codemirror_mode": {
    "name": "ipython",
    "version": 3
   },
   "file_extension": ".py",
   "mimetype": "text/x-python",
   "name": "python",
   "nbconvert_exporter": "python",
   "pygments_lexer": "ipython3",
   "version": "3.12.4"
  }
 },
 "nbformat": 4,
 "nbformat_minor": 5
}
