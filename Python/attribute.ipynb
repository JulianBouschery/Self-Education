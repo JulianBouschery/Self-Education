{
 "cells": [
  {
   "cell_type": "markdown",
   "id": "9ffe388d-f75f-420a-879d-893f3d53e47b",
   "metadata": {},
   "source": [
    "# Attribute"
   ]
  },
  {
   "cell_type": "markdown",
   "id": "befbc515-04f3-456a-a018-89a9b773328c",
   "metadata": {},
   "source": [
    "Attribut ist ein Überbegriff für folgende Objekte:\n",
    "\n",
    "- Alle Eigenschaften:\n",
    "    - Instanzvariable\n",
    "    - Klassenvariable\n",
    "\n",
    "-------------------------\n",
    "\n",
    "\n",
    "- Alle Methoden: \n",
    "    - Instanzmethode\n",
    "    - Klassenmethode\n",
    "    - Statische Methode"
   ]
  },
  {
   "cell_type": "markdown",
   "id": "ac526a9c-dfe7-4c8c-a88e-5c6fb0e05dd8",
   "metadata": {},
   "source": [
    "All das sind Attribute.\n",
    "\n",
    "**Achtung**: Parameter sind KEINE Attribute. (**text von Phillip copy pasten**)\n",
    "\n",
    "Parameter sind Platzhalter für Argumente und Argumente werden zu Attributen."
   ]
  },
  {
   "cell_type": "code",
   "execution_count": null,
   "id": "ce4d2c46-9425-4b0a-9de6-05676c1f82fb",
   "metadata": {},
   "outputs": [],
   "source": []
  }
 ],
 "metadata": {
  "kernelspec": {
   "display_name": "Python 3 (ipykernel)",
   "language": "python",
   "name": "python3"
  },
  "language_info": {
   "codemirror_mode": {
    "name": "ipython",
    "version": 3
   },
   "file_extension": ".py",
   "mimetype": "text/x-python",
   "name": "python",
   "nbconvert_exporter": "python",
   "pygments_lexer": "ipython3",
   "version": "3.12.4"
  }
 },
 "nbformat": 4,
 "nbformat_minor": 5
}
