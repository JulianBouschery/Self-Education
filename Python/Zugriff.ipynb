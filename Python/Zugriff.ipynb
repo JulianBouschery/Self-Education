{
 "cells": [
  {
   "cell_type": "markdown",
   "id": "1160af45-b2ed-4139-bd6c-ab1b561ff923",
   "metadata": {},
   "source": [
    "# Zugriff"
   ]
  },
  {
   "cell_type": "markdown",
   "id": "e1d02e49-7930-44d4-acaa-060df31238ca",
   "metadata": {},
   "source": [
    "## Lesender und schreibender Zugriff in Python"
   ]
  },
  {
   "cell_type": "markdown",
   "id": "c981f788-d93f-402a-8480-adb5d02b98d2",
   "metadata": {},
   "source": [
    "In Python unterscheidet man zwischen lesendem und schreibendem Zugriff"
   ]
  },
  {
   "cell_type": "markdown",
   "id": "901f4049-b6c2-444a-9e14-684c71a745b2",
   "metadata": {},
   "source": [
    "In der Programmierung beziehen sich die Begriffe \"lesender Zugriff\" und \"schreibender Zugriff\" auf die Operationen, die auf Daten ausgeführt werden können. Diese Begriffe sind besonders relevant beim Umgang mit Variablen, Dateien, Datenbanken und anderen Datenstrukturen.\n",
    "\n",
    "Lesender Zugriff (Reading Access)\n",
    "Lesender Zugriff bedeutet, dass du die Daten nur lesen, aber nicht ändern kannst. Du kannst den aktuellen Wert einer Variablen, den Inhalt einer Datei oder Daten aus einer Datenbank abrufen, ohne sie zu modifizieren."
   ]
  },
  {
   "cell_type": "markdown",
   "id": "8bb3e71f-dea5-4f8d-9fb7-cce09cc54430",
   "metadata": {},
   "source": [
    "Je nach Datentyp / Code auf den zugegriffen wird kann \"Zugriff\" anderes aussehen, bleibt aber im Kern immer gleich:\n",
    "- Lesender Zugriff: kann Daten ansehen, aber nicht ändern. \n",
    "- Schreibender Zugriff: kann Daten ändern oder neue Daten hinzufügen.\n"
   ]
  },
  {
   "cell_type": "markdown",
   "id": "af12e725-483e-4513-a06e-36210c8de5a6",
   "metadata": {},
   "source": [
    "Zudem erfolgt vor einem schreibenden Zugriff oft (nicht immer, aber oft) ein lesender Zugriff."
   ]
  },
  {
   "cell_type": "code",
   "execution_count": 2,
   "id": "4c0d0d34-c4aa-4b27-be9e-16fcf745dbba",
   "metadata": {},
   "outputs": [
    {
     "name": "stdout",
     "output_type": "stream",
     "text": [
      "11\n"
     ]
    }
   ],
   "source": [
    "x = 10\n",
    "x += 1 \n",
    "print(x)"
   ]
  },
  {
   "cell_type": "code",
   "execution_count": 3,
   "id": "ed390c1b-e3c9-44e0-9e13-a018d93a2639",
   "metadata": {},
   "outputs": [
    {
     "name": "stdout",
     "output_type": "stream",
     "text": [
      "11\n"
     ]
    }
   ],
   "source": [
    "x = 10\n",
    "x = x + 1 # Der Wert von x wird ausgelesen um eine 1 zu diesem Wert dauz addieren zu können.\n",
    "x = 10 + 1 \n",
    "print(x)"
   ]
  },
  {
   "cell_type": "markdown",
   "id": "96f6d3bc-ffd1-410c-97b7-3c61864e5ac2",
   "metadata": {},
   "source": [
    "Beispiel lesender Zugriff:"
   ]
  },
  {
   "cell_type": "code",
   "execution_count": null,
   "id": "f968197f-d090-446e-8d09-6bc0013ab106",
   "metadata": {},
   "outputs": [],
   "source": [
    "x = 10\n",
    "print(x)  # Lesender Zugriff: Ausgabe von x\n"
   ]
  },
  {
   "cell_type": "markdown",
   "id": "119ff645-a545-484a-81dc-1a2b86869aad",
   "metadata": {},
   "source": [
    "Beispiel schreiben der Zugriff:"
   ]
  },
  {
   "cell_type": "code",
   "execution_count": 1,
   "id": "eaab2353-29d1-4c84-a148-922c13a803d5",
   "metadata": {},
   "outputs": [
    {
     "name": "stdout",
     "output_type": "stream",
     "text": [
      "20\n"
     ]
    }
   ],
   "source": [
    "x = 10\n",
    "x = 20  # Der Schreibende Zugriff ändert den Wert von x \n",
    "print(x)"
   ]
  },
  {
   "cell_type": "markdown",
   "id": "e403f457-8476-4d03-805d-54ec9c0d6a2d",
   "metadata": {},
   "source": [
    "Größeres Beispiel:"
   ]
  },
  {
   "cell_type": "code",
   "execution_count": 4,
   "id": "438bfe11-96d8-4d5b-bc6a-46b08d3787e2",
   "metadata": {},
   "outputs": [
    {
     "name": "stdout",
     "output_type": "stream",
     "text": [
      "Aktuell gibt es 1 Spieler.\n"
     ]
    }
   ],
   "source": [
    "class Charakter:\n",
    "\n",
    "    anzahl_spieler = 0  \n",
    "    \n",
    "    def __init__(self, my_name, my_age): \n",
    "        self.name = my_name\n",
    "        self.age = my_age\n",
    "        Charakter.anzahl_spieler += 1 # Für jede Instanz der Klasse Charakter, die erstellt wird, zähl die \"anzahl_charaktere\" um 1 hoch  \n",
    "        \n",
    "c1 = Charakter(\"Olaf\", 42) \n",
    "print(f\"Aktuell gibt es {Charakter.anzahl_spieler} Spieler.\")\n"
   ]
  },
  {
   "cell_type": "code",
   "execution_count": 7,
   "id": "7505dd02-8ee0-4ffa-8fee-abcc7e00bf22",
   "metadata": {},
   "outputs": [
    {
     "name": "stdout",
     "output_type": "stream",
     "text": [
      "Aktuell gibt es 10 Spieler.\n",
      "Instanzvariable Anzahl der Spieler 11\n"
     ]
    }
   ],
   "source": [
    "class Charakter:\n",
    "\n",
    "    anzahl_spieler = 10  \n",
    "    \n",
    "    def __init__(self, my_name, my_age): \n",
    "        self.name = my_name\n",
    "        self.age = my_age\n",
    "        self.anzahl_spieler += 1 # Für jede Instanz der Klasse Charakter, die erstellt wird, zähl die \"anzahl_charaktere\" um 1 hoch  \n",
    "\n",
    "# Ein Neuer Spieler kommt dazu\n",
    "c1 = Charakter(\"Olaf\", 42) \n",
    "print(f\"Aktuell gibt es {Charakter.anzahl_spieler} Spieler.\")\n",
    "print(f\"Instanzvariable Anzahl der Spieler {c1.anzahl_spieler}\")"
   ]
  },
  {
   "cell_type": "code",
   "execution_count": null,
   "id": "a0ff9a7d-f961-476c-9413-8c66580c8bb2",
   "metadata": {},
   "outputs": [],
   "source": [
    "Philip fragen"
   ]
  }
 ],
 "metadata": {
  "kernelspec": {
   "display_name": "Python 3 (ipykernel)",
   "language": "python",
   "name": "python3"
  },
  "language_info": {
   "codemirror_mode": {
    "name": "ipython",
    "version": 3
   },
   "file_extension": ".py",
   "mimetype": "text/x-python",
   "name": "python",
   "nbconvert_exporter": "python",
   "pygments_lexer": "ipython3",
   "version": "3.12.4"
  }
 },
 "nbformat": 4,
 "nbformat_minor": 5
}
