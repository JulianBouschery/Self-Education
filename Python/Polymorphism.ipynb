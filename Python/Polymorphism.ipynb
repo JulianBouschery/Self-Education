{
 "cells": [
  {
   "cell_type": "markdown",
   "id": "7743485f-fd9b-4ff1-b21a-5891f34a89a1",
   "metadata": {},
   "source": [
    "# Polymorphism"
   ]
  },
  {
   "cell_type": "markdown",
   "id": "c7bc3fa5-0709-49e0-aff4-548e202743f7",
   "metadata": {},
   "source": [
    "Polymorphism (Polymorphismus) ist ein Mechanismus, der es dem Programmierer ermöglicht, das Verhalten einer beliebigen Oberklasse eines Objekts zu ändern, ohne diese Klasse selbst zu ändern."
   ]
  },
  {
   "cell_type": "markdown",
   "id": "3d70331e-07c0-4930-ba0b-8c8162e6fa94",
   "metadata": {},
   "source": [
    "1 + 1 ist etwas anderes als \"1\" + \"1\", OBWOHL unter der Haube die gleiche Methode (`__add__()`) verwendet wird."
   ]
  },
  {
   "cell_type": "markdown",
   "id": "01b0a30b-f212-4ce2-b978-8abb30518208",
   "metadata": {},
   "source": [
    "Das ist Polymorphismus.\n",
    "\n",
    "Poly = Viele, \n",
    "\n",
    "Morphis(mus) = Gestalt\n",
    "\n",
    "Viele Gestalten gleicher Name."
   ]
  },
  {
   "cell_type": "code",
   "execution_count": null,
   "id": "60c964a2-6244-4fa6-811f-7d71fd763682",
   "metadata": {},
   "outputs": [],
   "source": []
  }
 ],
 "metadata": {
  "kernelspec": {
   "display_name": "Python 3 (ipykernel)",
   "language": "python",
   "name": "python3"
  },
  "language_info": {
   "codemirror_mode": {
    "name": "ipython",
    "version": 3
   },
   "file_extension": ".py",
   "mimetype": "text/x-python",
   "name": "python",
   "nbconvert_exporter": "python",
   "pygments_lexer": "ipython3",
   "version": "3.12.4"
  }
 },
 "nbformat": 4,
 "nbformat_minor": 5
}
