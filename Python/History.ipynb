{
 "cells": [
  {
   "cell_type": "markdown",
   "id": "7fc51552-6f27-4931-9c32-71c9cef32117",
   "metadata": {},
   "source": [
    "[Zurück zum Inhaltsverzeichnis](_Inhaltsverzeichnis_.ipynb)"
   ]
  },
  {
   "cell_type": "markdown",
   "id": "236b3328-846d-41c1-8421-0d7ae4326d82",
   "metadata": {},
   "source": [
    "# History"
   ]
  },
  {
   "cell_type": "code",
   "execution_count": null,
   "id": "00b49d7e-38f6-49ee-a46a-7554dd38f290",
   "metadata": {},
   "outputs": [],
   "source": [
    "turing, neuman, oppenheimer, "
   ]
  },
  {
   "cell_type": "markdown",
   "id": "09cbba9a-3587-456e-93d7-4c72aaf15385",
   "metadata": {},
   "source": [
    "# Usecase"
   ]
  },
  {
   "cell_type": "markdown",
   "id": "4362db0d-7e67-4148-852b-f6cc55d15038",
   "metadata": {},
   "source": [
    "Wo findet man Python überall?"
   ]
  },
  {
   "cell_type": "markdown",
   "id": "4cc7e9e2-90ec-44c8-8b20-34982eccd52c",
   "metadata": {},
   "source": [
    "Auflistung von Projekten, die Pythoncode verwendet haben:\n",
    "\n",
    "Do you remember Battlefield 2, Battlefield 2142 and Battlefield Heroes - strategy and first person shooter games from EA DICE? All the games use Python for logic and server controls. Python is frequently used for creating open-source, free games, e.g., OpenRTS, PySol, Metin 2, or Frets On Fire - famous Guitar Hero-like games written in pygame.\n",
    "\n",
    "And what about the major websites and services? Dropbox? UBER? Spotify? Pintrest? BuzzFeed? Yes. They were all written, to a greater or lesser extent, in Python. Other examples?\n",
    "\n",
    "- Internet Applications (BitTorrent, Jogger Publishing Assistant, TheCircle, TwistedMatrix)\n",
    "- 3D CAD/CAM (FreeCAD, Fandango, Blender, Vintech RCAM)\n",
    "- Enterprise Applications (Odoo, Tryton, Picalo, LinOTP 2, RESTx)\n",
    "- Image Applications (Gnofract 4D, Gogh, imgSeek, MayaVi, VPython)\n",
    "- Mobile Applications (Aarlogic C05/3, AppBackup, Pyroute)\n",
    "- Office Applications (calibre, faces, Notalon, pyspread)\n",
    "- Personal Information Managers (BitPim, Narval, Prioritise, Task Coach, WikidPad)\n",
    "- (Source: https://wiki.python.org/moin/PythonProjects)"
   ]
  },
  {
   "cell_type": "markdown",
   "id": "aa97dffc-9ff6-4f51-a763-d4962767feb3",
   "metadata": {},
   "source": [
    "Generally, Python is a great choice for:\n",
    "\n",
    "- Web and Internet development (e.g., Django and Pyramid frameworks, Flask and Bottle micro-frameworks)\n",
    "- Scientific and numeric computing (e.g., SciPy - a collection of packages for the purposes of mathematics, science, and engineering; Ipython - an interactive shell that features editing and recording of work sessions)\n",
    "- Education (it's a brilliant language for teaching programming! And that's why we're offering this course to you!)\n",
    "- Desktop GUIs (e.g., wxWidgets, Kivy, Qt)\n",
    "- Software Development (build control, management, and testing - Scons, Buildbot, Apache Gump, Roundup, Trac)\n",
    "- Business applications (ERP and e-commerce systems - Odoo, Tryton)\n",
    "(Source: https://www.python.org/about/apps)\n",
    "\n",
    "And many, many other projects and development tools."
   ]
  },
  {
   "cell_type": "markdown",
   "id": "857ae896-43e3-49ab-8dfe-0e5283b6e8bc",
   "metadata": {},
   "source": [
    "## Python Module Index"
   ]
  },
  {
   "cell_type": "markdown",
   "id": "47ebed62-48e9-49f5-b135-3d0c25b397d0",
   "metadata": {},
   "source": [
    "We have only covered the basics of Python modules here. Python's modules make up their own universe, in which Python itself is only a galaxy, and we would venture to say that exploring the depths of these modules can take significantly more time than getting acquainted with \"pure\" Python.\n",
    "\n",
    "Moreover, the Python community all over the world creates and maintains hundreds of additional modules used in very niche applications like **genetics, psychology, or even astrology!!!**\n",
    "\n",
    "These modules aren't (and won't be) distributed along with Python, or through official channels, which makes the Python universe broader - almost infinite.\n",
    "\n",
    "You can read about all standard Python modules here: https://docs.python.org/3/py-modindex.html.\n",
    "\n",
    "Don't worry - you won't need all these modules. Many of them are very specific.\n",
    "\n",
    "All you need to do is find the modules you want, and teach yourself how to use them. It's easy.\n",
    "\n"
   ]
  },
  {
   "cell_type": "code",
   "execution_count": null,
   "id": "587aa9a3-dbd7-40f5-a4f8-cbb9c45de22a",
   "metadata": {},
   "outputs": [],
   "source": []
  }
 ],
 "metadata": {
  "kernelspec": {
   "display_name": "Python 3 (ipykernel)",
   "language": "python",
   "name": "python3"
  },
  "language_info": {
   "codemirror_mode": {
    "name": "ipython",
    "version": 3
   },
   "file_extension": ".py",
   "mimetype": "text/x-python",
   "name": "python",
   "nbconvert_exporter": "python",
   "pygments_lexer": "ipython3",
   "version": "3.12.3"
  }
 },
 "nbformat": 4,
 "nbformat_minor": 5
}
