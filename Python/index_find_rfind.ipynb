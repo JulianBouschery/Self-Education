{
 "cells": [
  {
   "cell_type": "markdown",
   "id": "f73631bc-f1e2-44ff-a984-3aa100d2662d",
   "metadata": {},
   "source": [
    "[Zurück zum Inhaltsverzeichnis](_Inhaltsverzeichnis_.ipynb)"
   ]
  },
  {
   "cell_type": "markdown",
   "id": "2dbcbd10-896c-4222-9b34-aceac57c5941",
   "metadata": {},
   "source": [
    "# index, find, rfind"
   ]
  },
  {
   "cell_type": "markdown",
   "id": "ced27193-002a-42be-bb11-344e17858d90",
   "metadata": {},
   "source": [
    "## index"
   ]
  },
  {
   "cell_type": "markdown",
   "id": "0ce3697a-b653-4bb0-a54d-27726319e7ca",
   "metadata": {},
   "source": [
    "Die index Methode lässt sich auf alle Sequenzen anwenden: Strings, Listen, Tuple. \n",
    "\n",
    "Deshalb erstelle ich für sie eine seperate Datei unter folgendem Link: [index Methode](index.ipynb) "
   ]
  },
  {
   "cell_type": "markdown",
   "id": "32c7a0f4-e043-440b-a107-7c69936e9a6c",
   "metadata": {},
   "source": [
    "## find"
   ]
  },
  {
   "cell_type": "code",
   "execution_count": null,
   "id": "25a0aca9-32bd-4d52-9959-1c9ef13e9144",
   "metadata": {},
   "outputs": [],
   "source": []
  },
  {
   "cell_type": "markdown",
   "id": "13affd88-373b-4f9c-9214-1cff6d6cfe82",
   "metadata": {},
   "source": [
    "## rfind"
   ]
  },
  {
   "cell_type": "code",
   "execution_count": null,
   "id": "5615dcd3-7111-431c-a156-cb2d8f15d6df",
   "metadata": {},
   "outputs": [],
   "source": []
  }
 ],
 "metadata": {
  "kernelspec": {
   "display_name": "Python 3 (ipykernel)",
   "language": "python",
   "name": "python3"
  },
  "language_info": {
   "codemirror_mode": {
    "name": "ipython",
    "version": 3
   },
   "file_extension": ".py",
   "mimetype": "text/x-python",
   "name": "python",
   "nbconvert_exporter": "python",
   "pygments_lexer": "ipython3",
   "version": "3.12.4"
  }
 },
 "nbformat": 4,
 "nbformat_minor": 5
}
