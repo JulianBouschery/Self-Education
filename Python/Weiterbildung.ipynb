{
 "cells": [
  {
   "cell_type": "markdown",
   "id": "6279461f-b920-4223-a8b6-51f82d4590a7",
   "metadata": {},
   "source": [
    "# Weiterbildung"
   ]
  },
  {
   "cell_type": "markdown",
   "id": "36d32798-0c13-4d40-b233-3816ddcada8b",
   "metadata": {
    "jp-MarkdownHeadingCollapsed": true
   },
   "source": [
    "### edX"
   ]
  },
  {
   "cell_type": "markdown",
   "id": "7b62e59a-2a9e-435d-b8eb-022855223bca",
   "metadata": {},
   "source": [
    "[edX](https://www.edx.org/)"
   ]
  },
  {
   "cell_type": "markdown",
   "id": "6e750a95-df77-4fb7-a0fc-199ca0dd9655",
   "metadata": {},
   "source": [
    "### Coursera"
   ]
  },
  {
   "cell_type": "markdown",
   "id": "937f4fe6-d15c-49e9-ab98-d933afa6f6ad",
   "metadata": {},
   "source": [
    "[Coursera](https://www.coursera.org/)"
   ]
  },
  {
   "cell_type": "markdown",
   "id": "3c88c5ec-7eb9-478b-b567-03d1e92a8ff7",
   "metadata": {},
   "source": [
    "[DeepLearning AI](https://www.coursera.org/specializations/machine-learning-introduction)"
   ]
  },
  {
   "cell_type": "markdown",
   "id": "8f41c270-f049-4d80-ab3e-59d60b7f27f4",
   "metadata": {},
   "source": [
    "[Front-End](https://www.coursera.org/professional-certificates/meta-front-end-developer)"
   ]
  },
  {
   "cell_type": "markdown",
   "id": "f23dd1d3-9f82-4d1e-8bc9-b584a8b2d11d",
   "metadata": {},
   "source": [
    "[Backend](https://www.coursera.org/professional-certificates/meta-back-end-developer?)"
   ]
  },
  {
   "cell_type": "markdown",
   "id": "b626cb86-30a6-4cbe-8582-764f87ae8443",
   "metadata": {},
   "source": [
    "# MIT"
   ]
  },
  {
   "cell_type": "markdown",
   "id": "6e3bd69b-97d2-4bc5-86dc-33a2a435000c",
   "metadata": {},
   "source": [
    "[Übersicht](https://d34pclujt4iir0.cloudfront.net/documents/2024_draft_plan.pdf)"
   ]
  },
  {
   "cell_type": "markdown",
   "id": "187d1114-d99f-46a5-be50-70238faba55d",
   "metadata": {
    "scrolled": true
   },
   "source": [
    "[Hauptseite](https://micromasters.mit.edu/)"
   ]
  },
  {
   "cell_type": "markdown",
   "id": "e8e5baef-8fd0-40bc-b753-44bd24f2e6a9",
   "metadata": {},
   "source": [
    "[DataScience](https://micromasters.mit.edu/ds/)"
   ]
  },
  {
   "cell_type": "code",
   "execution_count": null,
   "id": "a6474b8d-c6b7-4959-8bf5-baeaf6baf353",
   "metadata": {},
   "outputs": [],
   "source": []
  }
 ],
 "metadata": {
  "kernelspec": {
   "display_name": "Python 3 (ipykernel)",
   "language": "python",
   "name": "python3"
  },
  "language_info": {
   "codemirror_mode": {
    "name": "ipython",
    "version": 3
   },
   "file_extension": ".py",
   "mimetype": "text/x-python",
   "name": "python",
   "nbconvert_exporter": "python",
   "pygments_lexer": "ipython3",
   "version": "3.12.3"
  }
 },
 "nbformat": 4,
 "nbformat_minor": 5
}
