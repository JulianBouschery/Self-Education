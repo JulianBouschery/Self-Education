{
 "cells": [
  {
   "cell_type": "markdown",
   "id": "1ed2c220-a105-4e2f-9686-22cf46cafca7",
   "metadata": {},
   "source": [
    "# hasattr"
   ]
  },
  {
   "cell_type": "markdown",
   "id": "6f4252c4-2cea-4535-b4cc-0a820b4f858e",
   "metadata": {},
   "source": [
    "\n",
    "Die hasattr Funktion wird verwendet, um zu überprüfen, ob ein Objekt ein bestimmtes Attribut besitzt. Es gibt True zurück, wenn das Objekt das Attribut hat, und False, wenn nicht."
   ]
  },
  {
   "cell_type": "markdown",
   "id": "7f8823e9-3f7b-4f02-b555-f7947bb5f794",
   "metadata": {},
   "source": [
    "Dafür verwendet die Funktion hasattr() unter der Haube die Funktion getattr(). Für uns reicht allerdings uns vorzustellen, dass hasattr unter der Haube folgendes macht:\n",
    "```python\n",
    "gesuchtes Attribut in Objekt.__dict__ or Objekt.__class__.__dict__ und fängt Fehler, falls sie auftretten."
   ]
  },
  {
   "cell_type": "markdown",
   "id": "7f63fcbe-9233-4f09-8ec8-72b553216a1a",
   "metadata": {},
   "source": [
    "Siehe auch: [getattr](getattr.ipynb)"
   ]
  },
  {
   "cell_type": "markdown",
   "id": "1851faa0-e498-4423-971d-6580df4a046d",
   "metadata": {},
   "source": [
    "Syntax: \n",
    "\n",
    "`hasattr` `(` `Objekt` `,` `Attribut` `,` `/` `)`\n",
    "\n",
    "`Objekt` = Objekt in dem gesucht wird\n",
    "\n",
    "`Attribut` = gesuchtes Attribut\n",
    "\n",
    "`/` = Trennstrich nach dem was kommen kann? Keywordarguments?"
   ]
  },
  {
   "cell_type": "code",
   "execution_count": 1,
   "id": "7d2c1e25-9052-45a9-8102-61bc5ec2396b",
   "metadata": {},
   "outputs": [
    {
     "data": {
      "text/plain": [
       "\u001b[1;31mSignature:\u001b[0m \u001b[0mhasattr\u001b[0m\u001b[1;33m(\u001b[0m\u001b[0mobj\u001b[0m\u001b[1;33m,\u001b[0m \u001b[0mname\u001b[0m\u001b[1;33m,\u001b[0m \u001b[1;33m/\u001b[0m\u001b[1;33m)\u001b[0m\u001b[1;33m\u001b[0m\u001b[1;33m\u001b[0m\u001b[0m\n",
       "\u001b[1;31mDocstring:\u001b[0m\n",
       "Return whether the object has an attribute with the given name.\n",
       "\n",
       "This is done by calling getattr(obj, name) and catching AttributeError.\n",
       "\u001b[1;31mType:\u001b[0m      builtin_function_or_method"
      ]
     },
     "metadata": {},
     "output_type": "display_data"
    }
   ],
   "source": [
    "hasattr?"
   ]
  },
  {
   "cell_type": "markdown",
   "id": "e5ea5e27-4db7-4b70-8d67-5886af3dac6f",
   "metadata": {},
   "source": [
    "Der Verweis auf eine nicht existierende Klasse/Objektkomponente löst den Fehler AttributeError aus. Um das Vorhandensein einer Komponente zu prüfen, kann die Funktion hasattr() verwendet werden, die zwei Argumente erwartet, die ihr übergeben werden\n",
    "- die Klasse oder das zu prüfende Objekt;\n",
    "- die Zeichenkette mit dem Namen der Eigenschaft, deren Existenz gemeldet werden soll.\n",
    "\n",
    "Die Funktion gibt entweder True oder False zurück."
   ]
  },
  {
   "cell_type": "markdown",
   "id": "eca340f8-8dd9-4a67-967a-9f19310b3f8f",
   "metadata": {},
   "source": [
    "[Beispiel zu hasattr](https://pythontutor.com/render.html#code=class%20Dr%C3%BCber%3A%20%0A%20%20%20%20c%20%3D%20100%0A%0A%0Aclass%20ExampleClass%28Dr%C3%BCber%29%3A%0A%20%20%20%20a%20%3D%201%0A%20%20%20%20def%20__init__%28self%29%3A%0A%20%20%20%20%20%20%20%20self.b%20%3D%202%0A%20%0A%20%0Aexample_object%20%3D%20ExampleClass%28%29%0A%0A%0Aprint%28hasattr%28example_object,%20%27c%27%29%29%0Aprint%28ExampleClass.mro%28%29%29%0Aprint%28type%28example_object%29%29%0A%0A%23%20Klassen%20c%20ist%20Klassenvariable%20der%20Superklasse,%20die%20Subklasse%20hat%20%0A%23%20Zugriff%20auf%20ihre%20eigenen%20Klassenvariablen%20und%20alle%20Klassenvariablen%20der%20Superklassen%0Aprint%28hasattr%28ExampleClass,%20%27c%27%29%29%0A%0A%0A%0A%20%0Aprint%28hasattr%28example_object,%20%27b%27%29%29%0A%0A%23%20Instanzen%20wie%20example_object%20haben%20auch%20Zugriff%20auf%20Klassenattribute%0Aprint%28hasattr%28example_object,%20%27a%27%29%29%0A%0A%0A%23%20Klassen%20HABEN%20KEINEN%20Zugriff%20auf%20instanzvariablen%20b%20ist%20instanzvariable%0Aprint%28hasattr%28ExampleClass,%20%27b%27%29%29%0A%0Aprint%28hasattr%28ExampleClass,%20%27a%27%29%29%0A%0A%0Acls_dict%20%3D%20ExampleClass.__dict__%0Ainstanze_dict%20%3D%20example_object.__dict__&cumulative=false&curInstr=9&heapPrimitives=nevernest&mode=display&origin=opt-frontend.js&py=311&rawInputLstJSON=%5B%5D&textReferences=false)"
   ]
  },
  {
   "cell_type": "markdown",
   "id": "eb3d797c-e760-4de3-a44e-521ef8914f5e",
   "metadata": {},
   "source": [
    "## Beispielaufgabe"
   ]
  },
  {
   "cell_type": "code",
   "execution_count": null,
   "id": "5e226a2c-1749-4bc2-ba84-f0b431429511",
   "metadata": {},
   "outputs": [],
   "source": [
    "class Ceil:\n",
    "    Token = 1\n",
    "\n",
    "    def get_token(self):\n",
    "        return 1\n",
    "\n",
    "class Floor(Ceil):\n",
    "\n",
    "    def get_token(self):\n",
    "        return 2\n",
    "\n",
    "    def set_token(self):\n",
    "        pass\n",
    "\n",
    "holder = Floor()\n",
    "print(hasattr(holder, \"Token\"), hasattr(Ceil, \"set_token\"))"
   ]
  },
  {
   "cell_type": "markdown",
   "id": "38199fe0-9d64-4501-ba78-4e36a55bddeb",
   "metadata": {},
   "source": [
    "Antwortmöglichkeiten:"
   ]
  },
  {
   "cell_type": "code",
   "execution_count": null,
   "id": "2eadd6d4-1eba-4fc4-bb71-0e9c8d8c5241",
   "metadata": {},
   "outputs": [],
   "source": [
    "# 1.\n",
    "False False"
   ]
  },
  {
   "cell_type": "code",
   "execution_count": null,
   "id": "df75f177-9794-4bec-95bf-383a0bb424be",
   "metadata": {},
   "outputs": [],
   "source": [
    "# 2. \n",
    "False True"
   ]
  },
  {
   "cell_type": "code",
   "execution_count": null,
   "id": "65f6e85b-6165-4972-936f-041f30a5cdc5",
   "metadata": {},
   "outputs": [],
   "source": [
    "# 3. \n",
    "True False"
   ]
  },
  {
   "cell_type": "code",
   "execution_count": null,
   "id": "0553e17c-5365-4f83-8483-3d13c19d76eb",
   "metadata": {},
   "outputs": [],
   "source": [
    "# 4. \n",
    "True True"
   ]
  },
  {
   "cell_type": "markdown",
   "id": "a12a522e-07f1-4fc9-9025-776357878f43",
   "metadata": {},
   "source": [
    "### Lösung:"
   ]
  },
  {
   "cell_type": "markdown",
   "id": "0cf29b97-cd7b-4460-b954-9c9394b35d95",
   "metadata": {},
   "source": [
    "Syntax: \n",
    "\n",
    "`hasattr` `(` `Objekt` `,` `Attribut` `,` `/` `)`\n",
    "\n",
    "`Objekt` = Objekt in dem gesucht wird\n",
    "\n",
    "`Attribut` = gesuchtes Attribut\n",
    "\n",
    "`/` = Trennstrich nach dem Keywordarguments angegeben werden können."
   ]
  },
  {
   "cell_type": "code",
   "execution_count": 25,
   "id": "c14d9350-a909-4744-9add-8d6a2bc96bd0",
   "metadata": {},
   "outputs": [
    {
     "name": "stdout",
     "output_type": "stream",
     "text": [
      "True False\n"
     ]
    }
   ],
   "source": [
    "class Ceil:\n",
    "    Token = 1\n",
    "\n",
    "    def get_token(self):\n",
    "        return 1\n",
    "\n",
    "class Floor(Ceil):\n",
    "\n",
    "    def get_token(self):\n",
    "        return 2\n",
    "\n",
    "    def set_token(self):\n",
    "        pass\n",
    "\n",
    "holder = Floor()\n",
    "print(hasattr(holder, \"Token\"), hasattr(Ceil, \"set_token\"))"
   ]
  },
  {
   "cell_type": "markdown",
   "id": "79657d38-62a4-47ab-ba4c-7f32d63c15c1",
   "metadata": {},
   "source": [
    "Es gibt mehrere Orte an den `hasattr` das gegeben Attribut \"Token\" sucht.\n",
    "1. Zuerst im Objekt `holder` selbst. In diesem Fall in der Instanz. \"Token\" keine Instanzvariable.\n",
    "2. Als nächstes wird in der Klasse von `holder` gesucht. `Token` ist weder eine Methode noch eine Klassenvariable der Klasse `Floor`.\n",
    "3. Dann wird in der Superklasse geschaut, wo die Klassenvariable \"Token\" gefunden wird. Wäre das nicht der Fall würde das bis `object` so weiter gehen."
   ]
  },
  {
   "cell_type": "code",
   "execution_count": 26,
   "id": "02bbee53-e1ab-472f-acbc-a803c360a61f",
   "metadata": {},
   "outputs": [
    {
     "data": {
      "text/plain": [
       "True"
      ]
     },
     "execution_count": 26,
     "metadata": {},
     "output_type": "execute_result"
    }
   ],
   "source": [
    "hasattr(holder, \"Token\") # --> Enthält die Instanz `holder` das Attribut Token (Klassenvariable) "
   ]
  },
  {
   "cell_type": "markdown",
   "id": "0bb6ae19-089e-4da8-9e93-87d36968453a",
   "metadata": {},
   "source": [
    "Dann wird geprüft ob die Klasse `Ceil` das gegeben Attribut \"set_token\" hat. Gesucht wird:\n",
    "1. Zuerst im Objekt `Ceil` selbst. In diesem Fall in der Klasse. \"set_token\" keine Klassenvariable und auch keine Methode der Klasse.\n",
    "2. Dann wird in der Superklasse geschaut, was in diesem Fall direkt `object` ist. Aber \"set_token\" wird nicht gefunden."
   ]
  },
  {
   "cell_type": "code",
   "execution_count": 45,
   "id": "d94d3fd3-4fcc-4ed8-a069-f8bbadb5e082",
   "metadata": {},
   "outputs": [
    {
     "data": {
      "text/plain": [
       "False"
      ]
     },
     "execution_count": 45,
     "metadata": {},
     "output_type": "execute_result"
    }
   ],
   "source": [
    "hasattr(Ceil, \"set_token\")"
   ]
  },
  {
   "cell_type": "code",
   "execution_count": 30,
   "id": "14fa11d9-767e-48be-a999-8fa7c803fc78",
   "metadata": {},
   "outputs": [
    {
     "data": {
      "text/plain": [
       "mappingproxy({'__module__': '__main__',\n",
       "              'get_token': <function __main__.Floor.get_token(self)>,\n",
       "              'set_token': <function __main__.Floor.set_token(self)>,\n",
       "              '__doc__': None})"
      ]
     },
     "execution_count": 30,
     "metadata": {},
     "output_type": "execute_result"
    }
   ],
   "source": [
    "holder.__class__.__dict__"
   ]
  },
  {
   "cell_type": "code",
   "execution_count": 28,
   "id": "7f6940fd-46be-4695-ab0b-c31bcafac2f4",
   "metadata": {},
   "outputs": [
    {
     "data": {
      "text/plain": [
       "mappingproxy({'__module__': '__main__',\n",
       "              'get_token': <function __main__.Floor.get_token(self)>,\n",
       "              'set_token': <function __main__.Floor.set_token(self)>,\n",
       "              '__doc__': None})"
      ]
     },
     "execution_count": 28,
     "metadata": {},
     "output_type": "execute_result"
    }
   ],
   "source": [
    "Floor.__dict__"
   ]
  },
  {
   "cell_type": "code",
   "execution_count": 29,
   "id": "6afa0aa3-3d35-483b-912c-04dd35972952",
   "metadata": {},
   "outputs": [
    {
     "data": {
      "text/plain": [
       "mappingproxy({'__module__': '__main__',\n",
       "              'Token': 1,\n",
       "              'get_token': <function __main__.Ceil.get_token(self)>,\n",
       "              '__dict__': <attribute '__dict__' of 'Ceil' objects>,\n",
       "              '__weakref__': <attribute '__weakref__' of 'Ceil' objects>,\n",
       "              '__doc__': None})"
      ]
     },
     "execution_count": 29,
     "metadata": {},
     "output_type": "execute_result"
    }
   ],
   "source": [
    "Ceil.__dict__"
   ]
  },
  {
   "cell_type": "markdown",
   "id": "308283c5-65b5-41fa-a940-41b6312d5909",
   "metadata": {},
   "source": [
    "Eine Sache würde ich gerne Testen:"
   ]
  },
  {
   "cell_type": "code",
   "execution_count": 37,
   "id": "7a69bf6b-9b9c-4266-a3bb-7771887f1f17",
   "metadata": {},
   "outputs": [
    {
     "name": "stdout",
     "output_type": "stream",
     "text": [
      "False\n"
     ]
    }
   ],
   "source": [
    "class Ceil:\n",
    "    Token = 1\n",
    "\n",
    "    def get_token(self):\n",
    "        return 1\n",
    "\n",
    "class Floor(Ceil):\n",
    "\n",
    "    def get_token(self):\n",
    "        return 2\n",
    "\n",
    "    def set_token(self):\n",
    "        pass\n",
    "\n",
    "class SecondFloor(Ceil):\n",
    "    pass\n",
    "\n",
    "    Token2 = 1\n",
    "\n",
    "holder = Floor()\n",
    "print(hasattr(holder, \"Token2\"))"
   ]
  },
  {
   "cell_type": "markdown",
   "id": "0a3364a8-73d8-4b1c-9438-4320b7dad471",
   "metadata": {},
   "source": [
    "`hasattr` kann also die `mro` hinauf suchen, aber sie kann nicht hoch zur Superklasse und dann wieder einen anderen Zweig runter..."
   ]
  },
  {
   "cell_type": "code",
   "execution_count": 41,
   "id": "de56129d-9d41-4c6c-a2ce-d2aa7a1928aa",
   "metadata": {},
   "outputs": [
    {
     "data": {
      "text/plain": [
       "[__main__.Floor, __main__.Ceil, object]"
      ]
     },
     "execution_count": 41,
     "metadata": {},
     "output_type": "execute_result"
    }
   ],
   "source": [
    "holder.__class__.mro()"
   ]
  },
  {
   "cell_type": "code",
   "execution_count": 43,
   "id": "a941607b-7475-4da3-9af4-be3af0a795d6",
   "metadata": {},
   "outputs": [
    {
     "data": {
      "text/plain": [
       "[int, object]"
      ]
     },
     "execution_count": 43,
     "metadata": {},
     "output_type": "execute_result"
    }
   ],
   "source": [
    "SecondFloor.Token2.__class__.mro()"
   ]
  },
  {
   "cell_type": "markdown",
   "id": "295a5d97-30f7-4ed8-ae98-a2f88c7b6e88",
   "metadata": {},
   "source": [
    "Das funktioniert nicht so ganz wie es sollte, aber so oder so gilt der Satz oben."
   ]
  }
 ],
 "metadata": {
  "kernelspec": {
   "display_name": "Python 3 (ipykernel)",
   "language": "python",
   "name": "python3"
  },
  "language_info": {
   "codemirror_mode": {
    "name": "ipython",
    "version": 3
   },
   "file_extension": ".py",
   "mimetype": "text/x-python",
   "name": "python",
   "nbconvert_exporter": "python",
   "pygments_lexer": "ipython3",
   "version": "3.12.4"
  }
 },
 "nbformat": 4,
 "nbformat_minor": 5
}
