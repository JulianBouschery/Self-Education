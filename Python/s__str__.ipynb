{
 "cells": [
  {
   "cell_type": "markdown",
   "id": "43af406a-6055-4253-88fd-ed1ffae09749",
   "metadata": {},
   "source": [
    "# `__str__()`"
   ]
  },
  {
   "cell_type": "markdown",
   "id": "22c2bca8-05c9-4133-aba5-b58440235637",
   "metadata": {},
   "source": [
    "When Python needs any class/object to be presented as a string, it tries to invoke a method named __str__() from the object and to use the string it returns. The method can be overridden to construct adequate and useful behavior."
   ]
  },
  {
   "cell_type": "code",
   "execution_count": 1,
   "id": "fa8887d6-1685-4598-8bce-2c5d2b45697a",
   "metadata": {},
   "outputs": [
    {
     "name": "stdout",
     "output_type": "stream",
     "text": [
      "<__main__.A object at 0x0000025DC3222EA0> object!\n"
     ]
    }
   ],
   "source": [
    "class A:\n",
    "    pass\n",
    "\n",
    "\n",
    "class B:\n",
    "    def __str__(self):\n",
    "        return \"object!\"\n",
    "\n",
    "\n",
    "a = A()\n",
    "b = B()\n",
    "print(a, b)\n"
   ]
  },
  {
   "cell_type": "code",
   "execution_count": null,
   "id": "3c7a6291-9bbe-412a-b7fc-8dfd2c1cd359",
   "metadata": {},
   "outputs": [],
   "source": []
  }
 ],
 "metadata": {
  "kernelspec": {
   "display_name": "Python 3 (ipykernel)",
   "language": "python",
   "name": "python3"
  },
  "language_info": {
   "codemirror_mode": {
    "name": "ipython",
    "version": 3
   },
   "file_extension": ".py",
   "mimetype": "text/x-python",
   "name": "python",
   "nbconvert_exporter": "python",
   "pygments_lexer": "ipython3",
   "version": "3.12.4"
  }
 },
 "nbformat": 4,
 "nbformat_minor": 5
}
