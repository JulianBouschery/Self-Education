{
 "cells": [
  {
   "cell_type": "markdown",
   "id": "bbc2076c-d050-4a54-86a1-2aad469e8b9a",
   "metadata": {},
   "source": [
    "# `__module__`"
   ]
  },
  {
   "cell_type": "code",
   "execution_count": null,
   "id": "476a2376-9972-435c-ad72-97ed47f4438b",
   "metadata": {},
   "outputs": [],
   "source": []
  }
 ],
 "metadata": {
  "kernelspec": {
   "display_name": "Python 3 (ipykernel)",
   "language": "python",
   "name": "python3"
  },
  "language_info": {
   "codemirror_mode": {
    "name": "ipython",
    "version": 3
   },
   "file_extension": ".py",
   "mimetype": "text/x-python",
   "name": "python",
   "nbconvert_exporter": "python",
   "pygments_lexer": "ipython3",
   "version": "3.12.4"
  }
 },
 "nbformat": 4,
 "nbformat_minor": 5
}
