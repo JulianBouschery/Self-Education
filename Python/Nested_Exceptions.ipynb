{
 "cells": [
  {
   "cell_type": "markdown",
   "id": "12ba8e7d-2437-4f82-a59f-1f2a0f95f6d7",
   "metadata": {},
   "source": [
    "# Nested Exception"
   ]
  },
  {
   "cell_type": "code",
   "execution_count": 1,
   "id": "6110b5de-5ca2-4f0b-bf4d-123f36f0fbc9",
   "metadata": {},
   "outputs": [
    {
     "name": "stdout",
     "output_type": "stream",
     "text": [
      "at the top\n",
      "on the bottom\n"
     ]
    }
   ],
   "source": [
    "def top():\n",
    "    try:\n",
    "        raise ZeroDivisionError\n",
    "    except:\n",
    "        print(\"at the top\")\n",
    "        raise # re-raised den vorherigen ZeroDivisionError\n",
    "\n",
    "\n",
    "def middle(): # Code, der nur ablenken soll\n",
    "    top()\n",
    "\n",
    "\n",
    "try:\n",
    "    top()\n",
    "except:\n",
    "    print(\"on the bottom\")"
   ]
  },
  {
   "cell_type": "code",
   "execution_count": null,
   "id": "45436ae7-6e0b-4ec5-9a30-ffbbd93bc178",
   "metadata": {},
   "outputs": [],
   "source": []
  }
 ],
 "metadata": {
  "kernelspec": {
   "display_name": "Python 3 (ipykernel)",
   "language": "python",
   "name": "python3"
  },
  "language_info": {
   "codemirror_mode": {
    "name": "ipython",
    "version": 3
   },
   "file_extension": ".py",
   "mimetype": "text/x-python",
   "name": "python",
   "nbconvert_exporter": "python",
   "pygments_lexer": "ipython3",
   "version": "3.12.4"
  }
 },
 "nbformat": 4,
 "nbformat_minor": 5
}
