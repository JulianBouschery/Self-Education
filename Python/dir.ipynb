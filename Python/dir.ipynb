{
 "cells": [
  {
   "cell_type": "markdown",
   "id": "77aecb2f-375c-4f41-853c-8cdb254d4d6b",
   "metadata": {},
   "source": [
    "[Zurück zum Inhaltsverzeichnis](_Inhaltsverzeichnis_.ipynb)"
   ]
  },
  {
   "cell_type": "markdown",
   "id": "2b0823d2-bcb2-49bd-bf7b-5eee8d726ce9",
   "metadata": {},
   "source": [
    "# dir Funktion"
   ]
  },
  {
   "cell_type": "markdown",
   "id": "b168441c-6408-43d8-9895-d1fd1ec82348",
   "metadata": {},
   "source": [
    "Die dir()-Funktion wird verwendet, um die Namen (Attribute und Methoden) zu erhalten, die im Gültigkeitsbereich eines Objekts verfügbar sind. Es kann hilfreich sein, um die Struktur eines Objekts zu verstehen und zu sehen, welche Methoden oder Eigenschaften es besitzt."
   ]
  },
  {
   "cell_type": "markdown",
   "id": "91bc5855-5564-4745-b233-4628b9caabf5",
   "metadata": {},
   "source": [
    "Aus Python heraus, kann man die Methoden auch einsehen. \n"
   ]
  },
  {
   "cell_type": "markdown",
   "id": "47a2a97f-9842-4225-8cc7-f14b2ff0ef9c",
   "metadata": {},
   "source": [
    "Die `dir()` Funktion, produziert eine Liste aller Namen, die sich im Namespace eines Objekts oder einer Klasse befinden."
   ]
  },
  {
   "cell_type": "code",
   "execution_count": 5,
   "id": "194da332-ffa1-4762-a829-737c3d8f489a",
   "metadata": {},
   "outputs": [
    {
     "data": {
      "text/plain": [
       "['__add__',\n",
       " '__class__',\n",
       " '__class_getitem__',\n",
       " '__contains__',\n",
       " '__delattr__',\n",
       " '__dir__',\n",
       " '__doc__',\n",
       " '__eq__',\n",
       " '__format__',\n",
       " '__ge__',\n",
       " '__getattribute__',\n",
       " '__getitem__',\n",
       " '__getnewargs__',\n",
       " '__getstate__',\n",
       " '__gt__',\n",
       " '__hash__',\n",
       " '__init__',\n",
       " '__init_subclass__',\n",
       " '__iter__',\n",
       " '__le__',\n",
       " '__len__',\n",
       " '__lt__',\n",
       " '__mul__',\n",
       " '__ne__',\n",
       " '__new__',\n",
       " '__reduce__',\n",
       " '__reduce_ex__',\n",
       " '__repr__',\n",
       " '__rmul__',\n",
       " '__setattr__',\n",
       " '__sizeof__',\n",
       " '__str__',\n",
       " '__subclasshook__',\n",
       " 'count',\n",
       " 'index']"
      ]
     },
     "execution_count": 5,
     "metadata": {},
     "output_type": "execute_result"
    }
   ],
   "source": [
    "dir(tuple)# gibt mir alle Namen aus dem jetztigen File/Modul in Jupyter erhalte ich auch ganz viele _i10 das\n",
    "# sind die Namen der einzelnen Zellen"
   ]
  },
  {
   "cell_type": "markdown",
   "id": "1d4d5576-4fcc-433b-8428-3f9813625187",
   "metadata": {},
   "source": [
    "`dir` ist es in der Lage, alle Namen, die durch ein bestimmtes Modul bereitgestellt werden, aufzudecken.\n",
    "\n",
    "Es gibt eine Bedingung: Das Modul muss zuvor ALS GANZES importiert worden sein (d. h. die Verwendung der Anweisung import module - from module reicht nicht aus)."
   ]
  },
  {
   "cell_type": "markdown",
   "id": "7aa16127-1987-49e5-85d1-66516bf1d170",
   "metadata": {},
   "source": [
    "Die Funktion gibt eine alphabetisch sortierte Liste zurück, die alle Namen der Entitäten enthält, die in dem Modul vorhanden sind, das durch einen Namen identifiziert wird, der der Funktion als Argument übergeben wurde:"
   ]
  },
  {
   "cell_type": "markdown",
   "id": "959773c1-c787-49e2-9bb9-1c69c59163c8",
   "metadata": {},
   "source": [
    "Syntax:\n",
    "\n",
    "`dir` `(` `module` `)`"
   ]
  },
  {
   "cell_type": "code",
   "execution_count": 7,
   "id": "1ad72d77-91d6-43fc-8680-1b958e80e106",
   "metadata": {},
   "outputs": [
    {
     "name": "stdout",
     "output_type": "stream",
     "text": [
      "['__doc__', '__loader__', '__name__', '__package__', '__spec__', 'acos', 'acosh', 'asin', 'asinh', 'atan', 'atan2', 'atanh', 'cbrt', 'ceil', 'comb', 'copysign', 'cos', 'cosh', 'degrees', 'dist', 'e', 'erf', 'erfc', 'exp', 'exp2', 'expm1', 'fabs', 'factorial', 'floor', 'fmod', 'frexp', 'fsum', 'gamma', 'gcd', 'hypot', 'inf', 'isclose', 'isfinite', 'isinf', 'isnan', 'isqrt', 'lcm', 'ldexp', 'lgamma', 'log', 'log10', 'log1p', 'log2', 'modf', 'nan', 'nextafter', 'perm', 'pi', 'pow', 'prod', 'radians', 'remainder', 'sin', 'sinh', 'sqrt', 'sumprod', 'tan', 'tanh', 'tau', 'trunc', 'ulp']"
     ]
    }
   ],
   "source": [
    "import math\n",
    "print(dir(math), end = \"\")"
   ]
  },
  {
   "cell_type": "code",
   "execution_count": null,
   "id": "4249500b-014e-4332-8e89-af76f8db3dd8",
   "metadata": {},
   "outputs": [],
   "source": []
  }
 ],
 "metadata": {
  "kernelspec": {
   "display_name": "Python 3 (ipykernel)",
   "language": "python",
   "name": "python3"
  },
  "language_info": {
   "codemirror_mode": {
    "name": "ipython",
    "version": 3
   },
   "file_extension": ".py",
   "mimetype": "text/x-python",
   "name": "python",
   "nbconvert_exporter": "python",
   "pygments_lexer": "ipython3",
   "version": "3.12.4"
  }
 },
 "nbformat": 4,
 "nbformat_minor": 5
}
