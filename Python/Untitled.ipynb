{
 "cells": [
  {
   "cell_type": "markdown",
   "id": "3ce1a676-ad8b-41c9-be1a-ea4036f0b9bc",
   "metadata": {},
   "source": [
    "# `__getattr__` `__getattribute__` `__setattr__`"
   ]
  },
  {
   "cell_type": "markdown",
   "id": "87a5654a-b801-4963-86fa-f8c79a99ca1a",
   "metadata": {},
   "source": [
    "[Beispiel](https://pythontutor.com/visualize.html#code=class%20Mensch%3A%0A%20%20%20%20def%20__init__%28self,name%29%3A%0A%20%20%20%20%20%20%20%20self.name%20%3D%20name%0A%20%20%20%20def%20__setattr__%28self,%20attribute,%20value%29%3A%0A%20%20%20%20%20%20%20%20print%28%22lass%20uns%20super%20setattr%20nutzen%22%29%0A%20%20%20%20%20%20%20%20super%28%29.__setattr__%28attribute,%20value%29%0A%20%20%20%20%20%20%20%20print%28f%22Setting%20attribute%3A%20%7Battribute%7D%20to%20%7Bvalue%7D%22%29%0A%20%20%20%20%20%20%20%20%0Aclass%20Person%28Mensch%29%3A%0A%20%20%20%20%0A%20%20%20%20def%20__init__%28self,name,%20adresse%29%3A%0A%20%20%20%20%20%20%20%20super%28%29.__init__%28name%29%0A%20%20%20%20%20%20%20%20self.adresse%20%3D%20adresse%0A%20%20%20%20%20%20%20%20%0A%20%20%20%20%20%20%20%20%0A%20%20%20%20def%20__setattr__%28self,%20attribute,%20value%29%3A%0A%20%20%20%20%20%20%20%20print%28%22lass%20uns%20super%20setattr%20nutzen%22%29%0A%20%20%20%20%20%20%20%20super%28%29.__setattr__%28attribute,%20value*2%29%23%20MERKE%20super%28%29%20%3D%3E%20spendiert%20self%0A%20%20%20%20%20%20%20%20print%28f%22Setting%20attribute%3A%20%7Battribute%7D%20to%20%7Bvalue%7D%22%29%0A%20%20%20%20%20%20%20%20%0A%20%20%20%20%0A%20%0A%20%20%20%20%20%20%20%23%0Ap1%20%3D%20Person%28%22Anna%22,%22hier%22%29%0A%0A%0Ap1.alter%20%3D%2042%0A%0Ap1.__setattr__%28%22alter%22,%20100%29%0A%0Ap1.__setattr__%28%22alter%22,%20100%29&cumulative=false&heapPrimitives=nevernest&mode=edit&origin=opt-frontend.js&py=311&rawInputLstJSON=%5B%5D&textReferences=false)"
   ]
  },
  {
   "cell_type": "code",
   "execution_count": null,
   "id": "0beeb58a-ca98-4689-8d47-216b3cde1b23",
   "metadata": {},
   "outputs": [],
   "source": []
  }
 ],
 "metadata": {
  "kernelspec": {
   "display_name": "Python 3 (ipykernel)",
   "language": "python",
   "name": "python3"
  },
  "language_info": {
   "codemirror_mode": {
    "name": "ipython",
    "version": 3
   },
   "file_extension": ".py",
   "mimetype": "text/x-python",
   "name": "python",
   "nbconvert_exporter": "python",
   "pygments_lexer": "ipython3",
   "version": "3.12.4"
  }
 },
 "nbformat": 4,
 "nbformat_minor": 5
}
