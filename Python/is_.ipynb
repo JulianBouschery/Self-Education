{
 "cells": [
  {
   "cell_type": "markdown",
   "id": "28b6656c-ad98-42b5-991d-35d18994cbfc",
   "metadata": {},
   "source": [
    "[Zurück zum Inhaltsverzeichnis](_Inhaltsverzeichnis_.ipynb)"
   ]
  },
  {
   "cell_type": "markdown",
   "id": "a468f0ba-dfb4-4265-b7f0-2a5b91123eb2",
   "metadata": {},
   "source": [
    "# is..."
   ]
  },
  {
   "cell_type": "markdown",
   "id": "187d86be-888b-4aca-aadd-22429a0522b4",
   "metadata": {},
   "source": [
    "## Übersicht"
   ]
  },
  {
   "cell_type": "markdown",
   "id": "a56d00b1-a19b-41a0-a9b4-12e77258ca93",
   "metadata": {},
   "source": [
    "Ein Haufen von str Methoden, die alle irgendwas an oder in einem String prüfen."
   ]
  },
  {
   "cell_type": "code",
   "execution_count": null,
   "id": "e8635f6b-a612-4106-8158-bcd8a3ce41d5",
   "metadata": {},
   "outputs": [],
   "source": [
    "12. isalnum()                              # Überprüft, ob die Zeichenkette aus alphanumerischen Zeichen besteht.\n",
    "13. isalpha()                              # Überprüft, ob die Zeichenkette aus alphabetischen Zeichen besteht.\n",
    "14. isascii()                              # Überprüft, ob alle Zeichen in der Zeichenkette im ASCII-Bereich liegen.\n",
    "15. isdecimal()                            # Überprüft, ob die Zeichenkette aus dezimalen Zeichen besteht.\n",
    "16. isdigit()                              # Überprüft, ob die Zeichenkette aus Ziffern besteht.\n",
    "17. isidentifier()                         # Überprüft, ob die Zeichenkette ein gültiger Python-Identifier ist.\n",
    "18. islower()                              # Überprüft, ob alle Zeichen in der Zeichenkette Kleinbuchstaben sind.\n",
    "19. isnumeric()                            # Überprüft, ob die Zeichenkette aus numerischen Zeichen besteht.\n",
    "20. isprintable()                          # Überprüft, ob alle Zeichen in der Zeichenkette druckbar sind.\n",
    "21. isspace()                              # Überprüft, ob die Zeichenkette nur Leerzeichen enthält.\n",
    "22. istitle()                              # Überprüft, ob die Zeichenkette die Titelkastenregel (Erster Buchstabe jedes Wortes groß) befolgt.\n",
    "23. isupper()      "
   ]
  },
  {
   "cell_type": "markdown",
   "id": "91990efe-9cff-49d6-b33b-f983faab8eda",
   "metadata": {},
   "source": [
    "## Beispiele"
   ]
  },
  {
   "cell_type": "code",
   "execution_count": 123,
   "id": "8a33229c-b25b-4b5b-8e74-7268cf3eda6f",
   "metadata": {
    "tags": []
   },
   "outputs": [
    {
     "data": {
      "text/plain": [
       "True"
      ]
     },
     "execution_count": 123,
     "metadata": {},
     "output_type": "execute_result"
    }
   ],
   "source": [
    "\"abc123\".isalnum()"
   ]
  },
  {
   "cell_type": "code",
   "execution_count": 125,
   "id": "1a0d1ba9-33c5-4052-b991-7aff72d66728",
   "metadata": {
    "tags": []
   },
   "outputs": [
    {
     "data": {
      "text/plain": [
       "False"
      ]
     },
     "execution_count": 125,
     "metadata": {},
     "output_type": "execute_result"
    }
   ],
   "source": [
    "\"abc 123\".isalnum()"
   ]
  },
  {
   "cell_type": "code",
   "execution_count": 126,
   "id": "f5283d79-0006-4f9d-a44c-368f34cf29ab",
   "metadata": {
    "tags": []
   },
   "outputs": [
    {
     "data": {
      "text/plain": [
       "False"
      ]
     },
     "execution_count": 126,
     "metadata": {},
     "output_type": "execute_result"
    }
   ],
   "source": [
    "\"abc123\".isalpha()"
   ]
  },
  {
   "cell_type": "code",
   "execution_count": 128,
   "id": "2b50b4d5-7944-4cf4-9a9a-de9373b9ab02",
   "metadata": {
    "tags": []
   },
   "outputs": [
    {
     "data": {
      "text/plain": [
       "True"
      ]
     },
     "execution_count": 128,
     "metadata": {},
     "output_type": "execute_result"
    }
   ],
   "source": [
    "\"Hallo\".isalpha()"
   ]
  },
  {
   "cell_type": "code",
   "execution_count": 129,
   "id": "ef8e30e3-4bc6-44a4-9a12-1fa0c95a5993",
   "metadata": {
    "tags": []
   },
   "outputs": [
    {
     "data": {
      "text/plain": [
       "False"
      ]
     },
     "execution_count": 129,
     "metadata": {},
     "output_type": "execute_result"
    }
   ],
   "source": [
    "\"abc123\".isnumeric()"
   ]
  },
  {
   "cell_type": "code",
   "execution_count": 130,
   "id": "d66b1824-6796-4eda-bb35-9102f49a4eb4",
   "metadata": {
    "tags": []
   },
   "outputs": [
    {
     "data": {
      "text/plain": [
       "True"
      ]
     },
     "execution_count": 130,
     "metadata": {},
     "output_type": "execute_result"
    }
   ],
   "source": [
    "\"123\".isnumeric()"
   ]
  },
  {
   "cell_type": "markdown",
   "id": "308bbbd7-b0a3-4be7-9176-e4da0c45ab40",
   "metadata": {},
   "source": [
    "### string Module"
   ]
  },
  {
   "cell_type": "markdown",
   "id": "20f9723d-2d4f-4cff-87e1-7b862e3b0f2d",
   "metadata": {},
   "source": [
    "Achtung die Klasse für Strings in Python heißt `str`. Es gibt auch ein Module in der Standard-Library das `string` heisst. Das ist NICHT die Klasse für \"Strings\" sondern eine Ansammlung von sinnvollen/hilfreichen string Vorgaben.\n",
    "\n",
    "[Für das string-Module siehe hier](https://docs.python.org/3/library/string.html)"
   ]
  },
  {
   "cell_type": "code",
   "execution_count": 14,
   "id": "4dab965e-ab97-4201-8f55-0d08f46455ca",
   "metadata": {},
   "outputs": [],
   "source": [
    "import string"
   ]
  },
  {
   "cell_type": "markdown",
   "id": "6399dbf0-7098-4f27-9cb1-36188ef524c3",
   "metadata": {},
   "source": [
    "`string.hexdigits` gibt an welche Zeichen zum Hexadezimalsystem gehören."
   ]
  },
  {
   "cell_type": "code",
   "execution_count": 16,
   "id": "ee7a5416-519c-4087-a375-f4b5dc693219",
   "metadata": {
    "tags": []
   },
   "outputs": [
    {
     "data": {
      "text/plain": [
       "'0123456789abcdefABCDEF'"
      ]
     },
     "execution_count": 16,
     "metadata": {},
     "output_type": "execute_result"
    }
   ],
   "source": [
    "string.hexdigits"
   ]
  },
  {
   "cell_type": "markdown",
   "id": "d1ffeb1a-4b4a-403f-9aa6-6f4e6490453e",
   "metadata": {},
   "source": [
    "`str.printable` gibt an welche Zeichen druckbar sind."
   ]
  },
  {
   "cell_type": "code",
   "execution_count": 15,
   "id": "5003c735-9ded-4612-b1c3-9a81c822aae9",
   "metadata": {
    "scrolled": true,
    "tags": []
   },
   "outputs": [
    {
     "data": {
      "text/plain": [
       "'0123456789abcdefghijklmnopqrstuvwxyzABCDEFGHIJKLMNOPQRSTUVWXYZ!\"#$%&\\'()*+,-./:;<=>?@[\\\\]^_`{|}~ \\t\\n\\r\\x0b\\x0c'"
      ]
     },
     "execution_count": 15,
     "metadata": {},
     "output_type": "execute_result"
    }
   ],
   "source": [
    "string.printable"
   ]
  },
  {
   "cell_type": "code",
   "execution_count": 10,
   "id": "c4604582-6796-4ae6-abed-ecf61cd9dc3f",
   "metadata": {
    "tags": []
   },
   "outputs": [
    {
     "data": {
      "text/plain": [
       "False"
      ]
     },
     "execution_count": 10,
     "metadata": {},
     "output_type": "execute_result"
    }
   ],
   "source": [
    "\"\\u0003\".isprintable()"
   ]
  },
  {
   "cell_type": "markdown",
   "id": "47f3554b-78fb-43ce-8670-d1f3c623636b",
   "metadata": {},
   "source": [
    "#### Den Code der beiden folgenden Zellen, nur ausführen, wenn man sich über 100 Zeilen ausdruck anschauen möchte..."
   ]
  },
  {
   "cell_type": "code",
   "execution_count": null,
   "id": "10209a16-24e8-4172-a252-567351129a52",
   "metadata": {
    "tags": []
   },
   "outputs": [],
   "source": [
    "for i in range(0,128):\n",
    "    print(i, chr(i), chr(i).isprintable())"
   ]
  },
  {
   "cell_type": "code",
   "execution_count": null,
   "id": "5110daef-f306-468c-903d-b8a1e1dd4b7b",
   "metadata": {
    "tags": []
   },
   "outputs": [],
   "source": [
    "for i in range(0,128):\n",
    "    print(i, chr(i), chr(i).isprintable(), chr(i) in string.printable)"
   ]
  },
  {
   "cell_type": "markdown",
   "id": "21222512-497d-4ad7-a89f-f2d89d90b99b",
   "metadata": {},
   "source": [
    "### string.identifier"
   ]
  },
  {
   "cell_type": "markdown",
   "id": "8deb17f0-600d-407c-ac31-ce40afccc409",
   "metadata": {},
   "source": [
    "Die Methode isidentifier() in Python ist eine String-Methode, die überprüft, ob eine Zeichenkette ein gültiger Bezeichner (Identifier) in Python ist und gibt dann einen bool zurück. Ein gültiger Bezeichner beginnt mit einem Buchstaben (a-z, A-Z) oder einem Unterstrich (_) und kann gefolgt sein von Buchstaben, Ziffern (0-9) oder Unterstrichen."
   ]
  },
  {
   "cell_type": "code",
   "execution_count": 171,
   "id": "e18c9b5c-44ee-46ef-a2ee-905a634e6e3d",
   "metadata": {
    "tags": []
   },
   "outputs": [],
   "source": [
    "hallo_welt = \"links neben dem = steht ein Identifier\""
   ]
  },
  {
   "cell_type": "code",
   "execution_count": 172,
   "id": "a03bb660-d160-4a37-97ab-be7a6c20853b",
   "metadata": {
    "tags": []
   },
   "outputs": [],
   "source": [
    "def ich_bin_auch_ein_identifier():\n",
    "    pass\n",
    "\n",
    "class IchAuchIdentifier():\n",
    "    pass"
   ]
  },
  {
   "cell_type": "code",
   "execution_count": 173,
   "id": "6b3a4c0e-2d26-42fe-a07f-e8fce1771483",
   "metadata": {
    "tags": []
   },
   "outputs": [
    {
     "data": {
      "text/plain": [
       "True"
      ]
     },
     "execution_count": 173,
     "metadata": {},
     "output_type": "execute_result"
    }
   ],
   "source": [
    "\"hallo_welt\".isidentifier()"
   ]
  },
  {
   "cell_type": "code",
   "execution_count": 178,
   "id": "e2a31ed5-fff7-46b4-b2b3-a31dd79bcd0e",
   "metadata": {
    "tags": []
   },
   "outputs": [],
   "source": [
    "check_list = \"12Hallo\", \"Hallo12\", \"Du Da\", \"__ich_bin_komisch__42\", \"DuDaImRadiOOO\", \"SUper!\", \"$1212\""
   ]
  },
  {
   "cell_type": "code",
   "execution_count": 179,
   "id": "05eb1664-f1ea-4adb-bc22-0a04b56959d1",
   "metadata": {
    "tags": []
   },
   "outputs": [
    {
     "name": "stdout",
     "output_type": "stream",
     "text": [
      "12Hallo False\n",
      "Hallo12 True\n",
      "Du Da False\n",
      "__ich_bin_komisch__42 True\n",
      "DuDaImRadiOOO True\n",
      "SUper! False\n",
      "$1212 False\n"
     ]
    }
   ],
   "source": [
    "for elem in check_list: \n",
    "    print(elem, elem.isidentifier())"
   ]
  },
  {
   "cell_type": "markdown",
   "id": "30281f25-e076-469d-b63a-5e5b0abd3ac0",
   "metadata": {},
   "source": [
    "#### Beispiel für Praktische Anwendung:"
   ]
  },
  {
   "cell_type": "code",
   "execution_count": 146,
   "id": "158440d9-9809-4773-aa03-a2754bb421ce",
   "metadata": {
    "tags": []
   },
   "outputs": [
    {
     "name": "stdout",
     "output_type": "stream",
     "text": [
      "['abcd', 'alhds']\n",
      "['1234']\n",
      "['aw123']\n"
     ]
    }
   ],
   "source": [
    "alphas = []\n",
    "numerics = []\n",
    "alpha_numerics = []\n",
    "\n",
    "words = \"abcd\", \"aw123\", \"djsds fsd\", \"1234\", \"alhds\"\n",
    "\n",
    "for word in words:\n",
    "    if word.isalpha():\n",
    "        alphas.append(word)\n",
    "    elif word.isnumeric():\n",
    "        numerics.append(word)\n",
    "    elif word.isalnum():\n",
    "        alpha_numerics.append(word)\n",
    "        \n",
    "        \n",
    "print(alphas)\n",
    "print(numerics)\n",
    "print(alpha_numerics)"
   ]
  }
 ],
 "metadata": {
  "kernelspec": {
   "display_name": "Python 3 (ipykernel)",
   "language": "python",
   "name": "python3"
  },
  "language_info": {
   "codemirror_mode": {
    "name": "ipython",
    "version": 3
   },
   "file_extension": ".py",
   "mimetype": "text/x-python",
   "name": "python",
   "nbconvert_exporter": "python",
   "pygments_lexer": "ipython3",
   "version": "3.12.4"
  }
 },
 "nbformat": 4,
 "nbformat_minor": 5
}
