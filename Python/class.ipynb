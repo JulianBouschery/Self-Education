{
 "cells": [
  {
   "cell_type": "markdown",
   "id": "9072dcc0-a859-426b-836d-b7b5dbb3fa72",
   "metadata": {},
   "source": [
    "[Zurück zum Inhaltsverzeichnis](_Inhaltsverzeichnis_.ipynb)"
   ]
  },
  {
   "cell_type": "markdown",
   "id": "e81ab82e-c470-4efc-b71c-237ce2056ff4",
   "metadata": {},
   "source": [
    "Siehe auch: [Übersicht Datenkram (with open etc.)](Übersicht_Datenkram.ipynb)"
   ]
  },
  {
   "cell_type": "markdown",
   "id": "85ffc180-6e8b-40a0-a1b5-fed08fb795e1",
   "metadata": {},
   "source": [
    "Siehe auch: [Dot Notation](dot.ipynb)"
   ]
  },
  {
   "cell_type": "markdown",
   "id": "51829f14-4461-4991-a414-8e66b12ebb0c",
   "metadata": {},
   "source": [
    "Siehe auch: [DUNDER-Methoden](DUNDER.ipynb)"
   ]
  },
  {
   "cell_type": "markdown",
   "id": "3c85c17a-5b9e-48d7-b516-29b790f1996e",
   "metadata": {},
   "source": [
    "# Klassen (class) in Python"
   ]
  },
  {
   "cell_type": "markdown",
   "id": "98181f65-5a8c-455f-836f-0f3dc981240d",
   "metadata": {},
   "source": [
    "Fahrplan wie ich hier an das Thema Klassen herangehen werde:\n",
    "\n",
    "1.\n",
    "    - Einfache Klasse\n",
    "    - Einfaches Objekt erstellen/anschauen\n",
    "2.\n",
    "    - Einfache Klasse + 1 Attribut\n",
    "    - Einfaches Objekt + 1 Attribut erstellen/anschauen\n",
    "3.\n",
    "    - Einfache Klasse mit + 1 Attribut + 1 Methode\n",
    "    - Ein Objekt + 1 Attribut + 1 Methode erstellen/anschauen\n",
    "\n",
    "usw."
   ]
  },
  {
   "cell_type": "code",
   "execution_count": null,
   "id": "597fbb50-1021-4268-aa55-80937cd6afa4",
   "metadata": {},
   "outputs": [],
   "source": []
  },
  {
   "cell_type": "code",
   "execution_count": null,
   "id": "c2c11ba3-c1e7-46ad-ba48-004ea6fd99b3",
   "metadata": {},
   "outputs": [],
   "source": []
  },
  {
   "cell_type": "code",
   "execution_count": null,
   "id": "45d0a993-124c-47c7-89e6-ff13e406e700",
   "metadata": {},
   "outputs": [],
   "source": []
  },
  {
   "cell_type": "code",
   "execution_count": null,
   "id": "49e3b1ee-d9f9-4afa-8818-2ddcb618bd13",
   "metadata": {},
   "outputs": [],
   "source": []
  },
  {
   "cell_type": "markdown",
   "id": "da9a0a62-0049-4d17-9f07-4cc60bf096e3",
   "metadata": {},
   "source": [
    "# Einschub von Philip am 07.06.2024"
   ]
  },
  {
   "cell_type": "markdown",
   "id": "c8cb4b83-f108-4d4f-9899-df29aece3e54",
   "metadata": {},
   "source": [
    "### Methoden"
   ]
  },
  {
   "cell_type": "markdown",
   "id": "6b646a18-7e07-486d-bc3b-ffdbf4f4f4db",
   "metadata": {},
   "source": [
    "Funktion in Klassen nennt man Methoden!"
   ]
  },
  {
   "cell_type": "markdown",
   "id": "39f97558-7412-45b4-a7af-7a2696a6c581",
   "metadata": {},
   "source": [
    "Einfachstes Beispiel:"
   ]
  },
  {
   "cell_type": "markdown",
   "id": "501d9e02-b43e-4596-904d-d72b24217ab2",
   "metadata": {},
   "source": [
    "Klassen ohne `__init__`: [Pythontutor](https://pythontutor.com/visualize.html#code=class%20Person%3A%20%0A%20%20%20%20legal_drinking_age%20%3D%2016%20%0A%20%20%20%20%0A%20%20%0A%20%20%20%20def%20heiraten%28self,%20andere_person%29%3A%0A%20%20%20%20%20%20%20%20print%28self.name,%20%22heiratet%22,%20andere_person.name%29%0A%20%20%20%20%20%20%20%20self.married%20%3D%20True%20%20%23%20Wird%20die%20Methode%20aufgerufen%20erstelle%20ich%20eine%20neue%20Instanzvariable%20married%20%0A%20%20%20%20%0A%20%20%20%20%23%20F%C3%A4higkeiten%20als%20Instanz-Methoden%0A%20%20%20%20def%20laufen%28self,strecke%29%3A%0A%20%20%20%20%20%20%20%20print%28self.name,%20%22l%C3%A4uft%20gerade%22,%20strecke,%20%22km%22%29%0A%20%20%20%20def%20reden%28self,%20ausdruck%29%3A%20%0A%20%20%20%20%20%20%20%20print%28f%22%7Bself.name%7D%20sagt%3A%7Bausdruck%7D%22%29%0A%20%20%20%20%0A%20%20%20%20%0Aperson1%20%3D%20Person%28%29%0Aperson2%20%3D%20Person%28%29%0A%0Adict_p1%20%3D%20person1.__dict__%0Adict_p2%20%3D%20person2.__dict__%0A%0A%0A%23%20Instanzvariable%20erstellen%20da%20instanz%20DOT%20varname%20%3D%20Wert%0Aperson1.name%20%3D%20%22Anna%22%0Aperson1.alter%20%3D%20100%0Aperson2.name%20%3D%20%22Frank%22%0A%0A%23%20Instanzvariablen%20in%20Methoden%20erstellen.%20%0Aperson2.heiraten%28person1%29%0A%0A%23%20Klassenvariable%20da%20Klassenname%20DOT%20varname%20%3D%20Wert%0APerson.name%20%3D%20%22Phil%22%0A%0A%23%20Versucht%20das%20zu%20verstehen%0Aprint%28person1.name%29%0Aprint%28person2.name%29&cumulative=false&heapPrimitives=nevernest&mode=edit&origin=opt-frontend.js&py=311&rawInputLstJSON=%5B%5D&textReferences=false)"
   ]
  },
  {
   "cell_type": "markdown",
   "id": "f09e034e-c4e4-4997-a828-92223b227795",
   "metadata": {},
   "source": [
    "self = Platzhalter"
   ]
  },
  {
   "cell_type": "markdown",
   "id": "e84430ea-1156-4c53-bf5f-7eb8373b7053",
   "metadata": {},
   "source": [
    "[Didaktisch falsch aber zum verständnis](https://pythontutor.com/visualize.html#code=%0Aclass%20Person%3A%20%0A%20%20%20%20legal_drinking_age%20%3D%2016%20%0A%20%20%20%20%22%22%22%0A%20%20%20%20def%20__init__%28self,%20name,%20alter_PARAM,%20wohnort,%20married%3DFalse%29%3A%0A%20%20%20%20%20%20%20%20%20%20%20%20self.name%20%3D%20name%0A%20%20%20%20%20%20%20%20%20%20%20%20self.alter%20%3D%20alter_PARAM%0A%20%20%20%20%20%20%20%20%20%20%20%20self.wohnort%20%3D%20wohnort%0A%20%20%20%20%20%20%20%20%20%20%20%20self.married%20%3D%20married%0A%20%20%20%20%22%22%22%0A%20%20%20%20def%20heiraten%28self,%20andere_person%29%3A%0A%20%20%20%20%20%20%20%20print%28self.name,%20%22heiratet%22,%20andere_person.name%29%0A%20%20%20%20%20%20%20%20self.married%20%3D%20True%20%20%23%20Wird%20die%20Methode%20aufgerufen%20erstelle%20ich%20eine%20neue%20Instanzvariable%20married%20%0A%20%20%20%20%0A%20%20%20%20%23%20F%C3%A4higkeiten%20als%20Instanz-Methoden%0A%20%20%20%20def%20laufen%28self,strecke%29%3A%0A%20%20%20%20%20%20%20%20print%28self.name,%20%22l%C3%A4uft%20gerade%22,%20strecke,%20%22km%22%29%0A%20%20%20%20def%20reden%28self,%20ausdruck%29%3A%20%0A%20%20%20%20%20%20%20%20print%28f%22%7Bself.name%7D%20sagt%3A%7Bausdruck%7D%22%29%0A%20%20%20%20%0A%23%23%23%23%23%23%23%23ENDE%20der%20Klasse%23%23%23%23%23%23%23%23%23%23%23%0A%0Aperson1%20%3D%20Person%28%29%0Aperson2%20%3D%20Person%28%29%0A%0A%0Adef%20bef%C3%BClle_instanz%28instanz,%20name,%20alter,%20city,%20married%29%3A%0A%20%20%20%20instanz.name%20%3D%20name%0A%20%20%20%20instanz.alter%20%3D%20alter%0A%20%20%20%20instanz.wohnort%20%3D%20city%0A%20%20%20%20instanz.married%20%3D%20married%0A%20%20%20%20%0A%23%20Achtung%20DIDAKTIK%20das%20macht%20man%20so%20nicht%20%0A%23%20DAS%20ist%20eine%20FUNKTION%20die%20NICHTS%20mit%20Person%20Klasse%20zu%20tun%20hat%0A%0A%0Abef%C3%BClle_instanz%28person1,%20%22Phil%22,%2040,%20%22Buxtehude%22,%20True%29%0Abef%C3%BClle_instanz%28person2,%20%22Frank%22,%2042,%20%22Berlin%22,%20False%29%0A%0A%0A%0A%0A%23%20Instanzvariablen%20in%20Methoden%20erstellen.%20%0Aperson2.heiraten%28person1%29%0A%0A%23%20Klassenvariable%20da%20Klassenname%20DOT%20varname%20%3D%20Wert%0APerson.name%20%3D%20%22Phil%22%0A%0A%23%20Versucht%20das%20zu%20verstehen%0Aprint%28person1.name%29%0Aprint%28person2.name%29&cumulative=false&heapPrimitives=nevernest&mode=edit&origin=opt-frontend.js&py=311&rawInputLstJSON=%5B%5D&textReferences=false)"
   ]
  },
  {
   "cell_type": "markdown",
   "id": "9fba1889-5f7a-4ad9-bc07-d941a36b0d3d",
   "metadata": {},
   "source": [
    "[Zwischenschritt](https://pythontutor.com/visualize.html#code=%0Aclass%20Person%3A%20%0A%20%20%20%20legal_drinking_age%20%3D%2016%20%0A%20%20%20%20%22%22%22%0A%20%20%20%20def%20__init__%28self,%20name,%20alter_PARAM,%20wohnort,%20married%3DFalse%29%3A%0A%20%20%20%20%20%20%20%20%20%20%20%20self.name%20%3D%20name%0A%20%20%20%20%20%20%20%20%20%20%20%20self.alter%20%3D%20alter_PARAM%0A%20%20%20%20%20%20%20%20%20%20%20%20self.wohnort%20%3D%20wohnort%0A%20%20%20%20%20%20%20%20%20%20%20%20self.married%20%3D%20married%0A%20%20%20%20%22%22%22%0A%20%20%20%20%0A%20%20%20%20def%20bef%C3%BClle_instanz_meth%28instanz,%20name,%20alter,%20city,%20married%29%3A%0A%20%20%20%20%20%20%20%20instanz.name%20%3D%20name%0A%20%20%20%20%20%20%20%20instanz.alter%20%3D%20alter%0A%20%20%20%20%20%20%20%20instanz.wohnort%20%3D%20city%0A%20%20%20%20%20%20%20%20instanz.married%20%3D%20married%0A%20%20%20%20%0A%20%20%20%20%0A%20%20%20%20def%20heiraten%28self,%20andere_person%29%3A%0A%20%20%20%20%20%20%20%20print%28self.name,%20%22heiratet%22,%20andere_person.name%29%0A%20%20%20%20%20%20%20%20self.married%20%3D%20True%20%20%23%20Wird%20die%20Methode%20aufgerufen%20erstelle%20ich%20eine%20neue%20Instanzvariable%20married%20%0A%20%20%20%20%0A%20%20%20%20%23%20F%C3%A4higkeiten%20als%20Instanz-Methoden%0A%20%20%20%20def%20laufen%28self,strecke%29%3A%0A%20%20%20%20%20%20%20%20print%28self.name,%20%22l%C3%A4uft%20gerade%22,%20strecke,%20%22km%22%29%0A%20%20%20%20def%20reden%28self,%20ausdruck%29%3A%20%0A%20%20%20%20%20%20%20%20print%28f%22%7Bself.name%7D%20sagt%3A%7Bausdruck%7D%22%29%0A%20%20%20%20%0A%23%23%23%23%23%23%23%23ENDE%20der%20Klasse%23%23%23%23%23%23%23%23%23%23%23%0A%0Aperson1%20%3D%20Person%28%29%0Aperson2%20%3D%20Person%28%29%0A%0A%22%22%22%0Adef%20bef%C3%BClle_instanz%28instanz,%20name,%20alter,%20city,%20married%29%3A%0A%20%20%20%20instanz.name%20%3D%20name%0A%20%20%20%20instanz.alter%20%3D%20alter%0A%20%20%20%20instanz.wohnort%20%3D%20city%0A%20%20%20%20instanz.married%20%3D%20married%0A%20%22%22%22%20%20%20%0A%23%20Achtung%20DIDAKTIK%20das%20macht%20man%20so%20nicht%20%0A%23%20DAS%20ist%20eine%20FUNKTION%20die%20NICHTS%20mit%20Person%20Klasse%20zu%20tun%20hat%0A%0A%0Aperson1.bef%C3%BClle_instanz_meth%28%22Phil%22,%2040,%20%22Buxtehude%22,%20True%29%0Aperson2.bef%C3%BClle_instanz_meth%28%22Frank%22,%2042,%20%22Berlin%22,%20False%29%0A%0A%0A%0A%0A%23%20Instanzvariablen%20in%20Methoden%20erstellen.%20%0Aperson2.heiraten%28person1%29%0A%0A%23%20Klassenvariable%20da%20Klassenname%20DOT%20varname%20%3D%20Wert%0APerson.name%20%3D%20%22Phil%22%0A%0A%23%20Versucht%20das%20zu%20verstehen%0Aprint%28person1.name%29%0Aprint%28person2.name%29&cumulative=false&heapPrimitives=nevernest&mode=edit&origin=opt-frontend.js&py=311&rawInputLstJSON=%5B%5D&textReferences=false)"
   ]
  },
  {
   "cell_type": "markdown",
   "id": "420a27e9-25b3-4ff7-9b5b-1a66eeb5c7d0",
   "metadata": {},
   "source": [
    "aufruf auf klasse vs. aufruf auf instanz"
   ]
  },
  {
   "cell_type": "code",
   "execution_count": null,
   "id": "ed2f9e4e-ef53-4e9d-895f-e9361b0974d4",
   "metadata": {},
   "outputs": [],
   "source": [
    "klasse.methode(self,10)"
   ]
  },
  {
   "cell_type": "markdown",
   "id": "6fc91215-d149-4684-b4e0-22ed8a7b1fc0",
   "metadata": {},
   "source": [
    "[Superklasse direkt ansprechen](https://pythontutor.com/visualize.html#code=%0A%0A%0Aclass%20Charakter%3A%0A%20%20%20%20klassenvariable%20%3D%2043%0A%20%20%20%20def%20__init__%28self,%20my_name,%20my_age,%20my_city,%20level%29%3A%0A%20%20%20%20%20%20%20%20Uropa.__init__%28self,%20djsdjsjkl%29%0A%20%20%20%20%20%20%20%20self.name%20%3D%20my_name%20%23%20Das%20sind%20Instanzvariablen%20die%20durch%20self.IDENTIFIER%20%28name,%20age,%20city%29%20erstellt%20wurden.%0A%0A%20%20%20%20%20%20%20%20self.age%20%3D%20my_age%20%20%20%23%20%28Ein%20Identifier%20ist%20so%20%C3%A4hnlich%20wie%20der%20Key%20im%20Dictionary%29%0A%0A%20%20%20%20%20%20%20%20self.city%20%3D%20my_city%20%23%20Den%20Instanzvariablen%20werden%20in%20dieser%20Schreibweise%20%C3%BCber%20ihre%20Parameter%20automatisch%20die%20%0A%0A%20%20%20%20%20%20%20%20%20%20%20%20%20%20%20%20%20%20%20%20%20%20%20%20%20%20%20%20%23%20entsprechenden%20Argumente%20zugewiesen,%20soblad%20dies%20der%20Funktion%20beim%20Aufruf%20%C3%BCbergeben%20wurden.%20%0A%20%20%20%20%20%20%20%20self.level%20%3D%20level%0A%20%20%20%20%0A%20%20%20%20def%20upgrade%28self,amount%29%3A%20%0A%20%20%20%20%20%20%20%20self.level%20%2B%3D%20amount%0A%20%20%20%20%20%20%20%20%0Aplayer1%20%3D%20Charakter%28%22Phil%22,%2043,%20%22Frankfurt%22,%2023%29%0A%20%0A%23%20Auf%20Klasse%0A%23Charakter.age%20%20%23%20Versuche%20auf%20Klasse%20Instanzvariable%20zu%20erhalten%0Aprint%28Charakter.klassenvariable%29%20%23%20Rufe%20die%20Klassenvariable%20auf%20%C3%BCber%20Klasse%0A%23Charakter.upgrade%2810%29%20%23%20Versuche%20die%20Instanzmethode%20aufzurufen%20%0ACharakter.upgrade%28player1,%2010%29%20%23%20Versuche%20die%20Instanzmethode%20aufzurufen%20%0A%0A%23%20Auf%20Instanz%0A%0Aprint%28player1.age%29%0Aprint%28player1.klassenvariable%29%20%23%20auf%20instanz%20Klassenvariable%20%0Aplayer1.upgrade%2810%29%20%23%20Wenn%20auf%20instanz%20InstanzMethode%20aufgerufen%20wird%0A%23%20ist%20die%20instanz%20automatisch%20in%20self%20referenziert.%20%0A%23%20Wir%20m%C3%BCssen%20die%20self%20PARAMETER%20nichth%20selbst%20angeben.&cumulative=false&heapPrimitives=nevernest&mode=edit&origin=opt-frontend.js&py=311&rawInputLstJSON=%5B%5D&textReferences=false)"
   ]
  },
  {
   "cell_type": "code",
   "execution_count": 31,
   "id": "3fc8637b-d329-40f9-a6f2-1edbe951f734",
   "metadata": {},
   "outputs": [],
   "source": [
    "Arbeiter = type(\"Arbeiter\", (object,), {}) # Klasse on the fly erschaffen, ohne über das Modul \"class\" zu gehen"
   ]
  },
  {
   "cell_type": "code",
   "execution_count": null,
   "id": "d9535eb5-ec94-4510-96f5-8b70cbb4fab6",
   "metadata": {},
   "outputs": [],
   "source": []
  },
  {
   "cell_type": "code",
   "execution_count": null,
   "id": "f7c24937-6ce8-4791-a8b0-5200fc567c62",
   "metadata": {},
   "outputs": [],
   "source": []
  },
  {
   "cell_type": "code",
   "execution_count": null,
   "id": "8926a025-1bcc-41e7-9764-f6cd3f68d41e",
   "metadata": {},
   "outputs": [],
   "source": []
  },
  {
   "cell_type": "code",
   "execution_count": null,
   "id": "3191e4c0-122e-49e1-8b92-7db48675bacc",
   "metadata": {},
   "outputs": [],
   "source": []
  },
  {
   "cell_type": "markdown",
   "id": "3b89df97-e000-4826-a1eb-249281a2f673",
   "metadata": {},
   "source": [
    "## Schritt 1: Was ist was?"
   ]
  },
  {
   "cell_type": "markdown",
   "id": "31499611-f747-43dd-9a5c-3da10377f015",
   "metadata": {},
   "source": [
    "So sieht eine Klasse aus:"
   ]
  },
  {
   "cell_type": "code",
   "execution_count": 1,
   "id": "b61ce58c-a03d-4c25-9244-82ef3db63fae",
   "metadata": {},
   "outputs": [],
   "source": [
    "class Charakter: \n",
    "    \n",
    "    def __init__(self, my_name, my_age, my_city):\n",
    "        self.name = my_name \n",
    "        self.age = my_age"
   ]
  },
  {
   "cell_type": "markdown",
   "id": "2d24dc3f-18af-4ce8-8146-f5a2a96b5094",
   "metadata": {},
   "source": [
    "Was sehen wir?"
   ]
  },
  {
   "cell_type": "code",
   "execution_count": 1,
   "id": "638859a6-6288-45ce-9fe7-51dd905f12c0",
   "metadata": {},
   "outputs": [],
   "source": [
    "class Charakter: # \"class\" sagt Achtung jetzt kommt die Klasse \"Charakter\" --> Das ist der Klassenname.\n",
    "    \n",
    "    # Die def-Funktion ist eingerückt, deshalb gehört diese Funktion zur Klasse und ist damit eine (Klassefunktion) / Methode.\n",
    "    def __init__(self, my_name, my_age):\n",
    "        # __init__ ist eine Methode, die für das Anlegen neuer Instanzvariablen zuständig ist. \n",
    "        # (Wie das genau funktioniert schaut man sich vielleicht irgendwann mal an...)\n",
    "        \n",
    "        self.name = my_name # Das sind Instanzvariablen die durch self.IDENTIFIER (name und age) erstellt werden.\n",
    "        self.age = my_age   # (Ein Identifier ist so ähnlich wie der Key im Dictionary)\n",
    "                            # Den Instanzvariablen werden in dieser Schreibweise über ihre Parameter automatisch die \n",
    "                            # entsprechenden Argumente zugewiesen, soblad dies der Methode beim Aufruf übergeben wurden. \n"
   ]
  },
  {
   "cell_type": "code",
   "execution_count": 3,
   "id": "40e75f7e-5527-43ad-9bd3-7c1918cccea9",
   "metadata": {},
   "outputs": [],
   "source": [
    "player1 = Charakter(\"Phil\", 43)"
   ]
  },
  {
   "cell_type": "code",
   "execution_count": 4,
   "id": "b948e163-5868-4bb1-a63d-781b2752747d",
   "metadata": {},
   "outputs": [
    {
     "data": {
      "text/plain": [
       "<__main__.Charakter at 0x13e087cc530>"
      ]
     },
     "execution_count": 4,
     "metadata": {},
     "output_type": "execute_result"
    }
   ],
   "source": [
    "player1"
   ]
  },
  {
   "cell_type": "markdown",
   "id": "05efd37d-7ffe-4640-86af-dd9ecb7c4e2e",
   "metadata": {},
   "source": [
    "Das ist eine Instanz der Klasse Charakter"
   ]
  },
  {
   "cell_type": "code",
   "execution_count": 27,
   "id": "01e5f78b-8d24-4f8a-8d57-e6378c5c7d5d",
   "metadata": {},
   "outputs": [
    {
     "data": {
      "text/plain": [
       "'Phil'"
      ]
     },
     "execution_count": 27,
     "metadata": {},
     "output_type": "execute_result"
    }
   ],
   "source": [
    "player1.name"
   ]
  },
  {
   "cell_type": "code",
   "execution_count": 28,
   "id": "448b2cee-1483-4776-8bc5-4e0791f88a39",
   "metadata": {},
   "outputs": [
    {
     "data": {
      "text/plain": [
       "43"
      ]
     },
     "execution_count": 28,
     "metadata": {},
     "output_type": "execute_result"
    }
   ],
   "source": [
    "player1.age"
   ]
  },
  {
   "cell_type": "code",
   "execution_count": 6,
   "id": "765064f6-81ed-4a12-a043-bbe46f5ab20b",
   "metadata": {},
   "outputs": [
    {
     "ename": "AttributeError",
     "evalue": "type object 'Charakter' has no attribute 'name'",
     "output_type": "error",
     "traceback": [
      "\u001b[1;31m---------------------------------------------------------------------------\u001b[0m",
      "\u001b[1;31mAttributeError\u001b[0m                            Traceback (most recent call last)",
      "Cell \u001b[1;32mIn[6], line 1\u001b[0m\n\u001b[1;32m----> 1\u001b[0m \u001b[43mCharakter\u001b[49m\u001b[38;5;241;43m.\u001b[39;49m\u001b[43mname\u001b[49m()\n",
      "\u001b[1;31mAttributeError\u001b[0m: type object 'Charakter' has no attribute 'name'"
     ]
    }
   ],
   "source": [
    "Charakter.name"
   ]
  },
  {
   "cell_type": "markdown",
   "id": "f13a50fc-5eff-48a7-b8ac-6f3d0beef4f1",
   "metadata": {},
   "source": [
    "Warum funktioniert das nicht? Eine Klasse weiß nichts von ihrer Instanz(en). "
   ]
  },
  {
   "cell_type": "markdown",
   "id": "f7341b90-e843-46b0-b503-d5c5141cfe0a",
   "metadata": {},
   "source": [
    "Bitte nicht mit Charakter.`__name__` verwechseln.\n",
    "\n",
    "Siehe auch: [Kurze Zusammenfassung `__name__`,`__module__`,`__bases__`](short_nmb_.ipynb)"
   ]
  },
  {
   "cell_type": "markdown",
   "id": "1913930d-2102-41ba-bba9-41c09b12740f",
   "metadata": {},
   "source": [
    "Die Klasse selbst hat keinen Namen, aber die INSTANZ \"player1\" der Klasse \"Charakter\" hat einen Namen."
   ]
  },
  {
   "cell_type": "markdown",
   "id": "85e2c1e5-cab7-44a3-a1fe-a64db7714cc1",
   "metadata": {},
   "source": [
    "#### Metapher "
   ]
  },
  {
   "cell_type": "markdown",
   "id": "3c0d8fd2-5283-4198-bb8f-05d6063d722f",
   "metadata": {},
   "source": [
    "**Kuchen** \n",
    "\n",
    "Du kannst dir eine Kuchen anschauen und sagen: \"Ah, das ist ein Apfelkuchen. Der muss mit einem Rezept (Klasse) für Apfelkuchen gebacken worden sein.\" Aber wenn du dir ein Rezept anschaust ist es unmöglich zu sagen wie viele Apfelkuchen schon damit gebacken wurden. Genau so ist es mit Klassen und ihren Instanzen.\n",
    "\n",
    "Eine Klasse ist ein Bauplan / Rezept wie eine Instanz erstellt werden soll. In jeder erstellten Instanz ist ein Verweiß auf die Klasse mit der sie erstellt wurde gespeichert, aber eine Klasse weiß nichts von den Instanzen, die unter ihr erstellt wurden. "
   ]
  },
  {
   "cell_type": "markdown",
   "id": "7c9f599a-4492-4a51-8151-2692c4008712",
   "metadata": {},
   "source": [
    "Siehe auch [Identifier](ident.ipynb)"
   ]
  },
  {
   "cell_type": "markdown",
   "id": "5f4e8afd-cbe7-4476-bfc8-4343309fbb4b",
   "metadata": {},
   "source": [
    "Das eine Klasse keine Instanzvariable `name` hat ist ganz normal und liegt auch nicht an der `__init__` Methode."
   ]
  },
  {
   "cell_type": "code",
   "execution_count": 23,
   "id": "791ca3f5-70f5-4b90-a77c-0105341f8827",
   "metadata": {},
   "outputs": [],
   "source": [
    "class test():\n",
    "    pass\n",
    "\n",
    "    def test1():\n",
    "        pass"
   ]
  },
  {
   "cell_type": "code",
   "execution_count": 24,
   "id": "32057a5e-c23f-4586-b910-81484bd380c9",
   "metadata": {},
   "outputs": [
    {
     "ename": "AttributeError",
     "evalue": "type object 'test' has no attribute 'name'",
     "output_type": "error",
     "traceback": [
      "\u001b[1;31m---------------------------------------------------------------------------\u001b[0m",
      "\u001b[1;31mAttributeError\u001b[0m                            Traceback (most recent call last)",
      "Cell \u001b[1;32mIn[24], line 1\u001b[0m\n\u001b[1;32m----> 1\u001b[0m \u001b[43mtest\u001b[49m\u001b[38;5;241;43m.\u001b[39;49m\u001b[43mname\u001b[49m\n",
      "\u001b[1;31mAttributeError\u001b[0m: type object 'test' has no attribute 'name'"
     ]
    }
   ],
   "source": [
    "test.name"
   ]
  },
  {
   "cell_type": "markdown",
   "id": "6a444e0d-3b78-4e7d-8d01-b131efc2b53f",
   "metadata": {},
   "source": [
    "test() hat gerade noch keine sogenannte `__init__()` Methode, deshalb nutzt sie die `__init__` ihrer Superklasse. Hier die von `object`, diese `__init__` erlaubt uns OHNE Argumente eine Instanz zu eröffnen."
   ]
  },
  {
   "cell_type": "markdown",
   "id": "daaeac3b-44cd-4e34-be90-c296214812d0",
   "metadata": {},
   "source": [
    "Man kann der Klasse theoretisch eine Klassenvariable geben aber dazu kommen wir gleich. Klassenvariablen stehen in der Klasse ausserhalb der Methode."
   ]
  },
  {
   "cell_type": "markdown",
   "id": "987c62fe-fcae-4781-b88a-01f4cfc4b547",
   "metadata": {},
   "source": [
    "Aber zu diesen Themen gleich mehr."
   ]
  },
  {
   "cell_type": "code",
   "execution_count": 10,
   "id": "5d34fe58-4eac-4d55-a004-eb0c210b23f9",
   "metadata": {},
   "outputs": [
    {
     "name": "stdout",
     "output_type": "stream",
     "text": [
      "<__main__.Charakter object at 0x0000013E08DFB6B0>\n",
      "Phil\n",
      "43\n"
     ]
    }
   ],
   "source": [
    "class Charakter: \n",
    "   \n",
    "    def __init__(self, my_name, my_age):\n",
    "        self.name = my_name \n",
    "        self.age = my_age   \n",
    "\n",
    "player1 = Charakter(\"Phil\", 43)\n",
    "\n",
    "print(player1)\n",
    "print(player1.name)\n",
    "print(player1.age)"
   ]
  },
  {
   "cell_type": "code",
   "execution_count": 148,
   "id": "21823804-3415-4ec2-a662-05d0f2f88042",
   "metadata": {
    "tags": []
   },
   "outputs": [
    {
     "data": {
      "text/plain": [
       "'Phil'"
      ]
     },
     "execution_count": 148,
     "metadata": {},
     "output_type": "execute_result"
    }
   ],
   "source": [
    "player1.name # Klasseninstanz.Identifier\n",
    "# player1 zeigt auf die Klasseninstanz \"player1\", der Klasse Charakter \n",
    "# und in dieser Instanz gibt es eine Instanzvariable self.name = Phil\n",
    "# Genau wie bei \"dict.name/age/city\" kann man auch auf player1.name/age/city zugreifen"
   ]
  },
  {
   "cell_type": "code",
   "execution_count": 48,
   "id": "bdc01b89-5b79-4e14-b246-50e778343157",
   "metadata": {},
   "outputs": [
    {
     "name": "stdout",
     "output_type": "stream",
     "text": [
      "Phil\n",
      "42\n"
     ]
    }
   ],
   "source": [
    "print(player1.name)\n",
    "print(player1.age)"
   ]
  },
  {
   "cell_type": "markdown",
   "id": "40163be6-060a-4289-bf3d-3708b93605af",
   "metadata": {},
   "source": [
    "[Beispiel im Pythontutor erklärt](https://pythontutor.com/visualize.html#code=class%20Charakter%3A%20%0A%20%20%20%0A%20%20%20%20def%20__init__%28self,%20my_name,%20my_age%29%3A%0A%20%20%20%20%20%20%20%20self.name%20%3D%20my_name%20%0A%20%20%20%20%20%20%20%20self.age%20%3D%20my_age%0A%0Aplayer1%20%3D%20Charakter%28%22Phil%22,%2043%29%0Aprint%28player1%29%0A%0Aprint%28player1.name%29%0Aprint%28player1.age%29&cumulative=false&heapPrimitives=nevernest&mode=edit&origin=opt-frontend.js&py=311&rawInputLstJSON=%5B%5D&textReferences=false)"
   ]
  },
  {
   "cell_type": "markdown",
   "id": "51c8e6d4-c3e3-47dc-9a21-350383902b09",
   "metadata": {},
   "source": [
    "Das kann man so schreiben, aber für 20 Spieler wäre das zu nervig."
   ]
  },
  {
   "cell_type": "markdown",
   "id": "3c6bcf66-7f9a-4dbe-a3da-4d3134494b8e",
   "metadata": {},
   "source": [
    "### Zwischenschritt:"
   ]
  },
  {
   "cell_type": "markdown",
   "id": "708a3b32-d6b3-4b61-8059-cb6de4b34f4d",
   "metadata": {},
   "source": [
    "Siehe auch: [`__bases__`](b__bases__.ipynb)"
   ]
  },
  {
   "cell_type": "markdown",
   "id": "66003c45-d419-42e3-951c-ad7b0d18dc06",
   "metadata": {},
   "source": [
    "## Schritt 2:"
   ]
  },
  {
   "cell_type": "markdown",
   "id": "45b200c0-84e9-45b4-a9a3-e8e20741e5ee",
   "metadata": {},
   "source": [
    "Wir appenden alle Informationen die wir haben wollen in eine Liste und damit wir auch etwas sehen können fügen wir noch die `__repr__()` Methode hinzu."
   ]
  },
  {
   "cell_type": "code",
   "execution_count": 18,
   "id": "08729081-c183-48f4-937e-2fcad21d75d3",
   "metadata": {},
   "outputs": [
    {
     "name": "stdout",
     "output_type": "stream",
     "text": [
      "Hey, ich kann auf Klassenvariablen zugreifen, guck mal hier, dass ist: alle_charaktere = [].\n"
     ]
    }
   ],
   "source": [
    "class Charakter:\n",
    "\n",
    "    alle_charaktere = [] # Das ist eine Klassenvariable. Man kann von überall IN der Klasse auf diese Variable zugreifen.\n",
    "    \n",
    "    def __init__(self, my_name, my_age): \n",
    "        self.name = my_name\n",
    "        self.age = my_age\n",
    "        Charakter.alle_charaktere.append(self) # Rufe die Klasse Charakter auf und schau, ob du eine Klassenvariable findest, die \"alle_charaktere\" \n",
    "                                               # heißt und wenn du eine findest, dann appende da alles rein, womit man die Klasse befüllt...         \n",
    "\n",
    "    \n",
    "    #  __repr__ steht für \"representation\" (Darstellung) und wird benutzt diese komischen <__main__.Charakter at 0x18733d37950> Objekte \n",
    "    # in lesbare Wörter zu verwandeln.\n",
    "    def __repr__(self):\n",
    "        return f\"Player('{self.name}', {self.age})\"\n",
    "\n",
    "\n",
    "    print(f\"Hey, ich kann auf Klassenvariablen zugreifen, guck mal hier, dass ist: alle_charaktere = {alle_charaktere}.\")"
   ]
  },
  {
   "cell_type": "markdown",
   "id": "f63666e9-c12a-490d-94a0-207fac10cc6c",
   "metadata": {},
   "source": [
    "Im Klassenkörper kann man verschiedene Konstrukte unterscheiden:\n",
    "\n",
    "Diese Konstrukte nennen wir `Attribute`(Methoden und Variablen), ihr kennt das schon durch den `AttributeError`"
   ]
  },
  {
   "cell_type": "markdown",
   "id": "182ef6e5-256d-4085-bb10-281336134214",
   "metadata": {},
   "source": [
    "1. `Methoden` => Was kann ein Objekt / Verhalten /Fähigkeiten\n",
    "    - Eine Person kann fahren, reden, laufen"
   ]
  },
  {
   "cell_type": "markdown",
   "id": "57d95331-8d32-4ef3-b9eb-c7b0199b347f",
   "metadata": {},
   "source": [
    "2. `Klassenvariablen` => Eigenschaften die für alle Instanzen gleich sind WERDEN in der Klasse ausserhalb einer Methode definiert\n",
    "   - ALLE Charaktere haben Zugriff auf die Variable `alle_charaktere = []`\n",
    "   - Diese Info ist für alle Charaktere die wir erstellen gleich. Daher speichern wir sie einmal in der Klasse."
   ]
  },
  {
   "cell_type": "markdown",
   "id": "3633ca3f-5818-4a9d-a17a-4179947a3921",
   "metadata": {},
   "source": [
    "3.  `Instanzvariablen` => Eigenschaften der Instanz, die zwischen Instanzen unterschiedlich sein können\n",
    "\n",
    " Eigenschaften\n",
    "- werden in einer Methode mit self.varname erstellt\n",
    "- JEDE Instanz hat ihre eigenen Variablen, im Gegensatz zu `alle_charaktere = []`, haben nicht alle Instanzen den gleichen namen, etc."
   ]
  },
  {
   "cell_type": "code",
   "execution_count": 19,
   "id": "b46d09f1-4b61-400f-9957-deb5449ead21",
   "metadata": {
    "tags": []
   },
   "outputs": [],
   "source": [
    "player1 = Charakter(\"Phil\", 43)\n",
    "player2 = Charakter(\"Anna\", 42)\n",
    "player3 = Charakter(\"Frank\", 56)"
   ]
  },
  {
   "cell_type": "code",
   "execution_count": 20,
   "id": "37b0e450-f0bd-45af-b029-9a40cc1a028f",
   "metadata": {
    "tags": []
   },
   "outputs": [],
   "source": [
    "list_charakters = Charakter.alle_charaktere"
   ]
  },
  {
   "cell_type": "code",
   "execution_count": 21,
   "id": "ec982831-7d38-4613-b4b9-0a248a475a24",
   "metadata": {
    "scrolled": true
   },
   "outputs": [
    {
     "data": {
      "text/plain": [
       "[Player('Phil', 43), Player('Anna', 42), Player('Frank', 56)]"
      ]
     },
     "execution_count": 21,
     "metadata": {},
     "output_type": "execute_result"
    }
   ],
   "source": [
    "'''#Vorher:\n",
    "[<__main__.Charakter at 0x187339adfd0>,\n",
    " <__main__.Charakter at 0x18735205880>,\n",
    " <__main__.Charakter at 0x18735207500>]'''\n",
    "\n",
    "# Nachher\n",
    "list_charakters"
   ]
  },
  {
   "cell_type": "markdown",
   "id": "f8cd27a2-620b-4e57-a739-286f10706cab",
   "metadata": {},
   "source": [
    "Wenn man einer anderen Person im echten Leben irgendetwas beschreiben muss kommt man schon relativ, wenn man die Folgenden zwei Sachen aufzählt:\n",
    "\n",
    "1. Welche Eigenschaften hat das Ding: \n",
    "    - Name, Alter, Größe, Gewicht etc. \n",
    "2. Fähigkeiten/Verhaltensweise die das Ding kann:\n",
    "    - Tasse kann geleert werden, eine Tasse kann befüllt werden"
   ]
  },
  {
   "cell_type": "markdown",
   "id": "aa01ebf7-1cb1-41d8-905d-4756a2c8bb7b",
   "metadata": {},
   "source": [
    "## Schritt 3: `self`"
   ]
  },
  {
   "cell_type": "markdown",
   "id": "f8bb2079-937e-462e-a029-de9cca9608b9",
   "metadata": {},
   "source": [
    "Schauen wir uns: `def __init__(self, my_name, my_age, my_city):` nochmal genauer an. "
   ]
  },
  {
   "cell_type": "markdown",
   "id": "143502dd-2f7d-4d34-92a1-f03983bcb0c8",
   "metadata": {},
   "source": [
    "Syntax:\n",
    "\n",
    "`def` `__init__` `(` `self` `,` `Parameter` `)` `:`"
   ]
  },
  {
   "cell_type": "markdown",
   "id": "a798093d-d906-4673-9dfb-b27044bdd1f9",
   "metadata": {},
   "source": [
    "1. `def` ist ein Keyword und sagt: \"Achtung jetzt kommt eine Funktion\".\n",
    "2. `__init__` ist eine Funktion, die für das bauen von Objekten geschrieben wurde, deswegen ist sie ein sogenannter `Konstruktor` und sie ist irgendwo in den build-in-funktions definiert.\n",
    "3. `self` MUSS als erster Parameter angegeben werden.\n",
    "5. Die restlichen Parameter, die man in der Funktion haben möchte."
   ]
  },
  {
   "cell_type": "markdown",
   "id": "7ed15e68-ae71-4ab7-9e34-ec62b9072789",
   "metadata": {},
   "source": [
    "Warum ist `self` so wichtig? Man kann sich `self` wie ein Schlüsselwort oder Passwort vorstellen. Das erste Argument der `__init__` Methode ist immer self und es wird verwendet, um auf die Instanz der Klasse zu verweisen. Es erlaubt den Zugriff auf die Attribute und Methoden der jeweiligen Instanz, wodurch diese Argumente initialisiert und Methoden aufgerufen werden können. Beim Übergeben der Argumente an die Instanz wird `self` automatisch als erstes Argument übernommen, sobald es in den Parametern definiert wurde. Egal welche Argumente sonst noch beim Aufruf der Instenz übergeben werden, `self` bleibt das erste Argument. "
   ]
  },
  {
   "cell_type": "markdown",
   "id": "c0c8ca91-ed86-43ea-a386-dcf7d99577ab",
   "metadata": {},
   "source": [
    "Beispiel:"
   ]
  },
  {
   "cell_type": "code",
   "execution_count": 29,
   "id": "d2d4e47e-9a59-4f41-b9cc-acc18109519e",
   "metadata": {},
   "outputs": [],
   "source": [
    "class Charakter: \n",
    "    \n",
    "    def __init__(self, my_name, my_age):\n",
    "        self.name = my_name \n",
    "        self.age = my_age"
   ]
  },
  {
   "cell_type": "code",
   "execution_count": 30,
   "id": "6e067022-4418-4594-9d56-bd1b0100a145",
   "metadata": {},
   "outputs": [],
   "source": [
    "player1 = Charakter(\"Nicht self\", \"Auch nicht self\")"
   ]
  },
  {
   "cell_type": "code",
   "execution_count": 31,
   "id": "1ab5014e-00e8-4a3f-be04-c7f282bb1806",
   "metadata": {},
   "outputs": [
    {
     "name": "stdout",
     "output_type": "stream",
     "text": [
      "Nicht self\n",
      "Auch nicht self\n"
     ]
    }
   ],
   "source": [
    "print(player1.name)\n",
    "print(player1.age)"
   ]
  },
  {
   "cell_type": "markdown",
   "id": "1469c64b-aa07-4244-abe3-01b17694afee",
   "metadata": {
    "jp-MarkdownHeadingCollapsed": true
   },
   "source": [
    "####  Beispiel: AUF KEINEN FALL SO MACHEN!!!"
   ]
  },
  {
   "cell_type": "code",
   "execution_count": 32,
   "id": "bac22eaf-4bd7-4bda-8e5a-88ad3dd2879e",
   "metadata": {},
   "outputs": [],
   "source": [
    "class Charakter: \n",
    "    \n",
    "    def __init__(anderes_self, my_name, my_age):\n",
    "        anderes_self.name = my_name \n",
    "        anderes_self.age = my_age"
   ]
  },
  {
   "cell_type": "markdown",
   "id": "610ab6e2-2d66-4c41-8f35-d482e1affb7b",
   "metadata": {},
   "source": [
    "Theoretisch würde das auch funktionieren, **aber man wird 100%tig von allen anderen Programmieren gesteinigt, wenn man das so schreibt!!!**"
   ]
  },
  {
   "cell_type": "markdown",
   "id": "f123186b-11a5-4220-920c-46412f020e04",
   "metadata": {},
   "source": [
    "## Schritt 4:"
   ]
  },
  {
   "cell_type": "markdown",
   "id": "729e3a4f-3762-4455-bea2-2b487c54b14b",
   "metadata": {},
   "source": [
    "So nun fügen wir weiter Methoden hinzu:"
   ]
  },
  {
   "cell_type": "code",
   "execution_count": 34,
   "id": "c46e9a30-4fe6-40d7-954c-50f34a1f0284",
   "metadata": {},
   "outputs": [],
   "source": [
    "class Charakter:\n",
    "\n",
    "    alle_charaktere = [] \n",
    "    \n",
    "    def __init__(self, my_name, my_age): \n",
    "        self.name = my_name\n",
    "        self.age = my_age\n",
    "        Charakter.alle_charaktere.append(self) \n",
    "        \n",
    "    def __repr__(self):\n",
    "        return f\"Player('{self.name}', {self.age})\"\n",
    "\n",
    "    # Eigene Klassenfunktion / Methode:\n",
    "    def jump(self):\n",
    "        return f\"{self.name} spring hoch in die Luft.\"\n"
   ]
  },
  {
   "cell_type": "code",
   "execution_count": 35,
   "id": "53fb03d5-deab-4ae0-a631-2afc6acfbb9c",
   "metadata": {},
   "outputs": [],
   "source": [
    "player1 = Charakter(\"Phil\", 43)"
   ]
  },
  {
   "cell_type": "code",
   "execution_count": 36,
   "id": "1d1e3059-1512-4b67-b0e6-b8b947fb8c66",
   "metadata": {},
   "outputs": [
    {
     "data": {
      "text/plain": [
       "'Phil spring hoch in die Luft.'"
      ]
     },
     "execution_count": 36,
     "metadata": {},
     "output_type": "execute_result"
    }
   ],
   "source": [
    "player1.jump()"
   ]
  },
  {
   "cell_type": "markdown",
   "id": "f9037fcb-997e-4597-afc9-61e8124ecb7a",
   "metadata": {},
   "source": [
    "## Schritt 5:"
   ]
  },
  {
   "cell_type": "code",
   "execution_count": 37,
   "id": "034f134f-c926-4688-bb41-d88c32485350",
   "metadata": {},
   "outputs": [],
   "source": [
    "class Charakter:\n",
    "\n",
    "    alle_charaktere = [] \n",
    "    \n",
    "    def __init__(self, my_name, my_age=18): #´Defaultwert\n",
    "        self.name = my_name\n",
    "        self.age = my_age\n",
    "        self.personality = \"nice\" # Kein Defaultwert, aber sind bestimmt alle nett\n",
    "        Charakter.alle_charaktere.append(self) \n",
    "        \n",
    "    def __repr__(self):\n",
    "        return f\"Player('{self.name}', {self.age}, {self.personality})\" \n",
    "        # Wenn man alles sehen will, darf man natürlich nicht vergessen es hier hinzuzufügen. \n",
    "\n",
    "    def jump(self):\n",
    "        return f\"{self.name} spring hoch in die Luft.\"\n"
   ]
  },
  {
   "cell_type": "markdown",
   "id": "45ef1ce8-b625-483b-a276-020b650b0c0f",
   "metadata": {},
   "source": [
    "Man kann natürlich auch Defaultwerte für einzelne Parameter bestimmten, sollange man die richtige Reihenfolge einhält (Sonst: SyntaxError: parameter without a default follows parameter with a default)\n",
    "Außerdem kann man weitere Instanzvariablen schreiben und befüllen, die dann hart gecodet für alle Instanzen der Klasse gelten."
   ]
  },
  {
   "cell_type": "code",
   "execution_count": 38,
   "id": "3e219ab8-ea6a-4bf7-a075-e08dde3ce299",
   "metadata": {},
   "outputs": [],
   "source": [
    "player1 = Charakter(\"Phil\", 43)"
   ]
  },
  {
   "cell_type": "code",
   "execution_count": 39,
   "id": "74390935-9e37-44fa-8c55-c9b7b2e4d6d2",
   "metadata": {
    "tags": []
   },
   "outputs": [
    {
     "data": {
      "text/plain": [
       "[Player('Phil', 43, nice)]"
      ]
     },
     "execution_count": 39,
     "metadata": {},
     "output_type": "execute_result"
    }
   ],
   "source": [
    "list_charakters = Charakter.alle_charaktere\n",
    "list_charakters"
   ]
  },
  {
   "cell_type": "markdown",
   "id": "03921462-9644-41a7-86e7-ecc1335e3780",
   "metadata": {},
   "source": [
    "## Schritt 6:"
   ]
  },
  {
   "cell_type": "code",
   "execution_count": 41,
   "id": "aeb30456-89bf-4263-bd6a-0926f0f776f6",
   "metadata": {},
   "outputs": [],
   "source": [
    "class Charakter:\n",
    "\n",
    "    alle_charaktere = [] \n",
    "    \n",
    "    def __init__(self, my_name, my_age=18):\n",
    "        self.name = my_name\n",
    "        self.age = my_age\n",
    "        self.personality = \"nice\"\n",
    "        Charakter.alle_charaktere.append(self) \n",
    "        \n",
    "    def __repr__(self):\n",
    "        return f\"Player('{self.name}', {self.age}, {self.personality})\" \n",
    "\n",
    "    def jump(self):\n",
    "        return f\"{self.name} spring hoch in die Luft.\"\n"
   ]
  },
  {
   "cell_type": "markdown",
   "id": "267122ae-f150-4b46-89c9-079af82485cd",
   "metadata": {},
   "source": [
    "Man kann auch über in die Instanz hineingreifen und die dort gespeicherten Variablen ändern."
   ]
  },
  {
   "cell_type": "code",
   "execution_count": 42,
   "id": "2615689b-63c0-4381-902e-13d987d6c560",
   "metadata": {},
   "outputs": [],
   "source": [
    "player1 = Charakter(\"Phil\", 43)"
   ]
  },
  {
   "cell_type": "code",
   "execution_count": 43,
   "id": "128963c1-3205-438a-902b-a9a53e3102c2",
   "metadata": {},
   "outputs": [
    {
     "data": {
      "text/plain": [
       "[Player('Phil', 43, nice)]"
      ]
     },
     "execution_count": 43,
     "metadata": {},
     "output_type": "execute_result"
    }
   ],
   "source": [
    "# Vorher\n",
    "list_charakters = Charakter.alle_charaktere\n",
    "list_charakters\n"
   ]
  },
  {
   "cell_type": "code",
   "execution_count": 45,
   "id": "111eeb35-ef0c-4d9e-92fc-5c1bc8de9b12",
   "metadata": {},
   "outputs": [],
   "source": [
    "player1.geburtsort = \"Berlin\"\n",
    "player1.age = 42\n",
    "player1.personality = \"Very nice\""
   ]
  },
  {
   "cell_type": "code",
   "execution_count": 46,
   "id": "32bbc2d4-6a7f-4c29-bef3-b306e151bb73",
   "metadata": {},
   "outputs": [
    {
     "data": {
      "text/plain": [
       "[Player('Phil', 42, Very nice)]"
      ]
     },
     "execution_count": 46,
     "metadata": {},
     "output_type": "execute_result"
    }
   ],
   "source": [
    "# Nachher\n",
    "list_charakters = Charakter.alle_charaktere\n",
    "list_charakters\n"
   ]
  },
  {
   "cell_type": "code",
   "execution_count": 218,
   "id": "c734cadf-1eb9-4a26-914e-034191e4a37c",
   "metadata": {},
   "outputs": [
    {
     "data": {
      "text/plain": [
       "'Berlin'"
      ]
     },
     "execution_count": 218,
     "metadata": {},
     "output_type": "execute_result"
    }
   ],
   "source": [
    "player1.geburtsort # Ist ja noch nicht in __repr__"
   ]
  },
  {
   "cell_type": "markdown",
   "id": "571ffe9e-579e-4ad7-9d29-71a99a35c7c9",
   "metadata": {},
   "source": [
    "Nagut, dann nehmen wir Geburtsort wieder raus."
   ]
  },
  {
   "cell_type": "code",
   "execution_count": 219,
   "id": "cbd253a5-c6c6-498b-9b03-f617514ae23c",
   "metadata": {},
   "outputs": [
    {
     "ename": "AttributeError",
     "evalue": "'Charakter' object has no attribute 'geburtsort'",
     "output_type": "error",
     "traceback": [
      "\u001b[1;31m---------------------------------------------------------------------------\u001b[0m",
      "\u001b[1;31mAttributeError\u001b[0m                            Traceback (most recent call last)",
      "Cell \u001b[1;32mIn[219], line 2\u001b[0m\n\u001b[0;32m      1\u001b[0m \u001b[38;5;28;01mdel\u001b[39;00m player1\u001b[38;5;241m.\u001b[39mgeburtsort\n\u001b[1;32m----> 2\u001b[0m \u001b[43mplayer1\u001b[49m\u001b[38;5;241;43m.\u001b[39;49m\u001b[43mgeburtsort\u001b[49m\n",
      "\u001b[1;31mAttributeError\u001b[0m: 'Charakter' object has no attribute 'geburtsort'"
     ]
    }
   ],
   "source": [
    "del player1.geburtsort\n",
    "player1.geburtsort"
   ]
  },
  {
   "cell_type": "markdown",
   "id": "29eb8f0f-0ac3-4263-b764-17ab1ae1cebc",
   "metadata": {},
   "source": [
    "Der Geburtsort wurde gelöscht."
   ]
  },
  {
   "cell_type": "markdown",
   "id": "ad9b0cc6-bd57-446e-bc41-15a2ad620575",
   "metadata": {},
   "source": [
    "# Ab jetzt wirds spaßig"
   ]
  },
  {
   "cell_type": "markdown",
   "id": "417e7997-7726-4e8c-8623-50f3c809a444",
   "metadata": {},
   "source": [
    "## Schritt 7: Aktuelle Baustelle"
   ]
  },
  {
   "cell_type": "code",
   "execution_count": 47,
   "id": "59a3d15f-83b8-470d-abf2-aeffb11f0a98",
   "metadata": {},
   "outputs": [],
   "source": [
    "class Charakter:\n",
    "\n",
    "    status_window = []\n",
    "    # weil es kürzer ist schreibe ich hier \n",
    "    def __init__(self, name, age, strength = 1, agility = 1, intelligence = 1, health = 10, endurance = 10, mana = 10, initativ = 0.2 ,):\n",
    "        self.name = name\n",
    "        self.age = age\n",
    "        self.strength = strength\n",
    "        self.agility = agility\n",
    "        self.intelligence = intelligence\n",
    "        self.health = health\n",
    "        self.endurance = endurance\n",
    "        self.mana = mana\n",
    "        self.initativ = initativ\n",
    "        Charakter.status_window.append(self) \n",
    "\n",
    "    def __repr__(self): # Das kann man bestimmt noch schöner schreiben, aber ich komm gerade nicht drauf...\n",
    "        return f\"\"\"Status-Window:\\nName: {self.name}\\nAlter: {self.age}\\nStärke: {self.strength}\\nGewandheit: {self.strength}\n",
    "Intelligenz:{self.intelligence}\\nGesundheit: {self.health}\\nAusdauer: {self.endurance}\\nMana: {self.mana}\\nInitiative: {self.initativ}\"\"\" \n",
    "\n",
    "    def jump(self):\n",
    "            return f\"{self.name} spring hoch in die Luft.\""
   ]
  },
  {
   "cell_type": "code",
   "execution_count": 13,
   "id": "1932070b-8221-4ff5-aae5-4209a450f6fe",
   "metadata": {},
   "outputs": [],
   "source": [
    "player1 = Charakter(\"Roland der Ritter\", 34)"
   ]
  },
  {
   "cell_type": "code",
   "execution_count": 14,
   "id": "1d091644-d411-48fe-afd8-a68b3f6f59f8",
   "metadata": {},
   "outputs": [
    {
     "data": {
      "text/plain": [
       "[Status-Window:\n",
       " Name: Roland der Ritter\n",
       " Alter: 34\n",
       " Stärke: 1\n",
       " Gewandheit: 1\n",
       " Intelligenz:1\n",
       " Gesundheit: 10\n",
       " Ausdauer: 10\n",
       " Mana: 10\n",
       " Initiative: 0.2]"
      ]
     },
     "execution_count": 14,
     "metadata": {},
     "output_type": "execute_result"
    }
   ],
   "source": [
    "status_window_player1 = Charakter.status_window \n",
    "status_window_player1"
   ]
  },
  {
   "cell_type": "code",
   "execution_count": 17,
   "id": "2dc92163-fa07-4ab7-b92e-6d315add4463",
   "metadata": {},
   "outputs": [
    {
     "data": {
      "text/plain": [
       "Status-Window:\n",
       "Name: Roland der Ritter\n",
       "Alter: 34\n",
       "Stärke: 1\n",
       "Gewandheit: 1\n",
       "Intelligenz:1\n",
       "Gesundheit: 10\n",
       "Ausdauer: 10\n",
       "Mana: 10\n",
       "Initiative: 0.2"
      ]
     },
     "execution_count": 17,
     "metadata": {},
     "output_type": "execute_result"
    }
   ],
   "source": [
    "player1 "
   ]
  },
  {
   "cell_type": "markdown",
   "id": "2ab96c1c-a07b-4116-ac61-b4c01686c0e8",
   "metadata": {},
   "source": [
    "Im Prinzip macht diese Methode die Liste \"status_window\" fast überflüssig, wenn `__repr__` nicht so umständlich, aufwendig und fehleranfällig wäre wie man im folgenden Beispiel sehen kann."
   ]
  },
  {
   "cell_type": "code",
   "execution_count": 18,
   "id": "dd579e85-9456-43ad-bc52-465b2f6831a9",
   "metadata": {},
   "outputs": [
    {
     "data": {
      "text/plain": [
       "<bound method Charakter.jump of Status-Window:\n",
       "Name: Roland der Ritter\n",
       "Alter: 34\n",
       "Stärke: 1\n",
       "Gewandheit: 1\n",
       "Intelligenz:1\n",
       "Gesundheit: 10\n",
       "Ausdauer: 10\n",
       "Mana: 10\n",
       "Initiative: 0.2>"
      ]
     },
     "execution_count": 18,
     "metadata": {},
     "output_type": "execute_result"
    }
   ],
   "source": [
    "player1.jump"
   ]
  },
  {
   "cell_type": "markdown",
   "id": "bf088374-38ff-4483-90b3-cd21dc242747",
   "metadata": {},
   "source": [
    "Also die `__repr__` Methode BINDET die Informationen, die ihr übergeben wurden AN die INSTANZ \"player1\" und gibt sofort diese Informationen aus, sobald \"player1\" verwendet wird. Dazu gibt es den text: \"bound method Charakter.jump of\" (Informationen von `__repr__` zu player1)\n",
    "\n",
    "Also im Prinzip sagt der Code:\n",
    "\n",
    "\"Ja, ich sehe, dass du die \"jump\" Methode auf player1 anwenden willst. Das ist schön, aber wusstest du schon das player1 Informationen hat, die ich dir zeigen soll? HIER SCHAU SIE DIR AN!!!\"\""
   ]
  },
  {
   "cell_type": "markdown",
   "id": "a4cbf8b5-afe1-435e-825e-a6270cafb031",
   "metadata": {},
   "source": [
    "Die Lösung für das Problem ist, dass man sich nicht die Methode als Obejkt anschaut, sondern sie als Funktion aufruft!!!"
   ]
  },
  {
   "cell_type": "markdown",
   "id": "f256ed17-25bd-4e73-9383-a7fdc73088d9",
   "metadata": {},
   "source": [
    "[Erklärung Pythontutor](https://pythontutor.com/render.html#code=class%20Charakter%3A%0A%0A%20%20%20%20status_window%20%3D%20%5B%5D%0A%20%20%20%20%0A%20%20%20%20def%20__init__%28self,%20name,%20age,%20strength%20%3D%201,%20agility%20%3D%201,%20intelligence%20%3D%201,%20health%20%3D%2010,%20endurance%20%3D%2010,%20mana%20%3D%2010,%20initativ%20%3D%200.2%20,%29%3A%0A%20%20%20%20%20%20%20%20self.name%20%3D%20name%0A%20%20%20%20%20%20%20%20self.age%20%3D%20age%0A%20%20%20%20%20%20%20%20self.strength%20%3D%20strength%0A%20%20%20%20%20%20%20%20self.agility%20%3D%20agility%0A%20%20%20%20%20%20%20%20self.intelligence%20%3D%20intelligence%0A%20%20%20%20%20%20%20%20self.health%20%3D%20health%0A%20%20%20%20%20%20%20%20self.endurance%20%3D%20endurance%0A%20%20%20%20%20%20%20%20self.mana%20%3D%20mana%0A%20%20%20%20%20%20%20%20self.initativ%20%3D%20initativ%0A%20%20%20%20%20%20%20%20Charakter.status_window.append%28self%29%20%0A%20%20%20%20def%20__repr__%28self%29%3A%20%23%20Das%20kann%20man%20bestimmt%20noch%20sch%C3%B6ner%20schreiben,%20aber%20ich%20komm%20gerade%20nicht%20drauf...%0A%20%20%20%20%20%20%20%20return%20f%22%22%22Status-Window%3A%5CnName%3A%20%7Bself.name%7D%5CnAlter%3A%20%7Bself.age%7D%5CnSt%C3%A4rke%3A%20%7Bself.strength%7D%5CnGewandheit%3A%20%7Bself.strength%7D%0AIntelligenz%3A%7Bself.intelligence%7D%5CnGesundheit%3A%20%7Bself.health%7D%5CnAusdauer%3A%20%7Bself.endurance%7D%5CnMana%3A%20%7Bself.mana%7D%5CnInitiative%3A%20%7Bself.initativ%7D%22%22%22%20%0A%20%20%20%20%0A%20%20%20%20def%20jump%28self%29%3A%0A%20%20%20%20%20%20%20%20%20%20%20%20return%20f%22%7Bself.name%7D%20spring%20hoch%20in%20die%20Luft.%22%0A%0A%0Aplayer1%20%3D%20Charakter%28%22Roland%20der%20Ritter%22,%2034%29&cumulative=false&curInstr=14&heapPrimitives=nevernest&mode=display&origin=opt-frontend.js&py=311&rawInputLstJSON=%5B%5D&textReferences=false)"
   ]
  },
  {
   "cell_type": "code",
   "execution_count": 19,
   "id": "69cb791b-77fb-4276-9747-8da61ecc284a",
   "metadata": {},
   "outputs": [
    {
     "name": "stdout",
     "output_type": "stream",
     "text": [
      "Roland der Ritter spring hoch in die Luft.\n"
     ]
    }
   ],
   "source": [
    "print(player1.jump())"
   ]
  },
  {
   "cell_type": "markdown",
   "id": "f5f056bc-5fc2-446d-9d49-13577f9627f5",
   "metadata": {},
   "source": [
    "### Schöner geht immer aber nicht jetzt"
   ]
  },
  {
   "cell_type": "code",
   "execution_count": 10,
   "id": "cd2ad94f-eea8-4b97-803f-8b5291a452ec",
   "metadata": {},
   "outputs": [
    {
     "data": {
      "text/plain": [
       "{'name': 'Roland der Ritter',\n",
       " 'age': 34,\n",
       " 'strength': 1,\n",
       " 'agility': 1,\n",
       " 'intelligence': 1,\n",
       " 'health': 10,\n",
       " 'endurance': 10,\n",
       " 'mana': 10,\n",
       " 'initativ': 0.2}"
      ]
     },
     "execution_count": 10,
     "metadata": {},
     "output_type": "execute_result"
    }
   ],
   "source": [
    "dict_player1 = (player1.__dict__)\n",
    "dict_player1 # als Dictionary"
   ]
  },
  {
   "cell_type": "code",
   "execution_count": 11,
   "id": "fb64280f-d21c-4f4f-b408-d2784384a423",
   "metadata": {},
   "outputs": [
    {
     "ename": "TypeError",
     "evalue": "'builtin_function_or_method' object is not iterable",
     "output_type": "error",
     "traceback": [
      "\u001b[1;31m---------------------------------------------------------------------------\u001b[0m",
      "\u001b[1;31mTypeError\u001b[0m                                 Traceback (most recent call last)",
      "Cell \u001b[1;32mIn[11], line 3\u001b[0m\n\u001b[0;32m      1\u001b[0m liste_attribute \u001b[38;5;241m=\u001b[39m []\n\u001b[1;32m----> 3\u001b[0m \u001b[38;5;28;43;01mfor\u001b[39;49;00m\u001b[43m \u001b[49m\u001b[43melem\u001b[49m\u001b[43m \u001b[49m\u001b[38;5;129;43;01min\u001b[39;49;00m\u001b[43m \u001b[49m\u001b[43mdict_player1\u001b[49m\u001b[38;5;241;43m.\u001b[39;49m\u001b[43mkeys\u001b[49m\u001b[43m:\u001b[49m\n\u001b[0;32m      4\u001b[0m \u001b[43m    \u001b[49m\u001b[43mliste_attribute\u001b[49m\u001b[38;5;241;43m.\u001b[39;49m\u001b[43mappend\u001b[49m\u001b[43m(\u001b[49m\u001b[43melem\u001b[49m\u001b[43m)\u001b[49m\n\u001b[0;32m      5\u001b[0m     \u001b[38;5;66;03m# create f-String wird schwierig...\u001b[39;00m\n\u001b[0;32m      6\u001b[0m     \u001b[38;5;66;03m# Eigentlich könnte man auch auch direkt in player1.__dict__ schauen, statt ins Status-Window... Aber das ist schöner\u001b[39;00m\n",
      "\u001b[1;31mTypeError\u001b[0m: 'builtin_function_or_method' object is not iterable"
     ]
    }
   ],
   "source": [
    "liste_attribute = []\n",
    "\n",
    "for elem in dict_player1.keys:\n",
    "    liste_attribute.append(elem)\n",
    "    # create f-String wird schwierig...\n",
    "    # Eigentlich könnte man auch auch direkt in player1.__dict__ schauen, statt ins Status-Window... Aber das ist schöner\n",
    "liste_attribute"
   ]
  },
  {
   "cell_type": "markdown",
   "id": "55305cc4-6061-4407-8edb-1e0132c23cf4",
   "metadata": {
    "jp-MarkdownHeadingCollapsed": true
   },
   "source": [
    "## Schritt 8: Nächste Baustelle"
   ]
  },
  {
   "cell_type": "code",
   "execution_count": null,
   "id": "dff8a7a9-f1e1-4131-b801-c9e404fdc2d6",
   "metadata": {},
   "outputs": [],
   "source": [
    "class Charakter:\n",
    "\n",
    "    status_window = []\n",
    "    \n",
    "    def __init__(self, name, age, strength = 1, agility = 1, intelligence = 1, health = 10, endurance = 10, mana = 10, initativ = 0.2 ,):\n",
    "        self.name = name\n",
    "        self.age = age\n",
    "        self.strength = strength\n",
    "        self.agility = agility\n",
    "        self.intelligence = intelligence\n",
    "        self.health = health\n",
    "        self.endurance = endurance\n",
    "        self.mana = mana\n",
    "        self.initativ = initativ\n",
    "        Charakter.status_window.append(self) \n",
    "\n",
    "    def __repr__(self): # Das kann man bestimmt noch schöner schreiben, aber ich komm gerade nicht drauf...\n",
    "        return f\"\"\"Status-Window:\\nName: {self.name}\\nAlter: {self.age}\\nStärke: {self.strength}\\nGewandheit: {self.strength}\n",
    "Intelligenz:{self.intelligence}\\nGesundheit: {self.health}\\nAusdauer: {self.endurance}\\nMana: {self.mana}\\nInitiative: {self.initativ}\"\"\" \n",
    "\n",
    "    def jump(self):\n",
    "            return f\"{self.name} spring hoch in die Luft.\""
   ]
  },
  {
   "cell_type": "code",
   "execution_count": null,
   "id": "1a6cbd23-bb8d-41b6-8523-3624d4af9d7f",
   "metadata": {},
   "outputs": [],
   "source": []
  },
  {
   "cell_type": "code",
   "execution_count": null,
   "id": "3f6a3dc0-f338-413f-817b-9577b659be0c",
   "metadata": {},
   "outputs": [],
   "source": []
  },
  {
   "cell_type": "code",
   "execution_count": 240,
   "id": "6380f6a8-8795-4c81-88f4-c65f9ad1e3a2",
   "metadata": {},
   "outputs": [
    {
     "name": "stdout",
     "output_type": "stream",
     "text": [
      "Please choose how you would like to spend your Skillpoints.\n",
      "\n"
     ]
    },
    {
     "ename": "NameError",
     "evalue": "name 'sum_of_points' is not defined",
     "output_type": "error",
     "traceback": [
      "\u001b[1;31m---------------------------------------------------------------------------\u001b[0m",
      "\u001b[1;31mNameError\u001b[0m                                 Traceback (most recent call last)",
      "Cell \u001b[1;32mIn[240], line 3\u001b[0m\n\u001b[0;32m      1\u001b[0m \u001b[38;5;66;03m# Distribution of Attribute-Points:\u001b[39;00m\n\u001b[0;32m      2\u001b[0m \u001b[38;5;28mprint\u001b[39m(\u001b[38;5;124m\"\u001b[39m\u001b[38;5;124mPlease choose how you would like to spend your Skillpoints.\u001b[39m\u001b[38;5;130;01m\\n\u001b[39;00m\u001b[38;5;124m\"\u001b[39m)\n\u001b[1;32m----> 3\u001b[0m \u001b[38;5;28mprint\u001b[39m(\u001b[38;5;124mf\u001b[39m\u001b[38;5;124m\"\u001b[39m\u001b[38;5;124mSkillpoints used: \u001b[39m\u001b[38;5;132;01m{\u001b[39;00m\u001b[43msum_of_points\u001b[49m\u001b[38;5;132;01m}\u001b[39;00m\u001b[38;5;124m/\u001b[39m\u001b[38;5;132;01m{\u001b[39;00mpointlimit\u001b[38;5;132;01m}\u001b[39;00m\u001b[38;5;130;01m\\n\u001b[39;00m\u001b[38;5;124m\"\u001b[39m)\n\u001b[0;32m      5\u001b[0m \u001b[38;5;28;01mwhile\u001b[39;00m sum_of_points \u001b[38;5;241m!=\u001b[39m pointlimit:\n\u001b[0;32m      6\u001b[0m     \u001b[38;5;28;01mtry\u001b[39;00m:    \n",
      "\u001b[1;31mNameError\u001b[0m: name 'sum_of_points' is not defined"
     ]
    }
   ],
   "source": [
    "# Distribution of Attribute-Points:\n",
    "print(\"Please choose how you would like to spend your Skillpoints.\\n\")\n",
    "print(f\"Skillpoints used: {sum_of_points}/{pointlimit}\\n\")\n",
    "\n",
    "while sum_of_points != pointlimit:\n",
    "    try:    \n",
    "        while sum_of_points != pointlimit:\n",
    "            add_strength = (int(input(f\"How many points do you want to spend on strength?\")))\n",
    "            add_agility = (int(input(f\"How many points do you want to spend on agility?\")))\n",
    "            add_intelligence = (int(input(f\"How many do points you want to spend on intelligence?\")))\n",
    "            sum_of_points = (add_strength + add_agility + add_intelligence) \n",
    "            print(f\"\\nSkillpoints used: {sum_of_points}/{pointlimit}\\n\") \n",
    "            if sum_of_points == pointlimit:\n",
    "                print(\"You have successfully distributed your Skillpoints.\") \n",
    "            elif sum_of_points > pointlimit:\n",
    "                print(\"You don't have enough Skillpoints to do that!\")\n",
    "                continue\n",
    "            elif sum_of_points < pointlimit:\n",
    "                print(\"Please use all your Skillpoints to continue.\")\n",
    "                continue\n",
    "            else:\n",
    "                print(f\"I did not understand you. Please try again.\")\n",
    "                continue\n",
    "    except: \n",
    "        print(\"I did not understand you. Please try again.\")\n"
   ]
  },
  {
   "cell_type": "markdown",
   "id": "b18df70a-2e61-4d23-94a5-fc430db86b88",
   "metadata": {},
   "source": [
    "# Weiterer Einschub"
   ]
  },
  {
   "cell_type": "markdown",
   "id": "711d6a3d-b9b2-40b7-8f8d-074c6d3794d6",
   "metadata": {},
   "source": [
    "[???](https://pythontutor.com/render.html#code=class%20Charakter%3A%0A%20%20%20%20klassenvariable%20%3D%2043%0A%20%20%20%20def%20__init__%28self,%20my_name,%20my_age,%20my_city,%20level%29%3A%0A%20%20%20%20%20%20%20%20self.name%20%3D%20my_name%20%23%20Das%20sind%20Instanzvariablen%20die%20durch%20self.IDENTIFIER%20%28name,%20age,%20city%29%20erstellt%20wurden.%0A%20%20%20%20%20%20%20%20self.age%20%3D%20my_age%20%20%20%23%20%28Ein%20Identifier%20ist%20so%20%C3%A4hnlich%20wie%20der%20Key%20im%20Dictionary%29%0A%20%20%20%20%20%20%20%20self.city%20%3D%20my_city%20%23%20Den%20Instanzvariablen%20werden%20in%20dieser%20Schreibweise%20%C3%BCber%20ihre%20Parameter%20automatisch%20die%20%0A%20%20%20%20%20%20%20%20%20%20%20%20%20%20%20%20%20%20%20%20%20%20%20%20%20%20%20%20%23%20entsprechenden%20Argumente%20zugewiesen,%20soblad%20dies%20der%20Funktion%20beim%20Aufruf%20%C3%BCbergeben%20wurden.%20%0A%20%20%20%20%20%20%20%20self.level%20%3D%20level%0A%20%20%20%20%0A%20%20%20%20def%20upgrade%28self,amount%29%3A%20%0A%20%20%20%20%20%20%20%20self.level%20%2B%3D%20amount%0A%20%20%20%20%20%20%20%20%0Aplayer1%20%3D%20Charakter%28%22Phil%22,%2043,%20%22Frankfurt%22,%2023%29%0A%0A%0Adict_inst%20%3D%20player1.__dict__%0A%0Aplayer1.name%20%3D%20%22Gustavo%22%0A%0Adict_inst%5B%22name%22%5D%20%3D%20%22Du%20da%20im%20Radio%22&cumulative=false&curInstr=11&heapPrimitives=nevernest&mode=display&origin=opt-frontend.js&py=311&rawInputLstJSON=%5B%5D&textReferences=false)"
   ]
  },
  {
   "cell_type": "code",
   "execution_count": 35,
   "id": "2fc7cc86-b796-4a89-80d3-5baa14f3c477",
   "metadata": {},
   "outputs": [
    {
     "data": {
      "text/plain": [
       "{'name': 'Phil', 'age': 43, 'city': 'Frankfurt'}"
      ]
     },
     "execution_count": 35,
     "metadata": {},
     "output_type": "execute_result"
    }
   ],
   "source": [
    "dict_instanz = player1.__dict__\n",
    "dict_instanz"
   ]
  },
  {
   "cell_type": "code",
   "execution_count": 39,
   "id": "7641c6d1-0186-4b3d-b3df-b772d0de1f46",
   "metadata": {},
   "outputs": [
    {
     "data": {
      "text/plain": [
       "{'name': 'Torsten', 'age': 43, 'city': 'Frankfurt'}"
      ]
     },
     "execution_count": 39,
     "metadata": {},
     "output_type": "execute_result"
    }
   ],
   "source": [
    "dict_instanz[\"name\"] = \"Torsten\"\n",
    "dict_instanz"
   ]
  },
  {
   "cell_type": "code",
   "execution_count": 41,
   "id": "8acbc24a-caee-438b-9c2e-7a337e6465a2",
   "metadata": {},
   "outputs": [],
   "source": [
    "dict_instanz[\"new_instanz\"] = \"Pizza\""
   ]
  },
  {
   "cell_type": "code",
   "execution_count": 42,
   "id": "e80367e8-8eb7-420b-ae08-1f9402407c9b",
   "metadata": {},
   "outputs": [
    {
     "data": {
      "text/plain": [
       "{'name': 'Torsten', 'age': 43, 'city': 'Frankfurt', 'new_instanz': 'Pizza'}"
      ]
     },
     "execution_count": 42,
     "metadata": {},
     "output_type": "execute_result"
    }
   ],
   "source": [
    "dict_instanz"
   ]
  },
  {
   "cell_type": "code",
   "execution_count": null,
   "id": "db1465b3-bc36-4bf0-94c3-79c02cdefdf6",
   "metadata": {},
   "outputs": [],
   "source": [
    "Die INSTANZ EINER KLASSE KANN MAN über ihre DIctionaries ändern!!!"
   ]
  },
  {
   "cell_type": "code",
   "execution_count": null,
   "id": "9bc36406-b70d-410f-bb73-922e781e1823",
   "metadata": {},
   "outputs": [],
   "source": [
    "Die klassen direkt nicht"
   ]
  },
  {
   "cell_type": "markdown",
   "id": "c6362a5b-f1c2-4771-979a-29e530189448",
   "metadata": {},
   "source": [
    "# `__name__`"
   ]
  },
  {
   "cell_type": "markdown",
   "id": "fa5cbcab-feb7-4e6f-9e31-4ad6a32c99c5",
   "metadata": {},
   "source": [
    "Alles von `__name__` einfügen"
   ]
  },
  {
   "cell_type": "code",
   "execution_count": null,
   "id": "5f74693d-2c06-47d3-bba3-928284c36200",
   "metadata": {},
   "outputs": [],
   "source": []
  },
  {
   "cell_type": "markdown",
   "id": "78fe9274-b101-4b7a-a2fa-43f9efe44a3e",
   "metadata": {},
   "source": [
    "Siehe auch: [import](import.ipynb)"
   ]
  },
  {
   "cell_type": "markdown",
   "id": "db22da6c-4144-4dd8-a58e-711fdfac6044",
   "metadata": {},
   "source": [
    "# Miniprojekt: Wir bauen ein Konto"
   ]
  },
  {
   "cell_type": "markdown",
   "id": "4e802774-d54a-427d-848f-61f53eae4ce2",
   "metadata": {},
   "source": [
    "[Wir bauen ein Konto](projekt_konto.ipynb)"
   ]
  },
  {
   "cell_type": "code",
   "execution_count": null,
   "id": "ddb68101-0424-4cc1-ba64-f4b4dc5865ba",
   "metadata": {},
   "outputs": [],
   "source": []
  },
  {
   "cell_type": "markdown",
   "id": "1ae738e7-3e80-4038-96c9-6be7d51589f0",
   "metadata": {},
   "source": [
    "# Ab hier unsortiert"
   ]
  },
  {
   "cell_type": "markdown",
   "id": "08f78387-da2d-4123-8e87-0286c266863f",
   "metadata": {},
   "source": [
    "[Erklärung 1 im Pythontutor die ich mir nochaml anschauen muss](https://pythontutor.com/render.html#code=%0Aclass%20Person%3A%20%0A%20%20%20%20class_var_1%20%3D%2042%0A%20%20%20%20%0A%20%20%20%20%23%20__init__%20ist%20Konstruktor%20%C3%A4hnliche%20DUNDER%20Methode%0A%20%20%20%20%23%20DUNDER%20%3D%3D%20Double%20UNDERscore%0A%20%20%20%20def%20__init__%28self,%20my_name,%20my_age%3D18%29%3A%20%0A%20%20%20%20%20%20%20%20self.name%20%3D%20my_name%0A%20%20%20%20%20%20%20%20self.age%20%3D%20my_age%0A%20%20%20%20%20%20%20%20self.funny%20%3D%2042%0A%20%20%20%20%20%20%20%20%0A%20%20%20%20def%20f%28self,a%29%3A%0A%20%20%20%20%20%20%20%20pass%0A%20%20%20%20%20%20%20%20%0A%23%20die%20__init__%28%29%20wird%20aufgerufen%20durch%20Klassennamen%20%28%20%20Argumente%20%29%0A%23%20Bei%20den%20Argumenten%20muss%20man%20self%20NICHT%20angeben,%20das%20bekommt%20man%0A%23%20automatisch%20wir%20haben%20drei%20Parameter,%20ben%C3%B6tigen%20aber%20nur%202%20Argumente%0A%23%20neben%20Funktionen%20sind%20auch%20Klassen%20callable%0Ainstanz1%20%3D%20Person%28%22Anna%22,%2073%29%0Ainstanz2%20%3D%20Person%28%22Frank%22%29%0A%0Aprint%28instanz1.name%29%0Aprint%28instanz1.age%29%0Ainstanz1.f%2842%29%0Ainstanz1.name%20%3D%20%22Phil%22%0A%23dict1%5Bname%5D%20%3D%20%22Phil%22%0Ainstanz1.geburtsort%20%3D%20%22Berlin%22%0A%0Adel%20instanz2.funny&cumulative=false&curInstr=16&heapPrimitives=nevernest&mode=display&origin=opt-frontend.js&py=311&rawInputLstJSON=%5B%5D&textReferences=false)"
   ]
  },
  {
   "cell_type": "code",
   "execution_count": null,
   "id": "0937dfde-daa1-4213-9a56-63d2807251a7",
   "metadata": {},
   "outputs": [],
   "source": [
    "class Person: \n",
    "    class_var_1 = 42\n",
    "\n",
    "    def __init__(self, my_name, my_age=18): # my_age = 18 ist hier ein Defaultwert\n",
    "        self.name = my_name\n",
    "        self.age = my_age\n",
    "        self.funny = 42 # \n",
    "        \n",
    "    def f(self,a):\n",
    "        pass\n",
    "        \n",
    "# die __init__() wird aufgerufen durch Klassennamen (  Argumente )\n",
    "# Bei den Argumenten muss man self NICHT angeben, das bekommt man\n",
    "# automatisch wir haben drei Parameter, benötigen aber nur 2 Argumente\n",
    "# neben Funktionen sind auch Klassen callable\n",
    "instanz1 = Person(\"Anna\", 73)\n",
    "instanz2 = Person(\"Frank\")\n",
    "\n",
    "print(instanz1.name)\n",
    "print(instanz1.age)\n",
    "instanz1.f(42)\n",
    "instanz1.name = \"Phil\"\n",
    "#dict1[name] = \"Phil\"\n",
    "instanz1.geburtsort = \"Berlin\"\n",
    "\n",
    "del instanz2.funny"
   ]
  },
  {
   "cell_type": "markdown",
   "id": "dc7b01e9-a0f5-4922-b8c3-4a9f75240a7d",
   "metadata": {},
   "source": [
    "[Erklärung 2 im Pythontutor die ich mir nochmal anschauen muss](https://pythontutor.com/visualize.html#code=%0Aclass%20Person%3A%20%0A%20%20%0A%20%20%20%20drinking_age%20%3D%2020%0A%20%20%20%20%23%20__init__%20ist%20Konstruktor%20%C3%A4hnliche%20DUNDER%20Methode%0A%20%20%20%20%23%20DUNDER%20%3D%3D%20Double%20UNDERscore%0A%20%20%20%20def%20__init__%28self,%20my_name,%20my_age%3D18%29%3A%20%0A%20%20%20%20%20%20%20%20self.name%20%3D%20my_name%0A%20%20%20%20%20%20%20%20self.age%20%3D%20my_age%0A%20%20%20%20%20%20%20%20self.funny%20%3D%2042%0A%20%20%20%20%20%20%20%20%0A%20%20%20%20def%20__str__%28self%29%3A%0A%20%20%20%20%20%20%20%20return%20f%22%7Bself.name%7D%20ist%20der%20King%22%0A%20%20%20%20%20%20%20%20%0A%20%20%20%20def%20f%28self,a%29%3A%0A%20%20%20%20%20%20%20%20pass%0A%0A%0A%0Aclass%20Mensch%28Person%29%3A%20%0A%20%20%20pass%0Amy_mensch%20%3D%20Mensch%28%22Berta%22,%2043%29%0A%0Ainstanz1%20%3D%20Person%28%22Anna%22,%2073%29%23%20Person.__init__%28instanz1,%20%22Anna%22,%2073%29%0Aresult%20%3D%20instanz1.__str__%28%29%0A%0Aprint%28instanz1%29%0A%23%20Aufruf%20auf%20KLASSEN%20namen%20%0Adict_auf_klasse_mensch%20%3DMensch.__dict__%0Adict_auf_klasse_person%20%3DPerson.__dict__%0A%23%20Aufruf%20auf%20Instanz%20Variablennamen%0Adict_auf_instanz_mensch%20%3D%20my_mensch.__dict__%0Adict_auf_instanz_person%20%3D%20instanz1.__dict__&cumulative=false&heapPrimitives=nevernest&mode=edit&origin=opt-frontend.js&py=311&rawInputLstJSON=%5B%5D&textReferences=false)"
   ]
  },
  {
   "cell_type": "code",
   "execution_count": null,
   "id": "8a2e8b60-7ccb-494d-a8e1-1a08f4d80054",
   "metadata": {},
   "outputs": [],
   "source": [
    "polymorfismus "
   ]
  },
  {
   "cell_type": "markdown",
   "id": "cc302402-d516-40b2-857a-9e0b539f0982",
   "metadata": {},
   "source": [
    "Objekte haben KEINE Namen!"
   ]
  },
  {
   "cell_type": "markdown",
   "id": "58f3b1ea-4019-4634-b4ca-5e95606526d8",
   "metadata": {},
   "source": [
    "Alle Klassen die klein geschrieben sind wurden schon in C für Python definiert, als python erschaffen wurde..."
   ]
  },
  {
   "cell_type": "markdown",
   "id": "1e1082d4-a65f-4c72-9a26-8576f94a2531",
   "metadata": {},
   "source": [
    "procedual = nicht in einer Klasse definiert"
   ]
  },
  {
   "cell_type": "markdown",
   "id": "2d12095a-c02b-4e4e-ad47-65206e2f0679",
   "metadata": {},
   "source": [
    "[Python zu Klassen](https://pythontutor.com/visualize.html#code=class%20ExampleClass%3A%0A%20%20%20%20varia%20%3D%20%22Ich%20bin%20eine%20Klassenvariable%20ich%20lebe%20in%20der%20Klasse,%20wurde%20in%20der%20Klasse%20erstellt%20aber%20NICHT%20IN%20einer%20Methode%22%0A%20%20%20%20def%20__init__%28self,%20val%29%3A%0A%20%20%20%20%20%20%20%20%23ExampleClass.varia%20%3D%20val%0A%20%20%20%20%20%20%20%20self.name%20%3D%20%22Ich%20bin%20eine%20instanzvariable%20da%20in%20methode%20mit%20self.IDENTIFIER%20%3D%20erstellt%22%0A%0A%0Aprint%28ExampleClass.__dict__%29%0Aexample_object%20%3D%20ExampleClass%282%29%0Aprint%28example_object.name%20%29%0Aprint%28example_object.varia%20%29%23%20instanzen%20k%C3%B6nnen%20auch%20klassenvariablen%20aufrufen%0A&cumulative=false&heapPrimitives=nevernest&mode=edit&origin=opt-frontend.js&py=311&rawInputLstJSON=%5B%5D&textReferences=false)"
   ]
  },
  {
   "cell_type": "markdown",
   "id": "cc753fac-7b86-4b44-b8ba-036eca020f7e",
   "metadata": {},
   "source": [
    "### Name Mandeling"
   ]
  },
  {
   "cell_type": "markdown",
   "id": "25cd31fc-a83d-4877-8335-9c24b8a1bb3d",
   "metadata": {},
   "source": [
    "In Python bezieht sich \"Name Mangling\" (Namensveränderung) auf die Technik, die verwendet wird, um den Namen von Klassenattributen zu ändern, die mit zwei Unterstrichen beginnen (__). Dies geschieht, um Namenskonflikte bei der Vererbung zu vermeiden und Datenkapselung zu unterstützen."
   ]
  },
  {
   "cell_type": "markdown",
   "id": "fd18fbac-2940-4dc0-956f-06de6fc5148b",
   "metadata": {},
   "source": [
    "#### Wie funktioniert Name Mangling?"
   ]
  },
  {
   "cell_type": "markdown",
   "id": "439fe0a3-5c9b-408a-89c5-a9a52ad8047e",
   "metadata": {},
   "source": [
    "Wenn ein Attribut in einer Klasse mit zwei Unterstrichen beginnt UND NICHT mit zwei Unterstrichen endet, wird der Name des Attributs intern geändert (gemangelt), um den Klassennamen einzuschließen. Dies geschieht, um das Attribut zu \"verstecken\" und den direkten Zugriff von außen zu erschweren. (mangling = ändern | gemangelt = geändert)"
   ]
  },
  {
   "cell_type": "markdown",
   "id": "3d374a46-3584-4946-b7cb-3bc94e78738e",
   "metadata": {},
   "source": [
    "Beispiel:"
   ]
  },
  {
   "cell_type": "code",
   "execution_count": 24,
   "id": "fe9e2035-a3ec-4f9d-ad3a-c6978aa452fd",
   "metadata": {},
   "outputs": [
    {
     "name": "stdout",
     "output_type": "stream",
     "text": [
      "42\n"
     ]
    }
   ],
   "source": [
    "class MyClass:\n",
    "\n",
    "    __MyVar = 100\n",
    "    \n",
    "    def __init__(self):\n",
    "        self.__private_attr = 42\n",
    "\n",
    "    def __HIER_ICH_NICHT_DRAN(self):\n",
    "        return self.__private_attr\n",
    "\n",
    "obj = MyClass()\n",
    "print(obj._MyClass__HIER_ICH_NICHT_DRAN())  # Ausgabe: 42\n",
    "\n",
    "# Direkter Zugriff führt zu einem Fehler\n",
    "# print(obj.__private_attr)  # AttributeError\n",
    "\n",
    "# Intern wird der Name geändert (gemangelt)\n",
    "#print(obj._MyClass__private_attr)  # Ausgabe: 42\n"
   ]
  },
  {
   "cell_type": "code",
   "execution_count": 25,
   "id": "a583423f-853f-43bf-9207-2c50db1c6b5f",
   "metadata": {},
   "outputs": [
    {
     "name": "stdout",
     "output_type": "stream",
     "text": [
      "{'_MyClass__private_attr': 42}\n"
     ]
    }
   ],
   "source": [
    "print(obj.__dict__) "
   ]
  },
  {
   "cell_type": "code",
   "execution_count": 26,
   "id": "c759f5f3-96ee-4773-9d91-e6fa37540f34",
   "metadata": {},
   "outputs": [
    {
     "name": "stdout",
     "output_type": "stream",
     "text": [
      "{'__module__': '__main__', '_MyClass__MyVar': 100, '__init__': <function MyClass.__init__ at 0x000001716A35DBC0>, '_MyClass__HIER_ICH_NICHT_DRAN': <function MyClass.__HIER_ICH_NICHT_DRAN at 0x000001716A35DD00>, '__dict__': <attribute '__dict__' of 'MyClass' objects>, '__weakref__': <attribute '__weakref__' of 'MyClass' objects>, '__doc__': None}\n"
     ]
    }
   ],
   "source": [
    "print(MyClass.__dict__) "
   ]
  },
  {
   "cell_type": "markdown",
   "id": "377826c1-6cbb-4be4-8580-afac77b00633",
   "metadata": {},
   "source": [
    "Ok noch nicht ganz so klar... später nochmal anschauen."
   ]
  },
  {
   "cell_type": "markdown",
   "id": "22362696-0d9c-4a4d-831e-d46ba3087ec4",
   "metadata": {},
   "source": [
    "`__identifier` triggert Name Mangling für Klassenvariablen, Instanzvariablen, Methoden (Funktionen der Klasse)\n"
   ]
  },
  {
   "cell_type": "markdown",
   "id": "33e43a2f-a8ec-470c-a7d5-1466cc3a4f57",
   "metadata": {},
   "source": [
    "# More"
   ]
  },
  {
   "cell_type": "code",
   "execution_count": null,
   "id": "25305f7d-9c58-4bf4-8a46-aa86e846b388",
   "metadata": {},
   "outputs": [],
   "source": []
  },
  {
   "cell_type": "code",
   "execution_count": null,
   "id": "9da9c84f-f288-4a4a-b27d-ab2a9502a0fa",
   "metadata": {},
   "outputs": [],
   "source": []
  },
  {
   "cell_type": "markdown",
   "id": "4eff1639-87c4-4c0c-abc9-1373b835f2f2",
   "metadata": {},
   "source": [
    "# Bonus NIcht Tuple sondern INstanzen "
   ]
  },
  {
   "cell_type": "code",
   "execution_count": 103,
   "id": "1bcd1725-ed66-49bf-a5c7-e9df80fa7701",
   "metadata": {
    "tags": []
   },
   "outputs": [],
   "source": [
    "class Person: \n",
    "    \n",
    "    alle_personen = []\n",
    "    def __init__(self, name, alter, beruf): \n",
    "        self.name = name\n",
    "        self.alter = alter\n",
    "        self.beruf = beruf\n",
    "        Person.alle_personen.append(self)\n",
    "    # Für Darstellung von Instanzen innerhalb einer liste\n",
    "    def __repr__(self):\n",
    "        return f\"Person('{self.name}', {self.alter}, '{self.beruf}')\""
   ]
  },
  {
   "cell_type": "markdown",
   "id": "84c3f86a-6052-4468-9d5b-23b0ae896de6",
   "metadata": {},
   "source": [
    "Link zu: [`__repr__`](method__repr__.ipynb)"
   ]
  },
  {
   "cell_type": "code",
   "execution_count": 104,
   "id": "f0707738-cb9f-4bc5-8f3a-9b851663ff88",
   "metadata": {
    "tags": []
   },
   "outputs": [],
   "source": [
    "pers1 = Person(\"Phil\", 43, \"Frankfurt\")"
   ]
  },
  {
   "cell_type": "code",
   "execution_count": 105,
   "id": "1cdcf1ce-6e18-4612-8cce-b920d029a519",
   "metadata": {
    "tags": []
   },
   "outputs": [],
   "source": [
    "pers2 = Person(\"Anna\", 43, \"Berlin\")"
   ]
  },
  {
   "cell_type": "code",
   "execution_count": 106,
   "id": "ae108db7-7738-47b4-8833-34320b0e6be6",
   "metadata": {
    "tags": []
   },
   "outputs": [],
   "source": [
    "pers3 = Person(\"Frank\", 103, \"Offenburg\")"
   ]
  },
  {
   "cell_type": "code",
   "execution_count": 108,
   "id": "4d9210bd-4415-445a-b4bb-c9a150c29371",
   "metadata": {
    "scrolled": true,
    "tags": []
   },
   "outputs": [
    {
     "data": {
      "text/plain": [
       "[Person('Phil', 43, 'Frankfurt'),\n",
       " Person('Anna', 43, 'Berlin'),\n",
       " Person('Frank', 103, 'Offenburg')]"
      ]
     },
     "execution_count": 108,
     "metadata": {},
     "output_type": "execute_result"
    }
   ],
   "source": [
    "Person.alle_personen"
   ]
  },
  {
   "cell_type": "code",
   "execution_count": 109,
   "id": "5515e861-004b-4417-9d81-d88673928c01",
   "metadata": {
    "tags": []
   },
   "outputs": [],
   "source": [
    "# Aufgabe 1 mit dieser Liste "
   ]
  },
  {
   "cell_type": "code",
   "execution_count": null,
   "id": "d1035833-d1d8-479a-9f33-a2c53d9fb743",
   "metadata": {},
   "outputs": [],
   "source": [
    "tuple_person = (\"Anne Müller\", 42, \"Berlin\")"
   ]
  },
  {
   "cell_type": "code",
   "execution_count": 110,
   "id": "d03d8cc1-8142-44f9-91e2-cbd64d1a3e0d",
   "metadata": {
    "tags": []
   },
   "outputs": [
    {
     "name": "stdout",
     "output_type": "stream",
     "text": [
      "[29, 36, 43, 30, 35, 32, 28, 46, 39, 34, 31, 27, 41, 38, 33, 51, 37, 29, 42, 40]\n"
     ]
    }
   ],
   "source": [
    "# Lösung als personen eine LIste von TUPLE waren x[1] => alter\n",
    "print(list(map(lambda x : x[1]+1, personen)))"
   ]
  },
  {
   "cell_type": "code",
   "execution_count": 111,
   "id": "809e22a8-7078-4c36-928e-e5b4c8248de2",
   "metadata": {
    "tags": []
   },
   "outputs": [],
   "source": [
    "personen = Person.alle_personen"
   ]
  },
  {
   "cell_type": "code",
   "execution_count": 112,
   "id": "4a2d6275-ac4c-4fb3-b548-c353de68b87f",
   "metadata": {
    "tags": []
   },
   "outputs": [
    {
     "data": {
      "text/plain": [
       "[Person('Phil', 43, 'Frankfurt'),\n",
       " Person('Anna', 43, 'Berlin'),\n",
       " Person('Frank', 103, 'Offenburg')]"
      ]
     },
     "execution_count": 112,
     "metadata": {},
     "output_type": "execute_result"
    }
   ],
   "source": [
    "personen"
   ]
  },
  {
   "cell_type": "code",
   "execution_count": 115,
   "id": "9fce83de-44b0-43f1-ad02-0ddaa61e4621",
   "metadata": {
    "tags": []
   },
   "outputs": [
    {
     "name": "stdout",
     "output_type": "stream",
     "text": [
      "[44, 44, 104]\n"
     ]
    }
   ],
   "source": [
    "print(list(map(lambda x : x.alter+1, personen)))"
   ]
  },
  {
   "cell_type": "code",
   "execution_count": 116,
   "id": "6f30d24b-a04a-42f7-a3d8-7174d4b8c5ed",
   "metadata": {
    "tags": []
   },
   "outputs": [
    {
     "data": {
      "text/plain": [
       "Person('Phil', 43, 'Frankfurt')"
      ]
     },
     "execution_count": 116,
     "metadata": {},
     "output_type": "execute_result"
    }
   ],
   "source": [
    " Person.alle_personen[0]"
   ]
  },
  {
   "cell_type": "code",
   "execution_count": 117,
   "id": "e9ae3ce6-2c36-480a-8a48-b496522dada8",
   "metadata": {
    "tags": []
   },
   "outputs": [
    {
     "data": {
      "text/plain": [
       "__main__.Person"
      ]
     },
     "execution_count": 117,
     "metadata": {},
     "output_type": "execute_result"
    }
   ],
   "source": [
    "type( Person.alle_personen[0])"
   ]
  },
  {
   "cell_type": "code",
   "execution_count": 118,
   "id": "601887ba-6197-472f-928c-aba352f581a7",
   "metadata": {
    "tags": []
   },
   "outputs": [],
   "source": [
    "person1 = Person.alle_personen[0]"
   ]
  },
  {
   "cell_type": "code",
   "execution_count": 119,
   "id": "1cb4f1b2-b1a1-4299-8ae0-9082b22a7aae",
   "metadata": {
    "collapsed": true,
    "jupyter": {
     "outputs_hidden": true
    },
    "tags": []
   },
   "outputs": [
    {
     "data": {
      "text/plain": [
       "'Phil'"
      ]
     },
     "execution_count": 119,
     "metadata": {},
     "output_type": "execute_result"
    }
   ],
   "source": [
    "person1.name"
   ]
  },
  {
   "cell_type": "code",
   "execution_count": 120,
   "id": "07d1a334-8669-4fe1-999b-82a15b910d9b",
   "metadata": {
    "tags": []
   },
   "outputs": [
    {
     "data": {
      "text/plain": [
       "43"
      ]
     },
     "execution_count": 120,
     "metadata": {},
     "output_type": "execute_result"
    }
   ],
   "source": [
    "person1.alter"
   ]
  },
  {
   "cell_type": "code",
   "execution_count": 123,
   "id": "99d5e284-39b1-4c90-8345-958e5a683ac8",
   "metadata": {
    "tags": []
   },
   "outputs": [
    {
     "data": {
      "text/plain": [
       "'Frankfurt'"
      ]
     },
     "execution_count": 123,
     "metadata": {},
     "output_type": "execute_result"
    }
   ],
   "source": [
    "person1.beruf"
   ]
  },
  {
   "cell_type": "code",
   "execution_count": 124,
   "id": "8575c3d7-ffd8-45cb-af11-53ee61f655f0",
   "metadata": {
    "tags": []
   },
   "outputs": [
    {
     "ename": "TypeError",
     "evalue": "'Person' object is not subscriptable",
     "output_type": "error",
     "traceback": [
      "\u001b[0;31m---------------------------------------------------------------------------\u001b[0m",
      "\u001b[0;31mTypeError\u001b[0m                                 Traceback (most recent call last)",
      "\u001b[0;32m/var/folders/98/zxnb__6d3hn1b82jwdhkbs7m0000gn/T/ipykernel_10426/867104169.py\u001b[0m in \u001b[0;36m<module>\u001b[0;34m\u001b[0m\n\u001b[1;32m      1\u001b[0m \u001b[0;31m# Mit tuple als Personen\u001b[0m\u001b[0;34m\u001b[0m\u001b[0;34m\u001b[0m\u001b[0;34m\u001b[0m\u001b[0m\n\u001b[0;32m----> 2\u001b[0;31m \u001b[0mlist\u001b[0m\u001b[0;34m(\u001b[0m\u001b[0mmap\u001b[0m\u001b[0;34m(\u001b[0m\u001b[0;32mlambda\u001b[0m \u001b[0mpers\u001b[0m \u001b[0;34m:\u001b[0m \u001b[0mpers\u001b[0m\u001b[0;34m[\u001b[0m\u001b[0;36m0\u001b[0m\u001b[0;34m]\u001b[0m\u001b[0;34m.\u001b[0m\u001b[0mlower\u001b[0m\u001b[0;34m(\u001b[0m\u001b[0;34m)\u001b[0m\u001b[0;34m,\u001b[0m \u001b[0mpersonen\u001b[0m\u001b[0;34m)\u001b[0m\u001b[0;34m)\u001b[0m\u001b[0;31m# als Listcomprehension\u001b[0m\u001b[0;34m\u001b[0m\u001b[0;34m\u001b[0m\u001b[0m\n\u001b[0m",
      "\u001b[0;32m/var/folders/98/zxnb__6d3hn1b82jwdhkbs7m0000gn/T/ipykernel_10426/867104169.py\u001b[0m in \u001b[0;36m<lambda>\u001b[0;34m(pers)\u001b[0m\n\u001b[1;32m      1\u001b[0m \u001b[0;31m# Mit tuple als Personen\u001b[0m\u001b[0;34m\u001b[0m\u001b[0;34m\u001b[0m\u001b[0;34m\u001b[0m\u001b[0m\n\u001b[0;32m----> 2\u001b[0;31m \u001b[0mlist\u001b[0m\u001b[0;34m(\u001b[0m\u001b[0mmap\u001b[0m\u001b[0;34m(\u001b[0m\u001b[0;32mlambda\u001b[0m \u001b[0mpers\u001b[0m \u001b[0;34m:\u001b[0m \u001b[0mpers\u001b[0m\u001b[0;34m[\u001b[0m\u001b[0;36m0\u001b[0m\u001b[0;34m]\u001b[0m\u001b[0;34m.\u001b[0m\u001b[0mlower\u001b[0m\u001b[0;34m(\u001b[0m\u001b[0;34m)\u001b[0m\u001b[0;34m,\u001b[0m \u001b[0mpersonen\u001b[0m\u001b[0;34m)\u001b[0m\u001b[0;34m)\u001b[0m\u001b[0;31m# als Listcomprehension\u001b[0m\u001b[0;34m\u001b[0m\u001b[0;34m\u001b[0m\u001b[0m\n\u001b[0m",
      "\u001b[0;31mTypeError\u001b[0m: 'Person' object is not subscriptable"
     ]
    }
   ],
   "source": [
    "# Mit tuple als Personen\n",
    "list(map(lambda pers : pers[0].lower(), personen))# als Listcomprehension"
   ]
  },
  {
   "cell_type": "code",
   "execution_count": 125,
   "id": "e8956dd5-7724-4c52-8b96-41ad188942fc",
   "metadata": {
    "scrolled": true,
    "tags": []
   },
   "outputs": [
    {
     "data": {
      "text/plain": [
       "['phil', 'anna', 'frank']"
      ]
     },
     "execution_count": 125,
     "metadata": {},
     "output_type": "execute_result"
    }
   ],
   "source": [
    "list(map(lambda pers : pers.name.lower(), personen))# als Listcomprehension"
   ]
  },
  {
   "cell_type": "markdown",
   "id": "d9e8a510-c75d-44ff-ad6e-1d4928b98f2a",
   "metadata": {},
   "source": [
    "# Umwandlung von main.... Objekten in lesbare Wörter"
   ]
  },
  {
   "cell_type": "markdown",
   "id": "dc723b38-afd5-4ef0-9fc3-047f61197ad2",
   "metadata": {},
   "source": [
    "Siehe auch: [Umwandeln von Objekten mit `__repr__`](r__repr__.ipynb)"
   ]
  },
  {
   "cell_type": "markdown",
   "id": "a8bcf3f7-fcd0-4e8e-a8a6-bb2dbbc39bd5",
   "metadata": {},
   "source": [
    "[Lösung im Pythontutor](https://pythontutor.com/render.html#code=%0A%0Aclass%20Person%3A%20%0A%20%20%20%20%0A%20%20%20%20all_persons%20%3D%20%5B%5D%0A%20%20%20%20%0A%20%20%20%20def%20__init__%28self,%20name1,%20age2,%20city3%29%3A%0A%20%20%20%20%20%20%20%20self.name%20%3D%20name1%0A%20%20%20%20%20%20%20%20self.city%20%3D%20city3%0A%20%20%20%20%20%20%20%20self.age%20%3D%20age2%0A%20%20%20%20%20%20%20%20Person.all_persons.append%28self%29%20%20%20%20%20%20%20%20%0A%20%20%20%20def%20__str__%28self%29%3A%0A%20%20%20%20%20%20%20%20return%20%22%20%22.join%28map%28str,self.__dict__.values%28%29%29%29%0A%0Ap1%20%3D%20Person%28%22Anna%22,%2042,%20%22Berlin%22%29%0Ap2%20%3D%20Person%28%22Berta%22,%2032,%20%22Berlin%22%29%0A%0Aelement1%20%3D%20Person.all_persons%5B0%5D%0Aelement2%20%3D%20Person.all_persons%5B1%5D%0A%0Afor%20elem%20in%20Person.all_persons%3A%20%0A%20%20%20%20print%28elem%29%0A%22%22%22%0Adict_elem%20%3D%20element1.__dict__%0Aa%20%3D%20list%28map%28str,element1.__dict__.values%28%29%29%29%0Ainhalte_von_element1%20%3D%20%22%20%22.join%28map%28str,element1.__dict__.values%28%29%29%29%0A%22%22%22&cumulative=false&curInstr=28&heapPrimitives=nevernest&mode=display&origin=opt-frontend.js&py=311&rawInputLstJSON=%5B%5D&textReferences=false)"
   ]
  },
  {
   "cell_type": "markdown",
   "id": "98f4d2c5-b165-44fb-bf24-8a2f0173cab4",
   "metadata": {},
   "source": [
    "Merken!"
   ]
  },
  {
   "cell_type": "markdown",
   "id": "7c7c0730-2754-4e5e-9cd3-f8cdbb9d2822",
   "metadata": {},
   "source": [
    "Wenn man einen Code AUF einer Instanz aufruft, ÜBERGIBT die Instanz immer sich selbst (self) an die funktion"
   ]
  },
  {
   "cell_type": "markdown",
   "id": "0f12ae30-d180-4527-8b45-3583522c9ca2",
   "metadata": {},
   "source": [
    "[Beispiel](https://pythontutor.com/visualize.html#code=class%20A%3A%20%20%23%20class%20heisst%20A%0A%20%20%20%20%23%20Klassenvariable,%20gibt%20es%20nur%20eine%20Kopie%20f%C3%BCr%20ALLE%20Instanzen,%20die%20ist%20immer%20gleich%20%0A%20%20%20%20x%20%3D%2042%0A%0A%20%20%20%20%23%20In%20einer%20Instanzmethode%20ist%20der%20erste%20PARAMETER%20immer%20der%20Ort%20an%20dem%20die%20Instanz%20auf%20der%0A%20%20%20%20%23%20wir%20arbeiten%20referenziert%20wird.%20Da%20Instanzmethoden%20auf%20EINER%20Instanz%20arbeiten%0A%20%20%20%20def%20__init__%28self,%20y%29%3A%0A%20%20%20%20%20%20%20%20%23%20Instanzvariable%20ist%20my_y%0A%20%20%20%20%20%20%20%20self.my_y%20%3D%20y%20%20%23%20Jede%20Instanz%20hat%20in%20sich%20eine%20EIGENE%20Variable%20my_y%0A%0A%20%20%20%20%40classmethod%0A%20%20%20%20def%20my_class_method%28cls%29%3A%0A%20%20%20%20%20%20%20%20print%28cls.x%29%0A%20%20%20%20%20%20%20%20%23print%28cls.y%29%20geht%20nicht%20da%20cls%20bei%20Klassenmethoden%20auf%20die%20Klasse%20springt.%20Die%20klasse%20kann%20nicht%20auf%20Instanzinhalte%20zugreifen%0A%20%20%20%20%0A%20%20%20%20def%20my_funcy_method%28%29%3A%0A%20%20%20%20%20%20%20%20print%2842%29%0A%20%20%20%20%0A%20%20%20%20%0Ainst%20%3D%20A%2842%29%0A%23inst.my_funcy_method%28%29%0AA.my_class_method%28%29&cumulative=false&heapPrimitives=nevernest&mode=edit&origin=opt-frontend.js&py=311&rawInputLstJSON=%5B%5D&textReferences=false)"
   ]
  },
  {
   "cell_type": "code",
   "execution_count": 4,
   "id": "9eaf7468-f3f2-4081-b81a-17b6b4108f8e",
   "metadata": {},
   "outputs": [],
   "source": [
    "health = 100"
   ]
  },
  {
   "cell_type": "code",
   "execution_count": 5,
   "id": "01789267-df6b-498e-8172-75b8b14a1f8f",
   "metadata": {},
   "outputs": [],
   "source": [
    "class Zauberspruch():\n",
    "\n",
    "    def Feuerball():\n",
    "        health -= 50\n",
    "        print(\"Ein glühender Feuerball fliegt auf das Ziel zu und hüllt es lodernde Flammen.\")"
   ]
  },
  {
   "cell_type": "code",
   "execution_count": null,
   "id": "eb8df940-fbea-4551-ac65-fa3820d0ef4a",
   "metadata": {},
   "outputs": [],
   "source": []
  },
  {
   "cell_type": "code",
   "execution_count": null,
   "id": "1ffdaebe-6e71-4212-a2eb-ec07492678ba",
   "metadata": {},
   "outputs": [],
   "source": []
  },
  {
   "cell_type": "code",
   "execution_count": null,
   "id": "36ff891e-dc89-4cbb-a9c7-89669272a2be",
   "metadata": {},
   "outputs": [],
   "source": []
  },
  {
   "cell_type": "code",
   "execution_count": 3,
   "id": "531be922-2325-4319-a719-00b4e1dd6074",
   "metadata": {},
   "outputs": [
    {
     "ename": "UnboundLocalError",
     "evalue": "cannot access local variable 'health' where it is not associated with a value",
     "output_type": "error",
     "traceback": [
      "\u001b[1;31m---------------------------------------------------------------------------\u001b[0m",
      "\u001b[1;31mUnboundLocalError\u001b[0m                         Traceback (most recent call last)",
      "Cell \u001b[1;32mIn[3], line 1\u001b[0m\n\u001b[1;32m----> 1\u001b[0m Feuerball \u001b[38;5;241m=\u001b[39m \u001b[43mZauberspruch\u001b[49m\u001b[38;5;241;43m.\u001b[39;49m\u001b[43mFeuerball\u001b[49m\u001b[43m(\u001b[49m\u001b[43m)\u001b[49m\n",
      "Cell \u001b[1;32mIn[2], line 4\u001b[0m, in \u001b[0;36mZauberspruch.Feuerball\u001b[1;34m()\u001b[0m\n\u001b[0;32m      3\u001b[0m \u001b[38;5;28;01mdef\u001b[39;00m \u001b[38;5;21mFeuerball\u001b[39m():\n\u001b[1;32m----> 4\u001b[0m     \u001b[43mhealth\u001b[49m \u001b[38;5;241m-\u001b[39m\u001b[38;5;241m=\u001b[39m \u001b[38;5;241m50\u001b[39m\n\u001b[0;32m      5\u001b[0m     \u001b[38;5;28mprint\u001b[39m(\u001b[38;5;124m\"\u001b[39m\u001b[38;5;124mEin glühender Feuerball fliegt auf das Ziel zu und hüllt es lodernde Flammen.\u001b[39m\u001b[38;5;124m\"\u001b[39m)\n",
      "\u001b[1;31mUnboundLocalError\u001b[0m: cannot access local variable 'health' where it is not associated with a value"
     ]
    }
   ],
   "source": [
    "Feuerball = Zauberspruch.Feuerball()"
   ]
  },
  {
   "cell_type": "markdown",
   "id": "cc96ba0f-e592-480f-9f7a-4c13feacbb57",
   "metadata": {},
   "source": [
    "[`__dict__`](d__dict__.ipynb)"
   ]
  },
  {
   "cell_type": "markdown",
   "id": "a8c22ca0-d454-4836-a9bd-fbbfd6d2b041",
   "metadata": {},
   "source": [
    "[Beispiel](https://pythontutor.com/render.html#code=class%20A%3A%20%20%23%20class%20heisst%20A%0A%20%20%20%20%23%20Klassenvariable,%20gibt%20es%20nur%20eine%20Kopie%20f%C3%BCr%20ALLE%20Instanzen,%20die%20ist%20immer%20gleich%20%0A%20%20%20%20x%20%3D%2042%0A%20%20%20%20%23%20In%20einer%20Instanzmethode%20ist%20der%20erste%20PARAMETER%20immer%20der%20Ort%20an%20dem%20die%20Instanz%20auf%20der%0A%20%20%20%20%23%20wir%20arbeiten%20referenziert%20wird.%20Da%20Instanzmethoden%20auf%20EINER%20Instanz%20arbeiten%0A%20%20%20%20def%20__init__%28self,%20y%29%3A%0A%20%20%20%20%20%20%20%20%23%20Instanzvariable%20ist%20my_y%0A%20%20%20%20%20%20%20%20self.my_y%20%3D%20y%20%20%23%20Jede%20Instanz%20hat%20in%20sich%20eine%20EIGENE%20Variable%20my_y%0A%20%20%20%20%20%20%20%20print%28self.x%29%20%23%20python%20sucht%20immer%20erst%20in%20instanz%20%28wenn%20auf%20instanz%20aufgerufen%29%0A%20%20%20%20%20%20%20%20self.__class__.x%20%3D%203000%0A%20%20%20%20%20%20%20%20A.x%20%3D%204000%0A%20%20%20%20%20%20%20%20%23%20und%20wenn%20dort%20nicht%20f%C3%BCndig%20sucht%20python%20in%20Klasse%0A%20%20%20%20%20%20%20%20%0A%20%20%20%20%40classmethod%20%23%20beschr%C3%A4nkt%20zugriff%20NUR%20AUF%20die%20auf%20Klasse%0A%20%20%20%20%23%20Da%20Instanzmethoden%20beides%20k%C3%B6nnen%20Instanzmethoden%20haben%20Zugriff%0A%20%20%20%20%23%20auf%201.%20Inst%20und%202.%20die%20Klasse%0A%20%20%20%20def%20my_class_method%28cls%29%3A%0A%20%20%20%20%20%20%20%20print%28cls.x%29%0A%20%20%20%20%20%20%20%20cls.x%20%3D%20100%0A%20%20%20%20%20%20%20%20%23print%28cls.y%29%20geht%20nicht%20da%20cls%20bei%20Klassenmethoden%20auf%20die%20Klasse%20springt.%20Die%20klasse%20kann%20nicht%20auf%20Instanzinhalte%20zugreifen%0A%20%20%20%20%0A%20%20%20%20def%20my_funcy_method%28%29%3A%0A%20%20%20%20%20%20%20%20print%2842%29%0A%20%20%20%20%0Adef%20funky%28%29%3A%0A%20%20%20%20pass%0A%0Ag%20%3D%20funky%0Aprint%28funky.__name__%29%0Aprint%28g.__name__%29%0A%0Amodule_dir%20%3D%20dir%28%29%0Aklass_dir%20%3D%20dir%28A%29%0A%0Ainst%20%3D%20A%2842%29%0A%0Ainst_dir%20%3D%20dir%28inst%29%0A%0A%0Amodule_funky%20%3D%20funky.__module__%0Amodule_von_a%20%3D%20A.__module__%0Amodule_inst%20%3D%20inst.__module__%0A%0Aprint%28inst.__class__%29%0Acheck%20%3D%20inst.__class__%0A%0Aprint%28inst.__class__.__name__%29%0A%23print%28inst.__name__%29%0A%23inst.my_funcy_method%28%29%0AA.my_class_method%28%29%0Ainst.my_class_method%28%29%0A%0A%0Adict_von_inst%20%3D%20inst.__dict__%0A%0Adict_von_A%20%3D%20A.__dict__%0Adict_von_A%20%3D%20inst.__class__.__dict__%0A%0A%0Amodule_dir2%20%3D%20dir%28%29&cumulative=false&curInstr=33&heapPrimitives=nevernest&mode=display&origin=opt-frontend.js&py=311&rawInputLstJSON=%5B%5D&textReferences=false)"
   ]
  }
 ],
 "metadata": {
  "kernelspec": {
   "display_name": "Python 3 (ipykernel)",
   "language": "python",
   "name": "python3"
  },
  "language_info": {
   "codemirror_mode": {
    "name": "ipython",
    "version": 3
   },
   "file_extension": ".py",
   "mimetype": "text/x-python",
   "name": "python",
   "nbconvert_exporter": "python",
   "pygments_lexer": "ipython3",
   "version": "3.12.4"
  }
 },
 "nbformat": 4,
 "nbformat_minor": 5
}
