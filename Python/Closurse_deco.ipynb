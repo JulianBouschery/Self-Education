{
 "cells": [
  {
   "cell_type": "code",
   "execution_count": 9,
   "id": "8f4ec704-5277-4396-a0dd-5f69e226bf3a",
   "metadata": {},
   "outputs": [
    {
     "name": "stdout",
     "output_type": "stream",
     "text": [
      "0.03884416399523616 Sekunden hat die Forschleife gebraucht\n"
     ]
    }
   ],
   "source": [
    "import time\n",
    "\n",
    "def f(n):\n",
    "    for x in range(n):\n",
    "        y = x**10\n",
    "\n",
    "a = time.perf_counter()\n",
    "\n",
    "f(100000)\n",
    "\n",
    "b = time.perf_counter()\n",
    "\n",
    "print(b-a, \"Sekunden hat die Forschleife gebraucht\")\n",
    "\n",
    "\n",
    "def mit_zeitmessung(fn):\n",
    "    def wrapper(*args, **kwargs):\n",
    "        a = time.perf_counter()\n",
    "        print(a)\n",
    "        \n",
    "        fn(*args, **kwargs)\n",
    "        \n",
    "        b = time.perf_counter()\n",
    "        print(b)\n",
    "        print(b-a, \"Sekunden hat die Forschleife gebraucht\")\n",
    "    return wrapper"
   ]
  },
  {
   "cell_type": "code",
   "execution_count": 10,
   "id": "43b11cf2-c819-4bbd-bc48-89c2819f645f",
   "metadata": {},
   "outputs": [],
   "source": [
    "@mit_zeitmessung\n",
    "def f(n):\n",
    "    for x in range(n):\n",
    "        y = x**10"
   ]
  },
  {
   "cell_type": "code",
   "execution_count": 11,
   "id": "360875a5-6d5c-4a9a-af53-fdf75f939a92",
   "metadata": {},
   "outputs": [
    {
     "name": "stdout",
     "output_type": "stream",
     "text": [
      "191976.338539674\n",
      "191976.338779329\n",
      "0.00023965499713085592 Sekunden hat die Forschleife gebraucht\n"
     ]
    }
   ],
   "source": [
    "f(1000)"
   ]
  },
  {
   "cell_type": "code",
   "execution_count": 14,
   "id": "a5b8a094-c5d4-4176-bed0-c5843cf3cd19",
   "metadata": {},
   "outputs": [
    {
     "name": "stdout",
     "output_type": "stream",
     "text": [
      "192026.348231172\n",
      "192029.781236429\n",
      "3.43300525698578 Sekunden hat die Forschleife gebraucht\n"
     ]
    }
   ],
   "source": [
    "f(12012110)"
   ]
  },
  {
   "cell_type": "code",
   "execution_count": 4,
   "id": "98edeed4-d218-4888-8e39-74f17d631ffa",
   "metadata": {},
   "outputs": [
    {
     "name": "stdout",
     "output_type": "stream",
     "text": [
      "wrapper\n",
      "XXXXXX\n",
      "laufzeit von schlafe_ein_wenig: 2.0046160309866536s\n",
      "laufzeit von schlafe_solange_wie: 3.0035631010250654s\n",
      "laufzeit von schlafe_sehr_wenig: 1.854990841820836e-06s\n",
      "laufzeit von schlafe_ein_wenig_2: 3.0045905110018793s\n"
     ]
    }
   ],
   "source": [
    "import time\n",
    "import random\n",
    "\n",
    "def schlafe_ein_wenig():\n",
    "    time.sleep(random.randint(1,10))\n",
    "\n",
    "        \n",
    "def mit_zeitmessung(fn):\n",
    "    def wrapper(*args, **kwargs):\n",
    "        t = time.perf_counter()\n",
    "        try:\n",
    "            return fn(*args, **kwargs)\n",
    "        finally:\n",
    "            e = time.perf_counter()\n",
    "            print(f'laufzeit von {fn.__name__}: {e - t}s')\n",
    "    return wrapper\n",
    "            \n",
    "\n",
    "#==================\n",
    "schlafe_ein_wenig = mit_zeitmessung(schlafe_ein_wenig)\n",
    "print(schlafe_ein_wenig.__name__)\n",
    "print(\"XXXXXX\")\n",
    "schlafe_solange_wie = mit_zeitmessung(schlafe_solange_wie)\n",
    "\n",
    "schlafe_sehr_wenig = mit_zeitmessung(schlafe_sehr_wenig)\n",
    "#=================\n",
    "schlafe_ein_wenig()\n",
    "schlafe_solange_wie(3)\n",
    "schlafe_sehr_wenig(bleib_wach=True)\n",
    "\n",
    "@mit_zeitmessung\n",
    "def schlafe_ein_wenig_2():\n",
    "    time.sleep(random.randint(1,3))\n",
    "\n",
    "schlafe_ein_wenig_2()"
   ]
  },
  {
   "cell_type": "code",
   "execution_count": null,
   "id": "176e30a2-f749-4bc7-9d36-36a3fb68b63c",
   "metadata": {},
   "outputs": [],
   "source": []
  }
 ],
 "metadata": {
  "kernelspec": {
   "display_name": "Python 3 (ipykernel)",
   "language": "python",
   "name": "python3"
  },
  "language_info": {
   "codemirror_mode": {
    "name": "ipython",
    "version": 3
   },
   "file_extension": ".py",
   "mimetype": "text/x-python",
   "name": "python",
   "nbconvert_exporter": "python",
   "pygments_lexer": "ipython3",
   "version": "3.12.0"
  }
 },
 "nbformat": 4,
 "nbformat_minor": 5
}
