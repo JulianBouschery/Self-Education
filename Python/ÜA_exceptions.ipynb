{
 "cells": [
  {
   "cell_type": "markdown",
   "id": "a26141bb-b5ea-4a5c-a2db-55b825b79c0d",
   "metadata": {},
   "source": [
    "[Zurück zu Error / Exceptions](Error.ipynb)"
   ]
  },
  {
   "cell_type": "markdown",
   "id": "6827303f-b212-4b68-9c48-172f68aa135e",
   "metadata": {
    "jp-MarkdownHeadingCollapsed": true
   },
   "source": [
    "# Patologische Prüfungsaufgaben zu Exceptions"
   ]
  },
  {
   "cell_type": "markdown",
   "id": "850c86ea-59bf-4d87-b721-26697ab6d84f",
   "metadata": {
    "jp-MarkdownHeadingCollapsed": true
   },
   "source": [
    "### Wildes Beispiel mit eigener Fehlerklasse:"
   ]
  },
  {
   "cell_type": "code",
   "execution_count": 47,
   "id": "e1ae64b5-8af7-4f7e-9cba-4ac1651f9e72",
   "metadata": {},
   "outputs": [
    {
     "name": "stdout",
     "output_type": "stream",
     "text": [
      "42\n",
      "failure\n",
      "erroneous index: 0\n",
      "1\n"
     ]
    }
   ],
   "source": [
    "class RangeError(IndexError): # Es wird eine neue subklasse von IndexError erstellt.\n",
    "\n",
    "    __errors = 0 # Diese Klasse hat einen Counter als Klassenvariable\n",
    "\n",
    "    def __init__(self, the_index): # Es wird ein Argument gefordert (Index)\n",
    "        IndexError.__init__(self, \"erroneous index: \" + str(the_index)) # Vergleich zu super() holt sich alles\n",
    "        RangeError.__errors += 1   # aus der IndexError Klasse und fügt und erhöht den Counter jedes mal, wenn                                    \n",
    "                                   # die Methode ausgeführt wird.  \n",
    "    def get_error_counter(self):   # Gibt den Counter wieder\n",
    "        return RangeError.__errors\n",
    "\n",
    "\n",
    "class Collection:\n",
    "    def get_(self, index): # Das hier ist nicht die .get() Methode, sondern eine willkürlich benannte Methode.\n",
    "        if not (1 <= index <= 10): # Wenn Index nicht kleiner gleich 1 UND kleiner gleich 10 ist,  \n",
    "            raise RangeError(index) # wirf einen Fehler\n",
    "        return 42 # Falls kein Fehler auftritt gib 42 zurück\n",
    "\n",
    "\n",
    "stuff = Collection()\n",
    "try:\n",
    "    print(stuff.get_(1)) # gibt True zurück --> return 42\n",
    "    print(stuff.get_(0)) # gibt False zurück raised RangeError\n",
    "except RangeError as error: #fängt die Fehlermeldung\n",
    "    print(\"failure\")\n",
    "    print(error) # gibt den gefangen Fehler mit aktuellem Counter zurück\n",
    "    print(error.get_error_counter()) # Zeigt Counter nachdem ein Fehler registriert wurde\n",
    "\n"
   ]
  },
  {
   "cell_type": "markdown",
   "id": "123c50f5-695c-407a-b7b0-2240a5f7d7a0",
   "metadata": {
    "jp-MarkdownHeadingCollapsed": true
   },
   "source": [
    "### Darf man Strings slicen? (Weil ich da immer noch zu lange nachdenken muss) "
   ]
  },
  {
   "cell_type": "code",
   "execution_count": 48,
   "id": "369ae92e-473e-44f3-ae09-857a43a8ee45",
   "metadata": {},
   "outputs": [
    {
     "data": {
      "text/plain": [
       "'ll'"
      ]
     },
     "execution_count": 48,
     "metadata": {},
     "output_type": "execute_result"
    }
   ],
   "source": [
    "var = \"Hallo\"\n",
    "var[2:4]"
   ]
  },
  {
   "cell_type": "markdown",
   "id": "c2355baf-4c73-438c-bc5e-647efc7780a5",
   "metadata": {},
   "source": [
    "JA DARF MAN!!!"
   ]
  },
  {
   "cell_type": "markdown",
   "id": "180d75a3-e335-43a3-aa98-6fb2fb2b6da5",
   "metadata": {
    "jp-MarkdownHeadingCollapsed": true
   },
   "source": [
    "### Incrementing"
   ]
  },
  {
   "cell_type": "markdown",
   "id": "f442b78f-dcb6-4945-8f5d-9f664660916c",
   "metadata": {},
   "source": [
    "Prüfungsfrage:\n",
    "Ist das erlaubt oder gibt es eine Fehler?                                                                                                          \n",
    "Incrementing an integer variable by one.                                                                                                          \n",
    "Increment = The process of increasing in number, size, quantity, or extent.                                                                      \n",
    "Incrementing = erhöhen / hochzählen "
   ]
  },
  {
   "cell_type": "code",
   "execution_count": 49,
   "id": "9772f07e-bc3d-4ae4-8aae-d197c4c4dbe7",
   "metadata": {},
   "outputs": [],
   "source": [
    "var2 = 42"
   ]
  },
  {
   "cell_type": "code",
   "execution_count": 50,
   "id": "28232244-83a3-49e6-a684-42bfcbb48f66",
   "metadata": {},
   "outputs": [
    {
     "data": {
      "text/plain": [
       "43"
      ]
     },
     "execution_count": 50,
     "metadata": {},
     "output_type": "execute_result"
    }
   ],
   "source": [
    "var2 + 1"
   ]
  },
  {
   "cell_type": "markdown",
   "id": "a6756738-4632-4b2e-a58a-6e643f58a07e",
   "metadata": {},
   "source": [
    "Lösung: Ja! \"Incrementing an integer is always safe\""
   ]
  },
  {
   "cell_type": "markdown",
   "id": "574a325b-dac3-47ef-889f-bdda38b8286b",
   "metadata": {
    "jp-MarkdownHeadingCollapsed": true
   },
   "source": [
    "## Aufgabe 29"
   ]
  },
  {
   "cell_type": "code",
   "execution_count": 89,
   "id": "b8d090d8-4d81-4b90-a9e3-6af02145aa92",
   "metadata": {},
   "outputs": [
    {
     "name": "stdout",
     "output_type": "stream",
     "text": [
      "('tuple index out of range',)\n"
     ]
    }
   ],
   "source": [
    "consts = (3.141592, 2.718282)\n",
    "try:\n",
    "    print(consts[2])\n",
    "except Exception as exception:\n",
    "    print(exception.args)\n",
    "else:\n",
    "    print('(\"success\")')"
   ]
  },
  {
   "cell_type": "markdown",
   "id": "b49a64fe-8d7d-46be-a6fe-42cb77ddc14a",
   "metadata": {},
   "source": [
    "Aber was genau macht dieses `exception.args`?"
   ]
  },
  {
   "cell_type": "markdown",
   "id": "21261729-8335-4a90-9fe0-ab38152c3f5f",
   "metadata": {},
   "source": [
    "exception.args?\n",
    "\n",
    "Siehe auch: [exception.args](ex_args.ipynb)"
   ]
  },
  {
   "cell_type": "markdown",
   "id": "04beed17-a83f-460c-b9ae-a417f3587542",
   "metadata": {
    "jp-MarkdownHeadingCollapsed": true
   },
   "source": [
    "## Aufgabe 30"
   ]
  },
  {
   "cell_type": "code",
   "execution_count": 72,
   "id": "a9b81b3e-e2c8-43d0-ba55-e03ac457307a",
   "metadata": {},
   "outputs": [
    {
     "name": "stdout",
     "output_type": "stream",
     "text": [
      "-2\n"
     ]
    }
   ],
   "source": [
    "def fun(x):\n",
    "    assert x >= 0\n",
    "    return x** 0.5\n",
    "\n",
    "def mid_level (x):\n",
    "    try:\n",
    "        fun(x)\n",
    "    except Error:\n",
    "        raise\n",
    "\n",
    "try:\n",
    "    x = mid_level(-1)\n",
    "except RuntimeError:\n",
    "    x = -1\n",
    "except:\n",
    "    x = -2\n",
    "print(x)"
   ]
  },
  {
   "cell_type": "markdown",
   "id": "0ea706d9-f2f1-4d9d-9b9e-90fa331ff460",
   "metadata": {},
   "source": [
    "Prüfungsfrage: Which of the following messages will appear on the screen when the code is run?"
   ]
  },
  {
   "cell_type": "markdown",
   "id": "69e4764b-4809-4757-b3a5-8dd62d87008e",
   "metadata": {},
   "source": [
    "1. -2\n",
    "2. Eine Fehlermeldung\n",
    "3. 0\n",
    "4. -1"
   ]
  },
  {
   "cell_type": "markdown",
   "id": "57769aa0-d69b-40ba-a5b0-19b59eb51d7e",
   "metadata": {
    "jp-MarkdownHeadingCollapsed": true
   },
   "source": [
    "## Lösung"
   ]
  },
  {
   "cell_type": "code",
   "execution_count": 71,
   "id": "c86034a6-fe2a-40c6-bb15-29807db40944",
   "metadata": {},
   "outputs": [
    {
     "name": "stdout",
     "output_type": "stream",
     "text": [
      "-2\n"
     ]
    }
   ],
   "source": [
    "def fun(x): # 3. fun setzt -1 in assert-Ausdruck ein\n",
    "    assert x >= 0 # 4. assert-Ausdruck evaluiert zu False --> Dies erzeugt einen AssertionError  \n",
    "    return x** 0.5\n",
    "\n",
    "def mid_level (x): # 2. mid_level übergibt das Argument \"-1\" an fun()\n",
    "    try:\n",
    "        fun(x) #5. AssertionError landet \n",
    "    except Error: # 6. Es gibt keine \"Error\"-Exception \n",
    "        raise     # 7. During handling of the above exception, another exception occurred: NameError\n",
    "\n",
    "try:\n",
    "    x = mid_level(-1) # 1. Code springt hoch zu mid_level und übergibt das Argument \"-1\"\n",
    "except RuntimeError: # 8. Die RuntimeError-Exception kann keinen NameError handeln, deshalb fällt der Fehler durch bis zur BaseException\n",
    "    x = -1\n",
    "except: # 9. Fängt fehler und setzt x auf -2\n",
    "    x = -2\n",
    "print(x) # 10. -2 wird geprintet "
   ]
  },
  {
   "cell_type": "code",
   "execution_count": 73,
   "id": "389a0a6d-291b-4e2c-ae4c-2397e86cb7ca",
   "metadata": {},
   "outputs": [
    {
     "ename": "NameError",
     "evalue": "name 'Error' is not defined",
     "output_type": "error",
     "traceback": [
      "\u001b[1;31m---------------------------------------------------------------------------\u001b[0m",
      "\u001b[1;31mAssertionError\u001b[0m                            Traceback (most recent call last)",
      "Cell \u001b[1;32mIn[73], line 7\u001b[0m, in \u001b[0;36mmid_level\u001b[1;34m(x)\u001b[0m\n\u001b[0;32m      6\u001b[0m \u001b[38;5;28;01mtry\u001b[39;00m:\n\u001b[1;32m----> 7\u001b[0m     \u001b[43mfun\u001b[49m\u001b[43m(\u001b[49m\u001b[43mx\u001b[49m\u001b[43m)\u001b[49m\n\u001b[0;32m      8\u001b[0m \u001b[38;5;28;01mexcept\u001b[39;00m Error:\n",
      "Cell \u001b[1;32mIn[73], line 2\u001b[0m, in \u001b[0;36mfun\u001b[1;34m(x)\u001b[0m\n\u001b[0;32m      1\u001b[0m \u001b[38;5;28;01mdef\u001b[39;00m \u001b[38;5;21mfun\u001b[39m(x):\n\u001b[1;32m----> 2\u001b[0m     \u001b[38;5;28;01massert\u001b[39;00m x \u001b[38;5;241m>\u001b[39m\u001b[38;5;241m=\u001b[39m \u001b[38;5;241m0\u001b[39m\n\u001b[0;32m      3\u001b[0m     \u001b[38;5;28;01mreturn\u001b[39;00m x\u001b[38;5;241m*\u001b[39m\u001b[38;5;241m*\u001b[39m \u001b[38;5;241m0.5\u001b[39m\n",
      "\u001b[1;31mAssertionError\u001b[0m: ",
      "\nDuring handling of the above exception, another exception occurred:\n",
      "\u001b[1;31mNameError\u001b[0m                                 Traceback (most recent call last)",
      "Cell \u001b[1;32mIn[73], line 12\u001b[0m\n\u001b[0;32m      9\u001b[0m         \u001b[38;5;28;01mraise\u001b[39;00m\n\u001b[0;32m     11\u001b[0m \u001b[38;5;28;01mtry\u001b[39;00m:\n\u001b[1;32m---> 12\u001b[0m     x \u001b[38;5;241m=\u001b[39m \u001b[43mmid_level\u001b[49m\u001b[43m(\u001b[49m\u001b[38;5;241;43m-\u001b[39;49m\u001b[38;5;241;43m1\u001b[39;49m\u001b[43m)\u001b[49m\n\u001b[0;32m     13\u001b[0m \u001b[38;5;28;01mexcept\u001b[39;00m \u001b[38;5;167;01mRuntimeError\u001b[39;00m:\n\u001b[0;32m     14\u001b[0m     x \u001b[38;5;241m=\u001b[39m \u001b[38;5;241m-\u001b[39m\u001b[38;5;241m1\u001b[39m\n",
      "Cell \u001b[1;32mIn[73], line 8\u001b[0m, in \u001b[0;36mmid_level\u001b[1;34m(x)\u001b[0m\n\u001b[0;32m      6\u001b[0m \u001b[38;5;28;01mtry\u001b[39;00m:\n\u001b[0;32m      7\u001b[0m     fun(x)\n\u001b[1;32m----> 8\u001b[0m \u001b[38;5;28;01mexcept\u001b[39;00m \u001b[43mError\u001b[49m:\n\u001b[0;32m      9\u001b[0m     \u001b[38;5;28;01mraise\u001b[39;00m\n",
      "\u001b[1;31mNameError\u001b[0m: name 'Error' is not defined"
     ]
    }
   ],
   "source": [
    "def fun(x):\n",
    "    assert x >= 0\n",
    "    return x** 0.5\n",
    "\n",
    "def mid_level (x):\n",
    "    try:\n",
    "        fun(x)\n",
    "    except Error:\n",
    "        raise\n",
    "\n",
    "try:\n",
    "    x = mid_level(-1)\n",
    "except RuntimeError:\n",
    "    x = -1\n",
    "# except: # Damit man sieht welcher Fehler ankommt\n",
    "    x = -2\n",
    "print(x)"
   ]
  },
  {
   "cell_type": "markdown",
   "id": "fa922194-eafa-48e8-81e4-d8b9d878f18a",
   "metadata": {
    "jp-MarkdownHeadingCollapsed": true
   },
   "source": [
    "## Aufgabe 31"
   ]
  },
  {
   "cell_type": "markdown",
   "id": "4ea8dea3-ef19-4fb9-bf85-3ddd6b26eace",
   "metadata": {},
   "source": [
    "Prüfungsfrage: Which of the following messages will appear on the screen when the code is run?"
   ]
  },
  {
   "cell_type": "code",
   "execution_count": 64,
   "id": "f91ec3ed-e9b6-43ea-8c46-035f828390bf",
   "metadata": {},
   "outputs": [
    {
     "name": "stdout",
     "output_type": "stream",
     "text": [
      "action\n",
      "problem\n"
     ]
    }
   ],
   "source": [
    "class Accident(Exception):\n",
    "    def __init__(self, message):\n",
    "        self.message = message\n",
    "\n",
    "    def __str__(self):\n",
    "        return \"problem\"\n",
    "\n",
    "try:\n",
    "    print(\"action\")\n",
    "    raise Accident(\"accident\")\n",
    "except Accident as accident:\n",
    "    print(accident)\n",
    "else:\n",
    "    print(\"success\")"
   ]
  },
  {
   "cell_type": "markdown",
   "id": "4ca161c2-334e-4493-9aaa-7b40f80e7c13",
   "metadata": {},
   "source": [
    "1. action\n",
    "2. accident\n",
    "3. success\n",
    "4. problem"
   ]
  },
  {
   "cell_type": "markdown",
   "id": "f8aded57-2d69-4d26-aeea-b6d5373289d6",
   "metadata": {
    "jp-MarkdownHeadingCollapsed": true
   },
   "source": [
    "### Lösung:"
   ]
  },
  {
   "cell_type": "markdown",
   "id": "ffa6182e-4a22-4297-a7ba-9e1460db0453",
   "metadata": {},
   "source": [
    "WTF?!"
   ]
  },
  {
   "cell_type": "code",
   "execution_count": 68,
   "id": "4ee42cdf-0dc4-4982-b0e2-aeae86df454c",
   "metadata": {},
   "outputs": [
    {
     "name": "stdout",
     "output_type": "stream",
     "text": [
      "action\n",
      "problem\n"
     ]
    }
   ],
   "source": [
    "class Accident(Exception): # Ist zwar eine Subklasse von Exception, aber hat eine eigene __init__ ohne super() oder ähnliches \n",
    "    def __init__(self, message): # Das einzige was dieser Code macht ist einen Fehler mit der Nachricht \"accident\" zu raisen \n",
    "        self.message = message # Instanzvariable\n",
    "\n",
    "    def __str__(self):   # Der print-Aufruf für die gespeicherte Nachricht \"accident\" kommt, ABER!!!\n",
    "        return \"problem\" # Die __str__-Methode der Superklasse wurde mit \"problem\" überschrieben und druckt NUR NOCH \"problem\".\n",
    "                         # Da diese neue __str__-Methode in der Klasse Accident steht, gilt sie auch nur für print-Befehle die von Accident kommen...\n",
    "\n",
    "try:\n",
    "    print(\"action\") # Der Code hier gehört nicht zur Klasse Accident und wird normal gedruckt\n",
    "    raise Accident(\"accident\") # springt zur Accidentklasse hoch und übergibt das Argument \"accident\"\n",
    "except Accident as accident: # Der Error der Accidentklasse kommt hier an und wird von der Exception der selben Klasse gefangen.\n",
    "    print(accident) # Die message \"accident\" wird dabei gefangen und dann geprintet\n",
    "else:\n",
    "    print(\"success\")"
   ]
  },
  {
   "cell_type": "markdown",
   "id": "6c63f382-da43-46e9-a96c-39ee8cd8bb3a",
   "metadata": {},
   "source": [
    "1. Die Klasse Accident erbt von Exception.\n",
    "2. Der `__init__`-Konstruktor initialisiert die Instanzvariable message.\n",
    "3. Die `__str__`-Methode wird überschrieben, um \"problem\" zurückzugeben.\n",
    "4. Im try-Block wird \"action\" gedruckt.\n",
    "5. Die raise Accident(\"accident\")-Anweisung erzeugt eine Ausnahme vom Typ Accident.\n",
    "6. Im except-Block wird die Ausnahme abgefangen und die Variable accident darauf gesetzt.\n",
    "7. Der print(accident)-Befehl ruft die `__str__`-Methode der Accident-Instanz auf, was \"problem\" zurückgibt und druckt."
   ]
  },
  {
   "cell_type": "markdown",
   "id": "4c1f60f0-12a4-48f2-afac-3ea574a6d51d",
   "metadata": {},
   "source": [
    "Der Code gibt \"problem\" aus, weil die `__str__`-Methode der Accident-Klasse überschrieben wurde und den String \"problem\" zurückgibt. Wenn ein Objekt der Klasse Accident in einem print-Befehl oder in einer String-Konvertierung verwendet wird, wird die `__str__`-Methode aufgerufen."
   ]
  },
  {
   "cell_type": "markdown",
   "id": "2ce7a434-9d63-45a1-87f4-2235f25db9e7",
   "metadata": {},
   "source": [
    "[Erklärung Pythontutor](https://pythontutor.com/render.html#code=class%20Accident%28Exception%29%3A%0A%20%20%20%20def%20__init__%28self,%20message%29%3A%0A%20%20%20%20%20%20%20%20self.message%20%3D%20message%0A%0A%20%20%20%20def%20__str__%28self%29%3A%0A%20%20%20%20%20%20%20%20return%20%22problem%22%0A%0Atry%3A%0A%20%20%20%20print%28%22action%22%29%0A%20%20%20%20raise%20Accident%28%22accident%22%29%0Aexcept%20Accident%20as%20accident%3A%0A%20%20%20%20print%28accident%29%0Aelse%3A%0A%20%20%20%20print%28%22success%22%29&cumulative=false&curInstr=0&heapPrimitives=nevernest&mode=display&origin=opt-frontend.js&py=3&rawInputLstJSON=%5B%5D&textReferences=false)"
   ]
  },
  {
   "cell_type": "markdown",
   "id": "f7ff37e6-7f1c-488c-a43a-7232339b51a5",
   "metadata": {
    "jp-MarkdownHeadingCollapsed": true
   },
   "source": [
    "## Aufgabe 32"
   ]
  },
  {
   "cell_type": "markdown",
   "id": "f1f87a8b-9784-4c37-a9cf-27687195b959",
   "metadata": {},
   "source": [
    "Prüfungsfrage: Which of the following messages will appear on the screen when the code is run?"
   ]
  },
  {
   "cell_type": "code",
   "execution_count": 85,
   "id": "00fd2756-8486-4813-be24-ffcad8b050e9",
   "metadata": {},
   "outputs": [
    {
     "name": "stdout",
     "output_type": "stream",
     "text": [
      "launch\n",
      "ignore\n"
     ]
    }
   ],
   "source": [
    "# Code:\n",
    "class Failure(IndexError):\n",
    "    def __init__(self, message):\n",
    "        self.message = message\n",
    "\n",
    "    def __str__(self):\n",
    "        return \"problem\"\n",
    "\n",
    "try:\n",
    "    print(\"launch\")\n",
    "    raise Failure(\"ignition\")\n",
    "except RuntimeError as error1:\n",
    "    print(error)\n",
    "except IndexError as error2:\n",
    "    print(\"ignore\")\n",
    "else:\n",
    "    print(\"landing\")"
   ]
  },
  {
   "cell_type": "markdown",
   "id": "3c4ab6d1-7227-4f4f-b1ee-81667be466ca",
   "metadata": {},
   "source": [
    "1. ignore \n",
    "2. ignition --> Hab ich genommen\n",
    "3. problem --> Hab ich genommen\n",
    "4. launch"
   ]
  },
  {
   "cell_type": "markdown",
   "id": "21a504c8-b3ba-4f47-87df-06b799e3b6fa",
   "metadata": {},
   "source": [
    "Warum war das genau falsch?"
   ]
  },
  {
   "cell_type": "markdown",
   "id": "28833d1c-b341-4206-96da-a2076b8af715",
   "metadata": {
    "jp-MarkdownHeadingCollapsed": true
   },
   "source": [
    "### Lösung:"
   ]
  },
  {
   "cell_type": "code",
   "execution_count": 62,
   "id": "bc6932f8-0332-47e0-98a3-63dc23371a00",
   "metadata": {},
   "outputs": [
    {
     "name": "stdout",
     "output_type": "stream",
     "text": [
      "launch\n",
      "ignore\n"
     ]
    }
   ],
   "source": [
    "# Code:\n",
    "class Failure(IndexError): # Ist zwar eine Subklasse von IndexError, aber hat eine eigene __init__ ohne super() oder ähnliches \n",
    "    def __init__(self, message): # Das einzige was dieser Code macht ist einen Fehler mit der Nachricht \"ignition\" zu raisen \n",
    "        self.message = message\n",
    "\n",
    "    def __str__(self):\n",
    "        return \"problem\"\n",
    "\n",
    "try:\n",
    "    print(\"launch\") # Der Code hier ist so simple, dass gar kein Fehler passieren kann. \"launch\" wird auf jeden Fall gedruckt.\n",
    "    raise Failure(\"ignition\") # springt zu Failure hoch und übergibt das Argument \"ignition\"\n",
    "except RuntimeError as error1: # Der Error der Failure Klasse (Subklasse von IndexError!!!) kommt hier an, wird aber NICHT von RuntimeError\n",
    "    print(error)\n",
    "except IndexError as error2: # Sondern von IndexError gestoppt. (Weil SUBKLASSE von IndexError)\n",
    "    print(\"ignore\")          # print \"ignore\"\n",
    "else:\n",
    "    print(\"landing\")"
   ]
  },
  {
   "cell_type": "code",
   "execution_count": 60,
   "id": "846cf7f5-7f88-4102-a942-b383e8ca0ff3",
   "metadata": {},
   "outputs": [
    {
     "ename": "Failure",
     "evalue": "ignition",
     "output_type": "error",
     "traceback": [
      "\u001b[1;31m---------------------------------------------------------------------------\u001b[0m",
      "\u001b[1;31mFailure\u001b[0m                                   Traceback (most recent call last)",
      "Cell \u001b[1;32mIn[60], line 5\u001b[0m\n\u001b[0;32m      2\u001b[0m     \u001b[38;5;28;01mdef\u001b[39;00m \u001b[38;5;21m__init__\u001b[39m(\u001b[38;5;28mself\u001b[39m, message): \n\u001b[0;32m      3\u001b[0m         \u001b[38;5;28mself\u001b[39m\u001b[38;5;241m.\u001b[39mmessage \u001b[38;5;241m=\u001b[39m message\n\u001b[1;32m----> 5\u001b[0m \u001b[38;5;28;01mraise\u001b[39;00m Failure(\u001b[38;5;124m\"\u001b[39m\u001b[38;5;124mignition\u001b[39m\u001b[38;5;124m\"\u001b[39m)\n",
      "\u001b[1;31mFailure\u001b[0m: ignition"
     ]
    }
   ],
   "source": [
    "class Failure(IndexError): # Ist zwar eine Subklasse von IndexError, aber hat eine eigene __init__ ohne super() oder ähnliches \n",
    "    def __init__(self, message): \n",
    "        self.message = message\n",
    "\n",
    "raise Failure(\"ignition\")"
   ]
  },
  {
   "cell_type": "markdown",
   "id": "59ab31bb-6fd4-4391-8566-49ffeb85c2fa",
   "metadata": {
    "jp-MarkdownHeadingCollapsed": true
   },
   "source": [
    "## Aufgabe 33"
   ]
  },
  {
   "cell_type": "code",
   "execution_count": null,
   "id": "81756090-eb1a-4a40-b5fe-b25c49c5f1c1",
   "metadata": {},
   "outputs": [],
   "source": [
    "class Exception(BaseException):\n",
    "    def __init__(self,*args):\n",
    "        print(\"Exception init läuft\")\n",
    "        self.args = args\n",
    " \n",
    " \n",
    "class PizzaError(Exception):\n",
    "    def __init__(self, pizza, message):\n",
    "        Exception.__init__(self, message)\n",
    "        print(\"====\")\n",
    "        super().__init__(message)\n",
    "        self.pizza = pizza\n",
    " \n",
    " \n",
    "print(PizzaError(\"Margarita\", \"Du\"))\n",
    "\n",
    "hat Kontextmenü"
   ]
  },
  {
   "cell_type": "markdown",
   "id": "0718ffa6-7a96-4fdb-b844-23067fdd462b",
   "metadata": {},
   "source": [
    "[python](https://pythontutor.com/render.html#code=class%20Exception%28BaseException%29%3A%0A%20%20%20%20%0A%20%20%20%20def%20__init__%28self,*args%29%3A%0A%20%20%20%20%20%20%20%20print%28%22Exception%20init%20l%C3%A4uft%22%29%0A%20%20%20%20%20%20%20%20self.args%20%3D%20args%0A%0A%0Aclass%20PizzaError%28Exception%29%3A%0A%20%20%20%20def%20__init__%28self,%20pizza,%20message%29%3A%0A%20%20%20%20%20%20%20%20Exception.__init__%28self,%20message%29%0A%20%20%20%20%20%20%20%20print%28%22%3D%3D%3D%3D%22%29%0A%20%20%20%20%20%20%20%20super%28%29.__init__%28message%29%0A%20%20%20%20%20%20%20%20self.pizza%20%3D%20pizza%0A%0A%0Aprint%28PizzaError%28%22Margarita%22,%20%22Du%22%29%29&cumulative=false&curInstr=11&heapPrimitives=nevernest&mode=display&origin=opt-frontend.js&py=311&rawInputLstJSON=%5B%5D&textReferences=false)"
   ]
  },
  {
   "cell_type": "markdown",
   "id": "70256b14-f896-4a3e-8b05-233a759871af",
   "metadata": {},
   "source": [
    "[py](https://pythontutor.com/render.html#code=class%20A%3A%20%0A%20%20%20%20%0A%20%20%20%20%0A%20%20%20%20def%20f%28self,a,b%29%3A%0A%20%20%20%20%20%20%20%20print%28%20a,b%29%0A%0A%0Aclass%20B%28A%29%3A%20%0A%20%20%20%20%0A%20%20%20%20def%20f%28self,a,b,c%29%3A%0A%20%20%20%20%20%20%20%20super%28%29.f%28a%2B100,b%2B100%29%0A%20%20%20%20%20%20%20%20aktuelle_instanz%20%3D%20self%0A%20%20%20%20%20%20%20%20A.f%28aktuelle_instanz,%20a%2B200,b%2B200%29%0A%20%20%20%20%20%20%20%20print%28c,%20%22ist%20auf%20toll%22%29%0A%20%20%20%20%20%20%20%20%0A%20%20%20%20%0Ainst%20%3D%20A%28%29%0Ab_inst%20%3D%20B%28%29%0A%0Ab_inst.f%281,2,3%29%0A%0Ainst.name%20%3D%20%22Anna%22%0Ainst.f%2840,2%29%0A%0AA.f%28inst,%2040,2%29%0A%0AA.f%28A%28%29,%2040,2%29&cumulative=false&curInstr=15&heapPrimitives=nevernest&mode=display&origin=opt-frontend.js&py=311&rawInputLstJSON=%5B%5D&textReferences=false)"
   ]
  },
  {
   "cell_type": "markdown",
   "id": "1e0126eb-3e53-48f5-b1da-2b90baf05d09",
   "metadata": {
    "jp-MarkdownHeadingCollapsed": true
   },
   "source": [
    "## Kais ÜberAufgaben"
   ]
  },
  {
   "cell_type": "code",
   "execution_count": 81,
   "id": "630dad74-7991-48e6-af49-1962ab8cd85d",
   "metadata": {},
   "outputs": [
    {
     "name": "stdout",
     "output_type": "stream",
     "text": [
      "Erster Level Try Block\n",
      "Zweiter Level Try Block\n",
      "Dritter Level Try Block\n",
      "Vierter Level Try Block\n",
      "Fünfter Level Try Block\n",
      "Fünfter Level Exception gefangen: division by zero\n",
      "Vierter Level Exception gefangen: division by zero\n",
      "Dritter Level Exception gefangen: division by zero\n",
      "Zweiter Level Exception gefangen: division by zero\n",
      "Erster Level Exception gefangen: division by zero\n"
     ]
    }
   ],
   "source": [
    "try:\n",
    "    print(\"Erster Level Try Block\")\n",
    "    try:\n",
    "        print(\"Zweiter Level Try Block\")\n",
    "        try:\n",
    "            print(\"Dritter Level Try Block\")\n",
    "            try:\n",
    "                print(\"Vierter Level Try Block\")\n",
    "                try:\n",
    "                    print(\"Fünfter Level Try Block\")\n",
    "                    x = 1 / 0  # Löst ZeroDivisionError aus\n",
    "                except ZeroDivisionError as e:\n",
    "                    print(f\"Fünfter Level Exception gefangen: {e}\")\n",
    "                    raise  # Erneut werfen, um in die äußeren Blöcke zu gelangen\n",
    "            except ValueError as e:\n",
    "                print(f\"Vierter Level Exception gefangen: {e}\")\n",
    "            except ZeroDivisionError as e:\n",
    "                print(f\"Vierter Level Exception gefangen: {e}\")\n",
    "                raise\n",
    "        except IndexError as e:\n",
    "            print(f\"Dritter Level Exception gefangen: {e}\")\n",
    "        except ZeroDivisionError as e:\n",
    "            print(f\"Dritter Level Exception gefangen: {e}\")\n",
    "            raise\n",
    "    except KeyError as e:\n",
    "        print(f\"Zweiter Level Exception gefangen: {e}\")\n",
    "    except ZeroDivisionError as e:\n",
    "        print(f\"Zweiter Level Exception gefangen: {e}\")\n",
    "        raise\n",
    "except ImportError as e:\n",
    "    print(f\"Erster Level Exception gefangen: {e}\")\n",
    "except ZeroDivisionError as e:\n",
    "    print(f\"Erster Level Exception gefangen: {e}\")"
   ]
  },
  {
   "cell_type": "markdown",
   "id": "0cae28ae-21a3-4199-8afa-b4ae5c0f1a27",
   "metadata": {
    "jp-MarkdownHeadingCollapsed": true
   },
   "source": [
    "### Und diesen Code nicht anschauen:"
   ]
  },
  {
   "cell_type": "code",
   "execution_count": 1,
   "id": "78377291-12cb-4f4b-9327-fadbea806c7a",
   "metadata": {},
   "outputs": [
    {
     "name": "stdout",
     "output_type": "stream",
     "text": [
      "BaseException\n",
      "   +---BaseExceptionGroup\n",
      "   |   +---ExceptionGroup\n",
      "   +---Exception\n",
      "   |   +---ArithmeticError\n",
      "   |   |   +---FloatingPointError\n",
      "   |   |   +---OverflowError\n",
      "   |   |   +---ZeroDivisionError\n",
      "   |   |   |   +---DivisionByZero\n",
      "   |   |   |   +---DivisionUndefined\n",
      "   |   |   +---DecimalException\n",
      "   |   |   |   +---Clamped\n",
      "   |   |   |   +---Rounded\n",
      "   |   |   |   |   +---Underflow\n",
      "   |   |   |   |   +---Overflow\n",
      "   |   |   |   +---Inexact\n",
      "   |   |   |   |   +---Underflow\n",
      "   |   |   |   |   +---Overflow\n",
      "   |   |   |   +---Subnormal\n",
      "   |   |   |   |   +---Underflow\n",
      "   |   |   |   +---DivisionByZero\n",
      "   |   |   |   +---FloatOperation\n",
      "   |   |   |   +---InvalidOperation\n",
      "   |   |   |   |   +---ConversionSyntax\n",
      "   |   |   |   |   +---DivisionImpossible\n",
      "   |   |   |   |   +---DivisionUndefined\n",
      "   |   |   |   |   +---InvalidContext\n",
      "   |   +---AssertionError\n",
      "   |   +---AttributeError\n",
      "   |   |   +---FrozenInstanceError\n",
      "   |   +---BufferError\n",
      "   |   +---EOFError\n",
      "   |   |   +---IncompleteReadError\n",
      "   |   +---ImportError\n",
      "   |   |   +---ModuleNotFoundError\n",
      "   |   |   |   +---PackageNotFoundError\n",
      "   |   |   +---ZipImportError\n",
      "   |   +---LookupError\n",
      "   |   |   +---IndexError\n",
      "   |   |   +---KeyError\n",
      "   |   |   |   +---NoSuchKernel\n",
      "   |   |   |   +---UnknownBackend\n",
      "   |   |   +---CodecRegistryError\n",
      "   |   +---MemoryError\n",
      "   |   +---NameError\n",
      "   |   |   +---UnboundLocalError\n",
      "   |   +---OSError\n",
      "   |   |   +---BlockingIOError\n",
      "   |   |   +---ChildProcessError\n",
      "   |   |   +---ConnectionError\n",
      "   |   |   |   +---BrokenPipeError\n",
      "   |   |   |   +---ConnectionAbortedError\n",
      "   |   |   |   +---ConnectionRefusedError\n",
      "   |   |   |   +---ConnectionResetError\n",
      "   |   |   |   |   +---RemoteDisconnected\n",
      "   |   |   +---FileExistsError\n",
      "   |   |   +---FileNotFoundError\n",
      "   |   |   +---InterruptedError\n",
      "   |   |   |   +---InterruptedSystemCall\n",
      "   |   |   +---IsADirectoryError\n",
      "   |   |   +---NotADirectoryError\n",
      "   |   |   +---PermissionError\n",
      "   |   |   +---ProcessLookupError\n",
      "   |   |   +---TimeoutError\n",
      "   |   |   +---UnsupportedOperation\n",
      "   |   |   +---herror\n",
      "   |   |   +---gaierror\n",
      "   |   |   +---SSLError\n",
      "   |   |   |   +---SSLCertVerificationError\n",
      "   |   |   |   +---SSLZeroReturnError\n",
      "   |   |   |   +---SSLWantWriteError\n",
      "   |   |   |   +---SSLWantReadError\n",
      "   |   |   |   +---SSLSyscallError\n",
      "   |   |   |   +---SSLEOFError\n",
      "   |   |   +---Error\n",
      "   |   |   |   +---SameFileError\n",
      "   |   |   +---SpecialFileError\n",
      "   |   |   +---ExecError\n",
      "   |   |   +---ReadError\n",
      "   |   |   +---URLError\n",
      "   |   |   |   +---HTTPError\n",
      "   |   |   |   +---ContentTooShortError\n",
      "   |   |   +---BadGzipFile\n",
      "   |   +---ReferenceError\n",
      "   |   +---RuntimeError\n",
      "   |   |   +---NotImplementedError\n",
      "   |   |   |   +---ZMQVersionError\n",
      "   |   |   |   +---StdinNotImplementedError\n",
      "   |   |   +---RecursionError\n",
      "   |   |   +---_DeadlockError\n",
      "   |   |   +---BrokenBarrierError\n",
      "   |   |   +---BrokenExecutor\n",
      "   |   |   |   +---BrokenThreadPool\n",
      "   |   |   +---SendfileNotAvailableError\n",
      "   |   |   +---BrokenBarrierError\n",
      "   |   |   +---VariableError\n",
      "   |   +---StopAsyncIteration\n",
      "   |   +---StopIteration\n",
      "   |   +---SyntaxError\n",
      "   |   |   +---IndentationError\n",
      "   |   |   |   +---TabError\n",
      "   |   +---SystemError\n",
      "   |   |   +---CodecRegistryError\n",
      "   |   +---TypeError\n",
      "   |   |   +---FloatOperation\n",
      "   |   |   +---MultipartConversionError\n",
      "   |   +---ValueError\n",
      "   |   |   +---UnicodeError\n",
      "   |   |   |   +---UnicodeDecodeError\n",
      "   |   |   |   +---UnicodeEncodeError\n",
      "   |   |   |   +---UnicodeTranslateError\n",
      "   |   |   +---UnsupportedOperation\n",
      "   |   |   +---AddressValueError\n",
      "   |   |   +---NetmaskValueError\n",
      "   |   |   +---JSONDecodeError\n",
      "   |   |   +---SSLCertVerificationError\n",
      "   |   |   +---Error\n",
      "   |   |   +---UnsupportedDigestmodError\n",
      "   |   |   +---IllegalMonthError\n",
      "   |   |   +---IllegalWeekdayError\n",
      "   |   |   +---ParserError\n",
      "   |   |   +---MessageDefect\n",
      "   |   |   |   +---NoBoundaryInMultipartDefect\n",
      "   |   |   |   +---StartBoundaryNotFoundDefect\n",
      "   |   |   |   +---CloseBoundaryNotFoundDefect\n",
      "   |   |   |   +---FirstHeaderLineIsContinuationDefect\n",
      "   |   |   |   +---MisplacedEnvelopeHeaderDefect\n",
      "   |   |   |   +---MissingHeaderBodySeparatorDefect\n",
      "   |   |   |   +---MultipartInvariantViolationDefect\n",
      "   |   |   |   +---InvalidMultipartContentTransferEncodingDefect\n",
      "   |   |   |   +---UndecodableBytesDefect\n",
      "   |   |   |   +---InvalidBase64PaddingDefect\n",
      "   |   |   |   +---InvalidBase64CharactersDefect\n",
      "   |   |   |   +---InvalidBase64LengthDefect\n",
      "   |   |   |   +---HeaderDefect\n",
      "   |   |   |   |   +---InvalidHeaderDefect\n",
      "   |   |   |   |   +---HeaderMissingRequiredValue\n",
      "   |   |   |   |   +---NonPrintableDefect\n",
      "   |   |   |   |   +---ObsoleteHeaderDefect\n",
      "   |   |   |   |   +---NonASCIILocalPartDefect\n",
      "   |   |   |   |   +---InvalidDateDefect\n",
      "   |   |   +---ClassNotFound\n",
      "   |   |   +---ClipboardEmpty\n",
      "   |   |   +---MacroToEdit\n",
      "   |   |   +---InvalidVersion\n",
      "   |   +---Warning\n",
      "   |   |   +---BytesWarning\n",
      "   |   |   +---DeprecationWarning\n",
      "   |   |   |   +---ProvisionalWarning\n",
      "   |   |   +---EncodingWarning\n",
      "   |   |   +---FutureWarning\n",
      "   |   |   |   +---ProvisionalCompleterWarning\n",
      "   |   |   +---ImportWarning\n",
      "   |   |   +---PendingDeprecationWarning\n",
      "   |   |   +---ResourceWarning\n",
      "   |   |   +---RuntimeWarning\n",
      "   |   |   |   +---ProactorSelectorThreadWarning\n",
      "   |   |   |   +---UnknownTimezoneWarning\n",
      "   |   |   +---SyntaxWarning\n",
      "   |   |   +---UnicodeWarning\n",
      "   |   |   +---UserWarning\n",
      "   |   |   |   +---GetPassWarning\n",
      "   |   |   |   +---FormatterWarning\n",
      "   |   |   +---DeprecatedTzFormatWarning\n",
      "   |   +---ExceptionGroup\n",
      "   |   +---_OptionError\n",
      "   |   +---_Error\n",
      "   |   +---error\n",
      "   |   +---Error\n",
      "   |   +---SubprocessError\n",
      "   |   |   +---CalledProcessError\n",
      "   |   |   +---TimeoutExpired\n",
      "   |   +---ZMQBaseError\n",
      "   |   |   +---ZMQError\n",
      "   |   |   |   +---ContextTerminated\n",
      "   |   |   |   +---Again\n",
      "   |   |   |   +---InterruptedSystemCall\n",
      "   |   |   +---ZMQBindError\n",
      "   |   |   +---NotDone\n",
      "   |   +---error\n",
      "   |   +---PickleError\n",
      "   |   |   +---PicklingError\n",
      "   |   |   +---UnpicklingError\n",
      "   |   +---_Stop\n",
      "   |   +---TokenError\n",
      "   |   +---StopTokenizing\n",
      "   |   +---Error\n",
      "   |   |   +---CancelledError\n",
      "   |   |   +---InvalidStateError\n",
      "   |   +---_GiveupOnSendfile\n",
      "   |   +---Incomplete\n",
      "   |   +---ClassFoundException\n",
      "   |   +---EndOfBlock\n",
      "   |   +---InvalidStateError\n",
      "   |   +---LimitOverrunError\n",
      "   |   +---QueueEmpty\n",
      "   |   +---QueueFull\n",
      "   |   +---error\n",
      "   |   +---LZMAError\n",
      "   |   +---RegistryError\n",
      "   |   +---_GiveupOnFastCopy\n",
      "   |   +---TraitError\n",
      "   |   +---Error\n",
      "   |   +---Empty\n",
      "   |   +---Full\n",
      "   |   +---ArgumentError\n",
      "   |   +---COMError\n",
      "   |   +---ReturnValueIgnoredError\n",
      "   |   +---ArgumentError\n",
      "   |   +---ArgumentTypeError\n",
      "   |   +---ConfigError\n",
      "   |   |   +---ConfigLoaderError\n",
      "   |   |   |   +---ArgumentError\n",
      "   |   |   +---ConfigFileNotFound\n",
      "   |   +---ConfigurableError\n",
      "   |   |   +---MultipleInstanceError\n",
      "   |   +---ApplicationError\n",
      "   |   +---InvalidPortNumber\n",
      "   |   +---NoIPAddresses\n",
      "   |   +---Error\n",
      "   |   +---BadZipFile\n",
      "   |   +---LargeZipFile\n",
      "   |   +---MessageError\n",
      "   |   |   +---MessageParseError\n",
      "   |   |   |   +---HeaderParseError\n",
      "   |   |   |   +---BoundaryError\n",
      "   |   |   +---MultipartConversionError\n",
      "   |   |   +---CharsetError\n",
      "   |   +---TraversalError\n",
      "   |   +---DuplicateKernelError\n",
      "   |   +---ErrorDuringImport\n",
      "   |   +---NotOneValueFound\n",
      "   |   +---KnownIssue\n",
      "   |   +---VerifierFailure\n",
      "   |   +---CannotEval\n",
      "   |   +---OptionError\n",
      "   |   +---BdbQuit\n",
      "   |   +---Restart\n",
      "   |   +---FindCmdError\n",
      "   |   +---HomeDirError\n",
      "   |   +---ProfileDirError\n",
      "   |   +---IPythonCoreError\n",
      "   |   |   +---TryNext\n",
      "   |   |   +---UsageError\n",
      "   |   |   +---StdinNotImplementedError\n",
      "   |   +---InputRejected\n",
      "   |   +---GetoptError\n",
      "   |   +---ErrorToken\n",
      "   |   +---PrefilterError\n",
      "   |   +---AliasError\n",
      "   |   |   +---InvalidAliasError\n",
      "   |   +---Error\n",
      "   |   |   +---InterfaceError\n",
      "   |   |   +---DatabaseError\n",
      "   |   |   |   +---InternalError\n",
      "   |   |   |   +---OperationalError\n",
      "   |   |   |   +---ProgrammingError\n",
      "   |   |   |   +---IntegrityError\n",
      "   |   |   |   +---DataError\n",
      "   |   |   |   +---NotSupportedError\n",
      "   |   +---Warning\n",
      "   |   +---SpaceInInput\n",
      "   |   +---DOMException\n",
      "   |   |   +---IndexSizeErr\n",
      "   |   |   +---DomstringSizeErr\n",
      "   |   |   +---HierarchyRequestErr\n",
      "   |   |   +---WrongDocumentErr\n",
      "   |   |   +---InvalidCharacterErr\n",
      "   |   |   +---NoDataAllowedErr\n",
      "   |   |   +---NoModificationAllowedErr\n",
      "   |   |   +---NotFoundErr\n",
      "   |   |   +---NotSupportedErr\n",
      "   |   |   +---InuseAttributeErr\n",
      "   |   |   +---InvalidStateErr\n",
      "   |   |   +---SyntaxErr\n",
      "   |   |   +---InvalidModificationErr\n",
      "   |   |   +---NamespaceErr\n",
      "   |   |   +---InvalidAccessErr\n",
      "   |   |   +---ValidationErr\n",
      "   |   +---ValidationError\n",
      "   |   +---EditReadOnlyBuffer\n",
      "   |   +---_Retry\n",
      "   |   +---InvalidLayoutError\n",
      "   |   +---HeightIsUnknownError\n",
      "   |   +---GuardRejection\n",
      "   |   +---ParserSyntaxError\n",
      "   |   +---InternalParseError\n",
      "   |   +---_PositionUpdatingFinished\n",
      "   |   +---SimpleGetItemNotFound\n",
      "   |   +---UncaughtAttributeError\n",
      "   |   +---HasNoContext\n",
      "   |   +---ParamIssue\n",
      "   |   +---_JediError\n",
      "   |   |   +---InternalError\n",
      "   |   |   +---WrongVersion\n",
      "   |   |   +---RefactoringError\n",
      "   |   +---OnErrorLeaf\n",
      "   |   +---InvalidPythonEnvironment\n",
      "   |   +---HTTPException\n",
      "   |   |   +---NotConnected\n",
      "   |   |   +---InvalidURL\n",
      "   |   |   +---UnknownProtocol\n",
      "   |   |   +---UnknownTransferEncoding\n",
      "   |   |   +---UnimplementedFileMode\n",
      "   |   |   +---IncompleteRead\n",
      "   |   |   +---ImproperConnectionState\n",
      "   |   |   |   +---CannotSendRequest\n",
      "   |   |   |   +---CannotSendHeader\n",
      "   |   |   |   +---ResponseNotReady\n",
      "   |   |   +---BadStatusLine\n",
      "   |   |   |   +---RemoteDisconnected\n",
      "   |   |   +---LineTooLong\n",
      "   |   +---InteractivelyDefined\n",
      "   |   +---KillEmbedded\n",
      "   |   +---Error\n",
      "   |   |   +---NoSuchProcess\n",
      "   |   |   |   +---ZombieProcess\n",
      "   |   |   +---AccessDenied\n",
      "   |   |   +---TimeoutExpired\n",
      "   |   +---Error\n",
      "   |   +---TimeoutExpired\n",
      "   |   +---TimeoutAbandoned\n",
      "   |   +---KeyReuseError\n",
      "   |   +---UnknownKeyError\n",
      "   |   +---LeakedCallbackError\n",
      "   |   +---BadYieldError\n",
      "   |   +---ReturnValueIgnoredError\n",
      "   |   +---Return\n",
      "   |   +---QueueEmpty\n",
      "   |   +---QueueFull\n",
      "   |   +---DebuggerInitializationError\n",
      "   |   +---ExpatError\n",
      "   |   +---Error\n",
      "   |   |   +---ProtocolError\n",
      "   |   |   +---ResponseError\n",
      "   |   |   +---Fault\n",
      "   |   +---_Error\n",
      "   |   +---UnableToResolveVariableException\n",
      "   |   +---InvalidTypeInArgsException\n",
      "   +---GeneratorExit\n",
      "   +---KeyboardInterrupt\n",
      "   +---SystemExit\n",
      "   +---CancelledError\n"
     ]
    }
   ],
   "source": [
    "def print_exception_tree(thisclass, nest = 0):\n",
    "    if nest > 1:\n",
    "        print(\"   |\" * (nest - 1), end=\"\")\n",
    "    if nest > 0:\n",
    "        print(\"   +---\", end=\"\")\n",
    " \n",
    "    print(thisclass.__name__)\n",
    " \n",
    "    for subclass in thisclass.__subclasses__():\n",
    "        print_exception_tree(subclass, nest + 1)\n",
    " \n",
    " \n",
    "print_exception_tree(BaseException)"
   ]
  },
  {
   "cell_type": "code",
   "execution_count": null,
   "id": "20201a25-e0da-40bd-80fb-48c91930aa8c",
   "metadata": {},
   "outputs": [],
   "source": []
  },
  {
   "cell_type": "code",
   "execution_count": null,
   "id": "9caddb37-8b38-4d79-9904-d81223568af8",
   "metadata": {},
   "outputs": [],
   "source": []
  },
  {
   "cell_type": "markdown",
   "id": "712a4d8a-2258-4f20-bee5-0a5cb3735e16",
   "metadata": {
    "jp-MarkdownHeadingCollapsed": true
   },
   "source": [
    "# Übungsaufgaben von ChatGPT zu Exceptions"
   ]
  },
  {
   "cell_type": "markdown",
   "id": "fd014a2b-cb48-4b77-ab80-60f9e4409d86",
   "metadata": {},
   "source": [
    "## Promt für ChatGPT zum erstellen von Übungsaufgaben"
   ]
  },
  {
   "cell_type": "markdown",
   "id": "2956bf7e-4b3b-4e52-8756-db1e61f0dba3",
   "metadata": {},
   "source": [
    "Schreibe mir X Aufgaben zum Üben von Exceptions in Python. \n",
    "\n",
    "Verwende dabei:\n",
    "- try / except\n",
    "- Eigene Fehlerklassen\n",
    "- raise\n",
    "- geänderte Versionen von __init__ und oder __str__ auf die man achten muss\n",
    "- super() / verweise auf Superklassen (Superklass.__init__ etc.)\n",
    "- unterschiedliche Exceptions (ZeroDevision, ValueError, NameError etc. Die Liste ist lang)\n",
    "- Nested Exceptions\n",
    "- args\n",
    "\n",
    "Pack nicht alles in eine einzige Aufgabe, sondern misch es gut durch, aber mach die Aufgaben ruhig schwer.\n",
    "\n",
    "Schreibe erst alle Aufgaben und dann alle Lösungen untereinander:\n",
    "Aufgabe 1.\n",
    "Aufgabe2. \n",
    "...\n",
    "\n",
    "Lösung 1.\n",
    "lösung 2.\n",
    "...\n"
   ]
  },
  {
   "cell_type": "markdown",
   "id": "70049748-a121-413e-ac3f-351bc67ecc39",
   "metadata": {
    "jp-MarkdownHeadingCollapsed": true
   },
   "source": [
    "### Aufgabe 1"
   ]
  },
  {
   "cell_type": "code",
   "execution_count": 8,
   "id": "a6e443cf-9cec-4f0f-9d98-36afee457beb",
   "metadata": {},
   "outputs": [
    {
     "name": "stdout",
     "output_type": "stream",
     "text": [
      "Division by zero\n"
     ]
    }
   ],
   "source": [
    "class MyError(Exception):\n",
    "    def __init__(self, message):\n",
    "        self.message = message\n",
    "\n",
    "def divide(a, b):\n",
    "    try:\n",
    "        if b == 0:\n",
    "            raise MyError(\"Division by zero\")\n",
    "        return a / b\n",
    "    except MyError as e:\n",
    "        print(e)\n",
    "\n",
    "divide(10, 0)\n"
   ]
  },
  {
   "cell_type": "markdown",
   "id": "952506a0-0742-49e6-9d17-a7d7582e2180",
   "metadata": {},
   "source": [
    "#### Lösung:"
   ]
  },
  {
   "cell_type": "code",
   "execution_count": 3,
   "id": "575e68b7-56b3-49e2-94bc-72d9497fcbca",
   "metadata": {},
   "outputs": [
    {
     "data": {
      "text/plain": [
       "'Division by zero'"
      ]
     },
     "execution_count": 3,
     "metadata": {},
     "output_type": "execute_result"
    }
   ],
   "source": [
    "\"Division by zero\""
   ]
  },
  {
   "cell_type": "markdown",
   "id": "c954477b-c6c1-423a-a463-af893fcd571d",
   "metadata": {
    "jp-MarkdownHeadingCollapsed": true
   },
   "source": [
    "### Aufgabe 2"
   ]
  },
  {
   "cell_type": "code",
   "execution_count": 9,
   "id": "9c266fa7-7252-45ee-9fce-cdae63ae2c2e",
   "metadata": {},
   "outputs": [
    {
     "name": "stdout",
     "output_type": "stream",
     "text": [
      "A custom error occurred!\n"
     ]
    }
   ],
   "source": [
    "class CustomError(Exception):\n",
    "    def __str__(self):\n",
    "        return \"A custom error occurred!\"\n",
    "\n",
    "try:\n",
    "    raise CustomError\n",
    "except CustomError as e:\n",
    "    print(e)\n"
   ]
  },
  {
   "cell_type": "markdown",
   "id": "36adc006-60c1-4491-a0ac-cf0e5fe7ea69",
   "metadata": {},
   "source": [
    "#### Lösung:"
   ]
  },
  {
   "cell_type": "code",
   "execution_count": null,
   "id": "077943d3-a385-414e-b169-25ef3134de1f",
   "metadata": {},
   "outputs": [],
   "source": [
    "\"A custom error occurred!\""
   ]
  },
  {
   "cell_type": "markdown",
   "id": "1586be56-ae8d-4949-bcee-6d2dd5336782",
   "metadata": {},
   "source": [
    "### Aufgabe 3"
   ]
  },
  {
   "cell_type": "code",
   "execution_count": 11,
   "id": "5ff46843-9479-4059-830e-fd2159351c0d",
   "metadata": {},
   "outputs": [
    {
     "name": "stdout",
     "output_type": "stream",
     "text": [
      "('An error in derived class',)\n"
     ]
    }
   ],
   "source": [
    "class BaseError(Exception):\n",
    "    pass\n",
    "\n",
    "class DerivedError(BaseError):\n",
    "    pass\n",
    "\n",
    "try:\n",
    "    raise DerivedError(\"An error in derived class\")\n",
    "except BaseError as e:\n",
    "    print(e.args) # args gibt ein TUPLE aus!!!\n"
   ]
  },
  {
   "cell_type": "markdown",
   "id": "0e930ab2-4d21-4efd-8659-5b474949eafe",
   "metadata": {},
   "source": [
    "#### Lösung:"
   ]
  },
  {
   "cell_type": "code",
   "execution_count": null,
   "id": "9823d1f6-cb70-45a8-9369-fc2540654ac4",
   "metadata": {},
   "outputs": [],
   "source": [
    "\"An error in derived class\""
   ]
  },
  {
   "cell_type": "markdown",
   "id": "8b705aa1-1b73-4ecb-b9c6-6006cbc0806f",
   "metadata": {
    "jp-MarkdownHeadingCollapsed": true
   },
   "source": [
    "### Aufgabe 4"
   ]
  },
  {
   "cell_type": "code",
   "execution_count": 12,
   "id": "a9d94638-7d75-49bd-b669-2d6c018c6ab0",
   "metadata": {},
   "outputs": [
    {
     "name": "stdout",
     "output_type": "stream",
     "text": [
      "ChildError: This is a test\n"
     ]
    }
   ],
   "source": [
    "class ParentError(Exception):\n",
    "    pass\n",
    "\n",
    "class ChildError(ParentError):\n",
    "    def __init__(self, message):\n",
    "        super().__init__(message)\n",
    "        self.custom_message = \"ChildError: \" + message\n",
    "\n",
    "def test_func():\n",
    "    try:\n",
    "        raise ChildError(\"This is a test\")\n",
    "    except ParentError as e:\n",
    "        print(e.custom_message)\n",
    "\n",
    "test_func()\n"
   ]
  },
  {
   "cell_type": "markdown",
   "id": "3229a059-bd1d-477a-ba33-e335862e43b5",
   "metadata": {},
   "source": [
    "#### Lösung:"
   ]
  },
  {
   "cell_type": "code",
   "execution_count": null,
   "id": "3666577e-9815-4030-97ad-173d45069853",
   "metadata": {},
   "outputs": [],
   "source": [
    "\"ChildError: This is a test\""
   ]
  },
  {
   "cell_type": "markdown",
   "id": "02db4d4a-2466-4dd7-8c85-de944f12e958",
   "metadata": {
    "jp-MarkdownHeadingCollapsed": true
   },
   "source": [
    "### Aufgabe 5"
   ]
  },
  {
   "cell_type": "code",
   "execution_count": 13,
   "id": "ec7bc221-8385-4754-85e6-4bad2164942b",
   "metadata": {},
   "outputs": [
    {
     "name": "stdout",
     "output_type": "stream",
     "text": [
      "Caught an exception: division by zero\n",
      "This block always executes\n"
     ]
    }
   ],
   "source": [
    "try:\n",
    "    x = 1 / 0\n",
    "except ZeroDivisionError as e:\n",
    "    print(f\"Caught an exception: {e}\")\n",
    "finally:\n",
    "    print(\"This block always executes\")\n"
   ]
  },
  {
   "cell_type": "markdown",
   "id": "5acc63ac-67d3-48fa-849c-5914b88ca6d6",
   "metadata": {},
   "source": [
    "#### Lösung:"
   ]
  },
  {
   "cell_type": "code",
   "execution_count": null,
   "id": "727c90d1-67c1-4d5f-bb0f-5659dc451730",
   "metadata": {},
   "outputs": [],
   "source": [
    "Caught an exception: ZeroDivisionError\n",
    "\"This block always executes\""
   ]
  },
  {
   "cell_type": "markdown",
   "id": "3a54a376-84e7-4c6b-90b5-95d11b6b693e",
   "metadata": {},
   "source": [
    "### Aufgabe 6"
   ]
  },
  {
   "cell_type": "code",
   "execution_count": 4,
   "id": "1a9162f2-7dcb-4928-9766-fe5f808caf4c",
   "metadata": {},
   "outputs": [
    {
     "name": "stdout",
     "output_type": "stream",
     "text": [
      "Finally block\n"
     ]
    }
   ],
   "source": [
    "def func():\n",
    "    try:\n",
    "        return \"Success\"\n",
    "    finally:\n",
    "        return \"Finally block\"\n",
    "\n",
    "result = func()\n",
    "print(result)\n"
   ]
  },
  {
   "cell_type": "markdown",
   "id": "b4fe29b8-6256-4753-8d51-77e21f55e90d",
   "metadata": {},
   "source": [
    "DAAAAS ist interessant... Die Frage ist jetzt, ob, der finally block \"Finally block\" noch printed, OBWOHL return einen Funktion sofort beendet... Aber eigentlcih wird finally IMMER ausgeführt... "
   ]
  },
  {
   "cell_type": "markdown",
   "id": "f9f2f83d-d9b3-4f7a-bbbf-38a0728443d9",
   "metadata": {},
   "source": [
    "#### Lösung:"
   ]
  },
  {
   "cell_type": "code",
   "execution_count": null,
   "id": "15d8f695-462f-4582-a58d-1b13f7d23130",
   "metadata": {},
   "outputs": [],
   "source": [
    "\"Success\"\n",
    "\"Finally block\""
   ]
  },
  {
   "cell_type": "markdown",
   "id": "b430150a-d6f5-4564-b93c-af0a514a4000",
   "metadata": {},
   "source": [
    "Beides geht nicht...?"
   ]
  },
  {
   "cell_type": "markdown",
   "id": "a2f12924-752e-4165-b026-a80a4a63c017",
   "metadata": {
    "jp-MarkdownHeadingCollapsed": true
   },
   "source": [
    "### Aufgabe 7"
   ]
  },
  {
   "cell_type": "code",
   "execution_count": 14,
   "id": "362b5a34-b393-4a42-85c8-d5510bf28e98",
   "metadata": {},
   "outputs": [
    {
     "name": "stdout",
     "output_type": "stream",
     "text": [
      "Caught ValueError: Inner exception\n"
     ]
    }
   ],
   "source": [
    "def outer():\n",
    "    try:\n",
    "        inner()\n",
    "    except ValueError as e:\n",
    "        print(f\"Caught ValueError: {e}\")\n",
    "\n",
    "def inner():\n",
    "    try:\n",
    "        raise ValueError(\"Inner exception\")\n",
    "    except KeyError:\n",
    "        print(\"This will not execute\")\n",
    "\n",
    "outer()\n"
   ]
  },
  {
   "cell_type": "markdown",
   "id": "954ddaaf-83c8-4c25-85d8-c6b1c33f5e37",
   "metadata": {},
   "source": [
    "#### Lösung:"
   ]
  },
  {
   "cell_type": "code",
   "execution_count": 5,
   "id": "80c6e96d-9d62-42fa-bea0-a3893ea46b2d",
   "metadata": {},
   "outputs": [
    {
     "data": {
      "text/plain": [
       "'Caught ValueError: Inner exception'"
      ]
     },
     "execution_count": 5,
     "metadata": {},
     "output_type": "execute_result"
    }
   ],
   "source": [
    "\"Caught ValueError: Inner exception\""
   ]
  },
  {
   "cell_type": "markdown",
   "id": "13ed7f43-e108-41c5-81c3-d7108208d222",
   "metadata": {},
   "source": [
    "### Aufgabe 8"
   ]
  },
  {
   "cell_type": "code",
   "execution_count": 7,
   "id": "66aa70fc-6086-40ed-8e76-801f91c4544d",
   "metadata": {},
   "outputs": [
    {
     "name": "stdout",
     "output_type": "stream",
     "text": [
      "CustomException was raised\n",
      "()\n"
     ]
    }
   ],
   "source": [
    "class CustomException(Exception):\n",
    "    def __str__(self):\n",
    "        return \"CustomException was raised\"\n",
    "\n",
    "try:\n",
    "    raise CustomException\n",
    "except CustomException as e:\n",
    "    print(e)\n",
    "    print(e.args)\n"
   ]
  },
  {
   "cell_type": "markdown",
   "id": "e183b3d5-f0d7-4a78-aa14-d6354cbff3da",
   "metadata": {},
   "source": [
    "#### Lösung:"
   ]
  },
  {
   "cell_type": "code",
   "execution_count": null,
   "id": "373a1e05-8638-405b-8916-960015cd2c33",
   "metadata": {},
   "outputs": [],
   "source": [
    "CustomException\n",
    "\"CustomException was raised\""
   ]
  },
  {
   "cell_type": "markdown",
   "id": "bac5f274-aa19-46c0-a371-f4f3be8b1b96",
   "metadata": {},
   "source": [
    "### Aufgabe 9"
   ]
  },
  {
   "cell_type": "code",
   "execution_count": 32,
   "id": "dea8693b-62e4-4199-981b-6aa6bd3f1c25",
   "metadata": {},
   "outputs": [
    {
     "name": "stdout",
     "output_type": "stream",
     "text": [
      "Exception: A value error\n",
      "Args: ('A value error',)\n"
     ]
    }
   ],
   "source": [
    "try:\n",
    "    raise ValueError(\"A value error\")\n",
    "except ValueError as e:\n",
    "    print(\"Exception:\", e)\n",
    "    print(\"Args:\", e.args)\n"
   ]
  },
  {
   "cell_type": "markdown",
   "id": "1f4d49aa-7452-4719-a28f-6df5d66cc1e3",
   "metadata": {},
   "source": [
    "Warum kommt dieses Ergebnis heraus?"
   ]
  },
  {
   "cell_type": "markdown",
   "id": "8b587558-75e0-4533-a4b3-3abc32df1051",
   "metadata": {},
   "source": [
    "#### Lösung"
   ]
  },
  {
   "cell_type": "markdown",
   "id": "be1f1eb6-b72e-4d54-a61c-8e6351f102f8",
   "metadata": {},
   "source": [
    "Gut, pflücken wir diesen Code auseinander:"
   ]
  },
  {
   "cell_type": "code",
   "execution_count": 26,
   "id": "6320be97-d843-4878-a185-d392bc4cb334",
   "metadata": {},
   "outputs": [
    {
     "name": "stdout",
     "output_type": "stream",
     "text": [
      "Exception: A value error\n",
      "Args: ('A value error',)\n"
     ]
    }
   ],
   "source": [
    "# imaginäres args = (\"A value error\",)\n",
    "\n",
    "try: # 1. Normaler try \n",
    "    raise ValueError(\"A value error\") # 2. raised einen ValueError mit dem ARGUMENT \"A value error\", welches in args gespeichert wird\n",
    "except ValueError as e: # 3. Der except der ValueErrorklasse fängt den ValueError und e erhält die ValueError-INSTANZ\n",
    "    print(\"Exception:\", e)\n",
    "    print(\"Args:\", e.args)\n"
   ]
  },
  {
   "cell_type": "markdown",
   "id": "ed7ebdea-68e8-491b-8ead-0ffbcb2fc5c2",
   "metadata": {},
   "source": [
    "Wie sähe die Fehlermeldung aus, wenn sie nicht abgefangen werden würde?"
   ]
  },
  {
   "cell_type": "code",
   "execution_count": 33,
   "id": "6d4e1373-b0f4-4fe2-a208-1ed46b2f1eb8",
   "metadata": {},
   "outputs": [
    {
     "ename": "ValueError",
     "evalue": "A value error",
     "output_type": "error",
     "traceback": [
      "\u001b[1;31m---------------------------------------------------------------------------\u001b[0m",
      "\u001b[1;31mValueError\u001b[0m                                Traceback (most recent call last)",
      "Cell \u001b[1;32mIn[33], line 1\u001b[0m\n\u001b[1;32m----> 1\u001b[0m \u001b[38;5;28;01mraise\u001b[39;00m \u001b[38;5;167;01mValueError\u001b[39;00m(\u001b[38;5;124m\"\u001b[39m\u001b[38;5;124mA value error\u001b[39m\u001b[38;5;124m\"\u001b[39m) \n",
      "\u001b[1;31mValueError\u001b[0m: A value error"
     ]
    }
   ],
   "source": [
    "raise ValueError(\"A value error\") "
   ]
  },
  {
   "cell_type": "markdown",
   "id": "8b257d8b-a1bc-4268-b2a4-576eb1fcf226",
   "metadata": {},
   "source": [
    "Wie sieht das Ergebnis ohne Argument aus?"
   ]
  },
  {
   "cell_type": "code",
   "execution_count": 34,
   "id": "c0da2093-2238-4531-b835-133aadfc1849",
   "metadata": {},
   "outputs": [
    {
     "name": "stdout",
     "output_type": "stream",
     "text": [
      "Exception: \n",
      "Args: ()\n"
     ]
    }
   ],
   "source": [
    "try:  \n",
    "    raise ValueError\n",
    "except ValueError as e:\n",
    "    print(\"Exception:\", e)\n",
    "    print(\"Args:\", e.args)"
   ]
  },
  {
   "cell_type": "markdown",
   "id": "2d3c0837-02d8-4db9-92a0-72e667f1e6b0",
   "metadata": {},
   "source": [
    "Wenn man kein zusätzliches Argument angibt wird in `e / args` nichts befüllt. Das macht den Code mit `as e` zwar überflüssig, aber es ist legaler Code."
   ]
  },
  {
   "cell_type": "markdown",
   "id": "34e7db7b-1252-44f7-8719-341f4b49229d",
   "metadata": {},
   "source": [
    "Wichtig zu beachten ist, dass `args` IMMER ein Tuple zurück gibt, egal ob mit Argumenten befüllt, oder leer."
   ]
  },
  {
   "cell_type": "markdown",
   "id": "cda9bc6f-bfa4-491b-a6ce-45682ab4735e",
   "metadata": {},
   "source": [
    "Der ValueError wird mit einem Argument ausgelöst: dem String \"A value error\". Wenn diese Fehlermeldung abgefangen wird, hält die Variable e die ValueError-Instanz."
   ]
  },
  {
   "cell_type": "code",
   "execution_count": null,
   "id": "590b5ee2-53b6-471e-ad02-833f73809a61",
   "metadata": {},
   "outputs": [],
   "source": [
    "# Analog:\n",
    "class Fehlerklasse(Exception):\n",
    "\n",
    "    def __init__(self, *args):\n",
    "        self.args = args\n",
    "\n",
    "e = self.args"
   ]
  },
  {
   "cell_type": "markdown",
   "id": "ac9266c6-a528-4b2e-8d37-83baa70d6203",
   "metadata": {},
   "source": [
    "Verstehe ich das richtig?\n",
    "Der ValueError ist quasi die Klasse `ValueError` die aufgerufen wird (`ValueError()`) und wenn dieser Klasse ein Argeument übergeben wird, erstellt die (vermutlich `__init__`-Methode) der Fehlerklasse eine Instanzvariable `args`.\n",
    "\n",
    "Und mit dem Code `except ValueError as e:` sagt man quasi: \"Danke für die Information, aber wir wollen weiter machen. Bitte gib die Instanzvariable an e weiter, ich möchte sie mir später noch anschauen können.\""
   ]
  },
  {
   "cell_type": "code",
   "execution_count": 31,
   "id": "71341050-1ac7-4603-9aca-110bf75c254c",
   "metadata": {},
   "outputs": [
    {
     "name": "stdout",
     "output_type": "stream",
     "text": [
      "Exception: \n",
      "Args: ()\n"
     ]
    }
   ],
   "source": [
    "try:  \n",
    "    raise ValueError\n",
    "except ValueError as e:\n",
    "    print(\"Exception:\", e)\n",
    "    print(\"Args:\", e.args)"
   ]
  },
  {
   "cell_type": "markdown",
   "id": "deb35433-289b-49f8-9c08-52485e11aaf2",
   "metadata": {},
   "source": [
    "Es ist also egal, ob man `print(e)` oder `print(e.args)` schreibt weil unter der Haube `e = self.args` steht. Zwei Namen, die auf die SELBE Instanz zeigen."
   ]
  },
  {
   "cell_type": "markdown",
   "id": "b944bbdb-e160-49fd-842e-56dcfe0c8fb5",
   "metadata": {},
   "source": [
    "### Aufgabe 10"
   ]
  },
  {
   "cell_type": "code",
   "execution_count": null,
   "id": "5e7490f0-5ecc-40ea-bd00-d458618a5c11",
   "metadata": {},
   "outputs": [],
   "source": [
    "class FirstError(Exception):\n",
    "    pass\n",
    "\n",
    "class SecondError(Exception):\n",
    "    pass\n",
    "\n",
    "def nested_exceptions():\n",
    "    try:\n",
    "        try:\n",
    "            raise FirstError(\"First error\")\n",
    "        except FirstError as fe:\n",
    "            print(\"Caught FirstError:\", fe)\n",
    "            raise SecondError(\"Second error from FirstError handling\")\n",
    "    except SecondError as se:\n",
    "        print(\"Caught SecondError:\", se)\n",
    "\n",
    "nested_exceptions()\n"
   ]
  }
 ],
 "metadata": {
  "kernelspec": {
   "display_name": "Python 3 (ipykernel)",
   "language": "python",
   "name": "python3"
  },
  "language_info": {
   "codemirror_mode": {
    "name": "ipython",
    "version": 3
   },
   "file_extension": ".py",
   "mimetype": "text/x-python",
   "name": "python",
   "nbconvert_exporter": "python",
   "pygments_lexer": "ipython3",
   "version": "3.12.4"
  }
 },
 "nbformat": 4,
 "nbformat_minor": 5
}
