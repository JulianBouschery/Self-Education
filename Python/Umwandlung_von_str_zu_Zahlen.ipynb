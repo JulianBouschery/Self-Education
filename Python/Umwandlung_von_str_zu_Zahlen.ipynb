{
 "cells": [
  {
   "cell_type": "markdown",
   "id": "689b35a5-448d-4410-8235-29a448760a50",
   "metadata": {},
   "source": [
    "[Zurück zum Inhaltsverzeichnis](_Inhaltsverzeichnis_.ipynb)"
   ]
  },
  {
   "cell_type": "markdown",
   "id": "afe201b4-b870-4574-a70f-5ebde2464ad5",
   "metadata": {},
   "source": [
    "## int() und float() als Umwandlung von str oder Zahlen"
   ]
  },
  {
   "cell_type": "code",
   "execution_count": 36,
   "id": "418015e4-4221-4137-95b5-cd5b2153e077",
   "metadata": {
    "tags": []
   },
   "outputs": [
    {
     "data": {
      "text/plain": [
       "12"
      ]
     },
     "execution_count": 36,
     "metadata": {},
     "output_type": "execute_result"
    }
   ],
   "source": [
    "int(12.999)"
   ]
  },
  {
   "cell_type": "code",
   "execution_count": 37,
   "id": "967f6485-e420-4b92-ba3d-bbcd6f60795e",
   "metadata": {
    "tags": []
   },
   "outputs": [
    {
     "data": {
      "text/plain": [
       "123.0"
      ]
     },
     "execution_count": 37,
     "metadata": {},
     "output_type": "execute_result"
    }
   ],
   "source": [
    "float(123)"
   ]
  },
  {
   "cell_type": "code",
   "execution_count": 38,
   "id": "27fdb61d-2608-4f9b-866a-00e7d49bf891",
   "metadata": {
    "tags": []
   },
   "outputs": [
    {
     "data": {
      "text/plain": [
       "123.4"
      ]
     },
     "execution_count": 38,
     "metadata": {},
     "output_type": "execute_result"
    }
   ],
   "source": [
    "float(\"123.4\")"
   ]
  },
  {
   "cell_type": "code",
   "execution_count": 39,
   "id": "63eed17c-91bf-44c0-8d44-e89d9124b4bc",
   "metadata": {
    "tags": []
   },
   "outputs": [
    {
     "ename": "ValueError",
     "evalue": "could not convert string to float: '123,4'",
     "output_type": "error",
     "traceback": [
      "\u001b[0;31m---------------------------------------------------------------------------\u001b[0m",
      "\u001b[0;31mValueError\u001b[0m                                Traceback (most recent call last)",
      "\u001b[0;32m/var/folders/98/zxnb__6d3hn1b82jwdhkbs7m0000gn/T/ipykernel_17767/3748407059.py\u001b[0m in \u001b[0;36m<module>\u001b[0;34m\u001b[0m\n\u001b[0;32m----> 1\u001b[0;31m \u001b[0mfloat\u001b[0m\u001b[0;34m(\u001b[0m\u001b[0;34m\"123,4\"\u001b[0m\u001b[0;34m)\u001b[0m\u001b[0;34m\u001b[0m\u001b[0;34m\u001b[0m\u001b[0m\n\u001b[0m",
      "\u001b[0;31mValueError\u001b[0m: could not convert string to float: '123,4'"
     ]
    }
   ],
   "source": [
    "float(\"123,4\")"
   ]
  },
  {
   "cell_type": "code",
   "execution_count": 40,
   "id": "42cbc2a3-f37e-411b-97ae-163416f9cd34",
   "metadata": {
    "tags": []
   },
   "outputs": [
    {
     "data": {
      "text/plain": [
       "'123.4'"
      ]
     },
     "execution_count": 40,
     "metadata": {},
     "output_type": "execute_result"
    }
   ],
   "source": [
    "\"123,4\".replace(\",\",\".\")"
   ]
  },
  {
   "cell_type": "code",
   "execution_count": 41,
   "id": "b2c53453-b45a-4d33-bef6-bbf32165dc45",
   "metadata": {
    "tags": []
   },
   "outputs": [
    {
     "data": {
      "text/plain": [
       "123.4"
      ]
     },
     "execution_count": 41,
     "metadata": {},
     "output_type": "execute_result"
    }
   ],
   "source": [
    "float(\"123,4\".replace(\",\",\".\"))"
   ]
  },
  {
   "cell_type": "markdown",
   "id": "777f550d-a125-4605-beab-2a989f01d0db",
   "metadata": {},
   "source": [
    "Später schauen wir uns `int()` genauer an, hier als teaser"
   ]
  },
  {
   "cell_type": "code",
   "execution_count": 42,
   "id": "a5c539d6-f813-4f29-a628-bb057272c88b",
   "metadata": {
    "tags": []
   },
   "outputs": [
    {
     "ename": "ValueError",
     "evalue": "invalid literal for int() with base 10: '0b1011'",
     "output_type": "error",
     "traceback": [
      "\u001b[0;31m---------------------------------------------------------------------------\u001b[0m",
      "\u001b[0;31mValueError\u001b[0m                                Traceback (most recent call last)",
      "\u001b[0;32m/var/folders/98/zxnb__6d3hn1b82jwdhkbs7m0000gn/T/ipykernel_17767/3208146636.py\u001b[0m in \u001b[0;36m<module>\u001b[0;34m\u001b[0m\n\u001b[0;32m----> 1\u001b[0;31m \u001b[0mint\u001b[0m\u001b[0;34m(\u001b[0m\u001b[0;34m\"0b1011\"\u001b[0m\u001b[0;34m)\u001b[0m\u001b[0;34m\u001b[0m\u001b[0;34m\u001b[0m\u001b[0m\n\u001b[0m",
      "\u001b[0;31mValueError\u001b[0m: invalid literal for int() with base 10: '0b1011'"
     ]
    }
   ],
   "source": [
    "int(\"0b1011\")"
   ]
  },
  {
   "cell_type": "code",
   "execution_count": 43,
   "id": "6c85ead3-5978-4a4c-8ab0-d2c9edfd499c",
   "metadata": {
    "tags": []
   },
   "outputs": [
    {
     "data": {
      "text/plain": [
       "11"
      ]
     },
     "execution_count": 43,
     "metadata": {},
     "output_type": "execute_result"
    }
   ],
   "source": [
    "int(\"0b1011\")"
   ]
  },
  {
   "cell_type": "code",
   "execution_count": 45,
   "id": "2f3f80af-93db-4b3e-8c8d-bb051c75d945",
   "metadata": {
    "tags": []
   },
   "outputs": [
    {
     "data": {
      "text/plain": [
       "63"
      ]
     },
     "execution_count": 45,
     "metadata": {},
     "output_type": "execute_result"
    }
   ],
   "source": [
    "int(\"0x3f\",16)"
   ]
  },
  {
   "cell_type": "code",
   "execution_count": 47,
   "id": "53c7c372-48ca-4f92-9920-b1f3347e9957",
   "metadata": {
    "tags": []
   },
   "outputs": [
    {
     "data": {
      "text/plain": [
       "31"
      ]
     },
     "execution_count": 47,
     "metadata": {},
     "output_type": "execute_result"
    }
   ],
   "source": [
    "int(\"0o37\",8)"
   ]
  },
  {
   "cell_type": "markdown",
   "id": "06197dfc-5d2a-4a14-9a66-de592a2ac833",
   "metadata": {},
   "source": [
    "Man kann auch `int` Objekt in str-Repräsentationen in anderen Zahlensysteme verwandeln."
   ]
  },
  {
   "cell_type": "code",
   "execution_count": 65,
   "id": "2fea51fe-43c2-49ab-8426-179ce5d34062",
   "metadata": {
    "tags": []
   },
   "outputs": [],
   "source": [
    "zahl = 12"
   ]
  },
  {
   "cell_type": "code",
   "execution_count": 66,
   "id": "b014e8af-a8ca-44a0-be01-c497f9f95162",
   "metadata": {
    "tags": []
   },
   "outputs": [
    {
     "data": {
      "text/plain": [
       "('0b1100', '0o14', '0xc')"
      ]
     },
     "execution_count": 66,
     "metadata": {},
     "output_type": "execute_result"
    }
   ],
   "source": [
    "bin(zahl), oct(zahl), hex(zahl)"
   ]
  },
  {
   "cell_type": "code",
   "execution_count": 67,
   "id": "817397b9-f0a8-42a8-b8a1-808ee216689c",
   "metadata": {
    "tags": []
   },
   "outputs": [
    {
     "data": {
      "text/plain": [
       "12"
      ]
     },
     "execution_count": 67,
     "metadata": {},
     "output_type": "execute_result"
    }
   ],
   "source": [
    "int(bin(zahl),base = 2)"
   ]
  },
  {
   "cell_type": "code",
   "execution_count": 68,
   "id": "09e5278a-6eee-448d-ab4e-29b185cb25f3",
   "metadata": {
    "tags": []
   },
   "outputs": [
    {
     "ename": "ValueError",
     "evalue": "invalid literal for int() with base 8: '0b1100'",
     "output_type": "error",
     "traceback": [
      "\u001b[0;31m---------------------------------------------------------------------------\u001b[0m",
      "\u001b[0;31mValueError\u001b[0m                                Traceback (most recent call last)",
      "\u001b[0;32m/var/folders/98/zxnb__6d3hn1b82jwdhkbs7m0000gn/T/ipykernel_17767/3765174407.py\u001b[0m in \u001b[0;36m<module>\u001b[0;34m\u001b[0m\n\u001b[0;32m----> 1\u001b[0;31m \u001b[0mint\u001b[0m\u001b[0;34m(\u001b[0m\u001b[0mbin\u001b[0m\u001b[0;34m(\u001b[0m\u001b[0mzahl\u001b[0m\u001b[0;34m)\u001b[0m\u001b[0;34m,\u001b[0m\u001b[0mbase\u001b[0m \u001b[0;34m=\u001b[0m \u001b[0;36m8\u001b[0m\u001b[0;34m)\u001b[0m\u001b[0;34m\u001b[0m\u001b[0;34m\u001b[0m\u001b[0m\n\u001b[0m",
      "\u001b[0;31mValueError\u001b[0m: invalid literal for int() with base 8: '0b1100'"
     ]
    }
   ],
   "source": [
    "int(bin(zahl),base = 8)"
   ]
  },
  {
   "cell_type": "code",
   "execution_count": 69,
   "id": "eef59a13-9193-4ed6-9336-995de2f4cd38",
   "metadata": {
    "tags": []
   },
   "outputs": [
    {
     "data": {
      "text/plain": [
       "12"
      ]
     },
     "execution_count": 69,
     "metadata": {},
     "output_type": "execute_result"
    }
   ],
   "source": [
    "int('0b1100',base = 2)"
   ]
  },
  {
   "cell_type": "code",
   "execution_count": 70,
   "id": "278350b2-58ab-48e9-b789-01b6c0d030ea",
   "metadata": {
    "tags": []
   },
   "outputs": [
    {
     "data": {
      "text/plain": [
       "12"
      ]
     },
     "execution_count": 70,
     "metadata": {},
     "output_type": "execute_result"
    }
   ],
   "source": [
    "int('0b1100',base = 2)"
   ]
  },
  {
   "cell_type": "code",
   "execution_count": 71,
   "id": "a9dfb4a0-905c-4926-82c2-14faf1c0c490",
   "metadata": {
    "tags": []
   },
   "outputs": [],
   "source": [
    "# Zahlensystem als int"
   ]
  },
  {
   "cell_type": "code",
   "execution_count": 73,
   "id": "261d63a3-45fc-4ac6-88d1-44720cd01a7c",
   "metadata": {
    "tags": []
   },
   "outputs": [
    {
     "data": {
      "text/plain": [
       "7"
      ]
     },
     "execution_count": 73,
     "metadata": {},
     "output_type": "execute_result"
    }
   ],
   "source": [
    "zahl1 = 0b111 # dies ist ein ganz normales int objekt nur eingegeben im Zahlensystem binör\n",
    "zahl1"
   ]
  },
  {
   "cell_type": "code",
   "execution_count": 74,
   "id": "af3dfa71-4fe8-4313-ad61-aeaa36257ab5",
   "metadata": {
    "tags": []
   },
   "outputs": [
    {
     "data": {
      "text/plain": [
       "73"
      ]
     },
     "execution_count": 74,
     "metadata": {},
     "output_type": "execute_result"
    }
   ],
   "source": [
    "zahl2 = 0o111\n",
    "zahl2"
   ]
  },
  {
   "cell_type": "code",
   "execution_count": 75,
   "id": "78a52d0c-4c93-408c-9937-c6fdf4857c46",
   "metadata": {
    "tags": []
   },
   "outputs": [
    {
     "data": {
      "text/plain": [
       "273"
      ]
     },
     "execution_count": 75,
     "metadata": {},
     "output_type": "execute_result"
    }
   ],
   "source": [
    "zahl3 = 0x111\n",
    "zahl3"
   ]
  },
  {
   "cell_type": "code",
   "execution_count": 76,
   "id": "b553376a-c1fe-4649-aad6-18fc40cb5ed6",
   "metadata": {
    "tags": []
   },
   "outputs": [
    {
     "data": {
      "text/plain": [
       "(int, int, int)"
      ]
     },
     "execution_count": 76,
     "metadata": {},
     "output_type": "execute_result"
    }
   ],
   "source": [
    "type(zahl1),type(zahl2),type(zahl3)"
   ]
  },
  {
   "cell_type": "code",
   "execution_count": null,
   "id": "ed1fa89c-fbb1-47de-a66d-0a15487b4f16",
   "metadata": {},
   "outputs": [],
   "source": [
    "int(bin(zahl)) #=>int(bin(zahl), base = 10) "
   ]
  },
  {
   "cell_type": "code",
   "execution_count": 58,
   "id": "2c6e1872-69f9-49eb-b7ba-0403e0f3a40e",
   "metadata": {
    "tags": []
   },
   "outputs": [
    {
     "data": {
      "text/plain": [
       "1100"
      ]
     },
     "execution_count": 58,
     "metadata": {},
     "output_type": "execute_result"
    }
   ],
   "source": [
    "int('1100') "
   ]
  },
  {
   "cell_type": "markdown",
   "id": "a2e0a177-2084-483d-bdf7-0356e7dc1a77",
   "metadata": {
    "tags": []
   },
   "source": [
    "Ziffer * Basis \\** Exponent"
   ]
  },
  {
   "cell_type": "code",
   "execution_count": null,
   "id": "2d0d9aeb-d0b0-4936-b223-c9e55717db27",
   "metadata": {},
   "outputs": [],
   "source": [
    "# 1100 als Binär"
   ]
  },
  {
   "cell_type": "code",
   "execution_count": null,
   "id": "560a1f99-97b7-4aa7-b91b-8a09866f02b0",
   "metadata": {},
   "outputs": [],
   "source": [
    "1*2**3 +  1*2**2 +  0*2**1 +  0*2**0"
   ]
  },
  {
   "cell_type": "code",
   "execution_count": null,
   "id": "c75fc4cc-f133-4937-8e72-d8c64ca6916a",
   "metadata": {},
   "outputs": [],
   "source": [
    "# 1100 als Octal"
   ]
  },
  {
   "cell_type": "code",
   "execution_count": 55,
   "id": "4d1ea22a-01e0-4c5f-9f7f-123f97f0f59d",
   "metadata": {
    "tags": []
   },
   "outputs": [
    {
     "data": {
      "text/plain": [
       "576"
      ]
     },
     "execution_count": 55,
     "metadata": {},
     "output_type": "execute_result"
    }
   ],
   "source": [
    "1*8**3 +  1*8**2 +  0*8**1 +  0*8**0"
   ]
  },
  {
   "cell_type": "code",
   "execution_count": 56,
   "id": "482992fd-e738-4b65-86fd-672d1b7392e4",
   "metadata": {
    "tags": []
   },
   "outputs": [
    {
     "data": {
      "text/plain": [
       "'0o1100'"
      ]
     },
     "execution_count": 56,
     "metadata": {},
     "output_type": "execute_result"
    }
   ],
   "source": [
    "oct(576)"
   ]
  },
  {
   "cell_type": "code",
   "execution_count": 52,
   "id": "d8b804c6-54fc-4e28-8a06-137fa753d530",
   "metadata": {
    "scrolled": true,
    "tags": []
   },
   "outputs": [
    {
     "data": {
      "text/plain": [
       "\u001b[0;31mInit signature:\u001b[0m \u001b[0mint\u001b[0m\u001b[0;34m(\u001b[0m\u001b[0mself\u001b[0m\u001b[0;34m,\u001b[0m \u001b[0;34m/\u001b[0m\u001b[0;34m,\u001b[0m \u001b[0;34m*\u001b[0m\u001b[0margs\u001b[0m\u001b[0;34m,\u001b[0m \u001b[0;34m**\u001b[0m\u001b[0mkwargs\u001b[0m\u001b[0;34m)\u001b[0m\u001b[0;34m\u001b[0m\u001b[0;34m\u001b[0m\u001b[0m\n",
       "\u001b[0;31mDocstring:\u001b[0m     \n",
       "int([x]) -> integer\n",
       "int(x, base=10) -> integer\n",
       "\n",
       "Convert a number or string to an integer, or return 0 if no arguments\n",
       "are given.  If x is a number, return x.__int__().  For floating point\n",
       "numbers, this truncates towards zero.\n",
       "\n",
       "If x is not a number or if base is given, then x must be a string,\n",
       "bytes, or bytearray instance representing an integer literal in the\n",
       "given base.  The literal can be preceded by '+' or '-' and be surrounded\n",
       "by whitespace.  The base defaults to 10.  Valid bases are 0 and 2-36.\n",
       "Base 0 means to interpret the base from the string as an integer literal.\n",
       ">>> int('0b100', base=0)\n",
       "4\n",
       "\u001b[0;31mType:\u001b[0m           type\n",
       "\u001b[0;31mSubclasses:\u001b[0m     bool, IntEnum, IntFlag, _NamedIntConstant\n"
      ]
     },
     "metadata": {},
     "output_type": "display_data"
    }
   ],
   "source": [
    "int?"
   ]
  },
  {
   "cell_type": "markdown",
   "id": "72fa5feb-8fca-4207-9c64-47a4731baf3b",
   "metadata": {
    "jp-MarkdownHeadingCollapsed": true
   },
   "source": [
    "**Merke:** Zumeist geht Python den Code einer Zeile von links nach rechts durch\n",
    "\n",
    "Achtung Ausnahme ist bspw. das Hochnehmen 4\\**3\\**2 wird von rechts nach links evaluiert"
   ]
  }
 ],
 "metadata": {
  "kernelspec": {
   "display_name": "Python 3 (ipykernel)",
   "language": "python",
   "name": "python3"
  },
  "language_info": {
   "codemirror_mode": {
    "name": "ipython",
    "version": 3
   },
   "file_extension": ".py",
   "mimetype": "text/x-python",
   "name": "python",
   "nbconvert_exporter": "python",
   "pygments_lexer": "ipython3",
   "version": "3.12.3"
  }
 },
 "nbformat": 4,
 "nbformat_minor": 5
}
