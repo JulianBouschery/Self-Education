{
 "cells": [
  {
   "cell_type": "markdown",
   "id": "15b8c1ef-31f7-40dc-a797-81f02b267384",
   "metadata": {},
   "source": [
    "# `__add__`"
   ]
  },
  {
   "cell_type": "code",
   "execution_count": 3,
   "id": "831444e2-aeb7-44f0-9d67-db8e5267ac4d",
   "metadata": {},
   "outputs": [
    {
     "name": "stdout",
     "output_type": "stream",
     "text": [
      "140\n"
     ]
    }
   ],
   "source": [
    "class Person:\n",
    "    def __init__(self, weight, age):\n",
    "        self.weight = weight\n",
    "        self.age = age\n",
    "\n",
    "    def __add__(self, other):\n",
    "        return self.weight + other.weight\n",
    "\n",
    "\n",
    "p1 = Person(75, 40)\n",
    "p2 = Person(65, 45)\n",
    "\n",
    "print(p1 + p2)\n"
   ]
  },
  {
   "cell_type": "code",
   "execution_count": null,
   "id": "1ff3ee36-e7ce-467e-ab88-5e470e5b16a4",
   "metadata": {},
   "outputs": [],
   "source": []
  },
  {
   "cell_type": "code",
   "execution_count": null,
   "id": "291ae4aa-5fb3-43b4-bdfe-40531c21d3bd",
   "metadata": {},
   "outputs": [],
   "source": []
  }
 ],
 "metadata": {
  "kernelspec": {
   "display_name": "Python 3 (ipykernel)",
   "language": "python",
   "name": "python3"
  },
  "language_info": {
   "codemirror_mode": {
    "name": "ipython",
    "version": 3
   },
   "file_extension": ".py",
   "mimetype": "text/x-python",
   "name": "python",
   "nbconvert_exporter": "python",
   "pygments_lexer": "ipython3",
   "version": "3.12.4"
  }
 },
 "nbformat": 4,
 "nbformat_minor": 5
}
