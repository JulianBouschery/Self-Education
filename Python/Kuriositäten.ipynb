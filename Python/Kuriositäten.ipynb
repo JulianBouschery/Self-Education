{
 "cells": [
  {
   "cell_type": "markdown",
   "id": "2b177b9d-2b0c-492a-a431-1015737e48e9",
   "metadata": {},
   "source": [
    "[Zurück zum Inhaltsverzeichnis](_Inhaltsverzeichnis_.ipynb)"
   ]
  },
  {
   "cell_type": "markdown",
   "id": "8966dffa-1007-42d3-86ef-7f0d637658ec",
   "metadata": {},
   "source": [
    "# Kuriositäten"
   ]
  },
  {
   "cell_type": "markdown",
   "id": "03133315-21d6-49ee-96d2-e1a42e6e9d71",
   "metadata": {
    "jp-MarkdownHeadingCollapsed": true
   },
   "source": [
    "## Andere Formatierung (zumeist veraltet)"
   ]
  },
  {
   "cell_type": "markdown",
   "id": "a803b73f-9ed9-479b-9516-ed6b1082a9fa",
   "metadata": {},
   "source": [
    "Wenn kein guter Grund dagegen spricht, nutzt den f-string"
   ]
  },
  {
   "cell_type": "code",
   "execution_count": 7,
   "id": "20bf018c-f726-4329-8109-4c744b1d69ee",
   "metadata": {
    "tags": []
   },
   "outputs": [
    {
     "data": {
      "text/plain": [
       "'Hallo Anna wie gehts dir heute'"
      ]
     },
     "execution_count": 7,
     "metadata": {},
     "output_type": "execute_result"
    }
   ],
   "source": [
    "\"Hallo {} wie gehts dir {}\".format(\"Anna\", \"heute\")"
   ]
  },
  {
   "cell_type": "code",
   "execution_count": 8,
   "id": "019a3c86-2537-4832-995e-65020f55da19",
   "metadata": {
    "tags": []
   },
   "outputs": [
    {
     "data": {
      "text/plain": [
       "'Hallo heute wie gehts dir Anna'"
      ]
     },
     "execution_count": 8,
     "metadata": {},
     "output_type": "execute_result"
    }
   ],
   "source": [
    "\"Hallo {1} wie gehts dir {0}\".format(\"Anna\", \"heute\")"
   ]
  },
  {
   "cell_type": "code",
   "execution_count": 14,
   "id": "f4513d86-bf31-403d-a4ee-b129af5d7cd0",
   "metadata": {
    "tags": []
   },
   "outputs": [
    {
     "data": {
      "text/plain": [
       "'Hallo 84 wie gehts dir 219'"
      ]
     },
     "execution_count": 14,
     "metadata": {},
     "output_type": "execute_result"
    }
   ],
   "source": [
    "\"Hallo {} wie gehts dir {}\".format(42*2, 73*3)"
   ]
  },
  {
   "cell_type": "code",
   "execution_count": 15,
   "id": "77556c8f-f34c-421a-a737-aa23c56f2395",
   "metadata": {
    "tags": []
   },
   "outputs": [
    {
     "data": {
      "text/plain": [
       "'Hallo 84 wie gehts dir 219'"
      ]
     },
     "execution_count": 15,
     "metadata": {},
     "output_type": "execute_result"
    }
   ],
   "source": [
    "f\"Hallo {42*2} wie gehts dir {73*3}\""
   ]
  },
  {
   "cell_type": "code",
   "execution_count": 16,
   "id": "3b164129-4f6d-4986-be5c-03339fbe86f4",
   "metadata": {
    "tags": []
   },
   "outputs": [
    {
     "data": {
      "text/plain": [
       "'Hallo anna wie gehts dir heute'"
      ]
     },
     "execution_count": 16,
     "metadata": {},
     "output_type": "execute_result"
    }
   ],
   "source": [
    "\"Hallo %s wie gehts dir %s\" % (\"anna\", \"heute\")"
   ]
  }
 ],
 "metadata": {
  "kernelspec": {
   "display_name": "Python 3 (ipykernel)",
   "language": "python",
   "name": "python3"
  },
  "language_info": {
   "codemirror_mode": {
    "name": "ipython",
    "version": 3
   },
   "file_extension": ".py",
   "mimetype": "text/x-python",
   "name": "python",
   "nbconvert_exporter": "python",
   "pygments_lexer": "ipython3",
   "version": "3.12.3"
  }
 },
 "nbformat": 4,
 "nbformat_minor": 5
}
