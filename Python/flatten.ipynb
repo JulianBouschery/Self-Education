{
 "cells": [
  {
   "cell_type": "markdown",
   "id": "eced4d9d-008f-4342-b3ea-0c1c1e2667b4",
   "metadata": {},
   "source": [
    "[Zurück zum Inhaltsverzeichnis](_Inhaltsverzeichnis_.ipynb)"
   ]
  },
  {
   "cell_type": "markdown",
   "id": "6533d94a-a0ad-4fb1-b59a-f98f21112f7f",
   "metadata": {},
   "source": [
    "# flatten von Sequenzen"
   ]
  },
  {
   "cell_type": "markdown",
   "id": "95e986d8-1d40-43b3-8b4c-8d379a9bb52e",
   "metadata": {},
   "source": [
    "Primitive art um Sequenzen händisch zu \"flatten\".\n",
    "Dafür gibt es Spezialisierte Funktionen"
   ]
  },
  {
   "cell_type": "code",
   "execution_count": 3,
   "id": "053d6542-0209-4624-99a7-3a1d6a552db2",
   "metadata": {},
   "outputs": [],
   "source": [
    "infos = (42, 112, 42, 12, [1, 42, 42, 5], '42', 46)\n",
    "result = ()\n",
    "for elem in infos: \n",
    "    if isinstance(elem,(list,tuple)):\n",
    "        result+= tuple(elem)\n",
    "    else: \n",
    "        result += (elem,)"
   ]
  },
  {
   "cell_type": "code",
   "execution_count": 5,
   "id": "2bc71931-095b-4e10-a711-de7cccb96115",
   "metadata": {},
   "outputs": [
    {
     "data": {
      "text/plain": [
       "(42, 112, 42, 12, 1, 42, 42, 5, '42', 46)"
      ]
     },
     "execution_count": 5,
     "metadata": {},
     "output_type": "execute_result"
    }
   ],
   "source": [
    "result"
   ]
  },
  {
   "cell_type": "code",
   "execution_count": null,
   "id": "3b2dc164-918d-45bb-b43d-16a7608aa800",
   "metadata": {},
   "outputs": [],
   "source": []
  }
 ],
 "metadata": {
  "kernelspec": {
   "display_name": "Python 3 (ipykernel)",
   "language": "python",
   "name": "python3"
  },
  "language_info": {
   "codemirror_mode": {
    "name": "ipython",
    "version": 3
   },
   "file_extension": ".py",
   "mimetype": "text/x-python",
   "name": "python",
   "nbconvert_exporter": "python",
   "pygments_lexer": "ipython3",
   "version": "3.12.3"
  }
 },
 "nbformat": 4,
 "nbformat_minor": 5
}
