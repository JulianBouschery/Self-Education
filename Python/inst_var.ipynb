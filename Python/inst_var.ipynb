{
 "cells": [
  {
   "cell_type": "markdown",
   "id": "67a2c949-e99f-4aa6-bf86-be6d6cff4393",
   "metadata": {},
   "source": [
    "# Instanzvariable"
   ]
  },
  {
   "cell_type": "markdown",
   "id": "bd5c219e-9eb3-4410-8b43-a1158007c4e5",
   "metadata": {},
   "source": [
    "Eine Instanzvariable ist eine Art von Eigenschaft, die eng mit dem Objekt (Klasseninstanz) und nicht mit der Klasse selbst verbunden ist. Jedes der Objekte (auch wenn die Objekte von derselben Klasse abgeleitet sind) kann einen anderen Satz von Instanzvariablen haben. Die Änderung der Instanzvariable eines beliebigen Objekts hat keine Auswirkungen auf alle übrigen Objekte."
   ]
  },
  {
   "cell_type": "code",
   "execution_count": null,
   "id": "c1a1a50c-e8b4-4b6e-be07-a7dc94ede994",
   "metadata": {},
   "outputs": [],
   "source": []
  }
 ],
 "metadata": {
  "kernelspec": {
   "display_name": "Python 3 (ipykernel)",
   "language": "python",
   "name": "python3"
  },
  "language_info": {
   "codemirror_mode": {
    "name": "ipython",
    "version": 3
   },
   "file_extension": ".py",
   "mimetype": "text/x-python",
   "name": "python",
   "nbconvert_exporter": "python",
   "pygments_lexer": "ipython3",
   "version": "3.12.4"
  }
 },
 "nbformat": 4,
 "nbformat_minor": 5
}
