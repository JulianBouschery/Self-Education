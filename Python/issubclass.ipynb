{
 "cells": [
  {
   "cell_type": "markdown",
   "id": "2a9c71eb-5312-40a5-b80d-ec41df933129",
   "metadata": {},
   "source": [
    "# issubclass"
   ]
  },
  {
   "cell_type": "markdown",
   "id": "af6c6a55-c3a3-4f7f-9f1b-6e7d6d21f1d6",
   "metadata": {},
   "source": [
    "Siehe auch: [isinstance](isinstance.ipynb)"
   ]
  },
  {
   "cell_type": "markdown",
   "id": "bb6da451-4c1c-4cbe-97c4-07ec8f48e8aa",
   "metadata": {},
   "source": [
    "Bitte nicht verwechseln mit der Methode `.__subclasses__()`\n",
    "\n",
    "Siehe auch: [`.__subclasses__()`](s__subclasses__.ipynb)"
   ]
  },
  {
   "cell_type": "markdown",
   "id": "324079cf-e746-4780-a402-6bad691a8022",
   "metadata": {},
   "source": [
    "\n",
    "To check if a particular class is a subclass of any other class, a function named issubclass(ClassOne, ClassTwo) is used. The function returns True if the ClassOne class is a subclass of the ClassTwo class, and False otherwise. Note: each class is considered to be a subclass of itself."
   ]
  }
 ],
 "metadata": {
  "kernelspec": {
   "display_name": "Python 3 (ipykernel)",
   "language": "python",
   "name": "python3"
  },
  "language_info": {
   "codemirror_mode": {
    "name": "ipython",
    "version": 3
   },
   "file_extension": ".py",
   "mimetype": "text/x-python",
   "name": "python",
   "nbconvert_exporter": "python",
   "pygments_lexer": "ipython3",
   "version": "3.12.4"
  }
 },
 "nbformat": 4,
 "nbformat_minor": 5
}
