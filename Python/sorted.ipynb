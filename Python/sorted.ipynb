{
 "cells": [
  {
   "cell_type": "markdown",
   "id": "5e1a4ca3-088f-41e7-bc79-21ae9ac77057",
   "metadata": {},
   "source": [
    "[Zurück zum Inhaltsverzeichnis](_Inhaltsverzeichnis_.ipynb)"
   ]
  },
  {
   "cell_type": "markdown",
   "id": "317c991f-eb7b-4c92-a2f2-d6b506ed8091",
   "metadata": {},
   "source": [
    "# sorted Funktion"
   ]
  },
  {
   "cell_type": "markdown",
   "id": "2ea02ba4-c710-4071-bcb8-8626ebba00f2",
   "metadata": {},
   "source": [
    "## Überblick"
   ]
  },
  {
   "cell_type": "markdown",
   "id": "de1592e1-5716-42bf-bb0e-94963d3b74e9",
   "metadata": {},
   "source": [
    "\n",
    "Name der Funktion: sorted\n",
    "\n",
    "Instanz der Klasse: builtin_function_or_method\n",
    "\n",
    "Syntax:\n",
    "\n",
    "`sorted` `(` `Iterable` `)` \n",
    "\n",
    "```python\n",
    "Parameter: \n",
    "sorted(iterable, /, *, key=None, reverse=False) # positional Arguments /, *, keyword Arguments!!!\n",
    "\n",
    "Als key wird oft eine lambda Funktion verwendet.\n",
    "```\n",
    "Funktion: \n",
    "\n",
    "Die sorted()-Funktion wird verwendet, um eine sortierte Liste aus den Elementen eines iterierbaren Objekts zu erstellen. Im Gegensatz zur Methode sort(), die eine Liste in-place sortiert und dabei das Objekt selbst ändert, gibt sorted() eine neue Liste zurück und lässt das ursprüngliche iterierbare Objekt unverändert.\n",
    "\n",
    "Default return: \n",
    "```python\n",
    "Liste\n",
    "```\n",
    "Error: TypeError\n"
   ]
  },
  {
   "cell_type": "markdown",
   "id": "75adf33a-f1b8-4c1d-bed9-0aa09b1ada24",
   "metadata": {},
   "source": [
    "#### Instanz"
   ]
  },
  {
   "cell_type": "code",
   "execution_count": 2,
   "id": "22588d00-c15d-4829-8329-75428564f0f4",
   "metadata": {},
   "outputs": [
    {
     "name": "stdout",
     "output_type": "stream",
     "text": [
      "<class 'builtin_function_or_method'>\n"
     ]
    }
   ],
   "source": [
    "print(type(sorted))"
   ]
  },
  {
   "cell_type": "markdown",
   "id": "cd564ad1-e687-46c2-a930-615489b435fa",
   "metadata": {},
   "source": [
    "#### Parameter"
   ]
  },
  {
   "cell_type": "code",
   "execution_count": 3,
   "id": "420711e5-6f6c-4e17-b5bb-cbe77cd9f405",
   "metadata": {},
   "outputs": [
    {
     "data": {
      "text/plain": [
       "\u001b[1;31mSignature:\u001b[0m \u001b[0msorted\u001b[0m\u001b[1;33m(\u001b[0m\u001b[0miterable\u001b[0m\u001b[1;33m,\u001b[0m \u001b[1;33m/\u001b[0m\u001b[1;33m,\u001b[0m \u001b[1;33m*\u001b[0m\u001b[1;33m,\u001b[0m \u001b[0mkey\u001b[0m\u001b[1;33m=\u001b[0m\u001b[1;32mNone\u001b[0m\u001b[1;33m,\u001b[0m \u001b[0mreverse\u001b[0m\u001b[1;33m=\u001b[0m\u001b[1;32mFalse\u001b[0m\u001b[1;33m)\u001b[0m\u001b[1;33m\u001b[0m\u001b[1;33m\u001b[0m\u001b[0m\n",
       "\u001b[1;31mDocstring:\u001b[0m\n",
       "Return a new list containing all items from the iterable in ascending order.\n",
       "\n",
       "A custom key function can be supplied to customize the sort order, and the\n",
       "reverse flag can be set to request the result in descending order.\n",
       "\u001b[1;31mType:\u001b[0m      builtin_function_or_method"
      ]
     },
     "metadata": {},
     "output_type": "display_data"
    }
   ],
   "source": [
    "sorted?"
   ]
  },
  {
   "cell_type": "markdown",
   "id": "083ad497-a1ae-4550-95cd-590ff1de4b28",
   "metadata": {},
   "source": [
    "#### return"
   ]
  },
  {
   "cell_type": "code",
   "execution_count": 10,
   "id": "e2ac64d5-4fb3-498b-96e5-04dafb33eefb",
   "metadata": {},
   "outputs": [
    {
     "data": {
      "text/plain": [
       "[]"
      ]
     },
     "execution_count": 10,
     "metadata": {},
     "output_type": "execute_result"
    }
   ],
   "source": [
    "# return: Mit Argumenten --> Liste gilt als EIN Argument\n",
    "liste = sorted([])\n",
    "liste"
   ]
  },
  {
   "cell_type": "code",
   "execution_count": 11,
   "id": "ccc6f9e2-e560-4a2f-b83c-1dd8070fd798",
   "metadata": {},
   "outputs": [
    {
     "data": {
      "text/plain": [
       "['a']"
      ]
     },
     "execution_count": 11,
     "metadata": {},
     "output_type": "execute_result"
    }
   ],
   "source": [
    "liste = sorted(\"a\")\n",
    "liste"
   ]
  },
  {
   "cell_type": "code",
   "execution_count": 16,
   "id": "2be32672-7d1d-4b52-9ee4-bf4310ba1a75",
   "metadata": {},
   "outputs": [
    {
     "data": {
      "text/plain": [
       "[' ', 'G', 'T', 'a', 'e', 'g', 'n', 't', 'u']"
      ]
     },
     "execution_count": 16,
     "metadata": {},
     "output_type": "execute_result"
    }
   ],
   "source": [
    "liste = sorted(\"Guten Tag\")\n",
    "liste"
   ]
  },
  {
   "cell_type": "code",
   "execution_count": 12,
   "id": "5fa25ff3-e623-4db6-9dad-f78b306193f5",
   "metadata": {},
   "outputs": [
    {
     "data": {
      "text/plain": [
       "['a', 'b', 'c']"
      ]
     },
     "execution_count": 12,
     "metadata": {},
     "output_type": "execute_result"
    }
   ],
   "source": [
    "liste = sorted([\"a\",\"c\",\"b\"])\n",
    "liste"
   ]
  },
  {
   "cell_type": "markdown",
   "id": "5f048c44-2c5f-493e-b8f2-7f3d9186c79c",
   "metadata": {},
   "source": [
    "### Error:"
   ]
  },
  {
   "cell_type": "code",
   "execution_count": null,
   "id": "0cca71da-0fe3-4059-9df7-0cc17f2344da",
   "metadata": {},
   "outputs": [],
   "source": []
  },
  {
   "cell_type": "code",
   "execution_count": 6,
   "id": "05eb7cad-6f7b-4264-8444-96b7ba9bde67",
   "metadata": {},
   "outputs": [
    {
     "ename": "TypeError",
     "evalue": "sorted expected 1 argument, got 0",
     "output_type": "error",
     "traceback": [
      "\u001b[1;31m---------------------------------------------------------------------------\u001b[0m",
      "\u001b[1;31mTypeError\u001b[0m                                 Traceback (most recent call last)",
      "Cell \u001b[1;32mIn[6], line 2\u001b[0m\n\u001b[0;32m      1\u001b[0m \u001b[38;5;66;03m# Default return: Ohne Argument => Error\u001b[39;00m\n\u001b[1;32m----> 2\u001b[0m liste \u001b[38;5;241m=\u001b[39m \u001b[38;5;28;43msorted\u001b[39;49m\u001b[43m(\u001b[49m\u001b[43m)\u001b[49m\n\u001b[0;32m      3\u001b[0m liste\n",
      "\u001b[1;31mTypeError\u001b[0m: sorted expected 1 argument, got 0"
     ]
    }
   ],
   "source": [
    "# Default return: Ohne Argument => Error\n",
    "liste = sorted()\n",
    "liste"
   ]
  },
  {
   "cell_type": "code",
   "execution_count": 8,
   "id": "5b90d535-6be2-43e7-adda-f3726e776671",
   "metadata": {},
   "outputs": [
    {
     "ename": "TypeError",
     "evalue": "sorted expected 1 argument, got 3",
     "output_type": "error",
     "traceback": [
      "\u001b[1;31m---------------------------------------------------------------------------\u001b[0m",
      "\u001b[1;31mTypeError\u001b[0m                                 Traceback (most recent call last)",
      "Cell \u001b[1;32mIn[8], line 1\u001b[0m\n\u001b[1;32m----> 1\u001b[0m liste \u001b[38;5;241m=\u001b[39m \u001b[38;5;28;43msorted\u001b[39;49m\u001b[43m(\u001b[49m\u001b[38;5;124;43m\"\u001b[39;49m\u001b[38;5;124;43ma\u001b[39;49m\u001b[38;5;124;43m\"\u001b[39;49m\u001b[43m,\u001b[49m\u001b[38;5;124;43m\"\u001b[39;49m\u001b[38;5;124;43mc\u001b[39;49m\u001b[38;5;124;43m\"\u001b[39;49m\u001b[43m,\u001b[49m\u001b[38;5;124;43m\"\u001b[39;49m\u001b[38;5;124;43mb\u001b[39;49m\u001b[38;5;124;43m\"\u001b[39;49m\u001b[43m)\u001b[49m\n\u001b[0;32m      2\u001b[0m liste\n",
      "\u001b[1;31mTypeError\u001b[0m: sorted expected 1 argument, got 3"
     ]
    }
   ],
   "source": [
    "liste = sorted(\"a\",\"c\",\"b\")\n",
    "liste"
   ]
  },
  {
   "cell_type": "markdown",
   "id": "47705f65-744d-458f-8268-da7aeabb7af1",
   "metadata": {},
   "source": [
    "### Advanced (PCAP)"
   ]
  },
  {
   "cell_type": "markdown",
   "id": "3f3ca68d-4236-48a7-b678-8aa34357d546",
   "metadata": {},
   "source": [
    "`sorted(iterable,` `/, *,` `key=` `None, reverse=False)`"
   ]
  },
  {
   "cell_type": "markdown",
   "id": "07dcfdcd-1c81-4027-b731-954da395eb81",
   "metadata": {},
   "source": [
    "BEACHTET DIE `/, *, key =` NOTATION!!! "
   ]
  },
  {
   "cell_type": "markdown",
   "id": "9b9c239b-18ac-43c3-9d37-849b74d09b47",
   "metadata": {},
   "source": [
    "Wenn da steht `key = ` dann muss man das das KEYWORD `key = Keyword` angeben."
   ]
  },
  {
   "cell_type": "code",
   "execution_count": 5,
   "id": "3dc03c64-7a06-473f-9025-b1841c3f7ded",
   "metadata": {},
   "outputs": [
    {
     "name": "stdout",
     "output_type": "stream",
     "text": [
      "[('Anna', 22), ('Frank', 23), ('Max', 28), ('Laura', 30), ('Tom', 35)]\n"
     ]
    }
   ],
   "source": [
    "people = [\n",
    "    (\"Max\", 28),\n",
    "    (\"Anna\", 22),\n",
    "    (\"Tom\", 35),\n",
    "    (\"Laura\", 30),\n",
    "    (\"Frank\", 23)\n",
    "]\n",
    "\n",
    "# Sortieren nach dem Alter\n",
    "sorted_people = sorted(people, key=lambda person: person[1])\n",
    "\n",
    "print(sorted_people)\n"
   ]
  },
  {
   "cell_type": "markdown",
   "id": "1f201361-88ea-4365-8959-081a4ebda035",
   "metadata": {},
   "source": [
    "## Detailierte Erklärung"
   ]
  },
  {
   "cell_type": "markdown",
   "id": "82c6905d-6b49-4fa3-b711-096562eac082",
   "metadata": {},
   "source": [
    "Die sorted()-Funktion wird verwendet, um eine sortierte Liste aus den Elementen eines iterierbaren Objekts zu erstellen. Im Gegensatz zur Methode sort(), die eine Liste in-place sortiert und dabei das Objekt selbst ändert, gibt sorted() eine neue Liste zurück und lässt das ursprüngliche iterierbare Objekt unverändert."
   ]
  },
  {
   "cell_type": "markdown",
   "id": "37f6317a-8abc-4d91-8d20-0892c9f54bf1",
   "metadata": {},
   "source": [
    "Syntax:\n",
    "\n",
    "`sorted` `(` `Iterable` `)` "
   ]
  },
  {
   "cell_type": "markdown",
   "id": "7c4bd74a-8461-425e-9454-0225a61f542f",
   "metadata": {},
   "source": [
    "`sorted(iterable)` ist eine Funktion die mit ALLEN ITERABLES als erstes Argument funktioniert."
   ]
  },
  {
   "cell_type": "code",
   "execution_count": 200,
   "id": "24a79140-d6cc-42f4-b4aa-0eefb390cdc1",
   "metadata": {
    "tags": []
   },
   "outputs": [
    {
     "data": {
      "text/plain": [
       "['G', 'c', 'h', 'h', 'i', 'm', 'm', 's', 'u', 'u']"
      ]
     },
     "execution_count": 200,
     "metadata": {},
     "output_type": "execute_result"
    }
   ],
   "source": [
    "my_string = \"Gummischuh\"\n",
    "\n",
    "sorted(my_string) # sorted gibt IMMER eine Liste zurück egal welchen Datentyp von Iterable wir nutzen"
   ]
  },
  {
   "cell_type": "markdown",
   "id": "2f76d914-ffb3-4bf1-8b61-003d69f9ddf9",
   "metadata": {},
   "source": [
    "#### Falle!"
   ]
  },
  {
   "cell_type": "code",
   "execution_count": 17,
   "id": "d6aeb299-6fa1-443c-9413-a26e2870ffef",
   "metadata": {},
   "outputs": [
    {
     "data": {
      "text/plain": [
       "['H', 'e', 'l', 'l', 'o']"
      ]
     },
     "execution_count": 17,
     "metadata": {},
     "output_type": "execute_result"
    }
   ],
   "source": [
    "liste = sorted(\"Hello\")\n",
    "liste"
   ]
  },
  {
   "cell_type": "markdown",
   "id": "fa8a8863-3f64-4ae2-80b5-75e685b7cdd0",
   "metadata": {},
   "source": [
    "\"Hello\" ist schon sortiert..."
   ]
  },
  {
   "cell_type": "markdown",
   "id": "9602baa0-55ad-48a1-bbac-af1a9337969b",
   "metadata": {},
   "source": [
    "#### Tuple"
   ]
  },
  {
   "cell_type": "code",
   "execution_count": 201,
   "id": "046111c6-6323-4aac-8451-5f5dea8cd948",
   "metadata": {
    "tags": []
   },
   "outputs": [],
   "source": [
    "my_tuple = 1,2,42,3"
   ]
  },
  {
   "cell_type": "code",
   "execution_count": 202,
   "id": "80eb7c66-8568-4ecc-bbb0-89b7b746fdf4",
   "metadata": {
    "tags": []
   },
   "outputs": [
    {
     "data": {
      "text/plain": [
       "[1, 2, 3, 42]"
      ]
     },
     "execution_count": 202,
     "metadata": {},
     "output_type": "execute_result"
    }
   ],
   "source": [
    "sorted(my_tuple)"
   ]
  },
  {
   "cell_type": "markdown",
   "id": "5f979e30-9db3-4643-a2d2-a25c6a15eac0",
   "metadata": {},
   "source": [
    "Sortiere ein Tuple und speichere es als neues sortiertes Tuple unter gleichem Variablennamen ab."
   ]
  },
  {
   "cell_type": "code",
   "execution_count": 203,
   "id": "5759f01c-ee99-470a-bbbf-d32b6b16b983",
   "metadata": {
    "tags": []
   },
   "outputs": [],
   "source": [
    "my_tuple = tuple(sorted(my_tuple))"
   ]
  },
  {
   "cell_type": "code",
   "execution_count": 204,
   "id": "72fb63a7-1834-4923-b749-d15bb06e3973",
   "metadata": {
    "tags": []
   },
   "outputs": [
    {
     "data": {
      "text/plain": [
       "(1, 2, 3, 42)"
      ]
     },
     "execution_count": 204,
     "metadata": {},
     "output_type": "execute_result"
    }
   ],
   "source": [
    "my_tuple"
   ]
  },
  {
   "cell_type": "markdown",
   "id": "1cdee724-b31c-47a5-9733-7630a349e361",
   "metadata": {},
   "source": [
    "Man kann auch einen String sortieren und als sortierten String speichern. \n",
    "\n"
   ]
  },
  {
   "cell_type": "code",
   "execution_count": 205,
   "id": "12823a0c-fb1d-45fd-a6b8-698d0584a39e",
   "metadata": {
    "tags": []
   },
   "outputs": [
    {
     "data": {
      "text/plain": [
       "'Gummischuh'"
      ]
     },
     "execution_count": 205,
     "metadata": {},
     "output_type": "execute_result"
    }
   ],
   "source": [
    "my_string"
   ]
  },
  {
   "cell_type": "code",
   "execution_count": 206,
   "id": "b575f7b1-32af-4b9b-bffb-4bc992c5c93f",
   "metadata": {
    "tags": []
   },
   "outputs": [
    {
     "data": {
      "text/plain": [
       "['G', 'c', 'h', 'h', 'i', 'm', 'm', 's', 'u', 'u']"
      ]
     },
     "execution_count": 206,
     "metadata": {},
     "output_type": "execute_result"
    }
   ],
   "source": [
    "sorted(my_string)"
   ]
  },
  {
   "cell_type": "code",
   "execution_count": 250,
   "id": "f8f07e82-7268-4425-8ec8-612e29bba284",
   "metadata": {
    "tags": []
   },
   "outputs": [],
   "source": [
    "my_string = \"Gummischuh\""
   ]
  },
  {
   "cell_type": "code",
   "execution_count": 251,
   "id": "a193653c-8f74-42d2-8a05-d4c3e3311e10",
   "metadata": {
    "tags": []
   },
   "outputs": [],
   "source": [
    "my_string = \"\".join(sorted(my_string))"
   ]
  },
  {
   "cell_type": "code",
   "execution_count": 252,
   "id": "31915530-3ce1-4505-bbfc-c6f2a6e91919",
   "metadata": {
    "tags": []
   },
   "outputs": [
    {
     "data": {
      "text/plain": [
       "'Gchhimmsuu'"
      ]
     },
     "execution_count": 252,
     "metadata": {},
     "output_type": "execute_result"
    }
   ],
   "source": [
    "my_string"
   ]
  },
  {
   "cell_type": "markdown",
   "id": "cd045cdb-daeb-47ab-a437-ac0396364de6",
   "metadata": {},
   "source": [
    "Siehe auch: [join](split_und_join.ipynb)"
   ]
  },
  {
   "cell_type": "markdown",
   "id": "c50af0e1-d268-4f16-8db2-c6e5a21ab725",
   "metadata": {},
   "source": [
    "### Verwendung des \"key\" Parameters in sorted"
   ]
  },
  {
   "cell_type": "markdown",
   "id": "d8bdb5ef-2fce-4d79-b804-40c079a5df0f",
   "metadata": {},
   "source": [
    "```python\n",
    "Parameter:\n",
    "\n",
    "sorted(iterable, /, *, key=None, reverse=False)"
   ]
  },
  {
   "cell_type": "markdown",
   "id": "72d8d947-83b7-48f8-a36e-8724ecf7b218",
   "metadata": {},
   "source": [
    "Der Defaultwert für key ist None."
   ]
  },
  {
   "cell_type": "markdown",
   "id": "65ad67c3-1f18-4341-86db-4ab36842e66c",
   "metadata": {},
   "source": [
    "Was macht key?"
   ]
  },
  {
   "cell_type": "markdown",
   "id": "9fc1d097-826d-4e92-843a-81df36334a34",
   "metadata": {},
   "source": [
    "Der Parameter key in der sorted()-Funktion wird verwendet, um eine benutzerdefinierte Sortierung zu ermöglichen. Er erwartet eine Funktion, die auf jedes Element des iterierbaren Objekts angewendet wird und einen Wert zurückgibt, der als Grundlage für die Sortierung dient. Die key-Funktion hilft dabei, spezifische Eigenschaften der Elemente zu vergleichen und somit die Reihenfolge der Sortierung zu bestimmen.\n",
    "\n"
   ]
  },
  {
   "cell_type": "markdown",
   "id": "195537eb-6257-4171-b5c9-4ce8eb46f8ba",
   "metadata": {},
   "source": [
    "Beispiel:"
   ]
  },
  {
   "cell_type": "code",
   "execution_count": 4,
   "id": "77db16cb-f368-4e2f-bf3b-bb07fd901aab",
   "metadata": {},
   "outputs": [
    {
     "name": "stdout",
     "output_type": "stream",
     "text": [
      "['date', 'apple', 'banana', 'cherry']\n"
     ]
    }
   ],
   "source": [
    "# Liste von Strings\n",
    "words = [\"banana\", \"apple\", \"cherry\", \"date\"]\n",
    "\n",
    "# Sortieren der Liste nach der Länge der Strings\n",
    "sorted_words = sorted(words, key=len)\n",
    "\n",
    "print(sorted_words)  # Ausgabe: ['date', 'apple', 'banana', 'cherry']\n"
   ]
  },
  {
   "cell_type": "markdown",
   "id": "d405f6ba-7664-4d45-acbc-e7d29269fee0",
   "metadata": {},
   "source": [
    "Und in diesen Parameter \"key\" lassen sich verschiedenste Funktionen einsetzen um eine bestimmte Sortierung zu bekommen."
   ]
  },
  {
   "cell_type": "code",
   "execution_count": null,
   "id": "0412183f-6c94-442a-82ef-7dccb1a9b562",
   "metadata": {},
   "outputs": [],
   "source": [
    "# Liste von Wörterbüchern\n",
    "personen = [\n",
    "    {\"name\": \"Alice\", \"alter\": 30},\n",
    "    {\"name\": \"Bob\", \"alter\": 25},\n",
    "    {\"name\": \"Charlie\", \"alter\": 35}\n",
    "]\n",
    "\n",
    "# Sortieren der Liste nach dem Alter\n",
    "sorted_personen = sorted(personen, key=lambda person: person['alter'])\n",
    "\n",
    "print(sorted_personen)\n",
    "# Ausgabe: [{'name': 'Bob', 'alter': 25}, {'name': 'Alice', 'alter': 30}, {'name': 'Charlie', 'alter': 35}]\n"
   ]
  },
  {
   "cell_type": "code",
   "execution_count": 8,
   "id": "7ae21be9-21fc-4c59-bf03-a2a0d2d265f4",
   "metadata": {},
   "outputs": [
    {
     "ename": "SyntaxError",
     "evalue": "invalid syntax. Maybe you meant '==' or ':=' instead of '='? (1592156728.py, line 1)",
     "output_type": "error",
     "traceback": [
      "\u001b[1;36m  Cell \u001b[1;32mIn[8], line 1\u001b[1;36m\u001b[0m\n\u001b[1;33m    sorted_words = sorted(words, key= lambda x : letter.capitalize for letter in x if letter == \"a\")\u001b[0m\n\u001b[1;37m                                 ^\u001b[0m\n\u001b[1;31mSyntaxError\u001b[0m\u001b[1;31m:\u001b[0m invalid syntax. Maybe you meant '==' or ':=' instead of '='?\n"
     ]
    }
   ],
   "source": [
    "sorted_words = sorted(words, key= lambda x : letter.capitalize for letter in x if letter == \"a\")\n",
    "sorted_words"
   ]
  },
  {
   "cell_type": "code",
   "execution_count": 13,
   "id": "dd7ffe26-54bd-48f0-8b3e-213e3eab1297",
   "metadata": {},
   "outputs": [
    {
     "data": {
      "text/plain": [
       "['a', 'a', 'a']"
      ]
     },
     "execution_count": 13,
     "metadata": {},
     "output_type": "execute_result"
    }
   ],
   "source": [
    "a = lambda x : [letter for letter in x if letter == \"a\"]\n",
    "a(\"banana\")"
   ]
  },
  {
   "cell_type": "code",
   "execution_count": 14,
   "id": "3ba55a96-3349-4739-b96a-cb19d080c399",
   "metadata": {},
   "outputs": [
    {
     "ename": "TypeError",
     "evalue": "object of type 'function' has no len()",
     "output_type": "error",
     "traceback": [
      "\u001b[1;31m---------------------------------------------------------------------------\u001b[0m",
      "\u001b[1;31mTypeError\u001b[0m                                 Traceback (most recent call last)",
      "Cell \u001b[1;32mIn[14], line 1\u001b[0m\n\u001b[1;32m----> 1\u001b[0m sorted_words \u001b[38;5;241m=\u001b[39m \u001b[38;5;28msorted\u001b[39m(words, key\u001b[38;5;241m=\u001b[39m \u001b[38;5;28;43mlen\u001b[39;49m\u001b[43m(\u001b[49m\u001b[43ma\u001b[49m\u001b[43m)\u001b[49m)\n\u001b[0;32m      2\u001b[0m sorted_words\n",
      "\u001b[1;31mTypeError\u001b[0m: object of type 'function' has no len()"
     ]
    }
   ],
   "source": [
    "sorted_words = sorted(words, key= len(a))\n",
    "sorted_words"
   ]
  },
  {
   "cell_type": "code",
   "execution_count": 15,
   "id": "f084c6b2-06d3-4ecc-9e8e-a01c04c752ad",
   "metadata": {},
   "outputs": [
    {
     "name": "stdout",
     "output_type": "stream",
     "text": [
      "['cherry', 'apple', 'avocado', 'banana']\n"
     ]
    }
   ],
   "source": [
    "# Funktion zur Zählung der Buchstaben \"a\" in einem Wort\n",
    "a = lambda x: sum(1 for letter in x if letter == 'a')\n",
    "\n",
    "# Liste von Wörtern\n",
    "words = [\"banana\", \"apple\", \"cherry\", \"avocado\"]\n",
    "\n",
    "# Sortieren der Liste nach der Anzahl der Buchstaben \"a\" in jedem Wort\n",
    "sorted_words = sorted(words, key=a)\n",
    "\n",
    "print(sorted_words)  # Ausgabe: ['cherry', 'apple', 'avocado', 'banana']\n"
   ]
  },
  {
   "cell_type": "code",
   "execution_count": null,
   "id": "9b73a561-90b9-4d69-bf54-25b0b21d2ecf",
   "metadata": {},
   "outputs": [],
   "source": []
  }
 ],
 "metadata": {
  "kernelspec": {
   "display_name": "Python 3 (ipykernel)",
   "language": "python",
   "name": "python3"
  },
  "language_info": {
   "codemirror_mode": {
    "name": "ipython",
    "version": 3
   },
   "file_extension": ".py",
   "mimetype": "text/x-python",
   "name": "python",
   "nbconvert_exporter": "python",
   "pygments_lexer": "ipython3",
   "version": "3.12.4"
  }
 },
 "nbformat": 4,
 "nbformat_minor": 5
}
