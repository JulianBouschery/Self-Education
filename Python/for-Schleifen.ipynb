{
 "cells": [
  {
   "cell_type": "markdown",
   "id": "b1d2b409-cec2-4cdf-aff3-b903751297e7",
   "metadata": {},
   "source": [
    "[Zurück zum Inhaltsverzeichnis](_Inhaltsverzeichnis_.ipynb)"
   ]
  },
  {
   "cell_type": "markdown",
   "id": "f9e3c7f4-44a8-4615-9fa3-70bb22518d7f",
   "metadata": {},
   "source": [
    "## for-Schleifen und Konstrukte"
   ]
  },
  {
   "cell_type": "markdown",
   "id": "af02caff-bda4-47d0-a1ca-72a0745b950b",
   "metadata": {
    "jp-MarkdownHeadingCollapsed": true
   },
   "source": [
    "### Generelles zur for-Schleifen"
   ]
  },
  {
   "cell_type": "markdown",
   "id": "2d218030-0437-4fb1-a020-56b8cc011307",
   "metadata": {},
   "source": [
    "- Was passiert? (Funktion erklären)\n",
    "- Was ist das? (Definition formulieren)\n",
    "- Warum / Wie funktioniert das? (Hintergründe und Details)\n",
    "  All, das Hand von sehr vielen Beispielen erklären"
   ]
  },
  {
   "cell_type": "markdown",
   "id": "12ae97b3-9e0b-4d77-874c-d57fedc0e434",
   "metadata": {},
   "source": [
    "Bevor wir ins Thema for-Schleifen einsteigen sollten wir einmal die zwei Teile besprechen aus denen eine Schleife besteht:\n",
    "```python\n",
    "for und in\n",
    "```"
   ]
  },
  {
   "cell_type": "markdown",
   "id": "e4d31711-f3f1-4ec1-95d1-af3c10f1e54c",
   "metadata": {},
   "source": [
    "Wir fangen einmal von Hinten an:"
   ]
  },
  {
   "cell_type": "code",
   "execution_count": 8,
   "id": "e8fdb873-c236-41b3-b5aa-705b62f829cf",
   "metadata": {},
   "outputs": [
    {
     "name": "stdout",
     "output_type": "stream",
     "text": [
      "Habs gefunden!\n"
     ]
    }
   ],
   "source": [
    "if \"c\" in \"abcde\":\n",
    "    print(\"Habs gefunden!\")"
   ]
  },
  {
   "cell_type": "markdown",
   "id": "939f0e85-f9b9-4a09-901c-eead9dce1fe7",
   "metadata": {},
   "source": [
    "Wir suchen in dem Iterable \"abcde\" (da kann man drüber laufen) nach dem Substring \"c\".\n",
    "Wenn wir ihn finden evaluiert der Code zu True und der Rest des Codes wird ausgeführt."
   ]
  },
  {
   "cell_type": "markdown",
   "id": "0fe13f32-791e-4262-af49-11a448d10509",
   "metadata": {},
   "source": [
    "Der Code funktioniert in etwa so:\n",
    "`in` läuft Element für Element über den String die \"abcde\" drüber und prüft `Substring` == \"c\" ?\n",
    "```python\n",
    "\"a\" == \"c\" --> False\n",
    "\"b\" == \"c\" --> False\n",
    "\"c\" == \"c\" --> True --> print(\"Habs gefunden!\")\n",
    "```\n",
    "Das ist schon eine Art von Schleife."
   ]
  },
  {
   "cell_type": "markdown",
   "id": "e066b208-47d6-4f6f-9a0d-34dedbf6766b",
   "metadata": {},
   "source": [
    "Nun möchte man mit \"c\" aber noch weiter arebiten. Um die Information \"c\" (den Literal / die Daten selbst) aus dem String \"abcde\" weiterverwenden zu können, speichert man sie in einer Variable wischen und dafür ist `for` da."
   ]
  },
  {
   "cell_type": "markdown",
   "id": "07b90d20-85ba-41d0-a4d0-22e66c5d3915",
   "metadata": {},
   "source": [
    "Für JEDEN Buchstaben in \"abcde\" print(\"Habs gefunden!\")\n",
    "```python\n",
    "for x in \"abcde\":\n",
    "    print(\"Habs gefunden!\")\n",
    "```"
   ]
  },
  {
   "cell_type": "code",
   "execution_count": 13,
   "id": "9de433cf-d295-4d35-8ce0-e98a99ad4188",
   "metadata": {},
   "outputs": [
    {
     "name": "stdout",
     "output_type": "stream",
     "text": [
      "Habs gefunden!\n",
      "Habs gefunden!\n",
      "Habs gefunden!\n",
      "Habs gefunden!\n",
      "Habs gefunden!\n"
     ]
    }
   ],
   "source": [
    "for x in \"abcde\":\n",
    "    print(\"Habs gefunden!\")    "
   ]
  },
  {
   "cell_type": "markdown",
   "id": "0106a809-2d02-420e-941e-d1ebebb1cca9",
   "metadata": {},
   "source": [
    "Und jetzt kann man \"abcde\" noch in eine Variable packen und dieser Variable jeden möglichen Iterable zuweisen. Alles wo die Schleife drüber laufen kann... "
   ]
  },
  {
   "cell_type": "code",
   "execution_count": 22,
   "id": "b04ce558-0e49-4096-bae2-9f62528403c2",
   "metadata": {},
   "outputs": [
    {
     "name": "stdout",
     "output_type": "stream",
     "text": [
      "1 1 1 1 1 2 2 2 2 2 3 3 3 3 3 "
     ]
    }
   ],
   "source": [
    "# String\n",
    "y = \"abcde\"\n",
    "for x in y:\n",
    "    print(\"1\", end = \" \")  \n",
    "# liste    \n",
    "y = [\"a\",\"b\",\"c\",\"d\",\"e\"]\n",
    "for x in y:\n",
    "    print(\"2\", end = \" \") \n",
    "# Tuple\n",
    "y = \"a\",\"b\",\"c\",\"d\",\"e\"\n",
    "for x in y:\n",
    "    print(\"3\", end = \" \")  \n"
   ]
  },
  {
   "cell_type": "markdown",
   "id": "7e8bc186-df8f-454f-928b-c4ff3d2bd062",
   "metadata": {},
   "source": [
    "[for-Schleifen in Pythontutor](https://pythontutor.com/visualize.html#code=rangy%20%3D%20list%28range%285%29%29%0Afor%20i%20in%20range%285%29%3A%0A%20%20%20%20x%20%3D%20i*%22*%22%20%0A%20%20%20%20check1%20%3D%20len%28x%29%0A%20%20%20%20check2%20%3D%20len%28x%29%253%0A%20%20%20%20check3%20%3D%20len%28x%29%253%20%3D%3D%201%0A%20%20%20%20%0A%20%20%20%20if%20len%28x%29%253%3D%3D1%3A%0A%20%20%20%20%20%20%20%20print%28x%29&cumulative=false&heapPrimitives=nevernest&mode=edit&origin=opt-frontend.js&py=311&rawInputLstJSON=%5B%5D&textReferences=false)"
   ]
  },
  {
   "cell_type": "markdown",
   "id": "ae4e963e-6532-40d5-ae61-4c658a28e7ed",
   "metadata": {
    "jp-MarkdownHeadingCollapsed": true
   },
   "source": [
    "### for-Schleife mit if/else:"
   ]
  },
  {
   "cell_type": "code",
   "execution_count": 83,
   "id": "4eb2aa54-2d17-4c24-bd40-d2250b19747d",
   "metadata": {},
   "outputs": [
    {
     "name": "stdout",
     "output_type": "stream",
     "text": [
      "1 ist eine ungerade Zahl.\n",
      "2 ist eine gerade Zahl.\n",
      "3 ist eine ungerade Zahl.\n",
      "4 ist eine gerade Zahl.\n",
      "5 ist eine ungerade Zahl.\n"
     ]
    }
   ],
   "source": [
    "zahlen = [1, 2, 3, 4, 5]\n",
    "\n",
    "for zahl in zahlen:\n",
    "    if zahl % 2 == 0:\n",
    "        print(zahl, \"ist eine gerade Zahl.\")\n",
    "    else:\n",
    "        print(zahl, \"ist eine ungerade Zahl.\")"
   ]
  },
  {
   "cell_type": "markdown",
   "id": "bb11be1e-41a0-4560-af4f-6eb2e14b37e9",
   "metadata": {
    "jp-MarkdownHeadingCollapsed": true
   },
   "source": [
    "### for-Schleife mit if/elif/else:"
   ]
  },
  {
   "cell_type": "code",
   "execution_count": 82,
   "id": "0bec1b1e-41f2-43f3-be1f-0426ae5b1982",
   "metadata": {},
   "outputs": [
    {
     "name": "stdout",
     "output_type": "stream",
     "text": [
      "1 ist weder durch 2 noch durch 3 teilbar.\n",
      "2 ist eine gerade Zahl.\n",
      "3 ist durch 3 teilbar.\n",
      "4 ist eine gerade Zahl.\n",
      "5 ist weder durch 2 noch durch 3 teilbar.\n"
     ]
    }
   ],
   "source": [
    "zahlen = [1, 2, 3, 4, 5]\n",
    "\n",
    "for zahl in zahlen:\n",
    "    if zahl % 2 == 0:\n",
    "        print(zahl, \"ist eine gerade Zahl.\")\n",
    "    elif zahl % 3 == 0:\n",
    "        print(zahl, \"ist durch 3 teilbar.\")\n",
    "    else:\n",
    "        print(zahl, \"ist weder durch 2 noch durch 3 teilbar.\")"
   ]
  },
  {
   "cell_type": "markdown",
   "id": "60f4fcce-562b-4517-bd04-c6ce8ea251d5",
   "metadata": {
    "jp-MarkdownHeadingCollapsed": true
   },
   "source": [
    "### for-Schleife mit range:"
   ]
  },
  {
   "cell_type": "markdown",
   "id": "d47f772b-b87a-4032-a930-2bd3633b87a9",
   "metadata": {},
   "source": [
    "**Beispiel 1**"
   ]
  },
  {
   "cell_type": "code",
   "execution_count": 25,
   "id": "62f3ec23-9b2e-46f7-bf2e-a6c2489adb25",
   "metadata": {},
   "outputs": [
    {
     "name": "stdout",
     "output_type": "stream",
     "text": [
      "1 2 3 4 5 "
     ]
    }
   ],
   "source": [
    "for zahl in range(1, 6): # range \"produziert\" die Ganzzahlen hier von 1, ...10\n",
    "    print(zahl, end = \" \")"
   ]
  },
  {
   "cell_type": "markdown",
   "id": "19f8e5d5-4ee8-4319-a920-ac833a9204ba",
   "metadata": {},
   "source": [
    "**Beispiel 2**"
   ]
  },
  {
   "cell_type": "code",
   "execution_count": 26,
   "id": "14bee87a-90b6-4d35-9f77-38b428503b9f",
   "metadata": {},
   "outputs": [
    {
     "name": "stdout",
     "output_type": "stream",
     "text": [
      "1 Wo taucht dieser Text auf?\n",
      "2 Wo taucht dieser Text auf?\n",
      "3 Wo taucht dieser Text auf?\n"
     ]
    }
   ],
   "source": [
    "# Frage\n",
    "for zahl in range(1,4):# range \"produziert\" die Ganzzahlen hier von 1, ..4\n",
    "    print(zahl, end = \" \")\n",
    "    print(\"Wo taucht dieser Text auf?\") "
   ]
  },
  {
   "cell_type": "markdown",
   "id": "137392d3-e890-4e13-85f0-689beeeb328c",
   "metadata": {},
   "source": [
    "Der Text taucht HINTER der Zahl auf, weil in der oberen Zeile end = \" \" ist, aber in drei getrennten Zeilen, weil hinter dem ? unsichtbar end = \\n als Default-Wert steht."
   ]
  },
  {
   "cell_type": "markdown",
   "id": "230b4332-d146-4204-b8cf-f6705fe97560",
   "metadata": {},
   "source": [
    "**Beispiel 3**"
   ]
  },
  {
   "cell_type": "markdown",
   "id": "1d83036b-557c-4814-80a5-8571e86bc533",
   "metadata": {},
   "source": [
    "**Häuftiger Fehler:**"
   ]
  },
  {
   "cell_type": "markdown",
   "id": "e82e70bc-b461-4ebd-947f-875365f13cac",
   "metadata": {},
   "source": [
    "Berechne die Summe der ersten zehn natürlichen Zahlen 1 bis 10 mithilfe einer for-Schleife."
   ]
  },
  {
   "cell_type": "code",
   "execution_count": 32,
   "id": "91c75fb5-fd2a-465d-a511-aa8f609548d1",
   "metadata": {},
   "outputs": [
    {
     "name": "stdout",
     "output_type": "stream",
     "text": [
      "55\n"
     ]
    }
   ],
   "source": [
    "# RICHTIG\n",
    "summe = 0\n",
    "for i in range(1,11):\n",
    "    summe += i \n",
    "print(summe)"
   ]
  },
  {
   "cell_type": "code",
   "execution_count": 33,
   "id": "41c29dfe-4853-431b-bdf7-77216769718d",
   "metadata": {},
   "outputs": [
    {
     "name": "stdout",
     "output_type": "stream",
     "text": [
      "10\n"
     ]
    }
   ],
   "source": [
    "# FALSCH\n",
    "for i in range(1,11):\n",
    "    summe = 0\n",
    "    summe += i \n",
    "print(summe)"
   ]
  },
  {
   "cell_type": "markdown",
   "id": "ac53bd8f-f1cf-4c0f-945a-710f5b45763d",
   "metadata": {},
   "source": [
    "Warum kommt hier die 10 raus?\n",
    "Jedes mal wenn die Schleife durchläuft wird `summe` wieder auf Null gesetzt.\n",
    "`i` wird zwar größer, weil die `range` hoch zählt, aber es wird eben nur zu Null addiert. [Link Pythontutor](https://pythontutor.com/render.html#code=for%20i%20in%20range%281,11%29%3A%0A%20%20%20%20summe%20%3D%200%0A%20%20%20%20summe%20%2B%3D%20i%20%0Aprint%28summe%29%0A&cumulative=false&curInstr=32&heapPrimitives=nevernest&mode=display&origin=opt-frontend.js&py=3&rawInputLstJSON=%5B%5D&textReferences=false) "
   ]
  },
  {
   "cell_type": "code",
   "execution_count": 32,
   "id": "f7617e28-46e2-4015-80d3-1e446d266bbc",
   "metadata": {},
   "outputs": [
    {
     "name": "stdout",
     "output_type": "stream",
     "text": [
      "[1, 2, 3]\n"
     ]
    }
   ],
   "source": [
    "# RICHTIG\n",
    "liste = []\n",
    "\n",
    "for i in range(1,4): # Die for-Schleife iteriert über die Range drüber und append fügt  jedesmal i in die neue Liste\n",
    "    liste.append(i)\n",
    "print(liste)"
   ]
  },
  {
   "cell_type": "code",
   "execution_count": 31,
   "id": "b48b668e-efde-4aca-9d89-6cb9baa4eabc",
   "metadata": {},
   "outputs": [
    {
     "name": "stdout",
     "output_type": "stream",
     "text": [
      "[3]\n"
     ]
    }
   ],
   "source": [
    "# FEHLER\n",
    "\n",
    "for i in range(1,4):\n",
    "    liste = []      # Wenn die Liste IN der for-Schleife steht, wird bei JEDEM durchgang der for-Schleife \n",
    "    liste.append(i) # eine NEUE Liste aufgemacht und die alte überschrieben.\n",
    "print(liste)"
   ]
  },
  {
   "cell_type": "markdown",
   "id": "8e259411-6fe3-4dfd-9181-cfccdcf1ffe7",
   "metadata": {
    "jp-MarkdownHeadingCollapsed": true
   },
   "source": [
    "### for-Schleife mit range in Kombination mit len(Liste):"
   ]
  },
  {
   "cell_type": "code",
   "execution_count": 97,
   "id": "9edbc126-f33e-4b01-ab93-066133c4194d",
   "metadata": {},
   "outputs": [
    {
     "name": "stdout",
     "output_type": "stream",
     "text": [
      "0\n",
      "1\n",
      "2\n",
      "3\n",
      "4\n",
      "5\n"
     ]
    }
   ],
   "source": [
    "liste = [1,2,3,4,5,6]\n",
    "\n",
    "for i in range (len(liste)):\n",
    "    print(i)"
   ]
  },
  {
   "cell_type": "markdown",
   "id": "e0372d11-970f-4443-a5a3-970569e93842",
   "metadata": {
    "jp-MarkdownHeadingCollapsed": true
   },
   "source": [
    "### for-Schleife mit range und if/else:"
   ]
  },
  {
   "cell_type": "code",
   "execution_count": 80,
   "id": "6790cf0e-d353-40d2-aed5-e4edd9d0d1c9",
   "metadata": {},
   "outputs": [
    {
     "name": "stdout",
     "output_type": "stream",
     "text": [
      "1 ist eine ungerade Zahl.\n",
      "2 ist eine gerade Zahl.\n",
      "3 ist eine ungerade Zahl.\n",
      "4 ist eine gerade Zahl.\n",
      "5 ist eine ungerade Zahl.\n"
     ]
    }
   ],
   "source": [
    "for zahl in range(1, 6):\n",
    "    if zahl % 2 == 0:\n",
    "        print(zahl, \"ist eine gerade Zahl.\")\n",
    "    else:\n",
    "        print(zahl, \"ist eine ungerade Zahl.\")"
   ]
  },
  {
   "cell_type": "markdown",
   "id": "1e2f1f9c-94b6-429d-bea2-26695039db96",
   "metadata": {
    "jp-MarkdownHeadingCollapsed": true
   },
   "source": [
    "### for-Schleife mit range und if/elif/else:"
   ]
  },
  {
   "cell_type": "code",
   "execution_count": 81,
   "id": "5bd7cd63-d354-49c8-9c06-6c2258984a02",
   "metadata": {
    "scrolled": true
   },
   "outputs": [
    {
     "name": "stdout",
     "output_type": "stream",
     "text": [
      "1 ist weder durch 2 noch durch 3 teilbar.\n",
      "2 ist eine gerade Zahl.\n",
      "3 ist durch 3 teilbar.\n",
      "4 ist eine gerade Zahl.\n",
      "5 ist weder durch 2 noch durch 3 teilbar.\n"
     ]
    }
   ],
   "source": [
    "for zahl in range(1, 6):\n",
    "    if zahl % 2 == 0:\n",
    "        print(zahl, \"ist eine gerade Zahl.\")\n",
    "    elif zahl % 3 == 0:\n",
    "        print(zahl, \"ist durch 3 teilbar.\")\n",
    "    else:\n",
    "        print(zahl, \"ist weder durch 2 noch durch 3 teilbar.\")"
   ]
  },
  {
   "cell_type": "markdown",
   "id": "c01c5416-87f0-4531-8f83-efea7a889aeb",
   "metadata": {
    "jp-MarkdownHeadingCollapsed": true
   },
   "source": [
    "### Doppelte for-Schleife (PCAP)"
   ]
  },
  {
   "cell_type": "code",
   "execution_count": null,
   "id": "fe40d8e4-ff7b-449b-901c-67c113385683",
   "metadata": {},
   "outputs": [],
   "source": [
    "def zippy_nachbauen(*mein_iterables): \n",
    "    \"\"\" Hier nachbau geht im Moment nur für exakt 3 iterables\"\"\"\n",
    "    rangy = len(min(mein_iterables, key = lambda x: len(x)))\n",
    "   \n",
    "    result_list = [] \n",
    "    \n",
    "    for index in range(rangy):# 0,1,2 \n",
    "        inner_tuple = ()\n",
    "        for iterable in mein_iterables: # names, cities ,gehälter\n",
    "            inner_tuple +=(iterable[index],)\n",
    "        result_list.append(inner_tuple)\n",
    "       \n",
    "    return result_list\n",
    "    \n",
    "\n",
    "names =  \"Anna\", \"Berta\", \"Charlie\"\n",
    "cities = \"Aschaffenburg\", \"Berlin\", \"Chemnitz\", \"Detmold\", \"Essen\"\n",
    "gehälter = 1000, 2000, 3000\n",
    "\n",
    "zippy_nachbauen(names,cities, gehälter)"
   ]
  },
  {
   "cell_type": "markdown",
   "id": "490234c1-1c79-4a50-af29-f83c38480654",
   "metadata": {},
   "source": [
    "[Erklärung Pythontutor](https://pythontutor.com/render.html#code=def%20zippy_nachbauen%28*mein_iterables%29%3A%20%0A%20%20%20%20%22%22%22%20Hier%20nachbau%20geht%20im%20Moment%20nur%20f%C3%BCr%20exakt%203%20iterables%22%22%22%0A%20%20%20%20rangy%20%3D%20len%28min%28mein_iterables,%20key%20%3D%20lambda%20x%3A%20len%28x%29%29%29%0A%20%20%20%0A%20%20%20%20result_list%20%3D%20%5B%5D%20%0A%20%20%20%20%0A%20%20%20%20for%20index%20in%20range%28rangy%29%3A%23%200,1,2%20%0A%20%20%20%20%20%20%20%20inner_tuple%20%3D%20%28%29%0A%20%20%20%20%20%20%20%20for%20iterable%20in%20mein_iterables%3A%20%23%20names,%20cities%20,geh%C3%A4lter%0A%20%20%20%20%20%20%20%20%20%20%20%20inner_tuple%20%2B%3D%28iterable%5Bindex%5D,%29%0A%20%20%20%20%20%20%20%20result_list.append%28inner_tuple%29%0A%20%20%20%20%20%20%20%0A%20%20%20%20return%20result_list%0A%20%20%20%20%0A%0Anames%20%3D%20%20%22Anna%22,%20%22Berta%22,%20%22Charlie%22%0Acities%20%3D%20%22Aschaffenburg%22,%20%22Berlin%22,%20%22Chemnitz%22,%20%22Detmold%22,%20%22Essen%22%0Ageh%C3%A4lter%20%3D%201000,%202000,%203000%0A%0Azippy_nachbauen%28names,cities,%20geh%C3%A4lter%29&cumulative=false&curInstr=47&heapPrimitives=nevernest&mode=display&origin=opt-frontend.js&py=311&rawInputLstJSON=%5B%5D&textReferences=false)"
   ]
  },
  {
   "cell_type": "markdown",
   "id": "d90cb7c9-5a9a-4d54-9308-7341d59f1ce9",
   "metadata": {},
   "source": [
    "[Erklärung Pythotutor (vereinfacht)](https://pythontutor.com/render.html#code=def%20zippy_nachbauen%28*mein_iterables%29%3A%20%0A%20%20%20%20%0A%20%20%20%20for%20index%20in%20range%283%29%3A%23%200,1,2%20%0A%20%20%20%20%20%20%20%20%0A%20%20%20%20%20%20%20%20for%20iterable%20in%20mein_iterables%3A%20%23%20names,%20cities%20,geh%C3%A4lter%0A%20%20%20%20%20%20%20%20%20%20%20%20print%28iterable%5Bindex%5D,%20end%20%3D%20%22%22%29%0A%20%20%20%20%20%20%20%20%0A%20%20%20%20%20%20%20%20print%28%29%0A%20%20%20%20%20%20%20%0A%0Anames%20%3D%20%20%22Anna%22,%20%22Berta%22,%20%22Charlie%22%0Acities%20%3D%20%22Aschaffenburg%22,%20%22Berlin%22,%20%22Chemnitz%22,%20%22Detmold%22,%20%22Essen%22%0Ageh%C3%A4lter%20%3D%201000,%202000,%203000%0A%0Azippy_nachbauen%28names,cities,%20geh%C3%A4lter%29&cumulative=false&curInstr=32&heapPrimitives=nevernest&mode=display&origin=opt-frontend.js&py=311&rawInputLstJSON=%5B%5D&textReferences=false)"
   ]
  },
  {
   "cell_type": "code",
   "execution_count": null,
   "id": "4f2ae7b9-34bd-44cb-99dd-a4baea8e8260",
   "metadata": {},
   "outputs": [],
   "source": []
  },
  {
   "cell_type": "code",
   "execution_count": null,
   "id": "985a9392-249e-4273-ac39-6c40ea56a3dc",
   "metadata": {},
   "outputs": [],
   "source": []
  },
  {
   "cell_type": "code",
   "execution_count": null,
   "id": "ea40f2e7-9c4a-48ed-adb7-df01f122d3a9",
   "metadata": {},
   "outputs": [],
   "source": []
  }
 ],
 "metadata": {
  "kernelspec": {
   "display_name": "Python 3 (ipykernel)",
   "language": "python",
   "name": "python3"
  },
  "language_info": {
   "codemirror_mode": {
    "name": "ipython",
    "version": 3
   },
   "file_extension": ".py",
   "mimetype": "text/x-python",
   "name": "python",
   "nbconvert_exporter": "python",
   "pygments_lexer": "ipython3",
   "version": "3.12.3"
  }
 },
 "nbformat": 4,
 "nbformat_minor": 5
}
