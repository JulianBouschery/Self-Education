{
 "cells": [
  {
   "cell_type": "markdown",
   "id": "624235e0-f281-49ce-a989-5690181b9b10",
   "metadata": {},
   "source": [
    "# Variablen in der OOP"
   ]
  },
  {
   "cell_type": "markdown",
   "id": "050c09e6-1b86-4e34-94a1-21222c6ff0ef",
   "metadata": {},
   "source": [
    "## Übersicht der wichtigsten Variablen"
   ]
  },
  {
   "cell_type": "markdown",
   "id": "1a55ec34-caa9-4ffd-b0ca-e0362d260fbc",
   "metadata": {},
   "source": [
    "[Instanzvariable](inst_var.ipynb)"
   ]
  },
  {
   "cell_type": "markdown",
   "id": "36df55b3-9b87-44fe-bc7f-04bf493e9bd5",
   "metadata": {},
   "source": [
    "[Klassenvariable](class_var.ipynb)"
   ]
  },
  {
   "cell_type": "markdown",
   "id": "95c75d27-03d3-42d9-b5ba-d38ff74d90ff",
   "metadata": {},
   "source": [
    "[private Variable / Name Mangeling](Name_Mangeling.ipynb)"
   ]
  },
  {
   "cell_type": "markdown",
   "id": "1dadcf38-a897-433e-91cd-ba59c1dde52a",
   "metadata": {},
   "source": [
    "[`__bases__`](b__bases__.ipynb)"
   ]
  },
  {
   "cell_type": "markdown",
   "id": "7eacc7f2-6763-4c92-921f-a6836dcde92b",
   "metadata": {},
   "source": [
    "[`__class__`](c__class__.ipynb)"
   ]
  },
  {
   "cell_type": "markdown",
   "id": "b1db0e5e-d1b8-4d98-a2bf-700c082c47b5",
   "metadata": {},
   "source": [
    "[`__dict__`](d__dict__.ipynb)"
   ]
  },
  {
   "cell_type": "markdown",
   "id": "8742d8f3-09cb-4967-9901-386b9986be8e",
   "metadata": {},
   "source": [
    "[`__module__`](m__module__.ipynb)"
   ]
  },
  {
   "cell_type": "markdown",
   "id": "d61477c8-6ac6-4d90-83fd-e1796fee22e5",
   "metadata": {},
   "source": [
    "[`__name__`](n__name__.ipynb)"
   ]
  },
  {
   "cell_type": "markdown",
   "id": "f0d1e50b-80a0-4a87-8d78-8bb534cd33d2",
   "metadata": {},
   "source": [
    "## Zusammenfassung"
   ]
  },
  {
   "cell_type": "markdown",
   "id": "3bc4a6d1-60f8-47ee-a5c1-31d0407d9ada",
   "metadata": {},
   "source": [
    "\n",
    "Auf jede Klasse oder Objektkomponente (entweder eine Methode oder eine Eigenschaft) muss mit der Dot Notation zugegriffen werden (z.B. the_object.component).\n",
    "\n",
    "Python-Objekte werden bei ihrer Erstellung mit einer kleinen Anzahl von vordefinierten Eigenschaften und Methoden ausgestattet. Eine davon ist eine Variable mit dem Namen `__dict__` (es handelt sich um ein Wörterbuch). Die Variable enthält die Namen und Werte aller Eigenschaften (Variablen), die das Objekt derzeit besitzt.\n",
    "\n",
    "Jede Klasse (nicht Objekt!) ist mit einer String-Variablen namens `__name__` ausgestattet, die den Namen der Klasse selbst enthält, und mit einem Tupel namens `__bases__`, das Klassen (nicht Klassennamen!) enthält, die direkte Oberklassen der Klasse sind.\n",
    "\n",
    "Alle Klassen und Objekte haben eine String-Variable namens `__module__`, die den Namen des Moduls speichert, das die Definition der Klasse enthält.\n"
   ]
  },
  {
   "cell_type": "markdown",
   "id": "a38e9949-d121-4015-a63c-8eba10c5b775",
   "metadata": {},
   "source": [
    "Eine Klassenvariable ist eine Eigenschaft, die nur in einer Kopie existiert und außerhalb eines Objekts gespeichert wird. Klassenvariablen werden nicht im __dict__-Dictionary eines Objekts angezeigt - sie sind im __dict__-Dictionary der Klasse zu finden. Denken Sie daran, dass eine Klassenvariable immer den gleichen Wert in allen Klasseninstanzen (Objekten) hat.\n",
    "\n",
    "Eine Variable (entweder eine Klasse oder eine Instanz) wird privat (unzugänglich direkt von außerhalb der Klasse/des Objekts), wenn ihr Name mit zwei Unterstrichen (___) beginnt. Eine solche Variable kann durch einen Mechanismus namens \"name mangling\" wieder sichtbar gemacht werden. Zum Beispiel kann auf eine Eigenschaft mit dem Namen __property, die innerhalb eines Objekts mit dem Namen the_object definiert ist, das eine Instanz der Klasse TheClass ist, direkt zugegriffen werden als:"
   ]
  },
  {
   "cell_type": "code",
   "execution_count": null,
   "id": "9f578039-9019-4e99-bcfb-b6f3c5936b87",
   "metadata": {},
   "outputs": [],
   "source": []
  }
 ],
 "metadata": {
  "kernelspec": {
   "display_name": "Python 3 (ipykernel)",
   "language": "python",
   "name": "python3"
  },
  "language_info": {
   "codemirror_mode": {
    "name": "ipython",
    "version": 3
   },
   "file_extension": ".py",
   "mimetype": "text/x-python",
   "name": "python",
   "nbconvert_exporter": "python",
   "pygments_lexer": "ipython3",
   "version": "3.12.4"
  }
 },
 "nbformat": 4,
 "nbformat_minor": 5
}
