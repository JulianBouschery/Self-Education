{
 "cells": [
  {
   "cell_type": "markdown",
   "id": "91dbf1a6-74ce-4ee7-bbac-23ab113d4701",
   "metadata": {},
   "source": [
    "# Encapsulation"
   ]
  },
  {
   "cell_type": "markdown",
   "id": "1f8d8a69-1936-4576-bdbd-b58f75c3a835",
   "metadata": {},
   "source": [
    "Siehe auch [Dekoratoren]()"
   ]
  },
  {
   "cell_type": "markdown",
   "id": "ab057994-b1c9-4c0b-9f37-743ec4b2edaa",
   "metadata": {},
   "source": [
    "## Überblick"
   ]
  },
  {
   "cell_type": "markdown",
   "id": "746615b2-95a7-4714-ac67-98106a8e79dd",
   "metadata": {},
   "source": [
    "## Detailierte Erklärung"
   ]
  },
  {
   "cell_type": "markdown",
   "id": "ad555ca6-e2db-4bee-b59d-65f1fae662a3",
   "metadata": {},
   "source": [
    "### Schritt 1"
   ]
  },
  {
   "cell_type": "markdown",
   "id": "92446d2a-10ca-498d-aced-9c9a117e6cfc",
   "metadata": {},
   "source": [
    "Die Kapselung ist eines der grundlegenden Konzepte der objektorientierten Programmierung (neben Vererbung, Polymorphie und Abstraktion). Es beschreibt die Idee der Bündelung von Attributen und Methoden, die mit diesen Attributen arbeiten, innerhalb einer Klasse.\n",
    "\n",
    "Die Kapselung wird verwendet, um die Attribute innerhalb einer Klasse **wie in einer Kapsel zu verstecken** und so den direkten Zugriff von Unbefugten zu verhindern. In der Klasse werden öffentlich zugängliche **Methoden für den Zugriff** auf die Werte bereitgestellt, und andere Objekte rufen diese Methoden auf, um die Werte innerhalb des Objekts abzurufen und zu ändern. Auf diese Weise lässt sich ein gewisses Maß an Privatsphäre für die Attribute durchsetzen."
   ]
  },
  {
   "cell_type": "markdown",
   "id": "abcb6cb0-b00e-40d2-aa5b-c818a570df2c",
   "metadata": {},
   "source": [
    "Dieses Bild veranschaulicht die Idee: \n",
    "![Encapulation als Bild](Encapsulation.png)"
   ]
  },
  {
   "cell_type": "markdown",
   "id": "79b9e201-0979-42de-8a7d-aaefe20db18c",
   "metadata": {},
   "source": [
    "Ein direkter Zugriff auf die Objektattribute sollte nicht möglich sein, aber man kann immer Methoden aufrufen, die wie Proxys wirken, um bestimmte Aktionen mit den Attributen durchzuführen.\n",
    "\n",
    "Python führt das Konzept der Eigenschaften ein, die wie Proxys für gekapselte Attribute fungieren.\n",
    "\n",
    "Dieses Konzept hat einige interessante Eigenschaften:\n",
    "\n",
    "Der Code, der die Proxy-Methoden aufruft, erkennt möglicherweise nicht, ob er mit den echten Attributen \"spricht\" oder mit den Methoden, die den Zugriff auf die Attribute kontrollieren;\n",
    "In Python können Sie Ihre Klassenimplementierung von einer Klasse, die einen einfachen und direkten Zugriff auf Attribute ermöglicht, zu einer Klasse ändern, die den Zugriff auf die Attribute vollständig kontrolliert, und - was am wichtigsten ist - die Implementierung des Verbrauchers muss nicht geändert werden; unter Verbraucher verstehen wir jemanden oder etwas (es könnte ein Legacy-Code sein), der Ihre Objekte nutzt."
   ]
  },
  {
   "cell_type": "code",
   "execution_count": null,
   "id": "9dafe0ca-47c1-4805-829e-9b81cb473ba7",
   "metadata": {},
   "outputs": [],
   "source": [
    "class TankError(Exception):\n",
    "    pass\n",
    "\n",
    "\n",
    "class Tank:\n",
    "    def __init__(self, capacity):\n",
    "        self.capacity = capacity\n",
    "        self.__level = 0\n",
    "\n",
    "    @property\n",
    "    def level(self):\n",
    "        return self.__level\n",
    "\n",
    "    @level.setter\n",
    "    def level(self, amount):\n",
    "        if amount > 0:\n",
    "            # fueling\n",
    "            if amount <= self.capacity:\n",
    "                self.__level = amount\n",
    "            else:\n",
    "                raise TankError('Too much liquid in the tank')\n",
    "        elif amount < 0:\n",
    "            raise TankError('Not possible to set negative liquid level')\n",
    "\n",
    "    @level.deleter\n",
    "    def level(self):\n",
    "        if self.__level > 0:\n",
    "            print('It is good to remember to sanitize the remains from the tank!')\n",
    "        self.__level = None\n"
   ]
  },
  {
   "cell_type": "markdown",
   "id": "98ba5945-b2da-4499-bc2e-7b3388ee438c",
   "metadata": {},
   "source": [
    "### Schritt 2"
   ]
  },
  {
   "cell_type": "markdown",
   "id": "962b6e86-4f89-4a7e-bd02-8dc515681798",
   "metadata": {},
   "source": [
    "Python ermöglicht es Ihnen, den Zugriff auf Attribute mit der eingebauten Funktion property() und dem entsprechenden Dekorator @property zu steuern.\n",
    "\n",
    "Dieser Dekorator spielt eine sehr wichtige Rolle:\n",
    "\n",
    "Er bezeichnet eine Methode, die automatisch aufgerufen wird, wenn ein anderes Objekt den gekapselten Attributwert lesen will;\n",
    "der Name der bezeichneten Methode wird als Name des Instanzattributs verwendet, das dem gekapselten Attribut entspricht;\n",
    "sie sollte vor der Methode definiert werden, die für das Setzen des Wertes des gekapselten Attributs verantwortlich ist, und vor der Methode, die für das Löschen des gekapselten Attributs verantwortlich ist.\n",
    "Werfen wir einen Blick auf den Code im Editor.\n",
    "\n",
    "Wir sehen, dass jedes Tank-Klassenobjekt ein __level-Attribut hat, und die Klasse liefert die Methoden, die für den Zugriff auf dieses Attribut zuständig sind.\n",
    "\n",
    "Die mit @property dekorierte Methode ist eine Methode, die aufgerufen wird, wenn ein anderer Code den Flüssigkeitsstand in unserem Tank auslesen möchte. Wir nennen eine solche Lesemethode Getter.\n",
    "\n",
    "Achten Sie darauf, dass die Methode nach dem Dekorator dem Attribut den Namen (tank) gibt, der außerhalb der Klasse sichtbar ist. Außerdem sehen wir, dass zwei andere Methoden den gleichen Namen haben, aber da wir speziell angefertigte Dekoratoren verwenden, um sie zu unterscheiden, wird dies keine Probleme verursachen:\n",
    "\n",
    "@tank.setter() - bezeichnet die Methode, die zum Setzen des Wertes des gekapselten Attributs aufgerufen wird;\n",
    "@tank.deleter() - bezeichnet die Methode, die aufgerufen wird, wenn ein anderer Code das gekapselte Attribut löschen will."
   ]
  },
  {
   "cell_type": "code",
   "execution_count": null,
   "id": "eb4cb51e-3eae-4125-b65e-3164c0357cc5",
   "metadata": {},
   "outputs": [],
   "source": [
    "class TankError(Exception):\n",
    "    pass\n",
    "\n",
    "\n",
    "class Tank:\n",
    "    def __init__(self, capacity):\n",
    "        self.capacity = capacity\n",
    "        self.__level = 0\n",
    "\n",
    "    @property\n",
    "    def level(self):\n",
    "        return self.__level\n",
    "\n",
    "    @level.setter\n",
    "    def level(self, amount):\n",
    "        if amount > 0:\n",
    "            # fueling\n",
    "            if amount <= self.capacity:\n",
    "                self.__level = amount\n",
    "            else:\n",
    "                raise TankError('Too much liquid in the tank')\n",
    "        elif amount < 0:\n",
    "            raise TankError('Not possible to set negative liquid level')\n",
    "\n",
    "    @level.deleter\n",
    "    def level(self):\n",
    "        if self.__level > 0:\n",
    "            print('It is good to remember to sanitize the remains from the tank!')\n",
    "        self.__level = None\n"
   ]
  },
  {
   "cell_type": "markdown",
   "id": "995abe63-2b69-4cf2-b64f-ea13bff23f65",
   "metadata": {},
   "source": [
    "### Schritt 3"
   ]
  },
  {
   "cell_type": "markdown",
   "id": "ce053e03-ebc1-4cae-a495-b619234202e1",
   "metadata": {},
   "source": [
    "\n",
    "Da die Wiederholungen der Attributnamen irreführend sein könnten, wollen wir die Namenskonvention erläutern:\n",
    "\n",
    "Die Getter-Methode ist mit '@property' dekoriert. Sie gibt den Namen des Attributs an, der vom externen Code verwendet werden soll;\n",
    "die Setter-Methode ist mit '@name.setter' dekoriert. Der Methodenname sollte der Name des Attributs sein;\n",
    "die Deleter-Methode ist mit '@name.deleter' dekoriert. Der Methodenname sollte der Name des Attributs sein.\n",
    "Lassen Sie uns die Klasse instanziieren und einige Operationen mit dem Attribut des Objekts durchführen:\n",
    "\n",
    "Wie Sie sehen, wird der Zugriff auf das __level-Attribut von den dafür vorgesehenen Methoden gehandhabt, indem der andere Code auf das 'level'-Attribut zugreifen kann. Wir können auch auf Operationen reagieren, wenn jemand einige mit dem Fassungsvermögen des Tanks verbundene Beschränkungen aufheben will.\n",
    "\n",
    "Der andere Code kann das Attribut \"level\" auf bequeme Weise nutzen, ohne die dahinter verborgene Logik zu kennen. Wenn Sie also den Zugriff auf ein Attribut steuern möchten, sollten Sie entsprechende Eigenschaften vorbereiten, denn Eigenschaften steuern nur bestimmte Attribute.\n",
    "\n",
    "Es lohnt sich, eine weitere nützliche und interessante Eigenschaft von Eigenschaften zu erwähnen: Eigenschaften werden vererbt, so dass Sie Setter so aufrufen können, als wären sie Attribute.\n",
    "\n",
    "Prüfen Sie den Code und führen Sie ihn aus, um zu sehen, ob er Ihren Erwartungen entspricht.\n"
   ]
  },
  {
   "cell_type": "code",
   "execution_count": null,
   "id": "a168f8fb-0fa6-4d33-a014-879efef16ff6",
   "metadata": {},
   "outputs": [],
   "source": [
    "class TankError(Exception):\n",
    "    pass\n",
    "\n",
    "\n",
    "class Tank:\n",
    "    def __init__(self, capacity):\n",
    "        self.capacity = capacity\n",
    "        self.__level = 0\n",
    "\n",
    "    @property\n",
    "    def level(self):\n",
    "        return self.__level\n",
    "\n",
    "    @level.setter\n",
    "    def level(self, amount):\n",
    "        if amount > 0:\n",
    "            # fueling\n",
    "            if amount <= self.capacity:\n",
    "                self.__level = amount\n",
    "            else:\n",
    "                raise TankError('Too much liquid in the tank')\n",
    "        elif amount < 0:\n",
    "            raise TankError('Not possible to set negative liquid level')\n",
    "\n",
    "    @level.deleter\n",
    "    def level(self):\n",
    "        if self.__level > 0:\n",
    "            print('It is good to remember to sanitize the remains from the tank!')\n",
    "        self.__level = None\n",
    "\n",
    "# our_tank object has a capacity of 20 units\n",
    "our_tank = Tank(20)\n",
    "\n",
    "# our_tank's current liquid level is set to 10 units\n",
    "our_tank.level = 10\n",
    "print('Current liquid level:', our_tank.level)\n",
    "\n",
    "# adding additional 3 units (setting liquid level to 13)\n",
    "our_tank.level += 3\n",
    "print('Current liquid level:', our_tank.level)\n",
    "\n",
    "# let's try to set the current level to 21 units\n",
    "# this should be rejected as the tank's capacity is 20 units\n",
    "try:\n",
    "    our_tank.level = 21\n",
    "except TankError as e:\n",
    "    print('Trying to set liquid level to 21 units, result:', e)\n",
    "\n",
    "# similar example - let's try to add an additional 15 units\n",
    "# this should be rejected as the total capacity is 20 units\n",
    "try:\n",
    "    our_tank.level += 15\n",
    "except TankError as e:\n",
    "    print('Trying to add an additional 15 units, result:', e)\n",
    "\n",
    "# let's try to set the liquid level to a negative amount\n",
    "# this should be rejected as it is senseless\n",
    "try:\n",
    "    our_tank.level = -3\n",
    "except TankError as e:\n",
    "    print('Trying to set liquid level to -3 units, result:', e)\n",
    "\n",
    "print('Current liquid level:', our_tank.level)\n",
    "\n",
    "del our_tank.level\n"
   ]
  }
 ],
 "metadata": {
  "kernelspec": {
   "display_name": "Python 3 (ipykernel)",
   "language": "python",
   "name": "python3"
  },
  "language_info": {
   "codemirror_mode": {
    "name": "ipython",
    "version": 3
   },
   "file_extension": ".py",
   "mimetype": "text/x-python",
   "name": "python",
   "nbconvert_exporter": "python",
   "pygments_lexer": "ipython3",
   "version": "3.12.4"
  }
 },
 "nbformat": 4,
 "nbformat_minor": 5
}
