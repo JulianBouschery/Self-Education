{
 "cells": [
  {
   "cell_type": "markdown",
   "id": "5f1e9653-ee74-4fe1-99aa-55ccd9e88c9a",
   "metadata": {},
   "source": [
    "[Zurück zum Inhaltsverzeichnis](_Inhaltsverzeichnis_.ipynb)"
   ]
  },
  {
   "cell_type": "markdown",
   "id": "4e93ad3f-cb1a-42c0-a8b8-15666bd6f134",
   "metadata": {},
   "source": [
    "# Themenübersicht für den PCAP"
   ]
  },
  {
   "cell_type": "markdown",
   "id": "d4a81efc-a54d-4ec3-be14-d2b4d8deacc5",
   "metadata": {},
   "source": [
    "[Syllabus PCAP](https://pythoninstitute.org/pcap-exam-syllabus)"
   ]
  },
  {
   "cell_type": "markdown",
   "id": "6263145a-b048-43c3-8ba1-88954eff6fe9",
   "metadata": {},
   "source": [
    "## Section 1 Modules and packages (12%)"
   ]
  },
  {
   "cell_type": "markdown",
   "id": "ffb6804e-aae6-4812-b1d1-d79db92760e9",
   "metadata": {
    "jp-MarkdownHeadingCollapsed": true
   },
   "source": [
    "### 1.1  Import and use modules and packages "
   ]
  },
  {
   "cell_type": "markdown",
   "id": "c386d8dc-9aaa-4317-8dce-9ae4e30533cb",
   "metadata": {},
   "source": [
    "- import variants: [Link zur Übersicht](Namespace.ipynb)\n",
    "    - import,\n",
    "    - from import,\n",
    "    - import as,\n",
    "    - import *\n",
    "  \n",
    "- advanced qualifying for nested modules\n",
    "- [dir() function](dir.ipynb)\n",
    "- [sys.path variable](import_testing_area.ipynb)"
   ]
  },
  {
   "cell_type": "markdown",
   "id": "90087094-4acc-4c8a-b76e-01d9d82e7ed0",
   "metadata": {
    "jp-MarkdownHeadingCollapsed": true
   },
   "source": [
    "### 1.2 Perform evaluations using the math module"
   ]
  },
  {
   "cell_type": "markdown",
   "id": "cfb6ce4f-d296-40ba-92c3-744ab7138032",
   "metadata": {},
   "source": [
    "functions: \n",
    "- [ceil()](ceil.ipynb),\n",
    "- [floor()](floor.ipynb),\n",
    "- [trunc()](trunc.ipynb),\n",
    "- [factorial()](factorial.ipynb),\n",
    "- [hypot()](hypot.ipynb),\n",
    "- [sqrt()](sqrt.ipynb)"
   ]
  },
  {
   "cell_type": "markdown",
   "id": "7403e593-91e1-4453-923b-d090123f8b6e",
   "metadata": {
    "jp-MarkdownHeadingCollapsed": true
   },
   "source": [
    "### 1.3 Generate random values using the random module"
   ]
  },
  {
   "cell_type": "markdown",
   "id": "20dd7851-075d-4633-96c6-0c90bdffb7ff",
   "metadata": {},
   "source": [
    "functions: [Link zur Übersicht](random.ipynb)\n",
    "- random(),\n",
    "- seed(),\n",
    "- choice(),\n",
    "- sample()"
   ]
  },
  {
   "cell_type": "markdown",
   "id": "b368ddd5-b3ea-4d36-a8b6-06d648c5d9f2",
   "metadata": {
    "jp-MarkdownHeadingCollapsed": true
   },
   "source": [
    "### 1.4 Discover host platform properties using the platform module"
   ]
  },
  {
   "cell_type": "markdown",
   "id": "28d26ab1-4b76-4291-b4c5-936e02ac7360",
   "metadata": {},
   "source": [
    "functions: [Link zur Übersicht](platform.ipynb)\n",
    "- platform(),\n",
    "- machine(),\n",
    "- processor(),\n",
    "- system(),\n",
    "- version(),\n",
    "- python_implementation(),\n",
    "- python_version_tuple()"
   ]
  },
  {
   "cell_type": "markdown",
   "id": "cb70096c-1c1e-47e2-beb9-d2ba04ccf22c",
   "metadata": {
    "jp-MarkdownHeadingCollapsed": true
   },
   "source": [
    "### 1.5 Create and use user-defined modules and packages"
   ]
  },
  {
   "cell_type": "markdown",
   "id": "4286effd-fe30-4cdd-a6b9-4859d854f471",
   "metadata": {},
   "source": [
    "- idea and rationale;\n",
    "- the `__pycache__` directory\n",
    "- the `__name__` variable\n",
    "- public and private variables\n",
    "- the `__init__.py` file\n",
    "- searching for/through modules/packages\n",
    "- nested packages vs. directory trees"
   ]
  },
  {
   "cell_type": "markdown",
   "id": "815d8f5e-90a1-4512-9c82-bb5219aba274",
   "metadata": {},
   "source": [
    "## Section 2 Exceptions (14%)"
   ]
  },
  {
   "cell_type": "markdown",
   "id": "4c2e2c69-8a1e-4927-8996-e6e881992d61",
   "metadata": {
    "jp-MarkdownHeadingCollapsed": true
   },
   "source": [
    "### 2.1 Handle errors using Python-defined exceptions"
   ]
  },
  {
   "cell_type": "markdown",
   "id": "89375a47-c247-43ad-951f-4ad75178c9ca",
   "metadata": {},
   "source": [
    "- except, except:-except, except:-else:, except (e1, e2)\n",
    "- the hierarchy of exceptions\n",
    "- raise, raise ex\n",
    "- assert\n",
    "- event classes\n",
    "- except E as e\n",
    "- the arg property"
   ]
  },
  {
   "cell_type": "markdown",
   "id": "94f9f581-8761-4a56-94ac-dc328f186802",
   "metadata": {},
   "source": [
    "[Übungsaufgaben zu Exceptions](ÜA_exception.ipynb)"
   ]
  },
  {
   "cell_type": "markdown",
   "id": "6634cbc4-6150-443e-a9f5-c9a1ecb82197",
   "metadata": {},
   "source": [
    "### 2.2 Extend the Python exceptions hierarchy with self-defined exceptions"
   ]
  },
  {
   "cell_type": "markdown",
   "id": "d36e5e0a-f93a-48d6-991d-d0ddc01ebeb8",
   "metadata": {},
   "source": [
    "- self-defined exceptions\n",
    "- defining and using self-defined exceptions"
   ]
  },
  {
   "cell_type": "markdown",
   "id": "8320f935-305e-4b87-b9d6-c2916f73de2a",
   "metadata": {},
   "source": [
    "## Section 3 Strings (18%)"
   ]
  },
  {
   "cell_type": "markdown",
   "id": "6d3b80f9-8147-404f-9e76-29fe416ceb7d",
   "metadata": {
    "jp-MarkdownHeadingCollapsed": true
   },
   "source": [
    "### 3.1 Understand machine representation of characters"
   ]
  },
  {
   "cell_type": "markdown",
   "id": "baf4dc2c-a48c-4b4c-bd1d-13d3e8f0e194",
   "metadata": {},
   "source": [
    "- encoding standards: ASCII, UNICODE, UTF-8, code points, escape sequences"
   ]
  },
  {
   "cell_type": "markdown",
   "id": "2ddabd93-fd95-45ef-a80d-24054192c705",
   "metadata": {
    "jp-MarkdownHeadingCollapsed": true
   },
   "source": [
    "### 3.2 Operate on strings"
   ]
  },
  {
   "cell_type": "markdown",
   "id": "551306fc-a873-410a-b7d2-b80a1f340f52",
   "metadata": {},
   "source": [
    "- functions: ord(), chr()\n",
    "- indexing, slicing, immutability\n",
    "- iterating through strings, concatenating, multiplying, comparing (against strings and numbers)\n",
    "- operators: in, not in"
   ]
  },
  {
   "cell_type": "markdown",
   "id": "00228008-b932-4d92-a6ef-03a4259cf1fb",
   "metadata": {
    "jp-MarkdownHeadingCollapsed": true
   },
   "source": [
    "### 3.3 Employ built-in string methods"
   ]
  },
  {
   "cell_type": "markdown",
   "id": "7a2705b5-4137-41b1-83c1-09a06f5844f2",
   "metadata": {},
   "source": [
    "function: \n",
    "- sorted()\n",
    "  \n",
    "methods: \n",
    "- .isxxx(), \n",
    "- .join(), \n",
    "- .split(),  \n",
    "- .index(), \n",
    "- .find(),\n",
    "- .rfind()"
   ]
  },
  {
   "cell_type": "markdown",
   "id": "477871ea-3227-4004-ba9a-a4c338ee5270",
   "metadata": {},
   "source": [
    "method:\n",
    "- .sort() # Methode von Liste"
   ]
  },
  {
   "cell_type": "markdown",
   "id": "b659317c-8986-4221-b208-d523148659be",
   "metadata": {},
   "source": [
    "## Section 4: Object-Oriented Programming (34%)"
   ]
  },
  {
   "cell_type": "markdown",
   "id": "0a0447ac-fbc2-4940-a4fb-1caf16b4acea",
   "metadata": {},
   "source": [
    "### 4.1 Understand the Object-Oriented approach "
   ]
  },
  {
   "cell_type": "markdown",
   "id": "70924263-8595-420a-9106-27ab1cc25438",
   "metadata": {},
   "source": [
    "ideas and notions: \n",
    "- class, \n",
    "- object,\n",
    "- property,\n",
    "- method,\n",
    "- encapsulation,\n",
    "- inheritance,\n",
    "- superclass,\n",
    "- subclass,\n",
    "- identifying class components"
   ]
  },
  {
   "cell_type": "markdown",
   "id": "db7ee7fe-f563-47f5-9e25-9d3c697d1a8c",
   "metadata": {},
   "source": [
    "[Übungsaufgaben mro lesen](ÜA_mro.ipynb)"
   ]
  },
  {
   "cell_type": "markdown",
   "id": "8b884d06-e0ac-40a7-836f-1be2d320de3d",
   "metadata": {
    "jp-MarkdownHeadingCollapsed": true
   },
   "source": [
    "### 4.2 Employ class and object properties"
   ]
  },
  {
   "cell_type": "markdown",
   "id": "666ff634-9c8a-4357-ac05-841e0cec18f1",
   "metadata": {},
   "source": [
    "- instance vs. class variables: declarations and initializations\n",
    "- the `__dict__` property (objects vs. classes)\n",
    "- private components (instances vs. classes)\n",
    "- name mangling"
   ]
  },
  {
   "cell_type": "markdown",
   "id": "ee653b5e-e1f5-4ecf-a859-5bf3941d38a5",
   "metadata": {
    "jp-MarkdownHeadingCollapsed": true
   },
   "source": [
    "### 4.3 Equip a class with methods"
   ]
  },
  {
   "cell_type": "markdown",
   "id": "4a822ab9-3ecf-488d-83ac-f24036f71995",
   "metadata": {},
   "source": [
    "- declaring and using methods\n",
    "- the self parameter"
   ]
  },
  {
   "cell_type": "markdown",
   "id": "9ee90651-75e6-4086-bb30-199c4fda3eb8",
   "metadata": {
    "jp-MarkdownHeadingCollapsed": true
   },
   "source": [
    "### 4.4 Discover the class structure"
   ]
  },
  {
   "cell_type": "markdown",
   "id": "7c084a37-46b2-418e-b863-2ae1a97a2f86",
   "metadata": {},
   "source": [
    "- introspection and the hasattr() function (objects vs classes)\n",
    "- properties: `__name__`, `__module__` , `__bases__`"
   ]
  },
  {
   "cell_type": "markdown",
   "id": "473ca017-9527-4711-8f84-f28873cbeeb6",
   "metadata": {},
   "source": [
    "### 4.5 Build a class hierarchy using inheritance"
   ]
  },
  {
   "cell_type": "markdown",
   "id": "b4053de6-0fe0-4eb1-b86b-8e6012d7ff07",
   "metadata": {},
   "source": [
    "- single and multiple inheritance\n",
    "- the isinstance() function\n",
    "- overriding\n",
    "- operators: not is, is\n",
    "- polymorphism\n",
    "- overriding the `__str__()` method\n",
    "- diamonds"
   ]
  },
  {
   "cell_type": "markdown",
   "id": "e98e30d7-a3fe-45a2-a5d5-2aa13dbe84ad",
   "metadata": {},
   "source": [
    "### 4.6 Construct and initialize objects"
   ]
  },
  {
   "cell_type": "markdown",
   "id": "06ebbd58-6282-4704-a3d2-738144120f89",
   "metadata": {},
   "source": [
    "- declaring and invoking constructors"
   ]
  },
  {
   "cell_type": "markdown",
   "id": "01a43444-d504-4585-a549-3b86d7ef9737",
   "metadata": {},
   "source": [
    "## Section 5 Miscellaneous (22%)"
   ]
  },
  {
   "cell_type": "markdown",
   "id": "bc14c817-d5cf-470e-b940-a74e52e6fd8c",
   "metadata": {},
   "source": [
    "Scope: List Comprehensions, Lambdas, Closures, and I/O Operations"
   ]
  },
  {
   "cell_type": "markdown",
   "id": "e4680d0a-833f-41ee-9f63-a77049b114ec",
   "metadata": {},
   "source": [
    "Objectives covered by the block (9 exam items)"
   ]
  },
  {
   "cell_type": "markdown",
   "id": "07d351f5-796e-4505-b859-91d239ed4644",
   "metadata": {},
   "source": [
    "### 5.1 Build complex lists using list comprehension"
   ]
  },
  {
   "cell_type": "markdown",
   "id": "a5936871-3950-4d73-9de5-8d3f4929fcf7",
   "metadata": {},
   "source": [
    "list comprehensions: \n",
    "- the if operator,\n",
    "- nested comprehensions"
   ]
  },
  {
   "cell_type": "markdown",
   "id": "528cf79b-f3f4-41d5-9dae-925f966e5c1c",
   "metadata": {},
   "source": [
    "### 5.2 Embed lambda functions into the code"
   ]
  },
  {
   "cell_type": "markdown",
   "id": "f4088325-3fd3-4e23-a04c-de4628209c91",
   "metadata": {},
   "source": [
    "- lambdas: defining and using lambdas\n",
    "- self-defined functions taking lambdas as arguments\n",
    "  \n",
    "functions: \n",
    "- map(), \n",
    "- filter()"
   ]
  },
  {
   "cell_type": "markdown",
   "id": "ab9c6997-e5c3-4456-9ca5-7e687a3524e2",
   "metadata": {},
   "source": [
    "### 5.3 Define and use closures"
   ]
  },
  {
   "cell_type": "markdown",
   "id": "74d9cb35-dc53-4762-bd23-abd2b41cb49a",
   "metadata": {},
   "source": [
    "closures: \n",
    "- meaning and rationale\n",
    "- defining and using closures"
   ]
  },
  {
   "cell_type": "markdown",
   "id": "63c80d0f-ef6d-444d-921b-2c4e2aa48e75",
   "metadata": {},
   "source": [
    "### 5.4 Understand basic Input/Output terminology"
   ]
  },
  {
   "cell_type": "markdown",
   "id": "ea6c8e76-178d-4b6a-bbb9-4cf01a6be8b1",
   "metadata": {},
   "source": [
    "- I/O modes\n",
    "- predefined streams\n",
    "- handles vs. streams\n",
    "- text vs. binary modes"
   ]
  },
  {
   "cell_type": "markdown",
   "id": "096b4a3c-4f73-45a9-9de5-6f21f1e11485",
   "metadata": {},
   "source": [
    "### 5.5 Perform Input/Output operations"
   ]
  },
  {
   "cell_type": "markdown",
   "id": "56001144-02fa-4b9a-82a2-fcac9ef202d2",
   "metadata": {},
   "source": [
    "- the open() function\n",
    "- the errno variable and its values\n",
    "  \n",
    "- functions:\n",
    "    - close(),\n",
    "    - .read(),\n",
    "    - .write(),\n",
    "    - .readline(),\n",
    "    - readlines()\n",
    "- using bytearray as input/output buffer"
   ]
  }
 ],
 "metadata": {
  "kernelspec": {
   "display_name": "Python 3 (ipykernel)",
   "language": "python",
   "name": "python3"
  },
  "language_info": {
   "codemirror_mode": {
    "name": "ipython",
    "version": 3
   },
   "file_extension": ".py",
   "mimetype": "text/x-python",
   "name": "python",
   "nbconvert_exporter": "python",
   "pygments_lexer": "ipython3",
   "version": "3.12.4"
  }
 },
 "nbformat": 4,
 "nbformat_minor": 5
}
