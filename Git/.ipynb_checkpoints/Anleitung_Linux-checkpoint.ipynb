{
 "cells": [
  {
   "cell_type": "markdown",
   "id": "e7be4f25-3804-49f9-a1ec-c6782d14e481",
   "metadata": {},
   "source": [
    "# Anleitung-Linux"
   ]
  },
  {
   "cell_type": "markdown",
   "id": "4c03d05e-6455-4d44-9ac4-9c130e896f2b",
   "metadata": {},
   "source": [
    "Noch in Arbeit"
   ]
  },
  {
   "cell_type": "code",
   "execution_count": null,
   "id": "fbc77e12-a89b-453a-8200-7f32f7f3307f",
   "metadata": {},
   "outputs": [],
   "source": []
  }
 ],
 "metadata": {
  "kernelspec": {
   "display_name": "Python 3 (ipykernel)",
   "language": "python",
   "name": "python3"
  },
  "language_info": {
   "codemirror_mode": {
    "name": "ipython",
    "version": 3
   },
   "file_extension": ".py",
   "mimetype": "text/x-python",
   "name": "python",
   "nbconvert_exporter": "python",
   "pygments_lexer": "ipython3",
   "version": "3.12.6"
  }
 },
 "nbformat": 4,
 "nbformat_minor": 5
}
