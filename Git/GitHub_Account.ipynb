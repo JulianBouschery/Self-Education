{
 "cells": [
  {
   "cell_type": "markdown",
   "id": "ede2c550-6f98-401b-8cb4-07df61c89086",
   "metadata": {},
   "source": [
    "# Erstellung eines GitHub-Accounts"
   ]
  },
  {
   "cell_type": "code",
   "execution_count": null,
   "id": "645736f0-a7d6-4235-b8fd-7d04f62a274d",
   "metadata": {},
   "outputs": [],
   "source": []
  },
  {
   "cell_type": "markdown",
   "id": "ec2790eb",
   "metadata": {},
   "source": [
    "https://github.com/"
   ]
  },
  {
   "cell_type": "markdown",
   "id": "2c24989a",
   "metadata": {},
   "source": []
  }
 ],
 "metadata": {
  "kernelspec": {
   "display_name": "Python 3 (ipykernel)",
   "language": "python",
   "name": "python3"
  },
  "language_info": {
   "codemirror_mode": {
    "name": "ipython",
    "version": 3
   },
   "file_extension": ".py",
   "mimetype": "text/x-python",
   "name": "python",
   "nbconvert_exporter": "python",
   "pygments_lexer": "ipython3",
   "version": "3.12.6"
  }
 },
 "nbformat": 4,
 "nbformat_minor": 5
}
