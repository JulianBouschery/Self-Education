{
 "cells": [
  {
   "cell_type": "markdown",
   "id": "b0f39ce7-40c9-4c3b-b14b-d2c1363d55a2",
   "metadata": {},
   "source": [
    "# Installation von Git"
   ]
  },
  {
   "cell_type": "code",
   "execution_count": null,
   "id": "343a9d81-2630-41e4-9953-42c249bfa395",
   "metadata": {},
   "outputs": [],
   "source": []
  }
 ],
 "metadata": {
  "kernelspec": {
   "display_name": "Python 3 (ipykernel)",
   "language": "python",
   "name": "python3"
  },
  "language_info": {
   "codemirror_mode": {
    "name": "ipython",
    "version": 3
   },
   "file_extension": ".py",
   "mimetype": "text/x-python",
   "name": "python",
   "nbconvert_exporter": "python",
   "pygments_lexer": "ipython3",
   "version": "3.12.6"
  }
 },
 "nbformat": 4,
 "nbformat_minor": 5
}
