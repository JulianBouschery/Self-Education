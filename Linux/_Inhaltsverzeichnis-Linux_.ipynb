{
 "cells": [
  {
   "cell_type": "markdown",
   "id": "f8443c64-aa7a-4f59-99e9-9e43e3c75f88",
   "metadata": {},
   "source": [
    "# Inhaltsverzeichnis-Linux"
   ]
  },
  {
   "cell_type": "code",
   "execution_count": null,
   "id": "c03e21aa-f7fd-4140-9a8a-bd782ebb68d3",
   "metadata": {},
   "outputs": [],
   "source": []
  }
 ],
 "metadata": {
  "kernelspec": {
   "display_name": "Python 3 (ipykernel)",
   "language": "python",
   "name": "python3"
  },
  "language_info": {
   "codemirror_mode": {
    "name": "ipython",
    "version": 3
   },
   "file_extension": ".py",
   "mimetype": "text/x-python",
   "name": "python",
   "nbconvert_exporter": "python",
   "pygments_lexer": "ipython3",
   "version": "3.12.6"
  }
 },
 "nbformat": 4,
 "nbformat_minor": 5
}
