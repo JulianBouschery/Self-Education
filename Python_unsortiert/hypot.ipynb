{
 "cells": [
  {
   "cell_type": "markdown",
   "id": "a92f3f08-1856-4c6a-b392-036ea55da2a3",
   "metadata": {},
   "source": [
    "[Zurück zum Inhaltsverzeichnis](_Inhaltsverzeichnis_.ipynb)"
   ]
  },
  {
   "cell_type": "markdown",
   "id": "8db78006-a266-4cd8-bd3d-1c4d676dba96",
   "metadata": {},
   "source": [
    "# hypot Methode"
   ]
  },
  {
   "cell_type": "markdown",
   "id": "7457fda6-4513-4c51-9aef-b4e2d2fd2cbf",
   "metadata": {},
   "source": [
    "Die hypot-Methode aus dem math-Modul in Python wird verwendet, um die Länge der Hypotenuse eines rechtwinkligen Dreiecks zu berechnen. Sie nimmt zwei Argumente, die die Längen der beiden Katheten des Dreiecks darstellen, und gibt die Länge der Hypotenuse zurück. Dies basiert auf dem Satz des Pythagoras."
   ]
  },
  {
   "cell_type": "code",
   "execution_count": null,
   "id": "e6811bc7-74ba-47c5-ad25-30f015fb1038",
   "metadata": {},
   "outputs": [],
   "source": []
  }
 ],
 "metadata": {
  "kernelspec": {
   "display_name": "Python 3 (ipykernel)",
   "language": "python",
   "name": "python3"
  },
  "language_info": {
   "codemirror_mode": {
    "name": "ipython",
    "version": 3
   },
   "file_extension": ".py",
   "mimetype": "text/x-python",
   "name": "python",
   "nbconvert_exporter": "python",
   "pygments_lexer": "ipython3",
   "version": "3.12.3"
  }
 },
 "nbformat": 4,
 "nbformat_minor": 5
}
