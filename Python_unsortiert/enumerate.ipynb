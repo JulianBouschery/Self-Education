{
 "cells": [
  {
   "cell_type": "markdown",
   "id": "f475c51e-5149-488a-b37c-266c9b5113b8",
   "metadata": {},
   "source": [
    "[Zurück zum Inhaltsverzeichnis](_Inhaltsverzeichnis_.ipynb)"
   ]
  },
  {
   "cell_type": "markdown",
   "id": "44cd885f-3d9d-445c-8210-f4e0043ac223",
   "metadata": {},
   "source": [
    "# enumerate Funktion"
   ]
  },
  {
   "cell_type": "markdown",
   "id": "3ccf35f6-099b-4513-b2cf-af0dcb67e576",
   "metadata": {},
   "source": [
    "Syntax:\n",
    "\n",
    "\n",
    "`enumerate` `(` `iterable` ,  start=0 `)`\n",
    "\n",
    "start=0 ist der Default-Wert, bei dem enumerate zu zählen beginnt."
   ]
  },
  {
   "cell_type": "code",
   "execution_count": 78,
   "id": "20c8bd92-85cc-42dd-80ef-a2579946f46c",
   "metadata": {},
   "outputs": [
    {
     "name": "stdout",
     "output_type": "stream",
     "text": [
      "[(0, 'abc'), (1, 'bcd'), (2, 'cde')]\n"
     ]
    }
   ],
   "source": [
    "liste = [\"abc\",\"bcd\",\"cde\"]\n",
    "x = enumerate(liste) \n",
    "y = list(x) # Nur um es sichtbar zu machen, mehr siehe Unten\n",
    "print(y)"
   ]
  },
  {
   "cell_type": "markdown",
   "id": "dd3204fa-9d0d-4569-90a0-7b54ca85cfca",
   "metadata": {},
   "source": [
    "Die enumerte Funktion läuft über ein Iterable drüber und erstellt zu jedem Element des Iterables einen Index und speichert sie mit dem Element in ein Tuple. Es ist kein richtiger Index, aber ein behelfsmäßiger."
   ]
  },
  {
   "cell_type": "code",
   "execution_count": 2,
   "id": "24530678-ee96-410b-be44-c471c9b3e9eb",
   "metadata": {
    "tags": []
   },
   "outputs": [
    {
     "data": {
      "text/plain": [
       "<enumerate at 0x137fa2b6ed0>"
      ]
     },
     "execution_count": 2,
     "metadata": {},
     "output_type": "execute_result"
    }
   ],
   "source": [
    "stringy = \"Hallo\"\n",
    "\n",
    "enumerate(stringy)"
   ]
  },
  {
   "cell_type": "markdown",
   "id": "44e7ff4d-8e6a-49c1-a148-3c806d455167",
   "metadata": {},
   "source": [
    "Was ist das? \n",
    "\n",
    "Pyhon ist eine Objektorientierte Sprache. Hier wird uns das Objekt an der entsprechenden Stelle im Speicher (?) angezeigt."
   ]
  },
  {
   "cell_type": "code",
   "execution_count": 8,
   "id": "60c67f2e-f2da-4f08-a316-3b5d08873045",
   "metadata": {
    "tags": []
   },
   "outputs": [
    {
     "data": {
      "text/plain": [
       "[(0, 'H'), (1, 'a'), (2, 'l'), (3, 'l'), (4, 'o')]"
      ]
     },
     "execution_count": 8,
     "metadata": {},
     "output_type": "execute_result"
    }
   ],
   "source": [
    "list(enumerate(stringy)) # Durch die Umwandlung in eine Liste kann man das Objekt sehen."
   ]
  },
  {
   "cell_type": "markdown",
   "id": "9eb26467-685b-499c-a9d9-efed75d2d084",
   "metadata": {},
   "source": [
    "Mit Hilfe einer for-Schleife kann man die einzelnen Tuple so untereinander anordnen:"
   ]
  },
  {
   "cell_type": "code",
   "execution_count": 4,
   "id": "6c58feb6-fe87-4f85-9a71-6b46350f2775",
   "metadata": {
    "tags": []
   },
   "outputs": [
    {
     "name": "stdout",
     "output_type": "stream",
     "text": [
      "(0, 'H')\n",
      "(1, 'a')\n",
      "(2, 'l')\n",
      "(3, 'l')\n",
      "(4, 'o')\n"
     ]
    }
   ],
   "source": [
    "for enumerate_thingy in enumerate(stringy):\n",
    "    print(enumerate_thingy)"
   ]
  },
  {
   "cell_type": "markdown",
   "id": "617be72f-cf79-4132-9b6a-7b6f9fa55aa4",
   "metadata": {},
   "source": [
    "Weil enumerate unter der Haube ZWEI Variablen verwendet kann man Python auch zwei Variablen ausgeben lassen...?"
   ]
  },
  {
   "cell_type": "code",
   "execution_count": 6,
   "id": "8e913a6e-9e89-4409-8387-2215b645756d",
   "metadata": {
    "tags": []
   },
   "outputs": [
    {
     "name": "stdout",
     "output_type": "stream",
     "text": [
      "0 H\n",
      "1 a\n",
      "2 l\n",
      "3 l\n",
      "4 o\n"
     ]
    }
   ],
   "source": [
    "for index, element in enumerate(stringy):\n",
    "    print(index, element)"
   ]
  },
  {
   "cell_type": "markdown",
   "id": "eebd4706-b533-4052-9b42-7f3e48538e3a",
   "metadata": {},
   "source": [
    "Wenn man den Defaultwert von enumerate ändert fängt er bei einer anderen Zahl an zu zählen."
   ]
  },
  {
   "cell_type": "code",
   "execution_count": 10,
   "id": "4e9f1755-a5c1-4175-be7c-5a4e74bc38bb",
   "metadata": {
    "tags": []
   },
   "outputs": [
    {
     "name": "stdout",
     "output_type": "stream",
     "text": [
      "(42, 'a')\n",
      "(43, 'b')\n",
      "(44, 'c')\n"
     ]
    }
   ],
   "source": [
    "str_2 = \"abc\"\n",
    "\n",
    "for tuple_enum in enumerate(str_2,42): \n",
    "    print(tuple_enum)"
   ]
  },
  {
   "cell_type": "markdown",
   "id": "b2cced6c-df0f-49f0-8247-c8b6834373f3",
   "metadata": {},
   "source": [
    "## enumerate nach programmiert"
   ]
  },
  {
   "cell_type": "code",
   "execution_count": 66,
   "id": "8574049f-4345-416a-9c50-28d858dd1ddd",
   "metadata": {},
   "outputs": [],
   "source": [
    "def enumerate_(iterable):\n",
    "    \n",
    "    count = 1\n",
    "    storage = []\n",
    "    for i in range(len(iterable)):\n",
    "        storage.append((count + i, iterable[i]))\n",
    "    return(storage)     "
   ]
  },
  {
   "cell_type": "code",
   "execution_count": 67,
   "id": "96aad466-b139-4569-9d43-e331389d1414",
   "metadata": {},
   "outputs": [],
   "source": [
    "iterable = [\"a\",\"b\",\"c\"]"
   ]
  },
  {
   "cell_type": "code",
   "execution_count": 68,
   "id": "bb40f723-cae0-4cb4-bd17-fef5c75e5f77",
   "metadata": {},
   "outputs": [
    {
     "data": {
      "text/plain": [
       "[(1, 'a'), (2, 'b'), (3, 'c')]"
      ]
     },
     "execution_count": 68,
     "metadata": {},
     "output_type": "execute_result"
    }
   ],
   "source": [
    "enumerate_(iterable)"
   ]
  },
  {
   "cell_type": "markdown",
   "id": "d8776514-afec-4cc8-896d-e22965945805",
   "metadata": {},
   "source": [
    "Im prinzip funktioniert die enumerat Funktion wie folgt:\n",
    "\n",
    "- Eine for-Schleife läuft über einen Iterable drüber und generiert durch range(len(iterabel)) für jeden Iterable einen \"Index\".\n",
    "- Dann wird ein Tuple aus dem Index und dem entsprechenden Element generiert.\n",
    "- Und damit man die Tuple alle zusammen aufrufen kann, werden diese in eine Liste appended.\n",
    "  Das ist zwar nicht 100% so wie die enumerate Funktion funktioniert, aber es kommt nah ran. "
   ]
  },
  {
   "cell_type": "markdown",
   "id": "0adfc154-5add-4878-b1a8-8f91f923be1a",
   "metadata": {},
   "source": [
    "## Warum ist das nicht ganz korrekt? "
   ]
  },
  {
   "cell_type": "code",
   "execution_count": 6,
   "id": "aedc670d-1e26-463f-ae2a-2e8920d824cc",
   "metadata": {},
   "outputs": [
    {
     "name": "stdout",
     "output_type": "stream",
     "text": [
      "<enumerate object at 0x000001E638EFBBF0>\n"
     ]
    }
   ],
   "source": [
    "x = enumerate(Liste)\n",
    "print(x)"
   ]
  },
  {
   "cell_type": "markdown",
   "id": "1984ace9-f9fb-48fe-a5c3-843d2701a441",
   "metadata": {},
   "source": [
    "[Erklärung des Beispiels im Pythontutor](https://pythontutor.com/render.html#code=Liste%20%3D%20%5B%22a%22,%22b%22,%22c%22%5D%0A%0Ax%20%3D%20enumerate%28Liste%29%0A%0Aprint%28x%29%0A%0Aprint%28list%28x%29%29&cumulative=false&curInstr=0&heapPrimitives=nevernest&mode=display&origin=opt-frontend.js&py=3&rawInputLstJSON=%5B%5D&textReferences=false)"
   ]
  },
  {
   "cell_type": "markdown",
   "id": "e9cca8f9-8370-4f50-9126-1a97d5368f74",
   "metadata": {},
   "source": [
    "Im Pythontutor wird von einer `enumerate instance` gesprochen.\n",
    "Instanzen kennen wir aus Klassen. enumerate ist eine Instanz der enumerate Klasse, die direkt unter der Klasse \"Objekt\" steht."
   ]
  },
  {
   "cell_type": "code",
   "execution_count": 2,
   "id": "17fdba0a-af6a-462b-8284-a1a6a0e2c349",
   "metadata": {},
   "outputs": [
    {
     "data": {
      "text/plain": [
       "[enumerate, object]"
      ]
     },
     "execution_count": 2,
     "metadata": {},
     "output_type": "execute_result"
    }
   ],
   "source": [
    "enumerate.mro()"
   ]
  },
  {
   "cell_type": "markdown",
   "id": "d91a86c6-069c-4c01-9dce-13f775370cab",
   "metadata": {},
   "source": [
    "## Wie GENAU funktioniert enumerate?"
   ]
  },
  {
   "cell_type": "code",
   "execution_count": 1,
   "id": "61cc8e07-e9a2-4ae4-b36d-d98cef585b73",
   "metadata": {},
   "outputs": [
    {
     "data": {
      "text/plain": [
       "\u001b[1;31mInit signature:\u001b[0m \u001b[0menumerate\u001b[0m\u001b[1;33m(\u001b[0m\u001b[0miterable\u001b[0m\u001b[1;33m,\u001b[0m \u001b[0mstart\u001b[0m\u001b[1;33m=\u001b[0m\u001b[1;36m0\u001b[0m\u001b[1;33m)\u001b[0m\u001b[1;33m\u001b[0m\u001b[1;33m\u001b[0m\u001b[0m\n",
       "\u001b[1;31mDocstring:\u001b[0m     \n",
       "Return an enumerate object.\n",
       "\n",
       "  iterable\n",
       "    an object supporting iteration\n",
       "\n",
       "The enumerate object yields pairs containing a count (from start, which\n",
       "defaults to zero) and a value yielded by the iterable argument.\n",
       "\n",
       "enumerate is useful for obtaining an indexed list:\n",
       "    (0, seq[0]), (1, seq[1]), (2, seq[2]), ...\n",
       "\u001b[1;31mType:\u001b[0m           type\n",
       "\u001b[1;31mSubclasses:\u001b[0m     "
      ]
     },
     "metadata": {},
     "output_type": "display_data"
    }
   ],
   "source": [
    "enumerate?"
   ]
  },
  {
   "cell_type": "code",
   "execution_count": null,
   "id": "ddf243f1-019e-4552-a4b0-48441566ee7d",
   "metadata": {},
   "outputs": [],
   "source": []
  }
 ],
 "metadata": {
  "kernelspec": {
   "display_name": "Python 3 (ipykernel)",
   "language": "python",
   "name": "python3"
  },
  "language_info": {
   "codemirror_mode": {
    "name": "ipython",
    "version": 3
   },
   "file_extension": ".py",
   "mimetype": "text/x-python",
   "name": "python",
   "nbconvert_exporter": "python",
   "pygments_lexer": "ipython3",
   "version": "3.12.3"
  }
 },
 "nbformat": 4,
 "nbformat_minor": 5
}
