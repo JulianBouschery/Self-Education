{
 "cells": [
  {
   "cell_type": "markdown",
   "id": "e3971b43-0b04-4da0-bc33-f581814b2f30",
   "metadata": {},
   "source": [
    "[Zurück zum Inhaltsverzeichnis](_Inhaltsverzeichnis_.ipynb)"
   ]
  },
  {
   "cell_type": "markdown",
   "id": "d0b4634a-9e6e-49c5-abe5-6dbb63c8b5ed",
   "metadata": {},
   "source": [
    "# ceil Methode"
   ]
  },
  {
   "cell_type": "markdown",
   "id": "51d854c5-a0a1-437d-ae4c-e92382052ff2",
   "metadata": {},
   "source": [
    "Die ceil-Methode aus dem math-Modul in Python wird verwendet, um die kleinste ganze Zahl zu finden, die größer oder gleich einer gegebenen Zahl ist. Mit anderen Worten, sie rundet eine Zahl immer auf die nächste ganze Zahl **AUF**."
   ]
  },
  {
   "cell_type": "code",
   "execution_count": 1,
   "id": "4ed3963e-d388-439c-838a-ff29d8a8b075",
   "metadata": {},
   "outputs": [],
   "source": [
    "import math"
   ]
  },
  {
   "cell_type": "code",
   "execution_count": 3,
   "id": "ac7d3f30-2909-4355-8a5c-11db7bc7028f",
   "metadata": {},
   "outputs": [
    {
     "data": {
      "text/plain": [
       "42"
      ]
     },
     "execution_count": 3,
     "metadata": {},
     "output_type": "execute_result"
    }
   ],
   "source": [
    "math.ceil(42)"
   ]
  },
  {
   "cell_type": "code",
   "execution_count": 5,
   "id": "65dbe0b2-d9a2-483f-bb26-f3a0c3566cf1",
   "metadata": {},
   "outputs": [
    {
     "name": "stdout",
     "output_type": "stream",
     "text": [
      "2 3\n",
      "-1 -2\n"
     ]
    }
   ],
   "source": [
    "x = 1.4\n",
    "y = 2.6\n",
    "\n",
    "print(math.ceil(x), math.ceil(y))\n",
    "print(math.ceil(-x), math.ceil(-y))\n"
   ]
  },
  {
   "cell_type": "code",
   "execution_count": null,
   "id": "194a8630-4492-4449-ad11-a23ce155cbc8",
   "metadata": {},
   "outputs": [],
   "source": []
  }
 ],
 "metadata": {
  "kernelspec": {
   "display_name": "Python 3 (ipykernel)",
   "language": "python",
   "name": "python3"
  },
  "language_info": {
   "codemirror_mode": {
    "name": "ipython",
    "version": 3
   },
   "file_extension": ".py",
   "mimetype": "text/x-python",
   "name": "python",
   "nbconvert_exporter": "python",
   "pygments_lexer": "ipython3",
   "version": "3.12.3"
  }
 },
 "nbformat": 4,
 "nbformat_minor": 5
}
