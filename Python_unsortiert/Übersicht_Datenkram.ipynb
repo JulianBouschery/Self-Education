{
 "cells": [
  {
   "cell_type": "markdown",
   "id": "102c5edb-a292-4078-b8b7-af6f161335cd",
   "metadata": {},
   "source": [
    "# Übersicht Dateikram"
   ]
  },
  {
   "cell_type": "markdown",
   "id": "53a7247c-35f9-40e9-a516-d1ad6c8f099e",
   "metadata": {},
   "source": [
    "[raw](raw.ipynb)"
   ]
  },
  {
   "cell_type": "markdown",
   "id": "a9bf1726-09cc-4582-b737-d4c748ea972e",
   "metadata": {},
   "source": [
    "[with and open](with_and_open.ipynb)"
   ]
  },
  {
   "cell_type": "markdown",
   "id": "e7a6ad42-7c94-4cd2-ba22-1f096fd94325",
   "metadata": {},
   "source": []
  },
  {
   "cell_type": "code",
   "execution_count": null,
   "id": "37e3d76f-357d-4b6a-b876-6d21a4cf5589",
   "metadata": {},
   "outputs": [],
   "source": []
  },
  {
   "cell_type": "code",
   "execution_count": 3,
   "id": "26611c82-d070-499a-a117-6dc2593d7cea",
   "metadata": {},
   "outputs": [
    {
     "ename": "NameError",
     "evalue": "name 'csv' is not defined",
     "output_type": "error",
     "traceback": [
      "\u001b[1;31m---------------------------------------------------------------------------\u001b[0m",
      "\u001b[1;31mNameError\u001b[0m                                 Traceback (most recent call last)",
      "Cell \u001b[1;32mIn[3], line 1\u001b[0m\n\u001b[1;32m----> 1\u001b[0m \u001b[43mcsv\u001b[49m\u001b[38;5;241m.\u001b[39mDictReader(file) \u001b[38;5;66;03m# Erstellt aus der csv Datei ein Dictionary mit vielen Dictionaries\u001b[39;00m\n",
      "\u001b[1;31mNameError\u001b[0m: name 'csv' is not defined"
     ]
    }
   ],
   "source": [
    "csv.DictReader(file) # Erstellt aus der csv Datei ein Dictionary mit vielen Dictionaries"
   ]
  },
  {
   "cell_type": "markdown",
   "id": "be40bc4d-7919-4124-a957-172f7f8b9bea",
   "metadata": {},
   "source": [
    "Funktion in Klassen nennt man Methoden!"
   ]
  },
  {
   "cell_type": "code",
   "execution_count": null,
   "id": "4cb3a140-b17b-44ca-8790-1c8f2742c9a7",
   "metadata": {},
   "outputs": [],
   "source": [
    "mapping kommt aus der Mathemathik\n",
    "\n",
    "mapping y = x**2\n",
    "du gibst mir ein x ich gebe dir ein y --> das x wird auf y gemapped\n",
    "\n",
    "du gibst mir die 2 und ich geb dir die 4 zurück\n"
   ]
  }
 ],
 "metadata": {
  "kernelspec": {
   "display_name": "Python 3 (ipykernel)",
   "language": "python",
   "name": "python3"
  },
  "language_info": {
   "codemirror_mode": {
    "name": "ipython",
    "version": 3
   },
   "file_extension": ".py",
   "mimetype": "text/x-python",
   "name": "python",
   "nbconvert_exporter": "python",
   "pygments_lexer": "ipython3",
   "version": "3.12.4"
  }
 },
 "nbformat": 4,
 "nbformat_minor": 5
}
