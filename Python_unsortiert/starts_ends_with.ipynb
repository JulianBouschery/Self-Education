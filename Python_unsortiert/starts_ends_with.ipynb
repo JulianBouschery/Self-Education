{
 "cells": [
  {
   "cell_type": "markdown",
   "id": "fb9291f6-f9ef-4598-a4fb-9f8f310e8f20",
   "metadata": {},
   "source": [
    "[Zurück zum Inhaltsverzeichnis](_Inhaltsverzeichnis_.ipynb)"
   ]
  },
  {
   "cell_type": "markdown",
   "id": "0b80d4f2-571d-47bb-a3d9-84d7c31b72a7",
   "metadata": {},
   "source": [
    "# str.startswith() und str.endswith() Methode"
   ]
  },
  {
   "cell_type": "markdown",
   "id": "48185565-4c99-4398-9881-b514160a7760",
   "metadata": {},
   "source": [
    "## startswith"
   ]
  },
  {
   "cell_type": "markdown",
   "id": "0ebbe82b-b3ee-4a28-9564-c63c3d15a1c1",
   "metadata": {},
   "source": [
    "### Überblick"
   ]
  },
  {
   "cell_type": "markdown",
   "id": "3d2f857f-a831-49b6-a109-94c02c1d882e",
   "metadata": {},
   "source": [
    "\n",
    "Name der Methode: str.startswith \n",
    "\n",
    "Instanz der Klasse: str\n",
    "\n",
    "Superklasse: vermutlich objekt oder so...\n",
    "\n",
    "Syntax:\n",
    "\n",
    "1. `str` `.` `startswith` `(` `prefix_str` `)`\n",
    "2. `str` `.` `startswith` `(` `prefix_str` `,` `start_int` `)`\n",
    "3. `str` `.` `startswith` `(` `prefix_str` `,` `start_int` `,` `end_int` `)`\n",
    "\n",
    "```python\n",
    "Parameter: \n",
    "str.startswith(prefix[, start[, end]])\n",
    "```\n",
    "Funktion: \n",
    "\n",
    "Mit startswith() kann man überprüfen, ob eine Zeichenkette (String) mit einem bestimmten Präfix (prefix) / Substring, beginnt. Sie gibt True zurück, wenn die Zeichenkette mit dem angegebenen Präfix beginnt, andernfalls gibt sie False zurück.\n",
    "Die Angabe von start und end ist Optional.\n",
    "Start gibt den Index an, AB dem die Überprüfung beginnen soll. Standardmäßig ist dies der Index 0 (der Anfang der Zeichenkette).\n",
    "End gibt den Index an, BIS zu dem die Überprüfung erfolgen soll. Standardmäßig ist dies das Ende der Zeichenkette.\n",
    "\n",
    "return:  \n",
    "```python\n",
    "bool\n",
    "```\n",
    "Error: TypeError\n"
   ]
  },
  {
   "cell_type": "markdown",
   "id": "ac03913c-ed82-479c-94ba-02c0a80f476a",
   "metadata": {},
   "source": [
    "#### Instanz"
   ]
  },
  {
   "cell_type": "markdown",
   "id": "d3b419a0-a2c9-45a5-84e6-5e29a86da0da",
   "metadata": {},
   "source": [
    "Die `startswith Methode` kann nur auf Strings angewendet werden und gibt ebenfalls einen String zurück."
   ]
  },
  {
   "cell_type": "markdown",
   "id": "65cc33a7-278d-4770-811f-9e6d64b51be6",
   "metadata": {},
   "source": [
    "#### Parameter"
   ]
  },
  {
   "cell_type": "code",
   "execution_count": 1,
   "id": "4ddde33d-7390-4eaf-a2d3-87c66963d1e2",
   "metadata": {
    "tags": []
   },
   "outputs": [
    {
     "data": {
      "text/plain": [
       "\u001b[0;31mDocstring:\u001b[0m\n",
       "S.startswith(prefix[, start[, end]]) -> bool\n",
       "\n",
       "Return True if S starts with the specified prefix, False otherwise.\n",
       "With optional start, test S beginning at that position.\n",
       "With optional end, stop comparing S at that position.\n",
       "prefix can also be a tuple of strings to try.\n",
       "\u001b[0;31mType:\u001b[0m      method_descriptor\n"
      ]
     },
     "metadata": {},
     "output_type": "display_data"
    }
   ],
   "source": [
    "str.startswith?"
   ]
  },
  {
   "cell_type": "markdown",
   "id": "29656d61-b6ea-42a3-a39d-697b6db961e5",
   "metadata": {},
   "source": [
    "#### return"
   ]
  },
  {
   "cell_type": "code",
   "execution_count": 7,
   "id": "6606baa9-113f-43f6-8d27-91ff7875c5ce",
   "metadata": {},
   "outputs": [
    {
     "data": {
      "text/plain": [
       "True"
      ]
     },
     "execution_count": 7,
     "metadata": {},
     "output_type": "execute_result"
    }
   ],
   "source": [
    "# Korrekte Aufruf mit nur dem Prefix --> bool\n",
    "\"Hallo\".startswith(\"Ha\")"
   ]
  },
  {
   "cell_type": "code",
   "execution_count": 8,
   "id": "718e82be-a522-45ae-af71-0cfa7ce47874",
   "metadata": {},
   "outputs": [
    {
     "data": {
      "text/plain": [
       "False"
      ]
     },
     "execution_count": 8,
     "metadata": {},
     "output_type": "execute_result"
    }
   ],
   "source": [
    "\"Hallo\".startswith(\"Hu\")"
   ]
  },
  {
   "cell_type": "markdown",
   "id": "51e6e043-070b-470b-b832-ed5301d33742",
   "metadata": {},
   "source": [
    "#### Error:"
   ]
  },
  {
   "cell_type": "code",
   "execution_count": 43,
   "id": "3c07e78a-b15b-427e-a09d-19e51ef30f8c",
   "metadata": {
    "tags": []
   },
   "outputs": [
    {
     "ename": "TypeError",
     "evalue": "startswith() takes at least 1 argument (0 given)",
     "output_type": "error",
     "traceback": [
      "\u001b[0;31m---------------------------------------------------------------------------\u001b[0m",
      "\u001b[0;31mTypeError\u001b[0m                                 Traceback (most recent call last)",
      "\u001b[0;32m/var/folders/98/zxnb__6d3hn1b82jwdhkbs7m0000gn/T/ipykernel_16704/4114333536.py\u001b[0m in \u001b[0;36m<module>\u001b[0;34m\u001b[0m\n\u001b[0;32m----> 1\u001b[0;31m \u001b[0;34m\"Hallo\"\u001b[0m\u001b[0;34m.\u001b[0m\u001b[0mstartswith\u001b[0m\u001b[0;34m(\u001b[0m\u001b[0;34m)\u001b[0m \u001b[0;31m# Wir müssen mindestens prefix angeben\u001b[0m\u001b[0;34m\u001b[0m\u001b[0;34m\u001b[0m\u001b[0m\n\u001b[0m",
      "\u001b[0;31mTypeError\u001b[0m: startswith() takes at least 1 argument (0 given)"
     ]
    }
   ],
   "source": [
    "\"Hallo\".startswith() # Wir müssen mindestens prefix angeben"
   ]
  },
  {
   "cell_type": "code",
   "execution_count": 45,
   "id": "b612f900-4942-40ad-af24-4f32b2b2f547",
   "metadata": {
    "tags": []
   },
   "outputs": [
    {
     "ename": "TypeError",
     "evalue": "startswith first arg must be str or a tuple of str, not int",
     "output_type": "error",
     "traceback": [
      "\u001b[0;31m---------------------------------------------------------------------------\u001b[0m",
      "\u001b[0;31mTypeError\u001b[0m                                 Traceback (most recent call last)",
      "\u001b[0;32m/var/folders/98/zxnb__6d3hn1b82jwdhkbs7m0000gn/T/ipykernel_16704/4048175952.py\u001b[0m in \u001b[0;36m<module>\u001b[0;34m\u001b[0m\n\u001b[0;32m----> 1\u001b[0;31m \u001b[0;34m\"Hallo\"\u001b[0m\u001b[0;34m.\u001b[0m\u001b[0mstartswith\u001b[0m\u001b[0;34m(\u001b[0m\u001b[0;36m42\u001b[0m\u001b[0;34m)\u001b[0m\u001b[0;34m\u001b[0m\u001b[0;34m\u001b[0m\u001b[0m\n\u001b[0m",
      "\u001b[0;31mTypeError\u001b[0m: startswith first arg must be str or a tuple of str, not int"
     ]
    }
   ],
   "source": [
    "\"Hallo\".startswith(42)"
   ]
  },
  {
   "cell_type": "code",
   "execution_count": 46,
   "id": "cbfa8902-320f-46fa-ad58-a34fd45a9086",
   "metadata": {
    "tags": []
   },
   "outputs": [
    {
     "data": {
      "text/plain": [
       "False"
      ]
     },
     "execution_count": 46,
     "metadata": {},
     "output_type": "execute_result"
    }
   ],
   "source": [
    "# Korrekte Aufruf mit nur dem Prefix\n",
    "\"Hallo\".startswith(\"hu\")"
   ]
  },
  {
   "cell_type": "markdown",
   "id": "d86e7229-ff0c-47dc-9315-2443c6ffdb90",
   "metadata": {
    "jp-MarkdownHeadingCollapsed": true
   },
   "source": [
    "### Detailierte Erklärung an Hand von Beispielen:"
   ]
  },
  {
   "cell_type": "markdown",
   "id": "903e855a-c86a-4f66-a5cc-96a4defd3414",
   "metadata": {},
   "source": [
    "Syntax:\n",
    "\n",
    "1. `str` `.` `startswith` `(` `prefix_str` `)`\n",
    "2. `str` `.` `startswith` `(` `prefix_str` `,` `start_int` `)`\n",
    "3. `str` `.` `startswith` `(` `prefix_str` `,` `start_int` `,` `end_int` `)`"
   ]
  },
  {
   "cell_type": "markdown",
   "id": "c2ea0723-4e1a-44f6-b033-16c2dc4f6a19",
   "metadata": {},
   "source": [
    "#### Beispiel 1 mit `str` `.` `startswith` `(` `prefix_str` `)`"
   ]
  },
  {
   "cell_type": "code",
   "execution_count": 11,
   "id": "e962991c-d43d-4f5e-a2b5-a095fb35fb1c",
   "metadata": {
    "tags": []
   },
   "outputs": [],
   "source": [
    "email = \"philipp@gmail.com\""
   ]
  },
  {
   "cell_type": "code",
   "execution_count": 14,
   "id": "5d1d0a67-f61a-44ba-b248-3621345b09de",
   "metadata": {},
   "outputs": [
    {
     "data": {
      "text/plain": [
       "True"
      ]
     },
     "execution_count": 14,
     "metadata": {},
     "output_type": "execute_result"
    }
   ],
   "source": [
    "email.startswith(\"philipp\")"
   ]
  },
  {
   "cell_type": "code",
   "execution_count": 15,
   "id": "8219af5c-5fa3-4fe2-93d9-49e940b5a507",
   "metadata": {
    "tags": []
   },
   "outputs": [
    {
     "data": {
      "text/plain": [
       "True"
      ]
     },
     "execution_count": 15,
     "metadata": {},
     "output_type": "execute_result"
    }
   ],
   "source": [
    "prefix = \"philipp\"\n",
    "\n",
    "prefix == email[:len(prefix)]"
   ]
  },
  {
   "cell_type": "code",
   "execution_count": 49,
   "id": "6196b7e8-ad54-4364-9c0d-cfd8811636f7",
   "metadata": {
    "tags": []
   },
   "outputs": [
    {
     "data": {
      "text/plain": [
       "'philipp'"
      ]
     },
     "execution_count": 49,
     "metadata": {},
     "output_type": "execute_result"
    }
   ],
   "source": [
    "email[:len(prefix)]"
   ]
  },
  {
   "cell_type": "markdown",
   "id": "2238103a-808b-4886-9b4c-3f17a623b54e",
   "metadata": {},
   "source": [
    "Unter der Haube läuft das Programm über den angegeben Slice des Strings vergleicht das Ergebnis mit dem Präfix."
   ]
  },
  {
   "cell_type": "markdown",
   "id": "3bcf8e7b-3ef4-41f9-add9-02472a7d81b5",
   "metadata": {},
   "source": [
    "Beispiel 2 mit `str` `.` `startswith` `(` `prefix_str` `,` `start_int` `)`"
   ]
  },
  {
   "cell_type": "code",
   "execution_count": 17,
   "id": "a0705663-53d4-401b-a709-2eef61368adb",
   "metadata": {},
   "outputs": [],
   "source": [
    "email = \"philipp@gmail.com\""
   ]
  },
  {
   "cell_type": "code",
   "execution_count": 6,
   "id": "b45d7be4-e979-4785-abb5-6c77211b57a0",
   "metadata": {
    "tags": []
   },
   "outputs": [
    {
     "data": {
      "text/plain": [
       "False"
      ]
     },
     "execution_count": 6,
     "metadata": {},
     "output_type": "execute_result"
    }
   ],
   "source": [
    "email.startswith(\"@gmail\")"
   ]
  },
  {
   "cell_type": "markdown",
   "id": "2380a6ed-e4a9-47a4-a74f-35f6d81daf52",
   "metadata": {},
   "source": [
    "Das funktioniert nicht, weil der Substring, den wir suchen mitten in der Zeichenkette steht."
   ]
  },
  {
   "cell_type": "code",
   "execution_count": 18,
   "id": "d1cdb3e6-799b-4e3e-a9d6-a0695814a082",
   "metadata": {
    "tags": []
   },
   "outputs": [
    {
     "data": {
      "text/plain": [
       "'philipp@gmail.com'"
      ]
     },
     "execution_count": 18,
     "metadata": {},
     "output_type": "execute_result"
    }
   ],
   "source": [
    "email"
   ]
  },
  {
   "cell_type": "code",
   "execution_count": 8,
   "id": "2342735c-4235-4ff8-b766-2c5c20081d10",
   "metadata": {
    "tags": []
   },
   "outputs": [
    {
     "data": {
      "text/plain": [
       "7"
      ]
     },
     "execution_count": 8,
     "metadata": {},
     "output_type": "execute_result"
    }
   ],
   "source": [
    "email.index(\"@\")"
   ]
  },
  {
   "cell_type": "markdown",
   "id": "55eed2fb-092b-4c77-970f-2d604c7d401b",
   "metadata": {},
   "source": [
    "Über die Methode `index` kann man sich den Index ausgeben lassen, an dem der gesuchte Substring beginnt."
   ]
  },
  {
   "cell_type": "code",
   "execution_count": 34,
   "id": "d5f2695f-1724-4720-9e85-366d61f11ba0",
   "metadata": {
    "tags": []
   },
   "outputs": [
    {
     "data": {
      "text/plain": [
       "'philipp@gmail.com'"
      ]
     },
     "execution_count": 34,
     "metadata": {},
     "output_type": "execute_result"
    }
   ],
   "source": [
    "email"
   ]
  },
  {
   "cell_type": "code",
   "execution_count": 22,
   "id": "2ec5020c-0b79-4ecc-bdf1-53b5b7bbd72c",
   "metadata": {
    "tags": []
   },
   "outputs": [
    {
     "data": {
      "text/plain": [
       "7"
      ]
     },
     "execution_count": 22,
     "metadata": {},
     "output_type": "execute_result"
    }
   ],
   "source": [
    "email.index(\"@gmail\")  # das @ ist an Index 7 in meinem String"
   ]
  },
  {
   "cell_type": "markdown",
   "id": "0857e633-496e-411e-90a2-b14d2073e471",
   "metadata": {},
   "source": [
    "Dieser Code funktioniert, weil es Python egal ist, was hinter \"@gmail\" kommt, obwohl der String noch nicht zuende ist."
   ]
  },
  {
   "cell_type": "code",
   "execution_count": 10,
   "id": "783beb88-9c99-4668-b4a7-6f8afebf2c2a",
   "metadata": {
    "tags": []
   },
   "outputs": [
    {
     "data": {
      "text/plain": [
       "True"
      ]
     },
     "execution_count": 10,
     "metadata": {},
     "output_type": "execute_result"
    }
   ],
   "source": [
    "email.startswith(\"@gmail\", 7)"
   ]
  },
  {
   "cell_type": "code",
   "execution_count": 35,
   "id": "01400fb2-8217-486e-8563-80bb84f8244e",
   "metadata": {
    "tags": []
   },
   "outputs": [
    {
     "data": {
      "text/plain": [
       "'@gmail.com'"
      ]
     },
     "execution_count": 35,
     "metadata": {},
     "output_type": "execute_result"
    }
   ],
   "source": [
    "email[email.index(\"@gmail\"):] # wir schneiden die ersten 7 Werte ab"
   ]
  },
  {
   "cell_type": "markdown",
   "id": "c903da49-443a-4124-96c0-4040666e085d",
   "metadata": {},
   "source": [
    "Wenn man die index Methode mit der startswith Methode kombiniert erhält man einen Code, der den gesuchten Substring im String findet, einen Slice in der Länge des gesuchten Substrings macht und dann ausgibt, ob der gefundene Substring dem Suchobjekt entspricht."
   ]
  },
  {
   "cell_type": "markdown",
   "id": "d6951387-db9f-422c-813b-9bd425a27b9a",
   "metadata": {},
   "source": [
    "Man kann das Übersetzen als die Frage: \"Beginnt der Slice von Email am Index 7 mit \"@gmail\"?\""
   ]
  },
  {
   "cell_type": "code",
   "execution_count": 52,
   "id": "806ece74-1b0d-44a2-a2c1-5919dd4bd086",
   "metadata": {
    "tags": []
   },
   "outputs": [
    {
     "data": {
      "text/plain": [
       "True"
      ]
     },
     "execution_count": 52,
     "metadata": {},
     "output_type": "execute_result"
    }
   ],
   "source": [
    "# Also ist folgender code ohne start dazu analog my_substring = \"@gm\"\n",
    "email[email.index(\"@gmail\"):].startswith(\"@gmail\") # wir schneide die ersten 7 ab\n",
    "# und nutzen dann wieder startswith OHNE START"
   ]
  },
  {
   "cell_type": "code",
   "execution_count": 19,
   "id": "1ea372e4-723f-4ec3-9f41-a525522c601a",
   "metadata": {
    "tags": []
   },
   "outputs": [
    {
     "data": {
      "text/plain": [
       "True"
      ]
     },
     "execution_count": 19,
     "metadata": {},
     "output_type": "execute_result"
    }
   ],
   "source": [
    "# Analog folgender Code\n",
    "my_substring = \"@gmail\"\n",
    "\n",
    "my_substring == email[email.index(\"@gmail\"):email.index(\"@gmail\")+len(my_substring)]"
   ]
  },
  {
   "cell_type": "markdown",
   "id": "6839b6a4-d2eb-4452-b7fb-570e7be727ab",
   "metadata": {},
   "source": [
    "Wir wollen prüfen ob ab dem index 7 der Substring \"\\@gmail\" beginnt. "
   ]
  },
  {
   "cell_type": "code",
   "execution_count": 25,
   "id": "0798be68-c8a6-449e-b9b1-31ad0609951f",
   "metadata": {},
   "outputs": [
    {
     "data": {
      "text/plain": [
       "'philipp@gmail.com'"
      ]
     },
     "execution_count": 25,
     "metadata": {},
     "output_type": "execute_result"
    }
   ],
   "source": [
    "email"
   ]
  },
  {
   "cell_type": "code",
   "execution_count": 21,
   "id": "3c755d9e-3f70-4dae-913b-aab813c907aa",
   "metadata": {
    "tags": []
   },
   "outputs": [
    {
     "data": {
      "text/plain": [
       "True"
      ]
     },
     "execution_count": 21,
     "metadata": {},
     "output_type": "execute_result"
    }
   ],
   "source": [
    "# Oder analog folgender code ohne start\n",
    "my_substring = \"@gmail\"\n",
    "email[email.index(\"@gmail\"):].startswith(\"@gmail\") # beachte hier haben wir NICHT einen start angeben"
   ]
  },
  {
   "cell_type": "markdown",
   "id": "b59a1570-6d0a-4111-a64b-70f39828479d",
   "metadata": {},
   "source": [
    "Beispiel 3 mit `str` `.` `startswith` `(` `prefix_str` `,` `start_int` `,` `end_int` `)`"
   ]
  },
  {
   "cell_type": "code",
   "execution_count": 24,
   "id": "2c6738f2-9a7d-4535-942c-d92d5e0e6664",
   "metadata": {},
   "outputs": [],
   "source": [
    "email = \"philipp@gmail.com\""
   ]
  },
  {
   "cell_type": "code",
   "execution_count": 34,
   "id": "a9e70395-b4a4-4fc2-a919-08f9c268888d",
   "metadata": {
    "tags": []
   },
   "outputs": [
    {
     "data": {
      "text/plain": [
       "'@gmail.com'"
      ]
     },
     "execution_count": 34,
     "metadata": {},
     "output_type": "execute_result"
    }
   ],
   "source": [
    "email[7:]"
   ]
  },
  {
   "cell_type": "code",
   "execution_count": 35,
   "id": "dfe059f6-d3c5-4793-919f-1ccbbe0c5ed1",
   "metadata": {
    "tags": []
   },
   "outputs": [
    {
     "data": {
      "text/plain": [
       "'@gmail'"
      ]
     },
     "execution_count": 35,
     "metadata": {},
     "output_type": "execute_result"
    }
   ],
   "source": [
    "email[7:13] # END IST EXKLUSIV!!!"
   ]
  },
  {
   "cell_type": "code",
   "execution_count": 36,
   "id": "e522d897-0649-4f81-a825-693a4ef7f5f4",
   "metadata": {
    "tags": []
   },
   "outputs": [
    {
     "data": {
      "text/plain": [
       "False"
      ]
     },
     "execution_count": 36,
     "metadata": {},
     "output_type": "execute_result"
    }
   ],
   "source": [
    "email.startswith(\"@gmail\", )"
   ]
  },
  {
   "cell_type": "code",
   "execution_count": 37,
   "id": "c4200430-a807-44e5-9932-fab9cb920d2a",
   "metadata": {
    "tags": []
   },
   "outputs": [
    {
     "data": {
      "text/plain": [
       "'@gmail'"
      ]
     },
     "execution_count": 37,
     "metadata": {},
     "output_type": "execute_result"
    }
   ],
   "source": [
    "email[7:13]"
   ]
  },
  {
   "cell_type": "code",
   "execution_count": 38,
   "id": "eb62f6d7-aaff-4593-9693-5124dbe10cab",
   "metadata": {
    "tags": []
   },
   "outputs": [
    {
     "data": {
      "text/plain": [
       "True"
      ]
     },
     "execution_count": 38,
     "metadata": {},
     "output_type": "execute_result"
    }
   ],
   "source": [
    "email.startswith(\"@gmail\", 7,13)\n",
    "# Folgender Slice wurde beachtet email[7:13] => \"\"@gmail\" , \"@gmail\" beginnt mit 7 und endet VOR 13"
   ]
  },
  {
   "cell_type": "code",
   "execution_count": 43,
   "id": "9c82c43c-d103-4ef1-bb2c-4da0a88689e0",
   "metadata": {},
   "outputs": [
    {
     "data": {
      "text/plain": [
       "True"
      ]
     },
     "execution_count": 43,
     "metadata": {},
     "output_type": "execute_result"
    }
   ],
   "source": [
    "email.startswith(\"@gmail\", 7, 7 + len(\"@gmail\"))"
   ]
  },
  {
   "cell_type": "code",
   "execution_count": 44,
   "id": "0bd505eb-d22b-4f4e-af83-b707ed19446d",
   "metadata": {
    "tags": []
   },
   "outputs": [
    {
     "data": {
      "text/plain": [
       "True"
      ]
     },
     "execution_count": 44,
     "metadata": {},
     "output_type": "execute_result"
    }
   ],
   "source": [
    "email.startswith(\"@gmail\", 7, 999)"
   ]
  },
  {
   "cell_type": "code",
   "execution_count": 45,
   "id": "bd09e110-4b82-45d7-bcfe-51292061e5f0",
   "metadata": {
    "tags": []
   },
   "outputs": [
    {
     "data": {
      "text/plain": [
       "'@gmail.com'"
      ]
     },
     "execution_count": 45,
     "metadata": {},
     "output_type": "execute_result"
    }
   ],
   "source": [
    "email[7:999]"
   ]
  },
  {
   "cell_type": "markdown",
   "id": "220e03f2-b745-4ac6-a4ef-2d1235f0b36e",
   "metadata": {},
   "source": [
    "String.startswith(\"Substring\", BEGINN SLICE, ENDE SLICE) Frage? Ist \"Substring\" der Anfang dieses Slices?"
   ]
  },
  {
   "cell_type": "markdown",
   "id": "b5748759-6220-4339-ae7a-6bc1152b61ba",
   "metadata": {},
   "source": [
    "#### Beispiel mit Tuple von Strings"
   ]
  },
  {
   "cell_type": "markdown",
   "id": "d93a5962-b64f-46e7-81b7-92c692079ed6",
   "metadata": {},
   "source": [
    "Man kann das Übersetzen als die Frage: \"Beginnt der Slice von Email mit einem der folgenden Substrings: \"phil\", \"frank\"?"
   ]
  },
  {
   "cell_type": "code",
   "execution_count": 7,
   "id": "44acd2a1-c16e-4ebe-9b1a-a2ed92a7b809",
   "metadata": {
    "tags": []
   },
   "outputs": [
    {
     "data": {
      "text/plain": [
       "False"
      ]
     },
     "execution_count": 7,
     "metadata": {},
     "output_type": "execute_result"
    }
   ],
   "source": [
    "email.startswith((\"frank\", \"otto\"))"
   ]
  },
  {
   "cell_type": "code",
   "execution_count": 6,
   "id": "0213ab6a-f893-4ed4-802d-5588dadb0e42",
   "metadata": {},
   "outputs": [
    {
     "data": {
      "text/plain": [
       "True"
      ]
     },
     "execution_count": 6,
     "metadata": {},
     "output_type": "execute_result"
    }
   ],
   "source": [
    "email.startswith((\"phil\", \"frank\"))"
   ]
  },
  {
   "cell_type": "markdown",
   "id": "1a68726e-a232-4b99-8f2c-a82da13d9e63",
   "metadata": {},
   "source": [
    "## endswith"
   ]
  },
  {
   "cell_type": "markdown",
   "id": "52b0c8bc-39eb-44d4-b9b6-f5ab5673198c",
   "metadata": {
    "jp-MarkdownHeadingCollapsed": true
   },
   "source": [
    "### Überblick"
   ]
  },
  {
   "cell_type": "markdown",
   "id": "3dd0a530-257e-4631-9d84-d10b785c90a7",
   "metadata": {},
   "source": [
    "\n",
    "Name der Methode: str.startswith \n",
    "\n",
    "Instanz der Klasse: str\n",
    "\n",
    "Syntax:\n",
    "\n",
    "1. `str` `.` `endswith` `(` `suffix_str` `)`\n",
    "2. `str` `.` `endswith` `(` `suffix_str` `,` `start_int` `)`\n",
    "3. `str` `.` `endswith` `(` `suffix_str` `,` `start_int` `,` `end_int` `)`\n",
    "\n",
    "```python\n",
    "Parameter: \n",
    "str.endswith(suffix[, start[, end]])\n",
    "```\n",
    "Funktion: \n",
    "\n",
    "Mit endswith() kann man überprüfen, ob eine Zeichenkette (String) mit einem bestimmten Suffix / Substring, endet. Sie gibt True zurück, wenn die Zeichenkette mit dem angegebenen Suffix endet, andernfalls gibt sie False zurück.\n",
    "Die Angabe von start und end ist Optional.\n",
    "Start gibt den Index an, AB dem die Überprüfung beginnen soll. Standardmäßig ist dies der Index 0 (der Anfang der Zeichenkette).\n",
    "End gibt den Index an, BIS zu dem die Überprüfung erfolgen soll. Standardmäßig ist dies das Ende der Zeichenkette.\n",
    "\n",
    "return:  \n",
    "```python\n",
    "bool\n",
    "```\n",
    "Error: TypeError\n"
   ]
  },
  {
   "cell_type": "markdown",
   "id": "7976761b-a822-49f7-a5e0-98390d90bed2",
   "metadata": {},
   "source": [
    "#### Instanz"
   ]
  },
  {
   "cell_type": "markdown",
   "id": "cf6fa09b-424d-4aff-ad44-45532203f1d8",
   "metadata": {},
   "source": [
    "Die `endswith Methode` kann nur auf Strings angewendet werden und gibt ebenfalls einen String zurück."
   ]
  },
  {
   "cell_type": "markdown",
   "id": "da27eee5-b4ab-4902-b17d-ca714fd42ea9",
   "metadata": {},
   "source": [
    "#### Parameter"
   ]
  },
  {
   "cell_type": "code",
   "execution_count": 46,
   "id": "826ad553-d408-4fd2-8ee4-f9525d893efd",
   "metadata": {
    "tags": []
   },
   "outputs": [
    {
     "data": {
      "text/plain": [
       "\u001b[1;31mDocstring:\u001b[0m\n",
       "S.endswith(suffix[, start[, end]]) -> bool\n",
       "\n",
       "Return True if S ends with the specified suffix, False otherwise.\n",
       "With optional start, test S beginning at that position.\n",
       "With optional end, stop comparing S at that position.\n",
       "suffix can also be a tuple of strings to try.\n",
       "\u001b[1;31mType:\u001b[0m      method_descriptor"
      ]
     },
     "metadata": {},
     "output_type": "display_data"
    }
   ],
   "source": [
    "str.endswith?"
   ]
  },
  {
   "cell_type": "markdown",
   "id": "4f576067-badd-4a1d-80e1-60b9c690247c",
   "metadata": {},
   "source": [
    "#### return"
   ]
  },
  {
   "cell_type": "code",
   "execution_count": 49,
   "id": "45a07bdf-69b7-42af-9cac-66507b53e7ca",
   "metadata": {},
   "outputs": [
    {
     "data": {
      "text/plain": [
       "True"
      ]
     },
     "execution_count": 49,
     "metadata": {},
     "output_type": "execute_result"
    }
   ],
   "source": [
    "# Korrekte Aufruf mit nur dem Prefix --> bool\n",
    "\"Hallo\".endswith(\"lo\")"
   ]
  },
  {
   "cell_type": "code",
   "execution_count": 51,
   "id": "07d80a38-e33c-4cef-b717-b0a6ad30fab1",
   "metadata": {},
   "outputs": [
    {
     "data": {
      "text/plain": [
       "False"
      ]
     },
     "execution_count": 51,
     "metadata": {},
     "output_type": "execute_result"
    }
   ],
   "source": [
    "\"Hallo\".endswith(\"la\")"
   ]
  },
  {
   "cell_type": "markdown",
   "id": "3e55e82d-8bef-4bc5-8833-18aba3c1e64f",
   "metadata": {},
   "source": [
    "#### Error:"
   ]
  },
  {
   "cell_type": "code",
   "execution_count": 52,
   "id": "49c4bea2-fd3f-4924-8399-38ce07f3f5cf",
   "metadata": {
    "tags": []
   },
   "outputs": [
    {
     "ename": "TypeError",
     "evalue": "endswith() takes at least 1 argument (0 given)",
     "output_type": "error",
     "traceback": [
      "\u001b[1;31m---------------------------------------------------------------------------\u001b[0m",
      "\u001b[1;31mTypeError\u001b[0m                                 Traceback (most recent call last)",
      "Cell \u001b[1;32mIn[52], line 1\u001b[0m\n\u001b[1;32m----> 1\u001b[0m \u001b[38;5;124;43m\"\u001b[39;49m\u001b[38;5;124;43mHallo\u001b[39;49m\u001b[38;5;124;43m\"\u001b[39;49m\u001b[38;5;241;43m.\u001b[39;49m\u001b[43mendswith\u001b[49m\u001b[43m(\u001b[49m\u001b[43m)\u001b[49m \u001b[38;5;66;03m# Wir müssen mindestens prefix angeben\u001b[39;00m\n",
      "\u001b[1;31mTypeError\u001b[0m: endswith() takes at least 1 argument (0 given)"
     ]
    }
   ],
   "source": [
    "\"Hallo\".endswith() # Wir müssen mindestens prefix angeben"
   ]
  },
  {
   "cell_type": "code",
   "execution_count": 53,
   "id": "1699f171-0e47-4855-b30a-64dfaf1dd9e4",
   "metadata": {
    "tags": []
   },
   "outputs": [
    {
     "ename": "TypeError",
     "evalue": "endswith first arg must be str or a tuple of str, not int",
     "output_type": "error",
     "traceback": [
      "\u001b[1;31m---------------------------------------------------------------------------\u001b[0m",
      "\u001b[1;31mTypeError\u001b[0m                                 Traceback (most recent call last)",
      "Cell \u001b[1;32mIn[53], line 1\u001b[0m\n\u001b[1;32m----> 1\u001b[0m \u001b[38;5;124;43m\"\u001b[39;49m\u001b[38;5;124;43mHallo\u001b[39;49m\u001b[38;5;124;43m\"\u001b[39;49m\u001b[38;5;241;43m.\u001b[39;49m\u001b[43mendswith\u001b[49m\u001b[43m(\u001b[49m\u001b[38;5;241;43m42\u001b[39;49m\u001b[43m)\u001b[49m\n",
      "\u001b[1;31mTypeError\u001b[0m: endswith first arg must be str or a tuple of str, not int"
     ]
    }
   ],
   "source": [
    "\"Hallo\".endswith(42)"
   ]
  },
  {
   "cell_type": "code",
   "execution_count": 54,
   "id": "4656bedd-f6e7-422e-ad88-89d4ab96f138",
   "metadata": {
    "tags": []
   },
   "outputs": [
    {
     "data": {
      "text/plain": [
       "True"
      ]
     },
     "execution_count": 54,
     "metadata": {},
     "output_type": "execute_result"
    }
   ],
   "source": [
    "# Korrekte Aufruf mit nur dem Prefix\n",
    "\"Hallo\".endswith(\"lo\")"
   ]
  },
  {
   "cell_type": "markdown",
   "id": "a3664164-6821-4d08-89d6-e2010cd90f70",
   "metadata": {
    "jp-MarkdownHeadingCollapsed": true
   },
   "source": [
    "### Detailierte Erklärung an Hand von Beispielen:"
   ]
  },
  {
   "cell_type": "markdown",
   "id": "0bcbf427-6b41-4bac-b8e0-c4ab6da76e89",
   "metadata": {},
   "source": [
    "Syntax:\n",
    "\n",
    "1. `str` `.` `endswith` `(` `suffix_str` `)`\n",
    "2. `str` `.` `endswith` `(` `suffix_str` `,` `start_int` `)`\n",
    "3. `str` `.` `endswith` `(` `suffix_str` `,` `start_int` `,` `end_int` `)`"
   ]
  },
  {
   "cell_type": "markdown",
   "id": "9a6f75b9-000e-4e83-b020-af74e1366ee1",
   "metadata": {
    "jp-MarkdownHeadingCollapsed": true
   },
   "source": [
    "#### Beispiel 1 mit `str` `.` `endswith` `(` `suffix_str` `)`"
   ]
  },
  {
   "cell_type": "code",
   "execution_count": 11,
   "id": "69bb413a-8c54-4a22-8604-5df87419033e",
   "metadata": {
    "tags": []
   },
   "outputs": [],
   "source": [
    "email = \"philipp@gmail.com\""
   ]
  },
  {
   "cell_type": "code",
   "execution_count": 55,
   "id": "df49cc27-3547-47ed-a091-ef2a163b89e3",
   "metadata": {},
   "outputs": [
    {
     "data": {
      "text/plain": [
       "True"
      ]
     },
     "execution_count": 55,
     "metadata": {},
     "output_type": "execute_result"
    }
   ],
   "source": [
    "email.endswith(\"com\")"
   ]
  },
  {
   "cell_type": "code",
   "execution_count": 67,
   "id": "622c15ce-5c04-45a6-bbb9-38e6ec72da62",
   "metadata": {},
   "outputs": [
    {
     "data": {
      "text/plain": [
       "14"
      ]
     },
     "execution_count": 67,
     "metadata": {},
     "output_type": "execute_result"
    }
   ],
   "source": [
    "email.index(\"com\")"
   ]
  },
  {
   "cell_type": "code",
   "execution_count": 68,
   "id": "8895bfc4-8a8b-41b5-8b58-3f08bbb4e150",
   "metadata": {
    "tags": []
   },
   "outputs": [
    {
     "data": {
      "text/plain": [
       "True"
      ]
     },
     "execution_count": 68,
     "metadata": {},
     "output_type": "execute_result"
    }
   ],
   "source": [
    "suffix = \"com\"\n",
    "\n",
    "suffix == email[14:14+len(suffix)]"
   ]
  },
  {
   "cell_type": "markdown",
   "id": "4e4bc473-30e1-476e-b316-18d28ce6928e",
   "metadata": {},
   "source": [
    "Unter der Haube läuft das Programm über den angegeben Slice des Strings vergleicht das Ergebnis mit dem Präfix."
   ]
  },
  {
   "cell_type": "markdown",
   "id": "1dc8ff4a-7d8e-46e7-8f7f-d7e5e653c6f2",
   "metadata": {},
   "source": [
    "Beispiel 2 mit `str` `.` `endswith` `(` `suffix_str` `,` `start_int` `)`"
   ]
  },
  {
   "cell_type": "code",
   "execution_count": 78,
   "id": "6d1659e2-4658-4894-9109-a39c1b1ecf3f",
   "metadata": {},
   "outputs": [],
   "source": [
    "suffix = \"@gmail\""
   ]
  },
  {
   "cell_type": "code",
   "execution_count": 79,
   "id": "d6328a73-bae9-4794-bb7a-924702d939a7",
   "metadata": {},
   "outputs": [],
   "source": [
    "email = \"philipp@gmail.com\""
   ]
  },
  {
   "cell_type": "code",
   "execution_count": 80,
   "id": "035c32c4-8166-4dd7-86ea-9dd248063ad4",
   "metadata": {
    "tags": []
   },
   "outputs": [
    {
     "data": {
      "text/plain": [
       "False"
      ]
     },
     "execution_count": 80,
     "metadata": {},
     "output_type": "execute_result"
    }
   ],
   "source": [
    "email.endswith(\"@gmail\")"
   ]
  },
  {
   "cell_type": "markdown",
   "id": "6e032536-bd4b-4c58-9620-b98d308bbb6e",
   "metadata": {},
   "source": [
    "Das funktioniert nicht, weil der Substring, den wir suchen mitten in der Zeichenkette steht."
   ]
  },
  {
   "cell_type": "code",
   "execution_count": 81,
   "id": "bf741447-41ef-4358-b466-1ae9318ebba6",
   "metadata": {
    "tags": []
   },
   "outputs": [
    {
     "data": {
      "text/plain": [
       "'philipp@gmail.com'"
      ]
     },
     "execution_count": 81,
     "metadata": {},
     "output_type": "execute_result"
    }
   ],
   "source": [
    "email"
   ]
  },
  {
   "cell_type": "code",
   "execution_count": 82,
   "id": "0c1e16ce-30ec-42ee-93bb-fc8aabfec020",
   "metadata": {
    "tags": []
   },
   "outputs": [
    {
     "data": {
      "text/plain": [
       "7"
      ]
     },
     "execution_count": 82,
     "metadata": {},
     "output_type": "execute_result"
    }
   ],
   "source": [
    "email.index(\"@\")"
   ]
  },
  {
   "cell_type": "markdown",
   "id": "9fb72d0a-2a71-4184-a001-9fef6456695e",
   "metadata": {},
   "source": [
    "Über die Methode `index` kann man sich den Index ausgeben lassen, an dem der gesuchte Substring beginnt."
   ]
  },
  {
   "cell_type": "code",
   "execution_count": 83,
   "id": "596f74d2-dedd-41f6-937d-ec0f4612b36a",
   "metadata": {
    "tags": []
   },
   "outputs": [
    {
     "data": {
      "text/plain": [
       "'philipp@gmail.com'"
      ]
     },
     "execution_count": 83,
     "metadata": {},
     "output_type": "execute_result"
    }
   ],
   "source": [
    "email"
   ]
  },
  {
   "cell_type": "code",
   "execution_count": 84,
   "id": "4ae2b20a-1749-43dc-972e-9f21f2fff7ae",
   "metadata": {
    "tags": []
   },
   "outputs": [
    {
     "data": {
      "text/plain": [
       "7"
      ]
     },
     "execution_count": 84,
     "metadata": {},
     "output_type": "execute_result"
    }
   ],
   "source": [
    "email.index(\"@gmail\")  # das @ ist an Index 7 in meinem String"
   ]
  },
  {
   "cell_type": "code",
   "execution_count": 90,
   "id": "065ec729-d021-472b-b36d-4de6bd2dd209",
   "metadata": {},
   "outputs": [
    {
     "data": {
      "text/plain": [
       "'@gmail.com'"
      ]
     },
     "execution_count": 90,
     "metadata": {},
     "output_type": "execute_result"
    }
   ],
   "source": [
    "email[7:]"
   ]
  },
  {
   "cell_type": "code",
   "execution_count": 89,
   "id": "fc45ab53-0c80-4e7f-a6d5-cbb481c569da",
   "metadata": {},
   "outputs": [
    {
     "data": {
      "text/plain": [
       "False"
      ]
     },
     "execution_count": 89,
     "metadata": {},
     "output_type": "execute_result"
    }
   ],
   "source": [
    "suffix == email[7:]"
   ]
  },
  {
   "cell_type": "markdown",
   "id": "4ba1f612-98d7-4b53-b11a-8b329e5c1e7e",
   "metadata": {},
   "source": [
    "Es sieht so aus als würde das Ergebnis False bleiben, sollange man bei einem Substring in der Mitte des Strings kein End setzt. "
   ]
  },
  {
   "cell_type": "code",
   "execution_count": 87,
   "id": "cabe7e3a-772f-4e97-b278-84145f081d57",
   "metadata": {
    "tags": []
   },
   "outputs": [
    {
     "data": {
      "text/plain": [
       "False"
      ]
     },
     "execution_count": 87,
     "metadata": {},
     "output_type": "execute_result"
    }
   ],
   "source": [
    "email.endswith(\"@gmail\", 7)"
   ]
  },
  {
   "cell_type": "code",
   "execution_count": 88,
   "id": "f5deb351-4dcd-46a1-9462-6170b51c3d71",
   "metadata": {
    "tags": []
   },
   "outputs": [
    {
     "data": {
      "text/plain": [
       "'@gmail.com'"
      ]
     },
     "execution_count": 88,
     "metadata": {},
     "output_type": "execute_result"
    }
   ],
   "source": [
    "email[email.index(\"@gmail\"):] # wir schneiden die ersten 7 Werte ab"
   ]
  },
  {
   "cell_type": "markdown",
   "id": "73e949c6-f09f-4297-876b-5e0b7630c356",
   "metadata": {},
   "source": [
    "Beispiel 3 mit `str` `.` `startswith` `(` `prefix_str` `,` `start_int` `,` `end_int` `)`"
   ]
  },
  {
   "cell_type": "code",
   "execution_count": 24,
   "id": "ec83a25b-6192-4a2c-ac82-1c546e90e35b",
   "metadata": {},
   "outputs": [],
   "source": [
    "email = \"philipp@gmail.com\""
   ]
  },
  {
   "cell_type": "code",
   "execution_count": 35,
   "id": "1f1cac93-4ac9-490d-8f3b-cb0375bb7f37",
   "metadata": {
    "tags": []
   },
   "outputs": [
    {
     "data": {
      "text/plain": [
       "'@gmail'"
      ]
     },
     "execution_count": 35,
     "metadata": {},
     "output_type": "execute_result"
    }
   ],
   "source": [
    "email[7:13] # END IST EXKLUSIV!!!"
   ]
  },
  {
   "cell_type": "code",
   "execution_count": 102,
   "id": "2dbf89dd-6fe5-420b-9918-b11983132f3f",
   "metadata": {
    "tags": []
   },
   "outputs": [
    {
     "data": {
      "text/plain": [
       "True"
      ]
     },
     "execution_count": 102,
     "metadata": {},
     "output_type": "execute_result"
    }
   ],
   "source": [
    "email.endswith(\"@gmail\", 7,13)\n",
    "# Folgender Slice wurde beachtet email[7:13] => \"\"@gmail\" , \"@gmail\" beginnt mit 7 und endet VOR 13"
   ]
  },
  {
   "cell_type": "code",
   "execution_count": 96,
   "id": "5fbbcec9-0119-4fb0-b7d0-9389c43f896b",
   "metadata": {},
   "outputs": [
    {
     "data": {
      "text/plain": [
       "True"
      ]
     },
     "execution_count": 96,
     "metadata": {},
     "output_type": "execute_result"
    }
   ],
   "source": [
    "email.endswith(\"@gmail\", 7, 7 + len(\"@gmail\"))"
   ]
  },
  {
   "cell_type": "code",
   "execution_count": 99,
   "id": "67e93765-b4fa-4086-9195-1f93d3a8a6c4",
   "metadata": {
    "tags": []
   },
   "outputs": [
    {
     "data": {
      "text/plain": [
       "True"
      ]
     },
     "execution_count": 99,
     "metadata": {},
     "output_type": "execute_result"
    }
   ],
   "source": [
    "email.endswith(\"@gmail\",-999, 13)"
   ]
  },
  {
   "cell_type": "code",
   "execution_count": 100,
   "id": "bfee09b8-6c67-41ea-9b2b-d5fdb90152c0",
   "metadata": {
    "tags": []
   },
   "outputs": [
    {
     "data": {
      "text/plain": [
       "'philipp@gmail'"
      ]
     },
     "execution_count": 100,
     "metadata": {},
     "output_type": "execute_result"
    }
   ],
   "source": [
    "email[-999:13]"
   ]
  },
  {
   "cell_type": "markdown",
   "id": "075b7702-439e-4403-8094-475e2373cc55",
   "metadata": {},
   "source": [
    "Wenn man die index Methode mit der endswith Methode kombiniert erhält man einen Code, der den gesuchten Substring im String findet, einen Slice in der Länge des gesuchten Substrings macht und dann ausgibt, ob der gefundene Substring dem Suchobjekt entspricht."
   ]
  },
  {
   "cell_type": "markdown",
   "id": "a81f99b5-1546-419a-8584-7f67f2061c63",
   "metadata": {},
   "source": [
    "Man kann das Übersetzen als die Frage: \"Endet der Slice von Email vor Index 13 mit \"@gmail\"?"
   ]
  },
  {
   "cell_type": "code",
   "execution_count": 104,
   "id": "5b779aac-d8b9-4273-b701-8d9a895ee50c",
   "metadata": {
    "tags": []
   },
   "outputs": [
    {
     "data": {
      "text/plain": [
       "True"
      ]
     },
     "execution_count": 104,
     "metadata": {},
     "output_type": "execute_result"
    }
   ],
   "source": [
    "# Also ist folgender code ohne start aber MIT END + len(suffix)\n",
    "email[:email.index(\"@gmail\") + len(suffix)].endswith(\"@gmail\") # wir schneiden VOR Index 13 ab\n",
    "# und nutzen dann wieder endswith OHNE START"
   ]
  },
  {
   "cell_type": "code",
   "execution_count": 2,
   "id": "83aadace-5d1c-409e-9b67-9a755e5233c8",
   "metadata": {},
   "outputs": [],
   "source": [
    "email = \"philipp@gmail.com\""
   ]
  },
  {
   "cell_type": "markdown",
   "id": "0929d7e0-8cb8-4b51-aff4-9aac15c52641",
   "metadata": {},
   "source": [
    "Dieser Code löst das Problem ohne die Verwendung von startswith oder endswith und funktioniert genau so gut."
   ]
  },
  {
   "cell_type": "code",
   "execution_count": 3,
   "id": "963f10f1-6844-47a9-9d73-73a5794841d8",
   "metadata": {
    "tags": []
   },
   "outputs": [
    {
     "data": {
      "text/plain": [
       "True"
      ]
     },
     "execution_count": 3,
     "metadata": {},
     "output_type": "execute_result"
    }
   ],
   "source": [
    "# Analog folgender Code\n",
    "my_substring = \"@gmail\"\n",
    "\n",
    "my_substring == email[email.index(\"@gmail\"):email.index(\"@gmail\")+len(my_substring)]"
   ]
  },
  {
   "cell_type": "markdown",
   "id": "3a0fd031-12d5-42ab-adbc-edfba8a94f99",
   "metadata": {},
   "source": [
    "String.endswith(\"Substring\", BEGINN SLICE, ENDE SLICE) Frage? Ist \"Substring\" das Ende dieses Slices?"
   ]
  },
  {
   "cell_type": "markdown",
   "id": "1bb88da0-9e7a-4255-a912-8580ee8c8921",
   "metadata": {},
   "source": [
    "#### Beispiel mit Tuple von Strings"
   ]
  },
  {
   "cell_type": "markdown",
   "id": "aa9a62c8-9c06-4986-8c6e-95b5146bcc7a",
   "metadata": {},
   "source": [
    "Man kann das Übersetzen als die Frage: \"Endet der Slice von Email mit einem der folgenden Substrings: \"com\", \"de\"?"
   ]
  },
  {
   "cell_type": "code",
   "execution_count": 5,
   "id": "d9e55b91-2b63-486d-b739-f67dac307856",
   "metadata": {},
   "outputs": [
    {
     "data": {
      "text/plain": [
       "False"
      ]
     },
     "execution_count": 5,
     "metadata": {},
     "output_type": "execute_result"
    }
   ],
   "source": [
    "email.endswith((\"gmx\", \"de\"))"
   ]
  },
  {
   "cell_type": "code",
   "execution_count": 4,
   "id": "0fa7a1df-fbec-497b-9208-e4fb2e846a20",
   "metadata": {
    "tags": []
   },
   "outputs": [
    {
     "data": {
      "text/plain": [
       "True"
      ]
     },
     "execution_count": 4,
     "metadata": {},
     "output_type": "execute_result"
    }
   ],
   "source": [
    "email.endswith((\"com\", \"de\"))"
   ]
  },
  {
   "cell_type": "markdown",
   "id": "bfcdd475-b778-4210-add2-efc7ecbef3bd",
   "metadata": {
    "jp-MarkdownHeadingCollapsed": true
   },
   "source": [
    "## Praktische Beispiele"
   ]
  },
  {
   "cell_type": "code",
   "execution_count": 14,
   "id": "a85087fc-0484-400c-b3f1-435106cae2c2",
   "metadata": {},
   "outputs": [],
   "source": [
    "plz_list = [\n",
    "    \"10115\", \"04109\", \"20095\", \"60311\", \"80331\",\n",
    "    \"50667\", \"70173\", \"30159\", \"01067\", \"89073\",\n",
    "    \"24103\", \"28195\", \"39104\", \"01069\", \"49074\",\n",
    "    \"55116\", \"28199\", \"90402\", \"07743\", \"14467\",\n",
    "    \"20099\", \"30169\", \"04157\", \"10551\", \"79104\",\n",
    "    \"04177\", \"50670\", \"65183\", \"94032\", \"40210\",\n",
    "    \"90403\", \"01099\", \"18055\", \"28197\", \"66111\",\n",
    "    \"10787\", \"79098\", \"65185\", \"50672\", \"10179\"\n",
    "]"
   ]
  },
  {
   "cell_type": "markdown",
   "id": "f387deba-4f64-48dd-b4e7-02b197a60b83",
   "metadata": {},
   "source": [
    "Aus dieser bunt gemischten Liste an Postleitzahlen interessieren uns alle, die mit folgenden Zahlen beginnen:"
   ]
  },
  {
   "cell_type": "markdown",
   "id": "42f042c3-6a6f-4d0f-ac5b-8d977def3b70",
   "metadata": {},
   "source": [
    "### Version"
   ]
  },
  {
   "cell_type": "markdown",
   "id": "a0184205-a53a-4444-8bbb-8670f9bb8a40",
   "metadata": {},
   "source": [
    "1 Einmal mit `startswith`, einmal mit `endswith`"
   ]
  },
  {
   "cell_type": "code",
   "execution_count": 24,
   "id": "d0b9e2a5-b70d-46af-b077-298dc1e6495a",
   "metadata": {},
   "outputs": [
    {
     "name": "stdout",
     "output_type": "stream",
     "text": [
      "01067, 01069, 01099, 65183, 65185, 66111, 80331, "
     ]
    }
   ],
   "source": [
    "plz_of_interest = \"65\", \"66\", \"67\", \"01\", \"80\"\n",
    "\n",
    "for plz in plz_list: \n",
    "    if plz.startswith(plz_of_interest):\n",
    "        print(plz, end = \", \")"
   ]
  },
  {
   "cell_type": "code",
   "execution_count": 26,
   "id": "4bd1d1ab-cafb-42c1-996c-fe9a19107951",
   "metadata": {},
   "outputs": [
    {
     "name": "stdout",
     "output_type": "stream",
     "text": [
      "01067, 14467, 50667, "
     ]
    }
   ],
   "source": [
    "plz_of_interest = \"65\", \"66\", \"67\", \"01\", \"80\"\n",
    "\n",
    "for plz in plz_list: \n",
    "    if plz.endswith(plz_of_interest):\n",
    "        print(plz, end = \", \")"
   ]
  },
  {
   "cell_type": "markdown",
   "id": "aa20842a-30f8-489f-ab49-5900d315a94e",
   "metadata": {},
   "source": [
    "### Version 2"
   ]
  },
  {
   "cell_type": "markdown",
   "id": "da22c434-672d-4a9f-9054-e439994f6b29",
   "metadata": {},
   "source": [
    "Alle die XXX65 ... und alle mit XX65X ..."
   ]
  },
  {
   "cell_type": "code",
   "execution_count": 27,
   "id": "eb422e5e-61b6-4efb-889e-1817fd5a9e15",
   "metadata": {},
   "outputs": [
    {
     "name": "stdout",
     "output_type": "stream",
     "text": [
      "01067\n",
      "14467\n",
      "50667\n",
      "50670\n",
      "50672\n"
     ]
    }
   ],
   "source": [
    "plz_of_interest = \"65\", \"66\", \"67\", \"01\", \"80\"\n",
    "\n",
    "for plz in plz_list: \n",
    "    \n",
    "    if plz.startswith(plz_of_interest,2) or plz.startswith(plz_of_interest,3):\n",
    "        print(plz)\n",
    "     "
   ]
  },
  {
   "cell_type": "markdown",
   "id": "7240c8d9-8a0f-4b1e-a49f-a4d5192982b6",
   "metadata": {},
   "source": [
    "### Version 3"
   ]
  },
  {
   "cell_type": "markdown",
   "id": "fc08ea95-3faa-484a-91a1-f887f4b0d592",
   "metadata": {},
   "source": [
    "Den Vorgang als Liste veranschaulicht"
   ]
  },
  {
   "cell_type": "code",
   "execution_count": 28,
   "id": "141e0663-c44e-4ece-a57b-ad9cbd19f6f5",
   "metadata": {},
   "outputs": [
    {
     "name": "stdout",
     "output_type": "stream",
     "text": [
      "01067\n",
      "['01067']\n",
      "01069\n",
      "01099\n",
      "04109\n",
      "04157\n",
      "04177\n",
      "07743\n",
      "10115\n",
      "10179\n",
      "10551\n",
      "10787\n",
      "14467\n",
      "['01067', '14467']\n",
      "18055\n",
      "20095\n",
      "20099\n",
      "24103\n",
      "28195\n",
      "28197\n",
      "28199\n",
      "30159\n",
      "30169\n",
      "39104\n",
      "40210\n",
      "49074\n",
      "50667\n",
      "['01067', '14467', '50667']\n",
      "50670\n",
      "['01067', '14467', '50667', '50670']\n",
      "50672\n",
      "['01067', '14467', '50667', '50670', '50672']\n",
      "55116\n",
      "60311\n",
      "65183\n",
      "65185\n",
      "66111\n",
      "70173\n",
      "79098\n",
      "79104\n",
      "80331\n",
      "89073\n",
      "90402\n",
      "90403\n",
      "94032\n"
     ]
    },
    {
     "data": {
      "text/plain": [
       "['01067', '14467', '50667', '50670', '50672']"
      ]
     },
     "execution_count": 28,
     "metadata": {},
     "output_type": "execute_result"
    }
   ],
   "source": [
    "plz_of_interest = \"65\", \"66\", \"67\", \"01\", \"80\"\n",
    "\n",
    "my_list = []\n",
    "for plz in plz_list: \n",
    "    print(plz)\n",
    "    if plz.startswith(plz_of_interest,2) or plz.startswith(plz_of_interest,3):\n",
    "        \n",
    "        #print(list(plz))\n",
    "        my_list.append(plz)\n",
    "        print(my_list)\n",
    "my_list"
   ]
  },
  {
   "cell_type": "markdown",
   "id": "01f2d608-3831-49a2-a861-7bcbfeb591b8",
   "metadata": {},
   "source": [
    "### Verion 4"
   ]
  },
  {
   "cell_type": "markdown",
   "id": "a5b288fe-d11e-479c-9cde-273e47ccca8b",
   "metadata": {},
   "source": [
    "Als List Comprehnesion"
   ]
  },
  {
   "cell_type": "code",
   "execution_count": 29,
   "id": "ff8d7295-136f-4824-9c3c-aee781230a75",
   "metadata": {},
   "outputs": [
    {
     "data": {
      "text/plain": [
       "['01067', '14467', '50667', '50670', '50672']"
      ]
     },
     "execution_count": 29,
     "metadata": {},
     "output_type": "execute_result"
    }
   ],
   "source": [
    "my_list_lc = [plz for plz in plz_list  if plz.startswith(plz_of_interest,2) or plz.startswith(plz_of_interest,3)]\n",
    "my_list_lc"
   ]
  },
  {
   "cell_type": "markdown",
   "id": "90346070-d742-49b9-9042-db47f3355577",
   "metadata": {},
   "source": [
    "### Version 5"
   ]
  },
  {
   "cell_type": "markdown",
   "id": "9ab9d520-1e37-4099-9c7e-ce009ad78d60",
   "metadata": {},
   "source": [
    "Als Dictionary (halbfertig)"
   ]
  },
  {
   "cell_type": "code",
   "execution_count": 32,
   "id": "b4bb141a-d285-4dc7-bfd9-7d0e434ee064",
   "metadata": {},
   "outputs": [
    {
     "data": {
      "text/plain": [
       "{'67': 42, '66': 42}"
      ]
     },
     "execution_count": 32,
     "metadata": {},
     "output_type": "execute_result"
    }
   ],
   "source": [
    "plz_of_interest = \"65\", \"66\", \"67\", \"01\", \"80\"\n",
    "\n",
    "result_dict = {}\n",
    "\n",
    "for plz in plz_list: \n",
    "    for prefix in plz_of_interest:\n",
    "        if plz.startswith(prefix,2) or plz.startswith(prefix,3):\n",
    "            result_dict[prefix] = 42\n",
    "        \n",
    "result_dict"
   ]
  },
  {
   "cell_type": "markdown",
   "id": "f2208468-f461-417a-8a3b-517667de918b",
   "metadata": {},
   "source": [
    "Als Dictionary (fertig)"
   ]
  },
  {
   "cell_type": "code",
   "execution_count": 31,
   "id": "1b525919-7042-4642-bb22-59c582254d0d",
   "metadata": {},
   "outputs": [
    {
     "data": {
      "text/plain": [
       "{'67': ['01067', '14467', '50667', '50670', '50672'], '66': ['50667']}"
      ]
     },
     "execution_count": 31,
     "metadata": {},
     "output_type": "execute_result"
    }
   ],
   "source": [
    "plz_of_interest = \"65\", \"66\", \"67\", \"01\", \"80\"\n",
    "\n",
    "result_dict = {}\n",
    "\n",
    "for plz in plz_list: \n",
    "    for prefix in plz_of_interest:\n",
    "        if plz.startswith(prefix,2) or plz.startswith(prefix,3):\n",
    "            result_dict[prefix] = result_dict.get(prefix, [])+[plz]\n",
    "        \n",
    "result_dict"
   ]
  },
  {
   "cell_type": "markdown",
   "id": "fc0724c3-4a8a-4105-a12d-e3d1c6c45bc0",
   "metadata": {},
   "source": [
    "[Link Pythontutor](https://pythontutor.com/render.html#code=plz_list%20%3D%20%5B%0A%20%20%20%20%2210115%22,%20%2204109%22,%20%2220095%22,%20%2260311%22,%20%2280331%22,%0A%20%20%20%20%2250667%22,%20%2270173%22,%20%2230159%22,%20%2201067%22,%20%2289073%22,%0A%20%20%20%20%2224103%22,%20%2228195%22,%20%2239104%22,%20%2201069%22,%20%2249074%22,%0A%20%20%20%20%2255116%22,%20%2228199%22,%20%2290402%22,%20%2207743%22,%20%2214467%22,%0A%20%20%20%20%2220099%22,%20%2230169%22,%20%2204157%22,%20%2210551%22,%20%2279104%22,%0A%20%20%20%20%2204177%22,%20%2250670%22,%20%2265183%22,%20%2294032%22,%20%2240210%22,%0A%20%20%20%20%2290403%22,%20%2201099%22,%20%2218055%22,%20%2228197%22,%20%2266111%22,%0A%20%20%20%20%2210787%22,%20%2279098%22,%20%2265185%22,%20%2250672%22,%20%2210179%22%0A%5D%0A%0Aplz_of_interest%20%3D%20%2265%22,%20%2266%22,%20%2267%22,%20%2201%22,%20%2280%22%0A%0Aresult_dict%20%3D%20%7B%7D%0A%0Afor%20plz%20in%20plz_list%3A%20%0A%20%20%20%20for%20prefix%20in%20plz_of_interest%3A%0A%20%20%20%20%20%20%20%20if%20plz.startswith%28prefix,2%29%20or%20plz.startswith%28prefix,3%29%3A%0A%20%20%20%20%20%20%20%20%20%20%20%20result_dict%5Bprefix%5D%20%3D%20result_dict.get%28prefix,%20%5B%5D%29%2B%5Bplz%5D%0A%20%20%20%20%20%20%20%20%0Aresult_dict&cumulative=false&curInstr=498&heapPrimitives=nevernest&mode=display&origin=opt-frontend.js&py=3&rawInputLstJSON=%5B%5D&textReferences=false)"
   ]
  },
  {
   "cell_type": "code",
   "execution_count": null,
   "id": "c85b237a-b59b-4fb1-8984-e2840cb96681",
   "metadata": {},
   "outputs": [],
   "source": []
  }
 ],
 "metadata": {
  "kernelspec": {
   "display_name": "Python 3 (ipykernel)",
   "language": "python",
   "name": "python3"
  },
  "language_info": {
   "codemirror_mode": {
    "name": "ipython",
    "version": 3
   },
   "file_extension": ".py",
   "mimetype": "text/x-python",
   "name": "python",
   "nbconvert_exporter": "python",
   "pygments_lexer": "ipython3",
   "version": "3.12.4"
  }
 },
 "nbformat": 4,
 "nbformat_minor": 5
}
