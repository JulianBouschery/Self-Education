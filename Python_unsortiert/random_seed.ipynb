{
 "cells": [
  {
   "cell_type": "markdown",
   "id": "85830141-44a5-4e9d-b81e-be21c225b63d",
   "metadata": {},
   "source": [
    "[Zurück zum Inhaltsverzeichnis](_Inhaltsverzeichnis_.ipynb)"
   ]
  },
  {
   "cell_type": "markdown",
   "id": "2a9b1570-874e-44fc-9272-c6b4626033ad",
   "metadata": {},
   "source": [
    "[Zurück zu random](random.ipynb)"
   ]
  },
  {
   "cell_type": "markdown",
   "id": "9163a6f0-4cf7-4c8c-a659-03bfd2790a76",
   "metadata": {},
   "source": [
    "# random und seed"
   ]
  },
  {
   "cell_type": "markdown",
   "id": "278df451-a9da-4c92-ab4f-e9b8e8e877e6",
   "metadata": {},
   "source": [
    "## random"
   ]
  },
  {
   "cell_type": "markdown",
   "id": "a9c6b2c5-efd0-47c3-9132-f690c920991a",
   "metadata": {},
   "source": [
    "random ist ein Module welches über den Befehl \"import random\" in Python importierte werden kann. "
   ]
  },
  {
   "cell_type": "markdown",
   "id": "f615fd56-800a-4076-a31a-f37748ed1615",
   "metadata": {},
   "source": [
    "random liefert einige Mechanismen, die es ermöglichen, mit Pseudozufallszahlen zu arbeiten.\n",
    "\n",
    "Die Betonung liegt auf **pseudo** - die von den Modulen erzeugten Zahlen sehen zwar zufällig aus, weil man ihre späteren Werte nicht vorhersagen kann, aber  amn darf nicht vergessen, dass sie alle mit sehr raffinierten Algorithmen berechnet werden.\n",
    "\n",
    "Die Algorithmen sind nicht zufällig - sie sind deterministisch und vorhersehbar. Nur solche physikalischen Prozesse, die sich unserer Kontrolle völlig entziehen (wie die Intensität der kosmischen Strahlung), können als Quelle für tatsächliche Zufallsdaten verwendet werden. Daten, die von deterministischen Computern erzeugt werden, können in keiner Weise zufällig sein."
   ]
  },
  {
   "cell_type": "markdown",
   "id": "e2b66f7c-3a0c-4e5c-a376-dc8f236da026",
   "metadata": {},
   "source": [
    "Ein Zufallszahlengenerator nimmt einen Wert, der als Seed bezeichnet wird, behandelt ihn als Eingabewert, berechnet auf dieser Grundlage eine \"Zufallszahl\" (die Methode hängt von einem gewählten Algorithmus ab) und erzeugt einen neuen Seed-Wert.\n",
    "\n",
    "Die Dauer eines Zyklus, in dem alle Startwerte einmalig sind, kann sehr lang sein, ist aber nicht unendlich - früher oder später beginnen sich die Startwerte zu wiederholen, und die erzeugten Werte wiederholen sich ebenfalls. Das ist normal. Es ist eine Funktion, kein Fehler oder eine Störung.\n",
    "\n",
    "Der anfängliche Seed-Wert, der beim Programmstart festgelegt wird, bestimmt die Reihenfolge, in der die generierten Werte erscheinen werden.\n",
    "\n",
    "Der Zufallsfaktor des Prozesses kann erhöht werden, indem der Seed-Wert mit einer Zahl aus der aktuellen Zeit gesetzt wird - dies kann sicherstellen, dass jeder Programmstart von einem anderen Seed-Wert ausgeht (ergo werden unterschiedliche Zufallszahlen verwendet).\n",
    "\n",
    "Glücklicherweise wird eine solche Initialisierung von Python während des Modulimports durchgeführt."
   ]
  },
  {
   "cell_type": "markdown",
   "id": "b66a46fa-8fa1-4bcd-8b9b-d492906c724b",
   "metadata": {},
   "source": [
    "Es ist eher eine Verschlüsslung als reiner Zufall. Kennt man den Seed und den Code nach dem verschlüsselt wurde erhält man das gleiche Ergebnis."
   ]
  },
  {
   "cell_type": "code",
   "execution_count": 3,
   "id": "29043817-f654-45bc-9cbe-049438db245b",
   "metadata": {},
   "outputs": [
    {
     "name": "stdout",
     "output_type": "stream",
     "text": [
      "0.32636407541655055\n",
      "0.6856752721844775\n",
      "0.795521500849291\n",
      "0.10894288425449539\n",
      "0.4022460927157161\n"
     ]
    }
   ],
   "source": [
    "import random\n",
    "\n",
    "for i in range(5):\n",
    "    print(random.random())"
   ]
  },
  {
   "cell_type": "markdown",
   "id": "169d5429-844d-499f-84d3-8352605000cf",
   "metadata": {},
   "source": [
    "## seed"
   ]
  },
  {
   "cell_type": "code",
   "execution_count": 6,
   "id": "5d72c311-4db7-4393-85b9-adb7ce301979",
   "metadata": {
    "scrolled": true
   },
   "outputs": [
    {
     "name": "stdout",
     "output_type": "stream",
     "text": [
      "0.8444218515250481\n",
      "0.7579544029403025\n",
      "0.420571580830845\n",
      "0.25891675029296335\n",
      "0.5112747213686085\n"
     ]
    }
   ],
   "source": [
    "\n",
    "random.seed(0)\n",
    "\n",
    "for i in range(5):\n",
    "    print(random.random())"
   ]
  },
  {
   "cell_type": "markdown",
   "id": "acac9fb8-9e58-491a-9ea6-5c6dbadc0652",
   "metadata": {},
   "source": [
    "Jeder der den Code exakt so schreibt und seed(0) verwendet, wird exakt die gleichen ergebnisse reproduzieren können."
   ]
  }
 ],
 "metadata": {
  "kernelspec": {
   "display_name": "Python 3 (ipykernel)",
   "language": "python",
   "name": "python3"
  },
  "language_info": {
   "codemirror_mode": {
    "name": "ipython",
    "version": 3
   },
   "file_extension": ".py",
   "mimetype": "text/x-python",
   "name": "python",
   "nbconvert_exporter": "python",
   "pygments_lexer": "ipython3",
   "version": "3.12.3"
  }
 },
 "nbformat": 4,
 "nbformat_minor": 5
}
