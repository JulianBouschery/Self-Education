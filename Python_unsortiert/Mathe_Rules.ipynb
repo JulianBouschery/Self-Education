{
 "cells": [
  {
   "cell_type": "markdown",
   "id": "f1d8ce37-9281-4e13-85cf-1f77a1244cd3",
   "metadata": {},
   "source": [
    "[Zurück zum Inhaltsverzeichnis](_Inhaltsverzeichnis_.ipynb)"
   ]
  },
  {
   "cell_type": "markdown",
   "id": "7f35dcc9-b787-437b-aaae-6ce5a2c45e17",
   "metadata": {},
   "source": [
    "## Liste von Mathe-Regeln in Python die man einfach lernen muss:"
   ]
  },
  {
   "cell_type": "markdown",
   "id": "952c5cd5-7aa8-4dc7-9089-90a7dbb84f1d",
   "metadata": {},
   "source": [
    "### Schreibweise von langen Zahlen in Python:"
   ]
  },
  {
   "cell_type": "markdown",
   "id": "83b0f6f4-1405-458c-bc5e-308a4bcf340b",
   "metadata": {},
   "source": [
    "Nehmen wir zum Beispiel die Zahl elf Millionen einhundertelf Tausend einhundert und elf. Wenn Sie jetzt einen Bleistift in die Hand nehmen würden, würden Sie die Zahl so schreiben: 11,111,111; oder so: 11.111.111; oder sogar so: 11 111 111.\n",
    "Es ist klar, dass diese Schreibweise die Lesbarkeit erleichtert, besonders wenn die Zahl aus vielen Ziffern besteht. Allerdings akzeptiert Python diese Schreibweisen nicht. Was Python jedoch zulässt, ist die Verwendung von Unterstrichen in numerischen Literalen."
   ]
  },
  {
   "cell_type": "markdown",
   "id": "d85f8a72-cec1-47b1-9264-973c3adf0db9",
   "metadata": {},
   "source": [
    "Beispiel:"
   ]
  },
  {
   "cell_type": "code",
   "execution_count": 33,
   "id": "ec85c397-f914-457e-bd5b-1b9025d9048f",
   "metadata": {},
   "outputs": [
    {
     "ename": "SyntaxError",
     "evalue": "invalid syntax (3090531889.py, line 1)",
     "output_type": "error",
     "traceback": [
      "\u001b[1;36m  Cell \u001b[1;32mIn[33], line 1\u001b[1;36m\u001b[0m\n\u001b[1;33m    11 111 111\u001b[0m\n\u001b[1;37m       ^\u001b[0m\n\u001b[1;31mSyntaxError\u001b[0m\u001b[1;31m:\u001b[0m invalid syntax\n"
     ]
    }
   ],
   "source": [
    "11 111 111"
   ]
  },
  {
   "cell_type": "code",
   "execution_count": 35,
   "id": "63e06388-88d0-4983-8994-385f7b27d4b8",
   "metadata": {},
   "outputs": [
    {
     "ename": "SyntaxError",
     "evalue": "invalid syntax (2578977860.py, line 1)",
     "output_type": "error",
     "traceback": [
      "\u001b[1;36m  Cell \u001b[1;32mIn[35], line 1\u001b[1;36m\u001b[0m\n\u001b[1;33m    11.111.111\u001b[0m\n\u001b[1;37m          ^\u001b[0m\n\u001b[1;31mSyntaxError\u001b[0m\u001b[1;31m:\u001b[0m invalid syntax\n"
     ]
    }
   ],
   "source": [
    "11.111.111"
   ]
  },
  {
   "cell_type": "code",
   "execution_count": 32,
   "id": "242792da-52e1-4180-8c07-092cbaf92b9c",
   "metadata": {},
   "outputs": [
    {
     "name": "stdout",
     "output_type": "stream",
     "text": [
      "(11, 111, 111)\n"
     ]
    },
    {
     "data": {
      "text/plain": [
       "tuple"
      ]
     },
     "execution_count": 32,
     "metadata": {},
     "output_type": "execute_result"
    }
   ],
   "source": [
    "x = 11,111,111 # Sind für Python drei getrennte Zahlen hintereinander...\n",
    "print(x)\n",
    "type(x)"
   ]
  },
  {
   "cell_type": "code",
   "execution_count": 43,
   "id": "953f9ead-0706-4de3-a479-4e98b48dd8bc",
   "metadata": {
    "scrolled": true
   },
   "outputs": [
    {
     "name": "stdout",
     "output_type": "stream",
     "text": [
      "11111111\n",
      "11111111\n",
      "-11111111\n"
     ]
    }
   ],
   "source": [
    "print(11_111_111)\n",
    "# oder eben\n",
    "print(+11111111)\n",
    "print(-11111111) # geht auch mit Minus"
   ]
  }
 ],
 "metadata": {
  "kernelspec": {
   "display_name": "Python 3 (ipykernel)",
   "language": "python",
   "name": "python3"
  },
  "language_info": {
   "codemirror_mode": {
    "name": "ipython",
    "version": 3
   },
   "file_extension": ".py",
   "mimetype": "text/x-python",
   "name": "python",
   "nbconvert_exporter": "python",
   "pygments_lexer": "ipython3",
   "version": "3.12.6"
  }
 },
 "nbformat": 4,
 "nbformat_minor": 5
}
