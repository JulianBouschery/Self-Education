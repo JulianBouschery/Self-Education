{
 "cells": [
  {
   "cell_type": "markdown",
   "id": "7dfe7ba1-49a2-4fcc-b202-15f5e470abdc",
   "metadata": {},
   "source": [
    "# Formatierung"
   ]
  },
  {
   "cell_type": "code",
   "execution_count": 2,
   "id": "3d6cc445-fa39-47b9-960d-5f9fc9ec5fff",
   "metadata": {},
   "outputs": [
    {
     "data": {
      "text/plain": [
       "'1.23   ,    12_345_678_901_234_567_890'"
      ]
     },
     "execution_count": 2,
     "metadata": {},
     "output_type": "execute_result"
    }
   ],
   "source": [
    "f\"{1.234567:.2f}   ,    {12345678901234567890:_}\""
   ]
  },
  {
   "cell_type": "code",
   "execution_count": 3,
   "id": "7fdc518d-71c6-485c-8c46-cb87942b61e8",
   "metadata": {},
   "outputs": [
    {
     "data": {
      "text/plain": [
       "'1.23   ,    12,345,678,901,234,567,890'"
      ]
     },
     "execution_count": 3,
     "metadata": {},
     "output_type": "execute_result"
    }
   ],
   "source": [
    "f\"{1.234567:.2f}   ,    {12345678901234567890:,}\""
   ]
  },
  {
   "cell_type": "code",
   "execution_count": null,
   "id": "8f5c45f8-f984-46b4-b684-073ff884903e",
   "metadata": {},
   "outputs": [],
   "source": []
  }
 ],
 "metadata": {
  "kernelspec": {
   "display_name": "Python 3 (ipykernel)",
   "language": "python",
   "name": "python3"
  },
  "language_info": {
   "codemirror_mode": {
    "name": "ipython",
    "version": 3
   },
   "file_extension": ".py",
   "mimetype": "text/x-python",
   "name": "python",
   "nbconvert_exporter": "python",
   "pygments_lexer": "ipython3",
   "version": "3.12.4"
  }
 },
 "nbformat": 4,
 "nbformat_minor": 5
}
