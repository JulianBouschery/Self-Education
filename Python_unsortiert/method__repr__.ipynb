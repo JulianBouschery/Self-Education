{
 "cells": [
  {
   "cell_type": "markdown",
   "id": "e9afaa42-e0e6-4df6-87e2-d2cbb8f5d866",
   "metadata": {},
   "source": [
    "# \\_\\_repr\\_\\_"
   ]
  },
  {
   "cell_type": "code",
   "execution_count": 5,
   "id": "6f205396-d081-4bc5-a5cc-ff81011236de",
   "metadata": {
    "tags": []
   },
   "outputs": [],
   "source": [
    "class Person: \n",
    "    \n",
    "    alle_personen = []\n",
    "    def __init__(self, name, alter, beruf): \n",
    "        self.name = name\n",
    "        self.alter = alter\n",
    "        self.beruf = beruf\n",
    "        Person.alle_personen.append(self)\n",
    "    # Für Darstellung von Instanzen innerhalb einer liste\n",
    "    def __repr__(self):\n",
    "        return f\"Person('{self.name}', {self.alter}, '{self.beruf}')\""
   ]
  },
  {
   "cell_type": "code",
   "execution_count": 6,
   "id": "42f1bbc9-f3d2-4a36-a6c9-1a9456670e69",
   "metadata": {
    "tags": []
   },
   "outputs": [],
   "source": [
    "pers1 = Person(\"Phil\", 43, \"Frankfurt\")"
   ]
  },
  {
   "cell_type": "code",
   "execution_count": 7,
   "id": "7681e314-2eed-4da3-ad6d-e521461b6dfd",
   "metadata": {
    "tags": []
   },
   "outputs": [],
   "source": [
    "pers2 = Person(\"Anna\", 43, \"Berlin\")"
   ]
  },
  {
   "cell_type": "code",
   "execution_count": 8,
   "id": "cdfa6cfb-cc5f-4958-82bc-cef503ef2052",
   "metadata": {
    "tags": []
   },
   "outputs": [],
   "source": [
    "pers3 = Person(\"Frank\", 103, \"Offenburg\")"
   ]
  },
  {
   "cell_type": "code",
   "execution_count": 10,
   "id": "2af6a20d-3cf8-4bbc-b20d-2b1b808a6820",
   "metadata": {
    "scrolled": true,
    "tags": []
   },
   "outputs": [
    {
     "data": {
      "text/plain": [
       "[Person('Phil', 43, 'Frankfurt'),\n",
       " Person('Anna', 43, 'Berlin'),\n",
       " Person('Frank', 103, 'Offenburg')]"
      ]
     },
     "execution_count": 10,
     "metadata": {},
     "output_type": "execute_result"
    }
   ],
   "source": [
    "Person.alle_personen # Das macht __repr__ ?"
   ]
  },
  {
   "cell_type": "code",
   "execution_count": null,
   "id": "2fd84ffb-da23-42cc-a43f-56c3076d7c00",
   "metadata": {},
   "outputs": [],
   "source": []
  },
  {
   "cell_type": "code",
   "execution_count": null,
   "id": "1291a91a-25bd-43be-bb04-d899933ad664",
   "metadata": {},
   "outputs": [],
   "source": []
  }
 ],
 "metadata": {
  "kernelspec": {
   "display_name": "Python 3 (ipykernel)",
   "language": "python",
   "name": "python3"
  },
  "language_info": {
   "codemirror_mode": {
    "name": "ipython",
    "version": 3
   },
   "file_extension": ".py",
   "mimetype": "text/x-python",
   "name": "python",
   "nbconvert_exporter": "python",
   "pygments_lexer": "ipython3",
   "version": "3.12.3"
  }
 },
 "nbformat": 4,
 "nbformat_minor": 5
}
