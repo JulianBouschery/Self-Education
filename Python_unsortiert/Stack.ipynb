{
 "cells": [
  {
   "cell_type": "markdown",
   "id": "1cd396dd-ae09-437d-9442-c63bbf5a4a92",
   "metadata": {},
   "source": [
    "# Stack"
   ]
  },
  {
   "cell_type": "markdown",
   "id": "a81ab574-3021-41c5-a43c-16405a909fd0",
   "metadata": {},
   "source": [
    "Ein Stack ist eine Datenstruktur, die Elemente in einer bestimmten Reihenfolge speichert und nach dem Last-In-First-Out-Prinzip (LIFO) arbeitet. Das bedeutet, dass das zuletzt hinzugefügte Element als erstes entfernt wird.\n",
    "\n",
    "Hier sind die grundlegenden Operationen eines Stacks:\n",
    "\n",
    "1. **Push**: Ein Element oben auf den Stack legen.\n",
    "2. **Pop**: Das oberste Element vom Stack entfernen und zurückgeben.\n",
    "3. **Peek/Top**: Das oberste Element des Stacks betrachten, ohne es zu entfernen.\n",
    "4. **IsEmpty**: Überprüfen, ob der Stack leer ist.\n",
    "5. **Size**: Die Anzahl der Elemente im Stack zurückgeben.\n",
    "\n",
    "Ein einfaches Beispiel in Python:\n",
    "\n",
    "```python\n",
    "class Stack:\n",
    "    def __init__(self):\n",
    "        self.items = []\n",
    "\n",
    "    def push(self, item):\n",
    "        self.items.append(item)\n",
    "\n",
    "    def pop(self):\n",
    "        if not self.is_empty():\n",
    "            return self.items.pop()\n",
    "        else:\n",
    "            return None\n",
    "\n",
    "    def peek(self):\n",
    "        if not self.is_empty():\n",
    "            return self.items[-1]\n",
    "        else:\n",
    "            return None\n",
    "\n",
    "    def is_empty(self):\n",
    "        return len(self.items) == 0\n",
    "\n",
    "    def size(self):\n",
    "        return len(self.items)\n",
    "\n",
    "# Beispielnutzung\n",
    "stack = Stack()\n",
    "stack.push(1)\n",
    "stack.push(2)\n",
    "stack.push(3)\n",
    "print(stack.pop())  # Ausgabe: 3\n",
    "print(stack.peek())  # Ausgabe: 2\n",
    "print(stack.size())  # Ausgabe: 2\n",
    "```\n",
    "\n",
    "In diesem Beispiel wird ein einfacher Stack in Python implementiert. Der Stack speichert die Elemente in einer Liste, wobei das letzte Element das oberste Element des Stacks darstellt."
   ]
  },
  {
   "cell_type": "markdown",
   "id": "3c31740e-96e0-4395-a654-a6f869dc3c74",
   "metadata": {},
   "source": [
    "[Code im Pythontutor](https://pythontutor.com/render.html#code=class%20Stack%3A%0A%20%20%20%20def%20__init__%28self%29%3A%0A%20%20%20%20%20%20%20%20self.items%20%3D%20%5B%5D%0A%0A%20%20%20%20def%20push%28self,%20item%29%3A%0A%20%20%20%20%20%20%20%20self.items.append%28item%29%0A%0A%20%20%20%20def%20pop%28self%29%3A%0A%20%20%20%20%20%20%20%20if%20not%20self.is_empty%28%29%3A%0A%20%20%20%20%20%20%20%20%20%20%20%20return%20self.items.pop%28%29%0A%20%20%20%20%20%20%20%20else%3A%0A%20%20%20%20%20%20%20%20%20%20%20%20return%20None%0A%0A%20%20%20%20def%20peek%28self%29%3A%0A%20%20%20%20%20%20%20%20if%20not%20self.is_empty%28%29%3A%0A%20%20%20%20%20%20%20%20%20%20%20%20return%20self.items%5B-1%5D%0A%20%20%20%20%20%20%20%20else%3A%0A%20%20%20%20%20%20%20%20%20%20%20%20return%20None%0A%0A%20%20%20%20def%20is_empty%28self%29%3A%0A%20%20%20%20%20%20%20%20return%20len%28self.items%29%20%3D%3D%200%0A%0A%20%20%20%20def%20size%28self%29%3A%0A%20%20%20%20%20%20%20%20return%20len%28self.items%29%0A%0A%23%20Beispielnutzung%0Astack%20%3D%20Stack%28%29%0Astack.push%281%29%0Astack.push%282%29%0Astack.push%283%29%0Aprint%28stack.pop%28%29%29%20%20%23%20Ausgabe%3A%203%0Aprint%28stack.peek%28%29%29%20%20%23%20Ausgabe%3A%202%0Aprint%28stack.size%28%29%29%20%20%23%20Ausgabe%3A%202&cumulative=false&curInstr=0&heapPrimitives=nevernest&mode=display&origin=opt-frontend.js&py=3&rawInputLstJSON=%5B%5D&textReferences=false)"
   ]
  },
  {
   "cell_type": "code",
   "execution_count": null,
   "id": "5044947d-de76-4d59-b688-79ca81514ad7",
   "metadata": {},
   "outputs": [],
   "source": []
  }
 ],
 "metadata": {
  "kernelspec": {
   "display_name": "Python 3 (ipykernel)",
   "language": "python",
   "name": "python3"
  },
  "language_info": {
   "codemirror_mode": {
    "name": "ipython",
    "version": 3
   },
   "file_extension": ".py",
   "mimetype": "text/x-python",
   "name": "python",
   "nbconvert_exporter": "python",
   "pygments_lexer": "ipython3",
   "version": "3.12.4"
  }
 },
 "nbformat": 4,
 "nbformat_minor": 5
}
