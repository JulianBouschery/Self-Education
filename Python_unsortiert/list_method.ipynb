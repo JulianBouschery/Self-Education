{
 "cells": [
  {
   "cell_type": "markdown",
   "id": "ebc4ec81-bc9d-463c-9b24-f203ffd07f4d",
   "metadata": {},
   "source": [
    "[Zurück zum Inhaltsverzeichnis](_Inhaltsverzeichnis_.ipynb)"
   ]
  },
  {
   "cell_type": "markdown",
   "id": "95ec8177-f565-4900-9945-981f7e31721a",
   "metadata": {},
   "source": [
    "# list Methoden"
   ]
  },
  {
   "cell_type": "code",
   "execution_count": 4,
   "id": "d3b596e7-9086-4a14-b817-0860a68b9c1e",
   "metadata": {},
   "outputs": [],
   "source": [
    "list_method = dir(list)"
   ]
  },
  {
   "cell_type": "code",
   "execution_count": 5,
   "id": "5b471aea-0b28-4b71-a8ab-0f3d8e5b797a",
   "metadata": {},
   "outputs": [],
   "source": [
    "x = [method for method in list_method if not method[0] == \"_\"]"
   ]
  },
  {
   "cell_type": "code",
   "execution_count": 6,
   "id": "635f2dd9-5877-414c-865c-7c9da6b6f897",
   "metadata": {},
   "outputs": [
    {
     "data": {
      "text/plain": [
       "['append',\n",
       " 'clear',\n",
       " 'copy',\n",
       " 'count',\n",
       " 'extend',\n",
       " 'index',\n",
       " 'insert',\n",
       " 'pop',\n",
       " 'remove',\n",
       " 'reverse',\n",
       " 'sort']"
      ]
     },
     "execution_count": 6,
     "metadata": {},
     "output_type": "execute_result"
    }
   ],
   "source": [
    "x"
   ]
  },
  {
   "cell_type": "markdown",
   "id": "36c5818a-12b8-40c7-9ccc-9f1d614cc21d",
   "metadata": {},
   "source": [
    "[insert](insert.ipynb)"
   ]
  },
  {
   "cell_type": "markdown",
   "id": "fa0512df-fcbf-4b33-81b7-e4793d67c137",
   "metadata": {},
   "source": [
    "[sort](sort.ipynb)"
   ]
  }
 ],
 "metadata": {
  "kernelspec": {
   "display_name": "Python 3 (ipykernel)",
   "language": "python",
   "name": "python3"
  },
  "language_info": {
   "codemirror_mode": {
    "name": "ipython",
    "version": 3
   },
   "file_extension": ".py",
   "mimetype": "text/x-python",
   "name": "python",
   "nbconvert_exporter": "python",
   "pygments_lexer": "ipython3",
   "version": "3.12.4"
  }
 },
 "nbformat": 4,
 "nbformat_minor": 5
}
