{
 "cells": [
  {
   "cell_type": "markdown",
   "id": "4ee6d9a7-a638-4c4e-804b-f5e5afafe4d1",
   "metadata": {},
   "source": [
    "[Zurück zum Inhaltsverzeichnis](_Inhaltsverzeichnis_.ipynb)"
   ]
  },
  {
   "cell_type": "markdown",
   "id": "b49167a7-3028-4d90-ac95-c3371b2936bd",
   "metadata": {},
   "source": [
    "# Was macht eine Programmiersprache zu einer Sprache?"
   ]
  },
  {
   "cell_type": "markdown",
   "id": "df2b38df-50bf-4835-b61b-0772d73ef5f4",
   "metadata": {},
   "source": [
    "- Alphabet = eine Reihe von Symbolen, die zur Bildung von Wörtern in einer bestimmten Sprache verwendet werden.\n",
    "- Lexik = eine Reihe von Wörtern, die von den Nutzern der Sprache verwendet werden können (Wörterbuch).\n",
    "- Syntax = eine Reihe von Regeln, mit denen bestimmt wird, ob eine bestimmte Wortfolge einen gültigen Satz bildet.\n",
    "- Semantik = eine Reihe von Regeln, die bestimmen, ob ein bestimmter Satz einen Sinn ergibt. Gibt dem Satz seine Bedeutung."
   ]
  },
  {
   "cell_type": "markdown",
   "id": "c3a5bf76-be06-4bdc-9000-aa2451935fd5",
   "metadata": {},
   "source": [
    "# What is a module?"
   ]
  },
  {
   "cell_type": "markdown",
   "id": "a21ac20d-8ab8-410c-a082-d54fca2b8375",
   "metadata": {},
   "source": [
    "Computer code has a tendency to grow. We can say that code that doesn't grow is probably completely unusable or abandoned. A real, wanted, and widely used code develops continuously, as both users' demands and users' expectations develop in their own rhythms.\n",
    "\n",
    "A code which is not able to respond to users' needs will be forgotten quickly, and instantly replaced with a new, better, and more flexible code. Be prepared for this, and never think that any of your programs is eventually completed. The completion is a transition state and usually passes quickly, after the first bug report. Python itself is a good example how the rule acts.\n",
    "\n",
    "Growing code is in fact a growing problem. A larger code always means tougher maintenance. Searching for bugs is always easier where the code is smaller (just as finding a mechanical breakage is simpler when the machinery is simpler and smaller).\n",
    "\n",
    "Moreover, when the code being created is expected to be really big (you can use a total number of source lines as a useful, but not very accurate, measure of a code's size) you may want (or rather, you will be forced) to divide it into many parts, implemented in parallel by a few, a dozen, several dozen, or even several hundred individual developers.\n",
    "\n",
    "Of course, this cannot be done using one large source file, which is edited by all programmers at the same time. This will surely lead to a spectacular disaster.\n",
    "\n",
    "\n",
    "If you want such a software project to be completed successfully, you have to have the means allowing you to:\n",
    "\n",
    "- divide all the tasks among the developers;\n",
    "- join all the created parts into one working whole.\n",
    "\n",
    "For example, a certain project can be divided into two main parts:\n",
    "\n",
    "- the user interface (the part that communicates with the user using widgets and a graphical screen)\n",
    "- the logic (the part processing data and producing results)\n",
    "\n",
    "Each of these parts can be (most likely) divided into smaller ones, and so on. Such a process is often called **decomposition**.\n",
    "\n",
    "For example, if you were asked to arrange a wedding, you wouldn't do everything yourself - you would find a number of professionals and split the task between them all.\n",
    "\n",
    "How do you divide a piece of software into separate but cooperating parts? This is the question. **Modules** are the answer.\n",
    "\n"
   ]
  },
  {
   "cell_type": "markdown",
   "id": "94a91f01-e070-444a-a972-fcc4df4d4f0b",
   "metadata": {},
   "source": [
    "[Liste von Modulen in Python](https://docs.python.org/3/library/index.html)"
   ]
  },
  {
   "cell_type": "code",
   "execution_count": null,
   "id": "94fcd6ee-9afa-48c3-b274-802d2111ab78",
   "metadata": {},
   "outputs": [],
   "source": []
  }
 ],
 "metadata": {
  "kernelspec": {
   "display_name": "Python 3 (ipykernel)",
   "language": "python",
   "name": "python3"
  },
  "language_info": {
   "codemirror_mode": {
    "name": "ipython",
    "version": 3
   },
   "file_extension": ".py",
   "mimetype": "text/x-python",
   "name": "python",
   "nbconvert_exporter": "python",
   "pygments_lexer": "ipython3",
   "version": "3.12.3"
  }
 },
 "nbformat": 4,
 "nbformat_minor": 5
}
