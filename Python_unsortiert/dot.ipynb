{
 "cells": [
  {
   "cell_type": "code",
   "execution_count": null,
   "id": "bb5e7276-afe5-4320-9029-107e94ff197b",
   "metadata": {},
   "outputs": [],
   "source": []
  },
  {
   "cell_type": "markdown",
   "id": "365302a0-f3b2-47b3-a315-0d08162fa258",
   "metadata": {},
   "source": [
    "# Dot Notation"
   ]
  },
  {
   "cell_type": "markdown",
   "id": "70d82b8d-1121-477a-9705-4d0c4b99e601",
   "metadata": {},
   "source": [
    "```python\n",
    "liste.append\n",
    "math.pi\n",
    "classname.instance\n",
    "```"
   ]
  }
 ],
 "metadata": {
  "kernelspec": {
   "display_name": "Python 3 (ipykernel)",
   "language": "python",
   "name": "python3"
  },
  "language_info": {
   "codemirror_mode": {
    "name": "ipython",
    "version": 3
   },
   "file_extension": ".py",
   "mimetype": "text/x-python",
   "name": "python",
   "nbconvert_exporter": "python",
   "pygments_lexer": "ipython3",
   "version": "3.12.4"
  }
 },
 "nbformat": 4,
 "nbformat_minor": 5
}
