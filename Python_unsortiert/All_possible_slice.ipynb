{
 "cells": [
  {
   "cell_type": "markdown",
   "id": "3709644d-40ac-438b-ba2e-c7336b9381b6",
   "metadata": {},
   "source": [
    "[Zurück zum Inhaltsverzeichnis](_Inhaltsverzeichnis_.ipynb)"
   ]
  },
  {
   "cell_type": "markdown",
   "id": "2e2a38c9-59cd-404d-8030-73e61033534c",
   "metadata": {},
   "source": [
    "# Alle Variablen von Slicen (NOCH FEHLERHAFT!!!)"
   ]
  },
  {
   "cell_type": "markdown",
   "id": "02fad2e1-8f14-4f25-b0f8-0adb8d10362f",
   "metadata": {},
   "source": [
    "Diese Liste wurde von ChatGPT erstellt weil es so viele Möglichekeiten gibt eine Sequenz zu slicen, dass ich diese Aufgabe out sourcen musste:"
   ]
  },
  {
   "cell_type": "code",
   "execution_count": 6,
   "id": "40fc7630-0db5-4d7b-8f45-2a37315f2a6d",
   "metadata": {},
   "outputs": [
    {
     "data": {
      "text/plain": [
       "['E', 'D', 'C']"
      ]
     },
     "execution_count": 6,
     "metadata": {},
     "output_type": "execute_result"
    }
   ],
   "source": [
    "liste = [\"A\",\"B\",\"C\",\"D\",\"E\"] \n",
    "liste[4:-4:-1]"
   ]
  },
  {
   "cell_type": "markdown",
   "id": "f224dd94-7c6d-4cc2-89f5-b6d022a292a0",
   "metadata": {},
   "source": [
    "| **Start**              | **Stop**               | **Step**              | **Beispiel**                | **Ergebnis**               |\n",
    "|------------------------|------------------------|-----------------------|-----------------------------|----------------------------|\n",
    "| positive Zahl          | positive Zahl          | positive Zahl         | `list[1:4:2]`               | `['B', 'D']`               |\n",
    "| positive Zahl          | positive Zahl          | negative Zahl         | `list[4:1:-1]`              | `['E', 'D', 'C']`          |\n",
    "| positive Zahl          | negative Zahl          | positive Zahl         | `list[1:-1:1]`              | `['B', 'C', 'D']`          |\n",
    "| positive Zahl          | negative Zahl          | negative Zahl         | `list[4:-4:-1]`             | `['E', 'D', 'C']`               |\n",
    "| negative Zahl          | positive Zahl          | positive Zahl         | `list[-4:4:1]`              | `['B', 'C', 'D']`          |\n",
    "| negative Zahl          | positive Zahl          | negative Zahl         | `list[-1:1:-1]`             | `['E', 'D', 'C']`          |\n",
    "| negative Zahl          | negative Zahl          | positive Zahl         | `list[-4:-1:1]`             | `['B', 'C', 'D']`          |\n",
    "| negative Zahl          | negative Zahl          | negative Zahl         | `list[-1:-4:-1]`            | `['E', 'D', 'C']`          |\n",
    "| positive Zahl          | leer                   | positive Zahl         | `list[1::2]`                | `['B', 'D']`               |\n",
    "| positive Zahl          | leer                   | negative Zahl         | `list[4::-1]`               | `['E', 'D', 'C', 'B', 'A']`|\n",
    "| negative Zahl          | leer                   | positive Zahl         | `list[-2::1]`               | `['D', 'E']`               |\n",
    "| negative Zahl          | leer                   | negative Zahl         | `list[-2::-1]`              | `['D', 'C', 'B', 'A']`     |\n",
    "| leer                   | positive Zahl          | positive Zahl         | `list[:4:2]`                | `['A', 'C']`               |\n",
    "| leer                   | positive Zahl          | negative Zahl         | `list[:4:-1]`               | `['E']`                    |\n",
    "| leer                   | negative Zahl          | positive Zahl         | `list[:-1:1]`               | `['A', 'B', 'C', 'D']`     |\n",
    "| leer                   | negative Zahl          | negative Zahl         | `list[:-1:-1]`              | `[]`                       |\n",
    "| leer                   | leer                   | positive Zahl         | `list[::2]`                 | `['A', 'C', 'E']`          |\n",
    "| leer                   | leer                   | negative Zahl         | `list[::-2]`                | `['E', 'C', 'A']`          |\n",
    "| positive Zahl          | größer als Länge       | positive Zahl         | `list[2:10:1]`              | `['C', 'D', 'E']`          |\n",
    "| negative Zahl          | größer als Länge       | positive Zahl         | `list[-3:10:1]`             | `['C', 'D', 'E']`          |\n",
    "| positive Zahl          | größer als Länge       | negative Zahl         | `list[2:10:-1]`             | `[]`                       |\n",
    "| negative Zahl          | größer als Länge       | negative Zahl         | `list[-2:10:-1]`            | `['D', 'C', 'B', 'A']`     |\n",
    "| leer                   | größer als Länge       | positive Zahl         | `list[:10:1]`               | `['A', 'B', 'C', 'D', 'E']`|\n",
    "| leer                   | größer als Länge       | negative Zahl         | `list[:10:-1]`              | `[]`                       |\n",
    "| größer als Länge       | positive Zahl          | positive Zahl         | `list[10:2:1]`              | `[]`                       |\n",
    "| größer als Länge       | negative Zahl          | positive Zahl         | `list[10:-2:1]`             | `[]`                       |\n",
    "| größer als Länge       | leer                   | positive Zahl         | `list[10::1]`               | `[]`                       |\n",
    "| größer als Länge       | positive Zahl          | negative Zahl         | `list[10:2:-1]`             | `[]`                       |\n",
    "| größer als Länge       | negative Zahl          | negative Zahl         | `list[10:-2:-1]`            | `[]`                       |\n",
    "| größer als Länge       | leer                   | negative Zahl         | `list[10::-1]`              | `[]`                       |\n",
    "\n"
   ]
  },
  {
   "cell_type": "markdown",
   "id": "fd9f7287-d925-4816-bafc-4185cbd0e0e1",
   "metadata": {},
   "source": [
    "## Allgemeine Regeln für Slicing (Regeln die noch nicht wirklich Sinnvoll sind)"
   ]
  },
  {
   "cell_type": "markdown",
   "id": "ca680a30-2cc3-4949-81ca-f98e77864fa9",
   "metadata": {},
   "source": [
    "### Positiver Step:"
   ]
  },
  {
   "cell_type": "markdown",
   "id": "11150ab9-b539-4c88-a0c1-367dda59305a",
   "metadata": {},
   "source": [
    "- Start < Stop: Es wird eine Teilliste von Start bis Stop-1 erstellt.\n",
    "- Start >= Stop: Es wird eine leere Liste erstellt.\n",
    "- Wenn Start oder Stop außerhalb der Liste liegt, wird der gültige Bereich verwendet."
   ]
  },
  {
   "cell_type": "code",
   "execution_count": null,
   "id": "d1af518c-f112-4745-8e46-98e3bbe7b3f9",
   "metadata": {},
   "outputs": [],
   "source": []
  },
  {
   "cell_type": "code",
   "execution_count": null,
   "id": "1995e47f-3eab-4f0a-a49f-b6be4579f972",
   "metadata": {},
   "outputs": [],
   "source": []
  },
  {
   "cell_type": "markdown",
   "id": "2cd88635-4c58-44a2-8fa4-dad7ff1f2638",
   "metadata": {},
   "source": [
    "\n",
    "\n",
    "\n",
    "Start < Stop: Es wird eine Teilliste von Start bis Stop-1 erstellt.\n",
    "Start >= Stop: Es wird eine leere Liste erstellt.\n",
    "Wenn Start oder Stop außerhalb der Liste liegt, wird der gültige Bereich verwendet.\n",
    "Negativer Step:\n",
    "\n",
    "Start > Stop: Es wird eine Teilliste rückwärts von Start bis Stop+1 erstellt.\n",
    "Start <= Stop: Es wird eine leere Liste erstellt.\n",
    "Wenn Start oder Stop außerhalb der Liste liegt, wird der gültige Bereich verwendet.\n",
    "Leere Start- oder Stop-Werte:\n",
    "\n",
    "Wenn Start leer ist, beginnt der Slice am Anfang der Liste (Index 0 bei positivem Step, letzter Index bei negativem Step).\n",
    "Wenn Stop leer ist, endet der Slice am Ende der Liste (letzter Index bei positivem Step, Index -1 bei negativem Step).\n",
    "Werte größer als die Listenlänge:\n",
    "\n",
    "Wenn Start oder Stop größer als die Länge der Liste ist, wird der gültige Bereich der Liste verwendet.\n",
    "Wenn Start größer als die Listenlänge und Stop leer ist, wird eine leere Liste erstellt.\n",
    "Negative Werte:\n",
    "\n",
    "Negative Start- und Stop-Werte zählen vom Ende der Liste (z.B. -1 ist der letzte Index, -2 der vorletzte, usw.).\n",
    "Wenn Start oder Stop negativ ist und außerhalb der Liste liegt, wird der gültige Bereich der Liste verwendet."
   ]
  },
  {
   "cell_type": "markdown",
   "id": "7ab34045-f590-4cc3-814a-599a65235950",
   "metadata": {},
   "source": [
    "1. Positiver Step:"
   ]
  },
  {
   "cell_type": "code",
   "execution_count": 1,
   "id": "9dbabf20-a5c9-4fcf-a648-cadb5a22f6e0",
   "metadata": {},
   "outputs": [
    {
     "data": {
      "text/plain": [
       "['C', 'D', 'E']"
      ]
     },
     "execution_count": 1,
     "metadata": {},
     "output_type": "execute_result"
    }
   ],
   "source": [
    "list = [\"A\", \"B\", \"C\", \"D\", \"E\"]\n",
    "list[1:4:2]  # ['B', 'D']\n",
    "list[4:1:2]  # []\n",
    "list[2:10:1]  # ['C', 'D', 'E']\n"
   ]
  },
  {
   "cell_type": "markdown",
   "id": "3ed47465-d489-4ee6-8ee7-7731ed3ab1ff",
   "metadata": {},
   "source": [
    "2. Negativer Step:"
   ]
  },
  {
   "cell_type": "code",
   "execution_count": null,
   "id": "f7d0c95f-473a-4d4c-b733-2c999696b13f",
   "metadata": {},
   "outputs": [],
   "source": [
    "list = [\"A\", \"B\", \"C\", \"D\", \"E\"]\n",
    "list[4:1:-1]  # ['E', 'D', 'C']\n",
    "list[1:4:-1]  # []\n",
    "list[-1:1:-1]  # ['E', 'D', 'C']\n"
   ]
  },
  {
   "cell_type": "markdown",
   "id": "a7b17223-7c1d-4813-b49f-7566e4f13c5d",
   "metadata": {},
   "source": [
    "3. Leere Start- oder Stop-Werte:"
   ]
  },
  {
   "cell_type": "code",
   "execution_count": null,
   "id": "6180beb3-7f58-4ac3-afd0-fcc4427c80da",
   "metadata": {},
   "outputs": [],
   "source": [
    "list = [\"A\", \"B\", \"C\", \"D\", \"E\"]\n",
    "list[:3:1]  # ['A', 'B', 'C']\n",
    "list[3::1]  # ['D', 'E']\n",
    "list[3::-1]  # ['D', 'C', 'B', 'A']\n",
    "list[:3:-1]  # ['E']\n"
   ]
  },
  {
   "cell_type": "markdown",
   "id": "fca452e8-7504-4c63-9c03-378166f54bdc",
   "metadata": {},
   "source": [
    "4. Werte größer als die Listenlänge:"
   ]
  },
  {
   "cell_type": "code",
   "execution_count": null,
   "id": "b265a170-6554-4377-a96a-da35f39263bf",
   "metadata": {},
   "outputs": [],
   "source": [
    "list = [\"A\", \"B\", \"C\", \"D\", \"E\"]\n",
    "list[2:10:1]  # ['C', 'D', 'E']\n",
    "list[10:2:1]  # []\n",
    "list[:10:1]  # ['A', 'B', 'C', 'D', 'E']\n"
   ]
  },
  {
   "cell_type": "markdown",
   "id": "d8b0699c-b17a-4c09-9c10-24aeb85a1851",
   "metadata": {},
   "source": [
    "5. Negative Werte:"
   ]
  },
  {
   "cell_type": "code",
   "execution_count": null,
   "id": "0de58cfc-2276-439d-a431-0d2c6b3fe7a4",
   "metadata": {},
   "outputs": [],
   "source": [
    "list = [\"A\", \"B\", \"C\", \"D\", \"E\"]\n",
    "list[-4:4:1]  # ['B', 'C', 'D']\n",
    "list[-2::1]  # ['D', 'E']\n",
    "list[-2::-1]  # ['D', 'C', 'B', 'A']\n"
   ]
  }
 ],
 "metadata": {
  "kernelspec": {
   "display_name": "Python 3 (ipykernel)",
   "language": "python",
   "name": "python3"
  },
  "language_info": {
   "codemirror_mode": {
    "name": "ipython",
    "version": 3
   },
   "file_extension": ".py",
   "mimetype": "text/x-python",
   "name": "python",
   "nbconvert_exporter": "python",
   "pygments_lexer": "ipython3",
   "version": "3.12.3"
  }
 },
 "nbformat": 4,
 "nbformat_minor": 5
}
