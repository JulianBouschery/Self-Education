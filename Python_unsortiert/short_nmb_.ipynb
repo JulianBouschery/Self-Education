{
 "cells": [
  {
   "cell_type": "markdown",
   "id": "f0bef627-f4db-4a8e-98f6-2f147f517622",
   "metadata": {},
   "source": [
    "## Kurze Zusammenfasung von `__name__`,`__module__`,`__bases__`"
   ]
  },
  {
   "cell_type": "markdown",
   "id": "e9737d13-b50c-4c7f-8e5a-cea757b4b591",
   "metadata": {},
   "source": [
    "Alle Klassen (aber nicht Objekte) enthalten eine Eigenschaft namens `__name__`, die den Namen der Klasse speichert. Zusätzlich speichert eine Eigenschaft namens `__module__` den Namen des Moduls, in dem die Klasse deklariert wurde, während die Eigenschaft namens `__bases__` ein Tupel ist, das die Superklassen einer Klasse enthält."
   ]
  },
  {
   "cell_type": "code",
   "execution_count": 7,
   "id": "67d070ab-9a47-4719-907e-a9b54b8260e7",
   "metadata": {},
   "outputs": [
    {
     "name": "stdout",
     "output_type": "stream",
     "text": [
      "Klasse\n",
      "__main__\n",
      "(<class 'object'>,)\n"
     ]
    }
   ],
   "source": [
    "class Klasse():\n",
    "    pass\n",
    "\n",
    "print(Klasse.__name__) # Gibt den Namen der Klasse zurück\n",
    "print(Klasse.__module__) # Gibt den Ort zurück an dem der Code für die Klasse geschrieben steht\n",
    "print(Klasse.__bases__) # Gibt die Superklasse der Klasse zurück"
   ]
  },
  {
   "cell_type": "code",
   "execution_count": null,
   "id": "0d87fbcc-84ef-45f0-9d03-7e9b183d4694",
   "metadata": {},
   "outputs": [],
   "source": []
  }
 ],
 "metadata": {
  "kernelspec": {
   "display_name": "Python 3 (ipykernel)",
   "language": "python",
   "name": "python3"
  },
  "language_info": {
   "codemirror_mode": {
    "name": "ipython",
    "version": 3
   },
   "file_extension": ".py",
   "mimetype": "text/x-python",
   "name": "python",
   "nbconvert_exporter": "python",
   "pygments_lexer": "ipython3",
   "version": "3.12.4"
  }
 },
 "nbformat": 4,
 "nbformat_minor": 5
}
