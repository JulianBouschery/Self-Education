{
 "cells": [
  {
   "cell_type": "markdown",
   "id": "649c19b8-7464-4027-838b-891ba311a47c",
   "metadata": {},
   "source": [
    "[Zurück zum Inhaltsverzeichnis](_Inhaltsverzeichnis_.ipynb)"
   ]
  },
  {
   "cell_type": "markdown",
   "id": "8a3c13a7-54f1-468e-beea-1bb339f2af33",
   "metadata": {},
   "source": [
    "# Patologische Prüfungsaufgaben"
   ]
  },
  {
   "cell_type": "markdown",
   "id": "be23ec0b-2f90-4c71-b307-2ff72cf04389",
   "metadata": {},
   "source": [
    "Hier sollte ich vielleicht eine Verknüpfung zu den ÜA der unterschiedlichen Themen einbauen..."
   ]
  },
  {
   "cell_type": "markdown",
   "id": "b348966b-f9ed-46ac-bf5e-3608e8e2ba0b",
   "metadata": {
    "jp-MarkdownHeadingCollapsed": true
   },
   "source": [
    "## PCEP"
   ]
  },
  {
   "cell_type": "markdown",
   "id": "91b5ebd9-20f5-4d69-9208-c96dfc770b8c",
   "metadata": {},
   "source": [
    "### Falle beim Slicen"
   ]
  },
  {
   "cell_type": "code",
   "execution_count": 23,
   "id": "348f876a-4fd8-434f-ba44-d4df9d49ddf7",
   "metadata": {},
   "outputs": [
    {
     "data": {
      "text/plain": [
       "[]"
      ]
     },
     "execution_count": 23,
     "metadata": {},
     "output_type": "execute_result"
    }
   ],
   "source": [
    "sequenz = [\"A\",\"B\",\"C\",\"D\",\"E\"]\n",
    "sequenz[:4:-1]"
   ]
  },
  {
   "cell_type": "markdown",
   "id": "c5740c3e-f245-4fd6-a618-de197680d373",
   "metadata": {},
   "source": [
    "### Aufgabe 1"
   ]
  },
  {
   "cell_type": "code",
   "execution_count": 16,
   "id": "48e2f18a-6c89-4b5d-aadc-fddcc0615c16",
   "metadata": {},
   "outputs": [
    {
     "name": "stdout",
     "output_type": "stream",
     "text": [
      "0\n"
     ]
    }
   ],
   "source": [
    "def process(data):\n",
    "    data = [1,2,3]\n",
    "    return data[-2]\n",
    "\n",
    "measurements = [0 for i in range(3)]\n",
    "process(measurements) # 2\n",
    "print(measurements[-2])"
   ]
  },
  {
   "cell_type": "markdown",
   "id": "2a0557a5-7813-4406-934c-413f0d11b9ec",
   "metadata": {},
   "source": [
    "#### Aufgabe 2"
   ]
  },
  {
   "cell_type": "code",
   "execution_count": 7,
   "id": "0b91a824-5d0e-4ee9-b970-d863ffbc2fc9",
   "metadata": {},
   "outputs": [
    {
     "name": "stdout",
     "output_type": "stream",
     "text": [
      "2\n"
     ]
    }
   ],
   "source": [
    "def process(data): #0,0,0\n",
    "    data[1] = 2 #0,2,0\n",
    "    return data[-2]\n",
    "    \n",
    "measurements = [0 for i in range(3)] # 0,0,0\n",
    "process(measurements)\n",
    "print(measurements[-2])"
   ]
  },
  {
   "cell_type": "markdown",
   "id": "3bf34b7f-ed91-406c-bc67-67d2a83480fc",
   "metadata": {},
   "source": [
    "#### Aufgabe 3"
   ]
  },
  {
   "cell_type": "code",
   "execution_count": 13,
   "id": "e934d946-c7fb-4566-9a2d-ae815fc78be9",
   "metadata": {},
   "outputs": [
    {
     "name": "stdout",
     "output_type": "stream",
     "text": [
      "0\n"
     ]
    }
   ],
   "source": [
    "def combine(width, height=10, depth=0, is_3D=False):\n",
    "    return [is_3D, width, height, depth] # [False, 2, 1, 0]\n",
    "\n",
    "print(combine(height=1, width=2)[3])"
   ]
  },
  {
   "cell_type": "markdown",
   "id": "3e1be3f4-d360-44a5-92f8-70d462ac988d",
   "metadata": {},
   "source": [
    "#### Aufgabe 4"
   ]
  },
  {
   "cell_type": "code",
   "execution_count": 14,
   "id": "23cb2d8c-331d-48e4-ba67-84d85e560b66",
   "metadata": {
    "tags": []
   },
   "outputs": [
    {
     "name": "stdout",
     "output_type": "stream",
     "text": [
      "2\n"
     ]
    }
   ],
   "source": [
    "def combine(width, height=2, depth=0, is_3D=False):\n",
    "    return [is_3D, width, height, depth]\n",
    "\n",
    "print(combine(1)[2])"
   ]
  },
  {
   "cell_type": "markdown",
   "id": "9044faa4-f715-464f-aecb-0ed3aa823af3",
   "metadata": {},
   "source": [
    "#### Aufgabe 5"
   ]
  },
  {
   "cell_type": "code",
   "execution_count": 18,
   "id": "7e52573c-b0c7-4bdb-8c50-01d189667815",
   "metadata": {},
   "outputs": [
    {
     "name": "stdout",
     "output_type": "stream",
     "text": [
      "12"
     ]
    }
   ],
   "source": [
    "def walk(stop, start=1): #3, 1\n",
    "    print(start, end=\"\")\n",
    "    if start + 1 < stop:\n",
    "        walk(stop, start + 1)# walk(3, 2)\n",
    "walk(3)# 1 2"
   ]
  },
  {
   "cell_type": "markdown",
   "id": "5306d507-642d-42a6-a70a-039e72c1d033",
   "metadata": {},
   "source": [
    "#### Aufgabe 7"
   ]
  },
  {
   "cell_type": "code",
   "execution_count": 20,
   "id": "a7007035-59f1-4121-b87f-455107d3a60e",
   "metadata": {
    "tags": []
   },
   "outputs": [
    {
     "ename": "TypeError",
     "evalue": "sample() missing 1 required positional argument: 'value'",
     "output_type": "error",
     "traceback": [
      "\u001b[1;31m---------------------------------------------------------------------------\u001b[0m",
      "\u001b[1;31mTypeError\u001b[0m                                 Traceback (most recent call last)",
      "Cell \u001b[1;32mIn[20], line 5\u001b[0m\n\u001b[0;32m      2\u001b[0m     \u001b[38;5;28;01mreturn\u001b[39;00m total \u001b[38;5;241m+\u001b[39m value\n\u001b[0;32m      4\u001b[0m total \u001b[38;5;241m=\u001b[39m \u001b[38;5;241m0\u001b[39m\n\u001b[1;32m----> 5\u001b[0m new_total \u001b[38;5;241m=\u001b[39m \u001b[43msample\u001b[49m\u001b[43m(\u001b[49m\u001b[43m)\u001b[49m\n\u001b[0;32m      6\u001b[0m new_total \u001b[38;5;241m=\u001b[39m sample(total)\n\u001b[0;32m      7\u001b[0m \u001b[38;5;28mprint\u001b[39m(total)\n",
      "\u001b[1;31mTypeError\u001b[0m: sample() missing 1 required positional argument: 'value'"
     ]
    }
   ],
   "source": [
    "def sample(value):\n",
    "    return total + value\n",
    "\n",
    "total = 0\n",
    "new_total = sample()\n",
    "new_total = sample(total)\n",
    "print(total)"
   ]
  },
  {
   "cell_type": "markdown",
   "id": "3e00dfdb-9ad5-4d1a-8715-724985df6114",
   "metadata": {},
   "source": [
    "#### Aufgabe 6"
   ]
  },
  {
   "cell_type": "code",
   "execution_count": 20,
   "id": "d20c5874-5ab9-4dea-a3a4-a94d3be9ccd9",
   "metadata": {
    "tags": []
   },
   "outputs": [
    {
     "name": "stdout",
     "output_type": "stream",
     "text": [
      "3\n"
     ]
    }
   ],
   "source": [
    "def func(data):\n",
    "    if data == 0:\n",
    "        return 0\n",
    "    return data + func(data - 1)\n",
    "print(func(2))"
   ]
  },
  {
   "cell_type": "code",
   "execution_count": null,
   "id": "791f2bb8-59e1-4b8c-93a5-244fcbeb580c",
   "metadata": {
    "tags": []
   },
   "outputs": [],
   "source": [
    "data(2) => hat als return 2 + 1 --> Ergebnis 3\n",
    "data(1) => hat als return 1 + 0\n",
    "data(0) => hat als return 0"
   ]
  },
  {
   "cell_type": "markdown",
   "id": "97efa724-b6f7-4813-9654-2faf5bede0f9",
   "metadata": {},
   "source": [
    "### Beispiel Rekursiven Funktionen mit MULTIPLIKATION:"
   ]
  },
  {
   "cell_type": "code",
   "execution_count": 1,
   "id": "b6864f10-c2aa-40f9-85f8-a6b89b33b95b",
   "metadata": {},
   "outputs": [
    {
     "name": "stdout",
     "output_type": "stream",
     "text": [
      "0\n"
     ]
    }
   ],
   "source": [
    "def func(data):\n",
    "    if data == 0:\n",
    "        return 0\n",
    "    return data * func(data - 1)\n",
    "print(func(1))"
   ]
  },
  {
   "cell_type": "code",
   "execution_count": 13,
   "id": "7d3d4a08-3fb5-4a9c-a8f2-31d36195ad66",
   "metadata": {
    "tags": []
   },
   "outputs": [
    {
     "name": "stdout",
     "output_type": "stream",
     "text": [
      "0\n"
     ]
    }
   ],
   "source": [
    "def func(data):\n",
    "    if data == 0:\n",
    "        return 0\n",
    "    return data * func(data - 1)\n",
    "print(func(2))"
   ]
  },
  {
   "cell_type": "code",
   "execution_count": 8,
   "id": "63589f64-917c-499e-bfc7-07074df991fb",
   "metadata": {},
   "outputs": [
    {
     "name": "stdout",
     "output_type": "stream",
     "text": [
      "0\n"
     ]
    }
   ],
   "source": [
    "def func(data):\n",
    "    if data == 0:\n",
    "        return 0\n",
    "    return data * func(data - 1)\n",
    "print(func(3))"
   ]
  },
  {
   "cell_type": "code",
   "execution_count": 14,
   "id": "30a5ccff-0481-4165-9ed6-c16b54970b98",
   "metadata": {},
   "outputs": [
    {
     "name": "stdout",
     "output_type": "stream",
     "text": [
      "0\n"
     ]
    }
   ],
   "source": [
    "def func(data):\n",
    "    if data == 0:\n",
    "        return 0\n",
    "    return data * func(data - 1)\n",
    "print(func(5))"
   ]
  },
  {
   "cell_type": "markdown",
   "id": "c7be21d8-1e84-48bb-bfb8-5a25799e764f",
   "metadata": {},
   "source": [
    "Es kommt immer 0 heraus, oder ein Error, wenn er die Rekursion nicht trifft, wodurch ein enlosloop entsteht bis das Programm blockiert."
   ]
  },
  {
   "cell_type": "code",
   "execution_count": 15,
   "id": "34770364-1973-4dae-85bb-c76cd4340d41",
   "metadata": {},
   "outputs": [
    {
     "ename": "RecursionError",
     "evalue": "maximum recursion depth exceeded",
     "output_type": "error",
     "traceback": [
      "\u001b[1;31m---------------------------------------------------------------------------\u001b[0m",
      "\u001b[1;31mRecursionError\u001b[0m                            Traceback (most recent call last)",
      "Cell \u001b[1;32mIn[15], line 5\u001b[0m\n\u001b[0;32m      3\u001b[0m         \u001b[38;5;28;01mreturn\u001b[39;00m \u001b[38;5;241m0\u001b[39m\n\u001b[0;32m      4\u001b[0m     \u001b[38;5;28;01mreturn\u001b[39;00m data \u001b[38;5;241m*\u001b[39m func(data \u001b[38;5;241m-\u001b[39m \u001b[38;5;241m2\u001b[39m)\n\u001b[1;32m----> 5\u001b[0m \u001b[38;5;28mprint\u001b[39m(\u001b[43mfunc\u001b[49m\u001b[43m(\u001b[49m\u001b[38;5;241;43m1\u001b[39;49m\u001b[43m)\u001b[49m)\n",
      "Cell \u001b[1;32mIn[15], line 4\u001b[0m, in \u001b[0;36mfunc\u001b[1;34m(data)\u001b[0m\n\u001b[0;32m      2\u001b[0m \u001b[38;5;28;01mif\u001b[39;00m data \u001b[38;5;241m==\u001b[39m \u001b[38;5;241m0\u001b[39m:\n\u001b[0;32m      3\u001b[0m     \u001b[38;5;28;01mreturn\u001b[39;00m \u001b[38;5;241m0\u001b[39m\n\u001b[1;32m----> 4\u001b[0m \u001b[38;5;28;01mreturn\u001b[39;00m data \u001b[38;5;241m*\u001b[39m \u001b[43mfunc\u001b[49m\u001b[43m(\u001b[49m\u001b[43mdata\u001b[49m\u001b[43m \u001b[49m\u001b[38;5;241;43m-\u001b[39;49m\u001b[43m \u001b[49m\u001b[38;5;241;43m2\u001b[39;49m\u001b[43m)\u001b[49m\n",
      "Cell \u001b[1;32mIn[15], line 4\u001b[0m, in \u001b[0;36mfunc\u001b[1;34m(data)\u001b[0m\n\u001b[0;32m      2\u001b[0m \u001b[38;5;28;01mif\u001b[39;00m data \u001b[38;5;241m==\u001b[39m \u001b[38;5;241m0\u001b[39m:\n\u001b[0;32m      3\u001b[0m     \u001b[38;5;28;01mreturn\u001b[39;00m \u001b[38;5;241m0\u001b[39m\n\u001b[1;32m----> 4\u001b[0m \u001b[38;5;28;01mreturn\u001b[39;00m data \u001b[38;5;241m*\u001b[39m \u001b[43mfunc\u001b[49m\u001b[43m(\u001b[49m\u001b[43mdata\u001b[49m\u001b[43m \u001b[49m\u001b[38;5;241;43m-\u001b[39;49m\u001b[43m \u001b[49m\u001b[38;5;241;43m2\u001b[39;49m\u001b[43m)\u001b[49m\n",
      "    \u001b[1;31m[... skipping similar frames: func at line 4 (2974 times)]\u001b[0m\n",
      "Cell \u001b[1;32mIn[15], line 4\u001b[0m, in \u001b[0;36mfunc\u001b[1;34m(data)\u001b[0m\n\u001b[0;32m      2\u001b[0m \u001b[38;5;28;01mif\u001b[39;00m data \u001b[38;5;241m==\u001b[39m \u001b[38;5;241m0\u001b[39m:\n\u001b[0;32m      3\u001b[0m     \u001b[38;5;28;01mreturn\u001b[39;00m \u001b[38;5;241m0\u001b[39m\n\u001b[1;32m----> 4\u001b[0m \u001b[38;5;28;01mreturn\u001b[39;00m data \u001b[38;5;241m*\u001b[39m \u001b[43mfunc\u001b[49m\u001b[43m(\u001b[49m\u001b[43mdata\u001b[49m\u001b[43m \u001b[49m\u001b[38;5;241;43m-\u001b[39;49m\u001b[43m \u001b[49m\u001b[38;5;241;43m2\u001b[39;49m\u001b[43m)\u001b[49m\n",
      "\u001b[1;31mRecursionError\u001b[0m: maximum recursion depth exceeded"
     ]
    }
   ],
   "source": [
    "def func(data):\n",
    "    if data == 0:\n",
    "        return 0\n",
    "    return data * func(data - 2)\n",
    "print(func(1))"
   ]
  },
  {
   "cell_type": "markdown",
   "id": "f51cef91-1f22-4876-8fed-482c39e039cf",
   "metadata": {
    "jp-MarkdownHeadingCollapsed": true
   },
   "source": [
    "# PCAP"
   ]
  },
  {
   "cell_type": "code",
   "execution_count": 1,
   "id": "d5d315f9-f410-45dd-8808-cafcf785ee6e",
   "metadata": {},
   "outputs": [
    {
     "data": {
      "text/plain": [
       "''"
      ]
     },
     "execution_count": 1,
     "metadata": {},
     "output_type": "execute_result"
    }
   ],
   "source": [
    "\"\"*5"
   ]
  },
  {
   "cell_type": "code",
   "execution_count": 2,
   "id": "faa48b90-7c2f-4420-b63f-f3d7112a684c",
   "metadata": {},
   "outputs": [
    {
     "data": {
      "text/plain": [
       "''"
      ]
     },
     "execution_count": 2,
     "metadata": {},
     "output_type": "execute_result"
    }
   ],
   "source": [
    "\"\"*0"
   ]
  },
  {
   "cell_type": "code",
   "execution_count": 3,
   "id": "d613b9d0-ef57-4b64-8c41-fd89b4808972",
   "metadata": {},
   "outputs": [
    {
     "ename": "SyntaxError",
     "evalue": "invalid syntax (2581664674.py, line 1)",
     "output_type": "error",
     "traceback": [
      "\u001b[1;36m  Cell \u001b[1;32mIn[3], line 1\u001b[1;36m\u001b[0m\n\u001b[1;33m    Exceptions!!!\u001b[0m\n\u001b[1;37m              ^\u001b[0m\n\u001b[1;31mSyntaxError\u001b[0m\u001b[1;31m:\u001b[0m invalid syntax\n"
     ]
    }
   ],
   "source": [
    "Exceptions!!!"
   ]
  },
  {
   "cell_type": "code",
   "execution_count": 5,
   "id": "8d10cf34-f06d-43f2-8a79-9164f9d907d4",
   "metadata": {},
   "outputs": [
    {
     "ename": "SyntaxError",
     "evalue": "invalid syntax (387835944.py, line 1)",
     "output_type": "error",
     "traceback": [
      "\u001b[1;36m  Cell \u001b[1;32mIn[5], line 1\u001b[1;36m\u001b[0m\n\u001b[1;33m    Was evaluiert zu true UND wirft keine Exception...\u001b[0m\n\u001b[1;37m        ^\u001b[0m\n\u001b[1;31mSyntaxError\u001b[0m\u001b[1;31m:\u001b[0m invalid syntax\n"
     ]
    }
   ],
   "source": [
    "Was evaluiert zu true UND wirft keine Exception..."
   ]
  },
  {
   "cell_type": "code",
   "execution_count": 8,
   "id": "f7649007-001d-4bc0-8175-c04ee9197063",
   "metadata": {},
   "outputs": [],
   "source": [
    "try: \n",
    "    x = \"a\" - 2\n",
    "except BaseException:\n",
    "    pass"
   ]
  },
  {
   "cell_type": "code",
   "execution_count": null,
   "id": "7ffec55e-e975-4b96-acec-a5afc64f3070",
   "metadata": {},
   "outputs": [],
   "source": [
    "ValueError"
   ]
  },
  {
   "cell_type": "code",
   "execution_count": 9,
   "id": "a5a11be8-608f-42c9-93ed-20175de2aadf",
   "metadata": {},
   "outputs": [
    {
     "ename": "ValueError",
     "evalue": "invalid literal for int() with base 10: '2a'",
     "output_type": "error",
     "traceback": [
      "\u001b[1;31m---------------------------------------------------------------------------\u001b[0m",
      "\u001b[1;31mValueError\u001b[0m                                Traceback (most recent call last)",
      "Cell \u001b[1;32mIn[9], line 1\u001b[0m\n\u001b[1;32m----> 1\u001b[0m \u001b[38;5;28;43mint\u001b[39;49m\u001b[43m(\u001b[49m\u001b[38;5;124;43m\"\u001b[39;49m\u001b[38;5;124;43m2a\u001b[39;49m\u001b[38;5;124;43m\"\u001b[39;49m\u001b[43m)\u001b[49m\n",
      "\u001b[1;31mValueError\u001b[0m: invalid literal for int() with base 10: '2a'"
     ]
    }
   ],
   "source": [
    "int(\"2a\")"
   ]
  },
  {
   "cell_type": "code",
   "execution_count": null,
   "id": "054ac517-61d8-4933-8aa9-330fe9fd86ea",
   "metadata": {},
   "outputs": [],
   "source": [
    "Exception?"
   ]
  },
  {
   "cell_type": "markdown",
   "id": "cc9aafa9-1692-4a65-aeba-28701d421443",
   "metadata": {
    "jp-MarkdownHeadingCollapsed": true
   },
   "source": [
    "# Sonder Kram"
   ]
  },
  {
   "cell_type": "markdown",
   "id": "0434be86-3d02-4811-842b-1c483d5111c1",
   "metadata": {
    "jp-MarkdownHeadingCollapsed": true
   },
   "source": [
    "## Troll Code!"
   ]
  },
  {
   "cell_type": "markdown",
   "id": "04216513-2d23-4bb3-ae94-beb6c543b9b9",
   "metadata": {},
   "source": [
    "Nutzt nicht jeden Code, den eure Mitschüler euch schicken..."
   ]
  },
  {
   "cell_type": "code",
   "execution_count": 5,
   "id": "1c660ccc-b042-4355-929a-b2ceb34068c1",
   "metadata": {},
   "outputs": [
    {
     "name": "stdout",
     "output_type": "stream",
     "text": [
      "0\n"
     ]
    }
   ],
   "source": [
    "def func(data):\n",
    "    if data == 0:\n",
    "        return 0\n",
    "    return data + func(data - 1)\n",
    "# print(func(32)*\"we hate students\")"
   ]
  }
 ],
 "metadata": {
  "kernelspec": {
   "display_name": "Python 3 (ipykernel)",
   "language": "python",
   "name": "python3"
  },
  "language_info": {
   "codemirror_mode": {
    "name": "ipython",
    "version": 3
   },
   "file_extension": ".py",
   "mimetype": "text/x-python",
   "name": "python",
   "nbconvert_exporter": "python",
   "pygments_lexer": "ipython3",
   "version": "3.12.4"
  }
 },
 "nbformat": 4,
 "nbformat_minor": 5
}
