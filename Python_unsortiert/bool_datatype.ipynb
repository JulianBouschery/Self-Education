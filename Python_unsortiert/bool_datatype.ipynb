{
 "cells": [
  {
   "cell_type": "markdown",
   "id": "3320990a-b65a-4c02-a58a-1c7d4b69b763",
   "metadata": {},
   "source": [
    "[Zurück zum Inhaltsverzeichnis](_Inhaltsverzeichnis_.ipynb)"
   ]
  },
  {
   "cell_type": "markdown",
   "id": "afcec772-b41f-43bb-84ee-ff852d9314f2",
   "metadata": {},
   "source": [
    "## Boolean Datentyp"
   ]
  },
  {
   "cell_type": "markdown",
   "id": "1b45d01a-7215-48a4-83b3-7afd1ba6e653",
   "metadata": {},
   "source": [
    "Boolean Datentyp hat genau zwei mögliche Werte \n",
    "\n",
    "1. True\n",
    "2. False\n",
    "\n",
    "In Python nennen wir den Datentyp `bool`"
   ]
  },
  {
   "cell_type": "code",
   "execution_count": 63,
   "id": "fe5a4ebd-df6a-4da4-85b1-0856f7b2d8da",
   "metadata": {
    "tags": []
   },
   "outputs": [
    {
     "data": {
      "text/plain": [
       "(True, False)"
      ]
     },
     "execution_count": 63,
     "metadata": {},
     "output_type": "execute_result"
    }
   ],
   "source": [
    "True, False  # Dick und Grün heißt reserved word / Keyword "
   ]
  },
  {
   "cell_type": "markdown",
   "id": "8ab3d6da-ee82-4932-acfe-031ec116a136",
   "metadata": {},
   "source": [
    "[Keywords in der Python Dokumentation](https://docs.python.org/3/reference/lexical_analysis.html#keywords)"
   ]
  },
  {
   "cell_type": "markdown",
   "id": "9b4465cb-62d4-4066-b681-8771af3ec9cc",
   "metadata": {},
   "source": [
    "True und False sind sowohl Keywords, als auch Literale.\n",
    "\n",
    "Literale, was waren das nochmal?\n",
    "Literale sind die Daten AN SICH. Keine Variable, oder eine Berechnung die erst noch evaluieren muss, sonder die finalen Daten selbst. Man gibt die Werte direkt ein, und Python muss die nicht erst nachschlagen oder berechnen.\n",
    "\n",
    "Siehe auch: [Literale](Literale.ipynb)"
   ]
  },
  {
   "cell_type": "code",
   "execution_count": null,
   "id": "ca5c1a4d-2ef1-4b72-8a81-1a202a21777e",
   "metadata": {},
   "outputs": [],
   "source": [
    "literal_str = \"Hallo\" # Literally das Wort eingegeben\n",
    "keine_string_literal = \"Hallo\".upper() # Das Ergebnis \"HALLO\" muss erst berechnet werden"
   ]
  },
  {
   "cell_type": "code",
   "execution_count": 64,
   "id": "bef63485-9348-4938-bc4e-6e2aa585896a",
   "metadata": {
    "tags": []
   },
   "outputs": [
    {
     "data": {
      "text/plain": [
       "('Ich ', 'bin', 'ein Tuple', 'und', 'ein', 'Literal')"
      ]
     },
     "execution_count": 64,
     "metadata": {},
     "output_type": "execute_result"
    }
   ],
   "source": [
    "42,-12, 12.4 # sind Literale von Zahlen int und float\n",
    "\n",
    "(\"Ich \",\"bin\",\"ein Tuple\",\"und\",\"ein\",\"Literal\") # Tuple Literal"
   ]
  },
  {
   "cell_type": "markdown",
   "id": "733c4adf-ad84-4c62-b3b0-8818185342e1",
   "metadata": {},
   "source": [
    "True und False sind die beiden einzigen Literale des bool Datentyps"
   ]
  },
  {
   "cell_type": "markdown",
   "id": "1d85e037-3fb8-417d-95cb-5025ea1ce915",
   "metadata": {
    "tags": []
   },
   "source": [
    "None ist übrigens das Literal des NoneType"
   ]
  },
  {
   "cell_type": "code",
   "execution_count": 5,
   "id": "cb95dc42-a178-4dd7-94f4-838d131cb202",
   "metadata": {
    "tags": []
   },
   "outputs": [
    {
     "data": {
      "text/plain": [
       "bool"
      ]
     },
     "execution_count": 5,
     "metadata": {},
     "output_type": "execute_result"
    }
   ],
   "source": [
    "type(True)"
   ]
  },
  {
   "cell_type": "code",
   "execution_count": 6,
   "id": "698fe703-05b1-4efd-ae9c-79ecef277622",
   "metadata": {
    "tags": []
   },
   "outputs": [
    {
     "data": {
      "text/plain": [
       "bool"
      ]
     },
     "execution_count": 6,
     "metadata": {},
     "output_type": "execute_result"
    }
   ],
   "source": [
    "type(False)"
   ]
  },
  {
   "cell_type": "code",
   "execution_count": 7,
   "id": "4aa6ee7c-a8a8-4013-bd91-47c0b259ae3d",
   "metadata": {
    "tags": []
   },
   "outputs": [
    {
     "data": {
      "text/plain": [
       "NoneType"
      ]
     },
     "execution_count": 7,
     "metadata": {},
     "output_type": "execute_result"
    }
   ],
   "source": [
    "type(None)"
   ]
  },
  {
   "cell_type": "markdown",
   "id": "eb45457b-685c-4430-9412-1db9c3cfbd5b",
   "metadata": {},
   "source": [
    "Boolean benötigen wir faktisch, zum stellen von Fragen und zum Speichern der Antwort."
   ]
  },
  {
   "cell_type": "code",
   "execution_count": 65,
   "id": "c2339e08-e247-4538-ac37-cc833185b7a4",
   "metadata": {
    "tags": []
   },
   "outputs": [],
   "source": [
    "alter = 42\n",
    "\n",
    "# Wir wollen nun fragen ob die Person älter als 18 ist. \n",
    "\n",
    "aelter_18 = alter  > 18 # Boolean Expressions/Ausdruck\n",
    "\n",
    "# Ist die Person älter als 18?"
   ]
  },
  {
   "cell_type": "markdown",
   "id": "833dc793-84f7-4376-9ee7-1a6be59463bd",
   "metadata": {},
   "source": [
    "Eine Expression evaluiert zu genau einem Wert!\n",
    "\n",
    "Eine Boolean Expression evaluiert zu entweder True oder False."
   ]
  },
  {
   "cell_type": "code",
   "execution_count": 10,
   "id": "dc14134d-397e-4978-b5e3-1874fdc3c7da",
   "metadata": {
    "tags": []
   },
   "outputs": [
    {
     "data": {
      "text/plain": [
       "True"
      ]
     },
     "execution_count": 10,
     "metadata": {},
     "output_type": "execute_result"
    }
   ],
   "source": [
    "aelter_18"
   ]
  },
  {
   "cell_type": "code",
   "execution_count": 66,
   "id": "fad00374-a56e-4416-b9b1-9d19538b83f6",
   "metadata": {
    "tags": []
   },
   "outputs": [],
   "source": [
    "alter = 18\n",
    "aelter_18 = alter  > 18 "
   ]
  },
  {
   "cell_type": "code",
   "execution_count": 67,
   "id": "5dbe17d4-62ac-44a2-a806-a13f8c449729",
   "metadata": {
    "tags": []
   },
   "outputs": [
    {
     "data": {
      "text/plain": [
       "False"
      ]
     },
     "execution_count": 67,
     "metadata": {},
     "output_type": "execute_result"
    }
   ],
   "source": [
    "aelter_18"
   ]
  },
  {
   "cell_type": "code",
   "execution_count": 68,
   "id": "b6f40bab-1bb4-4468-87df-cdd7112388cb",
   "metadata": {
    "tags": []
   },
   "outputs": [],
   "source": [
    "aelter_18_oder_gleich_18 = alter >= 18"
   ]
  },
  {
   "cell_type": "markdown",
   "id": "6c1fa39a-87eb-4ac5-8276-1cc3925daa8a",
   "metadata": {},
   "source": [
    "Bedenke, jupyter lab erlaubt das sofortige Anzeigen der Ergebnisse. \n",
    "Wenn wir aber eine Zuweisung machen, wird das Ergebnis nicht angezeigt. \n",
    "\n",
    "Daher schreiben wir die Variable nach der Zuweisung noch einmal auf, und erhalten so deren Wert. Siehe unten"
   ]
  },
  {
   "cell_type": "code",
   "execution_count": 14,
   "id": "d22e38b1-56f9-41e6-afe2-4ea07fa821bd",
   "metadata": {
    "tags": []
   },
   "outputs": [
    {
     "data": {
      "text/plain": [
       "True"
      ]
     },
     "execution_count": 14,
     "metadata": {},
     "output_type": "execute_result"
    }
   ],
   "source": [
    "aelter_18_oder_gleich_18"
   ]
  },
  {
   "cell_type": "markdown",
   "id": "c71563a5-0ae9-4ec2-9b90-fff2bed23481",
   "metadata": {},
   "source": [
    "Wenn ihr in Pycharm oder IDLE oder VSCode denn Code ausführt müsst ihr explizit print() nutzen, wenn ihr die Ergebnisse sehen wollt."
   ]
  },
  {
   "cell_type": "code",
   "execution_count": 69,
   "id": "82633824-11f6-4e9c-91dc-613c290c062a",
   "metadata": {
    "tags": []
   },
   "outputs": [
    {
     "name": "stdout",
     "output_type": "stream",
     "text": [
      "True\n"
     ]
    }
   ],
   "source": [
    "print(aelter_18_oder_gleich_18)"
   ]
  },
  {
   "cell_type": "markdown",
   "id": "1997e2fb-9609-4e50-b616-9470f68b7ac4",
   "metadata": {},
   "source": [
    "## Auch interessant zu diesem Thema:"
   ]
  },
  {
   "cell_type": "markdown",
   "id": "5e73f724-9cd8-4944-845e-8e77454e0ead",
   "metadata": {},
   "source": [
    "[Boolsche Operatoren und ihre Anwendung](Anwendung_Boolsche_Operatoren.ipynb)"
   ]
  }
 ],
 "metadata": {
  "kernelspec": {
   "display_name": "Python 3 (ipykernel)",
   "language": "python",
   "name": "python3"
  },
  "language_info": {
   "codemirror_mode": {
    "name": "ipython",
    "version": 3
   },
   "file_extension": ".py",
   "mimetype": "text/x-python",
   "name": "python",
   "nbconvert_exporter": "python",
   "pygments_lexer": "ipython3",
   "version": "3.12.3"
  }
 },
 "nbformat": 4,
 "nbformat_minor": 5
}
