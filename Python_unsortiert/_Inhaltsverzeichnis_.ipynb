{
 "cells": [
  {
   "cell_type": "markdown",
   "id": "47c9a91e-1372-4171-871f-311f7998b6a1",
   "metadata": {
    "jp-MarkdownHeadingCollapsed": true
   },
   "source": [
    "# Strukturierung (Bitte lesen)"
   ]
  },
  {
   "cell_type": "markdown",
   "id": "4b6381e0-55aa-4a13-8619-b01a4735da16",
   "metadata": {},
   "source": [
    "Wie arbeitet man mit dieser Zusammenfassung?\n",
    "\n",
    "Um die Übersicht über so viele Themen behalten zu können, muss ich die Themen zu Gruppen zusammen fassen. Jedes Thema bekommt seine eigene Datei, die untereinander verlinkt sind. \n",
    "\n",
    "Wenn man eine Frage hat, oder sich noch mal anschauen möchte, wie die Syntax von irgendwas war, muss man sich fragen: \"Zu welchem Thema gehört das?\" und öffnet den entsprechenden Bereich. (Danach sollte man ihn auch wieder schließen, denn wenn 20 Fenster geöffnet hat, wird es schnell unübersichtlich.)\n",
    "\n",
    "Außerdem ist es vermutlich ratsam nichts selbst in die Datei zu schreiben, denn jedes Mal, wenn ich das nächste Update dieser Datei herausgebe, müsst ihr eure Notizen händisch nachtragen...\n",
    "\n",
    "Schreibt mich lieber persönlich auf Teams an und wir können besprechen, was ich noch einfügen soll.\n",
    "Je besser eure Ergänzungen in die Zusammenfassung passt und je weniger ich ändern muss, desto besser kann ich diese Übersicht für die Gruppe auf dem aktuellen Stand halten. Ich denke, wir müssen einfach ausprobieren, wie das klappt. Wie gesagt, die Zusammenfassung ist noch nicht fertig, aber für manche vielleicht besser als nichts.\n",
    "\n",
    "Ich versuche zu jedem Thema die folgenden Fragen in exakt dieser Reihenfolge zu strukturieren:\n",
    "\n",
    "- Was passiert? (Funktion erklären)\n",
    "- Was ist das? (Definition formulieren)\n",
    "- Warum / Wie funktioniert das? (Hintergründe und Details)\n",
    "  All, das Hand von sehr vielen Beispielen erklären\n",
    "\n",
    "PS: Die Zahlen, die in Jupiter Lab, links am Rand, neben den Zeilen stehen, kann man einfach ignorieren. Die geben nur an, in welcher Reihenfolge die einzelnen Zellen ausgeführt / bearbeitet worden sind und haben keine organisatorische Bedeutung."
   ]
  },
  {
   "cell_type": "markdown",
   "id": "61b407f9-7462-4022-b73f-a4bb81db7004",
   "metadata": {},
   "source": [
    "# Inhaltsverzeichnis-Python"
   ]
  },
  {
   "cell_type": "markdown",
   "id": "a1338951-51d3-4543-8f88-4e28f2b6d74d",
   "metadata": {},
   "source": [
    "[Zurück zum Inhaltsverzeichnis](_Inhaltsverzeichnis_.ipynb)"
   ]
  },
  {
   "cell_type": "markdown",
   "id": "8ac96f60-04d9-471a-8f1d-e15bac3312e3",
   "metadata": {},
   "source": [
    "[Bedienung_Jupyter_Lab / Help](Bedienund_Jupyter_Lab.ipynb)"
   ]
  },
  {
   "cell_type": "markdown",
   "id": "e56ad871-147e-488d-9b04-00403bfe1bb6",
   "metadata": {},
   "source": [
    "## Kurs"
   ]
  },
  {
   "cell_type": "markdown",
   "id": "bb9af5f8-92ec-4c70-a7f4-7372268524e9",
   "metadata": {},
   "source": [
    "[Themenübersicht für PCEP](pcep.ipynb)"
   ]
  },
  {
   "cell_type": "markdown",
   "id": "e33353f2-2615-45bd-9c0d-8169ce51a6a9",
   "metadata": {},
   "source": [
    "[Themenübersicht für PCAP](pcap.ipynb)"
   ]
  },
  {
   "cell_type": "markdown",
   "id": "c5911e28-1aef-4c6d-86f0-7c97d2013976",
   "metadata": {},
   "source": [
    "## Weitere Tools zur besseren Übersichtlichkeit"
   ]
  },
  {
   "cell_type": "markdown",
   "id": "b051abaf-1b0e-474d-b37f-b985497ed37e",
   "metadata": {},
   "source": [
    "[TO DO List](_TO_DO_.ipynb)"
   ]
  },
  {
   "cell_type": "markdown",
   "id": "447197ed-d4d2-4d9c-8f77-fa5e59b245f1",
   "metadata": {},
   "source": [
    "[Übersicht aller Funktionen und Methoden in Core-Python](un.ipynb)"
   ]
  },
  {
   "cell_type": "markdown",
   "id": "ac16960b-c1a6-4738-9e84-3312eb89ad3a",
   "metadata": {},
   "source": [
    "[Tipps zum Lernen](Tipps_zum_lernen.ipynb)"
   ]
  },
  {
   "cell_type": "markdown",
   "id": "452f854a-17be-4880-85a7-973badfa2a88",
   "metadata": {},
   "source": [
    "## Allgemeines"
   ]
  },
  {
   "cell_type": "markdown",
   "id": "8d4422ef-ad28-4477-b035-ba275aa7afd2",
   "metadata": {},
   "source": [
    "[Was macht eine Programmiersprache zu einer Sprache?](Programmiersprache.ipynb)"
   ]
  },
  {
   "cell_type": "markdown",
   "id": "89ab15ec-ad10-429b-aa8a-d36df0d0faff",
   "metadata": {},
   "source": [
    "[Kommentare in Python](Kommentare.ipynb)"
   ]
  },
  {
   "cell_type": "markdown",
   "id": "636c4469-1a22-4233-b0ac-4ed08b312ad6",
   "metadata": {},
   "source": [
    "[print Funktion](print.ipynb)"
   ]
  },
  {
   "cell_type": "markdown",
   "id": "8523d32e-0b0c-4bb8-bae6-e7b5b8a4ecf5",
   "metadata": {},
   "source": [
    "[END und Escape-Charakter](end_and_esc.ipynb)"
   ]
  },
  {
   "cell_type": "markdown",
   "id": "e2fae9a1-e5ff-4889-aa7b-ee1271e53b7b",
   "metadata": {},
   "source": [
    "[Reihenfolge](Reihenfolge.ipynb)"
   ]
  },
  {
   "cell_type": "markdown",
   "id": "a7789170-f8c1-44ed-b054-6a558e985d5d",
   "metadata": {
    "jp-MarkdownHeadingCollapsed": true
   },
   "source": [
    "### Links zu Python Documents:"
   ]
  },
  {
   "cell_type": "markdown",
   "id": "23430eff-338a-4888-b0e1-f337e250b386",
   "metadata": {},
   "source": [
    "[PEP8](https://peps.python.org/pep-0008/)"
   ]
  },
  {
   "cell_type": "markdown",
   "id": "806679be-705e-422a-aeff-b299cbe9a31b",
   "metadata": {},
   "source": [
    "[Funktion](https://docs.python.org/3/library/functions.html)"
   ]
  },
  {
   "cell_type": "markdown",
   "id": "1ae0d8db-5eec-417c-af9d-a4c753c81948",
   "metadata": {},
   "source": [
    "[Statistic](https://docs.python.org/3/library/statistics.html)"
   ]
  },
  {
   "cell_type": "markdown",
   "id": "b9bfb2b7-5923-45f0-8056-22827869feb1",
   "metadata": {},
   "source": [
    "[Exception hierarchy](https://docs.python.org/3/library/exceptions.html#exception-hierarchy)"
   ]
  },
  {
   "cell_type": "markdown",
   "id": "b44d6135-b92b-4a58-8d96-f68fb184a9e6",
   "metadata": {},
   "source": [
    "## Große Themenblöcke"
   ]
  },
  {
   "cell_type": "markdown",
   "id": "8573d6c8-3298-41f6-808c-3734f02dfa92",
   "metadata": {},
   "source": [
    "[Datentypen](Datentypen.ipynb)"
   ]
  },
  {
   "cell_type": "markdown",
   "id": "697c5cd9-87f4-4e8f-a473-23d284afc5a0",
   "metadata": {},
   "source": [
    "[Variablen](Variablen.ipynb)"
   ]
  },
  {
   "cell_type": "markdown",
   "id": "c41544dd-3a66-4f41-a4bb-998af95a1745",
   "metadata": {},
   "source": [
    "[Strings](Strings.ipynb)"
   ]
  },
  {
   "cell_type": "markdown",
   "id": "1f41657f-3d89-4844-b1fb-2d85fe1fd93c",
   "metadata": {},
   "source": [
    "### Details"
   ]
  },
  {
   "cell_type": "markdown",
   "id": "0893cd07-3b63-4d30-a293-da78a390b837",
   "metadata": {},
   "source": [
    "[Literale](Literale.ipynb)"
   ]
  },
  {
   "cell_type": "markdown",
   "id": "3d6fd160-4967-49f7-8dff-c5b5a065ea1b",
   "metadata": {},
   "source": [
    "[Dynamically Typed vs. Statical Typing](Dynamically_Typed_vs._Statical_Typing.ipynb)"
   ]
  },
  {
   "cell_type": "markdown",
   "id": "368e6fc7-514e-459d-b57a-ba05c2404a3e",
   "metadata": {},
   "source": [
    "[Definition von legalem und illegalem Code, sowie legalem, aber hässlichem Code...](Legaler_und_illegaler_code.ipynb)"
   ]
  },
  {
   "cell_type": "markdown",
   "id": "cbc0fadd-4266-4516-8dec-1d80ade420ce",
   "metadata": {},
   "source": [
    "[Keywords](keywords.ipynb)"
   ]
  },
  {
   "cell_type": "markdown",
   "id": "3b45d045-2e61-43b2-a09f-c81daafef551",
   "metadata": {},
   "source": [
    "## Mathematik in Python"
   ]
  },
  {
   "cell_type": "markdown",
   "id": "2855fb57-3319-4b34-a94e-960c12ebef4f",
   "metadata": {},
   "source": [
    "[Mathe Regeln in Python](Mathe_Rules.ipynb)"
   ]
  },
  {
   "cell_type": "markdown",
   "id": "e0ac6cb7-51d2-4b84-a17b-981c3779ede3",
   "metadata": {},
   "source": [
    "[Zusammenfassung: Operatoren](Operatoren.ipynb)"
   ]
  },
  {
   "cell_type": "markdown",
   "id": "0420d72a-01c0-4081-ba04-da7e37e3a2b8",
   "metadata": {},
   "source": [
    "[Ergebnis eines float](Ergbnis_float.ipynb)"
   ]
  },
  {
   "cell_type": "markdown",
   "id": "48a7158b-8b2c-42d5-b541-74ee36cd0963",
   "metadata": {},
   "source": [
    "[Übungen zu Klammern](Übugen_zu_Klammern.ipynb)"
   ]
  },
  {
   "cell_type": "markdown",
   "id": "2ce928dc-0408-45f5-9f33-3dc83f306529",
   "metadata": {},
   "source": [
    "[Übungen zu negativen Zahlen](Negative_Zahlen.ipynb)"
   ]
  },
  {
   "cell_type": "markdown",
   "id": "68ce702f-0a4e-401a-8389-23821d863946",
   "metadata": {},
   "source": [
    "[Übungen zu Rechenoperationen](Übungen_zu_Rechenoperationen.ipynb)"
   ]
  },
  {
   "cell_type": "markdown",
   "id": "14ed160e-8b21-4387-8152-6845cfcf7fc8",
   "metadata": {},
   "source": [
    "[Integer und float](Integer_und_float.ipynb)"
   ]
  },
  {
   "cell_type": "markdown",
   "id": "7f89b429-0c71-4712-b061-828e1691aed7",
   "metadata": {},
   "source": [
    "[int() und float() als Umwandlung von str oder Zahlen](Umwandlung_von_str_zu_Zahlen.ipynb)"
   ]
  },
  {
   "cell_type": "markdown",
   "id": "6b627ebf-ba8e-42b3-b494-095f81b2d7f6",
   "metadata": {},
   "source": [
    "[Einschub Konkatenation](Einschub_Konkatenation.ipynb)"
   ]
  },
  {
   "cell_type": "markdown",
   "id": "b5156b81-3842-4e0d-8415-63982b860793",
   "metadata": {},
   "source": [
    "[Scientific Notation e/E](Scientific_Notation_eE.ipynb)"
   ]
  },
  {
   "cell_type": "markdown",
   "id": "253f2967-576c-4d71-bea0-0b07597b65ce",
   "metadata": {},
   "source": [
    "[Modulo](Modulo.ipynb)"
   ]
  },
  {
   "cell_type": "markdown",
   "id": "5f9060d0-10d1-4330-8bbc-46d3364e6e9d",
   "metadata": {},
   "source": [
    "[floar devision]()"
   ]
  },
  {
   "cell_type": "markdown",
   "id": "41240e5b-9dfa-45e1-a6b3-f0d99f5dd030",
   "metadata": {},
   "source": [
    "[Formatierung](form.ipynb)"
   ]
  },
  {
   "cell_type": "markdown",
   "id": "f6732f9f-1ff8-4960-9072-3b505c2edcaa",
   "metadata": {},
   "source": [
    "### Zahlensysteme: Binär-, Octal-, Hexadezimalsystem"
   ]
  },
  {
   "cell_type": "markdown",
   "id": "22bd7c9e-5105-4147-b664-6363da0aa31f",
   "metadata": {},
   "source": [
    "[Zahlensysteme](Zahlensysteme.ipynb)"
   ]
  },
  {
   "cell_type": "markdown",
   "id": "8c394eca-e378-496d-9ead-3410fc4f53b0",
   "metadata": {},
   "source": [
    "[Übungsaufgaben zu Zahlensystemen](ex_Zahlensysteme.ipynb)"
   ]
  },
  {
   "cell_type": "markdown",
   "id": "444c5b03-5f79-4678-9a18-47e64a786db0",
   "metadata": {},
   "source": [
    "[Bitweise Operatoren](Bitweise_Operatoren.ipynb)"
   ]
  },
  {
   "cell_type": "markdown",
   "id": "909afbe1-5b82-41f9-b06e-73c264b615f7",
   "metadata": {},
   "source": [
    "[ASCII und Unicode](ASCII_Unicode.ipynb)"
   ]
  },
  {
   "cell_type": "markdown",
   "id": "9f486dab-402d-4acc-998b-7a7ae3cce354",
   "metadata": {},
   "source": [
    "Siehe Unter Boolean Value: [Boolscher Vergleich mit anderen Datentypen als int (Unicode)](bool_ASCII_Unicode.ipynb)\n"
   ]
  },
  {
   "cell_type": "markdown",
   "id": "900383db-20ef-451d-948b-7b111be60e39",
   "metadata": {
    "jp-MarkdownHeadingCollapsed": true
   },
   "source": [
    "### math Module (PCAP)"
   ]
  },
  {
   "cell_type": "markdown",
   "id": "31897c74-0a32-46c8-9757-0592127b2480",
   "metadata": {},
   "source": [
    "[ceil](ceil.ipynb)"
   ]
  },
  {
   "cell_type": "markdown",
   "id": "82b841f6-a92e-4ef1-8f57-a8ab291dd798",
   "metadata": {},
   "source": [
    "[factorial()](factorial.ipynb)"
   ]
  },
  {
   "cell_type": "markdown",
   "id": "d7ca1523-6d6d-49ec-94ee-5c630bf0f91a",
   "metadata": {},
   "source": [
    "[floor](floor.ipynb)"
   ]
  },
  {
   "cell_type": "markdown",
   "id": "3eeeae9c-26b3-445b-8693-f9fb827b8296",
   "metadata": {},
   "source": [
    "[hypot](hypot.ipynb)"
   ]
  },
  {
   "cell_type": "markdown",
   "id": "f18a0ac3-836a-4b53-937a-6f9716169abc",
   "metadata": {},
   "source": [
    "[sqrt()](sqrt.ipynb)"
   ]
  },
  {
   "cell_type": "markdown",
   "id": "48ad9222-41ca-4529-a0a9-997830937164",
   "metadata": {},
   "source": [
    "[trunc](trunc.ipynb)"
   ]
  },
  {
   "cell_type": "markdown",
   "id": "897e1497-d564-4e6f-aa17-6b74eacb8a7a",
   "metadata": {},
   "source": [
    "## Funktionen"
   ]
  },
  {
   "cell_type": "markdown",
   "id": "57127e35-7e40-440f-88b9-c18553019a67",
   "metadata": {},
   "source": [
    "[dict](dict.ipynb)"
   ]
  },
  {
   "cell_type": "markdown",
   "id": "b9f6ea58-795b-4f44-885f-daf057007727",
   "metadata": {},
   "source": [
    "[dir](dir.ipynb)"
   ]
  },
  {
   "cell_type": "markdown",
   "id": "ebef3e45-80dd-475a-af19-fca18bea2a4a",
   "metadata": {},
   "source": [
    "[del](del.ipynb)"
   ]
  },
  {
   "cell_type": "markdown",
   "id": "2af549fc-323a-4c31-a9c8-01f7e7d0fec5",
   "metadata": {},
   "source": [
    "[filter](filter.ipynb)"
   ]
  },
  {
   "cell_type": "markdown",
   "id": "fe79f6b5-954e-4951-9ac3-bd592d3b79aa",
   "metadata": {},
   "source": [
    "[enumerate](enumerate.ipynb)"
   ]
  },
  {
   "cell_type": "markdown",
   "id": "422bad19-2908-402c-adbc-a450fc82b38c",
   "metadata": {},
   "source": [
    "[extend](extent.ipynb)"
   ]
  },
  {
   "cell_type": "markdown",
   "id": "1b827edc-52e4-4ccf-846b-dee754fa2256",
   "metadata": {},
   "source": [
    "[for-Schleifen und Konstrukte](for-Schleifen.ipynb)"
   ]
  },
  {
   "cell_type": "markdown",
   "id": "3193c51e-09c6-4800-b3bc-909894e04176",
   "metadata": {},
   "source": [
    "[while-Schleife](while.ipynb)"
   ]
  },
  {
   "cell_type": "markdown",
   "id": "5853ea0d-044a-4d12-a186-cef363dbde66",
   "metadata": {},
   "source": [
    "[if / elif / else](if_elif_else.ipynb)"
   ]
  },
  {
   "cell_type": "markdown",
   "id": "f61dd18f-31ba-4dc2-bac9-fa5abaa50fd4",
   "metadata": {},
   "source": [
    "[Ternary Operator](ter.ipynb)"
   ]
  },
  {
   "cell_type": "markdown",
   "id": "59a50ea5-578d-4e1b-9a4f-cd00be3eaba1",
   "metadata": {},
   "source": [
    "[in](in.ipynb) "
   ]
  },
  {
   "cell_type": "markdown",
   "id": "36976584-e493-4de2-9a59-5d0e496088e0",
   "metadata": {},
   "source": [
    "[input]()"
   ]
  },
  {
   "cell_type": "markdown",
   "id": "bab2bc4d-263e-443f-b41a-753108e1daab",
   "metadata": {},
   "source": [
    "[list](list.ipynb)"
   ]
  },
  {
   "cell_type": "markdown",
   "id": "7d2f0739-2757-4b0a-9397-63e4796a2594",
   "metadata": {},
   "source": [
    "[max](max.ipynb)"
   ]
  },
  {
   "cell_type": "markdown",
   "id": "808b1436-f9f6-4013-9742-09fc83380646",
   "metadata": {},
   "source": [
    "[range](range.ipynb)"
   ]
  },
  {
   "cell_type": "markdown",
   "id": "4fd1867f-eaf5-4a52-ab8f-1997012c21d2",
   "metadata": {},
   "source": [
    "[round]()"
   ]
  },
  {
   "cell_type": "markdown",
   "id": "d2892dc0-8e66-482e-8bfe-f5160068bcf9",
   "metadata": {},
   "source": [
    "[str](str.ipynb)"
   ]
  },
  {
   "cell_type": "markdown",
   "id": "352431f9-1d43-4efc-bdee-9ba2a321803c",
   "metadata": {},
   "source": [
    "[sorted](sorted.ipynb)"
   ]
  },
  {
   "cell_type": "markdown",
   "id": "31ef8a97-aec1-4ac4-ac56-cf78a29e220e",
   "metadata": {},
   "source": [
    "[tuple](tuple.ipynb)"
   ]
  },
  {
   "cell_type": "markdown",
   "id": "e9c4cde8-fca4-4721-ac2a-9d2d681cca9d",
   "metadata": {},
   "source": [
    "[zip](zip.ipynb)"
   ]
  },
  {
   "cell_type": "markdown",
   "id": "ff9a7ab0-c782-4fab-aed3-296b8fcd53e8",
   "metadata": {},
   "source": [
    "[try except](try_except.ipynb)"
   ]
  },
  {
   "cell_type": "markdown",
   "id": "531fda06-f0d8-4d66-8489-774883557177",
   "metadata": {},
   "source": [
    "Eigene Funktionen bauen mit [def Funktion](def-Funktion.ipynb) "
   ]
  },
  {
   "cell_type": "markdown",
   "id": "b43e626b-4dcf-4ed6-9fba-e84a333afdaa",
   "metadata": {},
   "source": [
    "## Funktionen (advanced/PCAP)"
   ]
  },
  {
   "cell_type": "markdown",
   "id": "9af7542f-347e-40c5-9112-50e13389bd23",
   "metadata": {},
   "source": [
    "[lambda](lambda.ipynb)"
   ]
  },
  {
   "cell_type": "markdown",
   "id": "e97a1227-1ef4-4b56-9bfd-d31328063f99",
   "metadata": {},
   "source": [
    "[\"flatten\"](flatten.ipynb)"
   ]
  },
  {
   "cell_type": "markdown",
   "id": "9f2c6578-3a78-4c7f-b8a4-2dad1d8acec4",
   "metadata": {},
   "source": [
    "[isinstance](isinstance.ipynb)"
   ]
  },
  {
   "cell_type": "markdown",
   "id": "bc30263c-88bd-40ce-bfc9-4874e3fddb91",
   "metadata": {},
   "source": [
    "## Methoden"
   ]
  },
  {
   "cell_type": "markdown",
   "id": "bd2273ca-3016-42ba-af32-83cc7663a28d",
   "metadata": {},
   "source": [
    "[Method chaining](method_chaining.ipynb)"
   ]
  },
  {
   "cell_type": "markdown",
   "id": "fecf4596-0e2f-4a3b-947b-3e56d22ed850",
   "metadata": {},
   "source": [
    "Methoden die mit allen Datentypen funktionieren:"
   ]
  },
  {
   "cell_type": "markdown",
   "id": "74013600-819d-4e3d-8735-f419a6b83aeb",
   "metadata": {},
   "source": [
    "[count und index, Methoden in Sequenzen](Methoden_in_Sequnezen.ipynb) überlegen ob man die aufteilt..."
   ]
  },
  {
   "cell_type": "markdown",
   "id": "e8d9d569-9f3d-4db9-b680-8453b1fd38fb",
   "metadata": {},
   "source": [
    "[count](count.ipynb)"
   ]
  },
  {
   "cell_type": "markdown",
   "id": "b36d97a9-c7a9-4c19-a372-a3897f706e70",
   "metadata": {},
   "source": [
    "[index](index_find_rfind.ipynb)"
   ]
  },
  {
   "cell_type": "markdown",
   "id": "4adead69-ac0b-4082-956c-d53e9990f195",
   "metadata": {},
   "source": [
    "[mro](mro.ipynb)"
   ]
  },
  {
   "cell_type": "markdown",
   "id": "b8e46d29-4cca-4c28-8a5f-8d0d07596ba5",
   "metadata": {},
   "source": [
    "## Übersicht Methoden"
   ]
  },
  {
   "cell_type": "markdown",
   "id": "cd53975a-d151-4262-8e78-d7b66d084b3a",
   "metadata": {},
   "source": [
    "[Übersicht str Method](String_Methoden.ipynb)"
   ]
  },
  {
   "cell_type": "markdown",
   "id": "929ebf3a-378e-4566-944c-ffb28d8be3a2",
   "metadata": {},
   "source": [
    "[Übersicht list Method](list_method.ipynb)"
   ]
  },
  {
   "cell_type": "markdown",
   "id": "6ad43d63-e3b9-43a2-af36-53f6c18eb33e",
   "metadata": {},
   "source": [
    "[Übersicht dict Methoden](dict_method.ipynb)"
   ]
  },
  {
   "cell_type": "markdown",
   "id": "42e14960-6a54-4fe9-acb9-20d1e34d6d9f",
   "metadata": {},
   "source": [
    "## Module"
   ]
  },
  {
   "cell_type": "markdown",
   "id": "3a9d6933-14cf-4462-b8f6-c25d7c57c537",
   "metadata": {
    "jp-MarkdownHeadingCollapsed": true
   },
   "source": [
    "### random Module (PCAP)"
   ]
  },
  {
   "cell_type": "markdown",
   "id": "20118f9e-d7d0-4ab2-876b-b308b265900f",
   "metadata": {},
   "source": [
    "[random, seed, choice und sample](random.ipynb)"
   ]
  },
  {
   "cell_type": "markdown",
   "id": "7e0d6530-71b3-4d9e-b7b8-d2c7198dac1f",
   "metadata": {},
   "source": [
    "[randint](randint.ipynb)"
   ]
  },
  {
   "cell_type": "markdown",
   "id": "10c4d454-af17-43db-af14-e97a8ef4ddbe",
   "metadata": {},
   "source": [
    "[choice und sample](choice.ipynb)"
   ]
  },
  {
   "cell_type": "markdown",
   "id": "58c8a81b-025d-49a0-83ed-1fd77ae30fa8",
   "metadata": {
    "jp-MarkdownHeadingCollapsed": true
   },
   "source": [
    "### platform Modul (PCAP)"
   ]
  },
  {
   "cell_type": "markdown",
   "id": "bdef73c5-5ec4-4929-8724-881827ebf776",
   "metadata": {},
   "source": [
    "[platform](platform.ipynb)"
   ]
  },
  {
   "cell_type": "markdown",
   "id": "2004e5d3-0c3b-4136-82ca-f1e3a9921220",
   "metadata": {},
   "source": [
    "## Sequenzen"
   ]
  },
  {
   "cell_type": "markdown",
   "id": "cfa39c16-29be-4424-a3fb-40fa254acd36",
   "metadata": {},
   "source": [
    "[Generelles zu Sequenzen](Generelles_zu_Sequenzen.ipynb)"
   ]
  },
  {
   "cell_type": "markdown",
   "id": "b704af09-a8ec-4951-90ef-af029c4de1f2",
   "metadata": {},
   "source": [
    "[Listen](Listen.ipynb)"
   ]
  },
  {
   "cell_type": "markdown",
   "id": "bb804a7b-fe7b-4fa1-b78c-1238c0a640a7",
   "metadata": {},
   "source": [
    "[Fehler beim indizieren und slicen](Fehler_beim_indizieren_und_slicen.ipynb)"
   ]
  },
  {
   "cell_type": "markdown",
   "id": "43ac1ebc-af62-4e55-b3d0-1c59e28b15a1",
   "metadata": {},
   "source": [
    "[Sequenzen](Sequenzen.ipynb)"
   ]
  },
  {
   "cell_type": "markdown",
   "id": "74680bf9-1fc2-431e-8d32-0763a6ec4d6f",
   "metadata": {},
   "source": [
    "[Common Sequenz Operations](Common_Sequenz_Operations.ipynb)"
   ]
  },
  {
   "cell_type": "markdown",
   "id": "f0f0f5d9-418a-4c85-b242-e93d9507b213",
   "metadata": {},
   "source": [
    "## Slicen und List Comprehension"
   ]
  },
  {
   "cell_type": "markdown",
   "id": "3fe97a2f-0e02-4d92-a4ad-908d2878f3a6",
   "metadata": {},
   "source": [
    "[List Comprehension](list_comprehension.ipynb)"
   ]
  },
  {
   "cell_type": "markdown",
   "id": "1588fade-0c41-4c95-bd4c-56bdc92d9d5f",
   "metadata": {},
   "source": [
    "[Gesamte Datei Slicen_und_List_Comprehension (Muss noch geprüft werden)](Slicen_und_List_Comprehension.ipynb)"
   ]
  },
  {
   "cell_type": "markdown",
   "id": "a5b608df-8788-4248-8093-66377eef8ec8",
   "metadata": {},
   "source": [
    "[Übersicht unterschiedlicher Variationen eines Slice](Variation_of_slice.ipynb)"
   ]
  },
  {
   "cell_type": "markdown",
   "id": "bd7bc0cb-f89b-4cb3-9c20-97479fe2131e",
   "metadata": {},
   "source": [
    "[Alle möglichen Kombinationen von Slice](All_possible_slice.ipynb)"
   ]
  },
  {
   "cell_type": "markdown",
   "id": "97a68958-437d-4506-adfc-d140e13c4bc2",
   "metadata": {},
   "source": [
    "[Slice Generator](slice_generator.ipynb)"
   ]
  },
  {
   "cell_type": "markdown",
   "id": "99559cb0-168a-4e9d-8e9b-e92615bd6535",
   "metadata": {},
   "source": [
    "## True / False bzw. Boolean Value / Boolsche Werte in Python"
   ]
  },
  {
   "cell_type": "markdown",
   "id": "b7e70d40-2cbc-408e-892e-6d9304e3e36e",
   "metadata": {},
   "source": [
    "[Boolean Datentyp](bool_datatype.ipynb)"
   ]
  },
  {
   "cell_type": "markdown",
   "id": "1c5be688-d398-4811-a50f-7758a0c5b296",
   "metadata": {},
   "source": [
    "[Grober Überblick und Definition von Boolschen Werten:](Overview_boolean_value.ipynb)"
   ]
  },
  {
   "cell_type": "markdown",
   "id": "ff0f973a-7da2-4796-8064-bf8324e820e3",
   "metadata": {},
   "source": [
    "[Boolsche Operatoren und ihre Anwendung](Anwendung_Boolsche_Operatoren.ipynb) (Hier steht das meiste zu Boolschen Werten)"
   ]
  },
  {
   "cell_type": "markdown",
   "id": "e971abfe-2791-4e25-b35d-6818cce51b02",
   "metadata": {},
   "source": [
    "[Übungsaufgaben zu Boolschen Operatoren ==, !=, >/>=, </<=](Übungsaufgaben_zu_Boolschen_Operatoren.ipynb)"
   ]
  },
  {
   "cell_type": "markdown",
   "id": "40691042-5250-4136-98f0-9e25a77ae5e0",
   "metadata": {},
   "source": [
    "[Boolscher Vergleich mit anderen Datentypen als int (Unicode)](bool_ASCII_Unicode.ipynb)\n"
   ]
  },
  {
   "cell_type": "markdown",
   "id": "18e9e8d1-7568-4866-b98d-8a1fd25201af",
   "metadata": {},
   "source": [
    "Wo steht \"truthyness?\""
   ]
  },
  {
   "cell_type": "markdown",
   "id": "20007658-37b1-4b9d-a703-6f02d562e690",
   "metadata": {},
   "source": [
    "## Set"
   ]
  },
  {
   "cell_type": "markdown",
   "id": "6cde6ac8-a77f-48a6-baba-6b953cbe1fc4",
   "metadata": {},
   "source": [
    "set"
   ]
  },
  {
   "cell_type": "markdown",
   "id": "057ee805-eef5-46b4-9bfc-1cad8d4ae8bc",
   "metadata": {},
   "source": [
    "frozen set"
   ]
  },
  {
   "cell_type": "markdown",
   "id": "7e0352ec-49c6-428f-bc9a-e0f0effd40d2",
   "metadata": {},
   "source": [
    "## Dictionary"
   ]
  },
  {
   "cell_type": "markdown",
   "id": "f6c01616-04a0-49f2-ab84-b23f206f7822",
   "metadata": {},
   "source": [
    "[Dictionary](dictionary.ipynb)"
   ]
  },
  {
   "cell_type": "markdown",
   "id": "f087faff-0685-45a8-976f-69362864674f",
   "metadata": {
    "jp-MarkdownHeadingCollapsed": true
   },
   "source": [
    "[Beispiele und Aufgaben zum Dictionary](ex_dictionary.ipynb)"
   ]
  },
  {
   "cell_type": "markdown",
   "id": "7aa65047-480b-4289-9b1c-1a4f884ded3e",
   "metadata": {},
   "source": [
    "# Sonderkram von dem ich noch nicht weiß, wohin damit"
   ]
  },
  {
   "cell_type": "markdown",
   "id": "cce47ff0-1a75-4cd5-8147-bd3e653ba2d0",
   "metadata": {},
   "source": [
    "[Definition von Parameter und Argument](Definition_von_Parameter_und_Argument.ipynb)"
   ]
  },
  {
   "cell_type": "markdown",
   "id": "31fd1b22-9c30-43d1-8802-d5fa5bae8df3",
   "metadata": {},
   "source": [
    "[Positional vs. Keyword](Positional_vs._Keyword.ipynb)"
   ]
  },
  {
   "cell_type": "markdown",
   "id": "b4f57794-81cc-4823-bd99-26b53504e092",
   "metadata": {},
   "source": [
    "[Liste aller import-Funktionen](import.ipynb)"
   ]
  },
  {
   "cell_type": "markdown",
   "id": "05ce0002-37e5-437e-a6b8-66323ff216d0",
   "metadata": {},
   "source": [
    "[Shallow Copy](Shallow_copy.ipynb)"
   ]
  },
  {
   "cell_type": "markdown",
   "id": "95e91122-f675-4e74-9f03-235b18b1fb4d",
   "metadata": {},
   "source": [
    "[Immutability](Immutability.ipynb)"
   ]
  },
  {
   "cell_type": "markdown",
   "id": "feebf705-02c2-456b-95b3-657f55f2c13d",
   "metadata": {},
   "source": [
    "[Kein Item Assignment in Tuplen](No_Assignment_Tuple.ipynb)"
   ]
  },
  {
   "cell_type": "markdown",
   "id": "f6463903-f8cd-4980-89a8-d49ddb284299",
   "metadata": {},
   "source": [
    "[Cell Magic](Cell_Magic.ipynb)"
   ]
  },
  {
   "cell_type": "markdown",
   "id": "1997637b-7629-446a-b98a-984c028f5503",
   "metadata": {},
   "source": [
    "[Zen of Python](Zen_of_Python.ipynb)"
   ]
  },
  {
   "cell_type": "markdown",
   "id": "b8273f48-a5a7-4d12-bf1f-c4b913a726ad",
   "metadata": {},
   "source": [
    "[Error](Error.ipynb)"
   ]
  },
  {
   "cell_type": "markdown",
   "id": "84f4141a-43c8-44d5-89da-848a19d86111",
   "metadata": {},
   "source": [
    "[Scope (lokal vs. global)](Scope.ipynb)"
   ]
  },
  {
   "cell_type": "markdown",
   "id": "bb8f187a-4d85-45f7-bbe4-5b4b03a842ed",
   "metadata": {},
   "source": [
    "[Namespace und Varianten der import Funktion](Namespace.ipynb)"
   ]
  },
  {
   "cell_type": "markdown",
   "id": "9c7049bd-8c1c-4dc6-b188-74da8fe36e67",
   "metadata": {},
   "source": [
    "[Kuriositäten](Kuriositäten.ipynb)"
   ]
  },
  {
   "cell_type": "markdown",
   "id": "3cc32981-16b3-4768-a028-fbb700aacc14",
   "metadata": {},
   "source": [
    "[History and Usecase](History.ipynb)"
   ]
  },
  {
   "cell_type": "markdown",
   "id": "0a0834be-041d-4b53-ae7f-74e46c8a1981",
   "metadata": {},
   "source": [
    "# Übersicht was ich noch machen muss"
   ]
  },
  {
   "cell_type": "markdown",
   "id": "f16354d7-e781-4619-b17b-930ebdc079a0",
   "metadata": {},
   "source": [
    "[Common Sequenz Operations](Common_Sequenz_Operations.ipynb) Quasi eine zusammenfassung dessen was man mit und auf Sequenzen anwenden kann... Könnte ich auch noch auseinander Drößeln... und sollte ich auch."
   ]
  },
  {
   "cell_type": "markdown",
   "id": "b399013a-455d-4e80-a282-be7eab247816",
   "metadata": {},
   "source": [
    "[Gesamte Datei Slicen_und_List_Comprehension (Muss noch geprüft werden)](Slicen_und_List_Comprehension.ipynb)"
   ]
  },
  {
   "cell_type": "markdown",
   "id": "febc5beb-1096-4935-9ffc-34462ecbf93c",
   "metadata": {},
   "source": [
    "[Regeln](Regeln.ipynb)"
   ]
  },
  {
   "cell_type": "markdown",
   "id": "44754ee7-adb6-4b8d-ba00-4558895e82c9",
   "metadata": {},
   "source": [
    "[Vererbung](Vererbung.ipynb)"
   ]
  },
  {
   "cell_type": "markdown",
   "id": "e42f23e0-240f-4392-aef3-f6dc9018d67c",
   "metadata": {},
   "source": [
    "[Patologische Prüfungsaufgaben](Patologische_Prüfungsaufgaben.ipynb)"
   ]
  },
  {
   "cell_type": "markdown",
   "id": "4c8fbded-96d1-45f7-ac07-8c8d448b9073",
   "metadata": {},
   "source": [
    "[Pseudo Code](Pseudo.ipynb)"
   ]
  },
  {
   "cell_type": "markdown",
   "id": "13076707-fa94-4288-8b80-407184e0019d",
   "metadata": {},
   "source": [
    "[lambda](lambda.ipynb)"
   ]
  },
  {
   "cell_type": "markdown",
   "id": "bb488135-d34a-43a1-acf6-a333de13b79e",
   "metadata": {},
   "source": [
    "[split und join](split_und_join.ipynb)"
   ]
  },
  {
   "cell_type": "markdown",
   "id": "91802279-7a8a-4326-919d-0ea7c0fe3a0c",
   "metadata": {},
   "source": [
    "[Generatoren](Generator.ipynb)"
   ]
  },
  {
   "cell_type": "markdown",
   "id": "f5d79989-cd7c-44dc-be06-12bb8d330f3f",
   "metadata": {},
   "source": [
    "[Übungsaufgaben](Übungsaufgaben.ipynb)"
   ]
  },
  {
   "cell_type": "markdown",
   "id": "16ba2254-8f81-4cb7-984c-b360fec7cfe8",
   "metadata": {},
   "source": [
    "[open und with](open_und_with.ipynb)"
   ]
  },
  {
   "cell_type": "markdown",
   "id": "6c05d8a9-e307-45ea-be5c-d4c1a4d0b84c",
   "metadata": {},
   "source": [
    "# Weiterbildung"
   ]
  },
  {
   "cell_type": "markdown",
   "id": "de668bc8-2008-4cef-acb2-29b4eb5658a0",
   "metadata": {},
   "source": [
    "[Weiterbildung](Weiterbildung.ipynb)"
   ]
  }
 ],
 "metadata": {
  "kernelspec": {
   "display_name": "Python 3 (ipykernel)",
   "language": "python",
   "name": "python3"
  },
  "language_info": {
   "codemirror_mode": {
    "name": "ipython",
    "version": 3
   },
   "file_extension": ".py",
   "mimetype": "text/x-python",
   "name": "python",
   "nbconvert_exporter": "python",
   "pygments_lexer": "ipython3",
   "version": "3.12.6"
  }
 },
 "nbformat": 4,
 "nbformat_minor": 5
}
