{
 "cells": [
  {
   "cell_type": "markdown",
   "id": "e5b167c1-f47a-422e-a727-8658beba3866",
   "metadata": {},
   "source": [
    "# Depth-First-Prinzip"
   ]
  },
  {
   "cell_type": "markdown",
   "id": "dae531cc-9cdb-4efd-88ef-6d690e8f49ce",
   "metadata": {},
   "source": [
    "Die erste Regel der MRO ist das Depth-First-Prinzip. Das bedeutet, dass Python zuerst in der Tiefe sucht, bevor es andere \"Zweige\" der Klassenhierarchie untersucht.\n",
    "\n",
    "Python durchsucht die MRO in dieser Reihenfolge:\n",
    "\n",
    "1. Zuerst wird die Klasse selbst durchsucht.\n",
    "2. Dann wird rekursiv die erste direkte Superklasse und deren eigenen Superklassen durchsucht, bevor andere direkte Superklassen betrachtet werden. Dies wird als Suche in die \"Tiefe\" (Depth) bezeichnet.\n",
    "3. Nachdem alle Superklassen eines \"Zweiges\" durchsucht wurden, wird die nächste direkte Superklasse in der Klassendefinition betrachtet. Dieser Prozess setzt sich fort, bis alle direkten Superklassen und deren Superklassen durchsucht wurden."
   ]
  },
  {
   "cell_type": "markdown",
   "id": "6a9fc62d-9a78-4c0a-a6bb-659c1833b4c3",
   "metadata": {},
   "source": [
    "Depth-First-Prinzip: "
   ]
  },
  {
   "cell_type": "markdown",
   "id": "a9217332-19f6-4813-9bb1-be80405aecc8",
   "metadata": {},
   "source": [
    "```python\n",
    "            Alpha\n",
    "          /   |   \\\n",
    "      Beta  Gamma  Epsilon\n",
    "        |     |      |\n",
    "      Delta  Zeta   Eta\n",
    "        \\    /\n",
    "        Theta\n",
    "\n",
    "\n",
    "        6. Alpha\n",
    "      /     |     \\\n",
    "3. Beta  5. Gamma  Epsilon\n",
    "    |       |        |\n",
    "2. Delta  4. Zeta   Eta\n",
    "     \\     /\n",
    "     1. Theta\n",
    "```"
   ]
  },
  {
   "cell_type": "markdown",
   "id": "c98c493c-d09f-4b6a-8b97-1570f5950075",
   "metadata": {},
   "source": [
    "```python\n",
    "            Alpha\n",
    "          /       \\\n",
    "        Beta       Epsilon\n",
    "       /    \\      |\n",
    "    Delta  Zeta   Eta\n",
    "       \\    |    /\n",
    "          Theta\n",
    "\n",
    "\n",
    "        6. Alpha\n",
    "      /     |     \\\n",
    "3. Beta  5. Gamma  Epsilon\n",
    "    |       |        |\n",
    "2. Delta  4. Zeta   Eta\n",
    "     \\     /\n",
    "     1. Theta\n",
    "```"
   ]
  },
  {
   "cell_type": "code",
   "execution_count": 36,
   "id": "d2308c0b-4b61-42be-88e8-946988538ced",
   "metadata": {},
   "outputs": [],
   "source": [
    "class Alpha:\n",
    "    pass\n",
    "\n",
    "class Beta(Alpha):\n",
    "    pass\n",
    "\n",
    "class Gamma(Alpha):\n",
    "    pass\n",
    "\n",
    "class Epsilon(Alpha):\n",
    "    pass\n",
    "\n",
    "class Delta(Beta):\n",
    "    pass\n",
    "\n",
    "class Zeta(Gamma):\n",
    "    pass\n",
    "\n",
    "class Eta(Epsilon):\n",
    "    pass\n",
    "\n",
    "class Theta(Delta, Zeta):\n",
    "    pass\n",
    "\n",
    "# Demonstration der MRO\n",
    "# print(Theta.mro())\n",
    "Liste = (Theta.mro())  # Ausgabe: [Theta, Delta, Beta, Zeta, Gamma, Alpha, object]"
   ]
  },
  {
   "cell_type": "code",
   "execution_count": 34,
   "id": "f9d37275-c758-43ec-af18-85bc8519af09",
   "metadata": {},
   "outputs": [
    {
     "name": "stdout",
     "output_type": "stream",
     "text": [
      "Theta Delta Beta Zeta Gamma Alpha object\n"
     ]
    }
   ],
   "source": [
    "Slice = Liste[0:-1]\n",
    "for elem in Slice:\n",
    "    # print(str(elem))\n",
    "    print(str(elem).split(\".\")[1].split(\"'\")[0], end = \" \")\n",
    "print(\"object\")"
   ]
  },
  {
   "cell_type": "markdown",
   "id": "57d3cfc6-7e19-4117-9fbe-bf13a2e5c72a",
   "metadata": {},
   "source": [
    "Die ersten zehn Buchstaben des griechischen Alphabets und ihre deutsche Schreibweise:\n",
    "\n",
    "1. Α - Alpha\n",
    "2. Β - Beta\n",
    "3. Γ - Gamma\n",
    "4. Δ - Delta\n",
    "5. Ε - Epsilon\n",
    "6. Ζ - Zeta\n",
    "7. Η - Eta\n",
    "8. Θ - Theta\n",
    "9. Ι - Iota\n",
    "10. Κ - Kappa"
   ]
  }
 ],
 "metadata": {
  "kernelspec": {
   "display_name": "Python 3 (ipykernel)",
   "language": "python",
   "name": "python3"
  },
  "language_info": {
   "codemirror_mode": {
    "name": "ipython",
    "version": 3
   },
   "file_extension": ".py",
   "mimetype": "text/x-python",
   "name": "python",
   "nbconvert_exporter": "python",
   "pygments_lexer": "ipython3",
   "version": "3.12.4"
  }
 },
 "nbformat": 4,
 "nbformat_minor": 5
}
