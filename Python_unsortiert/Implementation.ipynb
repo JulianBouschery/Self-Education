{
 "cells": [
  {
   "cell_type": "markdown",
   "id": "b349c7b2-8700-4db5-860c-1e5baaa2e0f3",
   "metadata": {},
   "source": [
    "# Implementierung"
   ]
  },
  {
   "cell_type": "markdown",
   "id": "651daf1e-b018-4129-9be7-82df3e76a823",
   "metadata": {},
   "source": [
    "Das Wort \"Implementierung\" stammt vom lateinischen Wort \"implere\" ab, das \"füllen\" oder \"erfüllen\" bedeutet. Es hat sich über das englische \"implement\" in die deutsche Sprache entwickelt.\n",
    "\n",
    "Hier eine kurze Aufschlüsselung:\n",
    "\n",
    "- **Lateinisch**: \"implere\" bedeutet \"füllen\" oder \"erfüllen\".\n",
    "- **Englisch**: \"implement\" bedeutet \"ausführen\" oder \"durchführen\". Im Kontext der Programmierung bedeutet es, einen Plan oder eine Spezifikation in die Praxis umzusetzen.\n",
    "- **Deutsch**: \"Implementierung\" bedeutet die Ausführung oder Umsetzung eines Plans oder einer Spezifikation in konkreten, funktionsfähigen Code.\n",
    "\n",
    "Im Kontext der Softwareentwicklung bezeichnet Implementierung daher den Prozess, bei dem ein Konzept oder ein Design in tatsächlichen Programmcode umgewandelt wird."
   ]
  },
  {
   "cell_type": "markdown",
   "id": "b5abc8dd-af46-404a-b1bc-3029d574e189",
   "metadata": {},
   "source": [
    "**Implementierung** ist der Prozess des Schreibens von Code, um eine bestimmte Funktionalität oder ein bestimmtes Verhalten gemäß den definierten Anforderungen und Spezifikationen zu realisieren. Es ist der Schritt, bei dem abstrakte Konzepte und Designs in konkreten, ausführbaren Code umgewandelt werden."
   ]
  },
  {
   "cell_type": "markdown",
   "id": "aec43b49-8744-41ba-98ac-9a5b8d004de8",
   "metadata": {},
   "source": [
    "Beispiel:"
   ]
  },
  {
   "cell_type": "markdown",
   "id": "18d215d1-0982-4c58-a113-5f1c60b8cba1",
   "metadata": {},
   "source": [
    "1. **Abstrakte Definition**: Eine Klasse oder Funktion wird definiert, aber nicht im Detail ausgeführt."
   ]
  },
  {
   "cell_type": "markdown",
   "id": "ceab3575-0082-414c-b77b-b1b4816451f3",
   "metadata": {},
   "source": [
    "   ```python\n",
    "   class Animal:\n",
    "       def make_sound(self):\n",
    "           pass  # Abstrakte Methode\n",
    "   ```"
   ]
  },
  {
   "cell_type": "markdown",
   "id": "463e81f6-662c-464f-8e7d-3988c05b1f19",
   "metadata": {},
   "source": [
    "2. **Implementierung**: Die abstrakte Methode wird in einer abgeleiteten Klasse konkretisiert."
   ]
  },
  {
   "cell_type": "markdown",
   "id": "62c0b068-7035-4489-9cfc-48f7ef3399e3",
   "metadata": {},
   "source": [
    "   ```python\n",
    "   class Dog(Animal):\n",
    "       def make_sound(self):\n",
    "           return \"Woof!\"  # Implementierung der Methode\n",
    "\n",
    "   class Cat(Animal):\n",
    "       def make_sound(self):\n",
    "           return \"Meow!\"  # Implementierung der Methode\n",
    "   ```\n",
    "\n",
    "Hier wird die abstrakte Methode `make_sound()` in den Klassen `Dog` und `Cat` implementiert, indem der spezifische Code bereitgestellt wird, der das Verhalten dieser Methode definiert."
   ]
  },
  {
   "cell_type": "code",
   "execution_count": null,
   "id": "d631481b-c91d-48ff-91b1-c95a670b5edb",
   "metadata": {},
   "outputs": [],
   "source": []
  }
 ],
 "metadata": {
  "kernelspec": {
   "display_name": "Python 3 (ipykernel)",
   "language": "python",
   "name": "python3"
  },
  "language_info": {
   "codemirror_mode": {
    "name": "ipython",
    "version": 3
   },
   "file_extension": ".py",
   "mimetype": "text/x-python",
   "name": "python",
   "nbconvert_exporter": "python",
   "pygments_lexer": "ipython3",
   "version": "3.12.4"
  }
 },
 "nbformat": 4,
 "nbformat_minor": 5
}
