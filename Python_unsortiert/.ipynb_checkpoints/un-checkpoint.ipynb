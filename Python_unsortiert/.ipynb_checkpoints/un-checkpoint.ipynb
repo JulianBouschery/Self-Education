{
 "cells": [
  {
   "cell_type": "markdown",
   "id": "e9575739-9114-4a96-abbc-6e604746cab2",
   "metadata": {},
   "source": [
    "# Unübersichtliche Übersicht"
   ]
  },
  {
   "cell_type": "markdown",
   "id": "14d07856-4a31-4581-8cb5-0d5af3058dcb",
   "metadata": {},
   "source": [
    "Natürlich von ChatGPT..."
   ]
  },
  {
   "cell_type": "markdown",
   "id": "0787caf0-874c-4b8e-b22e-c5e314e245f4",
   "metadata": {},
   "source": [
    "Hier ist eine Liste der eingebauten Funktionen und Methoden in Python, nach Datentypen sortiert, einschließlich der grundlegenden Funktionen und Methoden aus dem `math` Modul."
   ]
  },
  {
   "cell_type": "markdown",
   "id": "90bd4012-cab5-4766-8322-fdd4d2e885ee",
   "metadata": {},
   "source": [
    "### Allgemeine eingebaute Funktionen"
   ]
  },
  {
   "cell_type": "markdown",
   "id": "031d0c56-1d58-43b6-805a-fde6f5cbba72",
   "metadata": {},
   "source": [
    "Diese Funktionen können auf verschiedene Datentypen angewendet werden."
   ]
  },
  {
   "cell_type": "markdown",
   "id": "4a84a657-bcd0-4cad-813b-4e13b35b97d0",
   "metadata": {},
   "source": [
    "- `abs()`\n",
    "- `all()`\n",
    "- `any()`\n",
    "- `ascii()`\n",
    "- `bin()`\n",
    "- `bool()` check\n",
    "- `bytearray()`\n",
    "- `bytes()`\n",
    "- `callable()`\n",
    "- `chr()` check\n",
    "- `classmethod()`\n",
    "- `compile()`\n",
    "- `complex()`\n",
    "- `delattr()`\n",
    "- `dict()` check\n",
    "- `dir()` check\n",
    "- `divmod()`\n",
    "- `enumerate()` check\n",
    "- `eval()`\n",
    "- `exec()`\n",
    "- `filter()` check\n",
    "- `float()` check\n",
    "- `format()`\n",
    "- `frozenset()`\n",
    "- `getattr()`\n",
    "- `globals()` check\n",
    "- `hasattr()`\n",
    "- `hash()`\n",
    "- `help()`\n",
    "- `hex()`\n",
    "- `id()` check\n",
    "- `input()` check \n",
    "- `int()` check\n",
    "- `isinstance()` check\n",
    "- `issubclass()` check\n",
    "- `iter()` \n",
    "- `len()`\n",
    "- `list()`\n",
    "- `locals()`\n",
    "- `map()`\n",
    "- `max()`\n",
    "- `memoryview()`\n",
    "- `min()`\n",
    "- `next()`\n",
    "- `object()`\n",
    "- `oct()`\n",
    "- `open()`\n",
    "- `ord()`\n",
    "- `pow()`\n",
    "- `print()`\n",
    "- `property()`\n",
    "- `range()`\n",
    "- `repr()`\n",
    "- `reversed()`\n",
    "- `round()`\n",
    "- `set()`\n",
    "- `setattr()`\n",
    "- `slice()`\n",
    "- `sorted()`\n",
    "- `staticmethod()`\n",
    "- `str()`\n",
    "- `sum()`\n",
    "- `super()`\n",
    "- `tuple()`\n",
    "- `type()`\n",
    "- `vars()`\n",
    "- `zip()`"
   ]
  },
  {
   "cell_type": "markdown",
   "id": "fa641153-cf78-4c93-be5f-2b0e4146024c",
   "metadata": {},
   "source": [
    "### String-Methoden"
   ]
  },
  {
   "cell_type": "markdown",
   "id": "d054618a-348d-4dc0-8881-3d4efea0dd04",
   "metadata": {},
   "source": [
    "Methoden, die speziell für Strings (`str`) verwendet werden."
   ]
  },
  {
   "cell_type": "markdown",
   "id": "739019e1-1672-45da-a8e5-a0f60f728d5d",
   "metadata": {},
   "source": [
    "- `capitalize()`\n",
    "- `casefold()`\n",
    "- `center()`\n",
    "- `count()`\n",
    "- `encode()`\n",
    "- `endswith()`\n",
    "- `expandtabs()`\n",
    "- `find()`\n",
    "- `format()`\n",
    "- `format_map()`\n",
    "- `index()`\n",
    "- `isalnum()`\n",
    "- `isalpha()`\n",
    "- `isascii()`\n",
    "- `isdecimal()`\n",
    "- `isdigit()`\n",
    "- `isidentifier()`\n",
    "- `islower()`\n",
    "- `isnumeric()`\n",
    "- `isprintable()`\n",
    "- `isspace()`\n",
    "- `istitle()`\n",
    "- `isupper()`\n",
    "- `join()`\n",
    "- `ljust()`\n",
    "- `lower()`\n",
    "- `lstrip()`\n",
    "- `maketrans()`\n",
    "- `partition()`\n",
    "- `replace()`\n",
    "- `rfind()`\n",
    "- `rindex()`\n",
    "- `rjust()`\n",
    "- `rpartition()`\n",
    "- `rsplit()`\n",
    "- `rstrip()`\n",
    "- `split()`\n",
    "- `splitlines()`\n",
    "- `startswith()`\n",
    "- `strip()`\n",
    "- `swapcase()`\n",
    "- `title()`\n",
    "- `translate()`\n",
    "- `upper()`\n",
    "- `zfill()`"
   ]
  },
  {
   "cell_type": "markdown",
   "id": "5395b591-bfcd-4958-893a-e841af86bb78",
   "metadata": {},
   "source": [
    "### Listen-Methoden"
   ]
  },
  {
   "cell_type": "markdown",
   "id": "1b724c90-095a-4073-b7aa-66e310567573",
   "metadata": {},
   "source": [
    "Methoden, die speziell für Listen (`list`) verwendet werden."
   ]
  },
  {
   "cell_type": "markdown",
   "id": "cd0bb552-7fe5-4f45-90d5-ea65202e86b5",
   "metadata": {},
   "source": [
    "- `append()`\n",
    "- `clear()`\n",
    "- `copy()`\n",
    "- `count()`\n",
    "- `extend()`\n",
    "- `index()`\n",
    "- `insert()`\n",
    "- `pop()`\n",
    "- `remove()`\n",
    "- `reverse()`\n",
    "- `sort()`"
   ]
  },
  {
   "cell_type": "markdown",
   "id": "0b358831-9001-4f73-b771-fa70f5bbaeef",
   "metadata": {},
   "source": [
    "### Dictionary-Methoden"
   ]
  },
  {
   "cell_type": "markdown",
   "id": "b77c6751-73db-4968-86bf-d9e7377a18f3",
   "metadata": {},
   "source": [
    "Methoden, die speziell für Dictionaries (`dict`) verwendet werden."
   ]
  },
  {
   "cell_type": "markdown",
   "id": "63965bb6-393e-43b6-8803-432e1de2d903",
   "metadata": {},
   "source": [
    "- `clear()`\n",
    "- `copy()`\n",
    "- `fromkeys()`\n",
    "- `get()`\n",
    "- `items()`\n",
    "- `keys()`\n",
    "- `pop()`\n",
    "- `popitem()`\n",
    "- `setdefault()`\n",
    "- `update()`\n",
    "- `values()`"
   ]
  },
  {
   "cell_type": "markdown",
   "id": "2fed81d5-f4e2-4473-ae52-651d892f3f02",
   "metadata": {},
   "source": [
    "### Set-Methoden"
   ]
  },
  {
   "cell_type": "markdown",
   "id": "0dbd0cae-a258-4ffc-ab3c-a8086f114357",
   "metadata": {},
   "source": [
    "Methoden, die speziell für Sets (`set` und `frozenset`) verwendet werden."
   ]
  },
  {
   "cell_type": "markdown",
   "id": "c0bb44dd-0b9c-4bdb-a501-3ec2c8b12059",
   "metadata": {},
   "source": [
    "- `add()`\n",
    "- `clear()`\n",
    "- `copy()`\n",
    "- `difference()`\n",
    "- `difference_update()`\n",
    "- `discard()`\n",
    "- `intersection()`\n",
    "- `intersection_update()`\n",
    "- `isdisjoint()`\n",
    "- `issubset()`\n",
    "- `issuperset()`\n",
    "- `pop()`\n",
    "- `remove()`\n",
    "- `symmetric_difference()`\n",
    "- `symmetric_difference_update()`\n",
    "- `union()`\n",
    "- `update()`\n",
    "\n",
    "### Tuple-Methoden\n",
    "\n",
    "Methoden, die speziell für Tuples (`tuple`) verwendet werden.\n",
    "\n",
    "- `count()`\n",
    "- `index()`\n",
    "\n",
    "### Eingebaute Funktionen für den Datentyp `math`\n",
    "\n",
    "Funktionen, die im `math` Modul definiert sind.\n",
    "\n",
    "- `math.acos()`\n",
    "- `math.acosh()`\n",
    "- `math.asin()`\n",
    "- `math.asinh()`\n",
    "- `math.atan()`\n",
    "- `math.atan2()`\n",
    "- `math.atanh()`\n",
    "- `math.ceil()`\n",
    "- `math.comb()`\n",
    "- `math.copysign()`\n",
    "- `math.cos()`\n",
    "- `math.cosh()`\n",
    "- `math.degrees()`\n",
    "- `math.dist()`\n",
    "- `math.erf()`\n",
    "- `math.erfc()`\n",
    "- `math.exp()`\n",
    "- `math.expm1()`\n",
    "- `math.fabs()`\n",
    "- `math.factorial()`\n",
    "- `math.floor()`\n",
    "- `math.fmod()`\n",
    "- `math.frexp()`\n",
    "- `math.fsum()`\n",
    "- `math.gamma()`\n",
    "- `math.gcd()`\n",
    "- `math.hypot()`\n",
    "- `math.isclose()`\n",
    "- `math.isfinite()`\n",
    "- `math.isinf()`\n",
    "- `math.isnan()`\n",
    "- `math.isqrt()`\n",
    "- `math.ldexp()`\n",
    "- `math.lgamma()`\n",
    "- `math.log()`\n",
    "- `math.log10()`\n",
    "- `math.log1p()`\n",
    "- `math.log2()`\n",
    "- `math.perm()`\n",
    "- `math.pow()`\n",
    "- `math.prod()`\n",
    "- `math.radians()`\n",
    "- `math.remainder()`\n",
    "- `math.sin()`\n",
    "- `math.sinh()`\n",
    "- `math.sqrt()`\n",
    "- `math.tan()`\n",
    "- `math.tanh()`\n",
    "- `math.trunc()`\n",
    "\n",
    "Das ist eine umfassende Liste der eingebauten Funktionen und Methoden in Python, sowie der wichtigsten Funktionen des `math` Moduls, sortiert nach den relevanten Datentypen."
   ]
  },
  {
   "cell_type": "code",
   "execution_count": null,
   "id": "b2e2ef7c-1924-40f8-9b25-d0a398a0e462",
   "metadata": {},
   "outputs": [],
   "source": []
  }
 ],
 "metadata": {
  "kernelspec": {
   "display_name": "Python 3 (ipykernel)",
   "language": "python",
   "name": "python3"
  },
  "language_info": {
   "codemirror_mode": {
    "name": "ipython",
    "version": 3
   },
   "file_extension": ".py",
   "mimetype": "text/x-python",
   "name": "python",
   "nbconvert_exporter": "python",
   "pygments_lexer": "ipython3",
   "version": "3.12.4"
  }
 },
 "nbformat": 4,
 "nbformat_minor": 5
}
