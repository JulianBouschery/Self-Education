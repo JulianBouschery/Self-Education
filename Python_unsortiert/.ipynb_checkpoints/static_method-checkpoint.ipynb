{
 "cells": [
  {
   "cell_type": "markdown",
   "id": "e5f9ec95-d12b-46b9-9300-b870359a7d1a",
   "metadata": {},
   "source": [
    "# Statische Methoden"
   ]
  },
  {
   "cell_type": "code",
   "execution_count": 1,
   "id": "1917ce01-8c31-4687-a6e4-32ce2d054388",
   "metadata": {},
   "outputs": [],
   "source": [
    "class Bank_Account:\n",
    "    def __init__(self, iban):\n",
    "        print('__init__ called')\n",
    "        self.iban = iban\n",
    "            \n",
    "    @staticmethod\n",
    "    def validate(iban):\n",
    "        if len(iban) == 20:\n",
    "            return True\n",
    "        else:\n",
    "            return False\n"
   ]
  },
  {
   "cell_type": "code",
   "execution_count": 2,
   "id": "aada5632-68b5-43d2-a55f-03e1ae268e2f",
   "metadata": {},
   "outputs": [
    {
     "name": "stdout",
     "output_type": "stream",
     "text": [
      "We can use 88888888888888888888  to create a bank account\n",
      "The account number 7777 is invalid\n",
      "The account number 2222 is invalid\n"
     ]
    }
   ],
   "source": [
    "class Bank_Account:\n",
    "    def __init__(self, iban):\n",
    "        print('__init__ called')\n",
    "        self.iban = iban\n",
    "            \n",
    "    @staticmethod\n",
    "    def validate(iban):\n",
    "        if len(iban) == 20:\n",
    "            return True\n",
    "        else:\n",
    "            return False\n",
    "\n",
    "\n",
    "account_numbers = ['8' * 20, '7' * 4, '2222']\n",
    "\n",
    "for element in account_numbers:\n",
    "    if Bank_Account.validate(element):\n",
    "        print('We can use', element, ' to create a bank account')\n",
    "    else:\n",
    "        print('The account number', element, 'is invalid')\n"
   ]
  },
  {
   "cell_type": "code",
   "execution_count": null,
   "id": "652f9c20-5658-4689-9f81-228818bb0864",
   "metadata": {},
   "outputs": [],
   "source": []
  }
 ],
 "metadata": {
  "kernelspec": {
   "display_name": "Python 3 (ipykernel)",
   "language": "python",
   "name": "python3"
  },
  "language_info": {
   "codemirror_mode": {
    "name": "ipython",
    "version": 3
   },
   "file_extension": ".py",
   "mimetype": "text/x-python",
   "name": "python",
   "nbconvert_exporter": "python",
   "pygments_lexer": "ipython3",
   "version": "3.12.4"
  }
 },
 "nbformat": 4,
 "nbformat_minor": 5
}
