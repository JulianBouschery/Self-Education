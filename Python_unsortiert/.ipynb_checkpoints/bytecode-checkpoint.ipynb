{
 "cells": [
  {
   "cell_type": "markdown",
   "id": "deff97d7-9b2c-4d83-8da8-23f74f14fd8d",
   "metadata": {},
   "source": [
    "# Bytecode"
   ]
  },
  {
   "cell_type": "markdown",
   "id": "2c1bf6b2-bbd8-4c12-a1a1-4fba04deb1a9",
   "metadata": {},
   "source": [
    "Python-Bytecode ist eine vom Interpreter kompilierte Zwischenrepräsentation des Quellcodes, die eine schnellere Ausführung durch die Python Virtual Machine ermöglicht. Er dient als Brücke zwischen Python und Maschinencode und wird in `__pycache__`-Dateien (`.pyc`) gespeichert."
   ]
  },
  {
   "cell_type": "markdown",
   "id": "a82542d4-6461-4bf1-990b-ffe267a020ba",
   "metadata": {
    "jp-MarkdownHeadingCollapsed": true
   },
   "source": [
    "### Was ist Python-Bytecode?"
   ]
  },
  {
   "cell_type": "markdown",
   "id": "32aab3ae-d54d-4a58-80ab-dd15a3e985f9",
   "metadata": {},
   "source": [
    "1. **Zwischenrepräsentation**:\n",
    "   - Python-Bytecode ist eine zwischengeschaltete Repräsentation des Python-Quellcodes, die von der Python-Interpreter-Implementierung ausgeführt wird. \n",
    "   - Es ist eine Art von Maschinenunabhängigem Code, der nicht direkt von der CPU, sondern von einer virtuellen Maschine (PVM - Python Virtual Machine) ausgeführt wird.\n",
    "\n",
    "2. **Komplilation**:\n",
    "   - Wenn ein Python-Skript ausgeführt wird, kompiliert der Python-Interpreter den Quellcode (.py Dateien) zuerst in Bytecode (.pyc Dateien), der in einem `__pycache__` Verzeichnis gespeichert wird.\n",
    "   - Dieser Bytecode wird dann von der Python Virtual Machine (PVM) interpretiert und ausgeführt.\n",
    "\n",
    "3. **Portabilität**:\n",
    "   - Bytecode ist plattformunabhängig und kann auf jeder Plattform ausgeführt werden, die eine kompatible Python-Implementierung hat."
   ]
  },
  {
   "cell_type": "markdown",
   "id": "c7c70244-5545-4c7b-aa70-c273717a0f7a",
   "metadata": {
    "jp-MarkdownHeadingCollapsed": true
   },
   "source": [
    "### Vorteile des Bytecodes"
   ]
  },
  {
   "cell_type": "markdown",
   "id": "0d91f9d7-6504-4aac-910e-bac6160619df",
   "metadata": {},
   "source": [
    "1. **Schnellere Ausführung**:\n",
    "   - Da der Bytecode kompiliert und nicht interpretiert wird, kann er schneller ausgeführt werden.\n",
    "   - Bytecode muss nicht jedes Mal neu kompiliert werden, was die Startzeit der Skripte reduziert.\n",
    "\n",
    "2. **Plattformunabhängigkeit**:\n",
    "   - Der gleiche Bytecode kann auf verschiedenen Betriebssystemen ausgeführt werden, solange die PVM verfügbar ist."
   ]
  },
  {
   "cell_type": "markdown",
   "id": "b8a2b5de-cadf-4136-9f86-489f24603e9c",
   "metadata": {
    "jp-MarkdownHeadingCollapsed": true
   },
   "source": [
    "### Beispiele und Details"
   ]
  },
  {
   "cell_type": "markdown",
   "id": "2812bfc3-2a25-4a60-a8bd-84c1f644ce4c",
   "metadata": {},
   "source": [
    "#### Kompilierung eines Python-Skripts"
   ]
  },
  {
   "cell_type": "markdown",
   "id": "b305d837-5540-445b-b1ff-5aef079f2c7f",
   "metadata": {},
   "source": [
    "Wenn du ein Python-Skript ausführst, geschieht Folgendes:\n",
    "1. Der Python-Interpreter liest den Quellcode.\n",
    "2. Der Quellcode wird in Bytecode kompiliert.\n",
    "3. Der Bytecode wird von der PVM ausgeführt."
   ]
  },
  {
   "cell_type": "markdown",
   "id": "9a8fb11e-f580-4bf5-b312-34b75a6b85e6",
   "metadata": {},
   "source": [
    "#### Beispiel"
   ]
  },
  {
   "cell_type": "markdown",
   "id": "ced2fc96-a6bc-4d96-a58e-de0119b13092",
   "metadata": {},
   "source": [
    "```python\n",
    "# Beispielskript: beispiel.py\n",
    "def hallo_welt():\n",
    "    print(\"Hallo, Welt!\")\n",
    "\n",
    "hallo_welt()\n",
    "```\n",
    "\n",
    "Beim ersten Ausführen dieses Skripts erstellt der Python-Interpreter eine Bytecode-Datei im `__pycache__` Verzeichnis:\n",
    "\n",
    "```sh\n",
    "$ python beispiel.py\n",
    "Hallo, Welt!\n",
    "```\n",
    "\n",
    "Im Verzeichnis `__pycache__` findest du eine Datei mit einem Namen wie `beispiel.cpython-310.pyc`, die den Bytecode enthält (abhängig von der Python-Version)."
   ]
  },
  {
   "cell_type": "markdown",
   "id": "5754714b-adf2-4d0d-9b0e-cee249f0b20b",
   "metadata": {},
   "source": [
    "#### Verwendung von `dis` Modul"
   ]
  },
  {
   "cell_type": "markdown",
   "id": "f9e493ee-36a0-4dc4-915e-44940d62a34d",
   "metadata": {},
   "source": [
    "Das `dis` Modul kann verwendet werden, um den Bytecode eines Python-Skripts zu disassemblieren und anzuzeigen.\n",
    "\n",
    "```python\n",
    "import dis\n",
    "\n",
    "def hallo_welt():\n",
    "    print(\"Hallo, Welt!\")\n",
    "\n",
    "dis.dis(hallo_welt)\n",
    "```\n",
    "\n",
    "Ausgabe:\n",
    "\n",
    "```\n",
    "  2           0 LOAD_GLOBAL              0 (print)\n",
    "              2 LOAD_CONST               1 ('Hallo, Welt!')\n",
    "              4 CALL_FUNCTION            1\n",
    "              6 RETURN_VALUE\n",
    "```"
   ]
  },
  {
   "cell_type": "markdown",
   "id": "db9a4a56-3681-4b39-b9f0-465f205e62bb",
   "metadata": {
    "jp-MarkdownHeadingCollapsed": true
   },
   "source": [
    "### Zusammenfassung"
   ]
  },
  {
   "cell_type": "markdown",
   "id": "28c84dd4-df64-478c-9a10-d07653093db0",
   "metadata": {},
   "source": [
    "- **Bytecode**: Eine zwischengeschaltete Repräsentation des Python-Quellcodes, die von der PVM ausgeführt wird.\n",
    "- **Vorteile**: Schnellere Ausführung und Plattformunabhängigkeit.\n",
    "- **Kompilierung**: Der Python-Interpreter kompiliert den Quellcode in Bytecode, der dann von der PVM interpretiert und ausgeführt wird.\n",
    "- **Tools**: Das `dis` Modul kann verwendet werden, um Bytecode zu analysieren.\n",
    "\n",
    "Python-Bytecode verbessert die Effizienz und Portabilität von Python-Programmen, indem er eine Zwischenschicht zwischen dem hochgradig abstrahierten Quellcode und der eigentlichen maschinennahen Ausführung bereitstellt."
   ]
  },
  {
   "cell_type": "code",
   "execution_count": null,
   "id": "ac16b4f3-86fc-46d2-9f6e-32d174730cb1",
   "metadata": {},
   "outputs": [],
   "source": []
  }
 ],
 "metadata": {
  "kernelspec": {
   "display_name": "Python 3 (ipykernel)",
   "language": "python",
   "name": "python3"
  },
  "language_info": {
   "codemirror_mode": {
    "name": "ipython",
    "version": 3
   },
   "file_extension": ".py",
   "mimetype": "text/x-python",
   "name": "python",
   "nbconvert_exporter": "python",
   "pygments_lexer": "ipython3",
   "version": "3.12.4"
  }
 },
 "nbformat": 4,
 "nbformat_minor": 5
}
