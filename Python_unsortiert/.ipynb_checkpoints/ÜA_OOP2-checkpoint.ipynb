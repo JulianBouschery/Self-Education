{
 "cells": [
  {
   "cell_type": "markdown",
   "id": "7db27a87-f75a-4faa-a562-c9a04b092120",
   "metadata": {},
   "source": [
    "# Übungsaufgaben zu OOP"
   ]
  },
  {
   "cell_type": "markdown",
   "id": "c70c1917-b1f7-4de5-b3b9-6e987971fdaa",
   "metadata": {
    "jp-MarkdownHeadingCollapsed": true
   },
   "source": [
    "### Aufgabe 1"
   ]
  },
  {
   "cell_type": "markdown",
   "id": "5e60f8aa-dabc-4653-b9c3-9fcc51a609c6",
   "metadata": {},
   "source": [
    "Antwortmöglichkeiten:"
   ]
  },
  {
   "cell_type": "code",
   "execution_count": 10,
   "id": "54fa8c3b-141d-4190-af79-e8fac49705f7",
   "metadata": {},
   "outputs": [
    {
     "name": "stdout",
     "output_type": "stream",
     "text": [
      "True\n"
     ]
    }
   ],
   "source": [
    "class Tin:\n",
    "    label = \"Soup\"\n",
    "\n",
    "    def __init__(self, prefix):\n",
    "        self.name = prefix + \" \" + Tin.label\n",
    "\n",
    "can_1 = Tin(\"Tomato\")\n",
    "can_2 = Tin(\"Chicken\")\n",
    "print(can_1.label == can_2.label)"
   ]
  },
  {
   "cell_type": "markdown",
   "id": "51242560-16b5-4d7c-87d2-9e3798ade924",
   "metadata": {},
   "source": [
    "Antwortmöglichkeiten:"
   ]
  },
  {
   "cell_type": "markdown",
   "id": "8db2c2de-f5cd-4ca2-97e0-a4cda0fbc8ba",
   "metadata": {},
   "source": [
    "1. True # Richtig\n",
    "2. False\n",
    "3. Error # Meine Antwort\n",
    "4. None"
   ]
  },
  {
   "cell_type": "markdown",
   "id": "ed4e740b-7337-4492-aaed-5476b258c01d",
   "metadata": {},
   "source": [
    "#### Analyse:"
   ]
  },
  {
   "cell_type": "code",
   "execution_count": 18,
   "id": "a310c41b-7e70-4b60-9087-88f902d71110",
   "metadata": {},
   "outputs": [
    {
     "name": "stdout",
     "output_type": "stream",
     "text": [
      "Tomato Soup\n",
      "Chicken Soup\n",
      "Soup\n",
      "Soup\n",
      "True\n"
     ]
    }
   ],
   "source": [
    "class Tin: # 2. Classe gibt das Argument an ihre __init__ weiter\n",
    "    label = \"Soup\"\n",
    "\n",
    "    def __init__(self, prefix): # __init__ baut eine INSTANZ der Klasse \"Tin\" und verwendet dabei das übergebene Argument\n",
    "        self.name = prefix + \" \" + Tin.label # Output1: \"Tomato Soup\" Output2: \"Chicken Soup\"\n",
    "        # Nur damit wir sehen was passiert\n",
    "        print(self.name)\n",
    "\n",
    "can_1 = Tin(\"Tomato\") # 1. Aufruf der Funktion mit einem Argument\n",
    "can_2 = Tin(\"Chicken\")\n",
    "\n",
    "# Nur damit wir sehen was passiert\n",
    "print(can_1.label)\n",
    "print(can_2.label)\n",
    "\n",
    "print(can_1.label == can_2.label) # Die Klassenvariable wird AUF die Instanz der Klasse \"Tin\" aufgerufen\n"
   ]
  },
  {
   "cell_type": "markdown",
   "id": "5a6d490c-c4f2-423a-8957-a54f8a4fc5b6",
   "metadata": {},
   "source": [
    "Im Prinzip soll der ganze Blödsinn mit der Suppe nur von einer einzigen Frage ablenken. Kann jede Instanz einer Klasse auf Klassenvariablen ihrer Klasse zugreifen? Die Antwort ist: JA"
   ]
  },
  {
   "cell_type": "markdown",
   "id": "1891ad9f-762e-4160-8fe2-bcfdc1c03dec",
   "metadata": {},
   "source": [
    "[Code im Pythontutor](https://pythontutor.com/render.html#code=class%20Tin%3A%0A%20%20%20%20label%20%3D%20%22Soup%22%0A%0A%20%20%20%20def%20__init__%28self,%20prefix%29%3A%0A%20%20%20%20%20%20%20%20self.name%20%3D%20prefix%20%2B%20%22%20%22%20%2B%20Tin.label%0A%0Acan_1%20%3D%20Tin%28%22Tomato%22%29%0Acan_2%20%3D%20Tin%28%22Chicken%22%29%0Aprint%28can_1.label%20%3D%3D%20can_2.label%29&cumulative=false&curInstr=0&heapPrimitives=nevernest&mode=display&origin=opt-frontend.js&py=3&rawInputLstJSON=%5B%5D&textReferences=false)"
   ]
  },
  {
   "cell_type": "markdown",
   "id": "7939774c-c8fb-4b3c-930d-54748622c7c6",
   "metadata": {
    "jp-MarkdownHeadingCollapsed": true
   },
   "source": [
    "### Aufgabe 2"
   ]
  },
  {
   "cell_type": "code",
   "execution_count": null,
   "id": "7079de1a-a06a-49ec-9729-81adcb9ec909",
   "metadata": {},
   "outputs": [],
   "source": [
    "class Package:\n",
    "    spam = \"\"\n",
    "\n",
    "    def __init__(self, content):\n",
    "        Package.spam += content + \";\"\n",
    "\n",
    "envelope_1 = Package(\"Capacitors\")\n",
    "envelope_2 = Package(\"Transistors\")\n",
    "print(envelope_2.spam)"
   ]
  },
  {
   "cell_type": "markdown",
   "id": "f4a13854-528c-4a10-9eaa-68c8e524e9e2",
   "metadata": {},
   "source": [
    "Antwortmöglichkeiten:"
   ]
  },
  {
   "cell_type": "markdown",
   "id": "eaae3a2e-77d4-4028-9f3a-32626a4a014e",
   "metadata": {},
   "source": [
    "1. Transistors\n",
    "2. Error\n",
    "3. Capacitors\n",
    "4. Capacitors;Transistors"
   ]
  },
  {
   "cell_type": "markdown",
   "id": "3ba0d153-9a58-41d9-baf4-03f26e23cd77",
   "metadata": {},
   "source": [
    "#### Analyse"
   ]
  },
  {
   "cell_type": "code",
   "execution_count": 7,
   "id": "9f72e95b-5b2c-449d-aadd-8899be0021ba",
   "metadata": {},
   "outputs": [
    {
     "name": "stdout",
     "output_type": "stream",
     "text": [
      "Capacitors;Transistors;\n"
     ]
    }
   ],
   "source": [
    "class Package: # 2. Klasse gibt das Argument an ihre __init__ weiter\n",
    "    spam = \"\"\n",
    "\n",
    "    def __init__(self, content): # 3. Statt zu versuchen eine Instanz der Klasse Package zu bauen versucht die Funkton\n",
    "        Package.spam += content + \";\" # die Klassenvariable \"spam\" durch Zuweisung und Konkationation zu verändern...\n",
    "\n",
    "envelope_1 = Package(\"Capacitors\") # 1. Classe Package wird mit dem Argument \"Capacitors\" aufgerufen\n",
    "envelope_2 = Package(\"Transistors\") # 4. Das wird zwei mal gemacht.\n",
    "print(envelope_2.spam) # 5. Dann versucht man die Klassenvariable \"spam\" AUF der Instanz envelope_2 aufzurufen "
   ]
  },
  {
   "cell_type": "markdown",
   "id": "1ab81d28-454f-4cff-aeee-3b086a1aacb6",
   "metadata": {},
   "source": [
    "Nun, die beiden Instanzen `envelope_1` und `envelope_2` sind beides Instanzen der Klasse Package und BEIDE haben Zugriff auf die Klassenvariable `spam`."
   ]
  },
  {
   "cell_type": "markdown",
   "id": "a5bd2b93-8576-4cb6-bcc7-d1b53797f137",
   "metadata": {},
   "source": [
    "[Code im Pythontutor](https://pythontutor.com/render.html#code=class%20Package%3A%0A%20%20%20%20spam%20%3D%20%22%22%0A%0A%20%20%20%20def%20__init__%28self,%20content%29%3A%0A%20%20%20%20%20%20%20%20Package.spam%20%2B%3D%20content%20%2B%20%22%3B%22%0A%0Aenvelope_1%20%3D%20Package%28%22Capacitors%22%29%0Aenvelope_2%20%3D%20Package%28%22Transistors%22%29%0Aprint%28envelope_2.spam%29&cumulative=false&curInstr=0&heapPrimitives=nevernest&mode=display&origin=opt-frontend.js&py=3&rawInputLstJSON=%5B%5D&textReferences=false)"
   ]
  },
  {
   "cell_type": "markdown",
   "id": "a511958c-6d6b-4ba8-8fbf-73803bf066fd",
   "metadata": {},
   "source": [
    "Nun, ich glaube was mir persönlcih die meisten Schwierigkeiten bereitet ist, dass ich noch nicht verinnerlcht habe, wie genau die unterschiedlichen Aspekte von Klassen mitteinander interagieren und aufeinander reagiern."
   ]
  },
  {
   "cell_type": "markdown",
   "id": "66e56080-1b2d-4baa-b34a-f0dcbcf5d38c",
   "metadata": {},
   "source": [
    "Also machen wir ein Paar Notizen."
   ]
  },
  {
   "cell_type": "markdown",
   "id": "4618b6d0-9fcc-4410-b448-5b49b137be17",
   "metadata": {},
   "source": [
    "Die Instanz einer Klasse hat IMMER Zugriff auf die Klassenvariablen ihrer Klasse."
   ]
  },
  {
   "cell_type": "markdown",
   "id": "453231c8-9c35-410a-ad43-2c50008c6c66",
   "metadata": {
    "jp-MarkdownHeadingCollapsed": true
   },
   "source": [
    "### Aufgabe 3"
   ]
  },
  {
   "cell_type": "markdown",
   "id": "35960e63-0c47-46d8-881d-8c87b123a2fa",
   "metadata": {},
   "source": [
    "Siehe auch: [`__dict__`](d__dict__.ipynb) "
   ]
  },
  {
   "cell_type": "markdown",
   "id": "e946d4f9-aba8-406f-8451-b9dd7c42fcd7",
   "metadata": {},
   "source": [
    "Assuming that the following code has been executed successfully, indicate the expressions whisch evaluate to `True` and don't raise any exceptions."
   ]
  },
  {
   "cell_type": "code",
   "execution_count": null,
   "id": "558b99e6-3bda-45bb-b454-fa44633ee736",
   "metadata": {},
   "outputs": [],
   "source": [
    "class Collection:\n",
    "    stamps = 2\n",
    "\n",
    "    def __init__(self, stuff):\n",
    "        self.stuff = stuff\n",
    "\n",
    "    def dispose(self):\n",
    "        del self.stuff\n",
    "\n",
    "binder = Collection(1)\n",
    "binder.dispose()"
   ]
  },
  {
   "cell_type": "markdown",
   "id": "8a15eb1c-32c5-45a4-b2a2-fcdd7d11e8a1",
   "metadata": {},
   "source": [
    "Antwortmöglichkeiten:"
   ]
  },
  {
   "cell_type": "markdown",
   "id": "95dea81e-5afc-41e3-aa41-03b207a89054",
   "metadata": {},
   "source": [
    "1. \"stuff\" in binder.`__dict__`\n",
    "2. len(binder.`__dict__`) != len(Collection.`__dict__`)\n",
    "3. len(binder.`__dict__`) > 0\n",
    "4. \"stamps\" in Collection.`__dict__`"
   ]
  },
  {
   "cell_type": "markdown",
   "id": "2370f993-b1dc-487b-b1d8-be9dbf36c3bc",
   "metadata": {},
   "source": [
    "#### Analyse:"
   ]
  },
  {
   "cell_type": "markdown",
   "id": "a05f4218-1165-436f-8792-c9996fd1aa3b",
   "metadata": {},
   "source": [
    "In dieser Aufgabe geht es nicht mehr darum vorherzusagen was bei dem entsprchenden Code herauskommt, sondern darum zu wissen, welche informationen von der Variable `__dict__` zurückgegeben werden, wenn sie auf ein Objekt aufgerufen werden."
   ]
  },
  {
   "cell_type": "code",
   "execution_count": 24,
   "id": "bc8645bb-8421-448e-afc7-d5be468ae389",
   "metadata": {},
   "outputs": [],
   "source": [
    "class Collection: # 2. Die Klasse gibt das Argument an ihre __init__ weiter\n",
    "    stamps = 2\n",
    "\n",
    "    def __init__(self, stuff): # 3. Die __init__ sieht normal aus und erstellt eine Instanz der Klasse Collection\n",
    "        self.stuff = stuff # 4. Diese Instanz wird mit der Instanzvariable self.stuff = 1 befüllt\n",
    "\n",
    "    def dispose(self): # Die dispose Methode löscht die soeben erstellte Instanzvariable aus der Instanz der Klasse Collection\n",
    "        del self.stuff\n",
    "\n",
    "binder = Collection(1) # 1. Die Klasse \"Collection\" wird mit dem Argument \"1\" aufgerufen\n",
    "binder.dispose() # 5. Die dispose Methode wird aufgerufen  "
   ]
  },
  {
   "cell_type": "markdown",
   "id": "0553db5e-b58b-4072-a1f2-2d4a6563e5b0",
   "metadata": {},
   "source": [
    "Jetz muss man noch prüfen, wie der folgende Code evaluiert und bei welchem das Ergebnis `True` ist:"
   ]
  },
  {
   "cell_type": "markdown",
   "id": "2d018a3a-f0a3-403f-ae61-4f2948ccfe39",
   "metadata": {
    "jp-MarkdownHeadingCollapsed": true
   },
   "source": [
    "#### Lösungen:"
   ]
  },
  {
   "cell_type": "markdown",
   "id": "5a07dd3e-5ff9-4e31-a29b-3de3239825ec",
   "metadata": {},
   "source": [
    "##### 1."
   ]
  },
  {
   "cell_type": "code",
   "execution_count": null,
   "id": "dddb8cb0-13c4-4613-8422-1acec1da082b",
   "metadata": {},
   "outputs": [
    {
     "data": {
      "text/plain": [
       "False"
      ]
     },
     "execution_count": 26,
     "metadata": {},
     "output_type": "execute_result"
    }
   ],
   "source": [
    "\"stuff\" in binder.__dict__"
   ]
  },
  {
   "cell_type": "markdown",
   "id": "39440fd8-203a-4dd1-89d7-75d974c5891c",
   "metadata": {},
   "source": [
    "Stuff ist nur ein Parameter, der als Platzhalter für Argumente dient. Er existiert nicht wirklich. --> False"
   ]
  },
  {
   "cell_type": "markdown",
   "id": "36a432fa-e221-4bef-a1fd-041ad3e97f72",
   "metadata": {},
   "source": [
    "##### 2. "
   ]
  },
  {
   "cell_type": "code",
   "execution_count": 29,
   "id": "22643a97-a1ef-4525-b489-273a8ad38c24",
   "metadata": {},
   "outputs": [
    {
     "data": {
      "text/plain": [
       "True"
      ]
     },
     "execution_count": 29,
     "metadata": {},
     "output_type": "execute_result"
    }
   ],
   "source": [
    "len(binder.__dict__) != len(Collection.__dict__)"
   ]
  },
  {
   "cell_type": "markdown",
   "id": "6d4109f0-c4ec-442d-9a21-04c8efabdbe2",
   "metadata": {},
   "source": [
    "len(Collection) wird 6 sein und len(binder) ist 0, da es leer ist. Ich Schätze, dass nicht wirklich erwartet wird zu wissen, welche oder wie viele Attribute genau in Collection.`__dict__` enthalten sind, aber es wird vorrausgestzt, dass man versteht, dass mehr als 0 enthalten sind. --> True"
   ]
  },
  {
   "cell_type": "markdown",
   "id": "382339ba-22fd-44e9-8d87-2b00a7e071a5",
   "metadata": {},
   "source": [
    "##### 3."
   ]
  },
  {
   "cell_type": "code",
   "execution_count": 30,
   "id": "d00989f3-d158-470a-a84b-72413f33e220",
   "metadata": {},
   "outputs": [
    {
     "data": {
      "text/plain": [
       "False"
      ]
     },
     "execution_count": 30,
     "metadata": {},
     "output_type": "execute_result"
    }
   ],
   "source": [
    "len(binder.__dict__) > 0 "
   ]
  },
  {
   "cell_type": "markdown",
   "id": "062ed8f2-d9bf-4e9e-8516-6819cb3b3af9",
   "metadata": {},
   "source": [
    "Ein leeres Dictionary müsste False ergeben. False > 0 --> False, da 0 == 0"
   ]
  },
  {
   "cell_type": "markdown",
   "id": "d0f13e4e-7c92-4908-a5ed-2ec5709c6155",
   "metadata": {},
   "source": [
    "##### 4."
   ]
  },
  {
   "cell_type": "code",
   "execution_count": null,
   "id": "25a03ca0-ba0f-4cec-97c6-b3d4785d180e",
   "metadata": {},
   "outputs": [],
   "source": [
    "\"stamps\" in Collection.`__dict__`"
   ]
  },
  {
   "cell_type": "markdown",
   "id": "e52d7b47-7c4e-4ea9-90f8-eda5e9b14ab6",
   "metadata": {},
   "source": [
    "Ja, Klassenvariablen sind im Namespace der Klasse enthalten --> True "
   ]
  },
  {
   "cell_type": "markdown",
   "id": "2e62ad90-556d-4455-8297-eb9152b5d7ba",
   "metadata": {
    "jp-MarkdownHeadingCollapsed": true
   },
   "source": [
    "### Aufgabe 4."
   ]
  },
  {
   "cell_type": "code",
   "execution_count": null,
   "id": "8af2da67-573d-4f4b-984c-8d1d021c41fb",
   "metadata": {},
   "outputs": [],
   "source": [
    "class Storage:\n",
    "    def __init__(self):\n",
    "        self.rack = 1\n",
    "\n",
    "    # Insert a method here.\n",
    "\n",
    "stuff = Storage()\n",
    "print(stuff.get())"
   ]
  },
  {
   "cell_type": "markdown",
   "id": "1f9777ff-0159-40bc-a450-bf297cf037fc",
   "metadata": {},
   "source": [
    "Antwortmöglichkeiten:"
   ]
  },
  {
   "cell_type": "code",
   "execution_count": null,
   "id": "8c6d10c0-9304-4e99-b3f0-5aaddf10ac81",
   "metadata": {},
   "outputs": [],
   "source": [
    "# 1.\n",
    "def get():\n",
    "    return self.rack"
   ]
  },
  {
   "cell_type": "code",
   "execution_count": null,
   "id": "2ad4d287-f7ba-49bf-9eb1-abb0249e18e9",
   "metadata": {},
   "outputs": [],
   "source": [
    "# 2.\n",
    "def get(self):\n",
    "    return rack"
   ]
  },
  {
   "cell_type": "code",
   "execution_count": null,
   "id": "e0316a6b-f0b9-4209-9052-9acf5c867911",
   "metadata": {},
   "outputs": [],
   "source": [
    "# 3. \n",
    "def get():\n",
    "    return rack"
   ]
  },
  {
   "cell_type": "code",
   "execution_count": null,
   "id": "23ef17b2-997a-4b6c-85ce-01eb80436f24",
   "metadata": {},
   "outputs": [],
   "source": [
    "# 4.\n",
    "def get(self):\n",
    "    return self.rack"
   ]
  },
  {
   "cell_type": "markdown",
   "id": "f2151ddd-7b46-4823-ae54-f90967c99763",
   "metadata": {
    "jp-MarkdownHeadingCollapsed": true
   },
   "source": [
    "#### Analyse:"
   ]
  },
  {
   "cell_type": "markdown",
   "id": "dadf647c-350f-4482-a26b-be17db0ae74d",
   "metadata": {},
   "source": [
    "Uhhh, das ist eine nette Aufgabe. Hier muss man sowohl wissen, was genau `get()` als auch wie genau die Positionierung von `self` und `rack` erfolgen muss..."
   ]
  },
  {
   "cell_type": "markdown",
   "id": "e78b3010-fbce-4c50-980b-16aea8a22bb2",
   "metadata": {},
   "source": [
    "##### 1."
   ]
  },
  {
   "cell_type": "code",
   "execution_count": 36,
   "id": "927fbe6b-94b6-4dd7-8873-c72c137134b2",
   "metadata": {},
   "outputs": [
    {
     "ename": "TypeError",
     "evalue": "Storage.get() takes 0 positional arguments but 1 was given",
     "output_type": "error",
     "traceback": [
      "\u001b[1;31m---------------------------------------------------------------------------\u001b[0m",
      "\u001b[1;31mTypeError\u001b[0m                                 Traceback (most recent call last)",
      "Cell \u001b[1;32mIn[36], line 9\u001b[0m\n\u001b[0;32m      6\u001b[0m         \u001b[38;5;28;01mreturn\u001b[39;00m \u001b[38;5;28mself\u001b[39m\u001b[38;5;241m.\u001b[39mrack \u001b[38;5;66;03m# 6. \u001b[39;00m\n\u001b[0;32m      8\u001b[0m stuff \u001b[38;5;241m=\u001b[39m Storage() \u001b[38;5;66;03m# 1. Die Klasse Storage wird ohne Argument aufgerufen\u001b[39;00m\n\u001b[1;32m----> 9\u001b[0m \u001b[38;5;28mprint\u001b[39m(\u001b[43mstuff\u001b[49m\u001b[38;5;241;43m.\u001b[39;49m\u001b[43mget\u001b[49m\u001b[43m(\u001b[49m\u001b[43m)\u001b[49m) \u001b[38;5;66;03m# 5. Die Methode get() wird aufgerufen.\u001b[39;00m\n",
      "\u001b[1;31mTypeError\u001b[0m: Storage.get() takes 0 positional arguments but 1 was given"
     ]
    }
   ],
   "source": [
    "class Storage: # 2. Die Klasse initialisiert ihre __init__-Methode\n",
    "    def __init__(self): # 3. Die __init__-Methode erstellt eine Instanz der Storage Klasse \n",
    "        self.rack = 1 # 4. Die Instanz wird mit der hart gecodeten Instanzvariable self.rack = 1 befüllt.\n",
    "\n",
    "    def get():\n",
    "        return self.rack # 6. \n",
    "\n",
    "stuff = Storage() # 1. Die Klasse Storage wird ohne Argument aufgerufen\n",
    "print(stuff.get()) # 5. Die Methode get() wird aufgerufen."
   ]
  },
  {
   "cell_type": "markdown",
   "id": "8090c08c-38d6-433a-8383-50e9a0f212b4",
   "metadata": {},
   "source": [
    "Die Frage, die sich an Postition 6. stellt, ist: \n",
    "Kann die get()-Methode auf die Instanz der Klasse Storage zugreifen, ohne das sie selbst über `self` verfügt?\n",
    "Theoretisch müsste es klappen, da self.rack eingerückt in der Klasse ist und somit den weg finden dürfte. \n",
    "So lange keine Unterschiedlichen Namespaces zwischen den Methoden rum zicken könnte es klappen."
   ]
  },
  {
   "cell_type": "markdown",
   "id": "8f40f70e-1f0d-4597-b46d-69453353c2c8",
   "metadata": {},
   "source": [
    "Ach, aber natürlich, wenn man über die Klasse aufruft wird `self` NICHT automatisch übertragen. Man BRAUCHT `self`."
   ]
  },
  {
   "cell_type": "markdown",
   "id": "33c9ec55-47db-43dd-8de5-157acabf6bbd",
   "metadata": {},
   "source": [
    "##### 4."
   ]
  },
  {
   "cell_type": "code",
   "execution_count": 37,
   "id": "724e62bc-98a3-4fd0-ad52-f541ab0f67ee",
   "metadata": {},
   "outputs": [
    {
     "name": "stdout",
     "output_type": "stream",
     "text": [
      "1\n"
     ]
    }
   ],
   "source": [
    "class Storage: # 2. Die Klasse initialisiert ihre __init__-Methode\n",
    "    def __init__(self): # 3. Die __init__-Methode erstellt eine Instanz der Storage Klasse \n",
    "        self.rack = 1 # 4. Die Instanz wird mit der hart gecodeten Instanzvariable self.rack = 1 befüllt.\n",
    "\n",
    "    def get(self):\n",
    "        return self.rack # 6. \n",
    "\n",
    "stuff = Storage() # 1. Die Klasse Storage wird ohne Argument aufgerufen\n",
    "print(stuff.get()) # 5. Die Methode get() wird aufgerufen."
   ]
  },
  {
   "cell_type": "markdown",
   "id": "185912b2-e4cc-4124-afb4-878070612c5c",
   "metadata": {},
   "source": [
    "Nachdem ich mir 1. angeschaut hab sieht 4. für mich am vielversprechensten aus."
   ]
  },
  {
   "cell_type": "markdown",
   "id": "e458c81a-5e1b-4099-8ecb-2be5b88b12c7",
   "metadata": {},
   "source": [
    "2. und 3. sind aus Prinzip raus, weil man so keine Instanzvariablen aufruft. Es fehlt der Verweiß auf die INSTANZ."
   ]
  },
  {
   "cell_type": "markdown",
   "id": "0be72da0-0844-4c28-8f9f-0a6eee835db7",
   "metadata": {
    "jp-MarkdownHeadingCollapsed": true
   },
   "source": [
    "### Aufgabe 5."
   ]
  },
  {
   "cell_type": "code",
   "execution_count": null,
   "id": "8412d46e-5efe-45bb-ad65-ad0de5972b5f",
   "metadata": {},
   "outputs": [],
   "source": [
    "class Storage:\n",
    "    def __init__(self):\n",
    "        self.rack = 1\n",
    "\n",
    "    def get(self):\n",
    "        return self.rack\n",
    "\n",
    "    def print(self):\n",
    "        # Insert a line of code\n",
    "\n",
    "stuff = Storage()\n",
    "print(stuff.print())"
   ]
  },
  {
   "cell_type": "markdown",
   "id": "dfa9c7a6-adf3-4932-91b8-dd765eac4824",
   "metadata": {},
   "source": [
    "Antwortmöglichkeiten:"
   ]
  },
  {
   "cell_type": "code",
   "execution_count": null,
   "id": "734ae11d-7dec-4565-a92d-f31c1583b2e0",
   "metadata": {},
   "outputs": [],
   "source": [
    "# 1. \n",
    "print(Storage.get())"
   ]
  },
  {
   "cell_type": "code",
   "execution_count": null,
   "id": "860d0d04-9424-4b5f-ab70-4a4e47585c04",
   "metadata": {},
   "outputs": [],
   "source": [
    "# 2. \n",
    "print(Storage.get(self))"
   ]
  },
  {
   "cell_type": "code",
   "execution_count": null,
   "id": "50443b92-c00a-4815-b8b9-b305cdce229d",
   "metadata": {},
   "outputs": [],
   "source": [
    "# 3. \n",
    "print(self.get())"
   ]
  },
  {
   "cell_type": "code",
   "execution_count": null,
   "id": "3cb4598c-cbdf-4022-8126-86f8f1032955",
   "metadata": {},
   "outputs": [],
   "source": [
    "# 4. \n",
    "print(get())"
   ]
  },
  {
   "cell_type": "markdown",
   "id": "2ae4309b-8c51-4bf2-930b-9aab65cfeda7",
   "metadata": {
    "jp-MarkdownHeadingCollapsed": true
   },
   "source": [
    "#### Analyse"
   ]
  },
  {
   "cell_type": "markdown",
   "id": "de254576-f067-4ee9-9935-701021cad23a",
   "metadata": {},
   "source": [
    "1. fällt schon mal raus, weil man für den erfolgreichen Aufruf einer Methode auf einer Klasse `self` händisch übergeben muss."
   ]
  },
  {
   "cell_type": "markdown",
   "id": "f5dc4916-e120-4322-a512-669b4f1d8c73",
   "metadata": {},
   "source": [
    "Vermutlich 2. und 3. aber bei 3 bin ich mir nicht sicher. Mal schauen."
   ]
  },
  {
   "cell_type": "markdown",
   "id": "95e09934-97ec-41fb-8007-d78374d15d83",
   "metadata": {},
   "source": [
    "##### 2."
   ]
  },
  {
   "cell_type": "code",
   "execution_count": 3,
   "id": "0ea7e26b-defa-4ac6-ab96-4662b139edfd",
   "metadata": {},
   "outputs": [
    {
     "name": "stdout",
     "output_type": "stream",
     "text": [
      "1\n",
      "None\n"
     ]
    }
   ],
   "source": [
    "class Storage: # 2. Die Klasse initiallisiert ihre __init__-Methode\n",
    "    def __init__(self): # 3. Es wird eine Instanz erstellt\n",
    "        self.rack = 1 # 4. Die Instanz wird befüllt\n",
    "\n",
    "    def get(self):\n",
    "        return self.rack\n",
    "\n",
    "    def print(self): # self wird in den Code \"Storage.get(self)\" übertragen wodurch die get()-Methode\n",
    "        print(Storage.get(self)) # aufgerufen und \"1\" gedruckt wird\n",
    "\n",
    "stuff = Storage() # 1. Die Klasse Storage wird aufgerufen\n",
    "print(stuff.print()) # 5. Die print()-Methode wird aufgerufen "
   ]
  },
  {
   "cell_type": "markdown",
   "id": "3314b94e-99a4-4f1a-83e8-d4355a6850b3",
   "metadata": {},
   "source": [
    "##### 3."
   ]
  },
  {
   "cell_type": "code",
   "execution_count": 46,
   "id": "879f71a2-bec5-4621-b500-99ee44d4e935",
   "metadata": {},
   "outputs": [
    {
     "name": "stdout",
     "output_type": "stream",
     "text": [
      "1\n",
      "None\n"
     ]
    }
   ],
   "source": [
    "class Storage: # 2. Die Klasse initiallisiert ihre __init__-Methode\n",
    "    def __init__(self): # 3. Es wird eine Instanz erstellt\n",
    "        self.rack = 1 # 4. Die Instanz wird befüllt\n",
    "\n",
    "    def get(self):\n",
    "        return self.rack\n",
    "\n",
    "    def print(self): # self wird in den Code \"(self.get)\" übertragen wodurch die get()-Methode\n",
    "        print(self.get()) # aufgerufen und \"1\" gedruckt wird\n",
    "\n",
    "stuff = Storage() # 1. Die Klasse Storage wird aufgerufen\n",
    "print(stuff.print()) # 5. Die print()-Methode wird aufgerufen "
   ]
  },
  {
   "cell_type": "markdown",
   "id": "1b7a5fa5-17ef-4e76-a66a-5628eb1fa7e4",
   "metadata": {},
   "source": [
    "Sicherheitshalber 1. und 4."
   ]
  },
  {
   "cell_type": "markdown",
   "id": "8e6629e9-5d5b-488b-8276-fc6f365c8ca3",
   "metadata": {},
   "source": [
    "##### 1."
   ]
  },
  {
   "cell_type": "code",
   "execution_count": 43,
   "id": "b53e5d83-047b-44fb-9e82-33ae38ab0cc5",
   "metadata": {},
   "outputs": [
    {
     "ename": "TypeError",
     "evalue": "Storage.get() missing 1 required positional argument: 'self'",
     "output_type": "error",
     "traceback": [
      "\u001b[1;31m---------------------------------------------------------------------------\u001b[0m",
      "\u001b[1;31mTypeError\u001b[0m                                 Traceback (most recent call last)",
      "Cell \u001b[1;32mIn[43], line 13\u001b[0m\n\u001b[0;32m     10\u001b[0m                              \u001b[38;5;66;03m# Es kommt zu einem Fehler\u001b[39;00m\n\u001b[0;32m     12\u001b[0m stuff \u001b[38;5;241m=\u001b[39m Storage() \u001b[38;5;66;03m# 1. Die Klasse Storage wird aufgerufen\u001b[39;00m\n\u001b[1;32m---> 13\u001b[0m \u001b[38;5;28mprint\u001b[39m(\u001b[43mstuff\u001b[49m\u001b[38;5;241;43m.\u001b[39;49m\u001b[43mprint\u001b[49m\u001b[43m(\u001b[49m\u001b[43m)\u001b[49m) \u001b[38;5;66;03m# 5. Die print()-Methode wird aufgerufen \u001b[39;00m\n",
      "Cell \u001b[1;32mIn[43], line 9\u001b[0m, in \u001b[0;36mStorage.print\u001b[1;34m(self)\u001b[0m\n\u001b[0;32m      8\u001b[0m \u001b[38;5;28;01mdef\u001b[39;00m \u001b[38;5;21mprint\u001b[39m(\u001b[38;5;28mself\u001b[39m): \n\u001b[1;32m----> 9\u001b[0m     \u001b[38;5;28mprint\u001b[39m(\u001b[43mStorage\u001b[49m\u001b[38;5;241;43m.\u001b[39;49m\u001b[43mget\u001b[49m\u001b[43m(\u001b[49m\u001b[43m)\u001b[49m)\n",
      "\u001b[1;31mTypeError\u001b[0m: Storage.get() missing 1 required positional argument: 'self'"
     ]
    }
   ],
   "source": [
    "class Storage: # 2. Die Klasse initiallisiert ihre __init__-Methode\n",
    "    def __init__(self): # 3. Es wird eine Instanz erstellt\n",
    "        self.rack = 1 # 4. Die Instanz wird befüllt\n",
    "\n",
    "    def get(self):\n",
    "        return self.rack\n",
    "\n",
    "    def print(self): \n",
    "        print(Storage.get()) # Wenn man eine Methode auf einer Klasse aufruft muss \"self\" manuel übergeben werden.\n",
    "                             # Es kommt zu einem Fehler\n",
    "\n",
    "stuff = Storage() # 1. Die Klasse Storage wird aufgerufen\n",
    "print(stuff.print()) # 5. Die print()-Methode wird aufgerufen "
   ]
  },
  {
   "cell_type": "markdown",
   "id": "4465aaac-ac58-48f3-8dea-a81e12eaf3b1",
   "metadata": {},
   "source": [
    "Wie ich vermutet habe."
   ]
  },
  {
   "cell_type": "markdown",
   "id": "511404fa-5f1e-4280-94ea-fc7993d4e2dd",
   "metadata": {},
   "source": [
    "##### 4."
   ]
  },
  {
   "cell_type": "code",
   "execution_count": 45,
   "id": "ca28323f-6192-4b23-a010-61ec9ff7f23b",
   "metadata": {},
   "outputs": [
    {
     "ename": "NameError",
     "evalue": "name 'get' is not defined",
     "output_type": "error",
     "traceback": [
      "\u001b[1;31m---------------------------------------------------------------------------\u001b[0m",
      "\u001b[1;31mNameError\u001b[0m                                 Traceback (most recent call last)",
      "Cell \u001b[1;32mIn[45], line 12\u001b[0m\n\u001b[0;32m      9\u001b[0m         \u001b[38;5;28mprint\u001b[39m(get()) \u001b[38;5;66;03m# Ohne jegliche Dot Notation, die den Bezug zu Klasse herstellt wird \"get()\" nicht als legaler Code erkannt\u001b[39;00m\n\u001b[0;32m     11\u001b[0m stuff \u001b[38;5;241m=\u001b[39m Storage() \u001b[38;5;66;03m# 1. Die Klasse Storage wird aufgerufen\u001b[39;00m\n\u001b[1;32m---> 12\u001b[0m \u001b[38;5;28mprint\u001b[39m(\u001b[43mstuff\u001b[49m\u001b[38;5;241;43m.\u001b[39;49m\u001b[43mprint\u001b[49m\u001b[43m(\u001b[49m\u001b[43m)\u001b[49m) \u001b[38;5;66;03m# 5. Die print()-Methode wird aufgerufen \u001b[39;00m\n",
      "Cell \u001b[1;32mIn[45], line 9\u001b[0m, in \u001b[0;36mStorage.print\u001b[1;34m(self)\u001b[0m\n\u001b[0;32m      8\u001b[0m \u001b[38;5;28;01mdef\u001b[39;00m \u001b[38;5;21mprint\u001b[39m(\u001b[38;5;28mself\u001b[39m): \n\u001b[1;32m----> 9\u001b[0m     \u001b[38;5;28mprint\u001b[39m(\u001b[43mget\u001b[49m())\n",
      "\u001b[1;31mNameError\u001b[0m: name 'get' is not defined"
     ]
    }
   ],
   "source": [
    "class Storage: # 2. Die Klasse initiallisiert ihre __init__-Methode\n",
    "    def __init__(self): # 3. Es wird eine Instanz erstellt\n",
    "        self.rack = 1 # 4. Die Instanz wird befüllt\n",
    "\n",
    "    def get(self):\n",
    "        return self.rack\n",
    "\n",
    "    def print(self): \n",
    "        print(get()) # Ohne jegliche Dot Notation, die den Bezug zu Klasse herstellt wird \"get()\" nicht als legaler Code erkannt\n",
    "        \n",
    "stuff = Storage() # 1. Die Klasse Storage wird aufgerufen\n",
    "print(stuff.print()) # 5. Die print()-Methode wird aufgerufen "
   ]
  },
  {
   "cell_type": "markdown",
   "id": "c8c7af5f-5265-43d2-883a-c46d8d7c74af",
   "metadata": {},
   "source": [
    "Bei 4. weiß `get()` ja garnicht, was es den überhaupt holen soll, oder wo er hingehört... Diese Aufgabe lässt sich also schon über das Ausschlussprinzip lösen."
   ]
  },
  {
   "cell_type": "markdown",
   "id": "b7fdee5f-3bc3-4be4-a516-4b6e0e548770",
   "metadata": {},
   "source": [
    "### Aufgabe 6."
   ]
  },
  {
   "cell_type": "markdown",
   "id": "642dc1f2-393a-4694-acd9-c573efe642f7",
   "metadata": {},
   "source": [
    "Given Code below, indicate the code lines which correctly increment the __element variable by one."
   ]
  },
  {
   "cell_type": "code",
   "execution_count": 6,
   "id": "6b60f26e-4983-4e75-a590-f3bb4a825b27",
   "metadata": {},
   "outputs": [],
   "source": [
    "class BluePrint:\n",
    "    __element = 1\n",
    "\n",
    "    def __init(self):\n",
    "        self.component = 1\n",
    "\n",
    "    def __action(self):\n",
    "        pass\n",
    "\n",
    "product = BluePrint()"
   ]
  },
  {
   "cell_type": "markdown",
   "id": "ce01d433-b93a-4603-aea2-cfb78715b859",
   "metadata": {},
   "source": [
    "Antwortmöglichkeiten:"
   ]
  },
  {
   "cell_type": "code",
   "execution_count": 13,
   "id": "4c240226-144a-493d-b644-09d2fdc84dbe",
   "metadata": {},
   "outputs": [],
   "source": [
    "# 1.\n",
    "BluePrint._BluePrint__element += 1"
   ]
  },
  {
   "cell_type": "code",
   "execution_count": null,
   "id": "343cf4e6-93b6-4823-86df-773bb1d0fa8d",
   "metadata": {},
   "outputs": [],
   "source": [
    "# 2. \n",
    "_product__element += 1"
   ]
  },
  {
   "cell_type": "code",
   "execution_count": null,
   "id": "8ad734a8-057d-4e90-a6a1-f517d13d0018",
   "metadata": {},
   "outputs": [],
   "source": [
    "# 3.\n",
    "BluePrint.element += 1"
   ]
  },
  {
   "cell_type": "code",
   "execution_count": 16,
   "id": "3893f1cc-336b-4385-adef-57fbc659baa6",
   "metadata": {},
   "outputs": [],
   "source": [
    "# 4. \n",
    "product._BluePrint__element += 1"
   ]
  },
  {
   "cell_type": "code",
   "execution_count": null,
   "id": "eea49b64-6f2d-4992-924a-80cf7518c6c3",
   "metadata": {},
   "outputs": [],
   "source": [
    "BluePrint._BluePrint__element += 1\n",
    "_product__element += 1\n",
    "BluePrint.element += 1\n",
    "product._BluePrint__element += 1"
   ]
  },
  {
   "cell_type": "markdown",
   "id": "12008682-7e79-4fe4-b0d3-1fdfecd39ced",
   "metadata": {
    "jp-MarkdownHeadingCollapsed": true
   },
   "source": [
    "#### Lösung:"
   ]
  },
  {
   "cell_type": "markdown",
   "id": "8b08ee61-991d-4d34-96a6-039c5fe1139b",
   "metadata": {},
   "source": [
    "Siehe auch: [Name Mangling](Name_mangling.ipynb)"
   ]
  },
  {
   "cell_type": "markdown",
   "id": "72715be0-3057-4501-99b3-78c53b3b2ad2",
   "metadata": {},
   "source": [
    "2. und 3. sind von vornherein raus, weil der Name falsch ist."
   ]
  },
  {
   "cell_type": "markdown",
   "id": "84fbe8cb-5899-4ead-bb7a-2ac7cf6302d9",
   "metadata": {},
   "source": [
    "#### 1."
   ]
  },
  {
   "cell_type": "code",
   "execution_count": 18,
   "id": "7aa0a91b-fec9-4a7e-ae06-36ae5f7d7704",
   "metadata": {},
   "outputs": [
    {
     "name": "stdout",
     "output_type": "stream",
     "text": [
      "2\n"
     ]
    }
   ],
   "source": [
    "class BluePrint:\n",
    "    __element = 1\n",
    "\n",
    "    def __init(self):\n",
    "        self.component = 1\n",
    "\n",
    "    def __action(self):\n",
    "        pass\n",
    "\n",
    "product = BluePrint()\n",
    "BluePrint._BluePrint__element += 1\n",
    "print(BluePrint._BluePrint__element)"
   ]
  },
  {
   "cell_type": "markdown",
   "id": "8f220cce-8350-41fc-a960-aa35884577d5",
   "metadata": {},
   "source": [
    "[Code im Pythontutor](https://pythontutor.com/render.html#code=class%20BluePrint%3A%0A%20%20%20%20__element%20%3D%201%0A%0A%20%20%20%20def%20__init%28self%29%3A%0A%20%20%20%20%20%20%20%20self.component%20%3D%201%0A%0A%20%20%20%20def%20__action%28self%29%3A%0A%20%20%20%20%20%20%20%20pass%0A%0Aproduct%20%3D%20BluePrint%28%29%0ABluePrint._BluePrint__element%20%2B%3D%201%0Aprint%28BluePrint._BluePrint__element%29&cumulative=false&curInstr=0&heapPrimitives=nevernest&mode=display&origin=opt-frontend.js&py=3&rawInputLstJSON=%5B%5D&textReferences=false) auch, wenn es ziemlich unspektakulär ist."
   ]
  },
  {
   "cell_type": "markdown",
   "id": "6e6dd32a-5040-4ea4-8637-28a2cf0cab74",
   "metadata": {},
   "source": [
    "#### 4."
   ]
  },
  {
   "cell_type": "code",
   "execution_count": 19,
   "id": "cb4c041d-b701-418c-b584-bdf9c9879d27",
   "metadata": {},
   "outputs": [
    {
     "name": "stdout",
     "output_type": "stream",
     "text": [
      "1\n"
     ]
    }
   ],
   "source": [
    "class BluePrint:\n",
    "    __element = 1\n",
    "\n",
    "    def __init(self):\n",
    "        self.component = 1\n",
    "\n",
    "    def __action(self):\n",
    "        pass\n",
    "\n",
    "product = BluePrint()\n",
    "product._BluePrint__element += 1\n",
    "print(BluePrint._BluePrint__element)"
   ]
  },
  {
   "cell_type": "markdown",
   "id": "f95ebc3e-bc55-47e7-9105-dc6021ce8bfb",
   "metadata": {},
   "source": [
    "Warum funktioniert das nicht?"
   ]
  },
  {
   "cell_type": "markdown",
   "id": "b10c901f-1501-4b5c-9406-90c84ce286c4",
   "metadata": {},
   "source": [
    "[Code im Pythontutor](https://pythontutor.com/render.html#code=class%20BluePrint%3A%0A%20%20%20%20__element%20%3D%201%0A%0A%20%20%20%20def%20__init%28self%29%3A%0A%20%20%20%20%20%20%20%20self.component%20%3D%201%0A%0A%20%20%20%20def%20__action%28self%29%3A%0A%20%20%20%20%20%20%20%20pass%0A%0Aproduct%20%3D%20BluePrint%28%29%0Aproduct._BluePrint__element%20%2B%3D%201%0Aprint%28BluePrint._BluePrint__element%29&cumulative=false&curInstr=0&heapPrimitives=nevernest&mode=display&origin=opt-frontend.js&py=3&rawInputLstJSON=%5B%5D&textReferences=false)"
   ]
  },
  {
   "cell_type": "markdown",
   "id": "a711b0b7-4372-43a3-b2ff-f7942807d24c",
   "metadata": {},
   "source": [
    "OMG ist das ein MIESER Code!!! Statt die genamemanglte Klassenvariable `_BluePrint__element` zu ändern ERSTELLT die Code Zeile `product._BluePrint__element += 1` eine INSTANZVARIABLE `self._BluePrint__element = 1`!!!"
   ]
  },
  {
   "cell_type": "markdown",
   "id": "e799df1c-9dfe-4232-9fce-520a0d6384f0",
   "metadata": {},
   "source": [
    "Genaue Analyse:"
   ]
  },
  {
   "cell_type": "code",
   "execution_count": 34,
   "id": "2fbb76a9-166b-43c7-8ccb-69846a7b917b",
   "metadata": {},
   "outputs": [
    {
     "name": "stdout",
     "output_type": "stream",
     "text": [
      "1\n",
      "2\n"
     ]
    }
   ],
   "source": [
    "class BluePrint: # 2. Die Klasse erstellt eine Instanz  \n",
    "    __element = 1 \n",
    "\n",
    "    def __init(self): # Die __init hier scheint die __init__ zu überschreiben den es wird keine Instanzvariable\n",
    "        self.component = 1 # self.component erstellt\n",
    "\n",
    "    def __action(self):\n",
    "        pass\n",
    "\n",
    "product = BluePrint() # 1. Die Klasse wird aufgerufen\n",
    "product._BluePrint__element += 1\n",
    "print(BluePrint._BluePrint__element) # Die Klassenvariable\n",
    "print(product._BluePrint__element) # Die Instanzvariable"
   ]
  },
  {
   "cell_type": "markdown",
   "id": "54bc8f55-e5b5-431b-9f4e-f777d368cc4e",
   "metadata": {},
   "source": [
    "```python \n",
    "product._BluePrint__element += 1 # Das ist legaler Code, aber was unter der haube passiert ist folgendes:\n",
    "```\n",
    "`+= 1` heißt ja HOCH zählen. Welcher Wert ist den schon vorher da, bzw wo schaut man ihn nach?\n",
    "Unter der Haube ist `product._BluePrint__element += 1`:\n",
    "\n",
    "`product._BluePrint__element = product._BluePrint__element + 1`\n",
    "\n",
    "Doch wir haben einmal einen **lesenden** und einen **schreibenden** Zugriff.\n",
    "\n",
    "`product._BluePrint__element` schaut ob es eine **Instanzvariable** mit diesem Namen gibt, wenn das nicht der Fall ist schaut sie in der Klasse nach. Das sieht dann etwa so aus: \n",
    "`product.__class__._BluePrint__element` und in der Klasse findet man dann die Klassenvariable = 1.\n",
    "\n",
    "Das evaluiert dann zu: `product._BluePrint__element = 1 + 1`\n",
    "\n",
    "Und so wird eine INSTANZVARIABLE `_BluePrint__element = 2` erstellt"
   ]
  },
  {
   "cell_type": "markdown",
   "id": "1e24e2dc-a93e-4600-a685-cb14ebfba877",
   "metadata": {},
   "source": [
    "[Erklärung Pythontutor](https://pythontutor.com/render.html#code=class%20BluePrint%3A%0A%20%20%20%20__element%20%3D%201%0A%0A%20%20%20%20def%20__init%28self%29%3A%0A%20%20%20%20%20%20%20%20self.component%20%3D%201%0A%0A%20%20%20%20def%20__action%28self%29%3A%0A%20%20%20%20%20%20%20%20pass%0A%0Aproduct%20%3D%20BluePrint%28%29%0Aproduct._BluePrint__element%20%2B%3D%201%0Aprint%28BluePrint._BluePrint__element%29%0Aprint%28product._BluePrint__element%29&cumulative=false&curInstr=0&heapPrimitives=nevernest&mode=display&origin=opt-frontend.js&py=3&rawInputLstJSON=%5B%5D&textReferences=false)"
   ]
  },
  {
   "cell_type": "markdown",
   "id": "79e375cd-f2b8-46f4-b8e7-031e4764fdf0",
   "metadata": {},
   "source": [
    "AUF einer Instanz kann man KEINE Klassenvariablen DIREKT ändern! Das geht nur über eine Methode."
   ]
  },
  {
   "cell_type": "markdown",
   "id": "f7a97f3e-bb26-47fa-8beb-f96eaa9aa8b4",
   "metadata": {},
   "source": [
    "### Aufgabe 7"
   ]
  },
  {
   "cell_type": "code",
   "execution_count": null,
   "id": "beed26c8-420a-4316-8912-b745f6c7de6f",
   "metadata": {},
   "outputs": [],
   "source": [
    "class Ceil:\n",
    "    Token = 1\n",
    "\n",
    "    def get_token(self):\n",
    "        return 1\n",
    "\n",
    "class Floor(Ceil):\n",
    "\n",
    "    def get_token(self):\n",
    "        return 2\n",
    "\n",
    "    def set_token(self):\n",
    "        pass\n",
    "\n",
    "holder = Floor()\n",
    "print(hasattr(holder, \"Token\"), hasattr(Ceil, \"set_token\"))"
   ]
  },
  {
   "cell_type": "markdown",
   "id": "fde027bd-b0c9-48c3-b38b-76ad0c36e934",
   "metadata": {},
   "source": [
    "Antwortmöglichkeiten:"
   ]
  },
  {
   "cell_type": "code",
   "execution_count": null,
   "id": "4a1b3aaa-7bb6-4d34-b620-7c67cb994a0b",
   "metadata": {},
   "outputs": [],
   "source": [
    "# 1.\n",
    "False False"
   ]
  },
  {
   "cell_type": "code",
   "execution_count": null,
   "id": "fdf3c56d-b9c7-414c-9e59-ca33c770c462",
   "metadata": {},
   "outputs": [],
   "source": [
    "# 2. \n",
    "False True"
   ]
  },
  {
   "cell_type": "code",
   "execution_count": null,
   "id": "8553e255-c1f5-4410-8462-4cd463bfc098",
   "metadata": {},
   "outputs": [],
   "source": [
    "# 3. \n",
    "True False"
   ]
  },
  {
   "cell_type": "code",
   "execution_count": null,
   "id": "39f006c2-c95d-484a-a5ec-15da01cca2cf",
   "metadata": {},
   "outputs": [],
   "source": [
    "# 4. \n",
    "True True"
   ]
  },
  {
   "cell_type": "markdown",
   "id": "0062742e-b81a-4aa8-b2f0-594c7359abd6",
   "metadata": {},
   "source": [
    "### Lösung:"
   ]
  },
  {
   "cell_type": "markdown",
   "id": "41087b20-2896-478f-8b72-2d8f87e6ca35",
   "metadata": {},
   "source": [
    "Syntax: \n",
    "\n",
    "`hasattr` `(` `Objekt` `,` `Attribut` `,` `/` `)`\n",
    "\n",
    "`Objekt` = Objekt in dem gesucht wird\n",
    "\n",
    "`Attribut` = gesuchtes Attribut\n",
    "\n",
    "`/` = Trennstrich nach dem Keywordarguments angegeben werden können."
   ]
  },
  {
   "cell_type": "code",
   "execution_count": 25,
   "id": "907c4994-70a0-477e-b931-54ced8e95cb1",
   "metadata": {},
   "outputs": [
    {
     "name": "stdout",
     "output_type": "stream",
     "text": [
      "True False\n"
     ]
    }
   ],
   "source": [
    "class Ceil:\n",
    "    Token = 1\n",
    "\n",
    "    def get_token(self):\n",
    "        return 1\n",
    "\n",
    "class Floor(Ceil):\n",
    "\n",
    "    def get_token(self):\n",
    "        return 2\n",
    "\n",
    "    def set_token(self):\n",
    "        pass\n",
    "\n",
    "holder = Floor()\n",
    "print(hasattr(holder, \"Token\"), hasattr(Ceil, \"set_token\"))"
   ]
  },
  {
   "cell_type": "markdown",
   "id": "4512e4b8-a281-464a-bf10-878f0437f1e7",
   "metadata": {},
   "source": [
    "Es gibt mehrere Orte an den `hasattr` das gegeben Attribut \"Token\" sucht.\n",
    "1. Zuerst im Objekt `holder` selbst. In diesem Fall in der Instanz. \"Token\" keine Instanzvariable.\n",
    "2. Als nächstes wird in der Klasse von `holder` gesucht. `Token` ist weder eine Methode noch eine Klassenvariable der Klasse `Floor`.\n",
    "3. Dann wird in der Superklasse geschaut, wo die Klassenvariable \"Token\" gefunden wird. Wäre das nicht der Fall würde das bis `object` so weiter gehen."
   ]
  },
  {
   "cell_type": "code",
   "execution_count": 26,
   "id": "d61ba6cc-c5fb-4351-98c1-e24b976f6217",
   "metadata": {},
   "outputs": [
    {
     "data": {
      "text/plain": [
       "True"
      ]
     },
     "execution_count": 26,
     "metadata": {},
     "output_type": "execute_result"
    }
   ],
   "source": [
    "hasattr(holder, \"Token\") # --> Enthält die Instanz `holder` das Attribut Token (Klassenvariable) "
   ]
  },
  {
   "cell_type": "markdown",
   "id": "b24c35e3-a39d-4be2-b12b-9140afd199d9",
   "metadata": {},
   "source": [
    "Dann wird geprüft ob die Klasse `Ceil` das gegeben Attribut \"set_token\" hat. Gesucht wird:\n",
    "1. Zuerst im Objekt `Ceil` selbst. In diesem Fall in der Klasse. \"set_token\" keine Klassenvariable und auch keine Methode der Klasse.\n",
    "2. Dann wird in der Superklasse geschaut, was in diesem Fall direkt `object` ist. Aber \"set_token\" wird nicht gefunden."
   ]
  },
  {
   "cell_type": "code",
   "execution_count": 45,
   "id": "47132569-edd5-4233-bbda-1a50a4c74190",
   "metadata": {},
   "outputs": [
    {
     "data": {
      "text/plain": [
       "False"
      ]
     },
     "execution_count": 45,
     "metadata": {},
     "output_type": "execute_result"
    }
   ],
   "source": [
    "hasattr(Ceil, \"set_token\")"
   ]
  },
  {
   "cell_type": "markdown",
   "id": "5c4d9b34-9015-495b-91c3-4d3d65a74302",
   "metadata": {},
   "source": [
    "`hasattr` kann also die `mro` hinauf suchen, aber sie kann nicht nach unten suchen..."
   ]
  },
  {
   "cell_type": "code",
   "execution_count": 30,
   "id": "e27c9ff9-ba2d-4deb-95a6-90ced6cde006",
   "metadata": {},
   "outputs": [
    {
     "data": {
      "text/plain": [
       "mappingproxy({'__module__': '__main__',\n",
       "              'get_token': <function __main__.Floor.get_token(self)>,\n",
       "              'set_token': <function __main__.Floor.set_token(self)>,\n",
       "              '__doc__': None})"
      ]
     },
     "execution_count": 30,
     "metadata": {},
     "output_type": "execute_result"
    }
   ],
   "source": [
    "holder.__class__.__dict__"
   ]
  },
  {
   "cell_type": "code",
   "execution_count": 28,
   "id": "d91d0ef2-7638-4039-81f8-92da5fa7b8be",
   "metadata": {},
   "outputs": [
    {
     "data": {
      "text/plain": [
       "mappingproxy({'__module__': '__main__',\n",
       "              'get_token': <function __main__.Floor.get_token(self)>,\n",
       "              'set_token': <function __main__.Floor.set_token(self)>,\n",
       "              '__doc__': None})"
      ]
     },
     "execution_count": 28,
     "metadata": {},
     "output_type": "execute_result"
    }
   ],
   "source": [
    "Floor.__dict__"
   ]
  },
  {
   "cell_type": "code",
   "execution_count": 48,
   "id": "8d3b57bb-35ff-4982-8d4e-5c633e4a3be0",
   "metadata": {},
   "outputs": [
    {
     "data": {
      "text/plain": [
       "(__main__.Ceil,)"
      ]
     },
     "execution_count": 48,
     "metadata": {},
     "output_type": "execute_result"
    }
   ],
   "source": [
    "Floor.__bases__\n",
    "#.__dict__"
   ]
  },
  {
   "cell_type": "code",
   "execution_count": 47,
   "id": "aaba42b4-3a99-46a0-a9f1-cca19d39fe67",
   "metadata": {},
   "outputs": [
    {
     "data": {
      "text/plain": [
       "mappingproxy({'__module__': '__main__',\n",
       "              'Token': 1,\n",
       "              'get_token': <function __main__.Ceil.get_token(self)>,\n",
       "              '__dict__': <attribute '__dict__' of 'Ceil' objects>,\n",
       "              '__weakref__': <attribute '__weakref__' of 'Ceil' objects>,\n",
       "              '__doc__': None})"
      ]
     },
     "execution_count": 47,
     "metadata": {},
     "output_type": "execute_result"
    }
   ],
   "source": [
    "Ceil.__dict__"
   ]
  },
  {
   "cell_type": "markdown",
   "id": "17e5c6b9-2f82-43b2-875e-967d4994fe4c",
   "metadata": {},
   "source": [
    "Eine Sache würde ich gerne Testen:"
   ]
  },
  {
   "cell_type": "code",
   "execution_count": 37,
   "id": "84d25079-2db2-4159-aabd-cc8c152a75d8",
   "metadata": {},
   "outputs": [
    {
     "name": "stdout",
     "output_type": "stream",
     "text": [
      "False\n"
     ]
    }
   ],
   "source": [
    "class Ceil:\n",
    "    Token = 1\n",
    "\n",
    "    def get_token(self):\n",
    "        return 1\n",
    "\n",
    "class Floor(Ceil):\n",
    "\n",
    "    def get_token(self):\n",
    "        return 2\n",
    "\n",
    "    def set_token(self):\n",
    "        pass\n",
    "\n",
    "class SecondFloor(Ceil):\n",
    "    pass\n",
    "\n",
    "    Token2 = 1\n",
    "\n",
    "holder = Floor()\n",
    "print(hasattr(holder, \"Token2\"))"
   ]
  },
  {
   "cell_type": "code",
   "execution_count": 41,
   "id": "f6451f78-fbf6-48f9-8f5f-40a98776434b",
   "metadata": {},
   "outputs": [
    {
     "data": {
      "text/plain": [
       "[__main__.Floor, __main__.Ceil, object]"
      ]
     },
     "execution_count": 41,
     "metadata": {},
     "output_type": "execute_result"
    }
   ],
   "source": [
    "holder.__class__.mro()"
   ]
  },
  {
   "cell_type": "code",
   "execution_count": 43,
   "id": "ebd0640c-1403-4cfb-a528-fd3f168470b1",
   "metadata": {},
   "outputs": [
    {
     "data": {
      "text/plain": [
       "[int, object]"
      ]
     },
     "execution_count": 43,
     "metadata": {},
     "output_type": "execute_result"
    }
   ],
   "source": [
    "SecondFloor.Token2.__class__.mro()"
   ]
  },
  {
   "cell_type": "markdown",
   "id": "54fbd42e-7650-4de5-8aa4-643575a39041",
   "metadata": {},
   "source": [
    "Das funktioniert nicht so ganz wie es sollte, aber so oder so gilt der Satz oben."
   ]
  },
  {
   "cell_type": "markdown",
   "id": "8ef77c1d-ae3f-4e0d-9a08-7d1ee997a94e",
   "metadata": {},
   "source": [
    "### Aufgabe 8"
   ]
  },
  {
   "cell_type": "code",
   "execution_count": null,
   "id": "e79eaec7-a4a0-4075-ada1-7423380c44ad",
   "metadata": {},
   "outputs": [],
   "source": [
    "class Economy:\n",
    "    def __init__(self):\n",
    "        self.econ_attr = True\n",
    "\n",
    "class Business(Economy):\n",
    "    def __init__(self):\n",
    "        super().__init__()\n",
    "        self.busn_attr = False\n",
    "\n",
    "econ_a = Economy()\n",
    "econ_b = Economy()\n",
    "busn_a = Businsess()\n",
    "busn_b = busn_a\n",
    "\n",
    "print(isinstance(busn_a,Economy) and isinstance(econ_a, Business), end = \" \")\n",
    "print(busn_b is busn_a or econ_ is econ_b)"
   ]
  },
  {
   "cell_type": "markdown",
   "id": "1923e44f-642e-46a7-a664-b6b55a511a89",
   "metadata": {},
   "source": [
    "Antwortmöglichkeiten:"
   ]
  },
  {
   "cell_type": "code",
   "execution_count": null,
   "id": "2e11ed7c-b670-49f5-ba91-4fcc781d8c1f",
   "metadata": {},
   "outputs": [],
   "source": [
    "# 1.\n",
    "False True"
   ]
  },
  {
   "cell_type": "code",
   "execution_count": null,
   "id": "a3c0b36b-ae93-4c50-9cae-a413bc8792b8",
   "metadata": {},
   "outputs": [],
   "source": [
    "# 2.\n",
    "True False"
   ]
  },
  {
   "cell_type": "code",
   "execution_count": null,
   "id": "9f051859-bce6-4ac3-9a10-570f8b4fbf8f",
   "metadata": {},
   "outputs": [],
   "source": [
    "# 3. \n",
    "True True"
   ]
  },
  {
   "cell_type": "code",
   "execution_count": null,
   "id": "f561cff8-2de0-44c0-87fd-d17c6eb72ee7",
   "metadata": {},
   "outputs": [],
   "source": [
    "# 4.\n",
    "False False"
   ]
  },
  {
   "cell_type": "markdown",
   "id": "245697cb-41c9-482d-bf04-efdb013f07b2",
   "metadata": {
    "jp-MarkdownHeadingCollapsed": true
   },
   "source": [
    "#### Lösung:"
   ]
  },
  {
   "cell_type": "code",
   "execution_count": 60,
   "id": "c651dfd4-98d5-4a6f-b762-ad1387e83ab2",
   "metadata": {},
   "outputs": [
    {
     "name": "stdout",
     "output_type": "stream",
     "text": [
      "False True\n"
     ]
    }
   ],
   "source": [
    "class Economy:\n",
    "    def __init__(self):\n",
    "        self.econ_attr = True\n",
    "\n",
    "class Business(Economy):\n",
    "    def __init__(self):\n",
    "        super().__init__()\n",
    "        self.busn_attr = False\n",
    "\n",
    "econ_a = Economy()\n",
    "econ_b = Economy()\n",
    "busn_a = Business()\n",
    "busn_b = busn_a\n",
    "\n",
    "print(isinstance(busn_a,Economy) and isinstance(econ_a, Business), end = \" \") # 1.\n",
    "print(busn_b is busn_a or econ_a is econ_b)                                   # 2. "
   ]
  },
  {
   "cell_type": "markdown",
   "id": "687ea404-c369-4952-ad55-996e366b4281",
   "metadata": {},
   "source": [
    "Der Ganze Code innerhalb der Klassen war wieder nur zum verwirren...\n",
    "Es geht hier darum zu lesen und die Regeln richtig anzuwenden."
   ]
  },
  {
   "cell_type": "markdown",
   "id": "cfdd5da7-6619-433a-9130-0e79848b6d57",
   "metadata": {},
   "source": [
    "##### 1."
   ]
  },
  {
   "cell_type": "code",
   "execution_count": null,
   "id": "9997e5a9-7ad7-44c1-b056-a4ac627fb599",
   "metadata": {},
   "outputs": [],
   "source": [
    "econ_a = Economy()\n",
    "econ_b = Economy()\n",
    "busn_a = Business()\n",
    "busn_b = busn_a"
   ]
  },
  {
   "cell_type": "markdown",
   "id": "efc8dd65-facc-465b-bc08-7300c0ac18b9",
   "metadata": {},
   "source": [
    "Ist `busn_a` eine Instanz der Klasse `Economy`? True\n",
    "\n",
    "Ist `econ_a` eine Instanz der Klasse `Business`? False\n",
    "\n",
    "Was ergibt: True and False --> False"
   ]
  },
  {
   "cell_type": "code",
   "execution_count": 53,
   "id": "ad13e279-0569-44f1-b272-79f8f20ac44b",
   "metadata": {},
   "outputs": [
    {
     "data": {
      "text/plain": [
       "(True, False)"
      ]
     },
     "execution_count": 53,
     "metadata": {},
     "output_type": "execute_result"
    }
   ],
   "source": [
    "isinstance(busn_a,Economy), isinstance(econ_a, Business)"
   ]
  },
  {
   "cell_type": "code",
   "execution_count": 54,
   "id": "a4af9f4d-ad1e-48c8-9162-61bcbc8be984",
   "metadata": {},
   "outputs": [
    {
     "data": {
      "text/plain": [
       "False"
      ]
     },
     "execution_count": 54,
     "metadata": {},
     "output_type": "execute_result"
    }
   ],
   "source": [
    "True and False"
   ]
  },
  {
   "cell_type": "markdown",
   "id": "d59e1fa2-acb4-4a5f-9efc-953f7d93e094",
   "metadata": {},
   "source": [
    "##### 2."
   ]
  },
  {
   "cell_type": "code",
   "execution_count": null,
   "id": "c59f1118-685a-425d-b10f-18132cef2730",
   "metadata": {},
   "outputs": [],
   "source": [
    "econ_a = Economy()\n",
    "econ_b = Economy()\n",
    "busn_a = Business()\n",
    "busn_b = busn_a"
   ]
  },
  {
   "cell_type": "markdown",
   "id": "55832062-8f63-4dc8-a220-24a50afaf92a",
   "metadata": {},
   "source": [
    "Ist `busn_b` das GLEICHE Objekt wie `busn_a`? True\n",
    "\n",
    "Ist `econ_a` das GLEICHE Objekt wie `econ_b`? False\n",
    "\n",
    "Was ergibt: True or False? True \n",
    "\n",
    "(True or --> Rest egal, weil es eh schon True ist) "
   ]
  },
  {
   "cell_type": "code",
   "execution_count": 62,
   "id": "57f34a74-b4ed-4f5d-8e03-94c59ca313dc",
   "metadata": {},
   "outputs": [
    {
     "data": {
      "text/plain": [
       "(True, False)"
      ]
     },
     "execution_count": 62,
     "metadata": {},
     "output_type": "execute_result"
    }
   ],
   "source": [
    "busn_b is busn_a, econ_a is econ_b"
   ]
  },
  {
   "cell_type": "code",
   "execution_count": 59,
   "id": "27e770d2-d9ee-4aa3-88ae-7a080f773ef5",
   "metadata": {},
   "outputs": [
    {
     "data": {
      "text/plain": [
       "True"
      ]
     },
     "execution_count": 59,
     "metadata": {},
     "output_type": "execute_result"
    }
   ],
   "source": [
    "True or False"
   ]
  },
  {
   "cell_type": "markdown",
   "id": "e0cb56b7-6d95-4dd8-8366-7df1358c15f0",
   "metadata": {},
   "source": [
    "### Aufgabe 9."
   ]
  },
  {
   "cell_type": "markdown",
   "id": "e214176d-660c-4b52-8e38-ebeaf281a2ab",
   "metadata": {},
   "source": [
    "Given the code below, which of the expressions will evaluate to True? select two answers."
   ]
  },
  {
   "cell_type": "code",
   "execution_count": 65,
   "id": "4abe947f-bd6a-420c-afec-04ee97540d33",
   "metadata": {},
   "outputs": [],
   "source": [
    "class Top:\n",
    "    value = 3 \n",
    "\n",
    "    def say(self):\n",
    "        return self.value\n",
    "\n",
    "class Middle(Top):\n",
    "    value = 2\n",
    "\n",
    "class Bottom(Middle):\n",
    "    def say(self):\n",
    "        return -self.value\n",
    "\n",
    "short = Bottom()\n",
    "tall = Top()\n",
    "average = Middle()"
   ]
  },
  {
   "cell_type": "markdown",
   "id": "49098b0c-4f85-40d8-b432-46768f14b77e",
   "metadata": {},
   "source": [
    "Antwortmöglichkeiten:"
   ]
  },
  {
   "cell_type": "code",
   "execution_count": null,
   "id": "10982205-5494-48d5-a64b-2fec9ba0046c",
   "metadata": {},
   "outputs": [],
   "source": [
    "# 1.\n",
    "isinstance(average,Bottom)"
   ]
  },
  {
   "cell_type": "code",
   "execution_count": null,
   "id": "9b1bcd3b-6e9d-4484-826f-4b928869b687",
   "metadata": {},
   "outputs": [],
   "source": [
    "# 2.\n",
    "tall.say() == 2"
   ]
  },
  {
   "cell_type": "code",
   "execution_count": null,
   "id": "26e95353-9725-4009-a8a4-c5e81da53821",
   "metadata": {},
   "outputs": [],
   "source": [
    "# 3.\n",
    "average.value == 2"
   ]
  },
  {
   "cell_type": "code",
   "execution_count": null,
   "id": "12f1624f-f43b-4ee2-9efe-d59aca41816c",
   "metadata": {},
   "outputs": [],
   "source": [
    "# 4.\n",
    "short.value == 2"
   ]
  },
  {
   "cell_type": "markdown",
   "id": "925bb5db-e475-44ab-9ccc-2b8adfb8c028",
   "metadata": {},
   "source": [
    "#### Lösung:"
   ]
  },
  {
   "cell_type": "code",
   "execution_count": 68,
   "id": "4df5751e-45b3-4415-9ac4-c9d3ea00c753",
   "metadata": {},
   "outputs": [
    {
     "data": {
      "text/plain": [
       "False"
      ]
     },
     "execution_count": 68,
     "metadata": {},
     "output_type": "execute_result"
    }
   ],
   "source": [
    "# 1.\n",
    "isinstance(average,Bottom)"
   ]
  },
  {
   "cell_type": "code",
   "execution_count": 69,
   "id": "2b39e23d-1545-415b-a75c-f7acb4ab57f5",
   "metadata": {},
   "outputs": [
    {
     "data": {
      "text/plain": [
       "False"
      ]
     },
     "execution_count": 69,
     "metadata": {},
     "output_type": "execute_result"
    }
   ],
   "source": [
    "# 2.\n",
    "tall.say() == 2"
   ]
  },
  {
   "cell_type": "code",
   "execution_count": 70,
   "id": "95dc8e80-0abb-455b-956a-192d12e22d58",
   "metadata": {},
   "outputs": [
    {
     "data": {
      "text/plain": [
       "True"
      ]
     },
     "execution_count": 70,
     "metadata": {},
     "output_type": "execute_result"
    }
   ],
   "source": [
    "# 3.\n",
    "average.value == 2"
   ]
  },
  {
   "cell_type": "code",
   "execution_count": 71,
   "id": "bd5ecc2f-b929-4707-8fae-755d9a12402f",
   "metadata": {},
   "outputs": [
    {
     "data": {
      "text/plain": [
       "True"
      ]
     },
     "execution_count": 71,
     "metadata": {},
     "output_type": "execute_result"
    }
   ],
   "source": [
    "# 4.\n",
    "short.value == 2"
   ]
  },
  {
   "cell_type": "markdown",
   "id": "43e76910-b39c-4c67-a65d-91206225c03e",
   "metadata": {},
   "source": [
    "### Aufgabe 10."
   ]
  },
  {
   "cell_type": "markdown",
   "id": "5b603396-bc7a-4bd4-9d64-6f1a01115a31",
   "metadata": {},
   "source": [
    "Wie geht man an so eine Aufgabe heran?"
   ]
  },
  {
   "cell_type": "markdown",
   "id": "033403ba-808c-4c55-8ffa-bf0310650e47",
   "metadata": {},
   "source": [
    "Given the code below, which of the following expressions will evaluate to True? select two answers."
   ]
  },
  {
   "cell_type": "code",
   "execution_count": 75,
   "id": "586d8a1f-e1c2-4fd1-ac27-78f434e8e56a",
   "metadata": {},
   "outputs": [],
   "source": [
    "class Alpha:\n",
    "    value = \"Alpha\"\n",
    "\n",
    "    def say(self):\n",
    "        return self.value.lower()\n",
    "\n",
    "class Beta(Alpha):\n",
    "    value = \"Beta\"\n",
    "\n",
    "class Gamma(Alpha):\n",
    "    def say(self):\n",
    "        return self.value.upper()\n",
    "\n",
    "class Delta(Gamma, Beta):\n",
    "    pass\n",
    "\n",
    "d = Delta()\n",
    "b = Beta()"
   ]
  },
  {
   "cell_type": "code",
   "execution_count": null,
   "id": "b0449180-a04e-4df6-ba39-a2321b1292b4",
   "metadata": {},
   "outputs": [],
   "source": [
    "# 1.\n",
    "d.value == \"Alpha\""
   ]
  },
  {
   "cell_type": "code",
   "execution_count": null,
   "id": "70466c89-69d1-48f8-826e-6e48bd727852",
   "metadata": {},
   "outputs": [],
   "source": [
    "# 2. \n",
    "d.say() == \"BETA\""
   ]
  },
  {
   "cell_type": "code",
   "execution_count": null,
   "id": "8c3aa276-b89a-445d-a62b-b964a0643546",
   "metadata": {},
   "outputs": [],
   "source": [
    "# 3. \n",
    "isinstance(d,Beta)"
   ]
  },
  {
   "cell_type": "code",
   "execution_count": null,
   "id": "33e9cb62-8ef3-46c3-a2f0-3262ea24c81b",
   "metadata": {},
   "outputs": [],
   "source": [
    "# 4.\n",
    "Alpha in Delta.__bases__"
   ]
  },
  {
   "cell_type": "markdown",
   "id": "3879b075-b40f-4b14-aa68-3bf756191154",
   "metadata": {},
   "source": [
    "Lösung:"
   ]
  },
  {
   "cell_type": "markdown",
   "id": "64d131f6-8a97-41db-8ae5-f3128fe4ba9d",
   "metadata": {},
   "source": [
    "mro Aufschreiben: Diamandform! --> Delta, Gamma, Beta, Alpha"
   ]
  },
  {
   "cell_type": "markdown",
   "id": "2a32d1b0-d907-4b4f-9964-d0ac2ed579d2",
   "metadata": {},
   "source": [
    "Und dann die Fälle durchprüfen:"
   ]
  },
  {
   "cell_type": "code",
   "execution_count": 76,
   "id": "09fdf649-c764-45ef-8976-74a79f31abcb",
   "metadata": {},
   "outputs": [
    {
     "data": {
      "text/plain": [
       "False"
      ]
     },
     "execution_count": 76,
     "metadata": {},
     "output_type": "execute_result"
    }
   ],
   "source": [
    "# 1.\n",
    "d.value == \"Alpha\""
   ]
  },
  {
   "cell_type": "markdown",
   "id": "1ef96443-ac4d-4f7b-b127-9345d4607dbd",
   "metadata": {},
   "source": [
    "Delta hat kein `value` also wird in den Superklassen gesucht. Die mro ist: Delta, Gamma, Beta, Alpha. Das erste `value` auf das man trifft ist in Beta `value = \"Beta\"` d.value == \"Alpha\" evaluiert also zu False."
   ]
  },
  {
   "cell_type": "code",
   "execution_count": 77,
   "id": "bafb48a9-7f3b-442a-b2c1-adfe3ba805c6",
   "metadata": {},
   "outputs": [
    {
     "data": {
      "text/plain": [
       "True"
      ]
     },
     "execution_count": 77,
     "metadata": {},
     "output_type": "execute_result"
    }
   ],
   "source": [
    "# 2. \n",
    "d.say() == \"BETA\""
   ]
  },
  {
   "cell_type": "markdown",
   "id": "8defb95f-f508-43f3-b385-80694a19f69d",
   "metadata": {},
   "source": [
    "```python\n",
    "class Gamma(Alpha):\n",
    "    def say(self):\n",
    "        return self.value.upper()\n",
    "```\n",
    "Hat selbst kein value und sucht in seiner Superklasse. In Alpha ist `value = \"Alpha\"`. Auch wenn Beta in der mro vor Alpha kommt, kann nur nach oben und nicht nach unten oder seitwärtz gesucht werden. d.say() == \"BETA\" evaluiert also auch zu False."
   ]
  },
  {
   "cell_type": "markdown",
   "id": "bb4cfe4c-1bac-4d99-be01-0728570d7737",
   "metadata": {},
   "source": [
    "Damit haben wir 2 False und der rest muss True sein. In der Prüfung würde ich jetzt anklicken und weiter. Und hätte einen Fehler... Deshalb ist es vielleicht nicht schlecht sich doch alle Lösungen anzuschauen."
   ]
  },
  {
   "cell_type": "code",
   "execution_count": 78,
   "id": "9c8c5517-ab8e-4c9a-acb6-a9b66f8a67bc",
   "metadata": {},
   "outputs": [
    {
     "data": {
      "text/plain": [
       "True"
      ]
     },
     "execution_count": 78,
     "metadata": {},
     "output_type": "execute_result"
    }
   ],
   "source": [
    "# 3. \n",
    "isinstance(d,Beta)"
   ]
  },
  {
   "cell_type": "markdown",
   "id": "6372cd17-bf03-4195-b3a6-8b91c826e151",
   "metadata": {},
   "source": [
    "Wie war das noch mal? geht isinstance die mro hoch? Ich glaube nicht. Also False."
   ]
  },
  {
   "cell_type": "code",
   "execution_count": 79,
   "id": "60b0a520-92d3-4683-9d1e-6d7add1370a7",
   "metadata": {},
   "outputs": [
    {
     "data": {
      "text/plain": [
       "False"
      ]
     },
     "execution_count": 79,
     "metadata": {},
     "output_type": "execute_result"
    }
   ],
   "source": [
    "# 4.\n",
    "Alpha in Delta.__bases__"
   ]
  },
  {
   "cell_type": "markdown",
   "id": "45a93a37-b796-462f-ba57-b2fb34d38d16",
   "metadata": {},
   "source": [
    "`__bases__` zeigt nur die DIREKTE Superklasse(n) an, in diesem Fall Gamma und Beta. Also False."
   ]
  },
  {
   "cell_type": "markdown",
   "id": "e9543b37-6aa8-43b1-b7f6-845fd7c88f8f",
   "metadata": {},
   "source": [
    "Gut wo war mein Fehler bei 2. und 3.?"
   ]
  },
  {
   "cell_type": "markdown",
   "id": "7c68feb9-6115-466f-82aa-277cb2f0e6fc",
   "metadata": {},
   "source": [
    "#### 2."
   ]
  },
  {
   "cell_type": "code",
   "execution_count": 80,
   "id": "0a1ce2f9-a360-4838-966c-e83682d06a7a",
   "metadata": {},
   "outputs": [
    {
     "data": {
      "text/plain": [
       "True"
      ]
     },
     "execution_count": 80,
     "metadata": {},
     "output_type": "execute_result"
    }
   ],
   "source": [
    "class Alpha:\n",
    "    value = \"Alpha\"\n",
    "\n",
    "    def say(self):\n",
    "        return self.value.lower()\n",
    "\n",
    "class Beta(Alpha):\n",
    "    value = \"Beta\"\n",
    "\n",
    "class Gamma(Alpha):\n",
    "    def say(self):\n",
    "        return self.value.upper()\n",
    "\n",
    "class Delta(Gamma, Beta):\n",
    "    pass\n",
    "\n",
    "d = Delta()\n",
    "b = Beta()\n",
    "\n",
    "# 2.\n",
    "d.say() == \"BETA\""
   ]
  },
  {
   "cell_type": "markdown",
   "id": "fa72afee-f1a7-42b8-aab1-f6c0d5760289",
   "metadata": {},
   "source": [
    "[Pythontutor](https://pythontutor.com/render.html#code=class%20Alpha%3A%0A%20%20%20%20value%20%3D%20%22Alpha%22%0A%0A%20%20%20%20def%20say%28self%29%3A%0A%20%20%20%20%20%20%20%20return%20self.value.lower%28%29%0A%0Aclass%20Beta%28Alpha%29%3A%0A%20%20%20%20value%20%3D%20%22Beta%22%0A%0Aclass%20Gamma%28Alpha%29%3A%0A%20%20%20%20def%20say%28self%29%3A%0A%20%20%20%20%20%20%20%20return%20self.value.upper%28%29%0A%0Aclass%20Delta%28Gamma,%20Beta%29%3A%0A%20%20%20%20pass%0A%0Ad%20%3D%20Delta%28%29%0Ab%20%3D%20Beta%28%29%0A%0A%23%202.%0Ad.say%28%29%20%3D%3D%20%22BETA%22&cumulative=false&curInstr=0&heapPrimitives=nevernest&mode=display&origin=opt-frontend.js&py=3&rawInputLstJSON=%5B%5D&textReferences=false)"
   ]
  },
  {
   "cell_type": "markdown",
   "id": "693be7b0-0ff6-4e30-b4dd-c5114042730b",
   "metadata": {},
   "source": [
    "Siehe auch: [Diamond](Diamond.ipynb)"
   ]
  },
  {
   "cell_type": "code",
   "execution_count": 83,
   "id": "c3b80f80-2c07-41da-8b2e-be8e285de5a6",
   "metadata": {},
   "outputs": [
    {
     "data": {
      "text/plain": [
       "[__main__.Delta, __main__.Gamma, __main__.Beta, __main__.Alpha, object]"
      ]
     },
     "execution_count": 83,
     "metadata": {},
     "output_type": "execute_result"
    }
   ],
   "source": [
    "Delta.mro()"
   ]
  },
  {
   "cell_type": "markdown",
   "id": "a9283ba3-61cf-4d40-b043-7bd1e81c4c45",
   "metadata": {},
   "source": [
    "Er sucht in Gamma UND Delta BEVOR er in Alpha sucht..."
   ]
  },
  {
   "cell_type": "markdown",
   "id": "307428b7-6805-496c-ad89-f996d89baf1c",
   "metadata": {},
   "source": [
    "#### 3."
   ]
  },
  {
   "cell_type": "code",
   "execution_count": 85,
   "id": "4124dd41-0bc5-4678-b952-e9f87fce3bd3",
   "metadata": {},
   "outputs": [
    {
     "data": {
      "text/plain": [
       "True"
      ]
     },
     "execution_count": 85,
     "metadata": {},
     "output_type": "execute_result"
    }
   ],
   "source": [
    "class Alpha:\n",
    "    value = \"Alpha\"\n",
    "\n",
    "    def say(self):\n",
    "        return self.value.lower()\n",
    "\n",
    "class Beta(Alpha):\n",
    "    value = \"Beta\"\n",
    "\n",
    "class Gamma(Alpha):\n",
    "    def say(self):\n",
    "        return self.value.upper()\n",
    "\n",
    "class Delta(Gamma, Beta):\n",
    "    pass\n",
    "\n",
    "d = Delta()\n",
    "b = Beta()\n",
    "# 3. \n",
    "isinstance(d,Beta)"
   ]
  },
  {
   "cell_type": "markdown",
   "id": "e4376de9-3339-49b8-8dd1-2a80a943444f",
   "metadata": {},
   "source": [
    "[Pythontutor](https://pythontutor.com/render.html#code=class%20Alpha%3A%0A%20%20%20%20value%20%3D%20%22Alpha%22%0A%0A%20%20%20%20def%20say%28self%29%3A%0A%20%20%20%20%20%20%20%20return%20self.value.lower%28%29%0A%0Aclass%20Beta%28Alpha%29%3A%0A%20%20%20%20value%20%3D%20%22Beta%22%0A%0Aclass%20Gamma%28Alpha%29%3A%0A%20%20%20%20def%20say%28self%29%3A%0A%20%20%20%20%20%20%20%20return%20self.value.upper%28%29%0A%0Aclass%20Delta%28Gamma,%20Beta%29%3A%0A%20%20%20%20pass%0A%0Ad%20%3D%20Delta%28%29%0Ab%20%3D%20Beta%28%29%0A%23%203.%20%0Aprint%28isinstance%28d,Beta%29%29&cumulative=false&curInstr=0&heapPrimitives=nevernest&mode=display&origin=opt-frontend.js&py=3&rawInputLstJSON=%5B%5D&textReferences=false)"
   ]
  },
  {
   "cell_type": "markdown",
   "id": "5a286d0b-bea5-46e5-8784-90fd65a1a7d0",
   "metadata": {},
   "source": [
    "In diesem Beispiel wird der Ausdruck `isinstance(d, Beta)` verwendet, um zu überprüfen, ob die Instanz `d` von der Klasse Delta auch eine Instanz der Klasse Beta ist."
   ]
  },
  {
   "cell_type": "markdown",
   "id": "69f0332c-67d7-42c6-a4a3-5b3afe88038d",
   "metadata": {},
   "source": [
    "Vererbung und MRO: In Python unterstützt die Vererbung die Method Resolution Order (MRO). Die MRO bestimmt die Reihenfolge, in der Basisklassen durchsucht werden, wenn ein Attribut gesucht wird. Die MRO für die Klasse Delta ist [Delta, Gamma, Beta, Alpha, object].\n",
    "Instanzprüfung: Der Ausdruck isinstance(d, Beta) prüft, ob d eine Instanz von Beta oder einer ihrer Unterklassen ist.\n",
    "Ergebnis: Da Delta von Beta erbt (über die MRO Delta -> Gamma -> Beta -> Alpha), ist d tatsächlich eine Instanz von Beta. Daher gibt isinstance(d, Beta) True zurück."
   ]
  },
  {
   "cell_type": "markdown",
   "id": "bcabbff0-edfd-4d50-9dd7-fb3c43735531",
   "metadata": {},
   "source": [
    "# ISINSTANCE ferig machen"
   ]
  },
  {
   "cell_type": "markdown",
   "id": "0000138a-8600-48fa-8009-44e19c59adcf",
   "metadata": {
    "jp-MarkdownHeadingCollapsed": true
   },
   "source": [
    "### Aufgabe 11."
   ]
  },
  {
   "cell_type": "code",
   "execution_count": 7,
   "id": "0609a30c-cd14-4a45-88e6-947e2a9229cd",
   "metadata": {},
   "outputs": [
    {
     "name": "stdout",
     "output_type": "stream",
     "text": [
      "So many ducks were born: 3\n",
      "So many chickens were born: 1\n",
      "duck quacks\n",
      "duck quacks\n",
      "duck quacks\n",
      "chicken clucks\n"
     ]
    }
   ],
   "source": [
    "class Duck:\n",
    "    counter = 0\n",
    "    species = 'duck'\n",
    "\n",
    "    def __init__(self, height, weight, sex):\n",
    "        self.height = height\n",
    "        self.weight = weight\n",
    "        self.sex = sex\n",
    "        Duck.counter +=1\n",
    "\n",
    "    def walk(self):\n",
    "        pass\n",
    "\n",
    "    def quack(self):\n",
    "        print('quacks')\n",
    "\n",
    "class Chicken:\n",
    "    \n",
    "    counter = 0\n",
    "    species = 'chicken'\n",
    "\n",
    "    def __init__(self, height, weight, sex):\n",
    "        self.height = height\n",
    "        self.weight = weight\n",
    "        self.sex = sex\n",
    "        Chicken.counter +=1\n",
    "    \n",
    "    def walk(self):\n",
    "        pass\n",
    "\n",
    "    def cluck(self):\n",
    "        print('clucks')\n",
    "\n",
    "duckling = Duck(height=10, weight=3.4, sex=\"male\")\n",
    "drake = Duck(height=25, weight=3.7, sex=\"male\")\n",
    "hen = Duck(height=20, weight=3.4, sex=\"female\")\n",
    "\n",
    "chicken = Chicken(height=25, weight=3.6, sex=\"female\")\n",
    "\n",
    "print('So many ducks were born:', Duck.counter)\n",
    "print('So many chickens were born:', Chicken.counter)\n",
    "\n",
    "for poultry in duckling, drake, hen, chicken: # ein on the fly Tupel mit den einzelnen Instanzen\n",
    "    print(poultry.species, end=' ')\n",
    "    if poultry.species == 'duck':\n",
    "        poultry.quack()\n",
    "    elif poultry.species == 'chicken':\n",
    "        poultry.cluck()\n"
   ]
  },
  {
   "cell_type": "markdown",
   "id": "0cb9c43e-dce2-42c1-bb54-92aa61344e56",
   "metadata": {
    "jp-MarkdownHeadingCollapsed": true
   },
   "source": [
    "### Aufgabe 12."
   ]
  },
  {
   "cell_type": "markdown",
   "id": "ca79e6cd-037c-41f1-a683-76d998be9d98",
   "metadata": {},
   "source": [
    "Beispiel für alten Code:"
   ]
  },
  {
   "cell_type": "code",
   "execution_count": 9,
   "id": "9a1a6371-c62c-43b6-a48f-40bc3d27b318",
   "metadata": {},
   "outputs": [
    {
     "name": "stdout",
     "output_type": "stream",
     "text": [
      "Total number of phone devices created: 0\n",
      "Creating 2 devices\n"
     ]
    }
   ],
   "source": [
    "class Phone:\n",
    "    counter = 0\n",
    "\n",
    "    def __init__(self, number):\n",
    "        self.number = number\n",
    "        Phone.counter += 1\n",
    "\n",
    "    def call(self, number):\n",
    "        message = 'Calling {} using own number {}'.format(number, self.number) # das ist die alte Schreibweise, die durch \n",
    "        return message                                                         # f-String ersetzt wurde\n",
    "\n",
    "\n",
    "class FixedPhone(Phone):\n",
    "    last_SN = 0\n",
    "\n",
    "    def __init__(self, number):\n",
    "        super().__init__(number)\n",
    "        FixedPhone.last_SN += 1\n",
    "        self.SN = 'FP-{}'.format(FixedPhone.last_SN)\n",
    "\n",
    "\n",
    "class MobilePhone(Phone):\n",
    "    last_SN = 0\n",
    "\n",
    "    def __init__(self, number):\n",
    "        super().__init__(number)\n",
    "        MobilePhone.last_SN += 1\n",
    "        self.SN = 'MP-{}'.format(MobilePhone.last_SN)\n",
    "\n",
    "\n",
    "print('Total number of phone devices created:', Phone.counter)\n",
    "print('Creating 2 devices')\n",
    "fphone = FixedPhone('555-2368')\n",
    "mphone = MobilePhone('01632-960004')"
   ]
  },
  {
   "cell_type": "markdown",
   "id": "72c3aa67-e23d-409a-bbee-55249a4683b1",
   "metadata": {},
   "source": [
    "Offenbar kan so ein Code in der Prüfung dran kommen."
   ]
  },
  {
   "cell_type": "markdown",
   "id": "07ee9a48-1a34-427d-8896-d5c2f5150da7",
   "metadata": {},
   "source": [
    "Neue Schreibweise"
   ]
  },
  {
   "cell_type": "code",
   "execution_count": 15,
   "id": "d15802e9-738d-48bd-b5c1-1f96c382c1a3",
   "metadata": {},
   "outputs": [
    {
     "name": "stdout",
     "output_type": "stream",
     "text": [
      "Total number of phone devices created: 0\n",
      "Creating 2 devices\n"
     ]
    }
   ],
   "source": [
    "class Phone:\n",
    "    counter = 0\n",
    "\n",
    "    def __init__(self, number):\n",
    "        self.number = number\n",
    "        Phone.counter += 1\n",
    "\n",
    "    def call(self, number):\n",
    "        message = f'Calling {number} using own number {self}'\n",
    "        return message\n",
    "\n",
    "\n",
    "class FixedPhone(Phone):\n",
    "    last_SN = 0\n",
    "\n",
    "    def __init__(self, number):\n",
    "        super().__init__(number)\n",
    "        FixedPhone.last_SN += 1\n",
    "        self.SN = f'FP-{FixedPhone.last_SN}'\n",
    "\n",
    "\n",
    "class MobilePhone(Phone):\n",
    "    last_SN = 0\n",
    "\n",
    "    def __init__(self, number):\n",
    "        super().__init__(number)\n",
    "        MobilePhone.last_SN += 1\n",
    "        self.SN = f'MP-{MobilePhone.last_SN}'\n",
    "\n",
    "print('Total number of phone devices created:', Phone.counter)\n",
    "print('Creating 2 devices')\n",
    "fphone = FixedPhone('555-2368')\n",
    "mphone = MobilePhone('01632-960004')"
   ]
  },
  {
   "cell_type": "code",
   "execution_count": 19,
   "id": "f937d5c9-5d85-416d-a3a9-35b125f63b9b",
   "metadata": {},
   "outputs": [
    {
     "data": {
      "text/plain": [
       "'Calling 01632-960004 using own number 555-2368'"
      ]
     },
     "execution_count": 19,
     "metadata": {},
     "output_type": "execute_result"
    }
   ],
   "source": [
    "FixedPhone.call(\"555-2368\",\"01632-960004\")"
   ]
  },
  {
   "cell_type": "code",
   "execution_count": 20,
   "id": "bbc5c1f3-c9c4-444f-bc2c-66b81d9a36d6",
   "metadata": {},
   "outputs": [
    {
     "data": {
      "text/plain": [
       "'Calling 555-2368 using own number 01632-960004'"
      ]
     },
     "execution_count": 20,
     "metadata": {},
     "output_type": "execute_result"
    }
   ],
   "source": [
    "MobilePhone.call(\"01632-960004\",\"555-2368\")"
   ]
  },
  {
   "cell_type": "markdown",
   "id": "f50ec391-528e-4376-93ba-1a9d2faddeeb",
   "metadata": {},
   "source": [
    "### Aufgabe 13."
   ]
  },
  {
   "cell_type": "code",
   "execution_count": null,
   "id": "13bb71c6-47d8-4be1-abd8-a0812e82efcf",
   "metadata": {},
   "outputs": [],
   "source": []
  }
 ],
 "metadata": {
  "kernelspec": {
   "display_name": "Python 3 (ipykernel)",
   "language": "python",
   "name": "python3"
  },
  "language_info": {
   "codemirror_mode": {
    "name": "ipython",
    "version": 3
   },
   "file_extension": ".py",
   "mimetype": "text/x-python",
   "name": "python",
   "nbconvert_exporter": "python",
   "pygments_lexer": "ipython3",
   "version": "3.12.4"
  }
 },
 "nbformat": 4,
 "nbformat_minor": 5
}
