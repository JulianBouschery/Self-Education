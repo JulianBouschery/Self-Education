{
 "cells": [
  {
   "cell_type": "markdown",
   "id": "a1b39d45-19e9-464d-9812-a36e637ecd6b",
   "metadata": {},
   "source": [
    "[Zurück zum Inhaltsverzeichnis](_Inhaltsverzeichnis_.ipynb)"
   ]
  },
  {
   "cell_type": "markdown",
   "id": "3300475c-64e6-4aea-883a-6e2792d91cb3",
   "metadata": {},
   "source": [
    "# Ternary Operator"
   ]
  },
  {
   "cell_type": "markdown",
   "id": "5edb9b3f-91dc-4020-94db-906dc770b018",
   "metadata": {},
   "source": [
    "Was ist der Ternary Operator? Der Begriff \"Ternary Operator\" stammt aus der Mathematik, wo \"ternary\" bedeutet, dass etwas drei Teile hat. "
   ]
  },
  {
   "cell_type": "markdown",
   "id": "1aadb2c4-47b0-4b41-8fa1-39fed2e3414e",
   "metadata": {},
   "source": [
    "**Normale if/else Funktion:** "
   ]
  },
  {
   "cell_type": "code",
   "execution_count": 7,
   "id": "c7c0e720-3550-4bd5-a682-90626d15f2cb",
   "metadata": {},
   "outputs": [
    {
     "name": "stdin",
     "output_type": "stream",
     "text": [
      "Bitte Zahl eingeben: 5\n"
     ]
    },
    {
     "name": "stdout",
     "output_type": "stream",
     "text": [
      "Die Zahl 5 ist ungerade.\n"
     ]
    }
   ],
   "source": [
    "zahl = int(input(\"Bitte Zahl eingeben:\"))\n",
    "\n",
    "if zahl % 2 == 0:\n",
    "    print(f\"Die Zahl {zahl} ist gerade.\")\n",
    "else:\n",
    "    print(f\"Die Zahl {zahl} ist ungerade.\")"
   ]
  },
  {
   "cell_type": "markdown",
   "id": "ed5e9ae6-9866-4f6c-99e7-62f102c77275",
   "metadata": {},
   "source": [
    "**In Ternary Operator umgewandelte Funktion:**"
   ]
  },
  {
   "cell_type": "code",
   "execution_count": 18,
   "id": "4fa9615e-03c5-4ee8-bf81-621017f9af28",
   "metadata": {},
   "outputs": [
    {
     "name": "stdout",
     "output_type": "stream",
     "text": [
      "Zahl ist ungerade.\n"
     ]
    }
   ],
   "source": [
    "zahl = 5\n",
    "if zahl % 2 == 0:\n",
    "    print(\"Zahl ist gerade.\")\n",
    "else:\n",
    "    print(\"Zahl ist ungerade.\")"
   ]
  },
  {
   "cell_type": "code",
   "execution_count": 19,
   "id": "1ef039c9-be47-4bcb-8732-83fd02af5f9c",
   "metadata": {},
   "outputs": [
    {
     "data": {
      "text/plain": [
       "'Zahl ist ungerade.'"
      ]
     },
     "execution_count": 19,
     "metadata": {},
     "output_type": "execute_result"
    }
   ],
   "source": [
    "zahl = 5\n",
    "\n",
    "ternary = \"Zahl ist gerade.\" if zahl % 2 == 0 else \"Zahl ist ungerade.\"\n",
    "ternary"
   ]
  },
  {
   "cell_type": "markdown",
   "id": "aaaf56fa-5345-40f9-b342-7e7f920a902b",
   "metadata": {},
   "source": [
    "Den Code einmal in seine einzelnen Teilschritte heruntergebrochen: \n",
    "Was genau passiert hier?\n",
    "\n",
    "1. `zahl` ist gegeben. `zahl = 5`\n",
    "2. Wenn `zahl` durch 2 teilbar ist\n",
    "3. print: \"Zahl ist gerade.\"\n",
    "4. Wenn nicht\n",
    "5. print: \"Zahl ist ungerade.\"\n",
    "\n",
    "```python\n",
    "1. zahl = 5\n",
    "\n",
    "2. if zahl % 2 == 0:\n",
    "3.     print(\"Zahl ist gerade.\")\n",
    "4. else:\n",
    "5.     print(\"Zahl ist ungerade.\")\n",
    "```"
   ]
  },
  {
   "cell_type": "markdown",
   "id": "6577f388-8b3a-46a6-87d2-0cc09a3178ad",
   "metadata": {},
   "source": [
    "Wir haben die Blöcke:\n",
    "\n",
    "zahl = 5 \n",
    "\n",
    "`1. if zahl % 2 == 0`:                                                                                                                     \n",
    "    print(`2. \"Zahl ist gerade.\"`)                                                                                           \n",
    "`3. else`:                                                                                                                               \n",
    "    print(`4. \"Zahl ist ungerade.\"`)\n",
    "\n",
    "Und diese Blöcke werden, in anderer Reihenfolge wieder zusammen gesetzt. Der Rest fällt weg.\n",
    "\n",
    "ternary = `2. \"Zahl ist gerade.\"` `1. if zahl % 2 == 0` `3. else` `\"4. Zahl ist ungerade.\"`"
   ]
  },
  {
   "cell_type": "markdown",
   "id": "ecf4b975-7149-4efd-a590-4b0c184b560b",
   "metadata": {},
   "source": [
    "**Syntax:**\n",
    "\n",
    "ternary_operator = `True` `CONDITION` `False`     \n",
    "\n",
    "ternary_operator = `True` `if ... else` `False`\n",
    "\n",
    "`1. if zahl % 2 == 0` **+** `3. else` **=** `CONDITION`"
   ]
  },
  {
   "cell_type": "code",
   "execution_count": null,
   "id": "280b45f3-e33f-4190-b314-f960b4dd391f",
   "metadata": {},
   "outputs": [],
   "source": [
    "[(WENN `True` `x` `if` BEDINGUNG `else` WENN_FALSCH `y`) FÜR `for z in range(1,11)`]"
   ]
  },
  {
   "cell_type": "markdown",
   "id": "f2d62764-a799-42ac-b5d2-a28d8e533099",
   "metadata": {},
   "source": [
    "Es war einfacher zu zeigen was der Ternary Operator macht, als es mit Worten zu erklären. Dieser Operator ermöglicht es, in einer einzigen Zeile Code eine Bedingung auszudrücken und je nachdem, ob die Bedingung wahr ist oder nicht, einen von zwei Werten zurückzugeben. Je mehr Elemente hinzukommen und je länger der Code wird, desto komplexer und unübersichtlicher wird es, aber das Prinzip bleibt gleich."
   ]
  },
  {
   "cell_type": "markdown",
   "id": "8d4c5d08-5fc3-4a74-a542-6ae71fa50546",
   "metadata": {},
   "source": [
    "**Beispiel mit input und f-String:**"
   ]
  },
  {
   "cell_type": "code",
   "execution_count": 20,
   "id": "bcc7ad49-0165-47cf-840d-2529214fac75",
   "metadata": {},
   "outputs": [
    {
     "name": "stdin",
     "output_type": "stream",
     "text": [
      "Bitte Zahl eingeben: 5\n"
     ]
    },
    {
     "name": "stdout",
     "output_type": "stream",
     "text": [
      "Die Zahl 5 ist ungerade.\n"
     ]
    }
   ],
   "source": [
    "zahl = int(input(\"Bitte Zahl eingeben:\"))\n",
    "\n",
    "if zahl % 2 == 0:\n",
    "    print(f\"Die Zahl {zahl} ist gerade.\")\n",
    "else:\n",
    "    print(f\"Die Zahl {zahl} ist ungerade.\")"
   ]
  },
  {
   "cell_type": "code",
   "execution_count": 12,
   "id": "0359fa19-7b71-4d33-8355-d25d1745e046",
   "metadata": {},
   "outputs": [
    {
     "name": "stdin",
     "output_type": "stream",
     "text": [
      "Bitte Zahl eingeben: 5\n"
     ]
    },
    {
     "data": {
      "text/plain": [
       "'Die Zahl 5 ist ungerade.'"
      ]
     },
     "execution_count": 12,
     "metadata": {},
     "output_type": "execute_result"
    }
   ],
   "source": [
    "zahl = int(input(\"Bitte Zahl eingeben:\"))\n",
    "\n",
    "ternary = f\"Die Zahl {zahl} ist gerade.\" if zahl % 2 == 0 else f\"Die Zahl {zahl} ist ungerade.\"\n",
    "ternary"
   ]
  }
 ],
 "metadata": {
  "kernelspec": {
   "display_name": "Python 3 (ipykernel)",
   "language": "python",
   "name": "python3"
  },
  "language_info": {
   "codemirror_mode": {
    "name": "ipython",
    "version": 3
   },
   "file_extension": ".py",
   "mimetype": "text/x-python",
   "name": "python",
   "nbconvert_exporter": "python",
   "pygments_lexer": "ipython3",
   "version": "3.12.4"
  }
 },
 "nbformat": 4,
 "nbformat_minor": 5
}
