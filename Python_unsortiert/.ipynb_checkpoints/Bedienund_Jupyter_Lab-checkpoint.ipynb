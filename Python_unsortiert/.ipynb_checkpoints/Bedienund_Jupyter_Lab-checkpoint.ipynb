{
 "cells": [
  {
   "cell_type": "markdown",
   "id": "295f03dc-a8c5-48f5-8fec-820eaa2cec73",
   "metadata": {},
   "source": [
    "[Zurück zum Inhaltsverzeichnis](_Inhaltsverzeichnis_.ipynb)"
   ]
  },
  {
   "cell_type": "code",
   "execution_count": 2,
   "id": "b66e6c20-43de-419a-9d7e-3414e792b5bf",
   "metadata": {},
   "outputs": [
    {
     "ename": "NameError",
     "evalue": "name 'mro' is not defined",
     "output_type": "error",
     "traceback": [
      "\u001b[1;31m---------------------------------------------------------------------------\u001b[0m",
      "\u001b[1;31mNameError\u001b[0m                                 Traceback (most recent call last)",
      "Cell \u001b[1;32mIn[2], line 1\u001b[0m\n\u001b[1;32m----> 1\u001b[0m help(\u001b[43mmro\u001b[49m)\n",
      "\u001b[1;31mNameError\u001b[0m: name 'mro' is not defined"
     ]
    }
   ],
   "source": []
  },
  {
   "cell_type": "code",
   "execution_count": null,
   "id": "d82c285c-ed12-43fb-96da-d21c6315fdca",
   "metadata": {},
   "outputs": [],
   "source": []
  },
  {
   "cell_type": "code",
   "execution_count": null,
   "id": "0346e764-ec2b-40eb-bdc1-187dfa5d8175",
   "metadata": {},
   "outputs": [],
   "source": []
  },
  {
   "cell_type": "code",
   "execution_count": null,
   "id": "b8556f2b-4ef3-4612-a271-611ee2d79c1a",
   "metadata": {},
   "outputs": [],
   "source": []
  },
  {
   "cell_type": "markdown",
   "id": "5e71acb0-3b01-4e47-b2ec-c543ce04725f",
   "metadata": {},
   "source": [
    "Esc + b = Erzeugt eine neue Zeile b-elow"
   ]
  },
  {
   "cell_type": "code",
   "execution_count": 1,
   "id": "bf93cbb5-6cba-4973-969b-bc19eb964a97",
   "metadata": {},
   "outputs": [],
   "source": [
    "x = 1 + 1"
   ]
  },
  {
   "cell_type": "markdown",
   "id": "88998987-4f30-476d-bbaf-0471a924fb18",
   "metadata": {},
   "source": [
    "Bedenke, jupyter lab erlaubt das sofortige Anzeigen der Ergebnisse. \n",
    "Wenn wir aber eine Zuweisung machen, wird das Ergebnis nicht angezeigt. \n",
    "\n",
    "Daher schreiben wir die Variable nach der Zuweisung noch einmal auf, und erhalten so deren Wert. Siehe unten"
   ]
  },
  {
   "cell_type": "code",
   "execution_count": 2,
   "id": "9b549fdd-0d61-402b-9836-1e9980872f2d",
   "metadata": {
    "tags": []
   },
   "outputs": [
    {
     "data": {
      "text/plain": [
       "2"
      ]
     },
     "execution_count": 2,
     "metadata": {},
     "output_type": "execute_result"
    }
   ],
   "source": [
    "x"
   ]
  },
  {
   "cell_type": "markdown",
   "id": "bc909b48-c120-4971-8348-d4bbc34e1008",
   "metadata": {},
   "source": [
    "Wenn ihr in Pycharm oder IDLE oder VSCode denn Code ausführt müsst ihr explizit print() nutzen, wenn ihr die Ergebnisse sehen wollt."
   ]
  },
  {
   "cell_type": "code",
   "execution_count": 3,
   "id": "6fcc59b1-4bcf-44ab-a754-f38924696813",
   "metadata": {},
   "outputs": [
    {
     "name": "stdout",
     "output_type": "stream",
     "text": [
      "2\n"
     ]
    }
   ],
   "source": [
    "print(x)"
   ]
  },
  {
   "cell_type": "markdown",
   "id": "0eae9872-d9d6-47b7-ab21-f42656e5e71d",
   "metadata": {},
   "source": [
    "## Trick 17 wenn man etwas überschieben hat:"
   ]
  },
  {
   "cell_type": "markdown",
   "id": "5bedee18-1525-4748-8437-06c8e15c93bd",
   "metadata": {},
   "source": [
    "Falls man etwas überschrieben hat, kann man ein \"reassignment\" machen: "
   ]
  },
  {
   "cell_type": "code",
   "execution_count": 5,
   "id": "6dfb99dc-0177-4747-8a1b-00195d10464e",
   "metadata": {},
   "outputs": [],
   "source": [
    "dict = {} # überschreibt die Funktion dict() mit der Variable dict = {}\n",
    " \n",
    "from builtins import dict\n",
    " \n",
    "dict = dict # überschreibt Variable wieder mit Funktion "
   ]
  },
  {
   "cell_type": "code",
   "execution_count": null,
   "id": "8aa65dcd-b1bc-445a-ba40-4ecca1fe9f9f",
   "metadata": {},
   "outputs": [],
   "source": []
  },
  {
   "cell_type": "code",
   "execution_count": null,
   "id": "6c579000-4402-453b-8b1c-1821ece38a1e",
   "metadata": {},
   "outputs": [],
   "source": []
  }
 ],
 "metadata": {
  "kernelspec": {
   "display_name": "Python 3 (ipykernel)",
   "language": "python",
   "name": "python3"
  },
  "language_info": {
   "codemirror_mode": {
    "name": "ipython",
    "version": 3
   },
   "file_extension": ".py",
   "mimetype": "text/x-python",
   "name": "python",
   "nbconvert_exporter": "python",
   "pygments_lexer": "ipython3",
   "version": "3.12.3"
  }
 },
 "nbformat": 4,
 "nbformat_minor": 5
}
