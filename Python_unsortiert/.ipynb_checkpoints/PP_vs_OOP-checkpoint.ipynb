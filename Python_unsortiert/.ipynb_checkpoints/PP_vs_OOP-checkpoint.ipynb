{
 "cells": [
  {
   "cell_type": "markdown",
   "id": "b0496929-4ebf-4a3e-b01e-bdf6c01c4c14",
   "metadata": {},
   "source": [
    "# prozedurale vs. objektorientierte Programmierung"
   ]
  },
  {
   "cell_type": "markdown",
   "id": "95ed820c-1f27-43cc-9ff1-983c36b70bc1",
   "metadata": {},
   "source": [
    "Prozedurale und objektorientierte Programmierung sind zwei verschiedene Programmierparadigmen. Hier sind die Hauptunterschiede:"
   ]
  },
  {
   "cell_type": "markdown",
   "id": "61245a25-73db-4940-83b5-5e6f9f86ff18",
   "metadata": {},
   "source": [
    "### Zusammenfassung:"
   ]
  },
  {
   "cell_type": "markdown",
   "id": "cb0a4189-b937-4287-bfa7-e81469c643a3",
   "metadata": {},
   "source": [
    "- **Prozedurale Programmierung**: Ist auf die die Erstellung von Funktionen fokussiert, die auf Datenstrukturen operieren. Der Code ist modular und wird in Prozeduren oder Funktionen organisiert.\n",
    "- **Objektorientierte Programmierung (OOP)**: Ist auf die die Erstellung von Objekten fokussiert, die sowohl Daten als auch Methoden enthalten. Der Code ist um Klassen und Objekte organisiert, die die Daten und das Verhalten der Objekte kapseln.\n",
    "\n",
    "Jedes Paradigma hat seine eigenen Vor- und Nachteile. Die prozedurale Programmierung ist oft einfacher und direkter, während die objektorientierte Programmierung besser für die Modellierung komplexer Systeme geeignet ist und eine bessere Wiederverwendbarkeit und Wartbarkeit des Codes bietet."
   ]
  },
  {
   "cell_type": "markdown",
   "id": "cd8c6461-f42a-43d7-a6d9-42b967982a08",
   "metadata": {
    "jp-MarkdownHeadingCollapsed": true
   },
   "source": [
    "### Prozedurale Programmierung"
   ]
  },
  {
   "cell_type": "markdown",
   "id": "51ca0446-8cff-4657-b6ea-20e58d34bf71",
   "metadata": {},
   "source": [
    "1. **Struktur**: Der Code wird in Funktionen oder Prozeduren organisiert.\n",
    "2. **Daten und Funktionen**: Daten und Funktionen sind getrennt. Funktionen operieren auf Daten, die ihnen als Argumente übergeben werden.\n",
    "3. **Datenzugriff**: Daten werden oft global oder in einer gemeinsamen Struktur gespeichert und sind für viele Funktionen zugänglich.\n",
    "4. **Beispiel**: C, Pascal"
   ]
  },
  {
   "cell_type": "markdown",
   "id": "74f5284a-b159-4022-a756-f97deba6bcef",
   "metadata": {},
   "source": [
    "#### Beispiel in Python:"
   ]
  },
  {
   "cell_type": "markdown",
   "id": "3913bd6f-297f-4bb0-bb53-1c95d0c7a23d",
   "metadata": {},
   "source": [
    "```python\n",
    "# Prozedurale Programmierung\n",
    "def add(a, b):\n",
    "    return a + b\n",
    "\n",
    "def subtract(a, b):\n",
    "    return a - b\n",
    "\n",
    "x = 10\n",
    "y = 5\n",
    "\n",
    "print(add(x, y))       # Ausgabe: 15\n",
    "print(subtract(x, y))  # Ausgabe: 5\n",
    "```"
   ]
  },
  {
   "cell_type": "markdown",
   "id": "0bfb3eaf-1b01-46d5-b25f-07279a34cf39",
   "metadata": {
    "jp-MarkdownHeadingCollapsed": true
   },
   "source": [
    "### Objektorientierte Programmierung (OOP)"
   ]
  },
  {
   "cell_type": "markdown",
   "id": "5b0833e7-ec86-419f-b053-25070396f7d4",
   "metadata": {},
   "source": [
    "1. **Struktur**: Der Code wird in Klassen und Objekte organisiert.\n",
    "2. **Daten und Methoden**: Daten und die zugehörigen Funktionen (Methoden) werden zusammen in Klassen organisiert.\n",
    "3. **Datenzugriff**: Daten sind in der Regel in den Objekten gekapselt und können nur über Methoden der Klasse modifiziert werden.\n",
    "4. **Konzepte**: Wichtige Konzepte sind Vererbung, Polymorphismus, Kapselung und Abstraktion.\n",
    "5. **Beispiel**: Python, Java, C++"
   ]
  },
  {
   "cell_type": "markdown",
   "id": "48d0bdbc-02c5-47ee-9f4c-1c09578cc3c4",
   "metadata": {},
   "source": [
    "#### Beispiel in Python:"
   ]
  },
  {
   "cell_type": "markdown",
   "id": "9ec6b357-6abe-42c8-bc0b-57461aa38cbc",
   "metadata": {},
   "source": [
    "```python\n",
    "# Objektorientierte Programmierung\n",
    "class Calculator:\n",
    "    def __init__(self, a, b):\n",
    "        self.a = a\n",
    "        self.b = b\n",
    "\n",
    "    def add(self):\n",
    "        return self.a + self.b\n",
    "\n",
    "    def subtract(self):\n",
    "        return self.a - self.b\n",
    "\n",
    "calc = Calculator(10, 5)\n",
    "print(calc.add())       # Ausgabe: 15\n",
    "print(calc.subtract())  # Ausgabe: 5\n",
    "```"
   ]
  },
  {
   "cell_type": "code",
   "execution_count": null,
   "id": "7e60da4f-5a0d-434a-9030-6cce73f5cdba",
   "metadata": {},
   "outputs": [],
   "source": []
  }
 ],
 "metadata": {
  "kernelspec": {
   "display_name": "Python 3 (ipykernel)",
   "language": "python",
   "name": "python3"
  },
  "language_info": {
   "codemirror_mode": {
    "name": "ipython",
    "version": 3
   },
   "file_extension": ".py",
   "mimetype": "text/x-python",
   "name": "python",
   "nbconvert_exporter": "python",
   "pygments_lexer": "ipython3",
   "version": "3.12.4"
  }
 },
 "nbformat": 4,
 "nbformat_minor": 5
}
