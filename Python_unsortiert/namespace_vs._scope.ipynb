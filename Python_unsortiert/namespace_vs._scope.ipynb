{
 "cells": [
  {
   "cell_type": "code",
   "execution_count": null,
   "id": "666cc2f5-5c62-4386-be29-173239fb6c76",
   "metadata": {},
   "outputs": [],
   "source": []
  },
  {
   "cell_type": "markdown",
   "id": "8027d6f1-7629-4758-8425-08b47f074d89",
   "metadata": {},
   "source": [
    "Siehe auch: [Namespace](Namespace.ipynb)"
   ]
  },
  {
   "cell_type": "markdown",
   "id": "408e117e-0386-4586-966b-3d73ec6db49f",
   "metadata": {},
   "source": [
    "Siehe auch: [Scope](Scope.ipynb)"
   ]
  },
  {
   "cell_type": "markdown",
   "id": "a6b6fb3c-8af9-47cb-ac99-1fc56f66f955",
   "metadata": {},
   "source": [
    "# Namespaces vs. Scope / Geltungsbereich"
   ]
  },
  {
   "cell_type": "markdown",
   "id": "28b7dc8b-e1a0-4347-9e21-c50447aa1a35",
   "metadata": {},
   "source": [
    "Die Begriffe \"Namespace\", \"Scope\" und \"Geltungsbereich\" sind eng miteinander verwandt, aber sie sind nicht vollständig synonym. Jeder Begriff hat eine spezifische Bedeutung im Kontext der Programmierung:"
   ]
  },
  {
   "cell_type": "markdown",
   "id": "993e8278-4455-4a08-a938-277e5e362380",
   "metadata": {},
   "source": [
    "1. **Namespace**:\n",
    "   - Ein Namespace ist ein Container, der eine Sammlung von Namen (Bezeichnern) bereitstellt und sicherstellt, dass alle Namen innerhalb des Containers eindeutig sind. Es verhindert Namenskonflikte, indem es gleichnamige Bezeichner in unterschiedlichen Namespaces unterscheidet.\n",
    "   - Beispiel: In Python gibt es verschiedene Namespaces wie der globale Namespace, der lokale Namespace und der Namespace einer Klasse."
   ]
  },
  {
   "cell_type": "markdown",
   "id": "a128c7ea-2a5e-4f4c-b5be-44716be50220",
   "metadata": {},
   "source": [
    "2. **Scope (Geltungsbereich)**:\n",
    "   - Der Scope oder Geltungsbereich bezieht sich auf den Bereich des Programmcodes, in dem ein Name (eine Variable, eine Funktion usw.) gültig und zugänglich ist. Er bestimmt, wo im Code auf die entsprechenden Namen zugegriffen werden kann.\n",
    "   - Beispiel: In Python gibt es verschiedene Scopes wie lokale, enclosing, globale und built-in Scopes (LEGB-Regel)."
   ]
  },
  {
   "cell_type": "markdown",
   "id": "49e929ff-0d33-4d56-8bbe-93facbf71dc0",
   "metadata": {},
   "source": [
    "### Unterschied und Beziehung:"
   ]
  },
  {
   "cell_type": "markdown",
   "id": "6de65302-3d2a-42a8-9b27-61dc2295712d",
   "metadata": {},
   "source": [
    "- **Namespace** bezieht sich auf die Sammlung von Namen und den Mechanismus, der deren Eindeutigkeit gewährleistet. Es ist mehr strukturell und organisatorisch.\n",
    "- **Scope (Geltungsbereich)** bezieht sich auf die Sichtbarkeit und Lebensdauer von Variablen und anderen Bezeichnern im Code. Es ist mehr dynamisch und laufzeitbezogen."
   ]
  },
  {
   "cell_type": "markdown",
   "id": "0a5d81b3-9fec-4b01-ae8b-4366ae48d67b",
   "metadata": {},
   "source": [
    "### Beispiel zur Verdeutlichung:"
   ]
  },
  {
   "cell_type": "markdown",
   "id": "b07ea9b7-ad3b-4187-a015-674f1cb93851",
   "metadata": {},
   "source": [
    "```python\n",
    "# Globales Scope\n",
    "x = 10  # x ist im globalen Namespace\n",
    "\n",
    "def func():\n",
    "    # Lokales Scope von func\n",
    "    y = 20  # y ist im lokalen Namespace von func\n",
    "    print(x)  # Zugriff auf x im globalen Scope\n",
    "    print(y)  # Zugriff auf y im lokalen Scope von func\n",
    "\n",
    "func()\n",
    "```\n",
    "- `x` befindet sich im globalen Namespace und ist im globalen Scope zugänglich.\n",
    "- `y` befindet sich im lokalen Namespace der Funktion `func` und ist nur im Scope der Funktion `func` zugänglich."
   ]
  },
  {
   "cell_type": "markdown",
   "id": "52986c21-bcfe-4450-9fde-f21acddb149f",
   "metadata": {},
   "source": [
    "### Zusammengefasst:"
   ]
  },
  {
   "cell_type": "markdown",
   "id": "9ba5bae3-333c-4535-9f8f-19e869ca8421",
   "metadata": {},
   "source": [
    "- **Namespace** ist ein organisatorisches Konzept, das Namen verwaltet und Namenskonflikte vermeidet.\n",
    "- **Scope (Geltungsbereich)** ist ein konzeptionelles Modell, das bestimmt, wo im Code auf diese Namen zugegriffen werden kann.\n",
    "\n",
    "Sie sind eng miteinander verbunden, aber sie beschreiben unterschiedliche Aspekte der Namens- und Sichtbarkeitsverwaltung in einem Programm."
   ]
  },
  {
   "cell_type": "code",
   "execution_count": null,
   "id": "001dd7fc-493e-4482-b496-4b2031ba3ea5",
   "metadata": {},
   "outputs": [],
   "source": []
  }
 ],
 "metadata": {
  "kernelspec": {
   "display_name": "Python 3 (ipykernel)",
   "language": "python",
   "name": "python3"
  },
  "language_info": {
   "codemirror_mode": {
    "name": "ipython",
    "version": 3
   },
   "file_extension": ".py",
   "mimetype": "text/x-python",
   "name": "python",
   "nbconvert_exporter": "python",
   "pygments_lexer": "ipython3",
   "version": "3.12.4"
  }
 },
 "nbformat": 4,
 "nbformat_minor": 5
}
