{
 "cells": [
  {
   "cell_type": "markdown",
   "id": "108cb0c0-1f03-49f0-80a3-3c23cbf0f783",
   "metadata": {},
   "source": [
    "# PEP 8"
   ]
  },
  {
   "cell_type": "code",
   "execution_count": null,
   "id": "8a2f6038-9fa6-425f-b27b-175e22403a5e",
   "metadata": {},
   "outputs": [],
   "source": []
  }
 ],
 "metadata": {
  "kernelspec": {
   "display_name": "Python 3 (ipykernel)",
   "language": "python",
   "name": "python3"
  },
  "language_info": {
   "codemirror_mode": {
    "name": "ipython",
    "version": 3
   },
   "file_extension": ".py",
   "mimetype": "text/x-python",
   "name": "python",
   "nbconvert_exporter": "python",
   "pygments_lexer": "ipython3",
   "version": "3.12.6"
  }
 },
 "nbformat": 4,
 "nbformat_minor": 5
}
