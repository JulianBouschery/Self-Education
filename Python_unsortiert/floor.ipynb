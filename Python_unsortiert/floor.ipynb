{
 "cells": [
  {
   "cell_type": "markdown",
   "id": "a1b39d45-19e9-464d-9812-a36e637ecd6b",
   "metadata": {},
   "source": [
    "[Zurück zum Inhaltsverzeichnis](_Inhaltsverzeichnis_.ipynb)"
   ]
  },
  {
   "cell_type": "markdown",
   "id": "12c86f25-6838-4d0b-9da1-0941be331d86",
   "metadata": {},
   "source": [
    "# floor Methode"
   ]
  },
  {
   "cell_type": "markdown",
   "id": "f71efcf9-9b93-457c-b529-ba9f2b5a40d8",
   "metadata": {},
   "source": [
    "Die floor-Methode aus dem math-Modul in Python wird verwendet, um die größte ganze Zahl zu finden, die kleiner oder gleich einer gegebenen Zahl ist. Mit anderen Worten, sie rundet eine Zahl immer auf die nächste ganze Zahl **AB**."
   ]
  },
  {
   "cell_type": "code",
   "execution_count": 1,
   "id": "da3cbe9f-ef68-4643-a639-9ed3173faab7",
   "metadata": {},
   "outputs": [],
   "source": [
    "import math"
   ]
  },
  {
   "cell_type": "code",
   "execution_count": 2,
   "id": "3f0834e4-1278-4ede-9969-c832d29f8a53",
   "metadata": {},
   "outputs": [
    {
     "name": "stdout",
     "output_type": "stream",
     "text": [
      "1 2\n",
      "-2 -3\n"
     ]
    }
   ],
   "source": [
    "x = 1.4\n",
    "y = 2.6\n",
    "\n",
    "print(math.floor(x), math.floor(y))\n",
    "print(math.floor(-x), math.floor(-y))"
   ]
  },
  {
   "cell_type": "code",
   "execution_count": null,
   "id": "205b8457-0401-4e29-9b99-eb8fa1d9e5d6",
   "metadata": {},
   "outputs": [],
   "source": []
  }
 ],
 "metadata": {
  "kernelspec": {
   "display_name": "Python 3 (ipykernel)",
   "language": "python",
   "name": "python3"
  },
  "language_info": {
   "codemirror_mode": {
    "name": "ipython",
    "version": 3
   },
   "file_extension": ".py",
   "mimetype": "text/x-python",
   "name": "python",
   "nbconvert_exporter": "python",
   "pygments_lexer": "ipython3",
   "version": "3.12.3"
  }
 },
 "nbformat": 4,
 "nbformat_minor": 5
}
