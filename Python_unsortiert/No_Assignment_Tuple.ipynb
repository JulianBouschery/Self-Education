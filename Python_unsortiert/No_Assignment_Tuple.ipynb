{
 "cells": [
  {
   "cell_type": "markdown",
   "id": "a1ef5b36-0c62-4468-ad99-79f74cc01f54",
   "metadata": {},
   "source": [
    "[Zurück zum Inhaltsverzeichnis](_Inhaltsverzeichnis_.ipynb)"
   ]
  },
  {
   "cell_type": "markdown",
   "id": "4a9db5f5-815c-4047-b992-58cc0ff398f7",
   "metadata": {},
   "source": [
    "# Kein Item Assignment in Tuplen"
   ]
  },
  {
   "cell_type": "markdown",
   "id": "bd29f09b-ce7b-48f4-9e83-c8cf0f63c579",
   "metadata": {},
   "source": [
    "## Tuple und str erlauben keine Item Assigment und tuple hat keinerlei Methoden die Inhalte zu ändern"
   ]
  },
  {
   "cell_type": "code",
   "execution_count": 51,
   "id": "9bf0bc61-b587-4b68-9c84-e7d5087b8846",
   "metadata": {
    "tags": []
   },
   "outputs": [
    {
     "data": {
      "text/plain": [
       "3"
      ]
     },
     "execution_count": 51,
     "metadata": {},
     "output_type": "execute_result"
    }
   ],
   "source": [
    "tuple_1 =(1, 2, 3)\n",
    "tuple_1[2] # Item Lesen Indizieren"
   ]
  },
  {
   "cell_type": "code",
   "execution_count": 52,
   "id": "54831640-1cb8-4a8b-817f-cce735bf14bb",
   "metadata": {
    "tags": []
   },
   "outputs": [
    {
     "ename": "TypeError",
     "evalue": "'tuple' object does not support item assignment",
     "output_type": "error",
     "traceback": [
      "\u001b[0;31m---------------------------------------------------------------------------\u001b[0m",
      "\u001b[0;31mTypeError\u001b[0m                                 Traceback (most recent call last)",
      "\u001b[0;32m/var/folders/98/zxnb__6d3hn1b82jwdhkbs7m0000gn/T/ipykernel_23693/467350440.py\u001b[0m in \u001b[0;36m<module>\u001b[0;34m\u001b[0m\n\u001b[0;32m----> 1\u001b[0;31m \u001b[0mtuple_1\u001b[0m\u001b[0;34m[\u001b[0m\u001b[0;36m2\u001b[0m\u001b[0;34m]\u001b[0m \u001b[0;34m=\u001b[0m \u001b[0;36m42\u001b[0m\u001b[0;34m\u001b[0m\u001b[0;34m\u001b[0m\u001b[0m\n\u001b[0m",
      "\u001b[0;31mTypeError\u001b[0m: 'tuple' object does not support item assignment"
     ]
    }
   ],
   "source": [
    "tuple_1[2] = 42"
   ]
  },
  {
   "cell_type": "code",
   "execution_count": 53,
   "id": "2d75e211-c043-4e96-b208-7f459c615b0c",
   "metadata": {
    "tags": []
   },
   "outputs": [
    {
     "data": {
      "text/plain": [
       "'l'"
      ]
     },
     "execution_count": 53,
     "metadata": {},
     "output_type": "execute_result"
    }
   ],
   "source": [
    "str1 =\"Hallo\"\n",
    "str1[2]"
   ]
  },
  {
   "cell_type": "code",
   "execution_count": 54,
   "id": "3e45e143-38cb-44e3-b5a7-bc855417dd01",
   "metadata": {
    "tags": []
   },
   "outputs": [
    {
     "ename": "TypeError",
     "evalue": "'str' object does not support item assignment",
     "output_type": "error",
     "traceback": [
      "\u001b[0;31m---------------------------------------------------------------------------\u001b[0m",
      "\u001b[0;31mTypeError\u001b[0m                                 Traceback (most recent call last)",
      "\u001b[0;32m/var/folders/98/zxnb__6d3hn1b82jwdhkbs7m0000gn/T/ipykernel_23693/1573297140.py\u001b[0m in \u001b[0;36m<module>\u001b[0;34m\u001b[0m\n\u001b[0;32m----> 1\u001b[0;31m \u001b[0mstr1\u001b[0m\u001b[0;34m[\u001b[0m\u001b[0;36m2\u001b[0m\u001b[0;34m]\u001b[0m \u001b[0;34m=\u001b[0m \u001b[0;34m\"u\"\u001b[0m\u001b[0;34m\u001b[0m\u001b[0;34m\u001b[0m\u001b[0m\n\u001b[0m",
      "\u001b[0;31mTypeError\u001b[0m: 'str' object does not support item assignment"
     ]
    }
   ],
   "source": [
    "str1[2] = \"u\""
   ]
  },
  {
   "cell_type": "code",
   "execution_count": null,
   "id": "9a8269c1-e66c-4b90-94ae-c70db6739ce6",
   "metadata": {},
   "outputs": [],
   "source": [
    "(1,2,3).  # schreib tuple dann den Punkt und drücke dann Tabulator"
   ]
  },
  {
   "cell_type": "code",
   "execution_count": 44,
   "id": "a1b6870e-3eca-4f2b-a7c2-f4b31f5c9838",
   "metadata": {
    "tags": []
   },
   "outputs": [
    {
     "data": {
      "text/plain": [
       "['count', 'index']"
      ]
     },
     "execution_count": 44,
     "metadata": {},
     "output_type": "execute_result"
    }
   ],
   "source": [
    "dir(tuple)[-2:] # dir(tuple) gibt den Namensraum der Klasse tuple wieder"
   ]
  },
  {
   "cell_type": "code",
   "execution_count": 47,
   "id": "9d67824c-9c2f-4e51-8456-eba5ecf934b2",
   "metadata": {
    "scrolled": true,
    "tags": []
   },
   "outputs": [
    {
     "data": {
      "text/plain": [
       "['append',\n",
       " 'clear',\n",
       " 'copy',\n",
       " 'count',\n",
       " 'extend',\n",
       " 'index',\n",
       " 'insert',\n",
       " 'pop',\n",
       " 'remove',\n",
       " 'reverse',\n",
       " 'sort']"
      ]
     },
     "execution_count": 47,
     "metadata": {},
     "output_type": "execute_result"
    }
   ],
   "source": [
    "# Im Vergleich Liste\n",
    "dir(liste)[-11:] # Hier haben wir alle Methoden für Listen-Objekte"
   ]
  }
 ],
 "metadata": {
  "kernelspec": {
   "display_name": "Python 3 (ipykernel)",
   "language": "python",
   "name": "python3"
  },
  "language_info": {
   "codemirror_mode": {
    "name": "ipython",
    "version": 3
   },
   "file_extension": ".py",
   "mimetype": "text/x-python",
   "name": "python",
   "nbconvert_exporter": "python",
   "pygments_lexer": "ipython3",
   "version": "3.12.3"
  }
 },
 "nbformat": 4,
 "nbformat_minor": 5
}
