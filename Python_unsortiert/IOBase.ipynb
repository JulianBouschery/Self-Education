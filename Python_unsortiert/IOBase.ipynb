{
 "cells": [
  {
   "cell_type": "markdown",
   "id": "fda2988c-6bc2-4f08-b8dc-c1e7b8edf9eb",
   "metadata": {},
   "source": [
    "Siehe auch: [API](API.ipynb)"
   ]
  },
  {
   "cell_type": "markdown",
   "id": "fa578821-0604-4d2a-8cd3-8eaf1f80c7ac",
   "metadata": {},
   "source": [
    "# IOBase"
   ]
  },
  {
   "cell_type": "markdown",
   "id": "69525fde-1ae9-448a-9fac-d114291e9a23",
   "metadata": {},
   "source": [
    "Die `IOBase`-Klasse ist die Basisklasse für die Hierarchie der I/O-Streams in Python. Sie definiert das grundlegende API und die Funktionalität für alle Arten von I/O-Operationen. Alle anderen I/O-Klassen in Python erben direkt oder indirekt von `IOBase`."
   ]
  },
  {
   "cell_type": "markdown",
   "id": "ef1c3cc2-077a-4897-b16f-8fba9f91a9fc",
   "metadata": {},
   "source": [
    "### Wichtige Unterklassen"
   ]
  },
  {
   "cell_type": "markdown",
   "id": "5dec7e00-7060-4a73-bc4c-05a5d4d61700",
   "metadata": {},
   "source": [
    "- **RawIOBase**: Diese Klasse bietet Schnittstellen für rohe (unverarbeitete) Binärströme. Beispiele sind Dateiobjekte im Binärmodus.\n",
    "  \n",
    "- **BufferedIOBase**: Diese Klasse bietet Schnittstellen für gepufferte Binärströme. Beispiele sind `BufferedReader` und `BufferedWriter`.\n",
    "  \n",
    "- **TextIOBase**: Diese Klasse bietet Schnittstellen für Textströme. Beispiele sind `TextIOWrapper`, der beim Öffnen von Dateien im Textmodus verwendet wird."
   ]
  },
  {
   "cell_type": "markdown",
   "id": "5cb0ace0-c74c-4b36-b0a6-6561158d0268",
   "metadata": {},
   "source": [
    "### Hauptmethoden von `IOBase`"
   ]
  },
  {
   "cell_type": "markdown",
   "id": "5eb48b80-eb8e-45b0-8154-c6bae093ec89",
   "metadata": {},
   "source": [
    "- **close()**: Schließt den Stream und gibt alle Systemressourcen frei.\n",
    "- **closed**: Eine Eigenschaft, die angibt, ob der Stream geschlossen ist.\n",
    "- **fileno()**: Gibt die Dateideskriptor-Nummer zurück, falls verfügbar.\n",
    "- **flush()**: Leert den internen Puffer des Streams.\n",
    "- **seek(offset, whence=SEEK_SET)**: Verschiebt den Dateizeiger auf eine neue Position.\n",
    "- **tell()**: Gibt die aktuelle Position im Stream zurück.\n",
    "- **read(size=-1)**: Liest bis zu `size` Bytes aus dem Stream.\n",
    "- **readable()**: Gibt `True` zurück, wenn der Stream lesbar ist.\n",
    "- **write(b)**: Schreibt die Bytes `b` in den Stream.\n",
    "- **writable()**: Gibt `True` zurück, wenn der Stream schreibbar ist."
   ]
  },
  {
   "cell_type": "markdown",
   "id": "e1201e56-557d-4c91-9ebd-9dd09cb1701c",
   "metadata": {},
   "source": [
    "### Beispiel"
   ]
  },
  {
   "cell_type": "markdown",
   "id": "1e877561-5727-474b-af8c-f46c26e9bb79",
   "metadata": {},
   "source": [
    "```python\n",
    "# Öffnen einer Datei im Textmodus\n",
    "with open(\"datei.txt\", \"r\") as file:\n",
    "    content = file.read()\n",
    "\n",
    "# Datei wird automatisch geschlossen, wenn der Block verlassen wird\n",
    "```\n",
    "\n",
    "In diesem Beispiel wird ein `TextIOWrapper`-Objekt erstellt, das von `TextIOBase` erbt. Es handelt sich dabei um einen Textstrom, der Methoden wie `read()` bereitstellt."
   ]
  },
  {
   "cell_type": "markdown",
   "id": "7136845a-e34f-4897-ba66-3e27a084c3e0",
   "metadata": {},
   "source": [
    "### Zusammenfassung"
   ]
  },
  {
   "cell_type": "markdown",
   "id": "d1e98ddf-57d9-4545-b1d1-19fca2c443d2",
   "metadata": {},
   "source": [
    "Die `IOBase`-Klasse und ihre Unterklassen bieten eine einheitliche Schnittstelle für die Arbeit mit verschiedenen Arten von Ein- und Ausgabeströmen in Python. Sie ermöglicht es, Dateien und andere I/O-Ressourcen auf eine konsistente Weise zu handhaben."
   ]
  },
  {
   "cell_type": "code",
   "execution_count": null,
   "id": "c3a52cca-78d4-4aab-ae94-b265c81ed714",
   "metadata": {},
   "outputs": [],
   "source": []
  }
 ],
 "metadata": {
  "kernelspec": {
   "display_name": "Python 3 (ipykernel)",
   "language": "python",
   "name": "python3"
  },
  "language_info": {
   "codemirror_mode": {
    "name": "ipython",
    "version": 3
   },
   "file_extension": ".py",
   "mimetype": "text/x-python",
   "name": "python",
   "nbconvert_exporter": "python",
   "pygments_lexer": "ipython3",
   "version": "3.12.4"
  }
 },
 "nbformat": 4,
 "nbformat_minor": 5
}
