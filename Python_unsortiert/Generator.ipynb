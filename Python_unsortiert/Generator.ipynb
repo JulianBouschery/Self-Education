{
 "cells": [
  {
   "cell_type": "markdown",
   "id": "8a8847bd-c1df-4fae-ae01-b6f3329ebe31",
   "metadata": {},
   "source": [
    "[Zurück zum Inhaltsverzeichnis](_Inhaltsverzeichnis_.ipynb)"
   ]
  },
  {
   "cell_type": "markdown",
   "id": "811b43ac-28e0-48fa-a4ac-ce0eaf7f9c60",
   "metadata": {},
   "source": [
    "# Generator"
   ]
  },
  {
   "cell_type": "markdown",
   "id": "5539563d-8c93-468f-a0cb-09e19693665b",
   "metadata": {},
   "source": [
    "Was genau ist ein Generator?"
   ]
  },
  {
   "cell_type": "markdown",
   "id": "05079ddb-4357-456d-a3ca-7576756404ca",
   "metadata": {},
   "source": [
    "Ein Generator-Ausdruck ist eine kompakte Syntax, die eine Art von Iterator erzeugt, der Werte \"on-the-fly\" generiert, anstatt sie alle auf einmal im Speicher zu halten. Der Generator-Ausdruck verwendet die gleiche Syntax wie eine List Comprehension, aber anstelle von eckigen Klammern [] verwendet er runde Klammern ()."
   ]
  },
  {
   "cell_type": "markdown",
   "id": "f81ade1b-b1ca-4f04-83a0-56f9a6ef7663",
   "metadata": {},
   "source": [
    "Generatoren sind VIEL schneller und speichereffizienter als List Comprehension, deshalb gibt es sie."
   ]
  },
  {
   "cell_type": "markdown",
   "id": "53191353-87d3-4096-8e1c-0c0d9e336837",
   "metadata": {
    "jp-MarkdownHeadingCollapsed": true
   },
   "source": [
    "### Beispiel aus dem Thema join"
   ]
  },
  {
   "cell_type": "markdown",
   "id": "f5582996-ef6a-4674-b888-b6c6b208b51e",
   "metadata": {},
   "source": [
    "Siehe auch [join](split_und_join.ipynb)"
   ]
  },
  {
   "cell_type": "markdown",
   "id": "c6c4951e-9cde-4b28-b4c7-bebf3ea50812",
   "metadata": {},
   "source": [
    "Die Eckigen Klammenr bzw. die List Comprehension benötigt man eigentlich nicht. Man könnten auch nur str(x) for x in (1,2,3) schreiben, dass ist ein sogenannter GENERATOR."
   ]
  },
  {
   "cell_type": "code",
   "execution_count": 39,
   "id": "da36b2f7-2a19-44d7-b92f-684851717300",
   "metadata": {
    "tags": []
   },
   "outputs": [
    {
     "data": {
      "text/plain": [
       "'1_|_2_|_3'"
      ]
     },
     "execution_count": 39,
     "metadata": {},
     "output_type": "execute_result"
    }
   ],
   "source": [
    "\"_|_\".join([str(x) for x in (1,2,3)]) "
   ]
  },
  {
   "cell_type": "code",
   "execution_count": 41,
   "id": "9505019b-e22f-47fe-8178-eaa5a1832cdf",
   "metadata": {},
   "outputs": [
    {
     "data": {
      "text/plain": [
       "['1', '2', '3']"
      ]
     },
     "execution_count": 41,
     "metadata": {},
     "output_type": "execute_result"
    }
   ],
   "source": [
    "[str(x) for x in (1,2,3)]"
   ]
  },
  {
   "cell_type": "code",
   "execution_count": 43,
   "id": "58b7d2fc-c20b-4903-b8b1-22cd770fa86a",
   "metadata": {},
   "outputs": [
    {
     "data": {
      "text/plain": [
       "<generator object <genexpr> at 0x000002239A49F9F0>"
      ]
     },
     "execution_count": 43,
     "metadata": {},
     "output_type": "execute_result"
    }
   ],
   "source": [
    "(str(x) for x in (1,2,3))"
   ]
  },
  {
   "cell_type": "code",
   "execution_count": 40,
   "id": "6c99d3b0-de5b-4eca-9bf8-8d9845374807",
   "metadata": {},
   "outputs": [
    {
     "data": {
      "text/plain": [
       "'1_|_2_|_3'"
      ]
     },
     "execution_count": 40,
     "metadata": {},
     "output_type": "execute_result"
    }
   ],
   "source": [
    "\"_|_\".join(str(x) for x in (1,2,3)) "
   ]
  },
  {
   "cell_type": "markdown",
   "id": "49dc321e-f938-41b1-b423-7b2f949890e7",
   "metadata": {},
   "source": [
    "### Generator-Funktion in der lambda-Funktion welche wiederum in der sorted-Funktion eingesetzt wird "
   ]
  },
  {
   "cell_type": "markdown",
   "id": "3da013bc-08a5-4d21-949d-66fd21b67ada",
   "metadata": {},
   "source": [
    "Siehe auch [sorted](sorted.ipynb)"
   ]
  },
  {
   "cell_type": "markdown",
   "id": "4fd1c87f-8ee5-4056-9765-e2cb36db6f45",
   "metadata": {},
   "source": [
    "Siehe auch [lambda](lambda.ipynb)"
   ]
  },
  {
   "cell_type": "markdown",
   "id": "1296a94e-5fe1-4d58-b0c3-dc93a8b5800d",
   "metadata": {},
   "source": [
    "Aufgabe: Schreibe einen Code um eine Liste von Wörtern nach der Anzahl der Buchstaben \"a\" in jedem Wort zu sortieren."
   ]
  },
  {
   "cell_type": "code",
   "execution_count": 15,
   "id": "993d4f1f-f982-4fa7-9b67-4acd81aa7214",
   "metadata": {},
   "outputs": [
    {
     "name": "stdout",
     "output_type": "stream",
     "text": [
      "['cherry', 'apple', 'avocado', 'banana']\n"
     ]
    }
   ],
   "source": [
    "# Funktion zur Zählung der Buchstaben \"a\" in einem Wort\n",
    "a = lambda x: sum(1 for letter in x if letter == 'a')\n",
    "\n",
    "# Liste von Wörtern\n",
    "words = [\"banana\", \"apple\", \"cherry\", \"avocado\"]\n",
    "\n",
    "# Sortieren der Liste nach der Anzahl der Buchstaben \"a\" in jedem Wort\n",
    "sorted_words = sorted(words, key=a)\n",
    "\n",
    "print(sorted_words)  # Ausgabe: ['cherry', 'apple', 'avocado', 'banana']\n"
   ]
  },
  {
   "cell_type": "markdown",
   "id": "e9027a67-99fc-4a59-a233-296d13169c09",
   "metadata": {},
   "source": [
    "Ok, dröseln wir das einmal auseinander um es besser zu verstehen."
   ]
  },
  {
   "cell_type": "markdown",
   "id": "39a72746-8154-4a12-a9ac-1baafd51828f",
   "metadata": {},
   "source": [
    "Die Funktion: `1 for letter in x if letter == 'a'` ist eine Generator-Funktion. Sie funktioniert ähnlich wie eine List Comprehension."
   ]
  },
  {
   "cell_type": "markdown",
   "id": "98c831c5-520f-426e-9c31-0b0e0346f291",
   "metadata": {},
   "source": [
    "Was macht dieser Generator?"
   ]
  },
  {
   "cell_type": "code",
   "execution_count": 9,
   "id": "a3f8d1b0-fbad-4122-8fb5-a66b57211833",
   "metadata": {},
   "outputs": [
    {
     "data": {
      "text/plain": [
       "{'banana': 0, 'apple': 0, 'cherry': 0, 'avocado': 0}"
      ]
     },
     "execution_count": 9,
     "metadata": {},
     "output_type": "execute_result"
    }
   ],
   "source": [
    "words = [\"banana\", \"apple\", \"cherry\", \"avocado\"]\n",
    "dict1 = {}\n",
    "\n",
    "for index, value in enumerate(words):\n",
    "    dict1[words[index]] = sum(1 for letter in words if letter == 'a')\n",
    "\n",
    "dict1"
   ]
  },
  {
   "cell_type": "code",
   "execution_count": 5,
   "id": "5aa21343-2663-4398-ab0e-356fc28110c8",
   "metadata": {},
   "outputs": [
    {
     "data": {
      "text/plain": [
       "0"
      ]
     },
     "execution_count": 5,
     "metadata": {},
     "output_type": "execute_result"
    }
   ],
   "source": [
    "sum(letter for letter in words if letter == 'a')"
   ]
  },
  {
   "cell_type": "markdown",
   "id": "508047d6-2fb7-4771-940d-374d58b9862e",
   "metadata": {},
   "source": [
    "[Start Pythontutor](https://pythontutor.com/visualize.html#code=def%20generator_1%28stop%29%3A%20%0A%20%20%20%20for%20elem%20in%20range%28stop%29%3A%20%0A%20%20%20%20%20%20%20%20yield%20elem**2%20%23%20Statt%20return%20steht%20hier%20yield%0A%0A%0A%0A%0Amy_gen%20%3D%20generator_1%284%29%20%20%23%20mein%20iter%0A%0Awhile%20True%3A%20%0A%20%20%20%20%0A%20%20%20%20try%3A%20%0A%20%20%20%20%20%20%20%20print%28my_gen.__next__%28%29%29%0A%20%20%20%20except%20StopIteration%3A%0A%20%20%20%20%20%20%20%20break%0A%20%20%20%20%0Aprint%28%22mein%20leben%20geht%20weiter%22%29%0A%20%20%20%20%0A%20%20%20%20%0A%20%20%20%20%0A%22%22%22%0Amy_gen%20%3D%20generator_1%284%29%0A%0Aprint%28my_gen.__next__%28%29%29%0Aprint%28next%28my_gen%29%29%0Aprint%28my_gen.__next__%28%29%29%0Aprint%28next%28my_gen%29%29%0Aprint%28my_gen.__next__%28%29%29%0Aprint%28next%28my_gen%29%29%0A%22%22%22&cumulative=false&heapPrimitives=nevernest&mode=edit&origin=opt-frontend.js&py=311&rawInputLstJSON=%5B%5D&textReferences=falsem)"
   ]
  },
  {
   "cell_type": "markdown",
   "id": "3608ef1f-2a41-4f53-b790-efffe7831d45",
   "metadata": {},
   "source": [
    "Wie funktioniert ein Generator?"
   ]
  },
  {
   "cell_type": "code",
   "execution_count": 1,
   "id": "f0016176-a577-4f43-8a6e-4753497bb24c",
   "metadata": {},
   "outputs": [
    {
     "name": "stdout",
     "output_type": "stream",
     "text": [
      "0\n",
      "1\n",
      "4\n",
      "9\n",
      "mein leben geht weiter\n"
     ]
    }
   ],
   "source": [
    "def generator_1(stop): \n",
    "    for elem in range(stop): \n",
    "        yield elem**2 # Statt return steht hier yield\n",
    "\n",
    "\n",
    "\n",
    "\n",
    "my_gen = generator_1(4)  # mein iter\n",
    "\n",
    "while True: \n",
    "    \n",
    "    try: \n",
    "        print(my_gen.__next__())\n",
    "    except StopIteration:\n",
    "        break\n",
    "    \n",
    "print(\"mein leben geht weiter\")"
   ]
  },
  {
   "cell_type": "code",
   "execution_count": null,
   "id": "7fc9bc27-9557-4f38-9787-553c8203b955",
   "metadata": {},
   "outputs": [],
   "source": [
    "funktion vs. funktion()\n",
    "\n",
    "funktion übergeben vs. funkton aufrufen"
   ]
  },
  {
   "cell_type": "markdown",
   "id": "88b71999-335e-4652-ac57-a3d314329976",
   "metadata": {},
   "source": [
    "[Zwei Bespiele Generator / Iterator vergleich zur while schleife (for schleife)](https://pythontutor.com/render.html#code=def%20generator_1%28n%29%3A%20%0A%20%20%20%20for%20i%20in%20range%28n%29%3A%20%0A%20%20%20%20%20%20%20%20yield%20i%0A%20%20%20%20%0A%0Agen_var%20%3D%20%20generator_1%285%29%0A%0Aprint%28next%28gen_var%29%29%0Aprint%28next%28gen_var%29%29%0Aprint%28next%28gen_var%29%29%0Aprint%28next%28gen_var%29%29%0Aprint%28next%28gen_var%29%29%0A%23print%28next%28gen_var%29%29%0A%23print%28next%28gen_var%29%29%0A%0A%0A%23%20For%20Schleife%20Nachbau%20durch%20While%20Schleife%0A%0A%231.%20Erstelle%20den%20generator%20%3D%3E%20__iter__%28%29%0Agen_var%20%3D%20%20generator_1%285%29%0A%23%20Endlosschleife%20die%20immer%20wieder%20__next__%28%29%20auf%20dem%20generator%0A%0Awhile%20True%3A%20%0A%20%20%20%20try%3A%20%0A%20%20%20%20%20%20%20%20print%28gen_var.__next__%28%29%29%0A%20%20%20%20except%20StopIteration%3A%20%0A%20%20%20%20%20%20%20%20break%20%23%20Wenn%20stopiteration%20Fehler%20auftritt%20,%20beseitige%20den%20%0A%20%20%20%20%23%20Fehler%20und%20breche%20aus%20der%20While%20Schleife%20raus%0A%20%20%20%20%0Aprint%28%22ENde%22%29%0A%0A%23%20Exakt%20gleiches%20Verhalten%20wie%0A%0Afor%20elem%20in%20%20generator_1%285%29%3A%0A%20%20%20%20print%28elem%29&cumulative=false&curInstr=110&heapPrimitives=nevernest&mode=display&origin=opt-frontend.js&py=311&rawInputLstJSON=%5B%5D&textReferences=false)"
   ]
  },
  {
   "cell_type": "markdown",
   "id": "49f24b94-330f-49b5-a293-55f6f28d7c14",
   "metadata": {},
   "source": [
    "[Generator](https://pythontutor.com/visualize.html#code=def%20my_func%28a%29%3A%0A%20%20%20%20%0A%20%20%20%20return%20a*42%0A%20%20%20%20%0A%20%20%20%20%0Adef%20my_func2%28a%29%3A%0A%20%20%20%20%0A%20%20%20%20for%20elem%20in%20a%3A%20%0A%20%20%20%20%20%20%20%20return%20elem*42%0A%20%20%20%20%20%20%20%20%0A%20%20%20%20%20%20%20%20%0Adef%20my_func3_aka_generator_creator%28a%29%3A%0A%20%20%20%20%0A%20%20%20%20for%20elem%20in%20a%3A%20%0A%20%20%20%20%20%20%20%20yield%20elem*2%0A%20%20%20%20%20%20%20%20%0Ares%20%3D%20my_func%282%29%0Ares1%20%3D%20my_func2%28%22Hallo%22%29%0A%0A%23%20Ergebnis%20des%20Aufrufs%20ist%20eine%20generator%20instance%20die%20Funktion%20wird%20%0A%23%20der%20Funktionsk%C3%B6rper%20mit%20der%20for%20schleife%20wird%20noch%20nicht%20ausgef%C3%BChrt%0Amy_gen%20%3D%20my_func3_aka_generator_creator%28%22Hallo%22%29%0A%0Afor%20elem%20in%20my_gen%3A%20%0A%20%20%20%20print%28elem%29%0A%20%20%20%20%0A%23%20Generators%20werden%20verbraucht%0Aleere_liste%20%3D%20list%28my_gen%29%0Amy_gen2%20%3D%20my_func3_aka_generator_creator%28%22Hallo%22%29%0Aliste_mit_alle%20%3D%20list%28my_gen2%29%0Aliste_flasch_leere%3D%20list%28my_gen2%29%0A%0A%0A&cumulative=false&heapPrimitives=nevernest&mode=edit&origin=opt-frontend.js&py=311&rawInputLstJSON=%5B%5D&textReferences=false)"
   ]
  },
  {
   "cell_type": "markdown",
   "id": "c29caa5f-23f2-43a5-adb0-bd979193b94d",
   "metadata": {},
   "source": [
    "[for_schleife ist Arbeitet mit Generator](https://pythontutor.com/visualize.html#code=def%20generator_creator%28a%29%3A%0A%20%20%20%20%0A%20%20%20%20for%20elem%20in%20a%3A%20%0A%20%20%20%20%20%20%20%20yield%20elem*2%0A%0A%0Amy_gen%0A%0A%0A%0A%22%22%22%0Amy_gen%20%3D%20generator_creator%28%22Hallo%22%29%0A%0Aa%20%3D%20my_gen.__next__%28%29%0Ab%20%3D%20next%28my_gen%29%0Ac%20%3D%20next%28my_gen%29%0Ad%20%3D%20my_gen.__next__%28%29%0Ae%20%3D%20my_gen.__next__%28%29%0Af%20%3D%20next%28my_gen%29%0A%22%22%22%0Amy_gen%20%3D%20generator_creator%28%22Hallo%22%29%0A%0Awhile%20True%3A%20%0A%20%20%20%20%0A%20%20%20%20try%3A%20%0A%20%20%20%20%20%20%20%20print%28next%28my_gen%29%29%0A%20%20%20%20except%3A%20%0A%20%20%20%20%20%20%20%20print%28%22Kein%20neues%20Element%20mehr%20im%20generator%22%29%0A%20%20%20%20%20%20%20%20break&cumulative=false&heapPrimitives=nevernest&mode=edit&origin=opt-frontend.js&py=311&rawInputLstJSON=%5B%5D&textReferences=false)"
   ]
  },
  {
   "cell_type": "code",
   "execution_count": null,
   "id": "52e419bd-d05f-49ee-a784-43857f77fd76",
   "metadata": {},
   "outputs": [],
   "source": []
  }
 ],
 "metadata": {
  "kernelspec": {
   "display_name": "Python 3 (ipykernel)",
   "language": "python",
   "name": "python3"
  },
  "language_info": {
   "codemirror_mode": {
    "name": "ipython",
    "version": 3
   },
   "file_extension": ".py",
   "mimetype": "text/x-python",
   "name": "python",
   "nbconvert_exporter": "python",
   "pygments_lexer": "ipython3",
   "version": "3.12.4"
  }
 },
 "nbformat": 4,
 "nbformat_minor": 5
}
