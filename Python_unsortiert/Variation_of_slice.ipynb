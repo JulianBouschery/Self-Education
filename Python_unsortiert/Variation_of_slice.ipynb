{
 "cells": [
  {
   "cell_type": "markdown",
   "id": "c7c9eec4-f388-427f-a5df-225ad5d5c30b",
   "metadata": {},
   "source": [
    "[Zurück zum Inhaltsverzeichnis](_Inhaltsverzeichnis_.ipynb)"
   ]
  },
  {
   "cell_type": "markdown",
   "id": "3a257ef7-99ad-44b0-9320-582ee7b37db4",
   "metadata": {},
   "source": [
    "Syntax:\n",
    "\n",
    "`sequenz` `[` `Start` `:` `Stop` `:` `Step` `]` \n",
    "\n",
    "Das Stop ist IMMER EXKLUSIV!!! Wir hören VOR stop auf."
   ]
  },
  {
   "cell_type": "markdown",
   "id": "36b50cad-c1e0-418f-8c38-410dbe6f804e",
   "metadata": {},
   "source": [
    "# Übersicht unterschiedlicher Variationen eines Slice"
   ]
  },
  {
   "cell_type": "markdown",
   "id": "59a5b397-fbbd-4096-8d0e-2b7a399b29d6",
   "metadata": {},
   "source": [
    "### [+Start : +Stop < S : +Step] "
   ]
  },
  {
   "cell_type": "code",
   "execution_count": 1,
   "id": "dbec2855-b7fd-4883-b20c-e15eeb0216e7",
   "metadata": {},
   "outputs": [
    {
     "data": {
      "text/plain": [
       "['B']"
      ]
     },
     "execution_count": 1,
     "metadata": {},
     "output_type": "execute_result"
    }
   ],
   "source": [
    "my_list = [\"A\", \"B\", \"C\", \"D\", \"E\"]\n",
    "my_list[1:3:2]"
   ]
  },
  {
   "cell_type": "markdown",
   "id": "ee8c00c0-e47d-4221-aecc-17b08c7ec280",
   "metadata": {},
   "source": [
    "Wir stellen uns den Zahlenstrahl vor:\n",
    "```python\n",
    "\"A\", \"B\", \"C\", \"D\", \"E\",\n",
    " 0    1    2  | 3    4 \n",
    "-5   -4   -3   -2   -1 # von Hinten gezählt \n",
    "      1 ---> RECHTS    \n",
    "     hört vor | # DAS VORZEICHEN BESTIMMT VON WO GEZÄHLT WIRD\n",
    "```\n",
    "Beginne bei Index 1, gehen in 2er-Schritten nach RECHTS und höre VOR der 3 auf."
   ]
  },
  {
   "cell_type": "markdown",
   "id": "f67a60fd-c43f-443e-986d-24615c331711",
   "metadata": {},
   "source": [
    "### [-Start : +Stop < S : +Step]"
   ]
  },
  {
   "cell_type": "code",
   "execution_count": 21,
   "id": "69b05e26-ae2b-4b95-84f8-ebcc28456f5c",
   "metadata": {
    "tags": []
   },
   "outputs": [
    {
     "data": {
      "text/plain": [
       "[]"
      ]
     },
     "execution_count": 21,
     "metadata": {},
     "output_type": "execute_result"
    }
   ],
   "source": [
    "my_list = [\"A\", \"B\", \"C\", \"D\", \"E\"]\n",
    "my_list[-1:3:1] "
   ]
  },
  {
   "cell_type": "markdown",
   "id": "968b5f9f-f291-422f-8999-ceb078826080",
   "metadata": {},
   "source": [
    "Wir stellen uns den Zahlenstrahl vor:\n",
    "```python\n",
    "\"A\", \"B\", \"C\", \"D\", \"E\",\n",
    " 0    1    2  | 3    4 \n",
    "-5   -4   -3   -2   -1 # von Hinten gezählt \n",
    "     hört vor |     -1 ---> RECHTS    \n",
    "              | # DAS VORZEICHEN BESTIMMT VON WO GEZÄHLT WIRD\n",
    "```\n",
    "Beginne bei Index -1 (dem letzten Element), gehen in 1ser-Schritten nach RECHTS und höre VOR der 3 auf (wo wir nie ankommen)."
   ]
  },
  {
   "cell_type": "code",
   "execution_count": 20,
   "id": "d2ac753f-106f-4cd2-aae1-50b288c8459d",
   "metadata": {},
   "outputs": [
    {
     "data": {
      "text/plain": [
       "['B', 'C']"
      ]
     },
     "execution_count": 20,
     "metadata": {},
     "output_type": "execute_result"
    }
   ],
   "source": [
    "my_list = [\"A\", \"B\", \"C\", \"D\", \"E\"]\n",
    "my_list[-4:3:1] "
   ]
  },
  {
   "cell_type": "markdown",
   "id": "26e3444e-222b-4f6d-b3aa-24a66f1c393a",
   "metadata": {},
   "source": [
    "Wir stellen uns den Zahlenstrahl vor:\n",
    "```python\n",
    "\"A\", \"B\", \"C\", \"D\", \"E\",\n",
    " 0    1    2  | 3    4 \n",
    "-5   -4   -3   -2   -1 # von Hinten gezählt   \n",
    "     -4 ---> RECHTS\n",
    "     hört vor | # DAS VORZEICHEN BESTIMMT VON WO GEZÄHLT WIRD\n",
    "```\n",
    "Beginne bei Index -4 an, gehe in 1ser-Schritten nach RECHTS und höre VOR der 3 auf."
   ]
  },
  {
   "cell_type": "code",
   "execution_count": 19,
   "id": "2a11a89f-e696-44d2-ad54-0d74a6c8d000",
   "metadata": {},
   "outputs": [
    {
     "data": {
      "text/plain": [
       "['A', 'B', 'C']"
      ]
     },
     "execution_count": 19,
     "metadata": {},
     "output_type": "execute_result"
    }
   ],
   "source": [
    "my_list = [\"A\", \"B\", \"C\", \"D\", \"E\"]\n",
    "my_list[-50:3:1]"
   ]
  },
  {
   "cell_type": "markdown",
   "id": "9c7ee349-c97d-4312-8fee-6620484c3ed7",
   "metadata": {
    "jp-MarkdownHeadingCollapsed": true
   },
   "source": [
    "Wir stellen uns den Zahlenstrahl vor:\n",
    "```python\n",
    "              \"A\", \"B\", \"C\", \"D\", \"E\"\n",
    "               0    1    2  | 3    4    \n",
    "-50, ... -6,  -5   -4   -3   -2   -1 # Von Hinten gezählt\n",
    "-50 ---> RECHTS    hört vor | # DAS VORZEICHEN BESTIMMT VON WO GEZÄHLT WIRD\n",
    "```\n",
    "Beginne bei Index -50, gehe in 1ser-Schritten nach RECHTS und höre VOR der 3 auf."
   ]
  },
  {
   "cell_type": "markdown",
   "id": "ad9816e6-0e2c-456b-bdca-30d03c96ba3e",
   "metadata": {},
   "source": [
    "### [-Start : +Stop > S : +Step]"
   ]
  },
  {
   "cell_type": "code",
   "execution_count": 22,
   "id": "9671ac28-57ed-4d8d-a1bc-ef3ebca11346",
   "metadata": {},
   "outputs": [
    {
     "data": {
      "text/plain": [
       "['A', 'B', 'C', 'D', 'E']"
      ]
     },
     "execution_count": 22,
     "metadata": {},
     "output_type": "execute_result"
    }
   ],
   "source": [
    "my_list = [\"A\", \"B\", \"C\", \"D\", \"E\"]\n",
    "my_list[-50:1000000:1]"
   ]
  },
  {
   "cell_type": "markdown",
   "id": "4199df71-bc67-4f57-92c2-f37da308b1e6",
   "metadata": {},
   "source": [
    "### [-Start : +Stop > S : LEER]"
   ]
  },
  {
   "cell_type": "code",
   "execution_count": 10,
   "id": "5bbe8bbd-38f1-4d78-9e62-da9dec346bfa",
   "metadata": {},
   "outputs": [
    {
     "data": {
      "text/plain": [
       "['A', 'B', 'C', 'D', 'E']"
      ]
     },
     "execution_count": 10,
     "metadata": {},
     "output_type": "execute_result"
    }
   ],
   "source": [
    "my_list = [\"A\", \"B\", \"C\", \"D\", \"E\"]\n",
    "my_list[-50:1000000] # Step ---> Default +1\n"
   ]
  },
  {
   "cell_type": "markdown",
   "id": "60482e01-7bdb-4220-8160-f7a447b2ae28",
   "metadata": {},
   "source": [
    "Wir stellen uns den Zahlenstrahl vor:\n",
    "```python\n",
    "              \"A\", \"B\", \"C\", \"D\", \"E\", \n",
    "               0    1    2    3    4    5, ... 999999, | 1000000 \n",
    "-50, ... -6,  -5   -4   -3   -2   -1   # von Hinten gezählt\n",
    "-50 ---> RECHTS                               hört vor | # DAS VORZEICHEN BESTIMMT VON WO GEZÄHLT WIRD\n",
    "```\n",
    "\n",
    "Beginn bei -50, gehe in 1ser-Schritten nach RECHTS und höre VOR der 1000000 auf. Doch unser Iterable ist irgendwann zu ende und Python bricht ab."
   ]
  },
  {
   "cell_type": "markdown",
   "id": "3ec31b9b-50f5-4f57-a8c8-1662f8bef365",
   "metadata": {},
   "source": [
    "### [-Start : +Stop < S : -Step]"
   ]
  },
  {
   "cell_type": "code",
   "execution_count": 3,
   "id": "e214aaf7-3a54-4079-81ad-dfc1f6176166",
   "metadata": {},
   "outputs": [
    {
     "data": {
      "text/plain": [
       "[]"
      ]
     },
     "execution_count": 3,
     "metadata": {},
     "output_type": "execute_result"
    }
   ],
   "source": [
    "my_list[-50:3:-3]"
   ]
  },
  {
   "cell_type": "markdown",
   "id": "7ab2be0a-e766-4cfa-8368-0241d842f166",
   "metadata": {},
   "source": [
    "Wir stellen uns den Zahlenstrahl vor:\n",
    "```python\n",
    "              \"A\", \"B\", \"C\", \"D\", \"E\", \n",
    "               0    1    2  | 3    4    5,  \n",
    "-50, ... -6,  -5   -4   -3   -2   -1   # von Hinten gezählt\n",
    "-50 <--- LINKS     hört vor | # DAS VORZEICHEN BESTIMMT VON WO GEZÄHLT WIRD\n",
    "```\n",
    "Beginn bei -50, gehe in 3er-Schritten nach LINKS und hör VOR der 3 auf (wo er nie hinkommt)."
   ]
  },
  {
   "cell_type": "markdown",
   "id": "8e88c508-882e-4a04-8269-3772d6eef05a",
   "metadata": {},
   "source": [
    "### [-Start : +Stop > S : -Step]"
   ]
  },
  {
   "cell_type": "code",
   "execution_count": 26,
   "id": "798a7571-0546-433c-beb4-db86a2fe0e9f",
   "metadata": {},
   "outputs": [
    {
     "data": {
      "text/plain": [
       "[]"
      ]
     },
     "execution_count": 26,
     "metadata": {},
     "output_type": "execute_result"
    }
   ],
   "source": [
    "my_list[-50:1000000:-3]"
   ]
  },
  {
   "cell_type": "markdown",
   "id": "8d63c069-4b01-45ef-867a-c57ed564c67d",
   "metadata": {},
   "source": [
    "Wir stellen uns den Zahlenstrahl vor:\n",
    "```python\n",
    "              \"A\", \"B\", \"C\", \"D\", \"E\", \n",
    "               0    1    2    3    4    5, ... 999999, | 1000000\n",
    "-50, ... -6,  -5   -4   -3   -2   -1   # von Hinten gezählt\n",
    "-50 <--- LINKS                                hört vor | # DAS VORZEICHEN BESTIMMT VON WO GEZÄHLT WIRD\n",
    "```\n",
    "Beginn bei -50, gehen in 3er-Schritten nach LINKS und hören VOR der 1000000 auf (wo er nie hinkommt)."
   ]
  },
  {
   "cell_type": "code",
   "execution_count": 10,
   "id": "e63477ca-f699-4c7d-bfdf-0f764ab42b86",
   "metadata": {},
   "outputs": [
    {
     "data": {
      "text/plain": [
       "[]"
      ]
     },
     "execution_count": 10,
     "metadata": {},
     "output_type": "execute_result"
    }
   ],
   "source": [
    "# Slice über das Ende der Liste hinaus:\n",
    "sliced_list5 = my_list[-50:1000000:-3]\n",
    "sliced_list5"
   ]
  },
  {
   "cell_type": "markdown",
   "id": "6708d20b-0dc5-436a-b47c-ed7a156a4f80",
   "metadata": {},
   "source": [
    "**Merken:**\n",
    "**Wenn der Start UND der Step negativ sind, bleibt die Liste LEER.**"
   ]
  },
  {
   "cell_type": "markdown",
   "id": "a7139898-b755-499c-8701-2610b281a725",
   "metadata": {},
   "source": [
    "Wenn ich schon -50€ habe kann ich nicht nicht an jedem Kiosk -3€ weiter ins Minus... (Konto ist gesperrt)"
   ]
  },
  {
   "cell_type": "markdown",
   "id": "6ce8b58a-fff1-41ec-adca-f7a3459dcf8f",
   "metadata": {},
   "source": [
    "**Und hier noch Philipps Merkregel:**"
   ]
  },
  {
   "cell_type": "markdown",
   "id": "de476d05-9676-455a-9198-868291ddc923",
   "metadata": {
    "tags": []
   },
   "source": [
    "Für einen nicht -leeren Slice muss\n",
    "wenn step > 0 ist start<stop sein\n",
    "wenn step < 0 ist start>stop sein\n",
    "\n",
    "BEI DIESER MERKREGEL => start und stop in POSITIVER NOTATION also Indizes größer = 0"
   ]
  },
  {
   "cell_type": "markdown",
   "id": "d430ca86-bc39-4e85-8188-63923dfb9b03",
   "metadata": {},
   "source": [
    "### [-Start : -Stop < S : -Step]"
   ]
  },
  {
   "cell_type": "code",
   "execution_count": null,
   "id": "fdaad3c0-2bd6-4b25-8e17-60af64d151f0",
   "metadata": {},
   "outputs": [],
   "source": []
  },
  {
   "cell_type": "markdown",
   "id": "69cd5336-aae6-4180-8724-8c01ed8269a4",
   "metadata": {},
   "source": [
    "### [-Start : -Stop < S : LEER]"
   ]
  },
  {
   "cell_type": "code",
   "execution_count": 8,
   "id": "8c07a2b7-a2a0-4266-9f33-600194507959",
   "metadata": {
    "scrolled": true,
    "tags": []
   },
   "outputs": [
    {
     "data": {
      "text/plain": [
       "['C', 'D']"
      ]
     },
     "execution_count": 8,
     "metadata": {},
     "output_type": "execute_result"
    }
   ],
   "source": [
    "my_list = [\"A\", \"B\", \"C\", \"D\", \"E\"]\n",
    "my_list[-3:-1]                                "
   ]
  },
  {
   "cell_type": "markdown",
   "id": "8c1da63e-3514-4bc3-a330-0e75b72c1554",
   "metadata": {},
   "source": [
    "Wir stellen uns den Zahlenstrahl vor:\n",
    "```python\n",
    "\"A\", \"B\", \"C\", \"D\", \"E\", \n",
    " 0    1    2    3    4  \n",
    "-5   -4   -3   -2  |-1   # von Hinten gezählt\n",
    "          -3        \n",
    "          hört vor | # DAS VORZEICHEN BESTIMMT VON WO GEZÄHLT WIRD\n",
    "```\n",
    "Beginn bei -3, gehen in 1ser-Schritten nach RECHTS (Default-Wert) und hören VOR der -1 auf.\n"
   ]
  },
  {
   "cell_type": "markdown",
   "id": "ea15b877-2ef4-4d0d-b029-36caae9870b0",
   "metadata": {},
   "source": [
    "### [LEER : LEER : -Step]"
   ]
  },
  {
   "cell_type": "code",
   "execution_count": 3,
   "id": "d70a6e40-8c49-40dc-9d6a-b6d1d9b235af",
   "metadata": {},
   "outputs": [
    {
     "data": {
      "text/plain": [
       "['E', 'C', 'A']"
      ]
     },
     "execution_count": 3,
     "metadata": {},
     "output_type": "execute_result"
    }
   ],
   "source": [
    "my_list = [\"A\", \"B\", \"C\", \"D\", \"E\"]\n",
    "my_list[::-2]  "
   ]
  },
  {
   "cell_type": "markdown",
   "id": "8e76d35a-513b-4b1b-a69b-a8f5c1c87af1",
   "metadata": {},
   "source": [
    "Wir stellen uns den Zahlenstrahl vor:\n",
    "```python\n",
    "              \"A\", \"B\", \"C\", \"D\", \"E\", \n",
    "               0    1    2    3    4    \n",
    "              -5   -4   -3   -2   -1   # von Hinten gezählt\n",
    "    <--   -2   0 = \"Start\"        -1 = Neuer Start!!!\n",
    "\n",
    "```\n",
    "Start ist leer. Stop ist leer. Und der Step ist -2. Wenn der Start leer ist bedeutet das, wir gehen von Index 0 nach LINKS und landen am ENDE der Liste bei -1!!! \n",
    "Beginn bei -1, gehe in 2er-Schritten nach LINKS und hören nicht auf, bis du alle Elemente hast."
   ]
  },
  {
   "cell_type": "code",
   "execution_count": null,
   "id": "cbedd47d-998a-47d7-ac42-a3669081f146",
   "metadata": {},
   "outputs": [],
   "source": []
  },
  {
   "cell_type": "code",
   "execution_count": null,
   "id": "ba1c906e-13eb-4da1-871e-ba988ddf1156",
   "metadata": {},
   "outputs": [],
   "source": []
  },
  {
   "cell_type": "code",
   "execution_count": null,
   "id": "0a89bf6f-3182-4361-9883-7bda545954c9",
   "metadata": {},
   "outputs": [],
   "source": []
  },
  {
   "cell_type": "markdown",
   "id": "85c98baa-5abf-4f02-b1a4-95515d7791ab",
   "metadata": {},
   "source": [
    "### [-Start : -Stop < S : LEER]"
   ]
  },
  {
   "cell_type": "code",
   "execution_count": null,
   "id": "6e9c63a0-ecdb-497c-96f4-ca0e0ecc223e",
   "metadata": {},
   "outputs": [],
   "source": []
  },
  {
   "cell_type": "code",
   "execution_count": null,
   "id": "0caeb968-ab6a-4e2a-87f2-e3a252a41a45",
   "metadata": {},
   "outputs": [],
   "source": []
  },
  {
   "cell_type": "code",
   "execution_count": null,
   "id": "489dfb27-b24b-4264-b335-ebf46f330546",
   "metadata": {},
   "outputs": [],
   "source": []
  },
  {
   "cell_type": "code",
   "execution_count": null,
   "id": "cf411ab4-3c53-43f7-965c-9454d4f7607f",
   "metadata": {},
   "outputs": [],
   "source": []
  }
 ],
 "metadata": {
  "kernelspec": {
   "display_name": "Python 3 (ipykernel)",
   "language": "python",
   "name": "python3"
  },
  "language_info": {
   "codemirror_mode": {
    "name": "ipython",
    "version": 3
   },
   "file_extension": ".py",
   "mimetype": "text/x-python",
   "name": "python",
   "nbconvert_exporter": "python",
   "pygments_lexer": "ipython3",
   "version": "3.12.3"
  }
 },
 "nbformat": 4,
 "nbformat_minor": 5
}
