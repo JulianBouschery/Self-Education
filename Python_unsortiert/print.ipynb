{
 "cells": [
  {
   "cell_type": "markdown",
   "id": "fd5cf1d1-efcc-4136-afc3-2f0ff6423064",
   "metadata": {},
   "source": [
    "[Zurück zum Inhaltsverzeichnis](_Inhaltsverzeichnis_.ipynb)"
   ]
  },
  {
   "cell_type": "markdown",
   "id": "dbda33be-ce46-4e2c-a7f9-87941438fe22",
   "metadata": {},
   "source": [
    "Siehe auch:"
   ]
  },
  {
   "cell_type": "markdown",
   "id": "6726d66e-f417-40fb-83eb-7f7e85467e38",
   "metadata": {},
   "source": [
    "[END und Escape-Charakter](end_and_esc.ipynb)"
   ]
  },
  {
   "cell_type": "markdown",
   "id": "0099990c-90ff-47a6-b1a0-d1ba419e1a0a",
   "metadata": {},
   "source": [
    "## Die print() Funktion (checked)"
   ]
  },
  {
   "cell_type": "markdown",
   "id": "1105d685-ffef-4213-a976-4f01abe6f0e0",
   "metadata": {},
   "source": [
    "\n",
    "- Was passiert? (Funktion erklären)\n",
    "- Was ist das? (Definition formulieren)\n",
    "- Warum / Wie funktioniert das? (Hintergründe und Details)                                  \n",
    "  All, das Hand von sehr vielen Beispielen erklären"
   ]
  },
  {
   "cell_type": "markdown",
   "id": "3a759f61-2c82-43e3-beaa-72712b939bc0",
   "metadata": {},
   "source": [
    "Die `print()`-Funktion ermöglicht es uns, Ergebnisse in Python zu drucken. Meist ist das Ziel die Konsole."
   ]
  },
  {
   "cell_type": "markdown",
   "id": "4a9bb3f1-6260-46e8-afa5-de97663601a2",
   "metadata": {},
   "source": [
    "Beispiele:"
   ]
  },
  {
   "cell_type": "code",
   "execution_count": 2,
   "id": "6e5777e2-fabf-41b0-a1aa-1ab1d73d043d",
   "metadata": {},
   "outputs": [
    {
     "name": "stdout",
     "output_type": "stream",
     "text": [
      "\n"
     ]
    }
   ],
   "source": [
    "print() # Eine leer print()-FunKtion gibt eine Leerzeile (wie Enter)"
   ]
  },
  {
   "cell_type": "code",
   "execution_count": 10,
   "id": "bec5b818-c239-4538-bf3a-86af6fc7952e",
   "metadata": {},
   "outputs": [
    {
     "name": "stdout",
     "output_type": "stream",
     "text": [
      "Hallo\n"
     ]
    }
   ],
   "source": [
    "print(\"Hallo\")"
   ]
  },
  {
   "cell_type": "code",
   "execution_count": 1,
   "id": "fe2b1465-630a-4814-a2f1-83ab89018ea1",
   "metadata": {
    "scrolled": true
   },
   "outputs": [
    {
     "ename": "SyntaxError",
     "evalue": "Missing parentheses in call to 'print'. Did you mean print(...)? (2114740959.py, line 2)",
     "output_type": "error",
     "traceback": [
      "\u001b[1;36m  Cell \u001b[1;32mIn[1], line 2\u001b[1;36m\u001b[0m\n\u001b[1;33m    print \"Hallo\"\u001b[0m\n\u001b[1;37m    ^\u001b[0m\n\u001b[1;31mSyntaxError\u001b[0m\u001b[1;31m:\u001b[0m Missing parentheses in call to 'print'. Did you mean print(...)?\n"
     ]
    }
   ],
   "source": [
    "# Um die Print funktion Aufzurufen/Invocation/call => muss man () nach dem Funktionsnamen schreiben\n",
    "print \"Hallo\""
   ]
  },
  {
   "cell_type": "markdown",
   "id": "b94257d9-3faf-402a-a202-67f769c83045",
   "metadata": {},
   "source": [
    "Merke schon einmal: \n",
    "\n",
    "Funktionen sind `callable` man kann diese aufrufen. Dazu nennt man den Namen den der Funktion und fügt Klammern direkt hinten dran. Zwischen den Klammern kann man dann, 0 bis sehr viele Argumente dazupacken.\n",
    "\n",
    "`name_der_funktion` `(` `argument1` `,` `argument2` `)`"
   ]
  },
  {
   "cell_type": "code",
   "execution_count": 2,
   "id": "1b9f8357-61c9-44da-8597-3d0d4bc03e3c",
   "metadata": {
    "scrolled": true
   },
   "outputs": [
    {
     "name": "stdout",
     "output_type": "stream",
     "text": [
      "Mit diesem Befehl kann man das Programm dazu bringen, Text auszugeben.\n"
     ]
    }
   ],
   "source": [
    "print(\"Mit diesem Befehl kann man das Programm dazu bringen, Text auszugeben.\")"
   ]
  },
  {
   "cell_type": "code",
   "execution_count": 12,
   "id": "437470d3-1da2-4a8d-abbd-4c4023a49f8b",
   "metadata": {
    "scrolled": true
   },
   "outputs": [
    {
     "ename": "NameError",
     "evalue": "name 'abcdefg' is not defined",
     "output_type": "error",
     "traceback": [
      "\u001b[1;31m---------------------------------------------------------------------------\u001b[0m",
      "\u001b[1;31mNameError\u001b[0m                                 Traceback (most recent call last)",
      "Cell \u001b[1;32mIn[12], line 1\u001b[0m\n\u001b[1;32m----> 1\u001b[0m \u001b[38;5;28mprint\u001b[39m(\u001b[43mabcdefg\u001b[49m)\n",
      "\u001b[1;31mNameError\u001b[0m: name 'abcdefg' is not defined"
     ]
    }
   ],
   "source": [
    "print(abcdefg)"
   ]
  },
  {
   "cell_type": "markdown",
   "id": "05725c6b-b516-45ea-9673-496ec0486e2e",
   "metadata": {},
   "source": [
    "Hm... Damit scheint Python ein Problem zu haben. Warum erkläre ich an anderer Stelle."
   ]
  },
  {
   "cell_type": "code",
   "execution_count": 9,
   "id": "96bda993-1aa3-46a9-9b49-ae62a9c792d7",
   "metadata": {},
   "outputs": [
    {
     "name": "stdout",
     "output_type": "stream",
     "text": [
      "5+5\n"
     ]
    }
   ],
   "source": [
    "print(\"5+5\")"
   ]
  },
  {
   "cell_type": "code",
   "execution_count": 8,
   "id": "b4f57879-da25-45b8-819a-7e1250aa26a7",
   "metadata": {},
   "outputs": [
    {
     "name": "stdout",
     "output_type": "stream",
     "text": [
      "10\n"
     ]
    }
   ],
   "source": [
    "print(5+5)"
   ]
  },
  {
   "cell_type": "markdown",
   "id": "d3c4ace5-4611-41ca-abdd-1503cce30b6b",
   "metadata": {},
   "source": [
    "Beobachtung:                                     \n",
    "Sollange 5+5 in \"Anführungsstrichen\" geschrieben wird, druckt er nur den Text zwischen diesen Anführungsstrichen aus, egal was da drin steht. Warum es das macht? Mehr dazu im Kapitel \"Strings\".                                   \n",
    "\n",
    "Lässt man die \"Anführungsstriche\" weg haben die Zahlen eine andere Farbe und `print` druckt ein Ergebnis aus. Warum es das macht? Mehr dazu im Kapitel \"Mathe\".\n"
   ]
  },
  {
   "cell_type": "code",
   "execution_count": 64,
   "id": "f97d1b4e-9d80-4301-ab12-c84469cc5bf3",
   "metadata": {},
   "outputs": [
    {
     "name": "stdout",
     "output_type": "stream",
     "text": [
      "1\n"
     ]
    }
   ],
   "source": [
    "print(1)"
   ]
  },
  {
   "cell_type": "code",
   "execution_count": 65,
   "id": "dcdcd68b-f6b0-4544-95bd-dc025f1e08f7",
   "metadata": {
    "scrolled": true
   },
   "outputs": [
    {
     "name": "stdout",
     "output_type": "stream",
     "text": [
      "1 Hallo\n"
     ]
    }
   ],
   "source": [
    "print(1,\"Hallo\")"
   ]
  },
  {
   "cell_type": "code",
   "execution_count": 66,
   "id": "2a84e6bd-3e26-4298-ab69-27842b745010",
   "metadata": {
    "scrolled": true
   },
   "outputs": [
    {
     "name": "stdout",
     "output_type": "stream",
     "text": [
      "1 2 3 4 5 6 Hallo du\n"
     ]
    }
   ],
   "source": [
    "print(1,2,3,4,5,6,\"Hallo\",\"du\")"
   ]
  },
  {
   "cell_type": "markdown",
   "id": "aefb7312-30da-431f-b671-1a5cae9e23e1",
   "metadata": {},
   "source": [
    "Argumente nennt man die Werte die man beim Funktionsaufruf der Funktion in den Klammern übergibt. (Bzw. das was unten raus kommt.)\n",
    "\n",
    "Merke:\n",
    "1. Parameter bei ERSTELLUNG/DEFINITION der Funktion\n",
    "2. Argumente bei Aufruf/Invocation/Call der Funktion"
   ]
  },
  {
   "cell_type": "markdown",
   "id": "12573c64-2322-41dc-8940-78b05d917ecd",
   "metadata": {},
   "source": [
    "- Definiere neue Funktion => in Klammern stehen PARAMETER Namen"
   ]
  },
  {
   "cell_type": "code",
   "execution_count": 35,
   "id": "685a1cca-f6fa-4b19-a1b4-d74f04ed6587",
   "metadata": {},
   "outputs": [],
   "source": [
    "def my_func(PARAMETER1, PARAMETER2): # Wie genau das hier funktioniert ignorieren wir gerade mal...\n",
    "    print(locals())\n",
    "    print(PARAMETER1, PARAMETER2)"
   ]
  },
  {
   "cell_type": "code",
   "execution_count": 72,
   "id": "45f6462f-da02-4dc4-a10c-ecd2eb76b25f",
   "metadata": {},
   "outputs": [],
   "source": [
    "argument1 = \"Hallo\"\n",
    "argument2 = \"Du\""
   ]
  },
  {
   "cell_type": "markdown",
   "id": "5499ea2b-1210-4d87-8324-dbf555fa4636",
   "metadata": {},
   "source": [
    "- Aufruf einer bereits definierten Funktion => wir übergeben sogenannte Argumente"
   ]
  },
  {
   "cell_type": "code",
   "execution_count": 74,
   "id": "66535b44-a7b4-4d6c-ac3a-cd43c9302a50",
   "metadata": {
    "scrolled": true
   },
   "outputs": [
    {
     "name": "stdout",
     "output_type": "stream",
     "text": [
      "{'PARAMETER1': 'Hallo', 'PARAMETER2': 'Du'}\n",
      "Hallo Du\n"
     ]
    }
   ],
   "source": [
    "my_func(argument1, argument2)"
   ]
  },
  {
   "cell_type": "markdown",
   "id": "99731930-1e23-438b-ab25-64d68b88f9f2",
   "metadata": {},
   "source": [
    "Wichtig ist, dass man sieht, dass die die `Argumente` \"Hallo\" und \"Du\" in automatisch in die Formel eingesetzt werden."
   ]
  },
  {
   "cell_type": "markdown",
   "id": "40d4de82-1b4d-441e-a9fd-66a60edd00f4",
   "metadata": {},
   "source": [
    "## Details der `print`-Funktion:\n",
    "\n",
    "### Warum / Wie funktioniert das? (Hintergründe und Details)"
   ]
  },
  {
   "cell_type": "code",
   "execution_count": 8,
   "id": "295674f1-269f-421f-b39c-4b8499c3d123",
   "metadata": {
    "scrolled": true
   },
   "outputs": [
    {
     "data": {
      "text/plain": [
       "<function print(*args, sep=' ', end='\\n', file=None, flush=False)>"
      ]
     },
     "execution_count": 8,
     "metadata": {},
     "output_type": "execute_result"
    }
   ],
   "source": [
    "print"
   ]
  },
  {
   "cell_type": "markdown",
   "id": "728c91d4-9788-432e-ae23-63e9e637d4a0",
   "metadata": {},
   "source": [
    "Das sind die \"defaulf-settings\" / die \"Standard-Einstellungen\" der print function. Sie sorgen dafür das alles so angezeigt wird, wie es nunmal angezeigt wird. Ja, man kann diese Einstellungen ändern, aber dazu gibt es eigene Kapitel.                      \n",
    "\n",
    "\n",
    "Print hat neben `*objects` auch noch `sep`und `end` als Parameternamen definiert.\n",
    "Warum ist in der Dokumentation von Python erklärt:                                                         \n",
    "Auszug aus: [print in python docs](https://docs.python.org/3/library/functions.html#print) \n",
    "\n",
    "```python\n",
    "print(*objects, sep=' ', end='\\n', file=None, flush=False)\n",
    "```"
   ]
  },
  {
   "cell_type": "markdown",
   "id": "3c18d441-952a-454f-966b-dee5bcfc9038",
   "metadata": {},
   "source": [
    "Die Parameternamen sind die Namen in der Klammer bei der Definition der Funktion: \n",
    "\n",
    "- objects / Objekte / Argumente (Argumente sind Objekte aber nicht alle Objekte sind auch Argumente, aber dazu später mehr)\n",
    "- sep / Seperator (sep=' ')\n",
    "- end / End (end='\\n')\n",
    "- file / Boolean Value / boolscher Wert (file=None)\n",
    "- flush (werden wir nie brauchen...)"
   ]
  },
  {
   "cell_type": "markdown",
   "id": "17791258-28b2-46fd-8827-93ca4290c298",
   "metadata": {},
   "source": [
    "## Object"
   ]
  },
  {
   "cell_type": "markdown",
   "id": "913f3578-0ee5-477d-85d9-54354400e86d",
   "metadata": {},
   "source": [
    "```python\n",
    "print(*objects)\n",
    "```\n",
    "`*`objects Bedeutet, dass wir hier 0 oder 1, oder viele Argumente positional (das heisst ohne `Parameternamen` angeben zu müssen eingeben dürfen)"
   ]
  },
  {
   "cell_type": "markdown",
   "id": "3ab8c829-ad60-4cea-a523-37734e0b4bea",
   "metadata": {},
   "source": [
    "## Seperator"
   ]
  },
  {
   "cell_type": "markdown",
   "id": "84447119-42b0-4fac-831f-61d32c57b177",
   "metadata": {},
   "source": [
    "sep => seperator Trenner , per default ist immer ein Leerzeichen zwischen den Arguemnten.                             \n",
    "Mit sep = kann man das aber überschreiben"
   ]
  },
  {
   "cell_type": "markdown",
   "id": "23b044f4-17af-44ea-8c82-6066582e5180",
   "metadata": {},
   "source": [
    "Beispiel:"
   ]
  },
  {
   "cell_type": "code",
   "execution_count": 39,
   "id": "a93e4b9e-a2e1-48a4-a2ce-4195d266f22d",
   "metadata": {},
   "outputs": [
    {
     "name": "stdout",
     "output_type": "stream",
     "text": [
      "1***2***3\n"
     ]
    }
   ],
   "source": [
    "print(1,2,3, sep =\"***\" )"
   ]
  },
  {
   "cell_type": "code",
   "execution_count": 76,
   "id": "a249c233-22d3-498e-bdbb-28c3dcdfff7d",
   "metadata": {},
   "outputs": [
    {
     "name": "stdout",
     "output_type": "stream",
     "text": [
      "1 2 3\n"
     ]
    }
   ],
   "source": [
    "print(1,2,3)"
   ]
  },
  {
   "cell_type": "code",
   "execution_count": 77,
   "id": "6eecf9af-dcec-4e32-ad19-f0d6e46684fc",
   "metadata": {},
   "outputs": [
    {
     "name": "stdout",
     "output_type": "stream",
     "text": [
      "1 | 2 | 3\n"
     ]
    }
   ],
   "source": [
    "print(1,2,3, sep =\" | \" )"
   ]
  },
  {
   "cell_type": "markdown",
   "id": "5cae93a0-ab09-42da-807e-40bc0ffecff5",
   "metadata": {},
   "source": [
    "Tastenkürzel für Pipe (|) --> Strg + Alt + < "
   ]
  },
  {
   "cell_type": "markdown",
   "id": "7de620cc-f9ce-4730-b777-c898312ccdf2",
   "metadata": {},
   "source": [
    "[END und Escape-Charakter](end_and_esc.ipynb)"
   ]
  },
  {
   "cell_type": "markdown",
   "id": "b70f864b-92dd-45eb-a78e-cbfa42a8ff60",
   "metadata": {},
   "source": [
    "## Rückgabewert"
   ]
  },
  {
   "cell_type": "code",
   "execution_count": 17,
   "id": "2c83edab-1cce-4cf4-845e-62a8aec4e400",
   "metadata": {},
   "outputs": [
    {
     "name": "stdout",
     "output_type": "stream",
     "text": [
      "Test1\n",
      "Test2\n"
     ]
    },
    {
     "data": {
      "text/plain": [
       "(None, None)"
      ]
     },
     "execution_count": 17,
     "metadata": {},
     "output_type": "execute_result"
    }
   ],
   "source": [
    "print(\"Test1\"), print(\"Test2\")"
   ]
  },
  {
   "cell_type": "markdown",
   "id": "6db64be3-9c73-4226-b804-855d38a4d59b",
   "metadata": {},
   "source": [
    "Was zum Geier heißt das:\n",
    "```python\n",
    "file=None ???\n",
    "```"
   ]
  },
  {
   "cell_type": "markdown",
   "id": "b49c5240-2be5-4350-91e7-9015854d25ee",
   "metadata": {},
   "source": [
    "Funktionen sind in der Lage so genannte Werte zurückzugeben...               \n",
    "\n",
    "Die `print()`-Funktion gibt den Wert \"None\" zurück."
   ]
  },
  {
   "cell_type": "markdown",
   "id": "9e2e0bfc-cf4f-4367-abda-9f7f0fe08b04",
   "metadata": {},
   "source": [
    "Weiter Beispiele zur print-Function:"
   ]
  }
 ],
 "metadata": {
  "kernelspec": {
   "display_name": "Python 3 (ipykernel)",
   "language": "python",
   "name": "python3"
  },
  "language_info": {
   "codemirror_mode": {
    "name": "ipython",
    "version": 3
   },
   "file_extension": ".py",
   "mimetype": "text/x-python",
   "name": "python",
   "nbconvert_exporter": "python",
   "pygments_lexer": "ipython3",
   "version": "3.12.3"
  }
 },
 "nbformat": 4,
 "nbformat_minor": 5
}
