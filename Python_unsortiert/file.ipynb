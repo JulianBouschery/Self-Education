{
 "cells": [
  {
   "cell_type": "markdown",
   "id": "102c5edb-a292-4078-b8b7-af6f161335cd",
   "metadata": {},
   "source": [
    "# Übersicht file / Datei"
   ]
  },
  {
   "cell_type": "markdown",
   "id": "4a7f4815-de58-4326-b4cf-26c5529421dc",
   "metadata": {},
   "source": [
    "Siehe auch: [file handeling](file_handeling.ipynb)"
   ]
  },
  {
   "cell_type": "markdown",
   "id": "a9bf1726-09cc-4582-b737-d4c748ea972e",
   "metadata": {},
   "source": [
    "[with open](with_open.ipynb)"
   ]
  },
  {
   "cell_type": "markdown",
   "id": "53a7247c-35f9-40e9-a516-d1ad6c8f099e",
   "metadata": {},
   "source": [
    "[raw](raw.ipynb)"
   ]
  },
  {
   "cell_type": "markdown",
   "id": "ca406704-1c3b-4d89-b982-7373d5a894c8",
   "metadata": {},
   "source": [
    "Siehe auch: [sys](sys.ipynb) \n",
    "\n",
    "Dort gibt es die Methoden:\n",
    "\n",
    "- stdin\n",
    "- stdout\n",
    "- stderr\n",
    "\n",
    "die für den Umgang mit Dateien relevant sind."
   ]
  },
  {
   "cell_type": "markdown",
   "id": "5bfd24f1-a0ba-47f0-994d-0a1d5892d2b4",
   "metadata": {},
   "source": [
    "Siehe auch: [close](close.ipynb)"
   ]
  },
  {
   "cell_type": "markdown",
   "id": "1fd1d75c-473b-4d27-83bf-4b1a3c0c7977",
   "metadata": {},
   "source": [
    "Siehe auch: [IO-Base](IOBase.ipynb)"
   ]
  },
  {
   "cell_type": "markdown",
   "id": "73961e54-ee8a-45dc-80ff-739463a7341b",
   "metadata": {},
   "source": [
    "Siehe auch: [IOError](IOError.ipynb) --> errno.Codes"
   ]
  },
  {
   "cell_type": "markdown",
   "id": "62df4caa-a3dd-438f-9933-888308e93c8f",
   "metadata": {},
   "source": [
    "Siehe auch: [strerror](strerror.ipynb)"
   ]
  },
  {
   "cell_type": "markdown",
   "id": "27e7ca66-0750-4a8c-ae98-6e6b1869a486",
   "metadata": {},
   "source": [
    "Siehe auch: [bytearray](bytearray.ipynb)"
   ]
  },
  {
   "cell_type": "code",
   "execution_count": null,
   "id": "ffd446ac-a150-450b-8a2e-42ddd7fa0e9d",
   "metadata": {},
   "outputs": [],
   "source": []
  },
  {
   "cell_type": "code",
   "execution_count": null,
   "id": "bc912578-81e5-479b-88e1-c7c4df79a149",
   "metadata": {},
   "outputs": [],
   "source": []
  }
 ],
 "metadata": {
  "kernelspec": {
   "display_name": "Python 3 (ipykernel)",
   "language": "python",
   "name": "python3"
  },
  "language_info": {
   "codemirror_mode": {
    "name": "ipython",
    "version": 3
   },
   "file_extension": ".py",
   "mimetype": "text/x-python",
   "name": "python",
   "nbconvert_exporter": "python",
   "pygments_lexer": "ipython3",
   "version": "3.12.4"
  }
 },
 "nbformat": 4,
 "nbformat_minor": 5
}
