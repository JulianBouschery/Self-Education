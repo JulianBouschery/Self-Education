{
 "cells": [
  {
   "cell_type": "markdown",
   "id": "177ff64a-2a20-4111-ba39-511217397c44",
   "metadata": {},
   "source": [
    "# super()"
   ]
  },
  {
   "cell_type": "markdown",
   "id": "c3d31777-ca35-4cb6-a421-2e506a77c5f0",
   "metadata": {},
   "source": [
    "## Übersicht:"
   ]
  },
  {
   "cell_type": "markdown",
   "id": "a11eaacd-3fb4-4d18-8acb-cabd668182c1",
   "metadata": {},
   "source": [
    "The super() function, when used inside any class methods, gives access to the superclass without needing to know its name. It can be said that the super() function creates a context in which you don't have to pass the self argument to the method being invoked – this is why it's possible to activate the superclass constructor using only one argument.\n"
   ]
  },
  {
   "cell_type": "markdown",
   "id": "2c54b24a-3f4c-493a-92d8-bbc9c4aa2ca8",
   "metadata": {},
   "source": [
    "## Detailierte Erklärung:"
   ]
  },
  {
   "cell_type": "markdown",
   "id": "edebc7e1-3b85-4ebe-aa45-173ff95132ee",
   "metadata": {},
   "source": [
    "Eine sehr detailierte Erklärung am Realbeispiel findet sich in dem [Projekt: \"Wir bauen ein Konto\"](projekt_konto.ipynb)"
   ]
  },
  {
   "cell_type": "markdown",
   "id": "00e34d1d-3b33-413f-b7dc-5778fa4c34e7",
   "metadata": {},
   "source": [
    "Weitere Beispiele folgen:"
   ]
  },
  {
   "cell_type": "code",
   "execution_count": null,
   "id": "b213c25f-7714-4c1a-8c70-d86c72628033",
   "metadata": {},
   "outputs": [],
   "source": []
  },
  {
   "cell_type": "code",
   "execution_count": null,
   "id": "f4e0bec1-f918-4652-a94e-8dc548799ba7",
   "metadata": {},
   "outputs": [],
   "source": []
  },
  {
   "cell_type": "code",
   "execution_count": null,
   "id": "dbea0b9f-49a3-495f-88be-b30f0c296dee",
   "metadata": {},
   "outputs": [],
   "source": []
  },
  {
   "cell_type": "code",
   "execution_count": null,
   "id": "c1073476-ecca-4bae-b84f-f082acc1418c",
   "metadata": {},
   "outputs": [],
   "source": []
  },
  {
   "cell_type": "code",
   "execution_count": null,
   "id": "caa81747-89ac-4eaf-a12c-49b5253b9291",
   "metadata": {},
   "outputs": [],
   "source": []
  },
  {
   "cell_type": "code",
   "execution_count": null,
   "id": "5cc908fe-5b43-4594-918e-bd019ab44d22",
   "metadata": {},
   "outputs": [],
   "source": []
  },
  {
   "cell_type": "code",
   "execution_count": null,
   "id": "8b1b1677-a02d-4713-8c7d-d642c29b45c3",
   "metadata": {},
   "outputs": [],
   "source": []
  },
  {
   "cell_type": "markdown",
   "id": "949fb6f8-b284-42cf-8d22-803356a713cb",
   "metadata": {},
   "source": [
    "[Pythontutor](https://pythontutor.com/visualize.html#code=class%20Mensch%3A%0A%20%20%20%20def%20__init__%28self,%20name,%20vorname,alter%29%3A%20%0A%20%20%20%20%20%20%20%20%20%20%20%20%0A%20%20%20%20%20%20%20%20%20%20%20%20self.vorname%20%3D%20vorname.title%28%29%0A%20%20%20%20%20%20%20%20%20%20%20%20self.alter%20%3D%20alter%0A%20%20%20%20%20%20%20%20%20%20%20%20self.name%20%3D%20name.title%28%29%20%0A%20%20%20%20%20%20%20%20%20%20%20%20%0A%20%20%20%20%20%20%20%20%20%20%20%20%0A%20%20%20%20%0A%20%20%20%20def%20funky%28self%29%3A%0A%20%20%20%20%20%20%20%20print%28self.name,%22MEnsch%22%29%0A%0Aclass%20Person%28Mensch%29%3A%20%0A%20%20%20%20%0A%20%20%20%20def%20__init__%28self,%20name,%20vorname,%20alter,%20wohnort%29%3A%20%0A%20%20%20%20%20%20%20%20super%28%29.__init__%28name,%20vorname,%20alter%29%0A%20%20%20%20%20%20%20%20self.wohnort%20%3D%20wohnort.title%28%29%0A%20%23%20instanz.varNmae%20%3D%20wert%20%3D%3E%20setzt%20in%20der%20Instanz%20eine%20Variable%0A%20%0A%20%20%20%20def%20funky%28self%29%3A%0A%20%20%20%20%20%20%20%20print%28self.name,%20%22Person%22%29%0Aclass%20Bankkunde%28Person%29%3A%0A%20%20%20%20%0A%20%20%20%20def%20__init__%28self,%20name,%20vorname,%20alter,%20wohnort,%20konto%29%3A%0A%20%20%20%20%20%20%20%20Person.__init__%28self,name,%20vorname,%20alter,%20wohnort%29%0A%20%20%20%20%20%20%20%20%23%20analog%20super%28%29%20gibt%20mit%20Person%20und%20%C3%BCbergibt%20self%20an%20die%20init%0A%20%20%20%20%20%20%20%20%23%20super%28%29.__init__%28name,%20vorname,%20alter,%20wohnort%29%0A%20%20%20%20%20%20%20%20self.konto%20%3D%20konto%0A%20%20%20%20%20%20%20%20super%28%29.funky%28%29%0A%20%20%20%20%20%20%20%20Mensch.funky%28self%29%0A%20%20%20%20%20%20%20%20c%20%3D%20%20Person.__bases__%0A%20%20%20%20%20%20%20%20d%20%3D%20Person.__bases__%5B0%5D%0A%20%20%20%20%20%20%20%20%23%20Person%0A%20%20%20%20%20%20%20%20self.__class__.__bases__%5B0%5D.funky%28self%29%0A%20%20%20%20%20%20%20%20%23%20self.__class__%20die%20Klasse%20die%20Vorlage%20f%C3%BCr%20instanz%20var%0A%20%20%20%20%20%20%20%20%23%20hier%20Bankkunde%20%3D%3Eself.__class__%3D%3D%20Bankkunde%0A%20%20%20%20%20%20%20%20%23%20self.__class__.__bases__%20%3D%3E%20Bankkunde.__bases__%20%3D%3E%20%28Person,%29%0A%20%20%20%20%20%20%20%20%23%20%3D%3E%20self.__class__.__bases__%5B0%5D%20%3D%20Person%20%20%20geh%20in%20tuple%20erster%20Wert%0A%20%20%20%20%20%20%20%20%0A%20%20%20%20%20%20%20%20%23%20%3D%3Eself.__class__.__bases__%5B0%5D.funky%28self%29%20%3D%3D%20Person.funky%28self%29%0A%20%20%20%20%20%20%20%20Person.__bases__%5B0%5D.funky%28self%29%0A%20%20%20%20%20%20%20%20Bankkunde.mro%28%29%5B2%5D.funky%28self%29%0A%20%20%20%20%20%20%20%20%0A%20%20%20%20%20%20%20%20%0Akunde1%20%3D%20Bankkunde%28%22Figluzzi%22,%20%22Frank%22,%2023,%20%22Washington%22%20,%20%22EIN%20KONTO%22%20%29%0A%0Akunde1_dict%20%3D%20kunde1.__dict__%0Akunde1_dict&cumulative=false&heapPrimitives=nevernest&mode=edit&origin=opt-frontend.js&py=311&rawInputLstJSON=%5B%5D&textReferences=false)"
   ]
  },
  {
   "cell_type": "code",
   "execution_count": 2,
   "id": "f192789f-dc93-4d49-8947-cfc4e46591b4",
   "metadata": {},
   "outputs": [
    {
     "name": "stdout",
     "output_type": "stream",
     "text": [
      "Figluzzi Person\n",
      "Figluzzi MEnsch\n",
      "Figluzzi Person\n",
      "Figluzzi MEnsch\n",
      "Figluzzi MEnsch\n"
     ]
    },
    {
     "data": {
      "text/plain": [
       "{'vorname': 'Frank',\n",
       " 'alter': 23,\n",
       " 'name': 'Figluzzi',\n",
       " 'wohnort': 'Washington',\n",
       " 'konto': 'EIN KONTO'}"
      ]
     },
     "execution_count": 2,
     "metadata": {},
     "output_type": "execute_result"
    }
   ],
   "source": [
    "class Mensch:\n",
    "    def __init__(self, name, vorname,alter): \n",
    "            \n",
    "            self.vorname = vorname.title()\n",
    "            self.alter = alter\n",
    "            self.name = name.title() \n",
    "            \n",
    "            \n",
    "    \n",
    "    def funky(self):\n",
    "        print(self.name,\"MEnsch\")\n",
    "\n",
    "class Person(Mensch): \n",
    "    \n",
    "    def __init__(self, name, vorname, alter, wohnort): \n",
    "        super().__init__(name, vorname, alter)\n",
    "        self.wohnort = wohnort.title()\n",
    " # instanz.varNmae = wert => setzt in der Instanz eine Variable\n",
    " \n",
    "    def funky(self):\n",
    "        print(self.name, \"Person\")\n",
    "class Bankkunde(Person):\n",
    "    \n",
    "    def __init__(self, name, vorname, alter, wohnort, konto):\n",
    "        Person.__init__(self,name, vorname, alter, wohnort)\n",
    "        # analog super() gibt mit Person und übergibt self an die init\n",
    "        # super().__init__(name, vorname, alter, wohnort)\n",
    "        self.konto = konto\n",
    "        super().funky()\n",
    "        Mensch.funky(self)\n",
    "        c =  Person.__bases__\n",
    "        d = Person.__bases__[0]\n",
    "        # Person\n",
    "        self.__class__.__bases__[0].funky(self)\n",
    "        # self.__class__ die Klasse die Vorlage für instanz var\n",
    "        # hier Bankkunde =>self.__class__== Bankkunde\n",
    "        # self.__class__.__bases__ => Bankkunde.__bases__ => (Person,)\n",
    "        # => self.__class__.__bases__[0] = Person   geh in tuple erster Wert\n",
    "        \n",
    "        # =>self.__class__.__bases__[0].funky(self) == Person.funky(self)\n",
    "        Person.__bases__[0].funky(self)\n",
    "        Bankkunde.mro()[2].funky(self)\n",
    "        \n",
    "        \n",
    "kunde1 = Bankkunde(\"Figluzzi\", \"Frank\", 23, \"Washington\" , \"EIN KONTO\" )\n",
    "\n",
    "kunde1_dict = kunde1.__dict__\n",
    "kunde1_dict"
   ]
  },
  {
   "cell_type": "code",
   "execution_count": 12,
   "id": "8334d761-4476-4df8-bed4-e426951b9120",
   "metadata": {},
   "outputs": [
    {
     "data": {
      "text/plain": [
       "{'vorname': 'Figluzzi',\n",
       " 'name': 'Frank',\n",
       " 'alter': 23,\n",
       " 'wohnort': 'Washington',\n",
       " 'kontonummer': 'DE12 3456 7890 1234 5678 90',\n",
       " 'deposit': 3456.78,\n",
       " 'dispo': 5000.0}"
      ]
     },
     "execution_count": 12,
     "metadata": {},
     "output_type": "execute_result"
    }
   ],
   "source": [
    "class Mensch:\n",
    "    \n",
    "    def __init__(self, vorname, name, alter): \n",
    "        self.vorname = vorname.title()\n",
    "        self.name = name.title() \n",
    "        self.alter = alter\n",
    "\n",
    "\n",
    "class Person(Mensch): \n",
    "    \n",
    "    def __init__(self, name, vorname, alter, wohnort): \n",
    "        super().__init__(name, vorname, alter)\n",
    "        self.wohnort = wohnort.title()\n",
    "\n",
    "\n",
    "class Bankkunde(Person):\n",
    "    \n",
    "    def __init__(self, name, vorname, alter, wohnort, KN):\n",
    "        super().__init__(name, vorname, alter, wohnort)\n",
    "        self.kontonummer = KN\n",
    "\n",
    "        \n",
    "class Konto(Bankkunde):\n",
    "\n",
    "    def __init__(self, name, vorname, alter, wohnort, KN, deposit, dispo):\n",
    "        super().__init__(name, vorname, alter, wohnort, KN)\n",
    "        self.deposit = deposit\n",
    "        self.dispo = dispo\n",
    "\n",
    "\n",
    "\n",
    "\n",
    "kunde1 = Konto(\"Figluzzi\", \"Frank\", 23, \"Washington\" , \"DE12 3456 7890 1234 5678 90\", 3456.78, 5000.00)\n",
    "\n",
    "kunde1_dict = kunde1.__dict__\n",
    "kunde1_dict"
   ]
  },
  {
   "cell_type": "code",
   "execution_count": null,
   "id": "e97d18da-f9cd-42ae-9453-f925d8e930c9",
   "metadata": {},
   "outputs": [],
   "source": []
  }
 ],
 "metadata": {
  "kernelspec": {
   "display_name": "Python 3 (ipykernel)",
   "language": "python",
   "name": "python3"
  },
  "language_info": {
   "codemirror_mode": {
    "name": "ipython",
    "version": 3
   },
   "file_extension": ".py",
   "mimetype": "text/x-python",
   "name": "python",
   "nbconvert_exporter": "python",
   "pygments_lexer": "ipython3",
   "version": "3.12.4"
  }
 },
 "nbformat": 4,
 "nbformat_minor": 5
}
