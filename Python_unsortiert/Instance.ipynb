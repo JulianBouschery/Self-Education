{
 "cells": [
  {
   "cell_type": "markdown",
   "id": "87b78a11-5e1c-4591-bb4b-d76de7506ea7",
   "metadata": {},
   "source": [
    "# Instanz"
   ]
  },
  {
   "cell_type": "markdown",
   "id": "533ffe09-dab2-4fa1-8b6c-c2aef7a65b62",
   "metadata": {},
   "source": [
    "Eine Instanz ist ein einzelnes, konkretes Objekt, das von einer Klasse erstellt wurde."
   ]
  },
  {
   "cell_type": "code",
   "execution_count": null,
   "id": "3dec1908-20f1-4278-84b4-493893eaca21",
   "metadata": {},
   "outputs": [],
   "source": []
  }
 ],
 "metadata": {
  "kernelspec": {
   "display_name": "Python 3 (ipykernel)",
   "language": "python",
   "name": "python3"
  },
  "language_info": {
   "codemirror_mode": {
    "name": "ipython",
    "version": 3
   },
   "file_extension": ".py",
   "mimetype": "text/x-python",
   "name": "python",
   "nbconvert_exporter": "python",
   "pygments_lexer": "ipython3",
   "version": "3.12.4"
  }
 },
 "nbformat": 4,
 "nbformat_minor": 5
}
