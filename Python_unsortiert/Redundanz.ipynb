{
 "cells": [
  {
   "cell_type": "code",
   "execution_count": null,
   "id": "c1bf8a17-268e-442a-8abf-682a06083f8d",
   "metadata": {},
   "outputs": [],
   "source": []
  },
  {
   "cell_type": "markdown",
   "id": "a88d26a0-2990-47fc-8c0b-0353b4b249e1",
   "metadata": {},
   "source": []
  },
  {
   "cell_type": "markdown",
   "id": "d7bd01b6-e872-4132-9806-7f358ba9ad05",
   "metadata": {},
   "source": [
    "# Redundanzen"
   ]
  },
  {
   "cell_type": "markdown",
   "id": "62be8b62-ea07-480f-b6b2-ce3da0c45c54",
   "metadata": {},
   "source": [
    "**Redundanzen** in einer Datenbank bedeuten, dass dieselben Daten mehrfach gespeichert werden. Dies kann zu verschiedenen Problemen führen, wie:\n",
    "- **Speicherplatzverschwendung**: Mehrfaches Speichern derselben Daten erhöht den Speicherbedarf.\n",
    "- **Inkonsistenz**: Wenn redundante Daten nicht konsistent aktualisiert werden, können unterschiedliche Kopien derselben Daten verschiedene Werte enthalten.\n",
    "- **Wartungsaufwand**: Mehrfache Speicherung der gleichen Daten erfordert mehr Aufwand bei der Verwaltung und Aktualisierung der Daten.\n",
    "\n",
    "Beispiel für Redundanz:\n",
    "Angenommen, es gibt eine Tabelle, die Kundendaten und Bestelldaten enthält:\n",
    "\n",
    "| KundenID | KundenName | BestellID | ProduktName |\n",
    "|----------|------------|-----------|-------------|\n",
    "| 1        | Alice      | 101       | Buch        |\n",
    "| 1        | Alice      | 102       | Stift       |\n",
    "| 2        | Bob        | 103       | Laptop      |\n",
    "\n",
    "In diesem Beispiel wird der Name des Kunden \"Alice\" zweimal gespeichert. Wenn sich der Name ändert, müssen beide Zeilen aktualisiert werden, um Inkonsistenzen zu vermeiden.\n",
    "\n",
    "Durch den Prozess der **Normalisierung** kann die Redundanz reduziert werden, indem die Daten auf mehrere Tabellen verteilt und durch Fremdschlüsselbeziehungen verknüpft werden."
   ]
  },
  {
   "cell_type": "code",
   "execution_count": null,
   "id": "5636b5b0-0628-4fa4-9cb9-7e388b7ab764",
   "metadata": {},
   "outputs": [],
   "source": []
  }
 ],
 "metadata": {
  "kernelspec": {
   "display_name": "Python 3 (ipykernel)",
   "language": "python",
   "name": "python3"
  },
  "language_info": {
   "codemirror_mode": {
    "name": "ipython",
    "version": 3
   },
   "file_extension": ".py",
   "mimetype": "text/x-python",
   "name": "python",
   "nbconvert_exporter": "python",
   "pygments_lexer": "ipython3",
   "version": "3.12.4"
  }
 },
 "nbformat": 4,
 "nbformat_minor": 5
}
