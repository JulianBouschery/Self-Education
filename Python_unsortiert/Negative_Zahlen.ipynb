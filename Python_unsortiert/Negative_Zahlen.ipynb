{
 "cells": [
  {
   "cell_type": "markdown",
   "id": "93f3e277-074e-4b19-8f7f-7dcf2a1e8100",
   "metadata": {},
   "source": [
    "[Zurück zum Inhaltsverzeichnis](_Inhaltsverzeichnis_.ipynb)"
   ]
  },
  {
   "cell_type": "markdown",
   "id": "79e108b1-b475-4780-a854-225892a674c3",
   "metadata": {},
   "source": [
    "### Negative Zahlen"
   ]
  },
  {
   "cell_type": "markdown",
   "id": "36b7efd5-0e47-45dd-ad80-53ed5f31dd31",
   "metadata": {},
   "source": [
    "-1 => die Zahl 1 negativ  \n",
    "+1 und 1 => die positive Zahl"
   ]
  },
  {
   "cell_type": "code",
   "execution_count": 36,
   "id": "ef455bbc-4e37-4760-9699-9f9c30c11b9c",
   "metadata": {
    "tags": []
   },
   "outputs": [
    {
     "data": {
      "text/plain": [
       "-1"
      ]
     },
     "execution_count": 36,
     "metadata": {},
     "output_type": "execute_result"
    }
   ],
   "source": [
    "-1"
   ]
  },
  {
   "cell_type": "code",
   "execution_count": 37,
   "id": "5485d471-d1d6-4ff7-8bb6-dddde22c21c2",
   "metadata": {
    "tags": []
   },
   "outputs": [
    {
     "data": {
      "text/plain": [
       "1"
      ]
     },
     "execution_count": 37,
     "metadata": {},
     "output_type": "execute_result"
    }
   ],
   "source": [
    "1"
   ]
  },
  {
   "cell_type": "code",
   "execution_count": 38,
   "id": "dacd58cc-1e2e-4450-8cbe-098e4cf2d7d5",
   "metadata": {
    "tags": []
   },
   "outputs": [
    {
     "data": {
      "text/plain": [
       "1"
      ]
     },
     "execution_count": 38,
     "metadata": {},
     "output_type": "execute_result"
    }
   ],
   "source": [
    "+1"
   ]
  }
 ],
 "metadata": {
  "kernelspec": {
   "display_name": "Python 3 (ipykernel)",
   "language": "python",
   "name": "python3"
  },
  "language_info": {
   "codemirror_mode": {
    "name": "ipython",
    "version": 3
   },
   "file_extension": ".py",
   "mimetype": "text/x-python",
   "name": "python",
   "nbconvert_exporter": "python",
   "pygments_lexer": "ipython3",
   "version": "3.12.3"
  }
 },
 "nbformat": 4,
 "nbformat_minor": 5
}
