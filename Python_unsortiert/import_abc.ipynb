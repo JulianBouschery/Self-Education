{
 "cells": [
  {
   "cell_type": "markdown",
   "id": "da973f91-f536-4c1f-b431-41d569705c70",
   "metadata": {},
   "source": [
    "# import abc"
   ]
  },
  {
   "cell_type": "markdown",
   "id": "d0e8c255-dd7c-44be-aa02-89826c895c84",
   "metadata": {},
   "source": [
    "Siehe auch: [Abstrakte Methoden](abstract_method.ipynb)"
   ]
  },
  {
   "cell_type": "markdown",
   "id": "3e99b948-5e2f-4ab2-a339-d80a7f946acc",
   "metadata": {},
   "source": [
    "Siehe auch: [Abstrakte Klassen](abstract_class.ipynb)"
   ]
  },
  {
   "cell_type": "markdown",
   "id": "7f7678e1-9978-49c0-afab-bf1c048afd32",
   "metadata": {},
   "source": [
    "Python hat ein Modul entwickelt, das eine Hilfsklasse für die Definition von \"Abstract Base Classes\" (ABC) bzw. abstrakten Basisklassen bereitstellt, und der Name dieses Moduls ist `abc`.\n",
    "\n",
    "Mit ABC kann man Klassen als abstrakt kennzeichnen und unterscheiden, welche Methoden der abstrakten Basisklasse abstrakt sind. Eine Methode wird abstrakt, indem sie mit einem `@abstractmethod`-Dekorator dekoriert wird.\n",
    "\n",
    "Um mit ABC zu beginnen, sollten Sie:\n",
    "\n",
    "1. das Modul abc importieren;\n",
    "2. Ihre Basisklasse die Hilfsklasse ABC erben lassen, die vom abc-Modul geliefert wird;\n",
    "3. abstrakte Methoden mit @abstractmethod dekorieren, das vom abc-Modul bereitgestellt wird.\n"
   ]
  },
  {
   "cell_type": "markdown",
   "id": "311745ef-6954-4969-b912-9d40184a959f",
   "metadata": {},
   "source": [
    "Beispiel:"
   ]
  },
  {
   "cell_type": "code",
   "execution_count": 2,
   "id": "11b93d3c-60c6-4b6b-93d6-3a1a1a197bd7",
   "metadata": {},
   "outputs": [
    {
     "name": "stdout",
     "output_type": "stream",
     "text": [
      "Welcome to Green Field!\n"
     ]
    },
    {
     "ename": "TypeError",
     "evalue": "Can't instantiate abstract class BluePrint without an implementation for abstract method 'hello'",
     "output_type": "error",
     "traceback": [
      "\u001b[1;31m---------------------------------------------------------------------------\u001b[0m",
      "\u001b[1;31mTypeError\u001b[0m                                 Traceback (most recent call last)",
      "Cell \u001b[1;32mIn[2], line 15\u001b[0m\n\u001b[0;32m     13\u001b[0m gf \u001b[38;5;241m=\u001b[39m GreenField()\n\u001b[0;32m     14\u001b[0m gf\u001b[38;5;241m.\u001b[39mhello()\n\u001b[1;32m---> 15\u001b[0m bp \u001b[38;5;241m=\u001b[39m \u001b[43mBluePrint\u001b[49m\u001b[43m(\u001b[49m\u001b[43m)\u001b[49m\n\u001b[0;32m     16\u001b[0m bp\u001b[38;5;241m.\u001b[39mhello()\n",
      "\u001b[1;31mTypeError\u001b[0m: Can't instantiate abstract class BluePrint without an implementation for abstract method 'hello'"
     ]
    }
   ],
   "source": [
    "import abc\n",
    "\n",
    "class BluePrint(abc.ABC):\n",
    "    @abc.abstractmethod\n",
    "    def hello(self):\n",
    "        pass\n",
    "\n",
    "class GreenField(BluePrint):\n",
    "    def hello(self):\n",
    "        print('Welcome to Green Field!')\n",
    "\n",
    "\n",
    "gf = GreenField()\n",
    "gf.hello()\n",
    "bp = BluePrint()\n",
    "bp.hello()\n"
   ]
  },
  {
   "cell_type": "markdown",
   "id": "4b957e87-dacf-4836-8976-e13208d8b5bf",
   "metadata": {},
   "source": [
    "Es ist möglich, die Klasse `GreenField` zu instanziieren und die `hello()`-Methode aufzurufen, da eine **konkrete** Definition der `hello()`-Methode bereitgestellt hat.\n",
    "Mit anderen Worten, die abstrakte Methode hello wurd durch seine eigene Implementierung überschrieben. \n",
    "\n",
    "Wenn die Basisklasse mehrere abstrakte Methoden bereitstellt, müssen alle von ihnen in einer Unterklasse überschrieben werden, bevor die Unterklasse instanziiert werden kann.\n",
    "\n",
    "Python löst eine TypeError-Ausnahme aus, wenn wir versuchen, die Basisklasse BluePrint zu instanziieren, weil sie eine abstrakte Methode enthält.\n",
    "\n"
   ]
  },
  {
   "cell_type": "code",
   "execution_count": null,
   "id": "f2553e25-c4fb-4c55-807c-0df58f16fa7f",
   "metadata": {},
   "outputs": [],
   "source": [
    "import abc\n",
    "\n",
    "class BluePrint(abc.ABC):\n",
    "    @abc.abstractmethod\n",
    "    def hello(self):\n",
    "        pass\n",
    "\n",
    "class GreenField(BluePrint):\n",
    "    def hello(self):\n",
    "        print('Welcome to Green Field!')\n",
    "\n",
    "class RedField(BluePrint):\n",
    "    def yellow(self):\n",
    "        pass\n",
    "\n",
    "gf = GreenField()\n",
    "gf.hello()\n",
    "rf = RedField()\n"
   ]
  },
  {
   "cell_type": "markdown",
   "id": "1b8982bb-768c-45ae-bb85-74d3c6c76188",
   "metadata": {},
   "source": [
    "Zusammenfassung:\n",
    "- Eine abstrakte Basisklasse (ABC) ist eine Klasse, die nicht instanziiert werden kann. Eine solche Klasse ist eine Basisklasse für konkrete Klassen;\n",
    "- ABC kann nur von ihr geerbt werden;\n",
    "- wir sind gezwungen, alle abstrakten Methoden zu überschreiben, indem wir konkrete Methodenimplementierungen liefern."
   ]
  },
  {
   "cell_type": "markdown",
   "id": "012f94ac-0cb4-40fb-be42-5a186eab40f6",
   "metadata": {},
   "source": [
    "Ein Hinweis:\n",
    "\n",
    "Es ist verlockend, ein Modul \"abc\" zu nennen und dann zu versuchen, es zu importieren, aber dadurch importiert Python das Modul, das die ABC-Klasse enthält, und nicht Ihre lokale Datei. Das könnte zu Verwirrung führen - warum steht ein so allgemeiner Name wie \"abc\" im Widerspruch zu meinem einfachen Modul \"abc\"?\n",
    "\n",
    "Führen Sie Ihr eigenes Experiment durch, um sich mit den Fehlermeldungen vertraut zu machen, die Sie in einer solchen Situation erhalten würden.\n"
   ]
  },
  {
   "cell_type": "code",
   "execution_count": null,
   "id": "14e2ea2b-401b-4039-adc8-ab831624a1f0",
   "metadata": {},
   "outputs": [],
   "source": []
  }
 ],
 "metadata": {
  "kernelspec": {
   "display_name": "Python 3 (ipykernel)",
   "language": "python",
   "name": "python3"
  },
  "language_info": {
   "codemirror_mode": {
    "name": "ipython",
    "version": 3
   },
   "file_extension": ".py",
   "mimetype": "text/x-python",
   "name": "python",
   "nbconvert_exporter": "python",
   "pygments_lexer": "ipython3",
   "version": "3.12.4"
  }
 },
 "nbformat": 4,
 "nbformat_minor": 5
}
