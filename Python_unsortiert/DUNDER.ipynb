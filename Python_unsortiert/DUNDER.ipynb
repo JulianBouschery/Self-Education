{
 "cells": [
  {
   "cell_type": "markdown",
   "id": "2073d08c-d4e6-45c2-8017-1b809aadbd62",
   "metadata": {},
   "source": [
    "[Zurück zum Inhaltsverzeichnis](_Inhaltsverzeichnis_.ipynb)"
   ]
  },
  {
   "cell_type": "markdown",
   "id": "bb04e2c7-d628-47a9-a934-01a8ef68adab",
   "metadata": {},
   "source": [
    "[Zurück zu OOP](OOP.ipynb)"
   ]
  },
  {
   "cell_type": "markdown",
   "id": "a5565ae2-682e-4808-9508-58bd22268489",
   "metadata": {},
   "source": [
    "# `__DUNDER__` Methoden"
   ]
  },
  {
   "cell_type": "markdown",
   "id": "442e2ee6-8b5a-4347-8810-a213d10ac137",
   "metadata": {},
   "source": [
    "`__init__` ist Konstruktor ähnliche DUNDER Methode (DUNDER == Double UNDERscore) manchmal auch Magic-Methods genannt."
   ]
  },
  {
   "cell_type": "markdown",
   "id": "a540defd-a23e-43c3-8232-23aee22313d6",
   "metadata": {},
   "source": [
    "Die meisten DUNDER Methoden sind Varaiationen von einander. Das heißt, statt sich die arbeit zu machen jede built-in Methode in Python jedesmal von Grund auf neu zu programmieren, greifen viele Methoden auf schon bestehende Methoden zurück. So ist mit der Zeit ein Geflächt aus Methoden entstanden, von denen sich viele untereinander aufrufen um bestimmte Teilschritte von Aufgaben zu übernehmen."
   ]
  },
  {
   "cell_type": "markdown",
   "id": "3eedf252-b409-4848-9392-a91c66116e78",
   "metadata": {},
   "source": [
    "## Übersicht der DUNDER Metmhoden"
   ]
  }
 ],
 "metadata": {
  "kernelspec": {
   "display_name": "Python 3 (ipykernel)",
   "language": "python",
   "name": "python3"
  },
  "language_info": {
   "codemirror_mode": {
    "name": "ipython",
    "version": 3
   },
   "file_extension": ".py",
   "mimetype": "text/x-python",
   "name": "python",
   "nbconvert_exporter": "python",
   "pygments_lexer": "ipython3",
   "version": "3.12.4"
  }
 },
 "nbformat": 4,
 "nbformat_minor": 5
}
