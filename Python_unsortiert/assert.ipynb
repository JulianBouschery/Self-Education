{
 "cells": [
  {
   "cell_type": "markdown",
   "id": "ad467bb0-cf15-4f97-b8e9-57260af5a47d",
   "metadata": {},
   "source": [
    "[Zurück zum Inhaltsverzeichnis](_Inhaltsverzeichnis_.ipynb)"
   ]
  },
  {
   "cell_type": "markdown",
   "id": "4346d4d3-154f-40b1-9ee6-b0c12513eadd",
   "metadata": {},
   "source": [
    "[Zurück zu Keywords](keywords.ipynb)"
   ]
  },
  {
   "cell_type": "markdown",
   "id": "4a97cdc7-340d-4519-b707-e660b2840e48",
   "metadata": {},
   "source": [
    "Siehe auch: [assert Exception](assert_Exception.ipynb)"
   ]
  },
  {
   "cell_type": "markdown",
   "id": "b1891a49-5d51-45a3-a8af-28ba059fc9b1",
   "metadata": {},
   "source": [
    "# assert"
   ]
  },
  {
   "cell_type": "markdown",
   "id": "2eaf8af5-7323-4869-abd0-cb3d2910713b",
   "metadata": {
    "jp-MarkdownHeadingCollapsed": true
   },
   "source": [
    "## Überblick"
   ]
  },
  {
   "cell_type": "markdown",
   "id": "9d225c0f-05d9-4b63-a3d0-d1ab4eb663ad",
   "metadata": {},
   "source": [
    "\n",
    "Name der Funktion: \n",
    "\n",
    "Instanz der Klasse: \n",
    "\n",
    "Syntax:\n",
    "\n",
    "`abc` `(` `def` `)` \n",
    "\n",
    "```python\n",
    "Parameter: \n",
    "    \n",
    "```\n",
    "Funktion: \n",
    "\n",
    "\n",
    "\n",
    "Default return: \n",
    "```python\n",
    "abc\n",
    "```\n",
    "Error:\n"
   ]
  },
  {
   "cell_type": "markdown",
   "id": "8f9c210f-1f05-48d7-8682-467ad6e82eb5",
   "metadata": {},
   "source": [
    "#### Instanz"
   ]
  },
  {
   "cell_type": "markdown",
   "id": "59165c97-cfb7-4f57-ae0a-214b3caec4d6",
   "metadata": {},
   "source": [
    "?"
   ]
  },
  {
   "cell_type": "markdown",
   "id": "3794e703-d460-4532-9acb-4a5c03fe8992",
   "metadata": {},
   "source": [
    "#### Parameter"
   ]
  },
  {
   "cell_type": "code",
   "execution_count": 3,
   "id": "feaf304d-89a8-4fad-83bf-3c34150e9836",
   "metadata": {},
   "outputs": [
    {
     "name": "stdout",
     "output_type": "stream",
     "text": [
      "Object `assert` not found.\n"
     ]
    }
   ],
   "source": [
    "assert?"
   ]
  },
  {
   "cell_type": "markdown",
   "id": "01d75054-7d91-41d1-9ab3-d045ff5042ca",
   "metadata": {},
   "source": [
    "#### return"
   ]
  },
  {
   "cell_type": "code",
   "execution_count": 35,
   "id": "450e08b6-6451-4737-a9ce-cc4ba7c76388",
   "metadata": {},
   "outputs": [
    {
     "data": {
      "text/plain": [
       "{}"
      ]
     },
     "execution_count": 35,
     "metadata": {},
     "output_type": "execute_result"
    }
   ],
   "source": [
    "# Default return: Ohne Argument => leeres dict\n",
    "dict1 = dict()\n",
    "dict1"
   ]
  },
  {
   "cell_type": "code",
   "execution_count": 37,
   "id": "6719e3db-a9df-487e-81df-60beaf58f8c2",
   "metadata": {},
   "outputs": [
    {
     "data": {
      "text/plain": [
       "{'key1': 'value1', 'key2': 'value2'}"
      ]
     },
     "execution_count": 37,
     "metadata": {},
     "output_type": "execute_result"
    }
   ],
   "source": [
    "# return: Mit Argumenten --> befülltes Dictionary\n",
    "dict2 = dict([(\"key1\",\"value1\"),(\"key2\",\"value2\")])\n",
    "dict2"
   ]
  },
  {
   "cell_type": "markdown",
   "id": "5a457427-429f-4413-ad35-6ace11225055",
   "metadata": {},
   "source": [
    "### Error:"
   ]
  },
  {
   "cell_type": "code",
   "execution_count": null,
   "id": "dc3edc0b-c550-478a-b0b7-d7a189c51609",
   "metadata": {},
   "outputs": [],
   "source": []
  },
  {
   "cell_type": "code",
   "execution_count": null,
   "id": "2869c89b-ac8b-4d75-8386-78c462e5168d",
   "metadata": {},
   "outputs": [],
   "source": []
  },
  {
   "cell_type": "markdown",
   "id": "e5bdac9b-64f7-4a8a-8211-757e774d6deb",
   "metadata": {},
   "source": [
    "## Detailierte Erklärung"
   ]
  },
  {
   "cell_type": "markdown",
   "id": "8b67acf1-31ec-4be3-a246-a243780201b7",
   "metadata": {},
   "source": [
    "Assertion heißt auf Englisch: \"Behauptung\". Die assert-Anweisung wird verwendet, um sicherzustellen, dass eine Bedingung wahr ist. Wenn die Bedingung falsch ist, löst assert eine Ausnahme vom Typ AssertionError aus. Dies ist besonders nützlich für Debugging-Zwecke und um sicherzustellen, dass bestimmte Annahmen im Code korrekt sind."
   ]
  },
  {
   "cell_type": "markdown",
   "id": "c03b0b83-f393-420a-a0c8-75a0e3bcf861",
   "metadata": {},
   "source": [
    "Syntax:\n",
    "\n",
    "`assert` `BOOLEAN_EXPRESSION` `,` `message (optional)`  "
   ]
  },
  {
   "cell_type": "markdown",
   "id": "f467868c-abf4-4965-b567-b7d0b1c52789",
   "metadata": {},
   "source": [
    "Man kann grob Sinngemäß sagen:\n",
    "```python\n",
    "I assert oder ich behaupte, dass der folgende Boolsche Ausdruck (x > 0) zu True evaluiert. Falls nicht, raise einen AssertionError (mit folgengender optionaler Nachricht...)\n",
    "```"
   ]
  },
  {
   "cell_type": "markdown",
   "id": "4ff735b4-f4ef-41f1-bd98-89a2e418938e",
   "metadata": {},
   "source": [
    "Beispiel"
   ]
  },
  {
   "cell_type": "code",
   "execution_count": 40,
   "id": "7868a6d1-c5ba-47a4-8e8b-7fc115f1aaa2",
   "metadata": {
    "tags": []
   },
   "outputs": [],
   "source": [
    "x = 42\n",
    "assert x > 0 , \"bitte nur positive Zahlen \""
   ]
  },
  {
   "cell_type": "markdown",
   "id": "99acdf08-97ef-4ca6-8e0b-c03c9a2a2336",
   "metadata": {},
   "source": [
    "```python\n",
    "assert BOOLEAN_EXPRESSION, message (optional)  \n",
    "```\n",
    "\n",
    "Option 1. Wirkung ist, wenn BOOLEAN_EXPRESSION True ergibt, passiert NICHTS\n",
    "\n",
    "Option 2. Wenn BOOLEAN_EXPRESSION False ergibt => raise AssertionError(message)\n"
   ]
  },
  {
   "cell_type": "code",
   "execution_count": 41,
   "id": "ac67a1a8-146c-425c-805d-7cfbfa82e023",
   "metadata": {
    "tags": []
   },
   "outputs": [
    {
     "ename": "AssertionError",
     "evalue": "bitte nur positive Zahlen ",
     "output_type": "error",
     "traceback": [
      "\u001b[0;31m---------------------------------------------------------------------------\u001b[0m",
      "\u001b[0;31mAssertionError\u001b[0m                            Traceback (most recent call last)",
      "\u001b[0;32m/var/folders/98/zxnb__6d3hn1b82jwdhkbs7m0000gn/T/ipykernel_15622/91652570.py\u001b[0m in \u001b[0;36m<module>\u001b[0;34m\u001b[0m\n\u001b[1;32m      1\u001b[0m \u001b[0mx\u001b[0m \u001b[0;34m=\u001b[0m \u001b[0;34m-\u001b[0m\u001b[0;36m23\u001b[0m\u001b[0;34m\u001b[0m\u001b[0;34m\u001b[0m\u001b[0m\n\u001b[0;32m----> 2\u001b[0;31m \u001b[0;32massert\u001b[0m \u001b[0mx\u001b[0m \u001b[0;34m>\u001b[0m \u001b[0;36m0\u001b[0m \u001b[0;34m,\u001b[0m \u001b[0;34m\"bitte nur positive Zahlen \"\u001b[0m\u001b[0;34m\u001b[0m\u001b[0;34m\u001b[0m\u001b[0m\n\u001b[0m",
      "\u001b[0;31mAssertionError\u001b[0m: bitte nur positive Zahlen "
     ]
    }
   ],
   "source": [
    "x = -23\n",
    "assert x > 0 , \"bitte nur positive Zahlen \""
   ]
  },
  {
   "cell_type": "markdown",
   "id": "bad95534-8cc9-4198-8306-acc91085b2f8",
   "metadata": {},
   "source": [
    "Anders ausgedrückt, aber mit dem gleichen Ergebnis:"
   ]
  },
  {
   "cell_type": "code",
   "execution_count": 5,
   "id": "113bf7e6-fc3f-4284-9a95-f93f49a99707",
   "metadata": {
    "tags": []
   },
   "outputs": [],
   "source": [
    "# Übersetzung in anderen Konstrukten\n",
    "x = 42\n",
    "\n",
    "if not (x >0):\n",
    "    raise AssertionError(\"bitte nur positive Zahlen \")\n"
   ]
  },
  {
   "cell_type": "code",
   "execution_count": 42,
   "id": "92a580c6-fca5-4e02-8d06-1505fe3ac655",
   "metadata": {
    "tags": []
   },
   "outputs": [
    {
     "ename": "AssertionError",
     "evalue": "bitte nur positive Zahlen ",
     "output_type": "error",
     "traceback": [
      "\u001b[0;31m---------------------------------------------------------------------------\u001b[0m",
      "\u001b[0;31mAssertionError\u001b[0m                            Traceback (most recent call last)",
      "\u001b[0;32m/var/folders/98/zxnb__6d3hn1b82jwdhkbs7m0000gn/T/ipykernel_15622/1317962740.py\u001b[0m in \u001b[0;36m<module>\u001b[0;34m\u001b[0m\n\u001b[1;32m      3\u001b[0m \u001b[0;34m\u001b[0m\u001b[0m\n\u001b[1;32m      4\u001b[0m \u001b[0;32mif\u001b[0m \u001b[0;32mnot\u001b[0m \u001b[0;34m(\u001b[0m\u001b[0mx\u001b[0m \u001b[0;34m>\u001b[0m\u001b[0;36m0\u001b[0m\u001b[0;34m)\u001b[0m\u001b[0;34m:\u001b[0m\u001b[0;34m\u001b[0m\u001b[0;34m\u001b[0m\u001b[0m\n\u001b[0;32m----> 5\u001b[0;31m     \u001b[0;32mraise\u001b[0m \u001b[0mAssertionError\u001b[0m\u001b[0;34m(\u001b[0m\u001b[0;34m\"bitte nur positive Zahlen \"\u001b[0m\u001b[0;34m)\u001b[0m\u001b[0;34m\u001b[0m\u001b[0;34m\u001b[0m\u001b[0m\n\u001b[0m",
      "\u001b[0;31mAssertionError\u001b[0m: bitte nur positive Zahlen "
     ]
    }
   ],
   "source": [
    "# Übersetzung in anderen Konstrukten\n",
    "x = -23\n",
    "\n",
    "if not (x >0):\n",
    "    raise AssertionError(\"bitte nur positive Zahlen \")\n"
   ]
  },
  {
   "cell_type": "code",
   "execution_count": null,
   "id": "7d8e2d92-c08a-4c6e-a2af-1061dc874beb",
   "metadata": {},
   "outputs": [],
   "source": []
  }
 ],
 "metadata": {
  "kernelspec": {
   "display_name": "Python 3 (ipykernel)",
   "language": "python",
   "name": "python3"
  },
  "language_info": {
   "codemirror_mode": {
    "name": "ipython",
    "version": 3
   },
   "file_extension": ".py",
   "mimetype": "text/x-python",
   "name": "python",
   "nbconvert_exporter": "python",
   "pygments_lexer": "ipython3",
   "version": "3.12.4"
  }
 },
 "nbformat": 4,
 "nbformat_minor": 5
}
