{
 "cells": [
  {
   "cell_type": "markdown",
   "id": "a723e13d-a926-4a37-a88d-f8c9d26fdbfa",
   "metadata": {},
   "source": [
    "[Zurück zum Inhaltsverzeichnis](_Inhaltsverzeichnis_.ipynb)"
   ]
  },
  {
   "cell_type": "markdown",
   "id": "12c478c0-4a00-4b6b-967b-f8434f30c9ba",
   "metadata": {},
   "source": [
    "# zip"
   ]
  },
  {
   "cell_type": "markdown",
   "id": "4d4605f4-52a4-43cc-8c18-c099f66e7393",
   "metadata": {},
   "source": [
    "zip() Funktion erstellt einen Generator. Der zwei oder mehr iterables zusammenfügt. \n",
    "\n",
    "Dabei wird das erste Element jedes iterable in ein tuple gepackt . Auch jedes zweite..."
   ]
  },
  {
   "cell_type": "code",
   "execution_count": 44,
   "id": "ab1fd814-9edf-4a90-b7e8-bd5d8299c78b",
   "metadata": {
    "tags": []
   },
   "outputs": [
    {
     "data": {
      "text/plain": [
       "<zip at 0x1a47229c4c0>"
      ]
     },
     "execution_count": 44,
     "metadata": {},
     "output_type": "execute_result"
    }
   ],
   "source": [
    "zip(\"Hallo\", \"huhu\")"
   ]
  },
  {
   "cell_type": "code",
   "execution_count": 45,
   "id": "9cabfaea-ab94-4379-b835-9bfd742d0557",
   "metadata": {
    "tags": []
   },
   "outputs": [
    {
     "data": {
      "text/plain": [
       "zip"
      ]
     },
     "execution_count": 45,
     "metadata": {},
     "output_type": "execute_result"
    }
   ],
   "source": [
    "type(zip(\"Hallo\", \"huhu\"))"
   ]
  },
  {
   "cell_type": "code",
   "execution_count": 46,
   "id": "6fd3e752-8141-4df2-b74a-96dcfbf3050a",
   "metadata": {
    "tags": []
   },
   "outputs": [
    {
     "name": "stdout",
     "output_type": "stream",
     "text": [
      "('H', 'h')\n",
      "('a', 'u')\n",
      "('l', 'h')\n",
      "('l', 'u')\n"
     ]
    }
   ],
   "source": [
    "for elem in zip(\"Hallo\", \"huhu\"): \n",
    "    print(elem)"
   ]
  },
  {
   "cell_type": "markdown",
   "id": "9afa4e85-801d-40a2-9824-f79f2f4cf680",
   "metadata": {},
   "source": [
    "Je nach dem wie viele Iterables man in zip schreibt, dementsprechend groß wird das Tuple"
   ]
  },
  {
   "cell_type": "code",
   "execution_count": 47,
   "id": "902e2c00-881a-4d81-b193-e3ba0c7e3e82",
   "metadata": {},
   "outputs": [
    {
     "name": "stdout",
     "output_type": "stream",
     "text": [
      "('H', 'h', 'b')\n",
      "('a', 'u', 'l')\n",
      "('l', 'h', 'a')\n",
      "('l', 'u', 'h')\n"
     ]
    }
   ],
   "source": [
    "for elem in zip(\"Hallo\", \"huhu\", \"blah\"): \n",
    "    print(elem)"
   ]
  },
  {
   "cell_type": "code",
   "execution_count": 48,
   "id": "aaa4e2d5-fde0-4144-8ac4-089a76d7f530",
   "metadata": {},
   "outputs": [],
   "source": [
    "a = zip(\"Hallo\", \"huhu\")"
   ]
  },
  {
   "cell_type": "code",
   "execution_count": 49,
   "id": "12e77e54-6cb4-4931-b46d-5a5c1e29e90b",
   "metadata": {},
   "outputs": [
    {
     "name": "stdout",
     "output_type": "stream",
     "text": [
      "(('H', 'h'),)\n",
      "(('a', 'u'),)\n",
      "(('l', 'h'),)\n",
      "(('l', 'u'),)\n"
     ]
    }
   ],
   "source": [
    "for elem in zip(a): \n",
    "    print(elem)"
   ]
  },
  {
   "cell_type": "code",
   "execution_count": 41,
   "id": "fb0d7517-47b6-457d-9eb7-f7954bfacda2",
   "metadata": {},
   "outputs": [
    {
     "ename": "TypeError",
     "evalue": "'zip' object is not subscriptable",
     "output_type": "error",
     "traceback": [
      "\u001b[1;31m---------------------------------------------------------------------------\u001b[0m",
      "\u001b[1;31mTypeError\u001b[0m                                 Traceback (most recent call last)",
      "Cell \u001b[1;32mIn[41], line 1\u001b[0m\n\u001b[1;32m----> 1\u001b[0m \u001b[43ma\u001b[49m\u001b[43m[\u001b[49m\u001b[38;5;241;43m0\u001b[39;49m\u001b[43m]\u001b[49m \u001b[38;5;66;03m# Das funktioniert leider nicht.\u001b[39;00m\n\u001b[0;32m      2\u001b[0m a[\u001b[38;5;241m0\u001b[39m][\u001b[38;5;241m0\u001b[39m]\n",
      "\u001b[1;31mTypeError\u001b[0m: 'zip' object is not subscriptable"
     ]
    }
   ],
   "source": [
    "a[0] # Das funktioniert leider nicht.\n",
    "a[0][0]"
   ]
  },
  {
   "cell_type": "markdown",
   "id": "a3f0e7ee-2874-40c3-9ba3-8f1e127da4f2",
   "metadata": {},
   "source": [
    "Für unser Problem wollen wir zwei Wörter zippen"
   ]
  },
  {
   "cell_type": "code",
   "execution_count": 26,
   "id": "68fd16a7-4884-42f2-b830-d19eb54dc41f",
   "metadata": {
    "tags": []
   },
   "outputs": [],
   "source": [
    "wort1, wort2 = \"Eins\", \"Zwei\""
   ]
  },
  {
   "cell_type": "code",
   "execution_count": 27,
   "id": "d375d336-0547-466a-9b2d-5b61fcb3454c",
   "metadata": {
    "tags": []
   },
   "outputs": [
    {
     "data": {
      "text/plain": [
       "'Eins'"
      ]
     },
     "execution_count": 27,
     "metadata": {},
     "output_type": "execute_result"
    }
   ],
   "source": [
    "wort1"
   ]
  },
  {
   "cell_type": "code",
   "execution_count": 28,
   "id": "250e7f64-6366-4567-bea3-4ca9b5dfd306",
   "metadata": {
    "tags": []
   },
   "outputs": [
    {
     "name": "stdout",
     "output_type": "stream",
     "text": [
      "('E', 'Z')\n",
      "('i', 'w')\n",
      "('n', 'e')\n",
      "('s', 'i')\n"
     ]
    }
   ],
   "source": [
    "for tuppy in zip(wort1,wort2): \n",
    "    print(tuppy)"
   ]
  },
  {
   "cell_type": "code",
   "execution_count": 38,
   "id": "37c95982-994f-4fb0-a7ca-f34bbf4a84f9",
   "metadata": {
    "scrolled": true,
    "tags": []
   },
   "outputs": [
    {
     "name": "stdout",
     "output_type": "stream",
     "text": [
      "E\n",
      "********************\n",
      "Z\n",
      "==============================\n",
      "i\n",
      "********************\n",
      "w\n",
      "==============================\n",
      "n\n",
      "********************\n",
      "e\n",
      "==============================\n",
      "s\n",
      "********************\n",
      "i\n",
      "==============================\n"
     ]
    }
   ],
   "source": [
    "for letter_wort1, letter_wort2 in zip(wort1,wort2): \n",
    "    print(letter_wort1)\n",
    "    print(\"*\"*20)\n",
    "    print(letter_wort2 )\n",
    "    \n",
    "    print(\"=\"*30)"
   ]
  },
  {
   "cell_type": "markdown",
   "id": "d4b5b570-73bf-42e7-8744-0494006984bb",
   "metadata": {},
   "source": [
    "## zip Funktion nachgebaut"
   ]
  },
  {
   "cell_type": "code",
   "execution_count": null,
   "id": "fbdf63eb-74c6-45c2-9139-d39f34c3c47b",
   "metadata": {},
   "outputs": [],
   "source": [
    "def zippy_nachbauen(*mein_iterables): \n",
    "    \"\"\" Hier nachbau geht im Moment nur für exakt 3 iterables\"\"\"\n",
    "    rangy = len(min(mein_iterables, key = lambda x: len(x)))\n",
    "   \n",
    "    result_list = [] \n",
    "    \n",
    "    for index in range(rangy):# 0,1,2 \n",
    "        inner_tuple = ()\n",
    "        for iterable in mein_iterables: # names, cities ,gehälter\n",
    "            inner_tuple +=(iterable[index],)\n",
    "        result_list.append(inner_tuple)\n",
    "       \n",
    "    return result_list"
   ]
  },
  {
   "cell_type": "code",
   "execution_count": null,
   "id": "2a890fec-abd9-40d8-9fb2-077cd183b95b",
   "metadata": {},
   "outputs": [],
   "source": []
  },
  {
   "cell_type": "code",
   "execution_count": null,
   "id": "967a5977-811c-4f40-8562-10bb9750a68d",
   "metadata": {},
   "outputs": [],
   "source": []
  },
  {
   "cell_type": "code",
   "execution_count": null,
   "id": "d1c167fb-63fd-4c41-a38d-eb36508f3d52",
   "metadata": {},
   "outputs": [],
   "source": []
  },
  {
   "cell_type": "markdown",
   "id": "f36db33d-6865-4eb8-b589-f347b653c22e",
   "metadata": {},
   "source": [
    "### `zip` Builtin-Funktion, verschmilzt index-weise mehre Iterable zu einem Dictionary"
   ]
  },
  {
   "cell_type": "code",
   "execution_count": 40,
   "id": "8fa88e61-ddad-4ab4-a016-07dd7dcbbfcc",
   "metadata": {
    "tags": []
   },
   "outputs": [],
   "source": [
    "schluessel = [\"name\", \"nachname\", \"beruf\"]\n",
    "franky = [\"Frank\", \"Figluzzi\", \"FBI-Agent\"]\n"
   ]
  },
  {
   "cell_type": "code",
   "execution_count": 41,
   "id": "2c7e84b7-425c-4880-8fb1-f819be4bb371",
   "metadata": {
    "tags": []
   },
   "outputs": [
    {
     "data": {
      "text/plain": [
       "[('name', 'Frank'), ('nachname', 'Figluzzi'), ('beruf', 'FBI-Agent')]"
      ]
     },
     "execution_count": 41,
     "metadata": {},
     "output_type": "execute_result"
    }
   ],
   "source": [
    "# list() nur zur Darstellung nötig. Auch ohne list() aussenrum läuft das\n",
    "list(zip(schluessel, franky))"
   ]
  },
  {
   "cell_type": "code",
   "execution_count": 42,
   "id": "5c2220ba-d59f-4909-854f-3d732d86e6e0",
   "metadata": {
    "tags": []
   },
   "outputs": [
    {
     "data": {
      "text/plain": [
       "{'name': 'Frank', 'nachname': 'Figluzzi', 'beruf': 'FBI-Agent'}"
      ]
     },
     "execution_count": 42,
     "metadata": {},
     "output_type": "execute_result"
    }
   ],
   "source": [
    "franky_dict = dict(zip(schluessel,franky))\n",
    "franky_dict"
   ]
  },
  {
   "cell_type": "code",
   "execution_count": 43,
   "id": "634980e4-ee4f-4642-9cd6-c9299a691315",
   "metadata": {
    "tags": []
   },
   "outputs": [],
   "source": [
    "franky_dict_by_loop = {}\n",
    "\n",
    "for key, value in zip(schluessel,franky):\n",
    "    franky_dict_by_loop.update({key:value})"
   ]
  },
  {
   "cell_type": "code",
   "execution_count": 44,
   "id": "87a03735-f5d2-482e-b9a1-35f1d9568f2d",
   "metadata": {
    "tags": []
   },
   "outputs": [
    {
     "data": {
      "text/plain": [
       "{'name': 'Frank', 'nachname': 'Figluzzi', 'beruf': 'FBI-Agent'}"
      ]
     },
     "execution_count": 44,
     "metadata": {},
     "output_type": "execute_result"
    }
   ],
   "source": [
    "franky_dict_by_loop"
   ]
  },
  {
   "cell_type": "code",
   "execution_count": 45,
   "id": "39cf7425-b373-49e1-91fb-5f57c1a14941",
   "metadata": {
    "tags": []
   },
   "outputs": [
    {
     "data": {
      "text/plain": [
       "{'name': 'Frank', 'nachname': 'Figluzzi', 'beruf': 'FBI-Agent'}"
      ]
     },
     "execution_count": 45,
     "metadata": {},
     "output_type": "execute_result"
    }
   ],
   "source": [
    "franky_dict_by_loop2 = {}\n",
    "\n",
    "for key, value in zip(schluessel,franky):\n",
    "    franky_dict_by_loop2[key] = value\n",
    "franky_dict_by_loop2"
   ]
  },
  {
   "cell_type": "markdown",
   "id": "a176c4b8-81f7-40c6-b9e5-012f40545a2c",
   "metadata": {
    "jp-MarkdownHeadingCollapsed": true
   },
   "source": [
    "### Enumerate Builtin Funktion\n",
    "\n",
    "erstellt Tuple mit int, value_aus_iterable"
   ]
  }
 ],
 "metadata": {
  "kernelspec": {
   "display_name": "Python 3 (ipykernel)",
   "language": "python",
   "name": "python3"
  },
  "language_info": {
   "codemirror_mode": {
    "name": "ipython",
    "version": 3
   },
   "file_extension": ".py",
   "mimetype": "text/x-python",
   "name": "python",
   "nbconvert_exporter": "python",
   "pygments_lexer": "ipython3",
   "version": "3.12.6"
  }
 },
 "nbformat": 4,
 "nbformat_minor": 5
}
