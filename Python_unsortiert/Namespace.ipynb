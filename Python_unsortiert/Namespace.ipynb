{
 "cells": [
  {
   "cell_type": "markdown",
   "id": "eafc0d3b-ee10-4051-b855-53fbae5f7ce2",
   "metadata": {},
   "source": [
    "[Zurück zum Inhaltsverzeichnis](_Inhaltsverzeichnis_.ipynb)"
   ]
  },
  {
   "cell_type": "markdown",
   "id": "8e40f615-fe78-4d3b-b03b-608fd0eb469a",
   "metadata": {},
   "source": [
    "# Namespace"
   ]
  },
  {
   "cell_type": "markdown",
   "id": "de12976f-7bf5-4f15-a69b-c4df0bc0827a",
   "metadata": {},
   "source": [
    "Ein Namespace ist ein Container, der eine Gruppe von Namen (Bezeichnern) und deren zugehörigen Objekten enthält. Es sorgt dafür, dass Namen eindeutig identifiziert werden können und nicht miteinander kollidieren. Innerhalb eines bestimmten Namensraumes muss jeder Name eindeutig / einzigartig bleiben."
   ]
  },
  {
   "cell_type": "markdown",
   "id": "c929f8f7-dcee-4b0a-80c1-3dba7e5931d4",
   "metadata": {},
   "source": [
    "## import"
   ]
  },
  {
   "cell_type": "markdown",
   "id": "ff97a3bc-9f6f-48ab-a94c-1619a25e41f5",
   "metadata": {},
   "source": [
    "Wenn das Modul mit dem angegebenen Namen existiert und zugänglich ist (ein Modul ist in der Tat eine Python-Quelldatei), importiert Python seinen Inhalt, d.h. alle im Modul definierten Namen werden bekannt, aber sie gelangen nicht in den Namensraum Ihres Codes.\n",
    "\n",
    "Das bedeutet, dass Sie Ihre eigenen Entitäten mit dem Namen sin oder pi haben können und diese in keiner Weise vom Import betroffen sind.\n",
    "\n"
   ]
  },
  {
   "cell_type": "markdown",
   "id": "72dd53f5-2c71-462b-a36e-eb6fa12a9cdd",
   "metadata": {},
   "source": [
    "Syntax um ein Modul zu importieren:\n",
    "\n",
    "`import` `module_name`"
   ]
  },
  {
   "cell_type": "markdown",
   "id": "e5100877-1af3-483d-8d9c-6e738f31c525",
   "metadata": {},
   "source": [
    "Beispiel:"
   ]
  },
  {
   "cell_type": "code",
   "execution_count": 7,
   "id": "247a4ddf-70e7-4f1c-9e8f-5722b05ac628",
   "metadata": {},
   "outputs": [
    {
     "name": "stdout",
     "output_type": "stream",
     "text": [
      "3.141592653589793\n",
      "42\n"
     ]
    }
   ],
   "source": [
    "pi = 42 # Normale Variable\n",
    "# import math # Importierung des Moduls\n",
    "print(math.pi) # Aufruf der Methode AUF dem Modul\n",
    "print(pi) # pi hat sich nie verändert"
   ]
  },
  {
   "cell_type": "markdown",
   "id": "1a404988-476c-4c19-bb9f-896f9428dbf2",
   "metadata": {},
   "source": [
    "Die Variable pi und die Methode pi waren die ganze Zeit voneinander getrennt."
   ]
  },
  {
   "cell_type": "markdown",
   "id": "ef80c2f2-157e-4a3d-8a3e-d2c2fadaf7b2",
   "metadata": {},
   "source": [
    "Syntax um ein Module aufzurufen:\n",
    "\n",
    "`module_name` `.` `Methode`"
   ]
  },
  {
   "cell_type": "code",
   "execution_count": 18,
   "id": "01a18351-0aaa-4e68-bffd-ef6fd8a98758",
   "metadata": {},
   "outputs": [
    {
     "name": "stdout",
     "output_type": "stream",
     "text": [
      "1.0\n"
     ]
    }
   ],
   "source": [
    "print(math.sin(math.pi/2))"
   ]
  },
  {
   "cell_type": "markdown",
   "id": "742fb66b-5068-495b-918f-ec452da7bd2a",
   "metadata": {},
   "source": [
    "Beispiel 2"
   ]
  },
  {
   "cell_type": "code",
   "execution_count": 19,
   "id": "00389f00-d247-4b92-b69f-984e0a13ffcc",
   "metadata": {},
   "outputs": [
    {
     "name": "stdout",
     "output_type": "stream",
     "text": [
      "0.99999999\n",
      "1.0\n"
     ]
    }
   ],
   "source": [
    "import math\n",
    "\n",
    "def sin(x):\n",
    "    if 2 * x == pi:\n",
    "        return 0.99999999\n",
    "    else:\n",
    "        return None\n",
    "        \n",
    "pi = 3.14\n",
    "\n",
    "print(sin(pi/2))\n",
    "print(math.sin(math.pi/2))"
   ]
  },
  {
   "cell_type": "markdown",
   "id": "2b36acc6-6e0a-4538-839b-398daa4c43cf",
   "metadata": {},
   "source": [
    "## import from"
   ]
  },
  {
   "cell_type": "code",
   "execution_count": null,
   "id": "f0331d94-0663-4c31-9cc4-3b0adc3af6f2",
   "metadata": {},
   "outputs": [],
   "source": [
    "from math import pi\n"
   ]
  },
  {
   "cell_type": "markdown",
   "id": "e65f97ec-411b-4a7f-8dbb-9972dfffeae9",
   "metadata": {},
   "source": [
    "Syntax um eine einzelen Methode aus einem Modul zu importieren:\n",
    "\n",
    "`form` `module_name` `import` `Methode` (, weitere Methoden)"
   ]
  },
  {
   "cell_type": "markdown",
   "id": "d6ef7bfd-368e-42e1-aa91-425f55df07c2",
   "metadata": {},
   "source": [
    "Die Anweisung hat diese Wirkung:\n",
    "\n",
    "Die aufgeführten Entitäten (und nur diese) werden aus dem angegebenen Modul importiert;\n",
    "die Namen der importierten Entitäten sind **ohne Einschränkung** zugänglich.\n",
    "Das heißt sie wurden einfach zum \"global\" Namespace hinzugefügt."
   ]
  },
  {
   "cell_type": "code",
   "execution_count": 2,
   "id": "9d627f88-824f-4c93-b9b6-f3d15fc38c64",
   "metadata": {},
   "outputs": [
    {
     "ename": "NameError",
     "evalue": "name 'math' is not defined",
     "output_type": "error",
     "traceback": [
      "\u001b[1;31m---------------------------------------------------------------------------\u001b[0m",
      "\u001b[1;31mNameError\u001b[0m                                 Traceback (most recent call last)",
      "Cell \u001b[1;32mIn[2], line 3\u001b[0m\n\u001b[0;32m      1\u001b[0m pi \u001b[38;5;241m=\u001b[39m \u001b[38;5;241m42\u001b[39m \u001b[38;5;66;03m# Normale Variable\u001b[39;00m\n\u001b[0;32m      2\u001b[0m \u001b[38;5;28;01mfrom\u001b[39;00m \u001b[38;5;21;01mmath\u001b[39;00m \u001b[38;5;28;01mimport\u001b[39;00m pi \u001b[38;5;66;03m# Importierung des Moduls\u001b[39;00m\n\u001b[1;32m----> 3\u001b[0m \u001b[38;5;28mprint\u001b[39m(\u001b[43mmath\u001b[49m\u001b[38;5;241m.\u001b[39mpi) \u001b[38;5;66;03m# Aufruf der Methode AUF dem Modul\u001b[39;00m\n\u001b[0;32m      4\u001b[0m \u001b[38;5;28mprint\u001b[39m(pi) \u001b[38;5;66;03m# pi hat sich nie verändert\u001b[39;00m\n",
      "\u001b[1;31mNameError\u001b[0m: name 'math' is not defined"
     ]
    }
   ],
   "source": [
    "pi = 42 # Normale Variable\n",
    "from math import pi # Importierung des Moduls\n",
    "print(math.pi) # Aufruf der Methode AUF dem Modul\n",
    "print(pi) # pi hat sich nie verändert"
   ]
  },
  {
   "cell_type": "markdown",
   "id": "852e425a-040f-472c-b0c3-961981c2837a",
   "metadata": {},
   "source": [
    "Das importierte pi hat die Variable überschrieben."
   ]
  },
  {
   "cell_type": "code",
   "execution_count": 3,
   "id": "c8955faa-9f47-498d-a569-63eddaa3f6a6",
   "metadata": {},
   "outputs": [
    {
     "ename": "NameError",
     "evalue": "name 'math' is not defined",
     "output_type": "error",
     "traceback": [
      "\u001b[1;31m---------------------------------------------------------------------------\u001b[0m",
      "\u001b[1;31mNameError\u001b[0m                                 Traceback (most recent call last)",
      "Cell \u001b[1;32mIn[3], line 1\u001b[0m\n\u001b[1;32m----> 1\u001b[0m \u001b[43mmath\u001b[49m\u001b[38;5;241m.\u001b[39me\n",
      "\u001b[1;31mNameError\u001b[0m: name 'math' is not defined"
     ]
    }
   ],
   "source": [
    "math.e"
   ]
  },
  {
   "cell_type": "markdown",
   "id": "90f58782-3a25-4698-9b55-787e5ff07ee1",
   "metadata": {},
   "source": [
    "Andere Methoden aus dem Module math können nicht benutzt werden. Sie wurden nicht mit importiert."
   ]
  },
  {
   "cell_type": "code",
   "execution_count": 1,
   "id": "6d94cec1-290c-465e-bc18-a567a328e7fb",
   "metadata": {},
   "outputs": [
    {
     "name": "stdout",
     "output_type": "stream",
     "text": [
      "0.99999999\n"
     ]
    },
    {
     "ename": "NameError",
     "evalue": "name 'math' is not defined",
     "output_type": "error",
     "traceback": [
      "\u001b[1;31m---------------------------------------------------------------------------\u001b[0m",
      "\u001b[1;31mNameError\u001b[0m                                 Traceback (most recent call last)",
      "Cell \u001b[1;32mIn[1], line 10\u001b[0m\n\u001b[0;32m      7\u001b[0m pi \u001b[38;5;241m=\u001b[39m \u001b[38;5;241m3.14\u001b[39m\n\u001b[0;32m      9\u001b[0m \u001b[38;5;28mprint\u001b[39m(sin(pi\u001b[38;5;241m/\u001b[39m\u001b[38;5;241m2\u001b[39m))\n\u001b[1;32m---> 10\u001b[0m \u001b[38;5;28mprint\u001b[39m(\u001b[43mmath\u001b[49m\u001b[38;5;241m.\u001b[39msin(math\u001b[38;5;241m.\u001b[39mpi\u001b[38;5;241m/\u001b[39m\u001b[38;5;241m2\u001b[39m))\n",
      "\u001b[1;31mNameError\u001b[0m: name 'math' is not defined"
     ]
    }
   ],
   "source": [
    "def sin(x):\n",
    "    if 2 * x == pi:\n",
    "        return 0.99999999\n",
    "    else:\n",
    "        return None\n",
    "        \n",
    "pi = 3.14\n",
    "\n",
    "print(sin(pi/2))\n",
    "print(math.sin(math.pi/2))"
   ]
  },
  {
   "cell_type": "markdown",
   "id": "54d8c1a5-dfd6-417a-8cb1-09ce0affbca8",
   "metadata": {},
   "source": [
    "## from module import * (ALL)"
   ]
  },
  {
   "cell_type": "markdown",
   "id": "85d3ffd0-9ed5-48da-93ef-d311964942f5",
   "metadata": {},
   "source": [
    "NICHT IN REGULÄREM CODE VERWENDEN!!!"
   ]
  },
  {
   "cell_type": "markdown",
   "id": "5a440c8b-bf96-4d61-b7a4-969148bf2bca",
   "metadata": {},
   "source": [
    "## import module as alias"
   ]
  },
  {
   "cell_type": "markdown",
   "id": "2a16e6d4-a779-4a21-ab44-51d10d32ae2d",
   "metadata": {},
   "source": [
    "Syntax um ein Modul als Alias zu importieren (ihm eine Variable zu zuweisen)\n",
    "\n",
    "`import` `module_name` `as` `alias` "
   ]
  },
  {
   "cell_type": "code",
   "execution_count": 3,
   "id": "ec81da0d-d830-4e77-a6a8-75a8076a30b0",
   "metadata": {},
   "outputs": [],
   "source": [
    "import math as alias_math"
   ]
  },
  {
   "cell_type": "code",
   "execution_count": 4,
   "id": "d6d00c7a-835c-4413-b0d6-70dbe07c1054",
   "metadata": {},
   "outputs": [
    {
     "name": "stdout",
     "output_type": "stream",
     "text": [
      "3.141592653589793\n"
     ]
    }
   ],
   "source": [
    "print(alias_math.pi)"
   ]
  },
  {
   "cell_type": "markdown",
   "id": "bb0e2dab-96bb-4d53-b42f-00c80624e669",
   "metadata": {},
   "source": [
    "das gleiche funktioniert auch mit der Methodenspezifischen Variante:\n",
    "\n",
    "Syntax:\n",
    "\n",
    "`from` `module_name` `import` `Methode` `as` `alias`"
   ]
  },
  {
   "cell_type": "code",
   "execution_count": null,
   "id": "2cb19e21-7181-40a3-b4ba-4a6112909c2b",
   "metadata": {},
   "outputs": [],
   "source": []
  }
 ],
 "metadata": {
  "kernelspec": {
   "display_name": "Python 3 (ipykernel)",
   "language": "python",
   "name": "python3"
  },
  "language_info": {
   "codemirror_mode": {
    "name": "ipython",
    "version": 3
   },
   "file_extension": ".py",
   "mimetype": "text/x-python",
   "name": "python",
   "nbconvert_exporter": "python",
   "pygments_lexer": "ipython3",
   "version": "3.12.4"
  }
 },
 "nbformat": 4,
 "nbformat_minor": 5
}
