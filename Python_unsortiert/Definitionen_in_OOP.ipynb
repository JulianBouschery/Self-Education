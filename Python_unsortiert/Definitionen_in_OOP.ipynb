{
 "cells": [
  {
   "cell_type": "markdown",
   "id": "f2534afb-c4c3-47a0-8b54-66420fefa872",
   "metadata": {},
   "source": [
    "[Zurück zu OOP](OOP.ipynb)"
   ]
  },
  {
   "cell_type": "markdown",
   "id": "3419e0e7-ce91-4427-8846-76cf5317e867",
   "metadata": {},
   "source": [
    "# Quickcheck"
   ]
  },
  {
   "cell_type": "markdown",
   "id": "c5cc127f-f076-4552-b1ab-64865d549335",
   "metadata": {},
   "source": [
    "Kennst du die Definition der folgenden Begriffe in Python schon auswendig? Verstehst du genau was gemeint ist?"
   ]
  },
  {
   "cell_type": "markdown",
   "id": "8770cdaf-83f7-48fc-8fa2-672eb5b13773",
   "metadata": {},
   "source": [
    "Definiere die folgenden Begriffe, einmal für dich im Kopf:\n",
    "1. Instanz\n",
    "2. Instanzvariable\n",
    "3. Klassenvariable\n",
    "4. Instanzmethode == Methode?\n",
    "5. Attribut\n",
    "6. Paramter\n",
    "7. Argument\n",
    "8. Was ist der Unterschiedzwischen einem Parameter, einem Argument und einer Instanzvariable?\n",
    "9. Was macht die `__init__()`?\n",
    "10. Was ist `self` und wieso steht das am Anfang der Parameterliste"
   ]
  },
  {
   "cell_type": "code",
   "execution_count": null,
   "id": "346ac484-44d0-49cb-9dd2-80b4568c8a06",
   "metadata": {},
   "outputs": [],
   "source": [
    "class Klasse:\n",
    "\n",
    "    Klassenvariable1 = \"Klassenvariable Nr. 1\"\n",
    "\n",
    "    def instanzmethode(self, parameter1, parameter2, parameter3)\n",
    "        self.instanz_var1 = parameter1\n",
    "        self.instanz_variable2 = parameter2\n",
    "        self.instanz_variable3 = parameter3\n",
    "\n",
    "\n",
    "\n"
   ]
  },
  {
   "cell_type": "markdown",
   "id": "d9219ecf-9b33-4490-ada7-050e7be1501b",
   "metadata": {},
   "source": [
    "Jede Instanz ist ein Objekt, aber nicht jedes Objekt ist eine Instanz."
   ]
  },
  {
   "cell_type": "markdown",
   "id": "c352bed6-b9f4-4fe0-bf21-c7b7a1971cad",
   "metadata": {},
   "source": [
    "**Beispiel irgendwann um Klassenmethoden und Statische Methoden erweitern.**"
   ]
  },
  {
   "cell_type": "markdown",
   "id": "d4279b21-8c05-44b2-96a6-f77be1c55823",
   "metadata": {},
   "source": [
    "# Definition"
   ]
  },
  {
   "cell_type": "markdown",
   "id": "b8336783-015a-4334-b585-917d4ba34c37",
   "metadata": {},
   "source": [
    "Ein Attribut ist eine Eigenschafte oder ein Merkmal eines Objekts, die seine Daten speichern."
   ]
  },
  {
   "cell_type": "markdown",
   "id": "352f39ec-edfc-4855-ae5e-ca659796a72a",
   "metadata": {},
   "source": [
    "### Variable "
   ]
  },
  {
   "cell_type": "markdown",
   "id": "ddd4d43c-d355-4727-91b4-5d7c744caaa3",
   "metadata": {},
   "source": [
    "Eine Variable ist ein Pfad zu einem Speicherort im Computer, der Daten enthält. "
   ]
  },
  {
   "cell_type": "markdown",
   "id": "c20a6181-e16f-40fd-b1d1-08a0738e8226",
   "metadata": {},
   "source": [
    "Siehe auch: [Variable](Variablen.ipynb)"
   ]
  },
  {
   "cell_type": "markdown",
   "id": "bc154b0a-16a2-4e3c-83e2-fcb3e65ea315",
   "metadata": {},
   "source": [
    "### Instanz"
   ]
  },
  {
   "cell_type": "markdown",
   "id": "878cd73f-368a-4a8a-8ae4-9f3a1946fa29",
   "metadata": {},
   "source": [
    "Eine Instanz ist ein einzelnes, konkretes Objekt, das von einer Klasse erstellt wurde."
   ]
  },
  {
   "cell_type": "markdown",
   "id": "2856d9bb-3909-421e-9fcf-8e7d78c4ac41",
   "metadata": {},
   "source": [
    "Siehe auch: [Instanz](Instance.ipynb)"
   ]
  },
  {
   "cell_type": "markdown",
   "id": "ff933d31-12c3-4fe4-b5e1-767f599b8435",
   "metadata": {
    "jp-MarkdownHeadingCollapsed": true
   },
   "source": [
    "### Instanzvariable"
   ]
  },
  {
   "cell_type": "markdown",
   "id": "9c9d6063-e914-4a8d-9e54-8f152dd7841a",
   "metadata": {},
   "source": [
    "Eine Instanzvariable ist eine Variable, die innerhalb einer Instanz einer Klasse gespeichert ist und spezifische Daten dieser Instanz enthält."
   ]
  },
  {
   "cell_type": "markdown",
   "id": "22c50e75-8867-4736-9fae-f23b675cce3f",
   "metadata": {},
   "source": [
    "Siehe auch: [Instanzvariable](inst_var.ipynb)"
   ]
  },
  {
   "cell_type": "markdown",
   "id": "06c20ffe-88e8-4c3a-8c13-eb6502b7b8d8",
   "metadata": {},
   "source": [
    "### Klassenvariable"
   ]
  },
  {
   "cell_type": "markdown",
   "id": "bc4ed01e-95c2-4e45-82ed-899255f0b80d",
   "metadata": {},
   "source": [
    "Eine Klassenvariable ist eine Variable, die auf der Klassenebene definiert ist und auf die alle Instanzen der Klasse Zugriff haben."
   ]
  },
  {
   "cell_type": "markdown",
   "id": "2f0756f9-3fc9-4266-93fe-d4992dcbed64",
   "metadata": {},
   "source": [
    "Siehe auch: [Klassenvariable](class_var.ipynb)"
   ]
  },
  {
   "cell_type": "markdown",
   "id": "c4425092-84f8-41cb-aed4-0404bde5945f",
   "metadata": {
    "jp-MarkdownHeadingCollapsed": true
   },
   "source": [
    "### Instanzmethode"
   ]
  },
  {
   "cell_type": "markdown",
   "id": "5b3c84a1-5c73-4d9b-ae58-21b35aec4485",
   "metadata": {},
   "source": [
    "Eine Instanzmethode Methode ist eine Methode, die auf der Instanz einer Klasse angewendet wird und die Zugriff auf alle Daten der Instanz und der Klasse hat."
   ]
  },
  {
   "cell_type": "markdown",
   "id": "7364c961-fcac-4942-9353-1378070ae40a",
   "metadata": {
    "jp-MarkdownHeadingCollapsed": true
   },
   "source": [
    "### Attribut: "
   ]
  },
  {
   "cell_type": "markdown",
   "id": "82e6c1fc-271a-400c-88fc-e92ced5cf225",
   "metadata": {},
   "source": [
    "Attribut ist ein Überbegriff für alle **Objekte einer Klasse**, die über die Dot-Notation **aufrufbar** sind."
   ]
  },
  {
   "cell_type": "markdown",
   "id": "2a9078c1-5a9d-4a7d-b7ed-1301dcaa05d9",
   "metadata": {},
   "source": [
    "Siehe auch: [Attribut](attribute.ipynb)"
   ]
  },
  {
   "cell_type": "markdown",
   "id": "1fbf64d4-2caa-4a46-a24a-c90641bd2739",
   "metadata": {},
   "source": [
    "================================================================================================"
   ]
  },
  {
   "cell_type": "markdown",
   "id": "c1932a34-a756-4ece-817d-2afb05b4bcee",
   "metadata": {},
   "source": [
    "### Was ist eine Methode?"
   ]
  },
  {
   "cell_type": "markdown",
   "id": "d5ce4647-5bc8-4f10-b6ca-79b0c06ca5f0",
   "metadata": {},
   "source": [
    "Unterschied zwischen Instanzmethode und Methode:"
   ]
  },
  {
   "cell_type": "markdown",
   "id": "a50f4f8f-017c-4b61-abfb-465d9480d4bf",
   "metadata": {},
   "source": [
    "Klassenmethode:"
   ]
  },
  {
   "cell_type": "markdown",
   "id": "9bbd2f01-401f-4726-87aa-460800f949da",
   "metadata": {},
   "source": [
    "Statische Methode:"
   ]
  },
  {
   "cell_type": "code",
   "execution_count": null,
   "id": "a99e96ce-7b53-42b2-b426-9b176b653d39",
   "metadata": {},
   "outputs": [],
   "source": [
    "Der Begriff \"Methode\" umfasst mehrere Arten von Methoden. "
   ]
  },
  {
   "cell_type": "code",
   "execution_count": 4,
   "id": "c7f34fb3-de87-4a92-a480-65424089632f",
   "metadata": {},
   "outputs": [
    {
     "name": "stdout",
     "output_type": "stream",
     "text": [
      "This is an instance method\n",
      "This is a class method\n",
      "This is a static method\n"
     ]
    }
   ],
   "source": [
    "class MyClass:\n",
    "    def instance_method(self):\n",
    "        return \"This is an instance method\"\n",
    "\n",
    "    @classmethod\n",
    "    def class_method(cls):\n",
    "        return \"This is a class method\"\n",
    "\n",
    "    @staticmethod\n",
    "    def static_method():\n",
    "        return \"This is a static method\"\n",
    "\n",
    "obj = MyClass()\n",
    "print(obj.instance_method())  # Instanzmethode\n",
    "print(MyClass.class_method())  # Klassenmethode\n",
    "print(MyClass.static_method())  # Statische Methode\n"
   ]
  },
  {
   "cell_type": "markdown",
   "id": "14572f65-ce60-4222-8cbe-a13f6e2d650f",
   "metadata": {},
   "source": [
    "Können Instanzmethoden auch auf Klassen angewendet werden, oder verbietet Python das?"
   ]
  },
  {
   "cell_type": "code",
   "execution_count": 6,
   "id": "0b633ed6-623d-4f5c-9429-46eb37e9003a",
   "metadata": {},
   "outputs": [
    {
     "name": "stdout",
     "output_type": "stream",
     "text": [
      "This is an instance method\n"
     ]
    }
   ],
   "source": [
    "obj = MyClass()\n",
    "print(MyClass.instance_method(obj))"
   ]
  },
  {
   "cell_type": "markdown",
   "id": "caf80750-f720-4ce9-b4e2-436b204db28f",
   "metadata": {},
   "source": [
    "Jain. Du kannst über die Klasse auf die Instanz `obj` zugreifen, aber ohne die Angabe von `self` (obj) wüsste Python nicht wo es die Instanzmethode finden kann..."
   ]
  },
  {
   "cell_type": "code",
   "execution_count": 7,
   "id": "f58a57e9-10f9-4954-86df-14c13a334c24",
   "metadata": {},
   "outputs": [
    {
     "ename": "TypeError",
     "evalue": "MyClass.instance_method() missing 1 required positional argument: 'self'",
     "output_type": "error",
     "traceback": [
      "\u001b[1;31m---------------------------------------------------------------------------\u001b[0m",
      "\u001b[1;31mTypeError\u001b[0m                                 Traceback (most recent call last)",
      "Cell \u001b[1;32mIn[7], line 1\u001b[0m\n\u001b[1;32m----> 1\u001b[0m \u001b[38;5;28mprint\u001b[39m(\u001b[43mMyClass\u001b[49m\u001b[38;5;241;43m.\u001b[39;49m\u001b[43minstance_method\u001b[49m\u001b[43m(\u001b[49m\u001b[43m)\u001b[49m)\n",
      "\u001b[1;31mTypeError\u001b[0m: MyClass.instance_method() missing 1 required positional argument: 'self'"
     ]
    }
   ],
   "source": [
    "print(MyClass.instance_method())"
   ]
  },
  {
   "cell_type": "markdown",
   "id": "62d5f85a-6224-441d-b262-0fd5d7ea3f32",
   "metadata": {},
   "source": [
    "# Regeln "
   ]
  },
  {
   "cell_type": "markdown",
   "id": "e16d2d17-6e5b-4b20-825a-ce6db329c723",
   "metadata": {},
   "source": [
    "Lesender und schreibender Zugriff an einem Beispiel:"
   ]
  },
  {
   "cell_type": "code",
   "execution_count": null,
   "id": "b5b5bf60-9dad-4d25-8f40-76b59b04ced9",
   "metadata": {},
   "outputs": [],
   "source": [
    "class Demo:\n",
    "    \n",
    "    __x = \"Klassenvariable\"\n",
    "    def __init__(self, value):\n",
    "        self.__instance_var = value\n",
    "    def __normale_meth_keine_init_keine_dunder(self):\n",
    "        self.var_gesetzt_in_methode = 42\n",
    "\n",
    "d1 = Demo(100)\n",
    "d2 = Demo(200)\n",
    "\n",
    "print(d1._Demo__x)\n",
    "\n",
    "d1._Demo__x = \"Überschreibe Klassenvariable???\"\n",
    "print(Demo._Demo__x)\n",
    "print(d1._Demo__x)"
   ]
  },
  {
   "cell_type": "markdown",
   "id": "8fb380da-ac6a-4013-9528-239eb7ddb0d0",
   "metadata": {},
   "source": [
    "[Code im Pythontutor](https://pythontutor.com/visualize.html#code=class%20Demo%3A%0A%20%20%20%20%0A%20%20%20%20__x%20%3D%20%22Klassenvariable%22%0A%20%20%20%20def%20__init__%28self,%20value%29%3A%0A%20%20%20%20%20%20%20%20self.__instance_var%20%3D%20value%0A%20%20%20%20def%20__normale_meth_keine_init_keine_dunder%28self%29%3A%0A%20%20%20%20%20%20%20%20self.var_gesetzt_in_methode%20%3D%2042%0A%0Ad1%20%3D%20Demo%28100%29%0Ad2%20%3D%20Demo%28200%29%0A%0Aprint%28d1._Demo__x%29%0A%0Ad1._Demo__x%20%3D%20%22%C3%9Cberschreibe%20Klassenvariable%3F%3F%3F%22%0Aprint%28Demo._Demo__x%29%0Aprint%28d1._Demo__x%29%0A&cumulative=false&heapPrimitives=nevernest&mode=edit&origin=opt-frontend.js&py=311&rawInputLstJSON=%5B%5D&textReferences=false)"
   ]
  },
  {
   "cell_type": "markdown",
   "id": "7933e732-57bb-4b32-a854-4a7ab00bf7c3",
   "metadata": {},
   "source": [
    "In diesem Code wird geprüft, ob du die folgenden Themen beherrscht:\n",
    "\n",
    "- [Klassen](class.ipynb)\n",
    "- [Methoden (Instanzvariablen)](method.ipynb)\n",
    "- [`__init__`-Methode](i__init__.ipynb)\n",
    "- [Variablen (Instanz- und Klassenvariablen)](Variablen.ipynb)\n",
    "- [Name Mangeling](Name_Mangling.ipynb)\n",
    "- [Lesender und Schreibender Zugriff](Zugriff.ipynb)\n",
    "  \n",
    "(PS: Die Wörter sind Links zum jeweiligen Thema)"
   ]
  },
  {
   "cell_type": "code",
   "execution_count": null,
   "id": "f6ad511d-1968-4bdb-b825-17d5b37595b1",
   "metadata": {},
   "outputs": [],
   "source": [
    "\n",
    "print(__name__)\n",
    "\n",
    "class Demo:\n",
    "    \n",
    "    __x = \"Klassenvariable\"\n",
    "   \n",
    "    def __init__(self, value):\n",
    "        c1 = self.__class__\n",
    "        self.__instance_var = value\n",
    "        Demo.y = 100\n",
    "        self.__class__.instance_var = \"huhu\"\n",
    "        #c2 = self.__name__\n",
    "        #MErke: __name__ definiert für module, klassen, funktionen/method\n",
    "        # __name__ NICHT definiert für \"normale\" Instanzen von Klassen\n",
    "        c3 = self.__class__.__name__\n",
    "        #c4 = self.__class__.__module__.__name__\n",
    "\n",
    "d1 = Demo(100)"
   ]
  },
  {
   "cell_type": "markdown",
   "id": "41d0f923-6f0e-4d8c-9026-4ebbc8978bed",
   "metadata": {},
   "source": [
    "[Zweites Beispiel](https://pythontutor.com/render.html#code=%0Aprint%28__name__%29%0A%0Aclass%20Demo%3A%0A%20%20%20%20%0A%20%20%20%20__x%20%3D%20%22Klassenvariable%22%0A%20%20%20%0A%20%20%20%20def%20__init__%28self,%20value%29%3A%0A%20%20%20%20%20%20%20%20c1%20%3D%20self.__class__%0A%20%20%20%20%20%20%20%20self.__instance_var%20%3D%20value%0A%20%20%20%20%20%20%20%20Demo.y%20%3D%20100%0A%20%20%20%20%20%20%20%20self.__class__.instance_var%20%3D%20%22huhu%22%0A%20%20%20%20%20%20%20%20%23c2%20%3D%20self.__name__%0A%20%20%20%20%20%20%20%20%23MErke%3A%20__name__%20definiert%20f%C3%BCr%20module,%20klassen,%20funktionen/method%0A%20%20%20%20%20%20%20%20%23%20__name__%20NICHT%20definiert%20f%C3%BCr%20%22normale%22%20Instanzen%20von%20Klassen%0A%20%20%20%20%20%20%20%20c3%20%3D%20self.__class__.__name__%0A%20%20%20%20%20%20%20%20%23c4%20%3D%20self.__class__.__module__.__name__%0A%0Ad1%20%3D%20Demo%28100%29&cumulative=false&curInstr=5&heapPrimitives=nevernest&mode=display&origin=opt-frontend.js&py=311&rawInputLstJSON=%5B%5D&textReferences=false)"
   ]
  }
 ],
 "metadata": {
  "kernelspec": {
   "display_name": "Python 3 (ipykernel)",
   "language": "python",
   "name": "python3"
  },
  "language_info": {
   "codemirror_mode": {
    "name": "ipython",
    "version": 3
   },
   "file_extension": ".py",
   "mimetype": "text/x-python",
   "name": "python",
   "nbconvert_exporter": "python",
   "pygments_lexer": "ipython3",
   "version": "3.12.4"
  }
 },
 "nbformat": 4,
 "nbformat_minor": 5
}
