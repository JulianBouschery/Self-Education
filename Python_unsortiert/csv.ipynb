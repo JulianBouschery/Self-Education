{
 "cells": [
  {
   "cell_type": "markdown",
   "id": "aede9e4b-fc5d-4bc6-a8b7-bb92d895931b",
   "metadata": {},
   "source": [
    "# CSV-Datei"
   ]
  },
  {
   "cell_type": "code",
   "execution_count": 3,
   "id": "2567ffa7-3cbe-4820-819a-54b14cae4d1f",
   "metadata": {
    "scrolled": true
   },
   "outputs": [
    {
     "ename": "NameError",
     "evalue": "name 'csv' is not defined",
     "output_type": "error",
     "traceback": [
      "\u001b[1;31m---------------------------------------------------------------------------\u001b[0m",
      "\u001b[1;31mNameError\u001b[0m                                 Traceback (most recent call last)",
      "Cell \u001b[1;32mIn[3], line 1\u001b[0m\n\u001b[1;32m----> 1\u001b[0m \u001b[43mcsv\u001b[49m\u001b[38;5;241m.\u001b[39mDictReader(file) \u001b[38;5;66;03m# Erstellt aus der csv Datei ein Dictionary mit vielen Dictionaries\u001b[39;00m\n",
      "\u001b[1;31mNameError\u001b[0m: name 'csv' is not defined"
     ]
    }
   ],
   "source": [
    "csv.DictReader(file) # Erstellt aus der csv Datei ein Dictionary mit vielen Dictionaries"
   ]
  }
 ],
 "metadata": {
  "kernelspec": {
   "display_name": "Python 3 (ipykernel)",
   "language": "python",
   "name": "python3"
  },
  "language_info": {
   "codemirror_mode": {
    "name": "ipython",
    "version": 3
   },
   "file_extension": ".py",
   "mimetype": "text/x-python",
   "name": "python",
   "nbconvert_exporter": "python",
   "pygments_lexer": "ipython3",
   "version": "3.12.4"
  }
 },
 "nbformat": 4,
 "nbformat_minor": 5
}
