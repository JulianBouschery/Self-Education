{
 "cells": [
  {
   "cell_type": "markdown",
   "id": "a90e0c7c-6b23-49b0-b049-b7dc68a14e6e",
   "metadata": {},
   "source": [
    "[Zurück zum Inhaltsverzeichnis](_Inhaltsverzeichnis_.ipynb)"
   ]
  },
  {
   "cell_type": "markdown",
   "id": "1fdf0bf8-6f26-4ee2-822c-d82e4e6b4622",
   "metadata": {},
   "source": [
    "# filter"
   ]
  },
  {
   "cell_type": "markdown",
   "id": "c2f4ef6e-4fa0-4b0f-91c1-1037ff9e06f1",
   "metadata": {},
   "source": [
    "## Überblick"
   ]
  },
  {
   "cell_type": "markdown",
   "id": "50161692-25cc-484b-93c5-4bdaeec94e30",
   "metadata": {},
   "source": [
    "\n",
    "Name der Funktion: filter\n",
    "\n",
    "Instanz der Klasse: ?\n",
    "\n",
    "Syntax:\n",
    "\n",
    "`filter` `(` `FUNKTION` `,` `ITERABLE` `)` \n",
    "\n",
    "Parameter: \n",
    "```python\n",
    "filter(self, /, *args, **kwargs)    \n",
    "```\n",
    "Funktion: \n",
    "Die filter-Funktion wird verwendet, um Elemente aus einem iterierbaren Objekt (z. B. einer Liste) zu filtern, basierend auf einer Funktion, die für jedes Element einen booleschen Wert (True oder False) zurückgibt. Nur die Elemente, für die die Funktion True zurückgibt, werden in das Ergebnis aufgenommen.\n",
    "\n",
    "\n",
    "Default return: \n",
    "```python\n",
    "Gefiltertes Ergebnis\n",
    "```\n",
    "Error:\n"
   ]
  },
  {
   "cell_type": "markdown",
   "id": "e6521f94-9fc0-4a7c-bbb5-83ea324476f4",
   "metadata": {},
   "source": [
    "#### Instanz"
   ]
  },
  {
   "cell_type": "code",
   "execution_count": 67,
   "id": "ac568b15-9bf4-49be-b9ed-046bcd8bb1a5",
   "metadata": {},
   "outputs": [
    {
     "ename": "TypeError",
     "evalue": "filter expected 2 arguments, got 0",
     "output_type": "error",
     "traceback": [
      "\u001b[1;31m---------------------------------------------------------------------------\u001b[0m",
      "\u001b[1;31mTypeError\u001b[0m                                 Traceback (most recent call last)",
      "Cell \u001b[1;32mIn[67], line 1\u001b[0m\n\u001b[1;32m----> 1\u001b[0m \u001b[38;5;28mprint\u001b[39m(\u001b[38;5;28mtype\u001b[39m(\u001b[38;5;28;43mfilter\u001b[39;49m\u001b[43m(\u001b[49m\u001b[43m)\u001b[49m))\n",
      "\u001b[1;31mTypeError\u001b[0m: filter expected 2 arguments, got 0"
     ]
    }
   ],
   "source": [
    "print(type(filter()))"
   ]
  },
  {
   "cell_type": "markdown",
   "id": "01ea6d66-0ce6-48e1-aa83-78a09e7abbbe",
   "metadata": {},
   "source": [
    "#### Parameter"
   ]
  },
  {
   "cell_type": "code",
   "execution_count": 68,
   "id": "a7f7aaee-4503-47f8-afe6-aa3047ac6ca6",
   "metadata": {},
   "outputs": [
    {
     "data": {
      "text/plain": [
       "\u001b[1;31mInit signature:\u001b[0m \u001b[0mfilter\u001b[0m\u001b[1;33m(\u001b[0m\u001b[0mself\u001b[0m\u001b[1;33m,\u001b[0m \u001b[1;33m/\u001b[0m\u001b[1;33m,\u001b[0m \u001b[1;33m*\u001b[0m\u001b[0margs\u001b[0m\u001b[1;33m,\u001b[0m \u001b[1;33m**\u001b[0m\u001b[0mkwargs\u001b[0m\u001b[1;33m)\u001b[0m\u001b[1;33m\u001b[0m\u001b[1;33m\u001b[0m\u001b[0m\n",
       "\u001b[1;31mDocstring:\u001b[0m     \n",
       "filter(function or None, iterable) --> filter object\n",
       "\n",
       "Return an iterator yielding those items of iterable for which function(item)\n",
       "is true. If function is None, return the items that are true.\n",
       "\u001b[1;31mType:\u001b[0m           type\n",
       "\u001b[1;31mSubclasses:\u001b[0m     "
      ]
     },
     "metadata": {},
     "output_type": "display_data"
    }
   ],
   "source": [
    "filter?"
   ]
  },
  {
   "cell_type": "markdown",
   "id": "27e1776f-e496-412b-874c-6a644fbc866c",
   "metadata": {},
   "source": [
    "#### return"
   ]
  },
  {
   "cell_type": "code",
   "execution_count": 69,
   "id": "87c20454-7103-46f3-816a-005538ec3a3f",
   "metadata": {},
   "outputs": [],
   "source": [
    "# Default return: Ohne Argument => leeres\n"
   ]
  },
  {
   "cell_type": "code",
   "execution_count": 70,
   "id": "0e2de6f1-0c34-4cb5-8523-75bdd9b369f0",
   "metadata": {},
   "outputs": [],
   "source": [
    "# return: Mit Argumenten --> befülltes \n"
   ]
  },
  {
   "cell_type": "markdown",
   "id": "b45e07e6-838a-4ef9-ace4-e52d0191e022",
   "metadata": {},
   "source": [
    "### Error:"
   ]
  },
  {
   "cell_type": "markdown",
   "id": "a97947c2-3d03-4865-b137-464ec37319b9",
   "metadata": {},
   "source": [
    "## Detailierte Erklärung"
   ]
  },
  {
   "cell_type": "markdown",
   "id": "60f7bb6e-3aec-4def-88f9-6dcd4bccb1a6",
   "metadata": {},
   "source": [
    "Die filter-Funktion wird verwendet, um Elemente aus einem iterierbaren Objekt (z. B. einer Liste) zu filtern, basierend auf einer Funktion, die für jedes Element einen booleschen Wert (True oder False) zurückgibt. Nur die Elemente, für die die Funktion True zurückgibt, werden in das Ergebnis aufgenommen.\n",
    "\n",
    "Funktionsweise ist: \n",
    "\n",
    "1. Laufe über alle Werte von Iterable (hier ist in der Funktion eine for-Schleife am Werke)\n",
    "2. Wende die Funktion \"funktion()\" auf JEDES ELEMENT des Iterable an \n",
    "3. Wenn das Ergebnis des Funktionsaufruf True oder truthy ist, dann behalte dieses Element. (truthy = Wahrheitswert eines Objekts im boolschen Kontext)\n",
    "4. Wenn nicht lösche es. \n",
    "\n",
    "Wir bekommen eine filter Instanz, die alle Werte enthält. Ähnlich wie bei range() können wir uns diese anzeigen lassen, indem wir das Filter Objekt in ein Tuple, oder Liste verwandeln."
   ]
  },
  {
   "cell_type": "markdown",
   "id": "f1780cfe-ae09-4d32-af3d-abf0179f8b5a",
   "metadata": {},
   "source": [
    "Sinngemäß:"
   ]
  },
  {
   "cell_type": "code",
   "execution_count": null,
   "id": "3700233b-9836-4a68-8de7-33d8456a79b7",
   "metadata": {},
   "outputs": [],
   "source": [
    "liste = []\n",
    "for wert in iterable: \n",
    "    if funktion(wert):          # evaluiert zu True\n",
    "        print(\"behalte\")\n",
    "        liste.append(wert)      # behalte im Sinne speicher ab\n",
    "    else:                       # evaluiert zu False\n",
    "        print(\"nicht behalten\") # lösche im Sinne von speicherte nicht ab"
   ]
  },
  {
   "cell_type": "markdown",
   "id": "5e5aeb95-5ff7-4d6a-9835-0e9cb60c6f82",
   "metadata": {},
   "source": [
    "### Veränderung der Syntax von def zu lambda am Beispiel von Integer"
   ]
  },
  {
   "cell_type": "markdown",
   "id": "7347408a-a109-4ab8-b871-900c564bcbd0",
   "metadata": {},
   "source": [
    "Syntax:\n",
    "\n",
    "`filter` `(` `FUNKTION` `,` `ITERABLE` `)"
   ]
  },
  {
   "cell_type": "markdown",
   "id": "9eed0a0f-af3f-4e68-81ee-136341b60ccc",
   "metadata": {},
   "source": [
    "Welche Blöcke haben wir?"
   ]
  },
  {
   "cell_type": "markdown",
   "id": "0cdb110b-b03f-4583-a09a-83889673e4f2",
   "metadata": {},
   "source": [
    "```python\n",
    "\"1. Block    2. Block\"\n",
    "def is_even  (n): \n",
    "    return   n % 2 == 0 \n",
    "             \"3. Block\"\n",
    "\"4.Block\"\n",
    "numbers = [1, 2, 3, 4, 5, 6, 7, 8, 9, 10]\n",
    "\n",
    "even_numbers = filter(is_even, numbers)\n",
    "```"
   ]
  },
  {
   "cell_type": "markdown",
   "id": "5f6ebd81-5073-400c-96bc-0b52fc486407",
   "metadata": {},
   "source": [
    "```python\n",
    "\"1. Block\": def is_even --> lambda\n",
    "\"2. Block\": (n): --> n :\n",
    "\n",
    "return wird gelöscht\n",
    "\"3. Block und 4. Block\": bleiben gleich und verändern nur ihre Position\n",
    "\n",
    "\"3. Block\": n % 2 == 0 bleibt n % 2 == 0\n",
    "\"4. Block\": numbers bleibt numbers\n",
    "```"
   ]
  },
  {
   "cell_type": "markdown",
   "id": "d10cf23c-732a-437b-b94a-aada29a5a41a",
   "metadata": {},
   "source": [
    "```python \n",
    "                     \"1. Block  2. Block  3. Block    4. Block\"\n",
    "even_numbers = filter(lambda       n :    n % 2 == 0, numbers)\n",
    "```"
   ]
  },
  {
   "cell_type": "markdown",
   "id": "7089609f-d609-4742-9e53-6dd44d2799e6",
   "metadata": {},
   "source": [
    "#### Beispiel Übergabe von Funktion an filter()"
   ]
  },
  {
   "cell_type": "code",
   "execution_count": 18,
   "id": "1d87deb3-e811-4780-ae60-34fe15cd9fdc",
   "metadata": {},
   "outputs": [
    {
     "name": "stdout",
     "output_type": "stream",
     "text": [
      "[2, 4, 6, 8, 10]\n"
     ]
    }
   ],
   "source": [
    "def is_even(n):\n",
    "    return n % 2 == 0\n",
    "\n",
    "numbers = [1, 2, 3, 4, 5, 6, 7, 8, 9, 10]\n",
    "even_numbers = filter(is_even, numbers)\n",
    "\n",
    "print(list(even_numbers))  # Ausgabe: [2, 4, 6, 8, 10]\n"
   ]
  },
  {
   "cell_type": "markdown",
   "id": "188c8f69-8739-4cf9-a533-f799065defd1",
   "metadata": {},
   "source": [
    "#### Beispiel Übergabe von lambda an filter()"
   ]
  },
  {
   "cell_type": "code",
   "execution_count": 19,
   "id": "4d5c8f0c-7410-4e92-9406-537a27fb362d",
   "metadata": {},
   "outputs": [
    {
     "name": "stdout",
     "output_type": "stream",
     "text": [
      "[2, 4, 6, 8, 10]\n"
     ]
    }
   ],
   "source": [
    "numbers = [1, 2, 3, 4, 5, 6, 7, 8, 9, 10]\n",
    "even_numbers = filter(lambda n: n % 2 == 0, numbers)\n",
    "\n",
    "print(list(even_numbers))  # Ausgabe: [2, 4, 6, 8, 10]\n"
   ]
  },
  {
   "cell_type": "markdown",
   "id": "73a682a9-b6b6-4eeb-b3d0-2dc60b7d6f9d",
   "metadata": {},
   "source": [
    "#### Beispiel ohne filter()"
   ]
  },
  {
   "cell_type": "code",
   "execution_count": 20,
   "id": "d67da83b-951f-48cb-ba0a-6336af4d61de",
   "metadata": {},
   "outputs": [
    {
     "name": "stdout",
     "output_type": "stream",
     "text": [
      "[2, 4, 6, 8, 10]\n"
     ]
    }
   ],
   "source": [
    "numbers = [1, 2, 3, 4, 5, 6, 7, 8, 9, 10]\n",
    "even_numbers = [n for n in numbers if n % 2 == 0]\n",
    "\n",
    "print(even_numbers)  # Ausgabe: [2, 4, 6, 8, 10]\n"
   ]
  },
  {
   "cell_type": "markdown",
   "id": "3df5b6de-7727-4918-9bbf-c0035f570c56",
   "metadata": {},
   "source": [
    "### Beispiele mit String"
   ]
  },
  {
   "cell_type": "markdown",
   "id": "2a0e782b-cdc9-48a1-8671-6d5eeec7b926",
   "metadata": {},
   "source": [
    "Siehe auch: [lambda](lambda.ipynb)"
   ]
  },
  {
   "cell_type": "code",
   "execution_count": 73,
   "id": "f07db9ed-4f5f-4be9-bd73-5838f8e509b7",
   "metadata": {
    "tags": []
   },
   "outputs": [],
   "source": [
    "chemische_fachbegriffe = [\n",
    "    # Alkohole\n",
    "    \"Ethanol\", \"Methanol\", \"Propanol\", \"Butanol\", \"Isopropanol\", \n",
    "    \"Glycerol\", \"Ethylenglykol\", \"Phenol\", \"Tert-Butanol\", \"Sek-Butanol\",\n",
    "\n",
    "    # Benzole und Derivate\n",
    "    \"Benzol\", \"Toluol\", \"Xylol\", \"Ethylbenzol\", \"Cumol\", \n",
    "    \"Styrol\", \"Anilin\", \"Nitrobenzol\", \"Benzaldehyd\", \"Benzoesäure\",\n",
    "\n",
    "    # Allgemeine chemische Begriffe\n",
    "    \"Aromatische Kohlenwasserstoffe\", \"Aliphatische Kohlenwasserstoffe\", \"Hydroxylgruppe\", \n",
    "    \"Carboxylgruppe\", \"Aldehyde\", \"Ketone\", \"Ester\", \"Ether\", \n",
    "    \"Amine\", \"Amide\",\n",
    "]\n"
   ]
  },
  {
   "cell_type": "code",
   "execution_count": 74,
   "id": "cf7e7bd3-8031-43b4-9cfa-73613da518ff",
   "metadata": {
    "tags": []
   },
   "outputs": [],
   "source": [
    "def f(word):\n",
    "    return \"anol\" in word"
   ]
  },
  {
   "cell_type": "code",
   "execution_count": 75,
   "id": "937fff6f-580b-4957-a1c5-8352c3a958ab",
   "metadata": {
    "tags": []
   },
   "outputs": [],
   "source": [
    "liste_der_alkohole = []\n",
    "\n",
    "for element in chemische_fachbegriffe:\n",
    "    if f(element):\n",
    "        liste_der_alkohole.append(element)"
   ]
  },
  {
   "cell_type": "code",
   "execution_count": 76,
   "id": "54552a09-4be8-4317-9f0c-c6d15df0fbf5",
   "metadata": {
    "tags": []
   },
   "outputs": [
    {
     "data": {
      "text/plain": [
       "['Ethanol',\n",
       " 'Methanol',\n",
       " 'Propanol',\n",
       " 'Butanol',\n",
       " 'Isopropanol',\n",
       " 'Tert-Butanol',\n",
       " 'Sek-Butanol']"
      ]
     },
     "execution_count": 76,
     "metadata": {},
     "output_type": "execute_result"
    }
   ],
   "source": [
    "liste_der_alkohole"
   ]
  },
  {
   "cell_type": "code",
   "execution_count": 77,
   "id": "6bba59fb-bcbe-4406-b5fc-02c233de91b9",
   "metadata": {},
   "outputs": [
    {
     "data": {
      "text/plain": [
       "['Ethanol',\n",
       " 'Methanol',\n",
       " 'Propanol',\n",
       " 'Butanol',\n",
       " 'Isopropanol',\n",
       " 'Tert-Butanol',\n",
       " 'Sek-Butanol']"
      ]
     },
     "execution_count": 77,
     "metadata": {},
     "output_type": "execute_result"
    }
   ],
   "source": [
    "filter_object = filter(lambda x: \"anol\" in x, chemische_fachbegriffe)\n",
    "list(filter_object)"
   ]
  },
  {
   "cell_type": "markdown",
   "id": "a9c6f814-f9b3-40fc-9fd1-c25639fb0ccc",
   "metadata": {},
   "source": [
    "#### Als List Comprehension"
   ]
  },
  {
   "cell_type": "code",
   "execution_count": 42,
   "id": "14ec788f-a5d1-4d79-a281-3be95417ac52",
   "metadata": {},
   "outputs": [
    {
     "data": {
      "text/plain": [
       "['Ethanol',\n",
       " 'Methanol',\n",
       " 'Propanol',\n",
       " 'Butanol',\n",
       " 'Isopropanol',\n",
       " 'Tert-Butanol',\n",
       " 'Sek-Butanol']"
      ]
     },
     "execution_count": 42,
     "metadata": {},
     "output_type": "execute_result"
    }
   ],
   "source": [
    "func = [word for word in chemische_fachbegriffe if \"anol\" in word]\n",
    "func"
   ]
  },
  {
   "cell_type": "markdown",
   "id": "cce9ad62-dff5-4404-b7a2-8b47a88f5bb8",
   "metadata": {},
   "source": [
    "# Fallstrick bei der filter()"
   ]
  },
  {
   "cell_type": "markdown",
   "id": "0d08507e-23f3-4c8f-916a-c45c606de859",
   "metadata": {},
   "source": [
    "Es gibt 3 Möglichkeiten den selben Effekt zu erziehlen wie die filter()\n",
    "\n",
    "1. Du benutzt sie nicht und schreibst eine Funktion die das auch ohne Filter hinbekommt. Slicen, List Comprehension etc.\n",
    "2. Du benutzt die filter() und setzt lambda ein um die Funktion on the fly zu definieren.\n",
    "3. Du schreibst eine funktion, die ein einzelnes Element auf eine Bedingung prüft und setzt sie zusammen mit dem Iterable in die filter() ein."
   ]
  },
  {
   "cell_type": "markdown",
   "id": "33ed9718-6963-40dd-bd66-7bfa51f64afc",
   "metadata": {},
   "source": [
    "Das WICHTIGE ist, dass du NICHT versuchst die Funktion von 1. in die filter() einzufügen wie bei 3. Das gibt ein heilloses durcheinander und Verwirrung und ist der Grund warum ich das hier so betone..."
   ]
  },
  {
   "cell_type": "markdown",
   "id": "0e2df26c-851c-4897-b051-78026554fbce",
   "metadata": {},
   "source": [
    "## Erklärung am Realbeispiel einer Aufgabenstellung"
   ]
  },
  {
   "cell_type": "markdown",
   "id": "be25766e-b377-489f-81ad-4f94ac9c3574",
   "metadata": {},
   "source": [
    "Filtere alle Personen heraus die älter als 42 sind und gib die gefilterte Liste zurück."
   ]
  },
  {
   "cell_type": "code",
   "execution_count": 57,
   "id": "e2b2896e-cdc0-4907-bfd7-0411a54fce44",
   "metadata": {},
   "outputs": [],
   "source": [
    "personen = [\n",
    "    (\"Anna Müller\", 28, \"Ingenieurin\"),\n",
    "    (\"Bastian Schmidt\", 55, \"Lehrer\"),\n",
    "    (\"Carla Weber\", 43, \"Ärztin\"),\n",
    "    (\"David Bauer\", 29, \"Journalist\"),\n",
    "    (\"Elena Fischer\", 34, \"Architektin\"),\n",
    "    (\"Felix Wolf\", 31, \"Softwareentwickler\"),\n",
    "    (\"Gina Meier\", 27, \"Marketing-Managerin\"),\n",
    "    (\"Hans Richter\", 45, \"Rechtsanwalt\"),\n",
    "    (\"Isabel Wagner\", 38, \"Biologin\"),\n",
    "    (\"Jonas Krause\", 33, \"Musiker\"),\n",
    "    (\"Karin Becker\", 30, \"Designer\"),\n",
    "    (\"Lukas Vogel\", 26, \"Student\"),\n",
    "    (\"Mara Hoffmann\", 40, \"Projektmanagerin\"),\n",
    "    (\"Nico König\", 37, \"Bauingenieur\"),\n",
    "    (\"Olivia Braun\", 32, \"Krankenschwester\"),\n",
    "    (\"Paul Seidel\", 50, \"Unternehmer\"),\n",
    "    (\"Quirin Lang\", 36, \"Chemiker\"),\n",
    "    (\"Rita Köhler\", 28, \"Journalistin\"),\n",
    "    (\"Stefan Groß\", 41, \"Arzt\"),\n",
    "    (\"Tina Frank\", 39, \"Lehrerin\")\n",
    "]"
   ]
  },
  {
   "cell_type": "markdown",
   "id": "d38a8df1-c857-494a-aa52-8558ad50c074",
   "metadata": {},
   "source": [
    "### Fall 1. ohne filter()"
   ]
  },
  {
   "cell_type": "code",
   "execution_count": 81,
   "id": "08ba0aba-f3d6-4002-8bb7-ea3a8dc5f8d8",
   "metadata": {},
   "outputs": [
    {
     "data": {
      "text/plain": [
       "[('Bastian Schmidt', 55, 'Lehrer'),\n",
       " ('Carla Weber', 43, 'Ärztin'),\n",
       " ('Hans Richter', 45, 'Rechtsanwalt'),\n",
       " ('Paul Seidel', 50, 'Unternehmer')]"
      ]
     },
     "execution_count": 81,
     "metadata": {},
     "output_type": "execute_result"
    }
   ],
   "source": [
    "listeÜ42 = []\n",
    "\n",
    "for person in personen:\n",
    "    if person[1] > 42:\n",
    "        listeÜ42.append(person)\n",
    "listeÜ42"
   ]
  },
  {
   "cell_type": "markdown",
   "id": "b47c0501-ab2a-459b-b36e-9db9942b4604",
   "metadata": {},
   "source": [
    "Oder als aufrufbare Funktion"
   ]
  },
  {
   "cell_type": "code",
   "execution_count": 90,
   "id": "b4181882-9100-4829-84d8-747474142276",
   "metadata": {},
   "outputs": [],
   "source": [
    "def filter_älter_42(liste):\n",
    "    listeÜ42 =[]\n",
    "    for elem in liste:\n",
    "        if elem[1] > 42:           \n",
    "            listeÜ42.append(elem)  \n",
    "    return listeÜ42"
   ]
  },
  {
   "cell_type": "code",
   "execution_count": 91,
   "id": "74620315-3b32-4f43-a6d1-ddf60f6b8981",
   "metadata": {},
   "outputs": [
    {
     "data": {
      "text/plain": [
       "[('Bastian Schmidt', 55, 'Lehrer'),\n",
       " ('Carla Weber', 43, 'Ärztin'),\n",
       " ('Hans Richter', 45, 'Rechtsanwalt'),\n",
       " ('Paul Seidel', 50, 'Unternehmer')]"
      ]
     },
     "execution_count": 91,
     "metadata": {},
     "output_type": "execute_result"
    }
   ],
   "source": [
    "filter_älter_42(personen)"
   ]
  },
  {
   "cell_type": "markdown",
   "id": "92ce1e5e-a3ac-46b8-bb58-2dc221fdbef4",
   "metadata": {},
   "source": [
    "### Fall 2. Funktion extra für filter() schreiben"
   ]
  },
  {
   "cell_type": "code",
   "execution_count": 68,
   "id": "13616001-6642-4cc9-84d6-57d78806a9b7",
   "metadata": {},
   "outputs": [],
   "source": [
    "def aelter_als_42(person):\n",
    "    return person[1] > 42"
   ]
  },
  {
   "cell_type": "code",
   "execution_count": 69,
   "id": "8b127163-6d21-422d-bdbf-13f3f8fa5280",
   "metadata": {
    "scrolled": true,
    "tags": []
   },
   "outputs": [
    {
     "data": {
      "text/plain": [
       "[('Bastian Schmidt', 55, 'Lehrer'),\n",
       " ('Carla Weber', 43, 'Ärztin'),\n",
       " ('Hans Richter', 45, 'Rechtsanwalt'),\n",
       " ('Paul Seidel', 50, 'Unternehmer')]"
      ]
     },
     "execution_count": 69,
     "metadata": {},
     "output_type": "execute_result"
    }
   ],
   "source": [
    "list(filter(aelter_als_42, personen))"
   ]
  },
  {
   "cell_type": "markdown",
   "id": "406c7c3e-2a37-4f9c-a3de-21c96e188c31",
   "metadata": {},
   "source": [
    "### Fall 3. Funktion direkt mit lambda übergeben"
   ]
  },
  {
   "cell_type": "code",
   "execution_count": 70,
   "id": "08b02456-9abf-406f-987e-8faf52c10e0a",
   "metadata": {
    "scrolled": true,
    "tags": []
   },
   "outputs": [
    {
     "data": {
      "text/plain": [
       "[('Bastian Schmidt', 55, 'Lehrer'),\n",
       " ('Carla Weber', 43, 'Ärztin'),\n",
       " ('Hans Richter', 45, 'Rechtsanwalt'),\n",
       " ('Paul Seidel', 50, 'Unternehmer')]"
      ]
     },
     "execution_count": 70,
     "metadata": {},
     "output_type": "execute_result"
    }
   ],
   "source": [
    "list(filter(lambda person : person[1]>42, personen))"
   ]
  },
  {
   "cell_type": "markdown",
   "id": "385c56f5-1ebb-4189-839b-2925ef80e3f7",
   "metadata": {},
   "source": [
    "### Fall 4. Denn man NIEMALS machen soll!!!"
   ]
  },
  {
   "cell_type": "markdown",
   "id": "611f7020-232c-4e8a-ace8-5e84ef6b8f7c",
   "metadata": {},
   "source": [
    "Was passiert, wenn wir jetzt einfach die Funktion aus Fall 1. in Fall 2. stecken?"
   ]
  },
  {
   "cell_type": "code",
   "execution_count": 93,
   "id": "3450e46c-1d61-4125-8b88-34fc2312fc5f",
   "metadata": {},
   "outputs": [
    {
     "data": {
      "text/plain": [
       "<function __main__.filter_älter_42(liste)>"
      ]
     },
     "execution_count": 93,
     "metadata": {},
     "output_type": "execute_result"
    }
   ],
   "source": [
    "# Aus Fall 1.\n",
    "filter_älter_42"
   ]
  },
  {
   "cell_type": "code",
   "execution_count": 94,
   "id": "a067b51a-95f3-43c2-921a-ec52af9d12e9",
   "metadata": {},
   "outputs": [
    {
     "data": {
      "text/plain": [
       "[('Bastian Schmidt', 55, 'Lehrer'),\n",
       " ('Carla Weber', 43, 'Ärztin'),\n",
       " ('Hans Richter', 45, 'Rechtsanwalt'),\n",
       " ('Paul Seidel', 50, 'Unternehmer')]"
      ]
     },
     "execution_count": 94,
     "metadata": {},
     "output_type": "execute_result"
    }
   ],
   "source": [
    "# Aus Fall 2\n",
    "list(filter(aelter_als_42, personen))"
   ]
  },
  {
   "cell_type": "code",
   "execution_count": 96,
   "id": "fb51793b-2836-49fc-b473-9307f93170c4",
   "metadata": {},
   "outputs": [
    {
     "ename": "TypeError",
     "evalue": "'>' not supported between instances of 'str' and 'int'",
     "output_type": "error",
     "traceback": [
      "\u001b[1;31m---------------------------------------------------------------------------\u001b[0m",
      "\u001b[1;31mTypeError\u001b[0m                                 Traceback (most recent call last)",
      "Cell \u001b[1;32mIn[96], line 2\u001b[0m\n\u001b[0;32m      1\u001b[0m \u001b[38;5;66;03m# Fall 4.\u001b[39;00m\n\u001b[1;32m----> 2\u001b[0m \u001b[38;5;28;43mlist\u001b[39;49m\u001b[43m(\u001b[49m\u001b[38;5;28;43mfilter\u001b[39;49m\u001b[43m(\u001b[49m\u001b[43mfilter_älter_42\u001b[49m\u001b[43m,\u001b[49m\u001b[43m \u001b[49m\u001b[43mpersonen\u001b[49m\u001b[43m)\u001b[49m\u001b[43m)\u001b[49m\n",
      "Cell \u001b[1;32mIn[90], line 4\u001b[0m, in \u001b[0;36mfilter_älter_42\u001b[1;34m(liste)\u001b[0m\n\u001b[0;32m      2\u001b[0m listeÜ42 \u001b[38;5;241m=\u001b[39m[]\n\u001b[0;32m      3\u001b[0m \u001b[38;5;28;01mfor\u001b[39;00m elem \u001b[38;5;129;01min\u001b[39;00m liste:\n\u001b[1;32m----> 4\u001b[0m     \u001b[38;5;28;01mif\u001b[39;00m \u001b[43melem\u001b[49m\u001b[43m[\u001b[49m\u001b[38;5;241;43m1\u001b[39;49m\u001b[43m]\u001b[49m\u001b[43m \u001b[49m\u001b[38;5;241;43m>\u001b[39;49m\u001b[43m \u001b[49m\u001b[38;5;241;43m42\u001b[39;49m:           \n\u001b[0;32m      5\u001b[0m         listeÜ42\u001b[38;5;241m.\u001b[39mappend(elem)  \n\u001b[0;32m      6\u001b[0m \u001b[38;5;28;01mreturn\u001b[39;00m listeÜ42\n",
      "\u001b[1;31mTypeError\u001b[0m: '>' not supported between instances of 'str' and 'int'"
     ]
    }
   ],
   "source": [
    "# Fall 4.\n",
    "list(filter(filter_älter_42, personen))"
   ]
  },
  {
   "cell_type": "markdown",
   "id": "0621f02e-9e5b-4770-bb8d-6819501b11da",
   "metadata": {},
   "source": [
    "Was genau ist hier schief gegangen? Schauen wir es uns Schritt für Schritt an."
   ]
  },
  {
   "cell_type": "markdown",
   "id": "035d7e73-99dd-45bd-9cd6-4b7c4f87d2eb",
   "metadata": {},
   "source": [
    "Syntax:\n",
    "\n",
    "`filter` `(` `FUNKTION` `,` `ITERABLE` `)` "
   ]
  },
  {
   "cell_type": "markdown",
   "id": "c789dda3-3d90-4f94-8def-1b29a6cd6d30",
   "metadata": {},
   "source": [
    "Die filter() braucht genau zwei Dinge:\n",
    "\n",
    "1. Eine Funktion, die eine Boolschen Wert zurückgibt.\n",
    "2. Ein Iterable, über den sie drüber iterieren kann. \n",
    "\n",
    "Die filter() läuft über das Iterable drüber und prüft ob die einzelnen Elemente des Iterables durch die übergebene Funktion zu `True` evaluieren. Ist dies der Fall wird das Element in eine neue Liste appended und diese Zumschluss als gefilterte Version der ursprünglichen Liste zurückgegeben. "
   ]
  },
  {
   "cell_type": "markdown",
   "id": "e3ae89ee-5de1-45a3-834d-aa8ce3183667",
   "metadata": {},
   "source": [
    "#### Nachbau der filter Funktion mit anschaulichen Zwischenschritten"
   ]
  },
  {
   "cell_type": "code",
   "execution_count": 109,
   "id": "eef89291-a8dd-44e5-8fde-05255da9023a",
   "metadata": {},
   "outputs": [
    {
     "name": "stdout",
     "output_type": "stream",
     "text": [
      "elem: ('Anna Müller', 28, 'Ingenieurin'), elem[1]: 28, <class 'int'>\n",
      "bool: 28 < 42 evaluiert zu False \n",
      "----------------------------------------------------------------------\n",
      "elem: ('Bastian Schmidt', 55, 'Lehrer'), elem[1]: 55, <class 'int'>\n",
      "bool: 55 > 42 evaluiert zu True \n",
      "----------------------------------------------------------------------\n",
      "elem: ('Carla Weber', 43, 'Ärztin'), elem[1]: 43, <class 'int'>\n",
      "bool: 43 > 42 evaluiert zu True \n",
      "----------------------------------------------------------------------\n",
      "elem: ('David Bauer', 29, 'Journalist'), elem[1]: 29, <class 'int'>\n",
      "bool: 29 < 42 evaluiert zu False \n",
      "----------------------------------------------------------------------\n",
      "[('Bastian Schmidt', 55, 'Lehrer'), ('Carla Weber', 43, 'Ärztin')]\n"
     ]
    }
   ],
   "source": [
    "personen1 = [\n",
    "    (\"Anna Müller\", 28, \"Ingenieurin\"),\n",
    "    (\"Bastian Schmidt\", 55, \"Lehrer\"),\n",
    "    (\"Carla Weber\", 43, \"Ärztin\"),\n",
    "    (\"David Bauer\", 29, \"Journalist\")\n",
    "]\n",
    "alterÜ42 = []\n",
    "\n",
    "def älter42_für_filter(liste):\n",
    "    for elem in liste:\n",
    "        print(f\"elem: {elem}\", end = \", \")       # Alles nur damit man etwas sehen kann...\n",
    "        print(f\"elem[1]: {elem[1]}\", end = \", \") #\n",
    "        print(type(elem[1]))                     #\n",
    "        \n",
    "        if elem[1] > 42: # Das hier ist der WICHTIGE Teil.\n",
    "        \n",
    "            print(f\"bool: {elem[1]} > 42 evaluiert zu {elem[1] > 42} \") #\n",
    "            alterÜ42.append(elem)                                       \n",
    "        else:                                                           #\n",
    "            print(f\"bool: {elem[1]} < 42 evaluiert zu {elem[1] > 42} \") #\n",
    "        print(\"-\"*70)                                                   # Auch alles nur zum erläutern...    \n",
    "            \n",
    "    return print(alterÜ42)\n",
    "    \n",
    "älter42_für_filter(personen1)"
   ]
  },
  {
   "cell_type": "markdown",
   "id": "cf3983aa-d2b2-4534-817b-db65dfcc13b9",
   "metadata": {},
   "source": [
    "[Erklärung Pythontutor](https://pythontutor.com/render.html#code=personen1%20%3D%20%5B%0A%20%20%20%20%28%22Anna%20M%C3%BCller%22,%2028,%20%22Ingenieurin%22%29,%0A%20%20%20%20%28%22Bastian%20Schmidt%22,%2055,%20%22Lehrer%22%29,%0A%20%20%20%20%28%22Carla%20Weber%22,%2043,%20%22%C3%84rztin%22%29,%0A%20%20%20%20%28%22David%20Bauer%22,%2029,%20%22Journalist%22%29%0A%5D%0Aalter%C3%9C42%20%3D%20%5B%5D%0A%0Adef%20%C3%A4lter42_f%C3%BCr_filter%28liste%29%3A%0A%20%20%20%20for%20elem%20in%20liste%3A%0A%20%20%20%20%20%20%20%20print%28f%22elem%3A%20%7Belem%7D%22,%20end%20%3D%20%22,%20%22%29%20%20%20%20%20%20%20%23%20Alles%20nur%20damit%20man%20etwas%20sehen%20kann...%0A%20%20%20%20%20%20%20%20print%28f%22elem%5B1%5D%3A%20%7Belem%5B1%5D%7D%22,%20end%20%3D%20%22,%20%22%29%20%23%0A%20%20%20%20%20%20%20%20print%28type%28elem%5B1%5D%29%29%20%20%20%20%20%20%20%20%20%20%20%20%20%20%20%20%20%20%20%20%20%23%0A%20%20%20%20%20%20%20%20%0A%20%20%20%20%20%20%20%20if%20elem%5B1%5D%20%3E%2042%3A%20%23%20Das%20hier%20ist%20der%20WICHTIGE%20Teil.%0A%20%20%20%20%20%20%20%20%0A%20%20%20%20%20%20%20%20%20%20%20%20print%28f%22bool%3A%20%7Belem%5B1%5D%7D%20%3E%2042%20evaluiert%20zu%20%7Belem%5B1%5D%20%3E%2042%7D%20%22%29%20%23%0A%20%20%20%20%20%20%20%20%20%20%20%20alter%C3%9C42.append%28elem%29%20%20%20%20%20%20%20%20%20%20%20%20%20%20%20%20%20%20%20%20%20%20%20%20%20%20%20%20%20%20%20%20%20%20%20%20%20%20%20%0A%20%20%20%20%20%20%20%20else%3A%20%20%20%20%20%20%20%20%20%20%20%20%20%20%20%20%20%20%20%20%20%20%20%20%20%20%20%20%20%20%20%20%20%20%20%20%20%20%20%20%20%20%20%20%20%20%20%20%20%20%20%20%20%20%20%20%20%20%20%23%0A%20%20%20%20%20%20%20%20%20%20%20%20print%28f%22bool%3A%20%7Belem%5B1%5D%7D%20%3C%2042%20evaluiert%20zu%20%7Belem%5B1%5D%20%3E%2042%7D%20%22%29%20%23%0A%20%20%20%20%20%20%20%20print%28%22-%22*70%29%20%20%20%20%20%20%20%20%20%20%20%20%20%20%20%20%20%20%20%20%20%20%20%20%20%20%20%20%20%20%20%20%20%20%20%20%20%20%20%20%20%20%20%20%20%20%20%20%20%20%20%23%20Auch%20alles%20nur%20zum%20erl%C3%A4utern...%20%20%20%20%0A%20%20%20%20%20%20%20%20%20%20%20%20%0A%20%20%20%20return%20print%28alter%C3%9C42%29%0A%20%20%20%20%0A%C3%A4lter42_f%C3%BCr_filter%28personen1%29&cumulative=false&curInstr=0&heapPrimitives=nevernest&mode=display&origin=opt-frontend.js&py=3&rawInputLstJSON=%5B%5D&textReferences=false)"
   ]
  },
  {
   "cell_type": "markdown",
   "id": "afa7a839-839a-41dc-bd11-b8c84a9a8908",
   "metadata": {},
   "source": [
    "Diese Funkion tut genau das gleiche wie die filter(). Aber was passiert, wenn man diese Funktion der filter() übergibt?"
   ]
  },
  {
   "cell_type": "markdown",
   "id": "0cbbe568-e88e-4d49-a75b-3a68d0c2d975",
   "metadata": {},
   "source": [
    "Das Problem ist, dass die filter() unter der Haube bereits eine eigene for-Schleife besitzt. Würde man einfach die \"älter42_für_filter()\" Funkion aus dem vorherigen Beispiel übergeben, würde dadurch eine doppelte for-Schleife entstehen, obwohl der restliche Code dafür nicht ausgelegt ist und es würde zu Fehlern kommen."
   ]
  },
  {
   "cell_type": "code",
   "execution_count": 112,
   "id": "91e78cff-a7f3-4b43-b662-4726291a243b",
   "metadata": {},
   "outputs": [
    {
     "name": "stdout",
     "output_type": "stream",
     "text": [
      "elem: Anna Müller, elem[1]: n, <class 'str'>\n"
     ]
    },
    {
     "ename": "TypeError",
     "evalue": "'>' not supported between instances of 'str' and 'int'",
     "output_type": "error",
     "traceback": [
      "\u001b[1;31m---------------------------------------------------------------------------\u001b[0m",
      "\u001b[1;31mTypeError\u001b[0m                                 Traceback (most recent call last)",
      "Cell \u001b[1;32mIn[112], line 29\u001b[0m\n\u001b[0;32m     25\u001b[0m             \u001b[38;5;28mprint\u001b[39m(\u001b[38;5;124m\"\u001b[39m\u001b[38;5;124m-\u001b[39m\u001b[38;5;124m\"\u001b[39m\u001b[38;5;241m*\u001b[39m\u001b[38;5;241m70\u001b[39m)                                                   \u001b[38;5;66;03m# Auch alles nur zum erläutern...    \u001b[39;00m\n\u001b[0;32m     27\u001b[0m         \u001b[38;5;28;01mreturn\u001b[39;00m \u001b[38;5;28mprint\u001b[39m(alterÜ42)\n\u001b[1;32m---> 29\u001b[0m \u001b[43mälter42_für_filter\u001b[49m\u001b[43m(\u001b[49m\u001b[43mpersonen1\u001b[49m\u001b[43m)\u001b[49m\n",
      "Cell \u001b[1;32mIn[112], line 19\u001b[0m, in \u001b[0;36mälter42_für_filter\u001b[1;34m(iterable)\u001b[0m\n\u001b[0;32m     16\u001b[0m \u001b[38;5;28mprint\u001b[39m(\u001b[38;5;124mf\u001b[39m\u001b[38;5;124m\"\u001b[39m\u001b[38;5;124melem[1]: \u001b[39m\u001b[38;5;132;01m{\u001b[39;00melem[\u001b[38;5;241m1\u001b[39m]\u001b[38;5;132;01m}\u001b[39;00m\u001b[38;5;124m\"\u001b[39m, end \u001b[38;5;241m=\u001b[39m \u001b[38;5;124m\"\u001b[39m\u001b[38;5;124m, \u001b[39m\u001b[38;5;124m\"\u001b[39m) \u001b[38;5;66;03m#\u001b[39;00m\n\u001b[0;32m     17\u001b[0m \u001b[38;5;28mprint\u001b[39m(\u001b[38;5;28mtype\u001b[39m(elem[\u001b[38;5;241m1\u001b[39m]))                     \u001b[38;5;66;03m#\u001b[39;00m\n\u001b[1;32m---> 19\u001b[0m \u001b[38;5;28;01mif\u001b[39;00m \u001b[43melem\u001b[49m\u001b[43m[\u001b[49m\u001b[38;5;241;43m1\u001b[39;49m\u001b[43m]\u001b[49m\u001b[43m \u001b[49m\u001b[38;5;241;43m>\u001b[39;49m\u001b[43m \u001b[49m\u001b[38;5;241;43m42\u001b[39;49m: \u001b[38;5;66;03m# Das hier ist der WICHTIGE Teil.\u001b[39;00m\n\u001b[0;32m     21\u001b[0m     \u001b[38;5;28mprint\u001b[39m(\u001b[38;5;124mf\u001b[39m\u001b[38;5;124m\"\u001b[39m\u001b[38;5;124mbool: \u001b[39m\u001b[38;5;132;01m{\u001b[39;00melem[\u001b[38;5;241m1\u001b[39m]\u001b[38;5;132;01m}\u001b[39;00m\u001b[38;5;124m > 42 evaluiert zu \u001b[39m\u001b[38;5;132;01m{\u001b[39;00melem[\u001b[38;5;241m1\u001b[39m]\u001b[38;5;250m \u001b[39m\u001b[38;5;241m>\u001b[39m\u001b[38;5;250m \u001b[39m\u001b[38;5;241m42\u001b[39m\u001b[38;5;132;01m}\u001b[39;00m\u001b[38;5;124m \u001b[39m\u001b[38;5;124m\"\u001b[39m) \u001b[38;5;66;03m#\u001b[39;00m\n\u001b[0;32m     22\u001b[0m     alterÜ42\u001b[38;5;241m.\u001b[39mappend(elem)                                       \n",
      "\u001b[1;31mTypeError\u001b[0m: '>' not supported between instances of 'str' and 'int'"
     ]
    }
   ],
   "source": [
    "personen1 = [\n",
    "    (\"Anna Müller\", 28, \"Ingenieurin\"),\n",
    "    (\"Bastian Schmidt\", 55, \"Lehrer\"),\n",
    "    (\"Carla Weber\", 43, \"Ärztin\"),\n",
    "    (\"David Bauer\", 29, \"Journalist\")\n",
    "]\n",
    "alterÜ42 = []\n",
    "\n",
    "def älter42_für_filter(iterable): #liste): \n",
    "\n",
    "    # hypotetische for-Schleife der filter() damit man sehen kann was passiert\n",
    "    for elem_filter in iterable:\n",
    "    \n",
    "        for elem in elem_filter: #liste:\n",
    "            print(f\"elem: {elem}\", end = \", \")       # Alles nur damit man etwas sehen kann...\n",
    "            print(f\"elem[1]: {elem[1]}\", end = \", \") #\n",
    "            print(type(elem[1]))                     #\n",
    "            \n",
    "            if elem[1] > 42: # Das hier ist der WICHTIGE Teil.\n",
    "            \n",
    "                print(f\"bool: {elem[1]} > 42 evaluiert zu {elem[1] > 42} \") #\n",
    "                alterÜ42.append(elem)                                       \n",
    "            else:                                                           #\n",
    "                print(f\"bool: {elem[1]} < 42 evaluiert zu {elem[1] > 42} \") #\n",
    "            print(\"-\"*70)                                                   # Auch alles nur zum erläutern...    \n",
    "                \n",
    "        return print(alterÜ42)\n",
    "    \n",
    "älter42_für_filter(personen1)"
   ]
  },
  {
   "cell_type": "markdown",
   "id": "1f4b0517-5d74-4b7d-8d51-3afc2adf2e2c",
   "metadata": {},
   "source": [
    "[Erklärung Pythontutor](https://pythontutor.com/render.html#code=personen1%20%3D%20%5B%0A%20%20%20%20%28%22Anna%20M%C3%BCller%22,%2028,%20%22Ingenieurin%22%29,%0A%20%20%20%20%28%22Bastian%20Schmidt%22,%2055,%20%22Lehrer%22%29,%0A%20%20%20%20%28%22Carla%20Weber%22,%2043,%20%22%C3%84rztin%22%29,%0A%20%20%20%20%28%22David%20Bauer%22,%2029,%20%22Journalist%22%29%0A%5D%0Aalter%C3%9C42%20%3D%20%5B%5D%0A%0Adef%20%C3%A4lter42_f%C3%BCr_filter%28iterable%29%3A%20%23liste%29%3A%20%0A%0A%20%20%20%20%23%20hypotetische%20for-Schleife%20der%20filter%28%29%20damit%20man%20sehen%20kann%20was%20passiert%0A%20%20%20%20for%20elem_filter%20in%20iterable%3A%0A%20%20%20%20%0A%20%20%20%20%20%20%20%20for%20elem%20in%20elem_filter%3A%20%23liste%3A%0A%20%20%20%20%20%20%20%20%20%20%20%20print%28f%22elem%3A%20%7Belem%7D%22,%20end%20%3D%20%22,%20%22%29%20%20%20%20%20%20%20%23%20Alles%20nur%20damit%20man%20etwas%20sehen%20kann...%0A%20%20%20%20%20%20%20%20%20%20%20%20print%28f%22elem%5B1%5D%3A%20%7Belem%5B1%5D%7D%22,%20end%20%3D%20%22,%20%22%29%20%23%0A%20%20%20%20%20%20%20%20%20%20%20%20print%28type%28elem%5B1%5D%29%29%20%20%20%20%20%20%20%20%20%20%20%20%20%20%20%20%20%20%20%20%20%23%0A%20%20%20%20%20%20%20%20%20%20%20%20%0A%20%20%20%20%20%20%20%20%20%20%20%20if%20elem%5B1%5D%20%3E%2042%3A%20%23%20Das%20hier%20ist%20der%20WICHTIGE%20Teil.%0A%20%20%20%20%20%20%20%20%20%20%20%20%0A%20%20%20%20%20%20%20%20%20%20%20%20%20%20%20%20print%28f%22bool%3A%20%7Belem%5B1%5D%7D%20%3E%2042%20evaluiert%20zu%20%7Belem%5B1%5D%20%3E%2042%7D%20%22%29%20%23%0A%20%20%20%20%20%20%20%20%20%20%20%20%20%20%20%20alter%C3%9C42.append%28elem%29%20%20%20%20%20%20%20%20%20%20%20%20%20%20%20%20%20%20%20%20%20%20%20%20%20%20%20%20%20%20%20%20%20%20%20%20%20%20%20%0A%20%20%20%20%20%20%20%20%20%20%20%20else%3A%20%20%20%20%20%20%20%20%20%20%20%20%20%20%20%20%20%20%20%20%20%20%20%20%20%20%20%20%20%20%20%20%20%20%20%20%20%20%20%20%20%20%20%20%20%20%20%20%20%20%20%20%20%20%20%20%20%20%20%23%0A%20%20%20%20%20%20%20%20%20%20%20%20%20%20%20%20print%28f%22bool%3A%20%7Belem%5B1%5D%7D%20%3C%2042%20evaluiert%20zu%20%7Belem%5B1%5D%20%3E%2042%7D%20%22%29%20%23%0A%20%20%20%20%20%20%20%20%20%20%20%20print%28%22-%22*70%29%20%20%20%20%20%20%20%20%20%20%20%20%20%20%20%20%20%20%20%20%20%20%20%20%20%20%20%20%20%20%20%20%20%20%20%20%20%20%20%20%20%20%20%20%20%20%20%20%20%20%20%23%20Auch%20alles%20nur%20zum%20erl%C3%A4utern...%20%20%20%20%0A%20%20%20%20%20%20%20%20%20%20%20%20%20%20%20%20%0A%20%20%20%20%20%20%20%20return%20print%28alter%C3%9C42%29%0A%20%20%20%20%0A%C3%A4lter42_f%C3%BCr_filter%28personen1%29&cumulative=false&curInstr=0&heapPrimitives=nevernest&mode=display&origin=opt-frontend.js&py=3&rawInputLstJSON=%5B%5D&textReferences=false)"
   ]
  },
  {
   "cell_type": "markdown",
   "id": "bce7da15-ef8d-4d33-bf6e-9981d7e529ec",
   "metadata": {},
   "source": [
    "Statt über die Liste von Tuplen zu iterieren und an Index 1 des Tupels (`elem[1]`) das Alter zu erhalten, ist man durch die zusätzliche for-Schleife schon eine Ebene tiefer und iteriert DIREKT über das Tuple, erhält als `elem` den `Namen` der Person und holt sich über `elem[1]` den zweiten Buchstaben des Namens (`n`)... Der Rest des Codes geht dann natürlich auch schief, NUR SIEHT MAN DAS NICHT SOFORT, weil selbst dieser Code mit all seinen Errors sorgfältig im Filter-Objekt gespeichert wird. Erst wenn man versucht das Filter-Objekt aufzurufen fällt der Fehler auf, deshalb habe ich das hier mit rein genommen."
   ]
  },
  {
   "cell_type": "code",
   "execution_count": 120,
   "id": "b117a37c-660e-442c-9ea9-df675d5d45ca",
   "metadata": {},
   "outputs": [
    {
     "data": {
      "text/plain": [
       "<filter at 0x2d8491431f0>"
      ]
     },
     "execution_count": 120,
     "metadata": {},
     "output_type": "execute_result"
    }
   ],
   "source": [
    "# Fall 4.\n",
    "x = filter(filter_älter_42, personen)\n",
    "x"
   ]
  },
  {
   "cell_type": "markdown",
   "id": "3bae20fc-5a21-42fd-8594-8371e84518a1",
   "metadata": {},
   "source": [
    "Das Ergebnis der filter() ist ein Filter-Objekt"
   ]
  },
  {
   "cell_type": "markdown",
   "id": "fe762f34-f1e6-4830-aa34-ec7427283f8b",
   "metadata": {},
   "source": [
    "Ähnlich wie bei range ist es einfacher zu sehen, wenn man eine Liste des Objekts erstellt."
   ]
  },
  {
   "cell_type": "code",
   "execution_count": 119,
   "id": "61e9aa8b-4429-43d8-9b2e-86a8d40b0a3a",
   "metadata": {},
   "outputs": [
    {
     "ename": "TypeError",
     "evalue": "'>' not supported between instances of 'str' and 'int'",
     "output_type": "error",
     "traceback": [
      "\u001b[1;31m---------------------------------------------------------------------------\u001b[0m",
      "\u001b[1;31mTypeError\u001b[0m                                 Traceback (most recent call last)",
      "Cell \u001b[1;32mIn[119], line 1\u001b[0m\n\u001b[1;32m----> 1\u001b[0m \u001b[38;5;28;43mlist\u001b[39;49m\u001b[43m(\u001b[49m\u001b[43mx\u001b[49m\u001b[43m)\u001b[49m\n",
      "Cell \u001b[1;32mIn[90], line 4\u001b[0m, in \u001b[0;36mfilter_älter_42\u001b[1;34m(liste)\u001b[0m\n\u001b[0;32m      2\u001b[0m listeÜ42 \u001b[38;5;241m=\u001b[39m[]\n\u001b[0;32m      3\u001b[0m \u001b[38;5;28;01mfor\u001b[39;00m elem \u001b[38;5;129;01min\u001b[39;00m liste:\n\u001b[1;32m----> 4\u001b[0m     \u001b[38;5;28;01mif\u001b[39;00m \u001b[43melem\u001b[49m\u001b[43m[\u001b[49m\u001b[38;5;241;43m1\u001b[39;49m\u001b[43m]\u001b[49m\u001b[43m \u001b[49m\u001b[38;5;241;43m>\u001b[39;49m\u001b[43m \u001b[49m\u001b[38;5;241;43m42\u001b[39;49m:           \n\u001b[0;32m      5\u001b[0m         listeÜ42\u001b[38;5;241m.\u001b[39mappend(elem)  \n\u001b[0;32m      6\u001b[0m \u001b[38;5;28;01mreturn\u001b[39;00m listeÜ42\n",
      "\u001b[1;31mTypeError\u001b[0m: '>' not supported between instances of 'str' and 'int'"
     ]
    }
   ],
   "source": [
    "list(x)"
   ]
  },
  {
   "cell_type": "markdown",
   "id": "d2f43c6a-ad52-4697-8423-77cfe8340139",
   "metadata": {},
   "source": [
    "# lambda BIS HIER BIN ICH GEKOMMEN"
   ]
  },
  {
   "cell_type": "code",
   "execution_count": 103,
   "id": "68e47251-724a-41e8-b6e8-c148a1eed815",
   "metadata": {},
   "outputs": [
    {
     "data": {
      "text/plain": [
       "[('Bastian Schmidt', 55, 'Lehrer'),\n",
       " ('Hans Richter', 45, 'Rechtsanwalt'),\n",
       " ('Paul Seidel', 50, 'Unternehmer')]"
      ]
     },
     "execution_count": 103,
     "metadata": {},
     "output_type": "execute_result"
    }
   ],
   "source": [
    "x = filter(lambda person : person[1] > 42,personen)\n",
    "list(x)"
   ]
  },
  {
   "cell_type": "code",
   "execution_count": 64,
   "id": "f054b1f1-c754-4033-a232-0289c8854902",
   "metadata": {},
   "outputs": [
    {
     "data": {
      "text/plain": [
       "[('Hans Richter', 45, 'Rechtsanwalt'), ('Paul Seidel', 50, 'Unternehmer')]"
      ]
     },
     "execution_count": 64,
     "metadata": {},
     "output_type": "execute_result"
    }
   ],
   "source": [
    "list(filter(lambda person : person[1] > 42,personen))"
   ]
  },
  {
   "cell_type": "code",
   "execution_count": null,
   "id": "e01f439e-c369-4aca-b06b-811daaea1559",
   "metadata": {},
   "outputs": [],
   "source": []
  },
  {
   "cell_type": "code",
   "execution_count": 65,
   "id": "597d77a1-abd3-49e8-ad95-4538d1fce132",
   "metadata": {},
   "outputs": [
    {
     "data": {
      "text/plain": [
       "[('Anna Müller', 28, 'Ingenieurin'),\n",
       " ('Carla Weber', 42, 'Ärztin'),\n",
       " ('Elena Fischer', 34, 'Architektin'),\n",
       " ('Gina Meier', 27, 'Marketing-Managerin'),\n",
       " ('Isabel Wagner', 38, 'Biologin'),\n",
       " ('Mara Hoffmann', 40, 'Projektmanagerin'),\n",
       " ('Rita Köhler', 28, 'Journalistin'),\n",
       " ('Tina Frank', 39, 'Lehrerin')]"
      ]
     },
     "execution_count": 65,
     "metadata": {},
     "output_type": "execute_result"
    }
   ],
   "source": [
    "list(filter(lambda person : person[2].endswith(\"in\"), personen))"
   ]
  },
  {
   "cell_type": "code",
   "execution_count": null,
   "id": "73090eed-0d28-4178-a93f-93cd04d08fc3",
   "metadata": {},
   "outputs": [],
   "source": []
  },
  {
   "cell_type": "code",
   "execution_count": null,
   "id": "3c7c2191-8f2e-44dc-ab95-b10f6637e7ca",
   "metadata": {},
   "outputs": [],
   "source": []
  },
  {
   "cell_type": "code",
   "execution_count": null,
   "id": "fe46471a-c7fe-4344-9247-0bce95dd532a",
   "metadata": {},
   "outputs": [],
   "source": []
  },
  {
   "cell_type": "code",
   "execution_count": null,
   "id": "9b891b2c-f224-4c16-b854-c20d0e3f9879",
   "metadata": {},
   "outputs": [],
   "source": []
  },
  {
   "cell_type": "code",
   "execution_count": 45,
   "id": "b53e75cc-ff45-4567-a6eb-9b515dcf10ca",
   "metadata": {},
   "outputs": [
    {
     "ename": "SyntaxError",
     "evalue": "invalid syntax (3760523208.py, line 3)",
     "output_type": "error",
     "traceback": [
      "\u001b[1;36m  Cell \u001b[1;32mIn[45], line 3\u001b[1;36m\u001b[0m\n\u001b[1;33m    if lambda x : x[1] > 42,\u001b[0m\n\u001b[1;37m    ^\u001b[0m\n\u001b[1;31mSyntaxError\u001b[0m\u001b[1;31m:\u001b[0m invalid syntax\n"
     ]
    }
   ],
   "source": [
    "filter_conditions = [\n",
    "    \n",
    "lambda x : x[1] > 42,        \n",
    "lambda x : x[2] == \"Student\" or \"Arzt\",\n",
    "lambda x : x[2].endswith(\"in\"),\n",
    "lambda x : \"ö\" in x[0]\n",
    "]\n"
   ]
  },
  {
   "cell_type": "code",
   "execution_count": null,
   "id": "474e1f28-48c7-4ca7-b4bf-f1942ce27a34",
   "metadata": {},
   "outputs": [],
   "source": [
    "def func__(liste):\n",
    "\n",
    "    for x in liste:"
   ]
  },
  {
   "cell_type": "code",
   "execution_count": 40,
   "id": "56a455ec-4c57-4b07-8084-fefc11e23409",
   "metadata": {},
   "outputs": [
    {
     "data": {
      "text/plain": [
       "'Tina Frank'"
      ]
     },
     "execution_count": 40,
     "metadata": {},
     "output_type": "execute_result"
    }
   ],
   "source": [
    "func__(personen)"
   ]
  },
  {
   "cell_type": "code",
   "execution_count": null,
   "id": "6cbf083f-ab2f-45b5-95d3-b1c7f0312336",
   "metadata": {},
   "outputs": [],
   "source": [
    "filter_conditions = [\n",
    "\n",
    "    lambda x: x % 3 == 0,  # def my_func(x): return x % 3 == 0\n",
    "\n",
    "    lambda x: x % 4 == 0,\n",
    "\n",
    "    lambda x: x % 5 == 0,\n",
    "\n",
    "    lambda x: x % 6 == 0"
   ]
  },
  {
   "cell_type": "code",
   "execution_count": null,
   "id": "f7fb026c-83d5-40bb-aaa5-008fc6d42e46",
   "metadata": {},
   "outputs": [],
   "source": []
  },
  {
   "cell_type": "code",
   "execution_count": null,
   "id": "0f80d2c1-b81c-43fe-9a91-1bd9b6a50b6a",
   "metadata": {},
   "outputs": [],
   "source": []
  },
  {
   "cell_type": "code",
   "execution_count": null,
   "id": "9393a29d-a031-4ff0-8f92-71ff2a94ca44",
   "metadata": {},
   "outputs": [],
   "source": []
  },
  {
   "cell_type": "markdown",
   "id": "75195d92-cf93-4b24-bc22-e9bc18fdf7ae",
   "metadata": {},
   "source": [
    "### Lösung:"
   ]
  },
  {
   "cell_type": "code",
   "execution_count": 43,
   "id": "d437e7b3-d25e-4b71-9ce5-f04bdf749fcf",
   "metadata": {},
   "outputs": [],
   "source": [
    "p = tuple(filter(lambda p: p[1] > 42 and p[2] in [\"Arzt\", \"Student\"] and p[0].split()[1].find(\"ö\") != -1, personen))"
   ]
  },
  {
   "cell_type": "code",
   "execution_count": null,
   "id": "da6b1993-da15-4cdf-83e4-51fec7ebe105",
   "metadata": {},
   "outputs": [],
   "source": []
  },
  {
   "cell_type": "markdown",
   "id": "c28e7aa9-402e-45a8-b7dd-477769c79d35",
   "metadata": {},
   "source": [
    "# map Funktion"
   ]
  },
  {
   "cell_type": "code",
   "execution_count": null,
   "id": "fc0845d0-411b-4822-89df-c7818f6980e7",
   "metadata": {},
   "outputs": [],
   "source": []
  }
 ],
 "metadata": {
  "kernelspec": {
   "display_name": "Python 3 (ipykernel)",
   "language": "python",
   "name": "python3"
  },
  "language_info": {
   "codemirror_mode": {
    "name": "ipython",
    "version": 3
   },
   "file_extension": ".py",
   "mimetype": "text/x-python",
   "name": "python",
   "nbconvert_exporter": "python",
   "pygments_lexer": "ipython3",
   "version": "3.12.4"
  }
 },
 "nbformat": 4,
 "nbformat_minor": 5
}
