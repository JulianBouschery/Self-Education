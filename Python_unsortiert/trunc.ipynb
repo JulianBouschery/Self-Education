{
 "cells": [
  {
   "cell_type": "markdown",
   "id": "c23d8141-048b-47c9-865d-b8b5317e4edf",
   "metadata": {},
   "source": [
    "[Zurück zum Inhaltsverzeichnis](_Inhaltsverzeichnis_.ipynb)"
   ]
  },
  {
   "cell_type": "markdown",
   "id": "c3a11a4c-cd95-4e2c-93e0-08f87db1525d",
   "metadata": {},
   "source": [
    "# trunc Methode"
   ]
  },
  {
   "cell_type": "markdown",
   "id": "97e7c34d-ebb6-4cf5-8318-37120ebd549a",
   "metadata": {},
   "source": [
    "Die trunc-Methode aus dem math-Modul in Python wird verwendet, um den Fließkommateil einer Zahl abzuschneiden und nur den ganzzahligen Teil zu behalten. Anders als bei ceil und floor wird bei trunc nicht auf- oder abgerundet; es wird einfach der Dezimalteil entfernt / **ABGESCHNITTEN**."
   ]
  },
  {
   "cell_type": "code",
   "execution_count": 3,
   "id": "bb416bc7-bf27-4ed8-91df-6d446cad0b0f",
   "metadata": {},
   "outputs": [],
   "source": [
    "import math"
   ]
  },
  {
   "cell_type": "code",
   "execution_count": 5,
   "id": "9382feeb-ecb1-419f-9ada-88c63db6c0f7",
   "metadata": {},
   "outputs": [
    {
     "name": "stdout",
     "output_type": "stream",
     "text": [
      "1 2\n",
      "-1 -2\n"
     ]
    }
   ],
   "source": [
    "x = 1.4\n",
    "y = 2.6\n",
    "\n",
    "print(math.trunc(x), math.trunc(y))\n",
    "print(math.trunc(-x), math.trunc(-y))"
   ]
  },
  {
   "cell_type": "code",
   "execution_count": null,
   "id": "64b2fb4d-57c8-47de-bd1c-29d5026b25c0",
   "metadata": {},
   "outputs": [],
   "source": []
  }
 ],
 "metadata": {
  "kernelspec": {
   "display_name": "Python 3 (ipykernel)",
   "language": "python",
   "name": "python3"
  },
  "language_info": {
   "codemirror_mode": {
    "name": "ipython",
    "version": 3
   },
   "file_extension": ".py",
   "mimetype": "text/x-python",
   "name": "python",
   "nbconvert_exporter": "python",
   "pygments_lexer": "ipython3",
   "version": "3.12.3"
  }
 },
 "nbformat": 4,
 "nbformat_minor": 5
}
