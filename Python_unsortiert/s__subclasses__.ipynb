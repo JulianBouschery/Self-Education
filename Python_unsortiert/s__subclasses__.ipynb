{
 "cells": [
  {
   "cell_type": "markdown",
   "id": "f5b229ac-ebb8-4c96-8170-77d98425eccb",
   "metadata": {},
   "source": [
    "# `.__subclasses__()`"
   ]
  },
  {
   "cell_type": "markdown",
   "id": "02530d5e-1679-4234-af41-b587cb98197a",
   "metadata": {},
   "source": [
    "Die `.__subclasses__()` Methode gibt eine Liste aller direkten Unterklassen einer Klasse zurückgibt. Dies ermöglicht es, die Vererbungshierarchie zu analysieren und alle Klassen zu identifizieren, die von einer bestimmten Basisklasse abgeleitet sind. Die Methode wird auf eine Klasse angewandt und gibt eine Liste der direkten Unterklassen dieser Klasse zurück."
   ]
  },
  {
   "cell_type": "markdown",
   "id": "38977c66-12d2-4f0f-a546-2a37ca32707c",
   "metadata": {},
   "source": [
    "Beispiel:"
   ]
  },
  {
   "cell_type": "code",
   "execution_count": 7,
   "id": "62be6fba-7b3d-4f53-b3f0-5e0b32a27fee",
   "metadata": {},
   "outputs": [
    {
     "name": "stdout",
     "output_type": "stream",
     "text": [
      "[<class '__main__.Mid'>, <class '__main__.Spezial'>]\n",
      "[<class '__main__.Bottom'>]\n",
      "[]\n",
      "[]\n"
     ]
    }
   ],
   "source": [
    "class Top:\n",
    "    pass\n",
    "\n",
    "class Mid(Top):\n",
    "    pass\n",
    "\n",
    "class Bottom(Mid):\n",
    "    pass\n",
    "    \n",
    "class Spezial(Top):\n",
    "    pass\n",
    "\n",
    "print(Top.__subclasses__())\n",
    "print(Mid.__subclasses__())\n",
    "print(Bottom.__subclasses__())\n",
    "print(Spezial.__subclasses__())"
   ]
  },
  {
   "cell_type": "code",
   "execution_count": null,
   "id": "d4d8eada-95a6-4da7-b9aa-6dcc79da5cdc",
   "metadata": {},
   "outputs": [],
   "source": []
  }
 ],
 "metadata": {
  "kernelspec": {
   "display_name": "Python 3 (ipykernel)",
   "language": "python",
   "name": "python3"
  },
  "language_info": {
   "codemirror_mode": {
    "name": "ipython",
    "version": 3
   },
   "file_extension": ".py",
   "mimetype": "text/x-python",
   "name": "python",
   "nbconvert_exporter": "python",
   "pygments_lexer": "ipython3",
   "version": "3.12.4"
  }
 },
 "nbformat": 4,
 "nbformat_minor": 5
}
