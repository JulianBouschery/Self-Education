{
 "cells": [
  {
   "cell_type": "markdown",
   "id": "7bf270f9-d64e-48a0-9016-305e9470ed4a",
   "metadata": {},
   "source": [
    "[Zurück zum Inhaltsverzeichnis](_Inhaltsverzeichnis_.ipynb)"
   ]
  },
  {
   "cell_type": "markdown",
   "id": "b1e249ed-86d1-4916-b0ba-a8856441db52",
   "metadata": {},
   "source": [
    "# Ergebnis von Float"
   ]
  },
  {
   "cell_type": "markdown",
   "id": "74fa6757-87b6-40ba-a47a-1bca07ff4fc7",
   "metadata": {},
   "source": [
    "Wenn ein float in der Gleichung ist, ist das Ergebnis auch ein float."
   ]
  },
  {
   "cell_type": "markdown",
   "id": "f41eb309-84ad-4f45-bd4e-565e8ef1e662",
   "metadata": {},
   "source": [
    "Beispiel:"
   ]
  },
  {
   "cell_type": "code",
   "execution_count": 23,
   "id": "44b12593-928a-480b-baf6-629014e8297a",
   "metadata": {
    "scrolled": true
   },
   "outputs": [
    {
     "data": {
      "text/plain": [
       "8.0"
      ]
     },
     "execution_count": 23,
     "metadata": {},
     "output_type": "execute_result"
    }
   ],
   "source": [
    "4 + 4.0"
   ]
  }
 ],
 "metadata": {
  "kernelspec": {
   "display_name": "Python 3 (ipykernel)",
   "language": "python",
   "name": "python3"
  },
  "language_info": {
   "codemirror_mode": {
    "name": "ipython",
    "version": 3
   },
   "file_extension": ".py",
   "mimetype": "text/x-python",
   "name": "python",
   "nbconvert_exporter": "python",
   "pygments_lexer": "ipython3",
   "version": "3.12.3"
  }
 },
 "nbformat": 4,
 "nbformat_minor": 5
}
