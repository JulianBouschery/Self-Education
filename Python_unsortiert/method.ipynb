{
 "cells": [
  {
   "cell_type": "markdown",
   "id": "5e4e9f6f-574b-478b-8524-4336ad9d7b9b",
   "metadata": {},
   "source": [
    "# Methoden"
   ]
  },
  {
   "cell_type": "markdown",
   "id": "372d9bc2-44f1-40fb-9461-4bfced89959f",
   "metadata": {},
   "source": [
    "[Instanzmethoden](inst_merthod.ipynb)"
   ]
  },
  {
   "cell_type": "markdown",
   "id": "520483d5-3da2-42c2-8ea9-7ca09e8b3644",
   "metadata": {},
   "source": [
    "[classmethod](classmethod.ipynb)"
   ]
  },
  {
   "cell_type": "markdown",
   "id": "fdd41612-5267-4145-8f7a-236dbc3ef015",
   "metadata": {},
   "source": [
    "[Statische Methoden](static_method.ipynb)"
   ]
  }
 ],
 "metadata": {
  "kernelspec": {
   "display_name": "Python 3 (ipykernel)",
   "language": "python",
   "name": "python3"
  },
  "language_info": {
   "codemirror_mode": {
    "name": "ipython",
    "version": 3
   },
   "file_extension": ".py",
   "mimetype": "text/x-python",
   "name": "python",
   "nbconvert_exporter": "python",
   "pygments_lexer": "ipython3",
   "version": "3.12.4"
  }
 },
 "nbformat": 4,
 "nbformat_minor": 5
}
