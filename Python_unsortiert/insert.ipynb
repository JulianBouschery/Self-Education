{
 "cells": [
  {
   "cell_type": "markdown",
   "id": "e5c35c35-7c74-4f4a-80f3-ddf09fe9a8dd",
   "metadata": {},
   "source": [
    "[Zurück zum Inhaltsverzeichnis](_Inhaltsverzeichnis_.ipynb)"
   ]
  },
  {
   "cell_type": "markdown",
   "id": "6ffe88e9-8e5c-4dbc-946d-b8bc6c0c2a5a",
   "metadata": {},
   "source": [
    "# insert"
   ]
  },
  {
   "cell_type": "markdown",
   "id": "2e387346-2ef6-4f3a-b741-9056d3251c23",
   "metadata": {},
   "source": [
    "insert ist wie slicen"
   ]
  },
  {
   "cell_type": "markdown",
   "id": "d2168c78-4e7a-4d00-8c38-a0a4735214cf",
   "metadata": {},
   "source": [
    "[Zurück zu Übersicht list Method](list_method.ipynb)"
   ]
  },
  {
   "cell_type": "code",
   "execution_count": null,
   "id": "124a65c9-fadf-4902-8148-8f4d6d919920",
   "metadata": {},
   "outputs": [],
   "source": []
  }
 ],
 "metadata": {
  "kernelspec": {
   "display_name": "Python 3 (ipykernel)",
   "language": "python",
   "name": "python3"
  },
  "language_info": {
   "codemirror_mode": {
    "name": "ipython",
    "version": 3
   },
   "file_extension": ".py",
   "mimetype": "text/x-python",
   "name": "python",
   "nbconvert_exporter": "python",
   "pygments_lexer": "ipython3",
   "version": "3.12.3"
  }
 },
 "nbformat": 4,
 "nbformat_minor": 5
}
