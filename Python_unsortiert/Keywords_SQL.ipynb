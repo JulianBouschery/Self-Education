{
 "cells": [
  {
   "cell_type": "markdown",
   "id": "d44df068-d6fd-49b5-a0d9-6881e7724197",
   "metadata": {},
   "source": [
    "# Keywords in SQL"
   ]
  },
  {
   "cell_type": "markdown",
   "id": "d9da4b5d-9b7e-4d44-ada1-d3b85a0e22db",
   "metadata": {},
   "source": [
    "Hier ist eine Liste der wichtigsten SQL-Keywords. Diese Keywords werden in SQL (Structured Query Language) verwendet, um verschiedene Operationen in einer Datenbank durchzuführen. Die Liste kann je nach SQL-Dialekt leicht variieren, aber die folgenden Keywords sind in den meisten SQL-Implementierungen gängig:\n",
    "\n",
    "1. `ADD`\n",
    "2. `ALL`\n",
    "3. `ALTER`\n",
    "4. `AND`\n",
    "5. `ANY`\n",
    "6. `AS`\n",
    "7. `ASC`\n",
    "8. `BACKUP`\n",
    "9. `BETWEEN`\n",
    "10. `CASE`\n",
    "11. `CHECK`\n",
    "12. `COLUMN`\n",
    "13. `CONSTRAINT`\n",
    "14. `CREATE`\n",
    "15. `DATABASE`\n",
    "16. `DEFAULT`\n",
    "17. `DELETE`\n",
    "18. `DESC`\n",
    "19. `DISTINCT`\n",
    "20. `DROP`\n",
    "21. `EXEC`\n",
    "22. `EXISTS`\n",
    "23. `FOREIGN`\n",
    "24. `FROM`\n",
    "25. `FULL`\n",
    "26. `GROUP`\n",
    "27. `HAVING`\n",
    "28. `IN`\n",
    "29. `INDEX`\n",
    "30. `INNER`\n",
    "31. `INSERT`\n",
    "32. `INTERSECT`\n",
    "33. `INTO`\n",
    "34. `IS`\n",
    "35. `JOIN`\n",
    "36. `LEFT`\n",
    "37. `LIKE`\n",
    "38. `LIMIT`\n",
    "39. `NOT`\n",
    "40. `NULL`\n",
    "41. `ON`\n",
    "42. `OR`\n",
    "43. `ORDER`\n",
    "44. `OUTER`\n",
    "45. `PRIMARY`\n",
    "46. `PROCEDURE`\n",
    "47. `RIGHT`\n",
    "48. `ROWNUM`\n",
    "49. `SELECT`\n",
    "50. `SET`\n",
    "51. `TABLE`\n",
    "52. `TOP`\n",
    "53. `TRUNCATE`\n",
    "54. `UNION`\n",
    "55. `UNIQUE`\n",
    "56. `UPDATE`\n",
    "57. `VALUES`\n",
    "58. `VIEW`\n",
    "59. `WHERE`\n",
    "\n",
    "Diese Liste enthält viele der grundlegenden SQL-Keywords, die in den meisten SQL-basierten Datenbanksystemen (wie MySQL, PostgreSQL, SQL Server und SQLite) verwendet werden. Jedes dieser Keywords hat eine spezifische Funktion und wird in verschiedenen SQL-Abfragen und -Befehlen verwendet, um Datenbankoperationen durchzuführen."
   ]
  },
  {
   "cell_type": "code",
   "execution_count": null,
   "id": "f431387a-6e57-474c-a45d-b4b941f5af31",
   "metadata": {},
   "outputs": [],
   "source": []
  }
 ],
 "metadata": {
  "kernelspec": {
   "display_name": "Python 3 (ipykernel)",
   "language": "python",
   "name": "python3"
  },
  "language_info": {
   "codemirror_mode": {
    "name": "ipython",
    "version": 3
   },
   "file_extension": ".py",
   "mimetype": "text/x-python",
   "name": "python",
   "nbconvert_exporter": "python",
   "pygments_lexer": "ipython3",
   "version": "3.12.4"
  }
 },
 "nbformat": 4,
 "nbformat_minor": 5
}
