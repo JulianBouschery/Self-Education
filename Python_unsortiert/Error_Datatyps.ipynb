{
 "cells": [
  {
   "cell_type": "markdown",
   "id": "b2f2e2e1-981f-4dbe-b5c8-cba22d5c9d75",
   "metadata": {},
   "source": [
    "## Das ganze nochmal aus dem Python Essentials 2"
   ]
  },
  {
   "cell_type": "markdown",
   "id": "73ba8a91-ebce-4d6b-95c4-41388ea5b869",
   "metadata": {},
   "source": [
    "Diese Struktur zeigt die Hauptdatentypen in Python und die typischen Fehlermeldungen, die bei deren Verwendung auftreten können."
   ]
  },
  {
   "cell_type": "markdown",
   "id": "1a353f1b-0c31-4a45-ab0d-8a9a0ca49290",
   "metadata": {},
   "source": [
    "```python\n",
    "Datentypen in Python\n",
    "│\n",
    "├── Primitive Datentypen\n",
    "│   ├── Integer (`int`)\n",
    "│   │   └── OverflowError: Tritt auf, wenn eine Operation ein zu großes Ergebnis produziert.\n",
    "│   │\n",
    "│   ├── Floating Point Number (`float`)\n",
    "│   │   ├── OverflowError: Tritt auf, wenn ein Ergebnis zu groß ist.\n",
    "│   │   └── ZeroDivisionError: Tritt auf, wenn eine Division durch Null durchgeführt wird.\n",
    "│   │\n",
    "│   ├── Complex Number (`complex`)\n",
    "│   │   └── Keine speziellen Fehlermeldungen.\n",
    "│   │\n",
    "│   ├── Boolean (`bool`)\n",
    "│   │   └── TypeError: Tritt auf, wenn ein boolescher Wert in einer ungültigen Operation verwendet wird.\n",
    "│   │\n",
    "│   └── String (`str`)\n",
    "│       ├── IndexError: Tritt auf, wenn auf einen ungültigen Index zugegriffen wird.\n",
    "│       └── TypeError: Tritt auf, wenn ein String in einer ungültigen Operation verwendet wird.\n",
    "│\n",
    "├── Sequenzielle Datentypen\n",
    "│   ├── List (`list`)\n",
    "│   │   ├── IndexError: Tritt auf, wenn auf einen ungültigen Index zugegriffen wird.\n",
    "│   │   └── TypeError: Tritt auf, wenn ein falscher Typ für eine Listenoperation verwendet wird.\n",
    "│   │\n",
    "│   ├── Tuple (`tuple`)\n",
    "│   │   └── TypeError: Tritt auf, wenn versucht wird, ein unveränderliches Tuple zu ändern.\n",
    "│   │\n",
    "│   └── Range (`range`)\n",
    "│       └── TypeError: Tritt auf, wenn ein ungültiger Typ verwendet wird.\n",
    "│\n",
    "├── Mapping Datentypen\n",
    "│   └── Dictionary (`dict`)\n",
    "│       └── KeyError: Tritt auf, wenn versucht wird, auf einen nicht vorhandenen Schlüssel zuzugreifen.\n",
    "│\n",
    "├── Set Datentypen\n",
    "│   ├── Set (`set`)\n",
    "│   │   └── KeyError: Tritt auf, wenn versucht wird, ein nicht vorhandenes Element zu entfernen.\n",
    "│   │\n",
    "│   └── Frozen Set (`frozenset`)\n",
    "│       └── TypeError: Tritt auf, wenn versucht wird, ein unveränderliches Frozenset zu ändern.\n",
    "│\n",
    "└── Andere Datentypen\n",
    "    └── NoneType (`None`)\n",
    "        └── TypeError: Tritt auf, wenn `None` in einer ungültigen Operation verwendet wird.\n",
    "```"
   ]
  },
  {
   "cell_type": "code",
   "execution_count": null,
   "id": "2ef1faa5-95b8-463c-88de-6b32947dc3de",
   "metadata": {},
   "outputs": [],
   "source": []
  }
 ],
 "metadata": {
  "kernelspec": {
   "display_name": "Python 3 (ipykernel)",
   "language": "python",
   "name": "python3"
  },
  "language_info": {
   "codemirror_mode": {
    "name": "ipython",
    "version": 3
   },
   "file_extension": ".py",
   "mimetype": "text/x-python",
   "name": "python",
   "nbconvert_exporter": "python",
   "pygments_lexer": "ipython3",
   "version": "3.12.4"
  }
 },
 "nbformat": 4,
 "nbformat_minor": 5
}
