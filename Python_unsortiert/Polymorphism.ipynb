{
 "cells": [
  {
   "cell_type": "markdown",
   "id": "7743485f-fd9b-4ff1-b21a-5891f34a89a1",
   "metadata": {},
   "source": [
    "# Polymorphism"
   ]
  },
  {
   "cell_type": "markdown",
   "id": "c7bc3fa5-0709-49e0-aff4-548e202743f7",
   "metadata": {},
   "source": [
    "Polymorphism (Polymorphismus) ist ein Mechanismus, der es dem Programmierer ermöglicht, das Verhalten einer beliebigen Oberklasse eines Objekts zu ändern, ohne diese Klasse selbst zu ändern."
   ]
  },
  {
   "cell_type": "markdown",
   "id": "3d70331e-07c0-4930-ba0b-8c8162e6fa94",
   "metadata": {},
   "source": [
    "1 + 1 ist etwas anderes als \"1\" + \"1\", OBWOHL unter der Haube die gleiche Methode (`__add__()`) verwendet wird."
   ]
  },
  {
   "cell_type": "markdown",
   "id": "01b0a30b-f212-4ce2-b978-8abb30518208",
   "metadata": {},
   "source": [
    "Das ist Polymorphismus.\n",
    "\n",
    "Poly = Viele, \n",
    "\n",
    "Morphis(mus) = Gestalt\n",
    "\n",
    "Viele Gestalten gleicher Name."
   ]
  },
  {
   "cell_type": "markdown",
   "id": "c0b99397-7d3c-4ce6-b025-b2c93a8409de",
   "metadata": {},
   "source": [
    "Polymorphismus ist ein Konzept der objektorientierten Programmierung, bei dem eine Schnittstelle oder Methode verschiedene Implementierungen haben kann, abhängig davon, welches Objekt sie aufruft. Es ermöglicht, dass unterschiedliche Klassen die gleiche Methode auf verschiedene Weise implementieren können.\n",
    "\n",
    "Es gibt zwei Hauptarten von Polymorphismus:\n",
    "1. **Compile-Time Polymorphismus (oder statischer Polymorphismus)**: Dieser wird durch Methodenüberladung erreicht, bei der mehrere Methoden denselben Namen, aber unterschiedliche Parameter haben.\n",
    "2. **Run-Time Polymorphismus (oder dynamischer Polymorphismus)**: Dieser wird durch Methodenüberschreibung erreicht, bei der eine Methode in einer abgeleiteten Klasse eine Methode in der Basisklasse mit demselben Namen und derselben Signatur überschreibt.\n",
    "\n",
    "Beispiel in Python (dynamischer Polymorphismus):\n",
    "\n",
    "```python\n",
    "class Animal:\n",
    "    def make_sound(self):\n",
    "        raise NotImplementedError(\"Subclasses should implement this method.\")\n",
    "\n",
    "class Dog(Animal):\n",
    "    def make_sound(self):\n",
    "        return \"Woof!\"\n",
    "\n",
    "class Cat(Animal):\n",
    "    def make_sound(self):\n",
    "        return \"Meow!\"\n",
    "\n",
    "animals = [Dog(), Cat()]\n",
    "\n",
    "for animal in animals:\n",
    "    print(animal.make_sound())\n",
    "```\n",
    "\n",
    "In diesem Beispiel haben die Klassen `Dog` und `Cat` jeweils ihre eigene Implementierung der Methode `make_sound()`. Obwohl sie unterschiedliche Implementierungen haben, kann die gleiche Schnittstelle (`make_sound`) verwendet werden, um sie aufzurufen. Dies ist Polymorphismus in Aktion."
   ]
  },
  {
   "cell_type": "markdown",
   "id": "95f50ebf-be71-4d02-bebe-6a570f98e6b0",
   "metadata": {},
   "source": [
    "Siehe auch: [Implementierung](Implementation.ipynb)"
   ]
  },
  {
   "cell_type": "code",
   "execution_count": null,
   "id": "70d24a21-e7dd-49a2-b698-0d319b6408cf",
   "metadata": {},
   "outputs": [],
   "source": []
  }
 ],
 "metadata": {
  "kernelspec": {
   "display_name": "Python 3 (ipykernel)",
   "language": "python",
   "name": "python3"
  },
  "language_info": {
   "codemirror_mode": {
    "name": "ipython",
    "version": 3
   },
   "file_extension": ".py",
   "mimetype": "text/x-python",
   "name": "python",
   "nbconvert_exporter": "python",
   "pygments_lexer": "ipython3",
   "version": "3.12.6"
  }
 },
 "nbformat": 4,
 "nbformat_minor": 5
}
