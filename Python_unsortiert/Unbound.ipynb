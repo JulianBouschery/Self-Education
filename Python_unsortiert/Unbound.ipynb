{
 "cells": [
  {
   "cell_type": "markdown",
   "id": "4c3a9236-ec05-4fcc-b27a-d451b6865f7d",
   "metadata": {},
   "source": [
    "## UnboundLocalError"
   ]
  },
  {
   "cell_type": "markdown",
   "id": "7fc07edc-d060-48df-8fff-c501e0131ced",
   "metadata": {},
   "source": [
    "Laut ChatGPT..."
   ]
  },
  {
   "cell_type": "markdown",
   "id": "c3c5a5df-786d-4c31-861f-9371fbfc8a72",
   "metadata": {},
   "source": [
    "Der Fehler `UnboundLocalError` tritt auf, wenn in einer Funktion auf eine lokale Variable zugegriffen wird, BEVOR dieser ein Wert zugewiesen wurde. Dies geschieht typischerweise, wenn Python eine Variable innerhalb einer Funktion als lokal interpretiert, weil sie irgendwo in der Funktion zugewiesen wird, aber an einer Stelle darauf zugegriffen wird, bevor die Zuweisung stattgefunden hat."
   ]
  },
  {
   "cell_type": "markdown",
   "id": "a300216b-6969-4e50-aed5-90c663948bca",
   "metadata": {},
   "source": [
    "### Prüfungsaufgabe:"
   ]
  },
  {
   "cell_type": "markdown",
   "id": "ab0d0866-cbfc-4c79-8856-736373053fce",
   "metadata": {},
   "source": [
    "[Fehler-Code Pythontutor](https://pythontutor.com/render.html#code=x%20%3D%2042%0A%20%20%20%0Adef%20test%28%29%3A%20%0A%20%20x%20%3D%20x%20%25%204%0A%20%20print%28x%29%0A%20%20%20%0Atest%28%29%0Aprint%28x%29&cumulative=false&curInstr=0&heapPrimitives=nevernest&mode=display&origin=opt-frontend.js&py=3&rawInputLstJSON=%5B%5D&textReferences=false)"
   ]
  },
  {
   "cell_type": "code",
   "execution_count": 97,
   "id": "7da1b3a2-e8c5-432b-94e3-ca2cc43db9d8",
   "metadata": {
    "scrolled": true
   },
   "outputs": [
    {
     "ename": "UnboundLocalError",
     "evalue": "cannot access local variable 'x' where it is not associated with a value",
     "output_type": "error",
     "traceback": [
      "\u001b[1;31m---------------------------------------------------------------------------\u001b[0m",
      "\u001b[1;31mUnboundLocalError\u001b[0m                         Traceback (most recent call last)",
      "Cell \u001b[1;32mIn[97], line 7\u001b[0m\n\u001b[0;32m      4\u001b[0m   x \u001b[38;5;241m=\u001b[39m x \u001b[38;5;241m%\u001b[39m \u001b[38;5;241m4\u001b[39m\n\u001b[0;32m      5\u001b[0m   \u001b[38;5;28mprint\u001b[39m(x)\n\u001b[1;32m----> 7\u001b[0m \u001b[43mtest\u001b[49m\u001b[43m(\u001b[49m\u001b[43m)\u001b[49m\n\u001b[0;32m      9\u001b[0m \u001b[38;5;28mprint\u001b[39m(x)\n",
      "Cell \u001b[1;32mIn[97], line 4\u001b[0m, in \u001b[0;36mtest\u001b[1;34m()\u001b[0m\n\u001b[0;32m      3\u001b[0m \u001b[38;5;28;01mdef\u001b[39;00m \u001b[38;5;21mtest\u001b[39m():\n\u001b[1;32m----> 4\u001b[0m   x \u001b[38;5;241m=\u001b[39m \u001b[43mx\u001b[49m \u001b[38;5;241m%\u001b[39m \u001b[38;5;241m4\u001b[39m\n\u001b[0;32m      5\u001b[0m   \u001b[38;5;28mprint\u001b[39m(x)\n",
      "\u001b[1;31mUnboundLocalError\u001b[0m: cannot access local variable 'x' where it is not associated with a value"
     ]
    }
   ],
   "source": [
    "x = 42\n",
    "   \n",
    "def test():\n",
    "  x = x % 4\n",
    "  print(x)\n",
    "   \n",
    "test()\n",
    "   \n",
    "print(x)"
   ]
  },
  {
   "cell_type": "markdown",
   "id": "3a43998b-9103-4cb6-b212-a997fc7e70d1",
   "metadata": {},
   "source": [
    "#### Antwortmöglichkeiten:"
   ]
  },
  {
   "cell_type": "markdown",
   "id": "3956718f-846a-4f79-a108-3474e25818f2",
   "metadata": {},
   "source": [
    "1. 10 2\n",
    "2. Error   # Richtige Lösung\n",
    "3. 42 10\n",
    "4. 2 42    # Meine Wahl"
   ]
  },
  {
   "cell_type": "markdown",
   "id": "c5b3500e-d6b5-4be5-92ac-a3e9767bf4ad",
   "metadata": {},
   "source": [
    "### Analyse:"
   ]
  },
  {
   "cell_type": "markdown",
   "id": "94200897-bec8-4a60-9f24-85aef6efe6cd",
   "metadata": {},
   "source": [
    "Wenn man sich diesen Code anschaut könnte man folgendes denken:"
   ]
  },
  {
   "cell_type": "code",
   "execution_count": 10,
   "id": "7da60534-b916-42ca-bb32-a3d3081c9ce9",
   "metadata": {},
   "outputs": [
    {
     "ename": "UnboundLocalError",
     "evalue": "cannot access local variable 'x' where it is not associated with a value",
     "output_type": "error",
     "traceback": [
      "\u001b[1;31m---------------------------------------------------------------------------\u001b[0m",
      "\u001b[1;31mUnboundLocalError\u001b[0m                         Traceback (most recent call last)",
      "Cell \u001b[1;32mIn[10], line 7\u001b[0m\n\u001b[0;32m      4\u001b[0m   x \u001b[38;5;241m=\u001b[39m x \u001b[38;5;241m%\u001b[39m \u001b[38;5;241m4\u001b[39m \u001b[38;5;66;03m# 3. Die Funktion HAT ZUGRIFF auf die globale Variable x = 42. Siehe Test 1. unten. \u001b[39;00m\n\u001b[0;32m      5\u001b[0m   \u001b[38;5;28mprint\u001b[39m(x)  \u001b[38;5;66;03m# 4. Warum kommt es zu einem UnboundLocalError?\u001b[39;00m\n\u001b[1;32m----> 7\u001b[0m \u001b[43mtest\u001b[49m\u001b[43m(\u001b[49m\u001b[43m)\u001b[49m \u001b[38;5;66;03m# 1. Python ruft die Funktion \"test()\" auf.\u001b[39;00m\n\u001b[0;32m      9\u001b[0m \u001b[38;5;28mprint\u001b[39m(x)\n",
      "Cell \u001b[1;32mIn[10], line 4\u001b[0m, in \u001b[0;36mtest\u001b[1;34m()\u001b[0m\n\u001b[0;32m      3\u001b[0m \u001b[38;5;28;01mdef\u001b[39;00m \u001b[38;5;21mtest\u001b[39m(): \u001b[38;5;66;03m# 2. Die Funktion wird aufgeruf, was auch ohne Argument möglich ist.\u001b[39;00m\n\u001b[1;32m----> 4\u001b[0m   x \u001b[38;5;241m=\u001b[39m \u001b[43mx\u001b[49m \u001b[38;5;241m%\u001b[39m \u001b[38;5;241m4\u001b[39m \u001b[38;5;66;03m# 3. Die Funktion HAT ZUGRIFF auf die globale Variable x = 42. Siehe Test 1. unten. \u001b[39;00m\n\u001b[0;32m      5\u001b[0m   \u001b[38;5;28mprint\u001b[39m(x)\n",
      "\u001b[1;31mUnboundLocalError\u001b[0m: cannot access local variable 'x' where it is not associated with a value"
     ]
    }
   ],
   "source": [
    "x = 42\n",
    "   \n",
    "def test(): # 2. Die Funktion wird aufgeruf, was auch ohne Argument möglich ist.\n",
    "  x = x % 4 # 3. Die Funktion HAT ZUGRIFF auf die globale Variable x = 42. Siehe Test 1. unten. \n",
    "  print(x)  # 4. Warum kommt es zu einem UnboundLocalError?\n",
    "     \n",
    "test() # 1. Python ruft die Funktion \"test()\" auf.\n",
    "   \n",
    "print(x)"
   ]
  },
  {
   "cell_type": "markdown",
   "id": "942abc34-5fb2-42e2-8cb7-abbd13311264",
   "metadata": {},
   "source": [
    "Zur besseren Lesbarkeit habe ich die Variablen in `x1` und `x2` umbenannt."
   ]
  },
  {
   "cell_type": "code",
   "execution_count": null,
   "id": "50ec2a51-c462-485a-83a2-34c3a666ae82",
   "metadata": {},
   "outputs": [],
   "source": [
    "x = 42 \n",
    "\n",
    "def test():\n",
    "  x1 = x2 % 4 \n",
    "  print(x1)\n",
    "     \n",
    "test()\n",
    "   \n",
    "print(x)"
   ]
  },
  {
   "cell_type": "markdown",
   "id": "c3bd47c8-136f-4ef6-ba25-d802188d73f7",
   "metadata": {},
   "source": [
    "Ich denke, dass Python den Code wie folgt interpretiert:                                                                   \n",
    "Weise der Variable `x1` den Wert zu, der beim Ausdruck `(x2 % 4)` herauskommt.                                                  \n",
    "Und `x2` hat teoretisch Zugriff auf auf die globale Variable\n",
    "`x = 42` haben.                                                                                                    \n",
    "Aber aus irgendeinem Grund wird ein Fehler geworfen, BEVOR Python prüft ob es die globale Variable `x = 42` gibt... \n",
    "\n",
    "Oder Python sieht die globale Variable `x = 42` aber priorisiert die Variable `x` im Namespace der Funktion, selbst wenn diese nicht definiert ist und zu einem Fehler führt..."
   ]
  },
  {
   "cell_type": "markdown",
   "id": "3ae2e5cd-2b6b-402c-8613-99faf2f58594",
   "metadata": {},
   "source": [
    "Lösung von ChatGPT:\n",
    "\n",
    "Innerhalb der Funktion `test()` wird versucht, die Variable `x` zu verwenden und zu verändern, BEVOR sie innerhalb des Funktionsscopes definiert wurde. Durch die unterschiedlichen Namensräume weiß Python nicht, dass es `x` aus der globalen Variable `x = 42` verwenden soll, wenn diese Variable nicht exlizit beim Funktionsaufruf als Argument übergeben wird. Das führt zu einem UnboundLocalError."
   ]
  },
  {
   "cell_type": "markdown",
   "id": "6c69f564-1884-4115-88d1-69eea144b711",
   "metadata": {
    "jp-MarkdownHeadingCollapsed": true
   },
   "source": [
    "### Vermutung:"
   ]
  },
  {
   "cell_type": "code",
   "execution_count": null,
   "id": "44d7273b-eb05-4541-973f-5ffe49160bc8",
   "metadata": {},
   "outputs": [],
   "source": [
    "x = 42 \n",
    "\n",
    "def test():\n",
    "  x = x % 4 \n",
    "  print(x)\n",
    "     \n",
    "test()\n",
    "   \n",
    "print(x)"
   ]
  },
  {
   "cell_type": "markdown",
   "id": "c85ea38d-f1ce-4765-abe7-142ec5ff4b4c",
   "metadata": {},
   "source": [
    "Python sucht offenbar zuerst in der Funktion selbst nach x. Er findet x = x % 4, merkt dass diese Gleichung nicht gelöst werden kann, da ein Wert fehlt der x zugewiesen wird und wirft den UnboundLocalError.\n",
    "\n",
    "oder\n",
    "\n",
    "Entweder Python beginnt eine Rekursive Endlosschleife, stellt dann fest, dass das nicht funktioniert und wirft dann den UnboundLocalError."
   ]
  },
  {
   "cell_type": "markdown",
   "id": "30e0c0e2-6729-423e-83b3-edb754d9bb1f",
   "metadata": {},
   "source": [
    "```python\n",
    "x = x % 4 also setzt Python für x --> x % 4 ein x = (x % 4) % 4\n",
    "    \n",
    "x = ((((x % 4) % 4) % 4) % 4) % 4 etc.\n",
    "```\n",
    "\n",
    "Rekursive Endlosschleife die in einem Fehler endet. Allerdings würde man eher den StackoverflowError erwarten, oder wenigstens RuntimeError... "
   ]
  },
  {
   "cell_type": "markdown",
   "id": "e72a2954-a996-4d9b-97ef-8c538bcbebcc",
   "metadata": {},
   "source": [
    "### Neue Frage:"
   ]
  },
  {
   "cell_type": "markdown",
   "id": "6b67f4c3-1220-4e10-b131-b9ee15721d5f",
   "metadata": {},
   "source": [
    "Was ich nicht verstehe ist, warum der Code keinen UnboundLokalError mehr wirft, wenn man die Variable `x = x % 4` durch `y = x % 4` ersetzt.\n",
    "\n",
    "Die Variable die Probleme macht, dass `x` in `x % 4` hat sich doch garnicht verändert... "
   ]
  },
  {
   "cell_type": "markdown",
   "id": "a13f7f60-1138-4a8a-8270-779fe025714e",
   "metadata": {
    "jp-MarkdownHeadingCollapsed": true
   },
   "source": [
    "### Tests in denen Verschiedene Dinge untersucht werden"
   ]
  },
  {
   "cell_type": "markdown",
   "id": "376874cc-4fcd-477b-bbfa-ae9391d17788",
   "metadata": {},
   "source": [
    "#### Test 1."
   ]
  },
  {
   "cell_type": "markdown",
   "id": "42a3c661-731a-424b-b4bd-40e768e7a643",
   "metadata": {},
   "source": [
    "Können Funktionen auf globale Variablen zugreifen?"
   ]
  },
  {
   "cell_type": "code",
   "execution_count": 6,
   "id": "ed0dfe0f-ee23-4ac3-a3c5-0a2b8e9328de",
   "metadata": {},
   "outputs": [
    {
     "name": "stdout",
     "output_type": "stream",
     "text": [
      "5\n"
     ]
    }
   ],
   "source": [
    "a = 2\n",
    "b = 3\n",
    "\n",
    "def test():\n",
    "    c = a + b\n",
    "    print(c)\n",
    "\n",
    "test()"
   ]
  },
  {
   "cell_type": "markdown",
   "id": "0b84d4e2-a7a2-49f3-b0a7-5dbd0ba77f49",
   "metadata": {},
   "source": [
    "Ja, natürlich können Funktionen auf globale Variablen zugreifen..."
   ]
  },
  {
   "cell_type": "markdown",
   "id": "75648b35-d162-41f4-bb50-f33458a943fa",
   "metadata": {},
   "source": [
    "#### Test 2."
   ]
  },
  {
   "cell_type": "markdown",
   "id": "e84fabd9-4000-4fcd-b32a-061c67735b90",
   "metadata": {},
   "source": [
    "Was würde passieren, wenn die Variablen erst nach dem Aufruf der Funktion definiert werden?"
   ]
  },
  {
   "cell_type": "code",
   "execution_count": 2,
   "id": "86db7a51-3e0c-485e-b00a-c354d168ad01",
   "metadata": {},
   "outputs": [
    {
     "ename": "NameError",
     "evalue": "name 'a' is not defined",
     "output_type": "error",
     "traceback": [
      "\u001b[1;31m---------------------------------------------------------------------------\u001b[0m",
      "\u001b[1;31mNameError\u001b[0m                                 Traceback (most recent call last)",
      "Cell \u001b[1;32mIn[2], line 5\u001b[0m\n\u001b[0;32m      2\u001b[0m     c \u001b[38;5;241m=\u001b[39m a \u001b[38;5;241m+\u001b[39m b\n\u001b[0;32m      3\u001b[0m     \u001b[38;5;28mprint\u001b[39m(c)\n\u001b[1;32m----> 5\u001b[0m \u001b[43mtest\u001b[49m\u001b[43m(\u001b[49m\u001b[43m)\u001b[49m\n\u001b[0;32m      7\u001b[0m a \u001b[38;5;241m=\u001b[39m \u001b[38;5;241m2\u001b[39m\n\u001b[0;32m      8\u001b[0m b \u001b[38;5;241m=\u001b[39m \u001b[38;5;241m3\u001b[39m\n",
      "Cell \u001b[1;32mIn[2], line 2\u001b[0m, in \u001b[0;36mtest\u001b[1;34m()\u001b[0m\n\u001b[0;32m      1\u001b[0m \u001b[38;5;28;01mdef\u001b[39;00m \u001b[38;5;21mtest\u001b[39m():\n\u001b[1;32m----> 2\u001b[0m     c \u001b[38;5;241m=\u001b[39m \u001b[43ma\u001b[49m \u001b[38;5;241m+\u001b[39m b\n\u001b[0;32m      3\u001b[0m     \u001b[38;5;28mprint\u001b[39m(c)\n",
      "\u001b[1;31mNameError\u001b[0m: name 'a' is not defined"
     ]
    }
   ],
   "source": [
    "def test():\n",
    "    c = a + b\n",
    "    print(c)\n",
    "\n",
    "test()\n",
    "\n",
    "a = 2\n",
    "b = 3"
   ]
  },
  {
   "cell_type": "markdown",
   "id": "cf4d3b4f-81f5-4087-a958-79f66b0b6398",
   "metadata": {},
   "source": [
    "Hier entsteht kein UnboundLocalError, sondern ein NameError...\n",
    "Es gibt also einen Enscheidenden Unterschied zwischen diesen beiden Fehlerklassen. Aber welchen?"
   ]
  },
  {
   "cell_type": "markdown",
   "id": "fe047ce4-8aff-44ed-8d51-b35cce2352e5",
   "metadata": {},
   "source": [
    "#### Test 3."
   ]
  },
  {
   "cell_type": "markdown",
   "id": "bfa99360-92d1-4050-b1cd-db6407002275",
   "metadata": {},
   "source": [
    "Vergleich mit geänderter Variable um zu beweisen, dass es sich um unterschiedliche Namensräume handelt."
   ]
  },
  {
   "cell_type": "markdown",
   "id": "960074af-615a-473c-a94f-a5d880fc397e",
   "metadata": {},
   "source": [
    "Aber dann stellt sich die Frage, ob der Namespace überhaupt etwas mit dem UnboundLocalError zutun hat...?"
   ]
  },
  {
   "cell_type": "code",
   "execution_count": 29,
   "id": "041bda5c-b548-4eb4-8e6e-e7b057346eec",
   "metadata": {},
   "outputs": [
    {
     "ename": "UnboundLocalError",
     "evalue": "cannot access local variable 'x' where it is not associated with a value",
     "output_type": "error",
     "traceback": [
      "\u001b[1;31m---------------------------------------------------------------------------\u001b[0m",
      "\u001b[1;31mUnboundLocalError\u001b[0m                         Traceback (most recent call last)",
      "Cell \u001b[1;32mIn[29], line 7\u001b[0m\n\u001b[0;32m      4\u001b[0m   x \u001b[38;5;241m=\u001b[39m x \u001b[38;5;241m%\u001b[39m \u001b[38;5;241m4\u001b[39m \n\u001b[0;32m      5\u001b[0m   \u001b[38;5;28mprint\u001b[39m(x)\n\u001b[1;32m----> 7\u001b[0m \u001b[43mtest\u001b[49m\u001b[43m(\u001b[49m\u001b[43m)\u001b[49m\n\u001b[0;32m      9\u001b[0m \u001b[38;5;28mprint\u001b[39m(x)\n",
      "Cell \u001b[1;32mIn[29], line 4\u001b[0m, in \u001b[0;36mtest\u001b[1;34m()\u001b[0m\n\u001b[0;32m      3\u001b[0m \u001b[38;5;28;01mdef\u001b[39;00m \u001b[38;5;21mtest\u001b[39m():\n\u001b[1;32m----> 4\u001b[0m   x \u001b[38;5;241m=\u001b[39m \u001b[43mx\u001b[49m \u001b[38;5;241m%\u001b[39m \u001b[38;5;241m4\u001b[39m \n\u001b[0;32m      5\u001b[0m   \u001b[38;5;28mprint\u001b[39m(x)\n",
      "\u001b[1;31mUnboundLocalError\u001b[0m: cannot access local variable 'x' where it is not associated with a value"
     ]
    }
   ],
   "source": [
    "y = 42 # Jup, komplett unterschiedliche Namensräume / Variablen\n",
    "    \n",
    "def test():\n",
    "  x = x % 4 \n",
    "  print(x)\n",
    "     \n",
    "test()\n",
    "   \n",
    "print(x)"
   ]
  },
  {
   "cell_type": "markdown",
   "id": "5194f76d-6d64-4e40-b316-4597cf2645a3",
   "metadata": {},
   "source": [
    "#### Test 4."
   ]
  },
  {
   "cell_type": "markdown",
   "id": "95887f55-afb0-4c43-bd6b-16855458828a",
   "metadata": {},
   "source": [
    "Vermutlich gibt es irgendeinen Interne Regel in Python, das erst innerhalb einer Funktion nach Variablen gesucht wird, die für die Funktion verwendet werden können, bevor man auf globale Variablen zurückgreift.  "
   ]
  },
  {
   "cell_type": "code",
   "execution_count": 6,
   "id": "dabbb3ef-5baf-4c4b-b4d1-3c4105e54afd",
   "metadata": {},
   "outputs": [
    {
     "name": "stdout",
     "output_type": "stream",
     "text": [
      "2\n",
      "42\n"
     ]
    }
   ],
   "source": [
    "y = 42\n",
    "    \n",
    "def test():\n",
    "    x = 10 # Wenn x klar als locale Variable definiert wurde gibt es keine Probleme.\n",
    "    x = x % 4 # x = 10 --> 10 % 4 = 2 --> das Ergebnis wird der lokalen Variable x zugewiesen.\n",
    "    print(x) # Die neue lokale Variable x wird gedruckt.\n",
    "     \n",
    "test()\n",
    "   \n",
    "print(y)"
   ]
  },
  {
   "cell_type": "markdown",
   "id": "e728b905-88ca-4856-b2c5-19947e8d2e4a",
   "metadata": {},
   "source": [
    "## Lösung:"
   ]
  },
  {
   "cell_type": "markdown",
   "id": "0c4bd770-64a8-4cc7-b2f5-7096d1381f06",
   "metadata": {},
   "source": [
    "Um den Fehler zu beheben, kann man:"
   ]
  },
  {
   "cell_type": "markdown",
   "id": "87d8be54-ee8e-46e9-b241-9eafc3c0a64c",
   "metadata": {},
   "source": [
    "#### Option 1."
   ]
  },
  {
   "cell_type": "markdown",
   "id": "88a7622a-2609-4c2d-9acf-1b688b0257c3",
   "metadata": {},
   "source": [
    "Die Verwendung einer anderen lokalen Variable"
   ]
  },
  {
   "cell_type": "code",
   "execution_count": 14,
   "id": "53c7ddbb-5e41-4db0-b4a3-8685305f3e56",
   "metadata": {},
   "outputs": [
    {
     "name": "stdout",
     "output_type": "stream",
     "text": [
      "2\n",
      "42\n"
     ]
    }
   ],
   "source": [
    "x = 42\n",
    "\n",
    "def test():\n",
    "    y = x % 4  # Eine neue lokale Variable y wird verwendet und irgendwie greift x hier auf x = 42 \n",
    "    print(y) # Dieser print greift auf die lokale Variable y zu\n",
    "\n",
    "test()\n",
    "print(x)"
   ]
  },
  {
   "cell_type": "markdown",
   "id": "2d33b1bb-319a-4ca0-8905-19888f8cbb58",
   "metadata": {},
   "source": [
    "[Code im Pythontutor](https://pythontutor.com/render.html#code=x%20%3D%2042%0A%20%20%20%0Adef%20test%28%29%3A%20%0A%20%20y%20%3D%20x%20%25%204%0A%20%20print%28y%29%0A%20%20%20%0Atest%28%29%0Aprint%28x%29&cumulative=false&curInstr=0&heapPrimitives=nevernest&mode=display&origin=opt-frontend.js&py=3&rawInputLstJSON=%5B%5D&textReferences=false)"
   ]
  },
  {
   "cell_type": "markdown",
   "id": "762fa56a-89ea-4faa-974c-a39ae96b1070",
   "metadata": {},
   "source": [
    "Vermutlich kommt es in diesem Fall nicht mehr zu einer Verwechslung zwischen dem `\"x\" = x % 4` und `\"x\" = 42`. Python hat innerhalb der Funktion keine Defintion der Variable `x` mehr und greift deshalb brav auf die globale Variable zurück."
   ]
  },
  {
   "cell_type": "markdown",
   "id": "855926b9-b4f7-4a06-8373-c9202e98f52e",
   "metadata": {
    "jp-MarkdownHeadingCollapsed": true
   },
   "source": [
    "#### Option 2."
   ]
  },
  {
   "cell_type": "markdown",
   "id": "fbc52f03-fb55-48a4-b5a3-bc524475ba65",
   "metadata": {},
   "source": [
    "x in der test() x als Parameter definieren und dann als Argument übergeben."
   ]
  },
  {
   "cell_type": "code",
   "execution_count": 20,
   "id": "43c99387-cbf4-4024-9ea5-5130ab4d6f88",
   "metadata": {},
   "outputs": [
    {
     "name": "stdout",
     "output_type": "stream",
     "text": [
      "2\n",
      "42\n"
     ]
    }
   ],
   "source": [
    "x = 42\n",
    "   \n",
    "def test(x): # 2. Die Funktion wird aufgeruf, was auch ohne Argument möglich ist, (wenn auch nicht Sinnvoll)\n",
    "  x = x % 4 # 3. Man sollte meinen, dass x % 4 Zugriff auf die Variable x = 42 hat, \n",
    "  print(x)  # aber offenbar sind das zwei Unterschiedliche durch den Namespace getrennte Variablen.\n",
    "     \n",
    "test(x) # 1. Python ruft die Funktion \"test()\" auf\n",
    "print(x)"
   ]
  },
  {
   "cell_type": "markdown",
   "id": "3ba16a90-7500-43db-9108-b9e26dbcc1b1",
   "metadata": {},
   "source": [
    "Zur besseren Lesbarkeit habe ich x in x1 umbennant."
   ]
  },
  {
   "cell_type": "code",
   "execution_count": 7,
   "id": "868f8a8b-3af9-425f-8d10-838465286780",
   "metadata": {},
   "outputs": [
    {
     "name": "stdout",
     "output_type": "stream",
     "text": [
      "2\n",
      "42\n"
     ]
    }
   ],
   "source": [
    "x1 = 42\n",
    "\n",
    "def test(x1):\n",
    "    x = x1 % 4  \n",
    "    print(x) \n",
    "\n",
    "test(x1)\n",
    "print(x1)"
   ]
  },
  {
   "cell_type": "markdown",
   "id": "9132a33f-f05e-4e35-8511-09d4eb392a15",
   "metadata": {},
   "source": [
    "Dieser Code ist einhervorragendes Beispiel dafür warum man nicht jede Variable x nennen sollte!"
   ]
  }
 ],
 "metadata": {
  "kernelspec": {
   "display_name": "Python 3 (ipykernel)",
   "language": "python",
   "name": "python3"
  },
  "language_info": {
   "codemirror_mode": {
    "name": "ipython",
    "version": 3
   },
   "file_extension": ".py",
   "mimetype": "text/x-python",
   "name": "python",
   "nbconvert_exporter": "python",
   "pygments_lexer": "ipython3",
   "version": "3.12.4"
  }
 },
 "nbformat": 4,
 "nbformat_minor": 5
}
